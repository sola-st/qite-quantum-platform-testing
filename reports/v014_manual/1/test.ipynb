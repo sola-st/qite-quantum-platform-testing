{
 "cells": [
  {
   "cell_type": "code",
   "execution_count": null,
   "metadata": {},
   "outputs": [
    {
     "name": "stdout",
     "output_type": "stream",
     "text": [
      "      \n",
      " 4_0: \n",
      "      \n",
      " 4_1: \n",
      "      \n",
      " 4_2: \n",
      "      \n",
      "c4: 3/\n",
      "      \n",
      "Qiskit-generated QASM:\n",
      "OPENQASM 2.0;\n",
      "include \"qelib1.inc\";\n",
      "qreg reg_4[3];\n",
      "creg c4[3];\n"
     ]
    },
    {
     "ename": "QASMUnsupportedError",
     "evalue": "Invalid register name '4'. QASM register names must begin with a lowercase letter and may only contain lowercase and uppercase letters, numbers, and underscores. Try renaming the register with `rename_units` first.",
     "output_type": "error",
     "traceback": [
      "\u001b[0;31m---------------------------------------------------------------------------\u001b[0m",
      "\u001b[0;31mQASMUnsupportedError\u001b[0m                      Traceback (most recent call last)",
      "Cell \u001b[0;32mIn[6], line 21\u001b[0m\n\u001b[1;32m     19\u001b[0m \u001b[38;5;66;03m# Export Qiskit circuit to Pytket QASM file\u001b[39;00m\n\u001b[1;32m     20\u001b[0m tket_circ \u001b[38;5;241m=\u001b[39m qiskit_to_tk(circuit)\n\u001b[0;32m---> 21\u001b[0m qasm_str_tket \u001b[38;5;241m=\u001b[39m \u001b[43mcircuit_to_qasm_str\u001b[49m\u001b[43m(\u001b[49m\u001b[43mtket_circ\u001b[49m\u001b[43m)\u001b[49m\n\u001b[1;32m     22\u001b[0m file_path_pytket \u001b[38;5;241m=\u001b[39m Path(\u001b[38;5;124m'\u001b[39m\u001b[38;5;124msimple_pytket.qasm\u001b[39m\u001b[38;5;124m'\u001b[39m)\n\u001b[1;32m     23\u001b[0m \u001b[38;5;28;01mwith\u001b[39;00m \u001b[38;5;28mopen\u001b[39m(file_path_pytket, \u001b[38;5;124m'\u001b[39m\u001b[38;5;124mw\u001b[39m\u001b[38;5;124m'\u001b[39m) \u001b[38;5;28;01mas\u001b[39;00m f:\n",
      "File \u001b[0;32m~/.conda/envs/crosspl/lib/python3.10/site-packages/pytket/qasm/qasm.py:1115\u001b[0m, in \u001b[0;36mcircuit_to_qasm_str\u001b[0;34m(circ, header, include_gate_defs, maxwidth)\u001b[0m\n\u001b[1;32m   1100\u001b[0m \u001b[38;5;250m\u001b[39m\u001b[38;5;124;03m\"\"\"Convert a Circuit to QASM and return the string.\u001b[39;00m\n\u001b[1;32m   1101\u001b[0m \n\u001b[1;32m   1102\u001b[0m \u001b[38;5;124;03mClassical bits in the pytket circuit must be singly-indexed.\u001b[39;00m\n\u001b[0;32m   (...)\u001b[0m\n\u001b[1;32m   1111\u001b[0m \u001b[38;5;124;03m:return: qasm string\u001b[39;00m\n\u001b[1;32m   1112\u001b[0m \u001b[38;5;124;03m\"\"\"\u001b[39;00m\n\u001b[1;32m   1114\u001b[0m check_can_convert_circuit(circ, header, maxwidth)\n\u001b[0;32m-> 1115\u001b[0m qasm_writer \u001b[38;5;241m=\u001b[39m \u001b[43mQasmWriter\u001b[49m\u001b[43m(\u001b[49m\n\u001b[1;32m   1116\u001b[0m \u001b[43m    \u001b[49m\u001b[43mcirc\u001b[49m\u001b[38;5;241;43m.\u001b[39;49m\u001b[43mqubits\u001b[49m\u001b[43m,\u001b[49m\u001b[43m \u001b[49m\u001b[43mcirc\u001b[49m\u001b[38;5;241;43m.\u001b[39;49m\u001b[43mbits\u001b[49m\u001b[43m,\u001b[49m\u001b[43m \u001b[49m\u001b[43mheader\u001b[49m\u001b[43m,\u001b[49m\u001b[43m \u001b[49m\u001b[43minclude_gate_defs\u001b[49m\u001b[43m,\u001b[49m\u001b[43m \u001b[49m\u001b[43mmaxwidth\u001b[49m\n\u001b[1;32m   1117\u001b[0m \u001b[43m\u001b[49m\u001b[43m)\u001b[49m\n\u001b[1;32m   1118\u001b[0m circ1 \u001b[38;5;241m=\u001b[39m circ\u001b[38;5;241m.\u001b[39mcopy()\n\u001b[1;32m   1119\u001b[0m DecomposeBoxes()\u001b[38;5;241m.\u001b[39mapply(circ1)\n",
      "File \u001b[0;32m~/.conda/envs/crosspl/lib/python3.10/site-packages/pytket/qasm/qasm.py:1380\u001b[0m, in \u001b[0;36mQasmWriter.__init__\u001b[0;34m(self, qubits, bits, header, include_gate_defs, maxwidth)\u001b[0m\n\u001b[1;32m   1378\u001b[0m \u001b[38;5;28;01mfor\u001b[39;00m reg \u001b[38;5;129;01min\u001b[39;00m \u001b[38;5;28mself\u001b[39m\u001b[38;5;241m.\u001b[39mqregs\u001b[38;5;241m.\u001b[39mvalues():\n\u001b[1;32m   1379\u001b[0m     \u001b[38;5;28;01mif\u001b[39;00m regname_regex\u001b[38;5;241m.\u001b[39mmatch(reg\u001b[38;5;241m.\u001b[39mname) \u001b[38;5;129;01mis\u001b[39;00m \u001b[38;5;28;01mNone\u001b[39;00m:\n\u001b[0;32m-> 1380\u001b[0m         \u001b[38;5;28;01mraise\u001b[39;00m QASMUnsupportedError(\n\u001b[1;32m   1381\u001b[0m             \u001b[38;5;124mf\u001b[39m\u001b[38;5;124m\"\u001b[39m\u001b[38;5;124mInvalid register name \u001b[39m\u001b[38;5;124m'\u001b[39m\u001b[38;5;132;01m{\u001b[39;00mreg\u001b[38;5;241m.\u001b[39mname\u001b[38;5;132;01m}\u001b[39;00m\u001b[38;5;124m'\u001b[39m\u001b[38;5;124m. QASM register names must \u001b[39m\u001b[38;5;124m\"\u001b[39m\n\u001b[1;32m   1382\u001b[0m             \u001b[38;5;124m\"\u001b[39m\u001b[38;5;124mbegin with a lowercase letter and may only contain lowercase \u001b[39m\u001b[38;5;124m\"\u001b[39m\n\u001b[1;32m   1383\u001b[0m             \u001b[38;5;124m\"\u001b[39m\u001b[38;5;124mand uppercase letters, numbers, and underscores. \u001b[39m\u001b[38;5;124m\"\u001b[39m\n\u001b[1;32m   1384\u001b[0m             \u001b[38;5;124m\"\u001b[39m\u001b[38;5;124mTry renaming the register with `rename_units` first.\u001b[39m\u001b[38;5;124m\"\u001b[39m\n\u001b[1;32m   1385\u001b[0m         )\n\u001b[1;32m   1386\u001b[0m \u001b[38;5;28;01mfor\u001b[39;00m bit_reg \u001b[38;5;129;01min\u001b[39;00m \u001b[38;5;28mself\u001b[39m\u001b[38;5;241m.\u001b[39mcregs\u001b[38;5;241m.\u001b[39mvalues():\n\u001b[1;32m   1387\u001b[0m     \u001b[38;5;28;01mif\u001b[39;00m regname_regex\u001b[38;5;241m.\u001b[39mmatch(bit_reg\u001b[38;5;241m.\u001b[39mname) \u001b[38;5;129;01mis\u001b[39;00m \u001b[38;5;28;01mNone\u001b[39;00m:\n",
      "\u001b[0;31mQASMUnsupportedError\u001b[0m: Invalid register name '4'. QASM register names must begin with a lowercase letter and may only contain lowercase and uppercase letters, numbers, and underscores. Try renaming the register with `rename_units` first."
     ]
    }
   ],
   "source": [
    "from qiskit import QuantumRegister, ClassicalRegister, QuantumCircuit\n",
    "from qiskit import qasm2\n",
    "from pytket.extensions.qiskit import qiskit_to_tk\n",
    "from pytket.qasm import circuit_to_qasm_str\n",
    "from pathlib import Path\n",
    "\n",
    "# Create quantum and classical registers with valid names\n",
    "qr = QuantumRegister(3, '4')\n",
    "cr = ClassicalRegister(3, 'c4')\n",
    "circuit = QuantumCircuit(qr, cr)\n",
    "print(circuit.draw(output='text'))\n",
    "\n",
    "# Export Qiskit circuit to QASM file using qasm2\n",
    "qasm_str_qiskit = qasm2.dumps(circuit)\n",
    "print(\"Qiskit-generated QASM:\")\n",
    "print(qasm_str_qiskit)\n",
    "\n",
    "\n",
    "# Export Qiskit circuit to Pytket QASM file\n",
    "tket_circ = qiskit_to_tk(circuit)\n",
    "qasm_str_tket = circuit_to_qasm_str(tket_circ)\n",
    "file_path_pytket = Path('simple_pytket.qasm')\n",
    "with open(file_path_pytket, 'w') as f:\n",
    "    f.write(qasm_str_tket)\n",
    "print(f'Saved the Pytket circuit to {file_path_pytket}')"
   ]
  },
  {
   "cell_type": "code",
   "execution_count": null,
   "metadata": {},
   "outputs": [],
   "source": []
  }
 ],
 "metadata": {
  "kernelspec": {
   "display_name": "crosspl",
   "language": "python",
   "name": "python3"
  },
  "language_info": {
   "codemirror_mode": {
    "name": "ipython",
    "version": 3
   },
   "file_extension": ".py",
   "mimetype": "text/x-python",
   "name": "python",
   "nbconvert_exporter": "python",
   "pygments_lexer": "ipython3",
   "version": "3.10.14"
  }
 },
 "nbformat": 4,
 "nbformat_minor": 2
}
