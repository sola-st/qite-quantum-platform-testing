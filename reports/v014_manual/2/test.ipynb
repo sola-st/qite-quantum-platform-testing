{
 "cells": [
  {
   "cell_type": "code",
   "execution_count": null,
   "metadata": {},
   "outputs": [
    {
     "name": "stdout",
     "output_type": "stream",
     "text": [
      "Saved the Qiskit circuit to example_qiskit.qasm\n",
      "File content:\n",
      "OPENQASM 2.0;\n",
      "include \"qelib1.inc\";\n",
      "opaque delay(param0) q0;\n",
      "qreg q[6];\n",
      "creg c[6];\n",
      "delay(1.0) q[4];\n",
      "\n"
     ]
    },
    {
     "ename": "LangException",
     "evalue": "Unrecognized gate: delay.",
     "output_type": "error",
     "traceback": [
      "\u001b[0;31m---------------------------------------------------------------------------\u001b[0m",
      "\u001b[0;31mLangException\u001b[0m                             Traceback (most recent call last)",
      "Cell \u001b[0;32mIn[2], line 20\u001b[0m\n\u001b[1;32m     17\u001b[0m \u001b[38;5;28mprint\u001b[39m(Path(file_path_qiskit)\u001b[38;5;241m.\u001b[39mread_text())\n\u001b[1;32m     19\u001b[0m \u001b[38;5;66;03m# Import from QASM with Bqskit\u001b[39;00m\n\u001b[0;32m---> 20\u001b[0m bqskit_circuit \u001b[38;5;241m=\u001b[39m \u001b[43mCircuit\u001b[49m\u001b[38;5;241;43m.\u001b[39;49m\u001b[43mfrom_file\u001b[49m\u001b[43m(\u001b[49m\u001b[43mfile_path_qiskit\u001b[49m\u001b[43m)\u001b[49m\n\u001b[1;32m     21\u001b[0m \u001b[38;5;28mprint\u001b[39m(\u001b[38;5;124mf\u001b[39m\u001b[38;5;124m'\u001b[39m\u001b[38;5;124mCircuit (bqskit) imported correctly: \u001b[39m\u001b[38;5;132;01m{\u001b[39;00mfile_path_qiskit\u001b[38;5;132;01m}\u001b[39;00m\u001b[38;5;124m'\u001b[39m)\n",
      "File \u001b[0;32m~/.conda/envs/crosspl/lib/python3.10/site-packages/bqskit/ir/circuit.py:3258\u001b[0m, in \u001b[0;36mCircuit.from_file\u001b[0;34m(filename)\u001b[0m\n\u001b[1;32m   3255\u001b[0m language \u001b[38;5;241m=\u001b[39m get_language(filename\u001b[38;5;241m.\u001b[39msplit(\u001b[38;5;124m'\u001b[39m\u001b[38;5;124m.\u001b[39m\u001b[38;5;124m'\u001b[39m)[\u001b[38;5;241m-\u001b[39m\u001b[38;5;241m1\u001b[39m])\n\u001b[1;32m   3257\u001b[0m \u001b[38;5;28;01mwith\u001b[39;00m \u001b[38;5;28mopen\u001b[39m(filename) \u001b[38;5;28;01mas\u001b[39;00m f:\n\u001b[0;32m-> 3258\u001b[0m     \u001b[38;5;28;01mreturn\u001b[39;00m \u001b[43mlanguage\u001b[49m\u001b[38;5;241;43m.\u001b[39;49m\u001b[43mdecode\u001b[49m\u001b[43m(\u001b[49m\u001b[43mf\u001b[49m\u001b[38;5;241;43m.\u001b[39;49m\u001b[43mread\u001b[49m\u001b[43m(\u001b[49m\u001b[43m)\u001b[49m\u001b[43m)\u001b[49m\n",
      "File \u001b[0;32m~/.conda/envs/crosspl/lib/python3.10/site-packages/bqskit/ir/lang/qasm2/qasm2.py:37\u001b[0m, in \u001b[0;36mOPENQASM2Language.decode\u001b[0;34m(self, source)\u001b[0m\n\u001b[1;32m     35\u001b[0m tree \u001b[38;5;241m=\u001b[39m parse(source)\n\u001b[1;32m     36\u001b[0m visitor \u001b[38;5;241m=\u001b[39m OPENQASMVisitor()\n\u001b[0;32m---> 37\u001b[0m \u001b[43mvisitor\u001b[49m\u001b[38;5;241;43m.\u001b[39;49m\u001b[43mvisit_topdown\u001b[49m\u001b[43m(\u001b[49m\u001b[43mtree\u001b[49m\u001b[43m)\u001b[49m\n\u001b[1;32m     38\u001b[0m \u001b[38;5;28;01mreturn\u001b[39;00m visitor\u001b[38;5;241m.\u001b[39mget_circuit()\n",
      "File \u001b[0;32m~/.conda/envs/crosspl/lib/python3.10/site-packages/lark/visitors.py:375\u001b[0m, in \u001b[0;36mVisitor.visit_topdown\u001b[0;34m(self, tree)\u001b[0m\n\u001b[1;32m    373\u001b[0m \u001b[38;5;124m\"\u001b[39m\u001b[38;5;124mVisit the tree, starting at the root, and ending at the leaves (top-down)\u001b[39m\u001b[38;5;124m\"\u001b[39m\n\u001b[1;32m    374\u001b[0m \u001b[38;5;28;01mfor\u001b[39;00m subtree \u001b[38;5;129;01min\u001b[39;00m tree\u001b[38;5;241m.\u001b[39miter_subtrees_topdown():\n\u001b[0;32m--> 375\u001b[0m     \u001b[38;5;28;43mself\u001b[39;49m\u001b[38;5;241;43m.\u001b[39;49m\u001b[43m_call_userfunc\u001b[49m\u001b[43m(\u001b[49m\u001b[43msubtree\u001b[49m\u001b[43m)\u001b[49m\n\u001b[1;32m    376\u001b[0m \u001b[38;5;28;01mreturn\u001b[39;00m tree\n",
      "File \u001b[0;32m~/.conda/envs/crosspl/lib/python3.10/site-packages/lark/visitors.py:347\u001b[0m, in \u001b[0;36mVisitorBase._call_userfunc\u001b[0;34m(self, tree)\u001b[0m\n\u001b[1;32m    346\u001b[0m \u001b[38;5;28;01mdef\u001b[39;00m \u001b[38;5;21m_call_userfunc\u001b[39m(\u001b[38;5;28mself\u001b[39m, tree):\n\u001b[0;32m--> 347\u001b[0m     \u001b[38;5;28;01mreturn\u001b[39;00m \u001b[38;5;28;43mgetattr\u001b[39;49m\u001b[43m(\u001b[49m\u001b[38;5;28;43mself\u001b[39;49m\u001b[43m,\u001b[49m\u001b[43m \u001b[49m\u001b[43mtree\u001b[49m\u001b[38;5;241;43m.\u001b[39;49m\u001b[43mdata\u001b[49m\u001b[43m,\u001b[49m\u001b[43m \u001b[49m\u001b[38;5;28;43mself\u001b[39;49m\u001b[38;5;241;43m.\u001b[39;49m\u001b[43m__default__\u001b[49m\u001b[43m)\u001b[49m\u001b[43m(\u001b[49m\u001b[43mtree\u001b[49m\u001b[43m)\u001b[49m\n",
      "File \u001b[0;32m~/.conda/envs/crosspl/lib/python3.10/site-packages/bqskit/ir/lang/qasm2/visitor.py:303\u001b[0m, in \u001b[0;36mOPENQASMVisitor.gate\u001b[0;34m(self, tree)\u001b[0m\n\u001b[1;32m    301\u001b[0m     gate_def \u001b[38;5;241m=\u001b[39m \u001b[38;5;28mself\u001b[39m\u001b[38;5;241m.\u001b[39mcustom_gate_defs[gate_name]\n\u001b[1;32m    302\u001b[0m \u001b[38;5;28;01melse\u001b[39;00m:\n\u001b[0;32m--> 303\u001b[0m     \u001b[38;5;28;01mraise\u001b[39;00m LangException(\u001b[38;5;124m'\u001b[39m\u001b[38;5;124mUnrecognized gate: \u001b[39m\u001b[38;5;132;01m%s\u001b[39;00m\u001b[38;5;124m.\u001b[39m\u001b[38;5;124m'\u001b[39m \u001b[38;5;241m%\u001b[39m gate_name)\n\u001b[1;32m    305\u001b[0m \u001b[38;5;28;01mif\u001b[39;00m \u001b[38;5;28mlen\u001b[39m(params) \u001b[38;5;241m!=\u001b[39m gate_def\u001b[38;5;241m.\u001b[39mnum_params:\n\u001b[1;32m    306\u001b[0m     \u001b[38;5;28;01mraise\u001b[39;00m LangException(\n\u001b[1;32m    307\u001b[0m         \u001b[38;5;124m'\u001b[39m\u001b[38;5;124mExpected \u001b[39m\u001b[38;5;132;01m%d\u001b[39;00m\u001b[38;5;124m params got \u001b[39m\u001b[38;5;132;01m%d\u001b[39;00m\u001b[38;5;124m params for gate \u001b[39m\u001b[38;5;132;01m%s\u001b[39;00m\u001b[38;5;124m.\u001b[39m\u001b[38;5;124m'\u001b[39m\n\u001b[1;32m    308\u001b[0m         \u001b[38;5;241m%\u001b[39m (gate_def\u001b[38;5;241m.\u001b[39mnum_params, \u001b[38;5;28mlen\u001b[39m(params), gate_name),\n\u001b[1;32m    309\u001b[0m     )\n",
      "\u001b[0;31mLangException\u001b[0m: Unrecognized gate: delay."
     ]
    }
   ],
   "source": [
    "from qiskit import QuantumCircuit\n",
    "from qiskit import qasm2\n",
    "from bqskit import Circuit\n",
    "from pathlib import Path\n",
    "\n",
    "# Section: Circuit\n",
    "circ = QuantumCircuit(6, 6)\n",
    "circ.delay(1, 4, 's')\n",
    "\n",
    "# Export to QASM with Qiskit\n",
    "file_path_qiskit = 'example_qiskit.qasm'\n",
    "qasm2.dump(circ, file_path_qiskit)\n",
    "print(f'Saved the Qiskit circuit to {file_path_qiskit}')\n",
    "\n",
    "# print file content\n",
    "print('File content:')\n",
    "print(Path(file_path_qiskit).read_text())\n",
    "\n",
    "# Import from QASM with Bqskit\n",
    "bqskit_circuit = Circuit.from_file(file_path_qiskit)\n",
    "print(f'Circuit (bqskit) imported correctly: {file_path_qiskit}')"
   ]
  },
  {
   "cell_type": "code",
   "execution_count": null,
   "metadata": {},
   "outputs": [],
   "source": []
  }
 ],
 "metadata": {
  "kernelspec": {
   "display_name": "crosspl",
   "language": "python",
   "name": "python3"
  },
  "language_info": {
   "codemirror_mode": {
    "name": "ipython",
    "version": 3
   },
   "file_extension": ".py",
   "mimetype": "text/x-python",
   "name": "python",
   "nbconvert_exporter": "python",
   "pygments_lexer": "ipython3",
   "version": "3.10.14"
  }
 },
 "nbformat": 4,
 "nbformat_minor": 2
}
