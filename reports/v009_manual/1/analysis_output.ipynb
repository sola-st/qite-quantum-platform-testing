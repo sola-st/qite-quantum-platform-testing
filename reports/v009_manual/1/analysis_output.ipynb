{
 "cells": [
  {
   "cell_type": "markdown",
   "id": "86a5d02c",
   "metadata": {
    "tags": [
     "papermill-error-cell-tag"
    ]
   },
   "source": [
    "<span style=\"color:red; font-family:Helvetica Neue, Helvetica, Arial, sans-serif; font-size:2em;\">An Exception was encountered at '<a href=\"#papermill-error-cell\">In [7]</a>'.</span>"
   ]
  },
  {
   "cell_type": "code",
   "execution_count": 1,
   "id": "fede4bcf",
   "metadata": {
    "execution": {
     "iopub.execute_input": "2024-11-21T17:11:06.761335Z",
     "iopub.status.busy": "2024-11-21T17:11:06.760946Z",
     "iopub.status.idle": "2024-11-21T17:11:06.767953Z",
     "shell.execute_reply": "2024-11-21T17:11:06.767372Z"
    },
    "papermill": {
     "duration": 0.014318,
     "end_time": "2024-11-21T17:11:06.769106",
     "exception": false,
     "start_time": "2024-11-21T17:11:06.754788",
     "status": "completed"
    },
    "tags": [
     "parameters"
    ]
   },
   "outputs": [],
   "source": [
    "PATH_QASM_A = \"qiskit_circuit_5q_10g_5557_dc52a0_027c07_error_min_qc_qiskit.qasm\"\n",
    "PATH_QASM_B = \"qiskit_circuit_5q_10g_5557_dc52a0_027c07_error_min_qc_bqskit.qasm\"\n",
    "\n",
    "PATH_PYTHON_FILE = \"qiskit_circuit_5q_10g_5557_dc52a0_027c07_error_min.py\""
   ]
  },
  {
   "cell_type": "code",
   "execution_count": null,
   "id": "36a092aa",
   "metadata": {
    "execution": {
     "iopub.execute_input": "2024-11-21T17:11:06.777932Z",
     "iopub.status.busy": "2024-11-21T17:11:06.777407Z",
     "iopub.status.idle": "2024-11-21T17:11:06.781023Z",
     "shell.execute_reply": "2024-11-21T17:11:06.780371Z"
    },
    "papermill": {
     "duration": 0.009773,
     "end_time": "2024-11-21T17:11:06.782161",
     "exception": false,
     "start_time": "2024-11-21T17:11:06.772388",
     "status": "completed"
    },
    "tags": [
     "injected-parameters"
    ]
   },
   "outputs": [],
   "source": [
    "# Parameters\n",
    "PATH_QASM_A = \"../reports/v009/2024_11_21__18_09/qiskit_circuit_5q_10g_5557_dc52a0_027c07_error_min_qc_qiskit.qasm\"\n",
    "PATH_QASM_B = \"../reports/v009/2024_11_21__18_09/qiskit_circuit_5q_10g_5557_dc52a0_027c07_error_min_qc_bqskit.qasm\"\n",
    "PATH_PYTHON_FILE = \"../reports/v009/2024_11_21__18_09/qiskit_circuit_5q_10g_5557_dc52a0_027c07_error_min.py\""
   ]
  },
  {
   "cell_type": "code",
   "execution_count": 3,
   "id": "e118cd5d",
   "metadata": {
    "execution": {
     "iopub.execute_input": "2024-11-21T17:11:06.788388Z",
     "iopub.status.busy": "2024-11-21T17:11:06.787984Z",
     "iopub.status.idle": "2024-11-21T17:11:06.791087Z",
     "shell.execute_reply": "2024-11-21T17:11:06.790443Z"
    },
    "papermill": {
     "duration": 0.008158,
     "end_time": "2024-11-21T17:11:06.793104",
     "exception": false,
     "start_time": "2024-11-21T17:11:06.784946",
     "status": "completed"
    },
    "tags": []
   },
   "outputs": [],
   "source": [
    "# UNCOMMENT TO RUN WITH FILE IN THE CURRENT FOLDER\n",
    "# consider all the imports relative to the current folder\n",
    "\n",
    "# from pathlib import Path\n",
    "# PATH_QASM_A = str(Path(PATH_QASM_A).name)\n",
    "# PATH_QASM_B = str(Path(PATH_QASM_B).name)\n",
    "# PATH_PYTHON_FILE = str(Path(PATH_PYTHON_FILE).name)"
   ]
  },
  {
   "cell_type": "markdown",
   "id": "9866ac36",
   "metadata": {
    "papermill": {
     "duration": 0.002554,
     "end_time": "2024-11-21T17:11:06.798084",
     "exception": false,
     "start_time": "2024-11-21T17:11:06.795530",
     "status": "completed"
    },
    "tags": []
   },
   "source": [
    "## File Content"
   ]
  },
  {
   "cell_type": "code",
   "execution_count": 2,
   "id": "0d111d6b",
   "metadata": {
    "execution": {
     "iopub.execute_input": "2024-11-21T17:11:06.804693Z",
     "iopub.status.busy": "2024-11-21T17:11:06.804047Z",
     "iopub.status.idle": "2024-11-21T17:11:06.815033Z",
     "shell.execute_reply": "2024-11-21T17:11:06.814232Z"
    },
    "papermill": {
     "duration": 0.016815,
     "end_time": "2024-11-21T17:11:06.817169",
     "exception": false,
     "start_time": "2024-11-21T17:11:06.800354",
     "status": "completed"
    },
    "tags": []
   },
   "outputs": [
    {
     "name": "stdout",
     "output_type": "stream",
     "text": [
      "\u001b[32mFilename: \u001b[0m qiskit_circuit_5q_10g_5557_dc52a0_027c07_error_min_qc_qiskit.qasm\n",
      "\u001b[32mOPENQASM 2.0;\n",
      "include \"qelib1.inc\";\n",
      "qreg reg_1_q[5];\n",
      "qreg reg_2_q[4];\n",
      "creg reg_2_c[4];\n",
      "measure reg_2_q[0] -> reg_2_c[0];\n",
      "h reg_2_q[0];\n",
      "\u001b[0m\n",
      "\n",
      "\n",
      "\u001b[34mFilename: \u001b[0m qiskit_circuit_5q_10g_5557_dc52a0_027c07_error_min_qc_bqskit.qasm\n",
      "\u001b[34mOPENQASM 2.0;\n",
      "include \"qelib1.inc\";\n",
      "qreg q[9];\n",
      "creg reg_2_c[4];\n",
      "measure q[0] -> reg_2_c[0];\n",
      "h q[5];\n",
      "\u001b[0m\n",
      "\n",
      "\n",
      "\u001b[35mFilename: \u001b[0m qiskit_circuit_5q_10g_5557_dc52a0_027c07_error_min.py\n",
      "\u001b[35m\n",
      "\n",
      "qc = qasm2.loads(\n",
      "\"\"\"\n",
      "include \"qelib1.inc\";\n",
      "qreg reg_1_q[5];\n",
      "qreg reg_2_q[4];\n",
      "creg reg_2_c[4];\n",
      "measure reg_2_q[0] -> reg_2_c[0];\n",
      "h reg_2_q[0];\n",
      "\"\"\"\n",
      "    , custom_instructions=qasm2.LEGACY_CUSTOM_INSTRUCTIONS)\n",
      "\n",
      "\u001b[0m\n",
      "\n",
      "\n"
     ]
    }
   ],
   "source": [
    "from termcolor import colored\n",
    "\n",
    "\n",
    "def extract_between_tags(content: str, start_tag: str, end_tag: str) -> str:\n",
    "    start_index = content.find(start_tag) + len(start_tag)\n",
    "    end_index = content.find(end_tag)\n",
    "    return content[start_index:end_index]\n",
    "\n",
    "\n",
    "def print_and_return_content(\n",
    "        file_name, color: str, start_tag: str = None, end_tag: str = None) -> str:\n",
    "    print(colored(\"Filename: \", color), file_name)\n",
    "    with open(file_name, \"r\") as f:\n",
    "        content = f.read()\n",
    "        if start_tag and end_tag:\n",
    "            content = extract_between_tags(content, start_tag, end_tag)\n",
    "        print(colored(content, color))\n",
    "    print(\"\\n\")\n",
    "    return content\n",
    "\n",
    "\n",
    "qasm_a_str = print_and_return_content(PATH_QASM_A, color=\"green\")\n",
    "if PATH_QASM_B:\n",
    "    qasm_b_str = print_and_return_content(PATH_QASM_B, color=\"blue\")\n",
    "\n",
    "py_file_str = print_and_return_content(\n",
    "    PATH_PYTHON_FILE, color=\"magenta\", start_tag=\"# <START_GATES>\",\n",
    "    end_tag=\"import os\")"
   ]
  },
  {
   "cell_type": "markdown",
   "id": "85ee0317",
   "metadata": {
    "papermill": {
     "duration": 0.002697,
     "end_time": "2024-11-21T17:11:06.822688",
     "exception": false,
     "start_time": "2024-11-21T17:11:06.819991",
     "status": "completed"
    },
    "tags": []
   },
   "source": [
    "## Circuit Diagram"
   ]
  },
  {
   "cell_type": "code",
   "execution_count": 3,
   "id": "78ef4876",
   "metadata": {
    "execution": {
     "iopub.execute_input": "2024-11-21T17:11:06.829341Z",
     "iopub.status.busy": "2024-11-21T17:11:06.828859Z",
     "iopub.status.idle": "2024-11-21T17:11:07.257609Z",
     "shell.execute_reply": "2024-11-21T17:11:07.256691Z"
    },
    "papermill": {
     "duration": 0.434897,
     "end_time": "2024-11-21T17:11:07.259999",
     "exception": false,
     "start_time": "2024-11-21T17:11:06.825102",
     "status": "completed"
    },
    "tags": []
   },
   "outputs": [
    {
     "name": "stdout",
     "output_type": "stream",
     "text": [
      "                   \n",
      "reg_1_q_0: ────────\n",
      "                   \n",
      "reg_1_q_1: ────────\n",
      "                   \n",
      "reg_1_q_2: ────────\n",
      "                   \n",
      "reg_1_q_3: ────────\n",
      "                   \n",
      "reg_1_q_4: ────────\n",
      "           ┌─┐┌───┐\n",
      "reg_2_q_0: ┤M├┤ H ├\n",
      "           └╥┘└───┘\n",
      "reg_2_q_1: ─╫──────\n",
      "            ║      \n",
      "reg_2_q_2: ─╫──────\n",
      "            ║      \n",
      "reg_2_q_3: ─╫──────\n",
      "            ║      \n",
      "reg_2_c: 4/═╩══════\n",
      "            0      \n",
      "           ┌─┐     \n",
      "      q_0: ┤M├─────\n",
      "           └╥┘     \n",
      "      q_1: ─╫──────\n",
      "            ║      \n",
      "      q_2: ─╫──────\n",
      "            ║      \n",
      "      q_3: ─╫──────\n",
      "            ║      \n",
      "      q_4: ─╫──────\n",
      "            ║ ┌───┐\n",
      "      q_5: ─╫─┤ H ├\n",
      "            ║ └───┘\n",
      "      q_6: ─╫──────\n",
      "            ║      \n",
      "      q_7: ─╫──────\n",
      "            ║      \n",
      "      q_8: ─╫──────\n",
      "            ║      \n",
      "reg_2_c: 4/═╩══════\n",
      "            0      \n"
     ]
    }
   ],
   "source": [
    "from qiskit.qasm2 import load\n",
    "from qiskit import qasm2\n",
    "\n",
    "circuit_a = load(\n",
    "    PATH_QASM_A, custom_instructions=qasm2.LEGACY_CUSTOM_INSTRUCTIONS)\n",
    "print(circuit_a)\n",
    "if PATH_QASM_B:\n",
    "    circuit_b = load(\n",
    "        PATH_QASM_B, custom_instructions=qasm2.LEGACY_CUSTOM_INSTRUCTIONS)\n",
    "    print(circuit_b)"
   ]
  },
  {
   "cell_type": "markdown",
   "id": "d1aef9d6",
   "metadata": {},
   "source": [
    "## Step by Step Import BQSKit"
   ]
  },
  {
   "cell_type": "code",
   "execution_count": null,
   "id": "5d5b020c",
   "metadata": {},
   "outputs": [
    {
     "name": "stdout",
     "output_type": "stream",
     "text": [
      "                   \n",
      "reg_1_q_0: ────────\n",
      "                   \n",
      "reg_1_q_1: ────────\n",
      "                   \n",
      "reg_1_q_2: ────────\n",
      "                   \n",
      "reg_1_q_3: ────────\n",
      "                   \n",
      "reg_1_q_4: ────────\n",
      "           ┌─┐┌───┐\n",
      "reg_2_q_0: ┤M├┤ H ├\n",
      "           └╥┘└───┘\n",
      "reg_2_q_1: ─╫──────\n",
      "            ║      \n",
      "reg_2_q_2: ─╫──────\n",
      "            ║      \n",
      "reg_2_q_3: ─╫──────\n",
      "            ║      \n",
      "reg_2_c: 4/═╩══════\n",
      "            0      \n",
      "Circuit(9)[measurement@(5,), HGate@(5,)]\n"
     ]
    }
   ],
   "source": [
    "from bqskit.ext import qiskit_to_bqskit\n",
    "from qiskit import QuantumCircuit, QuantumRegister, ClassicalRegister\n",
    "from qiskit_aer import AerSimulator\n",
    "from qiskit_ibm_runtime import Session, Sampler\n",
    "from qiskit.transpiler.preset_passmanagers import generate_preset_pass_manager\n",
    "\n",
    "# Section: Circuit\n",
    "from qiskit import qasm2\n",
    "# <START_GATES>\n",
    "\n",
    "qc = qasm2.loads(\n",
    "    \"\"\"\n",
    "include \"qelib1.inc\";\n",
    "qreg reg_1_q[5];\n",
    "qreg reg_2_q[4];\n",
    "creg reg_2_c[4];\n",
    "measure reg_2_q[0] -> reg_2_c[0];\n",
    "h reg_2_q[0];\n",
    "\"\"\", custom_instructions=qasm2.LEGACY_CUSTOM_INSTRUCTIONS)\n",
    "print(qc)\n",
    "\n",
    "bqskit_circ = qiskit_to_bqskit(qc)\n",
    "print(bqskit_circ)"
   ]
  },
  {
   "cell_type": "code",
   "execution_count": null,
   "id": "8849df64",
   "metadata": {},
   "outputs": [
    {
     "name": "stdout",
     "output_type": "stream",
     "text": [
      "Circuit(9)[measurement@(5,), HGate@(5,)]\n"
     ]
    }
   ],
   "source": [
    "# bqskit_circuit = Circuit.from_file(PATH_QASM_A)\n",
    "# print(bqskit_circuit)"
   ]
  },
  {
   "cell_type": "code",
   "execution_count": 26,
   "id": "2b18a24f",
   "metadata": {},
   "outputs": [
    {
     "name": "stdout",
     "output_type": "stream",
     "text": [
      "                   \n",
      "  reg_1_q: ────────\n",
      "           ┌─┐┌───┐\n",
      "reg_2_q_0: ┤M├┤ H ├\n",
      "           └╥┘└───┘\n",
      "reg_2_q_1: ─╫──────\n",
      "            ║      \n",
      "reg_2_c: 2/═╩══════\n",
      "            0      \n",
      "Circuit(3)[measurement@(1,), HGate@(1,)]\n",
      "OPENQASM 2.0;\n",
      "include \"qelib1.inc\";\n",
      "qreg q[3];\n",
      "creg reg_2_c[2];\n",
      "measure q[0] -> reg_2_c[0];\n",
      "h q[1];\n",
      "\n",
      "           ┌─┐     \n",
      "      q_0: ┤M├─────\n",
      "           └╥┘┌───┐\n",
      "      q_1: ─╫─┤ H ├\n",
      "            ║ └───┘\n",
      "      q_2: ─╫──────\n",
      "            ║      \n",
      "reg_2_c: 2/═╩══════\n",
      "            0      \n"
     ]
    },
    {
     "data": {
      "image/png": "[encoded data removed]",
      "text/plain": [
       "<Figure size 362.419x367.889 with 1 Axes>"
      ]
     },
     "execution_count": 26,
     "metadata": {},
     "output_type": "execute_result"
    }
   ],
   "source": [
    "from qiskit import qasm2\n",
    "from bqskit import Circuit\n",
    "import tempfile\n",
    "from qiskit.visualization import circuit_drawer\n",
    "\n",
    "qasm_content = \"\"\"\n",
    "OPENQASM 2.0;\n",
    "include \"qelib1.inc\";\n",
    "qreg reg_1_q[1];\n",
    "qreg reg_2_q[2];\n",
    "creg reg_2_c[2];\n",
    "measure reg_2_q[0] -> reg_2_c[0];\n",
    "h reg_2_q[0];\n",
    "\"\"\"\n",
    "qc_before = qasm2.loads(\n",
    "    qasm_content, custom_instructions=qasm2.LEGACY_CUSTOM_INSTRUCTIONS)\n",
    "print(qc_before)\n",
    "\n",
    "with tempfile.NamedTemporaryFile(delete=False, suffix=\".qasm\") as temp_file:\n",
    "    temp_file.write(qasm_content.encode())\n",
    "    temp_file.flush()  # Ensure the content is written to the file\n",
    "    file_path = temp_file.name\n",
    "    bqskit_circuit = Circuit.from_file(file_path)\n",
    "    print(bqskit_circuit)\n",
    "\n",
    "# export\n",
    "\n",
    "bqskit_circuit.save(\"test_exported_qc_bqskit.qasm\")\n",
    "# print content of file\n",
    "with open(\"test_exported_qc_bqskit.qasm\", \"r\") as f:\n",
    "    print(f.read())\n",
    "\n",
    "qc_after = qasm2.load(\n",
    "    \"test_exported_qc_bqskit.qasm\",\n",
    "    custom_instructions=qasm2.LEGACY_CUSTOM_INSTRUCTIONS)\n",
    "print(qc_after)\n",
    "# Draw the circuit and save as PDF\n",
    "circuit_drawer(qc_after, output='mpl', filename='qc_after.pdf')"
   ]
  },
  {
   "cell_type": "markdown",
   "id": "abce5cb7",
   "metadata": {},
   "source": []
  },
  {
   "cell_type": "markdown",
   "id": "14c0d159",
   "metadata": {
    "papermill": {
     "duration": 0.004474,
     "end_time": "2024-11-21T17:11:07.271161",
     "exception": false,
     "start_time": "2024-11-21T17:11:07.266687",
     "status": "completed"
    },
    "tags": []
   },
   "source": [
    "## Compare Semantics"
   ]
  },
  {
   "cell_type": "markdown",
   "id": "20405daa",
   "metadata": {
    "papermill": {
     "duration": 0.002626,
     "end_time": "2024-11-21T17:11:07.276476",
     "exception": false,
     "start_time": "2024-11-21T17:11:07.273850",
     "status": "completed"
    },
    "tags": []
   },
   "source": [
    "### QCEC Oracle"
   ]
  },
  {
   "cell_type": "code",
   "execution_count": 6,
   "id": "ba369ad1",
   "metadata": {
    "execution": {
     "iopub.execute_input": "2024-11-21T17:11:07.283134Z",
     "iopub.status.busy": "2024-11-21T17:11:07.282639Z",
     "iopub.status.idle": "2024-11-21T17:11:07.312464Z",
     "shell.execute_reply": "2024-11-21T17:11:07.311772Z"
    },
    "papermill": {
     "duration": 0.034918,
     "end_time": "2024-11-21T17:11:07.313894",
     "exception": false,
     "start_time": "2024-11-21T17:11:07.278976",
     "status": "completed"
    },
    "tags": []
   },
   "outputs": [
    {
     "name": "stdout",
     "output_type": "stream",
     "text": [
      "\u001b[35mQCEC result: not_equivalent\u001b[0m\n",
      "{\n",
      "  \"check_time\": 0.007994232,\n",
      "  \"checkers\": [\n",
      "    {\n",
      "      \"checker\": \"decision_diagram_alternating\",\n",
      "      \"equivalence\": \"not_equivalent\",\n",
      "      \"max_nodes\": 5,\n",
      "      \"runtime\": 1.3378e-05\n",
      "    },\n",
      "    {\n",
      "      \"checker\": \"zx\",\n",
      "      \"equivalence\": \"probably_not_equivalent\",\n",
      "      \"runtime\": 1.8031e-05\n",
      "    },\n",
      "    {\n",
      "      \"checker\": \"decision_diagram_simulation\",\n",
      "      \"equivalence\": \"no_information\",\n",
      "      \"max_nodes\": 0,\n",
      "      \"runtime\": 0.0\n",
      "    },\n",
      "    {\n",
      "      \"checker\": \"decision_diagram_simulation\",\n",
      "      \"equivalence\": \"no_information\",\n",
      "      \"max_nodes\": 0,\n",
      "      \"runtime\": 0.0\n",
      "    },\n",
      "    {\n",
      "      \"checker\": \"decision_diagram_simulation\",\n",
      "      \"equivalence\": \"no_information\",\n",
      "      \"max_nodes\": 0,\n",
      "      \"runtime\": 0.0\n",
      "    },\n",
      "    {\n",
      "      \"checker\": \"decision_diagram_simulation\",\n",
      "      \"equivalence\": \"no_information\",\n",
      "      \"max_nodes\": 0,\n",
      "      \"runtime\": 0.0\n",
      "    }\n",
      "  ],\n",
      "  \"circuit1\": {\n",
      "    \"name\": \"qiskit_circuit_5q_10g_5557_dc52a0_027c07_error_min_qc_qiskit\",\n",
      "    \"num_gates\": 1,\n",
      "    \"num_qubits\": 2\n",
      "  },\n",
      "  \"circuit2\": {\n",
      "    \"name\": \"qiskit_circuit_5q_10g_5557_dc52a0_027c07_error_min_qc_bqskit\",\n",
      "    \"num_gates\": 1,\n",
      "    \"num_qubits\": 2\n",
      "  },\n",
      "  \"configuration\": {\n",
      "    \"application\": {\n",
      "      \"alternating\": \"proportional\",\n",
      "      \"simulation\": \"proportional\"\n",
      "    },\n",
      "    \"execution\": {\n",
      "      \"nthreads\": 48,\n",
      "      \"parallel\": true,\n",
      "      \"run_alternating_checker\": true,\n",
      "      \"run_construction_checker\": false,\n",
      "      \"run_simulation_checker\": true,\n",
      "      \"run_zx_checker\": true,\n",
      "      \"tolerance\": 2.2737367544323206e-13\n",
      "    },\n",
      "    \"functionality\": {\n",
      "      \"check_partial_equivalence\": false,\n",
      "      \"trace_threshold\": 1e-08\n",
      "    },\n",
      "    \"optimizations\": {\n",
      "      \"backpropagate_output_permutation\": false,\n",
      "      \"elide_permutations\": true,\n",
      "      \"fuse_consecutive_single_qubit_gates\": true,\n",
      "      \"reconstruct_swaps\": true,\n",
      "      \"remove_diagonal_gates_before_measure\": false,\n",
      "      \"reorder_operations\": true,\n",
      "      \"transform_dynamic_circuit\": true\n",
      "    },\n",
      "    \"parameterized\": {\n",
      "      \"additional_instantiations\": 0,\n",
      "      \"tolerance\": 1e-12\n",
      "    },\n",
      "    \"simulation\": {\n",
      "      \"fidelity_threshold\": 1e-08,\n",
      "      \"max_sims\": 4,\n",
      "      \"seed\": 0,\n",
      "      \"state_type\": \"computational_basis\",\n",
      "      \"store_counterexample_input\": false,\n",
      "      \"store_counterexample_output\": false\n",
      "    }\n",
      "  },\n",
      "  \"equivalence\": \"not_equivalent\",\n",
      "  \"parameterized\": {\n",
      "    \"performed_instantiations\": 0\n",
      "  },\n",
      "  \"preprocessing_time\": 0.000255599,\n",
      "  \"simulations\": {\n",
      "    \"performed\": 0,\n",
      "    \"started\": 4\n",
      "  }\n",
      "}\n"
     ]
    },
    {
     "name": "stderr",
     "output_type": "stream",
     "text": [
      "[QCEC] Warning: at least one of the circuits has garbage qubits, but partial equivalence checking is turned off. In order to take into account the garbage qubits, enable partial equivalence checking. Consult the documentation for moreinformation.\n"
     ]
    }
   ],
   "source": [
    "from mqt import qcec\n",
    "if PATH_QASM_B:\n",
    "    res = qcec.verify(\n",
    "        PATH_QASM_A, PATH_QASM_B,\n",
    "        transform_dynamic_circuit=True)\n",
    "    print(colored(f\"QCEC result: {res.equivalence}\", \"magenta\"))\n",
    "    print(res)"
   ]
  },
  {
   "cell_type": "markdown",
   "id": "a5f58a8e",
   "metadata": {
    "papermill": {
     "duration": 0.003051,
     "end_time": "2024-11-21T17:11:07.320622",
     "exception": false,
     "start_time": "2024-11-21T17:11:07.317571",
     "status": "completed"
    },
    "tags": []
   },
   "source": [
    "### Simulation (Qiskit)"
   ]
  },
  {
   "cell_type": "markdown",
   "id": "f88e0356",
   "metadata": {
    "tags": [
     "papermill-error-cell-tag"
    ]
   },
   "source": [
    "<span id=\"papermill-error-cell\" style=\"color:red; font-family:Helvetica Neue, Helvetica, Arial, sans-serif; font-size:2em;\">Execution using papermill encountered an exception here and stopped:</span>"
   ]
  },
  {
   "cell_type": "code",
   "execution_count": 7,
   "id": "de6a2198",
   "metadata": {
    "execution": {
     "iopub.execute_input": "2024-11-21T17:11:07.327527Z",
     "iopub.status.busy": "2024-11-21T17:11:07.327149Z",
     "iopub.status.idle": "2024-11-21T17:11:07.641521Z",
     "shell.execute_reply": "2024-11-21T17:11:07.640314Z"
    },
    "papermill": {
     "duration": 0.319573,
     "end_time": "2024-11-21T17:11:07.643055",
     "exception": true,
     "start_time": "2024-11-21T17:11:07.323482",
     "status": "failed"
    },
    "tags": []
   },
   "outputs": [
    {
     "ename": "QiskitError",
     "evalue": "'Cannot apply instruction with classical bits: measure'",
     "output_type": "error",
     "traceback": [
      "\u001b[0;31m---------------------------------------------------------------------------\u001b[0m",
      "\u001b[0;31mQiskitError\u001b[0m                               Traceback (most recent call last)",
      "Cell \u001b[0;32mIn[7], line 3\u001b[0m\n\u001b[1;32m      1\u001b[0m \u001b[38;5;28;01mfrom\u001b[39;00m \u001b[38;5;21;01mqiskit\u001b[39;00m\u001b[38;5;21;01m.\u001b[39;00m\u001b[38;5;21;01mquantum_info\u001b[39;00m \u001b[38;5;28;01mimport\u001b[39;00m Statevector\n\u001b[0;32m----> 3\u001b[0m sv_a \u001b[38;5;241m=\u001b[39m \u001b[43mStatevector\u001b[49m\u001b[38;5;241;43m.\u001b[39;49m\u001b[43mfrom_instruction\u001b[49m\u001b[43m(\u001b[49m\u001b[43mcircuit_a\u001b[49m\u001b[43m)\u001b[49m\n\u001b[1;32m      4\u001b[0m \u001b[38;5;28mprint\u001b[39m(colored(PATH_QASM_A, \u001b[38;5;124m\"\u001b[39m\u001b[38;5;124mgreen\u001b[39m\u001b[38;5;124m\"\u001b[39m))\n\u001b[1;32m      5\u001b[0m \u001b[38;5;28mprint\u001b[39m(colored(\u001b[38;5;124m\"\u001b[39m\u001b[38;5;124mStatevector A: \u001b[39m\u001b[38;5;124m\"\u001b[39m, \u001b[38;5;124m\"\u001b[39m\u001b[38;5;124mgreen\u001b[39m\u001b[38;5;124m\"\u001b[39m), sv_a)\n",
      "File \u001b[0;32m~/.conda/envs/crosspl/lib/python3.10/site-packages/qiskit/quantum_info/states/statevector.py:767\u001b[0m, in \u001b[0;36mStatevector.from_instruction\u001b[0;34m(cls, instruction)\u001b[0m\n\u001b[1;32m    765\u001b[0m init[\u001b[38;5;241m0\u001b[39m] \u001b[38;5;241m=\u001b[39m \u001b[38;5;241m1.0\u001b[39m\n\u001b[1;32m    766\u001b[0m vec \u001b[38;5;241m=\u001b[39m Statevector(init, dims\u001b[38;5;241m=\u001b[39minstruction\u001b[38;5;241m.\u001b[39mnum_qubits \u001b[38;5;241m*\u001b[39m (\u001b[38;5;241m2\u001b[39m,))\n\u001b[0;32m--> 767\u001b[0m \u001b[38;5;28;01mreturn\u001b[39;00m \u001b[43mStatevector\u001b[49m\u001b[38;5;241;43m.\u001b[39;49m\u001b[43m_evolve_instruction\u001b[49m\u001b[43m(\u001b[49m\u001b[43mvec\u001b[49m\u001b[43m,\u001b[49m\u001b[43m \u001b[49m\u001b[43minstruction\u001b[49m\u001b[43m)\u001b[49m\n",
      "File \u001b[0;32m~/.conda/envs/crosspl/lib/python3.10/site-packages/qiskit/quantum_info/states/statevector.py:949\u001b[0m, in \u001b[0;36mStatevector._evolve_instruction\u001b[0;34m(statevec, obj, qargs)\u001b[0m\n\u001b[1;32m    947\u001b[0m \u001b[38;5;28;01mfor\u001b[39;00m instruction \u001b[38;5;129;01min\u001b[39;00m obj\u001b[38;5;241m.\u001b[39mdefinition:\n\u001b[1;32m    948\u001b[0m     \u001b[38;5;28;01mif\u001b[39;00m instruction\u001b[38;5;241m.\u001b[39mclbits:\n\u001b[0;32m--> 949\u001b[0m         \u001b[38;5;28;01mraise\u001b[39;00m QiskitError(\n\u001b[1;32m    950\u001b[0m             \u001b[38;5;124mf\u001b[39m\u001b[38;5;124m\"\u001b[39m\u001b[38;5;124mCannot apply instruction with classical bits: \u001b[39m\u001b[38;5;132;01m{\u001b[39;00minstruction\u001b[38;5;241m.\u001b[39moperation\u001b[38;5;241m.\u001b[39mname\u001b[38;5;132;01m}\u001b[39;00m\u001b[38;5;124m\"\u001b[39m\n\u001b[1;32m    951\u001b[0m         )\n\u001b[1;32m    952\u001b[0m     \u001b[38;5;66;03m# Get the integer position of the flat register\u001b[39;00m\n\u001b[1;32m    953\u001b[0m     \u001b[38;5;28;01mif\u001b[39;00m qargs \u001b[38;5;129;01mis\u001b[39;00m \u001b[38;5;28;01mNone\u001b[39;00m:\n",
      "\u001b[0;31mQiskitError\u001b[0m: 'Cannot apply instruction with classical bits: measure'"
     ]
    }
   ],
   "source": [
    "from qiskit.quantum_info import Statevector\n",
    "\n",
    "sv_a = Statevector.from_instruction(circuit_a)\n",
    "print(colored(PATH_QASM_A, \"green\"))\n",
    "print(colored(\"Statevector A: \", \"green\"), sv_a)\n",
    "\n",
    "if PATH_QASM_B:\n",
    "    sv_b = Statevector.from_instruction(circuit_b)\n",
    "    print(colored(PATH_QASM_B, \"blue\"))\n",
    "    print(colored(\"Statevector B: \", \"blue\"), sv_b)\n",
    "\n",
    "# compare the statevectors\n",
    "probabilities_a = sv_a.probabilities_dict()\n",
    "print(colored(PATH_QASM_A, \"green\"))\n",
    "print(colored(\"Probabilities A: \", \"green\"), probabilities_a)\n",
    "if PATH_QASM_B:\n",
    "    probabilities_b = sv_b.probabilities_dict()\n",
    "    print(colored(PATH_QASM_B, \"blue\"))\n",
    "    print(colored(\"Probabilities B: \", \"blue\"), probabilities_b)"
   ]
  },
  {
   "cell_type": "code",
   "execution_count": null,
   "id": "405ff294",
   "metadata": {
    "papermill": {
     "duration": null,
     "end_time": null,
     "exception": null,
     "start_time": null,
     "status": "pending"
    },
    "tags": []
   },
   "outputs": [],
   "source": []
  }
 ],
 "metadata": {
  "kernelspec": {
   "display_name": "crosspl",
   "language": "python",
   "name": "python3"
  },
  "language_info": {
   "codemirror_mode": {
    "name": "ipython",
    "version": 3
   },
   "file_extension": ".py",
   "mimetype": "text/x-python",
   "name": "python",
   "nbconvert_exporter": "python",
   "pygments_lexer": "ipython3",
   "version": "3.10.14"
  },
  "papermill": {
   "default_parameters": {},
   "duration": 2.125165,
   "end_time": "2024-11-21T17:11:08.166883",
   "environment_variables": {},
   "exception": true,
   "input_path": "010_Triage_Not_Equivalence.ipynb",
   "output_path": "../reports/v009/2024_11_21__18_09/analysis_output.ipynb",
   "parameters": {
    "PATH_PYTHON_FILE": "../reports/v009/2024_11_21__18_09/qiskit_circuit_5q_10g_5557_dc52a0_027c07_error_min.py",
    "PATH_QASM_A": "../reports/v009/2024_11_21__18_09/qiskit_circuit_5q_10g_5557_dc52a0_027c07_error_min_qc_qiskit.qasm",
    "PATH_QASM_B": "../reports/v009/2024_11_21__18_09/qiskit_circuit_5q_10g_5557_dc52a0_027c07_error_min_qc_bqskit.qasm"
   },
   "start_time": "2024-11-21T17:11:06.041718",
   "version": "2.6.0"
  }
 },
 "nbformat": 4,
 "nbformat_minor": 5
}
