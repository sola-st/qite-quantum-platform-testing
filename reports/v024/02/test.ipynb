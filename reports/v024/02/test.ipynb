{
 "cells": [
  {
   "cell_type": "code",
   "execution_count": null,
   "metadata": {},
   "outputs": [
    {
     "name": "stdout",
     "output_type": "stream",
     "text": [
      "     ┌──────────┐     \n",
      "q_0: ┤ u0(4/pi) ├──■──\n",
      "     └──────────┘  │  \n",
      "q_1: ──────────────■──\n",
      "                   │  \n",
      "q_2: ──────────────■──\n",
      "                   │  \n",
      "q_3: ──────────────■──\n",
      "                 ┌─┴─┐\n",
      "q_4: ────────────┤ X ├\n",
      "                 └───┘\n",
      "Applying FullPeepholeOptimise\n"
     ]
    },
    {
     "ename": "RuntimeError",
     "evalue": "Operation is not a gate: CustomGate",
     "output_type": "error",
     "traceback": [
      "\u001b[0;31m---------------------------------------------------------------------------\u001b[0m",
      "\u001b[0;31mRuntimeError\u001b[0m                              Traceback (most recent call last)",
      "Cell \u001b[0;32mIn[43], line 34\u001b[0m\n\u001b[1;32m     32\u001b[0m \u001b[38;5;28mprint\u001b[39m(\u001b[38;5;124m\"\u001b[39m\u001b[38;5;124mApplying FullPeepholeOptimise\u001b[39m\u001b[38;5;124m\"\u001b[39m)\n\u001b[1;32m     33\u001b[0m i_qc \u001b[38;5;241m=\u001b[39m deepcopy(tket_circ)\n\u001b[0;32m---> 34\u001b[0m \u001b[43moptimization_pass\u001b[49m\u001b[38;5;241;43m.\u001b[39;49m\u001b[43mapply\u001b[49m\u001b[43m(\u001b[49m\u001b[43mi_qc\u001b[49m\u001b[43m)\u001b[49m\n\u001b[1;32m     35\u001b[0m \u001b[38;5;66;03m# OUTPUT\u001b[39;00m\n\u001b[1;32m     36\u001b[0m \u001b[38;5;66;03m# Applying FullPeepholeOptimise\u001b[39;00m\n",
      "\u001b[0;31mRuntimeError\u001b[0m: Operation is not a gate: CustomGate"
     ]
    }
   ],
   "source": [
    "from copy import deepcopy\n",
    "from pytket.passes import FullPeepholeOptimise\n",
    "from pytket.extensions.qiskit import qiskit_to_tk, tk_to_qiskit\n",
    "from pytket.qasm import circuit_from_qasm_str\n",
    "qasm_str = \"\"\"\n",
    "OPENQASM 2.0;\n",
    "include \"qelib1.inc\";\n",
    "qreg q[5];\n",
    "u0(4) q[0];\n",
    "c4x q[0],q[1],q[2],q[3],q[4];\n",
    "\"\"\"\n",
    "tket_circ = circuit_from_qasm_str(qasm_str)\n",
    "\n",
    "qc = tk_to_qiskit(tket_circ)\n",
    "print(qc)\n",
    "# OUTPUT\n",
    "#      ┌──────────┐\n",
    "# q_0: ┤ u0(4/pi) ├──■──\n",
    "#      └──────────┘  │\n",
    "# q_1: ──────────────■──\n",
    "#                    │\n",
    "# q_2: ──────────────■──\n",
    "#                    │\n",
    "# q_3: ──────────────■──\n",
    "#                  ┌─┴─┐\n",
    "# q_4: ────────────┤ X ├\n",
    "#                  └───┘\n",
    "\n",
    "\n",
    "optimization_pass = FullPeepholeOptimise()\n",
    "\n",
    "print(\"Applying FullPeepholeOptimise\")\n",
    "i_qc = deepcopy(tket_circ)\n",
    "optimization_pass.apply(i_qc)\n",
    "# OUTPUT\n",
    "# Applying FullPeepholeOptimise"
   ]
  },
  {
   "cell_type": "code",
   "execution_count": 42,
   "metadata": {},
   "outputs": [
    {
     "name": "stdout",
     "output_type": "stream",
     "text": [
      "Applying FullPeepholeOptimise\n"
     ]
    },
    {
     "ename": "RuntimeError",
     "evalue": "Operation is not a gate: CustomGate",
     "output_type": "error",
     "traceback": [
      "\u001b[0;31m---------------------------------------------------------------------------\u001b[0m",
      "\u001b[0;31mRuntimeError\u001b[0m                              Traceback (most recent call last)",
      "Cell \u001b[0;32mIn[42], line 8\u001b[0m\n\u001b[1;32m      6\u001b[0m \u001b[38;5;28mprint\u001b[39m(\u001b[38;5;124m\"\u001b[39m\u001b[38;5;124mApplying FullPeepholeOptimise\u001b[39m\u001b[38;5;124m\"\u001b[39m)\n\u001b[1;32m      7\u001b[0m i_qc \u001b[38;5;241m=\u001b[39m deepcopy(tket_circ)\n\u001b[0;32m----> 8\u001b[0m \u001b[43moptimization_pass\u001b[49m\u001b[38;5;241;43m.\u001b[39;49m\u001b[43mapply\u001b[49m\u001b[43m(\u001b[49m\u001b[43mi_qc\u001b[49m\u001b[43m)\u001b[49m\n",
      "\u001b[0;31mRuntimeError\u001b[0m: Operation is not a gate: CustomGate"
     ]
    }
   ],
   "source": [
    "from copy import deepcopy\n",
    "from pytket.passes import FullPeepholeOptimise\n",
    "\n",
    "optimization_pass = FullPeepholeOptimise()\n",
    "\n",
    "print(\"Applying FullPeepholeOptimise\")\n",
    "i_qc = deepcopy(tket_circ)\n",
    "optimization_pass.apply(i_qc)"
   ]
  },
  {
   "cell_type": "code",
   "execution_count": 39,
   "metadata": {},
   "outputs": [
    {
     "name": "stdout",
     "output_type": "stream",
     "text": [
      "Applying FullPeepholeOptimise\n"
     ]
    },
    {
     "ename": "RuntimeError",
     "evalue": "Operation is not a gate: CustomGate",
     "output_type": "error",
     "traceback": [
      "\u001b[0;31m---------------------------------------------------------------------------\u001b[0m",
      "\u001b[0;31mRuntimeError\u001b[0m                              Traceback (most recent call last)",
      "Cell \u001b[0;32mIn[39], line 33\u001b[0m\n\u001b[1;32m     31\u001b[0m \u001b[38;5;28mprint\u001b[39m(\u001b[38;5;124mf\u001b[39m\u001b[38;5;124m\"\u001b[39m\u001b[38;5;124mApplying \u001b[39m\u001b[38;5;132;01m{\u001b[39;00mopt_pass_name\u001b[38;5;132;01m}\u001b[39;00m\u001b[38;5;124m\"\u001b[39m)\n\u001b[1;32m     32\u001b[0m i_qc \u001b[38;5;241m=\u001b[39m deepcopy(tket_circ)\n\u001b[0;32m---> 33\u001b[0m \u001b[43moptimization_pass\u001b[49m\u001b[38;5;241;43m.\u001b[39;49m\u001b[43mapply\u001b[49m\u001b[43m(\u001b[49m\u001b[43mi_qc\u001b[49m\u001b[43m)\u001b[49m\n\u001b[1;32m     34\u001b[0m qc_opt \u001b[38;5;241m=\u001b[39m tk_to_qiskit(i_qc)\n\u001b[1;32m     35\u001b[0m \u001b[38;5;66;03m# render_circuit_jupyter(i_qc)\u001b[39;00m\n\u001b[1;32m     36\u001b[0m \u001b[38;5;66;03m# i_opt_circuit_qasm = circuit_to_qasm_str(\u001b[39;00m\n\u001b[1;32m     37\u001b[0m \u001b[38;5;66;03m#     i_qc, header=\"hqslib1\", maxwidth=200)\u001b[39;00m\n\u001b[1;32m     38\u001b[0m \u001b[38;5;66;03m# i_qc, header=\"qelib1\", maxwidth=200)\u001b[39;00m\n",
      "\u001b[0;31mRuntimeError\u001b[0m: Operation is not a gate: CustomGate"
     ]
    }
   ],
   "source": [
    "from copy import deepcopy\n",
    "from pytket.circuit import OpType\n",
    "from pytket.passes import (\n",
    "    FullPeepholeOptimise, PeepholeOptimise2Q, RemoveRedundancies,\n",
    "    EulerAngleReduction, KAKDecomposition,\n",
    "    CliffordPushThroughMeasures, FlattenRegisters,\n",
    "    PauliSimp, GreedyPauliSimp,\n",
    "    OptimisePhaseGadgets,\n",
    "    ZXGraphlikeOptimisation\n",
    ")\n",
    "from pytket.qasm import circuit_to_qasm_str\n",
    "from pytket.circuit.display import render_circuit_jupyter\n",
    "from pytket.extensions.qiskit import qiskit_to_tk, tk_to_qiskit\n",
    "\n",
    "\n",
    "optimization_passes = {\n",
    "    \"FullPeepholeOptimise\": FullPeepholeOptimise(),\n",
    "    # \"PeepholeOptimise2Q\": PeepholeOptimise2Q(),\n",
    "    # \"RemoveRedundancies\": RemoveRedundancies(),\n",
    "    # \"EulerAngleReduction\": EulerAngleReduction(q=OpType.Rz, p=OpType.Rx),\n",
    "    # \"KAKDecomposition\": KAKDecomposition(),\n",
    "    # \"CliffordPushThroughMeasures\": CliffordPushThroughMeasures(),\n",
    "    #     \"FlattenRegisters\": FlattenRegisters(),\n",
    "    #     \"PauliSimp\": PauliSimp(),\n",
    "    #     \"GreedyPauliSimp\": GreedyPauliSimp(),\n",
    "    #     \"OptimisePhaseGadgets\": OptimisePhaseGadgets(),\n",
    "    #     \"ZXGraphlikeOptimisation\": ZXGraphlikeOptimisation()\n",
    "}\n",
    "\n",
    "for opt_pass_name, optimization_pass in optimization_passes.items():\n",
    "    print(f\"Applying {opt_pass_name}\")\n",
    "    i_qc = deepcopy(tket_circ)\n",
    "    optimization_pass.apply(i_qc)\n",
    "    qc_opt = tk_to_qiskit(i_qc)\n",
    "    # render_circuit_jupyter(i_qc)\n",
    "    # i_opt_circuit_qasm = circuit_to_qasm_str(\n",
    "    #     i_qc, header=\"hqslib1\", maxwidth=200)\n",
    "    # i_qc, header=\"qelib1\", maxwidth=200)\n",
    "    print(qc_opt.draw())"
   ]
  },
  {
   "cell_type": "code",
   "execution_count": 37,
   "metadata": {},
   "outputs": [
    {
     "name": "stdout",
     "output_type": "stream",
     "text": [
      "      ┌───┐┌───┐\n",
      "qr_0: ┤ X ├┤ Z ├\n",
      "      └───┘└───┘\n",
      "qr_1: ──────────\n",
      "                \n",
      "cr: 2/══════════\n",
      "                \n",
      "global phase: π/2\n",
      "      ┌───────────────┐\n",
      "qr_0: ┤ U(π,-π/2,π/2) ├\n",
      "      └───────────────┘\n",
      "qr_1: ─────────────────\n",
      "                       \n",
      "cr: 2/═════════════════\n",
      "                       \n",
      "unitary matrices are not equivalent\n",
      "[[ 0.+0.j  1.+0.j  0.+0.j  0.+0.j]\n",
      " [-1.+0.j  0.+0.j  0.+0.j  0.+0.j]\n",
      " [ 0.+0.j  0.+0.j  0.+0.j  1.+0.j]\n",
      " [ 0.+0.j  0.+0.j -1.+0.j  0.+0.j]]\n",
      "[[3.74939946e-33+6.1232340e-17j 1.00000000e+00-1.2246468e-16j\n",
      "  0.00000000e+00+0.0000000e+00j 0.00000000e+00+0.0000000e+00j]\n",
      " [1.00000000e+00+0.0000000e+00j 3.74939946e-33+6.1232340e-17j\n",
      "  0.00000000e+00+0.0000000e+00j 0.00000000e+00+0.0000000e+00j]\n",
      " [0.00000000e+00+0.0000000e+00j 0.00000000e+00+0.0000000e+00j\n",
      "  3.74939946e-33+6.1232340e-17j 1.00000000e+00-1.2246468e-16j]\n",
      " [0.00000000e+00+0.0000000e+00j 0.00000000e+00+0.0000000e+00j\n",
      "  1.00000000e+00+0.0000000e+00j 3.74939946e-33+6.1232340e-17j]]\n",
      "unitary_equivalence:\n",
      "False\n",
      "equivalence:\n",
      "not_equivalent\n"
     ]
    },
    {
     "name": "stderr",
     "output_type": "stream",
     "text": [
      "/tmp/ipykernel_1085421/146943001.py:12: DeprecationWarning: Treating CircuitInstruction as an iterable is deprecated legacy behavior since Qiskit 1.2, and will be removed in Qiskit 2.0. Instead, use the `operation`, `qubits` and `clbits` named attributes.\n",
      "  qc1.data = [gate for gate in qc1.data if gate[0].name != 'measure']\n",
      "/tmp/ipykernel_1085421/146943001.py:13: DeprecationWarning: Treating CircuitInstruction as an iterable is deprecated legacy behavior since Qiskit 1.2, and will be removed in Qiskit 2.0. Instead, use the `operation`, `qubits` and `clbits` named attributes.\n",
      "  qc2.data = [gate for gate in qc2.data if gate[0].name != 'measure']\n"
     ]
    }
   ],
   "source": [
    "from mqt import qcec\n",
    "result = qcec.verify(\n",
    "    qc,\n",
    "    qc_opt,\n",
    "    transform_dynamic_circuit=True)\n",
    "\n",
    "\n",
    "def compare_unitary(qc1, qc2) -> bool:\n",
    "    # remove the measure gates\n",
    "    qc1 = qc1.copy()\n",
    "    qc2 = qc2.copy()\n",
    "    qc1.data = [gate for gate in qc1.data if gate[0].name != 'measure']\n",
    "    qc2.data = [gate for gate in qc2.data if gate[0].name != 'measure']\n",
    "    print(qc1.draw())\n",
    "    print(qc2.draw())\n",
    "\n",
    "    # compare the unitary matrices\n",
    "    from qiskit.quantum_info import Operator\n",
    "    u1 = Operator(qc1).data\n",
    "    u2 = Operator(qc2).data\n",
    "    from numpy import allclose\n",
    "    circuits_are_equivalent = allclose(u1, u2)\n",
    "    if not circuits_are_equivalent:\n",
    "        print(\"unitary matrices are not equivalent\")\n",
    "        print(u1)\n",
    "        print(u2)\n",
    "    return circuits_are_equivalent\n",
    "\n",
    "\n",
    "unitary_equivalence = compare_unitary(qc, qc_opt)\n",
    "print(\"unitary_equivalence:\")\n",
    "print(unitary_equivalence)\n",
    "\n",
    "\n",
    "equivalence = str(result.equivalence)\n",
    "print(\"equivalence:\")\n",
    "print(equivalence)"
   ]
  },
  {
   "cell_type": "code",
   "execution_count": 40,
   "metadata": {},
   "outputs": [
    {
     "name": "stdout",
     "output_type": "stream",
     "text": [
      "\u001b[32mStatevector A: \u001b[0m Statevector([ 0.+0.j, -1.+0.j,  0.+0.j, -0.+0.j],\n",
      "            dims=(2, 2))\n",
      "\u001b[34mStatevector B: \u001b[0m Statevector([3.74939946e-33+6.123234e-17j, 1.00000000e+00+0.000000e+00j,\n",
      "             0.00000000e+00+0.000000e+00j, 0.00000000e+00+0.000000e+00j],\n",
      "            dims=(2, 2))\n",
      "\u001b[32mProbabilities A: \u001b[0m {'01': 1.0}\n",
      "\u001b[34mProbabilities B: \u001b[0m {'00': 3.749399456654644e-33, '01': 1.0}\n"
     ]
    }
   ],
   "source": [
    "from qiskit.transpiler.passes import (\n",
    "    Collect2qBlocks,\n",
    "    ConsolidateBlocks,\n",
    "    UnitarySynthesis,\n",
    "    RemoveFinalMeasurements\n",
    ")\n",
    "from qiskit.transpiler import PassManager\n",
    "from termcolor import colored\n",
    "from qiskit.quantum_info import Statevector\n",
    "circuit_a = qc\n",
    "circuit_b = qc_opt\n",
    "\n",
    "# remove any final measurements\n",
    "circuit_a = deepcopy(circuit_a)\n",
    "circuit_b = deepcopy(circuit_b)\n",
    "\n",
    "\n",
    "basis_gates = [\"rx\", \"ry\", \"rxx\"]\n",
    "translate = PassManager(\n",
    "    [\n",
    "        # Collect2qBlocks(),\n",
    "        # ConsolidateBlocks(basis_gates=basis_gates),\n",
    "        # UnitarySynthesis(basis_gates),\n",
    "        RemoveFinalMeasurements()\n",
    "    ]\n",
    ")\n",
    "circuit_a = translate.run(circuit_a)\n",
    "circuit_b = translate.run(circuit_b)\n",
    "\n",
    "\n",
    "sv_a = Statevector.from_instruction(circuit_a)\n",
    "print(colored(\"Statevector A: \", \"green\"), sv_a)\n",
    "\n",
    "sv_b = Statevector.from_instruction(circuit_b)\n",
    "print(colored(\"Statevector B: \", \"blue\"), sv_b)\n",
    "\n",
    "# compare the statevectors\n",
    "probabilities_a = sv_a.probabilities_dict()\n",
    "print(colored(\"Probabilities A: \", \"green\"), probabilities_a)\n",
    "probabilities_b = sv_b.probabilities_dict()\n",
    "print(colored(\"Probabilities B: \", \"blue\"), probabilities_b)"
   ]
  },
  {
   "cell_type": "code",
   "execution_count": 15,
   "metadata": {},
   "outputs": [
    {
     "name": "stdout",
     "output_type": "stream",
     "text": [
      "unitary_start:\n",
      "[[1.+0.j 0.+0.j 0.+0.j 0.+0.j]\n",
      " [0.+0.j 1.+0.j 0.+0.j 0.+0.j]\n",
      " [0.+0.j 0.+0.j 1.+0.j 0.+0.j]\n",
      " [0.+0.j 0.+0.j 0.+0.j 1.+0.j]]\n",
      "unitary_empty:\n",
      "[[1.+0.j 0.+0.j 0.+0.j 0.+0.j]\n",
      " [0.+0.j 1.+0.j 0.+0.j 0.+0.j]\n",
      " [0.+0.j 0.+0.j 1.+0.j 0.+0.j]\n",
      " [0.+0.j 0.+0.j 0.+0.j 1.+0.j]]\n",
      "unitary_start - unitary_empty:\n",
      "True\n"
     ]
    }
   ],
   "source": [
    "import numpy as np\n",
    "from qiskit.quantum_info import Operator\n",
    "qc_start = QuantumCircuit(2)\n",
    "qc.p(4.465694, 0)\n",
    "\n",
    "qc_empty = QuantumCircuit(2)\n",
    "\n",
    "\n",
    "op_start = Operator(qc_start)\n",
    "unitary_start = op_start.data\n",
    "print(\"unitary_start:\")\n",
    "print(unitary_start)\n",
    "\n",
    "op_empty = Operator(qc_empty)\n",
    "unitary_empty = op_empty.data\n",
    "print(\"unitary_empty:\")\n",
    "print(unitary_empty)\n",
    "\n",
    "print(\"unitary_start - unitary_empty:\")\n",
    "# all close\n",
    "print(np.allclose(unitary_start, unitary_empty))"
   ]
  },
  {
   "cell_type": "code",
   "execution_count": 17,
   "metadata": {},
   "outputs": [
    {
     "name": "stdout",
     "output_type": "stream",
     "text": [
      "equivalence:\n",
      "equivalent\n"
     ]
    }
   ],
   "source": [
    "from mqt import qcec\n",
    "result = qcec.verify(\n",
    "    qc_start,\n",
    "    qc_empty,\n",
    "    transform_dynamic_circuit=True)\n",
    "equivalence = str(result.equivalence)\n",
    "print(\"equivalence:\")\n",
    "print(equivalence)"
   ]
  },
  {
   "cell_type": "code",
   "execution_count": 13,
   "metadata": {},
   "outputs": [
    {
     "name": "stdout",
     "output_type": "stream",
     "text": [
      "Applying RemoveRedundancies\n"
     ]
    },
    {
     "data": {
      "text/html": [
       "\n",
       "\n",
       "\n",
       "\n",
       "\n",
       "\n",
       "<div style=\"resize: vertical; overflow: auto; height: None; display: block\">\n",
       "    <iframe srcdoc=\"\n",
       "&lt;!DOCTYPE html&gt;\n",
       "&lt;html lang=&#34;en&#34;&gt;\n",
       "&lt;head&gt;\n",
       "    &lt;meta charset=&#34;UTF-8&#34;&gt;\n",
       "    &lt;!-- Download Vue 3--&gt;\n",
       "&lt;script type=&#34;application/javascript&#34; src=&#34;https://cdn.jsdelivr.net/npm/vue@3&#34;&gt;&lt;/script&gt;\n",
       "&lt;!-- Download Circuit Renderer with styles --&gt;\n",
       "&lt;script type=&#34;application/javascript&#34; src=&#34;https://unpkg.com/pytket-circuit-renderer@0.10/dist/pytket-circuit-renderer.umd.js&#34;&gt;&lt;/script&gt;\n",
       "&lt;link rel=&#34;stylesheet&#34; href=&#34;https://unpkg.com/pytket-circuit-renderer@0.10/dist/pytket-circuit-renderer.css&#34;&gt;\n",
       "&lt;/head&gt;\n",
       "&lt;body&gt;\n",
       "\n",
       "\n",
       "    &lt;div id=&#34;circuit-display-vue-container-d4951261-5eda-40c5-ba3b-19eebccd770b&#34; class=&#34;pytket-circuit-display-container&#34;&gt;\n",
       "        &lt;div style=&#34;display: none&#34;&gt;\n",
       "            &lt;div id=&#34;circuit-json-to-display&#34;&gt;{&#34;bits&#34;: [[&#34;cr&#34;, [0]], [&#34;cr&#34;, [1]]], &#34;commands&#34;: [{&#34;args&#34;: [[&#34;qr&#34;, [0]], [&#34;cr&#34;, [0]]], &#34;op&#34;: {&#34;type&#34;: &#34;Measure&#34;}}, {&#34;args&#34;: [[&#34;qr&#34;, [1]], [&#34;cr&#34;, [1]]], &#34;op&#34;: {&#34;type&#34;: &#34;Measure&#34;}}], &#34;created_qubits&#34;: [], &#34;discarded_qubits&#34;: [], &#34;implicit_permutation&#34;: [[[&#34;qr&#34;, [0]], [&#34;qr&#34;, [0]]], [[&#34;qr&#34;, [1]], [&#34;qr&#34;, [1]]]], &#34;name&#34;: &#34;qc&#34;, &#34;phase&#34;: &#34;0.0&#34;, &#34;qubits&#34;: [[&#34;qr&#34;, [0]], [&#34;qr&#34;, [1]]]}&lt;/div&gt;\n",
       "        &lt;/div&gt;\n",
       "        &lt;circuit-display-container\n",
       "                :circuit-element-str=&#34;&#39;#circuit-json-to-display&#39;&#34;\n",
       "                :init-render-options=&#34;initRenderOptions&#34;\n",
       "                view-format=&#34;None&#34;\n",
       "        &gt;&lt;/circuit-display-container&gt;\n",
       "    &lt;/div&gt;\n",
       "    &lt;script type=&#34;application/javascript&#34;&gt;\n",
       "      const circuitRendererUid = &#34;d4951261-5eda-40c5-ba3b-19eebccd770b&#34;;\n",
       "      const displayOptions = JSON.parse(&#39;{}&#39;);\n",
       "\n",
       "      // Script to initialise the circuit renderer app\n",
       "\n",
       "const { createApp } = Vue;\n",
       "const circuitDisplayContainer = window[&#34;pytket-circuit-renderer&#34;].default;\n",
       "// Init variables to be shared between circuit display instances\n",
       "if (typeof window.pytketCircuitDisplays === &#34;undefined&#34;) {\n",
       "    window.pytketCircuitDisplays = {};\n",
       "}\n",
       "// Create the root Vue component\n",
       "const app = createApp({\n",
       "    delimiters: [&#39;[[#&#39;, &#39;#]]&#39;],\n",
       "    components: { circuitDisplayContainer },\n",
       "    data () {\n",
       "      return {\n",
       "        initRenderOptions: displayOptions,\n",
       "      }\n",
       "    }\n",
       "})\n",
       "app.config.unwrapInjectedRef = true;\n",
       "app.mount(&#34;#circuit-display-vue-container-&#34;+circuitRendererUid);\n",
       "window.pytketCircuitDisplays[circuitRendererUid] = app;\n",
       "    &lt;/script&gt;\n",
       "\n",
       "\n",
       "\n",
       "&lt;/body&gt;\n",
       "&lt;/html&gt;\n",
       "\"\n",
       "            width=\"100%\" height=\"100%\"\n",
       "            style=\"border: none; outline: none; overflow: auto\"></iframe>\n",
       "</div>\n",
       "\n"
      ],
      "text/plain": [
       "<IPython.core.display.HTML object>"
      ]
     },
     "metadata": {},
     "output_type": "display_data"
    }
   ],
   "source": [
    "from copy import deepcopy\n",
    "from pytket.circuit import OpType\n",
    "from pytket.passes import (\n",
    "    FullPeepholeOptimise, PeepholeOptimise2Q, RemoveRedundancies,\n",
    "    EulerAngleReduction, KAKDecomposition,\n",
    "    CliffordPushThroughMeasures, FlattenRegisters,\n",
    "    PauliSimp, GreedyPauliSimp,\n",
    "    OptimisePhaseGadgets,\n",
    "    ZXGraphlikeOptimisation\n",
    ")\n",
    "from pytket.qasm import circuit_to_qasm_str\n",
    "from pytket.circuit.display import render_circuit_jupyter\n",
    "from pytket.extensions.qiskit import qiskit_to_tk\n",
    "\n",
    "tket_circ = qiskit_to_tk(qc.decompose().decompose())\n",
    "\n",
    "\n",
    "optimization_passes = {\n",
    "    # \"FullPeepholeOptimise\": FullPeepholeOptimise(),\n",
    "    # \"PeepholeOptimise2Q\": PeepholeOptimise2Q(),\n",
    "    \"RemoveRedundancies\": RemoveRedundancies(),\n",
    "    # \"EulerAngleReduction\": EulerAngleReduction(q=OpType.Rz, p=OpType.Rx),\n",
    "    # \"KAKDecomposition\": KAKDecomposition(),\n",
    "    # \"CliffordPushThroughMeasures\": CliffordPushThroughMeasures(),\n",
    "    #     \"FlattenRegisters\": FlattenRegisters(),\n",
    "    #     \"PauliSimp\": PauliSimp(),\n",
    "    #     \"GreedyPauliSimp\": GreedyPauliSimp(),\n",
    "    #     \"OptimisePhaseGadgets\": OptimisePhaseGadgets(),\n",
    "    #     \"ZXGraphlikeOptimisation\": ZXGraphlikeOptimisation()\n",
    "}\n",
    "\n",
    "for opt_pass_name, optimization_pass in optimization_passes.items():\n",
    "    print(f\"Applying {opt_pass_name}\")\n",
    "    i_qc = deepcopy(tket_circ)\n",
    "    optimization_pass.apply(i_qc)\n",
    "    render_circuit_jupyter(i_qc)\n",
    "    # i_opt_circuit_qasm = circuit_to_qasm_str(\n",
    "    #     i_qc, header=\"hqslib1\", maxwidth=200)\n",
    "    # i_qc, header=\"qelib1\", maxwidth=200)"
   ]
  },
  {
   "cell_type": "code",
   "execution_count": null,
   "metadata": {},
   "outputs": [],
   "source": []
  }
 ],
 "metadata": {
  "kernelspec": {
   "display_name": "Python 3",
   "language": "python",
   "name": "python3"
  },
  "language_info": {
   "codemirror_mode": {
    "name": "ipython",
    "version": 3
   },
   "file_extension": ".py",
   "mimetype": "text/x-python",
   "name": "python",
   "nbconvert_exporter": "python",
   "pygments_lexer": "ipython3",
   "version": "3.10.14"
  }
 },
 "nbformat": 4,
 "nbformat_minor": 2
}
