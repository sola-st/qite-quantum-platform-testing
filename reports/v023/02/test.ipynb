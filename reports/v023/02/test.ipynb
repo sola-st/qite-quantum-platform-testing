{
 "cells": [
  {
   "cell_type": "code",
   "execution_count": 19,
   "metadata": {},
   "outputs": [
    {
     "data": {
      "text/plain": [
       "<qiskit.circuit.instructionset.InstructionSet at 0x7f719e0589d0>"
      ]
     },
     "execution_count": 19,
     "metadata": {},
     "output_type": "execute_result"
    }
   ],
   "source": [
    "from qiskit import QuantumRegister, ClassicalRegister, QuantumCircuit\n",
    "qr = QuantumRegister(2, name='qr')\n",
    "cr = ClassicalRegister(2, name='cr')\n",
    "qc = QuantumCircuit(qr, cr, name='qc')\n",
    "# TIMESTAMP: 1738173780.410562\n",
    "\n",
    "# Apply gate operations\n",
    "# <START_GATES>\n",
    "# qc.ccx(qr[5], qr[2], qr[6])\n",
    "qc.ecr(qr[0], qr[1])\n",
    "# qc.cp(1.563586, qr[4], qr[6])\n",
    "# qc.cry(4.092326, qr[10], qr[4])\n",
    "# qc.t(qr[0])\n",
    "# <END_GATES>\n",
    "\n",
    "# Section: Measurement\n",
    "qc.measure(qr, cr)"
   ]
  },
  {
   "cell_type": "code",
   "execution_count": 20,
   "metadata": {},
   "outputs": [],
   "source": [
    "from pytket.extensions.qiskit import qiskit_to_tk\n",
    "\n",
    "tkqc = qiskit_to_tk(qc)"
   ]
  },
  {
   "cell_type": "code",
   "execution_count": 21,
   "metadata": {},
   "outputs": [
    {
     "name": "stdout",
     "output_type": "stream",
     "text": [
      "OPENQASM 2.0;\n",
      "include \"qelib1.inc\";\n",
      "\n",
      "gate ecr ecrq0,ecrq1 {\n",
      "u3(1.0*pi,1.5*pi,1.0*pi) ecrq0;\n",
      "u3(3.5*pi,1.5*pi,0.5*pi) ecrq1;\n",
      "cx ecrq0,ecrq1;\n",
      "}\n",
      "qreg qr[2];\n",
      "creg cr[2];\n",
      "ecr qr[0],qr[1];\n",
      "measure qr[0] -> cr[0];\n",
      "measure qr[1] -> cr[1];\n",
      "\n"
     ]
    }
   ],
   "source": [
    "from pytket.qasm import circuit_to_qasm_str\n",
    "print(circuit_to_qasm_str(tkqc))"
   ]
  },
  {
   "cell_type": "code",
   "execution_count": 23,
   "metadata": {},
   "outputs": [
    {
     "name": "stdout",
     "output_type": "stream",
     "text": [
      "Applying CliffordPushThroughMeasures\n"
     ]
    },
    {
     "data": {
      "text/html": [
       "\n",
       "\n",
       "\n",
       "\n",
       "\n",
       "\n",
       "<div style=\"resize: vertical; overflow: auto; height: None; display: block\">\n",
       "    <iframe srcdoc=\"\n",
       "&lt;!DOCTYPE html&gt;\n",
       "&lt;html lang=&#34;en&#34;&gt;\n",
       "&lt;head&gt;\n",
       "    &lt;meta charset=&#34;UTF-8&#34;&gt;\n",
       "    &lt;!-- Download Vue 3--&gt;\n",
       "&lt;script type=&#34;application/javascript&#34; src=&#34;https://cdn.jsdelivr.net/npm/vue@3&#34;&gt;&lt;/script&gt;\n",
       "&lt;!-- Download Circuit Renderer with styles --&gt;\n",
       "&lt;script type=&#34;application/javascript&#34; src=&#34;https://unpkg.com/pytket-circuit-renderer@0.10/dist/pytket-circuit-renderer.umd.js&#34;&gt;&lt;/script&gt;\n",
       "&lt;link rel=&#34;stylesheet&#34; href=&#34;https://unpkg.com/pytket-circuit-renderer@0.10/dist/pytket-circuit-renderer.css&#34;&gt;\n",
       "&lt;/head&gt;\n",
       "&lt;body&gt;\n",
       "\n",
       "\n",
       "    &lt;div id=&#34;circuit-display-vue-container-a839bea0-dbd0-4827-8322-7c0b55af900c&#34; class=&#34;pytket-circuit-display-container&#34;&gt;\n",
       "        &lt;div style=&#34;display: none&#34;&gt;\n",
       "            &lt;div id=&#34;circuit-json-to-display&#34;&gt;{&#34;bits&#34;: [[&#34;cr&#34;, [0]], [&#34;cr&#34;, [1]], [&#34;permutation_scratch&#34;, [0]], [&#34;permutation_scratch&#34;, [1]], [&#34;permutation_scratch&#34;, [2]]], &#34;commands&#34;: [{&#34;args&#34;: [[&#34;qr&#34;, [0]], [&#34;cr&#34;, [0]]], &#34;op&#34;: {&#34;type&#34;: &#34;Measure&#34;}}, {&#34;args&#34;: [[&#34;qr&#34;, [1]], [&#34;cr&#34;, [1]]], &#34;op&#34;: {&#34;type&#34;: &#34;Measure&#34;}}, {&#34;args&#34;: [[&#34;permutation_scratch&#34;, [2]]], &#34;op&#34;: {&#34;classical&#34;: {&#34;values&#34;: [true]}, &#34;type&#34;: &#34;SetBits&#34;}}, {&#34;args&#34;: [[&#34;cr&#34;, [0]], [&#34;permutation_scratch&#34;, [0]]], &#34;op&#34;: {&#34;classical&#34;: {&#34;n_i&#34;: 1, &#34;name&#34;: &#34;XOR&#34;, &#34;values&#34;: [false, true, true, false]}, &#34;type&#34;: &#34;ExplicitModifier&#34;}}, {&#34;args&#34;: [[&#34;cr&#34;, [1]], [&#34;permutation_scratch&#34;, [1]]], &#34;op&#34;: {&#34;classical&#34;: {&#34;n_i&#34;: 1, &#34;name&#34;: &#34;XOR&#34;, &#34;values&#34;: [false, true, true, false]}, &#34;type&#34;: &#34;ExplicitModifier&#34;}}, {&#34;args&#34;: [[&#34;permutation_scratch&#34;, [0]], [&#34;permutation_scratch&#34;, [1]], [&#34;cr&#34;, [0]], [&#34;cr&#34;, [1]]], &#34;op&#34;: {&#34;classical&#34;: {&#34;n_i&#34;: 2}, &#34;type&#34;: &#34;CopyBits&#34;}}], &#34;created_qubits&#34;: [], &#34;discarded_qubits&#34;: [], &#34;implicit_permutation&#34;: [[[&#34;qr&#34;, [0]], [&#34;qr&#34;, [0]]], [[&#34;qr&#34;, [1]], [&#34;qr&#34;, [1]]]], &#34;name&#34;: &#34;qc&#34;, &#34;phase&#34;: &#34;0.0&#34;, &#34;qubits&#34;: [[&#34;qr&#34;, [0]], [&#34;qr&#34;, [1]]]}&lt;/div&gt;\n",
       "        &lt;/div&gt;\n",
       "        &lt;circuit-display-container\n",
       "                :circuit-element-str=&#34;&#39;#circuit-json-to-display&#39;&#34;\n",
       "                :init-render-options=&#34;initRenderOptions&#34;\n",
       "                view-format=&#34;None&#34;\n",
       "        &gt;&lt;/circuit-display-container&gt;\n",
       "    &lt;/div&gt;\n",
       "    &lt;script type=&#34;application/javascript&#34;&gt;\n",
       "      const circuitRendererUid = &#34;a839bea0-dbd0-4827-8322-7c0b55af900c&#34;;\n",
       "      const displayOptions = JSON.parse(&#39;{}&#39;);\n",
       "\n",
       "      // Script to initialise the circuit renderer app\n",
       "\n",
       "const { createApp } = Vue;\n",
       "const circuitDisplayContainer = window[&#34;pytket-circuit-renderer&#34;].default;\n",
       "// Init variables to be shared between circuit display instances\n",
       "if (typeof window.pytketCircuitDisplays === &#34;undefined&#34;) {\n",
       "    window.pytketCircuitDisplays = {};\n",
       "}\n",
       "// Create the root Vue component\n",
       "const app = createApp({\n",
       "    delimiters: [&#39;[[#&#39;, &#39;#]]&#39;],\n",
       "    components: { circuitDisplayContainer },\n",
       "    data () {\n",
       "      return {\n",
       "        initRenderOptions: displayOptions,\n",
       "      }\n",
       "    }\n",
       "})\n",
       "app.config.unwrapInjectedRef = true;\n",
       "app.mount(&#34;#circuit-display-vue-container-&#34;+circuitRendererUid);\n",
       "window.pytketCircuitDisplays[circuitRendererUid] = app;\n",
       "    &lt;/script&gt;\n",
       "\n",
       "\n",
       "\n",
       "&lt;/body&gt;\n",
       "&lt;/html&gt;\n",
       "\"\n",
       "            width=\"100%\" height=\"100%\"\n",
       "            style=\"border: none; outline: none; overflow: auto\"></iframe>\n",
       "</div>\n",
       "\n"
      ],
      "text/plain": [
       "<IPython.core.display.HTML object>"
      ]
     },
     "metadata": {},
     "output_type": "display_data"
    }
   ],
   "source": [
    "from pytket.circuit.display import render_circuit_jupyter\n",
    "from pytket.qasm import circuit_to_qasm_str\n",
    "from pytket.passes import (\n",
    "    FullPeepholeOptimise, PeepholeOptimise2Q, RemoveRedundancies,\n",
    "    EulerAngleReduction, KAKDecomposition,\n",
    "    CliffordPushThroughMeasures, FlattenRegisters,\n",
    "    PauliSimp, GreedyPauliSimp,\n",
    "    OptimisePhaseGadgets,\n",
    "    ZXGraphlikeOptimisation\n",
    ")\n",
    "from pytket.circuit import OpType\n",
    "from copy import deepcopy\n",
    "\n",
    "optimization_passes = {\n",
    "    # \"FullPeepholeOptimise\": FullPeepholeOptimise(),\n",
    "    # \"PeepholeOptimise2Q\": PeepholeOptimise2Q(),\n",
    "    # \"RemoveRedundancies\": RemoveRedundancies(),\n",
    "    # \"EulerAngleReduction\": EulerAngleReduction(q=OpType.Rz, p=OpType.Rx),\n",
    "    # \"KAKDecomposition\": KAKDecomposition(),\n",
    "    \"CliffordPushThroughMeasures\": CliffordPushThroughMeasures(),\n",
    "    #     \"FlattenRegisters\": FlattenRegisters(),\n",
    "    #     \"PauliSimp\": PauliSimp(),\n",
    "    #     \"GreedyPauliSimp\": GreedyPauliSimp(),\n",
    "    #     \"OptimisePhaseGadgets\": OptimisePhaseGadgets(),\n",
    "    #     \"ZXGraphlikeOptimisation\": ZXGraphlikeOptimisation()\n",
    "}\n",
    "\n",
    "for opt_pass_name, optimization_pass in optimization_passes.items():\n",
    "    print(f\"Applying {opt_pass_name}\")\n",
    "    i_qc = deepcopy(tkqc)\n",
    "    optimization_pass.apply(i_qc)\n",
    "    render_circuit_jupyter(i_qc)\n",
    "    i_opt_circuit_qasm = circuit_to_qasm_str(\n",
    "        i_qc, header=\"hqslib1\", maxwidth=200)\n",
    "    # i_qc, header=\"qelib1\", maxwidth=200)"
   ]
  },
  {
   "cell_type": "code",
   "execution_count": 25,
   "metadata": {},
   "outputs": [
    {
     "name": "stdout",
     "output_type": "stream",
     "text": [
      "OPENQASM 2.0;\n",
      "include \"hqslib1.inc\";\n",
      "\n",
      "qreg qr[2];\n",
      "creg cr[2];\n",
      "creg permutation_scratch[3];\n",
      "measure qr[0] -> cr[0];\n",
      "measure qr[1] -> cr[1];\n",
      "permutation_scratch[2] = 1;\n",
      "permutation_scratch[0] = cr[0] ^ permutation_scratch[0];\n",
      "permutation_scratch[1] = cr[1] ^ permutation_scratch[1];\n",
      "cr[0] = permutation_scratch[0];\n",
      "cr[1] = permutation_scratch[1];\n",
      "\n"
     ]
    }
   ],
   "source": [
    "print(i_opt_circuit_qasm)"
   ]
  },
  {
   "cell_type": "code",
   "execution_count": null,
   "metadata": {},
   "outputs": [],
   "source": []
  }
 ],
 "metadata": {
  "kernelspec": {
   "display_name": "Python 3",
   "language": "python",
   "name": "python3"
  },
  "language_info": {
   "codemirror_mode": {
    "name": "ipython",
    "version": 3
   },
   "file_extension": ".py",
   "mimetype": "text/x-python",
   "name": "python",
   "nbconvert_exporter": "python",
   "pygments_lexer": "ipython3",
   "version": "3.10.14"
  }
 },
 "nbformat": 4,
 "nbformat_minor": 2
}
