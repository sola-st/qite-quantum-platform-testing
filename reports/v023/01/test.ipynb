{
 "cells": [
  {
   "cell_type": "code",
   "execution_count": 60,
   "metadata": {},
   "outputs": [],
   "source": [
    "qasm_content = \"\"\"\n",
    "OPENQASM 2.0;\n",
    "include \"qelib1.inc\";\n",
    "qreg q[1];\n",
    "creg c[1];\n",
    "id q[0];\n",
    "x q[0];\n",
    "measure q[0] -> c[0];\n",
    "\"\"\""
   ]
  },
  {
   "cell_type": "code",
   "execution_count": 65,
   "metadata": {},
   "outputs": [],
   "source": [
    "import pennylane as qml\n",
    "\n",
    "circuit = qml.from_qasm(qasm_content)"
   ]
  },
  {
   "cell_type": "code",
   "execution_count": 66,
   "metadata": {},
   "outputs": [
    {
     "name": "stdout",
     "output_type": "stream",
     "text": [
      "0: ──I──X──┤↗├─┤  \n"
     ]
    }
   ],
   "source": [
    "print(qml.draw(circuit)())"
   ]
  },
  {
   "cell_type": "code",
   "execution_count": null,
   "metadata": {},
   "outputs": [
    {
     "ename": "ModuleNotFoundError",
     "evalue": "No module named 'qml'",
     "output_type": "error",
     "traceback": [
      "\u001b[0;31m---------------------------------------------------------------------------\u001b[0m",
      "\u001b[0;31mModuleNotFoundError\u001b[0m                       Traceback (most recent call last)",
      "Cell \u001b[0;32mIn[67], line 1\u001b[0m\n\u001b[0;32m----> 1\u001b[0m \u001b[38;5;28;01mfrom\u001b[39;00m \u001b[38;5;21;01mqml\u001b[39;00m\u001b[38;5;21;01m.\u001b[39;00m\u001b[38;5;21;01mtape\u001b[39;00m \u001b[38;5;28;01mimport\u001b[39;00m make_qscript\n\u001b[1;32m      2\u001b[0m qs \u001b[38;5;241m=\u001b[39m make_qscript(circuit)()\n\u001b[1;32m      3\u001b[0m qasm_str_pennylane \u001b[38;5;241m=\u001b[39m qs\u001b[38;5;241m.\u001b[39mto_openqasm()\n",
      "\u001b[0;31mModuleNotFoundError\u001b[0m: No module named 'qml'"
     ]
    }
   ],
   "source": [
    "\n",
    "from pennylane.tape import make_qscript\n",
    "qs = make_qscript(circuit)()\n",
    "qasm_str_pennylane = qs.to_openqasm()\n",
    "print(qasm_str_pennylane)"
   ]
  },
  {
   "cell_type": "code",
   "execution_count": 59,
   "metadata": {},
   "outputs": [
    {
     "name": "stdout",
     "output_type": "stream",
     "text": [
      "PauliX\n",
      "target wires:  [0]\n",
      "MidMeasureMP\n",
      "target wires:  [0]\n"
     ]
    }
   ],
   "source": [
    "from pennylane.tape import QuantumScript\n",
    "list(qs)\n",
    "new_ops = []\n",
    "for op in list(qs):\n",
    "    print(op.name)\n",
    "    print(\"target wires: \", op.wires.tolist())\n",
    "    if op.name == \"MidMeasureMP\":\n",
    "        meas_op = qml.expval(qml.Z(0))\n",
    "        new_ops.append(meas_op)\n",
    "    else:\n",
    "        new_ops.append(op)\n",
    "qs_new = QuantumScript(new_ops, [])"
   ]
  },
  {
   "cell_type": "code",
   "execution_count": null,
   "metadata": {},
   "outputs": [
    {
     "ename": "AttributeError",
     "evalue": "'ExpectationMP' object has no attribute 'data'",
     "output_type": "error",
     "traceback": [
      "\u001b[0;31m---------------------------------------------------------------------------\u001b[0m",
      "\u001b[0;31mAttributeError\u001b[0m                            Traceback (most recent call last)",
      "Cell \u001b[0;32mIn[57], line 1\u001b[0m\n\u001b[0;32m----> 1\u001b[0m qasm_str_pennylane \u001b[38;5;241m=\u001b[39m \u001b[43mqs_new\u001b[49m\u001b[38;5;241;43m.\u001b[39;49m\u001b[43mto_openqasm\u001b[49m\u001b[43m(\u001b[49m\u001b[43m)\u001b[49m\n\u001b[1;32m      2\u001b[0m \u001b[38;5;28mprint\u001b[39m(qasm_str_pennylane)\n",
      "File \u001b[0;32m~/.conda/envs/crosspl/lib/python3.10/site-packages/pennylane/tape/qscript.py:1160\u001b[0m, in \u001b[0;36mQuantumScript.to_openqasm\u001b[0;34m(self, wires, rotations, measure_all, precision)\u001b[0m\n\u001b[1;32m   1157\u001b[0m qasm_str \u001b[38;5;241m+\u001b[39m\u001b[38;5;241m=\u001b[39m \u001b[38;5;124mf\u001b[39m\u001b[38;5;124m\"\u001b[39m\u001b[38;5;124mcreg c[\u001b[39m\u001b[38;5;132;01m{\u001b[39;00m\u001b[38;5;28mlen\u001b[39m(wires)\u001b[38;5;132;01m}\u001b[39;00m\u001b[38;5;124m];\u001b[39m\u001b[38;5;130;01m\\n\u001b[39;00m\u001b[38;5;124m\"\u001b[39m\n\u001b[1;32m   1159\u001b[0m \u001b[38;5;66;03m# get the user applied circuit operations without interface information\u001b[39;00m\n\u001b[0;32m-> 1160\u001b[0m [transformed_tape], _ \u001b[38;5;241m=\u001b[39m \u001b[43mqml\u001b[49m\u001b[38;5;241;43m.\u001b[39;49m\u001b[43mtransforms\u001b[49m\u001b[38;5;241;43m.\u001b[39;49m\u001b[43mconvert_to_numpy_parameters\u001b[49m\u001b[43m(\u001b[49m\u001b[38;5;28;43mself\u001b[39;49m\u001b[43m)\u001b[49m\n\u001b[1;32m   1161\u001b[0m operations \u001b[38;5;241m=\u001b[39m transformed_tape\u001b[38;5;241m.\u001b[39moperations\n\u001b[1;32m   1163\u001b[0m \u001b[38;5;28;01mif\u001b[39;00m rotations:\n\u001b[1;32m   1164\u001b[0m     \u001b[38;5;66;03m# if requested, append diagonalizing gates corresponding\u001b[39;00m\n\u001b[1;32m   1165\u001b[0m     \u001b[38;5;66;03m# to circuit observables\u001b[39;00m\n",
      "File \u001b[0;32m~/.conda/envs/crosspl/lib/python3.10/site-packages/pennylane/transforms/core/transform_dispatcher.py:113\u001b[0m, in \u001b[0;36mTransformDispatcher.__call__\u001b[0;34m(self, *targs, **tkwargs)\u001b[0m\n\u001b[1;32m    110\u001b[0m         \u001b[38;5;28;01mreturn\u001b[39;00m expand_processing(processed_results)\n\u001b[1;32m    112\u001b[0m \u001b[38;5;28;01melse\u001b[39;00m:\n\u001b[0;32m--> 113\u001b[0m     transformed_tapes, processing_fn \u001b[38;5;241m=\u001b[39m \u001b[38;5;28;43mself\u001b[39;49m\u001b[38;5;241;43m.\u001b[39;49m\u001b[43m_transform\u001b[49m\u001b[43m(\u001b[49m\u001b[43mobj\u001b[49m\u001b[43m,\u001b[49m\u001b[43m \u001b[49m\u001b[38;5;241;43m*\u001b[39;49m\u001b[43mtargs\u001b[49m\u001b[43m,\u001b[49m\u001b[43m \u001b[49m\u001b[38;5;241;43m*\u001b[39;49m\u001b[38;5;241;43m*\u001b[39;49m\u001b[43mtkwargs\u001b[49m\u001b[43m)\u001b[49m\n\u001b[1;32m    115\u001b[0m \u001b[38;5;28;01mif\u001b[39;00m \u001b[38;5;28mself\u001b[39m\u001b[38;5;241m.\u001b[39mis_informative:\n\u001b[1;32m    116\u001b[0m     \u001b[38;5;28;01mreturn\u001b[39;00m processing_fn(transformed_tapes)\n",
      "File \u001b[0;32m~/.conda/envs/crosspl/lib/python3.10/site-packages/pennylane/transforms/convert_to_numpy_parameters.py:88\u001b[0m, in \u001b[0;36mconvert_to_numpy_parameters\u001b[0;34m(tape)\u001b[0m\n\u001b[1;32m     85\u001b[0m new_ops \u001b[38;5;241m=\u001b[39m (_convert_op_to_numpy_data(op) \u001b[38;5;28;01mfor\u001b[39;00m op \u001b[38;5;129;01min\u001b[39;00m tape\u001b[38;5;241m.\u001b[39moperations)\n\u001b[1;32m     86\u001b[0m new_measurements \u001b[38;5;241m=\u001b[39m (_convert_measurement_to_numpy_data(m) \u001b[38;5;28;01mfor\u001b[39;00m m \u001b[38;5;129;01min\u001b[39;00m tape\u001b[38;5;241m.\u001b[39mmeasurements)\n\u001b[1;32m     87\u001b[0m new_circuit \u001b[38;5;241m=\u001b[39m tape\u001b[38;5;241m.\u001b[39m\u001b[38;5;18m__class__\u001b[39m(\n\u001b[0;32m---> 88\u001b[0m     new_ops, new_measurements, shots\u001b[38;5;241m=\u001b[39mtape\u001b[38;5;241m.\u001b[39mshots, trainable_params\u001b[38;5;241m=\u001b[39m\u001b[43mtape\u001b[49m\u001b[38;5;241;43m.\u001b[39;49m\u001b[43mtrainable_params\u001b[49m\n\u001b[1;32m     89\u001b[0m )\n\u001b[1;32m     91\u001b[0m \u001b[38;5;28;01mdef\u001b[39;00m \u001b[38;5;21mnull_postprocessing\u001b[39m(results):\n\u001b[1;32m     92\u001b[0m \u001b[38;5;250m    \u001b[39m\u001b[38;5;124;03m\"\"\"A postprocesing function returned by a transform that only converts the batch of results\u001b[39;00m\n\u001b[1;32m     93\u001b[0m \u001b[38;5;124;03m    into a result for a single ``QuantumTape``.\u001b[39;00m\n\u001b[1;32m     94\u001b[0m \u001b[38;5;124;03m    \"\"\"\u001b[39;00m\n",
      "File \u001b[0;32m~/.conda/envs/crosspl/lib/python3.10/site-packages/pennylane/tape/qscript.py:574\u001b[0m, in \u001b[0;36mQuantumScript.trainable_params\u001b[0;34m(self)\u001b[0m\n\u001b[1;32m    544\u001b[0m \u001b[38;5;250m\u001b[39m\u001b[38;5;124mr\u001b[39m\u001b[38;5;124;03m\"\"\"Store or return a list containing the indices of parameters that support\u001b[39;00m\n\u001b[1;32m    545\u001b[0m \u001b[38;5;124;03mdifferentiability. The indices provided match the order of appearence in the\u001b[39;00m\n\u001b[1;32m    546\u001b[0m \u001b[38;5;124;03mquantum circuit.\u001b[39;00m\n\u001b[0;32m   (...)\u001b[0m\n\u001b[1;32m    571\u001b[0m \u001b[38;5;124;03m[0.432]\u001b[39;00m\n\u001b[1;32m    572\u001b[0m \u001b[38;5;124;03m\"\"\"\u001b[39;00m\n\u001b[1;32m    573\u001b[0m \u001b[38;5;28;01mif\u001b[39;00m \u001b[38;5;28mself\u001b[39m\u001b[38;5;241m.\u001b[39m_trainable_params \u001b[38;5;129;01mis\u001b[39;00m \u001b[38;5;28;01mNone\u001b[39;00m:\n\u001b[0;32m--> 574\u001b[0m     \u001b[38;5;28mself\u001b[39m\u001b[38;5;241m.\u001b[39m_trainable_params \u001b[38;5;241m=\u001b[39m \u001b[38;5;28mlist\u001b[39m(\u001b[38;5;28mrange\u001b[39m(\u001b[38;5;28mlen\u001b[39m(\u001b[38;5;28;43mself\u001b[39;49m\u001b[38;5;241;43m.\u001b[39;49m\u001b[43mpar_info\u001b[49m)))\n\u001b[1;32m    575\u001b[0m \u001b[38;5;28;01mreturn\u001b[39;00m \u001b[38;5;28mself\u001b[39m\u001b[38;5;241m.\u001b[39m_trainable_params\n",
      "File \u001b[0;32m~/.conda/envs/crosspl/lib/python3.10/functools.py:981\u001b[0m, in \u001b[0;36mcached_property.__get__\u001b[0;34m(self, instance, owner)\u001b[0m\n\u001b[1;32m    979\u001b[0m val \u001b[38;5;241m=\u001b[39m cache\u001b[38;5;241m.\u001b[39mget(\u001b[38;5;28mself\u001b[39m\u001b[38;5;241m.\u001b[39mattrname, _NOT_FOUND)\n\u001b[1;32m    980\u001b[0m \u001b[38;5;28;01mif\u001b[39;00m val \u001b[38;5;129;01mis\u001b[39;00m _NOT_FOUND:\n\u001b[0;32m--> 981\u001b[0m     val \u001b[38;5;241m=\u001b[39m \u001b[38;5;28;43mself\u001b[39;49m\u001b[38;5;241;43m.\u001b[39;49m\u001b[43mfunc\u001b[49m\u001b[43m(\u001b[49m\u001b[43minstance\u001b[49m\u001b[43m)\u001b[49m\n\u001b[1;32m    982\u001b[0m     \u001b[38;5;28;01mtry\u001b[39;00m:\n\u001b[1;32m    983\u001b[0m         cache[\u001b[38;5;28mself\u001b[39m\u001b[38;5;241m.\u001b[39mattrname] \u001b[38;5;241m=\u001b[39m val\n",
      "File \u001b[0;32m~/.conda/envs/crosspl/lib/python3.10/site-packages/pennylane/tape/qscript.py:427\u001b[0m, in \u001b[0;36mQuantumScript.par_info\u001b[0;34m(self)\u001b[0m\n\u001b[1;32m    425\u001b[0m par_info \u001b[38;5;241m=\u001b[39m []\n\u001b[1;32m    426\u001b[0m \u001b[38;5;28;01mfor\u001b[39;00m idx, op \u001b[38;5;129;01min\u001b[39;00m \u001b[38;5;28menumerate\u001b[39m(\u001b[38;5;28mself\u001b[39m\u001b[38;5;241m.\u001b[39moperations):\n\u001b[0;32m--> 427\u001b[0m     par_info\u001b[38;5;241m.\u001b[39mextend({\u001b[38;5;124m\"\u001b[39m\u001b[38;5;124mop\u001b[39m\u001b[38;5;124m\"\u001b[39m: op, \u001b[38;5;124m\"\u001b[39m\u001b[38;5;124mop_idx\u001b[39m\u001b[38;5;124m\"\u001b[39m: idx, \u001b[38;5;124m\"\u001b[39m\u001b[38;5;124mp_idx\u001b[39m\u001b[38;5;124m\"\u001b[39m: i} \u001b[38;5;28;01mfor\u001b[39;00m i, d \u001b[38;5;129;01min\u001b[39;00m \u001b[38;5;28menumerate\u001b[39m(\u001b[43mop\u001b[49m\u001b[38;5;241;43m.\u001b[39;49m\u001b[43mdata\u001b[49m))\n\u001b[1;32m    429\u001b[0m n_ops \u001b[38;5;241m=\u001b[39m \u001b[38;5;28mlen\u001b[39m(\u001b[38;5;28mself\u001b[39m\u001b[38;5;241m.\u001b[39moperations)\n\u001b[1;32m    430\u001b[0m \u001b[38;5;28;01mfor\u001b[39;00m idx, m \u001b[38;5;129;01min\u001b[39;00m \u001b[38;5;28menumerate\u001b[39m(\u001b[38;5;28mself\u001b[39m\u001b[38;5;241m.\u001b[39mmeasurements):\n",
      "\u001b[0;31mAttributeError\u001b[0m: 'ExpectationMP' object has no attribute 'data'"
     ]
    }
   ],
   "source": [
    "\n",
    "qasm_str_pennylane = qs_new.to_openqasm()\n",
    "print(qasm_str_pennylane)"
   ]
  },
  {
   "cell_type": "code",
   "execution_count": 68,
   "metadata": {},
   "outputs": [
    {
     "name": "stdout",
     "output_type": "stream",
     "text": [
      "Name: PennyLane\n",
      "Version: 0.38.0\n",
      "Summary: PennyLane is a cross-platform Python library for quantum computing, quantum machine learning, and quantum chemistry. Train a quantum computer the same way as a neural network.\n",
      "Home-page: https://github.com/PennyLaneAI/pennylane\n",
      "Author: \n",
      "Author-email: \n",
      "License: Apache License 2.0\n",
      "Location: /home/paltenmo/.conda/envs/crosspl/lib/python3.10/site-packages\n",
      "Requires: appdirs, autograd, autoray, cachetools, networkx, numpy, packaging, pennylane-lightning, requests, rustworkx, scipy, toml, typing-extensions\n",
      "Required-by: PennyLane-qiskit, PennyLane_Lightning\n",
      "\n",
      "Platform info:           Linux-5.15.0-130-generic-x86_64-with-glibc2.35\n",
      "Python version:          3.10.14\n",
      "Numpy version:           1.26.4\n",
      "Scipy version:           1.14.1\n",
      "Installed devices:\n",
      "- qiskit.aer (PennyLane-qiskit-0.38.1)\n",
      "- qiskit.basicaer (PennyLane-qiskit-0.38.1)\n",
      "- qiskit.basicsim (PennyLane-qiskit-0.38.1)\n",
      "- qiskit.remote (PennyLane-qiskit-0.38.1)\n",
      "- default.clifford (PennyLane-0.38.0)\n",
      "- default.gaussian (PennyLane-0.38.0)\n",
      "- default.mixed (PennyLane-0.38.0)\n",
      "- default.qubit (PennyLane-0.38.0)\n",
      "- default.qubit.autograd (PennyLane-0.38.0)\n",
      "- default.qubit.jax (PennyLane-0.38.0)\n",
      "- default.qubit.legacy (PennyLane-0.38.0)\n",
      "- default.qubit.tf (PennyLane-0.38.0)\n",
      "- default.qubit.torch (PennyLane-0.38.0)\n",
      "- default.qutrit (PennyLane-0.38.0)\n",
      "- default.qutrit.mixed (PennyLane-0.38.0)\n",
      "- default.tensor (PennyLane-0.38.0)\n",
      "- null.qubit (PennyLane-0.38.0)\n",
      "- lightning.qubit (PennyLane_Lightning-0.38.0)\n"
     ]
    }
   ],
   "source": [
    "import pennylane as qml\n",
    "qml.about()"
   ]
  },
  {
   "cell_type": "code",
   "execution_count": null,
   "metadata": {},
   "outputs": [],
   "source": []
  }
 ],
 "metadata": {
  "kernelspec": {
   "display_name": "crosspl",
   "language": "python",
   "name": "python3"
  },
  "language_info": {
   "codemirror_mode": {
    "name": "ipython",
    "version": 3
   },
   "file_extension": ".py",
   "mimetype": "text/x-python",
   "name": "python",
   "nbconvert_exporter": "python",
   "pygments_lexer": "ipython3",
   "version": "3.10.14"
  }
 },
 "nbformat": 4,
 "nbformat_minor": 2
}
