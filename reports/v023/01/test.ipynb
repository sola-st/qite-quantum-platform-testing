{
 "cells": [
  {
   "cell_type": "code",
   "execution_count": 2,
   "metadata": {},
   "outputs": [],
   "source": [
    "qasm_content = \"\"\"\n",
    "OPENQASM 2.0;\n",
    "include \"qelib1.inc\";\n",
    "qreg q[1];\n",
    "creg c[1];\n",
    "id q[0];\n",
    "x q[0];\n",
    "measure q[0] -> c[0];\n",
    "\"\"\""
   ]
  },
  {
   "cell_type": "code",
   "execution_count": 3,
   "metadata": {},
   "outputs": [],
   "source": [
    "import pennylane as qml\n",
    "\n",
    "circuit = qml.from_qasm(qasm_content)"
   ]
  },
  {
   "cell_type": "code",
   "execution_count": 4,
   "metadata": {},
   "outputs": [
    {
     "name": "stdout",
     "output_type": "stream",
     "text": [
      "0: ──I──X──┤↗├─┤  \n"
     ]
    }
   ],
   "source": [
    "print(qml.draw(circuit)())"
   ]
  },
  {
   "cell_type": "code",
   "execution_count": 5,
   "metadata": {},
   "outputs": [
    {
     "ename": "ValueError",
     "evalue": "Operation MidMeasureMP not supported by the QASM serializer",
     "output_type": "error",
     "traceback": [
      "\u001b[0;31m---------------------------------------------------------------------------\u001b[0m",
      "\u001b[0;31mKeyError\u001b[0m                                  Traceback (most recent call last)",
      "File \u001b[0;32m~/.conda/envs/crosspl/lib/python3.10/site-packages/pennylane/tape/qscript.py:1178\u001b[0m, in \u001b[0;36mQuantumScript.to_openqasm\u001b[0;34m(self, wires, rotations, measure_all, precision)\u001b[0m\n\u001b[1;32m   1177\u001b[0m \u001b[38;5;28;01mtry\u001b[39;00m:\n\u001b[0;32m-> 1178\u001b[0m     gate \u001b[38;5;241m=\u001b[39m \u001b[43mOPENQASM_GATES\u001b[49m\u001b[43m[\u001b[49m\u001b[43mop\u001b[49m\u001b[38;5;241;43m.\u001b[39;49m\u001b[43mname\u001b[49m\u001b[43m]\u001b[49m\n\u001b[1;32m   1179\u001b[0m \u001b[38;5;28;01mexcept\u001b[39;00m \u001b[38;5;167;01mKeyError\u001b[39;00m \u001b[38;5;28;01mas\u001b[39;00m e:\n",
      "\u001b[0;31mKeyError\u001b[0m: 'MidMeasureMP'",
      "\nThe above exception was the direct cause of the following exception:\n",
      "\u001b[0;31mValueError\u001b[0m                                Traceback (most recent call last)",
      "Cell \u001b[0;32mIn[5], line 3\u001b[0m\n\u001b[1;32m      1\u001b[0m \u001b[38;5;28;01mfrom\u001b[39;00m \u001b[38;5;21;01mpennylane\u001b[39;00m\u001b[38;5;21;01m.\u001b[39;00m\u001b[38;5;21;01mtape\u001b[39;00m \u001b[38;5;28;01mimport\u001b[39;00m make_qscript\n\u001b[1;32m      2\u001b[0m qs \u001b[38;5;241m=\u001b[39m make_qscript(circuit)()\n\u001b[0;32m----> 3\u001b[0m qasm_str_pennylane \u001b[38;5;241m=\u001b[39m \u001b[43mqs\u001b[49m\u001b[38;5;241;43m.\u001b[39;49m\u001b[43mto_openqasm\u001b[49m\u001b[43m(\u001b[49m\u001b[43m)\u001b[49m\n\u001b[1;32m      4\u001b[0m \u001b[38;5;28mprint\u001b[39m(qasm_str_pennylane)\n",
      "File \u001b[0;32m~/.conda/envs/crosspl/lib/python3.10/site-packages/pennylane/tape/qscript.py:1180\u001b[0m, in \u001b[0;36mQuantumScript.to_openqasm\u001b[0;34m(self, wires, rotations, measure_all, precision)\u001b[0m\n\u001b[1;32m   1178\u001b[0m     gate \u001b[38;5;241m=\u001b[39m OPENQASM_GATES[op\u001b[38;5;241m.\u001b[39mname]\n\u001b[1;32m   1179\u001b[0m \u001b[38;5;28;01mexcept\u001b[39;00m \u001b[38;5;167;01mKeyError\u001b[39;00m \u001b[38;5;28;01mas\u001b[39;00m e:\n\u001b[0;32m-> 1180\u001b[0m     \u001b[38;5;28;01mraise\u001b[39;00m \u001b[38;5;167;01mValueError\u001b[39;00m(\u001b[38;5;124mf\u001b[39m\u001b[38;5;124m\"\u001b[39m\u001b[38;5;124mOperation \u001b[39m\u001b[38;5;132;01m{\u001b[39;00mop\u001b[38;5;241m.\u001b[39mname\u001b[38;5;132;01m}\u001b[39;00m\u001b[38;5;124m not supported by the QASM serializer\u001b[39m\u001b[38;5;124m\"\u001b[39m) \u001b[38;5;28;01mfrom\u001b[39;00m \u001b[38;5;21;01me\u001b[39;00m\n\u001b[1;32m   1182\u001b[0m wire_labels \u001b[38;5;241m=\u001b[39m \u001b[38;5;124m\"\u001b[39m\u001b[38;5;124m,\u001b[39m\u001b[38;5;124m\"\u001b[39m\u001b[38;5;241m.\u001b[39mjoin([\u001b[38;5;124mf\u001b[39m\u001b[38;5;124m\"\u001b[39m\u001b[38;5;124mq[\u001b[39m\u001b[38;5;132;01m{\u001b[39;00mwires\u001b[38;5;241m.\u001b[39mindex(w)\u001b[38;5;132;01m}\u001b[39;00m\u001b[38;5;124m]\u001b[39m\u001b[38;5;124m\"\u001b[39m \u001b[38;5;28;01mfor\u001b[39;00m w \u001b[38;5;129;01min\u001b[39;00m op\u001b[38;5;241m.\u001b[39mwires\u001b[38;5;241m.\u001b[39mtolist()])\n\u001b[1;32m   1183\u001b[0m params \u001b[38;5;241m=\u001b[39m \u001b[38;5;124m\"\u001b[39m\u001b[38;5;124m\"\u001b[39m\n",
      "\u001b[0;31mValueError\u001b[0m: Operation MidMeasureMP not supported by the QASM serializer"
     ]
    }
   ],
   "source": [
    "\n",
    "from pennylane.tape import make_qscript\n",
    "qs = make_qscript(circuit)()\n",
    "qasm_str_pennylane = qs.to_openqasm()\n",
    "print(qasm_str_pennylane)"
   ]
  },
  {
   "cell_type": "code",
   "execution_count": 7,
   "metadata": {},
   "outputs": [
    {
     "name": "stdout",
     "output_type": "stream",
     "text": [
      "Identity\n",
      "target wires:  [0]\n",
      "PauliX\n",
      "target wires:  [0]\n",
      "MidMeasureMP\n",
      "target wires:  [0]\n"
     ]
    }
   ],
   "source": [
    "from pennylane.tape import QuantumScript\n",
    "\n",
    "new_ops = []\n",
    "for op in list(qs):\n",
    "    print(op.name)\n",
    "    print(\"target wires: \", op.wires.tolist())\n",
    "    if op.name == \"MidMeasureMP\":\n",
    "        # meas_op = qml.expval(qml.Z(0))\n",
    "        # new_ops.append(meas_op)\n",
    "        pass\n",
    "    else:\n",
    "        new_ops.append(op)\n",
    "qs_new = QuantumScript(new_ops, [])"
   ]
  },
  {
   "cell_type": "code",
   "execution_count": 8,
   "metadata": {},
   "outputs": [
    {
     "name": "stdout",
     "output_type": "stream",
     "text": [
      "OPENQASM 2.0;\n",
      "include \"qelib1.inc\";\n",
      "qreg q[1];\n",
      "creg c[1];\n",
      "id q[0];\n",
      "x q[0];\n",
      "measure q[0] -> c[0];\n",
      "\n"
     ]
    }
   ],
   "source": [
    "\n",
    "qasm_str_pennylane = qs_new.to_openqasm()\n",
    "print(qasm_str_pennylane)"
   ]
  },
  {
   "cell_type": "code",
   "execution_count": 68,
   "metadata": {},
   "outputs": [
    {
     "name": "stdout",
     "output_type": "stream",
     "text": [
      "Name: PennyLane\n",
      "Version: 0.38.0\n",
      "Summary: PennyLane is a cross-platform Python library for quantum computing, quantum machine learning, and quantum chemistry. Train a quantum computer the same way as a neural network.\n",
      "Home-page: https://github.com/PennyLaneAI/pennylane\n",
      "Author: \n",
      "Author-email: \n",
      "License: Apache License 2.0\n",
      "Location: /home/paltenmo/.conda/envs/crosspl/lib/python3.10/site-packages\n",
      "Requires: appdirs, autograd, autoray, cachetools, networkx, numpy, packaging, pennylane-lightning, requests, rustworkx, scipy, toml, typing-extensions\n",
      "Required-by: PennyLane-qiskit, PennyLane_Lightning\n",
      "\n",
      "Platform info:           Linux-5.15.0-130-generic-x86_64-with-glibc2.35\n",
      "Python version:          3.10.14\n",
      "Numpy version:           1.26.4\n",
      "Scipy version:           1.14.1\n",
      "Installed devices:\n",
      "- qiskit.aer (PennyLane-qiskit-0.38.1)\n",
      "- qiskit.basicaer (PennyLane-qiskit-0.38.1)\n",
      "- qiskit.basicsim (PennyLane-qiskit-0.38.1)\n",
      "- qiskit.remote (PennyLane-qiskit-0.38.1)\n",
      "- default.clifford (PennyLane-0.38.0)\n",
      "- default.gaussian (PennyLane-0.38.0)\n",
      "- default.mixed (PennyLane-0.38.0)\n",
      "- default.qubit (PennyLane-0.38.0)\n",
      "- default.qubit.autograd (PennyLane-0.38.0)\n",
      "- default.qubit.jax (PennyLane-0.38.0)\n",
      "- default.qubit.legacy (PennyLane-0.38.0)\n",
      "- default.qubit.tf (PennyLane-0.38.0)\n",
      "- default.qubit.torch (PennyLane-0.38.0)\n",
      "- default.qutrit (PennyLane-0.38.0)\n",
      "- default.qutrit.mixed (PennyLane-0.38.0)\n",
      "- default.tensor (PennyLane-0.38.0)\n",
      "- null.qubit (PennyLane-0.38.0)\n",
      "- lightning.qubit (PennyLane_Lightning-0.38.0)\n"
     ]
    }
   ],
   "source": [
    "import pennylane as qml\n",
    "qml.about()"
   ]
  },
  {
   "cell_type": "code",
   "execution_count": null,
   "metadata": {},
   "outputs": [],
   "source": []
  }
 ],
 "metadata": {
  "kernelspec": {
   "display_name": "Python 3",
   "language": "python",
   "name": "python3"
  },
  "language_info": {
   "codemirror_mode": {
    "name": "ipython",
    "version": 3
   },
   "file_extension": ".py",
   "mimetype": "text/x-python",
   "name": "python",
   "nbconvert_exporter": "python",
   "pygments_lexer": "ipython3",
   "version": "3.10.14"
  }
 },
 "nbformat": 4,
 "nbformat_minor": 2
}
