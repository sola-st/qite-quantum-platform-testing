{
 "cells": [
  {
   "cell_type": "code",
   "execution_count": null,
   "metadata": {},
   "outputs": [],
   "source": [
    "from typing import List, Tuple, Dict, Any, Optional\n",
    "from pandarallel import pandarallel\n",
    "import os\n",
    "import re\n",
    "import sys\n",
    "import json\n",
    "from pathlib import Path\n",
    "\n",
    "import numpy as np\n",
    "import matplotlib.pyplot as plt\n",
    "import seaborn as sns\n",
    "\n",
    "import pandas as pd\n",
    "from tqdm.auto import tqdm\n",
    "tqdm.pandas()\n",
    "pandarallel.initialize(progress_bar=True)"
   ]
  },
  {
   "cell_type": "code",
   "execution_count": 6,
   "metadata": {},
   "outputs": [
    {
     "name": "stdout",
     "output_type": "stream",
     "text": [
      "OPENQASM 2.0;\n",
      "include \"qelib1.inc\";\n",
      "qreg qr[1];\n",
      "creg cr[1];\n",
      "sxdg qr[0];\n",
      "measure qr[0] -> cr[0];\n"
     ]
    }
   ],
   "source": [
    "from qiskit.qasm2 import dumps\n",
    "from qiskit import QuantumCircuit, QuantumRegister, ClassicalRegister\n",
    "qr = QuantumRegister(1, name='qr')\n",
    "cr = ClassicalRegister(1, name='cr')\n",
    "qc = QuantumCircuit(qr, cr, name='qc')\n",
    "qc.sxdg(qr[0])\n",
    "qc.measure(qr, cr)\n",
    "# qc = qc.decompose().decompose()\n",
    "qc.draw()\n",
    "\n",
    "qasm = dumps(qc)\n",
    "print(qasm)"
   ]
  },
  {
   "cell_type": "code",
   "execution_count": 7,
   "metadata": {},
   "outputs": [
    {
     "name": "stdout",
     "output_type": "stream",
     "text": [
      "/tmp/tmpvibwi3qy.qasm\n",
      "Circuit(1)[Dagger(SqrtXGate)@(0,), measurement@(0,)]\n"
     ]
    }
   ],
   "source": [
    "import tempfile\n",
    "\n",
    "with tempfile.NamedTemporaryFile(suffix='.qasm', delete=False) as f:\n",
    "    f.write(qasm.encode())\n",
    "    f.flush()\n",
    "    print(f.name)\n",
    "\n",
    "    from bqskit import Circuit\n",
    "\n",
    "    circuit = Circuit.from_file(f.name)\n",
    "    print(circuit)"
   ]
  },
  {
   "cell_type": "code",
   "execution_count": null,
   "metadata": {},
   "outputs": [],
   "source": [
    "circuit.save('check.qasm')"
   ]
  }
 ],
 "metadata": {
  "kernelspec": {
   "display_name": "crosspl",
   "language": "python",
   "name": "python3"
  },
  "language_info": {
   "codemirror_mode": {
    "name": "ipython",
    "version": 3
   },
   "file_extension": ".py",
   "mimetype": "text/x-python",
   "name": "python",
   "nbconvert_exporter": "python",
   "pygments_lexer": "ipython3",
   "version": "3.10.14"
  }
 },
 "nbformat": 4,
 "nbformat_minor": 2
}
