{
 "cells": [
  {
   "cell_type": "code",
   "execution_count": 3,
   "id": "3b951cf6",
   "metadata": {
    "execution": {
     "iopub.execute_input": "2024-11-04T15:01:31.919082Z",
     "iopub.status.busy": "2024-11-04T15:01:31.918745Z",
     "iopub.status.idle": "2024-11-04T15:01:31.928090Z",
     "shell.execute_reply": "2024-11-04T15:01:31.927101Z"
    },
    "papermill": {
     "duration": 0.018142,
     "end_time": "2024-11-04T15:01:31.929341",
     "exception": false,
     "start_time": "2024-11-04T15:01:31.911199",
     "status": "completed"
    },
    "tags": [
     "parameters"
    ]
   },
   "outputs": [],
   "source": [
    "PATH_QASM_A = \"artifacts/test_a.qasm\"\n",
    "PATH_QASM_B = None  # \"artifacts/test_b.qasm\"\n",
    "\n",
    "PATH_PYTHON_FILE = \"artifacts/file.py\""
   ]
  },
  {
   "cell_type": "code",
   "execution_count": null,
   "id": "833d12ec",
   "metadata": {
    "execution": {
     "iopub.execute_input": "2024-11-04T15:01:31.936136Z",
     "iopub.status.busy": "2024-11-04T15:01:31.935711Z",
     "iopub.status.idle": "2024-11-04T15:01:31.940253Z",
     "shell.execute_reply": "2024-11-04T15:01:31.939352Z"
    },
    "papermill": {
     "duration": 0.008941,
     "end_time": "2024-11-04T15:01:31.941396",
     "exception": false,
     "start_time": "2024-11-04T15:01:31.932455",
     "status": "completed"
    },
    "tags": [
     "injected-parameters"
    ]
   },
   "outputs": [],
   "source": [
    "# Parameters\n",
    "PATH_QASM_A = \"reports/v001_manual/2024_11_04__14_48/qiskit_circuit_5q_10g_9_160f04_cfe9f1_error_min_qc_qiskit.qasm\"\n",
    "PATH_QASM_B = \"reports/v001_manual/2024_11_04__14_48/qiskit_circuit_5q_10g_9_160f04_cfe9f1_error_min_qc_pytket.qasm\"\n",
    "PATH_PYTHON_FILE = \"program_bank/v007/2024_10_31__17_51__qiskit/qiskit_circuit_5q_10g_9_160f04_cfe9f1_error_min.py\""
   ]
  },
  {
   "cell_type": "code",
   "execution_count": 8,
   "id": "679ab76b",
   "metadata": {},
   "outputs": [],
   "source": [
    "\n",
    "# consider all the imports relative to the current folder\n",
    "from pathlib import Path\n",
    "PATH_QASM_A = str(Path(PATH_QASM_A).name)\n",
    "PATH_QASM_B = str(Path(PATH_QASM_B).name)\n",
    "PATH_PYTHON_FILE = str(Path(PATH_PYTHON_FILE).name)"
   ]
  },
  {
   "cell_type": "markdown",
   "id": "24a73266",
   "metadata": {
    "papermill": {
     "duration": 0.00246,
     "end_time": "2024-11-04T15:01:31.946490",
     "exception": false,
     "start_time": "2024-11-04T15:01:31.944030",
     "status": "completed"
    },
    "tags": []
   },
   "source": [
    "## File Content"
   ]
  },
  {
   "cell_type": "code",
   "execution_count": 9,
   "id": "292ffa86",
   "metadata": {
    "execution": {
     "iopub.execute_input": "2024-11-04T15:01:31.952742Z",
     "iopub.status.busy": "2024-11-04T15:01:31.952294Z",
     "iopub.status.idle": "2024-11-04T15:01:31.963576Z",
     "shell.execute_reply": "2024-11-04T15:01:31.962631Z"
    },
    "papermill": {
     "duration": 0.015913,
     "end_time": "2024-11-04T15:01:31.964893",
     "exception": false,
     "start_time": "2024-11-04T15:01:31.948980",
     "status": "completed"
    },
    "tags": []
   },
   "outputs": [
    {
     "name": "stdout",
     "output_type": "stream",
     "text": [
      "\u001b[32mFilename: \u001b[0m qiskit_circuit_5q_10g_9_160f04_cfe9f1_error_min_qc_qiskit.qasm\n",
      "\u001b[32mOPENQASM 2.0;\n",
      "include \"qelib1.inc\";\n",
      "qreg cin[1];\n",
      "qreg a[2];\n",
      "qreg b[2];\n",
      "cx a[0],b[0];\n",
      "\u001b[0m\n",
      "\n",
      "\n",
      "\u001b[34mFilename: \u001b[0m qiskit_circuit_5q_10g_9_160f04_cfe9f1_error_min_qc_pytket.qasm\n",
      "\u001b[34mOPENQASM 2.0;\n",
      "include \"qelib1.inc\";\n",
      "\n",
      "qreg a[2];\n",
      "qreg b[2];\n",
      "qreg cin[1];\n",
      "cx a[0],b[0];\n",
      "\u001b[0m\n",
      "\n",
      "\n",
      "\u001b[35mFilename: \u001b[0m qiskit_circuit_5q_10g_9_160f04_cfe9f1_error_min.py\n",
      "\u001b[35m\n",
      "\n",
      "qc = qasm2.loads(\n",
      "\"\"\"\n",
      "include \"qelib1.inc\";\n",
      "qreg cin[1];\n",
      "qreg a[2];\n",
      "qreg b[2];\n",
      "cx a[0],b[0];\n",
      "\"\"\"\n",
      "    , custom_instructions=qasm2.LEGACY_CUSTOM_INSTRUCTIONS)\n",
      "\n",
      "\u001b[0m\n",
      "\n",
      "\n"
     ]
    }
   ],
   "source": [
    "from termcolor import colored\n",
    "\n",
    "\n",
    "def extract_between_tags(content: str, start_tag: str, end_tag: str) -> str:\n",
    "    start_index = content.find(start_tag) + len(start_tag)\n",
    "    end_index = content.find(end_tag)\n",
    "    return content[start_index:end_index]\n",
    "\n",
    "\n",
    "def print_and_return_content(\n",
    "        file_name, color: str, start_tag: str = None, end_tag: str = None) -> str:\n",
    "    print(colored(\"Filename: \", color), file_name)\n",
    "    with open(file_name, \"r\") as f:\n",
    "        content = f.read()\n",
    "        if start_tag and end_tag:\n",
    "            content = extract_between_tags(content, start_tag, end_tag)\n",
    "        print(colored(content, color))\n",
    "    print(\"\\n\")\n",
    "    return content\n",
    "\n",
    "\n",
    "qasm_a_str = print_and_return_content(PATH_QASM_A, color=\"green\")\n",
    "if PATH_QASM_B:\n",
    "    qasm_b_str = print_and_return_content(PATH_QASM_B, color=\"blue\")\n",
    "\n",
    "py_file_str = print_and_return_content(\n",
    "    PATH_PYTHON_FILE, color=\"magenta\", start_tag=\"# <START_GATES>\",\n",
    "    end_tag=\"import os\")"
   ]
  },
  {
   "cell_type": "markdown",
   "id": "d3595a2a",
   "metadata": {
    "papermill": {
     "duration": 0.002987,
     "end_time": "2024-11-04T15:01:31.971164",
     "exception": false,
     "start_time": "2024-11-04T15:01:31.968177",
     "status": "completed"
    },
    "tags": []
   },
   "source": [
    "## Circuit Diagram"
   ]
  },
  {
   "cell_type": "code",
   "execution_count": 15,
   "id": "ed737e8f",
   "metadata": {
    "execution": {
     "iopub.execute_input": "2024-11-04T15:01:31.977863Z",
     "iopub.status.busy": "2024-11-04T15:01:31.977411Z",
     "iopub.status.idle": "2024-11-04T15:01:32.413931Z",
     "shell.execute_reply": "2024-11-04T15:01:32.413146Z"
    },
    "papermill": {
     "duration": 0.441925,
     "end_time": "2024-11-04T15:01:32.415779",
     "exception": false,
     "start_time": "2024-11-04T15:01:31.973854",
     "status": "completed"
    },
    "tags": []
   },
   "outputs": [
    {
     "name": "stdout",
     "output_type": "stream",
     "text": [
      "          \n",
      "cin: ─────\n",
      "          \n",
      "a_0: ──■──\n",
      "       │  \n",
      "a_1: ──┼──\n",
      "     ┌─┴─┐\n",
      "b_0: ┤ X ├\n",
      "     └───┘\n",
      "b_1: ─────\n",
      "          \n",
      "          \n",
      "a_0: ──■──\n",
      "       │  \n",
      "a_1: ──┼──\n",
      "     ┌─┴─┐\n",
      "b_0: ┤ X ├\n",
      "     └───┘\n",
      "b_1: ─────\n",
      "          \n",
      "cin: ─────\n",
      "          \n"
     ]
    }
   ],
   "source": [
    "from qiskit.qasm2 import load\n",
    "from qiskit import qasm2\n",
    "\n",
    "circuit_a = load(\n",
    "    PATH_QASM_A, custom_instructions=qasm2.LEGACY_CUSTOM_INSTRUCTIONS)\n",
    "print(circuit_a)\n",
    "if PATH_QASM_B:\n",
    "    circuit_b = load(\n",
    "        PATH_QASM_B, custom_instructions=qasm2.LEGACY_CUSTOM_INSTRUCTIONS)\n",
    "    print(circuit_b)"
   ]
  },
  {
   "cell_type": "markdown",
   "id": "21bafa7a",
   "metadata": {
    "papermill": {
     "duration": 0.004645,
     "end_time": "2024-11-04T15:01:32.425691",
     "exception": false,
     "start_time": "2024-11-04T15:01:32.421046",
     "status": "completed"
    },
    "tags": []
   },
   "source": [
    "## Compare Semantics"
   ]
  },
  {
   "cell_type": "markdown",
   "id": "4e4dde65",
   "metadata": {
    "papermill": {
     "duration": 0.002713,
     "end_time": "2024-11-04T15:01:32.432146",
     "exception": false,
     "start_time": "2024-11-04T15:01:32.429433",
     "status": "completed"
    },
    "tags": []
   },
   "source": [
    "### QCEC Oracle"
   ]
  },
  {
   "cell_type": "code",
   "execution_count": 11,
   "id": "b4ca80c6",
   "metadata": {
    "execution": {
     "iopub.execute_input": "2024-11-04T15:01:32.439433Z",
     "iopub.status.busy": "2024-11-04T15:01:32.438789Z",
     "iopub.status.idle": "2024-11-04T15:01:32.492855Z",
     "shell.execute_reply": "2024-11-04T15:01:32.492042Z"
    },
    "papermill": {
     "duration": 0.059672,
     "end_time": "2024-11-04T15:01:32.494569",
     "exception": false,
     "start_time": "2024-11-04T15:01:32.434897",
     "status": "completed"
    },
    "tags": []
   },
   "outputs": [
    {
     "name": "stdout",
     "output_type": "stream",
     "text": [
      "\u001b[35mQCEC result: not_equivalent\u001b[0m\n",
      "{\n",
      "  \"check_time\": 0.01877822,\n",
      "  \"checkers\": [\n",
      "    {\n",
      "      \"checker\": \"decision_diagram_alternating\",\n",
      "      \"equivalence\": \"no_information\",\n",
      "      \"max_nodes\": 0,\n",
      "      \"runtime\": 0.0\n",
      "    },\n",
      "    {\n",
      "      \"checker\": \"zx\",\n",
      "      \"equivalence\": \"probably_not_equivalent\",\n",
      "      \"runtime\": 7.1892e-05\n",
      "    },\n",
      "    {\n",
      "      \"checker\": \"decision_diagram_simulation\",\n",
      "      \"equivalence\": \"no_information\",\n",
      "      \"max_nodes\": 0,\n",
      "      \"runtime\": 0.0\n",
      "    },\n",
      "    {\n",
      "      \"checker\": \"decision_diagram_simulation\",\n",
      "      \"equivalence\": \"no_information\",\n",
      "      \"max_nodes\": 0,\n",
      "      \"runtime\": 0.0\n",
      "    },\n",
      "    {\n",
      "      \"checker\": \"decision_diagram_simulation\",\n",
      "      \"equivalence\": \"not_equivalent\",\n",
      "      \"max_nodes\": 6,\n",
      "      \"runtime\": 1.9539e-05\n",
      "    },\n",
      "    {\n",
      "      \"checker\": \"decision_diagram_simulation\",\n",
      "      \"equivalence\": \"no_information\",\n",
      "      \"max_nodes\": 0,\n",
      "      \"runtime\": 0.0\n",
      "    },\n",
      "    {\n",
      "      \"checker\": \"decision_diagram_simulation\",\n",
      "      \"equivalence\": \"no_information\",\n",
      "      \"max_nodes\": 0,\n",
      "      \"runtime\": 0.0\n",
      "    },\n",
      "    {\n",
      "      \"checker\": \"decision_diagram_simulation\",\n",
      "      \"equivalence\": \"no_information\",\n",
      "      \"max_nodes\": 0,\n",
      "      \"runtime\": 0.0\n",
      "    },\n",
      "    {\n",
      "      \"checker\": \"decision_diagram_simulation\",\n",
      "      \"equivalence\": \"no_information\",\n",
      "      \"max_nodes\": 0,\n",
      "      \"runtime\": 0.0\n",
      "    },\n",
      "    {\n",
      "      \"checker\": \"decision_diagram_simulation\",\n",
      "      \"equivalence\": \"no_information\",\n",
      "      \"max_nodes\": 0,\n",
      "      \"runtime\": 0.0\n",
      "    },\n",
      "    {\n",
      "      \"checker\": \"decision_diagram_simulation\",\n",
      "      \"equivalence\": \"no_information\",\n",
      "      \"max_nodes\": 0,\n",
      "      \"runtime\": 0.0\n",
      "    },\n",
      "    {\n",
      "      \"checker\": \"decision_diagram_simulation\",\n",
      "      \"equivalence\": \"no_information\",\n",
      "      \"max_nodes\": 0,\n",
      "      \"runtime\": 0.0\n",
      "    },\n",
      "    {\n",
      "      \"checker\": \"decision_diagram_simulation\",\n",
      "      \"equivalence\": \"no_information\",\n",
      "      \"max_nodes\": 0,\n",
      "      \"runtime\": 0.0\n",
      "    },\n",
      "    {\n",
      "      \"checker\": \"decision_diagram_simulation\",\n",
      "      \"equivalence\": \"no_information\",\n",
      "      \"max_nodes\": 0,\n",
      "      \"runtime\": 0.0\n",
      "    },\n",
      "    {\n",
      "      \"checker\": \"decision_diagram_simulation\",\n",
      "      \"equivalence\": \"no_information\",\n",
      "      \"max_nodes\": 0,\n",
      "      \"runtime\": 0.0\n",
      "    },\n",
      "    {\n",
      "      \"checker\": \"decision_diagram_simulation\",\n",
      "      \"equivalence\": \"no_information\",\n",
      "      \"max_nodes\": 0,\n",
      "      \"runtime\": 0.0\n",
      "    },\n",
      "    {\n",
      "      \"checker\": \"decision_diagram_simulation\",\n",
      "      \"equivalence\": \"no_information\",\n",
      "      \"max_nodes\": 0,\n",
      "      \"runtime\": 0.0\n",
      "    },\n",
      "    {\n",
      "      \"checker\": \"decision_diagram_simulation\",\n",
      "      \"equivalence\": \"no_information\",\n",
      "      \"max_nodes\": 0,\n",
      "      \"runtime\": 0.0\n",
      "    }\n",
      "  ],\n",
      "  \"circuit1\": {\n",
      "    \"name\": \"qiskit_circuit_5q_10g_9_160f04_cfe9f1_error_min_qc_qiskit\",\n",
      "    \"num_gates\": 1,\n",
      "    \"num_qubits\": 4\n",
      "  },\n",
      "  \"circuit2\": {\n",
      "    \"name\": \"qiskit_circuit_5q_10g_9_160f04_cfe9f1_error_min_qc_pytket\",\n",
      "    \"num_gates\": 1,\n",
      "    \"num_qubits\": 4\n",
      "  },\n",
      "  \"configuration\": {\n",
      "    \"application\": {\n",
      "      \"alternating\": \"proportional\",\n",
      "      \"simulation\": \"proportional\"\n",
      "    },\n",
      "    \"execution\": {\n",
      "      \"nthreads\": 48,\n",
      "      \"parallel\": true,\n",
      "      \"run_alternating_checker\": true,\n",
      "      \"run_construction_checker\": false,\n",
      "      \"run_simulation_checker\": true,\n",
      "      \"run_zx_checker\": true,\n",
      "      \"tolerance\": 2.2737367544323206e-13\n",
      "    },\n",
      "    \"functionality\": {\n",
      "      \"check_partial_equivalence\": false,\n",
      "      \"trace_threshold\": 1e-08\n",
      "    },\n",
      "    \"optimizations\": {\n",
      "      \"backpropagate_output_permutation\": false,\n",
      "      \"elide_permutations\": true,\n",
      "      \"fuse_consecutive_single_qubit_gates\": true,\n",
      "      \"reconstruct_swaps\": true,\n",
      "      \"remove_diagonal_gates_before_measure\": false,\n",
      "      \"reorder_operations\": true,\n",
      "      \"transform_dynamic_circuit\": true\n",
      "    },\n",
      "    \"parameterized\": {\n",
      "      \"additional_instantiations\": 0,\n",
      "      \"tolerance\": 1e-12\n",
      "    },\n",
      "    \"simulation\": {\n",
      "      \"fidelity_threshold\": 1e-08,\n",
      "      \"max_sims\": 16,\n",
      "      \"seed\": 0,\n",
      "      \"state_type\": \"computational_basis\",\n",
      "      \"store_counterexample_input\": false,\n",
      "      \"store_counterexample_output\": false\n",
      "    }\n",
      "  },\n",
      "  \"equivalence\": \"not_equivalent\",\n",
      "  \"parameterized\": {\n",
      "    \"performed_instantiations\": 0\n",
      "  },\n",
      "  \"preprocessing_time\": 0.000246628,\n",
      "  \"simulations\": {\n",
      "    \"performed\": 1,\n",
      "    \"started\": 16\n",
      "  }\n",
      "}\n"
     ]
    }
   ],
   "source": [
    "from mqt import qcec\n",
    "if PATH_QASM_B:\n",
    "    res = qcec.verify(\n",
    "        PATH_QASM_A, PATH_QASM_B,\n",
    "        transform_dynamic_circuit=True)\n",
    "    print(colored(f\"QCEC result: {res.equivalence}\", \"magenta\"))\n",
    "    print(res)"
   ]
  },
  {
   "cell_type": "markdown",
   "id": "cbbc1e5f",
   "metadata": {
    "papermill": {
     "duration": 0.004611,
     "end_time": "2024-11-04T15:01:32.504297",
     "exception": false,
     "start_time": "2024-11-04T15:01:32.499686",
     "status": "completed"
    },
    "tags": []
   },
   "source": [
    "### Simulation (Qiskit)"
   ]
  },
  {
   "cell_type": "code",
   "execution_count": 12,
   "id": "ac5497fe",
   "metadata": {
    "execution": {
     "iopub.execute_input": "2024-11-04T15:01:32.511886Z",
     "iopub.status.busy": "2024-11-04T15:01:32.511411Z",
     "iopub.status.idle": "2024-11-04T15:01:32.523343Z",
     "shell.execute_reply": "2024-11-04T15:01:32.522570Z"
    },
    "papermill": {
     "duration": 0.01711,
     "end_time": "2024-11-04T15:01:32.524532",
     "exception": false,
     "start_time": "2024-11-04T15:01:32.507422",
     "status": "completed"
    },
    "tags": []
   },
   "outputs": [
    {
     "name": "stdout",
     "output_type": "stream",
     "text": [
      "\u001b[32mqiskit_circuit_5q_10g_9_160f04_cfe9f1_error_min_qc_qiskit.qasm\u001b[0m\n",
      "\u001b[32mStatevector A: \u001b[0m Statevector([1.+0.j, 0.+0.j, 0.+0.j, 0.+0.j, 0.+0.j, 0.+0.j, 0.+0.j,\n",
      "             0.+0.j, 0.+0.j, 0.+0.j, 0.+0.j, 0.+0.j, 0.+0.j, 0.+0.j,\n",
      "             0.+0.j, 0.+0.j, 0.+0.j, 0.+0.j, 0.+0.j, 0.+0.j, 0.+0.j,\n",
      "             0.+0.j, 0.+0.j, 0.+0.j, 0.+0.j, 0.+0.j, 0.+0.j, 0.+0.j,\n",
      "             0.+0.j, 0.+0.j, 0.+0.j, 0.+0.j],\n",
      "            dims=(2, 2, 2, 2, 2))\n",
      "\u001b[34mqiskit_circuit_5q_10g_9_160f04_cfe9f1_error_min_qc_pytket.qasm\u001b[0m\n",
      "\u001b[34mStatevector B: \u001b[0m Statevector([1.+0.j, 0.+0.j, 0.+0.j, 0.+0.j, 0.+0.j, 0.+0.j, 0.+0.j,\n",
      "             0.+0.j, 0.+0.j, 0.+0.j, 0.+0.j, 0.+0.j, 0.+0.j, 0.+0.j,\n",
      "             0.+0.j, 0.+0.j, 0.+0.j, 0.+0.j, 0.+0.j, 0.+0.j, 0.+0.j,\n",
      "             0.+0.j, 0.+0.j, 0.+0.j, 0.+0.j, 0.+0.j, 0.+0.j, 0.+0.j,\n",
      "             0.+0.j, 0.+0.j, 0.+0.j, 0.+0.j],\n",
      "            dims=(2, 2, 2, 2, 2))\n",
      "\u001b[32mqiskit_circuit_5q_10g_9_160f04_cfe9f1_error_min_qc_qiskit.qasm\u001b[0m\n",
      "\u001b[32mProbabilities A: \u001b[0m {'00000': 1.0}\n",
      "\u001b[34mqiskit_circuit_5q_10g_9_160f04_cfe9f1_error_min_qc_pytket.qasm\u001b[0m\n",
      "\u001b[34mProbabilities B: \u001b[0m {'00000': 1.0}\n"
     ]
    }
   ],
   "source": [
    "from qiskit.quantum_info import Statevector\n",
    "\n",
    "sv_a = Statevector.from_instruction(circuit_a)\n",
    "print(colored(PATH_QASM_A, \"green\"))\n",
    "print(colored(\"Statevector A: \", \"green\"), sv_a)\n",
    "\n",
    "if PATH_QASM_B:\n",
    "    sv_b = Statevector.from_instruction(circuit_b)\n",
    "    print(colored(PATH_QASM_B, \"blue\"))\n",
    "    print(colored(\"Statevector B: \", \"blue\"), sv_b)\n",
    "\n",
    "# compare the statevectors\n",
    "probabilities_a = sv_a.probabilities_dict()\n",
    "print(colored(PATH_QASM_A, \"green\"))\n",
    "print(colored(\"Probabilities A: \", \"green\"), probabilities_a)\n",
    "if PATH_QASM_B:\n",
    "    probabilities_b = sv_b.probabilities_dict()\n",
    "    print(colored(PATH_QASM_B, \"blue\"))\n",
    "    print(colored(\"Probabilities B: \", \"blue\"), probabilities_b)"
   ]
  },
  {
   "cell_type": "code",
   "execution_count": null,
   "id": "641d9e56",
   "metadata": {
    "papermill": {
     "duration": 0.003674,
     "end_time": "2024-11-04T15:01:32.531681",
     "exception": false,
     "start_time": "2024-11-04T15:01:32.528007",
     "status": "completed"
    },
    "tags": []
   },
   "outputs": [
    {
     "name": "stdout",
     "output_type": "stream",
     "text": [
      "OPENQASM 2.0;\n",
      "include \"qelib1.inc\";\n",
      "\n",
      "qreg a[2];\n",
      "qreg b[2];\n",
      "qreg cin[1];\n",
      "cx a[0],b[0];\n",
      "\n"
     ]
    }
   ],
   "source": [
    "from pytket.qasm import circuit_to_qasm_str\n",
    "from pytket.qasm import circuit_from_qasm_str\n",
    "qasm_str = \"\"\"\n",
    "include \"qelib1.inc\";\n",
    "qreg cin[1];\n",
    "qreg a[2];\n",
    "qreg b[2];\n",
    "cx a[0],b[0];\n",
    "\"\"\"\n",
    "\n",
    "circuit = circuit_from_qasm_str(qasm_str)\n",
    "qasm_str_reordered_by_pytket = circuit_to_qasm_str(circuit)\n",
    "print(qasm_str_reordered_by_pytket)"
   ]
  },
  {
   "cell_type": "code",
   "execution_count": null,
   "id": "7d6ae406",
   "metadata": {},
   "outputs": [
    {
     "name": "stdout",
     "output_type": "stream",
     "text": [
      "               \n",
      "cin: ──────────\n",
      "     ┌───┐     \n",
      "a_0: ┤ X ├──■──\n",
      "     └───┘  │  \n",
      "a_1: ───────┼──\n",
      "          ┌─┴─┐\n",
      "b_0: ─────┤ X ├\n",
      "          └───┘\n",
      "b_1: ──────────\n",
      "               \n",
      "               \n",
      "a_0: ───────■──\n",
      "     ┌───┐  │  \n",
      "a_1: ┤ X ├──┼──\n",
      "     └───┘┌─┴─┐\n",
      "b_0: ─────┤ X ├\n",
      "          └───┘\n",
      "b_1: ──────────\n",
      "               \n",
      "cin: ──────────\n",
      "               \n",
      "Probabilities W Input Original:  {'01010': 1.0}\n",
      "Probabilities W Input - After PyTket Reordering:  {'00010': 1.0}\n"
     ]
    }
   ],
   "source": [
    "# add one X gate at the register in position 1\n",
    "from qiskit import QuantumCircuit\n",
    "from qiskit.qasm2 import loads\n",
    "qc_input = QuantumCircuit(5)\n",
    "qc_input.x(1)\n",
    "\n",
    "\n",
    "circuit_a = loads(qasm_str)\n",
    "\n",
    "circuit_b = loads(qasm_str_reordered_by_pytket)\n",
    "\n",
    "\n",
    "# original circuit\n",
    "qc_w_input_original = circuit_a.compose(\n",
    "    qc_input, front=True)\n",
    "print(qc_w_input_original)\n",
    "\n",
    "# imported circuit\n",
    "qc_w_input_buggy = circuit_b.compose(\n",
    "    qc_input, front=True)\n",
    "print(qc_w_input_buggy)\n",
    "\n",
    "# compare the statevectors\n",
    "sv_w_input_original = Statevector.from_instruction(qc_w_input_original)\n",
    "probabilities_w_input_original = sv_w_input_original.probabilities_dict()\n",
    "print(\"Probabilities W Input Original: \", probabilities_w_input_original)\n",
    "\n",
    "sv_w_input_buggy = Statevector.from_instruction(qc_w_input_buggy)\n",
    "probabilities_w_input_buggy = sv_w_input_buggy.probabilities_dict()\n",
    "print(\n",
    "    \"Probabilities W Input - After PyTket Reordering: \",\n",
    "    probabilities_w_input_buggy)"
   ]
  },
  {
   "cell_type": "code",
   "execution_count": null,
   "id": "f115f7ec",
   "metadata": {},
   "outputs": [],
   "source": []
  }
 ],
 "metadata": {
  "kernelspec": {
   "display_name": "crosspl",
   "language": "python",
   "name": "python3"
  },
  "language_info": {
   "codemirror_mode": {
    "name": "ipython",
    "version": 3
   },
   "file_extension": ".py",
   "mimetype": "text/x-python",
   "name": "python",
   "nbconvert_exporter": "python",
   "pygments_lexer": "ipython3",
   "version": "3.10.14"
  },
  "papermill": {
   "default_parameters": {},
   "duration": 2.072019,
   "end_time": "2024-11-04T15:01:32.853968",
   "environment_variables": {},
   "exception": null,
   "input_path": "notebooks/010_Triage_Not_Equivalence.ipynb",
   "output_path": "reports/v001_manual/2024_11_04__14_48/analysis_output.ipynb",
   "parameters": {
    "PATH_PYTHON_FILE": "program_bank/v007/2024_10_31__17_51__qiskit/qiskit_circuit_5q_10g_9_160f04_cfe9f1_error_min.py",
    "PATH_QASM_A": "reports/v001_manual/2024_11_04__14_48/qiskit_circuit_5q_10g_9_160f04_cfe9f1_error_min_qc_qiskit.qasm",
    "PATH_QASM_B": "reports/v001_manual/2024_11_04__14_48/qiskit_circuit_5q_10g_9_160f04_cfe9f1_error_min_qc_pytket.qasm"
   },
   "start_time": "2024-11-04T15:01:30.781949",
   "version": "2.6.0"
  }
 },
 "nbformat": 4,
 "nbformat_minor": 5
}
