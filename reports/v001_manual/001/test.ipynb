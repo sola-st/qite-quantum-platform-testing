{
 "cells": [
  {
   "cell_type": "code",
   "execution_count": 1,
   "metadata": {},
   "outputs": [],
   "source": [
    "from IPython.core.debugger import set_trace"
   ]
  },
  {
   "cell_type": "code",
   "execution_count": 2,
   "metadata": {},
   "outputs": [
    {
     "name": "stdout",
     "output_type": "stream",
     "text": [
      "--------------------\n",
      "Circuit:\n",
      "0: ─────┤  <Z>\n",
      "1: ──SX─┤  <Z>\n",
      "2: ─────┤  <Z>\n",
      "--------------------\n",
      "QASM string from PennyLane:\n",
      "OPENQASM 2.0;\n",
      "include \"qelib1.inc\";\n",
      "qreg q[3];\n",
      "creg c[3];\n",
      "rz(1.5707963267948966) q[0];\n",
      "ry(1.5707963267948966) q[0];\n",
      "rz(-3.141592653589793) q[0];\n",
      "u1(1.5707963267948966) q[0];\n",
      "measure q[0] -> c[0];\n",
      "measure q[1] -> c[1];\n",
      "measure q[2] -> c[2];\n",
      "\n"
     ]
    }
   ],
   "source": [
    "import pennylane as qml\n",
    "from pennylane import numpy as np\n",
    "\n",
    "dev = qml.device(\"default.qubit\", wires=3)\n",
    "\n",
    "@qml.qnode(dev)\n",
    "def circuit():\n",
    "    qml.SX(wires=1)\n",
    "    return [\n",
    "        qml.expval(qml.PauliZ(0)),\n",
    "        qml.expval(qml.PauliZ(1)),\n",
    "        qml.expval(qml.PauliZ(2)),\n",
    "    ]\n",
    "\n",
    "\n",
    "np.random.seed(1)\n",
    "qml.drawer.use_style(\"black_white\")\n",
    "print(\"--------------------\")\n",
    "print(\"Circuit:\")\n",
    "print(qml.draw(circuit, level=\"device\")())\n",
    "\n",
    "from pennylane.tape import QuantumTape\n",
    "\n",
    "with QuantumTape(shots=10) as tape:\n",
    "    circuit.construct([], {})\n",
    "    qasm_str_pennylane = circuit.tape.to_openqasm()\n",
    "print(\"--------------------\")\n",
    "print(\"QASM string from PennyLane:\")\n",
    "print(qasm_str_pennylane)\n",
    "\n"
   ]
  },
  {
   "cell_type": "code",
   "execution_count": null,
   "metadata": {},
   "outputs": [],
   "source": []
  }
 ],
 "metadata": {
  "kernelspec": {
   "display_name": "crosspl",
   "language": "python",
   "name": "python3"
  },
  "language_info": {
   "codemirror_mode": {
    "name": "ipython",
    "version": 3
   },
   "file_extension": ".py",
   "mimetype": "text/x-python",
   "name": "python",
   "nbconvert_exporter": "python",
   "pygments_lexer": "ipython3",
   "version": "3.10.14"
  }
 },
 "nbformat": 4,
 "nbformat_minor": 2
}
