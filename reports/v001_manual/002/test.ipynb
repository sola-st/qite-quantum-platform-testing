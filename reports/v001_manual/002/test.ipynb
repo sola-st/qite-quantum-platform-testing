{
 "cells": [
  {
   "cell_type": "code",
   "execution_count": 3,
   "metadata": {},
   "outputs": [
    {
     "data": {
      "text/html": [
       "<pre style=\"word-wrap: normal;white-space: pre;background: #fff0;line-height: 1.1;font-family: &quot;Courier New&quot;,Courier,monospace\">                      ┌─┐         \n",
       "qr_0: ────────────────┤M├─────────\n",
       "      ┌──────────────┐└╥┘┌─┐      \n",
       "qr_1: ┤1             ├─╫─┤M├──────\n",
       "      │              │ ║ └╥┘┌─┐   \n",
       "qr_2: ┤0 Ms(0.41482) ├─╫──╫─┤M├───\n",
       "      │              │ ║  ║ └╥┘┌─┐\n",
       "qr_3: ┤2             ├─╫──╫──╫─┤M├\n",
       "      └─────┬─┬──────┘ ║  ║  ║ └╥┘\n",
       "qr_4: ──────┤M├────────╫──╫──╫──╫─\n",
       "            └╥┘        ║  ║  ║  ║ \n",
       "cr: 5/═══════╩═════════╩══╩══╩══╩═\n",
       "             4         0  1  2  3 </pre>"
      ],
      "text/plain": [
       "                      ┌─┐         \n",
       "qr_0: ────────────────┤M├─────────\n",
       "      ┌──────────────┐└╥┘┌─┐      \n",
       "qr_1: ┤1             ├─╫─┤M├──────\n",
       "      │              │ ║ └╥┘┌─┐   \n",
       "qr_2: ┤0 Ms(0.41482) ├─╫──╫─┤M├───\n",
       "      │              │ ║  ║ └╥┘┌─┐\n",
       "qr_3: ┤2             ├─╫──╫──╫─┤M├\n",
       "      └─────┬─┬──────┘ ║  ║  ║ └╥┘\n",
       "qr_4: ──────┤M├────────╫──╫──╫──╫─\n",
       "            └╥┘        ║  ║  ║  ║ \n",
       "cr: 5/═══════╩═════════╩══╩══╩══╩═\n",
       "             4         0  1  2  3 "
      ]
     },
     "execution_count": 3,
     "metadata": {},
     "output_type": "execute_result"
    }
   ],
   "source": [
    "from qiskit import QuantumCircuit, QuantumRegister, ClassicalRegister\n",
    "from qiskit.transpiler.preset_passmanagers import generate_preset_pass_manager\n",
    "\n",
    "# Section: Circuit\n",
    "qr = QuantumRegister(5, name='qr')\n",
    "cr = ClassicalRegister(5, name='cr')\n",
    "qc = QuantumCircuit(qr, cr, name='qc')\n",
    "\n",
    "# Apply gate operations\n",
    "# <START_GATES>\n",
    "\n",
    "qc.ms(0.414823, [qr[2], qr[1], qr[3]])\n",
    "\n",
    "qc.measure(qr, cr)\n",
    "\n",
    "qc.draw()"
   ]
  },
  {
   "cell_type": "code",
   "execution_count": 4,
   "metadata": {},
   "outputs": [
    {
     "name": "stdout",
     "output_type": "stream",
     "text": [
      "OPENQASM 2.0;\n",
      "include \"qelib1.inc\";\n",
      "gate ms(param0) q0,q1,q2 { rxx(0.414823) q0,q1; rxx(0.414823) q0,q2; rxx(0.414823) q1,q2; }\n",
      "qreg qr[5];\n",
      "creg cr[5];\n",
      "ms(0.414823) qr[2],qr[1],qr[3];\n",
      "measure qr[0] -> cr[0];\n",
      "measure qr[1] -> cr[1];\n",
      "measure qr[2] -> cr[2];\n",
      "measure qr[3] -> cr[3];\n",
      "measure qr[4] -> cr[4];\n"
     ]
    }
   ],
   "source": [
    "from qiskit import qasm2\n",
    "qasm_str = qasm2.dumps(qc)\n",
    "print(qasm_str)"
   ]
  },
  {
   "cell_type": "code",
   "execution_count": 7,
   "metadata": {},
   "outputs": [
    {
     "ename": "QASM2ParseError",
     "evalue": "\"<input>:3,27: 'rxx' is not defined in this scope\"",
     "output_type": "error",
     "traceback": [
      "\u001b[0;31m---------------------------------------------------------------------------\u001b[0m",
      "\u001b[0;31mQASM2ParseError\u001b[0m                           Traceback (most recent call last)",
      "Cell \u001b[0;32mIn[7], line 1\u001b[0m\n\u001b[0;32m----> 1\u001b[0m imported_qc \u001b[38;5;241m=\u001b[39m \u001b[43mqasm2\u001b[49m\u001b[38;5;241;43m.\u001b[39;49m\u001b[43mloads\u001b[49m\u001b[43m(\u001b[49m\u001b[43mqasm_str\u001b[49m\u001b[43m)\u001b[49m\n\u001b[1;32m      2\u001b[0m \u001b[38;5;66;03m# imported_qc = qasm2.loads(qasm_str, custom_instructions=qasm2.LEGACY_CUSTOM_INSTRUCTIONS)\u001b[39;00m\n\u001b[1;32m      3\u001b[0m imported_qc\u001b[38;5;241m.\u001b[39mdraw()\n",
      "File \u001b[0;32m~/.conda/envs/crosspl/lib/python3.10/site-packages/qiskit/qasm2/__init__.py:587\u001b[0m, in \u001b[0;36mloads\u001b[0;34m(string, include_path, custom_instructions, custom_classical, strict)\u001b[0m\n\u001b[1;32m    571\u001b[0m \u001b[38;5;250m\u001b[39m\u001b[38;5;124;03m\"\"\"Parse an OpenQASM 2 program from a string into a :class:`.QuantumCircuit`.\u001b[39;00m\n\u001b[1;32m    572\u001b[0m \n\u001b[1;32m    573\u001b[0m \u001b[38;5;124;03mArgs:\u001b[39;00m\n\u001b[0;32m   (...)\u001b[0m\n\u001b[1;32m    584\u001b[0m \u001b[38;5;124;03m    A circuit object representing the same OpenQASM 2 program.\u001b[39;00m\n\u001b[1;32m    585\u001b[0m \u001b[38;5;124;03m\"\"\"\u001b[39;00m\n\u001b[1;32m    586\u001b[0m custom_instructions \u001b[38;5;241m=\u001b[39m \u001b[38;5;28mlist\u001b[39m(custom_instructions)\n\u001b[0;32m--> 587\u001b[0m \u001b[38;5;28;01mreturn\u001b[39;00m \u001b[43m_parse\u001b[49m\u001b[38;5;241;43m.\u001b[39;49m\u001b[43mfrom_bytecode\u001b[49m\u001b[43m(\u001b[49m\n\u001b[1;32m    588\u001b[0m \u001b[43m    \u001b[49m\u001b[43m_qasm2\u001b[49m\u001b[38;5;241;43m.\u001b[39;49m\u001b[43mbytecode_from_string\u001b[49m\u001b[43m(\u001b[49m\n\u001b[1;32m    589\u001b[0m \u001b[43m        \u001b[49m\u001b[43mstring\u001b[49m\u001b[43m,\u001b[49m\n\u001b[1;32m    590\u001b[0m \u001b[43m        \u001b[49m\u001b[43m[\u001b[49m\u001b[43m_normalize_path\u001b[49m\u001b[43m(\u001b[49m\u001b[43mpath\u001b[49m\u001b[43m)\u001b[49m\u001b[43m \u001b[49m\u001b[38;5;28;43;01mfor\u001b[39;49;00m\u001b[43m \u001b[49m\u001b[43mpath\u001b[49m\u001b[43m \u001b[49m\u001b[38;5;129;43;01min\u001b[39;49;00m\u001b[43m \u001b[49m\u001b[43minclude_path\u001b[49m\u001b[43m]\u001b[49m\u001b[43m,\u001b[49m\n\u001b[1;32m    591\u001b[0m \u001b[43m        \u001b[49m\u001b[43m[\u001b[49m\n\u001b[1;32m    592\u001b[0m \u001b[43m            \u001b[49m\u001b[43m_qasm2\u001b[49m\u001b[38;5;241;43m.\u001b[39;49m\u001b[43mCustomInstruction\u001b[49m\u001b[43m(\u001b[49m\u001b[43mx\u001b[49m\u001b[38;5;241;43m.\u001b[39;49m\u001b[43mname\u001b[49m\u001b[43m,\u001b[49m\u001b[43m \u001b[49m\u001b[43mx\u001b[49m\u001b[38;5;241;43m.\u001b[39;49m\u001b[43mnum_params\u001b[49m\u001b[43m,\u001b[49m\u001b[43m \u001b[49m\u001b[43mx\u001b[49m\u001b[38;5;241;43m.\u001b[39;49m\u001b[43mnum_qubits\u001b[49m\u001b[43m,\u001b[49m\u001b[43m \u001b[49m\u001b[43mx\u001b[49m\u001b[38;5;241;43m.\u001b[39;49m\u001b[43mbuiltin\u001b[49m\u001b[43m)\u001b[49m\n\u001b[1;32m    593\u001b[0m \u001b[43m            \u001b[49m\u001b[38;5;28;43;01mfor\u001b[39;49;00m\u001b[43m \u001b[49m\u001b[43mx\u001b[49m\u001b[43m \u001b[49m\u001b[38;5;129;43;01min\u001b[39;49;00m\u001b[43m \u001b[49m\u001b[43mcustom_instructions\u001b[49m\n\u001b[1;32m    594\u001b[0m \u001b[43m        \u001b[49m\u001b[43m]\u001b[49m\u001b[43m,\u001b[49m\n\u001b[1;32m    595\u001b[0m \u001b[43m        \u001b[49m\u001b[38;5;28;43mtuple\u001b[39;49m\u001b[43m(\u001b[49m\u001b[43mcustom_classical\u001b[49m\u001b[43m)\u001b[49m\u001b[43m,\u001b[49m\n\u001b[1;32m    596\u001b[0m \u001b[43m        \u001b[49m\u001b[43mstrict\u001b[49m\u001b[43m,\u001b[49m\n\u001b[1;32m    597\u001b[0m \u001b[43m    \u001b[49m\u001b[43m)\u001b[49m\u001b[43m,\u001b[49m\n\u001b[1;32m    598\u001b[0m \u001b[43m    \u001b[49m\u001b[43mcustom_instructions\u001b[49m\u001b[43m,\u001b[49m\n\u001b[1;32m    599\u001b[0m \u001b[43m\u001b[49m\u001b[43m)\u001b[49m\n",
      "File \u001b[0;32m~/.conda/envs/crosspl/lib/python3.10/site-packages/qiskit/qasm2/parse.py:214\u001b[0m, in \u001b[0;36mfrom_bytecode\u001b[0;34m(bytecode, custom_instructions)\u001b[0m\n\u001b[1;32m    211\u001b[0m \u001b[38;5;66;03m# Pull this out as an explicit iterator so we can manually advance the loop in `DeclareGate`\u001b[39;00m\n\u001b[1;32m    212\u001b[0m \u001b[38;5;66;03m# contexts easily.\u001b[39;00m\n\u001b[1;32m    213\u001b[0m bc \u001b[38;5;241m=\u001b[39m \u001b[38;5;28miter\u001b[39m(bytecode)\n\u001b[0;32m--> 214\u001b[0m \u001b[38;5;28;01mfor\u001b[39;00m op \u001b[38;5;129;01min\u001b[39;00m bc:\n\u001b[1;32m    215\u001b[0m     \u001b[38;5;66;03m# We have to check `op.opcode` so many times, it's worth pulling out the extra attribute\u001b[39;00m\n\u001b[1;32m    216\u001b[0m     \u001b[38;5;66;03m# access.  We should check the opcodes in order of their likelihood to be in the OQ2 program\u001b[39;00m\n\u001b[1;32m    217\u001b[0m     \u001b[38;5;66;03m# for speed.  Gate applications are by far the most common for long programs.  This function\u001b[39;00m\n\u001b[1;32m    218\u001b[0m     \u001b[38;5;66;03m# is deliberately long and does not use hashmaps or function lookups for speed in\u001b[39;00m\n\u001b[1;32m    219\u001b[0m     \u001b[38;5;66;03m# Python-space.\u001b[39;00m\n\u001b[1;32m    220\u001b[0m     opcode \u001b[38;5;241m=\u001b[39m op\u001b[38;5;241m.\u001b[39mopcode\n\u001b[1;32m    221\u001b[0m     \u001b[38;5;66;03m# `OpCode` is an `enum` in Rust, but its instances don't have the same singleton property as\u001b[39;00m\n\u001b[1;32m    222\u001b[0m     \u001b[38;5;66;03m# Python `enum.Enum` objects.\u001b[39;00m\n",
      "\u001b[0;31mQASM2ParseError\u001b[0m: \"<input>:3,27: 'rxx' is not defined in this scope\""
     ]
    }
   ],
   "source": [
    "imported_qc = qasm2.loads(qasm_str)\n",
    "# imported_qc = qasm2.loads(qasm_str, custom_instructions=qasm2.LEGACY_CUSTOM_INSTRUCTIONS)\n",
    "imported_qc.draw()"
   ]
  },
  {
   "cell_type": "code",
   "execution_count": null,
   "metadata": {},
   "outputs": [],
   "source": []
  }
 ],
 "metadata": {
  "kernelspec": {
   "display_name": "crosspl",
   "language": "python",
   "name": "python3"
  },
  "language_info": {
   "codemirror_mode": {
    "name": "ipython",
    "version": 3
   },
   "file_extension": ".py",
   "mimetype": "text/x-python",
   "name": "python",
   "nbconvert_exporter": "python",
   "pygments_lexer": "ipython3",
   "version": "3.10.14"
  }
 },
 "nbformat": 4,
 "nbformat_minor": 2
}
