{
 "cells": [
  {
   "cell_type": "code",
   "execution_count": 12,
   "metadata": {},
   "outputs": [],
   "source": [
    "from qiskit import QuantumCircuit\n",
    "from qiskit import QuantumRegister, ClassicalRegister\n",
    "from qiskit_aer.primitives import Sampler\n",
    "from qiskit.visualization import plot_histogram\n",
    "from qiskit.quantum_info import Statevector\n",
    "from qiskit.quantum_info import DensityMatrix\n"
   ]
  },
  {
   "cell_type": "code",
   "execution_count": 33,
   "metadata": {},
   "outputs": [
    {
     "ename": "CircuitError",
     "evalue": "'The circuit contains non-unitary operations and cannot be controlled. Note that no qiskit.circuit.Instruction objects may be in the circuit for this operation.'",
     "output_type": "error",
     "traceback": [
      "\u001b[0;31m---------------------------------------------------------------------------\u001b[0m",
      "\u001b[0;31mQiskitError\u001b[0m                               Traceback (most recent call last)",
      "File \u001b[0;32m~/.conda/envs/crosspl/lib/python3.10/site-packages/qiskit/circuit/quantumcircuit.py:1727\u001b[0m, in \u001b[0;36mQuantumCircuit.control\u001b[0;34m(self, num_ctrl_qubits, label, ctrl_state, annotated)\u001b[0m\n\u001b[1;32m   1726\u001b[0m \u001b[38;5;28;01mtry\u001b[39;00m:\n\u001b[0;32m-> 1727\u001b[0m     gate \u001b[38;5;241m=\u001b[39m \u001b[38;5;28;43mself\u001b[39;49m\u001b[38;5;241;43m.\u001b[39;49m\u001b[43mto_gate\u001b[49m\u001b[43m(\u001b[49m\u001b[43m)\u001b[49m\n\u001b[1;32m   1728\u001b[0m \u001b[38;5;28;01mexcept\u001b[39;00m QiskitError \u001b[38;5;28;01mas\u001b[39;00m ex:\n",
      "File \u001b[0;32m~/.conda/envs/crosspl/lib/python3.10/site-packages/qiskit/circuit/quantumcircuit.py:3185\u001b[0m, in \u001b[0;36mQuantumCircuit.to_gate\u001b[0;34m(self, parameter_map, label)\u001b[0m\n\u001b[1;32m   3183\u001b[0m \u001b[38;5;28;01mfrom\u001b[39;00m \u001b[38;5;21;01mqiskit\u001b[39;00m\u001b[38;5;21;01m.\u001b[39;00m\u001b[38;5;21;01mconverters\u001b[39;00m\u001b[38;5;21;01m.\u001b[39;00m\u001b[38;5;21;01mcircuit_to_gate\u001b[39;00m \u001b[38;5;28;01mimport\u001b[39;00m circuit_to_gate\n\u001b[0;32m-> 3185\u001b[0m \u001b[38;5;28;01mreturn\u001b[39;00m \u001b[43mcircuit_to_gate\u001b[49m\u001b[43m(\u001b[49m\u001b[38;5;28;43mself\u001b[39;49m\u001b[43m,\u001b[49m\u001b[43m \u001b[49m\u001b[43mparameter_map\u001b[49m\u001b[43m,\u001b[49m\u001b[43m \u001b[49m\u001b[43mlabel\u001b[49m\u001b[38;5;241;43m=\u001b[39;49m\u001b[43mlabel\u001b[49m\u001b[43m)\u001b[49m\n",
      "File \u001b[0;32m~/.conda/envs/crosspl/lib/python3.10/site-packages/qiskit/converters/circuit_to_gate.py:60\u001b[0m, in \u001b[0;36mcircuit_to_gate\u001b[0;34m(circuit, parameter_map, equivalence_library, label)\u001b[0m\n\u001b[1;32m     59\u001b[0m \u001b[38;5;28;01mif\u001b[39;00m circuit\u001b[38;5;241m.\u001b[39mclbits:\n\u001b[0;32m---> 60\u001b[0m     \u001b[38;5;28;01mraise\u001b[39;00m QiskitError(\u001b[38;5;124m\"\u001b[39m\u001b[38;5;124mCircuit with classical bits cannot be converted to gate.\u001b[39m\u001b[38;5;124m\"\u001b[39m)\n\u001b[1;32m     61\u001b[0m \u001b[38;5;28;01mif\u001b[39;00m circuit\u001b[38;5;241m.\u001b[39mnum_vars:\n",
      "\u001b[0;31mQiskitError\u001b[0m: 'Circuit with classical bits cannot be converted to gate.'",
      "\nThe above exception was the direct cause of the following exception:\n",
      "\u001b[0;31mCircuitError\u001b[0m                              Traceback (most recent call last)",
      "Cell \u001b[0;32mIn[33], line 10\u001b[0m\n\u001b[1;32m      7\u001b[0m qc\u001b[38;5;241m.\u001b[39mdraw()\n\u001b[1;32m      9\u001b[0m \u001b[38;5;66;03m# make a controlled version of the circuit\u001b[39;00m\n\u001b[0;32m---> 10\u001b[0m qc_c \u001b[38;5;241m=\u001b[39m \u001b[43mqc\u001b[49m\u001b[38;5;241;43m.\u001b[39;49m\u001b[43mcontrol\u001b[49m\u001b[43m(\u001b[49m\u001b[43m)\u001b[49m\n\u001b[1;32m     11\u001b[0m qc_c\u001b[38;5;241m.\u001b[39mdraw()\n\u001b[1;32m     13\u001b[0m matrix_qiskit \u001b[38;5;241m=\u001b[39m DensityMatrix(qc)\n",
      "File \u001b[0;32m~/.conda/envs/crosspl/lib/python3.10/site-packages/qiskit/circuit/quantumcircuit.py:1729\u001b[0m, in \u001b[0;36mQuantumCircuit.control\u001b[0;34m(self, num_ctrl_qubits, label, ctrl_state, annotated)\u001b[0m\n\u001b[1;32m   1727\u001b[0m     gate \u001b[38;5;241m=\u001b[39m \u001b[38;5;28mself\u001b[39m\u001b[38;5;241m.\u001b[39mto_gate()\n\u001b[1;32m   1728\u001b[0m \u001b[38;5;28;01mexcept\u001b[39;00m QiskitError \u001b[38;5;28;01mas\u001b[39;00m ex:\n\u001b[0;32m-> 1729\u001b[0m     \u001b[38;5;28;01mraise\u001b[39;00m CircuitError(\n\u001b[1;32m   1730\u001b[0m         \u001b[38;5;124m\"\u001b[39m\u001b[38;5;124mThe circuit contains non-unitary operations and cannot be \u001b[39m\u001b[38;5;124m\"\u001b[39m\n\u001b[1;32m   1731\u001b[0m         \u001b[38;5;124m\"\u001b[39m\u001b[38;5;124mcontrolled. Note that no qiskit.circuit.Instruction objects may \u001b[39m\u001b[38;5;124m\"\u001b[39m\n\u001b[1;32m   1732\u001b[0m         \u001b[38;5;124m\"\u001b[39m\u001b[38;5;124mbe in the circuit for this operation.\u001b[39m\u001b[38;5;124m\"\u001b[39m\n\u001b[1;32m   1733\u001b[0m     ) \u001b[38;5;28;01mfrom\u001b[39;00m \u001b[38;5;21;01mex\u001b[39;00m\n\u001b[1;32m   1735\u001b[0m controlled_gate \u001b[38;5;241m=\u001b[39m gate\u001b[38;5;241m.\u001b[39mcontrol(num_ctrl_qubits, label, ctrl_state, annotated)\n\u001b[1;32m   1736\u001b[0m control_qreg \u001b[38;5;241m=\u001b[39m QuantumRegister(num_ctrl_qubits)\n",
      "\u001b[0;31mCircuitError\u001b[0m: 'The circuit contains non-unitary operations and cannot be controlled. Note that no qiskit.circuit.Instruction objects may be in the circuit for this operation.'"
     ]
    }
   ],
   "source": [
    "qr = QuantumRegister(1, name='qr')\n",
    "cr = ClassicalRegister(1, name='cr')\n",
    "qc = QuantumCircuit(qr, cr, name='qc')\n",
    "\n",
    "qc.sx(qr[0])\n",
    "\n",
    "qc.draw()\n",
    "\n",
    "matrix_qiskit = DensityMatrix(qc)\n",
    "state_vector_qiskit = Statevector(qc)\n",
    "\n",
    "print(matrix_qiskit)\n",
    "state_vector_qiskit.draw(\"latex\")"
   ]
  },
  {
   "cell_type": "code",
   "execution_count": 7,
   "metadata": {},
   "outputs": [
    {
     "name": "stdout",
     "output_type": "stream",
     "text": [
      "{1: 0.49904, 0: 0.50096}\n"
     ]
    },
    {
     "data": {
      "image/png": "[encoded data removed]",
      "text/plain": [
       "<Figure size 640x480 with 1 Axes>"
      ]
     },
     "execution_count": 7,
     "metadata": {},
     "output_type": "execute_result"
    }
   ],
   "source": [
    "# execute the quantum circuit\n",
    "qc.measure(qr, cr)\n",
    "quasi_dists = Sampler().run(qc, shots=100000).result().quasi_dists[0]\n",
    "print(quasi_dists)\n",
    "plot_histogram(quasi_dists)"
   ]
  },
  {
   "cell_type": "code",
   "execution_count": 27,
   "metadata": {},
   "outputs": [
    {
     "name": "stdout",
     "output_type": "stream",
     "text": [
      "OPENQASM 2.0;\n",
      "include \"qelib1.inc\";\n",
      "qreg qr[1];\n",
      "creg cr[1];\n",
      "sdg qr[0];\n",
      "h qr[0];\n",
      "sdg qr[0];\n"
     ]
    },
    {
     "data": {
      "text/html": [
       "<pre style=\"word-wrap: normal;white-space: pre;background: #fff0;line-height: 1.1;font-family: &quot;Courier New&quot;,Courier,monospace\">global phase: π/4\n",
       "      ┌─────┐┌───┐┌─────┐\n",
       "  qr: ┤ Sdg ├┤ H ├┤ Sdg ├\n",
       "      └─────┘└───┘└─────┘\n",
       "cr: 1/═══════════════════\n",
       "                         </pre>"
      ],
      "text/plain": [
       "global phase: π/4\n",
       "      ┌─────┐┌───┐┌─────┐\n",
       "  qr: ┤ Sdg ├┤ H ├┤ Sdg ├\n",
       "      └─────┘└───┘└─────┘\n",
       "cr: 1/═══════════════════\n",
       "                         "
      ]
     },
     "execution_count": 27,
     "metadata": {},
     "output_type": "execute_result"
    }
   ],
   "source": [
    "\n",
    "\n",
    "\n",
    "qc_decomposed = qc.decompose()#.decompose()\n",
    "print(qasm2.dumps(qc_decomposed))\n",
    "qc_decomposed.draw()"
   ]
  },
  {
   "cell_type": "code",
   "execution_count": 31,
   "metadata": {},
   "outputs": [
    {
     "name": "stdout",
     "output_type": "stream",
     "text": [
      "DensityMatrix([[0.5+0.j , 0. +0.5j],\n",
      "               [0. -0.5j, 0.5+0.j ]],\n",
      "              dims=(2,))\n"
     ]
    },
    {
     "data": {
      "text/latex": [
       "$$\\frac{\\sqrt{2}}{2} |0\\rangle- \\frac{\\sqrt{2} i}{2} |1\\rangle$$"
      ],
      "text/plain": [
       "<IPython.core.display.Latex object>"
      ]
     },
     "execution_count": 31,
     "metadata": {},
     "output_type": "execute_result"
    }
   ],
   "source": [
    "# import\n",
    "qasm_str = \"\"\"\n",
    "OPENQASM 2.0;\n",
    "include \"qelib1.inc\";\n",
    "\n",
    "qreg qr[1];\n",
    "creg cr[1];\n",
    "u1(1.5*pi) qr[0];\n",
    "u2(0.0*pi,1.0*pi) qr[0];\n",
    "u1(1.5*pi) qr[0];\n",
    "\"\"\"\n",
    "\n",
    "qasm_str = \"\"\"\n",
    "OPENQASM 2.0;\n",
    "include \"qelib1.inc\";\n",
    "qreg qr[1];\n",
    "creg cr[1];\n",
    "sdg qr[0];\n",
    "h qr[0];\n",
    "sdg qr[0];\n",
    "\"\"\"\n",
    "\n",
    "\n",
    "from qiskit import qasm2\n",
    "qc_import = qasm2.loads(qasm_str, custom_instructions=qasm2.LEGACY_CUSTOM_INSTRUCTIONS)\n",
    "qc_import.draw()\n",
    "matrix_pytket = DensityMatrix(qc_import)\n",
    "state_vector_pytket = Statevector(qc_import)\n",
    "print(matrix_pytket)\n",
    "state_vector_pytket.draw(\"latex\")\n"
   ]
  },
  {
   "cell_type": "code",
   "execution_count": null,
   "metadata": {},
   "outputs": [],
   "source": [
    "\n",
    "# execute the quantum circuit\n",
    "qc_import.measure(0, 0)\n",
    "quasi_dists = Sampler().run(qc_import, shots=100000).result().quasi_dists[0]\n",
    "print(quasi_dists)\n",
    "plot_histogram(quasi_dists)"
   ]
  },
  {
   "cell_type": "code",
   "execution_count": 17,
   "metadata": {},
   "outputs": [
    {
     "data": {
      "text/plain": [
       "True"
      ]
     },
     "execution_count": 17,
     "metadata": {},
     "output_type": "execute_result"
    }
   ],
   "source": [
    "# compare two matrices with numpy\n",
    "import numpy as np\n",
    "np.allclose(matrix_qiskit.data, matrix_pytket.data)"
   ]
  },
  {
   "cell_type": "code",
   "execution_count": 18,
   "metadata": {},
   "outputs": [
    {
     "name": "stdout",
     "output_type": "stream",
     "text": [
      "{\n",
      "  \"check_time\": 0.000314927,\n",
      "  \"checkers\": [\n",
      "    {\n",
      "      \"checker\": \"decision_diagram_alternating\",\n",
      "      \"equivalence\": \"no_information\",\n",
      "      \"max_nodes\": 0,\n",
      "      \"runtime\": 0.0\n",
      "    },\n",
      "    {\n",
      "      \"checker\": \"zx\",\n",
      "      \"equivalence\": \"equivalent_up_to_global_phase\",\n",
      "      \"runtime\": 4.9985000000000003e-05\n",
      "    },\n",
      "    {\n",
      "      \"checker\": \"decision_diagram_simulation\",\n",
      "      \"equivalence\": \"no_information\",\n",
      "      \"max_nodes\": 0,\n",
      "      \"runtime\": 0.0\n",
      "    },\n",
      "    {\n",
      "      \"checker\": \"decision_diagram_simulation\",\n",
      "      \"equivalence\": \"no_information\",\n",
      "      \"max_nodes\": 0,\n",
      "      \"runtime\": 0.0\n",
      "    }\n",
      "  ],\n",
      "  \"circuit1\": {\n",
      "    \"name\": \"qiskit_circuit_30q_10g_1257_47ef88_4ff963_error_min_qc_pytket\",\n",
      "    \"num_gates\": 1,\n",
      "    \"num_qubits\": 1\n",
      "  },\n",
      "  \"circuit2\": {\n",
      "    \"name\": \"qiskit_circuit_30q_10g_1257_47ef88_4ff963_error_min_qc_qiskit\",\n",
      "    \"num_gates\": 1,\n",
      "    \"num_qubits\": 1\n",
      "  },\n",
      "  \"configuration\": {\n",
      "    \"application\": {\n",
      "      \"alternating\": \"proportional\",\n",
      "      \"simulation\": \"proportional\"\n",
      "    },\n",
      "    \"execution\": {\n",
      "      \"nthreads\": 48,\n",
      "      \"parallel\": true,\n",
      "      \"run_alternating_checker\": true,\n",
      "      \"run_construction_checker\": false,\n",
      "      \"run_simulation_checker\": true,\n",
      "      \"run_zx_checker\": true,\n",
      "      \"tolerance\": 2.2737367544323206e-13\n",
      "    },\n",
      "    \"functionality\": {\n",
      "      \"check_partial_equivalence\": false,\n",
      "      \"trace_threshold\": 1e-08\n",
      "    },\n",
      "    \"optimizations\": {\n",
      "      \"backpropagate_output_permutation\": false,\n",
      "      \"elide_permutations\": true,\n",
      "      \"fuse_consecutive_single_qubit_gates\": true,\n",
      "      \"reconstruct_swaps\": true,\n",
      "      \"remove_diagonal_gates_before_measure\": false,\n",
      "      \"reorder_operations\": true,\n",
      "      \"transform_dynamic_circuit\": false\n",
      "    },\n",
      "    \"parameterized\": {\n",
      "      \"additional_instantiations\": 0,\n",
      "      \"tolerance\": 1e-12\n",
      "    },\n",
      "    \"simulation\": {\n",
      "      \"fidelity_threshold\": 1e-08,\n",
      "      \"max_sims\": 2,\n",
      "      \"seed\": 0,\n",
      "      \"state_type\": \"computational_basis\",\n",
      "      \"store_counterexample_input\": false,\n",
      "      \"store_counterexample_output\": false\n",
      "    }\n",
      "  },\n",
      "  \"equivalence\": \"equivalent_up_to_global_phase\",\n",
      "  \"parameterized\": {\n",
      "    \"performed_instantiations\": 0\n",
      "  },\n",
      "  \"preprocessing_time\": 0.000479825,\n",
      "  \"simulations\": {\n",
      "    \"performed\": 0,\n",
      "    \"started\": 2\n",
      "  }\n",
      "}\n"
     ]
    }
   ],
   "source": [
    "qasm_path_pytket = \"qiskit_circuit_30q_10g_1257_47ef88_4ff963_error_min_qc_pytket.qasm\"\n",
    "qasm_path_qiskit = \"qiskit_circuit_30q_10g_1257_47ef88_4ff963_error_min_qc_qiskit.qasm\"\n",
    "\n",
    "\n",
    "from mqt import qcec\n",
    "result = qcec.verify(str(qasm_path_pytket), str(qasm_path_qiskit))\n",
    "print(result)\n"
   ]
  },
  {
   "cell_type": "code",
   "execution_count": 20,
   "metadata": {},
   "outputs": [
    {
     "name": "stdout",
     "output_type": "stream",
     "text": [
      "equivalent_up_to_global_phase\n"
     ]
    }
   ],
   "source": [
    "equivalence = str(result.equivalence)\n",
    "print(equivalence)"
   ]
  },
  {
   "cell_type": "markdown",
   "metadata": {},
   "source": [
    "# Try to create a controlled operation"
   ]
  },
  {
   "cell_type": "code",
   "execution_count": 37,
   "metadata": {},
   "outputs": [
    {
     "name": "stdout",
     "output_type": "stream",
     "text": [
      "OPENQASM 2.0;\n",
      "include \"qelib1.inc\";\n",
      "qreg q[1];\n",
      "sx q[0];\n"
     ]
    },
    {
     "data": {
      "text/html": [
       "<pre style=\"word-wrap: normal;white-space: pre;background: #fff0;line-height: 1.1;font-family: &quot;Courier New&quot;,Courier,monospace\">                   \n",
       "q4: ───────■───────\n",
       "    ┌──────┴──────┐\n",
       " q: ┤ circuit-251 ├\n",
       "    └─────────────┘</pre>"
      ],
      "text/plain": [
       "                   \n",
       "q4: ───────■───────\n",
       "    ┌──────┴──────┐\n",
       " q: ┤ circuit-251 ├\n",
       "    └─────────────┘"
      ]
     },
     "execution_count": 37,
     "metadata": {},
     "output_type": "execute_result"
    }
   ],
   "source": [
    "qc = QuantumCircuit(1)\n",
    "qc.sx(0)\n",
    "\n",
    "# create controlled version of the circuit\n",
    "qc_c = qc.control(1)\n",
    "\n",
    "# export\n",
    "qasm_original = qasm2.dumps(qc)\n",
    "print(qasm_original)\n",
    "qc_c.draw()"
   ]
  },
  {
   "cell_type": "code",
   "execution_count": 38,
   "metadata": {},
   "outputs": [
    {
     "name": "stdout",
     "output_type": "stream",
     "text": [
      "OPENQASM 2.0;\n",
      "include \"qelib1.inc\";\n",
      "qreg q4[1];\n",
      "qreg q[1];\n",
      "p(0) q4[0];\n",
      "p(pi/2) q[0];\n",
      "cx q4[0],q[0];\n",
      "u(-pi/4,0,0) q[0];\n",
      "cx q4[0],q[0];\n",
      "u(pi/4,-pi/2,0) q[0];\n",
      "p(pi/4) q4[0];\n"
     ]
    },
    {
     "data": {
      "text/html": [
       "<pre style=\"word-wrap: normal;white-space: pre;background: #fff0;line-height: 1.1;font-family: &quot;Courier New&quot;,Courier,monospace\">     ┌──────┐                              ┌────────┐   \n",
       "q4: ─┤ P(0) ├───■───────────────────■──────┤ P(π/4) ├───\n",
       "    ┌┴──────┴┐┌─┴─┐┌─────────────┐┌─┴─┐┌───┴────────┴──┐\n",
       " q: ┤ P(π/2) ├┤ X ├┤ U(-π/4,0,0) ├┤ X ├┤ U(π/4,-π/2,0) ├\n",
       "    └────────┘└───┘└─────────────┘└───┘└───────────────┘</pre>"
      ],
      "text/plain": [
       "     ┌──────┐                              ┌────────┐   \n",
       "q4: ─┤ P(0) ├───■───────────────────■──────┤ P(π/4) ├───\n",
       "    ┌┴──────┴┐┌─┴─┐┌─────────────┐┌─┴─┐┌───┴────────┴──┐\n",
       " q: ┤ P(π/2) ├┤ X ├┤ U(-π/4,0,0) ├┤ X ├┤ U(π/4,-π/2,0) ├\n",
       "    └────────┘└───┘└─────────────┘└───┘└───────────────┘"
      ]
     },
     "execution_count": 38,
     "metadata": {},
     "output_type": "execute_result"
    }
   ],
   "source": [
    "qc_decomposed = qc_c.decompose()\n",
    "\n",
    "# export\n",
    "qasm_decomposed = qasm2.dumps(qc_decomposed)\n",
    "print(qasm_decomposed)\n",
    "qc_decomposed.draw()"
   ]
  },
  {
   "cell_type": "code",
   "execution_count": 41,
   "metadata": {},
   "outputs": [
    {
     "name": "stdout",
     "output_type": "stream",
     "text": [
      "{\n",
      "  \"check_time\": 0.0,\n",
      "  \"checkers\": [],\n",
      "  \"circuit1\": {\n",
      "    \"name\": \"tmppg10nwt3\",\n",
      "    \"num_gates\": 0,\n",
      "    \"num_qubits\": 0\n",
      "  },\n",
      "  \"circuit2\": {\n",
      "    \"name\": \"tmp9newrm2q\",\n",
      "    \"num_gates\": 0,\n",
      "    \"num_qubits\": 0\n",
      "  },\n",
      "  \"configuration\": {\n",
      "    \"application\": {\n",
      "      \"alternating\": \"proportional\",\n",
      "      \"simulation\": \"proportional\"\n",
      "    },\n",
      "    \"execution\": {\n",
      "      \"nthreads\": 48,\n",
      "      \"parallel\": true,\n",
      "      \"run_alternating_checker\": true,\n",
      "      \"run_construction_checker\": false,\n",
      "      \"run_simulation_checker\": true,\n",
      "      \"run_zx_checker\": true,\n",
      "      \"tolerance\": 2.2737367544323206e-13\n",
      "    },\n",
      "    \"functionality\": {\n",
      "      \"check_partial_equivalence\": false,\n",
      "      \"trace_threshold\": 1e-08\n",
      "    },\n",
      "    \"optimizations\": {\n",
      "      \"backpropagate_output_permutation\": false,\n",
      "      \"elide_permutations\": true,\n",
      "      \"fuse_consecutive_single_qubit_gates\": true,\n",
      "      \"reconstruct_swaps\": true,\n",
      "      \"remove_diagonal_gates_before_measure\": false,\n",
      "      \"reorder_operations\": true,\n",
      "      \"transform_dynamic_circuit\": false\n",
      "    },\n",
      "    \"parameterized\": {\n",
      "      \"additional_instantiations\": 0,\n",
      "      \"tolerance\": 1e-12\n",
      "    },\n",
      "    \"simulation\": {\n",
      "      \"fidelity_threshold\": 1e-08,\n",
      "      \"max_sims\": 1,\n",
      "      \"seed\": 0,\n",
      "      \"state_type\": \"computational_basis\",\n",
      "      \"store_counterexample_input\": false,\n",
      "      \"store_counterexample_output\": false\n",
      "    }\n",
      "  },\n",
      "  \"equivalence\": \"equivalent\",\n",
      "  \"parameterized\": {\n",
      "    \"performed_instantiations\": 0\n",
      "  },\n",
      "  \"preprocessing_time\": 0.000232119\n",
      "}\n"
     ]
    }
   ],
   "source": [
    "# store the two qasm to tmp files\n",
    "import tempfile\n",
    "\n",
    "with tempfile.NamedTemporaryFile(mode='w', delete=False, suffix=\".qasm\") as f:\n",
    "    f.write(qasm_original)\n",
    "    qasm_path_original = f.name\n",
    "    with tempfile.NamedTemporaryFile(mode='w', delete=False, suffix=\".qasm\") as f:\n",
    "        f.write(qasm_decomposed)\n",
    "        qasm_path_decomposed = f.name\n",
    "        # check equivalence\n",
    "        result = qcec.verify(qasm_path_original, qasm_path_decomposed)\n",
    "        print(result)"
   ]
  },
  {
   "cell_type": "code",
   "execution_count": null,
   "metadata": {},
   "outputs": [],
   "source": []
  }
 ],
 "metadata": {
  "kernelspec": {
   "display_name": "crosspl",
   "language": "python",
   "name": "python3"
  },
  "language_info": {
   "codemirror_mode": {
    "name": "ipython",
    "version": 3
   },
   "file_extension": ".py",
   "mimetype": "text/x-python",
   "name": "python",
   "nbconvert_exporter": "python",
   "pygments_lexer": "ipython3",
   "version": "3.10.14"
  }
 },
 "nbformat": 4,
 "nbformat_minor": 2
}
