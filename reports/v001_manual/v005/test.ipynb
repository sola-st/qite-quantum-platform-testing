{
 "cells": [
  {
   "cell_type": "code",
   "execution_count": null,
   "metadata": {},
   "outputs": [],
   "source": []
  },
  {
   "cell_type": "code",
   "execution_count": 15,
   "metadata": {},
   "outputs": [],
   "source": [
    "path_a = \"qiskit_circuit_30q_10g_257_564c6c_9a9f86_error_min_qc_qiskit.qasm\"\n",
    "path_b = \"qiskit_circuit_30q_10g_257_564c6c_9a9f86_error_min_qc_pennylane.qasm\""
   ]
  },
  {
   "cell_type": "code",
   "execution_count": 16,
   "metadata": {},
   "outputs": [
    {
     "ename": "RuntimeError",
     "evalue": "Could not import first circuit: <input>:3:6:\nExpected 'Identifier', got 'ms'.",
     "output_type": "error",
     "traceback": [
      "\u001b[0;31m---------------------------------------------------------------------------\u001b[0m",
      "\u001b[0;31mRuntimeError\u001b[0m                              Traceback (most recent call last)",
      "Cell \u001b[0;32mIn[16], line 2\u001b[0m\n\u001b[1;32m      1\u001b[0m \u001b[38;5;28;01mfrom\u001b[39;00m \u001b[38;5;21;01mmqt\u001b[39;00m \u001b[38;5;28;01mimport\u001b[39;00m qcec\n\u001b[0;32m----> 2\u001b[0m result \u001b[38;5;241m=\u001b[39m \u001b[43mqcec\u001b[49m\u001b[38;5;241;43m.\u001b[39;49m\u001b[43mverify\u001b[49m\u001b[43m(\u001b[49m\u001b[43mpath_a\u001b[49m\u001b[43m,\u001b[49m\u001b[43m \u001b[49m\u001b[43mpath_b\u001b[49m\u001b[43m)\u001b[49m\n\u001b[1;32m      3\u001b[0m \u001b[38;5;28mprint\u001b[39m(result)\n",
      "File \u001b[0;32m~/.conda/envs/crosspl/lib/python3.10/site-packages/mqt/qcec/verify.py:56\u001b[0m, in \u001b[0;36mverify\u001b[0;34m(circ1, circ2, configuration, **kwargs)\u001b[0m\n\u001b[1;32m     53\u001b[0m     \u001b[38;5;28;01mreturn\u001b[39;00m check_parameterized(circ1, circ2, configuration)\n\u001b[1;32m     55\u001b[0m \u001b[38;5;66;03m# create the equivalence checker from configuration\u001b[39;00m\n\u001b[0;32m---> 56\u001b[0m ecm \u001b[38;5;241m=\u001b[39m \u001b[43mEquivalenceCheckingManager\u001b[49m\u001b[43m(\u001b[49m\u001b[43mcirc1\u001b[49m\u001b[43m,\u001b[49m\u001b[43m \u001b[49m\u001b[43mcirc2\u001b[49m\u001b[43m,\u001b[49m\u001b[43m \u001b[49m\u001b[43mconfiguration\u001b[49m\u001b[43m)\u001b[49m\n\u001b[1;32m     58\u001b[0m \u001b[38;5;66;03m# execute the check\u001b[39;00m\n\u001b[1;32m     59\u001b[0m ecm\u001b[38;5;241m.\u001b[39mrun()\n",
      "\u001b[0;31mRuntimeError\u001b[0m: Could not import first circuit: <input>:3:6:\nExpected 'Identifier', got 'ms'."
     ]
    }
   ],
   "source": [
    "from mqt import qcec\n",
    "result = qcec.verify(path_a, path_b)\n",
    "print(result)"
   ]
  },
  {
   "cell_type": "code",
   "execution_count": 21,
   "metadata": {},
   "outputs": [
    {
     "name": "stdout",
     "output_type": "stream",
     "text": [
      "/tmp/tmpz_99lj0n.qasm\n",
      "/tmp/tmpexi6csol.qasm\n",
      "\n",
      "\n"
     ]
    },
    {
     "ename": "RuntimeError",
     "evalue": "Could not import first circuit: <input>:4:6:\nExpected 'Identifier', got 'ms'.",
     "output_type": "error",
     "traceback": [
      "\u001b[0;31m---------------------------------------------------------------------------\u001b[0m",
      "\u001b[0;31mRuntimeError\u001b[0m                              Traceback (most recent call last)",
      "Cell \u001b[0;32mIn[21], line 46\u001b[0m\n\u001b[1;32m     43\u001b[0m             qasm_string_b \u001b[38;5;241m=\u001b[39m f\u001b[38;5;241m.\u001b[39mread()\n\u001b[1;32m     44\u001b[0m             \u001b[38;5;28mprint\u001b[39m(qasm_string_b)\n\u001b[0;32m---> 46\u001b[0m result \u001b[38;5;241m=\u001b[39m \u001b[43mqcec\u001b[49m\u001b[38;5;241;43m.\u001b[39;49m\u001b[43mverify\u001b[49m\u001b[43m(\u001b[49m\u001b[43mpath_a\u001b[49m\u001b[43m,\u001b[49m\u001b[43m \u001b[49m\u001b[43mpath_b\u001b[49m\u001b[43m)\u001b[49m\n\u001b[1;32m     47\u001b[0m \u001b[38;5;28mprint\u001b[39m(result)\n",
      "File \u001b[0;32m~/.conda/envs/crosspl/lib/python3.10/site-packages/mqt/qcec/verify.py:56\u001b[0m, in \u001b[0;36mverify\u001b[0;34m(circ1, circ2, configuration, **kwargs)\u001b[0m\n\u001b[1;32m     53\u001b[0m     \u001b[38;5;28;01mreturn\u001b[39;00m check_parameterized(circ1, circ2, configuration)\n\u001b[1;32m     55\u001b[0m \u001b[38;5;66;03m# create the equivalence checker from configuration\u001b[39;00m\n\u001b[0;32m---> 56\u001b[0m ecm \u001b[38;5;241m=\u001b[39m \u001b[43mEquivalenceCheckingManager\u001b[49m\u001b[43m(\u001b[49m\u001b[43mcirc1\u001b[49m\u001b[43m,\u001b[49m\u001b[43m \u001b[49m\u001b[43mcirc2\u001b[49m\u001b[43m,\u001b[49m\u001b[43m \u001b[49m\u001b[43mconfiguration\u001b[49m\u001b[43m)\u001b[49m\n\u001b[1;32m     58\u001b[0m \u001b[38;5;66;03m# execute the check\u001b[39;00m\n\u001b[1;32m     59\u001b[0m ecm\u001b[38;5;241m.\u001b[39mrun()\n",
      "\u001b[0;31mRuntimeError\u001b[0m: Could not import first circuit: <input>:4:6:\nExpected 'Identifier', got 'ms'."
     ]
    }
   ],
   "source": [
    "qasm_string_a = \"\"\"\n",
    "OPENQASM 2.0;\n",
    "include \"qelib1.inc\";\n",
    "gate ms(param0) q0,q1,q2 { rxx(0.844396) q0,q1; rxx(0.844396) q0,q2; rxx(0.844396) q1,q2; }\n",
    "qreg qr[3];\n",
    "creg cr[3];\n",
    "ms(0.844396) qr[3],qr[16],qr[22];\n",
    "measure qr[0] -> cr[0];\n",
    "measure qr[1] -> cr[1];\n",
    "measure qr[2] -> cr[2];\n",
    "\"\"\"\n",
    "\n",
    "qasm_string_b = \"\"\"\n",
    "OPENQASM 2.0;\n",
    "include \"qelib1.inc\";\n",
    "qreg qr[3];\n",
    "creg cr[3];\n",
    "h qr[0];\n",
    "measure qr[0] -> cr[0];\n",
    "measure qr[1] -> cr[1];\n",
    "measure qr[2] -> cr[2];\n",
    "\"\"\"\n",
    "\n",
    "import tempfile\n",
    "\n",
    "with tempfile.NamedTemporaryFile(mode='w', delete=False, suffix=\".qasm\") as f:\n",
    "    f.write(qasm_string_a)\n",
    "    path_a = f.name\n",
    "    with tempfile.NamedTemporaryFile(mode='w', delete=False, suffix=\".qasm\") as f:\n",
    "        f.write(qasm_string_b)\n",
    "        path_b = f.name\n",
    "        print(path_a)\n",
    "        print(path_b)\n",
    "        import time\n",
    "        time.sleep(1)\n",
    "        # read the qasm files\n",
    "        with open(path_a, 'r') as f:\n",
    "            qasm_string_a = f.read()\n",
    "            print(qasm_string_a)\n",
    "        with open(path_b, 'r') as f:\n",
    "            qasm_string_b = f.read()\n",
    "            print(qasm_string_b)\n",
    "\n",
    "result = qcec.verify(path_a, path_b)\n",
    "print(result)\n"
   ]
  },
  {
   "cell_type": "code",
   "execution_count": 17,
   "metadata": {},
   "outputs": [
    {
     "ename": "RuntimeError",
     "evalue": "Could not import first circuit: <input>:3:6:\nExpected 'Identifier', got 'ms'.",
     "output_type": "error",
     "traceback": [
      "\u001b[0;31m---------------------------------------------------------------------------\u001b[0m",
      "\u001b[0;31mRuntimeError\u001b[0m                              Traceback (most recent call last)",
      "Cell \u001b[0;32mIn[17], line 4\u001b[0m\n\u001b[1;32m      1\u001b[0m path_a \u001b[38;5;241m=\u001b[39m \u001b[38;5;124m\"\u001b[39m\u001b[38;5;124mtest_a.qasm\u001b[39m\u001b[38;5;124m\"\u001b[39m\n\u001b[1;32m      2\u001b[0m path_b \u001b[38;5;241m=\u001b[39m \u001b[38;5;124m\"\u001b[39m\u001b[38;5;124mtest_b.qasm\u001b[39m\u001b[38;5;124m\"\u001b[39m\n\u001b[0;32m----> 4\u001b[0m result \u001b[38;5;241m=\u001b[39m \u001b[43mqcec\u001b[49m\u001b[38;5;241;43m.\u001b[39;49m\u001b[43mverify\u001b[49m\u001b[43m(\u001b[49m\u001b[43mpath_a\u001b[49m\u001b[43m,\u001b[49m\u001b[43m \u001b[49m\u001b[43mpath_b\u001b[49m\u001b[43m)\u001b[49m\n\u001b[1;32m      5\u001b[0m \u001b[38;5;28mprint\u001b[39m(result)\n",
      "File \u001b[0;32m~/.conda/envs/crosspl/lib/python3.10/site-packages/mqt/qcec/verify.py:56\u001b[0m, in \u001b[0;36mverify\u001b[0;34m(circ1, circ2, configuration, **kwargs)\u001b[0m\n\u001b[1;32m     53\u001b[0m     \u001b[38;5;28;01mreturn\u001b[39;00m check_parameterized(circ1, circ2, configuration)\n\u001b[1;32m     55\u001b[0m \u001b[38;5;66;03m# create the equivalence checker from configuration\u001b[39;00m\n\u001b[0;32m---> 56\u001b[0m ecm \u001b[38;5;241m=\u001b[39m \u001b[43mEquivalenceCheckingManager\u001b[49m\u001b[43m(\u001b[49m\u001b[43mcirc1\u001b[49m\u001b[43m,\u001b[49m\u001b[43m \u001b[49m\u001b[43mcirc2\u001b[49m\u001b[43m,\u001b[49m\u001b[43m \u001b[49m\u001b[43mconfiguration\u001b[49m\u001b[43m)\u001b[49m\n\u001b[1;32m     58\u001b[0m \u001b[38;5;66;03m# execute the check\u001b[39;00m\n\u001b[1;32m     59\u001b[0m ecm\u001b[38;5;241m.\u001b[39mrun()\n",
      "\u001b[0;31mRuntimeError\u001b[0m: Could not import first circuit: <input>:3:6:\nExpected 'Identifier', got 'ms'."
     ]
    }
   ],
   "source": [
    "path_a = \"test_a.qasm\"\n",
    "path_b = \"test_b.qasm\"\n",
    "\n",
    "result = qcec.verify(path_a, path_b)\n",
    "print(result)"
   ]
  },
  {
   "cell_type": "code",
   "execution_count": 22,
   "metadata": {},
   "outputs": [
    {
     "name": "stdout",
     "output_type": "stream",
     "text": [
      "Collecting mqt.core\n",
      "  Downloading mqt_core-2.7.0-cp310-cp310-manylinux_2_27_x86_64.manylinux_2_28_x86_64.whl.metadata (9.7 kB)\n",
      "Downloading mqt_core-2.7.0-cp310-cp310-manylinux_2_27_x86_64.manylinux_2_28_x86_64.whl (596 kB)\n",
      "\u001b[2K   \u001b[90m━━━━━━━━━━━━━━━━━━━━━━━━━━━━━━━━━━━━━━━━\u001b[0m \u001b[32m596.8/596.8 kB\u001b[0m \u001b[31m17.8 MB/s\u001b[0m eta \u001b[36m0:00:00\u001b[0m\n",
      "\u001b[?25hInstalling collected packages: mqt.core\n",
      "Successfully installed mqt.core-2.7.0\n"
     ]
    }
   ],
   "source": [
    "!pip install mqt.core"
   ]
  },
  {
   "cell_type": "code",
   "execution_count": 35,
   "metadata": {},
   "outputs": [
    {
     "name": "stdout",
     "output_type": "stream",
     "text": [
      "mqt.core version: 2.7.0\n",
      "mqt.qcec version: 2.7.1\n",
      "qiskit version: 1.2.0\n"
     ]
    }
   ],
   "source": [
    "import mqt.core as core\n",
    "import mqt.qcec as qcec\n",
    "import qiskit\n",
    "# version\n",
    "print(\"mqt.core version:\", core.__version__)\n",
    "print(\"mqt.qcec version:\", qcec.__version__)\n",
    "print(\"qiskit version:\", qiskit.__version__)"
   ]
  },
  {
   "cell_type": "code",
   "execution_count": 46,
   "metadata": {},
   "outputs": [
    {
     "data": {
      "text/plain": [
       "\n",
       "i:   0\u001b[0m   1\u001b[0m   2\u001b[0m\n",
       "1:------------\n",
       " :\u001b[1m\u001b[36m rxx\u001b[0m\u001b[1m\u001b[36m rxx\u001b[0m   |\u001b[0m  p: (0.844396) \n",
       " :\u001b[1m\u001b[36m rxx\u001b[0m   |\u001b[0m\u001b[1m\u001b[36m rxx\u001b[0m  p: (0.844396) \n",
       " :   |\u001b[0m\u001b[1m\u001b[36m rxx\u001b[0m\u001b[1m\u001b[36m rxx\u001b[0m  p: (0.844396) \n",
       " -------------\n",
       "2:\u001b[34m   0\u001b[0m   |   |\n",
       "3:   |\u001b[34m   1\u001b[0m   |\n",
       "4:   |   |\u001b[34m   2\u001b[0m\n",
       "o:   0   1   2"
      ]
     },
     "execution_count": 46,
     "metadata": {},
     "output_type": "execute_result"
    }
   ],
   "source": [
    "from mqt.core import QuantumComputation\n",
    "\n",
    "qasm_string_a = \"\"\"\n",
    "OPENQASM 2.0;\n",
    "include \"qelib1.inc\";\n",
    "gate ms_any_text(param0) q0,q1,q2 { rxx(0.844396) q0,q1; rxx(0.844396) q0,q2; rxx(0.844396) q1,q2; }\n",
    "qreg qr[3];\n",
    "creg cr[3];\n",
    "ms_any_text(0.844396) qr[0],qr[1],qr[2];\n",
    "measure qr[0] -> cr[0];\n",
    "measure qr[1] -> cr[1];\n",
    "measure qr[2] -> cr[2];\n",
    "\"\"\"\n",
    "\n",
    "QuantumComputation.from_qasm(qasm_string_a)"
   ]
  },
  {
   "cell_type": "code",
   "execution_count": 33,
   "metadata": {},
   "outputs": [
    {
     "name": "stdout",
     "output_type": "stream",
     "text": [
      "OPENQASM 2.0;\n",
      "include \"qelib1.inc\";\n",
      "gate ms(param0) q0,q1,q2 { rxx(0.844396) q0,q1; rxx(0.844396) q0,q2; rxx(0.844396) q1,q2; }\n",
      "qreg qr[3];\n",
      "creg cr[3];\n",
      "ms(0.844396) qr[0],qr[1],qr[2];\n",
      "measure qr[0] -> cr[0];\n",
      "measure qr[1] -> cr[1];\n",
      "measure qr[2] -> cr[2];\n"
     ]
    }
   ],
   "source": [
    "from qiskit import QuantumRegister, ClassicalRegister, QuantumCircuit\n",
    "qr = QuantumRegister(3, name='qr')\n",
    "cr = ClassicalRegister(3, name='cr')\n",
    "qc = QuantumCircuit(qr, cr, name='qc')\n",
    "qc.ms(0.844396, [qr[0], qr[1], qr[2]])\n",
    "qc.measure(qr, cr)\n",
    "\n",
    "from qiskit import qasm2\n",
    "qasm_string_a = qasm2.dumps(qc)\n",
    "print(qasm_string_a)"
   ]
  },
  {
   "cell_type": "code",
   "execution_count": 37,
   "metadata": {},
   "outputs": [
    {
     "ename": "Exception",
     "evalue": "This is an exception",
     "output_type": "error",
     "traceback": [
      "\u001b[0;31m---------------------------------------------------------------------------\u001b[0m",
      "\u001b[0;31mException\u001b[0m                                 Traceback (most recent call last)",
      "Cell \u001b[0;32mIn[37], line 7\u001b[0m\n\u001b[1;32m      4\u001b[0m \u001b[38;5;28;01mimport\u001b[39;00m \u001b[38;5;21;01msubprocess\u001b[39;00m\n\u001b[1;32m      5\u001b[0m \u001b[38;5;28;01mimport\u001b[39;00m \u001b[38;5;21;01mpsutil\u001b[39;00m\n\u001b[0;32m----> 7\u001b[0m \u001b[38;5;28;01mraise\u001b[39;00m \u001b[38;5;167;01mException\u001b[39;00m(\u001b[38;5;124m\"\u001b[39m\u001b[38;5;124mThis is an exception\u001b[39m\u001b[38;5;124m\"\u001b[39m)\n\u001b[1;32m      9\u001b[0m \u001b[38;5;66;03m# Set up logging\u001b[39;00m\n\u001b[1;32m     10\u001b[0m logging\u001b[38;5;241m.\u001b[39mbasicConfig(level\u001b[38;5;241m=\u001b[39mlogging\u001b[38;5;241m.\u001b[39mINFO, \u001b[38;5;28mformat\u001b[39m\u001b[38;5;241m=\u001b[39m\u001b[38;5;124m\"\u001b[39m\u001b[38;5;132;01m%(asctime)s\u001b[39;00m\u001b[38;5;124m \u001b[39m\u001b[38;5;132;01m%(levelname)s\u001b[39;00m\u001b[38;5;124m: \u001b[39m\u001b[38;5;132;01m%(message)s\u001b[39;00m\u001b[38;5;124m\"\u001b[39m)\n",
      "\u001b[0;31mException\u001b[0m: This is an exception"
     ]
    }
   ],
   "source": [
    "import os\n",
    "import logging\n",
    "import platform\n",
    "import subprocess\n",
    "import psutil\n",
    "\n",
    "raise Exception(\"This is an exception\")\n",
    "\n",
    "# Set up logging\n",
    "logging.basicConfig(level=logging.INFO, format=\"%(asctime)s %(levelname)s: %(message)s\")\n",
    "\n",
    "# Log OS information\n",
    "os_info = {\n",
    "    \"system\": platform.system(),\n",
    "    \"node\": platform.node(),\n",
    "    \"release\": platform.release(),\n",
    "    \"version\": platform.version(),\n",
    "    \"machine\": platform.machine(),\n",
    "    \"processor\": platform.processor()\n",
    "}\n",
    "logging.info(f\"OS Information: {os_info}\")\n",
    "\n",
    "# Log CPU information\n",
    "cpu_info = {\n",
    "    \"physical_cores\": psutil.cpu_count(logical=False),\n",
    "    \"total_cores\": psutil.cpu_count(logical=True),\n",
    "    \"max_frequency\": psutil.cpu_freq().max,\n",
    "    \"min_frequency\": psutil.cpu_freq().min,\n",
    "    \"current_frequency\": psutil.cpu_freq().current\n",
    "}\n",
    "logging.info(f\"CPU Information: {cpu_info}\")\n",
    "\n",
    "# Log Memory information\n",
    "mem = psutil.virtual_memory()\n",
    "mem_info = {\n",
    "    \"total\": mem.total,\n",
    "    \"available\": mem.available,\n",
    "    \"used\": mem.used,\n",
    "    \"percentage\": mem.percent\n",
    "}\n",
    "logging.info(f\"Memory Information: {mem_info}\")\n",
    "\n",
    "# Log environment variables\n",
    "env_vars = os.environ\n",
    "logging.info(f\"Environment Variables: {env_vars}\")\n",
    "\n",
    "# Log C++ compiler version\n",
    "try:\n",
    "    gcc_version = subprocess.check_output(['g++', '--version']).decode().split('\\n')[0]\n",
    "    logging.info(f\"G++ Compiler Version: {gcc_version}\")\n",
    "except Exception as e:\n",
    "    logging.error(f\"Error fetching G++ version: {e}\")\n",
    "\n",
    "# Log specific library versions (e.g., OpenCV)\n",
    "try:\n",
    "    import cv2\n",
    "    logging.info(f\"OpenCV Version: {cv2.__version__}\")\n",
    "except ImportError:\n",
    "    logging.warning(\"OpenCV not installed\")\n",
    "\n",
    "# Example for logging other library versions\n",
    "try:\n",
    "    import numpy\n",
    "    logging.info(f\"NumPy Version: {numpy.__version__}\")\n",
    "except ImportError:\n",
    "    logging.warning(\"NumPy not installed\")\n"
   ]
  },
  {
   "cell_type": "code",
   "execution_count": 38,
   "metadata": {},
   "outputs": [
    {
     "ename": "RuntimeError",
     "evalue": "Could not import first circuit: <input>:4:6:\nExpected 'Identifier', got 'ms'.",
     "output_type": "error",
     "traceback": [
      "\u001b[0;31m---------------------------------------------------------------------------\u001b[0m",
      "\u001b[0;31mRuntimeError\u001b[0m                              Traceback (most recent call last)",
      "Cell \u001b[0;32mIn[38], line 17\u001b[0m\n\u001b[1;32m     14\u001b[0m     f\u001b[38;5;241m.\u001b[39mwrite(qasm_string_a)\n\u001b[1;32m     16\u001b[0m \u001b[38;5;28;01mfrom\u001b[39;00m \u001b[38;5;21;01mmqt\u001b[39;00m \u001b[38;5;28;01mimport\u001b[39;00m qcec\n\u001b[0;32m---> 17\u001b[0m result \u001b[38;5;241m=\u001b[39m \u001b[43mqcec\u001b[49m\u001b[38;5;241;43m.\u001b[39;49m\u001b[43mverify\u001b[49m\u001b[43m(\u001b[49m\u001b[43mpath_a\u001b[49m\u001b[43m,\u001b[49m\u001b[43m \u001b[49m\u001b[38;5;124;43m\"\u001b[39;49m\u001b[38;5;124;43mb.qasm\u001b[39;49m\u001b[38;5;124;43m\"\u001b[39;49m\u001b[43m)\u001b[49m\n\u001b[1;32m     18\u001b[0m \u001b[38;5;28mprint\u001b[39m(result)\n",
      "File \u001b[0;32m~/.conda/envs/crosspl/lib/python3.10/site-packages/mqt/qcec/verify.py:56\u001b[0m, in \u001b[0;36mverify\u001b[0;34m(circ1, circ2, configuration, **kwargs)\u001b[0m\n\u001b[1;32m     53\u001b[0m     \u001b[38;5;28;01mreturn\u001b[39;00m check_parameterized(circ1, circ2, configuration)\n\u001b[1;32m     55\u001b[0m \u001b[38;5;66;03m# create the equivalence checker from configuration\u001b[39;00m\n\u001b[0;32m---> 56\u001b[0m ecm \u001b[38;5;241m=\u001b[39m \u001b[43mEquivalenceCheckingManager\u001b[49m\u001b[43m(\u001b[49m\u001b[43mcirc1\u001b[49m\u001b[43m,\u001b[49m\u001b[43m \u001b[49m\u001b[43mcirc2\u001b[49m\u001b[43m,\u001b[49m\u001b[43m \u001b[49m\u001b[43mconfiguration\u001b[49m\u001b[43m)\u001b[49m\n\u001b[1;32m     58\u001b[0m \u001b[38;5;66;03m# execute the check\u001b[39;00m\n\u001b[1;32m     59\u001b[0m ecm\u001b[38;5;241m.\u001b[39mrun()\n",
      "\u001b[0;31mRuntimeError\u001b[0m: Could not import first circuit: <input>:4:6:\nExpected 'Identifier', got 'ms'."
     ]
    }
   ],
   "source": [
    "qasm_string_a = \"\"\"\n",
    "OPENQASM 2.0;\n",
    "include \"qelib1.inc\";\n",
    "gate ms(param0) q0,q1,q2 { rxx(0.844396) q0,q1; rxx(0.844396) q0,q2; rxx(0.844396) q1,q2; }\n",
    "qreg qr[3];\n",
    "creg cr[3];\n",
    "ms(0.844396) qr[3],qr[16],qr[22];\n",
    "measure qr[0] -> cr[0];\n",
    "measure qr[1] -> cr[1];\n",
    "measure qr[2] -> cr[2];\n",
    "\"\"\"\n",
    "path_a = \"a.qasm\"\n",
    "with open(path_a, \"w\") as f:\n",
    "    f.write(qasm_string_a)\n",
    "\n",
    "from mqt import qcec\n",
    "result = qcec.verify(path_a, \"b.qasm\")\n",
    "print(result)"
   ]
  },
  {
   "cell_type": "code",
   "execution_count": 44,
   "metadata": {},
   "outputs": [
    {
     "data": {
      "text/html": [
       "<pre style=\"word-wrap: normal;white-space: pre;background: #fff0;line-height: 1.1;font-family: &quot;Courier New&quot;,Courier,monospace\">      ┌──────────────────┐┌─┐      \n",
       "qr_0: ┤0                 ├┤M├──────\n",
       "      │                  │└╥┘┌─┐   \n",
       "qr_1: ┤1 Ms_test(0.8444) ├─╫─┤M├───\n",
       "      │                  │ ║ └╥┘┌─┐\n",
       "qr_2: ┤2                 ├─╫──╫─┤M├\n",
       "      └──────────────────┘ ║  ║ └╥┘\n",
       "cr: 3/═════════════════════╩══╩══╩═\n",
       "                           0  1  2 </pre>"
      ],
      "text/plain": [
       "      ┌──────────────────┐┌─┐      \n",
       "qr_0: ┤0                 ├┤M├──────\n",
       "      │                  │└╥┘┌─┐   \n",
       "qr_1: ┤1 Ms_test(0.8444) ├─╫─┤M├───\n",
       "      │                  │ ║ └╥┘┌─┐\n",
       "qr_2: ┤2                 ├─╫──╫─┤M├\n",
       "      └──────────────────┘ ║  ║ └╥┘\n",
       "cr: 3/═════════════════════╩══╩══╩═\n",
       "                           0  1  2 "
      ]
     },
     "execution_count": 44,
     "metadata": {},
     "output_type": "execute_result"
    }
   ],
   "source": [
    "# parse in qiskit\n",
    "from qiskit import QuantumCircuit\n",
    "from qiskit import qasm2\n",
    "\n",
    "qasm_string_a = \"\"\"\n",
    "OPENQASM 2.0;\n",
    "include \"qelib1.inc\";\n",
    "gate ms(param0) q0,q1,q2 { rxx(0.844396) q0,q1; rxx(0.844396) q0,q2; rxx(0.844396) q1,q2; }\n",
    "qreg qr[3];\n",
    "creg cr[3];\n",
    "ms(0.844396) qr[0],qr[1],qr[2];\n",
    "measure qr[0] -> cr[0];\n",
    "measure qr[1] -> cr[1];\n",
    "measure qr[2] -> cr[2];\n",
    "\"\"\"\n",
    "with open(\"a.qasm\", \"w\") as f:\n",
    "    f.write(qasm_string_a)\n",
    "\n",
    "qc = QuantumCircuit.from_qasm_file(\"a.qasm\")\n",
    "qc.draw()"
   ]
  },
  {
   "cell_type": "code",
   "execution_count": 43,
   "metadata": {},
   "outputs": [
    {
     "ename": "RuntimeError",
     "evalue": "Could not import second circuit: [import] Error processing input stream: b",
     "output_type": "error",
     "traceback": [
      "\u001b[0;31m---------------------------------------------------------------------------\u001b[0m",
      "\u001b[0;31mRuntimeError\u001b[0m                              Traceback (most recent call last)",
      "Cell \u001b[0;32mIn[43], line 18\u001b[0m\n\u001b[1;32m     15\u001b[0m \u001b[38;5;28;01mwith\u001b[39;00m \u001b[38;5;28mopen\u001b[39m(path_a, \u001b[38;5;124m\"\u001b[39m\u001b[38;5;124mw\u001b[39m\u001b[38;5;124m\"\u001b[39m) \u001b[38;5;28;01mas\u001b[39;00m f:\n\u001b[1;32m     16\u001b[0m     f\u001b[38;5;241m.\u001b[39mwrite(qasm_string_a)\n\u001b[0;32m---> 18\u001b[0m result \u001b[38;5;241m=\u001b[39m \u001b[43mqcec\u001b[49m\u001b[38;5;241;43m.\u001b[39;49m\u001b[43mverify\u001b[49m\u001b[43m(\u001b[49m\u001b[43mpath_a\u001b[49m\u001b[43m,\u001b[49m\u001b[43m \u001b[49m\u001b[38;5;124;43m\"\u001b[39;49m\u001b[38;5;124;43mb.qasm\u001b[39;49m\u001b[38;5;124;43m\"\u001b[39;49m\u001b[43m)\u001b[49m\n\u001b[1;32m     19\u001b[0m \u001b[38;5;28mprint\u001b[39m(result)\n",
      "File \u001b[0;32m~/.conda/envs/crosspl/lib/python3.10/site-packages/mqt/qcec/verify.py:56\u001b[0m, in \u001b[0;36mverify\u001b[0;34m(circ1, circ2, configuration, **kwargs)\u001b[0m\n\u001b[1;32m     53\u001b[0m     \u001b[38;5;28;01mreturn\u001b[39;00m check_parameterized(circ1, circ2, configuration)\n\u001b[1;32m     55\u001b[0m \u001b[38;5;66;03m# create the equivalence checker from configuration\u001b[39;00m\n\u001b[0;32m---> 56\u001b[0m ecm \u001b[38;5;241m=\u001b[39m \u001b[43mEquivalenceCheckingManager\u001b[49m\u001b[43m(\u001b[49m\u001b[43mcirc1\u001b[49m\u001b[43m,\u001b[49m\u001b[43m \u001b[49m\u001b[43mcirc2\u001b[49m\u001b[43m,\u001b[49m\u001b[43m \u001b[49m\u001b[43mconfiguration\u001b[49m\u001b[43m)\u001b[49m\n\u001b[1;32m     58\u001b[0m \u001b[38;5;66;03m# execute the check\u001b[39;00m\n\u001b[1;32m     59\u001b[0m ecm\u001b[38;5;241m.\u001b[39mrun()\n",
      "\u001b[0;31mRuntimeError\u001b[0m: Could not import second circuit: [import] Error processing input stream: b"
     ]
    }
   ],
   "source": [
    "from mqt import qcec\n",
    "qasm_string_a = \"\"\"\n",
    "OPENQASM 2.0;\n",
    "include \"qelib1.inc\";\n",
    "gate ms(param0) q0,q1,q2 { rxx(0.844396) q0,q1; rxx(0.844396) q0,q2; rxx(0.844396) q1,q2; }\n",
    "qreg qr[3];\n",
    "creg cr[3];\n",
    "ms(0.844396) qr[0],qr[1],qr[2];\n",
    "measure qr[0] -> cr[0];\n",
    "measure qr[1] -> cr[1];\n",
    "measure qr[2] -> cr[2];\n",
    "\"\"\"\n",
    "\n",
    "path_a = \"a.qasm\"\n",
    "with open(path_a, \"w\") as f:\n",
    "    f.write(qasm_string_a)\n",
    "\n",
    "result = qcec.verify(path_a, \"b.qasm\")\n",
    "print(result)"
   ]
  },
  {
   "cell_type": "code",
   "execution_count": null,
   "metadata": {},
   "outputs": [],
   "source": []
  }
 ],
 "metadata": {
  "kernelspec": {
   "display_name": "crosspl",
   "language": "python",
   "name": "python3"
  },
  "language_info": {
   "codemirror_mode": {
    "name": "ipython",
    "version": 3
   },
   "file_extension": ".py",
   "mimetype": "text/x-python",
   "name": "python",
   "nbconvert_exporter": "python",
   "pygments_lexer": "ipython3",
   "version": "3.10.14"
  }
 },
 "nbformat": 4,
 "nbformat_minor": 2
}
