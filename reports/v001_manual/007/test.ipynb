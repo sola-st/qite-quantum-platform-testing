{
 "cells": [
  {
   "cell_type": "code",
   "execution_count": 14,
   "metadata": {},
   "outputs": [],
   "source": [
    "str_pytket = \"\"\"\n",
    "OPENQASM 2.0;\n",
    "include \"qelib1.inc\";\n",
    "\n",
    "qreg qr[2];\n",
    "creg cr[2];\n",
    "u2(0.0*pi,1.0*pi) qr[0];\n",
    "u2(0.0*pi,1.0*pi) qr[1];\n",
    "cx qr[1],qr[0];\n",
    "u1(1.74038062947225*pi) qr[0];\n",
    "cx qr[1],qr[0];\n",
    "u2(0.0*pi,1.0*pi) qr[0];\n",
    "u2(0.0*pi,1.0*pi) qr[1];\n",
    "measure qr[0] -> cr[0];\n",
    "measure qr[1] -> cr[1];\n",
    "\"\"\"\n",
    "\n",
    "str_qiskit = \"\"\"\n",
    "OPENQASM 2.0;\n",
    "include \"qelib1.inc\";\n",
    "qreg qr[2];\n",
    "creg cr[2];\n",
    "rxx(5.467567) qr[1],qr[0];\n",
    "measure qr[0] -> cr[0];\n",
    "measure qr[1] -> cr[1];\n",
    "\"\"\""
   ]
  },
  {
   "cell_type": "code",
   "execution_count": 15,
   "metadata": {},
   "outputs": [
    {
     "name": "stdout",
     "output_type": "stream",
     "text": [
      "      ┌──────────────┐┌─┐   \n",
      "qr_0: ┤1             ├┤M├───\n",
      "      │  Rxx(5.4676) │└╥┘┌─┐\n",
      "qr_1: ┤0             ├─╫─┤M├\n",
      "      └──────────────┘ ║ └╥┘\n",
      "cr: 2/═════════════════╩══╩═\n",
      "                       0  1 \n",
      "      ┌─────────┐┌───┐┌────────────┐┌───┐┌─────────┐┌─┐   \n",
      "qr_0: ┤ U2(0,π) ├┤ X ├┤ U1(5.4676) ├┤ X ├┤ U2(0,π) ├┤M├───\n",
      "      ├─────────┤└─┬─┘└────────────┘└─┬─┘├─────────┤└╥┘┌─┐\n",
      "qr_1: ┤ U2(0,π) ├──■──────────────────■──┤ U2(0,π) ├─╫─┤M├\n",
      "      └─────────┘                        └─────────┘ ║ └╥┘\n",
      "cr: 2/═══════════════════════════════════════════════╩══╩═\n",
      "                                                     0  1 \n"
     ]
    }
   ],
   "source": [
    "from qiskit.qasm2 import loads\n",
    "from qiskit import qasm2\n",
    "\n",
    "circuit_qiskit = loads(\n",
    "    str_qiskit, custom_instructions=qasm2.LEGACY_CUSTOM_INSTRUCTIONS)\n",
    "print(circuit_qiskit)\n",
    "circuit_pytket = loads(\n",
    "    str_pytket, custom_instructions=qasm2.LEGACY_CUSTOM_INSTRUCTIONS)\n",
    "print(circuit_pytket)"
   ]
  },
  {
   "cell_type": "code",
   "execution_count": 18,
   "metadata": {},
   "outputs": [
    {
     "name": "stdout",
     "output_type": "stream",
     "text": [
      "Test 0\n",
      "Qiskit\n",
      "Measurement results: {'00': 842491, '11': 157509}\n",
      "Pytket\n",
      "Measurement results: {'00': 842731, '11': 157269}\n",
      "Test 1\n",
      "Qiskit\n",
      "Measurement results: {'00': 843610, '11': 156390}\n",
      "Pytket\n",
      "Measurement results: {'00': 843078, '11': 156922}\n",
      "Test 2\n",
      "Qiskit\n",
      "Measurement results: {'00': 843333, '11': 156667}\n",
      "Pytket\n",
      "Measurement results: {'00': 842539, '11': 157461}\n",
      "Test 3\n",
      "Qiskit\n",
      "Measurement results: {'00': 842397, '11': 157603}\n",
      "Pytket\n",
      "Measurement results: {'00': 843726, '11': 156274}\n",
      "Test 4\n",
      "Qiskit\n",
      "Measurement results: {'00': 842425, '11': 157575}\n",
      "Pytket\n",
      "Measurement results: {'00': 842741, '11': 157259}\n"
     ]
    }
   ],
   "source": [
    "from qiskit import QuantumCircuit, QuantumRegister, ClassicalRegister\n",
    "from qiskit_aer import AerSimulator\n",
    "from qiskit_ibm_runtime import Session, Sampler\n",
    "from qiskit.transpiler.preset_passmanagers import generate_preset_pass_manager\n",
    "import pandas as pd\n",
    "\n",
    "\n",
    "def execute_circuit(qc: QuantumCircuit, platform_name: str):\n",
    "    # Run the sampler job locally using AerSimulator.\n",
    "    # Session syntax is supported but ignored.\n",
    "    aer_sim = AerSimulator()\n",
    "\n",
    "    # Transpile\n",
    "    pm = generate_preset_pass_manager(backend=aer_sim, optimization_level=1)\n",
    "    isa_qc = pm.run(qc)\n",
    "\n",
    "    # The session is used but ignored in AerSimulator.\n",
    "    sampler = Sampler(mode=aer_sim)\n",
    "    result = sampler.run([isa_qc], shots=1000000).result()[0]\n",
    "\n",
    "    # Section: Results\n",
    "    counts = result.data.cr.get_counts()\n",
    "    print(f\"Measurement results: {counts}\")\n",
    "    # counts[\"platform_name\"] = platform_name\n",
    "\n",
    "    return counts\n",
    "\n",
    "\n",
    "N_TESTS = 5\n",
    "records_qiskit = []\n",
    "records_pytket = []\n",
    "\n",
    "for i in range(N_TESTS):\n",
    "    print(f\"Test {i}\")\n",
    "    print(\"Qiskit\")\n",
    "    res = execute_circuit(circuit_qiskit, \"qiskit\")\n",
    "    records_qiskit.append(res)\n",
    "\n",
    "    print(\"Pytket\")\n",
    "    res = execute_circuit(circuit_pytket, \"pytket\")\n",
    "    records_pytket.append(res)\n",
    "\n",
    "df_results_qiskit = pd.DataFrame.from_records(records_qiskit)\n",
    "df_results_pytket = pd.DataFrame.from_records(records_pytket)"
   ]
  },
  {
   "cell_type": "code",
   "execution_count": 17,
   "metadata": {},
   "outputs": [
    {
     "name": "stdout",
     "output_type": "stream",
     "text": [
      "Qiskit\n",
      "00    84254.6\n",
      "11    15745.4\n",
      "dtype: float64\n",
      "Pytket\n",
      "00    84342.2\n",
      "11    15657.8\n",
      "dtype: float64\n"
     ]
    }
   ],
   "source": [
    "# get the average of the results for each platform\n",
    "# and compare them\n",
    "\n",
    "print(\"Qiskit\")\n",
    "print(df_results_qiskit.mean())\n",
    "\n",
    "print(\"Pytket\")\n",
    "print(df_results_pytket.mean())"
   ]
  },
  {
   "cell_type": "code",
   "execution_count": 20,
   "metadata": {},
   "outputs": [
    {
     "name": "stdout",
     "output_type": "stream",
     "text": [
      "Statevector([-0.91799191+0.j       ,  0.        +0.j       ,\n",
      "              0.        +0.j       ,  0.        -0.3965991j],\n",
      "            dims=(2, 2))\n",
      "Statevector([8.42709152e-01-3.64074768e-01j,\n",
      "             2.37807546e-17+8.32519166e-17j,\n",
      "             2.21609759e-18+5.07638576e-17j,\n",
      "             1.57290848e-01+3.64074768e-01j],\n",
      "            dims=(2, 2))\n",
      "{'00': 0.8427091522089964, '11': 0.15729084779100358}\n",
      "{'00': 0.8427091522089958, '01': 7.496405907426081e-33, '10': 2.5818803232508824e-33, '11': 0.15729084779100347}\n"
     ]
    }
   ],
   "source": [
    "from qiskit.quantum_info import Statevector\n",
    "\n",
    "str_pytket = \"\"\"\n",
    "OPENQASM 2.0;\n",
    "include \"qelib1.inc\";\n",
    "\n",
    "qreg qr[2];\n",
    "creg cr[2];\n",
    "u2(0.0*pi,1.0*pi) qr[0];\n",
    "u2(0.0*pi,1.0*pi) qr[1];\n",
    "cx qr[1],qr[0];\n",
    "u1(1.74038062947225*pi) qr[0];\n",
    "cx qr[1],qr[0];\n",
    "u2(0.0*pi,1.0*pi) qr[0];\n",
    "u2(0.0*pi,1.0*pi) qr[1];\n",
    "\"\"\"\n",
    "\n",
    "str_qiskit = \"\"\"\n",
    "OPENQASM 2.0;\n",
    "include \"qelib1.inc\";\n",
    "qreg qr[2];\n",
    "creg cr[2];\n",
    "rxx(5.467567) qr[1],qr[0];\n",
    "\"\"\"\n",
    "\n",
    "circuit_qiskit = loads(\n",
    "    str_qiskit, custom_instructions=qasm2.LEGACY_CUSTOM_INSTRUCTIONS)\n",
    "circuit_pytket = loads(\n",
    "    str_pytket, custom_instructions=qasm2.LEGACY_CUSTOM_INSTRUCTIONS)\n",
    "\n",
    "\n",
    "sv_qiskit = Statevector.from_instruction(circuit_qiskit)\n",
    "print(sv_qiskit)\n",
    "\n",
    "sv_pytket = Statevector.from_instruction(circuit_pytket)\n",
    "print(sv_pytket)\n",
    "\n",
    "# compare the statevectors\n",
    "probabilities_qiskit = sv_qiskit.probabilities_dict()\n",
    "print(probabilities_qiskit)\n",
    "probabilities_pytket = sv_pytket.probabilities_dict()\n",
    "print(probabilities_pytket)"
   ]
  },
  {
   "cell_type": "code",
   "execution_count": null,
   "metadata": {},
   "outputs": [],
   "source": [
    "from qiskit.quantum_info import Statevector\n",
    "\n",
    "sv = Statevector.from_instruction(circuit_qiskit)\n",
    "print(sv)"
   ]
  },
  {
   "cell_type": "code",
   "execution_count": 67,
   "metadata": {},
   "outputs": [
    {
     "name": "stdout",
     "output_type": "stream",
     "text": [
      "global phase: 3.5494\n",
      "     ┌─────────┐┌───┐┌────────────┐┌───┐┌─────────┐\n",
      "q_0: ┤ U2(0,π) ├┤ X ├┤ U1(5.4676) ├┤ X ├┤ U2(0,π) ├\n",
      "     ├─────────┤└─┬─┘└────────────┘└─┬─┘├─────────┤\n",
      "q_1: ┤ U2(0,π) ├──■──────────────────■──┤ U2(0,π) ├\n",
      "     └─────────┘                        └─────────┘\n",
      "c: 2/══════════════════════════════════════════════\n",
      "                                                   \n",
      "OPENQASM 2.0;\n",
      "include \"qelib1.inc\";\n",
      "\n",
      "qreg q[2];\n",
      "creg c[2];\n",
      "u2(0.0*pi,1.0*pi) q[0];\n",
      "u2(0.0*pi,1.0*pi) q[1];\n",
      "cx q[1],q[0];\n",
      "u1(1.74038062947225*pi) q[0];\n",
      "cx q[1],q[0];\n",
      "u2(0.0*pi,1.0*pi) q[0];\n",
      "u2(0.0*pi,1.0*pi) q[1];\n",
      "\n"
     ]
    }
   ],
   "source": [
    "from pytket.passes import KAKDecomposition\n",
    "from pytket.extensions.qiskit import qiskit_to_tk\n",
    "from pytket.qasm import circuit_to_qasm_str\n",
    "from qiskit import QuantumCircuit, QuantumRegister, ClassicalRegister\n",
    "\n",
    "qc = QuantumCircuit(2, 2)\n",
    "# qc.rzz(0.462419,0, 1)\n",
    "qc.rxx(5.467567, 1, 0)\n",
    "# qc.measure(0, 0)\n",
    "# qc.measure(1, 1)\n",
    "\n",
    "qc = qc.decompose(reps=2)\n",
    "# from qiskit import transpile\n",
    "# qc = transpile(qc, basis_gates=['u1', 'u2', 'cx'])\n",
    "print(qc)\n",
    "\n",
    "\n",
    "tket_circ = qiskit_to_tk(qc)\n",
    "qasm_str_tket = circuit_to_qasm_str(tket_circ, header='qelib1',\n",
    "                                    maxwidth=200)\n",
    "print(qasm_str_tket)\n",
    "\n",
    "\n",
    "# pass_ = KAKDecomposition()\n",
    "# qc_after = pass_.apply(tket_circ)\n",
    "# qasm_str_tket = circuit_to_qasm_str(qc_after, header='qelib1',\n",
    "#                                     maxwidth=200)\n",
    "# print(qasm_str_tket)"
   ]
  },
  {
   "cell_type": "code",
   "execution_count": 41,
   "metadata": {},
   "outputs": [
    {
     "name": "stdout",
     "output_type": "stream",
     "text": [
      "{'00': 1.0}\n"
     ]
    }
   ],
   "source": [
    "circuit_single_decompose = loads(\n",
    "    qasm_str_tket, custom_instructions=qasm2.LEGACY_CUSTOM_INSTRUCTIONS)\n",
    "sv_pytket_single_decompose = Statevector.from_instruction(\n",
    "    circuit_single_decompose)\n",
    "\n",
    "probabilities_pytket_single_decompose = sv_pytket_single_decompose.probabilities_dict()\n",
    "print(probabilities_pytket_single_decompose)"
   ]
  },
  {
   "cell_type": "code",
   "execution_count": 53,
   "metadata": {},
   "outputs": [
    {
     "name": "stdout",
     "output_type": "stream",
     "text": [
      "     ┌──────┐\n",
      "q_0: ┤1     ├\n",
      "     │  rxx │\n",
      "q_1: ┤0     ├\n",
      "     └──────┘\n",
      "{'00': 0.8427091522089964, '11': 0.15729084779100358}\n"
     ]
    }
   ],
   "source": [
    "from qiskit import QuantumCircuit\n",
    "from qiskit.circuit.library import UnitaryGate\n",
    "from math import sin, cos, pi\n",
    "\n",
    "\n",
    "theta = 5.467567  # Example angle\n",
    "matrix = [[cos(theta/2), 0, 0, -1j*sin(theta/2)],\n",
    "          [0, cos(theta/2), -1j*sin(theta/2), 0],\n",
    "          [0, -1j*sin(theta/2), cos(theta/2), 0],\n",
    "          [-1j*sin(theta/2), 0, 0, cos(theta/2)]]\n",
    "gate = UnitaryGate(matrix, label='rxx')\n",
    "\n",
    "circuit = QuantumCircuit(2)\n",
    "circuit.append(gate, [1, 0])\n",
    "\n",
    "circuit = circuit.decompose(gates_to_decompose={'rxx'})\n",
    "print(circuit)\n",
    "\n",
    "sv_unitary_gate = Statevector.from_instruction(circuit)\n",
    "probabilities_unitary_gate = sv_unitary_gate.probabilities_dict()\n",
    "print(probabilities_unitary_gate)"
   ]
  },
  {
   "cell_type": "code",
   "execution_count": 68,
   "metadata": {},
   "outputs": [
    {
     "name": "stdout",
     "output_type": "stream",
     "text": [
      "global phase: 0.2753\n",
      "     ┌──────────────┐┌──────────┐┌─────────┐┌──────────┐┌──────────┐»\n",
      "q_0: ┤ U1(-0.56139) ├┤ U1(-π/2) ├┤ U2(0,π) ├┤ U1(-π/2) ├┤ U1(3π/2) ├»\n",
      "     └──┬───────┬───┘├──────────┤├─────────┤├──────────┤├──────────┤»\n",
      "q_1: ───┤ U1(0) ├────┤ U1(-π/2) ├┤ U2(0,π) ├┤ U1(-π/2) ├┤ U1(3π/2) ├»\n",
      "        └───────┘    └──────────┘└─────────┘└──────────┘└──────────┘»\n",
      "«     ┌──────────┐┌─────────┐┌──────────┐┌────────┐┌───┐ ┌────────────┐ »\n",
      "«q_0: ┤ U1(-π/2) ├┤ U2(0,π) ├┤ U1(-π/2) ├┤ U1(3π) ├┤ X ├─┤ U1(-2.243) ├─»\n",
      "«     ├──────────┤├─────────┤├──────────┤├────────┤└─┬─┘┌┴────────────┴┐»\n",
      "«q_1: ┤ U1(-π/2) ├┤ U2(0,π) ├┤ U1(-π/2) ├┤ U1(3π) ├──■──┤ U1(-0.21152) ├»\n",
      "«     └──────────┘└─────────┘└──────────┘└────────┘     └──────────────┘»\n",
      "«     ┌──────────┐┌─────────┐┌──────────┐┌────────────┐┌──────────┐┌─────────┐»\n",
      "«q_0: ┤ U1(-π/2) ├┤ U2(0,π) ├┤ U1(-π/2) ├┤ U1(4.8546) ├┤ U1(-π/2) ├┤ U2(0,π) ├»\n",
      "«     ├──────────┤├─────────┤├──────────┤└─┬────────┬─┘├──────────┤├─────────┤»\n",
      "«q_1: ┤ U1(-π/2) ├┤ U2(0,π) ├┤ U1(-π/2) ├──┤ U1(2π) ├──┤ U1(-π/2) ├┤ U2(0,π) ├»\n",
      "«     └──────────┘└─────────┘└──────────┘  └────────┘  └──────────┘└─────────┘»\n",
      "«     ┌──────────┐┌────────────┐┌───┐ ┌────────┐┌──────────┐┌─────────┐»\n",
      "«q_0: ┤ U1(-π/2) ├┤ U1(11.398) ├┤ X ├─┤ U1(-π) ├┤ U1(-π/2) ├┤ U2(0,π) ├»\n",
      "«     ├──────────┤├────────────┤└─┬─┘┌┴────────┤├──────────┤├─────────┤»\n",
      "«q_1: ┤ U1(-π/2) ├┤ U1(7.6425) ├──■──┤ U1(π/2) ├┤ U1(-π/2) ├┤ U2(0,π) ├»\n",
      "«     └──────────┘└────────────┘     └─────────┘└──────────┘└─────────┘»\n",
      "«     ┌──────────┐┌──────────┐┌──────────┐┌─────────┐┌──────────┐┌────────────┐\n",
      "«q_0: ┤ U1(-π/2) ├┤ U1(3π/2) ├┤ U1(-π/2) ├┤ U2(0,π) ├┤ U1(-π/2) ├┤ U1(11.557) ├\n",
      "«     ├──────────┤├──────────┤├──────────┤├─────────┤├──────────┤└─┬────────┬─┘\n",
      "«q_1: ┤ U1(-π/2) ├┤ U1(3π/2) ├┤ U1(-π/2) ├┤ U2(0,π) ├┤ U1(-π/2) ├──┤ U1(3π) ├──\n",
      "«     └──────────┘└──────────┘└──────────┘└─────────┘└──────────┘  └────────┘  \n"
     ]
    }
   ],
   "source": [
    "from qiskit import transpile\n",
    "qc_isa = transpile(circuit, basis_gates=['u1', 'u2', 'cx'])\n",
    "print(qc_isa)"
   ]
  },
  {
   "cell_type": "code",
   "execution_count": 71,
   "metadata": {},
   "outputs": [
    {
     "name": "stdout",
     "output_type": "stream",
     "text": [
      "Circuit:\n",
      "<tket::Circuit, qubits=5, gates=5>\n"
     ]
    }
   ],
   "source": [
    "\n"
   ]
  },
  {
   "cell_type": "code",
   "execution_count": null,
   "metadata": {},
   "outputs": [],
   "source": []
  }
 ],
 "metadata": {
  "kernelspec": {
   "display_name": "crosspl",
   "language": "python",
   "name": "python3"
  },
  "language_info": {
   "codemirror_mode": {
    "name": "ipython",
    "version": 3
   },
   "file_extension": ".py",
   "mimetype": "text/x-python",
   "name": "python",
   "nbconvert_exporter": "python",
   "pygments_lexer": "ipython3",
   "version": "3.10.14"
  }
 },
 "nbformat": 4,
 "nbformat_minor": 2
}
