{
 "cells": [
  {
   "cell_type": "code",
   "execution_count": null,
   "metadata": {},
   "outputs": [
    {
     "ename": "AttributeError",
     "evalue": "'Operator' object has no attribute 'evolve'",
     "output_type": "error",
     "traceback": [
      "\u001b[0;31m---------------------------------------------------------------------------\u001b[0m",
      "\u001b[0;31mAttributeError\u001b[0m                            Traceback (most recent call last)",
      "Cell \u001b[0;32mIn[29], line 41\u001b[0m\n\u001b[1;32m     38\u001b[0m     \u001b[38;5;28;01mreturn\u001b[39;00m evolved_state\n\u001b[1;32m     40\u001b[0m initial_state \u001b[38;5;241m=\u001b[39m [\u001b[38;5;241m1\u001b[39m, \u001b[38;5;241m0\u001b[39m, \u001b[38;5;241m0\u001b[39m, \u001b[38;5;241m0\u001b[39m]  \u001b[38;5;66;03m# Example initial state for a 2-qubit system\u001b[39;00m\n\u001b[0;32m---> 41\u001b[0m evolved_state_level_0 \u001b[38;5;241m=\u001b[39m \u001b[43mevolve_operator\u001b[49m\u001b[43m(\u001b[49m\u001b[43mqc_level_0\u001b[49m\u001b[43m,\u001b[49m\u001b[43m \u001b[49m\u001b[43minitial_state\u001b[49m\u001b[43m)\u001b[49m\n\u001b[1;32m     42\u001b[0m evolved_state_level_3 \u001b[38;5;241m=\u001b[39m evolve_operator(qc_level_3, initial_state)\n\u001b[1;32m     44\u001b[0m \u001b[38;5;28mprint\u001b[39m(\u001b[38;5;124m\"\u001b[39m\u001b[38;5;124mEvolved state at level 0:\u001b[39m\u001b[38;5;124m\"\u001b[39m, evolved_state_level_0)\n",
      "Cell \u001b[0;32mIn[29], line 37\u001b[0m, in \u001b[0;36mevolve_operator\u001b[0;34m(qc, initial_state)\u001b[0m\n\u001b[1;32m     36\u001b[0m \u001b[38;5;28;01mdef\u001b[39;00m \u001b[38;5;21mevolve_operator\u001b[39m(qc, initial_state):\n\u001b[0;32m---> 37\u001b[0m     evolved_state \u001b[38;5;241m=\u001b[39m \u001b[43mOperator\u001b[49m\u001b[43m(\u001b[49m\u001b[43mqc\u001b[49m\u001b[43m)\u001b[49m\u001b[38;5;241;43m.\u001b[39;49m\u001b[43mevolve\u001b[49m(initial_state)\n\u001b[1;32m     38\u001b[0m     \u001b[38;5;28;01mreturn\u001b[39;00m evolved_state\n",
      "\u001b[0;31mAttributeError\u001b[0m: 'Operator' object has no attribute 'evolve'"
     ]
    }
   ],
   "source": [
    "from mqt import qcec\n",
    "from numpy import allclose\n",
    "from qiskit.quantum_info import Operator\n",
    "from qiskit import transpile\n",
    "from pathlib import Path\n",
    "from qiskit import QuantumRegister, ClassicalRegister, QuantumCircuit\n",
    "from qiskit.qasm2 import dumps, dump\n",
    "\n",
    "qr = QuantumRegister(2, name='qr')\n",
    "cr = ClassicalRegister(2, name='cr')\n",
    "qc = QuantumCircuit(qr, cr, name='qc')\n",
    "# TIMESTAMP: 1737648418.0954087\n",
    "\n",
    "# Apply gate operations\n",
    "# <START_GATES>\n",
    "qc.h(qr[0])\n",
    "qc.s(qr[0])\n",
    "# qc.cp(3.729997, qr[0], qr[5])\n",
    "# qc.dcx(qr[10], qr[0])\n",
    "# qc.dcx(qr[4], qr[6])\n",
    "# qc.swap(qr[0], qr[5])\n",
    "# qc.measure(qr, cr)\n",
    "\n",
    "\n",
    "qc_level_0 = transpile(qc, optimization_level=0)\n",
    "qc_level_3 = transpile(qc, optimization_level=3)\n",
    "\n",
    "# print unitary of both\n",
    "\n",
    "\n",
    "def get_rounded_unitary(qc, round_decimal=5):\n",
    "    rounded_matrix = Operator(qc).data.round(round_decimal)\n",
    "    return rounded_matrix\n",
    "\n",
    "\n",
    "# print(\"Unitary Level 0\")\n",
    "# unitary_level_0 = get_rounded_unitary(qc_level_0)\n",
    "# print(unitary_level_0)\n",
    "# print(\"Unitary Level 3\")\n",
    "# unitary_level_3 = get_rounded_unitary(qc_level_3)\n",
    "# print(unitary_level_3)\n",
    "\n",
    "print(\"Unitaries are equal: \", allclose(unitary_level_0, unitary_level_3))\n",
    "\n",
    "\n",
    "qasm_level_0 = dumps(qc_level_0)\n",
    "print(\"Level 0\")\n",
    "print(qasm_level_0)\n",
    "qasm_level_3 = dumps(qc_level_3)\n",
    "print(\"Level 3\")\n",
    "print(qasm_level_3)\n",
    "\n",
    "path_lvl_0 = Path(\"qasm_level_0.qasm\")\n",
    "path_lvl_3 = Path(\"qasm_level_3.qasm\")\n",
    "path_lvl_0.write_text(qasm_level_0)\n",
    "path_lvl_3.write_text(qasm_level_3)\n",
    "\n",
    "\n",
    "result = qcec.verify(\n",
    "    str(path_lvl_0),\n",
    "    str(path_lvl_3),\n",
    "    transform_dynamic_circuit=True)\n",
    "equivalence = str(result.equivalence)\n",
    "print(f\"Equivalence: {equivalence}\")"
   ]
  },
  {
   "cell_type": "code",
   "execution_count": null,
   "metadata": {},
   "outputs": [],
   "source": []
  }
 ],
 "metadata": {
  "kernelspec": {
   "display_name": "crosspl",
   "language": "python",
   "name": "python3"
  },
  "language_info": {
   "codemirror_mode": {
    "name": "ipython",
    "version": 3
   },
   "file_extension": ".py",
   "mimetype": "text/x-python",
   "name": "python",
   "nbconvert_exporter": "python",
   "pygments_lexer": "ipython3",
   "version": "3.10.14"
  }
 },
 "nbformat": 4,
 "nbformat_minor": 2
}
