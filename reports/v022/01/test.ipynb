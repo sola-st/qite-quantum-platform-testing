{
 "cells": [
  {
   "cell_type": "code",
   "execution_count": 3,
   "metadata": {},
   "outputs": [],
   "source": [
    "qasm_a = \"\"\"\n",
    "OPENQASM 2.0;\n",
    "include \"qelib1.inc\";\n",
    "\n",
    "qreg q[2];\n",
    "cz q[0],q[1];\n",
    "h q[0];\n",
    "h q[1];\n",
    "cz q[0],q[1];\n",
    "h q[1];\n",
    "\"\"\"\n",
    "\n",
    "qasm_b = \"\"\"\n",
    "OPENQASM 2.0;\n",
    "include \"qelib1.inc\";\n",
    "qreg q[2];\n",
    "h q[0];\n",
    "cx q[0],q[1];\n",
    "\"\"\""
   ]
  },
  {
   "cell_type": "code",
   "execution_count": 19,
   "metadata": {},
   "outputs": [
    {
     "name": "stdout",
     "output_type": "stream",
     "text": [
      "OPENQASM 2.0;\n",
      "include \"qelib1.inc\";\n",
      "\n",
      "qreg q[2];\n",
      "cz q[0],q[1];\n",
      "h q[0];\n",
      "h q[1];\n",
      "cz q[0],q[1];\n",
      "h q[1];\n",
      "\n"
     ]
    }
   ],
   "source": [
    "from pytket.passes import ZXGraphlikeOptimisation\n",
    "from pytket.qasm import circuit_to_qasm_str\n",
    "from pytket.extensions.qiskit import qiskit_to_tk\n",
    "from qiskit import QuantumCircuit\n",
    "\n",
    "qc = QuantumCircuit(2)\n",
    "qc.h(0)\n",
    "qc.cx(0, 1)\n",
    "\n",
    "\n",
    "tk_circ = qiskit_to_tk(qc)\n",
    "\n",
    "optimization_pass = ZXGraphlikeOptimisation()\n",
    "optimization_pass.apply(tk_circ)\n",
    "opt_circ_qasm = circuit_to_qasm_str(\n",
    "    tk_circ, header=\"qelib1\", maxwidth=200)\n",
    "print(opt_circ_qasm)"
   ]
  },
  {
   "cell_type": "code",
   "execution_count": null,
   "metadata": {},
   "outputs": [
    {
     "name": "stdout",
     "output_type": "stream",
     "text": [
      "Unitary of qc_a:\n",
      "[[ 0.70710678+0.j  0.70710678+0.j  0.        +0.j  0.        +0.j]\n",
      " [ 0.        +0.j  0.        +0.j  0.70710678+0.j  0.70710678+0.j]\n",
      " [ 0.        +0.j  0.        +0.j  0.70710678+0.j -0.70710678+0.j]\n",
      " [ 0.70710678+0.j -0.70710678+0.j  0.        +0.j  0.        +0.j]]\n",
      "\n",
      "Unitary of qc_b:\n",
      "[[ 0.70710678+0.j  0.70710678+0.j  0.        +0.j  0.        +0.j]\n",
      " [ 0.        +0.j  0.        +0.j  0.70710678+0.j -0.70710678+0.j]\n",
      " [ 0.        +0.j  0.        +0.j  0.70710678+0.j  0.70710678+0.j]\n",
      " [ 0.70710678+0.j -0.70710678+0.j  0.        +0.j  0.        +0.j]]\n",
      "Different elements:\n",
      "(0.7071067811865474+0j) (-0.7071067811865475+0j)\n"
     ]
    }
   ],
   "source": [
    "import numpy as np\n",
    "from numpy.testing import assert_allclose\n",
    "from qiskit import QuantumCircuit\n",
    "from qiskit.quantum_info import Operator\n",
    "\n",
    "# Read the QASM strings into quantum circuits\n",
    "qc_a = QuantumCircuit.from_qasm_str(qasm_a)\n",
    "qc_b = QuantumCircuit.from_qasm_str(qasm_b)\n",
    "\n",
    "# Get the unitary matrices\n",
    "unitary_a = Operator(qc_a).data\n",
    "unitary_b = Operator(qc_b).data\n",
    "\n",
    "# Print the unitary matrices\n",
    "print(\"Unitary of qc_a:\")\n",
    "print(unitary_a)\n",
    "\n",
    "print(\"\\nUnitary of qc_b:\")\n",
    "print(unitary_b)\n",
    "\n",
    "# assert that they are the same\n",
    "assert unitary_a.shape == unitary_b.shape\n",
    "# assert_allclose(unitary_a, unitary_b, atol=1e-5)\n",
    "# flatten the two and the iterate element by element and print when two are different\n",
    "for a, b in zip(unitary_a.flatten(), unitary_b.flatten()):\n",
    "    if not np.isclose(a, b, atol=1e-5):\n",
    "        print(\"Different elements:\")\n",
    "        print(a, b)\n",
    "        break"
   ]
  },
  {
   "cell_type": "code",
   "execution_count": null,
   "metadata": {},
   "outputs": [
    {
     "data": {
      "text/plain": [
       "<EquivalenceCriterion.not_equivalent: 0>"
      ]
     },
     "execution_count": 5,
     "metadata": {},
     "output_type": "execute_result"
    }
   ],
   "source": [
    "from mqt import qcec\n",
    "result = qcec.verify(\n",
    "    qc_a, qc_b,\n",
    "    transform_dynamic_circuit=True)\n",
    "equivalence = str(result.equivalence)\n",
    "result.equivalence\n",
    "\n",
    "# Unitary of qc_a:\n",
    "# [[ 0.70710678+0.j  0.70710678+0.j  0.        +0.j  0.        +0.j]\n",
    "#  [ 0.        +0.j  0.        +0.j  0.70710678+0.j  0.70710678+0.j]\n",
    "#  [ 0.        +0.j  0.        +0.j  0.70710678+0.j -0.70710678+0.j]\n",
    "#  [ 0.70710678+0.j -0.70710678+0.j  0.        +0.j  0.        +0.j]]\n",
    "\n",
    "# Unitary of qc_b:\n",
    "# [[ 0.70710678+0.j  0.70710678+0.j  0.        +0.j  0.        +0.j]\n",
    "#  [ 0.        +0.j  0.        +0.j  0.70710678+0.j -0.70710678+0.j]\n",
    "#  [ 0.        +0.j  0.        +0.j  0.70710678+0.j  0.70710678+0.j]\n",
    "#  [ 0.70710678+0.j -0.70710678+0.j  0.        +0.j  0.        +0.j]]\n",
    "# Different elements:\n",
    "# (0.7071067811865474+0j) (-0.7071067811865475+0j)"
   ]
  },
  {
   "cell_type": "code",
   "execution_count": 15,
   "metadata": {},
   "outputs": [
    {
     "name": "stdout",
     "output_type": "stream",
     "text": [
      "\n",
      "Unitary of qc_a * qc_b^-1:\n",
      "[[ 1.+0.j  0.+0.j  0.+0.j  0.+0.j]\n",
      " [ 0.+0.j  1.+0.j  0.+0.j  0.+0.j]\n",
      " [ 0.+0.j  0.+0.j  1.+0.j  0.+0.j]\n",
      " [ 0.+0.j  0.+0.j -0.+0.j -1.+0.j]]\n"
     ]
    }
   ],
   "source": [
    "qc_mixed = Operator(qc_a).compose(Operator(qc_b).adjoint())\n",
    "unitary_mixed = qc_mixed.data\n",
    "# round all entries to the 3rd decimal\n",
    "unitary_mixed = np.round(unitary_mixed, 3)\n",
    "print(\"\\nUnitary of qc_a * qc_b^-1:\")\n",
    "print(unitary_mixed)"
   ]
  },
  {
   "cell_type": "code",
   "execution_count": null,
   "metadata": {},
   "outputs": [],
   "source": [
    "\n",
    "# Unitary of qc_a * qc_b^-1:\n",
    "# [[ 1.+0.j  0.+0.j  0.+0.j  0.+0.j]\n",
    "#  [ 0.+0.j  1.+0.j  0.+0.j  0.+0.j]\n",
    "#  [ 0.+0.j  0.+0.j  1.+0.j  0.+0.j]\n",
    "#  [ 0.+0.j  0.+0.j -0.+0.j -1.+0.j]]"
   ]
  },
  {
   "cell_type": "code",
   "execution_count": 20,
   "metadata": {},
   "outputs": [
    {
     "name": "stdout",
     "output_type": "stream",
     "text": [
      "pytket version: 1.33.1\n",
      "qiskit version: 1.2.4\n"
     ]
    }
   ],
   "source": [
    "import pytket\n",
    "import qiskit\n",
    "\n",
    "print(\"pytket version:\", pytket.__version__)\n",
    "print(\"qiskit version:\", qiskit.__version__)"
   ]
  },
  {
   "cell_type": "code",
   "execution_count": null,
   "metadata": {},
   "outputs": [],
   "source": []
  }
 ],
 "metadata": {
  "kernelspec": {
   "display_name": "crosspl",
   "language": "python",
   "name": "python3"
  },
  "language_info": {
   "codemirror_mode": {
    "name": "ipython",
    "version": 3
   },
   "file_extension": ".py",
   "mimetype": "text/x-python",
   "name": "python",
   "nbconvert_exporter": "python",
   "pygments_lexer": "ipython3",
   "version": "3.10.14"
  }
 },
 "nbformat": 4,
 "nbformat_minor": 2
}
