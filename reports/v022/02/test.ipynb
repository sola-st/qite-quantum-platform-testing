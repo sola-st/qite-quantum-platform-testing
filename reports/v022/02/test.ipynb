{
 "cells": [
  {
   "cell_type": "code",
   "execution_count": 1,
   "metadata": {},
   "outputs": [
    {
     "data": {
      "text/html": [
       "<pre style=\"word-wrap: normal;white-space: pre;background: #fff0;line-height: 1.1;font-family: &quot;Courier New&quot;,Courier,monospace\">                                                           \n",
       " qr_0: ────────────────────────────────────────────────────\n",
       "                                                           \n",
       " qr_1: ────────────────────────────────────────────────────\n",
       "                                                           \n",
       " qr_2: ────────────────────────────────────────────────────\n",
       "                                                           \n",
       " qr_3: ─────────────────■──────────────────────────────────\n",
       "       ┌────────────────┴────────────────┐                 \n",
       " qr_4: ┤ U(1.0225,3.0417,0.12026,1.9235) ├─────────────────\n",
       "       └──────────┬────────────┬─────────┘                 \n",
       " qr_5: ───────────┤ P(0.85816) ├───────────────────────────\n",
       "                  ├────────────┤                           \n",
       " qr_6: ───────────┤ Ry(5.2408) ├───────────────────────────\n",
       "                  └─────┬──────┘                           \n",
       " qr_7: ─────────────────┼──────────────────────────────────\n",
       "                        │                 ┌───────┐┌──────┐\n",
       " qr_8: ─────────────────┼─────────────────┤2      ├┤ √Xdg ├\n",
       "                        │                 │       │└──────┘\n",
       " qr_9: ─────────────────┼─────────────────┤1 Rccx ├────────\n",
       "                        │                 │       │        \n",
       "qr_10: ─────────────────■─────────────────┤0      ├────────\n",
       "                                          └───────┘        \n",
       "cr: 11/════════════════════════════════════════════════════\n",
       "                                                           </pre>"
      ],
      "text/plain": [
       "                                                           \n",
       " qr_0: ────────────────────────────────────────────────────\n",
       "                                                           \n",
       " qr_1: ────────────────────────────────────────────────────\n",
       "                                                           \n",
       " qr_2: ────────────────────────────────────────────────────\n",
       "                                                           \n",
       " qr_3: ─────────────────■──────────────────────────────────\n",
       "       ┌────────────────┴────────────────┐                 \n",
       " qr_4: ┤ U(1.0225,3.0417,0.12026,1.9235) ├─────────────────\n",
       "       └──────────┬────────────┬─────────┘                 \n",
       " qr_5: ───────────┤ P(0.85816) ├───────────────────────────\n",
       "                  ├────────────┤                           \n",
       " qr_6: ───────────┤ Ry(5.2408) ├───────────────────────────\n",
       "                  └─────┬──────┘                           \n",
       " qr_7: ─────────────────┼──────────────────────────────────\n",
       "                        │                 ┌───────┐┌──────┐\n",
       " qr_8: ─────────────────┼─────────────────┤2      ├┤ √Xdg ├\n",
       "                        │                 │       │└──────┘\n",
       " qr_9: ─────────────────┼─────────────────┤1 Rccx ├────────\n",
       "                        │                 │       │        \n",
       "qr_10: ─────────────────■─────────────────┤0      ├────────\n",
       "                                          └───────┘        \n",
       "cr: 11/════════════════════════════════════════════════════\n",
       "                                                           "
      ]
     },
     "execution_count": 1,
     "metadata": {},
     "output_type": "execute_result"
    }
   ],
   "source": [
    "from qiskit import QuantumRegister, ClassicalRegister, QuantumCircuit\n",
    "from bqskit.ext import qiskit_to_bqskit as converter_to_bqskit\n",
    "\n",
    "qr = QuantumRegister(11, name='qr')\n",
    "cr = ClassicalRegister(11, name='cr')\n",
    "qc = QuantumCircuit(qr, cr, name='qc')\n",
    "# TIMESTAMP: 1737634168.8635523\n",
    "\n",
    "# Apply gate operations\n",
    "# <START_GATES>\n",
    "qc.cry(5.240754, qr[10], qr[6])\n",
    "qc.rccx(qr[10], qr[9], qr[8])\n",
    "qc.cu(1.022478, 3.041734, 0.120257, 1.923515, qr[3], qr[4])\n",
    "qc.p(0.858157, qr[5])\n",
    "qc.sxdg(qr[8])\n",
    "# <END_GATES>\n",
    "\n",
    "\n",
    "qc.draw()"
   ]
  },
  {
   "cell_type": "code",
   "execution_count": 3,
   "metadata": {},
   "outputs": [
    {
     "name": "stdout",
     "output_type": "stream",
     "text": [
      "Circuit(11)[CUGate@(3, 4) ... Dagger(SqrtXGate)@(8,)]\n"
     ]
    }
   ],
   "source": [
    "qc_bqskit = converter_to_bqskit(qc)\n",
    "print(qc_bqskit)"
   ]
  },
  {
   "cell_type": "code",
   "execution_count": 6,
   "metadata": {},
   "outputs": [
    {
     "ename": "AttributeError",
     "evalue": "'DaggerGate' object has no attribute '_qasm_name'",
     "output_type": "error",
     "traceback": [
      "\u001b[0;31m---------------------------------------------------------------------------\u001b[0m",
      "\u001b[0;31mAttributeError\u001b[0m                            Traceback (most recent call last)",
      "Cell \u001b[0;32mIn[6], line 26\u001b[0m\n\u001b[1;32m     23\u001b[0m     \u001b[38;5;28mprint\u001b[39m(\u001b[38;5;124mf\u001b[39m\u001b[38;5;124m\"\u001b[39m\u001b[38;5;124mSaved the BQSKit circuit to \u001b[39m\u001b[38;5;132;01m{\u001b[39;00mfile_path_bqskit\u001b[38;5;132;01m}\u001b[39;00m\u001b[38;5;124m\"\u001b[39m)\n\u001b[1;32m     24\u001b[0m     \u001b[38;5;28;01mreturn\u001b[39;00m file_path_bqskit\u001b[38;5;241m.\u001b[39mas_posix()\n\u001b[0;32m---> 26\u001b[0m \u001b[43mexport_to_qasm_with_bqskit\u001b[49m\u001b[43m(\u001b[49m\u001b[43mqc\u001b[49m\u001b[43m,\u001b[49m\u001b[43m \u001b[49m\u001b[38;5;124;43m\"\u001b[39;49m\u001b[38;5;124;43mqc\u001b[39;49m\u001b[38;5;124;43m\"\u001b[39;49m\u001b[43m,\u001b[49m\u001b[43m \u001b[49m\u001b[38;5;124;43m\"\u001b[39;49m\u001b[38;5;124;43mqc_bqskit.qasm\u001b[39;49m\u001b[38;5;124;43m\"\u001b[39;49m\u001b[43m)\u001b[49m\n",
      "Cell \u001b[0;32mIn[6], line 21\u001b[0m, in \u001b[0;36mexport_to_qasm_with_bqskit\u001b[0;34m(qiskit_circ, var_name, abs_output_file)\u001b[0m\n\u001b[1;32m     18\u001b[0m     file_path_bqskit \u001b[38;5;241m=\u001b[39m Path(abs_output_file)\n\u001b[1;32m     20\u001b[0m \u001b[38;5;66;03m# Save BQSKit circuit to QASM\u001b[39;00m\n\u001b[0;32m---> 21\u001b[0m \u001b[43mbqskit_circ\u001b[49m\u001b[38;5;241;43m.\u001b[39;49m\u001b[43msave\u001b[49m\u001b[43m(\u001b[49m\u001b[38;5;28;43mstr\u001b[39;49m\u001b[43m(\u001b[49m\u001b[43mfile_path_bqskit\u001b[49m\u001b[43m)\u001b[49m\u001b[43m)\u001b[49m\n\u001b[1;32m     23\u001b[0m \u001b[38;5;28mprint\u001b[39m(\u001b[38;5;124mf\u001b[39m\u001b[38;5;124m\"\u001b[39m\u001b[38;5;124mSaved the BQSKit circuit to \u001b[39m\u001b[38;5;132;01m{\u001b[39;00mfile_path_bqskit\u001b[38;5;132;01m}\u001b[39;00m\u001b[38;5;124m\"\u001b[39m)\n\u001b[1;32m     24\u001b[0m \u001b[38;5;28;01mreturn\u001b[39;00m file_path_bqskit\u001b[38;5;241m.\u001b[39mas_posix()\n",
      "File \u001b[0;32m~/.conda/envs/crosspl/lib/python3.10/site-packages/bqskit/ir/circuit.py:3246\u001b[0m, in \u001b[0;36mCircuit.save\u001b[0;34m(self, filename)\u001b[0m\n\u001b[1;32m   3243\u001b[0m language \u001b[38;5;241m=\u001b[39m get_language(filename\u001b[38;5;241m.\u001b[39msplit(\u001b[38;5;124m'\u001b[39m\u001b[38;5;124m.\u001b[39m\u001b[38;5;124m'\u001b[39m)[\u001b[38;5;241m-\u001b[39m\u001b[38;5;241m1\u001b[39m])\n\u001b[1;32m   3245\u001b[0m \u001b[38;5;28;01mwith\u001b[39;00m \u001b[38;5;28mopen\u001b[39m(filename, \u001b[38;5;124m'\u001b[39m\u001b[38;5;124mw\u001b[39m\u001b[38;5;124m'\u001b[39m) \u001b[38;5;28;01mas\u001b[39;00m f:\n\u001b[0;32m-> 3246\u001b[0m     f\u001b[38;5;241m.\u001b[39mwrite(\u001b[43mlanguage\u001b[49m\u001b[38;5;241;43m.\u001b[39;49m\u001b[43mencode\u001b[49m\u001b[43m(\u001b[49m\u001b[38;5;28;43mself\u001b[39;49m\u001b[43m)\u001b[49m)\n",
      "File \u001b[0;32m~/.conda/envs/crosspl/lib/python3.10/site-packages/bqskit/ir/lang/qasm2/qasm2.py:29\u001b[0m, in \u001b[0;36mOPENQASM2Language.encode\u001b[0;34m(self, circuit)\u001b[0m\n\u001b[1;32m     26\u001b[0m     source \u001b[38;5;241m+\u001b[39m\u001b[38;5;241m=\u001b[39m gate\u001b[38;5;241m.\u001b[39mget_qasm_gate_def()\n\u001b[1;32m     28\u001b[0m \u001b[38;5;28;01mfor\u001b[39;00m op \u001b[38;5;129;01min\u001b[39;00m circuit:\n\u001b[0;32m---> 29\u001b[0m     source \u001b[38;5;241m+\u001b[39m\u001b[38;5;241m=\u001b[39m \u001b[43mop\u001b[49m\u001b[38;5;241;43m.\u001b[39;49m\u001b[43mget_qasm\u001b[49m\u001b[43m(\u001b[49m\u001b[43m)\u001b[49m\n\u001b[1;32m     31\u001b[0m \u001b[38;5;28;01mreturn\u001b[39;00m source\n",
      "File \u001b[0;32m~/.conda/envs/crosspl/lib/python3.10/site-packages/bqskit/ir/operation.py:101\u001b[0m, in \u001b[0;36mOperation.get_qasm\u001b[0;34m(self)\u001b[0m\n\u001b[1;32m     98\u001b[0m \u001b[38;5;28;01melse\u001b[39;00m:\n\u001b[1;32m     99\u001b[0m     full_params \u001b[38;5;241m=\u001b[39m \u001b[38;5;28mself\u001b[39m\u001b[38;5;241m.\u001b[39mparams\n\u001b[0;32m--> 101\u001b[0m \u001b[38;5;28;01mreturn\u001b[39;00m \u001b[38;5;28;43mself\u001b[39;49m\u001b[38;5;241;43m.\u001b[39;49m\u001b[43mgate\u001b[49m\u001b[38;5;241;43m.\u001b[39;49m\u001b[43mget_qasm\u001b[49m\u001b[43m(\u001b[49m\u001b[43mfull_params\u001b[49m\u001b[43m,\u001b[49m\u001b[43m \u001b[49m\u001b[38;5;28;43mself\u001b[39;49m\u001b[38;5;241;43m.\u001b[39;49m\u001b[43mlocation\u001b[49m\u001b[43m)\u001b[49m\n",
      "File \u001b[0;32m~/.conda/envs/crosspl/lib/python3.10/site-packages/bqskit/ir/gate.py:50\u001b[0m, in \u001b[0;36mGate.get_qasm\u001b[0;34m(self, params, location)\u001b[0m\n\u001b[1;32m     47\u001b[0m \u001b[38;5;28;01mdef\u001b[39;00m \u001b[38;5;21mget_qasm\u001b[39m(\u001b[38;5;28mself\u001b[39m, params: RealVector, location: CircuitLocation) \u001b[38;5;241m-\u001b[39m\u001b[38;5;241m>\u001b[39m \u001b[38;5;28mstr\u001b[39m:\n\u001b[1;32m     48\u001b[0m \u001b[38;5;250m    \u001b[39m\u001b[38;5;124;03m\"\"\"Returns the qasm string for this gate.\"\"\"\u001b[39;00m\n\u001b[1;32m     49\u001b[0m     \u001b[38;5;28;01mreturn\u001b[39;00m \u001b[38;5;124m'\u001b[39m\u001b[38;5;132;01m{}\u001b[39;00m\u001b[38;5;124m(\u001b[39m\u001b[38;5;132;01m{}\u001b[39;00m\u001b[38;5;124m) q[\u001b[39m\u001b[38;5;132;01m{}\u001b[39;00m\u001b[38;5;124m];\u001b[39m\u001b[38;5;130;01m\\n\u001b[39;00m\u001b[38;5;124m'\u001b[39m\u001b[38;5;241m.\u001b[39mformat(\n\u001b[0;32m---> 50\u001b[0m         \u001b[38;5;28;43mself\u001b[39;49m\u001b[38;5;241;43m.\u001b[39;49m\u001b[43mqasm_name\u001b[49m,\n\u001b[1;32m     51\u001b[0m         \u001b[38;5;124m'\u001b[39m\u001b[38;5;124m, \u001b[39m\u001b[38;5;124m'\u001b[39m\u001b[38;5;241m.\u001b[39mjoin([\u001b[38;5;28mstr\u001b[39m(p) \u001b[38;5;28;01mfor\u001b[39;00m p \u001b[38;5;129;01min\u001b[39;00m params]),\n\u001b[1;32m     52\u001b[0m         \u001b[38;5;124m'\u001b[39m\u001b[38;5;124m], q[\u001b[39m\u001b[38;5;124m'\u001b[39m\u001b[38;5;241m.\u001b[39mjoin([\u001b[38;5;28mstr\u001b[39m(q) \u001b[38;5;28;01mfor\u001b[39;00m q \u001b[38;5;129;01min\u001b[39;00m location]),\n\u001b[1;32m     53\u001b[0m     )\u001b[38;5;241m.\u001b[39mreplace(\u001b[38;5;124m'\u001b[39m\u001b[38;5;124m()\u001b[39m\u001b[38;5;124m'\u001b[39m, \u001b[38;5;124m'\u001b[39m\u001b[38;5;124m'\u001b[39m)\n",
      "File \u001b[0;32m~/.conda/envs/crosspl/lib/python3.10/site-packages/bqskit/ir/gate.py:38\u001b[0m, in \u001b[0;36mGate.qasm_name\u001b[0;34m(self)\u001b[0m\n\u001b[1;32m     35\u001b[0m \u001b[38;5;28;01mif\u001b[39;00m \u001b[38;5;129;01mnot\u001b[39;00m \u001b[38;5;28mself\u001b[39m\u001b[38;5;241m.\u001b[39mis_qubit_only():\n\u001b[1;32m     36\u001b[0m     \u001b[38;5;28;01mraise\u001b[39;00m \u001b[38;5;167;01mAttributeError\u001b[39;00m(\u001b[38;5;124m'\u001b[39m\u001b[38;5;124mQASM only supports qubit gates.\u001b[39m\u001b[38;5;124m'\u001b[39m)\n\u001b[0;32m---> 38\u001b[0m \u001b[38;5;28;01mreturn\u001b[39;00m \u001b[38;5;28;43mgetattr\u001b[39;49m\u001b[43m(\u001b[49m\u001b[38;5;28;43mself\u001b[39;49m\u001b[43m,\u001b[49m\u001b[43m \u001b[49m\u001b[38;5;124;43m'\u001b[39;49m\u001b[38;5;124;43m_qasm_name\u001b[39;49m\u001b[38;5;124;43m'\u001b[39;49m\u001b[43m)\u001b[49m\n",
      "\u001b[0;31mAttributeError\u001b[0m: 'DaggerGate' object has no attribute '_qasm_name'"
     ]
    }
   ],
   "source": [
    "from pathlib import Path\n",
    "from typing import Optional\n",
    "\n",
    "\n",
    "def export_to_qasm_with_bqskit(\n",
    "        qiskit_circ: QuantumCircuit, var_name: str,\n",
    "        abs_output_file: str = None) -> Optional[str]:\n",
    "    \"\"\"Export a Qiskit circuit to a BQSKit QASM file.\"\"\"\n",
    "    from bqskit.ext import qiskit_to_bqskit\n",
    "    bqskit_circ = qiskit_to_bqskit(qiskit_circ)\n",
    "\n",
    "    # Determine file path\n",
    "    if not abs_output_file:\n",
    "        current_file = Path(__file__)\n",
    "        file_stem = current_file.stem\n",
    "        file_path_bqskit = current_file.with_name(\n",
    "            f\"{file_stem}_{var_name}_bqskit.qasm\")\n",
    "    else:\n",
    "        file_path_bqskit = Path(abs_output_file)\n",
    "\n",
    "    # Save BQSKit circuit to QASM\n",
    "    bqskit_circ.save(str(file_path_bqskit))\n",
    "\n",
    "    print(f\"Saved the BQSKit circuit to {file_path_bqskit}\")\n",
    "    return file_path_bqskit.as_posix()\n",
    "\n",
    "\n",
    "export_to_qasm_with_bqskit(qc, \"qc\", \"qc_bqskit.qasm\")"
   ]
  },
  {
   "cell_type": "code",
   "execution_count": null,
   "metadata": {},
   "outputs": [
    {
     "ename": "QASM2ParseError",
     "evalue": "\"<input>:17,0: 'c4x' takes 5 quantum arguments, but got 4\"",
     "output_type": "error",
     "traceback": [
      "\u001b[0;31m---------------------------------------------------------------------------\u001b[0m",
      "\u001b[0;31mQASM2ParseError\u001b[0m                           Traceback (most recent call last)",
      "Cell \u001b[0;32mIn[7], line 27\u001b[0m\n\u001b[1;32m      8\u001b[0m \u001b[38;5;66;03m# Load the QASM file\u001b[39;00m\n\u001b[1;32m      9\u001b[0m \u001b[38;5;66;03m# qc_imported = load('0001104_1b7227_qc_RemoveRedundancies_pytket.qasm')\u001b[39;00m\n\u001b[1;32m     10\u001b[0m \n\u001b[0;32m   (...)\u001b[0m\n\u001b[1;32m     23\u001b[0m \n\u001b[1;32m     24\u001b[0m \u001b[38;5;66;03m#\u001b[39;00m\n\u001b[1;32m     26\u001b[0m \u001b[38;5;28;01mimport\u001b[39;00m \u001b[38;5;21;01mpennylane\u001b[39;00m \u001b[38;5;28;01mas\u001b[39;00m \u001b[38;5;21;01mqml\u001b[39;00m\n\u001b[0;32m---> 27\u001b[0m loaded_circuit \u001b[38;5;241m=\u001b[39m \u001b[43mqml\u001b[49m\u001b[38;5;241;43m.\u001b[39;49m\u001b[43mfrom_qasm\u001b[49m\u001b[43m(\u001b[49m\u001b[43mtarget_file_content\u001b[49m\u001b[43m)\u001b[49m\n\u001b[1;32m     29\u001b[0m \u001b[38;5;28mprint\u001b[39m(qml\u001b[38;5;241m.\u001b[39mdraw(loaded_circuit)())\n",
      "File \u001b[0;32m~/.conda/envs/crosspl/lib/python3.10/site-packages/pennylane/io.py:613\u001b[0m, in \u001b[0;36mfrom_qasm\u001b[0;34m(quantum_circuit, measurements)\u001b[0m\n\u001b[1;32m    608\u001b[0m \u001b[38;5;28;01mexcept\u001b[39;00m \u001b[38;5;167;01mException\u001b[39;00m \u001b[38;5;28;01mas\u001b[39;00m e:  \u001b[38;5;66;03m# pragma: no cover\u001b[39;00m\n\u001b[1;32m    609\u001b[0m     \u001b[38;5;28;01mraise\u001b[39;00m \u001b[38;5;167;01mRuntimeError\u001b[39;00m(  \u001b[38;5;66;03m# pragma: no cover\u001b[39;00m\n\u001b[1;32m    610\u001b[0m         \u001b[38;5;124m\"\u001b[39m\u001b[38;5;124mFailed to load the qasm plugin. Please ensure that the pennylane-qiskit package is installed.\u001b[39m\u001b[38;5;124m\"\u001b[39m\n\u001b[1;32m    611\u001b[0m     ) \u001b[38;5;28;01mfrom\u001b[39;00m \u001b[38;5;21;01me\u001b[39;00m\n\u001b[0;32m--> 613\u001b[0m \u001b[38;5;28;01mreturn\u001b[39;00m \u001b[43mplugin_converter\u001b[49m\u001b[43m(\u001b[49m\u001b[43mquantum_circuit\u001b[49m\u001b[43m,\u001b[49m\u001b[43m \u001b[49m\u001b[43mmeasurements\u001b[49m\u001b[38;5;241;43m=\u001b[39;49m\u001b[43mmeasurements\u001b[49m\u001b[43m)\u001b[49m\n",
      "File \u001b[0;32m~/.conda/envs/crosspl/lib/python3.10/site-packages/pennylane_qiskit/converter.py:648\u001b[0m, in \u001b[0;36mload_qasm\u001b[0;34m(qasm_string, measurements)\u001b[0m\n\u001b[1;32m    636\u001b[0m \u001b[38;5;28;01mdef\u001b[39;00m \u001b[38;5;21mload_qasm\u001b[39m(qasm_string: \u001b[38;5;28mstr\u001b[39m, measurements\u001b[38;5;241m=\u001b[39m\u001b[38;5;28;01mNone\u001b[39;00m):\n\u001b[1;32m    637\u001b[0m \u001b[38;5;250m    \u001b[39m\u001b[38;5;124;03m\"\"\"Loads a PennyLane template from a QASM string.\u001b[39;00m\n\u001b[1;32m    638\u001b[0m \n\u001b[1;32m    639\u001b[0m \u001b[38;5;124;03m    Args:\u001b[39;00m\n\u001b[0;32m   (...)\u001b[0m\n\u001b[1;32m    646\u001b[0m \u001b[38;5;124;03m        function: the new PennyLane template\u001b[39;00m\n\u001b[1;32m    647\u001b[0m \u001b[38;5;124;03m    \"\"\"\u001b[39;00m\n\u001b[0;32m--> 648\u001b[0m     \u001b[38;5;28;01mreturn\u001b[39;00m load(\u001b[43mQuantumCircuit\u001b[49m\u001b[38;5;241;43m.\u001b[39;49m\u001b[43mfrom_qasm_str\u001b[49m\u001b[43m(\u001b[49m\u001b[43mqasm_string\u001b[49m\u001b[43m)\u001b[49m, measurements\u001b[38;5;241m=\u001b[39mmeasurements)\n",
      "File \u001b[0;32m~/.conda/envs/crosspl/lib/python3.10/site-packages/qiskit/circuit/quantumcircuit.py:4106\u001b[0m, in \u001b[0;36mQuantumCircuit.from_qasm_str\u001b[0;34m(qasm_str)\u001b[0m\n\u001b[1;32m   4103\u001b[0m \u001b[38;5;66;03m# pylint: disable=cyclic-import\u001b[39;00m\n\u001b[1;32m   4104\u001b[0m \u001b[38;5;28;01mfrom\u001b[39;00m \u001b[38;5;21;01mqiskit\u001b[39;00m \u001b[38;5;28;01mimport\u001b[39;00m qasm2\n\u001b[0;32m-> 4106\u001b[0m \u001b[38;5;28;01mreturn\u001b[39;00m \u001b[43mqasm2\u001b[49m\u001b[38;5;241;43m.\u001b[39;49m\u001b[43mloads\u001b[49m\u001b[43m(\u001b[49m\n\u001b[1;32m   4107\u001b[0m \u001b[43m    \u001b[49m\u001b[43mqasm_str\u001b[49m\u001b[43m,\u001b[49m\n\u001b[1;32m   4108\u001b[0m \u001b[43m    \u001b[49m\u001b[43minclude_path\u001b[49m\u001b[38;5;241;43m=\u001b[39;49m\u001b[43mqasm2\u001b[49m\u001b[38;5;241;43m.\u001b[39;49m\u001b[43mLEGACY_INCLUDE_PATH\u001b[49m\u001b[43m,\u001b[49m\n\u001b[1;32m   4109\u001b[0m \u001b[43m    \u001b[49m\u001b[43mcustom_instructions\u001b[49m\u001b[38;5;241;43m=\u001b[39;49m\u001b[43mqasm2\u001b[49m\u001b[38;5;241;43m.\u001b[39;49m\u001b[43mLEGACY_CUSTOM_INSTRUCTIONS\u001b[49m\u001b[43m,\u001b[49m\n\u001b[1;32m   4110\u001b[0m \u001b[43m    \u001b[49m\u001b[43mcustom_classical\u001b[49m\u001b[38;5;241;43m=\u001b[39;49m\u001b[43mqasm2\u001b[49m\u001b[38;5;241;43m.\u001b[39;49m\u001b[43mLEGACY_CUSTOM_CLASSICAL\u001b[49m\u001b[43m,\u001b[49m\n\u001b[1;32m   4111\u001b[0m \u001b[43m    \u001b[49m\u001b[43mstrict\u001b[49m\u001b[38;5;241;43m=\u001b[39;49m\u001b[38;5;28;43;01mFalse\u001b[39;49;00m\u001b[43m,\u001b[49m\n\u001b[1;32m   4112\u001b[0m \u001b[43m\u001b[49m\u001b[43m)\u001b[49m\n",
      "File \u001b[0;32m~/.conda/envs/crosspl/lib/python3.10/site-packages/qiskit/qasm2/__init__.py:587\u001b[0m, in \u001b[0;36mloads\u001b[0;34m(string, include_path, custom_instructions, custom_classical, strict)\u001b[0m\n\u001b[1;32m    571\u001b[0m \u001b[38;5;250m\u001b[39m\u001b[38;5;124;03m\"\"\"Parse an OpenQASM 2 program from a string into a :class:`.QuantumCircuit`.\u001b[39;00m\n\u001b[1;32m    572\u001b[0m \n\u001b[1;32m    573\u001b[0m \u001b[38;5;124;03mArgs:\u001b[39;00m\n\u001b[0;32m   (...)\u001b[0m\n\u001b[1;32m    584\u001b[0m \u001b[38;5;124;03m    A circuit object representing the same OpenQASM 2 program.\u001b[39;00m\n\u001b[1;32m    585\u001b[0m \u001b[38;5;124;03m\"\"\"\u001b[39;00m\n\u001b[1;32m    586\u001b[0m custom_instructions \u001b[38;5;241m=\u001b[39m \u001b[38;5;28mlist\u001b[39m(custom_instructions)\n\u001b[0;32m--> 587\u001b[0m \u001b[38;5;28;01mreturn\u001b[39;00m \u001b[43m_parse\u001b[49m\u001b[38;5;241;43m.\u001b[39;49m\u001b[43mfrom_bytecode\u001b[49m\u001b[43m(\u001b[49m\n\u001b[1;32m    588\u001b[0m \u001b[43m    \u001b[49m\u001b[43m_qasm2\u001b[49m\u001b[38;5;241;43m.\u001b[39;49m\u001b[43mbytecode_from_string\u001b[49m\u001b[43m(\u001b[49m\n\u001b[1;32m    589\u001b[0m \u001b[43m        \u001b[49m\u001b[43mstring\u001b[49m\u001b[43m,\u001b[49m\n\u001b[1;32m    590\u001b[0m \u001b[43m        \u001b[49m\u001b[43m[\u001b[49m\u001b[43m_normalize_path\u001b[49m\u001b[43m(\u001b[49m\u001b[43mpath\u001b[49m\u001b[43m)\u001b[49m\u001b[43m \u001b[49m\u001b[38;5;28;43;01mfor\u001b[39;49;00m\u001b[43m \u001b[49m\u001b[43mpath\u001b[49m\u001b[43m \u001b[49m\u001b[38;5;129;43;01min\u001b[39;49;00m\u001b[43m \u001b[49m\u001b[43minclude_path\u001b[49m\u001b[43m]\u001b[49m\u001b[43m,\u001b[49m\n\u001b[1;32m    591\u001b[0m \u001b[43m        \u001b[49m\u001b[43m[\u001b[49m\n\u001b[1;32m    592\u001b[0m \u001b[43m            \u001b[49m\u001b[43m_qasm2\u001b[49m\u001b[38;5;241;43m.\u001b[39;49m\u001b[43mCustomInstruction\u001b[49m\u001b[43m(\u001b[49m\u001b[43mx\u001b[49m\u001b[38;5;241;43m.\u001b[39;49m\u001b[43mname\u001b[49m\u001b[43m,\u001b[49m\u001b[43m \u001b[49m\u001b[43mx\u001b[49m\u001b[38;5;241;43m.\u001b[39;49m\u001b[43mnum_params\u001b[49m\u001b[43m,\u001b[49m\u001b[43m \u001b[49m\u001b[43mx\u001b[49m\u001b[38;5;241;43m.\u001b[39;49m\u001b[43mnum_qubits\u001b[49m\u001b[43m,\u001b[49m\u001b[43m \u001b[49m\u001b[43mx\u001b[49m\u001b[38;5;241;43m.\u001b[39;49m\u001b[43mbuiltin\u001b[49m\u001b[43m)\u001b[49m\n\u001b[1;32m    593\u001b[0m \u001b[43m            \u001b[49m\u001b[38;5;28;43;01mfor\u001b[39;49;00m\u001b[43m \u001b[49m\u001b[43mx\u001b[49m\u001b[43m \u001b[49m\u001b[38;5;129;43;01min\u001b[39;49;00m\u001b[43m \u001b[49m\u001b[43mcustom_instructions\u001b[49m\n\u001b[1;32m    594\u001b[0m \u001b[43m        \u001b[49m\u001b[43m]\u001b[49m\u001b[43m,\u001b[49m\n\u001b[1;32m    595\u001b[0m \u001b[43m        \u001b[49m\u001b[38;5;28;43mtuple\u001b[39;49m\u001b[43m(\u001b[49m\u001b[43mcustom_classical\u001b[49m\u001b[43m)\u001b[49m\u001b[43m,\u001b[49m\n\u001b[1;32m    596\u001b[0m \u001b[43m        \u001b[49m\u001b[43mstrict\u001b[49m\u001b[43m,\u001b[49m\n\u001b[1;32m    597\u001b[0m \u001b[43m    \u001b[49m\u001b[43m)\u001b[49m\u001b[43m,\u001b[49m\n\u001b[1;32m    598\u001b[0m \u001b[43m    \u001b[49m\u001b[43mcustom_instructions\u001b[49m\u001b[43m,\u001b[49m\n\u001b[1;32m    599\u001b[0m \u001b[43m\u001b[49m\u001b[43m)\u001b[49m\n",
      "File \u001b[0;32m~/.conda/envs/crosspl/lib/python3.10/site-packages/qiskit/qasm2/parse.py:243\u001b[0m, in \u001b[0;36mfrom_bytecode\u001b[0;34m(bytecode, custom_instructions)\u001b[0m\n\u001b[1;32m    240\u001b[0m \u001b[38;5;66;03m# Pull this out as an explicit iterator so we can manually advance the loop in `DeclareGate`\u001b[39;00m\n\u001b[1;32m    241\u001b[0m \u001b[38;5;66;03m# contexts easily.\u001b[39;00m\n\u001b[1;32m    242\u001b[0m bc \u001b[38;5;241m=\u001b[39m \u001b[38;5;28miter\u001b[39m(bytecode)\n\u001b[0;32m--> 243\u001b[0m \u001b[38;5;28;01mfor\u001b[39;00m op \u001b[38;5;129;01min\u001b[39;00m bc:\n\u001b[1;32m    244\u001b[0m     \u001b[38;5;66;03m# We have to check `op.opcode` so many times, it's worth pulling out the extra attribute\u001b[39;00m\n\u001b[1;32m    245\u001b[0m     \u001b[38;5;66;03m# access.  We should check the opcodes in order of their likelihood to be in the OQ2 program\u001b[39;00m\n\u001b[1;32m    246\u001b[0m     \u001b[38;5;66;03m# for speed.  Gate applications are by far the most common for long programs.  This function\u001b[39;00m\n\u001b[1;32m    247\u001b[0m     \u001b[38;5;66;03m# is deliberately long and does not use hashmaps or function lookups for speed in\u001b[39;00m\n\u001b[1;32m    248\u001b[0m     \u001b[38;5;66;03m# Python-space.\u001b[39;00m\n\u001b[1;32m    249\u001b[0m     opcode \u001b[38;5;241m=\u001b[39m op\u001b[38;5;241m.\u001b[39mopcode\n\u001b[1;32m    250\u001b[0m     \u001b[38;5;66;03m# `OpCode` is an `enum` in Rust, but its instances don't have the same singleton property as\u001b[39;00m\n\u001b[1;32m    251\u001b[0m     \u001b[38;5;66;03m# Python `enum.Enum` objects.\u001b[39;00m\n",
      "\u001b[0;31mQASM2ParseError\u001b[0m: \"<input>:17,0: 'c4x' takes 5 quantum arguments, but got 4\""
     ]
    }
   ],
   "source": [
    "import pennylane as qml\n",
    "from qiskit import QuantumCircuit\n",
    "from qiskit.qasm2 import load\n",
    "from pathlib import Path\n",
    "\n",
    "target_file = \"0001104_1b7227_qc_RemoveRedundancies_pytket.qasm\"\n",
    "target_file_content = Path(target_file).read_text()\n",
    "\n",
    "# Load the QASM file\n",
    "# qc_imported = load('0001104_1b7227_qc_RemoveRedundancies_pytket.qasm')\n",
    "\n",
    "# qc_imported.draw()\n",
    "\n",
    "\n",
    "# CORRECT\n",
    "\n",
    "# from pytket.qasm import circuit_from_qasm_str\n",
    "\n",
    "# tket_qc = circuit_from_qasm_str(target_file_content)\n",
    "\n",
    "# from pytket.circuit.display import render_circuit_jupyter\n",
    "\n",
    "# render_circuit_jupyter(tket_qc)\n",
    "\n",
    "#\n",
    "\n",
    "loaded_circuit = qml.from_qasm(target_file_content)\n",
    "\n",
    "print(qml.draw(loaded_circuit)())"
   ]
  },
  {
   "cell_type": "code",
   "execution_count": 21,
   "metadata": {},
   "outputs": [
    {
     "data": {
      "text/html": [
       "<pre style=\"word-wrap: normal;white-space: pre;background: #fff0;line-height: 1.1;font-family: &quot;Courier New&quot;,Courier,monospace\">           \n",
       "q2_0: ──■──\n",
       "        │  \n",
       "q2_1: ──■──\n",
       "        │  \n",
       "q2_2: ──■──\n",
       "      ┌─┴─┐\n",
       "q2_3: ┤ X ├\n",
       "      └───┘</pre>"
      ],
      "text/plain": [
       "           \n",
       "q2_0: ──■──\n",
       "        │  \n",
       "q2_1: ──■──\n",
       "        │  \n",
       "q2_2: ──■──\n",
       "      ┌─┴─┐\n",
       "q2_3: ┤ X ├\n",
       "      └───┘"
      ]
     },
     "execution_count": 21,
     "metadata": {},
     "output_type": "execute_result"
    }
   ],
   "source": [
    "from qiskit import QuantumCircuit, QuantumRegister, ClassicalRegister\n",
    "\n",
    "qr = QuantumRegister(4)\n",
    "qc = QuantumCircuit(qr)\n",
    "qc.mcx([qr[0], qr[1], qr[2]], qr[3])\n",
    "qc.draw()"
   ]
  },
  {
   "cell_type": "code",
   "execution_count": 22,
   "metadata": {},
   "outputs": [
    {
     "name": "stdout",
     "output_type": "stream",
     "text": [
      "OPENQASM 2.0;\n",
      "include \"qelib1.inc\";\n",
      "\n",
      "qreg q2[4];\n",
      "c4x q2[0],q2[1],q2[2],q2[3];\n",
      "\n"
     ]
    }
   ],
   "source": [
    "from pytket.extensions.qiskit import qiskit_to_tk\n",
    "from pytket.passes import RemoveRedundancies, PeepholeOptimise2Q\n",
    "from pytket.qasm import circuit_to_qasm_str\n",
    "\n",
    "# Convert Qiskit circuit to Pytket circuit\n",
    "tkqc = qiskit_to_tk(qc)\n",
    "\n",
    "# Apply Full Peephole Optimization\n",
    "RemoveRedundancies().apply(tkqc)\n",
    "# CRASH: RuntimeError: Operation is not a gate: Unitary1qBox\n",
    "\n",
    "# Export optimized circuit as QASM\n",
    "opt_circuit_qasm = circuit_to_qasm_str(tkqc, header='qelib1', maxwidth=200)\n",
    "print(opt_circuit_qasm)"
   ]
  },
  {
   "cell_type": "code",
   "execution_count": 24,
   "metadata": {},
   "outputs": [
    {
     "data": {
      "text/html": [
       "\n",
       "\n",
       "\n",
       "\n",
       "\n",
       "\n",
       "<div style=\"resize: vertical; overflow: auto; height: None; display: block\">\n",
       "    <iframe srcdoc=\"\n",
       "&lt;!DOCTYPE html&gt;\n",
       "&lt;html lang=&#34;en&#34;&gt;\n",
       "&lt;head&gt;\n",
       "    &lt;meta charset=&#34;UTF-8&#34;&gt;\n",
       "    &lt;!-- Download Vue 3--&gt;\n",
       "&lt;script type=&#34;application/javascript&#34; src=&#34;https://cdn.jsdelivr.net/npm/vue@3&#34;&gt;&lt;/script&gt;\n",
       "&lt;!-- Download Circuit Renderer with styles --&gt;\n",
       "&lt;script type=&#34;application/javascript&#34; src=&#34;https://unpkg.com/pytket-circuit-renderer@0.10/dist/pytket-circuit-renderer.umd.js&#34;&gt;&lt;/script&gt;\n",
       "&lt;link rel=&#34;stylesheet&#34; href=&#34;https://unpkg.com/pytket-circuit-renderer@0.10/dist/pytket-circuit-renderer.css&#34;&gt;\n",
       "&lt;/head&gt;\n",
       "&lt;body&gt;\n",
       "\n",
       "\n",
       "    &lt;div id=&#34;circuit-display-vue-container-48a7c0be-c198-4bd9-9f48-a0730c1dcf5e&#34; class=&#34;pytket-circuit-display-container&#34;&gt;\n",
       "        &lt;div style=&#34;display: none&#34;&gt;\n",
       "            &lt;div id=&#34;circuit-json-to-display&#34;&gt;{&#34;bits&#34;: [], &#34;commands&#34;: [{&#34;args&#34;: [[&#34;q2&#34;, [0]], [&#34;q2&#34;, [1]], [&#34;q2&#34;, [2]], [&#34;q2&#34;, [3]]], &#34;op&#34;: {&#34;n_qb&#34;: 4, &#34;type&#34;: &#34;CnX&#34;}}], &#34;created_qubits&#34;: [], &#34;discarded_qubits&#34;: [], &#34;implicit_permutation&#34;: [[[&#34;q2&#34;, [0]], [&#34;q2&#34;, [0]]], [[&#34;q2&#34;, [1]], [&#34;q2&#34;, [1]]], [[&#34;q2&#34;, [2]], [&#34;q2&#34;, [2]]], [[&#34;q2&#34;, [3]], [&#34;q2&#34;, [3]]]], &#34;name&#34;: &#34;circuit-172&#34;, &#34;phase&#34;: &#34;0.0&#34;, &#34;qubits&#34;: [[&#34;q2&#34;, [0]], [&#34;q2&#34;, [1]], [&#34;q2&#34;, [2]], [&#34;q2&#34;, [3]]]}&lt;/div&gt;\n",
       "        &lt;/div&gt;\n",
       "        &lt;circuit-display-container\n",
       "                :circuit-element-str=&#34;&#39;#circuit-json-to-display&#39;&#34;\n",
       "                :init-render-options=&#34;initRenderOptions&#34;\n",
       "                view-format=&#34;None&#34;\n",
       "        &gt;&lt;/circuit-display-container&gt;\n",
       "    &lt;/div&gt;\n",
       "    &lt;script type=&#34;application/javascript&#34;&gt;\n",
       "      const circuitRendererUid = &#34;48a7c0be-c198-4bd9-9f48-a0730c1dcf5e&#34;;\n",
       "      const displayOptions = JSON.parse(&#39;{}&#39;);\n",
       "\n",
       "      // Script to initialise the circuit renderer app\n",
       "\n",
       "const { createApp } = Vue;\n",
       "const circuitDisplayContainer = window[&#34;pytket-circuit-renderer&#34;].default;\n",
       "// Init variables to be shared between circuit display instances\n",
       "if (typeof window.pytketCircuitDisplays === &#34;undefined&#34;) {\n",
       "    window.pytketCircuitDisplays = {};\n",
       "}\n",
       "// Create the root Vue component\n",
       "const app = createApp({\n",
       "    delimiters: [&#39;[[#&#39;, &#39;#]]&#39;],\n",
       "    components: { circuitDisplayContainer },\n",
       "    data () {\n",
       "      return {\n",
       "        initRenderOptions: displayOptions,\n",
       "      }\n",
       "    }\n",
       "})\n",
       "app.config.unwrapInjectedRef = true;\n",
       "app.mount(&#34;#circuit-display-vue-container-&#34;+circuitRendererUid);\n",
       "window.pytketCircuitDisplays[circuitRendererUid] = app;\n",
       "    &lt;/script&gt;\n",
       "\n",
       "\n",
       "\n",
       "&lt;/body&gt;\n",
       "&lt;/html&gt;\n",
       "\"\n",
       "            width=\"100%\" height=\"100%\"\n",
       "            style=\"border: none; outline: none; overflow: auto\"></iframe>\n",
       "</div>\n",
       "\n"
      ],
      "text/plain": [
       "<IPython.core.display.HTML object>"
      ]
     },
     "metadata": {},
     "output_type": "display_data"
    },
    {
     "name": "stdout",
     "output_type": "stream",
     "text": [
      "OPENQASM 2.0;\n",
      "include \"qelib1.inc\";\n",
      "\n",
      "qreg q2[4];\n",
      "c4x q2[0],q2[1],q2[2],q2[3];\n",
      "\n"
     ]
    }
   ],
   "source": [
    "from pytket.circuit.display import render_circuit_jupyter\n",
    "from pytket.extensions.qiskit import qiskit_to_tk\n",
    "from pytket.qasm import circuit_to_qasm_str\n",
    "\n",
    "# Convert Qiskit circuit to Pytket circuit\n",
    "tkqc = qiskit_to_tk(qc)\n",
    "\n",
    "render_circuit_jupyter(tkqc)\n",
    "\n",
    "# Export optimized circuit as QASM\n",
    "exported_qasm = circuit_to_qasm_str(tkqc, header='qelib1', maxwidth=200)\n",
    "print(exported_qasm)"
   ]
  },
  {
   "cell_type": "code",
   "execution_count": 25,
   "metadata": {},
   "outputs": [
    {
     "data": {
      "text/html": [
       "\n",
       "\n",
       "\n",
       "\n",
       "\n",
       "\n",
       "<div style=\"resize: vertical; overflow: auto; height: None; display: block\">\n",
       "    <iframe srcdoc=\"\n",
       "&lt;!DOCTYPE html&gt;\n",
       "&lt;html lang=&#34;en&#34;&gt;\n",
       "&lt;head&gt;\n",
       "    &lt;meta charset=&#34;UTF-8&#34;&gt;\n",
       "    &lt;!-- Download Vue 3--&gt;\n",
       "&lt;script type=&#34;application/javascript&#34; src=&#34;https://cdn.jsdelivr.net/npm/vue@3&#34;&gt;&lt;/script&gt;\n",
       "&lt;!-- Download Circuit Renderer with styles --&gt;\n",
       "&lt;script type=&#34;application/javascript&#34; src=&#34;https://unpkg.com/pytket-circuit-renderer@0.10/dist/pytket-circuit-renderer.umd.js&#34;&gt;&lt;/script&gt;\n",
       "&lt;link rel=&#34;stylesheet&#34; href=&#34;https://unpkg.com/pytket-circuit-renderer@0.10/dist/pytket-circuit-renderer.css&#34;&gt;\n",
       "&lt;/head&gt;\n",
       "&lt;body&gt;\n",
       "\n",
       "\n",
       "    &lt;div id=&#34;circuit-display-vue-container-96335040-3327-4d9d-8c88-a547cb49a270&#34; class=&#34;pytket-circuit-display-container&#34;&gt;\n",
       "        &lt;div style=&#34;display: none&#34;&gt;\n",
       "            &lt;div id=&#34;circuit-json-to-display&#34;&gt;{&#34;bits&#34;: [], &#34;commands&#34;: [{&#34;args&#34;: [[&#34;q2&#34;, [0]], [&#34;q2&#34;, [1]], [&#34;q2&#34;, [2]], [&#34;q2&#34;, [3]]], &#34;op&#34;: {&#34;n_qb&#34;: 4, &#34;type&#34;: &#34;CnX&#34;}}], &#34;created_qubits&#34;: [], &#34;discarded_qubits&#34;: [], &#34;implicit_permutation&#34;: [[[&#34;q2&#34;, [0]], [&#34;q2&#34;, [0]]], [[&#34;q2&#34;, [1]], [&#34;q2&#34;, [1]]], [[&#34;q2&#34;, [2]], [&#34;q2&#34;, [2]]], [[&#34;q2&#34;, [3]], [&#34;q2&#34;, [3]]]], &#34;phase&#34;: &#34;0.0&#34;, &#34;qubits&#34;: [[&#34;q2&#34;, [0]], [&#34;q2&#34;, [1]], [&#34;q2&#34;, [2]], [&#34;q2&#34;, [3]]]}&lt;/div&gt;\n",
       "        &lt;/div&gt;\n",
       "        &lt;circuit-display-container\n",
       "                :circuit-element-str=&#34;&#39;#circuit-json-to-display&#39;&#34;\n",
       "                :init-render-options=&#34;initRenderOptions&#34;\n",
       "                view-format=&#34;None&#34;\n",
       "        &gt;&lt;/circuit-display-container&gt;\n",
       "    &lt;/div&gt;\n",
       "    &lt;script type=&#34;application/javascript&#34;&gt;\n",
       "      const circuitRendererUid = &#34;96335040-3327-4d9d-8c88-a547cb49a270&#34;;\n",
       "      const displayOptions = JSON.parse(&#39;{}&#39;);\n",
       "\n",
       "      // Script to initialise the circuit renderer app\n",
       "\n",
       "const { createApp } = Vue;\n",
       "const circuitDisplayContainer = window[&#34;pytket-circuit-renderer&#34;].default;\n",
       "// Init variables to be shared between circuit display instances\n",
       "if (typeof window.pytketCircuitDisplays === &#34;undefined&#34;) {\n",
       "    window.pytketCircuitDisplays = {};\n",
       "}\n",
       "// Create the root Vue component\n",
       "const app = createApp({\n",
       "    delimiters: [&#39;[[#&#39;, &#39;#]]&#39;],\n",
       "    components: { circuitDisplayContainer },\n",
       "    data () {\n",
       "      return {\n",
       "        initRenderOptions: displayOptions,\n",
       "      }\n",
       "    }\n",
       "})\n",
       "app.config.unwrapInjectedRef = true;\n",
       "app.mount(&#34;#circuit-display-vue-container-&#34;+circuitRendererUid);\n",
       "window.pytketCircuitDisplays[circuitRendererUid] = app;\n",
       "    &lt;/script&gt;\n",
       "\n",
       "\n",
       "\n",
       "&lt;/body&gt;\n",
       "&lt;/html&gt;\n",
       "\"\n",
       "            width=\"100%\" height=\"100%\"\n",
       "            style=\"border: none; outline: none; overflow: auto\"></iframe>\n",
       "</div>\n",
       "\n"
      ],
      "text/plain": [
       "<IPython.core.display.HTML object>"
      ]
     },
     "metadata": {},
     "output_type": "display_data"
    }
   ],
   "source": [
    "from pytket.qasm import circuit_from_qasm_str\n",
    "from pytket.circuit.display import render_circuit_jupyter\n",
    "\n",
    "tket_qc = circuit_from_qasm_str(exported_qasm)\n",
    "render_circuit_jupyter(tket_qc)"
   ]
  },
  {
   "cell_type": "code",
   "execution_count": null,
   "metadata": {},
   "outputs": [
    {
     "ename": "QASM2ParseError",
     "evalue": "\"<input>:5,0: 'c4x' takes 5 quantum arguments, but got 4\"",
     "output_type": "error",
     "traceback": [
      "\u001b[0;31m---------------------------------------------------------------------------\u001b[0m",
      "\u001b[0;31mQASM2ParseError\u001b[0m                           Traceback (most recent call last)",
      "Cell \u001b[0;32mIn[29], line 12\u001b[0m\n\u001b[1;32m      2\u001b[0m \u001b[38;5;28;01mfrom\u001b[39;00m \u001b[38;5;21;01mqiskit\u001b[39;00m \u001b[38;5;28;01mimport\u001b[39;00m qasm2\n\u001b[1;32m      4\u001b[0m fixed_qasm \u001b[38;5;241m=\u001b[39m \u001b[38;5;124m\"\"\"\u001b[39m\n\u001b[1;32m      5\u001b[0m \u001b[38;5;124mOPENQASM 2.0;\u001b[39m\n\u001b[1;32m      6\u001b[0m \u001b[38;5;124minclude \u001b[39m\u001b[38;5;124m\"\u001b[39m\u001b[38;5;124mqelib1.inc\u001b[39m\u001b[38;5;124m\"\u001b[39m\u001b[38;5;124m;\u001b[39m\n\u001b[0;32m   (...)\u001b[0m\n\u001b[1;32m      9\u001b[0m \u001b[38;5;124mc4x q2[0],q2[1],q2[2],q2[3],q2[4];\u001b[39m\n\u001b[1;32m     10\u001b[0m \u001b[38;5;124m\"\"\"\u001b[39m\n\u001b[0;32m---> 12\u001b[0m qc_imported_qiskit \u001b[38;5;241m=\u001b[39m \u001b[43mloads\u001b[49m\u001b[43m(\u001b[49m\n\u001b[1;32m     13\u001b[0m \u001b[43m    \u001b[49m\u001b[43mexported_qasm\u001b[49m\u001b[43m,\u001b[49m\u001b[43m \u001b[49m\u001b[43mcustom_instructions\u001b[49m\u001b[38;5;241;43m=\u001b[39;49m\u001b[43mqasm2\u001b[49m\u001b[38;5;241;43m.\u001b[39;49m\u001b[43mLEGACY_CUSTOM_INSTRUCTIONS\u001b[49m\u001b[43m)\u001b[49m\n\u001b[1;32m     14\u001b[0m qc_imported_qiskit\u001b[38;5;241m.\u001b[39mdraw()\n",
      "File \u001b[0;32m~/.conda/envs/crosspl/lib/python3.10/site-packages/qiskit/qasm2/__init__.py:587\u001b[0m, in \u001b[0;36mloads\u001b[0;34m(string, include_path, custom_instructions, custom_classical, strict)\u001b[0m\n\u001b[1;32m    571\u001b[0m \u001b[38;5;250m\u001b[39m\u001b[38;5;124;03m\"\"\"Parse an OpenQASM 2 program from a string into a :class:`.QuantumCircuit`.\u001b[39;00m\n\u001b[1;32m    572\u001b[0m \n\u001b[1;32m    573\u001b[0m \u001b[38;5;124;03mArgs:\u001b[39;00m\n\u001b[0;32m   (...)\u001b[0m\n\u001b[1;32m    584\u001b[0m \u001b[38;5;124;03m    A circuit object representing the same OpenQASM 2 program.\u001b[39;00m\n\u001b[1;32m    585\u001b[0m \u001b[38;5;124;03m\"\"\"\u001b[39;00m\n\u001b[1;32m    586\u001b[0m custom_instructions \u001b[38;5;241m=\u001b[39m \u001b[38;5;28mlist\u001b[39m(custom_instructions)\n\u001b[0;32m--> 587\u001b[0m \u001b[38;5;28;01mreturn\u001b[39;00m \u001b[43m_parse\u001b[49m\u001b[38;5;241;43m.\u001b[39;49m\u001b[43mfrom_bytecode\u001b[49m\u001b[43m(\u001b[49m\n\u001b[1;32m    588\u001b[0m \u001b[43m    \u001b[49m\u001b[43m_qasm2\u001b[49m\u001b[38;5;241;43m.\u001b[39;49m\u001b[43mbytecode_from_string\u001b[49m\u001b[43m(\u001b[49m\n\u001b[1;32m    589\u001b[0m \u001b[43m        \u001b[49m\u001b[43mstring\u001b[49m\u001b[43m,\u001b[49m\n\u001b[1;32m    590\u001b[0m \u001b[43m        \u001b[49m\u001b[43m[\u001b[49m\u001b[43m_normalize_path\u001b[49m\u001b[43m(\u001b[49m\u001b[43mpath\u001b[49m\u001b[43m)\u001b[49m\u001b[43m \u001b[49m\u001b[38;5;28;43;01mfor\u001b[39;49;00m\u001b[43m \u001b[49m\u001b[43mpath\u001b[49m\u001b[43m \u001b[49m\u001b[38;5;129;43;01min\u001b[39;49;00m\u001b[43m \u001b[49m\u001b[43minclude_path\u001b[49m\u001b[43m]\u001b[49m\u001b[43m,\u001b[49m\n\u001b[1;32m    591\u001b[0m \u001b[43m        \u001b[49m\u001b[43m[\u001b[49m\n\u001b[1;32m    592\u001b[0m \u001b[43m            \u001b[49m\u001b[43m_qasm2\u001b[49m\u001b[38;5;241;43m.\u001b[39;49m\u001b[43mCustomInstruction\u001b[49m\u001b[43m(\u001b[49m\u001b[43mx\u001b[49m\u001b[38;5;241;43m.\u001b[39;49m\u001b[43mname\u001b[49m\u001b[43m,\u001b[49m\u001b[43m \u001b[49m\u001b[43mx\u001b[49m\u001b[38;5;241;43m.\u001b[39;49m\u001b[43mnum_params\u001b[49m\u001b[43m,\u001b[49m\u001b[43m \u001b[49m\u001b[43mx\u001b[49m\u001b[38;5;241;43m.\u001b[39;49m\u001b[43mnum_qubits\u001b[49m\u001b[43m,\u001b[49m\u001b[43m \u001b[49m\u001b[43mx\u001b[49m\u001b[38;5;241;43m.\u001b[39;49m\u001b[43mbuiltin\u001b[49m\u001b[43m)\u001b[49m\n\u001b[1;32m    593\u001b[0m \u001b[43m            \u001b[49m\u001b[38;5;28;43;01mfor\u001b[39;49;00m\u001b[43m \u001b[49m\u001b[43mx\u001b[49m\u001b[43m \u001b[49m\u001b[38;5;129;43;01min\u001b[39;49;00m\u001b[43m \u001b[49m\u001b[43mcustom_instructions\u001b[49m\n\u001b[1;32m    594\u001b[0m \u001b[43m        \u001b[49m\u001b[43m]\u001b[49m\u001b[43m,\u001b[49m\n\u001b[1;32m    595\u001b[0m \u001b[43m        \u001b[49m\u001b[38;5;28;43mtuple\u001b[39;49m\u001b[43m(\u001b[49m\u001b[43mcustom_classical\u001b[49m\u001b[43m)\u001b[49m\u001b[43m,\u001b[49m\n\u001b[1;32m    596\u001b[0m \u001b[43m        \u001b[49m\u001b[43mstrict\u001b[49m\u001b[43m,\u001b[49m\n\u001b[1;32m    597\u001b[0m \u001b[43m    \u001b[49m\u001b[43m)\u001b[49m\u001b[43m,\u001b[49m\n\u001b[1;32m    598\u001b[0m \u001b[43m    \u001b[49m\u001b[43mcustom_instructions\u001b[49m\u001b[43m,\u001b[49m\n\u001b[1;32m    599\u001b[0m \u001b[43m\u001b[49m\u001b[43m)\u001b[49m\n",
      "File \u001b[0;32m~/.conda/envs/crosspl/lib/python3.10/site-packages/qiskit/qasm2/parse.py:243\u001b[0m, in \u001b[0;36mfrom_bytecode\u001b[0;34m(bytecode, custom_instructions)\u001b[0m\n\u001b[1;32m    240\u001b[0m \u001b[38;5;66;03m# Pull this out as an explicit iterator so we can manually advance the loop in `DeclareGate`\u001b[39;00m\n\u001b[1;32m    241\u001b[0m \u001b[38;5;66;03m# contexts easily.\u001b[39;00m\n\u001b[1;32m    242\u001b[0m bc \u001b[38;5;241m=\u001b[39m \u001b[38;5;28miter\u001b[39m(bytecode)\n\u001b[0;32m--> 243\u001b[0m \u001b[38;5;28;01mfor\u001b[39;00m op \u001b[38;5;129;01min\u001b[39;00m bc:\n\u001b[1;32m    244\u001b[0m     \u001b[38;5;66;03m# We have to check `op.opcode` so many times, it's worth pulling out the extra attribute\u001b[39;00m\n\u001b[1;32m    245\u001b[0m     \u001b[38;5;66;03m# access.  We should check the opcodes in order of their likelihood to be in the OQ2 program\u001b[39;00m\n\u001b[1;32m    246\u001b[0m     \u001b[38;5;66;03m# for speed.  Gate applications are by far the most common for long programs.  This function\u001b[39;00m\n\u001b[1;32m    247\u001b[0m     \u001b[38;5;66;03m# is deliberately long and does not use hashmaps or function lookups for speed in\u001b[39;00m\n\u001b[1;32m    248\u001b[0m     \u001b[38;5;66;03m# Python-space.\u001b[39;00m\n\u001b[1;32m    249\u001b[0m     opcode \u001b[38;5;241m=\u001b[39m op\u001b[38;5;241m.\u001b[39mopcode\n\u001b[1;32m    250\u001b[0m     \u001b[38;5;66;03m# `OpCode` is an `enum` in Rust, but its instances don't have the same singleton property as\u001b[39;00m\n\u001b[1;32m    251\u001b[0m     \u001b[38;5;66;03m# Python `enum.Enum` objects.\u001b[39;00m\n",
      "\u001b[0;31mQASM2ParseError\u001b[0m: \"<input>:5,0: 'c4x' takes 5 quantum arguments, but got 4\""
     ]
    }
   ],
   "source": [
    "from qiskit.qasm2 import loads\n",
    "from qiskit import qasm2\n",
    "\n",
    "qc_imported_qiskit = loads(\n",
    "    exported_qasm, custom_instructions=qasm2.LEGACY_CUSTOM_INSTRUCTIONS)\n",
    "# QASM2ParseError: \"<input>:5,0: 'c4x' takes 5 quantum arguments, but got 4\""
   ]
  },
  {
   "cell_type": "code",
   "execution_count": null,
   "metadata": {},
   "outputs": [],
   "source": []
  }
 ],
 "metadata": {
  "kernelspec": {
   "display_name": "crosspl",
   "language": "python",
   "name": "python3"
  },
  "language_info": {
   "codemirror_mode": {
    "name": "ipython",
    "version": 3
   },
   "file_extension": ".py",
   "mimetype": "text/x-python",
   "name": "python",
   "nbconvert_exporter": "python",
   "pygments_lexer": "ipython3",
   "version": "3.10.14"
  }
 },
 "nbformat": 4,
 "nbformat_minor": 2
}
