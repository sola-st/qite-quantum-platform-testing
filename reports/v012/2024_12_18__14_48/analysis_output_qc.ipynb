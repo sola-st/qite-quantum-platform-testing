{
 "cells": [
  {
   "cell_type": "code",
   "execution_count": 1,
   "id": "7c50ae6d",
   "metadata": {
    "execution": {
     "iopub.execute_input": "2024-12-18T13:48:22.674139Z",
     "iopub.status.busy": "2024-12-18T13:48:22.673848Z",
     "iopub.status.idle": "2024-12-18T13:48:22.682561Z",
     "shell.execute_reply": "2024-12-18T13:48:22.681425Z"
    },
    "papermill": {
     "duration": 0.018548,
     "end_time": "2024-12-18T13:48:22.685090",
     "exception": false,
     "start_time": "2024-12-18T13:48:22.666542",
     "status": "completed"
    },
    "tags": [
     "parameters"
    ]
   },
   "outputs": [],
   "source": [
    "PATH_QASM_A = \"artifacts/test_a.qasm\"\n",
    "PATH_QASM_B = None  # \"artifacts/test_b.qasm\"\n",
    "\n",
    "PATH_PYTHON_FILE = \"artifacts/file.py\""
   ]
  },
  {
   "cell_type": "code",
   "execution_count": 2,
   "id": "246685bf",
   "metadata": {
    "execution": {
     "iopub.execute_input": "2024-12-18T13:48:22.700006Z",
     "iopub.status.busy": "2024-12-18T13:48:22.699526Z",
     "iopub.status.idle": "2024-12-18T13:48:22.705665Z",
     "shell.execute_reply": "2024-12-18T13:48:22.704559Z"
    },
    "papermill": {
     "duration": 0.016264,
     "end_time": "2024-12-18T13:48:22.708099",
     "exception": false,
     "start_time": "2024-12-18T13:48:22.691835",
     "status": "completed"
    },
    "tags": [
     "injected-parameters"
    ]
   },
   "outputs": [],
   "source": [
    "# Parameters\n",
    "PATH_QASM_A = \"../reports/v012/2024_12_18__14_48/qiskit_circuit_5q_10g_7553_24d42f_76b26a_error_min_qc_qiskit.qasm\"\n",
    "PATH_QASM_B = \"../reports/v012/2024_12_18__14_48/qiskit_circuit_5q_10g_7553_24d42f_76b26a_error_min_qc_pytket.qasm\"\n",
    "PATH_PYTHON_FILE = \"../reports/v012/2024_12_18__14_48/qiskit_circuit_5q_10g_7553_24d42f_76b26a_error_min.py\"\n"
   ]
  },
  {
   "cell_type": "code",
   "execution_count": 3,
   "id": "175021a5",
   "metadata": {
    "execution": {
     "iopub.execute_input": "2024-12-18T13:48:22.721255Z",
     "iopub.status.busy": "2024-12-18T13:48:22.720215Z",
     "iopub.status.idle": "2024-12-18T13:48:22.726020Z",
     "shell.execute_reply": "2024-12-18T13:48:22.724857Z"
    },
    "papermill": {
     "duration": 0.015892,
     "end_time": "2024-12-18T13:48:22.729281",
     "exception": false,
     "start_time": "2024-12-18T13:48:22.713389",
     "status": "completed"
    },
    "tags": []
   },
   "outputs": [],
   "source": [
    "# UNCOMMENT TO RUN WITH FILE IN THE CURRENT FOLDER\n",
    "# consider all the imports relative to the current folder\n",
    "\n",
    "# from pathlib import Path\n",
    "# PATH_QASM_A = str(Path(PATH_QASM_A).name)\n",
    "# PATH_QASM_B = str(Path(PATH_QASM_B).name)\n",
    "# PATH_PYTHON_FILE = str(Path(PATH_PYTHON_FILE).name)"
   ]
  },
  {
   "cell_type": "markdown",
   "id": "eff89319",
   "metadata": {
    "papermill": {
     "duration": 0.005446,
     "end_time": "2024-12-18T13:48:22.740320",
     "exception": false,
     "start_time": "2024-12-18T13:48:22.734874",
     "status": "completed"
    },
    "tags": []
   },
   "source": [
    "## File Content"
   ]
  },
  {
   "cell_type": "code",
   "execution_count": 4,
   "id": "d29e2d7d",
   "metadata": {
    "execution": {
     "iopub.execute_input": "2024-12-18T13:48:22.753631Z",
     "iopub.status.busy": "2024-12-18T13:48:22.752612Z",
     "iopub.status.idle": "2024-12-18T13:48:22.769875Z",
     "shell.execute_reply": "2024-12-18T13:48:22.768701Z"
    },
    "papermill": {
     "duration": 0.026629,
     "end_time": "2024-12-18T13:48:22.772229",
     "exception": false,
     "start_time": "2024-12-18T13:48:22.745600",
     "status": "completed"
    },
    "tags": []
   },
   "outputs": [
    {
     "name": "stdout",
     "output_type": "stream",
     "text": [
      "\u001b[32mFilename: \u001b[0m ../reports/v012/2024_12_18__14_48/qiskit_circuit_5q_10g_7553_24d42f_76b26a_error_min_qc_qiskit.qasm\n",
      "\u001b[32mOPENQASM 2.0;\n",
      "include \"qelib1.inc\";\n",
      "qreg q[5];\n",
      "\u001b[0m\n",
      "\n",
      "\n",
      "\u001b[34mFilename: \u001b[0m ../reports/v012/2024_12_18__14_48/qiskit_circuit_5q_10g_7553_24d42f_76b26a_error_min_qc_pytket.qasm\n",
      "\u001b[34mOPENQASM 2.0;\n",
      "include \"qelib1.inc\";\n",
      "\n",
      "qreg q[5];\n",
      "\u001b[0m\n",
      "\n",
      "\n",
      "\u001b[35mFilename: \u001b[0m ../reports/v012/2024_12_18__14_48/qiskit_circuit_5q_10g_7553_24d42f_76b26a_error_min.py\n",
      "\u001b[35m\u001b[0m\n",
      "\n",
      "\n"
     ]
    }
   ],
   "source": [
    "from termcolor import colored\n",
    "\n",
    "\n",
    "def extract_between_tags(content: str, start_tag: str, end_tag: str) -> str:\n",
    "    start_index = content.find(start_tag) + len(start_tag)\n",
    "    end_index = content.find(end_tag)\n",
    "    return content[start_index:end_index]\n",
    "\n",
    "\n",
    "def print_and_return_content(\n",
    "        file_name, color: str, start_tag: str = None, end_tag: str = None) -> str:\n",
    "    print(colored(\"Filename: \", color), file_name)\n",
    "    with open(file_name, \"r\") as f:\n",
    "        content = f.read()\n",
    "        if start_tag and end_tag:\n",
    "            content = extract_between_tags(content, start_tag, end_tag)\n",
    "        print(colored(content, color))\n",
    "    print(\"\\n\")\n",
    "    return content\n",
    "\n",
    "\n",
    "qasm_a_str = print_and_return_content(PATH_QASM_A, color=\"green\")\n",
    "if PATH_QASM_B:\n",
    "    qasm_b_str = print_and_return_content(PATH_QASM_B, color=\"blue\")\n",
    "\n",
    "py_file_str = print_and_return_content(\n",
    "    PATH_PYTHON_FILE, color=\"magenta\", start_tag=\"# <START_GATES>\",\n",
    "    end_tag=\"import os\")"
   ]
  },
  {
   "cell_type": "markdown",
   "id": "a978443b",
   "metadata": {
    "papermill": {
     "duration": 0.005723,
     "end_time": "2024-12-18T13:48:22.783678",
     "exception": false,
     "start_time": "2024-12-18T13:48:22.777955",
     "status": "completed"
    },
    "tags": []
   },
   "source": [
    "## Circuit Diagram"
   ]
  },
  {
   "cell_type": "code",
   "execution_count": 5,
   "id": "629868d5",
   "metadata": {
    "execution": {
     "iopub.execute_input": "2024-12-18T13:48:22.797515Z",
     "iopub.status.busy": "2024-12-18T13:48:22.796493Z",
     "iopub.status.idle": "2024-12-18T13:48:23.239997Z",
     "shell.execute_reply": "2024-12-18T13:48:23.238822Z"
    },
    "papermill": {
     "duration": 0.453312,
     "end_time": "2024-12-18T13:48:23.242553",
     "exception": false,
     "start_time": "2024-12-18T13:48:22.789241",
     "status": "completed"
    },
    "tags": []
   },
   "outputs": [
    {
     "name": "stdout",
     "output_type": "stream",
     "text": [
      "     \n",
      "q_0: \n",
      "     \n",
      "q_1: \n",
      "     \n",
      "q_2: \n",
      "     \n",
      "q_3: \n",
      "     \n",
      "q_4: \n",
      "     \n",
      "     \n",
      "q_0: \n",
      "     \n",
      "q_1: \n",
      "     \n",
      "q_2: \n",
      "     \n",
      "q_3: \n",
      "     \n",
      "q_4: \n",
      "     \n"
     ]
    }
   ],
   "source": [
    "from qiskit.qasm2 import load\n",
    "from qiskit import qasm2\n",
    "\n",
    "circuit_a = load(\n",
    "    PATH_QASM_A, custom_instructions=qasm2.LEGACY_CUSTOM_INSTRUCTIONS)\n",
    "print(circuit_a)\n",
    "if PATH_QASM_B:\n",
    "    circuit_b = load(\n",
    "        PATH_QASM_B, custom_instructions=qasm2.LEGACY_CUSTOM_INSTRUCTIONS)\n",
    "    print(circuit_b)"
   ]
  },
  {
   "cell_type": "markdown",
   "id": "f59dc5e4",
   "metadata": {
    "papermill": {
     "duration": 0.007572,
     "end_time": "2024-12-18T13:48:23.258295",
     "exception": false,
     "start_time": "2024-12-18T13:48:23.250723",
     "status": "completed"
    },
    "tags": []
   },
   "source": [
    "## Compare Semantics"
   ]
  },
  {
   "cell_type": "markdown",
   "id": "5f7cfed1",
   "metadata": {
    "papermill": {
     "duration": 0.006625,
     "end_time": "2024-12-18T13:48:23.271375",
     "exception": false,
     "start_time": "2024-12-18T13:48:23.264750",
     "status": "completed"
    },
    "tags": []
   },
   "source": [
    "### QCEC Oracle"
   ]
  },
  {
   "cell_type": "code",
   "execution_count": 6,
   "id": "49d1d5ad",
   "metadata": {
    "execution": {
     "iopub.execute_input": "2024-12-18T13:48:23.286201Z",
     "iopub.status.busy": "2024-12-18T13:48:23.285418Z",
     "iopub.status.idle": "2024-12-18T13:48:23.303280Z",
     "shell.execute_reply": "2024-12-18T13:48:23.302223Z"
    },
    "papermill": {
     "duration": 0.02779,
     "end_time": "2024-12-18T13:48:23.305610",
     "exception": false,
     "start_time": "2024-12-18T13:48:23.277820",
     "status": "completed"
    },
    "tags": []
   },
   "outputs": [
    {
     "name": "stdout",
     "output_type": "stream",
     "text": [
      "\u001b[35mQCEC result: equivalent\u001b[0m\n",
      "{\n",
      "  \"check_time\": 0.0,\n",
      "  \"checkers\": [],\n",
      "  \"circuit1\": {\n",
      "    \"name\": \"qiskit_circuit_5q_10g_7553_24d42f_76b26a_error_min_qc_qiskit\",\n",
      "    \"num_gates\": 0,\n",
      "    \"num_qubits\": 0\n",
      "  },\n",
      "  \"circuit2\": {\n",
      "    \"name\": \"qiskit_circuit_5q_10g_7553_24d42f_76b26a_error_min_qc_pytket\",\n",
      "    \"num_gates\": 0,\n",
      "    \"num_qubits\": 0\n",
      "  },\n",
      "  \"configuration\": {\n",
      "    \"application\": {\n",
      "      \"alternating\": \"proportional\",\n",
      "      \"simulation\": \"proportional\"\n",
      "    },\n",
      "    \"execution\": {\n",
      "      \"nthreads\": 48,\n",
      "      \"parallel\": true,\n",
      "      \"run_alternating_checker\": true,\n",
      "      \"run_construction_checker\": false,\n",
      "      \"run_simulation_checker\": true,\n",
      "      \"run_zx_checker\": true,\n",
      "      \"tolerance\": 2.2737367544323206e-13\n",
      "    },\n",
      "    \"functionality\": {\n",
      "      \"check_partial_equivalence\": false,\n",
      "      \"trace_threshold\": 1e-08\n",
      "    },\n",
      "    \"optimizations\": {\n",
      "      \"backpropagate_output_permutation\": false,\n",
      "      \"elide_permutations\": true,\n",
      "      \"fuse_consecutive_single_qubit_gates\": true,\n",
      "      \"reconstruct_swaps\": true,\n",
      "      \"remove_diagonal_gates_before_measure\": false,\n",
      "      \"reorder_operations\": true,\n",
      "      \"transform_dynamic_circuit\": true\n",
      "    },\n",
      "    \"parameterized\": {\n",
      "      \"additional_instantiations\": 0,\n",
      "      \"tolerance\": 1e-12\n",
      "    },\n",
      "    \"simulation\": {\n",
      "      \"fidelity_threshold\": 1e-08,\n",
      "      \"max_sims\": 1,\n",
      "      \"seed\": 0,\n",
      "      \"state_type\": \"computational_basis\",\n",
      "      \"store_counterexample_input\": false,\n",
      "      \"store_counterexample_output\": false\n",
      "    }\n",
      "  },\n",
      "  \"equivalence\": \"equivalent\",\n",
      "  \"parameterized\": {\n",
      "    \"performed_instantiations\": 0\n",
      "  },\n",
      "  \"preprocessing_time\": 0.000223681\n",
      "}\n"
     ]
    }
   ],
   "source": [
    "from mqt import qcec\n",
    "if PATH_QASM_B:\n",
    "    res = qcec.verify(\n",
    "        PATH_QASM_A, PATH_QASM_B,\n",
    "        transform_dynamic_circuit=True)\n",
    "    print(colored(f\"QCEC result: {res.equivalence}\", \"magenta\"))\n",
    "    print(res)"
   ]
  },
  {
   "cell_type": "markdown",
   "id": "00cbeb78",
   "metadata": {
    "papermill": {
     "duration": 0.006877,
     "end_time": "2024-12-18T13:48:23.319436",
     "exception": false,
     "start_time": "2024-12-18T13:48:23.312559",
     "status": "completed"
    },
    "tags": []
   },
   "source": [
    "### Simulation (Qiskit)"
   ]
  },
  {
   "cell_type": "code",
   "execution_count": 7,
   "id": "56c94214",
   "metadata": {
    "execution": {
     "iopub.execute_input": "2024-12-18T13:48:23.335802Z",
     "iopub.status.busy": "2024-12-18T13:48:23.335488Z",
     "iopub.status.idle": "2024-12-18T13:48:23.349492Z",
     "shell.execute_reply": "2024-12-18T13:48:23.348238Z"
    },
    "papermill": {
     "duration": 0.024905,
     "end_time": "2024-12-18T13:48:23.352172",
     "exception": false,
     "start_time": "2024-12-18T13:48:23.327267",
     "status": "completed"
    },
    "tags": []
   },
   "outputs": [
    {
     "name": "stdout",
     "output_type": "stream",
     "text": [
      "\u001b[32m../reports/v012/2024_12_18__14_48/qiskit_circuit_5q_10g_7553_24d42f_76b26a_error_min_qc_qiskit.qasm\u001b[0m\n",
      "\u001b[32mStatevector A: \u001b[0m Statevector([1.+0.j, 0.+0.j, 0.+0.j, 0.+0.j, 0.+0.j, 0.+0.j, 0.+0.j,\n",
      "             0.+0.j, 0.+0.j, 0.+0.j, 0.+0.j, 0.+0.j, 0.+0.j, 0.+0.j,\n",
      "             0.+0.j, 0.+0.j, 0.+0.j, 0.+0.j, 0.+0.j, 0.+0.j, 0.+0.j,\n",
      "             0.+0.j, 0.+0.j, 0.+0.j, 0.+0.j, 0.+0.j, 0.+0.j, 0.+0.j,\n",
      "             0.+0.j, 0.+0.j, 0.+0.j, 0.+0.j],\n",
      "            dims=(2, 2, 2, 2, 2))\n",
      "\u001b[34m../reports/v012/2024_12_18__14_48/qiskit_circuit_5q_10g_7553_24d42f_76b26a_error_min_qc_pytket.qasm\u001b[0m\n",
      "\u001b[34mStatevector B: \u001b[0m Statevector([1.+0.j, 0.+0.j, 0.+0.j, 0.+0.j, 0.+0.j, 0.+0.j, 0.+0.j,\n",
      "             0.+0.j, 0.+0.j, 0.+0.j, 0.+0.j, 0.+0.j, 0.+0.j, 0.+0.j,\n",
      "             0.+0.j, 0.+0.j, 0.+0.j, 0.+0.j, 0.+0.j, 0.+0.j, 0.+0.j,\n",
      "             0.+0.j, 0.+0.j, 0.+0.j, 0.+0.j, 0.+0.j, 0.+0.j, 0.+0.j,\n",
      "             0.+0.j, 0.+0.j, 0.+0.j, 0.+0.j],\n",
      "            dims=(2, 2, 2, 2, 2))\n",
      "\u001b[32m../reports/v012/2024_12_18__14_48/qiskit_circuit_5q_10g_7553_24d42f_76b26a_error_min_qc_qiskit.qasm\u001b[0m\n",
      "\u001b[32mProbabilities A: \u001b[0m {'00000': 1.0}\n",
      "\u001b[34m../reports/v012/2024_12_18__14_48/qiskit_circuit_5q_10g_7553_24d42f_76b26a_error_min_qc_pytket.qasm\u001b[0m\n",
      "\u001b[34mProbabilities B: \u001b[0m {'00000': 1.0}\n"
     ]
    }
   ],
   "source": [
    "from qiskit.quantum_info import Statevector\n",
    "\n",
    "sv_a = Statevector.from_instruction(circuit_a)\n",
    "print(colored(PATH_QASM_A, \"green\"))\n",
    "print(colored(\"Statevector A: \", \"green\"), sv_a)\n",
    "\n",
    "if PATH_QASM_B:\n",
    "    sv_b = Statevector.from_instruction(circuit_b)\n",
    "    print(colored(PATH_QASM_B, \"blue\"))\n",
    "    print(colored(\"Statevector B: \", \"blue\"), sv_b)\n",
    "\n",
    "# compare the statevectors\n",
    "probabilities_a = sv_a.probabilities_dict()\n",
    "print(colored(PATH_QASM_A, \"green\"))\n",
    "print(colored(\"Probabilities A: \", \"green\"), probabilities_a)\n",
    "if PATH_QASM_B:\n",
    "    probabilities_b = sv_b.probabilities_dict()\n",
    "    print(colored(PATH_QASM_B, \"blue\"))\n",
    "    print(colored(\"Probabilities B: \", \"blue\"), probabilities_b)"
   ]
  },
  {
   "cell_type": "code",
   "execution_count": null,
   "id": "958b114a",
   "metadata": {
    "papermill": {
     "duration": 0.008343,
     "end_time": "2024-12-18T13:48:23.369423",
     "exception": false,
     "start_time": "2024-12-18T13:48:23.361080",
     "status": "completed"
    },
    "tags": []
   },
   "outputs": [],
   "source": []
  }
 ],
 "metadata": {
  "kernelspec": {
   "display_name": "crosspl",
   "language": "python",
   "name": "python3"
  },
  "language_info": {
   "codemirror_mode": {
    "name": "ipython",
    "version": 3
   },
   "file_extension": ".py",
   "mimetype": "text/x-python",
   "name": "python",
   "nbconvert_exporter": "python",
   "pygments_lexer": "ipython3",
   "version": "3.10.14"
  },
  "papermill": {
   "default_parameters": {},
   "duration": 1.747253,
   "end_time": "2024-12-18T13:48:23.698509",
   "environment_variables": {},
   "exception": null,
   "input_path": "010_Triage_Not_Equivalence.ipynb",
   "output_path": "../reports/v012/2024_12_18__14_48/analysis_output_qc.ipynb",
   "parameters": {
    "PATH_PYTHON_FILE": "../reports/v012/2024_12_18__14_48/qiskit_circuit_5q_10g_7553_24d42f_76b26a_error_min.py",
    "PATH_QASM_A": "../reports/v012/2024_12_18__14_48/qiskit_circuit_5q_10g_7553_24d42f_76b26a_error_min_qc_qiskit.qasm",
    "PATH_QASM_B": "../reports/v012/2024_12_18__14_48/qiskit_circuit_5q_10g_7553_24d42f_76b26a_error_min_qc_pytket.qasm"
   },
   "start_time": "2024-12-18T13:48:21.951256",
   "version": "2.6.0"
  }
 },
 "nbformat": 4,
 "nbformat_minor": 5
}