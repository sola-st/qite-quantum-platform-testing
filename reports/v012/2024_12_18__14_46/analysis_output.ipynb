{
 "cells": [
  {
   "cell_type": "code",
   "execution_count": 1,
   "id": "eb71a33e",
   "metadata": {
    "execution": {
     "iopub.execute_input": "2024-12-18T13:47:01.256549Z",
     "iopub.status.busy": "2024-12-18T13:47:01.256310Z",
     "iopub.status.idle": "2024-12-18T13:47:01.263627Z",
     "shell.execute_reply": "2024-12-18T13:47:01.262811Z"
    },
    "papermill": {
     "duration": 0.016819,
     "end_time": "2024-12-18T13:47:01.265832",
     "exception": false,
     "start_time": "2024-12-18T13:47:01.249013",
     "status": "completed"
    },
    "tags": [
     "parameters"
    ]
   },
   "outputs": [],
   "source": [
    "PATH_QASM_A = \"artifacts/test_a.qasm\"\n",
    "PATH_QASM_B = None  # \"artifacts/test_b.qasm\"\n",
    "\n",
    "PATH_PYTHON_FILE = \"artifacts/file.py\""
   ]
  },
  {
   "cell_type": "code",
   "execution_count": 2,
   "id": "418c2e77",
   "metadata": {
    "execution": {
     "iopub.execute_input": "2024-12-18T13:47:01.281171Z",
     "iopub.status.busy": "2024-12-18T13:47:01.280929Z",
     "iopub.status.idle": "2024-12-18T13:47:01.285188Z",
     "shell.execute_reply": "2024-12-18T13:47:01.284373Z"
    },
    "papermill": {
     "duration": 0.013957,
     "end_time": "2024-12-18T13:47:01.287344",
     "exception": false,
     "start_time": "2024-12-18T13:47:01.273387",
     "status": "completed"
    },
    "tags": [
     "injected-parameters"
    ]
   },
   "outputs": [],
   "source": [
    "# Parameters\n",
    "PATH_QASM_A = \"../reports/v012/2024_12_18__14_46/qiskit_circuit_5q_10g_7553_24d42f_76b26a_error_min_qc_pytket.qasm\"\n",
    "PATH_QASM_B = \"../reports/v012/2024_12_18__14_46/qiskit_circuit_5q_10g_7553_24d42f_76b26a_error_min_random_qc_qiskit.qasm\"\n",
    "PATH_PYTHON_FILE = \"../reports/v012/2024_12_18__14_46/qiskit_circuit_5q_10g_7553_24d42f_76b26a_error_min.py\"\n"
   ]
  },
  {
   "cell_type": "code",
   "execution_count": 3,
   "id": "e4709684",
   "metadata": {
    "execution": {
     "iopub.execute_input": "2024-12-18T13:47:01.300621Z",
     "iopub.status.busy": "2024-12-18T13:47:01.300369Z",
     "iopub.status.idle": "2024-12-18T13:47:01.304325Z",
     "shell.execute_reply": "2024-12-18T13:47:01.303510Z"
    },
    "papermill": {
     "duration": 0.013197,
     "end_time": "2024-12-18T13:47:01.306405",
     "exception": false,
     "start_time": "2024-12-18T13:47:01.293208",
     "status": "completed"
    },
    "tags": []
   },
   "outputs": [],
   "source": [
    "# UNCOMMENT TO RUN WITH FILE IN THE CURRENT FOLDER\n",
    "# consider all the imports relative to the current folder\n",
    "\n",
    "# from pathlib import Path\n",
    "# PATH_QASM_A = str(Path(PATH_QASM_A).name)\n",
    "# PATH_QASM_B = str(Path(PATH_QASM_B).name)\n",
    "# PATH_PYTHON_FILE = str(Path(PATH_PYTHON_FILE).name)"
   ]
  },
  {
   "cell_type": "markdown",
   "id": "e28c41a2",
   "metadata": {
    "papermill": {
     "duration": 0.005963,
     "end_time": "2024-12-18T13:47:01.318254",
     "exception": false,
     "start_time": "2024-12-18T13:47:01.312291",
     "status": "completed"
    },
    "tags": []
   },
   "source": [
    "## File Content"
   ]
  },
  {
   "cell_type": "code",
   "execution_count": 4,
   "id": "af79f48f",
   "metadata": {
    "execution": {
     "iopub.execute_input": "2024-12-18T13:47:01.331172Z",
     "iopub.status.busy": "2024-12-18T13:47:01.330933Z",
     "iopub.status.idle": "2024-12-18T13:47:01.340625Z",
     "shell.execute_reply": "2024-12-18T13:47:01.339776Z"
    },
    "papermill": {
     "duration": 0.018812,
     "end_time": "2024-12-18T13:47:01.342789",
     "exception": false,
     "start_time": "2024-12-18T13:47:01.323977",
     "status": "completed"
    },
    "tags": []
   },
   "outputs": [
    {
     "name": "stdout",
     "output_type": "stream",
     "text": [
      "\u001b[32mFilename: \u001b[0m ../reports/v012/2024_12_18__14_46/qiskit_circuit_5q_10g_7553_24d42f_76b26a_error_min_qc_pytket.qasm\n",
      "\u001b[32mOPENQASM 2.0;\n",
      "include \"qelib1.inc\";\n",
      "\n",
      "qreg q[5];\n",
      "\u001b[0m\n",
      "\n",
      "\n",
      "\u001b[34mFilename: \u001b[0m ../reports/v012/2024_12_18__14_46/qiskit_circuit_5q_10g_7553_24d42f_76b26a_error_min_random_qc_qiskit.qasm\n",
      "\u001b[34mOPENQASM 2.0;\n",
      "include \"qelib1.inc\";\n",
      "gate r(param0,param1) q0 { u3(param0,param1 - pi/2,pi/2 - param1) q0; }\n",
      "gate iswap q0,q1 { s q0; s q1; h q0; cx q0,q1; cx q1,q0; h q1; }\n",
      "qreg q[5];\n",
      "s q[0];\n",
      "r(5.396314340880207,6.093408752738254) q[4];\n",
      "z q[1];\n",
      "iswap q[3],q[2];\n",
      "p(5.648536112355301) q[2];\n",
      "c3sqrtx q[1],q[0],q[4],q[3];\n",
      "u1(6.238362454909296) q[1];\n",
      "cswap q[0],q[4],q[3];\n",
      "p(4.110937123771645) q[1];\n",
      "c3sqrtx q[0],q[2],q[3],q[4];\n",
      "t q[4];\n",
      "c3sqrtx q[1],q[2],q[3],q[0];\n",
      "\u001b[0m\n",
      "\n",
      "\n",
      "\u001b[35mFilename: \u001b[0m ../reports/v012/2024_12_18__14_46/qiskit_circuit_5q_10g_7553_24d42f_76b26a_error_min.py\n",
      "\u001b[35m\u001b[0m\n",
      "\n",
      "\n"
     ]
    }
   ],
   "source": [
    "from termcolor import colored\n",
    "\n",
    "\n",
    "def extract_between_tags(content: str, start_tag: str, end_tag: str) -> str:\n",
    "    start_index = content.find(start_tag) + len(start_tag)\n",
    "    end_index = content.find(end_tag)\n",
    "    return content[start_index:end_index]\n",
    "\n",
    "\n",
    "def print_and_return_content(\n",
    "        file_name, color: str, start_tag: str = None, end_tag: str = None) -> str:\n",
    "    print(colored(\"Filename: \", color), file_name)\n",
    "    with open(file_name, \"r\") as f:\n",
    "        content = f.read()\n",
    "        if start_tag and end_tag:\n",
    "            content = extract_between_tags(content, start_tag, end_tag)\n",
    "        print(colored(content, color))\n",
    "    print(\"\\n\")\n",
    "    return content\n",
    "\n",
    "\n",
    "qasm_a_str = print_and_return_content(PATH_QASM_A, color=\"green\")\n",
    "if PATH_QASM_B:\n",
    "    qasm_b_str = print_and_return_content(PATH_QASM_B, color=\"blue\")\n",
    "\n",
    "py_file_str = print_and_return_content(\n",
    "    PATH_PYTHON_FILE, color=\"magenta\", start_tag=\"# <START_GATES>\",\n",
    "    end_tag=\"import os\")"
   ]
  },
  {
   "cell_type": "markdown",
   "id": "229b3aa0",
   "metadata": {
    "papermill": {
     "duration": 0.006245,
     "end_time": "2024-12-18T13:47:01.355298",
     "exception": false,
     "start_time": "2024-12-18T13:47:01.349053",
     "status": "completed"
    },
    "tags": []
   },
   "source": [
    "## Circuit Diagram"
   ]
  },
  {
   "cell_type": "code",
   "execution_count": 5,
   "id": "2d99618e",
   "metadata": {
    "execution": {
     "iopub.execute_input": "2024-12-18T13:47:01.369420Z",
     "iopub.status.busy": "2024-12-18T13:47:01.368886Z",
     "iopub.status.idle": "2024-12-18T13:47:01.774383Z",
     "shell.execute_reply": "2024-12-18T13:47:01.773504Z"
    },
    "papermill": {
     "duration": 0.415195,
     "end_time": "2024-12-18T13:47:01.776638",
     "exception": false,
     "start_time": "2024-12-18T13:47:01.361443",
     "status": "completed"
    },
    "tags": []
   },
   "outputs": [
    {
     "name": "stdout",
     "output_type": "stream",
     "text": [
      "     \n",
      "q_0: \n",
      "     \n",
      "q_1: \n",
      "     \n",
      "q_2: \n",
      "     \n",
      "q_3: \n",
      "     \n",
      "q_4: \n",
      "     \n",
      "            ┌───┐                                                         »\n",
      "q_0: ───────┤ S ├───────────────────────■──────────────────■──────────────»\n",
      "            ├───┤                       │   ┌────────────┐ │ ┌───────────┐»\n",
      "q_1: ───────┤ Z ├───────────────────────■───┤ U1(6.2384) ├─┼─┤ P(4.1109) ├»\n",
      "          ┌─┴───┴──┐     ┌───────────┐  │   └────────────┘ │ └───────────┘»\n",
      "q_2: ─────┤1       ├─────┤ P(5.6485) ├──┼──────────────────┼──────────────»\n",
      "          │  Iswap │     └───────────┘┌─┴──┐               │              »\n",
      "q_3: ─────┤0       ├──────────────────┤ Sx ├───────────────X──────────────»\n",
      "     ┌────┴────────┴────┐             └─┬──┘               │              »\n",
      "q_4: ┤ R(5.3963,6.0934) ├───────────────■──────────────────X──────────────»\n",
      "     └──────────────────┘                                                 »\n",
      "«           ┌────┐\n",
      "«q_0: ──■───┤ Sx ├\n",
      "«       │   └─┬──┘\n",
      "«q_1: ──┼─────■───\n",
      "«       │     │   \n",
      "«q_2: ──■─────■───\n",
      "«       │     │   \n",
      "«q_3: ──■─────■───\n",
      "«     ┌─┴──┐┌───┐ \n",
      "«q_4: ┤ Sx ├┤ T ├─\n",
      "«     └────┘└───┘ \n"
     ]
    }
   ],
   "source": [
    "from qiskit.qasm2 import load\n",
    "from qiskit import qasm2\n",
    "\n",
    "circuit_a = load(\n",
    "    PATH_QASM_A, custom_instructions=qasm2.LEGACY_CUSTOM_INSTRUCTIONS)\n",
    "print(circuit_a)\n",
    "if PATH_QASM_B:\n",
    "    circuit_b = load(\n",
    "        PATH_QASM_B, custom_instructions=qasm2.LEGACY_CUSTOM_INSTRUCTIONS)\n",
    "    print(circuit_b)"
   ]
  },
  {
   "cell_type": "markdown",
   "id": "a4e1e5ad",
   "metadata": {
    "papermill": {
     "duration": 0.007773,
     "end_time": "2024-12-18T13:47:01.792761",
     "exception": false,
     "start_time": "2024-12-18T13:47:01.784988",
     "status": "completed"
    },
    "tags": []
   },
   "source": [
    "## Compare Semantics"
   ]
  },
  {
   "cell_type": "markdown",
   "id": "efaf52cd",
   "metadata": {
    "papermill": {
     "duration": 0.0076,
     "end_time": "2024-12-18T13:47:01.807159",
     "exception": false,
     "start_time": "2024-12-18T13:47:01.799559",
     "status": "completed"
    },
    "tags": []
   },
   "source": [
    "### QCEC Oracle"
   ]
  },
  {
   "cell_type": "code",
   "execution_count": 6,
   "id": "10246b66",
   "metadata": {
    "execution": {
     "iopub.execute_input": "2024-12-18T13:47:01.822304Z",
     "iopub.status.busy": "2024-12-18T13:47:01.822002Z",
     "iopub.status.idle": "2024-12-18T13:47:01.911058Z",
     "shell.execute_reply": "2024-12-18T13:47:01.910508Z"
    },
    "papermill": {
     "duration": 0.098227,
     "end_time": "2024-12-18T13:47:01.912266",
     "exception": false,
     "start_time": "2024-12-18T13:47:01.814039",
     "status": "completed"
    },
    "tags": []
   },
   "outputs": [
    {
     "name": "stdout",
     "output_type": "stream",
     "text": [
      "\u001b[35mQCEC result: not_equivalent\u001b[0m\n",
      "{\n",
      "  \"check_time\": 0.028305662,\n",
      "  \"checkers\": [\n",
      "    {\n",
      "      \"checker\": \"decision_diagram_alternating\",\n",
      "      \"equivalence\": \"no_information\",\n",
      "      \"max_nodes\": 0,\n",
      "      \"runtime\": 0.0\n",
      "    },\n",
      "    {\n",
      "      \"checker\": \"decision_diagram_simulation\",\n",
      "      \"equivalence\": \"no_information\",\n",
      "      \"max_nodes\": 0,\n",
      "      \"runtime\": 0.0\n",
      "    },\n",
      "    {\n",
      "      \"checker\": \"decision_diagram_simulation\",\n",
      "      \"equivalence\": \"no_information\",\n",
      "      \"max_nodes\": 0,\n",
      "      \"runtime\": 0.0\n",
      "    },\n",
      "    {\n",
      "      \"checker\": \"decision_diagram_simulation\",\n",
      "      \"equivalence\": \"no_information\",\n",
      "      \"max_nodes\": 0,\n",
      "      \"runtime\": 0.0\n",
      "    },\n",
      "    {\n",
      "      \"checker\": \"decision_diagram_simulation\",\n",
      "      \"equivalence\": \"no_information\",\n",
      "      \"max_nodes\": 0,\n",
      "      \"runtime\": 0.0\n",
      "    },\n",
      "    {\n",
      "      \"checker\": \"decision_diagram_simulation\",\n",
      "      \"equivalence\": \"no_information\",\n",
      "      \"max_nodes\": 0,\n",
      "      \"runtime\": 0.0\n",
      "    },\n",
      "    {\n",
      "      \"checker\": \"decision_diagram_simulation\",\n",
      "      \"equivalence\": \"no_information\",\n",
      "      \"max_nodes\": 0,\n",
      "      \"runtime\": 0.0\n",
      "    },\n",
      "    {\n",
      "      \"checker\": \"decision_diagram_simulation\",\n",
      "      \"equivalence\": \"no_information\",\n",
      "      \"max_nodes\": 0,\n",
      "      \"runtime\": 0.0\n",
      "    },\n",
      "    {\n",
      "      \"checker\": \"decision_diagram_simulation\",\n",
      "      \"equivalence\": \"no_information\",\n",
      "      \"max_nodes\": 0,\n",
      "      \"runtime\": 0.0\n",
      "    },\n",
      "    {\n",
      "      \"checker\": \"decision_diagram_simulation\",\n",
      "      \"equivalence\": \"no_information\",\n",
      "      \"max_nodes\": 0,\n",
      "      \"runtime\": 0.0\n",
      "    },\n",
      "    {\n",
      "      \"checker\": \"decision_diagram_simulation\",\n",
      "      \"equivalence\": \"no_information\",\n",
      "      \"max_nodes\": 0,\n",
      "      \"runtime\": 0.0\n",
      "    },\n",
      "    {\n",
      "      \"checker\": \"decision_diagram_simulation\",\n",
      "      \"equivalence\": \"no_information\",\n",
      "      \"max_nodes\": 0,\n",
      "      \"runtime\": 0.0\n",
      "    },\n",
      "    {\n",
      "      \"checker\": \"decision_diagram_simulation\",\n",
      "      \"equivalence\": \"not_equivalent\",\n",
      "      \"max_nodes\": 7,\n",
      "      \"runtime\": 0.000771113\n",
      "    },\n",
      "    {\n",
      "      \"checker\": \"decision_diagram_simulation\",\n",
      "      \"equivalence\": \"no_information\",\n",
      "      \"max_nodes\": 0,\n",
      "      \"runtime\": 0.0\n",
      "    },\n",
      "    {\n",
      "      \"checker\": \"decision_diagram_simulation\",\n",
      "      \"equivalence\": \"no_information\",\n",
      "      \"max_nodes\": 0,\n",
      "      \"runtime\": 0.0\n",
      "    },\n",
      "    {\n",
      "      \"checker\": \"decision_diagram_simulation\",\n",
      "      \"equivalence\": \"no_information\",\n",
      "      \"max_nodes\": 0,\n",
      "      \"runtime\": 0.0\n",
      "    },\n",
      "    {\n",
      "      \"checker\": \"decision_diagram_simulation\",\n",
      "      \"equivalence\": \"no_information\",\n",
      "      \"max_nodes\": 0,\n",
      "      \"runtime\": 0.0\n",
      "    },\n",
      "    {\n",
      "      \"checker\": \"decision_diagram_simulation\",\n",
      "      \"equivalence\": \"no_information\",\n",
      "      \"max_nodes\": 0,\n",
      "      \"runtime\": 0.0\n",
      "    },\n",
      "    {\n",
      "      \"checker\": \"decision_diagram_simulation\",\n",
      "      \"equivalence\": \"no_information\",\n",
      "      \"max_nodes\": 0,\n",
      "      \"runtime\": 0.0\n",
      "    },\n",
      "    {\n",
      "      \"checker\": \"decision_diagram_simulation\",\n",
      "      \"equivalence\": \"no_information\",\n",
      "      \"max_nodes\": 0,\n",
      "      \"runtime\": 0.0\n",
      "    },\n",
      "    {\n",
      "      \"checker\": \"decision_diagram_simulation\",\n",
      "      \"equivalence\": \"no_information\",\n",
      "      \"max_nodes\": 0,\n",
      "      \"runtime\": 0.0\n",
      "    },\n",
      "    {\n",
      "      \"checker\": \"decision_diagram_simulation\",\n",
      "      \"equivalence\": \"no_information\",\n",
      "      \"max_nodes\": 0,\n",
      "      \"runtime\": 0.0\n",
      "    },\n",
      "    {\n",
      "      \"checker\": \"decision_diagram_simulation\",\n",
      "      \"equivalence\": \"no_information\",\n",
      "      \"max_nodes\": 0,\n",
      "      \"runtime\": 0.0\n",
      "    },\n",
      "    {\n",
      "      \"checker\": \"decision_diagram_simulation\",\n",
      "      \"equivalence\": \"no_information\",\n",
      "      \"max_nodes\": 0,\n",
      "      \"runtime\": 0.0\n",
      "    },\n",
      "    {\n",
      "      \"checker\": \"decision_diagram_simulation\",\n",
      "      \"equivalence\": \"no_information\",\n",
      "      \"max_nodes\": 0,\n",
      "      \"runtime\": 0.0\n",
      "    },\n",
      "    {\n",
      "      \"checker\": \"decision_diagram_simulation\",\n",
      "      \"equivalence\": \"no_information\",\n",
      "      \"max_nodes\": 0,\n",
      "      \"runtime\": 0.0\n",
      "    },\n",
      "    {\n",
      "      \"checker\": \"decision_diagram_simulation\",\n",
      "      \"equivalence\": \"no_information\",\n",
      "      \"max_nodes\": 0,\n",
      "      \"runtime\": 0.0\n",
      "    },\n",
      "    {\n",
      "      \"checker\": \"decision_diagram_simulation\",\n",
      "      \"equivalence\": \"no_information\",\n",
      "      \"max_nodes\": 0,\n",
      "      \"runtime\": 0.0\n",
      "    },\n",
      "    {\n",
      "      \"checker\": \"decision_diagram_simulation\",\n",
      "      \"equivalence\": \"no_information\",\n",
      "      \"max_nodes\": 0,\n",
      "      \"runtime\": 0.0\n",
      "    },\n",
      "    {\n",
      "      \"checker\": \"decision_diagram_simulation\",\n",
      "      \"equivalence\": \"no_information\",\n",
      "      \"max_nodes\": 0,\n",
      "      \"runtime\": 0.0\n",
      "    },\n",
      "    {\n",
      "      \"checker\": \"decision_diagram_simulation\",\n",
      "      \"equivalence\": \"no_information\",\n",
      "      \"max_nodes\": 0,\n",
      "      \"runtime\": 0.0\n",
      "    },\n",
      "    {\n",
      "      \"checker\": \"decision_diagram_simulation\",\n",
      "      \"equivalence\": \"no_information\",\n",
      "      \"max_nodes\": 0,\n",
      "      \"runtime\": 0.0\n",
      "    },\n",
      "    {\n",
      "      \"checker\": \"decision_diagram_simulation\",\n",
      "      \"equivalence\": \"no_information\",\n",
      "      \"max_nodes\": 0,\n",
      "      \"runtime\": 0.0\n",
      "    }\n",
      "  ],\n",
      "  \"circuit1\": {\n",
      "    \"name\": \"qiskit_circuit_5q_10g_7553_24d42f_76b26a_error_min_qc_pytket\",\n",
      "    \"num_gates\": 0,\n",
      "    \"num_qubits\": 5\n",
      "  },\n",
      "  \"circuit2\": {\n",
      "    \"name\": \"qiskit_circuit_5q_10g_7553_24d42f_76b26a_error_min_random_qc_qiskit\",\n",
      "    \"num_gates\": 11,\n",
      "    \"num_qubits\": 5\n",
      "  },\n",
      "  \"configuration\": {\n",
      "    \"application\": {\n",
      "      \"alternating\": \"proportional\",\n",
      "      \"simulation\": \"proportional\"\n",
      "    },\n",
      "    \"execution\": {\n",
      "      \"nthreads\": 48,\n",
      "      \"parallel\": true,\n",
      "      \"run_alternating_checker\": true,\n",
      "      \"run_construction_checker\": false,\n",
      "      \"run_simulation_checker\": true,\n",
      "      \"run_zx_checker\": true,\n",
      "      \"tolerance\": 2.2737367544323206e-13\n",
      "    },\n",
      "    \"functionality\": {\n",
      "      \"check_partial_equivalence\": false,\n",
      "      \"trace_threshold\": 1e-08\n",
      "    },\n",
      "    \"optimizations\": {\n",
      "      \"backpropagate_output_permutation\": false,\n",
      "      \"elide_permutations\": true,\n",
      "      \"fuse_consecutive_single_qubit_gates\": true,\n",
      "      \"reconstruct_swaps\": true,\n",
      "      \"remove_diagonal_gates_before_measure\": false,\n",
      "      \"reorder_operations\": true,\n",
      "      \"transform_dynamic_circuit\": true\n",
      "    },\n",
      "    \"parameterized\": {\n",
      "      \"additional_instantiations\": 0,\n",
      "      \"tolerance\": 1e-12\n",
      "    },\n",
      "    \"simulation\": {\n",
      "      \"fidelity_threshold\": 1e-08,\n",
      "      \"max_sims\": 32,\n",
      "      \"seed\": 0,\n",
      "      \"state_type\": \"computational_basis\",\n",
      "      \"store_counterexample_input\": false,\n",
      "      \"store_counterexample_output\": false\n",
      "    }\n",
      "  },\n",
      "  \"equivalence\": \"not_equivalent\",\n",
      "  \"parameterized\": {\n",
      "    \"performed_instantiations\": 0\n",
      "  },\n",
      "  \"preprocessing_time\": 0.000291514,\n",
      "  \"simulations\": {\n",
      "    \"performed\": 1,\n",
      "    \"started\": 32\n",
      "  }\n",
      "}\n"
     ]
    }
   ],
   "source": [
    "from mqt import qcec\n",
    "if PATH_QASM_B:\n",
    "    res = qcec.verify(\n",
    "        PATH_QASM_A, PATH_QASM_B,\n",
    "        transform_dynamic_circuit=True)\n",
    "    print(colored(f\"QCEC result: {res.equivalence}\", \"magenta\"))\n",
    "    print(res)"
   ]
  },
  {
   "cell_type": "markdown",
   "id": "55aab55a",
   "metadata": {
    "papermill": {
     "duration": 0.006027,
     "end_time": "2024-12-18T13:47:01.922023",
     "exception": false,
     "start_time": "2024-12-18T13:47:01.915996",
     "status": "completed"
    },
    "tags": []
   },
   "source": [
    "### Simulation (Qiskit)"
   ]
  },
  {
   "cell_type": "code",
   "execution_count": 7,
   "id": "8dc1584d",
   "metadata": {
    "execution": {
     "iopub.execute_input": "2024-12-18T13:47:01.928758Z",
     "iopub.status.busy": "2024-12-18T13:47:01.928485Z",
     "iopub.status.idle": "2024-12-18T13:47:01.940783Z",
     "shell.execute_reply": "2024-12-18T13:47:01.939903Z"
    },
    "papermill": {
     "duration": 0.018058,
     "end_time": "2024-12-18T13:47:01.942859",
     "exception": false,
     "start_time": "2024-12-18T13:47:01.924801",
     "status": "completed"
    },
    "tags": []
   },
   "outputs": [
    {
     "name": "stdout",
     "output_type": "stream",
     "text": [
      "\u001b[32m../reports/v012/2024_12_18__14_46/qiskit_circuit_5q_10g_7553_24d42f_76b26a_error_min_qc_pytket.qasm\u001b[0m\n",
      "\u001b[32mStatevector A: \u001b[0m Statevector([1.+0.j, 0.+0.j, 0.+0.j, 0.+0.j, 0.+0.j, 0.+0.j, 0.+0.j,\n",
      "             0.+0.j, 0.+0.j, 0.+0.j, 0.+0.j, 0.+0.j, 0.+0.j, 0.+0.j,\n",
      "             0.+0.j, 0.+0.j, 0.+0.j, 0.+0.j, 0.+0.j, 0.+0.j, 0.+0.j,\n",
      "             0.+0.j, 0.+0.j, 0.+0.j, 0.+0.j, 0.+0.j, 0.+0.j, 0.+0.j,\n",
      "             0.+0.j, 0.+0.j, 0.+0.j, 0.+0.j],\n",
      "            dims=(2, 2, 2, 2, 2))\n",
      "\u001b[34m../reports/v012/2024_12_18__14_46/qiskit_circuit_5q_10g_7553_24d42f_76b26a_error_min_random_qc_qiskit.qasm\u001b[0m\n",
      "\u001b[34mStatevector B: \u001b[0m Statevector([-0.90328302+0.j        ,  0.        +0.j        ,\n",
      "              0.        +0.j        ,  0.        +0.j        ,\n",
      "              0.        +0.j        ,  0.        +0.j        ,\n",
      "              0.        +0.j        ,  0.        +0.j        ,\n",
      "              0.        +0.j        ,  0.        +0.j        ,\n",
      "              0.        +0.j        ,  0.        +0.j        ,\n",
      "              0.        +0.j        ,  0.        +0.j        ,\n",
      "              0.        +0.j        ,  0.        +0.j        ,\n",
      "              0.24070441-0.35516359j,  0.        +0.j        ,\n",
      "              0.        +0.j        ,  0.        +0.j        ,\n",
      "              0.        +0.j        ,  0.        +0.j        ,\n",
      "              0.        +0.j        ,  0.        +0.j        ,\n",
      "              0.        +0.j        ,  0.        +0.j        ,\n",
      "              0.        +0.j        ,  0.        +0.j        ,\n",
      "              0.        +0.j        ,  0.        +0.j        ,\n",
      "              0.        +0.j        ,  0.        +0.j        ],\n",
      "            dims=(2, 2, 2, 2, 2))\n",
      "\u001b[32m../reports/v012/2024_12_18__14_46/qiskit_circuit_5q_10g_7553_24d42f_76b26a_error_min_qc_pytket.qasm\u001b[0m\n",
      "\u001b[32mProbabilities A: \u001b[0m {'00000': 1.0}\n",
      "\u001b[34m../reports/v012/2024_12_18__14_46/qiskit_circuit_5q_10g_7553_24d42f_76b26a_error_min_random_qc_qiskit.qasm\u001b[0m\n",
      "\u001b[34mProbabilities B: \u001b[0m {'00000': 0.8159202125271697, '10000': 0.1840797874728298}\n"
     ]
    }
   ],
   "source": [
    "from qiskit.quantum_info import Statevector\n",
    "\n",
    "sv_a = Statevector.from_instruction(circuit_a)\n",
    "print(colored(PATH_QASM_A, \"green\"))\n",
    "print(colored(\"Statevector A: \", \"green\"), sv_a)\n",
    "\n",
    "if PATH_QASM_B:\n",
    "    sv_b = Statevector.from_instruction(circuit_b)\n",
    "    print(colored(PATH_QASM_B, \"blue\"))\n",
    "    print(colored(\"Statevector B: \", \"blue\"), sv_b)\n",
    "\n",
    "# compare the statevectors\n",
    "probabilities_a = sv_a.probabilities_dict()\n",
    "print(colored(PATH_QASM_A, \"green\"))\n",
    "print(colored(\"Probabilities A: \", \"green\"), probabilities_a)\n",
    "if PATH_QASM_B:\n",
    "    probabilities_b = sv_b.probabilities_dict()\n",
    "    print(colored(PATH_QASM_B, \"blue\"))\n",
    "    print(colored(\"Probabilities B: \", \"blue\"), probabilities_b)"
   ]
  },
  {
   "cell_type": "code",
   "execution_count": null,
   "id": "2c9f37e6",
   "metadata": {
    "papermill": {
     "duration": 0.002973,
     "end_time": "2024-12-18T13:47:01.948766",
     "exception": false,
     "start_time": "2024-12-18T13:47:01.945793",
     "status": "completed"
    },
    "tags": []
   },
   "outputs": [],
   "source": []
  }
 ],
 "metadata": {
  "kernelspec": {
   "display_name": "crosspl",
   "language": "python",
   "name": "python3"
  },
  "language_info": {
   "codemirror_mode": {
    "name": "ipython",
    "version": 3
   },
   "file_extension": ".py",
   "mimetype": "text/x-python",
   "name": "python",
   "nbconvert_exporter": "python",
   "pygments_lexer": "ipython3",
   "version": "3.10.14"
  },
  "papermill": {
   "default_parameters": {},
   "duration": 1.712251,
   "end_time": "2024-12-18T13:47:02.273121",
   "environment_variables": {},
   "exception": null,
   "input_path": "010_Triage_Not_Equivalence.ipynb",
   "output_path": "../reports/v012/2024_12_18__14_46/analysis_output.ipynb",
   "parameters": {
    "PATH_PYTHON_FILE": "../reports/v012/2024_12_18__14_46/qiskit_circuit_5q_10g_7553_24d42f_76b26a_error_min.py",
    "PATH_QASM_A": "../reports/v012/2024_12_18__14_46/qiskit_circuit_5q_10g_7553_24d42f_76b26a_error_min_qc_pytket.qasm",
    "PATH_QASM_B": "../reports/v012/2024_12_18__14_46/qiskit_circuit_5q_10g_7553_24d42f_76b26a_error_min_random_qc_qiskit.qasm"
   },
   "start_time": "2024-12-18T13:47:00.560870",
   "version": "2.6.0"
  }
 },
 "nbformat": 4,
 "nbformat_minor": 5
}