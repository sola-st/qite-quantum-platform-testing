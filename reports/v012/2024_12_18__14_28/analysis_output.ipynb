{
 "cells": [
  {
   "cell_type": "code",
   "execution_count": 1,
   "id": "5c4c3ca5",
   "metadata": {
    "execution": {
     "iopub.execute_input": "2024-12-18T13:28:51.933623Z",
     "iopub.status.busy": "2024-12-18T13:28:51.932668Z",
     "iopub.status.idle": "2024-12-18T13:28:51.944790Z",
     "shell.execute_reply": "2024-12-18T13:28:51.943660Z"
    },
    "papermill": {
     "duration": 0.020722,
     "end_time": "2024-12-18T13:28:51.947454",
     "exception": false,
     "start_time": "2024-12-18T13:28:51.926732",
     "status": "completed"
    },
    "tags": [
     "parameters"
    ]
   },
   "outputs": [],
   "source": [
    "PATH_QASM_A = \"artifacts/test_a.qasm\"\n",
    "PATH_QASM_B = None  # \"artifacts/test_b.qasm\"\n",
    "\n",
    "PATH_PYTHON_FILE = \"artifacts/file.py\""
   ]
  },
  {
   "cell_type": "code",
   "execution_count": 2,
   "id": "35aa1e70",
   "metadata": {
    "execution": {
     "iopub.execute_input": "2024-12-18T13:28:51.959518Z",
     "iopub.status.busy": "2024-12-18T13:28:51.958954Z",
     "iopub.status.idle": "2024-12-18T13:28:51.964672Z",
     "shell.execute_reply": "2024-12-18T13:28:51.963604Z"
    },
    "papermill": {
     "duration": 0.014428,
     "end_time": "2024-12-18T13:28:51.967305",
     "exception": false,
     "start_time": "2024-12-18T13:28:51.952877",
     "status": "completed"
    },
    "tags": [
     "injected-parameters"
    ]
   },
   "outputs": [],
   "source": [
    "# Parameters\n",
    "PATH_QASM_A = \"../reports/v012/2024_12_18__14_28/qiskit_circuit_5q_10g_7553_24d42f_76b26a_error_min_qc_pytket.qasm\"\n",
    "PATH_QASM_B = \"../reports/v012/2024_12_18__14_28/qiskit_circuit_5q_10g_7553_24d42f_76b26a_error_min_random_qc_qiskit.qasm\"\n",
    "PATH_PYTHON_FILE = \"../reports/v012/2024_12_18__14_28/qiskit_circuit_5q_10g_7553_24d42f_76b26a_error_min.py\"\n"
   ]
  },
  {
   "cell_type": "code",
   "execution_count": 3,
   "id": "a789cd1e",
   "metadata": {
    "execution": {
     "iopub.execute_input": "2024-12-18T13:28:51.977462Z",
     "iopub.status.busy": "2024-12-18T13:28:51.976248Z",
     "iopub.status.idle": "2024-12-18T13:28:51.982130Z",
     "shell.execute_reply": "2024-12-18T13:28:51.980920Z"
    },
    "papermill": {
     "duration": 0.01375,
     "end_time": "2024-12-18T13:28:51.984669",
     "exception": false,
     "start_time": "2024-12-18T13:28:51.970919",
     "status": "completed"
    },
    "tags": []
   },
   "outputs": [],
   "source": [
    "# UNCOMMENT TO RUN WITH FILE IN THE CURRENT FOLDER\n",
    "# consider all the imports relative to the current folder\n",
    "\n",
    "# from pathlib import Path\n",
    "# PATH_QASM_A = str(Path(PATH_QASM_A).name)\n",
    "# PATH_QASM_B = str(Path(PATH_QASM_B).name)\n",
    "# PATH_PYTHON_FILE = str(Path(PATH_PYTHON_FILE).name)"
   ]
  },
  {
   "cell_type": "markdown",
   "id": "1c5f0750",
   "metadata": {
    "papermill": {
     "duration": 0.003772,
     "end_time": "2024-12-18T13:28:51.992019",
     "exception": false,
     "start_time": "2024-12-18T13:28:51.988247",
     "status": "completed"
    },
    "tags": []
   },
   "source": [
    "## File Content"
   ]
  },
  {
   "cell_type": "code",
   "execution_count": 4,
   "id": "82d3e930",
   "metadata": {
    "execution": {
     "iopub.execute_input": "2024-12-18T13:28:52.001456Z",
     "iopub.status.busy": "2024-12-18T13:28:52.000930Z",
     "iopub.status.idle": "2024-12-18T13:28:52.019646Z",
     "shell.execute_reply": "2024-12-18T13:28:52.018188Z"
    },
    "papermill": {
     "duration": 0.026688,
     "end_time": "2024-12-18T13:28:52.022220",
     "exception": false,
     "start_time": "2024-12-18T13:28:51.995532",
     "status": "completed"
    },
    "tags": []
   },
   "outputs": [
    {
     "name": "stdout",
     "output_type": "stream",
     "text": [
      "\u001b[32mFilename: \u001b[0m ../reports/v012/2024_12_18__14_28/qiskit_circuit_5q_10g_7553_24d42f_76b26a_error_min_qc_pytket.qasm\n",
      "\u001b[32mOPENQASM 2.0;\n",
      "include \"qelib1.inc\";\n",
      "\n",
      "qreg q[5];\n",
      "\u001b[0m\n",
      "\n",
      "\n",
      "\u001b[34mFilename: \u001b[0m ../reports/v012/2024_12_18__14_28/qiskit_circuit_5q_10g_7553_24d42f_76b26a_error_min_random_qc_qiskit.qasm\n",
      "\u001b[34mOPENQASM 2.0;\n",
      "include \"qelib1.inc\";\n",
      "gate r(param0,param1) q0 { u3(param0,param1 - pi/2,pi/2 - param1) q0; }\n",
      "gate iswap q0,q1 { s q0; s q1; h q0; cx q0,q1; cx q1,q0; h q1; }\n",
      "qreg q[5];\n",
      "s q[0];\n",
      "r(5.396314340880207,6.093408752738254) q[4];\n",
      "z q[1];\n",
      "iswap q[3],q[2];\n",
      "p(5.648536112355301) q[2];\n",
      "c3sqrtx q[1],q[0],q[4],q[3];\n",
      "u1(6.238362454909296) q[1];\n",
      "cswap q[0],q[4],q[3];\n",
      "p(4.110937123771645) q[1];\n",
      "c3sqrtx q[0],q[2],q[3],q[4];\n",
      "t q[4];\n",
      "c3sqrtx q[1],q[2],q[3],q[0];\n",
      "\u001b[0m\n",
      "\n",
      "\n",
      "\u001b[35mFilename: \u001b[0m ../reports/v012/2024_12_18__14_28/qiskit_circuit_5q_10g_7553_24d42f_76b26a_error_min.py\n",
      "\u001b[35m\u001b[0m\n",
      "\n",
      "\n"
     ]
    }
   ],
   "source": [
    "from termcolor import colored\n",
    "\n",
    "\n",
    "def extract_between_tags(content: str, start_tag: str, end_tag: str) -> str:\n",
    "    start_index = content.find(start_tag) + len(start_tag)\n",
    "    end_index = content.find(end_tag)\n",
    "    return content[start_index:end_index]\n",
    "\n",
    "\n",
    "def print_and_return_content(\n",
    "        file_name, color: str, start_tag: str = None, end_tag: str = None) -> str:\n",
    "    print(colored(\"Filename: \", color), file_name)\n",
    "    with open(file_name, \"r\") as f:\n",
    "        content = f.read()\n",
    "        if start_tag and end_tag:\n",
    "            content = extract_between_tags(content, start_tag, end_tag)\n",
    "        print(colored(content, color))\n",
    "    print(\"\\n\")\n",
    "    return content\n",
    "\n",
    "\n",
    "qasm_a_str = print_and_return_content(PATH_QASM_A, color=\"green\")\n",
    "if PATH_QASM_B:\n",
    "    qasm_b_str = print_and_return_content(PATH_QASM_B, color=\"blue\")\n",
    "\n",
    "py_file_str = print_and_return_content(\n",
    "    PATH_PYTHON_FILE, color=\"magenta\", start_tag=\"# <START_GATES>\",\n",
    "    end_tag=\"import os\")"
   ]
  },
  {
   "cell_type": "markdown",
   "id": "a0f435ad",
   "metadata": {
    "papermill": {
     "duration": 0.004076,
     "end_time": "2024-12-18T13:28:52.030123",
     "exception": false,
     "start_time": "2024-12-18T13:28:52.026047",
     "status": "completed"
    },
    "tags": []
   },
   "source": [
    "## Circuit Diagram"
   ]
  },
  {
   "cell_type": "code",
   "execution_count": 5,
   "id": "e4736db1",
   "metadata": {
    "execution": {
     "iopub.execute_input": "2024-12-18T13:28:52.040520Z",
     "iopub.status.busy": "2024-12-18T13:28:52.039436Z",
     "iopub.status.idle": "2024-12-18T13:28:52.538486Z",
     "shell.execute_reply": "2024-12-18T13:28:52.537368Z"
    },
    "papermill": {
     "duration": 0.506945,
     "end_time": "2024-12-18T13:28:52.540806",
     "exception": false,
     "start_time": "2024-12-18T13:28:52.033861",
     "status": "completed"
    },
    "tags": []
   },
   "outputs": [
    {
     "name": "stdout",
     "output_type": "stream",
     "text": [
      "     \n",
      "q_0: \n",
      "     \n",
      "q_1: \n",
      "     \n",
      "q_2: \n",
      "     \n",
      "q_3: \n",
      "     \n",
      "q_4: \n",
      "     \n",
      "            ┌───┐                                                         »\n",
      "q_0: ───────┤ S ├───────────────────────■──────────────────■──────────────»\n",
      "            ├───┤                       │   ┌────────────┐ │ ┌───────────┐»\n",
      "q_1: ───────┤ Z ├───────────────────────■───┤ U1(6.2384) ├─┼─┤ P(4.1109) ├»\n",
      "          ┌─┴───┴──┐     ┌───────────┐  │   └────────────┘ │ └───────────┘»\n",
      "q_2: ─────┤1       ├─────┤ P(5.6485) ├──┼──────────────────┼──────────────»\n",
      "          │  Iswap │     └───────────┘┌─┴──┐               │              »\n",
      "q_3: ─────┤0       ├──────────────────┤ Sx ├───────────────X──────────────»\n",
      "     ┌────┴────────┴────┐             └─┬──┘               │              »\n",
      "q_4: ┤ R(5.3963,6.0934) ├───────────────■──────────────────X──────────────»\n",
      "     └──────────────────┘                                                 »\n",
      "«           ┌────┐\n",
      "«q_0: ──■───┤ Sx ├\n",
      "«       │   └─┬──┘\n",
      "«q_1: ──┼─────■───\n",
      "«       │     │   \n",
      "«q_2: ──■─────■───\n",
      "«       │     │   \n",
      "«q_3: ──■─────■───\n",
      "«     ┌─┴──┐┌───┐ \n",
      "«q_4: ┤ Sx ├┤ T ├─\n",
      "«     └────┘└───┘ \n"
     ]
    }
   ],
   "source": [
    "from qiskit.qasm2 import load\n",
    "from qiskit import qasm2\n",
    "\n",
    "circuit_a = load(\n",
    "    PATH_QASM_A, custom_instructions=qasm2.LEGACY_CUSTOM_INSTRUCTIONS)\n",
    "print(circuit_a)\n",
    "if PATH_QASM_B:\n",
    "    circuit_b = load(\n",
    "        PATH_QASM_B, custom_instructions=qasm2.LEGACY_CUSTOM_INSTRUCTIONS)\n",
    "    print(circuit_b)"
   ]
  },
  {
   "cell_type": "markdown",
   "id": "ba58e4a3",
   "metadata": {
    "papermill": {
     "duration": 0.007045,
     "end_time": "2024-12-18T13:28:52.555856",
     "exception": false,
     "start_time": "2024-12-18T13:28:52.548811",
     "status": "completed"
    },
    "tags": []
   },
   "source": [
    "## Compare Semantics"
   ]
  },
  {
   "cell_type": "markdown",
   "id": "d4b60ce6",
   "metadata": {
    "papermill": {
     "duration": 0.006506,
     "end_time": "2024-12-18T13:28:52.568481",
     "exception": false,
     "start_time": "2024-12-18T13:28:52.561975",
     "status": "completed"
    },
    "tags": []
   },
   "source": [
    "### QCEC Oracle"
   ]
  },
  {
   "cell_type": "code",
   "execution_count": 6,
   "id": "065b1261",
   "metadata": {
    "execution": {
     "iopub.execute_input": "2024-12-18T13:28:52.582397Z",
     "iopub.status.busy": "2024-12-18T13:28:52.582014Z",
     "iopub.status.idle": "2024-12-18T13:28:52.685410Z",
     "shell.execute_reply": "2024-12-18T13:28:52.684776Z"
    },
    "papermill": {
     "duration": 0.111965,
     "end_time": "2024-12-18T13:28:52.686593",
     "exception": false,
     "start_time": "2024-12-18T13:28:52.574628",
     "status": "completed"
    },
    "tags": []
   },
   "outputs": [
    {
     "name": "stdout",
     "output_type": "stream",
     "text": [
      "\u001b[35mQCEC result: not_equivalent\u001b[0m\n",
      "{\n",
      "  \"check_time\": 0.023349835,\n",
      "  \"checkers\": [\n",
      "    {\n",
      "      \"checker\": \"decision_diagram_alternating\",\n",
      "      \"equivalence\": \"no_information\",\n",
      "      \"max_nodes\": 0,\n",
      "      \"runtime\": 0.0\n",
      "    },\n",
      "    {\n",
      "      \"checker\": \"decision_diagram_simulation\",\n",
      "      \"equivalence\": \"no_information\",\n",
      "      \"max_nodes\": 0,\n",
      "      \"runtime\": 0.0\n",
      "    },\n",
      "    {\n",
      "      \"checker\": \"decision_diagram_simulation\",\n",
      "      \"equivalence\": \"no_information\",\n",
      "      \"max_nodes\": 0,\n",
      "      \"runtime\": 0.0\n",
      "    },\n",
      "    {\n",
      "      \"checker\": \"decision_diagram_simulation\",\n",
      "      \"equivalence\": \"no_information\",\n",
      "      \"max_nodes\": 0,\n",
      "      \"runtime\": 0.0\n",
      "    },\n",
      "    {\n",
      "      \"checker\": \"decision_diagram_simulation\",\n",
      "      \"equivalence\": \"no_information\",\n",
      "      \"max_nodes\": 0,\n",
      "      \"runtime\": 0.0\n",
      "    },\n",
      "    {\n",
      "      \"checker\": \"decision_diagram_simulation\",\n",
      "      \"equivalence\": \"no_information\",\n",
      "      \"max_nodes\": 0,\n",
      "      \"runtime\": 0.0\n",
      "    },\n",
      "    {\n",
      "      \"checker\": \"decision_diagram_simulation\",\n",
      "      \"equivalence\": \"no_information\",\n",
      "      \"max_nodes\": 0,\n",
      "      \"runtime\": 0.0\n",
      "    },\n",
      "    {\n",
      "      \"checker\": \"decision_diagram_simulation\",\n",
      "      \"equivalence\": \"no_information\",\n",
      "      \"max_nodes\": 0,\n",
      "      \"runtime\": 0.0\n",
      "    },\n",
      "    {\n",
      "      \"checker\": \"decision_diagram_simulation\",\n",
      "      \"equivalence\": \"no_information\",\n",
      "      \"max_nodes\": 0,\n",
      "      \"runtime\": 0.0\n",
      "    },\n",
      "    {\n",
      "      \"checker\": \"decision_diagram_simulation\",\n",
      "      \"equivalence\": \"no_information\",\n",
      "      \"max_nodes\": 0,\n",
      "      \"runtime\": 0.0\n",
      "    },\n",
      "    {\n",
      "      \"checker\": \"decision_diagram_simulation\",\n",
      "      \"equivalence\": \"no_information\",\n",
      "      \"max_nodes\": 0,\n",
      "      \"runtime\": 0.0\n",
      "    },\n",
      "    {\n",
      "      \"checker\": \"decision_diagram_simulation\",\n",
      "      \"equivalence\": \"no_information\",\n",
      "      \"max_nodes\": 0,\n",
      "      \"runtime\": 0.0\n",
      "    },\n",
      "    {\n",
      "      \"checker\": \"decision_diagram_simulation\",\n",
      "      \"equivalence\": \"no_information\",\n",
      "      \"max_nodes\": 0,\n",
      "      \"runtime\": 0.0\n",
      "    },\n",
      "    {\n",
      "      \"checker\": \"decision_diagram_simulation\",\n",
      "      \"equivalence\": \"no_information\",\n",
      "      \"max_nodes\": 0,\n",
      "      \"runtime\": 0.0\n",
      "    },\n",
      "    {\n",
      "      \"checker\": \"decision_diagram_simulation\",\n",
      "      \"equivalence\": \"no_information\",\n",
      "      \"max_nodes\": 0,\n",
      "      \"runtime\": 0.0\n",
      "    },\n",
      "    {\n",
      "      \"checker\": \"decision_diagram_simulation\",\n",
      "      \"equivalence\": \"no_information\",\n",
      "      \"max_nodes\": 0,\n",
      "      \"runtime\": 0.0\n",
      "    },\n",
      "    {\n",
      "      \"checker\": \"decision_diagram_simulation\",\n",
      "      \"equivalence\": \"no_information\",\n",
      "      \"max_nodes\": 0,\n",
      "      \"runtime\": 0.0\n",
      "    },\n",
      "    {\n",
      "      \"checker\": \"decision_diagram_simulation\",\n",
      "      \"equivalence\": \"no_information\",\n",
      "      \"max_nodes\": 0,\n",
      "      \"runtime\": 0.0\n",
      "    },\n",
      "    {\n",
      "      \"checker\": \"decision_diagram_simulation\",\n",
      "      \"equivalence\": \"no_information\",\n",
      "      \"max_nodes\": 0,\n",
      "      \"runtime\": 0.0\n",
      "    },\n",
      "    {\n",
      "      \"checker\": \"decision_diagram_simulation\",\n",
      "      \"equivalence\": \"no_information\",\n",
      "      \"max_nodes\": 0,\n",
      "      \"runtime\": 0.0\n",
      "    },\n",
      "    {\n",
      "      \"checker\": \"decision_diagram_simulation\",\n",
      "      \"equivalence\": \"no_information\",\n",
      "      \"max_nodes\": 0,\n",
      "      \"runtime\": 0.0\n",
      "    },\n",
      "    {\n",
      "      \"checker\": \"decision_diagram_simulation\",\n",
      "      \"equivalence\": \"no_information\",\n",
      "      \"max_nodes\": 0,\n",
      "      \"runtime\": 0.0\n",
      "    },\n",
      "    {\n",
      "      \"checker\": \"decision_diagram_simulation\",\n",
      "      \"equivalence\": \"no_information\",\n",
      "      \"max_nodes\": 0,\n",
      "      \"runtime\": 0.0\n",
      "    },\n",
      "    {\n",
      "      \"checker\": \"decision_diagram_simulation\",\n",
      "      \"equivalence\": \"no_information\",\n",
      "      \"max_nodes\": 0,\n",
      "      \"runtime\": 0.0\n",
      "    },\n",
      "    {\n",
      "      \"checker\": \"decision_diagram_simulation\",\n",
      "      \"equivalence\": \"no_information\",\n",
      "      \"max_nodes\": 0,\n",
      "      \"runtime\": 0.0\n",
      "    },\n",
      "    {\n",
      "      \"checker\": \"decision_diagram_simulation\",\n",
      "      \"equivalence\": \"no_information\",\n",
      "      \"max_nodes\": 0,\n",
      "      \"runtime\": 0.0\n",
      "    },\n",
      "    {\n",
      "      \"checker\": \"decision_diagram_simulation\",\n",
      "      \"equivalence\": \"no_information\",\n",
      "      \"max_nodes\": 0,\n",
      "      \"runtime\": 0.0\n",
      "    },\n",
      "    {\n",
      "      \"checker\": \"decision_diagram_simulation\",\n",
      "      \"equivalence\": \"no_information\",\n",
      "      \"max_nodes\": 0,\n",
      "      \"runtime\": 0.0\n",
      "    },\n",
      "    {\n",
      "      \"checker\": \"decision_diagram_simulation\",\n",
      "      \"equivalence\": \"no_information\",\n",
      "      \"max_nodes\": 0,\n",
      "      \"runtime\": 0.0\n",
      "    },\n",
      "    {\n",
      "      \"checker\": \"decision_diagram_simulation\",\n",
      "      \"equivalence\": \"not_equivalent\",\n",
      "      \"max_nodes\": 7,\n",
      "      \"runtime\": 0.000505345\n",
      "    },\n",
      "    {\n",
      "      \"checker\": \"decision_diagram_simulation\",\n",
      "      \"equivalence\": \"no_information\",\n",
      "      \"max_nodes\": 0,\n",
      "      \"runtime\": 0.0\n",
      "    },\n",
      "    {\n",
      "      \"checker\": \"decision_diagram_simulation\",\n",
      "      \"equivalence\": \"no_information\",\n",
      "      \"max_nodes\": 0,\n",
      "      \"runtime\": 0.0\n",
      "    },\n",
      "    {\n",
      "      \"checker\": \"decision_diagram_simulation\",\n",
      "      \"equivalence\": \"no_information\",\n",
      "      \"max_nodes\": 0,\n",
      "      \"runtime\": 0.0\n",
      "    }\n",
      "  ],\n",
      "  \"circuit1\": {\n",
      "    \"name\": \"qiskit_circuit_5q_10g_7553_24d42f_76b26a_error_min_qc_pytket\",\n",
      "    \"num_gates\": 0,\n",
      "    \"num_qubits\": 5\n",
      "  },\n",
      "  \"circuit2\": {\n",
      "    \"name\": \"qiskit_circuit_5q_10g_7553_24d42f_76b26a_error_min_random_qc_qiskit\",\n",
      "    \"num_gates\": 11,\n",
      "    \"num_qubits\": 5\n",
      "  },\n",
      "  \"configuration\": {\n",
      "    \"application\": {\n",
      "      \"alternating\": \"proportional\",\n",
      "      \"simulation\": \"proportional\"\n",
      "    },\n",
      "    \"execution\": {\n",
      "      \"nthreads\": 48,\n",
      "      \"parallel\": true,\n",
      "      \"run_alternating_checker\": true,\n",
      "      \"run_construction_checker\": false,\n",
      "      \"run_simulation_checker\": true,\n",
      "      \"run_zx_checker\": true,\n",
      "      \"tolerance\": 2.2737367544323206e-13\n",
      "    },\n",
      "    \"functionality\": {\n",
      "      \"check_partial_equivalence\": false,\n",
      "      \"trace_threshold\": 1e-08\n",
      "    },\n",
      "    \"optimizations\": {\n",
      "      \"backpropagate_output_permutation\": false,\n",
      "      \"elide_permutations\": true,\n",
      "      \"fuse_consecutive_single_qubit_gates\": true,\n",
      "      \"reconstruct_swaps\": true,\n",
      "      \"remove_diagonal_gates_before_measure\": false,\n",
      "      \"reorder_operations\": true,\n",
      "      \"transform_dynamic_circuit\": true\n",
      "    },\n",
      "    \"parameterized\": {\n",
      "      \"additional_instantiations\": 0,\n",
      "      \"tolerance\": 1e-12\n",
      "    },\n",
      "    \"simulation\": {\n",
      "      \"fidelity_threshold\": 1e-08,\n",
      "      \"max_sims\": 32,\n",
      "      \"seed\": 0,\n",
      "      \"state_type\": \"computational_basis\",\n",
      "      \"store_counterexample_input\": false,\n",
      "      \"store_counterexample_output\": false\n",
      "    }\n",
      "  },\n",
      "  \"equivalence\": \"not_equivalent\",\n",
      "  \"parameterized\": {\n",
      "    \"performed_instantiations\": 0\n",
      "  },\n",
      "  \"preprocessing_time\": 0.0002865,\n",
      "  \"simulations\": {\n",
      "    \"performed\": 1,\n",
      "    \"started\": 32\n",
      "  }\n",
      "}\n"
     ]
    }
   ],
   "source": [
    "from mqt import qcec\n",
    "if PATH_QASM_B:\n",
    "    res = qcec.verify(\n",
    "        PATH_QASM_A, PATH_QASM_B,\n",
    "        transform_dynamic_circuit=True)\n",
    "    print(colored(f\"QCEC result: {res.equivalence}\", \"magenta\"))\n",
    "    print(res)"
   ]
  },
  {
   "cell_type": "markdown",
   "id": "590157e9",
   "metadata": {
    "papermill": {
     "duration": 0.003187,
     "end_time": "2024-12-18T13:28:52.693409",
     "exception": false,
     "start_time": "2024-12-18T13:28:52.690222",
     "status": "completed"
    },
    "tags": []
   },
   "source": [
    "### Simulation (Qiskit)"
   ]
  },
  {
   "cell_type": "code",
   "execution_count": 7,
   "id": "f029ab1a",
   "metadata": {
    "execution": {
     "iopub.execute_input": "2024-12-18T13:28:52.700680Z",
     "iopub.status.busy": "2024-12-18T13:28:52.700409Z",
     "iopub.status.idle": "2024-12-18T13:28:52.716171Z",
     "shell.execute_reply": "2024-12-18T13:28:52.715340Z"
    },
    "papermill": {
     "duration": 0.022221,
     "end_time": "2024-12-18T13:28:52.718349",
     "exception": false,
     "start_time": "2024-12-18T13:28:52.696128",
     "status": "completed"
    },
    "tags": []
   },
   "outputs": [
    {
     "name": "stdout",
     "output_type": "stream",
     "text": [
      "\u001b[32m../reports/v012/2024_12_18__14_28/qiskit_circuit_5q_10g_7553_24d42f_76b26a_error_min_qc_pytket.qasm\u001b[0m\n",
      "\u001b[32mStatevector A: \u001b[0m Statevector([1.+0.j, 0.+0.j, 0.+0.j, 0.+0.j, 0.+0.j, 0.+0.j, 0.+0.j,\n",
      "             0.+0.j, 0.+0.j, 0.+0.j, 0.+0.j, 0.+0.j, 0.+0.j, 0.+0.j,\n",
      "             0.+0.j, 0.+0.j, 0.+0.j, 0.+0.j, 0.+0.j, 0.+0.j, 0.+0.j,\n",
      "             0.+0.j, 0.+0.j, 0.+0.j, 0.+0.j, 0.+0.j, 0.+0.j, 0.+0.j,\n",
      "             0.+0.j, 0.+0.j, 0.+0.j, 0.+0.j],\n",
      "            dims=(2, 2, 2, 2, 2))\n",
      "\u001b[34m../reports/v012/2024_12_18__14_28/qiskit_circuit_5q_10g_7553_24d42f_76b26a_error_min_random_qc_qiskit.qasm\u001b[0m\n",
      "\u001b[34mStatevector B: \u001b[0m Statevector([-0.90328302+0.j        ,  0.        +0.j        ,\n",
      "              0.        +0.j        ,  0.        +0.j        ,\n",
      "              0.        +0.j        ,  0.        +0.j        ,\n",
      "              0.        +0.j        ,  0.        +0.j        ,\n",
      "              0.        +0.j        ,  0.        +0.j        ,\n",
      "              0.        +0.j        ,  0.        +0.j        ,\n",
      "              0.        +0.j        ,  0.        +0.j        ,\n",
      "              0.        +0.j        ,  0.        +0.j        ,\n",
      "              0.24070441-0.35516359j,  0.        +0.j        ,\n",
      "              0.        +0.j        ,  0.        +0.j        ,\n",
      "              0.        +0.j        ,  0.        +0.j        ,\n",
      "              0.        +0.j        ,  0.        +0.j        ,\n",
      "              0.        +0.j        ,  0.        +0.j        ,\n",
      "              0.        +0.j        ,  0.        +0.j        ,\n",
      "              0.        +0.j        ,  0.        +0.j        ,\n",
      "              0.        +0.j        ,  0.        +0.j        ],\n",
      "            dims=(2, 2, 2, 2, 2))\n",
      "\u001b[32m../reports/v012/2024_12_18__14_28/qiskit_circuit_5q_10g_7553_24d42f_76b26a_error_min_qc_pytket.qasm\u001b[0m\n",
      "\u001b[32mProbabilities A: \u001b[0m {'00000': 1.0}\n",
      "\u001b[34m../reports/v012/2024_12_18__14_28/qiskit_circuit_5q_10g_7553_24d42f_76b26a_error_min_random_qc_qiskit.qasm\u001b[0m\n",
      "\u001b[34mProbabilities B: \u001b[0m {'00000': 0.8159202125271697, '10000': 0.1840797874728298}\n"
     ]
    }
   ],
   "source": [
    "from qiskit.quantum_info import Statevector\n",
    "\n",
    "sv_a = Statevector.from_instruction(circuit_a)\n",
    "print(colored(PATH_QASM_A, \"green\"))\n",
    "print(colored(\"Statevector A: \", \"green\"), sv_a)\n",
    "\n",
    "if PATH_QASM_B:\n",
    "    sv_b = Statevector.from_instruction(circuit_b)\n",
    "    print(colored(PATH_QASM_B, \"blue\"))\n",
    "    print(colored(\"Statevector B: \", \"blue\"), sv_b)\n",
    "\n",
    "# compare the statevectors\n",
    "probabilities_a = sv_a.probabilities_dict()\n",
    "print(colored(PATH_QASM_A, \"green\"))\n",
    "print(colored(\"Probabilities A: \", \"green\"), probabilities_a)\n",
    "if PATH_QASM_B:\n",
    "    probabilities_b = sv_b.probabilities_dict()\n",
    "    print(colored(PATH_QASM_B, \"blue\"))\n",
    "    print(colored(\"Probabilities B: \", \"blue\"), probabilities_b)"
   ]
  },
  {
   "cell_type": "code",
   "execution_count": null,
   "id": "75941389",
   "metadata": {
    "papermill": {
     "duration": 0.003127,
     "end_time": "2024-12-18T13:28:52.724396",
     "exception": false,
     "start_time": "2024-12-18T13:28:52.721269",
     "status": "completed"
    },
    "tags": []
   },
   "outputs": [],
   "source": []
  }
 ],
 "metadata": {
  "kernelspec": {
   "display_name": "crosspl",
   "language": "python",
   "name": "python3"
  },
  "language_info": {
   "codemirror_mode": {
    "name": "ipython",
    "version": 3
   },
   "file_extension": ".py",
   "mimetype": "text/x-python",
   "name": "python",
   "nbconvert_exporter": "python",
   "pygments_lexer": "ipython3",
   "version": "3.10.14"
  },
  "papermill": {
   "default_parameters": {},
   "duration": 2.021765,
   "end_time": "2024-12-18T13:28:53.046299",
   "environment_variables": {},
   "exception": null,
   "input_path": "010_Triage_Not_Equivalence.ipynb",
   "output_path": "../reports/v012/2024_12_18__14_28/analysis_output.ipynb",
   "parameters": {
    "PATH_PYTHON_FILE": "../reports/v012/2024_12_18__14_28/qiskit_circuit_5q_10g_7553_24d42f_76b26a_error_min.py",
    "PATH_QASM_A": "../reports/v012/2024_12_18__14_28/qiskit_circuit_5q_10g_7553_24d42f_76b26a_error_min_qc_pytket.qasm",
    "PATH_QASM_B": "../reports/v012/2024_12_18__14_28/qiskit_circuit_5q_10g_7553_24d42f_76b26a_error_min_random_qc_qiskit.qasm"
   },
   "start_time": "2024-12-18T13:28:51.024534",
   "version": "2.6.0"
  }
 },
 "nbformat": 4,
 "nbformat_minor": 5
}