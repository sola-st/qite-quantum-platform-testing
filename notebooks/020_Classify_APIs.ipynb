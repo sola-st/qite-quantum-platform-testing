{
 "cells": [
  {
   "cell_type": "code",
   "execution_count": 1,
   "metadata": {},
   "outputs": [
    {
     "name": "stdout",
     "output_type": "stream",
     "text": [
      "INFO: Pandarallel will run on 24 workers.\n",
      "INFO: Pandarallel will use Memory file system to transfer data between the main process and workers.\n"
     ]
    }
   ],
   "source": [
    "from typing import List, Tuple, Dict, Any, Optional\n",
    "from pandarallel import pandarallel\n",
    "import os\n",
    "import re\n",
    "import sys\n",
    "import json\n",
    "from pathlib import Path\n",
    "\n",
    "import numpy as np\n",
    "import matplotlib.pyplot as plt\n",
    "import seaborn as sns\n",
    "\n",
    "import pandas as pd\n",
    "from tqdm.auto import tqdm\n",
    "tqdm.pandas()\n",
    "pandarallel.initialize(progress_bar=True)"
   ]
  },
  {
   "cell_type": "code",
   "execution_count": 25,
   "metadata": {},
   "outputs": [],
   "source": [
    "import dspy\n",
    "\n",
    "GROQ_TOKEN = Path(\"../groq_token.txt\").read_text().strip()\n",
    "os.environ[\"GROQ_API_KEY\"] = GROQ_TOKEN\n",
    "\n",
    "# lm = dspy.LM('groq/llama-3.3-70b-versatile')\n",
    "lm = dspy.LM('groq/llama-3.1-8b-instant')\n",
    "dspy.configure(lm=lm)\n",
    "\n",
    "INPUT_DIR: str = \"../available_apis/\""
   ]
  },
  {
   "cell_type": "markdown",
   "metadata": {},
   "source": [
    "### Task description: Classify Quantum Circuit APIs\n",
    "\n",
    "**Objective:**\n",
    "Create a Python script to classify API calls based on their `api_signature` and `api_description` fields from a JSON file. The classification should determine if the API call takes a quantum circuit and returns a semantically equivalent circuit using the `dspy` classifier.\n",
    "\n",
    "**Requirements:**\n",
    "1. Parse the JSON file to extract API details.\n",
    "2. Use the `dspy` classifier to classify each API call.\n",
    "3. Add a new field `likely_circuit_transformation` with values `likely_yes`, `likely_no`, or `unsure` to each API object.\n",
    "4. Save the modified JSON file in the same directory as the input file.\n",
    "\n",
    "**Steps:**\n",
    "1. Read the JSON file located at \n",
    "\n",
    "qiskit.json\n",
    "\n",
    ".\n",
    "2. Extract relevant fields (`api_signature` and `api_description`).\n",
    "3. Configure the `dspy` classifier.\n",
    "4. Classify each API call.\n",
    "5. Add the `likely_circuit_transformation` field to each API object.\n",
    "6. Save the modified JSON file.\n",
    "\n",
    "**Example JSON Object:**\n"
   ]
  },
  {
   "cell_type": "markdown",
   "metadata": {
    "vscode": {
     "languageId": "json"
    }
   },
   "source": [
    "```json\n",
    "{\n",
    "    \"api_name\": \"short_path\",\n",
    "    \"full_api_name\": \"short_path\",\n",
    "    \"api_description\": \"shorten the full path, when possible\",\n",
    "    \"api_signature\": \"short_path(path)\",\n",
    "    \"file_path\": \"platform_repos/qiskit/tools/find_deprecated.py\"\n",
    "}\n",
    "```"
   ]
  },
  {
   "cell_type": "markdown",
   "metadata": {},
   "source": [
    "\n",
    "\n",
    "**Example `dspy` Usage:**\n"
   ]
  },
  {
   "cell_type": "markdown",
   "metadata": {},
   "source": [
    "```python\n",
    "import dspy\n",
    "from pathlib import Path\n",
    "import os\n",
    "\n",
    "# Read the groq token\n",
    "GROQ_TOKEN = Path(\"../groq_token.txt\").read_text().strip()\n",
    "os.environ[\"GROQ_API_KEY\"] = GROQ_TOKEN\n",
    "\n",
    "lm = dspy.LM('groq/llama-3.3-70b-versatile')\n",
    "dspy.configure(lm=lm)\n",
    "\n",
    "class Categorize(dspy.Signature):\n",
    "    \"\"\"Classify historic events.\"\"\"\n",
    "\n",
    "    event: str = dspy.InputField()\n",
    "    category: Literal[\n",
    "        \"Wars and Conflicts\",\n",
    "        \"Politics and Governance\",\n",
    "        \"Science and Innovation\",\n",
    "        \"Cultural and Artistic Movements\",\n",
    "        \"Exploration and Discovery\",\n",
    "        \"Economic Events\",\n",
    "        \"Social Movements\",\n",
    "        \"Man-Made Disasters and Accidents\",\n",
    "        \"Natural Disasters and Climate\",\n",
    "        \"Sports and Entertainment\",\n",
    "        \"Famous Personalities and Achievements\"\n",
    "    ] = dspy.OutputField()\n",
    "    confidence: float = dspy.OutputField()\n",
    "\n",
    "classify = dspy.Predict(Categorize)\n",
    "\n",
    "# Here is how we call this module\n",
    "classification = classify(event=\"[YOUR HISTORIC EVENT]\")\n",
    "```"
   ]
  },
  {
   "cell_type": "code",
   "execution_count": 27,
   "metadata": {},
   "outputs": [
    {
     "name": "stdout",
     "output_type": "stream",
     "text": [
      "Number of APIs: 14324\n",
      "Number of APIs with non-empty descriptions: 10886\n"
     ]
    },
    {
     "data": {
      "application/vnd.jupyter.widget-view+json": {
       "model_id": "95ec2b6d990b4a9f93489f335587321a",
       "version_major": 2,
       "version_minor": 0
      },
      "text/plain": [
       "Classifying APIs:   0%|          | 0/130 [00:00<?, ?it/s]"
      ]
     },
     "metadata": {},
     "output_type": "display_data"
    }
   ],
   "source": [
    "from typing import Literal\n",
    "import time\n",
    "\n",
    "MAX_APIS_TO_PROCESS: int = 130\n",
    "\n",
    "# Step 1: Read the JSON file located at qiskit.json\n",
    "input_file = os.path.join(INPUT_DIR, 'qiskit.json')\n",
    "with open(input_file, 'r') as file:\n",
    "    api_data = json.load(file)\n",
    "\n",
    "n_apis = len(api_data)\n",
    "print(f\"Number of APIs: {n_apis}\")\n",
    "\n",
    "# keep only those with api_description not empty string\n",
    "api_data = [api for api in api_data if api['api_description'] != '']\n",
    "n_apis = len(api_data)\n",
    "print(f\"Number of APIs with non-empty descriptions: {n_apis}\")\n",
    "\n",
    "# Step 2: Extract relevant fields (api_signature, api_description, and full_api_name)\n",
    "api_details = [(api['api_signature'], api['api_description'],\n",
    "                api['full_api_name']) for api in api_data]\n",
    "\n",
    "# Step 3: Configure the dspy classifier\n",
    "\n",
    "\n",
    "class CircuitTransformation(dspy.Signature):\n",
    "    \"\"\"Classify API calls for quantum circuit transformation.\n",
    "\n",
    "    Determine whether a given API call is likely to take a quantum circuit as\n",
    "    input and return a quantum circuit as output.\n",
    "    \"\"\"\n",
    "\n",
    "    api_signature: str = dspy.InputField()\n",
    "    api_description: str = dspy.InputField()\n",
    "    full_api_name: str = dspy.InputField()\n",
    "    likely_circuit_transformation: Literal[\n",
    "        \"likely_yes\",\n",
    "        \"likely_no\",\n",
    "        \"unsure\"\n",
    "    ] = dspy.OutputField()\n",
    "\n",
    "\n",
    "classify_circuit = dspy.Predict(CircuitTransformation)\n",
    "\n",
    "\n",
    "def retry_if_exception(func, delay_in_seconds: int = 1, max_attempts: int = 5):\n",
    "    def wrapper(*args, **kwargs):\n",
    "        delay = delay_in_seconds\n",
    "        attempts = 0\n",
    "        while attempts < max_attempts:\n",
    "            try:\n",
    "                return func(*args, **kwargs)\n",
    "            except Exception as e:\n",
    "                attempts += 1\n",
    "                print(f\"Exception: {e}\")\n",
    "                if attempts < max_attempts:\n",
    "                    print(f\"Retrying in {delay} seconds...\")\n",
    "                    time.sleep(delay)\n",
    "                    delay *= 2\n",
    "                else:\n",
    "                    raise e\n",
    "\n",
    "    return wrapper\n",
    "\n",
    "\n",
    "# Step 4: Classify each API call\n",
    "for i, api in enumerate(\n",
    "    tqdm(\n",
    "        api_data[: MAX_APIS_TO_PROCESS],\n",
    "        desc=\"Classifying APIs\")):\n",
    "    classification = retry_if_exception(classify_circuit)(\n",
    "        api_signature=api['api_signature'],\n",
    "        api_description=api['api_description'],\n",
    "        full_api_name=api['full_api_name']\n",
    "    )\n",
    "    time.sleep(1)\n",
    "    # Step 5: Add the likely_circuit_transformation field to each API object\n",
    "    api['likely_circuit_transformation'] = classification.likely_circuit_transformation\n",
    "\n",
    "# Step 6: Save the modified JSON file\n",
    "output_file = os.path.join(INPUT_DIR, 'qiskit_modified.json')\n",
    "with open(output_file, 'w') as file:\n",
    "    json.dump(api_data, file, indent=4)"
   ]
  },
  {
   "cell_type": "code",
   "execution_count": 28,
   "metadata": {},
   "outputs": [
    {
     "data": {
      "image/png": "[encoded data removed]",
      "text/plain": [
       "<Figure size 640x480 with 1 Axes>"
      ]
     },
     "metadata": {},
     "output_type": "display_data"
    }
   ],
   "source": [
    "# Extract the likely_circuit_transformation values\n",
    "transformation_stats = [\n",
    "    api['likely_circuit_transformation']\n",
    "    for api in api_data[: MAX_APIS_TO_PROCESS]]\n",
    "\n",
    "# Create a count plot using seaborn\n",
    "sns.countplot(x=transformation_stats)\n",
    "plt.title('Classification Stats: Likely Circuit Transformation')\n",
    "plt.xlabel('Likely Circuit Transformation')\n",
    "plt.ylabel('Count')\n",
    "plt.show()"
   ]
  },
  {
   "cell_type": "code",
   "execution_count": 29,
   "metadata": {},
   "outputs": [
    {
     "name": "stdout",
     "output_type": "stream",
     "text": [
      "--------------------------------------------------------------------------------\n",
      "Full API Name: majority\n",
      "API Signature: majority(p, a, b, c)\n",
      "File path: platform_repos/qiskit/examples/python/rippleadd.py\n",
      "--------------------------------------------------------------------------------\n",
      "Majority gate.\n",
      "================================================================================\n",
      "--------------------------------------------------------------------------------\n",
      "Full API Name: unmajority\n",
      "API Signature: unmajority(p, a, b, c)\n",
      "File path: platform_repos/qiskit/examples/python/rippleadd.py\n",
      "--------------------------------------------------------------------------------\n",
      "Unmajority gate.\n",
      "================================================================================\n",
      "--------------------------------------------------------------------------------\n",
      "Full API Name: input_state\n",
      "API Signature: input_state(circ, n)\n",
      "File path: platform_repos/qiskit/examples/python/qft.py\n",
      "--------------------------------------------------------------------------------\n",
      "n-qubit input state for QFT that produces output 1.\n",
      "================================================================================\n",
      "--------------------------------------------------------------------------------\n",
      "Full API Name: qft\n",
      "API Signature: qft(circ, n)\n",
      "File path: platform_repos/qiskit/examples/python/qft.py\n",
      "--------------------------------------------------------------------------------\n",
      "n-qubit QFT on q in circ.\n",
      "================================================================================\n",
      "--------------------------------------------------------------------------------\n",
      "Full API Name: build_bell_circuit\n",
      "API Signature: build_bell_circuit()\n",
      "File path: platform_repos/qiskit/examples/python/circuit_draw.py\n",
      "--------------------------------------------------------------------------------\n",
      "Returns a circuit putting 2 qubits in the Bell state.\n",
      "================================================================================\n",
      "--------------------------------------------------------------------------------\n",
      "Full API Name: _DAGDependencyV2.calibrations\n",
      "API Signature: calibrations(self, calibrations)\n",
      "File path: platform_repos/qiskit/qiskit/dagcircuit/dagdependency_v2.py\n",
      "--------------------------------------------------------------------------------\n",
      "Set the circuit calibration data from a dictionary of calibration definition.\n",
      "\n",
      "Args:\n",
      "    calibrations (dict): A dictionary of input in the format\n",
      "        {'gate_name': {(qubits, gate_params): schedule}}\n",
      "================================================================================\n",
      "--------------------------------------------------------------------------------\n",
      "Full API Name: BlockCollapser.collapse_to_operation\n",
      "API Signature: collapse_to_operation(self, blocks, collapse_fn)\n",
      "File path: platform_repos/qiskit/qiskit/dagcircuit/collect_blocks.py\n",
      "--------------------------------------------------------------------------------\n",
      "For each block, constructs a quantum circuit containing instructions in the block,\n",
      "then uses collapse_fn to collapse this circuit into a single operation.\n",
      "================================================================================\n",
      "--------------------------------------------------------------------------------\n",
      "Full API Name: _circuit_to_dag\n",
      "API Signature: _circuit_to_dag(circuit, node_qargs, node_cargs, bit_indices)\n",
      "File path: platform_repos/qiskit/qiskit/dagcircuit/dagnode.py\n",
      "--------------------------------------------------------------------------------\n",
      "Get a :class:`.DAGCircuit` of the given :class:`.QuantumCircuit`.  The bits in the output\n",
      "will be ordered in a canonical order based on their indices in the outer DAG, as defined by the\n",
      "``bit_indices`` mapping and the ``node_{q,c}args`` arguments.\n",
      "================================================================================\n",
      "--------------------------------------------------------------------------------\n",
      "Full API Name: DAGDependency.calibrations\n",
      "API Signature: calibrations(self, calibrations)\n",
      "File path: platform_repos/qiskit/qiskit/dagcircuit/dagdependency.py\n",
      "--------------------------------------------------------------------------------\n",
      "Set the circuit calibration data from a dictionary of calibration definition.\n",
      "\n",
      "Args:\n",
      "    calibrations (dict): A dictionary of input in the format\n",
      "        {'gate_name': {(qubits, gate_params): schedule}}\n",
      "================================================================================\n"
     ]
    }
   ],
   "source": [
    "TO_PRINT = 15\n",
    "likely_yes_apis = [\n",
    "    api for api in api_data[: MAX_APIS_TO_PROCESS]\n",
    "    if api['likely_circuit_transformation'] == 'likely_yes']\n",
    "\n",
    "for api in likely_yes_apis[:TO_PRINT]:\n",
    "    print(\"-\" * 80)\n",
    "    print(f\"Full API Name: {api['full_api_name']}\")\n",
    "    print(f\"API Signature: {api['api_signature']}\")\n",
    "    print(f\"File path: {api['file_path']}\")\n",
    "    print(\"-\" * 80)\n",
    "    print(f\"{api['api_description']}\")\n",
    "    print(\"=\" * 80)"
   ]
  },
  {
   "cell_type": "code",
   "execution_count": null,
   "metadata": {},
   "outputs": [],
   "source": []
  }
 ],
 "metadata": {
  "kernelspec": {
   "display_name": "crosspl",
   "language": "python",
   "name": "python3"
  },
  "language_info": {
   "codemirror_mode": {
    "name": "ipython",
    "version": 3
   },
   "file_extension": ".py",
   "mimetype": "text/x-python",
   "name": "python",
   "nbconvert_exporter": "python",
   "pygments_lexer": "ipython3",
   "version": "3.10.14"
  }
 },
 "nbformat": 4,
 "nbformat_minor": 2
}
