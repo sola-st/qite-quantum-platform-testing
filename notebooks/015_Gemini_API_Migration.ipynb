{
 "cells": [
  {
   "cell_type": "code",
   "execution_count": 1,
   "metadata": {},
   "outputs": [
    {
     "name": "stdout",
     "output_type": "stream",
     "text": [
      "INFO: Pandarallel will run on 24 workers.\n",
      "INFO: Pandarallel will use Memory file system to transfer data between the main process and workers.\n"
     ]
    }
   ],
   "source": [
    "from typing import List, Tuple, Dict, Any, Optional\n",
    "from pandarallel import pandarallel\n",
    "import os\n",
    "import re\n",
    "import sys\n",
    "import json\n",
    "from pathlib import Path\n",
    "\n",
    "import numpy as np\n",
    "import matplotlib.pyplot as plt\n",
    "import seaborn as sns\n",
    "\n",
    "import pandas as pd\n",
    "from tqdm.auto import tqdm\n",
    "tqdm.pandas()\n",
    "pandarallel.initialize(progress_bar=True)"
   ]
  },
  {
   "cell_type": "code",
   "execution_count": 2,
   "metadata": {},
   "outputs": [],
   "source": [
    "import dspy\n",
    "import google.generativeai as genai\n",
    "GEMINI_TOKEN = Path(\"..\", \"gemini_token.txt\").resolve().read_text().strip()\n",
    "genai.configure(api_key=GEMINI_TOKEN)\n",
    "\n",
    "# Read the groq token\n",
    "GROQ_TOKEN = Path(\"../groq_token.txt\").read_text().strip()\n",
    "os.environ[\"GROQ_API_KEY\"] = GROQ_TOKEN\n",
    "\n",
    "lm = dspy.LM('groq/llama-3.3-70b-versatile')\n",
    "dspy.configure(lm=lm)\n",
    "\n",
    "\n",
    "FOLDER_WITH_API_MIGRATION_KNOWLEDGE = Path(\n",
    "    \"..\", \"data/changelogs/v001/api_migration_docs\")"
   ]
  },
  {
   "cell_type": "code",
   "execution_count": 3,
   "metadata": {},
   "outputs": [
    {
     "name": "stdout",
     "output_type": "stream",
     "text": [
      "Read ../data/changelogs/v001/api_migration_docs/1.0_1.1_1.2.md > 61572 tokens\n",
      "Read ../data/changelogs/v001/api_migration_docs/packaging_changes.md > 8119 tokens\n",
      "Read ../data/changelogs/v001/api_migration_docs/features_changes.md > 7452 tokens\n"
     ]
    }
   ],
   "source": [
    "# read all docs in the folder\n",
    "model = genai.GenerativeModel(\"models/gemini-1.5-flash\")\n",
    "\n",
    "docs = []\n",
    "for file in FOLDER_WITH_API_MIGRATION_KNOWLEDGE.glob(\"*.md\"):\n",
    "    doc = Path(file).read_text()\n",
    "    docs.append(doc)\n",
    "    response = model.count_tokens(doc)\n",
    "    total_tokens = response.total_tokens\n",
    "    print(f\"Read {file} > {total_tokens} tokens\")"
   ]
  },
  {
   "cell_type": "code",
   "execution_count": 13,
   "metadata": {},
   "outputs": [
    {
     "name": "stdout",
     "output_type": "stream",
     "text": [
      "I am a large language model, providing a summary of Qiskit 1.0 packaging changes and troubleshooting advice.\n",
      "\n"
     ]
    }
   ],
   "source": [
    "response = model.generate_content(\n",
    "    f\"who are you in one sentence? {docs[1]} mention also one random sentence from the doc above\")\n",
    "print(response.text)"
   ]
  },
  {
   "cell_type": "code",
   "execution_count": 14,
   "metadata": {},
   "outputs": [
    {
     "ename": "KeyboardInterrupt",
     "evalue": "",
     "output_type": "error",
     "traceback": [
      "\u001b[0;31m---------------------------------------------------------------------------\u001b[0m",
      "\u001b[0;31m_InactiveRpcError\u001b[0m                         Traceback (most recent call last)",
      "File \u001b[0;32m~/.conda/envs/crosspl/lib/python3.10/site-packages/google/api_core/grpc_helpers.py:76\u001b[0m, in \u001b[0;36m_wrap_unary_errors.<locals>.error_remapped_callable\u001b[0;34m(*args, **kwargs)\u001b[0m\n\u001b[1;32m     75\u001b[0m \u001b[38;5;28;01mtry\u001b[39;00m:\n\u001b[0;32m---> 76\u001b[0m     \u001b[38;5;28;01mreturn\u001b[39;00m \u001b[43mcallable_\u001b[49m\u001b[43m(\u001b[49m\u001b[38;5;241;43m*\u001b[39;49m\u001b[43margs\u001b[49m\u001b[43m,\u001b[49m\u001b[43m \u001b[49m\u001b[38;5;241;43m*\u001b[39;49m\u001b[38;5;241;43m*\u001b[39;49m\u001b[43mkwargs\u001b[49m\u001b[43m)\u001b[49m\n\u001b[1;32m     77\u001b[0m \u001b[38;5;28;01mexcept\u001b[39;00m grpc\u001b[38;5;241m.\u001b[39mRpcError \u001b[38;5;28;01mas\u001b[39;00m exc:\n",
      "File \u001b[0;32m~/.conda/envs/crosspl/lib/python3.10/site-packages/grpc/_channel.py:1181\u001b[0m, in \u001b[0;36m_UnaryUnaryMultiCallable.__call__\u001b[0;34m(self, request, timeout, metadata, credentials, wait_for_ready, compression)\u001b[0m\n\u001b[1;32m   1175\u001b[0m (\n\u001b[1;32m   1176\u001b[0m     state,\n\u001b[1;32m   1177\u001b[0m     call,\n\u001b[1;32m   1178\u001b[0m ) \u001b[38;5;241m=\u001b[39m \u001b[38;5;28mself\u001b[39m\u001b[38;5;241m.\u001b[39m_blocking(\n\u001b[1;32m   1179\u001b[0m     request, timeout, metadata, credentials, wait_for_ready, compression\n\u001b[1;32m   1180\u001b[0m )\n\u001b[0;32m-> 1181\u001b[0m \u001b[38;5;28;01mreturn\u001b[39;00m \u001b[43m_end_unary_response_blocking\u001b[49m\u001b[43m(\u001b[49m\u001b[43mstate\u001b[49m\u001b[43m,\u001b[49m\u001b[43m \u001b[49m\u001b[43mcall\u001b[49m\u001b[43m,\u001b[49m\u001b[43m \u001b[49m\u001b[38;5;28;43;01mFalse\u001b[39;49;00m\u001b[43m,\u001b[49m\u001b[43m \u001b[49m\u001b[38;5;28;43;01mNone\u001b[39;49;00m\u001b[43m)\u001b[49m\n",
      "File \u001b[0;32m~/.conda/envs/crosspl/lib/python3.10/site-packages/grpc/_channel.py:1006\u001b[0m, in \u001b[0;36m_end_unary_response_blocking\u001b[0;34m(state, call, with_call, deadline)\u001b[0m\n\u001b[1;32m   1005\u001b[0m \u001b[38;5;28;01melse\u001b[39;00m:\n\u001b[0;32m-> 1006\u001b[0m     \u001b[38;5;28;01mraise\u001b[39;00m _InactiveRpcError(state)\n",
      "\u001b[0;31m_InactiveRpcError\u001b[0m: <_InactiveRpcError of RPC that terminated with:\n\tstatus = StatusCode.UNAVAILABLE\n\tdetails = \"The model is overloaded. Please try again later.\"\n\tdebug_error_string = \"UNKNOWN:Error received from peer ipv6:%5B2a00:1450:4001:810::200a%5D:443 {created_time:\"2025-01-04T16:02:12.990263032+01:00\", grpc_status:14, grpc_message:\"The model is overloaded. Please try again later.\"}\"\n>",
      "\nThe above exception was the direct cause of the following exception:\n",
      "\u001b[0;31mServiceUnavailable\u001b[0m                        Traceback (most recent call last)",
      "File \u001b[0;32m~/.conda/envs/crosspl/lib/python3.10/site-packages/google/api_core/retry/retry_unary.py:144\u001b[0m, in \u001b[0;36mretry_target\u001b[0;34m(target, predicate, sleep_generator, timeout, on_error, exception_factory, **kwargs)\u001b[0m\n\u001b[1;32m    143\u001b[0m \u001b[38;5;28;01mtry\u001b[39;00m:\n\u001b[0;32m--> 144\u001b[0m     result \u001b[38;5;241m=\u001b[39m \u001b[43mtarget\u001b[49m\u001b[43m(\u001b[49m\u001b[43m)\u001b[49m\n\u001b[1;32m    145\u001b[0m     \u001b[38;5;28;01mif\u001b[39;00m inspect\u001b[38;5;241m.\u001b[39misawaitable(result):\n",
      "File \u001b[0;32m~/.conda/envs/crosspl/lib/python3.10/site-packages/google/api_core/timeout.py:120\u001b[0m, in \u001b[0;36mTimeToDeadlineTimeout.__call__.<locals>.func_with_timeout\u001b[0;34m(*args, **kwargs)\u001b[0m\n\u001b[1;32m    118\u001b[0m     kwargs[\u001b[38;5;124m\"\u001b[39m\u001b[38;5;124mtimeout\u001b[39m\u001b[38;5;124m\"\u001b[39m] \u001b[38;5;241m=\u001b[39m \u001b[38;5;28mmax\u001b[39m(\u001b[38;5;241m0\u001b[39m, \u001b[38;5;28mself\u001b[39m\u001b[38;5;241m.\u001b[39m_timeout \u001b[38;5;241m-\u001b[39m time_since_first_attempt)\n\u001b[0;32m--> 120\u001b[0m \u001b[38;5;28;01mreturn\u001b[39;00m \u001b[43mfunc\u001b[49m\u001b[43m(\u001b[49m\u001b[38;5;241;43m*\u001b[39;49m\u001b[43margs\u001b[49m\u001b[43m,\u001b[49m\u001b[43m \u001b[49m\u001b[38;5;241;43m*\u001b[39;49m\u001b[38;5;241;43m*\u001b[39;49m\u001b[43mkwargs\u001b[49m\u001b[43m)\u001b[49m\n",
      "File \u001b[0;32m~/.conda/envs/crosspl/lib/python3.10/site-packages/google/api_core/grpc_helpers.py:78\u001b[0m, in \u001b[0;36m_wrap_unary_errors.<locals>.error_remapped_callable\u001b[0;34m(*args, **kwargs)\u001b[0m\n\u001b[1;32m     77\u001b[0m \u001b[38;5;28;01mexcept\u001b[39;00m grpc\u001b[38;5;241m.\u001b[39mRpcError \u001b[38;5;28;01mas\u001b[39;00m exc:\n\u001b[0;32m---> 78\u001b[0m     \u001b[38;5;28;01mraise\u001b[39;00m exceptions\u001b[38;5;241m.\u001b[39mfrom_grpc_error(exc) \u001b[38;5;28;01mfrom\u001b[39;00m \u001b[38;5;21;01mexc\u001b[39;00m\n",
      "\u001b[0;31mServiceUnavailable\u001b[0m: 503 The model is overloaded. Please try again later.",
      "\nDuring handling of the above exception, another exception occurred:\n",
      "\u001b[0;31mKeyboardInterrupt\u001b[0m                         Traceback (most recent call last)",
      "Cell \u001b[0;32mIn[14], line 37\u001b[0m\n\u001b[1;32m      2\u001b[0m instruction \u001b[38;5;241m=\u001b[39m \u001b[38;5;124m\"\u001b[39m\u001b[38;5;124mGiven this documentation about the API migration, upgrade the given code snippet to use qiskit v1. reply only with code.\u001b[39m\u001b[38;5;124m\"\u001b[39m\n\u001b[1;32m      3\u001b[0m prompt \u001b[38;5;241m=\u001b[39m \u001b[38;5;124mf\u001b[39m\u001b[38;5;124m\"\"\"\u001b[39m\n\u001b[1;32m      4\u001b[0m \u001b[38;5;132;01m{\u001b[39;00mdocs[\u001b[38;5;241m0\u001b[39m]\u001b[38;5;132;01m}\u001b[39;00m\n\u001b[1;32m      5\u001b[0m \u001b[38;5;132;01m{\u001b[39;00mdocs[\u001b[38;5;241m1\u001b[39m]\u001b[38;5;132;01m}\u001b[39;00m\n\u001b[0;32m   (...)\u001b[0m\n\u001b[1;32m     35\u001b[0m \u001b[38;5;124m```\u001b[39m\n\u001b[1;32m     36\u001b[0m \u001b[38;5;124m\"\"\"\u001b[39m\n\u001b[0;32m---> 37\u001b[0m response \u001b[38;5;241m=\u001b[39m \u001b[43mmodel\u001b[49m\u001b[38;5;241;43m.\u001b[39;49m\u001b[43mgenerate_content\u001b[49m\u001b[43m(\u001b[49m\u001b[43mprompt\u001b[49m\u001b[43m)\u001b[49m\n\u001b[1;32m     38\u001b[0m \u001b[38;5;28mprint\u001b[39m(response\u001b[38;5;241m.\u001b[39mtext)\n",
      "File \u001b[0;32m~/.conda/envs/crosspl/lib/python3.10/site-packages/google/generativeai/generative_models.py:331\u001b[0m, in \u001b[0;36mGenerativeModel.generate_content\u001b[0;34m(self, contents, generation_config, safety_settings, stream, tools, tool_config, request_options)\u001b[0m\n\u001b[1;32m    329\u001b[0m         \u001b[38;5;28;01mreturn\u001b[39;00m generation_types\u001b[38;5;241m.\u001b[39mGenerateContentResponse\u001b[38;5;241m.\u001b[39mfrom_iterator(iterator)\n\u001b[1;32m    330\u001b[0m     \u001b[38;5;28;01melse\u001b[39;00m:\n\u001b[0;32m--> 331\u001b[0m         response \u001b[38;5;241m=\u001b[39m \u001b[38;5;28;43mself\u001b[39;49m\u001b[38;5;241;43m.\u001b[39;49m\u001b[43m_client\u001b[49m\u001b[38;5;241;43m.\u001b[39;49m\u001b[43mgenerate_content\u001b[49m\u001b[43m(\u001b[49m\n\u001b[1;32m    332\u001b[0m \u001b[43m            \u001b[49m\u001b[43mrequest\u001b[49m\u001b[43m,\u001b[49m\n\u001b[1;32m    333\u001b[0m \u001b[43m            \u001b[49m\u001b[38;5;241;43m*\u001b[39;49m\u001b[38;5;241;43m*\u001b[39;49m\u001b[43mrequest_options\u001b[49m\u001b[43m,\u001b[49m\n\u001b[1;32m    334\u001b[0m \u001b[43m        \u001b[49m\u001b[43m)\u001b[49m\n\u001b[1;32m    335\u001b[0m         \u001b[38;5;28;01mreturn\u001b[39;00m generation_types\u001b[38;5;241m.\u001b[39mGenerateContentResponse\u001b[38;5;241m.\u001b[39mfrom_response(response)\n\u001b[1;32m    336\u001b[0m \u001b[38;5;28;01mexcept\u001b[39;00m google\u001b[38;5;241m.\u001b[39mapi_core\u001b[38;5;241m.\u001b[39mexceptions\u001b[38;5;241m.\u001b[39mInvalidArgument \u001b[38;5;28;01mas\u001b[39;00m e:\n",
      "File \u001b[0;32m~/.conda/envs/crosspl/lib/python3.10/site-packages/google/ai/generativelanguage_v1beta/services/generative_service/client.py:830\u001b[0m, in \u001b[0;36mGenerativeServiceClient.generate_content\u001b[0;34m(self, request, model, contents, retry, timeout, metadata)\u001b[0m\n\u001b[1;32m    827\u001b[0m \u001b[38;5;28mself\u001b[39m\u001b[38;5;241m.\u001b[39m_validate_universe_domain()\n\u001b[1;32m    829\u001b[0m \u001b[38;5;66;03m# Send the request.\u001b[39;00m\n\u001b[0;32m--> 830\u001b[0m response \u001b[38;5;241m=\u001b[39m \u001b[43mrpc\u001b[49m\u001b[43m(\u001b[49m\n\u001b[1;32m    831\u001b[0m \u001b[43m    \u001b[49m\u001b[43mrequest\u001b[49m\u001b[43m,\u001b[49m\n\u001b[1;32m    832\u001b[0m \u001b[43m    \u001b[49m\u001b[43mretry\u001b[49m\u001b[38;5;241;43m=\u001b[39;49m\u001b[43mretry\u001b[49m\u001b[43m,\u001b[49m\n\u001b[1;32m    833\u001b[0m \u001b[43m    \u001b[49m\u001b[43mtimeout\u001b[49m\u001b[38;5;241;43m=\u001b[39;49m\u001b[43mtimeout\u001b[49m\u001b[43m,\u001b[49m\n\u001b[1;32m    834\u001b[0m \u001b[43m    \u001b[49m\u001b[43mmetadata\u001b[49m\u001b[38;5;241;43m=\u001b[39;49m\u001b[43mmetadata\u001b[49m\u001b[43m,\u001b[49m\n\u001b[1;32m    835\u001b[0m \u001b[43m\u001b[49m\u001b[43m)\u001b[49m\n\u001b[1;32m    837\u001b[0m \u001b[38;5;66;03m# Done; return the response.\u001b[39;00m\n\u001b[1;32m    838\u001b[0m \u001b[38;5;28;01mreturn\u001b[39;00m response\n",
      "File \u001b[0;32m~/.conda/envs/crosspl/lib/python3.10/site-packages/google/api_core/gapic_v1/method.py:131\u001b[0m, in \u001b[0;36m_GapicCallable.__call__\u001b[0;34m(self, timeout, retry, compression, *args, **kwargs)\u001b[0m\n\u001b[1;32m    128\u001b[0m \u001b[38;5;28;01mif\u001b[39;00m \u001b[38;5;28mself\u001b[39m\u001b[38;5;241m.\u001b[39m_compression \u001b[38;5;129;01mis\u001b[39;00m \u001b[38;5;129;01mnot\u001b[39;00m \u001b[38;5;28;01mNone\u001b[39;00m:\n\u001b[1;32m    129\u001b[0m     kwargs[\u001b[38;5;124m\"\u001b[39m\u001b[38;5;124mcompression\u001b[39m\u001b[38;5;124m\"\u001b[39m] \u001b[38;5;241m=\u001b[39m compression\n\u001b[0;32m--> 131\u001b[0m \u001b[38;5;28;01mreturn\u001b[39;00m \u001b[43mwrapped_func\u001b[49m\u001b[43m(\u001b[49m\u001b[38;5;241;43m*\u001b[39;49m\u001b[43margs\u001b[49m\u001b[43m,\u001b[49m\u001b[43m \u001b[49m\u001b[38;5;241;43m*\u001b[39;49m\u001b[38;5;241;43m*\u001b[39;49m\u001b[43mkwargs\u001b[49m\u001b[43m)\u001b[49m\n",
      "File \u001b[0;32m~/.conda/envs/crosspl/lib/python3.10/site-packages/google/api_core/retry/retry_unary.py:293\u001b[0m, in \u001b[0;36mRetry.__call__.<locals>.retry_wrapped_func\u001b[0;34m(*args, **kwargs)\u001b[0m\n\u001b[1;32m    289\u001b[0m target \u001b[38;5;241m=\u001b[39m functools\u001b[38;5;241m.\u001b[39mpartial(func, \u001b[38;5;241m*\u001b[39margs, \u001b[38;5;241m*\u001b[39m\u001b[38;5;241m*\u001b[39mkwargs)\n\u001b[1;32m    290\u001b[0m sleep_generator \u001b[38;5;241m=\u001b[39m exponential_sleep_generator(\n\u001b[1;32m    291\u001b[0m     \u001b[38;5;28mself\u001b[39m\u001b[38;5;241m.\u001b[39m_initial, \u001b[38;5;28mself\u001b[39m\u001b[38;5;241m.\u001b[39m_maximum, multiplier\u001b[38;5;241m=\u001b[39m\u001b[38;5;28mself\u001b[39m\u001b[38;5;241m.\u001b[39m_multiplier\n\u001b[1;32m    292\u001b[0m )\n\u001b[0;32m--> 293\u001b[0m \u001b[38;5;28;01mreturn\u001b[39;00m \u001b[43mretry_target\u001b[49m\u001b[43m(\u001b[49m\n\u001b[1;32m    294\u001b[0m \u001b[43m    \u001b[49m\u001b[43mtarget\u001b[49m\u001b[43m,\u001b[49m\n\u001b[1;32m    295\u001b[0m \u001b[43m    \u001b[49m\u001b[38;5;28;43mself\u001b[39;49m\u001b[38;5;241;43m.\u001b[39;49m\u001b[43m_predicate\u001b[49m\u001b[43m,\u001b[49m\n\u001b[1;32m    296\u001b[0m \u001b[43m    \u001b[49m\u001b[43msleep_generator\u001b[49m\u001b[43m,\u001b[49m\n\u001b[1;32m    297\u001b[0m \u001b[43m    \u001b[49m\u001b[43mtimeout\u001b[49m\u001b[38;5;241;43m=\u001b[39;49m\u001b[38;5;28;43mself\u001b[39;49m\u001b[38;5;241;43m.\u001b[39;49m\u001b[43m_timeout\u001b[49m\u001b[43m,\u001b[49m\n\u001b[1;32m    298\u001b[0m \u001b[43m    \u001b[49m\u001b[43mon_error\u001b[49m\u001b[38;5;241;43m=\u001b[39;49m\u001b[43mon_error\u001b[49m\u001b[43m,\u001b[49m\n\u001b[1;32m    299\u001b[0m \u001b[43m\u001b[49m\u001b[43m)\u001b[49m\n",
      "File \u001b[0;32m~/.conda/envs/crosspl/lib/python3.10/site-packages/google/api_core/retry/retry_unary.py:164\u001b[0m, in \u001b[0;36mretry_target\u001b[0;34m(target, predicate, sleep_generator, timeout, on_error, exception_factory, **kwargs)\u001b[0m\n\u001b[1;32m    153\u001b[0m         _retry_error_helper(\n\u001b[1;32m    154\u001b[0m             exc,\n\u001b[1;32m    155\u001b[0m             deadline,\n\u001b[0;32m   (...)\u001b[0m\n\u001b[1;32m    161\u001b[0m             timeout,\n\u001b[1;32m    162\u001b[0m         )\n\u001b[1;32m    163\u001b[0m         \u001b[38;5;66;03m# if exception not raised, sleep before next attempt\u001b[39;00m\n\u001b[0;32m--> 164\u001b[0m         \u001b[43mtime\u001b[49m\u001b[38;5;241;43m.\u001b[39;49m\u001b[43msleep\u001b[49m\u001b[43m(\u001b[49m\u001b[43msleep\u001b[49m\u001b[43m)\u001b[49m\n\u001b[1;32m    166\u001b[0m \u001b[38;5;28;01mraise\u001b[39;00m \u001b[38;5;167;01mValueError\u001b[39;00m(\u001b[38;5;124m\"\u001b[39m\u001b[38;5;124mSleep generator stopped yielding sleep values.\u001b[39m\u001b[38;5;124m\"\u001b[39m)\n",
      "\u001b[0;31mKeyboardInterrupt\u001b[0m: "
     ]
    }
   ],
   "source": [
    "model = genai.GenerativeModel(\"gemini-1.5-flash\")\n",
    "instruction = \"Given this documentation about the API migration, upgrade the given code snippet to use qiskit v1. reply only with code.\"\n",
    "prompt = f\"\"\"\n",
    "{docs[0]}\n",
    "{docs[1]}\n",
    "{docs[2]}\n",
    "{instruction}\n",
    "```python\n",
    "from qiskit import QuantumCircuit, execute, Aer\n",
    "\n",
    "# Create a quantum circuit with 3 qubits and 3 classical bits\n",
    "qc = QuantumCircuit(3, 3)\n",
    "\n",
    "# Prepare a hidden state using CX (CNOT) gates and a Toffoli gate\n",
    "qc.x(0)\n",
    "qc.ccx(0, 1, 2)\n",
    "\n",
    "# Apply a mid-circuit measurement\n",
    "qc.measure([2], [2])\n",
    "\n",
    "# Use the measurement outcome to conditionally apply a CX gate\n",
    "qc.cx(1, 0).c_if(2, 1)\n",
    "\n",
    "# Measure the final state\n",
    "qc.measure([0, 1], [0, 1])\n",
    "\n",
    "# Run the circuit on a simulator\n",
    "simulator = Aer.get_backend('qasm_simulator')\n",
    "job = execute(qc, simulator, shots=1024)\n",
    "result = job.result()\n",
    "\n",
    "# Print the outcome probabilities\n",
    "counts = result.get_counts(qc)\n",
    "print(counts)\n",
    "```\n",
    "\"\"\"\n",
    "response = model.generate_content(prompt)\n",
    "print(response.text)"
   ]
  },
  {
   "cell_type": "markdown",
   "metadata": {},
   "source": [
    "# Generate Creativityy Seed"
   ]
  },
  {
   "cell_type": "code",
   "execution_count": 25,
   "metadata": {},
   "outputs": [
    {
     "name": "stdout",
     "output_type": "stream",
     "text": [
      "How to install &quot;ifconfig&quot; command in my ubuntu docker image?\n",
      "Fastest way to check whether a value exists more often than X in a list\n",
      "How to access People album used in Apple&#39;s Photos app\n",
      "Dictionary of lists to dataframe\n",
      "NumPy version of &quot;Exponential weighted moving average&quot;, equivalent to pandas.ewm().mean()\n",
      "java.lang.NoClassDefFoundError $$inlined$forEach$lambda$1 in Kotlin\n",
      "How to set the height for a flexbox container so it uses the &quot;remaining space&quot;\n",
      "How to specify &quot;sources&quot; JAR for local JAR dependency?\n",
      "Treat all warnings as errors, except some\n",
      "How to access data from computed property Vue.js\n"
     ]
    }
   ],
   "source": [
    "import requests\n",
    "from bs4 import BeautifulSoup\n",
    "\n",
    "\n",
    "def fetch_markdown_from_url(url: str) -> str:\n",
    "    response = requests.get(url)\n",
    "    if response.status_code == 200:\n",
    "        soup = BeautifulSoup(response.content, 'html.parser')\n",
    "        return soup.get_text()\n",
    "    else:\n",
    "        raise Exception(\n",
    "            f\"Failed to retrieve the page. Status code: {response.status_code}\")\n",
    "\n",
    "\n",
    "def get_stackoverflow_inspiration() -> str:\n",
    "    url = \"https://www.isimonbrown.co.uk/dicestack/?site=stackoverflow&min_score=10&tagged=&answer_status=any\"\n",
    "    page_content = fetch_markdown_from_url(url)\n",
    "    start_index = page_content.find(\"Answer status\")\n",
    "    if start_index != -1:\n",
    "        page_content = page_content[start_index:]\n",
    "        lines = page_content.split('\\n')\n",
    "        lines = lines[3:-20]\n",
    "        cleaned_lines = [re.sub(r'^\\d+', '', line) for line in lines]\n",
    "        # remove empty lines\n",
    "        cleaned_lines = [line for line in cleaned_lines if line.strip()]\n",
    "        page_content = '\\n'.join(cleaned_lines)\n",
    "    return page_content\n",
    "\n",
    "\n",
    "# Example usage\n",
    "markdown = get_stackoverflow_inspiration()\n",
    "print(markdown)"
   ]
  },
  {
   "cell_type": "code",
   "execution_count": 26,
   "metadata": {},
   "outputs": [
    {
     "name": "stdout",
     "output_type": "stream",
     "text": [
      "['How to implement quantum teleportation using Qiskit v0.45?', 'Understanding the difference between quantum gates and classical gates in Qiskit', \"Optimizing quantum circuit depth using Qiskit's transpile function\", 'Quantum error correction: How to implement surface codes using Qiskit', \"Visualizing quantum states using Qiskit's Bloch sphere representation\", 'Can I use Qiskit to simulate quantum many-body systems?', 'Implementing quantum algorithms for machine learning using Qiskit', 'Quantum circuit synthesis: How to convert a classical circuit to a quantum circuit using Qiskit', 'Using Qiskit to study quantum entanglement and non-locality', \"Quantum simulation of chemical reactions using Qiskit's chemistry module\", 'Qiskit vs. Cirq: Which quantum development framework is right for me?', 'Quantum computing with Qiskit: How to get started with quantum programming', 'Quantum machine learning with Qiskit: A tutorial on quantum k-means', \"Quantum error mitigation techniques using Qiskit's Ignis module\", \"Quantum circuit optimization using Qiskit's Aer simulator\", 'Quantum computing for computer scientists: A Qiskit-based introduction', 'Using Qiskit to study quantum chaos and quantum information scrambling', 'Quantum algorithms for optimization problems using Qiskit', 'Quantum simulation of quantum field theories using Qiskit', 'Quantum computing with Qiskit: A survey of quantum algorithms and techniques']\n"
     ]
    }
   ],
   "source": [
    "inspiring_questions_titles = get_stackoverflow_inspiration()\n",
    "\n",
    "\n",
    "class BrainstormQiskitTitles(dspy.Signature):\n",
    "    \"\"\"Generate fictional titles for questions on quantum computing using qiskit v0.45.\"\"\"\n",
    "\n",
    "    inspiring_titles: str = dspy.InputField(\n",
    "        desc=\"Inspiring titles from StackOverflow\")\n",
    "    num_titles: int = dspy.InputField(desc=\"Number of titles to generate\")\n",
    "    generated_titles: List[str] = dspy.OutputField(\n",
    "        desc=\"List of generated titles\")\n",
    "\n",
    "\n",
    "qiskit_titles_generator = dspy.ChainOfThought(BrainstormQiskitTitles)\n",
    "response = qiskit_titles_generator(\n",
    "    inspiring_titles=inspiring_questions_titles,\n",
    "    num_titles=20\n",
    ")\n",
    "print(response.generated_titles)"
   ]
  },
  {
   "cell_type": "code",
   "execution_count": 28,
   "metadata": {},
   "outputs": [
    {
     "name": "stdout",
     "output_type": "stream",
     "text": [
      "How to implement quantum teleportation using Qiskit v0.45?\n",
      "Understanding the difference between quantum gates and classical gates in Qiskit\n",
      "Optimizing quantum circuit depth using Qiskit's transpile function\n",
      "Quantum error correction: How to implement surface codes using Qiskit\n",
      "Visualizing quantum states using Qiskit's Bloch sphere representation\n",
      "Can I use Qiskit to simulate quantum many-body systems?\n",
      "Implementing quantum algorithms for machine learning using Qiskit\n",
      "Quantum circuit synthesis: How to convert a classical circuit to a quantum circuit using Qiskit\n",
      "Using Qiskit to study quantum entanglement and non-locality\n",
      "Quantum simulation of chemical reactions using Qiskit's chemistry module\n",
      "Qiskit vs. Cirq: Which quantum development framework is right for me?\n",
      "Quantum computing with Qiskit: How to get started with quantum programming\n",
      "Quantum machine learning with Qiskit: A tutorial on quantum k-means\n",
      "Quantum error mitigation techniques using Qiskit's Ignis module\n",
      "Quantum circuit optimization using Qiskit's Aer simulator\n",
      "Quantum computing for computer scientists: A Qiskit-based introduction\n",
      "Using Qiskit to study quantum chaos and quantum information scrambling\n",
      "Quantum algorithms for optimization problems using Qiskit\n",
      "Quantum simulation of quantum field theories using Qiskit\n",
      "Quantum computing with Qiskit: A survey of quantum algorithms and techniques\n"
     ]
    }
   ],
   "source": [
    "titles = response.generated_titles\n",
    "for title in titles:\n",
    "    print(title)"
   ]
  },
  {
   "cell_type": "markdown",
   "metadata": {},
   "source": [
    "## Diverse Titles"
   ]
  },
  {
   "cell_type": "code",
   "execution_count": 29,
   "metadata": {},
   "outputs": [
    {
     "name": "stderr",
     "output_type": "stream",
     "text": [
      "/home/paltenmo/.conda/envs/crosspl/lib/python3.10/site-packages/transformers/tokenization_utils_base.py:1601: FutureWarning: `clean_up_tokenization_spaces` was not set. It will be set to `True` by default. This behavior will be depracted in transformers v4.45, and will be then set to `False` by default. For more details check this issue: https://github.com/huggingface/transformers/issues/31884\n",
      "  warnings.warn(\n"
     ]
    },
    {
     "data": {
      "application/vnd.jupyter.widget-view+json": {
       "model_id": "8fce69249c1f46149ba36b26544feea3",
       "version_major": 2,
       "version_minor": 0
      },
      "text/plain": [
       "Batches:   0%|          | 0/1 [00:00<?, ?it/s]"
      ]
     },
     "metadata": {},
     "output_type": "display_data"
    },
    {
     "name": "stdout",
     "output_type": "stream",
     "text": [
      "Quantum computing with Qiskit: A survey of quantum algorithms and techniques\n",
      "Visualizing quantum states using Qiskit's Bloch sphere representation\n",
      "Optimizing quantum circuit depth using Qiskit's transpile function\n"
     ]
    }
   ],
   "source": [
    "from sentence_transformers import SentenceTransformer\n",
    "import numpy as np\n",
    "import fpsample\n",
    "\n",
    "# Load a pretrained Sentence Transformer model\n",
    "EMBEDDING_MODEL = \"multi-qa-mpnet-base-cos-v1\"\n",
    "model = SentenceTransformer(EMBEDDING_MODEL)\n",
    "\n",
    "# Convert the generated titles to embeddings\n",
    "titles_embeddings = model.encode(titles, batch_size=32, show_progress_bar=True)\n",
    "\n",
    "# Perform FPS sampling to get the 3 most far apart titles\n",
    "fps_samples_idx = fpsample.fps_sampling(titles_embeddings, 3)\n",
    "\n",
    "# Get the sampled titles\n",
    "sampled_titles = [titles[idx] for idx in fps_samples_idx]\n",
    "for title in sampled_titles:\n",
    "    print(title)"
   ]
  },
  {
   "cell_type": "markdown",
   "metadata": {},
   "source": [
    "## Get Task Descriptions"
   ]
  },
  {
   "cell_type": "code",
   "execution_count": 27,
   "metadata": {},
   "outputs": [
    {
     "name": "stdout",
     "output_type": "stream",
     "text": [
      "I am trying to implement quantum error correction using Qiskit version 0.45. Specifically, I want to know how to use the tools and libraries provided by Qiskit to protect my quantum circuits from errors due to decoherence and other noise. I have a basic understanding of quantum error correction codes such as the surface code, Shor's code, and quantum convolutional codes, but I need guidance on how to apply these codes in Qiskit. I would like to know the steps involved in encoding quantum information, applying error correction, and decoding the information. Additionally, I would appreciate any examples or tutorials that demonstrate how to use Qiskit's built-in functions for quantum error correction.\n"
     ]
    }
   ],
   "source": [
    "class ExpandQiskitTitleToDescription(dspy.Signature):\n",
    "    \"\"\"Expand a title to a full description of a question on Stack Overflow about Qiskit.\"\"\"\n",
    "\n",
    "    title: str = dspy.InputField(desc=\"Title of the question\")\n",
    "    expanded_description: str = dspy.OutputField(\n",
    "        desc=\"Expanded description of the question\")\n",
    "\n",
    "\n",
    "expand_qiskit_title_to_description = dspy.ChainOfThought(\n",
    "    ExpandQiskitTitleToDescription)\n",
    "\n",
    "response = expand_qiskit_title_to_description(\n",
    "    title=\"How to implement quantum error correction in Qiskit v0.45\"\n",
    ")\n",
    "print(response.expanded_description)"
   ]
  },
  {
   "cell_type": "markdown",
   "metadata": {},
   "source": [
    "## Implementation"
   ]
  },
  {
   "cell_type": "code",
   "execution_count": 4,
   "metadata": {},
   "outputs": [
    {
     "name": "stdout",
     "output_type": "stream",
     "text": [
      "```python\n",
      "from qiskit import QuantumCircuit, execute, Aer\n",
      "from qiskit.quantum_info import Statevector\n",
      "from qiskit.providers.aer import AerSimulator\n",
      "\n",
      "# Create a quantum circuit with 3 qubits\n",
      "qc = QuantumCircuit(3)\n",
      "\n",
      "# Encode the quantum information using a simple repetition code\n",
      "qc.x(0)  # encode |1\n",
      "qc.cx(0, 1)\n",
      "qc.cx(0, 2)\n",
      "\n",
      "# Apply an error to the first qubit\n",
      "qc.x(0).c_if(1, 0)  # conditional X gate to simulate an error\n",
      "\n",
      "# Decode the quantum information\n",
      "qc.cx(0, 1)\n",
      "qc.cx(0, 2)\n",
      "qc.x(0)\n",
      "\n",
      "# Measure the qubits\n",
      "qc.measure_all()\n",
      "\n",
      "# Run the circuit on a simulator\n",
      "simulator = AerSimulator()\n",
      "job = execute(qc, simulator)\n",
      "result = job.result()\n",
      "counts = result.get_counts(qc)\n",
      "\n",
      "print(counts)\n",
      "```\n"
     ]
    }
   ],
   "source": [
    "\n",
    "class ImplementQiskitAnswer(dspy.Signature):\n",
    "    \"\"\"Implement a Qiskit answer in Qiskit v0.45 and return only the Python code snippet.\"\"\"\n",
    "\n",
    "    title: str = dspy.InputField(desc=\"Title of the question\")\n",
    "    expanded_description: str = dspy.InputField(\n",
    "        desc=\"Expanded description of the question\")\n",
    "    code_snippet: str = dspy.OutputField(\n",
    "        desc=\"Self-contained Python code snippet for the implementation\")\n",
    "\n",
    "\n",
    "implement_qiskit_answer = dspy.ChainOfThought(ImplementQiskitAnswer)\n",
    "\n",
    "response = implement_qiskit_answer(\n",
    "    title=\"How to implement quantum error correction in Qiskit v0.45\",\n",
    "    expanded_description=\"I am trying to implement quantum error correction using Qiskit version 0.45. Specifically, I want to know how to use the tools and libraries provided by Qiskit to protect my quantum circuits from errors due to decoherence and other noise. I have a basic understanding of quantum error correction codes such as the surface code, Shor's code, and quantum convolutional codes, but I need guidance on how to apply these codes in Qiskit. I would like to know the steps involved in encoding quantum information, applying error correction, and decoding the information. Additionally, I would appreciate any examples or tutorials that demonstrate how to use Qiskit's built-in functions for quantum error correction.\"\n",
    ")\n",
    "print(response.code_snippet)"
   ]
  },
  {
   "cell_type": "markdown",
   "metadata": {},
   "source": [
    "# Upgrade to v1 Qiskit"
   ]
  },
  {
   "cell_type": "code",
   "execution_count": 7,
   "metadata": {},
   "outputs": [
    {
     "name": "stdout",
     "output_type": "stream",
     "text": [
      "```python\n",
      "from qiskit import QuantumCircuit, transpile\n",
      "from qiskit.providers.basic_provider import BasicSimulator\n",
      "from qiskit.quantum_info import Statevector\n",
      "\n",
      "# Create a quantum circuit with 3 qubits\n",
      "qc = QuantumCircuit(3)\n",
      "\n",
      "# Encode the quantum information using a simple repetition code\n",
      "qc.x(0)  # encode |1\n",
      "qc.cx(0, 1)\n",
      "qc.cx(0, 2)\n",
      "\n",
      "# Apply an error to the first qubit\n",
      "qc.x(0).c_if(1, 0)  # conditional X gate to simulate an error\n",
      "\n",
      "# Decode the quantum information\n",
      "qc.cx(0, 1)\n",
      "qc.cx(0, 2)\n",
      "qc.x(0)\n",
      "\n",
      "# Measure the qubits\n",
      "qc.measure_all()\n",
      "\n",
      "# Run the circuit on a simulator\n",
      "simulator = BasicSimulator()\n",
      "transpiled_qc = transpile(qc, simulator)\n",
      "job = simulator.run(transpiled_qc)\n",
      "result = job.result()\n",
      "counts = result.get_counts(qc)\n",
      "\n",
      "print(counts)\n",
      "\n",
      "#Alternative using Statevector (no measurement)\n",
      "qc_no_meas = qc.copy()\n",
      "qc_no_meas.remove_final_measurements()\n",
      "statevector = Statevector(qc_no_meas)\n",
      "print(statevector)\n",
      "```\n",
      "\n"
     ]
    }
   ],
   "source": [
    "\n",
    "def upgrade_qiskit_code(migration_documents: List[str], snippet: str) -> str:\n",
    "    assert len(\n",
    "        migration_documents) > 0, \"There should be at least one migration document.\"\n",
    "    model = genai.GenerativeModel(\"gemini-1.5-flash\")\n",
    "    instruction = \"Given this documentation about the API migration, upgrade the given code snippet to use qiskit v1. reply only with code.\"\n",
    "    prompt = \"\\n\".join(\n",
    "        migration_documents[:3]) + f\"\\n{instruction}\\n```python\\n{snippet}\\n```\"\n",
    "    response = model.generate_content(prompt)\n",
    "    return response.text\n",
    "\n",
    "\n",
    "# Example usage\n",
    "upgraded_code = upgrade_qiskit_code(\n",
    "    migration_documents=docs,\n",
    "    snippet=response.code_snippet\n",
    ")\n",
    "print(upgraded_code)"
   ]
  },
  {
   "cell_type": "markdown",
   "metadata": {},
   "source": [
    "# Validate via Run"
   ]
  },
  {
   "cell_type": "code",
   "execution_count": 16,
   "metadata": {},
   "outputs": [
    {
     "name": "stdout",
     "output_type": "stream",
     "text": [
      "Old Version Logs:\n",
      "Traceback (most recent call last):\n",
      "  File \"/workspace/code_sample.py\", line 14, in <module>\n",
      "    qc.x(0).c_if(1, 0)  # conditional X gate to simulate an error\n",
      "  File \"/usr/local/lib/python3.10/site-packages/qiskit/circuit/instructionset.py\", line 133, in c_if\n",
      "    classical = self._requester(classical)\n",
      "  File \"/usr/local/lib/python3.10/site-packages/qiskit/circuit/quantumcircuit.py\", line 1200, in _resolve_classical_resource\n",
      "    raise CircuitError(f\"Classical bit index {specifier} is out-of-range.\") from None\n",
      "qiskit.circuit.exceptions.CircuitError: 'Classical bit index 1 is out-of-range.'\n",
      "\n",
      "New Version Logs:\n",
      "Traceback (most recent call last):\n",
      "  File \"/workspace/code_sample.py\", line 14, in <module>\n",
      "    qc.x(0).c_if(1, 0)  # conditional X gate to simulate an error\n",
      "  File \"/usr/local/lib/python3.10/site-packages/qiskit/circuit/instructionset.py\", line 142, in c_if\n",
      "    classical = self._requester(classical)\n",
      "  File \"/usr/local/lib/python3.10/site-packages/qiskit/circuit/quantumcircuit.py\", line 6630, in resolve_classical_resource\n",
      "    raise CircuitError(f\"Classical bit index {specifier} is out-of-range.\") from None\n",
      "qiskit.circuit.exceptions.CircuitError: 'Classical bit index 1 is out-of-range.'\n",
      "\n"
     ]
    }
   ],
   "source": [
    "import docker\n",
    "import tempfile\n",
    "\n",
    "\n",
    "def remove_backticks_lines(text: str) -> str:\n",
    "    new_lines = [\n",
    "        line for line in text.split('\\n') if not line.startswith('```')]\n",
    "    return '\\n'.join(new_lines)\n",
    "\n",
    "\n",
    "def run_qiskit_code_in_docker(code: str, image_name: str) -> str:\n",
    "    \"\"\"\n",
    "    Executes a given Qiskit code snippet inside a Docker container.\n",
    "    Args:\n",
    "        code (str): The Qiskit code to be executed.\n",
    "        image_name (str): The name of the Docker image to use for execution.\n",
    "    Returns:\n",
    "        str: The output logs from the Docker container execution.\n",
    "    Raises:\n",
    "        Exception: If there is an error during the Docker container execution.\n",
    "    Example:\n",
    "        code = '''\n",
    "        from qiskit import QuantumCircuit, transpile, Aer, execute\n",
    "        qc = QuantumCircuit(2)\n",
    "        qc.h(0)\n",
    "        qc.cx(0, 1)\n",
    "        qc.measure_all()\n",
    "        backend = Aer.get_backend('qasm_simulator')\n",
    "        result = execute(qc, backend, shots=1024).result()\n",
    "        counts = result.get_counts()\n",
    "        print(counts)\n",
    "        '''\n",
    "        image_name = 'qiskit/qiskit:latest'\n",
    "        output = run_qiskit_code_in_docker(code, image_name)\n",
    "        print(output)\n",
    "    \"\"\"\n",
    "\n",
    "    # Create a temporary file for the code snippet\n",
    "    with tempfile.NamedTemporaryFile(delete=False, suffix=\".py\") as code_file:\n",
    "        code_file.write(remove_backticks_lines(code).encode())\n",
    "        code_file_path = code_file.name\n",
    "\n",
    "    client = docker.from_env()\n",
    "\n",
    "    try:\n",
    "        # Execute the Docker command\n",
    "        container = client.containers.run(\n",
    "            image_name,\n",
    "            f\"python /workspace/code_sample.py\",\n",
    "            volumes={code_file_path: {'bind': '/workspace/code_sample.py', 'mode': 'rw'}},\n",
    "            detach=True\n",
    "        )\n",
    "\n",
    "        # Wait for the container to finish\n",
    "        container.wait()\n",
    "\n",
    "        # Get the logs\n",
    "        logs = container.logs().decode('utf-8')\n",
    "        return logs\n",
    "\n",
    "    except Exception as e:\n",
    "        return str(e)\n",
    "\n",
    "    finally:\n",
    "        # Clean up\n",
    "        container.remove()\n",
    "        code_file.close()\n",
    "\n",
    "\n",
    "# Example usage\n",
    "old_version_logs = run_qiskit_code_in_docker(\n",
    "    response.code_snippet, \"qiskit_image_0.45.0\")\n",
    "new_version_logs = run_qiskit_code_in_docker(\n",
    "    upgraded_code, \"qiskit_image_1.2.0\")\n",
    "\n",
    "print(\"Old Version Logs:\")\n",
    "print(old_version_logs)\n",
    "print(\"New Version Logs:\")\n",
    "print(new_version_logs)"
   ]
  },
  {
   "cell_type": "markdown",
   "metadata": {},
   "source": [
    "# Auto-Fixer"
   ]
  },
  {
   "cell_type": "code",
   "execution_count": null,
   "metadata": {},
   "outputs": [
    {
     "name": "stdout",
     "output_type": "stream",
     "text": [
      "```python\n",
      "from qiskit import QuantumCircuit, execute, Aer\n",
      "from qiskit.providers.aer import AerSimulator\n",
      "from qiskit.providers.aer.noise import NoiseModel\n",
      "from qiskit.providers.aer.noise.errors import pauli_error, depolarizing_error\n",
      "\n",
      "# Create a quantum circuit with 3 qubits\n",
      "qc = QuantumCircuit(3)\n",
      "\n",
      "# Encode the quantum information using a simple repetition code\n",
      "qc.x(0)  # encode |1\n",
      "qc.cx(0, 1)\n",
      "qc.cx(0, 2)\n",
      "\n",
      "# Define an error model\n",
      "error_model = NoiseModel()\n",
      "error_model.add_all_qubit_quantum_error(depolarizing_error(0.1, 1), 'x')\n",
      "\n",
      "# Run the circuit on a simulator with the error model\n",
      "simulator = AerSimulator(noise_model=error_model)\n",
      "job = execute(qc, simulator)\n",
      "result = job.result()\n",
      "counts = result.get_counts(qc)\n",
      "\n",
      "print(counts)\n",
      "```\n"
     ]
    }
   ],
   "source": [
    "\n",
    "class ChipInAndHelp(dspy.Signature):\n",
    "    \"\"\"Help another user with a wrong answer by providing a corrected implementation.\"\"\"\n",
    "\n",
    "    title: str = dspy.InputField(desc=\"Title of the question\")\n",
    "    description: str = dspy.InputField(desc=\"Description of the question\")\n",
    "    implementation: str = dspy.InputField(\n",
    "        desc=\"Original implementation code snippet\")\n",
    "    log_output: str = dspy.InputField(\n",
    "        desc=\"Log output of the original implementation\")\n",
    "    corrected_code: str = dspy.OutputField(\n",
    "        desc=\"Self-contained corrected Python code snippet\")\n",
    "\n",
    "\n",
    "chip_in_and_help = dspy.ChainOfThought(ChipInAndHelp)\n",
    "\n",
    "response = chip_in_and_help(\n",
    "    title=\"How to implement quantum error correction in Qiskit v0.45\",\n",
    "    description=\"I am trying to implement quantum error correction using Qiskit version 0.45. Specifically, I want to know how to use the tools and libraries provided by Qiskit to protect my quantum circuits from errors due to decoherence and other noise. I have a basic understanding of quantum error correction codes such as the surface code, Shor's code, and quantum convolutional codes, but I need guidance on how to apply these codes in Qiskit. I would like to know the steps involved in encoding quantum information, applying error correction, and decoding the information. Additionally, I would appreciate any examples or tutorials that demonstrate how to use Qiskit's built-in functions for quantum error correction.\",\n",
    "    implementation='''from qiskit import QuantumCircuit, execute, Aer\n",
    "\n",
    "# Create a quantum circuit with 3 qubits\n",
    "qc = QuantumCircuit(3)\n",
    "\n",
    "# Encode the quantum information using a simple repetition code\n",
    "qc.x(0)  # encode |1\n",
    "qc.cx(0, 1)\n",
    "qc.cx(0, 2)\n",
    "\n",
    "# Apply an error to the first qubit\n",
    "qc.x(0).c_if(1, 0)  # conditional X gate to simulate an error\n",
    "\n",
    "# Decode the quantum information\n",
    "qc.cx(0, 1)\n",
    "qc.cx(0, 2)\n",
    "qc.x(0)\n",
    "\n",
    "# Measure the qubits\n",
    "qc.measure_all()\n",
    "\n",
    "# Run the circuit on a simulator\n",
    "simulator = AerSimulator()\n",
    "job = execute(qc, simulator)\n",
    "result = job.result()\n",
    "counts = result.get_counts(qc)\n",
    "\n",
    "print(counts)''',\n",
    "    log_output=\"Traceback (most recent call last):\\n  File \\\"/workspace/code_sample.py\\\", line 14, in <module>\\n    qc.x(0).c_if(1, 0)  # conditional X gate to simulate an error\\n  File \\\"/usr/local/lib/python3.10/site-packages/qiskit/circuit/instructionset.py\\\", line 142, in c_if\\n    classical = self._requester(classical)\\n  File \\\"/usr/local/lib/python3.10/site-packages/qiskit/circuit/quantumcircuit.py\\\", line 6630, in resolve_classical_resource\\n    raise CircuitError(f\\\"Classical bit index {specifier} is out-of-range.\\\") from None\\nqiskit.circuit.exceptions.CircuitError: 'Classical bit index 1 is out-of-range.'\"\n",
    ")\n",
    "\n",
    "print(response.corrected_code)"
   ]
  },
  {
   "cell_type": "code",
   "execution_count": 20,
   "metadata": {},
   "outputs": [
    {
     "name": "stdout",
     "output_type": "stream",
     "text": [
      "Traceback (most recent call last):\n",
      "  File \"/workspace/code_sample.py\", line 22, in <module>\n",
      "    counts = result.get_counts(qc)\n",
      "  File \"/usr/local/lib/python3.10/site-packages/qiskit/result/result.py\", line 289, in get_counts\n",
      "    raise QiskitError(f'No counts for experiment \"{repr(key)}\"')\n",
      "qiskit.exceptions.QiskitError: 'No counts for experiment \"<qiskit.circuit.quantumcircuit.QuantumCircuit object at 0x7f57db176b90>\"'\n",
      "\n"
     ]
    }
   ],
   "source": [
    "old_version_logs = run_qiskit_code_in_docker(\n",
    "    response.corrected_code, \"qiskit_image_0.45.0\")\n",
    "print(old_version_logs)"
   ]
  },
  {
   "cell_type": "code",
   "execution_count": 21,
   "metadata": {},
   "outputs": [
    {
     "name": "stdout",
     "output_type": "stream",
     "text": [
      "{'000': 55, '111': 969}\n",
      "\n"
     ]
    }
   ],
   "source": [
    "response = chip_in_and_help(\n",
    "    title=\"How to implement quantum error correction in Qiskit v0.45\",\n",
    "    description=\"I am trying to implement quantum error correction using Qiskit version 0.45. Specifically, I want to know how to use the tools and libraries provided by Qiskit to protect my quantum circuits from errors due to decoherence and other noise. I have a basic understanding of quantum error correction codes such as the surface code, Shor's code, and quantum convolutional codes, but I need guidance on how to apply these codes in Qiskit. I would like to know the steps involved in encoding quantum information, applying error correction, and decoding the information. Additionally, I would appreciate any examples or tutorials that demonstrate how to use Qiskit's built-in functions for quantum error correction.\",\n",
    "    implementation='''\n",
    "from qiskit import QuantumCircuit, execute, Aer\n",
    "from qiskit.providers.aer import AerSimulator\n",
    "from qiskit.providers.aer.noise import NoiseModel\n",
    "from qiskit.providers.aer.noise.errors import pauli_error, depolarizing_error\n",
    "\n",
    "# Create a quantum circuit with 3 qubits\n",
    "qc = QuantumCircuit(3)\n",
    "\n",
    "# Encode the quantum information using a simple repetition code\n",
    "qc.x(0)  # encode |1\n",
    "qc.cx(0, 1)\n",
    "qc.cx(0, 2)\n",
    "\n",
    "# Define an error model\n",
    "error_model = NoiseModel()\n",
    "error_model.add_all_qubit_quantum_error(depolarizing_error(0.1, 1), 'x')\n",
    "\n",
    "# Run the circuit on a simulator with the error model\n",
    "simulator = AerSimulator(noise_model=error_model)\n",
    "job = execute(qc, simulator)\n",
    "result = job.result()\n",
    "counts = result.get_counts(qc)\n",
    "\n",
    "print(counts)\n",
    "''',\n",
    "    log_output=\"Traceback (most recent call last):\\n  File \\\"/workspace/code_sample.py\\\", line 22, in <module>\\n    counts = result.get_counts(qc)\\n  File \\\"/usr/local/lib/python3.10/site-packages/qiskit/result/result.py\\\", line 289, in get_counts\\n    raise QiskitError(f'No counts for experiment \\\"{repr(key)}\\\"')\\nqiskit.exceptions.QiskitError: 'No counts for experiment \\\"<qiskit.circuit.quantumcircuit.QuantumCircuit object at 0x7f57db176b90>\\\"'\"\n",
    ")\n",
    "\n",
    "old_version_logs = run_qiskit_code_in_docker(\n",
    "    response.corrected_code, \"qiskit_image_0.45.0\")\n",
    "print(old_version_logs)"
   ]
  },
  {
   "cell_type": "markdown",
   "metadata": {},
   "source": [
    "## Get Extra Dependencies"
   ]
  },
  {
   "cell_type": "code",
   "execution_count": 32,
   "metadata": {},
   "outputs": [
    {
     "name": "stdout",
     "output_type": "stream",
     "text": [
      "['numpy', 'scikit-learn', 'seaborn', 'matplotlib']\n",
      "[]\n"
     ]
    }
   ],
   "source": [
    "class GetPipPackages(dspy.Signature):\n",
    "    \"\"\"Given a program snippet, return the names of the packages to pip install to make sure it can run, assume that Qiskit is already installed.\"\"\"\n",
    "\n",
    "    program_snippet: str = dspy.InputField(\n",
    "        desc=\"The program snippet to analyze\")\n",
    "    package_names: List[str] = dspy.OutputField(\n",
    "        desc=\"List of package names to pip install, empty if only Qiskit and matplotlib are needed.\")\n",
    "\n",
    "\n",
    "get_pip_packages = dspy.ChainOfThought(GetPipPackages)\n",
    "\n",
    "response = get_pip_packages(\n",
    "    program_snippet=\"\"\"\n",
    "from sklearn.model_selection import train_test_split\n",
    "import seaborn as sns\n",
    "\n",
    "import matplotlib.pyplot as plt\n",
    "\n",
    "# Generate some random data for EDA\n",
    "data = np.random.randn(100)\n",
    "\n",
    "# Create a simple plot\n",
    "sns.histplot(data, kde=True)\n",
    "plt.title('Distribution of Random Data')\n",
    "plt.xlabel('Value')\n",
    "plt.ylabel('Frequency')\n",
    "plt.show()\n",
    "\n",
    "\"\"\"\n",
    ")\n",
    "print(response.package_names)\n",
    "\n",
    "\n",
    "response = get_pip_packages(\n",
    "    program_snippet=\"\"\"\n",
    "from qiskit import QuantumCircuit, transpile, Aer, execute\n",
    "\n",
    "# Create a quantum circuit with 2 qubits\n",
    "qc = QuantumCircuit(2)\n",
    "\n",
    "# Add a Hadamard gate on qubit 0\n",
    "qc.h(0)\n",
    "\n",
    "# Add a CNOT gate on control qubit 0 and target qubit 1\n",
    "qc.cx(0, 1)\n",
    "\n",
    "# Measure both qubits\n",
    "qc.measure_all()\n",
    "\n",
    "# Transpile the circuit for the simulator backend\n",
    "backend = Aer.get_backend('qasm_simulator')\n",
    "transpiled_qc = transpile(qc, backend)\n",
    "\n",
    "# Execute the circuit on the qasm simulator\n",
    "job = execute(transpiled_qc, backend, shots=1024)\n",
    "result = job.result()\n",
    "\n",
    "# Get the counts (measurement results)\n",
    "    counts = result.get_counts(qc)\n",
    "    print(counts)\n",
    "\"\"\",\n",
    ")\n",
    "print(response.package_names)"
   ]
  },
  {
   "cell_type": "code",
   "execution_count": null,
   "metadata": {},
   "outputs": [],
   "source": []
  }
 ],
 "metadata": {
  "kernelspec": {
   "display_name": "crosspl",
   "language": "python",
   "name": "python3"
  },
  "language_info": {
   "codemirror_mode": {
    "name": "ipython",
    "version": 3
   },
   "file_extension": ".py",
   "mimetype": "text/x-python",
   "name": "python",
   "nbconvert_exporter": "python",
   "pygments_lexer": "ipython3",
   "version": "3.10.14"
  }
 },
 "nbformat": 4,
 "nbformat_minor": 2
}
