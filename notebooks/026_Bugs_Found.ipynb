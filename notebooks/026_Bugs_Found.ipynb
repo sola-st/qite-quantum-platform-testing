{
 "cells": [
  {
   "cell_type": "code",
   "execution_count": null,
   "metadata": {},
   "outputs": [
    {
     "name": "stdout",
     "output_type": "stream",
     "text": [
      "INFO: Pandarallel will run on 24 workers.\n",
      "INFO: Pandarallel will use Memory file system to transfer data between the main process and workers.\n"
     ]
    }
   ],
   "source": [
    "from typing import List, Tuple, Dict, Any, Optional\n",
    "from multiprocessing import Pool\n",
    "from pandarallel import pandarallel\n",
    "import os\n",
    "import re\n",
    "import sys\n",
    "import json\n",
    "from pathlib import Path\n",
    "\n",
    "import numpy as np\n",
    "import matplotlib.pyplot as plt\n",
    "import seaborn as sns\n",
    "\n",
    "import pandas as pd\n",
    "from tqdm.auto import tqdm\n",
    "tqdm.pandas()\n",
    "pandarallel.initialize(progress_bar=True)"
   ]
  },
  {
   "cell_type": "code",
   "execution_count": 4,
   "metadata": {},
   "outputs": [],
   "source": [
    "PATH_BUGS = \"../reports/bugs_v001.csv\""
   ]
  },
  {
   "cell_type": "code",
   "execution_count": null,
   "metadata": {},
   "outputs": [
    {
     "name": "stdout",
     "output_type": "stream",
     "text": [
      "\\begin{tabular}{llllll}\n",
      "\\toprule\n",
      " & Platform & Short Desc & Status & Oracle & Triggerable \\\\\n",
      "\\midrule\n",
      "1 & TKET & Implicit register reordering altering semantics & Confirmed & Equivalence & \\ding{55} \\\\\n",
      "2 & PennyLane & Unexpected reallocation of gates to different qubits & Confirmed & Equivalence & \\ding{55} \\\\\n",
      "3 & Qiskit & Missing standard \\code{rxx} gate definition & Confirmed & Crash & \\ding{55} \\\\\n",
      "4 & BQSKit & Unrecognized delay gate & Confirmed & Crash & \\ding{51} \\\\\n",
      "5 & TKET & Error converting decomposed circuit (\\code{PhasedX} op) & Confirmed & Crash & \\ding{51} \\\\\n",
      "6 & BQSKit & Missing controlled phase \\code{cs} gate definition & Confirmed & Crash & \\ding{51} \\\\\n",
      "7 & PennyLane & Error exporting QASM file: \\code{MidMeasureMP} op & Confirmed & Crash & \\ding{51} \\\\\n",
      "8 & PennyLane & Unitary matrix mismatch in \\code{cu} gate implementation & Confirmed & Equivalence & \\ding{51} \\\\\n",
      "9 & TKET & Incompat. of \\code{PhasedX} gate with \\code{GreedyPauliSimp} opt & Confirmed & Equivalence & \\ding{51} \\\\\n",
      "10 & TKET & Unsupported \\code{ISwap} gate & Fixed & Crash & \\ding{51} \\\\\n",
      "11 & TKET & \\code{ZXGraphlikeOpt} pass create not-equivalent circuit & Fixed & Equivalence & \\ding{51} \\\\\n",
      "12 & TKET & \\code{FullPeepholeOpt} pass fails with \\code{mcrz} gate & Fixed & Crash & \\ding{51} \\\\\n",
      "13 & TKET & Incorrect \\code{MCX} gate generation (\\code{c4x} instead of \\code{c3x}) & Fixed & Crash & \\ding{51} \\\\\n",
      "14 & TKET & Incorrect \\code{u0} gate conversion to \\code{u3} & Fixed & Crash & \\ding{51} \\\\\n",
      "15 & TKET & \\code{FullPeepholeOpt} pass fails with \\code{u0} and \\code{c4x} gates  & Fixed & Crash & \\ding{51} \\\\\n",
      "16 & TKET & Exporter crash with unusual register name ‘4’ & Not Planned & Crash & \\ding{55} \\\\\n",
      "17 & BQSKit & Misplacing consecutive operations & Reported & Equivalence & \\ding{55} \\\\\n",
      "18 & BQSKit & Duplicate classical register definition & Reported & Crash & \\ding{51} \\\\\n",
      "19 & BQSKit & Crash with DaggerGate & Reported & Crash & \\ding{51} \\\\\n",
      "20 & BQSKit & Missing Ryy gate definition & Reported & Crash & \\ding{51} \\\\\n",
      "\\bottomrule\n",
      "\\end{tabular}\n",
      "\n"
     ]
    }
   ],
   "source": [
    "df_bugs = pd.read_csv(PATH_BUGS)\n",
    "# drop github_link, crash_msg, substr_crash_msg\n",
    "df_bugs = df_bugs.drop(columns=[\n",
    "    'github_link', 'crash_msg', 'substr_crash_msg'])\n",
    "# rename is_stil_triggerable to triggerable\n",
    "df_bugs = df_bugs.rename(columns={\"is_still_triggerable\": \"triggerable\"})\n",
    "# replace string values with tick marks (\\ding{51}) if starting with yes, cross mark (\\ding{55}) otherwise\n",
    "df_bugs[\"triggerable\"] = df_bugs[\"triggerable\"].apply(\n",
    "    lambda x: r\"\\ding{51}\" if x.startswith(\"yes\") else r\"\\ding{55}\")\n",
    "# go through all values and replace anything between backticks with \\code{...}\n",
    "df_bugs[\"short_desc\"] = df_bugs[\"short_desc\"].apply(lambda x: re.sub(\n",
    "    r'`([^`]+)`', r'\\\\code{\\1}', str(x)) if isinstance(x, str) else x)\n",
    "# rename column by Capitalize and remove _\n",
    "df_bugs.columns = df_bugs.columns.str.replace(\"_\", \" \").str.title()\n",
    "# replace \\n with \" \"\n",
    "# df_bugs = df_bugs.applymap(lambda x: x.replace(\"\\n\", \" \"))\n",
    "# start index at 1\n",
    "df_bugs.index += 1\n",
    "# print latex\n",
    "print(df_bugs.to_latex(index=True))"
   ]
  },
  {
   "cell_type": "code",
   "execution_count": null,
   "metadata": {},
   "outputs": [],
   "source": []
  }
 ],
 "metadata": {
  "kernelspec": {
   "display_name": "Python 3",
   "language": "python",
   "name": "python3"
  },
  "language_info": {
   "codemirror_mode": {
    "name": "ipython",
    "version": 3
   },
   "file_extension": ".py",
   "mimetype": "text/x-python",
   "name": "python",
   "nbconvert_exporter": "python",
   "pygments_lexer": "ipython3",
   "version": "3.10.14"
  }
 },
 "nbformat": 4,
 "nbformat_minor": 2
}
