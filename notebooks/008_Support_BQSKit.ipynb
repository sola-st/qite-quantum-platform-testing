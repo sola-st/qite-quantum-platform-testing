{
 "cells": [
  {
   "cell_type": "code",
   "execution_count": 2,
   "metadata": {},
   "outputs": [
    {
     "name": "stdout",
     "output_type": "stream",
     "text": [
      "INFO: Pandarallel will run on 24 workers.\n",
      "INFO: Pandarallel will use Memory file system to transfer data between the main process and workers.\n"
     ]
    }
   ],
   "source": [
    "from typing import List, Tuple, Dict, Any, Optional\n",
    "from pandarallel import pandarallel\n",
    "import os\n",
    "import re\n",
    "import sys\n",
    "import json\n",
    "from pathlib import Path\n",
    "\n",
    "import numpy as np\n",
    "import matplotlib.pyplot as plt\n",
    "import seaborn as sns\n",
    "\n",
    "import pandas as pd\n",
    "from tqdm.auto import tqdm\n",
    "tqdm.pandas()\n",
    "pandarallel.initialize(progress_bar=True)"
   ]
  },
  {
   "cell_type": "code",
   "execution_count": 8,
   "metadata": {},
   "outputs": [],
   "source": [
    "DIR_QASM_FILES = Path(\n",
    "    \"..\", \"program_bank\", \"v003\", \"2024_10_18__10_19__qiskit\"\n",
    ")\n",
    "\n",
    "SAMPLE_SIZE = 10\n",
    "\n",
    "TMP_DIR = Path(\n",
    "    \"..\", \".tmp\"\n",
    ")\n",
    "TMP_DIR.mkdir(exist_ok=True)"
   ]
  },
  {
   "cell_type": "code",
   "execution_count": 7,
   "metadata": {},
   "outputs": [
    {
     "name": "stdout",
     "output_type": "stream",
     "text": [
      "../program_bank/v003/2024_10_18__10_19__qiskit/qiskit_circuit_32q_10g_3124_c9221e_qc_pytket.qasm\n",
      "../program_bank/v003/2024_10_18__10_19__qiskit/qiskit_circuit_32q_10g_366_0c8c0f_qc_pennylane.qasm\n",
      "../program_bank/v003/2024_10_18__10_19__qiskit/qiskit_circuit_32q_10g_1161_9bcff4_qc_pytket.qasm\n",
      "../program_bank/v003/2024_10_18__10_19__qiskit/qiskit_circuit_32q_10g_579_0e9aee_qc_qiskit.qasm\n",
      "../program_bank/v003/2024_10_18__10_19__qiskit/qiskit_circuit_32q_10g_3470_f4330f_qc_qiskit.qasm\n",
      "../program_bank/v003/2024_10_18__10_19__qiskit/qiskit_circuit_32q_10g_753_09b667_qc_qiskit.qasm\n",
      "../program_bank/v003/2024_10_18__10_19__qiskit/qiskit_circuit_32q_10g_2040_758cb0_qc_pennylane.qasm\n",
      "../program_bank/v003/2024_10_18__10_19__qiskit/qiskit_circuit_32q_10g_1850_1943b2_qc_qiskit.qasm\n",
      "../program_bank/v003/2024_10_18__10_19__qiskit/qiskit_circuit_32q_10g_149_253ea4_qc_qiskit.qasm\n",
      "../program_bank/v003/2024_10_18__10_19__qiskit/qiskit_circuit_32q_10g_2234_bcf548_qc_pennylane.qasm\n"
     ]
    }
   ],
   "source": [
    "def get_all_qasm_files(folder: str) -> List[str]:\n",
    "    return list(Path(folder).rglob(\"*.qasm\"))\n",
    "\n",
    "\n",
    "all_qasm_files = get_all_qasm_files(DIR_QASM_FILES)\n",
    "\n",
    "\n",
    "sample = np.random.choice(all_qasm_files, SAMPLE_SIZE, replace=False)\n",
    "for s in sample:\n",
    "    print(s)"
   ]
  },
  {
   "cell_type": "code",
   "execution_count": 16,
   "metadata": {},
   "outputs": [
    {
     "data": {
      "application/vnd.jupyter.widget-view+json": {
       "model_id": "00d35ca5c5aa4c95991a011e6132448f",
       "version_major": 2,
       "version_minor": 0
      },
      "text/plain": [
       "  0%|          | 0/10 [00:00<?, ?it/s]"
      ]
     },
     "metadata": {},
     "output_type": "display_data"
    }
   ],
   "source": [
    "from bqskit import Circuit\n",
    "from bqskit import compile as bcompile\n",
    "\n",
    "# try to import all the circuits\n",
    "\n",
    "\n",
    "def load_circuit(file: str) -> Optional[Circuit]:\n",
    "    try:\n",
    "        return Circuit.from_file(file)\n",
    "    except Exception as e:\n",
    "        print(f\"Error loading {file}: {e}\")\n",
    "        return None\n",
    "\n",
    "\n",
    "# get try to export all the circuits\n",
    "def export_circuit(circuit: Circuit, file: str) -> None:\n",
    "    try:\n",
    "        circuit.save(file)\n",
    "    except Exception as e:\n",
    "        print(f\"Error exporting {file}: {e}\")\n",
    "        return None\n",
    "\n",
    "\n",
    "# load all the circuits / and export them in the current tmp director\n",
    "circuits = [load_circuit(str(file)) for file in tqdm(sample)]\n",
    "exported_files = [TMP_DIR / f\"{i}.qasm\" for i in range(SAMPLE_SIZE)]\n",
    "\n",
    "for circuit, file in zip(circuits, exported_files):\n",
    "    if circuit is not None:\n",
    "        export_circuit(circuit, str(file))"
   ]
  },
  {
   "cell_type": "code",
   "execution_count": 26,
   "metadata": {},
   "outputs": [
    {
     "name": "stdout",
     "output_type": "stream",
     "text": [
      "        ┌───┐      ░ ┌─┐            \n",
      "  q1_0: ┤ H ├──■───░─┤M├────────────\n",
      "        └───┘┌─┴─┐ ░ └╥┘┌─┐         \n",
      "  q1_1: ─────┤ X ├─░──╫─┤M├─────────\n",
      "             └───┘ ░  ║ └╥┘┌─┐      \n",
      "  q1_2: ───────────░──╫──╫─┤M├──────\n",
      "                   ░  ║  ║ └╥┘┌─┐   \n",
      "  q1_3: ───────────░──╫──╫──╫─┤M├───\n",
      "                   ░  ║  ║  ║ └╥┘┌─┐\n",
      "  q1_4: ───────────░──╫──╫──╫──╫─┤M├\n",
      "                   ░  ║  ║  ║  ║ └╥┘\n",
      "  c1: 5/══════════════╬══╬══╬══╬══╬═\n",
      "                      ║  ║  ║  ║  ║ \n",
      "meas: 5/══════════════╩══╩══╩══╩══╩═\n",
      "                      0  1  2  3  4 \n"
     ]
    },
    {
     "ename": "QASM2ParseError",
     "evalue": "\"<input>:6,5: 'c1' is already defined\"",
     "output_type": "error",
     "traceback": [
      "\u001b[0;31m---------------------------------------------------------------------------\u001b[0m",
      "\u001b[0;31mQASM2ParseError\u001b[0m                           Traceback (most recent call last)",
      "Cell \u001b[0;32mIn[26], line 21\u001b[0m\n\u001b[1;32m     17\u001b[0m \u001b[38;5;66;03m# export to qasm\u001b[39;00m\n\u001b[1;32m     18\u001b[0m bqc\u001b[38;5;241m.\u001b[39msave(\u001b[38;5;28mstr\u001b[39m(TMP_DIR \u001b[38;5;241m/\u001b[39m \u001b[38;5;124m\"\u001b[39m\u001b[38;5;124mqiskit_to_bqskit.qasm\u001b[39m\u001b[38;5;124m\"\u001b[39m))\n\u001b[0;32m---> 21\u001b[0m qc_back \u001b[38;5;241m=\u001b[39m \u001b[43mbqskit_to_qiskit\u001b[49m\u001b[43m(\u001b[49m\u001b[43mbqc\u001b[49m\u001b[43m)\u001b[49m\n\u001b[1;32m     22\u001b[0m \u001b[38;5;28mprint\u001b[39m(qc_back\u001b[38;5;241m.\u001b[39mdraw())\n",
      "File \u001b[0;32m~/.conda/envs/crosspl/lib/python3.10/site-packages/bqskit/ext/qiskit/translate.py:33\u001b[0m, in \u001b[0;36mbqskit_to_qiskit\u001b[0;34m(circuit)\u001b[0m\n\u001b[1;32m     26\u001b[0m     \u001b[38;5;28;01mraise\u001b[39;00m \u001b[38;5;167;01mImportError\u001b[39;00m(\n\u001b[1;32m     27\u001b[0m         \u001b[38;5;124m'\u001b[39m\u001b[38;5;130;01m\\n\u001b[39;00m\u001b[38;5;130;01m\\n\u001b[39;00m\u001b[38;5;124mUnable to import qiskit package.\u001b[39m\u001b[38;5;130;01m\\n\u001b[39;00m\u001b[38;5;124m'\u001b[39m\n\u001b[1;32m     28\u001b[0m         \u001b[38;5;124m'\u001b[39m\u001b[38;5;124mPlease ensure that it is installed with the following command:\u001b[39m\u001b[38;5;130;01m\\n\u001b[39;00m\u001b[38;5;124m'\u001b[39m\n\u001b[1;32m     29\u001b[0m         \u001b[38;5;124m'\u001b[39m\u001b[38;5;130;01m\\t\u001b[39;00m\u001b[38;5;124mpip install qiskit\u001b[39m\u001b[38;5;130;01m\\n\u001b[39;00m\u001b[38;5;124m'\u001b[39m,\n\u001b[1;32m     30\u001b[0m     ) \u001b[38;5;28;01mfrom\u001b[39;00m \u001b[38;5;21;01me\u001b[39;00m\n\u001b[1;32m     32\u001b[0m \u001b[38;5;66;03m# circuit.renumber_qudits(list(reversed(range(circuit.num_qudits))))\u001b[39;00m\n\u001b[0;32m---> 33\u001b[0m \u001b[38;5;28;01mreturn\u001b[39;00m \u001b[43mQuantumCircuit\u001b[49m\u001b[38;5;241;43m.\u001b[39;49m\u001b[43mfrom_qasm_str\u001b[49m\u001b[43m(\u001b[49m\u001b[43mOPENQASM2Language\u001b[49m\u001b[43m(\u001b[49m\u001b[43m)\u001b[49m\u001b[38;5;241;43m.\u001b[39;49m\u001b[43mencode\u001b[49m\u001b[43m(\u001b[49m\u001b[43mcircuit\u001b[49m\u001b[43m)\u001b[49m\u001b[43m)\u001b[49m\n",
      "File \u001b[0;32m~/.conda/envs/crosspl/lib/python3.10/site-packages/qiskit/circuit/quantumcircuit.py:4106\u001b[0m, in \u001b[0;36mQuantumCircuit.from_qasm_str\u001b[0;34m(qasm_str)\u001b[0m\n\u001b[1;32m   4103\u001b[0m \u001b[38;5;66;03m# pylint: disable=cyclic-import\u001b[39;00m\n\u001b[1;32m   4104\u001b[0m \u001b[38;5;28;01mfrom\u001b[39;00m \u001b[38;5;21;01mqiskit\u001b[39;00m \u001b[38;5;28;01mimport\u001b[39;00m qasm2\n\u001b[0;32m-> 4106\u001b[0m \u001b[38;5;28;01mreturn\u001b[39;00m \u001b[43mqasm2\u001b[49m\u001b[38;5;241;43m.\u001b[39;49m\u001b[43mloads\u001b[49m\u001b[43m(\u001b[49m\n\u001b[1;32m   4107\u001b[0m \u001b[43m    \u001b[49m\u001b[43mqasm_str\u001b[49m\u001b[43m,\u001b[49m\n\u001b[1;32m   4108\u001b[0m \u001b[43m    \u001b[49m\u001b[43minclude_path\u001b[49m\u001b[38;5;241;43m=\u001b[39;49m\u001b[43mqasm2\u001b[49m\u001b[38;5;241;43m.\u001b[39;49m\u001b[43mLEGACY_INCLUDE_PATH\u001b[49m\u001b[43m,\u001b[49m\n\u001b[1;32m   4109\u001b[0m \u001b[43m    \u001b[49m\u001b[43mcustom_instructions\u001b[49m\u001b[38;5;241;43m=\u001b[39;49m\u001b[43mqasm2\u001b[49m\u001b[38;5;241;43m.\u001b[39;49m\u001b[43mLEGACY_CUSTOM_INSTRUCTIONS\u001b[49m\u001b[43m,\u001b[49m\n\u001b[1;32m   4110\u001b[0m \u001b[43m    \u001b[49m\u001b[43mcustom_classical\u001b[49m\u001b[38;5;241;43m=\u001b[39;49m\u001b[43mqasm2\u001b[49m\u001b[38;5;241;43m.\u001b[39;49m\u001b[43mLEGACY_CUSTOM_CLASSICAL\u001b[49m\u001b[43m,\u001b[49m\n\u001b[1;32m   4111\u001b[0m \u001b[43m    \u001b[49m\u001b[43mstrict\u001b[49m\u001b[38;5;241;43m=\u001b[39;49m\u001b[38;5;28;43;01mFalse\u001b[39;49;00m\u001b[43m,\u001b[49m\n\u001b[1;32m   4112\u001b[0m \u001b[43m\u001b[49m\u001b[43m)\u001b[49m\n",
      "File \u001b[0;32m~/.conda/envs/crosspl/lib/python3.10/site-packages/qiskit/qasm2/__init__.py:587\u001b[0m, in \u001b[0;36mloads\u001b[0;34m(string, include_path, custom_instructions, custom_classical, strict)\u001b[0m\n\u001b[1;32m    571\u001b[0m \u001b[38;5;250m\u001b[39m\u001b[38;5;124;03m\"\"\"Parse an OpenQASM 2 program from a string into a :class:`.QuantumCircuit`.\u001b[39;00m\n\u001b[1;32m    572\u001b[0m \n\u001b[1;32m    573\u001b[0m \u001b[38;5;124;03mArgs:\u001b[39;00m\n\u001b[0;32m   (...)\u001b[0m\n\u001b[1;32m    584\u001b[0m \u001b[38;5;124;03m    A circuit object representing the same OpenQASM 2 program.\u001b[39;00m\n\u001b[1;32m    585\u001b[0m \u001b[38;5;124;03m\"\"\"\u001b[39;00m\n\u001b[1;32m    586\u001b[0m custom_instructions \u001b[38;5;241m=\u001b[39m \u001b[38;5;28mlist\u001b[39m(custom_instructions)\n\u001b[0;32m--> 587\u001b[0m \u001b[38;5;28;01mreturn\u001b[39;00m \u001b[43m_parse\u001b[49m\u001b[38;5;241;43m.\u001b[39;49m\u001b[43mfrom_bytecode\u001b[49m\u001b[43m(\u001b[49m\n\u001b[1;32m    588\u001b[0m \u001b[43m    \u001b[49m\u001b[43m_qasm2\u001b[49m\u001b[38;5;241;43m.\u001b[39;49m\u001b[43mbytecode_from_string\u001b[49m\u001b[43m(\u001b[49m\n\u001b[1;32m    589\u001b[0m \u001b[43m        \u001b[49m\u001b[43mstring\u001b[49m\u001b[43m,\u001b[49m\n\u001b[1;32m    590\u001b[0m \u001b[43m        \u001b[49m\u001b[43m[\u001b[49m\u001b[43m_normalize_path\u001b[49m\u001b[43m(\u001b[49m\u001b[43mpath\u001b[49m\u001b[43m)\u001b[49m\u001b[43m \u001b[49m\u001b[38;5;28;43;01mfor\u001b[39;49;00m\u001b[43m \u001b[49m\u001b[43mpath\u001b[49m\u001b[43m \u001b[49m\u001b[38;5;129;43;01min\u001b[39;49;00m\u001b[43m \u001b[49m\u001b[43minclude_path\u001b[49m\u001b[43m]\u001b[49m\u001b[43m,\u001b[49m\n\u001b[1;32m    591\u001b[0m \u001b[43m        \u001b[49m\u001b[43m[\u001b[49m\n\u001b[1;32m    592\u001b[0m \u001b[43m            \u001b[49m\u001b[43m_qasm2\u001b[49m\u001b[38;5;241;43m.\u001b[39;49m\u001b[43mCustomInstruction\u001b[49m\u001b[43m(\u001b[49m\u001b[43mx\u001b[49m\u001b[38;5;241;43m.\u001b[39;49m\u001b[43mname\u001b[49m\u001b[43m,\u001b[49m\u001b[43m \u001b[49m\u001b[43mx\u001b[49m\u001b[38;5;241;43m.\u001b[39;49m\u001b[43mnum_params\u001b[49m\u001b[43m,\u001b[49m\u001b[43m \u001b[49m\u001b[43mx\u001b[49m\u001b[38;5;241;43m.\u001b[39;49m\u001b[43mnum_qubits\u001b[49m\u001b[43m,\u001b[49m\u001b[43m \u001b[49m\u001b[43mx\u001b[49m\u001b[38;5;241;43m.\u001b[39;49m\u001b[43mbuiltin\u001b[49m\u001b[43m)\u001b[49m\n\u001b[1;32m    593\u001b[0m \u001b[43m            \u001b[49m\u001b[38;5;28;43;01mfor\u001b[39;49;00m\u001b[43m \u001b[49m\u001b[43mx\u001b[49m\u001b[43m \u001b[49m\u001b[38;5;129;43;01min\u001b[39;49;00m\u001b[43m \u001b[49m\u001b[43mcustom_instructions\u001b[49m\n\u001b[1;32m    594\u001b[0m \u001b[43m        \u001b[49m\u001b[43m]\u001b[49m\u001b[43m,\u001b[49m\n\u001b[1;32m    595\u001b[0m \u001b[43m        \u001b[49m\u001b[38;5;28;43mtuple\u001b[39;49m\u001b[43m(\u001b[49m\u001b[43mcustom_classical\u001b[49m\u001b[43m)\u001b[49m\u001b[43m,\u001b[49m\n\u001b[1;32m    596\u001b[0m \u001b[43m        \u001b[49m\u001b[43mstrict\u001b[49m\u001b[43m,\u001b[49m\n\u001b[1;32m    597\u001b[0m \u001b[43m    \u001b[49m\u001b[43m)\u001b[49m\u001b[43m,\u001b[49m\n\u001b[1;32m    598\u001b[0m \u001b[43m    \u001b[49m\u001b[43mcustom_instructions\u001b[49m\u001b[43m,\u001b[49m\n\u001b[1;32m    599\u001b[0m \u001b[43m\u001b[49m\u001b[43m)\u001b[49m\n",
      "File \u001b[0;32m~/.conda/envs/crosspl/lib/python3.10/site-packages/qiskit/qasm2/parse.py:243\u001b[0m, in \u001b[0;36mfrom_bytecode\u001b[0;34m(bytecode, custom_instructions)\u001b[0m\n\u001b[1;32m    240\u001b[0m \u001b[38;5;66;03m# Pull this out as an explicit iterator so we can manually advance the loop in `DeclareGate`\u001b[39;00m\n\u001b[1;32m    241\u001b[0m \u001b[38;5;66;03m# contexts easily.\u001b[39;00m\n\u001b[1;32m    242\u001b[0m bc \u001b[38;5;241m=\u001b[39m \u001b[38;5;28miter\u001b[39m(bytecode)\n\u001b[0;32m--> 243\u001b[0m \u001b[38;5;28;01mfor\u001b[39;00m op \u001b[38;5;129;01min\u001b[39;00m bc:\n\u001b[1;32m    244\u001b[0m     \u001b[38;5;66;03m# We have to check `op.opcode` so many times, it's worth pulling out the extra attribute\u001b[39;00m\n\u001b[1;32m    245\u001b[0m     \u001b[38;5;66;03m# access.  We should check the opcodes in order of their likelihood to be in the OQ2 program\u001b[39;00m\n\u001b[1;32m    246\u001b[0m     \u001b[38;5;66;03m# for speed.  Gate applications are by far the most common for long programs.  This function\u001b[39;00m\n\u001b[1;32m    247\u001b[0m     \u001b[38;5;66;03m# is deliberately long and does not use hashmaps or function lookups for speed in\u001b[39;00m\n\u001b[1;32m    248\u001b[0m     \u001b[38;5;66;03m# Python-space.\u001b[39;00m\n\u001b[1;32m    249\u001b[0m     opcode \u001b[38;5;241m=\u001b[39m op\u001b[38;5;241m.\u001b[39mopcode\n\u001b[1;32m    250\u001b[0m     \u001b[38;5;66;03m# `OpCode` is an `enum` in Rust, but its instances don't have the same singleton property as\u001b[39;00m\n\u001b[1;32m    251\u001b[0m     \u001b[38;5;66;03m# Python `enum.Enum` objects.\u001b[39;00m\n",
      "\u001b[0;31mQASM2ParseError\u001b[0m: \"<input>:6,5: 'c1' is already defined\""
     ]
    }
   ],
   "source": [
    "from bqskit.ext import qiskit_to_bqskit\n",
    "from bqskit.ext import bqskit_to_qiskit\n",
    "\n",
    "from qiskit import QuantumCircuit, QuantumRegister, ClassicalRegister\n",
    "\n",
    "qreg = QuantumRegister(5)\n",
    "creg = ClassicalRegister(5)\n",
    "qc = QuantumCircuit(qreg, creg)\n",
    "qc.h(0)\n",
    "qc.cx(0, 1)\n",
    "qc.measure_all(inplace=True)\n",
    "\n",
    "print(qc.draw())\n",
    "\n",
    "bqc = qiskit_to_bqskit(qc)\n",
    "\n",
    "# export to qasm\n",
    "bqc.save(str(TMP_DIR / \"qiskit_to_bqskit.qasm\"))\n",
    "\n",
    "\n",
    "qc_back = bqskit_to_qiskit(bqc)\n",
    "print(qc_back.draw())"
   ]
  },
  {
   "cell_type": "markdown",
   "metadata": {},
   "source": [
    "## Try to fix pennylane order"
   ]
  },
  {
   "cell_type": "code",
   "execution_count": 13,
   "metadata": {},
   "outputs": [
    {
     "name": "stdout",
     "output_type": "stream",
     "text": [
      "OPENQASM 2.0;\n",
      "include \"qelib1.inc\";\n",
      "qreg q[5];\n",
      "creg c[5];\n",
      "id q[0];\n",
      "id q[1];\n",
      "id q[2];\n",
      "id q[3];\n",
      "id q[4];\n",
      "u3(1.5707963267948966,0.0,3.141592653589793) q[4];\n",
      "cx q[3],q[4];\n",
      "measure q[0] -> c[0];\n",
      "measure q[1] -> c[1];\n",
      "measure q[2] -> c[2];\n",
      "measure q[3] -> c[3];\n",
      "measure q[4] -> c[4];\n",
      "\n"
     ]
    }
   ],
   "source": [
    "from pennylane.tape import QuantumTape\n",
    "import pennylane as qml\n",
    "from qiskit import QuantumCircuit, QuantumRegister, ClassicalRegister\n",
    "\n",
    "qreg = QuantumRegister(5)\n",
    "creg = ClassicalRegister(5)\n",
    "qc = QuantumCircuit(qreg, creg)\n",
    "qc.h(4)\n",
    "qc.cx(3, 4)\n",
    "qc.measure_all(inplace=True)\n",
    "\n",
    "\n",
    "# Convert Qiskit circuit to a simplified form\n",
    "simplified_qiskit_circ = qc.decompose().decompose()\n",
    "n_qubits = simplified_qiskit_circ.num_qubits\n",
    "\n",
    "# add at least one empty operation on each qubit to avoid the error\n",
    "prefix_circ = QuantumCircuit(n_qubits)\n",
    "for i in range(n_qubits):\n",
    "    prefix_circ.id(i)\n",
    "simplified_qiskit_circ = prefix_circ.compose(simplified_qiskit_circ)\n",
    "\n",
    "# Define measurement and PennyLane device\n",
    "measurements = [qml.expval(qml.PauliZ(i)) for i in range(n_qubits)]\n",
    "circuit_fn = qml.from_qiskit(\n",
    "    simplified_qiskit_circ, measurements=measurements)\n",
    "dev = qml.device('default.qubit', wires=n_qubits)\n",
    "qml_circuit = qml.QNode(circuit_fn, dev)\n",
    "\n",
    "# Extract the QASM from the PennyLane QNode\n",
    "with QuantumTape(shots=10) as tape:\n",
    "    qml_circuit.construct([], {})\n",
    "    qasm_str_pennylane = qml_circuit.tape.to_openqasm(wires=sorted(tape.wires))\n",
    "\n",
    "print(qasm_str_pennylane)"
   ]
  },
  {
   "cell_type": "code",
   "execution_count": null,
   "metadata": {},
   "outputs": [],
   "source": [
    "from mqt import qcec\n",
    "import tempfile\n",
    "from qiskit.qasm2 import dumps\n",
    "\n",
    "# Create a temporary file to store the QASM\n",
    "with tempfile.NamedTemporaryFile(mode='w', delete=False, suffix=\".qasm\") as f1:\n",
    "    f1.write(qasm_str_pennylane)\n",
    "    f.flush()\n",
    "    qasm_file_1 = f1.name\n",
    "\n",
    "    with tempfile.NamedTemporaryFile(mode='w', delete=False, suffix=\".qasm\") as f2:\n",
    "        f2.write(dumps(simplified_qiskit_circ))\n",
    "        f2.flush()\n",
    "\n",
    "        # Compute the QCEC\n",
    "        qcec_val = qcec.verify(qasm_file_1, f2.name)"
   ]
  }
 ],
 "metadata": {
  "kernelspec": {
   "display_name": "crosspl",
   "language": "python",
   "name": "python3"
  },
  "language_info": {
   "codemirror_mode": {
    "name": "ipython",
    "version": 3
   },
   "file_extension": ".py",
   "mimetype": "text/x-python",
   "name": "python",
   "nbconvert_exporter": "python",
   "pygments_lexer": "ipython3",
   "version": "3.10.14"
  }
 },
 "nbformat": 4,
 "nbformat_minor": 2
}
