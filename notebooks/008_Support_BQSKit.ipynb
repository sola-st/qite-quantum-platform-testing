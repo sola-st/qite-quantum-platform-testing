{
 "cells": [
  {
   "cell_type": "code",
   "execution_count": 6,
   "metadata": {},
   "outputs": [
    {
     "name": "stdout",
     "output_type": "stream",
     "text": [
      "INFO: Pandarallel will run on 24 workers.\n",
      "INFO: Pandarallel will use Memory file system to transfer data between the main process and workers.\n"
     ]
    }
   ],
   "source": [
    "from typing import List, Tuple, Dict, Any, Optional\n",
    "from pandarallel import pandarallel\n",
    "import os\n",
    "import re\n",
    "import sys\n",
    "import json\n",
    "from pathlib import Path\n",
    "\n",
    "import numpy as np\n",
    "import matplotlib.pyplot as plt\n",
    "import seaborn as sns\n",
    "\n",
    "import pandas as pd\n",
    "from tqdm.auto import tqdm\n",
    "tqdm.pandas()\n",
    "pandarallel.initialize(progress_bar=True)"
   ]
  },
  {
   "cell_type": "code",
   "execution_count": 7,
   "metadata": {},
   "outputs": [],
   "source": [
    "DIR_QASM_FILES = Path(\n",
    "    \"..\", \"program_bank\", \"v003\", \"2024_10_18__10_19__qiskit\"\n",
    ")\n",
    "\n",
    "SAMPLE_SIZE = 10\n",
    "\n",
    "TMP_DIR = Path(\n",
    "    \"..\", \".tmp\"\n",
    ")\n",
    "TMP_DIR.mkdir(exist_ok=True)"
   ]
  },
  {
   "cell_type": "code",
   "execution_count": 3,
   "metadata": {},
   "outputs": [
    {
     "name": "stdout",
     "output_type": "stream",
     "text": [
      "../program_bank/v003/2024_10_18__10_19__qiskit/qiskit_circuit_32q_10g_1193_ab5ccb_qc_pytket.qasm\n",
      "../program_bank/v003/2024_10_18__10_19__qiskit/qiskit_circuit_32q_10g_563_2fca0d_qc_qiskit.qasm\n",
      "../program_bank/v003/2024_10_18__10_19__qiskit/qiskit_circuit_32q_10g_303_4ad6f8_qc_pennylane.qasm\n",
      "../program_bank/v003/2024_10_18__10_19__qiskit/qiskit_circuit_32q_10g_3001_72c272_qc_qiskit.qasm\n",
      "../program_bank/v003/2024_10_18__10_19__qiskit/qiskit_circuit_32q_10g_3344_7fe6cc_qc_qiskit.qasm\n",
      "../program_bank/v003/2024_10_18__10_19__qiskit/qiskit_circuit_32q_10g_1679_5bfd09_qc_pennylane.qasm\n",
      "../program_bank/v003/2024_10_18__10_19__qiskit/qiskit_circuit_32q_10g_2703_9db25f_qc_pennylane.qasm\n",
      "../program_bank/v003/2024_10_18__10_19__qiskit/qiskit_circuit_32q_10g_1409_552c35_qc_qiskit.qasm\n",
      "../program_bank/v003/2024_10_18__10_19__qiskit/qiskit_circuit_32q_10g_505_d42562_qc_pennylane.qasm\n",
      "../program_bank/v003/2024_10_18__10_19__qiskit/qiskit_circuit_32q_10g_3413_65401c_qc_pennylane.qasm\n"
     ]
    }
   ],
   "source": [
    "def get_all_qasm_files(folder: str) -> List[str]:\n",
    "    return list(Path(folder).rglob(\"*.qasm\"))\n",
    "\n",
    "\n",
    "all_qasm_files = get_all_qasm_files(DIR_QASM_FILES)\n",
    "\n",
    "\n",
    "sample = np.random.choice(all_qasm_files, SAMPLE_SIZE, replace=False)\n",
    "for s in sample:\n",
    "    print(s)"
   ]
  },
  {
   "cell_type": "code",
   "execution_count": 4,
   "metadata": {},
   "outputs": [
    {
     "data": {
      "application/vnd.jupyter.widget-view+json": {
       "model_id": "554ee7a1c8c6433197be7e8bfa6afb40",
       "version_major": 2,
       "version_minor": 0
      },
      "text/plain": [
       "  0%|          | 0/10 [00:00<?, ?it/s]"
      ]
     },
     "metadata": {},
     "output_type": "display_data"
    }
   ],
   "source": [
    "from bqskit import Circuit\n",
    "from bqskit import compile as bcompile\n",
    "\n",
    "# try to import all the circuits\n",
    "\n",
    "\n",
    "def load_circuit(file: str) -> Optional[Circuit]:\n",
    "    try:\n",
    "        return Circuit.from_file(file)\n",
    "    except Exception as e:\n",
    "        print(f\"Error loading {file}: {e}\")\n",
    "        return None\n",
    "\n",
    "\n",
    "# get try to export all the circuits\n",
    "def export_circuit(circuit: Circuit, file: str) -> None:\n",
    "    try:\n",
    "        circuit.save(file)\n",
    "    except Exception as e:\n",
    "        print(f\"Error exporting {file}: {e}\")\n",
    "        return None\n",
    "\n",
    "\n",
    "# load all the circuits / and export them in the current tmp director\n",
    "circuits = [load_circuit(str(file)) for file in tqdm(sample)]\n",
    "exported_files = [TMP_DIR / f\"{i}.qasm\" for i in range(SAMPLE_SIZE)]\n",
    "\n",
    "for circuit, file in zip(circuits, exported_files):\n",
    "    if circuit is not None:\n",
    "        export_circuit(circuit, str(file))"
   ]
  },
  {
   "cell_type": "code",
   "execution_count": 5,
   "metadata": {},
   "outputs": [
    {
     "name": "stdout",
     "output_type": "stream",
     "text": [
      "        ┌───┐      ░ ┌─┐            \n",
      "  q0_0: ┤ H ├──■───░─┤M├────────────\n",
      "        └───┘┌─┴─┐ ░ └╥┘┌─┐         \n",
      "  q0_1: ─────┤ X ├─░──╫─┤M├─────────\n",
      "             └───┘ ░  ║ └╥┘┌─┐      \n",
      "  q0_2: ───────────░──╫──╫─┤M├──────\n",
      "                   ░  ║  ║ └╥┘┌─┐   \n",
      "  q0_3: ───────────░──╫──╫──╫─┤M├───\n",
      "                   ░  ║  ║  ║ └╥┘┌─┐\n",
      "  q0_4: ───────────░──╫──╫──╫──╫─┤M├\n",
      "                   ░  ║  ║  ║  ║ └╥┘\n",
      "  c0: 5/══════════════╬══╬══╬══╬══╬═\n",
      "                      ║  ║  ║  ║  ║ \n",
      "meas: 5/══════════════╩══╩══╩══╩══╩═\n",
      "                      0  1  2  3  4 \n"
     ]
    }
   ],
   "source": [
    "from bqskit.ext import qiskit_to_bqskit\n",
    "from bqskit.ext import bqskit_to_qiskit\n",
    "\n",
    "from qiskit import QuantumCircuit, QuantumRegister, ClassicalRegister\n",
    "\n",
    "qreg = QuantumRegister(5)\n",
    "creg = ClassicalRegister(5)\n",
    "qc = QuantumCircuit(qreg, creg)\n",
    "qc.h(0)\n",
    "qc.cx(0, 1)\n",
    "qc.measure_all(inplace=True)\n",
    "\n",
    "print(qc.draw())\n",
    "\n",
    "bqc = qiskit_to_bqskit(qc)\n",
    "\n",
    "# export to qasm\n",
    "bqc.save(str(TMP_DIR / \"qiskit_to_bqskit.qasm\"))\n",
    "\n",
    "\n",
    "# qc_back = bqskit_to_qiskit(bqc)\n",
    "# print(qc_back.draw())"
   ]
  },
  {
   "cell_type": "markdown",
   "metadata": {},
   "source": [
    "## Try to fix pennylane order"
   ]
  },
  {
   "cell_type": "code",
   "execution_count": 12,
   "metadata": {},
   "outputs": [
    {
     "name": "stdout",
     "output_type": "stream",
     "text": [
      "                   ░ ┌─┐            \n",
      "  q4_0: ───────────░─┤M├────────────\n",
      "                   ░ └╥┘┌─┐         \n",
      "  q4_1: ───────────░──╫─┤M├─────────\n",
      "                   ░  ║ └╥┘┌─┐      \n",
      "  q4_2: ───────────░──╫──╫─┤M├──────\n",
      "                   ░  ║  ║ └╥┘┌─┐   \n",
      "  q4_3: ───────■───░──╫──╫──╫─┤M├───\n",
      "        ┌───┐┌─┴─┐ ░  ║  ║  ║ └╥┘┌─┐\n",
      "  q4_4: ┤ H ├┤ X ├─░──╫──╫──╫──╫─┤M├\n",
      "        └───┘└───┘ ░  ║  ║  ║  ║ └╥┘\n",
      "  c3: 5/══════════════╬══╬══╬══╬══╬═\n",
      "                      ║  ║  ║  ║  ║ \n",
      "meas: 5/══════════════╩══╩══╩══╩══╩═\n",
      "                      0  1  2  3  4 \n",
      "OPENQASM 2.0;\n",
      "include \"qelib1.inc\";\n",
      "qreg q[5];\n",
      "creg c[5];\n",
      "id q[0];\n",
      "id q[1];\n",
      "id q[2];\n",
      "id q[3];\n",
      "id q[4];\n",
      "u3(1.5707963267948966,0.0,3.141592653589793) q[4];\n",
      "cx q[3],q[4];\n",
      "measure q[0] -> c[0];\n",
      "measure q[1] -> c[1];\n",
      "measure q[2] -> c[2];\n",
      "measure q[3] -> c[3];\n",
      "measure q[4] -> c[4];\n",
      "\n"
     ]
    }
   ],
   "source": [
    "from pennylane.tape import QuantumTape\n",
    "import pennylane as qml\n",
    "from qiskit import QuantumCircuit, QuantumRegister, ClassicalRegister\n",
    "\n",
    "qreg = QuantumRegister(5)\n",
    "creg = ClassicalRegister(5)\n",
    "qc = QuantumCircuit(qreg, creg)\n",
    "qc.h(4)\n",
    "qc.cx(3, 4)\n",
    "qc.measure_all(inplace=True)\n",
    "print(qc.draw())\n",
    "\n",
    "# Convert Qiskit circuit to a simplified form\n",
    "simplified_qiskit_circ = qc.decompose().decompose()\n",
    "n_qubits = simplified_qiskit_circ.num_qubits\n",
    "\n",
    "# add at least one empty operation on each qubit to avoid the order change\n",
    "prefix_circ = QuantumCircuit(n_qubits)\n",
    "for i in range(n_qubits):\n",
    "    prefix_circ.id(i)\n",
    "simplified_qiskit_circ = prefix_circ.compose(simplified_qiskit_circ)\n",
    "\n",
    "# Define measurement and PennyLane device\n",
    "measurements = [qml.expval(qml.PauliZ(i)) for i in range(n_qubits)]\n",
    "circuit_fn = qml.from_qiskit(\n",
    "    simplified_qiskit_circ, measurements=measurements)\n",
    "dev = qml.device('default.qubit', wires=n_qubits)\n",
    "qml_circuit = qml.QNode(circuit_fn, dev)\n",
    "\n",
    "# Extract the QASM from the PennyLane QNode\n",
    "with QuantumTape(shots=10) as tape:\n",
    "    qml_circuit.construct([], {})\n",
    "    qasm_str_pennylane = qml_circuit.tape.to_openqasm(wires=sorted(tape.wires))\n",
    "\n",
    "print(qasm_str_pennylane)\n",
    "\n",
    "# save to file\n",
    "with open(TMP_DIR / \"pennylane.qasm\", \"w\") as f:\n",
    "    f.write(qasm_str_pennylane)"
   ]
  },
  {
   "cell_type": "code",
   "execution_count": 9,
   "metadata": {},
   "outputs": [],
   "source": [
    "from mqt import qcec\n",
    "import tempfile\n",
    "from qiskit.qasm2 import dumps\n",
    "\n",
    "\n",
    "def check_two_qasm_strings(str_qiskit, str_pytket):\n",
    "    # create two temporary files\n",
    "    with tempfile.NamedTemporaryFile(mode='w', delete=False, suffix=\".qasm\") as f_qiskit, tempfile.NamedTemporaryFile(mode='w', delete=False, suffix=\".qasm\") as f_pytket:\n",
    "        f_qiskit.write(str_qiskit)\n",
    "        f_pytket.write(str_pytket)\n",
    "        f_qiskit.flush()\n",
    "        f_pytket.flush()\n",
    "        # print(f_qiskit.name)\n",
    "        # print(f_pytket.name)\n",
    "\n",
    "        # verify the two files\n",
    "        res = qcec.verify(f_qiskit.name, f_pytket.name)\n",
    "        equivalence = str(res.equivalence)\n",
    "        # print(f\"Equivalence: {equivalence}\")\n",
    "        return equivalence"
   ]
  },
  {
   "cell_type": "code",
   "execution_count": 10,
   "metadata": {},
   "outputs": [
    {
     "name": "stdout",
     "output_type": "stream",
     "text": [
      "OPENQASM 2.0;\n",
      "include \"qelib1.inc\";\n",
      "qreg q2[5];\n",
      "creg c1[5];\n",
      "creg meas[5];\n",
      "h q2[4];\n",
      "cx q2[3],q2[4];\n",
      "barrier q2[0],q2[1],q2[2],q2[3],q2[4];\n",
      "measure q2[0] -> meas[0];\n",
      "measure q2[1] -> meas[1];\n",
      "measure q2[2] -> meas[2];\n",
      "measure q2[3] -> meas[3];\n",
      "measure q2[4] -> meas[4];\n"
     ]
    }
   ],
   "source": [
    "from qiskit.qasm2 import dumps\n",
    "qiskit_str = dumps(qc)\n",
    "print(qiskit_str)\n",
    "# store to file\n",
    "with open(TMP_DIR / \"qiskit.qasm\", \"w\") as f:\n",
    "    f.write(qiskit_str)"
   ]
  },
  {
   "cell_type": "code",
   "execution_count": null,
   "metadata": {},
   "outputs": [],
   "source": []
  }
 ],
 "metadata": {
  "kernelspec": {
   "display_name": "crosspl",
   "language": "python",
   "name": "python3"
  },
  "language_info": {
   "codemirror_mode": {
    "name": "ipython",
    "version": 3
   },
   "file_extension": ".py",
   "mimetype": "text/x-python",
   "name": "python",
   "nbconvert_exporter": "python",
   "pygments_lexer": "ipython3",
   "version": "3.10.14"
  }
 },
 "nbformat": 4,
 "nbformat_minor": 2
}
