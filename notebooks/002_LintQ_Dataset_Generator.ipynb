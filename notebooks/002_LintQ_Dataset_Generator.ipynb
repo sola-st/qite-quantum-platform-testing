{
 "cells": [
  {
   "cell_type": "code",
   "execution_count": 3,
   "metadata": {},
   "outputs": [],
   "source": [
    "import os\n",
    "import sys\n",
    "import json\n",
    "from pathlib import Path\n",
    "\n",
    "import pandas as pd\n",
    "import numpy as np\n",
    "import matplotlib.pyplot as plt\n",
    "import seaborn as sns\n",
    "\n",
    "from typing import List, Tuple, Dict, Any, Optional\n",
    "\n"
   ]
  },
  {
   "cell_type": "code",
   "execution_count": 2,
   "metadata": {},
   "outputs": [
    {
     "data": {
      "text/html": [
       "<pre style=\"word-wrap: normal;white-space: pre;background: #fff0;line-height: 1.1;font-family: &quot;Courier New&quot;,Courier,monospace\">     ┌───┐\n",
       "q_0: ┤ H ├\n",
       "     ├───┤\n",
       "q_1: ┤ H ├\n",
       "     └───┘</pre>"
      ],
      "text/plain": [
       "     ┌───┐\n",
       "q_0: ┤ H ├\n",
       "     ├───┤\n",
       "q_1: ┤ H ├\n",
       "     └───┘"
      ]
     },
     "execution_count": 2,
     "metadata": {},
     "output_type": "execute_result"
    }
   ],
   "source": [
    "# # import\n",
    "# pickle_circuit = \"../program_bank/2024_10_07__15_57__lintq/program_51.py_qc.pkl\"\n",
    "\n",
    "# import pickle\n",
    "# qc = pickle.load(open(pickle_circuit, \"rb\"))\n",
    "\n",
    "# qc.draw()"
   ]
  },
  {
   "cell_type": "code",
   "execution_count": 4,
   "metadata": {},
   "outputs": [],
   "source": [
    "DIR_PROGRAM_BANK = os.path.join(\"..\", \"program_bank\", \"2024_10_07__15_59__lintq\")"
   ]
  },
  {
   "cell_type": "code",
   "execution_count": 18,
   "metadata": {},
   "outputs": [],
   "source": [
    "from multiprocessing import Pool\n",
    "import re\n",
    "\n",
    "def read_json_file(file_path: str) -> Dict[str, Any]:\n",
    "    with open(file_path, 'r') as file:\n",
    "        data = json.load(file)\n",
    "        data[\"_filename\"] = os.path.basename(file_path)\n",
    "        return data\n",
    "\n",
    "def read_all_jsons(dir_path: str) -> pd.DataFrame:\n",
    "    json_files = [os.path.join(dir_path, f) for f in os.listdir(dir_path) if re.match(r'.*\\.json$', f)]\n",
    "    records = []\n",
    "\n",
    "    with Pool() as pool:\n",
    "        results = pool.map(read_json_file, json_files)\n",
    "        records.extend(results)\n",
    "\n",
    "    return pd.DataFrame(records)\n",
    "\n",
    "df = read_all_jsons(DIR_PROGRAM_BANK)\n"
   ]
  },
  {
   "cell_type": "code",
   "execution_count": 19,
   "metadata": {},
   "outputs": [
    {
     "data": {
      "text/html": [
       "<div>\n",
       "<style scoped>\n",
       "    .dataframe tbody tr th:only-of-type {\n",
       "        vertical-align: middle;\n",
       "    }\n",
       "\n",
       "    .dataframe tbody tr th {\n",
       "        vertical-align: top;\n",
       "    }\n",
       "\n",
       "    .dataframe thead th {\n",
       "        text-align: right;\n",
       "    }\n",
       "</style>\n",
       "<table border=\"1\" class=\"dataframe\">\n",
       "  <thead>\n",
       "    <tr style=\"text-align: right;\">\n",
       "      <th></th>\n",
       "      <th>file</th>\n",
       "      <th>error_message</th>\n",
       "      <th>stack_trace</th>\n",
       "      <th>_filename</th>\n",
       "    </tr>\n",
       "  </thead>\n",
       "  <tbody>\n",
       "    <tr>\n",
       "      <th>0</th>\n",
       "      <td>basic_optimize_6fc732.py</td>\n",
       "      <td>Command '['docker', 'run', '--rm', '-v', '/tmp...</td>\n",
       "      <td>CalledProcessError(1, ['docker', 'run', '--rm'...</td>\n",
       "      <td>basic_optimize_6fc732.py.json</td>\n",
       "    </tr>\n",
       "    <tr>\n",
       "      <th>1</th>\n",
       "      <td>common_fcbe86.py</td>\n",
       "      <td>Command '['docker', 'run', '--rm', '-v', '/tmp...</td>\n",
       "      <td>CalledProcessError(1, ['docker', 'run', '--rm'...</td>\n",
       "      <td>common_fcbe86.py.json</td>\n",
       "    </tr>\n",
       "    <tr>\n",
       "      <th>2</th>\n",
       "      <td>adjacent_crosstalk_detection_403bc0.py</td>\n",
       "      <td>Command '['docker', 'run', '--rm', '-v', '/tmp...</td>\n",
       "      <td>CalledProcessError(1, ['docker', 'run', '--rm'...</td>\n",
       "      <td>adjacent_crosstalk_detection_403bc0.py.json</td>\n",
       "    </tr>\n",
       "    <tr>\n",
       "      <th>3</th>\n",
       "      <td>app_015156.py</td>\n",
       "      <td>Command '['docker', 'run', '--rm', '-v', '/tmp...</td>\n",
       "      <td>CalledProcessError(1, ['docker', 'run', '--rm'...</td>\n",
       "      <td>app_015156.py.json</td>\n",
       "    </tr>\n",
       "    <tr>\n",
       "      <th>4</th>\n",
       "      <td>assignment_helper_34902f.py</td>\n",
       "      <td>Command '['docker', 'run', '--rm', '-v', '/tmp...</td>\n",
       "      <td>CalledProcessError(1, ['docker', 'run', '--rm'...</td>\n",
       "      <td>assignment_helper_34902f.py.json</td>\n",
       "    </tr>\n",
       "  </tbody>\n",
       "</table>\n",
       "</div>"
      ],
      "text/plain": [
       "                                     file  \\\n",
       "0                basic_optimize_6fc732.py   \n",
       "1                        common_fcbe86.py   \n",
       "2  adjacent_crosstalk_detection_403bc0.py   \n",
       "3                           app_015156.py   \n",
       "4             assignment_helper_34902f.py   \n",
       "\n",
       "                                       error_message  \\\n",
       "0  Command '['docker', 'run', '--rm', '-v', '/tmp...   \n",
       "1  Command '['docker', 'run', '--rm', '-v', '/tmp...   \n",
       "2  Command '['docker', 'run', '--rm', '-v', '/tmp...   \n",
       "3  Command '['docker', 'run', '--rm', '-v', '/tmp...   \n",
       "4  Command '['docker', 'run', '--rm', '-v', '/tmp...   \n",
       "\n",
       "                                         stack_trace  \\\n",
       "0  CalledProcessError(1, ['docker', 'run', '--rm'...   \n",
       "1  CalledProcessError(1, ['docker', 'run', '--rm'...   \n",
       "2  CalledProcessError(1, ['docker', 'run', '--rm'...   \n",
       "3  CalledProcessError(1, ['docker', 'run', '--rm'...   \n",
       "4  CalledProcessError(1, ['docker', 'run', '--rm'...   \n",
       "\n",
       "                                     _filename  \n",
       "0                basic_optimize_6fc732.py.json  \n",
       "1                        common_fcbe86.py.json  \n",
       "2  adjacent_crosstalk_detection_403bc0.py.json  \n",
       "3                           app_015156.py.json  \n",
       "4             assignment_helper_34902f.py.json  "
      ]
     },
     "execution_count": 19,
     "metadata": {},
     "output_type": "execute_result"
    }
   ],
   "source": [
    "df.head()"
   ]
  },
  {
   "cell_type": "code",
   "execution_count": 42,
   "metadata": {},
   "outputs": [],
   "source": [
    "# clean stack trace\n",
    "\n",
    "# anonymize filename\n",
    "df[\"stack_trace\"] = df.apply(\n",
    "    lambda row: row[\"stack_trace\"].replace(str(row[\"file\"]), \"this_file.py\"), axis=1)\n",
    "\n",
    "# anonymize the docker image name\n",
    "df[\"stack_trace\"] = df[\"stack_trace\"].str.replace(\"qiskit_runner\", \"docker_image\")\n"
   ]
  },
  {
   "cell_type": "code",
   "execution_count": 70,
   "metadata": {},
   "outputs": [
    {
     "name": "stdout",
     "output_type": "stream",
     "text": [
      "Top 20 stacktraces\n",
      "stack_trace\n",
      "CalledProcessError(1, ['docker', 'run', '--rm', '-v', '/tmp/tmp42b_ghy2:/workspace', 'docker_image', 'python', '/workspace/this_file.py'], '', 'Traceback (most recent call last):\\n  File \"/workspace/this_file.py\", line 4, in <module>\\n    from qiskit import Aer\\nImportError: cannot import name \\'Aer\\' from \\'qiskit\\' (/usr/local/lib/python3.10/site-packages/qiskit/__init__.py)\\n')                                                                                      37\n",
      "CalledProcessError(1, ['docker', 'run', '--rm', '-v', '/tmp/tmp42b_ghy2:/workspace', 'docker_image', 'python', '/workspace/this_file.py'], '', 'Traceback (most recent call last):\\n  File \"/workspace/this_file.py\", line 3, in <module>\\n    import matplotlib.pyplot as plt\\nModuleNotFoundError: No module named \\'matplotlib\\'\\n')                                                                                                                                              31\n",
      "CalledProcessError(1, ['docker', 'run', '--rm', '-v', '/tmp/tmp42b_ghy2:/workspace', 'docker_image', 'python', '/workspace/this_file.py'], '', 'Traceback (most recent call last):\\n  File \"/workspace/this_file.py\", line 21, in <module>\\n    provider = qiskit.IBMQ.load_account()\\nAttributeError: module \\'qiskit\\' has no attribute \\'IBMQ\\'\\n')                                                                                                                               23\n",
      "CalledProcessError(1, ['docker', 'run', '--rm', '-v', '/tmp/tmp42b_ghy2:/workspace', 'docker_image', 'python', '/workspace/this_file.py'], '', 'Traceback (most recent call last):\\n  File \"/workspace/this_file.py\", line 3, in <module>\\n    from qiskit import Aer\\nImportError: cannot import name \\'Aer\\' from \\'qiskit\\' (/usr/local/lib/python3.10/site-packages/qiskit/__init__.py)\\n')                                                                                      22\n",
      "CalledProcessError(1, ['docker', 'run', '--rm', '-v', '/tmp/tmp42b_ghy2:/workspace', 'docker_image', 'python', '/workspace/this_file.py'], '', 'Traceback (most recent call last):\\n  File \"/workspace/this_file.py\", line 5, in <module>\\n    import matplotlib.pyplot as plt\\nModuleNotFoundError: No module named \\'matplotlib\\'\\n')                                                                                                                                              18\n",
      "CalledProcessError(1, ['docker', 'run', '--rm', '-v', '/tmp/tmp42b_ghy2:/workspace', 'docker_image', 'python', '/workspace/this_file.py'], '', 'Traceback (most recent call last):\\n  File \"/workspace/this_file.py\", line 23, in <module>\\n    from qiskit import Gate\\nImportError: cannot import name \\'Gate\\' from \\'qiskit\\' (/usr/local/lib/python3.10/site-packages/qiskit/__init__.py)\\n')                                                                                   17\n",
      "CalledProcessError(1, ['docker', 'run', '--rm', '-v', '/tmp/tmp42b_ghy2:/workspace', 'docker_image', 'python', '/workspace/this_file.py'], '', 'Traceback (most recent call last):\\n  File \"/workspace/this_file.py\", line 3, in <module>\\n    from qiskit import IBMQ\\nImportError: cannot import name \\'IBMQ\\' from \\'qiskit\\' (/usr/local/lib/python3.10/site-packages/qiskit/__init__.py)\\n')                                                                                    16\n",
      "CalledProcessError(1, ['docker', 'run', '--rm', '-v', '/tmp/tmp42b_ghy2:/workspace', 'docker_image', 'python', '/workspace/this_file.py'], '', 'Traceback (most recent call last):\\n  File \"/workspace/this_file.py\", line 4, in <module>\\n    import matplotlib.pyplot as plt\\nModuleNotFoundError: No module named \\'matplotlib\\'\\n')                                                                                                                                              15\n",
      "CalledProcessError(1, ['docker', 'run', '--rm', '-v', '/tmp/tmp42b_ghy2:/workspace', 'docker_image', 'python', '/workspace/this_file.py'], '', 'Traceback (most recent call last):\\n  File \"/workspace/this_file.py\", line 2, in <module>\\n    import matplotlib.pyplot as plt\\nModuleNotFoundError: No module named \\'matplotlib\\'\\n')                                                                                                                                              14\n",
      "CalledProcessError(1, ['docker', 'run', '--rm', '-v', '/tmp/tmp42b_ghy2:/workspace', 'docker_image', 'python', '/workspace/this_file.py'], '', 'Traceback (most recent call last):\\n  File \"/workspace/this_file.py\", line 10, in <module>\\n    import quantum_circuits as qcl\\nModuleNotFoundError: No module named \\'quantum_circuits\\'\\n')                                                                                                                                        13\n",
      "CalledProcessError(1, ['docker', 'run', '--rm', '-v', '/tmp/tmp42b_ghy2:/workspace', 'docker_image', 'python', '/workspace/this_file.py'], '', 'Traceback (most recent call last):\\n  File \"/workspace/this_file.py\", line 6, in <module>\\n    import qtm.base, qtm.constant, qtm.ansatz, qtm.fubini_study, qtm.encoding\\nModuleNotFoundError: No module named \\'qtm\\'\\n')                                                                                                           12\n",
      "CalledProcessError(1, ['docker', 'run', '--rm', '-v', '/tmp/tmp42b_ghy2:/workspace', 'docker_image', 'python', '/workspace/this_file.py'], '', 'Traceback (most recent call last):\\n  File \"/workspace/this_file.py\", line 11, in <module>\\n    from qiskit import QuantumCircuit, QuantumRegister, ClassicalRegister, execute, Aer, IBMQ, BasicAer\\nImportError: cannot import name \\'execute\\' from \\'qiskit\\' (/usr/local/lib/python3.10/site-packages/qiskit/__init__.py)\\n')    11\n",
      "CalledProcessError(1, ['docker', 'run', '--rm', '-v', '/tmp/tmp42b_ghy2:/workspace', 'docker_image', 'python', '/workspace/this_file.py'], '', 'Traceback (most recent call last):\\n  File \"/workspace/this_file.py\", line 2, in <module>\\n    from qiskit import Aer\\nImportError: cannot import name \\'Aer\\' from \\'qiskit\\' (/usr/local/lib/python3.10/site-packages/qiskit/__init__.py)\\n')                                                                                      11\n",
      "CalledProcessError(1, ['docker', 'run', '--rm', '-v', '/tmp/tmp42b_ghy2:/workspace', 'docker_image', 'python', '/workspace/this_file.py'], '', 'Traceback (most recent call last):\\n  File \"/workspace/this_file.py\", line 2, in <module>\\n    from qiskit import QuantumRegister, ClassicalRegister, QuantumCircuit, execute, Aer\\nImportError: cannot import name \\'execute\\' from \\'qiskit\\' (/usr/local/lib/python3.10/site-packages/qiskit/__init__.py)\\n')                     10\n",
      "CalledProcessError(1, ['docker', 'run', '--rm', '-v', '/tmp/tmp42b_ghy2:/workspace', 'docker_image', 'python', '/workspace/this_file.py'], '', 'Traceback (most recent call last):\\n  File \"/workspace/this_file.py\", line 9, in <module>\\n    import matplotlib.pyplot as plt\\nModuleNotFoundError: No module named \\'matplotlib\\'\\n')                                                                                                                                              10\n",
      "CalledProcessError(1, ['docker', 'run', '--rm', '-v', '/tmp/tmp42b_ghy2:/workspace', 'docker_image', 'python', '/workspace/this_file.py'], '', 'Traceback (most recent call last):\\n  File \"/workspace/this_file.py\", line 2, in <module>\\n    from qiskit import QuantumCircuit, assemble, Aer\\nImportError: cannot import name \\'Aer\\' from \\'qiskit\\' (/usr/local/lib/python3.10/site-packages/qiskit/__init__.py)\\n')                                                             9\n",
      "CalledProcessError(1, ['docker', 'run', '--rm', '-v', '/tmp/tmp42b_ghy2:/workspace', 'docker_image', 'python', '/workspace/this_file.py'], '', 'Traceback (most recent call last):\\n  File \"/workspace/this_file.py\", line 4, in <module>\\n    from qiskit.providers.aer import QasmSimulator\\nModuleNotFoundError: No module named \\'qiskit.providers.aer\\'\\n')                                                                                                                      9\n",
      "CalledProcessError(1, ['docker', 'run', '--rm', '-v', '/tmp/tmp42b_ghy2:/workspace', 'docker_image', 'python', '/workspace/this_file.py'], '', 'Traceback (most recent call last):\\n  File \"/workspace/this_file.py\", line 8, in <module>\\n    import matplotlib.pyplot as plt\\nModuleNotFoundError: No module named \\'matplotlib\\'\\n')                                                                                                                                               9\n",
      "CalledProcessError(1, ['docker', 'run', '--rm', '-v', '/tmp/tmp42b_ghy2:/workspace', 'docker_image', 'python', '/workspace/this_file.py'], '', 'Traceback (most recent call last):\\n  File \"/workspace/this_file.py\", line 5, in <module>\\n    from qiskit import Aer\\nImportError: cannot import name \\'Aer\\' from \\'qiskit\\' (/usr/local/lib/python3.10/site-packages/qiskit/__init__.py)\\n')                                                                                       9\n",
      "CalledProcessError(1, ['docker', 'run', '--rm', '-v', '/tmp/tmp42b_ghy2:/workspace', 'docker_image', 'python', '/workspace/this_file.py'], '', 'Traceback (most recent call last):\\n  File \"/workspace/this_file.py\", line 10, in <module>\\n    get_ipython().run_line_magic(\\'matplotlib\\', \\'inline\\')\\nNameError: name \\'get_ipython\\' is not defined\\n')                                                                                                                          9\n",
      "Name: count, dtype: int64\n",
      "Stack traces containing 'qiskit': 1225 (61.37%)\n"
     ]
    }
   ],
   "source": [
    "# print some stacktraces\n",
    "top_k = 20\n",
    "print(\"Top {} stacktraces\".format(top_k))\n",
    "print(df[\"stack_trace\"].value_counts().head(top_k))\n",
    "\n",
    "\n",
    "# check if the stack_trace contains \"qiskit\"\n",
    "df[\"contains_qiskit\"] = df.apply(\n",
    "    lambda row: \"qiskit\" in row[\"stack_trace\"].lower(), axis=1)\n",
    "n_stack_traces_with_qiskit = df[\"contains_qiskit\"].sum()\n",
    "perc_stack_traces_with_qiskit = n_stack_traces_with_qiskit / len(df) * 100\n",
    "print(\"Stack traces containing 'qiskit': {} ({:.2f}%)\".format(n_stack_traces_with_qiskit, perc_stack_traces_with_qiskit))\n",
    "\n",
    "\n",
    "def classify_error(message: str) -> Dict[str, Any]:\n",
    "    if \"ModuleNotFoundError\" in message:\n",
    "        return {\n",
    "            \"error_type\": \"ModuleNotFoundError\",\n",
    "            \"detail\": message.split(\"ModuleNotFoundError: \")[1]\n",
    "            }\n",
    "    elif \"NameError\" in message:\n",
    "        if \"get_ipython\" in message:\n",
    "            return {\n",
    "                \"error_type\": \"NameError\",\n",
    "                \"detail\": \"get_ipython\"\n",
    "            }\n",
    "        else:\n",
    "            return {\n",
    "                \"error_type\": \"NameError\",\n",
    "                \"detail\": message.split(\"NameError: \")[1]\n",
    "            }\n",
    "    elif \"SyntaxError\" in message:\n",
    "        return {\n",
    "            \"error_type\": \"SyntaxError\",\n",
    "            \"detail\": message.split(\"SyntaxError: \")[1]\n",
    "        }\n",
    "    elif \"ImportError\" in message:\n",
    "        return {\n",
    "            \"error_type\": \"ImportError\",\n",
    "            \"detail\": message.split(\"ImportError: \")[1]\n",
    "        }\n",
    "    elif \"TypeError\" in message:\n",
    "        return {\n",
    "            \"error_type\": \"TypeError\",\n",
    "            \"detail\": message.split(\"TypeError: \")[1]\n",
    "        }\n",
    "    elif \"MissingOptionalLibraryError\" in message:\n",
    "        return {\n",
    "            \"error_type\": \"MissingOptionalLibraryError\",\n",
    "            \"detail\": message.split(\"MissingOptionalLibraryError: \")[1]\n",
    "        }\n",
    "    elif \"FileNotFoundError\" in message:\n",
    "        return {\n",
    "            \"error_type\": \"FileNotFoundError\",\n",
    "            \"detail\": message.split(\"FileNotFoundError: \")[1]\n",
    "        }\n",
    "    elif \"has no attribute\" in message:\n",
    "        return {\n",
    "            \"error_type\": \"AttributeError\",\n",
    "            \"detail\": message.split(\"<module>\")[1]\n",
    "        }\n",
    "    elif \"IndexError\" in message:\n",
    "        return {\n",
    "            \"error_type\": \"IndexError\",\n",
    "            \"detail\": message.split(\"IndexError: \")[1]\n",
    "        }\n",
    "    elif \"No quantum computing framework available\" in message:\n",
    "        return {\n",
    "            \"error_type\": \"No QC framework\",\n",
    "            \"detail\": message\n",
    "        }\n",
    "    else:\n",
    "        return {\n",
    "            \"error_type\": \"Other\",\n",
    "            \"detail\": message\n",
    "        }\n",
    "\n",
    "# unpack error classification and error detail\n",
    "df[[\"error_classification\", \"error_detail\"]] = df[\"stack_trace\"].apply(\n",
    "    lambda message: pd.Series(classify_error(message)))\n"
   ]
  },
  {
   "cell_type": "code",
   "execution_count": 71,
   "metadata": {},
   "outputs": [
    {
     "data": {
      "image/png": "[encoded data removed]",
      "text/plain": [
       "<Figure size 1000x500 with 1 Axes>"
      ]
     },
     "metadata": {},
     "output_type": "display_data"
    }
   ],
   "source": [
    "# plot the error classification stacked on top of each other cumulatively\n",
    "\n",
    "plt.figure(figsize=(10, 5))\n",
    "sns.histplot(data=df, y=\"error_classification\", hue=\"contains_qiskit\", multiple=\"stack\", shrink=0.8)\n",
    "plt.title(\"Error classification\")\n",
    "plt.show()"
   ]
  },
  {
   "cell_type": "code",
   "execution_count": 72,
   "metadata": {},
   "outputs": [
    {
     "name": "stdout",
     "output_type": "stream",
     "text": [
      "Top 10 error messages classified as 'Other'\n",
      "error_detail\n",
      "CalledProcessError(1, ['docker', 'run', '--rm', '-v', '/tmp/tmp42b_ghy2:/workspace', 'docker_image', 'python', '/workspace/this_file.py'], 'Type your secret natural number : ', 'Traceback (most recent call last):\\n  File \"/workspace/this_file.py\", line 6, in <module>\\n    number = int(input(\"Type your secret natural number : \"))\\nEOFError: EOF when reading a line\\n')                                                                                                   1\n",
      "CalledProcessError(1, ['docker', 'run', '--rm', '-v', '/tmp/tmp42b_ghy2:/workspace', 'docker_image', 'python', '/workspace/this_file.py'], '', 'Traceback (most recent call last):\\n  File \"/workspace/this_file.py\", line 57, in <module>\\n    assert os.environ[\"IBMQE_API\"] != \"PUT_YOUR_API_TOKEN_HERE\", \"QX_API_TOKEN not updated!\"\\nAssertionError: QX_API_TOKEN not updated!\\n')                                                                                             1\n",
      "CalledProcessError(2, ['docker', 'run', '--rm', '-v', '/tmp/tmp42b_ghy2:/workspace', 'docker_image', 'python', '/workspace/this_file.py'], '', 'usage: this_file.py [-h] [-backend BACKEND] [-p P] [-n N]\\n                            [-length LENGTH] [-k K [K ...]] [-shots SHOTS]\\n                            [-verbose]\\n                            {single,optimized} {rz,ry}\\nthis_file.py: error: the following arguments are required: implementation, experiment\\n')    1\n",
      "Name: count, dtype: int64\n"
     ]
    }
   ],
   "source": [
    "# pint those with errror_classification other\n",
    "print(\"Top 10 error messages classified as 'Other'\")\n",
    "print(df[df[\"error_classification\"] == \"Other\"][\"error_detail\"].value_counts().head(20))"
   ]
  },
  {
   "cell_type": "code",
   "execution_count": null,
   "metadata": {},
   "outputs": [],
   "source": []
  }
 ],
 "metadata": {
  "kernelspec": {
   "display_name": "crosspl",
   "language": "python",
   "name": "python3"
  },
  "language_info": {
   "codemirror_mode": {
    "name": "ipython",
    "version": 3
   },
   "file_extension": ".py",
   "mimetype": "text/x-python",
   "name": "python",
   "nbconvert_exporter": "python",
   "pygments_lexer": "ipython3",
   "version": "3.10.14"
  }
 },
 "nbformat": 4,
 "nbformat_minor": 2
}
