{
 "cells": [
  {
   "cell_type": "code",
   "execution_count": 2,
   "metadata": {},
   "outputs": [],
   "source": [
    "import os\n",
    "import sys\n",
    "import json\n",
    "from pathlib import Path\n",
    "import shutil\n",
    "\n",
    "import pandas as pd\n",
    "import numpy as np\n",
    "import matplotlib.pyplot as plt\n",
    "import seaborn as sns\n",
    "\n",
    "from typing import List, Tuple, Dict, Any, Optional\n",
    "\n",
    "import sys\n",
    "sys.path.append(\"..\")"
   ]
  },
  {
   "cell_type": "code",
   "execution_count": 3,
   "metadata": {
    "tags": [
     "parameters"
    ]
   },
   "outputs": [],
   "source": [
    "PATH_ROOT_DIR: str = \"..\"\n",
    "\n",
    "INFO_TO_USE_FOR_CLUSTERING: List[str] = [\n",
    "    'exception_message', 'essential_file_content']\n",
    "\n",
    "PCA_COMPONENTS: int = 3\n",
    "\n",
    "AI_MODEL: str = \"llama-3.1-70b-versatile\"  # or \"gpt-4o-mini\"\n",
    "\n",
    "N_POSITIVE_EXAMPLES_TO_SHOW_LLM: int = 5\n",
    "\n",
    "# Test run\n",
    "# DIR_PROGRAM_BANK = os.path.join(\"..\", \"program_bank\", \"v001\", \"2024_10_04__14_48__qiskit\")\n",
    "# Run with 10k programs: v001.yaml\n",
    "# program_bank/v001/2024_10_04__15_10__qiskit\n",
    "# DIR_PROGRAM_BANK = os.path.join(\"..\", \"program_bank\", \"v001\", \"2024_10_04__15_10__qiskit\")\n",
    "# program_bank/v002/2024_10_07__17_03__qiskit\n",
    "# DIR_PROGRAM_BANK: str = os.path.join(\n",
    "#     \"..\", \"program_bank\", \"v004\", \"2024_10_18__16_09__qiskit\")\n",
    "\n",
    "# DIR_SAMPLE_ERRORS: str = os.path.join(\n",
    "#     \"..\", \"program_bank\", \"v004\", \"2024_10_18__16_09__sample_errors\")\n",
    "\n",
    "\n",
    "# DIR_PROGRAM_BANK: str = os.path.join(\n",
    "#     \"..\", \"program_bank\", \"v005\", \"2024_10_22__14_17__qiskit\")\n",
    "# DIR_SAMPLE_ERRORS: str = os.path.join(\n",
    "#     \"..\", \"program_bank\", \"v005\", \"2024_10_22__14_17__sample_errors\")\n",
    "\n",
    "# inspected folders\n",
    "# program_bank/v005/2024_10_22__22_32__qiskit\n",
    "# program_bank/v007/2024_10_31__17_51__qiskit\n",
    "# program_bank/v008/2024_11_07__15_05__qiskit\n",
    "# program_bank/v009/2024_11_20__13_42__qiskit\n",
    "# program_bank/v012/2024_12_16__23_03__qiskit\n",
    "# program_bank/v014/2024_12_27__00_01__qiskit\n",
    "# program_bank/v022/2025_01_23__12_48__qiskit\n",
    "DIR_PROGRAM_BANK: str = os.path.join(\n",
    "    \"..\", \"program_bank\", \"v022\", \"2025_01_23__12_48__qiskit\")\n",
    "DIR_SAMPLE_ERRORS: str = os.path.join(\n",
    "    \"..\", \"program_bank\", \"v022\", \"2025_01_23__12_48__sample_errors\")\n",
    "\n",
    "\n",
    "PROMPT_CONTENT: str = \"BOTH_ERROR_AND_PROGRAM\""
   ]
  },
  {
   "cell_type": "code",
   "execution_count": 4,
   "metadata": {},
   "outputs": [
    {
     "name": "stdout",
     "output_type": "stream",
     "text": [
      "Current folder: /home/paltenmo/projects/crossplatform/notebooks\n",
      "PATH_ROOT_DIR: ..\n",
      "INFO_TO_USE_FOR_CLUSTERING: ['exception_message', 'essential_file_content']\n",
      "PCA_COMPONENTS: 3\n",
      "AI_MODEL: llama-3.1-70b-versatile\n",
      "N_POSITIVE_EXAMPLES_TO_SHOW_LLM: 5\n",
      "DIR_PROGRAM_BANK: ../program_bank/v022/2025_01_23__12_48__qiskit\n",
      "DIR_SAMPLE_ERRORS: ../program_bank/v022/2025_01_23__12_48__sample_errors\n",
      "PROMPT_CONTENT: BOTH_ERROR_AND_PROGRAM\n"
     ]
    }
   ],
   "source": [
    "# print the current folder\n",
    "print(f\"Current folder: {os.getcwd()}\")\n",
    "\n",
    "all_global_vars = dict(globals().copy())\n",
    "# print all global variables\n",
    "for k, v in all_global_vars.items():\n",
    "    if k.isupper():\n",
    "        print(f\"{k}: {v}\")"
   ]
  },
  {
   "cell_type": "code",
   "execution_count": 5,
   "metadata": {},
   "outputs": [],
   "source": [
    "import openai\n",
    "import groq\n",
    "PATH_GROQ_TOKEN = os.path.join(PATH_ROOT_DIR, \"groq_token.txt\")\n",
    "GROQ_TOKEN = Path(PATH_GROQ_TOKEN).read_text().strip()\n",
    "\n",
    "# Export the GROQ_TOKEN as GROQ_API_KEY\n",
    "os.environ['GROQ_API_KEY'] = GROQ_TOKEN\n",
    "\n",
    "PATH_OPENAI_API_KEY = os.path.join(PATH_ROOT_DIR, \"openai_token.txt\")\n",
    "OPENAI_API_KEY = Path(PATH_OPENAI_API_KEY).read_text().strip()\n",
    "\n",
    "os.environ['OPENAI_API_KEY'] = OPENAI_API_KEY"
   ]
  },
  {
   "cell_type": "code",
   "execution_count": 6,
   "metadata": {},
   "outputs": [
    {
     "name": "stdout",
     "output_type": "stream",
     "text": [
      "Number of generated programs: 9026\n",
      "Number of errors: 110739\n"
     ]
    }
   ],
   "source": [
    "# count generated programs in the program bank\n",
    "count_generated_programs = len(list(Path(DIR_PROGRAM_BANK).rglob(\"*.py\")))\n",
    "print(f\"Number of generated programs: {count_generated_programs}\")\n",
    "\n",
    "# count the number of errors\n",
    "count_errors = len(list(Path(DIR_PROGRAM_BANK).rglob(\"*_error.json\")))\n",
    "print(f\"Number of errors: {count_errors}\")"
   ]
  },
  {
   "cell_type": "markdown",
   "metadata": {},
   "source": [
    "## Read Files"
   ]
  },
  {
   "cell_type": "code",
   "execution_count": 7,
   "metadata": {},
   "outputs": [
    {
     "name": "stdout",
     "output_type": "stream",
     "text": [
      "Number of errors: 110739\n"
     ]
    }
   ],
   "source": [
    "from multiprocessing import Pool\n",
    "import re\n",
    "\n",
    "\n",
    "def read_json_file(file_path: str) -> Dict[str, Any]:\n",
    "    with open(file_path, 'r') as file:\n",
    "        data = json.load(file)\n",
    "        data[\"error_file\"] = os.path.basename(file_path)\n",
    "        return data\n",
    "\n",
    "\n",
    "def read_all_programs(dir_path: str) -> pd.DataFrame:\n",
    "    json_files = [os.path.join(dir_path, f) for f in os.listdir(\n",
    "        dir_path) if re.match(r'.*_error\\.json$', f)]\n",
    "    records = []\n",
    "\n",
    "    with Pool() as pool:\n",
    "        results = pool.map(read_json_file, json_files)\n",
    "        records.extend(results)\n",
    "\n",
    "    return pd.DataFrame(records)\n",
    "\n",
    "\n",
    "# Use the function to read all programs\n",
    "df_errors = read_all_programs(DIR_PROGRAM_BANK)\n",
    "\n",
    "# augment the dataframe with the proram content\n",
    "\n",
    "\n",
    "def read_file_content(file_name: str) -> str:\n",
    "    file_path = os.path.join(DIR_PROGRAM_BANK, file_name)\n",
    "    with open(file_path, 'r') as file:\n",
    "        return file.read()\n",
    "\n",
    "\n",
    "# Use parallel apply to read the file content\n",
    "with Pool() as pool:\n",
    "    df_errors['file_content'] = pool.map(\n",
    "        read_file_content, df_errors['current_file'])\n",
    "\n",
    "# Alternatively, you can use apply without parallel processing\n",
    "# df_errors['file_content'] = df_errors['current_file'].apply(read_file_content)\n",
    "\n",
    "df_errors.head()\n",
    "n_errors = len(df_errors)\n",
    "print(f\"Number of errors: {n_errors}\")\n",
    "\n",
    "\n",
    "# HELPER FUNCTIONS\n",
    "\n",
    "\n",
    "def get_corresponding_program_file(path_error_file: str) -> str:\n",
    "    # remove the fixed length prefix \"_ba6b02_error.json\"\n",
    "    return path_error_file[:-18] + \".py\"\n",
    "\n",
    "\n",
    "def copy_errors_to_sample_folder(\n",
    "        sample_errors_paths: List[str],\n",
    "        dir_sample_errors: str):\n",
    "    os.makedirs(dir_sample_errors, exist_ok=True)\n",
    "    for file_path in sample_errors_paths:\n",
    "        shutil.copy(file_path, dir_sample_errors)\n",
    "        print(f\"Copying {file_path} to {dir_sample_errors}\")\n",
    "        corresponding_program_file = get_corresponding_program_file(file_path)\n",
    "        shutil.copy(corresponding_program_file, dir_sample_errors)\n",
    "        print(f\"Copying {corresponding_program_file} to {dir_sample_errors}\")"
   ]
  },
  {
   "cell_type": "markdown",
   "metadata": {},
   "source": [
    "## Explore the error messages"
   ]
  },
  {
   "cell_type": "markdown",
   "metadata": {},
   "source": [
    "# Exclude Pennylane (errors)"
   ]
  },
  {
   "cell_type": "code",
   "execution_count": 10,
   "metadata": {},
   "outputs": [
    {
     "name": "stdout",
     "output_type": "stream",
     "text": [
      "Number of errors without PennyLane: 8220\n"
     ]
    }
   ],
   "source": [
    "df_errors['involved_functions'] = df_errors['involved_functions'].astype(\n",
    "    str)\n",
    "df_errors = df_errors[\n",
    "    ~df_errors['involved_functions'].str.contains('pennylane')]\n",
    "n_errors = len(df_errors)\n",
    "print(f\"Number of errors without PennyLane: {n_errors}\")"
   ]
  },
  {
   "cell_type": "markdown",
   "metadata": {},
   "source": [
    "# Minimize Sample"
   ]
  },
  {
   "cell_type": "code",
   "execution_count": null,
   "metadata": {},
   "outputs": [
    {
     "name": "stdout",
     "output_type": "stream",
     "text": [
      "Copying ../program_bank/v009/2024_11_20__13_42__qiskit/qiskit_circuit_5q_10g_1511_600fe6_0353c4_error.json to ../program_bank/v009/2024_11_20__13_42__sample_errors_no_pennylane\n",
      "Copying ../program_bank/v009/2024_11_20__13_42__qiskit/qiskit_circuit_5q_10g_1511_600fe6.py to ../program_bank/v009/2024_11_20__13_42__sample_errors_no_pennylane\n",
      "Copying ../program_bank/v009/2024_11_20__13_42__qiskit/qiskit_circuit_5q_10g_5923_1fb05d_394db9_error.json to ../program_bank/v009/2024_11_20__13_42__sample_errors_no_pennylane\n",
      "Copying ../program_bank/v009/2024_11_20__13_42__qiskit/qiskit_circuit_5q_10g_5923_1fb05d.py to ../program_bank/v009/2024_11_20__13_42__sample_errors_no_pennylane\n",
      "Copying ../program_bank/v009/2024_11_20__13_42__qiskit/qiskit_circuit_5q_10g_5585_30abba_76b749_error.json to ../program_bank/v009/2024_11_20__13_42__sample_errors_no_pennylane\n",
      "Copying ../program_bank/v009/2024_11_20__13_42__qiskit/qiskit_circuit_5q_10g_5585_30abba.py to ../program_bank/v009/2024_11_20__13_42__sample_errors_no_pennylane\n",
      "Copying ../program_bank/v009/2024_11_20__13_42__qiskit/qiskit_circuit_5q_10g_5722_074956_37938c_error.json to ../program_bank/v009/2024_11_20__13_42__sample_errors_no_pennylane\n",
      "Copying ../program_bank/v009/2024_11_20__13_42__qiskit/qiskit_circuit_5q_10g_5722_074956.py to ../program_bank/v009/2024_11_20__13_42__sample_errors_no_pennylane\n",
      "Copying ../program_bank/v009/2024_11_20__13_42__qiskit/qiskit_circuit_5q_10g_2151_e092a7_ad5f21_error.json to ../program_bank/v009/2024_11_20__13_42__sample_errors_no_pennylane\n",
      "Copying ../program_bank/v009/2024_11_20__13_42__qiskit/qiskit_circuit_5q_10g_2151_e092a7.py to ../program_bank/v009/2024_11_20__13_42__sample_errors_no_pennylane\n",
      "Copying ../program_bank/v009/2024_11_20__13_42__qiskit/qiskit_circuit_5q_10g_5608_214aee_3d00e0_error.json to ../program_bank/v009/2024_11_20__13_42__sample_errors_no_pennylane\n",
      "Copying ../program_bank/v009/2024_11_20__13_42__qiskit/qiskit_circuit_5q_10g_5608_214aee.py to ../program_bank/v009/2024_11_20__13_42__sample_errors_no_pennylane\n",
      "Copying ../program_bank/v009/2024_11_20__13_42__qiskit/qiskit_circuit_5q_10g_976_54c509_045d23_error.json to ../program_bank/v009/2024_11_20__13_42__sample_errors_no_pennylane\n",
      "Copying ../program_bank/v009/2024_11_20__13_42__qiskit/qiskit_circuit_5q_10g_976_54c509.py to ../program_bank/v009/2024_11_20__13_42__sample_errors_no_pennylane\n",
      "Copying ../program_bank/v009/2024_11_20__13_42__qiskit/qiskit_circuit_5q_10g_5745_884e27_157b8a_error.json to ../program_bank/v009/2024_11_20__13_42__sample_errors_no_pennylane\n",
      "Copying ../program_bank/v009/2024_11_20__13_42__qiskit/qiskit_circuit_5q_10g_5745_884e27.py to ../program_bank/v009/2024_11_20__13_42__sample_errors_no_pennylane\n",
      "Copying ../program_bank/v009/2024_11_20__13_42__qiskit/qiskit_circuit_5q_10g_1009_f72144_e4d6f6_error.json to ../program_bank/v009/2024_11_20__13_42__sample_errors_no_pennylane\n",
      "Copying ../program_bank/v009/2024_11_20__13_42__qiskit/qiskit_circuit_5q_10g_1009_f72144.py to ../program_bank/v009/2024_11_20__13_42__sample_errors_no_pennylane\n",
      "Copying ../program_bank/v009/2024_11_20__13_42__qiskit/qiskit_circuit_5q_10g_5266_525689_f43fd2_error.json to ../program_bank/v009/2024_11_20__13_42__sample_errors_no_pennylane\n",
      "Copying ../program_bank/v009/2024_11_20__13_42__qiskit/qiskit_circuit_5q_10g_5266_525689.py to ../program_bank/v009/2024_11_20__13_42__sample_errors_no_pennylane\n"
     ]
    }
   ],
   "source": [
    "\n",
    "# keep only errors with `The circuits are not equivalent` in the exception message\n",
    "df_errors = df_errors[df_errors['exception_message'].str.contains(\n",
    "    'The circuits are not equivalent')]\n",
    "\n",
    "\n",
    "SAMPLE_SIZE = 10\n",
    "actual_sample_size = min(SAMPLE_SIZE, len(df_errors))\n",
    "\n",
    "\n",
    "# pick a sample of error files\n",
    "sample_errors = df_errors.sample(actual_sample_size, random_state=42)\n",
    "\n",
    "# get the paths of the error files\n",
    "sample_errors_paths = [os.path.join(\n",
    "    DIR_PROGRAM_BANK, f) for f in sample_errors['error_file']]\n",
    "\n",
    "\n",
    "copy_errors_to_sample_folder(sample_errors_paths, DIR_SAMPLE_ERRORS)"
   ]
  },
  {
   "cell_type": "code",
   "execution_count": 11,
   "metadata": {},
   "outputs": [
    {
     "data": {
      "text/plain": [
       "12723    The circuits are not equivalent: /workspace/qi...\n",
       "693      The circuits are not equivalent: /workspace/qi...\n",
       "10624    The circuits are not equivalent: /workspace/qi...\n",
       "3913     The circuits are not equivalent: /workspace/qi...\n",
       "5149     The circuits are not equivalent: /workspace/qi...\n",
       "11150    The circuits are not equivalent: /workspace/qi...\n",
       "842      The circuits are not equivalent: /workspace/qi...\n",
       "10721    The circuits are not equivalent: /workspace/qi...\n",
       "11223    The circuits are not equivalent: /workspace/qi...\n",
       "11601    The circuits are not equivalent: /workspace/qi...\n",
       "Name: exception_message, dtype: object"
      ]
     },
     "execution_count": 11,
     "metadata": {},
     "output_type": "execute_result"
    }
   ],
   "source": [
    "# get the content of their error messages\n",
    "sample_errors['exception_message']"
   ]
  },
  {
   "cell_type": "code",
   "execution_count": 30,
   "metadata": {},
   "outputs": [],
   "source": [
    "import sys\n",
    "sys.path.append(\"..\")"
   ]
  },
  {
   "cell_type": "markdown",
   "metadata": {},
   "source": [
    "## Triage All Files \n",
    "Including:\n",
    "1. minimization\n",
    "2. rerunning the code\n",
    "3. running the analysis notebook"
   ]
  },
  {
   "cell_type": "code",
   "execution_count": 13,
   "metadata": {},
   "outputs": [],
   "source": [
    "%load_ext autoreload\n",
    "%autoreload 2"
   ]
  },
  {
   "cell_type": "code",
   "execution_count": 15,
   "metadata": {},
   "outputs": [
    {
     "name": "stdout",
     "output_type": "stream",
     "text": [
      "Error paths in sample folder (10):\n",
      "../program_bank/v009/2024_11_20__13_42__sample_errors_no_pennylane/qiskit_circuit_5q_10g_4342_faa083_a812bf_error.json\n",
      "../program_bank/v009/2024_11_20__13_42__sample_errors_no_pennylane/qiskit_circuit_5q_10g_6316_146402_6a36f0_error.json\n",
      "../program_bank/v009/2024_11_20__13_42__sample_errors_no_pennylane/qiskit_circuit_5q_10g_6533_f0b204_dbc69c_error.json\n",
      "../program_bank/v009/2024_11_20__13_42__sample_errors_no_pennylane/qiskit_circuit_5q_10g_4756_28bbeb_444f6d_error.json\n",
      "../program_bank/v009/2024_11_20__13_42__sample_errors_no_pennylane/qiskit_circuit_5q_10g_144_2ca34b_7b044a_error.json\n",
      "../program_bank/v009/2024_11_20__13_42__sample_errors_no_pennylane/qiskit_circuit_5q_10g_680_6d896d_1fd766_error.json\n",
      "../program_bank/v009/2024_11_20__13_42__sample_errors_no_pennylane/qiskit_circuit_5q_10g_5399_c4b732_f59bef_error.json\n",
      "../program_bank/v009/2024_11_20__13_42__sample_errors_no_pennylane/qiskit_circuit_5q_10g_609_0c26d1_ee02f4_error.json\n",
      "../program_bank/v009/2024_11_20__13_42__sample_errors_no_pennylane/qiskit_circuit_5q_10g_650_4493c8_a271e3_error.json\n",
      "../program_bank/v009/2024_11_20__13_42__sample_errors_no_pennylane/qiskit_circuit_5q_10g_2997_458c2e_f885b3_error.json\n"
     ]
    },
    {
     "data": {
      "text/html": [
       "<pre style=\"white-space:pre;overflow-x:auto;line-height:normal;font-family:Menlo,'DejaVu Sans Mono',consolas,'Courier New',monospace\"><span style=\"color: #7fbfbf; text-decoration-color: #7fbfbf\">[14:49:51] </span>Created report folder: ..<span style=\"color: #800080; text-decoration-color: #800080\">/reports/v009/</span><span style=\"color: #ff00ff; text-decoration-color: #ff00ff\">2024_11_21__14_49</span>                                   <a href=\"file:///home/paltenmo/projects/crossplatform/analysis_and_reporting/triage.py\" target=\"_blank\"><span style=\"color: #7f7f7f; text-decoration-color: #7f7f7f\">triage.py</span></a><span style=\"color: #7f7f7f; text-decoration-color: #7f7f7f\">:</span><a href=\"file:///home/paltenmo/projects/crossplatform/analysis_and_reporting/triage.py#131\" target=\"_blank\"><span style=\"color: #7f7f7f; text-decoration-color: #7f7f7f\">131</span></a>\n",
       "</pre>\n"
      ],
      "text/plain": [
       "\u001b[2;36m[14:49:51]\u001b[0m\u001b[2;36m \u001b[0mCreated report folder: ..\u001b[35m/reports/v009/\u001b[0m\u001b[95m2024_11_21__14_49\u001b[0m                                   \u001b]8;id=600267;file:///home/paltenmo/projects/crossplatform/analysis_and_reporting/triage.py\u001b\\\u001b[2mtriage.py\u001b[0m\u001b]8;;\u001b\\\u001b[2m:\u001b[0m\u001b]8;id=821025;file:///home/paltenmo/projects/crossplatform/analysis_and_reporting/triage.py#131\u001b\\\u001b[2m131\u001b[0m\u001b]8;;\u001b\\\n"
      ]
     },
     "metadata": {},
     "output_type": "display_data"
    },
    {
     "data": {
      "text/html": [
       "<pre style=\"white-space:pre;overflow-x:auto;line-height:normal;font-family:Menlo,'DejaVu Sans Mono',consolas,'Courier New',monospace\"><span style=\"color: #7fbfbf; text-decoration-color: #7fbfbf\">           </span>Copied files to: ..<span style=\"color: #800080; text-decoration-color: #800080\">/reports/v009/</span><span style=\"color: #ff00ff; text-decoration-color: #ff00ff\">2024_11_21__14_49</span>                                         <a href=\"file:///home/paltenmo/projects/crossplatform/analysis_and_reporting/triage.py\" target=\"_blank\"><span style=\"color: #7f7f7f; text-decoration-color: #7f7f7f\">triage.py</span></a><span style=\"color: #7f7f7f; text-decoration-color: #7f7f7f\">:</span><a href=\"file:///home/paltenmo/projects/crossplatform/analysis_and_reporting/triage.py#140\" target=\"_blank\"><span style=\"color: #7f7f7f; text-decoration-color: #7f7f7f\">140</span></a>\n",
       "</pre>\n"
      ],
      "text/plain": [
       "\u001b[2;36m          \u001b[0m\u001b[2;36m \u001b[0mCopied files to: ..\u001b[35m/reports/v009/\u001b[0m\u001b[95m2024_11_21__14_49\u001b[0m                                         \u001b]8;id=566959;file:///home/paltenmo/projects/crossplatform/analysis_and_reporting/triage.py\u001b\\\u001b[2mtriage.py\u001b[0m\u001b]8;;\u001b\\\u001b[2m:\u001b[0m\u001b]8;id=440829;file:///home/paltenmo/projects/crossplatform/analysis_and_reporting/triage.py#140\u001b\\\u001b[2m140\u001b[0m\u001b]8;;\u001b\\\n"
      ]
     },
     "metadata": {},
     "output_type": "display_data"
    },
    {
     "data": {
      "text/html": [
       "<pre style=\"white-space:pre;overflow-x:auto;line-height:normal;font-family:Menlo,'DejaVu Sans Mono',consolas,'Courier New',monospace\"><span style=\"color: #7fbfbf; text-decoration-color: #7fbfbf\">[14:49:51] </span>Involved functions:                                                             <a href=\"file:///home/paltenmo/projects/crossplatform/analysis_and_reporting/ddmin_target_file.py\" target=\"_blank\"><span style=\"color: #7f7f7f; text-decoration-color: #7f7f7f\">ddmin_target_file.py</span></a><span style=\"color: #7f7f7f; text-decoration-color: #7f7f7f\">:</span><a href=\"file:///home/paltenmo/projects/crossplatform/analysis_and_reporting/ddmin_target_file.py#206\" target=\"_blank\"><span style=\"color: #7f7f7f; text-decoration-color: #7f7f7f\">206</span></a>\n",
       "</pre>\n"
      ],
      "text/plain": [
       "\u001b[2;36m[14:49:51]\u001b[0m\u001b[2;36m \u001b[0mInvolved functions:                                                             \u001b]8;id=234626;file:///home/paltenmo/projects/crossplatform/analysis_and_reporting/ddmin_target_file.py\u001b\\\u001b[2mddmin_target_file.py\u001b[0m\u001b]8;;\u001b\\\u001b[2m:\u001b[0m\u001b]8;id=101226;file:///home/paltenmo/projects/crossplatform/analysis_and_reporting/ddmin_target_file.py#206\u001b\\\u001b[2m206\u001b[0m\u001b]8;;\u001b\\\n"
      ]
     },
     "metadata": {},
     "output_type": "display_data"
    },
    {
     "data": {
      "text/html": [
       "<pre style=\"white-space:pre;overflow-x:auto;line-height:normal;font-family:Menlo,'DejaVu Sans Mono',consolas,'Courier New',monospace\"><span style=\"color: #7fbfbf; text-decoration-color: #7fbfbf\">           </span>  - compare_qasm_via_qcec                                                       <a href=\"file:///home/paltenmo/projects/crossplatform/analysis_and_reporting/ddmin_target_file.py\" target=\"_blank\"><span style=\"color: #7f7f7f; text-decoration-color: #7f7f7f\">ddmin_target_file.py</span></a><span style=\"color: #7f7f7f; text-decoration-color: #7f7f7f\">:</span><a href=\"file:///home/paltenmo/projects/crossplatform/analysis_and_reporting/ddmin_target_file.py#208\" target=\"_blank\"><span style=\"color: #7f7f7f; text-decoration-color: #7f7f7f\">208</span></a>\n",
       "</pre>\n"
      ],
      "text/plain": [
       "\u001b[2;36m          \u001b[0m\u001b[2;36m \u001b[0m  - compare_qasm_via_qcec                                                       \u001b]8;id=317805;file:///home/paltenmo/projects/crossplatform/analysis_and_reporting/ddmin_target_file.py\u001b\\\u001b[2mddmin_target_file.py\u001b[0m\u001b]8;;\u001b\\\u001b[2m:\u001b[0m\u001b]8;id=556817;file:///home/paltenmo/projects/crossplatform/analysis_and_reporting/ddmin_target_file.py#208\u001b\\\u001b[2m208\u001b[0m\u001b]8;;\u001b\\\n"
      ]
     },
     "metadata": {},
     "output_type": "display_data"
    },
    {
     "data": {
      "text/html": [
       "<pre style=\"white-space:pre;overflow-x:auto;line-height:normal;font-family:Menlo,'DejaVu Sans Mono',consolas,'Courier New',monospace\"><span style=\"color: #7fbfbf; text-decoration-color: #7fbfbf\">           </span>  - export_to_qasm_with_pytket                                                  <a href=\"file:///home/paltenmo/projects/crossplatform/analysis_and_reporting/ddmin_target_file.py\" target=\"_blank\"><span style=\"color: #7f7f7f; text-decoration-color: #7f7f7f\">ddmin_target_file.py</span></a><span style=\"color: #7f7f7f; text-decoration-color: #7f7f7f\">:</span><a href=\"file:///home/paltenmo/projects/crossplatform/analysis_and_reporting/ddmin_target_file.py#208\" target=\"_blank\"><span style=\"color: #7f7f7f; text-decoration-color: #7f7f7f\">208</span></a>\n",
       "</pre>\n"
      ],
      "text/plain": [
       "\u001b[2;36m          \u001b[0m\u001b[2;36m \u001b[0m  - export_to_qasm_with_pytket                                                  \u001b]8;id=139734;file:///home/paltenmo/projects/crossplatform/analysis_and_reporting/ddmin_target_file.py\u001b\\\u001b[2mddmin_target_file.py\u001b[0m\u001b]8;;\u001b\\\u001b[2m:\u001b[0m\u001b]8;id=129989;file:///home/paltenmo/projects/crossplatform/analysis_and_reporting/ddmin_target_file.py#208\u001b\\\u001b[2m208\u001b[0m\u001b]8;;\u001b\\\n"
      ]
     },
     "metadata": {},
     "output_type": "display_data"
    },
    {
     "data": {
      "text/html": [
       "<pre style=\"white-space:pre;overflow-x:auto;line-height:normal;font-family:Menlo,'DejaVu Sans Mono',consolas,'Courier New',monospace\"><span style=\"color: #7fbfbf; text-decoration-color: #7fbfbf\">           </span>  - export_to_qasm_with_qiskit                                                  <a href=\"file:///home/paltenmo/projects/crossplatform/analysis_and_reporting/ddmin_target_file.py\" target=\"_blank\"><span style=\"color: #7f7f7f; text-decoration-color: #7f7f7f\">ddmin_target_file.py</span></a><span style=\"color: #7f7f7f; text-decoration-color: #7f7f7f\">:</span><a href=\"file:///home/paltenmo/projects/crossplatform/analysis_and_reporting/ddmin_target_file.py#208\" target=\"_blank\"><span style=\"color: #7f7f7f; text-decoration-color: #7f7f7f\">208</span></a>\n",
       "</pre>\n"
      ],
      "text/plain": [
       "\u001b[2;36m          \u001b[0m\u001b[2;36m \u001b[0m  - export_to_qasm_with_qiskit                                                  \u001b]8;id=515191;file:///home/paltenmo/projects/crossplatform/analysis_and_reporting/ddmin_target_file.py\u001b\\\u001b[2mddmin_target_file.py\u001b[0m\u001b]8;;\u001b\\\u001b[2m:\u001b[0m\u001b]8;id=857541;file:///home/paltenmo/projects/crossplatform/analysis_and_reporting/ddmin_target_file.py#208\u001b\\\u001b[2m208\u001b[0m\u001b]8;;\u001b\\\n"
      ]
     },
     "metadata": {},
     "output_type": "display_data"
    },
    {
     "name": "stdout",
     "output_type": "stream",
     "text": [
      "Error parsing: Command 'python /workspace/to_execute.py' in image 'qiskit_runner' returned non-zero exit status 1: b'Traceback (most recent call last):\\n  File \"/workspace/to_execute.py\", line 105, in <module>\\n    target_qc = qc\\nNameError: name \\'qc\\' is not defined\\n'\n",
      "Failed to execute to_execute.py in Docker.\n",
      "Output: Saved the Pytket circuit to /workspace/to_execute_qc_pytket.qasm\n",
      "Saved the Qiskit circuit to /workspace/to_execute_qc_qiskit.qasm\n",
      "Exported QASM files: [('/workspace/to_execute_qc_pytket.qasm', 'export_to_qasm_with_pytket'), ('/workspace/to_execute_qc_qiskit.qasm', 'export_to_qasm_with_qiskit')]\n",
      "Log has been saved to /workspace/to_execute_cb5d12_error.json\n",
      "\n",
      "Program to_execute.py executed successfully.\n",
      "New exception message: The circuits are not equivalent: /workspace/to_execute_qc_pytket.qasm, /workspace/to_execute_qc_qiskit.qasm\n",
      "Error parsing: Command 'python /workspace/to_execute.py' in image 'qiskit_runner' returned non-zero exit status 1: b'  File \"/workspace/to_execute.py\", line 18\\n    , custom_instructions=qasm2.LEGACY_CUSTOM_INSTRUCTIONS)\\n                                                          ^\\nSyntaxError: unmatched \\')\\'\\n'\n",
      "Failed to execute to_execute.py in Docker.\n",
      "Error parsing: Command 'python /workspace/to_execute.py' in image 'qiskit_runner' returned non-zero exit status 1: b'  File \"/workspace/to_execute.py\", line 10\\n    qc = qasm2.loads(\\n                    ^\\nSyntaxError: \\'(\\' was never closed\\n'\n",
      "Failed to execute to_execute.py in Docker.\n",
      "Error parsing: Command 'python /workspace/to_execute.py' in image 'qiskit_runner' returned non-zero exit status 1: b'  File \"/workspace/to_execute.py\", line 24\\n    , custom_instructions=qasm2.LEGACY_CUSTOM_INSTRUCTIONS)\\n                                                          ^\\nSyntaxError: unmatched \\')\\'\\n'\n",
      "Failed to execute to_execute.py in Docker.\n",
      "Error parsing: Command 'python /workspace/to_execute.py' in image 'qiskit_runner' returned non-zero exit status 1: b'Traceback (most recent call last):\\n  File \"/workspace/to_execute.py\", line 10, in <module>\\n    qc = qasm2.loads(\\n  File \"/usr/local/lib/python3.10/site-packages/qiskit/qasm2/__init__.py\", line 587, in loads\\n    return _parse.from_bytecode(\\n  File \"/usr/local/lib/python3.10/site-packages/qiskit/qasm2/parse.py\", line 214, in from_bytecode\\n    for op in bc:\\nqiskit.qasm2.exceptions.QASM2ParseError: \"<input>:4,2: \\'reg_2_q\\' is not defined in this scope\"\\n'\n",
      "Failed to execute to_execute.py in Docker.\n",
      "Output: Saved the Pytket circuit to /workspace/to_execute_qc_pytket.qasm\n",
      "Saved the Qiskit circuit to /workspace/to_execute_qc_qiskit.qasm\n",
      "Exported QASM files: [('/workspace/to_execute_qc_pytket.qasm', 'export_to_qasm_with_pytket'), ('/workspace/to_execute_qc_qiskit.qasm', 'export_to_qasm_with_qiskit')]\n",
      "Log has been saved to /workspace/to_execute_f78446_error.json\n",
      "\n",
      "Program to_execute.py executed successfully.\n",
      "New exception message: The circuits are not equivalent: /workspace/to_execute_qc_pytket.qasm, /workspace/to_execute_qc_qiskit.qasm\n",
      "Error parsing: Command 'python /workspace/to_execute.py' in image 'qiskit_runner' returned non-zero exit status 1: b'  File \"/workspace/to_execute.py\", line 18\\n    , custom_instructions=qasm2.LEGACY_CUSTOM_INSTRUCTIONS)\\n                                                          ^\\nSyntaxError: unmatched \\')\\'\\n'\n",
      "Failed to execute to_execute.py in Docker.\n",
      "Error parsing: Command 'python /workspace/to_execute.py' in image 'qiskit_runner' returned non-zero exit status 1: b'Traceback (most recent call last):\\n  File \"/workspace/to_execute.py\", line 10, in <module>\\n    qc = qasm2.loads(\\n  File \"/usr/local/lib/python3.10/site-packages/qiskit/qasm2/__init__.py\", line 587, in loads\\n    return _parse.from_bytecode(\\n  File \"/usr/local/lib/python3.10/site-packages/qiskit/qasm2/parse.py\", line 214, in from_bytecode\\n    for op in bc:\\nqiskit.qasm2.exceptions.QASM2ParseError: \"<input>:4,2: \\'reg_2_q\\' is not defined in this scope\"\\n'\n",
      "Failed to execute to_execute.py in Docker.\n",
      "Error parsing: Command 'python /workspace/to_execute.py' in image 'qiskit_runner' returned non-zero exit status 1: b'  File \"/workspace/to_execute.py\", line 10\\n    qc = qasm2.loads(\\n                    ^\\nSyntaxError: \\'(\\' was never closed\\n'\n",
      "Failed to execute to_execute.py in Docker.\n",
      "Error parsing: Command 'python /workspace/to_execute.py' in image 'qiskit_runner' returned non-zero exit status 1: b'  File \"/workspace/to_execute.py\", line 20\\n    , custom_instructions=qasm2.LEGACY_CUSTOM_INSTRUCTIONS)\\n                                                          ^\\nSyntaxError: unmatched \\')\\'\\n'\n",
      "Failed to execute to_execute.py in Docker.\n",
      "Error parsing: Command 'python /workspace/to_execute.py' in image 'qiskit_runner' returned non-zero exit status 1: b'Traceback (most recent call last):\\n  File \"/workspace/to_execute.py\", line 10, in <module>\\n    qc = qasm2.loads(\\n  File \"/usr/local/lib/python3.10/site-packages/qiskit/qasm2/__init__.py\", line 587, in loads\\n    return _parse.from_bytecode(\\n  File \"/usr/local/lib/python3.10/site-packages/qiskit/qasm2/parse.py\", line 214, in from_bytecode\\n    for op in bc:\\nqiskit.qasm2.exceptions.QASM2ParseError: \"<input>:7,0: cannot use non-builtin custom instruction \\'h\\' before definition\"\\n'\n",
      "Failed to execute to_execute.py in Docker.\n",
      "Error parsing: Command 'python /workspace/to_execute.py' in image 'qiskit_runner' returned non-zero exit status 1: b'Traceback (most recent call last):\\n  File \"/workspace/to_execute.py\", line 10, in <module>\\n    qc = qasm2.loads(\\n  File \"/usr/local/lib/python3.10/site-packages/qiskit/qasm2/__init__.py\", line 587, in loads\\n    return _parse.from_bytecode(\\n  File \"/usr/local/lib/python3.10/site-packages/qiskit/qasm2/parse.py\", line 214, in from_bytecode\\n    for op in bc:\\nqiskit.qasm2.exceptions.QASM2ParseError: \"<input>:6,2: \\'reg_2_q\\' is not defined in this scope\"\\n'\n",
      "Failed to execute to_execute.py in Docker.\n",
      "Error parsing: Command 'python /workspace/to_execute.py' in image 'qiskit_runner' returned non-zero exit status 1: b'Traceback (most recent call last):\\n  File \"/workspace/to_execute.py\", line 10, in <module>\\n    qc = qasm2.loads(\\n  File \"/usr/local/lib/python3.10/site-packages/qiskit/qasm2/__init__.py\", line 587, in loads\\n    return _parse.from_bytecode(\\n  File \"/usr/local/lib/python3.10/site-packages/qiskit/qasm2/parse.py\", line 214, in from_bytecode\\n    for op in bc:\\nqiskit.qasm2.exceptions.QASM2ParseError: \"<input>:8,2: \\'reg_1_b\\' is not defined in this scope\"\\n'\n",
      "Failed to execute to_execute.py in Docker.\n",
      "Output: Saved the Pytket circuit to /workspace/to_execute_qc_pytket.qasm\n",
      "Saved the Qiskit circuit to /workspace/to_execute_qc_qiskit.qasm\n",
      "Exported QASM files: [('/workspace/to_execute_qc_pytket.qasm', 'export_to_qasm_with_pytket'), ('/workspace/to_execute_qc_qiskit.qasm', 'export_to_qasm_with_qiskit')]\n",
      "The circuits are equivalent: /workspace/to_execute_qc_pytket.qasm, /workspace/to_execute_qc_qiskit.qasm\n",
      "\n",
      "Program to_execute.py executed successfully.\n",
      "Error parsing: Command 'python /workspace/to_execute.py' in image 'qiskit_runner' returned non-zero exit status 1: b'  File \"/workspace/to_execute.py\", line 10\\n    qc = qasm2.loads(\\n                    ^\\nSyntaxError: \\'(\\' was never closed\\n'\n",
      "Failed to execute to_execute.py in Docker.\n",
      "Error parsing: Command 'python /workspace/to_execute.py' in image 'qiskit_runner' returned non-zero exit status 1: b'  File \"/workspace/to_execute.py\", line 23\\n    , custom_instructions=qasm2.LEGACY_CUSTOM_INSTRUCTIONS)\\nIndentationError: unexpected indent\\n'\n",
      "Failed to execute to_execute.py in Docker.\n",
      "Output: Saved the Pytket circuit to /workspace/to_execute_qc_pytket.qasm\n",
      "Saved the Qiskit circuit to /workspace/to_execute_qc_qiskit.qasm\n",
      "Exported QASM files: [('/workspace/to_execute_qc_pytket.qasm', 'export_to_qasm_with_pytket'), ('/workspace/to_execute_qc_qiskit.qasm', 'export_to_qasm_with_qiskit')]\n",
      "Log has been saved to /workspace/to_execute_3e34d2_error.json\n",
      "\n",
      "Program to_execute.py executed successfully.\n",
      "New exception message: The circuits are not equivalent: /workspace/to_execute_qc_pytket.qasm, /workspace/to_execute_qc_qiskit.qasm\n",
      "Error parsing: Command 'python /workspace/to_execute.py' in image 'qiskit_runner' returned non-zero exit status 1: b'  File \"/workspace/to_execute.py\", line 22\\n    , custom_instructions=qasm2.LEGACY_CUSTOM_INSTRUCTIONS)\\nIndentationError: unexpected indent\\n'\n",
      "Failed to execute to_execute.py in Docker.\n",
      "Error parsing: Command 'python /workspace/to_execute.py' in image 'qiskit_runner' returned non-zero exit status 1: b'  File \"/workspace/to_execute.py\", line 11\\n    OPENQASM 2.0;\\n    ^^^^^^^^^^^^\\nSyntaxError: invalid syntax. Perhaps you forgot a comma?\\n'\n",
      "Failed to execute to_execute.py in Docker.\n",
      "Output: Saved the Pytket circuit to /workspace/to_execute_qc_pytket.qasm\n",
      "Saved the Qiskit circuit to /workspace/to_execute_qc_qiskit.qasm\n",
      "Exported QASM files: [('/workspace/to_execute_qc_pytket.qasm', 'export_to_qasm_with_pytket'), ('/workspace/to_execute_qc_qiskit.qasm', 'export_to_qasm_with_qiskit')]\n",
      "Log has been saved to /workspace/to_execute_5f337c_error.json\n",
      "\n",
      "Program to_execute.py executed successfully.\n",
      "New exception message: The circuits are not equivalent: /workspace/to_execute_qc_pytket.qasm, /workspace/to_execute_qc_qiskit.qasm\n",
      "Error parsing: Command 'python /workspace/to_execute.py' in image 'qiskit_runner' returned non-zero exit status 1: b'  File \"/workspace/to_execute.py\", line 21\\n    , custom_instructions=qasm2.LEGACY_CUSTOM_INSTRUCTIONS)\\nIndentationError: unexpected indent\\n'\n",
      "Failed to execute to_execute.py in Docker.\n",
      "Error parsing: Command 'python /workspace/to_execute.py' in image 'qiskit_runner' returned non-zero exit status 1: b'  File \"/workspace/to_execute.py\", line 11\\n    include \"qelib1.inc\";\\n            ^^^^^^^^^^^^\\nSyntaxError: invalid syntax\\n'\n",
      "Failed to execute to_execute.py in Docker.\n",
      "Error parsing: Command 'python /workspace/to_execute.py' in image 'qiskit_runner' returned non-zero exit status 1: b'Traceback (most recent call last):\\n  File \"/workspace/to_execute.py\", line 10, in <module>\\n    qc = qasm2.loads(\\n  File \"/usr/local/lib/python3.10/site-packages/qiskit/qasm2/__init__.py\", line 587, in loads\\n    return _parse.from_bytecode(\\n  File \"/usr/local/lib/python3.10/site-packages/qiskit/qasm2/parse.py\", line 214, in from_bytecode\\n    for op in bc:\\nqiskit.qasm2.exceptions.QASM2ParseError: \"<input>:7,0: cannot use non-builtin custom instruction \\'h\\' before definition\"\\n'\n",
      "Failed to execute to_execute.py in Docker.\n",
      "Error parsing: Command 'python /workspace/to_execute.py' in image 'qiskit_runner' returned non-zero exit status 1: b'Traceback (most recent call last):\\n  File \"/workspace/to_execute.py\", line 10, in <module>\\n    qc = qasm2.loads(\\n  File \"/usr/local/lib/python3.10/site-packages/qiskit/qasm2/__init__.py\", line 587, in loads\\n    return _parse.from_bytecode(\\n  File \"/usr/local/lib/python3.10/site-packages/qiskit/qasm2/parse.py\", line 214, in from_bytecode\\n    for op in bc:\\nqiskit.qasm2.exceptions.QASM2ParseError: \"<input>:7,2: \\'reg_2_q\\' is not defined in this scope\"\\n'\n",
      "Failed to execute to_execute.py in Docker.\n",
      "Output: Saved the Pytket circuit to /workspace/to_execute_qc_pytket.qasm\n",
      "Saved the Qiskit circuit to /workspace/to_execute_qc_qiskit.qasm\n",
      "Exported QASM files: [('/workspace/to_execute_qc_pytket.qasm', 'export_to_qasm_with_pytket'), ('/workspace/to_execute_qc_qiskit.qasm', 'export_to_qasm_with_qiskit')]\n",
      "Log has been saved to /workspace/to_execute_9cb40a_error.json\n",
      "\n",
      "Program to_execute.py executed successfully.\n",
      "New exception message: The circuits are not equivalent: /workspace/to_execute_qc_pytket.qasm, /workspace/to_execute_qc_qiskit.qasm\n",
      "Error parsing: Command 'python /workspace/to_execute.py' in image 'qiskit_runner' returned non-zero exit status 1: b'  File \"/workspace/to_execute.py\", line 19\\n    , custom_instructions=qasm2.LEGACY_CUSTOM_INSTRUCTIONS)\\nIndentationError: unexpected indent\\n'\n",
      "Failed to execute to_execute.py in Docker.\n",
      "Error parsing: Command 'python /workspace/to_execute.py' in image 'qiskit_runner' returned non-zero exit status 1: b'  File \"/workspace/to_execute.py\", line 11\\n    include \"qelib1.inc\";\\n            ^^^^^^^^^^^^\\nSyntaxError: invalid syntax\\n'\n",
      "Failed to execute to_execute.py in Docker.\n",
      "Error parsing: Command 'python /workspace/to_execute.py' in image 'qiskit_runner' returned non-zero exit status 1: b'Traceback (most recent call last):\\n  File \"/workspace/to_execute.py\", line 10, in <module>\\n    qc = qasm2.loads(\\n  File \"/usr/local/lib/python3.10/site-packages/qiskit/qasm2/__init__.py\", line 587, in loads\\n    return _parse.from_bytecode(\\n  File \"/usr/local/lib/python3.10/site-packages/qiskit/qasm2/parse.py\", line 214, in from_bytecode\\n    for op in bc:\\nqiskit.qasm2.exceptions.QASM2ParseError: \"<input>:5,0: cannot use non-builtin custom instruction \\'h\\' before definition\"\\n'\n",
      "Failed to execute to_execute.py in Docker.\n",
      "Error parsing: Command 'python /workspace/to_execute.py' in image 'qiskit_runner' returned non-zero exit status 1: b'Traceback (most recent call last):\\n  File \"/workspace/to_execute.py\", line 10, in <module>\\n    qc = qasm2.loads(\\n  File \"/usr/local/lib/python3.10/site-packages/qiskit/qasm2/__init__.py\", line 587, in loads\\n    return _parse.from_bytecode(\\n  File \"/usr/local/lib/python3.10/site-packages/qiskit/qasm2/parse.py\", line 214, in from_bytecode\\n    for op in bc:\\nqiskit.qasm2.exceptions.QASM2ParseError: \"<input>:5,2: \\'reg_2_q\\' is not defined in this scope\"\\n'\n",
      "Failed to execute to_execute.py in Docker.\n",
      "Error parsing: Command 'python /workspace/to_execute.py' in image 'qiskit_runner' returned non-zero exit status 1: b'Traceback (most recent call last):\\n  File \"/workspace/to_execute.py\", line 10, in <module>\\n    qc = qasm2.loads(\\n  File \"/usr/local/lib/python3.10/site-packages/qiskit/qasm2/__init__.py\", line 587, in loads\\n    return _parse.from_bytecode(\\n  File \"/usr/local/lib/python3.10/site-packages/qiskit/qasm2/parse.py\", line 214, in from_bytecode\\n    for op in bc:\\nqiskit.qasm2.exceptions.QASM2ParseError: \"<input>:6,2: \\'reg_1_b\\' is not defined in this scope\"\\n'\n",
      "Failed to execute to_execute.py in Docker.\n",
      "Output: Saved the Pytket circuit to /workspace/to_execute_qc_pytket.qasm\n",
      "Saved the Qiskit circuit to /workspace/to_execute_qc_qiskit.qasm\n",
      "Exported QASM files: [('/workspace/to_execute_qc_pytket.qasm', 'export_to_qasm_with_pytket'), ('/workspace/to_execute_qc_qiskit.qasm', 'export_to_qasm_with_qiskit')]\n",
      "Log has been saved to /workspace/to_execute_a6c3c5_error.json\n",
      "\n",
      "Program to_execute.py executed successfully.\n",
      "New exception message: The circuits are not equivalent: /workspace/to_execute_qc_pytket.qasm, /workspace/to_execute_qc_qiskit.qasm\n",
      "Error parsing: Command 'python /workspace/to_execute.py' in image 'qiskit_runner' returned non-zero exit status 1: b'  File \"/workspace/to_execute.py\", line 17\\n    , custom_instructions=qasm2.LEGACY_CUSTOM_INSTRUCTIONS)\\nIndentationError: unexpected indent\\n'\n",
      "Failed to execute to_execute.py in Docker.\n",
      "Error parsing: Command 'python /workspace/to_execute.py' in image 'qiskit_runner' returned non-zero exit status 1: b'  File \"/workspace/to_execute.py\", line 11\\n    include \"qelib1.inc\";\\n            ^^^^^^^^^^^^\\nSyntaxError: invalid syntax\\n'\n",
      "Failed to execute to_execute.py in Docker.\n",
      "Error parsing: Command 'python /workspace/to_execute.py' in image 'qiskit_runner' returned non-zero exit status 1: b'Traceback (most recent call last):\\n  File \"/workspace/to_execute.py\", line 10, in <module>\\n    qc = qasm2.loads(\\n  File \"/usr/local/lib/python3.10/site-packages/qiskit/qasm2/__init__.py\", line 587, in loads\\n    return _parse.from_bytecode(\\n  File \"/usr/local/lib/python3.10/site-packages/qiskit/qasm2/parse.py\", line 214, in from_bytecode\\n    for op in bc:\\nqiskit.qasm2.exceptions.QASM2ParseError: \"<input>:4,0: cannot use non-builtin custom instruction \\'x\\' before definition\"\\n'\n",
      "Failed to execute to_execute.py in Docker.\n",
      "Output: Saved the Pytket circuit to /workspace/to_execute_qc_pytket.qasm\n",
      "Saved the Qiskit circuit to /workspace/to_execute_qc_qiskit.qasm\n",
      "Exported QASM files: [('/workspace/to_execute_qc_pytket.qasm', 'export_to_qasm_with_pytket'), ('/workspace/to_execute_qc_qiskit.qasm', 'export_to_qasm_with_qiskit')]\n",
      "The circuits are equivalent: /workspace/to_execute_qc_pytket.qasm, /workspace/to_execute_qc_qiskit.qasm\n",
      "\n",
      "Program to_execute.py executed successfully.\n",
      "Error parsing: Command 'python /workspace/to_execute.py' in image 'qiskit_runner' returned non-zero exit status 1: b'Traceback (most recent call last):\\n  File \"/workspace/to_execute.py\", line 10, in <module>\\n    qc = qasm2.loads(\\n  File \"/usr/local/lib/python3.10/site-packages/qiskit/qasm2/__init__.py\", line 587, in loads\\n    return _parse.from_bytecode(\\n  File \"/usr/local/lib/python3.10/site-packages/qiskit/qasm2/parse.py\", line 214, in from_bytecode\\n    for op in bc:\\nqiskit.qasm2.exceptions.QASM2ParseError: \"<input>:4,2: \\'reg_1_b\\' is not defined in this scope\"\\n'\n",
      "Failed to execute to_execute.py in Docker.\n",
      "Output: Saved the Pytket circuit to /workspace/to_execute_qc_pytket.qasm\n",
      "Saved the Qiskit circuit to /workspace/to_execute_qc_qiskit.qasm\n",
      "Exported QASM files: [('/workspace/to_execute_qc_pytket.qasm', 'export_to_qasm_with_pytket'), ('/workspace/to_execute_qc_qiskit.qasm', 'export_to_qasm_with_qiskit')]\n",
      "Log has been saved to /workspace/to_execute_44883a_error.json\n",
      "\n",
      "Program to_execute.py executed successfully.\n",
      "New exception message: The circuits are not equivalent: /workspace/to_execute_qc_pytket.qasm, /workspace/to_execute_qc_qiskit.qasm\n",
      "Error parsing: Command 'python /workspace/to_execute.py' in image 'qiskit_runner' returned non-zero exit status 1: b'  File \"/workspace/to_execute.py\", line 16\\n    , custom_instructions=qasm2.LEGACY_CUSTOM_INSTRUCTIONS)\\nIndentationError: unexpected indent\\n'\n",
      "Failed to execute to_execute.py in Docker.\n",
      "Error parsing: Command 'python /workspace/to_execute.py' in image 'qiskit_runner' returned non-zero exit status 1: b'  File \"/workspace/to_execute.py\", line 11\\n    include \"qelib1.inc\";\\n            ^^^^^^^^^^^^\\nSyntaxError: invalid syntax\\n'\n",
      "Failed to execute to_execute.py in Docker.\n",
      "Error parsing: Command 'python /workspace/to_execute.py' in image 'qiskit_runner' returned non-zero exit status 1: b'Traceback (most recent call last):\\n  File \"/workspace/to_execute.py\", line 10, in <module>\\n    qc = qasm2.loads(\\n  File \"/usr/local/lib/python3.10/site-packages/qiskit/qasm2/__init__.py\", line 587, in loads\\n    return _parse.from_bytecode(\\n  File \"/usr/local/lib/python3.10/site-packages/qiskit/qasm2/parse.py\", line 214, in from_bytecode\\n    for op in bc:\\nqiskit.qasm2.exceptions.QASM2ParseError: \"<input>:4,0: cannot use non-builtin custom instruction \\'x\\' before definition\"\\n'\n",
      "Failed to execute to_execute.py in Docker.\n",
      "Output: Saved the Pytket circuit to /workspace/to_execute_qc_pytket.qasm\n",
      "Saved the Qiskit circuit to /workspace/to_execute_qc_qiskit.qasm\n",
      "Exported QASM files: [('/workspace/to_execute_qc_pytket.qasm', 'export_to_qasm_with_pytket'), ('/workspace/to_execute_qc_qiskit.qasm', 'export_to_qasm_with_qiskit')]\n",
      "The circuits are equivalent: /workspace/to_execute_qc_pytket.qasm, /workspace/to_execute_qc_qiskit.qasm\n",
      "\n",
      "Program to_execute.py executed successfully.\n",
      "Error parsing: Command 'python /workspace/to_execute.py' in image 'qiskit_runner' returned non-zero exit status 1: b'Traceback (most recent call last):\\n  File \"/workspace/to_execute.py\", line 10, in <module>\\n    qc = qasm2.loads(\\n  File \"/usr/local/lib/python3.10/site-packages/qiskit/qasm2/__init__.py\", line 587, in loads\\n    return _parse.from_bytecode(\\n  File \"/usr/local/lib/python3.10/site-packages/qiskit/qasm2/parse.py\", line 214, in from_bytecode\\n    for op in bc:\\nqiskit.qasm2.exceptions.QASM2ParseError: \"<input>:4,2: \\'reg_1_b\\' is not defined in this scope\"\\n'\n",
      "Failed to execute to_execute.py in Docker.\n",
      "Error parsing: Command 'python /workspace/to_execute.py' in image 'qiskit_runner' returned non-zero exit status 1: b'  File \"/workspace/to_execute.py\", line 11\\n    include \"qelib1.inc\";\\n            ^^^^^^^^^^^^\\nSyntaxError: invalid syntax\\n'\n",
      "Failed to execute to_execute.py in Docker.\n",
      "Error parsing: Command 'python /workspace/to_execute.py' in image 'qiskit_runner' returned non-zero exit status 1: b'  File \"/workspace/to_execute.py\", line 10\\n    qc = qasm2.loads(\\n                    ^\\nSyntaxError: \\'(\\' was never closed\\n'\n",
      "Failed to execute to_execute.py in Docker.\n",
      "Error parsing: Command 'python /workspace/to_execute.py' in image 'qiskit_runner' returned non-zero exit status 1: b'  File \"/workspace/to_execute.py\", line 16\\n    , custom_instructions=qasm2.LEGACY_CUSTOM_INSTRUCTIONS)\\nIndentationError: unexpected indent\\n'\n",
      "Failed to execute to_execute.py in Docker.\n",
      "Error parsing: Command 'python /workspace/to_execute.py' in image 'qiskit_runner' returned non-zero exit status 1: b'  File \"/workspace/to_execute.py\", line 11\\n    include \"qelib1.inc\";\\n            ^^^^^^^^^^^^\\nSyntaxError: invalid syntax\\n'\n",
      "Failed to execute to_execute.py in Docker.\n",
      "Error parsing: Command 'python /workspace/to_execute.py' in image 'qiskit_runner' returned non-zero exit status 1: b'Traceback (most recent call last):\\n  File \"/workspace/to_execute.py\", line 10, in <module>\\n    qc = qasm2.loads(\\n  File \"/usr/local/lib/python3.10/site-packages/qiskit/qasm2/__init__.py\", line 587, in loads\\n    return _parse.from_bytecode(\\n  File \"/usr/local/lib/python3.10/site-packages/qiskit/qasm2/parse.py\", line 214, in from_bytecode\\n    for op in bc:\\nqiskit.qasm2.exceptions.QASM2ParseError: \"<input>:4,0: cannot use non-builtin custom instruction \\'x\\' before definition\"\\n'\n",
      "Failed to execute to_execute.py in Docker.\n",
      "Output: Saved the Pytket circuit to /workspace/to_execute_qc_pytket.qasm\n",
      "Saved the Qiskit circuit to /workspace/to_execute_qc_qiskit.qasm\n",
      "Exported QASM files: [('/workspace/to_execute_qc_pytket.qasm', 'export_to_qasm_with_pytket'), ('/workspace/to_execute_qc_qiskit.qasm', 'export_to_qasm_with_qiskit')]\n",
      "The circuits are equivalent: /workspace/to_execute_qc_pytket.qasm, /workspace/to_execute_qc_qiskit.qasm\n",
      "\n",
      "Program to_execute.py executed successfully.\n",
      "Error parsing: Command 'python /workspace/to_execute.py' in image 'qiskit_runner' returned non-zero exit status 1: b'Traceback (most recent call last):\\n  File \"/workspace/to_execute.py\", line 10, in <module>\\n    qc = qasm2.loads(\\n  File \"/usr/local/lib/python3.10/site-packages/qiskit/qasm2/__init__.py\", line 587, in loads\\n    return _parse.from_bytecode(\\n  File \"/usr/local/lib/python3.10/site-packages/qiskit/qasm2/parse.py\", line 214, in from_bytecode\\n    for op in bc:\\nqiskit.qasm2.exceptions.QASM2ParseError: \"<input>:4,2: \\'reg_1_b\\' is not defined in this scope\"\\n'\n",
      "Failed to execute to_execute.py in Docker.\n",
      "Output: Saved the Pytket circuit to /workspace/to_execute_qc_pytket.qasm\n",
      "Saved the Qiskit circuit to /workspace/to_execute_qc_qiskit.qasm\n",
      "Exported QASM files: [('/workspace/to_execute_qc_pytket.qasm', 'export_to_qasm_with_pytket'), ('/workspace/to_execute_qc_qiskit.qasm', 'export_to_qasm_with_qiskit')]\n",
      "The circuits are equivalent: /workspace/to_execute_qc_pytket.qasm, /workspace/to_execute_qc_qiskit.qasm\n",
      "\n",
      "Program to_execute.py executed successfully.\n",
      "Error parsing: Command 'python /workspace/to_execute.py' in image 'qiskit_runner' returned non-zero exit status 1: b'  File \"/workspace/to_execute.py\", line 11\\n    include \"qelib1.inc\";\\n            ^^^^^^^^^^^^\\nSyntaxError: invalid syntax\\n'\n",
      "Failed to execute to_execute.py in Docker.\n",
      "Error parsing: Command 'python /workspace/to_execute.py' in image 'qiskit_runner' returned non-zero exit status 1: b'  File \"/workspace/to_execute.py\", line 10\\n    qc = qasm2.loads(\\n                    ^\\nSyntaxError: \\'(\\' was never closed\\n'\n",
      "Failed to execute to_execute.py in Docker.\n"
     ]
    },
    {
     "data": {
      "text/html": [
       "<pre style=\"white-space:pre;overflow-x:auto;line-height:normal;font-family:Menlo,'DejaVu Sans Mono',consolas,'Courier New',monospace\"><span style=\"color: #7fbfbf; text-decoration-color: #7fbfbf\">[14:53:11] </span><span style=\"color: #008000; text-decoration-color: #008000\">Minimized file saved as:</span>                                                        <a href=\"file:///home/paltenmo/projects/crossplatform/analysis_and_reporting/ddmin_target_file.py\" target=\"_blank\"><span style=\"color: #7f7f7f; text-decoration-color: #7f7f7f\">ddmin_target_file.py</span></a><span style=\"color: #7f7f7f; text-decoration-color: #7f7f7f\">:</span><a href=\"file:///home/paltenmo/projects/crossplatform/analysis_and_reporting/ddmin_target_file.py#240\" target=\"_blank\"><span style=\"color: #7f7f7f; text-decoration-color: #7f7f7f\">240</span></a>\n",
       "<span style=\"color: #7fbfbf; text-decoration-color: #7fbfbf\">           </span>..<span style=\"color: #800080; text-decoration-color: #800080\">/reports/v009/2024_11_21__14_49/</span><span style=\"color: #ff00ff; text-decoration-color: #ff00ff\">qiskit_circuit_5q_10g_4342_faa083_a812bf_erro</span> <span style=\"color: #7f7f7f; text-decoration-color: #7f7f7f\">                        </span>\n",
       "<span style=\"color: #7fbfbf; text-decoration-color: #7fbfbf\">           </span><span style=\"color: #ff00ff; text-decoration-color: #ff00ff\">r_min.py</span>                                                                        <span style=\"color: #7f7f7f; text-decoration-color: #7f7f7f\">                        </span>\n",
       "</pre>\n"
      ],
      "text/plain": [
       "\u001b[2;36m[14:53:11]\u001b[0m\u001b[2;36m \u001b[0m\u001b[32mMinimized file saved as:\u001b[0m                                                        \u001b]8;id=70170;file:///home/paltenmo/projects/crossplatform/analysis_and_reporting/ddmin_target_file.py\u001b\\\u001b[2mddmin_target_file.py\u001b[0m\u001b]8;;\u001b\\\u001b[2m:\u001b[0m\u001b]8;id=745287;file:///home/paltenmo/projects/crossplatform/analysis_and_reporting/ddmin_target_file.py#240\u001b\\\u001b[2m240\u001b[0m\u001b]8;;\u001b\\\n",
       "\u001b[2;36m           \u001b[0m..\u001b[35m/reports/v009/2024_11_21__14_49/\u001b[0m\u001b[95mqiskit_circuit_5q_10g_4342_faa083_a812bf_erro\u001b[0m \u001b[2m                        \u001b[0m\n",
       "\u001b[2;36m           \u001b[0m\u001b[95mr_min.py\u001b[0m                                                                        \u001b[2m                        \u001b[0m\n"
      ]
     },
     "metadata": {},
     "output_type": "display_data"
    },
    {
     "name": "stdout",
     "output_type": "stream",
     "text": [
      "Output: Saved the Pytket circuit to /workspace/qiskit_circuit_5q_10g_4342_faa083_a812bf_error_min_qc_pytket.qasm\n",
      "Saved the Qiskit circuit to /workspace/qiskit_circuit_5q_10g_4342_faa083_a812bf_error_min_qc_qiskit.qasm\n",
      "Exported QASM files: [('/workspace/qiskit_circuit_5q_10g_4342_faa083_a812bf_error_min_qc_pytket.qasm', 'export_to_qasm_with_pytket'), ('/workspace/qiskit_circuit_5q_10g_4342_faa083_a812bf_error_min_qc_qiskit.qasm', 'export_to_qasm_with_qiskit')]\n",
      "Log has been saved to /workspace/qiskit_circuit_5q_10g_4342_faa083_a812bf_error_min_577bf2_error.json\n",
      "\n"
     ]
    },
    {
     "data": {
      "text/html": [
       "<pre style=\"white-space:pre;overflow-x:auto;line-height:normal;font-family:Menlo,'DejaVu Sans Mono',consolas,'Courier New',monospace\"><span style=\"color: #7fbfbf; text-decoration-color: #7fbfbf\">[14:53:18] </span>Program qiskit_circuit_5q_10g_4342_faa083_a812bf_error_min.py executed              <a href=\"file:///home/paltenmo/projects/crossplatform/generators/docker_tooling.py\" target=\"_blank\"><span style=\"color: #7f7f7f; text-decoration-color: #7f7f7f\">docker_tooling.py</span></a><span style=\"color: #7f7f7f; text-decoration-color: #7f7f7f\">:</span><a href=\"file:///home/paltenmo/projects/crossplatform/generators/docker_tooling.py#46\" target=\"_blank\"><span style=\"color: #7f7f7f; text-decoration-color: #7f7f7f\">46</span></a>\n",
       "<span style=\"color: #7fbfbf; text-decoration-color: #7fbfbf\">           </span>successfully.                                                                       <span style=\"color: #7f7f7f; text-decoration-color: #7f7f7f\">                    </span>\n",
       "</pre>\n"
      ],
      "text/plain": [
       "\u001b[2;36m[14:53:18]\u001b[0m\u001b[2;36m \u001b[0mProgram qiskit_circuit_5q_10g_4342_faa083_a812bf_error_min.py executed              \u001b]8;id=28932;file:///home/paltenmo/projects/crossplatform/generators/docker_tooling.py\u001b\\\u001b[2mdocker_tooling.py\u001b[0m\u001b]8;;\u001b\\\u001b[2m:\u001b[0m\u001b]8;id=575837;file:///home/paltenmo/projects/crossplatform/generators/docker_tooling.py#46\u001b\\\u001b[2m46\u001b[0m\u001b]8;;\u001b\\\n",
       "\u001b[2;36m           \u001b[0msuccessfully.                                                                       \u001b[2m                    \u001b[0m\n"
      ]
     },
     "metadata": {},
     "output_type": "display_data"
    },
    {
     "data": {
      "application/vnd.jupyter.widget-view+json": {
       "model_id": "6f23833a81b9485fa467b20c8d42d243",
       "version_major": 2,
       "version_minor": 0
      },
      "text/plain": [
       "Executing:   0%|          | 0/13 [00:00<?, ?cell/s]"
      ]
     },
     "metadata": {},
     "output_type": "display_data"
    },
    {
     "data": {
      "text/html": [
       "<pre style=\"white-space:pre;overflow-x:auto;line-height:normal;font-family:Menlo,'DejaVu Sans Mono',consolas,'Courier New',monospace\"><span style=\"color: #7fbfbf; text-decoration-color: #7fbfbf\">[14:53:21] </span>Analysis notebook executed: ..<span style=\"color: #800080; text-decoration-color: #800080\">/reports/v009/2024_11_21__14_49/</span><span style=\"color: #ff00ff; text-decoration-color: #ff00ff\">analysis_output.ipynb</span>        <a href=\"file:///home/paltenmo/projects/crossplatform/analysis_and_reporting/triage.py\" target=\"_blank\"><span style=\"color: #7f7f7f; text-decoration-color: #7f7f7f\">triage.py</span></a><span style=\"color: #7f7f7f; text-decoration-color: #7f7f7f\">:</span><a href=\"file:///home/paltenmo/projects/crossplatform/analysis_and_reporting/triage.py#163\" target=\"_blank\"><span style=\"color: #7f7f7f; text-decoration-color: #7f7f7f\">163</span></a>\n",
       "</pre>\n"
      ],
      "text/plain": [
       "\u001b[2;36m[14:53:21]\u001b[0m\u001b[2;36m \u001b[0mAnalysis notebook executed: ..\u001b[35m/reports/v009/2024_11_21__14_49/\u001b[0m\u001b[95manalysis_output.ipynb\u001b[0m        \u001b]8;id=599315;file:///home/paltenmo/projects/crossplatform/analysis_and_reporting/triage.py\u001b\\\u001b[2mtriage.py\u001b[0m\u001b]8;;\u001b\\\u001b[2m:\u001b[0m\u001b]8;id=886792;file:///home/paltenmo/projects/crossplatform/analysis_and_reporting/triage.py#163\u001b\\\u001b[2m163\u001b[0m\u001b]8;;\u001b\\\n"
      ]
     },
     "metadata": {},
     "output_type": "display_data"
    },
    {
     "data": {
      "text/html": [
       "<pre style=\"white-space:pre;overflow-x:auto;line-height:normal;font-family:Menlo,'DejaVu Sans Mono',consolas,'Courier New',monospace\"><span style=\"color: #7fbfbf; text-decoration-color: #7fbfbf\">           </span>Created report folder: ..<span style=\"color: #800080; text-decoration-color: #800080\">/reports/v009/</span><span style=\"color: #ff00ff; text-decoration-color: #ff00ff\">2024_11_21__14_53</span>                                   <a href=\"file:///home/paltenmo/projects/crossplatform/analysis_and_reporting/triage.py\" target=\"_blank\"><span style=\"color: #7f7f7f; text-decoration-color: #7f7f7f\">triage.py</span></a><span style=\"color: #7f7f7f; text-decoration-color: #7f7f7f\">:</span><a href=\"file:///home/paltenmo/projects/crossplatform/analysis_and_reporting/triage.py#131\" target=\"_blank\"><span style=\"color: #7f7f7f; text-decoration-color: #7f7f7f\">131</span></a>\n",
       "</pre>\n"
      ],
      "text/plain": [
       "\u001b[2;36m          \u001b[0m\u001b[2;36m \u001b[0mCreated report folder: ..\u001b[35m/reports/v009/\u001b[0m\u001b[95m2024_11_21__14_53\u001b[0m                                   \u001b]8;id=219138;file:///home/paltenmo/projects/crossplatform/analysis_and_reporting/triage.py\u001b\\\u001b[2mtriage.py\u001b[0m\u001b]8;;\u001b\\\u001b[2m:\u001b[0m\u001b]8;id=604296;file:///home/paltenmo/projects/crossplatform/analysis_and_reporting/triage.py#131\u001b\\\u001b[2m131\u001b[0m\u001b]8;;\u001b\\\n"
      ]
     },
     "metadata": {},
     "output_type": "display_data"
    },
    {
     "data": {
      "text/html": [
       "<pre style=\"white-space:pre;overflow-x:auto;line-height:normal;font-family:Menlo,'DejaVu Sans Mono',consolas,'Courier New',monospace\"><span style=\"color: #7fbfbf; text-decoration-color: #7fbfbf\">           </span>Copied files to: ..<span style=\"color: #800080; text-decoration-color: #800080\">/reports/v009/</span><span style=\"color: #ff00ff; text-decoration-color: #ff00ff\">2024_11_21__14_53</span>                                         <a href=\"file:///home/paltenmo/projects/crossplatform/analysis_and_reporting/triage.py\" target=\"_blank\"><span style=\"color: #7f7f7f; text-decoration-color: #7f7f7f\">triage.py</span></a><span style=\"color: #7f7f7f; text-decoration-color: #7f7f7f\">:</span><a href=\"file:///home/paltenmo/projects/crossplatform/analysis_and_reporting/triage.py#140\" target=\"_blank\"><span style=\"color: #7f7f7f; text-decoration-color: #7f7f7f\">140</span></a>\n",
       "</pre>\n"
      ],
      "text/plain": [
       "\u001b[2;36m          \u001b[0m\u001b[2;36m \u001b[0mCopied files to: ..\u001b[35m/reports/v009/\u001b[0m\u001b[95m2024_11_21__14_53\u001b[0m                                         \u001b]8;id=694511;file:///home/paltenmo/projects/crossplatform/analysis_and_reporting/triage.py\u001b\\\u001b[2mtriage.py\u001b[0m\u001b]8;;\u001b\\\u001b[2m:\u001b[0m\u001b]8;id=600508;file:///home/paltenmo/projects/crossplatform/analysis_and_reporting/triage.py#140\u001b\\\u001b[2m140\u001b[0m\u001b]8;;\u001b\\\n"
      ]
     },
     "metadata": {},
     "output_type": "display_data"
    },
    {
     "data": {
      "text/html": [
       "<pre style=\"white-space:pre;overflow-x:auto;line-height:normal;font-family:Menlo,'DejaVu Sans Mono',consolas,'Courier New',monospace\"><span style=\"color: #7fbfbf; text-decoration-color: #7fbfbf\">[14:53:21] </span>Involved functions:                                                             <a href=\"file:///home/paltenmo/projects/crossplatform/analysis_and_reporting/ddmin_target_file.py\" target=\"_blank\"><span style=\"color: #7f7f7f; text-decoration-color: #7f7f7f\">ddmin_target_file.py</span></a><span style=\"color: #7f7f7f; text-decoration-color: #7f7f7f\">:</span><a href=\"file:///home/paltenmo/projects/crossplatform/analysis_and_reporting/ddmin_target_file.py#206\" target=\"_blank\"><span style=\"color: #7f7f7f; text-decoration-color: #7f7f7f\">206</span></a>\n",
       "</pre>\n"
      ],
      "text/plain": [
       "\u001b[2;36m[14:53:21]\u001b[0m\u001b[2;36m \u001b[0mInvolved functions:                                                             \u001b]8;id=827893;file:///home/paltenmo/projects/crossplatform/analysis_and_reporting/ddmin_target_file.py\u001b\\\u001b[2mddmin_target_file.py\u001b[0m\u001b]8;;\u001b\\\u001b[2m:\u001b[0m\u001b]8;id=760556;file:///home/paltenmo/projects/crossplatform/analysis_and_reporting/ddmin_target_file.py#206\u001b\\\u001b[2m206\u001b[0m\u001b]8;;\u001b\\\n"
      ]
     },
     "metadata": {},
     "output_type": "display_data"
    },
    {
     "data": {
      "text/html": [
       "<pre style=\"white-space:pre;overflow-x:auto;line-height:normal;font-family:Menlo,'DejaVu Sans Mono',consolas,'Courier New',monospace\"><span style=\"color: #7fbfbf; text-decoration-color: #7fbfbf\">           </span>  - compare_qasm_via_qcec                                                       <a href=\"file:///home/paltenmo/projects/crossplatform/analysis_and_reporting/ddmin_target_file.py\" target=\"_blank\"><span style=\"color: #7f7f7f; text-decoration-color: #7f7f7f\">ddmin_target_file.py</span></a><span style=\"color: #7f7f7f; text-decoration-color: #7f7f7f\">:</span><a href=\"file:///home/paltenmo/projects/crossplatform/analysis_and_reporting/ddmin_target_file.py#208\" target=\"_blank\"><span style=\"color: #7f7f7f; text-decoration-color: #7f7f7f\">208</span></a>\n",
       "</pre>\n"
      ],
      "text/plain": [
       "\u001b[2;36m          \u001b[0m\u001b[2;36m \u001b[0m  - compare_qasm_via_qcec                                                       \u001b]8;id=664975;file:///home/paltenmo/projects/crossplatform/analysis_and_reporting/ddmin_target_file.py\u001b\\\u001b[2mddmin_target_file.py\u001b[0m\u001b]8;;\u001b\\\u001b[2m:\u001b[0m\u001b]8;id=821106;file:///home/paltenmo/projects/crossplatform/analysis_and_reporting/ddmin_target_file.py#208\u001b\\\u001b[2m208\u001b[0m\u001b]8;;\u001b\\\n"
      ]
     },
     "metadata": {},
     "output_type": "display_data"
    },
    {
     "data": {
      "text/html": [
       "<pre style=\"white-space:pre;overflow-x:auto;line-height:normal;font-family:Menlo,'DejaVu Sans Mono',consolas,'Courier New',monospace\"><span style=\"color: #7fbfbf; text-decoration-color: #7fbfbf\">           </span>  - export_to_qasm_with_pytket                                                  <a href=\"file:///home/paltenmo/projects/crossplatform/analysis_and_reporting/ddmin_target_file.py\" target=\"_blank\"><span style=\"color: #7f7f7f; text-decoration-color: #7f7f7f\">ddmin_target_file.py</span></a><span style=\"color: #7f7f7f; text-decoration-color: #7f7f7f\">:</span><a href=\"file:///home/paltenmo/projects/crossplatform/analysis_and_reporting/ddmin_target_file.py#208\" target=\"_blank\"><span style=\"color: #7f7f7f; text-decoration-color: #7f7f7f\">208</span></a>\n",
       "</pre>\n"
      ],
      "text/plain": [
       "\u001b[2;36m          \u001b[0m\u001b[2;36m \u001b[0m  - export_to_qasm_with_pytket                                                  \u001b]8;id=469393;file:///home/paltenmo/projects/crossplatform/analysis_and_reporting/ddmin_target_file.py\u001b\\\u001b[2mddmin_target_file.py\u001b[0m\u001b]8;;\u001b\\\u001b[2m:\u001b[0m\u001b]8;id=635034;file:///home/paltenmo/projects/crossplatform/analysis_and_reporting/ddmin_target_file.py#208\u001b\\\u001b[2m208\u001b[0m\u001b]8;;\u001b\\\n"
      ]
     },
     "metadata": {},
     "output_type": "display_data"
    },
    {
     "data": {
      "text/html": [
       "<pre style=\"white-space:pre;overflow-x:auto;line-height:normal;font-family:Menlo,'DejaVu Sans Mono',consolas,'Courier New',monospace\"><span style=\"color: #7fbfbf; text-decoration-color: #7fbfbf\">           </span>  - export_to_qasm_with_qiskit                                                  <a href=\"file:///home/paltenmo/projects/crossplatform/analysis_and_reporting/ddmin_target_file.py\" target=\"_blank\"><span style=\"color: #7f7f7f; text-decoration-color: #7f7f7f\">ddmin_target_file.py</span></a><span style=\"color: #7f7f7f; text-decoration-color: #7f7f7f\">:</span><a href=\"file:///home/paltenmo/projects/crossplatform/analysis_and_reporting/ddmin_target_file.py#208\" target=\"_blank\"><span style=\"color: #7f7f7f; text-decoration-color: #7f7f7f\">208</span></a>\n",
       "</pre>\n"
      ],
      "text/plain": [
       "\u001b[2;36m          \u001b[0m\u001b[2;36m \u001b[0m  - export_to_qasm_with_qiskit                                                  \u001b]8;id=738724;file:///home/paltenmo/projects/crossplatform/analysis_and_reporting/ddmin_target_file.py\u001b\\\u001b[2mddmin_target_file.py\u001b[0m\u001b]8;;\u001b\\\u001b[2m:\u001b[0m\u001b]8;id=822888;file:///home/paltenmo/projects/crossplatform/analysis_and_reporting/ddmin_target_file.py#208\u001b\\\u001b[2m208\u001b[0m\u001b]8;;\u001b\\\n"
      ]
     },
     "metadata": {},
     "output_type": "display_data"
    },
    {
     "name": "stdout",
     "output_type": "stream",
     "text": [
      "Error parsing: Command 'python /workspace/to_execute.py' in image 'qiskit_runner' returned non-zero exit status 1: b'Traceback (most recent call last):\\n  File \"/workspace/to_execute.py\", line 105, in <module>\\n    target_qc = qc\\nNameError: name \\'qc\\' is not defined\\n'\n",
      "Failed to execute to_execute.py in Docker.\n",
      "Output: Saved the Pytket circuit to /workspace/to_execute_qc_pytket.qasm\n",
      "Saved the Qiskit circuit to /workspace/to_execute_qc_qiskit.qasm\n",
      "Exported QASM files: [('/workspace/to_execute_qc_pytket.qasm', 'export_to_qasm_with_pytket'), ('/workspace/to_execute_qc_qiskit.qasm', 'export_to_qasm_with_qiskit')]\n",
      "Log has been saved to /workspace/to_execute_c30ec3_error.json\n",
      "\n",
      "Program to_execute.py executed successfully.\n",
      "New exception message: The circuits are not equivalent: /workspace/to_execute_qc_pytket.qasm, /workspace/to_execute_qc_qiskit.qasm\n",
      "Error parsing: Command 'python /workspace/to_execute.py' in image 'qiskit_runner' returned non-zero exit status 1: b'  File \"/workspace/to_execute.py\", line 25\\n    , custom_instructions=qasm2.LEGACY_CUSTOM_INSTRUCTIONS)\\n                                                          ^\\nSyntaxError: unmatched \\')\\'\\n'\n",
      "Failed to execute to_execute.py in Docker.\n",
      "Error parsing: Command 'python /workspace/to_execute.py' in image 'qiskit_runner' returned non-zero exit status 1: b'  File \"/workspace/to_execute.py\", line 10\\n    qc = qasm2.loads(\\n                    ^\\nSyntaxError: \\'(\\' was never closed\\n'\n",
      "Failed to execute to_execute.py in Docker.\n",
      "Error parsing: Command 'python /workspace/to_execute.py' in image 'qiskit_runner' returned non-zero exit status 1: b'  File \"/workspace/to_execute.py\", line 40\\n    , custom_instructions=qasm2.LEGACY_CUSTOM_INSTRUCTIONS)\\n                                                          ^\\nSyntaxError: unmatched \\')\\'\\n'\n",
      "Failed to execute to_execute.py in Docker.\n",
      "Output: Saved the Pytket circuit to /workspace/to_execute_qc_pytket.qasm\n",
      "Saved the Qiskit circuit to /workspace/to_execute_qc_qiskit.qasm\n",
      "Exported QASM files: [('/workspace/to_execute_qc_pytket.qasm', 'export_to_qasm_with_pytket'), ('/workspace/to_execute_qc_qiskit.qasm', 'export_to_qasm_with_qiskit')]\n",
      "Log has been saved to /workspace/to_execute_6f8501_error.json\n",
      "\n",
      "Program to_execute.py executed successfully.\n",
      "New exception message: The circuits are not equivalent: /workspace/to_execute_qc_pytket.qasm, /workspace/to_execute_qc_qiskit.qasm\n",
      "Error parsing: Command 'python /workspace/to_execute.py' in image 'qiskit_runner' returned non-zero exit status 1: b'  File \"/workspace/to_execute.py\", line 27\\n    , custom_instructions=qasm2.LEGACY_CUSTOM_INSTRUCTIONS)\\n                                                          ^\\nSyntaxError: unmatched \\')\\'\\n'\n",
      "Failed to execute to_execute.py in Docker.\n",
      "Error parsing: Command 'python /workspace/to_execute.py' in image 'qiskit_runner' returned non-zero exit status 1: b'Traceback (most recent call last):\\n  File \"/workspace/to_execute.py\", line 10, in <module>\\n    qc = qasm2.loads(\\n  File \"/usr/local/lib/python3.10/site-packages/qiskit/qasm2/__init__.py\", line 587, in loads\\n    return _parse.from_bytecode(\\n  File \"/usr/local/lib/python3.10/site-packages/qiskit/qasm2/parse.py\", line 214, in from_bytecode\\n    for op in bc:\\nqiskit.qasm2.exceptions.QASM2ParseError: \"<input>:11,22: \\'reg_2_c\\' is not defined in this scope\"\\n'\n",
      "Failed to execute to_execute.py in Docker.\n",
      "Error parsing: Command 'python /workspace/to_execute.py' in image 'qiskit_runner' returned non-zero exit status 1: b'  File \"/workspace/to_execute.py\", line 10\\n    qc = qasm2.loads(\\n                    ^\\nSyntaxError: \\'(\\' was never closed\\n'\n",
      "Failed to execute to_execute.py in Docker.\n",
      "Error parsing: Command 'python /workspace/to_execute.py' in image 'qiskit_runner' returned non-zero exit status 1: b'  File \"/workspace/to_execute.py\", line 31\\n    , custom_instructions=qasm2.LEGACY_CUSTOM_INSTRUCTIONS)\\n                                                          ^\\nSyntaxError: unmatched \\')\\'\\n'\n",
      "Failed to execute to_execute.py in Docker.\n",
      "Error parsing: Command 'python /workspace/to_execute.py' in image 'qiskit_runner' returned non-zero exit status 1: b'Traceback (most recent call last):\\n  File \"/workspace/to_execute.py\", line 10, in <module>\\n    qc = qasm2.loads(\\n  File \"/usr/local/lib/python3.10/site-packages/qiskit/qasm2/__init__.py\", line 587, in loads\\n    return _parse.from_bytecode(\\n  File \"/usr/local/lib/python3.10/site-packages/qiskit/qasm2/parse.py\", line 214, in from_bytecode\\n    for op in bc:\\nqiskit.qasm2.exceptions.QASM2ParseError: \"<input>:4,2: \\'reg_2_q\\' is not defined in this scope\"\\n'\n",
      "Failed to execute to_execute.py in Docker.\n",
      "Output: Saved the Pytket circuit to /workspace/to_execute_qc_pytket.qasm\n",
      "Saved the Qiskit circuit to /workspace/to_execute_qc_qiskit.qasm\n",
      "Exported QASM files: [('/workspace/to_execute_qc_pytket.qasm', 'export_to_qasm_with_pytket'), ('/workspace/to_execute_qc_qiskit.qasm', 'export_to_qasm_with_qiskit')]\n",
      "Log has been saved to /workspace/to_execute_742b9d_error.json\n",
      "\n",
      "Program to_execute.py executed successfully.\n",
      "New exception message: The circuits are not equivalent: /workspace/to_execute_qc_pytket.qasm, /workspace/to_execute_qc_qiskit.qasm\n",
      "Error parsing: Command 'python /workspace/to_execute.py' in image 'qiskit_runner' returned non-zero exit status 1: b'  File \"/workspace/to_execute.py\", line 24\\n    , custom_instructions=qasm2.LEGACY_CUSTOM_INSTRUCTIONS)\\n                                                          ^\\nSyntaxError: unmatched \\')\\'\\n'\n",
      "Failed to execute to_execute.py in Docker.\n",
      "Error parsing: Command 'python /workspace/to_execute.py' in image 'qiskit_runner' returned non-zero exit status 1: b'Traceback (most recent call last):\\n  File \"/workspace/to_execute.py\", line 10, in <module>\\n    qc = qasm2.loads(\\n  File \"/usr/local/lib/python3.10/site-packages/qiskit/qasm2/__init__.py\", line 587, in loads\\n    return _parse.from_bytecode(\\n  File \"/usr/local/lib/python3.10/site-packages/qiskit/qasm2/parse.py\", line 214, in from_bytecode\\n    for op in bc:\\nqiskit.qasm2.exceptions.QASM2ParseError: \"<input>:5,9: \\'reg_2_q\\' is not defined in this scope\"\\n'\n",
      "Failed to execute to_execute.py in Docker.\n",
      "Error parsing: Command 'python /workspace/to_execute.py' in image 'qiskit_runner' returned non-zero exit status 1: b'Traceback (most recent call last):\\n  File \"/workspace/to_execute.py\", line 10, in <module>\\n    qc = qasm2.loads(\\n  File \"/usr/local/lib/python3.10/site-packages/qiskit/qasm2/__init__.py\", line 587, in loads\\n    return _parse.from_bytecode(\\n  File \"/usr/local/lib/python3.10/site-packages/qiskit/qasm2/parse.py\", line 214, in from_bytecode\\n    for op in bc:\\nqiskit.qasm2.exceptions.QASM2ParseError: \"<input>:7,3: \\'reg_1_b\\' is not defined in this scope\"\\n'\n",
      "Failed to execute to_execute.py in Docker.\n",
      "Output: Saved the Pytket circuit to /workspace/to_execute_qc_pytket.qasm\n",
      "Saved the Qiskit circuit to /workspace/to_execute_qc_qiskit.qasm\n",
      "Exported QASM files: [('/workspace/to_execute_qc_pytket.qasm', 'export_to_qasm_with_pytket'), ('/workspace/to_execute_qc_qiskit.qasm', 'export_to_qasm_with_qiskit')]\n",
      "Log has been saved to /workspace/to_execute_d86d60_error.json\n",
      "\n",
      "Program to_execute.py executed successfully.\n",
      "New exception message: The circuits are not equivalent: /workspace/to_execute_qc_pytket.qasm, /workspace/to_execute_qc_qiskit.qasm\n",
      "Error parsing: Command 'python /workspace/to_execute.py' in image 'qiskit_runner' returned non-zero exit status 1: b'  File \"/workspace/to_execute.py\", line 20\\n    , custom_instructions=qasm2.LEGACY_CUSTOM_INSTRUCTIONS)\\n                                                          ^\\nSyntaxError: unmatched \\')\\'\\n'\n",
      "Failed to execute to_execute.py in Docker.\n",
      "Error parsing: Command 'python /workspace/to_execute.py' in image 'qiskit_runner' returned non-zero exit status 1: b'Traceback (most recent call last):\\n  File \"/workspace/to_execute.py\", line 10, in <module>\\n    qc = qasm2.loads(\\n  File \"/usr/local/lib/python3.10/site-packages/qiskit/qasm2/__init__.py\", line 587, in loads\\n    return _parse.from_bytecode(\\n  File \"/usr/local/lib/python3.10/site-packages/qiskit/qasm2/parse.py\", line 214, in from_bytecode\\n    for op in bc:\\nqiskit.qasm2.exceptions.QASM2ParseError: \"<input>:5,9: \\'reg_2_q\\' is not defined in this scope\"\\n'\n",
      "Failed to execute to_execute.py in Docker.\n",
      "Error parsing: Command 'python /workspace/to_execute.py' in image 'qiskit_runner' returned non-zero exit status 1: b'Traceback (most recent call last):\\n  File \"/workspace/to_execute.py\", line 10, in <module>\\n    qc = qasm2.loads(\\n  File \"/usr/local/lib/python3.10/site-packages/qiskit/qasm2/__init__.py\", line 587, in loads\\n    return _parse.from_bytecode(\\n  File \"/usr/local/lib/python3.10/site-packages/qiskit/qasm2/parse.py\", line 214, in from_bytecode\\n    for op in bc:\\nqiskit.qasm2.exceptions.QASM2ParseError: \"<input>:7,8: \\'reg_1_b\\' is not defined in this scope\"\\n'\n",
      "Failed to execute to_execute.py in Docker.\n",
      "Error parsing: Command 'python /workspace/to_execute.py' in image 'qiskit_runner' returned non-zero exit status 1: b'  File \"/workspace/to_execute.py\", line 10\\n    qc = qasm2.loads(\\n                    ^\\nSyntaxError: \\'(\\' was never closed\\n'\n",
      "Failed to execute to_execute.py in Docker.\n",
      "Error parsing: Command 'python /workspace/to_execute.py' in image 'qiskit_runner' returned non-zero exit status 1: b'  File \"/workspace/to_execute.py\", line 23\\n    , custom_instructions=qasm2.LEGACY_CUSTOM_INSTRUCTIONS)\\nIndentationError: unexpected indent\\n'\n",
      "Failed to execute to_execute.py in Docker.\n",
      "Error parsing: Command 'python /workspace/to_execute.py' in image 'qiskit_runner' returned non-zero exit status 1: b'  File \"/workspace/to_execute.py\", line 12\\n    include \"qelib1.inc\";\\n            ^^^^^^^^^^^^\\nSyntaxError: invalid syntax\\n'\n",
      "Failed to execute to_execute.py in Docker.\n",
      "Error parsing: Command 'python /workspace/to_execute.py' in image 'qiskit_runner' returned non-zero exit status 1: b'Traceback (most recent call last):\\n  File \"/workspace/to_execute.py\", line 10, in <module>\\n    qc = qasm2.loads(\\n  File \"/usr/local/lib/python3.10/site-packages/qiskit/qasm2/__init__.py\", line 587, in loads\\n    return _parse.from_bytecode(\\n  File \"/usr/local/lib/python3.10/site-packages/qiskit/qasm2/parse.py\", line 214, in from_bytecode\\n    for op in bc:\\nqiskit.qasm2.exceptions.QASM2ParseError: \"<input>:7,9: \\'reg_2_q\\' is not defined in this scope\"\\n'\n",
      "Failed to execute to_execute.py in Docker.\n",
      "Output: Saved the Pytket circuit to /workspace/to_execute_qc_pytket.qasm\n",
      "Saved the Qiskit circuit to /workspace/to_execute_qc_qiskit.qasm\n",
      "Exported QASM files: [('/workspace/to_execute_qc_pytket.qasm', 'export_to_qasm_with_pytket'), ('/workspace/to_execute_qc_qiskit.qasm', 'export_to_qasm_with_qiskit')]\n",
      "Log has been saved to /workspace/to_execute_28a6cf_error.json\n",
      "\n",
      "Program to_execute.py executed successfully.\n",
      "New exception message: The circuits are not equivalent: /workspace/to_execute_qc_pytket.qasm, /workspace/to_execute_qc_qiskit.qasm\n",
      "Error parsing: Command 'python /workspace/to_execute.py' in image 'qiskit_runner' returned non-zero exit status 1: b'  File \"/workspace/to_execute.py\", line 21\\n    , custom_instructions=qasm2.LEGACY_CUSTOM_INSTRUCTIONS)\\nIndentationError: unexpected indent\\n'\n",
      "Failed to execute to_execute.py in Docker.\n",
      "Error parsing: Command 'python /workspace/to_execute.py' in image 'qiskit_runner' returned non-zero exit status 1: b'  File \"/workspace/to_execute.py\", line 12\\n    include \"qelib1.inc\";\\n            ^^^^^^^^^^^^\\nSyntaxError: invalid syntax\\n'\n",
      "Failed to execute to_execute.py in Docker.\n",
      "Error parsing: Command 'python /workspace/to_execute.py' in image 'qiskit_runner' returned non-zero exit status 1: b'Traceback (most recent call last):\\n  File \"/workspace/to_execute.py\", line 10, in <module>\\n    qc = qasm2.loads(\\n  File \"/usr/local/lib/python3.10/site-packages/qiskit/qasm2/__init__.py\", line 587, in loads\\n    return _parse.from_bytecode(\\n  File \"/usr/local/lib/python3.10/site-packages/qiskit/qasm2/parse.py\", line 214, in from_bytecode\\n    for op in bc:\\nqiskit.qasm2.exceptions.QASM2ParseError: \"<input>:5,9: \\'reg_2_q\\' is not defined in this scope\"\\n'\n",
      "Failed to execute to_execute.py in Docker.\n",
      "Error parsing: Command 'python /workspace/to_execute.py' in image 'qiskit_runner' returned non-zero exit status 1: b'Traceback (most recent call last):\\n  File \"/workspace/to_execute.py\", line 10, in <module>\\n    qc = qasm2.loads(\\n  File \"/usr/local/lib/python3.10/site-packages/qiskit/qasm2/__init__.py\", line 587, in loads\\n    return _parse.from_bytecode(\\n  File \"/usr/local/lib/python3.10/site-packages/qiskit/qasm2/parse.py\", line 214, in from_bytecode\\n    for op in bc:\\nqiskit.qasm2.exceptions.QASM2ParseError: \"<input>:7,8: \\'reg_1_b\\' is not defined in this scope\"\\n'\n",
      "Failed to execute to_execute.py in Docker.\n",
      "Output: Saved the Pytket circuit to /workspace/to_execute_qc_pytket.qasm\n",
      "Saved the Qiskit circuit to /workspace/to_execute_qc_qiskit.qasm\n",
      "Exported QASM files: [('/workspace/to_execute_qc_pytket.qasm', 'export_to_qasm_with_pytket'), ('/workspace/to_execute_qc_qiskit.qasm', 'export_to_qasm_with_qiskit')]\n",
      "The circuits are equivalent: /workspace/to_execute_qc_pytket.qasm, /workspace/to_execute_qc_qiskit.qasm\n",
      "\n",
      "Program to_execute.py executed successfully.\n",
      "Output: Saved the Pytket circuit to /workspace/to_execute_qc_pytket.qasm\n",
      "Saved the Qiskit circuit to /workspace/to_execute_qc_qiskit.qasm\n",
      "Exported QASM files: [('/workspace/to_execute_qc_pytket.qasm', 'export_to_qasm_with_pytket'), ('/workspace/to_execute_qc_qiskit.qasm', 'export_to_qasm_with_qiskit')]\n",
      "Log has been saved to /workspace/to_execute_741113_error.json\n",
      "\n",
      "Program to_execute.py executed successfully.\n",
      "New exception message: The circuits are not equivalent: /workspace/to_execute_qc_pytket.qasm, /workspace/to_execute_qc_qiskit.qasm\n",
      "Error parsing: Command 'python /workspace/to_execute.py' in image 'qiskit_runner' returned non-zero exit status 1: b'  File \"/workspace/to_execute.py\", line 19\\n    , custom_instructions=qasm2.LEGACY_CUSTOM_INSTRUCTIONS)\\nIndentationError: unexpected indent\\n'\n",
      "Failed to execute to_execute.py in Docker.\n",
      "Error parsing: Command 'python /workspace/to_execute.py' in image 'qiskit_runner' returned non-zero exit status 1: b'  File \"/workspace/to_execute.py\", line 12\\n    include \"qelib1.inc\";\\n            ^^^^^^^^^^^^\\nSyntaxError: invalid syntax\\n'\n",
      "Failed to execute to_execute.py in Docker.\n",
      "Error parsing: Command 'python /workspace/to_execute.py' in image 'qiskit_runner' returned non-zero exit status 1: b'Traceback (most recent call last):\\n  File \"/workspace/to_execute.py\", line 10, in <module>\\n    qc = qasm2.loads(\\n  File \"/usr/local/lib/python3.10/site-packages/qiskit/qasm2/__init__.py\", line 587, in loads\\n    return _parse.from_bytecode(\\n  File \"/usr/local/lib/python3.10/site-packages/qiskit/qasm2/parse.py\", line 214, in from_bytecode\\n    for op in bc:\\nqiskit.qasm2.exceptions.QASM2ParseError: \"<input>:5,9: \\'reg_2_q\\' is not defined in this scope\"\\n'\n",
      "Failed to execute to_execute.py in Docker.\n",
      "Output: Saved the Pytket circuit to /workspace/to_execute_qc_pytket.qasm\n",
      "Saved the Qiskit circuit to /workspace/to_execute_qc_qiskit.qasm\n",
      "Exported QASM files: [('/workspace/to_execute_qc_pytket.qasm', 'export_to_qasm_with_pytket'), ('/workspace/to_execute_qc_qiskit.qasm', 'export_to_qasm_with_qiskit')]\n",
      "The circuits are equivalent: /workspace/to_execute_qc_pytket.qasm, /workspace/to_execute_qc_qiskit.qasm\n",
      "\n",
      "Program to_execute.py executed successfully.\n",
      "Output: Saved the Pytket circuit to /workspace/to_execute_qc_pytket.qasm\n",
      "Saved the Qiskit circuit to /workspace/to_execute_qc_qiskit.qasm\n",
      "Exported QASM files: [('/workspace/to_execute_qc_pytket.qasm', 'export_to_qasm_with_pytket'), ('/workspace/to_execute_qc_qiskit.qasm', 'export_to_qasm_with_qiskit')]\n",
      "The circuits are equivalent: /workspace/to_execute_qc_pytket.qasm, /workspace/to_execute_qc_qiskit.qasm\n",
      "\n",
      "Program to_execute.py executed successfully.\n",
      "Error parsing: Command 'python /workspace/to_execute.py' in image 'qiskit_runner' returned non-zero exit status 1: b'  File \"/workspace/to_execute.py\", line 10\\n    qc = qasm2.loads(\\n                    ^\\nSyntaxError: \\'(\\' was never closed\\n'\n",
      "Failed to execute to_execute.py in Docker.\n",
      "Error parsing: Command 'python /workspace/to_execute.py' in image 'qiskit_runner' returned non-zero exit status 1: b'  File \"/workspace/to_execute.py\", line 20\\n    , custom_instructions=qasm2.LEGACY_CUSTOM_INSTRUCTIONS)\\nIndentationError: unexpected indent\\n'\n",
      "Failed to execute to_execute.py in Docker.\n",
      "Output: Saved the Pytket circuit to /workspace/to_execute_qc_pytket.qasm\n",
      "Saved the Qiskit circuit to /workspace/to_execute_qc_qiskit.qasm\n",
      "Exported QASM files: [('/workspace/to_execute_qc_pytket.qasm', 'export_to_qasm_with_pytket'), ('/workspace/to_execute_qc_qiskit.qasm', 'export_to_qasm_with_qiskit')]\n",
      "Log has been saved to /workspace/to_execute_414065_error.json\n",
      "\n",
      "Program to_execute.py executed successfully.\n",
      "New exception message: The circuits are not equivalent: /workspace/to_execute_qc_pytket.qasm, /workspace/to_execute_qc_qiskit.qasm\n",
      "Error parsing: Command 'python /workspace/to_execute.py' in image 'qiskit_runner' returned non-zero exit status 1: b'  File \"/workspace/to_execute.py\", line 19\\n    , custom_instructions=qasm2.LEGACY_CUSTOM_INSTRUCTIONS)\\nIndentationError: unexpected indent\\n'\n",
      "Failed to execute to_execute.py in Docker.\n",
      "Error parsing: Command 'python /workspace/to_execute.py' in image 'qiskit_runner' returned non-zero exit status 1: b'  File \"/workspace/to_execute.py\", line 11\\n    OPENQASM 2.0;\\n    ^^^^^^^^^^^^\\nSyntaxError: invalid syntax. Perhaps you forgot a comma?\\n'\n",
      "Failed to execute to_execute.py in Docker.\n",
      "Output: Saved the Pytket circuit to /workspace/to_execute_qc_pytket.qasm\n",
      "Saved the Qiskit circuit to /workspace/to_execute_qc_qiskit.qasm\n",
      "Exported QASM files: [('/workspace/to_execute_qc_pytket.qasm', 'export_to_qasm_with_pytket'), ('/workspace/to_execute_qc_qiskit.qasm', 'export_to_qasm_with_qiskit')]\n",
      "Log has been saved to /workspace/to_execute_4fec38_error.json\n",
      "\n",
      "Program to_execute.py executed successfully.\n",
      "New exception message: The circuits are not equivalent: /workspace/to_execute_qc_pytket.qasm, /workspace/to_execute_qc_qiskit.qasm\n",
      "Error parsing: Command 'python /workspace/to_execute.py' in image 'qiskit_runner' returned non-zero exit status 1: b'  File \"/workspace/to_execute.py\", line 18\\n    , custom_instructions=qasm2.LEGACY_CUSTOM_INSTRUCTIONS)\\nIndentationError: unexpected indent\\n'\n",
      "Failed to execute to_execute.py in Docker.\n",
      "Error parsing: Command 'python /workspace/to_execute.py' in image 'qiskit_runner' returned non-zero exit status 1: b'  File \"/workspace/to_execute.py\", line 11\\n    include \"qelib1.inc\";\\n            ^^^^^^^^^^^^\\nSyntaxError: invalid syntax\\n'\n",
      "Failed to execute to_execute.py in Docker.\n",
      "Output: Saved the Pytket circuit to /workspace/to_execute_qc_pytket.qasm\n",
      "Saved the Qiskit circuit to /workspace/to_execute_qc_qiskit.qasm\n",
      "Exported QASM files: [('/workspace/to_execute_qc_pytket.qasm', 'export_to_qasm_with_pytket'), ('/workspace/to_execute_qc_qiskit.qasm', 'export_to_qasm_with_qiskit')]\n",
      "Log has been saved to /workspace/to_execute_4b3e3e_error.json\n",
      "\n",
      "Program to_execute.py executed successfully.\n",
      "New exception message: The circuits are not equivalent: /workspace/to_execute_qc_pytket.qasm, /workspace/to_execute_qc_qiskit.qasm\n",
      "Error parsing: Command 'python /workspace/to_execute.py' in image 'qiskit_runner' returned non-zero exit status 1: b'  File \"/workspace/to_execute.py\", line 17\\n    , custom_instructions=qasm2.LEGACY_CUSTOM_INSTRUCTIONS)\\nIndentationError: unexpected indent\\n'\n",
      "Failed to execute to_execute.py in Docker.\n",
      "Error parsing: Command 'python /workspace/to_execute.py' in image 'qiskit_runner' returned non-zero exit status 1: b'  File \"/workspace/to_execute.py\", line 11\\n    qreg reg_2_q[5];\\n    ^^^^^^^^^^^^^^^\\nSyntaxError: invalid syntax. Perhaps you forgot a comma?\\n'\n",
      "Failed to execute to_execute.py in Docker.\n",
      "Error parsing: Command 'python /workspace/to_execute.py' in image 'qiskit_runner' returned non-zero exit status 1: b'Traceback (most recent call last):\\n  File \"/workspace/to_execute.py\", line 10, in <module>\\n    qc = qasm2.loads(\\n  File \"/usr/local/lib/python3.10/site-packages/qiskit/qasm2/__init__.py\", line 587, in loads\\n    return _parse.from_bytecode(\\n  File \"/usr/local/lib/python3.10/site-packages/qiskit/qasm2/parse.py\", line 214, in from_bytecode\\n    for op in bc:\\nqiskit.qasm2.exceptions.QASM2ParseError: \"<input>:4,9: \\'reg_2_q\\' is not defined in this scope\"\\n'\n",
      "Failed to execute to_execute.py in Docker.\n",
      "Output: Saved the Pytket circuit to /workspace/to_execute_qc_pytket.qasm\n",
      "Saved the Qiskit circuit to /workspace/to_execute_qc_qiskit.qasm\n",
      "Exported QASM files: [('/workspace/to_execute_qc_pytket.qasm', 'export_to_qasm_with_pytket'), ('/workspace/to_execute_qc_qiskit.qasm', 'export_to_qasm_with_qiskit')]\n",
      "The circuits are equivalent: /workspace/to_execute_qc_pytket.qasm, /workspace/to_execute_qc_qiskit.qasm\n",
      "\n",
      "Program to_execute.py executed successfully.\n",
      "Output: Saved the Pytket circuit to /workspace/to_execute_qc_pytket.qasm\n",
      "Saved the Qiskit circuit to /workspace/to_execute_qc_qiskit.qasm\n",
      "Exported QASM files: [('/workspace/to_execute_qc_pytket.qasm', 'export_to_qasm_with_pytket'), ('/workspace/to_execute_qc_qiskit.qasm', 'export_to_qasm_with_qiskit')]\n",
      "Log has been saved to /workspace/to_execute_29930b_error.json\n",
      "\n",
      "Program to_execute.py executed successfully.\n",
      "New exception message: The circuits are not equivalent: /workspace/to_execute_qc_pytket.qasm, /workspace/to_execute_qc_qiskit.qasm\n",
      "Error parsing: Command 'python /workspace/to_execute.py' in image 'qiskit_runner' returned non-zero exit status 1: b'  File \"/workspace/to_execute.py\", line 16\\n    , custom_instructions=qasm2.LEGACY_CUSTOM_INSTRUCTIONS)\\nIndentationError: unexpected indent\\n'\n",
      "Failed to execute to_execute.py in Docker.\n",
      "Error parsing: Command 'python /workspace/to_execute.py' in image 'qiskit_runner' returned non-zero exit status 1: b'  File \"/workspace/to_execute.py\", line 11\\n    qreg reg_2_q[5];\\n    ^^^^^^^^^^^^^^^\\nSyntaxError: invalid syntax. Perhaps you forgot a comma?\\n'\n",
      "Failed to execute to_execute.py in Docker.\n",
      "Error parsing: Command 'python /workspace/to_execute.py' in image 'qiskit_runner' returned non-zero exit status 1: b'Traceback (most recent call last):\\n  File \"/workspace/to_execute.py\", line 10, in <module>\\n    qc = qasm2.loads(\\n  File \"/usr/local/lib/python3.10/site-packages/qiskit/qasm2/__init__.py\", line 587, in loads\\n    return _parse.from_bytecode(\\n  File \"/usr/local/lib/python3.10/site-packages/qiskit/qasm2/parse.py\", line 214, in from_bytecode\\n    for op in bc:\\nqiskit.qasm2.exceptions.QASM2ParseError: \"<input>:3,9: \\'reg_2_q\\' is not defined in this scope\"\\n'\n",
      "Failed to execute to_execute.py in Docker.\n",
      "Output: Saved the Pytket circuit to /workspace/to_execute_qc_pytket.qasm\n",
      "Saved the Qiskit circuit to /workspace/to_execute_qc_qiskit.qasm\n",
      "Exported QASM files: [('/workspace/to_execute_qc_pytket.qasm', 'export_to_qasm_with_pytket'), ('/workspace/to_execute_qc_qiskit.qasm', 'export_to_qasm_with_qiskit')]\n",
      "The circuits are equivalent: /workspace/to_execute_qc_pytket.qasm, /workspace/to_execute_qc_qiskit.qasm\n",
      "\n",
      "Program to_execute.py executed successfully.\n",
      "Output: Saved the Pytket circuit to /workspace/to_execute_qc_pytket.qasm\n",
      "Saved the Qiskit circuit to /workspace/to_execute_qc_qiskit.qasm\n",
      "Exported QASM files: [('/workspace/to_execute_qc_pytket.qasm', 'export_to_qasm_with_pytket'), ('/workspace/to_execute_qc_qiskit.qasm', 'export_to_qasm_with_qiskit')]\n",
      "Log has been saved to /workspace/to_execute_0cfdf1_error.json\n",
      "\n",
      "Program to_execute.py executed successfully.\n",
      "New exception message: The circuits are not equivalent: /workspace/to_execute_qc_pytket.qasm, /workspace/to_execute_qc_qiskit.qasm\n",
      "Error parsing: Command 'python /workspace/to_execute.py' in image 'qiskit_runner' returned non-zero exit status 1: b'  File \"/workspace/to_execute.py\", line 15\\n    , custom_instructions=qasm2.LEGACY_CUSTOM_INSTRUCTIONS)\\nIndentationError: unexpected indent\\n'\n",
      "Failed to execute to_execute.py in Docker.\n",
      "Error parsing: Command 'python /workspace/to_execute.py' in image 'qiskit_runner' returned non-zero exit status 1: b'  File \"/workspace/to_execute.py\", line 11\\n    qreg reg_2_q[5];\\n    ^^^^^^^^^^^^^^^\\nSyntaxError: invalid syntax. Perhaps you forgot a comma?\\n'\n",
      "Failed to execute to_execute.py in Docker.\n",
      "Error parsing: Command 'python /workspace/to_execute.py' in image 'qiskit_runner' returned non-zero exit status 1: b'Traceback (most recent call last):\\n  File \"/workspace/to_execute.py\", line 10, in <module>\\n    qc = qasm2.loads(\\n  File \"/usr/local/lib/python3.10/site-packages/qiskit/qasm2/__init__.py\", line 587, in loads\\n    return _parse.from_bytecode(\\n  File \"/usr/local/lib/python3.10/site-packages/qiskit/qasm2/parse.py\", line 214, in from_bytecode\\n    for op in bc:\\nqiskit.qasm2.exceptions.QASM2ParseError: \"<input>:3,9: \\'reg_2_q\\' is not defined in this scope\"\\n'\n",
      "Failed to execute to_execute.py in Docker.\n",
      "Output: Saved the Pytket circuit to /workspace/to_execute_qc_pytket.qasm\n",
      "Saved the Qiskit circuit to /workspace/to_execute_qc_qiskit.qasm\n",
      "Exported QASM files: [('/workspace/to_execute_qc_pytket.qasm', 'export_to_qasm_with_pytket'), ('/workspace/to_execute_qc_qiskit.qasm', 'export_to_qasm_with_qiskit')]\n",
      "The circuits are equivalent: /workspace/to_execute_qc_pytket.qasm, /workspace/to_execute_qc_qiskit.qasm\n",
      "\n",
      "Program to_execute.py executed successfully.\n",
      "Output: Saved the Pytket circuit to /workspace/to_execute_qc_pytket.qasm\n",
      "Saved the Qiskit circuit to /workspace/to_execute_qc_qiskit.qasm\n",
      "Exported QASM files: [('/workspace/to_execute_qc_pytket.qasm', 'export_to_qasm_with_pytket'), ('/workspace/to_execute_qc_qiskit.qasm', 'export_to_qasm_with_qiskit')]\n",
      "The circuits are equivalent: /workspace/to_execute_qc_pytket.qasm, /workspace/to_execute_qc_qiskit.qasm\n",
      "\n",
      "Program to_execute.py executed successfully.\n",
      "Error parsing: Command 'python /workspace/to_execute.py' in image 'qiskit_runner' returned non-zero exit status 1: b'  File \"/workspace/to_execute.py\", line 11\\n    qreg reg_2_q[5];\\n    ^^^^^^^^^^^^^^^\\nSyntaxError: invalid syntax. Perhaps you forgot a comma?\\n'\n",
      "Failed to execute to_execute.py in Docker.\n",
      "Error parsing: Command 'python /workspace/to_execute.py' in image 'qiskit_runner' returned non-zero exit status 1: b'  File \"/workspace/to_execute.py\", line 10\\n    qc = qasm2.loads(\\n                    ^\\nSyntaxError: \\'(\\' was never closed\\n'\n",
      "Failed to execute to_execute.py in Docker.\n"
     ]
    },
    {
     "data": {
      "text/html": [
       "<pre style=\"white-space:pre;overflow-x:auto;line-height:normal;font-family:Menlo,'DejaVu Sans Mono',consolas,'Courier New',monospace\"><span style=\"color: #7fbfbf; text-decoration-color: #7fbfbf\">[14:57:17] </span><span style=\"color: #008000; text-decoration-color: #008000\">Minimized file saved as:</span>                                                        <a href=\"file:///home/paltenmo/projects/crossplatform/analysis_and_reporting/ddmin_target_file.py\" target=\"_blank\"><span style=\"color: #7f7f7f; text-decoration-color: #7f7f7f\">ddmin_target_file.py</span></a><span style=\"color: #7f7f7f; text-decoration-color: #7f7f7f\">:</span><a href=\"file:///home/paltenmo/projects/crossplatform/analysis_and_reporting/ddmin_target_file.py#240\" target=\"_blank\"><span style=\"color: #7f7f7f; text-decoration-color: #7f7f7f\">240</span></a>\n",
       "<span style=\"color: #7fbfbf; text-decoration-color: #7fbfbf\">           </span>..<span style=\"color: #800080; text-decoration-color: #800080\">/reports/v009/2024_11_21__14_53/</span><span style=\"color: #ff00ff; text-decoration-color: #ff00ff\">qiskit_circuit_5q_10g_6316_146402_6a36f0_erro</span> <span style=\"color: #7f7f7f; text-decoration-color: #7f7f7f\">                        </span>\n",
       "<span style=\"color: #7fbfbf; text-decoration-color: #7fbfbf\">           </span><span style=\"color: #ff00ff; text-decoration-color: #ff00ff\">r_min.py</span>                                                                        <span style=\"color: #7f7f7f; text-decoration-color: #7f7f7f\">                        </span>\n",
       "</pre>\n"
      ],
      "text/plain": [
       "\u001b[2;36m[14:57:17]\u001b[0m\u001b[2;36m \u001b[0m\u001b[32mMinimized file saved as:\u001b[0m                                                        \u001b]8;id=692249;file:///home/paltenmo/projects/crossplatform/analysis_and_reporting/ddmin_target_file.py\u001b\\\u001b[2mddmin_target_file.py\u001b[0m\u001b]8;;\u001b\\\u001b[2m:\u001b[0m\u001b]8;id=195353;file:///home/paltenmo/projects/crossplatform/analysis_and_reporting/ddmin_target_file.py#240\u001b\\\u001b[2m240\u001b[0m\u001b]8;;\u001b\\\n",
       "\u001b[2;36m           \u001b[0m..\u001b[35m/reports/v009/2024_11_21__14_53/\u001b[0m\u001b[95mqiskit_circuit_5q_10g_6316_146402_6a36f0_erro\u001b[0m \u001b[2m                        \u001b[0m\n",
       "\u001b[2;36m           \u001b[0m\u001b[95mr_min.py\u001b[0m                                                                        \u001b[2m                        \u001b[0m\n"
      ]
     },
     "metadata": {},
     "output_type": "display_data"
    },
    {
     "name": "stdout",
     "output_type": "stream",
     "text": [
      "Output: Saved the Pytket circuit to /workspace/qiskit_circuit_5q_10g_6316_146402_6a36f0_error_min_qc_pytket.qasm\n",
      "Saved the Qiskit circuit to /workspace/qiskit_circuit_5q_10g_6316_146402_6a36f0_error_min_qc_qiskit.qasm\n",
      "Exported QASM files: [('/workspace/qiskit_circuit_5q_10g_6316_146402_6a36f0_error_min_qc_pytket.qasm', 'export_to_qasm_with_pytket'), ('/workspace/qiskit_circuit_5q_10g_6316_146402_6a36f0_error_min_qc_qiskit.qasm', 'export_to_qasm_with_qiskit')]\n",
      "Log has been saved to /workspace/qiskit_circuit_5q_10g_6316_146402_6a36f0_error_min_c55469_error.json\n",
      "\n"
     ]
    },
    {
     "data": {
      "text/html": [
       "<pre style=\"white-space:pre;overflow-x:auto;line-height:normal;font-family:Menlo,'DejaVu Sans Mono',consolas,'Courier New',monospace\"><span style=\"color: #7fbfbf; text-decoration-color: #7fbfbf\">[14:57:24] </span>Program qiskit_circuit_5q_10g_6316_146402_6a36f0_error_min.py executed              <a href=\"file:///home/paltenmo/projects/crossplatform/generators/docker_tooling.py\" target=\"_blank\"><span style=\"color: #7f7f7f; text-decoration-color: #7f7f7f\">docker_tooling.py</span></a><span style=\"color: #7f7f7f; text-decoration-color: #7f7f7f\">:</span><a href=\"file:///home/paltenmo/projects/crossplatform/generators/docker_tooling.py#46\" target=\"_blank\"><span style=\"color: #7f7f7f; text-decoration-color: #7f7f7f\">46</span></a>\n",
       "<span style=\"color: #7fbfbf; text-decoration-color: #7fbfbf\">           </span>successfully.                                                                       <span style=\"color: #7f7f7f; text-decoration-color: #7f7f7f\">                    </span>\n",
       "</pre>\n"
      ],
      "text/plain": [
       "\u001b[2;36m[14:57:24]\u001b[0m\u001b[2;36m \u001b[0mProgram qiskit_circuit_5q_10g_6316_146402_6a36f0_error_min.py executed              \u001b]8;id=784739;file:///home/paltenmo/projects/crossplatform/generators/docker_tooling.py\u001b\\\u001b[2mdocker_tooling.py\u001b[0m\u001b]8;;\u001b\\\u001b[2m:\u001b[0m\u001b]8;id=128634;file:///home/paltenmo/projects/crossplatform/generators/docker_tooling.py#46\u001b\\\u001b[2m46\u001b[0m\u001b]8;;\u001b\\\n",
       "\u001b[2;36m           \u001b[0msuccessfully.                                                                       \u001b[2m                    \u001b[0m\n"
      ]
     },
     "metadata": {},
     "output_type": "display_data"
    },
    {
     "data": {
      "application/vnd.jupyter.widget-view+json": {
       "model_id": "51eebf741baf454fa9504f1ccf6713b5",
       "version_major": 2,
       "version_minor": 0
      },
      "text/plain": [
       "Executing:   0%|          | 0/13 [00:00<?, ?cell/s]"
      ]
     },
     "metadata": {},
     "output_type": "display_data"
    },
    {
     "data": {
      "text/html": [
       "<pre style=\"white-space:pre;overflow-x:auto;line-height:normal;font-family:Menlo,'DejaVu Sans Mono',consolas,'Courier New',monospace\"><span style=\"color: #7fbfbf; text-decoration-color: #7fbfbf\">[14:57:26] </span>Analysis notebook executed: ..<span style=\"color: #800080; text-decoration-color: #800080\">/reports/v009/2024_11_21__14_53/</span><span style=\"color: #ff00ff; text-decoration-color: #ff00ff\">analysis_output.ipynb</span>        <a href=\"file:///home/paltenmo/projects/crossplatform/analysis_and_reporting/triage.py\" target=\"_blank\"><span style=\"color: #7f7f7f; text-decoration-color: #7f7f7f\">triage.py</span></a><span style=\"color: #7f7f7f; text-decoration-color: #7f7f7f\">:</span><a href=\"file:///home/paltenmo/projects/crossplatform/analysis_and_reporting/triage.py#163\" target=\"_blank\"><span style=\"color: #7f7f7f; text-decoration-color: #7f7f7f\">163</span></a>\n",
       "</pre>\n"
      ],
      "text/plain": [
       "\u001b[2;36m[14:57:26]\u001b[0m\u001b[2;36m \u001b[0mAnalysis notebook executed: ..\u001b[35m/reports/v009/2024_11_21__14_53/\u001b[0m\u001b[95manalysis_output.ipynb\u001b[0m        \u001b]8;id=472223;file:///home/paltenmo/projects/crossplatform/analysis_and_reporting/triage.py\u001b\\\u001b[2mtriage.py\u001b[0m\u001b]8;;\u001b\\\u001b[2m:\u001b[0m\u001b]8;id=260868;file:///home/paltenmo/projects/crossplatform/analysis_and_reporting/triage.py#163\u001b\\\u001b[2m163\u001b[0m\u001b]8;;\u001b\\\n"
      ]
     },
     "metadata": {},
     "output_type": "display_data"
    },
    {
     "data": {
      "text/html": [
       "<pre style=\"white-space:pre;overflow-x:auto;line-height:normal;font-family:Menlo,'DejaVu Sans Mono',consolas,'Courier New',monospace\"><span style=\"color: #7fbfbf; text-decoration-color: #7fbfbf\">           </span>Created report folder: ..<span style=\"color: #800080; text-decoration-color: #800080\">/reports/v009/</span><span style=\"color: #ff00ff; text-decoration-color: #ff00ff\">2024_11_21__14_57</span>                                   <a href=\"file:///home/paltenmo/projects/crossplatform/analysis_and_reporting/triage.py\" target=\"_blank\"><span style=\"color: #7f7f7f; text-decoration-color: #7f7f7f\">triage.py</span></a><span style=\"color: #7f7f7f; text-decoration-color: #7f7f7f\">:</span><a href=\"file:///home/paltenmo/projects/crossplatform/analysis_and_reporting/triage.py#131\" target=\"_blank\"><span style=\"color: #7f7f7f; text-decoration-color: #7f7f7f\">131</span></a>\n",
       "</pre>\n"
      ],
      "text/plain": [
       "\u001b[2;36m          \u001b[0m\u001b[2;36m \u001b[0mCreated report folder: ..\u001b[35m/reports/v009/\u001b[0m\u001b[95m2024_11_21__14_57\u001b[0m                                   \u001b]8;id=630748;file:///home/paltenmo/projects/crossplatform/analysis_and_reporting/triage.py\u001b\\\u001b[2mtriage.py\u001b[0m\u001b]8;;\u001b\\\u001b[2m:\u001b[0m\u001b]8;id=541353;file:///home/paltenmo/projects/crossplatform/analysis_and_reporting/triage.py#131\u001b\\\u001b[2m131\u001b[0m\u001b]8;;\u001b\\\n"
      ]
     },
     "metadata": {},
     "output_type": "display_data"
    },
    {
     "data": {
      "text/html": [
       "<pre style=\"white-space:pre;overflow-x:auto;line-height:normal;font-family:Menlo,'DejaVu Sans Mono',consolas,'Courier New',monospace\"><span style=\"color: #7fbfbf; text-decoration-color: #7fbfbf\">           </span>Copied files to: ..<span style=\"color: #800080; text-decoration-color: #800080\">/reports/v009/</span><span style=\"color: #ff00ff; text-decoration-color: #ff00ff\">2024_11_21__14_57</span>                                         <a href=\"file:///home/paltenmo/projects/crossplatform/analysis_and_reporting/triage.py\" target=\"_blank\"><span style=\"color: #7f7f7f; text-decoration-color: #7f7f7f\">triage.py</span></a><span style=\"color: #7f7f7f; text-decoration-color: #7f7f7f\">:</span><a href=\"file:///home/paltenmo/projects/crossplatform/analysis_and_reporting/triage.py#140\" target=\"_blank\"><span style=\"color: #7f7f7f; text-decoration-color: #7f7f7f\">140</span></a>\n",
       "</pre>\n"
      ],
      "text/plain": [
       "\u001b[2;36m          \u001b[0m\u001b[2;36m \u001b[0mCopied files to: ..\u001b[35m/reports/v009/\u001b[0m\u001b[95m2024_11_21__14_57\u001b[0m                                         \u001b]8;id=991224;file:///home/paltenmo/projects/crossplatform/analysis_and_reporting/triage.py\u001b\\\u001b[2mtriage.py\u001b[0m\u001b]8;;\u001b\\\u001b[2m:\u001b[0m\u001b]8;id=138808;file:///home/paltenmo/projects/crossplatform/analysis_and_reporting/triage.py#140\u001b\\\u001b[2m140\u001b[0m\u001b]8;;\u001b\\\n"
      ]
     },
     "metadata": {},
     "output_type": "display_data"
    },
    {
     "data": {
      "text/html": [
       "<pre style=\"white-space:pre;overflow-x:auto;line-height:normal;font-family:Menlo,'DejaVu Sans Mono',consolas,'Courier New',monospace\"><span style=\"color: #7fbfbf; text-decoration-color: #7fbfbf\">[14:57:26] </span>Involved functions:                                                             <a href=\"file:///home/paltenmo/projects/crossplatform/analysis_and_reporting/ddmin_target_file.py\" target=\"_blank\"><span style=\"color: #7f7f7f; text-decoration-color: #7f7f7f\">ddmin_target_file.py</span></a><span style=\"color: #7f7f7f; text-decoration-color: #7f7f7f\">:</span><a href=\"file:///home/paltenmo/projects/crossplatform/analysis_and_reporting/ddmin_target_file.py#206\" target=\"_blank\"><span style=\"color: #7f7f7f; text-decoration-color: #7f7f7f\">206</span></a>\n",
       "</pre>\n"
      ],
      "text/plain": [
       "\u001b[2;36m[14:57:26]\u001b[0m\u001b[2;36m \u001b[0mInvolved functions:                                                             \u001b]8;id=833856;file:///home/paltenmo/projects/crossplatform/analysis_and_reporting/ddmin_target_file.py\u001b\\\u001b[2mddmin_target_file.py\u001b[0m\u001b]8;;\u001b\\\u001b[2m:\u001b[0m\u001b]8;id=305986;file:///home/paltenmo/projects/crossplatform/analysis_and_reporting/ddmin_target_file.py#206\u001b\\\u001b[2m206\u001b[0m\u001b]8;;\u001b\\\n"
      ]
     },
     "metadata": {},
     "output_type": "display_data"
    },
    {
     "data": {
      "text/html": [
       "<pre style=\"white-space:pre;overflow-x:auto;line-height:normal;font-family:Menlo,'DejaVu Sans Mono',consolas,'Courier New',monospace\"><span style=\"color: #7fbfbf; text-decoration-color: #7fbfbf\">           </span>  - compare_qasm_via_qcec                                                       <a href=\"file:///home/paltenmo/projects/crossplatform/analysis_and_reporting/ddmin_target_file.py\" target=\"_blank\"><span style=\"color: #7f7f7f; text-decoration-color: #7f7f7f\">ddmin_target_file.py</span></a><span style=\"color: #7f7f7f; text-decoration-color: #7f7f7f\">:</span><a href=\"file:///home/paltenmo/projects/crossplatform/analysis_and_reporting/ddmin_target_file.py#208\" target=\"_blank\"><span style=\"color: #7f7f7f; text-decoration-color: #7f7f7f\">208</span></a>\n",
       "</pre>\n"
      ],
      "text/plain": [
       "\u001b[2;36m          \u001b[0m\u001b[2;36m \u001b[0m  - compare_qasm_via_qcec                                                       \u001b]8;id=409146;file:///home/paltenmo/projects/crossplatform/analysis_and_reporting/ddmin_target_file.py\u001b\\\u001b[2mddmin_target_file.py\u001b[0m\u001b]8;;\u001b\\\u001b[2m:\u001b[0m\u001b]8;id=978736;file:///home/paltenmo/projects/crossplatform/analysis_and_reporting/ddmin_target_file.py#208\u001b\\\u001b[2m208\u001b[0m\u001b]8;;\u001b\\\n"
      ]
     },
     "metadata": {},
     "output_type": "display_data"
    },
    {
     "data": {
      "text/html": [
       "<pre style=\"white-space:pre;overflow-x:auto;line-height:normal;font-family:Menlo,'DejaVu Sans Mono',consolas,'Courier New',monospace\"><span style=\"color: #7fbfbf; text-decoration-color: #7fbfbf\">           </span>  - export_to_qasm_with_pytket                                                  <a href=\"file:///home/paltenmo/projects/crossplatform/analysis_and_reporting/ddmin_target_file.py\" target=\"_blank\"><span style=\"color: #7f7f7f; text-decoration-color: #7f7f7f\">ddmin_target_file.py</span></a><span style=\"color: #7f7f7f; text-decoration-color: #7f7f7f\">:</span><a href=\"file:///home/paltenmo/projects/crossplatform/analysis_and_reporting/ddmin_target_file.py#208\" target=\"_blank\"><span style=\"color: #7f7f7f; text-decoration-color: #7f7f7f\">208</span></a>\n",
       "</pre>\n"
      ],
      "text/plain": [
       "\u001b[2;36m          \u001b[0m\u001b[2;36m \u001b[0m  - export_to_qasm_with_pytket                                                  \u001b]8;id=669945;file:///home/paltenmo/projects/crossplatform/analysis_and_reporting/ddmin_target_file.py\u001b\\\u001b[2mddmin_target_file.py\u001b[0m\u001b]8;;\u001b\\\u001b[2m:\u001b[0m\u001b]8;id=378051;file:///home/paltenmo/projects/crossplatform/analysis_and_reporting/ddmin_target_file.py#208\u001b\\\u001b[2m208\u001b[0m\u001b]8;;\u001b\\\n"
      ]
     },
     "metadata": {},
     "output_type": "display_data"
    },
    {
     "data": {
      "text/html": [
       "<pre style=\"white-space:pre;overflow-x:auto;line-height:normal;font-family:Menlo,'DejaVu Sans Mono',consolas,'Courier New',monospace\"><span style=\"color: #7fbfbf; text-decoration-color: #7fbfbf\">           </span>  - export_to_qasm_with_qiskit                                                  <a href=\"file:///home/paltenmo/projects/crossplatform/analysis_and_reporting/ddmin_target_file.py\" target=\"_blank\"><span style=\"color: #7f7f7f; text-decoration-color: #7f7f7f\">ddmin_target_file.py</span></a><span style=\"color: #7f7f7f; text-decoration-color: #7f7f7f\">:</span><a href=\"file:///home/paltenmo/projects/crossplatform/analysis_and_reporting/ddmin_target_file.py#208\" target=\"_blank\"><span style=\"color: #7f7f7f; text-decoration-color: #7f7f7f\">208</span></a>\n",
       "</pre>\n"
      ],
      "text/plain": [
       "\u001b[2;36m          \u001b[0m\u001b[2;36m \u001b[0m  - export_to_qasm_with_qiskit                                                  \u001b]8;id=829317;file:///home/paltenmo/projects/crossplatform/analysis_and_reporting/ddmin_target_file.py\u001b\\\u001b[2mddmin_target_file.py\u001b[0m\u001b]8;;\u001b\\\u001b[2m:\u001b[0m\u001b]8;id=334716;file:///home/paltenmo/projects/crossplatform/analysis_and_reporting/ddmin_target_file.py#208\u001b\\\u001b[2m208\u001b[0m\u001b]8;;\u001b\\\n"
      ]
     },
     "metadata": {},
     "output_type": "display_data"
    },
    {
     "name": "stdout",
     "output_type": "stream",
     "text": [
      "Error parsing: Command 'python /workspace/to_execute.py' in image 'qiskit_runner' returned non-zero exit status 1: b'Traceback (most recent call last):\\n  File \"/workspace/to_execute.py\", line 105, in <module>\\n    target_qc = qc\\nNameError: name \\'qc\\' is not defined\\n'\n",
      "Failed to execute to_execute.py in Docker.\n",
      "Output: Saved the Pytket circuit to /workspace/to_execute_qc_pytket.qasm\n",
      "Saved the Qiskit circuit to /workspace/to_execute_qc_qiskit.qasm\n",
      "Exported QASM files: [('/workspace/to_execute_qc_pytket.qasm', 'export_to_qasm_with_pytket'), ('/workspace/to_execute_qc_qiskit.qasm', 'export_to_qasm_with_qiskit')]\n",
      "Log has been saved to /workspace/to_execute_880d95_error.json\n",
      "\n",
      "Program to_execute.py executed successfully.\n",
      "New exception message: The circuits are not equivalent: /workspace/to_execute_qc_pytket.qasm, /workspace/to_execute_qc_qiskit.qasm\n",
      "Error parsing: Command 'python /workspace/to_execute.py' in image 'qiskit_runner' returned non-zero exit status 1: b'  File \"/workspace/to_execute.py\", line 16\\n    , custom_instructions=qasm2.LEGACY_CUSTOM_INSTRUCTIONS)\\n                                                          ^\\nSyntaxError: unmatched \\')\\'\\n'\n",
      "Failed to execute to_execute.py in Docker.\n",
      "Error parsing: Command 'python /workspace/to_execute.py' in image 'qiskit_runner' returned non-zero exit status 1: b'  File \"/workspace/to_execute.py\", line 10\\n    qc = qasm2.loads(\\n                    ^\\nSyntaxError: \\'(\\' was never closed\\n'\n",
      "Failed to execute to_execute.py in Docker.\n",
      "Error parsing: Command 'python /workspace/to_execute.py' in image 'qiskit_runner' returned non-zero exit status 1: b'  File \"/workspace/to_execute.py\", line 21\\n    , custom_instructions=qasm2.LEGACY_CUSTOM_INSTRUCTIONS)\\n                                                          ^\\nSyntaxError: unmatched \\')\\'\\n'\n",
      "Failed to execute to_execute.py in Docker.\n",
      "Error parsing: Command 'python /workspace/to_execute.py' in image 'qiskit_runner' returned non-zero exit status 1: b'Traceback (most recent call last):\\n  File \"/workspace/to_execute.py\", line 10, in <module>\\n    qc = qasm2.loads(\\n  File \"/usr/local/lib/python3.10/site-packages/qiskit/qasm2/__init__.py\", line 587, in loads\\n    return _parse.from_bytecode(\\n  File \"/usr/local/lib/python3.10/site-packages/qiskit/qasm2/parse.py\", line 214, in from_bytecode\\n    for op in bc:\\nqiskit.qasm2.exceptions.QASM2ParseError: \"<input>:5,0: cannot use non-builtin custom instruction \\'cx\\' before definition\"\\n'\n",
      "Failed to execute to_execute.py in Docker.\n",
      "Error parsing: Command 'python /workspace/to_execute.py' in image 'qiskit_runner' returned non-zero exit status 1: b'Traceback (most recent call last):\\n  File \"/workspace/to_execute.py\", line 10, in <module>\\n    qc = qasm2.loads(\\n  File \"/usr/local/lib/python3.10/site-packages/qiskit/qasm2/__init__.py\", line 587, in loads\\n    return _parse.from_bytecode(\\n  File \"/usr/local/lib/python3.10/site-packages/qiskit/qasm2/parse.py\", line 214, in from_bytecode\\n    for op in bc:\\nqiskit.qasm2.exceptions.QASM2ParseError: \"<input>:7,3: \\'reg_1_a\\' is not defined in this scope\"\\n'\n",
      "Failed to execute to_execute.py in Docker.\n",
      "Error parsing: Command 'python /workspace/to_execute.py' in image 'qiskit_runner' returned non-zero exit status 1: b'  File \"/workspace/to_execute.py\", line 10\\n    qc = qasm2.loads(\\n                    ^\\nSyntaxError: \\'(\\' was never closed\\n'\n",
      "Failed to execute to_execute.py in Docker.\n",
      "Error parsing: Command 'python /workspace/to_execute.py' in image 'qiskit_runner' returned non-zero exit status 1: b'  File \"/workspace/to_execute.py\", line 24\\n    , custom_instructions=qasm2.LEGACY_CUSTOM_INSTRUCTIONS)\\nIndentationError: unexpected indent\\n'\n",
      "Failed to execute to_execute.py in Docker.\n",
      "Error parsing: Command 'python /workspace/to_execute.py' in image 'qiskit_runner' returned non-zero exit status 1: b'  File \"/workspace/to_execute.py\", line 12\\n    include \"qelib1.inc\";\\n            ^^^^^^^^^^^^\\nSyntaxError: invalid syntax\\n'\n",
      "Failed to execute to_execute.py in Docker.\n",
      "Error parsing: Command 'python /workspace/to_execute.py' in image 'qiskit_runner' returned non-zero exit status 1: b'Traceback (most recent call last):\\n  File \"/workspace/to_execute.py\", line 10, in <module>\\n    qc = qasm2.loads(\\n  File \"/usr/local/lib/python3.10/site-packages/qiskit/qasm2/__init__.py\", line 587, in loads\\n    return _parse.from_bytecode(\\n  File \"/usr/local/lib/python3.10/site-packages/qiskit/qasm2/parse.py\", line 214, in from_bytecode\\n    for op in bc:\\nqiskit.qasm2.exceptions.QASM2ParseError: \"<input>:7,0: cannot use non-builtin custom instruction \\'cx\\' before definition\"\\n'\n",
      "Failed to execute to_execute.py in Docker.\n",
      "Error parsing: Command 'python /workspace/to_execute.py' in image 'qiskit_runner' returned non-zero exit status 1: b'Traceback (most recent call last):\\n  File \"/workspace/to_execute.py\", line 10, in <module>\\n    qc = qasm2.loads(\\n  File \"/usr/local/lib/python3.10/site-packages/qiskit/qasm2/__init__.py\", line 587, in loads\\n    return _parse.from_bytecode(\\n  File \"/usr/local/lib/python3.10/site-packages/qiskit/qasm2/parse.py\", line 214, in from_bytecode\\n    for op in bc:\\nqiskit.qasm2.exceptions.QASM2ParseError: \"<input>:7,14: \\'reg_1_b\\' is not defined in this scope\"\\n'\n",
      "Failed to execute to_execute.py in Docker.\n",
      "Error parsing: Command 'python /workspace/to_execute.py' in image 'qiskit_runner' returned non-zero exit status 1: b'Traceback (most recent call last):\\n  File \"/workspace/to_execute.py\", line 10, in <module>\\n    qc = qasm2.loads(\\n  File \"/usr/local/lib/python3.10/site-packages/qiskit/qasm2/__init__.py\", line 587, in loads\\n    return _parse.from_bytecode(\\n  File \"/usr/local/lib/python3.10/site-packages/qiskit/qasm2/parse.py\", line 214, in from_bytecode\\n    for op in bc:\\nqiskit.qasm2.exceptions.QASM2ParseError: \"<input>:7,3: \\'reg_1_a\\' is not defined in this scope\"\\n'\n",
      "Failed to execute to_execute.py in Docker.\n",
      "Output: Saved the Pytket circuit to /workspace/to_execute_qc_pytket.qasm\n",
      "Saved the Qiskit circuit to /workspace/to_execute_qc_qiskit.qasm\n",
      "Exported QASM files: [('/workspace/to_execute_qc_pytket.qasm', 'export_to_qasm_with_pytket'), ('/workspace/to_execute_qc_qiskit.qasm', 'export_to_qasm_with_qiskit')]\n",
      "Log has been saved to /workspace/to_execute_f75f1e_error.json\n",
      "\n",
      "Program to_execute.py executed successfully.\n",
      "New exception message: The circuits are not equivalent: /workspace/to_execute_qc_pytket.qasm, /workspace/to_execute_qc_qiskit.qasm\n",
      "Error parsing: Command 'python /workspace/to_execute.py' in image 'qiskit_runner' returned non-zero exit status 1: b'  File \"/workspace/to_execute.py\", line 22\\n    , custom_instructions=qasm2.LEGACY_CUSTOM_INSTRUCTIONS)\\nIndentationError: unexpected indent\\n'\n",
      "Failed to execute to_execute.py in Docker.\n",
      "Error parsing: Command 'python /workspace/to_execute.py' in image 'qiskit_runner' returned non-zero exit status 1: b'  File \"/workspace/to_execute.py\", line 12\\n    include \"qelib1.inc\";\\n            ^^^^^^^^^^^^\\nSyntaxError: invalid syntax\\n'\n",
      "Failed to execute to_execute.py in Docker.\n",
      "Error parsing: Command 'python /workspace/to_execute.py' in image 'qiskit_runner' returned non-zero exit status 1: b'Traceback (most recent call last):\\n  File \"/workspace/to_execute.py\", line 10, in <module>\\n    qc = qasm2.loads(\\n  File \"/usr/local/lib/python3.10/site-packages/qiskit/qasm2/__init__.py\", line 587, in loads\\n    return _parse.from_bytecode(\\n  File \"/usr/local/lib/python3.10/site-packages/qiskit/qasm2/parse.py\", line 214, in from_bytecode\\n    for op in bc:\\nqiskit.qasm2.exceptions.QASM2ParseError: \"<input>:7,0: cannot use non-builtin custom instruction \\'cx\\' before definition\"\\n'\n",
      "Failed to execute to_execute.py in Docker.\n",
      "Error parsing: Command 'python /workspace/to_execute.py' in image 'qiskit_runner' returned non-zero exit status 1: b'Traceback (most recent call last):\\n  File \"/workspace/to_execute.py\", line 10, in <module>\\n    qc = qasm2.loads(\\n  File \"/usr/local/lib/python3.10/site-packages/qiskit/qasm2/__init__.py\", line 587, in loads\\n    return _parse.from_bytecode(\\n  File \"/usr/local/lib/python3.10/site-packages/qiskit/qasm2/parse.py\", line 214, in from_bytecode\\n    for op in bc:\\nqiskit.qasm2.exceptions.QASM2ParseError: \"<input>:7,3: \\'reg_1_b\\' is not defined in this scope\"\\n'\n",
      "Failed to execute to_execute.py in Docker.\n",
      "Error parsing: Command 'python /workspace/to_execute.py' in image 'qiskit_runner' returned non-zero exit status 1: b'Traceback (most recent call last):\\n  File \"/workspace/to_execute.py\", line 10, in <module>\\n    qc = qasm2.loads(\\n  File \"/usr/local/lib/python3.10/site-packages/qiskit/qasm2/__init__.py\", line 587, in loads\\n    return _parse.from_bytecode(\\n  File \"/usr/local/lib/python3.10/site-packages/qiskit/qasm2/parse.py\", line 214, in from_bytecode\\n    for op in bc:\\nqiskit.qasm2.exceptions.QASM2ParseError: \"<input>:8,3: \\'reg_1_a\\' is not defined in this scope\"\\n'\n",
      "Failed to execute to_execute.py in Docker.\n",
      "Output: Saved the Pytket circuit to /workspace/to_execute_qc_pytket.qasm\n",
      "Saved the Qiskit circuit to /workspace/to_execute_qc_qiskit.qasm\n",
      "Exported QASM files: [('/workspace/to_execute_qc_pytket.qasm', 'export_to_qasm_with_pytket'), ('/workspace/to_execute_qc_qiskit.qasm', 'export_to_qasm_with_qiskit')]\n",
      "The circuits are equivalent: /workspace/to_execute_qc_pytket.qasm, /workspace/to_execute_qc_qiskit.qasm\n",
      "\n",
      "Program to_execute.py executed successfully.\n",
      "Error parsing: Command 'python /workspace/to_execute.py' in image 'qiskit_runner' returned non-zero exit status 1: b'  File \"/workspace/to_execute.py\", line 10\\n    qc = qasm2.loads(\\n                    ^\\nSyntaxError: \\'(\\' was never closed\\n'\n",
      "Failed to execute to_execute.py in Docker.\n",
      "Error parsing: Command 'python /workspace/to_execute.py' in image 'qiskit_runner' returned non-zero exit status 1: b'  File \"/workspace/to_execute.py\", line 23\\n    , custom_instructions=qasm2.LEGACY_CUSTOM_INSTRUCTIONS)\\nIndentationError: unexpected indent\\n'\n",
      "Failed to execute to_execute.py in Docker.\n",
      "Output: Saved the Pytket circuit to /workspace/to_execute_qc_pytket.qasm\n",
      "Saved the Qiskit circuit to /workspace/to_execute_qc_qiskit.qasm\n",
      "Exported QASM files: [('/workspace/to_execute_qc_pytket.qasm', 'export_to_qasm_with_pytket'), ('/workspace/to_execute_qc_qiskit.qasm', 'export_to_qasm_with_qiskit')]\n",
      "Log has been saved to /workspace/to_execute_03d771_error.json\n",
      "\n",
      "Program to_execute.py executed successfully.\n",
      "New exception message: The circuits are not equivalent: /workspace/to_execute_qc_pytket.qasm, /workspace/to_execute_qc_qiskit.qasm\n",
      "Error parsing: Command 'python /workspace/to_execute.py' in image 'qiskit_runner' returned non-zero exit status 1: b'  File \"/workspace/to_execute.py\", line 22\\n    , custom_instructions=qasm2.LEGACY_CUSTOM_INSTRUCTIONS)\\nIndentationError: unexpected indent\\n'\n",
      "Failed to execute to_execute.py in Docker.\n",
      "Error parsing: Command 'python /workspace/to_execute.py' in image 'qiskit_runner' returned non-zero exit status 1: b'  File \"/workspace/to_execute.py\", line 11\\n    OPENQASM 2.0;\\n    ^^^^^^^^^^^^\\nSyntaxError: invalid syntax. Perhaps you forgot a comma?\\n'\n",
      "Failed to execute to_execute.py in Docker.\n",
      "Output: Saved the Pytket circuit to /workspace/to_execute_qc_pytket.qasm\n",
      "Saved the Qiskit circuit to /workspace/to_execute_qc_qiskit.qasm\n",
      "Exported QASM files: [('/workspace/to_execute_qc_pytket.qasm', 'export_to_qasm_with_pytket'), ('/workspace/to_execute_qc_qiskit.qasm', 'export_to_qasm_with_qiskit')]\n",
      "Log has been saved to /workspace/to_execute_eef7d2_error.json\n",
      "\n",
      "Program to_execute.py executed successfully.\n",
      "New exception message: The circuits are not equivalent: /workspace/to_execute_qc_pytket.qasm, /workspace/to_execute_qc_qiskit.qasm\n",
      "Error parsing: Command 'python /workspace/to_execute.py' in image 'qiskit_runner' returned non-zero exit status 1: b'  File \"/workspace/to_execute.py\", line 21\\n    , custom_instructions=qasm2.LEGACY_CUSTOM_INSTRUCTIONS)\\nIndentationError: unexpected indent\\n'\n",
      "Failed to execute to_execute.py in Docker.\n",
      "Error parsing: Command 'python /workspace/to_execute.py' in image 'qiskit_runner' returned non-zero exit status 1: b'  File \"/workspace/to_execute.py\", line 11\\n    include \"qelib1.inc\";\\n            ^^^^^^^^^^^^\\nSyntaxError: invalid syntax\\n'\n",
      "Failed to execute to_execute.py in Docker.\n",
      "Error parsing: Command 'python /workspace/to_execute.py' in image 'qiskit_runner' returned non-zero exit status 1: b'Traceback (most recent call last):\\n  File \"/workspace/to_execute.py\", line 10, in <module>\\n    qc = qasm2.loads(\\n  File \"/usr/local/lib/python3.10/site-packages/qiskit/qasm2/__init__.py\", line 587, in loads\\n    return _parse.from_bytecode(\\n  File \"/usr/local/lib/python3.10/site-packages/qiskit/qasm2/parse.py\", line 214, in from_bytecode\\n    for op in bc:\\nqiskit.qasm2.exceptions.QASM2ParseError: \"<input>:7,0: cannot use non-builtin custom instruction \\'cx\\' before definition\"\\n'\n",
      "Failed to execute to_execute.py in Docker.\n",
      "Output: Saved the Pytket circuit to /workspace/to_execute_qc_pytket.qasm\n",
      "Saved the Qiskit circuit to /workspace/to_execute_qc_qiskit.qasm\n",
      "Exported QASM files: [('/workspace/to_execute_qc_pytket.qasm', 'export_to_qasm_with_pytket'), ('/workspace/to_execute_qc_qiskit.qasm', 'export_to_qasm_with_qiskit')]\n",
      "Log has been saved to /workspace/to_execute_194002_error.json\n",
      "\n",
      "Program to_execute.py executed successfully.\n",
      "New exception message: The circuits are not equivalent: /workspace/to_execute_qc_pytket.qasm, /workspace/to_execute_qc_qiskit.qasm\n",
      "Error parsing: Command 'python /workspace/to_execute.py' in image 'qiskit_runner' returned non-zero exit status 1: b'  File \"/workspace/to_execute.py\", line 20\\n    , custom_instructions=qasm2.LEGACY_CUSTOM_INSTRUCTIONS)\\nIndentationError: unexpected indent\\n'\n",
      "Failed to execute to_execute.py in Docker.\n",
      "Error parsing: Command 'python /workspace/to_execute.py' in image 'qiskit_runner' returned non-zero exit status 1: b'  File \"/workspace/to_execute.py\", line 11\\n    include \"qelib1.inc\";\\n            ^^^^^^^^^^^^\\nSyntaxError: invalid syntax\\n'\n",
      "Failed to execute to_execute.py in Docker.\n",
      "Error parsing: Command 'python /workspace/to_execute.py' in image 'qiskit_runner' returned non-zero exit status 1: b'Traceback (most recent call last):\\n  File \"/workspace/to_execute.py\", line 10, in <module>\\n    qc = qasm2.loads(\\n  File \"/usr/local/lib/python3.10/site-packages/qiskit/qasm2/__init__.py\", line 587, in loads\\n    return _parse.from_bytecode(\\n  File \"/usr/local/lib/python3.10/site-packages/qiskit/qasm2/parse.py\", line 214, in from_bytecode\\n    for op in bc:\\nqiskit.qasm2.exceptions.QASM2ParseError: \"<input>:6,0: cannot use non-builtin custom instruction \\'cx\\' before definition\"\\n'\n",
      "Failed to execute to_execute.py in Docker.\n",
      "Error parsing: Command 'python /workspace/to_execute.py' in image 'qiskit_runner' returned non-zero exit status 1: b'Traceback (most recent call last):\\n  File \"/workspace/to_execute.py\", line 10, in <module>\\n    qc = qasm2.loads(\\n  File \"/usr/local/lib/python3.10/site-packages/qiskit/qasm2/__init__.py\", line 587, in loads\\n    return _parse.from_bytecode(\\n  File \"/usr/local/lib/python3.10/site-packages/qiskit/qasm2/parse.py\", line 214, in from_bytecode\\n    for op in bc:\\nqiskit.qasm2.exceptions.QASM2ParseError: \"<input>:7,14: \\'reg_1_cin\\' is not defined in this scope\"\\n'\n",
      "Failed to execute to_execute.py in Docker.\n",
      "Error parsing: Command 'python /workspace/to_execute.py' in image 'qiskit_runner' returned non-zero exit status 1: b'Traceback (most recent call last):\\n  File \"/workspace/to_execute.py\", line 10, in <module>\\n    qc = qasm2.loads(\\n  File \"/usr/local/lib/python3.10/site-packages/qiskit/qasm2/__init__.py\", line 587, in loads\\n    return _parse.from_bytecode(\\n  File \"/usr/local/lib/python3.10/site-packages/qiskit/qasm2/parse.py\", line 214, in from_bytecode\\n    for op in bc:\\nqiskit.qasm2.exceptions.QASM2ParseError: \"<input>:6,3: \\'reg_1_b\\' is not defined in this scope\"\\n'\n",
      "Failed to execute to_execute.py in Docker.\n",
      "Error parsing: Command 'python /workspace/to_execute.py' in image 'qiskit_runner' returned non-zero exit status 1: b'Traceback (most recent call last):\\n  File \"/workspace/to_execute.py\", line 10, in <module>\\n    qc = qasm2.loads(\\n  File \"/usr/local/lib/python3.10/site-packages/qiskit/qasm2/__init__.py\", line 587, in loads\\n    return _parse.from_bytecode(\\n  File \"/usr/local/lib/python3.10/site-packages/qiskit/qasm2/parse.py\", line 214, in from_bytecode\\n    for op in bc:\\nqiskit.qasm2.exceptions.QASM2ParseError: \"<input>:7,3: \\'reg_1_a\\' is not defined in this scope\"\\n'\n",
      "Failed to execute to_execute.py in Docker.\n",
      "Output: Saved the Pytket circuit to /workspace/to_execute_qc_pytket.qasm\n",
      "Saved the Qiskit circuit to /workspace/to_execute_qc_qiskit.qasm\n",
      "Exported QASM files: [('/workspace/to_execute_qc_pytket.qasm', 'export_to_qasm_with_pytket'), ('/workspace/to_execute_qc_qiskit.qasm', 'export_to_qasm_with_qiskit')]\n",
      "Log has been saved to /workspace/to_execute_8babc9_error.json\n",
      "\n",
      "Program to_execute.py executed successfully.\n",
      "New exception message: The circuits are not equivalent: /workspace/to_execute_qc_pytket.qasm, /workspace/to_execute_qc_qiskit.qasm\n",
      "Error parsing: Command 'python /workspace/to_execute.py' in image 'qiskit_runner' returned non-zero exit status 1: b'  File \"/workspace/to_execute.py\", line 19\\n    , custom_instructions=qasm2.LEGACY_CUSTOM_INSTRUCTIONS)\\nIndentationError: unexpected indent\\n'\n",
      "Failed to execute to_execute.py in Docker.\n",
      "Error parsing: Command 'python /workspace/to_execute.py' in image 'qiskit_runner' returned non-zero exit status 1: b'  File \"/workspace/to_execute.py\", line 11\\n    include \"qelib1.inc\";\\n            ^^^^^^^^^^^^\\nSyntaxError: invalid syntax\\n'\n",
      "Failed to execute to_execute.py in Docker.\n",
      "Error parsing: Command 'python /workspace/to_execute.py' in image 'qiskit_runner' returned non-zero exit status 1: b'Traceback (most recent call last):\\n  File \"/workspace/to_execute.py\", line 10, in <module>\\n    qc = qasm2.loads(\\n  File \"/usr/local/lib/python3.10/site-packages/qiskit/qasm2/__init__.py\", line 587, in loads\\n    return _parse.from_bytecode(\\n  File \"/usr/local/lib/python3.10/site-packages/qiskit/qasm2/parse.py\", line 214, in from_bytecode\\n    for op in bc:\\nqiskit.qasm2.exceptions.QASM2ParseError: \"<input>:5,0: cannot use non-builtin custom instruction \\'cx\\' before definition\"\\n'\n",
      "Failed to execute to_execute.py in Docker.\n",
      "Error parsing: Command 'python /workspace/to_execute.py' in image 'qiskit_runner' returned non-zero exit status 1: b'Traceback (most recent call last):\\n  File \"/workspace/to_execute.py\", line 10, in <module>\\n    qc = qasm2.loads(\\n  File \"/usr/local/lib/python3.10/site-packages/qiskit/qasm2/__init__.py\", line 587, in loads\\n    return _parse.from_bytecode(\\n  File \"/usr/local/lib/python3.10/site-packages/qiskit/qasm2/parse.py\", line 214, in from_bytecode\\n    for op in bc:\\nqiskit.qasm2.exceptions.QASM2ParseError: \"<input>:6,14: \\'reg_1_cin\\' is not defined in this scope\"\\n'\n",
      "Failed to execute to_execute.py in Docker.\n",
      "Error parsing: Command 'python /workspace/to_execute.py' in image 'qiskit_runner' returned non-zero exit status 1: b'Traceback (most recent call last):\\n  File \"/workspace/to_execute.py\", line 10, in <module>\\n    qc = qasm2.loads(\\n  File \"/usr/local/lib/python3.10/site-packages/qiskit/qasm2/__init__.py\", line 587, in loads\\n    return _parse.from_bytecode(\\n  File \"/usr/local/lib/python3.10/site-packages/qiskit/qasm2/parse.py\", line 214, in from_bytecode\\n    for op in bc:\\nqiskit.qasm2.exceptions.QASM2ParseError: \"<input>:5,3: \\'reg_1_b\\' is not defined in this scope\"\\n'\n",
      "Failed to execute to_execute.py in Docker.\n",
      "Error parsing: Command 'python /workspace/to_execute.py' in image 'qiskit_runner' returned non-zero exit status 1: b'Traceback (most recent call last):\\n  File \"/workspace/to_execute.py\", line 10, in <module>\\n    qc = qasm2.loads(\\n  File \"/usr/local/lib/python3.10/site-packages/qiskit/qasm2/__init__.py\", line 587, in loads\\n    return _parse.from_bytecode(\\n  File \"/usr/local/lib/python3.10/site-packages/qiskit/qasm2/parse.py\", line 214, in from_bytecode\\n    for op in bc:\\nqiskit.qasm2.exceptions.QASM2ParseError: \"<input>:6,3: \\'reg_1_a\\' is not defined in this scope\"\\n'\n",
      "Failed to execute to_execute.py in Docker.\n",
      "Output: Saved the Pytket circuit to /workspace/to_execute_qc_pytket.qasm\n",
      "Saved the Qiskit circuit to /workspace/to_execute_qc_qiskit.qasm\n",
      "Exported QASM files: [('/workspace/to_execute_qc_pytket.qasm', 'export_to_qasm_with_pytket'), ('/workspace/to_execute_qc_qiskit.qasm', 'export_to_qasm_with_qiskit')]\n",
      "Log has been saved to /workspace/to_execute_a984c7_error.json\n",
      "\n",
      "Program to_execute.py executed successfully.\n",
      "New exception message: The circuits are not equivalent: /workspace/to_execute_qc_pytket.qasm, /workspace/to_execute_qc_qiskit.qasm\n",
      "Error parsing: Command 'python /workspace/to_execute.py' in image 'qiskit_runner' returned non-zero exit status 1: b'  File \"/workspace/to_execute.py\", line 18\\n    , custom_instructions=qasm2.LEGACY_CUSTOM_INSTRUCTIONS)\\nIndentationError: unexpected indent\\n'\n",
      "Failed to execute to_execute.py in Docker.\n",
      "Error parsing: Command 'python /workspace/to_execute.py' in image 'qiskit_runner' returned non-zero exit status 1: b'  File \"/workspace/to_execute.py\", line 11\\n    include \"qelib1.inc\";\\n            ^^^^^^^^^^^^\\nSyntaxError: invalid syntax\\n'\n",
      "Failed to execute to_execute.py in Docker.\n",
      "Error parsing: Command 'python /workspace/to_execute.py' in image 'qiskit_runner' returned non-zero exit status 1: b'Traceback (most recent call last):\\n  File \"/workspace/to_execute.py\", line 10, in <module>\\n    qc = qasm2.loads(\\n  File \"/usr/local/lib/python3.10/site-packages/qiskit/qasm2/__init__.py\", line 587, in loads\\n    return _parse.from_bytecode(\\n  File \"/usr/local/lib/python3.10/site-packages/qiskit/qasm2/parse.py\", line 214, in from_bytecode\\n    for op in bc:\\nqiskit.qasm2.exceptions.QASM2ParseError: \"<input>:5,0: cannot use non-builtin custom instruction \\'cx\\' before definition\"\\n'\n",
      "Failed to execute to_execute.py in Docker.\n",
      "Error parsing: Command 'python /workspace/to_execute.py' in image 'qiskit_runner' returned non-zero exit status 1: b'Traceback (most recent call last):\\n  File \"/workspace/to_execute.py\", line 10, in <module>\\n    qc = qasm2.loads(\\n  File \"/usr/local/lib/python3.10/site-packages/qiskit/qasm2/__init__.py\", line 587, in loads\\n    return _parse.from_bytecode(\\n  File \"/usr/local/lib/python3.10/site-packages/qiskit/qasm2/parse.py\", line 214, in from_bytecode\\n    for op in bc:\\nqiskit.qasm2.exceptions.QASM2ParseError: \"<input>:5,14: \\'reg_1_cin\\' is not defined in this scope\"\\n'\n",
      "Failed to execute to_execute.py in Docker.\n",
      "Error parsing: Command 'python /workspace/to_execute.py' in image 'qiskit_runner' returned non-zero exit status 1: b'Traceback (most recent call last):\\n  File \"/workspace/to_execute.py\", line 10, in <module>\\n    qc = qasm2.loads(\\n  File \"/usr/local/lib/python3.10/site-packages/qiskit/qasm2/__init__.py\", line 587, in loads\\n    return _parse.from_bytecode(\\n  File \"/usr/local/lib/python3.10/site-packages/qiskit/qasm2/parse.py\", line 214, in from_bytecode\\n    for op in bc:\\nqiskit.qasm2.exceptions.QASM2ParseError: \"<input>:6,17: \\'reg_1_b\\' is not defined in this scope\"\\n'\n",
      "Failed to execute to_execute.py in Docker.\n",
      "Error parsing: Command 'python /workspace/to_execute.py' in image 'qiskit_runner' returned non-zero exit status 1: b'Traceback (most recent call last):\\n  File \"/workspace/to_execute.py\", line 10, in <module>\\n    qc = qasm2.loads(\\n  File \"/usr/local/lib/python3.10/site-packages/qiskit/qasm2/__init__.py\", line 587, in loads\\n    return _parse.from_bytecode(\\n  File \"/usr/local/lib/python3.10/site-packages/qiskit/qasm2/parse.py\", line 214, in from_bytecode\\n    for op in bc:\\nqiskit.qasm2.exceptions.QASM2ParseError: \"<input>:5,3: \\'reg_1_a\\' is not defined in this scope\"\\n'\n",
      "Failed to execute to_execute.py in Docker.\n",
      "Output: Saved the Pytket circuit to /workspace/to_execute_qc_pytket.qasm\n",
      "Saved the Qiskit circuit to /workspace/to_execute_qc_qiskit.qasm\n",
      "Exported QASM files: [('/workspace/to_execute_qc_pytket.qasm', 'export_to_qasm_with_pytket'), ('/workspace/to_execute_qc_qiskit.qasm', 'export_to_qasm_with_qiskit')]\n",
      "Log has been saved to /workspace/to_execute_5a6bd9_error.json\n",
      "\n",
      "Program to_execute.py executed successfully.\n",
      "New exception message: The circuits are not equivalent: /workspace/to_execute_qc_pytket.qasm, /workspace/to_execute_qc_qiskit.qasm\n",
      "Error parsing: Command 'python /workspace/to_execute.py' in image 'qiskit_runner' returned non-zero exit status 1: b'  File \"/workspace/to_execute.py\", line 17\\n    , custom_instructions=qasm2.LEGACY_CUSTOM_INSTRUCTIONS)\\nIndentationError: unexpected indent\\n'\n",
      "Failed to execute to_execute.py in Docker.\n",
      "Error parsing: Command 'python /workspace/to_execute.py' in image 'qiskit_runner' returned non-zero exit status 1: b'  File \"/workspace/to_execute.py\", line 11\\n    include \"qelib1.inc\";\\n            ^^^^^^^^^^^^\\nSyntaxError: invalid syntax\\n'\n",
      "Failed to execute to_execute.py in Docker.\n",
      "Error parsing: Command 'python /workspace/to_execute.py' in image 'qiskit_runner' returned non-zero exit status 1: b'Traceback (most recent call last):\\n  File \"/workspace/to_execute.py\", line 10, in <module>\\n    qc = qasm2.loads(\\n  File \"/usr/local/lib/python3.10/site-packages/qiskit/qasm2/__init__.py\", line 587, in loads\\n    return _parse.from_bytecode(\\n  File \"/usr/local/lib/python3.10/site-packages/qiskit/qasm2/parse.py\", line 214, in from_bytecode\\n    for op in bc:\\nqiskit.qasm2.exceptions.QASM2ParseError: \"<input>:5,0: cannot use non-builtin custom instruction \\'ccx\\' before definition\"\\n'\n",
      "Failed to execute to_execute.py in Docker.\n",
      "Error parsing: Command 'python /workspace/to_execute.py' in image 'qiskit_runner' returned non-zero exit status 1: b'Traceback (most recent call last):\\n  File \"/workspace/to_execute.py\", line 10, in <module>\\n    qc = qasm2.loads(\\n  File \"/usr/local/lib/python3.10/site-packages/qiskit/qasm2/__init__.py\", line 587, in loads\\n    return _parse.from_bytecode(\\n  File \"/usr/local/lib/python3.10/site-packages/qiskit/qasm2/parse.py\", line 214, in from_bytecode\\n    for op in bc:\\nqiskit.qasm2.exceptions.QASM2ParseError: \"<input>:5,4: \\'reg_1_cin\\' is not defined in this scope\"\\n'\n",
      "Failed to execute to_execute.py in Docker.\n",
      "Error parsing: Command 'python /workspace/to_execute.py' in image 'qiskit_runner' returned non-zero exit status 1: b'Traceback (most recent call last):\\n  File \"/workspace/to_execute.py\", line 10, in <module>\\n    qc = qasm2.loads(\\n  File \"/usr/local/lib/python3.10/site-packages/qiskit/qasm2/__init__.py\", line 587, in loads\\n    return _parse.from_bytecode(\\n  File \"/usr/local/lib/python3.10/site-packages/qiskit/qasm2/parse.py\", line 214, in from_bytecode\\n    for op in bc:\\nqiskit.qasm2.exceptions.QASM2ParseError: \"<input>:5,17: \\'reg_1_b\\' is not defined in this scope\"\\n'\n",
      "Failed to execute to_execute.py in Docker.\n",
      "Error parsing: Command 'python /workspace/to_execute.py' in image 'qiskit_runner' returned non-zero exit status 1: b'Traceback (most recent call last):\\n  File \"/workspace/to_execute.py\", line 10, in <module>\\n    qc = qasm2.loads(\\n  File \"/usr/local/lib/python3.10/site-packages/qiskit/qasm2/__init__.py\", line 587, in loads\\n    return _parse.from_bytecode(\\n  File \"/usr/local/lib/python3.10/site-packages/qiskit/qasm2/parse.py\", line 214, in from_bytecode\\n    for op in bc:\\nqiskit.qasm2.exceptions.QASM2ParseError: \"<input>:5,28: \\'reg_1_a\\' is not defined in this scope\"\\n'\n",
      "Failed to execute to_execute.py in Docker.\n",
      "Error parsing: Command 'python /workspace/to_execute.py' in image 'qiskit_runner' returned non-zero exit status 1: b'  File \"/workspace/to_execute.py\", line 11\\n    include \"qelib1.inc\";\\n            ^^^^^^^^^^^^\\nSyntaxError: invalid syntax\\n'\n",
      "Failed to execute to_execute.py in Docker.\n",
      "Error parsing: Command 'python /workspace/to_execute.py' in image 'qiskit_runner' returned non-zero exit status 1: b'  File \"/workspace/to_execute.py\", line 10\\n    qc = qasm2.loads(\\n                    ^\\nSyntaxError: \\'(\\' was never closed\\n'\n",
      "Failed to execute to_execute.py in Docker.\n",
      "Error parsing: Command 'python /workspace/to_execute.py' in image 'qiskit_runner' returned non-zero exit status 1: b'  File \"/workspace/to_execute.py\", line 17\\n    , custom_instructions=qasm2.LEGACY_CUSTOM_INSTRUCTIONS)\\nIndentationError: unexpected indent\\n'\n",
      "Failed to execute to_execute.py in Docker.\n",
      "Error parsing: Command 'python /workspace/to_execute.py' in image 'qiskit_runner' returned non-zero exit status 1: b'  File \"/workspace/to_execute.py\", line 11\\n    include \"qelib1.inc\";\\n            ^^^^^^^^^^^^\\nSyntaxError: invalid syntax\\n'\n",
      "Failed to execute to_execute.py in Docker.\n",
      "Error parsing: Command 'python /workspace/to_execute.py' in image 'qiskit_runner' returned non-zero exit status 1: b'Traceback (most recent call last):\\n  File \"/workspace/to_execute.py\", line 10, in <module>\\n    qc = qasm2.loads(\\n  File \"/usr/local/lib/python3.10/site-packages/qiskit/qasm2/__init__.py\", line 587, in loads\\n    return _parse.from_bytecode(\\n  File \"/usr/local/lib/python3.10/site-packages/qiskit/qasm2/parse.py\", line 214, in from_bytecode\\n    for op in bc:\\nqiskit.qasm2.exceptions.QASM2ParseError: \"<input>:5,0: cannot use non-builtin custom instruction \\'ccx\\' before definition\"\\n'\n",
      "Failed to execute to_execute.py in Docker.\n",
      "Error parsing: Command 'python /workspace/to_execute.py' in image 'qiskit_runner' returned non-zero exit status 1: b'Traceback (most recent call last):\\n  File \"/workspace/to_execute.py\", line 10, in <module>\\n    qc = qasm2.loads(\\n  File \"/usr/local/lib/python3.10/site-packages/qiskit/qasm2/__init__.py\", line 587, in loads\\n    return _parse.from_bytecode(\\n  File \"/usr/local/lib/python3.10/site-packages/qiskit/qasm2/parse.py\", line 214, in from_bytecode\\n    for op in bc:\\nqiskit.qasm2.exceptions.QASM2ParseError: \"<input>:5,4: \\'reg_1_cin\\' is not defined in this scope\"\\n'\n",
      "Failed to execute to_execute.py in Docker.\n",
      "Error parsing: Command 'python /workspace/to_execute.py' in image 'qiskit_runner' returned non-zero exit status 1: b'Traceback (most recent call last):\\n  File \"/workspace/to_execute.py\", line 10, in <module>\\n    qc = qasm2.loads(\\n  File \"/usr/local/lib/python3.10/site-packages/qiskit/qasm2/__init__.py\", line 587, in loads\\n    return _parse.from_bytecode(\\n  File \"/usr/local/lib/python3.10/site-packages/qiskit/qasm2/parse.py\", line 214, in from_bytecode\\n    for op in bc:\\nqiskit.qasm2.exceptions.QASM2ParseError: \"<input>:5,17: \\'reg_1_b\\' is not defined in this scope\"\\n'\n",
      "Failed to execute to_execute.py in Docker.\n",
      "Error parsing: Command 'python /workspace/to_execute.py' in image 'qiskit_runner' returned non-zero exit status 1: b'Traceback (most recent call last):\\n  File \"/workspace/to_execute.py\", line 10, in <module>\\n    qc = qasm2.loads(\\n  File \"/usr/local/lib/python3.10/site-packages/qiskit/qasm2/__init__.py\", line 587, in loads\\n    return _parse.from_bytecode(\\n  File \"/usr/local/lib/python3.10/site-packages/qiskit/qasm2/parse.py\", line 214, in from_bytecode\\n    for op in bc:\\nqiskit.qasm2.exceptions.QASM2ParseError: \"<input>:5,28: \\'reg_1_a\\' is not defined in this scope\"\\n'\n",
      "Failed to execute to_execute.py in Docker.\n",
      "Output: Saved the Pytket circuit to /workspace/to_execute_qc_pytket.qasm\n",
      "Saved the Qiskit circuit to /workspace/to_execute_qc_qiskit.qasm\n",
      "Exported QASM files: [('/workspace/to_execute_qc_pytket.qasm', 'export_to_qasm_with_pytket'), ('/workspace/to_execute_qc_qiskit.qasm', 'export_to_qasm_with_qiskit')]\n",
      "The circuits are equivalent: /workspace/to_execute_qc_pytket.qasm, /workspace/to_execute_qc_qiskit.qasm\n",
      "\n",
      "Program to_execute.py executed successfully.\n",
      "Error parsing: Command 'python /workspace/to_execute.py' in image 'qiskit_runner' returned non-zero exit status 1: b'  File \"/workspace/to_execute.py\", line 11\\n    include \"qelib1.inc\";\\n            ^^^^^^^^^^^^\\nSyntaxError: invalid syntax\\n'\n",
      "Failed to execute to_execute.py in Docker.\n",
      "Error parsing: Command 'python /workspace/to_execute.py' in image 'qiskit_runner' returned non-zero exit status 1: b'  File \"/workspace/to_execute.py\", line 10\\n    qc = qasm2.loads(\\n                    ^\\nSyntaxError: \\'(\\' was never closed\\n'\n",
      "Failed to execute to_execute.py in Docker.\n"
     ]
    },
    {
     "data": {
      "text/html": [
       "<pre style=\"white-space:pre;overflow-x:auto;line-height:normal;font-family:Menlo,'DejaVu Sans Mono',consolas,'Courier New',monospace\"><span style=\"color: #7fbfbf; text-decoration-color: #7fbfbf\">[15:01:35] </span><span style=\"color: #008000; text-decoration-color: #008000\">Minimized file saved as:</span>                                                        <a href=\"file:///home/paltenmo/projects/crossplatform/analysis_and_reporting/ddmin_target_file.py\" target=\"_blank\"><span style=\"color: #7f7f7f; text-decoration-color: #7f7f7f\">ddmin_target_file.py</span></a><span style=\"color: #7f7f7f; text-decoration-color: #7f7f7f\">:</span><a href=\"file:///home/paltenmo/projects/crossplatform/analysis_and_reporting/ddmin_target_file.py#240\" target=\"_blank\"><span style=\"color: #7f7f7f; text-decoration-color: #7f7f7f\">240</span></a>\n",
       "<span style=\"color: #7fbfbf; text-decoration-color: #7fbfbf\">           </span>..<span style=\"color: #800080; text-decoration-color: #800080\">/reports/v009/2024_11_21__14_57/</span><span style=\"color: #ff00ff; text-decoration-color: #ff00ff\">qiskit_circuit_5q_10g_6533_f0b204_dbc69c_erro</span> <span style=\"color: #7f7f7f; text-decoration-color: #7f7f7f\">                        </span>\n",
       "<span style=\"color: #7fbfbf; text-decoration-color: #7fbfbf\">           </span><span style=\"color: #ff00ff; text-decoration-color: #ff00ff\">r_min.py</span>                                                                        <span style=\"color: #7f7f7f; text-decoration-color: #7f7f7f\">                        </span>\n",
       "</pre>\n"
      ],
      "text/plain": [
       "\u001b[2;36m[15:01:35]\u001b[0m\u001b[2;36m \u001b[0m\u001b[32mMinimized file saved as:\u001b[0m                                                        \u001b]8;id=330228;file:///home/paltenmo/projects/crossplatform/analysis_and_reporting/ddmin_target_file.py\u001b\\\u001b[2mddmin_target_file.py\u001b[0m\u001b]8;;\u001b\\\u001b[2m:\u001b[0m\u001b]8;id=890946;file:///home/paltenmo/projects/crossplatform/analysis_and_reporting/ddmin_target_file.py#240\u001b\\\u001b[2m240\u001b[0m\u001b]8;;\u001b\\\n",
       "\u001b[2;36m           \u001b[0m..\u001b[35m/reports/v009/2024_11_21__14_57/\u001b[0m\u001b[95mqiskit_circuit_5q_10g_6533_f0b204_dbc69c_erro\u001b[0m \u001b[2m                        \u001b[0m\n",
       "\u001b[2;36m           \u001b[0m\u001b[95mr_min.py\u001b[0m                                                                        \u001b[2m                        \u001b[0m\n"
      ]
     },
     "metadata": {},
     "output_type": "display_data"
    },
    {
     "name": "stdout",
     "output_type": "stream",
     "text": [
      "Output: Saved the Pytket circuit to /workspace/qiskit_circuit_5q_10g_6533_f0b204_dbc69c_error_min_qc_pytket.qasm\n",
      "Saved the Qiskit circuit to /workspace/qiskit_circuit_5q_10g_6533_f0b204_dbc69c_error_min_qc_qiskit.qasm\n",
      "Exported QASM files: [('/workspace/qiskit_circuit_5q_10g_6533_f0b204_dbc69c_error_min_qc_pytket.qasm', 'export_to_qasm_with_pytket'), ('/workspace/qiskit_circuit_5q_10g_6533_f0b204_dbc69c_error_min_qc_qiskit.qasm', 'export_to_qasm_with_qiskit')]\n",
      "Log has been saved to /workspace/qiskit_circuit_5q_10g_6533_f0b204_dbc69c_error_min_dc03a6_error.json\n",
      "\n"
     ]
    },
    {
     "data": {
      "text/html": [
       "<pre style=\"white-space:pre;overflow-x:auto;line-height:normal;font-family:Menlo,'DejaVu Sans Mono',consolas,'Courier New',monospace\"><span style=\"color: #7fbfbf; text-decoration-color: #7fbfbf\">[15:01:42] </span>Program qiskit_circuit_5q_10g_6533_f0b204_dbc69c_error_min.py executed              <a href=\"file:///home/paltenmo/projects/crossplatform/generators/docker_tooling.py\" target=\"_blank\"><span style=\"color: #7f7f7f; text-decoration-color: #7f7f7f\">docker_tooling.py</span></a><span style=\"color: #7f7f7f; text-decoration-color: #7f7f7f\">:</span><a href=\"file:///home/paltenmo/projects/crossplatform/generators/docker_tooling.py#46\" target=\"_blank\"><span style=\"color: #7f7f7f; text-decoration-color: #7f7f7f\">46</span></a>\n",
       "<span style=\"color: #7fbfbf; text-decoration-color: #7fbfbf\">           </span>successfully.                                                                       <span style=\"color: #7f7f7f; text-decoration-color: #7f7f7f\">                    </span>\n",
       "</pre>\n"
      ],
      "text/plain": [
       "\u001b[2;36m[15:01:42]\u001b[0m\u001b[2;36m \u001b[0mProgram qiskit_circuit_5q_10g_6533_f0b204_dbc69c_error_min.py executed              \u001b]8;id=496062;file:///home/paltenmo/projects/crossplatform/generators/docker_tooling.py\u001b\\\u001b[2mdocker_tooling.py\u001b[0m\u001b]8;;\u001b\\\u001b[2m:\u001b[0m\u001b]8;id=906562;file:///home/paltenmo/projects/crossplatform/generators/docker_tooling.py#46\u001b\\\u001b[2m46\u001b[0m\u001b]8;;\u001b\\\n",
       "\u001b[2;36m           \u001b[0msuccessfully.                                                                       \u001b[2m                    \u001b[0m\n"
      ]
     },
     "metadata": {},
     "output_type": "display_data"
    },
    {
     "data": {
      "application/vnd.jupyter.widget-view+json": {
       "model_id": "a804d8582c0742d78efd599218a98342",
       "version_major": 2,
       "version_minor": 0
      },
      "text/plain": [
       "Executing:   0%|          | 0/13 [00:00<?, ?cell/s]"
      ]
     },
     "metadata": {},
     "output_type": "display_data"
    },
    {
     "data": {
      "text/html": [
       "<pre style=\"white-space:pre;overflow-x:auto;line-height:normal;font-family:Menlo,'DejaVu Sans Mono',consolas,'Courier New',monospace\"><span style=\"color: #7fbfbf; text-decoration-color: #7fbfbf\">[15:01:45] </span>Analysis notebook executed: ..<span style=\"color: #800080; text-decoration-color: #800080\">/reports/v009/2024_11_21__14_57/</span><span style=\"color: #ff00ff; text-decoration-color: #ff00ff\">analysis_output.ipynb</span>        <a href=\"file:///home/paltenmo/projects/crossplatform/analysis_and_reporting/triage.py\" target=\"_blank\"><span style=\"color: #7f7f7f; text-decoration-color: #7f7f7f\">triage.py</span></a><span style=\"color: #7f7f7f; text-decoration-color: #7f7f7f\">:</span><a href=\"file:///home/paltenmo/projects/crossplatform/analysis_and_reporting/triage.py#163\" target=\"_blank\"><span style=\"color: #7f7f7f; text-decoration-color: #7f7f7f\">163</span></a>\n",
       "</pre>\n"
      ],
      "text/plain": [
       "\u001b[2;36m[15:01:45]\u001b[0m\u001b[2;36m \u001b[0mAnalysis notebook executed: ..\u001b[35m/reports/v009/2024_11_21__14_57/\u001b[0m\u001b[95manalysis_output.ipynb\u001b[0m        \u001b]8;id=838500;file:///home/paltenmo/projects/crossplatform/analysis_and_reporting/triage.py\u001b\\\u001b[2mtriage.py\u001b[0m\u001b]8;;\u001b\\\u001b[2m:\u001b[0m\u001b]8;id=187327;file:///home/paltenmo/projects/crossplatform/analysis_and_reporting/triage.py#163\u001b\\\u001b[2m163\u001b[0m\u001b]8;;\u001b\\\n"
      ]
     },
     "metadata": {},
     "output_type": "display_data"
    },
    {
     "data": {
      "text/html": [
       "<pre style=\"white-space:pre;overflow-x:auto;line-height:normal;font-family:Menlo,'DejaVu Sans Mono',consolas,'Courier New',monospace\"><span style=\"color: #7fbfbf; text-decoration-color: #7fbfbf\">           </span>Created report folder: ..<span style=\"color: #800080; text-decoration-color: #800080\">/reports/v009/</span><span style=\"color: #ff00ff; text-decoration-color: #ff00ff\">2024_11_21__15_01</span>                                   <a href=\"file:///home/paltenmo/projects/crossplatform/analysis_and_reporting/triage.py\" target=\"_blank\"><span style=\"color: #7f7f7f; text-decoration-color: #7f7f7f\">triage.py</span></a><span style=\"color: #7f7f7f; text-decoration-color: #7f7f7f\">:</span><a href=\"file:///home/paltenmo/projects/crossplatform/analysis_and_reporting/triage.py#131\" target=\"_blank\"><span style=\"color: #7f7f7f; text-decoration-color: #7f7f7f\">131</span></a>\n",
       "</pre>\n"
      ],
      "text/plain": [
       "\u001b[2;36m          \u001b[0m\u001b[2;36m \u001b[0mCreated report folder: ..\u001b[35m/reports/v009/\u001b[0m\u001b[95m2024_11_21__15_01\u001b[0m                                   \u001b]8;id=983100;file:///home/paltenmo/projects/crossplatform/analysis_and_reporting/triage.py\u001b\\\u001b[2mtriage.py\u001b[0m\u001b]8;;\u001b\\\u001b[2m:\u001b[0m\u001b]8;id=686809;file:///home/paltenmo/projects/crossplatform/analysis_and_reporting/triage.py#131\u001b\\\u001b[2m131\u001b[0m\u001b]8;;\u001b\\\n"
      ]
     },
     "metadata": {},
     "output_type": "display_data"
    },
    {
     "data": {
      "text/html": [
       "<pre style=\"white-space:pre;overflow-x:auto;line-height:normal;font-family:Menlo,'DejaVu Sans Mono',consolas,'Courier New',monospace\"><span style=\"color: #7fbfbf; text-decoration-color: #7fbfbf\">           </span>Copied files to: ..<span style=\"color: #800080; text-decoration-color: #800080\">/reports/v009/</span><span style=\"color: #ff00ff; text-decoration-color: #ff00ff\">2024_11_21__15_01</span>                                         <a href=\"file:///home/paltenmo/projects/crossplatform/analysis_and_reporting/triage.py\" target=\"_blank\"><span style=\"color: #7f7f7f; text-decoration-color: #7f7f7f\">triage.py</span></a><span style=\"color: #7f7f7f; text-decoration-color: #7f7f7f\">:</span><a href=\"file:///home/paltenmo/projects/crossplatform/analysis_and_reporting/triage.py#140\" target=\"_blank\"><span style=\"color: #7f7f7f; text-decoration-color: #7f7f7f\">140</span></a>\n",
       "</pre>\n"
      ],
      "text/plain": [
       "\u001b[2;36m          \u001b[0m\u001b[2;36m \u001b[0mCopied files to: ..\u001b[35m/reports/v009/\u001b[0m\u001b[95m2024_11_21__15_01\u001b[0m                                         \u001b]8;id=61401;file:///home/paltenmo/projects/crossplatform/analysis_and_reporting/triage.py\u001b\\\u001b[2mtriage.py\u001b[0m\u001b]8;;\u001b\\\u001b[2m:\u001b[0m\u001b]8;id=451277;file:///home/paltenmo/projects/crossplatform/analysis_and_reporting/triage.py#140\u001b\\\u001b[2m140\u001b[0m\u001b]8;;\u001b\\\n"
      ]
     },
     "metadata": {},
     "output_type": "display_data"
    },
    {
     "data": {
      "text/html": [
       "<pre style=\"white-space:pre;overflow-x:auto;line-height:normal;font-family:Menlo,'DejaVu Sans Mono',consolas,'Courier New',monospace\"><span style=\"color: #7fbfbf; text-decoration-color: #7fbfbf\">[15:01:45] </span>Involved functions:                                                             <a href=\"file:///home/paltenmo/projects/crossplatform/analysis_and_reporting/ddmin_target_file.py\" target=\"_blank\"><span style=\"color: #7f7f7f; text-decoration-color: #7f7f7f\">ddmin_target_file.py</span></a><span style=\"color: #7f7f7f; text-decoration-color: #7f7f7f\">:</span><a href=\"file:///home/paltenmo/projects/crossplatform/analysis_and_reporting/ddmin_target_file.py#206\" target=\"_blank\"><span style=\"color: #7f7f7f; text-decoration-color: #7f7f7f\">206</span></a>\n",
       "</pre>\n"
      ],
      "text/plain": [
       "\u001b[2;36m[15:01:45]\u001b[0m\u001b[2;36m \u001b[0mInvolved functions:                                                             \u001b]8;id=393739;file:///home/paltenmo/projects/crossplatform/analysis_and_reporting/ddmin_target_file.py\u001b\\\u001b[2mddmin_target_file.py\u001b[0m\u001b]8;;\u001b\\\u001b[2m:\u001b[0m\u001b]8;id=121612;file:///home/paltenmo/projects/crossplatform/analysis_and_reporting/ddmin_target_file.py#206\u001b\\\u001b[2m206\u001b[0m\u001b]8;;\u001b\\\n"
      ]
     },
     "metadata": {},
     "output_type": "display_data"
    },
    {
     "data": {
      "text/html": [
       "<pre style=\"white-space:pre;overflow-x:auto;line-height:normal;font-family:Menlo,'DejaVu Sans Mono',consolas,'Courier New',monospace\"><span style=\"color: #7fbfbf; text-decoration-color: #7fbfbf\">           </span>  - compare_qasm_via_qcec                                                       <a href=\"file:///home/paltenmo/projects/crossplatform/analysis_and_reporting/ddmin_target_file.py\" target=\"_blank\"><span style=\"color: #7f7f7f; text-decoration-color: #7f7f7f\">ddmin_target_file.py</span></a><span style=\"color: #7f7f7f; text-decoration-color: #7f7f7f\">:</span><a href=\"file:///home/paltenmo/projects/crossplatform/analysis_and_reporting/ddmin_target_file.py#208\" target=\"_blank\"><span style=\"color: #7f7f7f; text-decoration-color: #7f7f7f\">208</span></a>\n",
       "</pre>\n"
      ],
      "text/plain": [
       "\u001b[2;36m          \u001b[0m\u001b[2;36m \u001b[0m  - compare_qasm_via_qcec                                                       \u001b]8;id=893171;file:///home/paltenmo/projects/crossplatform/analysis_and_reporting/ddmin_target_file.py\u001b\\\u001b[2mddmin_target_file.py\u001b[0m\u001b]8;;\u001b\\\u001b[2m:\u001b[0m\u001b]8;id=900657;file:///home/paltenmo/projects/crossplatform/analysis_and_reporting/ddmin_target_file.py#208\u001b\\\u001b[2m208\u001b[0m\u001b]8;;\u001b\\\n"
      ]
     },
     "metadata": {},
     "output_type": "display_data"
    },
    {
     "data": {
      "text/html": [
       "<pre style=\"white-space:pre;overflow-x:auto;line-height:normal;font-family:Menlo,'DejaVu Sans Mono',consolas,'Courier New',monospace\"><span style=\"color: #7fbfbf; text-decoration-color: #7fbfbf\">           </span>  - export_to_qasm_with_pytket                                                  <a href=\"file:///home/paltenmo/projects/crossplatform/analysis_and_reporting/ddmin_target_file.py\" target=\"_blank\"><span style=\"color: #7f7f7f; text-decoration-color: #7f7f7f\">ddmin_target_file.py</span></a><span style=\"color: #7f7f7f; text-decoration-color: #7f7f7f\">:</span><a href=\"file:///home/paltenmo/projects/crossplatform/analysis_and_reporting/ddmin_target_file.py#208\" target=\"_blank\"><span style=\"color: #7f7f7f; text-decoration-color: #7f7f7f\">208</span></a>\n",
       "</pre>\n"
      ],
      "text/plain": [
       "\u001b[2;36m          \u001b[0m\u001b[2;36m \u001b[0m  - export_to_qasm_with_pytket                                                  \u001b]8;id=482258;file:///home/paltenmo/projects/crossplatform/analysis_and_reporting/ddmin_target_file.py\u001b\\\u001b[2mddmin_target_file.py\u001b[0m\u001b]8;;\u001b\\\u001b[2m:\u001b[0m\u001b]8;id=444501;file:///home/paltenmo/projects/crossplatform/analysis_and_reporting/ddmin_target_file.py#208\u001b\\\u001b[2m208\u001b[0m\u001b]8;;\u001b\\\n"
      ]
     },
     "metadata": {},
     "output_type": "display_data"
    },
    {
     "data": {
      "text/html": [
       "<pre style=\"white-space:pre;overflow-x:auto;line-height:normal;font-family:Menlo,'DejaVu Sans Mono',consolas,'Courier New',monospace\"><span style=\"color: #7fbfbf; text-decoration-color: #7fbfbf\">           </span>  - export_to_qasm_with_qiskit                                                  <a href=\"file:///home/paltenmo/projects/crossplatform/analysis_and_reporting/ddmin_target_file.py\" target=\"_blank\"><span style=\"color: #7f7f7f; text-decoration-color: #7f7f7f\">ddmin_target_file.py</span></a><span style=\"color: #7f7f7f; text-decoration-color: #7f7f7f\">:</span><a href=\"file:///home/paltenmo/projects/crossplatform/analysis_and_reporting/ddmin_target_file.py#208\" target=\"_blank\"><span style=\"color: #7f7f7f; text-decoration-color: #7f7f7f\">208</span></a>\n",
       "</pre>\n"
      ],
      "text/plain": [
       "\u001b[2;36m          \u001b[0m\u001b[2;36m \u001b[0m  - export_to_qasm_with_qiskit                                                  \u001b]8;id=403788;file:///home/paltenmo/projects/crossplatform/analysis_and_reporting/ddmin_target_file.py\u001b\\\u001b[2mddmin_target_file.py\u001b[0m\u001b]8;;\u001b\\\u001b[2m:\u001b[0m\u001b]8;id=219130;file:///home/paltenmo/projects/crossplatform/analysis_and_reporting/ddmin_target_file.py#208\u001b\\\u001b[2m208\u001b[0m\u001b]8;;\u001b\\\n"
      ]
     },
     "metadata": {},
     "output_type": "display_data"
    },
    {
     "name": "stdout",
     "output_type": "stream",
     "text": [
      "Error parsing: Command 'python /workspace/to_execute.py' in image 'qiskit_runner' returned non-zero exit status 1: b'Traceback (most recent call last):\\n  File \"/workspace/to_execute.py\", line 105, in <module>\\n    target_qc = qc\\nNameError: name \\'qc\\' is not defined\\n'\n",
      "Failed to execute to_execute.py in Docker.\n",
      "Output: Saved the Pytket circuit to /workspace/to_execute_qc_pytket.qasm\n",
      "Saved the Qiskit circuit to /workspace/to_execute_qc_qiskit.qasm\n",
      "Exported QASM files: [('/workspace/to_execute_qc_pytket.qasm', 'export_to_qasm_with_pytket'), ('/workspace/to_execute_qc_qiskit.qasm', 'export_to_qasm_with_qiskit')]\n",
      "Log has been saved to /workspace/to_execute_81243d_error.json\n",
      "\n",
      "Program to_execute.py executed successfully.\n",
      "New exception message: The circuits are not equivalent: /workspace/to_execute_qc_pytket.qasm, /workspace/to_execute_qc_qiskit.qasm\n",
      "Error parsing: Command 'python /workspace/to_execute.py' in image 'qiskit_runner' returned non-zero exit status 1: b'  File \"/workspace/to_execute.py\", line 22\\n    , custom_instructions=qasm2.LEGACY_CUSTOM_INSTRUCTIONS)\\n                                                          ^\\nSyntaxError: unmatched \\')\\'\\n'\n",
      "Failed to execute to_execute.py in Docker.\n",
      "Error parsing: Command 'python /workspace/to_execute.py' in image 'qiskit_runner' returned non-zero exit status 1: b'  File \"/workspace/to_execute.py\", line 10\\n    qc = qasm2.loads(\\n                    ^\\nSyntaxError: \\'(\\' was never closed\\n'\n",
      "Failed to execute to_execute.py in Docker.\n",
      "Error parsing: Command 'python /workspace/to_execute.py' in image 'qiskit_runner' returned non-zero exit status 1: b'  File \"/workspace/to_execute.py\", line 29\\n    , custom_instructions=qasm2.LEGACY_CUSTOM_INSTRUCTIONS)\\n                                                          ^\\nSyntaxError: unmatched \\')\\'\\n'\n",
      "Failed to execute to_execute.py in Docker.\n",
      "Error parsing: Command 'python /workspace/to_execute.py' in image 'qiskit_runner' returned non-zero exit status 1: b'Traceback (most recent call last):\\n  File \"/workspace/to_execute.py\", line 10, in <module>\\n    qc = qasm2.loads(\\n  File \"/usr/local/lib/python3.10/site-packages/qiskit/qasm2/__init__.py\", line 587, in loads\\n    return _parse.from_bytecode(\\n  File \"/usr/local/lib/python3.10/site-packages/qiskit/qasm2/parse.py\", line 214, in from_bytecode\\n    for op in bc:\\nqiskit.qasm2.exceptions.QASM2ParseError: \"<input>:9,22: \\'reg_1_c\\' is not defined in this scope\"\\n'\n",
      "Failed to execute to_execute.py in Docker.\n",
      "Output: Saved the Pytket circuit to /workspace/to_execute_qc_pytket.qasm\n",
      "Saved the Qiskit circuit to /workspace/to_execute_qc_qiskit.qasm\n",
      "Exported QASM files: [('/workspace/to_execute_qc_pytket.qasm', 'export_to_qasm_with_pytket'), ('/workspace/to_execute_qc_qiskit.qasm', 'export_to_qasm_with_qiskit')]\n",
      "Log has been saved to /workspace/to_execute_be7e3f_error.json\n",
      "\n",
      "Program to_execute.py executed successfully.\n",
      "New exception message: The circuits are not equivalent: /workspace/to_execute_qc_pytket.qasm, /workspace/to_execute_qc_qiskit.qasm\n",
      "Error parsing: Command 'python /workspace/to_execute.py' in image 'qiskit_runner' returned non-zero exit status 1: b'  File \"/workspace/to_execute.py\", line 22\\n    , custom_instructions=qasm2.LEGACY_CUSTOM_INSTRUCTIONS)\\n                                                          ^\\nSyntaxError: unmatched \\')\\'\\n'\n",
      "Failed to execute to_execute.py in Docker.\n",
      "Error parsing: Command 'python /workspace/to_execute.py' in image 'qiskit_runner' returned non-zero exit status 1: b'Traceback (most recent call last):\\n  File \"/workspace/to_execute.py\", line 10, in <module>\\n    qc = qasm2.loads(\\n  File \"/usr/local/lib/python3.10/site-packages/qiskit/qasm2/__init__.py\", line 587, in loads\\n    return _parse.from_bytecode(\\n  File \"/usr/local/lib/python3.10/site-packages/qiskit/qasm2/parse.py\", line 214, in from_bytecode\\n    for op in bc:\\nqiskit.qasm2.exceptions.QASM2ParseError: \"<input>:6,3: \\'reg_2_a\\' is not defined in this scope\"\\n'\n",
      "Failed to execute to_execute.py in Docker.\n",
      "Error parsing: Command 'python /workspace/to_execute.py' in image 'qiskit_runner' returned non-zero exit status 1: b'  File \"/workspace/to_execute.py\", line 10\\n    qc = qasm2.loads(\\n                    ^\\nSyntaxError: \\'(\\' was never closed\\n'\n",
      "Failed to execute to_execute.py in Docker.\n",
      "Error parsing: Command 'python /workspace/to_execute.py' in image 'qiskit_runner' returned non-zero exit status 1: b'  File \"/workspace/to_execute.py\", line 25\\n    , custom_instructions=qasm2.LEGACY_CUSTOM_INSTRUCTIONS)\\n                                                          ^\\nSyntaxError: unmatched \\')\\'\\n'\n",
      "Failed to execute to_execute.py in Docker.\n",
      "Error parsing: Command 'python /workspace/to_execute.py' in image 'qiskit_runner' returned non-zero exit status 1: b'Traceback (most recent call last):\\n  File \"/workspace/to_execute.py\", line 10, in <module>\\n    qc = qasm2.loads(\\n  File \"/usr/local/lib/python3.10/site-packages/qiskit/qasm2/__init__.py\", line 587, in loads\\n    return _parse.from_bytecode(\\n  File \"/usr/local/lib/python3.10/site-packages/qiskit/qasm2/parse.py\", line 214, in from_bytecode\\n    for op in bc:\\nqiskit.qasm2.exceptions.QASM2ParseError: \"<input>:7,0: cannot use non-builtin custom instruction \\'cx\\' before definition\"\\n'\n",
      "Failed to execute to_execute.py in Docker.\n",
      "Error parsing: Command 'python /workspace/to_execute.py' in image 'qiskit_runner' returned non-zero exit status 1: b'Traceback (most recent call last):\\n  File \"/workspace/to_execute.py\", line 10, in <module>\\n    qc = qasm2.loads(\\n  File \"/usr/local/lib/python3.10/site-packages/qiskit/qasm2/__init__.py\", line 587, in loads\\n    return _parse.from_bytecode(\\n  File \"/usr/local/lib/python3.10/site-packages/qiskit/qasm2/parse.py\", line 214, in from_bytecode\\n    for op in bc:\\nqiskit.qasm2.exceptions.QASM2ParseError: \"<input>:9,3: \\'reg_2_a\\' is not defined in this scope\"\\n'\n",
      "Failed to execute to_execute.py in Docker.\n",
      "Output: Saved the Pytket circuit to /workspace/to_execute_qc_pytket.qasm\n",
      "Saved the Qiskit circuit to /workspace/to_execute_qc_qiskit.qasm\n",
      "Exported QASM files: [('/workspace/to_execute_qc_pytket.qasm', 'export_to_qasm_with_pytket'), ('/workspace/to_execute_qc_qiskit.qasm', 'export_to_qasm_with_qiskit')]\n",
      "Log has been saved to /workspace/to_execute_7f7502_error.json\n",
      "\n",
      "Program to_execute.py executed successfully.\n",
      "New exception message: The circuits are not equivalent: /workspace/to_execute_qc_pytket.qasm, /workspace/to_execute_qc_qiskit.qasm\n",
      "Error parsing: Command 'python /workspace/to_execute.py' in image 'qiskit_runner' returned non-zero exit status 1: b'  File \"/workspace/to_execute.py\", line 22\\n    , custom_instructions=qasm2.LEGACY_CUSTOM_INSTRUCTIONS)\\n                                                          ^\\nSyntaxError: unmatched \\')\\'\\n'\n",
      "Failed to execute to_execute.py in Docker.\n",
      "Error parsing: Command 'python /workspace/to_execute.py' in image 'qiskit_runner' returned non-zero exit status 1: b'Traceback (most recent call last):\\n  File \"/workspace/to_execute.py\", line 10, in <module>\\n    qc = qasm2.loads(\\n  File \"/usr/local/lib/python3.10/site-packages/qiskit/qasm2/__init__.py\", line 587, in loads\\n    return _parse.from_bytecode(\\n  File \"/usr/local/lib/python3.10/site-packages/qiskit/qasm2/parse.py\", line 214, in from_bytecode\\n    for op in bc:\\nqiskit.qasm2.exceptions.QASM2ParseError: \"<input>:6,0: cannot use non-builtin custom instruction \\'cx\\' before definition\"\\n'\n",
      "Failed to execute to_execute.py in Docker.\n",
      "Error parsing: Command 'python /workspace/to_execute.py' in image 'qiskit_runner' returned non-zero exit status 1: b'Traceback (most recent call last):\\n  File \"/workspace/to_execute.py\", line 10, in <module>\\n    qc = qasm2.loads(\\n  File \"/usr/local/lib/python3.10/site-packages/qiskit/qasm2/__init__.py\", line 587, in loads\\n    return _parse.from_bytecode(\\n  File \"/usr/local/lib/python3.10/site-packages/qiskit/qasm2/parse.py\", line 214, in from_bytecode\\n    for op in bc:\\nqiskit.qasm2.exceptions.QASM2ParseError: \"<input>:8,17: \\'reg_2_b\\' is not defined in this scope\"\\n'\n",
      "Failed to execute to_execute.py in Docker.\n",
      "Output: Saved the Pytket circuit to /workspace/to_execute_qc_pytket.qasm\n",
      "Saved the Qiskit circuit to /workspace/to_execute_qc_qiskit.qasm\n",
      "Exported QASM files: [('/workspace/to_execute_qc_pytket.qasm', 'export_to_qasm_with_pytket'), ('/workspace/to_execute_qc_qiskit.qasm', 'export_to_qasm_with_qiskit')]\n",
      "Log has been saved to /workspace/to_execute_2c5abe_error.json\n",
      "\n",
      "Program to_execute.py executed successfully.\n",
      "New exception message: The circuits are not equivalent: /workspace/to_execute_qc_pytket.qasm, /workspace/to_execute_qc_qiskit.qasm\n",
      "Error parsing: Command 'python /workspace/to_execute.py' in image 'qiskit_runner' returned non-zero exit status 1: b'  File \"/workspace/to_execute.py\", line 18\\n    , custom_instructions=qasm2.LEGACY_CUSTOM_INSTRUCTIONS)\\n                                                          ^\\nSyntaxError: unmatched \\')\\'\\n'\n",
      "Failed to execute to_execute.py in Docker.\n",
      "Error parsing: Command 'python /workspace/to_execute.py' in image 'qiskit_runner' returned non-zero exit status 1: b'Traceback (most recent call last):\\n  File \"/workspace/to_execute.py\", line 10, in <module>\\n    qc = qasm2.loads(\\n  File \"/usr/local/lib/python3.10/site-packages/qiskit/qasm2/__init__.py\", line 587, in loads\\n    return _parse.from_bytecode(\\n  File \"/usr/local/lib/python3.10/site-packages/qiskit/qasm2/parse.py\", line 214, in from_bytecode\\n    for op in bc:\\nqiskit.qasm2.exceptions.QASM2ParseError: \"<input>:7,0: cannot use non-builtin custom instruction \\'ccx\\' before definition\"\\n'\n",
      "Failed to execute to_execute.py in Docker.\n",
      "Error parsing: Command 'python /workspace/to_execute.py' in image 'qiskit_runner' returned non-zero exit status 1: b'Traceback (most recent call last):\\n  File \"/workspace/to_execute.py\", line 10, in <module>\\n    qc = qasm2.loads(\\n  File \"/usr/local/lib/python3.10/site-packages/qiskit/qasm2/__init__.py\", line 587, in loads\\n    return _parse.from_bytecode(\\n  File \"/usr/local/lib/python3.10/site-packages/qiskit/qasm2/parse.py\", line 214, in from_bytecode\\n    for op in bc:\\nqiskit.qasm2.exceptions.QASM2ParseError: \"<input>:6,4: \\'reg_2_a\\' is not defined in this scope\"\\n'\n",
      "Failed to execute to_execute.py in Docker.\n",
      "Error parsing: Command 'python /workspace/to_execute.py' in image 'qiskit_runner' returned non-zero exit status 1: b'  File \"/workspace/to_execute.py\", line 10\\n    qc = qasm2.loads(\\n                    ^\\nSyntaxError: \\'(\\' was never closed\\n'\n",
      "Failed to execute to_execute.py in Docker.\n",
      "Error parsing: Command 'python /workspace/to_execute.py' in image 'qiskit_runner' returned non-zero exit status 1: b'  File \"/workspace/to_execute.py\", line 21\\n    , custom_instructions=qasm2.LEGACY_CUSTOM_INSTRUCTIONS)\\nIndentationError: unexpected indent\\n'\n",
      "Failed to execute to_execute.py in Docker.\n",
      "Error parsing: Command 'python /workspace/to_execute.py' in image 'qiskit_runner' returned non-zero exit status 1: b'  File \"/workspace/to_execute.py\", line 12\\n    include \"qelib1.inc\";\\n            ^^^^^^^^^^^^\\nSyntaxError: invalid syntax\\n'\n",
      "Failed to execute to_execute.py in Docker.\n",
      "Error parsing: Command 'python /workspace/to_execute.py' in image 'qiskit_runner' returned non-zero exit status 1: b'Traceback (most recent call last):\\n  File \"/workspace/to_execute.py\", line 10, in <module>\\n    qc = qasm2.loads(\\n  File \"/usr/local/lib/python3.10/site-packages/qiskit/qasm2/__init__.py\", line 587, in loads\\n    return _parse.from_bytecode(\\n  File \"/usr/local/lib/python3.10/site-packages/qiskit/qasm2/parse.py\", line 214, in from_bytecode\\n    for op in bc:\\nqiskit.qasm2.exceptions.QASM2ParseError: \"<input>:8,0: cannot use non-builtin custom instruction \\'ccx\\' before definition\"\\n'\n",
      "Failed to execute to_execute.py in Docker.\n",
      "Error parsing: Command 'python /workspace/to_execute.py' in image 'qiskit_runner' returned non-zero exit status 1: b'Traceback (most recent call last):\\n  File \"/workspace/to_execute.py\", line 10, in <module>\\n    qc = qasm2.loads(\\n  File \"/usr/local/lib/python3.10/site-packages/qiskit/qasm2/__init__.py\", line 587, in loads\\n    return _parse.from_bytecode(\\n  File \"/usr/local/lib/python3.10/site-packages/qiskit/qasm2/parse.py\", line 214, in from_bytecode\\n    for op in bc:\\nqiskit.qasm2.exceptions.QASM2ParseError: \"<input>:8,4: \\'reg_2_a\\' is not defined in this scope\"\\n'\n",
      "Failed to execute to_execute.py in Docker.\n",
      "Error parsing: Command 'python /workspace/to_execute.py' in image 'qiskit_runner' returned non-zero exit status 1: b'Traceback (most recent call last):\\n  File \"/workspace/to_execute.py\", line 10, in <module>\\n    qc = qasm2.loads(\\n  File \"/usr/local/lib/python3.10/site-packages/qiskit/qasm2/__init__.py\", line 587, in loads\\n    return _parse.from_bytecode(\\n  File \"/usr/local/lib/python3.10/site-packages/qiskit/qasm2/parse.py\", line 214, in from_bytecode\\n    for op in bc:\\nqiskit.qasm2.exceptions.QASM2ParseError: \"<input>:8,15: \\'reg_2_b\\' is not defined in this scope\"\\n'\n",
      "Failed to execute to_execute.py in Docker.\n",
      "Output: Saved the Pytket circuit to /workspace/to_execute_qc_pytket.qasm\n",
      "Saved the Qiskit circuit to /workspace/to_execute_qc_qiskit.qasm\n",
      "Exported QASM files: [('/workspace/to_execute_qc_pytket.qasm', 'export_to_qasm_with_pytket'), ('/workspace/to_execute_qc_qiskit.qasm', 'export_to_qasm_with_qiskit')]\n",
      "Log has been saved to /workspace/to_execute_71ef2f_error.json\n",
      "\n",
      "Program to_execute.py executed successfully.\n",
      "New exception message: The circuits are not equivalent: /workspace/to_execute_qc_pytket.qasm, /workspace/to_execute_qc_qiskit.qasm\n",
      "Error parsing: Command 'python /workspace/to_execute.py' in image 'qiskit_runner' returned non-zero exit status 1: b'  File \"/workspace/to_execute.py\", line 20\\n    , custom_instructions=qasm2.LEGACY_CUSTOM_INSTRUCTIONS)\\nIndentationError: unexpected indent\\n'\n",
      "Failed to execute to_execute.py in Docker.\n",
      "Error parsing: Command 'python /workspace/to_execute.py' in image 'qiskit_runner' returned non-zero exit status 1: b'  File \"/workspace/to_execute.py\", line 12\\n    include \"qelib1.inc\";\\n            ^^^^^^^^^^^^\\nSyntaxError: invalid syntax\\n'\n",
      "Failed to execute to_execute.py in Docker.\n",
      "Error parsing: Command 'python /workspace/to_execute.py' in image 'qiskit_runner' returned non-zero exit status 1: b'Traceback (most recent call last):\\n  File \"/workspace/to_execute.py\", line 10, in <module>\\n    qc = qasm2.loads(\\n  File \"/usr/local/lib/python3.10/site-packages/qiskit/qasm2/__init__.py\", line 587, in loads\\n    return _parse.from_bytecode(\\n  File \"/usr/local/lib/python3.10/site-packages/qiskit/qasm2/parse.py\", line 214, in from_bytecode\\n    for op in bc:\\nqiskit.qasm2.exceptions.QASM2ParseError: \"<input>:7,0: cannot use non-builtin custom instruction \\'ccx\\' before definition\"\\n'\n",
      "Failed to execute to_execute.py in Docker.\n",
      "Error parsing: Command 'python /workspace/to_execute.py' in image 'qiskit_runner' returned non-zero exit status 1: b'Traceback (most recent call last):\\n  File \"/workspace/to_execute.py\", line 10, in <module>\\n    qc = qasm2.loads(\\n  File \"/usr/local/lib/python3.10/site-packages/qiskit/qasm2/__init__.py\", line 587, in loads\\n    return _parse.from_bytecode(\\n  File \"/usr/local/lib/python3.10/site-packages/qiskit/qasm2/parse.py\", line 214, in from_bytecode\\n    for op in bc:\\nqiskit.qasm2.exceptions.QASM2ParseError: \"<input>:7,4: \\'reg_2_a\\' is not defined in this scope\"\\n'\n",
      "Failed to execute to_execute.py in Docker.\n",
      "Error parsing: Command 'python /workspace/to_execute.py' in image 'qiskit_runner' returned non-zero exit status 1: b'Traceback (most recent call last):\\n  File \"/workspace/to_execute.py\", line 10, in <module>\\n    qc = qasm2.loads(\\n  File \"/usr/local/lib/python3.10/site-packages/qiskit/qasm2/__init__.py\", line 587, in loads\\n    return _parse.from_bytecode(\\n  File \"/usr/local/lib/python3.10/site-packages/qiskit/qasm2/parse.py\", line 214, in from_bytecode\\n    for op in bc:\\nqiskit.qasm2.exceptions.QASM2ParseError: \"<input>:7,15: \\'reg_2_b\\' is not defined in this scope\"\\n'\n",
      "Failed to execute to_execute.py in Docker.\n",
      "Error parsing: Command 'python /workspace/to_execute.py' in image 'qiskit_runner' returned non-zero exit status 1: b'  File \"/workspace/to_execute.py\", line 12\\n    OPENQASM 2.0;\\n    ^^^^^^^^^^^^\\nSyntaxError: invalid syntax. Perhaps you forgot a comma?\\n'\n",
      "Failed to execute to_execute.py in Docker.\n",
      "Error parsing: Command 'python /workspace/to_execute.py' in image 'qiskit_runner' returned non-zero exit status 1: b'  File \"/workspace/to_execute.py\", line 10\\n    qc = qasm2.loads(\\n                    ^\\nSyntaxError: \\'(\\' was never closed\\n'\n",
      "Failed to execute to_execute.py in Docker.\n",
      "Error parsing: Command 'python /workspace/to_execute.py' in image 'qiskit_runner' returned non-zero exit status 1: b'  File \"/workspace/to_execute.py\", line 21\\n    , custom_instructions=qasm2.LEGACY_CUSTOM_INSTRUCTIONS)\\nIndentationError: unexpected indent\\n'\n",
      "Failed to execute to_execute.py in Docker.\n",
      "Output: Saved the Pytket circuit to /workspace/to_execute_qc_pytket.qasm\n",
      "Saved the Qiskit circuit to /workspace/to_execute_qc_qiskit.qasm\n",
      "Exported QASM files: [('/workspace/to_execute_qc_pytket.qasm', 'export_to_qasm_with_pytket'), ('/workspace/to_execute_qc_qiskit.qasm', 'export_to_qasm_with_qiskit')]\n",
      "Log has been saved to /workspace/to_execute_07037d_error.json\n",
      "\n",
      "Program to_execute.py executed successfully.\n",
      "New exception message: The circuits are not equivalent: /workspace/to_execute_qc_pytket.qasm, /workspace/to_execute_qc_qiskit.qasm\n",
      "Error parsing: Command 'python /workspace/to_execute.py' in image 'qiskit_runner' returned non-zero exit status 1: b'  File \"/workspace/to_execute.py\", line 20\\n    , custom_instructions=qasm2.LEGACY_CUSTOM_INSTRUCTIONS)\\nIndentationError: unexpected indent\\n'\n",
      "Failed to execute to_execute.py in Docker.\n",
      "Error parsing: Command 'python /workspace/to_execute.py' in image 'qiskit_runner' returned non-zero exit status 1: b'  File \"/workspace/to_execute.py\", line 11\\n    OPENQASM 2.0;\\n    ^^^^^^^^^^^^\\nSyntaxError: invalid syntax. Perhaps you forgot a comma?\\n'\n",
      "Failed to execute to_execute.py in Docker.\n",
      "Output: Saved the Pytket circuit to /workspace/to_execute_qc_pytket.qasm\n",
      "Saved the Qiskit circuit to /workspace/to_execute_qc_qiskit.qasm\n",
      "Exported QASM files: [('/workspace/to_execute_qc_pytket.qasm', 'export_to_qasm_with_pytket'), ('/workspace/to_execute_qc_qiskit.qasm', 'export_to_qasm_with_qiskit')]\n",
      "Log has been saved to /workspace/to_execute_42f483_error.json\n",
      "\n",
      "Program to_execute.py executed successfully.\n",
      "New exception message: The circuits are not equivalent: /workspace/to_execute_qc_pytket.qasm, /workspace/to_execute_qc_qiskit.qasm\n",
      "Error parsing: Command 'python /workspace/to_execute.py' in image 'qiskit_runner' returned non-zero exit status 1: b'  File \"/workspace/to_execute.py\", line 19\\n    , custom_instructions=qasm2.LEGACY_CUSTOM_INSTRUCTIONS)\\nIndentationError: unexpected indent\\n'\n",
      "Failed to execute to_execute.py in Docker.\n",
      "Error parsing: Command 'python /workspace/to_execute.py' in image 'qiskit_runner' returned non-zero exit status 1: b'  File \"/workspace/to_execute.py\", line 11\\n    include \"qelib1.inc\";\\n            ^^^^^^^^^^^^\\nSyntaxError: invalid syntax\\n'\n",
      "Failed to execute to_execute.py in Docker.\n",
      "Error parsing: Command 'python /workspace/to_execute.py' in image 'qiskit_runner' returned non-zero exit status 1: b'Traceback (most recent call last):\\n  File \"/workspace/to_execute.py\", line 10, in <module>\\n    qc = qasm2.loads(\\n  File \"/usr/local/lib/python3.10/site-packages/qiskit/qasm2/__init__.py\", line 587, in loads\\n    return _parse.from_bytecode(\\n  File \"/usr/local/lib/python3.10/site-packages/qiskit/qasm2/parse.py\", line 214, in from_bytecode\\n    for op in bc:\\nqiskit.qasm2.exceptions.QASM2ParseError: \"<input>:7,0: cannot use non-builtin custom instruction \\'ccx\\' before definition\"\\n'\n",
      "Failed to execute to_execute.py in Docker.\n",
      "Output: Saved the Pytket circuit to /workspace/to_execute_qc_pytket.qasm\n",
      "Saved the Qiskit circuit to /workspace/to_execute_qc_qiskit.qasm\n",
      "Exported QASM files: [('/workspace/to_execute_qc_pytket.qasm', 'export_to_qasm_with_pytket'), ('/workspace/to_execute_qc_qiskit.qasm', 'export_to_qasm_with_qiskit')]\n",
      "Log has been saved to /workspace/to_execute_630c08_error.json\n",
      "\n",
      "Program to_execute.py executed successfully.\n",
      "New exception message: The circuits are not equivalent: /workspace/to_execute_qc_pytket.qasm, /workspace/to_execute_qc_qiskit.qasm\n",
      "Error parsing: Command 'python /workspace/to_execute.py' in image 'qiskit_runner' returned non-zero exit status 1: b'  File \"/workspace/to_execute.py\", line 18\\n    , custom_instructions=qasm2.LEGACY_CUSTOM_INSTRUCTIONS)\\nIndentationError: unexpected indent\\n'\n",
      "Failed to execute to_execute.py in Docker.\n",
      "Error parsing: Command 'python /workspace/to_execute.py' in image 'qiskit_runner' returned non-zero exit status 1: b'  File \"/workspace/to_execute.py\", line 11\\n    include \"qelib1.inc\";\\n            ^^^^^^^^^^^^\\nSyntaxError: invalid syntax\\n'\n",
      "Failed to execute to_execute.py in Docker.\n",
      "Error parsing: Command 'python /workspace/to_execute.py' in image 'qiskit_runner' returned non-zero exit status 1: b'Traceback (most recent call last):\\n  File \"/workspace/to_execute.py\", line 10, in <module>\\n    qc = qasm2.loads(\\n  File \"/usr/local/lib/python3.10/site-packages/qiskit/qasm2/__init__.py\", line 587, in loads\\n    return _parse.from_bytecode(\\n  File \"/usr/local/lib/python3.10/site-packages/qiskit/qasm2/parse.py\", line 214, in from_bytecode\\n    for op in bc:\\nqiskit.qasm2.exceptions.QASM2ParseError: \"<input>:6,0: cannot use non-builtin custom instruction \\'ccx\\' before definition\"\\n'\n",
      "Failed to execute to_execute.py in Docker.\n",
      "Output: Saved the Pytket circuit to /workspace/to_execute_qc_pytket.qasm\n",
      "Saved the Qiskit circuit to /workspace/to_execute_qc_qiskit.qasm\n",
      "Exported QASM files: [('/workspace/to_execute_qc_pytket.qasm', 'export_to_qasm_with_pytket'), ('/workspace/to_execute_qc_qiskit.qasm', 'export_to_qasm_with_qiskit')]\n",
      "The circuits are equivalent: /workspace/to_execute_qc_pytket.qasm, /workspace/to_execute_qc_qiskit.qasm\n",
      "\n",
      "Program to_execute.py executed successfully.\n",
      "Error parsing: Command 'python /workspace/to_execute.py' in image 'qiskit_runner' returned non-zero exit status 1: b'Traceback (most recent call last):\\n  File \"/workspace/to_execute.py\", line 10, in <module>\\n    qc = qasm2.loads(\\n  File \"/usr/local/lib/python3.10/site-packages/qiskit/qasm2/__init__.py\", line 587, in loads\\n    return _parse.from_bytecode(\\n  File \"/usr/local/lib/python3.10/site-packages/qiskit/qasm2/parse.py\", line 214, in from_bytecode\\n    for op in bc:\\nqiskit.qasm2.exceptions.QASM2ParseError: \"<input>:6,4: \\'reg_2_a\\' is not defined in this scope\"\\n'\n",
      "Failed to execute to_execute.py in Docker.\n",
      "Error parsing: Command 'python /workspace/to_execute.py' in image 'qiskit_runner' returned non-zero exit status 1: b'Traceback (most recent call last):\\n  File \"/workspace/to_execute.py\", line 10, in <module>\\n    qc = qasm2.loads(\\n  File \"/usr/local/lib/python3.10/site-packages/qiskit/qasm2/__init__.py\", line 587, in loads\\n    return _parse.from_bytecode(\\n  File \"/usr/local/lib/python3.10/site-packages/qiskit/qasm2/parse.py\", line 214, in from_bytecode\\n    for op in bc:\\nqiskit.qasm2.exceptions.QASM2ParseError: \"<input>:6,15: \\'reg_2_b\\' is not defined in this scope\"\\n'\n",
      "Failed to execute to_execute.py in Docker.\n",
      "Output: Saved the Pytket circuit to /workspace/to_execute_qc_pytket.qasm\n",
      "Saved the Qiskit circuit to /workspace/to_execute_qc_qiskit.qasm\n",
      "Exported QASM files: [('/workspace/to_execute_qc_pytket.qasm', 'export_to_qasm_with_pytket'), ('/workspace/to_execute_qc_qiskit.qasm', 'export_to_qasm_with_qiskit')]\n",
      "Log has been saved to /workspace/to_execute_102dab_error.json\n",
      "\n",
      "Program to_execute.py executed successfully.\n",
      "New exception message: The circuits are not equivalent: /workspace/to_execute_qc_pytket.qasm, /workspace/to_execute_qc_qiskit.qasm\n",
      "Error parsing: Command 'python /workspace/to_execute.py' in image 'qiskit_runner' returned non-zero exit status 1: b'  File \"/workspace/to_execute.py\", line 17\\n    , custom_instructions=qasm2.LEGACY_CUSTOM_INSTRUCTIONS)\\nIndentationError: unexpected indent\\n'\n",
      "Failed to execute to_execute.py in Docker.\n",
      "Error parsing: Command 'python /workspace/to_execute.py' in image 'qiskit_runner' returned non-zero exit status 1: b'  File \"/workspace/to_execute.py\", line 11\\n    include \"qelib1.inc\";\\n            ^^^^^^^^^^^^\\nSyntaxError: invalid syntax\\n'\n",
      "Failed to execute to_execute.py in Docker.\n",
      "Error parsing: Command 'python /workspace/to_execute.py' in image 'qiskit_runner' returned non-zero exit status 1: b'Traceback (most recent call last):\\n  File \"/workspace/to_execute.py\", line 10, in <module>\\n    qc = qasm2.loads(\\n  File \"/usr/local/lib/python3.10/site-packages/qiskit/qasm2/__init__.py\", line 587, in loads\\n    return _parse.from_bytecode(\\n  File \"/usr/local/lib/python3.10/site-packages/qiskit/qasm2/parse.py\", line 214, in from_bytecode\\n    for op in bc:\\nqiskit.qasm2.exceptions.QASM2ParseError: \"<input>:5,0: cannot use non-builtin custom instruction \\'ccx\\' before definition\"\\n'\n",
      "Failed to execute to_execute.py in Docker.\n",
      "Output: Saved the Pytket circuit to /workspace/to_execute_qc_pytket.qasm\n",
      "Saved the Qiskit circuit to /workspace/to_execute_qc_qiskit.qasm\n",
      "Exported QASM files: [('/workspace/to_execute_qc_pytket.qasm', 'export_to_qasm_with_pytket'), ('/workspace/to_execute_qc_qiskit.qasm', 'export_to_qasm_with_qiskit')]\n",
      "The circuits are equivalent: /workspace/to_execute_qc_pytket.qasm, /workspace/to_execute_qc_qiskit.qasm\n",
      "\n",
      "Program to_execute.py executed successfully.\n",
      "Error parsing: Command 'python /workspace/to_execute.py' in image 'qiskit_runner' returned non-zero exit status 1: b'Traceback (most recent call last):\\n  File \"/workspace/to_execute.py\", line 10, in <module>\\n    qc = qasm2.loads(\\n  File \"/usr/local/lib/python3.10/site-packages/qiskit/qasm2/__init__.py\", line 587, in loads\\n    return _parse.from_bytecode(\\n  File \"/usr/local/lib/python3.10/site-packages/qiskit/qasm2/parse.py\", line 214, in from_bytecode\\n    for op in bc:\\nqiskit.qasm2.exceptions.QASM2ParseError: \"<input>:5,4: \\'reg_2_a\\' is not defined in this scope\"\\n'\n",
      "Failed to execute to_execute.py in Docker.\n",
      "Error parsing: Command 'python /workspace/to_execute.py' in image 'qiskit_runner' returned non-zero exit status 1: b'Traceback (most recent call last):\\n  File \"/workspace/to_execute.py\", line 10, in <module>\\n    qc = qasm2.loads(\\n  File \"/usr/local/lib/python3.10/site-packages/qiskit/qasm2/__init__.py\", line 587, in loads\\n    return _parse.from_bytecode(\\n  File \"/usr/local/lib/python3.10/site-packages/qiskit/qasm2/parse.py\", line 214, in from_bytecode\\n    for op in bc:\\nqiskit.qasm2.exceptions.QASM2ParseError: \"<input>:5,15: \\'reg_2_b\\' is not defined in this scope\"\\n'\n",
      "Failed to execute to_execute.py in Docker.\n",
      "Output: Saved the Pytket circuit to /workspace/to_execute_qc_pytket.qasm\n",
      "Saved the Qiskit circuit to /workspace/to_execute_qc_qiskit.qasm\n",
      "Exported QASM files: [('/workspace/to_execute_qc_pytket.qasm', 'export_to_qasm_with_pytket'), ('/workspace/to_execute_qc_qiskit.qasm', 'export_to_qasm_with_qiskit')]\n",
      "The circuits are equivalent: /workspace/to_execute_qc_pytket.qasm, /workspace/to_execute_qc_qiskit.qasm\n",
      "\n",
      "Program to_execute.py executed successfully.\n",
      "Error parsing: Command 'python /workspace/to_execute.py' in image 'qiskit_runner' returned non-zero exit status 1: b'  File \"/workspace/to_execute.py\", line 11\\n    include \"qelib1.inc\";\\n            ^^^^^^^^^^^^\\nSyntaxError: invalid syntax\\n'\n",
      "Failed to execute to_execute.py in Docker.\n",
      "Error parsing: Command 'python /workspace/to_execute.py' in image 'qiskit_runner' returned non-zero exit status 1: b'  File \"/workspace/to_execute.py\", line 10\\n    qc = qasm2.loads(\\n                    ^\\nSyntaxError: \\'(\\' was never closed\\n'\n",
      "Failed to execute to_execute.py in Docker.\n"
     ]
    },
    {
     "data": {
      "text/html": [
       "<pre style=\"white-space:pre;overflow-x:auto;line-height:normal;font-family:Menlo,'DejaVu Sans Mono',consolas,'Courier New',monospace\"><span style=\"color: #7fbfbf; text-decoration-color: #7fbfbf\">[15:05:37] </span><span style=\"color: #008000; text-decoration-color: #008000\">Minimized file saved as:</span>                                                        <a href=\"file:///home/paltenmo/projects/crossplatform/analysis_and_reporting/ddmin_target_file.py\" target=\"_blank\"><span style=\"color: #7f7f7f; text-decoration-color: #7f7f7f\">ddmin_target_file.py</span></a><span style=\"color: #7f7f7f; text-decoration-color: #7f7f7f\">:</span><a href=\"file:///home/paltenmo/projects/crossplatform/analysis_and_reporting/ddmin_target_file.py#240\" target=\"_blank\"><span style=\"color: #7f7f7f; text-decoration-color: #7f7f7f\">240</span></a>\n",
       "<span style=\"color: #7fbfbf; text-decoration-color: #7fbfbf\">           </span>..<span style=\"color: #800080; text-decoration-color: #800080\">/reports/v009/2024_11_21__15_01/</span><span style=\"color: #ff00ff; text-decoration-color: #ff00ff\">qiskit_circuit_5q_10g_4756_28bbeb_444f6d_erro</span> <span style=\"color: #7f7f7f; text-decoration-color: #7f7f7f\">                        </span>\n",
       "<span style=\"color: #7fbfbf; text-decoration-color: #7fbfbf\">           </span><span style=\"color: #ff00ff; text-decoration-color: #ff00ff\">r_min.py</span>                                                                        <span style=\"color: #7f7f7f; text-decoration-color: #7f7f7f\">                        </span>\n",
       "</pre>\n"
      ],
      "text/plain": [
       "\u001b[2;36m[15:05:37]\u001b[0m\u001b[2;36m \u001b[0m\u001b[32mMinimized file saved as:\u001b[0m                                                        \u001b]8;id=374591;file:///home/paltenmo/projects/crossplatform/analysis_and_reporting/ddmin_target_file.py\u001b\\\u001b[2mddmin_target_file.py\u001b[0m\u001b]8;;\u001b\\\u001b[2m:\u001b[0m\u001b]8;id=992044;file:///home/paltenmo/projects/crossplatform/analysis_and_reporting/ddmin_target_file.py#240\u001b\\\u001b[2m240\u001b[0m\u001b]8;;\u001b\\\n",
       "\u001b[2;36m           \u001b[0m..\u001b[35m/reports/v009/2024_11_21__15_01/\u001b[0m\u001b[95mqiskit_circuit_5q_10g_4756_28bbeb_444f6d_erro\u001b[0m \u001b[2m                        \u001b[0m\n",
       "\u001b[2;36m           \u001b[0m\u001b[95mr_min.py\u001b[0m                                                                        \u001b[2m                        \u001b[0m\n"
      ]
     },
     "metadata": {},
     "output_type": "display_data"
    },
    {
     "name": "stdout",
     "output_type": "stream",
     "text": [
      "Output: Saved the Pytket circuit to /workspace/qiskit_circuit_5q_10g_4756_28bbeb_444f6d_error_min_qc_pytket.qasm\n",
      "Saved the Qiskit circuit to /workspace/qiskit_circuit_5q_10g_4756_28bbeb_444f6d_error_min_qc_qiskit.qasm\n",
      "Exported QASM files: [('/workspace/qiskit_circuit_5q_10g_4756_28bbeb_444f6d_error_min_qc_pytket.qasm', 'export_to_qasm_with_pytket'), ('/workspace/qiskit_circuit_5q_10g_4756_28bbeb_444f6d_error_min_qc_qiskit.qasm', 'export_to_qasm_with_qiskit')]\n",
      "Log has been saved to /workspace/qiskit_circuit_5q_10g_4756_28bbeb_444f6d_error_min_f825ac_error.json\n",
      "\n"
     ]
    },
    {
     "data": {
      "text/html": [
       "<pre style=\"white-space:pre;overflow-x:auto;line-height:normal;font-family:Menlo,'DejaVu Sans Mono',consolas,'Courier New',monospace\"><span style=\"color: #7fbfbf; text-decoration-color: #7fbfbf\">[15:05:44] </span>Program qiskit_circuit_5q_10g_4756_28bbeb_444f6d_error_min.py executed              <a href=\"file:///home/paltenmo/projects/crossplatform/generators/docker_tooling.py\" target=\"_blank\"><span style=\"color: #7f7f7f; text-decoration-color: #7f7f7f\">docker_tooling.py</span></a><span style=\"color: #7f7f7f; text-decoration-color: #7f7f7f\">:</span><a href=\"file:///home/paltenmo/projects/crossplatform/generators/docker_tooling.py#46\" target=\"_blank\"><span style=\"color: #7f7f7f; text-decoration-color: #7f7f7f\">46</span></a>\n",
       "<span style=\"color: #7fbfbf; text-decoration-color: #7fbfbf\">           </span>successfully.                                                                       <span style=\"color: #7f7f7f; text-decoration-color: #7f7f7f\">                    </span>\n",
       "</pre>\n"
      ],
      "text/plain": [
       "\u001b[2;36m[15:05:44]\u001b[0m\u001b[2;36m \u001b[0mProgram qiskit_circuit_5q_10g_4756_28bbeb_444f6d_error_min.py executed              \u001b]8;id=433034;file:///home/paltenmo/projects/crossplatform/generators/docker_tooling.py\u001b\\\u001b[2mdocker_tooling.py\u001b[0m\u001b]8;;\u001b\\\u001b[2m:\u001b[0m\u001b]8;id=249443;file:///home/paltenmo/projects/crossplatform/generators/docker_tooling.py#46\u001b\\\u001b[2m46\u001b[0m\u001b]8;;\u001b\\\n",
       "\u001b[2;36m           \u001b[0msuccessfully.                                                                       \u001b[2m                    \u001b[0m\n"
      ]
     },
     "metadata": {},
     "output_type": "display_data"
    },
    {
     "data": {
      "application/vnd.jupyter.widget-view+json": {
       "model_id": "592ddfe806364549ab47ffe951384b2c",
       "version_major": 2,
       "version_minor": 0
      },
      "text/plain": [
       "Executing:   0%|          | 0/13 [00:00<?, ?cell/s]"
      ]
     },
     "metadata": {},
     "output_type": "display_data"
    },
    {
     "data": {
      "text/html": [
       "<pre style=\"white-space:pre;overflow-x:auto;line-height:normal;font-family:Menlo,'DejaVu Sans Mono',consolas,'Courier New',monospace\"><span style=\"color: #7fbfbf; text-decoration-color: #7fbfbf\">[15:05:47] </span>Analysis notebook executed: ..<span style=\"color: #800080; text-decoration-color: #800080\">/reports/v009/2024_11_21__15_01/</span><span style=\"color: #ff00ff; text-decoration-color: #ff00ff\">analysis_output.ipynb</span>        <a href=\"file:///home/paltenmo/projects/crossplatform/analysis_and_reporting/triage.py\" target=\"_blank\"><span style=\"color: #7f7f7f; text-decoration-color: #7f7f7f\">triage.py</span></a><span style=\"color: #7f7f7f; text-decoration-color: #7f7f7f\">:</span><a href=\"file:///home/paltenmo/projects/crossplatform/analysis_and_reporting/triage.py#163\" target=\"_blank\"><span style=\"color: #7f7f7f; text-decoration-color: #7f7f7f\">163</span></a>\n",
       "</pre>\n"
      ],
      "text/plain": [
       "\u001b[2;36m[15:05:47]\u001b[0m\u001b[2;36m \u001b[0mAnalysis notebook executed: ..\u001b[35m/reports/v009/2024_11_21__15_01/\u001b[0m\u001b[95manalysis_output.ipynb\u001b[0m        \u001b]8;id=422346;file:///home/paltenmo/projects/crossplatform/analysis_and_reporting/triage.py\u001b\\\u001b[2mtriage.py\u001b[0m\u001b]8;;\u001b\\\u001b[2m:\u001b[0m\u001b]8;id=756250;file:///home/paltenmo/projects/crossplatform/analysis_and_reporting/triage.py#163\u001b\\\u001b[2m163\u001b[0m\u001b]8;;\u001b\\\n"
      ]
     },
     "metadata": {},
     "output_type": "display_data"
    },
    {
     "data": {
      "text/html": [
       "<pre style=\"white-space:pre;overflow-x:auto;line-height:normal;font-family:Menlo,'DejaVu Sans Mono',consolas,'Courier New',monospace\"><span style=\"color: #7fbfbf; text-decoration-color: #7fbfbf\">           </span>Created report folder: ..<span style=\"color: #800080; text-decoration-color: #800080\">/reports/v009/</span><span style=\"color: #ff00ff; text-decoration-color: #ff00ff\">2024_11_21__15_05</span>                                   <a href=\"file:///home/paltenmo/projects/crossplatform/analysis_and_reporting/triage.py\" target=\"_blank\"><span style=\"color: #7f7f7f; text-decoration-color: #7f7f7f\">triage.py</span></a><span style=\"color: #7f7f7f; text-decoration-color: #7f7f7f\">:</span><a href=\"file:///home/paltenmo/projects/crossplatform/analysis_and_reporting/triage.py#131\" target=\"_blank\"><span style=\"color: #7f7f7f; text-decoration-color: #7f7f7f\">131</span></a>\n",
       "</pre>\n"
      ],
      "text/plain": [
       "\u001b[2;36m          \u001b[0m\u001b[2;36m \u001b[0mCreated report folder: ..\u001b[35m/reports/v009/\u001b[0m\u001b[95m2024_11_21__15_05\u001b[0m                                   \u001b]8;id=665387;file:///home/paltenmo/projects/crossplatform/analysis_and_reporting/triage.py\u001b\\\u001b[2mtriage.py\u001b[0m\u001b]8;;\u001b\\\u001b[2m:\u001b[0m\u001b]8;id=876487;file:///home/paltenmo/projects/crossplatform/analysis_and_reporting/triage.py#131\u001b\\\u001b[2m131\u001b[0m\u001b]8;;\u001b\\\n"
      ]
     },
     "metadata": {},
     "output_type": "display_data"
    },
    {
     "data": {
      "text/html": [
       "<pre style=\"white-space:pre;overflow-x:auto;line-height:normal;font-family:Menlo,'DejaVu Sans Mono',consolas,'Courier New',monospace\"><span style=\"color: #7fbfbf; text-decoration-color: #7fbfbf\">           </span>Copied files to: ..<span style=\"color: #800080; text-decoration-color: #800080\">/reports/v009/</span><span style=\"color: #ff00ff; text-decoration-color: #ff00ff\">2024_11_21__15_05</span>                                         <a href=\"file:///home/paltenmo/projects/crossplatform/analysis_and_reporting/triage.py\" target=\"_blank\"><span style=\"color: #7f7f7f; text-decoration-color: #7f7f7f\">triage.py</span></a><span style=\"color: #7f7f7f; text-decoration-color: #7f7f7f\">:</span><a href=\"file:///home/paltenmo/projects/crossplatform/analysis_and_reporting/triage.py#140\" target=\"_blank\"><span style=\"color: #7f7f7f; text-decoration-color: #7f7f7f\">140</span></a>\n",
       "</pre>\n"
      ],
      "text/plain": [
       "\u001b[2;36m          \u001b[0m\u001b[2;36m \u001b[0mCopied files to: ..\u001b[35m/reports/v009/\u001b[0m\u001b[95m2024_11_21__15_05\u001b[0m                                         \u001b]8;id=646824;file:///home/paltenmo/projects/crossplatform/analysis_and_reporting/triage.py\u001b\\\u001b[2mtriage.py\u001b[0m\u001b]8;;\u001b\\\u001b[2m:\u001b[0m\u001b]8;id=991856;file:///home/paltenmo/projects/crossplatform/analysis_and_reporting/triage.py#140\u001b\\\u001b[2m140\u001b[0m\u001b]8;;\u001b\\\n"
      ]
     },
     "metadata": {},
     "output_type": "display_data"
    },
    {
     "data": {
      "text/html": [
       "<pre style=\"white-space:pre;overflow-x:auto;line-height:normal;font-family:Menlo,'DejaVu Sans Mono',consolas,'Courier New',monospace\"><span style=\"color: #7fbfbf; text-decoration-color: #7fbfbf\">[15:05:47] </span>Involved functions:                                                             <a href=\"file:///home/paltenmo/projects/crossplatform/analysis_and_reporting/ddmin_target_file.py\" target=\"_blank\"><span style=\"color: #7f7f7f; text-decoration-color: #7f7f7f\">ddmin_target_file.py</span></a><span style=\"color: #7f7f7f; text-decoration-color: #7f7f7f\">:</span><a href=\"file:///home/paltenmo/projects/crossplatform/analysis_and_reporting/ddmin_target_file.py#206\" target=\"_blank\"><span style=\"color: #7f7f7f; text-decoration-color: #7f7f7f\">206</span></a>\n",
       "</pre>\n"
      ],
      "text/plain": [
       "\u001b[2;36m[15:05:47]\u001b[0m\u001b[2;36m \u001b[0mInvolved functions:                                                             \u001b]8;id=436472;file:///home/paltenmo/projects/crossplatform/analysis_and_reporting/ddmin_target_file.py\u001b\\\u001b[2mddmin_target_file.py\u001b[0m\u001b]8;;\u001b\\\u001b[2m:\u001b[0m\u001b]8;id=693447;file:///home/paltenmo/projects/crossplatform/analysis_and_reporting/ddmin_target_file.py#206\u001b\\\u001b[2m206\u001b[0m\u001b]8;;\u001b\\\n"
      ]
     },
     "metadata": {},
     "output_type": "display_data"
    },
    {
     "data": {
      "text/html": [
       "<pre style=\"white-space:pre;overflow-x:auto;line-height:normal;font-family:Menlo,'DejaVu Sans Mono',consolas,'Courier New',monospace\"><span style=\"color: #7fbfbf; text-decoration-color: #7fbfbf\">           </span>  - compare_qasm_via_qcec                                                       <a href=\"file:///home/paltenmo/projects/crossplatform/analysis_and_reporting/ddmin_target_file.py\" target=\"_blank\"><span style=\"color: #7f7f7f; text-decoration-color: #7f7f7f\">ddmin_target_file.py</span></a><span style=\"color: #7f7f7f; text-decoration-color: #7f7f7f\">:</span><a href=\"file:///home/paltenmo/projects/crossplatform/analysis_and_reporting/ddmin_target_file.py#208\" target=\"_blank\"><span style=\"color: #7f7f7f; text-decoration-color: #7f7f7f\">208</span></a>\n",
       "</pre>\n"
      ],
      "text/plain": [
       "\u001b[2;36m          \u001b[0m\u001b[2;36m \u001b[0m  - compare_qasm_via_qcec                                                       \u001b]8;id=2387;file:///home/paltenmo/projects/crossplatform/analysis_and_reporting/ddmin_target_file.py\u001b\\\u001b[2mddmin_target_file.py\u001b[0m\u001b]8;;\u001b\\\u001b[2m:\u001b[0m\u001b]8;id=272413;file:///home/paltenmo/projects/crossplatform/analysis_and_reporting/ddmin_target_file.py#208\u001b\\\u001b[2m208\u001b[0m\u001b]8;;\u001b\\\n"
      ]
     },
     "metadata": {},
     "output_type": "display_data"
    },
    {
     "data": {
      "text/html": [
       "<pre style=\"white-space:pre;overflow-x:auto;line-height:normal;font-family:Menlo,'DejaVu Sans Mono',consolas,'Courier New',monospace\"><span style=\"color: #7fbfbf; text-decoration-color: #7fbfbf\">           </span>  - export_to_qasm_with_pytket                                                  <a href=\"file:///home/paltenmo/projects/crossplatform/analysis_and_reporting/ddmin_target_file.py\" target=\"_blank\"><span style=\"color: #7f7f7f; text-decoration-color: #7f7f7f\">ddmin_target_file.py</span></a><span style=\"color: #7f7f7f; text-decoration-color: #7f7f7f\">:</span><a href=\"file:///home/paltenmo/projects/crossplatform/analysis_and_reporting/ddmin_target_file.py#208\" target=\"_blank\"><span style=\"color: #7f7f7f; text-decoration-color: #7f7f7f\">208</span></a>\n",
       "</pre>\n"
      ],
      "text/plain": [
       "\u001b[2;36m          \u001b[0m\u001b[2;36m \u001b[0m  - export_to_qasm_with_pytket                                                  \u001b]8;id=543962;file:///home/paltenmo/projects/crossplatform/analysis_and_reporting/ddmin_target_file.py\u001b\\\u001b[2mddmin_target_file.py\u001b[0m\u001b]8;;\u001b\\\u001b[2m:\u001b[0m\u001b]8;id=975384;file:///home/paltenmo/projects/crossplatform/analysis_and_reporting/ddmin_target_file.py#208\u001b\\\u001b[2m208\u001b[0m\u001b]8;;\u001b\\\n"
      ]
     },
     "metadata": {},
     "output_type": "display_data"
    },
    {
     "data": {
      "text/html": [
       "<pre style=\"white-space:pre;overflow-x:auto;line-height:normal;font-family:Menlo,'DejaVu Sans Mono',consolas,'Courier New',monospace\"><span style=\"color: #7fbfbf; text-decoration-color: #7fbfbf\">           </span>  - export_to_qasm_with_qiskit                                                  <a href=\"file:///home/paltenmo/projects/crossplatform/analysis_and_reporting/ddmin_target_file.py\" target=\"_blank\"><span style=\"color: #7f7f7f; text-decoration-color: #7f7f7f\">ddmin_target_file.py</span></a><span style=\"color: #7f7f7f; text-decoration-color: #7f7f7f\">:</span><a href=\"file:///home/paltenmo/projects/crossplatform/analysis_and_reporting/ddmin_target_file.py#208\" target=\"_blank\"><span style=\"color: #7f7f7f; text-decoration-color: #7f7f7f\">208</span></a>\n",
       "</pre>\n"
      ],
      "text/plain": [
       "\u001b[2;36m          \u001b[0m\u001b[2;36m \u001b[0m  - export_to_qasm_with_qiskit                                                  \u001b]8;id=819219;file:///home/paltenmo/projects/crossplatform/analysis_and_reporting/ddmin_target_file.py\u001b\\\u001b[2mddmin_target_file.py\u001b[0m\u001b]8;;\u001b\\\u001b[2m:\u001b[0m\u001b]8;id=873876;file:///home/paltenmo/projects/crossplatform/analysis_and_reporting/ddmin_target_file.py#208\u001b\\\u001b[2m208\u001b[0m\u001b]8;;\u001b\\\n"
      ]
     },
     "metadata": {},
     "output_type": "display_data"
    },
    {
     "name": "stdout",
     "output_type": "stream",
     "text": [
      "Error parsing: Command 'python /workspace/to_execute.py' in image 'qiskit_runner' returned non-zero exit status 1: b'Traceback (most recent call last):\\n  File \"/workspace/to_execute.py\", line 105, in <module>\\n    target_qc = qc\\nNameError: name \\'qc\\' is not defined\\n'\n",
      "Failed to execute to_execute.py in Docker.\n",
      "Output: Saved the Pytket circuit to /workspace/to_execute_qc_pytket.qasm\n",
      "Saved the Qiskit circuit to /workspace/to_execute_qc_qiskit.qasm\n",
      "Exported QASM files: [('/workspace/to_execute_qc_pytket.qasm', 'export_to_qasm_with_pytket'), ('/workspace/to_execute_qc_qiskit.qasm', 'export_to_qasm_with_qiskit')]\n",
      "Log has been saved to /workspace/to_execute_e6b864_error.json\n",
      "\n",
      "Program to_execute.py executed successfully.\n",
      "New exception message: The circuits are not equivalent: /workspace/to_execute_qc_pytket.qasm, /workspace/to_execute_qc_qiskit.qasm\n",
      "Error parsing: Command 'python /workspace/to_execute.py' in image 'qiskit_runner' returned non-zero exit status 1: b'  File \"/workspace/to_execute.py\", line 18\\n    , custom_instructions=qasm2.LEGACY_CUSTOM_INSTRUCTIONS)\\n                                                          ^\\nSyntaxError: unmatched \\')\\'\\n'\n",
      "Failed to execute to_execute.py in Docker.\n",
      "Error parsing: Command 'python /workspace/to_execute.py' in image 'qiskit_runner' returned non-zero exit status 1: b'  File \"/workspace/to_execute.py\", line 10\\n    qc = qasm2.loads(\\n                    ^\\nSyntaxError: \\'(\\' was never closed\\n'\n",
      "Failed to execute to_execute.py in Docker.\n",
      "Error parsing: Command 'python /workspace/to_execute.py' in image 'qiskit_runner' returned non-zero exit status 1: b'  File \"/workspace/to_execute.py\", line 25\\n    , custom_instructions=qasm2.LEGACY_CUSTOM_INSTRUCTIONS)\\n                                                          ^\\nSyntaxError: unmatched \\')\\'\\n'\n",
      "Failed to execute to_execute.py in Docker.\n",
      "Error parsing: Command 'python /workspace/to_execute.py' in image 'qiskit_runner' returned non-zero exit status 1: b'Traceback (most recent call last):\\n  File \"/workspace/to_execute.py\", line 10, in <module>\\n    qc = qasm2.loads(\\n  File \"/usr/local/lib/python3.10/site-packages/qiskit/qasm2/__init__.py\", line 587, in loads\\n    return _parse.from_bytecode(\\n  File \"/usr/local/lib/python3.10/site-packages/qiskit/qasm2/parse.py\", line 214, in from_bytecode\\n    for op in bc:\\nqiskit.qasm2.exceptions.QASM2ParseError: \"<input>:10,3: \\'reg_2_a\\' is not defined in this scope\"\\n'\n",
      "Failed to execute to_execute.py in Docker.\n",
      "Output: Saved the Pytket circuit to /workspace/to_execute_qc_pytket.qasm\n",
      "Saved the Qiskit circuit to /workspace/to_execute_qc_qiskit.qasm\n",
      "Exported QASM files: [('/workspace/to_execute_qc_pytket.qasm', 'export_to_qasm_with_pytket'), ('/workspace/to_execute_qc_qiskit.qasm', 'export_to_qasm_with_qiskit')]\n",
      "Log has been saved to /workspace/to_execute_e04e92_error.json\n",
      "\n",
      "Program to_execute.py executed successfully.\n",
      "New exception message: The circuits are not equivalent: /workspace/to_execute_qc_pytket.qasm, /workspace/to_execute_qc_qiskit.qasm\n",
      "Error parsing: Command 'python /workspace/to_execute.py' in image 'qiskit_runner' returned non-zero exit status 1: b'  File \"/workspace/to_execute.py\", line 19\\n    , custom_instructions=qasm2.LEGACY_CUSTOM_INSTRUCTIONS)\\n                                                          ^\\nSyntaxError: unmatched \\')\\'\\n'\n",
      "Failed to execute to_execute.py in Docker.\n",
      "Error parsing: Command 'python /workspace/to_execute.py' in image 'qiskit_runner' returned non-zero exit status 1: b'Traceback (most recent call last):\\n  File \"/workspace/to_execute.py\", line 10, in <module>\\n    qc = qasm2.loads(\\n  File \"/usr/local/lib/python3.10/site-packages/qiskit/qasm2/__init__.py\", line 587, in loads\\n    return _parse.from_bytecode(\\n  File \"/usr/local/lib/python3.10/site-packages/qiskit/qasm2/parse.py\", line 214, in from_bytecode\\n    for op in bc:\\nqiskit.qasm2.exceptions.QASM2ParseError: \"<input>:4,3: \\'reg_2_a\\' is not defined in this scope\"\\n'\n",
      "Failed to execute to_execute.py in Docker.\n",
      "Error parsing: Command 'python /workspace/to_execute.py' in image 'qiskit_runner' returned non-zero exit status 1: b'  File \"/workspace/to_execute.py\", line 10\\n    qc = qasm2.loads(\\n                    ^\\nSyntaxError: \\'(\\' was never closed\\n'\n",
      "Failed to execute to_execute.py in Docker.\n",
      "Error parsing: Command 'python /workspace/to_execute.py' in image 'qiskit_runner' returned non-zero exit status 1: b'  File \"/workspace/to_execute.py\", line 21\\n    , custom_instructions=qasm2.LEGACY_CUSTOM_INSTRUCTIONS)\\n                                                          ^\\nSyntaxError: unmatched \\')\\'\\n'\n",
      "Failed to execute to_execute.py in Docker.\n",
      "Error parsing: Command 'python /workspace/to_execute.py' in image 'qiskit_runner' returned non-zero exit status 1: b'Traceback (most recent call last):\\n  File \"/workspace/to_execute.py\", line 10, in <module>\\n    qc = qasm2.loads(\\n  File \"/usr/local/lib/python3.10/site-packages/qiskit/qasm2/__init__.py\", line 587, in loads\\n    return _parse.from_bytecode(\\n  File \"/usr/local/lib/python3.10/site-packages/qiskit/qasm2/parse.py\", line 214, in from_bytecode\\n    for op in bc:\\nqiskit.qasm2.exceptions.QASM2ParseError: \"<input>:6,0: cannot use non-builtin custom instruction \\'z\\' before definition\"\\n'\n",
      "Failed to execute to_execute.py in Docker.\n",
      "Error parsing: Command 'python /workspace/to_execute.py' in image 'qiskit_runner' returned non-zero exit status 1: b'Traceback (most recent call last):\\n  File \"/workspace/to_execute.py\", line 10, in <module>\\n    qc = qasm2.loads(\\n  File \"/usr/local/lib/python3.10/site-packages/qiskit/qasm2/__init__.py\", line 587, in loads\\n    return _parse.from_bytecode(\\n  File \"/usr/local/lib/python3.10/site-packages/qiskit/qasm2/parse.py\", line 214, in from_bytecode\\n    for op in bc:\\nqiskit.qasm2.exceptions.QASM2ParseError: \"<input>:7,3: \\'reg_2_a\\' is not defined in this scope\"\\n'\n",
      "Failed to execute to_execute.py in Docker.\n",
      "Output: Saved the Pytket circuit to /workspace/to_execute_qc_pytket.qasm\n",
      "Saved the Qiskit circuit to /workspace/to_execute_qc_qiskit.qasm\n",
      "Exported QASM files: [('/workspace/to_execute_qc_pytket.qasm', 'export_to_qasm_with_pytket'), ('/workspace/to_execute_qc_qiskit.qasm', 'export_to_qasm_with_qiskit')]\n",
      "Log has been saved to /workspace/to_execute_8acb11_error.json\n",
      "\n",
      "Program to_execute.py executed successfully.\n",
      "New exception message: The circuits are not equivalent: /workspace/to_execute_qc_pytket.qasm, /workspace/to_execute_qc_qiskit.qasm\n",
      "Error parsing: Command 'python /workspace/to_execute.py' in image 'qiskit_runner' returned non-zero exit status 1: b'  File \"/workspace/to_execute.py\", line 19\\n    , custom_instructions=qasm2.LEGACY_CUSTOM_INSTRUCTIONS)\\n                                                          ^\\nSyntaxError: unmatched \\')\\'\\n'\n",
      "Failed to execute to_execute.py in Docker.\n",
      "Error parsing: Command 'python /workspace/to_execute.py' in image 'qiskit_runner' returned non-zero exit status 1: b'Traceback (most recent call last):\\n  File \"/workspace/to_execute.py\", line 10, in <module>\\n    qc = qasm2.loads(\\n  File \"/usr/local/lib/python3.10/site-packages/qiskit/qasm2/__init__.py\", line 587, in loads\\n    return _parse.from_bytecode(\\n  File \"/usr/local/lib/python3.10/site-packages/qiskit/qasm2/parse.py\", line 214, in from_bytecode\\n    for op in bc:\\nqiskit.qasm2.exceptions.QASM2ParseError: \"<input>:5,0: cannot use non-builtin custom instruction \\'cx\\' before definition\"\\n'\n",
      "Failed to execute to_execute.py in Docker.\n",
      "Error parsing: Command 'python /workspace/to_execute.py' in image 'qiskit_runner' returned non-zero exit status 1: b'Traceback (most recent call last):\\n  File \"/workspace/to_execute.py\", line 10, in <module>\\n    qc = qasm2.loads(\\n  File \"/usr/local/lib/python3.10/site-packages/qiskit/qasm2/__init__.py\", line 587, in loads\\n    return _parse.from_bytecode(\\n  File \"/usr/local/lib/python3.10/site-packages/qiskit/qasm2/parse.py\", line 214, in from_bytecode\\n    for op in bc:\\nqiskit.qasm2.exceptions.QASM2ParseError: \"<input>:5,3: \\'reg_2_a\\' is not defined in this scope\"\\n'\n",
      "Failed to execute to_execute.py in Docker.\n",
      "Output: Saved the Pytket circuit to /workspace/to_execute_qc_pytket.qasm\n",
      "Saved the Qiskit circuit to /workspace/to_execute_qc_qiskit.qasm\n",
      "Exported QASM files: [('/workspace/to_execute_qc_pytket.qasm', 'export_to_qasm_with_pytket'), ('/workspace/to_execute_qc_qiskit.qasm', 'export_to_qasm_with_qiskit')]\n",
      "The circuits are equivalent: /workspace/to_execute_qc_pytket.qasm, /workspace/to_execute_qc_qiskit.qasm\n",
      "\n",
      "Program to_execute.py executed successfully.\n",
      "Error parsing: Command 'python /workspace/to_execute.py' in image 'qiskit_runner' returned non-zero exit status 1: b'  File \"/workspace/to_execute.py\", line 10\\n    qc = qasm2.loads(\\n                    ^\\nSyntaxError: \\'(\\' was never closed\\n'\n",
      "Failed to execute to_execute.py in Docker.\n",
      "Error parsing: Command 'python /workspace/to_execute.py' in image 'qiskit_runner' returned non-zero exit status 1: b'  File \"/workspace/to_execute.py\", line 22\\n    , custom_instructions=qasm2.LEGACY_CUSTOM_INSTRUCTIONS)\\nIndentationError: unexpected indent\\n'\n",
      "Failed to execute to_execute.py in Docker.\n",
      "Output: Saved the Pytket circuit to /workspace/to_execute_qc_pytket.qasm\n",
      "Saved the Qiskit circuit to /workspace/to_execute_qc_qiskit.qasm\n",
      "Exported QASM files: [('/workspace/to_execute_qc_pytket.qasm', 'export_to_qasm_with_pytket'), ('/workspace/to_execute_qc_qiskit.qasm', 'export_to_qasm_with_qiskit')]\n",
      "Log has been saved to /workspace/to_execute_34d7f2_error.json\n",
      "\n",
      "Program to_execute.py executed successfully.\n",
      "New exception message: The circuits are not equivalent: /workspace/to_execute_qc_pytket.qasm, /workspace/to_execute_qc_qiskit.qasm\n",
      "Error parsing: Command 'python /workspace/to_execute.py' in image 'qiskit_runner' returned non-zero exit status 1: b'  File \"/workspace/to_execute.py\", line 21\\n    , custom_instructions=qasm2.LEGACY_CUSTOM_INSTRUCTIONS)\\nIndentationError: unexpected indent\\n'\n",
      "Failed to execute to_execute.py in Docker.\n",
      "Error parsing: Command 'python /workspace/to_execute.py' in image 'qiskit_runner' returned non-zero exit status 1: b'  File \"/workspace/to_execute.py\", line 11\\n    include \"qelib1.inc\";\\n            ^^^^^^^^^^^^\\nSyntaxError: invalid syntax\\n'\n",
      "Failed to execute to_execute.py in Docker.\n",
      "Error parsing: Command 'python /workspace/to_execute.py' in image 'qiskit_runner' returned non-zero exit status 1: b'Traceback (most recent call last):\\n  File \"/workspace/to_execute.py\", line 10, in <module>\\n    qc = qasm2.loads(\\n  File \"/usr/local/lib/python3.10/site-packages/qiskit/qasm2/__init__.py\", line 587, in loads\\n    return _parse.from_bytecode(\\n  File \"/usr/local/lib/python3.10/site-packages/qiskit/qasm2/parse.py\", line 214, in from_bytecode\\n    for op in bc:\\nqiskit.qasm2.exceptions.QASM2ParseError: \"<input>:7,0: cannot use non-builtin custom instruction \\'cx\\' before definition\"\\n'\n",
      "Failed to execute to_execute.py in Docker.\n",
      "Error parsing: Command 'python /workspace/to_execute.py' in image 'qiskit_runner' returned non-zero exit status 1: b'Traceback (most recent call last):\\n  File \"/workspace/to_execute.py\", line 10, in <module>\\n    qc = qasm2.loads(\\n  File \"/usr/local/lib/python3.10/site-packages/qiskit/qasm2/__init__.py\", line 587, in loads\\n    return _parse.from_bytecode(\\n  File \"/usr/local/lib/python3.10/site-packages/qiskit/qasm2/parse.py\", line 214, in from_bytecode\\n    for op in bc:\\nqiskit.qasm2.exceptions.QASM2ParseError: \"<input>:7,14: \\'reg_2_cin\\' is not defined in this scope\"\\n'\n",
      "Failed to execute to_execute.py in Docker.\n",
      "Error parsing: Command 'python /workspace/to_execute.py' in image 'qiskit_runner' returned non-zero exit status 1: b'Traceback (most recent call last):\\n  File \"/workspace/to_execute.py\", line 10, in <module>\\n    qc = qasm2.loads(\\n  File \"/usr/local/lib/python3.10/site-packages/qiskit/qasm2/__init__.py\", line 587, in loads\\n    return _parse.from_bytecode(\\n  File \"/usr/local/lib/python3.10/site-packages/qiskit/qasm2/parse.py\", line 214, in from_bytecode\\n    for op in bc:\\nqiskit.qasm2.exceptions.QASM2ParseError: \"<input>:7,3: \\'reg_2_a\\' is not defined in this scope\"\\n'\n",
      "Failed to execute to_execute.py in Docker.\n",
      "Error parsing: Command 'python /workspace/to_execute.py' in image 'qiskit_runner' returned non-zero exit status 1: b'Traceback (most recent call last):\\n  File \"/workspace/to_execute.py\", line 10, in <module>\\n    qc = qasm2.loads(\\n  File \"/usr/local/lib/python3.10/site-packages/qiskit/qasm2/__init__.py\", line 587, in loads\\n    return _parse.from_bytecode(\\n  File \"/usr/local/lib/python3.10/site-packages/qiskit/qasm2/parse.py\", line 214, in from_bytecode\\n    for op in bc:\\nqiskit.qasm2.exceptions.QASM2ParseError: \"<input>:8,17: \\'reg_2_b\\' is not defined in this scope\"\\n'\n",
      "Failed to execute to_execute.py in Docker.\n",
      "Output: Saved the Pytket circuit to /workspace/to_execute_qc_pytket.qasm\n",
      "Saved the Qiskit circuit to /workspace/to_execute_qc_qiskit.qasm\n",
      "Exported QASM files: [('/workspace/to_execute_qc_pytket.qasm', 'export_to_qasm_with_pytket'), ('/workspace/to_execute_qc_qiskit.qasm', 'export_to_qasm_with_qiskit')]\n",
      "Log has been saved to /workspace/to_execute_d74b7b_error.json\n",
      "\n",
      "Program to_execute.py executed successfully.\n",
      "New exception message: The circuits are not equivalent: /workspace/to_execute_qc_pytket.qasm, /workspace/to_execute_qc_qiskit.qasm\n",
      "Error parsing: Command 'python /workspace/to_execute.py' in image 'qiskit_runner' returned non-zero exit status 1: b'  File \"/workspace/to_execute.py\", line 18\\n    , custom_instructions=qasm2.LEGACY_CUSTOM_INSTRUCTIONS)\\n                                                          ^\\nSyntaxError: unmatched \\')\\'\\n'\n",
      "Failed to execute to_execute.py in Docker.\n",
      "Output: Saved the Pytket circuit to /workspace/to_execute_qc_pytket.qasm\n",
      "Saved the Qiskit circuit to /workspace/to_execute_qc_qiskit.qasm\n",
      "Exported QASM files: [('/workspace/to_execute_qc_pytket.qasm', 'export_to_qasm_with_pytket'), ('/workspace/to_execute_qc_qiskit.qasm', 'export_to_qasm_with_qiskit')]\n",
      "Log has been saved to /workspace/to_execute_e07288_error.json\n",
      "\n",
      "Program to_execute.py executed successfully.\n",
      "New exception message: The circuits are not equivalent: /workspace/to_execute_qc_pytket.qasm, /workspace/to_execute_qc_qiskit.qasm\n",
      "Error parsing: Command 'python /workspace/to_execute.py' in image 'qiskit_runner' returned non-zero exit status 1: b'  File \"/workspace/to_execute.py\", line 17\\n    , custom_instructions=qasm2.LEGACY_CUSTOM_INSTRUCTIONS)\\n                                                          ^\\nSyntaxError: unmatched \\')\\'\\n'\n",
      "Failed to execute to_execute.py in Docker.\n",
      "Error parsing: Command 'python /workspace/to_execute.py' in image 'qiskit_runner' returned non-zero exit status 1: b'Traceback (most recent call last):\\n  File \"/workspace/to_execute.py\", line 10, in <module>\\n    qc = qasm2.loads(\\n  File \"/usr/local/lib/python3.10/site-packages/qiskit/qasm2/__init__.py\", line 587, in loads\\n    return _parse.from_bytecode(\\n  File \"/usr/local/lib/python3.10/site-packages/qiskit/qasm2/parse.py\", line 214, in from_bytecode\\n    for op in bc:\\nqiskit.qasm2.exceptions.QASM2ParseError: \"<input>:5,0: cannot use non-builtin custom instruction \\'cx\\' before definition\"\\n'\n",
      "Failed to execute to_execute.py in Docker.\n",
      "Error parsing: Command 'python /workspace/to_execute.py' in image 'qiskit_runner' returned non-zero exit status 1: b'Traceback (most recent call last):\\n  File \"/workspace/to_execute.py\", line 10, in <module>\\n    qc = qasm2.loads(\\n  File \"/usr/local/lib/python3.10/site-packages/qiskit/qasm2/__init__.py\", line 587, in loads\\n    return _parse.from_bytecode(\\n  File \"/usr/local/lib/python3.10/site-packages/qiskit/qasm2/parse.py\", line 214, in from_bytecode\\n    for op in bc:\\nqiskit.qasm2.exceptions.QASM2ParseError: \"<input>:7,4: \\'reg_2_cin\\' is not defined in this scope\"\\n'\n",
      "Failed to execute to_execute.py in Docker.\n",
      "Error parsing: Command 'python /workspace/to_execute.py' in image 'qiskit_runner' returned non-zero exit status 1: b'Traceback (most recent call last):\\n  File \"/workspace/to_execute.py\", line 10, in <module>\\n    qc = qasm2.loads(\\n  File \"/usr/local/lib/python3.10/site-packages/qiskit/qasm2/__init__.py\", line 587, in loads\\n    return _parse.from_bytecode(\\n  File \"/usr/local/lib/python3.10/site-packages/qiskit/qasm2/parse.py\", line 214, in from_bytecode\\n    for op in bc:\\nqiskit.qasm2.exceptions.QASM2ParseError: \"<input>:5,3: \\'reg_2_a\\' is not defined in this scope\"\\n'\n",
      "Failed to execute to_execute.py in Docker.\n",
      "Output: Saved the Pytket circuit to /workspace/to_execute_qc_pytket.qasm\n",
      "Saved the Qiskit circuit to /workspace/to_execute_qc_qiskit.qasm\n",
      "Exported QASM files: [('/workspace/to_execute_qc_pytket.qasm', 'export_to_qasm_with_pytket'), ('/workspace/to_execute_qc_qiskit.qasm', 'export_to_qasm_with_qiskit')]\n",
      "Log has been saved to /workspace/to_execute_9535a6_error.json\n",
      "\n",
      "Program to_execute.py executed successfully.\n",
      "New exception message: The circuits are not equivalent: /workspace/to_execute_qc_pytket.qasm, /workspace/to_execute_qc_qiskit.qasm\n",
      "Error parsing: Command 'python /workspace/to_execute.py' in image 'qiskit_runner' returned non-zero exit status 1: b'  File \"/workspace/to_execute.py\", line 16\\n    , custom_instructions=qasm2.LEGACY_CUSTOM_INSTRUCTIONS)\\n                                                          ^\\nSyntaxError: unmatched \\')\\'\\n'\n",
      "Failed to execute to_execute.py in Docker.\n",
      "Error parsing: Command 'python /workspace/to_execute.py' in image 'qiskit_runner' returned non-zero exit status 1: b'Traceback (most recent call last):\\n  File \"/workspace/to_execute.py\", line 10, in <module>\\n    qc = qasm2.loads(\\n  File \"/usr/local/lib/python3.10/site-packages/qiskit/qasm2/__init__.py\", line 587, in loads\\n    return _parse.from_bytecode(\\n  File \"/usr/local/lib/python3.10/site-packages/qiskit/qasm2/parse.py\", line 214, in from_bytecode\\n    for op in bc:\\nqiskit.qasm2.exceptions.QASM2ParseError: \"<input>:5,0: cannot use non-builtin custom instruction \\'ccx\\' before definition\"\\n'\n",
      "Failed to execute to_execute.py in Docker.\n",
      "Error parsing: Command 'python /workspace/to_execute.py' in image 'qiskit_runner' returned non-zero exit status 1: b'Traceback (most recent call last):\\n  File \"/workspace/to_execute.py\", line 10, in <module>\\n    qc = qasm2.loads(\\n  File \"/usr/local/lib/python3.10/site-packages/qiskit/qasm2/__init__.py\", line 587, in loads\\n    return _parse.from_bytecode(\\n  File \"/usr/local/lib/python3.10/site-packages/qiskit/qasm2/parse.py\", line 214, in from_bytecode\\n    for op in bc:\\nqiskit.qasm2.exceptions.QASM2ParseError: \"<input>:5,4: \\'reg_2_cin\\' is not defined in this scope\"\\n'\n",
      "Failed to execute to_execute.py in Docker.\n",
      "Error parsing: Command 'python /workspace/to_execute.py' in image 'qiskit_runner' returned non-zero exit status 1: b'Traceback (most recent call last):\\n  File \"/workspace/to_execute.py\", line 10, in <module>\\n    qc = qasm2.loads(\\n  File \"/usr/local/lib/python3.10/site-packages/qiskit/qasm2/__init__.py\", line 587, in loads\\n    return _parse.from_bytecode(\\n  File \"/usr/local/lib/python3.10/site-packages/qiskit/qasm2/parse.py\", line 214, in from_bytecode\\n    for op in bc:\\nqiskit.qasm2.exceptions.QASM2ParseError: \"<input>:6,17: \\'reg_2_b\\' is not defined in this scope\"\\n'\n",
      "Failed to execute to_execute.py in Docker.\n",
      "Error parsing: Command 'python /workspace/to_execute.py' in image 'qiskit_runner' returned non-zero exit status 1: b'  File \"/workspace/to_execute.py\", line 11\\n    include \"qelib1.inc\";\\n            ^^^^^^^^^^^^\\nSyntaxError: invalid syntax\\n'\n",
      "Failed to execute to_execute.py in Docker.\n",
      "Error parsing: Command 'python /workspace/to_execute.py' in image 'qiskit_runner' returned non-zero exit status 1: b'  File \"/workspace/to_execute.py\", line 10\\n    qc = qasm2.loads(\\n                    ^\\nSyntaxError: \\'(\\' was never closed\\n'\n",
      "Failed to execute to_execute.py in Docker.\n",
      "Error parsing: Command 'python /workspace/to_execute.py' in image 'qiskit_runner' returned non-zero exit status 1: b'  File \"/workspace/to_execute.py\", line 18\\n    , custom_instructions=qasm2.LEGACY_CUSTOM_INSTRUCTIONS)\\nIndentationError: unexpected indent\\n'\n",
      "Failed to execute to_execute.py in Docker.\n",
      "Error parsing: Command 'python /workspace/to_execute.py' in image 'qiskit_runner' returned non-zero exit status 1: b'  File \"/workspace/to_execute.py\", line 11\\n    include \"qelib1.inc\";\\n            ^^^^^^^^^^^^\\nSyntaxError: invalid syntax\\n'\n",
      "Failed to execute to_execute.py in Docker.\n",
      "Error parsing: Command 'python /workspace/to_execute.py' in image 'qiskit_runner' returned non-zero exit status 1: b'Traceback (most recent call last):\\n  File \"/workspace/to_execute.py\", line 10, in <module>\\n    qc = qasm2.loads(\\n  File \"/usr/local/lib/python3.10/site-packages/qiskit/qasm2/__init__.py\", line 587, in loads\\n    return _parse.from_bytecode(\\n  File \"/usr/local/lib/python3.10/site-packages/qiskit/qasm2/parse.py\", line 214, in from_bytecode\\n    for op in bc:\\nqiskit.qasm2.exceptions.QASM2ParseError: \"<input>:6,0: cannot use non-builtin custom instruction \\'ccx\\' before definition\"\\n'\n",
      "Failed to execute to_execute.py in Docker.\n",
      "Output: Saved the Pytket circuit to /workspace/to_execute_qc_pytket.qasm\n",
      "Saved the Qiskit circuit to /workspace/to_execute_qc_qiskit.qasm\n",
      "Exported QASM files: [('/workspace/to_execute_qc_pytket.qasm', 'export_to_qasm_with_pytket'), ('/workspace/to_execute_qc_qiskit.qasm', 'export_to_qasm_with_qiskit')]\n",
      "Log has been saved to /workspace/to_execute_fc94bc_error.json\n",
      "\n",
      "Program to_execute.py executed successfully.\n",
      "New exception message: The circuits are not equivalent: /workspace/to_execute_qc_pytket.qasm, /workspace/to_execute_qc_qiskit.qasm\n",
      "Error parsing: Command 'python /workspace/to_execute.py' in image 'qiskit_runner' returned non-zero exit status 1: b'  File \"/workspace/to_execute.py\", line 17\\n    , custom_instructions=qasm2.LEGACY_CUSTOM_INSTRUCTIONS)\\nIndentationError: unexpected indent\\n'\n",
      "Failed to execute to_execute.py in Docker.\n",
      "Error parsing: Command 'python /workspace/to_execute.py' in image 'qiskit_runner' returned non-zero exit status 1: b'  File \"/workspace/to_execute.py\", line 11\\n    include \"qelib1.inc\";\\n            ^^^^^^^^^^^^\\nSyntaxError: invalid syntax\\n'\n",
      "Failed to execute to_execute.py in Docker.\n",
      "Error parsing: Command 'python /workspace/to_execute.py' in image 'qiskit_runner' returned non-zero exit status 1: b'Traceback (most recent call last):\\n  File \"/workspace/to_execute.py\", line 10, in <module>\\n    qc = qasm2.loads(\\n  File \"/usr/local/lib/python3.10/site-packages/qiskit/qasm2/__init__.py\", line 587, in loads\\n    return _parse.from_bytecode(\\n  File \"/usr/local/lib/python3.10/site-packages/qiskit/qasm2/parse.py\", line 214, in from_bytecode\\n    for op in bc:\\nqiskit.qasm2.exceptions.QASM2ParseError: \"<input>:5,0: cannot use non-builtin custom instruction \\'ccx\\' before definition\"\\n'\n",
      "Failed to execute to_execute.py in Docker.\n",
      "Error parsing: Command 'python /workspace/to_execute.py' in image 'qiskit_runner' returned non-zero exit status 1: b'Traceback (most recent call last):\\n  File \"/workspace/to_execute.py\", line 10, in <module>\\n    qc = qasm2.loads(\\n  File \"/usr/local/lib/python3.10/site-packages/qiskit/qasm2/__init__.py\", line 587, in loads\\n    return _parse.from_bytecode(\\n  File \"/usr/local/lib/python3.10/site-packages/qiskit/qasm2/parse.py\", line 214, in from_bytecode\\n    for op in bc:\\nqiskit.qasm2.exceptions.QASM2ParseError: \"<input>:5,4: \\'reg_2_cin\\' is not defined in this scope\"\\n'\n",
      "Failed to execute to_execute.py in Docker.\n",
      "Error parsing: Command 'python /workspace/to_execute.py' in image 'qiskit_runner' returned non-zero exit status 1: b'Traceback (most recent call last):\\n  File \"/workspace/to_execute.py\", line 10, in <module>\\n    qc = qasm2.loads(\\n  File \"/usr/local/lib/python3.10/site-packages/qiskit/qasm2/__init__.py\", line 587, in loads\\n    return _parse.from_bytecode(\\n  File \"/usr/local/lib/python3.10/site-packages/qiskit/qasm2/parse.py\", line 214, in from_bytecode\\n    for op in bc:\\nqiskit.qasm2.exceptions.QASM2ParseError: \"<input>:5,28: \\'reg_2_a\\' is not defined in this scope\"\\n'\n",
      "Failed to execute to_execute.py in Docker.\n",
      "Error parsing: Command 'python /workspace/to_execute.py' in image 'qiskit_runner' returned non-zero exit status 1: b'Traceback (most recent call last):\\n  File \"/workspace/to_execute.py\", line 10, in <module>\\n    qc = qasm2.loads(\\n  File \"/usr/local/lib/python3.10/site-packages/qiskit/qasm2/__init__.py\", line 587, in loads\\n    return _parse.from_bytecode(\\n  File \"/usr/local/lib/python3.10/site-packages/qiskit/qasm2/parse.py\", line 214, in from_bytecode\\n    for op in bc:\\nqiskit.qasm2.exceptions.QASM2ParseError: \"<input>:5,17: \\'reg_2_b\\' is not defined in this scope\"\\n'\n",
      "Failed to execute to_execute.py in Docker.\n",
      "Output: Saved the Pytket circuit to /workspace/to_execute_qc_pytket.qasm\n",
      "Saved the Qiskit circuit to /workspace/to_execute_qc_qiskit.qasm\n",
      "Exported QASM files: [('/workspace/to_execute_qc_pytket.qasm', 'export_to_qasm_with_pytket'), ('/workspace/to_execute_qc_qiskit.qasm', 'export_to_qasm_with_qiskit')]\n",
      "The circuits are equivalent: /workspace/to_execute_qc_pytket.qasm, /workspace/to_execute_qc_qiskit.qasm\n",
      "\n",
      "Program to_execute.py executed successfully.\n",
      "Error parsing: Command 'python /workspace/to_execute.py' in image 'qiskit_runner' returned non-zero exit status 1: b'  File \"/workspace/to_execute.py\", line 11\\n    include \"qelib1.inc\";\\n            ^^^^^^^^^^^^\\nSyntaxError: invalid syntax\\n'\n",
      "Failed to execute to_execute.py in Docker.\n",
      "Error parsing: Command 'python /workspace/to_execute.py' in image 'qiskit_runner' returned non-zero exit status 1: b'  File \"/workspace/to_execute.py\", line 10\\n    qc = qasm2.loads(\\n                    ^\\nSyntaxError: \\'(\\' was never closed\\n'\n",
      "Failed to execute to_execute.py in Docker.\n"
     ]
    },
    {
     "data": {
      "text/html": [
       "<pre style=\"white-space:pre;overflow-x:auto;line-height:normal;font-family:Menlo,'DejaVu Sans Mono',consolas,'Courier New',monospace\"><span style=\"color: #7fbfbf; text-decoration-color: #7fbfbf\">[15:09:16] </span><span style=\"color: #008000; text-decoration-color: #008000\">Minimized file saved as:</span>                                                        <a href=\"file:///home/paltenmo/projects/crossplatform/analysis_and_reporting/ddmin_target_file.py\" target=\"_blank\"><span style=\"color: #7f7f7f; text-decoration-color: #7f7f7f\">ddmin_target_file.py</span></a><span style=\"color: #7f7f7f; text-decoration-color: #7f7f7f\">:</span><a href=\"file:///home/paltenmo/projects/crossplatform/analysis_and_reporting/ddmin_target_file.py#240\" target=\"_blank\"><span style=\"color: #7f7f7f; text-decoration-color: #7f7f7f\">240</span></a>\n",
       "<span style=\"color: #7fbfbf; text-decoration-color: #7fbfbf\">           </span>..<span style=\"color: #800080; text-decoration-color: #800080\">/reports/v009/2024_11_21__15_05/</span><span style=\"color: #ff00ff; text-decoration-color: #ff00ff\">qiskit_circuit_5q_10g_144_2ca34b_7b044a_error</span> <span style=\"color: #7f7f7f; text-decoration-color: #7f7f7f\">                        </span>\n",
       "<span style=\"color: #7fbfbf; text-decoration-color: #7fbfbf\">           </span><span style=\"color: #ff00ff; text-decoration-color: #ff00ff\">_min.py</span>                                                                         <span style=\"color: #7f7f7f; text-decoration-color: #7f7f7f\">                        </span>\n",
       "</pre>\n"
      ],
      "text/plain": [
       "\u001b[2;36m[15:09:16]\u001b[0m\u001b[2;36m \u001b[0m\u001b[32mMinimized file saved as:\u001b[0m                                                        \u001b]8;id=39106;file:///home/paltenmo/projects/crossplatform/analysis_and_reporting/ddmin_target_file.py\u001b\\\u001b[2mddmin_target_file.py\u001b[0m\u001b]8;;\u001b\\\u001b[2m:\u001b[0m\u001b]8;id=760733;file:///home/paltenmo/projects/crossplatform/analysis_and_reporting/ddmin_target_file.py#240\u001b\\\u001b[2m240\u001b[0m\u001b]8;;\u001b\\\n",
       "\u001b[2;36m           \u001b[0m..\u001b[35m/reports/v009/2024_11_21__15_05/\u001b[0m\u001b[95mqiskit_circuit_5q_10g_144_2ca34b_7b044a_error\u001b[0m \u001b[2m                        \u001b[0m\n",
       "\u001b[2;36m           \u001b[0m\u001b[95m_min.py\u001b[0m                                                                         \u001b[2m                        \u001b[0m\n"
      ]
     },
     "metadata": {},
     "output_type": "display_data"
    },
    {
     "name": "stdout",
     "output_type": "stream",
     "text": [
      "Output: Saved the Pytket circuit to /workspace/qiskit_circuit_5q_10g_144_2ca34b_7b044a_error_min_qc_pytket.qasm\n",
      "Saved the Qiskit circuit to /workspace/qiskit_circuit_5q_10g_144_2ca34b_7b044a_error_min_qc_qiskit.qasm\n",
      "Exported QASM files: [('/workspace/qiskit_circuit_5q_10g_144_2ca34b_7b044a_error_min_qc_pytket.qasm', 'export_to_qasm_with_pytket'), ('/workspace/qiskit_circuit_5q_10g_144_2ca34b_7b044a_error_min_qc_qiskit.qasm', 'export_to_qasm_with_qiskit')]\n",
      "Log has been saved to /workspace/qiskit_circuit_5q_10g_144_2ca34b_7b044a_error_min_c118ed_error.json\n",
      "\n"
     ]
    },
    {
     "data": {
      "text/html": [
       "<pre style=\"white-space:pre;overflow-x:auto;line-height:normal;font-family:Menlo,'DejaVu Sans Mono',consolas,'Courier New',monospace\"><span style=\"color: #7fbfbf; text-decoration-color: #7fbfbf\">[15:09:23] </span>Program qiskit_circuit_5q_10g_144_2ca34b_7b044a_error_min.py executed successfully. <a href=\"file:///home/paltenmo/projects/crossplatform/generators/docker_tooling.py\" target=\"_blank\"><span style=\"color: #7f7f7f; text-decoration-color: #7f7f7f\">docker_tooling.py</span></a><span style=\"color: #7f7f7f; text-decoration-color: #7f7f7f\">:</span><a href=\"file:///home/paltenmo/projects/crossplatform/generators/docker_tooling.py#46\" target=\"_blank\"><span style=\"color: #7f7f7f; text-decoration-color: #7f7f7f\">46</span></a>\n",
       "</pre>\n"
      ],
      "text/plain": [
       "\u001b[2;36m[15:09:23]\u001b[0m\u001b[2;36m \u001b[0mProgram qiskit_circuit_5q_10g_144_2ca34b_7b044a_error_min.py executed successfully. \u001b]8;id=30161;file:///home/paltenmo/projects/crossplatform/generators/docker_tooling.py\u001b\\\u001b[2mdocker_tooling.py\u001b[0m\u001b]8;;\u001b\\\u001b[2m:\u001b[0m\u001b]8;id=40729;file:///home/paltenmo/projects/crossplatform/generators/docker_tooling.py#46\u001b\\\u001b[2m46\u001b[0m\u001b]8;;\u001b\\\n"
      ]
     },
     "metadata": {},
     "output_type": "display_data"
    },
    {
     "data": {
      "application/vnd.jupyter.widget-view+json": {
       "model_id": "ffe85ce658f34e7d890ef4e79b26fe81",
       "version_major": 2,
       "version_minor": 0
      },
      "text/plain": [
       "Executing:   0%|          | 0/13 [00:00<?, ?cell/s]"
      ]
     },
     "metadata": {},
     "output_type": "display_data"
    },
    {
     "data": {
      "text/html": [
       "<pre style=\"white-space:pre;overflow-x:auto;line-height:normal;font-family:Menlo,'DejaVu Sans Mono',consolas,'Courier New',monospace\"><span style=\"color: #7fbfbf; text-decoration-color: #7fbfbf\">[15:09:27] </span>Analysis notebook executed: ..<span style=\"color: #800080; text-decoration-color: #800080\">/reports/v009/2024_11_21__15_05/</span><span style=\"color: #ff00ff; text-decoration-color: #ff00ff\">analysis_output.ipynb</span>        <a href=\"file:///home/paltenmo/projects/crossplatform/analysis_and_reporting/triage.py\" target=\"_blank\"><span style=\"color: #7f7f7f; text-decoration-color: #7f7f7f\">triage.py</span></a><span style=\"color: #7f7f7f; text-decoration-color: #7f7f7f\">:</span><a href=\"file:///home/paltenmo/projects/crossplatform/analysis_and_reporting/triage.py#163\" target=\"_blank\"><span style=\"color: #7f7f7f; text-decoration-color: #7f7f7f\">163</span></a>\n",
       "</pre>\n"
      ],
      "text/plain": [
       "\u001b[2;36m[15:09:27]\u001b[0m\u001b[2;36m \u001b[0mAnalysis notebook executed: ..\u001b[35m/reports/v009/2024_11_21__15_05/\u001b[0m\u001b[95manalysis_output.ipynb\u001b[0m        \u001b]8;id=753026;file:///home/paltenmo/projects/crossplatform/analysis_and_reporting/triage.py\u001b\\\u001b[2mtriage.py\u001b[0m\u001b]8;;\u001b\\\u001b[2m:\u001b[0m\u001b]8;id=206102;file:///home/paltenmo/projects/crossplatform/analysis_and_reporting/triage.py#163\u001b\\\u001b[2m163\u001b[0m\u001b]8;;\u001b\\\n"
      ]
     },
     "metadata": {},
     "output_type": "display_data"
    },
    {
     "data": {
      "text/html": [
       "<pre style=\"white-space:pre;overflow-x:auto;line-height:normal;font-family:Menlo,'DejaVu Sans Mono',consolas,'Courier New',monospace\"><span style=\"color: #7fbfbf; text-decoration-color: #7fbfbf\">           </span>Created report folder: ..<span style=\"color: #800080; text-decoration-color: #800080\">/reports/v009/</span><span style=\"color: #ff00ff; text-decoration-color: #ff00ff\">2024_11_21__15_09</span>                                   <a href=\"file:///home/paltenmo/projects/crossplatform/analysis_and_reporting/triage.py\" target=\"_blank\"><span style=\"color: #7f7f7f; text-decoration-color: #7f7f7f\">triage.py</span></a><span style=\"color: #7f7f7f; text-decoration-color: #7f7f7f\">:</span><a href=\"file:///home/paltenmo/projects/crossplatform/analysis_and_reporting/triage.py#131\" target=\"_blank\"><span style=\"color: #7f7f7f; text-decoration-color: #7f7f7f\">131</span></a>\n",
       "</pre>\n"
      ],
      "text/plain": [
       "\u001b[2;36m          \u001b[0m\u001b[2;36m \u001b[0mCreated report folder: ..\u001b[35m/reports/v009/\u001b[0m\u001b[95m2024_11_21__15_09\u001b[0m                                   \u001b]8;id=293035;file:///home/paltenmo/projects/crossplatform/analysis_and_reporting/triage.py\u001b\\\u001b[2mtriage.py\u001b[0m\u001b]8;;\u001b\\\u001b[2m:\u001b[0m\u001b]8;id=946181;file:///home/paltenmo/projects/crossplatform/analysis_and_reporting/triage.py#131\u001b\\\u001b[2m131\u001b[0m\u001b]8;;\u001b\\\n"
      ]
     },
     "metadata": {},
     "output_type": "display_data"
    },
    {
     "data": {
      "text/html": [
       "<pre style=\"white-space:pre;overflow-x:auto;line-height:normal;font-family:Menlo,'DejaVu Sans Mono',consolas,'Courier New',monospace\"><span style=\"color: #7fbfbf; text-decoration-color: #7fbfbf\">           </span>Copied files to: ..<span style=\"color: #800080; text-decoration-color: #800080\">/reports/v009/</span><span style=\"color: #ff00ff; text-decoration-color: #ff00ff\">2024_11_21__15_09</span>                                         <a href=\"file:///home/paltenmo/projects/crossplatform/analysis_and_reporting/triage.py\" target=\"_blank\"><span style=\"color: #7f7f7f; text-decoration-color: #7f7f7f\">triage.py</span></a><span style=\"color: #7f7f7f; text-decoration-color: #7f7f7f\">:</span><a href=\"file:///home/paltenmo/projects/crossplatform/analysis_and_reporting/triage.py#140\" target=\"_blank\"><span style=\"color: #7f7f7f; text-decoration-color: #7f7f7f\">140</span></a>\n",
       "</pre>\n"
      ],
      "text/plain": [
       "\u001b[2;36m          \u001b[0m\u001b[2;36m \u001b[0mCopied files to: ..\u001b[35m/reports/v009/\u001b[0m\u001b[95m2024_11_21__15_09\u001b[0m                                         \u001b]8;id=868518;file:///home/paltenmo/projects/crossplatform/analysis_and_reporting/triage.py\u001b\\\u001b[2mtriage.py\u001b[0m\u001b]8;;\u001b\\\u001b[2m:\u001b[0m\u001b]8;id=330998;file:///home/paltenmo/projects/crossplatform/analysis_and_reporting/triage.py#140\u001b\\\u001b[2m140\u001b[0m\u001b]8;;\u001b\\\n"
      ]
     },
     "metadata": {},
     "output_type": "display_data"
    },
    {
     "data": {
      "text/html": [
       "<pre style=\"white-space:pre;overflow-x:auto;line-height:normal;font-family:Menlo,'DejaVu Sans Mono',consolas,'Courier New',monospace\"><span style=\"color: #7fbfbf; text-decoration-color: #7fbfbf\">[15:09:27] </span>Involved functions:                                                             <a href=\"file:///home/paltenmo/projects/crossplatform/analysis_and_reporting/ddmin_target_file.py\" target=\"_blank\"><span style=\"color: #7f7f7f; text-decoration-color: #7f7f7f\">ddmin_target_file.py</span></a><span style=\"color: #7f7f7f; text-decoration-color: #7f7f7f\">:</span><a href=\"file:///home/paltenmo/projects/crossplatform/analysis_and_reporting/ddmin_target_file.py#206\" target=\"_blank\"><span style=\"color: #7f7f7f; text-decoration-color: #7f7f7f\">206</span></a>\n",
       "</pre>\n"
      ],
      "text/plain": [
       "\u001b[2;36m[15:09:27]\u001b[0m\u001b[2;36m \u001b[0mInvolved functions:                                                             \u001b]8;id=923228;file:///home/paltenmo/projects/crossplatform/analysis_and_reporting/ddmin_target_file.py\u001b\\\u001b[2mddmin_target_file.py\u001b[0m\u001b]8;;\u001b\\\u001b[2m:\u001b[0m\u001b]8;id=342367;file:///home/paltenmo/projects/crossplatform/analysis_and_reporting/ddmin_target_file.py#206\u001b\\\u001b[2m206\u001b[0m\u001b]8;;\u001b\\\n"
      ]
     },
     "metadata": {},
     "output_type": "display_data"
    },
    {
     "data": {
      "text/html": [
       "<pre style=\"white-space:pre;overflow-x:auto;line-height:normal;font-family:Menlo,'DejaVu Sans Mono',consolas,'Courier New',monospace\"><span style=\"color: #7fbfbf; text-decoration-color: #7fbfbf\">           </span>  - compare_qasm_via_qcec                                                       <a href=\"file:///home/paltenmo/projects/crossplatform/analysis_and_reporting/ddmin_target_file.py\" target=\"_blank\"><span style=\"color: #7f7f7f; text-decoration-color: #7f7f7f\">ddmin_target_file.py</span></a><span style=\"color: #7f7f7f; text-decoration-color: #7f7f7f\">:</span><a href=\"file:///home/paltenmo/projects/crossplatform/analysis_and_reporting/ddmin_target_file.py#208\" target=\"_blank\"><span style=\"color: #7f7f7f; text-decoration-color: #7f7f7f\">208</span></a>\n",
       "</pre>\n"
      ],
      "text/plain": [
       "\u001b[2;36m          \u001b[0m\u001b[2;36m \u001b[0m  - compare_qasm_via_qcec                                                       \u001b]8;id=345369;file:///home/paltenmo/projects/crossplatform/analysis_and_reporting/ddmin_target_file.py\u001b\\\u001b[2mddmin_target_file.py\u001b[0m\u001b]8;;\u001b\\\u001b[2m:\u001b[0m\u001b]8;id=639561;file:///home/paltenmo/projects/crossplatform/analysis_and_reporting/ddmin_target_file.py#208\u001b\\\u001b[2m208\u001b[0m\u001b]8;;\u001b\\\n"
      ]
     },
     "metadata": {},
     "output_type": "display_data"
    },
    {
     "data": {
      "text/html": [
       "<pre style=\"white-space:pre;overflow-x:auto;line-height:normal;font-family:Menlo,'DejaVu Sans Mono',consolas,'Courier New',monospace\"><span style=\"color: #7fbfbf; text-decoration-color: #7fbfbf\">           </span>  - export_to_qasm_with_pytket                                                  <a href=\"file:///home/paltenmo/projects/crossplatform/analysis_and_reporting/ddmin_target_file.py\" target=\"_blank\"><span style=\"color: #7f7f7f; text-decoration-color: #7f7f7f\">ddmin_target_file.py</span></a><span style=\"color: #7f7f7f; text-decoration-color: #7f7f7f\">:</span><a href=\"file:///home/paltenmo/projects/crossplatform/analysis_and_reporting/ddmin_target_file.py#208\" target=\"_blank\"><span style=\"color: #7f7f7f; text-decoration-color: #7f7f7f\">208</span></a>\n",
       "</pre>\n"
      ],
      "text/plain": [
       "\u001b[2;36m          \u001b[0m\u001b[2;36m \u001b[0m  - export_to_qasm_with_pytket                                                  \u001b]8;id=697834;file:///home/paltenmo/projects/crossplatform/analysis_and_reporting/ddmin_target_file.py\u001b\\\u001b[2mddmin_target_file.py\u001b[0m\u001b]8;;\u001b\\\u001b[2m:\u001b[0m\u001b]8;id=911757;file:///home/paltenmo/projects/crossplatform/analysis_and_reporting/ddmin_target_file.py#208\u001b\\\u001b[2m208\u001b[0m\u001b]8;;\u001b\\\n"
      ]
     },
     "metadata": {},
     "output_type": "display_data"
    },
    {
     "data": {
      "text/html": [
       "<pre style=\"white-space:pre;overflow-x:auto;line-height:normal;font-family:Menlo,'DejaVu Sans Mono',consolas,'Courier New',monospace\"><span style=\"color: #7fbfbf; text-decoration-color: #7fbfbf\">           </span>  - export_to_qasm_with_qiskit                                                  <a href=\"file:///home/paltenmo/projects/crossplatform/analysis_and_reporting/ddmin_target_file.py\" target=\"_blank\"><span style=\"color: #7f7f7f; text-decoration-color: #7f7f7f\">ddmin_target_file.py</span></a><span style=\"color: #7f7f7f; text-decoration-color: #7f7f7f\">:</span><a href=\"file:///home/paltenmo/projects/crossplatform/analysis_and_reporting/ddmin_target_file.py#208\" target=\"_blank\"><span style=\"color: #7f7f7f; text-decoration-color: #7f7f7f\">208</span></a>\n",
       "</pre>\n"
      ],
      "text/plain": [
       "\u001b[2;36m          \u001b[0m\u001b[2;36m \u001b[0m  - export_to_qasm_with_qiskit                                                  \u001b]8;id=560456;file:///home/paltenmo/projects/crossplatform/analysis_and_reporting/ddmin_target_file.py\u001b\\\u001b[2mddmin_target_file.py\u001b[0m\u001b]8;;\u001b\\\u001b[2m:\u001b[0m\u001b]8;id=365804;file:///home/paltenmo/projects/crossplatform/analysis_and_reporting/ddmin_target_file.py#208\u001b\\\u001b[2m208\u001b[0m\u001b]8;;\u001b\\\n"
      ]
     },
     "metadata": {},
     "output_type": "display_data"
    },
    {
     "name": "stdout",
     "output_type": "stream",
     "text": [
      "Error parsing: Command 'python /workspace/to_execute.py' in image 'qiskit_runner' returned non-zero exit status 1: b'Traceback (most recent call last):\\n  File \"/workspace/to_execute.py\", line 105, in <module>\\n    target_qc = qc\\nNameError: name \\'qc\\' is not defined\\n'\n",
      "Failed to execute to_execute.py in Docker.\n",
      "Output: Saved the Pytket circuit to /workspace/to_execute_qc_pytket.qasm\n",
      "Saved the Qiskit circuit to /workspace/to_execute_qc_qiskit.qasm\n",
      "Exported QASM files: [('/workspace/to_execute_qc_pytket.qasm', 'export_to_qasm_with_pytket'), ('/workspace/to_execute_qc_qiskit.qasm', 'export_to_qasm_with_qiskit')]\n",
      "Log has been saved to /workspace/to_execute_8f8f09_error.json\n",
      "\n",
      "Program to_execute.py executed successfully.\n",
      "New exception message: The circuits are not equivalent: /workspace/to_execute_qc_pytket.qasm, /workspace/to_execute_qc_qiskit.qasm\n",
      "Error parsing: Command 'python /workspace/to_execute.py' in image 'qiskit_runner' returned non-zero exit status 1: b'  File \"/workspace/to_execute.py\", line 19\\n    , custom_instructions=qasm2.LEGACY_CUSTOM_INSTRUCTIONS)\\n                                                          ^\\nSyntaxError: unmatched \\')\\'\\n'\n",
      "Failed to execute to_execute.py in Docker.\n",
      "Error parsing: Command 'python /workspace/to_execute.py' in image 'qiskit_runner' returned non-zero exit status 1: b'  File \"/workspace/to_execute.py\", line 10\\n    qc = qasm2.loads(\\n                    ^\\nSyntaxError: \\'(\\' was never closed\\n'\n",
      "Failed to execute to_execute.py in Docker.\n",
      "Error parsing: Command 'python /workspace/to_execute.py' in image 'qiskit_runner' returned non-zero exit status 1: b'  File \"/workspace/to_execute.py\", line 25\\n    , custom_instructions=qasm2.LEGACY_CUSTOM_INSTRUCTIONS)\\n                                                          ^\\nSyntaxError: unmatched \\')\\'\\n'\n",
      "Failed to execute to_execute.py in Docker.\n",
      "Error parsing: Command 'python /workspace/to_execute.py' in image 'qiskit_runner' returned non-zero exit status 1: b'Traceback (most recent call last):\\n  File \"/workspace/to_execute.py\", line 10, in <module>\\n    qc = qasm2.loads(\\n  File \"/usr/local/lib/python3.10/site-packages/qiskit/qasm2/__init__.py\", line 587, in loads\\n    return _parse.from_bytecode(\\n  File \"/usr/local/lib/python3.10/site-packages/qiskit/qasm2/parse.py\", line 214, in from_bytecode\\n    for op in bc:\\nqiskit.qasm2.exceptions.QASM2ParseError: \"<input>:5,3: \\'reg_1_a\\' is not defined in this scope\"\\n'\n",
      "Failed to execute to_execute.py in Docker.\n",
      "Output: Saved the Pytket circuit to /workspace/to_execute_qc_pytket.qasm\n",
      "Saved the Qiskit circuit to /workspace/to_execute_qc_qiskit.qasm\n",
      "Exported QASM files: [('/workspace/to_execute_qc_pytket.qasm', 'export_to_qasm_with_pytket'), ('/workspace/to_execute_qc_qiskit.qasm', 'export_to_qasm_with_qiskit')]\n",
      "Log has been saved to /workspace/to_execute_466409_error.json\n",
      "\n",
      "Program to_execute.py executed successfully.\n",
      "New exception message: The circuits are not equivalent: /workspace/to_execute_qc_pytket.qasm, /workspace/to_execute_qc_qiskit.qasm\n",
      "Error parsing: Command 'python /workspace/to_execute.py' in image 'qiskit_runner' returned non-zero exit status 1: b'  File \"/workspace/to_execute.py\", line 18\\n    , custom_instructions=qasm2.LEGACY_CUSTOM_INSTRUCTIONS)\\n                                                          ^\\nSyntaxError: unmatched \\')\\'\\n'\n",
      "Failed to execute to_execute.py in Docker.\n",
      "Error parsing: Command 'python /workspace/to_execute.py' in image 'qiskit_runner' returned non-zero exit status 1: b'Traceback (most recent call last):\\n  File \"/workspace/to_execute.py\", line 10, in <module>\\n    qc = qasm2.loads(\\n  File \"/usr/local/lib/python3.10/site-packages/qiskit/qasm2/__init__.py\", line 587, in loads\\n    return _parse.from_bytecode(\\n  File \"/usr/local/lib/python3.10/site-packages/qiskit/qasm2/parse.py\", line 214, in from_bytecode\\n    for op in bc:\\nqiskit.qasm2.exceptions.QASM2ParseError: \"<input>:5,3: \\'reg_1_a\\' is not defined in this scope\"\\n'\n",
      "Failed to execute to_execute.py in Docker.\n",
      "Error parsing: Command 'python /workspace/to_execute.py' in image 'qiskit_runner' returned non-zero exit status 1: b'  File \"/workspace/to_execute.py\", line 10\\n    qc = qasm2.loads(\\n                    ^\\nSyntaxError: \\'(\\' was never closed\\n'\n",
      "Failed to execute to_execute.py in Docker.\n",
      "Error parsing: Command 'python /workspace/to_execute.py' in image 'qiskit_runner' returned non-zero exit status 1: b'  File \"/workspace/to_execute.py\", line 20\\n    , custom_instructions=qasm2.LEGACY_CUSTOM_INSTRUCTIONS)\\n                                                          ^\\nSyntaxError: unmatched \\')\\'\\n'\n",
      "Failed to execute to_execute.py in Docker.\n",
      "Error parsing: Command 'python /workspace/to_execute.py' in image 'qiskit_runner' returned non-zero exit status 1: b'Traceback (most recent call last):\\n  File \"/workspace/to_execute.py\", line 10, in <module>\\n    qc = qasm2.loads(\\n  File \"/usr/local/lib/python3.10/site-packages/qiskit/qasm2/__init__.py\", line 587, in loads\\n    return _parse.from_bytecode(\\n  File \"/usr/local/lib/python3.10/site-packages/qiskit/qasm2/parse.py\", line 214, in from_bytecode\\n    for op in bc:\\nqiskit.qasm2.exceptions.QASM2ParseError: \"<input>:8,0: cannot use non-builtin custom instruction \\'cx\\' before definition\"\\n'\n",
      "Failed to execute to_execute.py in Docker.\n",
      "Output: Saved the Pytket circuit to /workspace/to_execute_qc_pytket.qasm\n",
      "Saved the Qiskit circuit to /workspace/to_execute_qc_qiskit.qasm\n",
      "Exported QASM files: [('/workspace/to_execute_qc_pytket.qasm', 'export_to_qasm_with_pytket'), ('/workspace/to_execute_qc_qiskit.qasm', 'export_to_qasm_with_qiskit')]\n",
      "Log has been saved to /workspace/to_execute_ffbac9_error.json\n",
      "\n",
      "Program to_execute.py executed successfully.\n",
      "New exception message: The circuits are not equivalent: /workspace/to_execute_qc_pytket.qasm, /workspace/to_execute_qc_qiskit.qasm\n",
      "Error parsing: Command 'python /workspace/to_execute.py' in image 'qiskit_runner' returned non-zero exit status 1: b'  File \"/workspace/to_execute.py\", line 19\\n    , custom_instructions=qasm2.LEGACY_CUSTOM_INSTRUCTIONS)\\nIndentationError: unexpected indent\\n'\n",
      "Failed to execute to_execute.py in Docker.\n",
      "Error parsing: Command 'python /workspace/to_execute.py' in image 'qiskit_runner' returned non-zero exit status 1: b'  File \"/workspace/to_execute.py\", line 12\\n    qreg reg_1_b[2];\\n    ^^^^^^^^^^^^^^^\\nSyntaxError: invalid syntax. Perhaps you forgot a comma?\\n'\n",
      "Failed to execute to_execute.py in Docker.\n",
      "Error parsing: Command 'python /workspace/to_execute.py' in image 'qiskit_runner' returned non-zero exit status 1: b'Traceback (most recent call last):\\n  File \"/workspace/to_execute.py\", line 10, in <module>\\n    qc = qasm2.loads(\\n  File \"/usr/local/lib/python3.10/site-packages/qiskit/qasm2/__init__.py\", line 587, in loads\\n    return _parse.from_bytecode(\\n  File \"/usr/local/lib/python3.10/site-packages/qiskit/qasm2/parse.py\", line 214, in from_bytecode\\n    for op in bc:\\nqiskit.qasm2.exceptions.QASM2ParseError: \"<input>:5,3: \\'reg_1_a\\' is not defined in this scope\"\\n'\n",
      "Failed to execute to_execute.py in Docker.\n",
      "Output: Saved the Pytket circuit to /workspace/to_execute_qc_pytket.qasm\n",
      "Saved the Qiskit circuit to /workspace/to_execute_qc_qiskit.qasm\n",
      "Exported QASM files: [('/workspace/to_execute_qc_pytket.qasm', 'export_to_qasm_with_pytket'), ('/workspace/to_execute_qc_qiskit.qasm', 'export_to_qasm_with_qiskit')]\n",
      "The circuits are equivalent: /workspace/to_execute_qc_pytket.qasm, /workspace/to_execute_qc_qiskit.qasm\n",
      "\n",
      "Program to_execute.py executed successfully.\n",
      "Error parsing: Command 'python /workspace/to_execute.py' in image 'qiskit_runner' returned non-zero exit status 1: b'  File \"/workspace/to_execute.py\", line 10\\n    qc = qasm2.loads(\\n                    ^\\nSyntaxError: \\'(\\' was never closed\\n'\n",
      "Failed to execute to_execute.py in Docker.\n",
      "Error parsing: Command 'python /workspace/to_execute.py' in image 'qiskit_runner' returned non-zero exit status 1: b'  File \"/workspace/to_execute.py\", line 20\\n    , custom_instructions=qasm2.LEGACY_CUSTOM_INSTRUCTIONS)\\nIndentationError: unexpected indent\\n'\n",
      "Failed to execute to_execute.py in Docker.\n",
      "Output: Saved the Pytket circuit to /workspace/to_execute_qc_pytket.qasm\n",
      "Saved the Qiskit circuit to /workspace/to_execute_qc_qiskit.qasm\n",
      "Exported QASM files: [('/workspace/to_execute_qc_pytket.qasm', 'export_to_qasm_with_pytket'), ('/workspace/to_execute_qc_qiskit.qasm', 'export_to_qasm_with_qiskit')]\n",
      "Log has been saved to /workspace/to_execute_f55e1e_error.json\n",
      "\n",
      "Program to_execute.py executed successfully.\n",
      "New exception message: The circuits are not equivalent: /workspace/to_execute_qc_pytket.qasm, /workspace/to_execute_qc_qiskit.qasm\n",
      "Error parsing: Command 'python /workspace/to_execute.py' in image 'qiskit_runner' returned non-zero exit status 1: b'  File \"/workspace/to_execute.py\", line 19\\n    , custom_instructions=qasm2.LEGACY_CUSTOM_INSTRUCTIONS)\\nIndentationError: unexpected indent\\n'\n",
      "Failed to execute to_execute.py in Docker.\n",
      "Error parsing: Command 'python /workspace/to_execute.py' in image 'qiskit_runner' returned non-zero exit status 1: b'  File \"/workspace/to_execute.py\", line 11\\n    OPENQASM 2.0;\\n    ^^^^^^^^^^^^\\nSyntaxError: invalid syntax. Perhaps you forgot a comma?\\n'\n",
      "Failed to execute to_execute.py in Docker.\n",
      "Output: Saved the Pytket circuit to /workspace/to_execute_qc_pytket.qasm\n",
      "Saved the Qiskit circuit to /workspace/to_execute_qc_qiskit.qasm\n",
      "Exported QASM files: [('/workspace/to_execute_qc_pytket.qasm', 'export_to_qasm_with_pytket'), ('/workspace/to_execute_qc_qiskit.qasm', 'export_to_qasm_with_qiskit')]\n",
      "Log has been saved to /workspace/to_execute_9c3eb0_error.json\n",
      "\n",
      "Program to_execute.py executed successfully.\n",
      "New exception message: The circuits are not equivalent: /workspace/to_execute_qc_pytket.qasm, /workspace/to_execute_qc_qiskit.qasm\n",
      "Error parsing: Command 'python /workspace/to_execute.py' in image 'qiskit_runner' returned non-zero exit status 1: b'  File \"/workspace/to_execute.py\", line 18\\n    , custom_instructions=qasm2.LEGACY_CUSTOM_INSTRUCTIONS)\\nIndentationError: unexpected indent\\n'\n",
      "Failed to execute to_execute.py in Docker.\n",
      "Error parsing: Command 'python /workspace/to_execute.py' in image 'qiskit_runner' returned non-zero exit status 1: b'  File \"/workspace/to_execute.py\", line 11\\n    include \"qelib1.inc\";\\n            ^^^^^^^^^^^^\\nSyntaxError: invalid syntax\\n'\n",
      "Failed to execute to_execute.py in Docker.\n",
      "Error parsing: Command 'python /workspace/to_execute.py' in image 'qiskit_runner' returned non-zero exit status 1: b'Traceback (most recent call last):\\n  File \"/workspace/to_execute.py\", line 10, in <module>\\n    qc = qasm2.loads(\\n  File \"/usr/local/lib/python3.10/site-packages/qiskit/qasm2/__init__.py\", line 587, in loads\\n    return _parse.from_bytecode(\\n  File \"/usr/local/lib/python3.10/site-packages/qiskit/qasm2/parse.py\", line 214, in from_bytecode\\n    for op in bc:\\nqiskit.qasm2.exceptions.QASM2ParseError: \"<input>:5,0: cannot use non-builtin custom instruction \\'cx\\' before definition\"\\n'\n",
      "Failed to execute to_execute.py in Docker.\n",
      "Error parsing: Command 'python /workspace/to_execute.py' in image 'qiskit_runner' returned non-zero exit status 1: b'Traceback (most recent call last):\\n  File \"/workspace/to_execute.py\", line 10, in <module>\\n    qc = qasm2.loads(\\n  File \"/usr/local/lib/python3.10/site-packages/qiskit/qasm2/__init__.py\", line 587, in loads\\n    return _parse.from_bytecode(\\n  File \"/usr/local/lib/python3.10/site-packages/qiskit/qasm2/parse.py\", line 214, in from_bytecode\\n    for op in bc:\\nqiskit.qasm2.exceptions.QASM2ParseError: \"<input>:5,14: \\'reg_1_b\\' is not defined in this scope\"\\n'\n",
      "Failed to execute to_execute.py in Docker.\n",
      "Error parsing: Command 'python /workspace/to_execute.py' in image 'qiskit_runner' returned non-zero exit status 1: b'Traceback (most recent call last):\\n  File \"/workspace/to_execute.py\", line 10, in <module>\\n    qc = qasm2.loads(\\n  File \"/usr/local/lib/python3.10/site-packages/qiskit/qasm2/__init__.py\", line 587, in loads\\n    return _parse.from_bytecode(\\n  File \"/usr/local/lib/python3.10/site-packages/qiskit/qasm2/parse.py\", line 214, in from_bytecode\\n    for op in bc:\\nqiskit.qasm2.exceptions.QASM2ParseError: \"<input>:4,3: \\'reg_1_a\\' is not defined in this scope\"\\n'\n",
      "Failed to execute to_execute.py in Docker.\n",
      "Output: Saved the Pytket circuit to /workspace/to_execute_qc_pytket.qasm\n",
      "Saved the Qiskit circuit to /workspace/to_execute_qc_qiskit.qasm\n",
      "Exported QASM files: [('/workspace/to_execute_qc_pytket.qasm', 'export_to_qasm_with_pytket'), ('/workspace/to_execute_qc_qiskit.qasm', 'export_to_qasm_with_qiskit')]\n",
      "Log has been saved to /workspace/to_execute_e07780_error.json\n",
      "\n",
      "Program to_execute.py executed successfully.\n",
      "New exception message: The circuits are not equivalent: /workspace/to_execute_qc_pytket.qasm, /workspace/to_execute_qc_qiskit.qasm\n",
      "Error parsing: Command 'python /workspace/to_execute.py' in image 'qiskit_runner' returned non-zero exit status 1: b'  File \"/workspace/to_execute.py\", line 17\\n    , custom_instructions=qasm2.LEGACY_CUSTOM_INSTRUCTIONS)\\nIndentationError: unexpected indent\\n'\n",
      "Failed to execute to_execute.py in Docker.\n",
      "Error parsing: Command 'python /workspace/to_execute.py' in image 'qiskit_runner' returned non-zero exit status 1: b'  File \"/workspace/to_execute.py\", line 11\\n    include \"qelib1.inc\";\\n            ^^^^^^^^^^^^\\nSyntaxError: invalid syntax\\n'\n",
      "Failed to execute to_execute.py in Docker.\n",
      "Error parsing: Command 'python /workspace/to_execute.py' in image 'qiskit_runner' returned non-zero exit status 1: b'Traceback (most recent call last):\\n  File \"/workspace/to_execute.py\", line 10, in <module>\\n    qc = qasm2.loads(\\n  File \"/usr/local/lib/python3.10/site-packages/qiskit/qasm2/__init__.py\", line 587, in loads\\n    return _parse.from_bytecode(\\n  File \"/usr/local/lib/python3.10/site-packages/qiskit/qasm2/parse.py\", line 214, in from_bytecode\\n    for op in bc:\\nqiskit.qasm2.exceptions.QASM2ParseError: \"<input>:5,0: cannot use non-builtin custom instruction \\'cx\\' before definition\"\\n'\n",
      "Failed to execute to_execute.py in Docker.\n",
      "Error parsing: Command 'python /workspace/to_execute.py' in image 'qiskit_runner' returned non-zero exit status 1: b'Traceback (most recent call last):\\n  File \"/workspace/to_execute.py\", line 10, in <module>\\n    qc = qasm2.loads(\\n  File \"/usr/local/lib/python3.10/site-packages/qiskit/qasm2/__init__.py\", line 587, in loads\\n    return _parse.from_bytecode(\\n  File \"/usr/local/lib/python3.10/site-packages/qiskit/qasm2/parse.py\", line 214, in from_bytecode\\n    for op in bc:\\nqiskit.qasm2.exceptions.QASM2ParseError: \"<input>:4,3: \\'reg_1_a\\' is not defined in this scope\"\\n'\n",
      "Failed to execute to_execute.py in Docker.\n",
      "Output: Saved the Pytket circuit to /workspace/to_execute_qc_pytket.qasm\n",
      "Saved the Qiskit circuit to /workspace/to_execute_qc_qiskit.qasm\n",
      "Exported QASM files: [('/workspace/to_execute_qc_pytket.qasm', 'export_to_qasm_with_pytket'), ('/workspace/to_execute_qc_qiskit.qasm', 'export_to_qasm_with_qiskit')]\n",
      "Log has been saved to /workspace/to_execute_ca7324_error.json\n",
      "\n",
      "Program to_execute.py executed successfully.\n",
      "New exception message: The circuits are not equivalent: /workspace/to_execute_qc_pytket.qasm, /workspace/to_execute_qc_qiskit.qasm\n",
      "Error parsing: Command 'python /workspace/to_execute.py' in image 'qiskit_runner' returned non-zero exit status 1: b'  File \"/workspace/to_execute.py\", line 16\\n    , custom_instructions=qasm2.LEGACY_CUSTOM_INSTRUCTIONS)\\nIndentationError: unexpected indent\\n'\n",
      "Failed to execute to_execute.py in Docker.\n",
      "Error parsing: Command 'python /workspace/to_execute.py' in image 'qiskit_runner' returned non-zero exit status 1: b'  File \"/workspace/to_execute.py\", line 11\\n    include \"qelib1.inc\";\\n            ^^^^^^^^^^^^\\nSyntaxError: invalid syntax\\n'\n",
      "Failed to execute to_execute.py in Docker.\n",
      "Error parsing: Command 'python /workspace/to_execute.py' in image 'qiskit_runner' returned non-zero exit status 1: b'Traceback (most recent call last):\\n  File \"/workspace/to_execute.py\", line 10, in <module>\\n    qc = qasm2.loads(\\n  File \"/usr/local/lib/python3.10/site-packages/qiskit/qasm2/__init__.py\", line 587, in loads\\n    return _parse.from_bytecode(\\n  File \"/usr/local/lib/python3.10/site-packages/qiskit/qasm2/parse.py\", line 214, in from_bytecode\\n    for op in bc:\\nqiskit.qasm2.exceptions.QASM2ParseError: \"<input>:3,0: cannot use non-builtin custom instruction \\'cx\\' before definition\"\\n'\n",
      "Failed to execute to_execute.py in Docker.\n",
      "Error parsing: Command 'python /workspace/to_execute.py' in image 'qiskit_runner' returned non-zero exit status 1: b'Traceback (most recent call last):\\n  File \"/workspace/to_execute.py\", line 10, in <module>\\n    qc = qasm2.loads(\\n  File \"/usr/local/lib/python3.10/site-packages/qiskit/qasm2/__init__.py\", line 587, in loads\\n    return _parse.from_bytecode(\\n  File \"/usr/local/lib/python3.10/site-packages/qiskit/qasm2/parse.py\", line 214, in from_bytecode\\n    for op in bc:\\nqiskit.qasm2.exceptions.QASM2ParseError: \"<input>:4,3: \\'reg_1_a\\' is not defined in this scope\"\\n'\n",
      "Failed to execute to_execute.py in Docker.\n",
      "Error parsing: Command 'python /workspace/to_execute.py' in image 'qiskit_runner' returned non-zero exit status 1: b'  File \"/workspace/to_execute.py\", line 11\\n    include \"qelib1.inc\";\\n            ^^^^^^^^^^^^\\nSyntaxError: invalid syntax\\n'\n",
      "Failed to execute to_execute.py in Docker.\n",
      "Error parsing: Command 'python /workspace/to_execute.py' in image 'qiskit_runner' returned non-zero exit status 1: b'  File \"/workspace/to_execute.py\", line 10\\n    qc = qasm2.loads(\\n                    ^\\nSyntaxError: \\'(\\' was never closed\\n'\n",
      "Failed to execute to_execute.py in Docker.\n",
      "Error parsing: Command 'python /workspace/to_execute.py' in image 'qiskit_runner' returned non-zero exit status 1: b'  File \"/workspace/to_execute.py\", line 16\\n    , custom_instructions=qasm2.LEGACY_CUSTOM_INSTRUCTIONS)\\nIndentationError: unexpected indent\\n'\n",
      "Failed to execute to_execute.py in Docker.\n",
      "Error parsing: Command 'python /workspace/to_execute.py' in image 'qiskit_runner' returned non-zero exit status 1: b'  File \"/workspace/to_execute.py\", line 11\\n    include \"qelib1.inc\";\\n            ^^^^^^^^^^^^\\nSyntaxError: invalid syntax\\n'\n",
      "Failed to execute to_execute.py in Docker.\n",
      "Error parsing: Command 'python /workspace/to_execute.py' in image 'qiskit_runner' returned non-zero exit status 1: b'Traceback (most recent call last):\\n  File \"/workspace/to_execute.py\", line 10, in <module>\\n    qc = qasm2.loads(\\n  File \"/usr/local/lib/python3.10/site-packages/qiskit/qasm2/__init__.py\", line 587, in loads\\n    return _parse.from_bytecode(\\n  File \"/usr/local/lib/python3.10/site-packages/qiskit/qasm2/parse.py\", line 214, in from_bytecode\\n    for op in bc:\\nqiskit.qasm2.exceptions.QASM2ParseError: \"<input>:4,0: cannot use non-builtin custom instruction \\'cx\\' before definition\"\\n'\n",
      "Failed to execute to_execute.py in Docker.\n",
      "Error parsing: Command 'python /workspace/to_execute.py' in image 'qiskit_runner' returned non-zero exit status 1: b'Traceback (most recent call last):\\n  File \"/workspace/to_execute.py\", line 10, in <module>\\n    qc = qasm2.loads(\\n  File \"/usr/local/lib/python3.10/site-packages/qiskit/qasm2/__init__.py\", line 587, in loads\\n    return _parse.from_bytecode(\\n  File \"/usr/local/lib/python3.10/site-packages/qiskit/qasm2/parse.py\", line 214, in from_bytecode\\n    for op in bc:\\nqiskit.qasm2.exceptions.QASM2ParseError: \"<input>:4,14: \\'reg_1_b\\' is not defined in this scope\"\\n'\n",
      "Failed to execute to_execute.py in Docker.\n",
      "Error parsing: Command 'python /workspace/to_execute.py' in image 'qiskit_runner' returned non-zero exit status 1: b'Traceback (most recent call last):\\n  File \"/workspace/to_execute.py\", line 10, in <module>\\n    qc = qasm2.loads(\\n  File \"/usr/local/lib/python3.10/site-packages/qiskit/qasm2/__init__.py\", line 587, in loads\\n    return _parse.from_bytecode(\\n  File \"/usr/local/lib/python3.10/site-packages/qiskit/qasm2/parse.py\", line 214, in from_bytecode\\n    for op in bc:\\nqiskit.qasm2.exceptions.QASM2ParseError: \"<input>:4,3: \\'reg_1_a\\' is not defined in this scope\"\\n'\n",
      "Failed to execute to_execute.py in Docker.\n",
      "Output: Saved the Pytket circuit to /workspace/to_execute_qc_pytket.qasm\n",
      "Saved the Qiskit circuit to /workspace/to_execute_qc_qiskit.qasm\n",
      "Exported QASM files: [('/workspace/to_execute_qc_pytket.qasm', 'export_to_qasm_with_pytket'), ('/workspace/to_execute_qc_qiskit.qasm', 'export_to_qasm_with_qiskit')]\n",
      "The circuits are equivalent: /workspace/to_execute_qc_pytket.qasm, /workspace/to_execute_qc_qiskit.qasm\n",
      "\n",
      "Program to_execute.py executed successfully.\n",
      "Error parsing: Command 'python /workspace/to_execute.py' in image 'qiskit_runner' returned non-zero exit status 1: b'  File \"/workspace/to_execute.py\", line 11\\n    include \"qelib1.inc\";\\n            ^^^^^^^^^^^^\\nSyntaxError: invalid syntax\\n'\n",
      "Failed to execute to_execute.py in Docker.\n",
      "Error parsing: Command 'python /workspace/to_execute.py' in image 'qiskit_runner' returned non-zero exit status 1: b'  File \"/workspace/to_execute.py\", line 10\\n    qc = qasm2.loads(\\n                    ^\\nSyntaxError: \\'(\\' was never closed\\n'\n",
      "Failed to execute to_execute.py in Docker.\n"
     ]
    },
    {
     "data": {
      "text/html": [
       "<pre style=\"white-space:pre;overflow-x:auto;line-height:normal;font-family:Menlo,'DejaVu Sans Mono',consolas,'Courier New',monospace\"><span style=\"color: #7fbfbf; text-decoration-color: #7fbfbf\">[15:12:24] </span><span style=\"color: #008000; text-decoration-color: #008000\">Minimized file saved as:</span>                                                        <a href=\"file:///home/paltenmo/projects/crossplatform/analysis_and_reporting/ddmin_target_file.py\" target=\"_blank\"><span style=\"color: #7f7f7f; text-decoration-color: #7f7f7f\">ddmin_target_file.py</span></a><span style=\"color: #7f7f7f; text-decoration-color: #7f7f7f\">:</span><a href=\"file:///home/paltenmo/projects/crossplatform/analysis_and_reporting/ddmin_target_file.py#240\" target=\"_blank\"><span style=\"color: #7f7f7f; text-decoration-color: #7f7f7f\">240</span></a>\n",
       "<span style=\"color: #7fbfbf; text-decoration-color: #7fbfbf\">           </span>..<span style=\"color: #800080; text-decoration-color: #800080\">/reports/v009/2024_11_21__15_09/</span><span style=\"color: #ff00ff; text-decoration-color: #ff00ff\">qiskit_circuit_5q_10g_680_6d896d_1fd766_error</span> <span style=\"color: #7f7f7f; text-decoration-color: #7f7f7f\">                        </span>\n",
       "<span style=\"color: #7fbfbf; text-decoration-color: #7fbfbf\">           </span><span style=\"color: #ff00ff; text-decoration-color: #ff00ff\">_min.py</span>                                                                         <span style=\"color: #7f7f7f; text-decoration-color: #7f7f7f\">                        </span>\n",
       "</pre>\n"
      ],
      "text/plain": [
       "\u001b[2;36m[15:12:24]\u001b[0m\u001b[2;36m \u001b[0m\u001b[32mMinimized file saved as:\u001b[0m                                                        \u001b]8;id=925058;file:///home/paltenmo/projects/crossplatform/analysis_and_reporting/ddmin_target_file.py\u001b\\\u001b[2mddmin_target_file.py\u001b[0m\u001b]8;;\u001b\\\u001b[2m:\u001b[0m\u001b]8;id=911043;file:///home/paltenmo/projects/crossplatform/analysis_and_reporting/ddmin_target_file.py#240\u001b\\\u001b[2m240\u001b[0m\u001b]8;;\u001b\\\n",
       "\u001b[2;36m           \u001b[0m..\u001b[35m/reports/v009/2024_11_21__15_09/\u001b[0m\u001b[95mqiskit_circuit_5q_10g_680_6d896d_1fd766_error\u001b[0m \u001b[2m                        \u001b[0m\n",
       "\u001b[2;36m           \u001b[0m\u001b[95m_min.py\u001b[0m                                                                         \u001b[2m                        \u001b[0m\n"
      ]
     },
     "metadata": {},
     "output_type": "display_data"
    },
    {
     "name": "stdout",
     "output_type": "stream",
     "text": [
      "Output: Saved the Pytket circuit to /workspace/qiskit_circuit_5q_10g_680_6d896d_1fd766_error_min_qc_pytket.qasm\n",
      "Saved the Qiskit circuit to /workspace/qiskit_circuit_5q_10g_680_6d896d_1fd766_error_min_qc_qiskit.qasm\n",
      "Exported QASM files: [('/workspace/qiskit_circuit_5q_10g_680_6d896d_1fd766_error_min_qc_pytket.qasm', 'export_to_qasm_with_pytket'), ('/workspace/qiskit_circuit_5q_10g_680_6d896d_1fd766_error_min_qc_qiskit.qasm', 'export_to_qasm_with_qiskit')]\n",
      "Log has been saved to /workspace/qiskit_circuit_5q_10g_680_6d896d_1fd766_error_min_c3fa11_error.json\n",
      "\n"
     ]
    },
    {
     "data": {
      "text/html": [
       "<pre style=\"white-space:pre;overflow-x:auto;line-height:normal;font-family:Menlo,'DejaVu Sans Mono',consolas,'Courier New',monospace\"><span style=\"color: #7fbfbf; text-decoration-color: #7fbfbf\">[15:12:31] </span>Program qiskit_circuit_5q_10g_680_6d896d_1fd766_error_min.py executed successfully. <a href=\"file:///home/paltenmo/projects/crossplatform/generators/docker_tooling.py\" target=\"_blank\"><span style=\"color: #7f7f7f; text-decoration-color: #7f7f7f\">docker_tooling.py</span></a><span style=\"color: #7f7f7f; text-decoration-color: #7f7f7f\">:</span><a href=\"file:///home/paltenmo/projects/crossplatform/generators/docker_tooling.py#46\" target=\"_blank\"><span style=\"color: #7f7f7f; text-decoration-color: #7f7f7f\">46</span></a>\n",
       "</pre>\n"
      ],
      "text/plain": [
       "\u001b[2;36m[15:12:31]\u001b[0m\u001b[2;36m \u001b[0mProgram qiskit_circuit_5q_10g_680_6d896d_1fd766_error_min.py executed successfully. \u001b]8;id=477414;file:///home/paltenmo/projects/crossplatform/generators/docker_tooling.py\u001b\\\u001b[2mdocker_tooling.py\u001b[0m\u001b]8;;\u001b\\\u001b[2m:\u001b[0m\u001b]8;id=213744;file:///home/paltenmo/projects/crossplatform/generators/docker_tooling.py#46\u001b\\\u001b[2m46\u001b[0m\u001b]8;;\u001b\\\n"
      ]
     },
     "metadata": {},
     "output_type": "display_data"
    },
    {
     "data": {
      "application/vnd.jupyter.widget-view+json": {
       "model_id": "fd41c37524fc49898f76e352c9932878",
       "version_major": 2,
       "version_minor": 0
      },
      "text/plain": [
       "Executing:   0%|          | 0/13 [00:00<?, ?cell/s]"
      ]
     },
     "metadata": {},
     "output_type": "display_data"
    },
    {
     "data": {
      "text/html": [
       "<pre style=\"white-space:pre;overflow-x:auto;line-height:normal;font-family:Menlo,'DejaVu Sans Mono',consolas,'Courier New',monospace\"><span style=\"color: #7fbfbf; text-decoration-color: #7fbfbf\">[15:12:34] </span>Analysis notebook executed: ..<span style=\"color: #800080; text-decoration-color: #800080\">/reports/v009/2024_11_21__15_09/</span><span style=\"color: #ff00ff; text-decoration-color: #ff00ff\">analysis_output.ipynb</span>        <a href=\"file:///home/paltenmo/projects/crossplatform/analysis_and_reporting/triage.py\" target=\"_blank\"><span style=\"color: #7f7f7f; text-decoration-color: #7f7f7f\">triage.py</span></a><span style=\"color: #7f7f7f; text-decoration-color: #7f7f7f\">:</span><a href=\"file:///home/paltenmo/projects/crossplatform/analysis_and_reporting/triage.py#163\" target=\"_blank\"><span style=\"color: #7f7f7f; text-decoration-color: #7f7f7f\">163</span></a>\n",
       "</pre>\n"
      ],
      "text/plain": [
       "\u001b[2;36m[15:12:34]\u001b[0m\u001b[2;36m \u001b[0mAnalysis notebook executed: ..\u001b[35m/reports/v009/2024_11_21__15_09/\u001b[0m\u001b[95manalysis_output.ipynb\u001b[0m        \u001b]8;id=672233;file:///home/paltenmo/projects/crossplatform/analysis_and_reporting/triage.py\u001b\\\u001b[2mtriage.py\u001b[0m\u001b]8;;\u001b\\\u001b[2m:\u001b[0m\u001b]8;id=4561;file:///home/paltenmo/projects/crossplatform/analysis_and_reporting/triage.py#163\u001b\\\u001b[2m163\u001b[0m\u001b]8;;\u001b\\\n"
      ]
     },
     "metadata": {},
     "output_type": "display_data"
    },
    {
     "data": {
      "text/html": [
       "<pre style=\"white-space:pre;overflow-x:auto;line-height:normal;font-family:Menlo,'DejaVu Sans Mono',consolas,'Courier New',monospace\"><span style=\"color: #7fbfbf; text-decoration-color: #7fbfbf\">           </span>Created report folder: ..<span style=\"color: #800080; text-decoration-color: #800080\">/reports/v009/</span><span style=\"color: #ff00ff; text-decoration-color: #ff00ff\">2024_11_21__15_12</span>                                   <a href=\"file:///home/paltenmo/projects/crossplatform/analysis_and_reporting/triage.py\" target=\"_blank\"><span style=\"color: #7f7f7f; text-decoration-color: #7f7f7f\">triage.py</span></a><span style=\"color: #7f7f7f; text-decoration-color: #7f7f7f\">:</span><a href=\"file:///home/paltenmo/projects/crossplatform/analysis_and_reporting/triage.py#131\" target=\"_blank\"><span style=\"color: #7f7f7f; text-decoration-color: #7f7f7f\">131</span></a>\n",
       "</pre>\n"
      ],
      "text/plain": [
       "\u001b[2;36m          \u001b[0m\u001b[2;36m \u001b[0mCreated report folder: ..\u001b[35m/reports/v009/\u001b[0m\u001b[95m2024_11_21__15_12\u001b[0m                                   \u001b]8;id=539788;file:///home/paltenmo/projects/crossplatform/analysis_and_reporting/triage.py\u001b\\\u001b[2mtriage.py\u001b[0m\u001b]8;;\u001b\\\u001b[2m:\u001b[0m\u001b]8;id=237902;file:///home/paltenmo/projects/crossplatform/analysis_and_reporting/triage.py#131\u001b\\\u001b[2m131\u001b[0m\u001b]8;;\u001b\\\n"
      ]
     },
     "metadata": {},
     "output_type": "display_data"
    },
    {
     "data": {
      "text/html": [
       "<pre style=\"white-space:pre;overflow-x:auto;line-height:normal;font-family:Menlo,'DejaVu Sans Mono',consolas,'Courier New',monospace\"><span style=\"color: #7fbfbf; text-decoration-color: #7fbfbf\">           </span>Copied files to: ..<span style=\"color: #800080; text-decoration-color: #800080\">/reports/v009/</span><span style=\"color: #ff00ff; text-decoration-color: #ff00ff\">2024_11_21__15_12</span>                                         <a href=\"file:///home/paltenmo/projects/crossplatform/analysis_and_reporting/triage.py\" target=\"_blank\"><span style=\"color: #7f7f7f; text-decoration-color: #7f7f7f\">triage.py</span></a><span style=\"color: #7f7f7f; text-decoration-color: #7f7f7f\">:</span><a href=\"file:///home/paltenmo/projects/crossplatform/analysis_and_reporting/triage.py#140\" target=\"_blank\"><span style=\"color: #7f7f7f; text-decoration-color: #7f7f7f\">140</span></a>\n",
       "</pre>\n"
      ],
      "text/plain": [
       "\u001b[2;36m          \u001b[0m\u001b[2;36m \u001b[0mCopied files to: ..\u001b[35m/reports/v009/\u001b[0m\u001b[95m2024_11_21__15_12\u001b[0m                                         \u001b]8;id=440474;file:///home/paltenmo/projects/crossplatform/analysis_and_reporting/triage.py\u001b\\\u001b[2mtriage.py\u001b[0m\u001b]8;;\u001b\\\u001b[2m:\u001b[0m\u001b]8;id=45501;file:///home/paltenmo/projects/crossplatform/analysis_and_reporting/triage.py#140\u001b\\\u001b[2m140\u001b[0m\u001b]8;;\u001b\\\n"
      ]
     },
     "metadata": {},
     "output_type": "display_data"
    },
    {
     "data": {
      "text/html": [
       "<pre style=\"white-space:pre;overflow-x:auto;line-height:normal;font-family:Menlo,'DejaVu Sans Mono',consolas,'Courier New',monospace\"><span style=\"color: #7fbfbf; text-decoration-color: #7fbfbf\">[15:12:34] </span>Involved functions:                                                             <a href=\"file:///home/paltenmo/projects/crossplatform/analysis_and_reporting/ddmin_target_file.py\" target=\"_blank\"><span style=\"color: #7f7f7f; text-decoration-color: #7f7f7f\">ddmin_target_file.py</span></a><span style=\"color: #7f7f7f; text-decoration-color: #7f7f7f\">:</span><a href=\"file:///home/paltenmo/projects/crossplatform/analysis_and_reporting/ddmin_target_file.py#206\" target=\"_blank\"><span style=\"color: #7f7f7f; text-decoration-color: #7f7f7f\">206</span></a>\n",
       "</pre>\n"
      ],
      "text/plain": [
       "\u001b[2;36m[15:12:34]\u001b[0m\u001b[2;36m \u001b[0mInvolved functions:                                                             \u001b]8;id=551201;file:///home/paltenmo/projects/crossplatform/analysis_and_reporting/ddmin_target_file.py\u001b\\\u001b[2mddmin_target_file.py\u001b[0m\u001b]8;;\u001b\\\u001b[2m:\u001b[0m\u001b]8;id=250080;file:///home/paltenmo/projects/crossplatform/analysis_and_reporting/ddmin_target_file.py#206\u001b\\\u001b[2m206\u001b[0m\u001b]8;;\u001b\\\n"
      ]
     },
     "metadata": {},
     "output_type": "display_data"
    },
    {
     "data": {
      "text/html": [
       "<pre style=\"white-space:pre;overflow-x:auto;line-height:normal;font-family:Menlo,'DejaVu Sans Mono',consolas,'Courier New',monospace\"><span style=\"color: #7fbfbf; text-decoration-color: #7fbfbf\">           </span>  - compare_qasm_via_qcec                                                       <a href=\"file:///home/paltenmo/projects/crossplatform/analysis_and_reporting/ddmin_target_file.py\" target=\"_blank\"><span style=\"color: #7f7f7f; text-decoration-color: #7f7f7f\">ddmin_target_file.py</span></a><span style=\"color: #7f7f7f; text-decoration-color: #7f7f7f\">:</span><a href=\"file:///home/paltenmo/projects/crossplatform/analysis_and_reporting/ddmin_target_file.py#208\" target=\"_blank\"><span style=\"color: #7f7f7f; text-decoration-color: #7f7f7f\">208</span></a>\n",
       "</pre>\n"
      ],
      "text/plain": [
       "\u001b[2;36m          \u001b[0m\u001b[2;36m \u001b[0m  - compare_qasm_via_qcec                                                       \u001b]8;id=263622;file:///home/paltenmo/projects/crossplatform/analysis_and_reporting/ddmin_target_file.py\u001b\\\u001b[2mddmin_target_file.py\u001b[0m\u001b]8;;\u001b\\\u001b[2m:\u001b[0m\u001b]8;id=456243;file:///home/paltenmo/projects/crossplatform/analysis_and_reporting/ddmin_target_file.py#208\u001b\\\u001b[2m208\u001b[0m\u001b]8;;\u001b\\\n"
      ]
     },
     "metadata": {},
     "output_type": "display_data"
    },
    {
     "data": {
      "text/html": [
       "<pre style=\"white-space:pre;overflow-x:auto;line-height:normal;font-family:Menlo,'DejaVu Sans Mono',consolas,'Courier New',monospace\"><span style=\"color: #7fbfbf; text-decoration-color: #7fbfbf\">           </span>  - export_to_qasm_with_pytket                                                  <a href=\"file:///home/paltenmo/projects/crossplatform/analysis_and_reporting/ddmin_target_file.py\" target=\"_blank\"><span style=\"color: #7f7f7f; text-decoration-color: #7f7f7f\">ddmin_target_file.py</span></a><span style=\"color: #7f7f7f; text-decoration-color: #7f7f7f\">:</span><a href=\"file:///home/paltenmo/projects/crossplatform/analysis_and_reporting/ddmin_target_file.py#208\" target=\"_blank\"><span style=\"color: #7f7f7f; text-decoration-color: #7f7f7f\">208</span></a>\n",
       "</pre>\n"
      ],
      "text/plain": [
       "\u001b[2;36m          \u001b[0m\u001b[2;36m \u001b[0m  - export_to_qasm_with_pytket                                                  \u001b]8;id=634482;file:///home/paltenmo/projects/crossplatform/analysis_and_reporting/ddmin_target_file.py\u001b\\\u001b[2mddmin_target_file.py\u001b[0m\u001b]8;;\u001b\\\u001b[2m:\u001b[0m\u001b]8;id=715175;file:///home/paltenmo/projects/crossplatform/analysis_and_reporting/ddmin_target_file.py#208\u001b\\\u001b[2m208\u001b[0m\u001b]8;;\u001b\\\n"
      ]
     },
     "metadata": {},
     "output_type": "display_data"
    },
    {
     "data": {
      "text/html": [
       "<pre style=\"white-space:pre;overflow-x:auto;line-height:normal;font-family:Menlo,'DejaVu Sans Mono',consolas,'Courier New',monospace\"><span style=\"color: #7fbfbf; text-decoration-color: #7fbfbf\">           </span>  - export_to_qasm_with_qiskit                                                  <a href=\"file:///home/paltenmo/projects/crossplatform/analysis_and_reporting/ddmin_target_file.py\" target=\"_blank\"><span style=\"color: #7f7f7f; text-decoration-color: #7f7f7f\">ddmin_target_file.py</span></a><span style=\"color: #7f7f7f; text-decoration-color: #7f7f7f\">:</span><a href=\"file:///home/paltenmo/projects/crossplatform/analysis_and_reporting/ddmin_target_file.py#208\" target=\"_blank\"><span style=\"color: #7f7f7f; text-decoration-color: #7f7f7f\">208</span></a>\n",
       "</pre>\n"
      ],
      "text/plain": [
       "\u001b[2;36m          \u001b[0m\u001b[2;36m \u001b[0m  - export_to_qasm_with_qiskit                                                  \u001b]8;id=208365;file:///home/paltenmo/projects/crossplatform/analysis_and_reporting/ddmin_target_file.py\u001b\\\u001b[2mddmin_target_file.py\u001b[0m\u001b]8;;\u001b\\\u001b[2m:\u001b[0m\u001b]8;id=926996;file:///home/paltenmo/projects/crossplatform/analysis_and_reporting/ddmin_target_file.py#208\u001b\\\u001b[2m208\u001b[0m\u001b]8;;\u001b\\\n"
      ]
     },
     "metadata": {},
     "output_type": "display_data"
    },
    {
     "name": "stdout",
     "output_type": "stream",
     "text": [
      "Error parsing: Command 'python /workspace/to_execute.py' in image 'qiskit_runner' returned non-zero exit status 1: b'Traceback (most recent call last):\\n  File \"/workspace/to_execute.py\", line 105, in <module>\\n    target_qc = qc\\nNameError: name \\'qc\\' is not defined\\n'\n",
      "Failed to execute to_execute.py in Docker.\n",
      "Output: Saved the Pytket circuit to /workspace/to_execute_qc_pytket.qasm\n",
      "Saved the Qiskit circuit to /workspace/to_execute_qc_qiskit.qasm\n",
      "Exported QASM files: [('/workspace/to_execute_qc_pytket.qasm', 'export_to_qasm_with_pytket'), ('/workspace/to_execute_qc_qiskit.qasm', 'export_to_qasm_with_qiskit')]\n",
      "Log has been saved to /workspace/to_execute_d9884e_error.json\n",
      "\n",
      "Program to_execute.py executed successfully.\n",
      "New exception message: The circuits are not equivalent: /workspace/to_execute_qc_pytket.qasm, /workspace/to_execute_qc_qiskit.qasm\n",
      "Error parsing: Command 'python /workspace/to_execute.py' in image 'qiskit_runner' returned non-zero exit status 1: b'  File \"/workspace/to_execute.py\", line 18\\n    , custom_instructions=qasm2.LEGACY_CUSTOM_INSTRUCTIONS)\\n                                                          ^\\nSyntaxError: unmatched \\')\\'\\n'\n",
      "Failed to execute to_execute.py in Docker.\n",
      "Error parsing: Command 'python /workspace/to_execute.py' in image 'qiskit_runner' returned non-zero exit status 1: b'  File \"/workspace/to_execute.py\", line 10\\n    qc = qasm2.loads(\\n                    ^\\nSyntaxError: \\'(\\' was never closed\\n'\n",
      "Failed to execute to_execute.py in Docker.\n",
      "Error parsing: Command 'python /workspace/to_execute.py' in image 'qiskit_runner' returned non-zero exit status 1: b'  File \"/workspace/to_execute.py\", line 23\\n    , custom_instructions=qasm2.LEGACY_CUSTOM_INSTRUCTIONS)\\n                                                          ^\\nSyntaxError: unmatched \\')\\'\\n'\n",
      "Failed to execute to_execute.py in Docker.\n",
      "Error parsing: Command 'python /workspace/to_execute.py' in image 'qiskit_runner' returned non-zero exit status 1: b'Traceback (most recent call last):\\n  File \"/workspace/to_execute.py\", line 10, in <module>\\n    qc = qasm2.loads(\\n  File \"/usr/local/lib/python3.10/site-packages/qiskit/qasm2/__init__.py\", line 587, in loads\\n    return _parse.from_bytecode(\\n  File \"/usr/local/lib/python3.10/site-packages/qiskit/qasm2/parse.py\", line 214, in from_bytecode\\n    for op in bc:\\nqiskit.qasm2.exceptions.QASM2ParseError: \"<input>:5,2: \\'reg_1_q\\' is not defined in this scope\"\\n'\n",
      "Failed to execute to_execute.py in Docker.\n",
      "Output: Saved the Pytket circuit to /workspace/to_execute_qc_pytket.qasm\n",
      "Saved the Qiskit circuit to /workspace/to_execute_qc_qiskit.qasm\n",
      "Exported QASM files: [('/workspace/to_execute_qc_pytket.qasm', 'export_to_qasm_with_pytket'), ('/workspace/to_execute_qc_qiskit.qasm', 'export_to_qasm_with_qiskit')]\n",
      "Log has been saved to /workspace/to_execute_608f83_error.json\n",
      "\n",
      "Program to_execute.py executed successfully.\n",
      "New exception message: The circuits are not equivalent: /workspace/to_execute_qc_pytket.qasm, /workspace/to_execute_qc_qiskit.qasm\n",
      "Error parsing: Command 'python /workspace/to_execute.py' in image 'qiskit_runner' returned non-zero exit status 1: b'  File \"/workspace/to_execute.py\", line 18\\n    , custom_instructions=qasm2.LEGACY_CUSTOM_INSTRUCTIONS)\\n                                                          ^\\nSyntaxError: unmatched \\')\\'\\n'\n",
      "Failed to execute to_execute.py in Docker.\n",
      "Error parsing: Command 'python /workspace/to_execute.py' in image 'qiskit_runner' returned non-zero exit status 1: b'Traceback (most recent call last):\\n  File \"/workspace/to_execute.py\", line 10, in <module>\\n    qc = qasm2.loads(\\n  File \"/usr/local/lib/python3.10/site-packages/qiskit/qasm2/__init__.py\", line 587, in loads\\n    return _parse.from_bytecode(\\n  File \"/usr/local/lib/python3.10/site-packages/qiskit/qasm2/parse.py\", line 214, in from_bytecode\\n    for op in bc:\\nqiskit.qasm2.exceptions.QASM2ParseError: \"<input>:4,3: \\'reg_2_a\\' is not defined in this scope\"\\n'\n",
      "Failed to execute to_execute.py in Docker.\n",
      "Error parsing: Command 'python /workspace/to_execute.py' in image 'qiskit_runner' returned non-zero exit status 1: b'  File \"/workspace/to_execute.py\", line 10\\n    qc = qasm2.loads(\\n                    ^\\nSyntaxError: \\'(\\' was never closed\\n'\n",
      "Failed to execute to_execute.py in Docker.\n",
      "Error parsing: Command 'python /workspace/to_execute.py' in image 'qiskit_runner' returned non-zero exit status 1: b'  File \"/workspace/to_execute.py\", line 20\\n    , custom_instructions=qasm2.LEGACY_CUSTOM_INSTRUCTIONS)\\n                                                          ^\\nSyntaxError: unmatched \\')\\'\\n'\n",
      "Failed to execute to_execute.py in Docker.\n",
      "Error parsing: Command 'python /workspace/to_execute.py' in image 'qiskit_runner' returned non-zero exit status 1: b'Traceback (most recent call last):\\n  File \"/workspace/to_execute.py\", line 10, in <module>\\n    qc = qasm2.loads(\\n  File \"/usr/local/lib/python3.10/site-packages/qiskit/qasm2/__init__.py\", line 587, in loads\\n    return _parse.from_bytecode(\\n  File \"/usr/local/lib/python3.10/site-packages/qiskit/qasm2/parse.py\", line 214, in from_bytecode\\n    for op in bc:\\nqiskit.qasm2.exceptions.QASM2ParseError: \"<input>:7,0: cannot use non-builtin custom instruction \\'cx\\' before definition\"\\n'\n",
      "Failed to execute to_execute.py in Docker.\n",
      "Error parsing: Command 'python /workspace/to_execute.py' in image 'qiskit_runner' returned non-zero exit status 1: b'Traceback (most recent call last):\\n  File \"/workspace/to_execute.py\", line 10, in <module>\\n    qc = qasm2.loads(\\n  File \"/usr/local/lib/python3.10/site-packages/qiskit/qasm2/__init__.py\", line 587, in loads\\n    return _parse.from_bytecode(\\n  File \"/usr/local/lib/python3.10/site-packages/qiskit/qasm2/parse.py\", line 214, in from_bytecode\\n    for op in bc:\\nqiskit.qasm2.exceptions.QASM2ParseError: \"<input>:6,3: \\'reg_2_a\\' is not defined in this scope\"\\n'\n",
      "Failed to execute to_execute.py in Docker.\n",
      "Error parsing: Command 'python /workspace/to_execute.py' in image 'qiskit_runner' returned non-zero exit status 1: b'Traceback (most recent call last):\\n  File \"/workspace/to_execute.py\", line 10, in <module>\\n    qc = qasm2.loads(\\n  File \"/usr/local/lib/python3.10/site-packages/qiskit/qasm2/__init__.py\", line 587, in loads\\n    return _parse.from_bytecode(\\n  File \"/usr/local/lib/python3.10/site-packages/qiskit/qasm2/parse.py\", line 214, in from_bytecode\\n    for op in bc:\\nqiskit.qasm2.exceptions.QASM2ParseError: \"<input>:7,14: \\'reg_2_b\\' is not defined in this scope\"\\n'\n",
      "Failed to execute to_execute.py in Docker.\n",
      "Output: Saved the Pytket circuit to /workspace/to_execute_qc_pytket.qasm\n",
      "Saved the Qiskit circuit to /workspace/to_execute_qc_qiskit.qasm\n",
      "Exported QASM files: [('/workspace/to_execute_qc_pytket.qasm', 'export_to_qasm_with_pytket'), ('/workspace/to_execute_qc_qiskit.qasm', 'export_to_qasm_with_qiskit')]\n",
      "The circuits are equivalent: /workspace/to_execute_qc_pytket.qasm, /workspace/to_execute_qc_qiskit.qasm\n",
      "\n",
      "Program to_execute.py executed successfully.\n",
      "Error parsing: Command 'python /workspace/to_execute.py' in image 'qiskit_runner' returned non-zero exit status 1: b'  File \"/workspace/to_execute.py\", line 10\\n    qc = qasm2.loads(\\n                    ^\\nSyntaxError: \\'(\\' was never closed\\n'\n",
      "Failed to execute to_execute.py in Docker.\n",
      "Error parsing: Command 'python /workspace/to_execute.py' in image 'qiskit_runner' returned non-zero exit status 1: b'  File \"/workspace/to_execute.py\", line 23\\n    , custom_instructions=qasm2.LEGACY_CUSTOM_INSTRUCTIONS)\\nIndentationError: unexpected indent\\n'\n",
      "Failed to execute to_execute.py in Docker.\n",
      "Output: Saved the Pytket circuit to /workspace/to_execute_qc_pytket.qasm\n",
      "Saved the Qiskit circuit to /workspace/to_execute_qc_qiskit.qasm\n",
      "Exported QASM files: [('/workspace/to_execute_qc_pytket.qasm', 'export_to_qasm_with_pytket'), ('/workspace/to_execute_qc_qiskit.qasm', 'export_to_qasm_with_qiskit')]\n",
      "Log has been saved to /workspace/to_execute_887cae_error.json\n",
      "\n",
      "Program to_execute.py executed successfully.\n",
      "New exception message: The circuits are not equivalent: /workspace/to_execute_qc_pytket.qasm, /workspace/to_execute_qc_qiskit.qasm\n",
      "Error parsing: Command 'python /workspace/to_execute.py' in image 'qiskit_runner' returned non-zero exit status 1: b'  File \"/workspace/to_execute.py\", line 22\\n    , custom_instructions=qasm2.LEGACY_CUSTOM_INSTRUCTIONS)\\nIndentationError: unexpected indent\\n'\n",
      "Failed to execute to_execute.py in Docker.\n",
      "Error parsing: Command 'python /workspace/to_execute.py' in image 'qiskit_runner' returned non-zero exit status 1: b'  File \"/workspace/to_execute.py\", line 11\\n    OPENQASM 2.0;\\n    ^^^^^^^^^^^^\\nSyntaxError: invalid syntax. Perhaps you forgot a comma?\\n'\n",
      "Failed to execute to_execute.py in Docker.\n",
      "Output: Saved the Pytket circuit to /workspace/to_execute_qc_pytket.qasm\n",
      "Saved the Qiskit circuit to /workspace/to_execute_qc_qiskit.qasm\n",
      "Exported QASM files: [('/workspace/to_execute_qc_pytket.qasm', 'export_to_qasm_with_pytket'), ('/workspace/to_execute_qc_qiskit.qasm', 'export_to_qasm_with_qiskit')]\n",
      "Log has been saved to /workspace/to_execute_2caee7_error.json\n",
      "\n",
      "Program to_execute.py executed successfully.\n",
      "New exception message: The circuits are not equivalent: /workspace/to_execute_qc_pytket.qasm, /workspace/to_execute_qc_qiskit.qasm\n",
      "Error parsing: Command 'python /workspace/to_execute.py' in image 'qiskit_runner' returned non-zero exit status 1: b'  File \"/workspace/to_execute.py\", line 21\\n    , custom_instructions=qasm2.LEGACY_CUSTOM_INSTRUCTIONS)\\nIndentationError: unexpected indent\\n'\n",
      "Failed to execute to_execute.py in Docker.\n",
      "Error parsing: Command 'python /workspace/to_execute.py' in image 'qiskit_runner' returned non-zero exit status 1: b'  File \"/workspace/to_execute.py\", line 11\\n    include \"qelib1.inc\";\\n            ^^^^^^^^^^^^\\nSyntaxError: invalid syntax\\n'\n",
      "Failed to execute to_execute.py in Docker.\n",
      "Error parsing: Command 'python /workspace/to_execute.py' in image 'qiskit_runner' returned non-zero exit status 1: b'Traceback (most recent call last):\\n  File \"/workspace/to_execute.py\", line 10, in <module>\\n    qc = qasm2.loads(\\n  File \"/usr/local/lib/python3.10/site-packages/qiskit/qasm2/__init__.py\", line 587, in loads\\n    return _parse.from_bytecode(\\n  File \"/usr/local/lib/python3.10/site-packages/qiskit/qasm2/parse.py\", line 214, in from_bytecode\\n    for op in bc:\\nqiskit.qasm2.exceptions.QASM2ParseError: \"<input>:7,0: cannot use non-builtin custom instruction \\'cx\\' before definition\"\\n'\n",
      "Failed to execute to_execute.py in Docker.\n",
      "Output: Saved the Pytket circuit to /workspace/to_execute_qc_pytket.qasm\n",
      "Saved the Qiskit circuit to /workspace/to_execute_qc_qiskit.qasm\n",
      "Exported QASM files: [('/workspace/to_execute_qc_pytket.qasm', 'export_to_qasm_with_pytket'), ('/workspace/to_execute_qc_qiskit.qasm', 'export_to_qasm_with_qiskit')]\n",
      "Log has been saved to /workspace/to_execute_2f0673_error.json\n",
      "\n",
      "Program to_execute.py executed successfully.\n",
      "New exception message: The circuits are not equivalent: /workspace/to_execute_qc_pytket.qasm, /workspace/to_execute_qc_qiskit.qasm\n",
      "Error parsing: Command 'python /workspace/to_execute.py' in image 'qiskit_runner' returned non-zero exit status 1: b'  File \"/workspace/to_execute.py\", line 20\\n    , custom_instructions=qasm2.LEGACY_CUSTOM_INSTRUCTIONS)\\nIndentationError: unexpected indent\\n'\n",
      "Failed to execute to_execute.py in Docker.\n",
      "Error parsing: Command 'python /workspace/to_execute.py' in image 'qiskit_runner' returned non-zero exit status 1: b'  File \"/workspace/to_execute.py\", line 11\\n    include \"qelib1.inc\";\\n            ^^^^^^^^^^^^\\nSyntaxError: invalid syntax\\n'\n",
      "Failed to execute to_execute.py in Docker.\n",
      "Error parsing: Command 'python /workspace/to_execute.py' in image 'qiskit_runner' returned non-zero exit status 1: b'Traceback (most recent call last):\\n  File \"/workspace/to_execute.py\", line 10, in <module>\\n    qc = qasm2.loads(\\n  File \"/usr/local/lib/python3.10/site-packages/qiskit/qasm2/__init__.py\", line 587, in loads\\n    return _parse.from_bytecode(\\n  File \"/usr/local/lib/python3.10/site-packages/qiskit/qasm2/parse.py\", line 214, in from_bytecode\\n    for op in bc:\\nqiskit.qasm2.exceptions.QASM2ParseError: \"<input>:6,0: cannot use non-builtin custom instruction \\'cx\\' before definition\"\\n'\n",
      "Failed to execute to_execute.py in Docker.\n",
      "Error parsing: Command 'python /workspace/to_execute.py' in image 'qiskit_runner' returned non-zero exit status 1: b'Traceback (most recent call last):\\n  File \"/workspace/to_execute.py\", line 10, in <module>\\n    qc = qasm2.loads(\\n  File \"/usr/local/lib/python3.10/site-packages/qiskit/qasm2/__init__.py\", line 587, in loads\\n    return _parse.from_bytecode(\\n  File \"/usr/local/lib/python3.10/site-packages/qiskit/qasm2/parse.py\", line 214, in from_bytecode\\n    for op in bc:\\nqiskit.qasm2.exceptions.QASM2ParseError: \"<input>:5,3: \\'reg_2_a\\' is not defined in this scope\"\\n'\n",
      "Failed to execute to_execute.py in Docker.\n",
      "Error parsing: Command 'python /workspace/to_execute.py' in image 'qiskit_runner' returned non-zero exit status 1: b'Traceback (most recent call last):\\n  File \"/workspace/to_execute.py\", line 10, in <module>\\n    qc = qasm2.loads(\\n  File \"/usr/local/lib/python3.10/site-packages/qiskit/qasm2/__init__.py\", line 587, in loads\\n    return _parse.from_bytecode(\\n  File \"/usr/local/lib/python3.10/site-packages/qiskit/qasm2/parse.py\", line 214, in from_bytecode\\n    for op in bc:\\nqiskit.qasm2.exceptions.QASM2ParseError: \"<input>:6,14: \\'reg_2_b\\' is not defined in this scope\"\\n'\n",
      "Failed to execute to_execute.py in Docker.\n",
      "Output: Saved the Pytket circuit to /workspace/to_execute_qc_pytket.qasm\n",
      "Saved the Qiskit circuit to /workspace/to_execute_qc_qiskit.qasm\n",
      "Exported QASM files: [('/workspace/to_execute_qc_pytket.qasm', 'export_to_qasm_with_pytket'), ('/workspace/to_execute_qc_qiskit.qasm', 'export_to_qasm_with_qiskit')]\n",
      "Log has been saved to /workspace/to_execute_48e16c_error.json\n",
      "\n",
      "Program to_execute.py executed successfully.\n",
      "New exception message: The circuits are not equivalent: /workspace/to_execute_qc_pytket.qasm, /workspace/to_execute_qc_qiskit.qasm\n",
      "Error parsing: Command 'python /workspace/to_execute.py' in image 'qiskit_runner' returned non-zero exit status 1: b'  File \"/workspace/to_execute.py\", line 18\\n    , custom_instructions=qasm2.LEGACY_CUSTOM_INSTRUCTIONS)\\nIndentationError: unexpected indent\\n'\n",
      "Failed to execute to_execute.py in Docker.\n",
      "Error parsing: Command 'python /workspace/to_execute.py' in image 'qiskit_runner' returned non-zero exit status 1: b'  File \"/workspace/to_execute.py\", line 11\\n    include \"qelib1.inc\";\\n            ^^^^^^^^^^^^\\nSyntaxError: invalid syntax\\n'\n",
      "Failed to execute to_execute.py in Docker.\n",
      "Error parsing: Command 'python /workspace/to_execute.py' in image 'qiskit_runner' returned non-zero exit status 1: b'Traceback (most recent call last):\\n  File \"/workspace/to_execute.py\", line 10, in <module>\\n    qc = qasm2.loads(\\n  File \"/usr/local/lib/python3.10/site-packages/qiskit/qasm2/__init__.py\", line 587, in loads\\n    return _parse.from_bytecode(\\n  File \"/usr/local/lib/python3.10/site-packages/qiskit/qasm2/parse.py\", line 214, in from_bytecode\\n    for op in bc:\\nqiskit.qasm2.exceptions.QASM2ParseError: \"<input>:5,0: cannot use non-builtin custom instruction \\'cx\\' before definition\"\\n'\n",
      "Failed to execute to_execute.py in Docker.\n",
      "Error parsing: Command 'python /workspace/to_execute.py' in image 'qiskit_runner' returned non-zero exit status 1: b'Traceback (most recent call last):\\n  File \"/workspace/to_execute.py\", line 10, in <module>\\n    qc = qasm2.loads(\\n  File \"/usr/local/lib/python3.10/site-packages/qiskit/qasm2/__init__.py\", line 587, in loads\\n    return _parse.from_bytecode(\\n  File \"/usr/local/lib/python3.10/site-packages/qiskit/qasm2/parse.py\", line 214, in from_bytecode\\n    for op in bc:\\nqiskit.qasm2.exceptions.QASM2ParseError: \"<input>:5,14: \\'reg_2_cin\\' is not defined in this scope\"\\n'\n",
      "Failed to execute to_execute.py in Docker.\n",
      "Error parsing: Command 'python /workspace/to_execute.py' in image 'qiskit_runner' returned non-zero exit status 1: b'Traceback (most recent call last):\\n  File \"/workspace/to_execute.py\", line 10, in <module>\\n    qc = qasm2.loads(\\n  File \"/usr/local/lib/python3.10/site-packages/qiskit/qasm2/__init__.py\", line 587, in loads\\n    return _parse.from_bytecode(\\n  File \"/usr/local/lib/python3.10/site-packages/qiskit/qasm2/parse.py\", line 214, in from_bytecode\\n    for op in bc:\\nqiskit.qasm2.exceptions.QASM2ParseError: \"<input>:4,3: \\'reg_2_a\\' is not defined in this scope\"\\n'\n",
      "Failed to execute to_execute.py in Docker.\n",
      "Output: Saved the Pytket circuit to /workspace/to_execute_qc_pytket.qasm\n",
      "Saved the Qiskit circuit to /workspace/to_execute_qc_qiskit.qasm\n",
      "Exported QASM files: [('/workspace/to_execute_qc_pytket.qasm', 'export_to_qasm_with_pytket'), ('/workspace/to_execute_qc_qiskit.qasm', 'export_to_qasm_with_qiskit')]\n",
      "Log has been saved to /workspace/to_execute_8b1205_error.json\n",
      "\n",
      "Program to_execute.py executed successfully.\n",
      "New exception message: The circuits are not equivalent: /workspace/to_execute_qc_pytket.qasm, /workspace/to_execute_qc_qiskit.qasm\n",
      "Error parsing: Command 'python /workspace/to_execute.py' in image 'qiskit_runner' returned non-zero exit status 1: b'  File \"/workspace/to_execute.py\", line 17\\n    , custom_instructions=qasm2.LEGACY_CUSTOM_INSTRUCTIONS)\\nIndentationError: unexpected indent\\n'\n",
      "Failed to execute to_execute.py in Docker.\n",
      "Error parsing: Command 'python /workspace/to_execute.py' in image 'qiskit_runner' returned non-zero exit status 1: b'  File \"/workspace/to_execute.py\", line 11\\n    include \"qelib1.inc\";\\n            ^^^^^^^^^^^^\\nSyntaxError: invalid syntax\\n'\n",
      "Failed to execute to_execute.py in Docker.\n",
      "Error parsing: Command 'python /workspace/to_execute.py' in image 'qiskit_runner' returned non-zero exit status 1: b'Traceback (most recent call last):\\n  File \"/workspace/to_execute.py\", line 10, in <module>\\n    qc = qasm2.loads(\\n  File \"/usr/local/lib/python3.10/site-packages/qiskit/qasm2/__init__.py\", line 587, in loads\\n    return _parse.from_bytecode(\\n  File \"/usr/local/lib/python3.10/site-packages/qiskit/qasm2/parse.py\", line 214, in from_bytecode\\n    for op in bc:\\nqiskit.qasm2.exceptions.QASM2ParseError: \"<input>:5,0: cannot use non-builtin custom instruction \\'ccx\\' before definition\"\\n'\n",
      "Failed to execute to_execute.py in Docker.\n",
      "Error parsing: Command 'python /workspace/to_execute.py' in image 'qiskit_runner' returned non-zero exit status 1: b'Traceback (most recent call last):\\n  File \"/workspace/to_execute.py\", line 10, in <module>\\n    qc = qasm2.loads(\\n  File \"/usr/local/lib/python3.10/site-packages/qiskit/qasm2/__init__.py\", line 587, in loads\\n    return _parse.from_bytecode(\\n  File \"/usr/local/lib/python3.10/site-packages/qiskit/qasm2/parse.py\", line 214, in from_bytecode\\n    for op in bc:\\nqiskit.qasm2.exceptions.QASM2ParseError: \"<input>:4,4: \\'reg_2_cin\\' is not defined in this scope\"\\n'\n",
      "Failed to execute to_execute.py in Docker.\n",
      "Error parsing: Command 'python /workspace/to_execute.py' in image 'qiskit_runner' returned non-zero exit status 1: b'Traceback (most recent call last):\\n  File \"/workspace/to_execute.py\", line 10, in <module>\\n    qc = qasm2.loads(\\n  File \"/usr/local/lib/python3.10/site-packages/qiskit/qasm2/__init__.py\", line 587, in loads\\n    return _parse.from_bytecode(\\n  File \"/usr/local/lib/python3.10/site-packages/qiskit/qasm2/parse.py\", line 214, in from_bytecode\\n    for op in bc:\\nqiskit.qasm2.exceptions.QASM2ParseError: \"<input>:5,17: \\'reg_2_b\\' is not defined in this scope\"\\n'\n",
      "Failed to execute to_execute.py in Docker.\n",
      "Error parsing: Command 'python /workspace/to_execute.py' in image 'qiskit_runner' returned non-zero exit status 1: b'  File \"/workspace/to_execute.py\", line 11\\n    include \"qelib1.inc\";\\n            ^^^^^^^^^^^^\\nSyntaxError: invalid syntax\\n'\n",
      "Failed to execute to_execute.py in Docker.\n",
      "Error parsing: Command 'python /workspace/to_execute.py' in image 'qiskit_runner' returned non-zero exit status 1: b'  File \"/workspace/to_execute.py\", line 10\\n    qc = qasm2.loads(\\n                    ^\\nSyntaxError: \\'(\\' was never closed\\n'\n",
      "Failed to execute to_execute.py in Docker.\n",
      "Error parsing: Command 'python /workspace/to_execute.py' in image 'qiskit_runner' returned non-zero exit status 1: b'  File \"/workspace/to_execute.py\", line 17\\n    , custom_instructions=qasm2.LEGACY_CUSTOM_INSTRUCTIONS)\\nIndentationError: unexpected indent\\n'\n",
      "Failed to execute to_execute.py in Docker.\n",
      "Error parsing: Command 'python /workspace/to_execute.py' in image 'qiskit_runner' returned non-zero exit status 1: b'  File \"/workspace/to_execute.py\", line 11\\n    include \"qelib1.inc\";\\n            ^^^^^^^^^^^^\\nSyntaxError: invalid syntax\\n'\n",
      "Failed to execute to_execute.py in Docker.\n",
      "Error parsing: Command 'python /workspace/to_execute.py' in image 'qiskit_runner' returned non-zero exit status 1: b'Traceback (most recent call last):\\n  File \"/workspace/to_execute.py\", line 10, in <module>\\n    qc = qasm2.loads(\\n  File \"/usr/local/lib/python3.10/site-packages/qiskit/qasm2/__init__.py\", line 587, in loads\\n    return _parse.from_bytecode(\\n  File \"/usr/local/lib/python3.10/site-packages/qiskit/qasm2/parse.py\", line 214, in from_bytecode\\n    for op in bc:\\nqiskit.qasm2.exceptions.QASM2ParseError: \"<input>:5,0: cannot use non-builtin custom instruction \\'ccx\\' before definition\"\\n'\n",
      "Failed to execute to_execute.py in Docker.\n",
      "Error parsing: Command 'python /workspace/to_execute.py' in image 'qiskit_runner' returned non-zero exit status 1: b'Traceback (most recent call last):\\n  File \"/workspace/to_execute.py\", line 10, in <module>\\n    qc = qasm2.loads(\\n  File \"/usr/local/lib/python3.10/site-packages/qiskit/qasm2/__init__.py\", line 587, in loads\\n    return _parse.from_bytecode(\\n  File \"/usr/local/lib/python3.10/site-packages/qiskit/qasm2/parse.py\", line 214, in from_bytecode\\n    for op in bc:\\nqiskit.qasm2.exceptions.QASM2ParseError: \"<input>:5,4: \\'reg_2_cin\\' is not defined in this scope\"\\n'\n",
      "Failed to execute to_execute.py in Docker.\n",
      "Error parsing: Command 'python /workspace/to_execute.py' in image 'qiskit_runner' returned non-zero exit status 1: b'Traceback (most recent call last):\\n  File \"/workspace/to_execute.py\", line 10, in <module>\\n    qc = qasm2.loads(\\n  File \"/usr/local/lib/python3.10/site-packages/qiskit/qasm2/__init__.py\", line 587, in loads\\n    return _parse.from_bytecode(\\n  File \"/usr/local/lib/python3.10/site-packages/qiskit/qasm2/parse.py\", line 214, in from_bytecode\\n    for op in bc:\\nqiskit.qasm2.exceptions.QASM2ParseError: \"<input>:5,28: \\'reg_2_a\\' is not defined in this scope\"\\n'\n",
      "Failed to execute to_execute.py in Docker.\n",
      "Error parsing: Command 'python /workspace/to_execute.py' in image 'qiskit_runner' returned non-zero exit status 1: b'Traceback (most recent call last):\\n  File \"/workspace/to_execute.py\", line 10, in <module>\\n    qc = qasm2.loads(\\n  File \"/usr/local/lib/python3.10/site-packages/qiskit/qasm2/__init__.py\", line 587, in loads\\n    return _parse.from_bytecode(\\n  File \"/usr/local/lib/python3.10/site-packages/qiskit/qasm2/parse.py\", line 214, in from_bytecode\\n    for op in bc:\\nqiskit.qasm2.exceptions.QASM2ParseError: \"<input>:5,17: \\'reg_2_b\\' is not defined in this scope\"\\n'\n",
      "Failed to execute to_execute.py in Docker.\n",
      "Output: Saved the Pytket circuit to /workspace/to_execute_qc_pytket.qasm\n",
      "Saved the Qiskit circuit to /workspace/to_execute_qc_qiskit.qasm\n",
      "Exported QASM files: [('/workspace/to_execute_qc_pytket.qasm', 'export_to_qasm_with_pytket'), ('/workspace/to_execute_qc_qiskit.qasm', 'export_to_qasm_with_qiskit')]\n",
      "The circuits are equivalent: /workspace/to_execute_qc_pytket.qasm, /workspace/to_execute_qc_qiskit.qasm\n",
      "\n",
      "Program to_execute.py executed successfully.\n",
      "Error parsing: Command 'python /workspace/to_execute.py' in image 'qiskit_runner' returned non-zero exit status 1: b'  File \"/workspace/to_execute.py\", line 11\\n    include \"qelib1.inc\";\\n            ^^^^^^^^^^^^\\nSyntaxError: invalid syntax\\n'\n",
      "Failed to execute to_execute.py in Docker.\n",
      "Error parsing: Command 'python /workspace/to_execute.py' in image 'qiskit_runner' returned non-zero exit status 1: b'  File \"/workspace/to_execute.py\", line 10\\n    qc = qasm2.loads(\\n                    ^\\nSyntaxError: \\'(\\' was never closed\\n'\n",
      "Failed to execute to_execute.py in Docker.\n"
     ]
    },
    {
     "data": {
      "text/html": [
       "<pre style=\"white-space:pre;overflow-x:auto;line-height:normal;font-family:Menlo,'DejaVu Sans Mono',consolas,'Courier New',monospace\"><span style=\"color: #7fbfbf; text-decoration-color: #7fbfbf\">[15:15:46] </span><span style=\"color: #008000; text-decoration-color: #008000\">Minimized file saved as:</span>                                                        <a href=\"file:///home/paltenmo/projects/crossplatform/analysis_and_reporting/ddmin_target_file.py\" target=\"_blank\"><span style=\"color: #7f7f7f; text-decoration-color: #7f7f7f\">ddmin_target_file.py</span></a><span style=\"color: #7f7f7f; text-decoration-color: #7f7f7f\">:</span><a href=\"file:///home/paltenmo/projects/crossplatform/analysis_and_reporting/ddmin_target_file.py#240\" target=\"_blank\"><span style=\"color: #7f7f7f; text-decoration-color: #7f7f7f\">240</span></a>\n",
       "<span style=\"color: #7fbfbf; text-decoration-color: #7fbfbf\">           </span>..<span style=\"color: #800080; text-decoration-color: #800080\">/reports/v009/2024_11_21__15_12/</span><span style=\"color: #ff00ff; text-decoration-color: #ff00ff\">qiskit_circuit_5q_10g_5399_c4b732_f59bef_erro</span> <span style=\"color: #7f7f7f; text-decoration-color: #7f7f7f\">                        </span>\n",
       "<span style=\"color: #7fbfbf; text-decoration-color: #7fbfbf\">           </span><span style=\"color: #ff00ff; text-decoration-color: #ff00ff\">r_min.py</span>                                                                        <span style=\"color: #7f7f7f; text-decoration-color: #7f7f7f\">                        </span>\n",
       "</pre>\n"
      ],
      "text/plain": [
       "\u001b[2;36m[15:15:46]\u001b[0m\u001b[2;36m \u001b[0m\u001b[32mMinimized file saved as:\u001b[0m                                                        \u001b]8;id=979709;file:///home/paltenmo/projects/crossplatform/analysis_and_reporting/ddmin_target_file.py\u001b\\\u001b[2mddmin_target_file.py\u001b[0m\u001b]8;;\u001b\\\u001b[2m:\u001b[0m\u001b]8;id=722071;file:///home/paltenmo/projects/crossplatform/analysis_and_reporting/ddmin_target_file.py#240\u001b\\\u001b[2m240\u001b[0m\u001b]8;;\u001b\\\n",
       "\u001b[2;36m           \u001b[0m..\u001b[35m/reports/v009/2024_11_21__15_12/\u001b[0m\u001b[95mqiskit_circuit_5q_10g_5399_c4b732_f59bef_erro\u001b[0m \u001b[2m                        \u001b[0m\n",
       "\u001b[2;36m           \u001b[0m\u001b[95mr_min.py\u001b[0m                                                                        \u001b[2m                        \u001b[0m\n"
      ]
     },
     "metadata": {},
     "output_type": "display_data"
    },
    {
     "name": "stdout",
     "output_type": "stream",
     "text": [
      "Output: Saved the Pytket circuit to /workspace/qiskit_circuit_5q_10g_5399_c4b732_f59bef_error_min_qc_pytket.qasm\n",
      "Saved the Qiskit circuit to /workspace/qiskit_circuit_5q_10g_5399_c4b732_f59bef_error_min_qc_qiskit.qasm\n",
      "Exported QASM files: [('/workspace/qiskit_circuit_5q_10g_5399_c4b732_f59bef_error_min_qc_pytket.qasm', 'export_to_qasm_with_pytket'), ('/workspace/qiskit_circuit_5q_10g_5399_c4b732_f59bef_error_min_qc_qiskit.qasm', 'export_to_qasm_with_qiskit')]\n",
      "Log has been saved to /workspace/qiskit_circuit_5q_10g_5399_c4b732_f59bef_error_min_ecf2b2_error.json\n",
      "\n"
     ]
    },
    {
     "data": {
      "text/html": [
       "<pre style=\"white-space:pre;overflow-x:auto;line-height:normal;font-family:Menlo,'DejaVu Sans Mono',consolas,'Courier New',monospace\"><span style=\"color: #7fbfbf; text-decoration-color: #7fbfbf\">[15:15:53] </span>Program qiskit_circuit_5q_10g_5399_c4b732_f59bef_error_min.py executed              <a href=\"file:///home/paltenmo/projects/crossplatform/generators/docker_tooling.py\" target=\"_blank\"><span style=\"color: #7f7f7f; text-decoration-color: #7f7f7f\">docker_tooling.py</span></a><span style=\"color: #7f7f7f; text-decoration-color: #7f7f7f\">:</span><a href=\"file:///home/paltenmo/projects/crossplatform/generators/docker_tooling.py#46\" target=\"_blank\"><span style=\"color: #7f7f7f; text-decoration-color: #7f7f7f\">46</span></a>\n",
       "<span style=\"color: #7fbfbf; text-decoration-color: #7fbfbf\">           </span>successfully.                                                                       <span style=\"color: #7f7f7f; text-decoration-color: #7f7f7f\">                    </span>\n",
       "</pre>\n"
      ],
      "text/plain": [
       "\u001b[2;36m[15:15:53]\u001b[0m\u001b[2;36m \u001b[0mProgram qiskit_circuit_5q_10g_5399_c4b732_f59bef_error_min.py executed              \u001b]8;id=874944;file:///home/paltenmo/projects/crossplatform/generators/docker_tooling.py\u001b\\\u001b[2mdocker_tooling.py\u001b[0m\u001b]8;;\u001b\\\u001b[2m:\u001b[0m\u001b]8;id=661643;file:///home/paltenmo/projects/crossplatform/generators/docker_tooling.py#46\u001b\\\u001b[2m46\u001b[0m\u001b]8;;\u001b\\\n",
       "\u001b[2;36m           \u001b[0msuccessfully.                                                                       \u001b[2m                    \u001b[0m\n"
      ]
     },
     "metadata": {},
     "output_type": "display_data"
    },
    {
     "data": {
      "application/vnd.jupyter.widget-view+json": {
       "model_id": "7b1763ff191e45be89c6aa8bddf138a2",
       "version_major": 2,
       "version_minor": 0
      },
      "text/plain": [
       "Executing:   0%|          | 0/13 [00:00<?, ?cell/s]"
      ]
     },
     "metadata": {},
     "output_type": "display_data"
    },
    {
     "data": {
      "text/html": [
       "<pre style=\"white-space:pre;overflow-x:auto;line-height:normal;font-family:Menlo,'DejaVu Sans Mono',consolas,'Courier New',monospace\"><span style=\"color: #7fbfbf; text-decoration-color: #7fbfbf\">[15:15:56] </span>Analysis notebook executed: ..<span style=\"color: #800080; text-decoration-color: #800080\">/reports/v009/2024_11_21__15_12/</span><span style=\"color: #ff00ff; text-decoration-color: #ff00ff\">analysis_output.ipynb</span>        <a href=\"file:///home/paltenmo/projects/crossplatform/analysis_and_reporting/triage.py\" target=\"_blank\"><span style=\"color: #7f7f7f; text-decoration-color: #7f7f7f\">triage.py</span></a><span style=\"color: #7f7f7f; text-decoration-color: #7f7f7f\">:</span><a href=\"file:///home/paltenmo/projects/crossplatform/analysis_and_reporting/triage.py#163\" target=\"_blank\"><span style=\"color: #7f7f7f; text-decoration-color: #7f7f7f\">163</span></a>\n",
       "</pre>\n"
      ],
      "text/plain": [
       "\u001b[2;36m[15:15:56]\u001b[0m\u001b[2;36m \u001b[0mAnalysis notebook executed: ..\u001b[35m/reports/v009/2024_11_21__15_12/\u001b[0m\u001b[95manalysis_output.ipynb\u001b[0m        \u001b]8;id=117710;file:///home/paltenmo/projects/crossplatform/analysis_and_reporting/triage.py\u001b\\\u001b[2mtriage.py\u001b[0m\u001b]8;;\u001b\\\u001b[2m:\u001b[0m\u001b]8;id=465129;file:///home/paltenmo/projects/crossplatform/analysis_and_reporting/triage.py#163\u001b\\\u001b[2m163\u001b[0m\u001b]8;;\u001b\\\n"
      ]
     },
     "metadata": {},
     "output_type": "display_data"
    },
    {
     "data": {
      "text/html": [
       "<pre style=\"white-space:pre;overflow-x:auto;line-height:normal;font-family:Menlo,'DejaVu Sans Mono',consolas,'Courier New',monospace\"><span style=\"color: #7fbfbf; text-decoration-color: #7fbfbf\">           </span>Created report folder: ..<span style=\"color: #800080; text-decoration-color: #800080\">/reports/v009/</span><span style=\"color: #ff00ff; text-decoration-color: #ff00ff\">2024_11_21__15_15</span>                                   <a href=\"file:///home/paltenmo/projects/crossplatform/analysis_and_reporting/triage.py\" target=\"_blank\"><span style=\"color: #7f7f7f; text-decoration-color: #7f7f7f\">triage.py</span></a><span style=\"color: #7f7f7f; text-decoration-color: #7f7f7f\">:</span><a href=\"file:///home/paltenmo/projects/crossplatform/analysis_and_reporting/triage.py#131\" target=\"_blank\"><span style=\"color: #7f7f7f; text-decoration-color: #7f7f7f\">131</span></a>\n",
       "</pre>\n"
      ],
      "text/plain": [
       "\u001b[2;36m          \u001b[0m\u001b[2;36m \u001b[0mCreated report folder: ..\u001b[35m/reports/v009/\u001b[0m\u001b[95m2024_11_21__15_15\u001b[0m                                   \u001b]8;id=102550;file:///home/paltenmo/projects/crossplatform/analysis_and_reporting/triage.py\u001b\\\u001b[2mtriage.py\u001b[0m\u001b]8;;\u001b\\\u001b[2m:\u001b[0m\u001b]8;id=719536;file:///home/paltenmo/projects/crossplatform/analysis_and_reporting/triage.py#131\u001b\\\u001b[2m131\u001b[0m\u001b]8;;\u001b\\\n"
      ]
     },
     "metadata": {},
     "output_type": "display_data"
    },
    {
     "data": {
      "text/html": [
       "<pre style=\"white-space:pre;overflow-x:auto;line-height:normal;font-family:Menlo,'DejaVu Sans Mono',consolas,'Courier New',monospace\"><span style=\"color: #7fbfbf; text-decoration-color: #7fbfbf\">           </span>Copied files to: ..<span style=\"color: #800080; text-decoration-color: #800080\">/reports/v009/</span><span style=\"color: #ff00ff; text-decoration-color: #ff00ff\">2024_11_21__15_15</span>                                         <a href=\"file:///home/paltenmo/projects/crossplatform/analysis_and_reporting/triage.py\" target=\"_blank\"><span style=\"color: #7f7f7f; text-decoration-color: #7f7f7f\">triage.py</span></a><span style=\"color: #7f7f7f; text-decoration-color: #7f7f7f\">:</span><a href=\"file:///home/paltenmo/projects/crossplatform/analysis_and_reporting/triage.py#140\" target=\"_blank\"><span style=\"color: #7f7f7f; text-decoration-color: #7f7f7f\">140</span></a>\n",
       "</pre>\n"
      ],
      "text/plain": [
       "\u001b[2;36m          \u001b[0m\u001b[2;36m \u001b[0mCopied files to: ..\u001b[35m/reports/v009/\u001b[0m\u001b[95m2024_11_21__15_15\u001b[0m                                         \u001b]8;id=254451;file:///home/paltenmo/projects/crossplatform/analysis_and_reporting/triage.py\u001b\\\u001b[2mtriage.py\u001b[0m\u001b]8;;\u001b\\\u001b[2m:\u001b[0m\u001b]8;id=924520;file:///home/paltenmo/projects/crossplatform/analysis_and_reporting/triage.py#140\u001b\\\u001b[2m140\u001b[0m\u001b]8;;\u001b\\\n"
      ]
     },
     "metadata": {},
     "output_type": "display_data"
    },
    {
     "data": {
      "text/html": [
       "<pre style=\"white-space:pre;overflow-x:auto;line-height:normal;font-family:Menlo,'DejaVu Sans Mono',consolas,'Courier New',monospace\"><span style=\"color: #7fbfbf; text-decoration-color: #7fbfbf\">[15:15:56] </span>Involved functions:                                                             <a href=\"file:///home/paltenmo/projects/crossplatform/analysis_and_reporting/ddmin_target_file.py\" target=\"_blank\"><span style=\"color: #7f7f7f; text-decoration-color: #7f7f7f\">ddmin_target_file.py</span></a><span style=\"color: #7f7f7f; text-decoration-color: #7f7f7f\">:</span><a href=\"file:///home/paltenmo/projects/crossplatform/analysis_and_reporting/ddmin_target_file.py#206\" target=\"_blank\"><span style=\"color: #7f7f7f; text-decoration-color: #7f7f7f\">206</span></a>\n",
       "</pre>\n"
      ],
      "text/plain": [
       "\u001b[2;36m[15:15:56]\u001b[0m\u001b[2;36m \u001b[0mInvolved functions:                                                             \u001b]8;id=157722;file:///home/paltenmo/projects/crossplatform/analysis_and_reporting/ddmin_target_file.py\u001b\\\u001b[2mddmin_target_file.py\u001b[0m\u001b]8;;\u001b\\\u001b[2m:\u001b[0m\u001b]8;id=705551;file:///home/paltenmo/projects/crossplatform/analysis_and_reporting/ddmin_target_file.py#206\u001b\\\u001b[2m206\u001b[0m\u001b]8;;\u001b\\\n"
      ]
     },
     "metadata": {},
     "output_type": "display_data"
    },
    {
     "data": {
      "text/html": [
       "<pre style=\"white-space:pre;overflow-x:auto;line-height:normal;font-family:Menlo,'DejaVu Sans Mono',consolas,'Courier New',monospace\"><span style=\"color: #7fbfbf; text-decoration-color: #7fbfbf\">           </span>  - compare_qasm_via_qcec                                                       <a href=\"file:///home/paltenmo/projects/crossplatform/analysis_and_reporting/ddmin_target_file.py\" target=\"_blank\"><span style=\"color: #7f7f7f; text-decoration-color: #7f7f7f\">ddmin_target_file.py</span></a><span style=\"color: #7f7f7f; text-decoration-color: #7f7f7f\">:</span><a href=\"file:///home/paltenmo/projects/crossplatform/analysis_and_reporting/ddmin_target_file.py#208\" target=\"_blank\"><span style=\"color: #7f7f7f; text-decoration-color: #7f7f7f\">208</span></a>\n",
       "</pre>\n"
      ],
      "text/plain": [
       "\u001b[2;36m          \u001b[0m\u001b[2;36m \u001b[0m  - compare_qasm_via_qcec                                                       \u001b]8;id=791955;file:///home/paltenmo/projects/crossplatform/analysis_and_reporting/ddmin_target_file.py\u001b\\\u001b[2mddmin_target_file.py\u001b[0m\u001b]8;;\u001b\\\u001b[2m:\u001b[0m\u001b]8;id=608482;file:///home/paltenmo/projects/crossplatform/analysis_and_reporting/ddmin_target_file.py#208\u001b\\\u001b[2m208\u001b[0m\u001b]8;;\u001b\\\n"
      ]
     },
     "metadata": {},
     "output_type": "display_data"
    },
    {
     "data": {
      "text/html": [
       "<pre style=\"white-space:pre;overflow-x:auto;line-height:normal;font-family:Menlo,'DejaVu Sans Mono',consolas,'Courier New',monospace\"><span style=\"color: #7fbfbf; text-decoration-color: #7fbfbf\">           </span>  - export_to_qasm_with_bqskit                                                  <a href=\"file:///home/paltenmo/projects/crossplatform/analysis_and_reporting/ddmin_target_file.py\" target=\"_blank\"><span style=\"color: #7f7f7f; text-decoration-color: #7f7f7f\">ddmin_target_file.py</span></a><span style=\"color: #7f7f7f; text-decoration-color: #7f7f7f\">:</span><a href=\"file:///home/paltenmo/projects/crossplatform/analysis_and_reporting/ddmin_target_file.py#208\" target=\"_blank\"><span style=\"color: #7f7f7f; text-decoration-color: #7f7f7f\">208</span></a>\n",
       "</pre>\n"
      ],
      "text/plain": [
       "\u001b[2;36m          \u001b[0m\u001b[2;36m \u001b[0m  - export_to_qasm_with_bqskit                                                  \u001b]8;id=10425;file:///home/paltenmo/projects/crossplatform/analysis_and_reporting/ddmin_target_file.py\u001b\\\u001b[2mddmin_target_file.py\u001b[0m\u001b]8;;\u001b\\\u001b[2m:\u001b[0m\u001b]8;id=282882;file:///home/paltenmo/projects/crossplatform/analysis_and_reporting/ddmin_target_file.py#208\u001b\\\u001b[2m208\u001b[0m\u001b]8;;\u001b\\\n"
      ]
     },
     "metadata": {},
     "output_type": "display_data"
    },
    {
     "data": {
      "text/html": [
       "<pre style=\"white-space:pre;overflow-x:auto;line-height:normal;font-family:Menlo,'DejaVu Sans Mono',consolas,'Courier New',monospace\"><span style=\"color: #7fbfbf; text-decoration-color: #7fbfbf\">[15:15:57] </span>  - export_to_qasm_with_pytket                                                  <a href=\"file:///home/paltenmo/projects/crossplatform/analysis_and_reporting/ddmin_target_file.py\" target=\"_blank\"><span style=\"color: #7f7f7f; text-decoration-color: #7f7f7f\">ddmin_target_file.py</span></a><span style=\"color: #7f7f7f; text-decoration-color: #7f7f7f\">:</span><a href=\"file:///home/paltenmo/projects/crossplatform/analysis_and_reporting/ddmin_target_file.py#208\" target=\"_blank\"><span style=\"color: #7f7f7f; text-decoration-color: #7f7f7f\">208</span></a>\n",
       "</pre>\n"
      ],
      "text/plain": [
       "\u001b[2;36m[15:15:57]\u001b[0m\u001b[2;36m \u001b[0m  - export_to_qasm_with_pytket                                                  \u001b]8;id=550352;file:///home/paltenmo/projects/crossplatform/analysis_and_reporting/ddmin_target_file.py\u001b\\\u001b[2mddmin_target_file.py\u001b[0m\u001b]8;;\u001b\\\u001b[2m:\u001b[0m\u001b]8;id=158406;file:///home/paltenmo/projects/crossplatform/analysis_and_reporting/ddmin_target_file.py#208\u001b\\\u001b[2m208\u001b[0m\u001b]8;;\u001b\\\n"
      ]
     },
     "metadata": {},
     "output_type": "display_data"
    },
    {
     "name": "stdout",
     "output_type": "stream",
     "text": [
      "Error parsing: Command 'python /workspace/to_execute.py' in image 'qiskit_runner' returned non-zero exit status 1: b'Traceback (most recent call last):\\n  File \"/workspace/to_execute.py\", line 106, in <module>\\n    target_qc = qc\\nNameError: name \\'qc\\' is not defined\\n'\n",
      "Failed to execute to_execute.py in Docker.\n",
      "Output: Saved the BQSKit circuit to /workspace/to_execute_qc_bqskit.qasm\n",
      "Saved the Pytket circuit to /workspace/to_execute_qc_pytket.qasm\n",
      "Exported QASM files: [('/workspace/to_execute_qc_bqskit.qasm', 'export_to_qasm_with_bqskit'), ('/workspace/to_execute_qc_pytket.qasm', 'export_to_qasm_with_pytket')]\n",
      "Log has been saved to /workspace/to_execute_1be6f2_error.json\n",
      "\n",
      "Program to_execute.py executed successfully.\n",
      "New exception message: The circuits are not equivalent: /workspace/to_execute_qc_bqskit.qasm, /workspace/to_execute_qc_pytket.qasm\n",
      "Error parsing: Command 'python /workspace/to_execute.py' in image 'qiskit_runner' returned non-zero exit status 1: b'  File \"/workspace/to_execute.py\", line 20\\n    , custom_instructions=qasm2.LEGACY_CUSTOM_INSTRUCTIONS)\\n                                                          ^\\nSyntaxError: unmatched \\')\\'\\n'\n",
      "Failed to execute to_execute.py in Docker.\n",
      "Error parsing: Command 'python /workspace/to_execute.py' in image 'qiskit_runner' returned non-zero exit status 1: b'  File \"/workspace/to_execute.py\", line 10\\n    qc = qasm2.loads(\\n                    ^\\nSyntaxError: \\'(\\' was never closed\\n'\n",
      "Failed to execute to_execute.py in Docker.\n",
      "Error parsing: Command 'python /workspace/to_execute.py' in image 'qiskit_runner' returned non-zero exit status 1: b'  File \"/workspace/to_execute.py\", line 27\\n    , custom_instructions=qasm2.LEGACY_CUSTOM_INSTRUCTIONS)\\n                                                          ^\\nSyntaxError: unmatched \\')\\'\\n'\n",
      "Failed to execute to_execute.py in Docker.\n",
      "Error parsing: Command 'python /workspace/to_execute.py' in image 'qiskit_runner' returned non-zero exit status 1: b'Traceback (most recent call last):\\n  File \"/workspace/to_execute.py\", line 10, in <module>\\n    qc = qasm2.loads(\\n  File \"/usr/local/lib/python3.10/site-packages/qiskit/qasm2/__init__.py\", line 587, in loads\\n    return _parse.from_bytecode(\\n  File \"/usr/local/lib/python3.10/site-packages/qiskit/qasm2/parse.py\", line 214, in from_bytecode\\n    for op in bc:\\nqiskit.qasm2.exceptions.QASM2ParseError: \"<input>:6,3: \\'reg_2_a\\' is not defined in this scope\"\\n'\n",
      "Failed to execute to_execute.py in Docker.\n",
      "Output: Saved the BQSKit circuit to /workspace/to_execute_qc_bqskit.qasm\n",
      "Saved the Pytket circuit to /workspace/to_execute_qc_pytket.qasm\n",
      "Exported QASM files: [('/workspace/to_execute_qc_bqskit.qasm', 'export_to_qasm_with_bqskit'), ('/workspace/to_execute_qc_pytket.qasm', 'export_to_qasm_with_pytket')]\n",
      "Log has been saved to /workspace/to_execute_1b63f2_error.json\n",
      "\n",
      "Program to_execute.py executed successfully.\n",
      "New exception message: The circuits are not equivalent: /workspace/to_execute_qc_bqskit.qasm, /workspace/to_execute_qc_pytket.qasm\n",
      "Error parsing: Command 'python /workspace/to_execute.py' in image 'qiskit_runner' returned non-zero exit status 1: b'  File \"/workspace/to_execute.py\", line 19\\n    , custom_instructions=qasm2.LEGACY_CUSTOM_INSTRUCTIONS)\\n                                                          ^\\nSyntaxError: unmatched \\')\\'\\n'\n",
      "Failed to execute to_execute.py in Docker.\n",
      "Error parsing: Command 'python /workspace/to_execute.py' in image 'qiskit_runner' returned non-zero exit status 1: b'Traceback (most recent call last):\\n  File \"/workspace/to_execute.py\", line 10, in <module>\\n    qc = qasm2.loads(\\n  File \"/usr/local/lib/python3.10/site-packages/qiskit/qasm2/__init__.py\", line 587, in loads\\n    return _parse.from_bytecode(\\n  File \"/usr/local/lib/python3.10/site-packages/qiskit/qasm2/parse.py\", line 214, in from_bytecode\\n    for op in bc:\\nqiskit.qasm2.exceptions.QASM2ParseError: \"<input>:4,2: \\'reg_1_q\\' is not defined in this scope\"\\n'\n",
      "Failed to execute to_execute.py in Docker.\n",
      "Error parsing: Command 'python /workspace/to_execute.py' in image 'qiskit_runner' returned non-zero exit status 1: b'  File \"/workspace/to_execute.py\", line 10\\n    qc = qasm2.loads(\\n                    ^\\nSyntaxError: \\'(\\' was never closed\\n'\n",
      "Failed to execute to_execute.py in Docker.\n",
      "Error parsing: Command 'python /workspace/to_execute.py' in image 'qiskit_runner' returned non-zero exit status 1: b'  File \"/workspace/to_execute.py\", line 21\\n    , custom_instructions=qasm2.LEGACY_CUSTOM_INSTRUCTIONS)\\n                                                          ^\\nSyntaxError: unmatched \\')\\'\\n'\n",
      "Failed to execute to_execute.py in Docker.\n",
      "Error parsing: Command 'python /workspace/to_execute.py' in image 'qiskit_runner' returned non-zero exit status 1: b'Traceback (most recent call last):\\n  File \"/workspace/to_execute.py\", line 10, in <module>\\n    qc = qasm2.loads(\\n  File \"/usr/local/lib/python3.10/site-packages/qiskit/qasm2/__init__.py\", line 587, in loads\\n    return _parse.from_bytecode(\\n  File \"/usr/local/lib/python3.10/site-packages/qiskit/qasm2/parse.py\", line 214, in from_bytecode\\n    for op in bc:\\nqiskit.qasm2.exceptions.QASM2ParseError: \"<input>:6,0: cannot use non-builtin custom instruction \\'h\\' before definition\"\\n'\n",
      "Failed to execute to_execute.py in Docker.\n",
      "Error parsing: Command 'python /workspace/to_execute.py' in image 'qiskit_runner' returned non-zero exit status 1: b'Traceback (most recent call last):\\n  File \"/workspace/to_execute.py\", line 10, in <module>\\n    qc = qasm2.loads(\\n  File \"/usr/local/lib/python3.10/site-packages/qiskit/qasm2/__init__.py\", line 587, in loads\\n    return _parse.from_bytecode(\\n  File \"/usr/local/lib/python3.10/site-packages/qiskit/qasm2/parse.py\", line 214, in from_bytecode\\n    for op in bc:\\nqiskit.qasm2.exceptions.QASM2ParseError: \"<input>:8,3: \\'reg_2_a\\' is not defined in this scope\"\\n'\n",
      "Failed to execute to_execute.py in Docker.\n",
      "Error parsing: Command 'python /workspace/to_execute.py' in image 'qiskit_runner' returned non-zero exit status 1: b'Traceback (most recent call last):\\n  File \"/workspace/to_execute.py\", line 10, in <module>\\n    qc = qasm2.loads(\\n  File \"/usr/local/lib/python3.10/site-packages/qiskit/qasm2/__init__.py\", line 587, in loads\\n    return _parse.from_bytecode(\\n  File \"/usr/local/lib/python3.10/site-packages/qiskit/qasm2/parse.py\", line 214, in from_bytecode\\n    for op in bc:\\nqiskit.qasm2.exceptions.QASM2ParseError: \"<input>:9,14: \\'reg_2_cout\\' is not defined in this scope\"\\n'\n",
      "Failed to execute to_execute.py in Docker.\n",
      "Output: Saved the BQSKit circuit to /workspace/to_execute_qc_bqskit.qasm\n",
      "Saved the Pytket circuit to /workspace/to_execute_qc_pytket.qasm\n",
      "Exported QASM files: [('/workspace/to_execute_qc_bqskit.qasm', 'export_to_qasm_with_bqskit'), ('/workspace/to_execute_qc_pytket.qasm', 'export_to_qasm_with_pytket')]\n",
      "The circuits are equivalent: /workspace/to_execute_qc_bqskit.qasm, /workspace/to_execute_qc_pytket.qasm\n",
      "\n",
      "Program to_execute.py executed successfully.\n",
      "Error parsing: Command 'python /workspace/to_execute.py' in image 'qiskit_runner' returned non-zero exit status 1: b'  File \"/workspace/to_execute.py\", line 10\\n    qc = qasm2.loads(\\n                    ^\\nSyntaxError: \\'(\\' was never closed\\n'\n",
      "Failed to execute to_execute.py in Docker.\n",
      "Error parsing: Command 'python /workspace/to_execute.py' in image 'qiskit_runner' returned non-zero exit status 1: b'  File \"/workspace/to_execute.py\", line 24\\n    , custom_instructions=qasm2.LEGACY_CUSTOM_INSTRUCTIONS)\\nIndentationError: unexpected indent\\n'\n",
      "Failed to execute to_execute.py in Docker.\n",
      "Output: Saved the BQSKit circuit to /workspace/to_execute_qc_bqskit.qasm\n",
      "Saved the Pytket circuit to /workspace/to_execute_qc_pytket.qasm\n",
      "Exported QASM files: [('/workspace/to_execute_qc_bqskit.qasm', 'export_to_qasm_with_bqskit'), ('/workspace/to_execute_qc_pytket.qasm', 'export_to_qasm_with_pytket')]\n",
      "Log has been saved to /workspace/to_execute_0482e1_error.json\n",
      "\n",
      "Program to_execute.py executed successfully.\n",
      "New exception message: The circuits are not equivalent: /workspace/to_execute_qc_bqskit.qasm, /workspace/to_execute_qc_pytket.qasm\n",
      "Error parsing: Command 'python /workspace/to_execute.py' in image 'qiskit_runner' returned non-zero exit status 1: b'  File \"/workspace/to_execute.py\", line 23\\n    , custom_instructions=qasm2.LEGACY_CUSTOM_INSTRUCTIONS)\\nIndentationError: unexpected indent\\n'\n",
      "Failed to execute to_execute.py in Docker.\n",
      "Error parsing: Command 'python /workspace/to_execute.py' in image 'qiskit_runner' returned non-zero exit status 1: b'  File \"/workspace/to_execute.py\", line 11\\n    OPENQASM 2.0;\\n    ^^^^^^^^^^^^\\nSyntaxError: invalid syntax. Perhaps you forgot a comma?\\n'\n",
      "Failed to execute to_execute.py in Docker.\n",
      "Output: Saved the BQSKit circuit to /workspace/to_execute_qc_bqskit.qasm\n",
      "Saved the Pytket circuit to /workspace/to_execute_qc_pytket.qasm\n",
      "Exported QASM files: [('/workspace/to_execute_qc_bqskit.qasm', 'export_to_qasm_with_bqskit'), ('/workspace/to_execute_qc_pytket.qasm', 'export_to_qasm_with_pytket')]\n",
      "Log has been saved to /workspace/to_execute_616c19_error.json\n",
      "\n",
      "Program to_execute.py executed successfully.\n",
      "New exception message: The circuits are not equivalent: /workspace/to_execute_qc_bqskit.qasm, /workspace/to_execute_qc_pytket.qasm\n",
      "Error parsing: Command 'python /workspace/to_execute.py' in image 'qiskit_runner' returned non-zero exit status 1: b'  File \"/workspace/to_execute.py\", line 22\\n    , custom_instructions=qasm2.LEGACY_CUSTOM_INSTRUCTIONS)\\nIndentationError: unexpected indent\\n'\n",
      "Failed to execute to_execute.py in Docker.\n",
      "Error parsing: Command 'python /workspace/to_execute.py' in image 'qiskit_runner' returned non-zero exit status 1: b'  File \"/workspace/to_execute.py\", line 11\\n    include \"qelib1.inc\";\\n            ^^^^^^^^^^^^\\nSyntaxError: invalid syntax\\n'\n",
      "Failed to execute to_execute.py in Docker.\n",
      "Error parsing: Command 'python /workspace/to_execute.py' in image 'qiskit_runner' returned non-zero exit status 1: b'Traceback (most recent call last):\\n  File \"/workspace/to_execute.py\", line 10, in <module>\\n    qc = qasm2.loads(\\n  File \"/usr/local/lib/python3.10/site-packages/qiskit/qasm2/__init__.py\", line 587, in loads\\n    return _parse.from_bytecode(\\n  File \"/usr/local/lib/python3.10/site-packages/qiskit/qasm2/parse.py\", line 214, in from_bytecode\\n    for op in bc:\\nqiskit.qasm2.exceptions.QASM2ParseError: \"<input>:6,0: cannot use non-builtin custom instruction \\'h\\' before definition\"\\n'\n",
      "Failed to execute to_execute.py in Docker.\n",
      "Output: Saved the BQSKit circuit to /workspace/to_execute_qc_bqskit.qasm\n",
      "Saved the Pytket circuit to /workspace/to_execute_qc_pytket.qasm\n",
      "Exported QASM files: [('/workspace/to_execute_qc_bqskit.qasm', 'export_to_qasm_with_bqskit'), ('/workspace/to_execute_qc_pytket.qasm', 'export_to_qasm_with_pytket')]\n",
      "The circuits are equivalent: /workspace/to_execute_qc_bqskit.qasm, /workspace/to_execute_qc_pytket.qasm\n",
      "\n",
      "Program to_execute.py executed successfully.\n",
      "Error parsing: Command 'python /workspace/to_execute.py' in image 'qiskit_runner' returned non-zero exit status 1: b'Traceback (most recent call last):\\n  File \"/workspace/to_execute.py\", line 10, in <module>\\n    qc = qasm2.loads(\\n  File \"/usr/local/lib/python3.10/site-packages/qiskit/qasm2/__init__.py\", line 587, in loads\\n    return _parse.from_bytecode(\\n  File \"/usr/local/lib/python3.10/site-packages/qiskit/qasm2/parse.py\", line 214, in from_bytecode\\n    for op in bc:\\nqiskit.qasm2.exceptions.QASM2ParseError: \"<input>:8,3: \\'reg_2_a\\' is not defined in this scope\"\\n'\n",
      "Failed to execute to_execute.py in Docker.\n",
      "Error parsing: Command 'python /workspace/to_execute.py' in image 'qiskit_runner' returned non-zero exit status 1: b'Traceback (most recent call last):\\n  File \"/workspace/to_execute.py\", line 10, in <module>\\n    qc = qasm2.loads(\\n  File \"/usr/local/lib/python3.10/site-packages/qiskit/qasm2/__init__.py\", line 587, in loads\\n    return _parse.from_bytecode(\\n  File \"/usr/local/lib/python3.10/site-packages/qiskit/qasm2/parse.py\", line 214, in from_bytecode\\n    for op in bc:\\nqiskit.qasm2.exceptions.QASM2ParseError: \"<input>:9,14: \\'reg_2_cout\\' is not defined in this scope\"\\n'\n",
      "Failed to execute to_execute.py in Docker.\n",
      "Output: Saved the BQSKit circuit to /workspace/to_execute_qc_bqskit.qasm\n",
      "Saved the Pytket circuit to /workspace/to_execute_qc_pytket.qasm\n",
      "Exported QASM files: [('/workspace/to_execute_qc_bqskit.qasm', 'export_to_qasm_with_bqskit'), ('/workspace/to_execute_qc_pytket.qasm', 'export_to_qasm_with_pytket')]\n",
      "Log has been saved to /workspace/to_execute_cdd1ce_error.json\n",
      "\n",
      "Program to_execute.py executed successfully.\n",
      "New exception message: The circuits are not equivalent: /workspace/to_execute_qc_bqskit.qasm, /workspace/to_execute_qc_pytket.qasm\n",
      "Error parsing: Command 'python /workspace/to_execute.py' in image 'qiskit_runner' returned non-zero exit status 1: b'  File \"/workspace/to_execute.py\", line 20\\n    , custom_instructions=qasm2.LEGACY_CUSTOM_INSTRUCTIONS)\\nIndentationError: unexpected indent\\n'\n",
      "Failed to execute to_execute.py in Docker.\n",
      "Error parsing: Command 'python /workspace/to_execute.py' in image 'qiskit_runner' returned non-zero exit status 1: b'  File \"/workspace/to_execute.py\", line 11\\n    include \"qelib1.inc\";\\n            ^^^^^^^^^^^^\\nSyntaxError: invalid syntax\\n'\n",
      "Failed to execute to_execute.py in Docker.\n",
      "Error parsing: Command 'python /workspace/to_execute.py' in image 'qiskit_runner' returned non-zero exit status 1: b'Traceback (most recent call last):\\n  File \"/workspace/to_execute.py\", line 10, in <module>\\n    qc = qasm2.loads(\\n  File \"/usr/local/lib/python3.10/site-packages/qiskit/qasm2/__init__.py\", line 587, in loads\\n    return _parse.from_bytecode(\\n  File \"/usr/local/lib/python3.10/site-packages/qiskit/qasm2/parse.py\", line 214, in from_bytecode\\n    for op in bc:\\nqiskit.qasm2.exceptions.QASM2ParseError: \"<input>:7,0: cannot use non-builtin custom instruction \\'cx\\' before definition\"\\n'\n",
      "Failed to execute to_execute.py in Docker.\n",
      "Output: Saved the BQSKit circuit to /workspace/to_execute_qc_bqskit.qasm\n",
      "Saved the Pytket circuit to /workspace/to_execute_qc_pytket.qasm\n",
      "Exported QASM files: [('/workspace/to_execute_qc_bqskit.qasm', 'export_to_qasm_with_bqskit'), ('/workspace/to_execute_qc_pytket.qasm', 'export_to_qasm_with_pytket')]\n",
      "The circuits are equivalent: /workspace/to_execute_qc_bqskit.qasm, /workspace/to_execute_qc_pytket.qasm\n",
      "\n",
      "Program to_execute.py executed successfully.\n",
      "Error parsing: Command 'python /workspace/to_execute.py' in image 'qiskit_runner' returned non-zero exit status 1: b'Traceback (most recent call last):\\n  File \"/workspace/to_execute.py\", line 10, in <module>\\n    qc = qasm2.loads(\\n  File \"/usr/local/lib/python3.10/site-packages/qiskit/qasm2/__init__.py\", line 587, in loads\\n    return _parse.from_bytecode(\\n  File \"/usr/local/lib/python3.10/site-packages/qiskit/qasm2/parse.py\", line 214, in from_bytecode\\n    for op in bc:\\nqiskit.qasm2.exceptions.QASM2ParseError: \"<input>:7,3: \\'reg_2_a\\' is not defined in this scope\"\\n'\n",
      "Failed to execute to_execute.py in Docker.\n",
      "Error parsing: Command 'python /workspace/to_execute.py' in image 'qiskit_runner' returned non-zero exit status 1: b'Traceback (most recent call last):\\n  File \"/workspace/to_execute.py\", line 10, in <module>\\n    qc = qasm2.loads(\\n  File \"/usr/local/lib/python3.10/site-packages/qiskit/qasm2/__init__.py\", line 587, in loads\\n    return _parse.from_bytecode(\\n  File \"/usr/local/lib/python3.10/site-packages/qiskit/qasm2/parse.py\", line 214, in from_bytecode\\n    for op in bc:\\nqiskit.qasm2.exceptions.QASM2ParseError: \"<input>:6,14: \\'reg_2_cout\\' is not defined in this scope\"\\n'\n",
      "Failed to execute to_execute.py in Docker.\n",
      "Output: Saved the BQSKit circuit to /workspace/to_execute_qc_bqskit.qasm\n",
      "Saved the Pytket circuit to /workspace/to_execute_qc_pytket.qasm\n",
      "Exported QASM files: [('/workspace/to_execute_qc_bqskit.qasm', 'export_to_qasm_with_bqskit'), ('/workspace/to_execute_qc_pytket.qasm', 'export_to_qasm_with_pytket')]\n",
      "Log has been saved to /workspace/to_execute_601ffa_error.json\n",
      "\n",
      "Program to_execute.py executed successfully.\n",
      "New exception message: The circuits are not equivalent: /workspace/to_execute_qc_bqskit.qasm, /workspace/to_execute_qc_pytket.qasm\n",
      "Error parsing: Command 'python /workspace/to_execute.py' in image 'qiskit_runner' returned non-zero exit status 1: b'  File \"/workspace/to_execute.py\", line 19\\n    , custom_instructions=qasm2.LEGACY_CUSTOM_INSTRUCTIONS)\\nIndentationError: unexpected indent\\n'\n",
      "Failed to execute to_execute.py in Docker.\n",
      "Error parsing: Command 'python /workspace/to_execute.py' in image 'qiskit_runner' returned non-zero exit status 1: b'  File \"/workspace/to_execute.py\", line 11\\n    include \"qelib1.inc\";\\n            ^^^^^^^^^^^^\\nSyntaxError: invalid syntax\\n'\n",
      "Failed to execute to_execute.py in Docker.\n",
      "Error parsing: Command 'python /workspace/to_execute.py' in image 'qiskit_runner' returned non-zero exit status 1: b'Traceback (most recent call last):\\n  File \"/workspace/to_execute.py\", line 10, in <module>\\n    qc = qasm2.loads(\\n  File \"/usr/local/lib/python3.10/site-packages/qiskit/qasm2/__init__.py\", line 587, in loads\\n    return _parse.from_bytecode(\\n  File \"/usr/local/lib/python3.10/site-packages/qiskit/qasm2/parse.py\", line 214, in from_bytecode\\n    for op in bc:\\nqiskit.qasm2.exceptions.QASM2ParseError: \"<input>:6,0: cannot use non-builtin custom instruction \\'cx\\' before definition\"\\n'\n",
      "Failed to execute to_execute.py in Docker.\n",
      "Output: Saved the BQSKit circuit to /workspace/to_execute_qc_bqskit.qasm\n",
      "Saved the Pytket circuit to /workspace/to_execute_qc_pytket.qasm\n",
      "Exported QASM files: [('/workspace/to_execute_qc_bqskit.qasm', 'export_to_qasm_with_bqskit'), ('/workspace/to_execute_qc_pytket.qasm', 'export_to_qasm_with_pytket')]\n",
      "The circuits are equivalent: /workspace/to_execute_qc_bqskit.qasm, /workspace/to_execute_qc_pytket.qasm\n",
      "\n",
      "Program to_execute.py executed successfully.\n",
      "Error parsing: Command 'python /workspace/to_execute.py' in image 'qiskit_runner' returned non-zero exit status 1: b'Traceback (most recent call last):\\n  File \"/workspace/to_execute.py\", line 10, in <module>\\n    qc = qasm2.loads(\\n  File \"/usr/local/lib/python3.10/site-packages/qiskit/qasm2/__init__.py\", line 587, in loads\\n    return _parse.from_bytecode(\\n  File \"/usr/local/lib/python3.10/site-packages/qiskit/qasm2/parse.py\", line 214, in from_bytecode\\n    for op in bc:\\nqiskit.qasm2.exceptions.QASM2ParseError: \"<input>:6,3: \\'reg_2_a\\' is not defined in this scope\"\\n'\n",
      "Failed to execute to_execute.py in Docker.\n",
      "Output: Saved the BQSKit circuit to /workspace/to_execute_qc_bqskit.qasm\n",
      "Saved the Pytket circuit to /workspace/to_execute_qc_pytket.qasm\n",
      "Exported QASM files: [('/workspace/to_execute_qc_bqskit.qasm', 'export_to_qasm_with_bqskit'), ('/workspace/to_execute_qc_pytket.qasm', 'export_to_qasm_with_pytket')]\n",
      "Log has been saved to /workspace/to_execute_fab08b_error.json\n",
      "\n",
      "Program to_execute.py executed successfully.\n",
      "New exception message: The circuits are not equivalent: /workspace/to_execute_qc_bqskit.qasm, /workspace/to_execute_qc_pytket.qasm\n",
      "Error parsing: Command 'python /workspace/to_execute.py' in image 'qiskit_runner' returned non-zero exit status 1: b'  File \"/workspace/to_execute.py\", line 18\\n    , custom_instructions=qasm2.LEGACY_CUSTOM_INSTRUCTIONS)\\nIndentationError: unexpected indent\\n'\n",
      "Failed to execute to_execute.py in Docker.\n",
      "Error parsing: Command 'python /workspace/to_execute.py' in image 'qiskit_runner' returned non-zero exit status 1: b'  File \"/workspace/to_execute.py\", line 11\\n    qreg reg_1_q[2];\\n    ^^^^^^^^^^^^^^^\\nSyntaxError: invalid syntax. Perhaps you forgot a comma?\\n'\n",
      "Failed to execute to_execute.py in Docker.\n",
      "Output: Saved the BQSKit circuit to /workspace/to_execute_qc_bqskit.qasm\n",
      "Saved the Pytket circuit to /workspace/to_execute_qc_pytket.qasm\n",
      "Exported QASM files: [('/workspace/to_execute_qc_bqskit.qasm', 'export_to_qasm_with_bqskit'), ('/workspace/to_execute_qc_pytket.qasm', 'export_to_qasm_with_pytket')]\n",
      "Log has been saved to /workspace/to_execute_df617c_error.json\n",
      "\n",
      "Program to_execute.py executed successfully.\n",
      "New exception message: The circuits are not equivalent: /workspace/to_execute_qc_bqskit.qasm, /workspace/to_execute_qc_pytket.qasm\n",
      "Error parsing: Command 'python /workspace/to_execute.py' in image 'qiskit_runner' returned non-zero exit status 1: b'  File \"/workspace/to_execute.py\", line 15\\n    , custom_instructions=qasm2.LEGACY_CUSTOM_INSTRUCTIONS)\\n                                                          ^\\nSyntaxError: unmatched \\')\\'\\n'\n",
      "Failed to execute to_execute.py in Docker.\n",
      "Error parsing: Command 'python /workspace/to_execute.py' in image 'qiskit_runner' returned non-zero exit status 1: b'Traceback (most recent call last):\\n  File \"/workspace/to_execute.py\", line 10, in <module>\\n    qc = qasm2.loads(\\n  File \"/usr/local/lib/python3.10/site-packages/qiskit/qasm2/__init__.py\", line 587, in loads\\n    return _parse.from_bytecode(\\n  File \"/usr/local/lib/python3.10/site-packages/qiskit/qasm2/parse.py\", line 214, in from_bytecode\\n    for op in bc:\\nqiskit.qasm2.exceptions.QASM2ParseError: \"<input>:5,0: cannot use non-builtin custom instruction \\'cx\\' before definition\"\\n'\n",
      "Failed to execute to_execute.py in Docker.\n",
      "Error parsing: Command 'python /workspace/to_execute.py' in image 'qiskit_runner' returned non-zero exit status 1: b'Traceback (most recent call last):\\n  File \"/workspace/to_execute.py\", line 10, in <module>\\n    qc = qasm2.loads(\\n  File \"/usr/local/lib/python3.10/site-packages/qiskit/qasm2/__init__.py\", line 587, in loads\\n    return _parse.from_bytecode(\\n  File \"/usr/local/lib/python3.10/site-packages/qiskit/qasm2/parse.py\", line 214, in from_bytecode\\n    for op in bc:\\nqiskit.qasm2.exceptions.QASM2ParseError: \"<input>:4,3: \\'reg_2_a\\' is not defined in this scope\"\\n'\n",
      "Failed to execute to_execute.py in Docker.\n",
      "Error parsing: Command 'python /workspace/to_execute.py' in image 'qiskit_runner' returned non-zero exit status 1: b'Traceback (most recent call last):\\n  File \"/workspace/to_execute.py\", line 10, in <module>\\n    qc = qasm2.loads(\\n  File \"/usr/local/lib/python3.10/site-packages/qiskit/qasm2/__init__.py\", line 587, in loads\\n    return _parse.from_bytecode(\\n  File \"/usr/local/lib/python3.10/site-packages/qiskit/qasm2/parse.py\", line 214, in from_bytecode\\n    for op in bc:\\nqiskit.qasm2.exceptions.QASM2ParseError: \"<input>:5,14: \\'reg_2_b\\' is not defined in this scope\"\\n'\n",
      "Failed to execute to_execute.py in Docker.\n",
      "Error parsing: Command 'python /workspace/to_execute.py' in image 'qiskit_runner' returned non-zero exit status 1: b'  File \"/workspace/to_execute.py\", line 11\\n    include \"qelib1.inc\";\\n            ^^^^^^^^^^^^\\nSyntaxError: invalid syntax\\n'\n",
      "Failed to execute to_execute.py in Docker.\n",
      "Error parsing: Command 'python /workspace/to_execute.py' in image 'qiskit_runner' returned non-zero exit status 1: b'  File \"/workspace/to_execute.py\", line 10\\n    qc = qasm2.loads(\\n                    ^\\nSyntaxError: \\'(\\' was never closed\\n'\n",
      "Failed to execute to_execute.py in Docker.\n",
      "Error parsing: Command 'python /workspace/to_execute.py' in image 'qiskit_runner' returned non-zero exit status 1: b'  File \"/workspace/to_execute.py\", line 17\\n    , custom_instructions=qasm2.LEGACY_CUSTOM_INSTRUCTIONS)\\nIndentationError: unexpected indent\\n'\n",
      "Failed to execute to_execute.py in Docker.\n",
      "Error parsing: Command 'python /workspace/to_execute.py' in image 'qiskit_runner' returned non-zero exit status 1: b'  File \"/workspace/to_execute.py\", line 11\\n    include \"qelib1.inc\";\\n            ^^^^^^^^^^^^\\nSyntaxError: invalid syntax\\n'\n",
      "Failed to execute to_execute.py in Docker.\n",
      "Error parsing: Command 'python /workspace/to_execute.py' in image 'qiskit_runner' returned non-zero exit status 1: b'Traceback (most recent call last):\\n  File \"/workspace/to_execute.py\", line 10, in <module>\\n    qc = qasm2.loads(\\n  File \"/usr/local/lib/python3.10/site-packages/qiskit/qasm2/__init__.py\", line 587, in loads\\n    return _parse.from_bytecode(\\n  File \"/usr/local/lib/python3.10/site-packages/qiskit/qasm2/parse.py\", line 214, in from_bytecode\\n    for op in bc:\\nqiskit.qasm2.exceptions.QASM2ParseError: \"<input>:5,0: cannot use non-builtin custom instruction \\'cx\\' before definition\"\\n'\n",
      "Failed to execute to_execute.py in Docker.\n",
      "Output: Saved the BQSKit circuit to /workspace/to_execute_qc_bqskit.qasm\n",
      "Saved the Pytket circuit to /workspace/to_execute_qc_pytket.qasm\n",
      "Exported QASM files: [('/workspace/to_execute_qc_bqskit.qasm', 'export_to_qasm_with_bqskit'), ('/workspace/to_execute_qc_pytket.qasm', 'export_to_qasm_with_pytket')]\n",
      "The circuits are equivalent: /workspace/to_execute_qc_bqskit.qasm, /workspace/to_execute_qc_pytket.qasm\n",
      "\n",
      "Program to_execute.py executed successfully.\n",
      "Error parsing: Command 'python /workspace/to_execute.py' in image 'qiskit_runner' returned non-zero exit status 1: b'Traceback (most recent call last):\\n  File \"/workspace/to_execute.py\", line 10, in <module>\\n    qc = qasm2.loads(\\n  File \"/usr/local/lib/python3.10/site-packages/qiskit/qasm2/__init__.py\", line 587, in loads\\n    return _parse.from_bytecode(\\n  File \"/usr/local/lib/python3.10/site-packages/qiskit/qasm2/parse.py\", line 214, in from_bytecode\\n    for op in bc:\\nqiskit.qasm2.exceptions.QASM2ParseError: \"<input>:5,3: \\'reg_2_a\\' is not defined in this scope\"\\n'\n",
      "Failed to execute to_execute.py in Docker.\n",
      "Error parsing: Command 'python /workspace/to_execute.py' in image 'qiskit_runner' returned non-zero exit status 1: b'Traceback (most recent call last):\\n  File \"/workspace/to_execute.py\", line 10, in <module>\\n    qc = qasm2.loads(\\n  File \"/usr/local/lib/python3.10/site-packages/qiskit/qasm2/__init__.py\", line 587, in loads\\n    return _parse.from_bytecode(\\n  File \"/usr/local/lib/python3.10/site-packages/qiskit/qasm2/parse.py\", line 214, in from_bytecode\\n    for op in bc:\\nqiskit.qasm2.exceptions.QASM2ParseError: \"<input>:5,14: \\'reg_2_b\\' is not defined in this scope\"\\n'\n",
      "Failed to execute to_execute.py in Docker.\n",
      "Output: Saved the BQSKit circuit to /workspace/to_execute_qc_bqskit.qasm\n",
      "Saved the Pytket circuit to /workspace/to_execute_qc_pytket.qasm\n",
      "Exported QASM files: [('/workspace/to_execute_qc_bqskit.qasm', 'export_to_qasm_with_bqskit'), ('/workspace/to_execute_qc_pytket.qasm', 'export_to_qasm_with_pytket')]\n",
      "The circuits are equivalent: /workspace/to_execute_qc_bqskit.qasm, /workspace/to_execute_qc_pytket.qasm\n",
      "\n",
      "Program to_execute.py executed successfully.\n",
      "Error parsing: Command 'python /workspace/to_execute.py' in image 'qiskit_runner' returned non-zero exit status 1: b'  File \"/workspace/to_execute.py\", line 11\\n    include \"qelib1.inc\";\\n            ^^^^^^^^^^^^\\nSyntaxError: invalid syntax\\n'\n",
      "Failed to execute to_execute.py in Docker.\n",
      "Error parsing: Command 'python /workspace/to_execute.py' in image 'qiskit_runner' returned non-zero exit status 1: b'  File \"/workspace/to_execute.py\", line 10\\n    qc = qasm2.loads(\\n                    ^\\nSyntaxError: \\'(\\' was never closed\\n'\n",
      "Failed to execute to_execute.py in Docker.\n"
     ]
    },
    {
     "data": {
      "text/html": [
       "<pre style=\"white-space:pre;overflow-x:auto;line-height:normal;font-family:Menlo,'DejaVu Sans Mono',consolas,'Courier New',monospace\"><span style=\"color: #7fbfbf; text-decoration-color: #7fbfbf\">[15:19:58] </span><span style=\"color: #008000; text-decoration-color: #008000\">Minimized file saved as:</span>                                                        <a href=\"file:///home/paltenmo/projects/crossplatform/analysis_and_reporting/ddmin_target_file.py\" target=\"_blank\"><span style=\"color: #7f7f7f; text-decoration-color: #7f7f7f\">ddmin_target_file.py</span></a><span style=\"color: #7f7f7f; text-decoration-color: #7f7f7f\">:</span><a href=\"file:///home/paltenmo/projects/crossplatform/analysis_and_reporting/ddmin_target_file.py#240\" target=\"_blank\"><span style=\"color: #7f7f7f; text-decoration-color: #7f7f7f\">240</span></a>\n",
       "<span style=\"color: #7fbfbf; text-decoration-color: #7fbfbf\">           </span>..<span style=\"color: #800080; text-decoration-color: #800080\">/reports/v009/2024_11_21__15_15/</span><span style=\"color: #ff00ff; text-decoration-color: #ff00ff\">qiskit_circuit_5q_10g_609_0c26d1_ee02f4_error</span> <span style=\"color: #7f7f7f; text-decoration-color: #7f7f7f\">                        </span>\n",
       "<span style=\"color: #7fbfbf; text-decoration-color: #7fbfbf\">           </span><span style=\"color: #ff00ff; text-decoration-color: #ff00ff\">_min.py</span>                                                                         <span style=\"color: #7f7f7f; text-decoration-color: #7f7f7f\">                        </span>\n",
       "</pre>\n"
      ],
      "text/plain": [
       "\u001b[2;36m[15:19:58]\u001b[0m\u001b[2;36m \u001b[0m\u001b[32mMinimized file saved as:\u001b[0m                                                        \u001b]8;id=705857;file:///home/paltenmo/projects/crossplatform/analysis_and_reporting/ddmin_target_file.py\u001b\\\u001b[2mddmin_target_file.py\u001b[0m\u001b]8;;\u001b\\\u001b[2m:\u001b[0m\u001b]8;id=577998;file:///home/paltenmo/projects/crossplatform/analysis_and_reporting/ddmin_target_file.py#240\u001b\\\u001b[2m240\u001b[0m\u001b]8;;\u001b\\\n",
       "\u001b[2;36m           \u001b[0m..\u001b[35m/reports/v009/2024_11_21__15_15/\u001b[0m\u001b[95mqiskit_circuit_5q_10g_609_0c26d1_ee02f4_error\u001b[0m \u001b[2m                        \u001b[0m\n",
       "\u001b[2;36m           \u001b[0m\u001b[95m_min.py\u001b[0m                                                                         \u001b[2m                        \u001b[0m\n"
      ]
     },
     "metadata": {},
     "output_type": "display_data"
    },
    {
     "name": "stdout",
     "output_type": "stream",
     "text": [
      "Output: Saved the BQSKit circuit to /workspace/qiskit_circuit_5q_10g_609_0c26d1_ee02f4_error_min_qc_bqskit.qasm\n",
      "Saved the Pytket circuit to /workspace/qiskit_circuit_5q_10g_609_0c26d1_ee02f4_error_min_qc_pytket.qasm\n",
      "Exported QASM files: [('/workspace/qiskit_circuit_5q_10g_609_0c26d1_ee02f4_error_min_qc_bqskit.qasm', 'export_to_qasm_with_bqskit'), ('/workspace/qiskit_circuit_5q_10g_609_0c26d1_ee02f4_error_min_qc_pytket.qasm', 'export_to_qasm_with_pytket')]\n",
      "Log has been saved to /workspace/qiskit_circuit_5q_10g_609_0c26d1_ee02f4_error_min_fefa9c_error.json\n",
      "\n"
     ]
    },
    {
     "data": {
      "text/html": [
       "<pre style=\"white-space:pre;overflow-x:auto;line-height:normal;font-family:Menlo,'DejaVu Sans Mono',consolas,'Courier New',monospace\"><span style=\"color: #7fbfbf; text-decoration-color: #7fbfbf\">[15:20:05] </span>Program qiskit_circuit_5q_10g_609_0c26d1_ee02f4_error_min.py executed successfully. <a href=\"file:///home/paltenmo/projects/crossplatform/generators/docker_tooling.py\" target=\"_blank\"><span style=\"color: #7f7f7f; text-decoration-color: #7f7f7f\">docker_tooling.py</span></a><span style=\"color: #7f7f7f; text-decoration-color: #7f7f7f\">:</span><a href=\"file:///home/paltenmo/projects/crossplatform/generators/docker_tooling.py#46\" target=\"_blank\"><span style=\"color: #7f7f7f; text-decoration-color: #7f7f7f\">46</span></a>\n",
       "</pre>\n"
      ],
      "text/plain": [
       "\u001b[2;36m[15:20:05]\u001b[0m\u001b[2;36m \u001b[0mProgram qiskit_circuit_5q_10g_609_0c26d1_ee02f4_error_min.py executed successfully. \u001b]8;id=278372;file:///home/paltenmo/projects/crossplatform/generators/docker_tooling.py\u001b\\\u001b[2mdocker_tooling.py\u001b[0m\u001b]8;;\u001b\\\u001b[2m:\u001b[0m\u001b]8;id=644727;file:///home/paltenmo/projects/crossplatform/generators/docker_tooling.py#46\u001b\\\u001b[2m46\u001b[0m\u001b]8;;\u001b\\\n"
      ]
     },
     "metadata": {},
     "output_type": "display_data"
    },
    {
     "data": {
      "application/vnd.jupyter.widget-view+json": {
       "model_id": "3e7839f705014edcabd91dd3c8525fe4",
       "version_major": 2,
       "version_minor": 0
      },
      "text/plain": [
       "Executing:   0%|          | 0/13 [00:00<?, ?cell/s]"
      ]
     },
     "metadata": {},
     "output_type": "display_data"
    },
    {
     "data": {
      "text/html": [
       "<pre style=\"white-space:pre;overflow-x:auto;line-height:normal;font-family:Menlo,'DejaVu Sans Mono',consolas,'Courier New',monospace\"><span style=\"color: #7fbfbf; text-decoration-color: #7fbfbf\">[15:20:08] </span>Analysis notebook executed: ..<span style=\"color: #800080; text-decoration-color: #800080\">/reports/v009/2024_11_21__15_15/</span><span style=\"color: #ff00ff; text-decoration-color: #ff00ff\">analysis_output.ipynb</span>        <a href=\"file:///home/paltenmo/projects/crossplatform/analysis_and_reporting/triage.py\" target=\"_blank\"><span style=\"color: #7f7f7f; text-decoration-color: #7f7f7f\">triage.py</span></a><span style=\"color: #7f7f7f; text-decoration-color: #7f7f7f\">:</span><a href=\"file:///home/paltenmo/projects/crossplatform/analysis_and_reporting/triage.py#163\" target=\"_blank\"><span style=\"color: #7f7f7f; text-decoration-color: #7f7f7f\">163</span></a>\n",
       "</pre>\n"
      ],
      "text/plain": [
       "\u001b[2;36m[15:20:08]\u001b[0m\u001b[2;36m \u001b[0mAnalysis notebook executed: ..\u001b[35m/reports/v009/2024_11_21__15_15/\u001b[0m\u001b[95manalysis_output.ipynb\u001b[0m        \u001b]8;id=329862;file:///home/paltenmo/projects/crossplatform/analysis_and_reporting/triage.py\u001b\\\u001b[2mtriage.py\u001b[0m\u001b]8;;\u001b\\\u001b[2m:\u001b[0m\u001b]8;id=553211;file:///home/paltenmo/projects/crossplatform/analysis_and_reporting/triage.py#163\u001b\\\u001b[2m163\u001b[0m\u001b]8;;\u001b\\\n"
      ]
     },
     "metadata": {},
     "output_type": "display_data"
    },
    {
     "data": {
      "text/html": [
       "<pre style=\"white-space:pre;overflow-x:auto;line-height:normal;font-family:Menlo,'DejaVu Sans Mono',consolas,'Courier New',monospace\"><span style=\"color: #7fbfbf; text-decoration-color: #7fbfbf\">           </span>Created report folder: ..<span style=\"color: #800080; text-decoration-color: #800080\">/reports/v009/</span><span style=\"color: #ff00ff; text-decoration-color: #ff00ff\">2024_11_21__15_20</span>                                   <a href=\"file:///home/paltenmo/projects/crossplatform/analysis_and_reporting/triage.py\" target=\"_blank\"><span style=\"color: #7f7f7f; text-decoration-color: #7f7f7f\">triage.py</span></a><span style=\"color: #7f7f7f; text-decoration-color: #7f7f7f\">:</span><a href=\"file:///home/paltenmo/projects/crossplatform/analysis_and_reporting/triage.py#131\" target=\"_blank\"><span style=\"color: #7f7f7f; text-decoration-color: #7f7f7f\">131</span></a>\n",
       "</pre>\n"
      ],
      "text/plain": [
       "\u001b[2;36m          \u001b[0m\u001b[2;36m \u001b[0mCreated report folder: ..\u001b[35m/reports/v009/\u001b[0m\u001b[95m2024_11_21__15_20\u001b[0m                                   \u001b]8;id=15674;file:///home/paltenmo/projects/crossplatform/analysis_and_reporting/triage.py\u001b\\\u001b[2mtriage.py\u001b[0m\u001b]8;;\u001b\\\u001b[2m:\u001b[0m\u001b]8;id=699119;file:///home/paltenmo/projects/crossplatform/analysis_and_reporting/triage.py#131\u001b\\\u001b[2m131\u001b[0m\u001b]8;;\u001b\\\n"
      ]
     },
     "metadata": {},
     "output_type": "display_data"
    },
    {
     "data": {
      "text/html": [
       "<pre style=\"white-space:pre;overflow-x:auto;line-height:normal;font-family:Menlo,'DejaVu Sans Mono',consolas,'Courier New',monospace\"><span style=\"color: #7fbfbf; text-decoration-color: #7fbfbf\">           </span>Copied files to: ..<span style=\"color: #800080; text-decoration-color: #800080\">/reports/v009/</span><span style=\"color: #ff00ff; text-decoration-color: #ff00ff\">2024_11_21__15_20</span>                                         <a href=\"file:///home/paltenmo/projects/crossplatform/analysis_and_reporting/triage.py\" target=\"_blank\"><span style=\"color: #7f7f7f; text-decoration-color: #7f7f7f\">triage.py</span></a><span style=\"color: #7f7f7f; text-decoration-color: #7f7f7f\">:</span><a href=\"file:///home/paltenmo/projects/crossplatform/analysis_and_reporting/triage.py#140\" target=\"_blank\"><span style=\"color: #7f7f7f; text-decoration-color: #7f7f7f\">140</span></a>\n",
       "</pre>\n"
      ],
      "text/plain": [
       "\u001b[2;36m          \u001b[0m\u001b[2;36m \u001b[0mCopied files to: ..\u001b[35m/reports/v009/\u001b[0m\u001b[95m2024_11_21__15_20\u001b[0m                                         \u001b]8;id=965951;file:///home/paltenmo/projects/crossplatform/analysis_and_reporting/triage.py\u001b\\\u001b[2mtriage.py\u001b[0m\u001b]8;;\u001b\\\u001b[2m:\u001b[0m\u001b]8;id=640382;file:///home/paltenmo/projects/crossplatform/analysis_and_reporting/triage.py#140\u001b\\\u001b[2m140\u001b[0m\u001b]8;;\u001b\\\n"
      ]
     },
     "metadata": {},
     "output_type": "display_data"
    },
    {
     "data": {
      "text/html": [
       "<pre style=\"white-space:pre;overflow-x:auto;line-height:normal;font-family:Menlo,'DejaVu Sans Mono',consolas,'Courier New',monospace\"><span style=\"color: #7fbfbf; text-decoration-color: #7fbfbf\">[15:20:08] </span>Involved functions:                                                             <a href=\"file:///home/paltenmo/projects/crossplatform/analysis_and_reporting/ddmin_target_file.py\" target=\"_blank\"><span style=\"color: #7f7f7f; text-decoration-color: #7f7f7f\">ddmin_target_file.py</span></a><span style=\"color: #7f7f7f; text-decoration-color: #7f7f7f\">:</span><a href=\"file:///home/paltenmo/projects/crossplatform/analysis_and_reporting/ddmin_target_file.py#206\" target=\"_blank\"><span style=\"color: #7f7f7f; text-decoration-color: #7f7f7f\">206</span></a>\n",
       "</pre>\n"
      ],
      "text/plain": [
       "\u001b[2;36m[15:20:08]\u001b[0m\u001b[2;36m \u001b[0mInvolved functions:                                                             \u001b]8;id=308250;file:///home/paltenmo/projects/crossplatform/analysis_and_reporting/ddmin_target_file.py\u001b\\\u001b[2mddmin_target_file.py\u001b[0m\u001b]8;;\u001b\\\u001b[2m:\u001b[0m\u001b]8;id=994586;file:///home/paltenmo/projects/crossplatform/analysis_and_reporting/ddmin_target_file.py#206\u001b\\\u001b[2m206\u001b[0m\u001b]8;;\u001b\\\n"
      ]
     },
     "metadata": {},
     "output_type": "display_data"
    },
    {
     "data": {
      "text/html": [
       "<pre style=\"white-space:pre;overflow-x:auto;line-height:normal;font-family:Menlo,'DejaVu Sans Mono',consolas,'Courier New',monospace\"><span style=\"color: #7fbfbf; text-decoration-color: #7fbfbf\">           </span>  - compare_qasm_via_qcec                                                       <a href=\"file:///home/paltenmo/projects/crossplatform/analysis_and_reporting/ddmin_target_file.py\" target=\"_blank\"><span style=\"color: #7f7f7f; text-decoration-color: #7f7f7f\">ddmin_target_file.py</span></a><span style=\"color: #7f7f7f; text-decoration-color: #7f7f7f\">:</span><a href=\"file:///home/paltenmo/projects/crossplatform/analysis_and_reporting/ddmin_target_file.py#208\" target=\"_blank\"><span style=\"color: #7f7f7f; text-decoration-color: #7f7f7f\">208</span></a>\n",
       "</pre>\n"
      ],
      "text/plain": [
       "\u001b[2;36m          \u001b[0m\u001b[2;36m \u001b[0m  - compare_qasm_via_qcec                                                       \u001b]8;id=221735;file:///home/paltenmo/projects/crossplatform/analysis_and_reporting/ddmin_target_file.py\u001b\\\u001b[2mddmin_target_file.py\u001b[0m\u001b]8;;\u001b\\\u001b[2m:\u001b[0m\u001b]8;id=671155;file:///home/paltenmo/projects/crossplatform/analysis_and_reporting/ddmin_target_file.py#208\u001b\\\u001b[2m208\u001b[0m\u001b]8;;\u001b\\\n"
      ]
     },
     "metadata": {},
     "output_type": "display_data"
    },
    {
     "data": {
      "text/html": [
       "<pre style=\"white-space:pre;overflow-x:auto;line-height:normal;font-family:Menlo,'DejaVu Sans Mono',consolas,'Courier New',monospace\"><span style=\"color: #7fbfbf; text-decoration-color: #7fbfbf\">           </span>  - export_to_qasm_with_bqskit                                                  <a href=\"file:///home/paltenmo/projects/crossplatform/analysis_and_reporting/ddmin_target_file.py\" target=\"_blank\"><span style=\"color: #7f7f7f; text-decoration-color: #7f7f7f\">ddmin_target_file.py</span></a><span style=\"color: #7f7f7f; text-decoration-color: #7f7f7f\">:</span><a href=\"file:///home/paltenmo/projects/crossplatform/analysis_and_reporting/ddmin_target_file.py#208\" target=\"_blank\"><span style=\"color: #7f7f7f; text-decoration-color: #7f7f7f\">208</span></a>\n",
       "</pre>\n"
      ],
      "text/plain": [
       "\u001b[2;36m          \u001b[0m\u001b[2;36m \u001b[0m  - export_to_qasm_with_bqskit                                                  \u001b]8;id=698568;file:///home/paltenmo/projects/crossplatform/analysis_and_reporting/ddmin_target_file.py\u001b\\\u001b[2mddmin_target_file.py\u001b[0m\u001b]8;;\u001b\\\u001b[2m:\u001b[0m\u001b]8;id=544819;file:///home/paltenmo/projects/crossplatform/analysis_and_reporting/ddmin_target_file.py#208\u001b\\\u001b[2m208\u001b[0m\u001b]8;;\u001b\\\n"
      ]
     },
     "metadata": {},
     "output_type": "display_data"
    },
    {
     "data": {
      "text/html": [
       "<pre style=\"white-space:pre;overflow-x:auto;line-height:normal;font-family:Menlo,'DejaVu Sans Mono',consolas,'Courier New',monospace\"><span style=\"color: #7fbfbf; text-decoration-color: #7fbfbf\">           </span>  - export_to_qasm_with_pytket                                                  <a href=\"file:///home/paltenmo/projects/crossplatform/analysis_and_reporting/ddmin_target_file.py\" target=\"_blank\"><span style=\"color: #7f7f7f; text-decoration-color: #7f7f7f\">ddmin_target_file.py</span></a><span style=\"color: #7f7f7f; text-decoration-color: #7f7f7f\">:</span><a href=\"file:///home/paltenmo/projects/crossplatform/analysis_and_reporting/ddmin_target_file.py#208\" target=\"_blank\"><span style=\"color: #7f7f7f; text-decoration-color: #7f7f7f\">208</span></a>\n",
       "</pre>\n"
      ],
      "text/plain": [
       "\u001b[2;36m          \u001b[0m\u001b[2;36m \u001b[0m  - export_to_qasm_with_pytket                                                  \u001b]8;id=663922;file:///home/paltenmo/projects/crossplatform/analysis_and_reporting/ddmin_target_file.py\u001b\\\u001b[2mddmin_target_file.py\u001b[0m\u001b]8;;\u001b\\\u001b[2m:\u001b[0m\u001b]8;id=494599;file:///home/paltenmo/projects/crossplatform/analysis_and_reporting/ddmin_target_file.py#208\u001b\\\u001b[2m208\u001b[0m\u001b]8;;\u001b\\\n"
      ]
     },
     "metadata": {},
     "output_type": "display_data"
    },
    {
     "name": "stdout",
     "output_type": "stream",
     "text": [
      "Error parsing: Command 'python /workspace/to_execute.py' in image 'qiskit_runner' returned non-zero exit status 1: b'Traceback (most recent call last):\\n  File \"/workspace/to_execute.py\", line 106, in <module>\\n    target_qc = qc\\nNameError: name \\'qc\\' is not defined\\n'\n",
      "Failed to execute to_execute.py in Docker.\n",
      "Output: Saved the BQSKit circuit to /workspace/to_execute_qc_bqskit.qasm\n",
      "Saved the Pytket circuit to /workspace/to_execute_qc_pytket.qasm\n",
      "Exported QASM files: [('/workspace/to_execute_qc_bqskit.qasm', 'export_to_qasm_with_bqskit'), ('/workspace/to_execute_qc_pytket.qasm', 'export_to_qasm_with_pytket')]\n",
      "Log has been saved to /workspace/to_execute_17ef87_error.json\n",
      "\n",
      "Program to_execute.py executed successfully.\n",
      "New exception message: The circuits are not equivalent: /workspace/to_execute_qc_bqskit.qasm, /workspace/to_execute_qc_pytket.qasm\n",
      "Error parsing: Command 'python /workspace/to_execute.py' in image 'qiskit_runner' returned non-zero exit status 1: b'  File \"/workspace/to_execute.py\", line 20\\n    , custom_instructions=qasm2.LEGACY_CUSTOM_INSTRUCTIONS)\\n                                                          ^\\nSyntaxError: unmatched \\')\\'\\n'\n",
      "Failed to execute to_execute.py in Docker.\n",
      "Error parsing: Command 'python /workspace/to_execute.py' in image 'qiskit_runner' returned non-zero exit status 1: b'  File \"/workspace/to_execute.py\", line 10\\n    qc = qasm2.loads(\\n                    ^\\nSyntaxError: \\'(\\' was never closed\\n'\n",
      "Failed to execute to_execute.py in Docker.\n",
      "Error parsing: Command 'python /workspace/to_execute.py' in image 'qiskit_runner' returned non-zero exit status 1: b'  File \"/workspace/to_execute.py\", line 31\\n    , custom_instructions=qasm2.LEGACY_CUSTOM_INSTRUCTIONS)\\n                                                          ^\\nSyntaxError: unmatched \\')\\'\\n'\n",
      "Failed to execute to_execute.py in Docker.\n",
      "Error parsing: Command 'python /workspace/to_execute.py' in image 'qiskit_runner' returned non-zero exit status 1: b'Traceback (most recent call last):\\n  File \"/workspace/to_execute.py\", line 10, in <module>\\n    qc = qasm2.loads(\\n  File \"/usr/local/lib/python3.10/site-packages/qiskit/qasm2/__init__.py\", line 587, in loads\\n    return _parse.from_bytecode(\\n  File \"/usr/local/lib/python3.10/site-packages/qiskit/qasm2/parse.py\", line 214, in from_bytecode\\n    for op in bc:\\nqiskit.qasm2.exceptions.QASM2ParseError: \"<input>:12,14: \\'reg_2_cout\\' is not defined in this scope\"\\n'\n",
      "Failed to execute to_execute.py in Docker.\n",
      "Output: Saved the BQSKit circuit to /workspace/to_execute_qc_bqskit.qasm\n",
      "Saved the Pytket circuit to /workspace/to_execute_qc_pytket.qasm\n",
      "Exported QASM files: [('/workspace/to_execute_qc_bqskit.qasm', 'export_to_qasm_with_bqskit'), ('/workspace/to_execute_qc_pytket.qasm', 'export_to_qasm_with_pytket')]\n",
      "Log has been saved to /workspace/to_execute_59f673_error.json\n",
      "\n",
      "Program to_execute.py executed successfully.\n",
      "New exception message: The circuits are not equivalent: /workspace/to_execute_qc_bqskit.qasm, /workspace/to_execute_qc_pytket.qasm\n",
      "Error parsing: Command 'python /workspace/to_execute.py' in image 'qiskit_runner' returned non-zero exit status 1: b'  File \"/workspace/to_execute.py\", line 22\\n    , custom_instructions=qasm2.LEGACY_CUSTOM_INSTRUCTIONS)\\n                                                          ^\\nSyntaxError: unmatched \\')\\'\\n'\n",
      "Failed to execute to_execute.py in Docker.\n",
      "Error parsing: Command 'python /workspace/to_execute.py' in image 'qiskit_runner' returned non-zero exit status 1: b'Traceback (most recent call last):\\n  File \"/workspace/to_execute.py\", line 10, in <module>\\n    qc = qasm2.loads(\\n  File \"/usr/local/lib/python3.10/site-packages/qiskit/qasm2/__init__.py\", line 587, in loads\\n    return _parse.from_bytecode(\\n  File \"/usr/local/lib/python3.10/site-packages/qiskit/qasm2/parse.py\", line 214, in from_bytecode\\n    for op in bc:\\nqiskit.qasm2.exceptions.QASM2ParseError: \"<input>:6,2: \\'reg_1_q\\' is not defined in this scope\"\\n'\n",
      "Failed to execute to_execute.py in Docker.\n",
      "Error parsing: Command 'python /workspace/to_execute.py' in image 'qiskit_runner' returned non-zero exit status 1: b'  File \"/workspace/to_execute.py\", line 10\\n    qc = qasm2.loads(\\n                    ^\\nSyntaxError: \\'(\\' was never closed\\n'\n",
      "Failed to execute to_execute.py in Docker.\n",
      "Error parsing: Command 'python /workspace/to_execute.py' in image 'qiskit_runner' returned non-zero exit status 1: b'  File \"/workspace/to_execute.py\", line 25\\n    , custom_instructions=qasm2.LEGACY_CUSTOM_INSTRUCTIONS)\\n                                                          ^\\nSyntaxError: unmatched \\')\\'\\n'\n",
      "Failed to execute to_execute.py in Docker.\n",
      "Error parsing: Command 'python /workspace/to_execute.py' in image 'qiskit_runner' returned non-zero exit status 1: b'Traceback (most recent call last):\\n  File \"/workspace/to_execute.py\", line 10, in <module>\\n    qc = qasm2.loads(\\n  File \"/usr/local/lib/python3.10/site-packages/qiskit/qasm2/__init__.py\", line 587, in loads\\n    return _parse.from_bytecode(\\n  File \"/usr/local/lib/python3.10/site-packages/qiskit/qasm2/parse.py\", line 214, in from_bytecode\\n    for op in bc:\\nqiskit.qasm2.exceptions.QASM2ParseError: \"<input>:5,0: cannot use non-builtin custom instruction \\'cx\\' before definition\"\\n'\n",
      "Failed to execute to_execute.py in Docker.\n",
      "Error parsing: Command 'python /workspace/to_execute.py' in image 'qiskit_runner' returned non-zero exit status 1: b'Traceback (most recent call last):\\n  File \"/workspace/to_execute.py\", line 10, in <module>\\n    qc = qasm2.loads(\\n  File \"/usr/local/lib/python3.10/site-packages/qiskit/qasm2/__init__.py\", line 587, in loads\\n    return _parse.from_bytecode(\\n  File \"/usr/local/lib/python3.10/site-packages/qiskit/qasm2/parse.py\", line 214, in from_bytecode\\n    for op in bc:\\nqiskit.qasm2.exceptions.QASM2ParseError: \"<input>:6,2: \\'reg_1_q\\' is not defined in this scope\"\\n'\n",
      "Failed to execute to_execute.py in Docker.\n",
      "Output: Saved the BQSKit circuit to /workspace/to_execute_qc_bqskit.qasm\n",
      "Saved the Pytket circuit to /workspace/to_execute_qc_pytket.qasm\n",
      "Exported QASM files: [('/workspace/to_execute_qc_bqskit.qasm', 'export_to_qasm_with_bqskit'), ('/workspace/to_execute_qc_pytket.qasm', 'export_to_qasm_with_pytket')]\n",
      "Log has been saved to /workspace/to_execute_11fdea_error.json\n",
      "\n",
      "Program to_execute.py executed successfully.\n",
      "New exception message: The circuits are not equivalent: /workspace/to_execute_qc_bqskit.qasm, /workspace/to_execute_qc_pytket.qasm\n",
      "Error parsing: Command 'python /workspace/to_execute.py' in image 'qiskit_runner' returned non-zero exit status 1: b'  File \"/workspace/to_execute.py\", line 22\\n    , custom_instructions=qasm2.LEGACY_CUSTOM_INSTRUCTIONS)\\n                                                          ^\\nSyntaxError: unmatched \\')\\'\\n'\n",
      "Failed to execute to_execute.py in Docker.\n",
      "Error parsing: Command 'python /workspace/to_execute.py' in image 'qiskit_runner' returned non-zero exit status 1: b'Traceback (most recent call last):\\n  File \"/workspace/to_execute.py\", line 10, in <module>\\n    qc = qasm2.loads(\\n  File \"/usr/local/lib/python3.10/site-packages/qiskit/qasm2/__init__.py\", line 587, in loads\\n    return _parse.from_bytecode(\\n  File \"/usr/local/lib/python3.10/site-packages/qiskit/qasm2/parse.py\", line 214, in from_bytecode\\n    for op in bc:\\nqiskit.qasm2.exceptions.QASM2ParseError: \"<input>:4,0: cannot use non-builtin custom instruction \\'cx\\' before definition\"\\n'\n",
      "Failed to execute to_execute.py in Docker.\n",
      "Error parsing: Command 'python /workspace/to_execute.py' in image 'qiskit_runner' returned non-zero exit status 1: b'Traceback (most recent call last):\\n  File \"/workspace/to_execute.py\", line 10, in <module>\\n    qc = qasm2.loads(\\n  File \"/usr/local/lib/python3.10/site-packages/qiskit/qasm2/__init__.py\", line 587, in loads\\n    return _parse.from_bytecode(\\n  File \"/usr/local/lib/python3.10/site-packages/qiskit/qasm2/parse.py\", line 214, in from_bytecode\\n    for op in bc:\\nqiskit.qasm2.exceptions.QASM2ParseError: \"<input>:6,3: \\'reg_1_q\\' is not defined in this scope\"\\n'\n",
      "Failed to execute to_execute.py in Docker.\n",
      "Output: Saved the BQSKit circuit to /workspace/to_execute_qc_bqskit.qasm\n",
      "Saved the Pytket circuit to /workspace/to_execute_qc_pytket.qasm\n",
      "Exported QASM files: [('/workspace/to_execute_qc_bqskit.qasm', 'export_to_qasm_with_bqskit'), ('/workspace/to_execute_qc_pytket.qasm', 'export_to_qasm_with_pytket')]\n",
      "Log has been saved to /workspace/to_execute_b014a3_error.json\n",
      "\n",
      "Program to_execute.py executed successfully.\n",
      "New exception message: The circuits are not equivalent: /workspace/to_execute_qc_bqskit.qasm, /workspace/to_execute_qc_pytket.qasm\n",
      "Error parsing: Command 'python /workspace/to_execute.py' in image 'qiskit_runner' returned non-zero exit status 1: b'  File \"/workspace/to_execute.py\", line 18\\n    , custom_instructions=qasm2.LEGACY_CUSTOM_INSTRUCTIONS)\\n                                                          ^\\nSyntaxError: unmatched \\')\\'\\n'\n",
      "Failed to execute to_execute.py in Docker.\n",
      "Error parsing: Command 'python /workspace/to_execute.py' in image 'qiskit_runner' returned non-zero exit status 1: b'Traceback (most recent call last):\\n  File \"/workspace/to_execute.py\", line 10, in <module>\\n    qc = qasm2.loads(\\n  File \"/usr/local/lib/python3.10/site-packages/qiskit/qasm2/__init__.py\", line 587, in loads\\n    return _parse.from_bytecode(\\n  File \"/usr/local/lib/python3.10/site-packages/qiskit/qasm2/parse.py\", line 214, in from_bytecode\\n    for op in bc:\\nqiskit.qasm2.exceptions.QASM2ParseError: \"<input>:5,0: cannot use non-builtin custom instruction \\'cx\\' before definition\"\\n'\n",
      "Failed to execute to_execute.py in Docker.\n",
      "Error parsing: Command 'python /workspace/to_execute.py' in image 'qiskit_runner' returned non-zero exit status 1: b'Traceback (most recent call last):\\n  File \"/workspace/to_execute.py\", line 10, in <module>\\n    qc = qasm2.loads(\\n  File \"/usr/local/lib/python3.10/site-packages/qiskit/qasm2/__init__.py\", line 587, in loads\\n    return _parse.from_bytecode(\\n  File \"/usr/local/lib/python3.10/site-packages/qiskit/qasm2/parse.py\", line 214, in from_bytecode\\n    for op in bc:\\nqiskit.qasm2.exceptions.QASM2ParseError: \"<input>:5,16: \\'reg_2_b\\' is not defined in this scope\"\\n'\n",
      "Failed to execute to_execute.py in Docker.\n",
      "Error parsing: Command 'python /workspace/to_execute.py' in image 'qiskit_runner' returned non-zero exit status 1: b'  File \"/workspace/to_execute.py\", line 10\\n    qc = qasm2.loads(\\n                    ^\\nSyntaxError: \\'(\\' was never closed\\n'\n",
      "Failed to execute to_execute.py in Docker.\n",
      "Error parsing: Command 'python /workspace/to_execute.py' in image 'qiskit_runner' returned non-zero exit status 1: b'  File \"/workspace/to_execute.py\", line 20\\n    , custom_instructions=qasm2.LEGACY_CUSTOM_INSTRUCTIONS)\\nIndentationError: unexpected indent\\n'\n",
      "Failed to execute to_execute.py in Docker.\n",
      "Error parsing: Command 'python /workspace/to_execute.py' in image 'qiskit_runner' returned non-zero exit status 1: b'  File \"/workspace/to_execute.py\", line 12\\n    include \"qelib1.inc\";\\n            ^^^^^^^^^^^^\\nSyntaxError: invalid syntax\\n'\n",
      "Failed to execute to_execute.py in Docker.\n",
      "Error parsing: Command 'python /workspace/to_execute.py' in image 'qiskit_runner' returned non-zero exit status 1: b'Traceback (most recent call last):\\n  File \"/workspace/to_execute.py\", line 10, in <module>\\n    qc = qasm2.loads(\\n  File \"/usr/local/lib/python3.10/site-packages/qiskit/qasm2/__init__.py\", line 587, in loads\\n    return _parse.from_bytecode(\\n  File \"/usr/local/lib/python3.10/site-packages/qiskit/qasm2/parse.py\", line 214, in from_bytecode\\n    for op in bc:\\nqiskit.qasm2.exceptions.QASM2ParseError: \"<input>:6,0: cannot use non-builtin custom instruction \\'cx\\' before definition\"\\n'\n",
      "Failed to execute to_execute.py in Docker.\n",
      "Error parsing: Command 'python /workspace/to_execute.py' in image 'qiskit_runner' returned non-zero exit status 1: b'Traceback (most recent call last):\\n  File \"/workspace/to_execute.py\", line 10, in <module>\\n    qc = qasm2.loads(\\n  File \"/usr/local/lib/python3.10/site-packages/qiskit/qasm2/__init__.py\", line 587, in loads\\n    return _parse.from_bytecode(\\n  File \"/usr/local/lib/python3.10/site-packages/qiskit/qasm2/parse.py\", line 214, in from_bytecode\\n    for op in bc:\\nqiskit.qasm2.exceptions.QASM2ParseError: \"<input>:7,14: \\'reg_2_b\\' is not defined in this scope\"\\n'\n",
      "Failed to execute to_execute.py in Docker.\n",
      "Error parsing: Command 'python /workspace/to_execute.py' in image 'qiskit_runner' returned non-zero exit status 1: b'Traceback (most recent call last):\\n  File \"/workspace/to_execute.py\", line 10, in <module>\\n    qc = qasm2.loads(\\n  File \"/usr/local/lib/python3.10/site-packages/qiskit/qasm2/__init__.py\", line 587, in loads\\n    return _parse.from_bytecode(\\n  File \"/usr/local/lib/python3.10/site-packages/qiskit/qasm2/parse.py\", line 214, in from_bytecode\\n    for op in bc:\\nqiskit.qasm2.exceptions.QASM2ParseError: \"<input>:6,3: \\'reg_1_q\\' is not defined in this scope\"\\n'\n",
      "Failed to execute to_execute.py in Docker.\n",
      "Output: Saved the BQSKit circuit to /workspace/to_execute_qc_bqskit.qasm\n",
      "Saved the Pytket circuit to /workspace/to_execute_qc_pytket.qasm\n",
      "Exported QASM files: [('/workspace/to_execute_qc_bqskit.qasm', 'export_to_qasm_with_bqskit'), ('/workspace/to_execute_qc_pytket.qasm', 'export_to_qasm_with_pytket')]\n",
      "Log has been saved to /workspace/to_execute_151dbc_error.json\n",
      "\n",
      "Program to_execute.py executed successfully.\n",
      "New exception message: The circuits are not equivalent: /workspace/to_execute_qc_bqskit.qasm, /workspace/to_execute_qc_pytket.qasm\n",
      "Error parsing: Command 'python /workspace/to_execute.py' in image 'qiskit_runner' returned non-zero exit status 1: b'  File \"/workspace/to_execute.py\", line 19\\n    , custom_instructions=qasm2.LEGACY_CUSTOM_INSTRUCTIONS)\\nIndentationError: unexpected indent\\n'\n",
      "Failed to execute to_execute.py in Docker.\n",
      "Error parsing: Command 'python /workspace/to_execute.py' in image 'qiskit_runner' returned non-zero exit status 1: b'  File \"/workspace/to_execute.py\", line 12\\n    include \"qelib1.inc\";\\n            ^^^^^^^^^^^^\\nSyntaxError: invalid syntax\\n'\n",
      "Failed to execute to_execute.py in Docker.\n",
      "Error parsing: Command 'python /workspace/to_execute.py' in image 'qiskit_runner' returned non-zero exit status 1: b'Traceback (most recent call last):\\n  File \"/workspace/to_execute.py\", line 10, in <module>\\n    qc = qasm2.loads(\\n  File \"/usr/local/lib/python3.10/site-packages/qiskit/qasm2/__init__.py\", line 587, in loads\\n    return _parse.from_bytecode(\\n  File \"/usr/local/lib/python3.10/site-packages/qiskit/qasm2/parse.py\", line 214, in from_bytecode\\n    for op in bc:\\nqiskit.qasm2.exceptions.QASM2ParseError: \"<input>:6,0: cannot use non-builtin custom instruction \\'cx\\' before definition\"\\n'\n",
      "Failed to execute to_execute.py in Docker.\n",
      "Error parsing: Command 'python /workspace/to_execute.py' in image 'qiskit_runner' returned non-zero exit status 1: b'Traceback (most recent call last):\\n  File \"/workspace/to_execute.py\", line 10, in <module>\\n    qc = qasm2.loads(\\n  File \"/usr/local/lib/python3.10/site-packages/qiskit/qasm2/__init__.py\", line 587, in loads\\n    return _parse.from_bytecode(\\n  File \"/usr/local/lib/python3.10/site-packages/qiskit/qasm2/parse.py\", line 214, in from_bytecode\\n    for op in bc:\\nqiskit.qasm2.exceptions.QASM2ParseError: \"<input>:6,16: \\'reg_2_b\\' is not defined in this scope\"\\n'\n",
      "Failed to execute to_execute.py in Docker.\n",
      "Output: Saved the BQSKit circuit to /workspace/to_execute_qc_bqskit.qasm\n",
      "Saved the Pytket circuit to /workspace/to_execute_qc_pytket.qasm\n",
      "Exported QASM files: [('/workspace/to_execute_qc_bqskit.qasm', 'export_to_qasm_with_bqskit'), ('/workspace/to_execute_qc_pytket.qasm', 'export_to_qasm_with_pytket')]\n",
      "Log has been saved to /workspace/to_execute_4f628b_error.json\n",
      "\n",
      "Program to_execute.py executed successfully.\n",
      "New exception message: The circuits are not equivalent: /workspace/to_execute_qc_bqskit.qasm, /workspace/to_execute_qc_pytket.qasm\n",
      "Error parsing: Command 'python /workspace/to_execute.py' in image 'qiskit_runner' returned non-zero exit status 1: b'  File \"/workspace/to_execute.py\", line 18\\n    , custom_instructions=qasm2.LEGACY_CUSTOM_INSTRUCTIONS)\\nIndentationError: unexpected indent\\n'\n",
      "Failed to execute to_execute.py in Docker.\n",
      "Error parsing: Command 'python /workspace/to_execute.py' in image 'qiskit_runner' returned non-zero exit status 1: b'  File \"/workspace/to_execute.py\", line 12\\n    include \"qelib1.inc\";\\n            ^^^^^^^^^^^^\\nSyntaxError: invalid syntax\\n'\n",
      "Failed to execute to_execute.py in Docker.\n",
      "Error parsing: Command 'python /workspace/to_execute.py' in image 'qiskit_runner' returned non-zero exit status 1: b'Traceback (most recent call last):\\n  File \"/workspace/to_execute.py\", line 10, in <module>\\n    qc = qasm2.loads(\\n  File \"/usr/local/lib/python3.10/site-packages/qiskit/qasm2/__init__.py\", line 587, in loads\\n    return _parse.from_bytecode(\\n  File \"/usr/local/lib/python3.10/site-packages/qiskit/qasm2/parse.py\", line 214, in from_bytecode\\n    for op in bc:\\nqiskit.qasm2.exceptions.QASM2ParseError: \"<input>:5,0: cannot use non-builtin custom instruction \\'cx\\' before definition\"\\n'\n",
      "Failed to execute to_execute.py in Docker.\n",
      "Error parsing: Command 'python /workspace/to_execute.py' in image 'qiskit_runner' returned non-zero exit status 1: b'Traceback (most recent call last):\\n  File \"/workspace/to_execute.py\", line 10, in <module>\\n    qc = qasm2.loads(\\n  File \"/usr/local/lib/python3.10/site-packages/qiskit/qasm2/__init__.py\", line 587, in loads\\n    return _parse.from_bytecode(\\n  File \"/usr/local/lib/python3.10/site-packages/qiskit/qasm2/parse.py\", line 214, in from_bytecode\\n    for op in bc:\\nqiskit.qasm2.exceptions.QASM2ParseError: \"<input>:5,16: \\'reg_2_b\\' is not defined in this scope\"\\n'\n",
      "Failed to execute to_execute.py in Docker.\n",
      "Error parsing: Command 'python /workspace/to_execute.py' in image 'qiskit_runner' returned non-zero exit status 1: b'  File \"/workspace/to_execute.py\", line 12\\n    OPENQASM 2.0;\\n    ^^^^^^^^^^^^\\nSyntaxError: invalid syntax. Perhaps you forgot a comma?\\n'\n",
      "Failed to execute to_execute.py in Docker.\n",
      "Error parsing: Command 'python /workspace/to_execute.py' in image 'qiskit_runner' returned non-zero exit status 1: b'  File \"/workspace/to_execute.py\", line 10\\n    qc = qasm2.loads(\\n                    ^\\nSyntaxError: \\'(\\' was never closed\\n'\n",
      "Failed to execute to_execute.py in Docker.\n",
      "Error parsing: Command 'python /workspace/to_execute.py' in image 'qiskit_runner' returned non-zero exit status 1: b'  File \"/workspace/to_execute.py\", line 19\\n    , custom_instructions=qasm2.LEGACY_CUSTOM_INSTRUCTIONS)\\nIndentationError: unexpected indent\\n'\n",
      "Failed to execute to_execute.py in Docker.\n",
      "Output: Saved the BQSKit circuit to /workspace/to_execute_qc_bqskit.qasm\n",
      "Saved the Pytket circuit to /workspace/to_execute_qc_pytket.qasm\n",
      "Exported QASM files: [('/workspace/to_execute_qc_bqskit.qasm', 'export_to_qasm_with_bqskit'), ('/workspace/to_execute_qc_pytket.qasm', 'export_to_qasm_with_pytket')]\n",
      "Log has been saved to /workspace/to_execute_03a1c0_error.json\n",
      "\n",
      "Program to_execute.py executed successfully.\n",
      "New exception message: The circuits are not equivalent: /workspace/to_execute_qc_bqskit.qasm, /workspace/to_execute_qc_pytket.qasm\n",
      "Error parsing: Command 'python /workspace/to_execute.py' in image 'qiskit_runner' returned non-zero exit status 1: b'  File \"/workspace/to_execute.py\", line 18\\n    , custom_instructions=qasm2.LEGACY_CUSTOM_INSTRUCTIONS)\\nIndentationError: unexpected indent\\n'\n",
      "Failed to execute to_execute.py in Docker.\n",
      "Error parsing: Command 'python /workspace/to_execute.py' in image 'qiskit_runner' returned non-zero exit status 1: b'  File \"/workspace/to_execute.py\", line 11\\n    OPENQASM 2.0;\\n    ^^^^^^^^^^^^\\nSyntaxError: invalid syntax. Perhaps you forgot a comma?\\n'\n",
      "Failed to execute to_execute.py in Docker.\n",
      "Output: Saved the BQSKit circuit to /workspace/to_execute_qc_bqskit.qasm\n",
      "Saved the Pytket circuit to /workspace/to_execute_qc_pytket.qasm\n",
      "Exported QASM files: [('/workspace/to_execute_qc_bqskit.qasm', 'export_to_qasm_with_bqskit'), ('/workspace/to_execute_qc_pytket.qasm', 'export_to_qasm_with_pytket')]\n",
      "Log has been saved to /workspace/to_execute_91a812_error.json\n",
      "\n",
      "Program to_execute.py executed successfully.\n",
      "New exception message: The circuits are not equivalent: /workspace/to_execute_qc_bqskit.qasm, /workspace/to_execute_qc_pytket.qasm\n",
      "Error parsing: Command 'python /workspace/to_execute.py' in image 'qiskit_runner' returned non-zero exit status 1: b'  File \"/workspace/to_execute.py\", line 17\\n    , custom_instructions=qasm2.LEGACY_CUSTOM_INSTRUCTIONS)\\nIndentationError: unexpected indent\\n'\n",
      "Failed to execute to_execute.py in Docker.\n",
      "Error parsing: Command 'python /workspace/to_execute.py' in image 'qiskit_runner' returned non-zero exit status 1: b'  File \"/workspace/to_execute.py\", line 11\\n    include \"qelib1.inc\";\\n            ^^^^^^^^^^^^\\nSyntaxError: invalid syntax\\n'\n",
      "Failed to execute to_execute.py in Docker.\n",
      "Error parsing: Command 'python /workspace/to_execute.py' in image 'qiskit_runner' returned non-zero exit status 1: b'Traceback (most recent call last):\\n  File \"/workspace/to_execute.py\", line 10, in <module>\\n    qc = qasm2.loads(\\n  File \"/usr/local/lib/python3.10/site-packages/qiskit/qasm2/__init__.py\", line 587, in loads\\n    return _parse.from_bytecode(\\n  File \"/usr/local/lib/python3.10/site-packages/qiskit/qasm2/parse.py\", line 214, in from_bytecode\\n    for op in bc:\\nqiskit.qasm2.exceptions.QASM2ParseError: \"<input>:5,0: cannot use non-builtin custom instruction \\'cx\\' before definition\"\\n'\n",
      "Failed to execute to_execute.py in Docker.\n",
      "Error parsing: Command 'python /workspace/to_execute.py' in image 'qiskit_runner' returned non-zero exit status 1: b'Traceback (most recent call last):\\n  File \"/workspace/to_execute.py\", line 10, in <module>\\n    qc = qasm2.loads(\\n  File \"/usr/local/lib/python3.10/site-packages/qiskit/qasm2/__init__.py\", line 587, in loads\\n    return _parse.from_bytecode(\\n  File \"/usr/local/lib/python3.10/site-packages/qiskit/qasm2/parse.py\", line 214, in from_bytecode\\n    for op in bc:\\nqiskit.qasm2.exceptions.QASM2ParseError: \"<input>:5,3: \\'reg_2_cin\\' is not defined in this scope\"\\n'\n",
      "Failed to execute to_execute.py in Docker.\n",
      "Error parsing: Command 'python /workspace/to_execute.py' in image 'qiskit_runner' returned non-zero exit status 1: b'Traceback (most recent call last):\\n  File \"/workspace/to_execute.py\", line 10, in <module>\\n    qc = qasm2.loads(\\n  File \"/usr/local/lib/python3.10/site-packages/qiskit/qasm2/__init__.py\", line 587, in loads\\n    return _parse.from_bytecode(\\n  File \"/usr/local/lib/python3.10/site-packages/qiskit/qasm2/parse.py\", line 214, in from_bytecode\\n    for op in bc:\\nqiskit.qasm2.exceptions.QASM2ParseError: \"<input>:5,16: \\'reg_2_b\\' is not defined in this scope\"\\n'\n",
      "Failed to execute to_execute.py in Docker.\n",
      "Output: Saved the BQSKit circuit to /workspace/to_execute_qc_bqskit.qasm\n",
      "Saved the Pytket circuit to /workspace/to_execute_qc_pytket.qasm\n",
      "Exported QASM files: [('/workspace/to_execute_qc_bqskit.qasm', 'export_to_qasm_with_bqskit'), ('/workspace/to_execute_qc_pytket.qasm', 'export_to_qasm_with_pytket')]\n",
      "Log has been saved to /workspace/to_execute_9b5d7e_error.json\n",
      "\n",
      "Program to_execute.py executed successfully.\n",
      "New exception message: The circuits are not equivalent: /workspace/to_execute_qc_bqskit.qasm, /workspace/to_execute_qc_pytket.qasm\n",
      "Error parsing: Command 'python /workspace/to_execute.py' in image 'qiskit_runner' returned non-zero exit status 1: b'  File \"/workspace/to_execute.py\", line 16\\n    , custom_instructions=qasm2.LEGACY_CUSTOM_INSTRUCTIONS)\\nIndentationError: unexpected indent\\n'\n",
      "Failed to execute to_execute.py in Docker.\n",
      "Error parsing: Command 'python /workspace/to_execute.py' in image 'qiskit_runner' returned non-zero exit status 1: b'  File \"/workspace/to_execute.py\", line 11\\n    include \"qelib1.inc\";\\n            ^^^^^^^^^^^^\\nSyntaxError: invalid syntax\\n'\n",
      "Failed to execute to_execute.py in Docker.\n",
      "Error parsing: Command 'python /workspace/to_execute.py' in image 'qiskit_runner' returned non-zero exit status 1: b'Traceback (most recent call last):\\n  File \"/workspace/to_execute.py\", line 10, in <module>\\n    qc = qasm2.loads(\\n  File \"/usr/local/lib/python3.10/site-packages/qiskit/qasm2/__init__.py\", line 587, in loads\\n    return _parse.from_bytecode(\\n  File \"/usr/local/lib/python3.10/site-packages/qiskit/qasm2/parse.py\", line 214, in from_bytecode\\n    for op in bc:\\nqiskit.qasm2.exceptions.QASM2ParseError: \"<input>:4,0: cannot use non-builtin custom instruction \\'cx\\' before definition\"\\n'\n",
      "Failed to execute to_execute.py in Docker.\n",
      "Error parsing: Command 'python /workspace/to_execute.py' in image 'qiskit_runner' returned non-zero exit status 1: b'Traceback (most recent call last):\\n  File \"/workspace/to_execute.py\", line 10, in <module>\\n    qc = qasm2.loads(\\n  File \"/usr/local/lib/python3.10/site-packages/qiskit/qasm2/__init__.py\", line 587, in loads\\n    return _parse.from_bytecode(\\n  File \"/usr/local/lib/python3.10/site-packages/qiskit/qasm2/parse.py\", line 214, in from_bytecode\\n    for op in bc:\\nqiskit.qasm2.exceptions.QASM2ParseError: \"<input>:4,3: \\'reg_2_cin\\' is not defined in this scope\"\\n'\n",
      "Failed to execute to_execute.py in Docker.\n",
      "Error parsing: Command 'python /workspace/to_execute.py' in image 'qiskit_runner' returned non-zero exit status 1: b'Traceback (most recent call last):\\n  File \"/workspace/to_execute.py\", line 10, in <module>\\n    qc = qasm2.loads(\\n  File \"/usr/local/lib/python3.10/site-packages/qiskit/qasm2/__init__.py\", line 587, in loads\\n    return _parse.from_bytecode(\\n  File \"/usr/local/lib/python3.10/site-packages/qiskit/qasm2/parse.py\", line 214, in from_bytecode\\n    for op in bc:\\nqiskit.qasm2.exceptions.QASM2ParseError: \"<input>:4,16: \\'reg_2_b\\' is not defined in this scope\"\\n'\n",
      "Failed to execute to_execute.py in Docker.\n",
      "Output: Saved the BQSKit circuit to /workspace/to_execute_qc_bqskit.qasm\n",
      "Saved the Pytket circuit to /workspace/to_execute_qc_pytket.qasm\n",
      "Exported QASM files: [('/workspace/to_execute_qc_bqskit.qasm', 'export_to_qasm_with_bqskit'), ('/workspace/to_execute_qc_pytket.qasm', 'export_to_qasm_with_pytket')]\n",
      "The circuits are equivalent: /workspace/to_execute_qc_bqskit.qasm, /workspace/to_execute_qc_pytket.qasm\n",
      "\n",
      "Program to_execute.py executed successfully.\n",
      "Error parsing: Command 'python /workspace/to_execute.py' in image 'qiskit_runner' returned non-zero exit status 1: b'  File \"/workspace/to_execute.py\", line 11\\n    include \"qelib1.inc\";\\n            ^^^^^^^^^^^^\\nSyntaxError: invalid syntax\\n'\n",
      "Failed to execute to_execute.py in Docker.\n",
      "Error parsing: Command 'python /workspace/to_execute.py' in image 'qiskit_runner' returned non-zero exit status 1: b'  File \"/workspace/to_execute.py\", line 10\\n    qc = qasm2.loads(\\n                    ^\\nSyntaxError: \\'(\\' was never closed\\n'\n",
      "Failed to execute to_execute.py in Docker.\n"
     ]
    },
    {
     "data": {
      "text/html": [
       "<pre style=\"white-space:pre;overflow-x:auto;line-height:normal;font-family:Menlo,'DejaVu Sans Mono',consolas,'Courier New',monospace\"><span style=\"color: #7fbfbf; text-decoration-color: #7fbfbf\">[15:23:48] </span><span style=\"color: #008000; text-decoration-color: #008000\">Minimized file saved as:</span>                                                        <a href=\"file:///home/paltenmo/projects/crossplatform/analysis_and_reporting/ddmin_target_file.py\" target=\"_blank\"><span style=\"color: #7f7f7f; text-decoration-color: #7f7f7f\">ddmin_target_file.py</span></a><span style=\"color: #7f7f7f; text-decoration-color: #7f7f7f\">:</span><a href=\"file:///home/paltenmo/projects/crossplatform/analysis_and_reporting/ddmin_target_file.py#240\" target=\"_blank\"><span style=\"color: #7f7f7f; text-decoration-color: #7f7f7f\">240</span></a>\n",
       "<span style=\"color: #7fbfbf; text-decoration-color: #7fbfbf\">           </span>..<span style=\"color: #800080; text-decoration-color: #800080\">/reports/v009/2024_11_21__15_20/</span><span style=\"color: #ff00ff; text-decoration-color: #ff00ff\">qiskit_circuit_5q_10g_650_4493c8_a271e3_error</span> <span style=\"color: #7f7f7f; text-decoration-color: #7f7f7f\">                        </span>\n",
       "<span style=\"color: #7fbfbf; text-decoration-color: #7fbfbf\">           </span><span style=\"color: #ff00ff; text-decoration-color: #ff00ff\">_min.py</span>                                                                         <span style=\"color: #7f7f7f; text-decoration-color: #7f7f7f\">                        </span>\n",
       "</pre>\n"
      ],
      "text/plain": [
       "\u001b[2;36m[15:23:48]\u001b[0m\u001b[2;36m \u001b[0m\u001b[32mMinimized file saved as:\u001b[0m                                                        \u001b]8;id=23267;file:///home/paltenmo/projects/crossplatform/analysis_and_reporting/ddmin_target_file.py\u001b\\\u001b[2mddmin_target_file.py\u001b[0m\u001b]8;;\u001b\\\u001b[2m:\u001b[0m\u001b]8;id=35295;file:///home/paltenmo/projects/crossplatform/analysis_and_reporting/ddmin_target_file.py#240\u001b\\\u001b[2m240\u001b[0m\u001b]8;;\u001b\\\n",
       "\u001b[2;36m           \u001b[0m..\u001b[35m/reports/v009/2024_11_21__15_20/\u001b[0m\u001b[95mqiskit_circuit_5q_10g_650_4493c8_a271e3_error\u001b[0m \u001b[2m                        \u001b[0m\n",
       "\u001b[2;36m           \u001b[0m\u001b[95m_min.py\u001b[0m                                                                         \u001b[2m                        \u001b[0m\n"
      ]
     },
     "metadata": {},
     "output_type": "display_data"
    },
    {
     "name": "stdout",
     "output_type": "stream",
     "text": [
      "Output: Saved the BQSKit circuit to /workspace/qiskit_circuit_5q_10g_650_4493c8_a271e3_error_min_qc_bqskit.qasm\n",
      "Saved the Pytket circuit to /workspace/qiskit_circuit_5q_10g_650_4493c8_a271e3_error_min_qc_pytket.qasm\n",
      "Exported QASM files: [('/workspace/qiskit_circuit_5q_10g_650_4493c8_a271e3_error_min_qc_bqskit.qasm', 'export_to_qasm_with_bqskit'), ('/workspace/qiskit_circuit_5q_10g_650_4493c8_a271e3_error_min_qc_pytket.qasm', 'export_to_qasm_with_pytket')]\n",
      "Log has been saved to /workspace/qiskit_circuit_5q_10g_650_4493c8_a271e3_error_min_47549b_error.json\n",
      "\n"
     ]
    },
    {
     "data": {
      "text/html": [
       "<pre style=\"white-space:pre;overflow-x:auto;line-height:normal;font-family:Menlo,'DejaVu Sans Mono',consolas,'Courier New',monospace\"><span style=\"color: #7fbfbf; text-decoration-color: #7fbfbf\">[15:23:55] </span>Program qiskit_circuit_5q_10g_650_4493c8_a271e3_error_min.py executed successfully. <a href=\"file:///home/paltenmo/projects/crossplatform/generators/docker_tooling.py\" target=\"_blank\"><span style=\"color: #7f7f7f; text-decoration-color: #7f7f7f\">docker_tooling.py</span></a><span style=\"color: #7f7f7f; text-decoration-color: #7f7f7f\">:</span><a href=\"file:///home/paltenmo/projects/crossplatform/generators/docker_tooling.py#46\" target=\"_blank\"><span style=\"color: #7f7f7f; text-decoration-color: #7f7f7f\">46</span></a>\n",
       "</pre>\n"
      ],
      "text/plain": [
       "\u001b[2;36m[15:23:55]\u001b[0m\u001b[2;36m \u001b[0mProgram qiskit_circuit_5q_10g_650_4493c8_a271e3_error_min.py executed successfully. \u001b]8;id=382553;file:///home/paltenmo/projects/crossplatform/generators/docker_tooling.py\u001b\\\u001b[2mdocker_tooling.py\u001b[0m\u001b]8;;\u001b\\\u001b[2m:\u001b[0m\u001b]8;id=189236;file:///home/paltenmo/projects/crossplatform/generators/docker_tooling.py#46\u001b\\\u001b[2m46\u001b[0m\u001b]8;;\u001b\\\n"
      ]
     },
     "metadata": {},
     "output_type": "display_data"
    },
    {
     "data": {
      "application/vnd.jupyter.widget-view+json": {
       "model_id": "aadc11eac00b4aa3943bb704a9837f38",
       "version_major": 2,
       "version_minor": 0
      },
      "text/plain": [
       "Executing:   0%|          | 0/13 [00:00<?, ?cell/s]"
      ]
     },
     "metadata": {},
     "output_type": "display_data"
    },
    {
     "data": {
      "text/html": [
       "<pre style=\"white-space:pre;overflow-x:auto;line-height:normal;font-family:Menlo,'DejaVu Sans Mono',consolas,'Courier New',monospace\"><span style=\"color: #7fbfbf; text-decoration-color: #7fbfbf\">[15:23:58] </span>Analysis notebook executed: ..<span style=\"color: #800080; text-decoration-color: #800080\">/reports/v009/2024_11_21__15_20/</span><span style=\"color: #ff00ff; text-decoration-color: #ff00ff\">analysis_output.ipynb</span>        <a href=\"file:///home/paltenmo/projects/crossplatform/analysis_and_reporting/triage.py\" target=\"_blank\"><span style=\"color: #7f7f7f; text-decoration-color: #7f7f7f\">triage.py</span></a><span style=\"color: #7f7f7f; text-decoration-color: #7f7f7f\">:</span><a href=\"file:///home/paltenmo/projects/crossplatform/analysis_and_reporting/triage.py#163\" target=\"_blank\"><span style=\"color: #7f7f7f; text-decoration-color: #7f7f7f\">163</span></a>\n",
       "</pre>\n"
      ],
      "text/plain": [
       "\u001b[2;36m[15:23:58]\u001b[0m\u001b[2;36m \u001b[0mAnalysis notebook executed: ..\u001b[35m/reports/v009/2024_11_21__15_20/\u001b[0m\u001b[95manalysis_output.ipynb\u001b[0m        \u001b]8;id=657687;file:///home/paltenmo/projects/crossplatform/analysis_and_reporting/triage.py\u001b\\\u001b[2mtriage.py\u001b[0m\u001b]8;;\u001b\\\u001b[2m:\u001b[0m\u001b]8;id=90175;file:///home/paltenmo/projects/crossplatform/analysis_and_reporting/triage.py#163\u001b\\\u001b[2m163\u001b[0m\u001b]8;;\u001b\\\n"
      ]
     },
     "metadata": {},
     "output_type": "display_data"
    },
    {
     "data": {
      "text/html": [
       "<pre style=\"white-space:pre;overflow-x:auto;line-height:normal;font-family:Menlo,'DejaVu Sans Mono',consolas,'Courier New',monospace\"><span style=\"color: #7fbfbf; text-decoration-color: #7fbfbf\">           </span>Created report folder: ..<span style=\"color: #800080; text-decoration-color: #800080\">/reports/v009/</span><span style=\"color: #ff00ff; text-decoration-color: #ff00ff\">2024_11_21__15_23</span>                                   <a href=\"file:///home/paltenmo/projects/crossplatform/analysis_and_reporting/triage.py\" target=\"_blank\"><span style=\"color: #7f7f7f; text-decoration-color: #7f7f7f\">triage.py</span></a><span style=\"color: #7f7f7f; text-decoration-color: #7f7f7f\">:</span><a href=\"file:///home/paltenmo/projects/crossplatform/analysis_and_reporting/triage.py#131\" target=\"_blank\"><span style=\"color: #7f7f7f; text-decoration-color: #7f7f7f\">131</span></a>\n",
       "</pre>\n"
      ],
      "text/plain": [
       "\u001b[2;36m          \u001b[0m\u001b[2;36m \u001b[0mCreated report folder: ..\u001b[35m/reports/v009/\u001b[0m\u001b[95m2024_11_21__15_23\u001b[0m                                   \u001b]8;id=436416;file:///home/paltenmo/projects/crossplatform/analysis_and_reporting/triage.py\u001b\\\u001b[2mtriage.py\u001b[0m\u001b]8;;\u001b\\\u001b[2m:\u001b[0m\u001b]8;id=622083;file:///home/paltenmo/projects/crossplatform/analysis_and_reporting/triage.py#131\u001b\\\u001b[2m131\u001b[0m\u001b]8;;\u001b\\\n"
      ]
     },
     "metadata": {},
     "output_type": "display_data"
    },
    {
     "data": {
      "text/html": [
       "<pre style=\"white-space:pre;overflow-x:auto;line-height:normal;font-family:Menlo,'DejaVu Sans Mono',consolas,'Courier New',monospace\"><span style=\"color: #7fbfbf; text-decoration-color: #7fbfbf\">           </span>Copied files to: ..<span style=\"color: #800080; text-decoration-color: #800080\">/reports/v009/</span><span style=\"color: #ff00ff; text-decoration-color: #ff00ff\">2024_11_21__15_23</span>                                         <a href=\"file:///home/paltenmo/projects/crossplatform/analysis_and_reporting/triage.py\" target=\"_blank\"><span style=\"color: #7f7f7f; text-decoration-color: #7f7f7f\">triage.py</span></a><span style=\"color: #7f7f7f; text-decoration-color: #7f7f7f\">:</span><a href=\"file:///home/paltenmo/projects/crossplatform/analysis_and_reporting/triage.py#140\" target=\"_blank\"><span style=\"color: #7f7f7f; text-decoration-color: #7f7f7f\">140</span></a>\n",
       "</pre>\n"
      ],
      "text/plain": [
       "\u001b[2;36m          \u001b[0m\u001b[2;36m \u001b[0mCopied files to: ..\u001b[35m/reports/v009/\u001b[0m\u001b[95m2024_11_21__15_23\u001b[0m                                         \u001b]8;id=507940;file:///home/paltenmo/projects/crossplatform/analysis_and_reporting/triage.py\u001b\\\u001b[2mtriage.py\u001b[0m\u001b]8;;\u001b\\\u001b[2m:\u001b[0m\u001b]8;id=690126;file:///home/paltenmo/projects/crossplatform/analysis_and_reporting/triage.py#140\u001b\\\u001b[2m140\u001b[0m\u001b]8;;\u001b\\\n"
      ]
     },
     "metadata": {},
     "output_type": "display_data"
    },
    {
     "data": {
      "text/html": [
       "<pre style=\"white-space:pre;overflow-x:auto;line-height:normal;font-family:Menlo,'DejaVu Sans Mono',consolas,'Courier New',monospace\"><span style=\"color: #7fbfbf; text-decoration-color: #7fbfbf\">[15:23:58] </span>Involved functions:                                                             <a href=\"file:///home/paltenmo/projects/crossplatform/analysis_and_reporting/ddmin_target_file.py\" target=\"_blank\"><span style=\"color: #7f7f7f; text-decoration-color: #7f7f7f\">ddmin_target_file.py</span></a><span style=\"color: #7f7f7f; text-decoration-color: #7f7f7f\">:</span><a href=\"file:///home/paltenmo/projects/crossplatform/analysis_and_reporting/ddmin_target_file.py#206\" target=\"_blank\"><span style=\"color: #7f7f7f; text-decoration-color: #7f7f7f\">206</span></a>\n",
       "</pre>\n"
      ],
      "text/plain": [
       "\u001b[2;36m[15:23:58]\u001b[0m\u001b[2;36m \u001b[0mInvolved functions:                                                             \u001b]8;id=648791;file:///home/paltenmo/projects/crossplatform/analysis_and_reporting/ddmin_target_file.py\u001b\\\u001b[2mddmin_target_file.py\u001b[0m\u001b]8;;\u001b\\\u001b[2m:\u001b[0m\u001b]8;id=867010;file:///home/paltenmo/projects/crossplatform/analysis_and_reporting/ddmin_target_file.py#206\u001b\\\u001b[2m206\u001b[0m\u001b]8;;\u001b\\\n"
      ]
     },
     "metadata": {},
     "output_type": "display_data"
    },
    {
     "data": {
      "text/html": [
       "<pre style=\"white-space:pre;overflow-x:auto;line-height:normal;font-family:Menlo,'DejaVu Sans Mono',consolas,'Courier New',monospace\"><span style=\"color: #7fbfbf; text-decoration-color: #7fbfbf\">           </span>  - compare_qasm_via_qcec                                                       <a href=\"file:///home/paltenmo/projects/crossplatform/analysis_and_reporting/ddmin_target_file.py\" target=\"_blank\"><span style=\"color: #7f7f7f; text-decoration-color: #7f7f7f\">ddmin_target_file.py</span></a><span style=\"color: #7f7f7f; text-decoration-color: #7f7f7f\">:</span><a href=\"file:///home/paltenmo/projects/crossplatform/analysis_and_reporting/ddmin_target_file.py#208\" target=\"_blank\"><span style=\"color: #7f7f7f; text-decoration-color: #7f7f7f\">208</span></a>\n",
       "</pre>\n"
      ],
      "text/plain": [
       "\u001b[2;36m          \u001b[0m\u001b[2;36m \u001b[0m  - compare_qasm_via_qcec                                                       \u001b]8;id=128903;file:///home/paltenmo/projects/crossplatform/analysis_and_reporting/ddmin_target_file.py\u001b\\\u001b[2mddmin_target_file.py\u001b[0m\u001b]8;;\u001b\\\u001b[2m:\u001b[0m\u001b]8;id=262494;file:///home/paltenmo/projects/crossplatform/analysis_and_reporting/ddmin_target_file.py#208\u001b\\\u001b[2m208\u001b[0m\u001b]8;;\u001b\\\n"
      ]
     },
     "metadata": {},
     "output_type": "display_data"
    },
    {
     "data": {
      "text/html": [
       "<pre style=\"white-space:pre;overflow-x:auto;line-height:normal;font-family:Menlo,'DejaVu Sans Mono',consolas,'Courier New',monospace\"><span style=\"color: #7fbfbf; text-decoration-color: #7fbfbf\">           </span>  - export_to_qasm_with_pytket                                                  <a href=\"file:///home/paltenmo/projects/crossplatform/analysis_and_reporting/ddmin_target_file.py\" target=\"_blank\"><span style=\"color: #7f7f7f; text-decoration-color: #7f7f7f\">ddmin_target_file.py</span></a><span style=\"color: #7f7f7f; text-decoration-color: #7f7f7f\">:</span><a href=\"file:///home/paltenmo/projects/crossplatform/analysis_and_reporting/ddmin_target_file.py#208\" target=\"_blank\"><span style=\"color: #7f7f7f; text-decoration-color: #7f7f7f\">208</span></a>\n",
       "</pre>\n"
      ],
      "text/plain": [
       "\u001b[2;36m          \u001b[0m\u001b[2;36m \u001b[0m  - export_to_qasm_with_pytket                                                  \u001b]8;id=130607;file:///home/paltenmo/projects/crossplatform/analysis_and_reporting/ddmin_target_file.py\u001b\\\u001b[2mddmin_target_file.py\u001b[0m\u001b]8;;\u001b\\\u001b[2m:\u001b[0m\u001b]8;id=854269;file:///home/paltenmo/projects/crossplatform/analysis_and_reporting/ddmin_target_file.py#208\u001b\\\u001b[2m208\u001b[0m\u001b]8;;\u001b\\\n"
      ]
     },
     "metadata": {},
     "output_type": "display_data"
    },
    {
     "data": {
      "text/html": [
       "<pre style=\"white-space:pre;overflow-x:auto;line-height:normal;font-family:Menlo,'DejaVu Sans Mono',consolas,'Courier New',monospace\"><span style=\"color: #7fbfbf; text-decoration-color: #7fbfbf\">           </span>  - export_to_qasm_with_qiskit                                                  <a href=\"file:///home/paltenmo/projects/crossplatform/analysis_and_reporting/ddmin_target_file.py\" target=\"_blank\"><span style=\"color: #7f7f7f; text-decoration-color: #7f7f7f\">ddmin_target_file.py</span></a><span style=\"color: #7f7f7f; text-decoration-color: #7f7f7f\">:</span><a href=\"file:///home/paltenmo/projects/crossplatform/analysis_and_reporting/ddmin_target_file.py#208\" target=\"_blank\"><span style=\"color: #7f7f7f; text-decoration-color: #7f7f7f\">208</span></a>\n",
       "</pre>\n"
      ],
      "text/plain": [
       "\u001b[2;36m          \u001b[0m\u001b[2;36m \u001b[0m  - export_to_qasm_with_qiskit                                                  \u001b]8;id=710345;file:///home/paltenmo/projects/crossplatform/analysis_and_reporting/ddmin_target_file.py\u001b\\\u001b[2mddmin_target_file.py\u001b[0m\u001b]8;;\u001b\\\u001b[2m:\u001b[0m\u001b]8;id=164765;file:///home/paltenmo/projects/crossplatform/analysis_and_reporting/ddmin_target_file.py#208\u001b\\\u001b[2m208\u001b[0m\u001b]8;;\u001b\\\n"
      ]
     },
     "metadata": {},
     "output_type": "display_data"
    },
    {
     "name": "stdout",
     "output_type": "stream",
     "text": [
      "Error parsing: Command 'python /workspace/to_execute.py' in image 'qiskit_runner' returned non-zero exit status 1: b'Traceback (most recent call last):\\n  File \"/workspace/to_execute.py\", line 105, in <module>\\n    target_qc = qc\\nNameError: name \\'qc\\' is not defined\\n'\n",
      "Failed to execute to_execute.py in Docker.\n",
      "Output: Saved the Pytket circuit to /workspace/to_execute_qc_pytket.qasm\n",
      "Saved the Qiskit circuit to /workspace/to_execute_qc_qiskit.qasm\n",
      "Exported QASM files: [('/workspace/to_execute_qc_pytket.qasm', 'export_to_qasm_with_pytket'), ('/workspace/to_execute_qc_qiskit.qasm', 'export_to_qasm_with_qiskit')]\n",
      "Log has been saved to /workspace/to_execute_20d2d1_error.json\n",
      "\n",
      "Program to_execute.py executed successfully.\n",
      "New exception message: The circuits are not equivalent: /workspace/to_execute_qc_pytket.qasm, /workspace/to_execute_qc_qiskit.qasm\n",
      "Error parsing: Command 'python /workspace/to_execute.py' in image 'qiskit_runner' returned non-zero exit status 1: b'  File \"/workspace/to_execute.py\", line 20\\n    , custom_instructions=qasm2.LEGACY_CUSTOM_INSTRUCTIONS)\\n                                                          ^\\nSyntaxError: unmatched \\')\\'\\n'\n",
      "Failed to execute to_execute.py in Docker.\n",
      "Error parsing: Command 'python /workspace/to_execute.py' in image 'qiskit_runner' returned non-zero exit status 1: b'  File \"/workspace/to_execute.py\", line 10\\n    qc = qasm2.loads(\\n                    ^\\nSyntaxError: \\'(\\' was never closed\\n'\n",
      "Failed to execute to_execute.py in Docker.\n",
      "Error parsing: Command 'python /workspace/to_execute.py' in image 'qiskit_runner' returned non-zero exit status 1: b'  File \"/workspace/to_execute.py\", line 29\\n    , custom_instructions=qasm2.LEGACY_CUSTOM_INSTRUCTIONS)\\n                                                          ^\\nSyntaxError: unmatched \\')\\'\\n'\n",
      "Failed to execute to_execute.py in Docker.\n",
      "Error parsing: Command 'python /workspace/to_execute.py' in image 'qiskit_runner' returned non-zero exit status 1: b'Traceback (most recent call last):\\n  File \"/workspace/to_execute.py\", line 10, in <module>\\n    qc = qasm2.loads(\\n  File \"/usr/local/lib/python3.10/site-packages/qiskit/qasm2/__init__.py\", line 587, in loads\\n    return _parse.from_bytecode(\\n  File \"/usr/local/lib/python3.10/site-packages/qiskit/qasm2/parse.py\", line 214, in from_bytecode\\n    for op in bc:\\nqiskit.qasm2.exceptions.QASM2ParseError: \"<input>:6,28: \\'reg_1_q\\' is not defined in this scope\"\\n'\n",
      "Failed to execute to_execute.py in Docker.\n",
      "Output: Saved the Pytket circuit to /workspace/to_execute_qc_pytket.qasm\n",
      "Saved the Qiskit circuit to /workspace/to_execute_qc_qiskit.qasm\n",
      "Exported QASM files: [('/workspace/to_execute_qc_pytket.qasm', 'export_to_qasm_with_pytket'), ('/workspace/to_execute_qc_qiskit.qasm', 'export_to_qasm_with_qiskit')]\n",
      "Log has been saved to /workspace/to_execute_c65993_error.json\n",
      "\n",
      "Program to_execute.py executed successfully.\n",
      "New exception message: The circuits are not equivalent: /workspace/to_execute_qc_pytket.qasm, /workspace/to_execute_qc_qiskit.qasm\n",
      "Error parsing: Command 'python /workspace/to_execute.py' in image 'qiskit_runner' returned non-zero exit status 1: b'  File \"/workspace/to_execute.py\", line 20\\n    , custom_instructions=qasm2.LEGACY_CUSTOM_INSTRUCTIONS)\\n                                                          ^\\nSyntaxError: unmatched \\')\\'\\n'\n",
      "Failed to execute to_execute.py in Docker.\n",
      "Error parsing: Command 'python /workspace/to_execute.py' in image 'qiskit_runner' returned non-zero exit status 1: b'Traceback (most recent call last):\\n  File \"/workspace/to_execute.py\", line 10, in <module>\\n    qc = qasm2.loads(\\n  File \"/usr/local/lib/python3.10/site-packages/qiskit/qasm2/__init__.py\", line 587, in loads\\n    return _parse.from_bytecode(\\n  File \"/usr/local/lib/python3.10/site-packages/qiskit/qasm2/parse.py\", line 214, in from_bytecode\\n    for op in bc:\\nqiskit.qasm2.exceptions.QASM2ParseError: \"<input>:5,24: \\'reg_1_q\\' is not defined in this scope\"\\n'\n",
      "Failed to execute to_execute.py in Docker.\n",
      "Error parsing: Command 'python /workspace/to_execute.py' in image 'qiskit_runner' returned non-zero exit status 1: b'  File \"/workspace/to_execute.py\", line 10\\n    qc = qasm2.loads(\\n                    ^\\nSyntaxError: \\'(\\' was never closed\\n'\n",
      "Failed to execute to_execute.py in Docker.\n",
      "Error parsing: Command 'python /workspace/to_execute.py' in image 'qiskit_runner' returned non-zero exit status 1: b'  File \"/workspace/to_execute.py\", line 23\\n    , custom_instructions=qasm2.LEGACY_CUSTOM_INSTRUCTIONS)\\n                                                          ^\\nSyntaxError: unmatched \\')\\'\\n'\n",
      "Failed to execute to_execute.py in Docker.\n",
      "Error parsing: Command 'python /workspace/to_execute.py' in image 'qiskit_runner' returned non-zero exit status 1: b'Traceback (most recent call last):\\n  File \"/workspace/to_execute.py\", line 10, in <module>\\n    qc = qasm2.loads(\\n  File \"/usr/local/lib/python3.10/site-packages/qiskit/qasm2/__init__.py\", line 587, in loads\\n    return _parse.from_bytecode(\\n  File \"/usr/local/lib/python3.10/site-packages/qiskit/qasm2/parse.py\", line 214, in from_bytecode\\n    for op in bc:\\nqiskit.qasm2.exceptions.QASM2ParseError: \"<input>:5,0: cannot use non-builtin custom instruction \\'cx\\' before definition\"\\n'\n",
      "Failed to execute to_execute.py in Docker.\n",
      "Error parsing: Command 'python /workspace/to_execute.py' in image 'qiskit_runner' returned non-zero exit status 1: b'Traceback (most recent call last):\\n  File \"/workspace/to_execute.py\", line 10, in <module>\\n    qc = qasm2.loads(\\n  File \"/usr/local/lib/python3.10/site-packages/qiskit/qasm2/__init__.py\", line 587, in loads\\n    return _parse.from_bytecode(\\n  File \"/usr/local/lib/python3.10/site-packages/qiskit/qasm2/parse.py\", line 214, in from_bytecode\\n    for op in bc:\\nqiskit.qasm2.exceptions.QASM2ParseError: \"<input>:5,3: \\'reg_1_q\\' is not defined in this scope\"\\n'\n",
      "Failed to execute to_execute.py in Docker.\n",
      "Output: Saved the Pytket circuit to /workspace/to_execute_qc_pytket.qasm\n",
      "Saved the Qiskit circuit to /workspace/to_execute_qc_qiskit.qasm\n",
      "Exported QASM files: [('/workspace/to_execute_qc_pytket.qasm', 'export_to_qasm_with_pytket'), ('/workspace/to_execute_qc_qiskit.qasm', 'export_to_qasm_with_qiskit')]\n",
      "Log has been saved to /workspace/to_execute_ce52a4_error.json\n",
      "\n",
      "Program to_execute.py executed successfully.\n",
      "New exception message: The circuits are not equivalent: /workspace/to_execute_qc_pytket.qasm, /workspace/to_execute_qc_qiskit.qasm\n",
      "Error parsing: Command 'python /workspace/to_execute.py' in image 'qiskit_runner' returned non-zero exit status 1: b'  File \"/workspace/to_execute.py\", line 19\\n    , custom_instructions=qasm2.LEGACY_CUSTOM_INSTRUCTIONS)\\n                                                          ^\\nSyntaxError: unmatched \\')\\'\\n'\n",
      "Failed to execute to_execute.py in Docker.\n",
      "Error parsing: Command 'python /workspace/to_execute.py' in image 'qiskit_runner' returned non-zero exit status 1: b'Traceback (most recent call last):\\n  File \"/workspace/to_execute.py\", line 10, in <module>\\n    qc = qasm2.loads(\\n  File \"/usr/local/lib/python3.10/site-packages/qiskit/qasm2/__init__.py\", line 587, in loads\\n    return _parse.from_bytecode(\\n  File \"/usr/local/lib/python3.10/site-packages/qiskit/qasm2/parse.py\", line 214, in from_bytecode\\n    for op in bc:\\nqiskit.qasm2.exceptions.QASM2ParseError: \"<input>:6,0: cannot use non-builtin custom instruction \\'cx\\' before definition\"\\n'\n",
      "Failed to execute to_execute.py in Docker.\n",
      "Error parsing: Command 'python /workspace/to_execute.py' in image 'qiskit_runner' returned non-zero exit status 1: b'Traceback (most recent call last):\\n  File \"/workspace/to_execute.py\", line 10, in <module>\\n    qc = qasm2.loads(\\n  File \"/usr/local/lib/python3.10/site-packages/qiskit/qasm2/__init__.py\", line 587, in loads\\n    return _parse.from_bytecode(\\n  File \"/usr/local/lib/python3.10/site-packages/qiskit/qasm2/parse.py\", line 214, in from_bytecode\\n    for op in bc:\\nqiskit.qasm2.exceptions.QASM2ParseError: \"<input>:5,24: \\'reg_1_q\\' is not defined in this scope\"\\n'\n",
      "Failed to execute to_execute.py in Docker.\n",
      "Output: Saved the Pytket circuit to /workspace/to_execute_qc_pytket.qasm\n",
      "Saved the Qiskit circuit to /workspace/to_execute_qc_qiskit.qasm\n",
      "Exported QASM files: [('/workspace/to_execute_qc_pytket.qasm', 'export_to_qasm_with_pytket'), ('/workspace/to_execute_qc_qiskit.qasm', 'export_to_qasm_with_qiskit')]\n",
      "The circuits are equivalent: /workspace/to_execute_qc_pytket.qasm, /workspace/to_execute_qc_qiskit.qasm\n",
      "\n",
      "Program to_execute.py executed successfully.\n",
      "Error parsing: Command 'python /workspace/to_execute.py' in image 'qiskit_runner' returned non-zero exit status 1: b'  File \"/workspace/to_execute.py\", line 10\\n    qc = qasm2.loads(\\n                    ^\\nSyntaxError: \\'(\\' was never closed\\n'\n",
      "Failed to execute to_execute.py in Docker.\n",
      "Error parsing: Command 'python /workspace/to_execute.py' in image 'qiskit_runner' returned non-zero exit status 1: b'  File \"/workspace/to_execute.py\", line 22\\n    , custom_instructions=qasm2.LEGACY_CUSTOM_INSTRUCTIONS)\\nIndentationError: unexpected indent\\n'\n",
      "Failed to execute to_execute.py in Docker.\n",
      "Output: Saved the Pytket circuit to /workspace/to_execute_qc_pytket.qasm\n",
      "Saved the Qiskit circuit to /workspace/to_execute_qc_qiskit.qasm\n",
      "Exported QASM files: [('/workspace/to_execute_qc_pytket.qasm', 'export_to_qasm_with_pytket'), ('/workspace/to_execute_qc_qiskit.qasm', 'export_to_qasm_with_qiskit')]\n",
      "Log has been saved to /workspace/to_execute_f821ab_error.json\n",
      "\n",
      "Program to_execute.py executed successfully.\n",
      "New exception message: The circuits are not equivalent: /workspace/to_execute_qc_pytket.qasm, /workspace/to_execute_qc_qiskit.qasm\n",
      "Error parsing: Command 'python /workspace/to_execute.py' in image 'qiskit_runner' returned non-zero exit status 1: b'  File \"/workspace/to_execute.py\", line 21\\n    , custom_instructions=qasm2.LEGACY_CUSTOM_INSTRUCTIONS)\\nIndentationError: unexpected indent\\n'\n",
      "Failed to execute to_execute.py in Docker.\n",
      "Error parsing: Command 'python /workspace/to_execute.py' in image 'qiskit_runner' returned non-zero exit status 1: b'  File \"/workspace/to_execute.py\", line 11\\n    include \"qelib1.inc\";\\n            ^^^^^^^^^^^^\\nSyntaxError: invalid syntax\\n'\n",
      "Failed to execute to_execute.py in Docker.\n",
      "Error parsing: Command 'python /workspace/to_execute.py' in image 'qiskit_runner' returned non-zero exit status 1: b'Traceback (most recent call last):\\n  File \"/workspace/to_execute.py\", line 10, in <module>\\n    qc = qasm2.loads(\\n  File \"/usr/local/lib/python3.10/site-packages/qiskit/qasm2/__init__.py\", line 587, in loads\\n    return _parse.from_bytecode(\\n  File \"/usr/local/lib/python3.10/site-packages/qiskit/qasm2/parse.py\", line 214, in from_bytecode\\n    for op in bc:\\nqiskit.qasm2.exceptions.QASM2ParseError: \"<input>:8,0: cannot use non-builtin custom instruction \\'cx\\' before definition\"\\n'\n",
      "Failed to execute to_execute.py in Docker.\n",
      "Error parsing: Command 'python /workspace/to_execute.py' in image 'qiskit_runner' returned non-zero exit status 1: b'Traceback (most recent call last):\\n  File \"/workspace/to_execute.py\", line 10, in <module>\\n    qc = qasm2.loads(\\n  File \"/usr/local/lib/python3.10/site-packages/qiskit/qasm2/__init__.py\", line 587, in loads\\n    return _parse.from_bytecode(\\n  File \"/usr/local/lib/python3.10/site-packages/qiskit/qasm2/parse.py\", line 214, in from_bytecode\\n    for op in bc:\\nqiskit.qasm2.exceptions.QASM2ParseError: \"<input>:7,14: \\'reg_2_b\\' is not defined in this scope\"\\n'\n",
      "Failed to execute to_execute.py in Docker.\n",
      "Error parsing: Command 'python /workspace/to_execute.py' in image 'qiskit_runner' returned non-zero exit status 1: b'Traceback (most recent call last):\\n  File \"/workspace/to_execute.py\", line 10, in <module>\\n    qc = qasm2.loads(\\n  File \"/usr/local/lib/python3.10/site-packages/qiskit/qasm2/__init__.py\", line 587, in loads\\n    return _parse.from_bytecode(\\n  File \"/usr/local/lib/python3.10/site-packages/qiskit/qasm2/parse.py\", line 214, in from_bytecode\\n    for op in bc:\\nqiskit.qasm2.exceptions.QASM2ParseError: \"<input>:7,24: \\'reg_1_q\\' is not defined in this scope\"\\n'\n",
      "Failed to execute to_execute.py in Docker.\n",
      "Output: Saved the Pytket circuit to /workspace/to_execute_qc_pytket.qasm\n",
      "Saved the Qiskit circuit to /workspace/to_execute_qc_qiskit.qasm\n",
      "Exported QASM files: [('/workspace/to_execute_qc_pytket.qasm', 'export_to_qasm_with_pytket'), ('/workspace/to_execute_qc_qiskit.qasm', 'export_to_qasm_with_qiskit')]\n",
      "Log has been saved to /workspace/to_execute_82fdfc_error.json\n",
      "\n",
      "Program to_execute.py executed successfully.\n",
      "New exception message: The circuits are not equivalent: /workspace/to_execute_qc_pytket.qasm, /workspace/to_execute_qc_qiskit.qasm\n",
      "Error parsing: Command 'python /workspace/to_execute.py' in image 'qiskit_runner' returned non-zero exit status 1: b'  File \"/workspace/to_execute.py\", line 19\\n    , custom_instructions=qasm2.LEGACY_CUSTOM_INSTRUCTIONS)\\nIndentationError: unexpected indent\\n'\n",
      "Failed to execute to_execute.py in Docker.\n",
      "Error parsing: Command 'python /workspace/to_execute.py' in image 'qiskit_runner' returned non-zero exit status 1: b'  File \"/workspace/to_execute.py\", line 11\\n    OPENQASM 2.0;\\n    ^^^^^^^^^^^^\\nSyntaxError: invalid syntax. Perhaps you forgot a comma?\\n'\n",
      "Failed to execute to_execute.py in Docker.\n",
      "Error parsing: Command 'python /workspace/to_execute.py' in image 'qiskit_runner' returned non-zero exit status 1: b'Traceback (most recent call last):\\n  File \"/workspace/to_execute.py\", line 10, in <module>\\n    qc = qasm2.loads(\\n  File \"/usr/local/lib/python3.10/site-packages/qiskit/qasm2/__init__.py\", line 587, in loads\\n    return _parse.from_bytecode(\\n  File \"/usr/local/lib/python3.10/site-packages/qiskit/qasm2/parse.py\", line 214, in from_bytecode\\n    for op in bc:\\nqiskit.qasm2.exceptions.QASM2ParseError: \"<input>:5,0: cannot use non-builtin custom instruction \\'cx\\' before definition\"\\n'\n",
      "Failed to execute to_execute.py in Docker.\n",
      "Error parsing: Command 'python /workspace/to_execute.py' in image 'qiskit_runner' returned non-zero exit status 1: b'Traceback (most recent call last):\\n  File \"/workspace/to_execute.py\", line 10, in <module>\\n    qc = qasm2.loads(\\n  File \"/usr/local/lib/python3.10/site-packages/qiskit/qasm2/__init__.py\", line 587, in loads\\n    return _parse.from_bytecode(\\n  File \"/usr/local/lib/python3.10/site-packages/qiskit/qasm2/parse.py\", line 214, in from_bytecode\\n    for op in bc:\\nqiskit.qasm2.exceptions.QASM2ParseError: \"<input>:7,3: \\'reg_2_cin\\' is not defined in this scope\"\\n'\n",
      "Failed to execute to_execute.py in Docker.\n",
      "Error parsing: Command 'python /workspace/to_execute.py' in image 'qiskit_runner' returned non-zero exit status 1: b'Traceback (most recent call last):\\n  File \"/workspace/to_execute.py\", line 10, in <module>\\n    qc = qasm2.loads(\\n  File \"/usr/local/lib/python3.10/site-packages/qiskit/qasm2/__init__.py\", line 587, in loads\\n    return _parse.from_bytecode(\\n  File \"/usr/local/lib/python3.10/site-packages/qiskit/qasm2/parse.py\", line 214, in from_bytecode\\n    for op in bc:\\nqiskit.qasm2.exceptions.QASM2ParseError: \"<input>:5,3: \\'reg_1_q\\' is not defined in this scope\"\\n'\n",
      "Failed to execute to_execute.py in Docker.\n",
      "Output: Saved the Pytket circuit to /workspace/to_execute_qc_pytket.qasm\n",
      "Saved the Qiskit circuit to /workspace/to_execute_qc_qiskit.qasm\n",
      "Exported QASM files: [('/workspace/to_execute_qc_pytket.qasm', 'export_to_qasm_with_pytket'), ('/workspace/to_execute_qc_qiskit.qasm', 'export_to_qasm_with_qiskit')]\n",
      "Log has been saved to /workspace/to_execute_b0e1af_error.json\n",
      "\n",
      "Program to_execute.py executed successfully.\n",
      "New exception message: The circuits are not equivalent: /workspace/to_execute_qc_pytket.qasm, /workspace/to_execute_qc_qiskit.qasm\n",
      "Error parsing: Command 'python /workspace/to_execute.py' in image 'qiskit_runner' returned non-zero exit status 1: b'  File \"/workspace/to_execute.py\", line 18\\n    , custom_instructions=qasm2.LEGACY_CUSTOM_INSTRUCTIONS)\\nIndentationError: unexpected indent\\n'\n",
      "Failed to execute to_execute.py in Docker.\n",
      "Error parsing: Command 'python /workspace/to_execute.py' in image 'qiskit_runner' returned non-zero exit status 1: b'  File \"/workspace/to_execute.py\", line 11\\n    include \"qelib1.inc\";\\n            ^^^^^^^^^^^^\\nSyntaxError: invalid syntax\\n'\n",
      "Failed to execute to_execute.py in Docker.\n",
      "Error parsing: Command 'python /workspace/to_execute.py' in image 'qiskit_runner' returned non-zero exit status 1: b'Traceback (most recent call last):\\n  File \"/workspace/to_execute.py\", line 10, in <module>\\n    qc = qasm2.loads(\\n  File \"/usr/local/lib/python3.10/site-packages/qiskit/qasm2/__init__.py\", line 587, in loads\\n    return _parse.from_bytecode(\\n  File \"/usr/local/lib/python3.10/site-packages/qiskit/qasm2/parse.py\", line 214, in from_bytecode\\n    for op in bc:\\nqiskit.qasm2.exceptions.QASM2ParseError: \"<input>:6,0: cannot use non-builtin custom instruction \\'cx\\' before definition\"\\n'\n",
      "Failed to execute to_execute.py in Docker.\n",
      "Error parsing: Command 'python /workspace/to_execute.py' in image 'qiskit_runner' returned non-zero exit status 1: b'Traceback (most recent call last):\\n  File \"/workspace/to_execute.py\", line 10, in <module>\\n    qc = qasm2.loads(\\n  File \"/usr/local/lib/python3.10/site-packages/qiskit/qasm2/__init__.py\", line 587, in loads\\n    return _parse.from_bytecode(\\n  File \"/usr/local/lib/python3.10/site-packages/qiskit/qasm2/parse.py\", line 214, in from_bytecode\\n    for op in bc:\\nqiskit.qasm2.exceptions.QASM2ParseError: \"<input>:5,3: \\'reg_2_cin\\' is not defined in this scope\"\\n'\n",
      "Failed to execute to_execute.py in Docker.\n",
      "Output: Saved the Pytket circuit to /workspace/to_execute_qc_pytket.qasm\n",
      "Saved the Qiskit circuit to /workspace/to_execute_qc_qiskit.qasm\n",
      "Exported QASM files: [('/workspace/to_execute_qc_pytket.qasm', 'export_to_qasm_with_pytket'), ('/workspace/to_execute_qc_qiskit.qasm', 'export_to_qasm_with_qiskit')]\n",
      "Log has been saved to /workspace/to_execute_d72eb2_error.json\n",
      "\n",
      "Program to_execute.py executed successfully.\n",
      "New exception message: The circuits are not equivalent: /workspace/to_execute_qc_pytket.qasm, /workspace/to_execute_qc_qiskit.qasm\n",
      "Error parsing: Command 'python /workspace/to_execute.py' in image 'qiskit_runner' returned non-zero exit status 1: b'  File \"/workspace/to_execute.py\", line 15\\n    , custom_instructions=qasm2.LEGACY_CUSTOM_INSTRUCTIONS)\\n                                                          ^\\nSyntaxError: unmatched \\')\\'\\n'\n",
      "Failed to execute to_execute.py in Docker.\n",
      "Output: Saved the Pytket circuit to /workspace/to_execute_qc_pytket.qasm\n",
      "Saved the Qiskit circuit to /workspace/to_execute_qc_qiskit.qasm\n",
      "Exported QASM files: [('/workspace/to_execute_qc_pytket.qasm', 'export_to_qasm_with_pytket'), ('/workspace/to_execute_qc_qiskit.qasm', 'export_to_qasm_with_qiskit')]\n",
      "Log has been saved to /workspace/to_execute_572ebb_error.json\n",
      "\n",
      "Program to_execute.py executed successfully.\n",
      "New exception message: The circuits are not equivalent: /workspace/to_execute_qc_pytket.qasm, /workspace/to_execute_qc_qiskit.qasm\n",
      "Error parsing: Command 'python /workspace/to_execute.py' in image 'qiskit_runner' returned non-zero exit status 1: b'  File \"/workspace/to_execute.py\", line 14\\n    , custom_instructions=qasm2.LEGACY_CUSTOM_INSTRUCTIONS)\\n                                                          ^\\nSyntaxError: unmatched \\')\\'\\n'\n",
      "Failed to execute to_execute.py in Docker.\n",
      "Error parsing: Command 'python /workspace/to_execute.py' in image 'qiskit_runner' returned non-zero exit status 1: b'Traceback (most recent call last):\\n  File \"/workspace/to_execute.py\", line 10, in <module>\\n    qc = qasm2.loads(\\n  File \"/usr/local/lib/python3.10/site-packages/qiskit/qasm2/__init__.py\", line 587, in loads\\n    return _parse.from_bytecode(\\n  File \"/usr/local/lib/python3.10/site-packages/qiskit/qasm2/parse.py\", line 214, in from_bytecode\\n    for op in bc:\\nqiskit.qasm2.exceptions.QASM2ParseError: \"<input>:3,0: cannot use non-builtin custom instruction \\'cx\\' before definition\"\\n'\n",
      "Failed to execute to_execute.py in Docker.\n",
      "Error parsing: Command 'python /workspace/to_execute.py' in image 'qiskit_runner' returned non-zero exit status 1: b'Traceback (most recent call last):\\n  File \"/workspace/to_execute.py\", line 10, in <module>\\n    qc = qasm2.loads(\\n  File \"/usr/local/lib/python3.10/site-packages/qiskit/qasm2/__init__.py\", line 587, in loads\\n    return _parse.from_bytecode(\\n  File \"/usr/local/lib/python3.10/site-packages/qiskit/qasm2/parse.py\", line 214, in from_bytecode\\n    for op in bc:\\nqiskit.qasm2.exceptions.QASM2ParseError: \"<input>:4,16: \\'reg_2_b\\' is not defined in this scope\"\\n'\n",
      "Failed to execute to_execute.py in Docker.\n",
      "Error parsing: Command 'python /workspace/to_execute.py' in image 'qiskit_runner' returned non-zero exit status 1: b'  File \"/workspace/to_execute.py\", line 11\\n    include \"qelib1.inc\";\\n            ^^^^^^^^^^^^\\nSyntaxError: invalid syntax\\n'\n",
      "Failed to execute to_execute.py in Docker.\n",
      "Error parsing: Command 'python /workspace/to_execute.py' in image 'qiskit_runner' returned non-zero exit status 1: b'  File \"/workspace/to_execute.py\", line 10\\n    qc = qasm2.loads(\\n                    ^\\nSyntaxError: \\'(\\' was never closed\\n'\n",
      "Failed to execute to_execute.py in Docker.\n",
      "Error parsing: Command 'python /workspace/to_execute.py' in image 'qiskit_runner' returned non-zero exit status 1: b'  File \"/workspace/to_execute.py\", line 16\\n    , custom_instructions=qasm2.LEGACY_CUSTOM_INSTRUCTIONS)\\nIndentationError: unexpected indent\\n'\n",
      "Failed to execute to_execute.py in Docker.\n",
      "Error parsing: Command 'python /workspace/to_execute.py' in image 'qiskit_runner' returned non-zero exit status 1: b'  File \"/workspace/to_execute.py\", line 11\\n    include \"qelib1.inc\";\\n            ^^^^^^^^^^^^\\nSyntaxError: invalid syntax\\n'\n",
      "Failed to execute to_execute.py in Docker.\n",
      "Error parsing: Command 'python /workspace/to_execute.py' in image 'qiskit_runner' returned non-zero exit status 1: b'Traceback (most recent call last):\\n  File \"/workspace/to_execute.py\", line 10, in <module>\\n    qc = qasm2.loads(\\n  File \"/usr/local/lib/python3.10/site-packages/qiskit/qasm2/__init__.py\", line 587, in loads\\n    return _parse.from_bytecode(\\n  File \"/usr/local/lib/python3.10/site-packages/qiskit/qasm2/parse.py\", line 214, in from_bytecode\\n    for op in bc:\\nqiskit.qasm2.exceptions.QASM2ParseError: \"<input>:4,0: cannot use non-builtin custom instruction \\'cx\\' before definition\"\\n'\n",
      "Failed to execute to_execute.py in Docker.\n",
      "Error parsing: Command 'python /workspace/to_execute.py' in image 'qiskit_runner' returned non-zero exit status 1: b'Traceback (most recent call last):\\n  File \"/workspace/to_execute.py\", line 10, in <module>\\n    qc = qasm2.loads(\\n  File \"/usr/local/lib/python3.10/site-packages/qiskit/qasm2/__init__.py\", line 587, in loads\\n    return _parse.from_bytecode(\\n  File \"/usr/local/lib/python3.10/site-packages/qiskit/qasm2/parse.py\", line 214, in from_bytecode\\n    for op in bc:\\nqiskit.qasm2.exceptions.QASM2ParseError: \"<input>:4,3: \\'reg_2_cin\\' is not defined in this scope\"\\n'\n",
      "Failed to execute to_execute.py in Docker.\n",
      "Error parsing: Command 'python /workspace/to_execute.py' in image 'qiskit_runner' returned non-zero exit status 1: b'Traceback (most recent call last):\\n  File \"/workspace/to_execute.py\", line 10, in <module>\\n    qc = qasm2.loads(\\n  File \"/usr/local/lib/python3.10/site-packages/qiskit/qasm2/__init__.py\", line 587, in loads\\n    return _parse.from_bytecode(\\n  File \"/usr/local/lib/python3.10/site-packages/qiskit/qasm2/parse.py\", line 214, in from_bytecode\\n    for op in bc:\\nqiskit.qasm2.exceptions.QASM2ParseError: \"<input>:4,16: \\'reg_2_b\\' is not defined in this scope\"\\n'\n",
      "Failed to execute to_execute.py in Docker.\n",
      "Output: Saved the Pytket circuit to /workspace/to_execute_qc_pytket.qasm\n",
      "Saved the Qiskit circuit to /workspace/to_execute_qc_qiskit.qasm\n",
      "Exported QASM files: [('/workspace/to_execute_qc_pytket.qasm', 'export_to_qasm_with_pytket'), ('/workspace/to_execute_qc_qiskit.qasm', 'export_to_qasm_with_qiskit')]\n",
      "The circuits are equivalent: /workspace/to_execute_qc_pytket.qasm, /workspace/to_execute_qc_qiskit.qasm\n",
      "\n",
      "Program to_execute.py executed successfully.\n",
      "Error parsing: Command 'python /workspace/to_execute.py' in image 'qiskit_runner' returned non-zero exit status 1: b'  File \"/workspace/to_execute.py\", line 11\\n    include \"qelib1.inc\";\\n            ^^^^^^^^^^^^\\nSyntaxError: invalid syntax\\n'\n",
      "Failed to execute to_execute.py in Docker.\n",
      "Error parsing: Command 'python /workspace/to_execute.py' in image 'qiskit_runner' returned non-zero exit status 1: b'  File \"/workspace/to_execute.py\", line 10\\n    qc = qasm2.loads(\\n                    ^\\nSyntaxError: \\'(\\' was never closed\\n'\n",
      "Failed to execute to_execute.py in Docker.\n"
     ]
    },
    {
     "data": {
      "text/html": [
       "<pre style=\"white-space:pre;overflow-x:auto;line-height:normal;font-family:Menlo,'DejaVu Sans Mono',consolas,'Courier New',monospace\"><span style=\"color: #7fbfbf; text-decoration-color: #7fbfbf\">[15:27:12] </span><span style=\"color: #008000; text-decoration-color: #008000\">Minimized file saved as:</span>                                                        <a href=\"file:///home/paltenmo/projects/crossplatform/analysis_and_reporting/ddmin_target_file.py\" target=\"_blank\"><span style=\"color: #7f7f7f; text-decoration-color: #7f7f7f\">ddmin_target_file.py</span></a><span style=\"color: #7f7f7f; text-decoration-color: #7f7f7f\">:</span><a href=\"file:///home/paltenmo/projects/crossplatform/analysis_and_reporting/ddmin_target_file.py#240\" target=\"_blank\"><span style=\"color: #7f7f7f; text-decoration-color: #7f7f7f\">240</span></a>\n",
       "<span style=\"color: #7fbfbf; text-decoration-color: #7fbfbf\">           </span>..<span style=\"color: #800080; text-decoration-color: #800080\">/reports/v009/2024_11_21__15_23/</span><span style=\"color: #ff00ff; text-decoration-color: #ff00ff\">qiskit_circuit_5q_10g_2997_458c2e_f885b3_erro</span> <span style=\"color: #7f7f7f; text-decoration-color: #7f7f7f\">                        </span>\n",
       "<span style=\"color: #7fbfbf; text-decoration-color: #7fbfbf\">           </span><span style=\"color: #ff00ff; text-decoration-color: #ff00ff\">r_min.py</span>                                                                        <span style=\"color: #7f7f7f; text-decoration-color: #7f7f7f\">                        </span>\n",
       "</pre>\n"
      ],
      "text/plain": [
       "\u001b[2;36m[15:27:12]\u001b[0m\u001b[2;36m \u001b[0m\u001b[32mMinimized file saved as:\u001b[0m                                                        \u001b]8;id=250509;file:///home/paltenmo/projects/crossplatform/analysis_and_reporting/ddmin_target_file.py\u001b\\\u001b[2mddmin_target_file.py\u001b[0m\u001b]8;;\u001b\\\u001b[2m:\u001b[0m\u001b]8;id=510256;file:///home/paltenmo/projects/crossplatform/analysis_and_reporting/ddmin_target_file.py#240\u001b\\\u001b[2m240\u001b[0m\u001b]8;;\u001b\\\n",
       "\u001b[2;36m           \u001b[0m..\u001b[35m/reports/v009/2024_11_21__15_23/\u001b[0m\u001b[95mqiskit_circuit_5q_10g_2997_458c2e_f885b3_erro\u001b[0m \u001b[2m                        \u001b[0m\n",
       "\u001b[2;36m           \u001b[0m\u001b[95mr_min.py\u001b[0m                                                                        \u001b[2m                        \u001b[0m\n"
      ]
     },
     "metadata": {},
     "output_type": "display_data"
    },
    {
     "name": "stdout",
     "output_type": "stream",
     "text": [
      "Output: Saved the Pytket circuit to /workspace/qiskit_circuit_5q_10g_2997_458c2e_f885b3_error_min_qc_pytket.qasm\n",
      "Saved the Qiskit circuit to /workspace/qiskit_circuit_5q_10g_2997_458c2e_f885b3_error_min_qc_qiskit.qasm\n",
      "Exported QASM files: [('/workspace/qiskit_circuit_5q_10g_2997_458c2e_f885b3_error_min_qc_pytket.qasm', 'export_to_qasm_with_pytket'), ('/workspace/qiskit_circuit_5q_10g_2997_458c2e_f885b3_error_min_qc_qiskit.qasm', 'export_to_qasm_with_qiskit')]\n",
      "Log has been saved to /workspace/qiskit_circuit_5q_10g_2997_458c2e_f885b3_error_min_da3a45_error.json\n",
      "\n"
     ]
    },
    {
     "data": {
      "text/html": [
       "<pre style=\"white-space:pre;overflow-x:auto;line-height:normal;font-family:Menlo,'DejaVu Sans Mono',consolas,'Courier New',monospace\"><span style=\"color: #7fbfbf; text-decoration-color: #7fbfbf\">[15:27:18] </span>Program qiskit_circuit_5q_10g_2997_458c2e_f885b3_error_min.py executed              <a href=\"file:///home/paltenmo/projects/crossplatform/generators/docker_tooling.py\" target=\"_blank\"><span style=\"color: #7f7f7f; text-decoration-color: #7f7f7f\">docker_tooling.py</span></a><span style=\"color: #7f7f7f; text-decoration-color: #7f7f7f\">:</span><a href=\"file:///home/paltenmo/projects/crossplatform/generators/docker_tooling.py#46\" target=\"_blank\"><span style=\"color: #7f7f7f; text-decoration-color: #7f7f7f\">46</span></a>\n",
       "<span style=\"color: #7fbfbf; text-decoration-color: #7fbfbf\">           </span>successfully.                                                                       <span style=\"color: #7f7f7f; text-decoration-color: #7f7f7f\">                    </span>\n",
       "</pre>\n"
      ],
      "text/plain": [
       "\u001b[2;36m[15:27:18]\u001b[0m\u001b[2;36m \u001b[0mProgram qiskit_circuit_5q_10g_2997_458c2e_f885b3_error_min.py executed              \u001b]8;id=134878;file:///home/paltenmo/projects/crossplatform/generators/docker_tooling.py\u001b\\\u001b[2mdocker_tooling.py\u001b[0m\u001b]8;;\u001b\\\u001b[2m:\u001b[0m\u001b]8;id=151265;file:///home/paltenmo/projects/crossplatform/generators/docker_tooling.py#46\u001b\\\u001b[2m46\u001b[0m\u001b]8;;\u001b\\\n",
       "\u001b[2;36m           \u001b[0msuccessfully.                                                                       \u001b[2m                    \u001b[0m\n"
      ]
     },
     "metadata": {},
     "output_type": "display_data"
    },
    {
     "data": {
      "application/vnd.jupyter.widget-view+json": {
       "model_id": "2bf5a3fb04c2458a98a458e4c1d428d3",
       "version_major": 2,
       "version_minor": 0
      },
      "text/plain": [
       "Executing:   0%|          | 0/13 [00:00<?, ?cell/s]"
      ]
     },
     "metadata": {},
     "output_type": "display_data"
    },
    {
     "data": {
      "text/html": [
       "<pre style=\"white-space:pre;overflow-x:auto;line-height:normal;font-family:Menlo,'DejaVu Sans Mono',consolas,'Courier New',monospace\"><span style=\"color: #7fbfbf; text-decoration-color: #7fbfbf\">[15:27:21] </span>Analysis notebook executed: ..<span style=\"color: #800080; text-decoration-color: #800080\">/reports/v009/2024_11_21__15_23/</span><span style=\"color: #ff00ff; text-decoration-color: #ff00ff\">analysis_output.ipynb</span>        <a href=\"file:///home/paltenmo/projects/crossplatform/analysis_and_reporting/triage.py\" target=\"_blank\"><span style=\"color: #7f7f7f; text-decoration-color: #7f7f7f\">triage.py</span></a><span style=\"color: #7f7f7f; text-decoration-color: #7f7f7f\">:</span><a href=\"file:///home/paltenmo/projects/crossplatform/analysis_and_reporting/triage.py#163\" target=\"_blank\"><span style=\"color: #7f7f7f; text-decoration-color: #7f7f7f\">163</span></a>\n",
       "</pre>\n"
      ],
      "text/plain": [
       "\u001b[2;36m[15:27:21]\u001b[0m\u001b[2;36m \u001b[0mAnalysis notebook executed: ..\u001b[35m/reports/v009/2024_11_21__15_23/\u001b[0m\u001b[95manalysis_output.ipynb\u001b[0m        \u001b]8;id=463065;file:///home/paltenmo/projects/crossplatform/analysis_and_reporting/triage.py\u001b\\\u001b[2mtriage.py\u001b[0m\u001b]8;;\u001b\\\u001b[2m:\u001b[0m\u001b]8;id=328971;file:///home/paltenmo/projects/crossplatform/analysis_and_reporting/triage.py#163\u001b\\\u001b[2m163\u001b[0m\u001b]8;;\u001b\\\n"
      ]
     },
     "metadata": {},
     "output_type": "display_data"
    }
   ],
   "source": [
    "from analysis_and_reporting.triage import analyze_and_report\n",
    "\n",
    "error_paths_in_sample_folder = [\n",
    "    os.path.join(DIR_SAMPLE_ERRORS, f)\n",
    "    for f in os.listdir(DIR_SAMPLE_ERRORS)\n",
    "    if re.match(r'.*_error\\.json$', f)\n",
    "]\n",
    "\n",
    "n_error_files = len(error_paths_in_sample_folder)\n",
    "print(f\"Error paths in sample folder ({n_error_files}):\")\n",
    "for error_path in error_paths_in_sample_folder:\n",
    "    print(error_path)\n",
    "\n",
    "# python -m analysis_and_reporting.triage --path_error_json program_bank/v007/2024_10_31__17_51__qiskit/qiskit_circuit_5q_10g_9_160f04_cfe9f1_error.json --parent_report_folder reports/v008 --clue_message 'not equivalent'\n",
    "\n",
    "\n",
    "# def analyze_and_report(\n",
    "#         path_error_json: str, path_program: str, parent_report_folder: str,\n",
    "#         clue_message: str, analysis_notebook: str)\n",
    "\n",
    "for error_path in error_paths_in_sample_folder:\n",
    "    try:\n",
    "        analyze_and_report(\n",
    "            path_error_json=error_path,\n",
    "            path_program=get_corresponding_program_file(error_path),\n",
    "            parent_report_folder=os.path.join(\"..\", \"reports\", \"v009\"),\n",
    "            clue_message='not equivalent',\n",
    "            analysis_notebook='010_Triage_Not_Equivalence.ipynb'\n",
    "        )\n",
    "    except Exception as e:\n",
    "        print(f\"Error: {e}\")\n",
    "        print(\"Skipping to the next error file\")"
   ]
  },
  {
   "cell_type": "markdown",
   "metadata": {},
   "source": [
    "# Inspect Crash Errors"
   ]
  },
  {
   "cell_type": "code",
   "execution_count": 7,
   "metadata": {},
   "outputs": [],
   "source": [
    "# ! pip install datasets"
   ]
  },
  {
   "cell_type": "code",
   "execution_count": 8,
   "metadata": {},
   "outputs": [
    {
     "data": {
      "text/html": [
       "<div>\n",
       "<style scoped>\n",
       "    .dataframe tbody tr th:only-of-type {\n",
       "        vertical-align: middle;\n",
       "    }\n",
       "\n",
       "    .dataframe tbody tr th {\n",
       "        vertical-align: top;\n",
       "    }\n",
       "\n",
       "    .dataframe thead th {\n",
       "        text-align: right;\n",
       "    }\n",
       "</style>\n",
       "<table border=\"1\" class=\"dataframe\">\n",
       "  <thead>\n",
       "    <tr style=\"text-align: right;\">\n",
       "      <th></th>\n",
       "      <th>exception_message</th>\n",
       "      <th>stack_trace</th>\n",
       "      <th>current_file</th>\n",
       "      <th>involved_functions</th>\n",
       "      <th>timestamp</th>\n",
       "      <th>error_file</th>\n",
       "      <th>file_content</th>\n",
       "    </tr>\n",
       "  </thead>\n",
       "  <tbody>\n",
       "    <tr>\n",
       "      <th>0</th>\n",
       "      <td>Could not import first circuit: &lt;input&gt;:5:1:\\n...</td>\n",
       "      <td>Traceback (most recent call last):\\n  File \"/w...</td>\n",
       "      <td>qiskit_circuit_5q_10g_5570_0b246b.py</td>\n",
       "      <td>[compare_qasm_via_qcec, export_to_qasm_with_bq...</td>\n",
       "      <td>1.735484e+09</td>\n",
       "      <td>qiskit_circuit_5q_10g_5570_0b246b_428131_error...</td>\n",
       "      <td># Section: Prologue\\nfrom qiskit import Quantu...</td>\n",
       "    </tr>\n",
       "    <tr>\n",
       "      <th>1</th>\n",
       "      <td>Could not import first circuit: &lt;input&gt;:5:1:\\n...</td>\n",
       "      <td>Traceback (most recent call last):\\n  File \"/w...</td>\n",
       "      <td>qiskit_circuit_5q_10g_4199_4ec27d.py</td>\n",
       "      <td>[compare_qasm_via_qcec, export_to_qasm_with_bq...</td>\n",
       "      <td>1.735443e+09</td>\n",
       "      <td>qiskit_circuit_5q_10g_4199_4ec27d_0fa4ad_error...</td>\n",
       "      <td># Section: Prologue\\nfrom qiskit import Quantu...</td>\n",
       "    </tr>\n",
       "    <tr>\n",
       "      <th>2</th>\n",
       "      <td>Could not import first circuit: &lt;input&gt;:5:1:\\n...</td>\n",
       "      <td>Traceback (most recent call last):\\n  File \"/w...</td>\n",
       "      <td>qiskit_circuit_5q_10g_9849_7e6728.py</td>\n",
       "      <td>[compare_qasm_via_qcec, export_to_qasm_with_bq...</td>\n",
       "      <td>1.735577e+09</td>\n",
       "      <td>qiskit_circuit_5q_10g_9849_7e6728_4473a2_error...</td>\n",
       "      <td># Section: Prologue\\nfrom qiskit import Quantu...</td>\n",
       "    </tr>\n",
       "    <tr>\n",
       "      <th>3</th>\n",
       "      <td>Classical register redeclared: c.</td>\n",
       "      <td>Traceback (most recent call last):\\n  File \"/w...</td>\n",
       "      <td>qiskit_circuit_5q_10g_3148_6e588f.py</td>\n",
       "      <td>[import_from_qasm_with_bqskit, export_to_qasm_...</td>\n",
       "      <td>1.735405e+09</td>\n",
       "      <td>qiskit_circuit_5q_10g_3148_6e588f_e5e5f9_error...</td>\n",
       "      <td># Section: Prologue\\nfrom qiskit import Quantu...</td>\n",
       "    </tr>\n",
       "    <tr>\n",
       "      <th>4</th>\n",
       "      <td>\"&lt;input&gt;:5,5: 'c' is already defined\"</td>\n",
       "      <td>Traceback (most recent call last):\\n  File \"/w...</td>\n",
       "      <td>qiskit_circuit_5q_10g_9900_5a0bc9.py</td>\n",
       "      <td>[import_from_qasm_with_qiskit, export_to_qasm_...</td>\n",
       "      <td>1.735579e+09</td>\n",
       "      <td>qiskit_circuit_5q_10g_9900_5a0bc9_140461_error...</td>\n",
       "      <td># Section: Prologue\\nfrom qiskit import Quantu...</td>\n",
       "    </tr>\n",
       "  </tbody>\n",
       "</table>\n",
       "</div>"
      ],
      "text/plain": [
       "                                   exception_message  \\\n",
       "0  Could not import first circuit: <input>:5:1:\\n...   \n",
       "1  Could not import first circuit: <input>:5:1:\\n...   \n",
       "2  Could not import first circuit: <input>:5:1:\\n...   \n",
       "3                  Classical register redeclared: c.   \n",
       "4              \"<input>:5,5: 'c' is already defined\"   \n",
       "\n",
       "                                         stack_trace  \\\n",
       "0  Traceback (most recent call last):\\n  File \"/w...   \n",
       "1  Traceback (most recent call last):\\n  File \"/w...   \n",
       "2  Traceback (most recent call last):\\n  File \"/w...   \n",
       "3  Traceback (most recent call last):\\n  File \"/w...   \n",
       "4  Traceback (most recent call last):\\n  File \"/w...   \n",
       "\n",
       "                           current_file  \\\n",
       "0  qiskit_circuit_5q_10g_5570_0b246b.py   \n",
       "1  qiskit_circuit_5q_10g_4199_4ec27d.py   \n",
       "2  qiskit_circuit_5q_10g_9849_7e6728.py   \n",
       "3  qiskit_circuit_5q_10g_3148_6e588f.py   \n",
       "4  qiskit_circuit_5q_10g_9900_5a0bc9.py   \n",
       "\n",
       "                                  involved_functions     timestamp  \\\n",
       "0  [compare_qasm_via_qcec, export_to_qasm_with_bq...  1.735484e+09   \n",
       "1  [compare_qasm_via_qcec, export_to_qasm_with_bq...  1.735443e+09   \n",
       "2  [compare_qasm_via_qcec, export_to_qasm_with_bq...  1.735577e+09   \n",
       "3  [import_from_qasm_with_bqskit, export_to_qasm_...  1.735405e+09   \n",
       "4  [import_from_qasm_with_qiskit, export_to_qasm_...  1.735579e+09   \n",
       "\n",
       "                                          error_file  \\\n",
       "0  qiskit_circuit_5q_10g_5570_0b246b_428131_error...   \n",
       "1  qiskit_circuit_5q_10g_4199_4ec27d_0fa4ad_error...   \n",
       "2  qiskit_circuit_5q_10g_9849_7e6728_4473a2_error...   \n",
       "3  qiskit_circuit_5q_10g_3148_6e588f_e5e5f9_error...   \n",
       "4  qiskit_circuit_5q_10g_9900_5a0bc9_140461_error...   \n",
       "\n",
       "                                        file_content  \n",
       "0  # Section: Prologue\\nfrom qiskit import Quantu...  \n",
       "1  # Section: Prologue\\nfrom qiskit import Quantu...  \n",
       "2  # Section: Prologue\\nfrom qiskit import Quantu...  \n",
       "3  # Section: Prologue\\nfrom qiskit import Quantu...  \n",
       "4  # Section: Prologue\\nfrom qiskit import Quantu...  "
      ]
     },
     "execution_count": 8,
     "metadata": {},
     "output_type": "execute_result"
    }
   ],
   "source": [
    "df_errors.head()"
   ]
  },
  {
   "cell_type": "code",
   "execution_count": 9,
   "metadata": {},
   "outputs": [
    {
     "data": {
      "application/vnd.jupyter.widget-view+json": {
       "model_id": "7a722b6201c446b287fc669887a4071c",
       "version_major": 2,
       "version_minor": 0
      },
      "text/plain": [
       "Batches:   0%|          | 0/3461 [00:00<?, ?it/s]"
      ]
     },
     "metadata": {},
     "output_type": "display_data"
    },
    {
     "ename": "ValueError",
     "evalue": "Length of values (110739) does not match length of index (49195)",
     "output_type": "error",
     "traceback": [
      "\u001b[0;31m---------------------------------------------------------------------------\u001b[0m",
      "\u001b[0;31mValueError\u001b[0m                                Traceback (most recent call last)",
      "Cell \u001b[0;32mIn[9], line 28\u001b[0m\n\u001b[1;32m     25\u001b[0m model \u001b[38;5;241m=\u001b[39m SentenceTransformer(EMBEDDING_MODEL)\n\u001b[1;32m     27\u001b[0m \u001b[38;5;66;03m# Calculate embeddings for the exception_message column\u001b[39;00m\n\u001b[0;32m---> 28\u001b[0m \u001b[43mdf_errors_no_dups\u001b[49m\u001b[43m[\u001b[49m\u001b[38;5;124;43m'\u001b[39;49m\u001b[38;5;124;43mexception_message_embeddings\u001b[39;49m\u001b[38;5;124;43m'\u001b[39;49m\u001b[43m]\u001b[49m \u001b[38;5;241m=\u001b[39m \u001b[38;5;28mlist\u001b[39m(\n\u001b[1;32m     29\u001b[0m     model\u001b[38;5;241m.\u001b[39mencode(\n\u001b[1;32m     30\u001b[0m         df_errors[\u001b[38;5;124m'\u001b[39m\u001b[38;5;124mexception_message\u001b[39m\u001b[38;5;124m'\u001b[39m]\u001b[38;5;241m.\u001b[39mtolist(),\n\u001b[1;32m     31\u001b[0m         batch_size\u001b[38;5;241m=\u001b[39m\u001b[38;5;241m32\u001b[39m, show_progress_bar\u001b[38;5;241m=\u001b[39m\u001b[38;5;28;01mTrue\u001b[39;00m))\n\u001b[1;32m     33\u001b[0m \u001b[38;5;66;03m# Inspect the embeddings\u001b[39;00m\n\u001b[1;32m     34\u001b[0m df_errors_no_dups[\u001b[38;5;124m'\u001b[39m\u001b[38;5;124mexception_message_embeddings\u001b[39m\u001b[38;5;124m'\u001b[39m]\u001b[38;5;241m.\u001b[39mhead()\n",
      "File \u001b[0;32m~/.conda/envs/crosspl/lib/python3.10/site-packages/pandas/core/frame.py:4311\u001b[0m, in \u001b[0;36mDataFrame.__setitem__\u001b[0;34m(self, key, value)\u001b[0m\n\u001b[1;32m   4308\u001b[0m     \u001b[38;5;28mself\u001b[39m\u001b[38;5;241m.\u001b[39m_setitem_array([key], value)\n\u001b[1;32m   4309\u001b[0m \u001b[38;5;28;01melse\u001b[39;00m:\n\u001b[1;32m   4310\u001b[0m     \u001b[38;5;66;03m# set column\u001b[39;00m\n\u001b[0;32m-> 4311\u001b[0m     \u001b[38;5;28;43mself\u001b[39;49m\u001b[38;5;241;43m.\u001b[39;49m\u001b[43m_set_item\u001b[49m\u001b[43m(\u001b[49m\u001b[43mkey\u001b[49m\u001b[43m,\u001b[49m\u001b[43m \u001b[49m\u001b[43mvalue\u001b[49m\u001b[43m)\u001b[49m\n",
      "File \u001b[0;32m~/.conda/envs/crosspl/lib/python3.10/site-packages/pandas/core/frame.py:4524\u001b[0m, in \u001b[0;36mDataFrame._set_item\u001b[0;34m(self, key, value)\u001b[0m\n\u001b[1;32m   4514\u001b[0m \u001b[38;5;28;01mdef\u001b[39;00m \u001b[38;5;21m_set_item\u001b[39m(\u001b[38;5;28mself\u001b[39m, key, value) \u001b[38;5;241m-\u001b[39m\u001b[38;5;241m>\u001b[39m \u001b[38;5;28;01mNone\u001b[39;00m:\n\u001b[1;32m   4515\u001b[0m \u001b[38;5;250m    \u001b[39m\u001b[38;5;124;03m\"\"\"\u001b[39;00m\n\u001b[1;32m   4516\u001b[0m \u001b[38;5;124;03m    Add series to DataFrame in specified column.\u001b[39;00m\n\u001b[1;32m   4517\u001b[0m \n\u001b[0;32m   (...)\u001b[0m\n\u001b[1;32m   4522\u001b[0m \u001b[38;5;124;03m    ensure homogeneity.\u001b[39;00m\n\u001b[1;32m   4523\u001b[0m \u001b[38;5;124;03m    \"\"\"\u001b[39;00m\n\u001b[0;32m-> 4524\u001b[0m     value, refs \u001b[38;5;241m=\u001b[39m \u001b[38;5;28;43mself\u001b[39;49m\u001b[38;5;241;43m.\u001b[39;49m\u001b[43m_sanitize_column\u001b[49m\u001b[43m(\u001b[49m\u001b[43mvalue\u001b[49m\u001b[43m)\u001b[49m\n\u001b[1;32m   4526\u001b[0m     \u001b[38;5;28;01mif\u001b[39;00m (\n\u001b[1;32m   4527\u001b[0m         key \u001b[38;5;129;01min\u001b[39;00m \u001b[38;5;28mself\u001b[39m\u001b[38;5;241m.\u001b[39mcolumns\n\u001b[1;32m   4528\u001b[0m         \u001b[38;5;129;01mand\u001b[39;00m value\u001b[38;5;241m.\u001b[39mndim \u001b[38;5;241m==\u001b[39m \u001b[38;5;241m1\u001b[39m\n\u001b[1;32m   4529\u001b[0m         \u001b[38;5;129;01mand\u001b[39;00m \u001b[38;5;129;01mnot\u001b[39;00m \u001b[38;5;28misinstance\u001b[39m(value\u001b[38;5;241m.\u001b[39mdtype, ExtensionDtype)\n\u001b[1;32m   4530\u001b[0m     ):\n\u001b[1;32m   4531\u001b[0m         \u001b[38;5;66;03m# broadcast across multiple columns if necessary\u001b[39;00m\n\u001b[1;32m   4532\u001b[0m         \u001b[38;5;28;01mif\u001b[39;00m \u001b[38;5;129;01mnot\u001b[39;00m \u001b[38;5;28mself\u001b[39m\u001b[38;5;241m.\u001b[39mcolumns\u001b[38;5;241m.\u001b[39mis_unique \u001b[38;5;129;01mor\u001b[39;00m \u001b[38;5;28misinstance\u001b[39m(\u001b[38;5;28mself\u001b[39m\u001b[38;5;241m.\u001b[39mcolumns, MultiIndex):\n",
      "File \u001b[0;32m~/.conda/envs/crosspl/lib/python3.10/site-packages/pandas/core/frame.py:5266\u001b[0m, in \u001b[0;36mDataFrame._sanitize_column\u001b[0;34m(self, value)\u001b[0m\n\u001b[1;32m   5263\u001b[0m     \u001b[38;5;28;01mreturn\u001b[39;00m _reindex_for_setitem(value, \u001b[38;5;28mself\u001b[39m\u001b[38;5;241m.\u001b[39mindex)\n\u001b[1;32m   5265\u001b[0m \u001b[38;5;28;01mif\u001b[39;00m is_list_like(value):\n\u001b[0;32m-> 5266\u001b[0m     \u001b[43mcom\u001b[49m\u001b[38;5;241;43m.\u001b[39;49m\u001b[43mrequire_length_match\u001b[49m\u001b[43m(\u001b[49m\u001b[43mvalue\u001b[49m\u001b[43m,\u001b[49m\u001b[43m \u001b[49m\u001b[38;5;28;43mself\u001b[39;49m\u001b[38;5;241;43m.\u001b[39;49m\u001b[43mindex\u001b[49m\u001b[43m)\u001b[49m\n\u001b[1;32m   5267\u001b[0m arr \u001b[38;5;241m=\u001b[39m sanitize_array(value, \u001b[38;5;28mself\u001b[39m\u001b[38;5;241m.\u001b[39mindex, copy\u001b[38;5;241m=\u001b[39m\u001b[38;5;28;01mTrue\u001b[39;00m, allow_2d\u001b[38;5;241m=\u001b[39m\u001b[38;5;28;01mTrue\u001b[39;00m)\n\u001b[1;32m   5268\u001b[0m \u001b[38;5;28;01mif\u001b[39;00m (\n\u001b[1;32m   5269\u001b[0m     \u001b[38;5;28misinstance\u001b[39m(value, Index)\n\u001b[1;32m   5270\u001b[0m     \u001b[38;5;129;01mand\u001b[39;00m value\u001b[38;5;241m.\u001b[39mdtype \u001b[38;5;241m==\u001b[39m \u001b[38;5;124m\"\u001b[39m\u001b[38;5;124mobject\u001b[39m\u001b[38;5;124m\"\u001b[39m\n\u001b[0;32m   (...)\u001b[0m\n\u001b[1;32m   5273\u001b[0m     \u001b[38;5;66;03m# TODO: Remove kludge in sanitize_array for string mode when enforcing\u001b[39;00m\n\u001b[1;32m   5274\u001b[0m     \u001b[38;5;66;03m# this deprecation\u001b[39;00m\n",
      "File \u001b[0;32m~/.conda/envs/crosspl/lib/python3.10/site-packages/pandas/core/common.py:573\u001b[0m, in \u001b[0;36mrequire_length_match\u001b[0;34m(data, index)\u001b[0m\n\u001b[1;32m    569\u001b[0m \u001b[38;5;250m\u001b[39m\u001b[38;5;124;03m\"\"\"\u001b[39;00m\n\u001b[1;32m    570\u001b[0m \u001b[38;5;124;03mCheck the length of data matches the length of the index.\u001b[39;00m\n\u001b[1;32m    571\u001b[0m \u001b[38;5;124;03m\"\"\"\u001b[39;00m\n\u001b[1;32m    572\u001b[0m \u001b[38;5;28;01mif\u001b[39;00m \u001b[38;5;28mlen\u001b[39m(data) \u001b[38;5;241m!=\u001b[39m \u001b[38;5;28mlen\u001b[39m(index):\n\u001b[0;32m--> 573\u001b[0m     \u001b[38;5;28;01mraise\u001b[39;00m \u001b[38;5;167;01mValueError\u001b[39;00m(\n\u001b[1;32m    574\u001b[0m         \u001b[38;5;124m\"\u001b[39m\u001b[38;5;124mLength of values \u001b[39m\u001b[38;5;124m\"\u001b[39m\n\u001b[1;32m    575\u001b[0m         \u001b[38;5;124mf\u001b[39m\u001b[38;5;124m\"\u001b[39m\u001b[38;5;124m(\u001b[39m\u001b[38;5;132;01m{\u001b[39;00m\u001b[38;5;28mlen\u001b[39m(data)\u001b[38;5;132;01m}\u001b[39;00m\u001b[38;5;124m) \u001b[39m\u001b[38;5;124m\"\u001b[39m\n\u001b[1;32m    576\u001b[0m         \u001b[38;5;124m\"\u001b[39m\u001b[38;5;124mdoes not match length of index \u001b[39m\u001b[38;5;124m\"\u001b[39m\n\u001b[1;32m    577\u001b[0m         \u001b[38;5;124mf\u001b[39m\u001b[38;5;124m\"\u001b[39m\u001b[38;5;124m(\u001b[39m\u001b[38;5;132;01m{\u001b[39;00m\u001b[38;5;28mlen\u001b[39m(index)\u001b[38;5;132;01m}\u001b[39;00m\u001b[38;5;124m)\u001b[39m\u001b[38;5;124m\"\u001b[39m\n\u001b[1;32m    578\u001b[0m     )\n",
      "\u001b[0;31mValueError\u001b[0m: Length of values (110739) does not match length of index (49195)"
     ]
    }
   ],
   "source": [
    "from datasets import Dataset, DatasetDict\n",
    "from transformers import AutoTokenizer, AutoModel\n",
    "import torch\n",
    "from sentence_transformers import SentenceTransformer\n",
    "\n",
    "df_errors_no_dups = df_errors.copy()\n",
    "df_errors_no_dups.drop_duplicates(subset=['exception_message'], inplace=True)\n",
    "\n",
    "# # create a dataset from the error dataframe\n",
    "# dataset = Dataset.from_pandas(df_errors_no_dups)\n",
    "\n",
    "# # inspect the dataset\n",
    "# dataset\n",
    "\n",
    "# use deepseek-ai/DeepSeek-Coder-V2-Lite-Base\n",
    "# from datasets import Dataset\n",
    "# dataset = Dataset.from_dict({\"a\": [0, 1, 2]})\n",
    "# dataset.map(lambda batch: {\"b\": batch[\"a\"] * 2}, batched=True)  # new column with 6 elements: [0, 1, 2, 0, 1, 2]\n",
    "# Load the tokenizer and model\n",
    "# EMBEDDING_MODEL = \"TinyLlama/TinyLlama_v1.1_math_code\"\n",
    "# EMBEDDING_MODEL = \"all-MiniLM-L6-v2\"\n",
    "EMBEDDING_MODEL = \"multi-qa-mpnet-base-cos-v1\"\n",
    "# EMBEDDING_MODEL = \"deepseek-ai/DeepSeek-Coder-V2-Lite-Base\"\n",
    "# Load a pretrained Sentence Transformer model\n",
    "model = SentenceTransformer(EMBEDDING_MODEL)\n",
    "\n",
    "# Calculate embeddings for the exception_message column\n",
    "df_errors_no_dups['exception_message_embeddings'] = list(\n",
    "    model.encode(\n",
    "        df_errors['exception_message'].tolist(),\n",
    "        batch_size=32, show_progress_bar=True))\n",
    "\n",
    "# Inspect the embeddings\n",
    "df_errors_no_dups['exception_message_embeddings'].head()"
   ]
  },
  {
   "cell_type": "code",
   "execution_count": 10,
   "metadata": {},
   "outputs": [],
   "source": [
    "# ! pip install fpsample"
   ]
  },
  {
   "cell_type": "code",
   "execution_count": 8,
   "metadata": {},
   "outputs": [
    {
     "data": {
      "text/html": [
       "<div>\n",
       "<style scoped>\n",
       "    .dataframe tbody tr th:only-of-type {\n",
       "        vertical-align: middle;\n",
       "    }\n",
       "\n",
       "    .dataframe tbody tr th {\n",
       "        vertical-align: top;\n",
       "    }\n",
       "\n",
       "    .dataframe thead th {\n",
       "        text-align: right;\n",
       "    }\n",
       "</style>\n",
       "<table border=\"1\" class=\"dataframe\">\n",
       "  <thead>\n",
       "    <tr style=\"text-align: right;\">\n",
       "      <th></th>\n",
       "      <th>exception_message</th>\n",
       "      <th>stack_trace</th>\n",
       "      <th>current_file</th>\n",
       "      <th>involved_functions</th>\n",
       "      <th>timestamp</th>\n",
       "      <th>extra_info</th>\n",
       "      <th>error_file</th>\n",
       "      <th>file_content</th>\n",
       "      <th>exception_message_embeddings</th>\n",
       "    </tr>\n",
       "  </thead>\n",
       "  <tbody>\n",
       "    <tr>\n",
       "      <th>17681</th>\n",
       "      <td>\"&lt;input&gt;:5,5: 'cr' is already defined\"</td>\n",
       "      <td>Traceback (most recent call last):\\n  File \"/w...</td>\n",
       "      <td>0001597_a3b932.py</td>\n",
       "      <td>[import_from_qasm_with_pennylane]</td>\n",
       "      <td>1.737647e+09</td>\n",
       "      <td>{'input_qasm_file': '0001597_a3b932_qc_bqskit....</td>\n",
       "      <td>0001597_a3b932_ec75b8_error.json</td>\n",
       "      <td># Section: Prologue\\nfrom qiskit import Quantu...</td>\n",
       "      <td>[0.04345273, -0.06467503, 0.0014078164, 0.0097...</td>\n",
       "    </tr>\n",
       "    <tr>\n",
       "      <th>41287</th>\n",
       "      <td>CUGate with nonzero phase</td>\n",
       "      <td>Traceback (most recent call last):\\n  File \"/w...</td>\n",
       "      <td>0001570_a69df6.py</td>\n",
       "      <td>[qiskit_to_tk, optimize_with_pytket]</td>\n",
       "      <td>1.737646e+09</td>\n",
       "      <td>None</td>\n",
       "      <td>0001570_a69df6_481819_error.json</td>\n",
       "      <td># Section: Prologue\\nfrom qiskit import Quantu...</td>\n",
       "      <td>[0.008369477, -0.011292777, 0.016040538, -0.01...</td>\n",
       "    </tr>\n",
       "    <tr>\n",
       "      <th>45415</th>\n",
       "      <td>Conversion of qiskit's dcx instruction is curr...</td>\n",
       "      <td>Traceback (most recent call last):\\n  File \"/u...</td>\n",
       "      <td>0000203_16db48.py</td>\n",
       "      <td>[qiskit_to_tk, optimize_with_pytket]</td>\n",
       "      <td>1.737635e+09</td>\n",
       "      <td>None</td>\n",
       "      <td>0000203_16db48_4871bc_error.json</td>\n",
       "      <td># Section: Prologue\\nfrom qiskit import Quantu...</td>\n",
       "      <td>[-0.021260701, -0.039892245, -0.0064168647, -0...</td>\n",
       "    </tr>\n",
       "    <tr>\n",
       "      <th>46007</th>\n",
       "      <td>'DaggerGate' object has no attribute '_qasm_name'</td>\n",
       "      <td>Traceback (most recent call last):\\n  File \"/w...</td>\n",
       "      <td>0000439_ff58df.py</td>\n",
       "      <td>[export_to_qasm_with_bqskit]</td>\n",
       "      <td>1.737637e+09</td>\n",
       "      <td>None</td>\n",
       "      <td>0000439_ff58df_839528_error.json</td>\n",
       "      <td># Section: Prologue\\nfrom qiskit import Quantu...</td>\n",
       "      <td>[0.03331826, 0.006505231, 0.012843889, 0.01305...</td>\n",
       "    </tr>\n",
       "    <tr>\n",
       "      <th>45877</th>\n",
       "      <td>Gate acts on 5 qubits, got 4 qubit variables.</td>\n",
       "      <td>Traceback (most recent call last):\\n  File \"/w...</td>\n",
       "      <td>0001104_1b7227.py</td>\n",
       "      <td>[import_from_qasm_with_bqskit]</td>\n",
       "      <td>1.737642e+09</td>\n",
       "      <td>{'input_qasm_file': '0001104_1b7227_qc_RemoveR...</td>\n",
       "      <td>0001104_1b7227_06a9d2_error.json</td>\n",
       "      <td># Section: Prologue\\nfrom qiskit import Quantu...</td>\n",
       "      <td>[0.0036534914, -0.042422894, -0.0018745466, 0....</td>\n",
       "    </tr>\n",
       "  </tbody>\n",
       "</table>\n",
       "</div>"
      ],
      "text/plain": [
       "                                       exception_message  \\\n",
       "17681             \"<input>:5,5: 'cr' is already defined\"   \n",
       "41287                          CUGate with nonzero phase   \n",
       "45415  Conversion of qiskit's dcx instruction is curr...   \n",
       "46007  'DaggerGate' object has no attribute '_qasm_name'   \n",
       "45877      Gate acts on 5 qubits, got 4 qubit variables.   \n",
       "\n",
       "                                             stack_trace       current_file  \\\n",
       "17681  Traceback (most recent call last):\\n  File \"/w...  0001597_a3b932.py   \n",
       "41287  Traceback (most recent call last):\\n  File \"/w...  0001570_a69df6.py   \n",
       "45415  Traceback (most recent call last):\\n  File \"/u...  0000203_16db48.py   \n",
       "46007  Traceback (most recent call last):\\n  File \"/w...  0000439_ff58df.py   \n",
       "45877  Traceback (most recent call last):\\n  File \"/w...  0001104_1b7227.py   \n",
       "\n",
       "                         involved_functions     timestamp  \\\n",
       "17681     [import_from_qasm_with_pennylane]  1.737647e+09   \n",
       "41287  [qiskit_to_tk, optimize_with_pytket]  1.737646e+09   \n",
       "45415  [qiskit_to_tk, optimize_with_pytket]  1.737635e+09   \n",
       "46007          [export_to_qasm_with_bqskit]  1.737637e+09   \n",
       "45877        [import_from_qasm_with_bqskit]  1.737642e+09   \n",
       "\n",
       "                                              extra_info  \\\n",
       "17681  {'input_qasm_file': '0001597_a3b932_qc_bqskit....   \n",
       "41287                                               None   \n",
       "45415                                               None   \n",
       "46007                                               None   \n",
       "45877  {'input_qasm_file': '0001104_1b7227_qc_RemoveR...   \n",
       "\n",
       "                             error_file  \\\n",
       "17681  0001597_a3b932_ec75b8_error.json   \n",
       "41287  0001570_a69df6_481819_error.json   \n",
       "45415  0000203_16db48_4871bc_error.json   \n",
       "46007  0000439_ff58df_839528_error.json   \n",
       "45877  0001104_1b7227_06a9d2_error.json   \n",
       "\n",
       "                                            file_content  \\\n",
       "17681  # Section: Prologue\\nfrom qiskit import Quantu...   \n",
       "41287  # Section: Prologue\\nfrom qiskit import Quantu...   \n",
       "45415  # Section: Prologue\\nfrom qiskit import Quantu...   \n",
       "46007  # Section: Prologue\\nfrom qiskit import Quantu...   \n",
       "45877  # Section: Prologue\\nfrom qiskit import Quantu...   \n",
       "\n",
       "                            exception_message_embeddings  \n",
       "17681  [0.04345273, -0.06467503, 0.0014078164, 0.0097...  \n",
       "41287  [0.008369477, -0.011292777, 0.016040538, -0.01...  \n",
       "45415  [-0.021260701, -0.039892245, -0.0064168647, -0...  \n",
       "46007  [0.03331826, 0.006505231, 0.012843889, 0.01305...  \n",
       "45877  [0.0036534914, -0.042422894, -0.0018745466, 0....  "
      ]
     },
     "execution_count": 8,
     "metadata": {},
     "output_type": "execute_result"
    }
   ],
   "source": [
    "import fpsample\n",
    "import numpy as np\n",
    "\n",
    "# Extract the embeddings from the dataframe\n",
    "embeddings = np.array(df_errors['exception_message_embeddings'].tolist())\n",
    "\n",
    "# Sample 300 points using various FPS methods\n",
    "\n",
    "# # Vanilla FPS\n",
    "fps_samples_idx = fpsample.fps_sampling(embeddings, 300)\n",
    "\n",
    "# Get the sampled data\n",
    "sampled_data = df_errors.iloc[fps_samples_idx]\n",
    "sampled_data.head()"
   ]
  },
  {
   "cell_type": "code",
   "execution_count": 38,
   "metadata": {},
   "outputs": [
    {
     "name": "stdout",
     "output_type": "stream",
     "text": [
      "ALL ERRORs\n",
      "Percentage of error messages with ['parameters']: \n",
      "2.45% (1130/46080)\n",
      "UNIQUE ERRORs\n",
      "Percentage of error messages with ['parameters']: \n",
      "0.00% (1/20491)\n"
     ]
    },
    {
     "data": {
      "text/html": [
       "<style type=\"text/css\">\n",
       "#T_cae33_row18_col0, #T_cae33_row18_col1, #T_cae33_row18_col2 {\n",
       "  background-color: yellow;\n",
       "}\n",
       "</style>\n",
       "<table id=\"T_cae33\">\n",
       "  <thead>\n",
       "    <tr>\n",
       "      <th class=\"blank level0\" >&nbsp;</th>\n",
       "      <th id=\"T_cae33_level0_col0\" class=\"col_heading level0 col0\" >exception_message</th>\n",
       "      <th id=\"T_cae33_level0_col1\" class=\"col_heading level0 col1\" >error_file</th>\n",
       "      <th id=\"T_cae33_level0_col2\" class=\"col_heading level0 col2\" >current_file</th>\n",
       "    </tr>\n",
       "  </thead>\n",
       "  <tbody>\n",
       "    <tr>\n",
       "      <th id=\"T_cae33_level0_row0\" class=\"row_heading level0 row0\" >17681</th>\n",
       "      <td id=\"T_cae33_row0_col0\" class=\"data row0 col0\" >\"&lt;input&gt;:5,5: 'cr' is already defined\"</td>\n",
       "      <td id=\"T_cae33_row0_col1\" class=\"data row0 col1\" >0001597_a3b932_ec75b8_error.json</td>\n",
       "      <td id=\"T_cae33_row0_col2\" class=\"data row0 col2\" >0001597_a3b932.py</td>\n",
       "    </tr>\n",
       "    <tr>\n",
       "      <th id=\"T_cae33_level0_row1\" class=\"row_heading level0 row1\" >41287</th>\n",
       "      <td id=\"T_cae33_row1_col0\" class=\"data row1 col0\" >CUGate with nonzero phase</td>\n",
       "      <td id=\"T_cae33_row1_col1\" class=\"data row1 col1\" >0001570_a69df6_481819_error.json</td>\n",
       "      <td id=\"T_cae33_row1_col2\" class=\"data row1 col2\" >0001570_a69df6.py</td>\n",
       "    </tr>\n",
       "    <tr>\n",
       "      <th id=\"T_cae33_level0_row2\" class=\"row_heading level0 row2\" >45415</th>\n",
       "      <td id=\"T_cae33_row2_col0\" class=\"data row2 col0\" >Conversion of qiskit's dcx instruction is currently unsupported by qiskit_to_tk. Consider using QuantumCircuit.decompose() before attempting conversion.</td>\n",
       "      <td id=\"T_cae33_row2_col1\" class=\"data row2 col1\" >0000203_16db48_4871bc_error.json</td>\n",
       "      <td id=\"T_cae33_row2_col2\" class=\"data row2 col2\" >0000203_16db48.py</td>\n",
       "    </tr>\n",
       "    <tr>\n",
       "      <th id=\"T_cae33_level0_row3\" class=\"row_heading level0 row3\" >46007</th>\n",
       "      <td id=\"T_cae33_row3_col0\" class=\"data row3 col0\" >'DaggerGate' object has no attribute '_qasm_name'</td>\n",
       "      <td id=\"T_cae33_row3_col1\" class=\"data row3 col1\" >0000439_ff58df_839528_error.json</td>\n",
       "      <td id=\"T_cae33_row3_col2\" class=\"data row3 col2\" >0000439_ff58df.py</td>\n",
       "    </tr>\n",
       "    <tr>\n",
       "      <th id=\"T_cae33_level0_row4\" class=\"row_heading level0 row4\" >45877</th>\n",
       "      <td id=\"T_cae33_row4_col0\" class=\"data row4 col0\" >Gate acts on 5 qubits, got 4 qubit variables.</td>\n",
       "      <td id=\"T_cae33_row4_col1\" class=\"data row4 col1\" >0001104_1b7227_06a9d2_error.json</td>\n",
       "      <td id=\"T_cae33_row4_col2\" class=\"data row4 col2\" >0001104_1b7227.py</td>\n",
       "    </tr>\n",
       "    <tr>\n",
       "      <th id=\"T_cae33_level0_row5\" class=\"row_heading level0 row5\" >44561</th>\n",
       "      <td id=\"T_cae33_row5_col0\" class=\"data row5 col0\" >Cannot print command of type: CnZ</td>\n",
       "      <td id=\"T_cae33_row5_col1\" class=\"data row5 col1\" >0001593_d97e09_c9b1d5_error.json</td>\n",
       "      <td id=\"T_cae33_row5_col2\" class=\"data row5 col2\" >0001593_d97e09.py</td>\n",
       "    </tr>\n",
       "    <tr>\n",
       "      <th id=\"T_cae33_level0_row6\" class=\"row_heading level0 row6\" >5940</th>\n",
       "      <td id=\"T_cae33_row6_col0\" class=\"data row6 col0\" >The circuits are not equivalent: 0000288_ec8b6a_qc_RemoveRedundancies_pytket.qasm, 0000288_ec8b6a_qc_EulerAngleReduction_pytket.qasm</td>\n",
       "      <td id=\"T_cae33_row6_col1\" class=\"data row6 col1\" >0000288_ec8b6a_9b5957_error.json</td>\n",
       "      <td id=\"T_cae33_row6_col2\" class=\"data row6 col2\" >0000288_ec8b6a.py</td>\n",
       "    </tr>\n",
       "    <tr>\n",
       "      <th id=\"T_cae33_level0_row7\" class=\"row_heading level0 row7\" >27317</th>\n",
       "      <td id=\"T_cae33_row7_col0\" class=\"data row7 col0\" >Cannot obtain matrix from op: Unitary1qBox</td>\n",
       "      <td id=\"T_cae33_row7_col1\" class=\"data row7 col1\" >0001793_697371_afdb2e_error.json</td>\n",
       "      <td id=\"T_cae33_row7_col2\" class=\"data row7 col2\" >0001793_697371.py</td>\n",
       "    </tr>\n",
       "    <tr>\n",
       "      <th id=\"T_cae33_level0_row8\" class=\"row_heading level0 row8\" >45646</th>\n",
       "      <td id=\"T_cae33_row8_col0\" class=\"data row8 col0\" >Unexpected token Token('$END', '') at line 1, column 1.\n",
       "Expected one of: \n",
       "\t* OPENQASM\n",
       "</td>\n",
       "      <td id=\"T_cae33_row8_col1\" class=\"data row8 col1\" >0000153_647993_08f766_error.json</td>\n",
       "      <td id=\"T_cae33_row8_col2\" class=\"data row8 col2\" >0000153_647993.py</td>\n",
       "    </tr>\n",
       "    <tr>\n",
       "      <th id=\"T_cae33_level0_row9\" class=\"row_heading level0 row9\" >42370</th>\n",
       "      <td id=\"T_cae33_row9_col0\" class=\"data row9 col0\" >Classical register redeclared: cr.</td>\n",
       "      <td id=\"T_cae33_row9_col1\" class=\"data row9 col1\" >0001503_b52b35_851a16_error.json</td>\n",
       "      <td id=\"T_cae33_row9_col2\" class=\"data row9 col2\" >0001503_b52b35.py</td>\n",
       "    </tr>\n",
       "    <tr>\n",
       "      <th id=\"T_cae33_level0_row10\" class=\"row_heading level0 row10\" >45477</th>\n",
       "      <td id=\"T_cae33_row10_col0\" class=\"data row10 col0\" >Could not import second circuit: &lt;input&gt;:17:1:\n",
       "Gate 'c4x' takes 1 targets, but 0 were supplied.</td>\n",
       "      <td id=\"T_cae33_row10_col1\" class=\"data row10 col1\" >0000392_e38bc5_1e2c95_error.json</td>\n",
       "      <td id=\"T_cae33_row10_col2\" class=\"data row10 col2\" >0000392_e38bc5.py</td>\n",
       "    </tr>\n",
       "    <tr>\n",
       "      <th id=\"T_cae33_level0_row11\" class=\"row_heading level0 row11\" >46036</th>\n",
       "      <td id=\"T_cae33_row11_col0\" class=\"data row11 col0\" >Operation MidMeasureMP not supported by the QASM serializer</td>\n",
       "      <td id=\"T_cae33_row11_col1\" class=\"data row11 col1\" >0000763_1c4dfc_80c32a_error.json</td>\n",
       "      <td id=\"T_cae33_row11_col2\" class=\"data row11 col2\" >0000763_1c4dfc.py</td>\n",
       "    </tr>\n",
       "    <tr>\n",
       "      <th id=\"T_cae33_level0_row12\" class=\"row_heading level0 row12\" >28709</th>\n",
       "      <td id=\"T_cae33_row12_col0\" class=\"data row12 col0\" >Cannot print command of type: PhasedX(0.0109623, 0.5)</td>\n",
       "      <td id=\"T_cae33_row12_col1\" class=\"data row12 col1\" >0000419_833cfe_60c365_error.json</td>\n",
       "      <td id=\"T_cae33_row12_col2\" class=\"data row12 col2\" >0000419_833cfe.py</td>\n",
       "    </tr>\n",
       "    <tr>\n",
       "      <th id=\"T_cae33_level0_row13\" class=\"row_heading level0 row13\" >41940</th>\n",
       "      <td id=\"T_cae33_row13_col0\" class=\"data row13 col0\" >Complex classical gates not supported with qelib1: try converting with `header=hqslib1`</td>\n",
       "      <td id=\"T_cae33_row13_col1\" class=\"data row13 col1\" >0000817_a5c087_37047b_error.json</td>\n",
       "      <td id=\"T_cae33_row13_col2\" class=\"data row13 col2\" >0000817_a5c087.py</td>\n",
       "    </tr>\n",
       "    <tr>\n",
       "      <th id=\"T_cae33_level0_row14\" class=\"row_heading level0 row14\" >36452</th>\n",
       "      <td id=\"T_cae33_row14_col0\" class=\"data row14 col0\" >Cannot parse gate of type: ryy\n",
       "Line:58. </td>\n",
       "      <td id=\"T_cae33_row14_col1\" class=\"data row14 col1\" >0000392_e38bc5_4eaa23_error.json</td>\n",
       "      <td id=\"T_cae33_row14_col2\" class=\"data row14 col2\" >0000392_e38bc5.py</td>\n",
       "    </tr>\n",
       "    <tr>\n",
       "      <th id=\"T_cae33_level0_row15\" class=\"row_heading level0 row15\" >42575</th>\n",
       "      <td id=\"T_cae33_row15_col0\" class=\"data row15 col0\" >\"&lt;input&gt;:9,0: 'c4x' takes 5 quantum arguments, but got 4\"</td>\n",
       "      <td id=\"T_cae33_row15_col1\" class=\"data row15 col1\" >0000600_44af43_341d76_error.json</td>\n",
       "      <td id=\"T_cae33_row15_col2\" class=\"data row15 col2\" >0000600_44af43.py</td>\n",
       "    </tr>\n",
       "    <tr>\n",
       "      <th id=\"T_cae33_level0_row16\" class=\"row_heading level0 row16\" >45941</th>\n",
       "      <td id=\"T_cae33_row16_col0\" class=\"data row16 col0\" >Can only build replacement circuits for basic gates: QControlBox</td>\n",
       "      <td id=\"T_cae33_row16_col1\" class=\"data row16 col1\" >0000309_4ef64b_ff4124_error.json</td>\n",
       "      <td id=\"T_cae33_row16_col2\" class=\"data row16 col2\" >0000309_4ef64b.py</td>\n",
       "    </tr>\n",
       "    <tr>\n",
       "      <th id=\"T_cae33_level0_row17\" class=\"row_heading level0 row17\" >40511</th>\n",
       "      <td id=\"T_cae33_row17_col0\" class=\"data row17 col0\" >Predicate requirements are not satisfied: GateSetPredicate:{ CX Z CZ Rx H X Rz SWAP Output noop Input }</td>\n",
       "      <td id=\"T_cae33_row17_col1\" class=\"data row17 col1\" >0000939_569222_8b60d6_error.json</td>\n",
       "      <td id=\"T_cae33_row17_col2\" class=\"data row17 col2\" >0000939_569222.py</td>\n",
       "    </tr>\n",
       "    <tr>\n",
       "      <th id=\"T_cae33_level0_row18\" class=\"row_heading level0 row18\" >46063</th>\n",
       "      <td id=\"T_cae33_row18_col0\" class=\"data row18 col0\" >Gate has an invalid number of parameters</td>\n",
       "      <td id=\"T_cae33_row18_col1\" class=\"data row18 col1\" >0000365_1989c3_4a8e4b_error.json</td>\n",
       "      <td id=\"T_cae33_row18_col2\" class=\"data row18 col2\" >0000365_1989c3.py</td>\n",
       "    </tr>\n",
       "    <tr>\n",
       "      <th id=\"T_cae33_level0_row19\" class=\"row_heading level0 row19\" >2559</th>\n",
       "      <td id=\"T_cae33_row19_col0\" class=\"data row19 col0\" >The circuits are not equivalent: 0001811_fa43ab_qc_opt_level_3_qiskit.qasm, 0001811_fa43ab_qc_opt_level_0_qiskit.qasm</td>\n",
       "      <td id=\"T_cae33_row19_col1\" class=\"data row19 col1\" >0001811_fa43ab_5341f3_error.json</td>\n",
       "      <td id=\"T_cae33_row19_col2\" class=\"data row19 col2\" >0001811_fa43ab.py</td>\n",
       "    </tr>\n",
       "    <tr>\n",
       "      <th id=\"T_cae33_level0_row20\" class=\"row_heading level0 row20\" >44729</th>\n",
       "      <td id=\"T_cae33_row20_col0\" class=\"data row20 col0\" >Could not import first circuit: &lt;input&gt;:6:1:\n",
       "Identifier 'cr' already declared.</td>\n",
       "      <td id=\"T_cae33_row20_col1\" class=\"data row20 col1\" >0001141_a90151_ac6399_error.json</td>\n",
       "      <td id=\"T_cae33_row20_col2\" class=\"data row20 col2\" >0001141_a90151.py</td>\n",
       "    </tr>\n",
       "    <tr>\n",
       "      <th id=\"T_cae33_level0_row21\" class=\"row_heading level0 row21\" >38829</th>\n",
       "      <td id=\"T_cae33_row21_col0\" class=\"data row21 col0\" >The circuits are not equivalent: 0000768_dc5728_qc_pennylane.qasm, 0000768_dc5728_qc_PeepholeOptimise2Q_pytket.qasm</td>\n",
       "      <td id=\"T_cae33_row21_col1\" class=\"data row21 col1\" >0000768_dc5728_42fd70_error.json</td>\n",
       "      <td id=\"T_cae33_row21_col2\" class=\"data row21 col2\" >0000768_dc5728.py</td>\n",
       "    </tr>\n",
       "    <tr>\n",
       "      <th id=\"T_cae33_level0_row22\" class=\"row_heading level0 row22\" >46078</th>\n",
       "      <td id=\"T_cae33_row22_col0\" class=\"data row22 col0\" >Operation QubitUnitary not supported by the QASM serializer</td>\n",
       "      <td id=\"T_cae33_row22_col1\" class=\"data row22 col1\" >0001722_e9b7ca_803044_error.json</td>\n",
       "      <td id=\"T_cae33_row22_col2\" class=\"data row22 col2\" >0001722_e9b7ca.py</td>\n",
       "    </tr>\n",
       "    <tr>\n",
       "      <th id=\"T_cae33_level0_row23\" class=\"row_heading level0 row23\" >42048</th>\n",
       "      <td id=\"T_cae33_row23_col0\" class=\"data row23 col0\" >Operation is not a gate: Unitary1qBox</td>\n",
       "      <td id=\"T_cae33_row23_col1\" class=\"data row23 col1\" >0000275_8cf785_cb163a_error.json</td>\n",
       "      <td id=\"T_cae33_row23_col2\" class=\"data row23 col2\" >0000275_8cf785.py</td>\n",
       "    </tr>\n",
       "    <tr>\n",
       "      <th id=\"T_cae33_level0_row24\" class=\"row_heading level0 row24\" >15284</th>\n",
       "      <td id=\"T_cae33_row24_col0\" class=\"data row24 col0\" >The circuits are not equivalent: 0001016_0c2be6_qc_OptimisePhaseGadgets_pytket.qasm, 0001016_0c2be6_qc_GreedyPauliSimp_pytket.qasm</td>\n",
       "      <td id=\"T_cae33_row24_col1\" class=\"data row24 col1\" >0001016_0c2be6_a2442a_error.json</td>\n",
       "      <td id=\"T_cae33_row24_col2\" class=\"data row24 col2\" >0001016_0c2be6.py</td>\n",
       "    </tr>\n",
       "    <tr>\n",
       "      <th id=\"T_cae33_level0_row25\" class=\"row_heading level0 row25\" >46054</th>\n",
       "      <td id=\"T_cae33_row25_col0\" class=\"data row25 col0\" >Predicate requirements are not satisfied: GateSetPredicate:{ PhasedX Measure PhaseGadget ZZMax Tdg T Ry Rx Z X PauliExpBox Rz Y S Sdg V Vdg SWAP H YYPhase CY XXPhase CX ZZPhase CZ }</td>\n",
       "      <td id=\"T_cae33_row25_col1\" class=\"data row25 col1\" >0001286_fdd0d8_3fb69d_error.json</td>\n",
       "      <td id=\"T_cae33_row25_col2\" class=\"data row25 col2\" >0001286_fdd0d8.py</td>\n",
       "    </tr>\n",
       "    <tr>\n",
       "      <th id=\"T_cae33_level0_row26\" class=\"row_heading level0 row26\" >43530</th>\n",
       "      <td id=\"T_cae33_row26_col0\" class=\"data row26 col0\" >Conversion of qiskit's rv instruction is currently unsupported by qiskit_to_tk. Consider using QuantumCircuit.decompose() before attempting conversion.</td>\n",
       "      <td id=\"T_cae33_row26_col1\" class=\"data row26 col1\" >0000235_e10a74_ff1f5b_error.json</td>\n",
       "      <td id=\"T_cae33_row26_col2\" class=\"data row26 col2\" >0000235_e10a74.py</td>\n",
       "    </tr>\n",
       "    <tr>\n",
       "      <th id=\"T_cae33_level0_row27\" class=\"row_heading level0 row27\" >23795</th>\n",
       "      <td id=\"T_cae33_row27_col0\" class=\"data row27 col0\" >The circuits are not equivalent: 0000228_cee43e_qc_FlattenRegisters_pytket.qasm, 0000228_cee43e_qc_FullPeepholeOptimise_pytket.qasm</td>\n",
       "      <td id=\"T_cae33_row27_col1\" class=\"data row27 col1\" >0000228_cee43e_d52c20_error.json</td>\n",
       "      <td id=\"T_cae33_row27_col2\" class=\"data row27 col2\" >0000228_cee43e.py</td>\n",
       "    </tr>\n",
       "    <tr>\n",
       "      <th id=\"T_cae33_level0_row28\" class=\"row_heading level0 row28\" >15795</th>\n",
       "      <td id=\"T_cae33_row28_col0\" class=\"data row28 col0\" >The circuits are not equivalent: 0000178_e263eb_qc_opt_level_1_qiskit.qasm, 0000178_e263eb_qc_PeepholeOptimise2Q_pytket.qasm</td>\n",
       "      <td id=\"T_cae33_row28_col1\" class=\"data row28 col1\" >0000178_e263eb_696240_error.json</td>\n",
       "      <td id=\"T_cae33_row28_col2\" class=\"data row28 col2\" >0000178_e263eb.py</td>\n",
       "    </tr>\n",
       "    <tr>\n",
       "      <th id=\"T_cae33_level0_row29\" class=\"row_heading level0 row29\" >19944</th>\n",
       "      <td id=\"T_cae33_row29_col0\" class=\"data row29 col0\" >The circuits are not equivalent: 0001311_f28c71_qc_bqskit.qasm, 0001311_f28c71_qc_CliffordPushThroughMeasures_pytket.qasm</td>\n",
       "      <td id=\"T_cae33_row29_col1\" class=\"data row29 col1\" >0001311_f28c71_f9ce62_error.json</td>\n",
       "      <td id=\"T_cae33_row29_col2\" class=\"data row29 col2\" >0001311_f28c71.py</td>\n",
       "    </tr>\n",
       "  </tbody>\n",
       "</table>\n"
      ],
      "text/plain": [
       "<pandas.io.formats.style.Styler at 0x7f5cc7f6dd50>"
      ]
     },
     "execution_count": 38,
     "metadata": {},
     "output_type": "execute_result"
    }
   ],
   "source": [
    "pd.set_option('display.max_colwidth', None)\n",
    "\n",
    "keywords_to_highlight = [\n",
    "\n",
    "    \"parameters\",\n",
    "\n",
    "    # \"The circuits are not equivalent\"\n",
    "\n",
    "    # BUG in BQSKIT\n",
    "    # \"already defined\",\n",
    "    # \"already declared\",\n",
    "\n",
    "    # \"satisf\",\n",
    "    # \"support\",\n",
    "]\n",
    "\n",
    "\n",
    "def highlight_keywords(row):\n",
    "    for keyword in keywords_to_highlight:\n",
    "        if keyword in row['exception_message']:\n",
    "            return ['background-color: yellow'] * len(row)\n",
    "    return [''] * len(row)\n",
    "\n",
    "\n",
    "i = 0\n",
    "size_chunk = 30\n",
    "df = sampled_data[[\"exception_message\", \"error_file\", \"current_file\"]\n",
    "                  ].iloc[i*size_chunk:(i+1)*size_chunk]\n",
    "# escape any < or > characters in exception_message\n",
    "df['exception_message'] = df['exception_message'].str.replace(\n",
    "    \"<\", \"&lt;\").str.replace(\">\", \"&gt;\")\n",
    "df_styled = df.style.apply(highlight_keywords, axis=1)\n",
    "\n",
    "# count the number of rows with the keyword\n",
    "df_errors_no_dups = df_errors.copy()\n",
    "df_errors_no_dups.drop_duplicates(subset=['exception_message'], inplace=True)\n",
    "\n",
    "\n",
    "def display_prevalence_of(df, keywords):\n",
    "    total = len(df)\n",
    "    n_lines_with_keywords = df['exception_message'].apply(\n",
    "        lambda x: any(keyword in x for keyword in keywords)).sum()\n",
    "    perc_lines_with_keywords = n_lines_with_keywords / total * 100\n",
    "    print(f\"Percentage of error messages with {keywords}: \")\n",
    "    print(f\"{perc_lines_with_keywords:.2f}% ({n_lines_with_keywords}/{total})\")\n",
    "\n",
    "\n",
    "print(\"ALL ERRORs\")\n",
    "display_prevalence_of(df_errors.copy(), keywords=keywords_to_highlight)\n",
    "\n",
    "\n",
    "print(\"UNIQUE ERRORs\")\n",
    "display_prevalence_of(df_errors_no_dups, keywords=keywords_to_highlight)\n",
    "\n",
    "\n",
    "df_styled"
   ]
  },
  {
   "cell_type": "code",
   "execution_count": 8,
   "metadata": {},
   "outputs": [
    {
     "data": {
      "text/markdown": [
       "**exception_message:**"
      ],
      "text/plain": [
       "<IPython.core.display.Markdown object>"
      ]
     },
     "metadata": {},
     "output_type": "display_data"
    },
    {
     "name": "stdout",
     "output_type": "stream",
     "text": [
      "Cannot obtain matrix from op: Unitary1qBox\n"
     ]
    },
    {
     "data": {
      "text/markdown": [
       "**stack_trace:**"
      ],
      "text/plain": [
       "<IPython.core.display.Markdown object>"
      ]
     },
     "metadata": {},
     "output_type": "display_data"
    },
    {
     "name": "stdout",
     "output_type": "stream",
     "text": [
      "Traceback (most recent call last):\n",
      "  File \"/workspace/0001793_697371.py\", line 520, in oracle_optimizer\n",
      "    qasm_file = platform_specific_optimize_call(\n",
      "  File \"/workspace/0001793_697371.py\", line 303, in optimize_with_pytket\n",
      "    optimization_pass.apply(i_qc)\n",
      "RuntimeError: Cannot obtain matrix from op: Unitary1qBox\n",
      "\n"
     ]
    },
    {
     "data": {
      "text/markdown": [
       "**current_file:**"
      ],
      "text/plain": [
       "<IPython.core.display.Markdown object>"
      ]
     },
     "metadata": {},
     "output_type": "display_data"
    },
    {
     "name": "stdout",
     "output_type": "stream",
     "text": [
      "0001793_697371.py\n"
     ]
    },
    {
     "data": {
      "text/markdown": [
       "**involved_functions:**"
      ],
      "text/plain": [
       "<IPython.core.display.Markdown object>"
      ]
     },
     "metadata": {},
     "output_type": "display_data"
    },
    {
     "name": "stdout",
     "output_type": "stream",
     "text": [
      "['qiskit_to_tk', 'optimize_with_pytket']\n"
     ]
    },
    {
     "data": {
      "text/markdown": [
       "**timestamp:**"
      ],
      "text/plain": [
       "<IPython.core.display.Markdown object>"
      ]
     },
     "metadata": {},
     "output_type": "display_data"
    },
    {
     "name": "stdout",
     "output_type": "stream",
     "text": [
      "1737648259.106081\n"
     ]
    },
    {
     "data": {
      "text/markdown": [
       "**extra_info:**"
      ],
      "text/plain": [
       "<IPython.core.display.Markdown object>"
      ]
     },
     "metadata": {},
     "output_type": "display_data"
    },
    {
     "name": "stdout",
     "output_type": "stream",
     "text": [
      "None\n"
     ]
    }
   ],
   "source": [
    "from IPython.display import display, Markdown\n",
    "\n",
    "# END empty qasm from bqskit >> due to daggergate crash\n",
    "file_name = \"0000153_647993_08f766_error.json\"\n",
    "\n",
    "# Cannot print command of type: CnZ >> unsupported error qasm pytket\n",
    "file_name = \"0001593_d97e09_c9b1d5_error.json\"\n",
    "\n",
    "# RuntimeError: Operation is not a gate: Unitary1qBox >> FullPeepholeOptimise\n",
    "file_name = \"0001793_697371_afdb2e_error.json\"\n",
    "\n",
    "file_path = os.path.join(DIR_PROGRAM_BANK, file_name)\n",
    "\n",
    "data = json.loads(Path(file_path).read_text())\n",
    "\n",
    "for key, value in data.items():\n",
    "    display(Markdown(f\"**{key}:**\"))\n",
    "    print(value)"
   ]
  },
  {
   "cell_type": "code",
   "execution_count": 42,
   "metadata": {},
   "outputs": [
    {
     "name": "stdout",
     "output_type": "stream",
     "text": [
      "../program_bank/v022/2025_01_23__12_48__qiskit/0001793_697371_circuit.py\n"
     ]
    },
    {
     "data": {
      "text/markdown": [
       "**0001793_697371_circuit.py:**"
      ],
      "text/plain": [
       "<IPython.core.display.Markdown object>"
      ]
     },
     "metadata": {},
     "output_type": "display_data"
    },
    {
     "name": "stdout",
     "output_type": "stream",
     "text": [
      "qr = QuantumRegister(11, name='qr')\n",
      "cr = ClassicalRegister(11, name='cr')\n",
      "qc = QuantumCircuit(qr, cr, name='qc')\n",
      "# TIMESTAMP: 1737648255.013264\n",
      "\n",
      "# Apply gate operations\n",
      "# <START_GATES>\n",
      "qc.p(1.095686, qr[8])\n",
      "qc.rxx(2.607111, qr[5], qr[1])\n",
      "qc.mcrz(4.172311, [qr[6], qr[7], qr[5]], qr[10])\n",
      "qc.t(qr[5])\n",
      "qc.iswap(qr[10], qr[5])\n",
      "# <END_GATES>\n",
      "\n",
      "# Section: Measurement\n",
      "qc.measure(qr, cr)\n"
     ]
    }
   ],
   "source": [
    "file_name = \"0001793_697371_circuit.py\"\n",
    "file_path = os.path.join(DIR_PROGRAM_BANK, file_name)\n",
    "print(file_path)\n",
    "\n",
    "content = Path(file_path).read_text()\n",
    "display(Markdown(f\"**{file_name}:**\"))\n",
    "print(content)"
   ]
  },
  {
   "cell_type": "code",
   "execution_count": 43,
   "metadata": {},
   "outputs": [],
   "source": [
    "# relevant errors\n",
    "relevant_error_files_with_message = [\n",
    "    # # probably QCEC error\n",
    "    # (\"qiskit_circuit_5q_10g_2382_eaac27_73fae5_error.json\",\n",
    "    #  \"classic-controlled operation is not a StandardOperation\"),\n",
    "    # # interesting pair of divergent platforms\n",
    "    # (\"qiskit_circuit_5q_10g_5557_dc52a0_027c07_error.json\",\n",
    "    #  \"The circuits are not equivalent\")\n",
    "    # cs gate not defined\n",
    "    # (\"qiskit_circuit_5q_10g_3811_4fe1d7_ac90d3_error.json\",\n",
    "    #  \"cs' is not defined\")\n",
    "    # ('qiskit_circuit_5q_10g_3242_e7d1fd_6fa18e_error.json',\n",
    "    #  'Try renaming the register')\n",
    "    # ('qiskit_circuit_5q_10g_4249_6b20ab_f7dd09_error.json',\n",
    "    #  'delay')\n",
    "    ('0001793_697371_afdb2e_error.json',\n",
    "     'Cannot obtain matrix from op: Unitary1qBox')\n",
    "]"
   ]
  },
  {
   "cell_type": "code",
   "execution_count": 44,
   "metadata": {},
   "outputs": [
    {
     "name": "stdout",
     "output_type": "stream",
     "text": [
      "Copying ../program_bank/v022/2025_01_23__12_48__qiskit/0001793_697371_afdb2e_error.json to ../program_bank/v022/2025_01_23__12_48__sample_errors\n",
      "Copying ../program_bank/v022/2025_01_23__12_48__qiskit/0001793_697371.py to ../program_bank/v022/2025_01_23__12_48__sample_errors\n"
     ]
    }
   ],
   "source": [
    "error_paths = [os.path.join(DIR_PROGRAM_BANK, f)\n",
    "               for f, _ in relevant_error_files_with_message]\n",
    "\n",
    "# copy the relevant errors to the sample folder\n",
    "copy_errors_to_sample_folder(error_paths, DIR_SAMPLE_ERRORS)\n",
    "\n",
    "\n",
    "def add_tags_to_program_content(program_content: str) -> str:\n",
    "    \"\"\"Add START_GATES and END_GATES tags to the program content.\n",
    "\n",
    "    They are both new lines, so they can be used as delimiters.\n",
    "    The \"# <START_GATES>\" is the the first line after \"# Section: Circuit\"\n",
    "    The \"# <END_GATES>\" is the the first line before \"# Helper Functions\"\n",
    "    \"\"\"\n",
    "    lines = program_content.split(\"\\n\")\n",
    "    new_lines = []\n",
    "    for i, line in enumerate(lines):\n",
    "        if line.startswith(\"# Section: Circuit\"):\n",
    "            new_lines.append(line)\n",
    "            new_lines.append(\"# <START_GATES>\")\n",
    "        elif line.startswith(\"# Helper Functions\"):\n",
    "            new_lines.append(\"# <END_GATES>\")\n",
    "            new_lines.append(line)\n",
    "        else:\n",
    "            new_lines.append(line)\n",
    "    return \"\\n\".join(new_lines)\n",
    "\n",
    "\n",
    "# iterate over all the .py files in the sample folder\n",
    "for file_name in os.listdir(DIR_SAMPLE_ERRORS):\n",
    "    if file_name.endswith(\".py\"):\n",
    "        file_path = os.path.join(DIR_SAMPLE_ERRORS, file_name)\n",
    "        with open(file_path, 'r') as file:\n",
    "            program_content = file.read()\n",
    "        if \"# <START_GATES>\" not in program_content:\n",
    "            program_content = add_tags_to_program_content(program_content)\n",
    "        with open(file_path, 'w') as file:\n",
    "            file.write(program_content)"
   ]
  },
  {
   "cell_type": "code",
   "execution_count": 45,
   "metadata": {},
   "outputs": [
    {
     "name": "stdout",
     "output_type": "stream",
     "text": [
      "Error paths in sample folder (1):\n",
      "../program_bank/v022/2025_01_23__12_48__sample_errors/0001793_697371_afdb2e_error.json\n"
     ]
    },
    {
     "data": {
      "text/html": [
       "<pre style=\"white-space:pre;overflow-x:auto;line-height:normal;font-family:Menlo,'DejaVu Sans Mono',consolas,'Courier New',monospace\"><span style=\"color: #7fbfbf; text-decoration-color: #7fbfbf\">[18:27:44] </span>Created report folder: ..<span style=\"color: #800080; text-decoration-color: #800080\">/reports/v022/</span><span style=\"color: #ff00ff; text-decoration-color: #ff00ff\">2025_01_23__18_27</span>                                   <a href=\"file:///home/paltenmo/projects/crossplatform/analysis_and_reporting/triage.py\" target=\"_blank\"><span style=\"color: #7f7f7f; text-decoration-color: #7f7f7f\">triage.py</span></a><span style=\"color: #7f7f7f; text-decoration-color: #7f7f7f\">:</span><a href=\"file:///home/paltenmo/projects/crossplatform/analysis_and_reporting/triage.py#132\" target=\"_blank\"><span style=\"color: #7f7f7f; text-decoration-color: #7f7f7f\">132</span></a>\n",
       "</pre>\n"
      ],
      "text/plain": [
       "\u001b[2;36m[18:27:44]\u001b[0m\u001b[2;36m \u001b[0mCreated report folder: ..\u001b[35m/reports/v022/\u001b[0m\u001b[95m2025_01_23__18_27\u001b[0m                                   \u001b]8;id=296709;file:///home/paltenmo/projects/crossplatform/analysis_and_reporting/triage.py\u001b\\\u001b[2mtriage.py\u001b[0m\u001b]8;;\u001b\\\u001b[2m:\u001b[0m\u001b]8;id=604161;file:///home/paltenmo/projects/crossplatform/analysis_and_reporting/triage.py#132\u001b\\\u001b[2m132\u001b[0m\u001b]8;;\u001b\\\n"
      ]
     },
     "metadata": {},
     "output_type": "display_data"
    },
    {
     "data": {
      "text/html": [
       "<pre style=\"white-space:pre;overflow-x:auto;line-height:normal;font-family:Menlo,'DejaVu Sans Mono',consolas,'Courier New',monospace\"><span style=\"color: #7fbfbf; text-decoration-color: #7fbfbf\">           </span>Copied files to: ..<span style=\"color: #800080; text-decoration-color: #800080\">/reports/v022/</span><span style=\"color: #ff00ff; text-decoration-color: #ff00ff\">2025_01_23__18_27</span>                                         <a href=\"file:///home/paltenmo/projects/crossplatform/analysis_and_reporting/triage.py\" target=\"_blank\"><span style=\"color: #7f7f7f; text-decoration-color: #7f7f7f\">triage.py</span></a><span style=\"color: #7f7f7f; text-decoration-color: #7f7f7f\">:</span><a href=\"file:///home/paltenmo/projects/crossplatform/analysis_and_reporting/triage.py#141\" target=\"_blank\"><span style=\"color: #7f7f7f; text-decoration-color: #7f7f7f\">141</span></a>\n",
       "</pre>\n"
      ],
      "text/plain": [
       "\u001b[2;36m          \u001b[0m\u001b[2;36m \u001b[0mCopied files to: ..\u001b[35m/reports/v022/\u001b[0m\u001b[95m2025_01_23__18_27\u001b[0m                                         \u001b]8;id=604796;file:///home/paltenmo/projects/crossplatform/analysis_and_reporting/triage.py\u001b\\\u001b[2mtriage.py\u001b[0m\u001b]8;;\u001b\\\u001b[2m:\u001b[0m\u001b]8;id=379321;file:///home/paltenmo/projects/crossplatform/analysis_and_reporting/triage.py#141\u001b\\\u001b[2m141\u001b[0m\u001b]8;;\u001b\\\n"
      ]
     },
     "metadata": {},
     "output_type": "display_data"
    },
    {
     "data": {
      "text/html": [
       "<pre style=\"white-space:pre;overflow-x:auto;line-height:normal;font-family:Menlo,'DejaVu Sans Mono',consolas,'Courier New',monospace\"><span style=\"color: #7fbfbf; text-decoration-color: #7fbfbf\">[18:27:44] </span>Involved functions:                                                             <a href=\"file:///home/paltenmo/projects/crossplatform/analysis_and_reporting/ddmin_target_file.py\" target=\"_blank\"><span style=\"color: #7f7f7f; text-decoration-color: #7f7f7f\">ddmin_target_file.py</span></a><span style=\"color: #7f7f7f; text-decoration-color: #7f7f7f\">:</span><a href=\"file:///home/paltenmo/projects/crossplatform/analysis_and_reporting/ddmin_target_file.py#206\" target=\"_blank\"><span style=\"color: #7f7f7f; text-decoration-color: #7f7f7f\">206</span></a>\n",
       "</pre>\n"
      ],
      "text/plain": [
       "\u001b[2;36m[18:27:44]\u001b[0m\u001b[2;36m \u001b[0mInvolved functions:                                                             \u001b]8;id=866495;file:///home/paltenmo/projects/crossplatform/analysis_and_reporting/ddmin_target_file.py\u001b\\\u001b[2mddmin_target_file.py\u001b[0m\u001b]8;;\u001b\\\u001b[2m:\u001b[0m\u001b]8;id=518195;file:///home/paltenmo/projects/crossplatform/analysis_and_reporting/ddmin_target_file.py#206\u001b\\\u001b[2m206\u001b[0m\u001b]8;;\u001b\\\n"
      ]
     },
     "metadata": {},
     "output_type": "display_data"
    },
    {
     "data": {
      "text/html": [
       "<pre style=\"white-space:pre;overflow-x:auto;line-height:normal;font-family:Menlo,'DejaVu Sans Mono',consolas,'Courier New',monospace\"><span style=\"color: #7fbfbf; text-decoration-color: #7fbfbf\">           </span>  - qiskit_to_tk                                                                <a href=\"file:///home/paltenmo/projects/crossplatform/analysis_and_reporting/ddmin_target_file.py\" target=\"_blank\"><span style=\"color: #7f7f7f; text-decoration-color: #7f7f7f\">ddmin_target_file.py</span></a><span style=\"color: #7f7f7f; text-decoration-color: #7f7f7f\">:</span><a href=\"file:///home/paltenmo/projects/crossplatform/analysis_and_reporting/ddmin_target_file.py#208\" target=\"_blank\"><span style=\"color: #7f7f7f; text-decoration-color: #7f7f7f\">208</span></a>\n",
       "</pre>\n"
      ],
      "text/plain": [
       "\u001b[2;36m          \u001b[0m\u001b[2;36m \u001b[0m  - qiskit_to_tk                                                                \u001b]8;id=121890;file:///home/paltenmo/projects/crossplatform/analysis_and_reporting/ddmin_target_file.py\u001b\\\u001b[2mddmin_target_file.py\u001b[0m\u001b]8;;\u001b\\\u001b[2m:\u001b[0m\u001b]8;id=257466;file:///home/paltenmo/projects/crossplatform/analysis_and_reporting/ddmin_target_file.py#208\u001b\\\u001b[2m208\u001b[0m\u001b]8;;\u001b\\\n"
      ]
     },
     "metadata": {},
     "output_type": "display_data"
    },
    {
     "data": {
      "text/html": [
       "<pre style=\"white-space:pre;overflow-x:auto;line-height:normal;font-family:Menlo,'DejaVu Sans Mono',consolas,'Courier New',monospace\"><span style=\"color: #7fbfbf; text-decoration-color: #7fbfbf\">           </span>  - optimize_with_pytket                                                        <a href=\"file:///home/paltenmo/projects/crossplatform/analysis_and_reporting/ddmin_target_file.py\" target=\"_blank\"><span style=\"color: #7f7f7f; text-decoration-color: #7f7f7f\">ddmin_target_file.py</span></a><span style=\"color: #7f7f7f; text-decoration-color: #7f7f7f\">:</span><a href=\"file:///home/paltenmo/projects/crossplatform/analysis_and_reporting/ddmin_target_file.py#208\" target=\"_blank\"><span style=\"color: #7f7f7f; text-decoration-color: #7f7f7f\">208</span></a>\n",
       "</pre>\n"
      ],
      "text/plain": [
       "\u001b[2;36m          \u001b[0m\u001b[2;36m \u001b[0m  - optimize_with_pytket                                                        \u001b]8;id=401018;file:///home/paltenmo/projects/crossplatform/analysis_and_reporting/ddmin_target_file.py\u001b\\\u001b[2mddmin_target_file.py\u001b[0m\u001b]8;;\u001b\\\u001b[2m:\u001b[0m\u001b]8;id=730521;file:///home/paltenmo/projects/crossplatform/analysis_and_reporting/ddmin_target_file.py#208\u001b\\\u001b[2m208\u001b[0m\u001b]8;;\u001b\\\n"
      ]
     },
     "metadata": {},
     "output_type": "display_data"
    },
    {
     "name": "stdout",
     "output_type": "stream",
     "text": [
      "Output: Log has been saved to /workspace/to_execute_0830f4_error.json\n",
      "Saved Optimized Pytket circuit (FullPeepholeOptimise) to /workspace/to_execute_qc_FullPeepholeOptimise_pytket.qasm\n",
      "Saved Optimized Pytket circuit (PeepholeOptimise2Q) to /workspace/to_execute_qc_PeepholeOptimise2Q_pytket.qasm\n",
      "Saved Optimized Pytket circuit (RemoveRedundancies) to /workspace/to_execute_qc_RemoveRedundancies_pytket.qasm\n",
      "Saved Optimized Pytket circuit (EulerAngleReduction) to /workspace/to_execute_qc_EulerAngleReduction_pytket.qasm\n",
      "Saved Optimized Pytket circuit (KAKDecomposition) to /workspace/to_execute_qc_KAKDecomposition_pytket.qasm\n",
      "Saved Optimized Pytket circuit (CliffordPushThroughMeasures) to /workspace/to_execute_qc_CliffordPushThroughMeasures_pytket.qasm\n",
      "Saved Optimized Pytket circuit (FlattenRegisters) to /workspace/to_execute_qc_FlattenRegisters_pytket.qasm\n",
      "Saved Optimized Pytket circuit (PauliSimp) to /workspace/to_execute_qc_PauliSimp_pytket.qasm\n",
      "Saved Optimized Pytket circuit (GreedyPauliSimp) to /workspace/to_execute_qc_GreedyPauliSimp_pytket.qasm\n",
      "Saved Optimized Pytket circuit (OptimisePhaseGadgets) to /workspace/to_execute_qc_OptimisePhaseGadgets_pytket.qasm\n",
      "Log has been saved to /workspace/to_execute_b919de_error.json\n",
      "Saved Optimized Qiskit circuit (optimization level 0) to /workspace/to_execute_qc_opt_level_0_qiskit.qasm\n",
      "Saved Optimized Qiskit circuit (optimization level 1) to /workspace/to_execute_qc_opt_level_1_qiskit.qasm\n",
      "Saved Optimized Qiskit circuit (optimization level 2) to /workspace/to_execute_qc_opt_level_2_qiskit.qasm\n",
      "Saved Optimized Qiskit circuit (optimization level 3) to /workspace/to_execute_qc_opt_level_3_qiskit.qasm\n",
      "\n",
      "Program to_execute.py executed successfully.\n",
      "New exception message: Predicate requirements are not satisfied: GateSetPredicate:{ CX Z CZ Rx H X Rz SWAP Output noop Input }\n",
      "Output: Log has been saved to /workspace/to_execute_8ebcfc_error.json\n",
      "Log has been saved to /workspace/to_execute_5db09e_error.json\n",
      "Saved Optimized Qiskit circuit (optimization level 0) to /workspace/to_execute_qc_opt_level_0_qiskit.qasm\n",
      "Saved Optimized Qiskit circuit (optimization level 1) to /workspace/to_execute_qc_opt_level_1_qiskit.qasm\n",
      "Saved Optimized Qiskit circuit (optimization level 2) to /workspace/to_execute_qc_opt_level_2_qiskit.qasm\n",
      "Saved Optimized Qiskit circuit (optimization level 3) to /workspace/to_execute_qc_opt_level_3_qiskit.qasm\n",
      "\n",
      "Program to_execute.py executed successfully.\n",
      "New exception message: Cannot obtain matrix from op: Unitary1qBox\n",
      "Output: Log has been saved to /workspace/to_execute_861263_error.json\n",
      "Saved Optimized Pytket circuit (FullPeepholeOptimise) to /workspace/to_execute_qc_FullPeepholeOptimise_pytket.qasm\n",
      "Saved Optimized Pytket circuit (PeepholeOptimise2Q) to /workspace/to_execute_qc_PeepholeOptimise2Q_pytket.qasm\n",
      "Saved Optimized Pytket circuit (RemoveRedundancies) to /workspace/to_execute_qc_RemoveRedundancies_pytket.qasm\n",
      "Saved Optimized Pytket circuit (EulerAngleReduction) to /workspace/to_execute_qc_EulerAngleReduction_pytket.qasm\n",
      "Saved Optimized Pytket circuit (KAKDecomposition) to /workspace/to_execute_qc_KAKDecomposition_pytket.qasm\n",
      "Log has been saved to /workspace/to_execute_b052e3_error.json\n",
      "Saved Optimized Qiskit circuit (optimization level 0) to /workspace/to_execute_qc_opt_level_0_qiskit.qasm\n",
      "Saved Optimized Qiskit circuit (optimization level 1) to /workspace/to_execute_qc_opt_level_1_qiskit.qasm\n",
      "Saved Optimized Qiskit circuit (optimization level 2) to /workspace/to_execute_qc_opt_level_2_qiskit.qasm\n",
      "Saved Optimized Qiskit circuit (optimization level 3) to /workspace/to_execute_qc_opt_level_3_qiskit.qasm\n",
      "\n",
      "Program to_execute.py executed successfully.\n",
      "New exception message: Operation MidMeasureMP not supported by the QASM serializer\n",
      "Output: Log has been saved to /workspace/to_execute_4915e5_error.json\n",
      "Log has been saved to /workspace/to_execute_f01170_error.json\n",
      "Saved Optimized Qiskit circuit (optimization level 0) to /workspace/to_execute_qc_opt_level_0_qiskit.qasm\n",
      "Saved Optimized Qiskit circuit (optimization level 1) to /workspace/to_execute_qc_opt_level_1_qiskit.qasm\n",
      "Saved Optimized Qiskit circuit (optimization level 2) to /workspace/to_execute_qc_opt_level_2_qiskit.qasm\n",
      "Saved Optimized Qiskit circuit (optimization level 3) to /workspace/to_execute_qc_opt_level_3_qiskit.qasm\n",
      "\n",
      "Program to_execute.py executed successfully.\n",
      "New exception message: Operation is not a gate: Unitary1qBox\n",
      "Output: Log has been saved to /workspace/to_execute_24721e_error.json\n",
      "Log has been saved to /workspace/to_execute_a65e6d_error.json\n",
      "Saved Optimized Qiskit circuit (optimization level 0) to /workspace/to_execute_qc_opt_level_0_qiskit.qasm\n",
      "Saved Optimized Qiskit circuit (optimization level 1) to /workspace/to_execute_qc_opt_level_1_qiskit.qasm\n",
      "Saved Optimized Qiskit circuit (optimization level 2) to /workspace/to_execute_qc_opt_level_2_qiskit.qasm\n",
      "Saved Optimized Qiskit circuit (optimization level 3) to /workspace/to_execute_qc_opt_level_3_qiskit.qasm\n",
      "\n",
      "Program to_execute.py executed successfully.\n",
      "New exception message: Operation MidMeasureMP not supported by the QASM serializer\n",
      "Output: Log has been saved to /workspace/to_execute_315b75_error.json\n",
      "Log has been saved to /workspace/to_execute_a8f463_error.json\n",
      "Saved Optimized Qiskit circuit (optimization level 0) to /workspace/to_execute_qc_opt_level_0_qiskit.qasm\n",
      "Saved Optimized Qiskit circuit (optimization level 1) to /workspace/to_execute_qc_opt_level_1_qiskit.qasm\n",
      "Saved Optimized Qiskit circuit (optimization level 2) to /workspace/to_execute_qc_opt_level_2_qiskit.qasm\n",
      "Saved Optimized Qiskit circuit (optimization level 3) to /workspace/to_execute_qc_opt_level_3_qiskit.qasm\n",
      "\n",
      "Program to_execute.py executed successfully.\n",
      "New exception message: Cannot obtain matrix from op: Unitary1qBox\n",
      "Output: Log has been saved to /workspace/to_execute_cda959_error.json\n",
      "Log has been saved to /workspace/to_execute_fe5fc3_error.json\n",
      "Saved Optimized Qiskit circuit (optimization level 0) to /workspace/to_execute_qc_opt_level_0_qiskit.qasm\n",
      "Saved Optimized Qiskit circuit (optimization level 1) to /workspace/to_execute_qc_opt_level_1_qiskit.qasm\n",
      "Saved Optimized Qiskit circuit (optimization level 2) to /workspace/to_execute_qc_opt_level_2_qiskit.qasm\n",
      "Saved Optimized Qiskit circuit (optimization level 3) to /workspace/to_execute_qc_opt_level_3_qiskit.qasm\n",
      "\n",
      "Program to_execute.py executed successfully.\n",
      "New exception message: Operation MidMeasureMP not supported by the QASM serializer\n",
      "Output: Log has been saved to /workspace/to_execute_7fdc74_error.json\n",
      "Saved Optimized Pytket circuit (FullPeepholeOptimise) to /workspace/to_execute_qc_FullPeepholeOptimise_pytket.qasm\n",
      "Saved Optimized Pytket circuit (PeepholeOptimise2Q) to /workspace/to_execute_qc_PeepholeOptimise2Q_pytket.qasm\n",
      "Saved Optimized Pytket circuit (RemoveRedundancies) to /workspace/to_execute_qc_RemoveRedundancies_pytket.qasm\n",
      "Saved Optimized Pytket circuit (EulerAngleReduction) to /workspace/to_execute_qc_EulerAngleReduction_pytket.qasm\n",
      "Saved Optimized Pytket circuit (KAKDecomposition) to /workspace/to_execute_qc_KAKDecomposition_pytket.qasm\n",
      "Log has been saved to /workspace/to_execute_5d5ec5_error.json\n",
      "Saved Optimized Qiskit circuit (optimization level 0) to /workspace/to_execute_qc_opt_level_0_qiskit.qasm\n",
      "Saved Optimized Qiskit circuit (optimization level 1) to /workspace/to_execute_qc_opt_level_1_qiskit.qasm\n",
      "Saved Optimized Qiskit circuit (optimization level 2) to /workspace/to_execute_qc_opt_level_2_qiskit.qasm\n",
      "Saved Optimized Qiskit circuit (optimization level 3) to /workspace/to_execute_qc_opt_level_3_qiskit.qasm\n",
      "\n",
      "Program to_execute.py executed successfully.\n",
      "New exception message: Complex classical gates not supported with qelib1: try converting with `header=hqslib1`\n",
      "Output: Log has been saved to /workspace/to_execute_fefaab_error.json\n",
      "Log has been saved to /workspace/to_execute_103309_error.json\n",
      "Saved Optimized Qiskit circuit (optimization level 0) to /workspace/to_execute_qc_opt_level_0_qiskit.qasm\n",
      "Saved Optimized Qiskit circuit (optimization level 1) to /workspace/to_execute_qc_opt_level_1_qiskit.qasm\n",
      "Saved Optimized Qiskit circuit (optimization level 2) to /workspace/to_execute_qc_opt_level_2_qiskit.qasm\n",
      "Saved Optimized Qiskit circuit (optimization level 3) to /workspace/to_execute_qc_opt_level_3_qiskit.qasm\n",
      "\n",
      "Program to_execute.py executed successfully.\n",
      "New exception message: Operation is not a gate: Unitary1qBox\n",
      "Output: Log has been saved to /workspace/to_execute_3a1cf3_error.json\n",
      "Log has been saved to /workspace/to_execute_8f1392_error.json\n",
      "Saved Optimized Qiskit circuit (optimization level 0) to /workspace/to_execute_qc_opt_level_0_qiskit.qasm\n",
      "Saved Optimized Qiskit circuit (optimization level 1) to /workspace/to_execute_qc_opt_level_1_qiskit.qasm\n",
      "Saved Optimized Qiskit circuit (optimization level 2) to /workspace/to_execute_qc_opt_level_2_qiskit.qasm\n",
      "Saved Optimized Qiskit circuit (optimization level 3) to /workspace/to_execute_qc_opt_level_3_qiskit.qasm\n",
      "\n",
      "Program to_execute.py executed successfully.\n",
      "New exception message: Cannot obtain matrix from op: Unitary1qBox\n",
      "Output: Log has been saved to /workspace/to_execute_7eaf77_error.json\n",
      "Saved Optimized Pytket circuit (FullPeepholeOptimise) to /workspace/to_execute_qc_FullPeepholeOptimise_pytket.qasm\n",
      "Saved Optimized Pytket circuit (PeepholeOptimise2Q) to /workspace/to_execute_qc_PeepholeOptimise2Q_pytket.qasm\n",
      "Saved Optimized Pytket circuit (RemoveRedundancies) to /workspace/to_execute_qc_RemoveRedundancies_pytket.qasm\n",
      "Saved Optimized Pytket circuit (EulerAngleReduction) to /workspace/to_execute_qc_EulerAngleReduction_pytket.qasm\n",
      "Saved Optimized Pytket circuit (KAKDecomposition) to /workspace/to_execute_qc_KAKDecomposition_pytket.qasm\n",
      "Log has been saved to /workspace/to_execute_fec99f_error.json\n",
      "Saved Optimized Qiskit circuit (optimization level 0) to /workspace/to_execute_qc_opt_level_0_qiskit.qasm\n",
      "Saved Optimized Qiskit circuit (optimization level 1) to /workspace/to_execute_qc_opt_level_1_qiskit.qasm\n",
      "Saved Optimized Qiskit circuit (optimization level 2) to /workspace/to_execute_qc_opt_level_2_qiskit.qasm\n",
      "Saved Optimized Qiskit circuit (optimization level 3) to /workspace/to_execute_qc_opt_level_3_qiskit.qasm\n",
      "\n",
      "Program to_execute.py executed successfully.\n",
      "New exception message: Complex classical gates not supported with qelib1: try converting with `header=hqslib1`\n",
      "Output: Log has been saved to /workspace/to_execute_35151b_error.json\n",
      "Log has been saved to /workspace/to_execute_53e2a2_error.json\n",
      "Saved Optimized Qiskit circuit (optimization level 0) to /workspace/to_execute_qc_opt_level_0_qiskit.qasm\n",
      "Saved Optimized Qiskit circuit (optimization level 1) to /workspace/to_execute_qc_opt_level_1_qiskit.qasm\n",
      "Saved Optimized Qiskit circuit (optimization level 2) to /workspace/to_execute_qc_opt_level_2_qiskit.qasm\n",
      "Saved Optimized Qiskit circuit (optimization level 3) to /workspace/to_execute_qc_opt_level_3_qiskit.qasm\n",
      "\n",
      "Program to_execute.py executed successfully.\n",
      "New exception message: Operation MidMeasureMP not supported by the QASM serializer\n",
      "Output: Log has been saved to /workspace/to_execute_b76a74_error.json\n",
      "Log has been saved to /workspace/to_execute_97982a_error.json\n",
      "Saved Optimized Qiskit circuit (optimization level 0) to /workspace/to_execute_qc_opt_level_0_qiskit.qasm\n",
      "Saved Optimized Qiskit circuit (optimization level 1) to /workspace/to_execute_qc_opt_level_1_qiskit.qasm\n",
      "Saved Optimized Qiskit circuit (optimization level 2) to /workspace/to_execute_qc_opt_level_2_qiskit.qasm\n",
      "Saved Optimized Qiskit circuit (optimization level 3) to /workspace/to_execute_qc_opt_level_3_qiskit.qasm\n",
      "\n",
      "Program to_execute.py executed successfully.\n",
      "New exception message: Operation MidMeasureMP not supported by the QASM serializer\n"
     ]
    },
    {
     "data": {
      "text/html": [
       "<pre style=\"white-space:pre;overflow-x:auto;line-height:normal;font-family:Menlo,'DejaVu Sans Mono',consolas,'Courier New',monospace\"><span style=\"color: #7fbfbf; text-decoration-color: #7fbfbf\">[18:28:58] </span><span style=\"color: #008000; text-decoration-color: #008000\">Minimized file saved as:</span>                                                        <a href=\"file:///home/paltenmo/projects/crossplatform/analysis_and_reporting/ddmin_target_file.py\" target=\"_blank\"><span style=\"color: #7f7f7f; text-decoration-color: #7f7f7f\">ddmin_target_file.py</span></a><span style=\"color: #7f7f7f; text-decoration-color: #7f7f7f\">:</span><a href=\"file:///home/paltenmo/projects/crossplatform/analysis_and_reporting/ddmin_target_file.py#240\" target=\"_blank\"><span style=\"color: #7f7f7f; text-decoration-color: #7f7f7f\">240</span></a>\n",
       "<span style=\"color: #7fbfbf; text-decoration-color: #7fbfbf\">           </span>..<span style=\"color: #800080; text-decoration-color: #800080\">/reports/v022/2025_01_23__18_27/</span><span style=\"color: #ff00ff; text-decoration-color: #ff00ff\">0001793_697371_afdb2e_error_min.py</span>            <span style=\"color: #7f7f7f; text-decoration-color: #7f7f7f\">                        </span>\n",
       "</pre>\n"
      ],
      "text/plain": [
       "\u001b[2;36m[18:28:58]\u001b[0m\u001b[2;36m \u001b[0m\u001b[32mMinimized file saved as:\u001b[0m                                                        \u001b]8;id=135667;file:///home/paltenmo/projects/crossplatform/analysis_and_reporting/ddmin_target_file.py\u001b\\\u001b[2mddmin_target_file.py\u001b[0m\u001b]8;;\u001b\\\u001b[2m:\u001b[0m\u001b]8;id=217667;file:///home/paltenmo/projects/crossplatform/analysis_and_reporting/ddmin_target_file.py#240\u001b\\\u001b[2m240\u001b[0m\u001b]8;;\u001b\\\n",
       "\u001b[2;36m           \u001b[0m..\u001b[35m/reports/v022/2025_01_23__18_27/\u001b[0m\u001b[95m0001793_697371_afdb2e_error_min.py\u001b[0m            \u001b[2m                        \u001b[0m\n"
      ]
     },
     "metadata": {},
     "output_type": "display_data"
    },
    {
     "name": "stdout",
     "output_type": "stream",
     "text": [
      "Output: Log has been saved to /workspace/0001793_697371_afdb2e_error_min_7989d9_error.json\n",
      "Log has been saved to /workspace/0001793_697371_afdb2e_error_min_14928b_error.json\n",
      "Saved Optimized Qiskit circuit (optimization level 0) to /workspace/0001793_697371_afdb2e_error_min_qc_opt_level_0_qiskit.qasm\n",
      "Saved Optimized Qiskit circuit (optimization level 1) to /workspace/0001793_697371_afdb2e_error_min_qc_opt_level_1_qiskit.qasm\n",
      "Saved Optimized Qiskit circuit (optimization level 2) to /workspace/0001793_697371_afdb2e_error_min_qc_opt_level_2_qiskit.qasm\n",
      "Saved Optimized Qiskit circuit (optimization level 3) to /workspace/0001793_697371_afdb2e_error_min_qc_opt_level_3_qiskit.qasm\n",
      "\n"
     ]
    },
    {
     "data": {
      "text/html": [
       "<pre style=\"white-space:pre;overflow-x:auto;line-height:normal;font-family:Menlo,'DejaVu Sans Mono',consolas,'Courier New',monospace\"><span style=\"color: #7fbfbf; text-decoration-color: #7fbfbf\">[18:29:04] </span>Program 0001793_697371_afdb2e_error_min.py executed successfully.                   <a href=\"file:///home/paltenmo/projects/crossplatform/generators/docker_tooling.py\" target=\"_blank\"><span style=\"color: #7f7f7f; text-decoration-color: #7f7f7f\">docker_tooling.py</span></a><span style=\"color: #7f7f7f; text-decoration-color: #7f7f7f\">:</span><a href=\"file:///home/paltenmo/projects/crossplatform/generators/docker_tooling.py#49\" target=\"_blank\"><span style=\"color: #7f7f7f; text-decoration-color: #7f7f7f\">49</span></a>\n",
       "</pre>\n"
      ],
      "text/plain": [
       "\u001b[2;36m[18:29:04]\u001b[0m\u001b[2;36m \u001b[0mProgram 0001793_697371_afdb2e_error_min.py executed successfully.                   \u001b]8;id=953931;file:///home/paltenmo/projects/crossplatform/generators/docker_tooling.py\u001b\\\u001b[2mdocker_tooling.py\u001b[0m\u001b]8;;\u001b\\\u001b[2m:\u001b[0m\u001b]8;id=48807;file:///home/paltenmo/projects/crossplatform/generators/docker_tooling.py#49\u001b\\\u001b[2m49\u001b[0m\u001b]8;;\u001b\\\n"
      ]
     },
     "metadata": {},
     "output_type": "display_data"
    }
   ],
   "source": [
    "from analysis_and_reporting.triage import analyze_and_report\n",
    "\n",
    "# Extract the error paths from the relevant list\n",
    "error_paths_in_sample_folder = [\n",
    "    os.path.join(DIR_SAMPLE_ERRORS, error_file)\n",
    "    for error_file, clue in relevant_error_files_with_message\n",
    "]\n",
    "\n",
    "n_error_files = len(error_paths_in_sample_folder)\n",
    "print(f\"Error paths in sample folder ({n_error_files}):\")\n",
    "for error_path in error_paths_in_sample_folder:\n",
    "    print(error_path)\n",
    "\n",
    "\n",
    "# Analyze and report for each relevant error file\n",
    "for error_path, clue_message in relevant_error_files_with_message:\n",
    "    try:\n",
    "        analyze_and_report(\n",
    "            path_error_json=os.path.join(DIR_SAMPLE_ERRORS, error_path),\n",
    "            path_program=get_corresponding_program_file(\n",
    "                os.path.join(DIR_SAMPLE_ERRORS, error_path)),\n",
    "            parent_report_folder=os.path.join(\"..\", \"reports\", \"v022\"),\n",
    "            clue_message=clue_message,\n",
    "            analysis_notebook='010_Triage_Not_Equivalence.ipynb')\n",
    "    except Exception as e:\n",
    "        print(f\"Error: {e}\")\n",
    "        print(\"Skipping to the next error file\")"
   ]
  },
  {
   "cell_type": "code",
   "execution_count": 21,
   "metadata": {},
   "outputs": [
    {
     "name": "stdout",
     "output_type": "stream",
     "text": [
      "../program_bank/v009/2024_11_20__13_42__qiskit/qiskit_circuit_5q_10g_2382_eaac27_73fae5_error.json\n",
      "{\n",
      "    \"exception_message\": \"Underlying operation of classic-controlled operation is not a StandardOperation.\\n   |\\u001b[0m   |\\u001b[0m   |\\u001b[0m   |\\u001b[0m   |\\u001b[0m   |\\u001b[0m  c[0] == 1\",\n",
      "    \"stack_trace\": \"Traceback (most recent call last):\\n  File \\\"/workspace/qiskit_circuit_5q_10g_2382_eaac27.py\\\", line 566, in <module>\\n    compare_call(a_file, b_file)\\n  File \\\"/workspace/qiskit_circuit_5q_10g_2382_eaac27.py\\\", line 503, in compare_qasm_via_qcec\\n    result = qcec.verify(\\n  File \\\"/usr/local/lib/python3.10/site-packages/mqt/qcec/verify.py\\\", line 56, in verify\\n    ecm = EquivalenceCheckingManager(circ1, circ2, configuration)\\nValueError: Underlying operation of classic-controlled operation is not a StandardOperation.\\n   |\\u001b[0m   |\\u001b[0m   |\\u001b[0m   |\\u001b[0m   |\\u001b[0m   |\\u001b[0m  c[0] == 1\\n\",\n",
      "    \"current_file\": \"qiskit_circuit_5q_10g_2382_eaac27.py\",\n",
      "    \"involved_functions\": [\n",
      "        \"compare_qasm_via_qcec\",\n",
      "        \"export_to_qasm_with_pytket\",\n",
      "        \"export_to_qasm_with_qiskit\"\n",
      "    ]\n",
      "}\n"
     ]
    }
   ],
   "source": [
    "file_name = \"qiskit_circuit_5q_10g_2382_eaac27_73fae5_error.json\"\n",
    "# file_name = \"qiskit_circuit_5q_10g_2382_eaac27.py\"\n",
    "file_path = os.path.join(DIR_PROGRAM_BANK, file_name)\n",
    "print(file_path)\n",
    "\n",
    "with open(file_path, 'r') as file:\n",
    "    file_content = file.read()\n",
    "\n",
    "print(file_content)"
   ]
  },
  {
   "cell_type": "markdown",
   "metadata": {},
   "source": [
    "# Manual Analyze and Report"
   ]
  },
  {
   "cell_type": "code",
   "execution_count": 2,
   "metadata": {},
   "outputs": [],
   "source": [
    "%load_ext autoreload\n",
    "%autoreload 2"
   ]
  },
  {
   "cell_type": "code",
   "execution_count": 3,
   "metadata": {},
   "outputs": [
    {
     "data": {
      "text/html": [
       "<pre style=\"white-space:pre;overflow-x:auto;line-height:normal;font-family:Menlo,'DejaVu Sans Mono',consolas,'Courier New',monospace\"><span style=\"color: #7fbfbf; text-decoration-color: #7fbfbf\">[14:48:00] </span>Created report folder: ..<span style=\"color: #800080; text-decoration-color: #800080\">/reports/v012/</span><span style=\"color: #ff00ff; text-decoration-color: #ff00ff\">2024_12_18__14_48</span>                                   <a href=\"file:///home/paltenmo/projects/crossplatform/analysis_and_reporting/triage.py\" target=\"_blank\"><span style=\"color: #7f7f7f; text-decoration-color: #7f7f7f\">triage.py</span></a><span style=\"color: #7f7f7f; text-decoration-color: #7f7f7f\">:</span><a href=\"file:///home/paltenmo/projects/crossplatform/analysis_and_reporting/triage.py#132\" target=\"_blank\"><span style=\"color: #7f7f7f; text-decoration-color: #7f7f7f\">132</span></a>\n",
       "</pre>\n"
      ],
      "text/plain": [
       "\u001b[2;36m[14:48:00]\u001b[0m\u001b[2;36m \u001b[0mCreated report folder: ..\u001b[35m/reports/v012/\u001b[0m\u001b[95m2024_12_18__14_48\u001b[0m                                   \u001b]8;id=733887;file:///home/paltenmo/projects/crossplatform/analysis_and_reporting/triage.py\u001b\\\u001b[2mtriage.py\u001b[0m\u001b]8;;\u001b\\\u001b[2m:\u001b[0m\u001b]8;id=154665;file:///home/paltenmo/projects/crossplatform/analysis_and_reporting/triage.py#132\u001b\\\u001b[2m132\u001b[0m\u001b]8;;\u001b\\\n"
      ]
     },
     "metadata": {},
     "output_type": "display_data"
    },
    {
     "data": {
      "text/html": [
       "<pre style=\"white-space:pre;overflow-x:auto;line-height:normal;font-family:Menlo,'DejaVu Sans Mono',consolas,'Courier New',monospace\"><span style=\"color: #7fbfbf; text-decoration-color: #7fbfbf\">           </span>Copied files to: ..<span style=\"color: #800080; text-decoration-color: #800080\">/reports/v012/</span><span style=\"color: #ff00ff; text-decoration-color: #ff00ff\">2024_12_18__14_48</span>                                         <a href=\"file:///home/paltenmo/projects/crossplatform/analysis_and_reporting/triage.py\" target=\"_blank\"><span style=\"color: #7f7f7f; text-decoration-color: #7f7f7f\">triage.py</span></a><span style=\"color: #7f7f7f; text-decoration-color: #7f7f7f\">:</span><a href=\"file:///home/paltenmo/projects/crossplatform/analysis_and_reporting/triage.py#141\" target=\"_blank\"><span style=\"color: #7f7f7f; text-decoration-color: #7f7f7f\">141</span></a>\n",
       "</pre>\n"
      ],
      "text/plain": [
       "\u001b[2;36m          \u001b[0m\u001b[2;36m \u001b[0mCopied files to: ..\u001b[35m/reports/v012/\u001b[0m\u001b[95m2024_12_18__14_48\u001b[0m                                         \u001b]8;id=451624;file:///home/paltenmo/projects/crossplatform/analysis_and_reporting/triage.py\u001b\\\u001b[2mtriage.py\u001b[0m\u001b]8;;\u001b\\\u001b[2m:\u001b[0m\u001b]8;id=273129;file:///home/paltenmo/projects/crossplatform/analysis_and_reporting/triage.py#141\u001b\\\u001b[2m141\u001b[0m\u001b]8;;\u001b\\\n"
      ]
     },
     "metadata": {},
     "output_type": "display_data"
    },
    {
     "data": {
      "text/html": [
       "<pre style=\"white-space:pre;overflow-x:auto;line-height:normal;font-family:Menlo,'DejaVu Sans Mono',consolas,'Courier New',monospace\"><span style=\"color: #7fbfbf; text-decoration-color: #7fbfbf\">[14:48:00] </span>Involved functions:                                                             <a href=\"file:///home/paltenmo/projects/crossplatform/analysis_and_reporting/ddmin_target_file.py\" target=\"_blank\"><span style=\"color: #7f7f7f; text-decoration-color: #7f7f7f\">ddmin_target_file.py</span></a><span style=\"color: #7f7f7f; text-decoration-color: #7f7f7f\">:</span><a href=\"file:///home/paltenmo/projects/crossplatform/analysis_and_reporting/ddmin_target_file.py#206\" target=\"_blank\"><span style=\"color: #7f7f7f; text-decoration-color: #7f7f7f\">206</span></a>\n",
       "</pre>\n"
      ],
      "text/plain": [
       "\u001b[2;36m[14:48:00]\u001b[0m\u001b[2;36m \u001b[0mInvolved functions:                                                             \u001b]8;id=615598;file:///home/paltenmo/projects/crossplatform/analysis_and_reporting/ddmin_target_file.py\u001b\\\u001b[2mddmin_target_file.py\u001b[0m\u001b]8;;\u001b\\\u001b[2m:\u001b[0m\u001b]8;id=66817;file:///home/paltenmo/projects/crossplatform/analysis_and_reporting/ddmin_target_file.py#206\u001b\\\u001b[2m206\u001b[0m\u001b]8;;\u001b\\\n"
      ]
     },
     "metadata": {},
     "output_type": "display_data"
    },
    {
     "data": {
      "text/html": [
       "<pre style=\"white-space:pre;overflow-x:auto;line-height:normal;font-family:Menlo,'DejaVu Sans Mono',consolas,'Courier New',monospace\"><span style=\"color: #7fbfbf; text-decoration-color: #7fbfbf\">           </span>  - compare_qasm_via_qcec                                                       <a href=\"file:///home/paltenmo/projects/crossplatform/analysis_and_reporting/ddmin_target_file.py\" target=\"_blank\"><span style=\"color: #7f7f7f; text-decoration-color: #7f7f7f\">ddmin_target_file.py</span></a><span style=\"color: #7f7f7f; text-decoration-color: #7f7f7f\">:</span><a href=\"file:///home/paltenmo/projects/crossplatform/analysis_and_reporting/ddmin_target_file.py#208\" target=\"_blank\"><span style=\"color: #7f7f7f; text-decoration-color: #7f7f7f\">208</span></a>\n",
       "</pre>\n"
      ],
      "text/plain": [
       "\u001b[2;36m          \u001b[0m\u001b[2;36m \u001b[0m  - compare_qasm_via_qcec                                                       \u001b]8;id=543724;file:///home/paltenmo/projects/crossplatform/analysis_and_reporting/ddmin_target_file.py\u001b\\\u001b[2mddmin_target_file.py\u001b[0m\u001b]8;;\u001b\\\u001b[2m:\u001b[0m\u001b]8;id=825193;file:///home/paltenmo/projects/crossplatform/analysis_and_reporting/ddmin_target_file.py#208\u001b\\\u001b[2m208\u001b[0m\u001b]8;;\u001b\\\n"
      ]
     },
     "metadata": {},
     "output_type": "display_data"
    },
    {
     "data": {
      "text/html": [
       "<pre style=\"white-space:pre;overflow-x:auto;line-height:normal;font-family:Menlo,'DejaVu Sans Mono',consolas,'Courier New',monospace\"><span style=\"color: #7fbfbf; text-decoration-color: #7fbfbf\">           </span>  - export_to_qasm_with_pytket                                                  <a href=\"file:///home/paltenmo/projects/crossplatform/analysis_and_reporting/ddmin_target_file.py\" target=\"_blank\"><span style=\"color: #7f7f7f; text-decoration-color: #7f7f7f\">ddmin_target_file.py</span></a><span style=\"color: #7f7f7f; text-decoration-color: #7f7f7f\">:</span><a href=\"file:///home/paltenmo/projects/crossplatform/analysis_and_reporting/ddmin_target_file.py#208\" target=\"_blank\"><span style=\"color: #7f7f7f; text-decoration-color: #7f7f7f\">208</span></a>\n",
       "</pre>\n"
      ],
      "text/plain": [
       "\u001b[2;36m          \u001b[0m\u001b[2;36m \u001b[0m  - export_to_qasm_with_pytket                                                  \u001b]8;id=543021;file:///home/paltenmo/projects/crossplatform/analysis_and_reporting/ddmin_target_file.py\u001b\\\u001b[2mddmin_target_file.py\u001b[0m\u001b]8;;\u001b\\\u001b[2m:\u001b[0m\u001b]8;id=863224;file:///home/paltenmo/projects/crossplatform/analysis_and_reporting/ddmin_target_file.py#208\u001b\\\u001b[2m208\u001b[0m\u001b]8;;\u001b\\\n"
      ]
     },
     "metadata": {},
     "output_type": "display_data"
    },
    {
     "data": {
      "text/html": [
       "<pre style=\"white-space:pre;overflow-x:auto;line-height:normal;font-family:Menlo,'DejaVu Sans Mono',consolas,'Courier New',monospace\"><span style=\"color: #7fbfbf; text-decoration-color: #7fbfbf\">           </span>  - export_to_qasm_with_qiskit                                                  <a href=\"file:///home/paltenmo/projects/crossplatform/analysis_and_reporting/ddmin_target_file.py\" target=\"_blank\"><span style=\"color: #7f7f7f; text-decoration-color: #7f7f7f\">ddmin_target_file.py</span></a><span style=\"color: #7f7f7f; text-decoration-color: #7f7f7f\">:</span><a href=\"file:///home/paltenmo/projects/crossplatform/analysis_and_reporting/ddmin_target_file.py#208\" target=\"_blank\"><span style=\"color: #7f7f7f; text-decoration-color: #7f7f7f\">208</span></a>\n",
       "</pre>\n"
      ],
      "text/plain": [
       "\u001b[2;36m          \u001b[0m\u001b[2;36m \u001b[0m  - export_to_qasm_with_qiskit                                                  \u001b]8;id=840010;file:///home/paltenmo/projects/crossplatform/analysis_and_reporting/ddmin_target_file.py\u001b\\\u001b[2mddmin_target_file.py\u001b[0m\u001b]8;;\u001b\\\u001b[2m:\u001b[0m\u001b]8;id=232867;file:///home/paltenmo/projects/crossplatform/analysis_and_reporting/ddmin_target_file.py#208\u001b\\\u001b[2m208\u001b[0m\u001b]8;;\u001b\\\n"
      ]
     },
     "metadata": {},
     "output_type": "display_data"
    },
    {
     "name": "stdout",
     "output_type": "stream",
     "text": [
      "Error parsing: Command 'python /workspace/to_execute.py' in image 'qiskit_runner' returned non-zero exit status 1: b'Traceback (most recent call last):\\n  File \"/workspace/to_execute.py\", line 37, in <module>\\n    print(qc.draw())\\nNameError: name \\'qc\\' is not defined\\n'\n",
      "Failed to execute to_execute.py in Docker.\n",
      "Output: cannot import name 'execution' from 'qiskit' (/usr/local/lib/python3.10/site-packages/qiskit/__init__.py)\n",
      "            ┌───┐                                                         »\n",
      "q_0: ───────┤ S ├───────────────────────■──────────────────■──────────────»\n",
      "            ├───┤                       │   ┌────────────┐ │ ┌───────────┐»\n",
      "q_1: ───────┤ Z ├───────────────────────■───┤ U1(6.2384) ├─┼─┤ P(4.1109) ├»\n",
      "          ┌─┴───┴──┐     ┌───────────┐  │   └────────────┘ │ └───────────┘»\n",
      "q_2: ─────┤1       ├─────┤ P(5.6485) ├──┼──────────────────┼──────────────»\n",
      "          │  Iswap │     └───────────┘┌─┴──┐               │              »\n",
      "q_3: ─────┤0       ├──────────────────┤ Sx ├───────────────X──────────────»\n",
      "     ┌────┴────────┴────┐             └─┬──┘               │              »\n",
      "q_4: ┤ R(5.3963,6.0934) ├───────────────■──────────────────X──────────────»\n",
      "     └──────────────────┘                                                 »\n",
      "«           ┌────┐\n",
      "«q_0: ──■───┤ Sx ├\n",
      "«       │   └─┬──┘\n",
      "«q_1: ──┼─────■───\n",
      "«       │     │   \n",
      "«q_2: ──■─────■───\n",
      "«       │     │   \n",
      "«q_3: ──■─────■───\n",
      "«     ┌─┴──┐┌───┐ \n",
      "«q_4: ┤ Sx ├┤ T ├─\n",
      "«     └────┘└───┘ \n",
      "Saved the Pytket circuit to /workspace/to_execute_qc_pytket.qasm\n",
      "Saved the Qiskit circuit to /workspace/to_execute_qc_qiskit.qasm\n",
      "Exported QASM files: [('/workspace/to_execute_qc_pytket.qasm', 'export_to_qasm_with_pytket'), ('/workspace/to_execute_qc_qiskit.qasm', 'export_to_qasm_with_qiskit')]\n",
      "Log has been saved to /workspace/to_execute_c1d5c8_error.json\n",
      "Saved the Pytket circuit to /workspace/to_execute_random_qc_pytket.qasm\n",
      "Saved the Qiskit circuit to /workspace/to_execute_random_qc_qiskit.qasm\n",
      "Exported QASM files: [('/workspace/to_execute_random_qc_pytket.qasm', 'export_to_qasm_with_pytket'), ('/workspace/to_execute_random_qc_qiskit.qasm', 'export_to_qasm_with_qiskit')]\n",
      "Log has been saved to /workspace/to_execute_0d6cf4_error.json\n",
      "\n",
      "Program to_execute.py executed successfully.\n",
      "New exception message: The circuits are not equivalent: /workspace/to_execute_qc_pytket.qasm, /workspace/to_execute_qc_qiskit.qasm\n",
      "Error parsing: Command 'python /workspace/to_execute.py' in image 'qiskit_runner' returned non-zero exit status 1: b'Traceback (most recent call last):\\n  File \"/workspace/to_execute.py\", line 37, in <module>\\n    qc = qc.compose(random_qc)\\nNameError: name \\'qc\\' is not defined\\n'\n",
      "Failed to execute to_execute.py in Docker.\n",
      "Output: cannot import name 'execution' from 'qiskit' (/usr/local/lib/python3.10/site-packages/qiskit/__init__.py)\n",
      "     \n",
      "q_0: \n",
      "     \n",
      "q_1: \n",
      "     \n",
      "q_2: \n",
      "     \n",
      "q_3: \n",
      "     \n",
      "q_4: \n",
      "     \n",
      "Saved the Pytket circuit to /workspace/to_execute_qc_pytket.qasm\n",
      "Saved the Qiskit circuit to /workspace/to_execute_qc_qiskit.qasm\n",
      "Exported QASM files: [('/workspace/to_execute_qc_pytket.qasm', 'export_to_qasm_with_pytket'), ('/workspace/to_execute_qc_qiskit.qasm', 'export_to_qasm_with_qiskit')]\n",
      "The circuits are equivalent: /workspace/to_execute_qc_pytket.qasm, /workspace/to_execute_qc_qiskit.qasm\n",
      "Saved the Pytket circuit to /workspace/to_execute_random_qc_pytket.qasm\n",
      "Saved the Qiskit circuit to /workspace/to_execute_random_qc_qiskit.qasm\n",
      "Exported QASM files: [('/workspace/to_execute_random_qc_pytket.qasm', 'export_to_qasm_with_pytket'), ('/workspace/to_execute_random_qc_qiskit.qasm', 'export_to_qasm_with_qiskit')]\n",
      "Log has been saved to /workspace/to_execute_2758da_error.json\n",
      "\n",
      "Program to_execute.py executed successfully.\n",
      "New exception message: The circuits are not equivalent: /workspace/to_execute_random_qc_pytket.qasm, /workspace/to_execute_random_qc_qiskit.qasm\n",
      "Error parsing: Command 'python /workspace/to_execute.py' in image 'qiskit_runner' returned non-zero exit status 1: b'Traceback (most recent call last):\\n  File \"/workspace/to_execute.py\", line 38, in <module>\\n    print(qc.draw())\\nNameError: name \\'qc\\' is not defined\\n'\n",
      "Failed to execute to_execute.py in Docker.\n",
      "Output: cannot import name 'execution' from 'qiskit' (/usr/local/lib/python3.10/site-packages/qiskit/__init__.py)\n",
      "     \n",
      "q_0: \n",
      "     \n",
      "q_1: \n",
      "     \n",
      "q_2: \n",
      "     \n",
      "q_3: \n",
      "     \n",
      "q_4: \n",
      "     \n",
      "Saved the Pytket circuit to /workspace/to_execute_qc_pytket.qasm\n",
      "Saved the Qiskit circuit to /workspace/to_execute_qc_qiskit.qasm\n",
      "Exported QASM files: [('/workspace/to_execute_qc_pytket.qasm', 'export_to_qasm_with_pytket'), ('/workspace/to_execute_qc_qiskit.qasm', 'export_to_qasm_with_qiskit')]\n",
      "The circuits are equivalent: /workspace/to_execute_qc_pytket.qasm, /workspace/to_execute_qc_qiskit.qasm\n",
      "\n",
      "Program to_execute.py executed successfully.\n"
     ]
    },
    {
     "data": {
      "text/html": [
       "<pre style=\"white-space:pre;overflow-x:auto;line-height:normal;font-family:Menlo,'DejaVu Sans Mono',consolas,'Courier New',monospace\"><span style=\"color: #7fbfbf; text-decoration-color: #7fbfbf\">[14:48:16] </span><span style=\"color: #008000; text-decoration-color: #008000\">Minimized file saved as:</span>                                                        <a href=\"file:///home/paltenmo/projects/crossplatform/analysis_and_reporting/ddmin_target_file.py\" target=\"_blank\"><span style=\"color: #7f7f7f; text-decoration-color: #7f7f7f\">ddmin_target_file.py</span></a><span style=\"color: #7f7f7f; text-decoration-color: #7f7f7f\">:</span><a href=\"file:///home/paltenmo/projects/crossplatform/analysis_and_reporting/ddmin_target_file.py#240\" target=\"_blank\"><span style=\"color: #7f7f7f; text-decoration-color: #7f7f7f\">240</span></a>\n",
       "<span style=\"color: #7fbfbf; text-decoration-color: #7fbfbf\">           </span>..<span style=\"color: #800080; text-decoration-color: #800080\">/reports/v012/2024_12_18__14_48/</span><span style=\"color: #ff00ff; text-decoration-color: #ff00ff\">qiskit_circuit_5q_10g_7553_24d42f_76b26a_erro</span> <span style=\"color: #7f7f7f; text-decoration-color: #7f7f7f\">                        </span>\n",
       "<span style=\"color: #7fbfbf; text-decoration-color: #7fbfbf\">           </span><span style=\"color: #ff00ff; text-decoration-color: #ff00ff\">r_min.py</span>                                                                        <span style=\"color: #7f7f7f; text-decoration-color: #7f7f7f\">                        </span>\n",
       "</pre>\n"
      ],
      "text/plain": [
       "\u001b[2;36m[14:48:16]\u001b[0m\u001b[2;36m \u001b[0m\u001b[32mMinimized file saved as:\u001b[0m                                                        \u001b]8;id=652390;file:///home/paltenmo/projects/crossplatform/analysis_and_reporting/ddmin_target_file.py\u001b\\\u001b[2mddmin_target_file.py\u001b[0m\u001b]8;;\u001b\\\u001b[2m:\u001b[0m\u001b]8;id=187383;file:///home/paltenmo/projects/crossplatform/analysis_and_reporting/ddmin_target_file.py#240\u001b\\\u001b[2m240\u001b[0m\u001b]8;;\u001b\\\n",
       "\u001b[2;36m           \u001b[0m..\u001b[35m/reports/v012/2024_12_18__14_48/\u001b[0m\u001b[95mqiskit_circuit_5q_10g_7553_24d42f_76b26a_erro\u001b[0m \u001b[2m                        \u001b[0m\n",
       "\u001b[2;36m           \u001b[0m\u001b[95mr_min.py\u001b[0m                                                                        \u001b[2m                        \u001b[0m\n"
      ]
     },
     "metadata": {},
     "output_type": "display_data"
    },
    {
     "name": "stdout",
     "output_type": "stream",
     "text": [
      "Output: cannot import name 'execution' from 'qiskit' (/usr/local/lib/python3.10/site-packages/qiskit/__init__.py)\n",
      "     \n",
      "q_0: \n",
      "     \n",
      "q_1: \n",
      "     \n",
      "q_2: \n",
      "     \n",
      "q_3: \n",
      "     \n",
      "q_4: \n",
      "     \n",
      "Saved the Pytket circuit to /workspace/qiskit_circuit_5q_10g_7553_24d42f_76b26a_error_min_qc_pytket.qasm\n",
      "Saved the Qiskit circuit to /workspace/qiskit_circuit_5q_10g_7553_24d42f_76b26a_error_min_qc_qiskit.qasm\n",
      "Exported QASM files: [('/workspace/qiskit_circuit_5q_10g_7553_24d42f_76b26a_error_min_qc_pytket.qasm', 'export_to_qasm_with_pytket'), ('/workspace/qiskit_circuit_5q_10g_7553_24d42f_76b26a_error_min_qc_qiskit.qasm', 'export_to_qasm_with_qiskit')]\n",
      "The circuits are equivalent: /workspace/qiskit_circuit_5q_10g_7553_24d42f_76b26a_error_min_qc_pytket.qasm, /workspace/qiskit_circuit_5q_10g_7553_24d42f_76b26a_error_min_qc_qiskit.qasm\n",
      "Saved the Pytket circuit to /workspace/qiskit_circuit_5q_10g_7553_24d42f_76b26a_error_min_random_qc_pytket.qasm\n",
      "Saved the Qiskit circuit to /workspace/qiskit_circuit_5q_10g_7553_24d42f_76b26a_error_min_random_qc_qiskit.qasm\n",
      "Exported QASM files: [('/workspace/qiskit_circuit_5q_10g_7553_24d42f_76b26a_error_min_random_qc_pytket.qasm', 'export_to_qasm_with_pytket'), ('/workspace/qiskit_circuit_5q_10g_7553_24d42f_76b26a_error_min_random_qc_qiskit.qasm', 'export_to_qasm_with_qiskit')]\n",
      "Log has been saved to /workspace/qiskit_circuit_5q_10g_7553_24d42f_76b26a_error_min_c7c48a_error.json\n",
      "\n"
     ]
    },
    {
     "data": {
      "text/html": [
       "<pre style=\"white-space:pre;overflow-x:auto;line-height:normal;font-family:Menlo,'DejaVu Sans Mono',consolas,'Courier New',monospace\"><span style=\"color: #7fbfbf; text-decoration-color: #7fbfbf\">[14:48:19] </span>Program qiskit_circuit_5q_10g_7553_24d42f_76b26a_error_min.py executed              <a href=\"file:///home/paltenmo/projects/crossplatform/generators/docker_tooling.py\" target=\"_blank\"><span style=\"color: #7f7f7f; text-decoration-color: #7f7f7f\">docker_tooling.py</span></a><span style=\"color: #7f7f7f; text-decoration-color: #7f7f7f\">:</span><a href=\"file:///home/paltenmo/projects/crossplatform/generators/docker_tooling.py#47\" target=\"_blank\"><span style=\"color: #7f7f7f; text-decoration-color: #7f7f7f\">47</span></a>\n",
       "<span style=\"color: #7fbfbf; text-decoration-color: #7fbfbf\">           </span>successfully.                                                                       <span style=\"color: #7f7f7f; text-decoration-color: #7f7f7f\">                    </span>\n",
       "</pre>\n"
      ],
      "text/plain": [
       "\u001b[2;36m[14:48:19]\u001b[0m\u001b[2;36m \u001b[0mProgram qiskit_circuit_5q_10g_7553_24d42f_76b26a_error_min.py executed              \u001b]8;id=786228;file:///home/paltenmo/projects/crossplatform/generators/docker_tooling.py\u001b\\\u001b[2mdocker_tooling.py\u001b[0m\u001b]8;;\u001b\\\u001b[2m:\u001b[0m\u001b]8;id=522904;file:///home/paltenmo/projects/crossplatform/generators/docker_tooling.py#47\u001b\\\u001b[2m47\u001b[0m\u001b]8;;\u001b\\\n",
       "\u001b[2;36m           \u001b[0msuccessfully.                                                                       \u001b[2m                    \u001b[0m\n"
      ]
     },
     "metadata": {},
     "output_type": "display_data"
    },
    {
     "data": {
      "text/html": [
       "<pre style=\"white-space:pre;overflow-x:auto;line-height:normal;font-family:Menlo,'DejaVu Sans Mono',consolas,'Courier New',monospace\"><span style=\"color: #7fbfbf; text-decoration-color: #7fbfbf\">           </span>QASM pair:                                                                                 <a href=\"file:///home/paltenmo/projects/crossplatform/analysis_and_reporting/triage.py\" target=\"_blank\"><span style=\"color: #7f7f7f; text-decoration-color: #7f7f7f\">triage.py</span></a><span style=\"color: #7f7f7f; text-decoration-color: #7f7f7f\">:</span><a href=\"file:///home/paltenmo/projects/crossplatform/analysis_and_reporting/triage.py#199\" target=\"_blank\"><span style=\"color: #7f7f7f; text-decoration-color: #7f7f7f\">199</span></a>\n",
       "<span style=\"color: #7fbfbf; text-decoration-color: #7fbfbf\">           </span><span style=\"font-weight: bold\">(</span><span style=\"color: #008000; text-decoration-color: #008000\">'../reports/v012/2024_12_18__14_48/qiskit_circuit_5q_10g_7553_24d42f_76b26a_error_min_ran</span> <span style=\"color: #7f7f7f; text-decoration-color: #7f7f7f\">             </span>\n",
       "<span style=\"color: #7fbfbf; text-decoration-color: #7fbfbf\">           </span><span style=\"color: #008000; text-decoration-color: #008000\">dom_qc_pytket.qasm'</span>,                                                                       <span style=\"color: #7f7f7f; text-decoration-color: #7f7f7f\">             </span>\n",
       "<span style=\"color: #7fbfbf; text-decoration-color: #7fbfbf\">           </span><span style=\"color: #008000; text-decoration-color: #008000\">'../reports/v012/2024_12_18__14_48/qiskit_circuit_5q_10g_7553_24d42f_76b26a_error_min_rand</span> <span style=\"color: #7f7f7f; text-decoration-color: #7f7f7f\">             </span>\n",
       "<span style=\"color: #7fbfbf; text-decoration-color: #7fbfbf\">           </span><span style=\"color: #008000; text-decoration-color: #008000\">om_qc_qiskit.qasm'</span><span style=\"font-weight: bold\">)</span>                                                                        <span style=\"color: #7f7f7f; text-decoration-color: #7f7f7f\">             </span>\n",
       "</pre>\n"
      ],
      "text/plain": [
       "\u001b[2;36m          \u001b[0m\u001b[2;36m \u001b[0mQASM pair:                                                                                 \u001b]8;id=470441;file:///home/paltenmo/projects/crossplatform/analysis_and_reporting/triage.py\u001b\\\u001b[2mtriage.py\u001b[0m\u001b]8;;\u001b\\\u001b[2m:\u001b[0m\u001b]8;id=15460;file:///home/paltenmo/projects/crossplatform/analysis_and_reporting/triage.py#199\u001b\\\u001b[2m199\u001b[0m\u001b]8;;\u001b\\\n",
       "\u001b[2;36m           \u001b[0m\u001b[1m(\u001b[0m\u001b[32m'../reports/v012/2024_12_18__14_48/qiskit_circuit_5q_10g_7553_24d42f_76b26a_error_min_ran\u001b[0m \u001b[2m             \u001b[0m\n",
       "\u001b[2;36m           \u001b[0m\u001b[32mdom_qc_pytket.qasm'\u001b[0m,                                                                       \u001b[2m             \u001b[0m\n",
       "\u001b[2;36m           \u001b[0m\u001b[32m'../reports/v012/2024_12_18__14_48/qiskit_circuit_5q_10g_7553_24d42f_76b26a_error_min_rand\u001b[0m \u001b[2m             \u001b[0m\n",
       "\u001b[2;36m           \u001b[0m\u001b[32mom_qc_qiskit.qasm'\u001b[0m\u001b[1m)\u001b[0m                                                                        \u001b[2m             \u001b[0m\n"
      ]
     },
     "metadata": {},
     "output_type": "display_data"
    },
    {
     "data": {
      "application/vnd.jupyter.widget-view+json": {
       "model_id": "c482b59a7dda43918648674ae2accd27",
       "version_major": 2,
       "version_minor": 0
      },
      "text/plain": [
       "Executing:   0%|          | 0/13 [00:00<?, ?cell/s]"
      ]
     },
     "metadata": {},
     "output_type": "display_data"
    },
    {
     "data": {
      "text/html": [
       "<pre style=\"white-space:pre;overflow-x:auto;line-height:normal;font-family:Menlo,'DejaVu Sans Mono',consolas,'Courier New',monospace\"><span style=\"color: #7fbfbf; text-decoration-color: #7fbfbf\">[14:48:21] </span>Analysis notebook executed:                                                                <a href=\"file:///home/paltenmo/projects/crossplatform/analysis_and_reporting/triage.py\" target=\"_blank\"><span style=\"color: #7f7f7f; text-decoration-color: #7f7f7f\">triage.py</span></a><span style=\"color: #7f7f7f; text-decoration-color: #7f7f7f\">:</span><a href=\"file:///home/paltenmo/projects/crossplatform/analysis_and_reporting/triage.py#216\" target=\"_blank\"><span style=\"color: #7f7f7f; text-decoration-color: #7f7f7f\">216</span></a>\n",
       "<span style=\"color: #7fbfbf; text-decoration-color: #7fbfbf\">           </span>..<span style=\"color: #800080; text-decoration-color: #800080\">/reports/v012/2024_12_18__14_48/</span><span style=\"color: #ff00ff; text-decoration-color: #ff00ff\">analysis_output_random_qc.ipynb</span>                          <span style=\"color: #7f7f7f; text-decoration-color: #7f7f7f\">             </span>\n",
       "</pre>\n"
      ],
      "text/plain": [
       "\u001b[2;36m[14:48:21]\u001b[0m\u001b[2;36m \u001b[0mAnalysis notebook executed:                                                                \u001b]8;id=163938;file:///home/paltenmo/projects/crossplatform/analysis_and_reporting/triage.py\u001b\\\u001b[2mtriage.py\u001b[0m\u001b]8;;\u001b\\\u001b[2m:\u001b[0m\u001b]8;id=937492;file:///home/paltenmo/projects/crossplatform/analysis_and_reporting/triage.py#216\u001b\\\u001b[2m216\u001b[0m\u001b]8;;\u001b\\\n",
       "\u001b[2;36m           \u001b[0m..\u001b[35m/reports/v012/2024_12_18__14_48/\u001b[0m\u001b[95manalysis_output_random_qc.ipynb\u001b[0m                          \u001b[2m             \u001b[0m\n"
      ]
     },
     "metadata": {},
     "output_type": "display_data"
    },
    {
     "data": {
      "text/html": [
       "<pre style=\"white-space:pre;overflow-x:auto;line-height:normal;font-family:Menlo,'DejaVu Sans Mono',consolas,'Courier New',monospace\"><span style=\"color: #7fbfbf; text-decoration-color: #7fbfbf\">           </span>QASM pair:                                                                                 <a href=\"file:///home/paltenmo/projects/crossplatform/analysis_and_reporting/triage.py\" target=\"_blank\"><span style=\"color: #7f7f7f; text-decoration-color: #7f7f7f\">triage.py</span></a><span style=\"color: #7f7f7f; text-decoration-color: #7f7f7f\">:</span><a href=\"file:///home/paltenmo/projects/crossplatform/analysis_and_reporting/triage.py#199\" target=\"_blank\"><span style=\"color: #7f7f7f; text-decoration-color: #7f7f7f\">199</span></a>\n",
       "<span style=\"color: #7fbfbf; text-decoration-color: #7fbfbf\">           </span><span style=\"font-weight: bold\">(</span><span style=\"color: #008000; text-decoration-color: #008000\">'../reports/v012/2024_12_18__14_48/qiskit_circuit_5q_10g_7553_24d42f_76b26a_error_min_qc_</span> <span style=\"color: #7f7f7f; text-decoration-color: #7f7f7f\">             </span>\n",
       "<span style=\"color: #7fbfbf; text-decoration-color: #7fbfbf\">           </span><span style=\"color: #008000; text-decoration-color: #008000\">qiskit.qasm'</span>,                                                                              <span style=\"color: #7f7f7f; text-decoration-color: #7f7f7f\">             </span>\n",
       "<span style=\"color: #7fbfbf; text-decoration-color: #7fbfbf\">           </span><span style=\"color: #008000; text-decoration-color: #008000\">'../reports/v012/2024_12_18__14_48/qiskit_circuit_5q_10g_7553_24d42f_76b26a_error_min_qc_p</span> <span style=\"color: #7f7f7f; text-decoration-color: #7f7f7f\">             </span>\n",
       "<span style=\"color: #7fbfbf; text-decoration-color: #7fbfbf\">           </span><span style=\"color: #008000; text-decoration-color: #008000\">ytket.qasm'</span><span style=\"font-weight: bold\">)</span>                                                                               <span style=\"color: #7f7f7f; text-decoration-color: #7f7f7f\">             </span>\n",
       "</pre>\n"
      ],
      "text/plain": [
       "\u001b[2;36m          \u001b[0m\u001b[2;36m \u001b[0mQASM pair:                                                                                 \u001b]8;id=268127;file:///home/paltenmo/projects/crossplatform/analysis_and_reporting/triage.py\u001b\\\u001b[2mtriage.py\u001b[0m\u001b]8;;\u001b\\\u001b[2m:\u001b[0m\u001b]8;id=977910;file:///home/paltenmo/projects/crossplatform/analysis_and_reporting/triage.py#199\u001b\\\u001b[2m199\u001b[0m\u001b]8;;\u001b\\\n",
       "\u001b[2;36m           \u001b[0m\u001b[1m(\u001b[0m\u001b[32m'../reports/v012/2024_12_18__14_48/qiskit_circuit_5q_10g_7553_24d42f_76b26a_error_min_qc_\u001b[0m \u001b[2m             \u001b[0m\n",
       "\u001b[2;36m           \u001b[0m\u001b[32mqiskit.qasm'\u001b[0m,                                                                              \u001b[2m             \u001b[0m\n",
       "\u001b[2;36m           \u001b[0m\u001b[32m'../reports/v012/2024_12_18__14_48/qiskit_circuit_5q_10g_7553_24d42f_76b26a_error_min_qc_p\u001b[0m \u001b[2m             \u001b[0m\n",
       "\u001b[2;36m           \u001b[0m\u001b[32mytket.qasm'\u001b[0m\u001b[1m)\u001b[0m                                                                               \u001b[2m             \u001b[0m\n"
      ]
     },
     "metadata": {},
     "output_type": "display_data"
    },
    {
     "data": {
      "application/vnd.jupyter.widget-view+json": {
       "model_id": "2e71e0ee1f1d4b28b1d0da1ddbea34c0",
       "version_major": 2,
       "version_minor": 0
      },
      "text/plain": [
       "Executing:   0%|          | 0/13 [00:00<?, ?cell/s]"
      ]
     },
     "metadata": {},
     "output_type": "display_data"
    },
    {
     "data": {
      "text/html": [
       "<pre style=\"white-space:pre;overflow-x:auto;line-height:normal;font-family:Menlo,'DejaVu Sans Mono',consolas,'Courier New',monospace\"><span style=\"color: #7fbfbf; text-decoration-color: #7fbfbf\">[14:48:23] </span>Analysis notebook executed: ..<span style=\"color: #800080; text-decoration-color: #800080\">/reports/v012/2024_12_18__14_48/</span><span style=\"color: #ff00ff; text-decoration-color: #ff00ff\">analysis_output_qc.ipynb</span>     <a href=\"file:///home/paltenmo/projects/crossplatform/analysis_and_reporting/triage.py\" target=\"_blank\"><span style=\"color: #7f7f7f; text-decoration-color: #7f7f7f\">triage.py</span></a><span style=\"color: #7f7f7f; text-decoration-color: #7f7f7f\">:</span><a href=\"file:///home/paltenmo/projects/crossplatform/analysis_and_reporting/triage.py#216\" target=\"_blank\"><span style=\"color: #7f7f7f; text-decoration-color: #7f7f7f\">216</span></a>\n",
       "</pre>\n"
      ],
      "text/plain": [
       "\u001b[2;36m[14:48:23]\u001b[0m\u001b[2;36m \u001b[0mAnalysis notebook executed: ..\u001b[35m/reports/v012/2024_12_18__14_48/\u001b[0m\u001b[95manalysis_output_qc.ipynb\u001b[0m     \u001b]8;id=256588;file:///home/paltenmo/projects/crossplatform/analysis_and_reporting/triage.py\u001b\\\u001b[2mtriage.py\u001b[0m\u001b]8;;\u001b\\\u001b[2m:\u001b[0m\u001b]8;id=887587;file:///home/paltenmo/projects/crossplatform/analysis_and_reporting/triage.py#216\u001b\\\u001b[2m216\u001b[0m\u001b]8;;\u001b\\\n"
      ]
     },
     "metadata": {},
     "output_type": "display_data"
    }
   ],
   "source": [
    "from analysis_and_reporting.triage import analyze_and_report\n",
    "\n",
    "error_path = os.path.join(\n",
    "    \"..\", \"reports\", \"v012\", \"01\",\n",
    "    \"qiskit_circuit_5q_10g_7553_24d42f_76b26a_error.json\")\n",
    "program_path = os.path.join(\n",
    "    \"..\", \"reports\", \"v012\", \"01\", \"qiskit_circuit_5q_10g_7553_24d42f.py\")\n",
    "\n",
    "analyze_and_report(\n",
    "    path_error_json=error_path,\n",
    "    path_program=program_path,\n",
    "    parent_report_folder=os.path.join(\"..\", \"reports\", \"v012\"),\n",
    "    clue_message=\"not equivalent\",\n",
    "    analysis_notebook='010_Triage_Not_Equivalence.ipynb')"
   ]
  },
  {
   "cell_type": "code",
   "execution_count": null,
   "metadata": {},
   "outputs": [],
   "source": []
  }
 ],
 "metadata": {
  "kernelspec": {
   "display_name": "crosspl",
   "language": "python",
   "name": "python3"
  },
  "language_info": {
   "codemirror_mode": {
    "name": "ipython",
    "version": 3
   },
   "file_extension": ".py",
   "mimetype": "text/x-python",
   "name": "python",
   "nbconvert_exporter": "python",
   "pygments_lexer": "ipython3",
   "version": "3.10.14"
  }
 },
 "nbformat": 4,
 "nbformat_minor": 2
}
