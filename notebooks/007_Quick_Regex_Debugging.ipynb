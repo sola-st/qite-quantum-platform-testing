{
 "cells": [
  {
   "cell_type": "code",
   "execution_count": 2,
   "metadata": {},
   "outputs": [],
   "source": [
    "import re\n",
    "\n",
    "\n",
    "def recognize_error(error_message: str, file_content: str) -> bool:\n",
    "    \"\"\"\n",
    "    Recognize if the error message and file content match the specified patterns.\n",
    "\n",
    "    Args:\n",
    "    error_message (str): The error message to check.\n",
    "    file_content (str): The file content to check.\n",
    "\n",
    "    Returns:\n",
    "    bool: True if the error message and file content match the patterns, False otherwise.\n",
    "    \"\"\"\n",
    "\n",
    "    # Error Message Pattern\n",
    "    error_pattern = r\"^The circuits are not equivalent:.*\"\n",
    "\n",
    "    # File Content Pattern\n",
    "    file_pattern = r\"^qc\\.[a-z]+\\(.*\\)\"\n",
    "\n",
    "    # Check Error Message Pattern\n",
    "    error_match = re.search(error_pattern, error_message, re.MULTILINE)\n",
    "\n",
    "    # Check File Content Pattern\n",
    "    file_lines = file_content.splitlines()\n",
    "    file_matches = [re.search(file_pattern, line) for line in file_lines]\n",
    "\n",
    "    # Return True if both patterns match\n",
    "    return error_match is not None and any(file_matches)"
   ]
  },
  {
   "cell_type": "code",
   "execution_count": 3,
   "metadata": {},
   "outputs": [
    {
     "name": "stdout",
     "output_type": "stream",
     "text": [
      "True\n"
     ]
    }
   ],
   "source": [
    "msg = \"\"\"The circuits are not equivalent: /workspace/qiskit_circuit_32q_10g_3090_49e0ac_qc_pennylane.qasm, /workspace/qiskit_circuit_32q_10g_3090_49e0ac_qc_pytket.qasm\"\"\"\n",
    "\n",
    "content = \"\"\"qc.z(qr[2])\n",
    "qc.mcrx(0.739248, [qr[1]], qr[7])\n",
    "qc.mcrz(5.812074, [qr[29]], qr[11])\n",
    "qc.mcrz(5.415601, [qr[2], qr[7]], qr[28])\n",
    "qc.cu(3.456618, 3.738611, 0.92828, 4.482527, qr[28], qr[12])\n",
    "qc.tdg(qr[9])\n",
    "qc.cx(qr[11], qr[28])\n",
    "qc.csdg(qr[29], qr[13])\n",
    "qc.t(qr[16])\n",
    "qc.ccz(qr[3], qr[28], qr[14])\"\"\"\n",
    "\n",
    "print(recognize_error(msg, content))"
   ]
  },
  {
   "cell_type": "code",
   "execution_count": 5,
   "metadata": {},
   "outputs": [
    {
     "name": "stdout",
     "output_type": "stream",
     "text": [
      "True\n"
     ]
    }
   ],
   "source": [
    "import re\n",
    "\n",
    "\n",
    "def recognize_error(error_message: str, file_content: str) -> bool:\n",
    "    \"\"\"\n",
    "    Recognize if the error message and file content match the pattern.\n",
    "\n",
    "    Args:\n",
    "    error_message (str): The error message.\n",
    "    file_content (str): The file content (not used in this case).\n",
    "\n",
    "    Returns:\n",
    "    bool: True if the error message matches the pattern, False otherwise.\n",
    "    \"\"\"\n",
    "    pattern = r\"Cannot print command of type: PhasedX\\(\\d+\\.\\d+,\\s*\\d\\)\"\n",
    "    match = re.search(pattern, error_message)\n",
    "    return match is not None\n",
    "\n",
    "\n",
    "msg = \"Cannot print command of type: PhasedX(0.5, 0)\"\n",
    "\n",
    "content = \"\"\"qc.cx(qr[30], qr[29])\n",
    "qc.cswap(qr[10], qr[9], qr[4])\n",
    "qc.y(qr[18])\n",
    "qc.iswap(qr[14], qr[16])\n",
    "qc.iswap(qr[21], qr[16])\n",
    "qc.ecr(qr[12], qr[16])\n",
    "qc.cz(qr[25], qr[23])\n",
    "qc.sxdg(qr[17])\n",
    "qc.ryy(0.35179, qr[23], qr[19])\n",
    "qc.tdg(qr[29])\"\"\"\n",
    "\n",
    "print(recognize_error(msg, content))"
   ]
  },
  {
   "cell_type": "markdown",
   "metadata": {},
   "source": [
    "# Error 1: Multiline not correctly supported"
   ]
  },
  {
   "cell_type": "code",
   "execution_count": 11,
   "metadata": {},
   "outputs": [
    {
     "name": "stdout",
     "output_type": "stream",
     "text": [
      "False\n"
     ]
    }
   ],
   "source": [
    "import re\n",
    "\n",
    "\n",
    "def recognize_error(error_message: str, file_content: str) -> bool:\n",
    "    \"\"\"\n",
    "    Recognizes the error pattern in the given error message and file content.\n",
    "\n",
    "    Args:\n",
    "    error_message (str): The error message to match.\n",
    "    file_content (str): The file content to match (not used in this implementation).\n",
    "\n",
    "    Returns:\n",
    "    bool: True if the error pattern is matched, False otherwise.\n",
    "    \"\"\"\n",
    "    # Define the regex pattern for the error message\n",
    "    error_pattern = r\"^Could not import second circuit: .*:\\d+:\\d+: Expected .*\"\n",
    "\n",
    "    # Use re.MULTILINE flag to allow the regex pattern to match multiline strings\n",
    "    return bool(re.match(error_pattern, error_message, re.MULTILINE))\n",
    "\n",
    "\n",
    "msg = \"\"\"Could not import second circuit: <input>:3:6:\n",
    "Expected 'Identifier', got 'ms'. \"\"\"\n",
    "content = \"\"\"qc.mcx([qr[10], qr[22]], qr[23])\n",
    "qc.ms(6.090406, [qr[26], qr[27]])\n",
    "qc.t(qr[24])\n",
    "qc.ecr(qr[1], qr[12])\n",
    "qc.rxx(4.959506, qr[22], qr[5])\n",
    "qc.mcry(1.662336, [qr[17], qr[15]], qr[20])\n",
    "qc.swap(qr[9], qr[25])\n",
    "qc.s(qr[13])\n",
    "qc.mcrx(5.278086, [qr[15], qr[4], qr[1]], qr[19])\n",
    "qc.csdg(qr[17], qr[9])\"\"\"\n",
    "\n",
    "print(recognize_error(msg, content))"
   ]
  },
  {
   "cell_type": "code",
   "execution_count": 15,
   "metadata": {},
   "outputs": [
    {
     "data": {
      "text/plain": [
       "True"
      ]
     },
     "execution_count": 15,
     "metadata": {},
     "output_type": "execute_result"
    }
   ],
   "source": [
    "# CORRECT\n",
    "error_pattern = r\"^Could not import second circuit: .*:\\d+:\\d+:\\nExpected .*\"\n",
    "bool(re.match(error_pattern, msg, re.MULTILINE))"
   ]
  },
  {
   "cell_type": "markdown",
   "metadata": {},
   "source": [
    "# Examples Pos/neg"
   ]
  },
  {
   "cell_type": "code",
   "execution_count": 17,
   "metadata": {},
   "outputs": [],
   "source": [
    "# 003_001_Cluster_Error_Messages_Auto_Label_2024_10_28_13_55_auto_label_examples_embedding_5_positive_2_negative\n",
    "# cluster 2\n",
    "import re\n",
    "\n",
    "\n",
    "def recognize_error(error_message: str, file_content: str) -> bool:\n",
    "    \"\"\"\n",
    "    Recognizes if the given error message and file content matches the pattern of a quantum circuit implementation error.\n",
    "\n",
    "    Args:\n",
    "        error_message (str): The error message to check.\n",
    "        file_content (str): The content of the file to check.\n",
    "\n",
    "    Returns:\n",
    "        bool: True if the error message and file content matches the pattern, False otherwise.\n",
    "    \"\"\"\n",
    "\n",
    "    # Check for the specific error message\n",
    "    error_pattern = r\"Gate has an invalid number of parameters\"\n",
    "    error_match = re.search(error_pattern, error_message)\n",
    "\n",
    "    # Check for a generic quantum circuit implementation pattern in the file content\n",
    "    # Matches \"qc.\" followed by one or more lowercase letters (gate operations)\n",
    "    qc_pattern = r\"qc\\.[a-z]+\"\n",
    "    qc_match = re.search(qc_pattern, file_content, re.MULTILINE)\n",
    "\n",
    "    # Return True if both patterns are found\n",
    "    return error_match is not None and qc_match is not None"
   ]
  },
  {
   "cell_type": "code",
   "execution_count": null,
   "metadata": {},
   "outputs": [],
   "source": [
    "# 003_001_Cluster_Error_Messages_Auto_Label_2024_10_28_13_52_auto_label_examples_embedding_5_positive_5_negative\n",
    "# cluster 2\n",
    "\n",
    "def recognize_error(error_message: str, file_content: str) -> bool:\n",
    "    \"\"\"\n",
    "    Recognize the error pattern based on the error message and file content.\n",
    "\n",
    "    Args:\n",
    "        error_message (str): The error message to check.\n",
    "        file_content (str): The file content to check.\n",
    "\n",
    "    Returns:\n",
    "        bool: True if the error pattern is matched, False otherwise.\n",
    "    \"\"\"\n",
    "    # Compile the error message pattern\n",
    "    error_message_pattern = re.compile(\n",
    "        r\"Gate has an invalid number of parameters\", re.IGNORECASE)\n",
    "\n",
    "    # Compile the file content pattern (look for any QC command)\n",
    "    file_content_pattern = re.compile(\n",
    "        r\"qc\\.\\w+\\(.*?\\)\", re.IGNORECASE | re.MULTILINE)\n",
    "\n",
    "    # Check if the error message pattern is matched\n",
    "    error_message_match = error_message_pattern.search(error_message)\n",
    "\n",
    "    # Check if the file content pattern is matched\n",
    "    file_content_match = file_content_pattern.search(file_content)\n",
    "\n",
    "    # Return True if both patterns are matched, False otherwise\n",
    "    return error_message_match is not None and file_content_match is not None"
   ]
  },
  {
   "cell_type": "code",
   "execution_count": 6,
   "metadata": {},
   "outputs": [
    {
     "name": "stdout",
     "output_type": "stream",
     "text": [
      "QASM output:\n",
      "OPENQASM 2.0;\n",
      "include \"qelib1.inc\";\n",
      "qreg q[4];\n",
      "creg c[4];\n",
      "h q[0];\n",
      "cx q[0],q[1];\n",
      "z q[1];\n",
      "x q[2];\n",
      "y q[3];\n",
      "cz q[0],q[2];\n",
      "swap q[1],q[3];\n",
      "measure q[0] -> c[0];\n",
      "measure q[1] -> c[1];\n",
      "measure q[2] -> c[2];\n",
      "measure q[3] -> c[3];\n",
      "\n",
      "Quantum Circuit:\n"
     ]
    },
    {
     "data": {
      "image/png": "[encoded data removed]",
      "text/plain": [
       "<Figure size 872.774x451.5 with 1 Axes>"
      ]
     },
     "execution_count": 6,
     "metadata": {},
     "output_type": "execute_result"
    }
   ],
   "source": [
    "from qiskit import QuantumCircuit\n",
    "from qiskit import qasm2\n",
    "\n",
    "# Create a quantum circuit with 4 qubits and a classical register\n",
    "qc = QuantumCircuit(4, 4)\n",
    "qc.h(0)  # Apply Hadamard gate to qubit 0\n",
    "qc.cx(0, 1)  # Apply CNOT gate with control qubit 0 and target qubit 1\n",
    "qc.z(1)  # Apply Z gate to qubit 1\n",
    "qc.x(2)  # Apply X gate to qubit 2\n",
    "qc.y(3)  # Apply Y gate to qubit 3\n",
    "qc.cz(0, 2)  # Apply CZ gate with control qubit 0 and target qubit 2\n",
    "qc.swap(1, 3)  # Apply SWAP gate between qubit 1 and qubit 3\n",
    "qc.measure([0, 1, 2, 3], [0, 1, 2, 3])  # Measure all qubits\n",
    "\n",
    "# Export the circuit to QASM\n",
    "qasm_str = qasm2.dumps(qc)\n",
    "\n",
    "# Print the QASM\n",
    "print(\"QASM output:\")\n",
    "print(qasm_str)\n",
    "\n",
    "# Print the circuit\n",
    "print(\"\\nQuantum Circuit:\")\n",
    "qc.draw(output='mpl')"
   ]
  },
  {
   "cell_type": "code",
   "execution_count": null,
   "metadata": {},
   "outputs": [],
   "source": []
  }
 ],
 "metadata": {
  "kernelspec": {
   "display_name": "crosspl",
   "language": "python",
   "name": "python3"
  },
  "language_info": {
   "codemirror_mode": {
    "name": "ipython",
    "version": 3
   },
   "file_extension": ".py",
   "mimetype": "text/x-python",
   "name": "python",
   "nbconvert_exporter": "python",
   "pygments_lexer": "ipython3",
   "version": "3.10.14"
  }
 },
 "nbformat": 4,
 "nbformat_minor": 2
}
