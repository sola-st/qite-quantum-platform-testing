{
 "cells": [
  {
   "cell_type": "markdown",
   "metadata": {},
   "source": [
    "# QITE - Evaluation"
   ]
  },
  {
   "cell_type": "code",
   "execution_count": null,
   "metadata": {},
   "outputs": [
    {
     "name": "stdout",
     "output_type": "stream",
     "text": [
      "INFO: Pandarallel will run on 24 workers.\n",
      "INFO: Pandarallel will use Memory file system to transfer data between the main process and workers.\n"
     ]
    }
   ],
   "source": [
    "from typing import List, Tuple, Dict, Any, Optional, Union, Set\n",
    "from multiprocessing import Pool\n",
    "from pandarallel import pandarallel\n",
    "import os\n",
    "import re\n",
    "import sys\n",
    "import json\n",
    "from pathlib import Path\n",
    "from dataclasses import dataclass, field\n",
    "\n",
    "import numpy as np\n",
    "import matplotlib.pyplot as plt\n",
    "import seaborn as sns\n",
    "\n",
    "import pandas as pd\n",
    "from tqdm.auto import tqdm\n",
    "tqdm.pandas()\n",
    "pandarallel.initialize(progress_bar=True)"
   ]
  },
  {
   "cell_type": "code",
   "execution_count": 3,
   "metadata": {},
   "outputs": [],
   "source": [
    "PLATFORMS = [\n",
    "    'qiskit', 'pennylane', 'pytket',\n",
    "    # 'bqskit'\n",
    "]"
   ]
  },
  {
   "cell_type": "markdown",
   "metadata": {},
   "source": [
    "## RQ: Comparison with Prior Work"
   ]
  },
  {
   "cell_type": "code",
   "execution_count": 13,
   "metadata": {},
   "outputs": [],
   "source": [
    "EXPERIMENTS_MORPHQ = {\n",
    "    \"v14\": {\n",
    "        \"path\": \"/home/paltenmo/projects/morphq_upgraded/MorphQ-Quantum-Qiskit-Testing-ICSE-23/data/qmt_v14\",\n",
    "        \"description\": \"MorphQ Data - 1h - Qiskit\"\n",
    "    }\n",
    "}\n",
    "# add provenance field to the data\n",
    "EXPERIMENTS_MORPHQ = {\n",
    "    k: {**v, \"provenance\": \"morphq\"} for k, v in EXPERIMENTS_MORPHQ.items()\n",
    "}\n",
    "\n",
    "EXPERIMENTS_QITE = {\n",
    "    \"2025_03_07__16_41\": {\n",
    "        \"path\": \"../program_bank/v045/2025_03_07__16_41\",\n",
    "        \"description\": \"1h - 3 platforms  - threads + converters\"\n",
    "    },\n",
    "}\n",
    "# add provenance field to the data\n",
    "EXPERIMENTS_QITE = {\n",
    "    k: {**v, \"provenance\": \"qite\"} for k, v in EXPERIMENTS_QITE.items()\n",
    "}\n",
    "\n",
    "EXPERIMENTS_ALL = {\n",
    "    **EXPERIMENTS_MORPHQ,\n",
    "    **EXPERIMENTS_QITE\n",
    "}\n",
    "SELECTED_EXP_QITE = \"2025_03_07__16_41\"\n",
    "SELECTED_EXP_MORPHQ = \"v14\""
   ]
  },
  {
   "cell_type": "code",
   "execution_count": 22,
   "metadata": {},
   "outputs": [
    {
     "name": "stdout",
     "output_type": "stream",
     "text": [
      "Experiment: v14 - (MorphQ Data - 1h - Qiskit) - morphq\n",
      "qiskit_________: 9.49% (6904/72751)\n",
      "pennylane______: 0.00% (0/0)\n",
      "pytket_________: 0.00% (0/0)\n",
      "Experiment: 2025_03_07__16_41 - (1h - 3 platforms  - threads + converters) - qite\n",
      "qiskit_________: 13.93% (10133/72751)\n",
      "pennylane______: 26.90% (12781/47509)\n",
      "pytket_________: 30.12% (11572/38416)\n"
     ]
    }
   ],
   "source": [
    "# todo add coverage data to a dictionary to use later easily for the venn\n",
    "COVERAGE_DATA_ALL = {}\n",
    "\n",
    "for exp_name, exp_info in EXPERIMENTS_ALL.items():\n",
    "    print(\n",
    "        f\"Experiment: {exp_name} - ({exp_info['description']}) - {exp_info['provenance']}\")\n",
    "    exp_coverage_data_path = Path(exp_info[\"path\"]) / \"coverage_platforms.json\"\n",
    "    with open(exp_coverage_data_path, \"r\") as f:\n",
    "        exp_coverage_data = json.load(f)\n",
    "    COVERAGE_DATA_ALL[exp_name] = exp_coverage_data\n",
    "    for package, coverage in exp_coverage_data.items():\n",
    "        print(\n",
    "            f\"{package:_<15}: {coverage['coverage_percentage']:.2f}% ({coverage['covered']}/{coverage['total']})\")"
   ]
  },
  {
   "cell_type": "code",
   "execution_count": 26,
   "metadata": {},
   "outputs": [
    {
     "name": "stdout",
     "output_type": "stream",
     "text": [
      "\n",
      "Experiment: 2025_03_07__16_41\n",
      "Description: 1h - 3 platforms  - threads + converters\n"
     ]
    },
    {
     "data": {
      "image/png": "[encoded data removed]",
      "text/plain": [
       "<Figure size 600x300 with 1 Axes>"
      ]
     },
     "metadata": {},
     "output_type": "display_data"
    },
    {
     "name": "stdout",
     "output_type": "stream",
     "text": [
      "\\newcommand{\\QITEQiskitCoverage}{13.93\\%}\n",
      "\\newcommand{\\MorphQQiskitCoverage}{9.49\\%}\n",
      "\\newcommand{\\QITEQiskitTotalLines}{72751}\n",
      "\\newcommand{\\MorphQQiskitTotalLines}{72751}\n",
      "\\newcommand{\\QITEQiskitCoveredLines}{10133}\n",
      "\\newcommand{\\MorphQQiskitCoveredLines}{6904}\n",
      "\\newcommand{\\CoveredSharedLines}{5693}\n",
      "\\newcommand{\\CoveredOnlyQITE}{4440}\n",
      "\\newcommand{\\CoveredOnlyMorphQ}{1211}\n"
     ]
    }
   ],
   "source": [
    "from matplotlib_venn import venn2\n",
    "\n",
    "# Styling constants\n",
    "FIGURE_SIZE = (6, 3)\n",
    "# light purple, light gray, white\n",
    "STYLE_COLORS = ['mediumpurple', 'darkgray', 'white']\n",
    "OUTPUT_IMAGE_PATH = \"images/rq_coverage_venn_vs_morphq.pdf\"\n",
    "\n",
    "\n",
    "@dataclass\n",
    "class VennDiagramData:\n",
    "    \"\"\"Data structure for Venn diagram components.\"\"\"\n",
    "    exclusive_set1: Set[str]\n",
    "    exclusive_set2: Set[str]\n",
    "    intersection: Set[str]\n",
    "\n",
    "\n",
    "def calculate_venn_sets(set1: Set[str], set2: Set[str]) -> VennDiagramData:\n",
    "    \"\"\"Calculate exclusive and intersection sets for Venn diagram.\"\"\"\n",
    "    return VennDiagramData(\n",
    "        exclusive_set1=set1 - set2,\n",
    "        exclusive_set2=set2 - set1,\n",
    "        intersection=set1 & set2,\n",
    "    )\n",
    "\n",
    "\n",
    "def style_venn_diagram(venn: Any, data: VennDiagramData) -> None:\n",
    "    \"\"\"Apply styling to Venn diagram components.\"\"\"\n",
    "    # Set size labels\n",
    "    for id, size in [\n",
    "        ('10', len(data.exclusive_set1)),\n",
    "        ('01', len(data.exclusive_set2)),\n",
    "        ('11', len(data.intersection))\n",
    "    ]:\n",
    "        venn.get_label_by_id(id).set_text(size)\n",
    "\n",
    "    # Style sections\n",
    "    venn.get_patch_by_id('10').set_color(STYLE_COLORS[0])\n",
    "    patch01 = venn.get_patch_by_id('01')\n",
    "    patch01.set_edgecolor(STYLE_COLORS[0])\n",
    "    patch01.set_linestyle('dashed')\n",
    "    patch01.set_facecolor('white')\n",
    "    venn.get_patch_by_id('11').set_color(STYLE_COLORS[1])\n",
    "\n",
    "\n",
    "def create_coverage_venn_diagram(\n",
    "    qite_lines: Set[str],\n",
    "    morphq_lines: Set[str],\n",
    "    qite_label: str = 'QITE',\n",
    "    morphq_label: str = 'MorphQ',\n",
    ") -> Tuple[plt.Figure, plt.Axes, VennDiagramData]:\n",
    "    \"\"\"Create and style Venn diagram comparing covered lines.\"\"\"\n",
    "    fig, ax = plt.subplots(figsize=FIGURE_SIZE)\n",
    "    venn_data = calculate_venn_sets(qite_lines, morphq_lines)\n",
    "\n",
    "    venn = venn2(\n",
    "        subsets=[qite_lines, morphq_lines],\n",
    "        set_labels=(qite_label, morphq_label),\n",
    "        ax=ax,\n",
    "    )\n",
    "    style_venn_diagram(venn, venn_data)\n",
    "\n",
    "    plt.show()\n",
    "    fig.savefig(OUTPUT_IMAGE_PATH)\n",
    "    return fig, ax, venn_data\n",
    "\n",
    "\n",
    "def print_latex_commands(\n",
    "    cov_qiskit_ours: dict,\n",
    "    cov_qiskit_morphq: dict,\n",
    "    venn_data: VennDiagramData,\n",
    ") -> None:\n",
    "    \"\"\"\n",
    "    Print LaTeX commands for coverage statistics.\n",
    "\n",
    "    Args:\n",
    "        cov_qiskit_ours: Coverage data from QITE approach\n",
    "        cov_qiskit_morphq: Coverage data from MorphQ approach\n",
    "        venn_data: VennDiagramData containing set intersection info\n",
    "    \"\"\"\n",
    "    coverage_commands = [\n",
    "        (\"QITEQiskitCoverage\",\n",
    "            f\"{cov_qiskit_ours['coverage_percentage']:.2f}\\\\%\"),\n",
    "        (\"MorphQQiskitCoverage\",\n",
    "            f\"{cov_qiskit_morphq['coverage_percentage']:.2f}\\\\%\"),\n",
    "        (\"QITEQiskitTotalLines\",\n",
    "            f\"{cov_qiskit_ours['total']}\"),\n",
    "        (\"MorphQQiskitTotalLines\",\n",
    "            f\"{cov_qiskit_morphq['total']}\"),\n",
    "        (\"QITEQiskitCoveredLines\",\n",
    "            f\"{cov_qiskit_ours['covered']}\"),\n",
    "        (\"MorphQQiskitCoveredLines\",\n",
    "            f\"{cov_qiskit_morphq['covered']}\"),\n",
    "        (\"CoveredSharedLines\", f\"{len(venn_data.intersection)}\"),\n",
    "        (\"CoveredOnlyQITE\", f\"{len(venn_data.exclusive_set1)}\"),\n",
    "        (\"CoveredOnlyMorphQ\", f\"{len(venn_data.exclusive_set2)}\"),\n",
    "    ]\n",
    "\n",
    "    for cmd_name, value in coverage_commands:\n",
    "        print(f\"\\\\newcommand{{\\\\{cmd_name}}}{{{value}}}\")\n",
    "\n",
    "\n",
    "cov_morphq = COVERAGE_DATA_ALL[SELECTED_EXP_MORPHQ]\n",
    "\n",
    "for exp_name in [SELECTED_EXP_QITE]:\n",
    "    print(f\"\\nExperiment: {exp_name}\")\n",
    "    print(f\"Description: {EXPERIMENTS_ALL[exp_name]['description']}\")\n",
    "    cov_qite = COVERAGE_DATA_ALL[exp_name]\n",
    "    # Example usage remains the same but with named arguments\n",
    "    fig, ax, venn_data = create_coverage_venn_diagram(\n",
    "        qite_lines=set(cov_qite[\"qiskit\"][\"covered_lines\"]),\n",
    "        morphq_lines=set(cov_morphq[\"qiskit\"][\"covered_lines\"]),\n",
    "    )\n",
    "    print_latex_commands(\n",
    "        cov_qiskit_ours=cov_qite[\"qiskit\"],\n",
    "        cov_qiskit_morphq=cov_morphq[\"qiskit\"],\n",
    "        venn_data=venn_data,\n",
    "    )"
   ]
  },
  {
   "cell_type": "code",
   "execution_count": 28,
   "metadata": {},
   "outputs": [
    {
     "data": {
      "image/png": "[encoded data removed]",
      "text/plain": [
       "<Figure size 500x200 with 1 Axes>"
      ]
     },
     "metadata": {},
     "output_type": "display_data"
    },
    {
     "name": "stdout",
     "output_type": "stream",
     "text": [
      "\\newcommand{\\QITEQiskitTotalLines}{72751}\n",
      "\\newcommand{\\QITEQiskitCoveredLines}{10133}\n",
      "\\newcommand{\\QITEPennylaneTotalLines}{47509}\n",
      "\\newcommand{\\QITEPennylaneCoveredLines}{12781}\n",
      "\\newcommand{\\QITEPytketTotalLines}{38416}\n",
      "\\newcommand{\\QITEPytketCoveredLines}{11572}\n"
     ]
    }
   ],
   "source": [
    "PLATFORM_COLORS = {'qiskit': 'mediumslateblue',\n",
    "                   'pytket': 'silver', 'pennylane': 'orchid'}\n",
    "OUTPUT_DIR = \"images\"\n",
    "OUTPUT_PATH_BAR_PLOT = os.path.join(OUTPUT_DIR, \"rq_coverage_barplot.pdf\")\n",
    "\n",
    "\n",
    "def create_platform_bar_plot(package_coverage, platforms, output_path):\n",
    "    \"\"\"Generates and saves a horizontal bar plot of platform coverage.\"\"\"\n",
    "    platform_colors = [PLATFORM_COLORS[platform] for platform in platforms]\n",
    "    total_lines_covered = [package_coverage[platform]['covered']\n",
    "                           for platform in platforms]\n",
    "\n",
    "    fig, ax = plt.subplots(figsize=(5, 2))\n",
    "    bars = ax.barh(platforms, total_lines_covered, color=platform_colors)\n",
    "    ax.set_xlabel('Total Lines Covered')\n",
    "    ax.set_ylabel('Platform')\n",
    "\n",
    "    max_val = max(total_lines_covered)\n",
    "    add_bar_value_labels(ax, bars, total_lines_covered, max_val)\n",
    "\n",
    "    ax.set_xlim(0, max_val * 1.2)\n",
    "    fig.tight_layout()\n",
    "    plt.show()\n",
    "    fig.savefig(output_path)\n",
    "\n",
    "\n",
    "def add_bar_value_labels(ax, bars, values, max_val):\n",
    "    \"\"\"Adds labels to the end of each bar in a horizontal bar plot.\"\"\"\n",
    "    for bar, value in zip(bars, values):\n",
    "        ax.text(value + (max_val / 30), bar.get_y() + bar.get_height() / 2,\n",
    "                f'{value}', va='center', ha='left')\n",
    "\n",
    "\n",
    "def print_latex_commands(package_coverage, platforms):\n",
    "    \"\"\"Prints LaTeX commands for total and covered lines for each platform.\"\"\"\n",
    "    for platform in platforms:\n",
    "        total_lines = package_coverage[platform]['total']\n",
    "        covered_lines = package_coverage[platform]['covered']\n",
    "        print(\n",
    "            f\"\\\\newcommand{{\\\\QITE{platform.capitalize()}TotalLines}}{{{total_lines}}}\")\n",
    "        print(\n",
    "            f\"\\\\newcommand{{\\\\QITE{platform.capitalize()}CoveredLines}}{{{covered_lines}}}\")\n",
    "\n",
    "\n",
    "# Main execution\n",
    "create_platform_bar_plot(\n",
    "    package_coverage=COVERAGE_DATA_ALL[SELECTED_EXP_QITE],\n",
    "    platforms=PLATFORMS,\n",
    "    output_path=OUTPUT_PATH_BAR_PLOT,\n",
    ")\n",
    "print_latex_commands(\n",
    "    package_coverage=COVERAGE_DATA_ALL[SELECTED_EXP_QITE],\n",
    "    platforms=PLATFORMS)"
   ]
  },
  {
   "cell_type": "code",
   "execution_count": null,
   "metadata": {},
   "outputs": [],
   "source": []
  }
 ],
 "metadata": {
  "kernelspec": {
   "display_name": "Python 3",
   "language": "python",
   "name": "python3"
  },
  "language_info": {
   "codemirror_mode": {
    "name": "ipython",
    "version": 3
   },
   "file_extension": ".py",
   "mimetype": "text/x-python",
   "name": "python",
   "nbconvert_exporter": "python",
   "pygments_lexer": "ipython3",
   "version": "3.10.14"
  }
 },
 "nbformat": 4,
 "nbformat_minor": 2
}
