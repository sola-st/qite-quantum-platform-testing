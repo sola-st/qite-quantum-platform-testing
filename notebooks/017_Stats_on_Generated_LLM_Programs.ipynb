{
 "cells": [
  {
   "cell_type": "code",
   "execution_count": 1,
   "metadata": {},
   "outputs": [
    {
     "name": "stdout",
     "output_type": "stream",
     "text": [
      "INFO: Pandarallel will run on 24 workers.\n",
      "INFO: Pandarallel will use Memory file system to transfer data between the main process and workers.\n"
     ]
    }
   ],
   "source": [
    "from typing import List, Tuple, Dict, Any, Optional\n",
    "from pandarallel import pandarallel\n",
    "import os\n",
    "import re\n",
    "import sys\n",
    "import json\n",
    "from pathlib import Path\n",
    "\n",
    "import numpy as np\n",
    "import matplotlib.pyplot as plt\n",
    "import seaborn as sns\n",
    "\n",
    "import pandas as pd\n",
    "from tqdm.auto import tqdm\n",
    "tqdm.pandas()\n",
    "pandarallel.initialize(progress_bar=True)"
   ]
  },
  {
   "cell_type": "code",
   "execution_count": 5,
   "metadata": {},
   "outputs": [],
   "source": [
    "import sys\n",
    "BASE_PATH = \"..\"\n",
    "sys.path.append(BASE_PATH)\n",
    "\n",
    "# v016 = LLM with API\n",
    "# GENERATION_PATH_LLM_API = Path(\n",
    "#     BASE_PATH, \"program_bank/v016/2025_01_13__11_30__qiskit\")\n",
    "# GENERATION_PATH_LLM_API = Path(\n",
    "#     BASE_PATH, \"program_bank/v016/2025_01_13__11_47__qiskit\")\n",
    "# GENERATION_PATH_LLM_API = Path(\n",
    "#     BASE_PATH, \"program_bank/v016/2025_01_13__16_57__qiskit\")\n",
    "\n",
    "# v017 = LLM empty API\n",
    "# GENERATION_PATH_LLM_API = Path(\n",
    "#     BASE_PATH, \"program_bank/v017/2025_01_13__23_51__qiskit\")\n",
    "\n",
    "\n",
    "GENERATION_PATH_W_API = Path(\n",
    "    BASE_PATH, \"program_bank/v016/2025_01_13__11_47__qiskit\")\n",
    "GENERATION_PATH_NO_API = Path(\n",
    "    BASE_PATH, \"program_bank/v017/2025_01_13__23_51__qiskit\")"
   ]
  },
  {
   "cell_type": "markdown",
   "metadata": {},
   "source": [
    "### Task description: Run Qiskit Scripts\n",
    "\n",
    "**Objective:**\n",
    "Develop a Python script to scan and run Qiskit scripts ending in `circuit.py` from a specified directory using two different versions of Qiskit Docker images. The script should log the results and errors for each version, generate a summary report, and visualize the error analysis.\n",
    "\n",
    "**Requirements:**\n",
    "1. **Directory Scanning:**\n",
    "   - Scan the directory specified by the global variable `GENERATION_PATH_LLM_API` for all Python files ending with `circuit.py`.\n",
    "\n",
    "2. **Running Qiskit Scripts:**\n",
    "   - For each identified script, run it using two versions of Qiskit Docker images:\n",
    "     - Version 1: `qiskit_image_1.2.0`\n",
    "     - Version 2: `qiskit_image_0.45.0`\n",
    "   - Use the `run_qiskit_code_in_docker` function from `aiexchange.tools.docker_tools` to execute the scripts.\n",
    "   - Use `tqdm` to display progress information during script execution.\n",
    "\n",
    "3. **Logging Results:**\n",
    "   - Log the output and errors for each script run with both versions.\n",
    "   - Store the logs in the same directory as the script with the following naming convention:\n",
    "     - For version 1.2.0: `<program_name_without_py>_120.log`\n",
    "     - For version 0.45.0: `<program_name_without_py>_045.log`\n",
    "\n",
    "4. **Success Criteria:**\n",
    "   - A script run is considered successful if `\"traceback\" not in logs.lower()` and `\"SyntaxError\" not in logs`.\n",
    "\n",
    "5. **Summary Report:**\n",
    "   - Generate a summary report indicating how many scripts successfully ran with both versions.\n",
    "   - Store the summary report in the specified directory.\n",
    "   - Create a routine at the end of the script to read all the logs into a Pandas DataFrame with the following columns:\n",
    "     - `program_name`\n",
    "     - `log_045`\n",
    "     - `log_120`\n",
    "     - `error_045` (contains either \"syntax\" or \"runtime\")\n",
    "     - `error_120` (contains either \"syntax\" or \"runtime\")\n",
    "     - `success_045` (boolean)\n",
    "     - `success_120` (boolean)\n",
    "\n",
    "6. **Error Analysis and Visualization:**\n",
    "   - Count the number of syntax errors and other traceback errors for each version.\n",
    "   - Plot a stacked histogram showing the number of syntax errors and other traceback errors for each version.\n"
   ]
  },
  {
   "cell_type": "code",
   "execution_count": 6,
   "metadata": {},
   "outputs": [],
   "source": [
    "from aiexchange.tools.docker_tools import run_qiskit_code_in_docker\n",
    "\n",
    "# Directory scanning\n",
    "\n",
    "\n",
    "def scan_directory_for_scripts(directory: str) -> List[str]:\n",
    "    return [str(path) for path in Path(directory).rglob('*circuit.py')]\n",
    "\n",
    "# Running Qiskit scripts\n",
    "\n",
    "\n",
    "def extract_version(image_name: str) -> str:\n",
    "    ver_w_dots = re.search(\n",
    "        r'qiskit_image_(\\d+\\.\\d+\\.\\d+)', image_name).group(1)\n",
    "    return ver_w_dots.replace('.', '')\n",
    "\n",
    "\n",
    "def run_scripts(\n",
    "        scripts_paths: List[Path],\n",
    "        qiskit_image_name: str) -> Tuple[str]:\n",
    "    logs = []\n",
    "    for script_path in tqdm(\n",
    "            scripts_paths, desc=f\"Running scripts with Qiskit {qiskit_image_name}\"):\n",
    "        script_content = Path(script_path).read_text()\n",
    "        # check if result was already computed\n",
    "        ver_suffix = extract_version(qiskit_image_name)\n",
    "        log_result = f\"{Path(script_path).stem}_{ver_suffix}.log\"\n",
    "        if Path(script_path).parent / log_result in Path(script_path).parent.glob(\n",
    "                f\"*_{ver_suffix}.log\"):\n",
    "            with open(Path(script_path).parent / log_result, 'r') as f:\n",
    "                log = f.read()\n",
    "        else:\n",
    "            log = run_qiskit_code_in_docker(script_content, qiskit_image_name)\n",
    "            with open(Path(script_path).parent / log_result, 'w') as f:\n",
    "                f.write(log)\n",
    "        logs.append(log)\n",
    "    return logs\n",
    "# Summary report\n",
    "\n",
    "\n",
    "def generate_summary_report(\n",
    "        logs_045: Tuple[str],\n",
    "        logs_120: Tuple[str]) -> pd.DataFrame:\n",
    "    data = []\n",
    "    for log_045, log_120 in zip(logs_045, logs_120):\n",
    "        data.append(\n",
    "            {'log_045': log_045, 'log_120': log_120})\n",
    "    return pd.DataFrame(data)\n",
    "\n",
    "\n",
    "def extract_error_type(log: str) -> str:\n",
    "    match = re.search(r'(\\w+Error)', log)\n",
    "    if match:\n",
    "        return match.group(1)\n",
    "    return 'Correct'\n",
    "\n",
    "\n",
    "def get_error_throwing_line(log: str) -> Optional[int]:\n",
    "    match = re.search(r'File \"/workspace/code_sample.py\", line (\\d+)', log)\n",
    "    if match:\n",
    "        return int(match.group(1))\n",
    "    return None\n",
    "\n",
    "\n",
    "def is_successful(log: str) -> bool:\n",
    "    return \"traceback\" not in log.lower() and \"SyntaxError\" not in log and not \"IndentationError\" in log"
   ]
  },
  {
   "cell_type": "code",
   "execution_count": 7,
   "metadata": {},
   "outputs": [
    {
     "name": "stdout",
     "output_type": "stream",
     "text": [
      "Found 100 scripts to run\n"
     ]
    },
    {
     "data": {
      "application/vnd.jupyter.widget-view+json": {
       "model_id": "ef347bf71529494b9a71c963b6ec171b",
       "version_major": 2,
       "version_minor": 0
      },
      "text/plain": [
       "Running scripts with Qiskit qiskit_image_0.45.0:   0%|          | 0/100 [00:00<?, ?it/s]"
      ]
     },
     "metadata": {},
     "output_type": "display_data"
    },
    {
     "data": {
      "application/vnd.jupyter.widget-view+json": {
       "model_id": "e7c27a2abdd846b6acca15625c8228d9",
       "version_major": 2,
       "version_minor": 0
      },
      "text/plain": [
       "Running scripts with Qiskit qiskit_image_1.2.0:   0%|          | 0/100 [00:00<?, ?it/s]"
      ]
     },
     "metadata": {},
     "output_type": "display_data"
    },
    {
     "name": "stdout",
     "output_type": "stream",
     "text": [
      "Found 100 scripts to run\n"
     ]
    },
    {
     "data": {
      "application/vnd.jupyter.widget-view+json": {
       "model_id": "2d80f2e411e446d4b5b0b4a32561e7e1",
       "version_major": 2,
       "version_minor": 0
      },
      "text/plain": [
       "Running scripts with Qiskit qiskit_image_0.45.0:   0%|          | 0/100 [00:00<?, ?it/s]"
      ]
     },
     "metadata": {},
     "output_type": "display_data"
    },
    {
     "data": {
      "application/vnd.jupyter.widget-view+json": {
       "model_id": "ea29fc18a8764e57a347b456193cdf9a",
       "version_major": 2,
       "version_minor": 0
      },
      "text/plain": [
       "Running scripts with Qiskit qiskit_image_1.2.0:   0%|          | 0/100 [00:00<?, ?it/s]"
      ]
     },
     "metadata": {},
     "output_type": "display_data"
    }
   ],
   "source": [
    "\n",
    "def process_qiskit_scripts(generation_path: Path) -> pd.DataFrame:\n",
    "    scripts_paths = scan_directory_for_scripts(generation_path)\n",
    "    print(f\"Found {len(scripts_paths)} scripts to run\")\n",
    "\n",
    "    logs_045 = run_scripts(\n",
    "        scripts_paths, qiskit_image_name='qiskit_image_0.45.0')\n",
    "    logs_120 = run_scripts(\n",
    "        scripts_paths, qiskit_image_name='qiskit_image_1.2.0')\n",
    "    summary_df = generate_summary_report(logs_045, logs_120)\n",
    "    summary_df[\"program_name\"] = [\n",
    "        Path(script).stem for script in scripts_paths]\n",
    "    summary_df = summary_df.sort_values(by=\"program_name\")\n",
    "\n",
    "    summary_df[\"metadata\"] = summary_df[\"program_name\"].apply(\n",
    "        lambda name: json.dumps(\n",
    "            json.load(\n",
    "                open(\n",
    "                    Path(\n",
    "                        generation_path,\n",
    "                        f\"{name.replace('circuit', 'metadata')}.json\"))),\n",
    "            indent=4))\n",
    "\n",
    "    summary_df['error_type_045'] = summary_df['log_045'].apply(\n",
    "        extract_error_type)\n",
    "    summary_df['error_type_120'] = summary_df['log_120'].apply(\n",
    "        extract_error_type)\n",
    "\n",
    "    summary_df['last_executed_row_045'] = summary_df['log_045'].apply(\n",
    "        get_error_throwing_line).astype('Int64')\n",
    "    summary_df['last_executed_row_120'] = summary_df['log_120'].apply(\n",
    "        get_error_throwing_line).astype('Int64')\n",
    "\n",
    "    summary_df[\"success_045\"] = summary_df[\"log_045\"].apply(is_successful)\n",
    "    summary_df[\"success_120\"] = summary_df[\"log_120\"].apply(is_successful)\n",
    "\n",
    "    summary_df.to_csv(\n",
    "        Path(generation_path) / 'summary_report.csv', index=False)\n",
    "\n",
    "    return summary_df\n",
    "\n",
    "\n",
    "df_w_api = process_qiskit_scripts(\n",
    "    generation_path=GENERATION_PATH_W_API)\n",
    "df_no_api = process_qiskit_scripts(\n",
    "    generation_path=GENERATION_PATH_NO_API)\n",
    "\n",
    "# summary_df.to_csv(\n",
    "#     Path(GENERATION_PATH_LLM_API) / 'summary_report.csv', index=False)"
   ]
  },
  {
   "cell_type": "code",
   "execution_count": 9,
   "metadata": {},
   "outputs": [
    {
     "name": "stdout",
     "output_type": "stream",
     "text": [
      "Percentage of corrects for Qiskit 0.45.0: 24.00%\n",
      "Percentage of corrects for Qiskit 1.2.0: 25.00%\n"
     ]
    },
    {
     "data": {
      "image/png": "[encoded data removed]",
      "text/plain": [
       "<Figure size 600x400 with 1 Axes>"
      ]
     },
     "metadata": {},
     "output_type": "display_data"
    },
    {
     "name": "stdout",
     "output_type": "stream",
     "text": [
      "Percentage of corrects for Qiskit 0.45.0: 99.00%\n",
      "Percentage of corrects for Qiskit 1.2.0: 23.00%\n"
     ]
    },
    {
     "data": {
      "image/png": "[encoded data removed]",
      "text/plain": [
       "<Figure size 600x400 with 1 Axes>"
      ]
     },
     "metadata": {},
     "output_type": "display_data"
    }
   ],
   "source": [
    "import re\n",
    "import seaborn as sns\n",
    "\n",
    "\n",
    "def show_error_types(df: pd.DataFrame, save_path: Optional[str] = None) -> Tuple[plt.Figure, plt.Axes]:\n",
    "    # Plotting the error type counts for each version\n",
    "    fig, ax = plt.subplots(figsize=(14, 7))\n",
    "\n",
    "    # Get unique error types\n",
    "    unique_error_types_045 = df['error_type_045'].unique()\n",
    "    unique_error_types_120 = df['error_type_120'].unique()\n",
    "\n",
    "    # Create palette\n",
    "    palette_045 = {\n",
    "        error_type: 'green'\n",
    "        if error_type == 'Correct' else 'red'\n",
    "        for error_type in unique_error_types_045}\n",
    "    palette_120 = {\n",
    "        error_type: 'green'\n",
    "        if error_type == 'Correct' else 'red'\n",
    "        for error_type in unique_error_types_120}\n",
    "\n",
    "    # Plotting the error type counts for each version side by side\n",
    "    error_counts_045 = df['error_type_045'].value_counts()\n",
    "    error_counts_120 = df['error_type_120'].value_counts()\n",
    "\n",
    "    # Create a DataFrame for plotting\n",
    "    error_counts_df = pd.DataFrame({\n",
    "        'Qiskit 0.45.0': error_counts_045,\n",
    "        'Qiskit 1.2.0': error_counts_120\n",
    "    }).fillna(0)\n",
    "\n",
    "    error_counts_df.plot(\n",
    "        kind='barh', figsize=(6, 4),\n",
    "        color=['blue', 'orange'],\n",
    "        ax=ax)\n",
    "    ax.set_title('Error Types for Qiskit Versions')\n",
    "    ax.set_ylabel('Error Type')\n",
    "    ax.set_xlabel('Count')\n",
    "    ax.legend(title='Qiskit Version')\n",
    "\n",
    "    correct_045 = df['error_type_045'].value_counts().get('Correct', 0)\n",
    "    correct_120 = df['error_type_120'].value_counts().get('Correct', 0)\n",
    "\n",
    "    total_045 = len(df)\n",
    "    total_120 = len(df)\n",
    "\n",
    "    percentage_correct_045 = (correct_045 / total_045) * 100\n",
    "    percentage_correct_120 = (correct_120 / total_120) * 100\n",
    "\n",
    "    print(\n",
    "        f\"Percentage of corrects for Qiskit 0.45.0: {percentage_correct_045:.2f}%\")\n",
    "    print(\n",
    "        f\"Percentage of corrects for Qiskit 1.2.0: {percentage_correct_120:.2f}%\")\n",
    "\n",
    "    plt.tight_layout()\n",
    "\n",
    "    if save_path:\n",
    "        fig.savefig(save_path)\n",
    "\n",
    "    plt.show()\n",
    "    return fig, ax\n",
    "\n",
    "\n",
    "# Example usage\n",
    "fig, ax = show_error_types(\n",
    "    df_w_api, save_path='images/error_types_w_api.png')\n",
    "fig, ax = show_error_types(\n",
    "    df_no_api, save_path='images/error_types_no_api.png')"
   ]
  },
  {
   "cell_type": "code",
   "execution_count": 24,
   "metadata": {},
   "outputs": [
    {
     "data": {
      "text/markdown": [
       "# 0000011_ca8ef1_circuit"
      ],
      "text/plain": [
       "<IPython.core.display.Markdown object>"
      ]
     },
     "metadata": {},
     "output_type": "display_data"
    },
    {
     "data": {
      "text/markdown": [
       "## Code"
      ],
      "text/plain": [
       "<IPython.core.display.Markdown object>"
      ]
     },
     "metadata": {},
     "output_type": "display_data"
    },
    {
     "data": {
      "text/markdown": [
       "```python\n",
       "from qiskit import QuantumCircuit\n",
       "circuit = QuantumCircuit(2)\n",
       "circuit.sx(0)\n",
       "circuit.x(1)\n",
       "print(circuit)\n",
       "```"
      ],
      "text/plain": [
       "<IPython.core.display.Markdown object>"
      ]
     },
     "metadata": {},
     "output_type": "display_data"
    },
    {
     "data": {
      "text/markdown": [
       "## Logs"
      ],
      "text/plain": [
       "<IPython.core.display.Markdown object>"
      ]
     },
     "metadata": {},
     "output_type": "display_data"
    },
    {
     "data": {
      "text/markdown": [
       "### Qiskit 0.45.0"
      ],
      "text/plain": [
       "<IPython.core.display.Markdown object>"
      ]
     },
     "metadata": {},
     "output_type": "display_data"
    },
    {
     "data": {
      "text/markdown": [
       "```\n",
       "     ┌────┐\n",
       "q_0: ┤ √X ├\n",
       "     ├───┬┘\n",
       "q_1: ┤ X ├─\n",
       "     └───┘ \n",
       "```"
      ],
      "text/plain": [
       "<IPython.core.display.Markdown object>"
      ]
     },
     "metadata": {},
     "output_type": "display_data"
    },
    {
     "data": {
      "text/markdown": [
       "### Qiskit 1.2.0"
      ],
      "text/plain": [
       "<IPython.core.display.Markdown object>"
      ]
     },
     "metadata": {},
     "output_type": "display_data"
    },
    {
     "data": {
      "text/markdown": [
       "```\n",
       "     ┌────┐\n",
       "q_0: ┤ √X ├\n",
       "     ├───┬┘\n",
       "q_1: ┤ X ├─\n",
       "     └───┘ \n",
       "```"
      ],
      "text/plain": [
       "<IPython.core.display.Markdown object>"
      ]
     },
     "metadata": {},
     "output_type": "display_data"
    },
    {
     "data": {
      "text/markdown": [
       "## Metadata"
      ],
      "text/plain": [
       "<IPython.core.display.Markdown object>"
      ]
     },
     "metadata": {},
     "output_type": "display_data"
    },
    {
     "data": {
      "text/markdown": [
       "```json\n",
       "{\n",
       "    \"api_info\": {\n",
       "        \"api_name\": \"sx\",\n",
       "        \"full_api_name\": \"QuantumCircuit.sx\",\n",
       "        \"api_description\": \"Apply :class:`~qiskit.circuit.library.SXGate`.\\n\\nFor the full matrix form of this gate, see the underlying gate documentation.\\n\\nArgs:\\n    qubit: The qubit(s) to apply the gate to.\\n\\nReturns:\\n    A handle to the instructions created.\",\n",
       "        \"api_signature\": \"sx(self, qubit)\",\n",
       "        \"file_path\": \"/usr/local/lib/python3.10/site-packages/qiskit/circuit/quantumcircuit.py\"\n",
       "    },\n",
       "    \"dspy_store\": {\n",
       "        \"reasoning\": \"The provided API is QuantumCircuit.sx, which applies the SXGate to a qubit. To generate a program inspired by this API, we need to create a QuantumCircuit object, apply the sx gate to a qubit, and then use the resulting circuit.\",\n",
       "        \"generated_python_program\": \"from qiskit import QuantumCircuit\\ncircuit = QuantumCircuit(2)\\ncircuit.sx(0)\\ncircuit.x(1)\\nprint(circuit)\",\n",
       "        \"variable_name_of_circuit\": \"circuit\"\n",
       "    }\n",
       "}\n",
       "```"
      ],
      "text/plain": [
       "<IPython.core.display.Markdown object>"
      ]
     },
     "metadata": {},
     "output_type": "display_data"
    },
    {
     "data": {
      "text/markdown": [
       "# 0000012_2bab55_circuit"
      ],
      "text/plain": [
       "<IPython.core.display.Markdown object>"
      ]
     },
     "metadata": {},
     "output_type": "display_data"
    },
    {
     "data": {
      "text/markdown": [
       "## Code"
      ],
      "text/plain": [
       "<IPython.core.display.Markdown object>"
      ]
     },
     "metadata": {},
     "output_type": "display_data"
    },
    {
     "data": {
      "text/markdown": [
       "```python\n",
       "from qiskit import QuantumCircuit, execute, Aer\n",
       "from qiskit.result import Counts\n",
       "\n",
       "# Create a quantum circuit\n",
       "qc = QuantumCircuit(2, 2)\n",
       "\n",
       "# Add gates to the circuit\n",
       "qc.h(0)\n",
       "qc.cx(0, 1)\n",
       "qc.measure([0, 1], [0, 1])\n",
       "\n",
       "# Execute the circuit with a specified number of shots\n",
       "job = execute(qc, Aer.get_backend('qasm_simulator'), shots=1024)\n",
       "result = job.result()\n",
       "counts = result.get_counts(qc)\n",
       "\n",
       "# Use the Counts.shots API\n",
       "shots_count = counts.shots\n",
       "\n",
       "print(shots_count)\n",
       "```"
      ],
      "text/plain": [
       "<IPython.core.display.Markdown object>"
      ]
     },
     "metadata": {},
     "output_type": "display_data"
    },
    {
     "data": {
      "text/markdown": [
       "## Logs"
      ],
      "text/plain": [
       "<IPython.core.display.Markdown object>"
      ]
     },
     "metadata": {},
     "output_type": "display_data"
    },
    {
     "data": {
      "text/markdown": [
       "### Qiskit 0.45.0"
      ],
      "text/plain": [
       "<IPython.core.display.Markdown object>"
      ]
     },
     "metadata": {},
     "output_type": "display_data"
    },
    {
     "data": {
      "text/markdown": [
       "```\n",
       "<bound method Counts.shots of {'00': 534, '11': 490}>\n",
       "```"
      ],
      "text/plain": [
       "<IPython.core.display.Markdown object>"
      ]
     },
     "metadata": {},
     "output_type": "display_data"
    },
    {
     "data": {
      "text/markdown": [
       "### Qiskit 1.2.0"
      ],
      "text/plain": [
       "<IPython.core.display.Markdown object>"
      ]
     },
     "metadata": {},
     "output_type": "display_data"
    },
    {
     "data": {
      "text/markdown": [
       "```\n",
       "Traceback (most recent call last):\n",
       "  File \"/workspace/code_sample.py\", line 1, in <module>\n",
       "    from qiskit import QuantumCircuit, execute, Aer\n",
       "ImportError: cannot import name 'execute' from 'qiskit' (/usr/local/lib/python3.10/site-packages/qiskit/__init__.py)\n",
       "```"
      ],
      "text/plain": [
       "<IPython.core.display.Markdown object>"
      ]
     },
     "metadata": {},
     "output_type": "display_data"
    },
    {
     "data": {
      "text/markdown": [
       "## Metadata"
      ],
      "text/plain": [
       "<IPython.core.display.Markdown object>"
      ]
     },
     "metadata": {},
     "output_type": "display_data"
    },
    {
     "data": {
      "text/markdown": [
       "```json\n",
       "{\n",
       "    \"api_info\": {\n",
       "        \"api_name\": \"shots\",\n",
       "        \"full_api_name\": \"Counts.shots\",\n",
       "        \"api_description\": \"Return the number of shots\",\n",
       "        \"api_signature\": \"shots(self)\",\n",
       "        \"file_path\": \"/usr/local/lib/python3.10/site-packages/qiskit/result/counts.py\"\n",
       "    },\n",
       "    \"dspy_store\": {\n",
       "        \"reasoning\": \"To generate a program inspired by the Counts.shots API, we need to understand its purpose and functionality. The Counts.shots API returns the number of shots, which is a crucial parameter in quantum computing experiments. Shots represent the number of times a quantum circuit is run. The program will utilize this API by creating a QuantumCircuit, executing it with a specified number of shots, and then retrieving the number of shots using the Counts.shots method.\",\n",
       "        \"generated_python_program\": \"from qiskit import QuantumCircuit, execute, Aer\\nfrom qiskit.result import Counts\\n\\n# Create a quantum circuit\\nqc = QuantumCircuit(2, 2)\\n\\n# Add gates to the circuit\\nqc.h(0)\\nqc.cx(0, 1)\\nqc.measure([0, 1], [0, 1])\\n\\n# Execute the circuit with a specified number of shots\\njob = execute(qc, Aer.get_backend('qasm_simulator'), shots=1024)\\nresult = job.result()\\ncounts = result.get_counts(qc)\\n\\n# Use the Counts.shots API\\nshots_count = counts.shots\\n\\nprint(shots_count)\",\n",
       "        \"variable_name_of_circuit\": \"qc\"\n",
       "    }\n",
       "}\n",
       "```"
      ],
      "text/plain": [
       "<IPython.core.display.Markdown object>"
      ]
     },
     "metadata": {},
     "output_type": "display_data"
    }
   ],
   "source": [
    "from IPython.display import display, Markdown\n",
    "\n",
    "max_to_show = 2\n",
    "\n",
    "\n",
    "def pretty_print_summary(df: pd.DataFrame, max_to_show: int = 5):\n",
    "    for index, row in df.head(max_to_show).iterrows():\n",
    "        program_name = row['program_name']\n",
    "        log_045 = row['log_045']\n",
    "        log_120 = row['log_120']\n",
    "        success_045 = row['success_045']\n",
    "        success_120 = row['success_120']\n",
    "\n",
    "        program_path = os.path.join(\n",
    "            GENERATION_PATH_LLM_API, f\"{program_name}.py\")\n",
    "        program_code = Path(program_path).read_text()\n",
    "        display(Markdown(f\"# {program_name}\"))\n",
    "        display(Markdown(f\"## Code\"))\n",
    "        display(Markdown(f\"```python\\n{program_code}\\n```\"))\n",
    "        display(Markdown(f\"## Logs\"))\n",
    "        display(Markdown(f\"### Qiskit 0.45.0\"))\n",
    "        display(Markdown(f\"```\\n{log_045}```\"))\n",
    "        display(Markdown(f\"### Qiskit 1.2.0\"))\n",
    "        display(Markdown(f\"```\\n{log_120}```\"))\n",
    "        display(Markdown(f\"## Metadata\"))\n",
    "        display(Markdown(f\"```json\\n{row['metadata']}\\n```\"))\n",
    "\n",
    "\n",
    "df = summary_df[summary_df['error_type_045'] == 'Correct']\n",
    "# df = summary_df[summary_df['error_type_120'] == 'Correct']\n",
    "# df = summary_df[summary_df['error_type_045'] == 'ImportError']\n",
    "\n",
    "pretty_print_summary(df, max_to_show)"
   ]
  },
  {
   "cell_type": "code",
   "execution_count": 26,
   "metadata": {},
   "outputs": [
    {
     "data": {
      "text/markdown": [
       "# Different logs (98 programs)"
      ],
      "text/plain": [
       "<IPython.core.display.Markdown object>"
      ]
     },
     "metadata": {},
     "output_type": "display_data"
    },
    {
     "name": "stdout",
     "output_type": "stream",
     "text": [
      "executed_more_lines\n",
      "qiskit_045    16\n",
      "same          11\n",
      "Name: count, dtype: int64\n"
     ]
    },
    {
     "data": {
      "text/markdown": [
       "# 0000009_b3f5b0_circuit"
      ],
      "text/plain": [
       "<IPython.core.display.Markdown object>"
      ]
     },
     "metadata": {},
     "output_type": "display_data"
    },
    {
     "data": {
      "text/markdown": [
       "## Code"
      ],
      "text/plain": [
       "<IPython.core.display.Markdown object>"
      ]
     },
     "metadata": {},
     "output_type": "display_data"
    },
    {
     "data": {
      "text/markdown": [
       "```python\n",
       "from qiskit import QuantumCircuit, Aer, execute\n",
       "from qiskit.visualization import plot_histogram\n",
       "from qiskit.visualization.transition_visualization import animate\n",
       "\n",
       "qc = QuantumCircuit(2)\n",
       "qc.h(0)\n",
       "qc.cx(0, 1)\n",
       "qc.measure_all()\n",
       "\n",
       "backend = Aer.get_backend('qasm_simulator')\n",
       "job = execute(qc, backend, shots=1024)\n",
       "result = job.result()\n",
       "counts = result.get_counts(qc)\n",
       "\n",
       "for i in range(10):\n",
       "    animate(i)\n",
       "```"
      ],
      "text/plain": [
       "<IPython.core.display.Markdown object>"
      ]
     },
     "metadata": {},
     "output_type": "display_data"
    },
    {
     "data": {
      "text/markdown": [
       "## Logs"
      ],
      "text/plain": [
       "<IPython.core.display.Markdown object>"
      ]
     },
     "metadata": {},
     "output_type": "display_data"
    },
    {
     "data": {
      "text/markdown": [
       "### Qiskit 0.45.0"
      ],
      "text/plain": [
       "<IPython.core.display.Markdown object>"
      ]
     },
     "metadata": {},
     "output_type": "display_data"
    },
    {
     "data": {
      "text/markdown": [
       "```\n",
       "Traceback (most recent call last):\n",
       "  File \"/workspace/code_sample.py\", line 3, in <module>\n",
       "    from qiskit.visualization.transition_visualization import animate\n",
       "ImportError: cannot import name 'animate' from 'qiskit.visualization.transition_visualization' (/usr/local/lib/python3.10/site-packages/qiskit/visualization/transition_visualization.py)\n",
       "```"
      ],
      "text/plain": [
       "<IPython.core.display.Markdown object>"
      ]
     },
     "metadata": {},
     "output_type": "display_data"
    },
    {
     "data": {
      "text/markdown": [
       "### Qiskit 1.2.0"
      ],
      "text/plain": [
       "<IPython.core.display.Markdown object>"
      ]
     },
     "metadata": {},
     "output_type": "display_data"
    },
    {
     "data": {
      "text/markdown": [
       "```\n",
       "Traceback (most recent call last):\n",
       "  File \"/workspace/code_sample.py\", line 1, in <module>\n",
       "    from qiskit import QuantumCircuit, Aer, execute\n",
       "ImportError: cannot import name 'Aer' from 'qiskit' (/usr/local/lib/python3.10/site-packages/qiskit/__init__.py)\n",
       "```"
      ],
      "text/plain": [
       "<IPython.core.display.Markdown object>"
      ]
     },
     "metadata": {},
     "output_type": "display_data"
    },
    {
     "data": {
      "text/markdown": [
       "## Metadata"
      ],
      "text/plain": [
       "<IPython.core.display.Markdown object>"
      ]
     },
     "metadata": {},
     "output_type": "display_data"
    },
    {
     "data": {
      "text/markdown": [
       "```json\n",
       "{\n",
       "    \"api_info\": {\n",
       "        \"api_name\": \"animate\",\n",
       "        \"full_api_name\": \"animate\",\n",
       "        \"api_description\": \"\",\n",
       "        \"api_signature\": \"animate(i)\",\n",
       "        \"file_path\": \"/usr/local/lib/python3.10/site-packages/qiskit/visualization/transition_visualization.py\"\n",
       "    },\n",
       "    \"dspy_store\": {\n",
       "        \"reasoning\": \"The provided API is related to animation in the context of quantum computing, specifically for visualizing transitions. Given the animate function with a parameter i, it seems to be an animation frame index, suggesting the API is used to generate or display animations of quantum states or operations. The full API name is animate, located in a file related to transition visualization. This implies the API is intended to help visualize quantum state transitions or other dynamic processes in quantum computing.\",\n",
       "        \"generated_python_program\": \"from qiskit import QuantumCircuit, Aer, execute\\nfrom qiskit.visualization import plot_histogram\\nfrom qiskit.visualization.transition_visualization import animate\\n\\nqc = QuantumCircuit(2)\\nqc.h(0)\\nqc.cx(0, 1)\\nqc.measure_all()\\n\\nbackend = Aer.get_backend('qasm_simulator')\\njob = execute(qc, backend, shots=1024)\\nresult = job.result()\\ncounts = result.get_counts(qc)\\n\\nfor i in range(10):\\n    animate(i)\",\n",
       "        \"variable_name_of_circuit\": \"qc\"\n",
       "    }\n",
       "}\n",
       "```"
      ],
      "text/plain": [
       "<IPython.core.display.Markdown object>"
      ]
     },
     "metadata": {},
     "output_type": "display_data"
    },
    {
     "data": {
      "text/markdown": [
       "# 0000014_69879d_circuit"
      ],
      "text/plain": [
       "<IPython.core.display.Markdown object>"
      ]
     },
     "metadata": {},
     "output_type": "display_data"
    },
    {
     "data": {
      "text/markdown": [
       "## Code"
      ],
      "text/plain": [
       "<IPython.core.display.Markdown object>"
      ]
     },
     "metadata": {},
     "output_type": "display_data"
    },
    {
     "data": {
      "text/markdown": [
       "```python\n",
       "from qiskit import QuantumCircuit, execute\n",
       "from qiskit.qobj import Qobj\n",
       "from qiskit.qobj import pulse_instruction\n",
       "from qiskit.pulse import ShiftFrequency\n",
       "\n",
       "class InstructionToQobjConverter:\n",
       "    def _convert_shift_frequency(self, instruction, time_offset):\n",
       "        # This is a placeholder for the actual implementation\n",
       "        pass\n",
       "\n",
       "def main():\n",
       "    converter = InstructionToQobjConverter()\n",
       "    circuit = QuantumCircuit(1)\n",
       "    circuit.x(0)\n",
       "    instruction = ShiftFrequency(0.1, 0)\n",
       "    time_offset = 0.0\n",
       "    qobj_instruction = converter._convert_shift_frequency(instruction, time_offset)\n",
       "    # Create a Qobj\n",
       "    qobj = Qobj(instructions=[qobj_instruction])\n",
       "    print(qobj)\n",
       "\n",
       "if __name__ == \"__main__\":\n",
       "    main()\n",
       "```"
      ],
      "text/plain": [
       "<IPython.core.display.Markdown object>"
      ]
     },
     "metadata": {},
     "output_type": "display_data"
    },
    {
     "data": {
      "text/markdown": [
       "## Logs"
      ],
      "text/plain": [
       "<IPython.core.display.Markdown object>"
      ]
     },
     "metadata": {},
     "output_type": "display_data"
    },
    {
     "data": {
      "text/markdown": [
       "### Qiskit 0.45.0"
      ],
      "text/plain": [
       "<IPython.core.display.Markdown object>"
      ]
     },
     "metadata": {},
     "output_type": "display_data"
    },
    {
     "data": {
      "text/markdown": [
       "```\n",
       "Traceback (most recent call last):\n",
       "  File \"/workspace/code_sample.py\", line 2, in <module>\n",
       "    from qiskit.qobj import Qobj\n",
       "ImportError: cannot import name 'Qobj' from 'qiskit.qobj' (/usr/local/lib/python3.10/site-packages/qiskit/qobj/__init__.py)\n",
       "```"
      ],
      "text/plain": [
       "<IPython.core.display.Markdown object>"
      ]
     },
     "metadata": {},
     "output_type": "display_data"
    },
    {
     "data": {
      "text/markdown": [
       "### Qiskit 1.2.0"
      ],
      "text/plain": [
       "<IPython.core.display.Markdown object>"
      ]
     },
     "metadata": {},
     "output_type": "display_data"
    },
    {
     "data": {
      "text/markdown": [
       "```\n",
       "Traceback (most recent call last):\n",
       "  File \"/workspace/code_sample.py\", line 1, in <module>\n",
       "    from qiskit import QuantumCircuit, execute\n",
       "ImportError: cannot import name 'execute' from 'qiskit' (/usr/local/lib/python3.10/site-packages/qiskit/__init__.py)\n",
       "```"
      ],
      "text/plain": [
       "<IPython.core.display.Markdown object>"
      ]
     },
     "metadata": {},
     "output_type": "display_data"
    },
    {
     "data": {
      "text/markdown": [
       "## Metadata"
      ],
      "text/plain": [
       "<IPython.core.display.Markdown object>"
      ]
     },
     "metadata": {},
     "output_type": "display_data"
    },
    {
     "data": {
      "text/markdown": [
       "```json\n",
       "{\n",
       "    \"api_info\": {\n",
       "        \"api_name\": \"_convert_shift_frequency\",\n",
       "        \"full_api_name\": \"InstructionToQobjConverter._convert_shift_frequency\",\n",
       "        \"api_description\": \"Return converted `ShiftFrequency`.\\n\\nArgs:\\n    instruction: Qiskit Pulse shift frequency instruction.\\n    time_offset: Offset time.\\n\\nReturns:\\n    Qobj instruction data.\",\n",
       "        \"api_signature\": \"_convert_shift_frequency(self, instruction, time_offset)\",\n",
       "        \"file_path\": \"/usr/local/lib/python3.10/site-packages/qiskit/qobj/converters/pulse_instruction.py\"\n",
       "    },\n",
       "    \"dspy_store\": {\n",
       "        \"reasoning\": \"To generate a Python program inspired by the given Qiskit API, we need to import the necessary modules and use the provided API to create a QuantumCircuit object. The InstructionToQobjConverter._convert_shift_frequency function is used to convert a shift frequency instruction to a Qobj instruction data. We will create a class that utilizes this function to demonstrate its usage.\",\n",
       "        \"generated_python_program\": \"from qiskit import QuantumCircuit, execute\\nfrom qiskit.qobj import Qobj\\nfrom qiskit.qobj import pulse_instruction\\nfrom qiskit.pulse import ShiftFrequency\\n\\nclass InstructionToQobjConverter:\\n    def _convert_shift_frequency(self, instruction, time_offset):\\n        # This is a placeholder for the actual implementation\\n        pass\\n\\ndef main():\\n    converter = InstructionToQobjConverter()\\n    circuit = QuantumCircuit(1)\\n    circuit.x(0)\\n    instruction = ShiftFrequency(0.1, 0)\\n    time_offset = 0.0\\n    qobj_instruction = converter._convert_shift_frequency(instruction, time_offset)\\n    # Create a Qobj\\n    qobj = Qobj(instructions=[qobj_instruction])\\n    print(qobj)\\n\\nif __name__ == \\\"__main__\\\":\\n    main()\",\n",
       "        \"variable_name_of_circuit\": \"circuit\"\n",
       "    }\n",
       "}\n",
       "```"
      ],
      "text/plain": [
       "<IPython.core.display.Markdown object>"
      ]
     },
     "metadata": {},
     "output_type": "display_data"
    },
    {
     "data": {
      "text/markdown": [
       "# 0000030_968916_circuit"
      ],
      "text/plain": [
       "<IPython.core.display.Markdown object>"
      ]
     },
     "metadata": {},
     "output_type": "display_data"
    },
    {
     "data": {
      "text/markdown": [
       "## Code"
      ],
      "text/plain": [
       "<IPython.core.display.Markdown object>"
      ]
     },
     "metadata": {},
     "output_type": "display_data"
    },
    {
     "data": {
      "text/markdown": [
       "```python\n",
       "from qiskit import Aer, IBMQ\n",
       "from qiskit.providers.providerutils import filter_backends\n",
       "\n",
       "# Get the available backends\n",
       "IBMQ.load_account()\n",
       "backends = IBMQ.get_provider().backends()\n",
       "\n",
       "# Define a filtering condition to get only simulators\n",
       "def is_simulator(backend):\n",
       "    return backend.configuration().simulator\n",
       "\n",
       "# Filter backends using the filtering condition\n",
       "simulator_backends = filter_backends(backends, filters=is_simulator)\n",
       "\n",
       "# Create a QuantumCircuit object\n",
       "from qiskit import QuantumCircuit\n",
       "circuit = QuantumCircuit(2, 2)\n",
       "```"
      ],
      "text/plain": [
       "<IPython.core.display.Markdown object>"
      ]
     },
     "metadata": {},
     "output_type": "display_data"
    },
    {
     "data": {
      "text/markdown": [
       "## Logs"
      ],
      "text/plain": [
       "<IPython.core.display.Markdown object>"
      ]
     },
     "metadata": {},
     "output_type": "display_data"
    },
    {
     "data": {
      "text/markdown": [
       "### Qiskit 0.45.0"
      ],
      "text/plain": [
       "<IPython.core.display.Markdown object>"
      ]
     },
     "metadata": {},
     "output_type": "display_data"
    },
    {
     "data": {
      "text/markdown": [
       "```\n",
       "Traceback (most recent call last):\n",
       "  File \"/usr/local/lib/python3.10/site-packages/qiskit/__init__.py\", line 169, in __getattr__\n",
       "    from qiskit.providers import ibmq\n",
       "ImportError: cannot import name 'ibmq' from 'qiskit.providers' (/usr/local/lib/python3.10/site-packages/qiskit/providers/__init__.py)\n",
       "\n",
       "The above exception was the direct cause of the following exception:\n",
       "\n",
       "Traceback (most recent call last):\n",
       "  File \"/workspace/code_sample.py\", line 5, in <module>\n",
       "    IBMQ.load_account()\n",
       "  File \"/usr/local/lib/python3.10/site-packages/qiskit/__init__.py\", line 183, in __getattr__\n",
       "    raise MissingOptionalLibraryError(\n",
       "qiskit.exceptions.MissingOptionalLibraryError: \"The 'qiskit-ibmq-provider' library is required to use 'IBMQ provider'. You can install it with 'pip install qiskit-ibmq-provider'.\"\n",
       "```"
      ],
      "text/plain": [
       "<IPython.core.display.Markdown object>"
      ]
     },
     "metadata": {},
     "output_type": "display_data"
    },
    {
     "data": {
      "text/markdown": [
       "### Qiskit 1.2.0"
      ],
      "text/plain": [
       "<IPython.core.display.Markdown object>"
      ]
     },
     "metadata": {},
     "output_type": "display_data"
    },
    {
     "data": {
      "text/markdown": [
       "```\n",
       "Traceback (most recent call last):\n",
       "  File \"/workspace/code_sample.py\", line 1, in <module>\n",
       "    from qiskit import Aer, IBMQ\n",
       "ImportError: cannot import name 'Aer' from 'qiskit' (/usr/local/lib/python3.10/site-packages/qiskit/__init__.py)\n",
       "```"
      ],
      "text/plain": [
       "<IPython.core.display.Markdown object>"
      ]
     },
     "metadata": {},
     "output_type": "display_data"
    },
    {
     "data": {
      "text/markdown": [
       "## Metadata"
      ],
      "text/plain": [
       "<IPython.core.display.Markdown object>"
      ]
     },
     "metadata": {},
     "output_type": "display_data"
    },
    {
     "data": {
      "text/markdown": [
       "```json\n",
       "{\n",
       "    \"api_info\": {\n",
       "        \"api_name\": \"filter_backends\",\n",
       "        \"full_api_name\": \"filter_backends\",\n",
       "        \"api_description\": \"Return the backends matching the specified filtering.\\n\\nFilter the `backends` list by their `configuration` or `status`\\nattributes, or from a boolean callable. The criteria for filtering can\\nbe specified via `**kwargs` or as a callable via `filters`, and the\\nbackends must fulfill all specified conditions.\\n\\nArgs:\\n    backends (list[Backend]): list of backends.\\n    filters (callable): filtering conditions as a callable.\\n    **kwargs: dict of criteria.\\n\\nReturns:\\n    list[Backend]: a list of backend instances matching the\\n        conditions.\",\n",
       "        \"api_signature\": \"filter_backends(backends, filters)\",\n",
       "        \"file_path\": \"/usr/local/lib/python3.10/site-packages/qiskit/providers/providerutils.py\"\n",
       "    },\n",
       "    \"dspy_store\": {\n",
       "        \"reasoning\": \"To generate a Python program inspired by the `filter_backends` API, we need to understand its purpose and usage. The `filter_backends` function filters a list of backends based on certain conditions specified via keyword arguments or a callable function. In our program, we'll use the `filter_backends` function from Qiskit's `providerutils` module to filter backends that match specific conditions.\",\n",
       "        \"generated_python_program\": \"from qiskit import Aer, IBMQ\\nfrom qiskit.providers.providerutils import filter_backends\\n\\n# Get the available backends\\nIBMQ.load_account()\\nbackends = IBMQ.get_provider().backends()\\n\\n# Define a filtering condition to get only simulators\\ndef is_simulator(backend):\\n    return backend.configuration().simulator\\n\\n# Filter backends using the filtering condition\\nsimulator_backends = filter_backends(backends, filters=is_simulator)\\n\\n# Create a QuantumCircuit object\\nfrom qiskit import QuantumCircuit\\ncircuit = QuantumCircuit(2, 2)\",\n",
       "        \"variable_name_of_circuit\": \"circuit\"\n",
       "    }\n",
       "}\n",
       "```"
      ],
      "text/plain": [
       "<IPython.core.display.Markdown object>"
      ]
     },
     "metadata": {},
     "output_type": "display_data"
    },
    {
     "data": {
      "text/markdown": [
       "# 0000043_53ce50_circuit"
      ],
      "text/plain": [
       "<IPython.core.display.Markdown object>"
      ]
     },
     "metadata": {},
     "output_type": "display_data"
    },
    {
     "data": {
      "text/markdown": [
       "## Code"
      ],
      "text/plain": [
       "<IPython.core.display.Markdown object>"
      ]
     },
     "metadata": {},
     "output_type": "display_data"
    },
    {
     "data": {
      "text/markdown": [
       "```python\n",
       "from qiskit import QuantumCircuit, execute\n",
       "from qiskit.pulse.library.samplers.decorators import generate_sampler\n",
       "\n",
       "def continuous_pulse(x):\n",
       "    return x\n",
       "\n",
       "sampler = generate_sampler(continuous_pulse)\n",
       "\n",
       "qc = QuantumCircuit(1)\n",
       "qc.h(0)\n",
       "qc.measure_all()\n",
       "\n",
       "samples = sampler(qc)\n",
       "\n",
       "print(samples)\n",
       "```"
      ],
      "text/plain": [
       "<IPython.core.display.Markdown object>"
      ]
     },
     "metadata": {},
     "output_type": "display_data"
    },
    {
     "data": {
      "text/markdown": [
       "## Logs"
      ],
      "text/plain": [
       "<IPython.core.display.Markdown object>"
      ]
     },
     "metadata": {},
     "output_type": "display_data"
    },
    {
     "data": {
      "text/markdown": [
       "### Qiskit 0.45.0"
      ],
      "text/plain": [
       "<IPython.core.display.Markdown object>"
      ]
     },
     "metadata": {},
     "output_type": "display_data"
    },
    {
     "data": {
      "text/markdown": [
       "```\n",
       "Traceback (most recent call last):\n",
       "  File \"/workspace/code_sample.py\", line 2, in <module>\n",
       "    from qiskit.pulse.library.samplers.decorators import generate_sampler\n",
       "ImportError: cannot import name 'generate_sampler' from 'qiskit.pulse.library.samplers.decorators' (/usr/local/lib/python3.10/site-packages/qiskit/pulse/library/samplers/decorators.py)\n",
       "```"
      ],
      "text/plain": [
       "<IPython.core.display.Markdown object>"
      ]
     },
     "metadata": {},
     "output_type": "display_data"
    },
    {
     "data": {
      "text/markdown": [
       "### Qiskit 1.2.0"
      ],
      "text/plain": [
       "<IPython.core.display.Markdown object>"
      ]
     },
     "metadata": {},
     "output_type": "display_data"
    },
    {
     "data": {
      "text/markdown": [
       "```\n",
       "Traceback (most recent call last):\n",
       "  File \"/workspace/code_sample.py\", line 1, in <module>\n",
       "    from qiskit import QuantumCircuit, execute\n",
       "ImportError: cannot import name 'execute' from 'qiskit' (/usr/local/lib/python3.10/site-packages/qiskit/__init__.py)\n",
       "```"
      ],
      "text/plain": [
       "<IPython.core.display.Markdown object>"
      ]
     },
     "metadata": {},
     "output_type": "display_data"
    },
    {
     "data": {
      "text/markdown": [
       "## Metadata"
      ],
      "text/plain": [
       "<IPython.core.display.Markdown object>"
      ]
     },
     "metadata": {},
     "output_type": "display_data"
    },
    {
     "data": {
      "text/markdown": [
       "```json\n",
       "{\n",
       "    \"api_info\": {\n",
       "        \"api_name\": \"generate_sampler\",\n",
       "        \"full_api_name\": \"generate_sampler\",\n",
       "        \"api_description\": \"Return a decorated sampler function.\",\n",
       "        \"api_signature\": \"generate_sampler(continuous_pulse)\",\n",
       "        \"file_path\": \"/usr/local/lib/python3.10/site-packages/qiskit/pulse/library/samplers/decorators.py\"\n",
       "    },\n",
       "    \"dspy_store\": {\n",
       "        \"reasoning\": \"To generate a program inspired by the given Qiskit API, we need to understand the purpose of the `generate_sampler` function. It returns a decorated sampler function, which is used to sample a continuous pulse. We will use this function to create a QuantumCircuit object and demonstrate its usage.\",\n",
       "        \"generated_python_program\": \"from qiskit import QuantumCircuit, execute\\nfrom qiskit.pulse.library.samplers.decorators import generate_sampler\\n\\ndef continuous_pulse(x):\\n    return x\\n\\nsampler = generate_sampler(continuous_pulse)\\n\\nqc = QuantumCircuit(1)\\nqc.h(0)\\nqc.measure_all()\\n\\nsamples = sampler(qc)\\n\\nprint(samples)\",\n",
       "        \"variable_name_of_circuit\": \"qc\"\n",
       "    }\n",
       "}\n",
       "```"
      ],
      "text/plain": [
       "<IPython.core.display.Markdown object>"
      ]
     },
     "metadata": {},
     "output_type": "display_data"
    },
    {
     "data": {
      "text/markdown": [
       "# 0000051_9a74f0_circuit"
      ],
      "text/plain": [
       "<IPython.core.display.Markdown object>"
      ]
     },
     "metadata": {},
     "output_type": "display_data"
    },
    {
     "data": {
      "text/markdown": [
       "## Code"
      ],
      "text/plain": [
       "<IPython.core.display.Markdown object>"
      ]
     },
     "metadata": {},
     "output_type": "display_data"
    },
    {
     "data": {
      "text/markdown": [
       "```python\n",
       "from qiskit import pulse\n",
       "from qiskit.pulse import Instruction\n",
       "from qiskit.pulse import Schedule\n",
       "from qiskit.pulse import Play, DriveChannel, MeasureChannel\n",
       "\n",
       "# Create a drive channel\n",
       "drive_chan = DriveChannel(0)\n",
       "\n",
       "# Create a measure channel\n",
       "meas_chan = MeasureChannel(0)\n",
       "\n",
       "# Create a schedule\n",
       "sched = Schedule(name='original schedule')\n",
       "\n",
       "# Add a pulse to the schedule\n",
       "sched = sched.insert(0, Play(pulse.Constant(100, 0.5), drive_chan), name='original pulse')\n",
       "\n",
       "# Create an instruction\n",
       "instruction = Play(pulse.Constant(100, 0.5), drive_chan)\n",
       "\n",
       "# Insert the instruction into the schedule at time 100\n",
       "new_sched = sched.insert(100, instruction)\n",
       "\n",
       "print(new_sched)\n",
       "```"
      ],
      "text/plain": [
       "<IPython.core.display.Markdown object>"
      ]
     },
     "metadata": {},
     "output_type": "display_data"
    },
    {
     "data": {
      "text/markdown": [
       "## Logs"
      ],
      "text/plain": [
       "<IPython.core.display.Markdown object>"
      ]
     },
     "metadata": {},
     "output_type": "display_data"
    },
    {
     "data": {
      "text/markdown": [
       "### Qiskit 0.45.0"
      ],
      "text/plain": [
       "<IPython.core.display.Markdown object>"
      ]
     },
     "metadata": {},
     "output_type": "display_data"
    },
    {
     "data": {
      "text/markdown": [
       "```\n",
       "Schedule((0, Play(Constant(duration=100, amp=0.5, angle=0), DriveChannel(0))), (100, Play(Constant(duration=100, amp=0.5, angle=0), DriveChannel(0))), name=\"original pulse\")\n",
       "```"
      ],
      "text/plain": [
       "<IPython.core.display.Markdown object>"
      ]
     },
     "metadata": {},
     "output_type": "display_data"
    },
    {
     "data": {
      "text/markdown": [
       "### Qiskit 1.2.0"
      ],
      "text/plain": [
       "<IPython.core.display.Markdown object>"
      ]
     },
     "metadata": {},
     "output_type": "display_data"
    },
    {
     "data": {
      "text/markdown": [
       "```\n",
       "Schedule((0, Play(Constant(duration=100, amp=0.5, angle=0.0), DriveChannel(0))), (100, Play(Constant(duration=100, amp=0.5, angle=0.0), DriveChannel(0))), name=\"original pulse\")\n",
       "```"
      ],
      "text/plain": [
       "<IPython.core.display.Markdown object>"
      ]
     },
     "metadata": {},
     "output_type": "display_data"
    },
    {
     "data": {
      "text/markdown": [
       "## Metadata"
      ],
      "text/plain": [
       "<IPython.core.display.Markdown object>"
      ]
     },
     "metadata": {},
     "output_type": "display_data"
    },
    {
     "data": {
      "text/markdown": [
       "```json\n",
       "{\n",
       "    \"api_info\": {\n",
       "        \"api_name\": \"insert\",\n",
       "        \"full_api_name\": \"Instruction.insert\",\n",
       "        \"api_description\": \"Return a new :class:`~qiskit.pulse.Schedule` with ``schedule`` inserted within\\n``self`` at ``start_time``.\\n\\nArgs:\\n    start_time: Time to insert the schedule schedule\\n    schedule (Union['Schedule', 'Instruction']): Schedule or instruction to insert\\n    name: Name of the new schedule. Defaults to name of self\\n\\nReturns:\\n    Schedule: A new schedule with ``schedule`` inserted with this instruction at t=0.\",\n",
       "        \"api_signature\": \"insert(self, start_time, schedule, name)\",\n",
       "        \"file_path\": \"/usr/local/lib/python3.10/site-packages/qiskit/pulse/instructions/instruction.py\"\n",
       "    },\n",
       "    \"dspy_store\": {\n",
       "        \"reasoning\": \"To generate a program inspired by the Instruction.insert API, we first need to import the necessary modules from the Qiskit library. We will import the Instruction and Schedule classes, as well as the drive_channel and measure_channel classes from qiskit.pulse. Then, we will create an Instruction object and use the insert method to create a new Schedule. This new Schedule will have another Instruction inserted within it at a specified start time.\",\n",
       "        \"generated_python_program\": \"from qiskit import pulse\\nfrom qiskit.pulse import Instruction\\nfrom qiskit.pulse import Schedule\\nfrom qiskit.pulse import Play, DriveChannel, MeasureChannel\\n\\n# Create a drive channel\\ndrive_chan = DriveChannel(0)\\n\\n# Create a measure channel\\nmeas_chan = MeasureChannel(0)\\n\\n# Create a schedule\\nsched = Schedule(name='original schedule')\\n\\n# Add a pulse to the schedule\\nsched = sched.insert(0, Play(pulse.Constant(100, 0.5), drive_chan), name='original pulse')\\n\\n# Create an instruction\\ninstruction = Play(pulse.Constant(100, 0.5), drive_chan)\\n\\n# Insert the instruction into the schedule at time 100\\nnew_sched = sched.insert(100, instruction)\\n\\nprint(new_sched)\",\n",
       "        \"variable_name_of_circuit\": \"The variable name of the QuantumCircuit object is not directly applicable here, as we are working with the Instruction and Schedule classes from the qiskit.pulse module. However, the variable name of the Schedule object, which is the closest equivalent, is \\\"new_sched\\\" for the new schedule and \\\"sched\\\" for the original schedule.\"\n",
       "    }\n",
       "}\n",
       "```"
      ],
      "text/plain": [
       "<IPython.core.display.Markdown object>"
      ]
     },
     "metadata": {},
     "output_type": "display_data"
    }
   ],
   "source": [
    "import difflib\n",
    "\n",
    "\n",
    "def are_different_in_memory_address(log1: str, log2: str) -> bool:\n",
    "    # different only in the memory address of the object\n",
    "    diff = difflib.ndiff(log1.splitlines(), log2.splitlines())\n",
    "    for line in diff:\n",
    "        if re.search(r'object at 0x[0-9a-f]+>', line):\n",
    "            return True\n",
    "    return False\n",
    "\n",
    "\n",
    "def last_line(log: str) -> str:\n",
    "    return log.splitlines()[-1] if log.splitlines() else ''\n",
    "\n",
    "\n",
    "def are_logs_meaningfully_different(log1: str, log2: str) -> bool:\n",
    "    if last_line(log1) != last_line(log2):\n",
    "        if are_different_in_memory_address(last_line(log1), last_line(log2)):\n",
    "            return False\n",
    "        return True\n",
    "    return False\n",
    "\n",
    "\n",
    "df_same_error_type_diff_logs = summary_df[\n",
    "    (summary_df['error_type_045'] == summary_df['error_type_120']) &\n",
    "    # (summary_df['log_045'].apply(last_line) != summary_df['log_120'].apply(last_line))\n",
    "    summary_df.apply(lambda row: are_logs_meaningfully_different(\n",
    "        row['log_045'], row['log_120']), axis=1)\n",
    "]\n",
    "\n",
    "# n_data = len(df_same_error_type_diff_logs)\n",
    "# display(Markdown(\n",
    "#     f\"# Same error but different logs ({n_data} programs)\"))\n",
    "# pretty_print_summary(df_same_error_type_diff_logs, max_to_show=n_data)\n",
    "\n",
    "df_different_logs = summary_df[\n",
    "    summary_df.apply(lambda row: are_logs_meaningfully_different(\n",
    "        row['log_045'], row['log_120']), axis=1)\n",
    "]\n",
    "\n",
    "n_data = len(df_different_logs)\n",
    "display(Markdown(f\"# Different logs ({n_data} programs)\"))\n",
    "# pretty_print_summary(df_different_logs, max_to_show=n_data)\n",
    "\n",
    "\n",
    "def determine_executed_more_lines(row):\n",
    "    row_045 = row[\"last_executed_row_045\"]\n",
    "    row_120 = row[\"last_executed_row_120\"]\n",
    "\n",
    "    if pd.isna(row_045) and pd.isna(row_120):\n",
    "        return \"same\"\n",
    "\n",
    "    row_045 = int(row_045) if not pd.isna(row_045) else None\n",
    "    row_120 = int(row_120) if not pd.isna(row_120) else None\n",
    "\n",
    "    if row_045 is None:\n",
    "        return \"qiskit_120\"\n",
    "    if row_120 is None:\n",
    "        return \"qiskit_045\"\n",
    "\n",
    "    if row_120 > row_045:\n",
    "        return \"qiskit_120\"\n",
    "    elif row_120 < row_045:\n",
    "        return \"qiskit_045\"\n",
    "    else:\n",
    "        return \"same\"\n",
    "\n",
    "\n",
    "df_same_error_type_diff_logs = df_same_error_type_diff_logs.copy()\n",
    "df_same_error_type_diff_logs[\"executed_more_lines\"] = df_same_error_type_diff_logs.apply(\n",
    "    determine_executed_more_lines, axis=1)\n",
    "res = df_same_error_type_diff_logs[\"executed_more_lines\"].value_counts()\n",
    "print(res)\n",
    "pretty_print_summary(df_same_error_type_diff_logs, max_to_show=5)"
   ]
  },
  {
   "cell_type": "code",
   "execution_count": null,
   "metadata": {},
   "outputs": [],
   "source": []
  }
 ],
 "metadata": {
  "kernelspec": {
   "display_name": "crosspl",
   "language": "python",
   "name": "python3"
  },
  "language_info": {
   "codemirror_mode": {
    "name": "ipython",
    "version": 3
   },
   "file_extension": ".py",
   "mimetype": "text/x-python",
   "name": "python",
   "nbconvert_exporter": "python",
   "pygments_lexer": "ipython3",
   "version": "3.10.14"
  }
 },
 "nbformat": 4,
 "nbformat_minor": 2
}
