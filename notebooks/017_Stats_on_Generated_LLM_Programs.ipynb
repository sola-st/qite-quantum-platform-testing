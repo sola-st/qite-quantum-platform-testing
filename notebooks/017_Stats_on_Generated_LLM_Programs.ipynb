{
 "cells": [
  {
   "cell_type": "code",
   "execution_count": 1,
   "metadata": {},
   "outputs": [
    {
     "name": "stdout",
     "output_type": "stream",
     "text": [
      "INFO: Pandarallel will run on 24 workers.\n",
      "INFO: Pandarallel will use Memory file system to transfer data between the main process and workers.\n"
     ]
    }
   ],
   "source": [
    "from typing import List, Tuple, Dict, Any, Optional\n",
    "from pandarallel import pandarallel\n",
    "import os\n",
    "import re\n",
    "import sys\n",
    "import json\n",
    "from pathlib import Path\n",
    "\n",
    "import numpy as np\n",
    "import matplotlib.pyplot as plt\n",
    "import seaborn as sns\n",
    "\n",
    "import pandas as pd\n",
    "from tqdm.auto import tqdm\n",
    "tqdm.pandas()\n",
    "pandarallel.initialize(progress_bar=True)"
   ]
  },
  {
   "cell_type": "code",
   "execution_count": 2,
   "metadata": {},
   "outputs": [],
   "source": [
    "import sys\n",
    "BASE_PATH = \"..\"\n",
    "sys.path.append(BASE_PATH)\n",
    "\n",
    "# GENERATION_PATH_LLM_API = Path(\n",
    "#     BASE_PATH, \"program_bank/v016/2025_01_13__11_30__qiskit\")\n",
    "GENERATION_PATH_LLM_API = Path(\n",
    "    BASE_PATH, \"program_bank/v016/2025_01_13__11_47__qiskit\")"
   ]
  },
  {
   "cell_type": "markdown",
   "metadata": {},
   "source": [
    "### Task description: Run Qiskit Scripts\n",
    "\n",
    "**Objective:**\n",
    "Develop a Python script to scan and run Qiskit scripts ending in `circuit.py` from a specified directory using two different versions of Qiskit Docker images. The script should log the results and errors for each version, generate a summary report, and visualize the error analysis.\n",
    "\n",
    "**Requirements:**\n",
    "1. **Directory Scanning:**\n",
    "   - Scan the directory specified by the global variable `GENERATION_PATH_LLM_API` for all Python files ending with `circuit.py`.\n",
    "\n",
    "2. **Running Qiskit Scripts:**\n",
    "   - For each identified script, run it using two versions of Qiskit Docker images:\n",
    "     - Version 1: `qiskit_image_1.2.0`\n",
    "     - Version 2: `qiskit_image_0.45.0`\n",
    "   - Use the `run_qiskit_code_in_docker` function from `aiexchange.tools.docker_tools` to execute the scripts.\n",
    "   - Use `tqdm` to display progress information during script execution.\n",
    "\n",
    "3. **Logging Results:**\n",
    "   - Log the output and errors for each script run with both versions.\n",
    "   - Store the logs in the same directory as the script with the following naming convention:\n",
    "     - For version 1.2.0: `<program_name_without_py>_120.log`\n",
    "     - For version 0.45.0: `<program_name_without_py>_045.log`\n",
    "\n",
    "4. **Success Criteria:**\n",
    "   - A script run is considered successful if `\"traceback\" not in logs.lower()` and `\"SyntaxError\" not in logs`.\n",
    "\n",
    "5. **Summary Report:**\n",
    "   - Generate a summary report indicating how many scripts successfully ran with both versions.\n",
    "   - Store the summary report in the specified directory.\n",
    "   - Create a routine at the end of the script to read all the logs into a Pandas DataFrame with the following columns:\n",
    "     - `program_name`\n",
    "     - `log_045`\n",
    "     - `log_120`\n",
    "     - `error_045` (contains either \"syntax\" or \"runtime\")\n",
    "     - `error_120` (contains either \"syntax\" or \"runtime\")\n",
    "     - `success_045` (boolean)\n",
    "     - `success_120` (boolean)\n",
    "\n",
    "6. **Error Analysis and Visualization:**\n",
    "   - Count the number of syntax errors and other traceback errors for each version.\n",
    "   - Plot a stacked histogram showing the number of syntax errors and other traceback errors for each version.\n"
   ]
  },
  {
   "cell_type": "code",
   "execution_count": 7,
   "metadata": {},
   "outputs": [
    {
     "name": "stdout",
     "output_type": "stream",
     "text": [
      "Found 100 scripts to run\n"
     ]
    },
    {
     "data": {
      "application/vnd.jupyter.widget-view+json": {
       "model_id": "4589f15a14c64a90b07ccfba0a253411",
       "version_major": 2,
       "version_minor": 0
      },
      "text/plain": [
       "Running scripts with Qiskit qiskit_image_0.45.0:   0%|          | 0/100 [00:00<?, ?it/s]"
      ]
     },
     "metadata": {},
     "output_type": "display_data"
    },
    {
     "data": {
      "application/vnd.jupyter.widget-view+json": {
       "model_id": "459264be1d784ad38160f674ddb8f2cc",
       "version_major": 2,
       "version_minor": 0
      },
      "text/plain": [
       "Running scripts with Qiskit qiskit_image_1.2.0:   0%|          | 0/100 [00:00<?, ?it/s]"
      ]
     },
     "metadata": {},
     "output_type": "display_data"
    }
   ],
   "source": [
    "from aiexchange.tools.docker_tools import run_qiskit_code_in_docker\n",
    "\n",
    "# Directory scanning\n",
    "\n",
    "\n",
    "def scan_directory_for_scripts(directory: str) -> List[str]:\n",
    "    return [str(path) for path in Path(directory).rglob('*circuit.py')]\n",
    "\n",
    "# Running Qiskit scripts\n",
    "\n",
    "\n",
    "def extract_version(image_name: str) -> str:\n",
    "    ver_w_dots = re.search(\n",
    "        r'qiskit_image_(\\d+\\.\\d+\\.\\d+)', image_name).group(1)\n",
    "    return ver_w_dots.replace('.', '')\n",
    "\n",
    "\n",
    "def run_scripts(\n",
    "        scripts_paths: List[Path],\n",
    "        qiskit_image_name: str) -> Tuple[str]:\n",
    "    logs = []\n",
    "    for script_path in tqdm(\n",
    "            scripts_paths, desc=f\"Running scripts with Qiskit {qiskit_image_name}\"):\n",
    "        script_content = Path(script_path).read_text()\n",
    "        # check if result was already computed\n",
    "        ver_suffix = extract_version(qiskit_image_name)\n",
    "        log_result = f\"{Path(script_path).stem}_{ver_suffix}.log\"\n",
    "        if Path(script_path).parent / log_result in Path(script_path).parent.glob(\n",
    "                f\"*_{ver_suffix}.log\"):\n",
    "            with open(Path(script_path).parent / log_result, 'r') as f:\n",
    "                log = f.read()\n",
    "        else:\n",
    "            log = run_qiskit_code_in_docker(script_content, qiskit_image_name)\n",
    "            with open(Path(script_path).parent / log_result, 'w') as f:\n",
    "                f.write(log)\n",
    "        logs.append(log)\n",
    "    return logs\n",
    "# Summary report\n",
    "\n",
    "\n",
    "def generate_summary_report(\n",
    "        logs_045: Tuple[str],\n",
    "        logs_120: Tuple[str]) -> pd.DataFrame:\n",
    "    data = []\n",
    "    for log_045, log_120 in zip(logs_045, logs_120):\n",
    "        data.append(\n",
    "            {'log_045': log_045, 'log_120': log_120})\n",
    "    return pd.DataFrame(data)\n",
    "\n",
    "\n",
    "# Main execution\n",
    "scripts_paths = scan_directory_for_scripts(GENERATION_PATH_LLM_API)\n",
    "print(f\"Found {len(scripts_paths)} scripts to run\")\n",
    "\n",
    "logs_045 = run_scripts(scripts_paths, qiskit_image_name='qiskit_image_0.45.0')\n",
    "logs_120 = run_scripts(scripts_paths, qiskit_image_name='qiskit_image_1.2.0')"
   ]
  },
  {
   "cell_type": "code",
   "execution_count": 8,
   "metadata": {},
   "outputs": [],
   "source": [
    "\n",
    "summary_df = generate_summary_report(logs_045, logs_120)\n",
    "summary_df[\"program_name\"] = [Path(script).stem for script in scripts_paths]\n",
    "summary_df = summary_df.sort_values(by=\"program_name\")\n",
    "\n",
    "summary_df[\"metadata\"] = summary_df[\"program_name\"].apply(\n",
    "    lambda name: json.dumps(\n",
    "        json.load(\n",
    "            open(\n",
    "                Path(\n",
    "                    GENERATION_PATH_LLM_API,\n",
    "                    f\"{name.replace('circuit', 'metadata')}.json\"))),\n",
    "        indent=4))\n",
    "\n",
    "\n",
    "def extract_error_type(log: str) -> str:\n",
    "    match = re.search(r'(\\w+Error)', log)\n",
    "    if match:\n",
    "        return match.group(1)\n",
    "    return 'Correct'\n",
    "\n",
    "\n",
    "summary_df['error_type_045'] = summary_df['log_045'].apply(extract_error_type)\n",
    "summary_df['error_type_120'] = summary_df['log_120'].apply(extract_error_type)\n",
    "\n",
    "\n",
    "def get_error_throwing_line(log: str) -> Optional[int]:\n",
    "    match = re.search(r'File \"/workspace/code_sample.py\", line (\\d+)', log)\n",
    "    if match:\n",
    "        return int(match.group(1))\n",
    "    return None\n",
    "\n",
    "\n",
    "summary_df['last_executed_row_045'] = summary_df['log_045'].apply(\n",
    "    get_error_throwing_line).astype('Int64')\n",
    "summary_df['last_executed_row_120'] = summary_df['log_120'].apply(\n",
    "    get_error_throwing_line).astype('Int64')\n",
    "\n",
    "\n",
    "def is_successful(log: str) -> bool:\n",
    "    return \"traceback\" not in log.lower() and \"SyntaxError\" not in log and not \"IndentationError\" in log\n",
    "\n",
    "\n",
    "summary_df[\"success_045\"] = summary_df[\"log_045\"].apply(is_successful)\n",
    "summary_df[\"success_120\"] = summary_df[\"log_120\"].apply(is_successful)\n",
    "\n",
    "\n",
    "summary_df.to_csv(\n",
    "    Path(GENERATION_PATH_LLM_API) / 'summary_report.csv', index=False)"
   ]
  },
  {
   "cell_type": "code",
   "execution_count": 9,
   "metadata": {},
   "outputs": [
    {
     "data": {
      "text/html": [
       "<div>\n",
       "<style scoped>\n",
       "    .dataframe tbody tr th:only-of-type {\n",
       "        vertical-align: middle;\n",
       "    }\n",
       "\n",
       "    .dataframe tbody tr th {\n",
       "        vertical-align: top;\n",
       "    }\n",
       "\n",
       "    .dataframe thead th {\n",
       "        text-align: right;\n",
       "    }\n",
       "</style>\n",
       "<table border=\"1\" class=\"dataframe\">\n",
       "  <thead>\n",
       "    <tr style=\"text-align: right;\">\n",
       "      <th></th>\n",
       "      <th>log_045</th>\n",
       "      <th>log_120</th>\n",
       "      <th>program_name</th>\n",
       "      <th>metadata</th>\n",
       "      <th>error_type_045</th>\n",
       "      <th>error_type_120</th>\n",
       "      <th>last_executed_row_045</th>\n",
       "      <th>last_executed_row_120</th>\n",
       "      <th>success_045</th>\n",
       "      <th>success_120</th>\n",
       "    </tr>\n",
       "  </thead>\n",
       "  <tbody>\n",
       "    <tr>\n",
       "      <th>19</th>\n",
       "      <td>Traceback (most recent call last):\\n  File \"/w...</td>\n",
       "      <td>/workspace/code_sample.py:7: DeprecationWarnin...</td>\n",
       "      <td>0000001_07bf22_circuit</td>\n",
       "      <td>{\\n    \"api_info\": {\\n        \"api_name\": \"__e...</td>\n",
       "      <td>TypeError</td>\n",
       "      <td>TypeError</td>\n",
       "      <td>7</td>\n",
       "      <td>7</td>\n",
       "      <td>False</td>\n",
       "      <td>False</td>\n",
       "    </tr>\n",
       "    <tr>\n",
       "      <th>28</th>\n",
       "      <td>Traceback (most recent call last):\\n  File \"/w...</td>\n",
       "      <td>Traceback (most recent call last):\\n  File \"/w...</td>\n",
       "      <td>0000002_b025f1_circuit</td>\n",
       "      <td>{\\n    \"api_info\": {\\n        \"api_name\": \"_bu...</td>\n",
       "      <td>TypeError</td>\n",
       "      <td>TypeError</td>\n",
       "      <td>24</td>\n",
       "      <td>24</td>\n",
       "      <td>False</td>\n",
       "      <td>False</td>\n",
       "    </tr>\n",
       "    <tr>\n",
       "      <th>15</th>\n",
       "      <td>Traceback (most recent call last):\\n  File \"/w...</td>\n",
       "      <td>Traceback (most recent call last):\\n  File \"/w...</td>\n",
       "      <td>0000003_58aebb_circuit</td>\n",
       "      <td>{\\n    \"api_info\": {\\n        \"api_name\": \"_er...</td>\n",
       "      <td>ModuleNotFoundError</td>\n",
       "      <td>ModuleNotFoundError</td>\n",
       "      <td>2</td>\n",
       "      <td>2</td>\n",
       "      <td>False</td>\n",
       "      <td>False</td>\n",
       "    </tr>\n",
       "    <tr>\n",
       "      <th>50</th>\n",
       "      <td>Traceback (most recent call last):\\n  File \"/w...</td>\n",
       "      <td>Traceback (most recent call last):\\n  File \"/w...</td>\n",
       "      <td>0000004_6f983a_circuit</td>\n",
       "      <td>{\\n    \"api_info\": {\\n        \"api_name\": \"dec...</td>\n",
       "      <td>ModuleNotFoundError</td>\n",
       "      <td>ModuleNotFoundError</td>\n",
       "      <td>2</td>\n",
       "      <td>2</td>\n",
       "      <td>False</td>\n",
       "      <td>False</td>\n",
       "    </tr>\n",
       "    <tr>\n",
       "      <th>83</th>\n",
       "      <td>[0.5]\\n</td>\n",
       "      <td>[0.5]\\n</td>\n",
       "      <td>0000005_07a495_circuit</td>\n",
       "      <td>{\\n    \"api_info\": {\\n        \"api_name\": \"_ge...</td>\n",
       "      <td>Correct</td>\n",
       "      <td>Correct</td>\n",
       "      <td>&lt;NA&gt;</td>\n",
       "      <td>&lt;NA&gt;</td>\n",
       "      <td>True</td>\n",
       "      <td>True</td>\n",
       "    </tr>\n",
       "    <tr>\n",
       "      <th>...</th>\n",
       "      <td>...</td>\n",
       "      <td>...</td>\n",
       "      <td>...</td>\n",
       "      <td>...</td>\n",
       "      <td>...</td>\n",
       "      <td>...</td>\n",
       "      <td>...</td>\n",
       "      <td>...</td>\n",
       "      <td>...</td>\n",
       "      <td>...</td>\n",
       "    </tr>\n",
       "    <tr>\n",
       "      <th>6</th>\n",
       "      <td>Traceback (most recent call last):\\n  File \"/w...</td>\n",
       "      <td>Traceback (most recent call last):\\n  File \"/w...</td>\n",
       "      <td>0000096_80dec1_circuit</td>\n",
       "      <td>{\\n    \"api_info\": {\\n        \"api_name\": \"exp...</td>\n",
       "      <td>TypeError</td>\n",
       "      <td>TypeError</td>\n",
       "      <td>19</td>\n",
       "      <td>19</td>\n",
       "      <td>False</td>\n",
       "      <td>False</td>\n",
       "    </tr>\n",
       "    <tr>\n",
       "      <th>56</th>\n",
       "      <td>[]\\n</td>\n",
       "      <td>[]\\n</td>\n",
       "      <td>0000097_31010c_circuit</td>\n",
       "      <td>{\\n    \"api_info\": {\\n        \"api_name\": \"com...</td>\n",
       "      <td>Correct</td>\n",
       "      <td>Correct</td>\n",
       "      <td>&lt;NA&gt;</td>\n",
       "      <td>&lt;NA&gt;</td>\n",
       "      <td>True</td>\n",
       "      <td>True</td>\n",
       "    </tr>\n",
       "    <tr>\n",
       "      <th>67</th>\n",
       "      <td>1.0\\n</td>\n",
       "      <td>Traceback (most recent call last):\\n  File \"/w...</td>\n",
       "      <td>0000098_51b298_circuit</td>\n",
       "      <td>{\\n    \"api_info\": {\\n        \"api_name\": \"ave...</td>\n",
       "      <td>Correct</td>\n",
       "      <td>ImportError</td>\n",
       "      <td>&lt;NA&gt;</td>\n",
       "      <td>1</td>\n",
       "      <td>True</td>\n",
       "      <td>False</td>\n",
       "    </tr>\n",
       "    <tr>\n",
       "      <th>24</th>\n",
       "      <td>Traceback (most recent call last):\\n  File \"/w...</td>\n",
       "      <td></td>\n",
       "      <td>0000099_ccc7cc_circuit</td>\n",
       "      <td>{\\n    \"api_info\": {\\n        \"api_name\": \"__a...</td>\n",
       "      <td>TypeError</td>\n",
       "      <td>Correct</td>\n",
       "      <td>9</td>\n",
       "      <td>&lt;NA&gt;</td>\n",
       "      <td>False</td>\n",
       "      <td>True</td>\n",
       "    </tr>\n",
       "    <tr>\n",
       "      <th>7</th>\n",
       "      <td>Traceback (most recent call last):\\n  File \"/w...</td>\n",
       "      <td>Traceback (most recent call last):\\n  File \"/w...</td>\n",
       "      <td>0000100_cdeef7_circuit</td>\n",
       "      <td>{\\n    \"api_info\": {\\n        \"api_name\": \"if_...</td>\n",
       "      <td>IndexError</td>\n",
       "      <td>IndexError</td>\n",
       "      <td>11</td>\n",
       "      <td>11</td>\n",
       "      <td>False</td>\n",
       "      <td>False</td>\n",
       "    </tr>\n",
       "  </tbody>\n",
       "</table>\n",
       "<p>100 rows × 10 columns</p>\n",
       "</div>"
      ],
      "text/plain": [
       "                                              log_045  \\\n",
       "19  Traceback (most recent call last):\\n  File \"/w...   \n",
       "28  Traceback (most recent call last):\\n  File \"/w...   \n",
       "15  Traceback (most recent call last):\\n  File \"/w...   \n",
       "50  Traceback (most recent call last):\\n  File \"/w...   \n",
       "83                                            [0.5]\\n   \n",
       "..                                                ...   \n",
       "6   Traceback (most recent call last):\\n  File \"/w...   \n",
       "56                                               []\\n   \n",
       "67                                              1.0\\n   \n",
       "24  Traceback (most recent call last):\\n  File \"/w...   \n",
       "7   Traceback (most recent call last):\\n  File \"/w...   \n",
       "\n",
       "                                              log_120            program_name  \\\n",
       "19  /workspace/code_sample.py:7: DeprecationWarnin...  0000001_07bf22_circuit   \n",
       "28  Traceback (most recent call last):\\n  File \"/w...  0000002_b025f1_circuit   \n",
       "15  Traceback (most recent call last):\\n  File \"/w...  0000003_58aebb_circuit   \n",
       "50  Traceback (most recent call last):\\n  File \"/w...  0000004_6f983a_circuit   \n",
       "83                                            [0.5]\\n  0000005_07a495_circuit   \n",
       "..                                                ...                     ...   \n",
       "6   Traceback (most recent call last):\\n  File \"/w...  0000096_80dec1_circuit   \n",
       "56                                               []\\n  0000097_31010c_circuit   \n",
       "67  Traceback (most recent call last):\\n  File \"/w...  0000098_51b298_circuit   \n",
       "24                                                     0000099_ccc7cc_circuit   \n",
       "7   Traceback (most recent call last):\\n  File \"/w...  0000100_cdeef7_circuit   \n",
       "\n",
       "                                             metadata       error_type_045  \\\n",
       "19  {\\n    \"api_info\": {\\n        \"api_name\": \"__e...            TypeError   \n",
       "28  {\\n    \"api_info\": {\\n        \"api_name\": \"_bu...            TypeError   \n",
       "15  {\\n    \"api_info\": {\\n        \"api_name\": \"_er...  ModuleNotFoundError   \n",
       "50  {\\n    \"api_info\": {\\n        \"api_name\": \"dec...  ModuleNotFoundError   \n",
       "83  {\\n    \"api_info\": {\\n        \"api_name\": \"_ge...              Correct   \n",
       "..                                                ...                  ...   \n",
       "6   {\\n    \"api_info\": {\\n        \"api_name\": \"exp...            TypeError   \n",
       "56  {\\n    \"api_info\": {\\n        \"api_name\": \"com...              Correct   \n",
       "67  {\\n    \"api_info\": {\\n        \"api_name\": \"ave...              Correct   \n",
       "24  {\\n    \"api_info\": {\\n        \"api_name\": \"__a...            TypeError   \n",
       "7   {\\n    \"api_info\": {\\n        \"api_name\": \"if_...           IndexError   \n",
       "\n",
       "         error_type_120  last_executed_row_045  last_executed_row_120  \\\n",
       "19            TypeError                      7                      7   \n",
       "28            TypeError                     24                     24   \n",
       "15  ModuleNotFoundError                      2                      2   \n",
       "50  ModuleNotFoundError                      2                      2   \n",
       "83              Correct                   <NA>                   <NA>   \n",
       "..                  ...                    ...                    ...   \n",
       "6             TypeError                     19                     19   \n",
       "56              Correct                   <NA>                   <NA>   \n",
       "67          ImportError                   <NA>                      1   \n",
       "24              Correct                      9                   <NA>   \n",
       "7            IndexError                     11                     11   \n",
       "\n",
       "    success_045  success_120  \n",
       "19        False        False  \n",
       "28        False        False  \n",
       "15        False        False  \n",
       "50        False        False  \n",
       "83         True         True  \n",
       "..          ...          ...  \n",
       "6         False        False  \n",
       "56         True         True  \n",
       "67         True        False  \n",
       "24        False         True  \n",
       "7         False        False  \n",
       "\n",
       "[100 rows x 10 columns]"
      ]
     },
     "execution_count": 9,
     "metadata": {},
     "output_type": "execute_result"
    }
   ],
   "source": [
    "summary_df"
   ]
  },
  {
   "cell_type": "code",
   "execution_count": 10,
   "metadata": {},
   "outputs": [
    {
     "name": "stdout",
     "output_type": "stream",
     "text": [
      "Percentage of corrects for Qiskit 0.45.0: 24.00%\n",
      "Percentage of corrects for Qiskit 1.2.0: 25.00%\n"
     ]
    },
    {
     "data": {
      "text/plain": [
       "<Figure size 1400x700 with 0 Axes>"
      ]
     },
     "metadata": {},
     "output_type": "display_data"
    },
    {
     "data": {
      "image/png": "[encoded data removed]",
      "text/plain": [
       "<Figure size 1400x700 with 1 Axes>"
      ]
     },
     "metadata": {},
     "output_type": "display_data"
    }
   ],
   "source": [
    "import re\n",
    "import seaborn as sns\n",
    "\n",
    "\n",
    "summary_df\n",
    "# Plotting the error type counts for each version\n",
    "plt.figure(figsize=(14, 7))\n",
    "\n",
    "# Get unique error types\n",
    "unique_error_types_045 = summary_df['error_type_045'].unique()\n",
    "unique_error_types_120 = summary_df['error_type_120'].unique()\n",
    "\n",
    "# Create palette\n",
    "palette_045 = {\n",
    "    error_type: 'green'\n",
    "    if error_type == 'Correct' else 'red'\n",
    "    for error_type in unique_error_types_045}\n",
    "palette_120 = {\n",
    "    error_type: 'green'\n",
    "    if error_type == 'Correct' else 'red'\n",
    "    for error_type in unique_error_types_120}\n",
    "\n",
    "# Plotting the error type counts for each version side by side\n",
    "error_counts_045 = summary_df['error_type_045'].value_counts()\n",
    "error_counts_120 = summary_df['error_type_120'].value_counts()\n",
    "\n",
    "# Create a DataFrame for plotting\n",
    "error_counts_df = pd.DataFrame({\n",
    "    'Qiskit 0.45.0': error_counts_045,\n",
    "    'Qiskit 1.2.0': error_counts_120\n",
    "}).fillna(0)\n",
    "\n",
    "error_counts_df.plot(kind='bar', figsize=(14, 7), color=['blue', 'orange'])\n",
    "plt.title('Error Types for Qiskit Versions')\n",
    "plt.xlabel('Error Type')\n",
    "plt.ylabel('Count')\n",
    "plt.xticks(rotation=45)\n",
    "plt.legend(title='Qiskit Version')\n",
    "\n",
    "correct_045 = summary_df['error_type_045'].value_counts().get('Correct', 0)\n",
    "correct_120 = summary_df['error_type_120'].value_counts().get('Correct', 0)\n",
    "\n",
    "total_045 = len(summary_df)\n",
    "total_120 = len(summary_df)\n",
    "\n",
    "percentage_correct_045 = (correct_045 / total_045) * 100\n",
    "percentage_correct_120 = (correct_120 / total_120) * 100\n",
    "\n",
    "print(\n",
    "    f\"Percentage of corrects for Qiskit 0.45.0: {percentage_correct_045:.2f}%\")\n",
    "print(\n",
    "    f\"Percentage of corrects for Qiskit 1.2.0: {percentage_correct_120:.2f}%\")\n",
    "\n",
    "plt.tight_layout()\n",
    "plt.show()"
   ]
  },
  {
   "cell_type": "code",
   "execution_count": 13,
   "metadata": {},
   "outputs": [
    {
     "data": {
      "text/markdown": [
       "# 0000005_07a495_circuit"
      ],
      "text/plain": [
       "<IPython.core.display.Markdown object>"
      ]
     },
     "metadata": {},
     "output_type": "display_data"
    },
    {
     "data": {
      "text/markdown": [
       "## Code"
      ],
      "text/plain": [
       "<IPython.core.display.Markdown object>"
      ]
     },
     "metadata": {},
     "output_type": "display_data"
    },
    {
     "data": {
      "text/markdown": [
       "```python\n",
       "from qiskit import QuantumCircuit\n",
       "from qiskit.pulse.library.symbolic_pulses import _get_expression_args\n",
       "import numpy as np\n",
       "from sympy import symbols, sin, pi\n",
       "\n",
       "x = symbols('x')\n",
       "expr = sin(2 * pi * x)\n",
       "params = {'x': 0.5}\n",
       "\n",
       "qc = QuantumCircuit(1)\n",
       "qc.h(0)\n",
       "\n",
       "args = _get_expression_args(expr, params)\n",
       "print(args)\n",
       "```"
      ],
      "text/plain": [
       "<IPython.core.display.Markdown object>"
      ]
     },
     "metadata": {},
     "output_type": "display_data"
    },
    {
     "data": {
      "text/markdown": [
       "## Logs"
      ],
      "text/plain": [
       "<IPython.core.display.Markdown object>"
      ]
     },
     "metadata": {},
     "output_type": "display_data"
    },
    {
     "data": {
      "text/markdown": [
       "### Qiskit 0.45.0"
      ],
      "text/plain": [
       "<IPython.core.display.Markdown object>"
      ]
     },
     "metadata": {},
     "output_type": "display_data"
    },
    {
     "data": {
      "text/markdown": [
       "```\n",
       "[0.5]\n",
       "```"
      ],
      "text/plain": [
       "<IPython.core.display.Markdown object>"
      ]
     },
     "metadata": {},
     "output_type": "display_data"
    },
    {
     "data": {
      "text/markdown": [
       "### Qiskit 1.2.0"
      ],
      "text/plain": [
       "<IPython.core.display.Markdown object>"
      ]
     },
     "metadata": {},
     "output_type": "display_data"
    },
    {
     "data": {
      "text/markdown": [
       "```\n",
       "[0.5]\n",
       "```"
      ],
      "text/plain": [
       "<IPython.core.display.Markdown object>"
      ]
     },
     "metadata": {},
     "output_type": "display_data"
    },
    {
     "data": {
      "text/markdown": [
       "## Metadata"
      ],
      "text/plain": [
       "<IPython.core.display.Markdown object>"
      ]
     },
     "metadata": {},
     "output_type": "display_data"
    },
    {
     "data": {
      "text/markdown": [
       "```json\n",
       "{\n",
       "    \"api_info\": {\n",
       "        \"api_name\": \"_get_expression_args\",\n",
       "        \"full_api_name\": \"_get_expression_args\",\n",
       "        \"api_description\": \"A helper function to get argument to evaluate expression.\\n\\nArgs:\\n    expr: Symbolic expression to evaluate.\\n    params: Dictionary of parameter, which is a superset of expression arguments.\\n\\nReturns:\\n    Arguments passed to the lambdified expression.\\n\\nRaises:\\n    PulseError: When a free symbol value is not defined in the pulse instance parameters.\",\n",
       "        \"api_signature\": \"_get_expression_args(expr, params)\",\n",
       "        \"file_path\": \"/usr/local/lib/python3.10/site-packages/qiskit/pulse/library/symbolic_pulses.py\"\n",
       "    },\n",
       "    \"dspy_store\": {\n",
       "        \"reasoning\": \"The provided API is a helper function named _get_expression_args which is used to get the arguments to evaluate an expression. This function takes in a symbolic expression and a dictionary of parameters. It returns the arguments passed to the lambdified expression and raises a PulseError if a free symbol value is not defined in the pulse instance parameters. To generate a program inspired by this API, we can create a simple quantum circuit and use the _get_expression_args function to evaluate an expression. We will import the necessary Qiskit modules, create a quantum circuit, define a symbolic expression, and then use the _get_expression_args function to get the arguments.\",\n",
       "        \"generated_python_program\": \"from qiskit import QuantumCircuit\\nfrom qiskit.pulse.library.symbolic_pulses import _get_expression_args\\nimport numpy as np\\nfrom sympy import symbols, sin, pi\\n\\nx = symbols('x')\\nexpr = sin(2 * pi * x)\\nparams = {'x': 0.5}\\n\\nqc = QuantumCircuit(1)\\nqc.h(0)\\n\\nargs = _get_expression_args(expr, params)\\nprint(args)\",\n",
       "        \"variable_name_of_circuit\": \"qc\"\n",
       "    }\n",
       "}\n",
       "```"
      ],
      "text/plain": [
       "<IPython.core.display.Markdown object>"
      ]
     },
     "metadata": {},
     "output_type": "display_data"
    },
    {
     "data": {
      "text/markdown": [
       "# 0000014_625530_circuit"
      ],
      "text/plain": [
       "<IPython.core.display.Markdown object>"
      ]
     },
     "metadata": {},
     "output_type": "display_data"
    },
    {
     "data": {
      "text/markdown": [
       "## Code"
      ],
      "text/plain": [
       "<IPython.core.display.Markdown object>"
      ]
     },
     "metadata": {},
     "output_type": "display_data"
    },
    {
     "data": {
      "text/markdown": [
       "```python\n",
       "from qiskit import QuantumCircuit\n",
       "from qiskit.qasm2.parse import _generate_delay\n",
       "\n",
       "qc = QuantumCircuit(2)\n",
       "qc.h(0)\n",
       "qc.cx(0, 1)\n",
       "print(_generate_delay(1))\n",
       "qc.barrier()\n",
       "qc.x(0)\n",
       "qc.barrier()\n",
       "```"
      ],
      "text/plain": [
       "<IPython.core.display.Markdown object>"
      ]
     },
     "metadata": {},
     "output_type": "display_data"
    },
    {
     "data": {
      "text/markdown": [
       "## Logs"
      ],
      "text/plain": [
       "<IPython.core.display.Markdown object>"
      ]
     },
     "metadata": {},
     "output_type": "display_data"
    },
    {
     "data": {
      "text/markdown": [
       "### Qiskit 0.45.0"
      ],
      "text/plain": [
       "<IPython.core.display.Markdown object>"
      ]
     },
     "metadata": {},
     "output_type": "display_data"
    },
    {
     "data": {
      "text/markdown": [
       "```\n",
       "Delay(duration=1[unit=dt])\n",
       "```"
      ],
      "text/plain": [
       "<IPython.core.display.Markdown object>"
      ]
     },
     "metadata": {},
     "output_type": "display_data"
    },
    {
     "data": {
      "text/markdown": [
       "### Qiskit 1.2.0"
      ],
      "text/plain": [
       "<IPython.core.display.Markdown object>"
      ]
     },
     "metadata": {},
     "output_type": "display_data"
    },
    {
     "data": {
      "text/markdown": [
       "```\n",
       "Delay(duration=1[unit=dt])\n",
       "```"
      ],
      "text/plain": [
       "<IPython.core.display.Markdown object>"
      ]
     },
     "metadata": {},
     "output_type": "display_data"
    },
    {
     "data": {
      "text/markdown": [
       "## Metadata"
      ],
      "text/plain": [
       "<IPython.core.display.Markdown object>"
      ]
     },
     "metadata": {},
     "output_type": "display_data"
    },
    {
     "data": {
      "text/markdown": [
       "```json\n",
       "{\n",
       "    \"api_info\": {\n",
       "        \"api_name\": \"_generate_delay\",\n",
       "        \"full_api_name\": \"_generate_delay\",\n",
       "        \"api_description\": \"\",\n",
       "        \"api_signature\": \"_generate_delay(time)\",\n",
       "        \"file_path\": \"/usr/local/lib/python3.10/site-packages/qiskit/qasm2/parse.py\"\n",
       "    },\n",
       "    \"dspy_store\": {\n",
       "        \"reasoning\": \"The given API is _generate_delay, which is used to generate a delay in a quantum circuit. This function is typically used to insert idle time in a circuit. To generate a program inspired by this API, we will create a quantum circuit, apply some gates, and then use the _generate_delay function to insert a delay.\",\n",
       "        \"generated_python_program\": \"from qiskit import QuantumCircuit\\nfrom qiskit.qasm2.parse import _generate_delay\\n\\nqc = QuantumCircuit(2)\\nqc.h(0)\\nqc.cx(0, 1)\\nprint(_generate_delay(1))\\nqc.barrier()\\nqc.x(0)\\nqc.barrier()\",\n",
       "        \"variable_name_of_circuit\": \"qc\"\n",
       "    }\n",
       "}\n",
       "```"
      ],
      "text/plain": [
       "<IPython.core.display.Markdown object>"
      ]
     },
     "metadata": {},
     "output_type": "display_data"
    }
   ],
   "source": [
    "from IPython.display import display, Markdown\n",
    "\n",
    "max_to_show = 2\n",
    "\n",
    "\n",
    "def pretty_print_summary(df: pd.DataFrame, max_to_show: int = 5):\n",
    "    for index, row in df.head(max_to_show).iterrows():\n",
    "        program_name = row['program_name']\n",
    "        log_045 = row['log_045']\n",
    "        log_120 = row['log_120']\n",
    "        success_045 = row['success_045']\n",
    "        success_120 = row['success_120']\n",
    "\n",
    "        program_path = os.path.join(\n",
    "            GENERATION_PATH_LLM_API, f\"{program_name}.py\")\n",
    "        program_code = Path(program_path).read_text()\n",
    "        display(Markdown(f\"# {program_name}\"))\n",
    "        display(Markdown(f\"## Code\"))\n",
    "        display(Markdown(f\"```python\\n{program_code}\\n```\"))\n",
    "        display(Markdown(f\"## Logs\"))\n",
    "        display(Markdown(f\"### Qiskit 0.45.0\"))\n",
    "        display(Markdown(f\"```\\n{log_045}```\"))\n",
    "        display(Markdown(f\"### Qiskit 1.2.0\"))\n",
    "        display(Markdown(f\"```\\n{log_120}```\"))\n",
    "        display(Markdown(f\"## Metadata\"))\n",
    "        display(Markdown(f\"```json\\n{row['metadata']}\\n```\"))\n",
    "\n",
    "\n",
    "df = summary_df[summary_df['error_type_045'] == 'Correct']\n",
    "# df = summary_df[summary_df['error_type_120'] == 'Correct']\n",
    "# df = summary_df[summary_df['error_type_045'] == 'ImportError']\n",
    "\n",
    "pretty_print_summary(df, max_to_show)"
   ]
  },
  {
   "cell_type": "code",
   "execution_count": 17,
   "metadata": {},
   "outputs": [
    {
     "data": {
      "text/markdown": [
       "# Different logs (22 programs)"
      ],
      "text/plain": [
       "<IPython.core.display.Markdown object>"
      ]
     },
     "metadata": {},
     "output_type": "display_data"
    },
    {
     "data": {
      "text/markdown": [
       "# 0000015_7851ae_circuit"
      ],
      "text/plain": [
       "<IPython.core.display.Markdown object>"
      ]
     },
     "metadata": {},
     "output_type": "display_data"
    },
    {
     "data": {
      "text/markdown": [
       "## Code"
      ],
      "text/plain": [
       "<IPython.core.display.Markdown object>"
      ]
     },
     "metadata": {},
     "output_type": "display_data"
    },
    {
     "data": {
      "text/markdown": [
       "```python\n",
       "from qiskit import QuantumCircuit, execute\n",
       "from qiskit.qobj import Qobj\n",
       "from qiskit.qobj import pulse_instruction\n",
       "from qiskit.pulse import ShiftFrequency\n",
       "\n",
       "class InstructionToQobjConverter:\n",
       "    def _convert_shift_frequency(self, instruction, time_offset):\n",
       "        # This is a placeholder for the actual implementation\n",
       "        pass\n",
       "\n",
       "def main():\n",
       "    converter = InstructionToQobjConverter()\n",
       "    circuit = QuantumCircuit(1)\n",
       "    circuit.x(0)\n",
       "    instruction = ShiftFrequency(0.1, 0)\n",
       "    time_offset = 0.0\n",
       "    qobj_instruction = converter._convert_shift_frequency(instruction, time_offset)\n",
       "    # Create a Qobj\n",
       "    qobj = Qobj(instructions=[qobj_instruction])\n",
       "    print(qobj)\n",
       "\n",
       "if __name__ == \"__main__\":\n",
       "    main()\n",
       "```"
      ],
      "text/plain": [
       "<IPython.core.display.Markdown object>"
      ]
     },
     "metadata": {},
     "output_type": "display_data"
    },
    {
     "data": {
      "text/markdown": [
       "## Logs"
      ],
      "text/plain": [
       "<IPython.core.display.Markdown object>"
      ]
     },
     "metadata": {},
     "output_type": "display_data"
    },
    {
     "data": {
      "text/markdown": [
       "### Qiskit 0.45.0"
      ],
      "text/plain": [
       "<IPython.core.display.Markdown object>"
      ]
     },
     "metadata": {},
     "output_type": "display_data"
    },
    {
     "data": {
      "text/markdown": [
       "```\n",
       "Traceback (most recent call last):\n",
       "  File \"/workspace/code_sample.py\", line 2, in <module>\n",
       "    from qiskit.qobj import Qobj\n",
       "ImportError: cannot import name 'Qobj' from 'qiskit.qobj' (/usr/local/lib/python3.10/site-packages/qiskit/qobj/__init__.py)\n",
       "```"
      ],
      "text/plain": [
       "<IPython.core.display.Markdown object>"
      ]
     },
     "metadata": {},
     "output_type": "display_data"
    },
    {
     "data": {
      "text/markdown": [
       "### Qiskit 1.2.0"
      ],
      "text/plain": [
       "<IPython.core.display.Markdown object>"
      ]
     },
     "metadata": {},
     "output_type": "display_data"
    },
    {
     "data": {
      "text/markdown": [
       "```\n",
       "Traceback (most recent call last):\n",
       "  File \"/workspace/code_sample.py\", line 1, in <module>\n",
       "    from qiskit import QuantumCircuit, execute\n",
       "ImportError: cannot import name 'execute' from 'qiskit' (/usr/local/lib/python3.10/site-packages/qiskit/__init__.py)\n",
       "```"
      ],
      "text/plain": [
       "<IPython.core.display.Markdown object>"
      ]
     },
     "metadata": {},
     "output_type": "display_data"
    },
    {
     "data": {
      "text/markdown": [
       "## Metadata"
      ],
      "text/plain": [
       "<IPython.core.display.Markdown object>"
      ]
     },
     "metadata": {},
     "output_type": "display_data"
    },
    {
     "data": {
      "text/markdown": [
       "```json\n",
       "{\n",
       "    \"api_info\": {\n",
       "        \"api_name\": \"_convert_shift_frequency\",\n",
       "        \"full_api_name\": \"InstructionToQobjConverter._convert_shift_frequency\",\n",
       "        \"api_description\": \"Return converted `ShiftFrequency`.\\n\\nArgs:\\n    instruction: Qiskit Pulse shift frequency instruction.\\n    time_offset: Offset time.\\n\\nReturns:\\n    Qobj instruction data.\",\n",
       "        \"api_signature\": \"_convert_shift_frequency(self, instruction, time_offset)\",\n",
       "        \"file_path\": \"/usr/local/lib/python3.10/site-packages/qiskit/qobj/converters/pulse_instruction.py\"\n",
       "    },\n",
       "    \"dspy_store\": {\n",
       "        \"reasoning\": \"To generate a Python program inspired by the given Qiskit API, we need to import the necessary modules and use the provided API to create a QuantumCircuit object. The InstructionToQobjConverter._convert_shift_frequency function is used to convert a shift frequency instruction to a Qobj instruction data. We will create a class that utilizes this function to demonstrate its usage.\",\n",
       "        \"generated_python_program\": \"from qiskit import QuantumCircuit, execute\\nfrom qiskit.qobj import Qobj\\nfrom qiskit.qobj import pulse_instruction\\nfrom qiskit.pulse import ShiftFrequency\\n\\nclass InstructionToQobjConverter:\\n    def _convert_shift_frequency(self, instruction, time_offset):\\n        # This is a placeholder for the actual implementation\\n        pass\\n\\ndef main():\\n    converter = InstructionToQobjConverter()\\n    circuit = QuantumCircuit(1)\\n    circuit.x(0)\\n    instruction = ShiftFrequency(0.1, 0)\\n    time_offset = 0.0\\n    qobj_instruction = converter._convert_shift_frequency(instruction, time_offset)\\n    # Create a Qobj\\n    qobj = Qobj(instructions=[qobj_instruction])\\n    print(qobj)\\n\\nif __name__ == \\\"__main__\\\":\\n    main()\",\n",
       "        \"variable_name_of_circuit\": \"circuit\"\n",
       "    }\n",
       "}\n",
       "```"
      ],
      "text/plain": [
       "<IPython.core.display.Markdown object>"
      ]
     },
     "metadata": {},
     "output_type": "display_data"
    },
    {
     "data": {
      "text/markdown": [
       "# 0000020_1e4000_circuit"
      ],
      "text/plain": [
       "<IPython.core.display.Markdown object>"
      ]
     },
     "metadata": {},
     "output_type": "display_data"
    },
    {
     "data": {
      "text/markdown": [
       "## Code"
      ],
      "text/plain": [
       "<IPython.core.display.Markdown object>"
      ]
     },
     "metadata": {},
     "output_type": "display_data"
    },
    {
     "data": {
      "text/markdown": [
       "```python\n",
       "from qiskit import QuantumCircuit\n",
       "from qiskit.circuit.library import XGate\n",
       "\n",
       "qc = QuantumCircuit(2)\n",
       "qc.h(0)\n",
       "qc.cx(0, 1)\n",
       "gate = qc.to_gate()\n",
       "print(gate)\n",
       "```"
      ],
      "text/plain": [
       "<IPython.core.display.Markdown object>"
      ]
     },
     "metadata": {},
     "output_type": "display_data"
    },
    {
     "data": {
      "text/markdown": [
       "## Logs"
      ],
      "text/plain": [
       "<IPython.core.display.Markdown object>"
      ]
     },
     "metadata": {},
     "output_type": "display_data"
    },
    {
     "data": {
      "text/markdown": [
       "### Qiskit 0.45.0"
      ],
      "text/plain": [
       "<IPython.core.display.Markdown object>"
      ]
     },
     "metadata": {},
     "output_type": "display_data"
    },
    {
     "data": {
      "text/markdown": [
       "```\n",
       "Instruction(name='circuit-152', num_qubits=2, num_clbits=0, params=[])\n",
       "```"
      ],
      "text/plain": [
       "<IPython.core.display.Markdown object>"
      ]
     },
     "metadata": {},
     "output_type": "display_data"
    },
    {
     "data": {
      "text/markdown": [
       "### Qiskit 1.2.0"
      ],
      "text/plain": [
       "<IPython.core.display.Markdown object>"
      ]
     },
     "metadata": {},
     "output_type": "display_data"
    },
    {
     "data": {
      "text/markdown": [
       "```\n",
       "Instruction(name='circuit-160', num_qubits=2, num_clbits=0, params=[])\n",
       "```"
      ],
      "text/plain": [
       "<IPython.core.display.Markdown object>"
      ]
     },
     "metadata": {},
     "output_type": "display_data"
    },
    {
     "data": {
      "text/markdown": [
       "## Metadata"
      ],
      "text/plain": [
       "<IPython.core.display.Markdown object>"
      ]
     },
     "metadata": {},
     "output_type": "display_data"
    },
    {
     "data": {
      "text/markdown": [
       "```json\n",
       "{\n",
       "    \"api_info\": {\n",
       "        \"api_name\": \"to_gate\",\n",
       "        \"full_api_name\": \"QuantumCircuit.to_gate\",\n",
       "        \"api_description\": \"Create a :class:`.Gate` out of this circuit.  The circuit must act only qubits and\\ncontain only unitary operations.\\n\\n.. seealso::\\n    :func:`circuit_to_gate`\\n        The underlying driver of this method.\\n\\nArgs:\\n    parameter_map: For parameterized circuits, a mapping from parameters in the circuit to\\n        parameters to be used in the gate. If ``None``, existing circuit parameters will\\n        also parameterize the gate.\\n    label : Optional gate label.\\n\\nReturns:\\n    Gate: a composite gate encapsulating this circuit (can be decomposed back).\",\n",
       "        \"api_signature\": \"to_gate(self, parameter_map, label)\",\n",
       "        \"file_path\": \"/usr/local/lib/python3.10/site-packages/qiskit/circuit/quantumcircuit.py\"\n",
       "    },\n",
       "    \"dspy_store\": {\n",
       "        \"reasoning\": \"The provided API is a method of the QuantumCircuit class in Qiskit, which converts a QuantumCircuit into a Gate object. To generate a program inspired by this API, we need to create a QuantumCircuit object, apply some unitary operations to it, and then use the to_gate method to convert it into a Gate object.\",\n",
       "        \"generated_python_program\": \"from qiskit import QuantumCircuit\\nfrom qiskit.circuit.library import XGate\\n\\nqc = QuantumCircuit(2)\\nqc.h(0)\\nqc.cx(0, 1)\\ngate = qc.to_gate()\\nprint(gate)\",\n",
       "        \"variable_name_of_circuit\": \"qc\"\n",
       "    }\n",
       "}\n",
       "```"
      ],
      "text/plain": [
       "<IPython.core.display.Markdown object>"
      ]
     },
     "metadata": {},
     "output_type": "display_data"
    },
    {
     "data": {
      "text/markdown": [
       "# 0000021_adbb42_circuit"
      ],
      "text/plain": [
       "<IPython.core.display.Markdown object>"
      ]
     },
     "metadata": {},
     "output_type": "display_data"
    },
    {
     "data": {
      "text/markdown": [
       "## Code"
      ],
      "text/plain": [
       "<IPython.core.display.Markdown object>"
      ]
     },
     "metadata": {},
     "output_type": "display_data"
    },
    {
     "data": {
      "text/markdown": [
       "```python\n",
       "from qiskit import QuantumCircuit\n",
       "from qiskit.circuit import QuantumCircuit as QC\n",
       "\n",
       "def test_cast():\n",
       "    circuit = QuantumCircuit(2, name='test_circuit')\n",
       "    circuit.h(0)\n",
       "    circuit.cx(0, 1)\n",
       "\n",
       "    # Attempt to cast an integer to a float\n",
       "    int_value = 10\n",
       "    float_value = QC.cast(int_value, float)\n",
       "    print(f\"Casting {int_value} to float: {float_value}\")\n",
       "\n",
       "    # Attempt to cast a string to an integer\n",
       "    str_value = \"20\"\n",
       "    int_cast_value = QC.cast(str_value, int)\n",
       "    print(f\"Casting '{str_value}' to int: {int_cast_value}\")\n",
       "\n",
       "    # Attempt to cast a list to a string (which should fail and return the list)\n",
       "    list_value = [1, 2, 3]\n",
       "    str_list_value = QC.cast(list_value, str)\n",
       "    print(f\"Casting {list_value} to str: {str_list_value}\")\n",
       "\n",
       "test_cast()\n",
       "```"
      ],
      "text/plain": [
       "<IPython.core.display.Markdown object>"
      ]
     },
     "metadata": {},
     "output_type": "display_data"
    },
    {
     "data": {
      "text/markdown": [
       "## Logs"
      ],
      "text/plain": [
       "<IPython.core.display.Markdown object>"
      ]
     },
     "metadata": {},
     "output_type": "display_data"
    },
    {
     "data": {
      "text/markdown": [
       "### Qiskit 0.45.0"
      ],
      "text/plain": [
       "<IPython.core.display.Markdown object>"
      ]
     },
     "metadata": {},
     "output_type": "display_data"
    },
    {
     "data": {
      "text/markdown": [
       "```\n",
       "Casting 10 to float: 10.0\n",
       "Casting '20' to int: 20\n",
       "Casting [1, 2, 3] to str: [1, 2, 3]\n",
       "```"
      ],
      "text/plain": [
       "<IPython.core.display.Markdown object>"
      ]
     },
     "metadata": {},
     "output_type": "display_data"
    },
    {
     "data": {
      "text/markdown": [
       "### Qiskit 1.2.0"
      ],
      "text/plain": [
       "<IPython.core.display.Markdown object>"
      ]
     },
     "metadata": {},
     "output_type": "display_data"
    },
    {
     "data": {
      "text/markdown": [
       "```\n",
       "/workspace/code_sample.py:11: DeprecationWarning: The method ``qiskit.circuit.quantumcircuit.QuantumCircuit.cast()`` is deprecated as of qiskit 1.2. It will be removed in the 2.0 release. This method is only used as an internal helper and will be removed with no replacement.\n",
       "  float_value = QC.cast(int_value, float)\n",
       "Casting 10 to float: 10.0\n",
       "Casting '20' to int: 20\n",
       "Casting [1, 2, 3] to str: [1, 2, 3]\n",
       "/workspace/code_sample.py:16: DeprecationWarning: The method ``qiskit.circuit.quantumcircuit.QuantumCircuit.cast()`` is deprecated as of qiskit 1.2. It will be removed in the 2.0 release. This method is only used as an internal helper and will be removed with no replacement.\n",
       "  int_cast_value = QC.cast(str_value, int)\n",
       "/workspace/code_sample.py:21: DeprecationWarning: The method ``qiskit.circuit.quantumcircuit.QuantumCircuit.cast()`` is deprecated as of qiskit 1.2. It will be removed in the 2.0 release. This method is only used as an internal helper and will be removed with no replacement.\n",
       "  str_list_value = QC.cast(list_value, str)\n",
       "```"
      ],
      "text/plain": [
       "<IPython.core.display.Markdown object>"
      ]
     },
     "metadata": {},
     "output_type": "display_data"
    },
    {
     "data": {
      "text/markdown": [
       "## Metadata"
      ],
      "text/plain": [
       "<IPython.core.display.Markdown object>"
      ]
     },
     "metadata": {},
     "output_type": "display_data"
    },
    {
     "data": {
      "text/markdown": [
       "```json\n",
       "{\n",
       "    \"api_info\": {\n",
       "        \"api_name\": \"cast\",\n",
       "        \"full_api_name\": \"QuantumCircuit.cast\",\n",
       "        \"api_description\": \"Best effort to cast value to type. Otherwise, returns the value.\",\n",
       "        \"api_signature\": \"cast(value, type_)\",\n",
       "        \"file_path\": \"/usr/local/lib/python3.10/site-packages/qiskit/circuit/quantumcircuit.py\"\n",
       "    },\n",
       "    \"dspy_store\": {\n",
       "        \"reasoning\": \"To generate a program inspired by the QuantumCircuit.cast API, we need to understand its purpose, which is to attempt to cast a given value to a specified type. If the casting is successful, it returns the casted value; otherwise, it returns the original value. Our generated program will utilize this API to demonstrate its functionality by casting different types of values to various types and observing the outcomes. We will create a QuantumCircuit, apply some operations to it, and then use the cast method to attempt type conversions on different values.\",\n",
       "        \"generated_python_program\": \"from qiskit import QuantumCircuit\\nfrom qiskit.circuit import QuantumCircuit as QC\\n\\ndef test_cast():\\n    circuit = QuantumCircuit(2, name='test_circuit')\\n    circuit.h(0)\\n    circuit.cx(0, 1)\\n\\n    # Attempt to cast an integer to a float\\n    int_value = 10\\n    float_value = QC.cast(int_value, float)\\n    print(f\\\"Casting {int_value} to float: {float_value}\\\")\\n\\n    # Attempt to cast a string to an integer\\n    str_value = \\\"20\\\"\\n    int_cast_value = QC.cast(str_value, int)\\n    print(f\\\"Casting '{str_value}' to int: {int_cast_value}\\\")\\n\\n    # Attempt to cast a list to a string (which should fail and return the list)\\n    list_value = [1, 2, 3]\\n    str_list_value = QC.cast(list_value, str)\\n    print(f\\\"Casting {list_value} to str: {str_list_value}\\\")\\n\\ntest_cast()\",\n",
       "        \"variable_name_of_circuit\": \"circuit\"\n",
       "    }\n",
       "}\n",
       "```"
      ],
      "text/plain": [
       "<IPython.core.display.Markdown object>"
      ]
     },
     "metadata": {},
     "output_type": "display_data"
    },
    {
     "data": {
      "text/markdown": [
       "# 0000044_c382a4_circuit"
      ],
      "text/plain": [
       "<IPython.core.display.Markdown object>"
      ]
     },
     "metadata": {},
     "output_type": "display_data"
    },
    {
     "data": {
      "text/markdown": [
       "## Code"
      ],
      "text/plain": [
       "<IPython.core.display.Markdown object>"
      ]
     },
     "metadata": {},
     "output_type": "display_data"
    },
    {
     "data": {
      "text/markdown": [
       "```python\n",
       "from qiskit import QuantumCircuit, execute, Aer\n",
       "from qiskit.providers.fake_provider import GenericBackendV2\n",
       "\n",
       "backend = GenericBackendV2()\n",
       "target_properties = backend.target()\n",
       "circuit = QuantumCircuit(2, 2)\n",
       "circuit.h(0)\n",
       "circuit.cx(0, 1)\n",
       "circuit.measure([0, 1], [0, 1])\n",
       "```"
      ],
      "text/plain": [
       "<IPython.core.display.Markdown object>"
      ]
     },
     "metadata": {},
     "output_type": "display_data"
    },
    {
     "data": {
      "text/markdown": [
       "## Logs"
      ],
      "text/plain": [
       "<IPython.core.display.Markdown object>"
      ]
     },
     "metadata": {},
     "output_type": "display_data"
    },
    {
     "data": {
      "text/markdown": [
       "### Qiskit 0.45.0"
      ],
      "text/plain": [
       "<IPython.core.display.Markdown object>"
      ]
     },
     "metadata": {},
     "output_type": "display_data"
    },
    {
     "data": {
      "text/markdown": [
       "```\n",
       "Traceback (most recent call last):\n",
       "  File \"/workspace/code_sample.py\", line 2, in <module>\n",
       "    from qiskit.providers.fake_provider import GenericBackendV2\n",
       "ImportError: cannot import name 'GenericBackendV2' from 'qiskit.providers.fake_provider' (/usr/local/lib/python3.10/site-packages/qiskit/providers/fake_provider/__init__.py)\n",
       "```"
      ],
      "text/plain": [
       "<IPython.core.display.Markdown object>"
      ]
     },
     "metadata": {},
     "output_type": "display_data"
    },
    {
     "data": {
      "text/markdown": [
       "### Qiskit 1.2.0"
      ],
      "text/plain": [
       "<IPython.core.display.Markdown object>"
      ]
     },
     "metadata": {},
     "output_type": "display_data"
    },
    {
     "data": {
      "text/markdown": [
       "```\n",
       "Traceback (most recent call last):\n",
       "  File \"/workspace/code_sample.py\", line 1, in <module>\n",
       "    from qiskit import QuantumCircuit, execute, Aer\n",
       "ImportError: cannot import name 'execute' from 'qiskit' (/usr/local/lib/python3.10/site-packages/qiskit/__init__.py)\n",
       "```"
      ],
      "text/plain": [
       "<IPython.core.display.Markdown object>"
      ]
     },
     "metadata": {},
     "output_type": "display_data"
    },
    {
     "data": {
      "text/markdown": [
       "## Metadata"
      ],
      "text/plain": [
       "<IPython.core.display.Markdown object>"
      ]
     },
     "metadata": {},
     "output_type": "display_data"
    },
    {
     "data": {
      "text/markdown": [
       "```json\n",
       "{\n",
       "    \"api_info\": {\n",
       "        \"api_name\": \"target\",\n",
       "        \"full_api_name\": \"GenericBackendV2.target\",\n",
       "        \"api_description\": \"\",\n",
       "        \"api_signature\": \"target(self)\",\n",
       "        \"file_path\": \"/usr/local/lib/python3.10/site-packages/qiskit/providers/fake_provider/generic_backend_v2.py\"\n",
       "    },\n",
       "    \"dspy_store\": {\n",
       "        \"reasoning\": \"The GenericBackendV2.target API is used to get the target properties of a backend. To generate a program inspired by this API, we can create a QuantumCircuit object and use the target API to get the target properties of a backend.\",\n",
       "        \"generated_python_program\": \"from qiskit import QuantumCircuit, execute, Aer\\nfrom qiskit.providers.fake_provider import GenericBackendV2\\n\\nbackend = GenericBackendV2()\\ntarget_properties = backend.target()\\ncircuit = QuantumCircuit(2, 2)\\ncircuit.h(0)\\ncircuit.cx(0, 1)\\ncircuit.measure([0, 1], [0, 1])\",\n",
       "        \"variable_name_of_circuit\": \"circuit\"\n",
       "    }\n",
       "}\n",
       "```"
      ],
      "text/plain": [
       "<IPython.core.display.Markdown object>"
      ]
     },
     "metadata": {},
     "output_type": "display_data"
    },
    {
     "data": {
      "text/markdown": [
       "# 0000051_41c93d_circuit"
      ],
      "text/plain": [
       "<IPython.core.display.Markdown object>"
      ]
     },
     "metadata": {},
     "output_type": "display_data"
    },
    {
     "data": {
      "text/markdown": [
       "## Code"
      ],
      "text/plain": [
       "<IPython.core.display.Markdown object>"
      ]
     },
     "metadata": {},
     "output_type": "display_data"
    },
    {
     "data": {
      "text/markdown": [
       "```python\n",
       "from qiskit import QuantumCircuit, transpile\n",
       "from qiskit.transpiler.preset_passmanagers.generate_preset_pass_manager import _parse_dt\n",
       "from qiskit.providers.aer import AerSimulator\n",
       "\n",
       "def main():\n",
       "    # Create a QuantumCircuit\n",
       "    circuit = QuantumCircuit(2)\n",
       "    circuit.h(0)\n",
       "    circuit.cx(0, 1)\n",
       "\n",
       "    # Initialize a backend\n",
       "    backend = AerSimulator()\n",
       "\n",
       "    # Use the _parse_dt function\n",
       "    dt = _parse_dt('auto', backend)\n",
       "\n",
       "    # Compile the circuit with the calculated dt\n",
       "    compiled_circuit = transpile(circuit, backend, scheduling_method='asap', dt=dt)\n",
       "\n",
       "    print(compiled_circuit)\n",
       "\n",
       "main()\n",
       "```"
      ],
      "text/plain": [
       "<IPython.core.display.Markdown object>"
      ]
     },
     "metadata": {},
     "output_type": "display_data"
    },
    {
     "data": {
      "text/markdown": [
       "## Logs"
      ],
      "text/plain": [
       "<IPython.core.display.Markdown object>"
      ]
     },
     "metadata": {},
     "output_type": "display_data"
    },
    {
     "data": {
      "text/markdown": [
       "### Qiskit 0.45.0"
      ],
      "text/plain": [
       "<IPython.core.display.Markdown object>"
      ]
     },
     "metadata": {},
     "output_type": "display_data"
    },
    {
     "data": {
      "text/markdown": [
       "```\n",
       "Traceback (most recent call last):\n",
       "  File \"/workspace/code_sample.py\", line 2, in <module>\n",
       "    from qiskit.transpiler.preset_passmanagers.generate_preset_pass_manager import _parse_dt\n",
       "ModuleNotFoundError: No module named 'qiskit.transpiler.preset_passmanagers.generate_preset_pass_manager'\n",
       "```"
      ],
      "text/plain": [
       "<IPython.core.display.Markdown object>"
      ]
     },
     "metadata": {},
     "output_type": "display_data"
    },
    {
     "data": {
      "text/markdown": [
       "### Qiskit 1.2.0"
      ],
      "text/plain": [
       "<IPython.core.display.Markdown object>"
      ]
     },
     "metadata": {},
     "output_type": "display_data"
    },
    {
     "data": {
      "text/markdown": [
       "```\n",
       "Traceback (most recent call last):\n",
       "  File \"/workspace/code_sample.py\", line 3, in <module>\n",
       "    from qiskit.providers.aer import AerSimulator\n",
       "ModuleNotFoundError: No module named 'qiskit.providers.aer'\n",
       "```"
      ],
      "text/plain": [
       "<IPython.core.display.Markdown object>"
      ]
     },
     "metadata": {},
     "output_type": "display_data"
    },
    {
     "data": {
      "text/markdown": [
       "## Metadata"
      ],
      "text/plain": [
       "<IPython.core.display.Markdown object>"
      ]
     },
     "metadata": {},
     "output_type": "display_data"
    },
    {
     "data": {
      "text/markdown": [
       "```json\n",
       "{\n",
       "    \"api_info\": {\n",
       "        \"api_name\": \"_parse_dt\",\n",
       "        \"full_api_name\": \"_parse_dt\",\n",
       "        \"api_description\": \"\",\n",
       "        \"api_signature\": \"_parse_dt(dt, backend)\",\n",
       "        \"file_path\": \"/usr/local/lib/python3.10/site-packages/qiskit/transpiler/preset_passmanagers/generate_preset_pass_manager.py\"\n",
       "    },\n",
       "    \"dspy_store\": {\n",
       "        \"reasoning\": \"The _parse_dt function from the generate_preset_pass_manager module in Qiskit's transpiler is used to parse the dt (dilation time) argument for a given backend. To create a program inspired by this API, we will use it to calculate the dilation time for a QuantumCircuit and then use this circuit to demonstrate the functionality of the _parse_dt function.\",\n",
       "        \"generated_python_program\": \"from qiskit import QuantumCircuit, transpile\\nfrom qiskit.transpiler.preset_passmanagers.generate_preset_pass_manager import _parse_dt\\nfrom qiskit.providers.aer import AerSimulator\\n\\ndef main():\\n    # Create a QuantumCircuit\\n    circuit = QuantumCircuit(2)\\n    circuit.h(0)\\n    circuit.cx(0, 1)\\n\\n    # Initialize a backend\\n    backend = AerSimulator()\\n\\n    # Use the _parse_dt function\\n    dt = _parse_dt('auto', backend)\\n\\n    # Compile the circuit with the calculated dt\\n    compiled_circuit = transpile(circuit, backend, scheduling_method='asap', dt=dt)\\n\\n    print(compiled_circuit)\\n\\nmain()\",\n",
       "        \"variable_name_of_circuit\": \"circuit\"\n",
       "    }\n",
       "}\n",
       "```"
      ],
      "text/plain": [
       "<IPython.core.display.Markdown object>"
      ]
     },
     "metadata": {},
     "output_type": "display_data"
    }
   ],
   "source": [
    "import difflib\n",
    "\n",
    "\n",
    "def are_different_in_memory_address(log1: str, log2: str) -> bool:\n",
    "    # different only in the memory address of the object\n",
    "    diff = difflib.ndiff(log1.splitlines(), log2.splitlines())\n",
    "    for line in diff:\n",
    "        if re.search(r'object at 0x[0-9a-f]+>', line):\n",
    "            return True\n",
    "    return False\n",
    "\n",
    "\n",
    "def last_line(log: str) -> str:\n",
    "    return log.splitlines()[-1] if log.splitlines() else ''\n",
    "\n",
    "\n",
    "def are_logs_meaningfully_different(log1: str, log2: str) -> bool:\n",
    "    if last_line(log1) != last_line(log2):\n",
    "        if are_different_in_memory_address(last_line(log1), last_line(log2)):\n",
    "            return False\n",
    "        return True\n",
    "    return False\n",
    "\n",
    "\n",
    "df_same_error_type_diff_logs = summary_df[\n",
    "    (summary_df['error_type_045'] == summary_df['error_type_120']) &\n",
    "    # (summary_df['log_045'].apply(last_line) != summary_df['log_120'].apply(last_line))\n",
    "    summary_df.apply(lambda row: are_logs_meaningfully_different(\n",
    "        row['log_045'], row['log_120']), axis=1)\n",
    "]\n",
    "\n",
    "# n_data = len(df_same_error_type_diff_logs)\n",
    "# display(Markdown(\n",
    "#     f\"# Same error but different logs ({n_data} programs)\"))\n",
    "# pretty_print_summary(df_same_error_type_diff_logs, max_to_show=n_data)\n",
    "\n",
    "df_different_logs = summary_df[\n",
    "    summary_df.apply(lambda row: are_logs_meaningfully_different(\n",
    "        row['log_045'], row['log_120']), axis=1)\n",
    "]\n",
    "\n",
    "n_data = len(df_different_logs)\n",
    "display(Markdown(f\"# Different logs ({n_data} programs)\"))\n",
    "# pretty_print_summary(df_different_logs, max_to_show=n_data)\n",
    "\n",
    "\n",
    "def determine_executed_more_lines(row):\n",
    "    row_045 = row[\"last_executed_row_045\"]\n",
    "    row_120 = row[\"last_executed_row_120\"]\n",
    "\n",
    "    if pd.isna(row_045) and pd.isna(row_120):\n",
    "        return \"same\"\n",
    "\n",
    "    row_045 = int(row_045) if not pd.isna(row_045) else None\n",
    "    row_120 = int(row_120) if not pd.isna(row_120) else None\n",
    "\n",
    "    if row_045 is None:\n",
    "        return \"qiskit_120\"\n",
    "    if row_120 is None:\n",
    "        return \"qiskit_045\"\n",
    "\n",
    "    if row_120 > row_045:\n",
    "        return \"qiskit_120\"\n",
    "    elif row_120 < row_045:\n",
    "        return \"qiskit_045\"\n",
    "    else:\n",
    "        return \"same\"\n",
    "\n",
    "\n",
    "df_same_error_type_diff_logs = df_same_error_type_diff_logs.copy()\n",
    "df_same_error_type_diff_logs[\"executed_more_lines\"] = df_same_error_type_diff_logs.apply(\n",
    "    determine_executed_more_lines, axis=1)\n",
    "df_same_error_type_diff_logs[\"executed_more_lines\"].value_counts()\n",
    "pretty_print_summary(df_same_error_type_diff_logs, max_to_show=5)"
   ]
  },
  {
   "cell_type": "code",
   "execution_count": null,
   "metadata": {},
   "outputs": [],
   "source": []
  }
 ],
 "metadata": {
  "kernelspec": {
   "display_name": "crosspl",
   "language": "python",
   "name": "python3"
  },
  "language_info": {
   "codemirror_mode": {
    "name": "ipython",
    "version": 3
   },
   "file_extension": ".py",
   "mimetype": "text/x-python",
   "name": "python",
   "nbconvert_exporter": "python",
   "pygments_lexer": "ipython3",
   "version": "3.10.14"
  }
 },
 "nbformat": 4,
 "nbformat_minor": 2
}
