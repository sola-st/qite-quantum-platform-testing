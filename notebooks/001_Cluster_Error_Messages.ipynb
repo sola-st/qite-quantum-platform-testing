{
 "cells": [
  {
   "cell_type": "code",
   "execution_count": 3,
   "metadata": {},
   "outputs": [],
   "source": [
    "import os\n",
    "import sys\n",
    "import json\n",
    "from pathlib import Path\n",
    "\n",
    "import pandas as pd\n",
    "import numpy as np\n",
    "import matplotlib.pyplot as plt\n",
    "import seaborn as sns\n",
    "\n",
    "from typing import List, Tuple, Dict, Any, Optional\n",
    "\n"
   ]
  },
  {
   "cell_type": "code",
   "execution_count": 7,
   "metadata": {},
   "outputs": [],
   "source": [
    "DIR_PROGRAM_BANK = os.path.join(\"..\", \"program_bank\", \"v001\", \"2024_10_04__14_48__qiskit\")"
   ]
  },
  {
   "cell_type": "code",
   "execution_count": 25,
   "metadata": {},
   "outputs": [
    {
     "data": {
      "text/html": [
       "<div>\n",
       "<style scoped>\n",
       "    .dataframe tbody tr th:only-of-type {\n",
       "        vertical-align: middle;\n",
       "    }\n",
       "\n",
       "    .dataframe tbody tr th {\n",
       "        vertical-align: top;\n",
       "    }\n",
       "\n",
       "    .dataframe thead th {\n",
       "        text-align: right;\n",
       "    }\n",
       "</style>\n",
       "<table border=\"1\" class=\"dataframe\">\n",
       "  <thead>\n",
       "    <tr style=\"text-align: right;\">\n",
       "      <th></th>\n",
       "      <th>exception_message</th>\n",
       "      <th>stack_trace</th>\n",
       "      <th>current_file</th>\n",
       "      <th>involved_functions</th>\n",
       "      <th>error_file</th>\n",
       "    </tr>\n",
       "  </thead>\n",
       "  <tbody>\n",
       "    <tr>\n",
       "      <th>0</th>\n",
       "      <td>The circuits are not equivalent: /workspace/qi...</td>\n",
       "      <td>Traceback (most recent call last):\\n  File \"/w...</td>\n",
       "      <td>qiskit_circuit_30q_10g_13_ebea85.py</td>\n",
       "      <td>[compare_qasm_via_qcec, export_to_qasm_with_py...</td>\n",
       "      <td>qiskit_circuit_30q_10g_13_ebea85_fdae2b_error....</td>\n",
       "    </tr>\n",
       "    <tr>\n",
       "      <th>1</th>\n",
       "      <td>One of the circuits contains mid-circuit non-u...</td>\n",
       "      <td>Traceback (most recent call last):\\n  File \"/w...</td>\n",
       "      <td>qiskit_circuit_30q_10g_27_35e518.py</td>\n",
       "      <td>[compare_qasm_via_qcec, export_to_qasm_with_py...</td>\n",
       "      <td>qiskit_circuit_30q_10g_27_35e518_95ff74_error....</td>\n",
       "    </tr>\n",
       "    <tr>\n",
       "      <th>2</th>\n",
       "      <td>Cannot print command of type: PhasedX(0.5, 0)</td>\n",
       "      <td>Traceback (most recent call last):\\n  File \"/w...</td>\n",
       "      <td>qiskit_circuit_30q_10g_23_a71d51.py</td>\n",
       "      <td>[export_to_qasm_with_pytket]</td>\n",
       "      <td>qiskit_circuit_30q_10g_23_a71d51_053938_error....</td>\n",
       "    </tr>\n",
       "    <tr>\n",
       "      <th>3</th>\n",
       "      <td>\"&lt;input&gt;:7,0: 'cswap' is not defined in this s...</td>\n",
       "      <td>Traceback (most recent call last):\\n  File \"/w...</td>\n",
       "      <td>qiskit_circuit_30q_10g_44_537804.py</td>\n",
       "      <td>[import_from_qasm_with_qiskit, export_to_qasm_...</td>\n",
       "      <td>qiskit_circuit_30q_10g_44_537804_a6161a_error....</td>\n",
       "    </tr>\n",
       "    <tr>\n",
       "      <th>4</th>\n",
       "      <td>Could not import second circuit: &lt;input&gt;:3:6:\\...</td>\n",
       "      <td>Traceback (most recent call last):\\n  File \"/w...</td>\n",
       "      <td>qiskit_circuit_30q_10g_2_53fa5e.py</td>\n",
       "      <td>[compare_qasm_via_qcec, export_to_qasm_with_pe...</td>\n",
       "      <td>qiskit_circuit_30q_10g_2_53fa5e_3980bb_error.json</td>\n",
       "    </tr>\n",
       "  </tbody>\n",
       "</table>\n",
       "</div>"
      ],
      "text/plain": [
       "                                   exception_message  \\\n",
       "0  The circuits are not equivalent: /workspace/qi...   \n",
       "1  One of the circuits contains mid-circuit non-u...   \n",
       "2      Cannot print command of type: PhasedX(0.5, 0)   \n",
       "3  \"<input>:7,0: 'cswap' is not defined in this s...   \n",
       "4  Could not import second circuit: <input>:3:6:\\...   \n",
       "\n",
       "                                         stack_trace  \\\n",
       "0  Traceback (most recent call last):\\n  File \"/w...   \n",
       "1  Traceback (most recent call last):\\n  File \"/w...   \n",
       "2  Traceback (most recent call last):\\n  File \"/w...   \n",
       "3  Traceback (most recent call last):\\n  File \"/w...   \n",
       "4  Traceback (most recent call last):\\n  File \"/w...   \n",
       "\n",
       "                          current_file  \\\n",
       "0  qiskit_circuit_30q_10g_13_ebea85.py   \n",
       "1  qiskit_circuit_30q_10g_27_35e518.py   \n",
       "2  qiskit_circuit_30q_10g_23_a71d51.py   \n",
       "3  qiskit_circuit_30q_10g_44_537804.py   \n",
       "4   qiskit_circuit_30q_10g_2_53fa5e.py   \n",
       "\n",
       "                                  involved_functions  \\\n",
       "0  [compare_qasm_via_qcec, export_to_qasm_with_py...   \n",
       "1  [compare_qasm_via_qcec, export_to_qasm_with_py...   \n",
       "2                       [export_to_qasm_with_pytket]   \n",
       "3  [import_from_qasm_with_qiskit, export_to_qasm_...   \n",
       "4  [compare_qasm_via_qcec, export_to_qasm_with_pe...   \n",
       "\n",
       "                                          error_file  \n",
       "0  qiskit_circuit_30q_10g_13_ebea85_fdae2b_error....  \n",
       "1  qiskit_circuit_30q_10g_27_35e518_95ff74_error....  \n",
       "2  qiskit_circuit_30q_10g_23_a71d51_053938_error....  \n",
       "3  qiskit_circuit_30q_10g_44_537804_a6161a_error....  \n",
       "4  qiskit_circuit_30q_10g_2_53fa5e_3980bb_error.json  "
      ]
     },
     "execution_count": 25,
     "metadata": {},
     "output_type": "execute_result"
    }
   ],
   "source": [
    "from multiprocessing import Pool\n",
    "import re\n",
    "\n",
    "def read_json_file(file_path: str) -> Dict[str, Any]:\n",
    "    with open(file_path, 'r') as file:\n",
    "        data = json.load(file)\n",
    "        data[\"error_file\"] = os.path.basename(file_path)\n",
    "        return data\n",
    "\n",
    "def read_all_programs(dir_path: str) -> pd.DataFrame:\n",
    "    json_files = [os.path.join(dir_path, f) for f in os.listdir(dir_path) if re.match(r'.*_error\\.json$', f)]\n",
    "    records = []\n",
    "\n",
    "    with Pool() as pool:\n",
    "        results = pool.map(read_json_file, json_files)\n",
    "        records.extend(results)\n",
    "\n",
    "    return pd.DataFrame(records)\n",
    "\n",
    "# Use the function to read all programs\n",
    "df_errors = read_all_programs(DIR_PROGRAM_BANK)\n",
    "df_errors.head()\n"
   ]
  },
  {
   "cell_type": "code",
   "execution_count": 53,
   "metadata": {},
   "outputs": [
    {
     "data": {
      "image/png": "[encoded data removed]",
      "text/plain": [
       "<Figure size 1000x600 with 1 Axes>"
      ]
     },
     "metadata": {},
     "output_type": "display_data"
    },
    {
     "name": "stdout",
     "output_type": "stream",
     "text": [
      "\n",
      "Cluster 0:\n",
      "\n",
      "Message: The circuits are not equivalent: /workspace/qiskit_circuit_30q_10g_13_ebea85_qc_pytket.qasm, /workspace/qiskit_circuit_30q_10g_13_ebea85_qc_qiskit.qasm\n",
      "Command: python -m analysis_and_reporting.ddmin_target_file --input_folder program_bank/v001/2024_10_04__14_48__qiskit --path_to_error program_bank/v001/2024_10_04__14_48__qiskit/qiskit_circuit_30q_10g_13_ebea85_fdae2b_error.json --clue_message 'The circuits are not equivalent: /workspace/qiskit_circuit_30q_10g_13_ebea85_qc_pytket.qasm, /workspace/qiskit_circuit_30q_10g_13_ebea85_qc_qiskit.qasm'\n"
     ]
    },
    {
     "data": {
      "text/html": [
       "<a href=\"../program_bank/v001/2024_10_04__14_48__qiskit/qiskit_circuit_30q_10g_13_ebea85.py\" target=\"_blank\">File</a> | <a href=\"../program_bank/v001/2024_10_04__14_48__qiskit/qiskit_circuit_30q_10g_13_ebea85_fdae2b_error.json\" target=\"_blank\">Error File</a> | \n",
       "        <button onclick=\"navigator.clipboard.writeText('python -m analysis_and_reporting.ddmin_target_file --input_folder program_bank/v001/2024_10_04__14_48__qiskit --path_to_error program_bank/v001/2024_10_04__14_48__qiskit/qiskit_circuit_30q_10g_13_ebea85_fdae2b_error.json --clue_message \\'The circuits are not equivalent: /workspace/qiskit_circuit_30q_10g_13_ebea85_qc_pytket.qasm, /workspace/qiskit_circuit_30q_10g_13_ebea85_qc_qiskit.qasm\\'')\">Copy Command</button>\n",
       "        "
      ],
      "text/plain": [
       "<IPython.core.display.HTML object>"
      ]
     },
     "metadata": {},
     "output_type": "display_data"
    },
    {
     "name": "stdout",
     "output_type": "stream",
     "text": [
      "Message: One of the circuits contains mid-circuit non-unitary primitives. To verify such circuits, the checker must be configured with `transformDynamicCircuit=true` (`transform_dynamic_circuits=True` in Python).\n",
      "Command: python -m analysis_and_reporting.ddmin_target_file --input_folder program_bank/v001/2024_10_04__14_48__qiskit --path_to_error program_bank/v001/2024_10_04__14_48__qiskit/qiskit_circuit_30q_10g_27_35e518_95ff74_error.json --clue_message 'One of the circuits contains mid-circuit non-unitary primitives. To verify such circuits, the checker must be configured with `transformDynamicCircuit=true` (`transform_dynamic_circuits=True` in Python).'\n"
     ]
    },
    {
     "data": {
      "text/html": [
       "<a href=\"../program_bank/v001/2024_10_04__14_48__qiskit/qiskit_circuit_30q_10g_27_35e518.py\" target=\"_blank\">File</a> | <a href=\"../program_bank/v001/2024_10_04__14_48__qiskit/qiskit_circuit_30q_10g_27_35e518_95ff74_error.json\" target=\"_blank\">Error File</a> | \n",
       "        <button onclick=\"navigator.clipboard.writeText('python -m analysis_and_reporting.ddmin_target_file --input_folder program_bank/v001/2024_10_04__14_48__qiskit --path_to_error program_bank/v001/2024_10_04__14_48__qiskit/qiskit_circuit_30q_10g_27_35e518_95ff74_error.json --clue_message \\'One of the circuits contains mid-circuit non-unitary primitives. To verify such circuits, the checker must be configured with `transformDynamicCircuit=true` (`transform_dynamic_circuits=True` in Python).\\'')\">Copy Command</button>\n",
       "        "
      ],
      "text/plain": [
       "<IPython.core.display.HTML object>"
      ]
     },
     "metadata": {},
     "output_type": "display_data"
    },
    {
     "name": "stdout",
     "output_type": "stream",
     "text": [
      "Message: The circuits are not equivalent: /workspace/qiskit_circuit_30q_10g_53_fdff33_qc_pennylane.qasm, /workspace/qiskit_circuit_30q_10g_53_fdff33_qc_qiskit.qasm\n",
      "Command: python -m analysis_and_reporting.ddmin_target_file --input_folder program_bank/v001/2024_10_04__14_48__qiskit --path_to_error program_bank/v001/2024_10_04__14_48__qiskit/qiskit_circuit_30q_10g_53_fdff33_128f21_error.json --clue_message 'The circuits are not equivalent: /workspace/qiskit_circuit_30q_10g_53_fdff33_qc_pennylane.qasm, /workspace/qiskit_circuit_30q_10g_53_fdff33_qc_qiskit.qasm'\n"
     ]
    },
    {
     "data": {
      "text/html": [
       "<a href=\"../program_bank/v001/2024_10_04__14_48__qiskit/qiskit_circuit_30q_10g_53_fdff33.py\" target=\"_blank\">File</a> | <a href=\"../program_bank/v001/2024_10_04__14_48__qiskit/qiskit_circuit_30q_10g_53_fdff33_128f21_error.json\" target=\"_blank\">Error File</a> | \n",
       "        <button onclick=\"navigator.clipboard.writeText('python -m analysis_and_reporting.ddmin_target_file --input_folder program_bank/v001/2024_10_04__14_48__qiskit --path_to_error program_bank/v001/2024_10_04__14_48__qiskit/qiskit_circuit_30q_10g_53_fdff33_128f21_error.json --clue_message \\'The circuits are not equivalent: /workspace/qiskit_circuit_30q_10g_53_fdff33_qc_pennylane.qasm, /workspace/qiskit_circuit_30q_10g_53_fdff33_qc_qiskit.qasm\\'')\">Copy Command</button>\n",
       "        "
      ],
      "text/plain": [
       "<IPython.core.display.HTML object>"
      ]
     },
     "metadata": {},
     "output_type": "display_data"
    },
    {
     "name": "stdout",
     "output_type": "stream",
     "text": [
      "Message: The circuits are not equivalent: /workspace/qiskit_circuit_30q_10g_82_9ca8f1_qc_pytket.qasm, /workspace/qiskit_circuit_30q_10g_82_9ca8f1_qc_qiskit.qasm\n",
      "Command: python -m analysis_and_reporting.ddmin_target_file --input_folder program_bank/v001/2024_10_04__14_48__qiskit --path_to_error program_bank/v001/2024_10_04__14_48__qiskit/qiskit_circuit_30q_10g_82_9ca8f1_7d5042_error.json --clue_message 'The circuits are not equivalent: /workspace/qiskit_circuit_30q_10g_82_9ca8f1_qc_pytket.qasm, /workspace/qiskit_circuit_30q_10g_82_9ca8f1_qc_qiskit.qasm'\n"
     ]
    },
    {
     "data": {
      "text/html": [
       "<a href=\"../program_bank/v001/2024_10_04__14_48__qiskit/qiskit_circuit_30q_10g_82_9ca8f1.py\" target=\"_blank\">File</a> | <a href=\"../program_bank/v001/2024_10_04__14_48__qiskit/qiskit_circuit_30q_10g_82_9ca8f1_7d5042_error.json\" target=\"_blank\">Error File</a> | \n",
       "        <button onclick=\"navigator.clipboard.writeText('python -m analysis_and_reporting.ddmin_target_file --input_folder program_bank/v001/2024_10_04__14_48__qiskit --path_to_error program_bank/v001/2024_10_04__14_48__qiskit/qiskit_circuit_30q_10g_82_9ca8f1_7d5042_error.json --clue_message \\'The circuits are not equivalent: /workspace/qiskit_circuit_30q_10g_82_9ca8f1_qc_pytket.qasm, /workspace/qiskit_circuit_30q_10g_82_9ca8f1_qc_qiskit.qasm\\'')\">Copy Command</button>\n",
       "        "
      ],
      "text/plain": [
       "<IPython.core.display.HTML object>"
      ]
     },
     "metadata": {},
     "output_type": "display_data"
    },
    {
     "name": "stdout",
     "output_type": "stream",
     "text": [
      "Message: The circuits are not equivalent: /workspace/qiskit_circuit_30q_10g_6_e950b4_qc_pennylane.qasm, /workspace/qiskit_circuit_30q_10g_6_e950b4_qc_pytket.qasm\n",
      "Command: python -m analysis_and_reporting.ddmin_target_file --input_folder program_bank/v001/2024_10_04__14_48__qiskit --path_to_error program_bank/v001/2024_10_04__14_48__qiskit/qiskit_circuit_30q_10g_6_e950b4_36ebb6_error.json --clue_message 'The circuits are not equivalent: /workspace/qiskit_circuit_30q_10g_6_e950b4_qc_pennylane.qasm, /workspace/qiskit_circuit_30q_10g_6_e950b4_qc_pytket.qasm'\n"
     ]
    },
    {
     "data": {
      "text/html": [
       "<a href=\"../program_bank/v001/2024_10_04__14_48__qiskit/qiskit_circuit_30q_10g_6_e950b4.py\" target=\"_blank\">File</a> | <a href=\"../program_bank/v001/2024_10_04__14_48__qiskit/qiskit_circuit_30q_10g_6_e950b4_36ebb6_error.json\" target=\"_blank\">Error File</a> | \n",
       "        <button onclick=\"navigator.clipboard.writeText('python -m analysis_and_reporting.ddmin_target_file --input_folder program_bank/v001/2024_10_04__14_48__qiskit --path_to_error program_bank/v001/2024_10_04__14_48__qiskit/qiskit_circuit_30q_10g_6_e950b4_36ebb6_error.json --clue_message \\'The circuits are not equivalent: /workspace/qiskit_circuit_30q_10g_6_e950b4_qc_pennylane.qasm, /workspace/qiskit_circuit_30q_10g_6_e950b4_qc_pytket.qasm\\'')\">Copy Command</button>\n",
       "        "
      ],
      "text/plain": [
       "<IPython.core.display.HTML object>"
      ]
     },
     "metadata": {},
     "output_type": "display_data"
    },
    {
     "name": "stdout",
     "output_type": "stream",
     "text": [
      "Message: One of the circuits contains mid-circuit non-unitary primitives. To verify such circuits, the checker must be configured with `transformDynamicCircuit=true` (`transform_dynamic_circuits=True` in Python).\n",
      "Command: python -m analysis_and_reporting.ddmin_target_file --input_folder program_bank/v001/2024_10_04__14_48__qiskit --path_to_error program_bank/v001/2024_10_04__14_48__qiskit/qiskit_circuit_30q_10g_63_c0c91b_2d8ffa_error.json --clue_message 'One of the circuits contains mid-circuit non-unitary primitives. To verify such circuits, the checker must be configured with `transformDynamicCircuit=true` (`transform_dynamic_circuits=True` in Python).'\n"
     ]
    },
    {
     "data": {
      "text/html": [
       "<a href=\"../program_bank/v001/2024_10_04__14_48__qiskit/qiskit_circuit_30q_10g_63_c0c91b.py\" target=\"_blank\">File</a> | <a href=\"../program_bank/v001/2024_10_04__14_48__qiskit/qiskit_circuit_30q_10g_63_c0c91b_2d8ffa_error.json\" target=\"_blank\">Error File</a> | \n",
       "        <button onclick=\"navigator.clipboard.writeText('python -m analysis_and_reporting.ddmin_target_file --input_folder program_bank/v001/2024_10_04__14_48__qiskit --path_to_error program_bank/v001/2024_10_04__14_48__qiskit/qiskit_circuit_30q_10g_63_c0c91b_2d8ffa_error.json --clue_message \\'One of the circuits contains mid-circuit non-unitary primitives. To verify such circuits, the checker must be configured with `transformDynamicCircuit=true` (`transform_dynamic_circuits=True` in Python).\\'')\">Copy Command</button>\n",
       "        "
      ],
      "text/plain": [
       "<IPython.core.display.HTML object>"
      ]
     },
     "metadata": {},
     "output_type": "display_data"
    },
    {
     "name": "stdout",
     "output_type": "stream",
     "text": [
      "Message: The circuits are not equivalent: /workspace/qiskit_circuit_30q_10g_56_615b91_qc_pytket.qasm, /workspace/qiskit_circuit_30q_10g_56_615b91_qc_qiskit.qasm\n",
      "Command: python -m analysis_and_reporting.ddmin_target_file --input_folder program_bank/v001/2024_10_04__14_48__qiskit --path_to_error program_bank/v001/2024_10_04__14_48__qiskit/qiskit_circuit_30q_10g_56_615b91_4eedf1_error.json --clue_message 'The circuits are not equivalent: /workspace/qiskit_circuit_30q_10g_56_615b91_qc_pytket.qasm, /workspace/qiskit_circuit_30q_10g_56_615b91_qc_qiskit.qasm'\n"
     ]
    },
    {
     "data": {
      "text/html": [
       "<a href=\"../program_bank/v001/2024_10_04__14_48__qiskit/qiskit_circuit_30q_10g_56_615b91.py\" target=\"_blank\">File</a> | <a href=\"../program_bank/v001/2024_10_04__14_48__qiskit/qiskit_circuit_30q_10g_56_615b91_4eedf1_error.json\" target=\"_blank\">Error File</a> | \n",
       "        <button onclick=\"navigator.clipboard.writeText('python -m analysis_and_reporting.ddmin_target_file --input_folder program_bank/v001/2024_10_04__14_48__qiskit --path_to_error program_bank/v001/2024_10_04__14_48__qiskit/qiskit_circuit_30q_10g_56_615b91_4eedf1_error.json --clue_message \\'The circuits are not equivalent: /workspace/qiskit_circuit_30q_10g_56_615b91_qc_pytket.qasm, /workspace/qiskit_circuit_30q_10g_56_615b91_qc_qiskit.qasm\\'')\">Copy Command</button>\n",
       "        "
      ],
      "text/plain": [
       "<IPython.core.display.HTML object>"
      ]
     },
     "metadata": {},
     "output_type": "display_data"
    },
    {
     "name": "stdout",
     "output_type": "stream",
     "text": [
      "Message: One of the circuits contains mid-circuit non-unitary primitives. To verify such circuits, the checker must be configured with `transformDynamicCircuit=true` (`transform_dynamic_circuits=True` in Python).\n",
      "Command: python -m analysis_and_reporting.ddmin_target_file --input_folder program_bank/v001/2024_10_04__14_48__qiskit --path_to_error program_bank/v001/2024_10_04__14_48__qiskit/qiskit_circuit_30q_10g_89_f10e4c_67dcf7_error.json --clue_message 'One of the circuits contains mid-circuit non-unitary primitives. To verify such circuits, the checker must be configured with `transformDynamicCircuit=true` (`transform_dynamic_circuits=True` in Python).'\n"
     ]
    },
    {
     "data": {
      "text/html": [
       "<a href=\"../program_bank/v001/2024_10_04__14_48__qiskit/qiskit_circuit_30q_10g_89_f10e4c.py\" target=\"_blank\">File</a> | <a href=\"../program_bank/v001/2024_10_04__14_48__qiskit/qiskit_circuit_30q_10g_89_f10e4c_67dcf7_error.json\" target=\"_blank\">Error File</a> | \n",
       "        <button onclick=\"navigator.clipboard.writeText('python -m analysis_and_reporting.ddmin_target_file --input_folder program_bank/v001/2024_10_04__14_48__qiskit --path_to_error program_bank/v001/2024_10_04__14_48__qiskit/qiskit_circuit_30q_10g_89_f10e4c_67dcf7_error.json --clue_message \\'One of the circuits contains mid-circuit non-unitary primitives. To verify such circuits, the checker must be configured with `transformDynamicCircuit=true` (`transform_dynamic_circuits=True` in Python).\\'')\">Copy Command</button>\n",
       "        "
      ],
      "text/plain": [
       "<IPython.core.display.HTML object>"
      ]
     },
     "metadata": {},
     "output_type": "display_data"
    },
    {
     "name": "stdout",
     "output_type": "stream",
     "text": [
      "Message: The circuits are not equivalent: /workspace/qiskit_circuit_30q_10g_57_a06803_qc_pennylane.qasm, /workspace/qiskit_circuit_30q_10g_57_a06803_qc_pytket.qasm\n",
      "Command: python -m analysis_and_reporting.ddmin_target_file --input_folder program_bank/v001/2024_10_04__14_48__qiskit --path_to_error program_bank/v001/2024_10_04__14_48__qiskit/qiskit_circuit_30q_10g_57_a06803_98cb4f_error.json --clue_message 'The circuits are not equivalent: /workspace/qiskit_circuit_30q_10g_57_a06803_qc_pennylane.qasm, /workspace/qiskit_circuit_30q_10g_57_a06803_qc_pytket.qasm'\n"
     ]
    },
    {
     "data": {
      "text/html": [
       "<a href=\"../program_bank/v001/2024_10_04__14_48__qiskit/qiskit_circuit_30q_10g_57_a06803.py\" target=\"_blank\">File</a> | <a href=\"../program_bank/v001/2024_10_04__14_48__qiskit/qiskit_circuit_30q_10g_57_a06803_98cb4f_error.json\" target=\"_blank\">Error File</a> | \n",
       "        <button onclick=\"navigator.clipboard.writeText('python -m analysis_and_reporting.ddmin_target_file --input_folder program_bank/v001/2024_10_04__14_48__qiskit --path_to_error program_bank/v001/2024_10_04__14_48__qiskit/qiskit_circuit_30q_10g_57_a06803_98cb4f_error.json --clue_message \\'The circuits are not equivalent: /workspace/qiskit_circuit_30q_10g_57_a06803_qc_pennylane.qasm, /workspace/qiskit_circuit_30q_10g_57_a06803_qc_pytket.qasm\\'')\">Copy Command</button>\n",
       "        "
      ],
      "text/plain": [
       "<IPython.core.display.HTML object>"
      ]
     },
     "metadata": {},
     "output_type": "display_data"
    },
    {
     "name": "stdout",
     "output_type": "stream",
     "text": [
      "Message: The circuits are not equivalent: /workspace/qiskit_circuit_30q_10g_78_d63f80_qc_pennylane.qasm, /workspace/qiskit_circuit_30q_10g_78_d63f80_qc_qiskit.qasm\n",
      "Command: python -m analysis_and_reporting.ddmin_target_file --input_folder program_bank/v001/2024_10_04__14_48__qiskit --path_to_error program_bank/v001/2024_10_04__14_48__qiskit/qiskit_circuit_30q_10g_78_d63f80_bd6324_error.json --clue_message 'The circuits are not equivalent: /workspace/qiskit_circuit_30q_10g_78_d63f80_qc_pennylane.qasm, /workspace/qiskit_circuit_30q_10g_78_d63f80_qc_qiskit.qasm'\n"
     ]
    },
    {
     "data": {
      "text/html": [
       "<a href=\"../program_bank/v001/2024_10_04__14_48__qiskit/qiskit_circuit_30q_10g_78_d63f80.py\" target=\"_blank\">File</a> | <a href=\"../program_bank/v001/2024_10_04__14_48__qiskit/qiskit_circuit_30q_10g_78_d63f80_bd6324_error.json\" target=\"_blank\">Error File</a> | \n",
       "        <button onclick=\"navigator.clipboard.writeText('python -m analysis_and_reporting.ddmin_target_file --input_folder program_bank/v001/2024_10_04__14_48__qiskit --path_to_error program_bank/v001/2024_10_04__14_48__qiskit/qiskit_circuit_30q_10g_78_d63f80_bd6324_error.json --clue_message \\'The circuits are not equivalent: /workspace/qiskit_circuit_30q_10g_78_d63f80_qc_pennylane.qasm, /workspace/qiskit_circuit_30q_10g_78_d63f80_qc_qiskit.qasm\\'')\">Copy Command</button>\n",
       "        "
      ],
      "text/plain": [
       "<IPython.core.display.HTML object>"
      ]
     },
     "metadata": {},
     "output_type": "display_data"
    },
    {
     "name": "stdout",
     "output_type": "stream",
     "text": [
      "\n",
      "Cluster 1:\n",
      "\n",
      "Message: \"<input>:7,0: 'cswap' is not defined in this scope\"\n",
      "Command: python -m analysis_and_reporting.ddmin_target_file --input_folder program_bank/v001/2024_10_04__14_48__qiskit --path_to_error program_bank/v001/2024_10_04__14_48__qiskit/qiskit_circuit_30q_10g_44_537804_a6161a_error.json --clue_message '\"<input>:7,0: 'cswap' is not defined in this scope\"'\n"
     ]
    },
    {
     "data": {
      "text/html": [
       "<a href=\"../program_bank/v001/2024_10_04__14_48__qiskit/qiskit_circuit_30q_10g_44_537804.py\" target=\"_blank\">File</a> | <a href=\"../program_bank/v001/2024_10_04__14_48__qiskit/qiskit_circuit_30q_10g_44_537804_a6161a_error.json\" target=\"_blank\">Error File</a> | \n",
       "        <button onclick=\"navigator.clipboard.writeText('python -m analysis_and_reporting.ddmin_target_file --input_folder program_bank/v001/2024_10_04__14_48__qiskit --path_to_error program_bank/v001/2024_10_04__14_48__qiskit/qiskit_circuit_30q_10g_44_537804_a6161a_error.json --clue_message \\'\\\"<input>:7,0: \\'cswap\\' is not defined in this scope\\\"\\'')\">Copy Command</button>\n",
       "        "
      ],
      "text/plain": [
       "<IPython.core.display.HTML object>"
      ]
     },
     "metadata": {},
     "output_type": "display_data"
    },
    {
     "name": "stdout",
     "output_type": "stream",
     "text": [
      "Message: \"<input>:9,0: 'rccx' is not defined in this scope\"\n",
      "Command: python -m analysis_and_reporting.ddmin_target_file --input_folder program_bank/v001/2024_10_04__14_48__qiskit --path_to_error program_bank/v001/2024_10_04__14_48__qiskit/qiskit_circuit_30q_10g_63_c0c91b_ecea48_error.json --clue_message '\"<input>:9,0: 'rccx' is not defined in this scope\"'\n"
     ]
    },
    {
     "data": {
      "text/html": [
       "<a href=\"../program_bank/v001/2024_10_04__14_48__qiskit/qiskit_circuit_30q_10g_63_c0c91b.py\" target=\"_blank\">File</a> | <a href=\"../program_bank/v001/2024_10_04__14_48__qiskit/qiskit_circuit_30q_10g_63_c0c91b_ecea48_error.json\" target=\"_blank\">Error File</a> | \n",
       "        <button onclick=\"navigator.clipboard.writeText('python -m analysis_and_reporting.ddmin_target_file --input_folder program_bank/v001/2024_10_04__14_48__qiskit --path_to_error program_bank/v001/2024_10_04__14_48__qiskit/qiskit_circuit_30q_10g_63_c0c91b_ecea48_error.json --clue_message \\'\\\"<input>:9,0: \\'rccx\\' is not defined in this scope\\\"\\'')\">Copy Command</button>\n",
       "        "
      ],
      "text/plain": [
       "<IPython.core.display.HTML object>"
      ]
     },
     "metadata": {},
     "output_type": "display_data"
    },
    {
     "name": "stdout",
     "output_type": "stream",
     "text": [
      "Message: \"<input>:3,18: 'u' is not defined in this scope\"\n",
      "Command: python -m analysis_and_reporting.ddmin_target_file --input_folder program_bank/v001/2024_10_04__14_48__qiskit --path_to_error program_bank/v001/2024_10_04__14_48__qiskit/qiskit_circuit_30q_10g_59_f9bf3b_5584e7_error.json --clue_message '\"<input>:3,18: 'u' is not defined in this scope\"'\n"
     ]
    },
    {
     "data": {
      "text/html": [
       "<a href=\"../program_bank/v001/2024_10_04__14_48__qiskit/qiskit_circuit_30q_10g_59_f9bf3b.py\" target=\"_blank\">File</a> | <a href=\"../program_bank/v001/2024_10_04__14_48__qiskit/qiskit_circuit_30q_10g_59_f9bf3b_5584e7_error.json\" target=\"_blank\">Error File</a> | \n",
       "        <button onclick=\"navigator.clipboard.writeText('python -m analysis_and_reporting.ddmin_target_file --input_folder program_bank/v001/2024_10_04__14_48__qiskit --path_to_error program_bank/v001/2024_10_04__14_48__qiskit/qiskit_circuit_30q_10g_59_f9bf3b_5584e7_error.json --clue_message \\'\\\"<input>:3,18: \\'u\\' is not defined in this scope\\\"\\'')\">Copy Command</button>\n",
       "        "
      ],
      "text/plain": [
       "<IPython.core.display.HTML object>"
      ]
     },
     "metadata": {},
     "output_type": "display_data"
    },
    {
     "name": "stdout",
     "output_type": "stream",
     "text": [
      "Message: \"<input>:3,18: 'u' is not defined in this scope\"\n",
      "Command: python -m analysis_and_reporting.ddmin_target_file --input_folder program_bank/v001/2024_10_04__14_48__qiskit --path_to_error program_bank/v001/2024_10_04__14_48__qiskit/qiskit_circuit_30q_10g_27_35e518_04c8a1_error.json --clue_message '\"<input>:3,18: 'u' is not defined in this scope\"'\n"
     ]
    },
    {
     "data": {
      "text/html": [
       "<a href=\"../program_bank/v001/2024_10_04__14_48__qiskit/qiskit_circuit_30q_10g_27_35e518.py\" target=\"_blank\">File</a> | <a href=\"../program_bank/v001/2024_10_04__14_48__qiskit/qiskit_circuit_30q_10g_27_35e518_04c8a1_error.json\" target=\"_blank\">Error File</a> | \n",
       "        <button onclick=\"navigator.clipboard.writeText('python -m analysis_and_reporting.ddmin_target_file --input_folder program_bank/v001/2024_10_04__14_48__qiskit --path_to_error program_bank/v001/2024_10_04__14_48__qiskit/qiskit_circuit_30q_10g_27_35e518_04c8a1_error.json --clue_message \\'\\\"<input>:3,18: \\'u\\' is not defined in this scope\\\"\\'')\">Copy Command</button>\n",
       "        "
      ],
      "text/plain": [
       "<IPython.core.display.HTML object>"
      ]
     },
     "metadata": {},
     "output_type": "display_data"
    },
    {
     "name": "stdout",
     "output_type": "stream",
     "text": [
      "Message: \"<input>:9,0: 'cswap' is not defined in this scope\"\n",
      "Command: python -m analysis_and_reporting.ddmin_target_file --input_folder program_bank/v001/2024_10_04__14_48__qiskit --path_to_error program_bank/v001/2024_10_04__14_48__qiskit/qiskit_circuit_30q_10g_81_2d7724_c7c2e1_error.json --clue_message '\"<input>:9,0: 'cswap' is not defined in this scope\"'\n"
     ]
    },
    {
     "data": {
      "text/html": [
       "<a href=\"../program_bank/v001/2024_10_04__14_48__qiskit/qiskit_circuit_30q_10g_81_2d7724.py\" target=\"_blank\">File</a> | <a href=\"../program_bank/v001/2024_10_04__14_48__qiskit/qiskit_circuit_30q_10g_81_2d7724_c7c2e1_error.json\" target=\"_blank\">Error File</a> | \n",
       "        <button onclick=\"navigator.clipboard.writeText('python -m analysis_and_reporting.ddmin_target_file --input_folder program_bank/v001/2024_10_04__14_48__qiskit --path_to_error program_bank/v001/2024_10_04__14_48__qiskit/qiskit_circuit_30q_10g_81_2d7724_c7c2e1_error.json --clue_message \\'\\\"<input>:9,0: \\'cswap\\' is not defined in this scope\\\"\\'')\">Copy Command</button>\n",
       "        "
      ],
      "text/plain": [
       "<IPython.core.display.HTML object>"
      ]
     },
     "metadata": {},
     "output_type": "display_data"
    },
    {
     "name": "stdout",
     "output_type": "stream",
     "text": [
      "Message: \"<input>:3,35: 'u' is not defined in this scope\"\n",
      "Command: python -m analysis_and_reporting.ddmin_target_file --input_folder program_bank/v001/2024_10_04__14_48__qiskit --path_to_error program_bank/v001/2024_10_04__14_48__qiskit/qiskit_circuit_30q_10g_72_476d13_ead53b_error.json --clue_message '\"<input>:3,35: 'u' is not defined in this scope\"'\n"
     ]
    },
    {
     "data": {
      "text/html": [
       "<a href=\"../program_bank/v001/2024_10_04__14_48__qiskit/qiskit_circuit_30q_10g_72_476d13.py\" target=\"_blank\">File</a> | <a href=\"../program_bank/v001/2024_10_04__14_48__qiskit/qiskit_circuit_30q_10g_72_476d13_ead53b_error.json\" target=\"_blank\">Error File</a> | \n",
       "        <button onclick=\"navigator.clipboard.writeText('python -m analysis_and_reporting.ddmin_target_file --input_folder program_bank/v001/2024_10_04__14_48__qiskit --path_to_error program_bank/v001/2024_10_04__14_48__qiskit/qiskit_circuit_30q_10g_72_476d13_ead53b_error.json --clue_message \\'\\\"<input>:3,35: \\'u\\' is not defined in this scope\\\"\\'')\">Copy Command</button>\n",
       "        "
      ],
      "text/plain": [
       "<IPython.core.display.HTML object>"
      ]
     },
     "metadata": {},
     "output_type": "display_data"
    },
    {
     "name": "stdout",
     "output_type": "stream",
     "text": [
      "Message: \"<input>:4,16: 'p' is not defined in this scope\"\n",
      "Command: python -m analysis_and_reporting.ddmin_target_file --input_folder program_bank/v001/2024_10_04__14_48__qiskit --path_to_error program_bank/v001/2024_10_04__14_48__qiskit/qiskit_circuit_30q_10g_67_ed571e_4d1d81_error.json --clue_message '\"<input>:4,16: 'p' is not defined in this scope\"'\n"
     ]
    },
    {
     "data": {
      "text/html": [
       "<a href=\"../program_bank/v001/2024_10_04__14_48__qiskit/qiskit_circuit_30q_10g_67_ed571e.py\" target=\"_blank\">File</a> | <a href=\"../program_bank/v001/2024_10_04__14_48__qiskit/qiskit_circuit_30q_10g_67_ed571e_4d1d81_error.json\" target=\"_blank\">Error File</a> | \n",
       "        <button onclick=\"navigator.clipboard.writeText('python -m analysis_and_reporting.ddmin_target_file --input_folder program_bank/v001/2024_10_04__14_48__qiskit --path_to_error program_bank/v001/2024_10_04__14_48__qiskit/qiskit_circuit_30q_10g_67_ed571e_4d1d81_error.json --clue_message \\'\\\"<input>:4,16: \\'p\\' is not defined in this scope\\\"\\'')\">Copy Command</button>\n",
       "        "
      ],
      "text/plain": [
       "<IPython.core.display.HTML object>"
      ]
     },
     "metadata": {},
     "output_type": "display_data"
    },
    {
     "name": "stdout",
     "output_type": "stream",
     "text": [
      "Message: \"<input>:4,18: 'p' is not defined in this scope\"\n",
      "Command: python -m analysis_and_reporting.ddmin_target_file --input_folder program_bank/v001/2024_10_04__14_48__qiskit --path_to_error program_bank/v001/2024_10_04__14_48__qiskit/qiskit_circuit_30q_10g_75_19be96_5e8a9e_error.json --clue_message '\"<input>:4,18: 'p' is not defined in this scope\"'\n"
     ]
    },
    {
     "data": {
      "text/html": [
       "<a href=\"../program_bank/v001/2024_10_04__14_48__qiskit/qiskit_circuit_30q_10g_75_19be96.py\" target=\"_blank\">File</a> | <a href=\"../program_bank/v001/2024_10_04__14_48__qiskit/qiskit_circuit_30q_10g_75_19be96_5e8a9e_error.json\" target=\"_blank\">Error File</a> | \n",
       "        <button onclick=\"navigator.clipboard.writeText('python -m analysis_and_reporting.ddmin_target_file --input_folder program_bank/v001/2024_10_04__14_48__qiskit --path_to_error program_bank/v001/2024_10_04__14_48__qiskit/qiskit_circuit_30q_10g_75_19be96_5e8a9e_error.json --clue_message \\'\\\"<input>:4,18: \\'p\\' is not defined in this scope\\\"\\'')\">Copy Command</button>\n",
       "        "
      ],
      "text/plain": [
       "<IPython.core.display.HTML object>"
      ]
     },
     "metadata": {},
     "output_type": "display_data"
    },
    {
     "name": "stdout",
     "output_type": "stream",
     "text": [
      "Message: \"<input>:6,0: 'cp' is not defined in this scope\"\n",
      "Command: python -m analysis_and_reporting.ddmin_target_file --input_folder program_bank/v001/2024_10_04__14_48__qiskit --path_to_error program_bank/v001/2024_10_04__14_48__qiskit/qiskit_circuit_30q_10g_100_c217b8_30d541_error.json --clue_message '\"<input>:6,0: 'cp' is not defined in this scope\"'\n"
     ]
    },
    {
     "data": {
      "text/html": [
       "<a href=\"../program_bank/v001/2024_10_04__14_48__qiskit/qiskit_circuit_30q_10g_100_c217b8.py\" target=\"_blank\">File</a> | <a href=\"../program_bank/v001/2024_10_04__14_48__qiskit/qiskit_circuit_30q_10g_100_c217b8_30d541_error.json\" target=\"_blank\">Error File</a> | \n",
       "        <button onclick=\"navigator.clipboard.writeText('python -m analysis_and_reporting.ddmin_target_file --input_folder program_bank/v001/2024_10_04__14_48__qiskit --path_to_error program_bank/v001/2024_10_04__14_48__qiskit/qiskit_circuit_30q_10g_100_c217b8_30d541_error.json --clue_message \\'\\\"<input>:6,0: \\'cp\\' is not defined in this scope\\\"\\'')\">Copy Command</button>\n",
       "        "
      ],
      "text/plain": [
       "<IPython.core.display.HTML object>"
      ]
     },
     "metadata": {},
     "output_type": "display_data"
    },
    {
     "name": "stdout",
     "output_type": "stream",
     "text": [
      "Message: \"<input>:8,0: 'cu' is not defined in this scope\"\n",
      "Command: python -m analysis_and_reporting.ddmin_target_file --input_folder program_bank/v001/2024_10_04__14_48__qiskit --path_to_error program_bank/v001/2024_10_04__14_48__qiskit/qiskit_circuit_30q_10g_95_3cdebf_853613_error.json --clue_message '\"<input>:8,0: 'cu' is not defined in this scope\"'\n"
     ]
    },
    {
     "data": {
      "text/html": [
       "<a href=\"../program_bank/v001/2024_10_04__14_48__qiskit/qiskit_circuit_30q_10g_95_3cdebf.py\" target=\"_blank\">File</a> | <a href=\"../program_bank/v001/2024_10_04__14_48__qiskit/qiskit_circuit_30q_10g_95_3cdebf_853613_error.json\" target=\"_blank\">Error File</a> | \n",
       "        <button onclick=\"navigator.clipboard.writeText('python -m analysis_and_reporting.ddmin_target_file --input_folder program_bank/v001/2024_10_04__14_48__qiskit --path_to_error program_bank/v001/2024_10_04__14_48__qiskit/qiskit_circuit_30q_10g_95_3cdebf_853613_error.json --clue_message \\'\\\"<input>:8,0: \\'cu\\' is not defined in this scope\\\"\\'')\">Copy Command</button>\n",
       "        "
      ],
      "text/plain": [
       "<IPython.core.display.HTML object>"
      ]
     },
     "metadata": {},
     "output_type": "display_data"
    },
    {
     "name": "stdout",
     "output_type": "stream",
     "text": [
      "\n",
      "Cluster 2:\n",
      "\n",
      "Message: Operation MidMeasureMP not supported by the QASM serializer\n",
      "Command: python -m analysis_and_reporting.ddmin_target_file --input_folder program_bank/v001/2024_10_04__14_48__qiskit --path_to_error program_bank/v001/2024_10_04__14_48__qiskit/qiskit_circuit_30q_10g_42_fb6a18_ee77cc_error.json --clue_message 'Operation MidMeasureMP not supported by the QASM serializer'\n"
     ]
    },
    {
     "data": {
      "text/html": [
       "<a href=\"../program_bank/v001/2024_10_04__14_48__qiskit/qiskit_circuit_30q_10g_42_fb6a18.py\" target=\"_blank\">File</a> | <a href=\"../program_bank/v001/2024_10_04__14_48__qiskit/qiskit_circuit_30q_10g_42_fb6a18_ee77cc_error.json\" target=\"_blank\">Error File</a> | \n",
       "        <button onclick=\"navigator.clipboard.writeText('python -m analysis_and_reporting.ddmin_target_file --input_folder program_bank/v001/2024_10_04__14_48__qiskit --path_to_error program_bank/v001/2024_10_04__14_48__qiskit/qiskit_circuit_30q_10g_42_fb6a18_ee77cc_error.json --clue_message \\'Operation MidMeasureMP not supported by the QASM serializer\\'')\">Copy Command</button>\n",
       "        "
      ],
      "text/plain": [
       "<IPython.core.display.HTML object>"
      ]
     },
     "metadata": {},
     "output_type": "display_data"
    },
    {
     "name": "stdout",
     "output_type": "stream",
     "text": [
      "Message: Operation MidMeasureMP not supported by the QASM serializer\n",
      "Command: python -m analysis_and_reporting.ddmin_target_file --input_folder program_bank/v001/2024_10_04__14_48__qiskit --path_to_error program_bank/v001/2024_10_04__14_48__qiskit/qiskit_circuit_30q_10g_15_3bdb14_11ceed_error.json --clue_message 'Operation MidMeasureMP not supported by the QASM serializer'\n"
     ]
    },
    {
     "data": {
      "text/html": [
       "<a href=\"../program_bank/v001/2024_10_04__14_48__qiskit/qiskit_circuit_30q_10g_15_3bdb14.py\" target=\"_blank\">File</a> | <a href=\"../program_bank/v001/2024_10_04__14_48__qiskit/qiskit_circuit_30q_10g_15_3bdb14_11ceed_error.json\" target=\"_blank\">Error File</a> | \n",
       "        <button onclick=\"navigator.clipboard.writeText('python -m analysis_and_reporting.ddmin_target_file --input_folder program_bank/v001/2024_10_04__14_48__qiskit --path_to_error program_bank/v001/2024_10_04__14_48__qiskit/qiskit_circuit_30q_10g_15_3bdb14_11ceed_error.json --clue_message \\'Operation MidMeasureMP not supported by the QASM serializer\\'')\">Copy Command</button>\n",
       "        "
      ],
      "text/plain": [
       "<IPython.core.display.HTML object>"
      ]
     },
     "metadata": {},
     "output_type": "display_data"
    },
    {
     "name": "stdout",
     "output_type": "stream",
     "text": [
      "Message: Operation MidMeasureMP not supported by the QASM serializer\n",
      "Command: python -m analysis_and_reporting.ddmin_target_file --input_folder program_bank/v001/2024_10_04__14_48__qiskit --path_to_error program_bank/v001/2024_10_04__14_48__qiskit/qiskit_circuit_30q_10g_26_923945_20bcda_error.json --clue_message 'Operation MidMeasureMP not supported by the QASM serializer'\n"
     ]
    },
    {
     "data": {
      "text/html": [
       "<a href=\"../program_bank/v001/2024_10_04__14_48__qiskit/qiskit_circuit_30q_10g_26_923945.py\" target=\"_blank\">File</a> | <a href=\"../program_bank/v001/2024_10_04__14_48__qiskit/qiskit_circuit_30q_10g_26_923945_20bcda_error.json\" target=\"_blank\">Error File</a> | \n",
       "        <button onclick=\"navigator.clipboard.writeText('python -m analysis_and_reporting.ddmin_target_file --input_folder program_bank/v001/2024_10_04__14_48__qiskit --path_to_error program_bank/v001/2024_10_04__14_48__qiskit/qiskit_circuit_30q_10g_26_923945_20bcda_error.json --clue_message \\'Operation MidMeasureMP not supported by the QASM serializer\\'')\">Copy Command</button>\n",
       "        "
      ],
      "text/plain": [
       "<IPython.core.display.HTML object>"
      ]
     },
     "metadata": {},
     "output_type": "display_data"
    },
    {
     "name": "stdout",
     "output_type": "stream",
     "text": [
      "Message: Operation MidMeasureMP not supported by the QASM serializer\n",
      "Command: python -m analysis_and_reporting.ddmin_target_file --input_folder program_bank/v001/2024_10_04__14_48__qiskit --path_to_error program_bank/v001/2024_10_04__14_48__qiskit/qiskit_circuit_30q_10g_82_9ca8f1_1b72cc_error.json --clue_message 'Operation MidMeasureMP not supported by the QASM serializer'\n"
     ]
    },
    {
     "data": {
      "text/html": [
       "<a href=\"../program_bank/v001/2024_10_04__14_48__qiskit/qiskit_circuit_30q_10g_82_9ca8f1.py\" target=\"_blank\">File</a> | <a href=\"../program_bank/v001/2024_10_04__14_48__qiskit/qiskit_circuit_30q_10g_82_9ca8f1_1b72cc_error.json\" target=\"_blank\">Error File</a> | \n",
       "        <button onclick=\"navigator.clipboard.writeText('python -m analysis_and_reporting.ddmin_target_file --input_folder program_bank/v001/2024_10_04__14_48__qiskit --path_to_error program_bank/v001/2024_10_04__14_48__qiskit/qiskit_circuit_30q_10g_82_9ca8f1_1b72cc_error.json --clue_message \\'Operation MidMeasureMP not supported by the QASM serializer\\'')\">Copy Command</button>\n",
       "        "
      ],
      "text/plain": [
       "<IPython.core.display.HTML object>"
      ]
     },
     "metadata": {},
     "output_type": "display_data"
    },
    {
     "name": "stdout",
     "output_type": "stream",
     "text": [
      "Message: Operation MidMeasureMP not supported by the QASM serializer\n",
      "Command: python -m analysis_and_reporting.ddmin_target_file --input_folder program_bank/v001/2024_10_04__14_48__qiskit --path_to_error program_bank/v001/2024_10_04__14_48__qiskit/qiskit_circuit_30q_10g_73_916a13_30d3ea_error.json --clue_message 'Operation MidMeasureMP not supported by the QASM serializer'\n"
     ]
    },
    {
     "data": {
      "text/html": [
       "<a href=\"../program_bank/v001/2024_10_04__14_48__qiskit/qiskit_circuit_30q_10g_73_916a13.py\" target=\"_blank\">File</a> | <a href=\"../program_bank/v001/2024_10_04__14_48__qiskit/qiskit_circuit_30q_10g_73_916a13_30d3ea_error.json\" target=\"_blank\">Error File</a> | \n",
       "        <button onclick=\"navigator.clipboard.writeText('python -m analysis_and_reporting.ddmin_target_file --input_folder program_bank/v001/2024_10_04__14_48__qiskit --path_to_error program_bank/v001/2024_10_04__14_48__qiskit/qiskit_circuit_30q_10g_73_916a13_30d3ea_error.json --clue_message \\'Operation MidMeasureMP not supported by the QASM serializer\\'')\">Copy Command</button>\n",
       "        "
      ],
      "text/plain": [
       "<IPython.core.display.HTML object>"
      ]
     },
     "metadata": {},
     "output_type": "display_data"
    },
    {
     "name": "stdout",
     "output_type": "stream",
     "text": [
      "Message: Operation MidMeasureMP not supported by the QASM serializer\n",
      "Command: python -m analysis_and_reporting.ddmin_target_file --input_folder program_bank/v001/2024_10_04__14_48__qiskit --path_to_error program_bank/v001/2024_10_04__14_48__qiskit/qiskit_circuit_30q_10g_9_ce68a9_cf0308_error.json --clue_message 'Operation MidMeasureMP not supported by the QASM serializer'\n"
     ]
    },
    {
     "data": {
      "text/html": [
       "<a href=\"../program_bank/v001/2024_10_04__14_48__qiskit/qiskit_circuit_30q_10g_9_ce68a9.py\" target=\"_blank\">File</a> | <a href=\"../program_bank/v001/2024_10_04__14_48__qiskit/qiskit_circuit_30q_10g_9_ce68a9_cf0308_error.json\" target=\"_blank\">Error File</a> | \n",
       "        <button onclick=\"navigator.clipboard.writeText('python -m analysis_and_reporting.ddmin_target_file --input_folder program_bank/v001/2024_10_04__14_48__qiskit --path_to_error program_bank/v001/2024_10_04__14_48__qiskit/qiskit_circuit_30q_10g_9_ce68a9_cf0308_error.json --clue_message \\'Operation MidMeasureMP not supported by the QASM serializer\\'')\">Copy Command</button>\n",
       "        "
      ],
      "text/plain": [
       "<IPython.core.display.HTML object>"
      ]
     },
     "metadata": {},
     "output_type": "display_data"
    },
    {
     "name": "stdout",
     "output_type": "stream",
     "text": [
      "Message: Operation MidMeasureMP not supported by the QASM serializer\n",
      "Command: python -m analysis_and_reporting.ddmin_target_file --input_folder program_bank/v001/2024_10_04__14_48__qiskit --path_to_error program_bank/v001/2024_10_04__14_48__qiskit/qiskit_circuit_30q_10g_44_537804_a70e93_error.json --clue_message 'Operation MidMeasureMP not supported by the QASM serializer'\n"
     ]
    },
    {
     "data": {
      "text/html": [
       "<a href=\"../program_bank/v001/2024_10_04__14_48__qiskit/qiskit_circuit_30q_10g_44_537804.py\" target=\"_blank\">File</a> | <a href=\"../program_bank/v001/2024_10_04__14_48__qiskit/qiskit_circuit_30q_10g_44_537804_a70e93_error.json\" target=\"_blank\">Error File</a> | \n",
       "        <button onclick=\"navigator.clipboard.writeText('python -m analysis_and_reporting.ddmin_target_file --input_folder program_bank/v001/2024_10_04__14_48__qiskit --path_to_error program_bank/v001/2024_10_04__14_48__qiskit/qiskit_circuit_30q_10g_44_537804_a70e93_error.json --clue_message \\'Operation MidMeasureMP not supported by the QASM serializer\\'')\">Copy Command</button>\n",
       "        "
      ],
      "text/plain": [
       "<IPython.core.display.HTML object>"
      ]
     },
     "metadata": {},
     "output_type": "display_data"
    },
    {
     "name": "stdout",
     "output_type": "stream",
     "text": [
      "Message: Operation MidMeasureMP not supported by the QASM serializer\n",
      "Command: python -m analysis_and_reporting.ddmin_target_file --input_folder program_bank/v001/2024_10_04__14_48__qiskit --path_to_error program_bank/v001/2024_10_04__14_48__qiskit/qiskit_circuit_30q_10g_21_508032_86d52c_error.json --clue_message 'Operation MidMeasureMP not supported by the QASM serializer'\n"
     ]
    },
    {
     "data": {
      "text/html": [
       "<a href=\"../program_bank/v001/2024_10_04__14_48__qiskit/qiskit_circuit_30q_10g_21_508032.py\" target=\"_blank\">File</a> | <a href=\"../program_bank/v001/2024_10_04__14_48__qiskit/qiskit_circuit_30q_10g_21_508032_86d52c_error.json\" target=\"_blank\">Error File</a> | \n",
       "        <button onclick=\"navigator.clipboard.writeText('python -m analysis_and_reporting.ddmin_target_file --input_folder program_bank/v001/2024_10_04__14_48__qiskit --path_to_error program_bank/v001/2024_10_04__14_48__qiskit/qiskit_circuit_30q_10g_21_508032_86d52c_error.json --clue_message \\'Operation MidMeasureMP not supported by the QASM serializer\\'')\">Copy Command</button>\n",
       "        "
      ],
      "text/plain": [
       "<IPython.core.display.HTML object>"
      ]
     },
     "metadata": {},
     "output_type": "display_data"
    },
    {
     "name": "stdout",
     "output_type": "stream",
     "text": [
      "Message: Operation MidMeasureMP not supported by the QASM serializer\n",
      "Command: python -m analysis_and_reporting.ddmin_target_file --input_folder program_bank/v001/2024_10_04__14_48__qiskit --path_to_error program_bank/v001/2024_10_04__14_48__qiskit/qiskit_circuit_30q_10g_71_29b82d_809439_error.json --clue_message 'Operation MidMeasureMP not supported by the QASM serializer'\n"
     ]
    },
    {
     "data": {
      "text/html": [
       "<a href=\"../program_bank/v001/2024_10_04__14_48__qiskit/qiskit_circuit_30q_10g_71_29b82d.py\" target=\"_blank\">File</a> | <a href=\"../program_bank/v001/2024_10_04__14_48__qiskit/qiskit_circuit_30q_10g_71_29b82d_809439_error.json\" target=\"_blank\">Error File</a> | \n",
       "        <button onclick=\"navigator.clipboard.writeText('python -m analysis_and_reporting.ddmin_target_file --input_folder program_bank/v001/2024_10_04__14_48__qiskit --path_to_error program_bank/v001/2024_10_04__14_48__qiskit/qiskit_circuit_30q_10g_71_29b82d_809439_error.json --clue_message \\'Operation MidMeasureMP not supported by the QASM serializer\\'')\">Copy Command</button>\n",
       "        "
      ],
      "text/plain": [
       "<IPython.core.display.HTML object>"
      ]
     },
     "metadata": {},
     "output_type": "display_data"
    },
    {
     "name": "stdout",
     "output_type": "stream",
     "text": [
      "Message: Operation MidMeasureMP not supported by the QASM serializer\n",
      "Command: python -m analysis_and_reporting.ddmin_target_file --input_folder program_bank/v001/2024_10_04__14_48__qiskit --path_to_error program_bank/v001/2024_10_04__14_48__qiskit/qiskit_circuit_30q_10g_24_b47750_3412c7_error.json --clue_message 'Operation MidMeasureMP not supported by the QASM serializer'\n"
     ]
    },
    {
     "data": {
      "text/html": [
       "<a href=\"../program_bank/v001/2024_10_04__14_48__qiskit/qiskit_circuit_30q_10g_24_b47750.py\" target=\"_blank\">File</a> | <a href=\"../program_bank/v001/2024_10_04__14_48__qiskit/qiskit_circuit_30q_10g_24_b47750_3412c7_error.json\" target=\"_blank\">Error File</a> | \n",
       "        <button onclick=\"navigator.clipboard.writeText('python -m analysis_and_reporting.ddmin_target_file --input_folder program_bank/v001/2024_10_04__14_48__qiskit --path_to_error program_bank/v001/2024_10_04__14_48__qiskit/qiskit_circuit_30q_10g_24_b47750_3412c7_error.json --clue_message \\'Operation MidMeasureMP not supported by the QASM serializer\\'')\">Copy Command</button>\n",
       "        "
      ],
      "text/plain": [
       "<IPython.core.display.HTML object>"
      ]
     },
     "metadata": {},
     "output_type": "display_data"
    },
    {
     "name": "stdout",
     "output_type": "stream",
     "text": [
      "\n",
      "Cluster 3:\n",
      "\n",
      "Message: Conversion of qiskit's delay instruction is currently unsupported by qiskit_to_tk. Consider using QuantumCircuit.decompose() before attempting conversion.\n",
      "Command: python -m analysis_and_reporting.ddmin_target_file --input_folder program_bank/v001/2024_10_04__14_48__qiskit --path_to_error program_bank/v001/2024_10_04__14_48__qiskit/qiskit_circuit_30q_10g_49_9190e1_a40993_error.json --clue_message 'Conversion of qiskit's delay instruction is currently unsupported by qiskit_to_tk. Consider using QuantumCircuit.decompose() before attempting conversion.'\n"
     ]
    },
    {
     "data": {
      "text/html": [
       "<a href=\"../program_bank/v001/2024_10_04__14_48__qiskit/qiskit_circuit_30q_10g_49_9190e1.py\" target=\"_blank\">File</a> | <a href=\"../program_bank/v001/2024_10_04__14_48__qiskit/qiskit_circuit_30q_10g_49_9190e1_a40993_error.json\" target=\"_blank\">Error File</a> | \n",
       "        <button onclick=\"navigator.clipboard.writeText('python -m analysis_and_reporting.ddmin_target_file --input_folder program_bank/v001/2024_10_04__14_48__qiskit --path_to_error program_bank/v001/2024_10_04__14_48__qiskit/qiskit_circuit_30q_10g_49_9190e1_a40993_error.json --clue_message \\'Conversion of qiskit\\'s delay instruction is currently unsupported by qiskit_to_tk. Consider using QuantumCircuit.decompose() before attempting conversion.\\'')\">Copy Command</button>\n",
       "        "
      ],
      "text/plain": [
       "<IPython.core.display.HTML object>"
      ]
     },
     "metadata": {},
     "output_type": "display_data"
    },
    {
     "name": "stdout",
     "output_type": "stream",
     "text": [
      "Message: Conversion of qiskit's delay instruction is currently unsupported by qiskit_to_tk. Consider using QuantumCircuit.decompose() before attempting conversion.\n",
      "Command: python -m analysis_and_reporting.ddmin_target_file --input_folder program_bank/v001/2024_10_04__14_48__qiskit --path_to_error program_bank/v001/2024_10_04__14_48__qiskit/qiskit_circuit_30q_10g_80_7ac81e_1200cd_error.json --clue_message 'Conversion of qiskit's delay instruction is currently unsupported by qiskit_to_tk. Consider using QuantumCircuit.decompose() before attempting conversion.'\n"
     ]
    },
    {
     "data": {
      "text/html": [
       "<a href=\"../program_bank/v001/2024_10_04__14_48__qiskit/qiskit_circuit_30q_10g_80_7ac81e.py\" target=\"_blank\">File</a> | <a href=\"../program_bank/v001/2024_10_04__14_48__qiskit/qiskit_circuit_30q_10g_80_7ac81e_1200cd_error.json\" target=\"_blank\">Error File</a> | \n",
       "        <button onclick=\"navigator.clipboard.writeText('python -m analysis_and_reporting.ddmin_target_file --input_folder program_bank/v001/2024_10_04__14_48__qiskit --path_to_error program_bank/v001/2024_10_04__14_48__qiskit/qiskit_circuit_30q_10g_80_7ac81e_1200cd_error.json --clue_message \\'Conversion of qiskit\\'s delay instruction is currently unsupported by qiskit_to_tk. Consider using QuantumCircuit.decompose() before attempting conversion.\\'')\">Copy Command</button>\n",
       "        "
      ],
      "text/plain": [
       "<IPython.core.display.HTML object>"
      ]
     },
     "metadata": {},
     "output_type": "display_data"
    },
    {
     "name": "stdout",
     "output_type": "stream",
     "text": [
      "Message: Conversion of qiskit's delay instruction is currently unsupported by qiskit_to_tk. Consider using QuantumCircuit.decompose() before attempting conversion.\n",
      "Command: python -m analysis_and_reporting.ddmin_target_file --input_folder program_bank/v001/2024_10_04__14_48__qiskit --path_to_error program_bank/v001/2024_10_04__14_48__qiskit/qiskit_circuit_30q_10g_91_41ba22_fd2457_error.json --clue_message 'Conversion of qiskit's delay instruction is currently unsupported by qiskit_to_tk. Consider using QuantumCircuit.decompose() before attempting conversion.'\n"
     ]
    },
    {
     "data": {
      "text/html": [
       "<a href=\"../program_bank/v001/2024_10_04__14_48__qiskit/qiskit_circuit_30q_10g_91_41ba22.py\" target=\"_blank\">File</a> | <a href=\"../program_bank/v001/2024_10_04__14_48__qiskit/qiskit_circuit_30q_10g_91_41ba22_fd2457_error.json\" target=\"_blank\">Error File</a> | \n",
       "        <button onclick=\"navigator.clipboard.writeText('python -m analysis_and_reporting.ddmin_target_file --input_folder program_bank/v001/2024_10_04__14_48__qiskit --path_to_error program_bank/v001/2024_10_04__14_48__qiskit/qiskit_circuit_30q_10g_91_41ba22_fd2457_error.json --clue_message \\'Conversion of qiskit\\'s delay instruction is currently unsupported by qiskit_to_tk. Consider using QuantumCircuit.decompose() before attempting conversion.\\'')\">Copy Command</button>\n",
       "        "
      ],
      "text/plain": [
       "<IPython.core.display.HTML object>"
      ]
     },
     "metadata": {},
     "output_type": "display_data"
    },
    {
     "name": "stdout",
     "output_type": "stream",
     "text": [
      "Message: Conversion of qiskit's delay instruction is currently unsupported by qiskit_to_tk. Consider using QuantumCircuit.decompose() before attempting conversion.\n",
      "Command: python -m analysis_and_reporting.ddmin_target_file --input_folder program_bank/v001/2024_10_04__14_48__qiskit --path_to_error program_bank/v001/2024_10_04__14_48__qiskit/qiskit_circuit_30q_10g_26_923945_5977a9_error.json --clue_message 'Conversion of qiskit's delay instruction is currently unsupported by qiskit_to_tk. Consider using QuantumCircuit.decompose() before attempting conversion.'\n"
     ]
    },
    {
     "data": {
      "text/html": [
       "<a href=\"../program_bank/v001/2024_10_04__14_48__qiskit/qiskit_circuit_30q_10g_26_923945.py\" target=\"_blank\">File</a> | <a href=\"../program_bank/v001/2024_10_04__14_48__qiskit/qiskit_circuit_30q_10g_26_923945_5977a9_error.json\" target=\"_blank\">Error File</a> | \n",
       "        <button onclick=\"navigator.clipboard.writeText('python -m analysis_and_reporting.ddmin_target_file --input_folder program_bank/v001/2024_10_04__14_48__qiskit --path_to_error program_bank/v001/2024_10_04__14_48__qiskit/qiskit_circuit_30q_10g_26_923945_5977a9_error.json --clue_message \\'Conversion of qiskit\\'s delay instruction is currently unsupported by qiskit_to_tk. Consider using QuantumCircuit.decompose() before attempting conversion.\\'')\">Copy Command</button>\n",
       "        "
      ],
      "text/plain": [
       "<IPython.core.display.HTML object>"
      ]
     },
     "metadata": {},
     "output_type": "display_data"
    },
    {
     "name": "stdout",
     "output_type": "stream",
     "text": [
      "Message: Conversion of qiskit's delay instruction is currently unsupported by qiskit_to_tk. Consider using QuantumCircuit.decompose() before attempting conversion.\n",
      "Command: python -m analysis_and_reporting.ddmin_target_file --input_folder program_bank/v001/2024_10_04__14_48__qiskit --path_to_error program_bank/v001/2024_10_04__14_48__qiskit/qiskit_circuit_30q_10g_24_b47750_bf8eda_error.json --clue_message 'Conversion of qiskit's delay instruction is currently unsupported by qiskit_to_tk. Consider using QuantumCircuit.decompose() before attempting conversion.'\n"
     ]
    },
    {
     "data": {
      "text/html": [
       "<a href=\"../program_bank/v001/2024_10_04__14_48__qiskit/qiskit_circuit_30q_10g_24_b47750.py\" target=\"_blank\">File</a> | <a href=\"../program_bank/v001/2024_10_04__14_48__qiskit/qiskit_circuit_30q_10g_24_b47750_bf8eda_error.json\" target=\"_blank\">Error File</a> | \n",
       "        <button onclick=\"navigator.clipboard.writeText('python -m analysis_and_reporting.ddmin_target_file --input_folder program_bank/v001/2024_10_04__14_48__qiskit --path_to_error program_bank/v001/2024_10_04__14_48__qiskit/qiskit_circuit_30q_10g_24_b47750_bf8eda_error.json --clue_message \\'Conversion of qiskit\\'s delay instruction is currently unsupported by qiskit_to_tk. Consider using QuantumCircuit.decompose() before attempting conversion.\\'')\">Copy Command</button>\n",
       "        "
      ],
      "text/plain": [
       "<IPython.core.display.HTML object>"
      ]
     },
     "metadata": {},
     "output_type": "display_data"
    },
    {
     "name": "stdout",
     "output_type": "stream",
     "text": [
      "Message: Conversion of qiskit's delay instruction is currently unsupported by qiskit_to_tk. Consider using QuantumCircuit.decompose() before attempting conversion.\n",
      "Command: python -m analysis_and_reporting.ddmin_target_file --input_folder program_bank/v001/2024_10_04__14_48__qiskit --path_to_error program_bank/v001/2024_10_04__14_48__qiskit/qiskit_circuit_30q_10g_77_1bfc47_4f8f78_error.json --clue_message 'Conversion of qiskit's delay instruction is currently unsupported by qiskit_to_tk. Consider using QuantumCircuit.decompose() before attempting conversion.'\n"
     ]
    },
    {
     "data": {
      "text/html": [
       "<a href=\"../program_bank/v001/2024_10_04__14_48__qiskit/qiskit_circuit_30q_10g_77_1bfc47.py\" target=\"_blank\">File</a> | <a href=\"../program_bank/v001/2024_10_04__14_48__qiskit/qiskit_circuit_30q_10g_77_1bfc47_4f8f78_error.json\" target=\"_blank\">Error File</a> | \n",
       "        <button onclick=\"navigator.clipboard.writeText('python -m analysis_and_reporting.ddmin_target_file --input_folder program_bank/v001/2024_10_04__14_48__qiskit --path_to_error program_bank/v001/2024_10_04__14_48__qiskit/qiskit_circuit_30q_10g_77_1bfc47_4f8f78_error.json --clue_message \\'Conversion of qiskit\\'s delay instruction is currently unsupported by qiskit_to_tk. Consider using QuantumCircuit.decompose() before attempting conversion.\\'')\">Copy Command</button>\n",
       "        "
      ],
      "text/plain": [
       "<IPython.core.display.HTML object>"
      ]
     },
     "metadata": {},
     "output_type": "display_data"
    },
    {
     "name": "stdout",
     "output_type": "stream",
     "text": [
      "Message: Conversion of qiskit's delay instruction is currently unsupported by qiskit_to_tk. Consider using QuantumCircuit.decompose() before attempting conversion.\n",
      "Command: python -m analysis_and_reporting.ddmin_target_file --input_folder program_bank/v001/2024_10_04__14_48__qiskit --path_to_error program_bank/v001/2024_10_04__14_48__qiskit/qiskit_circuit_30q_10g_58_d6fde4_6b852f_error.json --clue_message 'Conversion of qiskit's delay instruction is currently unsupported by qiskit_to_tk. Consider using QuantumCircuit.decompose() before attempting conversion.'\n"
     ]
    },
    {
     "data": {
      "text/html": [
       "<a href=\"../program_bank/v001/2024_10_04__14_48__qiskit/qiskit_circuit_30q_10g_58_d6fde4.py\" target=\"_blank\">File</a> | <a href=\"../program_bank/v001/2024_10_04__14_48__qiskit/qiskit_circuit_30q_10g_58_d6fde4_6b852f_error.json\" target=\"_blank\">Error File</a> | \n",
       "        <button onclick=\"navigator.clipboard.writeText('python -m analysis_and_reporting.ddmin_target_file --input_folder program_bank/v001/2024_10_04__14_48__qiskit --path_to_error program_bank/v001/2024_10_04__14_48__qiskit/qiskit_circuit_30q_10g_58_d6fde4_6b852f_error.json --clue_message \\'Conversion of qiskit\\'s delay instruction is currently unsupported by qiskit_to_tk. Consider using QuantumCircuit.decompose() before attempting conversion.\\'')\">Copy Command</button>\n",
       "        "
      ],
      "text/plain": [
       "<IPython.core.display.HTML object>"
      ]
     },
     "metadata": {},
     "output_type": "display_data"
    },
    {
     "name": "stdout",
     "output_type": "stream",
     "text": [
      "Message: Conversion of qiskit's delay instruction is currently unsupported by qiskit_to_tk. Consider using QuantumCircuit.decompose() before attempting conversion.\n",
      "Command: python -m analysis_and_reporting.ddmin_target_file --input_folder program_bank/v001/2024_10_04__14_48__qiskit --path_to_error program_bank/v001/2024_10_04__14_48__qiskit/qiskit_circuit_30q_10g_34_2b632f_1551d9_error.json --clue_message 'Conversion of qiskit's delay instruction is currently unsupported by qiskit_to_tk. Consider using QuantumCircuit.decompose() before attempting conversion.'\n"
     ]
    },
    {
     "data": {
      "text/html": [
       "<a href=\"../program_bank/v001/2024_10_04__14_48__qiskit/qiskit_circuit_30q_10g_34_2b632f.py\" target=\"_blank\">File</a> | <a href=\"../program_bank/v001/2024_10_04__14_48__qiskit/qiskit_circuit_30q_10g_34_2b632f_1551d9_error.json\" target=\"_blank\">Error File</a> | \n",
       "        <button onclick=\"navigator.clipboard.writeText('python -m analysis_and_reporting.ddmin_target_file --input_folder program_bank/v001/2024_10_04__14_48__qiskit --path_to_error program_bank/v001/2024_10_04__14_48__qiskit/qiskit_circuit_30q_10g_34_2b632f_1551d9_error.json --clue_message \\'Conversion of qiskit\\'s delay instruction is currently unsupported by qiskit_to_tk. Consider using QuantumCircuit.decompose() before attempting conversion.\\'')\">Copy Command</button>\n",
       "        "
      ],
      "text/plain": [
       "<IPython.core.display.HTML object>"
      ]
     },
     "metadata": {},
     "output_type": "display_data"
    },
    {
     "name": "stdout",
     "output_type": "stream",
     "text": [
      "Message: Conversion of qiskit's delay instruction is currently unsupported by qiskit_to_tk. Consider using QuantumCircuit.decompose() before attempting conversion.\n",
      "Command: python -m analysis_and_reporting.ddmin_target_file --input_folder program_bank/v001/2024_10_04__14_48__qiskit --path_to_error program_bank/v001/2024_10_04__14_48__qiskit/qiskit_circuit_30q_10g_96_9e9a09_c54aa2_error.json --clue_message 'Conversion of qiskit's delay instruction is currently unsupported by qiskit_to_tk. Consider using QuantumCircuit.decompose() before attempting conversion.'\n"
     ]
    },
    {
     "data": {
      "text/html": [
       "<a href=\"../program_bank/v001/2024_10_04__14_48__qiskit/qiskit_circuit_30q_10g_96_9e9a09.py\" target=\"_blank\">File</a> | <a href=\"../program_bank/v001/2024_10_04__14_48__qiskit/qiskit_circuit_30q_10g_96_9e9a09_c54aa2_error.json\" target=\"_blank\">Error File</a> | \n",
       "        <button onclick=\"navigator.clipboard.writeText('python -m analysis_and_reporting.ddmin_target_file --input_folder program_bank/v001/2024_10_04__14_48__qiskit --path_to_error program_bank/v001/2024_10_04__14_48__qiskit/qiskit_circuit_30q_10g_96_9e9a09_c54aa2_error.json --clue_message \\'Conversion of qiskit\\'s delay instruction is currently unsupported by qiskit_to_tk. Consider using QuantumCircuit.decompose() before attempting conversion.\\'')\">Copy Command</button>\n",
       "        "
      ],
      "text/plain": [
       "<IPython.core.display.HTML object>"
      ]
     },
     "metadata": {},
     "output_type": "display_data"
    },
    {
     "name": "stdout",
     "output_type": "stream",
     "text": [
      "Message: Conversion of qiskit's delay instruction is currently unsupported by qiskit_to_tk. Consider using QuantumCircuit.decompose() before attempting conversion.\n",
      "Command: python -m analysis_and_reporting.ddmin_target_file --input_folder program_bank/v001/2024_10_04__14_48__qiskit --path_to_error program_bank/v001/2024_10_04__14_48__qiskit/qiskit_circuit_30q_10g_19_d19dd4_e11f28_error.json --clue_message 'Conversion of qiskit's delay instruction is currently unsupported by qiskit_to_tk. Consider using QuantumCircuit.decompose() before attempting conversion.'\n"
     ]
    },
    {
     "data": {
      "text/html": [
       "<a href=\"../program_bank/v001/2024_10_04__14_48__qiskit/qiskit_circuit_30q_10g_19_d19dd4.py\" target=\"_blank\">File</a> | <a href=\"../program_bank/v001/2024_10_04__14_48__qiskit/qiskit_circuit_30q_10g_19_d19dd4_e11f28_error.json\" target=\"_blank\">Error File</a> | \n",
       "        <button onclick=\"navigator.clipboard.writeText('python -m analysis_and_reporting.ddmin_target_file --input_folder program_bank/v001/2024_10_04__14_48__qiskit --path_to_error program_bank/v001/2024_10_04__14_48__qiskit/qiskit_circuit_30q_10g_19_d19dd4_e11f28_error.json --clue_message \\'Conversion of qiskit\\'s delay instruction is currently unsupported by qiskit_to_tk. Consider using QuantumCircuit.decompose() before attempting conversion.\\'')\">Copy Command</button>\n",
       "        "
      ],
      "text/plain": [
       "<IPython.core.display.HTML object>"
      ]
     },
     "metadata": {},
     "output_type": "display_data"
    },
    {
     "name": "stdout",
     "output_type": "stream",
     "text": [
      "\n",
      "Cluster 4:\n",
      "\n",
      "Message: Could not import second circuit: <input>:3:6:\n",
      "Expected 'Identifier', got 'ms'.\n",
      "Command: python -m analysis_and_reporting.ddmin_target_file --input_folder program_bank/v001/2024_10_04__14_48__qiskit --path_to_error program_bank/v001/2024_10_04__14_48__qiskit/qiskit_circuit_30q_10g_2_53fa5e_3980bb_error.json --clue_message 'Could not import second circuit: <input>:3:6:\n",
      "Expected 'Identifier', got 'ms'.'\n"
     ]
    },
    {
     "data": {
      "text/html": [
       "<a href=\"../program_bank/v001/2024_10_04__14_48__qiskit/qiskit_circuit_30q_10g_2_53fa5e.py\" target=\"_blank\">File</a> | <a href=\"../program_bank/v001/2024_10_04__14_48__qiskit/qiskit_circuit_30q_10g_2_53fa5e_3980bb_error.json\" target=\"_blank\">Error File</a> | \n",
       "        <button onclick=\"navigator.clipboard.writeText('python -m analysis_and_reporting.ddmin_target_file --input_folder program_bank/v001/2024_10_04__14_48__qiskit --path_to_error program_bank/v001/2024_10_04__14_48__qiskit/qiskit_circuit_30q_10g_2_53fa5e_3980bb_error.json --clue_message \\'Could not import second circuit: <input>:3:6:\n",
       "Expected \\'Identifier\\', got \\'ms\\'.\\'')\">Copy Command</button>\n",
       "        "
      ],
      "text/plain": [
       "<IPython.core.display.HTML object>"
      ]
     },
     "metadata": {},
     "output_type": "display_data"
    },
    {
     "name": "stdout",
     "output_type": "stream",
     "text": [
      "Message: Could not import second circuit: <input>:3:6:\n",
      "Expected 'Identifier', got 'ms'.\n",
      "Command: python -m analysis_and_reporting.ddmin_target_file --input_folder program_bank/v001/2024_10_04__14_48__qiskit --path_to_error program_bank/v001/2024_10_04__14_48__qiskit/qiskit_circuit_30q_10g_94_4582ad_0ab4bd_error.json --clue_message 'Could not import second circuit: <input>:3:6:\n",
      "Expected 'Identifier', got 'ms'.'\n"
     ]
    },
    {
     "data": {
      "text/html": [
       "<a href=\"../program_bank/v001/2024_10_04__14_48__qiskit/qiskit_circuit_30q_10g_94_4582ad.py\" target=\"_blank\">File</a> | <a href=\"../program_bank/v001/2024_10_04__14_48__qiskit/qiskit_circuit_30q_10g_94_4582ad_0ab4bd_error.json\" target=\"_blank\">Error File</a> | \n",
       "        <button onclick=\"navigator.clipboard.writeText('python -m analysis_and_reporting.ddmin_target_file --input_folder program_bank/v001/2024_10_04__14_48__qiskit --path_to_error program_bank/v001/2024_10_04__14_48__qiskit/qiskit_circuit_30q_10g_94_4582ad_0ab4bd_error.json --clue_message \\'Could not import second circuit: <input>:3:6:\n",
       "Expected \\'Identifier\\', got \\'ms\\'.\\'')\">Copy Command</button>\n",
       "        "
      ],
      "text/plain": [
       "<IPython.core.display.HTML object>"
      ]
     },
     "metadata": {},
     "output_type": "display_data"
    },
    {
     "name": "stdout",
     "output_type": "stream",
     "text": [
      "Message: Could not import second circuit: <input>:3:6:\n",
      "Expected 'Identifier', got 'ms'.\n",
      "Command: python -m analysis_and_reporting.ddmin_target_file --input_folder program_bank/v001/2024_10_04__14_48__qiskit --path_to_error program_bank/v001/2024_10_04__14_48__qiskit/qiskit_circuit_30q_10g_23_a71d51_a4accf_error.json --clue_message 'Could not import second circuit: <input>:3:6:\n",
      "Expected 'Identifier', got 'ms'.'\n"
     ]
    },
    {
     "data": {
      "text/html": [
       "<a href=\"../program_bank/v001/2024_10_04__14_48__qiskit/qiskit_circuit_30q_10g_23_a71d51.py\" target=\"_blank\">File</a> | <a href=\"../program_bank/v001/2024_10_04__14_48__qiskit/qiskit_circuit_30q_10g_23_a71d51_a4accf_error.json\" target=\"_blank\">Error File</a> | \n",
       "        <button onclick=\"navigator.clipboard.writeText('python -m analysis_and_reporting.ddmin_target_file --input_folder program_bank/v001/2024_10_04__14_48__qiskit --path_to_error program_bank/v001/2024_10_04__14_48__qiskit/qiskit_circuit_30q_10g_23_a71d51_a4accf_error.json --clue_message \\'Could not import second circuit: <input>:3:6:\n",
       "Expected \\'Identifier\\', got \\'ms\\'.\\'')\">Copy Command</button>\n",
       "        "
      ],
      "text/plain": [
       "<IPython.core.display.HTML object>"
      ]
     },
     "metadata": {},
     "output_type": "display_data"
    },
    {
     "name": "stdout",
     "output_type": "stream",
     "text": [
      "Message: Could not import second circuit: <input>:4:6:\n",
      "Expected 'Identifier', got 'ms'.\n",
      "Command: python -m analysis_and_reporting.ddmin_target_file --input_folder program_bank/v001/2024_10_04__14_48__qiskit --path_to_error program_bank/v001/2024_10_04__14_48__qiskit/qiskit_circuit_30q_10g_28_078e74_52fafb_error.json --clue_message 'Could not import second circuit: <input>:4:6:\n",
      "Expected 'Identifier', got 'ms'.'\n"
     ]
    },
    {
     "data": {
      "text/html": [
       "<a href=\"../program_bank/v001/2024_10_04__14_48__qiskit/qiskit_circuit_30q_10g_28_078e74.py\" target=\"_blank\">File</a> | <a href=\"../program_bank/v001/2024_10_04__14_48__qiskit/qiskit_circuit_30q_10g_28_078e74_52fafb_error.json\" target=\"_blank\">Error File</a> | \n",
       "        <button onclick=\"navigator.clipboard.writeText('python -m analysis_and_reporting.ddmin_target_file --input_folder program_bank/v001/2024_10_04__14_48__qiskit --path_to_error program_bank/v001/2024_10_04__14_48__qiskit/qiskit_circuit_30q_10g_28_078e74_52fafb_error.json --clue_message \\'Could not import second circuit: <input>:4:6:\n",
       "Expected \\'Identifier\\', got \\'ms\\'.\\'')\">Copy Command</button>\n",
       "        "
      ],
      "text/plain": [
       "<IPython.core.display.HTML object>"
      ]
     },
     "metadata": {},
     "output_type": "display_data"
    },
    {
     "name": "stdout",
     "output_type": "stream",
     "text": [
      "Message: Could not import second circuit: <input>:3:6:\n",
      "Expected 'Identifier', got 'ms'.\n",
      "Command: python -m analysis_and_reporting.ddmin_target_file --input_folder program_bank/v001/2024_10_04__14_48__qiskit --path_to_error program_bank/v001/2024_10_04__14_48__qiskit/qiskit_circuit_30q_10g_66_fe945a_71ecf5_error.json --clue_message 'Could not import second circuit: <input>:3:6:\n",
      "Expected 'Identifier', got 'ms'.'\n"
     ]
    },
    {
     "data": {
      "text/html": [
       "<a href=\"../program_bank/v001/2024_10_04__14_48__qiskit/qiskit_circuit_30q_10g_66_fe945a.py\" target=\"_blank\">File</a> | <a href=\"../program_bank/v001/2024_10_04__14_48__qiskit/qiskit_circuit_30q_10g_66_fe945a_71ecf5_error.json\" target=\"_blank\">Error File</a> | \n",
       "        <button onclick=\"navigator.clipboard.writeText('python -m analysis_and_reporting.ddmin_target_file --input_folder program_bank/v001/2024_10_04__14_48__qiskit --path_to_error program_bank/v001/2024_10_04__14_48__qiskit/qiskit_circuit_30q_10g_66_fe945a_71ecf5_error.json --clue_message \\'Could not import second circuit: <input>:3:6:\n",
       "Expected \\'Identifier\\', got \\'ms\\'.\\'')\">Copy Command</button>\n",
       "        "
      ],
      "text/plain": [
       "<IPython.core.display.HTML object>"
      ]
     },
     "metadata": {},
     "output_type": "display_data"
    },
    {
     "name": "stdout",
     "output_type": "stream",
     "text": [
      "Message: Could not import second circuit: <input>:3:8:\n",
      "Expected 'Identifier', got 'delay'.\n",
      "Command: python -m analysis_and_reporting.ddmin_target_file --input_folder program_bank/v001/2024_10_04__14_48__qiskit --path_to_error program_bank/v001/2024_10_04__14_48__qiskit/qiskit_circuit_30q_10g_58_d6fde4_5f567c_error.json --clue_message 'Could not import second circuit: <input>:3:8:\n",
      "Expected 'Identifier', got 'delay'.'\n"
     ]
    },
    {
     "data": {
      "text/html": [
       "<a href=\"../program_bank/v001/2024_10_04__14_48__qiskit/qiskit_circuit_30q_10g_58_d6fde4.py\" target=\"_blank\">File</a> | <a href=\"../program_bank/v001/2024_10_04__14_48__qiskit/qiskit_circuit_30q_10g_58_d6fde4_5f567c_error.json\" target=\"_blank\">Error File</a> | \n",
       "        <button onclick=\"navigator.clipboard.writeText('python -m analysis_and_reporting.ddmin_target_file --input_folder program_bank/v001/2024_10_04__14_48__qiskit --path_to_error program_bank/v001/2024_10_04__14_48__qiskit/qiskit_circuit_30q_10g_58_d6fde4_5f567c_error.json --clue_message \\'Could not import second circuit: <input>:3:8:\n",
       "Expected \\'Identifier\\', got \\'delay\\'.\\'')\">Copy Command</button>\n",
       "        "
      ],
      "text/plain": [
       "<IPython.core.display.HTML object>"
      ]
     },
     "metadata": {},
     "output_type": "display_data"
    },
    {
     "name": "stdout",
     "output_type": "stream",
     "text": [
      "Message: Could not import second circuit: <input>:4:8:\n",
      "Expected 'Identifier', got 'delay'.\n",
      "Command: python -m analysis_and_reporting.ddmin_target_file --input_folder program_bank/v001/2024_10_04__14_48__qiskit --path_to_error program_bank/v001/2024_10_04__14_48__qiskit/qiskit_circuit_30q_10g_7_fb0ccc_26b5b1_error.json --clue_message 'Could not import second circuit: <input>:4:8:\n",
      "Expected 'Identifier', got 'delay'.'\n"
     ]
    },
    {
     "data": {
      "text/html": [
       "<a href=\"../program_bank/v001/2024_10_04__14_48__qiskit/qiskit_circuit_30q_10g_7_fb0ccc.py\" target=\"_blank\">File</a> | <a href=\"../program_bank/v001/2024_10_04__14_48__qiskit/qiskit_circuit_30q_10g_7_fb0ccc_26b5b1_error.json\" target=\"_blank\">Error File</a> | \n",
       "        <button onclick=\"navigator.clipboard.writeText('python -m analysis_and_reporting.ddmin_target_file --input_folder program_bank/v001/2024_10_04__14_48__qiskit --path_to_error program_bank/v001/2024_10_04__14_48__qiskit/qiskit_circuit_30q_10g_7_fb0ccc_26b5b1_error.json --clue_message \\'Could not import second circuit: <input>:4:8:\n",
       "Expected \\'Identifier\\', got \\'delay\\'.\\'')\">Copy Command</button>\n",
       "        "
      ],
      "text/plain": [
       "<IPython.core.display.HTML object>"
      ]
     },
     "metadata": {},
     "output_type": "display_data"
    },
    {
     "name": "stdout",
     "output_type": "stream",
     "text": [
      "Message: Could not import second circuit: <input>:3:6:\n",
      "Expected 'Identifier', got 'ms'.\n",
      "Command: python -m analysis_and_reporting.ddmin_target_file --input_folder program_bank/v001/2024_10_04__14_48__qiskit --path_to_error program_bank/v001/2024_10_04__14_48__qiskit/qiskit_circuit_30q_10g_2_53fa5e_6437d0_error.json --clue_message 'Could not import second circuit: <input>:3:6:\n",
      "Expected 'Identifier', got 'ms'.'\n"
     ]
    },
    {
     "data": {
      "text/html": [
       "<a href=\"../program_bank/v001/2024_10_04__14_48__qiskit/qiskit_circuit_30q_10g_2_53fa5e.py\" target=\"_blank\">File</a> | <a href=\"../program_bank/v001/2024_10_04__14_48__qiskit/qiskit_circuit_30q_10g_2_53fa5e_6437d0_error.json\" target=\"_blank\">Error File</a> | \n",
       "        <button onclick=\"navigator.clipboard.writeText('python -m analysis_and_reporting.ddmin_target_file --input_folder program_bank/v001/2024_10_04__14_48__qiskit --path_to_error program_bank/v001/2024_10_04__14_48__qiskit/qiskit_circuit_30q_10g_2_53fa5e_6437d0_error.json --clue_message \\'Could not import second circuit: <input>:3:6:\n",
       "Expected \\'Identifier\\', got \\'ms\\'.\\'')\">Copy Command</button>\n",
       "        "
      ],
      "text/plain": [
       "<IPython.core.display.HTML object>"
      ]
     },
     "metadata": {},
     "output_type": "display_data"
    },
    {
     "name": "stdout",
     "output_type": "stream",
     "text": [
      "Message: Could not import second circuit: <input>:5:6:\n",
      "Expected 'Identifier', got 'ms'.\n",
      "Command: python -m analysis_and_reporting.ddmin_target_file --input_folder program_bank/v001/2024_10_04__14_48__qiskit --path_to_error program_bank/v001/2024_10_04__14_48__qiskit/qiskit_circuit_30q_10g_47_7e3a55_7b9959_error.json --clue_message 'Could not import second circuit: <input>:5:6:\n",
      "Expected 'Identifier', got 'ms'.'\n"
     ]
    },
    {
     "data": {
      "text/html": [
       "<a href=\"../program_bank/v001/2024_10_04__14_48__qiskit/qiskit_circuit_30q_10g_47_7e3a55.py\" target=\"_blank\">File</a> | <a href=\"../program_bank/v001/2024_10_04__14_48__qiskit/qiskit_circuit_30q_10g_47_7e3a55_7b9959_error.json\" target=\"_blank\">Error File</a> | \n",
       "        <button onclick=\"navigator.clipboard.writeText('python -m analysis_and_reporting.ddmin_target_file --input_folder program_bank/v001/2024_10_04__14_48__qiskit --path_to_error program_bank/v001/2024_10_04__14_48__qiskit/qiskit_circuit_30q_10g_47_7e3a55_7b9959_error.json --clue_message \\'Could not import second circuit: <input>:5:6:\n",
       "Expected \\'Identifier\\', got \\'ms\\'.\\'')\">Copy Command</button>\n",
       "        "
      ],
      "text/plain": [
       "<IPython.core.display.HTML object>"
      ]
     },
     "metadata": {},
     "output_type": "display_data"
    },
    {
     "name": "stdout",
     "output_type": "stream",
     "text": [
      "Message: Could not import second circuit: <input>:8:8:\n",
      "Expected 'Identifier', got 'delay'.\n",
      "Command: python -m analysis_and_reporting.ddmin_target_file --input_folder program_bank/v001/2024_10_04__14_48__qiskit --path_to_error program_bank/v001/2024_10_04__14_48__qiskit/qiskit_circuit_30q_10g_34_2b632f_50907c_error.json --clue_message 'Could not import second circuit: <input>:8:8:\n",
      "Expected 'Identifier', got 'delay'.'\n"
     ]
    },
    {
     "data": {
      "text/html": [
       "<a href=\"../program_bank/v001/2024_10_04__14_48__qiskit/qiskit_circuit_30q_10g_34_2b632f.py\" target=\"_blank\">File</a> | <a href=\"../program_bank/v001/2024_10_04__14_48__qiskit/qiskit_circuit_30q_10g_34_2b632f_50907c_error.json\" target=\"_blank\">Error File</a> | \n",
       "        <button onclick=\"navigator.clipboard.writeText('python -m analysis_and_reporting.ddmin_target_file --input_folder program_bank/v001/2024_10_04__14_48__qiskit --path_to_error program_bank/v001/2024_10_04__14_48__qiskit/qiskit_circuit_30q_10g_34_2b632f_50907c_error.json --clue_message \\'Could not import second circuit: <input>:8:8:\n",
       "Expected \\'Identifier\\', got \\'delay\\'.\\'')\">Copy Command</button>\n",
       "        "
      ],
      "text/plain": [
       "<IPython.core.display.HTML object>"
      ]
     },
     "metadata": {},
     "output_type": "display_data"
    },
    {
     "name": "stdout",
     "output_type": "stream",
     "text": [
      "\n",
      "Cluster 5:\n",
      "\n",
      "Message: Cannot print command of type: PhasedX(0.5, 0)\n",
      "Command: python -m analysis_and_reporting.ddmin_target_file --input_folder program_bank/v001/2024_10_04__14_48__qiskit --path_to_error program_bank/v001/2024_10_04__14_48__qiskit/qiskit_circuit_30q_10g_23_a71d51_053938_error.json --clue_message 'Cannot print command of type: PhasedX(0.5, 0)'\n"
     ]
    },
    {
     "data": {
      "text/html": [
       "<a href=\"../program_bank/v001/2024_10_04__14_48__qiskit/qiskit_circuit_30q_10g_23_a71d51.py\" target=\"_blank\">File</a> | <a href=\"../program_bank/v001/2024_10_04__14_48__qiskit/qiskit_circuit_30q_10g_23_a71d51_053938_error.json\" target=\"_blank\">Error File</a> | \n",
       "        <button onclick=\"navigator.clipboard.writeText('python -m analysis_and_reporting.ddmin_target_file --input_folder program_bank/v001/2024_10_04__14_48__qiskit --path_to_error program_bank/v001/2024_10_04__14_48__qiskit/qiskit_circuit_30q_10g_23_a71d51_053938_error.json --clue_message \\'Cannot print command of type: PhasedX(0.5, 0)\\'')\">Copy Command</button>\n",
       "        "
      ],
      "text/plain": [
       "<IPython.core.display.HTML object>"
      ]
     },
     "metadata": {},
     "output_type": "display_data"
    },
    {
     "name": "stdout",
     "output_type": "stream",
     "text": [
      "Message: Cannot print command of type: PhasedX(0.486814, 0.5)\n",
      "Command: python -m analysis_and_reporting.ddmin_target_file --input_folder program_bank/v001/2024_10_04__14_48__qiskit --path_to_error program_bank/v001/2024_10_04__14_48__qiskit/qiskit_circuit_30q_10g_70_5d4700_683c8a_error.json --clue_message 'Cannot print command of type: PhasedX(0.486814, 0.5)'\n"
     ]
    },
    {
     "data": {
      "text/html": [
       "<a href=\"../program_bank/v001/2024_10_04__14_48__qiskit/qiskit_circuit_30q_10g_70_5d4700.py\" target=\"_blank\">File</a> | <a href=\"../program_bank/v001/2024_10_04__14_48__qiskit/qiskit_circuit_30q_10g_70_5d4700_683c8a_error.json\" target=\"_blank\">Error File</a> | \n",
       "        <button onclick=\"navigator.clipboard.writeText('python -m analysis_and_reporting.ddmin_target_file --input_folder program_bank/v001/2024_10_04__14_48__qiskit --path_to_error program_bank/v001/2024_10_04__14_48__qiskit/qiskit_circuit_30q_10g_70_5d4700_683c8a_error.json --clue_message \\'Cannot print command of type: PhasedX(0.486814, 0.5)\\'')\">Copy Command</button>\n",
       "        "
      ],
      "text/plain": [
       "<IPython.core.display.HTML object>"
      ]
     },
     "metadata": {},
     "output_type": "display_data"
    },
    {
     "name": "stdout",
     "output_type": "stream",
     "text": [
      "Message: Cannot print command of type: PhasedX(0.5, 0)\n",
      "Command: python -m analysis_and_reporting.ddmin_target_file --input_folder program_bank/v001/2024_10_04__14_48__qiskit --path_to_error program_bank/v001/2024_10_04__14_48__qiskit/qiskit_circuit_30q_10g_84_4caa3d_1782fd_error.json --clue_message 'Cannot print command of type: PhasedX(0.5, 0)'\n"
     ]
    },
    {
     "data": {
      "text/html": [
       "<a href=\"../program_bank/v001/2024_10_04__14_48__qiskit/qiskit_circuit_30q_10g_84_4caa3d.py\" target=\"_blank\">File</a> | <a href=\"../program_bank/v001/2024_10_04__14_48__qiskit/qiskit_circuit_30q_10g_84_4caa3d_1782fd_error.json\" target=\"_blank\">Error File</a> | \n",
       "        <button onclick=\"navigator.clipboard.writeText('python -m analysis_and_reporting.ddmin_target_file --input_folder program_bank/v001/2024_10_04__14_48__qiskit --path_to_error program_bank/v001/2024_10_04__14_48__qiskit/qiskit_circuit_30q_10g_84_4caa3d_1782fd_error.json --clue_message \\'Cannot print command of type: PhasedX(0.5, 0)\\'')\">Copy Command</button>\n",
       "        "
      ],
      "text/plain": [
       "<IPython.core.display.HTML object>"
      ]
     },
     "metadata": {},
     "output_type": "display_data"
    },
    {
     "name": "stdout",
     "output_type": "stream",
     "text": [
      "Message: Gate has an invalid number of parameters\n",
      "Command: python -m analysis_and_reporting.ddmin_target_file --input_folder program_bank/v001/2024_10_04__14_48__qiskit --path_to_error program_bank/v001/2024_10_04__14_48__qiskit/qiskit_circuit_30q_10g_97_3ccd37_570cde_error.json --clue_message 'Gate has an invalid number of parameters'\n"
     ]
    },
    {
     "data": {
      "text/html": [
       "<a href=\"../program_bank/v001/2024_10_04__14_48__qiskit/qiskit_circuit_30q_10g_97_3ccd37.py\" target=\"_blank\">File</a> | <a href=\"../program_bank/v001/2024_10_04__14_48__qiskit/qiskit_circuit_30q_10g_97_3ccd37_570cde_error.json\" target=\"_blank\">Error File</a> | \n",
       "        <button onclick=\"navigator.clipboard.writeText('python -m analysis_and_reporting.ddmin_target_file --input_folder program_bank/v001/2024_10_04__14_48__qiskit --path_to_error program_bank/v001/2024_10_04__14_48__qiskit/qiskit_circuit_30q_10g_97_3ccd37_570cde_error.json --clue_message \\'Gate has an invalid number of parameters\\'')\">Copy Command</button>\n",
       "        "
      ],
      "text/plain": [
       "<IPython.core.display.HTML object>"
      ]
     },
     "metadata": {},
     "output_type": "display_data"
    },
    {
     "name": "stdout",
     "output_type": "stream",
     "text": [
      "Message: Gate has an invalid number of parameters\n",
      "Command: python -m analysis_and_reporting.ddmin_target_file --input_folder program_bank/v001/2024_10_04__14_48__qiskit --path_to_error program_bank/v001/2024_10_04__14_48__qiskit/qiskit_circuit_30q_10g_87_3c5865_4d195e_error.json --clue_message 'Gate has an invalid number of parameters'\n"
     ]
    },
    {
     "data": {
      "text/html": [
       "<a href=\"../program_bank/v001/2024_10_04__14_48__qiskit/qiskit_circuit_30q_10g_87_3c5865.py\" target=\"_blank\">File</a> | <a href=\"../program_bank/v001/2024_10_04__14_48__qiskit/qiskit_circuit_30q_10g_87_3c5865_4d195e_error.json\" target=\"_blank\">Error File</a> | \n",
       "        <button onclick=\"navigator.clipboard.writeText('python -m analysis_and_reporting.ddmin_target_file --input_folder program_bank/v001/2024_10_04__14_48__qiskit --path_to_error program_bank/v001/2024_10_04__14_48__qiskit/qiskit_circuit_30q_10g_87_3c5865_4d195e_error.json --clue_message \\'Gate has an invalid number of parameters\\'')\">Copy Command</button>\n",
       "        "
      ],
      "text/plain": [
       "<IPython.core.display.HTML object>"
      ]
     },
     "metadata": {},
     "output_type": "display_data"
    },
    {
     "name": "stdout",
     "output_type": "stream",
     "text": [
      "Message: Gate has an invalid number of parameters\n",
      "Command: python -m analysis_and_reporting.ddmin_target_file --input_folder program_bank/v001/2024_10_04__14_48__qiskit --path_to_error program_bank/v001/2024_10_04__14_48__qiskit/qiskit_circuit_30q_10g_91_41ba22_a542f6_error.json --clue_message 'Gate has an invalid number of parameters'\n"
     ]
    },
    {
     "data": {
      "text/html": [
       "<a href=\"../program_bank/v001/2024_10_04__14_48__qiskit/qiskit_circuit_30q_10g_91_41ba22.py\" target=\"_blank\">File</a> | <a href=\"../program_bank/v001/2024_10_04__14_48__qiskit/qiskit_circuit_30q_10g_91_41ba22_a542f6_error.json\" target=\"_blank\">Error File</a> | \n",
       "        <button onclick=\"navigator.clipboard.writeText('python -m analysis_and_reporting.ddmin_target_file --input_folder program_bank/v001/2024_10_04__14_48__qiskit --path_to_error program_bank/v001/2024_10_04__14_48__qiskit/qiskit_circuit_30q_10g_91_41ba22_a542f6_error.json --clue_message \\'Gate has an invalid number of parameters\\'')\">Copy Command</button>\n",
       "        "
      ],
      "text/plain": [
       "<IPython.core.display.HTML object>"
      ]
     },
     "metadata": {},
     "output_type": "display_data"
    },
    {
     "name": "stdout",
     "output_type": "stream",
     "text": [
      "Message: Cannot print command of type: PhasedX(0.208075, 0.5)\n",
      "Command: python -m analysis_and_reporting.ddmin_target_file --input_folder program_bank/v001/2024_10_04__14_48__qiskit --path_to_error program_bank/v001/2024_10_04__14_48__qiskit/qiskit_circuit_30q_10g_16_7e594c_492e8d_error.json --clue_message 'Cannot print command of type: PhasedX(0.208075, 0.5)'\n"
     ]
    },
    {
     "data": {
      "text/html": [
       "<a href=\"../program_bank/v001/2024_10_04__14_48__qiskit/qiskit_circuit_30q_10g_16_7e594c.py\" target=\"_blank\">File</a> | <a href=\"../program_bank/v001/2024_10_04__14_48__qiskit/qiskit_circuit_30q_10g_16_7e594c_492e8d_error.json\" target=\"_blank\">Error File</a> | \n",
       "        <button onclick=\"navigator.clipboard.writeText('python -m analysis_and_reporting.ddmin_target_file --input_folder program_bank/v001/2024_10_04__14_48__qiskit --path_to_error program_bank/v001/2024_10_04__14_48__qiskit/qiskit_circuit_30q_10g_16_7e594c_492e8d_error.json --clue_message \\'Cannot print command of type: PhasedX(0.208075, 0.5)\\'')\">Copy Command</button>\n",
       "        "
      ],
      "text/plain": [
       "<IPython.core.display.HTML object>"
      ]
     },
     "metadata": {},
     "output_type": "display_data"
    },
    {
     "name": "stdout",
     "output_type": "stream",
     "text": [
      "Message: Gate has an invalid number of parameters\n",
      "Command: python -m analysis_and_reporting.ddmin_target_file --input_folder program_bank/v001/2024_10_04__14_48__qiskit --path_to_error program_bank/v001/2024_10_04__14_48__qiskit/qiskit_circuit_30q_10g_79_164cc2_4b6f49_error.json --clue_message 'Gate has an invalid number of parameters'\n"
     ]
    },
    {
     "data": {
      "text/html": [
       "<a href=\"../program_bank/v001/2024_10_04__14_48__qiskit/qiskit_circuit_30q_10g_79_164cc2.py\" target=\"_blank\">File</a> | <a href=\"../program_bank/v001/2024_10_04__14_48__qiskit/qiskit_circuit_30q_10g_79_164cc2_4b6f49_error.json\" target=\"_blank\">Error File</a> | \n",
       "        <button onclick=\"navigator.clipboard.writeText('python -m analysis_and_reporting.ddmin_target_file --input_folder program_bank/v001/2024_10_04__14_48__qiskit --path_to_error program_bank/v001/2024_10_04__14_48__qiskit/qiskit_circuit_30q_10g_79_164cc2_4b6f49_error.json --clue_message \\'Gate has an invalid number of parameters\\'')\">Copy Command</button>\n",
       "        "
      ],
      "text/plain": [
       "<IPython.core.display.HTML object>"
      ]
     },
     "metadata": {},
     "output_type": "display_data"
    },
    {
     "name": "stdout",
     "output_type": "stream",
     "text": [
      "Message: Gate has an invalid number of parameters\n",
      "Command: python -m analysis_and_reporting.ddmin_target_file --input_folder program_bank/v001/2024_10_04__14_48__qiskit --path_to_error program_bank/v001/2024_10_04__14_48__qiskit/qiskit_circuit_30q_10g_92_5dd88f_10c4dc_error.json --clue_message 'Gate has an invalid number of parameters'\n"
     ]
    },
    {
     "data": {
      "text/html": [
       "<a href=\"../program_bank/v001/2024_10_04__14_48__qiskit/qiskit_circuit_30q_10g_92_5dd88f.py\" target=\"_blank\">File</a> | <a href=\"../program_bank/v001/2024_10_04__14_48__qiskit/qiskit_circuit_30q_10g_92_5dd88f_10c4dc_error.json\" target=\"_blank\">Error File</a> | \n",
       "        <button onclick=\"navigator.clipboard.writeText('python -m analysis_and_reporting.ddmin_target_file --input_folder program_bank/v001/2024_10_04__14_48__qiskit --path_to_error program_bank/v001/2024_10_04__14_48__qiskit/qiskit_circuit_30q_10g_92_5dd88f_10c4dc_error.json --clue_message \\'Gate has an invalid number of parameters\\'')\">Copy Command</button>\n",
       "        "
      ],
      "text/plain": [
       "<IPython.core.display.HTML object>"
      ]
     },
     "metadata": {},
     "output_type": "display_data"
    },
    {
     "name": "stdout",
     "output_type": "stream",
     "text": [
      "Message: Gate has an invalid number of parameters\n",
      "Command: python -m analysis_and_reporting.ddmin_target_file --input_folder program_bank/v001/2024_10_04__14_48__qiskit --path_to_error program_bank/v001/2024_10_04__14_48__qiskit/qiskit_circuit_30q_10g_53_fdff33_bf1e8a_error.json --clue_message 'Gate has an invalid number of parameters'\n"
     ]
    },
    {
     "data": {
      "text/html": [
       "<a href=\"../program_bank/v001/2024_10_04__14_48__qiskit/qiskit_circuit_30q_10g_53_fdff33.py\" target=\"_blank\">File</a> | <a href=\"../program_bank/v001/2024_10_04__14_48__qiskit/qiskit_circuit_30q_10g_53_fdff33_bf1e8a_error.json\" target=\"_blank\">Error File</a> | \n",
       "        <button onclick=\"navigator.clipboard.writeText('python -m analysis_and_reporting.ddmin_target_file --input_folder program_bank/v001/2024_10_04__14_48__qiskit --path_to_error program_bank/v001/2024_10_04__14_48__qiskit/qiskit_circuit_30q_10g_53_fdff33_bf1e8a_error.json --clue_message \\'Gate has an invalid number of parameters\\'')\">Copy Command</button>\n",
       "        "
      ],
      "text/plain": [
       "<IPython.core.display.HTML object>"
      ]
     },
     "metadata": {},
     "output_type": "display_data"
    }
   ],
   "source": [
    "from sklearn.feature_extraction.text import TfidfVectorizer\n",
    "from sklearn.cluster import KMeans\n",
    "import matplotlib.pyplot as plt\n",
    "import seaborn as sns\n",
    "\n",
    "def run_analysis(df: pd.DataFrame, n_clusters: int) -> pd.DataFrame:\n",
    "    # Get the column of \"exception_message\"\n",
    "    error_messages = df['exception_message']\n",
    "\n",
    "    # Vectorize the text data\n",
    "    vectorizer = TfidfVectorizer()\n",
    "    X = vectorizer.fit_transform(error_messages)\n",
    "\n",
    "    # Apply K-Means clustering\n",
    "    kmeans = KMeans(n_clusters=n_clusters, random_state=42)\n",
    "    kmeans.fit(X)\n",
    "    labels = kmeans.labels_\n",
    "\n",
    "    # Add the cluster labels to the dataframe\n",
    "    df['cluster'] = labels\n",
    "    return df\n",
    "\n",
    "def plot_clusters(df: pd.DataFrame):\n",
    "    # Visualize the results using a bar plot\n",
    "    plt.figure(figsize=(10, 6))\n",
    "    sns.countplot(x='cluster', data=df)\n",
    "    plt.title('Number of Error Messages per Cluster')\n",
    "    plt.xlabel('Cluster')\n",
    "    plt.ylabel('Number of Error Messages')\n",
    "    plt.show()\n",
    "\n",
    "# Example run\n",
    "n_clusters = 6\n",
    "df_errors = run_analysis(df_errors, n_clusters)\n",
    "plot_clusters(df_errors)\n",
    "\n",
    "from IPython.display import display, HTML\n",
    "\n",
    "# Print 10 error messages for each cluster\n",
    "for cluster in range(n_clusters):\n",
    "    print(f\"\\nCluster {cluster}:\\n\")\n",
    "    cluster_messages = df_errors[df_errors['cluster'] == cluster][['exception_message', 'current_file', 'error_file']].head(10)\n",
    "    for _, row in cluster_messages.iterrows():\n",
    "        file_path = os.path.join(DIR_PROGRAM_BANK, row['current_file'])\n",
    "        error_file_path = os.path.join(DIR_PROGRAM_BANK, row['error_file'])\n",
    "        print(f\"Message: {row['exception_message']}\")\n",
    "        link = f'<a href=\"{file_path}\" target=\"_blank\">File</a>'\n",
    "        error_link = f'<a href=\"{error_file_path}\" target=\"_blank\">Error File</a>'\n",
    "\n",
    "        # print a command of this kind\n",
    "        # python -m analysis_and_reporting.ddmin_target_file --input_folder program_bank/2024_09_25__15_12__qiskit --path_to_error program_bank/2024_09_25__15_12__qiskit/qiskit_circuit_5q_10g_1_56f829_43fca2_error.json --clue_message \"'rxx' is not defined in this scope\"\n",
    "        # remove the \"../\" from the start\n",
    "        dir_program_bank_repo_root = DIR_PROGRAM_BANK[len(\"../\"):]\n",
    "        path_to_error_repo_root = error_file_path[len(\"../\"):]\n",
    "        command = f\"python -m analysis_and_reporting.ddmin_target_file --input_folder {dir_program_bank_repo_root} --path_to_error {path_to_error_repo_root} --clue_message '{row['exception_message']}'\"\n",
    "        # escape all the quotes\n",
    "        print(f\"Command: {command}\")\n",
    "        command = command.replace(\"'\", \"\\\\'\")\n",
    "        command = command.replace('\"', '\\\\\"')\n",
    "\n",
    "        button_html = f\"\"\"\n",
    "        <button onclick=\"navigator.clipboard.writeText('{command}')\">Copy Command</button>\n",
    "        \"\"\"\n",
    "        display(HTML(link + \" | \" + error_link + \" | \" + button_html))"
   ]
  },
  {
   "cell_type": "code",
   "execution_count": 29,
   "metadata": {},
   "outputs": [
    {
     "data": {
      "text/html": [
       "\n",
       "    <button onclick=\"navigator.clipboard.writeText('git remote get-url origin')\">Copy Command</button>\n",
       "    "
      ],
      "text/plain": [
       "<IPython.core.display.HTML object>"
      ]
     },
     "metadata": {},
     "output_type": "display_data"
    }
   ],
   "source": [
    "from IPython.display import display, HTML\n",
    "\n",
    "def create_copy_button(text_to_copy):\n",
    "    button_html = f\"\"\"\n",
    "    <button onclick=\"navigator.clipboard.writeText('{text_to_copy}')\">Copy Command</button>\n",
    "    \"\"\"\n",
    "    display(HTML(button_html))\n",
    "\n",
    "# Example usage\n",
    "command = \"git remote get-url origin\"\n",
    "create_copy_button(command)\n"
   ]
  },
  {
   "cell_type": "code",
   "execution_count": 16,
   "metadata": {},
   "outputs": [
    {
     "name": "stdout",
     "output_type": "stream",
     "text": [
      "Anomaly 1:\n",
      "Message: Cannot print command of type: PhasedX(0.875936, 0.5)\n",
      "Outlier Score: -0.014430879641950445\n",
      "\n",
      "Anomaly 2:\n",
      "Message: Cannot print command of type: PhasedX(0.486814, 0.5)\n",
      "Outlier Score: -0.010839413666574704\n",
      "\n",
      "Anomaly 3:\n",
      "Message: Cannot print command of type: PhasedX(0.516519, 0.5)\n",
      "Outlier Score: -0.0050907754725676435\n",
      "\n",
      "Anomaly 4:\n",
      "Message: Cannot print command of type: PhasedX(0.276275, 0.5)\n",
      "Outlier Score: -0.0031653905784866376\n",
      "\n",
      "Anomaly 5:\n",
      "Message: Cannot print command of type: PhasedX(0.13719, 0.5)\n",
      "Outlier Score: -0.0009446599778206721\n",
      "\n",
      "Anomaly 6:\n",
      "Message: Cannot print command of type: PhasedX(0.78332, 0.5)\n",
      "Outlier Score: 0.0037786399112826885\n",
      "\n",
      "Anomaly 7:\n",
      "Message: Cannot print command of type: PhasedX(0.208075, 0.5)\n",
      "Outlier Score: 0.007059427225682091\n",
      "\n",
      "Anomaly 8:\n",
      "Message: Gate has an invalid number of parameters\n",
      "Outlier Score: 0.06976769538353161\n",
      "\n",
      "Anomaly 9:\n",
      "Message: Gate has an invalid number of parameters\n",
      "Outlier Score: 0.06976769538353161\n",
      "\n",
      "Anomaly 10:\n",
      "Message: Gate has an invalid number of parameters\n",
      "Outlier Score: 0.06976769538353161\n",
      "\n",
      "Anomaly 11:\n",
      "Message: Gate has an invalid number of parameters\n",
      "Outlier Score: 0.06976769538353161\n",
      "\n",
      "Anomaly 12:\n",
      "Message: Gate has an invalid number of parameters\n",
      "Outlier Score: 0.06976769538353161\n",
      "\n",
      "Anomaly 13:\n",
      "Message: Gate has an invalid number of parameters\n",
      "Outlier Score: 0.06976769538353161\n",
      "\n",
      "Anomaly 14:\n",
      "Message: Gate has an invalid number of parameters\n",
      "Outlier Score: 0.06976769538353161\n",
      "\n",
      "Anomaly 15:\n",
      "Message: Gate has an invalid number of parameters\n",
      "Outlier Score: 0.06976769538353161\n",
      "\n",
      "Anomaly 16:\n",
      "Message: Gate has an invalid number of parameters\n",
      "Outlier Score: 0.06976769538353161\n",
      "\n",
      "Anomaly 17:\n",
      "Message: Gate has an invalid number of parameters\n",
      "Outlier Score: 0.06976769538353161\n",
      "\n",
      "Anomaly 18:\n",
      "Message: Gate has an invalid number of parameters\n",
      "Outlier Score: 0.06976769538353161\n",
      "\n",
      "Anomaly 19:\n",
      "Message: Gate has an invalid number of parameters\n",
      "Outlier Score: 0.06976769538353161\n",
      "\n",
      "Anomaly 20:\n",
      "Message: Gate has an invalid number of parameters\n",
      "Outlier Score: 0.06976769538353161\n",
      "\n"
     ]
    }
   ],
   "source": [
    "from sklearn.ensemble import IsolationForest\n",
    "from sklearn.feature_extraction.text import TfidfVectorizer\n",
    "\n",
    "# Assuming df_errors is the dataframe and we are focusing on a specific cluster\n",
    "cluster_number = 5\n",
    "cluster_data = df_errors[df_errors['cluster'] == cluster_number]['exception_message']\n",
    "\n",
    "# Vectorize the text data\n",
    "vectorizer = TfidfVectorizer()\n",
    "X_cluster = vectorizer.fit_transform(cluster_data)\n",
    "\n",
    "# Fit the IsolationForest model\n",
    "isolation_forest = IsolationForest(contamination=0.1, random_state=42)\n",
    "isolation_forest.fit(X_cluster)\n",
    "anomaly_scores = isolation_forest.decision_function(X_cluster)\n",
    "anomalies = isolation_forest.predict(X_cluster)\n",
    "# Get the top 10 most anomalous data points\n",
    "top_anomalies_indices = np.argsort(anomaly_scores)[:20]\n",
    "top_anomalies = cluster_data.iloc[top_anomalies_indices]\n",
    "top_anomaly_scores = anomaly_scores[top_anomalies_indices]\n",
    "\n",
    "# Print the top 10 most anomalous data points and their outlier scores\n",
    "for i, (anomaly, score) in enumerate(zip(top_anomalies, top_anomaly_scores)):\n",
    "    print(f\"Anomaly {i+1}:\")\n",
    "    print(f\"Message: {anomaly}\")\n",
    "    print(f\"Outlier Score: {score}\")\n",
    "    print()"
   ]
  },
  {
   "cell_type": "code",
   "execution_count": null,
   "metadata": {},
   "outputs": [],
   "source": []
  }
 ],
 "metadata": {
  "kernelspec": {
   "display_name": "crosspl",
   "language": "python",
   "name": "python3"
  },
  "language_info": {
   "codemirror_mode": {
    "name": "ipython",
    "version": 3
   },
   "file_extension": ".py",
   "mimetype": "text/x-python",
   "name": "python",
   "nbconvert_exporter": "python",
   "pygments_lexer": "ipython3",
   "version": "3.10.14"
  }
 },
 "nbformat": 4,
 "nbformat_minor": 2
}
