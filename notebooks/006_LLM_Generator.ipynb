{
 "cells": [
  {
   "cell_type": "code",
   "execution_count": 7,
   "metadata": {},
   "outputs": [
    {
     "name": "stdout",
     "output_type": "stream",
     "text": [
      "INFO: Pandarallel will run on 24 workers.\n",
      "INFO: Pandarallel will use Memory file system to transfer data between the main process and workers.\n"
     ]
    }
   ],
   "source": [
    "from typing import List, Tuple, Dict, Any, Optional, Callable\n",
    "from pandarallel import pandarallel\n",
    "import os\n",
    "import re\n",
    "import sys\n",
    "import json\n",
    "from pathlib import Path\n",
    "\n",
    "import numpy as np\n",
    "import matplotlib.pyplot as plt\n",
    "import seaborn as sns\n",
    "\n",
    "import pandas as pd\n",
    "from tqdm.auto import tqdm\n",
    "tqdm.pandas()\n",
    "pandarallel.initialize(progress_bar=True)"
   ]
  },
  {
   "cell_type": "code",
   "execution_count": 4,
   "metadata": {},
   "outputs": [],
   "source": [
    "PATH_ROOT_DIR: str = \"..\"\n",
    "\n",
    "PATH_TO_API: str = \"../available_apis/qiskit.json\""
   ]
  },
  {
   "cell_type": "code",
   "execution_count": 5,
   "metadata": {},
   "outputs": [
    {
     "name": "stdout",
     "output_type": "stream",
     "text": [
      "dict_keys(['api_name', 'full_api_name', 'api_description', 'api_signature', 'file_path'])\n"
     ]
    }
   ],
   "source": [
    "def read_api(path_json_file_with_api: str) -> Dict[str, Any]:\n",
    "    with open(path_json_file_with_api, \"r\") as file_with_api:\n",
    "        api = json.load(file_with_api)\n",
    "    return api\n",
    "\n",
    "\n",
    "api_data = read_api(PATH_TO_API)\n",
    "# print the attributes of the api\n",
    "print(api_data[0].keys())"
   ]
  },
  {
   "cell_type": "markdown",
   "metadata": {},
   "source": [
    "## Explore Names"
   ]
  },
  {
   "cell_type": "code",
   "execution_count": 53,
   "metadata": {},
   "outputs": [
    {
     "name": "stdout",
     "output_type": "stream",
     "text": [
      "api_name: short_path\n",
      "full_api_name: short_path\n",
      "--------------------------------------------------------------------------------\n",
      "api_name: print_main\n",
      "full_api_name: print_main\n",
      "--------------------------------------------------------------------------------\n",
      "api_name: create_parser\n",
      "full_api_name: create_parser\n",
      "--------------------------------------------------------------------------------\n",
      "api_name: filter_by_result\n",
      "full_api_name: filter_by_result\n",
      "--------------------------------------------------------------------------------\n",
      "api_name: run_filter_script\n",
      "full_api_name: run_filter_script\n",
      "--------------------------------------------------------------------------------\n",
      "api_name: discover_files\n",
      "full_api_name: discover_files\n",
      "--------------------------------------------------------------------------------\n",
      "api_name: validate_path\n",
      "full_api_name: validate_path\n",
      "--------------------------------------------------------------------------------\n",
      "api_name: discover_files\n",
      "full_api_name: discover_files\n",
      "--------------------------------------------------------------------------------\n",
      "api_name: validate_header\n",
      "full_api_name: validate_header\n",
      "--------------------------------------------------------------------------------\n",
      "api_name: linkcode_resolve\n",
      "full_api_name: linkcode_resolve\n",
      "--------------------------------------------------------------------------------\n",
      "api_name: majority\n",
      "full_api_name: majority\n",
      "--------------------------------------------------------------------------------\n",
      "api_name: unmajority\n",
      "full_api_name: unmajority\n",
      "--------------------------------------------------------------------------------\n",
      "api_name: input_state\n",
      "full_api_name: input_state\n",
      "--------------------------------------------------------------------------------\n",
      "api_name: qft\n",
      "full_api_name: qft\n",
      "--------------------------------------------------------------------------------\n",
      "api_name: build_bell_circuit\n",
      "full_api_name: build_bell_circuit\n",
      "--------------------------------------------------------------------------------\n",
      "api_name: read_config_file\n",
      "full_api_name: UserConfig.read_config_file\n",
      "--------------------------------------------------------------------------------\n",
      "api_name: set_config\n",
      "full_api_name: set_config\n",
      "--------------------------------------------------------------------------------\n",
      "api_name: get_config\n",
      "full_api_name: get_config\n",
      "--------------------------------------------------------------------------------\n",
      "api_name: git_version\n",
      "full_api_name: git_version\n",
      "--------------------------------------------------------------------------------\n",
      "api_name: get_version_info\n",
      "full_api_name: get_version_info\n",
      "--------------------------------------------------------------------------------\n"
     ]
    }
   ],
   "source": [
    "def print_api(\n",
    "        records: List[Dict[str, Any]],\n",
    "        attributes_to_print: List[str],\n",
    "        n_samples: int = None,\n",
    "        filter_fns_must_satisfy_all: List[Callable] = None,\n",
    "        filter_fns_must_satisfy_at_least_one: List[Callable] = None) -> None:\n",
    "    \"\"\"Print the first n_samples of the api with the selected attributes.\"\"\"\n",
    "    printed_samples = 0\n",
    "    for api in records:\n",
    "        if n_samples and printed_samples >= n_samples:\n",
    "            break\n",
    "        if filter_fns_must_satisfy_all and not all(\n",
    "                [fn(api) for fn in filter_fns_must_satisfy_all]):\n",
    "            continue\n",
    "        if filter_fns_must_satisfy_at_least_one and not any(\n",
    "                [fn(api) for fn in filter_fns_must_satisfy_at_least_one]):\n",
    "            continue\n",
    "        for attribute in attributes_to_print:\n",
    "            print(f\"{attribute}: {api[attribute]}\")\n",
    "        print(\"-\" * 80)\n",
    "        printed_samples += 1\n",
    "\n",
    "\n",
    "print_api(\n",
    "    records=api_data,\n",
    "    attributes_to_print=[\n",
    "        \"api_name\",\n",
    "        \"full_api_name\"\n",
    "    ],\n",
    "    n_samples=20,\n",
    "    filter_fns_must_satisfy_all=[\n",
    "        # not a test function\n",
    "        lambda api: not api[\"api_name\"].startswith(\"test\"),\n",
    "        # not a private function\n",
    "        lambda api: not api[\"api_name\"].startswith(\"_\"),\n",
    "        # not a deprecated function\n",
    "        lambda api: \"deprec\" not in api[\"full_api_name\"].lower(),\n",
    "        # not a decorator\n",
    "        lambda api: \"decorator\" not in api[\"full_api_name\"].lower(),\n",
    "    ])"
   ]
  },
  {
   "cell_type": "code",
   "execution_count": 54,
   "metadata": {},
   "outputs": [
    {
     "name": "stdout",
     "output_type": "stream",
     "text": [
      "Number of APIs: 14324\n"
     ]
    }
   ],
   "source": [
    "n_data = len(api_data)\n",
    "print(f\"Number of APIs: {n_data}\")"
   ]
  },
  {
   "cell_type": "code",
   "execution_count": null,
   "metadata": {},
   "outputs": [],
   "source": []
  }
 ],
 "metadata": {
  "kernelspec": {
   "display_name": "crosspl",
   "language": "python",
   "name": "python3"
  },
  "language_info": {
   "codemirror_mode": {
    "name": "ipython",
    "version": 3
   },
   "file_extension": ".py",
   "mimetype": "text/x-python",
   "name": "python",
   "nbconvert_exporter": "python",
   "pygments_lexer": "ipython3",
   "version": "3.10.14"
  }
 },
 "nbformat": 4,
 "nbformat_minor": 2
}
