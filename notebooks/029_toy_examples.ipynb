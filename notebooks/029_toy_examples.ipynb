{
 "cells": [
  {
   "cell_type": "code",
   "execution_count": null,
   "metadata": {},
   "outputs": [
    {
     "name": "stdout",
     "output_type": "stream",
     "text": [
      "OPENQASM 2.0;\n",
      "include \"qelib1.inc\";\n",
      "\n",
      "qreg q6[5];\n",
      "rxx(0.03183098861837907*pi) q6[0],q6[1];\n",
      "\n"
     ]
    }
   ],
   "source": [
    "from pytket.qasm import circuit_to_qasm_str\n",
    "from pytket.extensions.qiskit import qiskit_to_tk, tk_to_qiskit\n",
    "from qiskit import QuantumCircuit, QuantumRegister\n",
    "\n",
    "qr = QuantumRegister(5)\n",
    "qc = QuantumCircuit(qr)\n",
    "qc.rxx(0.1, qr[0], qr[1])\n",
    "qc.draw()\n",
    "\n",
    "tket_circuit = qiskit_to_tk(qc)\n",
    "\n",
    "qasm_tket = circuit_to_qasm_str(tket_circuit)\n",
    "print(qasm_tket)"
   ]
  },
  {
   "cell_type": "code",
   "execution_count": 11,
   "metadata": {},
   "outputs": [
    {
     "ename": "QASM2ParseError",
     "evalue": "\"<input>:5,0: 'rxx' is not defined in this scope\"",
     "output_type": "error",
     "traceback": [
      "\u001b[0;31m---------------------------------------------------------------------------\u001b[0m",
      "\u001b[0;31mQASM2ParseError\u001b[0m                           Traceback (most recent call last)",
      "Cell \u001b[0;32mIn[11], line 3\u001b[0m\n\u001b[1;32m      1\u001b[0m \u001b[38;5;28;01mfrom\u001b[39;00m \u001b[38;5;21;01mqiskit\u001b[39;00m\u001b[38;5;21;01m.\u001b[39;00m\u001b[38;5;21;01mqasm2\u001b[39;00m \u001b[38;5;28;01mimport\u001b[39;00m loads\n\u001b[0;32m----> 3\u001b[0m new_qc \u001b[38;5;241m=\u001b[39m \u001b[43mloads\u001b[49m\u001b[43m(\u001b[49m\u001b[43mqasm_tket\u001b[49m\u001b[43m)\u001b[49m\n\u001b[1;32m      4\u001b[0m new_qc\u001b[38;5;241m.\u001b[39mdraw()\n",
      "File \u001b[0;32m~/.conda/envs/crosspl/lib/python3.10/site-packages/qiskit/qasm2/__init__.py:587\u001b[0m, in \u001b[0;36mloads\u001b[0;34m(string, include_path, custom_instructions, custom_classical, strict)\u001b[0m\n\u001b[1;32m    571\u001b[0m \u001b[38;5;250m\u001b[39m\u001b[38;5;124;03m\"\"\"Parse an OpenQASM 2 program from a string into a :class:`.QuantumCircuit`.\u001b[39;00m\n\u001b[1;32m    572\u001b[0m \n\u001b[1;32m    573\u001b[0m \u001b[38;5;124;03mArgs:\u001b[39;00m\n\u001b[0;32m   (...)\u001b[0m\n\u001b[1;32m    584\u001b[0m \u001b[38;5;124;03m    A circuit object representing the same OpenQASM 2 program.\u001b[39;00m\n\u001b[1;32m    585\u001b[0m \u001b[38;5;124;03m\"\"\"\u001b[39;00m\n\u001b[1;32m    586\u001b[0m custom_instructions \u001b[38;5;241m=\u001b[39m \u001b[38;5;28mlist\u001b[39m(custom_instructions)\n\u001b[0;32m--> 587\u001b[0m \u001b[38;5;28;01mreturn\u001b[39;00m \u001b[43m_parse\u001b[49m\u001b[38;5;241;43m.\u001b[39;49m\u001b[43mfrom_bytecode\u001b[49m\u001b[43m(\u001b[49m\n\u001b[1;32m    588\u001b[0m \u001b[43m    \u001b[49m\u001b[43m_qasm2\u001b[49m\u001b[38;5;241;43m.\u001b[39;49m\u001b[43mbytecode_from_string\u001b[49m\u001b[43m(\u001b[49m\n\u001b[1;32m    589\u001b[0m \u001b[43m        \u001b[49m\u001b[43mstring\u001b[49m\u001b[43m,\u001b[49m\n\u001b[1;32m    590\u001b[0m \u001b[43m        \u001b[49m\u001b[43m[\u001b[49m\u001b[43m_normalize_path\u001b[49m\u001b[43m(\u001b[49m\u001b[43mpath\u001b[49m\u001b[43m)\u001b[49m\u001b[43m \u001b[49m\u001b[38;5;28;43;01mfor\u001b[39;49;00m\u001b[43m \u001b[49m\u001b[43mpath\u001b[49m\u001b[43m \u001b[49m\u001b[38;5;129;43;01min\u001b[39;49;00m\u001b[43m \u001b[49m\u001b[43minclude_path\u001b[49m\u001b[43m]\u001b[49m\u001b[43m,\u001b[49m\n\u001b[1;32m    591\u001b[0m \u001b[43m        \u001b[49m\u001b[43m[\u001b[49m\n\u001b[1;32m    592\u001b[0m \u001b[43m            \u001b[49m\u001b[43m_qasm2\u001b[49m\u001b[38;5;241;43m.\u001b[39;49m\u001b[43mCustomInstruction\u001b[49m\u001b[43m(\u001b[49m\u001b[43mx\u001b[49m\u001b[38;5;241;43m.\u001b[39;49m\u001b[43mname\u001b[49m\u001b[43m,\u001b[49m\u001b[43m \u001b[49m\u001b[43mx\u001b[49m\u001b[38;5;241;43m.\u001b[39;49m\u001b[43mnum_params\u001b[49m\u001b[43m,\u001b[49m\u001b[43m \u001b[49m\u001b[43mx\u001b[49m\u001b[38;5;241;43m.\u001b[39;49m\u001b[43mnum_qubits\u001b[49m\u001b[43m,\u001b[49m\u001b[43m \u001b[49m\u001b[43mx\u001b[49m\u001b[38;5;241;43m.\u001b[39;49m\u001b[43mbuiltin\u001b[49m\u001b[43m)\u001b[49m\n\u001b[1;32m    593\u001b[0m \u001b[43m            \u001b[49m\u001b[38;5;28;43;01mfor\u001b[39;49;00m\u001b[43m \u001b[49m\u001b[43mx\u001b[49m\u001b[43m \u001b[49m\u001b[38;5;129;43;01min\u001b[39;49;00m\u001b[43m \u001b[49m\u001b[43mcustom_instructions\u001b[49m\n\u001b[1;32m    594\u001b[0m \u001b[43m        \u001b[49m\u001b[43m]\u001b[49m\u001b[43m,\u001b[49m\n\u001b[1;32m    595\u001b[0m \u001b[43m        \u001b[49m\u001b[38;5;28;43mtuple\u001b[39;49m\u001b[43m(\u001b[49m\u001b[43mcustom_classical\u001b[49m\u001b[43m)\u001b[49m\u001b[43m,\u001b[49m\n\u001b[1;32m    596\u001b[0m \u001b[43m        \u001b[49m\u001b[43mstrict\u001b[49m\u001b[43m,\u001b[49m\n\u001b[1;32m    597\u001b[0m \u001b[43m    \u001b[49m\u001b[43m)\u001b[49m\u001b[43m,\u001b[49m\n\u001b[1;32m    598\u001b[0m \u001b[43m    \u001b[49m\u001b[43mcustom_instructions\u001b[49m\u001b[43m,\u001b[49m\n\u001b[1;32m    599\u001b[0m \u001b[43m\u001b[49m\u001b[43m)\u001b[49m\n",
      "File \u001b[0;32m~/.conda/envs/crosspl/lib/python3.10/site-packages/qiskit/qasm2/parse.py:243\u001b[0m, in \u001b[0;36mfrom_bytecode\u001b[0;34m(bytecode, custom_instructions)\u001b[0m\n\u001b[1;32m    240\u001b[0m \u001b[38;5;66;03m# Pull this out as an explicit iterator so we can manually advance the loop in `DeclareGate`\u001b[39;00m\n\u001b[1;32m    241\u001b[0m \u001b[38;5;66;03m# contexts easily.\u001b[39;00m\n\u001b[1;32m    242\u001b[0m bc \u001b[38;5;241m=\u001b[39m \u001b[38;5;28miter\u001b[39m(bytecode)\n\u001b[0;32m--> 243\u001b[0m \u001b[38;5;28;01mfor\u001b[39;00m op \u001b[38;5;129;01min\u001b[39;00m bc:\n\u001b[1;32m    244\u001b[0m     \u001b[38;5;66;03m# We have to check `op.opcode` so many times, it's worth pulling out the extra attribute\u001b[39;00m\n\u001b[1;32m    245\u001b[0m     \u001b[38;5;66;03m# access.  We should check the opcodes in order of their likelihood to be in the OQ2 program\u001b[39;00m\n\u001b[1;32m    246\u001b[0m     \u001b[38;5;66;03m# for speed.  Gate applications are by far the most common for long programs.  This function\u001b[39;00m\n\u001b[1;32m    247\u001b[0m     \u001b[38;5;66;03m# is deliberately long and does not use hashmaps or function lookups for speed in\u001b[39;00m\n\u001b[1;32m    248\u001b[0m     \u001b[38;5;66;03m# Python-space.\u001b[39;00m\n\u001b[1;32m    249\u001b[0m     opcode \u001b[38;5;241m=\u001b[39m op\u001b[38;5;241m.\u001b[39mopcode\n\u001b[1;32m    250\u001b[0m     \u001b[38;5;66;03m# `OpCode` is an `enum` in Rust, but its instances don't have the same singleton property as\u001b[39;00m\n\u001b[1;32m    251\u001b[0m     \u001b[38;5;66;03m# Python `enum.Enum` objects.\u001b[39;00m\n",
      "\u001b[0;31mQASM2ParseError\u001b[0m: \"<input>:5,0: 'rxx' is not defined in this scope\""
     ]
    }
   ],
   "source": [
    "from qiskit.qasm2 import loads\n",
    "\n",
    "new_qc = loads(qasm_tket)\n",
    "new_qc.draw()"
   ]
  },
  {
   "cell_type": "code",
   "execution_count": null,
   "metadata": {},
   "outputs": [],
   "source": []
  }
 ],
 "metadata": {
  "kernelspec": {
   "display_name": "Python 3",
   "language": "python",
   "name": "python3"
  },
  "language_info": {
   "codemirror_mode": {
    "name": "ipython",
    "version": 3
   },
   "file_extension": ".py",
   "mimetype": "text/x-python",
   "name": "python",
   "nbconvert_exporter": "python",
   "pygments_lexer": "ipython3",
   "version": "3.10.14"
  }
 },
 "nbformat": 4,
 "nbformat_minor": 2
}
