{
 "cells": [
  {
   "cell_type": "code",
   "execution_count": 1,
   "metadata": {},
   "outputs": [],
   "source": [
    "import os\n",
    "import sys\n",
    "import json\n",
    "from pathlib import Path\n",
    "\n",
    "import pandas as pd\n",
    "import numpy as np\n",
    "import matplotlib.pyplot as plt\n",
    "import seaborn as sns\n",
    "\n",
    "from typing import List, Tuple, Dict, Any, Optional"
   ]
  },
  {
   "cell_type": "code",
   "execution_count": 2,
   "metadata": {
    "tags": [
     "parameters"
    ]
   },
   "outputs": [],
   "source": [
    "PATH_ROOT_DIR: str = \"..\"\n",
    "\n",
    "INFO_TO_USE_FOR_CLUSTERING: List[str] = [\n",
    "    'exception_message', 'essential_file_content']\n",
    "\n",
    "PCA_COMPONENTS: int = 3\n",
    "\n",
    "AI_MODEL: str = \"llama-3.1-70b-versatile\"  # or \"gpt-4o-mini\"\n",
    "\n",
    "N_POSITIVE_EXAMPLES_TO_SHOW_LLM: int = 5\n",
    "\n",
    "# Test run\n",
    "# DIR_PROGRAM_BANK = os.path.join(\"..\", \"program_bank\", \"v001\", \"2024_10_04__14_48__qiskit\")\n",
    "# Run with 10k programs: v001.yaml\n",
    "# program_bank/v001/2024_10_04__15_10__qiskit\n",
    "# DIR_PROGRAM_BANK = os.path.join(\"..\", \"program_bank\", \"v001\", \"2024_10_04__15_10__qiskit\")\n",
    "# program_bank/v002/2024_10_07__17_03__qiskit\n",
    "# DIR_PROGRAM_BANK: str = os.path.join(\n",
    "#     \"..\", \"program_bank\", \"v004\", \"2024_10_18__16_09__qiskit\")\n",
    "\n",
    "# DIR_SAMPLE_ERRORS: str = os.path.join(\n",
    "#     \"..\", \"program_bank\", \"v004\", \"2024_10_18__16_09__sample_errors\")\n",
    "\n",
    "\n",
    "# DIR_PROGRAM_BANK: str = os.path.join(\n",
    "#     \"..\", \"program_bank\", \"v005\", \"2024_10_22__14_17__qiskit\")\n",
    "# DIR_SAMPLE_ERRORS: str = os.path.join(\n",
    "#     \"..\", \"program_bank\", \"v005\", \"2024_10_22__14_17__sample_errors\")\n",
    "\n",
    "# program_bank/v005/2024_10_22__22_32__qiskit\n",
    "DIR_PROGRAM_BANK: str = os.path.join(\n",
    "    \"..\", \"program_bank\", \"v005\", \"2024_10_22__22_32__qiskit\")\n",
    "DIR_SAMPLE_ERRORS: str = os.path.join(\n",
    "    \"..\", \"program_bank\", \"v005\",\n",
    "    \"2024_10_22__22_32__sample_errors_no_pennylane\")\n",
    "\n",
    "\n",
    "PROMPT_CONTENT: str = \"BOTH_ERROR_AND_PROGRAM\""
   ]
  },
  {
   "cell_type": "code",
   "execution_count": 3,
   "metadata": {},
   "outputs": [
    {
     "name": "stdout",
     "output_type": "stream",
     "text": [
      "Current folder: /home/paltenmo/projects/crossplatform/notebooks\n",
      "PATH_ROOT_DIR: ..\n",
      "INFO_TO_USE_FOR_CLUSTERING: ['exception_message', 'essential_file_content']\n",
      "PCA_COMPONENTS: 3\n",
      "AI_MODEL: llama-3.1-70b-versatile\n",
      "N_POSITIVE_EXAMPLES_TO_SHOW_LLM: 5\n",
      "DIR_PROGRAM_BANK: ../program_bank/v005/2024_10_22__22_32__qiskit\n",
      "DIR_SAMPLE_ERRORS: ../program_bank/v005/2024_10_22__22_32__sample_errors_no_pennylane\n",
      "PROMPT_CONTENT: BOTH_ERROR_AND_PROGRAM\n"
     ]
    }
   ],
   "source": [
    "# print the current folder\n",
    "print(f\"Current folder: {os.getcwd()}\")\n",
    "\n",
    "all_global_vars = dict(globals().copy())\n",
    "# print all global variables\n",
    "for k, v in all_global_vars.items():\n",
    "    if k.isupper():\n",
    "        print(f\"{k}: {v}\")"
   ]
  },
  {
   "cell_type": "code",
   "execution_count": 4,
   "metadata": {},
   "outputs": [],
   "source": [
    "import openai\n",
    "import groq\n",
    "PATH_GROQ_TOKEN = os.path.join(PATH_ROOT_DIR, \"groq_token.txt\")\n",
    "GROQ_TOKEN = Path(PATH_GROQ_TOKEN).read_text().strip()\n",
    "\n",
    "# Export the GROQ_TOKEN as GROQ_API_KEY\n",
    "os.environ['GROQ_API_KEY'] = GROQ_TOKEN\n",
    "\n",
    "PATH_OPENAI_API_KEY = os.path.join(PATH_ROOT_DIR, \"openai_token.txt\")\n",
    "OPENAI_API_KEY = Path(PATH_OPENAI_API_KEY).read_text().strip()\n",
    "\n",
    "os.environ['OPENAI_API_KEY'] = OPENAI_API_KEY"
   ]
  },
  {
   "cell_type": "code",
   "execution_count": 5,
   "metadata": {},
   "outputs": [
    {
     "name": "stdout",
     "output_type": "stream",
     "text": [
      "Number of generated programs: 82166\n",
      "Number of errors: 189431\n"
     ]
    }
   ],
   "source": [
    "# count generated programs in the program bank\n",
    "count_generated_programs = len(list(Path(DIR_PROGRAM_BANK).rglob(\"*.py\")))\n",
    "print(f\"Number of generated programs: {count_generated_programs}\")\n",
    "\n",
    "# count the number of errors\n",
    "count_errors = len(list(Path(DIR_PROGRAM_BANK).rglob(\"*_error.json\")))\n",
    "print(f\"Number of errors: {count_errors}\")"
   ]
  },
  {
   "cell_type": "markdown",
   "metadata": {},
   "source": [
    "## Read Files"
   ]
  },
  {
   "cell_type": "code",
   "execution_count": 6,
   "metadata": {},
   "outputs": [
    {
     "name": "stdout",
     "output_type": "stream",
     "text": [
      "Number of errors: 189431\n"
     ]
    }
   ],
   "source": [
    "from multiprocessing import Pool\n",
    "import re\n",
    "\n",
    "\n",
    "def read_json_file(file_path: str) -> Dict[str, Any]:\n",
    "    with open(file_path, 'r') as file:\n",
    "        data = json.load(file)\n",
    "        data[\"error_file\"] = os.path.basename(file_path)\n",
    "        return data\n",
    "\n",
    "\n",
    "def read_all_programs(dir_path: str) -> pd.DataFrame:\n",
    "    json_files = [os.path.join(dir_path, f) for f in os.listdir(\n",
    "        dir_path) if re.match(r'.*_error\\.json$', f)]\n",
    "    records = []\n",
    "\n",
    "    with Pool() as pool:\n",
    "        results = pool.map(read_json_file, json_files)\n",
    "        records.extend(results)\n",
    "\n",
    "    return pd.DataFrame(records)\n",
    "\n",
    "\n",
    "# Use the function to read all programs\n",
    "df_errors = read_all_programs(DIR_PROGRAM_BANK)\n",
    "\n",
    "# augment the dataframe with the proram content\n",
    "\n",
    "\n",
    "def read_file_content(file_name: str) -> str:\n",
    "    file_path = os.path.join(DIR_PROGRAM_BANK, file_name)\n",
    "    with open(file_path, 'r') as file:\n",
    "        return file.read()\n",
    "\n",
    "\n",
    "# Use parallel apply to read the file content\n",
    "with Pool() as pool:\n",
    "    df_errors['file_content'] = pool.map(\n",
    "        read_file_content, df_errors['current_file'])\n",
    "\n",
    "# Alternatively, you can use apply without parallel processing\n",
    "# df_errors['file_content'] = df_errors['current_file'].apply(read_file_content)\n",
    "\n",
    "df_errors.head()\n",
    "n_errors = len(df_errors)\n",
    "print(f\"Number of errors: {n_errors}\")"
   ]
  },
  {
   "cell_type": "markdown",
   "metadata": {},
   "source": [
    "# Exclude Pennylane (errors)"
   ]
  },
  {
   "cell_type": "code",
   "execution_count": 7,
   "metadata": {},
   "outputs": [
    {
     "name": "stdout",
     "output_type": "stream",
     "text": [
      "Number of errors without PennyLane: 54235\n"
     ]
    }
   ],
   "source": [
    "# keep only those without pennylane in the involeved_functions\n",
    "# cast the involved_functions to string\n",
    "df_errors['involved_functions'] = df_errors['involved_functions'].astype(\n",
    "    str)\n",
    "df_errors = df_errors[\n",
    "    ~df_errors['involved_functions'].str.contains('pennylane')]\n",
    "n_errors = len(df_errors)\n",
    "print(f\"Number of errors without PennyLane: {n_errors}\")"
   ]
  },
  {
   "cell_type": "markdown",
   "metadata": {},
   "source": [
    "# Minimize Sample"
   ]
  },
  {
   "cell_type": "code",
   "execution_count": 8,
   "metadata": {},
   "outputs": [
    {
     "name": "stdout",
     "output_type": "stream",
     "text": [
      "Copying ../program_bank/v005/2024_10_22__22_32__qiskit/qiskit_circuit_32q_10g_77145_ac209a_f3f76a_error.json to ../program_bank/v005/2024_10_22__22_32__sample_errors_no_pennylane\n",
      "Copying ../program_bank/v005/2024_10_22__22_32__qiskit/qiskit_circuit_32q_10g_72419_2484a1_565431_error.json to ../program_bank/v005/2024_10_22__22_32__sample_errors_no_pennylane\n",
      "Copying ../program_bank/v005/2024_10_22__22_32__qiskit/qiskit_circuit_32q_10g_74712_c84e32_db5fb1_error.json to ../program_bank/v005/2024_10_22__22_32__sample_errors_no_pennylane\n",
      "Copying ../program_bank/v005/2024_10_22__22_32__qiskit/qiskit_circuit_32q_10g_77413_d0ed80_3f8617_error.json to ../program_bank/v005/2024_10_22__22_32__sample_errors_no_pennylane\n",
      "Copying ../program_bank/v005/2024_10_22__22_32__qiskit/qiskit_circuit_32q_10g_49850_79a6d5_cbe4b9_error.json to ../program_bank/v005/2024_10_22__22_32__sample_errors_no_pennylane\n",
      "Copying ../program_bank/v005/2024_10_22__22_32__qiskit/qiskit_circuit_32q_10g_70298_e19d16_a2791b_error.json to ../program_bank/v005/2024_10_22__22_32__sample_errors_no_pennylane\n",
      "Copying ../program_bank/v005/2024_10_22__22_32__qiskit/qiskit_circuit_32q_10g_18690_1e7c44_8e94c0_error.json to ../program_bank/v005/2024_10_22__22_32__sample_errors_no_pennylane\n",
      "Copying ../program_bank/v005/2024_10_22__22_32__qiskit/qiskit_circuit_32q_10g_3311_12105c_ac774b_error.json to ../program_bank/v005/2024_10_22__22_32__sample_errors_no_pennylane\n",
      "Copying ../program_bank/v005/2024_10_22__22_32__qiskit/qiskit_circuit_32q_10g_50051_ad703d_06b877_error.json to ../program_bank/v005/2024_10_22__22_32__sample_errors_no_pennylane\n",
      "Copying ../program_bank/v005/2024_10_22__22_32__qiskit/qiskit_circuit_32q_10g_15090_228b8a_a65e6b_error.json to ../program_bank/v005/2024_10_22__22_32__sample_errors_no_pennylane\n"
     ]
    }
   ],
   "source": [
    "import shutil\n",
    "SAMPLE_SIZE = 10\n",
    "\n",
    "# keep only errors with `The circuits are not equivalent` in the exception message\n",
    "df_errors = df_errors[df_errors['exception_message'].str.contains(\n",
    "    'The circuits are not equivalent')]\n",
    "\n",
    "# pick a sample of error files\n",
    "sample_errors = df_errors.sample(SAMPLE_SIZE, random_state=42)\n",
    "\n",
    "# get the paths of the error files\n",
    "sample_errors_paths = [os.path.join(\n",
    "    DIR_PROGRAM_BANK, f) for f in sample_errors['error_file']]\n",
    "\n",
    "\n",
    "# copy them to a new folder\n",
    "os.makedirs(DIR_SAMPLE_ERRORS, exist_ok=True)\n",
    "for file_path in sample_errors_paths:\n",
    "    shutil.copy(file_path, DIR_SAMPLE_ERRORS)\n",
    "    print(f\"Copying {file_path} to {DIR_SAMPLE_ERRORS}\")"
   ]
  },
  {
   "cell_type": "code",
   "execution_count": 9,
   "metadata": {},
   "outputs": [],
   "source": [
    "import sys\n",
    "sys.path.append(\"..\")"
   ]
  },
  {
   "cell_type": "code",
   "execution_count": 10,
   "metadata": {},
   "outputs": [
    {
     "name": "stdout",
     "output_type": "stream",
     "text": [
      "Error paths in sample folder (10):\n",
      "../program_bank/v005/2024_10_22__22_32__sample_errors_no_pennylane/qiskit_circuit_32q_10g_77145_ac209a_f3f76a_error.json\n",
      "../program_bank/v005/2024_10_22__22_32__sample_errors_no_pennylane/qiskit_circuit_32q_10g_77413_d0ed80_3f8617_error.json\n",
      "../program_bank/v005/2024_10_22__22_32__sample_errors_no_pennylane/qiskit_circuit_32q_10g_70298_e19d16_a2791b_error.json\n",
      "../program_bank/v005/2024_10_22__22_32__sample_errors_no_pennylane/qiskit_circuit_32q_10g_18690_1e7c44_8e94c0_error.json\n",
      "../program_bank/v005/2024_10_22__22_32__sample_errors_no_pennylane/qiskit_circuit_32q_10g_72419_2484a1_565431_error.json\n",
      "../program_bank/v005/2024_10_22__22_32__sample_errors_no_pennylane/qiskit_circuit_32q_10g_74712_c84e32_db5fb1_error.json\n",
      "../program_bank/v005/2024_10_22__22_32__sample_errors_no_pennylane/qiskit_circuit_32q_10g_15090_228b8a_a65e6b_error.json\n",
      "../program_bank/v005/2024_10_22__22_32__sample_errors_no_pennylane/qiskit_circuit_32q_10g_49850_79a6d5_cbe4b9_error.json\n",
      "../program_bank/v005/2024_10_22__22_32__sample_errors_no_pennylane/qiskit_circuit_32q_10g_50051_ad703d_06b877_error.json\n",
      "../program_bank/v005/2024_10_22__22_32__sample_errors_no_pennylane/qiskit_circuit_32q_10g_3311_12105c_ac774b_error.json\n",
      "Running minimization for ../program_bank/v005/2024_10_22__22_32__sample_errors_no_pennylane/qiskit_circuit_32q_10g_77145_ac209a_f3f76a_error.json\n"
     ]
    },
    {
     "data": {
      "text/html": [
       "<pre style=\"white-space:pre;overflow-x:auto;line-height:normal;font-family:Menlo,'DejaVu Sans Mono',consolas,'Courier New',monospace\"><span style=\"color: #7fbfbf; text-decoration-color: #7fbfbf\">[16:48:40] </span>Involved functions:                                                             <a href=\"file:///home/paltenmo/projects/crossplatform/analysis_and_reporting/ddmin_target_file.py\" target=\"_blank\"><span style=\"color: #7f7f7f; text-decoration-color: #7f7f7f\">ddmin_target_file.py</span></a><span style=\"color: #7f7f7f; text-decoration-color: #7f7f7f\">:</span><a href=\"file:///home/paltenmo/projects/crossplatform/analysis_and_reporting/ddmin_target_file.py#206\" target=\"_blank\"><span style=\"color: #7f7f7f; text-decoration-color: #7f7f7f\">206</span></a>\n",
       "</pre>\n"
      ],
      "text/plain": [
       "\u001b[2;36m[16:48:40]\u001b[0m\u001b[2;36m \u001b[0mInvolved functions:                                                             \u001b]8;id=593167;file:///home/paltenmo/projects/crossplatform/analysis_and_reporting/ddmin_target_file.py\u001b\\\u001b[2mddmin_target_file.py\u001b[0m\u001b]8;;\u001b\\\u001b[2m:\u001b[0m\u001b]8;id=930091;file:///home/paltenmo/projects/crossplatform/analysis_and_reporting/ddmin_target_file.py#206\u001b\\\u001b[2m206\u001b[0m\u001b]8;;\u001b\\\n"
      ]
     },
     "metadata": {},
     "output_type": "display_data"
    },
    {
     "data": {
      "text/html": [
       "<pre style=\"white-space:pre;overflow-x:auto;line-height:normal;font-family:Menlo,'DejaVu Sans Mono',consolas,'Courier New',monospace\"><span style=\"color: #7fbfbf; text-decoration-color: #7fbfbf\">           </span>  - compare_qasm_via_qcec                                                       <a href=\"file:///home/paltenmo/projects/crossplatform/analysis_and_reporting/ddmin_target_file.py\" target=\"_blank\"><span style=\"color: #7f7f7f; text-decoration-color: #7f7f7f\">ddmin_target_file.py</span></a><span style=\"color: #7f7f7f; text-decoration-color: #7f7f7f\">:</span><a href=\"file:///home/paltenmo/projects/crossplatform/analysis_and_reporting/ddmin_target_file.py#208\" target=\"_blank\"><span style=\"color: #7f7f7f; text-decoration-color: #7f7f7f\">208</span></a>\n",
       "</pre>\n"
      ],
      "text/plain": [
       "\u001b[2;36m          \u001b[0m\u001b[2;36m \u001b[0m  - compare_qasm_via_qcec                                                       \u001b]8;id=710492;file:///home/paltenmo/projects/crossplatform/analysis_and_reporting/ddmin_target_file.py\u001b\\\u001b[2mddmin_target_file.py\u001b[0m\u001b]8;;\u001b\\\u001b[2m:\u001b[0m\u001b]8;id=990985;file:///home/paltenmo/projects/crossplatform/analysis_and_reporting/ddmin_target_file.py#208\u001b\\\u001b[2m208\u001b[0m\u001b]8;;\u001b\\\n"
      ]
     },
     "metadata": {},
     "output_type": "display_data"
    },
    {
     "data": {
      "text/html": [
       "<pre style=\"white-space:pre;overflow-x:auto;line-height:normal;font-family:Menlo,'DejaVu Sans Mono',consolas,'Courier New',monospace\"><span style=\"color: #7fbfbf; text-decoration-color: #7fbfbf\">           </span>  - export_to_qasm_with_pytket                                                  <a href=\"file:///home/paltenmo/projects/crossplatform/analysis_and_reporting/ddmin_target_file.py\" target=\"_blank\"><span style=\"color: #7f7f7f; text-decoration-color: #7f7f7f\">ddmin_target_file.py</span></a><span style=\"color: #7f7f7f; text-decoration-color: #7f7f7f\">:</span><a href=\"file:///home/paltenmo/projects/crossplatform/analysis_and_reporting/ddmin_target_file.py#208\" target=\"_blank\"><span style=\"color: #7f7f7f; text-decoration-color: #7f7f7f\">208</span></a>\n",
       "</pre>\n"
      ],
      "text/plain": [
       "\u001b[2;36m          \u001b[0m\u001b[2;36m \u001b[0m  - export_to_qasm_with_pytket                                                  \u001b]8;id=924703;file:///home/paltenmo/projects/crossplatform/analysis_and_reporting/ddmin_target_file.py\u001b\\\u001b[2mddmin_target_file.py\u001b[0m\u001b]8;;\u001b\\\u001b[2m:\u001b[0m\u001b]8;id=897092;file:///home/paltenmo/projects/crossplatform/analysis_and_reporting/ddmin_target_file.py#208\u001b\\\u001b[2m208\u001b[0m\u001b]8;;\u001b\\\n"
      ]
     },
     "metadata": {},
     "output_type": "display_data"
    },
    {
     "data": {
      "text/html": [
       "<pre style=\"white-space:pre;overflow-x:auto;line-height:normal;font-family:Menlo,'DejaVu Sans Mono',consolas,'Courier New',monospace\"><span style=\"color: #7fbfbf; text-decoration-color: #7fbfbf\">           </span>  - export_to_qasm_with_qiskit                                                  <a href=\"file:///home/paltenmo/projects/crossplatform/analysis_and_reporting/ddmin_target_file.py\" target=\"_blank\"><span style=\"color: #7f7f7f; text-decoration-color: #7f7f7f\">ddmin_target_file.py</span></a><span style=\"color: #7f7f7f; text-decoration-color: #7f7f7f\">:</span><a href=\"file:///home/paltenmo/projects/crossplatform/analysis_and_reporting/ddmin_target_file.py#208\" target=\"_blank\"><span style=\"color: #7f7f7f; text-decoration-color: #7f7f7f\">208</span></a>\n",
       "</pre>\n"
      ],
      "text/plain": [
       "\u001b[2;36m          \u001b[0m\u001b[2;36m \u001b[0m  - export_to_qasm_with_qiskit                                                  \u001b]8;id=681954;file:///home/paltenmo/projects/crossplatform/analysis_and_reporting/ddmin_target_file.py\u001b\\\u001b[2mddmin_target_file.py\u001b[0m\u001b]8;;\u001b\\\u001b[2m:\u001b[0m\u001b]8;id=314491;file:///home/paltenmo/projects/crossplatform/analysis_and_reporting/ddmin_target_file.py#208\u001b\\\u001b[2m208\u001b[0m\u001b]8;;\u001b\\\n"
      ]
     },
     "metadata": {},
     "output_type": "display_data"
    },
    {
     "name": "stdout",
     "output_type": "stream",
     "text": [
      "Output: Saved the Pytket circuit to /workspace/to_execute_qc_pytket.qasm\n",
      "Saved the Qiskit circuit to /workspace/to_execute_qc_qiskit.qasm\n",
      "Exported QASM files: [('/workspace/to_execute_qc_pytket.qasm', 'export_to_qasm_with_pytket'), ('/workspace/to_execute_qc_qiskit.qasm', 'export_to_qasm_with_qiskit')]\n",
      "The circuits are equivalent: /workspace/to_execute_qc_pytket.qasm, /workspace/to_execute_qc_qiskit.qasm\n",
      "\n",
      "Program to_execute.py executed successfully.\n",
      "Output: Saved the Pytket circuit to /workspace/to_execute_qc_pytket.qasm\n",
      "Saved the Qiskit circuit to /workspace/to_execute_qc_qiskit.qasm\n",
      "Exported QASM files: [('/workspace/to_execute_qc_pytket.qasm', 'export_to_qasm_with_pytket'), ('/workspace/to_execute_qc_qiskit.qasm', 'export_to_qasm_with_qiskit')]\n",
      "Log has been saved to /workspace/to_execute_a6237e_error.json\n",
      "\n",
      "Program to_execute.py executed successfully.\n",
      "New exception message: The circuits are not equivalent: /workspace/to_execute_qc_pytket.qasm, /workspace/to_execute_qc_qiskit.qasm\n",
      "Output: Saved the Pytket circuit to /workspace/to_execute_qc_pytket.qasm\n",
      "Saved the Qiskit circuit to /workspace/to_execute_qc_qiskit.qasm\n",
      "Exported QASM files: [('/workspace/to_execute_qc_pytket.qasm', 'export_to_qasm_with_pytket'), ('/workspace/to_execute_qc_qiskit.qasm', 'export_to_qasm_with_qiskit')]\n",
      "Log has been saved to /workspace/to_execute_497f83_error.json\n",
      "\n",
      "Program to_execute.py executed successfully.\n",
      "New exception message: The circuits are not equivalent: /workspace/to_execute_qc_pytket.qasm, /workspace/to_execute_qc_qiskit.qasm\n",
      "Output: Saved the Pytket circuit to /workspace/to_execute_qc_pytket.qasm\n",
      "Saved the Qiskit circuit to /workspace/to_execute_qc_qiskit.qasm\n",
      "Exported QASM files: [('/workspace/to_execute_qc_pytket.qasm', 'export_to_qasm_with_pytket'), ('/workspace/to_execute_qc_qiskit.qasm', 'export_to_qasm_with_qiskit')]\n",
      "The circuits are equivalent: /workspace/to_execute_qc_pytket.qasm, /workspace/to_execute_qc_qiskit.qasm\n",
      "\n",
      "Program to_execute.py executed successfully.\n",
      "Output: Saved the Pytket circuit to /workspace/to_execute_qc_pytket.qasm\n",
      "Saved the Qiskit circuit to /workspace/to_execute_qc_qiskit.qasm\n",
      "Exported QASM files: [('/workspace/to_execute_qc_pytket.qasm', 'export_to_qasm_with_pytket'), ('/workspace/to_execute_qc_qiskit.qasm', 'export_to_qasm_with_qiskit')]\n",
      "Log has been saved to /workspace/to_execute_c0d70a_error.json\n",
      "\n",
      "Program to_execute.py executed successfully.\n",
      "New exception message: The circuits are not equivalent: /workspace/to_execute_qc_pytket.qasm, /workspace/to_execute_qc_qiskit.qasm\n",
      "Output: Saved the Pytket circuit to /workspace/to_execute_qc_pytket.qasm\n",
      "Saved the Qiskit circuit to /workspace/to_execute_qc_qiskit.qasm\n",
      "Exported QASM files: [('/workspace/to_execute_qc_pytket.qasm', 'export_to_qasm_with_pytket'), ('/workspace/to_execute_qc_qiskit.qasm', 'export_to_qasm_with_qiskit')]\n",
      "The circuits are equivalent: /workspace/to_execute_qc_pytket.qasm, /workspace/to_execute_qc_qiskit.qasm\n",
      "\n",
      "Program to_execute.py executed successfully.\n",
      "Output: Saved the Pytket circuit to /workspace/to_execute_qc_pytket.qasm\n",
      "Saved the Qiskit circuit to /workspace/to_execute_qc_qiskit.qasm\n",
      "Exported QASM files: [('/workspace/to_execute_qc_pytket.qasm', 'export_to_qasm_with_pytket'), ('/workspace/to_execute_qc_qiskit.qasm', 'export_to_qasm_with_qiskit')]\n",
      "Log has been saved to /workspace/to_execute_2264a1_error.json\n",
      "\n",
      "Program to_execute.py executed successfully.\n",
      "New exception message: The circuits are not equivalent: /workspace/to_execute_qc_pytket.qasm, /workspace/to_execute_qc_qiskit.qasm\n",
      "Output: Saved the Pytket circuit to /workspace/to_execute_qc_pytket.qasm\n",
      "Saved the Qiskit circuit to /workspace/to_execute_qc_qiskit.qasm\n",
      "Exported QASM files: [('/workspace/to_execute_qc_pytket.qasm', 'export_to_qasm_with_pytket'), ('/workspace/to_execute_qc_qiskit.qasm', 'export_to_qasm_with_qiskit')]\n",
      "The circuits are equivalent: /workspace/to_execute_qc_pytket.qasm, /workspace/to_execute_qc_qiskit.qasm\n",
      "\n",
      "Program to_execute.py executed successfully.\n",
      "Output: Saved the Pytket circuit to /workspace/to_execute_qc_pytket.qasm\n",
      "Saved the Qiskit circuit to /workspace/to_execute_qc_qiskit.qasm\n",
      "Exported QASM files: [('/workspace/to_execute_qc_pytket.qasm', 'export_to_qasm_with_pytket'), ('/workspace/to_execute_qc_qiskit.qasm', 'export_to_qasm_with_qiskit')]\n",
      "The circuits are equivalent: /workspace/to_execute_qc_pytket.qasm, /workspace/to_execute_qc_qiskit.qasm\n",
      "\n",
      "Program to_execute.py executed successfully.\n"
     ]
    },
    {
     "data": {
      "text/html": [
       "<pre style=\"white-space:pre;overflow-x:auto;line-height:normal;font-family:Menlo,'DejaVu Sans Mono',consolas,'Courier New',monospace\"><span style=\"color: #7fbfbf; text-decoration-color: #7fbfbf\">[16:49:13] </span><span style=\"color: #008000; text-decoration-color: #008000\">Minimized file saved as:</span>                                                        <a href=\"file:///home/paltenmo/projects/crossplatform/analysis_and_reporting/ddmin_target_file.py\" target=\"_blank\"><span style=\"color: #7f7f7f; text-decoration-color: #7f7f7f\">ddmin_target_file.py</span></a><span style=\"color: #7f7f7f; text-decoration-color: #7f7f7f\">:</span><a href=\"file:///home/paltenmo/projects/crossplatform/analysis_and_reporting/ddmin_target_file.py#240\" target=\"_blank\"><span style=\"color: #7f7f7f; text-decoration-color: #7f7f7f\">240</span></a>\n",
       "<span style=\"color: #7fbfbf; text-decoration-color: #7fbfbf\">           </span>..<span style=\"color: #800080; text-decoration-color: #800080\">/program_bank/v005/2024_10_22__22_32__qiskit/</span><span style=\"color: #ff00ff; text-decoration-color: #ff00ff\">qiskit_circuit_32q_10g_77145_ac2</span> <span style=\"color: #7f7f7f; text-decoration-color: #7f7f7f\">                        </span>\n",
       "<span style=\"color: #7fbfbf; text-decoration-color: #7fbfbf\">           </span><span style=\"color: #ff00ff; text-decoration-color: #ff00ff\">09a_f3f76a_error_min.py</span>                                                         <span style=\"color: #7f7f7f; text-decoration-color: #7f7f7f\">                        </span>\n",
       "</pre>\n"
      ],
      "text/plain": [
       "\u001b[2;36m[16:49:13]\u001b[0m\u001b[2;36m \u001b[0m\u001b[32mMinimized file saved as:\u001b[0m                                                        \u001b]8;id=634580;file:///home/paltenmo/projects/crossplatform/analysis_and_reporting/ddmin_target_file.py\u001b\\\u001b[2mddmin_target_file.py\u001b[0m\u001b]8;;\u001b\\\u001b[2m:\u001b[0m\u001b]8;id=936129;file:///home/paltenmo/projects/crossplatform/analysis_and_reporting/ddmin_target_file.py#240\u001b\\\u001b[2m240\u001b[0m\u001b]8;;\u001b\\\n",
       "\u001b[2;36m           \u001b[0m..\u001b[35m/program_bank/v005/2024_10_22__22_32__qiskit/\u001b[0m\u001b[95mqiskit_circuit_32q_10g_77145_ac2\u001b[0m \u001b[2m                        \u001b[0m\n",
       "\u001b[2;36m           \u001b[0m\u001b[95m09a_f3f76a_error_min.py\u001b[0m                                                         \u001b[2m                        \u001b[0m\n"
      ]
     },
     "metadata": {},
     "output_type": "display_data"
    },
    {
     "name": "stdout",
     "output_type": "stream",
     "text": [
      "Running minimization for ../program_bank/v005/2024_10_22__22_32__sample_errors_no_pennylane/qiskit_circuit_32q_10g_77413_d0ed80_3f8617_error.json\n"
     ]
    },
    {
     "data": {
      "text/html": [
       "<pre style=\"white-space:pre;overflow-x:auto;line-height:normal;font-family:Menlo,'DejaVu Sans Mono',consolas,'Courier New',monospace\"><span style=\"color: #7fbfbf; text-decoration-color: #7fbfbf\">           </span>Involved functions:                                                             <a href=\"file:///home/paltenmo/projects/crossplatform/analysis_and_reporting/ddmin_target_file.py\" target=\"_blank\"><span style=\"color: #7f7f7f; text-decoration-color: #7f7f7f\">ddmin_target_file.py</span></a><span style=\"color: #7f7f7f; text-decoration-color: #7f7f7f\">:</span><a href=\"file:///home/paltenmo/projects/crossplatform/analysis_and_reporting/ddmin_target_file.py#206\" target=\"_blank\"><span style=\"color: #7f7f7f; text-decoration-color: #7f7f7f\">206</span></a>\n",
       "</pre>\n"
      ],
      "text/plain": [
       "\u001b[2;36m          \u001b[0m\u001b[2;36m \u001b[0mInvolved functions:                                                             \u001b]8;id=944137;file:///home/paltenmo/projects/crossplatform/analysis_and_reporting/ddmin_target_file.py\u001b\\\u001b[2mddmin_target_file.py\u001b[0m\u001b]8;;\u001b\\\u001b[2m:\u001b[0m\u001b]8;id=640420;file:///home/paltenmo/projects/crossplatform/analysis_and_reporting/ddmin_target_file.py#206\u001b\\\u001b[2m206\u001b[0m\u001b]8;;\u001b\\\n"
      ]
     },
     "metadata": {},
     "output_type": "display_data"
    },
    {
     "data": {
      "text/html": [
       "<pre style=\"white-space:pre;overflow-x:auto;line-height:normal;font-family:Menlo,'DejaVu Sans Mono',consolas,'Courier New',monospace\"><span style=\"color: #7fbfbf; text-decoration-color: #7fbfbf\">           </span>  - compare_qasm_via_qcec                                                       <a href=\"file:///home/paltenmo/projects/crossplatform/analysis_and_reporting/ddmin_target_file.py\" target=\"_blank\"><span style=\"color: #7f7f7f; text-decoration-color: #7f7f7f\">ddmin_target_file.py</span></a><span style=\"color: #7f7f7f; text-decoration-color: #7f7f7f\">:</span><a href=\"file:///home/paltenmo/projects/crossplatform/analysis_and_reporting/ddmin_target_file.py#208\" target=\"_blank\"><span style=\"color: #7f7f7f; text-decoration-color: #7f7f7f\">208</span></a>\n",
       "</pre>\n"
      ],
      "text/plain": [
       "\u001b[2;36m          \u001b[0m\u001b[2;36m \u001b[0m  - compare_qasm_via_qcec                                                       \u001b]8;id=508892;file:///home/paltenmo/projects/crossplatform/analysis_and_reporting/ddmin_target_file.py\u001b\\\u001b[2mddmin_target_file.py\u001b[0m\u001b]8;;\u001b\\\u001b[2m:\u001b[0m\u001b]8;id=214654;file:///home/paltenmo/projects/crossplatform/analysis_and_reporting/ddmin_target_file.py#208\u001b\\\u001b[2m208\u001b[0m\u001b]8;;\u001b\\\n"
      ]
     },
     "metadata": {},
     "output_type": "display_data"
    },
    {
     "data": {
      "text/html": [
       "<pre style=\"white-space:pre;overflow-x:auto;line-height:normal;font-family:Menlo,'DejaVu Sans Mono',consolas,'Courier New',monospace\"><span style=\"color: #7fbfbf; text-decoration-color: #7fbfbf\">           </span>  - export_to_qasm_with_pytket                                                  <a href=\"file:///home/paltenmo/projects/crossplatform/analysis_and_reporting/ddmin_target_file.py\" target=\"_blank\"><span style=\"color: #7f7f7f; text-decoration-color: #7f7f7f\">ddmin_target_file.py</span></a><span style=\"color: #7f7f7f; text-decoration-color: #7f7f7f\">:</span><a href=\"file:///home/paltenmo/projects/crossplatform/analysis_and_reporting/ddmin_target_file.py#208\" target=\"_blank\"><span style=\"color: #7f7f7f; text-decoration-color: #7f7f7f\">208</span></a>\n",
       "</pre>\n"
      ],
      "text/plain": [
       "\u001b[2;36m          \u001b[0m\u001b[2;36m \u001b[0m  - export_to_qasm_with_pytket                                                  \u001b]8;id=427479;file:///home/paltenmo/projects/crossplatform/analysis_and_reporting/ddmin_target_file.py\u001b\\\u001b[2mddmin_target_file.py\u001b[0m\u001b]8;;\u001b\\\u001b[2m:\u001b[0m\u001b]8;id=160520;file:///home/paltenmo/projects/crossplatform/analysis_and_reporting/ddmin_target_file.py#208\u001b\\\u001b[2m208\u001b[0m\u001b]8;;\u001b\\\n"
      ]
     },
     "metadata": {},
     "output_type": "display_data"
    },
    {
     "data": {
      "text/html": [
       "<pre style=\"white-space:pre;overflow-x:auto;line-height:normal;font-family:Menlo,'DejaVu Sans Mono',consolas,'Courier New',monospace\"><span style=\"color: #7fbfbf; text-decoration-color: #7fbfbf\">           </span>  - export_to_qasm_with_qiskit                                                  <a href=\"file:///home/paltenmo/projects/crossplatform/analysis_and_reporting/ddmin_target_file.py\" target=\"_blank\"><span style=\"color: #7f7f7f; text-decoration-color: #7f7f7f\">ddmin_target_file.py</span></a><span style=\"color: #7f7f7f; text-decoration-color: #7f7f7f\">:</span><a href=\"file:///home/paltenmo/projects/crossplatform/analysis_and_reporting/ddmin_target_file.py#208\" target=\"_blank\"><span style=\"color: #7f7f7f; text-decoration-color: #7f7f7f\">208</span></a>\n",
       "</pre>\n"
      ],
      "text/plain": [
       "\u001b[2;36m          \u001b[0m\u001b[2;36m \u001b[0m  - export_to_qasm_with_qiskit                                                  \u001b]8;id=271635;file:///home/paltenmo/projects/crossplatform/analysis_and_reporting/ddmin_target_file.py\u001b\\\u001b[2mddmin_target_file.py\u001b[0m\u001b]8;;\u001b\\\u001b[2m:\u001b[0m\u001b]8;id=904838;file:///home/paltenmo/projects/crossplatform/analysis_and_reporting/ddmin_target_file.py#208\u001b\\\u001b[2m208\u001b[0m\u001b]8;;\u001b\\\n"
      ]
     },
     "metadata": {},
     "output_type": "display_data"
    },
    {
     "name": "stdout",
     "output_type": "stream",
     "text": [
      "Output: Saved the Pytket circuit to /workspace/to_execute_qc_pytket.qasm\n",
      "Saved the Qiskit circuit to /workspace/to_execute_qc_qiskit.qasm\n",
      "Exported QASM files: [('/workspace/to_execute_qc_pytket.qasm', 'export_to_qasm_with_pytket'), ('/workspace/to_execute_qc_qiskit.qasm', 'export_to_qasm_with_qiskit')]\n",
      "The circuits are equivalent: /workspace/to_execute_qc_pytket.qasm, /workspace/to_execute_qc_qiskit.qasm\n",
      "\n",
      "Program to_execute.py executed successfully.\n",
      "Output: Saved the Pytket circuit to /workspace/to_execute_qc_pytket.qasm\n",
      "Saved the Qiskit circuit to /workspace/to_execute_qc_qiskit.qasm\n",
      "Exported QASM files: [('/workspace/to_execute_qc_pytket.qasm', 'export_to_qasm_with_pytket'), ('/workspace/to_execute_qc_qiskit.qasm', 'export_to_qasm_with_qiskit')]\n",
      "Log has been saved to /workspace/to_execute_a87b98_error.json\n",
      "\n",
      "Program to_execute.py executed successfully.\n",
      "New exception message: The circuits are not equivalent: /workspace/to_execute_qc_pytket.qasm, /workspace/to_execute_qc_qiskit.qasm\n",
      "Output: Saved the Pytket circuit to /workspace/to_execute_qc_pytket.qasm\n",
      "Saved the Qiskit circuit to /workspace/to_execute_qc_qiskit.qasm\n",
      "Exported QASM files: [('/workspace/to_execute_qc_pytket.qasm', 'export_to_qasm_with_pytket'), ('/workspace/to_execute_qc_qiskit.qasm', 'export_to_qasm_with_qiskit')]\n",
      "The circuits are equivalent: /workspace/to_execute_qc_pytket.qasm, /workspace/to_execute_qc_qiskit.qasm\n",
      "\n",
      "Program to_execute.py executed successfully.\n",
      "Output: Saved the Pytket circuit to /workspace/to_execute_qc_pytket.qasm\n",
      "Saved the Qiskit circuit to /workspace/to_execute_qc_qiskit.qasm\n",
      "Exported QASM files: [('/workspace/to_execute_qc_pytket.qasm', 'export_to_qasm_with_pytket'), ('/workspace/to_execute_qc_qiskit.qasm', 'export_to_qasm_with_qiskit')]\n",
      "Log has been saved to /workspace/to_execute_91c311_error.json\n",
      "\n",
      "Program to_execute.py executed successfully.\n",
      "New exception message: The circuits are not equivalent: /workspace/to_execute_qc_pytket.qasm, /workspace/to_execute_qc_qiskit.qasm\n",
      "Output: Saved the Pytket circuit to /workspace/to_execute_qc_pytket.qasm\n",
      "Saved the Qiskit circuit to /workspace/to_execute_qc_qiskit.qasm\n",
      "Exported QASM files: [('/workspace/to_execute_qc_pytket.qasm', 'export_to_qasm_with_pytket'), ('/workspace/to_execute_qc_qiskit.qasm', 'export_to_qasm_with_qiskit')]\n",
      "The circuits are equivalent: /workspace/to_execute_qc_pytket.qasm, /workspace/to_execute_qc_qiskit.qasm\n",
      "\n",
      "Program to_execute.py executed successfully.\n",
      "Output: Saved the Pytket circuit to /workspace/to_execute_qc_pytket.qasm\n",
      "Saved the Qiskit circuit to /workspace/to_execute_qc_qiskit.qasm\n",
      "Exported QASM files: [('/workspace/to_execute_qc_pytket.qasm', 'export_to_qasm_with_pytket'), ('/workspace/to_execute_qc_qiskit.qasm', 'export_to_qasm_with_qiskit')]\n",
      "The circuits are equivalent: /workspace/to_execute_qc_pytket.qasm, /workspace/to_execute_qc_qiskit.qasm\n",
      "\n",
      "Program to_execute.py executed successfully.\n",
      "Output: Saved the Pytket circuit to /workspace/to_execute_qc_pytket.qasm\n",
      "Saved the Qiskit circuit to /workspace/to_execute_qc_qiskit.qasm\n",
      "Exported QASM files: [('/workspace/to_execute_qc_pytket.qasm', 'export_to_qasm_with_pytket'), ('/workspace/to_execute_qc_qiskit.qasm', 'export_to_qasm_with_qiskit')]\n",
      "Log has been saved to /workspace/to_execute_6987c4_error.json\n",
      "\n",
      "Program to_execute.py executed successfully.\n",
      "New exception message: The circuits are not equivalent: /workspace/to_execute_qc_pytket.qasm, /workspace/to_execute_qc_qiskit.qasm\n",
      "Output: Saved the Pytket circuit to /workspace/to_execute_qc_pytket.qasm\n",
      "Saved the Qiskit circuit to /workspace/to_execute_qc_qiskit.qasm\n",
      "Exported QASM files: [('/workspace/to_execute_qc_pytket.qasm', 'export_to_qasm_with_pytket'), ('/workspace/to_execute_qc_qiskit.qasm', 'export_to_qasm_with_qiskit')]\n",
      "Log has been saved to /workspace/to_execute_0bbc7a_error.json\n",
      "\n",
      "Program to_execute.py executed successfully.\n",
      "New exception message: The circuits are not equivalent: /workspace/to_execute_qc_pytket.qasm, /workspace/to_execute_qc_qiskit.qasm\n",
      "Output: Saved the Pytket circuit to /workspace/to_execute_qc_pytket.qasm\n",
      "Saved the Qiskit circuit to /workspace/to_execute_qc_qiskit.qasm\n",
      "Exported QASM files: [('/workspace/to_execute_qc_pytket.qasm', 'export_to_qasm_with_pytket'), ('/workspace/to_execute_qc_qiskit.qasm', 'export_to_qasm_with_qiskit')]\n",
      "The circuits are equivalent: /workspace/to_execute_qc_pytket.qasm, /workspace/to_execute_qc_qiskit.qasm\n",
      "\n",
      "Program to_execute.py executed successfully.\n",
      "Output: Saved the Pytket circuit to /workspace/to_execute_qc_pytket.qasm\n",
      "Saved the Qiskit circuit to /workspace/to_execute_qc_qiskit.qasm\n",
      "Exported QASM files: [('/workspace/to_execute_qc_pytket.qasm', 'export_to_qasm_with_pytket'), ('/workspace/to_execute_qc_qiskit.qasm', 'export_to_qasm_with_qiskit')]\n",
      "Log has been saved to /workspace/to_execute_762107_error.json\n",
      "\n",
      "Program to_execute.py executed successfully.\n",
      "New exception message: The circuits are not equivalent: /workspace/to_execute_qc_pytket.qasm, /workspace/to_execute_qc_qiskit.qasm\n",
      "Output: Saved the Pytket circuit to /workspace/to_execute_qc_pytket.qasm\n",
      "Saved the Qiskit circuit to /workspace/to_execute_qc_qiskit.qasm\n",
      "Exported QASM files: [('/workspace/to_execute_qc_pytket.qasm', 'export_to_qasm_with_pytket'), ('/workspace/to_execute_qc_qiskit.qasm', 'export_to_qasm_with_qiskit')]\n",
      "The circuits are equivalent: /workspace/to_execute_qc_pytket.qasm, /workspace/to_execute_qc_qiskit.qasm\n",
      "\n",
      "Program to_execute.py executed successfully.\n",
      "Output: Saved the Pytket circuit to /workspace/to_execute_qc_pytket.qasm\n",
      "Saved the Qiskit circuit to /workspace/to_execute_qc_qiskit.qasm\n",
      "Exported QASM files: [('/workspace/to_execute_qc_pytket.qasm', 'export_to_qasm_with_pytket'), ('/workspace/to_execute_qc_qiskit.qasm', 'export_to_qasm_with_qiskit')]\n",
      "The circuits are equivalent: /workspace/to_execute_qc_pytket.qasm, /workspace/to_execute_qc_qiskit.qasm\n",
      "\n",
      "Program to_execute.py executed successfully.\n"
     ]
    },
    {
     "data": {
      "text/html": [
       "<pre style=\"white-space:pre;overflow-x:auto;line-height:normal;font-family:Menlo,'DejaVu Sans Mono',consolas,'Courier New',monospace\"><span style=\"color: #7fbfbf; text-decoration-color: #7fbfbf\">[16:49:56] </span><span style=\"color: #008000; text-decoration-color: #008000\">Minimized file saved as:</span>                                                        <a href=\"file:///home/paltenmo/projects/crossplatform/analysis_and_reporting/ddmin_target_file.py\" target=\"_blank\"><span style=\"color: #7f7f7f; text-decoration-color: #7f7f7f\">ddmin_target_file.py</span></a><span style=\"color: #7f7f7f; text-decoration-color: #7f7f7f\">:</span><a href=\"file:///home/paltenmo/projects/crossplatform/analysis_and_reporting/ddmin_target_file.py#240\" target=\"_blank\"><span style=\"color: #7f7f7f; text-decoration-color: #7f7f7f\">240</span></a>\n",
       "<span style=\"color: #7fbfbf; text-decoration-color: #7fbfbf\">           </span>..<span style=\"color: #800080; text-decoration-color: #800080\">/program_bank/v005/2024_10_22__22_32__qiskit/</span><span style=\"color: #ff00ff; text-decoration-color: #ff00ff\">qiskit_circuit_32q_10g_77413_d0e</span> <span style=\"color: #7f7f7f; text-decoration-color: #7f7f7f\">                        </span>\n",
       "<span style=\"color: #7fbfbf; text-decoration-color: #7fbfbf\">           </span><span style=\"color: #ff00ff; text-decoration-color: #ff00ff\">d80_3f8617_error_min.py</span>                                                         <span style=\"color: #7f7f7f; text-decoration-color: #7f7f7f\">                        </span>\n",
       "</pre>\n"
      ],
      "text/plain": [
       "\u001b[2;36m[16:49:56]\u001b[0m\u001b[2;36m \u001b[0m\u001b[32mMinimized file saved as:\u001b[0m                                                        \u001b]8;id=400011;file:///home/paltenmo/projects/crossplatform/analysis_and_reporting/ddmin_target_file.py\u001b\\\u001b[2mddmin_target_file.py\u001b[0m\u001b]8;;\u001b\\\u001b[2m:\u001b[0m\u001b]8;id=749839;file:///home/paltenmo/projects/crossplatform/analysis_and_reporting/ddmin_target_file.py#240\u001b\\\u001b[2m240\u001b[0m\u001b]8;;\u001b\\\n",
       "\u001b[2;36m           \u001b[0m..\u001b[35m/program_bank/v005/2024_10_22__22_32__qiskit/\u001b[0m\u001b[95mqiskit_circuit_32q_10g_77413_d0e\u001b[0m \u001b[2m                        \u001b[0m\n",
       "\u001b[2;36m           \u001b[0m\u001b[95md80_3f8617_error_min.py\u001b[0m                                                         \u001b[2m                        \u001b[0m\n"
      ]
     },
     "metadata": {},
     "output_type": "display_data"
    },
    {
     "name": "stdout",
     "output_type": "stream",
     "text": [
      "Running minimization for ../program_bank/v005/2024_10_22__22_32__sample_errors_no_pennylane/qiskit_circuit_32q_10g_70298_e19d16_a2791b_error.json\n"
     ]
    },
    {
     "data": {
      "text/html": [
       "<pre style=\"white-space:pre;overflow-x:auto;line-height:normal;font-family:Menlo,'DejaVu Sans Mono',consolas,'Courier New',monospace\"><span style=\"color: #7fbfbf; text-decoration-color: #7fbfbf\">           </span>Involved functions:                                                             <a href=\"file:///home/paltenmo/projects/crossplatform/analysis_and_reporting/ddmin_target_file.py\" target=\"_blank\"><span style=\"color: #7f7f7f; text-decoration-color: #7f7f7f\">ddmin_target_file.py</span></a><span style=\"color: #7f7f7f; text-decoration-color: #7f7f7f\">:</span><a href=\"file:///home/paltenmo/projects/crossplatform/analysis_and_reporting/ddmin_target_file.py#206\" target=\"_blank\"><span style=\"color: #7f7f7f; text-decoration-color: #7f7f7f\">206</span></a>\n",
       "</pre>\n"
      ],
      "text/plain": [
       "\u001b[2;36m          \u001b[0m\u001b[2;36m \u001b[0mInvolved functions:                                                             \u001b]8;id=4327;file:///home/paltenmo/projects/crossplatform/analysis_and_reporting/ddmin_target_file.py\u001b\\\u001b[2mddmin_target_file.py\u001b[0m\u001b]8;;\u001b\\\u001b[2m:\u001b[0m\u001b]8;id=602342;file:///home/paltenmo/projects/crossplatform/analysis_and_reporting/ddmin_target_file.py#206\u001b\\\u001b[2m206\u001b[0m\u001b]8;;\u001b\\\n"
      ]
     },
     "metadata": {},
     "output_type": "display_data"
    },
    {
     "data": {
      "text/html": [
       "<pre style=\"white-space:pre;overflow-x:auto;line-height:normal;font-family:Menlo,'DejaVu Sans Mono',consolas,'Courier New',monospace\"><span style=\"color: #7fbfbf; text-decoration-color: #7fbfbf\">           </span>  - compare_qasm_via_qcec                                                       <a href=\"file:///home/paltenmo/projects/crossplatform/analysis_and_reporting/ddmin_target_file.py\" target=\"_blank\"><span style=\"color: #7f7f7f; text-decoration-color: #7f7f7f\">ddmin_target_file.py</span></a><span style=\"color: #7f7f7f; text-decoration-color: #7f7f7f\">:</span><a href=\"file:///home/paltenmo/projects/crossplatform/analysis_and_reporting/ddmin_target_file.py#208\" target=\"_blank\"><span style=\"color: #7f7f7f; text-decoration-color: #7f7f7f\">208</span></a>\n",
       "</pre>\n"
      ],
      "text/plain": [
       "\u001b[2;36m          \u001b[0m\u001b[2;36m \u001b[0m  - compare_qasm_via_qcec                                                       \u001b]8;id=973519;file:///home/paltenmo/projects/crossplatform/analysis_and_reporting/ddmin_target_file.py\u001b\\\u001b[2mddmin_target_file.py\u001b[0m\u001b]8;;\u001b\\\u001b[2m:\u001b[0m\u001b]8;id=360816;file:///home/paltenmo/projects/crossplatform/analysis_and_reporting/ddmin_target_file.py#208\u001b\\\u001b[2m208\u001b[0m\u001b]8;;\u001b\\\n"
      ]
     },
     "metadata": {},
     "output_type": "display_data"
    },
    {
     "data": {
      "text/html": [
       "<pre style=\"white-space:pre;overflow-x:auto;line-height:normal;font-family:Menlo,'DejaVu Sans Mono',consolas,'Courier New',monospace\"><span style=\"color: #7fbfbf; text-decoration-color: #7fbfbf\">           </span>  - export_to_qasm_with_pytket                                                  <a href=\"file:///home/paltenmo/projects/crossplatform/analysis_and_reporting/ddmin_target_file.py\" target=\"_blank\"><span style=\"color: #7f7f7f; text-decoration-color: #7f7f7f\">ddmin_target_file.py</span></a><span style=\"color: #7f7f7f; text-decoration-color: #7f7f7f\">:</span><a href=\"file:///home/paltenmo/projects/crossplatform/analysis_and_reporting/ddmin_target_file.py#208\" target=\"_blank\"><span style=\"color: #7f7f7f; text-decoration-color: #7f7f7f\">208</span></a>\n",
       "</pre>\n"
      ],
      "text/plain": [
       "\u001b[2;36m          \u001b[0m\u001b[2;36m \u001b[0m  - export_to_qasm_with_pytket                                                  \u001b]8;id=13263;file:///home/paltenmo/projects/crossplatform/analysis_and_reporting/ddmin_target_file.py\u001b\\\u001b[2mddmin_target_file.py\u001b[0m\u001b]8;;\u001b\\\u001b[2m:\u001b[0m\u001b]8;id=208461;file:///home/paltenmo/projects/crossplatform/analysis_and_reporting/ddmin_target_file.py#208\u001b\\\u001b[2m208\u001b[0m\u001b]8;;\u001b\\\n"
      ]
     },
     "metadata": {},
     "output_type": "display_data"
    },
    {
     "data": {
      "text/html": [
       "<pre style=\"white-space:pre;overflow-x:auto;line-height:normal;font-family:Menlo,'DejaVu Sans Mono',consolas,'Courier New',monospace\"><span style=\"color: #7fbfbf; text-decoration-color: #7fbfbf\">           </span>  - export_to_qasm_with_qiskit                                                  <a href=\"file:///home/paltenmo/projects/crossplatform/analysis_and_reporting/ddmin_target_file.py\" target=\"_blank\"><span style=\"color: #7f7f7f; text-decoration-color: #7f7f7f\">ddmin_target_file.py</span></a><span style=\"color: #7f7f7f; text-decoration-color: #7f7f7f\">:</span><a href=\"file:///home/paltenmo/projects/crossplatform/analysis_and_reporting/ddmin_target_file.py#208\" target=\"_blank\"><span style=\"color: #7f7f7f; text-decoration-color: #7f7f7f\">208</span></a>\n",
       "</pre>\n"
      ],
      "text/plain": [
       "\u001b[2;36m          \u001b[0m\u001b[2;36m \u001b[0m  - export_to_qasm_with_qiskit                                                  \u001b]8;id=934698;file:///home/paltenmo/projects/crossplatform/analysis_and_reporting/ddmin_target_file.py\u001b\\\u001b[2mddmin_target_file.py\u001b[0m\u001b]8;;\u001b\\\u001b[2m:\u001b[0m\u001b]8;id=605114;file:///home/paltenmo/projects/crossplatform/analysis_and_reporting/ddmin_target_file.py#208\u001b\\\u001b[2m208\u001b[0m\u001b]8;;\u001b\\\n"
      ]
     },
     "metadata": {},
     "output_type": "display_data"
    },
    {
     "name": "stdout",
     "output_type": "stream",
     "text": [
      "Output: Saved the Pytket circuit to /workspace/to_execute_qc_pytket.qasm\n",
      "Saved the Qiskit circuit to /workspace/to_execute_qc_qiskit.qasm\n",
      "Exported QASM files: [('/workspace/to_execute_qc_pytket.qasm', 'export_to_qasm_with_pytket'), ('/workspace/to_execute_qc_qiskit.qasm', 'export_to_qasm_with_qiskit')]\n",
      "The circuits are equivalent: /workspace/to_execute_qc_pytket.qasm, /workspace/to_execute_qc_qiskit.qasm\n",
      "\n",
      "Program to_execute.py executed successfully.\n",
      "Output: Saved the Pytket circuit to /workspace/to_execute_qc_pytket.qasm\n",
      "Saved the Qiskit circuit to /workspace/to_execute_qc_qiskit.qasm\n",
      "Exported QASM files: [('/workspace/to_execute_qc_pytket.qasm', 'export_to_qasm_with_pytket'), ('/workspace/to_execute_qc_qiskit.qasm', 'export_to_qasm_with_qiskit')]\n",
      "Log has been saved to /workspace/to_execute_5de576_error.json\n",
      "\n",
      "Program to_execute.py executed successfully.\n",
      "New exception message: The circuits are not equivalent: /workspace/to_execute_qc_pytket.qasm, /workspace/to_execute_qc_qiskit.qasm\n",
      "Output: Saved the Pytket circuit to /workspace/to_execute_qc_pytket.qasm\n",
      "Saved the Qiskit circuit to /workspace/to_execute_qc_qiskit.qasm\n",
      "Exported QASM files: [('/workspace/to_execute_qc_pytket.qasm', 'export_to_qasm_with_pytket'), ('/workspace/to_execute_qc_qiskit.qasm', 'export_to_qasm_with_qiskit')]\n",
      "The circuits are equivalent: /workspace/to_execute_qc_pytket.qasm, /workspace/to_execute_qc_qiskit.qasm\n",
      "\n",
      "Program to_execute.py executed successfully.\n",
      "Output: Saved the Pytket circuit to /workspace/to_execute_qc_pytket.qasm\n",
      "Saved the Qiskit circuit to /workspace/to_execute_qc_qiskit.qasm\n",
      "Exported QASM files: [('/workspace/to_execute_qc_pytket.qasm', 'export_to_qasm_with_pytket'), ('/workspace/to_execute_qc_qiskit.qasm', 'export_to_qasm_with_qiskit')]\n",
      "The circuits are equivalent: /workspace/to_execute_qc_pytket.qasm, /workspace/to_execute_qc_qiskit.qasm\n",
      "\n",
      "Program to_execute.py executed successfully.\n",
      "Output: Saved the Pytket circuit to /workspace/to_execute_qc_pytket.qasm\n",
      "Saved the Qiskit circuit to /workspace/to_execute_qc_qiskit.qasm\n",
      "Exported QASM files: [('/workspace/to_execute_qc_pytket.qasm', 'export_to_qasm_with_pytket'), ('/workspace/to_execute_qc_qiskit.qasm', 'export_to_qasm_with_qiskit')]\n",
      "The circuits are equivalent: /workspace/to_execute_qc_pytket.qasm, /workspace/to_execute_qc_qiskit.qasm\n",
      "\n",
      "Program to_execute.py executed successfully.\n",
      "Output: Saved the Pytket circuit to /workspace/to_execute_qc_pytket.qasm\n",
      "Saved the Qiskit circuit to /workspace/to_execute_qc_qiskit.qasm\n",
      "Exported QASM files: [('/workspace/to_execute_qc_pytket.qasm', 'export_to_qasm_with_pytket'), ('/workspace/to_execute_qc_qiskit.qasm', 'export_to_qasm_with_qiskit')]\n",
      "Log has been saved to /workspace/to_execute_872093_error.json\n",
      "\n",
      "Program to_execute.py executed successfully.\n",
      "New exception message: The circuits are not equivalent: /workspace/to_execute_qc_pytket.qasm, /workspace/to_execute_qc_qiskit.qasm\n",
      "Output: Saved the Pytket circuit to /workspace/to_execute_qc_pytket.qasm\n",
      "Saved the Qiskit circuit to /workspace/to_execute_qc_qiskit.qasm\n",
      "Exported QASM files: [('/workspace/to_execute_qc_pytket.qasm', 'export_to_qasm_with_pytket'), ('/workspace/to_execute_qc_qiskit.qasm', 'export_to_qasm_with_qiskit')]\n",
      "The circuits are equivalent: /workspace/to_execute_qc_pytket.qasm, /workspace/to_execute_qc_qiskit.qasm\n",
      "\n",
      "Program to_execute.py executed successfully.\n",
      "Output: Saved the Pytket circuit to /workspace/to_execute_qc_pytket.qasm\n",
      "Saved the Qiskit circuit to /workspace/to_execute_qc_qiskit.qasm\n",
      "Exported QASM files: [('/workspace/to_execute_qc_pytket.qasm', 'export_to_qasm_with_pytket'), ('/workspace/to_execute_qc_qiskit.qasm', 'export_to_qasm_with_qiskit')]\n",
      "The circuits are equivalent: /workspace/to_execute_qc_pytket.qasm, /workspace/to_execute_qc_qiskit.qasm\n",
      "\n",
      "Program to_execute.py executed successfully.\n",
      "Output: Saved the Pytket circuit to /workspace/to_execute_qc_pytket.qasm\n",
      "Saved the Qiskit circuit to /workspace/to_execute_qc_qiskit.qasm\n",
      "Exported QASM files: [('/workspace/to_execute_qc_pytket.qasm', 'export_to_qasm_with_pytket'), ('/workspace/to_execute_qc_qiskit.qasm', 'export_to_qasm_with_qiskit')]\n",
      "Log has been saved to /workspace/to_execute_b9939a_error.json\n",
      "\n",
      "Program to_execute.py executed successfully.\n",
      "New exception message: The circuits are not equivalent: /workspace/to_execute_qc_pytket.qasm, /workspace/to_execute_qc_qiskit.qasm\n",
      "Output: Saved the Pytket circuit to /workspace/to_execute_qc_pytket.qasm\n",
      "Saved the Qiskit circuit to /workspace/to_execute_qc_qiskit.qasm\n",
      "Exported QASM files: [('/workspace/to_execute_qc_pytket.qasm', 'export_to_qasm_with_pytket'), ('/workspace/to_execute_qc_qiskit.qasm', 'export_to_qasm_with_qiskit')]\n",
      "The circuits are equivalent: /workspace/to_execute_qc_pytket.qasm, /workspace/to_execute_qc_qiskit.qasm\n",
      "\n",
      "Program to_execute.py executed successfully.\n",
      "Output: Saved the Pytket circuit to /workspace/to_execute_qc_pytket.qasm\n",
      "Saved the Qiskit circuit to /workspace/to_execute_qc_qiskit.qasm\n",
      "Exported QASM files: [('/workspace/to_execute_qc_pytket.qasm', 'export_to_qasm_with_pytket'), ('/workspace/to_execute_qc_qiskit.qasm', 'export_to_qasm_with_qiskit')]\n",
      "The circuits are equivalent: /workspace/to_execute_qc_pytket.qasm, /workspace/to_execute_qc_qiskit.qasm\n",
      "\n",
      "Program to_execute.py executed successfully.\n",
      "Output: Saved the Pytket circuit to /workspace/to_execute_qc_pytket.qasm\n",
      "Saved the Qiskit circuit to /workspace/to_execute_qc_qiskit.qasm\n",
      "Exported QASM files: [('/workspace/to_execute_qc_pytket.qasm', 'export_to_qasm_with_pytket'), ('/workspace/to_execute_qc_qiskit.qasm', 'export_to_qasm_with_qiskit')]\n",
      "Log has been saved to /workspace/to_execute_61a328_error.json\n",
      "\n",
      "Program to_execute.py executed successfully.\n",
      "New exception message: The circuits are not equivalent: /workspace/to_execute_qc_pytket.qasm, /workspace/to_execute_qc_qiskit.qasm\n",
      "Output: Saved the Pytket circuit to /workspace/to_execute_qc_pytket.qasm\n",
      "Saved the Qiskit circuit to /workspace/to_execute_qc_qiskit.qasm\n",
      "Exported QASM files: [('/workspace/to_execute_qc_pytket.qasm', 'export_to_qasm_with_pytket'), ('/workspace/to_execute_qc_qiskit.qasm', 'export_to_qasm_with_qiskit')]\n",
      "The circuits are equivalent: /workspace/to_execute_qc_pytket.qasm, /workspace/to_execute_qc_qiskit.qasm\n",
      "\n",
      "Program to_execute.py executed successfully.\n",
      "Output: Saved the Pytket circuit to /workspace/to_execute_qc_pytket.qasm\n",
      "Saved the Qiskit circuit to /workspace/to_execute_qc_qiskit.qasm\n",
      "Exported QASM files: [('/workspace/to_execute_qc_pytket.qasm', 'export_to_qasm_with_pytket'), ('/workspace/to_execute_qc_qiskit.qasm', 'export_to_qasm_with_qiskit')]\n",
      "Log has been saved to /workspace/to_execute_b10cd3_error.json\n",
      "\n",
      "Program to_execute.py executed successfully.\n",
      "New exception message: The circuits are not equivalent: /workspace/to_execute_qc_pytket.qasm, /workspace/to_execute_qc_qiskit.qasm\n",
      "Output: Saved the Pytket circuit to /workspace/to_execute_qc_pytket.qasm\n",
      "Saved the Qiskit circuit to /workspace/to_execute_qc_qiskit.qasm\n",
      "Exported QASM files: [('/workspace/to_execute_qc_pytket.qasm', 'export_to_qasm_with_pytket'), ('/workspace/to_execute_qc_qiskit.qasm', 'export_to_qasm_with_qiskit')]\n",
      "The circuits are equivalent: /workspace/to_execute_qc_pytket.qasm, /workspace/to_execute_qc_qiskit.qasm\n",
      "\n",
      "Program to_execute.py executed successfully.\n",
      "Output: Saved the Pytket circuit to /workspace/to_execute_qc_pytket.qasm\n",
      "Saved the Qiskit circuit to /workspace/to_execute_qc_qiskit.qasm\n",
      "Exported QASM files: [('/workspace/to_execute_qc_pytket.qasm', 'export_to_qasm_with_pytket'), ('/workspace/to_execute_qc_qiskit.qasm', 'export_to_qasm_with_qiskit')]\n",
      "The circuits are equivalent: /workspace/to_execute_qc_pytket.qasm, /workspace/to_execute_qc_qiskit.qasm\n",
      "\n",
      "Program to_execute.py executed successfully.\n"
     ]
    },
    {
     "data": {
      "text/html": [
       "<pre style=\"white-space:pre;overflow-x:auto;line-height:normal;font-family:Menlo,'DejaVu Sans Mono',consolas,'Courier New',monospace\"><span style=\"color: #7fbfbf; text-decoration-color: #7fbfbf\">[16:50:56] </span><span style=\"color: #008000; text-decoration-color: #008000\">Minimized file saved as:</span>                                                        <a href=\"file:///home/paltenmo/projects/crossplatform/analysis_and_reporting/ddmin_target_file.py\" target=\"_blank\"><span style=\"color: #7f7f7f; text-decoration-color: #7f7f7f\">ddmin_target_file.py</span></a><span style=\"color: #7f7f7f; text-decoration-color: #7f7f7f\">:</span><a href=\"file:///home/paltenmo/projects/crossplatform/analysis_and_reporting/ddmin_target_file.py#240\" target=\"_blank\"><span style=\"color: #7f7f7f; text-decoration-color: #7f7f7f\">240</span></a>\n",
       "<span style=\"color: #7fbfbf; text-decoration-color: #7fbfbf\">           </span>..<span style=\"color: #800080; text-decoration-color: #800080\">/program_bank/v005/2024_10_22__22_32__qiskit/</span><span style=\"color: #ff00ff; text-decoration-color: #ff00ff\">qiskit_circuit_32q_10g_70298_e19</span> <span style=\"color: #7f7f7f; text-decoration-color: #7f7f7f\">                        </span>\n",
       "<span style=\"color: #7fbfbf; text-decoration-color: #7fbfbf\">           </span><span style=\"color: #ff00ff; text-decoration-color: #ff00ff\">d16_a2791b_error_min.py</span>                                                         <span style=\"color: #7f7f7f; text-decoration-color: #7f7f7f\">                        </span>\n",
       "</pre>\n"
      ],
      "text/plain": [
       "\u001b[2;36m[16:50:56]\u001b[0m\u001b[2;36m \u001b[0m\u001b[32mMinimized file saved as:\u001b[0m                                                        \u001b]8;id=175196;file:///home/paltenmo/projects/crossplatform/analysis_and_reporting/ddmin_target_file.py\u001b\\\u001b[2mddmin_target_file.py\u001b[0m\u001b]8;;\u001b\\\u001b[2m:\u001b[0m\u001b]8;id=795265;file:///home/paltenmo/projects/crossplatform/analysis_and_reporting/ddmin_target_file.py#240\u001b\\\u001b[2m240\u001b[0m\u001b]8;;\u001b\\\n",
       "\u001b[2;36m           \u001b[0m..\u001b[35m/program_bank/v005/2024_10_22__22_32__qiskit/\u001b[0m\u001b[95mqiskit_circuit_32q_10g_70298_e19\u001b[0m \u001b[2m                        \u001b[0m\n",
       "\u001b[2;36m           \u001b[0m\u001b[95md16_a2791b_error_min.py\u001b[0m                                                         \u001b[2m                        \u001b[0m\n"
      ]
     },
     "metadata": {},
     "output_type": "display_data"
    },
    {
     "name": "stdout",
     "output_type": "stream",
     "text": [
      "Running minimization for ../program_bank/v005/2024_10_22__22_32__sample_errors_no_pennylane/qiskit_circuit_32q_10g_18690_1e7c44_8e94c0_error.json\n"
     ]
    },
    {
     "data": {
      "text/html": [
       "<pre style=\"white-space:pre;overflow-x:auto;line-height:normal;font-family:Menlo,'DejaVu Sans Mono',consolas,'Courier New',monospace\"><span style=\"color: #7fbfbf; text-decoration-color: #7fbfbf\">           </span>Involved functions:                                                             <a href=\"file:///home/paltenmo/projects/crossplatform/analysis_and_reporting/ddmin_target_file.py\" target=\"_blank\"><span style=\"color: #7f7f7f; text-decoration-color: #7f7f7f\">ddmin_target_file.py</span></a><span style=\"color: #7f7f7f; text-decoration-color: #7f7f7f\">:</span><a href=\"file:///home/paltenmo/projects/crossplatform/analysis_and_reporting/ddmin_target_file.py#206\" target=\"_blank\"><span style=\"color: #7f7f7f; text-decoration-color: #7f7f7f\">206</span></a>\n",
       "</pre>\n"
      ],
      "text/plain": [
       "\u001b[2;36m          \u001b[0m\u001b[2;36m \u001b[0mInvolved functions:                                                             \u001b]8;id=621582;file:///home/paltenmo/projects/crossplatform/analysis_and_reporting/ddmin_target_file.py\u001b\\\u001b[2mddmin_target_file.py\u001b[0m\u001b]8;;\u001b\\\u001b[2m:\u001b[0m\u001b]8;id=674868;file:///home/paltenmo/projects/crossplatform/analysis_and_reporting/ddmin_target_file.py#206\u001b\\\u001b[2m206\u001b[0m\u001b]8;;\u001b\\\n"
      ]
     },
     "metadata": {},
     "output_type": "display_data"
    },
    {
     "data": {
      "text/html": [
       "<pre style=\"white-space:pre;overflow-x:auto;line-height:normal;font-family:Menlo,'DejaVu Sans Mono',consolas,'Courier New',monospace\"><span style=\"color: #7fbfbf; text-decoration-color: #7fbfbf\">           </span>  - compare_qasm_via_qcec                                                       <a href=\"file:///home/paltenmo/projects/crossplatform/analysis_and_reporting/ddmin_target_file.py\" target=\"_blank\"><span style=\"color: #7f7f7f; text-decoration-color: #7f7f7f\">ddmin_target_file.py</span></a><span style=\"color: #7f7f7f; text-decoration-color: #7f7f7f\">:</span><a href=\"file:///home/paltenmo/projects/crossplatform/analysis_and_reporting/ddmin_target_file.py#208\" target=\"_blank\"><span style=\"color: #7f7f7f; text-decoration-color: #7f7f7f\">208</span></a>\n",
       "</pre>\n"
      ],
      "text/plain": [
       "\u001b[2;36m          \u001b[0m\u001b[2;36m \u001b[0m  - compare_qasm_via_qcec                                                       \u001b]8;id=354360;file:///home/paltenmo/projects/crossplatform/analysis_and_reporting/ddmin_target_file.py\u001b\\\u001b[2mddmin_target_file.py\u001b[0m\u001b]8;;\u001b\\\u001b[2m:\u001b[0m\u001b]8;id=982622;file:///home/paltenmo/projects/crossplatform/analysis_and_reporting/ddmin_target_file.py#208\u001b\\\u001b[2m208\u001b[0m\u001b]8;;\u001b\\\n"
      ]
     },
     "metadata": {},
     "output_type": "display_data"
    },
    {
     "data": {
      "text/html": [
       "<pre style=\"white-space:pre;overflow-x:auto;line-height:normal;font-family:Menlo,'DejaVu Sans Mono',consolas,'Courier New',monospace\"><span style=\"color: #7fbfbf; text-decoration-color: #7fbfbf\">           </span>  - export_to_qasm_with_pytket                                                  <a href=\"file:///home/paltenmo/projects/crossplatform/analysis_and_reporting/ddmin_target_file.py\" target=\"_blank\"><span style=\"color: #7f7f7f; text-decoration-color: #7f7f7f\">ddmin_target_file.py</span></a><span style=\"color: #7f7f7f; text-decoration-color: #7f7f7f\">:</span><a href=\"file:///home/paltenmo/projects/crossplatform/analysis_and_reporting/ddmin_target_file.py#208\" target=\"_blank\"><span style=\"color: #7f7f7f; text-decoration-color: #7f7f7f\">208</span></a>\n",
       "</pre>\n"
      ],
      "text/plain": [
       "\u001b[2;36m          \u001b[0m\u001b[2;36m \u001b[0m  - export_to_qasm_with_pytket                                                  \u001b]8;id=108949;file:///home/paltenmo/projects/crossplatform/analysis_and_reporting/ddmin_target_file.py\u001b\\\u001b[2mddmin_target_file.py\u001b[0m\u001b]8;;\u001b\\\u001b[2m:\u001b[0m\u001b]8;id=515030;file:///home/paltenmo/projects/crossplatform/analysis_and_reporting/ddmin_target_file.py#208\u001b\\\u001b[2m208\u001b[0m\u001b]8;;\u001b\\\n"
      ]
     },
     "metadata": {},
     "output_type": "display_data"
    },
    {
     "data": {
      "text/html": [
       "<pre style=\"white-space:pre;overflow-x:auto;line-height:normal;font-family:Menlo,'DejaVu Sans Mono',consolas,'Courier New',monospace\"><span style=\"color: #7fbfbf; text-decoration-color: #7fbfbf\">           </span>  - export_to_qasm_with_qiskit                                                  <a href=\"file:///home/paltenmo/projects/crossplatform/analysis_and_reporting/ddmin_target_file.py\" target=\"_blank\"><span style=\"color: #7f7f7f; text-decoration-color: #7f7f7f\">ddmin_target_file.py</span></a><span style=\"color: #7f7f7f; text-decoration-color: #7f7f7f\">:</span><a href=\"file:///home/paltenmo/projects/crossplatform/analysis_and_reporting/ddmin_target_file.py#208\" target=\"_blank\"><span style=\"color: #7f7f7f; text-decoration-color: #7f7f7f\">208</span></a>\n",
       "</pre>\n"
      ],
      "text/plain": [
       "\u001b[2;36m          \u001b[0m\u001b[2;36m \u001b[0m  - export_to_qasm_with_qiskit                                                  \u001b]8;id=329437;file:///home/paltenmo/projects/crossplatform/analysis_and_reporting/ddmin_target_file.py\u001b\\\u001b[2mddmin_target_file.py\u001b[0m\u001b]8;;\u001b\\\u001b[2m:\u001b[0m\u001b]8;id=934804;file:///home/paltenmo/projects/crossplatform/analysis_and_reporting/ddmin_target_file.py#208\u001b\\\u001b[2m208\u001b[0m\u001b]8;;\u001b\\\n"
      ]
     },
     "metadata": {},
     "output_type": "display_data"
    },
    {
     "name": "stdout",
     "output_type": "stream",
     "text": [
      "Output: Saved the Pytket circuit to /workspace/to_execute_qc_pytket.qasm\n",
      "Saved the Qiskit circuit to /workspace/to_execute_qc_qiskit.qasm\n",
      "Exported QASM files: [('/workspace/to_execute_qc_pytket.qasm', 'export_to_qasm_with_pytket'), ('/workspace/to_execute_qc_qiskit.qasm', 'export_to_qasm_with_qiskit')]\n",
      "The circuits are equivalent: /workspace/to_execute_qc_pytket.qasm, /workspace/to_execute_qc_qiskit.qasm\n",
      "\n",
      "Program to_execute.py executed successfully.\n",
      "Output: Saved the Pytket circuit to /workspace/to_execute_qc_pytket.qasm\n",
      "Saved the Qiskit circuit to /workspace/to_execute_qc_qiskit.qasm\n",
      "Exported QASM files: [('/workspace/to_execute_qc_pytket.qasm', 'export_to_qasm_with_pytket'), ('/workspace/to_execute_qc_qiskit.qasm', 'export_to_qasm_with_qiskit')]\n",
      "Log has been saved to /workspace/to_execute_8561d3_error.json\n",
      "\n",
      "Program to_execute.py executed successfully.\n",
      "New exception message: The circuits are not equivalent: /workspace/to_execute_qc_pytket.qasm, /workspace/to_execute_qc_qiskit.qasm\n",
      "Output: Saved the Pytket circuit to /workspace/to_execute_qc_pytket.qasm\n",
      "Saved the Qiskit circuit to /workspace/to_execute_qc_qiskit.qasm\n",
      "Exported QASM files: [('/workspace/to_execute_qc_pytket.qasm', 'export_to_qasm_with_pytket'), ('/workspace/to_execute_qc_qiskit.qasm', 'export_to_qasm_with_qiskit')]\n",
      "Log has been saved to /workspace/to_execute_814546_error.json\n",
      "\n",
      "Program to_execute.py executed successfully.\n",
      "New exception message: The circuits are not equivalent: /workspace/to_execute_qc_pytket.qasm, /workspace/to_execute_qc_qiskit.qasm\n",
      "Output: Saved the Pytket circuit to /workspace/to_execute_qc_pytket.qasm\n",
      "Saved the Qiskit circuit to /workspace/to_execute_qc_qiskit.qasm\n",
      "Exported QASM files: [('/workspace/to_execute_qc_pytket.qasm', 'export_to_qasm_with_pytket'), ('/workspace/to_execute_qc_qiskit.qasm', 'export_to_qasm_with_qiskit')]\n",
      "The circuits are equivalent: /workspace/to_execute_qc_pytket.qasm, /workspace/to_execute_qc_qiskit.qasm\n",
      "\n",
      "Program to_execute.py executed successfully.\n",
      "Output: Saved the Pytket circuit to /workspace/to_execute_qc_pytket.qasm\n",
      "Saved the Qiskit circuit to /workspace/to_execute_qc_qiskit.qasm\n",
      "Exported QASM files: [('/workspace/to_execute_qc_pytket.qasm', 'export_to_qasm_with_pytket'), ('/workspace/to_execute_qc_qiskit.qasm', 'export_to_qasm_with_qiskit')]\n",
      "Log has been saved to /workspace/to_execute_8a76ae_error.json\n",
      "\n",
      "Program to_execute.py executed successfully.\n",
      "New exception message: The circuits are not equivalent: /workspace/to_execute_qc_pytket.qasm, /workspace/to_execute_qc_qiskit.qasm\n",
      "Output: Saved the Pytket circuit to /workspace/to_execute_qc_pytket.qasm\n",
      "Saved the Qiskit circuit to /workspace/to_execute_qc_qiskit.qasm\n",
      "Exported QASM files: [('/workspace/to_execute_qc_pytket.qasm', 'export_to_qasm_with_pytket'), ('/workspace/to_execute_qc_qiskit.qasm', 'export_to_qasm_with_qiskit')]\n",
      "The circuits are equivalent: /workspace/to_execute_qc_pytket.qasm, /workspace/to_execute_qc_qiskit.qasm\n",
      "\n",
      "Program to_execute.py executed successfully.\n",
      "Output: Saved the Pytket circuit to /workspace/to_execute_qc_pytket.qasm\n",
      "Saved the Qiskit circuit to /workspace/to_execute_qc_qiskit.qasm\n",
      "Exported QASM files: [('/workspace/to_execute_qc_pytket.qasm', 'export_to_qasm_with_pytket'), ('/workspace/to_execute_qc_qiskit.qasm', 'export_to_qasm_with_qiskit')]\n",
      "Log has been saved to /workspace/to_execute_a672e5_error.json\n",
      "\n",
      "Program to_execute.py executed successfully.\n",
      "New exception message: The circuits are not equivalent: /workspace/to_execute_qc_pytket.qasm, /workspace/to_execute_qc_qiskit.qasm\n",
      "Output: Saved the Pytket circuit to /workspace/to_execute_qc_pytket.qasm\n",
      "Saved the Qiskit circuit to /workspace/to_execute_qc_qiskit.qasm\n",
      "Exported QASM files: [('/workspace/to_execute_qc_pytket.qasm', 'export_to_qasm_with_pytket'), ('/workspace/to_execute_qc_qiskit.qasm', 'export_to_qasm_with_qiskit')]\n",
      "The circuits are equivalent: /workspace/to_execute_qc_pytket.qasm, /workspace/to_execute_qc_qiskit.qasm\n",
      "\n",
      "Program to_execute.py executed successfully.\n",
      "Output: Saved the Pytket circuit to /workspace/to_execute_qc_pytket.qasm\n",
      "Saved the Qiskit circuit to /workspace/to_execute_qc_qiskit.qasm\n",
      "Exported QASM files: [('/workspace/to_execute_qc_pytket.qasm', 'export_to_qasm_with_pytket'), ('/workspace/to_execute_qc_qiskit.qasm', 'export_to_qasm_with_qiskit')]\n",
      "The circuits are equivalent: /workspace/to_execute_qc_pytket.qasm, /workspace/to_execute_qc_qiskit.qasm\n",
      "\n",
      "Program to_execute.py executed successfully.\n"
     ]
    },
    {
     "data": {
      "text/html": [
       "<pre style=\"white-space:pre;overflow-x:auto;line-height:normal;font-family:Menlo,'DejaVu Sans Mono',consolas,'Courier New',monospace\"><span style=\"color: #7fbfbf; text-decoration-color: #7fbfbf\">[16:51:29] </span><span style=\"color: #008000; text-decoration-color: #008000\">Minimized file saved as:</span>                                                        <a href=\"file:///home/paltenmo/projects/crossplatform/analysis_and_reporting/ddmin_target_file.py\" target=\"_blank\"><span style=\"color: #7f7f7f; text-decoration-color: #7f7f7f\">ddmin_target_file.py</span></a><span style=\"color: #7f7f7f; text-decoration-color: #7f7f7f\">:</span><a href=\"file:///home/paltenmo/projects/crossplatform/analysis_and_reporting/ddmin_target_file.py#240\" target=\"_blank\"><span style=\"color: #7f7f7f; text-decoration-color: #7f7f7f\">240</span></a>\n",
       "<span style=\"color: #7fbfbf; text-decoration-color: #7fbfbf\">           </span>..<span style=\"color: #800080; text-decoration-color: #800080\">/program_bank/v005/2024_10_22__22_32__qiskit/</span><span style=\"color: #ff00ff; text-decoration-color: #ff00ff\">qiskit_circuit_32q_10g_18690_1e7</span> <span style=\"color: #7f7f7f; text-decoration-color: #7f7f7f\">                        </span>\n",
       "<span style=\"color: #7fbfbf; text-decoration-color: #7fbfbf\">           </span><span style=\"color: #ff00ff; text-decoration-color: #ff00ff\">c44_8e94c0_error_min.py</span>                                                         <span style=\"color: #7f7f7f; text-decoration-color: #7f7f7f\">                        </span>\n",
       "</pre>\n"
      ],
      "text/plain": [
       "\u001b[2;36m[16:51:29]\u001b[0m\u001b[2;36m \u001b[0m\u001b[32mMinimized file saved as:\u001b[0m                                                        \u001b]8;id=705710;file:///home/paltenmo/projects/crossplatform/analysis_and_reporting/ddmin_target_file.py\u001b\\\u001b[2mddmin_target_file.py\u001b[0m\u001b]8;;\u001b\\\u001b[2m:\u001b[0m\u001b]8;id=484055;file:///home/paltenmo/projects/crossplatform/analysis_and_reporting/ddmin_target_file.py#240\u001b\\\u001b[2m240\u001b[0m\u001b]8;;\u001b\\\n",
       "\u001b[2;36m           \u001b[0m..\u001b[35m/program_bank/v005/2024_10_22__22_32__qiskit/\u001b[0m\u001b[95mqiskit_circuit_32q_10g_18690_1e7\u001b[0m \u001b[2m                        \u001b[0m\n",
       "\u001b[2;36m           \u001b[0m\u001b[95mc44_8e94c0_error_min.py\u001b[0m                                                         \u001b[2m                        \u001b[0m\n"
      ]
     },
     "metadata": {},
     "output_type": "display_data"
    },
    {
     "name": "stdout",
     "output_type": "stream",
     "text": [
      "Running minimization for ../program_bank/v005/2024_10_22__22_32__sample_errors_no_pennylane/qiskit_circuit_32q_10g_72419_2484a1_565431_error.json\n"
     ]
    },
    {
     "data": {
      "text/html": [
       "<pre style=\"white-space:pre;overflow-x:auto;line-height:normal;font-family:Menlo,'DejaVu Sans Mono',consolas,'Courier New',monospace\"><span style=\"color: #7fbfbf; text-decoration-color: #7fbfbf\">           </span>Involved functions:                                                             <a href=\"file:///home/paltenmo/projects/crossplatform/analysis_and_reporting/ddmin_target_file.py\" target=\"_blank\"><span style=\"color: #7f7f7f; text-decoration-color: #7f7f7f\">ddmin_target_file.py</span></a><span style=\"color: #7f7f7f; text-decoration-color: #7f7f7f\">:</span><a href=\"file:///home/paltenmo/projects/crossplatform/analysis_and_reporting/ddmin_target_file.py#206\" target=\"_blank\"><span style=\"color: #7f7f7f; text-decoration-color: #7f7f7f\">206</span></a>\n",
       "</pre>\n"
      ],
      "text/plain": [
       "\u001b[2;36m          \u001b[0m\u001b[2;36m \u001b[0mInvolved functions:                                                             \u001b]8;id=173187;file:///home/paltenmo/projects/crossplatform/analysis_and_reporting/ddmin_target_file.py\u001b\\\u001b[2mddmin_target_file.py\u001b[0m\u001b]8;;\u001b\\\u001b[2m:\u001b[0m\u001b]8;id=316567;file:///home/paltenmo/projects/crossplatform/analysis_and_reporting/ddmin_target_file.py#206\u001b\\\u001b[2m206\u001b[0m\u001b]8;;\u001b\\\n"
      ]
     },
     "metadata": {},
     "output_type": "display_data"
    },
    {
     "data": {
      "text/html": [
       "<pre style=\"white-space:pre;overflow-x:auto;line-height:normal;font-family:Menlo,'DejaVu Sans Mono',consolas,'Courier New',monospace\"><span style=\"color: #7fbfbf; text-decoration-color: #7fbfbf\">           </span>  - compare_qasm_via_qcec                                                       <a href=\"file:///home/paltenmo/projects/crossplatform/analysis_and_reporting/ddmin_target_file.py\" target=\"_blank\"><span style=\"color: #7f7f7f; text-decoration-color: #7f7f7f\">ddmin_target_file.py</span></a><span style=\"color: #7f7f7f; text-decoration-color: #7f7f7f\">:</span><a href=\"file:///home/paltenmo/projects/crossplatform/analysis_and_reporting/ddmin_target_file.py#208\" target=\"_blank\"><span style=\"color: #7f7f7f; text-decoration-color: #7f7f7f\">208</span></a>\n",
       "</pre>\n"
      ],
      "text/plain": [
       "\u001b[2;36m          \u001b[0m\u001b[2;36m \u001b[0m  - compare_qasm_via_qcec                                                       \u001b]8;id=934471;file:///home/paltenmo/projects/crossplatform/analysis_and_reporting/ddmin_target_file.py\u001b\\\u001b[2mddmin_target_file.py\u001b[0m\u001b]8;;\u001b\\\u001b[2m:\u001b[0m\u001b]8;id=881842;file:///home/paltenmo/projects/crossplatform/analysis_and_reporting/ddmin_target_file.py#208\u001b\\\u001b[2m208\u001b[0m\u001b]8;;\u001b\\\n"
      ]
     },
     "metadata": {},
     "output_type": "display_data"
    },
    {
     "data": {
      "text/html": [
       "<pre style=\"white-space:pre;overflow-x:auto;line-height:normal;font-family:Menlo,'DejaVu Sans Mono',consolas,'Courier New',monospace\"><span style=\"color: #7fbfbf; text-decoration-color: #7fbfbf\">           </span>  - export_to_qasm_with_pytket                                                  <a href=\"file:///home/paltenmo/projects/crossplatform/analysis_and_reporting/ddmin_target_file.py\" target=\"_blank\"><span style=\"color: #7f7f7f; text-decoration-color: #7f7f7f\">ddmin_target_file.py</span></a><span style=\"color: #7f7f7f; text-decoration-color: #7f7f7f\">:</span><a href=\"file:///home/paltenmo/projects/crossplatform/analysis_and_reporting/ddmin_target_file.py#208\" target=\"_blank\"><span style=\"color: #7f7f7f; text-decoration-color: #7f7f7f\">208</span></a>\n",
       "</pre>\n"
      ],
      "text/plain": [
       "\u001b[2;36m          \u001b[0m\u001b[2;36m \u001b[0m  - export_to_qasm_with_pytket                                                  \u001b]8;id=206498;file:///home/paltenmo/projects/crossplatform/analysis_and_reporting/ddmin_target_file.py\u001b\\\u001b[2mddmin_target_file.py\u001b[0m\u001b]8;;\u001b\\\u001b[2m:\u001b[0m\u001b]8;id=411075;file:///home/paltenmo/projects/crossplatform/analysis_and_reporting/ddmin_target_file.py#208\u001b\\\u001b[2m208\u001b[0m\u001b]8;;\u001b\\\n"
      ]
     },
     "metadata": {},
     "output_type": "display_data"
    },
    {
     "data": {
      "text/html": [
       "<pre style=\"white-space:pre;overflow-x:auto;line-height:normal;font-family:Menlo,'DejaVu Sans Mono',consolas,'Courier New',monospace\"><span style=\"color: #7fbfbf; text-decoration-color: #7fbfbf\">           </span>  - export_to_qasm_with_qiskit                                                  <a href=\"file:///home/paltenmo/projects/crossplatform/analysis_and_reporting/ddmin_target_file.py\" target=\"_blank\"><span style=\"color: #7f7f7f; text-decoration-color: #7f7f7f\">ddmin_target_file.py</span></a><span style=\"color: #7f7f7f; text-decoration-color: #7f7f7f\">:</span><a href=\"file:///home/paltenmo/projects/crossplatform/analysis_and_reporting/ddmin_target_file.py#208\" target=\"_blank\"><span style=\"color: #7f7f7f; text-decoration-color: #7f7f7f\">208</span></a>\n",
       "</pre>\n"
      ],
      "text/plain": [
       "\u001b[2;36m          \u001b[0m\u001b[2;36m \u001b[0m  - export_to_qasm_with_qiskit                                                  \u001b]8;id=49350;file:///home/paltenmo/projects/crossplatform/analysis_and_reporting/ddmin_target_file.py\u001b\\\u001b[2mddmin_target_file.py\u001b[0m\u001b]8;;\u001b\\\u001b[2m:\u001b[0m\u001b]8;id=313193;file:///home/paltenmo/projects/crossplatform/analysis_and_reporting/ddmin_target_file.py#208\u001b\\\u001b[2m208\u001b[0m\u001b]8;;\u001b\\\n"
      ]
     },
     "metadata": {},
     "output_type": "display_data"
    },
    {
     "name": "stdout",
     "output_type": "stream",
     "text": [
      "Output: Saved the Pytket circuit to /workspace/to_execute_qc_pytket.qasm\n",
      "Saved the Qiskit circuit to /workspace/to_execute_qc_qiskit.qasm\n",
      "Exported QASM files: [('/workspace/to_execute_qc_pytket.qasm', 'export_to_qasm_with_pytket'), ('/workspace/to_execute_qc_qiskit.qasm', 'export_to_qasm_with_qiskit')]\n",
      "The circuits are equivalent: /workspace/to_execute_qc_pytket.qasm, /workspace/to_execute_qc_qiskit.qasm\n",
      "\n",
      "Program to_execute.py executed successfully.\n",
      "Output: Saved the Pytket circuit to /workspace/to_execute_qc_pytket.qasm\n",
      "Saved the Qiskit circuit to /workspace/to_execute_qc_qiskit.qasm\n",
      "Exported QASM files: [('/workspace/to_execute_qc_pytket.qasm', 'export_to_qasm_with_pytket'), ('/workspace/to_execute_qc_qiskit.qasm', 'export_to_qasm_with_qiskit')]\n",
      "Log has been saved to /workspace/to_execute_4c7ba3_error.json\n",
      "\n",
      "Program to_execute.py executed successfully.\n",
      "New exception message: The circuits are not equivalent: /workspace/to_execute_qc_pytket.qasm, /workspace/to_execute_qc_qiskit.qasm\n",
      "Output: Saved the Pytket circuit to /workspace/to_execute_qc_pytket.qasm\n",
      "Saved the Qiskit circuit to /workspace/to_execute_qc_qiskit.qasm\n",
      "Exported QASM files: [('/workspace/to_execute_qc_pytket.qasm', 'export_to_qasm_with_pytket'), ('/workspace/to_execute_qc_qiskit.qasm', 'export_to_qasm_with_qiskit')]\n",
      "The circuits are equivalent: /workspace/to_execute_qc_pytket.qasm, /workspace/to_execute_qc_qiskit.qasm\n",
      "\n",
      "Program to_execute.py executed successfully.\n",
      "Output: Saved the Pytket circuit to /workspace/to_execute_qc_pytket.qasm\n",
      "Saved the Qiskit circuit to /workspace/to_execute_qc_qiskit.qasm\n",
      "Exported QASM files: [('/workspace/to_execute_qc_pytket.qasm', 'export_to_qasm_with_pytket'), ('/workspace/to_execute_qc_qiskit.qasm', 'export_to_qasm_with_qiskit')]\n",
      "Log has been saved to /workspace/to_execute_62d528_error.json\n",
      "\n",
      "Program to_execute.py executed successfully.\n",
      "New exception message: The circuits are not equivalent: /workspace/to_execute_qc_pytket.qasm, /workspace/to_execute_qc_qiskit.qasm\n",
      "Output: Saved the Pytket circuit to /workspace/to_execute_qc_pytket.qasm\n",
      "Saved the Qiskit circuit to /workspace/to_execute_qc_qiskit.qasm\n",
      "Exported QASM files: [('/workspace/to_execute_qc_pytket.qasm', 'export_to_qasm_with_pytket'), ('/workspace/to_execute_qc_qiskit.qasm', 'export_to_qasm_with_qiskit')]\n",
      "The circuits are equivalent: /workspace/to_execute_qc_pytket.qasm, /workspace/to_execute_qc_qiskit.qasm\n",
      "\n",
      "Program to_execute.py executed successfully.\n",
      "Output: Saved the Pytket circuit to /workspace/to_execute_qc_pytket.qasm\n",
      "Saved the Qiskit circuit to /workspace/to_execute_qc_qiskit.qasm\n",
      "Exported QASM files: [('/workspace/to_execute_qc_pytket.qasm', 'export_to_qasm_with_pytket'), ('/workspace/to_execute_qc_qiskit.qasm', 'export_to_qasm_with_qiskit')]\n",
      "Log has been saved to /workspace/to_execute_d215a2_error.json\n",
      "\n",
      "Program to_execute.py executed successfully.\n",
      "New exception message: The circuits are not equivalent: /workspace/to_execute_qc_pytket.qasm, /workspace/to_execute_qc_qiskit.qasm\n",
      "Output: Saved the Pytket circuit to /workspace/to_execute_qc_pytket.qasm\n",
      "Saved the Qiskit circuit to /workspace/to_execute_qc_qiskit.qasm\n",
      "Exported QASM files: [('/workspace/to_execute_qc_pytket.qasm', 'export_to_qasm_with_pytket'), ('/workspace/to_execute_qc_qiskit.qasm', 'export_to_qasm_with_qiskit')]\n",
      "The circuits are equivalent: /workspace/to_execute_qc_pytket.qasm, /workspace/to_execute_qc_qiskit.qasm\n",
      "\n",
      "Program to_execute.py executed successfully.\n",
      "Output: Saved the Pytket circuit to /workspace/to_execute_qc_pytket.qasm\n",
      "Saved the Qiskit circuit to /workspace/to_execute_qc_qiskit.qasm\n",
      "Exported QASM files: [('/workspace/to_execute_qc_pytket.qasm', 'export_to_qasm_with_pytket'), ('/workspace/to_execute_qc_qiskit.qasm', 'export_to_qasm_with_qiskit')]\n",
      "Log has been saved to /workspace/to_execute_e07f25_error.json\n",
      "\n",
      "Program to_execute.py executed successfully.\n",
      "New exception message: The circuits are not equivalent: /workspace/to_execute_qc_pytket.qasm, /workspace/to_execute_qc_qiskit.qasm\n",
      "Output: Saved the Pytket circuit to /workspace/to_execute_qc_pytket.qasm\n",
      "Saved the Qiskit circuit to /workspace/to_execute_qc_qiskit.qasm\n",
      "Exported QASM files: [('/workspace/to_execute_qc_pytket.qasm', 'export_to_qasm_with_pytket'), ('/workspace/to_execute_qc_qiskit.qasm', 'export_to_qasm_with_qiskit')]\n",
      "The circuits are equivalent: /workspace/to_execute_qc_pytket.qasm, /workspace/to_execute_qc_qiskit.qasm\n",
      "\n",
      "Program to_execute.py executed successfully.\n",
      "Output: Saved the Pytket circuit to /workspace/to_execute_qc_pytket.qasm\n",
      "Saved the Qiskit circuit to /workspace/to_execute_qc_qiskit.qasm\n",
      "Exported QASM files: [('/workspace/to_execute_qc_pytket.qasm', 'export_to_qasm_with_pytket'), ('/workspace/to_execute_qc_qiskit.qasm', 'export_to_qasm_with_qiskit')]\n",
      "The circuits are equivalent: /workspace/to_execute_qc_pytket.qasm, /workspace/to_execute_qc_qiskit.qasm\n",
      "\n",
      "Program to_execute.py executed successfully.\n"
     ]
    },
    {
     "data": {
      "text/html": [
       "<pre style=\"white-space:pre;overflow-x:auto;line-height:normal;font-family:Menlo,'DejaVu Sans Mono',consolas,'Courier New',monospace\"><span style=\"color: #7fbfbf; text-decoration-color: #7fbfbf\">[16:52:05] </span><span style=\"color: #008000; text-decoration-color: #008000\">Minimized file saved as:</span>                                                        <a href=\"file:///home/paltenmo/projects/crossplatform/analysis_and_reporting/ddmin_target_file.py\" target=\"_blank\"><span style=\"color: #7f7f7f; text-decoration-color: #7f7f7f\">ddmin_target_file.py</span></a><span style=\"color: #7f7f7f; text-decoration-color: #7f7f7f\">:</span><a href=\"file:///home/paltenmo/projects/crossplatform/analysis_and_reporting/ddmin_target_file.py#240\" target=\"_blank\"><span style=\"color: #7f7f7f; text-decoration-color: #7f7f7f\">240</span></a>\n",
       "<span style=\"color: #7fbfbf; text-decoration-color: #7fbfbf\">           </span>..<span style=\"color: #800080; text-decoration-color: #800080\">/program_bank/v005/2024_10_22__22_32__qiskit/</span><span style=\"color: #ff00ff; text-decoration-color: #ff00ff\">qiskit_circuit_32q_10g_72419_248</span> <span style=\"color: #7f7f7f; text-decoration-color: #7f7f7f\">                        </span>\n",
       "<span style=\"color: #7fbfbf; text-decoration-color: #7fbfbf\">           </span><span style=\"color: #ff00ff; text-decoration-color: #ff00ff\">4a1_565431_error_min.py</span>                                                         <span style=\"color: #7f7f7f; text-decoration-color: #7f7f7f\">                        </span>\n",
       "</pre>\n"
      ],
      "text/plain": [
       "\u001b[2;36m[16:52:05]\u001b[0m\u001b[2;36m \u001b[0m\u001b[32mMinimized file saved as:\u001b[0m                                                        \u001b]8;id=606339;file:///home/paltenmo/projects/crossplatform/analysis_and_reporting/ddmin_target_file.py\u001b\\\u001b[2mddmin_target_file.py\u001b[0m\u001b]8;;\u001b\\\u001b[2m:\u001b[0m\u001b]8;id=90474;file:///home/paltenmo/projects/crossplatform/analysis_and_reporting/ddmin_target_file.py#240\u001b\\\u001b[2m240\u001b[0m\u001b]8;;\u001b\\\n",
       "\u001b[2;36m           \u001b[0m..\u001b[35m/program_bank/v005/2024_10_22__22_32__qiskit/\u001b[0m\u001b[95mqiskit_circuit_32q_10g_72419_248\u001b[0m \u001b[2m                        \u001b[0m\n",
       "\u001b[2;36m           \u001b[0m\u001b[95m4a1_565431_error_min.py\u001b[0m                                                         \u001b[2m                        \u001b[0m\n"
      ]
     },
     "metadata": {},
     "output_type": "display_data"
    },
    {
     "name": "stdout",
     "output_type": "stream",
     "text": [
      "Running minimization for ../program_bank/v005/2024_10_22__22_32__sample_errors_no_pennylane/qiskit_circuit_32q_10g_74712_c84e32_db5fb1_error.json\n"
     ]
    },
    {
     "data": {
      "text/html": [
       "<pre style=\"white-space:pre;overflow-x:auto;line-height:normal;font-family:Menlo,'DejaVu Sans Mono',consolas,'Courier New',monospace\"><span style=\"color: #7fbfbf; text-decoration-color: #7fbfbf\">           </span>Involved functions:                                                             <a href=\"file:///home/paltenmo/projects/crossplatform/analysis_and_reporting/ddmin_target_file.py\" target=\"_blank\"><span style=\"color: #7f7f7f; text-decoration-color: #7f7f7f\">ddmin_target_file.py</span></a><span style=\"color: #7f7f7f; text-decoration-color: #7f7f7f\">:</span><a href=\"file:///home/paltenmo/projects/crossplatform/analysis_and_reporting/ddmin_target_file.py#206\" target=\"_blank\"><span style=\"color: #7f7f7f; text-decoration-color: #7f7f7f\">206</span></a>\n",
       "</pre>\n"
      ],
      "text/plain": [
       "\u001b[2;36m          \u001b[0m\u001b[2;36m \u001b[0mInvolved functions:                                                             \u001b]8;id=47596;file:///home/paltenmo/projects/crossplatform/analysis_and_reporting/ddmin_target_file.py\u001b\\\u001b[2mddmin_target_file.py\u001b[0m\u001b]8;;\u001b\\\u001b[2m:\u001b[0m\u001b]8;id=73485;file:///home/paltenmo/projects/crossplatform/analysis_and_reporting/ddmin_target_file.py#206\u001b\\\u001b[2m206\u001b[0m\u001b]8;;\u001b\\\n"
      ]
     },
     "metadata": {},
     "output_type": "display_data"
    },
    {
     "data": {
      "text/html": [
       "<pre style=\"white-space:pre;overflow-x:auto;line-height:normal;font-family:Menlo,'DejaVu Sans Mono',consolas,'Courier New',monospace\"><span style=\"color: #7fbfbf; text-decoration-color: #7fbfbf\">           </span>  - compare_qasm_via_qcec                                                       <a href=\"file:///home/paltenmo/projects/crossplatform/analysis_and_reporting/ddmin_target_file.py\" target=\"_blank\"><span style=\"color: #7f7f7f; text-decoration-color: #7f7f7f\">ddmin_target_file.py</span></a><span style=\"color: #7f7f7f; text-decoration-color: #7f7f7f\">:</span><a href=\"file:///home/paltenmo/projects/crossplatform/analysis_and_reporting/ddmin_target_file.py#208\" target=\"_blank\"><span style=\"color: #7f7f7f; text-decoration-color: #7f7f7f\">208</span></a>\n",
       "</pre>\n"
      ],
      "text/plain": [
       "\u001b[2;36m          \u001b[0m\u001b[2;36m \u001b[0m  - compare_qasm_via_qcec                                                       \u001b]8;id=618839;file:///home/paltenmo/projects/crossplatform/analysis_and_reporting/ddmin_target_file.py\u001b\\\u001b[2mddmin_target_file.py\u001b[0m\u001b]8;;\u001b\\\u001b[2m:\u001b[0m\u001b]8;id=8098;file:///home/paltenmo/projects/crossplatform/analysis_and_reporting/ddmin_target_file.py#208\u001b\\\u001b[2m208\u001b[0m\u001b]8;;\u001b\\\n"
      ]
     },
     "metadata": {},
     "output_type": "display_data"
    },
    {
     "data": {
      "text/html": [
       "<pre style=\"white-space:pre;overflow-x:auto;line-height:normal;font-family:Menlo,'DejaVu Sans Mono',consolas,'Courier New',monospace\"><span style=\"color: #7fbfbf; text-decoration-color: #7fbfbf\">           </span>  - export_to_qasm_with_pytket                                                  <a href=\"file:///home/paltenmo/projects/crossplatform/analysis_and_reporting/ddmin_target_file.py\" target=\"_blank\"><span style=\"color: #7f7f7f; text-decoration-color: #7f7f7f\">ddmin_target_file.py</span></a><span style=\"color: #7f7f7f; text-decoration-color: #7f7f7f\">:</span><a href=\"file:///home/paltenmo/projects/crossplatform/analysis_and_reporting/ddmin_target_file.py#208\" target=\"_blank\"><span style=\"color: #7f7f7f; text-decoration-color: #7f7f7f\">208</span></a>\n",
       "</pre>\n"
      ],
      "text/plain": [
       "\u001b[2;36m          \u001b[0m\u001b[2;36m \u001b[0m  - export_to_qasm_with_pytket                                                  \u001b]8;id=930650;file:///home/paltenmo/projects/crossplatform/analysis_and_reporting/ddmin_target_file.py\u001b\\\u001b[2mddmin_target_file.py\u001b[0m\u001b]8;;\u001b\\\u001b[2m:\u001b[0m\u001b]8;id=965933;file:///home/paltenmo/projects/crossplatform/analysis_and_reporting/ddmin_target_file.py#208\u001b\\\u001b[2m208\u001b[0m\u001b]8;;\u001b\\\n"
      ]
     },
     "metadata": {},
     "output_type": "display_data"
    },
    {
     "data": {
      "text/html": [
       "<pre style=\"white-space:pre;overflow-x:auto;line-height:normal;font-family:Menlo,'DejaVu Sans Mono',consolas,'Courier New',monospace\"><span style=\"color: #7fbfbf; text-decoration-color: #7fbfbf\">           </span>  - export_to_qasm_with_qiskit                                                  <a href=\"file:///home/paltenmo/projects/crossplatform/analysis_and_reporting/ddmin_target_file.py\" target=\"_blank\"><span style=\"color: #7f7f7f; text-decoration-color: #7f7f7f\">ddmin_target_file.py</span></a><span style=\"color: #7f7f7f; text-decoration-color: #7f7f7f\">:</span><a href=\"file:///home/paltenmo/projects/crossplatform/analysis_and_reporting/ddmin_target_file.py#208\" target=\"_blank\"><span style=\"color: #7f7f7f; text-decoration-color: #7f7f7f\">208</span></a>\n",
       "</pre>\n"
      ],
      "text/plain": [
       "\u001b[2;36m          \u001b[0m\u001b[2;36m \u001b[0m  - export_to_qasm_with_qiskit                                                  \u001b]8;id=414551;file:///home/paltenmo/projects/crossplatform/analysis_and_reporting/ddmin_target_file.py\u001b\\\u001b[2mddmin_target_file.py\u001b[0m\u001b]8;;\u001b\\\u001b[2m:\u001b[0m\u001b]8;id=373642;file:///home/paltenmo/projects/crossplatform/analysis_and_reporting/ddmin_target_file.py#208\u001b\\\u001b[2m208\u001b[0m\u001b]8;;\u001b\\\n"
      ]
     },
     "metadata": {},
     "output_type": "display_data"
    },
    {
     "name": "stdout",
     "output_type": "stream",
     "text": [
      "Output: Saved the Pytket circuit to /workspace/to_execute_qc_pytket.qasm\n",
      "Saved the Qiskit circuit to /workspace/to_execute_qc_qiskit.qasm\n",
      "Exported QASM files: [('/workspace/to_execute_qc_pytket.qasm', 'export_to_qasm_with_pytket'), ('/workspace/to_execute_qc_qiskit.qasm', 'export_to_qasm_with_qiskit')]\n",
      "The circuits are equivalent: /workspace/to_execute_qc_pytket.qasm, /workspace/to_execute_qc_qiskit.qasm\n",
      "\n",
      "Program to_execute.py executed successfully.\n",
      "Output: Saved the Pytket circuit to /workspace/to_execute_qc_pytket.qasm\n",
      "Saved the Qiskit circuit to /workspace/to_execute_qc_qiskit.qasm\n",
      "Exported QASM files: [('/workspace/to_execute_qc_pytket.qasm', 'export_to_qasm_with_pytket'), ('/workspace/to_execute_qc_qiskit.qasm', 'export_to_qasm_with_qiskit')]\n",
      "Log has been saved to /workspace/to_execute_7025d5_error.json\n",
      "\n",
      "Program to_execute.py executed successfully.\n",
      "New exception message: The circuits are not equivalent: /workspace/to_execute_qc_pytket.qasm, /workspace/to_execute_qc_qiskit.qasm\n",
      "Output: Saved the Pytket circuit to /workspace/to_execute_qc_pytket.qasm\n",
      "Saved the Qiskit circuit to /workspace/to_execute_qc_qiskit.qasm\n",
      "Exported QASM files: [('/workspace/to_execute_qc_pytket.qasm', 'export_to_qasm_with_pytket'), ('/workspace/to_execute_qc_qiskit.qasm', 'export_to_qasm_with_qiskit')]\n",
      "The circuits are equivalent: /workspace/to_execute_qc_pytket.qasm, /workspace/to_execute_qc_qiskit.qasm\n",
      "\n",
      "Program to_execute.py executed successfully.\n",
      "Output: Saved the Pytket circuit to /workspace/to_execute_qc_pytket.qasm\n",
      "Saved the Qiskit circuit to /workspace/to_execute_qc_qiskit.qasm\n",
      "Exported QASM files: [('/workspace/to_execute_qc_pytket.qasm', 'export_to_qasm_with_pytket'), ('/workspace/to_execute_qc_qiskit.qasm', 'export_to_qasm_with_qiskit')]\n",
      "Log has been saved to /workspace/to_execute_2c4887_error.json\n",
      "\n",
      "Program to_execute.py executed successfully.\n",
      "New exception message: The circuits are not equivalent: /workspace/to_execute_qc_pytket.qasm, /workspace/to_execute_qc_qiskit.qasm\n",
      "Output: Saved the Pytket circuit to /workspace/to_execute_qc_pytket.qasm\n",
      "Saved the Qiskit circuit to /workspace/to_execute_qc_qiskit.qasm\n",
      "Exported QASM files: [('/workspace/to_execute_qc_pytket.qasm', 'export_to_qasm_with_pytket'), ('/workspace/to_execute_qc_qiskit.qasm', 'export_to_qasm_with_qiskit')]\n",
      "The circuits are equivalent: /workspace/to_execute_qc_pytket.qasm, /workspace/to_execute_qc_qiskit.qasm\n",
      "\n",
      "Program to_execute.py executed successfully.\n",
      "Output: Saved the Pytket circuit to /workspace/to_execute_qc_pytket.qasm\n",
      "Saved the Qiskit circuit to /workspace/to_execute_qc_qiskit.qasm\n",
      "Exported QASM files: [('/workspace/to_execute_qc_pytket.qasm', 'export_to_qasm_with_pytket'), ('/workspace/to_execute_qc_qiskit.qasm', 'export_to_qasm_with_qiskit')]\n",
      "Log has been saved to /workspace/to_execute_734a6a_error.json\n",
      "\n",
      "Program to_execute.py executed successfully.\n",
      "New exception message: The circuits are not equivalent: /workspace/to_execute_qc_pytket.qasm, /workspace/to_execute_qc_qiskit.qasm\n",
      "Output: Saved the Pytket circuit to /workspace/to_execute_qc_pytket.qasm\n",
      "Saved the Qiskit circuit to /workspace/to_execute_qc_qiskit.qasm\n",
      "Exported QASM files: [('/workspace/to_execute_qc_pytket.qasm', 'export_to_qasm_with_pytket'), ('/workspace/to_execute_qc_qiskit.qasm', 'export_to_qasm_with_qiskit')]\n",
      "The circuits are equivalent: /workspace/to_execute_qc_pytket.qasm, /workspace/to_execute_qc_qiskit.qasm\n",
      "\n",
      "Program to_execute.py executed successfully.\n",
      "Output: Saved the Pytket circuit to /workspace/to_execute_qc_pytket.qasm\n",
      "Saved the Qiskit circuit to /workspace/to_execute_qc_qiskit.qasm\n",
      "Exported QASM files: [('/workspace/to_execute_qc_pytket.qasm', 'export_to_qasm_with_pytket'), ('/workspace/to_execute_qc_qiskit.qasm', 'export_to_qasm_with_qiskit')]\n",
      "The circuits are equivalent: /workspace/to_execute_qc_pytket.qasm, /workspace/to_execute_qc_qiskit.qasm\n",
      "\n",
      "Program to_execute.py executed successfully.\n",
      "Output: Saved the Pytket circuit to /workspace/to_execute_qc_pytket.qasm\n",
      "Saved the Qiskit circuit to /workspace/to_execute_qc_qiskit.qasm\n",
      "Exported QASM files: [('/workspace/to_execute_qc_pytket.qasm', 'export_to_qasm_with_pytket'), ('/workspace/to_execute_qc_qiskit.qasm', 'export_to_qasm_with_qiskit')]\n",
      "The circuits are equivalent: /workspace/to_execute_qc_pytket.qasm, /workspace/to_execute_qc_qiskit.qasm\n",
      "\n",
      "Program to_execute.py executed successfully.\n",
      "Output: Saved the Pytket circuit to /workspace/to_execute_qc_pytket.qasm\n",
      "Saved the Qiskit circuit to /workspace/to_execute_qc_qiskit.qasm\n",
      "Exported QASM files: [('/workspace/to_execute_qc_pytket.qasm', 'export_to_qasm_with_pytket'), ('/workspace/to_execute_qc_qiskit.qasm', 'export_to_qasm_with_qiskit')]\n",
      "Log has been saved to /workspace/to_execute_dc6fd3_error.json\n",
      "\n",
      "Program to_execute.py executed successfully.\n",
      "New exception message: The circuits are not equivalent: /workspace/to_execute_qc_pytket.qasm, /workspace/to_execute_qc_qiskit.qasm\n",
      "Output: Saved the Pytket circuit to /workspace/to_execute_qc_pytket.qasm\n",
      "Saved the Qiskit circuit to /workspace/to_execute_qc_qiskit.qasm\n",
      "Exported QASM files: [('/workspace/to_execute_qc_pytket.qasm', 'export_to_qasm_with_pytket'), ('/workspace/to_execute_qc_qiskit.qasm', 'export_to_qasm_with_qiskit')]\n",
      "The circuits are equivalent: /workspace/to_execute_qc_pytket.qasm, /workspace/to_execute_qc_qiskit.qasm\n",
      "\n",
      "Program to_execute.py executed successfully.\n",
      "Output: Saved the Pytket circuit to /workspace/to_execute_qc_pytket.qasm\n",
      "Saved the Qiskit circuit to /workspace/to_execute_qc_qiskit.qasm\n",
      "Exported QASM files: [('/workspace/to_execute_qc_pytket.qasm', 'export_to_qasm_with_pytket'), ('/workspace/to_execute_qc_qiskit.qasm', 'export_to_qasm_with_qiskit')]\n",
      "The circuits are equivalent: /workspace/to_execute_qc_pytket.qasm, /workspace/to_execute_qc_qiskit.qasm\n",
      "\n",
      "Program to_execute.py executed successfully.\n"
     ]
    },
    {
     "data": {
      "text/html": [
       "<pre style=\"white-space:pre;overflow-x:auto;line-height:normal;font-family:Menlo,'DejaVu Sans Mono',consolas,'Courier New',monospace\"><span style=\"color: #7fbfbf; text-decoration-color: #7fbfbf\">[16:52:51] </span><span style=\"color: #008000; text-decoration-color: #008000\">Minimized file saved as:</span>                                                        <a href=\"file:///home/paltenmo/projects/crossplatform/analysis_and_reporting/ddmin_target_file.py\" target=\"_blank\"><span style=\"color: #7f7f7f; text-decoration-color: #7f7f7f\">ddmin_target_file.py</span></a><span style=\"color: #7f7f7f; text-decoration-color: #7f7f7f\">:</span><a href=\"file:///home/paltenmo/projects/crossplatform/analysis_and_reporting/ddmin_target_file.py#240\" target=\"_blank\"><span style=\"color: #7f7f7f; text-decoration-color: #7f7f7f\">240</span></a>\n",
       "<span style=\"color: #7fbfbf; text-decoration-color: #7fbfbf\">           </span>..<span style=\"color: #800080; text-decoration-color: #800080\">/program_bank/v005/2024_10_22__22_32__qiskit/</span><span style=\"color: #ff00ff; text-decoration-color: #ff00ff\">qiskit_circuit_32q_10g_74712_c84</span> <span style=\"color: #7f7f7f; text-decoration-color: #7f7f7f\">                        </span>\n",
       "<span style=\"color: #7fbfbf; text-decoration-color: #7fbfbf\">           </span><span style=\"color: #ff00ff; text-decoration-color: #ff00ff\">e32_db5fb1_error_min.py</span>                                                         <span style=\"color: #7f7f7f; text-decoration-color: #7f7f7f\">                        </span>\n",
       "</pre>\n"
      ],
      "text/plain": [
       "\u001b[2;36m[16:52:51]\u001b[0m\u001b[2;36m \u001b[0m\u001b[32mMinimized file saved as:\u001b[0m                                                        \u001b]8;id=701901;file:///home/paltenmo/projects/crossplatform/analysis_and_reporting/ddmin_target_file.py\u001b\\\u001b[2mddmin_target_file.py\u001b[0m\u001b]8;;\u001b\\\u001b[2m:\u001b[0m\u001b]8;id=965761;file:///home/paltenmo/projects/crossplatform/analysis_and_reporting/ddmin_target_file.py#240\u001b\\\u001b[2m240\u001b[0m\u001b]8;;\u001b\\\n",
       "\u001b[2;36m           \u001b[0m..\u001b[35m/program_bank/v005/2024_10_22__22_32__qiskit/\u001b[0m\u001b[95mqiskit_circuit_32q_10g_74712_c84\u001b[0m \u001b[2m                        \u001b[0m\n",
       "\u001b[2;36m           \u001b[0m\u001b[95me32_db5fb1_error_min.py\u001b[0m                                                         \u001b[2m                        \u001b[0m\n"
      ]
     },
     "metadata": {},
     "output_type": "display_data"
    },
    {
     "name": "stdout",
     "output_type": "stream",
     "text": [
      "Running minimization for ../program_bank/v005/2024_10_22__22_32__sample_errors_no_pennylane/qiskit_circuit_32q_10g_15090_228b8a_a65e6b_error.json\n"
     ]
    },
    {
     "data": {
      "text/html": [
       "<pre style=\"white-space:pre;overflow-x:auto;line-height:normal;font-family:Menlo,'DejaVu Sans Mono',consolas,'Courier New',monospace\"><span style=\"color: #7fbfbf; text-decoration-color: #7fbfbf\">           </span>Involved functions:                                                             <a href=\"file:///home/paltenmo/projects/crossplatform/analysis_and_reporting/ddmin_target_file.py\" target=\"_blank\"><span style=\"color: #7f7f7f; text-decoration-color: #7f7f7f\">ddmin_target_file.py</span></a><span style=\"color: #7f7f7f; text-decoration-color: #7f7f7f\">:</span><a href=\"file:///home/paltenmo/projects/crossplatform/analysis_and_reporting/ddmin_target_file.py#206\" target=\"_blank\"><span style=\"color: #7f7f7f; text-decoration-color: #7f7f7f\">206</span></a>\n",
       "</pre>\n"
      ],
      "text/plain": [
       "\u001b[2;36m          \u001b[0m\u001b[2;36m \u001b[0mInvolved functions:                                                             \u001b]8;id=389255;file:///home/paltenmo/projects/crossplatform/analysis_and_reporting/ddmin_target_file.py\u001b\\\u001b[2mddmin_target_file.py\u001b[0m\u001b]8;;\u001b\\\u001b[2m:\u001b[0m\u001b]8;id=144230;file:///home/paltenmo/projects/crossplatform/analysis_and_reporting/ddmin_target_file.py#206\u001b\\\u001b[2m206\u001b[0m\u001b]8;;\u001b\\\n"
      ]
     },
     "metadata": {},
     "output_type": "display_data"
    },
    {
     "data": {
      "text/html": [
       "<pre style=\"white-space:pre;overflow-x:auto;line-height:normal;font-family:Menlo,'DejaVu Sans Mono',consolas,'Courier New',monospace\"><span style=\"color: #7fbfbf; text-decoration-color: #7fbfbf\">           </span>  - compare_qasm_via_qcec                                                       <a href=\"file:///home/paltenmo/projects/crossplatform/analysis_and_reporting/ddmin_target_file.py\" target=\"_blank\"><span style=\"color: #7f7f7f; text-decoration-color: #7f7f7f\">ddmin_target_file.py</span></a><span style=\"color: #7f7f7f; text-decoration-color: #7f7f7f\">:</span><a href=\"file:///home/paltenmo/projects/crossplatform/analysis_and_reporting/ddmin_target_file.py#208\" target=\"_blank\"><span style=\"color: #7f7f7f; text-decoration-color: #7f7f7f\">208</span></a>\n",
       "</pre>\n"
      ],
      "text/plain": [
       "\u001b[2;36m          \u001b[0m\u001b[2;36m \u001b[0m  - compare_qasm_via_qcec                                                       \u001b]8;id=20518;file:///home/paltenmo/projects/crossplatform/analysis_and_reporting/ddmin_target_file.py\u001b\\\u001b[2mddmin_target_file.py\u001b[0m\u001b]8;;\u001b\\\u001b[2m:\u001b[0m\u001b]8;id=950939;file:///home/paltenmo/projects/crossplatform/analysis_and_reporting/ddmin_target_file.py#208\u001b\\\u001b[2m208\u001b[0m\u001b]8;;\u001b\\\n"
      ]
     },
     "metadata": {},
     "output_type": "display_data"
    },
    {
     "data": {
      "text/html": [
       "<pre style=\"white-space:pre;overflow-x:auto;line-height:normal;font-family:Menlo,'DejaVu Sans Mono',consolas,'Courier New',monospace\"><span style=\"color: #7fbfbf; text-decoration-color: #7fbfbf\">           </span>  - export_to_qasm_with_pytket                                                  <a href=\"file:///home/paltenmo/projects/crossplatform/analysis_and_reporting/ddmin_target_file.py\" target=\"_blank\"><span style=\"color: #7f7f7f; text-decoration-color: #7f7f7f\">ddmin_target_file.py</span></a><span style=\"color: #7f7f7f; text-decoration-color: #7f7f7f\">:</span><a href=\"file:///home/paltenmo/projects/crossplatform/analysis_and_reporting/ddmin_target_file.py#208\" target=\"_blank\"><span style=\"color: #7f7f7f; text-decoration-color: #7f7f7f\">208</span></a>\n",
       "</pre>\n"
      ],
      "text/plain": [
       "\u001b[2;36m          \u001b[0m\u001b[2;36m \u001b[0m  - export_to_qasm_with_pytket                                                  \u001b]8;id=209508;file:///home/paltenmo/projects/crossplatform/analysis_and_reporting/ddmin_target_file.py\u001b\\\u001b[2mddmin_target_file.py\u001b[0m\u001b]8;;\u001b\\\u001b[2m:\u001b[0m\u001b]8;id=703734;file:///home/paltenmo/projects/crossplatform/analysis_and_reporting/ddmin_target_file.py#208\u001b\\\u001b[2m208\u001b[0m\u001b]8;;\u001b\\\n"
      ]
     },
     "metadata": {},
     "output_type": "display_data"
    },
    {
     "data": {
      "text/html": [
       "<pre style=\"white-space:pre;overflow-x:auto;line-height:normal;font-family:Menlo,'DejaVu Sans Mono',consolas,'Courier New',monospace\"><span style=\"color: #7fbfbf; text-decoration-color: #7fbfbf\">           </span>  - export_to_qasm_with_qiskit                                                  <a href=\"file:///home/paltenmo/projects/crossplatform/analysis_and_reporting/ddmin_target_file.py\" target=\"_blank\"><span style=\"color: #7f7f7f; text-decoration-color: #7f7f7f\">ddmin_target_file.py</span></a><span style=\"color: #7f7f7f; text-decoration-color: #7f7f7f\">:</span><a href=\"file:///home/paltenmo/projects/crossplatform/analysis_and_reporting/ddmin_target_file.py#208\" target=\"_blank\"><span style=\"color: #7f7f7f; text-decoration-color: #7f7f7f\">208</span></a>\n",
       "</pre>\n"
      ],
      "text/plain": [
       "\u001b[2;36m          \u001b[0m\u001b[2;36m \u001b[0m  - export_to_qasm_with_qiskit                                                  \u001b]8;id=318298;file:///home/paltenmo/projects/crossplatform/analysis_and_reporting/ddmin_target_file.py\u001b\\\u001b[2mddmin_target_file.py\u001b[0m\u001b]8;;\u001b\\\u001b[2m:\u001b[0m\u001b]8;id=589606;file:///home/paltenmo/projects/crossplatform/analysis_and_reporting/ddmin_target_file.py#208\u001b\\\u001b[2m208\u001b[0m\u001b]8;;\u001b\\\n"
      ]
     },
     "metadata": {},
     "output_type": "display_data"
    },
    {
     "name": "stdout",
     "output_type": "stream",
     "text": [
      "Output: Saved the Pytket circuit to /workspace/to_execute_qc_pytket.qasm\n",
      "Saved the Qiskit circuit to /workspace/to_execute_qc_qiskit.qasm\n",
      "Exported QASM files: [('/workspace/to_execute_qc_pytket.qasm', 'export_to_qasm_with_pytket'), ('/workspace/to_execute_qc_qiskit.qasm', 'export_to_qasm_with_qiskit')]\n",
      "The circuits are equivalent: /workspace/to_execute_qc_pytket.qasm, /workspace/to_execute_qc_qiskit.qasm\n",
      "\n",
      "Program to_execute.py executed successfully.\n",
      "Output: Saved the Pytket circuit to /workspace/to_execute_qc_pytket.qasm\n",
      "Saved the Qiskit circuit to /workspace/to_execute_qc_qiskit.qasm\n",
      "Exported QASM files: [('/workspace/to_execute_qc_pytket.qasm', 'export_to_qasm_with_pytket'), ('/workspace/to_execute_qc_qiskit.qasm', 'export_to_qasm_with_qiskit')]\n",
      "Log has been saved to /workspace/to_execute_a0038f_error.json\n",
      "\n",
      "Program to_execute.py executed successfully.\n",
      "New exception message: The circuits are not equivalent: /workspace/to_execute_qc_pytket.qasm, /workspace/to_execute_qc_qiskit.qasm\n",
      "Output: Saved the Pytket circuit to /workspace/to_execute_qc_pytket.qasm\n",
      "Saved the Qiskit circuit to /workspace/to_execute_qc_qiskit.qasm\n",
      "Exported QASM files: [('/workspace/to_execute_qc_pytket.qasm', 'export_to_qasm_with_pytket'), ('/workspace/to_execute_qc_qiskit.qasm', 'export_to_qasm_with_qiskit')]\n",
      "The circuits are equivalent: /workspace/to_execute_qc_pytket.qasm, /workspace/to_execute_qc_qiskit.qasm\n",
      "\n",
      "Program to_execute.py executed successfully.\n",
      "Output: Saved the Pytket circuit to /workspace/to_execute_qc_pytket.qasm\n",
      "Saved the Qiskit circuit to /workspace/to_execute_qc_qiskit.qasm\n",
      "Exported QASM files: [('/workspace/to_execute_qc_pytket.qasm', 'export_to_qasm_with_pytket'), ('/workspace/to_execute_qc_qiskit.qasm', 'export_to_qasm_with_qiskit')]\n",
      "The circuits are equivalent: /workspace/to_execute_qc_pytket.qasm, /workspace/to_execute_qc_qiskit.qasm\n",
      "\n",
      "Program to_execute.py executed successfully.\n",
      "Output: Saved the Pytket circuit to /workspace/to_execute_qc_pytket.qasm\n",
      "Saved the Qiskit circuit to /workspace/to_execute_qc_qiskit.qasm\n",
      "Exported QASM files: [('/workspace/to_execute_qc_pytket.qasm', 'export_to_qasm_with_pytket'), ('/workspace/to_execute_qc_qiskit.qasm', 'export_to_qasm_with_qiskit')]\n",
      "The circuits are equivalent: /workspace/to_execute_qc_pytket.qasm, /workspace/to_execute_qc_qiskit.qasm\n",
      "\n",
      "Program to_execute.py executed successfully.\n",
      "Output: Saved the Pytket circuit to /workspace/to_execute_qc_pytket.qasm\n",
      "Saved the Qiskit circuit to /workspace/to_execute_qc_qiskit.qasm\n",
      "Exported QASM files: [('/workspace/to_execute_qc_pytket.qasm', 'export_to_qasm_with_pytket'), ('/workspace/to_execute_qc_qiskit.qasm', 'export_to_qasm_with_qiskit')]\n",
      "Log has been saved to /workspace/to_execute_05abed_error.json\n",
      "\n",
      "Program to_execute.py executed successfully.\n",
      "New exception message: The circuits are not equivalent: /workspace/to_execute_qc_pytket.qasm, /workspace/to_execute_qc_qiskit.qasm\n",
      "Output: Saved the Pytket circuit to /workspace/to_execute_qc_pytket.qasm\n",
      "Saved the Qiskit circuit to /workspace/to_execute_qc_qiskit.qasm\n",
      "Exported QASM files: [('/workspace/to_execute_qc_pytket.qasm', 'export_to_qasm_with_pytket'), ('/workspace/to_execute_qc_qiskit.qasm', 'export_to_qasm_with_qiskit')]\n",
      "The circuits are equivalent: /workspace/to_execute_qc_pytket.qasm, /workspace/to_execute_qc_qiskit.qasm\n",
      "\n",
      "Program to_execute.py executed successfully.\n",
      "Output: Saved the Pytket circuit to /workspace/to_execute_qc_pytket.qasm\n",
      "Saved the Qiskit circuit to /workspace/to_execute_qc_qiskit.qasm\n",
      "Exported QASM files: [('/workspace/to_execute_qc_pytket.qasm', 'export_to_qasm_with_pytket'), ('/workspace/to_execute_qc_qiskit.qasm', 'export_to_qasm_with_qiskit')]\n",
      "Log has been saved to /workspace/to_execute_5022cb_error.json\n",
      "\n",
      "Program to_execute.py executed successfully.\n",
      "New exception message: The circuits are not equivalent: /workspace/to_execute_qc_pytket.qasm, /workspace/to_execute_qc_qiskit.qasm\n",
      "Output: Saved the Pytket circuit to /workspace/to_execute_qc_pytket.qasm\n",
      "Saved the Qiskit circuit to /workspace/to_execute_qc_qiskit.qasm\n",
      "Exported QASM files: [('/workspace/to_execute_qc_pytket.qasm', 'export_to_qasm_with_pytket'), ('/workspace/to_execute_qc_qiskit.qasm', 'export_to_qasm_with_qiskit')]\n",
      "The circuits are equivalent: /workspace/to_execute_qc_pytket.qasm, /workspace/to_execute_qc_qiskit.qasm\n",
      "\n",
      "Program to_execute.py executed successfully.\n",
      "Output: Saved the Pytket circuit to /workspace/to_execute_qc_pytket.qasm\n",
      "Saved the Qiskit circuit to /workspace/to_execute_qc_qiskit.qasm\n",
      "Exported QASM files: [('/workspace/to_execute_qc_pytket.qasm', 'export_to_qasm_with_pytket'), ('/workspace/to_execute_qc_qiskit.qasm', 'export_to_qasm_with_qiskit')]\n",
      "The circuits are equivalent: /workspace/to_execute_qc_pytket.qasm, /workspace/to_execute_qc_qiskit.qasm\n",
      "\n",
      "Program to_execute.py executed successfully.\n",
      "Output: Saved the Pytket circuit to /workspace/to_execute_qc_pytket.qasm\n",
      "Saved the Qiskit circuit to /workspace/to_execute_qc_qiskit.qasm\n",
      "Exported QASM files: [('/workspace/to_execute_qc_pytket.qasm', 'export_to_qasm_with_pytket'), ('/workspace/to_execute_qc_qiskit.qasm', 'export_to_qasm_with_qiskit')]\n",
      "Log has been saved to /workspace/to_execute_b182f8_error.json\n",
      "\n",
      "Program to_execute.py executed successfully.\n",
      "New exception message: The circuits are not equivalent: /workspace/to_execute_qc_pytket.qasm, /workspace/to_execute_qc_qiskit.qasm\n",
      "Output: Saved the Pytket circuit to /workspace/to_execute_qc_pytket.qasm\n",
      "Saved the Qiskit circuit to /workspace/to_execute_qc_qiskit.qasm\n",
      "Exported QASM files: [('/workspace/to_execute_qc_pytket.qasm', 'export_to_qasm_with_pytket'), ('/workspace/to_execute_qc_qiskit.qasm', 'export_to_qasm_with_qiskit')]\n",
      "The circuits are equivalent: /workspace/to_execute_qc_pytket.qasm, /workspace/to_execute_qc_qiskit.qasm\n",
      "\n",
      "Program to_execute.py executed successfully.\n",
      "Output: Saved the Pytket circuit to /workspace/to_execute_qc_pytket.qasm\n",
      "Saved the Qiskit circuit to /workspace/to_execute_qc_qiskit.qasm\n",
      "Exported QASM files: [('/workspace/to_execute_qc_pytket.qasm', 'export_to_qasm_with_pytket'), ('/workspace/to_execute_qc_qiskit.qasm', 'export_to_qasm_with_qiskit')]\n",
      "Log has been saved to /workspace/to_execute_fabb5b_error.json\n",
      "\n",
      "Program to_execute.py executed successfully.\n",
      "New exception message: The circuits are not equivalent: /workspace/to_execute_qc_pytket.qasm, /workspace/to_execute_qc_qiskit.qasm\n",
      "Output: Saved the Pytket circuit to /workspace/to_execute_qc_pytket.qasm\n",
      "Saved the Qiskit circuit to /workspace/to_execute_qc_qiskit.qasm\n",
      "Exported QASM files: [('/workspace/to_execute_qc_pytket.qasm', 'export_to_qasm_with_pytket'), ('/workspace/to_execute_qc_qiskit.qasm', 'export_to_qasm_with_qiskit')]\n",
      "The circuits are equivalent: /workspace/to_execute_qc_pytket.qasm, /workspace/to_execute_qc_qiskit.qasm\n",
      "\n",
      "Program to_execute.py executed successfully.\n",
      "Output: Saved the Pytket circuit to /workspace/to_execute_qc_pytket.qasm\n",
      "Saved the Qiskit circuit to /workspace/to_execute_qc_qiskit.qasm\n",
      "Exported QASM files: [('/workspace/to_execute_qc_pytket.qasm', 'export_to_qasm_with_pytket'), ('/workspace/to_execute_qc_qiskit.qasm', 'export_to_qasm_with_qiskit')]\n",
      "The circuits are equivalent: /workspace/to_execute_qc_pytket.qasm, /workspace/to_execute_qc_qiskit.qasm\n",
      "\n",
      "Program to_execute.py executed successfully.\n"
     ]
    },
    {
     "data": {
      "text/html": [
       "<pre style=\"white-space:pre;overflow-x:auto;line-height:normal;font-family:Menlo,'DejaVu Sans Mono',consolas,'Courier New',monospace\"><span style=\"color: #7fbfbf; text-decoration-color: #7fbfbf\">[16:53:45] </span><span style=\"color: #008000; text-decoration-color: #008000\">Minimized file saved as:</span>                                                        <a href=\"file:///home/paltenmo/projects/crossplatform/analysis_and_reporting/ddmin_target_file.py\" target=\"_blank\"><span style=\"color: #7f7f7f; text-decoration-color: #7f7f7f\">ddmin_target_file.py</span></a><span style=\"color: #7f7f7f; text-decoration-color: #7f7f7f\">:</span><a href=\"file:///home/paltenmo/projects/crossplatform/analysis_and_reporting/ddmin_target_file.py#240\" target=\"_blank\"><span style=\"color: #7f7f7f; text-decoration-color: #7f7f7f\">240</span></a>\n",
       "<span style=\"color: #7fbfbf; text-decoration-color: #7fbfbf\">           </span>..<span style=\"color: #800080; text-decoration-color: #800080\">/program_bank/v005/2024_10_22__22_32__qiskit/</span><span style=\"color: #ff00ff; text-decoration-color: #ff00ff\">qiskit_circuit_32q_10g_15090_228</span> <span style=\"color: #7f7f7f; text-decoration-color: #7f7f7f\">                        </span>\n",
       "<span style=\"color: #7fbfbf; text-decoration-color: #7fbfbf\">           </span><span style=\"color: #ff00ff; text-decoration-color: #ff00ff\">b8a_a65e6b_error_min.py</span>                                                         <span style=\"color: #7f7f7f; text-decoration-color: #7f7f7f\">                        </span>\n",
       "</pre>\n"
      ],
      "text/plain": [
       "\u001b[2;36m[16:53:45]\u001b[0m\u001b[2;36m \u001b[0m\u001b[32mMinimized file saved as:\u001b[0m                                                        \u001b]8;id=360670;file:///home/paltenmo/projects/crossplatform/analysis_and_reporting/ddmin_target_file.py\u001b\\\u001b[2mddmin_target_file.py\u001b[0m\u001b]8;;\u001b\\\u001b[2m:\u001b[0m\u001b]8;id=490701;file:///home/paltenmo/projects/crossplatform/analysis_and_reporting/ddmin_target_file.py#240\u001b\\\u001b[2m240\u001b[0m\u001b]8;;\u001b\\\n",
       "\u001b[2;36m           \u001b[0m..\u001b[35m/program_bank/v005/2024_10_22__22_32__qiskit/\u001b[0m\u001b[95mqiskit_circuit_32q_10g_15090_228\u001b[0m \u001b[2m                        \u001b[0m\n",
       "\u001b[2;36m           \u001b[0m\u001b[95mb8a_a65e6b_error_min.py\u001b[0m                                                         \u001b[2m                        \u001b[0m\n"
      ]
     },
     "metadata": {},
     "output_type": "display_data"
    },
    {
     "name": "stdout",
     "output_type": "stream",
     "text": [
      "Running minimization for ../program_bank/v005/2024_10_22__22_32__sample_errors_no_pennylane/qiskit_circuit_32q_10g_49850_79a6d5_cbe4b9_error.json\n"
     ]
    },
    {
     "data": {
      "text/html": [
       "<pre style=\"white-space:pre;overflow-x:auto;line-height:normal;font-family:Menlo,'DejaVu Sans Mono',consolas,'Courier New',monospace\"><span style=\"color: #7fbfbf; text-decoration-color: #7fbfbf\">           </span>Involved functions:                                                             <a href=\"file:///home/paltenmo/projects/crossplatform/analysis_and_reporting/ddmin_target_file.py\" target=\"_blank\"><span style=\"color: #7f7f7f; text-decoration-color: #7f7f7f\">ddmin_target_file.py</span></a><span style=\"color: #7f7f7f; text-decoration-color: #7f7f7f\">:</span><a href=\"file:///home/paltenmo/projects/crossplatform/analysis_and_reporting/ddmin_target_file.py#206\" target=\"_blank\"><span style=\"color: #7f7f7f; text-decoration-color: #7f7f7f\">206</span></a>\n",
       "</pre>\n"
      ],
      "text/plain": [
       "\u001b[2;36m          \u001b[0m\u001b[2;36m \u001b[0mInvolved functions:                                                             \u001b]8;id=390330;file:///home/paltenmo/projects/crossplatform/analysis_and_reporting/ddmin_target_file.py\u001b\\\u001b[2mddmin_target_file.py\u001b[0m\u001b]8;;\u001b\\\u001b[2m:\u001b[0m\u001b]8;id=8729;file:///home/paltenmo/projects/crossplatform/analysis_and_reporting/ddmin_target_file.py#206\u001b\\\u001b[2m206\u001b[0m\u001b]8;;\u001b\\\n"
      ]
     },
     "metadata": {},
     "output_type": "display_data"
    },
    {
     "data": {
      "text/html": [
       "<pre style=\"white-space:pre;overflow-x:auto;line-height:normal;font-family:Menlo,'DejaVu Sans Mono',consolas,'Courier New',monospace\"><span style=\"color: #7fbfbf; text-decoration-color: #7fbfbf\">           </span>  - compare_qasm_via_qcec                                                       <a href=\"file:///home/paltenmo/projects/crossplatform/analysis_and_reporting/ddmin_target_file.py\" target=\"_blank\"><span style=\"color: #7f7f7f; text-decoration-color: #7f7f7f\">ddmin_target_file.py</span></a><span style=\"color: #7f7f7f; text-decoration-color: #7f7f7f\">:</span><a href=\"file:///home/paltenmo/projects/crossplatform/analysis_and_reporting/ddmin_target_file.py#208\" target=\"_blank\"><span style=\"color: #7f7f7f; text-decoration-color: #7f7f7f\">208</span></a>\n",
       "</pre>\n"
      ],
      "text/plain": [
       "\u001b[2;36m          \u001b[0m\u001b[2;36m \u001b[0m  - compare_qasm_via_qcec                                                       \u001b]8;id=112541;file:///home/paltenmo/projects/crossplatform/analysis_and_reporting/ddmin_target_file.py\u001b\\\u001b[2mddmin_target_file.py\u001b[0m\u001b]8;;\u001b\\\u001b[2m:\u001b[0m\u001b]8;id=384317;file:///home/paltenmo/projects/crossplatform/analysis_and_reporting/ddmin_target_file.py#208\u001b\\\u001b[2m208\u001b[0m\u001b]8;;\u001b\\\n"
      ]
     },
     "metadata": {},
     "output_type": "display_data"
    },
    {
     "data": {
      "text/html": [
       "<pre style=\"white-space:pre;overflow-x:auto;line-height:normal;font-family:Menlo,'DejaVu Sans Mono',consolas,'Courier New',monospace\"><span style=\"color: #7fbfbf; text-decoration-color: #7fbfbf\">           </span>  - export_to_qasm_with_pytket                                                  <a href=\"file:///home/paltenmo/projects/crossplatform/analysis_and_reporting/ddmin_target_file.py\" target=\"_blank\"><span style=\"color: #7f7f7f; text-decoration-color: #7f7f7f\">ddmin_target_file.py</span></a><span style=\"color: #7f7f7f; text-decoration-color: #7f7f7f\">:</span><a href=\"file:///home/paltenmo/projects/crossplatform/analysis_and_reporting/ddmin_target_file.py#208\" target=\"_blank\"><span style=\"color: #7f7f7f; text-decoration-color: #7f7f7f\">208</span></a>\n",
       "</pre>\n"
      ],
      "text/plain": [
       "\u001b[2;36m          \u001b[0m\u001b[2;36m \u001b[0m  - export_to_qasm_with_pytket                                                  \u001b]8;id=50868;file:///home/paltenmo/projects/crossplatform/analysis_and_reporting/ddmin_target_file.py\u001b\\\u001b[2mddmin_target_file.py\u001b[0m\u001b]8;;\u001b\\\u001b[2m:\u001b[0m\u001b]8;id=386365;file:///home/paltenmo/projects/crossplatform/analysis_and_reporting/ddmin_target_file.py#208\u001b\\\u001b[2m208\u001b[0m\u001b]8;;\u001b\\\n"
      ]
     },
     "metadata": {},
     "output_type": "display_data"
    },
    {
     "data": {
      "text/html": [
       "<pre style=\"white-space:pre;overflow-x:auto;line-height:normal;font-family:Menlo,'DejaVu Sans Mono',consolas,'Courier New',monospace\"><span style=\"color: #7fbfbf; text-decoration-color: #7fbfbf\">           </span>  - export_to_qasm_with_qiskit                                                  <a href=\"file:///home/paltenmo/projects/crossplatform/analysis_and_reporting/ddmin_target_file.py\" target=\"_blank\"><span style=\"color: #7f7f7f; text-decoration-color: #7f7f7f\">ddmin_target_file.py</span></a><span style=\"color: #7f7f7f; text-decoration-color: #7f7f7f\">:</span><a href=\"file:///home/paltenmo/projects/crossplatform/analysis_and_reporting/ddmin_target_file.py#208\" target=\"_blank\"><span style=\"color: #7f7f7f; text-decoration-color: #7f7f7f\">208</span></a>\n",
       "</pre>\n"
      ],
      "text/plain": [
       "\u001b[2;36m          \u001b[0m\u001b[2;36m \u001b[0m  - export_to_qasm_with_qiskit                                                  \u001b]8;id=896940;file:///home/paltenmo/projects/crossplatform/analysis_and_reporting/ddmin_target_file.py\u001b\\\u001b[2mddmin_target_file.py\u001b[0m\u001b]8;;\u001b\\\u001b[2m:\u001b[0m\u001b]8;id=153107;file:///home/paltenmo/projects/crossplatform/analysis_and_reporting/ddmin_target_file.py#208\u001b\\\u001b[2m208\u001b[0m\u001b]8;;\u001b\\\n"
      ]
     },
     "metadata": {},
     "output_type": "display_data"
    },
    {
     "name": "stdout",
     "output_type": "stream",
     "text": [
      "Output: Saved the Pytket circuit to /workspace/to_execute_qc_pytket.qasm\n",
      "Saved the Qiskit circuit to /workspace/to_execute_qc_qiskit.qasm\n",
      "Exported QASM files: [('/workspace/to_execute_qc_pytket.qasm', 'export_to_qasm_with_pytket'), ('/workspace/to_execute_qc_qiskit.qasm', 'export_to_qasm_with_qiskit')]\n",
      "The circuits are equivalent: /workspace/to_execute_qc_pytket.qasm, /workspace/to_execute_qc_qiskit.qasm\n",
      "\n",
      "Program to_execute.py executed successfully.\n",
      "Output: Saved the Pytket circuit to /workspace/to_execute_qc_pytket.qasm\n",
      "Saved the Qiskit circuit to /workspace/to_execute_qc_qiskit.qasm\n",
      "Exported QASM files: [('/workspace/to_execute_qc_pytket.qasm', 'export_to_qasm_with_pytket'), ('/workspace/to_execute_qc_qiskit.qasm', 'export_to_qasm_with_qiskit')]\n",
      "Log has been saved to /workspace/to_execute_65d620_error.json\n",
      "\n",
      "Program to_execute.py executed successfully.\n",
      "New exception message: The circuits are not equivalent: /workspace/to_execute_qc_pytket.qasm, /workspace/to_execute_qc_qiskit.qasm\n",
      "Output: Saved the Pytket circuit to /workspace/to_execute_qc_pytket.qasm\n",
      "Saved the Qiskit circuit to /workspace/to_execute_qc_qiskit.qasm\n",
      "Exported QASM files: [('/workspace/to_execute_qc_pytket.qasm', 'export_to_qasm_with_pytket'), ('/workspace/to_execute_qc_qiskit.qasm', 'export_to_qasm_with_qiskit')]\n",
      "Log has been saved to /workspace/to_execute_6bebed_error.json\n",
      "\n",
      "Program to_execute.py executed successfully.\n",
      "New exception message: The circuits are not equivalent: /workspace/to_execute_qc_pytket.qasm, /workspace/to_execute_qc_qiskit.qasm\n",
      "Output: Saved the Pytket circuit to /workspace/to_execute_qc_pytket.qasm\n",
      "Saved the Qiskit circuit to /workspace/to_execute_qc_qiskit.qasm\n",
      "Exported QASM files: [('/workspace/to_execute_qc_pytket.qasm', 'export_to_qasm_with_pytket'), ('/workspace/to_execute_qc_qiskit.qasm', 'export_to_qasm_with_qiskit')]\n",
      "The circuits are equivalent: /workspace/to_execute_qc_pytket.qasm, /workspace/to_execute_qc_qiskit.qasm\n",
      "\n",
      "Program to_execute.py executed successfully.\n",
      "Output: Saved the Pytket circuit to /workspace/to_execute_qc_pytket.qasm\n",
      "Saved the Qiskit circuit to /workspace/to_execute_qc_qiskit.qasm\n",
      "Exported QASM files: [('/workspace/to_execute_qc_pytket.qasm', 'export_to_qasm_with_pytket'), ('/workspace/to_execute_qc_qiskit.qasm', 'export_to_qasm_with_qiskit')]\n",
      "The circuits are equivalent: /workspace/to_execute_qc_pytket.qasm, /workspace/to_execute_qc_qiskit.qasm\n",
      "\n",
      "Program to_execute.py executed successfully.\n",
      "Output: Saved the Pytket circuit to /workspace/to_execute_qc_pytket.qasm\n",
      "Saved the Qiskit circuit to /workspace/to_execute_qc_qiskit.qasm\n",
      "Exported QASM files: [('/workspace/to_execute_qc_pytket.qasm', 'export_to_qasm_with_pytket'), ('/workspace/to_execute_qc_qiskit.qasm', 'export_to_qasm_with_qiskit')]\n",
      "Log has been saved to /workspace/to_execute_71cc76_error.json\n",
      "\n",
      "Program to_execute.py executed successfully.\n",
      "New exception message: The circuits are not equivalent: /workspace/to_execute_qc_pytket.qasm, /workspace/to_execute_qc_qiskit.qasm\n",
      "Output: Saved the Pytket circuit to /workspace/to_execute_qc_pytket.qasm\n",
      "Saved the Qiskit circuit to /workspace/to_execute_qc_qiskit.qasm\n",
      "Exported QASM files: [('/workspace/to_execute_qc_pytket.qasm', 'export_to_qasm_with_pytket'), ('/workspace/to_execute_qc_qiskit.qasm', 'export_to_qasm_with_qiskit')]\n",
      "Log has been saved to /workspace/to_execute_947987_error.json\n",
      "\n",
      "Program to_execute.py executed successfully.\n",
      "New exception message: The circuits are not equivalent: /workspace/to_execute_qc_pytket.qasm, /workspace/to_execute_qc_qiskit.qasm\n",
      "Output: Saved the Pytket circuit to /workspace/to_execute_qc_pytket.qasm\n",
      "Saved the Qiskit circuit to /workspace/to_execute_qc_qiskit.qasm\n",
      "Exported QASM files: [('/workspace/to_execute_qc_pytket.qasm', 'export_to_qasm_with_pytket'), ('/workspace/to_execute_qc_qiskit.qasm', 'export_to_qasm_with_qiskit')]\n",
      "The circuits are equivalent: /workspace/to_execute_qc_pytket.qasm, /workspace/to_execute_qc_qiskit.qasm\n",
      "\n",
      "Program to_execute.py executed successfully.\n",
      "Output: Saved the Pytket circuit to /workspace/to_execute_qc_pytket.qasm\n",
      "Saved the Qiskit circuit to /workspace/to_execute_qc_qiskit.qasm\n",
      "Exported QASM files: [('/workspace/to_execute_qc_pytket.qasm', 'export_to_qasm_with_pytket'), ('/workspace/to_execute_qc_qiskit.qasm', 'export_to_qasm_with_qiskit')]\n",
      "The circuits are equivalent: /workspace/to_execute_qc_pytket.qasm, /workspace/to_execute_qc_qiskit.qasm\n",
      "\n",
      "Program to_execute.py executed successfully.\n",
      "Output: Saved the Pytket circuit to /workspace/to_execute_qc_pytket.qasm\n",
      "Saved the Qiskit circuit to /workspace/to_execute_qc_qiskit.qasm\n",
      "Exported QASM files: [('/workspace/to_execute_qc_pytket.qasm', 'export_to_qasm_with_pytket'), ('/workspace/to_execute_qc_qiskit.qasm', 'export_to_qasm_with_qiskit')]\n",
      "The circuits are equivalent: /workspace/to_execute_qc_pytket.qasm, /workspace/to_execute_qc_qiskit.qasm\n",
      "\n",
      "Program to_execute.py executed successfully.\n",
      "Output: Saved the Pytket circuit to /workspace/to_execute_qc_pytket.qasm\n",
      "Saved the Qiskit circuit to /workspace/to_execute_qc_qiskit.qasm\n",
      "Exported QASM files: [('/workspace/to_execute_qc_pytket.qasm', 'export_to_qasm_with_pytket'), ('/workspace/to_execute_qc_qiskit.qasm', 'export_to_qasm_with_qiskit')]\n",
      "Log has been saved to /workspace/to_execute_926ec7_error.json\n",
      "\n",
      "Program to_execute.py executed successfully.\n",
      "New exception message: The circuits are not equivalent: /workspace/to_execute_qc_pytket.qasm, /workspace/to_execute_qc_qiskit.qasm\n",
      "Output: Saved the Pytket circuit to /workspace/to_execute_qc_pytket.qasm\n",
      "Saved the Qiskit circuit to /workspace/to_execute_qc_qiskit.qasm\n",
      "Exported QASM files: [('/workspace/to_execute_qc_pytket.qasm', 'export_to_qasm_with_pytket'), ('/workspace/to_execute_qc_qiskit.qasm', 'export_to_qasm_with_qiskit')]\n",
      "The circuits are equivalent: /workspace/to_execute_qc_pytket.qasm, /workspace/to_execute_qc_qiskit.qasm\n",
      "\n",
      "Program to_execute.py executed successfully.\n",
      "Output: Saved the Pytket circuit to /workspace/to_execute_qc_pytket.qasm\n",
      "Saved the Qiskit circuit to /workspace/to_execute_qc_qiskit.qasm\n",
      "Exported QASM files: [('/workspace/to_execute_qc_pytket.qasm', 'export_to_qasm_with_pytket'), ('/workspace/to_execute_qc_qiskit.qasm', 'export_to_qasm_with_qiskit')]\n",
      "The circuits are equivalent: /workspace/to_execute_qc_pytket.qasm, /workspace/to_execute_qc_qiskit.qasm\n",
      "\n",
      "Program to_execute.py executed successfully.\n"
     ]
    },
    {
     "data": {
      "text/html": [
       "<pre style=\"white-space:pre;overflow-x:auto;line-height:normal;font-family:Menlo,'DejaVu Sans Mono',consolas,'Courier New',monospace\"><span style=\"color: #7fbfbf; text-decoration-color: #7fbfbf\">[16:54:31] </span><span style=\"color: #008000; text-decoration-color: #008000\">Minimized file saved as:</span>                                                        <a href=\"file:///home/paltenmo/projects/crossplatform/analysis_and_reporting/ddmin_target_file.py\" target=\"_blank\"><span style=\"color: #7f7f7f; text-decoration-color: #7f7f7f\">ddmin_target_file.py</span></a><span style=\"color: #7f7f7f; text-decoration-color: #7f7f7f\">:</span><a href=\"file:///home/paltenmo/projects/crossplatform/analysis_and_reporting/ddmin_target_file.py#240\" target=\"_blank\"><span style=\"color: #7f7f7f; text-decoration-color: #7f7f7f\">240</span></a>\n",
       "<span style=\"color: #7fbfbf; text-decoration-color: #7fbfbf\">           </span>..<span style=\"color: #800080; text-decoration-color: #800080\">/program_bank/v005/2024_10_22__22_32__qiskit/</span><span style=\"color: #ff00ff; text-decoration-color: #ff00ff\">qiskit_circuit_32q_10g_49850_79a</span> <span style=\"color: #7f7f7f; text-decoration-color: #7f7f7f\">                        </span>\n",
       "<span style=\"color: #7fbfbf; text-decoration-color: #7fbfbf\">           </span><span style=\"color: #ff00ff; text-decoration-color: #ff00ff\">6d5_cbe4b9_error_min.py</span>                                                         <span style=\"color: #7f7f7f; text-decoration-color: #7f7f7f\">                        </span>\n",
       "</pre>\n"
      ],
      "text/plain": [
       "\u001b[2;36m[16:54:31]\u001b[0m\u001b[2;36m \u001b[0m\u001b[32mMinimized file saved as:\u001b[0m                                                        \u001b]8;id=812146;file:///home/paltenmo/projects/crossplatform/analysis_and_reporting/ddmin_target_file.py\u001b\\\u001b[2mddmin_target_file.py\u001b[0m\u001b]8;;\u001b\\\u001b[2m:\u001b[0m\u001b]8;id=75077;file:///home/paltenmo/projects/crossplatform/analysis_and_reporting/ddmin_target_file.py#240\u001b\\\u001b[2m240\u001b[0m\u001b]8;;\u001b\\\n",
       "\u001b[2;36m           \u001b[0m..\u001b[35m/program_bank/v005/2024_10_22__22_32__qiskit/\u001b[0m\u001b[95mqiskit_circuit_32q_10g_49850_79a\u001b[0m \u001b[2m                        \u001b[0m\n",
       "\u001b[2;36m           \u001b[0m\u001b[95m6d5_cbe4b9_error_min.py\u001b[0m                                                         \u001b[2m                        \u001b[0m\n"
      ]
     },
     "metadata": {},
     "output_type": "display_data"
    },
    {
     "name": "stdout",
     "output_type": "stream",
     "text": [
      "Running minimization for ../program_bank/v005/2024_10_22__22_32__sample_errors_no_pennylane/qiskit_circuit_32q_10g_50051_ad703d_06b877_error.json\n"
     ]
    },
    {
     "data": {
      "text/html": [
       "<pre style=\"white-space:pre;overflow-x:auto;line-height:normal;font-family:Menlo,'DejaVu Sans Mono',consolas,'Courier New',monospace\"><span style=\"color: #7fbfbf; text-decoration-color: #7fbfbf\">           </span>Involved functions:                                                             <a href=\"file:///home/paltenmo/projects/crossplatform/analysis_and_reporting/ddmin_target_file.py\" target=\"_blank\"><span style=\"color: #7f7f7f; text-decoration-color: #7f7f7f\">ddmin_target_file.py</span></a><span style=\"color: #7f7f7f; text-decoration-color: #7f7f7f\">:</span><a href=\"file:///home/paltenmo/projects/crossplatform/analysis_and_reporting/ddmin_target_file.py#206\" target=\"_blank\"><span style=\"color: #7f7f7f; text-decoration-color: #7f7f7f\">206</span></a>\n",
       "</pre>\n"
      ],
      "text/plain": [
       "\u001b[2;36m          \u001b[0m\u001b[2;36m \u001b[0mInvolved functions:                                                             \u001b]8;id=426930;file:///home/paltenmo/projects/crossplatform/analysis_and_reporting/ddmin_target_file.py\u001b\\\u001b[2mddmin_target_file.py\u001b[0m\u001b]8;;\u001b\\\u001b[2m:\u001b[0m\u001b]8;id=276201;file:///home/paltenmo/projects/crossplatform/analysis_and_reporting/ddmin_target_file.py#206\u001b\\\u001b[2m206\u001b[0m\u001b]8;;\u001b\\\n"
      ]
     },
     "metadata": {},
     "output_type": "display_data"
    },
    {
     "data": {
      "text/html": [
       "<pre style=\"white-space:pre;overflow-x:auto;line-height:normal;font-family:Menlo,'DejaVu Sans Mono',consolas,'Courier New',monospace\"><span style=\"color: #7fbfbf; text-decoration-color: #7fbfbf\">           </span>  - compare_qasm_via_qcec                                                       <a href=\"file:///home/paltenmo/projects/crossplatform/analysis_and_reporting/ddmin_target_file.py\" target=\"_blank\"><span style=\"color: #7f7f7f; text-decoration-color: #7f7f7f\">ddmin_target_file.py</span></a><span style=\"color: #7f7f7f; text-decoration-color: #7f7f7f\">:</span><a href=\"file:///home/paltenmo/projects/crossplatform/analysis_and_reporting/ddmin_target_file.py#208\" target=\"_blank\"><span style=\"color: #7f7f7f; text-decoration-color: #7f7f7f\">208</span></a>\n",
       "</pre>\n"
      ],
      "text/plain": [
       "\u001b[2;36m          \u001b[0m\u001b[2;36m \u001b[0m  - compare_qasm_via_qcec                                                       \u001b]8;id=231015;file:///home/paltenmo/projects/crossplatform/analysis_and_reporting/ddmin_target_file.py\u001b\\\u001b[2mddmin_target_file.py\u001b[0m\u001b]8;;\u001b\\\u001b[2m:\u001b[0m\u001b]8;id=37795;file:///home/paltenmo/projects/crossplatform/analysis_and_reporting/ddmin_target_file.py#208\u001b\\\u001b[2m208\u001b[0m\u001b]8;;\u001b\\\n"
      ]
     },
     "metadata": {},
     "output_type": "display_data"
    },
    {
     "data": {
      "text/html": [
       "<pre style=\"white-space:pre;overflow-x:auto;line-height:normal;font-family:Menlo,'DejaVu Sans Mono',consolas,'Courier New',monospace\"><span style=\"color: #7fbfbf; text-decoration-color: #7fbfbf\">           </span>  - export_to_qasm_with_pytket                                                  <a href=\"file:///home/paltenmo/projects/crossplatform/analysis_and_reporting/ddmin_target_file.py\" target=\"_blank\"><span style=\"color: #7f7f7f; text-decoration-color: #7f7f7f\">ddmin_target_file.py</span></a><span style=\"color: #7f7f7f; text-decoration-color: #7f7f7f\">:</span><a href=\"file:///home/paltenmo/projects/crossplatform/analysis_and_reporting/ddmin_target_file.py#208\" target=\"_blank\"><span style=\"color: #7f7f7f; text-decoration-color: #7f7f7f\">208</span></a>\n",
       "</pre>\n"
      ],
      "text/plain": [
       "\u001b[2;36m          \u001b[0m\u001b[2;36m \u001b[0m  - export_to_qasm_with_pytket                                                  \u001b]8;id=601094;file:///home/paltenmo/projects/crossplatform/analysis_and_reporting/ddmin_target_file.py\u001b\\\u001b[2mddmin_target_file.py\u001b[0m\u001b]8;;\u001b\\\u001b[2m:\u001b[0m\u001b]8;id=630200;file:///home/paltenmo/projects/crossplatform/analysis_and_reporting/ddmin_target_file.py#208\u001b\\\u001b[2m208\u001b[0m\u001b]8;;\u001b\\\n"
      ]
     },
     "metadata": {},
     "output_type": "display_data"
    },
    {
     "data": {
      "text/html": [
       "<pre style=\"white-space:pre;overflow-x:auto;line-height:normal;font-family:Menlo,'DejaVu Sans Mono',consolas,'Courier New',monospace\"><span style=\"color: #7fbfbf; text-decoration-color: #7fbfbf\">           </span>  - export_to_qasm_with_qiskit                                                  <a href=\"file:///home/paltenmo/projects/crossplatform/analysis_and_reporting/ddmin_target_file.py\" target=\"_blank\"><span style=\"color: #7f7f7f; text-decoration-color: #7f7f7f\">ddmin_target_file.py</span></a><span style=\"color: #7f7f7f; text-decoration-color: #7f7f7f\">:</span><a href=\"file:///home/paltenmo/projects/crossplatform/analysis_and_reporting/ddmin_target_file.py#208\" target=\"_blank\"><span style=\"color: #7f7f7f; text-decoration-color: #7f7f7f\">208</span></a>\n",
       "</pre>\n"
      ],
      "text/plain": [
       "\u001b[2;36m          \u001b[0m\u001b[2;36m \u001b[0m  - export_to_qasm_with_qiskit                                                  \u001b]8;id=842522;file:///home/paltenmo/projects/crossplatform/analysis_and_reporting/ddmin_target_file.py\u001b\\\u001b[2mddmin_target_file.py\u001b[0m\u001b]8;;\u001b\\\u001b[2m:\u001b[0m\u001b]8;id=484378;file:///home/paltenmo/projects/crossplatform/analysis_and_reporting/ddmin_target_file.py#208\u001b\\\u001b[2m208\u001b[0m\u001b]8;;\u001b\\\n"
      ]
     },
     "metadata": {},
     "output_type": "display_data"
    },
    {
     "name": "stdout",
     "output_type": "stream",
     "text": [
      "Output: Saved the Pytket circuit to /workspace/to_execute_qc_pytket.qasm\n",
      "Saved the Qiskit circuit to /workspace/to_execute_qc_qiskit.qasm\n",
      "Exported QASM files: [('/workspace/to_execute_qc_pytket.qasm', 'export_to_qasm_with_pytket'), ('/workspace/to_execute_qc_qiskit.qasm', 'export_to_qasm_with_qiskit')]\n",
      "The circuits are equivalent: /workspace/to_execute_qc_pytket.qasm, /workspace/to_execute_qc_qiskit.qasm\n",
      "\n",
      "Program to_execute.py executed successfully.\n",
      "Output: Saved the Pytket circuit to /workspace/to_execute_qc_pytket.qasm\n",
      "Saved the Qiskit circuit to /workspace/to_execute_qc_qiskit.qasm\n",
      "Exported QASM files: [('/workspace/to_execute_qc_pytket.qasm', 'export_to_qasm_with_pytket'), ('/workspace/to_execute_qc_qiskit.qasm', 'export_to_qasm_with_qiskit')]\n",
      "Log has been saved to /workspace/to_execute_0194e4_error.json\n",
      "\n",
      "Program to_execute.py executed successfully.\n",
      "New exception message: The circuits are not equivalent: /workspace/to_execute_qc_pytket.qasm, /workspace/to_execute_qc_qiskit.qasm\n",
      "Output: Saved the Pytket circuit to /workspace/to_execute_qc_pytket.qasm\n",
      "Saved the Qiskit circuit to /workspace/to_execute_qc_qiskit.qasm\n",
      "Exported QASM files: [('/workspace/to_execute_qc_pytket.qasm', 'export_to_qasm_with_pytket'), ('/workspace/to_execute_qc_qiskit.qasm', 'export_to_qasm_with_qiskit')]\n",
      "Log has been saved to /workspace/to_execute_643235_error.json\n",
      "\n",
      "Program to_execute.py executed successfully.\n",
      "New exception message: The circuits are not equivalent: /workspace/to_execute_qc_pytket.qasm, /workspace/to_execute_qc_qiskit.qasm\n",
      "Output: Saved the Pytket circuit to /workspace/to_execute_qc_pytket.qasm\n",
      "Saved the Qiskit circuit to /workspace/to_execute_qc_qiskit.qasm\n",
      "Exported QASM files: [('/workspace/to_execute_qc_pytket.qasm', 'export_to_qasm_with_pytket'), ('/workspace/to_execute_qc_qiskit.qasm', 'export_to_qasm_with_qiskit')]\n",
      "The circuits are equivalent: /workspace/to_execute_qc_pytket.qasm, /workspace/to_execute_qc_qiskit.qasm\n",
      "\n",
      "Program to_execute.py executed successfully.\n",
      "Output: Saved the Pytket circuit to /workspace/to_execute_qc_pytket.qasm\n",
      "Saved the Qiskit circuit to /workspace/to_execute_qc_qiskit.qasm\n",
      "Exported QASM files: [('/workspace/to_execute_qc_pytket.qasm', 'export_to_qasm_with_pytket'), ('/workspace/to_execute_qc_qiskit.qasm', 'export_to_qasm_with_qiskit')]\n",
      "Log has been saved to /workspace/to_execute_35a2e2_error.json\n",
      "\n",
      "Program to_execute.py executed successfully.\n",
      "New exception message: The circuits are not equivalent: /workspace/to_execute_qc_pytket.qasm, /workspace/to_execute_qc_qiskit.qasm\n",
      "Output: Saved the Pytket circuit to /workspace/to_execute_qc_pytket.qasm\n",
      "Saved the Qiskit circuit to /workspace/to_execute_qc_qiskit.qasm\n",
      "Exported QASM files: [('/workspace/to_execute_qc_pytket.qasm', 'export_to_qasm_with_pytket'), ('/workspace/to_execute_qc_qiskit.qasm', 'export_to_qasm_with_qiskit')]\n",
      "The circuits are equivalent: /workspace/to_execute_qc_pytket.qasm, /workspace/to_execute_qc_qiskit.qasm\n",
      "\n",
      "Program to_execute.py executed successfully.\n",
      "Output: Saved the Pytket circuit to /workspace/to_execute_qc_pytket.qasm\n",
      "Saved the Qiskit circuit to /workspace/to_execute_qc_qiskit.qasm\n",
      "Exported QASM files: [('/workspace/to_execute_qc_pytket.qasm', 'export_to_qasm_with_pytket'), ('/workspace/to_execute_qc_qiskit.qasm', 'export_to_qasm_with_qiskit')]\n",
      "The circuits are equivalent: /workspace/to_execute_qc_pytket.qasm, /workspace/to_execute_qc_qiskit.qasm\n",
      "\n",
      "Program to_execute.py executed successfully.\n",
      "Output: Saved the Pytket circuit to /workspace/to_execute_qc_pytket.qasm\n",
      "Saved the Qiskit circuit to /workspace/to_execute_qc_qiskit.qasm\n",
      "Exported QASM files: [('/workspace/to_execute_qc_pytket.qasm', 'export_to_qasm_with_pytket'), ('/workspace/to_execute_qc_qiskit.qasm', 'export_to_qasm_with_qiskit')]\n",
      "The circuits are equivalent: /workspace/to_execute_qc_pytket.qasm, /workspace/to_execute_qc_qiskit.qasm\n",
      "\n",
      "Program to_execute.py executed successfully.\n",
      "Output: Saved the Pytket circuit to /workspace/to_execute_qc_pytket.qasm\n",
      "Saved the Qiskit circuit to /workspace/to_execute_qc_qiskit.qasm\n",
      "Exported QASM files: [('/workspace/to_execute_qc_pytket.qasm', 'export_to_qasm_with_pytket'), ('/workspace/to_execute_qc_qiskit.qasm', 'export_to_qasm_with_qiskit')]\n",
      "Log has been saved to /workspace/to_execute_5a994c_error.json\n",
      "\n",
      "Program to_execute.py executed successfully.\n",
      "New exception message: The circuits are not equivalent: /workspace/to_execute_qc_pytket.qasm, /workspace/to_execute_qc_qiskit.qasm\n",
      "Output: Saved the Pytket circuit to /workspace/to_execute_qc_pytket.qasm\n",
      "Saved the Qiskit circuit to /workspace/to_execute_qc_qiskit.qasm\n",
      "Exported QASM files: [('/workspace/to_execute_qc_pytket.qasm', 'export_to_qasm_with_pytket'), ('/workspace/to_execute_qc_qiskit.qasm', 'export_to_qasm_with_qiskit')]\n",
      "The circuits are equivalent: /workspace/to_execute_qc_pytket.qasm, /workspace/to_execute_qc_qiskit.qasm\n",
      "\n",
      "Program to_execute.py executed successfully.\n",
      "Output: Saved the Pytket circuit to /workspace/to_execute_qc_pytket.qasm\n",
      "Saved the Qiskit circuit to /workspace/to_execute_qc_qiskit.qasm\n",
      "Exported QASM files: [('/workspace/to_execute_qc_pytket.qasm', 'export_to_qasm_with_pytket'), ('/workspace/to_execute_qc_qiskit.qasm', 'export_to_qasm_with_qiskit')]\n",
      "The circuits are equivalent: /workspace/to_execute_qc_pytket.qasm, /workspace/to_execute_qc_qiskit.qasm\n",
      "\n",
      "Program to_execute.py executed successfully.\n"
     ]
    },
    {
     "data": {
      "text/html": [
       "<pre style=\"white-space:pre;overflow-x:auto;line-height:normal;font-family:Menlo,'DejaVu Sans Mono',consolas,'Courier New',monospace\"><span style=\"color: #7fbfbf; text-decoration-color: #7fbfbf\">[16:55:10] </span><span style=\"color: #008000; text-decoration-color: #008000\">Minimized file saved as:</span>                                                        <a href=\"file:///home/paltenmo/projects/crossplatform/analysis_and_reporting/ddmin_target_file.py\" target=\"_blank\"><span style=\"color: #7f7f7f; text-decoration-color: #7f7f7f\">ddmin_target_file.py</span></a><span style=\"color: #7f7f7f; text-decoration-color: #7f7f7f\">:</span><a href=\"file:///home/paltenmo/projects/crossplatform/analysis_and_reporting/ddmin_target_file.py#240\" target=\"_blank\"><span style=\"color: #7f7f7f; text-decoration-color: #7f7f7f\">240</span></a>\n",
       "<span style=\"color: #7fbfbf; text-decoration-color: #7fbfbf\">           </span>..<span style=\"color: #800080; text-decoration-color: #800080\">/program_bank/v005/2024_10_22__22_32__qiskit/</span><span style=\"color: #ff00ff; text-decoration-color: #ff00ff\">qiskit_circuit_32q_10g_50051_ad7</span> <span style=\"color: #7f7f7f; text-decoration-color: #7f7f7f\">                        </span>\n",
       "<span style=\"color: #7fbfbf; text-decoration-color: #7fbfbf\">           </span><span style=\"color: #ff00ff; text-decoration-color: #ff00ff\">03d_06b877_error_min.py</span>                                                         <span style=\"color: #7f7f7f; text-decoration-color: #7f7f7f\">                        </span>\n",
       "</pre>\n"
      ],
      "text/plain": [
       "\u001b[2;36m[16:55:10]\u001b[0m\u001b[2;36m \u001b[0m\u001b[32mMinimized file saved as:\u001b[0m                                                        \u001b]8;id=793192;file:///home/paltenmo/projects/crossplatform/analysis_and_reporting/ddmin_target_file.py\u001b\\\u001b[2mddmin_target_file.py\u001b[0m\u001b]8;;\u001b\\\u001b[2m:\u001b[0m\u001b]8;id=276202;file:///home/paltenmo/projects/crossplatform/analysis_and_reporting/ddmin_target_file.py#240\u001b\\\u001b[2m240\u001b[0m\u001b]8;;\u001b\\\n",
       "\u001b[2;36m           \u001b[0m..\u001b[35m/program_bank/v005/2024_10_22__22_32__qiskit/\u001b[0m\u001b[95mqiskit_circuit_32q_10g_50051_ad7\u001b[0m \u001b[2m                        \u001b[0m\n",
       "\u001b[2;36m           \u001b[0m\u001b[95m03d_06b877_error_min.py\u001b[0m                                                         \u001b[2m                        \u001b[0m\n"
      ]
     },
     "metadata": {},
     "output_type": "display_data"
    },
    {
     "name": "stdout",
     "output_type": "stream",
     "text": [
      "Running minimization for ../program_bank/v005/2024_10_22__22_32__sample_errors_no_pennylane/qiskit_circuit_32q_10g_3311_12105c_ac774b_error.json\n"
     ]
    },
    {
     "data": {
      "text/html": [
       "<pre style=\"white-space:pre;overflow-x:auto;line-height:normal;font-family:Menlo,'DejaVu Sans Mono',consolas,'Courier New',monospace\"><span style=\"color: #7fbfbf; text-decoration-color: #7fbfbf\">           </span>Involved functions:                                                             <a href=\"file:///home/paltenmo/projects/crossplatform/analysis_and_reporting/ddmin_target_file.py\" target=\"_blank\"><span style=\"color: #7f7f7f; text-decoration-color: #7f7f7f\">ddmin_target_file.py</span></a><span style=\"color: #7f7f7f; text-decoration-color: #7f7f7f\">:</span><a href=\"file:///home/paltenmo/projects/crossplatform/analysis_and_reporting/ddmin_target_file.py#206\" target=\"_blank\"><span style=\"color: #7f7f7f; text-decoration-color: #7f7f7f\">206</span></a>\n",
       "</pre>\n"
      ],
      "text/plain": [
       "\u001b[2;36m          \u001b[0m\u001b[2;36m \u001b[0mInvolved functions:                                                             \u001b]8;id=634939;file:///home/paltenmo/projects/crossplatform/analysis_and_reporting/ddmin_target_file.py\u001b\\\u001b[2mddmin_target_file.py\u001b[0m\u001b]8;;\u001b\\\u001b[2m:\u001b[0m\u001b]8;id=113218;file:///home/paltenmo/projects/crossplatform/analysis_and_reporting/ddmin_target_file.py#206\u001b\\\u001b[2m206\u001b[0m\u001b]8;;\u001b\\\n"
      ]
     },
     "metadata": {},
     "output_type": "display_data"
    },
    {
     "data": {
      "text/html": [
       "<pre style=\"white-space:pre;overflow-x:auto;line-height:normal;font-family:Menlo,'DejaVu Sans Mono',consolas,'Courier New',monospace\"><span style=\"color: #7fbfbf; text-decoration-color: #7fbfbf\">           </span>  - compare_qasm_via_qcec                                                       <a href=\"file:///home/paltenmo/projects/crossplatform/analysis_and_reporting/ddmin_target_file.py\" target=\"_blank\"><span style=\"color: #7f7f7f; text-decoration-color: #7f7f7f\">ddmin_target_file.py</span></a><span style=\"color: #7f7f7f; text-decoration-color: #7f7f7f\">:</span><a href=\"file:///home/paltenmo/projects/crossplatform/analysis_and_reporting/ddmin_target_file.py#208\" target=\"_blank\"><span style=\"color: #7f7f7f; text-decoration-color: #7f7f7f\">208</span></a>\n",
       "</pre>\n"
      ],
      "text/plain": [
       "\u001b[2;36m          \u001b[0m\u001b[2;36m \u001b[0m  - compare_qasm_via_qcec                                                       \u001b]8;id=841619;file:///home/paltenmo/projects/crossplatform/analysis_and_reporting/ddmin_target_file.py\u001b\\\u001b[2mddmin_target_file.py\u001b[0m\u001b]8;;\u001b\\\u001b[2m:\u001b[0m\u001b]8;id=839481;file:///home/paltenmo/projects/crossplatform/analysis_and_reporting/ddmin_target_file.py#208\u001b\\\u001b[2m208\u001b[0m\u001b]8;;\u001b\\\n"
      ]
     },
     "metadata": {},
     "output_type": "display_data"
    },
    {
     "data": {
      "text/html": [
       "<pre style=\"white-space:pre;overflow-x:auto;line-height:normal;font-family:Menlo,'DejaVu Sans Mono',consolas,'Courier New',monospace\"><span style=\"color: #7fbfbf; text-decoration-color: #7fbfbf\">           </span>  - export_to_qasm_with_pytket                                                  <a href=\"file:///home/paltenmo/projects/crossplatform/analysis_and_reporting/ddmin_target_file.py\" target=\"_blank\"><span style=\"color: #7f7f7f; text-decoration-color: #7f7f7f\">ddmin_target_file.py</span></a><span style=\"color: #7f7f7f; text-decoration-color: #7f7f7f\">:</span><a href=\"file:///home/paltenmo/projects/crossplatform/analysis_and_reporting/ddmin_target_file.py#208\" target=\"_blank\"><span style=\"color: #7f7f7f; text-decoration-color: #7f7f7f\">208</span></a>\n",
       "</pre>\n"
      ],
      "text/plain": [
       "\u001b[2;36m          \u001b[0m\u001b[2;36m \u001b[0m  - export_to_qasm_with_pytket                                                  \u001b]8;id=617634;file:///home/paltenmo/projects/crossplatform/analysis_and_reporting/ddmin_target_file.py\u001b\\\u001b[2mddmin_target_file.py\u001b[0m\u001b]8;;\u001b\\\u001b[2m:\u001b[0m\u001b]8;id=185827;file:///home/paltenmo/projects/crossplatform/analysis_and_reporting/ddmin_target_file.py#208\u001b\\\u001b[2m208\u001b[0m\u001b]8;;\u001b\\\n"
      ]
     },
     "metadata": {},
     "output_type": "display_data"
    },
    {
     "data": {
      "text/html": [
       "<pre style=\"white-space:pre;overflow-x:auto;line-height:normal;font-family:Menlo,'DejaVu Sans Mono',consolas,'Courier New',monospace\"><span style=\"color: #7fbfbf; text-decoration-color: #7fbfbf\">           </span>  - export_to_qasm_with_qiskit                                                  <a href=\"file:///home/paltenmo/projects/crossplatform/analysis_and_reporting/ddmin_target_file.py\" target=\"_blank\"><span style=\"color: #7f7f7f; text-decoration-color: #7f7f7f\">ddmin_target_file.py</span></a><span style=\"color: #7f7f7f; text-decoration-color: #7f7f7f\">:</span><a href=\"file:///home/paltenmo/projects/crossplatform/analysis_and_reporting/ddmin_target_file.py#208\" target=\"_blank\"><span style=\"color: #7f7f7f; text-decoration-color: #7f7f7f\">208</span></a>\n",
       "</pre>\n"
      ],
      "text/plain": [
       "\u001b[2;36m          \u001b[0m\u001b[2;36m \u001b[0m  - export_to_qasm_with_qiskit                                                  \u001b]8;id=859633;file:///home/paltenmo/projects/crossplatform/analysis_and_reporting/ddmin_target_file.py\u001b\\\u001b[2mddmin_target_file.py\u001b[0m\u001b]8;;\u001b\\\u001b[2m:\u001b[0m\u001b]8;id=575699;file:///home/paltenmo/projects/crossplatform/analysis_and_reporting/ddmin_target_file.py#208\u001b\\\u001b[2m208\u001b[0m\u001b]8;;\u001b\\\n"
      ]
     },
     "metadata": {},
     "output_type": "display_data"
    },
    {
     "name": "stdout",
     "output_type": "stream",
     "text": [
      "Output: Saved the Pytket circuit to /workspace/to_execute_qc_pytket.qasm\n",
      "Saved the Qiskit circuit to /workspace/to_execute_qc_qiskit.qasm\n",
      "Exported QASM files: [('/workspace/to_execute_qc_pytket.qasm', 'export_to_qasm_with_pytket'), ('/workspace/to_execute_qc_qiskit.qasm', 'export_to_qasm_with_qiskit')]\n",
      "The circuits are equivalent: /workspace/to_execute_qc_pytket.qasm, /workspace/to_execute_qc_qiskit.qasm\n",
      "\n",
      "Program to_execute.py executed successfully.\n",
      "Output: Saved the Pytket circuit to /workspace/to_execute_qc_pytket.qasm\n",
      "Saved the Qiskit circuit to /workspace/to_execute_qc_qiskit.qasm\n",
      "Exported QASM files: [('/workspace/to_execute_qc_pytket.qasm', 'export_to_qasm_with_pytket'), ('/workspace/to_execute_qc_qiskit.qasm', 'export_to_qasm_with_qiskit')]\n",
      "Log has been saved to /workspace/to_execute_b3d19a_error.json\n",
      "\n",
      "Program to_execute.py executed successfully.\n",
      "New exception message: The circuits are not equivalent: /workspace/to_execute_qc_pytket.qasm, /workspace/to_execute_qc_qiskit.qasm\n",
      "Output: Saved the Pytket circuit to /workspace/to_execute_qc_pytket.qasm\n",
      "Saved the Qiskit circuit to /workspace/to_execute_qc_qiskit.qasm\n",
      "Exported QASM files: [('/workspace/to_execute_qc_pytket.qasm', 'export_to_qasm_with_pytket'), ('/workspace/to_execute_qc_qiskit.qasm', 'export_to_qasm_with_qiskit')]\n",
      "The circuits are equivalent: /workspace/to_execute_qc_pytket.qasm, /workspace/to_execute_qc_qiskit.qasm\n",
      "\n",
      "Program to_execute.py executed successfully.\n",
      "Output: Saved the Pytket circuit to /workspace/to_execute_qc_pytket.qasm\n",
      "Saved the Qiskit circuit to /workspace/to_execute_qc_qiskit.qasm\n",
      "Exported QASM files: [('/workspace/to_execute_qc_pytket.qasm', 'export_to_qasm_with_pytket'), ('/workspace/to_execute_qc_qiskit.qasm', 'export_to_qasm_with_qiskit')]\n",
      "Log has been saved to /workspace/to_execute_76efd4_error.json\n",
      "\n",
      "Program to_execute.py executed successfully.\n",
      "New exception message: The circuits are not equivalent: /workspace/to_execute_qc_pytket.qasm, /workspace/to_execute_qc_qiskit.qasm\n",
      "Output: Saved the Pytket circuit to /workspace/to_execute_qc_pytket.qasm\n",
      "Saved the Qiskit circuit to /workspace/to_execute_qc_qiskit.qasm\n",
      "Exported QASM files: [('/workspace/to_execute_qc_pytket.qasm', 'export_to_qasm_with_pytket'), ('/workspace/to_execute_qc_qiskit.qasm', 'export_to_qasm_with_qiskit')]\n",
      "The circuits are equivalent: /workspace/to_execute_qc_pytket.qasm, /workspace/to_execute_qc_qiskit.qasm\n",
      "\n",
      "Program to_execute.py executed successfully.\n",
      "Output: Saved the Pytket circuit to /workspace/to_execute_qc_pytket.qasm\n",
      "Saved the Qiskit circuit to /workspace/to_execute_qc_qiskit.qasm\n",
      "Exported QASM files: [('/workspace/to_execute_qc_pytket.qasm', 'export_to_qasm_with_pytket'), ('/workspace/to_execute_qc_qiskit.qasm', 'export_to_qasm_with_qiskit')]\n",
      "Log has been saved to /workspace/to_execute_331162_error.json\n",
      "\n",
      "Program to_execute.py executed successfully.\n",
      "New exception message: The circuits are not equivalent: /workspace/to_execute_qc_pytket.qasm, /workspace/to_execute_qc_qiskit.qasm\n",
      "Output: Saved the Pytket circuit to /workspace/to_execute_qc_pytket.qasm\n",
      "Saved the Qiskit circuit to /workspace/to_execute_qc_qiskit.qasm\n",
      "Exported QASM files: [('/workspace/to_execute_qc_pytket.qasm', 'export_to_qasm_with_pytket'), ('/workspace/to_execute_qc_qiskit.qasm', 'export_to_qasm_with_qiskit')]\n",
      "The circuits are equivalent: /workspace/to_execute_qc_pytket.qasm, /workspace/to_execute_qc_qiskit.qasm\n",
      "\n",
      "Program to_execute.py executed successfully.\n",
      "Output: Saved the Pytket circuit to /workspace/to_execute_qc_pytket.qasm\n",
      "Saved the Qiskit circuit to /workspace/to_execute_qc_qiskit.qasm\n",
      "Exported QASM files: [('/workspace/to_execute_qc_pytket.qasm', 'export_to_qasm_with_pytket'), ('/workspace/to_execute_qc_qiskit.qasm', 'export_to_qasm_with_qiskit')]\n",
      "Log has been saved to /workspace/to_execute_5bb535_error.json\n",
      "\n",
      "Program to_execute.py executed successfully.\n",
      "New exception message: The circuits are not equivalent: /workspace/to_execute_qc_pytket.qasm, /workspace/to_execute_qc_qiskit.qasm\n",
      "Output: Saved the Pytket circuit to /workspace/to_execute_qc_pytket.qasm\n",
      "Saved the Qiskit circuit to /workspace/to_execute_qc_qiskit.qasm\n",
      "Exported QASM files: [('/workspace/to_execute_qc_pytket.qasm', 'export_to_qasm_with_pytket'), ('/workspace/to_execute_qc_qiskit.qasm', 'export_to_qasm_with_qiskit')]\n",
      "The circuits are equivalent: /workspace/to_execute_qc_pytket.qasm, /workspace/to_execute_qc_qiskit.qasm\n",
      "\n",
      "Program to_execute.py executed successfully.\n",
      "Output: Saved the Pytket circuit to /workspace/to_execute_qc_pytket.qasm\n",
      "Saved the Qiskit circuit to /workspace/to_execute_qc_qiskit.qasm\n",
      "Exported QASM files: [('/workspace/to_execute_qc_pytket.qasm', 'export_to_qasm_with_pytket'), ('/workspace/to_execute_qc_qiskit.qasm', 'export_to_qasm_with_qiskit')]\n",
      "The circuits are equivalent: /workspace/to_execute_qc_pytket.qasm, /workspace/to_execute_qc_qiskit.qasm\n",
      "\n",
      "Program to_execute.py executed successfully.\n"
     ]
    },
    {
     "data": {
      "text/html": [
       "<pre style=\"white-space:pre;overflow-x:auto;line-height:normal;font-family:Menlo,'DejaVu Sans Mono',consolas,'Courier New',monospace\"><span style=\"color: #7fbfbf; text-decoration-color: #7fbfbf\">[16:55:46] </span><span style=\"color: #008000; text-decoration-color: #008000\">Minimized file saved as:</span>                                                        <a href=\"file:///home/paltenmo/projects/crossplatform/analysis_and_reporting/ddmin_target_file.py\" target=\"_blank\"><span style=\"color: #7f7f7f; text-decoration-color: #7f7f7f\">ddmin_target_file.py</span></a><span style=\"color: #7f7f7f; text-decoration-color: #7f7f7f\">:</span><a href=\"file:///home/paltenmo/projects/crossplatform/analysis_and_reporting/ddmin_target_file.py#240\" target=\"_blank\"><span style=\"color: #7f7f7f; text-decoration-color: #7f7f7f\">240</span></a>\n",
       "<span style=\"color: #7fbfbf; text-decoration-color: #7fbfbf\">           </span>..<span style=\"color: #800080; text-decoration-color: #800080\">/program_bank/v005/2024_10_22__22_32__qiskit/</span><span style=\"color: #ff00ff; text-decoration-color: #ff00ff\">qiskit_circuit_32q_10g_3311_1210</span> <span style=\"color: #7f7f7f; text-decoration-color: #7f7f7f\">                        </span>\n",
       "<span style=\"color: #7fbfbf; text-decoration-color: #7fbfbf\">           </span><span style=\"color: #ff00ff; text-decoration-color: #ff00ff\">5c_ac774b_error_min.py</span>                                                          <span style=\"color: #7f7f7f; text-decoration-color: #7f7f7f\">                        </span>\n",
       "</pre>\n"
      ],
      "text/plain": [
       "\u001b[2;36m[16:55:46]\u001b[0m\u001b[2;36m \u001b[0m\u001b[32mMinimized file saved as:\u001b[0m                                                        \u001b]8;id=121983;file:///home/paltenmo/projects/crossplatform/analysis_and_reporting/ddmin_target_file.py\u001b\\\u001b[2mddmin_target_file.py\u001b[0m\u001b]8;;\u001b\\\u001b[2m:\u001b[0m\u001b]8;id=190083;file:///home/paltenmo/projects/crossplatform/analysis_and_reporting/ddmin_target_file.py#240\u001b\\\u001b[2m240\u001b[0m\u001b]8;;\u001b\\\n",
       "\u001b[2;36m           \u001b[0m..\u001b[35m/program_bank/v005/2024_10_22__22_32__qiskit/\u001b[0m\u001b[95mqiskit_circuit_32q_10g_3311_1210\u001b[0m \u001b[2m                        \u001b[0m\n",
       "\u001b[2;36m           \u001b[0m\u001b[95m5c_ac774b_error_min.py\u001b[0m                                                          \u001b[2m                        \u001b[0m\n"
      ]
     },
     "metadata": {},
     "output_type": "display_data"
    }
   ],
   "source": [
    "from analysis_and_reporting.ddmin_target_file import minimize_instructions\n",
    "from pathlib import Path\n",
    "\n",
    "error_paths_in_sample_folder = [\n",
    "    os.path.join(DIR_SAMPLE_ERRORS, f)\n",
    "    for f in os.listdir(DIR_SAMPLE_ERRORS)\n",
    "    if re.match(r'.*_error\\.json$', f)\n",
    "]\n",
    "\n",
    "# run minimization command:\n",
    "# python -m analysis_and_reporting.ddmin_target_file --input_folder {folder_with_files} --path_to_error {path_to_json_file} --clue_message 'The circuits are not equivalent'\n",
    "\n",
    "n_error_files = len(error_paths_in_sample_folder)\n",
    "print(f\"Error paths in sample folder ({n_error_files}):\")\n",
    "for error_path in error_paths_in_sample_folder:\n",
    "    print(error_path)\n",
    "\n",
    "# add the parent folder to the path\n",
    "sys.path.append(\"..\")\n",
    "\n",
    "for error_path in error_paths_in_sample_folder:\n",
    "    path_minimized_file = error_path.replace(\"_error.json\", \"_error_min.py\")\n",
    "    # check if the same file exists in the sample folder with extension _min.py\n",
    "    # if yes then skip\n",
    "    if os.path.exists(path_minimized_file):\n",
    "        print(f\"Skipping minimization for {error_path}\")\n",
    "        continue\n",
    "\n",
    "    print(f\"Running minimization for {error_path}\")\n",
    "    minimize_instructions(\n",
    "        input_folder=Path(DIR_PROGRAM_BANK),\n",
    "        path_to_error=Path(error_path),\n",
    "        clue_message='The circuits are not equivalent'\n",
    "    )\n",
    "\n",
    "    # copy the minimized file from DIR_PROGRAM_BANK to the sample folder\n",
    "    name_minimized_file = os.path.basename(path_minimized_file)\n",
    "    shutil.copy(\n",
    "        os.path.join(DIR_PROGRAM_BANK, name_minimized_file),\n",
    "        path_minimized_file\n",
    "    )"
   ]
  },
  {
   "cell_type": "code",
   "execution_count": 12,
   "metadata": {},
   "outputs": [],
   "source": [
    "# # copy all files ending with _min.py in the program bank to the sample folder\n",
    "# min_files = [f for f in os.listdir(DIR_PROGRAM_BANK) if f.endswith(\"_min.py\")]\n",
    "# for file_path in min_files:\n",
    "#     shutil.copy(os.path.join(DIR_PROGRAM_BANK, file_path), DIR_SAMPLE_ERRORS)\n",
    "#     print(f\"Copying {file_path} to {DIR_SAMPLE_ERRORS}\")"
   ]
  },
  {
   "cell_type": "code",
   "execution_count": 15,
   "metadata": {},
   "outputs": [
    {
     "ename": "FileNotFoundError",
     "evalue": "[Errno 2] No such file or directory: '../program_bank/v005/2024_10_22__22_32__sample_errors/qiskit_circuit_32q_10g_49802_899c61_524cf8_error_min.py'",
     "output_type": "error",
     "traceback": [
      "\u001b[0;31m---------------------------------------------------------------------------\u001b[0m",
      "\u001b[0;31mFileNotFoundError\u001b[0m                         Traceback (most recent call last)",
      "Cell \u001b[0;32mIn[15], line 16\u001b[0m\n\u001b[1;32m     12\u001b[0m         end \u001b[38;5;241m=\u001b[39m content\u001b[38;5;241m.\u001b[39mfind(\u001b[38;5;124m\"\u001b[39m\u001b[38;5;124mqc.measure\u001b[39m\u001b[38;5;124m\"\u001b[39m)\n\u001b[1;32m     13\u001b[0m         \u001b[38;5;28;01mreturn\u001b[39;00m content[start:end]\n\u001b[0;32m---> 16\u001b[0m df_errors_sample[\u001b[38;5;124m\"\u001b[39m\u001b[38;5;124messential_file_content\u001b[39m\u001b[38;5;124m\"\u001b[39m] \u001b[38;5;241m=\u001b[39m \u001b[43mdf_errors_sample\u001b[49m\u001b[43m[\u001b[49m\u001b[38;5;124;43m\"\u001b[39;49m\u001b[38;5;124;43merror_file\u001b[39;49m\u001b[38;5;124;43m\"\u001b[39;49m\u001b[43m]\u001b[49m\u001b[38;5;241;43m.\u001b[39;49m\u001b[43mapply\u001b[49m\u001b[43m(\u001b[49m\n\u001b[1;32m     17\u001b[0m \u001b[43m    \u001b[49m\u001b[38;5;28;43;01mlambda\u001b[39;49;00m\u001b[43m \u001b[49m\u001b[43mx\u001b[49m\u001b[43m:\u001b[49m\u001b[43m \u001b[49m\u001b[43mextract_essential_content\u001b[49m\u001b[43m(\u001b[49m\n\u001b[1;32m     18\u001b[0m \u001b[43m        \u001b[49m\u001b[43mos\u001b[49m\u001b[38;5;241;43m.\u001b[39;49m\u001b[43mpath\u001b[49m\u001b[38;5;241;43m.\u001b[39;49m\u001b[43mjoin\u001b[49m\u001b[43m(\u001b[49m\u001b[43mDIR_SAMPLE_ERRORS\u001b[49m\u001b[43m,\u001b[49m\u001b[43m \u001b[49m\u001b[43mx\u001b[49m\u001b[38;5;241;43m.\u001b[39;49m\u001b[43mreplace\u001b[49m\u001b[43m(\u001b[49m\u001b[38;5;124;43m\"\u001b[39;49m\u001b[38;5;124;43m_error.json\u001b[39;49m\u001b[38;5;124;43m\"\u001b[39;49m\u001b[43m,\u001b[49m\u001b[43m \u001b[49m\u001b[38;5;124;43m\"\u001b[39;49m\u001b[38;5;124;43m_error_min.py\u001b[39;49m\u001b[38;5;124;43m\"\u001b[39;49m\u001b[43m)\u001b[49m\u001b[43m)\u001b[49m\u001b[43m)\u001b[49m\u001b[43m)\u001b[49m\n\u001b[1;32m     19\u001b[0m \u001b[38;5;66;03m# keep only those without pennylane in the involeved_functions\u001b[39;00m\n\u001b[1;32m     20\u001b[0m \u001b[38;5;66;03m# cast the involved_functions to string\u001b[39;00m\n\u001b[1;32m     21\u001b[0m df_errors_sample[\u001b[38;5;124m'\u001b[39m\u001b[38;5;124minvolved_functions\u001b[39m\u001b[38;5;124m'\u001b[39m] \u001b[38;5;241m=\u001b[39m df_errors_sample[\u001b[38;5;124m'\u001b[39m\u001b[38;5;124minvolved_functions\u001b[39m\u001b[38;5;124m'\u001b[39m]\u001b[38;5;241m.\u001b[39mastype(\n\u001b[1;32m     22\u001b[0m     \u001b[38;5;28mstr\u001b[39m)\n",
      "File \u001b[0;32m~/.conda/envs/crosspl/lib/python3.10/site-packages/pandas/core/series.py:4924\u001b[0m, in \u001b[0;36mSeries.apply\u001b[0;34m(self, func, convert_dtype, args, by_row, **kwargs)\u001b[0m\n\u001b[1;32m   4789\u001b[0m \u001b[38;5;28;01mdef\u001b[39;00m \u001b[38;5;21mapply\u001b[39m(\n\u001b[1;32m   4790\u001b[0m     \u001b[38;5;28mself\u001b[39m,\n\u001b[1;32m   4791\u001b[0m     func: AggFuncType,\n\u001b[0;32m   (...)\u001b[0m\n\u001b[1;32m   4796\u001b[0m     \u001b[38;5;241m*\u001b[39m\u001b[38;5;241m*\u001b[39mkwargs,\n\u001b[1;32m   4797\u001b[0m ) \u001b[38;5;241m-\u001b[39m\u001b[38;5;241m>\u001b[39m DataFrame \u001b[38;5;241m|\u001b[39m Series:\n\u001b[1;32m   4798\u001b[0m \u001b[38;5;250m    \u001b[39m\u001b[38;5;124;03m\"\"\"\u001b[39;00m\n\u001b[1;32m   4799\u001b[0m \u001b[38;5;124;03m    Invoke function on values of Series.\u001b[39;00m\n\u001b[1;32m   4800\u001b[0m \n\u001b[0;32m   (...)\u001b[0m\n\u001b[1;32m   4915\u001b[0m \u001b[38;5;124;03m    dtype: float64\u001b[39;00m\n\u001b[1;32m   4916\u001b[0m \u001b[38;5;124;03m    \"\"\"\u001b[39;00m\n\u001b[1;32m   4917\u001b[0m     \u001b[38;5;28;01mreturn\u001b[39;00m \u001b[43mSeriesApply\u001b[49m\u001b[43m(\u001b[49m\n\u001b[1;32m   4918\u001b[0m \u001b[43m        \u001b[49m\u001b[38;5;28;43mself\u001b[39;49m\u001b[43m,\u001b[49m\n\u001b[1;32m   4919\u001b[0m \u001b[43m        \u001b[49m\u001b[43mfunc\u001b[49m\u001b[43m,\u001b[49m\n\u001b[1;32m   4920\u001b[0m \u001b[43m        \u001b[49m\u001b[43mconvert_dtype\u001b[49m\u001b[38;5;241;43m=\u001b[39;49m\u001b[43mconvert_dtype\u001b[49m\u001b[43m,\u001b[49m\n\u001b[1;32m   4921\u001b[0m \u001b[43m        \u001b[49m\u001b[43mby_row\u001b[49m\u001b[38;5;241;43m=\u001b[39;49m\u001b[43mby_row\u001b[49m\u001b[43m,\u001b[49m\n\u001b[1;32m   4922\u001b[0m \u001b[43m        \u001b[49m\u001b[43margs\u001b[49m\u001b[38;5;241;43m=\u001b[39;49m\u001b[43margs\u001b[49m\u001b[43m,\u001b[49m\n\u001b[1;32m   4923\u001b[0m \u001b[43m        \u001b[49m\u001b[43mkwargs\u001b[49m\u001b[38;5;241;43m=\u001b[39;49m\u001b[43mkwargs\u001b[49m\u001b[43m,\u001b[49m\n\u001b[0;32m-> 4924\u001b[0m \u001b[43m    \u001b[49m\u001b[43m)\u001b[49m\u001b[38;5;241;43m.\u001b[39;49m\u001b[43mapply\u001b[49m\u001b[43m(\u001b[49m\u001b[43m)\u001b[49m\n",
      "File \u001b[0;32m~/.conda/envs/crosspl/lib/python3.10/site-packages/pandas/core/apply.py:1427\u001b[0m, in \u001b[0;36mSeriesApply.apply\u001b[0;34m(self)\u001b[0m\n\u001b[1;32m   1424\u001b[0m     \u001b[38;5;28;01mreturn\u001b[39;00m \u001b[38;5;28mself\u001b[39m\u001b[38;5;241m.\u001b[39mapply_compat()\n\u001b[1;32m   1426\u001b[0m \u001b[38;5;66;03m# self.func is Callable\u001b[39;00m\n\u001b[0;32m-> 1427\u001b[0m \u001b[38;5;28;01mreturn\u001b[39;00m \u001b[38;5;28;43mself\u001b[39;49m\u001b[38;5;241;43m.\u001b[39;49m\u001b[43mapply_standard\u001b[49m\u001b[43m(\u001b[49m\u001b[43m)\u001b[49m\n",
      "File \u001b[0;32m~/.conda/envs/crosspl/lib/python3.10/site-packages/pandas/core/apply.py:1507\u001b[0m, in \u001b[0;36mSeriesApply.apply_standard\u001b[0;34m(self)\u001b[0m\n\u001b[1;32m   1501\u001b[0m \u001b[38;5;66;03m# row-wise access\u001b[39;00m\n\u001b[1;32m   1502\u001b[0m \u001b[38;5;66;03m# apply doesn't have a `na_action` keyword and for backward compat reasons\u001b[39;00m\n\u001b[1;32m   1503\u001b[0m \u001b[38;5;66;03m# we need to give `na_action=\"ignore\"` for categorical data.\u001b[39;00m\n\u001b[1;32m   1504\u001b[0m \u001b[38;5;66;03m# TODO: remove the `na_action=\"ignore\"` when that default has been changed in\u001b[39;00m\n\u001b[1;32m   1505\u001b[0m \u001b[38;5;66;03m#  Categorical (GH51645).\u001b[39;00m\n\u001b[1;32m   1506\u001b[0m action \u001b[38;5;241m=\u001b[39m \u001b[38;5;124m\"\u001b[39m\u001b[38;5;124mignore\u001b[39m\u001b[38;5;124m\"\u001b[39m \u001b[38;5;28;01mif\u001b[39;00m \u001b[38;5;28misinstance\u001b[39m(obj\u001b[38;5;241m.\u001b[39mdtype, CategoricalDtype) \u001b[38;5;28;01melse\u001b[39;00m \u001b[38;5;28;01mNone\u001b[39;00m\n\u001b[0;32m-> 1507\u001b[0m mapped \u001b[38;5;241m=\u001b[39m \u001b[43mobj\u001b[49m\u001b[38;5;241;43m.\u001b[39;49m\u001b[43m_map_values\u001b[49m\u001b[43m(\u001b[49m\n\u001b[1;32m   1508\u001b[0m \u001b[43m    \u001b[49m\u001b[43mmapper\u001b[49m\u001b[38;5;241;43m=\u001b[39;49m\u001b[43mcurried\u001b[49m\u001b[43m,\u001b[49m\u001b[43m \u001b[49m\u001b[43mna_action\u001b[49m\u001b[38;5;241;43m=\u001b[39;49m\u001b[43maction\u001b[49m\u001b[43m,\u001b[49m\u001b[43m \u001b[49m\u001b[43mconvert\u001b[49m\u001b[38;5;241;43m=\u001b[39;49m\u001b[38;5;28;43mself\u001b[39;49m\u001b[38;5;241;43m.\u001b[39;49m\u001b[43mconvert_dtype\u001b[49m\n\u001b[1;32m   1509\u001b[0m \u001b[43m\u001b[49m\u001b[43m)\u001b[49m\n\u001b[1;32m   1511\u001b[0m \u001b[38;5;28;01mif\u001b[39;00m \u001b[38;5;28mlen\u001b[39m(mapped) \u001b[38;5;129;01mand\u001b[39;00m \u001b[38;5;28misinstance\u001b[39m(mapped[\u001b[38;5;241m0\u001b[39m], ABCSeries):\n\u001b[1;32m   1512\u001b[0m     \u001b[38;5;66;03m# GH#43986 Need to do list(mapped) in order to get treated as nested\u001b[39;00m\n\u001b[1;32m   1513\u001b[0m     \u001b[38;5;66;03m#  See also GH#25959 regarding EA support\u001b[39;00m\n\u001b[1;32m   1514\u001b[0m     \u001b[38;5;28;01mreturn\u001b[39;00m obj\u001b[38;5;241m.\u001b[39m_constructor_expanddim(\u001b[38;5;28mlist\u001b[39m(mapped), index\u001b[38;5;241m=\u001b[39mobj\u001b[38;5;241m.\u001b[39mindex)\n",
      "File \u001b[0;32m~/.conda/envs/crosspl/lib/python3.10/site-packages/pandas/core/base.py:921\u001b[0m, in \u001b[0;36mIndexOpsMixin._map_values\u001b[0;34m(self, mapper, na_action, convert)\u001b[0m\n\u001b[1;32m    918\u001b[0m \u001b[38;5;28;01mif\u001b[39;00m \u001b[38;5;28misinstance\u001b[39m(arr, ExtensionArray):\n\u001b[1;32m    919\u001b[0m     \u001b[38;5;28;01mreturn\u001b[39;00m arr\u001b[38;5;241m.\u001b[39mmap(mapper, na_action\u001b[38;5;241m=\u001b[39mna_action)\n\u001b[0;32m--> 921\u001b[0m \u001b[38;5;28;01mreturn\u001b[39;00m \u001b[43malgorithms\u001b[49m\u001b[38;5;241;43m.\u001b[39;49m\u001b[43mmap_array\u001b[49m\u001b[43m(\u001b[49m\u001b[43marr\u001b[49m\u001b[43m,\u001b[49m\u001b[43m \u001b[49m\u001b[43mmapper\u001b[49m\u001b[43m,\u001b[49m\u001b[43m \u001b[49m\u001b[43mna_action\u001b[49m\u001b[38;5;241;43m=\u001b[39;49m\u001b[43mna_action\u001b[49m\u001b[43m,\u001b[49m\u001b[43m \u001b[49m\u001b[43mconvert\u001b[49m\u001b[38;5;241;43m=\u001b[39;49m\u001b[43mconvert\u001b[49m\u001b[43m)\u001b[49m\n",
      "File \u001b[0;32m~/.conda/envs/crosspl/lib/python3.10/site-packages/pandas/core/algorithms.py:1743\u001b[0m, in \u001b[0;36mmap_array\u001b[0;34m(arr, mapper, na_action, convert)\u001b[0m\n\u001b[1;32m   1741\u001b[0m values \u001b[38;5;241m=\u001b[39m arr\u001b[38;5;241m.\u001b[39mastype(\u001b[38;5;28mobject\u001b[39m, copy\u001b[38;5;241m=\u001b[39m\u001b[38;5;28;01mFalse\u001b[39;00m)\n\u001b[1;32m   1742\u001b[0m \u001b[38;5;28;01mif\u001b[39;00m na_action \u001b[38;5;129;01mis\u001b[39;00m \u001b[38;5;28;01mNone\u001b[39;00m:\n\u001b[0;32m-> 1743\u001b[0m     \u001b[38;5;28;01mreturn\u001b[39;00m \u001b[43mlib\u001b[49m\u001b[38;5;241;43m.\u001b[39;49m\u001b[43mmap_infer\u001b[49m\u001b[43m(\u001b[49m\u001b[43mvalues\u001b[49m\u001b[43m,\u001b[49m\u001b[43m \u001b[49m\u001b[43mmapper\u001b[49m\u001b[43m,\u001b[49m\u001b[43m \u001b[49m\u001b[43mconvert\u001b[49m\u001b[38;5;241;43m=\u001b[39;49m\u001b[43mconvert\u001b[49m\u001b[43m)\u001b[49m\n\u001b[1;32m   1744\u001b[0m \u001b[38;5;28;01melse\u001b[39;00m:\n\u001b[1;32m   1745\u001b[0m     \u001b[38;5;28;01mreturn\u001b[39;00m lib\u001b[38;5;241m.\u001b[39mmap_infer_mask(\n\u001b[1;32m   1746\u001b[0m         values, mapper, mask\u001b[38;5;241m=\u001b[39misna(values)\u001b[38;5;241m.\u001b[39mview(np\u001b[38;5;241m.\u001b[39muint8), convert\u001b[38;5;241m=\u001b[39mconvert\n\u001b[1;32m   1747\u001b[0m     )\n",
      "File \u001b[0;32mlib.pyx:2972\u001b[0m, in \u001b[0;36mpandas._libs.lib.map_infer\u001b[0;34m()\u001b[0m\n",
      "Cell \u001b[0;32mIn[15], line 17\u001b[0m, in \u001b[0;36m<lambda>\u001b[0;34m(x)\u001b[0m\n\u001b[1;32m     12\u001b[0m         end \u001b[38;5;241m=\u001b[39m content\u001b[38;5;241m.\u001b[39mfind(\u001b[38;5;124m\"\u001b[39m\u001b[38;5;124mqc.measure\u001b[39m\u001b[38;5;124m\"\u001b[39m)\n\u001b[1;32m     13\u001b[0m         \u001b[38;5;28;01mreturn\u001b[39;00m content[start:end]\n\u001b[1;32m     16\u001b[0m df_errors_sample[\u001b[38;5;124m\"\u001b[39m\u001b[38;5;124messential_file_content\u001b[39m\u001b[38;5;124m\"\u001b[39m] \u001b[38;5;241m=\u001b[39m df_errors_sample[\u001b[38;5;124m\"\u001b[39m\u001b[38;5;124merror_file\u001b[39m\u001b[38;5;124m\"\u001b[39m]\u001b[38;5;241m.\u001b[39mapply(\n\u001b[0;32m---> 17\u001b[0m     \u001b[38;5;28;01mlambda\u001b[39;00m x: \u001b[43mextract_essential_content\u001b[49m\u001b[43m(\u001b[49m\n\u001b[1;32m     18\u001b[0m \u001b[43m        \u001b[49m\u001b[43mos\u001b[49m\u001b[38;5;241;43m.\u001b[39;49m\u001b[43mpath\u001b[49m\u001b[38;5;241;43m.\u001b[39;49m\u001b[43mjoin\u001b[49m\u001b[43m(\u001b[49m\u001b[43mDIR_SAMPLE_ERRORS\u001b[49m\u001b[43m,\u001b[49m\u001b[43m \u001b[49m\u001b[43mx\u001b[49m\u001b[38;5;241;43m.\u001b[39;49m\u001b[43mreplace\u001b[49m\u001b[43m(\u001b[49m\u001b[38;5;124;43m\"\u001b[39;49m\u001b[38;5;124;43m_error.json\u001b[39;49m\u001b[38;5;124;43m\"\u001b[39;49m\u001b[43m,\u001b[49m\u001b[43m \u001b[49m\u001b[38;5;124;43m\"\u001b[39;49m\u001b[38;5;124;43m_error_min.py\u001b[39;49m\u001b[38;5;124;43m\"\u001b[39;49m\u001b[43m)\u001b[49m\u001b[43m)\u001b[49m\u001b[43m)\u001b[49m)\n\u001b[1;32m     19\u001b[0m \u001b[38;5;66;03m# keep only those without pennylane in the involeved_functions\u001b[39;00m\n\u001b[1;32m     20\u001b[0m \u001b[38;5;66;03m# cast the involved_functions to string\u001b[39;00m\n\u001b[1;32m     21\u001b[0m df_errors_sample[\u001b[38;5;124m'\u001b[39m\u001b[38;5;124minvolved_functions\u001b[39m\u001b[38;5;124m'\u001b[39m] \u001b[38;5;241m=\u001b[39m df_errors_sample[\u001b[38;5;124m'\u001b[39m\u001b[38;5;124minvolved_functions\u001b[39m\u001b[38;5;124m'\u001b[39m]\u001b[38;5;241m.\u001b[39mastype(\n\u001b[1;32m     22\u001b[0m     \u001b[38;5;28mstr\u001b[39m)\n",
      "Cell \u001b[0;32mIn[15], line 8\u001b[0m, in \u001b[0;36mextract_essential_content\u001b[0;34m(file_path)\u001b[0m\n\u001b[1;32m      7\u001b[0m \u001b[38;5;28;01mdef\u001b[39;00m \u001b[38;5;21mextract_essential_content\u001b[39m(file_path: \u001b[38;5;28mstr\u001b[39m) \u001b[38;5;241m-\u001b[39m\u001b[38;5;241m>\u001b[39m \u001b[38;5;28mstr\u001b[39m:\n\u001b[0;32m----> 8\u001b[0m     \u001b[38;5;28;01mwith\u001b[39;00m \u001b[38;5;28;43mopen\u001b[39;49m\u001b[43m(\u001b[49m\u001b[43mfile_path\u001b[49m\u001b[43m,\u001b[49m\u001b[43m \u001b[49m\u001b[38;5;124;43m'\u001b[39;49m\u001b[38;5;124;43mr\u001b[39;49m\u001b[38;5;124;43m'\u001b[39;49m\u001b[43m)\u001b[49m \u001b[38;5;28;01mas\u001b[39;00m file:\n\u001b[1;32m      9\u001b[0m         content \u001b[38;5;241m=\u001b[39m file\u001b[38;5;241m.\u001b[39mread()\n\u001b[1;32m     10\u001b[0m         start_tag \u001b[38;5;241m=\u001b[39m \u001b[38;5;124m\"\u001b[39m\u001b[38;5;124m# <START_GATES>\u001b[39m\u001b[38;5;124m\"\u001b[39m\n",
      "File \u001b[0;32m~/.conda/envs/crosspl/lib/python3.10/site-packages/IPython/core/interactiveshell.py:324\u001b[0m, in \u001b[0;36m_modified_open\u001b[0;34m(file, *args, **kwargs)\u001b[0m\n\u001b[1;32m    317\u001b[0m \u001b[38;5;28;01mif\u001b[39;00m file \u001b[38;5;129;01min\u001b[39;00m {\u001b[38;5;241m0\u001b[39m, \u001b[38;5;241m1\u001b[39m, \u001b[38;5;241m2\u001b[39m}:\n\u001b[1;32m    318\u001b[0m     \u001b[38;5;28;01mraise\u001b[39;00m \u001b[38;5;167;01mValueError\u001b[39;00m(\n\u001b[1;32m    319\u001b[0m         \u001b[38;5;124mf\u001b[39m\u001b[38;5;124m\"\u001b[39m\u001b[38;5;124mIPython won\u001b[39m\u001b[38;5;124m'\u001b[39m\u001b[38;5;124mt let you open fd=\u001b[39m\u001b[38;5;132;01m{\u001b[39;00mfile\u001b[38;5;132;01m}\u001b[39;00m\u001b[38;5;124m by default \u001b[39m\u001b[38;5;124m\"\u001b[39m\n\u001b[1;32m    320\u001b[0m         \u001b[38;5;124m\"\u001b[39m\u001b[38;5;124mas it is likely to crash IPython. If you know what you are doing, \u001b[39m\u001b[38;5;124m\"\u001b[39m\n\u001b[1;32m    321\u001b[0m         \u001b[38;5;124m\"\u001b[39m\u001b[38;5;124myou can use builtins\u001b[39m\u001b[38;5;124m'\u001b[39m\u001b[38;5;124m open.\u001b[39m\u001b[38;5;124m\"\u001b[39m\n\u001b[1;32m    322\u001b[0m     )\n\u001b[0;32m--> 324\u001b[0m \u001b[38;5;28;01mreturn\u001b[39;00m \u001b[43mio_open\u001b[49m\u001b[43m(\u001b[49m\u001b[43mfile\u001b[49m\u001b[43m,\u001b[49m\u001b[43m \u001b[49m\u001b[38;5;241;43m*\u001b[39;49m\u001b[43margs\u001b[49m\u001b[43m,\u001b[49m\u001b[43m \u001b[49m\u001b[38;5;241;43m*\u001b[39;49m\u001b[38;5;241;43m*\u001b[39;49m\u001b[43mkwargs\u001b[49m\u001b[43m)\u001b[49m\n",
      "\u001b[0;31mFileNotFoundError\u001b[0m: [Errno 2] No such file or directory: '../program_bank/v005/2024_10_22__22_32__sample_errors/qiskit_circuit_32q_10g_49802_899c61_524cf8_error_min.py'"
     ]
    }
   ],
   "source": [
    "# read all the error files in the sample folder\n",
    "df_errors_sample = read_all_programs(DIR_SAMPLE_ERRORS)\n",
    "\n",
    "# print their content between `# <START_GATES>`` and `qc.measure``\n",
    "\n",
    "\n",
    "def extract_essential_content(file_path: str) -> str:\n",
    "    with open(file_path, 'r') as file:\n",
    "        content = file.read()\n",
    "        start_tag = \"# <START_GATES>\"\n",
    "        start = content.find(start_tag) + len(start_tag)\n",
    "        end = content.find(\"qc.measure\")\n",
    "        return content[start:end]\n",
    "\n",
    "\n",
    "df_errors_sample[\"essential_file_content\"] = df_errors_sample[\"error_file\"].apply(\n",
    "    lambda x: extract_essential_content(\n",
    "        os.path.join(DIR_SAMPLE_ERRORS, x.replace(\"_error.json\", \"_error_min.py\"))))\n",
    "# keep only those without pennylane in the involeved_functions\n",
    "# cast the involved_functions to string\n",
    "df_errors_sample['involved_functions'] = df_errors_sample['involved_functions'].astype(\n",
    "    str)\n",
    "df_errors_sample = df_errors_sample[\n",
    "    ~df_errors_sample['involved_functions'].str.contains('pennylane')]\n",
    "\n",
    "for i, row in df_errors_sample.iterrows():\n",
    "    print('='*50)\n",
    "    print(\n",
    "        f\"Minimized filepath: {os.path.join(DIR_SAMPLE_ERRORS, row['error_file'].replace('_error.json', '_error_min.py'))}\")\n",
    "    print(\n",
    "        f\"Error {i}:\\n{row['exception_message']}\\n{row['essential_file_content']}\\n\")\n",
    "    print(f\"Involved functions: {row['involved_functions']}\\n\")\n",
    "\n",
    "df_errors_sample.head()"
   ]
  },
  {
   "cell_type": "code",
   "execution_count": null,
   "metadata": {},
   "outputs": [],
   "source": []
  }
 ],
 "metadata": {
  "kernelspec": {
   "display_name": "crosspl",
   "language": "python",
   "name": "python3"
  },
  "language_info": {
   "codemirror_mode": {
    "name": "ipython",
    "version": 3
   },
   "file_extension": ".py",
   "mimetype": "text/x-python",
   "name": "python",
   "nbconvert_exporter": "python",
   "pygments_lexer": "ipython3",
   "version": "3.10.14"
  }
 },
 "nbformat": 4,
 "nbformat_minor": 2
}
