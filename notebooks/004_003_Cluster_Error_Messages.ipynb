{
 "cells": [
  {
   "cell_type": "code",
   "execution_count": 1,
   "metadata": {},
   "outputs": [],
   "source": [
    "import os\n",
    "import sys\n",
    "import json\n",
    "from pathlib import Path\n",
    "import shutil\n",
    "\n",
    "import pandas as pd\n",
    "import numpy as np\n",
    "import matplotlib.pyplot as plt\n",
    "import seaborn as sns\n",
    "\n",
    "from typing import List, Tuple, Dict, Any, Optional\n",
    "\n",
    "import sys\n",
    "sys.path.append(\"..\")"
   ]
  },
  {
   "cell_type": "code",
   "execution_count": 2,
   "metadata": {
    "tags": [
     "parameters"
    ]
   },
   "outputs": [],
   "source": [
    "PATH_ROOT_DIR: str = \"..\"\n",
    "\n",
    "INFO_TO_USE_FOR_CLUSTERING: List[str] = [\n",
    "    'exception_message', 'essential_file_content']\n",
    "\n",
    "PCA_COMPONENTS: int = 3\n",
    "\n",
    "AI_MODEL: str = \"llama-3.1-70b-versatile\"  # or \"gpt-4o-mini\"\n",
    "\n",
    "N_POSITIVE_EXAMPLES_TO_SHOW_LLM: int = 5\n",
    "\n",
    "# Test run\n",
    "# DIR_PROGRAM_BANK = os.path.join(\"..\", \"program_bank\", \"v001\", \"2024_10_04__14_48__qiskit\")\n",
    "# Run with 10k programs: v001.yaml\n",
    "# program_bank/v001/2024_10_04__15_10__qiskit\n",
    "# DIR_PROGRAM_BANK = os.path.join(\"..\", \"program_bank\", \"v001\", \"2024_10_04__15_10__qiskit\")\n",
    "# program_bank/v002/2024_10_07__17_03__qiskit\n",
    "# DIR_PROGRAM_BANK: str = os.path.join(\n",
    "#     \"..\", \"program_bank\", \"v004\", \"2024_10_18__16_09__qiskit\")\n",
    "\n",
    "# DIR_SAMPLE_ERRORS: str = os.path.join(\n",
    "#     \"..\", \"program_bank\", \"v004\", \"2024_10_18__16_09__sample_errors\")\n",
    "\n",
    "\n",
    "# DIR_PROGRAM_BANK: str = os.path.join(\n",
    "#     \"..\", \"program_bank\", \"v005\", \"2024_10_22__14_17__qiskit\")\n",
    "# DIR_SAMPLE_ERRORS: str = os.path.join(\n",
    "#     \"..\", \"program_bank\", \"v005\", \"2024_10_22__14_17__sample_errors\")\n",
    "\n",
    "# inspected folders\n",
    "# program_bank/v005/2024_10_22__22_32__qiskit\n",
    "# program_bank/v007/2024_10_31__17_51__qiskit\n",
    "# program_bank/v008/2024_11_07__15_05__qiskit\n",
    "# program_bank/v009/2024_11_20__13_42__qiskit\n",
    "# program_bank/v012/2024_12_16__23_03__qiskit\n",
    "# program_bank/v014/2024_12_27__00_01__qiskit\n",
    "DIR_PROGRAM_BANK: str = os.path.join(\n",
    "    \"..\", \"program_bank\", \"v014\", \"2024_12_27__00_01__qiskit\")\n",
    "DIR_SAMPLE_ERRORS: str = os.path.join(\n",
    "    \"..\", \"program_bank\", \"v014\", \"2024_12_27__00_01__sample_errors\")\n",
    "# \"2024_11_20__13_42__sample_errors_no_pennylane\")\n",
    "\n",
    "\n",
    "PROMPT_CONTENT: str = \"BOTH_ERROR_AND_PROGRAM\""
   ]
  },
  {
   "cell_type": "code",
   "execution_count": 3,
   "metadata": {},
   "outputs": [
    {
     "name": "stdout",
     "output_type": "stream",
     "text": [
      "Current folder: /home/paltenmo/projects/crossplatform/notebooks\n",
      "PATH_ROOT_DIR: ..\n",
      "INFO_TO_USE_FOR_CLUSTERING: ['exception_message', 'essential_file_content']\n",
      "PCA_COMPONENTS: 3\n",
      "AI_MODEL: llama-3.1-70b-versatile\n",
      "N_POSITIVE_EXAMPLES_TO_SHOW_LLM: 5\n",
      "DIR_PROGRAM_BANK: ../program_bank/v014/2024_12_27__00_01__qiskit\n",
      "DIR_SAMPLE_ERRORS: ../program_bank/v014/2024_12_27__00_01__sample_errors\n",
      "PROMPT_CONTENT: BOTH_ERROR_AND_PROGRAM\n"
     ]
    }
   ],
   "source": [
    "# print the current folder\n",
    "print(f\"Current folder: {os.getcwd()}\")\n",
    "\n",
    "all_global_vars = dict(globals().copy())\n",
    "# print all global variables\n",
    "for k, v in all_global_vars.items():\n",
    "    if k.isupper():\n",
    "        print(f\"{k}: {v}\")"
   ]
  },
  {
   "cell_type": "code",
   "execution_count": 4,
   "metadata": {},
   "outputs": [],
   "source": [
    "import openai\n",
    "import groq\n",
    "PATH_GROQ_TOKEN = os.path.join(PATH_ROOT_DIR, \"groq_token.txt\")\n",
    "GROQ_TOKEN = Path(PATH_GROQ_TOKEN).read_text().strip()\n",
    "\n",
    "# Export the GROQ_TOKEN as GROQ_API_KEY\n",
    "os.environ['GROQ_API_KEY'] = GROQ_TOKEN\n",
    "\n",
    "PATH_OPENAI_API_KEY = os.path.join(PATH_ROOT_DIR, \"openai_token.txt\")\n",
    "OPENAI_API_KEY = Path(PATH_OPENAI_API_KEY).read_text().strip()\n",
    "\n",
    "os.environ['OPENAI_API_KEY'] = OPENAI_API_KEY"
   ]
  },
  {
   "cell_type": "code",
   "execution_count": 5,
   "metadata": {},
   "outputs": [
    {
     "name": "stdout",
     "output_type": "stream",
     "text": [
      "Number of generated programs: 10000\n",
      "Number of errors: 43877\n"
     ]
    }
   ],
   "source": [
    "# count generated programs in the program bank\n",
    "count_generated_programs = len(list(Path(DIR_PROGRAM_BANK).rglob(\"*.py\")))\n",
    "print(f\"Number of generated programs: {count_generated_programs}\")\n",
    "\n",
    "# count the number of errors\n",
    "count_errors = len(list(Path(DIR_PROGRAM_BANK).rglob(\"*_error.json\")))\n",
    "print(f\"Number of errors: {count_errors}\")"
   ]
  },
  {
   "cell_type": "markdown",
   "metadata": {},
   "source": [
    "## Read Files"
   ]
  },
  {
   "cell_type": "code",
   "execution_count": 7,
   "metadata": {},
   "outputs": [
    {
     "name": "stdout",
     "output_type": "stream",
     "text": [
      "Number of errors: 43877\n"
     ]
    }
   ],
   "source": [
    "from multiprocessing import Pool\n",
    "import re\n",
    "\n",
    "\n",
    "def read_json_file(file_path: str) -> Dict[str, Any]:\n",
    "    with open(file_path, 'r') as file:\n",
    "        data = json.load(file)\n",
    "        data[\"error_file\"] = os.path.basename(file_path)\n",
    "        return data\n",
    "\n",
    "\n",
    "def read_all_programs(dir_path: str) -> pd.DataFrame:\n",
    "    json_files = [os.path.join(dir_path, f) for f in os.listdir(\n",
    "        dir_path) if re.match(r'.*_error\\.json$', f)]\n",
    "    records = []\n",
    "\n",
    "    with Pool() as pool:\n",
    "        results = pool.map(read_json_file, json_files)\n",
    "        records.extend(results)\n",
    "\n",
    "    return pd.DataFrame(records)\n",
    "\n",
    "\n",
    "# Use the function to read all programs\n",
    "df_errors = read_all_programs(DIR_PROGRAM_BANK)\n",
    "\n",
    "# augment the dataframe with the proram content\n",
    "\n",
    "\n",
    "def read_file_content(file_name: str) -> str:\n",
    "    file_path = os.path.join(DIR_PROGRAM_BANK, file_name)\n",
    "    with open(file_path, 'r') as file:\n",
    "        return file.read()\n",
    "\n",
    "\n",
    "# Use parallel apply to read the file content\n",
    "with Pool() as pool:\n",
    "    df_errors['file_content'] = pool.map(\n",
    "        read_file_content, df_errors['current_file'])\n",
    "\n",
    "# Alternatively, you can use apply without parallel processing\n",
    "# df_errors['file_content'] = df_errors['current_file'].apply(read_file_content)\n",
    "\n",
    "df_errors.head()\n",
    "n_errors = len(df_errors)\n",
    "print(f\"Number of errors: {n_errors}\")\n",
    "\n",
    "\n",
    "# HELPER FUNCTIONS\n",
    "\n",
    "\n",
    "def get_corresponding_program_file(path_error_file: str) -> str:\n",
    "    # remove the fixed length prefix \"_ba6b02_error.json\"\n",
    "    return path_error_file[:-18] + \".py\"\n",
    "\n",
    "\n",
    "def copy_errors_to_sample_folder(\n",
    "        sample_errors_paths: List[str],\n",
    "        dir_sample_errors: str):\n",
    "    os.makedirs(dir_sample_errors, exist_ok=True)\n",
    "    for file_path in sample_errors_paths:\n",
    "        shutil.copy(file_path, dir_sample_errors)\n",
    "        print(f\"Copying {file_path} to {dir_sample_errors}\")\n",
    "        corresponding_program_file = get_corresponding_program_file(file_path)\n",
    "        shutil.copy(corresponding_program_file, dir_sample_errors)\n",
    "        print(f\"Copying {corresponding_program_file} to {dir_sample_errors}\")"
   ]
  },
  {
   "cell_type": "markdown",
   "metadata": {},
   "source": [
    "# Exclude Pennylane (errors)"
   ]
  },
  {
   "cell_type": "code",
   "execution_count": 10,
   "metadata": {},
   "outputs": [
    {
     "name": "stdout",
     "output_type": "stream",
     "text": [
      "Number of errors without PennyLane: 8220\n"
     ]
    }
   ],
   "source": [
    "df_errors['involved_functions'] = df_errors['involved_functions'].astype(\n",
    "    str)\n",
    "df_errors = df_errors[\n",
    "    ~df_errors['involved_functions'].str.contains('pennylane')]\n",
    "n_errors = len(df_errors)\n",
    "print(f\"Number of errors without PennyLane: {n_errors}\")"
   ]
  },
  {
   "cell_type": "markdown",
   "metadata": {},
   "source": [
    "# Minimize Sample"
   ]
  },
  {
   "cell_type": "code",
   "execution_count": null,
   "metadata": {},
   "outputs": [
    {
     "name": "stdout",
     "output_type": "stream",
     "text": [
      "Copying ../program_bank/v009/2024_11_20__13_42__qiskit/qiskit_circuit_5q_10g_1511_600fe6_0353c4_error.json to ../program_bank/v009/2024_11_20__13_42__sample_errors_no_pennylane\n",
      "Copying ../program_bank/v009/2024_11_20__13_42__qiskit/qiskit_circuit_5q_10g_1511_600fe6.py to ../program_bank/v009/2024_11_20__13_42__sample_errors_no_pennylane\n",
      "Copying ../program_bank/v009/2024_11_20__13_42__qiskit/qiskit_circuit_5q_10g_5923_1fb05d_394db9_error.json to ../program_bank/v009/2024_11_20__13_42__sample_errors_no_pennylane\n",
      "Copying ../program_bank/v009/2024_11_20__13_42__qiskit/qiskit_circuit_5q_10g_5923_1fb05d.py to ../program_bank/v009/2024_11_20__13_42__sample_errors_no_pennylane\n",
      "Copying ../program_bank/v009/2024_11_20__13_42__qiskit/qiskit_circuit_5q_10g_5585_30abba_76b749_error.json to ../program_bank/v009/2024_11_20__13_42__sample_errors_no_pennylane\n",
      "Copying ../program_bank/v009/2024_11_20__13_42__qiskit/qiskit_circuit_5q_10g_5585_30abba.py to ../program_bank/v009/2024_11_20__13_42__sample_errors_no_pennylane\n",
      "Copying ../program_bank/v009/2024_11_20__13_42__qiskit/qiskit_circuit_5q_10g_5722_074956_37938c_error.json to ../program_bank/v009/2024_11_20__13_42__sample_errors_no_pennylane\n",
      "Copying ../program_bank/v009/2024_11_20__13_42__qiskit/qiskit_circuit_5q_10g_5722_074956.py to ../program_bank/v009/2024_11_20__13_42__sample_errors_no_pennylane\n",
      "Copying ../program_bank/v009/2024_11_20__13_42__qiskit/qiskit_circuit_5q_10g_2151_e092a7_ad5f21_error.json to ../program_bank/v009/2024_11_20__13_42__sample_errors_no_pennylane\n",
      "Copying ../program_bank/v009/2024_11_20__13_42__qiskit/qiskit_circuit_5q_10g_2151_e092a7.py to ../program_bank/v009/2024_11_20__13_42__sample_errors_no_pennylane\n",
      "Copying ../program_bank/v009/2024_11_20__13_42__qiskit/qiskit_circuit_5q_10g_5608_214aee_3d00e0_error.json to ../program_bank/v009/2024_11_20__13_42__sample_errors_no_pennylane\n",
      "Copying ../program_bank/v009/2024_11_20__13_42__qiskit/qiskit_circuit_5q_10g_5608_214aee.py to ../program_bank/v009/2024_11_20__13_42__sample_errors_no_pennylane\n",
      "Copying ../program_bank/v009/2024_11_20__13_42__qiskit/qiskit_circuit_5q_10g_976_54c509_045d23_error.json to ../program_bank/v009/2024_11_20__13_42__sample_errors_no_pennylane\n",
      "Copying ../program_bank/v009/2024_11_20__13_42__qiskit/qiskit_circuit_5q_10g_976_54c509.py to ../program_bank/v009/2024_11_20__13_42__sample_errors_no_pennylane\n",
      "Copying ../program_bank/v009/2024_11_20__13_42__qiskit/qiskit_circuit_5q_10g_5745_884e27_157b8a_error.json to ../program_bank/v009/2024_11_20__13_42__sample_errors_no_pennylane\n",
      "Copying ../program_bank/v009/2024_11_20__13_42__qiskit/qiskit_circuit_5q_10g_5745_884e27.py to ../program_bank/v009/2024_11_20__13_42__sample_errors_no_pennylane\n",
      "Copying ../program_bank/v009/2024_11_20__13_42__qiskit/qiskit_circuit_5q_10g_1009_f72144_e4d6f6_error.json to ../program_bank/v009/2024_11_20__13_42__sample_errors_no_pennylane\n",
      "Copying ../program_bank/v009/2024_11_20__13_42__qiskit/qiskit_circuit_5q_10g_1009_f72144.py to ../program_bank/v009/2024_11_20__13_42__sample_errors_no_pennylane\n",
      "Copying ../program_bank/v009/2024_11_20__13_42__qiskit/qiskit_circuit_5q_10g_5266_525689_f43fd2_error.json to ../program_bank/v009/2024_11_20__13_42__sample_errors_no_pennylane\n",
      "Copying ../program_bank/v009/2024_11_20__13_42__qiskit/qiskit_circuit_5q_10g_5266_525689.py to ../program_bank/v009/2024_11_20__13_42__sample_errors_no_pennylane\n"
     ]
    }
   ],
   "source": [
    "\n",
    "# keep only errors with `The circuits are not equivalent` in the exception message\n",
    "df_errors = df_errors[df_errors['exception_message'].str.contains(\n",
    "    'The circuits are not equivalent')]\n",
    "\n",
    "\n",
    "SAMPLE_SIZE = 10\n",
    "actual_sample_size = min(SAMPLE_SIZE, len(df_errors))\n",
    "\n",
    "\n",
    "# pick a sample of error files\n",
    "sample_errors = df_errors.sample(actual_sample_size, random_state=42)\n",
    "\n",
    "# get the paths of the error files\n",
    "sample_errors_paths = [os.path.join(\n",
    "    DIR_PROGRAM_BANK, f) for f in sample_errors['error_file']]\n",
    "\n",
    "\n",
    "copy_errors_to_sample_folder(sample_errors_paths, DIR_SAMPLE_ERRORS)"
   ]
  },
  {
   "cell_type": "code",
   "execution_count": 11,
   "metadata": {},
   "outputs": [
    {
     "data": {
      "text/plain": [
       "12723    The circuits are not equivalent: /workspace/qi...\n",
       "693      The circuits are not equivalent: /workspace/qi...\n",
       "10624    The circuits are not equivalent: /workspace/qi...\n",
       "3913     The circuits are not equivalent: /workspace/qi...\n",
       "5149     The circuits are not equivalent: /workspace/qi...\n",
       "11150    The circuits are not equivalent: /workspace/qi...\n",
       "842      The circuits are not equivalent: /workspace/qi...\n",
       "10721    The circuits are not equivalent: /workspace/qi...\n",
       "11223    The circuits are not equivalent: /workspace/qi...\n",
       "11601    The circuits are not equivalent: /workspace/qi...\n",
       "Name: exception_message, dtype: object"
      ]
     },
     "execution_count": 11,
     "metadata": {},
     "output_type": "execute_result"
    }
   ],
   "source": [
    "# get the content of their error messages\n",
    "sample_errors['exception_message']"
   ]
  },
  {
   "cell_type": "code",
   "execution_count": 30,
   "metadata": {},
   "outputs": [],
   "source": [
    "import sys\n",
    "sys.path.append(\"..\")"
   ]
  },
  {
   "cell_type": "markdown",
   "metadata": {},
   "source": [
    "## Triage All Files \n",
    "Including:\n",
    "1. minimization\n",
    "2. rerunning the code\n",
    "3. running the analysis notebook"
   ]
  },
  {
   "cell_type": "code",
   "execution_count": 13,
   "metadata": {},
   "outputs": [],
   "source": [
    "%load_ext autoreload\n",
    "%autoreload 2"
   ]
  },
  {
   "cell_type": "code",
   "execution_count": 15,
   "metadata": {},
   "outputs": [
    {
     "name": "stdout",
     "output_type": "stream",
     "text": [
      "Error paths in sample folder (10):\n",
      "../program_bank/v009/2024_11_20__13_42__sample_errors_no_pennylane/qiskit_circuit_5q_10g_4342_faa083_a812bf_error.json\n",
      "../program_bank/v009/2024_11_20__13_42__sample_errors_no_pennylane/qiskit_circuit_5q_10g_6316_146402_6a36f0_error.json\n",
      "../program_bank/v009/2024_11_20__13_42__sample_errors_no_pennylane/qiskit_circuit_5q_10g_6533_f0b204_dbc69c_error.json\n",
      "../program_bank/v009/2024_11_20__13_42__sample_errors_no_pennylane/qiskit_circuit_5q_10g_4756_28bbeb_444f6d_error.json\n",
      "../program_bank/v009/2024_11_20__13_42__sample_errors_no_pennylane/qiskit_circuit_5q_10g_144_2ca34b_7b044a_error.json\n",
      "../program_bank/v009/2024_11_20__13_42__sample_errors_no_pennylane/qiskit_circuit_5q_10g_680_6d896d_1fd766_error.json\n",
      "../program_bank/v009/2024_11_20__13_42__sample_errors_no_pennylane/qiskit_circuit_5q_10g_5399_c4b732_f59bef_error.json\n",
      "../program_bank/v009/2024_11_20__13_42__sample_errors_no_pennylane/qiskit_circuit_5q_10g_609_0c26d1_ee02f4_error.json\n",
      "../program_bank/v009/2024_11_20__13_42__sample_errors_no_pennylane/qiskit_circuit_5q_10g_650_4493c8_a271e3_error.json\n",
      "../program_bank/v009/2024_11_20__13_42__sample_errors_no_pennylane/qiskit_circuit_5q_10g_2997_458c2e_f885b3_error.json\n"
     ]
    },
    {
     "data": {
      "text/html": [
       "<pre style=\"white-space:pre;overflow-x:auto;line-height:normal;font-family:Menlo,'DejaVu Sans Mono',consolas,'Courier New',monospace\"><span style=\"color: #7fbfbf; text-decoration-color: #7fbfbf\">[14:49:51] </span>Created report folder: ..<span style=\"color: #800080; text-decoration-color: #800080\">/reports/v009/</span><span style=\"color: #ff00ff; text-decoration-color: #ff00ff\">2024_11_21__14_49</span>                                   <a href=\"file:///home/paltenmo/projects/crossplatform/analysis_and_reporting/triage.py\" target=\"_blank\"><span style=\"color: #7f7f7f; text-decoration-color: #7f7f7f\">triage.py</span></a><span style=\"color: #7f7f7f; text-decoration-color: #7f7f7f\">:</span><a href=\"file:///home/paltenmo/projects/crossplatform/analysis_and_reporting/triage.py#131\" target=\"_blank\"><span style=\"color: #7f7f7f; text-decoration-color: #7f7f7f\">131</span></a>\n",
       "</pre>\n"
      ],
      "text/plain": [
       "\u001b[2;36m[14:49:51]\u001b[0m\u001b[2;36m \u001b[0mCreated report folder: ..\u001b[35m/reports/v009/\u001b[0m\u001b[95m2024_11_21__14_49\u001b[0m                                   \u001b]8;id=600267;file:///home/paltenmo/projects/crossplatform/analysis_and_reporting/triage.py\u001b\\\u001b[2mtriage.py\u001b[0m\u001b]8;;\u001b\\\u001b[2m:\u001b[0m\u001b]8;id=821025;file:///home/paltenmo/projects/crossplatform/analysis_and_reporting/triage.py#131\u001b\\\u001b[2m131\u001b[0m\u001b]8;;\u001b\\\n"
      ]
     },
     "metadata": {},
     "output_type": "display_data"
    },
    {
     "data": {
      "text/html": [
       "<pre style=\"white-space:pre;overflow-x:auto;line-height:normal;font-family:Menlo,'DejaVu Sans Mono',consolas,'Courier New',monospace\"><span style=\"color: #7fbfbf; text-decoration-color: #7fbfbf\">           </span>Copied files to: ..<span style=\"color: #800080; text-decoration-color: #800080\">/reports/v009/</span><span style=\"color: #ff00ff; text-decoration-color: #ff00ff\">2024_11_21__14_49</span>                                         <a href=\"file:///home/paltenmo/projects/crossplatform/analysis_and_reporting/triage.py\" target=\"_blank\"><span style=\"color: #7f7f7f; text-decoration-color: #7f7f7f\">triage.py</span></a><span style=\"color: #7f7f7f; text-decoration-color: #7f7f7f\">:</span><a href=\"file:///home/paltenmo/projects/crossplatform/analysis_and_reporting/triage.py#140\" target=\"_blank\"><span style=\"color: #7f7f7f; text-decoration-color: #7f7f7f\">140</span></a>\n",
       "</pre>\n"
      ],
      "text/plain": [
       "\u001b[2;36m          \u001b[0m\u001b[2;36m \u001b[0mCopied files to: ..\u001b[35m/reports/v009/\u001b[0m\u001b[95m2024_11_21__14_49\u001b[0m                                         \u001b]8;id=566959;file:///home/paltenmo/projects/crossplatform/analysis_and_reporting/triage.py\u001b\\\u001b[2mtriage.py\u001b[0m\u001b]8;;\u001b\\\u001b[2m:\u001b[0m\u001b]8;id=440829;file:///home/paltenmo/projects/crossplatform/analysis_and_reporting/triage.py#140\u001b\\\u001b[2m140\u001b[0m\u001b]8;;\u001b\\\n"
      ]
     },
     "metadata": {},
     "output_type": "display_data"
    },
    {
     "data": {
      "text/html": [
       "<pre style=\"white-space:pre;overflow-x:auto;line-height:normal;font-family:Menlo,'DejaVu Sans Mono',consolas,'Courier New',monospace\"><span style=\"color: #7fbfbf; text-decoration-color: #7fbfbf\">[14:49:51] </span>Involved functions:                                                             <a href=\"file:///home/paltenmo/projects/crossplatform/analysis_and_reporting/ddmin_target_file.py\" target=\"_blank\"><span style=\"color: #7f7f7f; text-decoration-color: #7f7f7f\">ddmin_target_file.py</span></a><span style=\"color: #7f7f7f; text-decoration-color: #7f7f7f\">:</span><a href=\"file:///home/paltenmo/projects/crossplatform/analysis_and_reporting/ddmin_target_file.py#206\" target=\"_blank\"><span style=\"color: #7f7f7f; text-decoration-color: #7f7f7f\">206</span></a>\n",
       "</pre>\n"
      ],
      "text/plain": [
       "\u001b[2;36m[14:49:51]\u001b[0m\u001b[2;36m \u001b[0mInvolved functions:                                                             \u001b]8;id=234626;file:///home/paltenmo/projects/crossplatform/analysis_and_reporting/ddmin_target_file.py\u001b\\\u001b[2mddmin_target_file.py\u001b[0m\u001b]8;;\u001b\\\u001b[2m:\u001b[0m\u001b]8;id=101226;file:///home/paltenmo/projects/crossplatform/analysis_and_reporting/ddmin_target_file.py#206\u001b\\\u001b[2m206\u001b[0m\u001b]8;;\u001b\\\n"
      ]
     },
     "metadata": {},
     "output_type": "display_data"
    },
    {
     "data": {
      "text/html": [
       "<pre style=\"white-space:pre;overflow-x:auto;line-height:normal;font-family:Menlo,'DejaVu Sans Mono',consolas,'Courier New',monospace\"><span style=\"color: #7fbfbf; text-decoration-color: #7fbfbf\">           </span>  - compare_qasm_via_qcec                                                       <a href=\"file:///home/paltenmo/projects/crossplatform/analysis_and_reporting/ddmin_target_file.py\" target=\"_blank\"><span style=\"color: #7f7f7f; text-decoration-color: #7f7f7f\">ddmin_target_file.py</span></a><span style=\"color: #7f7f7f; text-decoration-color: #7f7f7f\">:</span><a href=\"file:///home/paltenmo/projects/crossplatform/analysis_and_reporting/ddmin_target_file.py#208\" target=\"_blank\"><span style=\"color: #7f7f7f; text-decoration-color: #7f7f7f\">208</span></a>\n",
       "</pre>\n"
      ],
      "text/plain": [
       "\u001b[2;36m          \u001b[0m\u001b[2;36m \u001b[0m  - compare_qasm_via_qcec                                                       \u001b]8;id=317805;file:///home/paltenmo/projects/crossplatform/analysis_and_reporting/ddmin_target_file.py\u001b\\\u001b[2mddmin_target_file.py\u001b[0m\u001b]8;;\u001b\\\u001b[2m:\u001b[0m\u001b]8;id=556817;file:///home/paltenmo/projects/crossplatform/analysis_and_reporting/ddmin_target_file.py#208\u001b\\\u001b[2m208\u001b[0m\u001b]8;;\u001b\\\n"
      ]
     },
     "metadata": {},
     "output_type": "display_data"
    },
    {
     "data": {
      "text/html": [
       "<pre style=\"white-space:pre;overflow-x:auto;line-height:normal;font-family:Menlo,'DejaVu Sans Mono',consolas,'Courier New',monospace\"><span style=\"color: #7fbfbf; text-decoration-color: #7fbfbf\">           </span>  - export_to_qasm_with_pytket                                                  <a href=\"file:///home/paltenmo/projects/crossplatform/analysis_and_reporting/ddmin_target_file.py\" target=\"_blank\"><span style=\"color: #7f7f7f; text-decoration-color: #7f7f7f\">ddmin_target_file.py</span></a><span style=\"color: #7f7f7f; text-decoration-color: #7f7f7f\">:</span><a href=\"file:///home/paltenmo/projects/crossplatform/analysis_and_reporting/ddmin_target_file.py#208\" target=\"_blank\"><span style=\"color: #7f7f7f; text-decoration-color: #7f7f7f\">208</span></a>\n",
       "</pre>\n"
      ],
      "text/plain": [
       "\u001b[2;36m          \u001b[0m\u001b[2;36m \u001b[0m  - export_to_qasm_with_pytket                                                  \u001b]8;id=139734;file:///home/paltenmo/projects/crossplatform/analysis_and_reporting/ddmin_target_file.py\u001b\\\u001b[2mddmin_target_file.py\u001b[0m\u001b]8;;\u001b\\\u001b[2m:\u001b[0m\u001b]8;id=129989;file:///home/paltenmo/projects/crossplatform/analysis_and_reporting/ddmin_target_file.py#208\u001b\\\u001b[2m208\u001b[0m\u001b]8;;\u001b\\\n"
      ]
     },
     "metadata": {},
     "output_type": "display_data"
    },
    {
     "data": {
      "text/html": [
       "<pre style=\"white-space:pre;overflow-x:auto;line-height:normal;font-family:Menlo,'DejaVu Sans Mono',consolas,'Courier New',monospace\"><span style=\"color: #7fbfbf; text-decoration-color: #7fbfbf\">           </span>  - export_to_qasm_with_qiskit                                                  <a href=\"file:///home/paltenmo/projects/crossplatform/analysis_and_reporting/ddmin_target_file.py\" target=\"_blank\"><span style=\"color: #7f7f7f; text-decoration-color: #7f7f7f\">ddmin_target_file.py</span></a><span style=\"color: #7f7f7f; text-decoration-color: #7f7f7f\">:</span><a href=\"file:///home/paltenmo/projects/crossplatform/analysis_and_reporting/ddmin_target_file.py#208\" target=\"_blank\"><span style=\"color: #7f7f7f; text-decoration-color: #7f7f7f\">208</span></a>\n",
       "</pre>\n"
      ],
      "text/plain": [
       "\u001b[2;36m          \u001b[0m\u001b[2;36m \u001b[0m  - export_to_qasm_with_qiskit                                                  \u001b]8;id=515191;file:///home/paltenmo/projects/crossplatform/analysis_and_reporting/ddmin_target_file.py\u001b\\\u001b[2mddmin_target_file.py\u001b[0m\u001b]8;;\u001b\\\u001b[2m:\u001b[0m\u001b]8;id=857541;file:///home/paltenmo/projects/crossplatform/analysis_and_reporting/ddmin_target_file.py#208\u001b\\\u001b[2m208\u001b[0m\u001b]8;;\u001b\\\n"
      ]
     },
     "metadata": {},
     "output_type": "display_data"
    },
    {
     "name": "stdout",
     "output_type": "stream",
     "text": [
      "Error parsing: Command 'python /workspace/to_execute.py' in image 'qiskit_runner' returned non-zero exit status 1: b'Traceback (most recent call last):\\n  File \"/workspace/to_execute.py\", line 105, in <module>\\n    target_qc = qc\\nNameError: name \\'qc\\' is not defined\\n'\n",
      "Failed to execute to_execute.py in Docker.\n",
      "Output: Saved the Pytket circuit to /workspace/to_execute_qc_pytket.qasm\n",
      "Saved the Qiskit circuit to /workspace/to_execute_qc_qiskit.qasm\n",
      "Exported QASM files: [('/workspace/to_execute_qc_pytket.qasm', 'export_to_qasm_with_pytket'), ('/workspace/to_execute_qc_qiskit.qasm', 'export_to_qasm_with_qiskit')]\n",
      "Log has been saved to /workspace/to_execute_cb5d12_error.json\n",
      "\n",
      "Program to_execute.py executed successfully.\n",
      "New exception message: The circuits are not equivalent: /workspace/to_execute_qc_pytket.qasm, /workspace/to_execute_qc_qiskit.qasm\n",
      "Error parsing: Command 'python /workspace/to_execute.py' in image 'qiskit_runner' returned non-zero exit status 1: b'  File \"/workspace/to_execute.py\", line 18\\n    , custom_instructions=qasm2.LEGACY_CUSTOM_INSTRUCTIONS)\\n                                                          ^\\nSyntaxError: unmatched \\')\\'\\n'\n",
      "Failed to execute to_execute.py in Docker.\n",
      "Error parsing: Command 'python /workspace/to_execute.py' in image 'qiskit_runner' returned non-zero exit status 1: b'  File \"/workspace/to_execute.py\", line 10\\n    qc = qasm2.loads(\\n                    ^\\nSyntaxError: \\'(\\' was never closed\\n'\n",
      "Failed to execute to_execute.py in Docker.\n",
      "Error parsing: Command 'python /workspace/to_execute.py' in image 'qiskit_runner' returned non-zero exit status 1: b'  File \"/workspace/to_execute.py\", line 24\\n    , custom_instructions=qasm2.LEGACY_CUSTOM_INSTRUCTIONS)\\n                                                          ^\\nSyntaxError: unmatched \\')\\'\\n'\n",
      "Failed to execute to_execute.py in Docker.\n",
      "Error parsing: Command 'python /workspace/to_execute.py' in image 'qiskit_runner' returned non-zero exit status 1: b'Traceback (most recent call last):\\n  File \"/workspace/to_execute.py\", line 10, in <module>\\n    qc = qasm2.loads(\\n  File \"/usr/local/lib/python3.10/site-packages/qiskit/qasm2/__init__.py\", line 587, in loads\\n    return _parse.from_bytecode(\\n  File \"/usr/local/lib/python3.10/site-packages/qiskit/qasm2/parse.py\", line 214, in from_bytecode\\n    for op in bc:\\nqiskit.qasm2.exceptions.QASM2ParseError: \"<input>:4,2: \\'reg_2_q\\' is not defined in this scope\"\\n'\n",
      "Failed to execute to_execute.py in Docker.\n",
      "Output: Saved the Pytket circuit to /workspace/to_execute_qc_pytket.qasm\n",
      "Saved the Qiskit circuit to /workspace/to_execute_qc_qiskit.qasm\n",
      "Exported QASM files: [('/workspace/to_execute_qc_pytket.qasm', 'export_to_qasm_with_pytket'), ('/workspace/to_execute_qc_qiskit.qasm', 'export_to_qasm_with_qiskit')]\n",
      "Log has been saved to /workspace/to_execute_f78446_error.json\n",
      "\n",
      "Program to_execute.py executed successfully.\n",
      "New exception message: The circuits are not equivalent: /workspace/to_execute_qc_pytket.qasm, /workspace/to_execute_qc_qiskit.qasm\n",
      "Error parsing: Command 'python /workspace/to_execute.py' in image 'qiskit_runner' returned non-zero exit status 1: b'  File \"/workspace/to_execute.py\", line 18\\n    , custom_instructions=qasm2.LEGACY_CUSTOM_INSTRUCTIONS)\\n                                                          ^\\nSyntaxError: unmatched \\')\\'\\n'\n",
      "Failed to execute to_execute.py in Docker.\n",
      "Error parsing: Command 'python /workspace/to_execute.py' in image 'qiskit_runner' returned non-zero exit status 1: b'Traceback (most recent call last):\\n  File \"/workspace/to_execute.py\", line 10, in <module>\\n    qc = qasm2.loads(\\n  File \"/usr/local/lib/python3.10/site-packages/qiskit/qasm2/__init__.py\", line 587, in loads\\n    return _parse.from_bytecode(\\n  File \"/usr/local/lib/python3.10/site-packages/qiskit/qasm2/parse.py\", line 214, in from_bytecode\\n    for op in bc:\\nqiskit.qasm2.exceptions.QASM2ParseError: \"<input>:4,2: \\'reg_2_q\\' is not defined in this scope\"\\n'\n",
      "Failed to execute to_execute.py in Docker.\n",
      "Error parsing: Command 'python /workspace/to_execute.py' in image 'qiskit_runner' returned non-zero exit status 1: b'  File \"/workspace/to_execute.py\", line 10\\n    qc = qasm2.loads(\\n                    ^\\nSyntaxError: \\'(\\' was never closed\\n'\n",
      "Failed to execute to_execute.py in Docker.\n",
      "Error parsing: Command 'python /workspace/to_execute.py' in image 'qiskit_runner' returned non-zero exit status 1: b'  File \"/workspace/to_execute.py\", line 20\\n    , custom_instructions=qasm2.LEGACY_CUSTOM_INSTRUCTIONS)\\n                                                          ^\\nSyntaxError: unmatched \\')\\'\\n'\n",
      "Failed to execute to_execute.py in Docker.\n",
      "Error parsing: Command 'python /workspace/to_execute.py' in image 'qiskit_runner' returned non-zero exit status 1: b'Traceback (most recent call last):\\n  File \"/workspace/to_execute.py\", line 10, in <module>\\n    qc = qasm2.loads(\\n  File \"/usr/local/lib/python3.10/site-packages/qiskit/qasm2/__init__.py\", line 587, in loads\\n    return _parse.from_bytecode(\\n  File \"/usr/local/lib/python3.10/site-packages/qiskit/qasm2/parse.py\", line 214, in from_bytecode\\n    for op in bc:\\nqiskit.qasm2.exceptions.QASM2ParseError: \"<input>:7,0: cannot use non-builtin custom instruction \\'h\\' before definition\"\\n'\n",
      "Failed to execute to_execute.py in Docker.\n",
      "Error parsing: Command 'python /workspace/to_execute.py' in image 'qiskit_runner' returned non-zero exit status 1: b'Traceback (most recent call last):\\n  File \"/workspace/to_execute.py\", line 10, in <module>\\n    qc = qasm2.loads(\\n  File \"/usr/local/lib/python3.10/site-packages/qiskit/qasm2/__init__.py\", line 587, in loads\\n    return _parse.from_bytecode(\\n  File \"/usr/local/lib/python3.10/site-packages/qiskit/qasm2/parse.py\", line 214, in from_bytecode\\n    for op in bc:\\nqiskit.qasm2.exceptions.QASM2ParseError: \"<input>:6,2: \\'reg_2_q\\' is not defined in this scope\"\\n'\n",
      "Failed to execute to_execute.py in Docker.\n",
      "Error parsing: Command 'python /workspace/to_execute.py' in image 'qiskit_runner' returned non-zero exit status 1: b'Traceback (most recent call last):\\n  File \"/workspace/to_execute.py\", line 10, in <module>\\n    qc = qasm2.loads(\\n  File \"/usr/local/lib/python3.10/site-packages/qiskit/qasm2/__init__.py\", line 587, in loads\\n    return _parse.from_bytecode(\\n  File \"/usr/local/lib/python3.10/site-packages/qiskit/qasm2/parse.py\", line 214, in from_bytecode\\n    for op in bc:\\nqiskit.qasm2.exceptions.QASM2ParseError: \"<input>:8,2: \\'reg_1_b\\' is not defined in this scope\"\\n'\n",
      "Failed to execute to_execute.py in Docker.\n",
      "Output: Saved the Pytket circuit to /workspace/to_execute_qc_pytket.qasm\n",
      "Saved the Qiskit circuit to /workspace/to_execute_qc_qiskit.qasm\n",
      "Exported QASM files: [('/workspace/to_execute_qc_pytket.qasm', 'export_to_qasm_with_pytket'), ('/workspace/to_execute_qc_qiskit.qasm', 'export_to_qasm_with_qiskit')]\n",
      "The circuits are equivalent: /workspace/to_execute_qc_pytket.qasm, /workspace/to_execute_qc_qiskit.qasm\n",
      "\n",
      "Program to_execute.py executed successfully.\n",
      "Error parsing: Command 'python /workspace/to_execute.py' in image 'qiskit_runner' returned non-zero exit status 1: b'  File \"/workspace/to_execute.py\", line 10\\n    qc = qasm2.loads(\\n                    ^\\nSyntaxError: \\'(\\' was never closed\\n'\n",
      "Failed to execute to_execute.py in Docker.\n",
      "Error parsing: Command 'python /workspace/to_execute.py' in image 'qiskit_runner' returned non-zero exit status 1: b'  File \"/workspace/to_execute.py\", line 23\\n    , custom_instructions=qasm2.LEGACY_CUSTOM_INSTRUCTIONS)\\nIndentationError: unexpected indent\\n'\n",
      "Failed to execute to_execute.py in Docker.\n",
      "Output: Saved the Pytket circuit to /workspace/to_execute_qc_pytket.qasm\n",
      "Saved the Qiskit circuit to /workspace/to_execute_qc_qiskit.qasm\n",
      "Exported QASM files: [('/workspace/to_execute_qc_pytket.qasm', 'export_to_qasm_with_pytket'), ('/workspace/to_execute_qc_qiskit.qasm', 'export_to_qasm_with_qiskit')]\n",
      "Log has been saved to /workspace/to_execute_3e34d2_error.json\n",
      "\n",
      "Program to_execute.py executed successfully.\n",
      "New exception message: The circuits are not equivalent: /workspace/to_execute_qc_pytket.qasm, /workspace/to_execute_qc_qiskit.qasm\n",
      "Error parsing: Command 'python /workspace/to_execute.py' in image 'qiskit_runner' returned non-zero exit status 1: b'  File \"/workspace/to_execute.py\", line 22\\n    , custom_instructions=qasm2.LEGACY_CUSTOM_INSTRUCTIONS)\\nIndentationError: unexpected indent\\n'\n",
      "Failed to execute to_execute.py in Docker.\n",
      "Error parsing: Command 'python /workspace/to_execute.py' in image 'qiskit_runner' returned non-zero exit status 1: b'  File \"/workspace/to_execute.py\", line 11\\n    OPENQASM 2.0;\\n    ^^^^^^^^^^^^\\nSyntaxError: invalid syntax. Perhaps you forgot a comma?\\n'\n",
      "Failed to execute to_execute.py in Docker.\n",
      "Output: Saved the Pytket circuit to /workspace/to_execute_qc_pytket.qasm\n",
      "Saved the Qiskit circuit to /workspace/to_execute_qc_qiskit.qasm\n",
      "Exported QASM files: [('/workspace/to_execute_qc_pytket.qasm', 'export_to_qasm_with_pytket'), ('/workspace/to_execute_qc_qiskit.qasm', 'export_to_qasm_with_qiskit')]\n",
      "Log has been saved to /workspace/to_execute_5f337c_error.json\n",
      "\n",
      "Program to_execute.py executed successfully.\n",
      "New exception message: The circuits are not equivalent: /workspace/to_execute_qc_pytket.qasm, /workspace/to_execute_qc_qiskit.qasm\n",
      "Error parsing: Command 'python /workspace/to_execute.py' in image 'qiskit_runner' returned non-zero exit status 1: b'  File \"/workspace/to_execute.py\", line 21\\n    , custom_instructions=qasm2.LEGACY_CUSTOM_INSTRUCTIONS)\\nIndentationError: unexpected indent\\n'\n",
      "Failed to execute to_execute.py in Docker.\n",
      "Error parsing: Command 'python /workspace/to_execute.py' in image 'qiskit_runner' returned non-zero exit status 1: b'  File \"/workspace/to_execute.py\", line 11\\n    include \"qelib1.inc\";\\n            ^^^^^^^^^^^^\\nSyntaxError: invalid syntax\\n'\n",
      "Failed to execute to_execute.py in Docker.\n",
      "Error parsing: Command 'python /workspace/to_execute.py' in image 'qiskit_runner' returned non-zero exit status 1: b'Traceback (most recent call last):\\n  File \"/workspace/to_execute.py\", line 10, in <module>\\n    qc = qasm2.loads(\\n  File \"/usr/local/lib/python3.10/site-packages/qiskit/qasm2/__init__.py\", line 587, in loads\\n    return _parse.from_bytecode(\\n  File \"/usr/local/lib/python3.10/site-packages/qiskit/qasm2/parse.py\", line 214, in from_bytecode\\n    for op in bc:\\nqiskit.qasm2.exceptions.QASM2ParseError: \"<input>:7,0: cannot use non-builtin custom instruction \\'h\\' before definition\"\\n'\n",
      "Failed to execute to_execute.py in Docker.\n",
      "Error parsing: Command 'python /workspace/to_execute.py' in image 'qiskit_runner' returned non-zero exit status 1: b'Traceback (most recent call last):\\n  File \"/workspace/to_execute.py\", line 10, in <module>\\n    qc = qasm2.loads(\\n  File \"/usr/local/lib/python3.10/site-packages/qiskit/qasm2/__init__.py\", line 587, in loads\\n    return _parse.from_bytecode(\\n  File \"/usr/local/lib/python3.10/site-packages/qiskit/qasm2/parse.py\", line 214, in from_bytecode\\n    for op in bc:\\nqiskit.qasm2.exceptions.QASM2ParseError: \"<input>:7,2: \\'reg_2_q\\' is not defined in this scope\"\\n'\n",
      "Failed to execute to_execute.py in Docker.\n",
      "Output: Saved the Pytket circuit to /workspace/to_execute_qc_pytket.qasm\n",
      "Saved the Qiskit circuit to /workspace/to_execute_qc_qiskit.qasm\n",
      "Exported QASM files: [('/workspace/to_execute_qc_pytket.qasm', 'export_to_qasm_with_pytket'), ('/workspace/to_execute_qc_qiskit.qasm', 'export_to_qasm_with_qiskit')]\n",
      "Log has been saved to /workspace/to_execute_9cb40a_error.json\n",
      "\n",
      "Program to_execute.py executed successfully.\n",
      "New exception message: The circuits are not equivalent: /workspace/to_execute_qc_pytket.qasm, /workspace/to_execute_qc_qiskit.qasm\n",
      "Error parsing: Command 'python /workspace/to_execute.py' in image 'qiskit_runner' returned non-zero exit status 1: b'  File \"/workspace/to_execute.py\", line 19\\n    , custom_instructions=qasm2.LEGACY_CUSTOM_INSTRUCTIONS)\\nIndentationError: unexpected indent\\n'\n",
      "Failed to execute to_execute.py in Docker.\n",
      "Error parsing: Command 'python /workspace/to_execute.py' in image 'qiskit_runner' returned non-zero exit status 1: b'  File \"/workspace/to_execute.py\", line 11\\n    include \"qelib1.inc\";\\n            ^^^^^^^^^^^^\\nSyntaxError: invalid syntax\\n'\n",
      "Failed to execute to_execute.py in Docker.\n",
      "Error parsing: Command 'python /workspace/to_execute.py' in image 'qiskit_runner' returned non-zero exit status 1: b'Traceback (most recent call last):\\n  File \"/workspace/to_execute.py\", line 10, in <module>\\n    qc = qasm2.loads(\\n  File \"/usr/local/lib/python3.10/site-packages/qiskit/qasm2/__init__.py\", line 587, in loads\\n    return _parse.from_bytecode(\\n  File \"/usr/local/lib/python3.10/site-packages/qiskit/qasm2/parse.py\", line 214, in from_bytecode\\n    for op in bc:\\nqiskit.qasm2.exceptions.QASM2ParseError: \"<input>:5,0: cannot use non-builtin custom instruction \\'h\\' before definition\"\\n'\n",
      "Failed to execute to_execute.py in Docker.\n",
      "Error parsing: Command 'python /workspace/to_execute.py' in image 'qiskit_runner' returned non-zero exit status 1: b'Traceback (most recent call last):\\n  File \"/workspace/to_execute.py\", line 10, in <module>\\n    qc = qasm2.loads(\\n  File \"/usr/local/lib/python3.10/site-packages/qiskit/qasm2/__init__.py\", line 587, in loads\\n    return _parse.from_bytecode(\\n  File \"/usr/local/lib/python3.10/site-packages/qiskit/qasm2/parse.py\", line 214, in from_bytecode\\n    for op in bc:\\nqiskit.qasm2.exceptions.QASM2ParseError: \"<input>:5,2: \\'reg_2_q\\' is not defined in this scope\"\\n'\n",
      "Failed to execute to_execute.py in Docker.\n",
      "Error parsing: Command 'python /workspace/to_execute.py' in image 'qiskit_runner' returned non-zero exit status 1: b'Traceback (most recent call last):\\n  File \"/workspace/to_execute.py\", line 10, in <module>\\n    qc = qasm2.loads(\\n  File \"/usr/local/lib/python3.10/site-packages/qiskit/qasm2/__init__.py\", line 587, in loads\\n    return _parse.from_bytecode(\\n  File \"/usr/local/lib/python3.10/site-packages/qiskit/qasm2/parse.py\", line 214, in from_bytecode\\n    for op in bc:\\nqiskit.qasm2.exceptions.QASM2ParseError: \"<input>:6,2: \\'reg_1_b\\' is not defined in this scope\"\\n'\n",
      "Failed to execute to_execute.py in Docker.\n",
      "Output: Saved the Pytket circuit to /workspace/to_execute_qc_pytket.qasm\n",
      "Saved the Qiskit circuit to /workspace/to_execute_qc_qiskit.qasm\n",
      "Exported QASM files: [('/workspace/to_execute_qc_pytket.qasm', 'export_to_qasm_with_pytket'), ('/workspace/to_execute_qc_qiskit.qasm', 'export_to_qasm_with_qiskit')]\n",
      "Log has been saved to /workspace/to_execute_a6c3c5_error.json\n",
      "\n",
      "Program to_execute.py executed successfully.\n",
      "New exception message: The circuits are not equivalent: /workspace/to_execute_qc_pytket.qasm, /workspace/to_execute_qc_qiskit.qasm\n",
      "Error parsing: Command 'python /workspace/to_execute.py' in image 'qiskit_runner' returned non-zero exit status 1: b'  File \"/workspace/to_execute.py\", line 17\\n    , custom_instructions=qasm2.LEGACY_CUSTOM_INSTRUCTIONS)\\nIndentationError: unexpected indent\\n'\n",
      "Failed to execute to_execute.py in Docker.\n",
      "Error parsing: Command 'python /workspace/to_execute.py' in image 'qiskit_runner' returned non-zero exit status 1: b'  File \"/workspace/to_execute.py\", line 11\\n    include \"qelib1.inc\";\\n            ^^^^^^^^^^^^\\nSyntaxError: invalid syntax\\n'\n",
      "Failed to execute to_execute.py in Docker.\n",
      "Error parsing: Command 'python /workspace/to_execute.py' in image 'qiskit_runner' returned non-zero exit status 1: b'Traceback (most recent call last):\\n  File \"/workspace/to_execute.py\", line 10, in <module>\\n    qc = qasm2.loads(\\n  File \"/usr/local/lib/python3.10/site-packages/qiskit/qasm2/__init__.py\", line 587, in loads\\n    return _parse.from_bytecode(\\n  File \"/usr/local/lib/python3.10/site-packages/qiskit/qasm2/parse.py\", line 214, in from_bytecode\\n    for op in bc:\\nqiskit.qasm2.exceptions.QASM2ParseError: \"<input>:4,0: cannot use non-builtin custom instruction \\'x\\' before definition\"\\n'\n",
      "Failed to execute to_execute.py in Docker.\n",
      "Output: Saved the Pytket circuit to /workspace/to_execute_qc_pytket.qasm\n",
      "Saved the Qiskit circuit to /workspace/to_execute_qc_qiskit.qasm\n",
      "Exported QASM files: [('/workspace/to_execute_qc_pytket.qasm', 'export_to_qasm_with_pytket'), ('/workspace/to_execute_qc_qiskit.qasm', 'export_to_qasm_with_qiskit')]\n",
      "The circuits are equivalent: /workspace/to_execute_qc_pytket.qasm, /workspace/to_execute_qc_qiskit.qasm\n",
      "\n",
      "Program to_execute.py executed successfully.\n",
      "Error parsing: Command 'python /workspace/to_execute.py' in image 'qiskit_runner' returned non-zero exit status 1: b'Traceback (most recent call last):\\n  File \"/workspace/to_execute.py\", line 10, in <module>\\n    qc = qasm2.loads(\\n  File \"/usr/local/lib/python3.10/site-packages/qiskit/qasm2/__init__.py\", line 587, in loads\\n    return _parse.from_bytecode(\\n  File \"/usr/local/lib/python3.10/site-packages/qiskit/qasm2/parse.py\", line 214, in from_bytecode\\n    for op in bc:\\nqiskit.qasm2.exceptions.QASM2ParseError: \"<input>:4,2: \\'reg_1_b\\' is not defined in this scope\"\\n'\n",
      "Failed to execute to_execute.py in Docker.\n",
      "Output: Saved the Pytket circuit to /workspace/to_execute_qc_pytket.qasm\n",
      "Saved the Qiskit circuit to /workspace/to_execute_qc_qiskit.qasm\n",
      "Exported QASM files: [('/workspace/to_execute_qc_pytket.qasm', 'export_to_qasm_with_pytket'), ('/workspace/to_execute_qc_qiskit.qasm', 'export_to_qasm_with_qiskit')]\n",
      "Log has been saved to /workspace/to_execute_44883a_error.json\n",
      "\n",
      "Program to_execute.py executed successfully.\n",
      "New exception message: The circuits are not equivalent: /workspace/to_execute_qc_pytket.qasm, /workspace/to_execute_qc_qiskit.qasm\n",
      "Error parsing: Command 'python /workspace/to_execute.py' in image 'qiskit_runner' returned non-zero exit status 1: b'  File \"/workspace/to_execute.py\", line 16\\n    , custom_instructions=qasm2.LEGACY_CUSTOM_INSTRUCTIONS)\\nIndentationError: unexpected indent\\n'\n",
      "Failed to execute to_execute.py in Docker.\n",
      "Error parsing: Command 'python /workspace/to_execute.py' in image 'qiskit_runner' returned non-zero exit status 1: b'  File \"/workspace/to_execute.py\", line 11\\n    include \"qelib1.inc\";\\n            ^^^^^^^^^^^^\\nSyntaxError: invalid syntax\\n'\n",
      "Failed to execute to_execute.py in Docker.\n",
      "Error parsing: Command 'python /workspace/to_execute.py' in image 'qiskit_runner' returned non-zero exit status 1: b'Traceback (most recent call last):\\n  File \"/workspace/to_execute.py\", line 10, in <module>\\n    qc = qasm2.loads(\\n  File \"/usr/local/lib/python3.10/site-packages/qiskit/qasm2/__init__.py\", line 587, in loads\\n    return _parse.from_bytecode(\\n  File \"/usr/local/lib/python3.10/site-packages/qiskit/qasm2/parse.py\", line 214, in from_bytecode\\n    for op in bc:\\nqiskit.qasm2.exceptions.QASM2ParseError: \"<input>:4,0: cannot use non-builtin custom instruction \\'x\\' before definition\"\\n'\n",
      "Failed to execute to_execute.py in Docker.\n",
      "Output: Saved the Pytket circuit to /workspace/to_execute_qc_pytket.qasm\n",
      "Saved the Qiskit circuit to /workspace/to_execute_qc_qiskit.qasm\n",
      "Exported QASM files: [('/workspace/to_execute_qc_pytket.qasm', 'export_to_qasm_with_pytket'), ('/workspace/to_execute_qc_qiskit.qasm', 'export_to_qasm_with_qiskit')]\n",
      "The circuits are equivalent: /workspace/to_execute_qc_pytket.qasm, /workspace/to_execute_qc_qiskit.qasm\n",
      "\n",
      "Program to_execute.py executed successfully.\n",
      "Error parsing: Command 'python /workspace/to_execute.py' in image 'qiskit_runner' returned non-zero exit status 1: b'Traceback (most recent call last):\\n  File \"/workspace/to_execute.py\", line 10, in <module>\\n    qc = qasm2.loads(\\n  File \"/usr/local/lib/python3.10/site-packages/qiskit/qasm2/__init__.py\", line 587, in loads\\n    return _parse.from_bytecode(\\n  File \"/usr/local/lib/python3.10/site-packages/qiskit/qasm2/parse.py\", line 214, in from_bytecode\\n    for op in bc:\\nqiskit.qasm2.exceptions.QASM2ParseError: \"<input>:4,2: \\'reg_1_b\\' is not defined in this scope\"\\n'\n",
      "Failed to execute to_execute.py in Docker.\n",
      "Error parsing: Command 'python /workspace/to_execute.py' in image 'qiskit_runner' returned non-zero exit status 1: b'  File \"/workspace/to_execute.py\", line 11\\n    include \"qelib1.inc\";\\n            ^^^^^^^^^^^^\\nSyntaxError: invalid syntax\\n'\n",
      "Failed to execute to_execute.py in Docker.\n",
      "Error parsing: Command 'python /workspace/to_execute.py' in image 'qiskit_runner' returned non-zero exit status 1: b'  File \"/workspace/to_execute.py\", line 10\\n    qc = qasm2.loads(\\n                    ^\\nSyntaxError: \\'(\\' was never closed\\n'\n",
      "Failed to execute to_execute.py in Docker.\n",
      "Error parsing: Command 'python /workspace/to_execute.py' in image 'qiskit_runner' returned non-zero exit status 1: b'  File \"/workspace/to_execute.py\", line 16\\n    , custom_instructions=qasm2.LEGACY_CUSTOM_INSTRUCTIONS)\\nIndentationError: unexpected indent\\n'\n",
      "Failed to execute to_execute.py in Docker.\n",
      "Error parsing: Command 'python /workspace/to_execute.py' in image 'qiskit_runner' returned non-zero exit status 1: b'  File \"/workspace/to_execute.py\", line 11\\n    include \"qelib1.inc\";\\n            ^^^^^^^^^^^^\\nSyntaxError: invalid syntax\\n'\n",
      "Failed to execute to_execute.py in Docker.\n",
      "Error parsing: Command 'python /workspace/to_execute.py' in image 'qiskit_runner' returned non-zero exit status 1: b'Traceback (most recent call last):\\n  File \"/workspace/to_execute.py\", line 10, in <module>\\n    qc = qasm2.loads(\\n  File \"/usr/local/lib/python3.10/site-packages/qiskit/qasm2/__init__.py\", line 587, in loads\\n    return _parse.from_bytecode(\\n  File \"/usr/local/lib/python3.10/site-packages/qiskit/qasm2/parse.py\", line 214, in from_bytecode\\n    for op in bc:\\nqiskit.qasm2.exceptions.QASM2ParseError: \"<input>:4,0: cannot use non-builtin custom instruction \\'x\\' before definition\"\\n'\n",
      "Failed to execute to_execute.py in Docker.\n",
      "Output: Saved the Pytket circuit to /workspace/to_execute_qc_pytket.qasm\n",
      "Saved the Qiskit circuit to /workspace/to_execute_qc_qiskit.qasm\n",
      "Exported QASM files: [('/workspace/to_execute_qc_pytket.qasm', 'export_to_qasm_with_pytket'), ('/workspace/to_execute_qc_qiskit.qasm', 'export_to_qasm_with_qiskit')]\n",
      "The circuits are equivalent: /workspace/to_execute_qc_pytket.qasm, /workspace/to_execute_qc_qiskit.qasm\n",
      "\n",
      "Program to_execute.py executed successfully.\n",
      "Error parsing: Command 'python /workspace/to_execute.py' in image 'qiskit_runner' returned non-zero exit status 1: b'Traceback (most recent call last):\\n  File \"/workspace/to_execute.py\", line 10, in <module>\\n    qc = qasm2.loads(\\n  File \"/usr/local/lib/python3.10/site-packages/qiskit/qasm2/__init__.py\", line 587, in loads\\n    return _parse.from_bytecode(\\n  File \"/usr/local/lib/python3.10/site-packages/qiskit/qasm2/parse.py\", line 214, in from_bytecode\\n    for op in bc:\\nqiskit.qasm2.exceptions.QASM2ParseError: \"<input>:4,2: \\'reg_1_b\\' is not defined in this scope\"\\n'\n",
      "Failed to execute to_execute.py in Docker.\n",
      "Output: Saved the Pytket circuit to /workspace/to_execute_qc_pytket.qasm\n",
      "Saved the Qiskit circuit to /workspace/to_execute_qc_qiskit.qasm\n",
      "Exported QASM files: [('/workspace/to_execute_qc_pytket.qasm', 'export_to_qasm_with_pytket'), ('/workspace/to_execute_qc_qiskit.qasm', 'export_to_qasm_with_qiskit')]\n",
      "The circuits are equivalent: /workspace/to_execute_qc_pytket.qasm, /workspace/to_execute_qc_qiskit.qasm\n",
      "\n",
      "Program to_execute.py executed successfully.\n",
      "Error parsing: Command 'python /workspace/to_execute.py' in image 'qiskit_runner' returned non-zero exit status 1: b'  File \"/workspace/to_execute.py\", line 11\\n    include \"qelib1.inc\";\\n            ^^^^^^^^^^^^\\nSyntaxError: invalid syntax\\n'\n",
      "Failed to execute to_execute.py in Docker.\n",
      "Error parsing: Command 'python /workspace/to_execute.py' in image 'qiskit_runner' returned non-zero exit status 1: b'  File \"/workspace/to_execute.py\", line 10\\n    qc = qasm2.loads(\\n                    ^\\nSyntaxError: \\'(\\' was never closed\\n'\n",
      "Failed to execute to_execute.py in Docker.\n"
     ]
    },
    {
     "data": {
      "text/html": [
       "<pre style=\"white-space:pre;overflow-x:auto;line-height:normal;font-family:Menlo,'DejaVu Sans Mono',consolas,'Courier New',monospace\"><span style=\"color: #7fbfbf; text-decoration-color: #7fbfbf\">[14:53:11] </span><span style=\"color: #008000; text-decoration-color: #008000\">Minimized file saved as:</span>                                                        <a href=\"file:///home/paltenmo/projects/crossplatform/analysis_and_reporting/ddmin_target_file.py\" target=\"_blank\"><span style=\"color: #7f7f7f; text-decoration-color: #7f7f7f\">ddmin_target_file.py</span></a><span style=\"color: #7f7f7f; text-decoration-color: #7f7f7f\">:</span><a href=\"file:///home/paltenmo/projects/crossplatform/analysis_and_reporting/ddmin_target_file.py#240\" target=\"_blank\"><span style=\"color: #7f7f7f; text-decoration-color: #7f7f7f\">240</span></a>\n",
       "<span style=\"color: #7fbfbf; text-decoration-color: #7fbfbf\">           </span>..<span style=\"color: #800080; text-decoration-color: #800080\">/reports/v009/2024_11_21__14_49/</span><span style=\"color: #ff00ff; text-decoration-color: #ff00ff\">qiskit_circuit_5q_10g_4342_faa083_a812bf_erro</span> <span style=\"color: #7f7f7f; text-decoration-color: #7f7f7f\">                        </span>\n",
       "<span style=\"color: #7fbfbf; text-decoration-color: #7fbfbf\">           </span><span style=\"color: #ff00ff; text-decoration-color: #ff00ff\">r_min.py</span>                                                                        <span style=\"color: #7f7f7f; text-decoration-color: #7f7f7f\">                        </span>\n",
       "</pre>\n"
      ],
      "text/plain": [
       "\u001b[2;36m[14:53:11]\u001b[0m\u001b[2;36m \u001b[0m\u001b[32mMinimized file saved as:\u001b[0m                                                        \u001b]8;id=70170;file:///home/paltenmo/projects/crossplatform/analysis_and_reporting/ddmin_target_file.py\u001b\\\u001b[2mddmin_target_file.py\u001b[0m\u001b]8;;\u001b\\\u001b[2m:\u001b[0m\u001b]8;id=745287;file:///home/paltenmo/projects/crossplatform/analysis_and_reporting/ddmin_target_file.py#240\u001b\\\u001b[2m240\u001b[0m\u001b]8;;\u001b\\\n",
       "\u001b[2;36m           \u001b[0m..\u001b[35m/reports/v009/2024_11_21__14_49/\u001b[0m\u001b[95mqiskit_circuit_5q_10g_4342_faa083_a812bf_erro\u001b[0m \u001b[2m                        \u001b[0m\n",
       "\u001b[2;36m           \u001b[0m\u001b[95mr_min.py\u001b[0m                                                                        \u001b[2m                        \u001b[0m\n"
      ]
     },
     "metadata": {},
     "output_type": "display_data"
    },
    {
     "name": "stdout",
     "output_type": "stream",
     "text": [
      "Output: Saved the Pytket circuit to /workspace/qiskit_circuit_5q_10g_4342_faa083_a812bf_error_min_qc_pytket.qasm\n",
      "Saved the Qiskit circuit to /workspace/qiskit_circuit_5q_10g_4342_faa083_a812bf_error_min_qc_qiskit.qasm\n",
      "Exported QASM files: [('/workspace/qiskit_circuit_5q_10g_4342_faa083_a812bf_error_min_qc_pytket.qasm', 'export_to_qasm_with_pytket'), ('/workspace/qiskit_circuit_5q_10g_4342_faa083_a812bf_error_min_qc_qiskit.qasm', 'export_to_qasm_with_qiskit')]\n",
      "Log has been saved to /workspace/qiskit_circuit_5q_10g_4342_faa083_a812bf_error_min_577bf2_error.json\n",
      "\n"
     ]
    },
    {
     "data": {
      "text/html": [
       "<pre style=\"white-space:pre;overflow-x:auto;line-height:normal;font-family:Menlo,'DejaVu Sans Mono',consolas,'Courier New',monospace\"><span style=\"color: #7fbfbf; text-decoration-color: #7fbfbf\">[14:53:18] </span>Program qiskit_circuit_5q_10g_4342_faa083_a812bf_error_min.py executed              <a href=\"file:///home/paltenmo/projects/crossplatform/generators/docker_tooling.py\" target=\"_blank\"><span style=\"color: #7f7f7f; text-decoration-color: #7f7f7f\">docker_tooling.py</span></a><span style=\"color: #7f7f7f; text-decoration-color: #7f7f7f\">:</span><a href=\"file:///home/paltenmo/projects/crossplatform/generators/docker_tooling.py#46\" target=\"_blank\"><span style=\"color: #7f7f7f; text-decoration-color: #7f7f7f\">46</span></a>\n",
       "<span style=\"color: #7fbfbf; text-decoration-color: #7fbfbf\">           </span>successfully.                                                                       <span style=\"color: #7f7f7f; text-decoration-color: #7f7f7f\">                    </span>\n",
       "</pre>\n"
      ],
      "text/plain": [
       "\u001b[2;36m[14:53:18]\u001b[0m\u001b[2;36m \u001b[0mProgram qiskit_circuit_5q_10g_4342_faa083_a812bf_error_min.py executed              \u001b]8;id=28932;file:///home/paltenmo/projects/crossplatform/generators/docker_tooling.py\u001b\\\u001b[2mdocker_tooling.py\u001b[0m\u001b]8;;\u001b\\\u001b[2m:\u001b[0m\u001b]8;id=575837;file:///home/paltenmo/projects/crossplatform/generators/docker_tooling.py#46\u001b\\\u001b[2m46\u001b[0m\u001b]8;;\u001b\\\n",
       "\u001b[2;36m           \u001b[0msuccessfully.                                                                       \u001b[2m                    \u001b[0m\n"
      ]
     },
     "metadata": {},
     "output_type": "display_data"
    },
    {
     "data": {
      "application/vnd.jupyter.widget-view+json": {
       "model_id": "6f23833a81b9485fa467b20c8d42d243",
       "version_major": 2,
       "version_minor": 0
      },
      "text/plain": [
       "Executing:   0%|          | 0/13 [00:00<?, ?cell/s]"
      ]
     },
     "metadata": {},
     "output_type": "display_data"
    },
    {
     "data": {
      "text/html": [
       "<pre style=\"white-space:pre;overflow-x:auto;line-height:normal;font-family:Menlo,'DejaVu Sans Mono',consolas,'Courier New',monospace\"><span style=\"color: #7fbfbf; text-decoration-color: #7fbfbf\">[14:53:21] </span>Analysis notebook executed: ..<span style=\"color: #800080; text-decoration-color: #800080\">/reports/v009/2024_11_21__14_49/</span><span style=\"color: #ff00ff; text-decoration-color: #ff00ff\">analysis_output.ipynb</span>        <a href=\"file:///home/paltenmo/projects/crossplatform/analysis_and_reporting/triage.py\" target=\"_blank\"><span style=\"color: #7f7f7f; text-decoration-color: #7f7f7f\">triage.py</span></a><span style=\"color: #7f7f7f; text-decoration-color: #7f7f7f\">:</span><a href=\"file:///home/paltenmo/projects/crossplatform/analysis_and_reporting/triage.py#163\" target=\"_blank\"><span style=\"color: #7f7f7f; text-decoration-color: #7f7f7f\">163</span></a>\n",
       "</pre>\n"
      ],
      "text/plain": [
       "\u001b[2;36m[14:53:21]\u001b[0m\u001b[2;36m \u001b[0mAnalysis notebook executed: ..\u001b[35m/reports/v009/2024_11_21__14_49/\u001b[0m\u001b[95manalysis_output.ipynb\u001b[0m        \u001b]8;id=599315;file:///home/paltenmo/projects/crossplatform/analysis_and_reporting/triage.py\u001b\\\u001b[2mtriage.py\u001b[0m\u001b]8;;\u001b\\\u001b[2m:\u001b[0m\u001b]8;id=886792;file:///home/paltenmo/projects/crossplatform/analysis_and_reporting/triage.py#163\u001b\\\u001b[2m163\u001b[0m\u001b]8;;\u001b\\\n"
      ]
     },
     "metadata": {},
     "output_type": "display_data"
    },
    {
     "data": {
      "text/html": [
       "<pre style=\"white-space:pre;overflow-x:auto;line-height:normal;font-family:Menlo,'DejaVu Sans Mono',consolas,'Courier New',monospace\"><span style=\"color: #7fbfbf; text-decoration-color: #7fbfbf\">           </span>Created report folder: ..<span style=\"color: #800080; text-decoration-color: #800080\">/reports/v009/</span><span style=\"color: #ff00ff; text-decoration-color: #ff00ff\">2024_11_21__14_53</span>                                   <a href=\"file:///home/paltenmo/projects/crossplatform/analysis_and_reporting/triage.py\" target=\"_blank\"><span style=\"color: #7f7f7f; text-decoration-color: #7f7f7f\">triage.py</span></a><span style=\"color: #7f7f7f; text-decoration-color: #7f7f7f\">:</span><a href=\"file:///home/paltenmo/projects/crossplatform/analysis_and_reporting/triage.py#131\" target=\"_blank\"><span style=\"color: #7f7f7f; text-decoration-color: #7f7f7f\">131</span></a>\n",
       "</pre>\n"
      ],
      "text/plain": [
       "\u001b[2;36m          \u001b[0m\u001b[2;36m \u001b[0mCreated report folder: ..\u001b[35m/reports/v009/\u001b[0m\u001b[95m2024_11_21__14_53\u001b[0m                                   \u001b]8;id=219138;file:///home/paltenmo/projects/crossplatform/analysis_and_reporting/triage.py\u001b\\\u001b[2mtriage.py\u001b[0m\u001b]8;;\u001b\\\u001b[2m:\u001b[0m\u001b]8;id=604296;file:///home/paltenmo/projects/crossplatform/analysis_and_reporting/triage.py#131\u001b\\\u001b[2m131\u001b[0m\u001b]8;;\u001b\\\n"
      ]
     },
     "metadata": {},
     "output_type": "display_data"
    },
    {
     "data": {
      "text/html": [
       "<pre style=\"white-space:pre;overflow-x:auto;line-height:normal;font-family:Menlo,'DejaVu Sans Mono',consolas,'Courier New',monospace\"><span style=\"color: #7fbfbf; text-decoration-color: #7fbfbf\">           </span>Copied files to: ..<span style=\"color: #800080; text-decoration-color: #800080\">/reports/v009/</span><span style=\"color: #ff00ff; text-decoration-color: #ff00ff\">2024_11_21__14_53</span>                                         <a href=\"file:///home/paltenmo/projects/crossplatform/analysis_and_reporting/triage.py\" target=\"_blank\"><span style=\"color: #7f7f7f; text-decoration-color: #7f7f7f\">triage.py</span></a><span style=\"color: #7f7f7f; text-decoration-color: #7f7f7f\">:</span><a href=\"file:///home/paltenmo/projects/crossplatform/analysis_and_reporting/triage.py#140\" target=\"_blank\"><span style=\"color: #7f7f7f; text-decoration-color: #7f7f7f\">140</span></a>\n",
       "</pre>\n"
      ],
      "text/plain": [
       "\u001b[2;36m          \u001b[0m\u001b[2;36m \u001b[0mCopied files to: ..\u001b[35m/reports/v009/\u001b[0m\u001b[95m2024_11_21__14_53\u001b[0m                                         \u001b]8;id=694511;file:///home/paltenmo/projects/crossplatform/analysis_and_reporting/triage.py\u001b\\\u001b[2mtriage.py\u001b[0m\u001b]8;;\u001b\\\u001b[2m:\u001b[0m\u001b]8;id=600508;file:///home/paltenmo/projects/crossplatform/analysis_and_reporting/triage.py#140\u001b\\\u001b[2m140\u001b[0m\u001b]8;;\u001b\\\n"
      ]
     },
     "metadata": {},
     "output_type": "display_data"
    },
    {
     "data": {
      "text/html": [
       "<pre style=\"white-space:pre;overflow-x:auto;line-height:normal;font-family:Menlo,'DejaVu Sans Mono',consolas,'Courier New',monospace\"><span style=\"color: #7fbfbf; text-decoration-color: #7fbfbf\">[14:53:21] </span>Involved functions:                                                             <a href=\"file:///home/paltenmo/projects/crossplatform/analysis_and_reporting/ddmin_target_file.py\" target=\"_blank\"><span style=\"color: #7f7f7f; text-decoration-color: #7f7f7f\">ddmin_target_file.py</span></a><span style=\"color: #7f7f7f; text-decoration-color: #7f7f7f\">:</span><a href=\"file:///home/paltenmo/projects/crossplatform/analysis_and_reporting/ddmin_target_file.py#206\" target=\"_blank\"><span style=\"color: #7f7f7f; text-decoration-color: #7f7f7f\">206</span></a>\n",
       "</pre>\n"
      ],
      "text/plain": [
       "\u001b[2;36m[14:53:21]\u001b[0m\u001b[2;36m \u001b[0mInvolved functions:                                                             \u001b]8;id=827893;file:///home/paltenmo/projects/crossplatform/analysis_and_reporting/ddmin_target_file.py\u001b\\\u001b[2mddmin_target_file.py\u001b[0m\u001b]8;;\u001b\\\u001b[2m:\u001b[0m\u001b]8;id=760556;file:///home/paltenmo/projects/crossplatform/analysis_and_reporting/ddmin_target_file.py#206\u001b\\\u001b[2m206\u001b[0m\u001b]8;;\u001b\\\n"
      ]
     },
     "metadata": {},
     "output_type": "display_data"
    },
    {
     "data": {
      "text/html": [
       "<pre style=\"white-space:pre;overflow-x:auto;line-height:normal;font-family:Menlo,'DejaVu Sans Mono',consolas,'Courier New',monospace\"><span style=\"color: #7fbfbf; text-decoration-color: #7fbfbf\">           </span>  - compare_qasm_via_qcec                                                       <a href=\"file:///home/paltenmo/projects/crossplatform/analysis_and_reporting/ddmin_target_file.py\" target=\"_blank\"><span style=\"color: #7f7f7f; text-decoration-color: #7f7f7f\">ddmin_target_file.py</span></a><span style=\"color: #7f7f7f; text-decoration-color: #7f7f7f\">:</span><a href=\"file:///home/paltenmo/projects/crossplatform/analysis_and_reporting/ddmin_target_file.py#208\" target=\"_blank\"><span style=\"color: #7f7f7f; text-decoration-color: #7f7f7f\">208</span></a>\n",
       "</pre>\n"
      ],
      "text/plain": [
       "\u001b[2;36m          \u001b[0m\u001b[2;36m \u001b[0m  - compare_qasm_via_qcec                                                       \u001b]8;id=664975;file:///home/paltenmo/projects/crossplatform/analysis_and_reporting/ddmin_target_file.py\u001b\\\u001b[2mddmin_target_file.py\u001b[0m\u001b]8;;\u001b\\\u001b[2m:\u001b[0m\u001b]8;id=821106;file:///home/paltenmo/projects/crossplatform/analysis_and_reporting/ddmin_target_file.py#208\u001b\\\u001b[2m208\u001b[0m\u001b]8;;\u001b\\\n"
      ]
     },
     "metadata": {},
     "output_type": "display_data"
    },
    {
     "data": {
      "text/html": [
       "<pre style=\"white-space:pre;overflow-x:auto;line-height:normal;font-family:Menlo,'DejaVu Sans Mono',consolas,'Courier New',monospace\"><span style=\"color: #7fbfbf; text-decoration-color: #7fbfbf\">           </span>  - export_to_qasm_with_pytket                                                  <a href=\"file:///home/paltenmo/projects/crossplatform/analysis_and_reporting/ddmin_target_file.py\" target=\"_blank\"><span style=\"color: #7f7f7f; text-decoration-color: #7f7f7f\">ddmin_target_file.py</span></a><span style=\"color: #7f7f7f; text-decoration-color: #7f7f7f\">:</span><a href=\"file:///home/paltenmo/projects/crossplatform/analysis_and_reporting/ddmin_target_file.py#208\" target=\"_blank\"><span style=\"color: #7f7f7f; text-decoration-color: #7f7f7f\">208</span></a>\n",
       "</pre>\n"
      ],
      "text/plain": [
       "\u001b[2;36m          \u001b[0m\u001b[2;36m \u001b[0m  - export_to_qasm_with_pytket                                                  \u001b]8;id=469393;file:///home/paltenmo/projects/crossplatform/analysis_and_reporting/ddmin_target_file.py\u001b\\\u001b[2mddmin_target_file.py\u001b[0m\u001b]8;;\u001b\\\u001b[2m:\u001b[0m\u001b]8;id=635034;file:///home/paltenmo/projects/crossplatform/analysis_and_reporting/ddmin_target_file.py#208\u001b\\\u001b[2m208\u001b[0m\u001b]8;;\u001b\\\n"
      ]
     },
     "metadata": {},
     "output_type": "display_data"
    },
    {
     "data": {
      "text/html": [
       "<pre style=\"white-space:pre;overflow-x:auto;line-height:normal;font-family:Menlo,'DejaVu Sans Mono',consolas,'Courier New',monospace\"><span style=\"color: #7fbfbf; text-decoration-color: #7fbfbf\">           </span>  - export_to_qasm_with_qiskit                                                  <a href=\"file:///home/paltenmo/projects/crossplatform/analysis_and_reporting/ddmin_target_file.py\" target=\"_blank\"><span style=\"color: #7f7f7f; text-decoration-color: #7f7f7f\">ddmin_target_file.py</span></a><span style=\"color: #7f7f7f; text-decoration-color: #7f7f7f\">:</span><a href=\"file:///home/paltenmo/projects/crossplatform/analysis_and_reporting/ddmin_target_file.py#208\" target=\"_blank\"><span style=\"color: #7f7f7f; text-decoration-color: #7f7f7f\">208</span></a>\n",
       "</pre>\n"
      ],
      "text/plain": [
       "\u001b[2;36m          \u001b[0m\u001b[2;36m \u001b[0m  - export_to_qasm_with_qiskit                                                  \u001b]8;id=738724;file:///home/paltenmo/projects/crossplatform/analysis_and_reporting/ddmin_target_file.py\u001b\\\u001b[2mddmin_target_file.py\u001b[0m\u001b]8;;\u001b\\\u001b[2m:\u001b[0m\u001b]8;id=822888;file:///home/paltenmo/projects/crossplatform/analysis_and_reporting/ddmin_target_file.py#208\u001b\\\u001b[2m208\u001b[0m\u001b]8;;\u001b\\\n"
      ]
     },
     "metadata": {},
     "output_type": "display_data"
    },
    {
     "name": "stdout",
     "output_type": "stream",
     "text": [
      "Error parsing: Command 'python /workspace/to_execute.py' in image 'qiskit_runner' returned non-zero exit status 1: b'Traceback (most recent call last):\\n  File \"/workspace/to_execute.py\", line 105, in <module>\\n    target_qc = qc\\nNameError: name \\'qc\\' is not defined\\n'\n",
      "Failed to execute to_execute.py in Docker.\n",
      "Output: Saved the Pytket circuit to /workspace/to_execute_qc_pytket.qasm\n",
      "Saved the Qiskit circuit to /workspace/to_execute_qc_qiskit.qasm\n",
      "Exported QASM files: [('/workspace/to_execute_qc_pytket.qasm', 'export_to_qasm_with_pytket'), ('/workspace/to_execute_qc_qiskit.qasm', 'export_to_qasm_with_qiskit')]\n",
      "Log has been saved to /workspace/to_execute_c30ec3_error.json\n",
      "\n",
      "Program to_execute.py executed successfully.\n",
      "New exception message: The circuits are not equivalent: /workspace/to_execute_qc_pytket.qasm, /workspace/to_execute_qc_qiskit.qasm\n",
      "Error parsing: Command 'python /workspace/to_execute.py' in image 'qiskit_runner' returned non-zero exit status 1: b'  File \"/workspace/to_execute.py\", line 25\\n    , custom_instructions=qasm2.LEGACY_CUSTOM_INSTRUCTIONS)\\n                                                          ^\\nSyntaxError: unmatched \\')\\'\\n'\n",
      "Failed to execute to_execute.py in Docker.\n",
      "Error parsing: Command 'python /workspace/to_execute.py' in image 'qiskit_runner' returned non-zero exit status 1: b'  File \"/workspace/to_execute.py\", line 10\\n    qc = qasm2.loads(\\n                    ^\\nSyntaxError: \\'(\\' was never closed\\n'\n",
      "Failed to execute to_execute.py in Docker.\n",
      "Error parsing: Command 'python /workspace/to_execute.py' in image 'qiskit_runner' returned non-zero exit status 1: b'  File \"/workspace/to_execute.py\", line 40\\n    , custom_instructions=qasm2.LEGACY_CUSTOM_INSTRUCTIONS)\\n                                                          ^\\nSyntaxError: unmatched \\')\\'\\n'\n",
      "Failed to execute to_execute.py in Docker.\n",
      "Output: Saved the Pytket circuit to /workspace/to_execute_qc_pytket.qasm\n",
      "Saved the Qiskit circuit to /workspace/to_execute_qc_qiskit.qasm\n",
      "Exported QASM files: [('/workspace/to_execute_qc_pytket.qasm', 'export_to_qasm_with_pytket'), ('/workspace/to_execute_qc_qiskit.qasm', 'export_to_qasm_with_qiskit')]\n",
      "Log has been saved to /workspace/to_execute_6f8501_error.json\n",
      "\n",
      "Program to_execute.py executed successfully.\n",
      "New exception message: The circuits are not equivalent: /workspace/to_execute_qc_pytket.qasm, /workspace/to_execute_qc_qiskit.qasm\n",
      "Error parsing: Command 'python /workspace/to_execute.py' in image 'qiskit_runner' returned non-zero exit status 1: b'  File \"/workspace/to_execute.py\", line 27\\n    , custom_instructions=qasm2.LEGACY_CUSTOM_INSTRUCTIONS)\\n                                                          ^\\nSyntaxError: unmatched \\')\\'\\n'\n",
      "Failed to execute to_execute.py in Docker.\n",
      "Error parsing: Command 'python /workspace/to_execute.py' in image 'qiskit_runner' returned non-zero exit status 1: b'Traceback (most recent call last):\\n  File \"/workspace/to_execute.py\", line 10, in <module>\\n    qc = qasm2.loads(\\n  File \"/usr/local/lib/python3.10/site-packages/qiskit/qasm2/__init__.py\", line 587, in loads\\n    return _parse.from_bytecode(\\n  File \"/usr/local/lib/python3.10/site-packages/qiskit/qasm2/parse.py\", line 214, in from_bytecode\\n    for op in bc:\\nqiskit.qasm2.exceptions.QASM2ParseError: \"<input>:11,22: \\'reg_2_c\\' is not defined in this scope\"\\n'\n",
      "Failed to execute to_execute.py in Docker.\n",
      "Error parsing: Command 'python /workspace/to_execute.py' in image 'qiskit_runner' returned non-zero exit status 1: b'  File \"/workspace/to_execute.py\", line 10\\n    qc = qasm2.loads(\\n                    ^\\nSyntaxError: \\'(\\' was never closed\\n'\n",
      "Failed to execute to_execute.py in Docker.\n",
      "Error parsing: Command 'python /workspace/to_execute.py' in image 'qiskit_runner' returned non-zero exit status 1: b'  File \"/workspace/to_execute.py\", line 31\\n    , custom_instructions=qasm2.LEGACY_CUSTOM_INSTRUCTIONS)\\n                                                          ^\\nSyntaxError: unmatched \\')\\'\\n'\n",
      "Failed to execute to_execute.py in Docker.\n",
      "Error parsing: Command 'python /workspace/to_execute.py' in image 'qiskit_runner' returned non-zero exit status 1: b'Traceback (most recent call last):\\n  File \"/workspace/to_execute.py\", line 10, in <module>\\n    qc = qasm2.loads(\\n  File \"/usr/local/lib/python3.10/site-packages/qiskit/qasm2/__init__.py\", line 587, in loads\\n    return _parse.from_bytecode(\\n  File \"/usr/local/lib/python3.10/site-packages/qiskit/qasm2/parse.py\", line 214, in from_bytecode\\n    for op in bc:\\nqiskit.qasm2.exceptions.QASM2ParseError: \"<input>:4,2: \\'reg_2_q\\' is not defined in this scope\"\\n'\n",
      "Failed to execute to_execute.py in Docker.\n",
      "Output: Saved the Pytket circuit to /workspace/to_execute_qc_pytket.qasm\n",
      "Saved the Qiskit circuit to /workspace/to_execute_qc_qiskit.qasm\n",
      "Exported QASM files: [('/workspace/to_execute_qc_pytket.qasm', 'export_to_qasm_with_pytket'), ('/workspace/to_execute_qc_qiskit.qasm', 'export_to_qasm_with_qiskit')]\n",
      "Log has been saved to /workspace/to_execute_742b9d_error.json\n",
      "\n",
      "Program to_execute.py executed successfully.\n",
      "New exception message: The circuits are not equivalent: /workspace/to_execute_qc_pytket.qasm, /workspace/to_execute_qc_qiskit.qasm\n",
      "Error parsing: Command 'python /workspace/to_execute.py' in image 'qiskit_runner' returned non-zero exit status 1: b'  File \"/workspace/to_execute.py\", line 24\\n    , custom_instructions=qasm2.LEGACY_CUSTOM_INSTRUCTIONS)\\n                                                          ^\\nSyntaxError: unmatched \\')\\'\\n'\n",
      "Failed to execute to_execute.py in Docker.\n",
      "Error parsing: Command 'python /workspace/to_execute.py' in image 'qiskit_runner' returned non-zero exit status 1: b'Traceback (most recent call last):\\n  File \"/workspace/to_execute.py\", line 10, in <module>\\n    qc = qasm2.loads(\\n  File \"/usr/local/lib/python3.10/site-packages/qiskit/qasm2/__init__.py\", line 587, in loads\\n    return _parse.from_bytecode(\\n  File \"/usr/local/lib/python3.10/site-packages/qiskit/qasm2/parse.py\", line 214, in from_bytecode\\n    for op in bc:\\nqiskit.qasm2.exceptions.QASM2ParseError: \"<input>:5,9: \\'reg_2_q\\' is not defined in this scope\"\\n'\n",
      "Failed to execute to_execute.py in Docker.\n",
      "Error parsing: Command 'python /workspace/to_execute.py' in image 'qiskit_runner' returned non-zero exit status 1: b'Traceback (most recent call last):\\n  File \"/workspace/to_execute.py\", line 10, in <module>\\n    qc = qasm2.loads(\\n  File \"/usr/local/lib/python3.10/site-packages/qiskit/qasm2/__init__.py\", line 587, in loads\\n    return _parse.from_bytecode(\\n  File \"/usr/local/lib/python3.10/site-packages/qiskit/qasm2/parse.py\", line 214, in from_bytecode\\n    for op in bc:\\nqiskit.qasm2.exceptions.QASM2ParseError: \"<input>:7,3: \\'reg_1_b\\' is not defined in this scope\"\\n'\n",
      "Failed to execute to_execute.py in Docker.\n",
      "Output: Saved the Pytket circuit to /workspace/to_execute_qc_pytket.qasm\n",
      "Saved the Qiskit circuit to /workspace/to_execute_qc_qiskit.qasm\n",
      "Exported QASM files: [('/workspace/to_execute_qc_pytket.qasm', 'export_to_qasm_with_pytket'), ('/workspace/to_execute_qc_qiskit.qasm', 'export_to_qasm_with_qiskit')]\n",
      "Log has been saved to /workspace/to_execute_d86d60_error.json\n",
      "\n",
      "Program to_execute.py executed successfully.\n",
      "New exception message: The circuits are not equivalent: /workspace/to_execute_qc_pytket.qasm, /workspace/to_execute_qc_qiskit.qasm\n",
      "Error parsing: Command 'python /workspace/to_execute.py' in image 'qiskit_runner' returned non-zero exit status 1: b'  File \"/workspace/to_execute.py\", line 20\\n    , custom_instructions=qasm2.LEGACY_CUSTOM_INSTRUCTIONS)\\n                                                          ^\\nSyntaxError: unmatched \\')\\'\\n'\n",
      "Failed to execute to_execute.py in Docker.\n",
      "Error parsing: Command 'python /workspace/to_execute.py' in image 'qiskit_runner' returned non-zero exit status 1: b'Traceback (most recent call last):\\n  File \"/workspace/to_execute.py\", line 10, in <module>\\n    qc = qasm2.loads(\\n  File \"/usr/local/lib/python3.10/site-packages/qiskit/qasm2/__init__.py\", line 587, in loads\\n    return _parse.from_bytecode(\\n  File \"/usr/local/lib/python3.10/site-packages/qiskit/qasm2/parse.py\", line 214, in from_bytecode\\n    for op in bc:\\nqiskit.qasm2.exceptions.QASM2ParseError: \"<input>:5,9: \\'reg_2_q\\' is not defined in this scope\"\\n'\n",
      "Failed to execute to_execute.py in Docker.\n",
      "Error parsing: Command 'python /workspace/to_execute.py' in image 'qiskit_runner' returned non-zero exit status 1: b'Traceback (most recent call last):\\n  File \"/workspace/to_execute.py\", line 10, in <module>\\n    qc = qasm2.loads(\\n  File \"/usr/local/lib/python3.10/site-packages/qiskit/qasm2/__init__.py\", line 587, in loads\\n    return _parse.from_bytecode(\\n  File \"/usr/local/lib/python3.10/site-packages/qiskit/qasm2/parse.py\", line 214, in from_bytecode\\n    for op in bc:\\nqiskit.qasm2.exceptions.QASM2ParseError: \"<input>:7,8: \\'reg_1_b\\' is not defined in this scope\"\\n'\n",
      "Failed to execute to_execute.py in Docker.\n",
      "Error parsing: Command 'python /workspace/to_execute.py' in image 'qiskit_runner' returned non-zero exit status 1: b'  File \"/workspace/to_execute.py\", line 10\\n    qc = qasm2.loads(\\n                    ^\\nSyntaxError: \\'(\\' was never closed\\n'\n",
      "Failed to execute to_execute.py in Docker.\n",
      "Error parsing: Command 'python /workspace/to_execute.py' in image 'qiskit_runner' returned non-zero exit status 1: b'  File \"/workspace/to_execute.py\", line 23\\n    , custom_instructions=qasm2.LEGACY_CUSTOM_INSTRUCTIONS)\\nIndentationError: unexpected indent\\n'\n",
      "Failed to execute to_execute.py in Docker.\n",
      "Error parsing: Command 'python /workspace/to_execute.py' in image 'qiskit_runner' returned non-zero exit status 1: b'  File \"/workspace/to_execute.py\", line 12\\n    include \"qelib1.inc\";\\n            ^^^^^^^^^^^^\\nSyntaxError: invalid syntax\\n'\n",
      "Failed to execute to_execute.py in Docker.\n",
      "Error parsing: Command 'python /workspace/to_execute.py' in image 'qiskit_runner' returned non-zero exit status 1: b'Traceback (most recent call last):\\n  File \"/workspace/to_execute.py\", line 10, in <module>\\n    qc = qasm2.loads(\\n  File \"/usr/local/lib/python3.10/site-packages/qiskit/qasm2/__init__.py\", line 587, in loads\\n    return _parse.from_bytecode(\\n  File \"/usr/local/lib/python3.10/site-packages/qiskit/qasm2/parse.py\", line 214, in from_bytecode\\n    for op in bc:\\nqiskit.qasm2.exceptions.QASM2ParseError: \"<input>:7,9: \\'reg_2_q\\' is not defined in this scope\"\\n'\n",
      "Failed to execute to_execute.py in Docker.\n",
      "Output: Saved the Pytket circuit to /workspace/to_execute_qc_pytket.qasm\n",
      "Saved the Qiskit circuit to /workspace/to_execute_qc_qiskit.qasm\n",
      "Exported QASM files: [('/workspace/to_execute_qc_pytket.qasm', 'export_to_qasm_with_pytket'), ('/workspace/to_execute_qc_qiskit.qasm', 'export_to_qasm_with_qiskit')]\n",
      "Log has been saved to /workspace/to_execute_28a6cf_error.json\n",
      "\n",
      "Program to_execute.py executed successfully.\n",
      "New exception message: The circuits are not equivalent: /workspace/to_execute_qc_pytket.qasm, /workspace/to_execute_qc_qiskit.qasm\n",
      "Error parsing: Command 'python /workspace/to_execute.py' in image 'qiskit_runner' returned non-zero exit status 1: b'  File \"/workspace/to_execute.py\", line 21\\n    , custom_instructions=qasm2.LEGACY_CUSTOM_INSTRUCTIONS)\\nIndentationError: unexpected indent\\n'\n",
      "Failed to execute to_execute.py in Docker.\n",
      "Error parsing: Command 'python /workspace/to_execute.py' in image 'qiskit_runner' returned non-zero exit status 1: b'  File \"/workspace/to_execute.py\", line 12\\n    include \"qelib1.inc\";\\n            ^^^^^^^^^^^^\\nSyntaxError: invalid syntax\\n'\n",
      "Failed to execute to_execute.py in Docker.\n",
      "Error parsing: Command 'python /workspace/to_execute.py' in image 'qiskit_runner' returned non-zero exit status 1: b'Traceback (most recent call last):\\n  File \"/workspace/to_execute.py\", line 10, in <module>\\n    qc = qasm2.loads(\\n  File \"/usr/local/lib/python3.10/site-packages/qiskit/qasm2/__init__.py\", line 587, in loads\\n    return _parse.from_bytecode(\\n  File \"/usr/local/lib/python3.10/site-packages/qiskit/qasm2/parse.py\", line 214, in from_bytecode\\n    for op in bc:\\nqiskit.qasm2.exceptions.QASM2ParseError: \"<input>:5,9: \\'reg_2_q\\' is not defined in this scope\"\\n'\n",
      "Failed to execute to_execute.py in Docker.\n",
      "Error parsing: Command 'python /workspace/to_execute.py' in image 'qiskit_runner' returned non-zero exit status 1: b'Traceback (most recent call last):\\n  File \"/workspace/to_execute.py\", line 10, in <module>\\n    qc = qasm2.loads(\\n  File \"/usr/local/lib/python3.10/site-packages/qiskit/qasm2/__init__.py\", line 587, in loads\\n    return _parse.from_bytecode(\\n  File \"/usr/local/lib/python3.10/site-packages/qiskit/qasm2/parse.py\", line 214, in from_bytecode\\n    for op in bc:\\nqiskit.qasm2.exceptions.QASM2ParseError: \"<input>:7,8: \\'reg_1_b\\' is not defined in this scope\"\\n'\n",
      "Failed to execute to_execute.py in Docker.\n",
      "Output: Saved the Pytket circuit to /workspace/to_execute_qc_pytket.qasm\n",
      "Saved the Qiskit circuit to /workspace/to_execute_qc_qiskit.qasm\n",
      "Exported QASM files: [('/workspace/to_execute_qc_pytket.qasm', 'export_to_qasm_with_pytket'), ('/workspace/to_execute_qc_qiskit.qasm', 'export_to_qasm_with_qiskit')]\n",
      "The circuits are equivalent: /workspace/to_execute_qc_pytket.qasm, /workspace/to_execute_qc_qiskit.qasm\n",
      "\n",
      "Program to_execute.py executed successfully.\n",
      "Output: Saved the Pytket circuit to /workspace/to_execute_qc_pytket.qasm\n",
      "Saved the Qiskit circuit to /workspace/to_execute_qc_qiskit.qasm\n",
      "Exported QASM files: [('/workspace/to_execute_qc_pytket.qasm', 'export_to_qasm_with_pytket'), ('/workspace/to_execute_qc_qiskit.qasm', 'export_to_qasm_with_qiskit')]\n",
      "Log has been saved to /workspace/to_execute_741113_error.json\n",
      "\n",
      "Program to_execute.py executed successfully.\n",
      "New exception message: The circuits are not equivalent: /workspace/to_execute_qc_pytket.qasm, /workspace/to_execute_qc_qiskit.qasm\n",
      "Error parsing: Command 'python /workspace/to_execute.py' in image 'qiskit_runner' returned non-zero exit status 1: b'  File \"/workspace/to_execute.py\", line 19\\n    , custom_instructions=qasm2.LEGACY_CUSTOM_INSTRUCTIONS)\\nIndentationError: unexpected indent\\n'\n",
      "Failed to execute to_execute.py in Docker.\n",
      "Error parsing: Command 'python /workspace/to_execute.py' in image 'qiskit_runner' returned non-zero exit status 1: b'  File \"/workspace/to_execute.py\", line 12\\n    include \"qelib1.inc\";\\n            ^^^^^^^^^^^^\\nSyntaxError: invalid syntax\\n'\n",
      "Failed to execute to_execute.py in Docker.\n",
      "Error parsing: Command 'python /workspace/to_execute.py' in image 'qiskit_runner' returned non-zero exit status 1: b'Traceback (most recent call last):\\n  File \"/workspace/to_execute.py\", line 10, in <module>\\n    qc = qasm2.loads(\\n  File \"/usr/local/lib/python3.10/site-packages/qiskit/qasm2/__init__.py\", line 587, in loads\\n    return _parse.from_bytecode(\\n  File \"/usr/local/lib/python3.10/site-packages/qiskit/qasm2/parse.py\", line 214, in from_bytecode\\n    for op in bc:\\nqiskit.qasm2.exceptions.QASM2ParseError: \"<input>:5,9: \\'reg_2_q\\' is not defined in this scope\"\\n'\n",
      "Failed to execute to_execute.py in Docker.\n",
      "Output: Saved the Pytket circuit to /workspace/to_execute_qc_pytket.qasm\n",
      "Saved the Qiskit circuit to /workspace/to_execute_qc_qiskit.qasm\n",
      "Exported QASM files: [('/workspace/to_execute_qc_pytket.qasm', 'export_to_qasm_with_pytket'), ('/workspace/to_execute_qc_qiskit.qasm', 'export_to_qasm_with_qiskit')]\n",
      "The circuits are equivalent: /workspace/to_execute_qc_pytket.qasm, /workspace/to_execute_qc_qiskit.qasm\n",
      "\n",
      "Program to_execute.py executed successfully.\n",
      "Output: Saved the Pytket circuit to /workspace/to_execute_qc_pytket.qasm\n",
      "Saved the Qiskit circuit to /workspace/to_execute_qc_qiskit.qasm\n",
      "Exported QASM files: [('/workspace/to_execute_qc_pytket.qasm', 'export_to_qasm_with_pytket'), ('/workspace/to_execute_qc_qiskit.qasm', 'export_to_qasm_with_qiskit')]\n",
      "The circuits are equivalent: /workspace/to_execute_qc_pytket.qasm, /workspace/to_execute_qc_qiskit.qasm\n",
      "\n",
      "Program to_execute.py executed successfully.\n",
      "Error parsing: Command 'python /workspace/to_execute.py' in image 'qiskit_runner' returned non-zero exit status 1: b'  File \"/workspace/to_execute.py\", line 10\\n    qc = qasm2.loads(\\n                    ^\\nSyntaxError: \\'(\\' was never closed\\n'\n",
      "Failed to execute to_execute.py in Docker.\n",
      "Error parsing: Command 'python /workspace/to_execute.py' in image 'qiskit_runner' returned non-zero exit status 1: b'  File \"/workspace/to_execute.py\", line 20\\n    , custom_instructions=qasm2.LEGACY_CUSTOM_INSTRUCTIONS)\\nIndentationError: unexpected indent\\n'\n",
      "Failed to execute to_execute.py in Docker.\n",
      "Output: Saved the Pytket circuit to /workspace/to_execute_qc_pytket.qasm\n",
      "Saved the Qiskit circuit to /workspace/to_execute_qc_qiskit.qasm\n",
      "Exported QASM files: [('/workspace/to_execute_qc_pytket.qasm', 'export_to_qasm_with_pytket'), ('/workspace/to_execute_qc_qiskit.qasm', 'export_to_qasm_with_qiskit')]\n",
      "Log has been saved to /workspace/to_execute_414065_error.json\n",
      "\n",
      "Program to_execute.py executed successfully.\n",
      "New exception message: The circuits are not equivalent: /workspace/to_execute_qc_pytket.qasm, /workspace/to_execute_qc_qiskit.qasm\n",
      "Error parsing: Command 'python /workspace/to_execute.py' in image 'qiskit_runner' returned non-zero exit status 1: b'  File \"/workspace/to_execute.py\", line 19\\n    , custom_instructions=qasm2.LEGACY_CUSTOM_INSTRUCTIONS)\\nIndentationError: unexpected indent\\n'\n",
      "Failed to execute to_execute.py in Docker.\n",
      "Error parsing: Command 'python /workspace/to_execute.py' in image 'qiskit_runner' returned non-zero exit status 1: b'  File \"/workspace/to_execute.py\", line 11\\n    OPENQASM 2.0;\\n    ^^^^^^^^^^^^\\nSyntaxError: invalid syntax. Perhaps you forgot a comma?\\n'\n",
      "Failed to execute to_execute.py in Docker.\n",
      "Output: Saved the Pytket circuit to /workspace/to_execute_qc_pytket.qasm\n",
      "Saved the Qiskit circuit to /workspace/to_execute_qc_qiskit.qasm\n",
      "Exported QASM files: [('/workspace/to_execute_qc_pytket.qasm', 'export_to_qasm_with_pytket'), ('/workspace/to_execute_qc_qiskit.qasm', 'export_to_qasm_with_qiskit')]\n",
      "Log has been saved to /workspace/to_execute_4fec38_error.json\n",
      "\n",
      "Program to_execute.py executed successfully.\n",
      "New exception message: The circuits are not equivalent: /workspace/to_execute_qc_pytket.qasm, /workspace/to_execute_qc_qiskit.qasm\n",
      "Error parsing: Command 'python /workspace/to_execute.py' in image 'qiskit_runner' returned non-zero exit status 1: b'  File \"/workspace/to_execute.py\", line 18\\n    , custom_instructions=qasm2.LEGACY_CUSTOM_INSTRUCTIONS)\\nIndentationError: unexpected indent\\n'\n",
      "Failed to execute to_execute.py in Docker.\n",
      "Error parsing: Command 'python /workspace/to_execute.py' in image 'qiskit_runner' returned non-zero exit status 1: b'  File \"/workspace/to_execute.py\", line 11\\n    include \"qelib1.inc\";\\n            ^^^^^^^^^^^^\\nSyntaxError: invalid syntax\\n'\n",
      "Failed to execute to_execute.py in Docker.\n",
      "Output: Saved the Pytket circuit to /workspace/to_execute_qc_pytket.qasm\n",
      "Saved the Qiskit circuit to /workspace/to_execute_qc_qiskit.qasm\n",
      "Exported QASM files: [('/workspace/to_execute_qc_pytket.qasm', 'export_to_qasm_with_pytket'), ('/workspace/to_execute_qc_qiskit.qasm', 'export_to_qasm_with_qiskit')]\n",
      "Log has been saved to /workspace/to_execute_4b3e3e_error.json\n",
      "\n",
      "Program to_execute.py executed successfully.\n",
      "New exception message: The circuits are not equivalent: /workspace/to_execute_qc_pytket.qasm, /workspace/to_execute_qc_qiskit.qasm\n",
      "Error parsing: Command 'python /workspace/to_execute.py' in image 'qiskit_runner' returned non-zero exit status 1: b'  File \"/workspace/to_execute.py\", line 17\\n    , custom_instructions=qasm2.LEGACY_CUSTOM_INSTRUCTIONS)\\nIndentationError: unexpected indent\\n'\n",
      "Failed to execute to_execute.py in Docker.\n",
      "Error parsing: Command 'python /workspace/to_execute.py' in image 'qiskit_runner' returned non-zero exit status 1: b'  File \"/workspace/to_execute.py\", line 11\\n    qreg reg_2_q[5];\\n    ^^^^^^^^^^^^^^^\\nSyntaxError: invalid syntax. Perhaps you forgot a comma?\\n'\n",
      "Failed to execute to_execute.py in Docker.\n",
      "Error parsing: Command 'python /workspace/to_execute.py' in image 'qiskit_runner' returned non-zero exit status 1: b'Traceback (most recent call last):\\n  File \"/workspace/to_execute.py\", line 10, in <module>\\n    qc = qasm2.loads(\\n  File \"/usr/local/lib/python3.10/site-packages/qiskit/qasm2/__init__.py\", line 587, in loads\\n    return _parse.from_bytecode(\\n  File \"/usr/local/lib/python3.10/site-packages/qiskit/qasm2/parse.py\", line 214, in from_bytecode\\n    for op in bc:\\nqiskit.qasm2.exceptions.QASM2ParseError: \"<input>:4,9: \\'reg_2_q\\' is not defined in this scope\"\\n'\n",
      "Failed to execute to_execute.py in Docker.\n",
      "Output: Saved the Pytket circuit to /workspace/to_execute_qc_pytket.qasm\n",
      "Saved the Qiskit circuit to /workspace/to_execute_qc_qiskit.qasm\n",
      "Exported QASM files: [('/workspace/to_execute_qc_pytket.qasm', 'export_to_qasm_with_pytket'), ('/workspace/to_execute_qc_qiskit.qasm', 'export_to_qasm_with_qiskit')]\n",
      "The circuits are equivalent: /workspace/to_execute_qc_pytket.qasm, /workspace/to_execute_qc_qiskit.qasm\n",
      "\n",
      "Program to_execute.py executed successfully.\n",
      "Output: Saved the Pytket circuit to /workspace/to_execute_qc_pytket.qasm\n",
      "Saved the Qiskit circuit to /workspace/to_execute_qc_qiskit.qasm\n",
      "Exported QASM files: [('/workspace/to_execute_qc_pytket.qasm', 'export_to_qasm_with_pytket'), ('/workspace/to_execute_qc_qiskit.qasm', 'export_to_qasm_with_qiskit')]\n",
      "Log has been saved to /workspace/to_execute_29930b_error.json\n",
      "\n",
      "Program to_execute.py executed successfully.\n",
      "New exception message: The circuits are not equivalent: /workspace/to_execute_qc_pytket.qasm, /workspace/to_execute_qc_qiskit.qasm\n",
      "Error parsing: Command 'python /workspace/to_execute.py' in image 'qiskit_runner' returned non-zero exit status 1: b'  File \"/workspace/to_execute.py\", line 16\\n    , custom_instructions=qasm2.LEGACY_CUSTOM_INSTRUCTIONS)\\nIndentationError: unexpected indent\\n'\n",
      "Failed to execute to_execute.py in Docker.\n",
      "Error parsing: Command 'python /workspace/to_execute.py' in image 'qiskit_runner' returned non-zero exit status 1: b'  File \"/workspace/to_execute.py\", line 11\\n    qreg reg_2_q[5];\\n    ^^^^^^^^^^^^^^^\\nSyntaxError: invalid syntax. Perhaps you forgot a comma?\\n'\n",
      "Failed to execute to_execute.py in Docker.\n",
      "Error parsing: Command 'python /workspace/to_execute.py' in image 'qiskit_runner' returned non-zero exit status 1: b'Traceback (most recent call last):\\n  File \"/workspace/to_execute.py\", line 10, in <module>\\n    qc = qasm2.loads(\\n  File \"/usr/local/lib/python3.10/site-packages/qiskit/qasm2/__init__.py\", line 587, in loads\\n    return _parse.from_bytecode(\\n  File \"/usr/local/lib/python3.10/site-packages/qiskit/qasm2/parse.py\", line 214, in from_bytecode\\n    for op in bc:\\nqiskit.qasm2.exceptions.QASM2ParseError: \"<input>:3,9: \\'reg_2_q\\' is not defined in this scope\"\\n'\n",
      "Failed to execute to_execute.py in Docker.\n",
      "Output: Saved the Pytket circuit to /workspace/to_execute_qc_pytket.qasm\n",
      "Saved the Qiskit circuit to /workspace/to_execute_qc_qiskit.qasm\n",
      "Exported QASM files: [('/workspace/to_execute_qc_pytket.qasm', 'export_to_qasm_with_pytket'), ('/workspace/to_execute_qc_qiskit.qasm', 'export_to_qasm_with_qiskit')]\n",
      "The circuits are equivalent: /workspace/to_execute_qc_pytket.qasm, /workspace/to_execute_qc_qiskit.qasm\n",
      "\n",
      "Program to_execute.py executed successfully.\n",
      "Output: Saved the Pytket circuit to /workspace/to_execute_qc_pytket.qasm\n",
      "Saved the Qiskit circuit to /workspace/to_execute_qc_qiskit.qasm\n",
      "Exported QASM files: [('/workspace/to_execute_qc_pytket.qasm', 'export_to_qasm_with_pytket'), ('/workspace/to_execute_qc_qiskit.qasm', 'export_to_qasm_with_qiskit')]\n",
      "Log has been saved to /workspace/to_execute_0cfdf1_error.json\n",
      "\n",
      "Program to_execute.py executed successfully.\n",
      "New exception message: The circuits are not equivalent: /workspace/to_execute_qc_pytket.qasm, /workspace/to_execute_qc_qiskit.qasm\n",
      "Error parsing: Command 'python /workspace/to_execute.py' in image 'qiskit_runner' returned non-zero exit status 1: b'  File \"/workspace/to_execute.py\", line 15\\n    , custom_instructions=qasm2.LEGACY_CUSTOM_INSTRUCTIONS)\\nIndentationError: unexpected indent\\n'\n",
      "Failed to execute to_execute.py in Docker.\n",
      "Error parsing: Command 'python /workspace/to_execute.py' in image 'qiskit_runner' returned non-zero exit status 1: b'  File \"/workspace/to_execute.py\", line 11\\n    qreg reg_2_q[5];\\n    ^^^^^^^^^^^^^^^\\nSyntaxError: invalid syntax. Perhaps you forgot a comma?\\n'\n",
      "Failed to execute to_execute.py in Docker.\n",
      "Error parsing: Command 'python /workspace/to_execute.py' in image 'qiskit_runner' returned non-zero exit status 1: b'Traceback (most recent call last):\\n  File \"/workspace/to_execute.py\", line 10, in <module>\\n    qc = qasm2.loads(\\n  File \"/usr/local/lib/python3.10/site-packages/qiskit/qasm2/__init__.py\", line 587, in loads\\n    return _parse.from_bytecode(\\n  File \"/usr/local/lib/python3.10/site-packages/qiskit/qasm2/parse.py\", line 214, in from_bytecode\\n    for op in bc:\\nqiskit.qasm2.exceptions.QASM2ParseError: \"<input>:3,9: \\'reg_2_q\\' is not defined in this scope\"\\n'\n",
      "Failed to execute to_execute.py in Docker.\n",
      "Output: Saved the Pytket circuit to /workspace/to_execute_qc_pytket.qasm\n",
      "Saved the Qiskit circuit to /workspace/to_execute_qc_qiskit.qasm\n",
      "Exported QASM files: [('/workspace/to_execute_qc_pytket.qasm', 'export_to_qasm_with_pytket'), ('/workspace/to_execute_qc_qiskit.qasm', 'export_to_qasm_with_qiskit')]\n",
      "The circuits are equivalent: /workspace/to_execute_qc_pytket.qasm, /workspace/to_execute_qc_qiskit.qasm\n",
      "\n",
      "Program to_execute.py executed successfully.\n",
      "Output: Saved the Pytket circuit to /workspace/to_execute_qc_pytket.qasm\n",
      "Saved the Qiskit circuit to /workspace/to_execute_qc_qiskit.qasm\n",
      "Exported QASM files: [('/workspace/to_execute_qc_pytket.qasm', 'export_to_qasm_with_pytket'), ('/workspace/to_execute_qc_qiskit.qasm', 'export_to_qasm_with_qiskit')]\n",
      "The circuits are equivalent: /workspace/to_execute_qc_pytket.qasm, /workspace/to_execute_qc_qiskit.qasm\n",
      "\n",
      "Program to_execute.py executed successfully.\n",
      "Error parsing: Command 'python /workspace/to_execute.py' in image 'qiskit_runner' returned non-zero exit status 1: b'  File \"/workspace/to_execute.py\", line 11\\n    qreg reg_2_q[5];\\n    ^^^^^^^^^^^^^^^\\nSyntaxError: invalid syntax. Perhaps you forgot a comma?\\n'\n",
      "Failed to execute to_execute.py in Docker.\n",
      "Error parsing: Command 'python /workspace/to_execute.py' in image 'qiskit_runner' returned non-zero exit status 1: b'  File \"/workspace/to_execute.py\", line 10\\n    qc = qasm2.loads(\\n                    ^\\nSyntaxError: \\'(\\' was never closed\\n'\n",
      "Failed to execute to_execute.py in Docker.\n"
     ]
    },
    {
     "data": {
      "text/html": [
       "<pre style=\"white-space:pre;overflow-x:auto;line-height:normal;font-family:Menlo,'DejaVu Sans Mono',consolas,'Courier New',monospace\"><span style=\"color: #7fbfbf; text-decoration-color: #7fbfbf\">[14:57:17] </span><span style=\"color: #008000; text-decoration-color: #008000\">Minimized file saved as:</span>                                                        <a href=\"file:///home/paltenmo/projects/crossplatform/analysis_and_reporting/ddmin_target_file.py\" target=\"_blank\"><span style=\"color: #7f7f7f; text-decoration-color: #7f7f7f\">ddmin_target_file.py</span></a><span style=\"color: #7f7f7f; text-decoration-color: #7f7f7f\">:</span><a href=\"file:///home/paltenmo/projects/crossplatform/analysis_and_reporting/ddmin_target_file.py#240\" target=\"_blank\"><span style=\"color: #7f7f7f; text-decoration-color: #7f7f7f\">240</span></a>\n",
       "<span style=\"color: #7fbfbf; text-decoration-color: #7fbfbf\">           </span>..<span style=\"color: #800080; text-decoration-color: #800080\">/reports/v009/2024_11_21__14_53/</span><span style=\"color: #ff00ff; text-decoration-color: #ff00ff\">qiskit_circuit_5q_10g_6316_146402_6a36f0_erro</span> <span style=\"color: #7f7f7f; text-decoration-color: #7f7f7f\">                        </span>\n",
       "<span style=\"color: #7fbfbf; text-decoration-color: #7fbfbf\">           </span><span style=\"color: #ff00ff; text-decoration-color: #ff00ff\">r_min.py</span>                                                                        <span style=\"color: #7f7f7f; text-decoration-color: #7f7f7f\">                        </span>\n",
       "</pre>\n"
      ],
      "text/plain": [
       "\u001b[2;36m[14:57:17]\u001b[0m\u001b[2;36m \u001b[0m\u001b[32mMinimized file saved as:\u001b[0m                                                        \u001b]8;id=692249;file:///home/paltenmo/projects/crossplatform/analysis_and_reporting/ddmin_target_file.py\u001b\\\u001b[2mddmin_target_file.py\u001b[0m\u001b]8;;\u001b\\\u001b[2m:\u001b[0m\u001b]8;id=195353;file:///home/paltenmo/projects/crossplatform/analysis_and_reporting/ddmin_target_file.py#240\u001b\\\u001b[2m240\u001b[0m\u001b]8;;\u001b\\\n",
       "\u001b[2;36m           \u001b[0m..\u001b[35m/reports/v009/2024_11_21__14_53/\u001b[0m\u001b[95mqiskit_circuit_5q_10g_6316_146402_6a36f0_erro\u001b[0m \u001b[2m                        \u001b[0m\n",
       "\u001b[2;36m           \u001b[0m\u001b[95mr_min.py\u001b[0m                                                                        \u001b[2m                        \u001b[0m\n"
      ]
     },
     "metadata": {},
     "output_type": "display_data"
    },
    {
     "name": "stdout",
     "output_type": "stream",
     "text": [
      "Output: Saved the Pytket circuit to /workspace/qiskit_circuit_5q_10g_6316_146402_6a36f0_error_min_qc_pytket.qasm\n",
      "Saved the Qiskit circuit to /workspace/qiskit_circuit_5q_10g_6316_146402_6a36f0_error_min_qc_qiskit.qasm\n",
      "Exported QASM files: [('/workspace/qiskit_circuit_5q_10g_6316_146402_6a36f0_error_min_qc_pytket.qasm', 'export_to_qasm_with_pytket'), ('/workspace/qiskit_circuit_5q_10g_6316_146402_6a36f0_error_min_qc_qiskit.qasm', 'export_to_qasm_with_qiskit')]\n",
      "Log has been saved to /workspace/qiskit_circuit_5q_10g_6316_146402_6a36f0_error_min_c55469_error.json\n",
      "\n"
     ]
    },
    {
     "data": {
      "text/html": [
       "<pre style=\"white-space:pre;overflow-x:auto;line-height:normal;font-family:Menlo,'DejaVu Sans Mono',consolas,'Courier New',monospace\"><span style=\"color: #7fbfbf; text-decoration-color: #7fbfbf\">[14:57:24] </span>Program qiskit_circuit_5q_10g_6316_146402_6a36f0_error_min.py executed              <a href=\"file:///home/paltenmo/projects/crossplatform/generators/docker_tooling.py\" target=\"_blank\"><span style=\"color: #7f7f7f; text-decoration-color: #7f7f7f\">docker_tooling.py</span></a><span style=\"color: #7f7f7f; text-decoration-color: #7f7f7f\">:</span><a href=\"file:///home/paltenmo/projects/crossplatform/generators/docker_tooling.py#46\" target=\"_blank\"><span style=\"color: #7f7f7f; text-decoration-color: #7f7f7f\">46</span></a>\n",
       "<span style=\"color: #7fbfbf; text-decoration-color: #7fbfbf\">           </span>successfully.                                                                       <span style=\"color: #7f7f7f; text-decoration-color: #7f7f7f\">                    </span>\n",
       "</pre>\n"
      ],
      "text/plain": [
       "\u001b[2;36m[14:57:24]\u001b[0m\u001b[2;36m \u001b[0mProgram qiskit_circuit_5q_10g_6316_146402_6a36f0_error_min.py executed              \u001b]8;id=784739;file:///home/paltenmo/projects/crossplatform/generators/docker_tooling.py\u001b\\\u001b[2mdocker_tooling.py\u001b[0m\u001b]8;;\u001b\\\u001b[2m:\u001b[0m\u001b]8;id=128634;file:///home/paltenmo/projects/crossplatform/generators/docker_tooling.py#46\u001b\\\u001b[2m46\u001b[0m\u001b]8;;\u001b\\\n",
       "\u001b[2;36m           \u001b[0msuccessfully.                                                                       \u001b[2m                    \u001b[0m\n"
      ]
     },
     "metadata": {},
     "output_type": "display_data"
    },
    {
     "data": {
      "application/vnd.jupyter.widget-view+json": {
       "model_id": "51eebf741baf454fa9504f1ccf6713b5",
       "version_major": 2,
       "version_minor": 0
      },
      "text/plain": [
       "Executing:   0%|          | 0/13 [00:00<?, ?cell/s]"
      ]
     },
     "metadata": {},
     "output_type": "display_data"
    },
    {
     "data": {
      "text/html": [
       "<pre style=\"white-space:pre;overflow-x:auto;line-height:normal;font-family:Menlo,'DejaVu Sans Mono',consolas,'Courier New',monospace\"><span style=\"color: #7fbfbf; text-decoration-color: #7fbfbf\">[14:57:26] </span>Analysis notebook executed: ..<span style=\"color: #800080; text-decoration-color: #800080\">/reports/v009/2024_11_21__14_53/</span><span style=\"color: #ff00ff; text-decoration-color: #ff00ff\">analysis_output.ipynb</span>        <a href=\"file:///home/paltenmo/projects/crossplatform/analysis_and_reporting/triage.py\" target=\"_blank\"><span style=\"color: #7f7f7f; text-decoration-color: #7f7f7f\">triage.py</span></a><span style=\"color: #7f7f7f; text-decoration-color: #7f7f7f\">:</span><a href=\"file:///home/paltenmo/projects/crossplatform/analysis_and_reporting/triage.py#163\" target=\"_blank\"><span style=\"color: #7f7f7f; text-decoration-color: #7f7f7f\">163</span></a>\n",
       "</pre>\n"
      ],
      "text/plain": [
       "\u001b[2;36m[14:57:26]\u001b[0m\u001b[2;36m \u001b[0mAnalysis notebook executed: ..\u001b[35m/reports/v009/2024_11_21__14_53/\u001b[0m\u001b[95manalysis_output.ipynb\u001b[0m        \u001b]8;id=472223;file:///home/paltenmo/projects/crossplatform/analysis_and_reporting/triage.py\u001b\\\u001b[2mtriage.py\u001b[0m\u001b]8;;\u001b\\\u001b[2m:\u001b[0m\u001b]8;id=260868;file:///home/paltenmo/projects/crossplatform/analysis_and_reporting/triage.py#163\u001b\\\u001b[2m163\u001b[0m\u001b]8;;\u001b\\\n"
      ]
     },
     "metadata": {},
     "output_type": "display_data"
    },
    {
     "data": {
      "text/html": [
       "<pre style=\"white-space:pre;overflow-x:auto;line-height:normal;font-family:Menlo,'DejaVu Sans Mono',consolas,'Courier New',monospace\"><span style=\"color: #7fbfbf; text-decoration-color: #7fbfbf\">           </span>Created report folder: ..<span style=\"color: #800080; text-decoration-color: #800080\">/reports/v009/</span><span style=\"color: #ff00ff; text-decoration-color: #ff00ff\">2024_11_21__14_57</span>                                   <a href=\"file:///home/paltenmo/projects/crossplatform/analysis_and_reporting/triage.py\" target=\"_blank\"><span style=\"color: #7f7f7f; text-decoration-color: #7f7f7f\">triage.py</span></a><span style=\"color: #7f7f7f; text-decoration-color: #7f7f7f\">:</span><a href=\"file:///home/paltenmo/projects/crossplatform/analysis_and_reporting/triage.py#131\" target=\"_blank\"><span style=\"color: #7f7f7f; text-decoration-color: #7f7f7f\">131</span></a>\n",
       "</pre>\n"
      ],
      "text/plain": [
       "\u001b[2;36m          \u001b[0m\u001b[2;36m \u001b[0mCreated report folder: ..\u001b[35m/reports/v009/\u001b[0m\u001b[95m2024_11_21__14_57\u001b[0m                                   \u001b]8;id=630748;file:///home/paltenmo/projects/crossplatform/analysis_and_reporting/triage.py\u001b\\\u001b[2mtriage.py\u001b[0m\u001b]8;;\u001b\\\u001b[2m:\u001b[0m\u001b]8;id=541353;file:///home/paltenmo/projects/crossplatform/analysis_and_reporting/triage.py#131\u001b\\\u001b[2m131\u001b[0m\u001b]8;;\u001b\\\n"
      ]
     },
     "metadata": {},
     "output_type": "display_data"
    },
    {
     "data": {
      "text/html": [
       "<pre style=\"white-space:pre;overflow-x:auto;line-height:normal;font-family:Menlo,'DejaVu Sans Mono',consolas,'Courier New',monospace\"><span style=\"color: #7fbfbf; text-decoration-color: #7fbfbf\">           </span>Copied files to: ..<span style=\"color: #800080; text-decoration-color: #800080\">/reports/v009/</span><span style=\"color: #ff00ff; text-decoration-color: #ff00ff\">2024_11_21__14_57</span>                                         <a href=\"file:///home/paltenmo/projects/crossplatform/analysis_and_reporting/triage.py\" target=\"_blank\"><span style=\"color: #7f7f7f; text-decoration-color: #7f7f7f\">triage.py</span></a><span style=\"color: #7f7f7f; text-decoration-color: #7f7f7f\">:</span><a href=\"file:///home/paltenmo/projects/crossplatform/analysis_and_reporting/triage.py#140\" target=\"_blank\"><span style=\"color: #7f7f7f; text-decoration-color: #7f7f7f\">140</span></a>\n",
       "</pre>\n"
      ],
      "text/plain": [
       "\u001b[2;36m          \u001b[0m\u001b[2;36m \u001b[0mCopied files to: ..\u001b[35m/reports/v009/\u001b[0m\u001b[95m2024_11_21__14_57\u001b[0m                                         \u001b]8;id=991224;file:///home/paltenmo/projects/crossplatform/analysis_and_reporting/triage.py\u001b\\\u001b[2mtriage.py\u001b[0m\u001b]8;;\u001b\\\u001b[2m:\u001b[0m\u001b]8;id=138808;file:///home/paltenmo/projects/crossplatform/analysis_and_reporting/triage.py#140\u001b\\\u001b[2m140\u001b[0m\u001b]8;;\u001b\\\n"
      ]
     },
     "metadata": {},
     "output_type": "display_data"
    },
    {
     "data": {
      "text/html": [
       "<pre style=\"white-space:pre;overflow-x:auto;line-height:normal;font-family:Menlo,'DejaVu Sans Mono',consolas,'Courier New',monospace\"><span style=\"color: #7fbfbf; text-decoration-color: #7fbfbf\">[14:57:26] </span>Involved functions:                                                             <a href=\"file:///home/paltenmo/projects/crossplatform/analysis_and_reporting/ddmin_target_file.py\" target=\"_blank\"><span style=\"color: #7f7f7f; text-decoration-color: #7f7f7f\">ddmin_target_file.py</span></a><span style=\"color: #7f7f7f; text-decoration-color: #7f7f7f\">:</span><a href=\"file:///home/paltenmo/projects/crossplatform/analysis_and_reporting/ddmin_target_file.py#206\" target=\"_blank\"><span style=\"color: #7f7f7f; text-decoration-color: #7f7f7f\">206</span></a>\n",
       "</pre>\n"
      ],
      "text/plain": [
       "\u001b[2;36m[14:57:26]\u001b[0m\u001b[2;36m \u001b[0mInvolved functions:                                                             \u001b]8;id=833856;file:///home/paltenmo/projects/crossplatform/analysis_and_reporting/ddmin_target_file.py\u001b\\\u001b[2mddmin_target_file.py\u001b[0m\u001b]8;;\u001b\\\u001b[2m:\u001b[0m\u001b]8;id=305986;file:///home/paltenmo/projects/crossplatform/analysis_and_reporting/ddmin_target_file.py#206\u001b\\\u001b[2m206\u001b[0m\u001b]8;;\u001b\\\n"
      ]
     },
     "metadata": {},
     "output_type": "display_data"
    },
    {
     "data": {
      "text/html": [
       "<pre style=\"white-space:pre;overflow-x:auto;line-height:normal;font-family:Menlo,'DejaVu Sans Mono',consolas,'Courier New',monospace\"><span style=\"color: #7fbfbf; text-decoration-color: #7fbfbf\">           </span>  - compare_qasm_via_qcec                                                       <a href=\"file:///home/paltenmo/projects/crossplatform/analysis_and_reporting/ddmin_target_file.py\" target=\"_blank\"><span style=\"color: #7f7f7f; text-decoration-color: #7f7f7f\">ddmin_target_file.py</span></a><span style=\"color: #7f7f7f; text-decoration-color: #7f7f7f\">:</span><a href=\"file:///home/paltenmo/projects/crossplatform/analysis_and_reporting/ddmin_target_file.py#208\" target=\"_blank\"><span style=\"color: #7f7f7f; text-decoration-color: #7f7f7f\">208</span></a>\n",
       "</pre>\n"
      ],
      "text/plain": [
       "\u001b[2;36m          \u001b[0m\u001b[2;36m \u001b[0m  - compare_qasm_via_qcec                                                       \u001b]8;id=409146;file:///home/paltenmo/projects/crossplatform/analysis_and_reporting/ddmin_target_file.py\u001b\\\u001b[2mddmin_target_file.py\u001b[0m\u001b]8;;\u001b\\\u001b[2m:\u001b[0m\u001b]8;id=978736;file:///home/paltenmo/projects/crossplatform/analysis_and_reporting/ddmin_target_file.py#208\u001b\\\u001b[2m208\u001b[0m\u001b]8;;\u001b\\\n"
      ]
     },
     "metadata": {},
     "output_type": "display_data"
    },
    {
     "data": {
      "text/html": [
       "<pre style=\"white-space:pre;overflow-x:auto;line-height:normal;font-family:Menlo,'DejaVu Sans Mono',consolas,'Courier New',monospace\"><span style=\"color: #7fbfbf; text-decoration-color: #7fbfbf\">           </span>  - export_to_qasm_with_pytket                                                  <a href=\"file:///home/paltenmo/projects/crossplatform/analysis_and_reporting/ddmin_target_file.py\" target=\"_blank\"><span style=\"color: #7f7f7f; text-decoration-color: #7f7f7f\">ddmin_target_file.py</span></a><span style=\"color: #7f7f7f; text-decoration-color: #7f7f7f\">:</span><a href=\"file:///home/paltenmo/projects/crossplatform/analysis_and_reporting/ddmin_target_file.py#208\" target=\"_blank\"><span style=\"color: #7f7f7f; text-decoration-color: #7f7f7f\">208</span></a>\n",
       "</pre>\n"
      ],
      "text/plain": [
       "\u001b[2;36m          \u001b[0m\u001b[2;36m \u001b[0m  - export_to_qasm_with_pytket                                                  \u001b]8;id=669945;file:///home/paltenmo/projects/crossplatform/analysis_and_reporting/ddmin_target_file.py\u001b\\\u001b[2mddmin_target_file.py\u001b[0m\u001b]8;;\u001b\\\u001b[2m:\u001b[0m\u001b]8;id=378051;file:///home/paltenmo/projects/crossplatform/analysis_and_reporting/ddmin_target_file.py#208\u001b\\\u001b[2m208\u001b[0m\u001b]8;;\u001b\\\n"
      ]
     },
     "metadata": {},
     "output_type": "display_data"
    },
    {
     "data": {
      "text/html": [
       "<pre style=\"white-space:pre;overflow-x:auto;line-height:normal;font-family:Menlo,'DejaVu Sans Mono',consolas,'Courier New',monospace\"><span style=\"color: #7fbfbf; text-decoration-color: #7fbfbf\">           </span>  - export_to_qasm_with_qiskit                                                  <a href=\"file:///home/paltenmo/projects/crossplatform/analysis_and_reporting/ddmin_target_file.py\" target=\"_blank\"><span style=\"color: #7f7f7f; text-decoration-color: #7f7f7f\">ddmin_target_file.py</span></a><span style=\"color: #7f7f7f; text-decoration-color: #7f7f7f\">:</span><a href=\"file:///home/paltenmo/projects/crossplatform/analysis_and_reporting/ddmin_target_file.py#208\" target=\"_blank\"><span style=\"color: #7f7f7f; text-decoration-color: #7f7f7f\">208</span></a>\n",
       "</pre>\n"
      ],
      "text/plain": [
       "\u001b[2;36m          \u001b[0m\u001b[2;36m \u001b[0m  - export_to_qasm_with_qiskit                                                  \u001b]8;id=829317;file:///home/paltenmo/projects/crossplatform/analysis_and_reporting/ddmin_target_file.py\u001b\\\u001b[2mddmin_target_file.py\u001b[0m\u001b]8;;\u001b\\\u001b[2m:\u001b[0m\u001b]8;id=334716;file:///home/paltenmo/projects/crossplatform/analysis_and_reporting/ddmin_target_file.py#208\u001b\\\u001b[2m208\u001b[0m\u001b]8;;\u001b\\\n"
      ]
     },
     "metadata": {},
     "output_type": "display_data"
    },
    {
     "name": "stdout",
     "output_type": "stream",
     "text": [
      "Error parsing: Command 'python /workspace/to_execute.py' in image 'qiskit_runner' returned non-zero exit status 1: b'Traceback (most recent call last):\\n  File \"/workspace/to_execute.py\", line 105, in <module>\\n    target_qc = qc\\nNameError: name \\'qc\\' is not defined\\n'\n",
      "Failed to execute to_execute.py in Docker.\n",
      "Output: Saved the Pytket circuit to /workspace/to_execute_qc_pytket.qasm\n",
      "Saved the Qiskit circuit to /workspace/to_execute_qc_qiskit.qasm\n",
      "Exported QASM files: [('/workspace/to_execute_qc_pytket.qasm', 'export_to_qasm_with_pytket'), ('/workspace/to_execute_qc_qiskit.qasm', 'export_to_qasm_with_qiskit')]\n",
      "Log has been saved to /workspace/to_execute_880d95_error.json\n",
      "\n",
      "Program to_execute.py executed successfully.\n",
      "New exception message: The circuits are not equivalent: /workspace/to_execute_qc_pytket.qasm, /workspace/to_execute_qc_qiskit.qasm\n",
      "Error parsing: Command 'python /workspace/to_execute.py' in image 'qiskit_runner' returned non-zero exit status 1: b'  File \"/workspace/to_execute.py\", line 16\\n    , custom_instructions=qasm2.LEGACY_CUSTOM_INSTRUCTIONS)\\n                                                          ^\\nSyntaxError: unmatched \\')\\'\\n'\n",
      "Failed to execute to_execute.py in Docker.\n",
      "Error parsing: Command 'python /workspace/to_execute.py' in image 'qiskit_runner' returned non-zero exit status 1: b'  File \"/workspace/to_execute.py\", line 10\\n    qc = qasm2.loads(\\n                    ^\\nSyntaxError: \\'(\\' was never closed\\n'\n",
      "Failed to execute to_execute.py in Docker.\n",
      "Error parsing: Command 'python /workspace/to_execute.py' in image 'qiskit_runner' returned non-zero exit status 1: b'  File \"/workspace/to_execute.py\", line 21\\n    , custom_instructions=qasm2.LEGACY_CUSTOM_INSTRUCTIONS)\\n                                                          ^\\nSyntaxError: unmatched \\')\\'\\n'\n",
      "Failed to execute to_execute.py in Docker.\n",
      "Error parsing: Command 'python /workspace/to_execute.py' in image 'qiskit_runner' returned non-zero exit status 1: b'Traceback (most recent call last):\\n  File \"/workspace/to_execute.py\", line 10, in <module>\\n    qc = qasm2.loads(\\n  File \"/usr/local/lib/python3.10/site-packages/qiskit/qasm2/__init__.py\", line 587, in loads\\n    return _parse.from_bytecode(\\n  File \"/usr/local/lib/python3.10/site-packages/qiskit/qasm2/parse.py\", line 214, in from_bytecode\\n    for op in bc:\\nqiskit.qasm2.exceptions.QASM2ParseError: \"<input>:5,0: cannot use non-builtin custom instruction \\'cx\\' before definition\"\\n'\n",
      "Failed to execute to_execute.py in Docker.\n",
      "Error parsing: Command 'python /workspace/to_execute.py' in image 'qiskit_runner' returned non-zero exit status 1: b'Traceback (most recent call last):\\n  File \"/workspace/to_execute.py\", line 10, in <module>\\n    qc = qasm2.loads(\\n  File \"/usr/local/lib/python3.10/site-packages/qiskit/qasm2/__init__.py\", line 587, in loads\\n    return _parse.from_bytecode(\\n  File \"/usr/local/lib/python3.10/site-packages/qiskit/qasm2/parse.py\", line 214, in from_bytecode\\n    for op in bc:\\nqiskit.qasm2.exceptions.QASM2ParseError: \"<input>:7,3: \\'reg_1_a\\' is not defined in this scope\"\\n'\n",
      "Failed to execute to_execute.py in Docker.\n",
      "Error parsing: Command 'python /workspace/to_execute.py' in image 'qiskit_runner' returned non-zero exit status 1: b'  File \"/workspace/to_execute.py\", line 10\\n    qc = qasm2.loads(\\n                    ^\\nSyntaxError: \\'(\\' was never closed\\n'\n",
      "Failed to execute to_execute.py in Docker.\n",
      "Error parsing: Command 'python /workspace/to_execute.py' in image 'qiskit_runner' returned non-zero exit status 1: b'  File \"/workspace/to_execute.py\", line 24\\n    , custom_instructions=qasm2.LEGACY_CUSTOM_INSTRUCTIONS)\\nIndentationError: unexpected indent\\n'\n",
      "Failed to execute to_execute.py in Docker.\n",
      "Error parsing: Command 'python /workspace/to_execute.py' in image 'qiskit_runner' returned non-zero exit status 1: b'  File \"/workspace/to_execute.py\", line 12\\n    include \"qelib1.inc\";\\n            ^^^^^^^^^^^^\\nSyntaxError: invalid syntax\\n'\n",
      "Failed to execute to_execute.py in Docker.\n",
      "Error parsing: Command 'python /workspace/to_execute.py' in image 'qiskit_runner' returned non-zero exit status 1: b'Traceback (most recent call last):\\n  File \"/workspace/to_execute.py\", line 10, in <module>\\n    qc = qasm2.loads(\\n  File \"/usr/local/lib/python3.10/site-packages/qiskit/qasm2/__init__.py\", line 587, in loads\\n    return _parse.from_bytecode(\\n  File \"/usr/local/lib/python3.10/site-packages/qiskit/qasm2/parse.py\", line 214, in from_bytecode\\n    for op in bc:\\nqiskit.qasm2.exceptions.QASM2ParseError: \"<input>:7,0: cannot use non-builtin custom instruction \\'cx\\' before definition\"\\n'\n",
      "Failed to execute to_execute.py in Docker.\n",
      "Error parsing: Command 'python /workspace/to_execute.py' in image 'qiskit_runner' returned non-zero exit status 1: b'Traceback (most recent call last):\\n  File \"/workspace/to_execute.py\", line 10, in <module>\\n    qc = qasm2.loads(\\n  File \"/usr/local/lib/python3.10/site-packages/qiskit/qasm2/__init__.py\", line 587, in loads\\n    return _parse.from_bytecode(\\n  File \"/usr/local/lib/python3.10/site-packages/qiskit/qasm2/parse.py\", line 214, in from_bytecode\\n    for op in bc:\\nqiskit.qasm2.exceptions.QASM2ParseError: \"<input>:7,14: \\'reg_1_b\\' is not defined in this scope\"\\n'\n",
      "Failed to execute to_execute.py in Docker.\n",
      "Error parsing: Command 'python /workspace/to_execute.py' in image 'qiskit_runner' returned non-zero exit status 1: b'Traceback (most recent call last):\\n  File \"/workspace/to_execute.py\", line 10, in <module>\\n    qc = qasm2.loads(\\n  File \"/usr/local/lib/python3.10/site-packages/qiskit/qasm2/__init__.py\", line 587, in loads\\n    return _parse.from_bytecode(\\n  File \"/usr/local/lib/python3.10/site-packages/qiskit/qasm2/parse.py\", line 214, in from_bytecode\\n    for op in bc:\\nqiskit.qasm2.exceptions.QASM2ParseError: \"<input>:7,3: \\'reg_1_a\\' is not defined in this scope\"\\n'\n",
      "Failed to execute to_execute.py in Docker.\n",
      "Output: Saved the Pytket circuit to /workspace/to_execute_qc_pytket.qasm\n",
      "Saved the Qiskit circuit to /workspace/to_execute_qc_qiskit.qasm\n",
      "Exported QASM files: [('/workspace/to_execute_qc_pytket.qasm', 'export_to_qasm_with_pytket'), ('/workspace/to_execute_qc_qiskit.qasm', 'export_to_qasm_with_qiskit')]\n",
      "Log has been saved to /workspace/to_execute_f75f1e_error.json\n",
      "\n",
      "Program to_execute.py executed successfully.\n",
      "New exception message: The circuits are not equivalent: /workspace/to_execute_qc_pytket.qasm, /workspace/to_execute_qc_qiskit.qasm\n",
      "Error parsing: Command 'python /workspace/to_execute.py' in image 'qiskit_runner' returned non-zero exit status 1: b'  File \"/workspace/to_execute.py\", line 22\\n    , custom_instructions=qasm2.LEGACY_CUSTOM_INSTRUCTIONS)\\nIndentationError: unexpected indent\\n'\n",
      "Failed to execute to_execute.py in Docker.\n",
      "Error parsing: Command 'python /workspace/to_execute.py' in image 'qiskit_runner' returned non-zero exit status 1: b'  File \"/workspace/to_execute.py\", line 12\\n    include \"qelib1.inc\";\\n            ^^^^^^^^^^^^\\nSyntaxError: invalid syntax\\n'\n",
      "Failed to execute to_execute.py in Docker.\n",
      "Error parsing: Command 'python /workspace/to_execute.py' in image 'qiskit_runner' returned non-zero exit status 1: b'Traceback (most recent call last):\\n  File \"/workspace/to_execute.py\", line 10, in <module>\\n    qc = qasm2.loads(\\n  File \"/usr/local/lib/python3.10/site-packages/qiskit/qasm2/__init__.py\", line 587, in loads\\n    return _parse.from_bytecode(\\n  File \"/usr/local/lib/python3.10/site-packages/qiskit/qasm2/parse.py\", line 214, in from_bytecode\\n    for op in bc:\\nqiskit.qasm2.exceptions.QASM2ParseError: \"<input>:7,0: cannot use non-builtin custom instruction \\'cx\\' before definition\"\\n'\n",
      "Failed to execute to_execute.py in Docker.\n",
      "Error parsing: Command 'python /workspace/to_execute.py' in image 'qiskit_runner' returned non-zero exit status 1: b'Traceback (most recent call last):\\n  File \"/workspace/to_execute.py\", line 10, in <module>\\n    qc = qasm2.loads(\\n  File \"/usr/local/lib/python3.10/site-packages/qiskit/qasm2/__init__.py\", line 587, in loads\\n    return _parse.from_bytecode(\\n  File \"/usr/local/lib/python3.10/site-packages/qiskit/qasm2/parse.py\", line 214, in from_bytecode\\n    for op in bc:\\nqiskit.qasm2.exceptions.QASM2ParseError: \"<input>:7,3: \\'reg_1_b\\' is not defined in this scope\"\\n'\n",
      "Failed to execute to_execute.py in Docker.\n",
      "Error parsing: Command 'python /workspace/to_execute.py' in image 'qiskit_runner' returned non-zero exit status 1: b'Traceback (most recent call last):\\n  File \"/workspace/to_execute.py\", line 10, in <module>\\n    qc = qasm2.loads(\\n  File \"/usr/local/lib/python3.10/site-packages/qiskit/qasm2/__init__.py\", line 587, in loads\\n    return _parse.from_bytecode(\\n  File \"/usr/local/lib/python3.10/site-packages/qiskit/qasm2/parse.py\", line 214, in from_bytecode\\n    for op in bc:\\nqiskit.qasm2.exceptions.QASM2ParseError: \"<input>:8,3: \\'reg_1_a\\' is not defined in this scope\"\\n'\n",
      "Failed to execute to_execute.py in Docker.\n",
      "Output: Saved the Pytket circuit to /workspace/to_execute_qc_pytket.qasm\n",
      "Saved the Qiskit circuit to /workspace/to_execute_qc_qiskit.qasm\n",
      "Exported QASM files: [('/workspace/to_execute_qc_pytket.qasm', 'export_to_qasm_with_pytket'), ('/workspace/to_execute_qc_qiskit.qasm', 'export_to_qasm_with_qiskit')]\n",
      "The circuits are equivalent: /workspace/to_execute_qc_pytket.qasm, /workspace/to_execute_qc_qiskit.qasm\n",
      "\n",
      "Program to_execute.py executed successfully.\n",
      "Error parsing: Command 'python /workspace/to_execute.py' in image 'qiskit_runner' returned non-zero exit status 1: b'  File \"/workspace/to_execute.py\", line 10\\n    qc = qasm2.loads(\\n                    ^\\nSyntaxError: \\'(\\' was never closed\\n'\n",
      "Failed to execute to_execute.py in Docker.\n",
      "Error parsing: Command 'python /workspace/to_execute.py' in image 'qiskit_runner' returned non-zero exit status 1: b'  File \"/workspace/to_execute.py\", line 23\\n    , custom_instructions=qasm2.LEGACY_CUSTOM_INSTRUCTIONS)\\nIndentationError: unexpected indent\\n'\n",
      "Failed to execute to_execute.py in Docker.\n",
      "Output: Saved the Pytket circuit to /workspace/to_execute_qc_pytket.qasm\n",
      "Saved the Qiskit circuit to /workspace/to_execute_qc_qiskit.qasm\n",
      "Exported QASM files: [('/workspace/to_execute_qc_pytket.qasm', 'export_to_qasm_with_pytket'), ('/workspace/to_execute_qc_qiskit.qasm', 'export_to_qasm_with_qiskit')]\n",
      "Log has been saved to /workspace/to_execute_03d771_error.json\n",
      "\n",
      "Program to_execute.py executed successfully.\n",
      "New exception message: The circuits are not equivalent: /workspace/to_execute_qc_pytket.qasm, /workspace/to_execute_qc_qiskit.qasm\n",
      "Error parsing: Command 'python /workspace/to_execute.py' in image 'qiskit_runner' returned non-zero exit status 1: b'  File \"/workspace/to_execute.py\", line 22\\n    , custom_instructions=qasm2.LEGACY_CUSTOM_INSTRUCTIONS)\\nIndentationError: unexpected indent\\n'\n",
      "Failed to execute to_execute.py in Docker.\n",
      "Error parsing: Command 'python /workspace/to_execute.py' in image 'qiskit_runner' returned non-zero exit status 1: b'  File \"/workspace/to_execute.py\", line 11\\n    OPENQASM 2.0;\\n    ^^^^^^^^^^^^\\nSyntaxError: invalid syntax. Perhaps you forgot a comma?\\n'\n",
      "Failed to execute to_execute.py in Docker.\n",
      "Output: Saved the Pytket circuit to /workspace/to_execute_qc_pytket.qasm\n",
      "Saved the Qiskit circuit to /workspace/to_execute_qc_qiskit.qasm\n",
      "Exported QASM files: [('/workspace/to_execute_qc_pytket.qasm', 'export_to_qasm_with_pytket'), ('/workspace/to_execute_qc_qiskit.qasm', 'export_to_qasm_with_qiskit')]\n",
      "Log has been saved to /workspace/to_execute_eef7d2_error.json\n",
      "\n",
      "Program to_execute.py executed successfully.\n",
      "New exception message: The circuits are not equivalent: /workspace/to_execute_qc_pytket.qasm, /workspace/to_execute_qc_qiskit.qasm\n",
      "Error parsing: Command 'python /workspace/to_execute.py' in image 'qiskit_runner' returned non-zero exit status 1: b'  File \"/workspace/to_execute.py\", line 21\\n    , custom_instructions=qasm2.LEGACY_CUSTOM_INSTRUCTIONS)\\nIndentationError: unexpected indent\\n'\n",
      "Failed to execute to_execute.py in Docker.\n",
      "Error parsing: Command 'python /workspace/to_execute.py' in image 'qiskit_runner' returned non-zero exit status 1: b'  File \"/workspace/to_execute.py\", line 11\\n    include \"qelib1.inc\";\\n            ^^^^^^^^^^^^\\nSyntaxError: invalid syntax\\n'\n",
      "Failed to execute to_execute.py in Docker.\n",
      "Error parsing: Command 'python /workspace/to_execute.py' in image 'qiskit_runner' returned non-zero exit status 1: b'Traceback (most recent call last):\\n  File \"/workspace/to_execute.py\", line 10, in <module>\\n    qc = qasm2.loads(\\n  File \"/usr/local/lib/python3.10/site-packages/qiskit/qasm2/__init__.py\", line 587, in loads\\n    return _parse.from_bytecode(\\n  File \"/usr/local/lib/python3.10/site-packages/qiskit/qasm2/parse.py\", line 214, in from_bytecode\\n    for op in bc:\\nqiskit.qasm2.exceptions.QASM2ParseError: \"<input>:7,0: cannot use non-builtin custom instruction \\'cx\\' before definition\"\\n'\n",
      "Failed to execute to_execute.py in Docker.\n",
      "Output: Saved the Pytket circuit to /workspace/to_execute_qc_pytket.qasm\n",
      "Saved the Qiskit circuit to /workspace/to_execute_qc_qiskit.qasm\n",
      "Exported QASM files: [('/workspace/to_execute_qc_pytket.qasm', 'export_to_qasm_with_pytket'), ('/workspace/to_execute_qc_qiskit.qasm', 'export_to_qasm_with_qiskit')]\n",
      "Log has been saved to /workspace/to_execute_194002_error.json\n",
      "\n",
      "Program to_execute.py executed successfully.\n",
      "New exception message: The circuits are not equivalent: /workspace/to_execute_qc_pytket.qasm, /workspace/to_execute_qc_qiskit.qasm\n",
      "Error parsing: Command 'python /workspace/to_execute.py' in image 'qiskit_runner' returned non-zero exit status 1: b'  File \"/workspace/to_execute.py\", line 20\\n    , custom_instructions=qasm2.LEGACY_CUSTOM_INSTRUCTIONS)\\nIndentationError: unexpected indent\\n'\n",
      "Failed to execute to_execute.py in Docker.\n",
      "Error parsing: Command 'python /workspace/to_execute.py' in image 'qiskit_runner' returned non-zero exit status 1: b'  File \"/workspace/to_execute.py\", line 11\\n    include \"qelib1.inc\";\\n            ^^^^^^^^^^^^\\nSyntaxError: invalid syntax\\n'\n",
      "Failed to execute to_execute.py in Docker.\n",
      "Error parsing: Command 'python /workspace/to_execute.py' in image 'qiskit_runner' returned non-zero exit status 1: b'Traceback (most recent call last):\\n  File \"/workspace/to_execute.py\", line 10, in <module>\\n    qc = qasm2.loads(\\n  File \"/usr/local/lib/python3.10/site-packages/qiskit/qasm2/__init__.py\", line 587, in loads\\n    return _parse.from_bytecode(\\n  File \"/usr/local/lib/python3.10/site-packages/qiskit/qasm2/parse.py\", line 214, in from_bytecode\\n    for op in bc:\\nqiskit.qasm2.exceptions.QASM2ParseError: \"<input>:6,0: cannot use non-builtin custom instruction \\'cx\\' before definition\"\\n'\n",
      "Failed to execute to_execute.py in Docker.\n",
      "Error parsing: Command 'python /workspace/to_execute.py' in image 'qiskit_runner' returned non-zero exit status 1: b'Traceback (most recent call last):\\n  File \"/workspace/to_execute.py\", line 10, in <module>\\n    qc = qasm2.loads(\\n  File \"/usr/local/lib/python3.10/site-packages/qiskit/qasm2/__init__.py\", line 587, in loads\\n    return _parse.from_bytecode(\\n  File \"/usr/local/lib/python3.10/site-packages/qiskit/qasm2/parse.py\", line 214, in from_bytecode\\n    for op in bc:\\nqiskit.qasm2.exceptions.QASM2ParseError: \"<input>:7,14: \\'reg_1_cin\\' is not defined in this scope\"\\n'\n",
      "Failed to execute to_execute.py in Docker.\n",
      "Error parsing: Command 'python /workspace/to_execute.py' in image 'qiskit_runner' returned non-zero exit status 1: b'Traceback (most recent call last):\\n  File \"/workspace/to_execute.py\", line 10, in <module>\\n    qc = qasm2.loads(\\n  File \"/usr/local/lib/python3.10/site-packages/qiskit/qasm2/__init__.py\", line 587, in loads\\n    return _parse.from_bytecode(\\n  File \"/usr/local/lib/python3.10/site-packages/qiskit/qasm2/parse.py\", line 214, in from_bytecode\\n    for op in bc:\\nqiskit.qasm2.exceptions.QASM2ParseError: \"<input>:6,3: \\'reg_1_b\\' is not defined in this scope\"\\n'\n",
      "Failed to execute to_execute.py in Docker.\n",
      "Error parsing: Command 'python /workspace/to_execute.py' in image 'qiskit_runner' returned non-zero exit status 1: b'Traceback (most recent call last):\\n  File \"/workspace/to_execute.py\", line 10, in <module>\\n    qc = qasm2.loads(\\n  File \"/usr/local/lib/python3.10/site-packages/qiskit/qasm2/__init__.py\", line 587, in loads\\n    return _parse.from_bytecode(\\n  File \"/usr/local/lib/python3.10/site-packages/qiskit/qasm2/parse.py\", line 214, in from_bytecode\\n    for op in bc:\\nqiskit.qasm2.exceptions.QASM2ParseError: \"<input>:7,3: \\'reg_1_a\\' is not defined in this scope\"\\n'\n",
      "Failed to execute to_execute.py in Docker.\n",
      "Output: Saved the Pytket circuit to /workspace/to_execute_qc_pytket.qasm\n",
      "Saved the Qiskit circuit to /workspace/to_execute_qc_qiskit.qasm\n",
      "Exported QASM files: [('/workspace/to_execute_qc_pytket.qasm', 'export_to_qasm_with_pytket'), ('/workspace/to_execute_qc_qiskit.qasm', 'export_to_qasm_with_qiskit')]\n",
      "Log has been saved to /workspace/to_execute_8babc9_error.json\n",
      "\n",
      "Program to_execute.py executed successfully.\n",
      "New exception message: The circuits are not equivalent: /workspace/to_execute_qc_pytket.qasm, /workspace/to_execute_qc_qiskit.qasm\n",
      "Error parsing: Command 'python /workspace/to_execute.py' in image 'qiskit_runner' returned non-zero exit status 1: b'  File \"/workspace/to_execute.py\", line 19\\n    , custom_instructions=qasm2.LEGACY_CUSTOM_INSTRUCTIONS)\\nIndentationError: unexpected indent\\n'\n",
      "Failed to execute to_execute.py in Docker.\n",
      "Error parsing: Command 'python /workspace/to_execute.py' in image 'qiskit_runner' returned non-zero exit status 1: b'  File \"/workspace/to_execute.py\", line 11\\n    include \"qelib1.inc\";\\n            ^^^^^^^^^^^^\\nSyntaxError: invalid syntax\\n'\n",
      "Failed to execute to_execute.py in Docker.\n",
      "Error parsing: Command 'python /workspace/to_execute.py' in image 'qiskit_runner' returned non-zero exit status 1: b'Traceback (most recent call last):\\n  File \"/workspace/to_execute.py\", line 10, in <module>\\n    qc = qasm2.loads(\\n  File \"/usr/local/lib/python3.10/site-packages/qiskit/qasm2/__init__.py\", line 587, in loads\\n    return _parse.from_bytecode(\\n  File \"/usr/local/lib/python3.10/site-packages/qiskit/qasm2/parse.py\", line 214, in from_bytecode\\n    for op in bc:\\nqiskit.qasm2.exceptions.QASM2ParseError: \"<input>:5,0: cannot use non-builtin custom instruction \\'cx\\' before definition\"\\n'\n",
      "Failed to execute to_execute.py in Docker.\n",
      "Error parsing: Command 'python /workspace/to_execute.py' in image 'qiskit_runner' returned non-zero exit status 1: b'Traceback (most recent call last):\\n  File \"/workspace/to_execute.py\", line 10, in <module>\\n    qc = qasm2.loads(\\n  File \"/usr/local/lib/python3.10/site-packages/qiskit/qasm2/__init__.py\", line 587, in loads\\n    return _parse.from_bytecode(\\n  File \"/usr/local/lib/python3.10/site-packages/qiskit/qasm2/parse.py\", line 214, in from_bytecode\\n    for op in bc:\\nqiskit.qasm2.exceptions.QASM2ParseError: \"<input>:6,14: \\'reg_1_cin\\' is not defined in this scope\"\\n'\n",
      "Failed to execute to_execute.py in Docker.\n",
      "Error parsing: Command 'python /workspace/to_execute.py' in image 'qiskit_runner' returned non-zero exit status 1: b'Traceback (most recent call last):\\n  File \"/workspace/to_execute.py\", line 10, in <module>\\n    qc = qasm2.loads(\\n  File \"/usr/local/lib/python3.10/site-packages/qiskit/qasm2/__init__.py\", line 587, in loads\\n    return _parse.from_bytecode(\\n  File \"/usr/local/lib/python3.10/site-packages/qiskit/qasm2/parse.py\", line 214, in from_bytecode\\n    for op in bc:\\nqiskit.qasm2.exceptions.QASM2ParseError: \"<input>:5,3: \\'reg_1_b\\' is not defined in this scope\"\\n'\n",
      "Failed to execute to_execute.py in Docker.\n",
      "Error parsing: Command 'python /workspace/to_execute.py' in image 'qiskit_runner' returned non-zero exit status 1: b'Traceback (most recent call last):\\n  File \"/workspace/to_execute.py\", line 10, in <module>\\n    qc = qasm2.loads(\\n  File \"/usr/local/lib/python3.10/site-packages/qiskit/qasm2/__init__.py\", line 587, in loads\\n    return _parse.from_bytecode(\\n  File \"/usr/local/lib/python3.10/site-packages/qiskit/qasm2/parse.py\", line 214, in from_bytecode\\n    for op in bc:\\nqiskit.qasm2.exceptions.QASM2ParseError: \"<input>:6,3: \\'reg_1_a\\' is not defined in this scope\"\\n'\n",
      "Failed to execute to_execute.py in Docker.\n",
      "Output: Saved the Pytket circuit to /workspace/to_execute_qc_pytket.qasm\n",
      "Saved the Qiskit circuit to /workspace/to_execute_qc_qiskit.qasm\n",
      "Exported QASM files: [('/workspace/to_execute_qc_pytket.qasm', 'export_to_qasm_with_pytket'), ('/workspace/to_execute_qc_qiskit.qasm', 'export_to_qasm_with_qiskit')]\n",
      "Log has been saved to /workspace/to_execute_a984c7_error.json\n",
      "\n",
      "Program to_execute.py executed successfully.\n",
      "New exception message: The circuits are not equivalent: /workspace/to_execute_qc_pytket.qasm, /workspace/to_execute_qc_qiskit.qasm\n",
      "Error parsing: Command 'python /workspace/to_execute.py' in image 'qiskit_runner' returned non-zero exit status 1: b'  File \"/workspace/to_execute.py\", line 18\\n    , custom_instructions=qasm2.LEGACY_CUSTOM_INSTRUCTIONS)\\nIndentationError: unexpected indent\\n'\n",
      "Failed to execute to_execute.py in Docker.\n",
      "Error parsing: Command 'python /workspace/to_execute.py' in image 'qiskit_runner' returned non-zero exit status 1: b'  File \"/workspace/to_execute.py\", line 11\\n    include \"qelib1.inc\";\\n            ^^^^^^^^^^^^\\nSyntaxError: invalid syntax\\n'\n",
      "Failed to execute to_execute.py in Docker.\n",
      "Error parsing: Command 'python /workspace/to_execute.py' in image 'qiskit_runner' returned non-zero exit status 1: b'Traceback (most recent call last):\\n  File \"/workspace/to_execute.py\", line 10, in <module>\\n    qc = qasm2.loads(\\n  File \"/usr/local/lib/python3.10/site-packages/qiskit/qasm2/__init__.py\", line 587, in loads\\n    return _parse.from_bytecode(\\n  File \"/usr/local/lib/python3.10/site-packages/qiskit/qasm2/parse.py\", line 214, in from_bytecode\\n    for op in bc:\\nqiskit.qasm2.exceptions.QASM2ParseError: \"<input>:5,0: cannot use non-builtin custom instruction \\'cx\\' before definition\"\\n'\n",
      "Failed to execute to_execute.py in Docker.\n",
      "Error parsing: Command 'python /workspace/to_execute.py' in image 'qiskit_runner' returned non-zero exit status 1: b'Traceback (most recent call last):\\n  File \"/workspace/to_execute.py\", line 10, in <module>\\n    qc = qasm2.loads(\\n  File \"/usr/local/lib/python3.10/site-packages/qiskit/qasm2/__init__.py\", line 587, in loads\\n    return _parse.from_bytecode(\\n  File \"/usr/local/lib/python3.10/site-packages/qiskit/qasm2/parse.py\", line 214, in from_bytecode\\n    for op in bc:\\nqiskit.qasm2.exceptions.QASM2ParseError: \"<input>:5,14: \\'reg_1_cin\\' is not defined in this scope\"\\n'\n",
      "Failed to execute to_execute.py in Docker.\n",
      "Error parsing: Command 'python /workspace/to_execute.py' in image 'qiskit_runner' returned non-zero exit status 1: b'Traceback (most recent call last):\\n  File \"/workspace/to_execute.py\", line 10, in <module>\\n    qc = qasm2.loads(\\n  File \"/usr/local/lib/python3.10/site-packages/qiskit/qasm2/__init__.py\", line 587, in loads\\n    return _parse.from_bytecode(\\n  File \"/usr/local/lib/python3.10/site-packages/qiskit/qasm2/parse.py\", line 214, in from_bytecode\\n    for op in bc:\\nqiskit.qasm2.exceptions.QASM2ParseError: \"<input>:6,17: \\'reg_1_b\\' is not defined in this scope\"\\n'\n",
      "Failed to execute to_execute.py in Docker.\n",
      "Error parsing: Command 'python /workspace/to_execute.py' in image 'qiskit_runner' returned non-zero exit status 1: b'Traceback (most recent call last):\\n  File \"/workspace/to_execute.py\", line 10, in <module>\\n    qc = qasm2.loads(\\n  File \"/usr/local/lib/python3.10/site-packages/qiskit/qasm2/__init__.py\", line 587, in loads\\n    return _parse.from_bytecode(\\n  File \"/usr/local/lib/python3.10/site-packages/qiskit/qasm2/parse.py\", line 214, in from_bytecode\\n    for op in bc:\\nqiskit.qasm2.exceptions.QASM2ParseError: \"<input>:5,3: \\'reg_1_a\\' is not defined in this scope\"\\n'\n",
      "Failed to execute to_execute.py in Docker.\n",
      "Output: Saved the Pytket circuit to /workspace/to_execute_qc_pytket.qasm\n",
      "Saved the Qiskit circuit to /workspace/to_execute_qc_qiskit.qasm\n",
      "Exported QASM files: [('/workspace/to_execute_qc_pytket.qasm', 'export_to_qasm_with_pytket'), ('/workspace/to_execute_qc_qiskit.qasm', 'export_to_qasm_with_qiskit')]\n",
      "Log has been saved to /workspace/to_execute_5a6bd9_error.json\n",
      "\n",
      "Program to_execute.py executed successfully.\n",
      "New exception message: The circuits are not equivalent: /workspace/to_execute_qc_pytket.qasm, /workspace/to_execute_qc_qiskit.qasm\n",
      "Error parsing: Command 'python /workspace/to_execute.py' in image 'qiskit_runner' returned non-zero exit status 1: b'  File \"/workspace/to_execute.py\", line 17\\n    , custom_instructions=qasm2.LEGACY_CUSTOM_INSTRUCTIONS)\\nIndentationError: unexpected indent\\n'\n",
      "Failed to execute to_execute.py in Docker.\n",
      "Error parsing: Command 'python /workspace/to_execute.py' in image 'qiskit_runner' returned non-zero exit status 1: b'  File \"/workspace/to_execute.py\", line 11\\n    include \"qelib1.inc\";\\n            ^^^^^^^^^^^^\\nSyntaxError: invalid syntax\\n'\n",
      "Failed to execute to_execute.py in Docker.\n",
      "Error parsing: Command 'python /workspace/to_execute.py' in image 'qiskit_runner' returned non-zero exit status 1: b'Traceback (most recent call last):\\n  File \"/workspace/to_execute.py\", line 10, in <module>\\n    qc = qasm2.loads(\\n  File \"/usr/local/lib/python3.10/site-packages/qiskit/qasm2/__init__.py\", line 587, in loads\\n    return _parse.from_bytecode(\\n  File \"/usr/local/lib/python3.10/site-packages/qiskit/qasm2/parse.py\", line 214, in from_bytecode\\n    for op in bc:\\nqiskit.qasm2.exceptions.QASM2ParseError: \"<input>:5,0: cannot use non-builtin custom instruction \\'ccx\\' before definition\"\\n'\n",
      "Failed to execute to_execute.py in Docker.\n",
      "Error parsing: Command 'python /workspace/to_execute.py' in image 'qiskit_runner' returned non-zero exit status 1: b'Traceback (most recent call last):\\n  File \"/workspace/to_execute.py\", line 10, in <module>\\n    qc = qasm2.loads(\\n  File \"/usr/local/lib/python3.10/site-packages/qiskit/qasm2/__init__.py\", line 587, in loads\\n    return _parse.from_bytecode(\\n  File \"/usr/local/lib/python3.10/site-packages/qiskit/qasm2/parse.py\", line 214, in from_bytecode\\n    for op in bc:\\nqiskit.qasm2.exceptions.QASM2ParseError: \"<input>:5,4: \\'reg_1_cin\\' is not defined in this scope\"\\n'\n",
      "Failed to execute to_execute.py in Docker.\n",
      "Error parsing: Command 'python /workspace/to_execute.py' in image 'qiskit_runner' returned non-zero exit status 1: b'Traceback (most recent call last):\\n  File \"/workspace/to_execute.py\", line 10, in <module>\\n    qc = qasm2.loads(\\n  File \"/usr/local/lib/python3.10/site-packages/qiskit/qasm2/__init__.py\", line 587, in loads\\n    return _parse.from_bytecode(\\n  File \"/usr/local/lib/python3.10/site-packages/qiskit/qasm2/parse.py\", line 214, in from_bytecode\\n    for op in bc:\\nqiskit.qasm2.exceptions.QASM2ParseError: \"<input>:5,17: \\'reg_1_b\\' is not defined in this scope\"\\n'\n",
      "Failed to execute to_execute.py in Docker.\n",
      "Error parsing: Command 'python /workspace/to_execute.py' in image 'qiskit_runner' returned non-zero exit status 1: b'Traceback (most recent call last):\\n  File \"/workspace/to_execute.py\", line 10, in <module>\\n    qc = qasm2.loads(\\n  File \"/usr/local/lib/python3.10/site-packages/qiskit/qasm2/__init__.py\", line 587, in loads\\n    return _parse.from_bytecode(\\n  File \"/usr/local/lib/python3.10/site-packages/qiskit/qasm2/parse.py\", line 214, in from_bytecode\\n    for op in bc:\\nqiskit.qasm2.exceptions.QASM2ParseError: \"<input>:5,28: \\'reg_1_a\\' is not defined in this scope\"\\n'\n",
      "Failed to execute to_execute.py in Docker.\n",
      "Error parsing: Command 'python /workspace/to_execute.py' in image 'qiskit_runner' returned non-zero exit status 1: b'  File \"/workspace/to_execute.py\", line 11\\n    include \"qelib1.inc\";\\n            ^^^^^^^^^^^^\\nSyntaxError: invalid syntax\\n'\n",
      "Failed to execute to_execute.py in Docker.\n",
      "Error parsing: Command 'python /workspace/to_execute.py' in image 'qiskit_runner' returned non-zero exit status 1: b'  File \"/workspace/to_execute.py\", line 10\\n    qc = qasm2.loads(\\n                    ^\\nSyntaxError: \\'(\\' was never closed\\n'\n",
      "Failed to execute to_execute.py in Docker.\n",
      "Error parsing: Command 'python /workspace/to_execute.py' in image 'qiskit_runner' returned non-zero exit status 1: b'  File \"/workspace/to_execute.py\", line 17\\n    , custom_instructions=qasm2.LEGACY_CUSTOM_INSTRUCTIONS)\\nIndentationError: unexpected indent\\n'\n",
      "Failed to execute to_execute.py in Docker.\n",
      "Error parsing: Command 'python /workspace/to_execute.py' in image 'qiskit_runner' returned non-zero exit status 1: b'  File \"/workspace/to_execute.py\", line 11\\n    include \"qelib1.inc\";\\n            ^^^^^^^^^^^^\\nSyntaxError: invalid syntax\\n'\n",
      "Failed to execute to_execute.py in Docker.\n",
      "Error parsing: Command 'python /workspace/to_execute.py' in image 'qiskit_runner' returned non-zero exit status 1: b'Traceback (most recent call last):\\n  File \"/workspace/to_execute.py\", line 10, in <module>\\n    qc = qasm2.loads(\\n  File \"/usr/local/lib/python3.10/site-packages/qiskit/qasm2/__init__.py\", line 587, in loads\\n    return _parse.from_bytecode(\\n  File \"/usr/local/lib/python3.10/site-packages/qiskit/qasm2/parse.py\", line 214, in from_bytecode\\n    for op in bc:\\nqiskit.qasm2.exceptions.QASM2ParseError: \"<input>:5,0: cannot use non-builtin custom instruction \\'ccx\\' before definition\"\\n'\n",
      "Failed to execute to_execute.py in Docker.\n",
      "Error parsing: Command 'python /workspace/to_execute.py' in image 'qiskit_runner' returned non-zero exit status 1: b'Traceback (most recent call last):\\n  File \"/workspace/to_execute.py\", line 10, in <module>\\n    qc = qasm2.loads(\\n  File \"/usr/local/lib/python3.10/site-packages/qiskit/qasm2/__init__.py\", line 587, in loads\\n    return _parse.from_bytecode(\\n  File \"/usr/local/lib/python3.10/site-packages/qiskit/qasm2/parse.py\", line 214, in from_bytecode\\n    for op in bc:\\nqiskit.qasm2.exceptions.QASM2ParseError: \"<input>:5,4: \\'reg_1_cin\\' is not defined in this scope\"\\n'\n",
      "Failed to execute to_execute.py in Docker.\n",
      "Error parsing: Command 'python /workspace/to_execute.py' in image 'qiskit_runner' returned non-zero exit status 1: b'Traceback (most recent call last):\\n  File \"/workspace/to_execute.py\", line 10, in <module>\\n    qc = qasm2.loads(\\n  File \"/usr/local/lib/python3.10/site-packages/qiskit/qasm2/__init__.py\", line 587, in loads\\n    return _parse.from_bytecode(\\n  File \"/usr/local/lib/python3.10/site-packages/qiskit/qasm2/parse.py\", line 214, in from_bytecode\\n    for op in bc:\\nqiskit.qasm2.exceptions.QASM2ParseError: \"<input>:5,17: \\'reg_1_b\\' is not defined in this scope\"\\n'\n",
      "Failed to execute to_execute.py in Docker.\n",
      "Error parsing: Command 'python /workspace/to_execute.py' in image 'qiskit_runner' returned non-zero exit status 1: b'Traceback (most recent call last):\\n  File \"/workspace/to_execute.py\", line 10, in <module>\\n    qc = qasm2.loads(\\n  File \"/usr/local/lib/python3.10/site-packages/qiskit/qasm2/__init__.py\", line 587, in loads\\n    return _parse.from_bytecode(\\n  File \"/usr/local/lib/python3.10/site-packages/qiskit/qasm2/parse.py\", line 214, in from_bytecode\\n    for op in bc:\\nqiskit.qasm2.exceptions.QASM2ParseError: \"<input>:5,28: \\'reg_1_a\\' is not defined in this scope\"\\n'\n",
      "Failed to execute to_execute.py in Docker.\n",
      "Output: Saved the Pytket circuit to /workspace/to_execute_qc_pytket.qasm\n",
      "Saved the Qiskit circuit to /workspace/to_execute_qc_qiskit.qasm\n",
      "Exported QASM files: [('/workspace/to_execute_qc_pytket.qasm', 'export_to_qasm_with_pytket'), ('/workspace/to_execute_qc_qiskit.qasm', 'export_to_qasm_with_qiskit')]\n",
      "The circuits are equivalent: /workspace/to_execute_qc_pytket.qasm, /workspace/to_execute_qc_qiskit.qasm\n",
      "\n",
      "Program to_execute.py executed successfully.\n",
      "Error parsing: Command 'python /workspace/to_execute.py' in image 'qiskit_runner' returned non-zero exit status 1: b'  File \"/workspace/to_execute.py\", line 11\\n    include \"qelib1.inc\";\\n            ^^^^^^^^^^^^\\nSyntaxError: invalid syntax\\n'\n",
      "Failed to execute to_execute.py in Docker.\n",
      "Error parsing: Command 'python /workspace/to_execute.py' in image 'qiskit_runner' returned non-zero exit status 1: b'  File \"/workspace/to_execute.py\", line 10\\n    qc = qasm2.loads(\\n                    ^\\nSyntaxError: \\'(\\' was never closed\\n'\n",
      "Failed to execute to_execute.py in Docker.\n"
     ]
    },
    {
     "data": {
      "text/html": [
       "<pre style=\"white-space:pre;overflow-x:auto;line-height:normal;font-family:Menlo,'DejaVu Sans Mono',consolas,'Courier New',monospace\"><span style=\"color: #7fbfbf; text-decoration-color: #7fbfbf\">[15:01:35] </span><span style=\"color: #008000; text-decoration-color: #008000\">Minimized file saved as:</span>                                                        <a href=\"file:///home/paltenmo/projects/crossplatform/analysis_and_reporting/ddmin_target_file.py\" target=\"_blank\"><span style=\"color: #7f7f7f; text-decoration-color: #7f7f7f\">ddmin_target_file.py</span></a><span style=\"color: #7f7f7f; text-decoration-color: #7f7f7f\">:</span><a href=\"file:///home/paltenmo/projects/crossplatform/analysis_and_reporting/ddmin_target_file.py#240\" target=\"_blank\"><span style=\"color: #7f7f7f; text-decoration-color: #7f7f7f\">240</span></a>\n",
       "<span style=\"color: #7fbfbf; text-decoration-color: #7fbfbf\">           </span>..<span style=\"color: #800080; text-decoration-color: #800080\">/reports/v009/2024_11_21__14_57/</span><span style=\"color: #ff00ff; text-decoration-color: #ff00ff\">qiskit_circuit_5q_10g_6533_f0b204_dbc69c_erro</span> <span style=\"color: #7f7f7f; text-decoration-color: #7f7f7f\">                        </span>\n",
       "<span style=\"color: #7fbfbf; text-decoration-color: #7fbfbf\">           </span><span style=\"color: #ff00ff; text-decoration-color: #ff00ff\">r_min.py</span>                                                                        <span style=\"color: #7f7f7f; text-decoration-color: #7f7f7f\">                        </span>\n",
       "</pre>\n"
      ],
      "text/plain": [
       "\u001b[2;36m[15:01:35]\u001b[0m\u001b[2;36m \u001b[0m\u001b[32mMinimized file saved as:\u001b[0m                                                        \u001b]8;id=330228;file:///home/paltenmo/projects/crossplatform/analysis_and_reporting/ddmin_target_file.py\u001b\\\u001b[2mddmin_target_file.py\u001b[0m\u001b]8;;\u001b\\\u001b[2m:\u001b[0m\u001b]8;id=890946;file:///home/paltenmo/projects/crossplatform/analysis_and_reporting/ddmin_target_file.py#240\u001b\\\u001b[2m240\u001b[0m\u001b]8;;\u001b\\\n",
       "\u001b[2;36m           \u001b[0m..\u001b[35m/reports/v009/2024_11_21__14_57/\u001b[0m\u001b[95mqiskit_circuit_5q_10g_6533_f0b204_dbc69c_erro\u001b[0m \u001b[2m                        \u001b[0m\n",
       "\u001b[2;36m           \u001b[0m\u001b[95mr_min.py\u001b[0m                                                                        \u001b[2m                        \u001b[0m\n"
      ]
     },
     "metadata": {},
     "output_type": "display_data"
    },
    {
     "name": "stdout",
     "output_type": "stream",
     "text": [
      "Output: Saved the Pytket circuit to /workspace/qiskit_circuit_5q_10g_6533_f0b204_dbc69c_error_min_qc_pytket.qasm\n",
      "Saved the Qiskit circuit to /workspace/qiskit_circuit_5q_10g_6533_f0b204_dbc69c_error_min_qc_qiskit.qasm\n",
      "Exported QASM files: [('/workspace/qiskit_circuit_5q_10g_6533_f0b204_dbc69c_error_min_qc_pytket.qasm', 'export_to_qasm_with_pytket'), ('/workspace/qiskit_circuit_5q_10g_6533_f0b204_dbc69c_error_min_qc_qiskit.qasm', 'export_to_qasm_with_qiskit')]\n",
      "Log has been saved to /workspace/qiskit_circuit_5q_10g_6533_f0b204_dbc69c_error_min_dc03a6_error.json\n",
      "\n"
     ]
    },
    {
     "data": {
      "text/html": [
       "<pre style=\"white-space:pre;overflow-x:auto;line-height:normal;font-family:Menlo,'DejaVu Sans Mono',consolas,'Courier New',monospace\"><span style=\"color: #7fbfbf; text-decoration-color: #7fbfbf\">[15:01:42] </span>Program qiskit_circuit_5q_10g_6533_f0b204_dbc69c_error_min.py executed              <a href=\"file:///home/paltenmo/projects/crossplatform/generators/docker_tooling.py\" target=\"_blank\"><span style=\"color: #7f7f7f; text-decoration-color: #7f7f7f\">docker_tooling.py</span></a><span style=\"color: #7f7f7f; text-decoration-color: #7f7f7f\">:</span><a href=\"file:///home/paltenmo/projects/crossplatform/generators/docker_tooling.py#46\" target=\"_blank\"><span style=\"color: #7f7f7f; text-decoration-color: #7f7f7f\">46</span></a>\n",
       "<span style=\"color: #7fbfbf; text-decoration-color: #7fbfbf\">           </span>successfully.                                                                       <span style=\"color: #7f7f7f; text-decoration-color: #7f7f7f\">                    </span>\n",
       "</pre>\n"
      ],
      "text/plain": [
       "\u001b[2;36m[15:01:42]\u001b[0m\u001b[2;36m \u001b[0mProgram qiskit_circuit_5q_10g_6533_f0b204_dbc69c_error_min.py executed              \u001b]8;id=496062;file:///home/paltenmo/projects/crossplatform/generators/docker_tooling.py\u001b\\\u001b[2mdocker_tooling.py\u001b[0m\u001b]8;;\u001b\\\u001b[2m:\u001b[0m\u001b]8;id=906562;file:///home/paltenmo/projects/crossplatform/generators/docker_tooling.py#46\u001b\\\u001b[2m46\u001b[0m\u001b]8;;\u001b\\\n",
       "\u001b[2;36m           \u001b[0msuccessfully.                                                                       \u001b[2m                    \u001b[0m\n"
      ]
     },
     "metadata": {},
     "output_type": "display_data"
    },
    {
     "data": {
      "application/vnd.jupyter.widget-view+json": {
       "model_id": "a804d8582c0742d78efd599218a98342",
       "version_major": 2,
       "version_minor": 0
      },
      "text/plain": [
       "Executing:   0%|          | 0/13 [00:00<?, ?cell/s]"
      ]
     },
     "metadata": {},
     "output_type": "display_data"
    },
    {
     "data": {
      "text/html": [
       "<pre style=\"white-space:pre;overflow-x:auto;line-height:normal;font-family:Menlo,'DejaVu Sans Mono',consolas,'Courier New',monospace\"><span style=\"color: #7fbfbf; text-decoration-color: #7fbfbf\">[15:01:45] </span>Analysis notebook executed: ..<span style=\"color: #800080; text-decoration-color: #800080\">/reports/v009/2024_11_21__14_57/</span><span style=\"color: #ff00ff; text-decoration-color: #ff00ff\">analysis_output.ipynb</span>        <a href=\"file:///home/paltenmo/projects/crossplatform/analysis_and_reporting/triage.py\" target=\"_blank\"><span style=\"color: #7f7f7f; text-decoration-color: #7f7f7f\">triage.py</span></a><span style=\"color: #7f7f7f; text-decoration-color: #7f7f7f\">:</span><a href=\"file:///home/paltenmo/projects/crossplatform/analysis_and_reporting/triage.py#163\" target=\"_blank\"><span style=\"color: #7f7f7f; text-decoration-color: #7f7f7f\">163</span></a>\n",
       "</pre>\n"
      ],
      "text/plain": [
       "\u001b[2;36m[15:01:45]\u001b[0m\u001b[2;36m \u001b[0mAnalysis notebook executed: ..\u001b[35m/reports/v009/2024_11_21__14_57/\u001b[0m\u001b[95manalysis_output.ipynb\u001b[0m        \u001b]8;id=838500;file:///home/paltenmo/projects/crossplatform/analysis_and_reporting/triage.py\u001b\\\u001b[2mtriage.py\u001b[0m\u001b]8;;\u001b\\\u001b[2m:\u001b[0m\u001b]8;id=187327;file:///home/paltenmo/projects/crossplatform/analysis_and_reporting/triage.py#163\u001b\\\u001b[2m163\u001b[0m\u001b]8;;\u001b\\\n"
      ]
     },
     "metadata": {},
     "output_type": "display_data"
    },
    {
     "data": {
      "text/html": [
       "<pre style=\"white-space:pre;overflow-x:auto;line-height:normal;font-family:Menlo,'DejaVu Sans Mono',consolas,'Courier New',monospace\"><span style=\"color: #7fbfbf; text-decoration-color: #7fbfbf\">           </span>Created report folder: ..<span style=\"color: #800080; text-decoration-color: #800080\">/reports/v009/</span><span style=\"color: #ff00ff; text-decoration-color: #ff00ff\">2024_11_21__15_01</span>                                   <a href=\"file:///home/paltenmo/projects/crossplatform/analysis_and_reporting/triage.py\" target=\"_blank\"><span style=\"color: #7f7f7f; text-decoration-color: #7f7f7f\">triage.py</span></a><span style=\"color: #7f7f7f; text-decoration-color: #7f7f7f\">:</span><a href=\"file:///home/paltenmo/projects/crossplatform/analysis_and_reporting/triage.py#131\" target=\"_blank\"><span style=\"color: #7f7f7f; text-decoration-color: #7f7f7f\">131</span></a>\n",
       "</pre>\n"
      ],
      "text/plain": [
       "\u001b[2;36m          \u001b[0m\u001b[2;36m \u001b[0mCreated report folder: ..\u001b[35m/reports/v009/\u001b[0m\u001b[95m2024_11_21__15_01\u001b[0m                                   \u001b]8;id=983100;file:///home/paltenmo/projects/crossplatform/analysis_and_reporting/triage.py\u001b\\\u001b[2mtriage.py\u001b[0m\u001b]8;;\u001b\\\u001b[2m:\u001b[0m\u001b]8;id=686809;file:///home/paltenmo/projects/crossplatform/analysis_and_reporting/triage.py#131\u001b\\\u001b[2m131\u001b[0m\u001b]8;;\u001b\\\n"
      ]
     },
     "metadata": {},
     "output_type": "display_data"
    },
    {
     "data": {
      "text/html": [
       "<pre style=\"white-space:pre;overflow-x:auto;line-height:normal;font-family:Menlo,'DejaVu Sans Mono',consolas,'Courier New',monospace\"><span style=\"color: #7fbfbf; text-decoration-color: #7fbfbf\">           </span>Copied files to: ..<span style=\"color: #800080; text-decoration-color: #800080\">/reports/v009/</span><span style=\"color: #ff00ff; text-decoration-color: #ff00ff\">2024_11_21__15_01</span>                                         <a href=\"file:///home/paltenmo/projects/crossplatform/analysis_and_reporting/triage.py\" target=\"_blank\"><span style=\"color: #7f7f7f; text-decoration-color: #7f7f7f\">triage.py</span></a><span style=\"color: #7f7f7f; text-decoration-color: #7f7f7f\">:</span><a href=\"file:///home/paltenmo/projects/crossplatform/analysis_and_reporting/triage.py#140\" target=\"_blank\"><span style=\"color: #7f7f7f; text-decoration-color: #7f7f7f\">140</span></a>\n",
       "</pre>\n"
      ],
      "text/plain": [
       "\u001b[2;36m          \u001b[0m\u001b[2;36m \u001b[0mCopied files to: ..\u001b[35m/reports/v009/\u001b[0m\u001b[95m2024_11_21__15_01\u001b[0m                                         \u001b]8;id=61401;file:///home/paltenmo/projects/crossplatform/analysis_and_reporting/triage.py\u001b\\\u001b[2mtriage.py\u001b[0m\u001b]8;;\u001b\\\u001b[2m:\u001b[0m\u001b]8;id=451277;file:///home/paltenmo/projects/crossplatform/analysis_and_reporting/triage.py#140\u001b\\\u001b[2m140\u001b[0m\u001b]8;;\u001b\\\n"
      ]
     },
     "metadata": {},
     "output_type": "display_data"
    },
    {
     "data": {
      "text/html": [
       "<pre style=\"white-space:pre;overflow-x:auto;line-height:normal;font-family:Menlo,'DejaVu Sans Mono',consolas,'Courier New',monospace\"><span style=\"color: #7fbfbf; text-decoration-color: #7fbfbf\">[15:01:45] </span>Involved functions:                                                             <a href=\"file:///home/paltenmo/projects/crossplatform/analysis_and_reporting/ddmin_target_file.py\" target=\"_blank\"><span style=\"color: #7f7f7f; text-decoration-color: #7f7f7f\">ddmin_target_file.py</span></a><span style=\"color: #7f7f7f; text-decoration-color: #7f7f7f\">:</span><a href=\"file:///home/paltenmo/projects/crossplatform/analysis_and_reporting/ddmin_target_file.py#206\" target=\"_blank\"><span style=\"color: #7f7f7f; text-decoration-color: #7f7f7f\">206</span></a>\n",
       "</pre>\n"
      ],
      "text/plain": [
       "\u001b[2;36m[15:01:45]\u001b[0m\u001b[2;36m \u001b[0mInvolved functions:                                                             \u001b]8;id=393739;file:///home/paltenmo/projects/crossplatform/analysis_and_reporting/ddmin_target_file.py\u001b\\\u001b[2mddmin_target_file.py\u001b[0m\u001b]8;;\u001b\\\u001b[2m:\u001b[0m\u001b]8;id=121612;file:///home/paltenmo/projects/crossplatform/analysis_and_reporting/ddmin_target_file.py#206\u001b\\\u001b[2m206\u001b[0m\u001b]8;;\u001b\\\n"
      ]
     },
     "metadata": {},
     "output_type": "display_data"
    },
    {
     "data": {
      "text/html": [
       "<pre style=\"white-space:pre;overflow-x:auto;line-height:normal;font-family:Menlo,'DejaVu Sans Mono',consolas,'Courier New',monospace\"><span style=\"color: #7fbfbf; text-decoration-color: #7fbfbf\">           </span>  - compare_qasm_via_qcec                                                       <a href=\"file:///home/paltenmo/projects/crossplatform/analysis_and_reporting/ddmin_target_file.py\" target=\"_blank\"><span style=\"color: #7f7f7f; text-decoration-color: #7f7f7f\">ddmin_target_file.py</span></a><span style=\"color: #7f7f7f; text-decoration-color: #7f7f7f\">:</span><a href=\"file:///home/paltenmo/projects/crossplatform/analysis_and_reporting/ddmin_target_file.py#208\" target=\"_blank\"><span style=\"color: #7f7f7f; text-decoration-color: #7f7f7f\">208</span></a>\n",
       "</pre>\n"
      ],
      "text/plain": [
       "\u001b[2;36m          \u001b[0m\u001b[2;36m \u001b[0m  - compare_qasm_via_qcec                                                       \u001b]8;id=893171;file:///home/paltenmo/projects/crossplatform/analysis_and_reporting/ddmin_target_file.py\u001b\\\u001b[2mddmin_target_file.py\u001b[0m\u001b]8;;\u001b\\\u001b[2m:\u001b[0m\u001b]8;id=900657;file:///home/paltenmo/projects/crossplatform/analysis_and_reporting/ddmin_target_file.py#208\u001b\\\u001b[2m208\u001b[0m\u001b]8;;\u001b\\\n"
      ]
     },
     "metadata": {},
     "output_type": "display_data"
    },
    {
     "data": {
      "text/html": [
       "<pre style=\"white-space:pre;overflow-x:auto;line-height:normal;font-family:Menlo,'DejaVu Sans Mono',consolas,'Courier New',monospace\"><span style=\"color: #7fbfbf; text-decoration-color: #7fbfbf\">           </span>  - export_to_qasm_with_pytket                                                  <a href=\"file:///home/paltenmo/projects/crossplatform/analysis_and_reporting/ddmin_target_file.py\" target=\"_blank\"><span style=\"color: #7f7f7f; text-decoration-color: #7f7f7f\">ddmin_target_file.py</span></a><span style=\"color: #7f7f7f; text-decoration-color: #7f7f7f\">:</span><a href=\"file:///home/paltenmo/projects/crossplatform/analysis_and_reporting/ddmin_target_file.py#208\" target=\"_blank\"><span style=\"color: #7f7f7f; text-decoration-color: #7f7f7f\">208</span></a>\n",
       "</pre>\n"
      ],
      "text/plain": [
       "\u001b[2;36m          \u001b[0m\u001b[2;36m \u001b[0m  - export_to_qasm_with_pytket                                                  \u001b]8;id=482258;file:///home/paltenmo/projects/crossplatform/analysis_and_reporting/ddmin_target_file.py\u001b\\\u001b[2mddmin_target_file.py\u001b[0m\u001b]8;;\u001b\\\u001b[2m:\u001b[0m\u001b]8;id=444501;file:///home/paltenmo/projects/crossplatform/analysis_and_reporting/ddmin_target_file.py#208\u001b\\\u001b[2m208\u001b[0m\u001b]8;;\u001b\\\n"
      ]
     },
     "metadata": {},
     "output_type": "display_data"
    },
    {
     "data": {
      "text/html": [
       "<pre style=\"white-space:pre;overflow-x:auto;line-height:normal;font-family:Menlo,'DejaVu Sans Mono',consolas,'Courier New',monospace\"><span style=\"color: #7fbfbf; text-decoration-color: #7fbfbf\">           </span>  - export_to_qasm_with_qiskit                                                  <a href=\"file:///home/paltenmo/projects/crossplatform/analysis_and_reporting/ddmin_target_file.py\" target=\"_blank\"><span style=\"color: #7f7f7f; text-decoration-color: #7f7f7f\">ddmin_target_file.py</span></a><span style=\"color: #7f7f7f; text-decoration-color: #7f7f7f\">:</span><a href=\"file:///home/paltenmo/projects/crossplatform/analysis_and_reporting/ddmin_target_file.py#208\" target=\"_blank\"><span style=\"color: #7f7f7f; text-decoration-color: #7f7f7f\">208</span></a>\n",
       "</pre>\n"
      ],
      "text/plain": [
       "\u001b[2;36m          \u001b[0m\u001b[2;36m \u001b[0m  - export_to_qasm_with_qiskit                                                  \u001b]8;id=403788;file:///home/paltenmo/projects/crossplatform/analysis_and_reporting/ddmin_target_file.py\u001b\\\u001b[2mddmin_target_file.py\u001b[0m\u001b]8;;\u001b\\\u001b[2m:\u001b[0m\u001b]8;id=219130;file:///home/paltenmo/projects/crossplatform/analysis_and_reporting/ddmin_target_file.py#208\u001b\\\u001b[2m208\u001b[0m\u001b]8;;\u001b\\\n"
      ]
     },
     "metadata": {},
     "output_type": "display_data"
    },
    {
     "name": "stdout",
     "output_type": "stream",
     "text": [
      "Error parsing: Command 'python /workspace/to_execute.py' in image 'qiskit_runner' returned non-zero exit status 1: b'Traceback (most recent call last):\\n  File \"/workspace/to_execute.py\", line 105, in <module>\\n    target_qc = qc\\nNameError: name \\'qc\\' is not defined\\n'\n",
      "Failed to execute to_execute.py in Docker.\n",
      "Output: Saved the Pytket circuit to /workspace/to_execute_qc_pytket.qasm\n",
      "Saved the Qiskit circuit to /workspace/to_execute_qc_qiskit.qasm\n",
      "Exported QASM files: [('/workspace/to_execute_qc_pytket.qasm', 'export_to_qasm_with_pytket'), ('/workspace/to_execute_qc_qiskit.qasm', 'export_to_qasm_with_qiskit')]\n",
      "Log has been saved to /workspace/to_execute_81243d_error.json\n",
      "\n",
      "Program to_execute.py executed successfully.\n",
      "New exception message: The circuits are not equivalent: /workspace/to_execute_qc_pytket.qasm, /workspace/to_execute_qc_qiskit.qasm\n",
      "Error parsing: Command 'python /workspace/to_execute.py' in image 'qiskit_runner' returned non-zero exit status 1: b'  File \"/workspace/to_execute.py\", line 22\\n    , custom_instructions=qasm2.LEGACY_CUSTOM_INSTRUCTIONS)\\n                                                          ^\\nSyntaxError: unmatched \\')\\'\\n'\n",
      "Failed to execute to_execute.py in Docker.\n",
      "Error parsing: Command 'python /workspace/to_execute.py' in image 'qiskit_runner' returned non-zero exit status 1: b'  File \"/workspace/to_execute.py\", line 10\\n    qc = qasm2.loads(\\n                    ^\\nSyntaxError: \\'(\\' was never closed\\n'\n",
      "Failed to execute to_execute.py in Docker.\n",
      "Error parsing: Command 'python /workspace/to_execute.py' in image 'qiskit_runner' returned non-zero exit status 1: b'  File \"/workspace/to_execute.py\", line 29\\n    , custom_instructions=qasm2.LEGACY_CUSTOM_INSTRUCTIONS)\\n                                                          ^\\nSyntaxError: unmatched \\')\\'\\n'\n",
      "Failed to execute to_execute.py in Docker.\n",
      "Error parsing: Command 'python /workspace/to_execute.py' in image 'qiskit_runner' returned non-zero exit status 1: b'Traceback (most recent call last):\\n  File \"/workspace/to_execute.py\", line 10, in <module>\\n    qc = qasm2.loads(\\n  File \"/usr/local/lib/python3.10/site-packages/qiskit/qasm2/__init__.py\", line 587, in loads\\n    return _parse.from_bytecode(\\n  File \"/usr/local/lib/python3.10/site-packages/qiskit/qasm2/parse.py\", line 214, in from_bytecode\\n    for op in bc:\\nqiskit.qasm2.exceptions.QASM2ParseError: \"<input>:9,22: \\'reg_1_c\\' is not defined in this scope\"\\n'\n",
      "Failed to execute to_execute.py in Docker.\n",
      "Output: Saved the Pytket circuit to /workspace/to_execute_qc_pytket.qasm\n",
      "Saved the Qiskit circuit to /workspace/to_execute_qc_qiskit.qasm\n",
      "Exported QASM files: [('/workspace/to_execute_qc_pytket.qasm', 'export_to_qasm_with_pytket'), ('/workspace/to_execute_qc_qiskit.qasm', 'export_to_qasm_with_qiskit')]\n",
      "Log has been saved to /workspace/to_execute_be7e3f_error.json\n",
      "\n",
      "Program to_execute.py executed successfully.\n",
      "New exception message: The circuits are not equivalent: /workspace/to_execute_qc_pytket.qasm, /workspace/to_execute_qc_qiskit.qasm\n",
      "Error parsing: Command 'python /workspace/to_execute.py' in image 'qiskit_runner' returned non-zero exit status 1: b'  File \"/workspace/to_execute.py\", line 22\\n    , custom_instructions=qasm2.LEGACY_CUSTOM_INSTRUCTIONS)\\n                                                          ^\\nSyntaxError: unmatched \\')\\'\\n'\n",
      "Failed to execute to_execute.py in Docker.\n",
      "Error parsing: Command 'python /workspace/to_execute.py' in image 'qiskit_runner' returned non-zero exit status 1: b'Traceback (most recent call last):\\n  File \"/workspace/to_execute.py\", line 10, in <module>\\n    qc = qasm2.loads(\\n  File \"/usr/local/lib/python3.10/site-packages/qiskit/qasm2/__init__.py\", line 587, in loads\\n    return _parse.from_bytecode(\\n  File \"/usr/local/lib/python3.10/site-packages/qiskit/qasm2/parse.py\", line 214, in from_bytecode\\n    for op in bc:\\nqiskit.qasm2.exceptions.QASM2ParseError: \"<input>:6,3: \\'reg_2_a\\' is not defined in this scope\"\\n'\n",
      "Failed to execute to_execute.py in Docker.\n",
      "Error parsing: Command 'python /workspace/to_execute.py' in image 'qiskit_runner' returned non-zero exit status 1: b'  File \"/workspace/to_execute.py\", line 10\\n    qc = qasm2.loads(\\n                    ^\\nSyntaxError: \\'(\\' was never closed\\n'\n",
      "Failed to execute to_execute.py in Docker.\n",
      "Error parsing: Command 'python /workspace/to_execute.py' in image 'qiskit_runner' returned non-zero exit status 1: b'  File \"/workspace/to_execute.py\", line 25\\n    , custom_instructions=qasm2.LEGACY_CUSTOM_INSTRUCTIONS)\\n                                                          ^\\nSyntaxError: unmatched \\')\\'\\n'\n",
      "Failed to execute to_execute.py in Docker.\n",
      "Error parsing: Command 'python /workspace/to_execute.py' in image 'qiskit_runner' returned non-zero exit status 1: b'Traceback (most recent call last):\\n  File \"/workspace/to_execute.py\", line 10, in <module>\\n    qc = qasm2.loads(\\n  File \"/usr/local/lib/python3.10/site-packages/qiskit/qasm2/__init__.py\", line 587, in loads\\n    return _parse.from_bytecode(\\n  File \"/usr/local/lib/python3.10/site-packages/qiskit/qasm2/parse.py\", line 214, in from_bytecode\\n    for op in bc:\\nqiskit.qasm2.exceptions.QASM2ParseError: \"<input>:7,0: cannot use non-builtin custom instruction \\'cx\\' before definition\"\\n'\n",
      "Failed to execute to_execute.py in Docker.\n",
      "Error parsing: Command 'python /workspace/to_execute.py' in image 'qiskit_runner' returned non-zero exit status 1: b'Traceback (most recent call last):\\n  File \"/workspace/to_execute.py\", line 10, in <module>\\n    qc = qasm2.loads(\\n  File \"/usr/local/lib/python3.10/site-packages/qiskit/qasm2/__init__.py\", line 587, in loads\\n    return _parse.from_bytecode(\\n  File \"/usr/local/lib/python3.10/site-packages/qiskit/qasm2/parse.py\", line 214, in from_bytecode\\n    for op in bc:\\nqiskit.qasm2.exceptions.QASM2ParseError: \"<input>:9,3: \\'reg_2_a\\' is not defined in this scope\"\\n'\n",
      "Failed to execute to_execute.py in Docker.\n",
      "Output: Saved the Pytket circuit to /workspace/to_execute_qc_pytket.qasm\n",
      "Saved the Qiskit circuit to /workspace/to_execute_qc_qiskit.qasm\n",
      "Exported QASM files: [('/workspace/to_execute_qc_pytket.qasm', 'export_to_qasm_with_pytket'), ('/workspace/to_execute_qc_qiskit.qasm', 'export_to_qasm_with_qiskit')]\n",
      "Log has been saved to /workspace/to_execute_7f7502_error.json\n",
      "\n",
      "Program to_execute.py executed successfully.\n",
      "New exception message: The circuits are not equivalent: /workspace/to_execute_qc_pytket.qasm, /workspace/to_execute_qc_qiskit.qasm\n",
      "Error parsing: Command 'python /workspace/to_execute.py' in image 'qiskit_runner' returned non-zero exit status 1: b'  File \"/workspace/to_execute.py\", line 22\\n    , custom_instructions=qasm2.LEGACY_CUSTOM_INSTRUCTIONS)\\n                                                          ^\\nSyntaxError: unmatched \\')\\'\\n'\n",
      "Failed to execute to_execute.py in Docker.\n",
      "Error parsing: Command 'python /workspace/to_execute.py' in image 'qiskit_runner' returned non-zero exit status 1: b'Traceback (most recent call last):\\n  File \"/workspace/to_execute.py\", line 10, in <module>\\n    qc = qasm2.loads(\\n  File \"/usr/local/lib/python3.10/site-packages/qiskit/qasm2/__init__.py\", line 587, in loads\\n    return _parse.from_bytecode(\\n  File \"/usr/local/lib/python3.10/site-packages/qiskit/qasm2/parse.py\", line 214, in from_bytecode\\n    for op in bc:\\nqiskit.qasm2.exceptions.QASM2ParseError: \"<input>:6,0: cannot use non-builtin custom instruction \\'cx\\' before definition\"\\n'\n",
      "Failed to execute to_execute.py in Docker.\n",
      "Error parsing: Command 'python /workspace/to_execute.py' in image 'qiskit_runner' returned non-zero exit status 1: b'Traceback (most recent call last):\\n  File \"/workspace/to_execute.py\", line 10, in <module>\\n    qc = qasm2.loads(\\n  File \"/usr/local/lib/python3.10/site-packages/qiskit/qasm2/__init__.py\", line 587, in loads\\n    return _parse.from_bytecode(\\n  File \"/usr/local/lib/python3.10/site-packages/qiskit/qasm2/parse.py\", line 214, in from_bytecode\\n    for op in bc:\\nqiskit.qasm2.exceptions.QASM2ParseError: \"<input>:8,17: \\'reg_2_b\\' is not defined in this scope\"\\n'\n",
      "Failed to execute to_execute.py in Docker.\n",
      "Output: Saved the Pytket circuit to /workspace/to_execute_qc_pytket.qasm\n",
      "Saved the Qiskit circuit to /workspace/to_execute_qc_qiskit.qasm\n",
      "Exported QASM files: [('/workspace/to_execute_qc_pytket.qasm', 'export_to_qasm_with_pytket'), ('/workspace/to_execute_qc_qiskit.qasm', 'export_to_qasm_with_qiskit')]\n",
      "Log has been saved to /workspace/to_execute_2c5abe_error.json\n",
      "\n",
      "Program to_execute.py executed successfully.\n",
      "New exception message: The circuits are not equivalent: /workspace/to_execute_qc_pytket.qasm, /workspace/to_execute_qc_qiskit.qasm\n",
      "Error parsing: Command 'python /workspace/to_execute.py' in image 'qiskit_runner' returned non-zero exit status 1: b'  File \"/workspace/to_execute.py\", line 18\\n    , custom_instructions=qasm2.LEGACY_CUSTOM_INSTRUCTIONS)\\n                                                          ^\\nSyntaxError: unmatched \\')\\'\\n'\n",
      "Failed to execute to_execute.py in Docker.\n",
      "Error parsing: Command 'python /workspace/to_execute.py' in image 'qiskit_runner' returned non-zero exit status 1: b'Traceback (most recent call last):\\n  File \"/workspace/to_execute.py\", line 10, in <module>\\n    qc = qasm2.loads(\\n  File \"/usr/local/lib/python3.10/site-packages/qiskit/qasm2/__init__.py\", line 587, in loads\\n    return _parse.from_bytecode(\\n  File \"/usr/local/lib/python3.10/site-packages/qiskit/qasm2/parse.py\", line 214, in from_bytecode\\n    for op in bc:\\nqiskit.qasm2.exceptions.QASM2ParseError: \"<input>:7,0: cannot use non-builtin custom instruction \\'ccx\\' before definition\"\\n'\n",
      "Failed to execute to_execute.py in Docker.\n",
      "Error parsing: Command 'python /workspace/to_execute.py' in image 'qiskit_runner' returned non-zero exit status 1: b'Traceback (most recent call last):\\n  File \"/workspace/to_execute.py\", line 10, in <module>\\n    qc = qasm2.loads(\\n  File \"/usr/local/lib/python3.10/site-packages/qiskit/qasm2/__init__.py\", line 587, in loads\\n    return _parse.from_bytecode(\\n  File \"/usr/local/lib/python3.10/site-packages/qiskit/qasm2/parse.py\", line 214, in from_bytecode\\n    for op in bc:\\nqiskit.qasm2.exceptions.QASM2ParseError: \"<input>:6,4: \\'reg_2_a\\' is not defined in this scope\"\\n'\n",
      "Failed to execute to_execute.py in Docker.\n",
      "Error parsing: Command 'python /workspace/to_execute.py' in image 'qiskit_runner' returned non-zero exit status 1: b'  File \"/workspace/to_execute.py\", line 10\\n    qc = qasm2.loads(\\n                    ^\\nSyntaxError: \\'(\\' was never closed\\n'\n",
      "Failed to execute to_execute.py in Docker.\n",
      "Error parsing: Command 'python /workspace/to_execute.py' in image 'qiskit_runner' returned non-zero exit status 1: b'  File \"/workspace/to_execute.py\", line 21\\n    , custom_instructions=qasm2.LEGACY_CUSTOM_INSTRUCTIONS)\\nIndentationError: unexpected indent\\n'\n",
      "Failed to execute to_execute.py in Docker.\n",
      "Error parsing: Command 'python /workspace/to_execute.py' in image 'qiskit_runner' returned non-zero exit status 1: b'  File \"/workspace/to_execute.py\", line 12\\n    include \"qelib1.inc\";\\n            ^^^^^^^^^^^^\\nSyntaxError: invalid syntax\\n'\n",
      "Failed to execute to_execute.py in Docker.\n",
      "Error parsing: Command 'python /workspace/to_execute.py' in image 'qiskit_runner' returned non-zero exit status 1: b'Traceback (most recent call last):\\n  File \"/workspace/to_execute.py\", line 10, in <module>\\n    qc = qasm2.loads(\\n  File \"/usr/local/lib/python3.10/site-packages/qiskit/qasm2/__init__.py\", line 587, in loads\\n    return _parse.from_bytecode(\\n  File \"/usr/local/lib/python3.10/site-packages/qiskit/qasm2/parse.py\", line 214, in from_bytecode\\n    for op in bc:\\nqiskit.qasm2.exceptions.QASM2ParseError: \"<input>:8,0: cannot use non-builtin custom instruction \\'ccx\\' before definition\"\\n'\n",
      "Failed to execute to_execute.py in Docker.\n",
      "Error parsing: Command 'python /workspace/to_execute.py' in image 'qiskit_runner' returned non-zero exit status 1: b'Traceback (most recent call last):\\n  File \"/workspace/to_execute.py\", line 10, in <module>\\n    qc = qasm2.loads(\\n  File \"/usr/local/lib/python3.10/site-packages/qiskit/qasm2/__init__.py\", line 587, in loads\\n    return _parse.from_bytecode(\\n  File \"/usr/local/lib/python3.10/site-packages/qiskit/qasm2/parse.py\", line 214, in from_bytecode\\n    for op in bc:\\nqiskit.qasm2.exceptions.QASM2ParseError: \"<input>:8,4: \\'reg_2_a\\' is not defined in this scope\"\\n'\n",
      "Failed to execute to_execute.py in Docker.\n",
      "Error parsing: Command 'python /workspace/to_execute.py' in image 'qiskit_runner' returned non-zero exit status 1: b'Traceback (most recent call last):\\n  File \"/workspace/to_execute.py\", line 10, in <module>\\n    qc = qasm2.loads(\\n  File \"/usr/local/lib/python3.10/site-packages/qiskit/qasm2/__init__.py\", line 587, in loads\\n    return _parse.from_bytecode(\\n  File \"/usr/local/lib/python3.10/site-packages/qiskit/qasm2/parse.py\", line 214, in from_bytecode\\n    for op in bc:\\nqiskit.qasm2.exceptions.QASM2ParseError: \"<input>:8,15: \\'reg_2_b\\' is not defined in this scope\"\\n'\n",
      "Failed to execute to_execute.py in Docker.\n",
      "Output: Saved the Pytket circuit to /workspace/to_execute_qc_pytket.qasm\n",
      "Saved the Qiskit circuit to /workspace/to_execute_qc_qiskit.qasm\n",
      "Exported QASM files: [('/workspace/to_execute_qc_pytket.qasm', 'export_to_qasm_with_pytket'), ('/workspace/to_execute_qc_qiskit.qasm', 'export_to_qasm_with_qiskit')]\n",
      "Log has been saved to /workspace/to_execute_71ef2f_error.json\n",
      "\n",
      "Program to_execute.py executed successfully.\n",
      "New exception message: The circuits are not equivalent: /workspace/to_execute_qc_pytket.qasm, /workspace/to_execute_qc_qiskit.qasm\n",
      "Error parsing: Command 'python /workspace/to_execute.py' in image 'qiskit_runner' returned non-zero exit status 1: b'  File \"/workspace/to_execute.py\", line 20\\n    , custom_instructions=qasm2.LEGACY_CUSTOM_INSTRUCTIONS)\\nIndentationError: unexpected indent\\n'\n",
      "Failed to execute to_execute.py in Docker.\n",
      "Error parsing: Command 'python /workspace/to_execute.py' in image 'qiskit_runner' returned non-zero exit status 1: b'  File \"/workspace/to_execute.py\", line 12\\n    include \"qelib1.inc\";\\n            ^^^^^^^^^^^^\\nSyntaxError: invalid syntax\\n'\n",
      "Failed to execute to_execute.py in Docker.\n",
      "Error parsing: Command 'python /workspace/to_execute.py' in image 'qiskit_runner' returned non-zero exit status 1: b'Traceback (most recent call last):\\n  File \"/workspace/to_execute.py\", line 10, in <module>\\n    qc = qasm2.loads(\\n  File \"/usr/local/lib/python3.10/site-packages/qiskit/qasm2/__init__.py\", line 587, in loads\\n    return _parse.from_bytecode(\\n  File \"/usr/local/lib/python3.10/site-packages/qiskit/qasm2/parse.py\", line 214, in from_bytecode\\n    for op in bc:\\nqiskit.qasm2.exceptions.QASM2ParseError: \"<input>:7,0: cannot use non-builtin custom instruction \\'ccx\\' before definition\"\\n'\n",
      "Failed to execute to_execute.py in Docker.\n",
      "Error parsing: Command 'python /workspace/to_execute.py' in image 'qiskit_runner' returned non-zero exit status 1: b'Traceback (most recent call last):\\n  File \"/workspace/to_execute.py\", line 10, in <module>\\n    qc = qasm2.loads(\\n  File \"/usr/local/lib/python3.10/site-packages/qiskit/qasm2/__init__.py\", line 587, in loads\\n    return _parse.from_bytecode(\\n  File \"/usr/local/lib/python3.10/site-packages/qiskit/qasm2/parse.py\", line 214, in from_bytecode\\n    for op in bc:\\nqiskit.qasm2.exceptions.QASM2ParseError: \"<input>:7,4: \\'reg_2_a\\' is not defined in this scope\"\\n'\n",
      "Failed to execute to_execute.py in Docker.\n",
      "Error parsing: Command 'python /workspace/to_execute.py' in image 'qiskit_runner' returned non-zero exit status 1: b'Traceback (most recent call last):\\n  File \"/workspace/to_execute.py\", line 10, in <module>\\n    qc = qasm2.loads(\\n  File \"/usr/local/lib/python3.10/site-packages/qiskit/qasm2/__init__.py\", line 587, in loads\\n    return _parse.from_bytecode(\\n  File \"/usr/local/lib/python3.10/site-packages/qiskit/qasm2/parse.py\", line 214, in from_bytecode\\n    for op in bc:\\nqiskit.qasm2.exceptions.QASM2ParseError: \"<input>:7,15: \\'reg_2_b\\' is not defined in this scope\"\\n'\n",
      "Failed to execute to_execute.py in Docker.\n",
      "Error parsing: Command 'python /workspace/to_execute.py' in image 'qiskit_runner' returned non-zero exit status 1: b'  File \"/workspace/to_execute.py\", line 12\\n    OPENQASM 2.0;\\n    ^^^^^^^^^^^^\\nSyntaxError: invalid syntax. Perhaps you forgot a comma?\\n'\n",
      "Failed to execute to_execute.py in Docker.\n",
      "Error parsing: Command 'python /workspace/to_execute.py' in image 'qiskit_runner' returned non-zero exit status 1: b'  File \"/workspace/to_execute.py\", line 10\\n    qc = qasm2.loads(\\n                    ^\\nSyntaxError: \\'(\\' was never closed\\n'\n",
      "Failed to execute to_execute.py in Docker.\n",
      "Error parsing: Command 'python /workspace/to_execute.py' in image 'qiskit_runner' returned non-zero exit status 1: b'  File \"/workspace/to_execute.py\", line 21\\n    , custom_instructions=qasm2.LEGACY_CUSTOM_INSTRUCTIONS)\\nIndentationError: unexpected indent\\n'\n",
      "Failed to execute to_execute.py in Docker.\n",
      "Output: Saved the Pytket circuit to /workspace/to_execute_qc_pytket.qasm\n",
      "Saved the Qiskit circuit to /workspace/to_execute_qc_qiskit.qasm\n",
      "Exported QASM files: [('/workspace/to_execute_qc_pytket.qasm', 'export_to_qasm_with_pytket'), ('/workspace/to_execute_qc_qiskit.qasm', 'export_to_qasm_with_qiskit')]\n",
      "Log has been saved to /workspace/to_execute_07037d_error.json\n",
      "\n",
      "Program to_execute.py executed successfully.\n",
      "New exception message: The circuits are not equivalent: /workspace/to_execute_qc_pytket.qasm, /workspace/to_execute_qc_qiskit.qasm\n",
      "Error parsing: Command 'python /workspace/to_execute.py' in image 'qiskit_runner' returned non-zero exit status 1: b'  File \"/workspace/to_execute.py\", line 20\\n    , custom_instructions=qasm2.LEGACY_CUSTOM_INSTRUCTIONS)\\nIndentationError: unexpected indent\\n'\n",
      "Failed to execute to_execute.py in Docker.\n",
      "Error parsing: Command 'python /workspace/to_execute.py' in image 'qiskit_runner' returned non-zero exit status 1: b'  File \"/workspace/to_execute.py\", line 11\\n    OPENQASM 2.0;\\n    ^^^^^^^^^^^^\\nSyntaxError: invalid syntax. Perhaps you forgot a comma?\\n'\n",
      "Failed to execute to_execute.py in Docker.\n",
      "Output: Saved the Pytket circuit to /workspace/to_execute_qc_pytket.qasm\n",
      "Saved the Qiskit circuit to /workspace/to_execute_qc_qiskit.qasm\n",
      "Exported QASM files: [('/workspace/to_execute_qc_pytket.qasm', 'export_to_qasm_with_pytket'), ('/workspace/to_execute_qc_qiskit.qasm', 'export_to_qasm_with_qiskit')]\n",
      "Log has been saved to /workspace/to_execute_42f483_error.json\n",
      "\n",
      "Program to_execute.py executed successfully.\n",
      "New exception message: The circuits are not equivalent: /workspace/to_execute_qc_pytket.qasm, /workspace/to_execute_qc_qiskit.qasm\n",
      "Error parsing: Command 'python /workspace/to_execute.py' in image 'qiskit_runner' returned non-zero exit status 1: b'  File \"/workspace/to_execute.py\", line 19\\n    , custom_instructions=qasm2.LEGACY_CUSTOM_INSTRUCTIONS)\\nIndentationError: unexpected indent\\n'\n",
      "Failed to execute to_execute.py in Docker.\n",
      "Error parsing: Command 'python /workspace/to_execute.py' in image 'qiskit_runner' returned non-zero exit status 1: b'  File \"/workspace/to_execute.py\", line 11\\n    include \"qelib1.inc\";\\n            ^^^^^^^^^^^^\\nSyntaxError: invalid syntax\\n'\n",
      "Failed to execute to_execute.py in Docker.\n",
      "Error parsing: Command 'python /workspace/to_execute.py' in image 'qiskit_runner' returned non-zero exit status 1: b'Traceback (most recent call last):\\n  File \"/workspace/to_execute.py\", line 10, in <module>\\n    qc = qasm2.loads(\\n  File \"/usr/local/lib/python3.10/site-packages/qiskit/qasm2/__init__.py\", line 587, in loads\\n    return _parse.from_bytecode(\\n  File \"/usr/local/lib/python3.10/site-packages/qiskit/qasm2/parse.py\", line 214, in from_bytecode\\n    for op in bc:\\nqiskit.qasm2.exceptions.QASM2ParseError: \"<input>:7,0: cannot use non-builtin custom instruction \\'ccx\\' before definition\"\\n'\n",
      "Failed to execute to_execute.py in Docker.\n",
      "Output: Saved the Pytket circuit to /workspace/to_execute_qc_pytket.qasm\n",
      "Saved the Qiskit circuit to /workspace/to_execute_qc_qiskit.qasm\n",
      "Exported QASM files: [('/workspace/to_execute_qc_pytket.qasm', 'export_to_qasm_with_pytket'), ('/workspace/to_execute_qc_qiskit.qasm', 'export_to_qasm_with_qiskit')]\n",
      "Log has been saved to /workspace/to_execute_630c08_error.json\n",
      "\n",
      "Program to_execute.py executed successfully.\n",
      "New exception message: The circuits are not equivalent: /workspace/to_execute_qc_pytket.qasm, /workspace/to_execute_qc_qiskit.qasm\n",
      "Error parsing: Command 'python /workspace/to_execute.py' in image 'qiskit_runner' returned non-zero exit status 1: b'  File \"/workspace/to_execute.py\", line 18\\n    , custom_instructions=qasm2.LEGACY_CUSTOM_INSTRUCTIONS)\\nIndentationError: unexpected indent\\n'\n",
      "Failed to execute to_execute.py in Docker.\n",
      "Error parsing: Command 'python /workspace/to_execute.py' in image 'qiskit_runner' returned non-zero exit status 1: b'  File \"/workspace/to_execute.py\", line 11\\n    include \"qelib1.inc\";\\n            ^^^^^^^^^^^^\\nSyntaxError: invalid syntax\\n'\n",
      "Failed to execute to_execute.py in Docker.\n",
      "Error parsing: Command 'python /workspace/to_execute.py' in image 'qiskit_runner' returned non-zero exit status 1: b'Traceback (most recent call last):\\n  File \"/workspace/to_execute.py\", line 10, in <module>\\n    qc = qasm2.loads(\\n  File \"/usr/local/lib/python3.10/site-packages/qiskit/qasm2/__init__.py\", line 587, in loads\\n    return _parse.from_bytecode(\\n  File \"/usr/local/lib/python3.10/site-packages/qiskit/qasm2/parse.py\", line 214, in from_bytecode\\n    for op in bc:\\nqiskit.qasm2.exceptions.QASM2ParseError: \"<input>:6,0: cannot use non-builtin custom instruction \\'ccx\\' before definition\"\\n'\n",
      "Failed to execute to_execute.py in Docker.\n",
      "Output: Saved the Pytket circuit to /workspace/to_execute_qc_pytket.qasm\n",
      "Saved the Qiskit circuit to /workspace/to_execute_qc_qiskit.qasm\n",
      "Exported QASM files: [('/workspace/to_execute_qc_pytket.qasm', 'export_to_qasm_with_pytket'), ('/workspace/to_execute_qc_qiskit.qasm', 'export_to_qasm_with_qiskit')]\n",
      "The circuits are equivalent: /workspace/to_execute_qc_pytket.qasm, /workspace/to_execute_qc_qiskit.qasm\n",
      "\n",
      "Program to_execute.py executed successfully.\n",
      "Error parsing: Command 'python /workspace/to_execute.py' in image 'qiskit_runner' returned non-zero exit status 1: b'Traceback (most recent call last):\\n  File \"/workspace/to_execute.py\", line 10, in <module>\\n    qc = qasm2.loads(\\n  File \"/usr/local/lib/python3.10/site-packages/qiskit/qasm2/__init__.py\", line 587, in loads\\n    return _parse.from_bytecode(\\n  File \"/usr/local/lib/python3.10/site-packages/qiskit/qasm2/parse.py\", line 214, in from_bytecode\\n    for op in bc:\\nqiskit.qasm2.exceptions.QASM2ParseError: \"<input>:6,4: \\'reg_2_a\\' is not defined in this scope\"\\n'\n",
      "Failed to execute to_execute.py in Docker.\n",
      "Error parsing: Command 'python /workspace/to_execute.py' in image 'qiskit_runner' returned non-zero exit status 1: b'Traceback (most recent call last):\\n  File \"/workspace/to_execute.py\", line 10, in <module>\\n    qc = qasm2.loads(\\n  File \"/usr/local/lib/python3.10/site-packages/qiskit/qasm2/__init__.py\", line 587, in loads\\n    return _parse.from_bytecode(\\n  File \"/usr/local/lib/python3.10/site-packages/qiskit/qasm2/parse.py\", line 214, in from_bytecode\\n    for op in bc:\\nqiskit.qasm2.exceptions.QASM2ParseError: \"<input>:6,15: \\'reg_2_b\\' is not defined in this scope\"\\n'\n",
      "Failed to execute to_execute.py in Docker.\n",
      "Output: Saved the Pytket circuit to /workspace/to_execute_qc_pytket.qasm\n",
      "Saved the Qiskit circuit to /workspace/to_execute_qc_qiskit.qasm\n",
      "Exported QASM files: [('/workspace/to_execute_qc_pytket.qasm', 'export_to_qasm_with_pytket'), ('/workspace/to_execute_qc_qiskit.qasm', 'export_to_qasm_with_qiskit')]\n",
      "Log has been saved to /workspace/to_execute_102dab_error.json\n",
      "\n",
      "Program to_execute.py executed successfully.\n",
      "New exception message: The circuits are not equivalent: /workspace/to_execute_qc_pytket.qasm, /workspace/to_execute_qc_qiskit.qasm\n",
      "Error parsing: Command 'python /workspace/to_execute.py' in image 'qiskit_runner' returned non-zero exit status 1: b'  File \"/workspace/to_execute.py\", line 17\\n    , custom_instructions=qasm2.LEGACY_CUSTOM_INSTRUCTIONS)\\nIndentationError: unexpected indent\\n'\n",
      "Failed to execute to_execute.py in Docker.\n",
      "Error parsing: Command 'python /workspace/to_execute.py' in image 'qiskit_runner' returned non-zero exit status 1: b'  File \"/workspace/to_execute.py\", line 11\\n    include \"qelib1.inc\";\\n            ^^^^^^^^^^^^\\nSyntaxError: invalid syntax\\n'\n",
      "Failed to execute to_execute.py in Docker.\n",
      "Error parsing: Command 'python /workspace/to_execute.py' in image 'qiskit_runner' returned non-zero exit status 1: b'Traceback (most recent call last):\\n  File \"/workspace/to_execute.py\", line 10, in <module>\\n    qc = qasm2.loads(\\n  File \"/usr/local/lib/python3.10/site-packages/qiskit/qasm2/__init__.py\", line 587, in loads\\n    return _parse.from_bytecode(\\n  File \"/usr/local/lib/python3.10/site-packages/qiskit/qasm2/parse.py\", line 214, in from_bytecode\\n    for op in bc:\\nqiskit.qasm2.exceptions.QASM2ParseError: \"<input>:5,0: cannot use non-builtin custom instruction \\'ccx\\' before definition\"\\n'\n",
      "Failed to execute to_execute.py in Docker.\n",
      "Output: Saved the Pytket circuit to /workspace/to_execute_qc_pytket.qasm\n",
      "Saved the Qiskit circuit to /workspace/to_execute_qc_qiskit.qasm\n",
      "Exported QASM files: [('/workspace/to_execute_qc_pytket.qasm', 'export_to_qasm_with_pytket'), ('/workspace/to_execute_qc_qiskit.qasm', 'export_to_qasm_with_qiskit')]\n",
      "The circuits are equivalent: /workspace/to_execute_qc_pytket.qasm, /workspace/to_execute_qc_qiskit.qasm\n",
      "\n",
      "Program to_execute.py executed successfully.\n",
      "Error parsing: Command 'python /workspace/to_execute.py' in image 'qiskit_runner' returned non-zero exit status 1: b'Traceback (most recent call last):\\n  File \"/workspace/to_execute.py\", line 10, in <module>\\n    qc = qasm2.loads(\\n  File \"/usr/local/lib/python3.10/site-packages/qiskit/qasm2/__init__.py\", line 587, in loads\\n    return _parse.from_bytecode(\\n  File \"/usr/local/lib/python3.10/site-packages/qiskit/qasm2/parse.py\", line 214, in from_bytecode\\n    for op in bc:\\nqiskit.qasm2.exceptions.QASM2ParseError: \"<input>:5,4: \\'reg_2_a\\' is not defined in this scope\"\\n'\n",
      "Failed to execute to_execute.py in Docker.\n",
      "Error parsing: Command 'python /workspace/to_execute.py' in image 'qiskit_runner' returned non-zero exit status 1: b'Traceback (most recent call last):\\n  File \"/workspace/to_execute.py\", line 10, in <module>\\n    qc = qasm2.loads(\\n  File \"/usr/local/lib/python3.10/site-packages/qiskit/qasm2/__init__.py\", line 587, in loads\\n    return _parse.from_bytecode(\\n  File \"/usr/local/lib/python3.10/site-packages/qiskit/qasm2/parse.py\", line 214, in from_bytecode\\n    for op in bc:\\nqiskit.qasm2.exceptions.QASM2ParseError: \"<input>:5,15: \\'reg_2_b\\' is not defined in this scope\"\\n'\n",
      "Failed to execute to_execute.py in Docker.\n",
      "Output: Saved the Pytket circuit to /workspace/to_execute_qc_pytket.qasm\n",
      "Saved the Qiskit circuit to /workspace/to_execute_qc_qiskit.qasm\n",
      "Exported QASM files: [('/workspace/to_execute_qc_pytket.qasm', 'export_to_qasm_with_pytket'), ('/workspace/to_execute_qc_qiskit.qasm', 'export_to_qasm_with_qiskit')]\n",
      "The circuits are equivalent: /workspace/to_execute_qc_pytket.qasm, /workspace/to_execute_qc_qiskit.qasm\n",
      "\n",
      "Program to_execute.py executed successfully.\n",
      "Error parsing: Command 'python /workspace/to_execute.py' in image 'qiskit_runner' returned non-zero exit status 1: b'  File \"/workspace/to_execute.py\", line 11\\n    include \"qelib1.inc\";\\n            ^^^^^^^^^^^^\\nSyntaxError: invalid syntax\\n'\n",
      "Failed to execute to_execute.py in Docker.\n",
      "Error parsing: Command 'python /workspace/to_execute.py' in image 'qiskit_runner' returned non-zero exit status 1: b'  File \"/workspace/to_execute.py\", line 10\\n    qc = qasm2.loads(\\n                    ^\\nSyntaxError: \\'(\\' was never closed\\n'\n",
      "Failed to execute to_execute.py in Docker.\n"
     ]
    },
    {
     "data": {
      "text/html": [
       "<pre style=\"white-space:pre;overflow-x:auto;line-height:normal;font-family:Menlo,'DejaVu Sans Mono',consolas,'Courier New',monospace\"><span style=\"color: #7fbfbf; text-decoration-color: #7fbfbf\">[15:05:37] </span><span style=\"color: #008000; text-decoration-color: #008000\">Minimized file saved as:</span>                                                        <a href=\"file:///home/paltenmo/projects/crossplatform/analysis_and_reporting/ddmin_target_file.py\" target=\"_blank\"><span style=\"color: #7f7f7f; text-decoration-color: #7f7f7f\">ddmin_target_file.py</span></a><span style=\"color: #7f7f7f; text-decoration-color: #7f7f7f\">:</span><a href=\"file:///home/paltenmo/projects/crossplatform/analysis_and_reporting/ddmin_target_file.py#240\" target=\"_blank\"><span style=\"color: #7f7f7f; text-decoration-color: #7f7f7f\">240</span></a>\n",
       "<span style=\"color: #7fbfbf; text-decoration-color: #7fbfbf\">           </span>..<span style=\"color: #800080; text-decoration-color: #800080\">/reports/v009/2024_11_21__15_01/</span><span style=\"color: #ff00ff; text-decoration-color: #ff00ff\">qiskit_circuit_5q_10g_4756_28bbeb_444f6d_erro</span> <span style=\"color: #7f7f7f; text-decoration-color: #7f7f7f\">                        </span>\n",
       "<span style=\"color: #7fbfbf; text-decoration-color: #7fbfbf\">           </span><span style=\"color: #ff00ff; text-decoration-color: #ff00ff\">r_min.py</span>                                                                        <span style=\"color: #7f7f7f; text-decoration-color: #7f7f7f\">                        </span>\n",
       "</pre>\n"
      ],
      "text/plain": [
       "\u001b[2;36m[15:05:37]\u001b[0m\u001b[2;36m \u001b[0m\u001b[32mMinimized file saved as:\u001b[0m                                                        \u001b]8;id=374591;file:///home/paltenmo/projects/crossplatform/analysis_and_reporting/ddmin_target_file.py\u001b\\\u001b[2mddmin_target_file.py\u001b[0m\u001b]8;;\u001b\\\u001b[2m:\u001b[0m\u001b]8;id=992044;file:///home/paltenmo/projects/crossplatform/analysis_and_reporting/ddmin_target_file.py#240\u001b\\\u001b[2m240\u001b[0m\u001b]8;;\u001b\\\n",
       "\u001b[2;36m           \u001b[0m..\u001b[35m/reports/v009/2024_11_21__15_01/\u001b[0m\u001b[95mqiskit_circuit_5q_10g_4756_28bbeb_444f6d_erro\u001b[0m \u001b[2m                        \u001b[0m\n",
       "\u001b[2;36m           \u001b[0m\u001b[95mr_min.py\u001b[0m                                                                        \u001b[2m                        \u001b[0m\n"
      ]
     },
     "metadata": {},
     "output_type": "display_data"
    },
    {
     "name": "stdout",
     "output_type": "stream",
     "text": [
      "Output: Saved the Pytket circuit to /workspace/qiskit_circuit_5q_10g_4756_28bbeb_444f6d_error_min_qc_pytket.qasm\n",
      "Saved the Qiskit circuit to /workspace/qiskit_circuit_5q_10g_4756_28bbeb_444f6d_error_min_qc_qiskit.qasm\n",
      "Exported QASM files: [('/workspace/qiskit_circuit_5q_10g_4756_28bbeb_444f6d_error_min_qc_pytket.qasm', 'export_to_qasm_with_pytket'), ('/workspace/qiskit_circuit_5q_10g_4756_28bbeb_444f6d_error_min_qc_qiskit.qasm', 'export_to_qasm_with_qiskit')]\n",
      "Log has been saved to /workspace/qiskit_circuit_5q_10g_4756_28bbeb_444f6d_error_min_f825ac_error.json\n",
      "\n"
     ]
    },
    {
     "data": {
      "text/html": [
       "<pre style=\"white-space:pre;overflow-x:auto;line-height:normal;font-family:Menlo,'DejaVu Sans Mono',consolas,'Courier New',monospace\"><span style=\"color: #7fbfbf; text-decoration-color: #7fbfbf\">[15:05:44] </span>Program qiskit_circuit_5q_10g_4756_28bbeb_444f6d_error_min.py executed              <a href=\"file:///home/paltenmo/projects/crossplatform/generators/docker_tooling.py\" target=\"_blank\"><span style=\"color: #7f7f7f; text-decoration-color: #7f7f7f\">docker_tooling.py</span></a><span style=\"color: #7f7f7f; text-decoration-color: #7f7f7f\">:</span><a href=\"file:///home/paltenmo/projects/crossplatform/generators/docker_tooling.py#46\" target=\"_blank\"><span style=\"color: #7f7f7f; text-decoration-color: #7f7f7f\">46</span></a>\n",
       "<span style=\"color: #7fbfbf; text-decoration-color: #7fbfbf\">           </span>successfully.                                                                       <span style=\"color: #7f7f7f; text-decoration-color: #7f7f7f\">                    </span>\n",
       "</pre>\n"
      ],
      "text/plain": [
       "\u001b[2;36m[15:05:44]\u001b[0m\u001b[2;36m \u001b[0mProgram qiskit_circuit_5q_10g_4756_28bbeb_444f6d_error_min.py executed              \u001b]8;id=433034;file:///home/paltenmo/projects/crossplatform/generators/docker_tooling.py\u001b\\\u001b[2mdocker_tooling.py\u001b[0m\u001b]8;;\u001b\\\u001b[2m:\u001b[0m\u001b]8;id=249443;file:///home/paltenmo/projects/crossplatform/generators/docker_tooling.py#46\u001b\\\u001b[2m46\u001b[0m\u001b]8;;\u001b\\\n",
       "\u001b[2;36m           \u001b[0msuccessfully.                                                                       \u001b[2m                    \u001b[0m\n"
      ]
     },
     "metadata": {},
     "output_type": "display_data"
    },
    {
     "data": {
      "application/vnd.jupyter.widget-view+json": {
       "model_id": "592ddfe806364549ab47ffe951384b2c",
       "version_major": 2,
       "version_minor": 0
      },
      "text/plain": [
       "Executing:   0%|          | 0/13 [00:00<?, ?cell/s]"
      ]
     },
     "metadata": {},
     "output_type": "display_data"
    },
    {
     "data": {
      "text/html": [
       "<pre style=\"white-space:pre;overflow-x:auto;line-height:normal;font-family:Menlo,'DejaVu Sans Mono',consolas,'Courier New',monospace\"><span style=\"color: #7fbfbf; text-decoration-color: #7fbfbf\">[15:05:47] </span>Analysis notebook executed: ..<span style=\"color: #800080; text-decoration-color: #800080\">/reports/v009/2024_11_21__15_01/</span><span style=\"color: #ff00ff; text-decoration-color: #ff00ff\">analysis_output.ipynb</span>        <a href=\"file:///home/paltenmo/projects/crossplatform/analysis_and_reporting/triage.py\" target=\"_blank\"><span style=\"color: #7f7f7f; text-decoration-color: #7f7f7f\">triage.py</span></a><span style=\"color: #7f7f7f; text-decoration-color: #7f7f7f\">:</span><a href=\"file:///home/paltenmo/projects/crossplatform/analysis_and_reporting/triage.py#163\" target=\"_blank\"><span style=\"color: #7f7f7f; text-decoration-color: #7f7f7f\">163</span></a>\n",
       "</pre>\n"
      ],
      "text/plain": [
       "\u001b[2;36m[15:05:47]\u001b[0m\u001b[2;36m \u001b[0mAnalysis notebook executed: ..\u001b[35m/reports/v009/2024_11_21__15_01/\u001b[0m\u001b[95manalysis_output.ipynb\u001b[0m        \u001b]8;id=422346;file:///home/paltenmo/projects/crossplatform/analysis_and_reporting/triage.py\u001b\\\u001b[2mtriage.py\u001b[0m\u001b]8;;\u001b\\\u001b[2m:\u001b[0m\u001b]8;id=756250;file:///home/paltenmo/projects/crossplatform/analysis_and_reporting/triage.py#163\u001b\\\u001b[2m163\u001b[0m\u001b]8;;\u001b\\\n"
      ]
     },
     "metadata": {},
     "output_type": "display_data"
    },
    {
     "data": {
      "text/html": [
       "<pre style=\"white-space:pre;overflow-x:auto;line-height:normal;font-family:Menlo,'DejaVu Sans Mono',consolas,'Courier New',monospace\"><span style=\"color: #7fbfbf; text-decoration-color: #7fbfbf\">           </span>Created report folder: ..<span style=\"color: #800080; text-decoration-color: #800080\">/reports/v009/</span><span style=\"color: #ff00ff; text-decoration-color: #ff00ff\">2024_11_21__15_05</span>                                   <a href=\"file:///home/paltenmo/projects/crossplatform/analysis_and_reporting/triage.py\" target=\"_blank\"><span style=\"color: #7f7f7f; text-decoration-color: #7f7f7f\">triage.py</span></a><span style=\"color: #7f7f7f; text-decoration-color: #7f7f7f\">:</span><a href=\"file:///home/paltenmo/projects/crossplatform/analysis_and_reporting/triage.py#131\" target=\"_blank\"><span style=\"color: #7f7f7f; text-decoration-color: #7f7f7f\">131</span></a>\n",
       "</pre>\n"
      ],
      "text/plain": [
       "\u001b[2;36m          \u001b[0m\u001b[2;36m \u001b[0mCreated report folder: ..\u001b[35m/reports/v009/\u001b[0m\u001b[95m2024_11_21__15_05\u001b[0m                                   \u001b]8;id=665387;file:///home/paltenmo/projects/crossplatform/analysis_and_reporting/triage.py\u001b\\\u001b[2mtriage.py\u001b[0m\u001b]8;;\u001b\\\u001b[2m:\u001b[0m\u001b]8;id=876487;file:///home/paltenmo/projects/crossplatform/analysis_and_reporting/triage.py#131\u001b\\\u001b[2m131\u001b[0m\u001b]8;;\u001b\\\n"
      ]
     },
     "metadata": {},
     "output_type": "display_data"
    },
    {
     "data": {
      "text/html": [
       "<pre style=\"white-space:pre;overflow-x:auto;line-height:normal;font-family:Menlo,'DejaVu Sans Mono',consolas,'Courier New',monospace\"><span style=\"color: #7fbfbf; text-decoration-color: #7fbfbf\">           </span>Copied files to: ..<span style=\"color: #800080; text-decoration-color: #800080\">/reports/v009/</span><span style=\"color: #ff00ff; text-decoration-color: #ff00ff\">2024_11_21__15_05</span>                                         <a href=\"file:///home/paltenmo/projects/crossplatform/analysis_and_reporting/triage.py\" target=\"_blank\"><span style=\"color: #7f7f7f; text-decoration-color: #7f7f7f\">triage.py</span></a><span style=\"color: #7f7f7f; text-decoration-color: #7f7f7f\">:</span><a href=\"file:///home/paltenmo/projects/crossplatform/analysis_and_reporting/triage.py#140\" target=\"_blank\"><span style=\"color: #7f7f7f; text-decoration-color: #7f7f7f\">140</span></a>\n",
       "</pre>\n"
      ],
      "text/plain": [
       "\u001b[2;36m          \u001b[0m\u001b[2;36m \u001b[0mCopied files to: ..\u001b[35m/reports/v009/\u001b[0m\u001b[95m2024_11_21__15_05\u001b[0m                                         \u001b]8;id=646824;file:///home/paltenmo/projects/crossplatform/analysis_and_reporting/triage.py\u001b\\\u001b[2mtriage.py\u001b[0m\u001b]8;;\u001b\\\u001b[2m:\u001b[0m\u001b]8;id=991856;file:///home/paltenmo/projects/crossplatform/analysis_and_reporting/triage.py#140\u001b\\\u001b[2m140\u001b[0m\u001b]8;;\u001b\\\n"
      ]
     },
     "metadata": {},
     "output_type": "display_data"
    },
    {
     "data": {
      "text/html": [
       "<pre style=\"white-space:pre;overflow-x:auto;line-height:normal;font-family:Menlo,'DejaVu Sans Mono',consolas,'Courier New',monospace\"><span style=\"color: #7fbfbf; text-decoration-color: #7fbfbf\">[15:05:47] </span>Involved functions:                                                             <a href=\"file:///home/paltenmo/projects/crossplatform/analysis_and_reporting/ddmin_target_file.py\" target=\"_blank\"><span style=\"color: #7f7f7f; text-decoration-color: #7f7f7f\">ddmin_target_file.py</span></a><span style=\"color: #7f7f7f; text-decoration-color: #7f7f7f\">:</span><a href=\"file:///home/paltenmo/projects/crossplatform/analysis_and_reporting/ddmin_target_file.py#206\" target=\"_blank\"><span style=\"color: #7f7f7f; text-decoration-color: #7f7f7f\">206</span></a>\n",
       "</pre>\n"
      ],
      "text/plain": [
       "\u001b[2;36m[15:05:47]\u001b[0m\u001b[2;36m \u001b[0mInvolved functions:                                                             \u001b]8;id=436472;file:///home/paltenmo/projects/crossplatform/analysis_and_reporting/ddmin_target_file.py\u001b\\\u001b[2mddmin_target_file.py\u001b[0m\u001b]8;;\u001b\\\u001b[2m:\u001b[0m\u001b]8;id=693447;file:///home/paltenmo/projects/crossplatform/analysis_and_reporting/ddmin_target_file.py#206\u001b\\\u001b[2m206\u001b[0m\u001b]8;;\u001b\\\n"
      ]
     },
     "metadata": {},
     "output_type": "display_data"
    },
    {
     "data": {
      "text/html": [
       "<pre style=\"white-space:pre;overflow-x:auto;line-height:normal;font-family:Menlo,'DejaVu Sans Mono',consolas,'Courier New',monospace\"><span style=\"color: #7fbfbf; text-decoration-color: #7fbfbf\">           </span>  - compare_qasm_via_qcec                                                       <a href=\"file:///home/paltenmo/projects/crossplatform/analysis_and_reporting/ddmin_target_file.py\" target=\"_blank\"><span style=\"color: #7f7f7f; text-decoration-color: #7f7f7f\">ddmin_target_file.py</span></a><span style=\"color: #7f7f7f; text-decoration-color: #7f7f7f\">:</span><a href=\"file:///home/paltenmo/projects/crossplatform/analysis_and_reporting/ddmin_target_file.py#208\" target=\"_blank\"><span style=\"color: #7f7f7f; text-decoration-color: #7f7f7f\">208</span></a>\n",
       "</pre>\n"
      ],
      "text/plain": [
       "\u001b[2;36m          \u001b[0m\u001b[2;36m \u001b[0m  - compare_qasm_via_qcec                                                       \u001b]8;id=2387;file:///home/paltenmo/projects/crossplatform/analysis_and_reporting/ddmin_target_file.py\u001b\\\u001b[2mddmin_target_file.py\u001b[0m\u001b]8;;\u001b\\\u001b[2m:\u001b[0m\u001b]8;id=272413;file:///home/paltenmo/projects/crossplatform/analysis_and_reporting/ddmin_target_file.py#208\u001b\\\u001b[2m208\u001b[0m\u001b]8;;\u001b\\\n"
      ]
     },
     "metadata": {},
     "output_type": "display_data"
    },
    {
     "data": {
      "text/html": [
       "<pre style=\"white-space:pre;overflow-x:auto;line-height:normal;font-family:Menlo,'DejaVu Sans Mono',consolas,'Courier New',monospace\"><span style=\"color: #7fbfbf; text-decoration-color: #7fbfbf\">           </span>  - export_to_qasm_with_pytket                                                  <a href=\"file:///home/paltenmo/projects/crossplatform/analysis_and_reporting/ddmin_target_file.py\" target=\"_blank\"><span style=\"color: #7f7f7f; text-decoration-color: #7f7f7f\">ddmin_target_file.py</span></a><span style=\"color: #7f7f7f; text-decoration-color: #7f7f7f\">:</span><a href=\"file:///home/paltenmo/projects/crossplatform/analysis_and_reporting/ddmin_target_file.py#208\" target=\"_blank\"><span style=\"color: #7f7f7f; text-decoration-color: #7f7f7f\">208</span></a>\n",
       "</pre>\n"
      ],
      "text/plain": [
       "\u001b[2;36m          \u001b[0m\u001b[2;36m \u001b[0m  - export_to_qasm_with_pytket                                                  \u001b]8;id=543962;file:///home/paltenmo/projects/crossplatform/analysis_and_reporting/ddmin_target_file.py\u001b\\\u001b[2mddmin_target_file.py\u001b[0m\u001b]8;;\u001b\\\u001b[2m:\u001b[0m\u001b]8;id=975384;file:///home/paltenmo/projects/crossplatform/analysis_and_reporting/ddmin_target_file.py#208\u001b\\\u001b[2m208\u001b[0m\u001b]8;;\u001b\\\n"
      ]
     },
     "metadata": {},
     "output_type": "display_data"
    },
    {
     "data": {
      "text/html": [
       "<pre style=\"white-space:pre;overflow-x:auto;line-height:normal;font-family:Menlo,'DejaVu Sans Mono',consolas,'Courier New',monospace\"><span style=\"color: #7fbfbf; text-decoration-color: #7fbfbf\">           </span>  - export_to_qasm_with_qiskit                                                  <a href=\"file:///home/paltenmo/projects/crossplatform/analysis_and_reporting/ddmin_target_file.py\" target=\"_blank\"><span style=\"color: #7f7f7f; text-decoration-color: #7f7f7f\">ddmin_target_file.py</span></a><span style=\"color: #7f7f7f; text-decoration-color: #7f7f7f\">:</span><a href=\"file:///home/paltenmo/projects/crossplatform/analysis_and_reporting/ddmin_target_file.py#208\" target=\"_blank\"><span style=\"color: #7f7f7f; text-decoration-color: #7f7f7f\">208</span></a>\n",
       "</pre>\n"
      ],
      "text/plain": [
       "\u001b[2;36m          \u001b[0m\u001b[2;36m \u001b[0m  - export_to_qasm_with_qiskit                                                  \u001b]8;id=819219;file:///home/paltenmo/projects/crossplatform/analysis_and_reporting/ddmin_target_file.py\u001b\\\u001b[2mddmin_target_file.py\u001b[0m\u001b]8;;\u001b\\\u001b[2m:\u001b[0m\u001b]8;id=873876;file:///home/paltenmo/projects/crossplatform/analysis_and_reporting/ddmin_target_file.py#208\u001b\\\u001b[2m208\u001b[0m\u001b]8;;\u001b\\\n"
      ]
     },
     "metadata": {},
     "output_type": "display_data"
    },
    {
     "name": "stdout",
     "output_type": "stream",
     "text": [
      "Error parsing: Command 'python /workspace/to_execute.py' in image 'qiskit_runner' returned non-zero exit status 1: b'Traceback (most recent call last):\\n  File \"/workspace/to_execute.py\", line 105, in <module>\\n    target_qc = qc\\nNameError: name \\'qc\\' is not defined\\n'\n",
      "Failed to execute to_execute.py in Docker.\n",
      "Output: Saved the Pytket circuit to /workspace/to_execute_qc_pytket.qasm\n",
      "Saved the Qiskit circuit to /workspace/to_execute_qc_qiskit.qasm\n",
      "Exported QASM files: [('/workspace/to_execute_qc_pytket.qasm', 'export_to_qasm_with_pytket'), ('/workspace/to_execute_qc_qiskit.qasm', 'export_to_qasm_with_qiskit')]\n",
      "Log has been saved to /workspace/to_execute_e6b864_error.json\n",
      "\n",
      "Program to_execute.py executed successfully.\n",
      "New exception message: The circuits are not equivalent: /workspace/to_execute_qc_pytket.qasm, /workspace/to_execute_qc_qiskit.qasm\n",
      "Error parsing: Command 'python /workspace/to_execute.py' in image 'qiskit_runner' returned non-zero exit status 1: b'  File \"/workspace/to_execute.py\", line 18\\n    , custom_instructions=qasm2.LEGACY_CUSTOM_INSTRUCTIONS)\\n                                                          ^\\nSyntaxError: unmatched \\')\\'\\n'\n",
      "Failed to execute to_execute.py in Docker.\n",
      "Error parsing: Command 'python /workspace/to_execute.py' in image 'qiskit_runner' returned non-zero exit status 1: b'  File \"/workspace/to_execute.py\", line 10\\n    qc = qasm2.loads(\\n                    ^\\nSyntaxError: \\'(\\' was never closed\\n'\n",
      "Failed to execute to_execute.py in Docker.\n",
      "Error parsing: Command 'python /workspace/to_execute.py' in image 'qiskit_runner' returned non-zero exit status 1: b'  File \"/workspace/to_execute.py\", line 25\\n    , custom_instructions=qasm2.LEGACY_CUSTOM_INSTRUCTIONS)\\n                                                          ^\\nSyntaxError: unmatched \\')\\'\\n'\n",
      "Failed to execute to_execute.py in Docker.\n",
      "Error parsing: Command 'python /workspace/to_execute.py' in image 'qiskit_runner' returned non-zero exit status 1: b'Traceback (most recent call last):\\n  File \"/workspace/to_execute.py\", line 10, in <module>\\n    qc = qasm2.loads(\\n  File \"/usr/local/lib/python3.10/site-packages/qiskit/qasm2/__init__.py\", line 587, in loads\\n    return _parse.from_bytecode(\\n  File \"/usr/local/lib/python3.10/site-packages/qiskit/qasm2/parse.py\", line 214, in from_bytecode\\n    for op in bc:\\nqiskit.qasm2.exceptions.QASM2ParseError: \"<input>:10,3: \\'reg_2_a\\' is not defined in this scope\"\\n'\n",
      "Failed to execute to_execute.py in Docker.\n",
      "Output: Saved the Pytket circuit to /workspace/to_execute_qc_pytket.qasm\n",
      "Saved the Qiskit circuit to /workspace/to_execute_qc_qiskit.qasm\n",
      "Exported QASM files: [('/workspace/to_execute_qc_pytket.qasm', 'export_to_qasm_with_pytket'), ('/workspace/to_execute_qc_qiskit.qasm', 'export_to_qasm_with_qiskit')]\n",
      "Log has been saved to /workspace/to_execute_e04e92_error.json\n",
      "\n",
      "Program to_execute.py executed successfully.\n",
      "New exception message: The circuits are not equivalent: /workspace/to_execute_qc_pytket.qasm, /workspace/to_execute_qc_qiskit.qasm\n",
      "Error parsing: Command 'python /workspace/to_execute.py' in image 'qiskit_runner' returned non-zero exit status 1: b'  File \"/workspace/to_execute.py\", line 19\\n    , custom_instructions=qasm2.LEGACY_CUSTOM_INSTRUCTIONS)\\n                                                          ^\\nSyntaxError: unmatched \\')\\'\\n'\n",
      "Failed to execute to_execute.py in Docker.\n",
      "Error parsing: Command 'python /workspace/to_execute.py' in image 'qiskit_runner' returned non-zero exit status 1: b'Traceback (most recent call last):\\n  File \"/workspace/to_execute.py\", line 10, in <module>\\n    qc = qasm2.loads(\\n  File \"/usr/local/lib/python3.10/site-packages/qiskit/qasm2/__init__.py\", line 587, in loads\\n    return _parse.from_bytecode(\\n  File \"/usr/local/lib/python3.10/site-packages/qiskit/qasm2/parse.py\", line 214, in from_bytecode\\n    for op in bc:\\nqiskit.qasm2.exceptions.QASM2ParseError: \"<input>:4,3: \\'reg_2_a\\' is not defined in this scope\"\\n'\n",
      "Failed to execute to_execute.py in Docker.\n",
      "Error parsing: Command 'python /workspace/to_execute.py' in image 'qiskit_runner' returned non-zero exit status 1: b'  File \"/workspace/to_execute.py\", line 10\\n    qc = qasm2.loads(\\n                    ^\\nSyntaxError: \\'(\\' was never closed\\n'\n",
      "Failed to execute to_execute.py in Docker.\n",
      "Error parsing: Command 'python /workspace/to_execute.py' in image 'qiskit_runner' returned non-zero exit status 1: b'  File \"/workspace/to_execute.py\", line 21\\n    , custom_instructions=qasm2.LEGACY_CUSTOM_INSTRUCTIONS)\\n                                                          ^\\nSyntaxError: unmatched \\')\\'\\n'\n",
      "Failed to execute to_execute.py in Docker.\n",
      "Error parsing: Command 'python /workspace/to_execute.py' in image 'qiskit_runner' returned non-zero exit status 1: b'Traceback (most recent call last):\\n  File \"/workspace/to_execute.py\", line 10, in <module>\\n    qc = qasm2.loads(\\n  File \"/usr/local/lib/python3.10/site-packages/qiskit/qasm2/__init__.py\", line 587, in loads\\n    return _parse.from_bytecode(\\n  File \"/usr/local/lib/python3.10/site-packages/qiskit/qasm2/parse.py\", line 214, in from_bytecode\\n    for op in bc:\\nqiskit.qasm2.exceptions.QASM2ParseError: \"<input>:6,0: cannot use non-builtin custom instruction \\'z\\' before definition\"\\n'\n",
      "Failed to execute to_execute.py in Docker.\n",
      "Error parsing: Command 'python /workspace/to_execute.py' in image 'qiskit_runner' returned non-zero exit status 1: b'Traceback (most recent call last):\\n  File \"/workspace/to_execute.py\", line 10, in <module>\\n    qc = qasm2.loads(\\n  File \"/usr/local/lib/python3.10/site-packages/qiskit/qasm2/__init__.py\", line 587, in loads\\n    return _parse.from_bytecode(\\n  File \"/usr/local/lib/python3.10/site-packages/qiskit/qasm2/parse.py\", line 214, in from_bytecode\\n    for op in bc:\\nqiskit.qasm2.exceptions.QASM2ParseError: \"<input>:7,3: \\'reg_2_a\\' is not defined in this scope\"\\n'\n",
      "Failed to execute to_execute.py in Docker.\n",
      "Output: Saved the Pytket circuit to /workspace/to_execute_qc_pytket.qasm\n",
      "Saved the Qiskit circuit to /workspace/to_execute_qc_qiskit.qasm\n",
      "Exported QASM files: [('/workspace/to_execute_qc_pytket.qasm', 'export_to_qasm_with_pytket'), ('/workspace/to_execute_qc_qiskit.qasm', 'export_to_qasm_with_qiskit')]\n",
      "Log has been saved to /workspace/to_execute_8acb11_error.json\n",
      "\n",
      "Program to_execute.py executed successfully.\n",
      "New exception message: The circuits are not equivalent: /workspace/to_execute_qc_pytket.qasm, /workspace/to_execute_qc_qiskit.qasm\n",
      "Error parsing: Command 'python /workspace/to_execute.py' in image 'qiskit_runner' returned non-zero exit status 1: b'  File \"/workspace/to_execute.py\", line 19\\n    , custom_instructions=qasm2.LEGACY_CUSTOM_INSTRUCTIONS)\\n                                                          ^\\nSyntaxError: unmatched \\')\\'\\n'\n",
      "Failed to execute to_execute.py in Docker.\n",
      "Error parsing: Command 'python /workspace/to_execute.py' in image 'qiskit_runner' returned non-zero exit status 1: b'Traceback (most recent call last):\\n  File \"/workspace/to_execute.py\", line 10, in <module>\\n    qc = qasm2.loads(\\n  File \"/usr/local/lib/python3.10/site-packages/qiskit/qasm2/__init__.py\", line 587, in loads\\n    return _parse.from_bytecode(\\n  File \"/usr/local/lib/python3.10/site-packages/qiskit/qasm2/parse.py\", line 214, in from_bytecode\\n    for op in bc:\\nqiskit.qasm2.exceptions.QASM2ParseError: \"<input>:5,0: cannot use non-builtin custom instruction \\'cx\\' before definition\"\\n'\n",
      "Failed to execute to_execute.py in Docker.\n",
      "Error parsing: Command 'python /workspace/to_execute.py' in image 'qiskit_runner' returned non-zero exit status 1: b'Traceback (most recent call last):\\n  File \"/workspace/to_execute.py\", line 10, in <module>\\n    qc = qasm2.loads(\\n  File \"/usr/local/lib/python3.10/site-packages/qiskit/qasm2/__init__.py\", line 587, in loads\\n    return _parse.from_bytecode(\\n  File \"/usr/local/lib/python3.10/site-packages/qiskit/qasm2/parse.py\", line 214, in from_bytecode\\n    for op in bc:\\nqiskit.qasm2.exceptions.QASM2ParseError: \"<input>:5,3: \\'reg_2_a\\' is not defined in this scope\"\\n'\n",
      "Failed to execute to_execute.py in Docker.\n",
      "Output: Saved the Pytket circuit to /workspace/to_execute_qc_pytket.qasm\n",
      "Saved the Qiskit circuit to /workspace/to_execute_qc_qiskit.qasm\n",
      "Exported QASM files: [('/workspace/to_execute_qc_pytket.qasm', 'export_to_qasm_with_pytket'), ('/workspace/to_execute_qc_qiskit.qasm', 'export_to_qasm_with_qiskit')]\n",
      "The circuits are equivalent: /workspace/to_execute_qc_pytket.qasm, /workspace/to_execute_qc_qiskit.qasm\n",
      "\n",
      "Program to_execute.py executed successfully.\n",
      "Error parsing: Command 'python /workspace/to_execute.py' in image 'qiskit_runner' returned non-zero exit status 1: b'  File \"/workspace/to_execute.py\", line 10\\n    qc = qasm2.loads(\\n                    ^\\nSyntaxError: \\'(\\' was never closed\\n'\n",
      "Failed to execute to_execute.py in Docker.\n",
      "Error parsing: Command 'python /workspace/to_execute.py' in image 'qiskit_runner' returned non-zero exit status 1: b'  File \"/workspace/to_execute.py\", line 22\\n    , custom_instructions=qasm2.LEGACY_CUSTOM_INSTRUCTIONS)\\nIndentationError: unexpected indent\\n'\n",
      "Failed to execute to_execute.py in Docker.\n",
      "Output: Saved the Pytket circuit to /workspace/to_execute_qc_pytket.qasm\n",
      "Saved the Qiskit circuit to /workspace/to_execute_qc_qiskit.qasm\n",
      "Exported QASM files: [('/workspace/to_execute_qc_pytket.qasm', 'export_to_qasm_with_pytket'), ('/workspace/to_execute_qc_qiskit.qasm', 'export_to_qasm_with_qiskit')]\n",
      "Log has been saved to /workspace/to_execute_34d7f2_error.json\n",
      "\n",
      "Program to_execute.py executed successfully.\n",
      "New exception message: The circuits are not equivalent: /workspace/to_execute_qc_pytket.qasm, /workspace/to_execute_qc_qiskit.qasm\n",
      "Error parsing: Command 'python /workspace/to_execute.py' in image 'qiskit_runner' returned non-zero exit status 1: b'  File \"/workspace/to_execute.py\", line 21\\n    , custom_instructions=qasm2.LEGACY_CUSTOM_INSTRUCTIONS)\\nIndentationError: unexpected indent\\n'\n",
      "Failed to execute to_execute.py in Docker.\n",
      "Error parsing: Command 'python /workspace/to_execute.py' in image 'qiskit_runner' returned non-zero exit status 1: b'  File \"/workspace/to_execute.py\", line 11\\n    include \"qelib1.inc\";\\n            ^^^^^^^^^^^^\\nSyntaxError: invalid syntax\\n'\n",
      "Failed to execute to_execute.py in Docker.\n",
      "Error parsing: Command 'python /workspace/to_execute.py' in image 'qiskit_runner' returned non-zero exit status 1: b'Traceback (most recent call last):\\n  File \"/workspace/to_execute.py\", line 10, in <module>\\n    qc = qasm2.loads(\\n  File \"/usr/local/lib/python3.10/site-packages/qiskit/qasm2/__init__.py\", line 587, in loads\\n    return _parse.from_bytecode(\\n  File \"/usr/local/lib/python3.10/site-packages/qiskit/qasm2/parse.py\", line 214, in from_bytecode\\n    for op in bc:\\nqiskit.qasm2.exceptions.QASM2ParseError: \"<input>:7,0: cannot use non-builtin custom instruction \\'cx\\' before definition\"\\n'\n",
      "Failed to execute to_execute.py in Docker.\n",
      "Error parsing: Command 'python /workspace/to_execute.py' in image 'qiskit_runner' returned non-zero exit status 1: b'Traceback (most recent call last):\\n  File \"/workspace/to_execute.py\", line 10, in <module>\\n    qc = qasm2.loads(\\n  File \"/usr/local/lib/python3.10/site-packages/qiskit/qasm2/__init__.py\", line 587, in loads\\n    return _parse.from_bytecode(\\n  File \"/usr/local/lib/python3.10/site-packages/qiskit/qasm2/parse.py\", line 214, in from_bytecode\\n    for op in bc:\\nqiskit.qasm2.exceptions.QASM2ParseError: \"<input>:7,14: \\'reg_2_cin\\' is not defined in this scope\"\\n'\n",
      "Failed to execute to_execute.py in Docker.\n",
      "Error parsing: Command 'python /workspace/to_execute.py' in image 'qiskit_runner' returned non-zero exit status 1: b'Traceback (most recent call last):\\n  File \"/workspace/to_execute.py\", line 10, in <module>\\n    qc = qasm2.loads(\\n  File \"/usr/local/lib/python3.10/site-packages/qiskit/qasm2/__init__.py\", line 587, in loads\\n    return _parse.from_bytecode(\\n  File \"/usr/local/lib/python3.10/site-packages/qiskit/qasm2/parse.py\", line 214, in from_bytecode\\n    for op in bc:\\nqiskit.qasm2.exceptions.QASM2ParseError: \"<input>:7,3: \\'reg_2_a\\' is not defined in this scope\"\\n'\n",
      "Failed to execute to_execute.py in Docker.\n",
      "Error parsing: Command 'python /workspace/to_execute.py' in image 'qiskit_runner' returned non-zero exit status 1: b'Traceback (most recent call last):\\n  File \"/workspace/to_execute.py\", line 10, in <module>\\n    qc = qasm2.loads(\\n  File \"/usr/local/lib/python3.10/site-packages/qiskit/qasm2/__init__.py\", line 587, in loads\\n    return _parse.from_bytecode(\\n  File \"/usr/local/lib/python3.10/site-packages/qiskit/qasm2/parse.py\", line 214, in from_bytecode\\n    for op in bc:\\nqiskit.qasm2.exceptions.QASM2ParseError: \"<input>:8,17: \\'reg_2_b\\' is not defined in this scope\"\\n'\n",
      "Failed to execute to_execute.py in Docker.\n",
      "Output: Saved the Pytket circuit to /workspace/to_execute_qc_pytket.qasm\n",
      "Saved the Qiskit circuit to /workspace/to_execute_qc_qiskit.qasm\n",
      "Exported QASM files: [('/workspace/to_execute_qc_pytket.qasm', 'export_to_qasm_with_pytket'), ('/workspace/to_execute_qc_qiskit.qasm', 'export_to_qasm_with_qiskit')]\n",
      "Log has been saved to /workspace/to_execute_d74b7b_error.json\n",
      "\n",
      "Program to_execute.py executed successfully.\n",
      "New exception message: The circuits are not equivalent: /workspace/to_execute_qc_pytket.qasm, /workspace/to_execute_qc_qiskit.qasm\n",
      "Error parsing: Command 'python /workspace/to_execute.py' in image 'qiskit_runner' returned non-zero exit status 1: b'  File \"/workspace/to_execute.py\", line 18\\n    , custom_instructions=qasm2.LEGACY_CUSTOM_INSTRUCTIONS)\\n                                                          ^\\nSyntaxError: unmatched \\')\\'\\n'\n",
      "Failed to execute to_execute.py in Docker.\n",
      "Output: Saved the Pytket circuit to /workspace/to_execute_qc_pytket.qasm\n",
      "Saved the Qiskit circuit to /workspace/to_execute_qc_qiskit.qasm\n",
      "Exported QASM files: [('/workspace/to_execute_qc_pytket.qasm', 'export_to_qasm_with_pytket'), ('/workspace/to_execute_qc_qiskit.qasm', 'export_to_qasm_with_qiskit')]\n",
      "Log has been saved to /workspace/to_execute_e07288_error.json\n",
      "\n",
      "Program to_execute.py executed successfully.\n",
      "New exception message: The circuits are not equivalent: /workspace/to_execute_qc_pytket.qasm, /workspace/to_execute_qc_qiskit.qasm\n",
      "Error parsing: Command 'python /workspace/to_execute.py' in image 'qiskit_runner' returned non-zero exit status 1: b'  File \"/workspace/to_execute.py\", line 17\\n    , custom_instructions=qasm2.LEGACY_CUSTOM_INSTRUCTIONS)\\n                                                          ^\\nSyntaxError: unmatched \\')\\'\\n'\n",
      "Failed to execute to_execute.py in Docker.\n",
      "Error parsing: Command 'python /workspace/to_execute.py' in image 'qiskit_runner' returned non-zero exit status 1: b'Traceback (most recent call last):\\n  File \"/workspace/to_execute.py\", line 10, in <module>\\n    qc = qasm2.loads(\\n  File \"/usr/local/lib/python3.10/site-packages/qiskit/qasm2/__init__.py\", line 587, in loads\\n    return _parse.from_bytecode(\\n  File \"/usr/local/lib/python3.10/site-packages/qiskit/qasm2/parse.py\", line 214, in from_bytecode\\n    for op in bc:\\nqiskit.qasm2.exceptions.QASM2ParseError: \"<input>:5,0: cannot use non-builtin custom instruction \\'cx\\' before definition\"\\n'\n",
      "Failed to execute to_execute.py in Docker.\n",
      "Error parsing: Command 'python /workspace/to_execute.py' in image 'qiskit_runner' returned non-zero exit status 1: b'Traceback (most recent call last):\\n  File \"/workspace/to_execute.py\", line 10, in <module>\\n    qc = qasm2.loads(\\n  File \"/usr/local/lib/python3.10/site-packages/qiskit/qasm2/__init__.py\", line 587, in loads\\n    return _parse.from_bytecode(\\n  File \"/usr/local/lib/python3.10/site-packages/qiskit/qasm2/parse.py\", line 214, in from_bytecode\\n    for op in bc:\\nqiskit.qasm2.exceptions.QASM2ParseError: \"<input>:7,4: \\'reg_2_cin\\' is not defined in this scope\"\\n'\n",
      "Failed to execute to_execute.py in Docker.\n",
      "Error parsing: Command 'python /workspace/to_execute.py' in image 'qiskit_runner' returned non-zero exit status 1: b'Traceback (most recent call last):\\n  File \"/workspace/to_execute.py\", line 10, in <module>\\n    qc = qasm2.loads(\\n  File \"/usr/local/lib/python3.10/site-packages/qiskit/qasm2/__init__.py\", line 587, in loads\\n    return _parse.from_bytecode(\\n  File \"/usr/local/lib/python3.10/site-packages/qiskit/qasm2/parse.py\", line 214, in from_bytecode\\n    for op in bc:\\nqiskit.qasm2.exceptions.QASM2ParseError: \"<input>:5,3: \\'reg_2_a\\' is not defined in this scope\"\\n'\n",
      "Failed to execute to_execute.py in Docker.\n",
      "Output: Saved the Pytket circuit to /workspace/to_execute_qc_pytket.qasm\n",
      "Saved the Qiskit circuit to /workspace/to_execute_qc_qiskit.qasm\n",
      "Exported QASM files: [('/workspace/to_execute_qc_pytket.qasm', 'export_to_qasm_with_pytket'), ('/workspace/to_execute_qc_qiskit.qasm', 'export_to_qasm_with_qiskit')]\n",
      "Log has been saved to /workspace/to_execute_9535a6_error.json\n",
      "\n",
      "Program to_execute.py executed successfully.\n",
      "New exception message: The circuits are not equivalent: /workspace/to_execute_qc_pytket.qasm, /workspace/to_execute_qc_qiskit.qasm\n",
      "Error parsing: Command 'python /workspace/to_execute.py' in image 'qiskit_runner' returned non-zero exit status 1: b'  File \"/workspace/to_execute.py\", line 16\\n    , custom_instructions=qasm2.LEGACY_CUSTOM_INSTRUCTIONS)\\n                                                          ^\\nSyntaxError: unmatched \\')\\'\\n'\n",
      "Failed to execute to_execute.py in Docker.\n",
      "Error parsing: Command 'python /workspace/to_execute.py' in image 'qiskit_runner' returned non-zero exit status 1: b'Traceback (most recent call last):\\n  File \"/workspace/to_execute.py\", line 10, in <module>\\n    qc = qasm2.loads(\\n  File \"/usr/local/lib/python3.10/site-packages/qiskit/qasm2/__init__.py\", line 587, in loads\\n    return _parse.from_bytecode(\\n  File \"/usr/local/lib/python3.10/site-packages/qiskit/qasm2/parse.py\", line 214, in from_bytecode\\n    for op in bc:\\nqiskit.qasm2.exceptions.QASM2ParseError: \"<input>:5,0: cannot use non-builtin custom instruction \\'ccx\\' before definition\"\\n'\n",
      "Failed to execute to_execute.py in Docker.\n",
      "Error parsing: Command 'python /workspace/to_execute.py' in image 'qiskit_runner' returned non-zero exit status 1: b'Traceback (most recent call last):\\n  File \"/workspace/to_execute.py\", line 10, in <module>\\n    qc = qasm2.loads(\\n  File \"/usr/local/lib/python3.10/site-packages/qiskit/qasm2/__init__.py\", line 587, in loads\\n    return _parse.from_bytecode(\\n  File \"/usr/local/lib/python3.10/site-packages/qiskit/qasm2/parse.py\", line 214, in from_bytecode\\n    for op in bc:\\nqiskit.qasm2.exceptions.QASM2ParseError: \"<input>:5,4: \\'reg_2_cin\\' is not defined in this scope\"\\n'\n",
      "Failed to execute to_execute.py in Docker.\n",
      "Error parsing: Command 'python /workspace/to_execute.py' in image 'qiskit_runner' returned non-zero exit status 1: b'Traceback (most recent call last):\\n  File \"/workspace/to_execute.py\", line 10, in <module>\\n    qc = qasm2.loads(\\n  File \"/usr/local/lib/python3.10/site-packages/qiskit/qasm2/__init__.py\", line 587, in loads\\n    return _parse.from_bytecode(\\n  File \"/usr/local/lib/python3.10/site-packages/qiskit/qasm2/parse.py\", line 214, in from_bytecode\\n    for op in bc:\\nqiskit.qasm2.exceptions.QASM2ParseError: \"<input>:6,17: \\'reg_2_b\\' is not defined in this scope\"\\n'\n",
      "Failed to execute to_execute.py in Docker.\n",
      "Error parsing: Command 'python /workspace/to_execute.py' in image 'qiskit_runner' returned non-zero exit status 1: b'  File \"/workspace/to_execute.py\", line 11\\n    include \"qelib1.inc\";\\n            ^^^^^^^^^^^^\\nSyntaxError: invalid syntax\\n'\n",
      "Failed to execute to_execute.py in Docker.\n",
      "Error parsing: Command 'python /workspace/to_execute.py' in image 'qiskit_runner' returned non-zero exit status 1: b'  File \"/workspace/to_execute.py\", line 10\\n    qc = qasm2.loads(\\n                    ^\\nSyntaxError: \\'(\\' was never closed\\n'\n",
      "Failed to execute to_execute.py in Docker.\n",
      "Error parsing: Command 'python /workspace/to_execute.py' in image 'qiskit_runner' returned non-zero exit status 1: b'  File \"/workspace/to_execute.py\", line 18\\n    , custom_instructions=qasm2.LEGACY_CUSTOM_INSTRUCTIONS)\\nIndentationError: unexpected indent\\n'\n",
      "Failed to execute to_execute.py in Docker.\n",
      "Error parsing: Command 'python /workspace/to_execute.py' in image 'qiskit_runner' returned non-zero exit status 1: b'  File \"/workspace/to_execute.py\", line 11\\n    include \"qelib1.inc\";\\n            ^^^^^^^^^^^^\\nSyntaxError: invalid syntax\\n'\n",
      "Failed to execute to_execute.py in Docker.\n",
      "Error parsing: Command 'python /workspace/to_execute.py' in image 'qiskit_runner' returned non-zero exit status 1: b'Traceback (most recent call last):\\n  File \"/workspace/to_execute.py\", line 10, in <module>\\n    qc = qasm2.loads(\\n  File \"/usr/local/lib/python3.10/site-packages/qiskit/qasm2/__init__.py\", line 587, in loads\\n    return _parse.from_bytecode(\\n  File \"/usr/local/lib/python3.10/site-packages/qiskit/qasm2/parse.py\", line 214, in from_bytecode\\n    for op in bc:\\nqiskit.qasm2.exceptions.QASM2ParseError: \"<input>:6,0: cannot use non-builtin custom instruction \\'ccx\\' before definition\"\\n'\n",
      "Failed to execute to_execute.py in Docker.\n",
      "Output: Saved the Pytket circuit to /workspace/to_execute_qc_pytket.qasm\n",
      "Saved the Qiskit circuit to /workspace/to_execute_qc_qiskit.qasm\n",
      "Exported QASM files: [('/workspace/to_execute_qc_pytket.qasm', 'export_to_qasm_with_pytket'), ('/workspace/to_execute_qc_qiskit.qasm', 'export_to_qasm_with_qiskit')]\n",
      "Log has been saved to /workspace/to_execute_fc94bc_error.json\n",
      "\n",
      "Program to_execute.py executed successfully.\n",
      "New exception message: The circuits are not equivalent: /workspace/to_execute_qc_pytket.qasm, /workspace/to_execute_qc_qiskit.qasm\n",
      "Error parsing: Command 'python /workspace/to_execute.py' in image 'qiskit_runner' returned non-zero exit status 1: b'  File \"/workspace/to_execute.py\", line 17\\n    , custom_instructions=qasm2.LEGACY_CUSTOM_INSTRUCTIONS)\\nIndentationError: unexpected indent\\n'\n",
      "Failed to execute to_execute.py in Docker.\n",
      "Error parsing: Command 'python /workspace/to_execute.py' in image 'qiskit_runner' returned non-zero exit status 1: b'  File \"/workspace/to_execute.py\", line 11\\n    include \"qelib1.inc\";\\n            ^^^^^^^^^^^^\\nSyntaxError: invalid syntax\\n'\n",
      "Failed to execute to_execute.py in Docker.\n",
      "Error parsing: Command 'python /workspace/to_execute.py' in image 'qiskit_runner' returned non-zero exit status 1: b'Traceback (most recent call last):\\n  File \"/workspace/to_execute.py\", line 10, in <module>\\n    qc = qasm2.loads(\\n  File \"/usr/local/lib/python3.10/site-packages/qiskit/qasm2/__init__.py\", line 587, in loads\\n    return _parse.from_bytecode(\\n  File \"/usr/local/lib/python3.10/site-packages/qiskit/qasm2/parse.py\", line 214, in from_bytecode\\n    for op in bc:\\nqiskit.qasm2.exceptions.QASM2ParseError: \"<input>:5,0: cannot use non-builtin custom instruction \\'ccx\\' before definition\"\\n'\n",
      "Failed to execute to_execute.py in Docker.\n",
      "Error parsing: Command 'python /workspace/to_execute.py' in image 'qiskit_runner' returned non-zero exit status 1: b'Traceback (most recent call last):\\n  File \"/workspace/to_execute.py\", line 10, in <module>\\n    qc = qasm2.loads(\\n  File \"/usr/local/lib/python3.10/site-packages/qiskit/qasm2/__init__.py\", line 587, in loads\\n    return _parse.from_bytecode(\\n  File \"/usr/local/lib/python3.10/site-packages/qiskit/qasm2/parse.py\", line 214, in from_bytecode\\n    for op in bc:\\nqiskit.qasm2.exceptions.QASM2ParseError: \"<input>:5,4: \\'reg_2_cin\\' is not defined in this scope\"\\n'\n",
      "Failed to execute to_execute.py in Docker.\n",
      "Error parsing: Command 'python /workspace/to_execute.py' in image 'qiskit_runner' returned non-zero exit status 1: b'Traceback (most recent call last):\\n  File \"/workspace/to_execute.py\", line 10, in <module>\\n    qc = qasm2.loads(\\n  File \"/usr/local/lib/python3.10/site-packages/qiskit/qasm2/__init__.py\", line 587, in loads\\n    return _parse.from_bytecode(\\n  File \"/usr/local/lib/python3.10/site-packages/qiskit/qasm2/parse.py\", line 214, in from_bytecode\\n    for op in bc:\\nqiskit.qasm2.exceptions.QASM2ParseError: \"<input>:5,28: \\'reg_2_a\\' is not defined in this scope\"\\n'\n",
      "Failed to execute to_execute.py in Docker.\n",
      "Error parsing: Command 'python /workspace/to_execute.py' in image 'qiskit_runner' returned non-zero exit status 1: b'Traceback (most recent call last):\\n  File \"/workspace/to_execute.py\", line 10, in <module>\\n    qc = qasm2.loads(\\n  File \"/usr/local/lib/python3.10/site-packages/qiskit/qasm2/__init__.py\", line 587, in loads\\n    return _parse.from_bytecode(\\n  File \"/usr/local/lib/python3.10/site-packages/qiskit/qasm2/parse.py\", line 214, in from_bytecode\\n    for op in bc:\\nqiskit.qasm2.exceptions.QASM2ParseError: \"<input>:5,17: \\'reg_2_b\\' is not defined in this scope\"\\n'\n",
      "Failed to execute to_execute.py in Docker.\n",
      "Output: Saved the Pytket circuit to /workspace/to_execute_qc_pytket.qasm\n",
      "Saved the Qiskit circuit to /workspace/to_execute_qc_qiskit.qasm\n",
      "Exported QASM files: [('/workspace/to_execute_qc_pytket.qasm', 'export_to_qasm_with_pytket'), ('/workspace/to_execute_qc_qiskit.qasm', 'export_to_qasm_with_qiskit')]\n",
      "The circuits are equivalent: /workspace/to_execute_qc_pytket.qasm, /workspace/to_execute_qc_qiskit.qasm\n",
      "\n",
      "Program to_execute.py executed successfully.\n",
      "Error parsing: Command 'python /workspace/to_execute.py' in image 'qiskit_runner' returned non-zero exit status 1: b'  File \"/workspace/to_execute.py\", line 11\\n    include \"qelib1.inc\";\\n            ^^^^^^^^^^^^\\nSyntaxError: invalid syntax\\n'\n",
      "Failed to execute to_execute.py in Docker.\n",
      "Error parsing: Command 'python /workspace/to_execute.py' in image 'qiskit_runner' returned non-zero exit status 1: b'  File \"/workspace/to_execute.py\", line 10\\n    qc = qasm2.loads(\\n                    ^\\nSyntaxError: \\'(\\' was never closed\\n'\n",
      "Failed to execute to_execute.py in Docker.\n"
     ]
    },
    {
     "data": {
      "text/html": [
       "<pre style=\"white-space:pre;overflow-x:auto;line-height:normal;font-family:Menlo,'DejaVu Sans Mono',consolas,'Courier New',monospace\"><span style=\"color: #7fbfbf; text-decoration-color: #7fbfbf\">[15:09:16] </span><span style=\"color: #008000; text-decoration-color: #008000\">Minimized file saved as:</span>                                                        <a href=\"file:///home/paltenmo/projects/crossplatform/analysis_and_reporting/ddmin_target_file.py\" target=\"_blank\"><span style=\"color: #7f7f7f; text-decoration-color: #7f7f7f\">ddmin_target_file.py</span></a><span style=\"color: #7f7f7f; text-decoration-color: #7f7f7f\">:</span><a href=\"file:///home/paltenmo/projects/crossplatform/analysis_and_reporting/ddmin_target_file.py#240\" target=\"_blank\"><span style=\"color: #7f7f7f; text-decoration-color: #7f7f7f\">240</span></a>\n",
       "<span style=\"color: #7fbfbf; text-decoration-color: #7fbfbf\">           </span>..<span style=\"color: #800080; text-decoration-color: #800080\">/reports/v009/2024_11_21__15_05/</span><span style=\"color: #ff00ff; text-decoration-color: #ff00ff\">qiskit_circuit_5q_10g_144_2ca34b_7b044a_error</span> <span style=\"color: #7f7f7f; text-decoration-color: #7f7f7f\">                        </span>\n",
       "<span style=\"color: #7fbfbf; text-decoration-color: #7fbfbf\">           </span><span style=\"color: #ff00ff; text-decoration-color: #ff00ff\">_min.py</span>                                                                         <span style=\"color: #7f7f7f; text-decoration-color: #7f7f7f\">                        </span>\n",
       "</pre>\n"
      ],
      "text/plain": [
       "\u001b[2;36m[15:09:16]\u001b[0m\u001b[2;36m \u001b[0m\u001b[32mMinimized file saved as:\u001b[0m                                                        \u001b]8;id=39106;file:///home/paltenmo/projects/crossplatform/analysis_and_reporting/ddmin_target_file.py\u001b\\\u001b[2mddmin_target_file.py\u001b[0m\u001b]8;;\u001b\\\u001b[2m:\u001b[0m\u001b]8;id=760733;file:///home/paltenmo/projects/crossplatform/analysis_and_reporting/ddmin_target_file.py#240\u001b\\\u001b[2m240\u001b[0m\u001b]8;;\u001b\\\n",
       "\u001b[2;36m           \u001b[0m..\u001b[35m/reports/v009/2024_11_21__15_05/\u001b[0m\u001b[95mqiskit_circuit_5q_10g_144_2ca34b_7b044a_error\u001b[0m \u001b[2m                        \u001b[0m\n",
       "\u001b[2;36m           \u001b[0m\u001b[95m_min.py\u001b[0m                                                                         \u001b[2m                        \u001b[0m\n"
      ]
     },
     "metadata": {},
     "output_type": "display_data"
    },
    {
     "name": "stdout",
     "output_type": "stream",
     "text": [
      "Output: Saved the Pytket circuit to /workspace/qiskit_circuit_5q_10g_144_2ca34b_7b044a_error_min_qc_pytket.qasm\n",
      "Saved the Qiskit circuit to /workspace/qiskit_circuit_5q_10g_144_2ca34b_7b044a_error_min_qc_qiskit.qasm\n",
      "Exported QASM files: [('/workspace/qiskit_circuit_5q_10g_144_2ca34b_7b044a_error_min_qc_pytket.qasm', 'export_to_qasm_with_pytket'), ('/workspace/qiskit_circuit_5q_10g_144_2ca34b_7b044a_error_min_qc_qiskit.qasm', 'export_to_qasm_with_qiskit')]\n",
      "Log has been saved to /workspace/qiskit_circuit_5q_10g_144_2ca34b_7b044a_error_min_c118ed_error.json\n",
      "\n"
     ]
    },
    {
     "data": {
      "text/html": [
       "<pre style=\"white-space:pre;overflow-x:auto;line-height:normal;font-family:Menlo,'DejaVu Sans Mono',consolas,'Courier New',monospace\"><span style=\"color: #7fbfbf; text-decoration-color: #7fbfbf\">[15:09:23] </span>Program qiskit_circuit_5q_10g_144_2ca34b_7b044a_error_min.py executed successfully. <a href=\"file:///home/paltenmo/projects/crossplatform/generators/docker_tooling.py\" target=\"_blank\"><span style=\"color: #7f7f7f; text-decoration-color: #7f7f7f\">docker_tooling.py</span></a><span style=\"color: #7f7f7f; text-decoration-color: #7f7f7f\">:</span><a href=\"file:///home/paltenmo/projects/crossplatform/generators/docker_tooling.py#46\" target=\"_blank\"><span style=\"color: #7f7f7f; text-decoration-color: #7f7f7f\">46</span></a>\n",
       "</pre>\n"
      ],
      "text/plain": [
       "\u001b[2;36m[15:09:23]\u001b[0m\u001b[2;36m \u001b[0mProgram qiskit_circuit_5q_10g_144_2ca34b_7b044a_error_min.py executed successfully. \u001b]8;id=30161;file:///home/paltenmo/projects/crossplatform/generators/docker_tooling.py\u001b\\\u001b[2mdocker_tooling.py\u001b[0m\u001b]8;;\u001b\\\u001b[2m:\u001b[0m\u001b]8;id=40729;file:///home/paltenmo/projects/crossplatform/generators/docker_tooling.py#46\u001b\\\u001b[2m46\u001b[0m\u001b]8;;\u001b\\\n"
      ]
     },
     "metadata": {},
     "output_type": "display_data"
    },
    {
     "data": {
      "application/vnd.jupyter.widget-view+json": {
       "model_id": "ffe85ce658f34e7d890ef4e79b26fe81",
       "version_major": 2,
       "version_minor": 0
      },
      "text/plain": [
       "Executing:   0%|          | 0/13 [00:00<?, ?cell/s]"
      ]
     },
     "metadata": {},
     "output_type": "display_data"
    },
    {
     "data": {
      "text/html": [
       "<pre style=\"white-space:pre;overflow-x:auto;line-height:normal;font-family:Menlo,'DejaVu Sans Mono',consolas,'Courier New',monospace\"><span style=\"color: #7fbfbf; text-decoration-color: #7fbfbf\">[15:09:27] </span>Analysis notebook executed: ..<span style=\"color: #800080; text-decoration-color: #800080\">/reports/v009/2024_11_21__15_05/</span><span style=\"color: #ff00ff; text-decoration-color: #ff00ff\">analysis_output.ipynb</span>        <a href=\"file:///home/paltenmo/projects/crossplatform/analysis_and_reporting/triage.py\" target=\"_blank\"><span style=\"color: #7f7f7f; text-decoration-color: #7f7f7f\">triage.py</span></a><span style=\"color: #7f7f7f; text-decoration-color: #7f7f7f\">:</span><a href=\"file:///home/paltenmo/projects/crossplatform/analysis_and_reporting/triage.py#163\" target=\"_blank\"><span style=\"color: #7f7f7f; text-decoration-color: #7f7f7f\">163</span></a>\n",
       "</pre>\n"
      ],
      "text/plain": [
       "\u001b[2;36m[15:09:27]\u001b[0m\u001b[2;36m \u001b[0mAnalysis notebook executed: ..\u001b[35m/reports/v009/2024_11_21__15_05/\u001b[0m\u001b[95manalysis_output.ipynb\u001b[0m        \u001b]8;id=753026;file:///home/paltenmo/projects/crossplatform/analysis_and_reporting/triage.py\u001b\\\u001b[2mtriage.py\u001b[0m\u001b]8;;\u001b\\\u001b[2m:\u001b[0m\u001b]8;id=206102;file:///home/paltenmo/projects/crossplatform/analysis_and_reporting/triage.py#163\u001b\\\u001b[2m163\u001b[0m\u001b]8;;\u001b\\\n"
      ]
     },
     "metadata": {},
     "output_type": "display_data"
    },
    {
     "data": {
      "text/html": [
       "<pre style=\"white-space:pre;overflow-x:auto;line-height:normal;font-family:Menlo,'DejaVu Sans Mono',consolas,'Courier New',monospace\"><span style=\"color: #7fbfbf; text-decoration-color: #7fbfbf\">           </span>Created report folder: ..<span style=\"color: #800080; text-decoration-color: #800080\">/reports/v009/</span><span style=\"color: #ff00ff; text-decoration-color: #ff00ff\">2024_11_21__15_09</span>                                   <a href=\"file:///home/paltenmo/projects/crossplatform/analysis_and_reporting/triage.py\" target=\"_blank\"><span style=\"color: #7f7f7f; text-decoration-color: #7f7f7f\">triage.py</span></a><span style=\"color: #7f7f7f; text-decoration-color: #7f7f7f\">:</span><a href=\"file:///home/paltenmo/projects/crossplatform/analysis_and_reporting/triage.py#131\" target=\"_blank\"><span style=\"color: #7f7f7f; text-decoration-color: #7f7f7f\">131</span></a>\n",
       "</pre>\n"
      ],
      "text/plain": [
       "\u001b[2;36m          \u001b[0m\u001b[2;36m \u001b[0mCreated report folder: ..\u001b[35m/reports/v009/\u001b[0m\u001b[95m2024_11_21__15_09\u001b[0m                                   \u001b]8;id=293035;file:///home/paltenmo/projects/crossplatform/analysis_and_reporting/triage.py\u001b\\\u001b[2mtriage.py\u001b[0m\u001b]8;;\u001b\\\u001b[2m:\u001b[0m\u001b]8;id=946181;file:///home/paltenmo/projects/crossplatform/analysis_and_reporting/triage.py#131\u001b\\\u001b[2m131\u001b[0m\u001b]8;;\u001b\\\n"
      ]
     },
     "metadata": {},
     "output_type": "display_data"
    },
    {
     "data": {
      "text/html": [
       "<pre style=\"white-space:pre;overflow-x:auto;line-height:normal;font-family:Menlo,'DejaVu Sans Mono',consolas,'Courier New',monospace\"><span style=\"color: #7fbfbf; text-decoration-color: #7fbfbf\">           </span>Copied files to: ..<span style=\"color: #800080; text-decoration-color: #800080\">/reports/v009/</span><span style=\"color: #ff00ff; text-decoration-color: #ff00ff\">2024_11_21__15_09</span>                                         <a href=\"file:///home/paltenmo/projects/crossplatform/analysis_and_reporting/triage.py\" target=\"_blank\"><span style=\"color: #7f7f7f; text-decoration-color: #7f7f7f\">triage.py</span></a><span style=\"color: #7f7f7f; text-decoration-color: #7f7f7f\">:</span><a href=\"file:///home/paltenmo/projects/crossplatform/analysis_and_reporting/triage.py#140\" target=\"_blank\"><span style=\"color: #7f7f7f; text-decoration-color: #7f7f7f\">140</span></a>\n",
       "</pre>\n"
      ],
      "text/plain": [
       "\u001b[2;36m          \u001b[0m\u001b[2;36m \u001b[0mCopied files to: ..\u001b[35m/reports/v009/\u001b[0m\u001b[95m2024_11_21__15_09\u001b[0m                                         \u001b]8;id=868518;file:///home/paltenmo/projects/crossplatform/analysis_and_reporting/triage.py\u001b\\\u001b[2mtriage.py\u001b[0m\u001b]8;;\u001b\\\u001b[2m:\u001b[0m\u001b]8;id=330998;file:///home/paltenmo/projects/crossplatform/analysis_and_reporting/triage.py#140\u001b\\\u001b[2m140\u001b[0m\u001b]8;;\u001b\\\n"
      ]
     },
     "metadata": {},
     "output_type": "display_data"
    },
    {
     "data": {
      "text/html": [
       "<pre style=\"white-space:pre;overflow-x:auto;line-height:normal;font-family:Menlo,'DejaVu Sans Mono',consolas,'Courier New',monospace\"><span style=\"color: #7fbfbf; text-decoration-color: #7fbfbf\">[15:09:27] </span>Involved functions:                                                             <a href=\"file:///home/paltenmo/projects/crossplatform/analysis_and_reporting/ddmin_target_file.py\" target=\"_blank\"><span style=\"color: #7f7f7f; text-decoration-color: #7f7f7f\">ddmin_target_file.py</span></a><span style=\"color: #7f7f7f; text-decoration-color: #7f7f7f\">:</span><a href=\"file:///home/paltenmo/projects/crossplatform/analysis_and_reporting/ddmin_target_file.py#206\" target=\"_blank\"><span style=\"color: #7f7f7f; text-decoration-color: #7f7f7f\">206</span></a>\n",
       "</pre>\n"
      ],
      "text/plain": [
       "\u001b[2;36m[15:09:27]\u001b[0m\u001b[2;36m \u001b[0mInvolved functions:                                                             \u001b]8;id=923228;file:///home/paltenmo/projects/crossplatform/analysis_and_reporting/ddmin_target_file.py\u001b\\\u001b[2mddmin_target_file.py\u001b[0m\u001b]8;;\u001b\\\u001b[2m:\u001b[0m\u001b]8;id=342367;file:///home/paltenmo/projects/crossplatform/analysis_and_reporting/ddmin_target_file.py#206\u001b\\\u001b[2m206\u001b[0m\u001b]8;;\u001b\\\n"
      ]
     },
     "metadata": {},
     "output_type": "display_data"
    },
    {
     "data": {
      "text/html": [
       "<pre style=\"white-space:pre;overflow-x:auto;line-height:normal;font-family:Menlo,'DejaVu Sans Mono',consolas,'Courier New',monospace\"><span style=\"color: #7fbfbf; text-decoration-color: #7fbfbf\">           </span>  - compare_qasm_via_qcec                                                       <a href=\"file:///home/paltenmo/projects/crossplatform/analysis_and_reporting/ddmin_target_file.py\" target=\"_blank\"><span style=\"color: #7f7f7f; text-decoration-color: #7f7f7f\">ddmin_target_file.py</span></a><span style=\"color: #7f7f7f; text-decoration-color: #7f7f7f\">:</span><a href=\"file:///home/paltenmo/projects/crossplatform/analysis_and_reporting/ddmin_target_file.py#208\" target=\"_blank\"><span style=\"color: #7f7f7f; text-decoration-color: #7f7f7f\">208</span></a>\n",
       "</pre>\n"
      ],
      "text/plain": [
       "\u001b[2;36m          \u001b[0m\u001b[2;36m \u001b[0m  - compare_qasm_via_qcec                                                       \u001b]8;id=345369;file:///home/paltenmo/projects/crossplatform/analysis_and_reporting/ddmin_target_file.py\u001b\\\u001b[2mddmin_target_file.py\u001b[0m\u001b]8;;\u001b\\\u001b[2m:\u001b[0m\u001b]8;id=639561;file:///home/paltenmo/projects/crossplatform/analysis_and_reporting/ddmin_target_file.py#208\u001b\\\u001b[2m208\u001b[0m\u001b]8;;\u001b\\\n"
      ]
     },
     "metadata": {},
     "output_type": "display_data"
    },
    {
     "data": {
      "text/html": [
       "<pre style=\"white-space:pre;overflow-x:auto;line-height:normal;font-family:Menlo,'DejaVu Sans Mono',consolas,'Courier New',monospace\"><span style=\"color: #7fbfbf; text-decoration-color: #7fbfbf\">           </span>  - export_to_qasm_with_pytket                                                  <a href=\"file:///home/paltenmo/projects/crossplatform/analysis_and_reporting/ddmin_target_file.py\" target=\"_blank\"><span style=\"color: #7f7f7f; text-decoration-color: #7f7f7f\">ddmin_target_file.py</span></a><span style=\"color: #7f7f7f; text-decoration-color: #7f7f7f\">:</span><a href=\"file:///home/paltenmo/projects/crossplatform/analysis_and_reporting/ddmin_target_file.py#208\" target=\"_blank\"><span style=\"color: #7f7f7f; text-decoration-color: #7f7f7f\">208</span></a>\n",
       "</pre>\n"
      ],
      "text/plain": [
       "\u001b[2;36m          \u001b[0m\u001b[2;36m \u001b[0m  - export_to_qasm_with_pytket                                                  \u001b]8;id=697834;file:///home/paltenmo/projects/crossplatform/analysis_and_reporting/ddmin_target_file.py\u001b\\\u001b[2mddmin_target_file.py\u001b[0m\u001b]8;;\u001b\\\u001b[2m:\u001b[0m\u001b]8;id=911757;file:///home/paltenmo/projects/crossplatform/analysis_and_reporting/ddmin_target_file.py#208\u001b\\\u001b[2m208\u001b[0m\u001b]8;;\u001b\\\n"
      ]
     },
     "metadata": {},
     "output_type": "display_data"
    },
    {
     "data": {
      "text/html": [
       "<pre style=\"white-space:pre;overflow-x:auto;line-height:normal;font-family:Menlo,'DejaVu Sans Mono',consolas,'Courier New',monospace\"><span style=\"color: #7fbfbf; text-decoration-color: #7fbfbf\">           </span>  - export_to_qasm_with_qiskit                                                  <a href=\"file:///home/paltenmo/projects/crossplatform/analysis_and_reporting/ddmin_target_file.py\" target=\"_blank\"><span style=\"color: #7f7f7f; text-decoration-color: #7f7f7f\">ddmin_target_file.py</span></a><span style=\"color: #7f7f7f; text-decoration-color: #7f7f7f\">:</span><a href=\"file:///home/paltenmo/projects/crossplatform/analysis_and_reporting/ddmin_target_file.py#208\" target=\"_blank\"><span style=\"color: #7f7f7f; text-decoration-color: #7f7f7f\">208</span></a>\n",
       "</pre>\n"
      ],
      "text/plain": [
       "\u001b[2;36m          \u001b[0m\u001b[2;36m \u001b[0m  - export_to_qasm_with_qiskit                                                  \u001b]8;id=560456;file:///home/paltenmo/projects/crossplatform/analysis_and_reporting/ddmin_target_file.py\u001b\\\u001b[2mddmin_target_file.py\u001b[0m\u001b]8;;\u001b\\\u001b[2m:\u001b[0m\u001b]8;id=365804;file:///home/paltenmo/projects/crossplatform/analysis_and_reporting/ddmin_target_file.py#208\u001b\\\u001b[2m208\u001b[0m\u001b]8;;\u001b\\\n"
      ]
     },
     "metadata": {},
     "output_type": "display_data"
    },
    {
     "name": "stdout",
     "output_type": "stream",
     "text": [
      "Error parsing: Command 'python /workspace/to_execute.py' in image 'qiskit_runner' returned non-zero exit status 1: b'Traceback (most recent call last):\\n  File \"/workspace/to_execute.py\", line 105, in <module>\\n    target_qc = qc\\nNameError: name \\'qc\\' is not defined\\n'\n",
      "Failed to execute to_execute.py in Docker.\n",
      "Output: Saved the Pytket circuit to /workspace/to_execute_qc_pytket.qasm\n",
      "Saved the Qiskit circuit to /workspace/to_execute_qc_qiskit.qasm\n",
      "Exported QASM files: [('/workspace/to_execute_qc_pytket.qasm', 'export_to_qasm_with_pytket'), ('/workspace/to_execute_qc_qiskit.qasm', 'export_to_qasm_with_qiskit')]\n",
      "Log has been saved to /workspace/to_execute_8f8f09_error.json\n",
      "\n",
      "Program to_execute.py executed successfully.\n",
      "New exception message: The circuits are not equivalent: /workspace/to_execute_qc_pytket.qasm, /workspace/to_execute_qc_qiskit.qasm\n",
      "Error parsing: Command 'python /workspace/to_execute.py' in image 'qiskit_runner' returned non-zero exit status 1: b'  File \"/workspace/to_execute.py\", line 19\\n    , custom_instructions=qasm2.LEGACY_CUSTOM_INSTRUCTIONS)\\n                                                          ^\\nSyntaxError: unmatched \\')\\'\\n'\n",
      "Failed to execute to_execute.py in Docker.\n",
      "Error parsing: Command 'python /workspace/to_execute.py' in image 'qiskit_runner' returned non-zero exit status 1: b'  File \"/workspace/to_execute.py\", line 10\\n    qc = qasm2.loads(\\n                    ^\\nSyntaxError: \\'(\\' was never closed\\n'\n",
      "Failed to execute to_execute.py in Docker.\n",
      "Error parsing: Command 'python /workspace/to_execute.py' in image 'qiskit_runner' returned non-zero exit status 1: b'  File \"/workspace/to_execute.py\", line 25\\n    , custom_instructions=qasm2.LEGACY_CUSTOM_INSTRUCTIONS)\\n                                                          ^\\nSyntaxError: unmatched \\')\\'\\n'\n",
      "Failed to execute to_execute.py in Docker.\n",
      "Error parsing: Command 'python /workspace/to_execute.py' in image 'qiskit_runner' returned non-zero exit status 1: b'Traceback (most recent call last):\\n  File \"/workspace/to_execute.py\", line 10, in <module>\\n    qc = qasm2.loads(\\n  File \"/usr/local/lib/python3.10/site-packages/qiskit/qasm2/__init__.py\", line 587, in loads\\n    return _parse.from_bytecode(\\n  File \"/usr/local/lib/python3.10/site-packages/qiskit/qasm2/parse.py\", line 214, in from_bytecode\\n    for op in bc:\\nqiskit.qasm2.exceptions.QASM2ParseError: \"<input>:5,3: \\'reg_1_a\\' is not defined in this scope\"\\n'\n",
      "Failed to execute to_execute.py in Docker.\n",
      "Output: Saved the Pytket circuit to /workspace/to_execute_qc_pytket.qasm\n",
      "Saved the Qiskit circuit to /workspace/to_execute_qc_qiskit.qasm\n",
      "Exported QASM files: [('/workspace/to_execute_qc_pytket.qasm', 'export_to_qasm_with_pytket'), ('/workspace/to_execute_qc_qiskit.qasm', 'export_to_qasm_with_qiskit')]\n",
      "Log has been saved to /workspace/to_execute_466409_error.json\n",
      "\n",
      "Program to_execute.py executed successfully.\n",
      "New exception message: The circuits are not equivalent: /workspace/to_execute_qc_pytket.qasm, /workspace/to_execute_qc_qiskit.qasm\n",
      "Error parsing: Command 'python /workspace/to_execute.py' in image 'qiskit_runner' returned non-zero exit status 1: b'  File \"/workspace/to_execute.py\", line 18\\n    , custom_instructions=qasm2.LEGACY_CUSTOM_INSTRUCTIONS)\\n                                                          ^\\nSyntaxError: unmatched \\')\\'\\n'\n",
      "Failed to execute to_execute.py in Docker.\n",
      "Error parsing: Command 'python /workspace/to_execute.py' in image 'qiskit_runner' returned non-zero exit status 1: b'Traceback (most recent call last):\\n  File \"/workspace/to_execute.py\", line 10, in <module>\\n    qc = qasm2.loads(\\n  File \"/usr/local/lib/python3.10/site-packages/qiskit/qasm2/__init__.py\", line 587, in loads\\n    return _parse.from_bytecode(\\n  File \"/usr/local/lib/python3.10/site-packages/qiskit/qasm2/parse.py\", line 214, in from_bytecode\\n    for op in bc:\\nqiskit.qasm2.exceptions.QASM2ParseError: \"<input>:5,3: \\'reg_1_a\\' is not defined in this scope\"\\n'\n",
      "Failed to execute to_execute.py in Docker.\n",
      "Error parsing: Command 'python /workspace/to_execute.py' in image 'qiskit_runner' returned non-zero exit status 1: b'  File \"/workspace/to_execute.py\", line 10\\n    qc = qasm2.loads(\\n                    ^\\nSyntaxError: \\'(\\' was never closed\\n'\n",
      "Failed to execute to_execute.py in Docker.\n",
      "Error parsing: Command 'python /workspace/to_execute.py' in image 'qiskit_runner' returned non-zero exit status 1: b'  File \"/workspace/to_execute.py\", line 20\\n    , custom_instructions=qasm2.LEGACY_CUSTOM_INSTRUCTIONS)\\n                                                          ^\\nSyntaxError: unmatched \\')\\'\\n'\n",
      "Failed to execute to_execute.py in Docker.\n",
      "Error parsing: Command 'python /workspace/to_execute.py' in image 'qiskit_runner' returned non-zero exit status 1: b'Traceback (most recent call last):\\n  File \"/workspace/to_execute.py\", line 10, in <module>\\n    qc = qasm2.loads(\\n  File \"/usr/local/lib/python3.10/site-packages/qiskit/qasm2/__init__.py\", line 587, in loads\\n    return _parse.from_bytecode(\\n  File \"/usr/local/lib/python3.10/site-packages/qiskit/qasm2/parse.py\", line 214, in from_bytecode\\n    for op in bc:\\nqiskit.qasm2.exceptions.QASM2ParseError: \"<input>:8,0: cannot use non-builtin custom instruction \\'cx\\' before definition\"\\n'\n",
      "Failed to execute to_execute.py in Docker.\n",
      "Output: Saved the Pytket circuit to /workspace/to_execute_qc_pytket.qasm\n",
      "Saved the Qiskit circuit to /workspace/to_execute_qc_qiskit.qasm\n",
      "Exported QASM files: [('/workspace/to_execute_qc_pytket.qasm', 'export_to_qasm_with_pytket'), ('/workspace/to_execute_qc_qiskit.qasm', 'export_to_qasm_with_qiskit')]\n",
      "Log has been saved to /workspace/to_execute_ffbac9_error.json\n",
      "\n",
      "Program to_execute.py executed successfully.\n",
      "New exception message: The circuits are not equivalent: /workspace/to_execute_qc_pytket.qasm, /workspace/to_execute_qc_qiskit.qasm\n",
      "Error parsing: Command 'python /workspace/to_execute.py' in image 'qiskit_runner' returned non-zero exit status 1: b'  File \"/workspace/to_execute.py\", line 19\\n    , custom_instructions=qasm2.LEGACY_CUSTOM_INSTRUCTIONS)\\nIndentationError: unexpected indent\\n'\n",
      "Failed to execute to_execute.py in Docker.\n",
      "Error parsing: Command 'python /workspace/to_execute.py' in image 'qiskit_runner' returned non-zero exit status 1: b'  File \"/workspace/to_execute.py\", line 12\\n    qreg reg_1_b[2];\\n    ^^^^^^^^^^^^^^^\\nSyntaxError: invalid syntax. Perhaps you forgot a comma?\\n'\n",
      "Failed to execute to_execute.py in Docker.\n",
      "Error parsing: Command 'python /workspace/to_execute.py' in image 'qiskit_runner' returned non-zero exit status 1: b'Traceback (most recent call last):\\n  File \"/workspace/to_execute.py\", line 10, in <module>\\n    qc = qasm2.loads(\\n  File \"/usr/local/lib/python3.10/site-packages/qiskit/qasm2/__init__.py\", line 587, in loads\\n    return _parse.from_bytecode(\\n  File \"/usr/local/lib/python3.10/site-packages/qiskit/qasm2/parse.py\", line 214, in from_bytecode\\n    for op in bc:\\nqiskit.qasm2.exceptions.QASM2ParseError: \"<input>:5,3: \\'reg_1_a\\' is not defined in this scope\"\\n'\n",
      "Failed to execute to_execute.py in Docker.\n",
      "Output: Saved the Pytket circuit to /workspace/to_execute_qc_pytket.qasm\n",
      "Saved the Qiskit circuit to /workspace/to_execute_qc_qiskit.qasm\n",
      "Exported QASM files: [('/workspace/to_execute_qc_pytket.qasm', 'export_to_qasm_with_pytket'), ('/workspace/to_execute_qc_qiskit.qasm', 'export_to_qasm_with_qiskit')]\n",
      "The circuits are equivalent: /workspace/to_execute_qc_pytket.qasm, /workspace/to_execute_qc_qiskit.qasm\n",
      "\n",
      "Program to_execute.py executed successfully.\n",
      "Error parsing: Command 'python /workspace/to_execute.py' in image 'qiskit_runner' returned non-zero exit status 1: b'  File \"/workspace/to_execute.py\", line 10\\n    qc = qasm2.loads(\\n                    ^\\nSyntaxError: \\'(\\' was never closed\\n'\n",
      "Failed to execute to_execute.py in Docker.\n",
      "Error parsing: Command 'python /workspace/to_execute.py' in image 'qiskit_runner' returned non-zero exit status 1: b'  File \"/workspace/to_execute.py\", line 20\\n    , custom_instructions=qasm2.LEGACY_CUSTOM_INSTRUCTIONS)\\nIndentationError: unexpected indent\\n'\n",
      "Failed to execute to_execute.py in Docker.\n",
      "Output: Saved the Pytket circuit to /workspace/to_execute_qc_pytket.qasm\n",
      "Saved the Qiskit circuit to /workspace/to_execute_qc_qiskit.qasm\n",
      "Exported QASM files: [('/workspace/to_execute_qc_pytket.qasm', 'export_to_qasm_with_pytket'), ('/workspace/to_execute_qc_qiskit.qasm', 'export_to_qasm_with_qiskit')]\n",
      "Log has been saved to /workspace/to_execute_f55e1e_error.json\n",
      "\n",
      "Program to_execute.py executed successfully.\n",
      "New exception message: The circuits are not equivalent: /workspace/to_execute_qc_pytket.qasm, /workspace/to_execute_qc_qiskit.qasm\n",
      "Error parsing: Command 'python /workspace/to_execute.py' in image 'qiskit_runner' returned non-zero exit status 1: b'  File \"/workspace/to_execute.py\", line 19\\n    , custom_instructions=qasm2.LEGACY_CUSTOM_INSTRUCTIONS)\\nIndentationError: unexpected indent\\n'\n",
      "Failed to execute to_execute.py in Docker.\n",
      "Error parsing: Command 'python /workspace/to_execute.py' in image 'qiskit_runner' returned non-zero exit status 1: b'  File \"/workspace/to_execute.py\", line 11\\n    OPENQASM 2.0;\\n    ^^^^^^^^^^^^\\nSyntaxError: invalid syntax. Perhaps you forgot a comma?\\n'\n",
      "Failed to execute to_execute.py in Docker.\n",
      "Output: Saved the Pytket circuit to /workspace/to_execute_qc_pytket.qasm\n",
      "Saved the Qiskit circuit to /workspace/to_execute_qc_qiskit.qasm\n",
      "Exported QASM files: [('/workspace/to_execute_qc_pytket.qasm', 'export_to_qasm_with_pytket'), ('/workspace/to_execute_qc_qiskit.qasm', 'export_to_qasm_with_qiskit')]\n",
      "Log has been saved to /workspace/to_execute_9c3eb0_error.json\n",
      "\n",
      "Program to_execute.py executed successfully.\n",
      "New exception message: The circuits are not equivalent: /workspace/to_execute_qc_pytket.qasm, /workspace/to_execute_qc_qiskit.qasm\n",
      "Error parsing: Command 'python /workspace/to_execute.py' in image 'qiskit_runner' returned non-zero exit status 1: b'  File \"/workspace/to_execute.py\", line 18\\n    , custom_instructions=qasm2.LEGACY_CUSTOM_INSTRUCTIONS)\\nIndentationError: unexpected indent\\n'\n",
      "Failed to execute to_execute.py in Docker.\n",
      "Error parsing: Command 'python /workspace/to_execute.py' in image 'qiskit_runner' returned non-zero exit status 1: b'  File \"/workspace/to_execute.py\", line 11\\n    include \"qelib1.inc\";\\n            ^^^^^^^^^^^^\\nSyntaxError: invalid syntax\\n'\n",
      "Failed to execute to_execute.py in Docker.\n",
      "Error parsing: Command 'python /workspace/to_execute.py' in image 'qiskit_runner' returned non-zero exit status 1: b'Traceback (most recent call last):\\n  File \"/workspace/to_execute.py\", line 10, in <module>\\n    qc = qasm2.loads(\\n  File \"/usr/local/lib/python3.10/site-packages/qiskit/qasm2/__init__.py\", line 587, in loads\\n    return _parse.from_bytecode(\\n  File \"/usr/local/lib/python3.10/site-packages/qiskit/qasm2/parse.py\", line 214, in from_bytecode\\n    for op in bc:\\nqiskit.qasm2.exceptions.QASM2ParseError: \"<input>:5,0: cannot use non-builtin custom instruction \\'cx\\' before definition\"\\n'\n",
      "Failed to execute to_execute.py in Docker.\n",
      "Error parsing: Command 'python /workspace/to_execute.py' in image 'qiskit_runner' returned non-zero exit status 1: b'Traceback (most recent call last):\\n  File \"/workspace/to_execute.py\", line 10, in <module>\\n    qc = qasm2.loads(\\n  File \"/usr/local/lib/python3.10/site-packages/qiskit/qasm2/__init__.py\", line 587, in loads\\n    return _parse.from_bytecode(\\n  File \"/usr/local/lib/python3.10/site-packages/qiskit/qasm2/parse.py\", line 214, in from_bytecode\\n    for op in bc:\\nqiskit.qasm2.exceptions.QASM2ParseError: \"<input>:5,14: \\'reg_1_b\\' is not defined in this scope\"\\n'\n",
      "Failed to execute to_execute.py in Docker.\n",
      "Error parsing: Command 'python /workspace/to_execute.py' in image 'qiskit_runner' returned non-zero exit status 1: b'Traceback (most recent call last):\\n  File \"/workspace/to_execute.py\", line 10, in <module>\\n    qc = qasm2.loads(\\n  File \"/usr/local/lib/python3.10/site-packages/qiskit/qasm2/__init__.py\", line 587, in loads\\n    return _parse.from_bytecode(\\n  File \"/usr/local/lib/python3.10/site-packages/qiskit/qasm2/parse.py\", line 214, in from_bytecode\\n    for op in bc:\\nqiskit.qasm2.exceptions.QASM2ParseError: \"<input>:4,3: \\'reg_1_a\\' is not defined in this scope\"\\n'\n",
      "Failed to execute to_execute.py in Docker.\n",
      "Output: Saved the Pytket circuit to /workspace/to_execute_qc_pytket.qasm\n",
      "Saved the Qiskit circuit to /workspace/to_execute_qc_qiskit.qasm\n",
      "Exported QASM files: [('/workspace/to_execute_qc_pytket.qasm', 'export_to_qasm_with_pytket'), ('/workspace/to_execute_qc_qiskit.qasm', 'export_to_qasm_with_qiskit')]\n",
      "Log has been saved to /workspace/to_execute_e07780_error.json\n",
      "\n",
      "Program to_execute.py executed successfully.\n",
      "New exception message: The circuits are not equivalent: /workspace/to_execute_qc_pytket.qasm, /workspace/to_execute_qc_qiskit.qasm\n",
      "Error parsing: Command 'python /workspace/to_execute.py' in image 'qiskit_runner' returned non-zero exit status 1: b'  File \"/workspace/to_execute.py\", line 17\\n    , custom_instructions=qasm2.LEGACY_CUSTOM_INSTRUCTIONS)\\nIndentationError: unexpected indent\\n'\n",
      "Failed to execute to_execute.py in Docker.\n",
      "Error parsing: Command 'python /workspace/to_execute.py' in image 'qiskit_runner' returned non-zero exit status 1: b'  File \"/workspace/to_execute.py\", line 11\\n    include \"qelib1.inc\";\\n            ^^^^^^^^^^^^\\nSyntaxError: invalid syntax\\n'\n",
      "Failed to execute to_execute.py in Docker.\n",
      "Error parsing: Command 'python /workspace/to_execute.py' in image 'qiskit_runner' returned non-zero exit status 1: b'Traceback (most recent call last):\\n  File \"/workspace/to_execute.py\", line 10, in <module>\\n    qc = qasm2.loads(\\n  File \"/usr/local/lib/python3.10/site-packages/qiskit/qasm2/__init__.py\", line 587, in loads\\n    return _parse.from_bytecode(\\n  File \"/usr/local/lib/python3.10/site-packages/qiskit/qasm2/parse.py\", line 214, in from_bytecode\\n    for op in bc:\\nqiskit.qasm2.exceptions.QASM2ParseError: \"<input>:5,0: cannot use non-builtin custom instruction \\'cx\\' before definition\"\\n'\n",
      "Failed to execute to_execute.py in Docker.\n",
      "Error parsing: Command 'python /workspace/to_execute.py' in image 'qiskit_runner' returned non-zero exit status 1: b'Traceback (most recent call last):\\n  File \"/workspace/to_execute.py\", line 10, in <module>\\n    qc = qasm2.loads(\\n  File \"/usr/local/lib/python3.10/site-packages/qiskit/qasm2/__init__.py\", line 587, in loads\\n    return _parse.from_bytecode(\\n  File \"/usr/local/lib/python3.10/site-packages/qiskit/qasm2/parse.py\", line 214, in from_bytecode\\n    for op in bc:\\nqiskit.qasm2.exceptions.QASM2ParseError: \"<input>:4,3: \\'reg_1_a\\' is not defined in this scope\"\\n'\n",
      "Failed to execute to_execute.py in Docker.\n",
      "Output: Saved the Pytket circuit to /workspace/to_execute_qc_pytket.qasm\n",
      "Saved the Qiskit circuit to /workspace/to_execute_qc_qiskit.qasm\n",
      "Exported QASM files: [('/workspace/to_execute_qc_pytket.qasm', 'export_to_qasm_with_pytket'), ('/workspace/to_execute_qc_qiskit.qasm', 'export_to_qasm_with_qiskit')]\n",
      "Log has been saved to /workspace/to_execute_ca7324_error.json\n",
      "\n",
      "Program to_execute.py executed successfully.\n",
      "New exception message: The circuits are not equivalent: /workspace/to_execute_qc_pytket.qasm, /workspace/to_execute_qc_qiskit.qasm\n",
      "Error parsing: Command 'python /workspace/to_execute.py' in image 'qiskit_runner' returned non-zero exit status 1: b'  File \"/workspace/to_execute.py\", line 16\\n    , custom_instructions=qasm2.LEGACY_CUSTOM_INSTRUCTIONS)\\nIndentationError: unexpected indent\\n'\n",
      "Failed to execute to_execute.py in Docker.\n",
      "Error parsing: Command 'python /workspace/to_execute.py' in image 'qiskit_runner' returned non-zero exit status 1: b'  File \"/workspace/to_execute.py\", line 11\\n    include \"qelib1.inc\";\\n            ^^^^^^^^^^^^\\nSyntaxError: invalid syntax\\n'\n",
      "Failed to execute to_execute.py in Docker.\n",
      "Error parsing: Command 'python /workspace/to_execute.py' in image 'qiskit_runner' returned non-zero exit status 1: b'Traceback (most recent call last):\\n  File \"/workspace/to_execute.py\", line 10, in <module>\\n    qc = qasm2.loads(\\n  File \"/usr/local/lib/python3.10/site-packages/qiskit/qasm2/__init__.py\", line 587, in loads\\n    return _parse.from_bytecode(\\n  File \"/usr/local/lib/python3.10/site-packages/qiskit/qasm2/parse.py\", line 214, in from_bytecode\\n    for op in bc:\\nqiskit.qasm2.exceptions.QASM2ParseError: \"<input>:3,0: cannot use non-builtin custom instruction \\'cx\\' before definition\"\\n'\n",
      "Failed to execute to_execute.py in Docker.\n",
      "Error parsing: Command 'python /workspace/to_execute.py' in image 'qiskit_runner' returned non-zero exit status 1: b'Traceback (most recent call last):\\n  File \"/workspace/to_execute.py\", line 10, in <module>\\n    qc = qasm2.loads(\\n  File \"/usr/local/lib/python3.10/site-packages/qiskit/qasm2/__init__.py\", line 587, in loads\\n    return _parse.from_bytecode(\\n  File \"/usr/local/lib/python3.10/site-packages/qiskit/qasm2/parse.py\", line 214, in from_bytecode\\n    for op in bc:\\nqiskit.qasm2.exceptions.QASM2ParseError: \"<input>:4,3: \\'reg_1_a\\' is not defined in this scope\"\\n'\n",
      "Failed to execute to_execute.py in Docker.\n",
      "Error parsing: Command 'python /workspace/to_execute.py' in image 'qiskit_runner' returned non-zero exit status 1: b'  File \"/workspace/to_execute.py\", line 11\\n    include \"qelib1.inc\";\\n            ^^^^^^^^^^^^\\nSyntaxError: invalid syntax\\n'\n",
      "Failed to execute to_execute.py in Docker.\n",
      "Error parsing: Command 'python /workspace/to_execute.py' in image 'qiskit_runner' returned non-zero exit status 1: b'  File \"/workspace/to_execute.py\", line 10\\n    qc = qasm2.loads(\\n                    ^\\nSyntaxError: \\'(\\' was never closed\\n'\n",
      "Failed to execute to_execute.py in Docker.\n",
      "Error parsing: Command 'python /workspace/to_execute.py' in image 'qiskit_runner' returned non-zero exit status 1: b'  File \"/workspace/to_execute.py\", line 16\\n    , custom_instructions=qasm2.LEGACY_CUSTOM_INSTRUCTIONS)\\nIndentationError: unexpected indent\\n'\n",
      "Failed to execute to_execute.py in Docker.\n",
      "Error parsing: Command 'python /workspace/to_execute.py' in image 'qiskit_runner' returned non-zero exit status 1: b'  File \"/workspace/to_execute.py\", line 11\\n    include \"qelib1.inc\";\\n            ^^^^^^^^^^^^\\nSyntaxError: invalid syntax\\n'\n",
      "Failed to execute to_execute.py in Docker.\n",
      "Error parsing: Command 'python /workspace/to_execute.py' in image 'qiskit_runner' returned non-zero exit status 1: b'Traceback (most recent call last):\\n  File \"/workspace/to_execute.py\", line 10, in <module>\\n    qc = qasm2.loads(\\n  File \"/usr/local/lib/python3.10/site-packages/qiskit/qasm2/__init__.py\", line 587, in loads\\n    return _parse.from_bytecode(\\n  File \"/usr/local/lib/python3.10/site-packages/qiskit/qasm2/parse.py\", line 214, in from_bytecode\\n    for op in bc:\\nqiskit.qasm2.exceptions.QASM2ParseError: \"<input>:4,0: cannot use non-builtin custom instruction \\'cx\\' before definition\"\\n'\n",
      "Failed to execute to_execute.py in Docker.\n",
      "Error parsing: Command 'python /workspace/to_execute.py' in image 'qiskit_runner' returned non-zero exit status 1: b'Traceback (most recent call last):\\n  File \"/workspace/to_execute.py\", line 10, in <module>\\n    qc = qasm2.loads(\\n  File \"/usr/local/lib/python3.10/site-packages/qiskit/qasm2/__init__.py\", line 587, in loads\\n    return _parse.from_bytecode(\\n  File \"/usr/local/lib/python3.10/site-packages/qiskit/qasm2/parse.py\", line 214, in from_bytecode\\n    for op in bc:\\nqiskit.qasm2.exceptions.QASM2ParseError: \"<input>:4,14: \\'reg_1_b\\' is not defined in this scope\"\\n'\n",
      "Failed to execute to_execute.py in Docker.\n",
      "Error parsing: Command 'python /workspace/to_execute.py' in image 'qiskit_runner' returned non-zero exit status 1: b'Traceback (most recent call last):\\n  File \"/workspace/to_execute.py\", line 10, in <module>\\n    qc = qasm2.loads(\\n  File \"/usr/local/lib/python3.10/site-packages/qiskit/qasm2/__init__.py\", line 587, in loads\\n    return _parse.from_bytecode(\\n  File \"/usr/local/lib/python3.10/site-packages/qiskit/qasm2/parse.py\", line 214, in from_bytecode\\n    for op in bc:\\nqiskit.qasm2.exceptions.QASM2ParseError: \"<input>:4,3: \\'reg_1_a\\' is not defined in this scope\"\\n'\n",
      "Failed to execute to_execute.py in Docker.\n",
      "Output: Saved the Pytket circuit to /workspace/to_execute_qc_pytket.qasm\n",
      "Saved the Qiskit circuit to /workspace/to_execute_qc_qiskit.qasm\n",
      "Exported QASM files: [('/workspace/to_execute_qc_pytket.qasm', 'export_to_qasm_with_pytket'), ('/workspace/to_execute_qc_qiskit.qasm', 'export_to_qasm_with_qiskit')]\n",
      "The circuits are equivalent: /workspace/to_execute_qc_pytket.qasm, /workspace/to_execute_qc_qiskit.qasm\n",
      "\n",
      "Program to_execute.py executed successfully.\n",
      "Error parsing: Command 'python /workspace/to_execute.py' in image 'qiskit_runner' returned non-zero exit status 1: b'  File \"/workspace/to_execute.py\", line 11\\n    include \"qelib1.inc\";\\n            ^^^^^^^^^^^^\\nSyntaxError: invalid syntax\\n'\n",
      "Failed to execute to_execute.py in Docker.\n",
      "Error parsing: Command 'python /workspace/to_execute.py' in image 'qiskit_runner' returned non-zero exit status 1: b'  File \"/workspace/to_execute.py\", line 10\\n    qc = qasm2.loads(\\n                    ^\\nSyntaxError: \\'(\\' was never closed\\n'\n",
      "Failed to execute to_execute.py in Docker.\n"
     ]
    },
    {
     "data": {
      "text/html": [
       "<pre style=\"white-space:pre;overflow-x:auto;line-height:normal;font-family:Menlo,'DejaVu Sans Mono',consolas,'Courier New',monospace\"><span style=\"color: #7fbfbf; text-decoration-color: #7fbfbf\">[15:12:24] </span><span style=\"color: #008000; text-decoration-color: #008000\">Minimized file saved as:</span>                                                        <a href=\"file:///home/paltenmo/projects/crossplatform/analysis_and_reporting/ddmin_target_file.py\" target=\"_blank\"><span style=\"color: #7f7f7f; text-decoration-color: #7f7f7f\">ddmin_target_file.py</span></a><span style=\"color: #7f7f7f; text-decoration-color: #7f7f7f\">:</span><a href=\"file:///home/paltenmo/projects/crossplatform/analysis_and_reporting/ddmin_target_file.py#240\" target=\"_blank\"><span style=\"color: #7f7f7f; text-decoration-color: #7f7f7f\">240</span></a>\n",
       "<span style=\"color: #7fbfbf; text-decoration-color: #7fbfbf\">           </span>..<span style=\"color: #800080; text-decoration-color: #800080\">/reports/v009/2024_11_21__15_09/</span><span style=\"color: #ff00ff; text-decoration-color: #ff00ff\">qiskit_circuit_5q_10g_680_6d896d_1fd766_error</span> <span style=\"color: #7f7f7f; text-decoration-color: #7f7f7f\">                        </span>\n",
       "<span style=\"color: #7fbfbf; text-decoration-color: #7fbfbf\">           </span><span style=\"color: #ff00ff; text-decoration-color: #ff00ff\">_min.py</span>                                                                         <span style=\"color: #7f7f7f; text-decoration-color: #7f7f7f\">                        </span>\n",
       "</pre>\n"
      ],
      "text/plain": [
       "\u001b[2;36m[15:12:24]\u001b[0m\u001b[2;36m \u001b[0m\u001b[32mMinimized file saved as:\u001b[0m                                                        \u001b]8;id=925058;file:///home/paltenmo/projects/crossplatform/analysis_and_reporting/ddmin_target_file.py\u001b\\\u001b[2mddmin_target_file.py\u001b[0m\u001b]8;;\u001b\\\u001b[2m:\u001b[0m\u001b]8;id=911043;file:///home/paltenmo/projects/crossplatform/analysis_and_reporting/ddmin_target_file.py#240\u001b\\\u001b[2m240\u001b[0m\u001b]8;;\u001b\\\n",
       "\u001b[2;36m           \u001b[0m..\u001b[35m/reports/v009/2024_11_21__15_09/\u001b[0m\u001b[95mqiskit_circuit_5q_10g_680_6d896d_1fd766_error\u001b[0m \u001b[2m                        \u001b[0m\n",
       "\u001b[2;36m           \u001b[0m\u001b[95m_min.py\u001b[0m                                                                         \u001b[2m                        \u001b[0m\n"
      ]
     },
     "metadata": {},
     "output_type": "display_data"
    },
    {
     "name": "stdout",
     "output_type": "stream",
     "text": [
      "Output: Saved the Pytket circuit to /workspace/qiskit_circuit_5q_10g_680_6d896d_1fd766_error_min_qc_pytket.qasm\n",
      "Saved the Qiskit circuit to /workspace/qiskit_circuit_5q_10g_680_6d896d_1fd766_error_min_qc_qiskit.qasm\n",
      "Exported QASM files: [('/workspace/qiskit_circuit_5q_10g_680_6d896d_1fd766_error_min_qc_pytket.qasm', 'export_to_qasm_with_pytket'), ('/workspace/qiskit_circuit_5q_10g_680_6d896d_1fd766_error_min_qc_qiskit.qasm', 'export_to_qasm_with_qiskit')]\n",
      "Log has been saved to /workspace/qiskit_circuit_5q_10g_680_6d896d_1fd766_error_min_c3fa11_error.json\n",
      "\n"
     ]
    },
    {
     "data": {
      "text/html": [
       "<pre style=\"white-space:pre;overflow-x:auto;line-height:normal;font-family:Menlo,'DejaVu Sans Mono',consolas,'Courier New',monospace\"><span style=\"color: #7fbfbf; text-decoration-color: #7fbfbf\">[15:12:31] </span>Program qiskit_circuit_5q_10g_680_6d896d_1fd766_error_min.py executed successfully. <a href=\"file:///home/paltenmo/projects/crossplatform/generators/docker_tooling.py\" target=\"_blank\"><span style=\"color: #7f7f7f; text-decoration-color: #7f7f7f\">docker_tooling.py</span></a><span style=\"color: #7f7f7f; text-decoration-color: #7f7f7f\">:</span><a href=\"file:///home/paltenmo/projects/crossplatform/generators/docker_tooling.py#46\" target=\"_blank\"><span style=\"color: #7f7f7f; text-decoration-color: #7f7f7f\">46</span></a>\n",
       "</pre>\n"
      ],
      "text/plain": [
       "\u001b[2;36m[15:12:31]\u001b[0m\u001b[2;36m \u001b[0mProgram qiskit_circuit_5q_10g_680_6d896d_1fd766_error_min.py executed successfully. \u001b]8;id=477414;file:///home/paltenmo/projects/crossplatform/generators/docker_tooling.py\u001b\\\u001b[2mdocker_tooling.py\u001b[0m\u001b]8;;\u001b\\\u001b[2m:\u001b[0m\u001b]8;id=213744;file:///home/paltenmo/projects/crossplatform/generators/docker_tooling.py#46\u001b\\\u001b[2m46\u001b[0m\u001b]8;;\u001b\\\n"
      ]
     },
     "metadata": {},
     "output_type": "display_data"
    },
    {
     "data": {
      "application/vnd.jupyter.widget-view+json": {
       "model_id": "fd41c37524fc49898f76e352c9932878",
       "version_major": 2,
       "version_minor": 0
      },
      "text/plain": [
       "Executing:   0%|          | 0/13 [00:00<?, ?cell/s]"
      ]
     },
     "metadata": {},
     "output_type": "display_data"
    },
    {
     "data": {
      "text/html": [
       "<pre style=\"white-space:pre;overflow-x:auto;line-height:normal;font-family:Menlo,'DejaVu Sans Mono',consolas,'Courier New',monospace\"><span style=\"color: #7fbfbf; text-decoration-color: #7fbfbf\">[15:12:34] </span>Analysis notebook executed: ..<span style=\"color: #800080; text-decoration-color: #800080\">/reports/v009/2024_11_21__15_09/</span><span style=\"color: #ff00ff; text-decoration-color: #ff00ff\">analysis_output.ipynb</span>        <a href=\"file:///home/paltenmo/projects/crossplatform/analysis_and_reporting/triage.py\" target=\"_blank\"><span style=\"color: #7f7f7f; text-decoration-color: #7f7f7f\">triage.py</span></a><span style=\"color: #7f7f7f; text-decoration-color: #7f7f7f\">:</span><a href=\"file:///home/paltenmo/projects/crossplatform/analysis_and_reporting/triage.py#163\" target=\"_blank\"><span style=\"color: #7f7f7f; text-decoration-color: #7f7f7f\">163</span></a>\n",
       "</pre>\n"
      ],
      "text/plain": [
       "\u001b[2;36m[15:12:34]\u001b[0m\u001b[2;36m \u001b[0mAnalysis notebook executed: ..\u001b[35m/reports/v009/2024_11_21__15_09/\u001b[0m\u001b[95manalysis_output.ipynb\u001b[0m        \u001b]8;id=672233;file:///home/paltenmo/projects/crossplatform/analysis_and_reporting/triage.py\u001b\\\u001b[2mtriage.py\u001b[0m\u001b]8;;\u001b\\\u001b[2m:\u001b[0m\u001b]8;id=4561;file:///home/paltenmo/projects/crossplatform/analysis_and_reporting/triage.py#163\u001b\\\u001b[2m163\u001b[0m\u001b]8;;\u001b\\\n"
      ]
     },
     "metadata": {},
     "output_type": "display_data"
    },
    {
     "data": {
      "text/html": [
       "<pre style=\"white-space:pre;overflow-x:auto;line-height:normal;font-family:Menlo,'DejaVu Sans Mono',consolas,'Courier New',monospace\"><span style=\"color: #7fbfbf; text-decoration-color: #7fbfbf\">           </span>Created report folder: ..<span style=\"color: #800080; text-decoration-color: #800080\">/reports/v009/</span><span style=\"color: #ff00ff; text-decoration-color: #ff00ff\">2024_11_21__15_12</span>                                   <a href=\"file:///home/paltenmo/projects/crossplatform/analysis_and_reporting/triage.py\" target=\"_blank\"><span style=\"color: #7f7f7f; text-decoration-color: #7f7f7f\">triage.py</span></a><span style=\"color: #7f7f7f; text-decoration-color: #7f7f7f\">:</span><a href=\"file:///home/paltenmo/projects/crossplatform/analysis_and_reporting/triage.py#131\" target=\"_blank\"><span style=\"color: #7f7f7f; text-decoration-color: #7f7f7f\">131</span></a>\n",
       "</pre>\n"
      ],
      "text/plain": [
       "\u001b[2;36m          \u001b[0m\u001b[2;36m \u001b[0mCreated report folder: ..\u001b[35m/reports/v009/\u001b[0m\u001b[95m2024_11_21__15_12\u001b[0m                                   \u001b]8;id=539788;file:///home/paltenmo/projects/crossplatform/analysis_and_reporting/triage.py\u001b\\\u001b[2mtriage.py\u001b[0m\u001b]8;;\u001b\\\u001b[2m:\u001b[0m\u001b]8;id=237902;file:///home/paltenmo/projects/crossplatform/analysis_and_reporting/triage.py#131\u001b\\\u001b[2m131\u001b[0m\u001b]8;;\u001b\\\n"
      ]
     },
     "metadata": {},
     "output_type": "display_data"
    },
    {
     "data": {
      "text/html": [
       "<pre style=\"white-space:pre;overflow-x:auto;line-height:normal;font-family:Menlo,'DejaVu Sans Mono',consolas,'Courier New',monospace\"><span style=\"color: #7fbfbf; text-decoration-color: #7fbfbf\">           </span>Copied files to: ..<span style=\"color: #800080; text-decoration-color: #800080\">/reports/v009/</span><span style=\"color: #ff00ff; text-decoration-color: #ff00ff\">2024_11_21__15_12</span>                                         <a href=\"file:///home/paltenmo/projects/crossplatform/analysis_and_reporting/triage.py\" target=\"_blank\"><span style=\"color: #7f7f7f; text-decoration-color: #7f7f7f\">triage.py</span></a><span style=\"color: #7f7f7f; text-decoration-color: #7f7f7f\">:</span><a href=\"file:///home/paltenmo/projects/crossplatform/analysis_and_reporting/triage.py#140\" target=\"_blank\"><span style=\"color: #7f7f7f; text-decoration-color: #7f7f7f\">140</span></a>\n",
       "</pre>\n"
      ],
      "text/plain": [
       "\u001b[2;36m          \u001b[0m\u001b[2;36m \u001b[0mCopied files to: ..\u001b[35m/reports/v009/\u001b[0m\u001b[95m2024_11_21__15_12\u001b[0m                                         \u001b]8;id=440474;file:///home/paltenmo/projects/crossplatform/analysis_and_reporting/triage.py\u001b\\\u001b[2mtriage.py\u001b[0m\u001b]8;;\u001b\\\u001b[2m:\u001b[0m\u001b]8;id=45501;file:///home/paltenmo/projects/crossplatform/analysis_and_reporting/triage.py#140\u001b\\\u001b[2m140\u001b[0m\u001b]8;;\u001b\\\n"
      ]
     },
     "metadata": {},
     "output_type": "display_data"
    },
    {
     "data": {
      "text/html": [
       "<pre style=\"white-space:pre;overflow-x:auto;line-height:normal;font-family:Menlo,'DejaVu Sans Mono',consolas,'Courier New',monospace\"><span style=\"color: #7fbfbf; text-decoration-color: #7fbfbf\">[15:12:34] </span>Involved functions:                                                             <a href=\"file:///home/paltenmo/projects/crossplatform/analysis_and_reporting/ddmin_target_file.py\" target=\"_blank\"><span style=\"color: #7f7f7f; text-decoration-color: #7f7f7f\">ddmin_target_file.py</span></a><span style=\"color: #7f7f7f; text-decoration-color: #7f7f7f\">:</span><a href=\"file:///home/paltenmo/projects/crossplatform/analysis_and_reporting/ddmin_target_file.py#206\" target=\"_blank\"><span style=\"color: #7f7f7f; text-decoration-color: #7f7f7f\">206</span></a>\n",
       "</pre>\n"
      ],
      "text/plain": [
       "\u001b[2;36m[15:12:34]\u001b[0m\u001b[2;36m \u001b[0mInvolved functions:                                                             \u001b]8;id=551201;file:///home/paltenmo/projects/crossplatform/analysis_and_reporting/ddmin_target_file.py\u001b\\\u001b[2mddmin_target_file.py\u001b[0m\u001b]8;;\u001b\\\u001b[2m:\u001b[0m\u001b]8;id=250080;file:///home/paltenmo/projects/crossplatform/analysis_and_reporting/ddmin_target_file.py#206\u001b\\\u001b[2m206\u001b[0m\u001b]8;;\u001b\\\n"
      ]
     },
     "metadata": {},
     "output_type": "display_data"
    },
    {
     "data": {
      "text/html": [
       "<pre style=\"white-space:pre;overflow-x:auto;line-height:normal;font-family:Menlo,'DejaVu Sans Mono',consolas,'Courier New',monospace\"><span style=\"color: #7fbfbf; text-decoration-color: #7fbfbf\">           </span>  - compare_qasm_via_qcec                                                       <a href=\"file:///home/paltenmo/projects/crossplatform/analysis_and_reporting/ddmin_target_file.py\" target=\"_blank\"><span style=\"color: #7f7f7f; text-decoration-color: #7f7f7f\">ddmin_target_file.py</span></a><span style=\"color: #7f7f7f; text-decoration-color: #7f7f7f\">:</span><a href=\"file:///home/paltenmo/projects/crossplatform/analysis_and_reporting/ddmin_target_file.py#208\" target=\"_blank\"><span style=\"color: #7f7f7f; text-decoration-color: #7f7f7f\">208</span></a>\n",
       "</pre>\n"
      ],
      "text/plain": [
       "\u001b[2;36m          \u001b[0m\u001b[2;36m \u001b[0m  - compare_qasm_via_qcec                                                       \u001b]8;id=263622;file:///home/paltenmo/projects/crossplatform/analysis_and_reporting/ddmin_target_file.py\u001b\\\u001b[2mddmin_target_file.py\u001b[0m\u001b]8;;\u001b\\\u001b[2m:\u001b[0m\u001b]8;id=456243;file:///home/paltenmo/projects/crossplatform/analysis_and_reporting/ddmin_target_file.py#208\u001b\\\u001b[2m208\u001b[0m\u001b]8;;\u001b\\\n"
      ]
     },
     "metadata": {},
     "output_type": "display_data"
    },
    {
     "data": {
      "text/html": [
       "<pre style=\"white-space:pre;overflow-x:auto;line-height:normal;font-family:Menlo,'DejaVu Sans Mono',consolas,'Courier New',monospace\"><span style=\"color: #7fbfbf; text-decoration-color: #7fbfbf\">           </span>  - export_to_qasm_with_pytket                                                  <a href=\"file:///home/paltenmo/projects/crossplatform/analysis_and_reporting/ddmin_target_file.py\" target=\"_blank\"><span style=\"color: #7f7f7f; text-decoration-color: #7f7f7f\">ddmin_target_file.py</span></a><span style=\"color: #7f7f7f; text-decoration-color: #7f7f7f\">:</span><a href=\"file:///home/paltenmo/projects/crossplatform/analysis_and_reporting/ddmin_target_file.py#208\" target=\"_blank\"><span style=\"color: #7f7f7f; text-decoration-color: #7f7f7f\">208</span></a>\n",
       "</pre>\n"
      ],
      "text/plain": [
       "\u001b[2;36m          \u001b[0m\u001b[2;36m \u001b[0m  - export_to_qasm_with_pytket                                                  \u001b]8;id=634482;file:///home/paltenmo/projects/crossplatform/analysis_and_reporting/ddmin_target_file.py\u001b\\\u001b[2mddmin_target_file.py\u001b[0m\u001b]8;;\u001b\\\u001b[2m:\u001b[0m\u001b]8;id=715175;file:///home/paltenmo/projects/crossplatform/analysis_and_reporting/ddmin_target_file.py#208\u001b\\\u001b[2m208\u001b[0m\u001b]8;;\u001b\\\n"
      ]
     },
     "metadata": {},
     "output_type": "display_data"
    },
    {
     "data": {
      "text/html": [
       "<pre style=\"white-space:pre;overflow-x:auto;line-height:normal;font-family:Menlo,'DejaVu Sans Mono',consolas,'Courier New',monospace\"><span style=\"color: #7fbfbf; text-decoration-color: #7fbfbf\">           </span>  - export_to_qasm_with_qiskit                                                  <a href=\"file:///home/paltenmo/projects/crossplatform/analysis_and_reporting/ddmin_target_file.py\" target=\"_blank\"><span style=\"color: #7f7f7f; text-decoration-color: #7f7f7f\">ddmin_target_file.py</span></a><span style=\"color: #7f7f7f; text-decoration-color: #7f7f7f\">:</span><a href=\"file:///home/paltenmo/projects/crossplatform/analysis_and_reporting/ddmin_target_file.py#208\" target=\"_blank\"><span style=\"color: #7f7f7f; text-decoration-color: #7f7f7f\">208</span></a>\n",
       "</pre>\n"
      ],
      "text/plain": [
       "\u001b[2;36m          \u001b[0m\u001b[2;36m \u001b[0m  - export_to_qasm_with_qiskit                                                  \u001b]8;id=208365;file:///home/paltenmo/projects/crossplatform/analysis_and_reporting/ddmin_target_file.py\u001b\\\u001b[2mddmin_target_file.py\u001b[0m\u001b]8;;\u001b\\\u001b[2m:\u001b[0m\u001b]8;id=926996;file:///home/paltenmo/projects/crossplatform/analysis_and_reporting/ddmin_target_file.py#208\u001b\\\u001b[2m208\u001b[0m\u001b]8;;\u001b\\\n"
      ]
     },
     "metadata": {},
     "output_type": "display_data"
    },
    {
     "name": "stdout",
     "output_type": "stream",
     "text": [
      "Error parsing: Command 'python /workspace/to_execute.py' in image 'qiskit_runner' returned non-zero exit status 1: b'Traceback (most recent call last):\\n  File \"/workspace/to_execute.py\", line 105, in <module>\\n    target_qc = qc\\nNameError: name \\'qc\\' is not defined\\n'\n",
      "Failed to execute to_execute.py in Docker.\n",
      "Output: Saved the Pytket circuit to /workspace/to_execute_qc_pytket.qasm\n",
      "Saved the Qiskit circuit to /workspace/to_execute_qc_qiskit.qasm\n",
      "Exported QASM files: [('/workspace/to_execute_qc_pytket.qasm', 'export_to_qasm_with_pytket'), ('/workspace/to_execute_qc_qiskit.qasm', 'export_to_qasm_with_qiskit')]\n",
      "Log has been saved to /workspace/to_execute_d9884e_error.json\n",
      "\n",
      "Program to_execute.py executed successfully.\n",
      "New exception message: The circuits are not equivalent: /workspace/to_execute_qc_pytket.qasm, /workspace/to_execute_qc_qiskit.qasm\n",
      "Error parsing: Command 'python /workspace/to_execute.py' in image 'qiskit_runner' returned non-zero exit status 1: b'  File \"/workspace/to_execute.py\", line 18\\n    , custom_instructions=qasm2.LEGACY_CUSTOM_INSTRUCTIONS)\\n                                                          ^\\nSyntaxError: unmatched \\')\\'\\n'\n",
      "Failed to execute to_execute.py in Docker.\n",
      "Error parsing: Command 'python /workspace/to_execute.py' in image 'qiskit_runner' returned non-zero exit status 1: b'  File \"/workspace/to_execute.py\", line 10\\n    qc = qasm2.loads(\\n                    ^\\nSyntaxError: \\'(\\' was never closed\\n'\n",
      "Failed to execute to_execute.py in Docker.\n",
      "Error parsing: Command 'python /workspace/to_execute.py' in image 'qiskit_runner' returned non-zero exit status 1: b'  File \"/workspace/to_execute.py\", line 23\\n    , custom_instructions=qasm2.LEGACY_CUSTOM_INSTRUCTIONS)\\n                                                          ^\\nSyntaxError: unmatched \\')\\'\\n'\n",
      "Failed to execute to_execute.py in Docker.\n",
      "Error parsing: Command 'python /workspace/to_execute.py' in image 'qiskit_runner' returned non-zero exit status 1: b'Traceback (most recent call last):\\n  File \"/workspace/to_execute.py\", line 10, in <module>\\n    qc = qasm2.loads(\\n  File \"/usr/local/lib/python3.10/site-packages/qiskit/qasm2/__init__.py\", line 587, in loads\\n    return _parse.from_bytecode(\\n  File \"/usr/local/lib/python3.10/site-packages/qiskit/qasm2/parse.py\", line 214, in from_bytecode\\n    for op in bc:\\nqiskit.qasm2.exceptions.QASM2ParseError: \"<input>:5,2: \\'reg_1_q\\' is not defined in this scope\"\\n'\n",
      "Failed to execute to_execute.py in Docker.\n",
      "Output: Saved the Pytket circuit to /workspace/to_execute_qc_pytket.qasm\n",
      "Saved the Qiskit circuit to /workspace/to_execute_qc_qiskit.qasm\n",
      "Exported QASM files: [('/workspace/to_execute_qc_pytket.qasm', 'export_to_qasm_with_pytket'), ('/workspace/to_execute_qc_qiskit.qasm', 'export_to_qasm_with_qiskit')]\n",
      "Log has been saved to /workspace/to_execute_608f83_error.json\n",
      "\n",
      "Program to_execute.py executed successfully.\n",
      "New exception message: The circuits are not equivalent: /workspace/to_execute_qc_pytket.qasm, /workspace/to_execute_qc_qiskit.qasm\n",
      "Error parsing: Command 'python /workspace/to_execute.py' in image 'qiskit_runner' returned non-zero exit status 1: b'  File \"/workspace/to_execute.py\", line 18\\n    , custom_instructions=qasm2.LEGACY_CUSTOM_INSTRUCTIONS)\\n                                                          ^\\nSyntaxError: unmatched \\')\\'\\n'\n",
      "Failed to execute to_execute.py in Docker.\n",
      "Error parsing: Command 'python /workspace/to_execute.py' in image 'qiskit_runner' returned non-zero exit status 1: b'Traceback (most recent call last):\\n  File \"/workspace/to_execute.py\", line 10, in <module>\\n    qc = qasm2.loads(\\n  File \"/usr/local/lib/python3.10/site-packages/qiskit/qasm2/__init__.py\", line 587, in loads\\n    return _parse.from_bytecode(\\n  File \"/usr/local/lib/python3.10/site-packages/qiskit/qasm2/parse.py\", line 214, in from_bytecode\\n    for op in bc:\\nqiskit.qasm2.exceptions.QASM2ParseError: \"<input>:4,3: \\'reg_2_a\\' is not defined in this scope\"\\n'\n",
      "Failed to execute to_execute.py in Docker.\n",
      "Error parsing: Command 'python /workspace/to_execute.py' in image 'qiskit_runner' returned non-zero exit status 1: b'  File \"/workspace/to_execute.py\", line 10\\n    qc = qasm2.loads(\\n                    ^\\nSyntaxError: \\'(\\' was never closed\\n'\n",
      "Failed to execute to_execute.py in Docker.\n",
      "Error parsing: Command 'python /workspace/to_execute.py' in image 'qiskit_runner' returned non-zero exit status 1: b'  File \"/workspace/to_execute.py\", line 20\\n    , custom_instructions=qasm2.LEGACY_CUSTOM_INSTRUCTIONS)\\n                                                          ^\\nSyntaxError: unmatched \\')\\'\\n'\n",
      "Failed to execute to_execute.py in Docker.\n",
      "Error parsing: Command 'python /workspace/to_execute.py' in image 'qiskit_runner' returned non-zero exit status 1: b'Traceback (most recent call last):\\n  File \"/workspace/to_execute.py\", line 10, in <module>\\n    qc = qasm2.loads(\\n  File \"/usr/local/lib/python3.10/site-packages/qiskit/qasm2/__init__.py\", line 587, in loads\\n    return _parse.from_bytecode(\\n  File \"/usr/local/lib/python3.10/site-packages/qiskit/qasm2/parse.py\", line 214, in from_bytecode\\n    for op in bc:\\nqiskit.qasm2.exceptions.QASM2ParseError: \"<input>:7,0: cannot use non-builtin custom instruction \\'cx\\' before definition\"\\n'\n",
      "Failed to execute to_execute.py in Docker.\n",
      "Error parsing: Command 'python /workspace/to_execute.py' in image 'qiskit_runner' returned non-zero exit status 1: b'Traceback (most recent call last):\\n  File \"/workspace/to_execute.py\", line 10, in <module>\\n    qc = qasm2.loads(\\n  File \"/usr/local/lib/python3.10/site-packages/qiskit/qasm2/__init__.py\", line 587, in loads\\n    return _parse.from_bytecode(\\n  File \"/usr/local/lib/python3.10/site-packages/qiskit/qasm2/parse.py\", line 214, in from_bytecode\\n    for op in bc:\\nqiskit.qasm2.exceptions.QASM2ParseError: \"<input>:6,3: \\'reg_2_a\\' is not defined in this scope\"\\n'\n",
      "Failed to execute to_execute.py in Docker.\n",
      "Error parsing: Command 'python /workspace/to_execute.py' in image 'qiskit_runner' returned non-zero exit status 1: b'Traceback (most recent call last):\\n  File \"/workspace/to_execute.py\", line 10, in <module>\\n    qc = qasm2.loads(\\n  File \"/usr/local/lib/python3.10/site-packages/qiskit/qasm2/__init__.py\", line 587, in loads\\n    return _parse.from_bytecode(\\n  File \"/usr/local/lib/python3.10/site-packages/qiskit/qasm2/parse.py\", line 214, in from_bytecode\\n    for op in bc:\\nqiskit.qasm2.exceptions.QASM2ParseError: \"<input>:7,14: \\'reg_2_b\\' is not defined in this scope\"\\n'\n",
      "Failed to execute to_execute.py in Docker.\n",
      "Output: Saved the Pytket circuit to /workspace/to_execute_qc_pytket.qasm\n",
      "Saved the Qiskit circuit to /workspace/to_execute_qc_qiskit.qasm\n",
      "Exported QASM files: [('/workspace/to_execute_qc_pytket.qasm', 'export_to_qasm_with_pytket'), ('/workspace/to_execute_qc_qiskit.qasm', 'export_to_qasm_with_qiskit')]\n",
      "The circuits are equivalent: /workspace/to_execute_qc_pytket.qasm, /workspace/to_execute_qc_qiskit.qasm\n",
      "\n",
      "Program to_execute.py executed successfully.\n",
      "Error parsing: Command 'python /workspace/to_execute.py' in image 'qiskit_runner' returned non-zero exit status 1: b'  File \"/workspace/to_execute.py\", line 10\\n    qc = qasm2.loads(\\n                    ^\\nSyntaxError: \\'(\\' was never closed\\n'\n",
      "Failed to execute to_execute.py in Docker.\n",
      "Error parsing: Command 'python /workspace/to_execute.py' in image 'qiskit_runner' returned non-zero exit status 1: b'  File \"/workspace/to_execute.py\", line 23\\n    , custom_instructions=qasm2.LEGACY_CUSTOM_INSTRUCTIONS)\\nIndentationError: unexpected indent\\n'\n",
      "Failed to execute to_execute.py in Docker.\n",
      "Output: Saved the Pytket circuit to /workspace/to_execute_qc_pytket.qasm\n",
      "Saved the Qiskit circuit to /workspace/to_execute_qc_qiskit.qasm\n",
      "Exported QASM files: [('/workspace/to_execute_qc_pytket.qasm', 'export_to_qasm_with_pytket'), ('/workspace/to_execute_qc_qiskit.qasm', 'export_to_qasm_with_qiskit')]\n",
      "Log has been saved to /workspace/to_execute_887cae_error.json\n",
      "\n",
      "Program to_execute.py executed successfully.\n",
      "New exception message: The circuits are not equivalent: /workspace/to_execute_qc_pytket.qasm, /workspace/to_execute_qc_qiskit.qasm\n",
      "Error parsing: Command 'python /workspace/to_execute.py' in image 'qiskit_runner' returned non-zero exit status 1: b'  File \"/workspace/to_execute.py\", line 22\\n    , custom_instructions=qasm2.LEGACY_CUSTOM_INSTRUCTIONS)\\nIndentationError: unexpected indent\\n'\n",
      "Failed to execute to_execute.py in Docker.\n",
      "Error parsing: Command 'python /workspace/to_execute.py' in image 'qiskit_runner' returned non-zero exit status 1: b'  File \"/workspace/to_execute.py\", line 11\\n    OPENQASM 2.0;\\n    ^^^^^^^^^^^^\\nSyntaxError: invalid syntax. Perhaps you forgot a comma?\\n'\n",
      "Failed to execute to_execute.py in Docker.\n",
      "Output: Saved the Pytket circuit to /workspace/to_execute_qc_pytket.qasm\n",
      "Saved the Qiskit circuit to /workspace/to_execute_qc_qiskit.qasm\n",
      "Exported QASM files: [('/workspace/to_execute_qc_pytket.qasm', 'export_to_qasm_with_pytket'), ('/workspace/to_execute_qc_qiskit.qasm', 'export_to_qasm_with_qiskit')]\n",
      "Log has been saved to /workspace/to_execute_2caee7_error.json\n",
      "\n",
      "Program to_execute.py executed successfully.\n",
      "New exception message: The circuits are not equivalent: /workspace/to_execute_qc_pytket.qasm, /workspace/to_execute_qc_qiskit.qasm\n",
      "Error parsing: Command 'python /workspace/to_execute.py' in image 'qiskit_runner' returned non-zero exit status 1: b'  File \"/workspace/to_execute.py\", line 21\\n    , custom_instructions=qasm2.LEGACY_CUSTOM_INSTRUCTIONS)\\nIndentationError: unexpected indent\\n'\n",
      "Failed to execute to_execute.py in Docker.\n",
      "Error parsing: Command 'python /workspace/to_execute.py' in image 'qiskit_runner' returned non-zero exit status 1: b'  File \"/workspace/to_execute.py\", line 11\\n    include \"qelib1.inc\";\\n            ^^^^^^^^^^^^\\nSyntaxError: invalid syntax\\n'\n",
      "Failed to execute to_execute.py in Docker.\n",
      "Error parsing: Command 'python /workspace/to_execute.py' in image 'qiskit_runner' returned non-zero exit status 1: b'Traceback (most recent call last):\\n  File \"/workspace/to_execute.py\", line 10, in <module>\\n    qc = qasm2.loads(\\n  File \"/usr/local/lib/python3.10/site-packages/qiskit/qasm2/__init__.py\", line 587, in loads\\n    return _parse.from_bytecode(\\n  File \"/usr/local/lib/python3.10/site-packages/qiskit/qasm2/parse.py\", line 214, in from_bytecode\\n    for op in bc:\\nqiskit.qasm2.exceptions.QASM2ParseError: \"<input>:7,0: cannot use non-builtin custom instruction \\'cx\\' before definition\"\\n'\n",
      "Failed to execute to_execute.py in Docker.\n",
      "Output: Saved the Pytket circuit to /workspace/to_execute_qc_pytket.qasm\n",
      "Saved the Qiskit circuit to /workspace/to_execute_qc_qiskit.qasm\n",
      "Exported QASM files: [('/workspace/to_execute_qc_pytket.qasm', 'export_to_qasm_with_pytket'), ('/workspace/to_execute_qc_qiskit.qasm', 'export_to_qasm_with_qiskit')]\n",
      "Log has been saved to /workspace/to_execute_2f0673_error.json\n",
      "\n",
      "Program to_execute.py executed successfully.\n",
      "New exception message: The circuits are not equivalent: /workspace/to_execute_qc_pytket.qasm, /workspace/to_execute_qc_qiskit.qasm\n",
      "Error parsing: Command 'python /workspace/to_execute.py' in image 'qiskit_runner' returned non-zero exit status 1: b'  File \"/workspace/to_execute.py\", line 20\\n    , custom_instructions=qasm2.LEGACY_CUSTOM_INSTRUCTIONS)\\nIndentationError: unexpected indent\\n'\n",
      "Failed to execute to_execute.py in Docker.\n",
      "Error parsing: Command 'python /workspace/to_execute.py' in image 'qiskit_runner' returned non-zero exit status 1: b'  File \"/workspace/to_execute.py\", line 11\\n    include \"qelib1.inc\";\\n            ^^^^^^^^^^^^\\nSyntaxError: invalid syntax\\n'\n",
      "Failed to execute to_execute.py in Docker.\n",
      "Error parsing: Command 'python /workspace/to_execute.py' in image 'qiskit_runner' returned non-zero exit status 1: b'Traceback (most recent call last):\\n  File \"/workspace/to_execute.py\", line 10, in <module>\\n    qc = qasm2.loads(\\n  File \"/usr/local/lib/python3.10/site-packages/qiskit/qasm2/__init__.py\", line 587, in loads\\n    return _parse.from_bytecode(\\n  File \"/usr/local/lib/python3.10/site-packages/qiskit/qasm2/parse.py\", line 214, in from_bytecode\\n    for op in bc:\\nqiskit.qasm2.exceptions.QASM2ParseError: \"<input>:6,0: cannot use non-builtin custom instruction \\'cx\\' before definition\"\\n'\n",
      "Failed to execute to_execute.py in Docker.\n",
      "Error parsing: Command 'python /workspace/to_execute.py' in image 'qiskit_runner' returned non-zero exit status 1: b'Traceback (most recent call last):\\n  File \"/workspace/to_execute.py\", line 10, in <module>\\n    qc = qasm2.loads(\\n  File \"/usr/local/lib/python3.10/site-packages/qiskit/qasm2/__init__.py\", line 587, in loads\\n    return _parse.from_bytecode(\\n  File \"/usr/local/lib/python3.10/site-packages/qiskit/qasm2/parse.py\", line 214, in from_bytecode\\n    for op in bc:\\nqiskit.qasm2.exceptions.QASM2ParseError: \"<input>:5,3: \\'reg_2_a\\' is not defined in this scope\"\\n'\n",
      "Failed to execute to_execute.py in Docker.\n",
      "Error parsing: Command 'python /workspace/to_execute.py' in image 'qiskit_runner' returned non-zero exit status 1: b'Traceback (most recent call last):\\n  File \"/workspace/to_execute.py\", line 10, in <module>\\n    qc = qasm2.loads(\\n  File \"/usr/local/lib/python3.10/site-packages/qiskit/qasm2/__init__.py\", line 587, in loads\\n    return _parse.from_bytecode(\\n  File \"/usr/local/lib/python3.10/site-packages/qiskit/qasm2/parse.py\", line 214, in from_bytecode\\n    for op in bc:\\nqiskit.qasm2.exceptions.QASM2ParseError: \"<input>:6,14: \\'reg_2_b\\' is not defined in this scope\"\\n'\n",
      "Failed to execute to_execute.py in Docker.\n",
      "Output: Saved the Pytket circuit to /workspace/to_execute_qc_pytket.qasm\n",
      "Saved the Qiskit circuit to /workspace/to_execute_qc_qiskit.qasm\n",
      "Exported QASM files: [('/workspace/to_execute_qc_pytket.qasm', 'export_to_qasm_with_pytket'), ('/workspace/to_execute_qc_qiskit.qasm', 'export_to_qasm_with_qiskit')]\n",
      "Log has been saved to /workspace/to_execute_48e16c_error.json\n",
      "\n",
      "Program to_execute.py executed successfully.\n",
      "New exception message: The circuits are not equivalent: /workspace/to_execute_qc_pytket.qasm, /workspace/to_execute_qc_qiskit.qasm\n",
      "Error parsing: Command 'python /workspace/to_execute.py' in image 'qiskit_runner' returned non-zero exit status 1: b'  File \"/workspace/to_execute.py\", line 18\\n    , custom_instructions=qasm2.LEGACY_CUSTOM_INSTRUCTIONS)\\nIndentationError: unexpected indent\\n'\n",
      "Failed to execute to_execute.py in Docker.\n",
      "Error parsing: Command 'python /workspace/to_execute.py' in image 'qiskit_runner' returned non-zero exit status 1: b'  File \"/workspace/to_execute.py\", line 11\\n    include \"qelib1.inc\";\\n            ^^^^^^^^^^^^\\nSyntaxError: invalid syntax\\n'\n",
      "Failed to execute to_execute.py in Docker.\n",
      "Error parsing: Command 'python /workspace/to_execute.py' in image 'qiskit_runner' returned non-zero exit status 1: b'Traceback (most recent call last):\\n  File \"/workspace/to_execute.py\", line 10, in <module>\\n    qc = qasm2.loads(\\n  File \"/usr/local/lib/python3.10/site-packages/qiskit/qasm2/__init__.py\", line 587, in loads\\n    return _parse.from_bytecode(\\n  File \"/usr/local/lib/python3.10/site-packages/qiskit/qasm2/parse.py\", line 214, in from_bytecode\\n    for op in bc:\\nqiskit.qasm2.exceptions.QASM2ParseError: \"<input>:5,0: cannot use non-builtin custom instruction \\'cx\\' before definition\"\\n'\n",
      "Failed to execute to_execute.py in Docker.\n",
      "Error parsing: Command 'python /workspace/to_execute.py' in image 'qiskit_runner' returned non-zero exit status 1: b'Traceback (most recent call last):\\n  File \"/workspace/to_execute.py\", line 10, in <module>\\n    qc = qasm2.loads(\\n  File \"/usr/local/lib/python3.10/site-packages/qiskit/qasm2/__init__.py\", line 587, in loads\\n    return _parse.from_bytecode(\\n  File \"/usr/local/lib/python3.10/site-packages/qiskit/qasm2/parse.py\", line 214, in from_bytecode\\n    for op in bc:\\nqiskit.qasm2.exceptions.QASM2ParseError: \"<input>:5,14: \\'reg_2_cin\\' is not defined in this scope\"\\n'\n",
      "Failed to execute to_execute.py in Docker.\n",
      "Error parsing: Command 'python /workspace/to_execute.py' in image 'qiskit_runner' returned non-zero exit status 1: b'Traceback (most recent call last):\\n  File \"/workspace/to_execute.py\", line 10, in <module>\\n    qc = qasm2.loads(\\n  File \"/usr/local/lib/python3.10/site-packages/qiskit/qasm2/__init__.py\", line 587, in loads\\n    return _parse.from_bytecode(\\n  File \"/usr/local/lib/python3.10/site-packages/qiskit/qasm2/parse.py\", line 214, in from_bytecode\\n    for op in bc:\\nqiskit.qasm2.exceptions.QASM2ParseError: \"<input>:4,3: \\'reg_2_a\\' is not defined in this scope\"\\n'\n",
      "Failed to execute to_execute.py in Docker.\n",
      "Output: Saved the Pytket circuit to /workspace/to_execute_qc_pytket.qasm\n",
      "Saved the Qiskit circuit to /workspace/to_execute_qc_qiskit.qasm\n",
      "Exported QASM files: [('/workspace/to_execute_qc_pytket.qasm', 'export_to_qasm_with_pytket'), ('/workspace/to_execute_qc_qiskit.qasm', 'export_to_qasm_with_qiskit')]\n",
      "Log has been saved to /workspace/to_execute_8b1205_error.json\n",
      "\n",
      "Program to_execute.py executed successfully.\n",
      "New exception message: The circuits are not equivalent: /workspace/to_execute_qc_pytket.qasm, /workspace/to_execute_qc_qiskit.qasm\n",
      "Error parsing: Command 'python /workspace/to_execute.py' in image 'qiskit_runner' returned non-zero exit status 1: b'  File \"/workspace/to_execute.py\", line 17\\n    , custom_instructions=qasm2.LEGACY_CUSTOM_INSTRUCTIONS)\\nIndentationError: unexpected indent\\n'\n",
      "Failed to execute to_execute.py in Docker.\n",
      "Error parsing: Command 'python /workspace/to_execute.py' in image 'qiskit_runner' returned non-zero exit status 1: b'  File \"/workspace/to_execute.py\", line 11\\n    include \"qelib1.inc\";\\n            ^^^^^^^^^^^^\\nSyntaxError: invalid syntax\\n'\n",
      "Failed to execute to_execute.py in Docker.\n",
      "Error parsing: Command 'python /workspace/to_execute.py' in image 'qiskit_runner' returned non-zero exit status 1: b'Traceback (most recent call last):\\n  File \"/workspace/to_execute.py\", line 10, in <module>\\n    qc = qasm2.loads(\\n  File \"/usr/local/lib/python3.10/site-packages/qiskit/qasm2/__init__.py\", line 587, in loads\\n    return _parse.from_bytecode(\\n  File \"/usr/local/lib/python3.10/site-packages/qiskit/qasm2/parse.py\", line 214, in from_bytecode\\n    for op in bc:\\nqiskit.qasm2.exceptions.QASM2ParseError: \"<input>:5,0: cannot use non-builtin custom instruction \\'ccx\\' before definition\"\\n'\n",
      "Failed to execute to_execute.py in Docker.\n",
      "Error parsing: Command 'python /workspace/to_execute.py' in image 'qiskit_runner' returned non-zero exit status 1: b'Traceback (most recent call last):\\n  File \"/workspace/to_execute.py\", line 10, in <module>\\n    qc = qasm2.loads(\\n  File \"/usr/local/lib/python3.10/site-packages/qiskit/qasm2/__init__.py\", line 587, in loads\\n    return _parse.from_bytecode(\\n  File \"/usr/local/lib/python3.10/site-packages/qiskit/qasm2/parse.py\", line 214, in from_bytecode\\n    for op in bc:\\nqiskit.qasm2.exceptions.QASM2ParseError: \"<input>:4,4: \\'reg_2_cin\\' is not defined in this scope\"\\n'\n",
      "Failed to execute to_execute.py in Docker.\n",
      "Error parsing: Command 'python /workspace/to_execute.py' in image 'qiskit_runner' returned non-zero exit status 1: b'Traceback (most recent call last):\\n  File \"/workspace/to_execute.py\", line 10, in <module>\\n    qc = qasm2.loads(\\n  File \"/usr/local/lib/python3.10/site-packages/qiskit/qasm2/__init__.py\", line 587, in loads\\n    return _parse.from_bytecode(\\n  File \"/usr/local/lib/python3.10/site-packages/qiskit/qasm2/parse.py\", line 214, in from_bytecode\\n    for op in bc:\\nqiskit.qasm2.exceptions.QASM2ParseError: \"<input>:5,17: \\'reg_2_b\\' is not defined in this scope\"\\n'\n",
      "Failed to execute to_execute.py in Docker.\n",
      "Error parsing: Command 'python /workspace/to_execute.py' in image 'qiskit_runner' returned non-zero exit status 1: b'  File \"/workspace/to_execute.py\", line 11\\n    include \"qelib1.inc\";\\n            ^^^^^^^^^^^^\\nSyntaxError: invalid syntax\\n'\n",
      "Failed to execute to_execute.py in Docker.\n",
      "Error parsing: Command 'python /workspace/to_execute.py' in image 'qiskit_runner' returned non-zero exit status 1: b'  File \"/workspace/to_execute.py\", line 10\\n    qc = qasm2.loads(\\n                    ^\\nSyntaxError: \\'(\\' was never closed\\n'\n",
      "Failed to execute to_execute.py in Docker.\n",
      "Error parsing: Command 'python /workspace/to_execute.py' in image 'qiskit_runner' returned non-zero exit status 1: b'  File \"/workspace/to_execute.py\", line 17\\n    , custom_instructions=qasm2.LEGACY_CUSTOM_INSTRUCTIONS)\\nIndentationError: unexpected indent\\n'\n",
      "Failed to execute to_execute.py in Docker.\n",
      "Error parsing: Command 'python /workspace/to_execute.py' in image 'qiskit_runner' returned non-zero exit status 1: b'  File \"/workspace/to_execute.py\", line 11\\n    include \"qelib1.inc\";\\n            ^^^^^^^^^^^^\\nSyntaxError: invalid syntax\\n'\n",
      "Failed to execute to_execute.py in Docker.\n",
      "Error parsing: Command 'python /workspace/to_execute.py' in image 'qiskit_runner' returned non-zero exit status 1: b'Traceback (most recent call last):\\n  File \"/workspace/to_execute.py\", line 10, in <module>\\n    qc = qasm2.loads(\\n  File \"/usr/local/lib/python3.10/site-packages/qiskit/qasm2/__init__.py\", line 587, in loads\\n    return _parse.from_bytecode(\\n  File \"/usr/local/lib/python3.10/site-packages/qiskit/qasm2/parse.py\", line 214, in from_bytecode\\n    for op in bc:\\nqiskit.qasm2.exceptions.QASM2ParseError: \"<input>:5,0: cannot use non-builtin custom instruction \\'ccx\\' before definition\"\\n'\n",
      "Failed to execute to_execute.py in Docker.\n",
      "Error parsing: Command 'python /workspace/to_execute.py' in image 'qiskit_runner' returned non-zero exit status 1: b'Traceback (most recent call last):\\n  File \"/workspace/to_execute.py\", line 10, in <module>\\n    qc = qasm2.loads(\\n  File \"/usr/local/lib/python3.10/site-packages/qiskit/qasm2/__init__.py\", line 587, in loads\\n    return _parse.from_bytecode(\\n  File \"/usr/local/lib/python3.10/site-packages/qiskit/qasm2/parse.py\", line 214, in from_bytecode\\n    for op in bc:\\nqiskit.qasm2.exceptions.QASM2ParseError: \"<input>:5,4: \\'reg_2_cin\\' is not defined in this scope\"\\n'\n",
      "Failed to execute to_execute.py in Docker.\n",
      "Error parsing: Command 'python /workspace/to_execute.py' in image 'qiskit_runner' returned non-zero exit status 1: b'Traceback (most recent call last):\\n  File \"/workspace/to_execute.py\", line 10, in <module>\\n    qc = qasm2.loads(\\n  File \"/usr/local/lib/python3.10/site-packages/qiskit/qasm2/__init__.py\", line 587, in loads\\n    return _parse.from_bytecode(\\n  File \"/usr/local/lib/python3.10/site-packages/qiskit/qasm2/parse.py\", line 214, in from_bytecode\\n    for op in bc:\\nqiskit.qasm2.exceptions.QASM2ParseError: \"<input>:5,28: \\'reg_2_a\\' is not defined in this scope\"\\n'\n",
      "Failed to execute to_execute.py in Docker.\n",
      "Error parsing: Command 'python /workspace/to_execute.py' in image 'qiskit_runner' returned non-zero exit status 1: b'Traceback (most recent call last):\\n  File \"/workspace/to_execute.py\", line 10, in <module>\\n    qc = qasm2.loads(\\n  File \"/usr/local/lib/python3.10/site-packages/qiskit/qasm2/__init__.py\", line 587, in loads\\n    return _parse.from_bytecode(\\n  File \"/usr/local/lib/python3.10/site-packages/qiskit/qasm2/parse.py\", line 214, in from_bytecode\\n    for op in bc:\\nqiskit.qasm2.exceptions.QASM2ParseError: \"<input>:5,17: \\'reg_2_b\\' is not defined in this scope\"\\n'\n",
      "Failed to execute to_execute.py in Docker.\n",
      "Output: Saved the Pytket circuit to /workspace/to_execute_qc_pytket.qasm\n",
      "Saved the Qiskit circuit to /workspace/to_execute_qc_qiskit.qasm\n",
      "Exported QASM files: [('/workspace/to_execute_qc_pytket.qasm', 'export_to_qasm_with_pytket'), ('/workspace/to_execute_qc_qiskit.qasm', 'export_to_qasm_with_qiskit')]\n",
      "The circuits are equivalent: /workspace/to_execute_qc_pytket.qasm, /workspace/to_execute_qc_qiskit.qasm\n",
      "\n",
      "Program to_execute.py executed successfully.\n",
      "Error parsing: Command 'python /workspace/to_execute.py' in image 'qiskit_runner' returned non-zero exit status 1: b'  File \"/workspace/to_execute.py\", line 11\\n    include \"qelib1.inc\";\\n            ^^^^^^^^^^^^\\nSyntaxError: invalid syntax\\n'\n",
      "Failed to execute to_execute.py in Docker.\n",
      "Error parsing: Command 'python /workspace/to_execute.py' in image 'qiskit_runner' returned non-zero exit status 1: b'  File \"/workspace/to_execute.py\", line 10\\n    qc = qasm2.loads(\\n                    ^\\nSyntaxError: \\'(\\' was never closed\\n'\n",
      "Failed to execute to_execute.py in Docker.\n"
     ]
    },
    {
     "data": {
      "text/html": [
       "<pre style=\"white-space:pre;overflow-x:auto;line-height:normal;font-family:Menlo,'DejaVu Sans Mono',consolas,'Courier New',monospace\"><span style=\"color: #7fbfbf; text-decoration-color: #7fbfbf\">[15:15:46] </span><span style=\"color: #008000; text-decoration-color: #008000\">Minimized file saved as:</span>                                                        <a href=\"file:///home/paltenmo/projects/crossplatform/analysis_and_reporting/ddmin_target_file.py\" target=\"_blank\"><span style=\"color: #7f7f7f; text-decoration-color: #7f7f7f\">ddmin_target_file.py</span></a><span style=\"color: #7f7f7f; text-decoration-color: #7f7f7f\">:</span><a href=\"file:///home/paltenmo/projects/crossplatform/analysis_and_reporting/ddmin_target_file.py#240\" target=\"_blank\"><span style=\"color: #7f7f7f; text-decoration-color: #7f7f7f\">240</span></a>\n",
       "<span style=\"color: #7fbfbf; text-decoration-color: #7fbfbf\">           </span>..<span style=\"color: #800080; text-decoration-color: #800080\">/reports/v009/2024_11_21__15_12/</span><span style=\"color: #ff00ff; text-decoration-color: #ff00ff\">qiskit_circuit_5q_10g_5399_c4b732_f59bef_erro</span> <span style=\"color: #7f7f7f; text-decoration-color: #7f7f7f\">                        </span>\n",
       "<span style=\"color: #7fbfbf; text-decoration-color: #7fbfbf\">           </span><span style=\"color: #ff00ff; text-decoration-color: #ff00ff\">r_min.py</span>                                                                        <span style=\"color: #7f7f7f; text-decoration-color: #7f7f7f\">                        </span>\n",
       "</pre>\n"
      ],
      "text/plain": [
       "\u001b[2;36m[15:15:46]\u001b[0m\u001b[2;36m \u001b[0m\u001b[32mMinimized file saved as:\u001b[0m                                                        \u001b]8;id=979709;file:///home/paltenmo/projects/crossplatform/analysis_and_reporting/ddmin_target_file.py\u001b\\\u001b[2mddmin_target_file.py\u001b[0m\u001b]8;;\u001b\\\u001b[2m:\u001b[0m\u001b]8;id=722071;file:///home/paltenmo/projects/crossplatform/analysis_and_reporting/ddmin_target_file.py#240\u001b\\\u001b[2m240\u001b[0m\u001b]8;;\u001b\\\n",
       "\u001b[2;36m           \u001b[0m..\u001b[35m/reports/v009/2024_11_21__15_12/\u001b[0m\u001b[95mqiskit_circuit_5q_10g_5399_c4b732_f59bef_erro\u001b[0m \u001b[2m                        \u001b[0m\n",
       "\u001b[2;36m           \u001b[0m\u001b[95mr_min.py\u001b[0m                                                                        \u001b[2m                        \u001b[0m\n"
      ]
     },
     "metadata": {},
     "output_type": "display_data"
    },
    {
     "name": "stdout",
     "output_type": "stream",
     "text": [
      "Output: Saved the Pytket circuit to /workspace/qiskit_circuit_5q_10g_5399_c4b732_f59bef_error_min_qc_pytket.qasm\n",
      "Saved the Qiskit circuit to /workspace/qiskit_circuit_5q_10g_5399_c4b732_f59bef_error_min_qc_qiskit.qasm\n",
      "Exported QASM files: [('/workspace/qiskit_circuit_5q_10g_5399_c4b732_f59bef_error_min_qc_pytket.qasm', 'export_to_qasm_with_pytket'), ('/workspace/qiskit_circuit_5q_10g_5399_c4b732_f59bef_error_min_qc_qiskit.qasm', 'export_to_qasm_with_qiskit')]\n",
      "Log has been saved to /workspace/qiskit_circuit_5q_10g_5399_c4b732_f59bef_error_min_ecf2b2_error.json\n",
      "\n"
     ]
    },
    {
     "data": {
      "text/html": [
       "<pre style=\"white-space:pre;overflow-x:auto;line-height:normal;font-family:Menlo,'DejaVu Sans Mono',consolas,'Courier New',monospace\"><span style=\"color: #7fbfbf; text-decoration-color: #7fbfbf\">[15:15:53] </span>Program qiskit_circuit_5q_10g_5399_c4b732_f59bef_error_min.py executed              <a href=\"file:///home/paltenmo/projects/crossplatform/generators/docker_tooling.py\" target=\"_blank\"><span style=\"color: #7f7f7f; text-decoration-color: #7f7f7f\">docker_tooling.py</span></a><span style=\"color: #7f7f7f; text-decoration-color: #7f7f7f\">:</span><a href=\"file:///home/paltenmo/projects/crossplatform/generators/docker_tooling.py#46\" target=\"_blank\"><span style=\"color: #7f7f7f; text-decoration-color: #7f7f7f\">46</span></a>\n",
       "<span style=\"color: #7fbfbf; text-decoration-color: #7fbfbf\">           </span>successfully.                                                                       <span style=\"color: #7f7f7f; text-decoration-color: #7f7f7f\">                    </span>\n",
       "</pre>\n"
      ],
      "text/plain": [
       "\u001b[2;36m[15:15:53]\u001b[0m\u001b[2;36m \u001b[0mProgram qiskit_circuit_5q_10g_5399_c4b732_f59bef_error_min.py executed              \u001b]8;id=874944;file:///home/paltenmo/projects/crossplatform/generators/docker_tooling.py\u001b\\\u001b[2mdocker_tooling.py\u001b[0m\u001b]8;;\u001b\\\u001b[2m:\u001b[0m\u001b]8;id=661643;file:///home/paltenmo/projects/crossplatform/generators/docker_tooling.py#46\u001b\\\u001b[2m46\u001b[0m\u001b]8;;\u001b\\\n",
       "\u001b[2;36m           \u001b[0msuccessfully.                                                                       \u001b[2m                    \u001b[0m\n"
      ]
     },
     "metadata": {},
     "output_type": "display_data"
    },
    {
     "data": {
      "application/vnd.jupyter.widget-view+json": {
       "model_id": "7b1763ff191e45be89c6aa8bddf138a2",
       "version_major": 2,
       "version_minor": 0
      },
      "text/plain": [
       "Executing:   0%|          | 0/13 [00:00<?, ?cell/s]"
      ]
     },
     "metadata": {},
     "output_type": "display_data"
    },
    {
     "data": {
      "text/html": [
       "<pre style=\"white-space:pre;overflow-x:auto;line-height:normal;font-family:Menlo,'DejaVu Sans Mono',consolas,'Courier New',monospace\"><span style=\"color: #7fbfbf; text-decoration-color: #7fbfbf\">[15:15:56] </span>Analysis notebook executed: ..<span style=\"color: #800080; text-decoration-color: #800080\">/reports/v009/2024_11_21__15_12/</span><span style=\"color: #ff00ff; text-decoration-color: #ff00ff\">analysis_output.ipynb</span>        <a href=\"file:///home/paltenmo/projects/crossplatform/analysis_and_reporting/triage.py\" target=\"_blank\"><span style=\"color: #7f7f7f; text-decoration-color: #7f7f7f\">triage.py</span></a><span style=\"color: #7f7f7f; text-decoration-color: #7f7f7f\">:</span><a href=\"file:///home/paltenmo/projects/crossplatform/analysis_and_reporting/triage.py#163\" target=\"_blank\"><span style=\"color: #7f7f7f; text-decoration-color: #7f7f7f\">163</span></a>\n",
       "</pre>\n"
      ],
      "text/plain": [
       "\u001b[2;36m[15:15:56]\u001b[0m\u001b[2;36m \u001b[0mAnalysis notebook executed: ..\u001b[35m/reports/v009/2024_11_21__15_12/\u001b[0m\u001b[95manalysis_output.ipynb\u001b[0m        \u001b]8;id=117710;file:///home/paltenmo/projects/crossplatform/analysis_and_reporting/triage.py\u001b\\\u001b[2mtriage.py\u001b[0m\u001b]8;;\u001b\\\u001b[2m:\u001b[0m\u001b]8;id=465129;file:///home/paltenmo/projects/crossplatform/analysis_and_reporting/triage.py#163\u001b\\\u001b[2m163\u001b[0m\u001b]8;;\u001b\\\n"
      ]
     },
     "metadata": {},
     "output_type": "display_data"
    },
    {
     "data": {
      "text/html": [
       "<pre style=\"white-space:pre;overflow-x:auto;line-height:normal;font-family:Menlo,'DejaVu Sans Mono',consolas,'Courier New',monospace\"><span style=\"color: #7fbfbf; text-decoration-color: #7fbfbf\">           </span>Created report folder: ..<span style=\"color: #800080; text-decoration-color: #800080\">/reports/v009/</span><span style=\"color: #ff00ff; text-decoration-color: #ff00ff\">2024_11_21__15_15</span>                                   <a href=\"file:///home/paltenmo/projects/crossplatform/analysis_and_reporting/triage.py\" target=\"_blank\"><span style=\"color: #7f7f7f; text-decoration-color: #7f7f7f\">triage.py</span></a><span style=\"color: #7f7f7f; text-decoration-color: #7f7f7f\">:</span><a href=\"file:///home/paltenmo/projects/crossplatform/analysis_and_reporting/triage.py#131\" target=\"_blank\"><span style=\"color: #7f7f7f; text-decoration-color: #7f7f7f\">131</span></a>\n",
       "</pre>\n"
      ],
      "text/plain": [
       "\u001b[2;36m          \u001b[0m\u001b[2;36m \u001b[0mCreated report folder: ..\u001b[35m/reports/v009/\u001b[0m\u001b[95m2024_11_21__15_15\u001b[0m                                   \u001b]8;id=102550;file:///home/paltenmo/projects/crossplatform/analysis_and_reporting/triage.py\u001b\\\u001b[2mtriage.py\u001b[0m\u001b]8;;\u001b\\\u001b[2m:\u001b[0m\u001b]8;id=719536;file:///home/paltenmo/projects/crossplatform/analysis_and_reporting/triage.py#131\u001b\\\u001b[2m131\u001b[0m\u001b]8;;\u001b\\\n"
      ]
     },
     "metadata": {},
     "output_type": "display_data"
    },
    {
     "data": {
      "text/html": [
       "<pre style=\"white-space:pre;overflow-x:auto;line-height:normal;font-family:Menlo,'DejaVu Sans Mono',consolas,'Courier New',monospace\"><span style=\"color: #7fbfbf; text-decoration-color: #7fbfbf\">           </span>Copied files to: ..<span style=\"color: #800080; text-decoration-color: #800080\">/reports/v009/</span><span style=\"color: #ff00ff; text-decoration-color: #ff00ff\">2024_11_21__15_15</span>                                         <a href=\"file:///home/paltenmo/projects/crossplatform/analysis_and_reporting/triage.py\" target=\"_blank\"><span style=\"color: #7f7f7f; text-decoration-color: #7f7f7f\">triage.py</span></a><span style=\"color: #7f7f7f; text-decoration-color: #7f7f7f\">:</span><a href=\"file:///home/paltenmo/projects/crossplatform/analysis_and_reporting/triage.py#140\" target=\"_blank\"><span style=\"color: #7f7f7f; text-decoration-color: #7f7f7f\">140</span></a>\n",
       "</pre>\n"
      ],
      "text/plain": [
       "\u001b[2;36m          \u001b[0m\u001b[2;36m \u001b[0mCopied files to: ..\u001b[35m/reports/v009/\u001b[0m\u001b[95m2024_11_21__15_15\u001b[0m                                         \u001b]8;id=254451;file:///home/paltenmo/projects/crossplatform/analysis_and_reporting/triage.py\u001b\\\u001b[2mtriage.py\u001b[0m\u001b]8;;\u001b\\\u001b[2m:\u001b[0m\u001b]8;id=924520;file:///home/paltenmo/projects/crossplatform/analysis_and_reporting/triage.py#140\u001b\\\u001b[2m140\u001b[0m\u001b]8;;\u001b\\\n"
      ]
     },
     "metadata": {},
     "output_type": "display_data"
    },
    {
     "data": {
      "text/html": [
       "<pre style=\"white-space:pre;overflow-x:auto;line-height:normal;font-family:Menlo,'DejaVu Sans Mono',consolas,'Courier New',monospace\"><span style=\"color: #7fbfbf; text-decoration-color: #7fbfbf\">[15:15:56] </span>Involved functions:                                                             <a href=\"file:///home/paltenmo/projects/crossplatform/analysis_and_reporting/ddmin_target_file.py\" target=\"_blank\"><span style=\"color: #7f7f7f; text-decoration-color: #7f7f7f\">ddmin_target_file.py</span></a><span style=\"color: #7f7f7f; text-decoration-color: #7f7f7f\">:</span><a href=\"file:///home/paltenmo/projects/crossplatform/analysis_and_reporting/ddmin_target_file.py#206\" target=\"_blank\"><span style=\"color: #7f7f7f; text-decoration-color: #7f7f7f\">206</span></a>\n",
       "</pre>\n"
      ],
      "text/plain": [
       "\u001b[2;36m[15:15:56]\u001b[0m\u001b[2;36m \u001b[0mInvolved functions:                                                             \u001b]8;id=157722;file:///home/paltenmo/projects/crossplatform/analysis_and_reporting/ddmin_target_file.py\u001b\\\u001b[2mddmin_target_file.py\u001b[0m\u001b]8;;\u001b\\\u001b[2m:\u001b[0m\u001b]8;id=705551;file:///home/paltenmo/projects/crossplatform/analysis_and_reporting/ddmin_target_file.py#206\u001b\\\u001b[2m206\u001b[0m\u001b]8;;\u001b\\\n"
      ]
     },
     "metadata": {},
     "output_type": "display_data"
    },
    {
     "data": {
      "text/html": [
       "<pre style=\"white-space:pre;overflow-x:auto;line-height:normal;font-family:Menlo,'DejaVu Sans Mono',consolas,'Courier New',monospace\"><span style=\"color: #7fbfbf; text-decoration-color: #7fbfbf\">           </span>  - compare_qasm_via_qcec                                                       <a href=\"file:///home/paltenmo/projects/crossplatform/analysis_and_reporting/ddmin_target_file.py\" target=\"_blank\"><span style=\"color: #7f7f7f; text-decoration-color: #7f7f7f\">ddmin_target_file.py</span></a><span style=\"color: #7f7f7f; text-decoration-color: #7f7f7f\">:</span><a href=\"file:///home/paltenmo/projects/crossplatform/analysis_and_reporting/ddmin_target_file.py#208\" target=\"_blank\"><span style=\"color: #7f7f7f; text-decoration-color: #7f7f7f\">208</span></a>\n",
       "</pre>\n"
      ],
      "text/plain": [
       "\u001b[2;36m          \u001b[0m\u001b[2;36m \u001b[0m  - compare_qasm_via_qcec                                                       \u001b]8;id=791955;file:///home/paltenmo/projects/crossplatform/analysis_and_reporting/ddmin_target_file.py\u001b\\\u001b[2mddmin_target_file.py\u001b[0m\u001b]8;;\u001b\\\u001b[2m:\u001b[0m\u001b]8;id=608482;file:///home/paltenmo/projects/crossplatform/analysis_and_reporting/ddmin_target_file.py#208\u001b\\\u001b[2m208\u001b[0m\u001b]8;;\u001b\\\n"
      ]
     },
     "metadata": {},
     "output_type": "display_data"
    },
    {
     "data": {
      "text/html": [
       "<pre style=\"white-space:pre;overflow-x:auto;line-height:normal;font-family:Menlo,'DejaVu Sans Mono',consolas,'Courier New',monospace\"><span style=\"color: #7fbfbf; text-decoration-color: #7fbfbf\">           </span>  - export_to_qasm_with_bqskit                                                  <a href=\"file:///home/paltenmo/projects/crossplatform/analysis_and_reporting/ddmin_target_file.py\" target=\"_blank\"><span style=\"color: #7f7f7f; text-decoration-color: #7f7f7f\">ddmin_target_file.py</span></a><span style=\"color: #7f7f7f; text-decoration-color: #7f7f7f\">:</span><a href=\"file:///home/paltenmo/projects/crossplatform/analysis_and_reporting/ddmin_target_file.py#208\" target=\"_blank\"><span style=\"color: #7f7f7f; text-decoration-color: #7f7f7f\">208</span></a>\n",
       "</pre>\n"
      ],
      "text/plain": [
       "\u001b[2;36m          \u001b[0m\u001b[2;36m \u001b[0m  - export_to_qasm_with_bqskit                                                  \u001b]8;id=10425;file:///home/paltenmo/projects/crossplatform/analysis_and_reporting/ddmin_target_file.py\u001b\\\u001b[2mddmin_target_file.py\u001b[0m\u001b]8;;\u001b\\\u001b[2m:\u001b[0m\u001b]8;id=282882;file:///home/paltenmo/projects/crossplatform/analysis_and_reporting/ddmin_target_file.py#208\u001b\\\u001b[2m208\u001b[0m\u001b]8;;\u001b\\\n"
      ]
     },
     "metadata": {},
     "output_type": "display_data"
    },
    {
     "data": {
      "text/html": [
       "<pre style=\"white-space:pre;overflow-x:auto;line-height:normal;font-family:Menlo,'DejaVu Sans Mono',consolas,'Courier New',monospace\"><span style=\"color: #7fbfbf; text-decoration-color: #7fbfbf\">[15:15:57] </span>  - export_to_qasm_with_pytket                                                  <a href=\"file:///home/paltenmo/projects/crossplatform/analysis_and_reporting/ddmin_target_file.py\" target=\"_blank\"><span style=\"color: #7f7f7f; text-decoration-color: #7f7f7f\">ddmin_target_file.py</span></a><span style=\"color: #7f7f7f; text-decoration-color: #7f7f7f\">:</span><a href=\"file:///home/paltenmo/projects/crossplatform/analysis_and_reporting/ddmin_target_file.py#208\" target=\"_blank\"><span style=\"color: #7f7f7f; text-decoration-color: #7f7f7f\">208</span></a>\n",
       "</pre>\n"
      ],
      "text/plain": [
       "\u001b[2;36m[15:15:57]\u001b[0m\u001b[2;36m \u001b[0m  - export_to_qasm_with_pytket                                                  \u001b]8;id=550352;file:///home/paltenmo/projects/crossplatform/analysis_and_reporting/ddmin_target_file.py\u001b\\\u001b[2mddmin_target_file.py\u001b[0m\u001b]8;;\u001b\\\u001b[2m:\u001b[0m\u001b]8;id=158406;file:///home/paltenmo/projects/crossplatform/analysis_and_reporting/ddmin_target_file.py#208\u001b\\\u001b[2m208\u001b[0m\u001b]8;;\u001b\\\n"
      ]
     },
     "metadata": {},
     "output_type": "display_data"
    },
    {
     "name": "stdout",
     "output_type": "stream",
     "text": [
      "Error parsing: Command 'python /workspace/to_execute.py' in image 'qiskit_runner' returned non-zero exit status 1: b'Traceback (most recent call last):\\n  File \"/workspace/to_execute.py\", line 106, in <module>\\n    target_qc = qc\\nNameError: name \\'qc\\' is not defined\\n'\n",
      "Failed to execute to_execute.py in Docker.\n",
      "Output: Saved the BQSKit circuit to /workspace/to_execute_qc_bqskit.qasm\n",
      "Saved the Pytket circuit to /workspace/to_execute_qc_pytket.qasm\n",
      "Exported QASM files: [('/workspace/to_execute_qc_bqskit.qasm', 'export_to_qasm_with_bqskit'), ('/workspace/to_execute_qc_pytket.qasm', 'export_to_qasm_with_pytket')]\n",
      "Log has been saved to /workspace/to_execute_1be6f2_error.json\n",
      "\n",
      "Program to_execute.py executed successfully.\n",
      "New exception message: The circuits are not equivalent: /workspace/to_execute_qc_bqskit.qasm, /workspace/to_execute_qc_pytket.qasm\n",
      "Error parsing: Command 'python /workspace/to_execute.py' in image 'qiskit_runner' returned non-zero exit status 1: b'  File \"/workspace/to_execute.py\", line 20\\n    , custom_instructions=qasm2.LEGACY_CUSTOM_INSTRUCTIONS)\\n                                                          ^\\nSyntaxError: unmatched \\')\\'\\n'\n",
      "Failed to execute to_execute.py in Docker.\n",
      "Error parsing: Command 'python /workspace/to_execute.py' in image 'qiskit_runner' returned non-zero exit status 1: b'  File \"/workspace/to_execute.py\", line 10\\n    qc = qasm2.loads(\\n                    ^\\nSyntaxError: \\'(\\' was never closed\\n'\n",
      "Failed to execute to_execute.py in Docker.\n",
      "Error parsing: Command 'python /workspace/to_execute.py' in image 'qiskit_runner' returned non-zero exit status 1: b'  File \"/workspace/to_execute.py\", line 27\\n    , custom_instructions=qasm2.LEGACY_CUSTOM_INSTRUCTIONS)\\n                                                          ^\\nSyntaxError: unmatched \\')\\'\\n'\n",
      "Failed to execute to_execute.py in Docker.\n",
      "Error parsing: Command 'python /workspace/to_execute.py' in image 'qiskit_runner' returned non-zero exit status 1: b'Traceback (most recent call last):\\n  File \"/workspace/to_execute.py\", line 10, in <module>\\n    qc = qasm2.loads(\\n  File \"/usr/local/lib/python3.10/site-packages/qiskit/qasm2/__init__.py\", line 587, in loads\\n    return _parse.from_bytecode(\\n  File \"/usr/local/lib/python3.10/site-packages/qiskit/qasm2/parse.py\", line 214, in from_bytecode\\n    for op in bc:\\nqiskit.qasm2.exceptions.QASM2ParseError: \"<input>:6,3: \\'reg_2_a\\' is not defined in this scope\"\\n'\n",
      "Failed to execute to_execute.py in Docker.\n",
      "Output: Saved the BQSKit circuit to /workspace/to_execute_qc_bqskit.qasm\n",
      "Saved the Pytket circuit to /workspace/to_execute_qc_pytket.qasm\n",
      "Exported QASM files: [('/workspace/to_execute_qc_bqskit.qasm', 'export_to_qasm_with_bqskit'), ('/workspace/to_execute_qc_pytket.qasm', 'export_to_qasm_with_pytket')]\n",
      "Log has been saved to /workspace/to_execute_1b63f2_error.json\n",
      "\n",
      "Program to_execute.py executed successfully.\n",
      "New exception message: The circuits are not equivalent: /workspace/to_execute_qc_bqskit.qasm, /workspace/to_execute_qc_pytket.qasm\n",
      "Error parsing: Command 'python /workspace/to_execute.py' in image 'qiskit_runner' returned non-zero exit status 1: b'  File \"/workspace/to_execute.py\", line 19\\n    , custom_instructions=qasm2.LEGACY_CUSTOM_INSTRUCTIONS)\\n                                                          ^\\nSyntaxError: unmatched \\')\\'\\n'\n",
      "Failed to execute to_execute.py in Docker.\n",
      "Error parsing: Command 'python /workspace/to_execute.py' in image 'qiskit_runner' returned non-zero exit status 1: b'Traceback (most recent call last):\\n  File \"/workspace/to_execute.py\", line 10, in <module>\\n    qc = qasm2.loads(\\n  File \"/usr/local/lib/python3.10/site-packages/qiskit/qasm2/__init__.py\", line 587, in loads\\n    return _parse.from_bytecode(\\n  File \"/usr/local/lib/python3.10/site-packages/qiskit/qasm2/parse.py\", line 214, in from_bytecode\\n    for op in bc:\\nqiskit.qasm2.exceptions.QASM2ParseError: \"<input>:4,2: \\'reg_1_q\\' is not defined in this scope\"\\n'\n",
      "Failed to execute to_execute.py in Docker.\n",
      "Error parsing: Command 'python /workspace/to_execute.py' in image 'qiskit_runner' returned non-zero exit status 1: b'  File \"/workspace/to_execute.py\", line 10\\n    qc = qasm2.loads(\\n                    ^\\nSyntaxError: \\'(\\' was never closed\\n'\n",
      "Failed to execute to_execute.py in Docker.\n",
      "Error parsing: Command 'python /workspace/to_execute.py' in image 'qiskit_runner' returned non-zero exit status 1: b'  File \"/workspace/to_execute.py\", line 21\\n    , custom_instructions=qasm2.LEGACY_CUSTOM_INSTRUCTIONS)\\n                                                          ^\\nSyntaxError: unmatched \\')\\'\\n'\n",
      "Failed to execute to_execute.py in Docker.\n",
      "Error parsing: Command 'python /workspace/to_execute.py' in image 'qiskit_runner' returned non-zero exit status 1: b'Traceback (most recent call last):\\n  File \"/workspace/to_execute.py\", line 10, in <module>\\n    qc = qasm2.loads(\\n  File \"/usr/local/lib/python3.10/site-packages/qiskit/qasm2/__init__.py\", line 587, in loads\\n    return _parse.from_bytecode(\\n  File \"/usr/local/lib/python3.10/site-packages/qiskit/qasm2/parse.py\", line 214, in from_bytecode\\n    for op in bc:\\nqiskit.qasm2.exceptions.QASM2ParseError: \"<input>:6,0: cannot use non-builtin custom instruction \\'h\\' before definition\"\\n'\n",
      "Failed to execute to_execute.py in Docker.\n",
      "Error parsing: Command 'python /workspace/to_execute.py' in image 'qiskit_runner' returned non-zero exit status 1: b'Traceback (most recent call last):\\n  File \"/workspace/to_execute.py\", line 10, in <module>\\n    qc = qasm2.loads(\\n  File \"/usr/local/lib/python3.10/site-packages/qiskit/qasm2/__init__.py\", line 587, in loads\\n    return _parse.from_bytecode(\\n  File \"/usr/local/lib/python3.10/site-packages/qiskit/qasm2/parse.py\", line 214, in from_bytecode\\n    for op in bc:\\nqiskit.qasm2.exceptions.QASM2ParseError: \"<input>:8,3: \\'reg_2_a\\' is not defined in this scope\"\\n'\n",
      "Failed to execute to_execute.py in Docker.\n",
      "Error parsing: Command 'python /workspace/to_execute.py' in image 'qiskit_runner' returned non-zero exit status 1: b'Traceback (most recent call last):\\n  File \"/workspace/to_execute.py\", line 10, in <module>\\n    qc = qasm2.loads(\\n  File \"/usr/local/lib/python3.10/site-packages/qiskit/qasm2/__init__.py\", line 587, in loads\\n    return _parse.from_bytecode(\\n  File \"/usr/local/lib/python3.10/site-packages/qiskit/qasm2/parse.py\", line 214, in from_bytecode\\n    for op in bc:\\nqiskit.qasm2.exceptions.QASM2ParseError: \"<input>:9,14: \\'reg_2_cout\\' is not defined in this scope\"\\n'\n",
      "Failed to execute to_execute.py in Docker.\n",
      "Output: Saved the BQSKit circuit to /workspace/to_execute_qc_bqskit.qasm\n",
      "Saved the Pytket circuit to /workspace/to_execute_qc_pytket.qasm\n",
      "Exported QASM files: [('/workspace/to_execute_qc_bqskit.qasm', 'export_to_qasm_with_bqskit'), ('/workspace/to_execute_qc_pytket.qasm', 'export_to_qasm_with_pytket')]\n",
      "The circuits are equivalent: /workspace/to_execute_qc_bqskit.qasm, /workspace/to_execute_qc_pytket.qasm\n",
      "\n",
      "Program to_execute.py executed successfully.\n",
      "Error parsing: Command 'python /workspace/to_execute.py' in image 'qiskit_runner' returned non-zero exit status 1: b'  File \"/workspace/to_execute.py\", line 10\\n    qc = qasm2.loads(\\n                    ^\\nSyntaxError: \\'(\\' was never closed\\n'\n",
      "Failed to execute to_execute.py in Docker.\n",
      "Error parsing: Command 'python /workspace/to_execute.py' in image 'qiskit_runner' returned non-zero exit status 1: b'  File \"/workspace/to_execute.py\", line 24\\n    , custom_instructions=qasm2.LEGACY_CUSTOM_INSTRUCTIONS)\\nIndentationError: unexpected indent\\n'\n",
      "Failed to execute to_execute.py in Docker.\n",
      "Output: Saved the BQSKit circuit to /workspace/to_execute_qc_bqskit.qasm\n",
      "Saved the Pytket circuit to /workspace/to_execute_qc_pytket.qasm\n",
      "Exported QASM files: [('/workspace/to_execute_qc_bqskit.qasm', 'export_to_qasm_with_bqskit'), ('/workspace/to_execute_qc_pytket.qasm', 'export_to_qasm_with_pytket')]\n",
      "Log has been saved to /workspace/to_execute_0482e1_error.json\n",
      "\n",
      "Program to_execute.py executed successfully.\n",
      "New exception message: The circuits are not equivalent: /workspace/to_execute_qc_bqskit.qasm, /workspace/to_execute_qc_pytket.qasm\n",
      "Error parsing: Command 'python /workspace/to_execute.py' in image 'qiskit_runner' returned non-zero exit status 1: b'  File \"/workspace/to_execute.py\", line 23\\n    , custom_instructions=qasm2.LEGACY_CUSTOM_INSTRUCTIONS)\\nIndentationError: unexpected indent\\n'\n",
      "Failed to execute to_execute.py in Docker.\n",
      "Error parsing: Command 'python /workspace/to_execute.py' in image 'qiskit_runner' returned non-zero exit status 1: b'  File \"/workspace/to_execute.py\", line 11\\n    OPENQASM 2.0;\\n    ^^^^^^^^^^^^\\nSyntaxError: invalid syntax. Perhaps you forgot a comma?\\n'\n",
      "Failed to execute to_execute.py in Docker.\n",
      "Output: Saved the BQSKit circuit to /workspace/to_execute_qc_bqskit.qasm\n",
      "Saved the Pytket circuit to /workspace/to_execute_qc_pytket.qasm\n",
      "Exported QASM files: [('/workspace/to_execute_qc_bqskit.qasm', 'export_to_qasm_with_bqskit'), ('/workspace/to_execute_qc_pytket.qasm', 'export_to_qasm_with_pytket')]\n",
      "Log has been saved to /workspace/to_execute_616c19_error.json\n",
      "\n",
      "Program to_execute.py executed successfully.\n",
      "New exception message: The circuits are not equivalent: /workspace/to_execute_qc_bqskit.qasm, /workspace/to_execute_qc_pytket.qasm\n",
      "Error parsing: Command 'python /workspace/to_execute.py' in image 'qiskit_runner' returned non-zero exit status 1: b'  File \"/workspace/to_execute.py\", line 22\\n    , custom_instructions=qasm2.LEGACY_CUSTOM_INSTRUCTIONS)\\nIndentationError: unexpected indent\\n'\n",
      "Failed to execute to_execute.py in Docker.\n",
      "Error parsing: Command 'python /workspace/to_execute.py' in image 'qiskit_runner' returned non-zero exit status 1: b'  File \"/workspace/to_execute.py\", line 11\\n    include \"qelib1.inc\";\\n            ^^^^^^^^^^^^\\nSyntaxError: invalid syntax\\n'\n",
      "Failed to execute to_execute.py in Docker.\n",
      "Error parsing: Command 'python /workspace/to_execute.py' in image 'qiskit_runner' returned non-zero exit status 1: b'Traceback (most recent call last):\\n  File \"/workspace/to_execute.py\", line 10, in <module>\\n    qc = qasm2.loads(\\n  File \"/usr/local/lib/python3.10/site-packages/qiskit/qasm2/__init__.py\", line 587, in loads\\n    return _parse.from_bytecode(\\n  File \"/usr/local/lib/python3.10/site-packages/qiskit/qasm2/parse.py\", line 214, in from_bytecode\\n    for op in bc:\\nqiskit.qasm2.exceptions.QASM2ParseError: \"<input>:6,0: cannot use non-builtin custom instruction \\'h\\' before definition\"\\n'\n",
      "Failed to execute to_execute.py in Docker.\n",
      "Output: Saved the BQSKit circuit to /workspace/to_execute_qc_bqskit.qasm\n",
      "Saved the Pytket circuit to /workspace/to_execute_qc_pytket.qasm\n",
      "Exported QASM files: [('/workspace/to_execute_qc_bqskit.qasm', 'export_to_qasm_with_bqskit'), ('/workspace/to_execute_qc_pytket.qasm', 'export_to_qasm_with_pytket')]\n",
      "The circuits are equivalent: /workspace/to_execute_qc_bqskit.qasm, /workspace/to_execute_qc_pytket.qasm\n",
      "\n",
      "Program to_execute.py executed successfully.\n",
      "Error parsing: Command 'python /workspace/to_execute.py' in image 'qiskit_runner' returned non-zero exit status 1: b'Traceback (most recent call last):\\n  File \"/workspace/to_execute.py\", line 10, in <module>\\n    qc = qasm2.loads(\\n  File \"/usr/local/lib/python3.10/site-packages/qiskit/qasm2/__init__.py\", line 587, in loads\\n    return _parse.from_bytecode(\\n  File \"/usr/local/lib/python3.10/site-packages/qiskit/qasm2/parse.py\", line 214, in from_bytecode\\n    for op in bc:\\nqiskit.qasm2.exceptions.QASM2ParseError: \"<input>:8,3: \\'reg_2_a\\' is not defined in this scope\"\\n'\n",
      "Failed to execute to_execute.py in Docker.\n",
      "Error parsing: Command 'python /workspace/to_execute.py' in image 'qiskit_runner' returned non-zero exit status 1: b'Traceback (most recent call last):\\n  File \"/workspace/to_execute.py\", line 10, in <module>\\n    qc = qasm2.loads(\\n  File \"/usr/local/lib/python3.10/site-packages/qiskit/qasm2/__init__.py\", line 587, in loads\\n    return _parse.from_bytecode(\\n  File \"/usr/local/lib/python3.10/site-packages/qiskit/qasm2/parse.py\", line 214, in from_bytecode\\n    for op in bc:\\nqiskit.qasm2.exceptions.QASM2ParseError: \"<input>:9,14: \\'reg_2_cout\\' is not defined in this scope\"\\n'\n",
      "Failed to execute to_execute.py in Docker.\n",
      "Output: Saved the BQSKit circuit to /workspace/to_execute_qc_bqskit.qasm\n",
      "Saved the Pytket circuit to /workspace/to_execute_qc_pytket.qasm\n",
      "Exported QASM files: [('/workspace/to_execute_qc_bqskit.qasm', 'export_to_qasm_with_bqskit'), ('/workspace/to_execute_qc_pytket.qasm', 'export_to_qasm_with_pytket')]\n",
      "Log has been saved to /workspace/to_execute_cdd1ce_error.json\n",
      "\n",
      "Program to_execute.py executed successfully.\n",
      "New exception message: The circuits are not equivalent: /workspace/to_execute_qc_bqskit.qasm, /workspace/to_execute_qc_pytket.qasm\n",
      "Error parsing: Command 'python /workspace/to_execute.py' in image 'qiskit_runner' returned non-zero exit status 1: b'  File \"/workspace/to_execute.py\", line 20\\n    , custom_instructions=qasm2.LEGACY_CUSTOM_INSTRUCTIONS)\\nIndentationError: unexpected indent\\n'\n",
      "Failed to execute to_execute.py in Docker.\n",
      "Error parsing: Command 'python /workspace/to_execute.py' in image 'qiskit_runner' returned non-zero exit status 1: b'  File \"/workspace/to_execute.py\", line 11\\n    include \"qelib1.inc\";\\n            ^^^^^^^^^^^^\\nSyntaxError: invalid syntax\\n'\n",
      "Failed to execute to_execute.py in Docker.\n",
      "Error parsing: Command 'python /workspace/to_execute.py' in image 'qiskit_runner' returned non-zero exit status 1: b'Traceback (most recent call last):\\n  File \"/workspace/to_execute.py\", line 10, in <module>\\n    qc = qasm2.loads(\\n  File \"/usr/local/lib/python3.10/site-packages/qiskit/qasm2/__init__.py\", line 587, in loads\\n    return _parse.from_bytecode(\\n  File \"/usr/local/lib/python3.10/site-packages/qiskit/qasm2/parse.py\", line 214, in from_bytecode\\n    for op in bc:\\nqiskit.qasm2.exceptions.QASM2ParseError: \"<input>:7,0: cannot use non-builtin custom instruction \\'cx\\' before definition\"\\n'\n",
      "Failed to execute to_execute.py in Docker.\n",
      "Output: Saved the BQSKit circuit to /workspace/to_execute_qc_bqskit.qasm\n",
      "Saved the Pytket circuit to /workspace/to_execute_qc_pytket.qasm\n",
      "Exported QASM files: [('/workspace/to_execute_qc_bqskit.qasm', 'export_to_qasm_with_bqskit'), ('/workspace/to_execute_qc_pytket.qasm', 'export_to_qasm_with_pytket')]\n",
      "The circuits are equivalent: /workspace/to_execute_qc_bqskit.qasm, /workspace/to_execute_qc_pytket.qasm\n",
      "\n",
      "Program to_execute.py executed successfully.\n",
      "Error parsing: Command 'python /workspace/to_execute.py' in image 'qiskit_runner' returned non-zero exit status 1: b'Traceback (most recent call last):\\n  File \"/workspace/to_execute.py\", line 10, in <module>\\n    qc = qasm2.loads(\\n  File \"/usr/local/lib/python3.10/site-packages/qiskit/qasm2/__init__.py\", line 587, in loads\\n    return _parse.from_bytecode(\\n  File \"/usr/local/lib/python3.10/site-packages/qiskit/qasm2/parse.py\", line 214, in from_bytecode\\n    for op in bc:\\nqiskit.qasm2.exceptions.QASM2ParseError: \"<input>:7,3: \\'reg_2_a\\' is not defined in this scope\"\\n'\n",
      "Failed to execute to_execute.py in Docker.\n",
      "Error parsing: Command 'python /workspace/to_execute.py' in image 'qiskit_runner' returned non-zero exit status 1: b'Traceback (most recent call last):\\n  File \"/workspace/to_execute.py\", line 10, in <module>\\n    qc = qasm2.loads(\\n  File \"/usr/local/lib/python3.10/site-packages/qiskit/qasm2/__init__.py\", line 587, in loads\\n    return _parse.from_bytecode(\\n  File \"/usr/local/lib/python3.10/site-packages/qiskit/qasm2/parse.py\", line 214, in from_bytecode\\n    for op in bc:\\nqiskit.qasm2.exceptions.QASM2ParseError: \"<input>:6,14: \\'reg_2_cout\\' is not defined in this scope\"\\n'\n",
      "Failed to execute to_execute.py in Docker.\n",
      "Output: Saved the BQSKit circuit to /workspace/to_execute_qc_bqskit.qasm\n",
      "Saved the Pytket circuit to /workspace/to_execute_qc_pytket.qasm\n",
      "Exported QASM files: [('/workspace/to_execute_qc_bqskit.qasm', 'export_to_qasm_with_bqskit'), ('/workspace/to_execute_qc_pytket.qasm', 'export_to_qasm_with_pytket')]\n",
      "Log has been saved to /workspace/to_execute_601ffa_error.json\n",
      "\n",
      "Program to_execute.py executed successfully.\n",
      "New exception message: The circuits are not equivalent: /workspace/to_execute_qc_bqskit.qasm, /workspace/to_execute_qc_pytket.qasm\n",
      "Error parsing: Command 'python /workspace/to_execute.py' in image 'qiskit_runner' returned non-zero exit status 1: b'  File \"/workspace/to_execute.py\", line 19\\n    , custom_instructions=qasm2.LEGACY_CUSTOM_INSTRUCTIONS)\\nIndentationError: unexpected indent\\n'\n",
      "Failed to execute to_execute.py in Docker.\n",
      "Error parsing: Command 'python /workspace/to_execute.py' in image 'qiskit_runner' returned non-zero exit status 1: b'  File \"/workspace/to_execute.py\", line 11\\n    include \"qelib1.inc\";\\n            ^^^^^^^^^^^^\\nSyntaxError: invalid syntax\\n'\n",
      "Failed to execute to_execute.py in Docker.\n",
      "Error parsing: Command 'python /workspace/to_execute.py' in image 'qiskit_runner' returned non-zero exit status 1: b'Traceback (most recent call last):\\n  File \"/workspace/to_execute.py\", line 10, in <module>\\n    qc = qasm2.loads(\\n  File \"/usr/local/lib/python3.10/site-packages/qiskit/qasm2/__init__.py\", line 587, in loads\\n    return _parse.from_bytecode(\\n  File \"/usr/local/lib/python3.10/site-packages/qiskit/qasm2/parse.py\", line 214, in from_bytecode\\n    for op in bc:\\nqiskit.qasm2.exceptions.QASM2ParseError: \"<input>:6,0: cannot use non-builtin custom instruction \\'cx\\' before definition\"\\n'\n",
      "Failed to execute to_execute.py in Docker.\n",
      "Output: Saved the BQSKit circuit to /workspace/to_execute_qc_bqskit.qasm\n",
      "Saved the Pytket circuit to /workspace/to_execute_qc_pytket.qasm\n",
      "Exported QASM files: [('/workspace/to_execute_qc_bqskit.qasm', 'export_to_qasm_with_bqskit'), ('/workspace/to_execute_qc_pytket.qasm', 'export_to_qasm_with_pytket')]\n",
      "The circuits are equivalent: /workspace/to_execute_qc_bqskit.qasm, /workspace/to_execute_qc_pytket.qasm\n",
      "\n",
      "Program to_execute.py executed successfully.\n",
      "Error parsing: Command 'python /workspace/to_execute.py' in image 'qiskit_runner' returned non-zero exit status 1: b'Traceback (most recent call last):\\n  File \"/workspace/to_execute.py\", line 10, in <module>\\n    qc = qasm2.loads(\\n  File \"/usr/local/lib/python3.10/site-packages/qiskit/qasm2/__init__.py\", line 587, in loads\\n    return _parse.from_bytecode(\\n  File \"/usr/local/lib/python3.10/site-packages/qiskit/qasm2/parse.py\", line 214, in from_bytecode\\n    for op in bc:\\nqiskit.qasm2.exceptions.QASM2ParseError: \"<input>:6,3: \\'reg_2_a\\' is not defined in this scope\"\\n'\n",
      "Failed to execute to_execute.py in Docker.\n",
      "Output: Saved the BQSKit circuit to /workspace/to_execute_qc_bqskit.qasm\n",
      "Saved the Pytket circuit to /workspace/to_execute_qc_pytket.qasm\n",
      "Exported QASM files: [('/workspace/to_execute_qc_bqskit.qasm', 'export_to_qasm_with_bqskit'), ('/workspace/to_execute_qc_pytket.qasm', 'export_to_qasm_with_pytket')]\n",
      "Log has been saved to /workspace/to_execute_fab08b_error.json\n",
      "\n",
      "Program to_execute.py executed successfully.\n",
      "New exception message: The circuits are not equivalent: /workspace/to_execute_qc_bqskit.qasm, /workspace/to_execute_qc_pytket.qasm\n",
      "Error parsing: Command 'python /workspace/to_execute.py' in image 'qiskit_runner' returned non-zero exit status 1: b'  File \"/workspace/to_execute.py\", line 18\\n    , custom_instructions=qasm2.LEGACY_CUSTOM_INSTRUCTIONS)\\nIndentationError: unexpected indent\\n'\n",
      "Failed to execute to_execute.py in Docker.\n",
      "Error parsing: Command 'python /workspace/to_execute.py' in image 'qiskit_runner' returned non-zero exit status 1: b'  File \"/workspace/to_execute.py\", line 11\\n    qreg reg_1_q[2];\\n    ^^^^^^^^^^^^^^^\\nSyntaxError: invalid syntax. Perhaps you forgot a comma?\\n'\n",
      "Failed to execute to_execute.py in Docker.\n",
      "Output: Saved the BQSKit circuit to /workspace/to_execute_qc_bqskit.qasm\n",
      "Saved the Pytket circuit to /workspace/to_execute_qc_pytket.qasm\n",
      "Exported QASM files: [('/workspace/to_execute_qc_bqskit.qasm', 'export_to_qasm_with_bqskit'), ('/workspace/to_execute_qc_pytket.qasm', 'export_to_qasm_with_pytket')]\n",
      "Log has been saved to /workspace/to_execute_df617c_error.json\n",
      "\n",
      "Program to_execute.py executed successfully.\n",
      "New exception message: The circuits are not equivalent: /workspace/to_execute_qc_bqskit.qasm, /workspace/to_execute_qc_pytket.qasm\n",
      "Error parsing: Command 'python /workspace/to_execute.py' in image 'qiskit_runner' returned non-zero exit status 1: b'  File \"/workspace/to_execute.py\", line 15\\n    , custom_instructions=qasm2.LEGACY_CUSTOM_INSTRUCTIONS)\\n                                                          ^\\nSyntaxError: unmatched \\')\\'\\n'\n",
      "Failed to execute to_execute.py in Docker.\n",
      "Error parsing: Command 'python /workspace/to_execute.py' in image 'qiskit_runner' returned non-zero exit status 1: b'Traceback (most recent call last):\\n  File \"/workspace/to_execute.py\", line 10, in <module>\\n    qc = qasm2.loads(\\n  File \"/usr/local/lib/python3.10/site-packages/qiskit/qasm2/__init__.py\", line 587, in loads\\n    return _parse.from_bytecode(\\n  File \"/usr/local/lib/python3.10/site-packages/qiskit/qasm2/parse.py\", line 214, in from_bytecode\\n    for op in bc:\\nqiskit.qasm2.exceptions.QASM2ParseError: \"<input>:5,0: cannot use non-builtin custom instruction \\'cx\\' before definition\"\\n'\n",
      "Failed to execute to_execute.py in Docker.\n",
      "Error parsing: Command 'python /workspace/to_execute.py' in image 'qiskit_runner' returned non-zero exit status 1: b'Traceback (most recent call last):\\n  File \"/workspace/to_execute.py\", line 10, in <module>\\n    qc = qasm2.loads(\\n  File \"/usr/local/lib/python3.10/site-packages/qiskit/qasm2/__init__.py\", line 587, in loads\\n    return _parse.from_bytecode(\\n  File \"/usr/local/lib/python3.10/site-packages/qiskit/qasm2/parse.py\", line 214, in from_bytecode\\n    for op in bc:\\nqiskit.qasm2.exceptions.QASM2ParseError: \"<input>:4,3: \\'reg_2_a\\' is not defined in this scope\"\\n'\n",
      "Failed to execute to_execute.py in Docker.\n",
      "Error parsing: Command 'python /workspace/to_execute.py' in image 'qiskit_runner' returned non-zero exit status 1: b'Traceback (most recent call last):\\n  File \"/workspace/to_execute.py\", line 10, in <module>\\n    qc = qasm2.loads(\\n  File \"/usr/local/lib/python3.10/site-packages/qiskit/qasm2/__init__.py\", line 587, in loads\\n    return _parse.from_bytecode(\\n  File \"/usr/local/lib/python3.10/site-packages/qiskit/qasm2/parse.py\", line 214, in from_bytecode\\n    for op in bc:\\nqiskit.qasm2.exceptions.QASM2ParseError: \"<input>:5,14: \\'reg_2_b\\' is not defined in this scope\"\\n'\n",
      "Failed to execute to_execute.py in Docker.\n",
      "Error parsing: Command 'python /workspace/to_execute.py' in image 'qiskit_runner' returned non-zero exit status 1: b'  File \"/workspace/to_execute.py\", line 11\\n    include \"qelib1.inc\";\\n            ^^^^^^^^^^^^\\nSyntaxError: invalid syntax\\n'\n",
      "Failed to execute to_execute.py in Docker.\n",
      "Error parsing: Command 'python /workspace/to_execute.py' in image 'qiskit_runner' returned non-zero exit status 1: b'  File \"/workspace/to_execute.py\", line 10\\n    qc = qasm2.loads(\\n                    ^\\nSyntaxError: \\'(\\' was never closed\\n'\n",
      "Failed to execute to_execute.py in Docker.\n",
      "Error parsing: Command 'python /workspace/to_execute.py' in image 'qiskit_runner' returned non-zero exit status 1: b'  File \"/workspace/to_execute.py\", line 17\\n    , custom_instructions=qasm2.LEGACY_CUSTOM_INSTRUCTIONS)\\nIndentationError: unexpected indent\\n'\n",
      "Failed to execute to_execute.py in Docker.\n",
      "Error parsing: Command 'python /workspace/to_execute.py' in image 'qiskit_runner' returned non-zero exit status 1: b'  File \"/workspace/to_execute.py\", line 11\\n    include \"qelib1.inc\";\\n            ^^^^^^^^^^^^\\nSyntaxError: invalid syntax\\n'\n",
      "Failed to execute to_execute.py in Docker.\n",
      "Error parsing: Command 'python /workspace/to_execute.py' in image 'qiskit_runner' returned non-zero exit status 1: b'Traceback (most recent call last):\\n  File \"/workspace/to_execute.py\", line 10, in <module>\\n    qc = qasm2.loads(\\n  File \"/usr/local/lib/python3.10/site-packages/qiskit/qasm2/__init__.py\", line 587, in loads\\n    return _parse.from_bytecode(\\n  File \"/usr/local/lib/python3.10/site-packages/qiskit/qasm2/parse.py\", line 214, in from_bytecode\\n    for op in bc:\\nqiskit.qasm2.exceptions.QASM2ParseError: \"<input>:5,0: cannot use non-builtin custom instruction \\'cx\\' before definition\"\\n'\n",
      "Failed to execute to_execute.py in Docker.\n",
      "Output: Saved the BQSKit circuit to /workspace/to_execute_qc_bqskit.qasm\n",
      "Saved the Pytket circuit to /workspace/to_execute_qc_pytket.qasm\n",
      "Exported QASM files: [('/workspace/to_execute_qc_bqskit.qasm', 'export_to_qasm_with_bqskit'), ('/workspace/to_execute_qc_pytket.qasm', 'export_to_qasm_with_pytket')]\n",
      "The circuits are equivalent: /workspace/to_execute_qc_bqskit.qasm, /workspace/to_execute_qc_pytket.qasm\n",
      "\n",
      "Program to_execute.py executed successfully.\n",
      "Error parsing: Command 'python /workspace/to_execute.py' in image 'qiskit_runner' returned non-zero exit status 1: b'Traceback (most recent call last):\\n  File \"/workspace/to_execute.py\", line 10, in <module>\\n    qc = qasm2.loads(\\n  File \"/usr/local/lib/python3.10/site-packages/qiskit/qasm2/__init__.py\", line 587, in loads\\n    return _parse.from_bytecode(\\n  File \"/usr/local/lib/python3.10/site-packages/qiskit/qasm2/parse.py\", line 214, in from_bytecode\\n    for op in bc:\\nqiskit.qasm2.exceptions.QASM2ParseError: \"<input>:5,3: \\'reg_2_a\\' is not defined in this scope\"\\n'\n",
      "Failed to execute to_execute.py in Docker.\n",
      "Error parsing: Command 'python /workspace/to_execute.py' in image 'qiskit_runner' returned non-zero exit status 1: b'Traceback (most recent call last):\\n  File \"/workspace/to_execute.py\", line 10, in <module>\\n    qc = qasm2.loads(\\n  File \"/usr/local/lib/python3.10/site-packages/qiskit/qasm2/__init__.py\", line 587, in loads\\n    return _parse.from_bytecode(\\n  File \"/usr/local/lib/python3.10/site-packages/qiskit/qasm2/parse.py\", line 214, in from_bytecode\\n    for op in bc:\\nqiskit.qasm2.exceptions.QASM2ParseError: \"<input>:5,14: \\'reg_2_b\\' is not defined in this scope\"\\n'\n",
      "Failed to execute to_execute.py in Docker.\n",
      "Output: Saved the BQSKit circuit to /workspace/to_execute_qc_bqskit.qasm\n",
      "Saved the Pytket circuit to /workspace/to_execute_qc_pytket.qasm\n",
      "Exported QASM files: [('/workspace/to_execute_qc_bqskit.qasm', 'export_to_qasm_with_bqskit'), ('/workspace/to_execute_qc_pytket.qasm', 'export_to_qasm_with_pytket')]\n",
      "The circuits are equivalent: /workspace/to_execute_qc_bqskit.qasm, /workspace/to_execute_qc_pytket.qasm\n",
      "\n",
      "Program to_execute.py executed successfully.\n",
      "Error parsing: Command 'python /workspace/to_execute.py' in image 'qiskit_runner' returned non-zero exit status 1: b'  File \"/workspace/to_execute.py\", line 11\\n    include \"qelib1.inc\";\\n            ^^^^^^^^^^^^\\nSyntaxError: invalid syntax\\n'\n",
      "Failed to execute to_execute.py in Docker.\n",
      "Error parsing: Command 'python /workspace/to_execute.py' in image 'qiskit_runner' returned non-zero exit status 1: b'  File \"/workspace/to_execute.py\", line 10\\n    qc = qasm2.loads(\\n                    ^\\nSyntaxError: \\'(\\' was never closed\\n'\n",
      "Failed to execute to_execute.py in Docker.\n"
     ]
    },
    {
     "data": {
      "text/html": [
       "<pre style=\"white-space:pre;overflow-x:auto;line-height:normal;font-family:Menlo,'DejaVu Sans Mono',consolas,'Courier New',monospace\"><span style=\"color: #7fbfbf; text-decoration-color: #7fbfbf\">[15:19:58] </span><span style=\"color: #008000; text-decoration-color: #008000\">Minimized file saved as:</span>                                                        <a href=\"file:///home/paltenmo/projects/crossplatform/analysis_and_reporting/ddmin_target_file.py\" target=\"_blank\"><span style=\"color: #7f7f7f; text-decoration-color: #7f7f7f\">ddmin_target_file.py</span></a><span style=\"color: #7f7f7f; text-decoration-color: #7f7f7f\">:</span><a href=\"file:///home/paltenmo/projects/crossplatform/analysis_and_reporting/ddmin_target_file.py#240\" target=\"_blank\"><span style=\"color: #7f7f7f; text-decoration-color: #7f7f7f\">240</span></a>\n",
       "<span style=\"color: #7fbfbf; text-decoration-color: #7fbfbf\">           </span>..<span style=\"color: #800080; text-decoration-color: #800080\">/reports/v009/2024_11_21__15_15/</span><span style=\"color: #ff00ff; text-decoration-color: #ff00ff\">qiskit_circuit_5q_10g_609_0c26d1_ee02f4_error</span> <span style=\"color: #7f7f7f; text-decoration-color: #7f7f7f\">                        </span>\n",
       "<span style=\"color: #7fbfbf; text-decoration-color: #7fbfbf\">           </span><span style=\"color: #ff00ff; text-decoration-color: #ff00ff\">_min.py</span>                                                                         <span style=\"color: #7f7f7f; text-decoration-color: #7f7f7f\">                        </span>\n",
       "</pre>\n"
      ],
      "text/plain": [
       "\u001b[2;36m[15:19:58]\u001b[0m\u001b[2;36m \u001b[0m\u001b[32mMinimized file saved as:\u001b[0m                                                        \u001b]8;id=705857;file:///home/paltenmo/projects/crossplatform/analysis_and_reporting/ddmin_target_file.py\u001b\\\u001b[2mddmin_target_file.py\u001b[0m\u001b]8;;\u001b\\\u001b[2m:\u001b[0m\u001b]8;id=577998;file:///home/paltenmo/projects/crossplatform/analysis_and_reporting/ddmin_target_file.py#240\u001b\\\u001b[2m240\u001b[0m\u001b]8;;\u001b\\\n",
       "\u001b[2;36m           \u001b[0m..\u001b[35m/reports/v009/2024_11_21__15_15/\u001b[0m\u001b[95mqiskit_circuit_5q_10g_609_0c26d1_ee02f4_error\u001b[0m \u001b[2m                        \u001b[0m\n",
       "\u001b[2;36m           \u001b[0m\u001b[95m_min.py\u001b[0m                                                                         \u001b[2m                        \u001b[0m\n"
      ]
     },
     "metadata": {},
     "output_type": "display_data"
    },
    {
     "name": "stdout",
     "output_type": "stream",
     "text": [
      "Output: Saved the BQSKit circuit to /workspace/qiskit_circuit_5q_10g_609_0c26d1_ee02f4_error_min_qc_bqskit.qasm\n",
      "Saved the Pytket circuit to /workspace/qiskit_circuit_5q_10g_609_0c26d1_ee02f4_error_min_qc_pytket.qasm\n",
      "Exported QASM files: [('/workspace/qiskit_circuit_5q_10g_609_0c26d1_ee02f4_error_min_qc_bqskit.qasm', 'export_to_qasm_with_bqskit'), ('/workspace/qiskit_circuit_5q_10g_609_0c26d1_ee02f4_error_min_qc_pytket.qasm', 'export_to_qasm_with_pytket')]\n",
      "Log has been saved to /workspace/qiskit_circuit_5q_10g_609_0c26d1_ee02f4_error_min_fefa9c_error.json\n",
      "\n"
     ]
    },
    {
     "data": {
      "text/html": [
       "<pre style=\"white-space:pre;overflow-x:auto;line-height:normal;font-family:Menlo,'DejaVu Sans Mono',consolas,'Courier New',monospace\"><span style=\"color: #7fbfbf; text-decoration-color: #7fbfbf\">[15:20:05] </span>Program qiskit_circuit_5q_10g_609_0c26d1_ee02f4_error_min.py executed successfully. <a href=\"file:///home/paltenmo/projects/crossplatform/generators/docker_tooling.py\" target=\"_blank\"><span style=\"color: #7f7f7f; text-decoration-color: #7f7f7f\">docker_tooling.py</span></a><span style=\"color: #7f7f7f; text-decoration-color: #7f7f7f\">:</span><a href=\"file:///home/paltenmo/projects/crossplatform/generators/docker_tooling.py#46\" target=\"_blank\"><span style=\"color: #7f7f7f; text-decoration-color: #7f7f7f\">46</span></a>\n",
       "</pre>\n"
      ],
      "text/plain": [
       "\u001b[2;36m[15:20:05]\u001b[0m\u001b[2;36m \u001b[0mProgram qiskit_circuit_5q_10g_609_0c26d1_ee02f4_error_min.py executed successfully. \u001b]8;id=278372;file:///home/paltenmo/projects/crossplatform/generators/docker_tooling.py\u001b\\\u001b[2mdocker_tooling.py\u001b[0m\u001b]8;;\u001b\\\u001b[2m:\u001b[0m\u001b]8;id=644727;file:///home/paltenmo/projects/crossplatform/generators/docker_tooling.py#46\u001b\\\u001b[2m46\u001b[0m\u001b]8;;\u001b\\\n"
      ]
     },
     "metadata": {},
     "output_type": "display_data"
    },
    {
     "data": {
      "application/vnd.jupyter.widget-view+json": {
       "model_id": "3e7839f705014edcabd91dd3c8525fe4",
       "version_major": 2,
       "version_minor": 0
      },
      "text/plain": [
       "Executing:   0%|          | 0/13 [00:00<?, ?cell/s]"
      ]
     },
     "metadata": {},
     "output_type": "display_data"
    },
    {
     "data": {
      "text/html": [
       "<pre style=\"white-space:pre;overflow-x:auto;line-height:normal;font-family:Menlo,'DejaVu Sans Mono',consolas,'Courier New',monospace\"><span style=\"color: #7fbfbf; text-decoration-color: #7fbfbf\">[15:20:08] </span>Analysis notebook executed: ..<span style=\"color: #800080; text-decoration-color: #800080\">/reports/v009/2024_11_21__15_15/</span><span style=\"color: #ff00ff; text-decoration-color: #ff00ff\">analysis_output.ipynb</span>        <a href=\"file:///home/paltenmo/projects/crossplatform/analysis_and_reporting/triage.py\" target=\"_blank\"><span style=\"color: #7f7f7f; text-decoration-color: #7f7f7f\">triage.py</span></a><span style=\"color: #7f7f7f; text-decoration-color: #7f7f7f\">:</span><a href=\"file:///home/paltenmo/projects/crossplatform/analysis_and_reporting/triage.py#163\" target=\"_blank\"><span style=\"color: #7f7f7f; text-decoration-color: #7f7f7f\">163</span></a>\n",
       "</pre>\n"
      ],
      "text/plain": [
       "\u001b[2;36m[15:20:08]\u001b[0m\u001b[2;36m \u001b[0mAnalysis notebook executed: ..\u001b[35m/reports/v009/2024_11_21__15_15/\u001b[0m\u001b[95manalysis_output.ipynb\u001b[0m        \u001b]8;id=329862;file:///home/paltenmo/projects/crossplatform/analysis_and_reporting/triage.py\u001b\\\u001b[2mtriage.py\u001b[0m\u001b]8;;\u001b\\\u001b[2m:\u001b[0m\u001b]8;id=553211;file:///home/paltenmo/projects/crossplatform/analysis_and_reporting/triage.py#163\u001b\\\u001b[2m163\u001b[0m\u001b]8;;\u001b\\\n"
      ]
     },
     "metadata": {},
     "output_type": "display_data"
    },
    {
     "data": {
      "text/html": [
       "<pre style=\"white-space:pre;overflow-x:auto;line-height:normal;font-family:Menlo,'DejaVu Sans Mono',consolas,'Courier New',monospace\"><span style=\"color: #7fbfbf; text-decoration-color: #7fbfbf\">           </span>Created report folder: ..<span style=\"color: #800080; text-decoration-color: #800080\">/reports/v009/</span><span style=\"color: #ff00ff; text-decoration-color: #ff00ff\">2024_11_21__15_20</span>                                   <a href=\"file:///home/paltenmo/projects/crossplatform/analysis_and_reporting/triage.py\" target=\"_blank\"><span style=\"color: #7f7f7f; text-decoration-color: #7f7f7f\">triage.py</span></a><span style=\"color: #7f7f7f; text-decoration-color: #7f7f7f\">:</span><a href=\"file:///home/paltenmo/projects/crossplatform/analysis_and_reporting/triage.py#131\" target=\"_blank\"><span style=\"color: #7f7f7f; text-decoration-color: #7f7f7f\">131</span></a>\n",
       "</pre>\n"
      ],
      "text/plain": [
       "\u001b[2;36m          \u001b[0m\u001b[2;36m \u001b[0mCreated report folder: ..\u001b[35m/reports/v009/\u001b[0m\u001b[95m2024_11_21__15_20\u001b[0m                                   \u001b]8;id=15674;file:///home/paltenmo/projects/crossplatform/analysis_and_reporting/triage.py\u001b\\\u001b[2mtriage.py\u001b[0m\u001b]8;;\u001b\\\u001b[2m:\u001b[0m\u001b]8;id=699119;file:///home/paltenmo/projects/crossplatform/analysis_and_reporting/triage.py#131\u001b\\\u001b[2m131\u001b[0m\u001b]8;;\u001b\\\n"
      ]
     },
     "metadata": {},
     "output_type": "display_data"
    },
    {
     "data": {
      "text/html": [
       "<pre style=\"white-space:pre;overflow-x:auto;line-height:normal;font-family:Menlo,'DejaVu Sans Mono',consolas,'Courier New',monospace\"><span style=\"color: #7fbfbf; text-decoration-color: #7fbfbf\">           </span>Copied files to: ..<span style=\"color: #800080; text-decoration-color: #800080\">/reports/v009/</span><span style=\"color: #ff00ff; text-decoration-color: #ff00ff\">2024_11_21__15_20</span>                                         <a href=\"file:///home/paltenmo/projects/crossplatform/analysis_and_reporting/triage.py\" target=\"_blank\"><span style=\"color: #7f7f7f; text-decoration-color: #7f7f7f\">triage.py</span></a><span style=\"color: #7f7f7f; text-decoration-color: #7f7f7f\">:</span><a href=\"file:///home/paltenmo/projects/crossplatform/analysis_and_reporting/triage.py#140\" target=\"_blank\"><span style=\"color: #7f7f7f; text-decoration-color: #7f7f7f\">140</span></a>\n",
       "</pre>\n"
      ],
      "text/plain": [
       "\u001b[2;36m          \u001b[0m\u001b[2;36m \u001b[0mCopied files to: ..\u001b[35m/reports/v009/\u001b[0m\u001b[95m2024_11_21__15_20\u001b[0m                                         \u001b]8;id=965951;file:///home/paltenmo/projects/crossplatform/analysis_and_reporting/triage.py\u001b\\\u001b[2mtriage.py\u001b[0m\u001b]8;;\u001b\\\u001b[2m:\u001b[0m\u001b]8;id=640382;file:///home/paltenmo/projects/crossplatform/analysis_and_reporting/triage.py#140\u001b\\\u001b[2m140\u001b[0m\u001b]8;;\u001b\\\n"
      ]
     },
     "metadata": {},
     "output_type": "display_data"
    },
    {
     "data": {
      "text/html": [
       "<pre style=\"white-space:pre;overflow-x:auto;line-height:normal;font-family:Menlo,'DejaVu Sans Mono',consolas,'Courier New',monospace\"><span style=\"color: #7fbfbf; text-decoration-color: #7fbfbf\">[15:20:08] </span>Involved functions:                                                             <a href=\"file:///home/paltenmo/projects/crossplatform/analysis_and_reporting/ddmin_target_file.py\" target=\"_blank\"><span style=\"color: #7f7f7f; text-decoration-color: #7f7f7f\">ddmin_target_file.py</span></a><span style=\"color: #7f7f7f; text-decoration-color: #7f7f7f\">:</span><a href=\"file:///home/paltenmo/projects/crossplatform/analysis_and_reporting/ddmin_target_file.py#206\" target=\"_blank\"><span style=\"color: #7f7f7f; text-decoration-color: #7f7f7f\">206</span></a>\n",
       "</pre>\n"
      ],
      "text/plain": [
       "\u001b[2;36m[15:20:08]\u001b[0m\u001b[2;36m \u001b[0mInvolved functions:                                                             \u001b]8;id=308250;file:///home/paltenmo/projects/crossplatform/analysis_and_reporting/ddmin_target_file.py\u001b\\\u001b[2mddmin_target_file.py\u001b[0m\u001b]8;;\u001b\\\u001b[2m:\u001b[0m\u001b]8;id=994586;file:///home/paltenmo/projects/crossplatform/analysis_and_reporting/ddmin_target_file.py#206\u001b\\\u001b[2m206\u001b[0m\u001b]8;;\u001b\\\n"
      ]
     },
     "metadata": {},
     "output_type": "display_data"
    },
    {
     "data": {
      "text/html": [
       "<pre style=\"white-space:pre;overflow-x:auto;line-height:normal;font-family:Menlo,'DejaVu Sans Mono',consolas,'Courier New',monospace\"><span style=\"color: #7fbfbf; text-decoration-color: #7fbfbf\">           </span>  - compare_qasm_via_qcec                                                       <a href=\"file:///home/paltenmo/projects/crossplatform/analysis_and_reporting/ddmin_target_file.py\" target=\"_blank\"><span style=\"color: #7f7f7f; text-decoration-color: #7f7f7f\">ddmin_target_file.py</span></a><span style=\"color: #7f7f7f; text-decoration-color: #7f7f7f\">:</span><a href=\"file:///home/paltenmo/projects/crossplatform/analysis_and_reporting/ddmin_target_file.py#208\" target=\"_blank\"><span style=\"color: #7f7f7f; text-decoration-color: #7f7f7f\">208</span></a>\n",
       "</pre>\n"
      ],
      "text/plain": [
       "\u001b[2;36m          \u001b[0m\u001b[2;36m \u001b[0m  - compare_qasm_via_qcec                                                       \u001b]8;id=221735;file:///home/paltenmo/projects/crossplatform/analysis_and_reporting/ddmin_target_file.py\u001b\\\u001b[2mddmin_target_file.py\u001b[0m\u001b]8;;\u001b\\\u001b[2m:\u001b[0m\u001b]8;id=671155;file:///home/paltenmo/projects/crossplatform/analysis_and_reporting/ddmin_target_file.py#208\u001b\\\u001b[2m208\u001b[0m\u001b]8;;\u001b\\\n"
      ]
     },
     "metadata": {},
     "output_type": "display_data"
    },
    {
     "data": {
      "text/html": [
       "<pre style=\"white-space:pre;overflow-x:auto;line-height:normal;font-family:Menlo,'DejaVu Sans Mono',consolas,'Courier New',monospace\"><span style=\"color: #7fbfbf; text-decoration-color: #7fbfbf\">           </span>  - export_to_qasm_with_bqskit                                                  <a href=\"file:///home/paltenmo/projects/crossplatform/analysis_and_reporting/ddmin_target_file.py\" target=\"_blank\"><span style=\"color: #7f7f7f; text-decoration-color: #7f7f7f\">ddmin_target_file.py</span></a><span style=\"color: #7f7f7f; text-decoration-color: #7f7f7f\">:</span><a href=\"file:///home/paltenmo/projects/crossplatform/analysis_and_reporting/ddmin_target_file.py#208\" target=\"_blank\"><span style=\"color: #7f7f7f; text-decoration-color: #7f7f7f\">208</span></a>\n",
       "</pre>\n"
      ],
      "text/plain": [
       "\u001b[2;36m          \u001b[0m\u001b[2;36m \u001b[0m  - export_to_qasm_with_bqskit                                                  \u001b]8;id=698568;file:///home/paltenmo/projects/crossplatform/analysis_and_reporting/ddmin_target_file.py\u001b\\\u001b[2mddmin_target_file.py\u001b[0m\u001b]8;;\u001b\\\u001b[2m:\u001b[0m\u001b]8;id=544819;file:///home/paltenmo/projects/crossplatform/analysis_and_reporting/ddmin_target_file.py#208\u001b\\\u001b[2m208\u001b[0m\u001b]8;;\u001b\\\n"
      ]
     },
     "metadata": {},
     "output_type": "display_data"
    },
    {
     "data": {
      "text/html": [
       "<pre style=\"white-space:pre;overflow-x:auto;line-height:normal;font-family:Menlo,'DejaVu Sans Mono',consolas,'Courier New',monospace\"><span style=\"color: #7fbfbf; text-decoration-color: #7fbfbf\">           </span>  - export_to_qasm_with_pytket                                                  <a href=\"file:///home/paltenmo/projects/crossplatform/analysis_and_reporting/ddmin_target_file.py\" target=\"_blank\"><span style=\"color: #7f7f7f; text-decoration-color: #7f7f7f\">ddmin_target_file.py</span></a><span style=\"color: #7f7f7f; text-decoration-color: #7f7f7f\">:</span><a href=\"file:///home/paltenmo/projects/crossplatform/analysis_and_reporting/ddmin_target_file.py#208\" target=\"_blank\"><span style=\"color: #7f7f7f; text-decoration-color: #7f7f7f\">208</span></a>\n",
       "</pre>\n"
      ],
      "text/plain": [
       "\u001b[2;36m          \u001b[0m\u001b[2;36m \u001b[0m  - export_to_qasm_with_pytket                                                  \u001b]8;id=663922;file:///home/paltenmo/projects/crossplatform/analysis_and_reporting/ddmin_target_file.py\u001b\\\u001b[2mddmin_target_file.py\u001b[0m\u001b]8;;\u001b\\\u001b[2m:\u001b[0m\u001b]8;id=494599;file:///home/paltenmo/projects/crossplatform/analysis_and_reporting/ddmin_target_file.py#208\u001b\\\u001b[2m208\u001b[0m\u001b]8;;\u001b\\\n"
      ]
     },
     "metadata": {},
     "output_type": "display_data"
    },
    {
     "name": "stdout",
     "output_type": "stream",
     "text": [
      "Error parsing: Command 'python /workspace/to_execute.py' in image 'qiskit_runner' returned non-zero exit status 1: b'Traceback (most recent call last):\\n  File \"/workspace/to_execute.py\", line 106, in <module>\\n    target_qc = qc\\nNameError: name \\'qc\\' is not defined\\n'\n",
      "Failed to execute to_execute.py in Docker.\n",
      "Output: Saved the BQSKit circuit to /workspace/to_execute_qc_bqskit.qasm\n",
      "Saved the Pytket circuit to /workspace/to_execute_qc_pytket.qasm\n",
      "Exported QASM files: [('/workspace/to_execute_qc_bqskit.qasm', 'export_to_qasm_with_bqskit'), ('/workspace/to_execute_qc_pytket.qasm', 'export_to_qasm_with_pytket')]\n",
      "Log has been saved to /workspace/to_execute_17ef87_error.json\n",
      "\n",
      "Program to_execute.py executed successfully.\n",
      "New exception message: The circuits are not equivalent: /workspace/to_execute_qc_bqskit.qasm, /workspace/to_execute_qc_pytket.qasm\n",
      "Error parsing: Command 'python /workspace/to_execute.py' in image 'qiskit_runner' returned non-zero exit status 1: b'  File \"/workspace/to_execute.py\", line 20\\n    , custom_instructions=qasm2.LEGACY_CUSTOM_INSTRUCTIONS)\\n                                                          ^\\nSyntaxError: unmatched \\')\\'\\n'\n",
      "Failed to execute to_execute.py in Docker.\n",
      "Error parsing: Command 'python /workspace/to_execute.py' in image 'qiskit_runner' returned non-zero exit status 1: b'  File \"/workspace/to_execute.py\", line 10\\n    qc = qasm2.loads(\\n                    ^\\nSyntaxError: \\'(\\' was never closed\\n'\n",
      "Failed to execute to_execute.py in Docker.\n",
      "Error parsing: Command 'python /workspace/to_execute.py' in image 'qiskit_runner' returned non-zero exit status 1: b'  File \"/workspace/to_execute.py\", line 31\\n    , custom_instructions=qasm2.LEGACY_CUSTOM_INSTRUCTIONS)\\n                                                          ^\\nSyntaxError: unmatched \\')\\'\\n'\n",
      "Failed to execute to_execute.py in Docker.\n",
      "Error parsing: Command 'python /workspace/to_execute.py' in image 'qiskit_runner' returned non-zero exit status 1: b'Traceback (most recent call last):\\n  File \"/workspace/to_execute.py\", line 10, in <module>\\n    qc = qasm2.loads(\\n  File \"/usr/local/lib/python3.10/site-packages/qiskit/qasm2/__init__.py\", line 587, in loads\\n    return _parse.from_bytecode(\\n  File \"/usr/local/lib/python3.10/site-packages/qiskit/qasm2/parse.py\", line 214, in from_bytecode\\n    for op in bc:\\nqiskit.qasm2.exceptions.QASM2ParseError: \"<input>:12,14: \\'reg_2_cout\\' is not defined in this scope\"\\n'\n",
      "Failed to execute to_execute.py in Docker.\n",
      "Output: Saved the BQSKit circuit to /workspace/to_execute_qc_bqskit.qasm\n",
      "Saved the Pytket circuit to /workspace/to_execute_qc_pytket.qasm\n",
      "Exported QASM files: [('/workspace/to_execute_qc_bqskit.qasm', 'export_to_qasm_with_bqskit'), ('/workspace/to_execute_qc_pytket.qasm', 'export_to_qasm_with_pytket')]\n",
      "Log has been saved to /workspace/to_execute_59f673_error.json\n",
      "\n",
      "Program to_execute.py executed successfully.\n",
      "New exception message: The circuits are not equivalent: /workspace/to_execute_qc_bqskit.qasm, /workspace/to_execute_qc_pytket.qasm\n",
      "Error parsing: Command 'python /workspace/to_execute.py' in image 'qiskit_runner' returned non-zero exit status 1: b'  File \"/workspace/to_execute.py\", line 22\\n    , custom_instructions=qasm2.LEGACY_CUSTOM_INSTRUCTIONS)\\n                                                          ^\\nSyntaxError: unmatched \\')\\'\\n'\n",
      "Failed to execute to_execute.py in Docker.\n",
      "Error parsing: Command 'python /workspace/to_execute.py' in image 'qiskit_runner' returned non-zero exit status 1: b'Traceback (most recent call last):\\n  File \"/workspace/to_execute.py\", line 10, in <module>\\n    qc = qasm2.loads(\\n  File \"/usr/local/lib/python3.10/site-packages/qiskit/qasm2/__init__.py\", line 587, in loads\\n    return _parse.from_bytecode(\\n  File \"/usr/local/lib/python3.10/site-packages/qiskit/qasm2/parse.py\", line 214, in from_bytecode\\n    for op in bc:\\nqiskit.qasm2.exceptions.QASM2ParseError: \"<input>:6,2: \\'reg_1_q\\' is not defined in this scope\"\\n'\n",
      "Failed to execute to_execute.py in Docker.\n",
      "Error parsing: Command 'python /workspace/to_execute.py' in image 'qiskit_runner' returned non-zero exit status 1: b'  File \"/workspace/to_execute.py\", line 10\\n    qc = qasm2.loads(\\n                    ^\\nSyntaxError: \\'(\\' was never closed\\n'\n",
      "Failed to execute to_execute.py in Docker.\n",
      "Error parsing: Command 'python /workspace/to_execute.py' in image 'qiskit_runner' returned non-zero exit status 1: b'  File \"/workspace/to_execute.py\", line 25\\n    , custom_instructions=qasm2.LEGACY_CUSTOM_INSTRUCTIONS)\\n                                                          ^\\nSyntaxError: unmatched \\')\\'\\n'\n",
      "Failed to execute to_execute.py in Docker.\n",
      "Error parsing: Command 'python /workspace/to_execute.py' in image 'qiskit_runner' returned non-zero exit status 1: b'Traceback (most recent call last):\\n  File \"/workspace/to_execute.py\", line 10, in <module>\\n    qc = qasm2.loads(\\n  File \"/usr/local/lib/python3.10/site-packages/qiskit/qasm2/__init__.py\", line 587, in loads\\n    return _parse.from_bytecode(\\n  File \"/usr/local/lib/python3.10/site-packages/qiskit/qasm2/parse.py\", line 214, in from_bytecode\\n    for op in bc:\\nqiskit.qasm2.exceptions.QASM2ParseError: \"<input>:5,0: cannot use non-builtin custom instruction \\'cx\\' before definition\"\\n'\n",
      "Failed to execute to_execute.py in Docker.\n",
      "Error parsing: Command 'python /workspace/to_execute.py' in image 'qiskit_runner' returned non-zero exit status 1: b'Traceback (most recent call last):\\n  File \"/workspace/to_execute.py\", line 10, in <module>\\n    qc = qasm2.loads(\\n  File \"/usr/local/lib/python3.10/site-packages/qiskit/qasm2/__init__.py\", line 587, in loads\\n    return _parse.from_bytecode(\\n  File \"/usr/local/lib/python3.10/site-packages/qiskit/qasm2/parse.py\", line 214, in from_bytecode\\n    for op in bc:\\nqiskit.qasm2.exceptions.QASM2ParseError: \"<input>:6,2: \\'reg_1_q\\' is not defined in this scope\"\\n'\n",
      "Failed to execute to_execute.py in Docker.\n",
      "Output: Saved the BQSKit circuit to /workspace/to_execute_qc_bqskit.qasm\n",
      "Saved the Pytket circuit to /workspace/to_execute_qc_pytket.qasm\n",
      "Exported QASM files: [('/workspace/to_execute_qc_bqskit.qasm', 'export_to_qasm_with_bqskit'), ('/workspace/to_execute_qc_pytket.qasm', 'export_to_qasm_with_pytket')]\n",
      "Log has been saved to /workspace/to_execute_11fdea_error.json\n",
      "\n",
      "Program to_execute.py executed successfully.\n",
      "New exception message: The circuits are not equivalent: /workspace/to_execute_qc_bqskit.qasm, /workspace/to_execute_qc_pytket.qasm\n",
      "Error parsing: Command 'python /workspace/to_execute.py' in image 'qiskit_runner' returned non-zero exit status 1: b'  File \"/workspace/to_execute.py\", line 22\\n    , custom_instructions=qasm2.LEGACY_CUSTOM_INSTRUCTIONS)\\n                                                          ^\\nSyntaxError: unmatched \\')\\'\\n'\n",
      "Failed to execute to_execute.py in Docker.\n",
      "Error parsing: Command 'python /workspace/to_execute.py' in image 'qiskit_runner' returned non-zero exit status 1: b'Traceback (most recent call last):\\n  File \"/workspace/to_execute.py\", line 10, in <module>\\n    qc = qasm2.loads(\\n  File \"/usr/local/lib/python3.10/site-packages/qiskit/qasm2/__init__.py\", line 587, in loads\\n    return _parse.from_bytecode(\\n  File \"/usr/local/lib/python3.10/site-packages/qiskit/qasm2/parse.py\", line 214, in from_bytecode\\n    for op in bc:\\nqiskit.qasm2.exceptions.QASM2ParseError: \"<input>:4,0: cannot use non-builtin custom instruction \\'cx\\' before definition\"\\n'\n",
      "Failed to execute to_execute.py in Docker.\n",
      "Error parsing: Command 'python /workspace/to_execute.py' in image 'qiskit_runner' returned non-zero exit status 1: b'Traceback (most recent call last):\\n  File \"/workspace/to_execute.py\", line 10, in <module>\\n    qc = qasm2.loads(\\n  File \"/usr/local/lib/python3.10/site-packages/qiskit/qasm2/__init__.py\", line 587, in loads\\n    return _parse.from_bytecode(\\n  File \"/usr/local/lib/python3.10/site-packages/qiskit/qasm2/parse.py\", line 214, in from_bytecode\\n    for op in bc:\\nqiskit.qasm2.exceptions.QASM2ParseError: \"<input>:6,3: \\'reg_1_q\\' is not defined in this scope\"\\n'\n",
      "Failed to execute to_execute.py in Docker.\n",
      "Output: Saved the BQSKit circuit to /workspace/to_execute_qc_bqskit.qasm\n",
      "Saved the Pytket circuit to /workspace/to_execute_qc_pytket.qasm\n",
      "Exported QASM files: [('/workspace/to_execute_qc_bqskit.qasm', 'export_to_qasm_with_bqskit'), ('/workspace/to_execute_qc_pytket.qasm', 'export_to_qasm_with_pytket')]\n",
      "Log has been saved to /workspace/to_execute_b014a3_error.json\n",
      "\n",
      "Program to_execute.py executed successfully.\n",
      "New exception message: The circuits are not equivalent: /workspace/to_execute_qc_bqskit.qasm, /workspace/to_execute_qc_pytket.qasm\n",
      "Error parsing: Command 'python /workspace/to_execute.py' in image 'qiskit_runner' returned non-zero exit status 1: b'  File \"/workspace/to_execute.py\", line 18\\n    , custom_instructions=qasm2.LEGACY_CUSTOM_INSTRUCTIONS)\\n                                                          ^\\nSyntaxError: unmatched \\')\\'\\n'\n",
      "Failed to execute to_execute.py in Docker.\n",
      "Error parsing: Command 'python /workspace/to_execute.py' in image 'qiskit_runner' returned non-zero exit status 1: b'Traceback (most recent call last):\\n  File \"/workspace/to_execute.py\", line 10, in <module>\\n    qc = qasm2.loads(\\n  File \"/usr/local/lib/python3.10/site-packages/qiskit/qasm2/__init__.py\", line 587, in loads\\n    return _parse.from_bytecode(\\n  File \"/usr/local/lib/python3.10/site-packages/qiskit/qasm2/parse.py\", line 214, in from_bytecode\\n    for op in bc:\\nqiskit.qasm2.exceptions.QASM2ParseError: \"<input>:5,0: cannot use non-builtin custom instruction \\'cx\\' before definition\"\\n'\n",
      "Failed to execute to_execute.py in Docker.\n",
      "Error parsing: Command 'python /workspace/to_execute.py' in image 'qiskit_runner' returned non-zero exit status 1: b'Traceback (most recent call last):\\n  File \"/workspace/to_execute.py\", line 10, in <module>\\n    qc = qasm2.loads(\\n  File \"/usr/local/lib/python3.10/site-packages/qiskit/qasm2/__init__.py\", line 587, in loads\\n    return _parse.from_bytecode(\\n  File \"/usr/local/lib/python3.10/site-packages/qiskit/qasm2/parse.py\", line 214, in from_bytecode\\n    for op in bc:\\nqiskit.qasm2.exceptions.QASM2ParseError: \"<input>:5,16: \\'reg_2_b\\' is not defined in this scope\"\\n'\n",
      "Failed to execute to_execute.py in Docker.\n",
      "Error parsing: Command 'python /workspace/to_execute.py' in image 'qiskit_runner' returned non-zero exit status 1: b'  File \"/workspace/to_execute.py\", line 10\\n    qc = qasm2.loads(\\n                    ^\\nSyntaxError: \\'(\\' was never closed\\n'\n",
      "Failed to execute to_execute.py in Docker.\n",
      "Error parsing: Command 'python /workspace/to_execute.py' in image 'qiskit_runner' returned non-zero exit status 1: b'  File \"/workspace/to_execute.py\", line 20\\n    , custom_instructions=qasm2.LEGACY_CUSTOM_INSTRUCTIONS)\\nIndentationError: unexpected indent\\n'\n",
      "Failed to execute to_execute.py in Docker.\n",
      "Error parsing: Command 'python /workspace/to_execute.py' in image 'qiskit_runner' returned non-zero exit status 1: b'  File \"/workspace/to_execute.py\", line 12\\n    include \"qelib1.inc\";\\n            ^^^^^^^^^^^^\\nSyntaxError: invalid syntax\\n'\n",
      "Failed to execute to_execute.py in Docker.\n",
      "Error parsing: Command 'python /workspace/to_execute.py' in image 'qiskit_runner' returned non-zero exit status 1: b'Traceback (most recent call last):\\n  File \"/workspace/to_execute.py\", line 10, in <module>\\n    qc = qasm2.loads(\\n  File \"/usr/local/lib/python3.10/site-packages/qiskit/qasm2/__init__.py\", line 587, in loads\\n    return _parse.from_bytecode(\\n  File \"/usr/local/lib/python3.10/site-packages/qiskit/qasm2/parse.py\", line 214, in from_bytecode\\n    for op in bc:\\nqiskit.qasm2.exceptions.QASM2ParseError: \"<input>:6,0: cannot use non-builtin custom instruction \\'cx\\' before definition\"\\n'\n",
      "Failed to execute to_execute.py in Docker.\n",
      "Error parsing: Command 'python /workspace/to_execute.py' in image 'qiskit_runner' returned non-zero exit status 1: b'Traceback (most recent call last):\\n  File \"/workspace/to_execute.py\", line 10, in <module>\\n    qc = qasm2.loads(\\n  File \"/usr/local/lib/python3.10/site-packages/qiskit/qasm2/__init__.py\", line 587, in loads\\n    return _parse.from_bytecode(\\n  File \"/usr/local/lib/python3.10/site-packages/qiskit/qasm2/parse.py\", line 214, in from_bytecode\\n    for op in bc:\\nqiskit.qasm2.exceptions.QASM2ParseError: \"<input>:7,14: \\'reg_2_b\\' is not defined in this scope\"\\n'\n",
      "Failed to execute to_execute.py in Docker.\n",
      "Error parsing: Command 'python /workspace/to_execute.py' in image 'qiskit_runner' returned non-zero exit status 1: b'Traceback (most recent call last):\\n  File \"/workspace/to_execute.py\", line 10, in <module>\\n    qc = qasm2.loads(\\n  File \"/usr/local/lib/python3.10/site-packages/qiskit/qasm2/__init__.py\", line 587, in loads\\n    return _parse.from_bytecode(\\n  File \"/usr/local/lib/python3.10/site-packages/qiskit/qasm2/parse.py\", line 214, in from_bytecode\\n    for op in bc:\\nqiskit.qasm2.exceptions.QASM2ParseError: \"<input>:6,3: \\'reg_1_q\\' is not defined in this scope\"\\n'\n",
      "Failed to execute to_execute.py in Docker.\n",
      "Output: Saved the BQSKit circuit to /workspace/to_execute_qc_bqskit.qasm\n",
      "Saved the Pytket circuit to /workspace/to_execute_qc_pytket.qasm\n",
      "Exported QASM files: [('/workspace/to_execute_qc_bqskit.qasm', 'export_to_qasm_with_bqskit'), ('/workspace/to_execute_qc_pytket.qasm', 'export_to_qasm_with_pytket')]\n",
      "Log has been saved to /workspace/to_execute_151dbc_error.json\n",
      "\n",
      "Program to_execute.py executed successfully.\n",
      "New exception message: The circuits are not equivalent: /workspace/to_execute_qc_bqskit.qasm, /workspace/to_execute_qc_pytket.qasm\n",
      "Error parsing: Command 'python /workspace/to_execute.py' in image 'qiskit_runner' returned non-zero exit status 1: b'  File \"/workspace/to_execute.py\", line 19\\n    , custom_instructions=qasm2.LEGACY_CUSTOM_INSTRUCTIONS)\\nIndentationError: unexpected indent\\n'\n",
      "Failed to execute to_execute.py in Docker.\n",
      "Error parsing: Command 'python /workspace/to_execute.py' in image 'qiskit_runner' returned non-zero exit status 1: b'  File \"/workspace/to_execute.py\", line 12\\n    include \"qelib1.inc\";\\n            ^^^^^^^^^^^^\\nSyntaxError: invalid syntax\\n'\n",
      "Failed to execute to_execute.py in Docker.\n",
      "Error parsing: Command 'python /workspace/to_execute.py' in image 'qiskit_runner' returned non-zero exit status 1: b'Traceback (most recent call last):\\n  File \"/workspace/to_execute.py\", line 10, in <module>\\n    qc = qasm2.loads(\\n  File \"/usr/local/lib/python3.10/site-packages/qiskit/qasm2/__init__.py\", line 587, in loads\\n    return _parse.from_bytecode(\\n  File \"/usr/local/lib/python3.10/site-packages/qiskit/qasm2/parse.py\", line 214, in from_bytecode\\n    for op in bc:\\nqiskit.qasm2.exceptions.QASM2ParseError: \"<input>:6,0: cannot use non-builtin custom instruction \\'cx\\' before definition\"\\n'\n",
      "Failed to execute to_execute.py in Docker.\n",
      "Error parsing: Command 'python /workspace/to_execute.py' in image 'qiskit_runner' returned non-zero exit status 1: b'Traceback (most recent call last):\\n  File \"/workspace/to_execute.py\", line 10, in <module>\\n    qc = qasm2.loads(\\n  File \"/usr/local/lib/python3.10/site-packages/qiskit/qasm2/__init__.py\", line 587, in loads\\n    return _parse.from_bytecode(\\n  File \"/usr/local/lib/python3.10/site-packages/qiskit/qasm2/parse.py\", line 214, in from_bytecode\\n    for op in bc:\\nqiskit.qasm2.exceptions.QASM2ParseError: \"<input>:6,16: \\'reg_2_b\\' is not defined in this scope\"\\n'\n",
      "Failed to execute to_execute.py in Docker.\n",
      "Output: Saved the BQSKit circuit to /workspace/to_execute_qc_bqskit.qasm\n",
      "Saved the Pytket circuit to /workspace/to_execute_qc_pytket.qasm\n",
      "Exported QASM files: [('/workspace/to_execute_qc_bqskit.qasm', 'export_to_qasm_with_bqskit'), ('/workspace/to_execute_qc_pytket.qasm', 'export_to_qasm_with_pytket')]\n",
      "Log has been saved to /workspace/to_execute_4f628b_error.json\n",
      "\n",
      "Program to_execute.py executed successfully.\n",
      "New exception message: The circuits are not equivalent: /workspace/to_execute_qc_bqskit.qasm, /workspace/to_execute_qc_pytket.qasm\n",
      "Error parsing: Command 'python /workspace/to_execute.py' in image 'qiskit_runner' returned non-zero exit status 1: b'  File \"/workspace/to_execute.py\", line 18\\n    , custom_instructions=qasm2.LEGACY_CUSTOM_INSTRUCTIONS)\\nIndentationError: unexpected indent\\n'\n",
      "Failed to execute to_execute.py in Docker.\n",
      "Error parsing: Command 'python /workspace/to_execute.py' in image 'qiskit_runner' returned non-zero exit status 1: b'  File \"/workspace/to_execute.py\", line 12\\n    include \"qelib1.inc\";\\n            ^^^^^^^^^^^^\\nSyntaxError: invalid syntax\\n'\n",
      "Failed to execute to_execute.py in Docker.\n",
      "Error parsing: Command 'python /workspace/to_execute.py' in image 'qiskit_runner' returned non-zero exit status 1: b'Traceback (most recent call last):\\n  File \"/workspace/to_execute.py\", line 10, in <module>\\n    qc = qasm2.loads(\\n  File \"/usr/local/lib/python3.10/site-packages/qiskit/qasm2/__init__.py\", line 587, in loads\\n    return _parse.from_bytecode(\\n  File \"/usr/local/lib/python3.10/site-packages/qiskit/qasm2/parse.py\", line 214, in from_bytecode\\n    for op in bc:\\nqiskit.qasm2.exceptions.QASM2ParseError: \"<input>:5,0: cannot use non-builtin custom instruction \\'cx\\' before definition\"\\n'\n",
      "Failed to execute to_execute.py in Docker.\n",
      "Error parsing: Command 'python /workspace/to_execute.py' in image 'qiskit_runner' returned non-zero exit status 1: b'Traceback (most recent call last):\\n  File \"/workspace/to_execute.py\", line 10, in <module>\\n    qc = qasm2.loads(\\n  File \"/usr/local/lib/python3.10/site-packages/qiskit/qasm2/__init__.py\", line 587, in loads\\n    return _parse.from_bytecode(\\n  File \"/usr/local/lib/python3.10/site-packages/qiskit/qasm2/parse.py\", line 214, in from_bytecode\\n    for op in bc:\\nqiskit.qasm2.exceptions.QASM2ParseError: \"<input>:5,16: \\'reg_2_b\\' is not defined in this scope\"\\n'\n",
      "Failed to execute to_execute.py in Docker.\n",
      "Error parsing: Command 'python /workspace/to_execute.py' in image 'qiskit_runner' returned non-zero exit status 1: b'  File \"/workspace/to_execute.py\", line 12\\n    OPENQASM 2.0;\\n    ^^^^^^^^^^^^\\nSyntaxError: invalid syntax. Perhaps you forgot a comma?\\n'\n",
      "Failed to execute to_execute.py in Docker.\n",
      "Error parsing: Command 'python /workspace/to_execute.py' in image 'qiskit_runner' returned non-zero exit status 1: b'  File \"/workspace/to_execute.py\", line 10\\n    qc = qasm2.loads(\\n                    ^\\nSyntaxError: \\'(\\' was never closed\\n'\n",
      "Failed to execute to_execute.py in Docker.\n",
      "Error parsing: Command 'python /workspace/to_execute.py' in image 'qiskit_runner' returned non-zero exit status 1: b'  File \"/workspace/to_execute.py\", line 19\\n    , custom_instructions=qasm2.LEGACY_CUSTOM_INSTRUCTIONS)\\nIndentationError: unexpected indent\\n'\n",
      "Failed to execute to_execute.py in Docker.\n",
      "Output: Saved the BQSKit circuit to /workspace/to_execute_qc_bqskit.qasm\n",
      "Saved the Pytket circuit to /workspace/to_execute_qc_pytket.qasm\n",
      "Exported QASM files: [('/workspace/to_execute_qc_bqskit.qasm', 'export_to_qasm_with_bqskit'), ('/workspace/to_execute_qc_pytket.qasm', 'export_to_qasm_with_pytket')]\n",
      "Log has been saved to /workspace/to_execute_03a1c0_error.json\n",
      "\n",
      "Program to_execute.py executed successfully.\n",
      "New exception message: The circuits are not equivalent: /workspace/to_execute_qc_bqskit.qasm, /workspace/to_execute_qc_pytket.qasm\n",
      "Error parsing: Command 'python /workspace/to_execute.py' in image 'qiskit_runner' returned non-zero exit status 1: b'  File \"/workspace/to_execute.py\", line 18\\n    , custom_instructions=qasm2.LEGACY_CUSTOM_INSTRUCTIONS)\\nIndentationError: unexpected indent\\n'\n",
      "Failed to execute to_execute.py in Docker.\n",
      "Error parsing: Command 'python /workspace/to_execute.py' in image 'qiskit_runner' returned non-zero exit status 1: b'  File \"/workspace/to_execute.py\", line 11\\n    OPENQASM 2.0;\\n    ^^^^^^^^^^^^\\nSyntaxError: invalid syntax. Perhaps you forgot a comma?\\n'\n",
      "Failed to execute to_execute.py in Docker.\n",
      "Output: Saved the BQSKit circuit to /workspace/to_execute_qc_bqskit.qasm\n",
      "Saved the Pytket circuit to /workspace/to_execute_qc_pytket.qasm\n",
      "Exported QASM files: [('/workspace/to_execute_qc_bqskit.qasm', 'export_to_qasm_with_bqskit'), ('/workspace/to_execute_qc_pytket.qasm', 'export_to_qasm_with_pytket')]\n",
      "Log has been saved to /workspace/to_execute_91a812_error.json\n",
      "\n",
      "Program to_execute.py executed successfully.\n",
      "New exception message: The circuits are not equivalent: /workspace/to_execute_qc_bqskit.qasm, /workspace/to_execute_qc_pytket.qasm\n",
      "Error parsing: Command 'python /workspace/to_execute.py' in image 'qiskit_runner' returned non-zero exit status 1: b'  File \"/workspace/to_execute.py\", line 17\\n    , custom_instructions=qasm2.LEGACY_CUSTOM_INSTRUCTIONS)\\nIndentationError: unexpected indent\\n'\n",
      "Failed to execute to_execute.py in Docker.\n",
      "Error parsing: Command 'python /workspace/to_execute.py' in image 'qiskit_runner' returned non-zero exit status 1: b'  File \"/workspace/to_execute.py\", line 11\\n    include \"qelib1.inc\";\\n            ^^^^^^^^^^^^\\nSyntaxError: invalid syntax\\n'\n",
      "Failed to execute to_execute.py in Docker.\n",
      "Error parsing: Command 'python /workspace/to_execute.py' in image 'qiskit_runner' returned non-zero exit status 1: b'Traceback (most recent call last):\\n  File \"/workspace/to_execute.py\", line 10, in <module>\\n    qc = qasm2.loads(\\n  File \"/usr/local/lib/python3.10/site-packages/qiskit/qasm2/__init__.py\", line 587, in loads\\n    return _parse.from_bytecode(\\n  File \"/usr/local/lib/python3.10/site-packages/qiskit/qasm2/parse.py\", line 214, in from_bytecode\\n    for op in bc:\\nqiskit.qasm2.exceptions.QASM2ParseError: \"<input>:5,0: cannot use non-builtin custom instruction \\'cx\\' before definition\"\\n'\n",
      "Failed to execute to_execute.py in Docker.\n",
      "Error parsing: Command 'python /workspace/to_execute.py' in image 'qiskit_runner' returned non-zero exit status 1: b'Traceback (most recent call last):\\n  File \"/workspace/to_execute.py\", line 10, in <module>\\n    qc = qasm2.loads(\\n  File \"/usr/local/lib/python3.10/site-packages/qiskit/qasm2/__init__.py\", line 587, in loads\\n    return _parse.from_bytecode(\\n  File \"/usr/local/lib/python3.10/site-packages/qiskit/qasm2/parse.py\", line 214, in from_bytecode\\n    for op in bc:\\nqiskit.qasm2.exceptions.QASM2ParseError: \"<input>:5,3: \\'reg_2_cin\\' is not defined in this scope\"\\n'\n",
      "Failed to execute to_execute.py in Docker.\n",
      "Error parsing: Command 'python /workspace/to_execute.py' in image 'qiskit_runner' returned non-zero exit status 1: b'Traceback (most recent call last):\\n  File \"/workspace/to_execute.py\", line 10, in <module>\\n    qc = qasm2.loads(\\n  File \"/usr/local/lib/python3.10/site-packages/qiskit/qasm2/__init__.py\", line 587, in loads\\n    return _parse.from_bytecode(\\n  File \"/usr/local/lib/python3.10/site-packages/qiskit/qasm2/parse.py\", line 214, in from_bytecode\\n    for op in bc:\\nqiskit.qasm2.exceptions.QASM2ParseError: \"<input>:5,16: \\'reg_2_b\\' is not defined in this scope\"\\n'\n",
      "Failed to execute to_execute.py in Docker.\n",
      "Output: Saved the BQSKit circuit to /workspace/to_execute_qc_bqskit.qasm\n",
      "Saved the Pytket circuit to /workspace/to_execute_qc_pytket.qasm\n",
      "Exported QASM files: [('/workspace/to_execute_qc_bqskit.qasm', 'export_to_qasm_with_bqskit'), ('/workspace/to_execute_qc_pytket.qasm', 'export_to_qasm_with_pytket')]\n",
      "Log has been saved to /workspace/to_execute_9b5d7e_error.json\n",
      "\n",
      "Program to_execute.py executed successfully.\n",
      "New exception message: The circuits are not equivalent: /workspace/to_execute_qc_bqskit.qasm, /workspace/to_execute_qc_pytket.qasm\n",
      "Error parsing: Command 'python /workspace/to_execute.py' in image 'qiskit_runner' returned non-zero exit status 1: b'  File \"/workspace/to_execute.py\", line 16\\n    , custom_instructions=qasm2.LEGACY_CUSTOM_INSTRUCTIONS)\\nIndentationError: unexpected indent\\n'\n",
      "Failed to execute to_execute.py in Docker.\n",
      "Error parsing: Command 'python /workspace/to_execute.py' in image 'qiskit_runner' returned non-zero exit status 1: b'  File \"/workspace/to_execute.py\", line 11\\n    include \"qelib1.inc\";\\n            ^^^^^^^^^^^^\\nSyntaxError: invalid syntax\\n'\n",
      "Failed to execute to_execute.py in Docker.\n",
      "Error parsing: Command 'python /workspace/to_execute.py' in image 'qiskit_runner' returned non-zero exit status 1: b'Traceback (most recent call last):\\n  File \"/workspace/to_execute.py\", line 10, in <module>\\n    qc = qasm2.loads(\\n  File \"/usr/local/lib/python3.10/site-packages/qiskit/qasm2/__init__.py\", line 587, in loads\\n    return _parse.from_bytecode(\\n  File \"/usr/local/lib/python3.10/site-packages/qiskit/qasm2/parse.py\", line 214, in from_bytecode\\n    for op in bc:\\nqiskit.qasm2.exceptions.QASM2ParseError: \"<input>:4,0: cannot use non-builtin custom instruction \\'cx\\' before definition\"\\n'\n",
      "Failed to execute to_execute.py in Docker.\n",
      "Error parsing: Command 'python /workspace/to_execute.py' in image 'qiskit_runner' returned non-zero exit status 1: b'Traceback (most recent call last):\\n  File \"/workspace/to_execute.py\", line 10, in <module>\\n    qc = qasm2.loads(\\n  File \"/usr/local/lib/python3.10/site-packages/qiskit/qasm2/__init__.py\", line 587, in loads\\n    return _parse.from_bytecode(\\n  File \"/usr/local/lib/python3.10/site-packages/qiskit/qasm2/parse.py\", line 214, in from_bytecode\\n    for op in bc:\\nqiskit.qasm2.exceptions.QASM2ParseError: \"<input>:4,3: \\'reg_2_cin\\' is not defined in this scope\"\\n'\n",
      "Failed to execute to_execute.py in Docker.\n",
      "Error parsing: Command 'python /workspace/to_execute.py' in image 'qiskit_runner' returned non-zero exit status 1: b'Traceback (most recent call last):\\n  File \"/workspace/to_execute.py\", line 10, in <module>\\n    qc = qasm2.loads(\\n  File \"/usr/local/lib/python3.10/site-packages/qiskit/qasm2/__init__.py\", line 587, in loads\\n    return _parse.from_bytecode(\\n  File \"/usr/local/lib/python3.10/site-packages/qiskit/qasm2/parse.py\", line 214, in from_bytecode\\n    for op in bc:\\nqiskit.qasm2.exceptions.QASM2ParseError: \"<input>:4,16: \\'reg_2_b\\' is not defined in this scope\"\\n'\n",
      "Failed to execute to_execute.py in Docker.\n",
      "Output: Saved the BQSKit circuit to /workspace/to_execute_qc_bqskit.qasm\n",
      "Saved the Pytket circuit to /workspace/to_execute_qc_pytket.qasm\n",
      "Exported QASM files: [('/workspace/to_execute_qc_bqskit.qasm', 'export_to_qasm_with_bqskit'), ('/workspace/to_execute_qc_pytket.qasm', 'export_to_qasm_with_pytket')]\n",
      "The circuits are equivalent: /workspace/to_execute_qc_bqskit.qasm, /workspace/to_execute_qc_pytket.qasm\n",
      "\n",
      "Program to_execute.py executed successfully.\n",
      "Error parsing: Command 'python /workspace/to_execute.py' in image 'qiskit_runner' returned non-zero exit status 1: b'  File \"/workspace/to_execute.py\", line 11\\n    include \"qelib1.inc\";\\n            ^^^^^^^^^^^^\\nSyntaxError: invalid syntax\\n'\n",
      "Failed to execute to_execute.py in Docker.\n",
      "Error parsing: Command 'python /workspace/to_execute.py' in image 'qiskit_runner' returned non-zero exit status 1: b'  File \"/workspace/to_execute.py\", line 10\\n    qc = qasm2.loads(\\n                    ^\\nSyntaxError: \\'(\\' was never closed\\n'\n",
      "Failed to execute to_execute.py in Docker.\n"
     ]
    },
    {
     "data": {
      "text/html": [
       "<pre style=\"white-space:pre;overflow-x:auto;line-height:normal;font-family:Menlo,'DejaVu Sans Mono',consolas,'Courier New',monospace\"><span style=\"color: #7fbfbf; text-decoration-color: #7fbfbf\">[15:23:48] </span><span style=\"color: #008000; text-decoration-color: #008000\">Minimized file saved as:</span>                                                        <a href=\"file:///home/paltenmo/projects/crossplatform/analysis_and_reporting/ddmin_target_file.py\" target=\"_blank\"><span style=\"color: #7f7f7f; text-decoration-color: #7f7f7f\">ddmin_target_file.py</span></a><span style=\"color: #7f7f7f; text-decoration-color: #7f7f7f\">:</span><a href=\"file:///home/paltenmo/projects/crossplatform/analysis_and_reporting/ddmin_target_file.py#240\" target=\"_blank\"><span style=\"color: #7f7f7f; text-decoration-color: #7f7f7f\">240</span></a>\n",
       "<span style=\"color: #7fbfbf; text-decoration-color: #7fbfbf\">           </span>..<span style=\"color: #800080; text-decoration-color: #800080\">/reports/v009/2024_11_21__15_20/</span><span style=\"color: #ff00ff; text-decoration-color: #ff00ff\">qiskit_circuit_5q_10g_650_4493c8_a271e3_error</span> <span style=\"color: #7f7f7f; text-decoration-color: #7f7f7f\">                        </span>\n",
       "<span style=\"color: #7fbfbf; text-decoration-color: #7fbfbf\">           </span><span style=\"color: #ff00ff; text-decoration-color: #ff00ff\">_min.py</span>                                                                         <span style=\"color: #7f7f7f; text-decoration-color: #7f7f7f\">                        </span>\n",
       "</pre>\n"
      ],
      "text/plain": [
       "\u001b[2;36m[15:23:48]\u001b[0m\u001b[2;36m \u001b[0m\u001b[32mMinimized file saved as:\u001b[0m                                                        \u001b]8;id=23267;file:///home/paltenmo/projects/crossplatform/analysis_and_reporting/ddmin_target_file.py\u001b\\\u001b[2mddmin_target_file.py\u001b[0m\u001b]8;;\u001b\\\u001b[2m:\u001b[0m\u001b]8;id=35295;file:///home/paltenmo/projects/crossplatform/analysis_and_reporting/ddmin_target_file.py#240\u001b\\\u001b[2m240\u001b[0m\u001b]8;;\u001b\\\n",
       "\u001b[2;36m           \u001b[0m..\u001b[35m/reports/v009/2024_11_21__15_20/\u001b[0m\u001b[95mqiskit_circuit_5q_10g_650_4493c8_a271e3_error\u001b[0m \u001b[2m                        \u001b[0m\n",
       "\u001b[2;36m           \u001b[0m\u001b[95m_min.py\u001b[0m                                                                         \u001b[2m                        \u001b[0m\n"
      ]
     },
     "metadata": {},
     "output_type": "display_data"
    },
    {
     "name": "stdout",
     "output_type": "stream",
     "text": [
      "Output: Saved the BQSKit circuit to /workspace/qiskit_circuit_5q_10g_650_4493c8_a271e3_error_min_qc_bqskit.qasm\n",
      "Saved the Pytket circuit to /workspace/qiskit_circuit_5q_10g_650_4493c8_a271e3_error_min_qc_pytket.qasm\n",
      "Exported QASM files: [('/workspace/qiskit_circuit_5q_10g_650_4493c8_a271e3_error_min_qc_bqskit.qasm', 'export_to_qasm_with_bqskit'), ('/workspace/qiskit_circuit_5q_10g_650_4493c8_a271e3_error_min_qc_pytket.qasm', 'export_to_qasm_with_pytket')]\n",
      "Log has been saved to /workspace/qiskit_circuit_5q_10g_650_4493c8_a271e3_error_min_47549b_error.json\n",
      "\n"
     ]
    },
    {
     "data": {
      "text/html": [
       "<pre style=\"white-space:pre;overflow-x:auto;line-height:normal;font-family:Menlo,'DejaVu Sans Mono',consolas,'Courier New',monospace\"><span style=\"color: #7fbfbf; text-decoration-color: #7fbfbf\">[15:23:55] </span>Program qiskit_circuit_5q_10g_650_4493c8_a271e3_error_min.py executed successfully. <a href=\"file:///home/paltenmo/projects/crossplatform/generators/docker_tooling.py\" target=\"_blank\"><span style=\"color: #7f7f7f; text-decoration-color: #7f7f7f\">docker_tooling.py</span></a><span style=\"color: #7f7f7f; text-decoration-color: #7f7f7f\">:</span><a href=\"file:///home/paltenmo/projects/crossplatform/generators/docker_tooling.py#46\" target=\"_blank\"><span style=\"color: #7f7f7f; text-decoration-color: #7f7f7f\">46</span></a>\n",
       "</pre>\n"
      ],
      "text/plain": [
       "\u001b[2;36m[15:23:55]\u001b[0m\u001b[2;36m \u001b[0mProgram qiskit_circuit_5q_10g_650_4493c8_a271e3_error_min.py executed successfully. \u001b]8;id=382553;file:///home/paltenmo/projects/crossplatform/generators/docker_tooling.py\u001b\\\u001b[2mdocker_tooling.py\u001b[0m\u001b]8;;\u001b\\\u001b[2m:\u001b[0m\u001b]8;id=189236;file:///home/paltenmo/projects/crossplatform/generators/docker_tooling.py#46\u001b\\\u001b[2m46\u001b[0m\u001b]8;;\u001b\\\n"
      ]
     },
     "metadata": {},
     "output_type": "display_data"
    },
    {
     "data": {
      "application/vnd.jupyter.widget-view+json": {
       "model_id": "aadc11eac00b4aa3943bb704a9837f38",
       "version_major": 2,
       "version_minor": 0
      },
      "text/plain": [
       "Executing:   0%|          | 0/13 [00:00<?, ?cell/s]"
      ]
     },
     "metadata": {},
     "output_type": "display_data"
    },
    {
     "data": {
      "text/html": [
       "<pre style=\"white-space:pre;overflow-x:auto;line-height:normal;font-family:Menlo,'DejaVu Sans Mono',consolas,'Courier New',monospace\"><span style=\"color: #7fbfbf; text-decoration-color: #7fbfbf\">[15:23:58] </span>Analysis notebook executed: ..<span style=\"color: #800080; text-decoration-color: #800080\">/reports/v009/2024_11_21__15_20/</span><span style=\"color: #ff00ff; text-decoration-color: #ff00ff\">analysis_output.ipynb</span>        <a href=\"file:///home/paltenmo/projects/crossplatform/analysis_and_reporting/triage.py\" target=\"_blank\"><span style=\"color: #7f7f7f; text-decoration-color: #7f7f7f\">triage.py</span></a><span style=\"color: #7f7f7f; text-decoration-color: #7f7f7f\">:</span><a href=\"file:///home/paltenmo/projects/crossplatform/analysis_and_reporting/triage.py#163\" target=\"_blank\"><span style=\"color: #7f7f7f; text-decoration-color: #7f7f7f\">163</span></a>\n",
       "</pre>\n"
      ],
      "text/plain": [
       "\u001b[2;36m[15:23:58]\u001b[0m\u001b[2;36m \u001b[0mAnalysis notebook executed: ..\u001b[35m/reports/v009/2024_11_21__15_20/\u001b[0m\u001b[95manalysis_output.ipynb\u001b[0m        \u001b]8;id=657687;file:///home/paltenmo/projects/crossplatform/analysis_and_reporting/triage.py\u001b\\\u001b[2mtriage.py\u001b[0m\u001b]8;;\u001b\\\u001b[2m:\u001b[0m\u001b]8;id=90175;file:///home/paltenmo/projects/crossplatform/analysis_and_reporting/triage.py#163\u001b\\\u001b[2m163\u001b[0m\u001b]8;;\u001b\\\n"
      ]
     },
     "metadata": {},
     "output_type": "display_data"
    },
    {
     "data": {
      "text/html": [
       "<pre style=\"white-space:pre;overflow-x:auto;line-height:normal;font-family:Menlo,'DejaVu Sans Mono',consolas,'Courier New',monospace\"><span style=\"color: #7fbfbf; text-decoration-color: #7fbfbf\">           </span>Created report folder: ..<span style=\"color: #800080; text-decoration-color: #800080\">/reports/v009/</span><span style=\"color: #ff00ff; text-decoration-color: #ff00ff\">2024_11_21__15_23</span>                                   <a href=\"file:///home/paltenmo/projects/crossplatform/analysis_and_reporting/triage.py\" target=\"_blank\"><span style=\"color: #7f7f7f; text-decoration-color: #7f7f7f\">triage.py</span></a><span style=\"color: #7f7f7f; text-decoration-color: #7f7f7f\">:</span><a href=\"file:///home/paltenmo/projects/crossplatform/analysis_and_reporting/triage.py#131\" target=\"_blank\"><span style=\"color: #7f7f7f; text-decoration-color: #7f7f7f\">131</span></a>\n",
       "</pre>\n"
      ],
      "text/plain": [
       "\u001b[2;36m          \u001b[0m\u001b[2;36m \u001b[0mCreated report folder: ..\u001b[35m/reports/v009/\u001b[0m\u001b[95m2024_11_21__15_23\u001b[0m                                   \u001b]8;id=436416;file:///home/paltenmo/projects/crossplatform/analysis_and_reporting/triage.py\u001b\\\u001b[2mtriage.py\u001b[0m\u001b]8;;\u001b\\\u001b[2m:\u001b[0m\u001b]8;id=622083;file:///home/paltenmo/projects/crossplatform/analysis_and_reporting/triage.py#131\u001b\\\u001b[2m131\u001b[0m\u001b]8;;\u001b\\\n"
      ]
     },
     "metadata": {},
     "output_type": "display_data"
    },
    {
     "data": {
      "text/html": [
       "<pre style=\"white-space:pre;overflow-x:auto;line-height:normal;font-family:Menlo,'DejaVu Sans Mono',consolas,'Courier New',monospace\"><span style=\"color: #7fbfbf; text-decoration-color: #7fbfbf\">           </span>Copied files to: ..<span style=\"color: #800080; text-decoration-color: #800080\">/reports/v009/</span><span style=\"color: #ff00ff; text-decoration-color: #ff00ff\">2024_11_21__15_23</span>                                         <a href=\"file:///home/paltenmo/projects/crossplatform/analysis_and_reporting/triage.py\" target=\"_blank\"><span style=\"color: #7f7f7f; text-decoration-color: #7f7f7f\">triage.py</span></a><span style=\"color: #7f7f7f; text-decoration-color: #7f7f7f\">:</span><a href=\"file:///home/paltenmo/projects/crossplatform/analysis_and_reporting/triage.py#140\" target=\"_blank\"><span style=\"color: #7f7f7f; text-decoration-color: #7f7f7f\">140</span></a>\n",
       "</pre>\n"
      ],
      "text/plain": [
       "\u001b[2;36m          \u001b[0m\u001b[2;36m \u001b[0mCopied files to: ..\u001b[35m/reports/v009/\u001b[0m\u001b[95m2024_11_21__15_23\u001b[0m                                         \u001b]8;id=507940;file:///home/paltenmo/projects/crossplatform/analysis_and_reporting/triage.py\u001b\\\u001b[2mtriage.py\u001b[0m\u001b]8;;\u001b\\\u001b[2m:\u001b[0m\u001b]8;id=690126;file:///home/paltenmo/projects/crossplatform/analysis_and_reporting/triage.py#140\u001b\\\u001b[2m140\u001b[0m\u001b]8;;\u001b\\\n"
      ]
     },
     "metadata": {},
     "output_type": "display_data"
    },
    {
     "data": {
      "text/html": [
       "<pre style=\"white-space:pre;overflow-x:auto;line-height:normal;font-family:Menlo,'DejaVu Sans Mono',consolas,'Courier New',monospace\"><span style=\"color: #7fbfbf; text-decoration-color: #7fbfbf\">[15:23:58] </span>Involved functions:                                                             <a href=\"file:///home/paltenmo/projects/crossplatform/analysis_and_reporting/ddmin_target_file.py\" target=\"_blank\"><span style=\"color: #7f7f7f; text-decoration-color: #7f7f7f\">ddmin_target_file.py</span></a><span style=\"color: #7f7f7f; text-decoration-color: #7f7f7f\">:</span><a href=\"file:///home/paltenmo/projects/crossplatform/analysis_and_reporting/ddmin_target_file.py#206\" target=\"_blank\"><span style=\"color: #7f7f7f; text-decoration-color: #7f7f7f\">206</span></a>\n",
       "</pre>\n"
      ],
      "text/plain": [
       "\u001b[2;36m[15:23:58]\u001b[0m\u001b[2;36m \u001b[0mInvolved functions:                                                             \u001b]8;id=648791;file:///home/paltenmo/projects/crossplatform/analysis_and_reporting/ddmin_target_file.py\u001b\\\u001b[2mddmin_target_file.py\u001b[0m\u001b]8;;\u001b\\\u001b[2m:\u001b[0m\u001b]8;id=867010;file:///home/paltenmo/projects/crossplatform/analysis_and_reporting/ddmin_target_file.py#206\u001b\\\u001b[2m206\u001b[0m\u001b]8;;\u001b\\\n"
      ]
     },
     "metadata": {},
     "output_type": "display_data"
    },
    {
     "data": {
      "text/html": [
       "<pre style=\"white-space:pre;overflow-x:auto;line-height:normal;font-family:Menlo,'DejaVu Sans Mono',consolas,'Courier New',monospace\"><span style=\"color: #7fbfbf; text-decoration-color: #7fbfbf\">           </span>  - compare_qasm_via_qcec                                                       <a href=\"file:///home/paltenmo/projects/crossplatform/analysis_and_reporting/ddmin_target_file.py\" target=\"_blank\"><span style=\"color: #7f7f7f; text-decoration-color: #7f7f7f\">ddmin_target_file.py</span></a><span style=\"color: #7f7f7f; text-decoration-color: #7f7f7f\">:</span><a href=\"file:///home/paltenmo/projects/crossplatform/analysis_and_reporting/ddmin_target_file.py#208\" target=\"_blank\"><span style=\"color: #7f7f7f; text-decoration-color: #7f7f7f\">208</span></a>\n",
       "</pre>\n"
      ],
      "text/plain": [
       "\u001b[2;36m          \u001b[0m\u001b[2;36m \u001b[0m  - compare_qasm_via_qcec                                                       \u001b]8;id=128903;file:///home/paltenmo/projects/crossplatform/analysis_and_reporting/ddmin_target_file.py\u001b\\\u001b[2mddmin_target_file.py\u001b[0m\u001b]8;;\u001b\\\u001b[2m:\u001b[0m\u001b]8;id=262494;file:///home/paltenmo/projects/crossplatform/analysis_and_reporting/ddmin_target_file.py#208\u001b\\\u001b[2m208\u001b[0m\u001b]8;;\u001b\\\n"
      ]
     },
     "metadata": {},
     "output_type": "display_data"
    },
    {
     "data": {
      "text/html": [
       "<pre style=\"white-space:pre;overflow-x:auto;line-height:normal;font-family:Menlo,'DejaVu Sans Mono',consolas,'Courier New',monospace\"><span style=\"color: #7fbfbf; text-decoration-color: #7fbfbf\">           </span>  - export_to_qasm_with_pytket                                                  <a href=\"file:///home/paltenmo/projects/crossplatform/analysis_and_reporting/ddmin_target_file.py\" target=\"_blank\"><span style=\"color: #7f7f7f; text-decoration-color: #7f7f7f\">ddmin_target_file.py</span></a><span style=\"color: #7f7f7f; text-decoration-color: #7f7f7f\">:</span><a href=\"file:///home/paltenmo/projects/crossplatform/analysis_and_reporting/ddmin_target_file.py#208\" target=\"_blank\"><span style=\"color: #7f7f7f; text-decoration-color: #7f7f7f\">208</span></a>\n",
       "</pre>\n"
      ],
      "text/plain": [
       "\u001b[2;36m          \u001b[0m\u001b[2;36m \u001b[0m  - export_to_qasm_with_pytket                                                  \u001b]8;id=130607;file:///home/paltenmo/projects/crossplatform/analysis_and_reporting/ddmin_target_file.py\u001b\\\u001b[2mddmin_target_file.py\u001b[0m\u001b]8;;\u001b\\\u001b[2m:\u001b[0m\u001b]8;id=854269;file:///home/paltenmo/projects/crossplatform/analysis_and_reporting/ddmin_target_file.py#208\u001b\\\u001b[2m208\u001b[0m\u001b]8;;\u001b\\\n"
      ]
     },
     "metadata": {},
     "output_type": "display_data"
    },
    {
     "data": {
      "text/html": [
       "<pre style=\"white-space:pre;overflow-x:auto;line-height:normal;font-family:Menlo,'DejaVu Sans Mono',consolas,'Courier New',monospace\"><span style=\"color: #7fbfbf; text-decoration-color: #7fbfbf\">           </span>  - export_to_qasm_with_qiskit                                                  <a href=\"file:///home/paltenmo/projects/crossplatform/analysis_and_reporting/ddmin_target_file.py\" target=\"_blank\"><span style=\"color: #7f7f7f; text-decoration-color: #7f7f7f\">ddmin_target_file.py</span></a><span style=\"color: #7f7f7f; text-decoration-color: #7f7f7f\">:</span><a href=\"file:///home/paltenmo/projects/crossplatform/analysis_and_reporting/ddmin_target_file.py#208\" target=\"_blank\"><span style=\"color: #7f7f7f; text-decoration-color: #7f7f7f\">208</span></a>\n",
       "</pre>\n"
      ],
      "text/plain": [
       "\u001b[2;36m          \u001b[0m\u001b[2;36m \u001b[0m  - export_to_qasm_with_qiskit                                                  \u001b]8;id=710345;file:///home/paltenmo/projects/crossplatform/analysis_and_reporting/ddmin_target_file.py\u001b\\\u001b[2mddmin_target_file.py\u001b[0m\u001b]8;;\u001b\\\u001b[2m:\u001b[0m\u001b]8;id=164765;file:///home/paltenmo/projects/crossplatform/analysis_and_reporting/ddmin_target_file.py#208\u001b\\\u001b[2m208\u001b[0m\u001b]8;;\u001b\\\n"
      ]
     },
     "metadata": {},
     "output_type": "display_data"
    },
    {
     "name": "stdout",
     "output_type": "stream",
     "text": [
      "Error parsing: Command 'python /workspace/to_execute.py' in image 'qiskit_runner' returned non-zero exit status 1: b'Traceback (most recent call last):\\n  File \"/workspace/to_execute.py\", line 105, in <module>\\n    target_qc = qc\\nNameError: name \\'qc\\' is not defined\\n'\n",
      "Failed to execute to_execute.py in Docker.\n",
      "Output: Saved the Pytket circuit to /workspace/to_execute_qc_pytket.qasm\n",
      "Saved the Qiskit circuit to /workspace/to_execute_qc_qiskit.qasm\n",
      "Exported QASM files: [('/workspace/to_execute_qc_pytket.qasm', 'export_to_qasm_with_pytket'), ('/workspace/to_execute_qc_qiskit.qasm', 'export_to_qasm_with_qiskit')]\n",
      "Log has been saved to /workspace/to_execute_20d2d1_error.json\n",
      "\n",
      "Program to_execute.py executed successfully.\n",
      "New exception message: The circuits are not equivalent: /workspace/to_execute_qc_pytket.qasm, /workspace/to_execute_qc_qiskit.qasm\n",
      "Error parsing: Command 'python /workspace/to_execute.py' in image 'qiskit_runner' returned non-zero exit status 1: b'  File \"/workspace/to_execute.py\", line 20\\n    , custom_instructions=qasm2.LEGACY_CUSTOM_INSTRUCTIONS)\\n                                                          ^\\nSyntaxError: unmatched \\')\\'\\n'\n",
      "Failed to execute to_execute.py in Docker.\n",
      "Error parsing: Command 'python /workspace/to_execute.py' in image 'qiskit_runner' returned non-zero exit status 1: b'  File \"/workspace/to_execute.py\", line 10\\n    qc = qasm2.loads(\\n                    ^\\nSyntaxError: \\'(\\' was never closed\\n'\n",
      "Failed to execute to_execute.py in Docker.\n",
      "Error parsing: Command 'python /workspace/to_execute.py' in image 'qiskit_runner' returned non-zero exit status 1: b'  File \"/workspace/to_execute.py\", line 29\\n    , custom_instructions=qasm2.LEGACY_CUSTOM_INSTRUCTIONS)\\n                                                          ^\\nSyntaxError: unmatched \\')\\'\\n'\n",
      "Failed to execute to_execute.py in Docker.\n",
      "Error parsing: Command 'python /workspace/to_execute.py' in image 'qiskit_runner' returned non-zero exit status 1: b'Traceback (most recent call last):\\n  File \"/workspace/to_execute.py\", line 10, in <module>\\n    qc = qasm2.loads(\\n  File \"/usr/local/lib/python3.10/site-packages/qiskit/qasm2/__init__.py\", line 587, in loads\\n    return _parse.from_bytecode(\\n  File \"/usr/local/lib/python3.10/site-packages/qiskit/qasm2/parse.py\", line 214, in from_bytecode\\n    for op in bc:\\nqiskit.qasm2.exceptions.QASM2ParseError: \"<input>:6,28: \\'reg_1_q\\' is not defined in this scope\"\\n'\n",
      "Failed to execute to_execute.py in Docker.\n",
      "Output: Saved the Pytket circuit to /workspace/to_execute_qc_pytket.qasm\n",
      "Saved the Qiskit circuit to /workspace/to_execute_qc_qiskit.qasm\n",
      "Exported QASM files: [('/workspace/to_execute_qc_pytket.qasm', 'export_to_qasm_with_pytket'), ('/workspace/to_execute_qc_qiskit.qasm', 'export_to_qasm_with_qiskit')]\n",
      "Log has been saved to /workspace/to_execute_c65993_error.json\n",
      "\n",
      "Program to_execute.py executed successfully.\n",
      "New exception message: The circuits are not equivalent: /workspace/to_execute_qc_pytket.qasm, /workspace/to_execute_qc_qiskit.qasm\n",
      "Error parsing: Command 'python /workspace/to_execute.py' in image 'qiskit_runner' returned non-zero exit status 1: b'  File \"/workspace/to_execute.py\", line 20\\n    , custom_instructions=qasm2.LEGACY_CUSTOM_INSTRUCTIONS)\\n                                                          ^\\nSyntaxError: unmatched \\')\\'\\n'\n",
      "Failed to execute to_execute.py in Docker.\n",
      "Error parsing: Command 'python /workspace/to_execute.py' in image 'qiskit_runner' returned non-zero exit status 1: b'Traceback (most recent call last):\\n  File \"/workspace/to_execute.py\", line 10, in <module>\\n    qc = qasm2.loads(\\n  File \"/usr/local/lib/python3.10/site-packages/qiskit/qasm2/__init__.py\", line 587, in loads\\n    return _parse.from_bytecode(\\n  File \"/usr/local/lib/python3.10/site-packages/qiskit/qasm2/parse.py\", line 214, in from_bytecode\\n    for op in bc:\\nqiskit.qasm2.exceptions.QASM2ParseError: \"<input>:5,24: \\'reg_1_q\\' is not defined in this scope\"\\n'\n",
      "Failed to execute to_execute.py in Docker.\n",
      "Error parsing: Command 'python /workspace/to_execute.py' in image 'qiskit_runner' returned non-zero exit status 1: b'  File \"/workspace/to_execute.py\", line 10\\n    qc = qasm2.loads(\\n                    ^\\nSyntaxError: \\'(\\' was never closed\\n'\n",
      "Failed to execute to_execute.py in Docker.\n",
      "Error parsing: Command 'python /workspace/to_execute.py' in image 'qiskit_runner' returned non-zero exit status 1: b'  File \"/workspace/to_execute.py\", line 23\\n    , custom_instructions=qasm2.LEGACY_CUSTOM_INSTRUCTIONS)\\n                                                          ^\\nSyntaxError: unmatched \\')\\'\\n'\n",
      "Failed to execute to_execute.py in Docker.\n",
      "Error parsing: Command 'python /workspace/to_execute.py' in image 'qiskit_runner' returned non-zero exit status 1: b'Traceback (most recent call last):\\n  File \"/workspace/to_execute.py\", line 10, in <module>\\n    qc = qasm2.loads(\\n  File \"/usr/local/lib/python3.10/site-packages/qiskit/qasm2/__init__.py\", line 587, in loads\\n    return _parse.from_bytecode(\\n  File \"/usr/local/lib/python3.10/site-packages/qiskit/qasm2/parse.py\", line 214, in from_bytecode\\n    for op in bc:\\nqiskit.qasm2.exceptions.QASM2ParseError: \"<input>:5,0: cannot use non-builtin custom instruction \\'cx\\' before definition\"\\n'\n",
      "Failed to execute to_execute.py in Docker.\n",
      "Error parsing: Command 'python /workspace/to_execute.py' in image 'qiskit_runner' returned non-zero exit status 1: b'Traceback (most recent call last):\\n  File \"/workspace/to_execute.py\", line 10, in <module>\\n    qc = qasm2.loads(\\n  File \"/usr/local/lib/python3.10/site-packages/qiskit/qasm2/__init__.py\", line 587, in loads\\n    return _parse.from_bytecode(\\n  File \"/usr/local/lib/python3.10/site-packages/qiskit/qasm2/parse.py\", line 214, in from_bytecode\\n    for op in bc:\\nqiskit.qasm2.exceptions.QASM2ParseError: \"<input>:5,3: \\'reg_1_q\\' is not defined in this scope\"\\n'\n",
      "Failed to execute to_execute.py in Docker.\n",
      "Output: Saved the Pytket circuit to /workspace/to_execute_qc_pytket.qasm\n",
      "Saved the Qiskit circuit to /workspace/to_execute_qc_qiskit.qasm\n",
      "Exported QASM files: [('/workspace/to_execute_qc_pytket.qasm', 'export_to_qasm_with_pytket'), ('/workspace/to_execute_qc_qiskit.qasm', 'export_to_qasm_with_qiskit')]\n",
      "Log has been saved to /workspace/to_execute_ce52a4_error.json\n",
      "\n",
      "Program to_execute.py executed successfully.\n",
      "New exception message: The circuits are not equivalent: /workspace/to_execute_qc_pytket.qasm, /workspace/to_execute_qc_qiskit.qasm\n",
      "Error parsing: Command 'python /workspace/to_execute.py' in image 'qiskit_runner' returned non-zero exit status 1: b'  File \"/workspace/to_execute.py\", line 19\\n    , custom_instructions=qasm2.LEGACY_CUSTOM_INSTRUCTIONS)\\n                                                          ^\\nSyntaxError: unmatched \\')\\'\\n'\n",
      "Failed to execute to_execute.py in Docker.\n",
      "Error parsing: Command 'python /workspace/to_execute.py' in image 'qiskit_runner' returned non-zero exit status 1: b'Traceback (most recent call last):\\n  File \"/workspace/to_execute.py\", line 10, in <module>\\n    qc = qasm2.loads(\\n  File \"/usr/local/lib/python3.10/site-packages/qiskit/qasm2/__init__.py\", line 587, in loads\\n    return _parse.from_bytecode(\\n  File \"/usr/local/lib/python3.10/site-packages/qiskit/qasm2/parse.py\", line 214, in from_bytecode\\n    for op in bc:\\nqiskit.qasm2.exceptions.QASM2ParseError: \"<input>:6,0: cannot use non-builtin custom instruction \\'cx\\' before definition\"\\n'\n",
      "Failed to execute to_execute.py in Docker.\n",
      "Error parsing: Command 'python /workspace/to_execute.py' in image 'qiskit_runner' returned non-zero exit status 1: b'Traceback (most recent call last):\\n  File \"/workspace/to_execute.py\", line 10, in <module>\\n    qc = qasm2.loads(\\n  File \"/usr/local/lib/python3.10/site-packages/qiskit/qasm2/__init__.py\", line 587, in loads\\n    return _parse.from_bytecode(\\n  File \"/usr/local/lib/python3.10/site-packages/qiskit/qasm2/parse.py\", line 214, in from_bytecode\\n    for op in bc:\\nqiskit.qasm2.exceptions.QASM2ParseError: \"<input>:5,24: \\'reg_1_q\\' is not defined in this scope\"\\n'\n",
      "Failed to execute to_execute.py in Docker.\n",
      "Output: Saved the Pytket circuit to /workspace/to_execute_qc_pytket.qasm\n",
      "Saved the Qiskit circuit to /workspace/to_execute_qc_qiskit.qasm\n",
      "Exported QASM files: [('/workspace/to_execute_qc_pytket.qasm', 'export_to_qasm_with_pytket'), ('/workspace/to_execute_qc_qiskit.qasm', 'export_to_qasm_with_qiskit')]\n",
      "The circuits are equivalent: /workspace/to_execute_qc_pytket.qasm, /workspace/to_execute_qc_qiskit.qasm\n",
      "\n",
      "Program to_execute.py executed successfully.\n",
      "Error parsing: Command 'python /workspace/to_execute.py' in image 'qiskit_runner' returned non-zero exit status 1: b'  File \"/workspace/to_execute.py\", line 10\\n    qc = qasm2.loads(\\n                    ^\\nSyntaxError: \\'(\\' was never closed\\n'\n",
      "Failed to execute to_execute.py in Docker.\n",
      "Error parsing: Command 'python /workspace/to_execute.py' in image 'qiskit_runner' returned non-zero exit status 1: b'  File \"/workspace/to_execute.py\", line 22\\n    , custom_instructions=qasm2.LEGACY_CUSTOM_INSTRUCTIONS)\\nIndentationError: unexpected indent\\n'\n",
      "Failed to execute to_execute.py in Docker.\n",
      "Output: Saved the Pytket circuit to /workspace/to_execute_qc_pytket.qasm\n",
      "Saved the Qiskit circuit to /workspace/to_execute_qc_qiskit.qasm\n",
      "Exported QASM files: [('/workspace/to_execute_qc_pytket.qasm', 'export_to_qasm_with_pytket'), ('/workspace/to_execute_qc_qiskit.qasm', 'export_to_qasm_with_qiskit')]\n",
      "Log has been saved to /workspace/to_execute_f821ab_error.json\n",
      "\n",
      "Program to_execute.py executed successfully.\n",
      "New exception message: The circuits are not equivalent: /workspace/to_execute_qc_pytket.qasm, /workspace/to_execute_qc_qiskit.qasm\n",
      "Error parsing: Command 'python /workspace/to_execute.py' in image 'qiskit_runner' returned non-zero exit status 1: b'  File \"/workspace/to_execute.py\", line 21\\n    , custom_instructions=qasm2.LEGACY_CUSTOM_INSTRUCTIONS)\\nIndentationError: unexpected indent\\n'\n",
      "Failed to execute to_execute.py in Docker.\n",
      "Error parsing: Command 'python /workspace/to_execute.py' in image 'qiskit_runner' returned non-zero exit status 1: b'  File \"/workspace/to_execute.py\", line 11\\n    include \"qelib1.inc\";\\n            ^^^^^^^^^^^^\\nSyntaxError: invalid syntax\\n'\n",
      "Failed to execute to_execute.py in Docker.\n",
      "Error parsing: Command 'python /workspace/to_execute.py' in image 'qiskit_runner' returned non-zero exit status 1: b'Traceback (most recent call last):\\n  File \"/workspace/to_execute.py\", line 10, in <module>\\n    qc = qasm2.loads(\\n  File \"/usr/local/lib/python3.10/site-packages/qiskit/qasm2/__init__.py\", line 587, in loads\\n    return _parse.from_bytecode(\\n  File \"/usr/local/lib/python3.10/site-packages/qiskit/qasm2/parse.py\", line 214, in from_bytecode\\n    for op in bc:\\nqiskit.qasm2.exceptions.QASM2ParseError: \"<input>:8,0: cannot use non-builtin custom instruction \\'cx\\' before definition\"\\n'\n",
      "Failed to execute to_execute.py in Docker.\n",
      "Error parsing: Command 'python /workspace/to_execute.py' in image 'qiskit_runner' returned non-zero exit status 1: b'Traceback (most recent call last):\\n  File \"/workspace/to_execute.py\", line 10, in <module>\\n    qc = qasm2.loads(\\n  File \"/usr/local/lib/python3.10/site-packages/qiskit/qasm2/__init__.py\", line 587, in loads\\n    return _parse.from_bytecode(\\n  File \"/usr/local/lib/python3.10/site-packages/qiskit/qasm2/parse.py\", line 214, in from_bytecode\\n    for op in bc:\\nqiskit.qasm2.exceptions.QASM2ParseError: \"<input>:7,14: \\'reg_2_b\\' is not defined in this scope\"\\n'\n",
      "Failed to execute to_execute.py in Docker.\n",
      "Error parsing: Command 'python /workspace/to_execute.py' in image 'qiskit_runner' returned non-zero exit status 1: b'Traceback (most recent call last):\\n  File \"/workspace/to_execute.py\", line 10, in <module>\\n    qc = qasm2.loads(\\n  File \"/usr/local/lib/python3.10/site-packages/qiskit/qasm2/__init__.py\", line 587, in loads\\n    return _parse.from_bytecode(\\n  File \"/usr/local/lib/python3.10/site-packages/qiskit/qasm2/parse.py\", line 214, in from_bytecode\\n    for op in bc:\\nqiskit.qasm2.exceptions.QASM2ParseError: \"<input>:7,24: \\'reg_1_q\\' is not defined in this scope\"\\n'\n",
      "Failed to execute to_execute.py in Docker.\n",
      "Output: Saved the Pytket circuit to /workspace/to_execute_qc_pytket.qasm\n",
      "Saved the Qiskit circuit to /workspace/to_execute_qc_qiskit.qasm\n",
      "Exported QASM files: [('/workspace/to_execute_qc_pytket.qasm', 'export_to_qasm_with_pytket'), ('/workspace/to_execute_qc_qiskit.qasm', 'export_to_qasm_with_qiskit')]\n",
      "Log has been saved to /workspace/to_execute_82fdfc_error.json\n",
      "\n",
      "Program to_execute.py executed successfully.\n",
      "New exception message: The circuits are not equivalent: /workspace/to_execute_qc_pytket.qasm, /workspace/to_execute_qc_qiskit.qasm\n",
      "Error parsing: Command 'python /workspace/to_execute.py' in image 'qiskit_runner' returned non-zero exit status 1: b'  File \"/workspace/to_execute.py\", line 19\\n    , custom_instructions=qasm2.LEGACY_CUSTOM_INSTRUCTIONS)\\nIndentationError: unexpected indent\\n'\n",
      "Failed to execute to_execute.py in Docker.\n",
      "Error parsing: Command 'python /workspace/to_execute.py' in image 'qiskit_runner' returned non-zero exit status 1: b'  File \"/workspace/to_execute.py\", line 11\\n    OPENQASM 2.0;\\n    ^^^^^^^^^^^^\\nSyntaxError: invalid syntax. Perhaps you forgot a comma?\\n'\n",
      "Failed to execute to_execute.py in Docker.\n",
      "Error parsing: Command 'python /workspace/to_execute.py' in image 'qiskit_runner' returned non-zero exit status 1: b'Traceback (most recent call last):\\n  File \"/workspace/to_execute.py\", line 10, in <module>\\n    qc = qasm2.loads(\\n  File \"/usr/local/lib/python3.10/site-packages/qiskit/qasm2/__init__.py\", line 587, in loads\\n    return _parse.from_bytecode(\\n  File \"/usr/local/lib/python3.10/site-packages/qiskit/qasm2/parse.py\", line 214, in from_bytecode\\n    for op in bc:\\nqiskit.qasm2.exceptions.QASM2ParseError: \"<input>:5,0: cannot use non-builtin custom instruction \\'cx\\' before definition\"\\n'\n",
      "Failed to execute to_execute.py in Docker.\n",
      "Error parsing: Command 'python /workspace/to_execute.py' in image 'qiskit_runner' returned non-zero exit status 1: b'Traceback (most recent call last):\\n  File \"/workspace/to_execute.py\", line 10, in <module>\\n    qc = qasm2.loads(\\n  File \"/usr/local/lib/python3.10/site-packages/qiskit/qasm2/__init__.py\", line 587, in loads\\n    return _parse.from_bytecode(\\n  File \"/usr/local/lib/python3.10/site-packages/qiskit/qasm2/parse.py\", line 214, in from_bytecode\\n    for op in bc:\\nqiskit.qasm2.exceptions.QASM2ParseError: \"<input>:7,3: \\'reg_2_cin\\' is not defined in this scope\"\\n'\n",
      "Failed to execute to_execute.py in Docker.\n",
      "Error parsing: Command 'python /workspace/to_execute.py' in image 'qiskit_runner' returned non-zero exit status 1: b'Traceback (most recent call last):\\n  File \"/workspace/to_execute.py\", line 10, in <module>\\n    qc = qasm2.loads(\\n  File \"/usr/local/lib/python3.10/site-packages/qiskit/qasm2/__init__.py\", line 587, in loads\\n    return _parse.from_bytecode(\\n  File \"/usr/local/lib/python3.10/site-packages/qiskit/qasm2/parse.py\", line 214, in from_bytecode\\n    for op in bc:\\nqiskit.qasm2.exceptions.QASM2ParseError: \"<input>:5,3: \\'reg_1_q\\' is not defined in this scope\"\\n'\n",
      "Failed to execute to_execute.py in Docker.\n",
      "Output: Saved the Pytket circuit to /workspace/to_execute_qc_pytket.qasm\n",
      "Saved the Qiskit circuit to /workspace/to_execute_qc_qiskit.qasm\n",
      "Exported QASM files: [('/workspace/to_execute_qc_pytket.qasm', 'export_to_qasm_with_pytket'), ('/workspace/to_execute_qc_qiskit.qasm', 'export_to_qasm_with_qiskit')]\n",
      "Log has been saved to /workspace/to_execute_b0e1af_error.json\n",
      "\n",
      "Program to_execute.py executed successfully.\n",
      "New exception message: The circuits are not equivalent: /workspace/to_execute_qc_pytket.qasm, /workspace/to_execute_qc_qiskit.qasm\n",
      "Error parsing: Command 'python /workspace/to_execute.py' in image 'qiskit_runner' returned non-zero exit status 1: b'  File \"/workspace/to_execute.py\", line 18\\n    , custom_instructions=qasm2.LEGACY_CUSTOM_INSTRUCTIONS)\\nIndentationError: unexpected indent\\n'\n",
      "Failed to execute to_execute.py in Docker.\n",
      "Error parsing: Command 'python /workspace/to_execute.py' in image 'qiskit_runner' returned non-zero exit status 1: b'  File \"/workspace/to_execute.py\", line 11\\n    include \"qelib1.inc\";\\n            ^^^^^^^^^^^^\\nSyntaxError: invalid syntax\\n'\n",
      "Failed to execute to_execute.py in Docker.\n",
      "Error parsing: Command 'python /workspace/to_execute.py' in image 'qiskit_runner' returned non-zero exit status 1: b'Traceback (most recent call last):\\n  File \"/workspace/to_execute.py\", line 10, in <module>\\n    qc = qasm2.loads(\\n  File \"/usr/local/lib/python3.10/site-packages/qiskit/qasm2/__init__.py\", line 587, in loads\\n    return _parse.from_bytecode(\\n  File \"/usr/local/lib/python3.10/site-packages/qiskit/qasm2/parse.py\", line 214, in from_bytecode\\n    for op in bc:\\nqiskit.qasm2.exceptions.QASM2ParseError: \"<input>:6,0: cannot use non-builtin custom instruction \\'cx\\' before definition\"\\n'\n",
      "Failed to execute to_execute.py in Docker.\n",
      "Error parsing: Command 'python /workspace/to_execute.py' in image 'qiskit_runner' returned non-zero exit status 1: b'Traceback (most recent call last):\\n  File \"/workspace/to_execute.py\", line 10, in <module>\\n    qc = qasm2.loads(\\n  File \"/usr/local/lib/python3.10/site-packages/qiskit/qasm2/__init__.py\", line 587, in loads\\n    return _parse.from_bytecode(\\n  File \"/usr/local/lib/python3.10/site-packages/qiskit/qasm2/parse.py\", line 214, in from_bytecode\\n    for op in bc:\\nqiskit.qasm2.exceptions.QASM2ParseError: \"<input>:5,3: \\'reg_2_cin\\' is not defined in this scope\"\\n'\n",
      "Failed to execute to_execute.py in Docker.\n",
      "Output: Saved the Pytket circuit to /workspace/to_execute_qc_pytket.qasm\n",
      "Saved the Qiskit circuit to /workspace/to_execute_qc_qiskit.qasm\n",
      "Exported QASM files: [('/workspace/to_execute_qc_pytket.qasm', 'export_to_qasm_with_pytket'), ('/workspace/to_execute_qc_qiskit.qasm', 'export_to_qasm_with_qiskit')]\n",
      "Log has been saved to /workspace/to_execute_d72eb2_error.json\n",
      "\n",
      "Program to_execute.py executed successfully.\n",
      "New exception message: The circuits are not equivalent: /workspace/to_execute_qc_pytket.qasm, /workspace/to_execute_qc_qiskit.qasm\n",
      "Error parsing: Command 'python /workspace/to_execute.py' in image 'qiskit_runner' returned non-zero exit status 1: b'  File \"/workspace/to_execute.py\", line 15\\n    , custom_instructions=qasm2.LEGACY_CUSTOM_INSTRUCTIONS)\\n                                                          ^\\nSyntaxError: unmatched \\')\\'\\n'\n",
      "Failed to execute to_execute.py in Docker.\n",
      "Output: Saved the Pytket circuit to /workspace/to_execute_qc_pytket.qasm\n",
      "Saved the Qiskit circuit to /workspace/to_execute_qc_qiskit.qasm\n",
      "Exported QASM files: [('/workspace/to_execute_qc_pytket.qasm', 'export_to_qasm_with_pytket'), ('/workspace/to_execute_qc_qiskit.qasm', 'export_to_qasm_with_qiskit')]\n",
      "Log has been saved to /workspace/to_execute_572ebb_error.json\n",
      "\n",
      "Program to_execute.py executed successfully.\n",
      "New exception message: The circuits are not equivalent: /workspace/to_execute_qc_pytket.qasm, /workspace/to_execute_qc_qiskit.qasm\n",
      "Error parsing: Command 'python /workspace/to_execute.py' in image 'qiskit_runner' returned non-zero exit status 1: b'  File \"/workspace/to_execute.py\", line 14\\n    , custom_instructions=qasm2.LEGACY_CUSTOM_INSTRUCTIONS)\\n                                                          ^\\nSyntaxError: unmatched \\')\\'\\n'\n",
      "Failed to execute to_execute.py in Docker.\n",
      "Error parsing: Command 'python /workspace/to_execute.py' in image 'qiskit_runner' returned non-zero exit status 1: b'Traceback (most recent call last):\\n  File \"/workspace/to_execute.py\", line 10, in <module>\\n    qc = qasm2.loads(\\n  File \"/usr/local/lib/python3.10/site-packages/qiskit/qasm2/__init__.py\", line 587, in loads\\n    return _parse.from_bytecode(\\n  File \"/usr/local/lib/python3.10/site-packages/qiskit/qasm2/parse.py\", line 214, in from_bytecode\\n    for op in bc:\\nqiskit.qasm2.exceptions.QASM2ParseError: \"<input>:3,0: cannot use non-builtin custom instruction \\'cx\\' before definition\"\\n'\n",
      "Failed to execute to_execute.py in Docker.\n",
      "Error parsing: Command 'python /workspace/to_execute.py' in image 'qiskit_runner' returned non-zero exit status 1: b'Traceback (most recent call last):\\n  File \"/workspace/to_execute.py\", line 10, in <module>\\n    qc = qasm2.loads(\\n  File \"/usr/local/lib/python3.10/site-packages/qiskit/qasm2/__init__.py\", line 587, in loads\\n    return _parse.from_bytecode(\\n  File \"/usr/local/lib/python3.10/site-packages/qiskit/qasm2/parse.py\", line 214, in from_bytecode\\n    for op in bc:\\nqiskit.qasm2.exceptions.QASM2ParseError: \"<input>:4,16: \\'reg_2_b\\' is not defined in this scope\"\\n'\n",
      "Failed to execute to_execute.py in Docker.\n",
      "Error parsing: Command 'python /workspace/to_execute.py' in image 'qiskit_runner' returned non-zero exit status 1: b'  File \"/workspace/to_execute.py\", line 11\\n    include \"qelib1.inc\";\\n            ^^^^^^^^^^^^\\nSyntaxError: invalid syntax\\n'\n",
      "Failed to execute to_execute.py in Docker.\n",
      "Error parsing: Command 'python /workspace/to_execute.py' in image 'qiskit_runner' returned non-zero exit status 1: b'  File \"/workspace/to_execute.py\", line 10\\n    qc = qasm2.loads(\\n                    ^\\nSyntaxError: \\'(\\' was never closed\\n'\n",
      "Failed to execute to_execute.py in Docker.\n",
      "Error parsing: Command 'python /workspace/to_execute.py' in image 'qiskit_runner' returned non-zero exit status 1: b'  File \"/workspace/to_execute.py\", line 16\\n    , custom_instructions=qasm2.LEGACY_CUSTOM_INSTRUCTIONS)\\nIndentationError: unexpected indent\\n'\n",
      "Failed to execute to_execute.py in Docker.\n",
      "Error parsing: Command 'python /workspace/to_execute.py' in image 'qiskit_runner' returned non-zero exit status 1: b'  File \"/workspace/to_execute.py\", line 11\\n    include \"qelib1.inc\";\\n            ^^^^^^^^^^^^\\nSyntaxError: invalid syntax\\n'\n",
      "Failed to execute to_execute.py in Docker.\n",
      "Error parsing: Command 'python /workspace/to_execute.py' in image 'qiskit_runner' returned non-zero exit status 1: b'Traceback (most recent call last):\\n  File \"/workspace/to_execute.py\", line 10, in <module>\\n    qc = qasm2.loads(\\n  File \"/usr/local/lib/python3.10/site-packages/qiskit/qasm2/__init__.py\", line 587, in loads\\n    return _parse.from_bytecode(\\n  File \"/usr/local/lib/python3.10/site-packages/qiskit/qasm2/parse.py\", line 214, in from_bytecode\\n    for op in bc:\\nqiskit.qasm2.exceptions.QASM2ParseError: \"<input>:4,0: cannot use non-builtin custom instruction \\'cx\\' before definition\"\\n'\n",
      "Failed to execute to_execute.py in Docker.\n",
      "Error parsing: Command 'python /workspace/to_execute.py' in image 'qiskit_runner' returned non-zero exit status 1: b'Traceback (most recent call last):\\n  File \"/workspace/to_execute.py\", line 10, in <module>\\n    qc = qasm2.loads(\\n  File \"/usr/local/lib/python3.10/site-packages/qiskit/qasm2/__init__.py\", line 587, in loads\\n    return _parse.from_bytecode(\\n  File \"/usr/local/lib/python3.10/site-packages/qiskit/qasm2/parse.py\", line 214, in from_bytecode\\n    for op in bc:\\nqiskit.qasm2.exceptions.QASM2ParseError: \"<input>:4,3: \\'reg_2_cin\\' is not defined in this scope\"\\n'\n",
      "Failed to execute to_execute.py in Docker.\n",
      "Error parsing: Command 'python /workspace/to_execute.py' in image 'qiskit_runner' returned non-zero exit status 1: b'Traceback (most recent call last):\\n  File \"/workspace/to_execute.py\", line 10, in <module>\\n    qc = qasm2.loads(\\n  File \"/usr/local/lib/python3.10/site-packages/qiskit/qasm2/__init__.py\", line 587, in loads\\n    return _parse.from_bytecode(\\n  File \"/usr/local/lib/python3.10/site-packages/qiskit/qasm2/parse.py\", line 214, in from_bytecode\\n    for op in bc:\\nqiskit.qasm2.exceptions.QASM2ParseError: \"<input>:4,16: \\'reg_2_b\\' is not defined in this scope\"\\n'\n",
      "Failed to execute to_execute.py in Docker.\n",
      "Output: Saved the Pytket circuit to /workspace/to_execute_qc_pytket.qasm\n",
      "Saved the Qiskit circuit to /workspace/to_execute_qc_qiskit.qasm\n",
      "Exported QASM files: [('/workspace/to_execute_qc_pytket.qasm', 'export_to_qasm_with_pytket'), ('/workspace/to_execute_qc_qiskit.qasm', 'export_to_qasm_with_qiskit')]\n",
      "The circuits are equivalent: /workspace/to_execute_qc_pytket.qasm, /workspace/to_execute_qc_qiskit.qasm\n",
      "\n",
      "Program to_execute.py executed successfully.\n",
      "Error parsing: Command 'python /workspace/to_execute.py' in image 'qiskit_runner' returned non-zero exit status 1: b'  File \"/workspace/to_execute.py\", line 11\\n    include \"qelib1.inc\";\\n            ^^^^^^^^^^^^\\nSyntaxError: invalid syntax\\n'\n",
      "Failed to execute to_execute.py in Docker.\n",
      "Error parsing: Command 'python /workspace/to_execute.py' in image 'qiskit_runner' returned non-zero exit status 1: b'  File \"/workspace/to_execute.py\", line 10\\n    qc = qasm2.loads(\\n                    ^\\nSyntaxError: \\'(\\' was never closed\\n'\n",
      "Failed to execute to_execute.py in Docker.\n"
     ]
    },
    {
     "data": {
      "text/html": [
       "<pre style=\"white-space:pre;overflow-x:auto;line-height:normal;font-family:Menlo,'DejaVu Sans Mono',consolas,'Courier New',monospace\"><span style=\"color: #7fbfbf; text-decoration-color: #7fbfbf\">[15:27:12] </span><span style=\"color: #008000; text-decoration-color: #008000\">Minimized file saved as:</span>                                                        <a href=\"file:///home/paltenmo/projects/crossplatform/analysis_and_reporting/ddmin_target_file.py\" target=\"_blank\"><span style=\"color: #7f7f7f; text-decoration-color: #7f7f7f\">ddmin_target_file.py</span></a><span style=\"color: #7f7f7f; text-decoration-color: #7f7f7f\">:</span><a href=\"file:///home/paltenmo/projects/crossplatform/analysis_and_reporting/ddmin_target_file.py#240\" target=\"_blank\"><span style=\"color: #7f7f7f; text-decoration-color: #7f7f7f\">240</span></a>\n",
       "<span style=\"color: #7fbfbf; text-decoration-color: #7fbfbf\">           </span>..<span style=\"color: #800080; text-decoration-color: #800080\">/reports/v009/2024_11_21__15_23/</span><span style=\"color: #ff00ff; text-decoration-color: #ff00ff\">qiskit_circuit_5q_10g_2997_458c2e_f885b3_erro</span> <span style=\"color: #7f7f7f; text-decoration-color: #7f7f7f\">                        </span>\n",
       "<span style=\"color: #7fbfbf; text-decoration-color: #7fbfbf\">           </span><span style=\"color: #ff00ff; text-decoration-color: #ff00ff\">r_min.py</span>                                                                        <span style=\"color: #7f7f7f; text-decoration-color: #7f7f7f\">                        </span>\n",
       "</pre>\n"
      ],
      "text/plain": [
       "\u001b[2;36m[15:27:12]\u001b[0m\u001b[2;36m \u001b[0m\u001b[32mMinimized file saved as:\u001b[0m                                                        \u001b]8;id=250509;file:///home/paltenmo/projects/crossplatform/analysis_and_reporting/ddmin_target_file.py\u001b\\\u001b[2mddmin_target_file.py\u001b[0m\u001b]8;;\u001b\\\u001b[2m:\u001b[0m\u001b]8;id=510256;file:///home/paltenmo/projects/crossplatform/analysis_and_reporting/ddmin_target_file.py#240\u001b\\\u001b[2m240\u001b[0m\u001b]8;;\u001b\\\n",
       "\u001b[2;36m           \u001b[0m..\u001b[35m/reports/v009/2024_11_21__15_23/\u001b[0m\u001b[95mqiskit_circuit_5q_10g_2997_458c2e_f885b3_erro\u001b[0m \u001b[2m                        \u001b[0m\n",
       "\u001b[2;36m           \u001b[0m\u001b[95mr_min.py\u001b[0m                                                                        \u001b[2m                        \u001b[0m\n"
      ]
     },
     "metadata": {},
     "output_type": "display_data"
    },
    {
     "name": "stdout",
     "output_type": "stream",
     "text": [
      "Output: Saved the Pytket circuit to /workspace/qiskit_circuit_5q_10g_2997_458c2e_f885b3_error_min_qc_pytket.qasm\n",
      "Saved the Qiskit circuit to /workspace/qiskit_circuit_5q_10g_2997_458c2e_f885b3_error_min_qc_qiskit.qasm\n",
      "Exported QASM files: [('/workspace/qiskit_circuit_5q_10g_2997_458c2e_f885b3_error_min_qc_pytket.qasm', 'export_to_qasm_with_pytket'), ('/workspace/qiskit_circuit_5q_10g_2997_458c2e_f885b3_error_min_qc_qiskit.qasm', 'export_to_qasm_with_qiskit')]\n",
      "Log has been saved to /workspace/qiskit_circuit_5q_10g_2997_458c2e_f885b3_error_min_da3a45_error.json\n",
      "\n"
     ]
    },
    {
     "data": {
      "text/html": [
       "<pre style=\"white-space:pre;overflow-x:auto;line-height:normal;font-family:Menlo,'DejaVu Sans Mono',consolas,'Courier New',monospace\"><span style=\"color: #7fbfbf; text-decoration-color: #7fbfbf\">[15:27:18] </span>Program qiskit_circuit_5q_10g_2997_458c2e_f885b3_error_min.py executed              <a href=\"file:///home/paltenmo/projects/crossplatform/generators/docker_tooling.py\" target=\"_blank\"><span style=\"color: #7f7f7f; text-decoration-color: #7f7f7f\">docker_tooling.py</span></a><span style=\"color: #7f7f7f; text-decoration-color: #7f7f7f\">:</span><a href=\"file:///home/paltenmo/projects/crossplatform/generators/docker_tooling.py#46\" target=\"_blank\"><span style=\"color: #7f7f7f; text-decoration-color: #7f7f7f\">46</span></a>\n",
       "<span style=\"color: #7fbfbf; text-decoration-color: #7fbfbf\">           </span>successfully.                                                                       <span style=\"color: #7f7f7f; text-decoration-color: #7f7f7f\">                    </span>\n",
       "</pre>\n"
      ],
      "text/plain": [
       "\u001b[2;36m[15:27:18]\u001b[0m\u001b[2;36m \u001b[0mProgram qiskit_circuit_5q_10g_2997_458c2e_f885b3_error_min.py executed              \u001b]8;id=134878;file:///home/paltenmo/projects/crossplatform/generators/docker_tooling.py\u001b\\\u001b[2mdocker_tooling.py\u001b[0m\u001b]8;;\u001b\\\u001b[2m:\u001b[0m\u001b]8;id=151265;file:///home/paltenmo/projects/crossplatform/generators/docker_tooling.py#46\u001b\\\u001b[2m46\u001b[0m\u001b]8;;\u001b\\\n",
       "\u001b[2;36m           \u001b[0msuccessfully.                                                                       \u001b[2m                    \u001b[0m\n"
      ]
     },
     "metadata": {},
     "output_type": "display_data"
    },
    {
     "data": {
      "application/vnd.jupyter.widget-view+json": {
       "model_id": "2bf5a3fb04c2458a98a458e4c1d428d3",
       "version_major": 2,
       "version_minor": 0
      },
      "text/plain": [
       "Executing:   0%|          | 0/13 [00:00<?, ?cell/s]"
      ]
     },
     "metadata": {},
     "output_type": "display_data"
    },
    {
     "data": {
      "text/html": [
       "<pre style=\"white-space:pre;overflow-x:auto;line-height:normal;font-family:Menlo,'DejaVu Sans Mono',consolas,'Courier New',monospace\"><span style=\"color: #7fbfbf; text-decoration-color: #7fbfbf\">[15:27:21] </span>Analysis notebook executed: ..<span style=\"color: #800080; text-decoration-color: #800080\">/reports/v009/2024_11_21__15_23/</span><span style=\"color: #ff00ff; text-decoration-color: #ff00ff\">analysis_output.ipynb</span>        <a href=\"file:///home/paltenmo/projects/crossplatform/analysis_and_reporting/triage.py\" target=\"_blank\"><span style=\"color: #7f7f7f; text-decoration-color: #7f7f7f\">triage.py</span></a><span style=\"color: #7f7f7f; text-decoration-color: #7f7f7f\">:</span><a href=\"file:///home/paltenmo/projects/crossplatform/analysis_and_reporting/triage.py#163\" target=\"_blank\"><span style=\"color: #7f7f7f; text-decoration-color: #7f7f7f\">163</span></a>\n",
       "</pre>\n"
      ],
      "text/plain": [
       "\u001b[2;36m[15:27:21]\u001b[0m\u001b[2;36m \u001b[0mAnalysis notebook executed: ..\u001b[35m/reports/v009/2024_11_21__15_23/\u001b[0m\u001b[95manalysis_output.ipynb\u001b[0m        \u001b]8;id=463065;file:///home/paltenmo/projects/crossplatform/analysis_and_reporting/triage.py\u001b\\\u001b[2mtriage.py\u001b[0m\u001b]8;;\u001b\\\u001b[2m:\u001b[0m\u001b]8;id=328971;file:///home/paltenmo/projects/crossplatform/analysis_and_reporting/triage.py#163\u001b\\\u001b[2m163\u001b[0m\u001b]8;;\u001b\\\n"
      ]
     },
     "metadata": {},
     "output_type": "display_data"
    }
   ],
   "source": [
    "from analysis_and_reporting.triage import analyze_and_report\n",
    "\n",
    "error_paths_in_sample_folder = [\n",
    "    os.path.join(DIR_SAMPLE_ERRORS, f)\n",
    "    for f in os.listdir(DIR_SAMPLE_ERRORS)\n",
    "    if re.match(r'.*_error\\.json$', f)\n",
    "]\n",
    "\n",
    "n_error_files = len(error_paths_in_sample_folder)\n",
    "print(f\"Error paths in sample folder ({n_error_files}):\")\n",
    "for error_path in error_paths_in_sample_folder:\n",
    "    print(error_path)\n",
    "\n",
    "# python -m analysis_and_reporting.triage --path_error_json program_bank/v007/2024_10_31__17_51__qiskit/qiskit_circuit_5q_10g_9_160f04_cfe9f1_error.json --parent_report_folder reports/v008 --clue_message 'not equivalent'\n",
    "\n",
    "\n",
    "# def analyze_and_report(\n",
    "#         path_error_json: str, path_program: str, parent_report_folder: str,\n",
    "#         clue_message: str, analysis_notebook: str)\n",
    "\n",
    "for error_path in error_paths_in_sample_folder:\n",
    "    try:\n",
    "        analyze_and_report(\n",
    "            path_error_json=error_path,\n",
    "            path_program=get_corresponding_program_file(error_path),\n",
    "            parent_report_folder=os.path.join(\"..\", \"reports\", \"v009\"),\n",
    "            clue_message='not equivalent',\n",
    "            analysis_notebook='010_Triage_Not_Equivalence.ipynb'\n",
    "        )\n",
    "    except Exception as e:\n",
    "        print(f\"Error: {e}\")\n",
    "        print(\"Skipping to the next error file\")"
   ]
  },
  {
   "cell_type": "markdown",
   "metadata": {},
   "source": [
    "# Inspect Crash Errors"
   ]
  },
  {
   "cell_type": "code",
   "execution_count": 7,
   "metadata": {},
   "outputs": [],
   "source": [
    "# ! pip install datasets"
   ]
  },
  {
   "cell_type": "code",
   "execution_count": 8,
   "metadata": {},
   "outputs": [
    {
     "data": {
      "text/html": [
       "<div>\n",
       "<style scoped>\n",
       "    .dataframe tbody tr th:only-of-type {\n",
       "        vertical-align: middle;\n",
       "    }\n",
       "\n",
       "    .dataframe tbody tr th {\n",
       "        vertical-align: top;\n",
       "    }\n",
       "\n",
       "    .dataframe thead th {\n",
       "        text-align: right;\n",
       "    }\n",
       "</style>\n",
       "<table border=\"1\" class=\"dataframe\">\n",
       "  <thead>\n",
       "    <tr style=\"text-align: right;\">\n",
       "      <th></th>\n",
       "      <th>exception_message</th>\n",
       "      <th>stack_trace</th>\n",
       "      <th>current_file</th>\n",
       "      <th>involved_functions</th>\n",
       "      <th>timestamp</th>\n",
       "      <th>error_file</th>\n",
       "      <th>file_content</th>\n",
       "    </tr>\n",
       "  </thead>\n",
       "  <tbody>\n",
       "    <tr>\n",
       "      <th>0</th>\n",
       "      <td>Could not import first circuit: &lt;input&gt;:5:1:\\n...</td>\n",
       "      <td>Traceback (most recent call last):\\n  File \"/w...</td>\n",
       "      <td>qiskit_circuit_5q_10g_5570_0b246b.py</td>\n",
       "      <td>[compare_qasm_via_qcec, export_to_qasm_with_bq...</td>\n",
       "      <td>1.735484e+09</td>\n",
       "      <td>qiskit_circuit_5q_10g_5570_0b246b_428131_error...</td>\n",
       "      <td># Section: Prologue\\nfrom qiskit import Quantu...</td>\n",
       "    </tr>\n",
       "    <tr>\n",
       "      <th>1</th>\n",
       "      <td>Could not import first circuit: &lt;input&gt;:5:1:\\n...</td>\n",
       "      <td>Traceback (most recent call last):\\n  File \"/w...</td>\n",
       "      <td>qiskit_circuit_5q_10g_4199_4ec27d.py</td>\n",
       "      <td>[compare_qasm_via_qcec, export_to_qasm_with_bq...</td>\n",
       "      <td>1.735443e+09</td>\n",
       "      <td>qiskit_circuit_5q_10g_4199_4ec27d_0fa4ad_error...</td>\n",
       "      <td># Section: Prologue\\nfrom qiskit import Quantu...</td>\n",
       "    </tr>\n",
       "    <tr>\n",
       "      <th>2</th>\n",
       "      <td>Could not import first circuit: &lt;input&gt;:5:1:\\n...</td>\n",
       "      <td>Traceback (most recent call last):\\n  File \"/w...</td>\n",
       "      <td>qiskit_circuit_5q_10g_9849_7e6728.py</td>\n",
       "      <td>[compare_qasm_via_qcec, export_to_qasm_with_bq...</td>\n",
       "      <td>1.735577e+09</td>\n",
       "      <td>qiskit_circuit_5q_10g_9849_7e6728_4473a2_error...</td>\n",
       "      <td># Section: Prologue\\nfrom qiskit import Quantu...</td>\n",
       "    </tr>\n",
       "    <tr>\n",
       "      <th>3</th>\n",
       "      <td>Classical register redeclared: c.</td>\n",
       "      <td>Traceback (most recent call last):\\n  File \"/w...</td>\n",
       "      <td>qiskit_circuit_5q_10g_3148_6e588f.py</td>\n",
       "      <td>[import_from_qasm_with_bqskit, export_to_qasm_...</td>\n",
       "      <td>1.735405e+09</td>\n",
       "      <td>qiskit_circuit_5q_10g_3148_6e588f_e5e5f9_error...</td>\n",
       "      <td># Section: Prologue\\nfrom qiskit import Quantu...</td>\n",
       "    </tr>\n",
       "    <tr>\n",
       "      <th>4</th>\n",
       "      <td>\"&lt;input&gt;:5,5: 'c' is already defined\"</td>\n",
       "      <td>Traceback (most recent call last):\\n  File \"/w...</td>\n",
       "      <td>qiskit_circuit_5q_10g_9900_5a0bc9.py</td>\n",
       "      <td>[import_from_qasm_with_qiskit, export_to_qasm_...</td>\n",
       "      <td>1.735579e+09</td>\n",
       "      <td>qiskit_circuit_5q_10g_9900_5a0bc9_140461_error...</td>\n",
       "      <td># Section: Prologue\\nfrom qiskit import Quantu...</td>\n",
       "    </tr>\n",
       "  </tbody>\n",
       "</table>\n",
       "</div>"
      ],
      "text/plain": [
       "                                   exception_message  \\\n",
       "0  Could not import first circuit: <input>:5:1:\\n...   \n",
       "1  Could not import first circuit: <input>:5:1:\\n...   \n",
       "2  Could not import first circuit: <input>:5:1:\\n...   \n",
       "3                  Classical register redeclared: c.   \n",
       "4              \"<input>:5,5: 'c' is already defined\"   \n",
       "\n",
       "                                         stack_trace  \\\n",
       "0  Traceback (most recent call last):\\n  File \"/w...   \n",
       "1  Traceback (most recent call last):\\n  File \"/w...   \n",
       "2  Traceback (most recent call last):\\n  File \"/w...   \n",
       "3  Traceback (most recent call last):\\n  File \"/w...   \n",
       "4  Traceback (most recent call last):\\n  File \"/w...   \n",
       "\n",
       "                           current_file  \\\n",
       "0  qiskit_circuit_5q_10g_5570_0b246b.py   \n",
       "1  qiskit_circuit_5q_10g_4199_4ec27d.py   \n",
       "2  qiskit_circuit_5q_10g_9849_7e6728.py   \n",
       "3  qiskit_circuit_5q_10g_3148_6e588f.py   \n",
       "4  qiskit_circuit_5q_10g_9900_5a0bc9.py   \n",
       "\n",
       "                                  involved_functions     timestamp  \\\n",
       "0  [compare_qasm_via_qcec, export_to_qasm_with_bq...  1.735484e+09   \n",
       "1  [compare_qasm_via_qcec, export_to_qasm_with_bq...  1.735443e+09   \n",
       "2  [compare_qasm_via_qcec, export_to_qasm_with_bq...  1.735577e+09   \n",
       "3  [import_from_qasm_with_bqskit, export_to_qasm_...  1.735405e+09   \n",
       "4  [import_from_qasm_with_qiskit, export_to_qasm_...  1.735579e+09   \n",
       "\n",
       "                                          error_file  \\\n",
       "0  qiskit_circuit_5q_10g_5570_0b246b_428131_error...   \n",
       "1  qiskit_circuit_5q_10g_4199_4ec27d_0fa4ad_error...   \n",
       "2  qiskit_circuit_5q_10g_9849_7e6728_4473a2_error...   \n",
       "3  qiskit_circuit_5q_10g_3148_6e588f_e5e5f9_error...   \n",
       "4  qiskit_circuit_5q_10g_9900_5a0bc9_140461_error...   \n",
       "\n",
       "                                        file_content  \n",
       "0  # Section: Prologue\\nfrom qiskit import Quantu...  \n",
       "1  # Section: Prologue\\nfrom qiskit import Quantu...  \n",
       "2  # Section: Prologue\\nfrom qiskit import Quantu...  \n",
       "3  # Section: Prologue\\nfrom qiskit import Quantu...  \n",
       "4  # Section: Prologue\\nfrom qiskit import Quantu...  "
      ]
     },
     "execution_count": 8,
     "metadata": {},
     "output_type": "execute_result"
    }
   ],
   "source": [
    "df_errors.head()"
   ]
  },
  {
   "cell_type": "code",
   "execution_count": 9,
   "metadata": {},
   "outputs": [
    {
     "name": "stderr",
     "output_type": "stream",
     "text": [
      "/home/paltenmo/.conda/envs/crosspl/lib/python3.10/site-packages/transformers/tokenization_utils_base.py:1601: FutureWarning: `clean_up_tokenization_spaces` was not set. It will be set to `True` by default. This behavior will be depracted in transformers v4.45, and will be then set to `False` by default. For more details check this issue: https://github.com/huggingface/transformers/issues/31884\n",
      "  warnings.warn(\n"
     ]
    },
    {
     "data": {
      "application/vnd.jupyter.widget-view+json": {
       "model_id": "6d2e9bdc5a804cf0b15fd6328e35e09f",
       "version_major": 2,
       "version_minor": 0
      },
      "text/plain": [
       "Batches:   0%|          | 0/1372 [00:00<?, ?it/s]"
      ]
     },
     "metadata": {},
     "output_type": "display_data"
    },
    {
     "data": {
      "text/plain": [
       "0    [-0.013339732, -0.006517542, -0.01316927, -0.0...\n",
       "1    [-0.013339732, -0.006517542, -0.01316927, -0.0...\n",
       "2    [-0.013339732, -0.006517542, -0.01316927, -0.0...\n",
       "3    [-0.0010961922, 0.010671468, -0.008965227, 0.0...\n",
       "4    [0.05018153, -0.07086073, -0.0070259, -0.00456...\n",
       "Name: exception_message_embeddings, dtype: object"
      ]
     },
     "execution_count": 9,
     "metadata": {},
     "output_type": "execute_result"
    }
   ],
   "source": [
    "from datasets import Dataset, DatasetDict\n",
    "from transformers import AutoTokenizer, AutoModel\n",
    "import torch\n",
    "from sentence_transformers import SentenceTransformer\n",
    "\n",
    "# create a dataset from the error dataframe\n",
    "dataset = Dataset.from_pandas(df_errors)\n",
    "\n",
    "# inspect the dataset\n",
    "dataset\n",
    "\n",
    "# use deepseek-ai/DeepSeek-Coder-V2-Lite-Base\n",
    "# from datasets import Dataset\n",
    "# dataset = Dataset.from_dict({\"a\": [0, 1, 2]})\n",
    "# dataset.map(lambda batch: {\"b\": batch[\"a\"] * 2}, batched=True)  # new column with 6 elements: [0, 1, 2, 0, 1, 2]\n",
    "# Load the tokenizer and model\n",
    "# EMBEDDING_MODEL = \"TinyLlama/TinyLlama_v1.1_math_code\"\n",
    "# EMBEDDING_MODEL = \"all-MiniLM-L6-v2\"\n",
    "EMBEDDING_MODEL = \"multi-qa-mpnet-base-cos-v1\"\n",
    "# EMBEDDING_MODEL = \"deepseek-ai/DeepSeek-Coder-V2-Lite-Base\"\n",
    "# Load a pretrained Sentence Transformer model\n",
    "model = SentenceTransformer(EMBEDDING_MODEL)\n",
    "\n",
    "# Calculate embeddings for the exception_message column\n",
    "df_errors['exception_message_embeddings'] = list(\n",
    "    model.encode(\n",
    "        df_errors['exception_message'].tolist(),\n",
    "        batch_size=32, show_progress_bar=True))\n",
    "\n",
    "# Inspect the embeddings\n",
    "df_errors['exception_message_embeddings'].head()"
   ]
  },
  {
   "cell_type": "code",
   "execution_count": 10,
   "metadata": {},
   "outputs": [],
   "source": [
    "# ! pip install fpsample"
   ]
  },
  {
   "cell_type": "code",
   "execution_count": 10,
   "metadata": {},
   "outputs": [
    {
     "data": {
      "text/html": [
       "<div>\n",
       "<style scoped>\n",
       "    .dataframe tbody tr th:only-of-type {\n",
       "        vertical-align: middle;\n",
       "    }\n",
       "\n",
       "    .dataframe tbody tr th {\n",
       "        vertical-align: top;\n",
       "    }\n",
       "\n",
       "    .dataframe thead th {\n",
       "        text-align: right;\n",
       "    }\n",
       "</style>\n",
       "<table border=\"1\" class=\"dataframe\">\n",
       "  <thead>\n",
       "    <tr style=\"text-align: right;\">\n",
       "      <th></th>\n",
       "      <th>exception_message</th>\n",
       "      <th>stack_trace</th>\n",
       "      <th>current_file</th>\n",
       "      <th>involved_functions</th>\n",
       "      <th>timestamp</th>\n",
       "      <th>error_file</th>\n",
       "      <th>file_content</th>\n",
       "      <th>exception_message_embeddings</th>\n",
       "    </tr>\n",
       "  </thead>\n",
       "  <tbody>\n",
       "    <tr>\n",
       "      <th>3703</th>\n",
       "      <td>Could not import first circuit: &lt;input&gt;:5:1:\\n...</td>\n",
       "      <td>Traceback (most recent call last):\\n  File \"/w...</td>\n",
       "      <td>qiskit_circuit_5q_10g_8742_ac2a33.py</td>\n",
       "      <td>[compare_qasm_via_qcec, export_to_qasm_with_bq...</td>\n",
       "      <td>1.735556e+09</td>\n",
       "      <td>qiskit_circuit_5q_10g_8742_ac2a33_afae6d_error...</td>\n",
       "      <td># Section: Prologue\\nfrom qiskit import Quantu...</td>\n",
       "      <td>[-0.013339732, -0.006517542, -0.01316927, -0.0...</td>\n",
       "    </tr>\n",
       "    <tr>\n",
       "      <th>43865</th>\n",
       "      <td>DD for non-unitary operation not available!</td>\n",
       "      <td>Traceback (most recent call last):\\n  File \"/w...</td>\n",
       "      <td>qiskit_circuit_5q_10g_7687_36848e.py</td>\n",
       "      <td>[compare_qasm_via_qcec, export_to_qasm_with_py...</td>\n",
       "      <td>1.735533e+09</td>\n",
       "      <td>qiskit_circuit_5q_10g_7687_36848e_c82e37_error...</td>\n",
       "      <td># Section: Prologue\\nfrom qiskit import Quantu...</td>\n",
       "      <td>[-0.019316383, 0.016314825, 0.010183437, -0.08...</td>\n",
       "    </tr>\n",
       "    <tr>\n",
       "      <th>43762</th>\n",
       "      <td>Conversion of qiskit's delay instruction is cu...</td>\n",
       "      <td>Traceback (most recent call last):\\n  File \"/u...</td>\n",
       "      <td>qiskit_circuit_5q_10g_2886_002bd1.py</td>\n",
       "      <td>[export_to_qasm_with_pytket]</td>\n",
       "      <td>1.735392e+09</td>\n",
       "      <td>qiskit_circuit_5q_10g_2886_002bd1_1be4f9_error...</td>\n",
       "      <td># Section: Prologue\\nfrom qiskit import Quantu...</td>\n",
       "      <td>[0.0029317858, -0.031805627, -0.0034412271, -0...</td>\n",
       "    </tr>\n",
       "    <tr>\n",
       "      <th>42789</th>\n",
       "      <td>OpenQASM conditions must be an entire classica...</td>\n",
       "      <td>Traceback (most recent call last):\\n  File \"/w...</td>\n",
       "      <td>qiskit_circuit_5q_10g_5336_6bd650.py</td>\n",
       "      <td>[export_to_qasm_with_pytket]</td>\n",
       "      <td>1.735477e+09</td>\n",
       "      <td>qiskit_circuit_5q_10g_5336_6bd650_ef82f1_error...</td>\n",
       "      <td># Section: Prologue\\nfrom qiskit import Quantu...</td>\n",
       "      <td>[-0.017837642, 0.11543147, -0.010337843, 0.005...</td>\n",
       "    </tr>\n",
       "    <tr>\n",
       "      <th>43662</th>\n",
       "      <td>Cannot print command of type: PhasedX(0.43131,...</td>\n",
       "      <td>Traceback (most recent call last):\\n  File \"/w...</td>\n",
       "      <td>qiskit_circuit_5q_10g_2823_68ff22.py</td>\n",
       "      <td>[export_to_qasm_with_pytket]</td>\n",
       "      <td>1.735390e+09</td>\n",
       "      <td>qiskit_circuit_5q_10g_2823_68ff22_483d5d_error...</td>\n",
       "      <td># Section: Prologue\\nfrom qiskit import Quantu...</td>\n",
       "      <td>[0.02902196, -0.0418981, 0.0074867103, -0.0114...</td>\n",
       "    </tr>\n",
       "  </tbody>\n",
       "</table>\n",
       "</div>"
      ],
      "text/plain": [
       "                                       exception_message  \\\n",
       "3703   Could not import first circuit: <input>:5:1:\\n...   \n",
       "43865        DD for non-unitary operation not available!   \n",
       "43762  Conversion of qiskit's delay instruction is cu...   \n",
       "42789  OpenQASM conditions must be an entire classica...   \n",
       "43662  Cannot print command of type: PhasedX(0.43131,...   \n",
       "\n",
       "                                             stack_trace  \\\n",
       "3703   Traceback (most recent call last):\\n  File \"/w...   \n",
       "43865  Traceback (most recent call last):\\n  File \"/w...   \n",
       "43762  Traceback (most recent call last):\\n  File \"/u...   \n",
       "42789  Traceback (most recent call last):\\n  File \"/w...   \n",
       "43662  Traceback (most recent call last):\\n  File \"/w...   \n",
       "\n",
       "                               current_file  \\\n",
       "3703   qiskit_circuit_5q_10g_8742_ac2a33.py   \n",
       "43865  qiskit_circuit_5q_10g_7687_36848e.py   \n",
       "43762  qiskit_circuit_5q_10g_2886_002bd1.py   \n",
       "42789  qiskit_circuit_5q_10g_5336_6bd650.py   \n",
       "43662  qiskit_circuit_5q_10g_2823_68ff22.py   \n",
       "\n",
       "                                      involved_functions     timestamp  \\\n",
       "3703   [compare_qasm_via_qcec, export_to_qasm_with_bq...  1.735556e+09   \n",
       "43865  [compare_qasm_via_qcec, export_to_qasm_with_py...  1.735533e+09   \n",
       "43762                       [export_to_qasm_with_pytket]  1.735392e+09   \n",
       "42789                       [export_to_qasm_with_pytket]  1.735477e+09   \n",
       "43662                       [export_to_qasm_with_pytket]  1.735390e+09   \n",
       "\n",
       "                                              error_file  \\\n",
       "3703   qiskit_circuit_5q_10g_8742_ac2a33_afae6d_error...   \n",
       "43865  qiskit_circuit_5q_10g_7687_36848e_c82e37_error...   \n",
       "43762  qiskit_circuit_5q_10g_2886_002bd1_1be4f9_error...   \n",
       "42789  qiskit_circuit_5q_10g_5336_6bd650_ef82f1_error...   \n",
       "43662  qiskit_circuit_5q_10g_2823_68ff22_483d5d_error...   \n",
       "\n",
       "                                            file_content  \\\n",
       "3703   # Section: Prologue\\nfrom qiskit import Quantu...   \n",
       "43865  # Section: Prologue\\nfrom qiskit import Quantu...   \n",
       "43762  # Section: Prologue\\nfrom qiskit import Quantu...   \n",
       "42789  # Section: Prologue\\nfrom qiskit import Quantu...   \n",
       "43662  # Section: Prologue\\nfrom qiskit import Quantu...   \n",
       "\n",
       "                            exception_message_embeddings  \n",
       "3703   [-0.013339732, -0.006517542, -0.01316927, -0.0...  \n",
       "43865  [-0.019316383, 0.016314825, 0.010183437, -0.08...  \n",
       "43762  [0.0029317858, -0.031805627, -0.0034412271, -0...  \n",
       "42789  [-0.017837642, 0.11543147, -0.010337843, 0.005...  \n",
       "43662  [0.02902196, -0.0418981, 0.0074867103, -0.0114...  "
      ]
     },
     "execution_count": 10,
     "metadata": {},
     "output_type": "execute_result"
    }
   ],
   "source": [
    "import fpsample\n",
    "import numpy as np\n",
    "\n",
    "# Extract the embeddings from the dataframe\n",
    "embeddings = np.array(df_errors['exception_message_embeddings'].tolist())\n",
    "\n",
    "# Sample 1024 points using various FPS methods\n",
    "\n",
    "# # Vanilla FPS\n",
    "fps_samples_idx = fpsample.fps_sampling(embeddings, 1024)\n",
    "\n",
    "# Get the sampled data\n",
    "sampled_data = df_errors.iloc[fps_samples_idx]\n",
    "sampled_data.head()"
   ]
  },
  {
   "cell_type": "code",
   "execution_count": 11,
   "metadata": {},
   "outputs": [
    {
     "data": {
      "text/html": [
       "<div>\n",
       "<style scoped>\n",
       "    .dataframe tbody tr th:only-of-type {\n",
       "        vertical-align: middle;\n",
       "    }\n",
       "\n",
       "    .dataframe tbody tr th {\n",
       "        vertical-align: top;\n",
       "    }\n",
       "\n",
       "    .dataframe thead th {\n",
       "        text-align: right;\n",
       "    }\n",
       "</style>\n",
       "<table border=\"1\" class=\"dataframe\">\n",
       "  <thead>\n",
       "    <tr style=\"text-align: right;\">\n",
       "      <th></th>\n",
       "      <th>exception_message</th>\n",
       "      <th>error_file</th>\n",
       "      <th>current_file</th>\n",
       "    </tr>\n",
       "  </thead>\n",
       "  <tbody>\n",
       "    <tr>\n",
       "      <th>3703</th>\n",
       "      <td>Could not import first circuit: &lt;input&gt;:5:1:\\nIdentifier 'c' already declared.</td>\n",
       "      <td>qiskit_circuit_5q_10g_8742_ac2a33_afae6d_error.json</td>\n",
       "      <td>qiskit_circuit_5q_10g_8742_ac2a33.py</td>\n",
       "    </tr>\n",
       "    <tr>\n",
       "      <th>43865</th>\n",
       "      <td>DD for non-unitary operation not available!</td>\n",
       "      <td>qiskit_circuit_5q_10g_7687_36848e_c82e37_error.json</td>\n",
       "      <td>qiskit_circuit_5q_10g_7687_36848e.py</td>\n",
       "    </tr>\n",
       "    <tr>\n",
       "      <th>43762</th>\n",
       "      <td>Conversion of qiskit's delay instruction is currently unsupported by qiskit_to_tk. Consider using QuantumCircuit.decompose() before attempting conversion.</td>\n",
       "      <td>qiskit_circuit_5q_10g_2886_002bd1_1be4f9_error.json</td>\n",
       "      <td>qiskit_circuit_5q_10g_2886_002bd1.py</td>\n",
       "    </tr>\n",
       "    <tr>\n",
       "      <th>42789</th>\n",
       "      <td>OpenQASM conditions must be an entire classical register</td>\n",
       "      <td>qiskit_circuit_5q_10g_5336_6bd650_ef82f1_error.json</td>\n",
       "      <td>qiskit_circuit_5q_10g_5336_6bd650.py</td>\n",
       "    </tr>\n",
       "    <tr>\n",
       "      <th>43662</th>\n",
       "      <td>Cannot print command of type: PhasedX(0.43131, 0.5)</td>\n",
       "      <td>qiskit_circuit_5q_10g_2823_68ff22_483d5d_error.json</td>\n",
       "      <td>qiskit_circuit_5q_10g_2823_68ff22.py</td>\n",
       "    </tr>\n",
       "    <tr>\n",
       "      <th>43823</th>\n",
       "      <td>Unrecognized gate: delay.</td>\n",
       "      <td>qiskit_circuit_5q_10g_2437_b768d2_3da8be_error.json</td>\n",
       "      <td>qiskit_circuit_5q_10g_2437_b768d2.py</td>\n",
       "    </tr>\n",
       "    <tr>\n",
       "      <th>34990</th>\n",
       "      <td>Operation MidMeasureMP not supported by the QASM serializer</td>\n",
       "      <td>qiskit_circuit_5q_10g_2459_f0bcba_f859fb_error.json</td>\n",
       "      <td>qiskit_circuit_5q_10g_2459_f0bcba.py</td>\n",
       "    </tr>\n",
       "    <tr>\n",
       "      <th>41316</th>\n",
       "      <td>The circuits are not equivalent: /workspace/qiskit_circuit_5q_10g_5421_dd043d_circuit_pennylane.qasm, /workspace/qiskit_circuit_5q_10g_5421_dd043d_circuit_qiskit.qasm</td>\n",
       "      <td>qiskit_circuit_5q_10g_5421_dd043d_2ed334_error.json</td>\n",
       "      <td>qiskit_circuit_5q_10g_5421_dd043d.py</td>\n",
       "    </tr>\n",
       "    <tr>\n",
       "      <th>42982</th>\n",
       "      <td>Classical register redeclared: c4.</td>\n",
       "      <td>qiskit_circuit_5q_10g_7170_34a257_60bef5_error.json</td>\n",
       "      <td>qiskit_circuit_5q_10g_7170_34a257.py</td>\n",
       "    </tr>\n",
       "    <tr>\n",
       "      <th>42601</th>\n",
       "      <td>Invalid register name '4'. QASM register names must begin with a lowercase letter and may only contain lowercase and uppercase letters, numbers, and underscores. Try renaming the register with `rename_units` first.</td>\n",
       "      <td>qiskit_circuit_5q_10g_3242_e7d1fd_6fa18e_error.json</td>\n",
       "      <td>qiskit_circuit_5q_10g_3242_e7d1fd.py</td>\n",
       "    </tr>\n",
       "    <tr>\n",
       "      <th>43854</th>\n",
       "      <td>Cannot parse gate of type: ryy\\nLine:14.</td>\n",
       "      <td>qiskit_circuit_5q_10g_4126_5ecc65_556307_error.json</td>\n",
       "      <td>qiskit_circuit_5q_10g_4126_5ecc65.py</td>\n",
       "    </tr>\n",
       "    <tr>\n",
       "      <th>43530</th>\n",
       "      <td>DD for gatemeasure not available!</td>\n",
       "      <td>qiskit_circuit_5q_10g_4454_a18d5e_a29747_error.json</td>\n",
       "      <td>qiskit_circuit_5q_10g_4454_a18d5e.py</td>\n",
       "    </tr>\n",
       "    <tr>\n",
       "      <th>43598</th>\n",
       "      <td>\"&lt;input&gt;:5,5: 'c4' is already defined\"</td>\n",
       "      <td>qiskit_circuit_5q_10g_7170_34a257_abdd43_error.json</td>\n",
       "      <td>qiskit_circuit_5q_10g_7170_34a257.py</td>\n",
       "    </tr>\n",
       "    <tr>\n",
       "      <th>43427</th>\n",
       "      <td>Gate has an invalid number of parameters</td>\n",
       "      <td>qiskit_circuit_5q_10g_2026_ae1b75_72e896_error.json</td>\n",
       "      <td>qiskit_circuit_5q_10g_2026_ae1b75.py</td>\n",
       "    </tr>\n",
       "    <tr>\n",
       "      <th>10715</th>\n",
       "      <td>\"OpenQASM 2 can only condition on registers, but got '{operation.condition[0]}'\"</td>\n",
       "      <td>qiskit_circuit_5q_10g_4920_c753a4_3ac204_error.json</td>\n",
       "      <td>qiskit_circuit_5q_10g_4920_c753a4.py</td>\n",
       "    </tr>\n",
       "    <tr>\n",
       "      <th>38294</th>\n",
       "      <td>Could not import second circuit: &lt;input&gt;:3:8:\\nExpected 'Identifier', got 'delay'.</td>\n",
       "      <td>qiskit_circuit_5q_10g_2433_9aba9e_5645d5_error.json</td>\n",
       "      <td>qiskit_circuit_5q_10g_2433_9aba9e.py</td>\n",
       "    </tr>\n",
       "    <tr>\n",
       "      <th>43876</th>\n",
       "      <td>Classical register redeclared: c.</td>\n",
       "      <td>qiskit_circuit_5q_10g_6739_faf3d8_8c7a74_error.json</td>\n",
       "      <td>qiskit_circuit_5q_10g_6739_faf3d8.py</td>\n",
       "    </tr>\n",
       "    <tr>\n",
       "      <th>26545</th>\n",
       "      <td>The circuits are not equivalent: /workspace/qiskit_circuit_5q_10g_9595_88c159_circuit_pennylane.qasm, /workspace/qiskit_circuit_5q_10g_9595_88c159_circuit_pytket.qasm</td>\n",
       "      <td>qiskit_circuit_5q_10g_9595_88c159_7ae4ef_error.json</td>\n",
       "      <td>qiskit_circuit_5q_10g_9595_88c159.py</td>\n",
       "    </tr>\n",
       "    <tr>\n",
       "      <th>18030</th>\n",
       "      <td>\"&lt;input&gt;:12,5: 'c' is already defined\"</td>\n",
       "      <td>qiskit_circuit_5q_10g_8198_a13cb5_3aa609_error.json</td>\n",
       "      <td>qiskit_circuit_5q_10g_8198_a13cb5.py</td>\n",
       "    </tr>\n",
       "    <tr>\n",
       "      <th>42848</th>\n",
       "      <td>Could not import first circuit: &lt;input&gt;:14:1:\\nIdentifier 'c' already declared.</td>\n",
       "      <td>qiskit_circuit_5q_10g_8493_9e242b_a995cf_error.json</td>\n",
       "      <td>qiskit_circuit_5q_10g_8493_9e242b.py</td>\n",
       "    </tr>\n",
       "    <tr>\n",
       "      <th>42521</th>\n",
       "      <td>Could not import first circuit: &lt;input&gt;:5:1:\\nIdentifier 'c4' already declared.</td>\n",
       "      <td>qiskit_circuit_5q_10g_437_9f07b8_60fc28_error.json</td>\n",
       "      <td>qiskit_circuit_5q_10g_437_9f07b8.py</td>\n",
       "    </tr>\n",
       "    <tr>\n",
       "      <th>38936</th>\n",
       "      <td>\"&lt;input&gt;:5,5: 'c' is already defined\"</td>\n",
       "      <td>qiskit_circuit_5q_10g_9791_a829da_5a8cf1_error.json</td>\n",
       "      <td>qiskit_circuit_5q_10g_9791_a829da.py</td>\n",
       "    </tr>\n",
       "    <tr>\n",
       "      <th>32745</th>\n",
       "      <td>Could not import first circuit: &lt;input&gt;:12:1:\\nIdentifier 'c' already declared.</td>\n",
       "      <td>qiskit_circuit_5q_10g_8198_a13cb5_ed202f_error.json</td>\n",
       "      <td>qiskit_circuit_5q_10g_8198_a13cb5.py</td>\n",
       "    </tr>\n",
       "    <tr>\n",
       "      <th>24525</th>\n",
       "      <td>The circuits are not equivalent: /workspace/qiskit_circuit_5q_10g_9595_88c159_circuit_pennylane.qasm, /workspace/qiskit_circuit_5q_10g_9595_88c159_circuit_qiskit.qasm</td>\n",
       "      <td>qiskit_circuit_5q_10g_9595_88c159_716247_error.json</td>\n",
       "      <td>qiskit_circuit_5q_10g_9595_88c159.py</td>\n",
       "    </tr>\n",
       "    <tr>\n",
       "      <th>43870</th>\n",
       "      <td>\"&lt;input&gt;:14,5: 'c' is already defined\"</td>\n",
       "      <td>qiskit_circuit_5q_10g_2026_ae1b75_ce89bb_error.json</td>\n",
       "      <td>qiskit_circuit_5q_10g_2026_ae1b75.py</td>\n",
       "    </tr>\n",
       "    <tr>\n",
       "      <th>42106</th>\n",
       "      <td>Invalid register name '0'. QASM register names must begin with a lowercase letter and may only contain lowercase and uppercase letters, numbers, and underscores. Try renaming the register with `rename_units` first.</td>\n",
       "      <td>qiskit_circuit_5q_10g_2889_5af04a_939fff_error.json</td>\n",
       "      <td>qiskit_circuit_5q_10g_2889_5af04a.py</td>\n",
       "    </tr>\n",
       "    <tr>\n",
       "      <th>33071</th>\n",
       "      <td>The circuits are not equivalent: /workspace/qiskit_circuit_5q_10g_5421_dd043d_circuit_pennylane.qasm, /workspace/qiskit_circuit_5q_10g_5421_dd043d_circuit_pytket.qasm</td>\n",
       "      <td>qiskit_circuit_5q_10g_5421_dd043d_f2825a_error.json</td>\n",
       "      <td>qiskit_circuit_5q_10g_5421_dd043d.py</td>\n",
       "    </tr>\n",
       "    <tr>\n",
       "      <th>42082</th>\n",
       "      <td>Cannot print command of type: PhasedX(0.5, 0)</td>\n",
       "      <td>qiskit_circuit_5q_10g_4126_5ecc65_7a75cc_error.json</td>\n",
       "      <td>qiskit_circuit_5q_10g_4126_5ecc65.py</td>\n",
       "    </tr>\n",
       "    <tr>\n",
       "      <th>11361</th>\n",
       "      <td>The circuits are not equivalent: /workspace/qiskit_circuit_5q_10g_3010_8f4fb2_circuit_pennylane.qasm, /workspace/qiskit_circuit_5q_10g_3010_8f4fb2_circuit_qiskit.qasm</td>\n",
       "      <td>qiskit_circuit_5q_10g_3010_8f4fb2_7824fa_error.json</td>\n",
       "      <td>qiskit_circuit_5q_10g_3010_8f4fb2.py</td>\n",
       "    </tr>\n",
       "    <tr>\n",
       "      <th>9989</th>\n",
       "      <td>The circuits are not equivalent: /workspace/qiskit_circuit_5q_10g_3010_8f4fb2_circuit_pennylane.qasm, /workspace/qiskit_circuit_5q_10g_3010_8f4fb2_circuit_pytket.qasm</td>\n",
       "      <td>qiskit_circuit_5q_10g_3010_8f4fb2_df63f3_error.json</td>\n",
       "      <td>qiskit_circuit_5q_10g_3010_8f4fb2.py</td>\n",
       "    </tr>\n",
       "  </tbody>\n",
       "</table>\n",
       "</div>"
      ],
      "text/plain": [
       "                                                                                                                                                                                                            exception_message  \\\n",
       "3703                                                                                                                                           Could not import first circuit: <input>:5:1:\\nIdentifier 'c' already declared.   \n",
       "43865                                                                                                                                                                             DD for non-unitary operation not available!   \n",
       "43762                                                              Conversion of qiskit's delay instruction is currently unsupported by qiskit_to_tk. Consider using QuantumCircuit.decompose() before attempting conversion.   \n",
       "42789                                                                                                                                                                OpenQASM conditions must be an entire classical register   \n",
       "43662                                                                                                                                                                     Cannot print command of type: PhasedX(0.43131, 0.5)   \n",
       "43823                                                                                                                                                                                               Unrecognized gate: delay.   \n",
       "34990                                                                                                                                                             Operation MidMeasureMP not supported by the QASM serializer   \n",
       "41316                                                  The circuits are not equivalent: /workspace/qiskit_circuit_5q_10g_5421_dd043d_circuit_pennylane.qasm, /workspace/qiskit_circuit_5q_10g_5421_dd043d_circuit_qiskit.qasm   \n",
       "42982                                                                                                                                                                                      Classical register redeclared: c4.   \n",
       "42601  Invalid register name '4'. QASM register names must begin with a lowercase letter and may only contain lowercase and uppercase letters, numbers, and underscores. Try renaming the register with `rename_units` first.   \n",
       "43854                                                                                                                                                                               Cannot parse gate of type: ryy\\nLine:14.    \n",
       "43530                                                                                                                                                                                       DD for gatemeasure not available!   \n",
       "43598                                                                                                                                                                                  \"<input>:5,5: 'c4' is already defined\"   \n",
       "43427                                                                                                                                                                                Gate has an invalid number of parameters   \n",
       "10715                                                                                                                                        \"OpenQASM 2 can only condition on registers, but got '{operation.condition[0]}'\"   \n",
       "38294                                                                                                                                      Could not import second circuit: <input>:3:8:\\nExpected 'Identifier', got 'delay'.   \n",
       "43876                                                                                                                                                                                       Classical register redeclared: c.   \n",
       "26545                                                  The circuits are not equivalent: /workspace/qiskit_circuit_5q_10g_9595_88c159_circuit_pennylane.qasm, /workspace/qiskit_circuit_5q_10g_9595_88c159_circuit_pytket.qasm   \n",
       "18030                                                                                                                                                                                  \"<input>:12,5: 'c' is already defined\"   \n",
       "42848                                                                                                                                         Could not import first circuit: <input>:14:1:\\nIdentifier 'c' already declared.   \n",
       "42521                                                                                                                                         Could not import first circuit: <input>:5:1:\\nIdentifier 'c4' already declared.   \n",
       "38936                                                                                                                                                                                   \"<input>:5,5: 'c' is already defined\"   \n",
       "32745                                                                                                                                         Could not import first circuit: <input>:12:1:\\nIdentifier 'c' already declared.   \n",
       "24525                                                  The circuits are not equivalent: /workspace/qiskit_circuit_5q_10g_9595_88c159_circuit_pennylane.qasm, /workspace/qiskit_circuit_5q_10g_9595_88c159_circuit_qiskit.qasm   \n",
       "43870                                                                                                                                                                                  \"<input>:14,5: 'c' is already defined\"   \n",
       "42106  Invalid register name '0'. QASM register names must begin with a lowercase letter and may only contain lowercase and uppercase letters, numbers, and underscores. Try renaming the register with `rename_units` first.   \n",
       "33071                                                  The circuits are not equivalent: /workspace/qiskit_circuit_5q_10g_5421_dd043d_circuit_pennylane.qasm, /workspace/qiskit_circuit_5q_10g_5421_dd043d_circuit_pytket.qasm   \n",
       "42082                                                                                                                                                                           Cannot print command of type: PhasedX(0.5, 0)   \n",
       "11361                                                  The circuits are not equivalent: /workspace/qiskit_circuit_5q_10g_3010_8f4fb2_circuit_pennylane.qasm, /workspace/qiskit_circuit_5q_10g_3010_8f4fb2_circuit_qiskit.qasm   \n",
       "9989                                                   The circuits are not equivalent: /workspace/qiskit_circuit_5q_10g_3010_8f4fb2_circuit_pennylane.qasm, /workspace/qiskit_circuit_5q_10g_3010_8f4fb2_circuit_pytket.qasm   \n",
       "\n",
       "                                                error_file  \\\n",
       "3703   qiskit_circuit_5q_10g_8742_ac2a33_afae6d_error.json   \n",
       "43865  qiskit_circuit_5q_10g_7687_36848e_c82e37_error.json   \n",
       "43762  qiskit_circuit_5q_10g_2886_002bd1_1be4f9_error.json   \n",
       "42789  qiskit_circuit_5q_10g_5336_6bd650_ef82f1_error.json   \n",
       "43662  qiskit_circuit_5q_10g_2823_68ff22_483d5d_error.json   \n",
       "43823  qiskit_circuit_5q_10g_2437_b768d2_3da8be_error.json   \n",
       "34990  qiskit_circuit_5q_10g_2459_f0bcba_f859fb_error.json   \n",
       "41316  qiskit_circuit_5q_10g_5421_dd043d_2ed334_error.json   \n",
       "42982  qiskit_circuit_5q_10g_7170_34a257_60bef5_error.json   \n",
       "42601  qiskit_circuit_5q_10g_3242_e7d1fd_6fa18e_error.json   \n",
       "43854  qiskit_circuit_5q_10g_4126_5ecc65_556307_error.json   \n",
       "43530  qiskit_circuit_5q_10g_4454_a18d5e_a29747_error.json   \n",
       "43598  qiskit_circuit_5q_10g_7170_34a257_abdd43_error.json   \n",
       "43427  qiskit_circuit_5q_10g_2026_ae1b75_72e896_error.json   \n",
       "10715  qiskit_circuit_5q_10g_4920_c753a4_3ac204_error.json   \n",
       "38294  qiskit_circuit_5q_10g_2433_9aba9e_5645d5_error.json   \n",
       "43876  qiskit_circuit_5q_10g_6739_faf3d8_8c7a74_error.json   \n",
       "26545  qiskit_circuit_5q_10g_9595_88c159_7ae4ef_error.json   \n",
       "18030  qiskit_circuit_5q_10g_8198_a13cb5_3aa609_error.json   \n",
       "42848  qiskit_circuit_5q_10g_8493_9e242b_a995cf_error.json   \n",
       "42521   qiskit_circuit_5q_10g_437_9f07b8_60fc28_error.json   \n",
       "38936  qiskit_circuit_5q_10g_9791_a829da_5a8cf1_error.json   \n",
       "32745  qiskit_circuit_5q_10g_8198_a13cb5_ed202f_error.json   \n",
       "24525  qiskit_circuit_5q_10g_9595_88c159_716247_error.json   \n",
       "43870  qiskit_circuit_5q_10g_2026_ae1b75_ce89bb_error.json   \n",
       "42106  qiskit_circuit_5q_10g_2889_5af04a_939fff_error.json   \n",
       "33071  qiskit_circuit_5q_10g_5421_dd043d_f2825a_error.json   \n",
       "42082  qiskit_circuit_5q_10g_4126_5ecc65_7a75cc_error.json   \n",
       "11361  qiskit_circuit_5q_10g_3010_8f4fb2_7824fa_error.json   \n",
       "9989   qiskit_circuit_5q_10g_3010_8f4fb2_df63f3_error.json   \n",
       "\n",
       "                               current_file  \n",
       "3703   qiskit_circuit_5q_10g_8742_ac2a33.py  \n",
       "43865  qiskit_circuit_5q_10g_7687_36848e.py  \n",
       "43762  qiskit_circuit_5q_10g_2886_002bd1.py  \n",
       "42789  qiskit_circuit_5q_10g_5336_6bd650.py  \n",
       "43662  qiskit_circuit_5q_10g_2823_68ff22.py  \n",
       "43823  qiskit_circuit_5q_10g_2437_b768d2.py  \n",
       "34990  qiskit_circuit_5q_10g_2459_f0bcba.py  \n",
       "41316  qiskit_circuit_5q_10g_5421_dd043d.py  \n",
       "42982  qiskit_circuit_5q_10g_7170_34a257.py  \n",
       "42601  qiskit_circuit_5q_10g_3242_e7d1fd.py  \n",
       "43854  qiskit_circuit_5q_10g_4126_5ecc65.py  \n",
       "43530  qiskit_circuit_5q_10g_4454_a18d5e.py  \n",
       "43598  qiskit_circuit_5q_10g_7170_34a257.py  \n",
       "43427  qiskit_circuit_5q_10g_2026_ae1b75.py  \n",
       "10715  qiskit_circuit_5q_10g_4920_c753a4.py  \n",
       "38294  qiskit_circuit_5q_10g_2433_9aba9e.py  \n",
       "43876  qiskit_circuit_5q_10g_6739_faf3d8.py  \n",
       "26545  qiskit_circuit_5q_10g_9595_88c159.py  \n",
       "18030  qiskit_circuit_5q_10g_8198_a13cb5.py  \n",
       "42848  qiskit_circuit_5q_10g_8493_9e242b.py  \n",
       "42521   qiskit_circuit_5q_10g_437_9f07b8.py  \n",
       "38936  qiskit_circuit_5q_10g_9791_a829da.py  \n",
       "32745  qiskit_circuit_5q_10g_8198_a13cb5.py  \n",
       "24525  qiskit_circuit_5q_10g_9595_88c159.py  \n",
       "43870  qiskit_circuit_5q_10g_2026_ae1b75.py  \n",
       "42106  qiskit_circuit_5q_10g_2889_5af04a.py  \n",
       "33071  qiskit_circuit_5q_10g_5421_dd043d.py  \n",
       "42082  qiskit_circuit_5q_10g_4126_5ecc65.py  \n",
       "11361  qiskit_circuit_5q_10g_3010_8f4fb2.py  \n",
       "9989   qiskit_circuit_5q_10g_3010_8f4fb2.py  "
      ]
     },
     "execution_count": 11,
     "metadata": {},
     "output_type": "execute_result"
    }
   ],
   "source": [
    "pd.set_option('display.max_colwidth', None)\n",
    "i = 0\n",
    "size_chunk = 30\n",
    "sampled_data[[\"exception_message\", \"error_file\", \"current_file\"]\n",
    "             ].iloc[i*size_chunk:(i+1)*size_chunk]"
   ]
  },
  {
   "cell_type": "code",
   "execution_count": 13,
   "metadata": {},
   "outputs": [],
   "source": [
    "# relevant errors\n",
    "relevant_error_files_with_message = [\n",
    "    # # probably QCEC error\n",
    "    # (\"qiskit_circuit_5q_10g_2382_eaac27_73fae5_error.json\",\n",
    "    #  \"classic-controlled operation is not a StandardOperation\"),\n",
    "    # # interesting pair of divergent platforms\n",
    "    # (\"qiskit_circuit_5q_10g_5557_dc52a0_027c07_error.json\",\n",
    "    #  \"The circuits are not equivalent\")\n",
    "    # cs gate not defined\n",
    "    # (\"qiskit_circuit_5q_10g_3811_4fe1d7_ac90d3_error.json\",\n",
    "    #  \"cs' is not defined\")\n",
    "    ('qiskit_circuit_5q_10g_3242_e7d1fd_6fa18e_error.json',\n",
    "     'Try renaming the register')\n",
    "]"
   ]
  },
  {
   "cell_type": "code",
   "execution_count": 16,
   "metadata": {},
   "outputs": [
    {
     "name": "stdout",
     "output_type": "stream",
     "text": [
      "Copying ../program_bank/v014/2024_12_27__00_01__qiskit/qiskit_circuit_5q_10g_3242_e7d1fd_6fa18e_error.json to ../program_bank/v014/2024_12_27__00_01__sample_errors\n",
      "Copying ../program_bank/v014/2024_12_27__00_01__qiskit/qiskit_circuit_5q_10g_3242_e7d1fd.py to ../program_bank/v014/2024_12_27__00_01__sample_errors\n"
     ]
    }
   ],
   "source": [
    "error_paths = [os.path.join(DIR_PROGRAM_BANK, f)\n",
    "               for f, _ in relevant_error_files_with_message]\n",
    "\n",
    "# copy the relevant errors to the sample folder\n",
    "copy_errors_to_sample_folder(error_paths, DIR_SAMPLE_ERRORS)\n",
    "\n",
    "\n",
    "def add_tags_to_program_content(program_content: str) -> str:\n",
    "    \"\"\"Add START_GATES and END_GATES tags to the program content.\n",
    "\n",
    "    They are both new lines, so they can be used as delimiters.\n",
    "    The \"# <START_GATES>\" is the the first line after \"# Section: Circuit\"\n",
    "    The \"# <END_GATES>\" is the the first line before \"# Helper Functions\"\n",
    "    \"\"\"\n",
    "    lines = program_content.split(\"\\n\")\n",
    "    new_lines = []\n",
    "    for i, line in enumerate(lines):\n",
    "        if line.startswith(\"# Section: Circuit\"):\n",
    "            new_lines.append(line)\n",
    "            new_lines.append(\"# <START_GATES>\")\n",
    "        elif line.startswith(\"# Helper Functions\"):\n",
    "            new_lines.append(\"# <END_GATES>\")\n",
    "            new_lines.append(line)\n",
    "        else:\n",
    "            new_lines.append(line)\n",
    "    return \"\\n\".join(new_lines)\n",
    "\n",
    "\n",
    "# iterate over all the .py files in the sample folder\n",
    "for file_name in os.listdir(DIR_SAMPLE_ERRORS):\n",
    "    if file_name.endswith(\".py\"):\n",
    "        file_path = os.path.join(DIR_SAMPLE_ERRORS, file_name)\n",
    "        with open(file_path, 'r') as file:\n",
    "            program_content = file.read()\n",
    "        program_content = add_tags_to_program_content(program_content)\n",
    "        with open(file_path, 'w') as file:\n",
    "            file.write(program_content)"
   ]
  },
  {
   "cell_type": "code",
   "execution_count": 17,
   "metadata": {},
   "outputs": [
    {
     "name": "stdout",
     "output_type": "stream",
     "text": [
      "Error paths in sample folder (1):\n",
      "../program_bank/v014/2024_12_27__00_01__sample_errors/qiskit_circuit_5q_10g_3242_e7d1fd_6fa18e_error.json\n"
     ]
    },
    {
     "data": {
      "text/html": [
       "<pre style=\"white-space:pre;overflow-x:auto;line-height:normal;font-family:Menlo,'DejaVu Sans Mono',consolas,'Courier New',monospace\"><span style=\"color: #7fbfbf; text-decoration-color: #7fbfbf\">[09:55:18] </span>Created report folder: ..<span style=\"color: #800080; text-decoration-color: #800080\">/reports/v014/</span><span style=\"color: #ff00ff; text-decoration-color: #ff00ff\">2025_01_02__09_55</span>                                   <a href=\"file:///home/paltenmo/projects/crossplatform/analysis_and_reporting/triage.py\" target=\"_blank\"><span style=\"color: #7f7f7f; text-decoration-color: #7f7f7f\">triage.py</span></a><span style=\"color: #7f7f7f; text-decoration-color: #7f7f7f\">:</span><a href=\"file:///home/paltenmo/projects/crossplatform/analysis_and_reporting/triage.py#132\" target=\"_blank\"><span style=\"color: #7f7f7f; text-decoration-color: #7f7f7f\">132</span></a>\n",
       "</pre>\n"
      ],
      "text/plain": [
       "\u001b[2;36m[09:55:18]\u001b[0m\u001b[2;36m \u001b[0mCreated report folder: ..\u001b[35m/reports/v014/\u001b[0m\u001b[95m2025_01_02__09_55\u001b[0m                                   \u001b]8;id=228381;file:///home/paltenmo/projects/crossplatform/analysis_and_reporting/triage.py\u001b\\\u001b[2mtriage.py\u001b[0m\u001b]8;;\u001b\\\u001b[2m:\u001b[0m\u001b]8;id=359738;file:///home/paltenmo/projects/crossplatform/analysis_and_reporting/triage.py#132\u001b\\\u001b[2m132\u001b[0m\u001b]8;;\u001b\\\n"
      ]
     },
     "metadata": {},
     "output_type": "display_data"
    },
    {
     "data": {
      "text/html": [
       "<pre style=\"white-space:pre;overflow-x:auto;line-height:normal;font-family:Menlo,'DejaVu Sans Mono',consolas,'Courier New',monospace\"><span style=\"color: #7fbfbf; text-decoration-color: #7fbfbf\">           </span>Copied files to: ..<span style=\"color: #800080; text-decoration-color: #800080\">/reports/v014/</span><span style=\"color: #ff00ff; text-decoration-color: #ff00ff\">2025_01_02__09_55</span>                                         <a href=\"file:///home/paltenmo/projects/crossplatform/analysis_and_reporting/triage.py\" target=\"_blank\"><span style=\"color: #7f7f7f; text-decoration-color: #7f7f7f\">triage.py</span></a><span style=\"color: #7f7f7f; text-decoration-color: #7f7f7f\">:</span><a href=\"file:///home/paltenmo/projects/crossplatform/analysis_and_reporting/triage.py#141\" target=\"_blank\"><span style=\"color: #7f7f7f; text-decoration-color: #7f7f7f\">141</span></a>\n",
       "</pre>\n"
      ],
      "text/plain": [
       "\u001b[2;36m          \u001b[0m\u001b[2;36m \u001b[0mCopied files to: ..\u001b[35m/reports/v014/\u001b[0m\u001b[95m2025_01_02__09_55\u001b[0m                                         \u001b]8;id=895346;file:///home/paltenmo/projects/crossplatform/analysis_and_reporting/triage.py\u001b\\\u001b[2mtriage.py\u001b[0m\u001b]8;;\u001b\\\u001b[2m:\u001b[0m\u001b]8;id=208178;file:///home/paltenmo/projects/crossplatform/analysis_and_reporting/triage.py#141\u001b\\\u001b[2m141\u001b[0m\u001b]8;;\u001b\\\n"
      ]
     },
     "metadata": {},
     "output_type": "display_data"
    },
    {
     "data": {
      "text/html": [
       "<pre style=\"white-space:pre;overflow-x:auto;line-height:normal;font-family:Menlo,'DejaVu Sans Mono',consolas,'Courier New',monospace\"><span style=\"color: #7fbfbf; text-decoration-color: #7fbfbf\">[09:55:18] </span>Involved functions:                                                             <a href=\"file:///home/paltenmo/projects/crossplatform/analysis_and_reporting/ddmin_target_file.py\" target=\"_blank\"><span style=\"color: #7f7f7f; text-decoration-color: #7f7f7f\">ddmin_target_file.py</span></a><span style=\"color: #7f7f7f; text-decoration-color: #7f7f7f\">:</span><a href=\"file:///home/paltenmo/projects/crossplatform/analysis_and_reporting/ddmin_target_file.py#206\" target=\"_blank\"><span style=\"color: #7f7f7f; text-decoration-color: #7f7f7f\">206</span></a>\n",
       "</pre>\n"
      ],
      "text/plain": [
       "\u001b[2;36m[09:55:18]\u001b[0m\u001b[2;36m \u001b[0mInvolved functions:                                                             \u001b]8;id=59689;file:///home/paltenmo/projects/crossplatform/analysis_and_reporting/ddmin_target_file.py\u001b\\\u001b[2mddmin_target_file.py\u001b[0m\u001b]8;;\u001b\\\u001b[2m:\u001b[0m\u001b]8;id=866634;file:///home/paltenmo/projects/crossplatform/analysis_and_reporting/ddmin_target_file.py#206\u001b\\\u001b[2m206\u001b[0m\u001b]8;;\u001b\\\n"
      ]
     },
     "metadata": {},
     "output_type": "display_data"
    },
    {
     "data": {
      "text/html": [
       "<pre style=\"white-space:pre;overflow-x:auto;line-height:normal;font-family:Menlo,'DejaVu Sans Mono',consolas,'Courier New',monospace\"><span style=\"color: #7fbfbf; text-decoration-color: #7fbfbf\">           </span>  - export_to_qasm_with_pytket                                                  <a href=\"file:///home/paltenmo/projects/crossplatform/analysis_and_reporting/ddmin_target_file.py\" target=\"_blank\"><span style=\"color: #7f7f7f; text-decoration-color: #7f7f7f\">ddmin_target_file.py</span></a><span style=\"color: #7f7f7f; text-decoration-color: #7f7f7f\">:</span><a href=\"file:///home/paltenmo/projects/crossplatform/analysis_and_reporting/ddmin_target_file.py#208\" target=\"_blank\"><span style=\"color: #7f7f7f; text-decoration-color: #7f7f7f\">208</span></a>\n",
       "</pre>\n"
      ],
      "text/plain": [
       "\u001b[2;36m          \u001b[0m\u001b[2;36m \u001b[0m  - export_to_qasm_with_pytket                                                  \u001b]8;id=697717;file:///home/paltenmo/projects/crossplatform/analysis_and_reporting/ddmin_target_file.py\u001b\\\u001b[2mddmin_target_file.py\u001b[0m\u001b]8;;\u001b\\\u001b[2m:\u001b[0m\u001b]8;id=510491;file:///home/paltenmo/projects/crossplatform/analysis_and_reporting/ddmin_target_file.py#208\u001b\\\u001b[2m208\u001b[0m\u001b]8;;\u001b\\\n"
      ]
     },
     "metadata": {},
     "output_type": "display_data"
    },
    {
     "name": "stdout",
     "output_type": "stream",
     "text": [
      "Output: \n",
      "Program to_execute.py executed successfully.\n",
      "Output: Log has been saved to /workspace/to_execute_d03938_error.json\n",
      "No QASM files exported.\n",
      "\n",
      "Program to_execute.py executed successfully.\n",
      "New exception message: Invalid register name '4'. QASM register names must begin with a lowercase letter and may only contain lowercase and uppercase letters, numbers, and underscores. Try renaming the register with `rename_units` first.\n",
      "Error parsing: Command 'python /workspace/to_execute.py' in image 'qiskit_runner' returned non-zero exit status 1: b'Traceback (most recent call last):\\n  File \"/workspace/to_execute.py\", line 9, in <module>\\n    circuit.t(1)\\nNameError: name \\'circuit\\' is not defined\\n'\n",
      "Failed to execute to_execute.py in Docker.\n",
      "Output: Log has been saved to /workspace/to_execute_f5490d_error.json\n",
      "No QASM files exported.\n",
      "\n",
      "Program to_execute.py executed successfully.\n",
      "New exception message: Invalid register name '4'. QASM register names must begin with a lowercase letter and may only contain lowercase and uppercase letters, numbers, and underscores. Try renaming the register with `rename_units` first.\n",
      "Error parsing: Command 'python /workspace/to_execute.py' in image 'qiskit_runner' returned non-zero exit status 1: b'Traceback (most recent call last):\\n  File \"/workspace/to_execute.py\", line 9, in <module>\\n    circuit = QuantumCircuit(qr, cr)\\nNameError: name \\'qr\\' is not defined\\n'\n",
      "Failed to execute to_execute.py in Docker.\n",
      "Output: \n",
      "Program to_execute.py executed successfully.\n",
      "Error parsing: Command 'python /workspace/to_execute.py' in image 'qiskit_runner' returned non-zero exit status 1: b'Traceback (most recent call last):\\n  File \"/workspace/to_execute.py\", line 10, in <module>\\n    circuit = QuantumCircuit(qr, cr)\\nNameError: name \\'qr\\' is not defined. Did you mean: \\'cr\\'?\\n'\n",
      "Failed to execute to_execute.py in Docker.\n",
      "Error parsing: Command 'python /workspace/to_execute.py' in image 'qiskit_runner' returned non-zero exit status 1: b'Traceback (most recent call last):\\n  File \"/workspace/to_execute.py\", line 11, in <module>\\n    circuit = QuantumCircuit(qr, cr)\\nNameError: name \\'cr\\' is not defined. Did you mean: \\'qr\\'?\\n'\n",
      "Failed to execute to_execute.py in Docker.\n",
      "Error parsing: Command 'python /workspace/to_execute.py' in image 'qiskit_runner' returned non-zero exit status 1: b'Traceback (most recent call last):\\n  File \"/workspace/to_execute.py\", line 12, in <module>\\n    circuit.s(0)\\nNameError: name \\'circuit\\' is not defined\\n'\n",
      "Failed to execute to_execute.py in Docker.\n",
      "Output: Log has been saved to /workspace/to_execute_75b8f9_error.json\n",
      "No QASM files exported.\n",
      "\n",
      "Program to_execute.py executed successfully.\n",
      "New exception message: Invalid register name '4'. QASM register names must begin with a lowercase letter and may only contain lowercase and uppercase letters, numbers, and underscores. Try renaming the register with `rename_units` first.\n",
      "Error parsing: Command 'python /workspace/to_execute.py' in image 'qiskit_runner' returned non-zero exit status 1: b'Traceback (most recent call last):\\n  File \"/workspace/to_execute.py\", line 10, in <module>\\n    circuit = QuantumCircuit(qr, cr)\\nNameError: name \\'qr\\' is not defined. Did you mean: \\'cr\\'?\\n'\n",
      "Failed to execute to_execute.py in Docker.\n",
      "Error parsing: Command 'python /workspace/to_execute.py' in image 'qiskit_runner' returned non-zero exit status 1: b'Traceback (most recent call last):\\n  File \"/workspace/to_execute.py\", line 11, in <module>\\n    circuit.cx(0, 1)\\nNameError: name \\'circuit\\' is not defined\\n'\n",
      "Failed to execute to_execute.py in Docker.\n",
      "Output: Log has been saved to /workspace/to_execute_43fe3b_error.json\n",
      "No QASM files exported.\n",
      "\n",
      "Program to_execute.py executed successfully.\n",
      "New exception message: Invalid register name '4'. QASM register names must begin with a lowercase letter and may only contain lowercase and uppercase letters, numbers, and underscores. Try renaming the register with `rename_units` first.\n",
      "Error parsing: Command 'python /workspace/to_execute.py' in image 'qiskit_runner' returned non-zero exit status 1: b'Traceback (most recent call last):\\n  File \"/workspace/to_execute.py\", line 10, in <module>\\n    circuit = QuantumCircuit(qr, cr)\\nNameError: name \\'qr\\' is not defined. Did you mean: \\'cr\\'?\\n'\n",
      "Failed to execute to_execute.py in Docker.\n",
      "Output: \n",
      "Program to_execute.py executed successfully.\n",
      "Output: Log has been saved to /workspace/to_execute_333185_error.json\n",
      "No QASM files exported.\n",
      "\n",
      "Program to_execute.py executed successfully.\n",
      "New exception message: Invalid register name '4'. QASM register names must begin with a lowercase letter and may only contain lowercase and uppercase letters, numbers, and underscores. Try renaming the register with `rename_units` first.\n",
      "Error parsing: Command 'python /workspace/to_execute.py' in image 'qiskit_runner' returned non-zero exit status 1: b'Traceback (most recent call last):\\n  File \"/workspace/to_execute.py\", line 10, in <module>\\n    circuit = QuantumCircuit(qr, cr)\\nNameError: name \\'qr\\' is not defined. Did you mean: \\'cr\\'?\\n'\n",
      "Failed to execute to_execute.py in Docker.\n",
      "Error parsing: Command 'python /workspace/to_execute.py' in image 'qiskit_runner' returned non-zero exit status 1: b'Traceback (most recent call last):\\n  File \"/workspace/to_execute.py\", line 10, in <module>\\n    circuit = QuantumCircuit(qr, cr)\\nNameError: name \\'cr\\' is not defined. Did you mean: \\'qr\\'?\\n'\n",
      "Failed to execute to_execute.py in Docker.\n",
      "Output: \n",
      "Program to_execute.py executed successfully.\n"
     ]
    },
    {
     "data": {
      "text/html": [
       "<pre style=\"white-space:pre;overflow-x:auto;line-height:normal;font-family:Menlo,'DejaVu Sans Mono',consolas,'Courier New',monospace\"><span style=\"color: #7fbfbf; text-decoration-color: #7fbfbf\">[09:56:03] </span><span style=\"color: #008000; text-decoration-color: #008000\">Minimized file saved as:</span>                                                        <a href=\"file:///home/paltenmo/projects/crossplatform/analysis_and_reporting/ddmin_target_file.py\" target=\"_blank\"><span style=\"color: #7f7f7f; text-decoration-color: #7f7f7f\">ddmin_target_file.py</span></a><span style=\"color: #7f7f7f; text-decoration-color: #7f7f7f\">:</span><a href=\"file:///home/paltenmo/projects/crossplatform/analysis_and_reporting/ddmin_target_file.py#240\" target=\"_blank\"><span style=\"color: #7f7f7f; text-decoration-color: #7f7f7f\">240</span></a>\n",
       "<span style=\"color: #7fbfbf; text-decoration-color: #7fbfbf\">           </span>..<span style=\"color: #800080; text-decoration-color: #800080\">/reports/v014/2025_01_02__09_55/</span><span style=\"color: #ff00ff; text-decoration-color: #ff00ff\">qiskit_circuit_5q_10g_3242_e7d1fd_6fa18e_erro</span> <span style=\"color: #7f7f7f; text-decoration-color: #7f7f7f\">                        </span>\n",
       "<span style=\"color: #7fbfbf; text-decoration-color: #7fbfbf\">           </span><span style=\"color: #ff00ff; text-decoration-color: #ff00ff\">r_min.py</span>                                                                        <span style=\"color: #7f7f7f; text-decoration-color: #7f7f7f\">                        </span>\n",
       "</pre>\n"
      ],
      "text/plain": [
       "\u001b[2;36m[09:56:03]\u001b[0m\u001b[2;36m \u001b[0m\u001b[32mMinimized file saved as:\u001b[0m                                                        \u001b]8;id=562838;file:///home/paltenmo/projects/crossplatform/analysis_and_reporting/ddmin_target_file.py\u001b\\\u001b[2mddmin_target_file.py\u001b[0m\u001b]8;;\u001b\\\u001b[2m:\u001b[0m\u001b]8;id=738366;file:///home/paltenmo/projects/crossplatform/analysis_and_reporting/ddmin_target_file.py#240\u001b\\\u001b[2m240\u001b[0m\u001b]8;;\u001b\\\n",
       "\u001b[2;36m           \u001b[0m..\u001b[35m/reports/v014/2025_01_02__09_55/\u001b[0m\u001b[95mqiskit_circuit_5q_10g_3242_e7d1fd_6fa18e_erro\u001b[0m \u001b[2m                        \u001b[0m\n",
       "\u001b[2;36m           \u001b[0m\u001b[95mr_min.py\u001b[0m                                                                        \u001b[2m                        \u001b[0m\n"
      ]
     },
     "metadata": {},
     "output_type": "display_data"
    },
    {
     "name": "stdout",
     "output_type": "stream",
     "text": [
      "Output: Log has been saved to /workspace/qiskit_circuit_5q_10g_3242_e7d1fd_6fa18e_error_min_848c37_error.json\n",
      "No QASM files exported.\n",
      "\n"
     ]
    },
    {
     "data": {
      "text/html": [
       "<pre style=\"white-space:pre;overflow-x:auto;line-height:normal;font-family:Menlo,'DejaVu Sans Mono',consolas,'Courier New',monospace\"><span style=\"color: #7fbfbf; text-decoration-color: #7fbfbf\">[09:56:06] </span>Program qiskit_circuit_5q_10g_3242_e7d1fd_6fa18e_error_min.py executed              <a href=\"file:///home/paltenmo/projects/crossplatform/generators/docker_tooling.py\" target=\"_blank\"><span style=\"color: #7f7f7f; text-decoration-color: #7f7f7f\">docker_tooling.py</span></a><span style=\"color: #7f7f7f; text-decoration-color: #7f7f7f\">:</span><a href=\"file:///home/paltenmo/projects/crossplatform/generators/docker_tooling.py#47\" target=\"_blank\"><span style=\"color: #7f7f7f; text-decoration-color: #7f7f7f\">47</span></a>\n",
       "<span style=\"color: #7fbfbf; text-decoration-color: #7fbfbf\">           </span>successfully.                                                                       <span style=\"color: #7f7f7f; text-decoration-color: #7f7f7f\">                    </span>\n",
       "</pre>\n"
      ],
      "text/plain": [
       "\u001b[2;36m[09:56:06]\u001b[0m\u001b[2;36m \u001b[0mProgram qiskit_circuit_5q_10g_3242_e7d1fd_6fa18e_error_min.py executed              \u001b]8;id=568738;file:///home/paltenmo/projects/crossplatform/generators/docker_tooling.py\u001b\\\u001b[2mdocker_tooling.py\u001b[0m\u001b]8;;\u001b\\\u001b[2m:\u001b[0m\u001b]8;id=564155;file:///home/paltenmo/projects/crossplatform/generators/docker_tooling.py#47\u001b\\\u001b[2m47\u001b[0m\u001b]8;;\u001b\\\n",
       "\u001b[2;36m           \u001b[0msuccessfully.                                                                       \u001b[2m                    \u001b[0m\n"
      ]
     },
     "metadata": {},
     "output_type": "display_data"
    },
    {
     "data": {
      "text/html": [
       "<pre style=\"white-space:pre;overflow-x:auto;line-height:normal;font-family:Menlo,'DejaVu Sans Mono',consolas,'Courier New',monospace\"><span style=\"color: #7fbfbf; text-decoration-color: #7fbfbf\">           </span>No QASM files found.                                                                       <a href=\"file:///home/paltenmo/projects/crossplatform/analysis_and_reporting/triage.py\" target=\"_blank\"><span style=\"color: #7f7f7f; text-decoration-color: #7f7f7f\">triage.py</span></a><span style=\"color: #7f7f7f; text-decoration-color: #7f7f7f\">:</span><a href=\"file:///home/paltenmo/projects/crossplatform/analysis_and_reporting/triage.py#193\" target=\"_blank\"><span style=\"color: #7f7f7f; text-decoration-color: #7f7f7f\">193</span></a>\n",
       "</pre>\n"
      ],
      "text/plain": [
       "\u001b[2;36m          \u001b[0m\u001b[2;36m \u001b[0mNo QASM files found.                                                                       \u001b]8;id=837591;file:///home/paltenmo/projects/crossplatform/analysis_and_reporting/triage.py\u001b\\\u001b[2mtriage.py\u001b[0m\u001b]8;;\u001b\\\u001b[2m:\u001b[0m\u001b]8;id=113000;file:///home/paltenmo/projects/crossplatform/analysis_and_reporting/triage.py#193\u001b\\\u001b[2m193\u001b[0m\u001b]8;;\u001b\\\n"
      ]
     },
     "metadata": {},
     "output_type": "display_data"
    }
   ],
   "source": [
    "from analysis_and_reporting.triage import analyze_and_report\n",
    "\n",
    "# Extract the error paths from the relevant list\n",
    "error_paths_in_sample_folder = [\n",
    "    os.path.join(DIR_SAMPLE_ERRORS, error_file)\n",
    "    for error_file, clue in relevant_error_files_with_message\n",
    "]\n",
    "\n",
    "n_error_files = len(error_paths_in_sample_folder)\n",
    "print(f\"Error paths in sample folder ({n_error_files}):\")\n",
    "for error_path in error_paths_in_sample_folder:\n",
    "    print(error_path)\n",
    "\n",
    "# Analyze and report for each relevant error file\n",
    "for error_path, clue_message in relevant_error_files_with_message:\n",
    "    try:\n",
    "        analyze_and_report(\n",
    "            path_error_json=os.path.join(DIR_SAMPLE_ERRORS, error_path),\n",
    "            path_program=get_corresponding_program_file(\n",
    "                os.path.join(DIR_SAMPLE_ERRORS, error_path)),\n",
    "            parent_report_folder=os.path.join(\"..\", \"reports\", \"v014\"),\n",
    "            clue_message=clue_message,\n",
    "            analysis_notebook='010_Triage_Not_Equivalence.ipynb')\n",
    "    except Exception as e:\n",
    "        print(f\"Error: {e}\")\n",
    "        print(\"Skipping to the next error file\")"
   ]
  },
  {
   "cell_type": "code",
   "execution_count": 21,
   "metadata": {},
   "outputs": [
    {
     "name": "stdout",
     "output_type": "stream",
     "text": [
      "../program_bank/v009/2024_11_20__13_42__qiskit/qiskit_circuit_5q_10g_2382_eaac27_73fae5_error.json\n",
      "{\n",
      "    \"exception_message\": \"Underlying operation of classic-controlled operation is not a StandardOperation.\\n   |\\u001b[0m   |\\u001b[0m   |\\u001b[0m   |\\u001b[0m   |\\u001b[0m   |\\u001b[0m  c[0] == 1\",\n",
      "    \"stack_trace\": \"Traceback (most recent call last):\\n  File \\\"/workspace/qiskit_circuit_5q_10g_2382_eaac27.py\\\", line 566, in <module>\\n    compare_call(a_file, b_file)\\n  File \\\"/workspace/qiskit_circuit_5q_10g_2382_eaac27.py\\\", line 503, in compare_qasm_via_qcec\\n    result = qcec.verify(\\n  File \\\"/usr/local/lib/python3.10/site-packages/mqt/qcec/verify.py\\\", line 56, in verify\\n    ecm = EquivalenceCheckingManager(circ1, circ2, configuration)\\nValueError: Underlying operation of classic-controlled operation is not a StandardOperation.\\n   |\\u001b[0m   |\\u001b[0m   |\\u001b[0m   |\\u001b[0m   |\\u001b[0m   |\\u001b[0m  c[0] == 1\\n\",\n",
      "    \"current_file\": \"qiskit_circuit_5q_10g_2382_eaac27.py\",\n",
      "    \"involved_functions\": [\n",
      "        \"compare_qasm_via_qcec\",\n",
      "        \"export_to_qasm_with_pytket\",\n",
      "        \"export_to_qasm_with_qiskit\"\n",
      "    ]\n",
      "}\n"
     ]
    }
   ],
   "source": [
    "file_name = \"qiskit_circuit_5q_10g_2382_eaac27_73fae5_error.json\"\n",
    "# file_name = \"qiskit_circuit_5q_10g_2382_eaac27.py\"\n",
    "file_path = os.path.join(DIR_PROGRAM_BANK, file_name)\n",
    "print(file_path)\n",
    "\n",
    "with open(file_path, 'r') as file:\n",
    "    file_content = file.read()\n",
    "\n",
    "print(file_content)"
   ]
  },
  {
   "cell_type": "markdown",
   "metadata": {},
   "source": [
    "# Manual Analyze and Report"
   ]
  },
  {
   "cell_type": "code",
   "execution_count": 2,
   "metadata": {},
   "outputs": [],
   "source": [
    "%load_ext autoreload\n",
    "%autoreload 2"
   ]
  },
  {
   "cell_type": "code",
   "execution_count": 3,
   "metadata": {},
   "outputs": [
    {
     "data": {
      "text/html": [
       "<pre style=\"white-space:pre;overflow-x:auto;line-height:normal;font-family:Menlo,'DejaVu Sans Mono',consolas,'Courier New',monospace\"><span style=\"color: #7fbfbf; text-decoration-color: #7fbfbf\">[14:48:00] </span>Created report folder: ..<span style=\"color: #800080; text-decoration-color: #800080\">/reports/v012/</span><span style=\"color: #ff00ff; text-decoration-color: #ff00ff\">2024_12_18__14_48</span>                                   <a href=\"file:///home/paltenmo/projects/crossplatform/analysis_and_reporting/triage.py\" target=\"_blank\"><span style=\"color: #7f7f7f; text-decoration-color: #7f7f7f\">triage.py</span></a><span style=\"color: #7f7f7f; text-decoration-color: #7f7f7f\">:</span><a href=\"file:///home/paltenmo/projects/crossplatform/analysis_and_reporting/triage.py#132\" target=\"_blank\"><span style=\"color: #7f7f7f; text-decoration-color: #7f7f7f\">132</span></a>\n",
       "</pre>\n"
      ],
      "text/plain": [
       "\u001b[2;36m[14:48:00]\u001b[0m\u001b[2;36m \u001b[0mCreated report folder: ..\u001b[35m/reports/v012/\u001b[0m\u001b[95m2024_12_18__14_48\u001b[0m                                   \u001b]8;id=733887;file:///home/paltenmo/projects/crossplatform/analysis_and_reporting/triage.py\u001b\\\u001b[2mtriage.py\u001b[0m\u001b]8;;\u001b\\\u001b[2m:\u001b[0m\u001b]8;id=154665;file:///home/paltenmo/projects/crossplatform/analysis_and_reporting/triage.py#132\u001b\\\u001b[2m132\u001b[0m\u001b]8;;\u001b\\\n"
      ]
     },
     "metadata": {},
     "output_type": "display_data"
    },
    {
     "data": {
      "text/html": [
       "<pre style=\"white-space:pre;overflow-x:auto;line-height:normal;font-family:Menlo,'DejaVu Sans Mono',consolas,'Courier New',monospace\"><span style=\"color: #7fbfbf; text-decoration-color: #7fbfbf\">           </span>Copied files to: ..<span style=\"color: #800080; text-decoration-color: #800080\">/reports/v012/</span><span style=\"color: #ff00ff; text-decoration-color: #ff00ff\">2024_12_18__14_48</span>                                         <a href=\"file:///home/paltenmo/projects/crossplatform/analysis_and_reporting/triage.py\" target=\"_blank\"><span style=\"color: #7f7f7f; text-decoration-color: #7f7f7f\">triage.py</span></a><span style=\"color: #7f7f7f; text-decoration-color: #7f7f7f\">:</span><a href=\"file:///home/paltenmo/projects/crossplatform/analysis_and_reporting/triage.py#141\" target=\"_blank\"><span style=\"color: #7f7f7f; text-decoration-color: #7f7f7f\">141</span></a>\n",
       "</pre>\n"
      ],
      "text/plain": [
       "\u001b[2;36m          \u001b[0m\u001b[2;36m \u001b[0mCopied files to: ..\u001b[35m/reports/v012/\u001b[0m\u001b[95m2024_12_18__14_48\u001b[0m                                         \u001b]8;id=451624;file:///home/paltenmo/projects/crossplatform/analysis_and_reporting/triage.py\u001b\\\u001b[2mtriage.py\u001b[0m\u001b]8;;\u001b\\\u001b[2m:\u001b[0m\u001b]8;id=273129;file:///home/paltenmo/projects/crossplatform/analysis_and_reporting/triage.py#141\u001b\\\u001b[2m141\u001b[0m\u001b]8;;\u001b\\\n"
      ]
     },
     "metadata": {},
     "output_type": "display_data"
    },
    {
     "data": {
      "text/html": [
       "<pre style=\"white-space:pre;overflow-x:auto;line-height:normal;font-family:Menlo,'DejaVu Sans Mono',consolas,'Courier New',monospace\"><span style=\"color: #7fbfbf; text-decoration-color: #7fbfbf\">[14:48:00] </span>Involved functions:                                                             <a href=\"file:///home/paltenmo/projects/crossplatform/analysis_and_reporting/ddmin_target_file.py\" target=\"_blank\"><span style=\"color: #7f7f7f; text-decoration-color: #7f7f7f\">ddmin_target_file.py</span></a><span style=\"color: #7f7f7f; text-decoration-color: #7f7f7f\">:</span><a href=\"file:///home/paltenmo/projects/crossplatform/analysis_and_reporting/ddmin_target_file.py#206\" target=\"_blank\"><span style=\"color: #7f7f7f; text-decoration-color: #7f7f7f\">206</span></a>\n",
       "</pre>\n"
      ],
      "text/plain": [
       "\u001b[2;36m[14:48:00]\u001b[0m\u001b[2;36m \u001b[0mInvolved functions:                                                             \u001b]8;id=615598;file:///home/paltenmo/projects/crossplatform/analysis_and_reporting/ddmin_target_file.py\u001b\\\u001b[2mddmin_target_file.py\u001b[0m\u001b]8;;\u001b\\\u001b[2m:\u001b[0m\u001b]8;id=66817;file:///home/paltenmo/projects/crossplatform/analysis_and_reporting/ddmin_target_file.py#206\u001b\\\u001b[2m206\u001b[0m\u001b]8;;\u001b\\\n"
      ]
     },
     "metadata": {},
     "output_type": "display_data"
    },
    {
     "data": {
      "text/html": [
       "<pre style=\"white-space:pre;overflow-x:auto;line-height:normal;font-family:Menlo,'DejaVu Sans Mono',consolas,'Courier New',monospace\"><span style=\"color: #7fbfbf; text-decoration-color: #7fbfbf\">           </span>  - compare_qasm_via_qcec                                                       <a href=\"file:///home/paltenmo/projects/crossplatform/analysis_and_reporting/ddmin_target_file.py\" target=\"_blank\"><span style=\"color: #7f7f7f; text-decoration-color: #7f7f7f\">ddmin_target_file.py</span></a><span style=\"color: #7f7f7f; text-decoration-color: #7f7f7f\">:</span><a href=\"file:///home/paltenmo/projects/crossplatform/analysis_and_reporting/ddmin_target_file.py#208\" target=\"_blank\"><span style=\"color: #7f7f7f; text-decoration-color: #7f7f7f\">208</span></a>\n",
       "</pre>\n"
      ],
      "text/plain": [
       "\u001b[2;36m          \u001b[0m\u001b[2;36m \u001b[0m  - compare_qasm_via_qcec                                                       \u001b]8;id=543724;file:///home/paltenmo/projects/crossplatform/analysis_and_reporting/ddmin_target_file.py\u001b\\\u001b[2mddmin_target_file.py\u001b[0m\u001b]8;;\u001b\\\u001b[2m:\u001b[0m\u001b]8;id=825193;file:///home/paltenmo/projects/crossplatform/analysis_and_reporting/ddmin_target_file.py#208\u001b\\\u001b[2m208\u001b[0m\u001b]8;;\u001b\\\n"
      ]
     },
     "metadata": {},
     "output_type": "display_data"
    },
    {
     "data": {
      "text/html": [
       "<pre style=\"white-space:pre;overflow-x:auto;line-height:normal;font-family:Menlo,'DejaVu Sans Mono',consolas,'Courier New',monospace\"><span style=\"color: #7fbfbf; text-decoration-color: #7fbfbf\">           </span>  - export_to_qasm_with_pytket                                                  <a href=\"file:///home/paltenmo/projects/crossplatform/analysis_and_reporting/ddmin_target_file.py\" target=\"_blank\"><span style=\"color: #7f7f7f; text-decoration-color: #7f7f7f\">ddmin_target_file.py</span></a><span style=\"color: #7f7f7f; text-decoration-color: #7f7f7f\">:</span><a href=\"file:///home/paltenmo/projects/crossplatform/analysis_and_reporting/ddmin_target_file.py#208\" target=\"_blank\"><span style=\"color: #7f7f7f; text-decoration-color: #7f7f7f\">208</span></a>\n",
       "</pre>\n"
      ],
      "text/plain": [
       "\u001b[2;36m          \u001b[0m\u001b[2;36m \u001b[0m  - export_to_qasm_with_pytket                                                  \u001b]8;id=543021;file:///home/paltenmo/projects/crossplatform/analysis_and_reporting/ddmin_target_file.py\u001b\\\u001b[2mddmin_target_file.py\u001b[0m\u001b]8;;\u001b\\\u001b[2m:\u001b[0m\u001b]8;id=863224;file:///home/paltenmo/projects/crossplatform/analysis_and_reporting/ddmin_target_file.py#208\u001b\\\u001b[2m208\u001b[0m\u001b]8;;\u001b\\\n"
      ]
     },
     "metadata": {},
     "output_type": "display_data"
    },
    {
     "data": {
      "text/html": [
       "<pre style=\"white-space:pre;overflow-x:auto;line-height:normal;font-family:Menlo,'DejaVu Sans Mono',consolas,'Courier New',monospace\"><span style=\"color: #7fbfbf; text-decoration-color: #7fbfbf\">           </span>  - export_to_qasm_with_qiskit                                                  <a href=\"file:///home/paltenmo/projects/crossplatform/analysis_and_reporting/ddmin_target_file.py\" target=\"_blank\"><span style=\"color: #7f7f7f; text-decoration-color: #7f7f7f\">ddmin_target_file.py</span></a><span style=\"color: #7f7f7f; text-decoration-color: #7f7f7f\">:</span><a href=\"file:///home/paltenmo/projects/crossplatform/analysis_and_reporting/ddmin_target_file.py#208\" target=\"_blank\"><span style=\"color: #7f7f7f; text-decoration-color: #7f7f7f\">208</span></a>\n",
       "</pre>\n"
      ],
      "text/plain": [
       "\u001b[2;36m          \u001b[0m\u001b[2;36m \u001b[0m  - export_to_qasm_with_qiskit                                                  \u001b]8;id=840010;file:///home/paltenmo/projects/crossplatform/analysis_and_reporting/ddmin_target_file.py\u001b\\\u001b[2mddmin_target_file.py\u001b[0m\u001b]8;;\u001b\\\u001b[2m:\u001b[0m\u001b]8;id=232867;file:///home/paltenmo/projects/crossplatform/analysis_and_reporting/ddmin_target_file.py#208\u001b\\\u001b[2m208\u001b[0m\u001b]8;;\u001b\\\n"
      ]
     },
     "metadata": {},
     "output_type": "display_data"
    },
    {
     "name": "stdout",
     "output_type": "stream",
     "text": [
      "Error parsing: Command 'python /workspace/to_execute.py' in image 'qiskit_runner' returned non-zero exit status 1: b'Traceback (most recent call last):\\n  File \"/workspace/to_execute.py\", line 37, in <module>\\n    print(qc.draw())\\nNameError: name \\'qc\\' is not defined\\n'\n",
      "Failed to execute to_execute.py in Docker.\n",
      "Output: cannot import name 'execution' from 'qiskit' (/usr/local/lib/python3.10/site-packages/qiskit/__init__.py)\n",
      "            ┌───┐                                                         »\n",
      "q_0: ───────┤ S ├───────────────────────■──────────────────■──────────────»\n",
      "            ├───┤                       │   ┌────────────┐ │ ┌───────────┐»\n",
      "q_1: ───────┤ Z ├───────────────────────■───┤ U1(6.2384) ├─┼─┤ P(4.1109) ├»\n",
      "          ┌─┴───┴──┐     ┌───────────┐  │   └────────────┘ │ └───────────┘»\n",
      "q_2: ─────┤1       ├─────┤ P(5.6485) ├──┼──────────────────┼──────────────»\n",
      "          │  Iswap │     └───────────┘┌─┴──┐               │              »\n",
      "q_3: ─────┤0       ├──────────────────┤ Sx ├───────────────X──────────────»\n",
      "     ┌────┴────────┴────┐             └─┬──┘               │              »\n",
      "q_4: ┤ R(5.3963,6.0934) ├───────────────■──────────────────X──────────────»\n",
      "     └──────────────────┘                                                 »\n",
      "«           ┌────┐\n",
      "«q_0: ──■───┤ Sx ├\n",
      "«       │   └─┬──┘\n",
      "«q_1: ──┼─────■───\n",
      "«       │     │   \n",
      "«q_2: ──■─────■───\n",
      "«       │     │   \n",
      "«q_3: ──■─────■───\n",
      "«     ┌─┴──┐┌───┐ \n",
      "«q_4: ┤ Sx ├┤ T ├─\n",
      "«     └────┘└───┘ \n",
      "Saved the Pytket circuit to /workspace/to_execute_qc_pytket.qasm\n",
      "Saved the Qiskit circuit to /workspace/to_execute_qc_qiskit.qasm\n",
      "Exported QASM files: [('/workspace/to_execute_qc_pytket.qasm', 'export_to_qasm_with_pytket'), ('/workspace/to_execute_qc_qiskit.qasm', 'export_to_qasm_with_qiskit')]\n",
      "Log has been saved to /workspace/to_execute_c1d5c8_error.json\n",
      "Saved the Pytket circuit to /workspace/to_execute_random_qc_pytket.qasm\n",
      "Saved the Qiskit circuit to /workspace/to_execute_random_qc_qiskit.qasm\n",
      "Exported QASM files: [('/workspace/to_execute_random_qc_pytket.qasm', 'export_to_qasm_with_pytket'), ('/workspace/to_execute_random_qc_qiskit.qasm', 'export_to_qasm_with_qiskit')]\n",
      "Log has been saved to /workspace/to_execute_0d6cf4_error.json\n",
      "\n",
      "Program to_execute.py executed successfully.\n",
      "New exception message: The circuits are not equivalent: /workspace/to_execute_qc_pytket.qasm, /workspace/to_execute_qc_qiskit.qasm\n",
      "Error parsing: Command 'python /workspace/to_execute.py' in image 'qiskit_runner' returned non-zero exit status 1: b'Traceback (most recent call last):\\n  File \"/workspace/to_execute.py\", line 37, in <module>\\n    qc = qc.compose(random_qc)\\nNameError: name \\'qc\\' is not defined\\n'\n",
      "Failed to execute to_execute.py in Docker.\n",
      "Output: cannot import name 'execution' from 'qiskit' (/usr/local/lib/python3.10/site-packages/qiskit/__init__.py)\n",
      "     \n",
      "q_0: \n",
      "     \n",
      "q_1: \n",
      "     \n",
      "q_2: \n",
      "     \n",
      "q_3: \n",
      "     \n",
      "q_4: \n",
      "     \n",
      "Saved the Pytket circuit to /workspace/to_execute_qc_pytket.qasm\n",
      "Saved the Qiskit circuit to /workspace/to_execute_qc_qiskit.qasm\n",
      "Exported QASM files: [('/workspace/to_execute_qc_pytket.qasm', 'export_to_qasm_with_pytket'), ('/workspace/to_execute_qc_qiskit.qasm', 'export_to_qasm_with_qiskit')]\n",
      "The circuits are equivalent: /workspace/to_execute_qc_pytket.qasm, /workspace/to_execute_qc_qiskit.qasm\n",
      "Saved the Pytket circuit to /workspace/to_execute_random_qc_pytket.qasm\n",
      "Saved the Qiskit circuit to /workspace/to_execute_random_qc_qiskit.qasm\n",
      "Exported QASM files: [('/workspace/to_execute_random_qc_pytket.qasm', 'export_to_qasm_with_pytket'), ('/workspace/to_execute_random_qc_qiskit.qasm', 'export_to_qasm_with_qiskit')]\n",
      "Log has been saved to /workspace/to_execute_2758da_error.json\n",
      "\n",
      "Program to_execute.py executed successfully.\n",
      "New exception message: The circuits are not equivalent: /workspace/to_execute_random_qc_pytket.qasm, /workspace/to_execute_random_qc_qiskit.qasm\n",
      "Error parsing: Command 'python /workspace/to_execute.py' in image 'qiskit_runner' returned non-zero exit status 1: b'Traceback (most recent call last):\\n  File \"/workspace/to_execute.py\", line 38, in <module>\\n    print(qc.draw())\\nNameError: name \\'qc\\' is not defined\\n'\n",
      "Failed to execute to_execute.py in Docker.\n",
      "Output: cannot import name 'execution' from 'qiskit' (/usr/local/lib/python3.10/site-packages/qiskit/__init__.py)\n",
      "     \n",
      "q_0: \n",
      "     \n",
      "q_1: \n",
      "     \n",
      "q_2: \n",
      "     \n",
      "q_3: \n",
      "     \n",
      "q_4: \n",
      "     \n",
      "Saved the Pytket circuit to /workspace/to_execute_qc_pytket.qasm\n",
      "Saved the Qiskit circuit to /workspace/to_execute_qc_qiskit.qasm\n",
      "Exported QASM files: [('/workspace/to_execute_qc_pytket.qasm', 'export_to_qasm_with_pytket'), ('/workspace/to_execute_qc_qiskit.qasm', 'export_to_qasm_with_qiskit')]\n",
      "The circuits are equivalent: /workspace/to_execute_qc_pytket.qasm, /workspace/to_execute_qc_qiskit.qasm\n",
      "\n",
      "Program to_execute.py executed successfully.\n"
     ]
    },
    {
     "data": {
      "text/html": [
       "<pre style=\"white-space:pre;overflow-x:auto;line-height:normal;font-family:Menlo,'DejaVu Sans Mono',consolas,'Courier New',monospace\"><span style=\"color: #7fbfbf; text-decoration-color: #7fbfbf\">[14:48:16] </span><span style=\"color: #008000; text-decoration-color: #008000\">Minimized file saved as:</span>                                                        <a href=\"file:///home/paltenmo/projects/crossplatform/analysis_and_reporting/ddmin_target_file.py\" target=\"_blank\"><span style=\"color: #7f7f7f; text-decoration-color: #7f7f7f\">ddmin_target_file.py</span></a><span style=\"color: #7f7f7f; text-decoration-color: #7f7f7f\">:</span><a href=\"file:///home/paltenmo/projects/crossplatform/analysis_and_reporting/ddmin_target_file.py#240\" target=\"_blank\"><span style=\"color: #7f7f7f; text-decoration-color: #7f7f7f\">240</span></a>\n",
       "<span style=\"color: #7fbfbf; text-decoration-color: #7fbfbf\">           </span>..<span style=\"color: #800080; text-decoration-color: #800080\">/reports/v012/2024_12_18__14_48/</span><span style=\"color: #ff00ff; text-decoration-color: #ff00ff\">qiskit_circuit_5q_10g_7553_24d42f_76b26a_erro</span> <span style=\"color: #7f7f7f; text-decoration-color: #7f7f7f\">                        </span>\n",
       "<span style=\"color: #7fbfbf; text-decoration-color: #7fbfbf\">           </span><span style=\"color: #ff00ff; text-decoration-color: #ff00ff\">r_min.py</span>                                                                        <span style=\"color: #7f7f7f; text-decoration-color: #7f7f7f\">                        </span>\n",
       "</pre>\n"
      ],
      "text/plain": [
       "\u001b[2;36m[14:48:16]\u001b[0m\u001b[2;36m \u001b[0m\u001b[32mMinimized file saved as:\u001b[0m                                                        \u001b]8;id=652390;file:///home/paltenmo/projects/crossplatform/analysis_and_reporting/ddmin_target_file.py\u001b\\\u001b[2mddmin_target_file.py\u001b[0m\u001b]8;;\u001b\\\u001b[2m:\u001b[0m\u001b]8;id=187383;file:///home/paltenmo/projects/crossplatform/analysis_and_reporting/ddmin_target_file.py#240\u001b\\\u001b[2m240\u001b[0m\u001b]8;;\u001b\\\n",
       "\u001b[2;36m           \u001b[0m..\u001b[35m/reports/v012/2024_12_18__14_48/\u001b[0m\u001b[95mqiskit_circuit_5q_10g_7553_24d42f_76b26a_erro\u001b[0m \u001b[2m                        \u001b[0m\n",
       "\u001b[2;36m           \u001b[0m\u001b[95mr_min.py\u001b[0m                                                                        \u001b[2m                        \u001b[0m\n"
      ]
     },
     "metadata": {},
     "output_type": "display_data"
    },
    {
     "name": "stdout",
     "output_type": "stream",
     "text": [
      "Output: cannot import name 'execution' from 'qiskit' (/usr/local/lib/python3.10/site-packages/qiskit/__init__.py)\n",
      "     \n",
      "q_0: \n",
      "     \n",
      "q_1: \n",
      "     \n",
      "q_2: \n",
      "     \n",
      "q_3: \n",
      "     \n",
      "q_4: \n",
      "     \n",
      "Saved the Pytket circuit to /workspace/qiskit_circuit_5q_10g_7553_24d42f_76b26a_error_min_qc_pytket.qasm\n",
      "Saved the Qiskit circuit to /workspace/qiskit_circuit_5q_10g_7553_24d42f_76b26a_error_min_qc_qiskit.qasm\n",
      "Exported QASM files: [('/workspace/qiskit_circuit_5q_10g_7553_24d42f_76b26a_error_min_qc_pytket.qasm', 'export_to_qasm_with_pytket'), ('/workspace/qiskit_circuit_5q_10g_7553_24d42f_76b26a_error_min_qc_qiskit.qasm', 'export_to_qasm_with_qiskit')]\n",
      "The circuits are equivalent: /workspace/qiskit_circuit_5q_10g_7553_24d42f_76b26a_error_min_qc_pytket.qasm, /workspace/qiskit_circuit_5q_10g_7553_24d42f_76b26a_error_min_qc_qiskit.qasm\n",
      "Saved the Pytket circuit to /workspace/qiskit_circuit_5q_10g_7553_24d42f_76b26a_error_min_random_qc_pytket.qasm\n",
      "Saved the Qiskit circuit to /workspace/qiskit_circuit_5q_10g_7553_24d42f_76b26a_error_min_random_qc_qiskit.qasm\n",
      "Exported QASM files: [('/workspace/qiskit_circuit_5q_10g_7553_24d42f_76b26a_error_min_random_qc_pytket.qasm', 'export_to_qasm_with_pytket'), ('/workspace/qiskit_circuit_5q_10g_7553_24d42f_76b26a_error_min_random_qc_qiskit.qasm', 'export_to_qasm_with_qiskit')]\n",
      "Log has been saved to /workspace/qiskit_circuit_5q_10g_7553_24d42f_76b26a_error_min_c7c48a_error.json\n",
      "\n"
     ]
    },
    {
     "data": {
      "text/html": [
       "<pre style=\"white-space:pre;overflow-x:auto;line-height:normal;font-family:Menlo,'DejaVu Sans Mono',consolas,'Courier New',monospace\"><span style=\"color: #7fbfbf; text-decoration-color: #7fbfbf\">[14:48:19] </span>Program qiskit_circuit_5q_10g_7553_24d42f_76b26a_error_min.py executed              <a href=\"file:///home/paltenmo/projects/crossplatform/generators/docker_tooling.py\" target=\"_blank\"><span style=\"color: #7f7f7f; text-decoration-color: #7f7f7f\">docker_tooling.py</span></a><span style=\"color: #7f7f7f; text-decoration-color: #7f7f7f\">:</span><a href=\"file:///home/paltenmo/projects/crossplatform/generators/docker_tooling.py#47\" target=\"_blank\"><span style=\"color: #7f7f7f; text-decoration-color: #7f7f7f\">47</span></a>\n",
       "<span style=\"color: #7fbfbf; text-decoration-color: #7fbfbf\">           </span>successfully.                                                                       <span style=\"color: #7f7f7f; text-decoration-color: #7f7f7f\">                    </span>\n",
       "</pre>\n"
      ],
      "text/plain": [
       "\u001b[2;36m[14:48:19]\u001b[0m\u001b[2;36m \u001b[0mProgram qiskit_circuit_5q_10g_7553_24d42f_76b26a_error_min.py executed              \u001b]8;id=786228;file:///home/paltenmo/projects/crossplatform/generators/docker_tooling.py\u001b\\\u001b[2mdocker_tooling.py\u001b[0m\u001b]8;;\u001b\\\u001b[2m:\u001b[0m\u001b]8;id=522904;file:///home/paltenmo/projects/crossplatform/generators/docker_tooling.py#47\u001b\\\u001b[2m47\u001b[0m\u001b]8;;\u001b\\\n",
       "\u001b[2;36m           \u001b[0msuccessfully.                                                                       \u001b[2m                    \u001b[0m\n"
      ]
     },
     "metadata": {},
     "output_type": "display_data"
    },
    {
     "data": {
      "text/html": [
       "<pre style=\"white-space:pre;overflow-x:auto;line-height:normal;font-family:Menlo,'DejaVu Sans Mono',consolas,'Courier New',monospace\"><span style=\"color: #7fbfbf; text-decoration-color: #7fbfbf\">           </span>QASM pair:                                                                                 <a href=\"file:///home/paltenmo/projects/crossplatform/analysis_and_reporting/triage.py\" target=\"_blank\"><span style=\"color: #7f7f7f; text-decoration-color: #7f7f7f\">triage.py</span></a><span style=\"color: #7f7f7f; text-decoration-color: #7f7f7f\">:</span><a href=\"file:///home/paltenmo/projects/crossplatform/analysis_and_reporting/triage.py#199\" target=\"_blank\"><span style=\"color: #7f7f7f; text-decoration-color: #7f7f7f\">199</span></a>\n",
       "<span style=\"color: #7fbfbf; text-decoration-color: #7fbfbf\">           </span><span style=\"font-weight: bold\">(</span><span style=\"color: #008000; text-decoration-color: #008000\">'../reports/v012/2024_12_18__14_48/qiskit_circuit_5q_10g_7553_24d42f_76b26a_error_min_ran</span> <span style=\"color: #7f7f7f; text-decoration-color: #7f7f7f\">             </span>\n",
       "<span style=\"color: #7fbfbf; text-decoration-color: #7fbfbf\">           </span><span style=\"color: #008000; text-decoration-color: #008000\">dom_qc_pytket.qasm'</span>,                                                                       <span style=\"color: #7f7f7f; text-decoration-color: #7f7f7f\">             </span>\n",
       "<span style=\"color: #7fbfbf; text-decoration-color: #7fbfbf\">           </span><span style=\"color: #008000; text-decoration-color: #008000\">'../reports/v012/2024_12_18__14_48/qiskit_circuit_5q_10g_7553_24d42f_76b26a_error_min_rand</span> <span style=\"color: #7f7f7f; text-decoration-color: #7f7f7f\">             </span>\n",
       "<span style=\"color: #7fbfbf; text-decoration-color: #7fbfbf\">           </span><span style=\"color: #008000; text-decoration-color: #008000\">om_qc_qiskit.qasm'</span><span style=\"font-weight: bold\">)</span>                                                                        <span style=\"color: #7f7f7f; text-decoration-color: #7f7f7f\">             </span>\n",
       "</pre>\n"
      ],
      "text/plain": [
       "\u001b[2;36m          \u001b[0m\u001b[2;36m \u001b[0mQASM pair:                                                                                 \u001b]8;id=470441;file:///home/paltenmo/projects/crossplatform/analysis_and_reporting/triage.py\u001b\\\u001b[2mtriage.py\u001b[0m\u001b]8;;\u001b\\\u001b[2m:\u001b[0m\u001b]8;id=15460;file:///home/paltenmo/projects/crossplatform/analysis_and_reporting/triage.py#199\u001b\\\u001b[2m199\u001b[0m\u001b]8;;\u001b\\\n",
       "\u001b[2;36m           \u001b[0m\u001b[1m(\u001b[0m\u001b[32m'../reports/v012/2024_12_18__14_48/qiskit_circuit_5q_10g_7553_24d42f_76b26a_error_min_ran\u001b[0m \u001b[2m             \u001b[0m\n",
       "\u001b[2;36m           \u001b[0m\u001b[32mdom_qc_pytket.qasm'\u001b[0m,                                                                       \u001b[2m             \u001b[0m\n",
       "\u001b[2;36m           \u001b[0m\u001b[32m'../reports/v012/2024_12_18__14_48/qiskit_circuit_5q_10g_7553_24d42f_76b26a_error_min_rand\u001b[0m \u001b[2m             \u001b[0m\n",
       "\u001b[2;36m           \u001b[0m\u001b[32mom_qc_qiskit.qasm'\u001b[0m\u001b[1m)\u001b[0m                                                                        \u001b[2m             \u001b[0m\n"
      ]
     },
     "metadata": {},
     "output_type": "display_data"
    },
    {
     "data": {
      "application/vnd.jupyter.widget-view+json": {
       "model_id": "c482b59a7dda43918648674ae2accd27",
       "version_major": 2,
       "version_minor": 0
      },
      "text/plain": [
       "Executing:   0%|          | 0/13 [00:00<?, ?cell/s]"
      ]
     },
     "metadata": {},
     "output_type": "display_data"
    },
    {
     "data": {
      "text/html": [
       "<pre style=\"white-space:pre;overflow-x:auto;line-height:normal;font-family:Menlo,'DejaVu Sans Mono',consolas,'Courier New',monospace\"><span style=\"color: #7fbfbf; text-decoration-color: #7fbfbf\">[14:48:21] </span>Analysis notebook executed:                                                                <a href=\"file:///home/paltenmo/projects/crossplatform/analysis_and_reporting/triage.py\" target=\"_blank\"><span style=\"color: #7f7f7f; text-decoration-color: #7f7f7f\">triage.py</span></a><span style=\"color: #7f7f7f; text-decoration-color: #7f7f7f\">:</span><a href=\"file:///home/paltenmo/projects/crossplatform/analysis_and_reporting/triage.py#216\" target=\"_blank\"><span style=\"color: #7f7f7f; text-decoration-color: #7f7f7f\">216</span></a>\n",
       "<span style=\"color: #7fbfbf; text-decoration-color: #7fbfbf\">           </span>..<span style=\"color: #800080; text-decoration-color: #800080\">/reports/v012/2024_12_18__14_48/</span><span style=\"color: #ff00ff; text-decoration-color: #ff00ff\">analysis_output_random_qc.ipynb</span>                          <span style=\"color: #7f7f7f; text-decoration-color: #7f7f7f\">             </span>\n",
       "</pre>\n"
      ],
      "text/plain": [
       "\u001b[2;36m[14:48:21]\u001b[0m\u001b[2;36m \u001b[0mAnalysis notebook executed:                                                                \u001b]8;id=163938;file:///home/paltenmo/projects/crossplatform/analysis_and_reporting/triage.py\u001b\\\u001b[2mtriage.py\u001b[0m\u001b]8;;\u001b\\\u001b[2m:\u001b[0m\u001b]8;id=937492;file:///home/paltenmo/projects/crossplatform/analysis_and_reporting/triage.py#216\u001b\\\u001b[2m216\u001b[0m\u001b]8;;\u001b\\\n",
       "\u001b[2;36m           \u001b[0m..\u001b[35m/reports/v012/2024_12_18__14_48/\u001b[0m\u001b[95manalysis_output_random_qc.ipynb\u001b[0m                          \u001b[2m             \u001b[0m\n"
      ]
     },
     "metadata": {},
     "output_type": "display_data"
    },
    {
     "data": {
      "text/html": [
       "<pre style=\"white-space:pre;overflow-x:auto;line-height:normal;font-family:Menlo,'DejaVu Sans Mono',consolas,'Courier New',monospace\"><span style=\"color: #7fbfbf; text-decoration-color: #7fbfbf\">           </span>QASM pair:                                                                                 <a href=\"file:///home/paltenmo/projects/crossplatform/analysis_and_reporting/triage.py\" target=\"_blank\"><span style=\"color: #7f7f7f; text-decoration-color: #7f7f7f\">triage.py</span></a><span style=\"color: #7f7f7f; text-decoration-color: #7f7f7f\">:</span><a href=\"file:///home/paltenmo/projects/crossplatform/analysis_and_reporting/triage.py#199\" target=\"_blank\"><span style=\"color: #7f7f7f; text-decoration-color: #7f7f7f\">199</span></a>\n",
       "<span style=\"color: #7fbfbf; text-decoration-color: #7fbfbf\">           </span><span style=\"font-weight: bold\">(</span><span style=\"color: #008000; text-decoration-color: #008000\">'../reports/v012/2024_12_18__14_48/qiskit_circuit_5q_10g_7553_24d42f_76b26a_error_min_qc_</span> <span style=\"color: #7f7f7f; text-decoration-color: #7f7f7f\">             </span>\n",
       "<span style=\"color: #7fbfbf; text-decoration-color: #7fbfbf\">           </span><span style=\"color: #008000; text-decoration-color: #008000\">qiskit.qasm'</span>,                                                                              <span style=\"color: #7f7f7f; text-decoration-color: #7f7f7f\">             </span>\n",
       "<span style=\"color: #7fbfbf; text-decoration-color: #7fbfbf\">           </span><span style=\"color: #008000; text-decoration-color: #008000\">'../reports/v012/2024_12_18__14_48/qiskit_circuit_5q_10g_7553_24d42f_76b26a_error_min_qc_p</span> <span style=\"color: #7f7f7f; text-decoration-color: #7f7f7f\">             </span>\n",
       "<span style=\"color: #7fbfbf; text-decoration-color: #7fbfbf\">           </span><span style=\"color: #008000; text-decoration-color: #008000\">ytket.qasm'</span><span style=\"font-weight: bold\">)</span>                                                                               <span style=\"color: #7f7f7f; text-decoration-color: #7f7f7f\">             </span>\n",
       "</pre>\n"
      ],
      "text/plain": [
       "\u001b[2;36m          \u001b[0m\u001b[2;36m \u001b[0mQASM pair:                                                                                 \u001b]8;id=268127;file:///home/paltenmo/projects/crossplatform/analysis_and_reporting/triage.py\u001b\\\u001b[2mtriage.py\u001b[0m\u001b]8;;\u001b\\\u001b[2m:\u001b[0m\u001b]8;id=977910;file:///home/paltenmo/projects/crossplatform/analysis_and_reporting/triage.py#199\u001b\\\u001b[2m199\u001b[0m\u001b]8;;\u001b\\\n",
       "\u001b[2;36m           \u001b[0m\u001b[1m(\u001b[0m\u001b[32m'../reports/v012/2024_12_18__14_48/qiskit_circuit_5q_10g_7553_24d42f_76b26a_error_min_qc_\u001b[0m \u001b[2m             \u001b[0m\n",
       "\u001b[2;36m           \u001b[0m\u001b[32mqiskit.qasm'\u001b[0m,                                                                              \u001b[2m             \u001b[0m\n",
       "\u001b[2;36m           \u001b[0m\u001b[32m'../reports/v012/2024_12_18__14_48/qiskit_circuit_5q_10g_7553_24d42f_76b26a_error_min_qc_p\u001b[0m \u001b[2m             \u001b[0m\n",
       "\u001b[2;36m           \u001b[0m\u001b[32mytket.qasm'\u001b[0m\u001b[1m)\u001b[0m                                                                               \u001b[2m             \u001b[0m\n"
      ]
     },
     "metadata": {},
     "output_type": "display_data"
    },
    {
     "data": {
      "application/vnd.jupyter.widget-view+json": {
       "model_id": "2e71e0ee1f1d4b28b1d0da1ddbea34c0",
       "version_major": 2,
       "version_minor": 0
      },
      "text/plain": [
       "Executing:   0%|          | 0/13 [00:00<?, ?cell/s]"
      ]
     },
     "metadata": {},
     "output_type": "display_data"
    },
    {
     "data": {
      "text/html": [
       "<pre style=\"white-space:pre;overflow-x:auto;line-height:normal;font-family:Menlo,'DejaVu Sans Mono',consolas,'Courier New',monospace\"><span style=\"color: #7fbfbf; text-decoration-color: #7fbfbf\">[14:48:23] </span>Analysis notebook executed: ..<span style=\"color: #800080; text-decoration-color: #800080\">/reports/v012/2024_12_18__14_48/</span><span style=\"color: #ff00ff; text-decoration-color: #ff00ff\">analysis_output_qc.ipynb</span>     <a href=\"file:///home/paltenmo/projects/crossplatform/analysis_and_reporting/triage.py\" target=\"_blank\"><span style=\"color: #7f7f7f; text-decoration-color: #7f7f7f\">triage.py</span></a><span style=\"color: #7f7f7f; text-decoration-color: #7f7f7f\">:</span><a href=\"file:///home/paltenmo/projects/crossplatform/analysis_and_reporting/triage.py#216\" target=\"_blank\"><span style=\"color: #7f7f7f; text-decoration-color: #7f7f7f\">216</span></a>\n",
       "</pre>\n"
      ],
      "text/plain": [
       "\u001b[2;36m[14:48:23]\u001b[0m\u001b[2;36m \u001b[0mAnalysis notebook executed: ..\u001b[35m/reports/v012/2024_12_18__14_48/\u001b[0m\u001b[95manalysis_output_qc.ipynb\u001b[0m     \u001b]8;id=256588;file:///home/paltenmo/projects/crossplatform/analysis_and_reporting/triage.py\u001b\\\u001b[2mtriage.py\u001b[0m\u001b]8;;\u001b\\\u001b[2m:\u001b[0m\u001b]8;id=887587;file:///home/paltenmo/projects/crossplatform/analysis_and_reporting/triage.py#216\u001b\\\u001b[2m216\u001b[0m\u001b]8;;\u001b\\\n"
      ]
     },
     "metadata": {},
     "output_type": "display_data"
    }
   ],
   "source": [
    "from analysis_and_reporting.triage import analyze_and_report\n",
    "\n",
    "error_path = os.path.join(\n",
    "    \"..\", \"reports\", \"v012\", \"01\",\n",
    "    \"qiskit_circuit_5q_10g_7553_24d42f_76b26a_error.json\")\n",
    "program_path = os.path.join(\n",
    "    \"..\", \"reports\", \"v012\", \"01\", \"qiskit_circuit_5q_10g_7553_24d42f.py\")\n",
    "\n",
    "analyze_and_report(\n",
    "    path_error_json=error_path,\n",
    "    path_program=program_path,\n",
    "    parent_report_folder=os.path.join(\"..\", \"reports\", \"v012\"),\n",
    "    clue_message=\"not equivalent\",\n",
    "    analysis_notebook='010_Triage_Not_Equivalence.ipynb')"
   ]
  },
  {
   "cell_type": "code",
   "execution_count": null,
   "metadata": {},
   "outputs": [],
   "source": []
  }
 ],
 "metadata": {
  "kernelspec": {
   "display_name": "crosspl",
   "language": "python",
   "name": "python3"
  },
  "language_info": {
   "codemirror_mode": {
    "name": "ipython",
    "version": 3
   },
   "file_extension": ".py",
   "mimetype": "text/x-python",
   "name": "python",
   "nbconvert_exporter": "python",
   "pygments_lexer": "ipython3",
   "version": "3.10.14"
  }
 },
 "nbformat": 4,
 "nbformat_minor": 2
}
