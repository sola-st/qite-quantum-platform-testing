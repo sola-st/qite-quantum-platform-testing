{
 "cells": [
  {
   "cell_type": "code",
   "execution_count": 1,
   "metadata": {},
   "outputs": [],
   "source": [
    "import os\n",
    "import sys\n",
    "import json\n",
    "from pathlib import Path\n",
    "\n",
    "import pandas as pd\n",
    "import numpy as np\n",
    "import matplotlib.pyplot as plt\n",
    "import seaborn as sns\n",
    "\n",
    "from typing import List, Tuple, Dict, Any, Optional"
   ]
  },
  {
   "cell_type": "code",
   "execution_count": null,
   "metadata": {
    "tags": [
     "parameters"
    ]
   },
   "outputs": [],
   "source": [
    "PATH_ROOT_DIR: str = \"..\"\n",
    "\n",
    "INFO_TO_USE_FOR_CLUSTERING: List[str] = [\n",
    "    'exception_message', 'essential_file_content']\n",
    "\n",
    "PCA_COMPONENTS: int = 3\n",
    "\n",
    "AI_MODEL: str = \"llama-3.1-70b-versatile\"  # or \"gpt-4o-mini\"\n",
    "\n",
    "N_POSITIVE_EXAMPLES_TO_SHOW_LLM: int = 5\n",
    "\n",
    "# Test run\n",
    "# DIR_PROGRAM_BANK = os.path.join(\"..\", \"program_bank\", \"v001\", \"2024_10_04__14_48__qiskit\")\n",
    "# Run with 10k programs: v001.yaml\n",
    "# program_bank/v001/2024_10_04__15_10__qiskit\n",
    "# DIR_PROGRAM_BANK = os.path.join(\"..\", \"program_bank\", \"v001\", \"2024_10_04__15_10__qiskit\")\n",
    "# program_bank/v002/2024_10_07__17_03__qiskit\n",
    "# DIR_PROGRAM_BANK: str = os.path.join(\n",
    "#     \"..\", \"program_bank\", \"v004\", \"2024_10_18__16_09__qiskit\")\n",
    "\n",
    "# DIR_SAMPLE_ERRORS: str = os.path.join(\n",
    "#     \"..\", \"program_bank\", \"v004\", \"2024_10_18__16_09__sample_errors\")\n",
    "\n",
    "\n",
    "# DIR_PROGRAM_BANK: str = os.path.join(\n",
    "#     \"..\", \"program_bank\", \"v005\", \"2024_10_22__14_17__qiskit\")\n",
    "# DIR_SAMPLE_ERRORS: str = os.path.join(\n",
    "#     \"..\", \"program_bank\", \"v005\", \"2024_10_22__14_17__sample_errors\")\n",
    "\n",
    "# inspected folders\n",
    "# program_bank/v005/2024_10_22__22_32__qiskit\n",
    "# program_bank/v007/2024_10_31__17_51__qiskit\n",
    "# program_bank/v008/2024_11_07__15_05__qiskit\n",
    "DIR_PROGRAM_BANK: str = os.path.join(\n",
    "    \"..\", \"program_bank\", \"v008\", \"2024_11_07__15_05__qiskit\")\n",
    "DIR_SAMPLE_ERRORS: str = os.path.join(\n",
    "    \"..\", \"program_bank\", \"v008\",\n",
    "    \"2024_11_07__15_05__sample_errors_no_pennylane\")\n",
    "\n",
    "\n",
    "PROMPT_CONTENT: str = \"BOTH_ERROR_AND_PROGRAM\""
   ]
  },
  {
   "cell_type": "code",
   "execution_count": 29,
   "metadata": {},
   "outputs": [
    {
     "name": "stdout",
     "output_type": "stream",
     "text": [
      "Current folder: /home/paltenmo/projects/crossplatform/notebooks\n",
      "PATH_ROOT_DIR: ..\n",
      "INFO_TO_USE_FOR_CLUSTERING: ['exception_message', 'essential_file_content']\n",
      "PCA_COMPONENTS: 3\n",
      "AI_MODEL: llama-3.1-70b-versatile\n",
      "N_POSITIVE_EXAMPLES_TO_SHOW_LLM: 5\n",
      "DIR_PROGRAM_BANK: ../program_bank/v008/2024_11_07__15_05__qiskit\n",
      "DIR_SAMPLE_ERRORS: ../program_bank/v008/2024_11_07__15_05__sample_errors_no_pennylane\n",
      "PROMPT_CONTENT: BOTH_ERROR_AND_PROGRAM\n",
      "SAMPLE_SIZE: 9\n"
     ]
    }
   ],
   "source": [
    "# print the current folder\n",
    "print(f\"Current folder: {os.getcwd()}\")\n",
    "\n",
    "all_global_vars = dict(globals().copy())\n",
    "# print all global variables\n",
    "for k, v in all_global_vars.items():\n",
    "    if k.isupper():\n",
    "        print(f\"{k}: {v}\")"
   ]
  },
  {
   "cell_type": "code",
   "execution_count": 30,
   "metadata": {},
   "outputs": [],
   "source": [
    "import openai\n",
    "import groq\n",
    "PATH_GROQ_TOKEN = os.path.join(PATH_ROOT_DIR, \"groq_token.txt\")\n",
    "GROQ_TOKEN = Path(PATH_GROQ_TOKEN).read_text().strip()\n",
    "\n",
    "# Export the GROQ_TOKEN as GROQ_API_KEY\n",
    "os.environ['GROQ_API_KEY'] = GROQ_TOKEN\n",
    "\n",
    "PATH_OPENAI_API_KEY = os.path.join(PATH_ROOT_DIR, \"openai_token.txt\")\n",
    "OPENAI_API_KEY = Path(PATH_OPENAI_API_KEY).read_text().strip()\n",
    "\n",
    "os.environ['OPENAI_API_KEY'] = OPENAI_API_KEY"
   ]
  },
  {
   "cell_type": "code",
   "execution_count": 31,
   "metadata": {},
   "outputs": [
    {
     "name": "stdout",
     "output_type": "stream",
     "text": [
      "Number of generated programs: 10000\n",
      "Number of errors: 19393\n"
     ]
    }
   ],
   "source": [
    "# count generated programs in the program bank\n",
    "count_generated_programs = len(list(Path(DIR_PROGRAM_BANK).rglob(\"*.py\")))\n",
    "print(f\"Number of generated programs: {count_generated_programs}\")\n",
    "\n",
    "# count the number of errors\n",
    "count_errors = len(list(Path(DIR_PROGRAM_BANK).rglob(\"*_error.json\")))\n",
    "print(f\"Number of errors: {count_errors}\")"
   ]
  },
  {
   "cell_type": "markdown",
   "metadata": {},
   "source": [
    "## Read Files"
   ]
  },
  {
   "cell_type": "code",
   "execution_count": 36,
   "metadata": {},
   "outputs": [
    {
     "name": "stdout",
     "output_type": "stream",
     "text": [
      "Number of errors: 19393\n"
     ]
    }
   ],
   "source": [
    "from multiprocessing import Pool\n",
    "import re\n",
    "\n",
    "\n",
    "def read_json_file(file_path: str) -> Dict[str, Any]:\n",
    "    with open(file_path, 'r') as file:\n",
    "        data = json.load(file)\n",
    "        data[\"error_file\"] = os.path.basename(file_path)\n",
    "        return data\n",
    "\n",
    "\n",
    "def read_all_programs(dir_path: str) -> pd.DataFrame:\n",
    "    json_files = [os.path.join(dir_path, f) for f in os.listdir(\n",
    "        dir_path) if re.match(r'.*_error\\.json$', f)]\n",
    "    records = []\n",
    "\n",
    "    with Pool() as pool:\n",
    "        results = pool.map(read_json_file, json_files)\n",
    "        records.extend(results)\n",
    "\n",
    "    return pd.DataFrame(records)\n",
    "\n",
    "\n",
    "# Use the function to read all programs\n",
    "df_errors = read_all_programs(DIR_PROGRAM_BANK)\n",
    "\n",
    "# augment the dataframe with the proram content\n",
    "\n",
    "\n",
    "def read_file_content(file_name: str) -> str:\n",
    "    file_path = os.path.join(DIR_PROGRAM_BANK, file_name)\n",
    "    with open(file_path, 'r') as file:\n",
    "        return file.read()\n",
    "\n",
    "\n",
    "# Use parallel apply to read the file content\n",
    "with Pool() as pool:\n",
    "    df_errors['file_content'] = pool.map(\n",
    "        read_file_content, df_errors['current_file'])\n",
    "\n",
    "# Alternatively, you can use apply without parallel processing\n",
    "# df_errors['file_content'] = df_errors['current_file'].apply(read_file_content)\n",
    "\n",
    "df_errors.head()\n",
    "n_errors = len(df_errors)\n",
    "print(f\"Number of errors: {n_errors}\")"
   ]
  },
  {
   "cell_type": "markdown",
   "metadata": {},
   "source": [
    "# Exclude Pennylane (errors)"
   ]
  },
  {
   "cell_type": "code",
   "execution_count": 37,
   "metadata": {},
   "outputs": [
    {
     "name": "stdout",
     "output_type": "stream",
     "text": [
      "Number of errors without PennyLane: 12468\n"
     ]
    }
   ],
   "source": [
    "df_errors['involved_functions'] = df_errors['involved_functions'].astype(\n",
    "    str)\n",
    "df_errors = df_errors[\n",
    "    ~df_errors['involved_functions'].str.contains('pennylane')]\n",
    "n_errors = len(df_errors)\n",
    "print(f\"Number of errors without PennyLane: {n_errors}\")"
   ]
  },
  {
   "cell_type": "markdown",
   "metadata": {},
   "source": [
    "# Minimize Sample"
   ]
  },
  {
   "cell_type": "code",
   "execution_count": 39,
   "metadata": {},
   "outputs": [
    {
     "name": "stdout",
     "output_type": "stream",
     "text": [
      "Copying ../program_bank/v008/2024_11_07__15_05__qiskit/qiskit_circuit_5q_10g_7916_b68352_1b0650_error.json to ../program_bank/v008/2024_11_07__15_05__sample_errors_no_pennylane\n",
      "Copying ../program_bank/v008/2024_11_07__15_05__qiskit/qiskit_circuit_5q_10g_7916_b68352.py to ../program_bank/v008/2024_11_07__15_05__sample_errors_no_pennylane\n",
      "Copying ../program_bank/v008/2024_11_07__15_05__qiskit/qiskit_circuit_5q_10g_4250_3f1a07_dc1379_error.json to ../program_bank/v008/2024_11_07__15_05__sample_errors_no_pennylane\n",
      "Copying ../program_bank/v008/2024_11_07__15_05__qiskit/qiskit_circuit_5q_10g_4250_3f1a07.py to ../program_bank/v008/2024_11_07__15_05__sample_errors_no_pennylane\n",
      "Copying ../program_bank/v008/2024_11_07__15_05__qiskit/qiskit_circuit_5q_10g_953_0914f5_f6d04b_error.json to ../program_bank/v008/2024_11_07__15_05__sample_errors_no_pennylane\n",
      "Copying ../program_bank/v008/2024_11_07__15_05__qiskit/qiskit_circuit_5q_10g_953_0914f5.py to ../program_bank/v008/2024_11_07__15_05__sample_errors_no_pennylane\n",
      "Copying ../program_bank/v008/2024_11_07__15_05__qiskit/qiskit_circuit_5q_10g_9196_8b67cd_55aec5_error.json to ../program_bank/v008/2024_11_07__15_05__sample_errors_no_pennylane\n",
      "Copying ../program_bank/v008/2024_11_07__15_05__qiskit/qiskit_circuit_5q_10g_9196_8b67cd.py to ../program_bank/v008/2024_11_07__15_05__sample_errors_no_pennylane\n",
      "Copying ../program_bank/v008/2024_11_07__15_05__qiskit/qiskit_circuit_5q_10g_4402_55f2a8_597bcc_error.json to ../program_bank/v008/2024_11_07__15_05__sample_errors_no_pennylane\n",
      "Copying ../program_bank/v008/2024_11_07__15_05__qiskit/qiskit_circuit_5q_10g_4402_55f2a8.py to ../program_bank/v008/2024_11_07__15_05__sample_errors_no_pennylane\n",
      "Copying ../program_bank/v008/2024_11_07__15_05__qiskit/qiskit_circuit_5q_10g_7738_eff6c4_763398_error.json to ../program_bank/v008/2024_11_07__15_05__sample_errors_no_pennylane\n",
      "Copying ../program_bank/v008/2024_11_07__15_05__qiskit/qiskit_circuit_5q_10g_7738_eff6c4.py to ../program_bank/v008/2024_11_07__15_05__sample_errors_no_pennylane\n",
      "Copying ../program_bank/v008/2024_11_07__15_05__qiskit/qiskit_circuit_5q_10g_8118_fb9caa_2d3395_error.json to ../program_bank/v008/2024_11_07__15_05__sample_errors_no_pennylane\n",
      "Copying ../program_bank/v008/2024_11_07__15_05__qiskit/qiskit_circuit_5q_10g_8118_fb9caa.py to ../program_bank/v008/2024_11_07__15_05__sample_errors_no_pennylane\n",
      "Copying ../program_bank/v008/2024_11_07__15_05__qiskit/qiskit_circuit_5q_10g_4730_832a71_782f83_error.json to ../program_bank/v008/2024_11_07__15_05__sample_errors_no_pennylane\n",
      "Copying ../program_bank/v008/2024_11_07__15_05__qiskit/qiskit_circuit_5q_10g_4730_832a71.py to ../program_bank/v008/2024_11_07__15_05__sample_errors_no_pennylane\n",
      "Copying ../program_bank/v008/2024_11_07__15_05__qiskit/qiskit_circuit_5q_10g_7434_c7a9b4_11c519_error.json to ../program_bank/v008/2024_11_07__15_05__sample_errors_no_pennylane\n",
      "Copying ../program_bank/v008/2024_11_07__15_05__qiskit/qiskit_circuit_5q_10g_7434_c7a9b4.py to ../program_bank/v008/2024_11_07__15_05__sample_errors_no_pennylane\n"
     ]
    }
   ],
   "source": [
    "import shutil\n",
    "\n",
    "# keep only errors with `The circuits are not equivalent` in the exception message\n",
    "df_errors = df_errors[df_errors['exception_message'].str.contains(\n",
    "    'The circuits are not equivalent')]\n",
    "\n",
    "\n",
    "SAMPLE_SIZE = 10\n",
    "actual_sample_size = min(SAMPLE_SIZE, len(df_errors))\n",
    "\n",
    "\n",
    "# pick a sample of error files\n",
    "sample_errors = df_errors.sample(actual_sample_size, random_state=42)\n",
    "\n",
    "# get the paths of the error files\n",
    "sample_errors_paths = [os.path.join(\n",
    "    DIR_PROGRAM_BANK, f) for f in sample_errors['error_file']]\n",
    "\n",
    "\n",
    "def get_corresponding_program_file(path_error_file: str) -> str:\n",
    "    # remove the fixed length prefix \"_ba6b02_error.json\"\n",
    "    return path_error_file[:-18] + \".py\"\n",
    "\n",
    "\n",
    "# copy them to a new folder\n",
    "os.makedirs(DIR_SAMPLE_ERRORS, exist_ok=True)\n",
    "for file_path in sample_errors_paths:\n",
    "    shutil.copy(file_path, DIR_SAMPLE_ERRORS)\n",
    "    print(f\"Copying {file_path} to {DIR_SAMPLE_ERRORS}\")\n",
    "    corresponding_program_file = get_corresponding_program_file(file_path)\n",
    "    shutil.copy(corresponding_program_file, DIR_SAMPLE_ERRORS)\n",
    "    print(f\"Copying {corresponding_program_file} to {DIR_SAMPLE_ERRORS}\")"
   ]
  },
  {
   "cell_type": "code",
   "execution_count": 40,
   "metadata": {},
   "outputs": [
    {
     "data": {
      "text/plain": [
       "16161    The circuits are not equivalent: /workspace/qi...\n",
       "3579     The circuits are not equivalent: /workspace/qi...\n",
       "12373    The circuits are not equivalent: /workspace/qi...\n",
       "2129     The circuits are not equivalent: /workspace/qi...\n",
       "19209    The circuits are not equivalent: /workspace/qi...\n",
       "4611     The circuits are not equivalent: /workspace/qi...\n",
       "5813     The circuits are not equivalent: /workspace/qi...\n",
       "5214     The circuits are not equivalent: /workspace/qi...\n",
       "14780    The circuits are not equivalent: /workspace/qi...\n",
       "Name: exception_message, dtype: object"
      ]
     },
     "execution_count": 40,
     "metadata": {},
     "output_type": "execute_result"
    }
   ],
   "source": [
    "# get the content of their error messages\n",
    "sample_errors['exception_message']"
   ]
  },
  {
   "cell_type": "code",
   "execution_count": 41,
   "metadata": {},
   "outputs": [],
   "source": [
    "import sys\n",
    "sys.path.append(\"..\")"
   ]
  },
  {
   "cell_type": "markdown",
   "metadata": {},
   "source": [
    "## Triage All Files \n",
    "Including:\n",
    "1. minimization\n",
    "2. rerunning the code\n",
    "3. running the analysis notebook"
   ]
  },
  {
   "cell_type": "code",
   "execution_count": 42,
   "metadata": {},
   "outputs": [
    {
     "name": "stdout",
     "output_type": "stream",
     "text": [
      "The autoreload extension is already loaded. To reload it, use:\n",
      "  %reload_ext autoreload\n"
     ]
    }
   ],
   "source": [
    "%load_ext autoreload\n",
    "%autoreload 2"
   ]
  },
  {
   "cell_type": "code",
   "execution_count": 44,
   "metadata": {},
   "outputs": [
    {
     "name": "stdout",
     "output_type": "stream",
     "text": [
      "Error paths in sample folder (9):\n",
      "../program_bank/v008/2024_11_07__15_05__sample_errors_no_pennylane/qiskit_circuit_5q_10g_9196_8b67cd_55aec5_error.json\n",
      "../program_bank/v008/2024_11_07__15_05__sample_errors_no_pennylane/qiskit_circuit_5q_10g_4250_3f1a07_dc1379_error.json\n",
      "../program_bank/v008/2024_11_07__15_05__sample_errors_no_pennylane/qiskit_circuit_5q_10g_7738_eff6c4_763398_error.json\n",
      "../program_bank/v008/2024_11_07__15_05__sample_errors_no_pennylane/qiskit_circuit_5q_10g_4730_832a71_782f83_error.json\n",
      "../program_bank/v008/2024_11_07__15_05__sample_errors_no_pennylane/qiskit_circuit_5q_10g_8118_fb9caa_2d3395_error.json\n",
      "../program_bank/v008/2024_11_07__15_05__sample_errors_no_pennylane/qiskit_circuit_5q_10g_953_0914f5_f6d04b_error.json\n",
      "../program_bank/v008/2024_11_07__15_05__sample_errors_no_pennylane/qiskit_circuit_5q_10g_7434_c7a9b4_11c519_error.json\n",
      "../program_bank/v008/2024_11_07__15_05__sample_errors_no_pennylane/qiskit_circuit_5q_10g_7916_b68352_1b0650_error.json\n",
      "../program_bank/v008/2024_11_07__15_05__sample_errors_no_pennylane/qiskit_circuit_5q_10g_4402_55f2a8_597bcc_error.json\n",
      "\u001b[2;36m[14:29:25]\u001b[0m\u001b[2;36m \u001b[0mCreated report folder:                                  \u001b]8;id=845243;file:///home/paltenmo/projects/crossplatform/analysis_and_reporting/triage.py\u001b\\\u001b[2mtriage.py\u001b[0m\u001b]8;;\u001b\\\u001b[2m:\u001b[0m\u001b]8;id=263806;file:///home/paltenmo/projects/crossplatform/analysis_and_reporting/triage.py#131\u001b\\\u001b[2m131\u001b[0m\u001b]8;;\u001b\\\n",
      "\u001b[2;36m           \u001b[0m..\u001b[35m/reports/v008/\u001b[0m\u001b[95m2024_11_12__14_29\u001b[0m                       \u001b[2m             \u001b[0m\n",
      "\u001b[2;36m          \u001b[0m\u001b[2;36m \u001b[0mCopied files to: ..\u001b[35m/reports/v008/\u001b[0m\u001b[95m2024_11_12__14_29\u001b[0m      \u001b]8;id=489066;file:///home/paltenmo/projects/crossplatform/analysis_and_reporting/triage.py\u001b\\\u001b[2mtriage.py\u001b[0m\u001b]8;;\u001b\\\u001b[2m:\u001b[0m\u001b]8;id=346849;file:///home/paltenmo/projects/crossplatform/analysis_and_reporting/triage.py#140\u001b\\\u001b[2m140\u001b[0m\u001b]8;;\u001b\\\n"
     ]
    },
    {
     "data": {
      "text/html": [
       "<pre style=\"white-space:pre;overflow-x:auto;line-height:normal;font-family:Menlo,'DejaVu Sans Mono',consolas,'Courier New',monospace\"><span style=\"color: #7fbfbf; text-decoration-color: #7fbfbf\">[14:29:25] </span>Involved functions:                                                             <a href=\"file:///home/paltenmo/projects/crossplatform/analysis_and_reporting/ddmin_target_file.py\" target=\"_blank\"><span style=\"color: #7f7f7f; text-decoration-color: #7f7f7f\">ddmin_target_file.py</span></a><span style=\"color: #7f7f7f; text-decoration-color: #7f7f7f\">:</span><a href=\"file:///home/paltenmo/projects/crossplatform/analysis_and_reporting/ddmin_target_file.py#206\" target=\"_blank\"><span style=\"color: #7f7f7f; text-decoration-color: #7f7f7f\">206</span></a>\n",
       "</pre>\n"
      ],
      "text/plain": [
       "\u001b[2;36m[14:29:25]\u001b[0m\u001b[2;36m \u001b[0mInvolved functions:                                                             \u001b]8;id=721102;file:///home/paltenmo/projects/crossplatform/analysis_and_reporting/ddmin_target_file.py\u001b\\\u001b[2mddmin_target_file.py\u001b[0m\u001b]8;;\u001b\\\u001b[2m:\u001b[0m\u001b]8;id=719236;file:///home/paltenmo/projects/crossplatform/analysis_and_reporting/ddmin_target_file.py#206\u001b\\\u001b[2m206\u001b[0m\u001b]8;;\u001b\\\n"
      ]
     },
     "metadata": {},
     "output_type": "display_data"
    },
    {
     "data": {
      "text/html": [
       "<pre style=\"white-space:pre;overflow-x:auto;line-height:normal;font-family:Menlo,'DejaVu Sans Mono',consolas,'Courier New',monospace\"><span style=\"color: #7fbfbf; text-decoration-color: #7fbfbf\">           </span>  - compare_qasm_via_qcec                                                       <a href=\"file:///home/paltenmo/projects/crossplatform/analysis_and_reporting/ddmin_target_file.py\" target=\"_blank\"><span style=\"color: #7f7f7f; text-decoration-color: #7f7f7f\">ddmin_target_file.py</span></a><span style=\"color: #7f7f7f; text-decoration-color: #7f7f7f\">:</span><a href=\"file:///home/paltenmo/projects/crossplatform/analysis_and_reporting/ddmin_target_file.py#208\" target=\"_blank\"><span style=\"color: #7f7f7f; text-decoration-color: #7f7f7f\">208</span></a>\n",
       "</pre>\n"
      ],
      "text/plain": [
       "\u001b[2;36m          \u001b[0m\u001b[2;36m \u001b[0m  - compare_qasm_via_qcec                                                       \u001b]8;id=208928;file:///home/paltenmo/projects/crossplatform/analysis_and_reporting/ddmin_target_file.py\u001b\\\u001b[2mddmin_target_file.py\u001b[0m\u001b]8;;\u001b\\\u001b[2m:\u001b[0m\u001b]8;id=592457;file:///home/paltenmo/projects/crossplatform/analysis_and_reporting/ddmin_target_file.py#208\u001b\\\u001b[2m208\u001b[0m\u001b]8;;\u001b\\\n"
      ]
     },
     "metadata": {},
     "output_type": "display_data"
    },
    {
     "data": {
      "text/html": [
       "<pre style=\"white-space:pre;overflow-x:auto;line-height:normal;font-family:Menlo,'DejaVu Sans Mono',consolas,'Courier New',monospace\"><span style=\"color: #7fbfbf; text-decoration-color: #7fbfbf\">           </span>  - export_to_qasm_with_pytket                                                  <a href=\"file:///home/paltenmo/projects/crossplatform/analysis_and_reporting/ddmin_target_file.py\" target=\"_blank\"><span style=\"color: #7f7f7f; text-decoration-color: #7f7f7f\">ddmin_target_file.py</span></a><span style=\"color: #7f7f7f; text-decoration-color: #7f7f7f\">:</span><a href=\"file:///home/paltenmo/projects/crossplatform/analysis_and_reporting/ddmin_target_file.py#208\" target=\"_blank\"><span style=\"color: #7f7f7f; text-decoration-color: #7f7f7f\">208</span></a>\n",
       "</pre>\n"
      ],
      "text/plain": [
       "\u001b[2;36m          \u001b[0m\u001b[2;36m \u001b[0m  - export_to_qasm_with_pytket                                                  \u001b]8;id=146285;file:///home/paltenmo/projects/crossplatform/analysis_and_reporting/ddmin_target_file.py\u001b\\\u001b[2mddmin_target_file.py\u001b[0m\u001b]8;;\u001b\\\u001b[2m:\u001b[0m\u001b]8;id=969348;file:///home/paltenmo/projects/crossplatform/analysis_and_reporting/ddmin_target_file.py#208\u001b\\\u001b[2m208\u001b[0m\u001b]8;;\u001b\\\n"
      ]
     },
     "metadata": {},
     "output_type": "display_data"
    },
    {
     "data": {
      "text/html": [
       "<pre style=\"white-space:pre;overflow-x:auto;line-height:normal;font-family:Menlo,'DejaVu Sans Mono',consolas,'Courier New',monospace\"><span style=\"color: #7fbfbf; text-decoration-color: #7fbfbf\">           </span>  - export_to_qasm_with_qiskit                                                  <a href=\"file:///home/paltenmo/projects/crossplatform/analysis_and_reporting/ddmin_target_file.py\" target=\"_blank\"><span style=\"color: #7f7f7f; text-decoration-color: #7f7f7f\">ddmin_target_file.py</span></a><span style=\"color: #7f7f7f; text-decoration-color: #7f7f7f\">:</span><a href=\"file:///home/paltenmo/projects/crossplatform/analysis_and_reporting/ddmin_target_file.py#208\" target=\"_blank\"><span style=\"color: #7f7f7f; text-decoration-color: #7f7f7f\">208</span></a>\n",
       "</pre>\n"
      ],
      "text/plain": [
       "\u001b[2;36m          \u001b[0m\u001b[2;36m \u001b[0m  - export_to_qasm_with_qiskit                                                  \u001b]8;id=111536;file:///home/paltenmo/projects/crossplatform/analysis_and_reporting/ddmin_target_file.py\u001b\\\u001b[2mddmin_target_file.py\u001b[0m\u001b]8;;\u001b\\\u001b[2m:\u001b[0m\u001b]8;id=233061;file:///home/paltenmo/projects/crossplatform/analysis_and_reporting/ddmin_target_file.py#208\u001b\\\u001b[2m208\u001b[0m\u001b]8;;\u001b\\\n"
      ]
     },
     "metadata": {},
     "output_type": "display_data"
    },
    {
     "name": "stdout",
     "output_type": "stream",
     "text": [
      "Error parsing: Command 'python /workspace/to_execute.py' in image 'qiskit_runner' returned non-zero exit status 1: b'Traceback (most recent call last):\\n  File \"/workspace/to_execute.py\", line 105, in <module>\\n    target_qc = qc\\nNameError: name \\'qc\\' is not defined\\n'\n",
      "Failed to execute to_execute.py in Docker.\n",
      "Output: Saved the Pytket circuit to /workspace/to_execute_qc_pytket.qasm\n",
      "Saved the Qiskit circuit to /workspace/to_execute_qc_qiskit.qasm\n",
      "Exported QASM files: [('/workspace/to_execute_qc_pytket.qasm', 'export_to_qasm_with_pytket'), ('/workspace/to_execute_qc_qiskit.qasm', 'export_to_qasm_with_qiskit')]\n",
      "The circuits are equivalent: /workspace/to_execute_qc_pytket.qasm, /workspace/to_execute_qc_qiskit.qasm\n",
      "\n",
      "Program to_execute.py executed successfully.\n",
      "Output: Saved the Pytket circuit to /workspace/to_execute_qc_pytket.qasm\n",
      "Saved the Qiskit circuit to /workspace/to_execute_qc_qiskit.qasm\n",
      "Exported QASM files: [('/workspace/to_execute_qc_pytket.qasm', 'export_to_qasm_with_pytket'), ('/workspace/to_execute_qc_qiskit.qasm', 'export_to_qasm_with_qiskit')]\n",
      "The circuits are equivalent: /workspace/to_execute_qc_pytket.qasm, /workspace/to_execute_qc_qiskit.qasm\n",
      "\n",
      "Program to_execute.py executed successfully.\n",
      "Error: We expected the exact buggy program to return False (namely the same error): True\n",
      "Skipping to the next error file\n",
      "\u001b[2;36m[14:29:34]\u001b[0m\u001b[2;36m \u001b[0mCreated report folder:                                  \u001b]8;id=495802;file:///home/paltenmo/projects/crossplatform/analysis_and_reporting/triage.py\u001b\\\u001b[2mtriage.py\u001b[0m\u001b]8;;\u001b\\\u001b[2m:\u001b[0m\u001b]8;id=609440;file:///home/paltenmo/projects/crossplatform/analysis_and_reporting/triage.py#131\u001b\\\u001b[2m131\u001b[0m\u001b]8;;\u001b\\\n",
      "\u001b[2;36m           \u001b[0m..\u001b[35m/reports/v008/\u001b[0m\u001b[95m2024_11_12__14_29\u001b[0m                       \u001b[2m             \u001b[0m\n",
      "\u001b[2;36m          \u001b[0m\u001b[2;36m \u001b[0mCopied files to: ..\u001b[35m/reports/v008/\u001b[0m\u001b[95m2024_11_12__14_29\u001b[0m      \u001b]8;id=627100;file:///home/paltenmo/projects/crossplatform/analysis_and_reporting/triage.py\u001b\\\u001b[2mtriage.py\u001b[0m\u001b]8;;\u001b\\\u001b[2m:\u001b[0m\u001b]8;id=27208;file:///home/paltenmo/projects/crossplatform/analysis_and_reporting/triage.py#140\u001b\\\u001b[2m140\u001b[0m\u001b]8;;\u001b\\\n"
     ]
    },
    {
     "data": {
      "text/html": [
       "<pre style=\"white-space:pre;overflow-x:auto;line-height:normal;font-family:Menlo,'DejaVu Sans Mono',consolas,'Courier New',monospace\"><span style=\"color: #7fbfbf; text-decoration-color: #7fbfbf\">[14:29:34] </span>Involved functions:                                                             <a href=\"file:///home/paltenmo/projects/crossplatform/analysis_and_reporting/ddmin_target_file.py\" target=\"_blank\"><span style=\"color: #7f7f7f; text-decoration-color: #7f7f7f\">ddmin_target_file.py</span></a><span style=\"color: #7f7f7f; text-decoration-color: #7f7f7f\">:</span><a href=\"file:///home/paltenmo/projects/crossplatform/analysis_and_reporting/ddmin_target_file.py#206\" target=\"_blank\"><span style=\"color: #7f7f7f; text-decoration-color: #7f7f7f\">206</span></a>\n",
       "</pre>\n"
      ],
      "text/plain": [
       "\u001b[2;36m[14:29:34]\u001b[0m\u001b[2;36m \u001b[0mInvolved functions:                                                             \u001b]8;id=385595;file:///home/paltenmo/projects/crossplatform/analysis_and_reporting/ddmin_target_file.py\u001b\\\u001b[2mddmin_target_file.py\u001b[0m\u001b]8;;\u001b\\\u001b[2m:\u001b[0m\u001b]8;id=835222;file:///home/paltenmo/projects/crossplatform/analysis_and_reporting/ddmin_target_file.py#206\u001b\\\u001b[2m206\u001b[0m\u001b]8;;\u001b\\\n"
      ]
     },
     "metadata": {},
     "output_type": "display_data"
    },
    {
     "data": {
      "text/html": [
       "<pre style=\"white-space:pre;overflow-x:auto;line-height:normal;font-family:Menlo,'DejaVu Sans Mono',consolas,'Courier New',monospace\"><span style=\"color: #7fbfbf; text-decoration-color: #7fbfbf\">           </span>  - compare_qasm_via_qcec                                                       <a href=\"file:///home/paltenmo/projects/crossplatform/analysis_and_reporting/ddmin_target_file.py\" target=\"_blank\"><span style=\"color: #7f7f7f; text-decoration-color: #7f7f7f\">ddmin_target_file.py</span></a><span style=\"color: #7f7f7f; text-decoration-color: #7f7f7f\">:</span><a href=\"file:///home/paltenmo/projects/crossplatform/analysis_and_reporting/ddmin_target_file.py#208\" target=\"_blank\"><span style=\"color: #7f7f7f; text-decoration-color: #7f7f7f\">208</span></a>\n",
       "</pre>\n"
      ],
      "text/plain": [
       "\u001b[2;36m          \u001b[0m\u001b[2;36m \u001b[0m  - compare_qasm_via_qcec                                                       \u001b]8;id=620127;file:///home/paltenmo/projects/crossplatform/analysis_and_reporting/ddmin_target_file.py\u001b\\\u001b[2mddmin_target_file.py\u001b[0m\u001b]8;;\u001b\\\u001b[2m:\u001b[0m\u001b]8;id=140853;file:///home/paltenmo/projects/crossplatform/analysis_and_reporting/ddmin_target_file.py#208\u001b\\\u001b[2m208\u001b[0m\u001b]8;;\u001b\\\n"
      ]
     },
     "metadata": {},
     "output_type": "display_data"
    },
    {
     "data": {
      "text/html": [
       "<pre style=\"white-space:pre;overflow-x:auto;line-height:normal;font-family:Menlo,'DejaVu Sans Mono',consolas,'Courier New',monospace\"><span style=\"color: #7fbfbf; text-decoration-color: #7fbfbf\">           </span>  - export_to_qasm_with_pytket                                                  <a href=\"file:///home/paltenmo/projects/crossplatform/analysis_and_reporting/ddmin_target_file.py\" target=\"_blank\"><span style=\"color: #7f7f7f; text-decoration-color: #7f7f7f\">ddmin_target_file.py</span></a><span style=\"color: #7f7f7f; text-decoration-color: #7f7f7f\">:</span><a href=\"file:///home/paltenmo/projects/crossplatform/analysis_and_reporting/ddmin_target_file.py#208\" target=\"_blank\"><span style=\"color: #7f7f7f; text-decoration-color: #7f7f7f\">208</span></a>\n",
       "</pre>\n"
      ],
      "text/plain": [
       "\u001b[2;36m          \u001b[0m\u001b[2;36m \u001b[0m  - export_to_qasm_with_pytket                                                  \u001b]8;id=166696;file:///home/paltenmo/projects/crossplatform/analysis_and_reporting/ddmin_target_file.py\u001b\\\u001b[2mddmin_target_file.py\u001b[0m\u001b]8;;\u001b\\\u001b[2m:\u001b[0m\u001b]8;id=516772;file:///home/paltenmo/projects/crossplatform/analysis_and_reporting/ddmin_target_file.py#208\u001b\\\u001b[2m208\u001b[0m\u001b]8;;\u001b\\\n"
      ]
     },
     "metadata": {},
     "output_type": "display_data"
    },
    {
     "data": {
      "text/html": [
       "<pre style=\"white-space:pre;overflow-x:auto;line-height:normal;font-family:Menlo,'DejaVu Sans Mono',consolas,'Courier New',monospace\"><span style=\"color: #7fbfbf; text-decoration-color: #7fbfbf\">           </span>  - export_to_qasm_with_qiskit                                                  <a href=\"file:///home/paltenmo/projects/crossplatform/analysis_and_reporting/ddmin_target_file.py\" target=\"_blank\"><span style=\"color: #7f7f7f; text-decoration-color: #7f7f7f\">ddmin_target_file.py</span></a><span style=\"color: #7f7f7f; text-decoration-color: #7f7f7f\">:</span><a href=\"file:///home/paltenmo/projects/crossplatform/analysis_and_reporting/ddmin_target_file.py#208\" target=\"_blank\"><span style=\"color: #7f7f7f; text-decoration-color: #7f7f7f\">208</span></a>\n",
       "</pre>\n"
      ],
      "text/plain": [
       "\u001b[2;36m          \u001b[0m\u001b[2;36m \u001b[0m  - export_to_qasm_with_qiskit                                                  \u001b]8;id=710158;file:///home/paltenmo/projects/crossplatform/analysis_and_reporting/ddmin_target_file.py\u001b\\\u001b[2mddmin_target_file.py\u001b[0m\u001b]8;;\u001b\\\u001b[2m:\u001b[0m\u001b]8;id=440480;file:///home/paltenmo/projects/crossplatform/analysis_and_reporting/ddmin_target_file.py#208\u001b\\\u001b[2m208\u001b[0m\u001b]8;;\u001b\\\n"
      ]
     },
     "metadata": {},
     "output_type": "display_data"
    },
    {
     "name": "stdout",
     "output_type": "stream",
     "text": [
      "Error parsing: Command 'python /workspace/to_execute.py' in image 'qiskit_runner' returned non-zero exit status 1: b'Traceback (most recent call last):\\n  File \"/workspace/to_execute.py\", line 105, in <module>\\n    target_qc = qc\\nNameError: name \\'qc\\' is not defined\\n'\n",
      "Failed to execute to_execute.py in Docker.\n",
      "Output: Saved the Pytket circuit to /workspace/to_execute_qc_pytket.qasm\n",
      "Saved the Qiskit circuit to /workspace/to_execute_qc_qiskit.qasm\n",
      "Exported QASM files: [('/workspace/to_execute_qc_pytket.qasm', 'export_to_qasm_with_pytket'), ('/workspace/to_execute_qc_qiskit.qasm', 'export_to_qasm_with_qiskit')]\n",
      "The circuits are equivalent: /workspace/to_execute_qc_pytket.qasm, /workspace/to_execute_qc_qiskit.qasm\n",
      "\n",
      "Program to_execute.py executed successfully.\n",
      "Output: Saved the Pytket circuit to /workspace/to_execute_qc_pytket.qasm\n",
      "Saved the Qiskit circuit to /workspace/to_execute_qc_qiskit.qasm\n",
      "Exported QASM files: [('/workspace/to_execute_qc_pytket.qasm', 'export_to_qasm_with_pytket'), ('/workspace/to_execute_qc_qiskit.qasm', 'export_to_qasm_with_qiskit')]\n",
      "The circuits are equivalent: /workspace/to_execute_qc_pytket.qasm, /workspace/to_execute_qc_qiskit.qasm\n",
      "\n",
      "Program to_execute.py executed successfully.\n",
      "Error: We expected the exact buggy program to return False (namely the same error): True\n",
      "Skipping to the next error file\n",
      "\u001b[2;36m[14:29:43]\u001b[0m\u001b[2;36m \u001b[0mCreated report folder:                                  \u001b]8;id=497320;file:///home/paltenmo/projects/crossplatform/analysis_and_reporting/triage.py\u001b\\\u001b[2mtriage.py\u001b[0m\u001b]8;;\u001b\\\u001b[2m:\u001b[0m\u001b]8;id=140838;file:///home/paltenmo/projects/crossplatform/analysis_and_reporting/triage.py#131\u001b\\\u001b[2m131\u001b[0m\u001b]8;;\u001b\\\n",
      "\u001b[2;36m           \u001b[0m..\u001b[35m/reports/v008/\u001b[0m\u001b[95m2024_11_12__14_29\u001b[0m                       \u001b[2m             \u001b[0m\n",
      "\u001b[2;36m          \u001b[0m\u001b[2;36m \u001b[0mCopied files to: ..\u001b[35m/reports/v008/\u001b[0m\u001b[95m2024_11_12__14_29\u001b[0m      \u001b]8;id=811224;file:///home/paltenmo/projects/crossplatform/analysis_and_reporting/triage.py\u001b\\\u001b[2mtriage.py\u001b[0m\u001b]8;;\u001b\\\u001b[2m:\u001b[0m\u001b]8;id=871602;file:///home/paltenmo/projects/crossplatform/analysis_and_reporting/triage.py#140\u001b\\\u001b[2m140\u001b[0m\u001b]8;;\u001b\\\n"
     ]
    },
    {
     "data": {
      "text/html": [
       "<pre style=\"white-space:pre;overflow-x:auto;line-height:normal;font-family:Menlo,'DejaVu Sans Mono',consolas,'Courier New',monospace\"><span style=\"color: #7fbfbf; text-decoration-color: #7fbfbf\">[14:29:43] </span>Involved functions:                                                             <a href=\"file:///home/paltenmo/projects/crossplatform/analysis_and_reporting/ddmin_target_file.py\" target=\"_blank\"><span style=\"color: #7f7f7f; text-decoration-color: #7f7f7f\">ddmin_target_file.py</span></a><span style=\"color: #7f7f7f; text-decoration-color: #7f7f7f\">:</span><a href=\"file:///home/paltenmo/projects/crossplatform/analysis_and_reporting/ddmin_target_file.py#206\" target=\"_blank\"><span style=\"color: #7f7f7f; text-decoration-color: #7f7f7f\">206</span></a>\n",
       "</pre>\n"
      ],
      "text/plain": [
       "\u001b[2;36m[14:29:43]\u001b[0m\u001b[2;36m \u001b[0mInvolved functions:                                                             \u001b]8;id=912906;file:///home/paltenmo/projects/crossplatform/analysis_and_reporting/ddmin_target_file.py\u001b\\\u001b[2mddmin_target_file.py\u001b[0m\u001b]8;;\u001b\\\u001b[2m:\u001b[0m\u001b]8;id=934713;file:///home/paltenmo/projects/crossplatform/analysis_and_reporting/ddmin_target_file.py#206\u001b\\\u001b[2m206\u001b[0m\u001b]8;;\u001b\\\n"
      ]
     },
     "metadata": {},
     "output_type": "display_data"
    },
    {
     "data": {
      "text/html": [
       "<pre style=\"white-space:pre;overflow-x:auto;line-height:normal;font-family:Menlo,'DejaVu Sans Mono',consolas,'Courier New',monospace\"><span style=\"color: #7fbfbf; text-decoration-color: #7fbfbf\">           </span>  - compare_qasm_via_qcec                                                       <a href=\"file:///home/paltenmo/projects/crossplatform/analysis_and_reporting/ddmin_target_file.py\" target=\"_blank\"><span style=\"color: #7f7f7f; text-decoration-color: #7f7f7f\">ddmin_target_file.py</span></a><span style=\"color: #7f7f7f; text-decoration-color: #7f7f7f\">:</span><a href=\"file:///home/paltenmo/projects/crossplatform/analysis_and_reporting/ddmin_target_file.py#208\" target=\"_blank\"><span style=\"color: #7f7f7f; text-decoration-color: #7f7f7f\">208</span></a>\n",
       "</pre>\n"
      ],
      "text/plain": [
       "\u001b[2;36m          \u001b[0m\u001b[2;36m \u001b[0m  - compare_qasm_via_qcec                                                       \u001b]8;id=872641;file:///home/paltenmo/projects/crossplatform/analysis_and_reporting/ddmin_target_file.py\u001b\\\u001b[2mddmin_target_file.py\u001b[0m\u001b]8;;\u001b\\\u001b[2m:\u001b[0m\u001b]8;id=851324;file:///home/paltenmo/projects/crossplatform/analysis_and_reporting/ddmin_target_file.py#208\u001b\\\u001b[2m208\u001b[0m\u001b]8;;\u001b\\\n"
      ]
     },
     "metadata": {},
     "output_type": "display_data"
    },
    {
     "data": {
      "text/html": [
       "<pre style=\"white-space:pre;overflow-x:auto;line-height:normal;font-family:Menlo,'DejaVu Sans Mono',consolas,'Courier New',monospace\"><span style=\"color: #7fbfbf; text-decoration-color: #7fbfbf\">           </span>  - export_to_qasm_with_pytket                                                  <a href=\"file:///home/paltenmo/projects/crossplatform/analysis_and_reporting/ddmin_target_file.py\" target=\"_blank\"><span style=\"color: #7f7f7f; text-decoration-color: #7f7f7f\">ddmin_target_file.py</span></a><span style=\"color: #7f7f7f; text-decoration-color: #7f7f7f\">:</span><a href=\"file:///home/paltenmo/projects/crossplatform/analysis_and_reporting/ddmin_target_file.py#208\" target=\"_blank\"><span style=\"color: #7f7f7f; text-decoration-color: #7f7f7f\">208</span></a>\n",
       "</pre>\n"
      ],
      "text/plain": [
       "\u001b[2;36m          \u001b[0m\u001b[2;36m \u001b[0m  - export_to_qasm_with_pytket                                                  \u001b]8;id=353358;file:///home/paltenmo/projects/crossplatform/analysis_and_reporting/ddmin_target_file.py\u001b\\\u001b[2mddmin_target_file.py\u001b[0m\u001b]8;;\u001b\\\u001b[2m:\u001b[0m\u001b]8;id=326818;file:///home/paltenmo/projects/crossplatform/analysis_and_reporting/ddmin_target_file.py#208\u001b\\\u001b[2m208\u001b[0m\u001b]8;;\u001b\\\n"
      ]
     },
     "metadata": {},
     "output_type": "display_data"
    },
    {
     "data": {
      "text/html": [
       "<pre style=\"white-space:pre;overflow-x:auto;line-height:normal;font-family:Menlo,'DejaVu Sans Mono',consolas,'Courier New',monospace\"><span style=\"color: #7fbfbf; text-decoration-color: #7fbfbf\">           </span>  - export_to_qasm_with_qiskit                                                  <a href=\"file:///home/paltenmo/projects/crossplatform/analysis_and_reporting/ddmin_target_file.py\" target=\"_blank\"><span style=\"color: #7f7f7f; text-decoration-color: #7f7f7f\">ddmin_target_file.py</span></a><span style=\"color: #7f7f7f; text-decoration-color: #7f7f7f\">:</span><a href=\"file:///home/paltenmo/projects/crossplatform/analysis_and_reporting/ddmin_target_file.py#208\" target=\"_blank\"><span style=\"color: #7f7f7f; text-decoration-color: #7f7f7f\">208</span></a>\n",
       "</pre>\n"
      ],
      "text/plain": [
       "\u001b[2;36m          \u001b[0m\u001b[2;36m \u001b[0m  - export_to_qasm_with_qiskit                                                  \u001b]8;id=822661;file:///home/paltenmo/projects/crossplatform/analysis_and_reporting/ddmin_target_file.py\u001b\\\u001b[2mddmin_target_file.py\u001b[0m\u001b]8;;\u001b\\\u001b[2m:\u001b[0m\u001b]8;id=194108;file:///home/paltenmo/projects/crossplatform/analysis_and_reporting/ddmin_target_file.py#208\u001b\\\u001b[2m208\u001b[0m\u001b]8;;\u001b\\\n"
      ]
     },
     "metadata": {},
     "output_type": "display_data"
    },
    {
     "name": "stdout",
     "output_type": "stream",
     "text": [
      "Error parsing: Command 'python /workspace/to_execute.py' in image 'qiskit_runner' returned non-zero exit status 1: b'Traceback (most recent call last):\\n  File \"/workspace/to_execute.py\", line 105, in <module>\\n    target_qc = qc\\nNameError: name \\'qc\\' is not defined\\n'\n",
      "Failed to execute to_execute.py in Docker.\n",
      "Output: Saved the Pytket circuit to /workspace/to_execute_qc_pytket.qasm\n",
      "Saved the Qiskit circuit to /workspace/to_execute_qc_qiskit.qasm\n",
      "Exported QASM files: [('/workspace/to_execute_qc_pytket.qasm', 'export_to_qasm_with_pytket'), ('/workspace/to_execute_qc_qiskit.qasm', 'export_to_qasm_with_qiskit')]\n",
      "The circuits are equivalent: /workspace/to_execute_qc_pytket.qasm, /workspace/to_execute_qc_qiskit.qasm\n",
      "\n",
      "Program to_execute.py executed successfully.\n",
      "Output: Saved the Pytket circuit to /workspace/to_execute_qc_pytket.qasm\n",
      "Saved the Qiskit circuit to /workspace/to_execute_qc_qiskit.qasm\n",
      "Exported QASM files: [('/workspace/to_execute_qc_pytket.qasm', 'export_to_qasm_with_pytket'), ('/workspace/to_execute_qc_qiskit.qasm', 'export_to_qasm_with_qiskit')]\n",
      "The circuits are equivalent: /workspace/to_execute_qc_pytket.qasm, /workspace/to_execute_qc_qiskit.qasm\n",
      "\n",
      "Program to_execute.py executed successfully.\n",
      "Error: We expected the exact buggy program to return False (namely the same error): True\n",
      "Skipping to the next error file\n",
      "\u001b[2;36m[14:29:52]\u001b[0m\u001b[2;36m \u001b[0mCreated report folder:                                  \u001b]8;id=263983;file:///home/paltenmo/projects/crossplatform/analysis_and_reporting/triage.py\u001b\\\u001b[2mtriage.py\u001b[0m\u001b]8;;\u001b\\\u001b[2m:\u001b[0m\u001b]8;id=102049;file:///home/paltenmo/projects/crossplatform/analysis_and_reporting/triage.py#131\u001b\\\u001b[2m131\u001b[0m\u001b]8;;\u001b\\\n",
      "\u001b[2;36m           \u001b[0m..\u001b[35m/reports/v008/\u001b[0m\u001b[95m2024_11_12__14_29\u001b[0m                       \u001b[2m             \u001b[0m\n",
      "\u001b[2;36m          \u001b[0m\u001b[2;36m \u001b[0mCopied files to: ..\u001b[35m/reports/v008/\u001b[0m\u001b[95m2024_11_12__14_29\u001b[0m      \u001b]8;id=898201;file:///home/paltenmo/projects/crossplatform/analysis_and_reporting/triage.py\u001b\\\u001b[2mtriage.py\u001b[0m\u001b]8;;\u001b\\\u001b[2m:\u001b[0m\u001b]8;id=830412;file:///home/paltenmo/projects/crossplatform/analysis_and_reporting/triage.py#140\u001b\\\u001b[2m140\u001b[0m\u001b]8;;\u001b\\\n"
     ]
    },
    {
     "data": {
      "text/html": [
       "<pre style=\"white-space:pre;overflow-x:auto;line-height:normal;font-family:Menlo,'DejaVu Sans Mono',consolas,'Courier New',monospace\"><span style=\"color: #7fbfbf; text-decoration-color: #7fbfbf\">[14:29:52] </span>Involved functions:                                                             <a href=\"file:///home/paltenmo/projects/crossplatform/analysis_and_reporting/ddmin_target_file.py\" target=\"_blank\"><span style=\"color: #7f7f7f; text-decoration-color: #7f7f7f\">ddmin_target_file.py</span></a><span style=\"color: #7f7f7f; text-decoration-color: #7f7f7f\">:</span><a href=\"file:///home/paltenmo/projects/crossplatform/analysis_and_reporting/ddmin_target_file.py#206\" target=\"_blank\"><span style=\"color: #7f7f7f; text-decoration-color: #7f7f7f\">206</span></a>\n",
       "</pre>\n"
      ],
      "text/plain": [
       "\u001b[2;36m[14:29:52]\u001b[0m\u001b[2;36m \u001b[0mInvolved functions:                                                             \u001b]8;id=844957;file:///home/paltenmo/projects/crossplatform/analysis_and_reporting/ddmin_target_file.py\u001b\\\u001b[2mddmin_target_file.py\u001b[0m\u001b]8;;\u001b\\\u001b[2m:\u001b[0m\u001b]8;id=78153;file:///home/paltenmo/projects/crossplatform/analysis_and_reporting/ddmin_target_file.py#206\u001b\\\u001b[2m206\u001b[0m\u001b]8;;\u001b\\\n"
      ]
     },
     "metadata": {},
     "output_type": "display_data"
    },
    {
     "data": {
      "text/html": [
       "<pre style=\"white-space:pre;overflow-x:auto;line-height:normal;font-family:Menlo,'DejaVu Sans Mono',consolas,'Courier New',monospace\"><span style=\"color: #7fbfbf; text-decoration-color: #7fbfbf\">           </span>  - compare_qasm_via_qcec                                                       <a href=\"file:///home/paltenmo/projects/crossplatform/analysis_and_reporting/ddmin_target_file.py\" target=\"_blank\"><span style=\"color: #7f7f7f; text-decoration-color: #7f7f7f\">ddmin_target_file.py</span></a><span style=\"color: #7f7f7f; text-decoration-color: #7f7f7f\">:</span><a href=\"file:///home/paltenmo/projects/crossplatform/analysis_and_reporting/ddmin_target_file.py#208\" target=\"_blank\"><span style=\"color: #7f7f7f; text-decoration-color: #7f7f7f\">208</span></a>\n",
       "</pre>\n"
      ],
      "text/plain": [
       "\u001b[2;36m          \u001b[0m\u001b[2;36m \u001b[0m  - compare_qasm_via_qcec                                                       \u001b]8;id=440965;file:///home/paltenmo/projects/crossplatform/analysis_and_reporting/ddmin_target_file.py\u001b\\\u001b[2mddmin_target_file.py\u001b[0m\u001b]8;;\u001b\\\u001b[2m:\u001b[0m\u001b]8;id=450326;file:///home/paltenmo/projects/crossplatform/analysis_and_reporting/ddmin_target_file.py#208\u001b\\\u001b[2m208\u001b[0m\u001b]8;;\u001b\\\n"
      ]
     },
     "metadata": {},
     "output_type": "display_data"
    },
    {
     "data": {
      "text/html": [
       "<pre style=\"white-space:pre;overflow-x:auto;line-height:normal;font-family:Menlo,'DejaVu Sans Mono',consolas,'Courier New',monospace\"><span style=\"color: #7fbfbf; text-decoration-color: #7fbfbf\">           </span>  - export_to_qasm_with_pytket                                                  <a href=\"file:///home/paltenmo/projects/crossplatform/analysis_and_reporting/ddmin_target_file.py\" target=\"_blank\"><span style=\"color: #7f7f7f; text-decoration-color: #7f7f7f\">ddmin_target_file.py</span></a><span style=\"color: #7f7f7f; text-decoration-color: #7f7f7f\">:</span><a href=\"file:///home/paltenmo/projects/crossplatform/analysis_and_reporting/ddmin_target_file.py#208\" target=\"_blank\"><span style=\"color: #7f7f7f; text-decoration-color: #7f7f7f\">208</span></a>\n",
       "</pre>\n"
      ],
      "text/plain": [
       "\u001b[2;36m          \u001b[0m\u001b[2;36m \u001b[0m  - export_to_qasm_with_pytket                                                  \u001b]8;id=898947;file:///home/paltenmo/projects/crossplatform/analysis_and_reporting/ddmin_target_file.py\u001b\\\u001b[2mddmin_target_file.py\u001b[0m\u001b]8;;\u001b\\\u001b[2m:\u001b[0m\u001b]8;id=953352;file:///home/paltenmo/projects/crossplatform/analysis_and_reporting/ddmin_target_file.py#208\u001b\\\u001b[2m208\u001b[0m\u001b]8;;\u001b\\\n"
      ]
     },
     "metadata": {},
     "output_type": "display_data"
    },
    {
     "data": {
      "text/html": [
       "<pre style=\"white-space:pre;overflow-x:auto;line-height:normal;font-family:Menlo,'DejaVu Sans Mono',consolas,'Courier New',monospace\"><span style=\"color: #7fbfbf; text-decoration-color: #7fbfbf\">           </span>  - export_to_qasm_with_qiskit                                                  <a href=\"file:///home/paltenmo/projects/crossplatform/analysis_and_reporting/ddmin_target_file.py\" target=\"_blank\"><span style=\"color: #7f7f7f; text-decoration-color: #7f7f7f\">ddmin_target_file.py</span></a><span style=\"color: #7f7f7f; text-decoration-color: #7f7f7f\">:</span><a href=\"file:///home/paltenmo/projects/crossplatform/analysis_and_reporting/ddmin_target_file.py#208\" target=\"_blank\"><span style=\"color: #7f7f7f; text-decoration-color: #7f7f7f\">208</span></a>\n",
       "</pre>\n"
      ],
      "text/plain": [
       "\u001b[2;36m          \u001b[0m\u001b[2;36m \u001b[0m  - export_to_qasm_with_qiskit                                                  \u001b]8;id=881621;file:///home/paltenmo/projects/crossplatform/analysis_and_reporting/ddmin_target_file.py\u001b\\\u001b[2mddmin_target_file.py\u001b[0m\u001b]8;;\u001b\\\u001b[2m:\u001b[0m\u001b]8;id=383242;file:///home/paltenmo/projects/crossplatform/analysis_and_reporting/ddmin_target_file.py#208\u001b\\\u001b[2m208\u001b[0m\u001b]8;;\u001b\\\n"
      ]
     },
     "metadata": {},
     "output_type": "display_data"
    },
    {
     "name": "stdout",
     "output_type": "stream",
     "text": [
      "Error parsing: Command 'python /workspace/to_execute.py' in image 'qiskit_runner' returned non-zero exit status 1: b'Traceback (most recent call last):\\n  File \"/workspace/to_execute.py\", line 105, in <module>\\n    target_qc = qc\\nNameError: name \\'qc\\' is not defined\\n'\n",
      "Failed to execute to_execute.py in Docker.\n",
      "Output: Saved the Pytket circuit to /workspace/to_execute_qc_pytket.qasm\n",
      "Saved the Qiskit circuit to /workspace/to_execute_qc_qiskit.qasm\n",
      "Exported QASM files: [('/workspace/to_execute_qc_pytket.qasm', 'export_to_qasm_with_pytket'), ('/workspace/to_execute_qc_qiskit.qasm', 'export_to_qasm_with_qiskit')]\n",
      "The circuits are equivalent: /workspace/to_execute_qc_pytket.qasm, /workspace/to_execute_qc_qiskit.qasm\n",
      "\n",
      "Program to_execute.py executed successfully.\n",
      "Output: Saved the Pytket circuit to /workspace/to_execute_qc_pytket.qasm\n",
      "Saved the Qiskit circuit to /workspace/to_execute_qc_qiskit.qasm\n",
      "Exported QASM files: [('/workspace/to_execute_qc_pytket.qasm', 'export_to_qasm_with_pytket'), ('/workspace/to_execute_qc_qiskit.qasm', 'export_to_qasm_with_qiskit')]\n",
      "The circuits are equivalent: /workspace/to_execute_qc_pytket.qasm, /workspace/to_execute_qc_qiskit.qasm\n",
      "\n",
      "Program to_execute.py executed successfully.\n",
      "Error: We expected the exact buggy program to return False (namely the same error): True\n",
      "Skipping to the next error file\n",
      "\u001b[2;36m[14:30:01]\u001b[0m\u001b[2;36m \u001b[0mCreated report folder:                                  \u001b]8;id=829249;file:///home/paltenmo/projects/crossplatform/analysis_and_reporting/triage.py\u001b\\\u001b[2mtriage.py\u001b[0m\u001b]8;;\u001b\\\u001b[2m:\u001b[0m\u001b]8;id=253145;file:///home/paltenmo/projects/crossplatform/analysis_and_reporting/triage.py#131\u001b\\\u001b[2m131\u001b[0m\u001b]8;;\u001b\\\n",
      "\u001b[2;36m           \u001b[0m..\u001b[35m/reports/v008/\u001b[0m\u001b[95m2024_11_12__14_30\u001b[0m                       \u001b[2m             \u001b[0m\n",
      "\u001b[2;36m          \u001b[0m\u001b[2;36m \u001b[0mCopied files to: ..\u001b[35m/reports/v008/\u001b[0m\u001b[95m2024_11_12__14_30\u001b[0m      \u001b]8;id=446152;file:///home/paltenmo/projects/crossplatform/analysis_and_reporting/triage.py\u001b\\\u001b[2mtriage.py\u001b[0m\u001b]8;;\u001b\\\u001b[2m:\u001b[0m\u001b]8;id=46025;file:///home/paltenmo/projects/crossplatform/analysis_and_reporting/triage.py#140\u001b\\\u001b[2m140\u001b[0m\u001b]8;;\u001b\\\n"
     ]
    },
    {
     "data": {
      "text/html": [
       "<pre style=\"white-space:pre;overflow-x:auto;line-height:normal;font-family:Menlo,'DejaVu Sans Mono',consolas,'Courier New',monospace\"><span style=\"color: #7fbfbf; text-decoration-color: #7fbfbf\">[14:30:01] </span>Involved functions:                                                             <a href=\"file:///home/paltenmo/projects/crossplatform/analysis_and_reporting/ddmin_target_file.py\" target=\"_blank\"><span style=\"color: #7f7f7f; text-decoration-color: #7f7f7f\">ddmin_target_file.py</span></a><span style=\"color: #7f7f7f; text-decoration-color: #7f7f7f\">:</span><a href=\"file:///home/paltenmo/projects/crossplatform/analysis_and_reporting/ddmin_target_file.py#206\" target=\"_blank\"><span style=\"color: #7f7f7f; text-decoration-color: #7f7f7f\">206</span></a>\n",
       "</pre>\n"
      ],
      "text/plain": [
       "\u001b[2;36m[14:30:01]\u001b[0m\u001b[2;36m \u001b[0mInvolved functions:                                                             \u001b]8;id=389293;file:///home/paltenmo/projects/crossplatform/analysis_and_reporting/ddmin_target_file.py\u001b\\\u001b[2mddmin_target_file.py\u001b[0m\u001b]8;;\u001b\\\u001b[2m:\u001b[0m\u001b]8;id=55432;file:///home/paltenmo/projects/crossplatform/analysis_and_reporting/ddmin_target_file.py#206\u001b\\\u001b[2m206\u001b[0m\u001b]8;;\u001b\\\n"
      ]
     },
     "metadata": {},
     "output_type": "display_data"
    },
    {
     "data": {
      "text/html": [
       "<pre style=\"white-space:pre;overflow-x:auto;line-height:normal;font-family:Menlo,'DejaVu Sans Mono',consolas,'Courier New',monospace\"><span style=\"color: #7fbfbf; text-decoration-color: #7fbfbf\">           </span>  - compare_qasm_via_qcec                                                       <a href=\"file:///home/paltenmo/projects/crossplatform/analysis_and_reporting/ddmin_target_file.py\" target=\"_blank\"><span style=\"color: #7f7f7f; text-decoration-color: #7f7f7f\">ddmin_target_file.py</span></a><span style=\"color: #7f7f7f; text-decoration-color: #7f7f7f\">:</span><a href=\"file:///home/paltenmo/projects/crossplatform/analysis_and_reporting/ddmin_target_file.py#208\" target=\"_blank\"><span style=\"color: #7f7f7f; text-decoration-color: #7f7f7f\">208</span></a>\n",
       "</pre>\n"
      ],
      "text/plain": [
       "\u001b[2;36m          \u001b[0m\u001b[2;36m \u001b[0m  - compare_qasm_via_qcec                                                       \u001b]8;id=714388;file:///home/paltenmo/projects/crossplatform/analysis_and_reporting/ddmin_target_file.py\u001b\\\u001b[2mddmin_target_file.py\u001b[0m\u001b]8;;\u001b\\\u001b[2m:\u001b[0m\u001b]8;id=480318;file:///home/paltenmo/projects/crossplatform/analysis_and_reporting/ddmin_target_file.py#208\u001b\\\u001b[2m208\u001b[0m\u001b]8;;\u001b\\\n"
      ]
     },
     "metadata": {},
     "output_type": "display_data"
    },
    {
     "data": {
      "text/html": [
       "<pre style=\"white-space:pre;overflow-x:auto;line-height:normal;font-family:Menlo,'DejaVu Sans Mono',consolas,'Courier New',monospace\"><span style=\"color: #7fbfbf; text-decoration-color: #7fbfbf\">           </span>  - export_to_qasm_with_bqskit                                                  <a href=\"file:///home/paltenmo/projects/crossplatform/analysis_and_reporting/ddmin_target_file.py\" target=\"_blank\"><span style=\"color: #7f7f7f; text-decoration-color: #7f7f7f\">ddmin_target_file.py</span></a><span style=\"color: #7f7f7f; text-decoration-color: #7f7f7f\">:</span><a href=\"file:///home/paltenmo/projects/crossplatform/analysis_and_reporting/ddmin_target_file.py#208\" target=\"_blank\"><span style=\"color: #7f7f7f; text-decoration-color: #7f7f7f\">208</span></a>\n",
       "</pre>\n"
      ],
      "text/plain": [
       "\u001b[2;36m          \u001b[0m\u001b[2;36m \u001b[0m  - export_to_qasm_with_bqskit                                                  \u001b]8;id=290866;file:///home/paltenmo/projects/crossplatform/analysis_and_reporting/ddmin_target_file.py\u001b\\\u001b[2mddmin_target_file.py\u001b[0m\u001b]8;;\u001b\\\u001b[2m:\u001b[0m\u001b]8;id=194934;file:///home/paltenmo/projects/crossplatform/analysis_and_reporting/ddmin_target_file.py#208\u001b\\\u001b[2m208\u001b[0m\u001b]8;;\u001b\\\n"
      ]
     },
     "metadata": {},
     "output_type": "display_data"
    },
    {
     "data": {
      "text/html": [
       "<pre style=\"white-space:pre;overflow-x:auto;line-height:normal;font-family:Menlo,'DejaVu Sans Mono',consolas,'Courier New',monospace\"><span style=\"color: #7fbfbf; text-decoration-color: #7fbfbf\">           </span>  - export_to_qasm_with_pytket                                                  <a href=\"file:///home/paltenmo/projects/crossplatform/analysis_and_reporting/ddmin_target_file.py\" target=\"_blank\"><span style=\"color: #7f7f7f; text-decoration-color: #7f7f7f\">ddmin_target_file.py</span></a><span style=\"color: #7f7f7f; text-decoration-color: #7f7f7f\">:</span><a href=\"file:///home/paltenmo/projects/crossplatform/analysis_and_reporting/ddmin_target_file.py#208\" target=\"_blank\"><span style=\"color: #7f7f7f; text-decoration-color: #7f7f7f\">208</span></a>\n",
       "</pre>\n"
      ],
      "text/plain": [
       "\u001b[2;36m          \u001b[0m\u001b[2;36m \u001b[0m  - export_to_qasm_with_pytket                                                  \u001b]8;id=648050;file:///home/paltenmo/projects/crossplatform/analysis_and_reporting/ddmin_target_file.py\u001b\\\u001b[2mddmin_target_file.py\u001b[0m\u001b]8;;\u001b\\\u001b[2m:\u001b[0m\u001b]8;id=496552;file:///home/paltenmo/projects/crossplatform/analysis_and_reporting/ddmin_target_file.py#208\u001b\\\u001b[2m208\u001b[0m\u001b]8;;\u001b\\\n"
      ]
     },
     "metadata": {},
     "output_type": "display_data"
    },
    {
     "name": "stdout",
     "output_type": "stream",
     "text": [
      "Error parsing: Command 'python /workspace/to_execute.py' in image 'qiskit_runner' returned non-zero exit status 1: b'Traceback (most recent call last):\\n  File \"/workspace/to_execute.py\", line 106, in <module>\\n    target_qc = qc\\nNameError: name \\'qc\\' is not defined\\n'\n",
      "Failed to execute to_execute.py in Docker.\n",
      "Output: Saved the BQSKit circuit to /workspace/to_execute_qc_bqskit.qasm\n",
      "Saved the Pytket circuit to /workspace/to_execute_qc_pytket.qasm\n",
      "Exported QASM files: [('/workspace/to_execute_qc_bqskit.qasm', 'export_to_qasm_with_bqskit'), ('/workspace/to_execute_qc_pytket.qasm', 'export_to_qasm_with_pytket')]\n",
      "The circuits are equivalent: /workspace/to_execute_qc_bqskit.qasm, /workspace/to_execute_qc_pytket.qasm\n",
      "\n",
      "Program to_execute.py executed successfully.\n",
      "Output: Saved the BQSKit circuit to /workspace/to_execute_qc_bqskit.qasm\n",
      "Saved the Pytket circuit to /workspace/to_execute_qc_pytket.qasm\n",
      "Exported QASM files: [('/workspace/to_execute_qc_bqskit.qasm', 'export_to_qasm_with_bqskit'), ('/workspace/to_execute_qc_pytket.qasm', 'export_to_qasm_with_pytket')]\n",
      "The circuits are equivalent: /workspace/to_execute_qc_bqskit.qasm, /workspace/to_execute_qc_pytket.qasm\n",
      "\n",
      "Program to_execute.py executed successfully.\n",
      "Error: We expected the exact buggy program to return False (namely the same error): True\n",
      "Skipping to the next error file\n",
      "\u001b[2;36m[14:30:11]\u001b[0m\u001b[2;36m \u001b[0mCreated report folder:                                  \u001b]8;id=568974;file:///home/paltenmo/projects/crossplatform/analysis_and_reporting/triage.py\u001b\\\u001b[2mtriage.py\u001b[0m\u001b]8;;\u001b\\\u001b[2m:\u001b[0m\u001b]8;id=767857;file:///home/paltenmo/projects/crossplatform/analysis_and_reporting/triage.py#131\u001b\\\u001b[2m131\u001b[0m\u001b]8;;\u001b\\\n",
      "\u001b[2;36m           \u001b[0m..\u001b[35m/reports/v008/\u001b[0m\u001b[95m2024_11_12__14_30\u001b[0m                       \u001b[2m             \u001b[0m\n",
      "\u001b[2;36m          \u001b[0m\u001b[2;36m \u001b[0mCopied files to: ..\u001b[35m/reports/v008/\u001b[0m\u001b[95m2024_11_12__14_30\u001b[0m      \u001b]8;id=575418;file:///home/paltenmo/projects/crossplatform/analysis_and_reporting/triage.py\u001b\\\u001b[2mtriage.py\u001b[0m\u001b]8;;\u001b\\\u001b[2m:\u001b[0m\u001b]8;id=901067;file:///home/paltenmo/projects/crossplatform/analysis_and_reporting/triage.py#140\u001b\\\u001b[2m140\u001b[0m\u001b]8;;\u001b\\\n"
     ]
    },
    {
     "data": {
      "text/html": [
       "<pre style=\"white-space:pre;overflow-x:auto;line-height:normal;font-family:Menlo,'DejaVu Sans Mono',consolas,'Courier New',monospace\"><span style=\"color: #7fbfbf; text-decoration-color: #7fbfbf\">[14:30:11] </span>Involved functions:                                                             <a href=\"file:///home/paltenmo/projects/crossplatform/analysis_and_reporting/ddmin_target_file.py\" target=\"_blank\"><span style=\"color: #7f7f7f; text-decoration-color: #7f7f7f\">ddmin_target_file.py</span></a><span style=\"color: #7f7f7f; text-decoration-color: #7f7f7f\">:</span><a href=\"file:///home/paltenmo/projects/crossplatform/analysis_and_reporting/ddmin_target_file.py#206\" target=\"_blank\"><span style=\"color: #7f7f7f; text-decoration-color: #7f7f7f\">206</span></a>\n",
       "</pre>\n"
      ],
      "text/plain": [
       "\u001b[2;36m[14:30:11]\u001b[0m\u001b[2;36m \u001b[0mInvolved functions:                                                             \u001b]8;id=464655;file:///home/paltenmo/projects/crossplatform/analysis_and_reporting/ddmin_target_file.py\u001b\\\u001b[2mddmin_target_file.py\u001b[0m\u001b]8;;\u001b\\\u001b[2m:\u001b[0m\u001b]8;id=951609;file:///home/paltenmo/projects/crossplatform/analysis_and_reporting/ddmin_target_file.py#206\u001b\\\u001b[2m206\u001b[0m\u001b]8;;\u001b\\\n"
      ]
     },
     "metadata": {},
     "output_type": "display_data"
    },
    {
     "data": {
      "text/html": [
       "<pre style=\"white-space:pre;overflow-x:auto;line-height:normal;font-family:Menlo,'DejaVu Sans Mono',consolas,'Courier New',monospace\"><span style=\"color: #7fbfbf; text-decoration-color: #7fbfbf\">           </span>  - compare_qasm_via_qcec                                                       <a href=\"file:///home/paltenmo/projects/crossplatform/analysis_and_reporting/ddmin_target_file.py\" target=\"_blank\"><span style=\"color: #7f7f7f; text-decoration-color: #7f7f7f\">ddmin_target_file.py</span></a><span style=\"color: #7f7f7f; text-decoration-color: #7f7f7f\">:</span><a href=\"file:///home/paltenmo/projects/crossplatform/analysis_and_reporting/ddmin_target_file.py#208\" target=\"_blank\"><span style=\"color: #7f7f7f; text-decoration-color: #7f7f7f\">208</span></a>\n",
       "</pre>\n"
      ],
      "text/plain": [
       "\u001b[2;36m          \u001b[0m\u001b[2;36m \u001b[0m  - compare_qasm_via_qcec                                                       \u001b]8;id=702930;file:///home/paltenmo/projects/crossplatform/analysis_and_reporting/ddmin_target_file.py\u001b\\\u001b[2mddmin_target_file.py\u001b[0m\u001b]8;;\u001b\\\u001b[2m:\u001b[0m\u001b]8;id=598178;file:///home/paltenmo/projects/crossplatform/analysis_and_reporting/ddmin_target_file.py#208\u001b\\\u001b[2m208\u001b[0m\u001b]8;;\u001b\\\n"
      ]
     },
     "metadata": {},
     "output_type": "display_data"
    },
    {
     "data": {
      "text/html": [
       "<pre style=\"white-space:pre;overflow-x:auto;line-height:normal;font-family:Menlo,'DejaVu Sans Mono',consolas,'Courier New',monospace\"><span style=\"color: #7fbfbf; text-decoration-color: #7fbfbf\">           </span>  - export_to_qasm_with_pytket                                                  <a href=\"file:///home/paltenmo/projects/crossplatform/analysis_and_reporting/ddmin_target_file.py\" target=\"_blank\"><span style=\"color: #7f7f7f; text-decoration-color: #7f7f7f\">ddmin_target_file.py</span></a><span style=\"color: #7f7f7f; text-decoration-color: #7f7f7f\">:</span><a href=\"file:///home/paltenmo/projects/crossplatform/analysis_and_reporting/ddmin_target_file.py#208\" target=\"_blank\"><span style=\"color: #7f7f7f; text-decoration-color: #7f7f7f\">208</span></a>\n",
       "</pre>\n"
      ],
      "text/plain": [
       "\u001b[2;36m          \u001b[0m\u001b[2;36m \u001b[0m  - export_to_qasm_with_pytket                                                  \u001b]8;id=170407;file:///home/paltenmo/projects/crossplatform/analysis_and_reporting/ddmin_target_file.py\u001b\\\u001b[2mddmin_target_file.py\u001b[0m\u001b]8;;\u001b\\\u001b[2m:\u001b[0m\u001b]8;id=284799;file:///home/paltenmo/projects/crossplatform/analysis_and_reporting/ddmin_target_file.py#208\u001b\\\u001b[2m208\u001b[0m\u001b]8;;\u001b\\\n"
      ]
     },
     "metadata": {},
     "output_type": "display_data"
    },
    {
     "data": {
      "text/html": [
       "<pre style=\"white-space:pre;overflow-x:auto;line-height:normal;font-family:Menlo,'DejaVu Sans Mono',consolas,'Courier New',monospace\"><span style=\"color: #7fbfbf; text-decoration-color: #7fbfbf\">           </span>  - export_to_qasm_with_qiskit                                                  <a href=\"file:///home/paltenmo/projects/crossplatform/analysis_and_reporting/ddmin_target_file.py\" target=\"_blank\"><span style=\"color: #7f7f7f; text-decoration-color: #7f7f7f\">ddmin_target_file.py</span></a><span style=\"color: #7f7f7f; text-decoration-color: #7f7f7f\">:</span><a href=\"file:///home/paltenmo/projects/crossplatform/analysis_and_reporting/ddmin_target_file.py#208\" target=\"_blank\"><span style=\"color: #7f7f7f; text-decoration-color: #7f7f7f\">208</span></a>\n",
       "</pre>\n"
      ],
      "text/plain": [
       "\u001b[2;36m          \u001b[0m\u001b[2;36m \u001b[0m  - export_to_qasm_with_qiskit                                                  \u001b]8;id=669932;file:///home/paltenmo/projects/crossplatform/analysis_and_reporting/ddmin_target_file.py\u001b\\\u001b[2mddmin_target_file.py\u001b[0m\u001b]8;;\u001b\\\u001b[2m:\u001b[0m\u001b]8;id=445950;file:///home/paltenmo/projects/crossplatform/analysis_and_reporting/ddmin_target_file.py#208\u001b\\\u001b[2m208\u001b[0m\u001b]8;;\u001b\\\n"
      ]
     },
     "metadata": {},
     "output_type": "display_data"
    },
    {
     "name": "stdout",
     "output_type": "stream",
     "text": [
      "Error parsing: Command 'python /workspace/to_execute.py' in image 'qiskit_runner' returned non-zero exit status 1: b'Traceback (most recent call last):\\n  File \"/workspace/to_execute.py\", line 105, in <module>\\n    target_qc = qc\\nNameError: name \\'qc\\' is not defined\\n'\n",
      "Failed to execute to_execute.py in Docker.\n",
      "Output: Saved the Pytket circuit to /workspace/to_execute_qc_pytket.qasm\n",
      "Saved the Qiskit circuit to /workspace/to_execute_qc_qiskit.qasm\n",
      "Exported QASM files: [('/workspace/to_execute_qc_pytket.qasm', 'export_to_qasm_with_pytket'), ('/workspace/to_execute_qc_qiskit.qasm', 'export_to_qasm_with_qiskit')]\n",
      "The circuits are equivalent: /workspace/to_execute_qc_pytket.qasm, /workspace/to_execute_qc_qiskit.qasm\n",
      "\n",
      "Program to_execute.py executed successfully.\n",
      "Output: Saved the Pytket circuit to /workspace/to_execute_qc_pytket.qasm\n",
      "Saved the Qiskit circuit to /workspace/to_execute_qc_qiskit.qasm\n",
      "Exported QASM files: [('/workspace/to_execute_qc_pytket.qasm', 'export_to_qasm_with_pytket'), ('/workspace/to_execute_qc_qiskit.qasm', 'export_to_qasm_with_qiskit')]\n",
      "The circuits are equivalent: /workspace/to_execute_qc_pytket.qasm, /workspace/to_execute_qc_qiskit.qasm\n",
      "\n",
      "Program to_execute.py executed successfully.\n",
      "Error: We expected the exact buggy program to return False (namely the same error): True\n",
      "Skipping to the next error file\n",
      "\u001b[2;36m[14:30:20]\u001b[0m\u001b[2;36m \u001b[0mCreated report folder:                                  \u001b]8;id=458816;file:///home/paltenmo/projects/crossplatform/analysis_and_reporting/triage.py\u001b\\\u001b[2mtriage.py\u001b[0m\u001b]8;;\u001b\\\u001b[2m:\u001b[0m\u001b]8;id=323378;file:///home/paltenmo/projects/crossplatform/analysis_and_reporting/triage.py#131\u001b\\\u001b[2m131\u001b[0m\u001b]8;;\u001b\\\n",
      "\u001b[2;36m           \u001b[0m..\u001b[35m/reports/v008/\u001b[0m\u001b[95m2024_11_12__14_30\u001b[0m                       \u001b[2m             \u001b[0m\n",
      "\u001b[2;36m          \u001b[0m\u001b[2;36m \u001b[0mCopied files to: ..\u001b[35m/reports/v008/\u001b[0m\u001b[95m2024_11_12__14_30\u001b[0m      \u001b]8;id=134819;file:///home/paltenmo/projects/crossplatform/analysis_and_reporting/triage.py\u001b\\\u001b[2mtriage.py\u001b[0m\u001b]8;;\u001b\\\u001b[2m:\u001b[0m\u001b]8;id=519932;file:///home/paltenmo/projects/crossplatform/analysis_and_reporting/triage.py#140\u001b\\\u001b[2m140\u001b[0m\u001b]8;;\u001b\\\n"
     ]
    },
    {
     "data": {
      "text/html": [
       "<pre style=\"white-space:pre;overflow-x:auto;line-height:normal;font-family:Menlo,'DejaVu Sans Mono',consolas,'Courier New',monospace\"><span style=\"color: #7fbfbf; text-decoration-color: #7fbfbf\">[14:30:20] </span>Involved functions:                                                             <a href=\"file:///home/paltenmo/projects/crossplatform/analysis_and_reporting/ddmin_target_file.py\" target=\"_blank\"><span style=\"color: #7f7f7f; text-decoration-color: #7f7f7f\">ddmin_target_file.py</span></a><span style=\"color: #7f7f7f; text-decoration-color: #7f7f7f\">:</span><a href=\"file:///home/paltenmo/projects/crossplatform/analysis_and_reporting/ddmin_target_file.py#206\" target=\"_blank\"><span style=\"color: #7f7f7f; text-decoration-color: #7f7f7f\">206</span></a>\n",
       "</pre>\n"
      ],
      "text/plain": [
       "\u001b[2;36m[14:30:20]\u001b[0m\u001b[2;36m \u001b[0mInvolved functions:                                                             \u001b]8;id=582045;file:///home/paltenmo/projects/crossplatform/analysis_and_reporting/ddmin_target_file.py\u001b\\\u001b[2mddmin_target_file.py\u001b[0m\u001b]8;;\u001b\\\u001b[2m:\u001b[0m\u001b]8;id=792621;file:///home/paltenmo/projects/crossplatform/analysis_and_reporting/ddmin_target_file.py#206\u001b\\\u001b[2m206\u001b[0m\u001b]8;;\u001b\\\n"
      ]
     },
     "metadata": {},
     "output_type": "display_data"
    },
    {
     "data": {
      "text/html": [
       "<pre style=\"white-space:pre;overflow-x:auto;line-height:normal;font-family:Menlo,'DejaVu Sans Mono',consolas,'Courier New',monospace\"><span style=\"color: #7fbfbf; text-decoration-color: #7fbfbf\">           </span>  - compare_qasm_via_qcec                                                       <a href=\"file:///home/paltenmo/projects/crossplatform/analysis_and_reporting/ddmin_target_file.py\" target=\"_blank\"><span style=\"color: #7f7f7f; text-decoration-color: #7f7f7f\">ddmin_target_file.py</span></a><span style=\"color: #7f7f7f; text-decoration-color: #7f7f7f\">:</span><a href=\"file:///home/paltenmo/projects/crossplatform/analysis_and_reporting/ddmin_target_file.py#208\" target=\"_blank\"><span style=\"color: #7f7f7f; text-decoration-color: #7f7f7f\">208</span></a>\n",
       "</pre>\n"
      ],
      "text/plain": [
       "\u001b[2;36m          \u001b[0m\u001b[2;36m \u001b[0m  - compare_qasm_via_qcec                                                       \u001b]8;id=717595;file:///home/paltenmo/projects/crossplatform/analysis_and_reporting/ddmin_target_file.py\u001b\\\u001b[2mddmin_target_file.py\u001b[0m\u001b]8;;\u001b\\\u001b[2m:\u001b[0m\u001b]8;id=399290;file:///home/paltenmo/projects/crossplatform/analysis_and_reporting/ddmin_target_file.py#208\u001b\\\u001b[2m208\u001b[0m\u001b]8;;\u001b\\\n"
      ]
     },
     "metadata": {},
     "output_type": "display_data"
    },
    {
     "data": {
      "text/html": [
       "<pre style=\"white-space:pre;overflow-x:auto;line-height:normal;font-family:Menlo,'DejaVu Sans Mono',consolas,'Courier New',monospace\"><span style=\"color: #7fbfbf; text-decoration-color: #7fbfbf\">           </span>  - export_to_qasm_with_pytket                                                  <a href=\"file:///home/paltenmo/projects/crossplatform/analysis_and_reporting/ddmin_target_file.py\" target=\"_blank\"><span style=\"color: #7f7f7f; text-decoration-color: #7f7f7f\">ddmin_target_file.py</span></a><span style=\"color: #7f7f7f; text-decoration-color: #7f7f7f\">:</span><a href=\"file:///home/paltenmo/projects/crossplatform/analysis_and_reporting/ddmin_target_file.py#208\" target=\"_blank\"><span style=\"color: #7f7f7f; text-decoration-color: #7f7f7f\">208</span></a>\n",
       "</pre>\n"
      ],
      "text/plain": [
       "\u001b[2;36m          \u001b[0m\u001b[2;36m \u001b[0m  - export_to_qasm_with_pytket                                                  \u001b]8;id=678334;file:///home/paltenmo/projects/crossplatform/analysis_and_reporting/ddmin_target_file.py\u001b\\\u001b[2mddmin_target_file.py\u001b[0m\u001b]8;;\u001b\\\u001b[2m:\u001b[0m\u001b]8;id=45157;file:///home/paltenmo/projects/crossplatform/analysis_and_reporting/ddmin_target_file.py#208\u001b\\\u001b[2m208\u001b[0m\u001b]8;;\u001b\\\n"
      ]
     },
     "metadata": {},
     "output_type": "display_data"
    },
    {
     "data": {
      "text/html": [
       "<pre style=\"white-space:pre;overflow-x:auto;line-height:normal;font-family:Menlo,'DejaVu Sans Mono',consolas,'Courier New',monospace\"><span style=\"color: #7fbfbf; text-decoration-color: #7fbfbf\">           </span>  - export_to_qasm_with_qiskit                                                  <a href=\"file:///home/paltenmo/projects/crossplatform/analysis_and_reporting/ddmin_target_file.py\" target=\"_blank\"><span style=\"color: #7f7f7f; text-decoration-color: #7f7f7f\">ddmin_target_file.py</span></a><span style=\"color: #7f7f7f; text-decoration-color: #7f7f7f\">:</span><a href=\"file:///home/paltenmo/projects/crossplatform/analysis_and_reporting/ddmin_target_file.py#208\" target=\"_blank\"><span style=\"color: #7f7f7f; text-decoration-color: #7f7f7f\">208</span></a>\n",
       "</pre>\n"
      ],
      "text/plain": [
       "\u001b[2;36m          \u001b[0m\u001b[2;36m \u001b[0m  - export_to_qasm_with_qiskit                                                  \u001b]8;id=569372;file:///home/paltenmo/projects/crossplatform/analysis_and_reporting/ddmin_target_file.py\u001b\\\u001b[2mddmin_target_file.py\u001b[0m\u001b]8;;\u001b\\\u001b[2m:\u001b[0m\u001b]8;id=102488;file:///home/paltenmo/projects/crossplatform/analysis_and_reporting/ddmin_target_file.py#208\u001b\\\u001b[2m208\u001b[0m\u001b]8;;\u001b\\\n"
      ]
     },
     "metadata": {},
     "output_type": "display_data"
    },
    {
     "name": "stdout",
     "output_type": "stream",
     "text": [
      "Error parsing: Command 'python /workspace/to_execute.py' in image 'qiskit_runner' returned non-zero exit status 1: b'Traceback (most recent call last):\\n  File \"/workspace/to_execute.py\", line 105, in <module>\\n    target_qc = qc\\nNameError: name \\'qc\\' is not defined\\n'\n",
      "Failed to execute to_execute.py in Docker.\n",
      "Output: Saved the Pytket circuit to /workspace/to_execute_qc_pytket.qasm\n",
      "Saved the Qiskit circuit to /workspace/to_execute_qc_qiskit.qasm\n",
      "Exported QASM files: [('/workspace/to_execute_qc_pytket.qasm', 'export_to_qasm_with_pytket'), ('/workspace/to_execute_qc_qiskit.qasm', 'export_to_qasm_with_qiskit')]\n",
      "The circuits are equivalent: /workspace/to_execute_qc_pytket.qasm, /workspace/to_execute_qc_qiskit.qasm\n",
      "\n",
      "Program to_execute.py executed successfully.\n",
      "Output: Saved the Pytket circuit to /workspace/to_execute_qc_pytket.qasm\n",
      "Saved the Qiskit circuit to /workspace/to_execute_qc_qiskit.qasm\n",
      "Exported QASM files: [('/workspace/to_execute_qc_pytket.qasm', 'export_to_qasm_with_pytket'), ('/workspace/to_execute_qc_qiskit.qasm', 'export_to_qasm_with_qiskit')]\n",
      "The circuits are equivalent: /workspace/to_execute_qc_pytket.qasm, /workspace/to_execute_qc_qiskit.qasm\n",
      "\n",
      "Program to_execute.py executed successfully.\n",
      "Error: We expected the exact buggy program to return False (namely the same error): True\n",
      "Skipping to the next error file\n",
      "\u001b[2;36m[14:30:28]\u001b[0m\u001b[2;36m \u001b[0mCreated report folder:                                  \u001b]8;id=532462;file:///home/paltenmo/projects/crossplatform/analysis_and_reporting/triage.py\u001b\\\u001b[2mtriage.py\u001b[0m\u001b]8;;\u001b\\\u001b[2m:\u001b[0m\u001b]8;id=464849;file:///home/paltenmo/projects/crossplatform/analysis_and_reporting/triage.py#131\u001b\\\u001b[2m131\u001b[0m\u001b]8;;\u001b\\\n",
      "\u001b[2;36m           \u001b[0m..\u001b[35m/reports/v008/\u001b[0m\u001b[95m2024_11_12__14_30\u001b[0m                       \u001b[2m             \u001b[0m\n",
      "\u001b[2;36m          \u001b[0m\u001b[2;36m \u001b[0mCopied files to: ..\u001b[35m/reports/v008/\u001b[0m\u001b[95m2024_11_12__14_30\u001b[0m      \u001b]8;id=574953;file:///home/paltenmo/projects/crossplatform/analysis_and_reporting/triage.py\u001b\\\u001b[2mtriage.py\u001b[0m\u001b]8;;\u001b\\\u001b[2m:\u001b[0m\u001b]8;id=728687;file:///home/paltenmo/projects/crossplatform/analysis_and_reporting/triage.py#140\u001b\\\u001b[2m140\u001b[0m\u001b]8;;\u001b\\\n"
     ]
    },
    {
     "data": {
      "text/html": [
       "<pre style=\"white-space:pre;overflow-x:auto;line-height:normal;font-family:Menlo,'DejaVu Sans Mono',consolas,'Courier New',monospace\"><span style=\"color: #7fbfbf; text-decoration-color: #7fbfbf\">[14:30:28] </span>Involved functions:                                                             <a href=\"file:///home/paltenmo/projects/crossplatform/analysis_and_reporting/ddmin_target_file.py\" target=\"_blank\"><span style=\"color: #7f7f7f; text-decoration-color: #7f7f7f\">ddmin_target_file.py</span></a><span style=\"color: #7f7f7f; text-decoration-color: #7f7f7f\">:</span><a href=\"file:///home/paltenmo/projects/crossplatform/analysis_and_reporting/ddmin_target_file.py#206\" target=\"_blank\"><span style=\"color: #7f7f7f; text-decoration-color: #7f7f7f\">206</span></a>\n",
       "</pre>\n"
      ],
      "text/plain": [
       "\u001b[2;36m[14:30:28]\u001b[0m\u001b[2;36m \u001b[0mInvolved functions:                                                             \u001b]8;id=527830;file:///home/paltenmo/projects/crossplatform/analysis_and_reporting/ddmin_target_file.py\u001b\\\u001b[2mddmin_target_file.py\u001b[0m\u001b]8;;\u001b\\\u001b[2m:\u001b[0m\u001b]8;id=933038;file:///home/paltenmo/projects/crossplatform/analysis_and_reporting/ddmin_target_file.py#206\u001b\\\u001b[2m206\u001b[0m\u001b]8;;\u001b\\\n"
      ]
     },
     "metadata": {},
     "output_type": "display_data"
    },
    {
     "data": {
      "text/html": [
       "<pre style=\"white-space:pre;overflow-x:auto;line-height:normal;font-family:Menlo,'DejaVu Sans Mono',consolas,'Courier New',monospace\"><span style=\"color: #7fbfbf; text-decoration-color: #7fbfbf\">           </span>  - compare_qasm_via_qcec                                                       <a href=\"file:///home/paltenmo/projects/crossplatform/analysis_and_reporting/ddmin_target_file.py\" target=\"_blank\"><span style=\"color: #7f7f7f; text-decoration-color: #7f7f7f\">ddmin_target_file.py</span></a><span style=\"color: #7f7f7f; text-decoration-color: #7f7f7f\">:</span><a href=\"file:///home/paltenmo/projects/crossplatform/analysis_and_reporting/ddmin_target_file.py#208\" target=\"_blank\"><span style=\"color: #7f7f7f; text-decoration-color: #7f7f7f\">208</span></a>\n",
       "</pre>\n"
      ],
      "text/plain": [
       "\u001b[2;36m          \u001b[0m\u001b[2;36m \u001b[0m  - compare_qasm_via_qcec                                                       \u001b]8;id=134940;file:///home/paltenmo/projects/crossplatform/analysis_and_reporting/ddmin_target_file.py\u001b\\\u001b[2mddmin_target_file.py\u001b[0m\u001b]8;;\u001b\\\u001b[2m:\u001b[0m\u001b]8;id=965438;file:///home/paltenmo/projects/crossplatform/analysis_and_reporting/ddmin_target_file.py#208\u001b\\\u001b[2m208\u001b[0m\u001b]8;;\u001b\\\n"
      ]
     },
     "metadata": {},
     "output_type": "display_data"
    },
    {
     "data": {
      "text/html": [
       "<pre style=\"white-space:pre;overflow-x:auto;line-height:normal;font-family:Menlo,'DejaVu Sans Mono',consolas,'Courier New',monospace\"><span style=\"color: #7fbfbf; text-decoration-color: #7fbfbf\">           </span>  - export_to_qasm_with_pytket                                                  <a href=\"file:///home/paltenmo/projects/crossplatform/analysis_and_reporting/ddmin_target_file.py\" target=\"_blank\"><span style=\"color: #7f7f7f; text-decoration-color: #7f7f7f\">ddmin_target_file.py</span></a><span style=\"color: #7f7f7f; text-decoration-color: #7f7f7f\">:</span><a href=\"file:///home/paltenmo/projects/crossplatform/analysis_and_reporting/ddmin_target_file.py#208\" target=\"_blank\"><span style=\"color: #7f7f7f; text-decoration-color: #7f7f7f\">208</span></a>\n",
       "</pre>\n"
      ],
      "text/plain": [
       "\u001b[2;36m          \u001b[0m\u001b[2;36m \u001b[0m  - export_to_qasm_with_pytket                                                  \u001b]8;id=216608;file:///home/paltenmo/projects/crossplatform/analysis_and_reporting/ddmin_target_file.py\u001b\\\u001b[2mddmin_target_file.py\u001b[0m\u001b]8;;\u001b\\\u001b[2m:\u001b[0m\u001b]8;id=765956;file:///home/paltenmo/projects/crossplatform/analysis_and_reporting/ddmin_target_file.py#208\u001b\\\u001b[2m208\u001b[0m\u001b]8;;\u001b\\\n"
      ]
     },
     "metadata": {},
     "output_type": "display_data"
    },
    {
     "data": {
      "text/html": [
       "<pre style=\"white-space:pre;overflow-x:auto;line-height:normal;font-family:Menlo,'DejaVu Sans Mono',consolas,'Courier New',monospace\"><span style=\"color: #7fbfbf; text-decoration-color: #7fbfbf\">           </span>  - export_to_qasm_with_qiskit                                                  <a href=\"file:///home/paltenmo/projects/crossplatform/analysis_and_reporting/ddmin_target_file.py\" target=\"_blank\"><span style=\"color: #7f7f7f; text-decoration-color: #7f7f7f\">ddmin_target_file.py</span></a><span style=\"color: #7f7f7f; text-decoration-color: #7f7f7f\">:</span><a href=\"file:///home/paltenmo/projects/crossplatform/analysis_and_reporting/ddmin_target_file.py#208\" target=\"_blank\"><span style=\"color: #7f7f7f; text-decoration-color: #7f7f7f\">208</span></a>\n",
       "</pre>\n"
      ],
      "text/plain": [
       "\u001b[2;36m          \u001b[0m\u001b[2;36m \u001b[0m  - export_to_qasm_with_qiskit                                                  \u001b]8;id=756348;file:///home/paltenmo/projects/crossplatform/analysis_and_reporting/ddmin_target_file.py\u001b\\\u001b[2mddmin_target_file.py\u001b[0m\u001b]8;;\u001b\\\u001b[2m:\u001b[0m\u001b]8;id=560188;file:///home/paltenmo/projects/crossplatform/analysis_and_reporting/ddmin_target_file.py#208\u001b\\\u001b[2m208\u001b[0m\u001b]8;;\u001b\\\n"
      ]
     },
     "metadata": {},
     "output_type": "display_data"
    },
    {
     "name": "stdout",
     "output_type": "stream",
     "text": [
      "Error parsing: Command 'python /workspace/to_execute.py' in image 'qiskit_runner' returned non-zero exit status 1: b'Traceback (most recent call last):\\n  File \"/workspace/to_execute.py\", line 105, in <module>\\n    target_qc = qc\\nNameError: name \\'qc\\' is not defined\\n'\n",
      "Failed to execute to_execute.py in Docker.\n",
      "Output: Saved the Pytket circuit to /workspace/to_execute_qc_pytket.qasm\n",
      "Saved the Qiskit circuit to /workspace/to_execute_qc_qiskit.qasm\n",
      "Exported QASM files: [('/workspace/to_execute_qc_pytket.qasm', 'export_to_qasm_with_pytket'), ('/workspace/to_execute_qc_qiskit.qasm', 'export_to_qasm_with_qiskit')]\n",
      "The circuits are equivalent: /workspace/to_execute_qc_pytket.qasm, /workspace/to_execute_qc_qiskit.qasm\n",
      "\n",
      "Program to_execute.py executed successfully.\n",
      "Output: Saved the Pytket circuit to /workspace/to_execute_qc_pytket.qasm\n",
      "Saved the Qiskit circuit to /workspace/to_execute_qc_qiskit.qasm\n",
      "Exported QASM files: [('/workspace/to_execute_qc_pytket.qasm', 'export_to_qasm_with_pytket'), ('/workspace/to_execute_qc_qiskit.qasm', 'export_to_qasm_with_qiskit')]\n",
      "The circuits are equivalent: /workspace/to_execute_qc_pytket.qasm, /workspace/to_execute_qc_qiskit.qasm\n",
      "\n",
      "Program to_execute.py executed successfully.\n",
      "Error: We expected the exact buggy program to return False (namely the same error): True\n",
      "Skipping to the next error file\n",
      "\u001b[2;36m[14:30:37]\u001b[0m\u001b[2;36m \u001b[0mCreated report folder:                                  \u001b]8;id=171542;file:///home/paltenmo/projects/crossplatform/analysis_and_reporting/triage.py\u001b\\\u001b[2mtriage.py\u001b[0m\u001b]8;;\u001b\\\u001b[2m:\u001b[0m\u001b]8;id=917393;file:///home/paltenmo/projects/crossplatform/analysis_and_reporting/triage.py#131\u001b\\\u001b[2m131\u001b[0m\u001b]8;;\u001b\\\n",
      "\u001b[2;36m           \u001b[0m..\u001b[35m/reports/v008/\u001b[0m\u001b[95m2024_11_12__14_30\u001b[0m                       \u001b[2m             \u001b[0m\n",
      "\u001b[2;36m          \u001b[0m\u001b[2;36m \u001b[0mCopied files to: ..\u001b[35m/reports/v008/\u001b[0m\u001b[95m2024_11_12__14_30\u001b[0m      \u001b]8;id=692693;file:///home/paltenmo/projects/crossplatform/analysis_and_reporting/triage.py\u001b\\\u001b[2mtriage.py\u001b[0m\u001b]8;;\u001b\\\u001b[2m:\u001b[0m\u001b]8;id=923676;file:///home/paltenmo/projects/crossplatform/analysis_and_reporting/triage.py#140\u001b\\\u001b[2m140\u001b[0m\u001b]8;;\u001b\\\n"
     ]
    },
    {
     "data": {
      "text/html": [
       "<pre style=\"white-space:pre;overflow-x:auto;line-height:normal;font-family:Menlo,'DejaVu Sans Mono',consolas,'Courier New',monospace\"><span style=\"color: #7fbfbf; text-decoration-color: #7fbfbf\">[14:30:37] </span>Involved functions:                                                             <a href=\"file:///home/paltenmo/projects/crossplatform/analysis_and_reporting/ddmin_target_file.py\" target=\"_blank\"><span style=\"color: #7f7f7f; text-decoration-color: #7f7f7f\">ddmin_target_file.py</span></a><span style=\"color: #7f7f7f; text-decoration-color: #7f7f7f\">:</span><a href=\"file:///home/paltenmo/projects/crossplatform/analysis_and_reporting/ddmin_target_file.py#206\" target=\"_blank\"><span style=\"color: #7f7f7f; text-decoration-color: #7f7f7f\">206</span></a>\n",
       "</pre>\n"
      ],
      "text/plain": [
       "\u001b[2;36m[14:30:37]\u001b[0m\u001b[2;36m \u001b[0mInvolved functions:                                                             \u001b]8;id=779209;file:///home/paltenmo/projects/crossplatform/analysis_and_reporting/ddmin_target_file.py\u001b\\\u001b[2mddmin_target_file.py\u001b[0m\u001b]8;;\u001b\\\u001b[2m:\u001b[0m\u001b]8;id=127047;file:///home/paltenmo/projects/crossplatform/analysis_and_reporting/ddmin_target_file.py#206\u001b\\\u001b[2m206\u001b[0m\u001b]8;;\u001b\\\n"
      ]
     },
     "metadata": {},
     "output_type": "display_data"
    },
    {
     "data": {
      "text/html": [
       "<pre style=\"white-space:pre;overflow-x:auto;line-height:normal;font-family:Menlo,'DejaVu Sans Mono',consolas,'Courier New',monospace\"><span style=\"color: #7fbfbf; text-decoration-color: #7fbfbf\">           </span>  - compare_qasm_via_qcec                                                       <a href=\"file:///home/paltenmo/projects/crossplatform/analysis_and_reporting/ddmin_target_file.py\" target=\"_blank\"><span style=\"color: #7f7f7f; text-decoration-color: #7f7f7f\">ddmin_target_file.py</span></a><span style=\"color: #7f7f7f; text-decoration-color: #7f7f7f\">:</span><a href=\"file:///home/paltenmo/projects/crossplatform/analysis_and_reporting/ddmin_target_file.py#208\" target=\"_blank\"><span style=\"color: #7f7f7f; text-decoration-color: #7f7f7f\">208</span></a>\n",
       "</pre>\n"
      ],
      "text/plain": [
       "\u001b[2;36m          \u001b[0m\u001b[2;36m \u001b[0m  - compare_qasm_via_qcec                                                       \u001b]8;id=787327;file:///home/paltenmo/projects/crossplatform/analysis_and_reporting/ddmin_target_file.py\u001b\\\u001b[2mddmin_target_file.py\u001b[0m\u001b]8;;\u001b\\\u001b[2m:\u001b[0m\u001b]8;id=21641;file:///home/paltenmo/projects/crossplatform/analysis_and_reporting/ddmin_target_file.py#208\u001b\\\u001b[2m208\u001b[0m\u001b]8;;\u001b\\\n"
      ]
     },
     "metadata": {},
     "output_type": "display_data"
    },
    {
     "data": {
      "text/html": [
       "<pre style=\"white-space:pre;overflow-x:auto;line-height:normal;font-family:Menlo,'DejaVu Sans Mono',consolas,'Courier New',monospace\"><span style=\"color: #7fbfbf; text-decoration-color: #7fbfbf\">           </span>  - export_to_qasm_with_pytket                                                  <a href=\"file:///home/paltenmo/projects/crossplatform/analysis_and_reporting/ddmin_target_file.py\" target=\"_blank\"><span style=\"color: #7f7f7f; text-decoration-color: #7f7f7f\">ddmin_target_file.py</span></a><span style=\"color: #7f7f7f; text-decoration-color: #7f7f7f\">:</span><a href=\"file:///home/paltenmo/projects/crossplatform/analysis_and_reporting/ddmin_target_file.py#208\" target=\"_blank\"><span style=\"color: #7f7f7f; text-decoration-color: #7f7f7f\">208</span></a>\n",
       "</pre>\n"
      ],
      "text/plain": [
       "\u001b[2;36m          \u001b[0m\u001b[2;36m \u001b[0m  - export_to_qasm_with_pytket                                                  \u001b]8;id=98622;file:///home/paltenmo/projects/crossplatform/analysis_and_reporting/ddmin_target_file.py\u001b\\\u001b[2mddmin_target_file.py\u001b[0m\u001b]8;;\u001b\\\u001b[2m:\u001b[0m\u001b]8;id=898023;file:///home/paltenmo/projects/crossplatform/analysis_and_reporting/ddmin_target_file.py#208\u001b\\\u001b[2m208\u001b[0m\u001b]8;;\u001b\\\n"
      ]
     },
     "metadata": {},
     "output_type": "display_data"
    },
    {
     "data": {
      "text/html": [
       "<pre style=\"white-space:pre;overflow-x:auto;line-height:normal;font-family:Menlo,'DejaVu Sans Mono',consolas,'Courier New',monospace\"><span style=\"color: #7fbfbf; text-decoration-color: #7fbfbf\">           </span>  - export_to_qasm_with_qiskit                                                  <a href=\"file:///home/paltenmo/projects/crossplatform/analysis_and_reporting/ddmin_target_file.py\" target=\"_blank\"><span style=\"color: #7f7f7f; text-decoration-color: #7f7f7f\">ddmin_target_file.py</span></a><span style=\"color: #7f7f7f; text-decoration-color: #7f7f7f\">:</span><a href=\"file:///home/paltenmo/projects/crossplatform/analysis_and_reporting/ddmin_target_file.py#208\" target=\"_blank\"><span style=\"color: #7f7f7f; text-decoration-color: #7f7f7f\">208</span></a>\n",
       "</pre>\n"
      ],
      "text/plain": [
       "\u001b[2;36m          \u001b[0m\u001b[2;36m \u001b[0m  - export_to_qasm_with_qiskit                                                  \u001b]8;id=511589;file:///home/paltenmo/projects/crossplatform/analysis_and_reporting/ddmin_target_file.py\u001b\\\u001b[2mddmin_target_file.py\u001b[0m\u001b]8;;\u001b\\\u001b[2m:\u001b[0m\u001b]8;id=782588;file:///home/paltenmo/projects/crossplatform/analysis_and_reporting/ddmin_target_file.py#208\u001b\\\u001b[2m208\u001b[0m\u001b]8;;\u001b\\\n"
      ]
     },
     "metadata": {},
     "output_type": "display_data"
    },
    {
     "name": "stdout",
     "output_type": "stream",
     "text": [
      "Error parsing: Command 'python /workspace/to_execute.py' in image 'qiskit_runner' returned non-zero exit status 1: b'Traceback (most recent call last):\\n  File \"/workspace/to_execute.py\", line 105, in <module>\\n    target_qc = qc\\nNameError: name \\'qc\\' is not defined\\n'\n",
      "Failed to execute to_execute.py in Docker.\n",
      "Output: Saved the Pytket circuit to /workspace/to_execute_qc_pytket.qasm\n",
      "Saved the Qiskit circuit to /workspace/to_execute_qc_qiskit.qasm\n",
      "Exported QASM files: [('/workspace/to_execute_qc_pytket.qasm', 'export_to_qasm_with_pytket'), ('/workspace/to_execute_qc_qiskit.qasm', 'export_to_qasm_with_qiskit')]\n",
      "The circuits are equivalent: /workspace/to_execute_qc_pytket.qasm, /workspace/to_execute_qc_qiskit.qasm\n",
      "\n",
      "Program to_execute.py executed successfully.\n",
      "Output: Saved the Pytket circuit to /workspace/to_execute_qc_pytket.qasm\n",
      "Saved the Qiskit circuit to /workspace/to_execute_qc_qiskit.qasm\n",
      "Exported QASM files: [('/workspace/to_execute_qc_pytket.qasm', 'export_to_qasm_with_pytket'), ('/workspace/to_execute_qc_qiskit.qasm', 'export_to_qasm_with_qiskit')]\n",
      "The circuits are equivalent: /workspace/to_execute_qc_pytket.qasm, /workspace/to_execute_qc_qiskit.qasm\n",
      "\n",
      "Program to_execute.py executed successfully.\n",
      "Error: We expected the exact buggy program to return False (namely the same error): True\n",
      "Skipping to the next error file\n"
     ]
    }
   ],
   "source": [
    "from analysis_and_reporting.triage import analyze_and_report\n",
    "\n",
    "error_paths_in_sample_folder = [\n",
    "    os.path.join(DIR_SAMPLE_ERRORS, f)\n",
    "    for f in os.listdir(DIR_SAMPLE_ERRORS)\n",
    "    if re.match(r'.*_error\\.json$', f)\n",
    "]\n",
    "\n",
    "n_error_files = len(error_paths_in_sample_folder)\n",
    "print(f\"Error paths in sample folder ({n_error_files}):\")\n",
    "for error_path in error_paths_in_sample_folder:\n",
    "    print(error_path)\n",
    "\n",
    "# python -m analysis_and_reporting.triage --path_error_json program_bank/v007/2024_10_31__17_51__qiskit/qiskit_circuit_5q_10g_9_160f04_cfe9f1_error.json --parent_report_folder reports/v008 --clue_message 'not equivalent'\n",
    "\n",
    "\n",
    "# def analyze_and_report(\n",
    "#         path_error_json: str, path_program: str, parent_report_folder: str,\n",
    "#         clue_message: str, analysis_notebook: str)\n",
    "\n",
    "for error_path in error_paths_in_sample_folder:\n",
    "    try:\n",
    "        analyze_and_report(\n",
    "            path_error_json=error_path,\n",
    "            path_program=get_corresponding_program_file(error_path),\n",
    "            parent_report_folder=os.path.join(\"..\", \"reports\", \"v008\"),\n",
    "            clue_message='not equivalent',\n",
    "            analysis_notebook='010_Triage_Not_Equivalence.ipynb'\n",
    "        )\n",
    "    except Exception as e:\n",
    "        print(f\"Error: {e}\")\n",
    "        print(\"Skipping to the next error file\")"
   ]
  },
  {
   "cell_type": "markdown",
   "metadata": {},
   "source": [
    "## Minimize All Files"
   ]
  },
  {
   "cell_type": "code",
   "execution_count": 11,
   "metadata": {},
   "outputs": [
    {
     "name": "stdout",
     "output_type": "stream",
     "text": [
      "Error paths in sample folder (10):\n",
      "../program_bank/v007/2024_10_31__17_51__sample_errors/qiskit_circuit_5q_10g_35328_d5b463_9d5e4d_error.json\n",
      "../program_bank/v007/2024_10_31__17_51__sample_errors/qiskit_circuit_5q_10g_40142_843f1f_c4b462_error.json\n",
      "../program_bank/v007/2024_10_31__17_51__sample_errors/qiskit_circuit_5q_10g_33594_363d0d_737d3d_error.json\n",
      "../program_bank/v007/2024_10_31__17_51__sample_errors/qiskit_circuit_5q_10g_24368_522f46_c267bd_error.json\n",
      "../program_bank/v007/2024_10_31__17_51__sample_errors/qiskit_circuit_5q_10g_62099_fd6240_ba6b02_error.json\n",
      "../program_bank/v007/2024_10_31__17_51__sample_errors/qiskit_circuit_5q_10g_16712_52499e_26f332_error.json\n",
      "../program_bank/v007/2024_10_31__17_51__sample_errors/qiskit_circuit_5q_10g_7831_c7cfba_51499c_error.json\n",
      "../program_bank/v007/2024_10_31__17_51__sample_errors/qiskit_circuit_5q_10g_64167_2a247b_08cf7c_error.json\n",
      "../program_bank/v007/2024_10_31__17_51__sample_errors/qiskit_circuit_5q_10g_30841_b17cde_e35c28_error.json\n",
      "../program_bank/v007/2024_10_31__17_51__sample_errors/qiskit_circuit_5q_10g_32186_467878_3b2333_error.json\n",
      "Running minimization for ../program_bank/v007/2024_10_31__17_51__sample_errors/qiskit_circuit_5q_10g_35328_d5b463_9d5e4d_error.json\n"
     ]
    },
    {
     "data": {
      "text/html": [
       "<pre style=\"white-space:pre;overflow-x:auto;line-height:normal;font-family:Menlo,'DejaVu Sans Mono',consolas,'Courier New',monospace\"><span style=\"color: #7fbfbf; text-decoration-color: #7fbfbf\">[15:26:15] </span>Involved functions:                                                             <a href=\"file:///home/paltenmo/projects/crossplatform/analysis_and_reporting/ddmin_target_file.py\" target=\"_blank\"><span style=\"color: #7f7f7f; text-decoration-color: #7f7f7f\">ddmin_target_file.py</span></a><span style=\"color: #7f7f7f; text-decoration-color: #7f7f7f\">:</span><a href=\"file:///home/paltenmo/projects/crossplatform/analysis_and_reporting/ddmin_target_file.py#206\" target=\"_blank\"><span style=\"color: #7f7f7f; text-decoration-color: #7f7f7f\">206</span></a>\n",
       "</pre>\n"
      ],
      "text/plain": [
       "\u001b[2;36m[15:26:15]\u001b[0m\u001b[2;36m \u001b[0mInvolved functions:                                                             \u001b]8;id=502748;file:///home/paltenmo/projects/crossplatform/analysis_and_reporting/ddmin_target_file.py\u001b\\\u001b[2mddmin_target_file.py\u001b[0m\u001b]8;;\u001b\\\u001b[2m:\u001b[0m\u001b]8;id=152212;file:///home/paltenmo/projects/crossplatform/analysis_and_reporting/ddmin_target_file.py#206\u001b\\\u001b[2m206\u001b[0m\u001b]8;;\u001b\\\n"
      ]
     },
     "metadata": {},
     "output_type": "display_data"
    },
    {
     "data": {
      "text/html": [
       "<pre style=\"white-space:pre;overflow-x:auto;line-height:normal;font-family:Menlo,'DejaVu Sans Mono',consolas,'Courier New',monospace\"><span style=\"color: #7fbfbf; text-decoration-color: #7fbfbf\">           </span>  - compare_qasm_via_qcec                                                       <a href=\"file:///home/paltenmo/projects/crossplatform/analysis_and_reporting/ddmin_target_file.py\" target=\"_blank\"><span style=\"color: #7f7f7f; text-decoration-color: #7f7f7f\">ddmin_target_file.py</span></a><span style=\"color: #7f7f7f; text-decoration-color: #7f7f7f\">:</span><a href=\"file:///home/paltenmo/projects/crossplatform/analysis_and_reporting/ddmin_target_file.py#208\" target=\"_blank\"><span style=\"color: #7f7f7f; text-decoration-color: #7f7f7f\">208</span></a>\n",
       "</pre>\n"
      ],
      "text/plain": [
       "\u001b[2;36m          \u001b[0m\u001b[2;36m \u001b[0m  - compare_qasm_via_qcec                                                       \u001b]8;id=617254;file:///home/paltenmo/projects/crossplatform/analysis_and_reporting/ddmin_target_file.py\u001b\\\u001b[2mddmin_target_file.py\u001b[0m\u001b]8;;\u001b\\\u001b[2m:\u001b[0m\u001b]8;id=869869;file:///home/paltenmo/projects/crossplatform/analysis_and_reporting/ddmin_target_file.py#208\u001b\\\u001b[2m208\u001b[0m\u001b]8;;\u001b\\\n"
      ]
     },
     "metadata": {},
     "output_type": "display_data"
    },
    {
     "data": {
      "text/html": [
       "<pre style=\"white-space:pre;overflow-x:auto;line-height:normal;font-family:Menlo,'DejaVu Sans Mono',consolas,'Courier New',monospace\"><span style=\"color: #7fbfbf; text-decoration-color: #7fbfbf\">           </span>  - export_to_qasm_with_bqskit                                                  <a href=\"file:///home/paltenmo/projects/crossplatform/analysis_and_reporting/ddmin_target_file.py\" target=\"_blank\"><span style=\"color: #7f7f7f; text-decoration-color: #7f7f7f\">ddmin_target_file.py</span></a><span style=\"color: #7f7f7f; text-decoration-color: #7f7f7f\">:</span><a href=\"file:///home/paltenmo/projects/crossplatform/analysis_and_reporting/ddmin_target_file.py#208\" target=\"_blank\"><span style=\"color: #7f7f7f; text-decoration-color: #7f7f7f\">208</span></a>\n",
       "</pre>\n"
      ],
      "text/plain": [
       "\u001b[2;36m          \u001b[0m\u001b[2;36m \u001b[0m  - export_to_qasm_with_bqskit                                                  \u001b]8;id=963044;file:///home/paltenmo/projects/crossplatform/analysis_and_reporting/ddmin_target_file.py\u001b\\\u001b[2mddmin_target_file.py\u001b[0m\u001b]8;;\u001b\\\u001b[2m:\u001b[0m\u001b]8;id=214076;file:///home/paltenmo/projects/crossplatform/analysis_and_reporting/ddmin_target_file.py#208\u001b\\\u001b[2m208\u001b[0m\u001b]8;;\u001b\\\n"
      ]
     },
     "metadata": {},
     "output_type": "display_data"
    },
    {
     "data": {
      "text/html": [
       "<pre style=\"white-space:pre;overflow-x:auto;line-height:normal;font-family:Menlo,'DejaVu Sans Mono',consolas,'Courier New',monospace\"><span style=\"color: #7fbfbf; text-decoration-color: #7fbfbf\">           </span>  - export_to_qasm_with_pytket                                                  <a href=\"file:///home/paltenmo/projects/crossplatform/analysis_and_reporting/ddmin_target_file.py\" target=\"_blank\"><span style=\"color: #7f7f7f; text-decoration-color: #7f7f7f\">ddmin_target_file.py</span></a><span style=\"color: #7f7f7f; text-decoration-color: #7f7f7f\">:</span><a href=\"file:///home/paltenmo/projects/crossplatform/analysis_and_reporting/ddmin_target_file.py#208\" target=\"_blank\"><span style=\"color: #7f7f7f; text-decoration-color: #7f7f7f\">208</span></a>\n",
       "</pre>\n"
      ],
      "text/plain": [
       "\u001b[2;36m          \u001b[0m\u001b[2;36m \u001b[0m  - export_to_qasm_with_pytket                                                  \u001b]8;id=629891;file:///home/paltenmo/projects/crossplatform/analysis_and_reporting/ddmin_target_file.py\u001b\\\u001b[2mddmin_target_file.py\u001b[0m\u001b]8;;\u001b\\\u001b[2m:\u001b[0m\u001b]8;id=477492;file:///home/paltenmo/projects/crossplatform/analysis_and_reporting/ddmin_target_file.py#208\u001b\\\u001b[2m208\u001b[0m\u001b]8;;\u001b\\\n"
      ]
     },
     "metadata": {},
     "output_type": "display_data"
    },
    {
     "name": "stdout",
     "output_type": "stream",
     "text": [
      "Error parsing: Command 'python /workspace/to_execute.py' in image 'qiskit_runner' returned non-zero exit status 1: b'Traceback (most recent call last):\\n  File \"/workspace/to_execute.py\", line 106, in <module>\\n    target_qc = qc\\nNameError: name \\'qc\\' is not defined\\n'\n",
      "Failed to execute to_execute.py in Docker.\n",
      "Output: Saved the BQSKit circuit to /workspace/to_execute_qc_bqskit.qasm\n",
      "Saved the Pytket circuit to /workspace/to_execute_qc_pytket.qasm\n",
      "Exported QASM files: [('/workspace/to_execute_qc_bqskit.qasm', 'export_to_qasm_with_bqskit'), ('/workspace/to_execute_qc_pytket.qasm', 'export_to_qasm_with_pytket')]\n",
      "Log has been saved to /workspace/to_execute_4e8e15_error.json\n",
      "\n",
      "Program to_execute.py executed successfully.\n",
      "New exception message: The circuits are not equivalent: /workspace/to_execute_qc_bqskit.qasm, /workspace/to_execute_qc_pytket.qasm\n",
      "Error parsing: Command 'python /workspace/to_execute.py' in image 'qiskit_runner' returned non-zero exit status 1: b'  File \"/workspace/to_execute.py\", line 19\\n    , custom_instructions=qasm2.LEGACY_CUSTOM_INSTRUCTIONS)\\n                                                          ^\\nSyntaxError: unmatched \\')\\'\\n'\n",
      "Failed to execute to_execute.py in Docker.\n",
      "Error parsing: Command 'python /workspace/to_execute.py' in image 'qiskit_runner' returned non-zero exit status 1: b'  File \"/workspace/to_execute.py\", line 10\\n    qc = qasm2.loads(\\n                    ^\\nSyntaxError: \\'(\\' was never closed\\n'\n",
      "Failed to execute to_execute.py in Docker.\n",
      "Error parsing: Command 'python /workspace/to_execute.py' in image 'qiskit_runner' returned non-zero exit status 1: b'  File \"/workspace/to_execute.py\", line 24\\n    , custom_instructions=qasm2.LEGACY_CUSTOM_INSTRUCTIONS)\\n                                                          ^\\nSyntaxError: unmatched \\')\\'\\n'\n",
      "Failed to execute to_execute.py in Docker.\n",
      "Error parsing: Command 'python /workspace/to_execute.py' in image 'qiskit_runner' returned non-zero exit status 1: b'Traceback (most recent call last):\\n  File \"/workspace/to_execute.py\", line 10, in <module>\\n    qc = qasm2.loads(\\n  File \"/usr/local/lib/python3.10/site-packages/qiskit/qasm2/__init__.py\", line 587, in loads\\n    return _parse.from_bytecode(\\n  File \"/usr/local/lib/python3.10/site-packages/qiskit/qasm2/parse.py\", line 214, in from_bytecode\\n    for op in bc:\\nqiskit.qasm2.exceptions.QASM2ParseError: \"<input>:5,11: \\'b\\' is not defined in this scope\"\\n'\n",
      "Failed to execute to_execute.py in Docker.\n",
      "Output: Saved the BQSKit circuit to /workspace/to_execute_qc_bqskit.qasm\n",
      "Saved the Pytket circuit to /workspace/to_execute_qc_pytket.qasm\n",
      "Exported QASM files: [('/workspace/to_execute_qc_bqskit.qasm', 'export_to_qasm_with_bqskit'), ('/workspace/to_execute_qc_pytket.qasm', 'export_to_qasm_with_pytket')]\n",
      "Log has been saved to /workspace/to_execute_b6c62a_error.json\n",
      "\n",
      "Program to_execute.py executed successfully.\n",
      "New exception message: The circuits are not equivalent: /workspace/to_execute_qc_bqskit.qasm, /workspace/to_execute_qc_pytket.qasm\n",
      "Error parsing: Command 'python /workspace/to_execute.py' in image 'qiskit_runner' returned non-zero exit status 1: b'  File \"/workspace/to_execute.py\", line 18\\n    , custom_instructions=qasm2.LEGACY_CUSTOM_INSTRUCTIONS)\\n                                                          ^\\nSyntaxError: unmatched \\')\\'\\n'\n",
      "Failed to execute to_execute.py in Docker.\n",
      "Error parsing: Command 'python /workspace/to_execute.py' in image 'qiskit_runner' returned non-zero exit status 1: b'Traceback (most recent call last):\\n  File \"/workspace/to_execute.py\", line 10, in <module>\\n    qc = qasm2.loads(\\n  File \"/usr/local/lib/python3.10/site-packages/qiskit/qasm2/__init__.py\", line 587, in loads\\n    return _parse.from_bytecode(\\n  File \"/usr/local/lib/python3.10/site-packages/qiskit/qasm2/parse.py\", line 214, in from_bytecode\\n    for op in bc:\\nqiskit.qasm2.exceptions.QASM2ParseError: \"<input>:4,3: \\'a\\' is not defined in this scope\"\\n'\n",
      "Failed to execute to_execute.py in Docker.\n",
      "Error parsing: Command 'python /workspace/to_execute.py' in image 'qiskit_runner' returned non-zero exit status 1: b'  File \"/workspace/to_execute.py\", line 10\\n    qc = qasm2.loads(\\n                    ^\\nSyntaxError: \\'(\\' was never closed\\n'\n",
      "Failed to execute to_execute.py in Docker.\n",
      "Error parsing: Command 'python /workspace/to_execute.py' in image 'qiskit_runner' returned non-zero exit status 1: b'  File \"/workspace/to_execute.py\", line 20\\n    , custom_instructions=qasm2.LEGACY_CUSTOM_INSTRUCTIONS)\\n                                                          ^\\nSyntaxError: unmatched \\')\\'\\n'\n",
      "Failed to execute to_execute.py in Docker.\n",
      "Error parsing: Command 'python /workspace/to_execute.py' in image 'qiskit_runner' returned non-zero exit status 1: b'Traceback (most recent call last):\\n  File \"/workspace/to_execute.py\", line 10, in <module>\\n    qc = qasm2.loads(\\n  File \"/usr/local/lib/python3.10/site-packages/qiskit/qasm2/__init__.py\", line 587, in loads\\n    return _parse.from_bytecode(\\n  File \"/usr/local/lib/python3.10/site-packages/qiskit/qasm2/parse.py\", line 214, in from_bytecode\\n    for op in bc:\\nqiskit.qasm2.exceptions.QASM2ParseError: \"<input>:6,0: cannot use non-builtin custom instruction \\'cx\\' before definition\"\\n'\n",
      "Failed to execute to_execute.py in Docker.\n",
      "Error parsing: Command 'python /workspace/to_execute.py' in image 'qiskit_runner' returned non-zero exit status 1: b'Traceback (most recent call last):\\n  File \"/workspace/to_execute.py\", line 10, in <module>\\n    qc = qasm2.loads(\\n  File \"/usr/local/lib/python3.10/site-packages/qiskit/qasm2/__init__.py\", line 587, in loads\\n    return _parse.from_bytecode(\\n  File \"/usr/local/lib/python3.10/site-packages/qiskit/qasm2/parse.py\", line 214, in from_bytecode\\n    for op in bc:\\nqiskit.qasm2.exceptions.QASM2ParseError: \"<input>:5,3: \\'a\\' is not defined in this scope\"\\n'\n",
      "Failed to execute to_execute.py in Docker.\n",
      "Output: Saved the BQSKit circuit to /workspace/to_execute_qc_bqskit.qasm\n",
      "Saved the Pytket circuit to /workspace/to_execute_qc_pytket.qasm\n",
      "Exported QASM files: [('/workspace/to_execute_qc_bqskit.qasm', 'export_to_qasm_with_bqskit'), ('/workspace/to_execute_qc_pytket.qasm', 'export_to_qasm_with_pytket')]\n",
      "Log has been saved to /workspace/to_execute_957b8c_error.json\n",
      "\n",
      "Program to_execute.py executed successfully.\n",
      "New exception message: The circuits are not equivalent: /workspace/to_execute_qc_bqskit.qasm, /workspace/to_execute_qc_pytket.qasm\n",
      "Error parsing: Command 'python /workspace/to_execute.py' in image 'qiskit_runner' returned non-zero exit status 1: b'  File \"/workspace/to_execute.py\", line 18\\n    , custom_instructions=qasm2.LEGACY_CUSTOM_INSTRUCTIONS)\\n                                                          ^\\nSyntaxError: unmatched \\')\\'\\n'\n",
      "Failed to execute to_execute.py in Docker.\n",
      "Error parsing: Command 'python /workspace/to_execute.py' in image 'qiskit_runner' returned non-zero exit status 1: b'Traceback (most recent call last):\\n  File \"/workspace/to_execute.py\", line 10, in <module>\\n    qc = qasm2.loads(\\n  File \"/usr/local/lib/python3.10/site-packages/qiskit/qasm2/__init__.py\", line 587, in loads\\n    return _parse.from_bytecode(\\n  File \"/usr/local/lib/python3.10/site-packages/qiskit/qasm2/parse.py\", line 214, in from_bytecode\\n    for op in bc:\\nqiskit.qasm2.exceptions.QASM2ParseError: \"<input>:4,0: cannot use non-builtin custom instruction \\'cx\\' before definition\"\\n'\n",
      "Failed to execute to_execute.py in Docker.\n",
      "Error parsing: Command 'python /workspace/to_execute.py' in image 'qiskit_runner' returned non-zero exit status 1: b'Traceback (most recent call last):\\n  File \"/workspace/to_execute.py\", line 10, in <module>\\n    qc = qasm2.loads(\\n  File \"/usr/local/lib/python3.10/site-packages/qiskit/qasm2/__init__.py\", line 587, in loads\\n    return _parse.from_bytecode(\\n  File \"/usr/local/lib/python3.10/site-packages/qiskit/qasm2/parse.py\", line 214, in from_bytecode\\n    for op in bc:\\nqiskit.qasm2.exceptions.QASM2ParseError: \"<input>:5,3: \\'a\\' is not defined in this scope\"\\n'\n",
      "Failed to execute to_execute.py in Docker.\n",
      "Output: Saved the BQSKit circuit to /workspace/to_execute_qc_bqskit.qasm\n",
      "Saved the Pytket circuit to /workspace/to_execute_qc_pytket.qasm\n",
      "Exported QASM files: [('/workspace/to_execute_qc_bqskit.qasm', 'export_to_qasm_with_bqskit'), ('/workspace/to_execute_qc_pytket.qasm', 'export_to_qasm_with_pytket')]\n",
      "The circuits are equivalent: /workspace/to_execute_qc_bqskit.qasm, /workspace/to_execute_qc_pytket.qasm\n",
      "\n",
      "Program to_execute.py executed successfully.\n",
      "Error parsing: Command 'python /workspace/to_execute.py' in image 'qiskit_runner' returned non-zero exit status 1: b'  File \"/workspace/to_execute.py\", line 10\\n    qc = qasm2.loads(\\n                    ^\\nSyntaxError: \\'(\\' was never closed\\n'\n",
      "Failed to execute to_execute.py in Docker.\n",
      "Error parsing: Command 'python /workspace/to_execute.py' in image 'qiskit_runner' returned non-zero exit status 1: b'  File \"/workspace/to_execute.py\", line 21\\n    , custom_instructions=qasm2.LEGACY_CUSTOM_INSTRUCTIONS)\\nIndentationError: unexpected indent\\n'\n",
      "Failed to execute to_execute.py in Docker.\n",
      "Output: Saved the BQSKit circuit to /workspace/to_execute_qc_bqskit.qasm\n",
      "Saved the Pytket circuit to /workspace/to_execute_qc_pytket.qasm\n",
      "Exported QASM files: [('/workspace/to_execute_qc_bqskit.qasm', 'export_to_qasm_with_bqskit'), ('/workspace/to_execute_qc_pytket.qasm', 'export_to_qasm_with_pytket')]\n",
      "Log has been saved to /workspace/to_execute_bdbc77_error.json\n",
      "\n",
      "Program to_execute.py executed successfully.\n",
      "New exception message: The circuits are not equivalent: /workspace/to_execute_qc_bqskit.qasm, /workspace/to_execute_qc_pytket.qasm\n",
      "Error parsing: Command 'python /workspace/to_execute.py' in image 'qiskit_runner' returned non-zero exit status 1: b'  File \"/workspace/to_execute.py\", line 20\\n    , custom_instructions=qasm2.LEGACY_CUSTOM_INSTRUCTIONS)\\nIndentationError: unexpected indent\\n'\n",
      "Failed to execute to_execute.py in Docker.\n",
      "Error parsing: Command 'python /workspace/to_execute.py' in image 'qiskit_runner' returned non-zero exit status 1: b'  File \"/workspace/to_execute.py\", line 11\\n    OPENQASM 2.0;\\n    ^^^^^^^^^^^^\\nSyntaxError: invalid syntax. Perhaps you forgot a comma?\\n'\n",
      "Failed to execute to_execute.py in Docker.\n",
      "Output: Saved the BQSKit circuit to /workspace/to_execute_qc_bqskit.qasm\n",
      "Saved the Pytket circuit to /workspace/to_execute_qc_pytket.qasm\n",
      "Exported QASM files: [('/workspace/to_execute_qc_bqskit.qasm', 'export_to_qasm_with_bqskit'), ('/workspace/to_execute_qc_pytket.qasm', 'export_to_qasm_with_pytket')]\n",
      "Log has been saved to /workspace/to_execute_dd8927_error.json\n",
      "\n",
      "Program to_execute.py executed successfully.\n",
      "New exception message: The circuits are not equivalent: /workspace/to_execute_qc_bqskit.qasm, /workspace/to_execute_qc_pytket.qasm\n",
      "Error parsing: Command 'python /workspace/to_execute.py' in image 'qiskit_runner' returned non-zero exit status 1: b'  File \"/workspace/to_execute.py\", line 19\\n    , custom_instructions=qasm2.LEGACY_CUSTOM_INSTRUCTIONS)\\nIndentationError: unexpected indent\\n'\n",
      "Failed to execute to_execute.py in Docker.\n",
      "Error parsing: Command 'python /workspace/to_execute.py' in image 'qiskit_runner' returned non-zero exit status 1: b'  File \"/workspace/to_execute.py\", line 11\\n    include \"qelib1.inc\";\\n            ^^^^^^^^^^^^\\nSyntaxError: invalid syntax\\n'\n",
      "Failed to execute to_execute.py in Docker.\n",
      "Error parsing: Command 'python /workspace/to_execute.py' in image 'qiskit_runner' returned non-zero exit status 1: b'Traceback (most recent call last):\\n  File \"/workspace/to_execute.py\", line 10, in <module>\\n    qc = qasm2.loads(\\n  File \"/usr/local/lib/python3.10/site-packages/qiskit/qasm2/__init__.py\", line 587, in loads\\n    return _parse.from_bytecode(\\n  File \"/usr/local/lib/python3.10/site-packages/qiskit/qasm2/parse.py\", line 214, in from_bytecode\\n    for op in bc:\\nqiskit.qasm2.exceptions.QASM2ParseError: \"<input>:4,0: cannot use non-builtin custom instruction \\'cx\\' before definition\"\\n'\n",
      "Failed to execute to_execute.py in Docker.\n",
      "Error parsing: Command 'python /workspace/to_execute.py' in image 'qiskit_runner' returned non-zero exit status 1: b'Traceback (most recent call last):\\n  File \"/workspace/to_execute.py\", line 10, in <module>\\n    qc = qasm2.loads(\\n  File \"/usr/local/lib/python3.10/site-packages/qiskit/qasm2/__init__.py\", line 587, in loads\\n    return _parse.from_bytecode(\\n  File \"/usr/local/lib/python3.10/site-packages/qiskit/qasm2/parse.py\", line 214, in from_bytecode\\n    for op in bc:\\nqiskit.qasm2.exceptions.QASM2ParseError: \"<input>:5,3: \\'a\\' is not defined in this scope\"\\n'\n",
      "Failed to execute to_execute.py in Docker.\n",
      "Error parsing: Command 'python /workspace/to_execute.py' in image 'qiskit_runner' returned non-zero exit status 1: b'Traceback (most recent call last):\\n  File \"/workspace/to_execute.py\", line 10, in <module>\\n    qc = qasm2.loads(\\n  File \"/usr/local/lib/python3.10/site-packages/qiskit/qasm2/__init__.py\", line 587, in loads\\n    return _parse.from_bytecode(\\n  File \"/usr/local/lib/python3.10/site-packages/qiskit/qasm2/parse.py\", line 214, in from_bytecode\\n    for op in bc:\\nqiskit.qasm2.exceptions.QASM2ParseError: \"<input>:5,8: \\'b\\' is not defined in this scope\"\\n'\n",
      "Failed to execute to_execute.py in Docker.\n",
      "Output: Saved the BQSKit circuit to /workspace/to_execute_qc_bqskit.qasm\n",
      "Saved the Pytket circuit to /workspace/to_execute_qc_pytket.qasm\n",
      "Exported QASM files: [('/workspace/to_execute_qc_bqskit.qasm', 'export_to_qasm_with_bqskit'), ('/workspace/to_execute_qc_pytket.qasm', 'export_to_qasm_with_pytket')]\n",
      "Log has been saved to /workspace/to_execute_8c8a23_error.json\n",
      "\n",
      "Program to_execute.py executed successfully.\n",
      "New exception message: The circuits are not equivalent: /workspace/to_execute_qc_bqskit.qasm, /workspace/to_execute_qc_pytket.qasm\n",
      "Error parsing: Command 'python /workspace/to_execute.py' in image 'qiskit_runner' returned non-zero exit status 1: b'  File \"/workspace/to_execute.py\", line 18\\n    , custom_instructions=qasm2.LEGACY_CUSTOM_INSTRUCTIONS)\\nIndentationError: unexpected indent\\n'\n",
      "Failed to execute to_execute.py in Docker.\n",
      "Error parsing: Command 'python /workspace/to_execute.py' in image 'qiskit_runner' returned non-zero exit status 1: b'  File \"/workspace/to_execute.py\", line 11\\n    qreg cin[1];\\n    ^^^^^^^^^^^\\nSyntaxError: invalid syntax. Perhaps you forgot a comma?\\n'\n",
      "Failed to execute to_execute.py in Docker.\n",
      "Error parsing: Command 'python /workspace/to_execute.py' in image 'qiskit_runner' returned non-zero exit status 1: b'Traceback (most recent call last):\\n  File \"/workspace/to_execute.py\", line 10, in <module>\\n    qc = qasm2.loads(\\n  File \"/usr/local/lib/python3.10/site-packages/qiskit/qasm2/__init__.py\", line 587, in loads\\n    return _parse.from_bytecode(\\n  File \"/usr/local/lib/python3.10/site-packages/qiskit/qasm2/parse.py\", line 214, in from_bytecode\\n    for op in bc:\\nqiskit.qasm2.exceptions.QASM2ParseError: \"<input>:5,8: \\'cin\\' is not defined in this scope\"\\n'\n",
      "Failed to execute to_execute.py in Docker.\n",
      "Error parsing: Command 'python /workspace/to_execute.py' in image 'qiskit_runner' returned non-zero exit status 1: b'Traceback (most recent call last):\\n  File \"/workspace/to_execute.py\", line 10, in <module>\\n    qc = qasm2.loads(\\n  File \"/usr/local/lib/python3.10/site-packages/qiskit/qasm2/__init__.py\", line 587, in loads\\n    return _parse.from_bytecode(\\n  File \"/usr/local/lib/python3.10/site-packages/qiskit/qasm2/parse.py\", line 214, in from_bytecode\\n    for op in bc:\\nqiskit.qasm2.exceptions.QASM2ParseError: \"<input>:4,3: \\'a\\' is not defined in this scope\"\\n'\n",
      "Failed to execute to_execute.py in Docker.\n",
      "Output: Saved the BQSKit circuit to /workspace/to_execute_qc_bqskit.qasm\n",
      "Saved the Pytket circuit to /workspace/to_execute_qc_pytket.qasm\n",
      "Exported QASM files: [('/workspace/to_execute_qc_bqskit.qasm', 'export_to_qasm_with_bqskit'), ('/workspace/to_execute_qc_pytket.qasm', 'export_to_qasm_with_pytket')]\n",
      "The circuits are equivalent: /workspace/to_execute_qc_bqskit.qasm, /workspace/to_execute_qc_pytket.qasm\n",
      "\n",
      "Program to_execute.py executed successfully.\n",
      "Error parsing: Command 'python /workspace/to_execute.py' in image 'qiskit_runner' returned non-zero exit status 1: b'  File \"/workspace/to_execute.py\", line 11\\n    include \"qelib1.inc\";\\n            ^^^^^^^^^^^^\\nSyntaxError: invalid syntax\\n'\n",
      "Failed to execute to_execute.py in Docker.\n",
      "Error parsing: Command 'python /workspace/to_execute.py' in image 'qiskit_runner' returned non-zero exit status 1: b'  File \"/workspace/to_execute.py\", line 10\\n    qc = qasm2.loads(\\n                    ^\\nSyntaxError: \\'(\\' was never closed\\n'\n",
      "Failed to execute to_execute.py in Docker.\n",
      "Error parsing: Command 'python /workspace/to_execute.py' in image 'qiskit_runner' returned non-zero exit status 1: b'  File \"/workspace/to_execute.py\", line 18\\n    , custom_instructions=qasm2.LEGACY_CUSTOM_INSTRUCTIONS)\\nIndentationError: unexpected indent\\n'\n",
      "Failed to execute to_execute.py in Docker.\n",
      "Error parsing: Command 'python /workspace/to_execute.py' in image 'qiskit_runner' returned non-zero exit status 1: b'  File \"/workspace/to_execute.py\", line 11\\n    include \"qelib1.inc\";\\n            ^^^^^^^^^^^^\\nSyntaxError: invalid syntax\\n'\n",
      "Failed to execute to_execute.py in Docker.\n",
      "Error parsing: Command 'python /workspace/to_execute.py' in image 'qiskit_runner' returned non-zero exit status 1: b'Traceback (most recent call last):\\n  File \"/workspace/to_execute.py\", line 10, in <module>\\n    qc = qasm2.loads(\\n  File \"/usr/local/lib/python3.10/site-packages/qiskit/qasm2/__init__.py\", line 587, in loads\\n    return _parse.from_bytecode(\\n  File \"/usr/local/lib/python3.10/site-packages/qiskit/qasm2/parse.py\", line 214, in from_bytecode\\n    for op in bc:\\nqiskit.qasm2.exceptions.QASM2ParseError: \"<input>:5,0: cannot use non-builtin custom instruction \\'cx\\' before definition\"\\n'\n",
      "Failed to execute to_execute.py in Docker.\n",
      "Error parsing: Command 'python /workspace/to_execute.py' in image 'qiskit_runner' returned non-zero exit status 1: b'Traceback (most recent call last):\\n  File \"/workspace/to_execute.py\", line 10, in <module>\\n    qc = qasm2.loads(\\n  File \"/usr/local/lib/python3.10/site-packages/qiskit/qasm2/__init__.py\", line 587, in loads\\n    return _parse.from_bytecode(\\n  File \"/usr/local/lib/python3.10/site-packages/qiskit/qasm2/parse.py\", line 214, in from_bytecode\\n    for op in bc:\\nqiskit.qasm2.exceptions.QASM2ParseError: \"<input>:5,8: \\'cin\\' is not defined in this scope\"\\n'\n",
      "Failed to execute to_execute.py in Docker.\n",
      "Error parsing: Command 'python /workspace/to_execute.py' in image 'qiskit_runner' returned non-zero exit status 1: b'Traceback (most recent call last):\\n  File \"/workspace/to_execute.py\", line 10, in <module>\\n    qc = qasm2.loads(\\n  File \"/usr/local/lib/python3.10/site-packages/qiskit/qasm2/__init__.py\", line 587, in loads\\n    return _parse.from_bytecode(\\n  File \"/usr/local/lib/python3.10/site-packages/qiskit/qasm2/parse.py\", line 214, in from_bytecode\\n    for op in bc:\\nqiskit.qasm2.exceptions.QASM2ParseError: \"<input>:5,3: \\'a\\' is not defined in this scope\"\\n'\n",
      "Failed to execute to_execute.py in Docker.\n",
      "Output: Saved the BQSKit circuit to /workspace/to_execute_qc_bqskit.qasm\n",
      "Saved the Pytket circuit to /workspace/to_execute_qc_pytket.qasm\n",
      "Exported QASM files: [('/workspace/to_execute_qc_bqskit.qasm', 'export_to_qasm_with_bqskit'), ('/workspace/to_execute_qc_pytket.qasm', 'export_to_qasm_with_pytket')]\n",
      "Log has been saved to /workspace/to_execute_b7bb61_error.json\n",
      "\n",
      "Program to_execute.py executed successfully.\n",
      "New exception message: The circuits are not equivalent: /workspace/to_execute_qc_bqskit.qasm, /workspace/to_execute_qc_pytket.qasm\n",
      "Error parsing: Command 'python /workspace/to_execute.py' in image 'qiskit_runner' returned non-zero exit status 1: b'  File \"/workspace/to_execute.py\", line 17\\n    , custom_instructions=qasm2.LEGACY_CUSTOM_INSTRUCTIONS)\\nIndentationError: unexpected indent\\n'\n",
      "Failed to execute to_execute.py in Docker.\n",
      "Error parsing: Command 'python /workspace/to_execute.py' in image 'qiskit_runner' returned non-zero exit status 1: b'  File \"/workspace/to_execute.py\", line 11\\n    include \"qelib1.inc\";\\n            ^^^^^^^^^^^^\\nSyntaxError: invalid syntax\\n'\n",
      "Failed to execute to_execute.py in Docker.\n",
      "Error parsing: Command 'python /workspace/to_execute.py' in image 'qiskit_runner' returned non-zero exit status 1: b'Traceback (most recent call last):\\n  File \"/workspace/to_execute.py\", line 10, in <module>\\n    qc = qasm2.loads(\\n  File \"/usr/local/lib/python3.10/site-packages/qiskit/qasm2/__init__.py\", line 587, in loads\\n    return _parse.from_bytecode(\\n  File \"/usr/local/lib/python3.10/site-packages/qiskit/qasm2/parse.py\", line 214, in from_bytecode\\n    for op in bc:\\nqiskit.qasm2.exceptions.QASM2ParseError: \"<input>:4,0: cannot use non-builtin custom instruction \\'cx\\' before definition\"\\n'\n",
      "Failed to execute to_execute.py in Docker.\n",
      "Error parsing: Command 'python /workspace/to_execute.py' in image 'qiskit_runner' returned non-zero exit status 1: b'Traceback (most recent call last):\\n  File \"/workspace/to_execute.py\", line 10, in <module>\\n    qc = qasm2.loads(\\n  File \"/usr/local/lib/python3.10/site-packages/qiskit/qasm2/__init__.py\", line 587, in loads\\n    return _parse.from_bytecode(\\n  File \"/usr/local/lib/python3.10/site-packages/qiskit/qasm2/parse.py\", line 214, in from_bytecode\\n    for op in bc:\\nqiskit.qasm2.exceptions.QASM2ParseError: \"<input>:4,8: \\'cin\\' is not defined in this scope\"\\n'\n",
      "Failed to execute to_execute.py in Docker.\n",
      "Error parsing: Command 'python /workspace/to_execute.py' in image 'qiskit_runner' returned non-zero exit status 1: b'Traceback (most recent call last):\\n  File \"/workspace/to_execute.py\", line 10, in <module>\\n    qc = qasm2.loads(\\n  File \"/usr/local/lib/python3.10/site-packages/qiskit/qasm2/__init__.py\", line 587, in loads\\n    return _parse.from_bytecode(\\n  File \"/usr/local/lib/python3.10/site-packages/qiskit/qasm2/parse.py\", line 214, in from_bytecode\\n    for op in bc:\\nqiskit.qasm2.exceptions.QASM2ParseError: \"<input>:4,3: \\'a\\' is not defined in this scope\"\\n'\n",
      "Failed to execute to_execute.py in Docker.\n",
      "Output: Saved the BQSKit circuit to /workspace/to_execute_qc_bqskit.qasm\n",
      "Saved the Pytket circuit to /workspace/to_execute_qc_pytket.qasm\n",
      "Exported QASM files: [('/workspace/to_execute_qc_bqskit.qasm', 'export_to_qasm_with_bqskit'), ('/workspace/to_execute_qc_pytket.qasm', 'export_to_qasm_with_pytket')]\n",
      "The circuits are equivalent: /workspace/to_execute_qc_bqskit.qasm, /workspace/to_execute_qc_pytket.qasm\n",
      "\n",
      "Program to_execute.py executed successfully.\n",
      "Output: Saved the BQSKit circuit to /workspace/to_execute_qc_bqskit.qasm\n",
      "Saved the Pytket circuit to /workspace/to_execute_qc_pytket.qasm\n",
      "Exported QASM files: [('/workspace/to_execute_qc_bqskit.qasm', 'export_to_qasm_with_bqskit'), ('/workspace/to_execute_qc_pytket.qasm', 'export_to_qasm_with_pytket')]\n",
      "Log has been saved to /workspace/to_execute_b679ad_error.json\n",
      "\n",
      "Program to_execute.py executed successfully.\n",
      "New exception message: The circuits are not equivalent: /workspace/to_execute_qc_bqskit.qasm, /workspace/to_execute_qc_pytket.qasm\n",
      "Error parsing: Command 'python /workspace/to_execute.py' in image 'qiskit_runner' returned non-zero exit status 1: b'  File \"/workspace/to_execute.py\", line 16\\n    , custom_instructions=qasm2.LEGACY_CUSTOM_INSTRUCTIONS)\\nIndentationError: unexpected indent\\n'\n",
      "Failed to execute to_execute.py in Docker.\n",
      "Error parsing: Command 'python /workspace/to_execute.py' in image 'qiskit_runner' returned non-zero exit status 1: b'  File \"/workspace/to_execute.py\", line 11\\n    include \"qelib1.inc\";\\n            ^^^^^^^^^^^^\\nSyntaxError: invalid syntax\\n'\n",
      "Failed to execute to_execute.py in Docker.\n",
      "Error parsing: Command 'python /workspace/to_execute.py' in image 'qiskit_runner' returned non-zero exit status 1: b'Traceback (most recent call last):\\n  File \"/workspace/to_execute.py\", line 10, in <module>\\n    qc = qasm2.loads(\\n  File \"/usr/local/lib/python3.10/site-packages/qiskit/qasm2/__init__.py\", line 587, in loads\\n    return _parse.from_bytecode(\\n  File \"/usr/local/lib/python3.10/site-packages/qiskit/qasm2/parse.py\", line 214, in from_bytecode\\n    for op in bc:\\nqiskit.qasm2.exceptions.QASM2ParseError: \"<input>:4,0: cannot use non-builtin custom instruction \\'cx\\' before definition\"\\n'\n",
      "Failed to execute to_execute.py in Docker.\n",
      "Error parsing: Command 'python /workspace/to_execute.py' in image 'qiskit_runner' returned non-zero exit status 1: b'Traceback (most recent call last):\\n  File \"/workspace/to_execute.py\", line 10, in <module>\\n    qc = qasm2.loads(\\n  File \"/usr/local/lib/python3.10/site-packages/qiskit/qasm2/__init__.py\", line 587, in loads\\n    return _parse.from_bytecode(\\n  File \"/usr/local/lib/python3.10/site-packages/qiskit/qasm2/parse.py\", line 214, in from_bytecode\\n    for op in bc:\\nqiskit.qasm2.exceptions.QASM2ParseError: \"<input>:4,8: \\'cin\\' is not defined in this scope\"\\n'\n",
      "Failed to execute to_execute.py in Docker.\n",
      "Error parsing: Command 'python /workspace/to_execute.py' in image 'qiskit_runner' returned non-zero exit status 1: b'Traceback (most recent call last):\\n  File \"/workspace/to_execute.py\", line 10, in <module>\\n    qc = qasm2.loads(\\n  File \"/usr/local/lib/python3.10/site-packages/qiskit/qasm2/__init__.py\", line 587, in loads\\n    return _parse.from_bytecode(\\n  File \"/usr/local/lib/python3.10/site-packages/qiskit/qasm2/parse.py\", line 214, in from_bytecode\\n    for op in bc:\\nqiskit.qasm2.exceptions.QASM2ParseError: \"<input>:4,3: \\'a\\' is not defined in this scope\"\\n'\n",
      "Failed to execute to_execute.py in Docker.\n",
      "Output: Saved the BQSKit circuit to /workspace/to_execute_qc_bqskit.qasm\n",
      "Saved the Pytket circuit to /workspace/to_execute_qc_pytket.qasm\n",
      "Exported QASM files: [('/workspace/to_execute_qc_bqskit.qasm', 'export_to_qasm_with_bqskit'), ('/workspace/to_execute_qc_pytket.qasm', 'export_to_qasm_with_pytket')]\n",
      "The circuits are equivalent: /workspace/to_execute_qc_bqskit.qasm, /workspace/to_execute_qc_pytket.qasm\n",
      "\n",
      "Program to_execute.py executed successfully.\n",
      "Error parsing: Command 'python /workspace/to_execute.py' in image 'qiskit_runner' returned non-zero exit status 1: b'  File \"/workspace/to_execute.py\", line 11\\n    include \"qelib1.inc\";\\n            ^^^^^^^^^^^^\\nSyntaxError: invalid syntax\\n'\n",
      "Failed to execute to_execute.py in Docker.\n",
      "Error parsing: Command 'python /workspace/to_execute.py' in image 'qiskit_runner' returned non-zero exit status 1: b'  File \"/workspace/to_execute.py\", line 10\\n    qc = qasm2.loads(\\n                    ^\\nSyntaxError: \\'(\\' was never closed\\n'\n",
      "Failed to execute to_execute.py in Docker.\n"
     ]
    },
    {
     "data": {
      "text/html": [
       "<pre style=\"white-space:pre;overflow-x:auto;line-height:normal;font-family:Menlo,'DejaVu Sans Mono',consolas,'Courier New',monospace\"><span style=\"color: #7fbfbf; text-decoration-color: #7fbfbf\">[15:27:59] </span><span style=\"color: #008000; text-decoration-color: #008000\">Minimized file saved as:</span>                                                        <a href=\"file:///home/paltenmo/projects/crossplatform/analysis_and_reporting/ddmin_target_file.py\" target=\"_blank\"><span style=\"color: #7f7f7f; text-decoration-color: #7f7f7f\">ddmin_target_file.py</span></a><span style=\"color: #7f7f7f; text-decoration-color: #7f7f7f\">:</span><a href=\"file:///home/paltenmo/projects/crossplatform/analysis_and_reporting/ddmin_target_file.py#240\" target=\"_blank\"><span style=\"color: #7f7f7f; text-decoration-color: #7f7f7f\">240</span></a>\n",
       "<span style=\"color: #7fbfbf; text-decoration-color: #7fbfbf\">           </span>..<span style=\"color: #800080; text-decoration-color: #800080\">/program_bank/v007/2024_10_31__17_51__qiskit/</span><span style=\"color: #ff00ff; text-decoration-color: #ff00ff\">qiskit_circuit_5q_10g_35328_d5b4</span> <span style=\"color: #7f7f7f; text-decoration-color: #7f7f7f\">                        </span>\n",
       "<span style=\"color: #7fbfbf; text-decoration-color: #7fbfbf\">           </span><span style=\"color: #ff00ff; text-decoration-color: #ff00ff\">63_9d5e4d_error_min.py</span>                                                          <span style=\"color: #7f7f7f; text-decoration-color: #7f7f7f\">                        </span>\n",
       "</pre>\n"
      ],
      "text/plain": [
       "\u001b[2;36m[15:27:59]\u001b[0m\u001b[2;36m \u001b[0m\u001b[32mMinimized file saved as:\u001b[0m                                                        \u001b]8;id=624195;file:///home/paltenmo/projects/crossplatform/analysis_and_reporting/ddmin_target_file.py\u001b\\\u001b[2mddmin_target_file.py\u001b[0m\u001b]8;;\u001b\\\u001b[2m:\u001b[0m\u001b]8;id=47889;file:///home/paltenmo/projects/crossplatform/analysis_and_reporting/ddmin_target_file.py#240\u001b\\\u001b[2m240\u001b[0m\u001b]8;;\u001b\\\n",
       "\u001b[2;36m           \u001b[0m..\u001b[35m/program_bank/v007/2024_10_31__17_51__qiskit/\u001b[0m\u001b[95mqiskit_circuit_5q_10g_35328_d5b4\u001b[0m \u001b[2m                        \u001b[0m\n",
       "\u001b[2;36m           \u001b[0m\u001b[95m63_9d5e4d_error_min.py\u001b[0m                                                          \u001b[2m                        \u001b[0m\n"
      ]
     },
     "metadata": {},
     "output_type": "display_data"
    },
    {
     "name": "stdout",
     "output_type": "stream",
     "text": [
      "Running minimization for ../program_bank/v007/2024_10_31__17_51__sample_errors/qiskit_circuit_5q_10g_40142_843f1f_c4b462_error.json\n"
     ]
    },
    {
     "data": {
      "text/html": [
       "<pre style=\"white-space:pre;overflow-x:auto;line-height:normal;font-family:Menlo,'DejaVu Sans Mono',consolas,'Courier New',monospace\"><span style=\"color: #7fbfbf; text-decoration-color: #7fbfbf\">           </span>Involved functions:                                                             <a href=\"file:///home/paltenmo/projects/crossplatform/analysis_and_reporting/ddmin_target_file.py\" target=\"_blank\"><span style=\"color: #7f7f7f; text-decoration-color: #7f7f7f\">ddmin_target_file.py</span></a><span style=\"color: #7f7f7f; text-decoration-color: #7f7f7f\">:</span><a href=\"file:///home/paltenmo/projects/crossplatform/analysis_and_reporting/ddmin_target_file.py#206\" target=\"_blank\"><span style=\"color: #7f7f7f; text-decoration-color: #7f7f7f\">206</span></a>\n",
       "</pre>\n"
      ],
      "text/plain": [
       "\u001b[2;36m          \u001b[0m\u001b[2;36m \u001b[0mInvolved functions:                                                             \u001b]8;id=778778;file:///home/paltenmo/projects/crossplatform/analysis_and_reporting/ddmin_target_file.py\u001b\\\u001b[2mddmin_target_file.py\u001b[0m\u001b]8;;\u001b\\\u001b[2m:\u001b[0m\u001b]8;id=792738;file:///home/paltenmo/projects/crossplatform/analysis_and_reporting/ddmin_target_file.py#206\u001b\\\u001b[2m206\u001b[0m\u001b]8;;\u001b\\\n"
      ]
     },
     "metadata": {},
     "output_type": "display_data"
    },
    {
     "data": {
      "text/html": [
       "<pre style=\"white-space:pre;overflow-x:auto;line-height:normal;font-family:Menlo,'DejaVu Sans Mono',consolas,'Courier New',monospace\"><span style=\"color: #7fbfbf; text-decoration-color: #7fbfbf\">           </span>  - compare_qasm_via_qcec                                                       <a href=\"file:///home/paltenmo/projects/crossplatform/analysis_and_reporting/ddmin_target_file.py\" target=\"_blank\"><span style=\"color: #7f7f7f; text-decoration-color: #7f7f7f\">ddmin_target_file.py</span></a><span style=\"color: #7f7f7f; text-decoration-color: #7f7f7f\">:</span><a href=\"file:///home/paltenmo/projects/crossplatform/analysis_and_reporting/ddmin_target_file.py#208\" target=\"_blank\"><span style=\"color: #7f7f7f; text-decoration-color: #7f7f7f\">208</span></a>\n",
       "</pre>\n"
      ],
      "text/plain": [
       "\u001b[2;36m          \u001b[0m\u001b[2;36m \u001b[0m  - compare_qasm_via_qcec                                                       \u001b]8;id=501888;file:///home/paltenmo/projects/crossplatform/analysis_and_reporting/ddmin_target_file.py\u001b\\\u001b[2mddmin_target_file.py\u001b[0m\u001b]8;;\u001b\\\u001b[2m:\u001b[0m\u001b]8;id=822998;file:///home/paltenmo/projects/crossplatform/analysis_and_reporting/ddmin_target_file.py#208\u001b\\\u001b[2m208\u001b[0m\u001b]8;;\u001b\\\n"
      ]
     },
     "metadata": {},
     "output_type": "display_data"
    },
    {
     "data": {
      "text/html": [
       "<pre style=\"white-space:pre;overflow-x:auto;line-height:normal;font-family:Menlo,'DejaVu Sans Mono',consolas,'Courier New',monospace\"><span style=\"color: #7fbfbf; text-decoration-color: #7fbfbf\">           </span>  - export_to_qasm_with_bqskit                                                  <a href=\"file:///home/paltenmo/projects/crossplatform/analysis_and_reporting/ddmin_target_file.py\" target=\"_blank\"><span style=\"color: #7f7f7f; text-decoration-color: #7f7f7f\">ddmin_target_file.py</span></a><span style=\"color: #7f7f7f; text-decoration-color: #7f7f7f\">:</span><a href=\"file:///home/paltenmo/projects/crossplatform/analysis_and_reporting/ddmin_target_file.py#208\" target=\"_blank\"><span style=\"color: #7f7f7f; text-decoration-color: #7f7f7f\">208</span></a>\n",
       "</pre>\n"
      ],
      "text/plain": [
       "\u001b[2;36m          \u001b[0m\u001b[2;36m \u001b[0m  - export_to_qasm_with_bqskit                                                  \u001b]8;id=93383;file:///home/paltenmo/projects/crossplatform/analysis_and_reporting/ddmin_target_file.py\u001b\\\u001b[2mddmin_target_file.py\u001b[0m\u001b]8;;\u001b\\\u001b[2m:\u001b[0m\u001b]8;id=455658;file:///home/paltenmo/projects/crossplatform/analysis_and_reporting/ddmin_target_file.py#208\u001b\\\u001b[2m208\u001b[0m\u001b]8;;\u001b\\\n"
      ]
     },
     "metadata": {},
     "output_type": "display_data"
    },
    {
     "data": {
      "text/html": [
       "<pre style=\"white-space:pre;overflow-x:auto;line-height:normal;font-family:Menlo,'DejaVu Sans Mono',consolas,'Courier New',monospace\"><span style=\"color: #7fbfbf; text-decoration-color: #7fbfbf\">           </span>  - export_to_qasm_with_pennylane                                               <a href=\"file:///home/paltenmo/projects/crossplatform/analysis_and_reporting/ddmin_target_file.py\" target=\"_blank\"><span style=\"color: #7f7f7f; text-decoration-color: #7f7f7f\">ddmin_target_file.py</span></a><span style=\"color: #7f7f7f; text-decoration-color: #7f7f7f\">:</span><a href=\"file:///home/paltenmo/projects/crossplatform/analysis_and_reporting/ddmin_target_file.py#208\" target=\"_blank\"><span style=\"color: #7f7f7f; text-decoration-color: #7f7f7f\">208</span></a>\n",
       "</pre>\n"
      ],
      "text/plain": [
       "\u001b[2;36m          \u001b[0m\u001b[2;36m \u001b[0m  - export_to_qasm_with_pennylane                                               \u001b]8;id=453671;file:///home/paltenmo/projects/crossplatform/analysis_and_reporting/ddmin_target_file.py\u001b\\\u001b[2mddmin_target_file.py\u001b[0m\u001b]8;;\u001b\\\u001b[2m:\u001b[0m\u001b]8;id=563045;file:///home/paltenmo/projects/crossplatform/analysis_and_reporting/ddmin_target_file.py#208\u001b\\\u001b[2m208\u001b[0m\u001b]8;;\u001b\\\n"
      ]
     },
     "metadata": {},
     "output_type": "display_data"
    },
    {
     "name": "stdout",
     "output_type": "stream",
     "text": [
      "Error parsing: Command 'python /workspace/to_execute.py' in image 'qiskit_runner' returned non-zero exit status 1: b'Traceback (most recent call last):\\n  File \"/workspace/to_execute.py\", line 119, in <module>\\n    target_qc = qc\\nNameError: name \\'qc\\' is not defined\\n'\n",
      "Failed to execute to_execute.py in Docker.\n",
      "Output: Saved the BQSKit circuit to /workspace/to_execute_qc_bqskit.qasm\n",
      "Saved the PennyLane circuit to /workspace/to_execute_qc_pennylane.qasm\n",
      "Exported QASM files: [('/workspace/to_execute_qc_bqskit.qasm', 'export_to_qasm_with_bqskit'), ('/workspace/to_execute_qc_pennylane.qasm', 'export_to_qasm_with_pennylane')]\n",
      "Log has been saved to /workspace/to_execute_887fea_error.json\n",
      "\n",
      "Program to_execute.py executed successfully.\n",
      "New exception message: The circuits are not equivalent: /workspace/to_execute_qc_bqskit.qasm, /workspace/to_execute_qc_pennylane.qasm\n",
      "Error parsing: Command 'python /workspace/to_execute.py' in image 'qiskit_runner' returned non-zero exit status 1: b'  File \"/workspace/to_execute.py\", line 16\\n    , custom_instructions=qasm2.LEGACY_CUSTOM_INSTRUCTIONS)\\n                                                          ^\\nSyntaxError: unmatched \\')\\'\\n'\n",
      "Failed to execute to_execute.py in Docker.\n",
      "Error parsing: Command 'python /workspace/to_execute.py' in image 'qiskit_runner' returned non-zero exit status 1: b'  File \"/workspace/to_execute.py\", line 10\\n    qc = qasm2.loads(\\n                    ^\\nSyntaxError: \\'(\\' was never closed\\n'\n",
      "Failed to execute to_execute.py in Docker.\n",
      "Error parsing: Command 'python /workspace/to_execute.py' in image 'qiskit_runner' returned non-zero exit status 1: b'  File \"/workspace/to_execute.py\", line 21\\n    , custom_instructions=qasm2.LEGACY_CUSTOM_INSTRUCTIONS)\\n                                                          ^\\nSyntaxError: unmatched \\')\\'\\n'\n",
      "Failed to execute to_execute.py in Docker.\n",
      "Error parsing: Command 'python /workspace/to_execute.py' in image 'qiskit_runner' returned non-zero exit status 1: b'Traceback (most recent call last):\\n  File \"/workspace/to_execute.py\", line 10, in <module>\\n    qc = qasm2.loads(\\n  File \"/usr/local/lib/python3.10/site-packages/qiskit/qasm2/__init__.py\", line 587, in loads\\n    return _parse.from_bytecode(\\n  File \"/usr/local/lib/python3.10/site-packages/qiskit/qasm2/parse.py\", line 214, in from_bytecode\\n    for op in bc:\\nqiskit.qasm2.exceptions.QASM2ParseError: \"<input>:3,0: cannot use non-builtin custom instruction \\'h\\' before definition\"\\n'\n",
      "Failed to execute to_execute.py in Docker.\n",
      "Output: Saved the BQSKit circuit to /workspace/to_execute_qc_bqskit.qasm\n",
      "Saved the PennyLane circuit to /workspace/to_execute_qc_pennylane.qasm\n",
      "Exported QASM files: [('/workspace/to_execute_qc_bqskit.qasm', 'export_to_qasm_with_bqskit'), ('/workspace/to_execute_qc_pennylane.qasm', 'export_to_qasm_with_pennylane')]\n",
      "Log has been saved to /workspace/to_execute_8baece_error.json\n",
      "\n",
      "Program to_execute.py executed successfully.\n",
      "New exception message: The circuits are not equivalent: /workspace/to_execute_qc_bqskit.qasm, /workspace/to_execute_qc_pennylane.qasm\n",
      "Error parsing: Command 'python /workspace/to_execute.py' in image 'qiskit_runner' returned non-zero exit status 1: b'  File \"/workspace/to_execute.py\", line 16\\n    , custom_instructions=qasm2.LEGACY_CUSTOM_INSTRUCTIONS)\\n                                                          ^\\nSyntaxError: unmatched \\')\\'\\n'\n",
      "Failed to execute to_execute.py in Docker.\n",
      "Error parsing: Command 'python /workspace/to_execute.py' in image 'qiskit_runner' returned non-zero exit status 1: b'Traceback (most recent call last):\\n  File \"/workspace/to_execute.py\", line 10, in <module>\\n    qc = qasm2.loads(\\n  File \"/usr/local/lib/python3.10/site-packages/qiskit/qasm2/__init__.py\", line 587, in loads\\n    return _parse.from_bytecode(\\n  File \"/usr/local/lib/python3.10/site-packages/qiskit/qasm2/parse.py\", line 214, in from_bytecode\\n    for op in bc:\\nqiskit.qasm2.exceptions.QASM2ParseError: \"<input>:3,8: \\'q\\' is not defined in this scope\"\\n'\n",
      "Failed to execute to_execute.py in Docker.\n",
      "Error parsing: Command 'python /workspace/to_execute.py' in image 'qiskit_runner' returned non-zero exit status 1: b'  File \"/workspace/to_execute.py\", line 10\\n    qc = qasm2.loads(\\n                    ^\\nSyntaxError: \\'(\\' was never closed\\n'\n",
      "Failed to execute to_execute.py in Docker.\n",
      "Error parsing: Command 'python /workspace/to_execute.py' in image 'qiskit_runner' returned non-zero exit status 1: b'  File \"/workspace/to_execute.py\", line 19\\n    , custom_instructions=qasm2.LEGACY_CUSTOM_INSTRUCTIONS)\\nIndentationError: unexpected indent\\n'\n",
      "Failed to execute to_execute.py in Docker.\n",
      "Error parsing: Command 'python /workspace/to_execute.py' in image 'qiskit_runner' returned non-zero exit status 1: b'  File \"/workspace/to_execute.py\", line 12\\n    include \"qelib1.inc\";\\n            ^^^^^^^^^^^^\\nSyntaxError: invalid syntax\\n'\n",
      "Failed to execute to_execute.py in Docker.\n",
      "Error parsing: Command 'python /workspace/to_execute.py' in image 'qiskit_runner' returned non-zero exit status 1: b'Traceback (most recent call last):\\n  File \"/workspace/to_execute.py\", line 10, in <module>\\n    qc = qasm2.loads(\\n  File \"/usr/local/lib/python3.10/site-packages/qiskit/qasm2/__init__.py\", line 587, in loads\\n    return _parse.from_bytecode(\\n  File \"/usr/local/lib/python3.10/site-packages/qiskit/qasm2/parse.py\", line 214, in from_bytecode\\n    for op in bc:\\nqiskit.qasm2.exceptions.QASM2ParseError: \"<input>:4,0: cannot use non-builtin custom instruction \\'cx\\' before definition\"\\n'\n",
      "Failed to execute to_execute.py in Docker.\n",
      "Error parsing: Command 'python /workspace/to_execute.py' in image 'qiskit_runner' returned non-zero exit status 1: b'Traceback (most recent call last):\\n  File \"/workspace/to_execute.py\", line 10, in <module>\\n    qc = qasm2.loads(\\n  File \"/usr/local/lib/python3.10/site-packages/qiskit/qasm2/__init__.py\", line 587, in loads\\n    return _parse.from_bytecode(\\n  File \"/usr/local/lib/python3.10/site-packages/qiskit/qasm2/parse.py\", line 214, in from_bytecode\\n    for op in bc:\\nqiskit.qasm2.exceptions.QASM2ParseError: \"<input>:5,16: \\'c\\' is not defined in this scope\"\\n'\n",
      "Failed to execute to_execute.py in Docker.\n",
      "Output: Saved the BQSKit circuit to /workspace/to_execute_qc_bqskit.qasm\n",
      "Saved the PennyLane circuit to /workspace/to_execute_qc_pennylane.qasm\n",
      "Exported QASM files: [('/workspace/to_execute_qc_bqskit.qasm', 'export_to_qasm_with_bqskit'), ('/workspace/to_execute_qc_pennylane.qasm', 'export_to_qasm_with_pennylane')]\n",
      "The circuits are equivalent: /workspace/to_execute_qc_bqskit.qasm, /workspace/to_execute_qc_pennylane.qasm\n",
      "\n",
      "Program to_execute.py executed successfully.\n",
      "Error parsing: Command 'python /workspace/to_execute.py' in image 'qiskit_runner' returned non-zero exit status 1: b'  File \"/workspace/to_execute.py\", line 10\\n    qc = qasm2.loads(\\n                    ^\\nSyntaxError: \\'(\\' was never closed\\n'\n",
      "Failed to execute to_execute.py in Docker.\n",
      "Error parsing: Command 'python /workspace/to_execute.py' in image 'qiskit_runner' returned non-zero exit status 1: b'  File \"/workspace/to_execute.py\", line 20\\n    , custom_instructions=qasm2.LEGACY_CUSTOM_INSTRUCTIONS)\\nIndentationError: unexpected indent\\n'\n",
      "Failed to execute to_execute.py in Docker.\n",
      "Output: Saved the BQSKit circuit to /workspace/to_execute_qc_bqskit.qasm\n",
      "Saved the PennyLane circuit to /workspace/to_execute_qc_pennylane.qasm\n",
      "Exported QASM files: [('/workspace/to_execute_qc_bqskit.qasm', 'export_to_qasm_with_bqskit'), ('/workspace/to_execute_qc_pennylane.qasm', 'export_to_qasm_with_pennylane')]\n",
      "Log has been saved to /workspace/to_execute_45ee40_error.json\n",
      "\n",
      "Program to_execute.py executed successfully.\n",
      "New exception message: The circuits are not equivalent: /workspace/to_execute_qc_bqskit.qasm, /workspace/to_execute_qc_pennylane.qasm\n",
      "Error parsing: Command 'python /workspace/to_execute.py' in image 'qiskit_runner' returned non-zero exit status 1: b'  File \"/workspace/to_execute.py\", line 19\\n    , custom_instructions=qasm2.LEGACY_CUSTOM_INSTRUCTIONS)\\nIndentationError: unexpected indent\\n'\n",
      "Failed to execute to_execute.py in Docker.\n",
      "Error parsing: Command 'python /workspace/to_execute.py' in image 'qiskit_runner' returned non-zero exit status 1: b'  File \"/workspace/to_execute.py\", line 11\\n    OPENQASM 2.0;\\n    ^^^^^^^^^^^^\\nSyntaxError: invalid syntax. Perhaps you forgot a comma?\\n'\n",
      "Failed to execute to_execute.py in Docker.\n",
      "Output: Saved the BQSKit circuit to /workspace/to_execute_qc_bqskit.qasm\n",
      "Saved the PennyLane circuit to /workspace/to_execute_qc_pennylane.qasm\n",
      "Exported QASM files: [('/workspace/to_execute_qc_bqskit.qasm', 'export_to_qasm_with_bqskit'), ('/workspace/to_execute_qc_pennylane.qasm', 'export_to_qasm_with_pennylane')]\n",
      "Log has been saved to /workspace/to_execute_5e8a4d_error.json\n",
      "\n",
      "Program to_execute.py executed successfully.\n",
      "New exception message: The circuits are not equivalent: /workspace/to_execute_qc_bqskit.qasm, /workspace/to_execute_qc_pennylane.qasm\n",
      "Error parsing: Command 'python /workspace/to_execute.py' in image 'qiskit_runner' returned non-zero exit status 1: b'  File \"/workspace/to_execute.py\", line 18\\n    , custom_instructions=qasm2.LEGACY_CUSTOM_INSTRUCTIONS)\\nIndentationError: unexpected indent\\n'\n",
      "Failed to execute to_execute.py in Docker.\n",
      "Error parsing: Command 'python /workspace/to_execute.py' in image 'qiskit_runner' returned non-zero exit status 1: b'  File \"/workspace/to_execute.py\", line 11\\n    include \"qelib1.inc\";\\n            ^^^^^^^^^^^^\\nSyntaxError: invalid syntax\\n'\n",
      "Failed to execute to_execute.py in Docker.\n",
      "Error parsing: Command 'python /workspace/to_execute.py' in image 'qiskit_runner' returned non-zero exit status 1: b'Traceback (most recent call last):\\n  File \"/workspace/to_execute.py\", line 10, in <module>\\n    qc = qasm2.loads(\\n  File \"/usr/local/lib/python3.10/site-packages/qiskit/qasm2/__init__.py\", line 587, in loads\\n    return _parse.from_bytecode(\\n  File \"/usr/local/lib/python3.10/site-packages/qiskit/qasm2/parse.py\", line 214, in from_bytecode\\n    for op in bc:\\nqiskit.qasm2.exceptions.QASM2ParseError: \"<input>:4,0: cannot use non-builtin custom instruction \\'cx\\' before definition\"\\n'\n",
      "Failed to execute to_execute.py in Docker.\n",
      "Error parsing: Command 'python /workspace/to_execute.py' in image 'qiskit_runner' returned non-zero exit status 1: b'Traceback (most recent call last):\\n  File \"/workspace/to_execute.py\", line 10, in <module>\\n    qc = qasm2.loads(\\n  File \"/usr/local/lib/python3.10/site-packages/qiskit/qasm2/__init__.py\", line 587, in loads\\n    return _parse.from_bytecode(\\n  File \"/usr/local/lib/python3.10/site-packages/qiskit/qasm2/parse.py\", line 214, in from_bytecode\\n    for op in bc:\\nqiskit.qasm2.exceptions.QASM2ParseError: \"<input>:4,3: \\'q\\' is not defined in this scope\"\\n'\n",
      "Failed to execute to_execute.py in Docker.\n",
      "Error parsing: Command 'python /workspace/to_execute.py' in image 'qiskit_runner' returned non-zero exit status 1: b'Traceback (most recent call last):\\n  File \"/workspace/to_execute.py\", line 10, in <module>\\n    qc = qasm2.loads(\\n  File \"/usr/local/lib/python3.10/site-packages/qiskit/qasm2/__init__.py\", line 587, in loads\\n    return _parse.from_bytecode(\\n  File \"/usr/local/lib/python3.10/site-packages/qiskit/qasm2/parse.py\", line 214, in from_bytecode\\n    for op in bc:\\nqiskit.qasm2.exceptions.QASM2ParseError: \"<input>:5,16: \\'c\\' is not defined in this scope\"\\n'\n",
      "Failed to execute to_execute.py in Docker.\n",
      "Output: Saved the BQSKit circuit to /workspace/to_execute_qc_bqskit.qasm\n",
      "Saved the PennyLane circuit to /workspace/to_execute_qc_pennylane.qasm\n",
      "Exported QASM files: [('/workspace/to_execute_qc_bqskit.qasm', 'export_to_qasm_with_bqskit'), ('/workspace/to_execute_qc_pennylane.qasm', 'export_to_qasm_with_pennylane')]\n",
      "The circuits are equivalent: /workspace/to_execute_qc_bqskit.qasm, /workspace/to_execute_qc_pennylane.qasm\n",
      "\n",
      "Program to_execute.py executed successfully.\n",
      "Output: Saved the BQSKit circuit to /workspace/to_execute_qc_bqskit.qasm\n",
      "Saved the PennyLane circuit to /workspace/to_execute_qc_pennylane.qasm\n",
      "Exported QASM files: [('/workspace/to_execute_qc_bqskit.qasm', 'export_to_qasm_with_bqskit'), ('/workspace/to_execute_qc_pennylane.qasm', 'export_to_qasm_with_pennylane')]\n",
      "The circuits are equivalent: /workspace/to_execute_qc_bqskit.qasm, /workspace/to_execute_qc_pennylane.qasm\n",
      "\n",
      "Program to_execute.py executed successfully.\n",
      "Output: Saved the BQSKit circuit to /workspace/to_execute_qc_bqskit.qasm\n",
      "Saved the PennyLane circuit to /workspace/to_execute_qc_pennylane.qasm\n",
      "Exported QASM files: [('/workspace/to_execute_qc_bqskit.qasm', 'export_to_qasm_with_bqskit'), ('/workspace/to_execute_qc_pennylane.qasm', 'export_to_qasm_with_pennylane')]\n",
      "Log has been saved to /workspace/to_execute_91f4f3_error.json\n",
      "\n",
      "Program to_execute.py executed successfully.\n",
      "New exception message: The circuits are not equivalent: /workspace/to_execute_qc_bqskit.qasm, /workspace/to_execute_qc_pennylane.qasm\n",
      "Error parsing: Command 'python /workspace/to_execute.py' in image 'qiskit_runner' returned non-zero exit status 1: b'  File \"/workspace/to_execute.py\", line 17\\n    , custom_instructions=qasm2.LEGACY_CUSTOM_INSTRUCTIONS)\\nIndentationError: unexpected indent\\n'\n",
      "Failed to execute to_execute.py in Docker.\n",
      "Error parsing: Command 'python /workspace/to_execute.py' in image 'qiskit_runner' returned non-zero exit status 1: b'  File \"/workspace/to_execute.py\", line 11\\n    include \"qelib1.inc\";\\n            ^^^^^^^^^^^^\\nSyntaxError: invalid syntax\\n'\n",
      "Failed to execute to_execute.py in Docker.\n",
      "Error parsing: Command 'python /workspace/to_execute.py' in image 'qiskit_runner' returned non-zero exit status 1: b'Traceback (most recent call last):\\n  File \"/workspace/to_execute.py\", line 10, in <module>\\n    qc = qasm2.loads(\\n  File \"/usr/local/lib/python3.10/site-packages/qiskit/qasm2/__init__.py\", line 587, in loads\\n    return _parse.from_bytecode(\\n  File \"/usr/local/lib/python3.10/site-packages/qiskit/qasm2/parse.py\", line 214, in from_bytecode\\n    for op in bc:\\nqiskit.qasm2.exceptions.QASM2ParseError: \"<input>:4,0: cannot use non-builtin custom instruction \\'cx\\' before definition\"\\n'\n",
      "Failed to execute to_execute.py in Docker.\n",
      "Error parsing: Command 'python /workspace/to_execute.py' in image 'qiskit_runner' returned non-zero exit status 1: b'Traceback (most recent call last):\\n  File \"/workspace/to_execute.py\", line 10, in <module>\\n    qc = qasm2.loads(\\n  File \"/usr/local/lib/python3.10/site-packages/qiskit/qasm2/__init__.py\", line 587, in loads\\n    return _parse.from_bytecode(\\n  File \"/usr/local/lib/python3.10/site-packages/qiskit/qasm2/parse.py\", line 214, in from_bytecode\\n    for op in bc:\\nqiskit.qasm2.exceptions.QASM2ParseError: \"<input>:4,3: \\'q\\' is not defined in this scope\"\\n'\n",
      "Failed to execute to_execute.py in Docker.\n",
      "Error parsing: Command 'python /workspace/to_execute.py' in image 'qiskit_runner' returned non-zero exit status 1: b'Traceback (most recent call last):\\n  File \"/workspace/to_execute.py\", line 10, in <module>\\n    qc = qasm2.loads(\\n  File \"/usr/local/lib/python3.10/site-packages/qiskit/qasm2/__init__.py\", line 587, in loads\\n    return _parse.from_bytecode(\\n  File \"/usr/local/lib/python3.10/site-packages/qiskit/qasm2/parse.py\", line 214, in from_bytecode\\n    for op in bc:\\nqiskit.qasm2.exceptions.QASM2ParseError: \"<input>:5,16: \\'c\\' is not defined in this scope\"\\n'\n",
      "Failed to execute to_execute.py in Docker.\n",
      "Output: Saved the BQSKit circuit to /workspace/to_execute_qc_bqskit.qasm\n",
      "Saved the PennyLane circuit to /workspace/to_execute_qc_pennylane.qasm\n",
      "Exported QASM files: [('/workspace/to_execute_qc_bqskit.qasm', 'export_to_qasm_with_bqskit'), ('/workspace/to_execute_qc_pennylane.qasm', 'export_to_qasm_with_pennylane')]\n",
      "The circuits are equivalent: /workspace/to_execute_qc_bqskit.qasm, /workspace/to_execute_qc_pennylane.qasm\n",
      "\n",
      "Program to_execute.py executed successfully.\n",
      "Output: Saved the BQSKit circuit to /workspace/to_execute_qc_bqskit.qasm\n",
      "Saved the PennyLane circuit to /workspace/to_execute_qc_pennylane.qasm\n",
      "Exported QASM files: [('/workspace/to_execute_qc_bqskit.qasm', 'export_to_qasm_with_bqskit'), ('/workspace/to_execute_qc_pennylane.qasm', 'export_to_qasm_with_pennylane')]\n",
      "The circuits are equivalent: /workspace/to_execute_qc_bqskit.qasm, /workspace/to_execute_qc_pennylane.qasm\n",
      "\n",
      "Program to_execute.py executed successfully.\n",
      "Error parsing: Command 'python /workspace/to_execute.py' in image 'qiskit_runner' returned non-zero exit status 1: b'  File \"/workspace/to_execute.py\", line 11\\n    include \"qelib1.inc\";\\n            ^^^^^^^^^^^^\\nSyntaxError: invalid syntax\\n'\n",
      "Failed to execute to_execute.py in Docker.\n",
      "Error parsing: Command 'python /workspace/to_execute.py' in image 'qiskit_runner' returned non-zero exit status 1: b'  File \"/workspace/to_execute.py\", line 10\\n    qc = qasm2.loads(\\n                    ^\\nSyntaxError: \\'(\\' was never closed\\n'\n",
      "Failed to execute to_execute.py in Docker.\n"
     ]
    },
    {
     "data": {
      "text/html": [
       "<pre style=\"white-space:pre;overflow-x:auto;line-height:normal;font-family:Menlo,'DejaVu Sans Mono',consolas,'Courier New',monospace\"><span style=\"color: #7fbfbf; text-decoration-color: #7fbfbf\">[15:29:07] </span><span style=\"color: #008000; text-decoration-color: #008000\">Minimized file saved as:</span>                                                        <a href=\"file:///home/paltenmo/projects/crossplatform/analysis_and_reporting/ddmin_target_file.py\" target=\"_blank\"><span style=\"color: #7f7f7f; text-decoration-color: #7f7f7f\">ddmin_target_file.py</span></a><span style=\"color: #7f7f7f; text-decoration-color: #7f7f7f\">:</span><a href=\"file:///home/paltenmo/projects/crossplatform/analysis_and_reporting/ddmin_target_file.py#240\" target=\"_blank\"><span style=\"color: #7f7f7f; text-decoration-color: #7f7f7f\">240</span></a>\n",
       "<span style=\"color: #7fbfbf; text-decoration-color: #7fbfbf\">           </span>..<span style=\"color: #800080; text-decoration-color: #800080\">/program_bank/v007/2024_10_31__17_51__qiskit/</span><span style=\"color: #ff00ff; text-decoration-color: #ff00ff\">qiskit_circuit_5q_10g_40142_843f</span> <span style=\"color: #7f7f7f; text-decoration-color: #7f7f7f\">                        </span>\n",
       "<span style=\"color: #7fbfbf; text-decoration-color: #7fbfbf\">           </span><span style=\"color: #ff00ff; text-decoration-color: #ff00ff\">1f_c4b462_error_min.py</span>                                                          <span style=\"color: #7f7f7f; text-decoration-color: #7f7f7f\">                        </span>\n",
       "</pre>\n"
      ],
      "text/plain": [
       "\u001b[2;36m[15:29:07]\u001b[0m\u001b[2;36m \u001b[0m\u001b[32mMinimized file saved as:\u001b[0m                                                        \u001b]8;id=111059;file:///home/paltenmo/projects/crossplatform/analysis_and_reporting/ddmin_target_file.py\u001b\\\u001b[2mddmin_target_file.py\u001b[0m\u001b]8;;\u001b\\\u001b[2m:\u001b[0m\u001b]8;id=188348;file:///home/paltenmo/projects/crossplatform/analysis_and_reporting/ddmin_target_file.py#240\u001b\\\u001b[2m240\u001b[0m\u001b]8;;\u001b\\\n",
       "\u001b[2;36m           \u001b[0m..\u001b[35m/program_bank/v007/2024_10_31__17_51__qiskit/\u001b[0m\u001b[95mqiskit_circuit_5q_10g_40142_843f\u001b[0m \u001b[2m                        \u001b[0m\n",
       "\u001b[2;36m           \u001b[0m\u001b[95m1f_c4b462_error_min.py\u001b[0m                                                          \u001b[2m                        \u001b[0m\n"
      ]
     },
     "metadata": {},
     "output_type": "display_data"
    },
    {
     "name": "stdout",
     "output_type": "stream",
     "text": [
      "Running minimization for ../program_bank/v007/2024_10_31__17_51__sample_errors/qiskit_circuit_5q_10g_33594_363d0d_737d3d_error.json\n"
     ]
    },
    {
     "data": {
      "text/html": [
       "<pre style=\"white-space:pre;overflow-x:auto;line-height:normal;font-family:Menlo,'DejaVu Sans Mono',consolas,'Courier New',monospace\"><span style=\"color: #7fbfbf; text-decoration-color: #7fbfbf\">[15:29:08] </span>Involved functions:                                                             <a href=\"file:///home/paltenmo/projects/crossplatform/analysis_and_reporting/ddmin_target_file.py\" target=\"_blank\"><span style=\"color: #7f7f7f; text-decoration-color: #7f7f7f\">ddmin_target_file.py</span></a><span style=\"color: #7f7f7f; text-decoration-color: #7f7f7f\">:</span><a href=\"file:///home/paltenmo/projects/crossplatform/analysis_and_reporting/ddmin_target_file.py#206\" target=\"_blank\"><span style=\"color: #7f7f7f; text-decoration-color: #7f7f7f\">206</span></a>\n",
       "</pre>\n"
      ],
      "text/plain": [
       "\u001b[2;36m[15:29:08]\u001b[0m\u001b[2;36m \u001b[0mInvolved functions:                                                             \u001b]8;id=347823;file:///home/paltenmo/projects/crossplatform/analysis_and_reporting/ddmin_target_file.py\u001b\\\u001b[2mddmin_target_file.py\u001b[0m\u001b]8;;\u001b\\\u001b[2m:\u001b[0m\u001b]8;id=228464;file:///home/paltenmo/projects/crossplatform/analysis_and_reporting/ddmin_target_file.py#206\u001b\\\u001b[2m206\u001b[0m\u001b]8;;\u001b\\\n"
      ]
     },
     "metadata": {},
     "output_type": "display_data"
    },
    {
     "data": {
      "text/html": [
       "<pre style=\"white-space:pre;overflow-x:auto;line-height:normal;font-family:Menlo,'DejaVu Sans Mono',consolas,'Courier New',monospace\"><span style=\"color: #7fbfbf; text-decoration-color: #7fbfbf\">           </span>  - compare_qasm_via_qcec                                                       <a href=\"file:///home/paltenmo/projects/crossplatform/analysis_and_reporting/ddmin_target_file.py\" target=\"_blank\"><span style=\"color: #7f7f7f; text-decoration-color: #7f7f7f\">ddmin_target_file.py</span></a><span style=\"color: #7f7f7f; text-decoration-color: #7f7f7f\">:</span><a href=\"file:///home/paltenmo/projects/crossplatform/analysis_and_reporting/ddmin_target_file.py#208\" target=\"_blank\"><span style=\"color: #7f7f7f; text-decoration-color: #7f7f7f\">208</span></a>\n",
       "</pre>\n"
      ],
      "text/plain": [
       "\u001b[2;36m          \u001b[0m\u001b[2;36m \u001b[0m  - compare_qasm_via_qcec                                                       \u001b]8;id=173729;file:///home/paltenmo/projects/crossplatform/analysis_and_reporting/ddmin_target_file.py\u001b\\\u001b[2mddmin_target_file.py\u001b[0m\u001b]8;;\u001b\\\u001b[2m:\u001b[0m\u001b]8;id=818412;file:///home/paltenmo/projects/crossplatform/analysis_and_reporting/ddmin_target_file.py#208\u001b\\\u001b[2m208\u001b[0m\u001b]8;;\u001b\\\n"
      ]
     },
     "metadata": {},
     "output_type": "display_data"
    },
    {
     "data": {
      "text/html": [
       "<pre style=\"white-space:pre;overflow-x:auto;line-height:normal;font-family:Menlo,'DejaVu Sans Mono',consolas,'Courier New',monospace\"><span style=\"color: #7fbfbf; text-decoration-color: #7fbfbf\">           </span>  - export_to_qasm_with_pennylane                                               <a href=\"file:///home/paltenmo/projects/crossplatform/analysis_and_reporting/ddmin_target_file.py\" target=\"_blank\"><span style=\"color: #7f7f7f; text-decoration-color: #7f7f7f\">ddmin_target_file.py</span></a><span style=\"color: #7f7f7f; text-decoration-color: #7f7f7f\">:</span><a href=\"file:///home/paltenmo/projects/crossplatform/analysis_and_reporting/ddmin_target_file.py#208\" target=\"_blank\"><span style=\"color: #7f7f7f; text-decoration-color: #7f7f7f\">208</span></a>\n",
       "</pre>\n"
      ],
      "text/plain": [
       "\u001b[2;36m          \u001b[0m\u001b[2;36m \u001b[0m  - export_to_qasm_with_pennylane                                               \u001b]8;id=491946;file:///home/paltenmo/projects/crossplatform/analysis_and_reporting/ddmin_target_file.py\u001b\\\u001b[2mddmin_target_file.py\u001b[0m\u001b]8;;\u001b\\\u001b[2m:\u001b[0m\u001b]8;id=103701;file:///home/paltenmo/projects/crossplatform/analysis_and_reporting/ddmin_target_file.py#208\u001b\\\u001b[2m208\u001b[0m\u001b]8;;\u001b\\\n"
      ]
     },
     "metadata": {},
     "output_type": "display_data"
    },
    {
     "data": {
      "text/html": [
       "<pre style=\"white-space:pre;overflow-x:auto;line-height:normal;font-family:Menlo,'DejaVu Sans Mono',consolas,'Courier New',monospace\"><span style=\"color: #7fbfbf; text-decoration-color: #7fbfbf\">           </span>  - export_to_qasm_with_pytket                                                  <a href=\"file:///home/paltenmo/projects/crossplatform/analysis_and_reporting/ddmin_target_file.py\" target=\"_blank\"><span style=\"color: #7f7f7f; text-decoration-color: #7f7f7f\">ddmin_target_file.py</span></a><span style=\"color: #7f7f7f; text-decoration-color: #7f7f7f\">:</span><a href=\"file:///home/paltenmo/projects/crossplatform/analysis_and_reporting/ddmin_target_file.py#208\" target=\"_blank\"><span style=\"color: #7f7f7f; text-decoration-color: #7f7f7f\">208</span></a>\n",
       "</pre>\n"
      ],
      "text/plain": [
       "\u001b[2;36m          \u001b[0m\u001b[2;36m \u001b[0m  - export_to_qasm_with_pytket                                                  \u001b]8;id=486191;file:///home/paltenmo/projects/crossplatform/analysis_and_reporting/ddmin_target_file.py\u001b\\\u001b[2mddmin_target_file.py\u001b[0m\u001b]8;;\u001b\\\u001b[2m:\u001b[0m\u001b]8;id=223296;file:///home/paltenmo/projects/crossplatform/analysis_and_reporting/ddmin_target_file.py#208\u001b\\\u001b[2m208\u001b[0m\u001b]8;;\u001b\\\n"
      ]
     },
     "metadata": {},
     "output_type": "display_data"
    },
    {
     "name": "stdout",
     "output_type": "stream",
     "text": [
      "Error parsing: Command 'python /workspace/to_execute.py' in image 'qiskit_runner' returned non-zero exit status 1: b'Traceback (most recent call last):\\n  File \"/workspace/to_execute.py\", line 123, in <module>\\n    target_qc = qc\\nNameError: name \\'qc\\' is not defined\\n'\n",
      "Failed to execute to_execute.py in Docker.\n",
      "Output: Saved the PennyLane circuit to /workspace/to_execute_qc_pennylane.qasm\n",
      "Saved the Pytket circuit to /workspace/to_execute_qc_pytket.qasm\n",
      "Exported QASM files: [('/workspace/to_execute_qc_pennylane.qasm', 'export_to_qasm_with_pennylane'), ('/workspace/to_execute_qc_pytket.qasm', 'export_to_qasm_with_pytket')]\n",
      "Log has been saved to /workspace/to_execute_fbd96d_error.json\n",
      "\n",
      "Program to_execute.py executed successfully.\n",
      "New exception message: The circuits are not equivalent: /workspace/to_execute_qc_pennylane.qasm, /workspace/to_execute_qc_pytket.qasm\n",
      "Error parsing: Command 'python /workspace/to_execute.py' in image 'qiskit_runner' returned non-zero exit status 1: b'  File \"/workspace/to_execute.py\", line 15\\n    , custom_instructions=qasm2.LEGACY_CUSTOM_INSTRUCTIONS)\\n                                                          ^\\nSyntaxError: unmatched \\')\\'\\n'\n",
      "Failed to execute to_execute.py in Docker.\n",
      "Error parsing: Command 'python /workspace/to_execute.py' in image 'qiskit_runner' returned non-zero exit status 1: b'  File \"/workspace/to_execute.py\", line 10\\n    qc = qasm2.loads(\\n                    ^\\nSyntaxError: \\'(\\' was never closed\\n'\n",
      "Failed to execute to_execute.py in Docker.\n",
      "Error parsing: Command 'python /workspace/to_execute.py' in image 'qiskit_runner' returned non-zero exit status 1: b'  File \"/workspace/to_execute.py\", line 19\\n    , custom_instructions=qasm2.LEGACY_CUSTOM_INSTRUCTIONS)\\n                                                          ^\\nSyntaxError: unmatched \\')\\'\\n'\n",
      "Failed to execute to_execute.py in Docker.\n",
      "Error parsing: Command 'python /workspace/to_execute.py' in image 'qiskit_runner' returned non-zero exit status 1: b'Traceback (most recent call last):\\n  File \"/workspace/to_execute.py\", line 10, in <module>\\n    qc = qasm2.loads(\\n  File \"/usr/local/lib/python3.10/site-packages/qiskit/qasm2/__init__.py\", line 587, in loads\\n    return _parse.from_bytecode(\\n  File \"/usr/local/lib/python3.10/site-packages/qiskit/qasm2/parse.py\", line 214, in from_bytecode\\n    for op in bc:\\nqiskit.qasm2.exceptions.QASM2ParseError: \"<input>:4,0: cannot use non-builtin custom instruction \\'cx\\' before definition\"\\n'\n",
      "Failed to execute to_execute.py in Docker.\n",
      "Output: Saved the PennyLane circuit to /workspace/to_execute_qc_pennylane.qasm\n",
      "Saved the Pytket circuit to /workspace/to_execute_qc_pytket.qasm\n",
      "Exported QASM files: [('/workspace/to_execute_qc_pennylane.qasm', 'export_to_qasm_with_pennylane'), ('/workspace/to_execute_qc_pytket.qasm', 'export_to_qasm_with_pytket')]\n",
      "The circuits are equivalent: /workspace/to_execute_qc_pennylane.qasm, /workspace/to_execute_qc_pytket.qasm\n",
      "\n",
      "Program to_execute.py executed successfully.\n",
      "Error parsing: Command 'python /workspace/to_execute.py' in image 'qiskit_runner' returned non-zero exit status 1: b'  File \"/workspace/to_execute.py\", line 10\\n    qc = qasm2.loads(\\n                    ^\\nSyntaxError: \\'(\\' was never closed\\n'\n",
      "Failed to execute to_execute.py in Docker.\n",
      "Error parsing: Command 'python /workspace/to_execute.py' in image 'qiskit_runner' returned non-zero exit status 1: b'  File \"/workspace/to_execute.py\", line 22\\n    , custom_instructions=qasm2.LEGACY_CUSTOM_INSTRUCTIONS)\\nIndentationError: unexpected indent\\n'\n",
      "Failed to execute to_execute.py in Docker.\n",
      "Error parsing: Command 'python /workspace/to_execute.py' in image 'qiskit_runner' returned non-zero exit status 1: b'  File \"/workspace/to_execute.py\", line 12\\n    include \"qelib1.inc\";\\n            ^^^^^^^^^^^^\\nSyntaxError: invalid syntax\\n'\n",
      "Failed to execute to_execute.py in Docker.\n",
      "Error parsing: Command 'python /workspace/to_execute.py' in image 'qiskit_runner' returned non-zero exit status 1: b'Traceback (most recent call last):\\n  File \"/workspace/to_execute.py\", line 10, in <module>\\n    qc = qasm2.loads(\\n  File \"/usr/local/lib/python3.10/site-packages/qiskit/qasm2/__init__.py\", line 587, in loads\\n    return _parse.from_bytecode(\\n  File \"/usr/local/lib/python3.10/site-packages/qiskit/qasm2/parse.py\", line 214, in from_bytecode\\n    for op in bc:\\nqiskit.qasm2.exceptions.QASM2ParseError: \"<input>:6,0: cannot use non-builtin custom instruction \\'cx\\' before definition\"\\n'\n",
      "Failed to execute to_execute.py in Docker.\n",
      "Error parsing: Command 'python /workspace/to_execute.py' in image 'qiskit_runner' returned non-zero exit status 1: b'Traceback (most recent call last):\\n  File \"/workspace/to_execute.py\", line 10, in <module>\\n    qc = qasm2.loads(\\n  File \"/usr/local/lib/python3.10/site-packages/qiskit/qasm2/__init__.py\", line 587, in loads\\n    return _parse.from_bytecode(\\n  File \"/usr/local/lib/python3.10/site-packages/qiskit/qasm2/parse.py\", line 214, in from_bytecode\\n    for op in bc:\\nqiskit.qasm2.exceptions.QASM2ParseError: \"<input>:6,3: \\'a\\' is not defined in this scope\"\\n'\n",
      "Failed to execute to_execute.py in Docker.\n",
      "Output: Saved the PennyLane circuit to /workspace/to_execute_qc_pennylane.qasm\n",
      "Saved the Pytket circuit to /workspace/to_execute_qc_pytket.qasm\n",
      "Exported QASM files: [('/workspace/to_execute_qc_pennylane.qasm', 'export_to_qasm_with_pennylane'), ('/workspace/to_execute_qc_pytket.qasm', 'export_to_qasm_with_pytket')]\n",
      "Log has been saved to /workspace/to_execute_15a033_error.json\n",
      "\n",
      "Program to_execute.py executed successfully.\n",
      "New exception message: The circuits are not equivalent: /workspace/to_execute_qc_pennylane.qasm, /workspace/to_execute_qc_pytket.qasm\n",
      "Error parsing: Command 'python /workspace/to_execute.py' in image 'qiskit_runner' returned non-zero exit status 1: b'  File \"/workspace/to_execute.py\", line 20\\n    , custom_instructions=qasm2.LEGACY_CUSTOM_INSTRUCTIONS)\\nIndentationError: unexpected indent\\n'\n",
      "Failed to execute to_execute.py in Docker.\n",
      "Error parsing: Command 'python /workspace/to_execute.py' in image 'qiskit_runner' returned non-zero exit status 1: b'  File \"/workspace/to_execute.py\", line 12\\n    include \"qelib1.inc\";\\n            ^^^^^^^^^^^^\\nSyntaxError: invalid syntax\\n'\n",
      "Failed to execute to_execute.py in Docker.\n",
      "Error parsing: Command 'python /workspace/to_execute.py' in image 'qiskit_runner' returned non-zero exit status 1: b'Traceback (most recent call last):\\n  File \"/workspace/to_execute.py\", line 10, in <module>\\n    qc = qasm2.loads(\\n  File \"/usr/local/lib/python3.10/site-packages/qiskit/qasm2/__init__.py\", line 587, in loads\\n    return _parse.from_bytecode(\\n  File \"/usr/local/lib/python3.10/site-packages/qiskit/qasm2/parse.py\", line 214, in from_bytecode\\n    for op in bc:\\nqiskit.qasm2.exceptions.QASM2ParseError: \"<input>:5,0: cannot use non-builtin custom instruction \\'cx\\' before definition\"\\n'\n",
      "Failed to execute to_execute.py in Docker.\n",
      "Error parsing: Command 'python /workspace/to_execute.py' in image 'qiskit_runner' returned non-zero exit status 1: b'Traceback (most recent call last):\\n  File \"/workspace/to_execute.py\", line 10, in <module>\\n    qc = qasm2.loads(\\n  File \"/usr/local/lib/python3.10/site-packages/qiskit/qasm2/__init__.py\", line 587, in loads\\n    return _parse.from_bytecode(\\n  File \"/usr/local/lib/python3.10/site-packages/qiskit/qasm2/parse.py\", line 214, in from_bytecode\\n    for op in bc:\\nqiskit.qasm2.exceptions.QASM2ParseError: \"<input>:5,3: \\'a\\' is not defined in this scope\"\\n'\n",
      "Failed to execute to_execute.py in Docker.\n",
      "Output: Saved the PennyLane circuit to /workspace/to_execute_qc_pennylane.qasm\n",
      "Saved the Pytket circuit to /workspace/to_execute_qc_pytket.qasm\n",
      "Exported QASM files: [('/workspace/to_execute_qc_pennylane.qasm', 'export_to_qasm_with_pennylane'), ('/workspace/to_execute_qc_pytket.qasm', 'export_to_qasm_with_pytket')]\n",
      "The circuits are equivalent: /workspace/to_execute_qc_pennylane.qasm, /workspace/to_execute_qc_pytket.qasm\n",
      "\n",
      "Program to_execute.py executed successfully.\n",
      "Error parsing: Command 'python /workspace/to_execute.py' in image 'qiskit_runner' returned non-zero exit status 1: b'  File \"/workspace/to_execute.py\", line 12\\n    OPENQASM 2.0;\\n    ^^^^^^^^^^^^\\nSyntaxError: invalid syntax. Perhaps you forgot a comma?\\n'\n",
      "Failed to execute to_execute.py in Docker.\n",
      "Error parsing: Command 'python /workspace/to_execute.py' in image 'qiskit_runner' returned non-zero exit status 1: b'  File \"/workspace/to_execute.py\", line 10\\n    qc = qasm2.loads(\\n                    ^\\nSyntaxError: \\'(\\' was never closed\\n'\n",
      "Failed to execute to_execute.py in Docker.\n",
      "Error parsing: Command 'python /workspace/to_execute.py' in image 'qiskit_runner' returned non-zero exit status 1: b'  File \"/workspace/to_execute.py\", line 21\\n    , custom_instructions=qasm2.LEGACY_CUSTOM_INSTRUCTIONS)\\nIndentationError: unexpected indent\\n'\n",
      "Failed to execute to_execute.py in Docker.\n",
      "Output: Saved the PennyLane circuit to /workspace/to_execute_qc_pennylane.qasm\n",
      "Saved the Pytket circuit to /workspace/to_execute_qc_pytket.qasm\n",
      "Exported QASM files: [('/workspace/to_execute_qc_pennylane.qasm', 'export_to_qasm_with_pennylane'), ('/workspace/to_execute_qc_pytket.qasm', 'export_to_qasm_with_pytket')]\n",
      "Log has been saved to /workspace/to_execute_8c51d2_error.json\n",
      "\n",
      "Program to_execute.py executed successfully.\n",
      "New exception message: The circuits are not equivalent: /workspace/to_execute_qc_pennylane.qasm, /workspace/to_execute_qc_pytket.qasm\n",
      "Error parsing: Command 'python /workspace/to_execute.py' in image 'qiskit_runner' returned non-zero exit status 1: b'  File \"/workspace/to_execute.py\", line 20\\n    , custom_instructions=qasm2.LEGACY_CUSTOM_INSTRUCTIONS)\\nIndentationError: unexpected indent\\n'\n",
      "Failed to execute to_execute.py in Docker.\n",
      "Error parsing: Command 'python /workspace/to_execute.py' in image 'qiskit_runner' returned non-zero exit status 1: b'  File \"/workspace/to_execute.py\", line 11\\n    OPENQASM 2.0;\\n    ^^^^^^^^^^^^\\nSyntaxError: invalid syntax. Perhaps you forgot a comma?\\n'\n",
      "Failed to execute to_execute.py in Docker.\n",
      "Output: Saved the PennyLane circuit to /workspace/to_execute_qc_pennylane.qasm\n",
      "Saved the Pytket circuit to /workspace/to_execute_qc_pytket.qasm\n",
      "Exported QASM files: [('/workspace/to_execute_qc_pennylane.qasm', 'export_to_qasm_with_pennylane'), ('/workspace/to_execute_qc_pytket.qasm', 'export_to_qasm_with_pytket')]\n",
      "Log has been saved to /workspace/to_execute_e968a7_error.json\n",
      "\n",
      "Program to_execute.py executed successfully.\n",
      "New exception message: The circuits are not equivalent: /workspace/to_execute_qc_pennylane.qasm, /workspace/to_execute_qc_pytket.qasm\n",
      "Error parsing: Command 'python /workspace/to_execute.py' in image 'qiskit_runner' returned non-zero exit status 1: b'  File \"/workspace/to_execute.py\", line 19\\n    , custom_instructions=qasm2.LEGACY_CUSTOM_INSTRUCTIONS)\\nIndentationError: unexpected indent\\n'\n",
      "Failed to execute to_execute.py in Docker.\n",
      "Error parsing: Command 'python /workspace/to_execute.py' in image 'qiskit_runner' returned non-zero exit status 1: b'  File \"/workspace/to_execute.py\", line 11\\n    include \"qelib1.inc\";\\n            ^^^^^^^^^^^^\\nSyntaxError: invalid syntax\\n'\n",
      "Failed to execute to_execute.py in Docker.\n",
      "Error parsing: Command 'python /workspace/to_execute.py' in image 'qiskit_runner' returned non-zero exit status 1: b'Traceback (most recent call last):\\n  File \"/workspace/to_execute.py\", line 10, in <module>\\n    qc = qasm2.loads(\\n  File \"/usr/local/lib/python3.10/site-packages/qiskit/qasm2/__init__.py\", line 587, in loads\\n    return _parse.from_bytecode(\\n  File \"/usr/local/lib/python3.10/site-packages/qiskit/qasm2/parse.py\", line 214, in from_bytecode\\n    for op in bc:\\nqiskit.qasm2.exceptions.QASM2ParseError: \"<input>:5,0: cannot use non-builtin custom instruction \\'cx\\' before definition\"\\n'\n",
      "Failed to execute to_execute.py in Docker.\n",
      "Error parsing: Command 'python /workspace/to_execute.py' in image 'qiskit_runner' returned non-zero exit status 1: b'Traceback (most recent call last):\\n  File \"/workspace/to_execute.py\", line 10, in <module>\\n    qc = qasm2.loads(\\n  File \"/usr/local/lib/python3.10/site-packages/qiskit/qasm2/__init__.py\", line 587, in loads\\n    return _parse.from_bytecode(\\n  File \"/usr/local/lib/python3.10/site-packages/qiskit/qasm2/parse.py\", line 214, in from_bytecode\\n    for op in bc:\\nqiskit.qasm2.exceptions.QASM2ParseError: \"<input>:5,8: \\'cin\\' is not defined in this scope\"\\n'\n",
      "Failed to execute to_execute.py in Docker.\n",
      "Error parsing: Command 'python /workspace/to_execute.py' in image 'qiskit_runner' returned non-zero exit status 1: b'Traceback (most recent call last):\\n  File \"/workspace/to_execute.py\", line 10, in <module>\\n    qc = qasm2.loads(\\n  File \"/usr/local/lib/python3.10/site-packages/qiskit/qasm2/__init__.py\", line 587, in loads\\n    return _parse.from_bytecode(\\n  File \"/usr/local/lib/python3.10/site-packages/qiskit/qasm2/parse.py\", line 214, in from_bytecode\\n    for op in bc:\\nqiskit.qasm2.exceptions.QASM2ParseError: \"<input>:5,3: \\'a\\' is not defined in this scope\"\\n'\n",
      "Failed to execute to_execute.py in Docker.\n",
      "Error parsing: Command 'python /workspace/to_execute.py' in image 'qiskit_runner' returned non-zero exit status 1: b'Traceback (most recent call last):\\n  File \"/workspace/to_execute.py\", line 10, in <module>\\n    qc = qasm2.loads(\\n  File \"/usr/local/lib/python3.10/site-packages/qiskit/qasm2/__init__.py\", line 587, in loads\\n    return _parse.from_bytecode(\\n  File \"/usr/local/lib/python3.10/site-packages/qiskit/qasm2/parse.py\", line 214, in from_bytecode\\n    for op in bc:\\nqiskit.qasm2.exceptions.QASM2ParseError: \"<input>:6,11: \\'b\\' is not defined in this scope\"\\n'\n",
      "Failed to execute to_execute.py in Docker.\n",
      "Output: Saved the PennyLane circuit to /workspace/to_execute_qc_pennylane.qasm\n",
      "Saved the Pytket circuit to /workspace/to_execute_qc_pytket.qasm\n",
      "Exported QASM files: [('/workspace/to_execute_qc_pennylane.qasm', 'export_to_qasm_with_pennylane'), ('/workspace/to_execute_qc_pytket.qasm', 'export_to_qasm_with_pytket')]\n",
      "Log has been saved to /workspace/to_execute_efd79a_error.json\n",
      "\n",
      "Program to_execute.py executed successfully.\n",
      "New exception message: The circuits are not equivalent: /workspace/to_execute_qc_pennylane.qasm, /workspace/to_execute_qc_pytket.qasm\n",
      "Error parsing: Command 'python /workspace/to_execute.py' in image 'qiskit_runner' returned non-zero exit status 1: b'  File \"/workspace/to_execute.py\", line 18\\n    , custom_instructions=qasm2.LEGACY_CUSTOM_INSTRUCTIONS)\\nIndentationError: unexpected indent\\n'\n",
      "Failed to execute to_execute.py in Docker.\n",
      "Error parsing: Command 'python /workspace/to_execute.py' in image 'qiskit_runner' returned non-zero exit status 1: b'  File \"/workspace/to_execute.py\", line 11\\n    include \"qelib1.inc\";\\n            ^^^^^^^^^^^^\\nSyntaxError: invalid syntax\\n'\n",
      "Failed to execute to_execute.py in Docker.\n",
      "Error parsing: Command 'python /workspace/to_execute.py' in image 'qiskit_runner' returned non-zero exit status 1: b'Traceback (most recent call last):\\n  File \"/workspace/to_execute.py\", line 10, in <module>\\n    qc = qasm2.loads(\\n  File \"/usr/local/lib/python3.10/site-packages/qiskit/qasm2/__init__.py\", line 587, in loads\\n    return _parse.from_bytecode(\\n  File \"/usr/local/lib/python3.10/site-packages/qiskit/qasm2/parse.py\", line 214, in from_bytecode\\n    for op in bc:\\nqiskit.qasm2.exceptions.QASM2ParseError: \"<input>:5,0: cannot use non-builtin custom instruction \\'ccx\\' before definition\"\\n'\n",
      "Failed to execute to_execute.py in Docker.\n",
      "Error parsing: Command 'python /workspace/to_execute.py' in image 'qiskit_runner' returned non-zero exit status 1: b'Traceback (most recent call last):\\n  File \"/workspace/to_execute.py\", line 10, in <module>\\n    qc = qasm2.loads(\\n  File \"/usr/local/lib/python3.10/site-packages/qiskit/qasm2/__init__.py\", line 587, in loads\\n    return _parse.from_bytecode(\\n  File \"/usr/local/lib/python3.10/site-packages/qiskit/qasm2/parse.py\", line 214, in from_bytecode\\n    for op in bc:\\nqiskit.qasm2.exceptions.QASM2ParseError: \"<input>:5,4: \\'cin\\' is not defined in this scope\"\\n'\n",
      "Failed to execute to_execute.py in Docker.\n",
      "Error parsing: Command 'python /workspace/to_execute.py' in image 'qiskit_runner' returned non-zero exit status 1: b'Traceback (most recent call last):\\n  File \"/workspace/to_execute.py\", line 10, in <module>\\n    qc = qasm2.loads(\\n  File \"/usr/local/lib/python3.10/site-packages/qiskit/qasm2/__init__.py\", line 587, in loads\\n    return _parse.from_bytecode(\\n  File \"/usr/local/lib/python3.10/site-packages/qiskit/qasm2/parse.py\", line 214, in from_bytecode\\n    for op in bc:\\nqiskit.qasm2.exceptions.QASM2ParseError: \"<input>:5,16: \\'a\\' is not defined in this scope\"\\n'\n",
      "Failed to execute to_execute.py in Docker.\n",
      "Error parsing: Command 'python /workspace/to_execute.py' in image 'qiskit_runner' returned non-zero exit status 1: b'Traceback (most recent call last):\\n  File \"/workspace/to_execute.py\", line 10, in <module>\\n    qc = qasm2.loads(\\n  File \"/usr/local/lib/python3.10/site-packages/qiskit/qasm2/__init__.py\", line 587, in loads\\n    return _parse.from_bytecode(\\n  File \"/usr/local/lib/python3.10/site-packages/qiskit/qasm2/parse.py\", line 214, in from_bytecode\\n    for op in bc:\\nqiskit.qasm2.exceptions.QASM2ParseError: \"<input>:5,11: \\'b\\' is not defined in this scope\"\\n'\n",
      "Failed to execute to_execute.py in Docker.\n",
      "Output: Saved the PennyLane circuit to /workspace/to_execute_qc_pennylane.qasm\n",
      "Saved the Pytket circuit to /workspace/to_execute_qc_pytket.qasm\n",
      "Exported QASM files: [('/workspace/to_execute_qc_pennylane.qasm', 'export_to_qasm_with_pennylane'), ('/workspace/to_execute_qc_pytket.qasm', 'export_to_qasm_with_pytket')]\n",
      "The circuits are equivalent: /workspace/to_execute_qc_pennylane.qasm, /workspace/to_execute_qc_pytket.qasm\n",
      "\n",
      "Program to_execute.py executed successfully.\n",
      "Output: Saved the PennyLane circuit to /workspace/to_execute_qc_pennylane.qasm\n",
      "Saved the Pytket circuit to /workspace/to_execute_qc_pytket.qasm\n",
      "Exported QASM files: [('/workspace/to_execute_qc_pennylane.qasm', 'export_to_qasm_with_pennylane'), ('/workspace/to_execute_qc_pytket.qasm', 'export_to_qasm_with_pytket')]\n",
      "Log has been saved to /workspace/to_execute_ae0709_error.json\n",
      "\n",
      "Program to_execute.py executed successfully.\n",
      "New exception message: The circuits are not equivalent: /workspace/to_execute_qc_pennylane.qasm, /workspace/to_execute_qc_pytket.qasm\n",
      "Error parsing: Command 'python /workspace/to_execute.py' in image 'qiskit_runner' returned non-zero exit status 1: b'  File \"/workspace/to_execute.py\", line 17\\n    , custom_instructions=qasm2.LEGACY_CUSTOM_INSTRUCTIONS)\\nIndentationError: unexpected indent\\n'\n",
      "Failed to execute to_execute.py in Docker.\n",
      "Error parsing: Command 'python /workspace/to_execute.py' in image 'qiskit_runner' returned non-zero exit status 1: b'  File \"/workspace/to_execute.py\", line 11\\n    include \"qelib1.inc\";\\n            ^^^^^^^^^^^^\\nSyntaxError: invalid syntax\\n'\n",
      "Failed to execute to_execute.py in Docker.\n",
      "Error parsing: Command 'python /workspace/to_execute.py' in image 'qiskit_runner' returned non-zero exit status 1: b'Traceback (most recent call last):\\n  File \"/workspace/to_execute.py\", line 10, in <module>\\n    qc = qasm2.loads(\\n  File \"/usr/local/lib/python3.10/site-packages/qiskit/qasm2/__init__.py\", line 587, in loads\\n    return _parse.from_bytecode(\\n  File \"/usr/local/lib/python3.10/site-packages/qiskit/qasm2/parse.py\", line 214, in from_bytecode\\n    for op in bc:\\nqiskit.qasm2.exceptions.QASM2ParseError: \"<input>:5,0: cannot use non-builtin custom instruction \\'ccx\\' before definition\"\\n'\n",
      "Failed to execute to_execute.py in Docker.\n",
      "Error parsing: Command 'python /workspace/to_execute.py' in image 'qiskit_runner' returned non-zero exit status 1: b'Traceback (most recent call last):\\n  File \"/workspace/to_execute.py\", line 10, in <module>\\n    qc = qasm2.loads(\\n  File \"/usr/local/lib/python3.10/site-packages/qiskit/qasm2/__init__.py\", line 587, in loads\\n    return _parse.from_bytecode(\\n  File \"/usr/local/lib/python3.10/site-packages/qiskit/qasm2/parse.py\", line 214, in from_bytecode\\n    for op in bc:\\nqiskit.qasm2.exceptions.QASM2ParseError: \"<input>:5,4: \\'cin\\' is not defined in this scope\"\\n'\n",
      "Failed to execute to_execute.py in Docker.\n",
      "Error parsing: Command 'python /workspace/to_execute.py' in image 'qiskit_runner' returned non-zero exit status 1: b'Traceback (most recent call last):\\n  File \"/workspace/to_execute.py\", line 10, in <module>\\n    qc = qasm2.loads(\\n  File \"/usr/local/lib/python3.10/site-packages/qiskit/qasm2/__init__.py\", line 587, in loads\\n    return _parse.from_bytecode(\\n  File \"/usr/local/lib/python3.10/site-packages/qiskit/qasm2/parse.py\", line 214, in from_bytecode\\n    for op in bc:\\nqiskit.qasm2.exceptions.QASM2ParseError: \"<input>:5,16: \\'a\\' is not defined in this scope\"\\n'\n",
      "Failed to execute to_execute.py in Docker.\n",
      "Error parsing: Command 'python /workspace/to_execute.py' in image 'qiskit_runner' returned non-zero exit status 1: b'Traceback (most recent call last):\\n  File \"/workspace/to_execute.py\", line 10, in <module>\\n    qc = qasm2.loads(\\n  File \"/usr/local/lib/python3.10/site-packages/qiskit/qasm2/__init__.py\", line 587, in loads\\n    return _parse.from_bytecode(\\n  File \"/usr/local/lib/python3.10/site-packages/qiskit/qasm2/parse.py\", line 214, in from_bytecode\\n    for op in bc:\\nqiskit.qasm2.exceptions.QASM2ParseError: \"<input>:5,11: \\'b\\' is not defined in this scope\"\\n'\n",
      "Failed to execute to_execute.py in Docker.\n",
      "Output: Saved the PennyLane circuit to /workspace/to_execute_qc_pennylane.qasm\n",
      "Saved the Pytket circuit to /workspace/to_execute_qc_pytket.qasm\n",
      "Exported QASM files: [('/workspace/to_execute_qc_pennylane.qasm', 'export_to_qasm_with_pennylane'), ('/workspace/to_execute_qc_pytket.qasm', 'export_to_qasm_with_pytket')]\n",
      "The circuits are equivalent: /workspace/to_execute_qc_pennylane.qasm, /workspace/to_execute_qc_pytket.qasm\n",
      "\n",
      "Program to_execute.py executed successfully.\n",
      "Error parsing: Command 'python /workspace/to_execute.py' in image 'qiskit_runner' returned non-zero exit status 1: b'  File \"/workspace/to_execute.py\", line 11\\n    include \"qelib1.inc\";\\n            ^^^^^^^^^^^^\\nSyntaxError: invalid syntax\\n'\n",
      "Failed to execute to_execute.py in Docker.\n",
      "Error parsing: Command 'python /workspace/to_execute.py' in image 'qiskit_runner' returned non-zero exit status 1: b'  File \"/workspace/to_execute.py\", line 10\\n    qc = qasm2.loads(\\n                    ^\\nSyntaxError: \\'(\\' was never closed\\n'\n",
      "Failed to execute to_execute.py in Docker.\n"
     ]
    },
    {
     "data": {
      "text/html": [
       "<pre style=\"white-space:pre;overflow-x:auto;line-height:normal;font-family:Menlo,'DejaVu Sans Mono',consolas,'Courier New',monospace\"><span style=\"color: #7fbfbf; text-decoration-color: #7fbfbf\">[15:30:36] </span><span style=\"color: #008000; text-decoration-color: #008000\">Minimized file saved as:</span>                                                        <a href=\"file:///home/paltenmo/projects/crossplatform/analysis_and_reporting/ddmin_target_file.py\" target=\"_blank\"><span style=\"color: #7f7f7f; text-decoration-color: #7f7f7f\">ddmin_target_file.py</span></a><span style=\"color: #7f7f7f; text-decoration-color: #7f7f7f\">:</span><a href=\"file:///home/paltenmo/projects/crossplatform/analysis_and_reporting/ddmin_target_file.py#240\" target=\"_blank\"><span style=\"color: #7f7f7f; text-decoration-color: #7f7f7f\">240</span></a>\n",
       "<span style=\"color: #7fbfbf; text-decoration-color: #7fbfbf\">           </span>..<span style=\"color: #800080; text-decoration-color: #800080\">/program_bank/v007/2024_10_31__17_51__qiskit/</span><span style=\"color: #ff00ff; text-decoration-color: #ff00ff\">qiskit_circuit_5q_10g_33594_363d</span> <span style=\"color: #7f7f7f; text-decoration-color: #7f7f7f\">                        </span>\n",
       "<span style=\"color: #7fbfbf; text-decoration-color: #7fbfbf\">           </span><span style=\"color: #ff00ff; text-decoration-color: #ff00ff\">0d_737d3d_error_min.py</span>                                                          <span style=\"color: #7f7f7f; text-decoration-color: #7f7f7f\">                        </span>\n",
       "</pre>\n"
      ],
      "text/plain": [
       "\u001b[2;36m[15:30:36]\u001b[0m\u001b[2;36m \u001b[0m\u001b[32mMinimized file saved as:\u001b[0m                                                        \u001b]8;id=84202;file:///home/paltenmo/projects/crossplatform/analysis_and_reporting/ddmin_target_file.py\u001b\\\u001b[2mddmin_target_file.py\u001b[0m\u001b]8;;\u001b\\\u001b[2m:\u001b[0m\u001b]8;id=904329;file:///home/paltenmo/projects/crossplatform/analysis_and_reporting/ddmin_target_file.py#240\u001b\\\u001b[2m240\u001b[0m\u001b]8;;\u001b\\\n",
       "\u001b[2;36m           \u001b[0m..\u001b[35m/program_bank/v007/2024_10_31__17_51__qiskit/\u001b[0m\u001b[95mqiskit_circuit_5q_10g_33594_363d\u001b[0m \u001b[2m                        \u001b[0m\n",
       "\u001b[2;36m           \u001b[0m\u001b[95m0d_737d3d_error_min.py\u001b[0m                                                          \u001b[2m                        \u001b[0m\n"
      ]
     },
     "metadata": {},
     "output_type": "display_data"
    },
    {
     "name": "stdout",
     "output_type": "stream",
     "text": [
      "Running minimization for ../program_bank/v007/2024_10_31__17_51__sample_errors/qiskit_circuit_5q_10g_24368_522f46_c267bd_error.json\n"
     ]
    },
    {
     "data": {
      "text/html": [
       "<pre style=\"white-space:pre;overflow-x:auto;line-height:normal;font-family:Menlo,'DejaVu Sans Mono',consolas,'Courier New',monospace\"><span style=\"color: #7fbfbf; text-decoration-color: #7fbfbf\">           </span>Involved functions:                                                             <a href=\"file:///home/paltenmo/projects/crossplatform/analysis_and_reporting/ddmin_target_file.py\" target=\"_blank\"><span style=\"color: #7f7f7f; text-decoration-color: #7f7f7f\">ddmin_target_file.py</span></a><span style=\"color: #7f7f7f; text-decoration-color: #7f7f7f\">:</span><a href=\"file:///home/paltenmo/projects/crossplatform/analysis_and_reporting/ddmin_target_file.py#206\" target=\"_blank\"><span style=\"color: #7f7f7f; text-decoration-color: #7f7f7f\">206</span></a>\n",
       "</pre>\n"
      ],
      "text/plain": [
       "\u001b[2;36m          \u001b[0m\u001b[2;36m \u001b[0mInvolved functions:                                                             \u001b]8;id=864988;file:///home/paltenmo/projects/crossplatform/analysis_and_reporting/ddmin_target_file.py\u001b\\\u001b[2mddmin_target_file.py\u001b[0m\u001b]8;;\u001b\\\u001b[2m:\u001b[0m\u001b]8;id=572991;file:///home/paltenmo/projects/crossplatform/analysis_and_reporting/ddmin_target_file.py#206\u001b\\\u001b[2m206\u001b[0m\u001b]8;;\u001b\\\n"
      ]
     },
     "metadata": {},
     "output_type": "display_data"
    },
    {
     "data": {
      "text/html": [
       "<pre style=\"white-space:pre;overflow-x:auto;line-height:normal;font-family:Menlo,'DejaVu Sans Mono',consolas,'Courier New',monospace\"><span style=\"color: #7fbfbf; text-decoration-color: #7fbfbf\">           </span>  - compare_qasm_via_qcec                                                       <a href=\"file:///home/paltenmo/projects/crossplatform/analysis_and_reporting/ddmin_target_file.py\" target=\"_blank\"><span style=\"color: #7f7f7f; text-decoration-color: #7f7f7f\">ddmin_target_file.py</span></a><span style=\"color: #7f7f7f; text-decoration-color: #7f7f7f\">:</span><a href=\"file:///home/paltenmo/projects/crossplatform/analysis_and_reporting/ddmin_target_file.py#208\" target=\"_blank\"><span style=\"color: #7f7f7f; text-decoration-color: #7f7f7f\">208</span></a>\n",
       "</pre>\n"
      ],
      "text/plain": [
       "\u001b[2;36m          \u001b[0m\u001b[2;36m \u001b[0m  - compare_qasm_via_qcec                                                       \u001b]8;id=189128;file:///home/paltenmo/projects/crossplatform/analysis_and_reporting/ddmin_target_file.py\u001b\\\u001b[2mddmin_target_file.py\u001b[0m\u001b]8;;\u001b\\\u001b[2m:\u001b[0m\u001b]8;id=318372;file:///home/paltenmo/projects/crossplatform/analysis_and_reporting/ddmin_target_file.py#208\u001b\\\u001b[2m208\u001b[0m\u001b]8;;\u001b\\\n"
      ]
     },
     "metadata": {},
     "output_type": "display_data"
    },
    {
     "data": {
      "text/html": [
       "<pre style=\"white-space:pre;overflow-x:auto;line-height:normal;font-family:Menlo,'DejaVu Sans Mono',consolas,'Courier New',monospace\"><span style=\"color: #7fbfbf; text-decoration-color: #7fbfbf\">           </span>  - export_to_qasm_with_pennylane                                               <a href=\"file:///home/paltenmo/projects/crossplatform/analysis_and_reporting/ddmin_target_file.py\" target=\"_blank\"><span style=\"color: #7f7f7f; text-decoration-color: #7f7f7f\">ddmin_target_file.py</span></a><span style=\"color: #7f7f7f; text-decoration-color: #7f7f7f\">:</span><a href=\"file:///home/paltenmo/projects/crossplatform/analysis_and_reporting/ddmin_target_file.py#208\" target=\"_blank\"><span style=\"color: #7f7f7f; text-decoration-color: #7f7f7f\">208</span></a>\n",
       "</pre>\n"
      ],
      "text/plain": [
       "\u001b[2;36m          \u001b[0m\u001b[2;36m \u001b[0m  - export_to_qasm_with_pennylane                                               \u001b]8;id=314884;file:///home/paltenmo/projects/crossplatform/analysis_and_reporting/ddmin_target_file.py\u001b\\\u001b[2mddmin_target_file.py\u001b[0m\u001b]8;;\u001b\\\u001b[2m:\u001b[0m\u001b]8;id=646698;file:///home/paltenmo/projects/crossplatform/analysis_and_reporting/ddmin_target_file.py#208\u001b\\\u001b[2m208\u001b[0m\u001b]8;;\u001b\\\n"
      ]
     },
     "metadata": {},
     "output_type": "display_data"
    },
    {
     "data": {
      "text/html": [
       "<pre style=\"white-space:pre;overflow-x:auto;line-height:normal;font-family:Menlo,'DejaVu Sans Mono',consolas,'Courier New',monospace\"><span style=\"color: #7fbfbf; text-decoration-color: #7fbfbf\">           </span>  - export_to_qasm_with_pytket                                                  <a href=\"file:///home/paltenmo/projects/crossplatform/analysis_and_reporting/ddmin_target_file.py\" target=\"_blank\"><span style=\"color: #7f7f7f; text-decoration-color: #7f7f7f\">ddmin_target_file.py</span></a><span style=\"color: #7f7f7f; text-decoration-color: #7f7f7f\">:</span><a href=\"file:///home/paltenmo/projects/crossplatform/analysis_and_reporting/ddmin_target_file.py#208\" target=\"_blank\"><span style=\"color: #7f7f7f; text-decoration-color: #7f7f7f\">208</span></a>\n",
       "</pre>\n"
      ],
      "text/plain": [
       "\u001b[2;36m          \u001b[0m\u001b[2;36m \u001b[0m  - export_to_qasm_with_pytket                                                  \u001b]8;id=423907;file:///home/paltenmo/projects/crossplatform/analysis_and_reporting/ddmin_target_file.py\u001b\\\u001b[2mddmin_target_file.py\u001b[0m\u001b]8;;\u001b\\\u001b[2m:\u001b[0m\u001b]8;id=70956;file:///home/paltenmo/projects/crossplatform/analysis_and_reporting/ddmin_target_file.py#208\u001b\\\u001b[2m208\u001b[0m\u001b]8;;\u001b\\\n"
      ]
     },
     "metadata": {},
     "output_type": "display_data"
    },
    {
     "name": "stdout",
     "output_type": "stream",
     "text": [
      "Error parsing: Command 'python /workspace/to_execute.py' in image 'qiskit_runner' returned non-zero exit status 1: b'Traceback (most recent call last):\\n  File \"/workspace/to_execute.py\", line 123, in <module>\\n    target_qc = qc\\nNameError: name \\'qc\\' is not defined\\n'\n",
      "Failed to execute to_execute.py in Docker.\n",
      "Output: Saved the PennyLane circuit to /workspace/to_execute_qc_pennylane.qasm\n",
      "Saved the Pytket circuit to /workspace/to_execute_qc_pytket.qasm\n",
      "Exported QASM files: [('/workspace/to_execute_qc_pennylane.qasm', 'export_to_qasm_with_pennylane'), ('/workspace/to_execute_qc_pytket.qasm', 'export_to_qasm_with_pytket')]\n",
      "Log has been saved to /workspace/to_execute_a7d214_error.json\n",
      "\n",
      "Program to_execute.py executed successfully.\n",
      "New exception message: The circuits are not equivalent: /workspace/to_execute_qc_pennylane.qasm, /workspace/to_execute_qc_pytket.qasm\n",
      "Error parsing: Command 'python /workspace/to_execute.py' in image 'qiskit_runner' returned non-zero exit status 1: b'  File \"/workspace/to_execute.py\", line 19\\n    , custom_instructions=qasm2.LEGACY_CUSTOM_INSTRUCTIONS)\\n                                                          ^\\nSyntaxError: unmatched \\')\\'\\n'\n",
      "Failed to execute to_execute.py in Docker.\n",
      "Error parsing: Command 'python /workspace/to_execute.py' in image 'qiskit_runner' returned non-zero exit status 1: b'  File \"/workspace/to_execute.py\", line 10\\n    qc = qasm2.loads(\\n                    ^\\nSyntaxError: \\'(\\' was never closed\\n'\n",
      "Failed to execute to_execute.py in Docker.\n",
      "Error parsing: Command 'python /workspace/to_execute.py' in image 'qiskit_runner' returned non-zero exit status 1: b'  File \"/workspace/to_execute.py\", line 24\\n    , custom_instructions=qasm2.LEGACY_CUSTOM_INSTRUCTIONS)\\n                                                          ^\\nSyntaxError: unmatched \\')\\'\\n'\n",
      "Failed to execute to_execute.py in Docker.\n",
      "Error parsing: Command 'python /workspace/to_execute.py' in image 'qiskit_runner' returned non-zero exit status 1: b'Traceback (most recent call last):\\n  File \"/workspace/to_execute.py\", line 10, in <module>\\n    qc = qasm2.loads(\\n  File \"/usr/local/lib/python3.10/site-packages/qiskit/qasm2/__init__.py\", line 587, in loads\\n    return _parse.from_bytecode(\\n  File \"/usr/local/lib/python3.10/site-packages/qiskit/qasm2/parse.py\", line 214, in from_bytecode\\n    for op in bc:\\nqiskit.qasm2.exceptions.QASM2ParseError: \"<input>:5,11: \\'b\\' is not defined in this scope\"\\n'\n",
      "Failed to execute to_execute.py in Docker.\n",
      "Output: Saved the PennyLane circuit to /workspace/to_execute_qc_pennylane.qasm\n",
      "Saved the Pytket circuit to /workspace/to_execute_qc_pytket.qasm\n",
      "Exported QASM files: [('/workspace/to_execute_qc_pennylane.qasm', 'export_to_qasm_with_pennylane'), ('/workspace/to_execute_qc_pytket.qasm', 'export_to_qasm_with_pytket')]\n",
      "Log has been saved to /workspace/to_execute_d3c9ee_error.json\n",
      "\n",
      "Program to_execute.py executed successfully.\n",
      "New exception message: The circuits are not equivalent: /workspace/to_execute_qc_pennylane.qasm, /workspace/to_execute_qc_pytket.qasm\n",
      "Error parsing: Command 'python /workspace/to_execute.py' in image 'qiskit_runner' returned non-zero exit status 1: b'  File \"/workspace/to_execute.py\", line 18\\n    , custom_instructions=qasm2.LEGACY_CUSTOM_INSTRUCTIONS)\\n                                                          ^\\nSyntaxError: unmatched \\')\\'\\n'\n",
      "Failed to execute to_execute.py in Docker.\n",
      "Error parsing: Command 'python /workspace/to_execute.py' in image 'qiskit_runner' returned non-zero exit status 1: b'Traceback (most recent call last):\\n  File \"/workspace/to_execute.py\", line 10, in <module>\\n    qc = qasm2.loads(\\n  File \"/usr/local/lib/python3.10/site-packages/qiskit/qasm2/__init__.py\", line 587, in loads\\n    return _parse.from_bytecode(\\n  File \"/usr/local/lib/python3.10/site-packages/qiskit/qasm2/parse.py\", line 214, in from_bytecode\\n    for op in bc:\\nqiskit.qasm2.exceptions.QASM2ParseError: \"<input>:4,3: \\'a\\' is not defined in this scope\"\\n'\n",
      "Failed to execute to_execute.py in Docker.\n",
      "Error parsing: Command 'python /workspace/to_execute.py' in image 'qiskit_runner' returned non-zero exit status 1: b'  File \"/workspace/to_execute.py\", line 10\\n    qc = qasm2.loads(\\n                    ^\\nSyntaxError: \\'(\\' was never closed\\n'\n",
      "Failed to execute to_execute.py in Docker.\n",
      "Error parsing: Command 'python /workspace/to_execute.py' in image 'qiskit_runner' returned non-zero exit status 1: b'  File \"/workspace/to_execute.py\", line 20\\n    , custom_instructions=qasm2.LEGACY_CUSTOM_INSTRUCTIONS)\\n                                                          ^\\nSyntaxError: unmatched \\')\\'\\n'\n",
      "Failed to execute to_execute.py in Docker.\n",
      "Error parsing: Command 'python /workspace/to_execute.py' in image 'qiskit_runner' returned non-zero exit status 1: b'Traceback (most recent call last):\\n  File \"/workspace/to_execute.py\", line 10, in <module>\\n    qc = qasm2.loads(\\n  File \"/usr/local/lib/python3.10/site-packages/qiskit/qasm2/__init__.py\", line 587, in loads\\n    return _parse.from_bytecode(\\n  File \"/usr/local/lib/python3.10/site-packages/qiskit/qasm2/parse.py\", line 214, in from_bytecode\\n    for op in bc:\\nqiskit.qasm2.exceptions.QASM2ParseError: \"<input>:6,0: cannot use non-builtin custom instruction \\'cx\\' before definition\"\\n'\n",
      "Failed to execute to_execute.py in Docker.\n",
      "Error parsing: Command 'python /workspace/to_execute.py' in image 'qiskit_runner' returned non-zero exit status 1: b'Traceback (most recent call last):\\n  File \"/workspace/to_execute.py\", line 10, in <module>\\n    qc = qasm2.loads(\\n  File \"/usr/local/lib/python3.10/site-packages/qiskit/qasm2/__init__.py\", line 587, in loads\\n    return _parse.from_bytecode(\\n  File \"/usr/local/lib/python3.10/site-packages/qiskit/qasm2/parse.py\", line 214, in from_bytecode\\n    for op in bc:\\nqiskit.qasm2.exceptions.QASM2ParseError: \"<input>:5,3: \\'a\\' is not defined in this scope\"\\n'\n",
      "Failed to execute to_execute.py in Docker.\n",
      "Output: Saved the PennyLane circuit to /workspace/to_execute_qc_pennylane.qasm\n",
      "Saved the Pytket circuit to /workspace/to_execute_qc_pytket.qasm\n",
      "Exported QASM files: [('/workspace/to_execute_qc_pennylane.qasm', 'export_to_qasm_with_pennylane'), ('/workspace/to_execute_qc_pytket.qasm', 'export_to_qasm_with_pytket')]\n",
      "Log has been saved to /workspace/to_execute_e4716d_error.json\n",
      "\n",
      "Program to_execute.py executed successfully.\n",
      "New exception message: The circuits are not equivalent: /workspace/to_execute_qc_pennylane.qasm, /workspace/to_execute_qc_pytket.qasm\n",
      "Error parsing: Command 'python /workspace/to_execute.py' in image 'qiskit_runner' returned non-zero exit status 1: b'  File \"/workspace/to_execute.py\", line 18\\n    , custom_instructions=qasm2.LEGACY_CUSTOM_INSTRUCTIONS)\\n                                                          ^\\nSyntaxError: unmatched \\')\\'\\n'\n",
      "Failed to execute to_execute.py in Docker.\n",
      "Error parsing: Command 'python /workspace/to_execute.py' in image 'qiskit_runner' returned non-zero exit status 1: b'Traceback (most recent call last):\\n  File \"/workspace/to_execute.py\", line 10, in <module>\\n    qc = qasm2.loads(\\n  File \"/usr/local/lib/python3.10/site-packages/qiskit/qasm2/__init__.py\", line 587, in loads\\n    return _parse.from_bytecode(\\n  File \"/usr/local/lib/python3.10/site-packages/qiskit/qasm2/parse.py\", line 214, in from_bytecode\\n    for op in bc:\\nqiskit.qasm2.exceptions.QASM2ParseError: \"<input>:4,0: cannot use non-builtin custom instruction \\'cx\\' before definition\"\\n'\n",
      "Failed to execute to_execute.py in Docker.\n",
      "Error parsing: Command 'python /workspace/to_execute.py' in image 'qiskit_runner' returned non-zero exit status 1: b'Traceback (most recent call last):\\n  File \"/workspace/to_execute.py\", line 10, in <module>\\n    qc = qasm2.loads(\\n  File \"/usr/local/lib/python3.10/site-packages/qiskit/qasm2/__init__.py\", line 587, in loads\\n    return _parse.from_bytecode(\\n  File \"/usr/local/lib/python3.10/site-packages/qiskit/qasm2/parse.py\", line 214, in from_bytecode\\n    for op in bc:\\nqiskit.qasm2.exceptions.QASM2ParseError: \"<input>:5,3: \\'a\\' is not defined in this scope\"\\n'\n",
      "Failed to execute to_execute.py in Docker.\n",
      "Output: Saved the PennyLane circuit to /workspace/to_execute_qc_pennylane.qasm\n",
      "Saved the Pytket circuit to /workspace/to_execute_qc_pytket.qasm\n",
      "Exported QASM files: [('/workspace/to_execute_qc_pennylane.qasm', 'export_to_qasm_with_pennylane'), ('/workspace/to_execute_qc_pytket.qasm', 'export_to_qasm_with_pytket')]\n",
      "The circuits are equivalent: /workspace/to_execute_qc_pennylane.qasm, /workspace/to_execute_qc_pytket.qasm\n",
      "\n",
      "Program to_execute.py executed successfully.\n",
      "Error parsing: Command 'python /workspace/to_execute.py' in image 'qiskit_runner' returned non-zero exit status 1: b'  File \"/workspace/to_execute.py\", line 10\\n    qc = qasm2.loads(\\n                    ^\\nSyntaxError: \\'(\\' was never closed\\n'\n",
      "Failed to execute to_execute.py in Docker.\n",
      "Error parsing: Command 'python /workspace/to_execute.py' in image 'qiskit_runner' returned non-zero exit status 1: b'  File \"/workspace/to_execute.py\", line 21\\n    , custom_instructions=qasm2.LEGACY_CUSTOM_INSTRUCTIONS)\\nIndentationError: unexpected indent\\n'\n",
      "Failed to execute to_execute.py in Docker.\n",
      "Output: Saved the PennyLane circuit to /workspace/to_execute_qc_pennylane.qasm\n",
      "Saved the Pytket circuit to /workspace/to_execute_qc_pytket.qasm\n",
      "Exported QASM files: [('/workspace/to_execute_qc_pennylane.qasm', 'export_to_qasm_with_pennylane'), ('/workspace/to_execute_qc_pytket.qasm', 'export_to_qasm_with_pytket')]\n",
      "Log has been saved to /workspace/to_execute_04d3c2_error.json\n",
      "\n",
      "Program to_execute.py executed successfully.\n",
      "New exception message: The circuits are not equivalent: /workspace/to_execute_qc_pennylane.qasm, /workspace/to_execute_qc_pytket.qasm\n",
      "Error parsing: Command 'python /workspace/to_execute.py' in image 'qiskit_runner' returned non-zero exit status 1: b'  File \"/workspace/to_execute.py\", line 20\\n    , custom_instructions=qasm2.LEGACY_CUSTOM_INSTRUCTIONS)\\nIndentationError: unexpected indent\\n'\n",
      "Failed to execute to_execute.py in Docker.\n",
      "Error parsing: Command 'python /workspace/to_execute.py' in image 'qiskit_runner' returned non-zero exit status 1: b'  File \"/workspace/to_execute.py\", line 11\\n    OPENQASM 2.0;\\n    ^^^^^^^^^^^^\\nSyntaxError: invalid syntax. Perhaps you forgot a comma?\\n'\n",
      "Failed to execute to_execute.py in Docker.\n",
      "Output: Saved the PennyLane circuit to /workspace/to_execute_qc_pennylane.qasm\n",
      "Saved the Pytket circuit to /workspace/to_execute_qc_pytket.qasm\n",
      "Exported QASM files: [('/workspace/to_execute_qc_pennylane.qasm', 'export_to_qasm_with_pennylane'), ('/workspace/to_execute_qc_pytket.qasm', 'export_to_qasm_with_pytket')]\n",
      "Log has been saved to /workspace/to_execute_8a237b_error.json\n",
      "\n",
      "Program to_execute.py executed successfully.\n",
      "New exception message: The circuits are not equivalent: /workspace/to_execute_qc_pennylane.qasm, /workspace/to_execute_qc_pytket.qasm\n",
      "Error parsing: Command 'python /workspace/to_execute.py' in image 'qiskit_runner' returned non-zero exit status 1: b'  File \"/workspace/to_execute.py\", line 19\\n    , custom_instructions=qasm2.LEGACY_CUSTOM_INSTRUCTIONS)\\nIndentationError: unexpected indent\\n'\n",
      "Failed to execute to_execute.py in Docker.\n",
      "Error parsing: Command 'python /workspace/to_execute.py' in image 'qiskit_runner' returned non-zero exit status 1: b'  File \"/workspace/to_execute.py\", line 11\\n    include \"qelib1.inc\";\\n            ^^^^^^^^^^^^\\nSyntaxError: invalid syntax\\n'\n",
      "Failed to execute to_execute.py in Docker.\n",
      "Error parsing: Command 'python /workspace/to_execute.py' in image 'qiskit_runner' returned non-zero exit status 1: b'Traceback (most recent call last):\\n  File \"/workspace/to_execute.py\", line 10, in <module>\\n    qc = qasm2.loads(\\n  File \"/usr/local/lib/python3.10/site-packages/qiskit/qasm2/__init__.py\", line 587, in loads\\n    return _parse.from_bytecode(\\n  File \"/usr/local/lib/python3.10/site-packages/qiskit/qasm2/parse.py\", line 214, in from_bytecode\\n    for op in bc:\\nqiskit.qasm2.exceptions.QASM2ParseError: \"<input>:4,0: cannot use non-builtin custom instruction \\'cx\\' before definition\"\\n'\n",
      "Failed to execute to_execute.py in Docker.\n",
      "Error parsing: Command 'python /workspace/to_execute.py' in image 'qiskit_runner' returned non-zero exit status 1: b'Traceback (most recent call last):\\n  File \"/workspace/to_execute.py\", line 10, in <module>\\n    qc = qasm2.loads(\\n  File \"/usr/local/lib/python3.10/site-packages/qiskit/qasm2/__init__.py\", line 587, in loads\\n    return _parse.from_bytecode(\\n  File \"/usr/local/lib/python3.10/site-packages/qiskit/qasm2/parse.py\", line 214, in from_bytecode\\n    for op in bc:\\nqiskit.qasm2.exceptions.QASM2ParseError: \"<input>:5,3: \\'a\\' is not defined in this scope\"\\n'\n",
      "Failed to execute to_execute.py in Docker.\n",
      "Error parsing: Command 'python /workspace/to_execute.py' in image 'qiskit_runner' returned non-zero exit status 1: b'Traceback (most recent call last):\\n  File \"/workspace/to_execute.py\", line 10, in <module>\\n    qc = qasm2.loads(\\n  File \"/usr/local/lib/python3.10/site-packages/qiskit/qasm2/__init__.py\", line 587, in loads\\n    return _parse.from_bytecode(\\n  File \"/usr/local/lib/python3.10/site-packages/qiskit/qasm2/parse.py\", line 214, in from_bytecode\\n    for op in bc:\\nqiskit.qasm2.exceptions.QASM2ParseError: \"<input>:5,8: \\'b\\' is not defined in this scope\"\\n'\n",
      "Failed to execute to_execute.py in Docker.\n",
      "Output: Saved the PennyLane circuit to /workspace/to_execute_qc_pennylane.qasm\n",
      "Saved the Pytket circuit to /workspace/to_execute_qc_pytket.qasm\n",
      "Exported QASM files: [('/workspace/to_execute_qc_pennylane.qasm', 'export_to_qasm_with_pennylane'), ('/workspace/to_execute_qc_pytket.qasm', 'export_to_qasm_with_pytket')]\n",
      "Log has been saved to /workspace/to_execute_0e8513_error.json\n",
      "\n",
      "Program to_execute.py executed successfully.\n",
      "New exception message: The circuits are not equivalent: /workspace/to_execute_qc_pennylane.qasm, /workspace/to_execute_qc_pytket.qasm\n",
      "Error parsing: Command 'python /workspace/to_execute.py' in image 'qiskit_runner' returned non-zero exit status 1: b'  File \"/workspace/to_execute.py\", line 18\\n    , custom_instructions=qasm2.LEGACY_CUSTOM_INSTRUCTIONS)\\nIndentationError: unexpected indent\\n'\n",
      "Failed to execute to_execute.py in Docker.\n",
      "Error parsing: Command 'python /workspace/to_execute.py' in image 'qiskit_runner' returned non-zero exit status 1: b'  File \"/workspace/to_execute.py\", line 11\\n    qreg cin[1];\\n    ^^^^^^^^^^^\\nSyntaxError: invalid syntax. Perhaps you forgot a comma?\\n'\n",
      "Failed to execute to_execute.py in Docker.\n",
      "Error parsing: Command 'python /workspace/to_execute.py' in image 'qiskit_runner' returned non-zero exit status 1: b'Traceback (most recent call last):\\n  File \"/workspace/to_execute.py\", line 10, in <module>\\n    qc = qasm2.loads(\\n  File \"/usr/local/lib/python3.10/site-packages/qiskit/qasm2/__init__.py\", line 587, in loads\\n    return _parse.from_bytecode(\\n  File \"/usr/local/lib/python3.10/site-packages/qiskit/qasm2/parse.py\", line 214, in from_bytecode\\n    for op in bc:\\nqiskit.qasm2.exceptions.QASM2ParseError: \"<input>:5,8: \\'cin\\' is not defined in this scope\"\\n'\n",
      "Failed to execute to_execute.py in Docker.\n",
      "Error parsing: Command 'python /workspace/to_execute.py' in image 'qiskit_runner' returned non-zero exit status 1: b'Traceback (most recent call last):\\n  File \"/workspace/to_execute.py\", line 10, in <module>\\n    qc = qasm2.loads(\\n  File \"/usr/local/lib/python3.10/site-packages/qiskit/qasm2/__init__.py\", line 587, in loads\\n    return _parse.from_bytecode(\\n  File \"/usr/local/lib/python3.10/site-packages/qiskit/qasm2/parse.py\", line 214, in from_bytecode\\n    for op in bc:\\nqiskit.qasm2.exceptions.QASM2ParseError: \"<input>:4,3: \\'a\\' is not defined in this scope\"\\n'\n",
      "Failed to execute to_execute.py in Docker.\n",
      "Output: Saved the PennyLane circuit to /workspace/to_execute_qc_pennylane.qasm\n",
      "Saved the Pytket circuit to /workspace/to_execute_qc_pytket.qasm\n",
      "Exported QASM files: [('/workspace/to_execute_qc_pennylane.qasm', 'export_to_qasm_with_pennylane'), ('/workspace/to_execute_qc_pytket.qasm', 'export_to_qasm_with_pytket')]\n",
      "The circuits are equivalent: /workspace/to_execute_qc_pennylane.qasm, /workspace/to_execute_qc_pytket.qasm\n",
      "\n",
      "Program to_execute.py executed successfully.\n",
      "Error parsing: Command 'python /workspace/to_execute.py' in image 'qiskit_runner' returned non-zero exit status 1: b'  File \"/workspace/to_execute.py\", line 11\\n    include \"qelib1.inc\";\\n            ^^^^^^^^^^^^\\nSyntaxError: invalid syntax\\n'\n",
      "Failed to execute to_execute.py in Docker.\n",
      "Error parsing: Command 'python /workspace/to_execute.py' in image 'qiskit_runner' returned non-zero exit status 1: b'  File \"/workspace/to_execute.py\", line 10\\n    qc = qasm2.loads(\\n                    ^\\nSyntaxError: \\'(\\' was never closed\\n'\n",
      "Failed to execute to_execute.py in Docker.\n",
      "Error parsing: Command 'python /workspace/to_execute.py' in image 'qiskit_runner' returned non-zero exit status 1: b'  File \"/workspace/to_execute.py\", line 18\\n    , custom_instructions=qasm2.LEGACY_CUSTOM_INSTRUCTIONS)\\nIndentationError: unexpected indent\\n'\n",
      "Failed to execute to_execute.py in Docker.\n",
      "Error parsing: Command 'python /workspace/to_execute.py' in image 'qiskit_runner' returned non-zero exit status 1: b'  File \"/workspace/to_execute.py\", line 11\\n    include \"qelib1.inc\";\\n            ^^^^^^^^^^^^\\nSyntaxError: invalid syntax\\n'\n",
      "Failed to execute to_execute.py in Docker.\n",
      "Error parsing: Command 'python /workspace/to_execute.py' in image 'qiskit_runner' returned non-zero exit status 1: b'Traceback (most recent call last):\\n  File \"/workspace/to_execute.py\", line 10, in <module>\\n    qc = qasm2.loads(\\n  File \"/usr/local/lib/python3.10/site-packages/qiskit/qasm2/__init__.py\", line 587, in loads\\n    return _parse.from_bytecode(\\n  File \"/usr/local/lib/python3.10/site-packages/qiskit/qasm2/parse.py\", line 214, in from_bytecode\\n    for op in bc:\\nqiskit.qasm2.exceptions.QASM2ParseError: \"<input>:5,0: cannot use non-builtin custom instruction \\'cx\\' before definition\"\\n'\n",
      "Failed to execute to_execute.py in Docker.\n",
      "Error parsing: Command 'python /workspace/to_execute.py' in image 'qiskit_runner' returned non-zero exit status 1: b'Traceback (most recent call last):\\n  File \"/workspace/to_execute.py\", line 10, in <module>\\n    qc = qasm2.loads(\\n  File \"/usr/local/lib/python3.10/site-packages/qiskit/qasm2/__init__.py\", line 587, in loads\\n    return _parse.from_bytecode(\\n  File \"/usr/local/lib/python3.10/site-packages/qiskit/qasm2/parse.py\", line 214, in from_bytecode\\n    for op in bc:\\nqiskit.qasm2.exceptions.QASM2ParseError: \"<input>:5,8: \\'cin\\' is not defined in this scope\"\\n'\n",
      "Failed to execute to_execute.py in Docker.\n",
      "Error parsing: Command 'python /workspace/to_execute.py' in image 'qiskit_runner' returned non-zero exit status 1: b'Traceback (most recent call last):\\n  File \"/workspace/to_execute.py\", line 10, in <module>\\n    qc = qasm2.loads(\\n  File \"/usr/local/lib/python3.10/site-packages/qiskit/qasm2/__init__.py\", line 587, in loads\\n    return _parse.from_bytecode(\\n  File \"/usr/local/lib/python3.10/site-packages/qiskit/qasm2/parse.py\", line 214, in from_bytecode\\n    for op in bc:\\nqiskit.qasm2.exceptions.QASM2ParseError: \"<input>:5,3: \\'a\\' is not defined in this scope\"\\n'\n",
      "Failed to execute to_execute.py in Docker.\n",
      "Output: Saved the PennyLane circuit to /workspace/to_execute_qc_pennylane.qasm\n",
      "Saved the Pytket circuit to /workspace/to_execute_qc_pytket.qasm\n",
      "Exported QASM files: [('/workspace/to_execute_qc_pennylane.qasm', 'export_to_qasm_with_pennylane'), ('/workspace/to_execute_qc_pytket.qasm', 'export_to_qasm_with_pytket')]\n",
      "Log has been saved to /workspace/to_execute_83acc4_error.json\n",
      "\n",
      "Program to_execute.py executed successfully.\n",
      "New exception message: The circuits are not equivalent: /workspace/to_execute_qc_pennylane.qasm, /workspace/to_execute_qc_pytket.qasm\n",
      "Error parsing: Command 'python /workspace/to_execute.py' in image 'qiskit_runner' returned non-zero exit status 1: b'  File \"/workspace/to_execute.py\", line 17\\n    , custom_instructions=qasm2.LEGACY_CUSTOM_INSTRUCTIONS)\\nIndentationError: unexpected indent\\n'\n",
      "Failed to execute to_execute.py in Docker.\n",
      "Error parsing: Command 'python /workspace/to_execute.py' in image 'qiskit_runner' returned non-zero exit status 1: b'  File \"/workspace/to_execute.py\", line 11\\n    include \"qelib1.inc\";\\n            ^^^^^^^^^^^^\\nSyntaxError: invalid syntax\\n'\n",
      "Failed to execute to_execute.py in Docker.\n",
      "Error parsing: Command 'python /workspace/to_execute.py' in image 'qiskit_runner' returned non-zero exit status 1: b'Traceback (most recent call last):\\n  File \"/workspace/to_execute.py\", line 10, in <module>\\n    qc = qasm2.loads(\\n  File \"/usr/local/lib/python3.10/site-packages/qiskit/qasm2/__init__.py\", line 587, in loads\\n    return _parse.from_bytecode(\\n  File \"/usr/local/lib/python3.10/site-packages/qiskit/qasm2/parse.py\", line 214, in from_bytecode\\n    for op in bc:\\nqiskit.qasm2.exceptions.QASM2ParseError: \"<input>:4,0: cannot use non-builtin custom instruction \\'cx\\' before definition\"\\n'\n",
      "Failed to execute to_execute.py in Docker.\n",
      "Error parsing: Command 'python /workspace/to_execute.py' in image 'qiskit_runner' returned non-zero exit status 1: b'Traceback (most recent call last):\\n  File \"/workspace/to_execute.py\", line 10, in <module>\\n    qc = qasm2.loads(\\n  File \"/usr/local/lib/python3.10/site-packages/qiskit/qasm2/__init__.py\", line 587, in loads\\n    return _parse.from_bytecode(\\n  File \"/usr/local/lib/python3.10/site-packages/qiskit/qasm2/parse.py\", line 214, in from_bytecode\\n    for op in bc:\\nqiskit.qasm2.exceptions.QASM2ParseError: \"<input>:4,8: \\'cin\\' is not defined in this scope\"\\n'\n",
      "Failed to execute to_execute.py in Docker.\n",
      "Error parsing: Command 'python /workspace/to_execute.py' in image 'qiskit_runner' returned non-zero exit status 1: b'Traceback (most recent call last):\\n  File \"/workspace/to_execute.py\", line 10, in <module>\\n    qc = qasm2.loads(\\n  File \"/usr/local/lib/python3.10/site-packages/qiskit/qasm2/__init__.py\", line 587, in loads\\n    return _parse.from_bytecode(\\n  File \"/usr/local/lib/python3.10/site-packages/qiskit/qasm2/parse.py\", line 214, in from_bytecode\\n    for op in bc:\\nqiskit.qasm2.exceptions.QASM2ParseError: \"<input>:4,3: \\'a\\' is not defined in this scope\"\\n'\n",
      "Failed to execute to_execute.py in Docker.\n",
      "Output: Saved the PennyLane circuit to /workspace/to_execute_qc_pennylane.qasm\n",
      "Saved the Pytket circuit to /workspace/to_execute_qc_pytket.qasm\n",
      "Exported QASM files: [('/workspace/to_execute_qc_pennylane.qasm', 'export_to_qasm_with_pennylane'), ('/workspace/to_execute_qc_pytket.qasm', 'export_to_qasm_with_pytket')]\n",
      "The circuits are equivalent: /workspace/to_execute_qc_pennylane.qasm, /workspace/to_execute_qc_pytket.qasm\n",
      "\n",
      "Program to_execute.py executed successfully.\n",
      "Output: Saved the PennyLane circuit to /workspace/to_execute_qc_pennylane.qasm\n",
      "Saved the Pytket circuit to /workspace/to_execute_qc_pytket.qasm\n",
      "Exported QASM files: [('/workspace/to_execute_qc_pennylane.qasm', 'export_to_qasm_with_pennylane'), ('/workspace/to_execute_qc_pytket.qasm', 'export_to_qasm_with_pytket')]\n",
      "Log has been saved to /workspace/to_execute_2450a6_error.json\n",
      "\n",
      "Program to_execute.py executed successfully.\n",
      "New exception message: The circuits are not equivalent: /workspace/to_execute_qc_pennylane.qasm, /workspace/to_execute_qc_pytket.qasm\n",
      "Error parsing: Command 'python /workspace/to_execute.py' in image 'qiskit_runner' returned non-zero exit status 1: b'  File \"/workspace/to_execute.py\", line 16\\n    , custom_instructions=qasm2.LEGACY_CUSTOM_INSTRUCTIONS)\\nIndentationError: unexpected indent\\n'\n",
      "Failed to execute to_execute.py in Docker.\n",
      "Error parsing: Command 'python /workspace/to_execute.py' in image 'qiskit_runner' returned non-zero exit status 1: b'  File \"/workspace/to_execute.py\", line 11\\n    include \"qelib1.inc\";\\n            ^^^^^^^^^^^^\\nSyntaxError: invalid syntax\\n'\n",
      "Failed to execute to_execute.py in Docker.\n",
      "Error parsing: Command 'python /workspace/to_execute.py' in image 'qiskit_runner' returned non-zero exit status 1: b'Traceback (most recent call last):\\n  File \"/workspace/to_execute.py\", line 10, in <module>\\n    qc = qasm2.loads(\\n  File \"/usr/local/lib/python3.10/site-packages/qiskit/qasm2/__init__.py\", line 587, in loads\\n    return _parse.from_bytecode(\\n  File \"/usr/local/lib/python3.10/site-packages/qiskit/qasm2/parse.py\", line 214, in from_bytecode\\n    for op in bc:\\nqiskit.qasm2.exceptions.QASM2ParseError: \"<input>:4,0: cannot use non-builtin custom instruction \\'cx\\' before definition\"\\n'\n",
      "Failed to execute to_execute.py in Docker.\n",
      "Error parsing: Command 'python /workspace/to_execute.py' in image 'qiskit_runner' returned non-zero exit status 1: b'Traceback (most recent call last):\\n  File \"/workspace/to_execute.py\", line 10, in <module>\\n    qc = qasm2.loads(\\n  File \"/usr/local/lib/python3.10/site-packages/qiskit/qasm2/__init__.py\", line 587, in loads\\n    return _parse.from_bytecode(\\n  File \"/usr/local/lib/python3.10/site-packages/qiskit/qasm2/parse.py\", line 214, in from_bytecode\\n    for op in bc:\\nqiskit.qasm2.exceptions.QASM2ParseError: \"<input>:4,8: \\'cin\\' is not defined in this scope\"\\n'\n",
      "Failed to execute to_execute.py in Docker.\n",
      "Error parsing: Command 'python /workspace/to_execute.py' in image 'qiskit_runner' returned non-zero exit status 1: b'Traceback (most recent call last):\\n  File \"/workspace/to_execute.py\", line 10, in <module>\\n    qc = qasm2.loads(\\n  File \"/usr/local/lib/python3.10/site-packages/qiskit/qasm2/__init__.py\", line 587, in loads\\n    return _parse.from_bytecode(\\n  File \"/usr/local/lib/python3.10/site-packages/qiskit/qasm2/parse.py\", line 214, in from_bytecode\\n    for op in bc:\\nqiskit.qasm2.exceptions.QASM2ParseError: \"<input>:4,3: \\'a\\' is not defined in this scope\"\\n'\n",
      "Failed to execute to_execute.py in Docker.\n",
      "Output: Saved the PennyLane circuit to /workspace/to_execute_qc_pennylane.qasm\n",
      "Saved the Pytket circuit to /workspace/to_execute_qc_pytket.qasm\n",
      "Exported QASM files: [('/workspace/to_execute_qc_pennylane.qasm', 'export_to_qasm_with_pennylane'), ('/workspace/to_execute_qc_pytket.qasm', 'export_to_qasm_with_pytket')]\n",
      "The circuits are equivalent: /workspace/to_execute_qc_pennylane.qasm, /workspace/to_execute_qc_pytket.qasm\n",
      "\n",
      "Program to_execute.py executed successfully.\n",
      "Error parsing: Command 'python /workspace/to_execute.py' in image 'qiskit_runner' returned non-zero exit status 1: b'  File \"/workspace/to_execute.py\", line 11\\n    include \"qelib1.inc\";\\n            ^^^^^^^^^^^^\\nSyntaxError: invalid syntax\\n'\n",
      "Failed to execute to_execute.py in Docker.\n",
      "Error parsing: Command 'python /workspace/to_execute.py' in image 'qiskit_runner' returned non-zero exit status 1: b'  File \"/workspace/to_execute.py\", line 10\\n    qc = qasm2.loads(\\n                    ^\\nSyntaxError: \\'(\\' was never closed\\n'\n",
      "Failed to execute to_execute.py in Docker.\n"
     ]
    },
    {
     "data": {
      "text/html": [
       "<pre style=\"white-space:pre;overflow-x:auto;line-height:normal;font-family:Menlo,'DejaVu Sans Mono',consolas,'Courier New',monospace\"><span style=\"color: #7fbfbf; text-decoration-color: #7fbfbf\">[15:32:21] </span><span style=\"color: #008000; text-decoration-color: #008000\">Minimized file saved as:</span>                                                        <a href=\"file:///home/paltenmo/projects/crossplatform/analysis_and_reporting/ddmin_target_file.py\" target=\"_blank\"><span style=\"color: #7f7f7f; text-decoration-color: #7f7f7f\">ddmin_target_file.py</span></a><span style=\"color: #7f7f7f; text-decoration-color: #7f7f7f\">:</span><a href=\"file:///home/paltenmo/projects/crossplatform/analysis_and_reporting/ddmin_target_file.py#240\" target=\"_blank\"><span style=\"color: #7f7f7f; text-decoration-color: #7f7f7f\">240</span></a>\n",
       "<span style=\"color: #7fbfbf; text-decoration-color: #7fbfbf\">           </span>..<span style=\"color: #800080; text-decoration-color: #800080\">/program_bank/v007/2024_10_31__17_51__qiskit/</span><span style=\"color: #ff00ff; text-decoration-color: #ff00ff\">qiskit_circuit_5q_10g_24368_522f</span> <span style=\"color: #7f7f7f; text-decoration-color: #7f7f7f\">                        </span>\n",
       "<span style=\"color: #7fbfbf; text-decoration-color: #7fbfbf\">           </span><span style=\"color: #ff00ff; text-decoration-color: #ff00ff\">46_c267bd_error_min.py</span>                                                          <span style=\"color: #7f7f7f; text-decoration-color: #7f7f7f\">                        </span>\n",
       "</pre>\n"
      ],
      "text/plain": [
       "\u001b[2;36m[15:32:21]\u001b[0m\u001b[2;36m \u001b[0m\u001b[32mMinimized file saved as:\u001b[0m                                                        \u001b]8;id=672704;file:///home/paltenmo/projects/crossplatform/analysis_and_reporting/ddmin_target_file.py\u001b\\\u001b[2mddmin_target_file.py\u001b[0m\u001b]8;;\u001b\\\u001b[2m:\u001b[0m\u001b]8;id=112602;file:///home/paltenmo/projects/crossplatform/analysis_and_reporting/ddmin_target_file.py#240\u001b\\\u001b[2m240\u001b[0m\u001b]8;;\u001b\\\n",
       "\u001b[2;36m           \u001b[0m..\u001b[35m/program_bank/v007/2024_10_31__17_51__qiskit/\u001b[0m\u001b[95mqiskit_circuit_5q_10g_24368_522f\u001b[0m \u001b[2m                        \u001b[0m\n",
       "\u001b[2;36m           \u001b[0m\u001b[95m46_c267bd_error_min.py\u001b[0m                                                          \u001b[2m                        \u001b[0m\n"
      ]
     },
     "metadata": {},
     "output_type": "display_data"
    },
    {
     "name": "stdout",
     "output_type": "stream",
     "text": [
      "Running minimization for ../program_bank/v007/2024_10_31__17_51__sample_errors/qiskit_circuit_5q_10g_62099_fd6240_ba6b02_error.json\n"
     ]
    },
    {
     "data": {
      "text/html": [
       "<pre style=\"white-space:pre;overflow-x:auto;line-height:normal;font-family:Menlo,'DejaVu Sans Mono',consolas,'Courier New',monospace\"><span style=\"color: #7fbfbf; text-decoration-color: #7fbfbf\">           </span>Involved functions:                                                             <a href=\"file:///home/paltenmo/projects/crossplatform/analysis_and_reporting/ddmin_target_file.py\" target=\"_blank\"><span style=\"color: #7f7f7f; text-decoration-color: #7f7f7f\">ddmin_target_file.py</span></a><span style=\"color: #7f7f7f; text-decoration-color: #7f7f7f\">:</span><a href=\"file:///home/paltenmo/projects/crossplatform/analysis_and_reporting/ddmin_target_file.py#206\" target=\"_blank\"><span style=\"color: #7f7f7f; text-decoration-color: #7f7f7f\">206</span></a>\n",
       "</pre>\n"
      ],
      "text/plain": [
       "\u001b[2;36m          \u001b[0m\u001b[2;36m \u001b[0mInvolved functions:                                                             \u001b]8;id=448208;file:///home/paltenmo/projects/crossplatform/analysis_and_reporting/ddmin_target_file.py\u001b\\\u001b[2mddmin_target_file.py\u001b[0m\u001b]8;;\u001b\\\u001b[2m:\u001b[0m\u001b]8;id=921164;file:///home/paltenmo/projects/crossplatform/analysis_and_reporting/ddmin_target_file.py#206\u001b\\\u001b[2m206\u001b[0m\u001b]8;;\u001b\\\n"
      ]
     },
     "metadata": {},
     "output_type": "display_data"
    },
    {
     "data": {
      "text/html": [
       "<pre style=\"white-space:pre;overflow-x:auto;line-height:normal;font-family:Menlo,'DejaVu Sans Mono',consolas,'Courier New',monospace\"><span style=\"color: #7fbfbf; text-decoration-color: #7fbfbf\">           </span>  - compare_qasm_via_qcec                                                       <a href=\"file:///home/paltenmo/projects/crossplatform/analysis_and_reporting/ddmin_target_file.py\" target=\"_blank\"><span style=\"color: #7f7f7f; text-decoration-color: #7f7f7f\">ddmin_target_file.py</span></a><span style=\"color: #7f7f7f; text-decoration-color: #7f7f7f\">:</span><a href=\"file:///home/paltenmo/projects/crossplatform/analysis_and_reporting/ddmin_target_file.py#208\" target=\"_blank\"><span style=\"color: #7f7f7f; text-decoration-color: #7f7f7f\">208</span></a>\n",
       "</pre>\n"
      ],
      "text/plain": [
       "\u001b[2;36m          \u001b[0m\u001b[2;36m \u001b[0m  - compare_qasm_via_qcec                                                       \u001b]8;id=460633;file:///home/paltenmo/projects/crossplatform/analysis_and_reporting/ddmin_target_file.py\u001b\\\u001b[2mddmin_target_file.py\u001b[0m\u001b]8;;\u001b\\\u001b[2m:\u001b[0m\u001b]8;id=265707;file:///home/paltenmo/projects/crossplatform/analysis_and_reporting/ddmin_target_file.py#208\u001b\\\u001b[2m208\u001b[0m\u001b]8;;\u001b\\\n"
      ]
     },
     "metadata": {},
     "output_type": "display_data"
    },
    {
     "data": {
      "text/html": [
       "<pre style=\"white-space:pre;overflow-x:auto;line-height:normal;font-family:Menlo,'DejaVu Sans Mono',consolas,'Courier New',monospace\"><span style=\"color: #7fbfbf; text-decoration-color: #7fbfbf\">           </span>  - export_to_qasm_with_pytket                                                  <a href=\"file:///home/paltenmo/projects/crossplatform/analysis_and_reporting/ddmin_target_file.py\" target=\"_blank\"><span style=\"color: #7f7f7f; text-decoration-color: #7f7f7f\">ddmin_target_file.py</span></a><span style=\"color: #7f7f7f; text-decoration-color: #7f7f7f\">:</span><a href=\"file:///home/paltenmo/projects/crossplatform/analysis_and_reporting/ddmin_target_file.py#208\" target=\"_blank\"><span style=\"color: #7f7f7f; text-decoration-color: #7f7f7f\">208</span></a>\n",
       "</pre>\n"
      ],
      "text/plain": [
       "\u001b[2;36m          \u001b[0m\u001b[2;36m \u001b[0m  - export_to_qasm_with_pytket                                                  \u001b]8;id=925160;file:///home/paltenmo/projects/crossplatform/analysis_and_reporting/ddmin_target_file.py\u001b\\\u001b[2mddmin_target_file.py\u001b[0m\u001b]8;;\u001b\\\u001b[2m:\u001b[0m\u001b]8;id=528717;file:///home/paltenmo/projects/crossplatform/analysis_and_reporting/ddmin_target_file.py#208\u001b\\\u001b[2m208\u001b[0m\u001b]8;;\u001b\\\n"
      ]
     },
     "metadata": {},
     "output_type": "display_data"
    },
    {
     "data": {
      "text/html": [
       "<pre style=\"white-space:pre;overflow-x:auto;line-height:normal;font-family:Menlo,'DejaVu Sans Mono',consolas,'Courier New',monospace\"><span style=\"color: #7fbfbf; text-decoration-color: #7fbfbf\">           </span>  - export_to_qasm_with_qiskit                                                  <a href=\"file:///home/paltenmo/projects/crossplatform/analysis_and_reporting/ddmin_target_file.py\" target=\"_blank\"><span style=\"color: #7f7f7f; text-decoration-color: #7f7f7f\">ddmin_target_file.py</span></a><span style=\"color: #7f7f7f; text-decoration-color: #7f7f7f\">:</span><a href=\"file:///home/paltenmo/projects/crossplatform/analysis_and_reporting/ddmin_target_file.py#208\" target=\"_blank\"><span style=\"color: #7f7f7f; text-decoration-color: #7f7f7f\">208</span></a>\n",
       "</pre>\n"
      ],
      "text/plain": [
       "\u001b[2;36m          \u001b[0m\u001b[2;36m \u001b[0m  - export_to_qasm_with_qiskit                                                  \u001b]8;id=163093;file:///home/paltenmo/projects/crossplatform/analysis_and_reporting/ddmin_target_file.py\u001b\\\u001b[2mddmin_target_file.py\u001b[0m\u001b]8;;\u001b\\\u001b[2m:\u001b[0m\u001b]8;id=377855;file:///home/paltenmo/projects/crossplatform/analysis_and_reporting/ddmin_target_file.py#208\u001b\\\u001b[2m208\u001b[0m\u001b]8;;\u001b\\\n"
      ]
     },
     "metadata": {},
     "output_type": "display_data"
    },
    {
     "name": "stdout",
     "output_type": "stream",
     "text": [
      "Error parsing: Command 'python /workspace/to_execute.py' in image 'qiskit_runner' returned non-zero exit status 1: b'Traceback (most recent call last):\\n  File \"/workspace/to_execute.py\", line 105, in <module>\\n    target_qc = qc\\nNameError: name \\'qc\\' is not defined\\n'\n",
      "Failed to execute to_execute.py in Docker.\n",
      "Output: Saved the Pytket circuit to /workspace/to_execute_qc_pytket.qasm\n",
      "Saved the Qiskit circuit to /workspace/to_execute_qc_qiskit.qasm\n",
      "Exported QASM files: [('/workspace/to_execute_qc_pytket.qasm', 'export_to_qasm_with_pytket'), ('/workspace/to_execute_qc_qiskit.qasm', 'export_to_qasm_with_qiskit')]\n",
      "Log has been saved to /workspace/to_execute_0e9136_error.json\n",
      "\n",
      "Program to_execute.py executed successfully.\n",
      "New exception message: The circuits are not equivalent: /workspace/to_execute_qc_pytket.qasm, /workspace/to_execute_qc_qiskit.qasm\n",
      "Error parsing: Command 'python /workspace/to_execute.py' in image 'qiskit_runner' returned non-zero exit status 1: b'  File \"/workspace/to_execute.py\", line 17\\n    , custom_instructions=qasm2.LEGACY_CUSTOM_INSTRUCTIONS)\\n                                                          ^\\nSyntaxError: unmatched \\')\\'\\n'\n",
      "Failed to execute to_execute.py in Docker.\n",
      "Error parsing: Command 'python /workspace/to_execute.py' in image 'qiskit_runner' returned non-zero exit status 1: b'  File \"/workspace/to_execute.py\", line 10\\n    qc = qasm2.loads(\\n                    ^\\nSyntaxError: \\'(\\' was never closed\\n'\n",
      "Failed to execute to_execute.py in Docker.\n",
      "Error parsing: Command 'python /workspace/to_execute.py' in image 'qiskit_runner' returned non-zero exit status 1: b'  File \"/workspace/to_execute.py\", line 22\\n    , custom_instructions=qasm2.LEGACY_CUSTOM_INSTRUCTIONS)\\n                                                          ^\\nSyntaxError: unmatched \\')\\'\\n'\n",
      "Failed to execute to_execute.py in Docker.\n",
      "Error parsing: Command 'python /workspace/to_execute.py' in image 'qiskit_runner' returned non-zero exit status 1: b'Traceback (most recent call last):\\n  File \"/workspace/to_execute.py\", line 10, in <module>\\n    qc = qasm2.loads(\\n  File \"/usr/local/lib/python3.10/site-packages/qiskit/qasm2/__init__.py\", line 587, in loads\\n    return _parse.from_bytecode(\\n  File \"/usr/local/lib/python3.10/site-packages/qiskit/qasm2/parse.py\", line 214, in from_bytecode\\n    for op in bc:\\nqiskit.qasm2.exceptions.QASM2ParseError: \"<input>:4,3: \\'a\\' is not defined in this scope\"\\n'\n",
      "Failed to execute to_execute.py in Docker.\n",
      "Output: Saved the Pytket circuit to /workspace/to_execute_qc_pytket.qasm\n",
      "Saved the Qiskit circuit to /workspace/to_execute_qc_qiskit.qasm\n",
      "Exported QASM files: [('/workspace/to_execute_qc_pytket.qasm', 'export_to_qasm_with_pytket'), ('/workspace/to_execute_qc_qiskit.qasm', 'export_to_qasm_with_qiskit')]\n",
      "Log has been saved to /workspace/to_execute_f13a18_error.json\n",
      "\n",
      "Program to_execute.py executed successfully.\n",
      "New exception message: The circuits are not equivalent: /workspace/to_execute_qc_pytket.qasm, /workspace/to_execute_qc_qiskit.qasm\n",
      "Error parsing: Command 'python /workspace/to_execute.py' in image 'qiskit_runner' returned non-zero exit status 1: b'  File \"/workspace/to_execute.py\", line 17\\n    , custom_instructions=qasm2.LEGACY_CUSTOM_INSTRUCTIONS)\\n                                                          ^\\nSyntaxError: unmatched \\')\\'\\n'\n",
      "Failed to execute to_execute.py in Docker.\n",
      "Error parsing: Command 'python /workspace/to_execute.py' in image 'qiskit_runner' returned non-zero exit status 1: b'Traceback (most recent call last):\\n  File \"/workspace/to_execute.py\", line 10, in <module>\\n    qc = qasm2.loads(\\n  File \"/usr/local/lib/python3.10/site-packages/qiskit/qasm2/__init__.py\", line 587, in loads\\n    return _parse.from_bytecode(\\n  File \"/usr/local/lib/python3.10/site-packages/qiskit/qasm2/parse.py\", line 214, in from_bytecode\\n    for op in bc:\\nqiskit.qasm2.exceptions.QASM2ParseError: \"<input>:4,3: \\'a\\' is not defined in this scope\"\\n'\n",
      "Failed to execute to_execute.py in Docker.\n",
      "Error parsing: Command 'python /workspace/to_execute.py' in image 'qiskit_runner' returned non-zero exit status 1: b'  File \"/workspace/to_execute.py\", line 10\\n    qc = qasm2.loads(\\n                    ^\\nSyntaxError: \\'(\\' was never closed\\n'\n",
      "Failed to execute to_execute.py in Docker.\n",
      "Error parsing: Command 'python /workspace/to_execute.py' in image 'qiskit_runner' returned non-zero exit status 1: b'  File \"/workspace/to_execute.py\", line 21\\n    , custom_instructions=qasm2.LEGACY_CUSTOM_INSTRUCTIONS)\\nIndentationError: unexpected indent\\n'\n",
      "Failed to execute to_execute.py in Docker.\n",
      "Error parsing: Command 'python /workspace/to_execute.py' in image 'qiskit_runner' returned non-zero exit status 1: b'  File \"/workspace/to_execute.py\", line 12\\n    include \"qelib1.inc\";\\n            ^^^^^^^^^^^^\\nSyntaxError: invalid syntax\\n'\n",
      "Failed to execute to_execute.py in Docker.\n",
      "Error parsing: Command 'python /workspace/to_execute.py' in image 'qiskit_runner' returned non-zero exit status 1: b'Traceback (most recent call last):\\n  File \"/workspace/to_execute.py\", line 10, in <module>\\n    qc = qasm2.loads(\\n  File \"/usr/local/lib/python3.10/site-packages/qiskit/qasm2/__init__.py\", line 587, in loads\\n    return _parse.from_bytecode(\\n  File \"/usr/local/lib/python3.10/site-packages/qiskit/qasm2/parse.py\", line 214, in from_bytecode\\n    for op in bc:\\nqiskit.qasm2.exceptions.QASM2ParseError: \"<input>:5,0: cannot use non-builtin custom instruction \\'cx\\' before definition\"\\n'\n",
      "Failed to execute to_execute.py in Docker.\n",
      "Error parsing: Command 'python /workspace/to_execute.py' in image 'qiskit_runner' returned non-zero exit status 1: b'Traceback (most recent call last):\\n  File \"/workspace/to_execute.py\", line 10, in <module>\\n    qc = qasm2.loads(\\n  File \"/usr/local/lib/python3.10/site-packages/qiskit/qasm2/__init__.py\", line 587, in loads\\n    return _parse.from_bytecode(\\n  File \"/usr/local/lib/python3.10/site-packages/qiskit/qasm2/parse.py\", line 214, in from_bytecode\\n    for op in bc:\\nqiskit.qasm2.exceptions.QASM2ParseError: \"<input>:6,8: \\'b\\' is not defined in this scope\"\\n'\n",
      "Failed to execute to_execute.py in Docker.\n",
      "Output: Saved the Pytket circuit to /workspace/to_execute_qc_pytket.qasm\n",
      "Saved the Qiskit circuit to /workspace/to_execute_qc_qiskit.qasm\n",
      "Exported QASM files: [('/workspace/to_execute_qc_pytket.qasm', 'export_to_qasm_with_pytket'), ('/workspace/to_execute_qc_qiskit.qasm', 'export_to_qasm_with_qiskit')]\n",
      "The circuits are equivalent: /workspace/to_execute_qc_pytket.qasm, /workspace/to_execute_qc_qiskit.qasm\n",
      "\n",
      "Program to_execute.py executed successfully.\n",
      "Error parsing: Command 'python /workspace/to_execute.py' in image 'qiskit_runner' returned non-zero exit status 1: b'  File \"/workspace/to_execute.py\", line 10\\n    qc = qasm2.loads(\\n                    ^\\nSyntaxError: \\'(\\' was never closed\\n'\n",
      "Failed to execute to_execute.py in Docker.\n",
      "Error parsing: Command 'python /workspace/to_execute.py' in image 'qiskit_runner' returned non-zero exit status 1: b'  File \"/workspace/to_execute.py\", line 22\\n    , custom_instructions=qasm2.LEGACY_CUSTOM_INSTRUCTIONS)\\nIndentationError: unexpected indent\\n'\n",
      "Failed to execute to_execute.py in Docker.\n",
      "Output: Saved the Pytket circuit to /workspace/to_execute_qc_pytket.qasm\n",
      "Saved the Qiskit circuit to /workspace/to_execute_qc_qiskit.qasm\n",
      "Exported QASM files: [('/workspace/to_execute_qc_pytket.qasm', 'export_to_qasm_with_pytket'), ('/workspace/to_execute_qc_qiskit.qasm', 'export_to_qasm_with_qiskit')]\n",
      "Log has been saved to /workspace/to_execute_5f1441_error.json\n",
      "\n",
      "Program to_execute.py executed successfully.\n",
      "New exception message: The circuits are not equivalent: /workspace/to_execute_qc_pytket.qasm, /workspace/to_execute_qc_qiskit.qasm\n",
      "Error parsing: Command 'python /workspace/to_execute.py' in image 'qiskit_runner' returned non-zero exit status 1: b'  File \"/workspace/to_execute.py\", line 21\\n    , custom_instructions=qasm2.LEGACY_CUSTOM_INSTRUCTIONS)\\nIndentationError: unexpected indent\\n'\n",
      "Failed to execute to_execute.py in Docker.\n",
      "Error parsing: Command 'python /workspace/to_execute.py' in image 'qiskit_runner' returned non-zero exit status 1: b'  File \"/workspace/to_execute.py\", line 11\\n    OPENQASM 2.0;\\n    ^^^^^^^^^^^^\\nSyntaxError: invalid syntax. Perhaps you forgot a comma?\\n'\n",
      "Failed to execute to_execute.py in Docker.\n",
      "Output: Saved the Pytket circuit to /workspace/to_execute_qc_pytket.qasm\n",
      "Saved the Qiskit circuit to /workspace/to_execute_qc_qiskit.qasm\n",
      "Exported QASM files: [('/workspace/to_execute_qc_pytket.qasm', 'export_to_qasm_with_pytket'), ('/workspace/to_execute_qc_qiskit.qasm', 'export_to_qasm_with_qiskit')]\n",
      "Log has been saved to /workspace/to_execute_af6fe3_error.json\n",
      "\n",
      "Program to_execute.py executed successfully.\n",
      "New exception message: The circuits are not equivalent: /workspace/to_execute_qc_pytket.qasm, /workspace/to_execute_qc_qiskit.qasm\n",
      "Error parsing: Command 'python /workspace/to_execute.py' in image 'qiskit_runner' returned non-zero exit status 1: b'  File \"/workspace/to_execute.py\", line 20\\n    , custom_instructions=qasm2.LEGACY_CUSTOM_INSTRUCTIONS)\\nIndentationError: unexpected indent\\n'\n",
      "Failed to execute to_execute.py in Docker.\n",
      "Error parsing: Command 'python /workspace/to_execute.py' in image 'qiskit_runner' returned non-zero exit status 1: b'  File \"/workspace/to_execute.py\", line 11\\n    include \"qelib1.inc\";\\n            ^^^^^^^^^^^^\\nSyntaxError: invalid syntax\\n'\n",
      "Failed to execute to_execute.py in Docker.\n",
      "Error parsing: Command 'python /workspace/to_execute.py' in image 'qiskit_runner' returned non-zero exit status 1: b'Traceback (most recent call last):\\n  File \"/workspace/to_execute.py\", line 10, in <module>\\n    qc = qasm2.loads(\\n  File \"/usr/local/lib/python3.10/site-packages/qiskit/qasm2/__init__.py\", line 587, in loads\\n    return _parse.from_bytecode(\\n  File \"/usr/local/lib/python3.10/site-packages/qiskit/qasm2/parse.py\", line 214, in from_bytecode\\n    for op in bc:\\nqiskit.qasm2.exceptions.QASM2ParseError: \"<input>:6,0: cannot use non-builtin custom instruction \\'cx\\' before definition\"\\n'\n",
      "Failed to execute to_execute.py in Docker.\n",
      "Output: Saved the Pytket circuit to /workspace/to_execute_qc_pytket.qasm\n",
      "Saved the Qiskit circuit to /workspace/to_execute_qc_qiskit.qasm\n",
      "Exported QASM files: [('/workspace/to_execute_qc_pytket.qasm', 'export_to_qasm_with_pytket'), ('/workspace/to_execute_qc_qiskit.qasm', 'export_to_qasm_with_qiskit')]\n",
      "The circuits are equivalent: /workspace/to_execute_qc_pytket.qasm, /workspace/to_execute_qc_qiskit.qasm\n",
      "\n",
      "Program to_execute.py executed successfully.\n",
      "Error parsing: Command 'python /workspace/to_execute.py' in image 'qiskit_runner' returned non-zero exit status 1: b'Traceback (most recent call last):\\n  File \"/workspace/to_execute.py\", line 10, in <module>\\n    qc = qasm2.loads(\\n  File \"/usr/local/lib/python3.10/site-packages/qiskit/qasm2/__init__.py\", line 587, in loads\\n    return _parse.from_bytecode(\\n  File \"/usr/local/lib/python3.10/site-packages/qiskit/qasm2/parse.py\", line 214, in from_bytecode\\n    for op in bc:\\nqiskit.qasm2.exceptions.QASM2ParseError: \"<input>:6,3: \\'a\\' is not defined in this scope\"\\n'\n",
      "Failed to execute to_execute.py in Docker.\n",
      "Error parsing: Command 'python /workspace/to_execute.py' in image 'qiskit_runner' returned non-zero exit status 1: b'Traceback (most recent call last):\\n  File \"/workspace/to_execute.py\", line 10, in <module>\\n    qc = qasm2.loads(\\n  File \"/usr/local/lib/python3.10/site-packages/qiskit/qasm2/__init__.py\", line 587, in loads\\n    return _parse.from_bytecode(\\n  File \"/usr/local/lib/python3.10/site-packages/qiskit/qasm2/parse.py\", line 214, in from_bytecode\\n    for op in bc:\\nqiskit.qasm2.exceptions.QASM2ParseError: \"<input>:6,8: \\'b\\' is not defined in this scope\"\\n'\n",
      "Failed to execute to_execute.py in Docker.\n",
      "Error parsing: Command 'python /workspace/to_execute.py' in image 'qiskit_runner' returned non-zero exit status 1: b'Traceback (most recent call last):\\n  File \"/workspace/to_execute.py\", line 10, in <module>\\n    qc = qasm2.loads(\\n  File \"/usr/local/lib/python3.10/site-packages/qiskit/qasm2/__init__.py\", line 587, in loads\\n    return _parse.from_bytecode(\\n  File \"/usr/local/lib/python3.10/site-packages/qiskit/qasm2/parse.py\", line 214, in from_bytecode\\n    for op in bc:\\nqiskit.qasm2.exceptions.QASM2ParseError: \"<input>:6,8: \\'cout\\' is not defined in this scope\"\\n'\n",
      "Failed to execute to_execute.py in Docker.\n",
      "Output: Saved the Pytket circuit to /workspace/to_execute_qc_pytket.qasm\n",
      "Saved the Qiskit circuit to /workspace/to_execute_qc_qiskit.qasm\n",
      "Exported QASM files: [('/workspace/to_execute_qc_pytket.qasm', 'export_to_qasm_with_pytket'), ('/workspace/to_execute_qc_qiskit.qasm', 'export_to_qasm_with_qiskit')]\n",
      "Log has been saved to /workspace/to_execute_57efc1_error.json\n",
      "\n",
      "Program to_execute.py executed successfully.\n",
      "New exception message: The circuits are not equivalent: /workspace/to_execute_qc_pytket.qasm, /workspace/to_execute_qc_qiskit.qasm\n",
      "Error parsing: Command 'python /workspace/to_execute.py' in image 'qiskit_runner' returned non-zero exit status 1: b'  File \"/workspace/to_execute.py\", line 19\\n    , custom_instructions=qasm2.LEGACY_CUSTOM_INSTRUCTIONS)\\nIndentationError: unexpected indent\\n'\n",
      "Failed to execute to_execute.py in Docker.\n",
      "Error parsing: Command 'python /workspace/to_execute.py' in image 'qiskit_runner' returned non-zero exit status 1: b'  File \"/workspace/to_execute.py\", line 11\\n    include \"qelib1.inc\";\\n            ^^^^^^^^^^^^\\nSyntaxError: invalid syntax\\n'\n",
      "Failed to execute to_execute.py in Docker.\n",
      "Error parsing: Command 'python /workspace/to_execute.py' in image 'qiskit_runner' returned non-zero exit status 1: b'Traceback (most recent call last):\\n  File \"/workspace/to_execute.py\", line 10, in <module>\\n    qc = qasm2.loads(\\n  File \"/usr/local/lib/python3.10/site-packages/qiskit/qasm2/__init__.py\", line 587, in loads\\n    return _parse.from_bytecode(\\n  File \"/usr/local/lib/python3.10/site-packages/qiskit/qasm2/parse.py\", line 214, in from_bytecode\\n    for op in bc:\\nqiskit.qasm2.exceptions.QASM2ParseError: \"<input>:6,0: cannot use non-builtin custom instruction \\'cx\\' before definition\"\\n'\n",
      "Failed to execute to_execute.py in Docker.\n",
      "Output: Saved the Pytket circuit to /workspace/to_execute_qc_pytket.qasm\n",
      "Saved the Qiskit circuit to /workspace/to_execute_qc_qiskit.qasm\n",
      "Exported QASM files: [('/workspace/to_execute_qc_pytket.qasm', 'export_to_qasm_with_pytket'), ('/workspace/to_execute_qc_qiskit.qasm', 'export_to_qasm_with_qiskit')]\n",
      "The circuits are equivalent: /workspace/to_execute_qc_pytket.qasm, /workspace/to_execute_qc_qiskit.qasm\n",
      "\n",
      "Program to_execute.py executed successfully.\n",
      "Error parsing: Command 'python /workspace/to_execute.py' in image 'qiskit_runner' returned non-zero exit status 1: b'Traceback (most recent call last):\\n  File \"/workspace/to_execute.py\", line 10, in <module>\\n    qc = qasm2.loads(\\n  File \"/usr/local/lib/python3.10/site-packages/qiskit/qasm2/__init__.py\", line 587, in loads\\n    return _parse.from_bytecode(\\n  File \"/usr/local/lib/python3.10/site-packages/qiskit/qasm2/parse.py\", line 214, in from_bytecode\\n    for op in bc:\\nqiskit.qasm2.exceptions.QASM2ParseError: \"<input>:6,3: \\'a\\' is not defined in this scope\"\\n'\n",
      "Failed to execute to_execute.py in Docker.\n",
      "Error parsing: Command 'python /workspace/to_execute.py' in image 'qiskit_runner' returned non-zero exit status 1: b'Traceback (most recent call last):\\n  File \"/workspace/to_execute.py\", line 10, in <module>\\n    qc = qasm2.loads(\\n  File \"/usr/local/lib/python3.10/site-packages/qiskit/qasm2/__init__.py\", line 587, in loads\\n    return _parse.from_bytecode(\\n  File \"/usr/local/lib/python3.10/site-packages/qiskit/qasm2/parse.py\", line 214, in from_bytecode\\n    for op in bc:\\nqiskit.qasm2.exceptions.QASM2ParseError: \"<input>:5,8: \\'b\\' is not defined in this scope\"\\n'\n",
      "Failed to execute to_execute.py in Docker.\n",
      "Output: Saved the Pytket circuit to /workspace/to_execute_qc_pytket.qasm\n",
      "Saved the Qiskit circuit to /workspace/to_execute_qc_qiskit.qasm\n",
      "Exported QASM files: [('/workspace/to_execute_qc_pytket.qasm', 'export_to_qasm_with_pytket'), ('/workspace/to_execute_qc_qiskit.qasm', 'export_to_qasm_with_qiskit')]\n",
      "The circuits are equivalent: /workspace/to_execute_qc_pytket.qasm, /workspace/to_execute_qc_qiskit.qasm\n",
      "\n",
      "Program to_execute.py executed successfully.\n",
      "Error parsing: Command 'python /workspace/to_execute.py' in image 'qiskit_runner' returned non-zero exit status 1: b'  File \"/workspace/to_execute.py\", line 11\\n    include \"qelib1.inc\";\\n            ^^^^^^^^^^^^\\nSyntaxError: invalid syntax\\n'\n",
      "Failed to execute to_execute.py in Docker.\n",
      "Error parsing: Command 'python /workspace/to_execute.py' in image 'qiskit_runner' returned non-zero exit status 1: b'  File \"/workspace/to_execute.py\", line 10\\n    qc = qasm2.loads(\\n                    ^\\nSyntaxError: \\'(\\' was never closed\\n'\n",
      "Failed to execute to_execute.py in Docker.\n",
      "Error parsing: Command 'python /workspace/to_execute.py' in image 'qiskit_runner' returned non-zero exit status 1: b'  File \"/workspace/to_execute.py\", line 19\\n    , custom_instructions=qasm2.LEGACY_CUSTOM_INSTRUCTIONS)\\nIndentationError: unexpected indent\\n'\n",
      "Failed to execute to_execute.py in Docker.\n",
      "Error parsing: Command 'python /workspace/to_execute.py' in image 'qiskit_runner' returned non-zero exit status 1: b'  File \"/workspace/to_execute.py\", line 11\\n    include \"qelib1.inc\";\\n            ^^^^^^^^^^^^\\nSyntaxError: invalid syntax\\n'\n",
      "Failed to execute to_execute.py in Docker.\n",
      "Error parsing: Command 'python /workspace/to_execute.py' in image 'qiskit_runner' returned non-zero exit status 1: b'Traceback (most recent call last):\\n  File \"/workspace/to_execute.py\", line 10, in <module>\\n    qc = qasm2.loads(\\n  File \"/usr/local/lib/python3.10/site-packages/qiskit/qasm2/__init__.py\", line 587, in loads\\n    return _parse.from_bytecode(\\n  File \"/usr/local/lib/python3.10/site-packages/qiskit/qasm2/parse.py\", line 214, in from_bytecode\\n    for op in bc:\\nqiskit.qasm2.exceptions.QASM2ParseError: \"<input>:6,0: cannot use non-builtin custom instruction \\'cx\\' before definition\"\\n'\n",
      "Failed to execute to_execute.py in Docker.\n",
      "Output: Saved the Pytket circuit to /workspace/to_execute_qc_pytket.qasm\n",
      "Saved the Qiskit circuit to /workspace/to_execute_qc_qiskit.qasm\n",
      "Exported QASM files: [('/workspace/to_execute_qc_pytket.qasm', 'export_to_qasm_with_pytket'), ('/workspace/to_execute_qc_qiskit.qasm', 'export_to_qasm_with_qiskit')]\n",
      "The circuits are equivalent: /workspace/to_execute_qc_pytket.qasm, /workspace/to_execute_qc_qiskit.qasm\n",
      "\n",
      "Program to_execute.py executed successfully.\n",
      "Error parsing: Command 'python /workspace/to_execute.py' in image 'qiskit_runner' returned non-zero exit status 1: b'Traceback (most recent call last):\\n  File \"/workspace/to_execute.py\", line 10, in <module>\\n    qc = qasm2.loads(\\n  File \"/usr/local/lib/python3.10/site-packages/qiskit/qasm2/__init__.py\", line 587, in loads\\n    return _parse.from_bytecode(\\n  File \"/usr/local/lib/python3.10/site-packages/qiskit/qasm2/parse.py\", line 214, in from_bytecode\\n    for op in bc:\\nqiskit.qasm2.exceptions.QASM2ParseError: \"<input>:6,3: \\'a\\' is not defined in this scope\"\\n'\n",
      "Failed to execute to_execute.py in Docker.\n",
      "Error parsing: Command 'python /workspace/to_execute.py' in image 'qiskit_runner' returned non-zero exit status 1: b'Traceback (most recent call last):\\n  File \"/workspace/to_execute.py\", line 10, in <module>\\n    qc = qasm2.loads(\\n  File \"/usr/local/lib/python3.10/site-packages/qiskit/qasm2/__init__.py\", line 587, in loads\\n    return _parse.from_bytecode(\\n  File \"/usr/local/lib/python3.10/site-packages/qiskit/qasm2/parse.py\", line 214, in from_bytecode\\n    for op in bc:\\nqiskit.qasm2.exceptions.QASM2ParseError: \"<input>:6,8: \\'b\\' is not defined in this scope\"\\n'\n",
      "Failed to execute to_execute.py in Docker.\n",
      "Output: Saved the Pytket circuit to /workspace/to_execute_qc_pytket.qasm\n",
      "Saved the Qiskit circuit to /workspace/to_execute_qc_qiskit.qasm\n",
      "Exported QASM files: [('/workspace/to_execute_qc_pytket.qasm', 'export_to_qasm_with_pytket'), ('/workspace/to_execute_qc_qiskit.qasm', 'export_to_qasm_with_qiskit')]\n",
      "Log has been saved to /workspace/to_execute_a4c0ee_error.json\n",
      "\n",
      "Program to_execute.py executed successfully.\n",
      "New exception message: The circuits are not equivalent: /workspace/to_execute_qc_pytket.qasm, /workspace/to_execute_qc_qiskit.qasm\n",
      "Error parsing: Command 'python /workspace/to_execute.py' in image 'qiskit_runner' returned non-zero exit status 1: b'  File \"/workspace/to_execute.py\", line 18\\n    , custom_instructions=qasm2.LEGACY_CUSTOM_INSTRUCTIONS)\\nIndentationError: unexpected indent\\n'\n",
      "Failed to execute to_execute.py in Docker.\n",
      "Error parsing: Command 'python /workspace/to_execute.py' in image 'qiskit_runner' returned non-zero exit status 1: b'  File \"/workspace/to_execute.py\", line 11\\n    include \"qelib1.inc\";\\n            ^^^^^^^^^^^^\\nSyntaxError: invalid syntax\\n'\n",
      "Failed to execute to_execute.py in Docker.\n",
      "Error parsing: Command 'python /workspace/to_execute.py' in image 'qiskit_runner' returned non-zero exit status 1: b'Traceback (most recent call last):\\n  File \"/workspace/to_execute.py\", line 10, in <module>\\n    qc = qasm2.loads(\\n  File \"/usr/local/lib/python3.10/site-packages/qiskit/qasm2/__init__.py\", line 587, in loads\\n    return _parse.from_bytecode(\\n  File \"/usr/local/lib/python3.10/site-packages/qiskit/qasm2/parse.py\", line 214, in from_bytecode\\n    for op in bc:\\nqiskit.qasm2.exceptions.QASM2ParseError: \"<input>:5,0: cannot use non-builtin custom instruction \\'cx\\' before definition\"\\n'\n",
      "Failed to execute to_execute.py in Docker.\n",
      "Output: Saved the Pytket circuit to /workspace/to_execute_qc_pytket.qasm\n",
      "Saved the Qiskit circuit to /workspace/to_execute_qc_qiskit.qasm\n",
      "Exported QASM files: [('/workspace/to_execute_qc_pytket.qasm', 'export_to_qasm_with_pytket'), ('/workspace/to_execute_qc_qiskit.qasm', 'export_to_qasm_with_qiskit')]\n",
      "The circuits are equivalent: /workspace/to_execute_qc_pytket.qasm, /workspace/to_execute_qc_qiskit.qasm\n",
      "\n",
      "Program to_execute.py executed successfully.\n",
      "Error parsing: Command 'python /workspace/to_execute.py' in image 'qiskit_runner' returned non-zero exit status 1: b'Traceback (most recent call last):\\n  File \"/workspace/to_execute.py\", line 10, in <module>\\n    qc = qasm2.loads(\\n  File \"/usr/local/lib/python3.10/site-packages/qiskit/qasm2/__init__.py\", line 587, in loads\\n    return _parse.from_bytecode(\\n  File \"/usr/local/lib/python3.10/site-packages/qiskit/qasm2/parse.py\", line 214, in from_bytecode\\n    for op in bc:\\nqiskit.qasm2.exceptions.QASM2ParseError: \"<input>:5,3: \\'a\\' is not defined in this scope\"\\n'\n",
      "Failed to execute to_execute.py in Docker.\n",
      "Error parsing: Command 'python /workspace/to_execute.py' in image 'qiskit_runner' returned non-zero exit status 1: b'Traceback (most recent call last):\\n  File \"/workspace/to_execute.py\", line 10, in <module>\\n    qc = qasm2.loads(\\n  File \"/usr/local/lib/python3.10/site-packages/qiskit/qasm2/__init__.py\", line 587, in loads\\n    return _parse.from_bytecode(\\n  File \"/usr/local/lib/python3.10/site-packages/qiskit/qasm2/parse.py\", line 214, in from_bytecode\\n    for op in bc:\\nqiskit.qasm2.exceptions.QASM2ParseError: \"<input>:5,8: \\'b\\' is not defined in this scope\"\\n'\n",
      "Failed to execute to_execute.py in Docker.\n",
      "Output: Saved the Pytket circuit to /workspace/to_execute_qc_pytket.qasm\n",
      "Saved the Qiskit circuit to /workspace/to_execute_qc_qiskit.qasm\n",
      "Exported QASM files: [('/workspace/to_execute_qc_pytket.qasm', 'export_to_qasm_with_pytket'), ('/workspace/to_execute_qc_qiskit.qasm', 'export_to_qasm_with_qiskit')]\n",
      "The circuits are equivalent: /workspace/to_execute_qc_pytket.qasm, /workspace/to_execute_qc_qiskit.qasm\n",
      "\n",
      "Program to_execute.py executed successfully.\n",
      "Output: Saved the Pytket circuit to /workspace/to_execute_qc_pytket.qasm\n",
      "Saved the Qiskit circuit to /workspace/to_execute_qc_qiskit.qasm\n",
      "Exported QASM files: [('/workspace/to_execute_qc_pytket.qasm', 'export_to_qasm_with_pytket'), ('/workspace/to_execute_qc_qiskit.qasm', 'export_to_qasm_with_qiskit')]\n",
      "Log has been saved to /workspace/to_execute_6a8260_error.json\n",
      "\n",
      "Program to_execute.py executed successfully.\n",
      "New exception message: The circuits are not equivalent: /workspace/to_execute_qc_pytket.qasm, /workspace/to_execute_qc_qiskit.qasm\n",
      "Error parsing: Command 'python /workspace/to_execute.py' in image 'qiskit_runner' returned non-zero exit status 1: b'  File \"/workspace/to_execute.py\", line 17\\n    , custom_instructions=qasm2.LEGACY_CUSTOM_INSTRUCTIONS)\\nIndentationError: unexpected indent\\n'\n",
      "Failed to execute to_execute.py in Docker.\n",
      "Error parsing: Command 'python /workspace/to_execute.py' in image 'qiskit_runner' returned non-zero exit status 1: b'  File \"/workspace/to_execute.py\", line 11\\n    include \"qelib1.inc\";\\n            ^^^^^^^^^^^^\\nSyntaxError: invalid syntax\\n'\n",
      "Failed to execute to_execute.py in Docker.\n",
      "Error parsing: Command 'python /workspace/to_execute.py' in image 'qiskit_runner' returned non-zero exit status 1: b'Traceback (most recent call last):\\n  File \"/workspace/to_execute.py\", line 10, in <module>\\n    qc = qasm2.loads(\\n  File \"/usr/local/lib/python3.10/site-packages/qiskit/qasm2/__init__.py\", line 587, in loads\\n    return _parse.from_bytecode(\\n  File \"/usr/local/lib/python3.10/site-packages/qiskit/qasm2/parse.py\", line 214, in from_bytecode\\n    for op in bc:\\nqiskit.qasm2.exceptions.QASM2ParseError: \"<input>:5,0: cannot use non-builtin custom instruction \\'cx\\' before definition\"\\n'\n",
      "Failed to execute to_execute.py in Docker.\n",
      "Output: Saved the Pytket circuit to /workspace/to_execute_qc_pytket.qasm\n",
      "Saved the Qiskit circuit to /workspace/to_execute_qc_qiskit.qasm\n",
      "Exported QASM files: [('/workspace/to_execute_qc_pytket.qasm', 'export_to_qasm_with_pytket'), ('/workspace/to_execute_qc_qiskit.qasm', 'export_to_qasm_with_qiskit')]\n",
      "The circuits are equivalent: /workspace/to_execute_qc_pytket.qasm, /workspace/to_execute_qc_qiskit.qasm\n",
      "\n",
      "Program to_execute.py executed successfully.\n",
      "Error parsing: Command 'python /workspace/to_execute.py' in image 'qiskit_runner' returned non-zero exit status 1: b'Traceback (most recent call last):\\n  File \"/workspace/to_execute.py\", line 10, in <module>\\n    qc = qasm2.loads(\\n  File \"/usr/local/lib/python3.10/site-packages/qiskit/qasm2/__init__.py\", line 587, in loads\\n    return _parse.from_bytecode(\\n  File \"/usr/local/lib/python3.10/site-packages/qiskit/qasm2/parse.py\", line 214, in from_bytecode\\n    for op in bc:\\nqiskit.qasm2.exceptions.QASM2ParseError: \"<input>:5,3: \\'a\\' is not defined in this scope\"\\n'\n",
      "Failed to execute to_execute.py in Docker.\n",
      "Error parsing: Command 'python /workspace/to_execute.py' in image 'qiskit_runner' returned non-zero exit status 1: b'Traceback (most recent call last):\\n  File \"/workspace/to_execute.py\", line 10, in <module>\\n    qc = qasm2.loads(\\n  File \"/usr/local/lib/python3.10/site-packages/qiskit/qasm2/__init__.py\", line 587, in loads\\n    return _parse.from_bytecode(\\n  File \"/usr/local/lib/python3.10/site-packages/qiskit/qasm2/parse.py\", line 214, in from_bytecode\\n    for op in bc:\\nqiskit.qasm2.exceptions.QASM2ParseError: \"<input>:5,8: \\'b\\' is not defined in this scope\"\\n'\n",
      "Failed to execute to_execute.py in Docker.\n",
      "Output: Saved the Pytket circuit to /workspace/to_execute_qc_pytket.qasm\n",
      "Saved the Qiskit circuit to /workspace/to_execute_qc_qiskit.qasm\n",
      "Exported QASM files: [('/workspace/to_execute_qc_pytket.qasm', 'export_to_qasm_with_pytket'), ('/workspace/to_execute_qc_qiskit.qasm', 'export_to_qasm_with_qiskit')]\n",
      "The circuits are equivalent: /workspace/to_execute_qc_pytket.qasm, /workspace/to_execute_qc_qiskit.qasm\n",
      "\n",
      "Program to_execute.py executed successfully.\n",
      "Error parsing: Command 'python /workspace/to_execute.py' in image 'qiskit_runner' returned non-zero exit status 1: b'  File \"/workspace/to_execute.py\", line 11\\n    include \"qelib1.inc\";\\n            ^^^^^^^^^^^^\\nSyntaxError: invalid syntax\\n'\n",
      "Failed to execute to_execute.py in Docker.\n",
      "Error parsing: Command 'python /workspace/to_execute.py' in image 'qiskit_runner' returned non-zero exit status 1: b'  File \"/workspace/to_execute.py\", line 10\\n    qc = qasm2.loads(\\n                    ^\\nSyntaxError: \\'(\\' was never closed\\n'\n",
      "Failed to execute to_execute.py in Docker.\n"
     ]
    },
    {
     "data": {
      "text/html": [
       "<pre style=\"white-space:pre;overflow-x:auto;line-height:normal;font-family:Menlo,'DejaVu Sans Mono',consolas,'Courier New',monospace\"><span style=\"color: #7fbfbf; text-decoration-color: #7fbfbf\">[15:34:20] </span><span style=\"color: #008000; text-decoration-color: #008000\">Minimized file saved as:</span>                                                        <a href=\"file:///home/paltenmo/projects/crossplatform/analysis_and_reporting/ddmin_target_file.py\" target=\"_blank\"><span style=\"color: #7f7f7f; text-decoration-color: #7f7f7f\">ddmin_target_file.py</span></a><span style=\"color: #7f7f7f; text-decoration-color: #7f7f7f\">:</span><a href=\"file:///home/paltenmo/projects/crossplatform/analysis_and_reporting/ddmin_target_file.py#240\" target=\"_blank\"><span style=\"color: #7f7f7f; text-decoration-color: #7f7f7f\">240</span></a>\n",
       "<span style=\"color: #7fbfbf; text-decoration-color: #7fbfbf\">           </span>..<span style=\"color: #800080; text-decoration-color: #800080\">/program_bank/v007/2024_10_31__17_51__qiskit/</span><span style=\"color: #ff00ff; text-decoration-color: #ff00ff\">qiskit_circuit_5q_10g_62099_fd62</span> <span style=\"color: #7f7f7f; text-decoration-color: #7f7f7f\">                        </span>\n",
       "<span style=\"color: #7fbfbf; text-decoration-color: #7fbfbf\">           </span><span style=\"color: #ff00ff; text-decoration-color: #ff00ff\">40_ba6b02_error_min.py</span>                                                          <span style=\"color: #7f7f7f; text-decoration-color: #7f7f7f\">                        </span>\n",
       "</pre>\n"
      ],
      "text/plain": [
       "\u001b[2;36m[15:34:20]\u001b[0m\u001b[2;36m \u001b[0m\u001b[32mMinimized file saved as:\u001b[0m                                                        \u001b]8;id=659100;file:///home/paltenmo/projects/crossplatform/analysis_and_reporting/ddmin_target_file.py\u001b\\\u001b[2mddmin_target_file.py\u001b[0m\u001b]8;;\u001b\\\u001b[2m:\u001b[0m\u001b]8;id=202264;file:///home/paltenmo/projects/crossplatform/analysis_and_reporting/ddmin_target_file.py#240\u001b\\\u001b[2m240\u001b[0m\u001b]8;;\u001b\\\n",
       "\u001b[2;36m           \u001b[0m..\u001b[35m/program_bank/v007/2024_10_31__17_51__qiskit/\u001b[0m\u001b[95mqiskit_circuit_5q_10g_62099_fd62\u001b[0m \u001b[2m                        \u001b[0m\n",
       "\u001b[2;36m           \u001b[0m\u001b[95m40_ba6b02_error_min.py\u001b[0m                                                          \u001b[2m                        \u001b[0m\n"
      ]
     },
     "metadata": {},
     "output_type": "display_data"
    },
    {
     "name": "stdout",
     "output_type": "stream",
     "text": [
      "Running minimization for ../program_bank/v007/2024_10_31__17_51__sample_errors/qiskit_circuit_5q_10g_16712_52499e_26f332_error.json\n"
     ]
    },
    {
     "data": {
      "text/html": [
       "<pre style=\"white-space:pre;overflow-x:auto;line-height:normal;font-family:Menlo,'DejaVu Sans Mono',consolas,'Courier New',monospace\"><span style=\"color: #7fbfbf; text-decoration-color: #7fbfbf\">           </span>Involved functions:                                                             <a href=\"file:///home/paltenmo/projects/crossplatform/analysis_and_reporting/ddmin_target_file.py\" target=\"_blank\"><span style=\"color: #7f7f7f; text-decoration-color: #7f7f7f\">ddmin_target_file.py</span></a><span style=\"color: #7f7f7f; text-decoration-color: #7f7f7f\">:</span><a href=\"file:///home/paltenmo/projects/crossplatform/analysis_and_reporting/ddmin_target_file.py#206\" target=\"_blank\"><span style=\"color: #7f7f7f; text-decoration-color: #7f7f7f\">206</span></a>\n",
       "</pre>\n"
      ],
      "text/plain": [
       "\u001b[2;36m          \u001b[0m\u001b[2;36m \u001b[0mInvolved functions:                                                             \u001b]8;id=454345;file:///home/paltenmo/projects/crossplatform/analysis_and_reporting/ddmin_target_file.py\u001b\\\u001b[2mddmin_target_file.py\u001b[0m\u001b]8;;\u001b\\\u001b[2m:\u001b[0m\u001b]8;id=233691;file:///home/paltenmo/projects/crossplatform/analysis_and_reporting/ddmin_target_file.py#206\u001b\\\u001b[2m206\u001b[0m\u001b]8;;\u001b\\\n"
      ]
     },
     "metadata": {},
     "output_type": "display_data"
    },
    {
     "data": {
      "text/html": [
       "<pre style=\"white-space:pre;overflow-x:auto;line-height:normal;font-family:Menlo,'DejaVu Sans Mono',consolas,'Courier New',monospace\"><span style=\"color: #7fbfbf; text-decoration-color: #7fbfbf\">           </span>  - compare_qasm_via_qcec                                                       <a href=\"file:///home/paltenmo/projects/crossplatform/analysis_and_reporting/ddmin_target_file.py\" target=\"_blank\"><span style=\"color: #7f7f7f; text-decoration-color: #7f7f7f\">ddmin_target_file.py</span></a><span style=\"color: #7f7f7f; text-decoration-color: #7f7f7f\">:</span><a href=\"file:///home/paltenmo/projects/crossplatform/analysis_and_reporting/ddmin_target_file.py#208\" target=\"_blank\"><span style=\"color: #7f7f7f; text-decoration-color: #7f7f7f\">208</span></a>\n",
       "</pre>\n"
      ],
      "text/plain": [
       "\u001b[2;36m          \u001b[0m\u001b[2;36m \u001b[0m  - compare_qasm_via_qcec                                                       \u001b]8;id=566184;file:///home/paltenmo/projects/crossplatform/analysis_and_reporting/ddmin_target_file.py\u001b\\\u001b[2mddmin_target_file.py\u001b[0m\u001b]8;;\u001b\\\u001b[2m:\u001b[0m\u001b]8;id=602420;file:///home/paltenmo/projects/crossplatform/analysis_and_reporting/ddmin_target_file.py#208\u001b\\\u001b[2m208\u001b[0m\u001b]8;;\u001b\\\n"
      ]
     },
     "metadata": {},
     "output_type": "display_data"
    },
    {
     "data": {
      "text/html": [
       "<pre style=\"white-space:pre;overflow-x:auto;line-height:normal;font-family:Menlo,'DejaVu Sans Mono',consolas,'Courier New',monospace\"><span style=\"color: #7fbfbf; text-decoration-color: #7fbfbf\">           </span>  - export_to_qasm_with_pytket                                                  <a href=\"file:///home/paltenmo/projects/crossplatform/analysis_and_reporting/ddmin_target_file.py\" target=\"_blank\"><span style=\"color: #7f7f7f; text-decoration-color: #7f7f7f\">ddmin_target_file.py</span></a><span style=\"color: #7f7f7f; text-decoration-color: #7f7f7f\">:</span><a href=\"file:///home/paltenmo/projects/crossplatform/analysis_and_reporting/ddmin_target_file.py#208\" target=\"_blank\"><span style=\"color: #7f7f7f; text-decoration-color: #7f7f7f\">208</span></a>\n",
       "</pre>\n"
      ],
      "text/plain": [
       "\u001b[2;36m          \u001b[0m\u001b[2;36m \u001b[0m  - export_to_qasm_with_pytket                                                  \u001b]8;id=316960;file:///home/paltenmo/projects/crossplatform/analysis_and_reporting/ddmin_target_file.py\u001b\\\u001b[2mddmin_target_file.py\u001b[0m\u001b]8;;\u001b\\\u001b[2m:\u001b[0m\u001b]8;id=510462;file:///home/paltenmo/projects/crossplatform/analysis_and_reporting/ddmin_target_file.py#208\u001b\\\u001b[2m208\u001b[0m\u001b]8;;\u001b\\\n"
      ]
     },
     "metadata": {},
     "output_type": "display_data"
    },
    {
     "data": {
      "text/html": [
       "<pre style=\"white-space:pre;overflow-x:auto;line-height:normal;font-family:Menlo,'DejaVu Sans Mono',consolas,'Courier New',monospace\"><span style=\"color: #7fbfbf; text-decoration-color: #7fbfbf\">           </span>  - export_to_qasm_with_qiskit                                                  <a href=\"file:///home/paltenmo/projects/crossplatform/analysis_and_reporting/ddmin_target_file.py\" target=\"_blank\"><span style=\"color: #7f7f7f; text-decoration-color: #7f7f7f\">ddmin_target_file.py</span></a><span style=\"color: #7f7f7f; text-decoration-color: #7f7f7f\">:</span><a href=\"file:///home/paltenmo/projects/crossplatform/analysis_and_reporting/ddmin_target_file.py#208\" target=\"_blank\"><span style=\"color: #7f7f7f; text-decoration-color: #7f7f7f\">208</span></a>\n",
       "</pre>\n"
      ],
      "text/plain": [
       "\u001b[2;36m          \u001b[0m\u001b[2;36m \u001b[0m  - export_to_qasm_with_qiskit                                                  \u001b]8;id=430283;file:///home/paltenmo/projects/crossplatform/analysis_and_reporting/ddmin_target_file.py\u001b\\\u001b[2mddmin_target_file.py\u001b[0m\u001b]8;;\u001b\\\u001b[2m:\u001b[0m\u001b]8;id=443152;file:///home/paltenmo/projects/crossplatform/analysis_and_reporting/ddmin_target_file.py#208\u001b\\\u001b[2m208\u001b[0m\u001b]8;;\u001b\\\n"
      ]
     },
     "metadata": {},
     "output_type": "display_data"
    },
    {
     "name": "stdout",
     "output_type": "stream",
     "text": [
      "Error parsing: Command 'python /workspace/to_execute.py' in image 'qiskit_runner' returned non-zero exit status 1: b'Traceback (most recent call last):\\n  File \"/workspace/to_execute.py\", line 105, in <module>\\n    target_qc = qc\\nNameError: name \\'qc\\' is not defined\\n'\n",
      "Failed to execute to_execute.py in Docker.\n",
      "Output: Saved the Pytket circuit to /workspace/to_execute_qc_pytket.qasm\n",
      "Saved the Qiskit circuit to /workspace/to_execute_qc_qiskit.qasm\n",
      "Exported QASM files: [('/workspace/to_execute_qc_pytket.qasm', 'export_to_qasm_with_pytket'), ('/workspace/to_execute_qc_qiskit.qasm', 'export_to_qasm_with_qiskit')]\n",
      "Log has been saved to /workspace/to_execute_ef75fa_error.json\n",
      "\n",
      "Program to_execute.py executed successfully.\n",
      "New exception message: The circuits are not equivalent: /workspace/to_execute_qc_pytket.qasm, /workspace/to_execute_qc_qiskit.qasm\n",
      "Error parsing: Command 'python /workspace/to_execute.py' in image 'qiskit_runner' returned non-zero exit status 1: b'  File \"/workspace/to_execute.py\", line 15\\n    , custom_instructions=qasm2.LEGACY_CUSTOM_INSTRUCTIONS)\\n                                                          ^\\nSyntaxError: unmatched \\')\\'\\n'\n",
      "Failed to execute to_execute.py in Docker.\n",
      "Error parsing: Command 'python /workspace/to_execute.py' in image 'qiskit_runner' returned non-zero exit status 1: b'  File \"/workspace/to_execute.py\", line 10\\n    qc = qasm2.loads(\\n                    ^\\nSyntaxError: \\'(\\' was never closed\\n'\n",
      "Failed to execute to_execute.py in Docker.\n",
      "Error parsing: Command 'python /workspace/to_execute.py' in image 'qiskit_runner' returned non-zero exit status 1: b'  File \"/workspace/to_execute.py\", line 19\\n    , custom_instructions=qasm2.LEGACY_CUSTOM_INSTRUCTIONS)\\n                                                          ^\\nSyntaxError: unmatched \\')\\'\\n'\n",
      "Failed to execute to_execute.py in Docker.\n",
      "Error parsing: Command 'python /workspace/to_execute.py' in image 'qiskit_runner' returned non-zero exit status 1: b'Traceback (most recent call last):\\n  File \"/workspace/to_execute.py\", line 10, in <module>\\n    qc = qasm2.loads(\\n  File \"/usr/local/lib/python3.10/site-packages/qiskit/qasm2/__init__.py\", line 587, in loads\\n    return _parse.from_bytecode(\\n  File \"/usr/local/lib/python3.10/site-packages/qiskit/qasm2/parse.py\", line 214, in from_bytecode\\n    for op in bc:\\nqiskit.qasm2.exceptions.QASM2ParseError: \"<input>:4,0: cannot use non-builtin custom instruction \\'cx\\' before definition\"\\n'\n",
      "Failed to execute to_execute.py in Docker.\n",
      "Output: Saved the Pytket circuit to /workspace/to_execute_qc_pytket.qasm\n",
      "Saved the Qiskit circuit to /workspace/to_execute_qc_qiskit.qasm\n",
      "Exported QASM files: [('/workspace/to_execute_qc_pytket.qasm', 'export_to_qasm_with_pytket'), ('/workspace/to_execute_qc_qiskit.qasm', 'export_to_qasm_with_qiskit')]\n",
      "The circuits are equivalent: /workspace/to_execute_qc_pytket.qasm, /workspace/to_execute_qc_qiskit.qasm\n",
      "\n",
      "Program to_execute.py executed successfully.\n",
      "Error parsing: Command 'python /workspace/to_execute.py' in image 'qiskit_runner' returned non-zero exit status 1: b'  File \"/workspace/to_execute.py\", line 10\\n    qc = qasm2.loads(\\n                    ^\\nSyntaxError: \\'(\\' was never closed\\n'\n",
      "Failed to execute to_execute.py in Docker.\n",
      "Error parsing: Command 'python /workspace/to_execute.py' in image 'qiskit_runner' returned non-zero exit status 1: b'  File \"/workspace/to_execute.py\", line 22\\n    , custom_instructions=qasm2.LEGACY_CUSTOM_INSTRUCTIONS)\\nIndentationError: unexpected indent\\n'\n",
      "Failed to execute to_execute.py in Docker.\n",
      "Error parsing: Command 'python /workspace/to_execute.py' in image 'qiskit_runner' returned non-zero exit status 1: b'  File \"/workspace/to_execute.py\", line 12\\n    include \"qelib1.inc\";\\n            ^^^^^^^^^^^^\\nSyntaxError: invalid syntax\\n'\n",
      "Failed to execute to_execute.py in Docker.\n",
      "Error parsing: Command 'python /workspace/to_execute.py' in image 'qiskit_runner' returned non-zero exit status 1: b'Traceback (most recent call last):\\n  File \"/workspace/to_execute.py\", line 10, in <module>\\n    qc = qasm2.loads(\\n  File \"/usr/local/lib/python3.10/site-packages/qiskit/qasm2/__init__.py\", line 587, in loads\\n    return _parse.from_bytecode(\\n  File \"/usr/local/lib/python3.10/site-packages/qiskit/qasm2/parse.py\", line 214, in from_bytecode\\n    for op in bc:\\nqiskit.qasm2.exceptions.QASM2ParseError: \"<input>:6,0: cannot use non-builtin custom instruction \\'cx\\' before definition\"\\n'\n",
      "Failed to execute to_execute.py in Docker.\n",
      "Error parsing: Command 'python /workspace/to_execute.py' in image 'qiskit_runner' returned non-zero exit status 1: b'Traceback (most recent call last):\\n  File \"/workspace/to_execute.py\", line 10, in <module>\\n    qc = qasm2.loads(\\n  File \"/usr/local/lib/python3.10/site-packages/qiskit/qasm2/__init__.py\", line 587, in loads\\n    return _parse.from_bytecode(\\n  File \"/usr/local/lib/python3.10/site-packages/qiskit/qasm2/parse.py\", line 214, in from_bytecode\\n    for op in bc:\\nqiskit.qasm2.exceptions.QASM2ParseError: \"<input>:6,3: \\'a\\' is not defined in this scope\"\\n'\n",
      "Failed to execute to_execute.py in Docker.\n",
      "Output: Saved the Pytket circuit to /workspace/to_execute_qc_pytket.qasm\n",
      "Saved the Qiskit circuit to /workspace/to_execute_qc_qiskit.qasm\n",
      "Exported QASM files: [('/workspace/to_execute_qc_pytket.qasm', 'export_to_qasm_with_pytket'), ('/workspace/to_execute_qc_qiskit.qasm', 'export_to_qasm_with_qiskit')]\n",
      "Log has been saved to /workspace/to_execute_f363a8_error.json\n",
      "\n",
      "Program to_execute.py executed successfully.\n",
      "New exception message: The circuits are not equivalent: /workspace/to_execute_qc_pytket.qasm, /workspace/to_execute_qc_qiskit.qasm\n",
      "Error parsing: Command 'python /workspace/to_execute.py' in image 'qiskit_runner' returned non-zero exit status 1: b'  File \"/workspace/to_execute.py\", line 20\\n    , custom_instructions=qasm2.LEGACY_CUSTOM_INSTRUCTIONS)\\nIndentationError: unexpected indent\\n'\n",
      "Failed to execute to_execute.py in Docker.\n",
      "Error parsing: Command 'python /workspace/to_execute.py' in image 'qiskit_runner' returned non-zero exit status 1: b'  File \"/workspace/to_execute.py\", line 12\\n    include \"qelib1.inc\";\\n            ^^^^^^^^^^^^\\nSyntaxError: invalid syntax\\n'\n",
      "Failed to execute to_execute.py in Docker.\n",
      "Error parsing: Command 'python /workspace/to_execute.py' in image 'qiskit_runner' returned non-zero exit status 1: b'Traceback (most recent call last):\\n  File \"/workspace/to_execute.py\", line 10, in <module>\\n    qc = qasm2.loads(\\n  File \"/usr/local/lib/python3.10/site-packages/qiskit/qasm2/__init__.py\", line 587, in loads\\n    return _parse.from_bytecode(\\n  File \"/usr/local/lib/python3.10/site-packages/qiskit/qasm2/parse.py\", line 214, in from_bytecode\\n    for op in bc:\\nqiskit.qasm2.exceptions.QASM2ParseError: \"<input>:5,0: cannot use non-builtin custom instruction \\'cx\\' before definition\"\\n'\n",
      "Failed to execute to_execute.py in Docker.\n",
      "Error parsing: Command 'python /workspace/to_execute.py' in image 'qiskit_runner' returned non-zero exit status 1: b'Traceback (most recent call last):\\n  File \"/workspace/to_execute.py\", line 10, in <module>\\n    qc = qasm2.loads(\\n  File \"/usr/local/lib/python3.10/site-packages/qiskit/qasm2/__init__.py\", line 587, in loads\\n    return _parse.from_bytecode(\\n  File \"/usr/local/lib/python3.10/site-packages/qiskit/qasm2/parse.py\", line 214, in from_bytecode\\n    for op in bc:\\nqiskit.qasm2.exceptions.QASM2ParseError: \"<input>:5,3: \\'a\\' is not defined in this scope\"\\n'\n",
      "Failed to execute to_execute.py in Docker.\n",
      "Output: Saved the Pytket circuit to /workspace/to_execute_qc_pytket.qasm\n",
      "Saved the Qiskit circuit to /workspace/to_execute_qc_qiskit.qasm\n",
      "Exported QASM files: [('/workspace/to_execute_qc_pytket.qasm', 'export_to_qasm_with_pytket'), ('/workspace/to_execute_qc_qiskit.qasm', 'export_to_qasm_with_qiskit')]\n",
      "The circuits are equivalent: /workspace/to_execute_qc_pytket.qasm, /workspace/to_execute_qc_qiskit.qasm\n",
      "\n",
      "Program to_execute.py executed successfully.\n",
      "Error parsing: Command 'python /workspace/to_execute.py' in image 'qiskit_runner' returned non-zero exit status 1: b'  File \"/workspace/to_execute.py\", line 12\\n    OPENQASM 2.0;\\n    ^^^^^^^^^^^^\\nSyntaxError: invalid syntax. Perhaps you forgot a comma?\\n'\n",
      "Failed to execute to_execute.py in Docker.\n",
      "Error parsing: Command 'python /workspace/to_execute.py' in image 'qiskit_runner' returned non-zero exit status 1: b'  File \"/workspace/to_execute.py\", line 10\\n    qc = qasm2.loads(\\n                    ^\\nSyntaxError: \\'(\\' was never closed\\n'\n",
      "Failed to execute to_execute.py in Docker.\n",
      "Error parsing: Command 'python /workspace/to_execute.py' in image 'qiskit_runner' returned non-zero exit status 1: b'  File \"/workspace/to_execute.py\", line 21\\n    , custom_instructions=qasm2.LEGACY_CUSTOM_INSTRUCTIONS)\\nIndentationError: unexpected indent\\n'\n",
      "Failed to execute to_execute.py in Docker.\n",
      "Output: Saved the Pytket circuit to /workspace/to_execute_qc_pytket.qasm\n",
      "Saved the Qiskit circuit to /workspace/to_execute_qc_qiskit.qasm\n",
      "Exported QASM files: [('/workspace/to_execute_qc_pytket.qasm', 'export_to_qasm_with_pytket'), ('/workspace/to_execute_qc_qiskit.qasm', 'export_to_qasm_with_qiskit')]\n",
      "Log has been saved to /workspace/to_execute_e357bb_error.json\n",
      "\n",
      "Program to_execute.py executed successfully.\n",
      "New exception message: The circuits are not equivalent: /workspace/to_execute_qc_pytket.qasm, /workspace/to_execute_qc_qiskit.qasm\n",
      "Error parsing: Command 'python /workspace/to_execute.py' in image 'qiskit_runner' returned non-zero exit status 1: b'  File \"/workspace/to_execute.py\", line 20\\n    , custom_instructions=qasm2.LEGACY_CUSTOM_INSTRUCTIONS)\\nIndentationError: unexpected indent\\n'\n",
      "Failed to execute to_execute.py in Docker.\n",
      "Error parsing: Command 'python /workspace/to_execute.py' in image 'qiskit_runner' returned non-zero exit status 1: b'  File \"/workspace/to_execute.py\", line 11\\n    OPENQASM 2.0;\\n    ^^^^^^^^^^^^\\nSyntaxError: invalid syntax. Perhaps you forgot a comma?\\n'\n",
      "Failed to execute to_execute.py in Docker.\n",
      "Output: Saved the Pytket circuit to /workspace/to_execute_qc_pytket.qasm\n",
      "Saved the Qiskit circuit to /workspace/to_execute_qc_qiskit.qasm\n",
      "Exported QASM files: [('/workspace/to_execute_qc_pytket.qasm', 'export_to_qasm_with_pytket'), ('/workspace/to_execute_qc_qiskit.qasm', 'export_to_qasm_with_qiskit')]\n",
      "Log has been saved to /workspace/to_execute_fa0972_error.json\n",
      "\n",
      "Program to_execute.py executed successfully.\n",
      "New exception message: The circuits are not equivalent: /workspace/to_execute_qc_pytket.qasm, /workspace/to_execute_qc_qiskit.qasm\n",
      "Error parsing: Command 'python /workspace/to_execute.py' in image 'qiskit_runner' returned non-zero exit status 1: b'  File \"/workspace/to_execute.py\", line 19\\n    , custom_instructions=qasm2.LEGACY_CUSTOM_INSTRUCTIONS)\\nIndentationError: unexpected indent\\n'\n",
      "Failed to execute to_execute.py in Docker.\n",
      "Error parsing: Command 'python /workspace/to_execute.py' in image 'qiskit_runner' returned non-zero exit status 1: b'  File \"/workspace/to_execute.py\", line 11\\n    include \"qelib1.inc\";\\n            ^^^^^^^^^^^^\\nSyntaxError: invalid syntax\\n'\n",
      "Failed to execute to_execute.py in Docker.\n",
      "Error parsing: Command 'python /workspace/to_execute.py' in image 'qiskit_runner' returned non-zero exit status 1: b'Traceback (most recent call last):\\n  File \"/workspace/to_execute.py\", line 10, in <module>\\n    qc = qasm2.loads(\\n  File \"/usr/local/lib/python3.10/site-packages/qiskit/qasm2/__init__.py\", line 587, in loads\\n    return _parse.from_bytecode(\\n  File \"/usr/local/lib/python3.10/site-packages/qiskit/qasm2/parse.py\", line 214, in from_bytecode\\n    for op in bc:\\nqiskit.qasm2.exceptions.QASM2ParseError: \"<input>:5,0: cannot use non-builtin custom instruction \\'cx\\' before definition\"\\n'\n",
      "Failed to execute to_execute.py in Docker.\n",
      "Error parsing: Command 'python /workspace/to_execute.py' in image 'qiskit_runner' returned non-zero exit status 1: b'Traceback (most recent call last):\\n  File \"/workspace/to_execute.py\", line 10, in <module>\\n    qc = qasm2.loads(\\n  File \"/usr/local/lib/python3.10/site-packages/qiskit/qasm2/__init__.py\", line 587, in loads\\n    return _parse.from_bytecode(\\n  File \"/usr/local/lib/python3.10/site-packages/qiskit/qasm2/parse.py\", line 214, in from_bytecode\\n    for op in bc:\\nqiskit.qasm2.exceptions.QASM2ParseError: \"<input>:5,8: \\'cin\\' is not defined in this scope\"\\n'\n",
      "Failed to execute to_execute.py in Docker.\n",
      "Error parsing: Command 'python /workspace/to_execute.py' in image 'qiskit_runner' returned non-zero exit status 1: b'Traceback (most recent call last):\\n  File \"/workspace/to_execute.py\", line 10, in <module>\\n    qc = qasm2.loads(\\n  File \"/usr/local/lib/python3.10/site-packages/qiskit/qasm2/__init__.py\", line 587, in loads\\n    return _parse.from_bytecode(\\n  File \"/usr/local/lib/python3.10/site-packages/qiskit/qasm2/parse.py\", line 214, in from_bytecode\\n    for op in bc:\\nqiskit.qasm2.exceptions.QASM2ParseError: \"<input>:5,3: \\'a\\' is not defined in this scope\"\\n'\n",
      "Failed to execute to_execute.py in Docker.\n",
      "Error parsing: Command 'python /workspace/to_execute.py' in image 'qiskit_runner' returned non-zero exit status 1: b'Traceback (most recent call last):\\n  File \"/workspace/to_execute.py\", line 10, in <module>\\n    qc = qasm2.loads(\\n  File \"/usr/local/lib/python3.10/site-packages/qiskit/qasm2/__init__.py\", line 587, in loads\\n    return _parse.from_bytecode(\\n  File \"/usr/local/lib/python3.10/site-packages/qiskit/qasm2/parse.py\", line 214, in from_bytecode\\n    for op in bc:\\nqiskit.qasm2.exceptions.QASM2ParseError: \"<input>:6,11: \\'b\\' is not defined in this scope\"\\n'\n",
      "Failed to execute to_execute.py in Docker.\n",
      "Output: Saved the Pytket circuit to /workspace/to_execute_qc_pytket.qasm\n",
      "Saved the Qiskit circuit to /workspace/to_execute_qc_qiskit.qasm\n",
      "Exported QASM files: [('/workspace/to_execute_qc_pytket.qasm', 'export_to_qasm_with_pytket'), ('/workspace/to_execute_qc_qiskit.qasm', 'export_to_qasm_with_qiskit')]\n",
      "Log has been saved to /workspace/to_execute_a12dc7_error.json\n",
      "\n",
      "Program to_execute.py executed successfully.\n",
      "New exception message: The circuits are not equivalent: /workspace/to_execute_qc_pytket.qasm, /workspace/to_execute_qc_qiskit.qasm\n",
      "Error parsing: Command 'python /workspace/to_execute.py' in image 'qiskit_runner' returned non-zero exit status 1: b'  File \"/workspace/to_execute.py\", line 18\\n    , custom_instructions=qasm2.LEGACY_CUSTOM_INSTRUCTIONS)\\nIndentationError: unexpected indent\\n'\n",
      "Failed to execute to_execute.py in Docker.\n",
      "Error parsing: Command 'python /workspace/to_execute.py' in image 'qiskit_runner' returned non-zero exit status 1: b'  File \"/workspace/to_execute.py\", line 11\\n    include \"qelib1.inc\";\\n            ^^^^^^^^^^^^\\nSyntaxError: invalid syntax\\n'\n",
      "Failed to execute to_execute.py in Docker.\n",
      "Error parsing: Command 'python /workspace/to_execute.py' in image 'qiskit_runner' returned non-zero exit status 1: b'Traceback (most recent call last):\\n  File \"/workspace/to_execute.py\", line 10, in <module>\\n    qc = qasm2.loads(\\n  File \"/usr/local/lib/python3.10/site-packages/qiskit/qasm2/__init__.py\", line 587, in loads\\n    return _parse.from_bytecode(\\n  File \"/usr/local/lib/python3.10/site-packages/qiskit/qasm2/parse.py\", line 214, in from_bytecode\\n    for op in bc:\\nqiskit.qasm2.exceptions.QASM2ParseError: \"<input>:5,0: cannot use non-builtin custom instruction \\'ccx\\' before definition\"\\n'\n",
      "Failed to execute to_execute.py in Docker.\n",
      "Error parsing: Command 'python /workspace/to_execute.py' in image 'qiskit_runner' returned non-zero exit status 1: b'Traceback (most recent call last):\\n  File \"/workspace/to_execute.py\", line 10, in <module>\\n    qc = qasm2.loads(\\n  File \"/usr/local/lib/python3.10/site-packages/qiskit/qasm2/__init__.py\", line 587, in loads\\n    return _parse.from_bytecode(\\n  File \"/usr/local/lib/python3.10/site-packages/qiskit/qasm2/parse.py\", line 214, in from_bytecode\\n    for op in bc:\\nqiskit.qasm2.exceptions.QASM2ParseError: \"<input>:5,4: \\'cin\\' is not defined in this scope\"\\n'\n",
      "Failed to execute to_execute.py in Docker.\n",
      "Error parsing: Command 'python /workspace/to_execute.py' in image 'qiskit_runner' returned non-zero exit status 1: b'Traceback (most recent call last):\\n  File \"/workspace/to_execute.py\", line 10, in <module>\\n    qc = qasm2.loads(\\n  File \"/usr/local/lib/python3.10/site-packages/qiskit/qasm2/__init__.py\", line 587, in loads\\n    return _parse.from_bytecode(\\n  File \"/usr/local/lib/python3.10/site-packages/qiskit/qasm2/parse.py\", line 214, in from_bytecode\\n    for op in bc:\\nqiskit.qasm2.exceptions.QASM2ParseError: \"<input>:5,16: \\'a\\' is not defined in this scope\"\\n'\n",
      "Failed to execute to_execute.py in Docker.\n",
      "Error parsing: Command 'python /workspace/to_execute.py' in image 'qiskit_runner' returned non-zero exit status 1: b'Traceback (most recent call last):\\n  File \"/workspace/to_execute.py\", line 10, in <module>\\n    qc = qasm2.loads(\\n  File \"/usr/local/lib/python3.10/site-packages/qiskit/qasm2/__init__.py\", line 587, in loads\\n    return _parse.from_bytecode(\\n  File \"/usr/local/lib/python3.10/site-packages/qiskit/qasm2/parse.py\", line 214, in from_bytecode\\n    for op in bc:\\nqiskit.qasm2.exceptions.QASM2ParseError: \"<input>:5,11: \\'b\\' is not defined in this scope\"\\n'\n",
      "Failed to execute to_execute.py in Docker.\n",
      "Output: Saved the Pytket circuit to /workspace/to_execute_qc_pytket.qasm\n",
      "Saved the Qiskit circuit to /workspace/to_execute_qc_qiskit.qasm\n",
      "Exported QASM files: [('/workspace/to_execute_qc_pytket.qasm', 'export_to_qasm_with_pytket'), ('/workspace/to_execute_qc_qiskit.qasm', 'export_to_qasm_with_qiskit')]\n",
      "The circuits are equivalent: /workspace/to_execute_qc_pytket.qasm, /workspace/to_execute_qc_qiskit.qasm\n",
      "\n",
      "Program to_execute.py executed successfully.\n",
      "Output: Saved the Pytket circuit to /workspace/to_execute_qc_pytket.qasm\n",
      "Saved the Qiskit circuit to /workspace/to_execute_qc_qiskit.qasm\n",
      "Exported QASM files: [('/workspace/to_execute_qc_pytket.qasm', 'export_to_qasm_with_pytket'), ('/workspace/to_execute_qc_qiskit.qasm', 'export_to_qasm_with_qiskit')]\n",
      "Log has been saved to /workspace/to_execute_088a05_error.json\n",
      "\n",
      "Program to_execute.py executed successfully.\n",
      "New exception message: The circuits are not equivalent: /workspace/to_execute_qc_pytket.qasm, /workspace/to_execute_qc_qiskit.qasm\n",
      "Error parsing: Command 'python /workspace/to_execute.py' in image 'qiskit_runner' returned non-zero exit status 1: b'  File \"/workspace/to_execute.py\", line 17\\n    , custom_instructions=qasm2.LEGACY_CUSTOM_INSTRUCTIONS)\\nIndentationError: unexpected indent\\n'\n",
      "Failed to execute to_execute.py in Docker.\n",
      "Error parsing: Command 'python /workspace/to_execute.py' in image 'qiskit_runner' returned non-zero exit status 1: b'  File \"/workspace/to_execute.py\", line 11\\n    include \"qelib1.inc\";\\n            ^^^^^^^^^^^^\\nSyntaxError: invalid syntax\\n'\n",
      "Failed to execute to_execute.py in Docker.\n",
      "Error parsing: Command 'python /workspace/to_execute.py' in image 'qiskit_runner' returned non-zero exit status 1: b'Traceback (most recent call last):\\n  File \"/workspace/to_execute.py\", line 10, in <module>\\n    qc = qasm2.loads(\\n  File \"/usr/local/lib/python3.10/site-packages/qiskit/qasm2/__init__.py\", line 587, in loads\\n    return _parse.from_bytecode(\\n  File \"/usr/local/lib/python3.10/site-packages/qiskit/qasm2/parse.py\", line 214, in from_bytecode\\n    for op in bc:\\nqiskit.qasm2.exceptions.QASM2ParseError: \"<input>:5,0: cannot use non-builtin custom instruction \\'ccx\\' before definition\"\\n'\n",
      "Failed to execute to_execute.py in Docker.\n",
      "Error parsing: Command 'python /workspace/to_execute.py' in image 'qiskit_runner' returned non-zero exit status 1: b'Traceback (most recent call last):\\n  File \"/workspace/to_execute.py\", line 10, in <module>\\n    qc = qasm2.loads(\\n  File \"/usr/local/lib/python3.10/site-packages/qiskit/qasm2/__init__.py\", line 587, in loads\\n    return _parse.from_bytecode(\\n  File \"/usr/local/lib/python3.10/site-packages/qiskit/qasm2/parse.py\", line 214, in from_bytecode\\n    for op in bc:\\nqiskit.qasm2.exceptions.QASM2ParseError: \"<input>:5,4: \\'cin\\' is not defined in this scope\"\\n'\n",
      "Failed to execute to_execute.py in Docker.\n",
      "Error parsing: Command 'python /workspace/to_execute.py' in image 'qiskit_runner' returned non-zero exit status 1: b'Traceback (most recent call last):\\n  File \"/workspace/to_execute.py\", line 10, in <module>\\n    qc = qasm2.loads(\\n  File \"/usr/local/lib/python3.10/site-packages/qiskit/qasm2/__init__.py\", line 587, in loads\\n    return _parse.from_bytecode(\\n  File \"/usr/local/lib/python3.10/site-packages/qiskit/qasm2/parse.py\", line 214, in from_bytecode\\n    for op in bc:\\nqiskit.qasm2.exceptions.QASM2ParseError: \"<input>:5,16: \\'a\\' is not defined in this scope\"\\n'\n",
      "Failed to execute to_execute.py in Docker.\n",
      "Error parsing: Command 'python /workspace/to_execute.py' in image 'qiskit_runner' returned non-zero exit status 1: b'Traceback (most recent call last):\\n  File \"/workspace/to_execute.py\", line 10, in <module>\\n    qc = qasm2.loads(\\n  File \"/usr/local/lib/python3.10/site-packages/qiskit/qasm2/__init__.py\", line 587, in loads\\n    return _parse.from_bytecode(\\n  File \"/usr/local/lib/python3.10/site-packages/qiskit/qasm2/parse.py\", line 214, in from_bytecode\\n    for op in bc:\\nqiskit.qasm2.exceptions.QASM2ParseError: \"<input>:5,11: \\'b\\' is not defined in this scope\"\\n'\n",
      "Failed to execute to_execute.py in Docker.\n",
      "Output: Saved the Pytket circuit to /workspace/to_execute_qc_pytket.qasm\n",
      "Saved the Qiskit circuit to /workspace/to_execute_qc_qiskit.qasm\n",
      "Exported QASM files: [('/workspace/to_execute_qc_pytket.qasm', 'export_to_qasm_with_pytket'), ('/workspace/to_execute_qc_qiskit.qasm', 'export_to_qasm_with_qiskit')]\n",
      "The circuits are equivalent: /workspace/to_execute_qc_pytket.qasm, /workspace/to_execute_qc_qiskit.qasm\n",
      "\n",
      "Program to_execute.py executed successfully.\n",
      "Error parsing: Command 'python /workspace/to_execute.py' in image 'qiskit_runner' returned non-zero exit status 1: b'  File \"/workspace/to_execute.py\", line 11\\n    include \"qelib1.inc\";\\n            ^^^^^^^^^^^^\\nSyntaxError: invalid syntax\\n'\n",
      "Failed to execute to_execute.py in Docker.\n",
      "Error parsing: Command 'python /workspace/to_execute.py' in image 'qiskit_runner' returned non-zero exit status 1: b'  File \"/workspace/to_execute.py\", line 10\\n    qc = qasm2.loads(\\n                    ^\\nSyntaxError: \\'(\\' was never closed\\n'\n",
      "Failed to execute to_execute.py in Docker.\n"
     ]
    },
    {
     "data": {
      "text/html": [
       "<pre style=\"white-space:pre;overflow-x:auto;line-height:normal;font-family:Menlo,'DejaVu Sans Mono',consolas,'Courier New',monospace\"><span style=\"color: #7fbfbf; text-decoration-color: #7fbfbf\">[15:35:46] </span><span style=\"color: #008000; text-decoration-color: #008000\">Minimized file saved as:</span>                                                        <a href=\"file:///home/paltenmo/projects/crossplatform/analysis_and_reporting/ddmin_target_file.py\" target=\"_blank\"><span style=\"color: #7f7f7f; text-decoration-color: #7f7f7f\">ddmin_target_file.py</span></a><span style=\"color: #7f7f7f; text-decoration-color: #7f7f7f\">:</span><a href=\"file:///home/paltenmo/projects/crossplatform/analysis_and_reporting/ddmin_target_file.py#240\" target=\"_blank\"><span style=\"color: #7f7f7f; text-decoration-color: #7f7f7f\">240</span></a>\n",
       "<span style=\"color: #7fbfbf; text-decoration-color: #7fbfbf\">           </span>..<span style=\"color: #800080; text-decoration-color: #800080\">/program_bank/v007/2024_10_31__17_51__qiskit/</span><span style=\"color: #ff00ff; text-decoration-color: #ff00ff\">qiskit_circuit_5q_10g_16712_5249</span> <span style=\"color: #7f7f7f; text-decoration-color: #7f7f7f\">                        </span>\n",
       "<span style=\"color: #7fbfbf; text-decoration-color: #7fbfbf\">           </span><span style=\"color: #ff00ff; text-decoration-color: #ff00ff\">9e_26f332_error_min.py</span>                                                          <span style=\"color: #7f7f7f; text-decoration-color: #7f7f7f\">                        </span>\n",
       "</pre>\n"
      ],
      "text/plain": [
       "\u001b[2;36m[15:35:46]\u001b[0m\u001b[2;36m \u001b[0m\u001b[32mMinimized file saved as:\u001b[0m                                                        \u001b]8;id=536310;file:///home/paltenmo/projects/crossplatform/analysis_and_reporting/ddmin_target_file.py\u001b\\\u001b[2mddmin_target_file.py\u001b[0m\u001b]8;;\u001b\\\u001b[2m:\u001b[0m\u001b]8;id=556250;file:///home/paltenmo/projects/crossplatform/analysis_and_reporting/ddmin_target_file.py#240\u001b\\\u001b[2m240\u001b[0m\u001b]8;;\u001b\\\n",
       "\u001b[2;36m           \u001b[0m..\u001b[35m/program_bank/v007/2024_10_31__17_51__qiskit/\u001b[0m\u001b[95mqiskit_circuit_5q_10g_16712_5249\u001b[0m \u001b[2m                        \u001b[0m\n",
       "\u001b[2;36m           \u001b[0m\u001b[95m9e_26f332_error_min.py\u001b[0m                                                          \u001b[2m                        \u001b[0m\n"
      ]
     },
     "metadata": {},
     "output_type": "display_data"
    },
    {
     "name": "stdout",
     "output_type": "stream",
     "text": [
      "Running minimization for ../program_bank/v007/2024_10_31__17_51__sample_errors/qiskit_circuit_5q_10g_7831_c7cfba_51499c_error.json\n"
     ]
    },
    {
     "data": {
      "text/html": [
       "<pre style=\"white-space:pre;overflow-x:auto;line-height:normal;font-family:Menlo,'DejaVu Sans Mono',consolas,'Courier New',monospace\"><span style=\"color: #7fbfbf; text-decoration-color: #7fbfbf\">           </span>Involved functions:                                                             <a href=\"file:///home/paltenmo/projects/crossplatform/analysis_and_reporting/ddmin_target_file.py\" target=\"_blank\"><span style=\"color: #7f7f7f; text-decoration-color: #7f7f7f\">ddmin_target_file.py</span></a><span style=\"color: #7f7f7f; text-decoration-color: #7f7f7f\">:</span><a href=\"file:///home/paltenmo/projects/crossplatform/analysis_and_reporting/ddmin_target_file.py#206\" target=\"_blank\"><span style=\"color: #7f7f7f; text-decoration-color: #7f7f7f\">206</span></a>\n",
       "</pre>\n"
      ],
      "text/plain": [
       "\u001b[2;36m          \u001b[0m\u001b[2;36m \u001b[0mInvolved functions:                                                             \u001b]8;id=69662;file:///home/paltenmo/projects/crossplatform/analysis_and_reporting/ddmin_target_file.py\u001b\\\u001b[2mddmin_target_file.py\u001b[0m\u001b]8;;\u001b\\\u001b[2m:\u001b[0m\u001b]8;id=649270;file:///home/paltenmo/projects/crossplatform/analysis_and_reporting/ddmin_target_file.py#206\u001b\\\u001b[2m206\u001b[0m\u001b]8;;\u001b\\\n"
      ]
     },
     "metadata": {},
     "output_type": "display_data"
    },
    {
     "data": {
      "text/html": [
       "<pre style=\"white-space:pre;overflow-x:auto;line-height:normal;font-family:Menlo,'DejaVu Sans Mono',consolas,'Courier New',monospace\"><span style=\"color: #7fbfbf; text-decoration-color: #7fbfbf\">           </span>  - compare_qasm_via_qcec                                                       <a href=\"file:///home/paltenmo/projects/crossplatform/analysis_and_reporting/ddmin_target_file.py\" target=\"_blank\"><span style=\"color: #7f7f7f; text-decoration-color: #7f7f7f\">ddmin_target_file.py</span></a><span style=\"color: #7f7f7f; text-decoration-color: #7f7f7f\">:</span><a href=\"file:///home/paltenmo/projects/crossplatform/analysis_and_reporting/ddmin_target_file.py#208\" target=\"_blank\"><span style=\"color: #7f7f7f; text-decoration-color: #7f7f7f\">208</span></a>\n",
       "</pre>\n"
      ],
      "text/plain": [
       "\u001b[2;36m          \u001b[0m\u001b[2;36m \u001b[0m  - compare_qasm_via_qcec                                                       \u001b]8;id=521199;file:///home/paltenmo/projects/crossplatform/analysis_and_reporting/ddmin_target_file.py\u001b\\\u001b[2mddmin_target_file.py\u001b[0m\u001b]8;;\u001b\\\u001b[2m:\u001b[0m\u001b]8;id=114736;file:///home/paltenmo/projects/crossplatform/analysis_and_reporting/ddmin_target_file.py#208\u001b\\\u001b[2m208\u001b[0m\u001b]8;;\u001b\\\n"
      ]
     },
     "metadata": {},
     "output_type": "display_data"
    },
    {
     "data": {
      "text/html": [
       "<pre style=\"white-space:pre;overflow-x:auto;line-height:normal;font-family:Menlo,'DejaVu Sans Mono',consolas,'Courier New',monospace\"><span style=\"color: #7fbfbf; text-decoration-color: #7fbfbf\">           </span>  - export_to_qasm_with_pennylane                                               <a href=\"file:///home/paltenmo/projects/crossplatform/analysis_and_reporting/ddmin_target_file.py\" target=\"_blank\"><span style=\"color: #7f7f7f; text-decoration-color: #7f7f7f\">ddmin_target_file.py</span></a><span style=\"color: #7f7f7f; text-decoration-color: #7f7f7f\">:</span><a href=\"file:///home/paltenmo/projects/crossplatform/analysis_and_reporting/ddmin_target_file.py#208\" target=\"_blank\"><span style=\"color: #7f7f7f; text-decoration-color: #7f7f7f\">208</span></a>\n",
       "</pre>\n"
      ],
      "text/plain": [
       "\u001b[2;36m          \u001b[0m\u001b[2;36m \u001b[0m  - export_to_qasm_with_pennylane                                               \u001b]8;id=473561;file:///home/paltenmo/projects/crossplatform/analysis_and_reporting/ddmin_target_file.py\u001b\\\u001b[2mddmin_target_file.py\u001b[0m\u001b]8;;\u001b\\\u001b[2m:\u001b[0m\u001b]8;id=668218;file:///home/paltenmo/projects/crossplatform/analysis_and_reporting/ddmin_target_file.py#208\u001b\\\u001b[2m208\u001b[0m\u001b]8;;\u001b\\\n"
      ]
     },
     "metadata": {},
     "output_type": "display_data"
    },
    {
     "data": {
      "text/html": [
       "<pre style=\"white-space:pre;overflow-x:auto;line-height:normal;font-family:Menlo,'DejaVu Sans Mono',consolas,'Courier New',monospace\"><span style=\"color: #7fbfbf; text-decoration-color: #7fbfbf\">           </span>  - export_to_qasm_with_qiskit                                                  <a href=\"file:///home/paltenmo/projects/crossplatform/analysis_and_reporting/ddmin_target_file.py\" target=\"_blank\"><span style=\"color: #7f7f7f; text-decoration-color: #7f7f7f\">ddmin_target_file.py</span></a><span style=\"color: #7f7f7f; text-decoration-color: #7f7f7f\">:</span><a href=\"file:///home/paltenmo/projects/crossplatform/analysis_and_reporting/ddmin_target_file.py#208\" target=\"_blank\"><span style=\"color: #7f7f7f; text-decoration-color: #7f7f7f\">208</span></a>\n",
       "</pre>\n"
      ],
      "text/plain": [
       "\u001b[2;36m          \u001b[0m\u001b[2;36m \u001b[0m  - export_to_qasm_with_qiskit                                                  \u001b]8;id=500890;file:///home/paltenmo/projects/crossplatform/analysis_and_reporting/ddmin_target_file.py\u001b\\\u001b[2mddmin_target_file.py\u001b[0m\u001b]8;;\u001b\\\u001b[2m:\u001b[0m\u001b]8;id=653726;file:///home/paltenmo/projects/crossplatform/analysis_and_reporting/ddmin_target_file.py#208\u001b\\\u001b[2m208\u001b[0m\u001b]8;;\u001b\\\n"
      ]
     },
     "metadata": {},
     "output_type": "display_data"
    },
    {
     "name": "stdout",
     "output_type": "stream",
     "text": [
      "Error parsing: Command 'python /workspace/to_execute.py' in image 'qiskit_runner' returned non-zero exit status 1: b'Traceback (most recent call last):\\n  File \"/workspace/to_execute.py\", line 118, in <module>\\n    target_qc = qc\\nNameError: name \\'qc\\' is not defined\\n'\n",
      "Failed to execute to_execute.py in Docker.\n",
      "Output: Saved the PennyLane circuit to /workspace/to_execute_qc_pennylane.qasm\n",
      "Saved the Qiskit circuit to /workspace/to_execute_qc_qiskit.qasm\n",
      "Exported QASM files: [('/workspace/to_execute_qc_pennylane.qasm', 'export_to_qasm_with_pennylane'), ('/workspace/to_execute_qc_qiskit.qasm', 'export_to_qasm_with_qiskit')]\n",
      "Log has been saved to /workspace/to_execute_4ec043_error.json\n",
      "\n",
      "Program to_execute.py executed successfully.\n",
      "New exception message: The circuits are not equivalent: /workspace/to_execute_qc_pennylane.qasm, /workspace/to_execute_qc_qiskit.qasm\n",
      "Error parsing: Command 'python /workspace/to_execute.py' in image 'qiskit_runner' returned non-zero exit status 1: b'  File \"/workspace/to_execute.py\", line 16\\n    , custom_instructions=qasm2.LEGACY_CUSTOM_INSTRUCTIONS)\\n                                                          ^\\nSyntaxError: unmatched \\')\\'\\n'\n",
      "Failed to execute to_execute.py in Docker.\n",
      "Error parsing: Command 'python /workspace/to_execute.py' in image 'qiskit_runner' returned non-zero exit status 1: b'  File \"/workspace/to_execute.py\", line 10\\n    qc = qasm2.loads(\\n                    ^\\nSyntaxError: \\'(\\' was never closed\\n'\n",
      "Failed to execute to_execute.py in Docker.\n",
      "Error parsing: Command 'python /workspace/to_execute.py' in image 'qiskit_runner' returned non-zero exit status 1: b'  File \"/workspace/to_execute.py\", line 21\\n    , custom_instructions=qasm2.LEGACY_CUSTOM_INSTRUCTIONS)\\n                                                          ^\\nSyntaxError: unmatched \\')\\'\\n'\n",
      "Failed to execute to_execute.py in Docker.\n",
      "Error parsing: Command 'python /workspace/to_execute.py' in image 'qiskit_runner' returned non-zero exit status 1: b'Traceback (most recent call last):\\n  File \"/workspace/to_execute.py\", line 10, in <module>\\n    qc = qasm2.loads(\\n  File \"/usr/local/lib/python3.10/site-packages/qiskit/qasm2/__init__.py\", line 587, in loads\\n    return _parse.from_bytecode(\\n  File \"/usr/local/lib/python3.10/site-packages/qiskit/qasm2/parse.py\", line 214, in from_bytecode\\n    for op in bc:\\nqiskit.qasm2.exceptions.QASM2ParseError: \"<input>:3,0: cannot use non-builtin custom instruction \\'h\\' before definition\"\\n'\n",
      "Failed to execute to_execute.py in Docker.\n",
      "Output: Saved the PennyLane circuit to /workspace/to_execute_qc_pennylane.qasm\n",
      "Saved the Qiskit circuit to /workspace/to_execute_qc_qiskit.qasm\n",
      "Exported QASM files: [('/workspace/to_execute_qc_pennylane.qasm', 'export_to_qasm_with_pennylane'), ('/workspace/to_execute_qc_qiskit.qasm', 'export_to_qasm_with_qiskit')]\n",
      "Log has been saved to /workspace/to_execute_f11047_error.json\n",
      "\n",
      "Program to_execute.py executed successfully.\n",
      "New exception message: The circuits are not equivalent: /workspace/to_execute_qc_pennylane.qasm, /workspace/to_execute_qc_qiskit.qasm\n",
      "Error parsing: Command 'python /workspace/to_execute.py' in image 'qiskit_runner' returned non-zero exit status 1: b'  File \"/workspace/to_execute.py\", line 16\\n    , custom_instructions=qasm2.LEGACY_CUSTOM_INSTRUCTIONS)\\n                                                          ^\\nSyntaxError: unmatched \\')\\'\\n'\n",
      "Failed to execute to_execute.py in Docker.\n",
      "Error parsing: Command 'python /workspace/to_execute.py' in image 'qiskit_runner' returned non-zero exit status 1: b'Traceback (most recent call last):\\n  File \"/workspace/to_execute.py\", line 10, in <module>\\n    qc = qasm2.loads(\\n  File \"/usr/local/lib/python3.10/site-packages/qiskit/qasm2/__init__.py\", line 587, in loads\\n    return _parse.from_bytecode(\\n  File \"/usr/local/lib/python3.10/site-packages/qiskit/qasm2/parse.py\", line 214, in from_bytecode\\n    for op in bc:\\nqiskit.qasm2.exceptions.QASM2ParseError: \"<input>:3,8: \\'q\\' is not defined in this scope\"\\n'\n",
      "Failed to execute to_execute.py in Docker.\n",
      "Error parsing: Command 'python /workspace/to_execute.py' in image 'qiskit_runner' returned non-zero exit status 1: b'  File \"/workspace/to_execute.py\", line 10\\n    qc = qasm2.loads(\\n                    ^\\nSyntaxError: \\'(\\' was never closed\\n'\n",
      "Failed to execute to_execute.py in Docker.\n",
      "Error parsing: Command 'python /workspace/to_execute.py' in image 'qiskit_runner' returned non-zero exit status 1: b'  File \"/workspace/to_execute.py\", line 19\\n    , custom_instructions=qasm2.LEGACY_CUSTOM_INSTRUCTIONS)\\nIndentationError: unexpected indent\\n'\n",
      "Failed to execute to_execute.py in Docker.\n",
      "Error parsing: Command 'python /workspace/to_execute.py' in image 'qiskit_runner' returned non-zero exit status 1: b'  File \"/workspace/to_execute.py\", line 12\\n    include \"qelib1.inc\";\\n            ^^^^^^^^^^^^\\nSyntaxError: invalid syntax\\n'\n",
      "Failed to execute to_execute.py in Docker.\n",
      "Error parsing: Command 'python /workspace/to_execute.py' in image 'qiskit_runner' returned non-zero exit status 1: b'Traceback (most recent call last):\\n  File \"/workspace/to_execute.py\", line 10, in <module>\\n    qc = qasm2.loads(\\n  File \"/usr/local/lib/python3.10/site-packages/qiskit/qasm2/__init__.py\", line 587, in loads\\n    return _parse.from_bytecode(\\n  File \"/usr/local/lib/python3.10/site-packages/qiskit/qasm2/parse.py\", line 214, in from_bytecode\\n    for op in bc:\\nqiskit.qasm2.exceptions.QASM2ParseError: \"<input>:4,0: cannot use non-builtin custom instruction \\'cx\\' before definition\"\\n'\n",
      "Failed to execute to_execute.py in Docker.\n",
      "Error parsing: Command 'python /workspace/to_execute.py' in image 'qiskit_runner' returned non-zero exit status 1: b'Traceback (most recent call last):\\n  File \"/workspace/to_execute.py\", line 10, in <module>\\n    qc = qasm2.loads(\\n  File \"/usr/local/lib/python3.10/site-packages/qiskit/qasm2/__init__.py\", line 587, in loads\\n    return _parse.from_bytecode(\\n  File \"/usr/local/lib/python3.10/site-packages/qiskit/qasm2/parse.py\", line 214, in from_bytecode\\n    for op in bc:\\nqiskit.qasm2.exceptions.QASM2ParseError: \"<input>:5,16: \\'c\\' is not defined in this scope\"\\n'\n",
      "Failed to execute to_execute.py in Docker.\n",
      "Output: Saved the PennyLane circuit to /workspace/to_execute_qc_pennylane.qasm\n",
      "Saved the Qiskit circuit to /workspace/to_execute_qc_qiskit.qasm\n",
      "Exported QASM files: [('/workspace/to_execute_qc_pennylane.qasm', 'export_to_qasm_with_pennylane'), ('/workspace/to_execute_qc_qiskit.qasm', 'export_to_qasm_with_qiskit')]\n",
      "The circuits are equivalent: /workspace/to_execute_qc_pennylane.qasm, /workspace/to_execute_qc_qiskit.qasm\n",
      "\n",
      "Program to_execute.py executed successfully.\n",
      "Error parsing: Command 'python /workspace/to_execute.py' in image 'qiskit_runner' returned non-zero exit status 1: b'  File \"/workspace/to_execute.py\", line 10\\n    qc = qasm2.loads(\\n                    ^\\nSyntaxError: \\'(\\' was never closed\\n'\n",
      "Failed to execute to_execute.py in Docker.\n",
      "Error parsing: Command 'python /workspace/to_execute.py' in image 'qiskit_runner' returned non-zero exit status 1: b'  File \"/workspace/to_execute.py\", line 20\\n    , custom_instructions=qasm2.LEGACY_CUSTOM_INSTRUCTIONS)\\nIndentationError: unexpected indent\\n'\n",
      "Failed to execute to_execute.py in Docker.\n",
      "Output: Saved the PennyLane circuit to /workspace/to_execute_qc_pennylane.qasm\n",
      "Saved the Qiskit circuit to /workspace/to_execute_qc_qiskit.qasm\n",
      "Exported QASM files: [('/workspace/to_execute_qc_pennylane.qasm', 'export_to_qasm_with_pennylane'), ('/workspace/to_execute_qc_qiskit.qasm', 'export_to_qasm_with_qiskit')]\n",
      "Log has been saved to /workspace/to_execute_6ff78e_error.json\n",
      "\n",
      "Program to_execute.py executed successfully.\n",
      "New exception message: The circuits are not equivalent: /workspace/to_execute_qc_pennylane.qasm, /workspace/to_execute_qc_qiskit.qasm\n",
      "Error parsing: Command 'python /workspace/to_execute.py' in image 'qiskit_runner' returned non-zero exit status 1: b'  File \"/workspace/to_execute.py\", line 19\\n    , custom_instructions=qasm2.LEGACY_CUSTOM_INSTRUCTIONS)\\nIndentationError: unexpected indent\\n'\n",
      "Failed to execute to_execute.py in Docker.\n",
      "Error parsing: Command 'python /workspace/to_execute.py' in image 'qiskit_runner' returned non-zero exit status 1: b'  File \"/workspace/to_execute.py\", line 11\\n    OPENQASM 2.0;\\n    ^^^^^^^^^^^^\\nSyntaxError: invalid syntax. Perhaps you forgot a comma?\\n'\n",
      "Failed to execute to_execute.py in Docker.\n",
      "Output: Saved the PennyLane circuit to /workspace/to_execute_qc_pennylane.qasm\n",
      "Saved the Qiskit circuit to /workspace/to_execute_qc_qiskit.qasm\n",
      "Exported QASM files: [('/workspace/to_execute_qc_pennylane.qasm', 'export_to_qasm_with_pennylane'), ('/workspace/to_execute_qc_qiskit.qasm', 'export_to_qasm_with_qiskit')]\n",
      "Log has been saved to /workspace/to_execute_4075a4_error.json\n",
      "\n",
      "Program to_execute.py executed successfully.\n",
      "New exception message: The circuits are not equivalent: /workspace/to_execute_qc_pennylane.qasm, /workspace/to_execute_qc_qiskit.qasm\n",
      "Error parsing: Command 'python /workspace/to_execute.py' in image 'qiskit_runner' returned non-zero exit status 1: b'  File \"/workspace/to_execute.py\", line 18\\n    , custom_instructions=qasm2.LEGACY_CUSTOM_INSTRUCTIONS)\\nIndentationError: unexpected indent\\n'\n",
      "Failed to execute to_execute.py in Docker.\n",
      "Error parsing: Command 'python /workspace/to_execute.py' in image 'qiskit_runner' returned non-zero exit status 1: b'  File \"/workspace/to_execute.py\", line 11\\n    include \"qelib1.inc\";\\n            ^^^^^^^^^^^^\\nSyntaxError: invalid syntax\\n'\n",
      "Failed to execute to_execute.py in Docker.\n",
      "Error parsing: Command 'python /workspace/to_execute.py' in image 'qiskit_runner' returned non-zero exit status 1: b'Traceback (most recent call last):\\n  File \"/workspace/to_execute.py\", line 10, in <module>\\n    qc = qasm2.loads(\\n  File \"/usr/local/lib/python3.10/site-packages/qiskit/qasm2/__init__.py\", line 587, in loads\\n    return _parse.from_bytecode(\\n  File \"/usr/local/lib/python3.10/site-packages/qiskit/qasm2/parse.py\", line 214, in from_bytecode\\n    for op in bc:\\nqiskit.qasm2.exceptions.QASM2ParseError: \"<input>:4,0: cannot use non-builtin custom instruction \\'cx\\' before definition\"\\n'\n",
      "Failed to execute to_execute.py in Docker.\n",
      "Error parsing: Command 'python /workspace/to_execute.py' in image 'qiskit_runner' returned non-zero exit status 1: b'Traceback (most recent call last):\\n  File \"/workspace/to_execute.py\", line 10, in <module>\\n    qc = qasm2.loads(\\n  File \"/usr/local/lib/python3.10/site-packages/qiskit/qasm2/__init__.py\", line 587, in loads\\n    return _parse.from_bytecode(\\n  File \"/usr/local/lib/python3.10/site-packages/qiskit/qasm2/parse.py\", line 214, in from_bytecode\\n    for op in bc:\\nqiskit.qasm2.exceptions.QASM2ParseError: \"<input>:4,3: \\'q\\' is not defined in this scope\"\\n'\n",
      "Failed to execute to_execute.py in Docker.\n",
      "Error parsing: Command 'python /workspace/to_execute.py' in image 'qiskit_runner' returned non-zero exit status 1: b'Traceback (most recent call last):\\n  File \"/workspace/to_execute.py\", line 10, in <module>\\n    qc = qasm2.loads(\\n  File \"/usr/local/lib/python3.10/site-packages/qiskit/qasm2/__init__.py\", line 587, in loads\\n    return _parse.from_bytecode(\\n  File \"/usr/local/lib/python3.10/site-packages/qiskit/qasm2/parse.py\", line 214, in from_bytecode\\n    for op in bc:\\nqiskit.qasm2.exceptions.QASM2ParseError: \"<input>:5,16: \\'c\\' is not defined in this scope\"\\n'\n",
      "Failed to execute to_execute.py in Docker.\n",
      "Output: Saved the PennyLane circuit to /workspace/to_execute_qc_pennylane.qasm\n",
      "Saved the Qiskit circuit to /workspace/to_execute_qc_qiskit.qasm\n",
      "Exported QASM files: [('/workspace/to_execute_qc_pennylane.qasm', 'export_to_qasm_with_pennylane'), ('/workspace/to_execute_qc_qiskit.qasm', 'export_to_qasm_with_qiskit')]\n",
      "The circuits are equivalent: /workspace/to_execute_qc_pennylane.qasm, /workspace/to_execute_qc_qiskit.qasm\n",
      "\n",
      "Program to_execute.py executed successfully.\n",
      "Output: Saved the PennyLane circuit to /workspace/to_execute_qc_pennylane.qasm\n",
      "Saved the Qiskit circuit to /workspace/to_execute_qc_qiskit.qasm\n",
      "Exported QASM files: [('/workspace/to_execute_qc_pennylane.qasm', 'export_to_qasm_with_pennylane'), ('/workspace/to_execute_qc_qiskit.qasm', 'export_to_qasm_with_qiskit')]\n",
      "The circuits are equivalent: /workspace/to_execute_qc_pennylane.qasm, /workspace/to_execute_qc_qiskit.qasm\n",
      "\n",
      "Program to_execute.py executed successfully.\n",
      "Output: Saved the PennyLane circuit to /workspace/to_execute_qc_pennylane.qasm\n",
      "Saved the Qiskit circuit to /workspace/to_execute_qc_qiskit.qasm\n",
      "Exported QASM files: [('/workspace/to_execute_qc_pennylane.qasm', 'export_to_qasm_with_pennylane'), ('/workspace/to_execute_qc_qiskit.qasm', 'export_to_qasm_with_qiskit')]\n",
      "Log has been saved to /workspace/to_execute_3a23d2_error.json\n",
      "\n",
      "Program to_execute.py executed successfully.\n",
      "New exception message: The circuits are not equivalent: /workspace/to_execute_qc_pennylane.qasm, /workspace/to_execute_qc_qiskit.qasm\n",
      "Error parsing: Command 'python /workspace/to_execute.py' in image 'qiskit_runner' returned non-zero exit status 1: b'  File \"/workspace/to_execute.py\", line 17\\n    , custom_instructions=qasm2.LEGACY_CUSTOM_INSTRUCTIONS)\\nIndentationError: unexpected indent\\n'\n",
      "Failed to execute to_execute.py in Docker.\n",
      "Error parsing: Command 'python /workspace/to_execute.py' in image 'qiskit_runner' returned non-zero exit status 1: b'  File \"/workspace/to_execute.py\", line 11\\n    include \"qelib1.inc\";\\n            ^^^^^^^^^^^^\\nSyntaxError: invalid syntax\\n'\n",
      "Failed to execute to_execute.py in Docker.\n",
      "Error parsing: Command 'python /workspace/to_execute.py' in image 'qiskit_runner' returned non-zero exit status 1: b'Traceback (most recent call last):\\n  File \"/workspace/to_execute.py\", line 10, in <module>\\n    qc = qasm2.loads(\\n  File \"/usr/local/lib/python3.10/site-packages/qiskit/qasm2/__init__.py\", line 587, in loads\\n    return _parse.from_bytecode(\\n  File \"/usr/local/lib/python3.10/site-packages/qiskit/qasm2/parse.py\", line 214, in from_bytecode\\n    for op in bc:\\nqiskit.qasm2.exceptions.QASM2ParseError: \"<input>:4,0: cannot use non-builtin custom instruction \\'cx\\' before definition\"\\n'\n",
      "Failed to execute to_execute.py in Docker.\n",
      "Error parsing: Command 'python /workspace/to_execute.py' in image 'qiskit_runner' returned non-zero exit status 1: b'Traceback (most recent call last):\\n  File \"/workspace/to_execute.py\", line 10, in <module>\\n    qc = qasm2.loads(\\n  File \"/usr/local/lib/python3.10/site-packages/qiskit/qasm2/__init__.py\", line 587, in loads\\n    return _parse.from_bytecode(\\n  File \"/usr/local/lib/python3.10/site-packages/qiskit/qasm2/parse.py\", line 214, in from_bytecode\\n    for op in bc:\\nqiskit.qasm2.exceptions.QASM2ParseError: \"<input>:4,3: \\'q\\' is not defined in this scope\"\\n'\n",
      "Failed to execute to_execute.py in Docker.\n",
      "Error parsing: Command 'python /workspace/to_execute.py' in image 'qiskit_runner' returned non-zero exit status 1: b'Traceback (most recent call last):\\n  File \"/workspace/to_execute.py\", line 10, in <module>\\n    qc = qasm2.loads(\\n  File \"/usr/local/lib/python3.10/site-packages/qiskit/qasm2/__init__.py\", line 587, in loads\\n    return _parse.from_bytecode(\\n  File \"/usr/local/lib/python3.10/site-packages/qiskit/qasm2/parse.py\", line 214, in from_bytecode\\n    for op in bc:\\nqiskit.qasm2.exceptions.QASM2ParseError: \"<input>:5,16: \\'c\\' is not defined in this scope\"\\n'\n",
      "Failed to execute to_execute.py in Docker.\n",
      "Output: Saved the PennyLane circuit to /workspace/to_execute_qc_pennylane.qasm\n",
      "Saved the Qiskit circuit to /workspace/to_execute_qc_qiskit.qasm\n",
      "Exported QASM files: [('/workspace/to_execute_qc_pennylane.qasm', 'export_to_qasm_with_pennylane'), ('/workspace/to_execute_qc_qiskit.qasm', 'export_to_qasm_with_qiskit')]\n",
      "The circuits are equivalent: /workspace/to_execute_qc_pennylane.qasm, /workspace/to_execute_qc_qiskit.qasm\n",
      "\n",
      "Program to_execute.py executed successfully.\n",
      "Output: Saved the PennyLane circuit to /workspace/to_execute_qc_pennylane.qasm\n",
      "Saved the Qiskit circuit to /workspace/to_execute_qc_qiskit.qasm\n",
      "Exported QASM files: [('/workspace/to_execute_qc_pennylane.qasm', 'export_to_qasm_with_pennylane'), ('/workspace/to_execute_qc_qiskit.qasm', 'export_to_qasm_with_qiskit')]\n",
      "The circuits are equivalent: /workspace/to_execute_qc_pennylane.qasm, /workspace/to_execute_qc_qiskit.qasm\n",
      "\n",
      "Program to_execute.py executed successfully.\n",
      "Error parsing: Command 'python /workspace/to_execute.py' in image 'qiskit_runner' returned non-zero exit status 1: b'  File \"/workspace/to_execute.py\", line 11\\n    include \"qelib1.inc\";\\n            ^^^^^^^^^^^^\\nSyntaxError: invalid syntax\\n'\n",
      "Failed to execute to_execute.py in Docker.\n",
      "Error parsing: Command 'python /workspace/to_execute.py' in image 'qiskit_runner' returned non-zero exit status 1: b'  File \"/workspace/to_execute.py\", line 10\\n    qc = qasm2.loads(\\n                    ^\\nSyntaxError: \\'(\\' was never closed\\n'\n",
      "Failed to execute to_execute.py in Docker.\n"
     ]
    },
    {
     "data": {
      "text/html": [
       "<pre style=\"white-space:pre;overflow-x:auto;line-height:normal;font-family:Menlo,'DejaVu Sans Mono',consolas,'Courier New',monospace\"><span style=\"color: #7fbfbf; text-decoration-color: #7fbfbf\">[15:36:52] </span><span style=\"color: #008000; text-decoration-color: #008000\">Minimized file saved as:</span>                                                        <a href=\"file:///home/paltenmo/projects/crossplatform/analysis_and_reporting/ddmin_target_file.py\" target=\"_blank\"><span style=\"color: #7f7f7f; text-decoration-color: #7f7f7f\">ddmin_target_file.py</span></a><span style=\"color: #7f7f7f; text-decoration-color: #7f7f7f\">:</span><a href=\"file:///home/paltenmo/projects/crossplatform/analysis_and_reporting/ddmin_target_file.py#240\" target=\"_blank\"><span style=\"color: #7f7f7f; text-decoration-color: #7f7f7f\">240</span></a>\n",
       "<span style=\"color: #7fbfbf; text-decoration-color: #7fbfbf\">           </span>..<span style=\"color: #800080; text-decoration-color: #800080\">/program_bank/v007/2024_10_31__17_51__qiskit/</span><span style=\"color: #ff00ff; text-decoration-color: #ff00ff\">qiskit_circuit_5q_10g_7831_c7cfb</span> <span style=\"color: #7f7f7f; text-decoration-color: #7f7f7f\">                        </span>\n",
       "<span style=\"color: #7fbfbf; text-decoration-color: #7fbfbf\">           </span><span style=\"color: #ff00ff; text-decoration-color: #ff00ff\">a_51499c_error_min.py</span>                                                           <span style=\"color: #7f7f7f; text-decoration-color: #7f7f7f\">                        </span>\n",
       "</pre>\n"
      ],
      "text/plain": [
       "\u001b[2;36m[15:36:52]\u001b[0m\u001b[2;36m \u001b[0m\u001b[32mMinimized file saved as:\u001b[0m                                                        \u001b]8;id=621576;file:///home/paltenmo/projects/crossplatform/analysis_and_reporting/ddmin_target_file.py\u001b\\\u001b[2mddmin_target_file.py\u001b[0m\u001b]8;;\u001b\\\u001b[2m:\u001b[0m\u001b]8;id=222400;file:///home/paltenmo/projects/crossplatform/analysis_and_reporting/ddmin_target_file.py#240\u001b\\\u001b[2m240\u001b[0m\u001b]8;;\u001b\\\n",
       "\u001b[2;36m           \u001b[0m..\u001b[35m/program_bank/v007/2024_10_31__17_51__qiskit/\u001b[0m\u001b[95mqiskit_circuit_5q_10g_7831_c7cfb\u001b[0m \u001b[2m                        \u001b[0m\n",
       "\u001b[2;36m           \u001b[0m\u001b[95ma_51499c_error_min.py\u001b[0m                                                           \u001b[2m                        \u001b[0m\n"
      ]
     },
     "metadata": {},
     "output_type": "display_data"
    },
    {
     "name": "stdout",
     "output_type": "stream",
     "text": [
      "Running minimization for ../program_bank/v007/2024_10_31__17_51__sample_errors/qiskit_circuit_5q_10g_64167_2a247b_08cf7c_error.json\n"
     ]
    },
    {
     "data": {
      "text/html": [
       "<pre style=\"white-space:pre;overflow-x:auto;line-height:normal;font-family:Menlo,'DejaVu Sans Mono',consolas,'Courier New',monospace\"><span style=\"color: #7fbfbf; text-decoration-color: #7fbfbf\">           </span>Involved functions:                                                             <a href=\"file:///home/paltenmo/projects/crossplatform/analysis_and_reporting/ddmin_target_file.py\" target=\"_blank\"><span style=\"color: #7f7f7f; text-decoration-color: #7f7f7f\">ddmin_target_file.py</span></a><span style=\"color: #7f7f7f; text-decoration-color: #7f7f7f\">:</span><a href=\"file:///home/paltenmo/projects/crossplatform/analysis_and_reporting/ddmin_target_file.py#206\" target=\"_blank\"><span style=\"color: #7f7f7f; text-decoration-color: #7f7f7f\">206</span></a>\n",
       "</pre>\n"
      ],
      "text/plain": [
       "\u001b[2;36m          \u001b[0m\u001b[2;36m \u001b[0mInvolved functions:                                                             \u001b]8;id=707673;file:///home/paltenmo/projects/crossplatform/analysis_and_reporting/ddmin_target_file.py\u001b\\\u001b[2mddmin_target_file.py\u001b[0m\u001b]8;;\u001b\\\u001b[2m:\u001b[0m\u001b]8;id=129214;file:///home/paltenmo/projects/crossplatform/analysis_and_reporting/ddmin_target_file.py#206\u001b\\\u001b[2m206\u001b[0m\u001b]8;;\u001b\\\n"
      ]
     },
     "metadata": {},
     "output_type": "display_data"
    },
    {
     "data": {
      "text/html": [
       "<pre style=\"white-space:pre;overflow-x:auto;line-height:normal;font-family:Menlo,'DejaVu Sans Mono',consolas,'Courier New',monospace\"><span style=\"color: #7fbfbf; text-decoration-color: #7fbfbf\">           </span>  - compare_qasm_via_qcec                                                       <a href=\"file:///home/paltenmo/projects/crossplatform/analysis_and_reporting/ddmin_target_file.py\" target=\"_blank\"><span style=\"color: #7f7f7f; text-decoration-color: #7f7f7f\">ddmin_target_file.py</span></a><span style=\"color: #7f7f7f; text-decoration-color: #7f7f7f\">:</span><a href=\"file:///home/paltenmo/projects/crossplatform/analysis_and_reporting/ddmin_target_file.py#208\" target=\"_blank\"><span style=\"color: #7f7f7f; text-decoration-color: #7f7f7f\">208</span></a>\n",
       "</pre>\n"
      ],
      "text/plain": [
       "\u001b[2;36m          \u001b[0m\u001b[2;36m \u001b[0m  - compare_qasm_via_qcec                                                       \u001b]8;id=201859;file:///home/paltenmo/projects/crossplatform/analysis_and_reporting/ddmin_target_file.py\u001b\\\u001b[2mddmin_target_file.py\u001b[0m\u001b]8;;\u001b\\\u001b[2m:\u001b[0m\u001b]8;id=307383;file:///home/paltenmo/projects/crossplatform/analysis_and_reporting/ddmin_target_file.py#208\u001b\\\u001b[2m208\u001b[0m\u001b]8;;\u001b\\\n"
      ]
     },
     "metadata": {},
     "output_type": "display_data"
    },
    {
     "data": {
      "text/html": [
       "<pre style=\"white-space:pre;overflow-x:auto;line-height:normal;font-family:Menlo,'DejaVu Sans Mono',consolas,'Courier New',monospace\"><span style=\"color: #7fbfbf; text-decoration-color: #7fbfbf\">           </span>  - export_to_qasm_with_bqskit                                                  <a href=\"file:///home/paltenmo/projects/crossplatform/analysis_and_reporting/ddmin_target_file.py\" target=\"_blank\"><span style=\"color: #7f7f7f; text-decoration-color: #7f7f7f\">ddmin_target_file.py</span></a><span style=\"color: #7f7f7f; text-decoration-color: #7f7f7f\">:</span><a href=\"file:///home/paltenmo/projects/crossplatform/analysis_and_reporting/ddmin_target_file.py#208\" target=\"_blank\"><span style=\"color: #7f7f7f; text-decoration-color: #7f7f7f\">208</span></a>\n",
       "</pre>\n"
      ],
      "text/plain": [
       "\u001b[2;36m          \u001b[0m\u001b[2;36m \u001b[0m  - export_to_qasm_with_bqskit                                                  \u001b]8;id=716573;file:///home/paltenmo/projects/crossplatform/analysis_and_reporting/ddmin_target_file.py\u001b\\\u001b[2mddmin_target_file.py\u001b[0m\u001b]8;;\u001b\\\u001b[2m:\u001b[0m\u001b]8;id=460566;file:///home/paltenmo/projects/crossplatform/analysis_and_reporting/ddmin_target_file.py#208\u001b\\\u001b[2m208\u001b[0m\u001b]8;;\u001b\\\n"
      ]
     },
     "metadata": {},
     "output_type": "display_data"
    },
    {
     "data": {
      "text/html": [
       "<pre style=\"white-space:pre;overflow-x:auto;line-height:normal;font-family:Menlo,'DejaVu Sans Mono',consolas,'Courier New',monospace\"><span style=\"color: #7fbfbf; text-decoration-color: #7fbfbf\">           </span>  - export_to_qasm_with_pytket                                                  <a href=\"file:///home/paltenmo/projects/crossplatform/analysis_and_reporting/ddmin_target_file.py\" target=\"_blank\"><span style=\"color: #7f7f7f; text-decoration-color: #7f7f7f\">ddmin_target_file.py</span></a><span style=\"color: #7f7f7f; text-decoration-color: #7f7f7f\">:</span><a href=\"file:///home/paltenmo/projects/crossplatform/analysis_and_reporting/ddmin_target_file.py#208\" target=\"_blank\"><span style=\"color: #7f7f7f; text-decoration-color: #7f7f7f\">208</span></a>\n",
       "</pre>\n"
      ],
      "text/plain": [
       "\u001b[2;36m          \u001b[0m\u001b[2;36m \u001b[0m  - export_to_qasm_with_pytket                                                  \u001b]8;id=920850;file:///home/paltenmo/projects/crossplatform/analysis_and_reporting/ddmin_target_file.py\u001b\\\u001b[2mddmin_target_file.py\u001b[0m\u001b]8;;\u001b\\\u001b[2m:\u001b[0m\u001b]8;id=352081;file:///home/paltenmo/projects/crossplatform/analysis_and_reporting/ddmin_target_file.py#208\u001b\\\u001b[2m208\u001b[0m\u001b]8;;\u001b\\\n"
      ]
     },
     "metadata": {},
     "output_type": "display_data"
    },
    {
     "name": "stdout",
     "output_type": "stream",
     "text": [
      "Error parsing: Command 'python /workspace/to_execute.py' in image 'qiskit_runner' returned non-zero exit status 1: b'Traceback (most recent call last):\\n  File \"/workspace/to_execute.py\", line 106, in <module>\\n    target_qc = qc\\nNameError: name \\'qc\\' is not defined\\n'\n",
      "Failed to execute to_execute.py in Docker.\n",
      "Output: Saved the BQSKit circuit to /workspace/to_execute_qc_bqskit.qasm\n",
      "Saved the Pytket circuit to /workspace/to_execute_qc_pytket.qasm\n",
      "Exported QASM files: [('/workspace/to_execute_qc_bqskit.qasm', 'export_to_qasm_with_bqskit'), ('/workspace/to_execute_qc_pytket.qasm', 'export_to_qasm_with_pytket')]\n",
      "Log has been saved to /workspace/to_execute_41dd7f_error.json\n",
      "\n",
      "Program to_execute.py executed successfully.\n",
      "New exception message: The circuits are not equivalent: /workspace/to_execute_qc_bqskit.qasm, /workspace/to_execute_qc_pytket.qasm\n",
      "Error parsing: Command 'python /workspace/to_execute.py' in image 'qiskit_runner' returned non-zero exit status 1: b'  File \"/workspace/to_execute.py\", line 15\\n    , custom_instructions=qasm2.LEGACY_CUSTOM_INSTRUCTIONS)\\n                                                          ^\\nSyntaxError: unmatched \\')\\'\\n'\n",
      "Failed to execute to_execute.py in Docker.\n",
      "Error parsing: Command 'python /workspace/to_execute.py' in image 'qiskit_runner' returned non-zero exit status 1: b'  File \"/workspace/to_execute.py\", line 10\\n    qc = qasm2.loads(\\n                    ^\\nSyntaxError: \\'(\\' was never closed\\n'\n",
      "Failed to execute to_execute.py in Docker.\n",
      "Error parsing: Command 'python /workspace/to_execute.py' in image 'qiskit_runner' returned non-zero exit status 1: b'  File \"/workspace/to_execute.py\", line 19\\n    , custom_instructions=qasm2.LEGACY_CUSTOM_INSTRUCTIONS)\\n                                                          ^\\nSyntaxError: unmatched \\')\\'\\n'\n",
      "Failed to execute to_execute.py in Docker.\n",
      "Error parsing: Command 'python /workspace/to_execute.py' in image 'qiskit_runner' returned non-zero exit status 1: b'Traceback (most recent call last):\\n  File \"/workspace/to_execute.py\", line 10, in <module>\\n    qc = qasm2.loads(\\n  File \"/usr/local/lib/python3.10/site-packages/qiskit/qasm2/__init__.py\", line 587, in loads\\n    return _parse.from_bytecode(\\n  File \"/usr/local/lib/python3.10/site-packages/qiskit/qasm2/parse.py\", line 214, in from_bytecode\\n    for op in bc:\\nqiskit.qasm2.exceptions.QASM2ParseError: \"<input>:4,0: cannot use non-builtin custom instruction \\'cx\\' before definition\"\\n'\n",
      "Failed to execute to_execute.py in Docker.\n",
      "Output: Saved the BQSKit circuit to /workspace/to_execute_qc_bqskit.qasm\n",
      "Saved the Pytket circuit to /workspace/to_execute_qc_pytket.qasm\n",
      "Exported QASM files: [('/workspace/to_execute_qc_bqskit.qasm', 'export_to_qasm_with_bqskit'), ('/workspace/to_execute_qc_pytket.qasm', 'export_to_qasm_with_pytket')]\n",
      "The circuits are equivalent: /workspace/to_execute_qc_bqskit.qasm, /workspace/to_execute_qc_pytket.qasm\n",
      "\n",
      "Program to_execute.py executed successfully.\n",
      "Error parsing: Command 'python /workspace/to_execute.py' in image 'qiskit_runner' returned non-zero exit status 1: b'  File \"/workspace/to_execute.py\", line 10\\n    qc = qasm2.loads(\\n                    ^\\nSyntaxError: \\'(\\' was never closed\\n'\n",
      "Failed to execute to_execute.py in Docker.\n",
      "Error parsing: Command 'python /workspace/to_execute.py' in image 'qiskit_runner' returned non-zero exit status 1: b'  File \"/workspace/to_execute.py\", line 22\\n    , custom_instructions=qasm2.LEGACY_CUSTOM_INSTRUCTIONS)\\nIndentationError: unexpected indent\\n'\n",
      "Failed to execute to_execute.py in Docker.\n",
      "Error parsing: Command 'python /workspace/to_execute.py' in image 'qiskit_runner' returned non-zero exit status 1: b'  File \"/workspace/to_execute.py\", line 12\\n    include \"qelib1.inc\";\\n            ^^^^^^^^^^^^\\nSyntaxError: invalid syntax\\n'\n",
      "Failed to execute to_execute.py in Docker.\n",
      "Error parsing: Command 'python /workspace/to_execute.py' in image 'qiskit_runner' returned non-zero exit status 1: b'Traceback (most recent call last):\\n  File \"/workspace/to_execute.py\", line 10, in <module>\\n    qc = qasm2.loads(\\n  File \"/usr/local/lib/python3.10/site-packages/qiskit/qasm2/__init__.py\", line 587, in loads\\n    return _parse.from_bytecode(\\n  File \"/usr/local/lib/python3.10/site-packages/qiskit/qasm2/parse.py\", line 214, in from_bytecode\\n    for op in bc:\\nqiskit.qasm2.exceptions.QASM2ParseError: \"<input>:6,0: cannot use non-builtin custom instruction \\'cx\\' before definition\"\\n'\n",
      "Failed to execute to_execute.py in Docker.\n",
      "Error parsing: Command 'python /workspace/to_execute.py' in image 'qiskit_runner' returned non-zero exit status 1: b'Traceback (most recent call last):\\n  File \"/workspace/to_execute.py\", line 10, in <module>\\n    qc = qasm2.loads(\\n  File \"/usr/local/lib/python3.10/site-packages/qiskit/qasm2/__init__.py\", line 587, in loads\\n    return _parse.from_bytecode(\\n  File \"/usr/local/lib/python3.10/site-packages/qiskit/qasm2/parse.py\", line 214, in from_bytecode\\n    for op in bc:\\nqiskit.qasm2.exceptions.QASM2ParseError: \"<input>:6,3: \\'a\\' is not defined in this scope\"\\n'\n",
      "Failed to execute to_execute.py in Docker.\n",
      "Output: Saved the BQSKit circuit to /workspace/to_execute_qc_bqskit.qasm\n",
      "Saved the Pytket circuit to /workspace/to_execute_qc_pytket.qasm\n",
      "Exported QASM files: [('/workspace/to_execute_qc_bqskit.qasm', 'export_to_qasm_with_bqskit'), ('/workspace/to_execute_qc_pytket.qasm', 'export_to_qasm_with_pytket')]\n",
      "Log has been saved to /workspace/to_execute_029c25_error.json\n",
      "\n",
      "Program to_execute.py executed successfully.\n",
      "New exception message: The circuits are not equivalent: /workspace/to_execute_qc_bqskit.qasm, /workspace/to_execute_qc_pytket.qasm\n",
      "Error parsing: Command 'python /workspace/to_execute.py' in image 'qiskit_runner' returned non-zero exit status 1: b'  File \"/workspace/to_execute.py\", line 20\\n    , custom_instructions=qasm2.LEGACY_CUSTOM_INSTRUCTIONS)\\nIndentationError: unexpected indent\\n'\n",
      "Failed to execute to_execute.py in Docker.\n",
      "Error parsing: Command 'python /workspace/to_execute.py' in image 'qiskit_runner' returned non-zero exit status 1: b'  File \"/workspace/to_execute.py\", line 12\\n    include \"qelib1.inc\";\\n            ^^^^^^^^^^^^\\nSyntaxError: invalid syntax\\n'\n",
      "Failed to execute to_execute.py in Docker.\n",
      "Error parsing: Command 'python /workspace/to_execute.py' in image 'qiskit_runner' returned non-zero exit status 1: b'Traceback (most recent call last):\\n  File \"/workspace/to_execute.py\", line 10, in <module>\\n    qc = qasm2.loads(\\n  File \"/usr/local/lib/python3.10/site-packages/qiskit/qasm2/__init__.py\", line 587, in loads\\n    return _parse.from_bytecode(\\n  File \"/usr/local/lib/python3.10/site-packages/qiskit/qasm2/parse.py\", line 214, in from_bytecode\\n    for op in bc:\\nqiskit.qasm2.exceptions.QASM2ParseError: \"<input>:5,0: cannot use non-builtin custom instruction \\'cx\\' before definition\"\\n'\n",
      "Failed to execute to_execute.py in Docker.\n",
      "Error parsing: Command 'python /workspace/to_execute.py' in image 'qiskit_runner' returned non-zero exit status 1: b'Traceback (most recent call last):\\n  File \"/workspace/to_execute.py\", line 10, in <module>\\n    qc = qasm2.loads(\\n  File \"/usr/local/lib/python3.10/site-packages/qiskit/qasm2/__init__.py\", line 587, in loads\\n    return _parse.from_bytecode(\\n  File \"/usr/local/lib/python3.10/site-packages/qiskit/qasm2/parse.py\", line 214, in from_bytecode\\n    for op in bc:\\nqiskit.qasm2.exceptions.QASM2ParseError: \"<input>:5,3: \\'a\\' is not defined in this scope\"\\n'\n",
      "Failed to execute to_execute.py in Docker.\n",
      "Output: Saved the BQSKit circuit to /workspace/to_execute_qc_bqskit.qasm\n",
      "Saved the Pytket circuit to /workspace/to_execute_qc_pytket.qasm\n",
      "Exported QASM files: [('/workspace/to_execute_qc_bqskit.qasm', 'export_to_qasm_with_bqskit'), ('/workspace/to_execute_qc_pytket.qasm', 'export_to_qasm_with_pytket')]\n",
      "The circuits are equivalent: /workspace/to_execute_qc_bqskit.qasm, /workspace/to_execute_qc_pytket.qasm\n",
      "\n",
      "Program to_execute.py executed successfully.\n",
      "Error parsing: Command 'python /workspace/to_execute.py' in image 'qiskit_runner' returned non-zero exit status 1: b'  File \"/workspace/to_execute.py\", line 12\\n    OPENQASM 2.0;\\n    ^^^^^^^^^^^^\\nSyntaxError: invalid syntax. Perhaps you forgot a comma?\\n'\n",
      "Failed to execute to_execute.py in Docker.\n",
      "Error parsing: Command 'python /workspace/to_execute.py' in image 'qiskit_runner' returned non-zero exit status 1: b'  File \"/workspace/to_execute.py\", line 10\\n    qc = qasm2.loads(\\n                    ^\\nSyntaxError: \\'(\\' was never closed\\n'\n",
      "Failed to execute to_execute.py in Docker.\n",
      "Error parsing: Command 'python /workspace/to_execute.py' in image 'qiskit_runner' returned non-zero exit status 1: b'  File \"/workspace/to_execute.py\", line 21\\n    , custom_instructions=qasm2.LEGACY_CUSTOM_INSTRUCTIONS)\\nIndentationError: unexpected indent\\n'\n",
      "Failed to execute to_execute.py in Docker.\n",
      "Output: Saved the BQSKit circuit to /workspace/to_execute_qc_bqskit.qasm\n",
      "Saved the Pytket circuit to /workspace/to_execute_qc_pytket.qasm\n",
      "Exported QASM files: [('/workspace/to_execute_qc_bqskit.qasm', 'export_to_qasm_with_bqskit'), ('/workspace/to_execute_qc_pytket.qasm', 'export_to_qasm_with_pytket')]\n",
      "Log has been saved to /workspace/to_execute_69d12b_error.json\n",
      "\n",
      "Program to_execute.py executed successfully.\n",
      "New exception message: The circuits are not equivalent: /workspace/to_execute_qc_bqskit.qasm, /workspace/to_execute_qc_pytket.qasm\n",
      "Error parsing: Command 'python /workspace/to_execute.py' in image 'qiskit_runner' returned non-zero exit status 1: b'  File \"/workspace/to_execute.py\", line 20\\n    , custom_instructions=qasm2.LEGACY_CUSTOM_INSTRUCTIONS)\\nIndentationError: unexpected indent\\n'\n",
      "Failed to execute to_execute.py in Docker.\n",
      "Error parsing: Command 'python /workspace/to_execute.py' in image 'qiskit_runner' returned non-zero exit status 1: b'  File \"/workspace/to_execute.py\", line 11\\n    OPENQASM 2.0;\\n    ^^^^^^^^^^^^\\nSyntaxError: invalid syntax. Perhaps you forgot a comma?\\n'\n",
      "Failed to execute to_execute.py in Docker.\n",
      "Output: Saved the BQSKit circuit to /workspace/to_execute_qc_bqskit.qasm\n",
      "Saved the Pytket circuit to /workspace/to_execute_qc_pytket.qasm\n",
      "Exported QASM files: [('/workspace/to_execute_qc_bqskit.qasm', 'export_to_qasm_with_bqskit'), ('/workspace/to_execute_qc_pytket.qasm', 'export_to_qasm_with_pytket')]\n",
      "Log has been saved to /workspace/to_execute_393fb6_error.json\n",
      "\n",
      "Program to_execute.py executed successfully.\n",
      "New exception message: The circuits are not equivalent: /workspace/to_execute_qc_bqskit.qasm, /workspace/to_execute_qc_pytket.qasm\n",
      "Error parsing: Command 'python /workspace/to_execute.py' in image 'qiskit_runner' returned non-zero exit status 1: b'  File \"/workspace/to_execute.py\", line 19\\n    , custom_instructions=qasm2.LEGACY_CUSTOM_INSTRUCTIONS)\\nIndentationError: unexpected indent\\n'\n",
      "Failed to execute to_execute.py in Docker.\n",
      "Error parsing: Command 'python /workspace/to_execute.py' in image 'qiskit_runner' returned non-zero exit status 1: b'  File \"/workspace/to_execute.py\", line 11\\n    include \"qelib1.inc\";\\n            ^^^^^^^^^^^^\\nSyntaxError: invalid syntax\\n'\n",
      "Failed to execute to_execute.py in Docker.\n",
      "Error parsing: Command 'python /workspace/to_execute.py' in image 'qiskit_runner' returned non-zero exit status 1: b'Traceback (most recent call last):\\n  File \"/workspace/to_execute.py\", line 10, in <module>\\n    qc = qasm2.loads(\\n  File \"/usr/local/lib/python3.10/site-packages/qiskit/qasm2/__init__.py\", line 587, in loads\\n    return _parse.from_bytecode(\\n  File \"/usr/local/lib/python3.10/site-packages/qiskit/qasm2/parse.py\", line 214, in from_bytecode\\n    for op in bc:\\nqiskit.qasm2.exceptions.QASM2ParseError: \"<input>:5,0: cannot use non-builtin custom instruction \\'cx\\' before definition\"\\n'\n",
      "Failed to execute to_execute.py in Docker.\n",
      "Error parsing: Command 'python /workspace/to_execute.py' in image 'qiskit_runner' returned non-zero exit status 1: b'Traceback (most recent call last):\\n  File \"/workspace/to_execute.py\", line 10, in <module>\\n    qc = qasm2.loads(\\n  File \"/usr/local/lib/python3.10/site-packages/qiskit/qasm2/__init__.py\", line 587, in loads\\n    return _parse.from_bytecode(\\n  File \"/usr/local/lib/python3.10/site-packages/qiskit/qasm2/parse.py\", line 214, in from_bytecode\\n    for op in bc:\\nqiskit.qasm2.exceptions.QASM2ParseError: \"<input>:5,8: \\'cin\\' is not defined in this scope\"\\n'\n",
      "Failed to execute to_execute.py in Docker.\n",
      "Error parsing: Command 'python /workspace/to_execute.py' in image 'qiskit_runner' returned non-zero exit status 1: b'Traceback (most recent call last):\\n  File \"/workspace/to_execute.py\", line 10, in <module>\\n    qc = qasm2.loads(\\n  File \"/usr/local/lib/python3.10/site-packages/qiskit/qasm2/__init__.py\", line 587, in loads\\n    return _parse.from_bytecode(\\n  File \"/usr/local/lib/python3.10/site-packages/qiskit/qasm2/parse.py\", line 214, in from_bytecode\\n    for op in bc:\\nqiskit.qasm2.exceptions.QASM2ParseError: \"<input>:5,3: \\'a\\' is not defined in this scope\"\\n'\n",
      "Failed to execute to_execute.py in Docker.\n",
      "Error parsing: Command 'python /workspace/to_execute.py' in image 'qiskit_runner' returned non-zero exit status 1: b'Traceback (most recent call last):\\n  File \"/workspace/to_execute.py\", line 10, in <module>\\n    qc = qasm2.loads(\\n  File \"/usr/local/lib/python3.10/site-packages/qiskit/qasm2/__init__.py\", line 587, in loads\\n    return _parse.from_bytecode(\\n  File \"/usr/local/lib/python3.10/site-packages/qiskit/qasm2/parse.py\", line 214, in from_bytecode\\n    for op in bc:\\nqiskit.qasm2.exceptions.QASM2ParseError: \"<input>:6,11: \\'b\\' is not defined in this scope\"\\n'\n",
      "Failed to execute to_execute.py in Docker.\n",
      "Output: Saved the BQSKit circuit to /workspace/to_execute_qc_bqskit.qasm\n",
      "Saved the Pytket circuit to /workspace/to_execute_qc_pytket.qasm\n",
      "Exported QASM files: [('/workspace/to_execute_qc_bqskit.qasm', 'export_to_qasm_with_bqskit'), ('/workspace/to_execute_qc_pytket.qasm', 'export_to_qasm_with_pytket')]\n",
      "Log has been saved to /workspace/to_execute_5b064c_error.json\n",
      "\n",
      "Program to_execute.py executed successfully.\n",
      "New exception message: The circuits are not equivalent: /workspace/to_execute_qc_bqskit.qasm, /workspace/to_execute_qc_pytket.qasm\n",
      "Error parsing: Command 'python /workspace/to_execute.py' in image 'qiskit_runner' returned non-zero exit status 1: b'  File \"/workspace/to_execute.py\", line 18\\n    , custom_instructions=qasm2.LEGACY_CUSTOM_INSTRUCTIONS)\\nIndentationError: unexpected indent\\n'\n",
      "Failed to execute to_execute.py in Docker.\n",
      "Error parsing: Command 'python /workspace/to_execute.py' in image 'qiskit_runner' returned non-zero exit status 1: b'  File \"/workspace/to_execute.py\", line 11\\n    include \"qelib1.inc\";\\n            ^^^^^^^^^^^^\\nSyntaxError: invalid syntax\\n'\n",
      "Failed to execute to_execute.py in Docker.\n",
      "Error parsing: Command 'python /workspace/to_execute.py' in image 'qiskit_runner' returned non-zero exit status 1: b'Traceback (most recent call last):\\n  File \"/workspace/to_execute.py\", line 10, in <module>\\n    qc = qasm2.loads(\\n  File \"/usr/local/lib/python3.10/site-packages/qiskit/qasm2/__init__.py\", line 587, in loads\\n    return _parse.from_bytecode(\\n  File \"/usr/local/lib/python3.10/site-packages/qiskit/qasm2/parse.py\", line 214, in from_bytecode\\n    for op in bc:\\nqiskit.qasm2.exceptions.QASM2ParseError: \"<input>:5,0: cannot use non-builtin custom instruction \\'ccx\\' before definition\"\\n'\n",
      "Failed to execute to_execute.py in Docker.\n",
      "Error parsing: Command 'python /workspace/to_execute.py' in image 'qiskit_runner' returned non-zero exit status 1: b'Traceback (most recent call last):\\n  File \"/workspace/to_execute.py\", line 10, in <module>\\n    qc = qasm2.loads(\\n  File \"/usr/local/lib/python3.10/site-packages/qiskit/qasm2/__init__.py\", line 587, in loads\\n    return _parse.from_bytecode(\\n  File \"/usr/local/lib/python3.10/site-packages/qiskit/qasm2/parse.py\", line 214, in from_bytecode\\n    for op in bc:\\nqiskit.qasm2.exceptions.QASM2ParseError: \"<input>:5,4: \\'cin\\' is not defined in this scope\"\\n'\n",
      "Failed to execute to_execute.py in Docker.\n",
      "Error parsing: Command 'python /workspace/to_execute.py' in image 'qiskit_runner' returned non-zero exit status 1: b'Traceback (most recent call last):\\n  File \"/workspace/to_execute.py\", line 10, in <module>\\n    qc = qasm2.loads(\\n  File \"/usr/local/lib/python3.10/site-packages/qiskit/qasm2/__init__.py\", line 587, in loads\\n    return _parse.from_bytecode(\\n  File \"/usr/local/lib/python3.10/site-packages/qiskit/qasm2/parse.py\", line 214, in from_bytecode\\n    for op in bc:\\nqiskit.qasm2.exceptions.QASM2ParseError: \"<input>:5,16: \\'a\\' is not defined in this scope\"\\n'\n",
      "Failed to execute to_execute.py in Docker.\n",
      "Error parsing: Command 'python /workspace/to_execute.py' in image 'qiskit_runner' returned non-zero exit status 1: b'Traceback (most recent call last):\\n  File \"/workspace/to_execute.py\", line 10, in <module>\\n    qc = qasm2.loads(\\n  File \"/usr/local/lib/python3.10/site-packages/qiskit/qasm2/__init__.py\", line 587, in loads\\n    return _parse.from_bytecode(\\n  File \"/usr/local/lib/python3.10/site-packages/qiskit/qasm2/parse.py\", line 214, in from_bytecode\\n    for op in bc:\\nqiskit.qasm2.exceptions.QASM2ParseError: \"<input>:5,11: \\'b\\' is not defined in this scope\"\\n'\n",
      "Failed to execute to_execute.py in Docker.\n",
      "Output: Saved the BQSKit circuit to /workspace/to_execute_qc_bqskit.qasm\n",
      "Saved the Pytket circuit to /workspace/to_execute_qc_pytket.qasm\n",
      "Exported QASM files: [('/workspace/to_execute_qc_bqskit.qasm', 'export_to_qasm_with_bqskit'), ('/workspace/to_execute_qc_pytket.qasm', 'export_to_qasm_with_pytket')]\n",
      "The circuits are equivalent: /workspace/to_execute_qc_bqskit.qasm, /workspace/to_execute_qc_pytket.qasm\n",
      "\n",
      "Program to_execute.py executed successfully.\n",
      "Output: Saved the BQSKit circuit to /workspace/to_execute_qc_bqskit.qasm\n",
      "Saved the Pytket circuit to /workspace/to_execute_qc_pytket.qasm\n",
      "Exported QASM files: [('/workspace/to_execute_qc_bqskit.qasm', 'export_to_qasm_with_bqskit'), ('/workspace/to_execute_qc_pytket.qasm', 'export_to_qasm_with_pytket')]\n",
      "Log has been saved to /workspace/to_execute_82ff00_error.json\n",
      "\n",
      "Program to_execute.py executed successfully.\n",
      "New exception message: The circuits are not equivalent: /workspace/to_execute_qc_bqskit.qasm, /workspace/to_execute_qc_pytket.qasm\n",
      "Error parsing: Command 'python /workspace/to_execute.py' in image 'qiskit_runner' returned non-zero exit status 1: b'  File \"/workspace/to_execute.py\", line 17\\n    , custom_instructions=qasm2.LEGACY_CUSTOM_INSTRUCTIONS)\\nIndentationError: unexpected indent\\n'\n",
      "Failed to execute to_execute.py in Docker.\n",
      "Error parsing: Command 'python /workspace/to_execute.py' in image 'qiskit_runner' returned non-zero exit status 1: b'  File \"/workspace/to_execute.py\", line 11\\n    include \"qelib1.inc\";\\n            ^^^^^^^^^^^^\\nSyntaxError: invalid syntax\\n'\n",
      "Failed to execute to_execute.py in Docker.\n",
      "Error parsing: Command 'python /workspace/to_execute.py' in image 'qiskit_runner' returned non-zero exit status 1: b'Traceback (most recent call last):\\n  File \"/workspace/to_execute.py\", line 10, in <module>\\n    qc = qasm2.loads(\\n  File \"/usr/local/lib/python3.10/site-packages/qiskit/qasm2/__init__.py\", line 587, in loads\\n    return _parse.from_bytecode(\\n  File \"/usr/local/lib/python3.10/site-packages/qiskit/qasm2/parse.py\", line 214, in from_bytecode\\n    for op in bc:\\nqiskit.qasm2.exceptions.QASM2ParseError: \"<input>:5,0: cannot use non-builtin custom instruction \\'ccx\\' before definition\"\\n'\n",
      "Failed to execute to_execute.py in Docker.\n",
      "Error parsing: Command 'python /workspace/to_execute.py' in image 'qiskit_runner' returned non-zero exit status 1: b'Traceback (most recent call last):\\n  File \"/workspace/to_execute.py\", line 10, in <module>\\n    qc = qasm2.loads(\\n  File \"/usr/local/lib/python3.10/site-packages/qiskit/qasm2/__init__.py\", line 587, in loads\\n    return _parse.from_bytecode(\\n  File \"/usr/local/lib/python3.10/site-packages/qiskit/qasm2/parse.py\", line 214, in from_bytecode\\n    for op in bc:\\nqiskit.qasm2.exceptions.QASM2ParseError: \"<input>:5,4: \\'cin\\' is not defined in this scope\"\\n'\n",
      "Failed to execute to_execute.py in Docker.\n",
      "Error parsing: Command 'python /workspace/to_execute.py' in image 'qiskit_runner' returned non-zero exit status 1: b'Traceback (most recent call last):\\n  File \"/workspace/to_execute.py\", line 10, in <module>\\n    qc = qasm2.loads(\\n  File \"/usr/local/lib/python3.10/site-packages/qiskit/qasm2/__init__.py\", line 587, in loads\\n    return _parse.from_bytecode(\\n  File \"/usr/local/lib/python3.10/site-packages/qiskit/qasm2/parse.py\", line 214, in from_bytecode\\n    for op in bc:\\nqiskit.qasm2.exceptions.QASM2ParseError: \"<input>:5,16: \\'a\\' is not defined in this scope\"\\n'\n",
      "Failed to execute to_execute.py in Docker.\n",
      "Error parsing: Command 'python /workspace/to_execute.py' in image 'qiskit_runner' returned non-zero exit status 1: b'Traceback (most recent call last):\\n  File \"/workspace/to_execute.py\", line 10, in <module>\\n    qc = qasm2.loads(\\n  File \"/usr/local/lib/python3.10/site-packages/qiskit/qasm2/__init__.py\", line 587, in loads\\n    return _parse.from_bytecode(\\n  File \"/usr/local/lib/python3.10/site-packages/qiskit/qasm2/parse.py\", line 214, in from_bytecode\\n    for op in bc:\\nqiskit.qasm2.exceptions.QASM2ParseError: \"<input>:5,11: \\'b\\' is not defined in this scope\"\\n'\n",
      "Failed to execute to_execute.py in Docker.\n",
      "Output: Saved the BQSKit circuit to /workspace/to_execute_qc_bqskit.qasm\n",
      "Saved the Pytket circuit to /workspace/to_execute_qc_pytket.qasm\n",
      "Exported QASM files: [('/workspace/to_execute_qc_bqskit.qasm', 'export_to_qasm_with_bqskit'), ('/workspace/to_execute_qc_pytket.qasm', 'export_to_qasm_with_pytket')]\n",
      "The circuits are equivalent: /workspace/to_execute_qc_bqskit.qasm, /workspace/to_execute_qc_pytket.qasm\n",
      "\n",
      "Program to_execute.py executed successfully.\n",
      "Error parsing: Command 'python /workspace/to_execute.py' in image 'qiskit_runner' returned non-zero exit status 1: b'  File \"/workspace/to_execute.py\", line 11\\n    include \"qelib1.inc\";\\n            ^^^^^^^^^^^^\\nSyntaxError: invalid syntax\\n'\n",
      "Failed to execute to_execute.py in Docker.\n",
      "Error parsing: Command 'python /workspace/to_execute.py' in image 'qiskit_runner' returned non-zero exit status 1: b'  File \"/workspace/to_execute.py\", line 10\\n    qc = qasm2.loads(\\n                    ^\\nSyntaxError: \\'(\\' was never closed\\n'\n",
      "Failed to execute to_execute.py in Docker.\n"
     ]
    },
    {
     "data": {
      "text/html": [
       "<pre style=\"white-space:pre;overflow-x:auto;line-height:normal;font-family:Menlo,'DejaVu Sans Mono',consolas,'Courier New',monospace\"><span style=\"color: #7fbfbf; text-decoration-color: #7fbfbf\">[15:38:19] </span><span style=\"color: #008000; text-decoration-color: #008000\">Minimized file saved as:</span>                                                        <a href=\"file:///home/paltenmo/projects/crossplatform/analysis_and_reporting/ddmin_target_file.py\" target=\"_blank\"><span style=\"color: #7f7f7f; text-decoration-color: #7f7f7f\">ddmin_target_file.py</span></a><span style=\"color: #7f7f7f; text-decoration-color: #7f7f7f\">:</span><a href=\"file:///home/paltenmo/projects/crossplatform/analysis_and_reporting/ddmin_target_file.py#240\" target=\"_blank\"><span style=\"color: #7f7f7f; text-decoration-color: #7f7f7f\">240</span></a>\n",
       "<span style=\"color: #7fbfbf; text-decoration-color: #7fbfbf\">           </span>..<span style=\"color: #800080; text-decoration-color: #800080\">/program_bank/v007/2024_10_31__17_51__qiskit/</span><span style=\"color: #ff00ff; text-decoration-color: #ff00ff\">qiskit_circuit_5q_10g_64167_2a24</span> <span style=\"color: #7f7f7f; text-decoration-color: #7f7f7f\">                        </span>\n",
       "<span style=\"color: #7fbfbf; text-decoration-color: #7fbfbf\">           </span><span style=\"color: #ff00ff; text-decoration-color: #ff00ff\">7b_08cf7c_error_min.py</span>                                                          <span style=\"color: #7f7f7f; text-decoration-color: #7f7f7f\">                        </span>\n",
       "</pre>\n"
      ],
      "text/plain": [
       "\u001b[2;36m[15:38:19]\u001b[0m\u001b[2;36m \u001b[0m\u001b[32mMinimized file saved as:\u001b[0m                                                        \u001b]8;id=98534;file:///home/paltenmo/projects/crossplatform/analysis_and_reporting/ddmin_target_file.py\u001b\\\u001b[2mddmin_target_file.py\u001b[0m\u001b]8;;\u001b\\\u001b[2m:\u001b[0m\u001b]8;id=113343;file:///home/paltenmo/projects/crossplatform/analysis_and_reporting/ddmin_target_file.py#240\u001b\\\u001b[2m240\u001b[0m\u001b]8;;\u001b\\\n",
       "\u001b[2;36m           \u001b[0m..\u001b[35m/program_bank/v007/2024_10_31__17_51__qiskit/\u001b[0m\u001b[95mqiskit_circuit_5q_10g_64167_2a24\u001b[0m \u001b[2m                        \u001b[0m\n",
       "\u001b[2;36m           \u001b[0m\u001b[95m7b_08cf7c_error_min.py\u001b[0m                                                          \u001b[2m                        \u001b[0m\n"
      ]
     },
     "metadata": {},
     "output_type": "display_data"
    },
    {
     "name": "stdout",
     "output_type": "stream",
     "text": [
      "Running minimization for ../program_bank/v007/2024_10_31__17_51__sample_errors/qiskit_circuit_5q_10g_30841_b17cde_e35c28_error.json\n"
     ]
    },
    {
     "data": {
      "text/html": [
       "<pre style=\"white-space:pre;overflow-x:auto;line-height:normal;font-family:Menlo,'DejaVu Sans Mono',consolas,'Courier New',monospace\"><span style=\"color: #7fbfbf; text-decoration-color: #7fbfbf\">           </span>Involved functions:                                                             <a href=\"file:///home/paltenmo/projects/crossplatform/analysis_and_reporting/ddmin_target_file.py\" target=\"_blank\"><span style=\"color: #7f7f7f; text-decoration-color: #7f7f7f\">ddmin_target_file.py</span></a><span style=\"color: #7f7f7f; text-decoration-color: #7f7f7f\">:</span><a href=\"file:///home/paltenmo/projects/crossplatform/analysis_and_reporting/ddmin_target_file.py#206\" target=\"_blank\"><span style=\"color: #7f7f7f; text-decoration-color: #7f7f7f\">206</span></a>\n",
       "</pre>\n"
      ],
      "text/plain": [
       "\u001b[2;36m          \u001b[0m\u001b[2;36m \u001b[0mInvolved functions:                                                             \u001b]8;id=800310;file:///home/paltenmo/projects/crossplatform/analysis_and_reporting/ddmin_target_file.py\u001b\\\u001b[2mddmin_target_file.py\u001b[0m\u001b]8;;\u001b\\\u001b[2m:\u001b[0m\u001b]8;id=295687;file:///home/paltenmo/projects/crossplatform/analysis_and_reporting/ddmin_target_file.py#206\u001b\\\u001b[2m206\u001b[0m\u001b]8;;\u001b\\\n"
      ]
     },
     "metadata": {},
     "output_type": "display_data"
    },
    {
     "data": {
      "text/html": [
       "<pre style=\"white-space:pre;overflow-x:auto;line-height:normal;font-family:Menlo,'DejaVu Sans Mono',consolas,'Courier New',monospace\"><span style=\"color: #7fbfbf; text-decoration-color: #7fbfbf\">           </span>  - compare_qasm_via_qcec                                                       <a href=\"file:///home/paltenmo/projects/crossplatform/analysis_and_reporting/ddmin_target_file.py\" target=\"_blank\"><span style=\"color: #7f7f7f; text-decoration-color: #7f7f7f\">ddmin_target_file.py</span></a><span style=\"color: #7f7f7f; text-decoration-color: #7f7f7f\">:</span><a href=\"file:///home/paltenmo/projects/crossplatform/analysis_and_reporting/ddmin_target_file.py#208\" target=\"_blank\"><span style=\"color: #7f7f7f; text-decoration-color: #7f7f7f\">208</span></a>\n",
       "</pre>\n"
      ],
      "text/plain": [
       "\u001b[2;36m          \u001b[0m\u001b[2;36m \u001b[0m  - compare_qasm_via_qcec                                                       \u001b]8;id=731144;file:///home/paltenmo/projects/crossplatform/analysis_and_reporting/ddmin_target_file.py\u001b\\\u001b[2mddmin_target_file.py\u001b[0m\u001b]8;;\u001b\\\u001b[2m:\u001b[0m\u001b]8;id=848992;file:///home/paltenmo/projects/crossplatform/analysis_and_reporting/ddmin_target_file.py#208\u001b\\\u001b[2m208\u001b[0m\u001b]8;;\u001b\\\n"
      ]
     },
     "metadata": {},
     "output_type": "display_data"
    },
    {
     "data": {
      "text/html": [
       "<pre style=\"white-space:pre;overflow-x:auto;line-height:normal;font-family:Menlo,'DejaVu Sans Mono',consolas,'Courier New',monospace\"><span style=\"color: #7fbfbf; text-decoration-color: #7fbfbf\">           </span>  - export_to_qasm_with_pennylane                                               <a href=\"file:///home/paltenmo/projects/crossplatform/analysis_and_reporting/ddmin_target_file.py\" target=\"_blank\"><span style=\"color: #7f7f7f; text-decoration-color: #7f7f7f\">ddmin_target_file.py</span></a><span style=\"color: #7f7f7f; text-decoration-color: #7f7f7f\">:</span><a href=\"file:///home/paltenmo/projects/crossplatform/analysis_and_reporting/ddmin_target_file.py#208\" target=\"_blank\"><span style=\"color: #7f7f7f; text-decoration-color: #7f7f7f\">208</span></a>\n",
       "</pre>\n"
      ],
      "text/plain": [
       "\u001b[2;36m          \u001b[0m\u001b[2;36m \u001b[0m  - export_to_qasm_with_pennylane                                               \u001b]8;id=702541;file:///home/paltenmo/projects/crossplatform/analysis_and_reporting/ddmin_target_file.py\u001b\\\u001b[2mddmin_target_file.py\u001b[0m\u001b]8;;\u001b\\\u001b[2m:\u001b[0m\u001b]8;id=754004;file:///home/paltenmo/projects/crossplatform/analysis_and_reporting/ddmin_target_file.py#208\u001b\\\u001b[2m208\u001b[0m\u001b]8;;\u001b\\\n"
      ]
     },
     "metadata": {},
     "output_type": "display_data"
    },
    {
     "data": {
      "text/html": [
       "<pre style=\"white-space:pre;overflow-x:auto;line-height:normal;font-family:Menlo,'DejaVu Sans Mono',consolas,'Courier New',monospace\"><span style=\"color: #7fbfbf; text-decoration-color: #7fbfbf\">           </span>  - export_to_qasm_with_pytket                                                  <a href=\"file:///home/paltenmo/projects/crossplatform/analysis_and_reporting/ddmin_target_file.py\" target=\"_blank\"><span style=\"color: #7f7f7f; text-decoration-color: #7f7f7f\">ddmin_target_file.py</span></a><span style=\"color: #7f7f7f; text-decoration-color: #7f7f7f\">:</span><a href=\"file:///home/paltenmo/projects/crossplatform/analysis_and_reporting/ddmin_target_file.py#208\" target=\"_blank\"><span style=\"color: #7f7f7f; text-decoration-color: #7f7f7f\">208</span></a>\n",
       "</pre>\n"
      ],
      "text/plain": [
       "\u001b[2;36m          \u001b[0m\u001b[2;36m \u001b[0m  - export_to_qasm_with_pytket                                                  \u001b]8;id=524427;file:///home/paltenmo/projects/crossplatform/analysis_and_reporting/ddmin_target_file.py\u001b\\\u001b[2mddmin_target_file.py\u001b[0m\u001b]8;;\u001b\\\u001b[2m:\u001b[0m\u001b]8;id=604279;file:///home/paltenmo/projects/crossplatform/analysis_and_reporting/ddmin_target_file.py#208\u001b\\\u001b[2m208\u001b[0m\u001b]8;;\u001b\\\n"
      ]
     },
     "metadata": {},
     "output_type": "display_data"
    },
    {
     "name": "stdout",
     "output_type": "stream",
     "text": [
      "Error parsing: Command 'python /workspace/to_execute.py' in image 'qiskit_runner' returned non-zero exit status 1: b'Traceback (most recent call last):\\n  File \"/workspace/to_execute.py\", line 123, in <module>\\n    target_qc = qc\\nNameError: name \\'qc\\' is not defined\\n'\n",
      "Failed to execute to_execute.py in Docker.\n",
      "Output: Saved the PennyLane circuit to /workspace/to_execute_qc_pennylane.qasm\n",
      "Saved the Pytket circuit to /workspace/to_execute_qc_pytket.qasm\n",
      "Exported QASM files: [('/workspace/to_execute_qc_pennylane.qasm', 'export_to_qasm_with_pennylane'), ('/workspace/to_execute_qc_pytket.qasm', 'export_to_qasm_with_pytket')]\n",
      "Log has been saved to /workspace/to_execute_1da03f_error.json\n",
      "\n",
      "Program to_execute.py executed successfully.\n",
      "New exception message: The circuits are not equivalent: /workspace/to_execute_qc_pennylane.qasm, /workspace/to_execute_qc_pytket.qasm\n",
      "Error parsing: Command 'python /workspace/to_execute.py' in image 'qiskit_runner' returned non-zero exit status 1: b'  File \"/workspace/to_execute.py\", line 16\\n    , custom_instructions=qasm2.LEGACY_CUSTOM_INSTRUCTIONS)\\n                                                          ^\\nSyntaxError: unmatched \\')\\'\\n'\n",
      "Failed to execute to_execute.py in Docker.\n",
      "Error parsing: Command 'python /workspace/to_execute.py' in image 'qiskit_runner' returned non-zero exit status 1: b'  File \"/workspace/to_execute.py\", line 10\\n    qc = qasm2.loads(\\n                    ^\\nSyntaxError: \\'(\\' was never closed\\n'\n",
      "Failed to execute to_execute.py in Docker.\n",
      "Error parsing: Command 'python /workspace/to_execute.py' in image 'qiskit_runner' returned non-zero exit status 1: b'  File \"/workspace/to_execute.py\", line 21\\n    , custom_instructions=qasm2.LEGACY_CUSTOM_INSTRUCTIONS)\\n                                                          ^\\nSyntaxError: unmatched \\')\\'\\n'\n",
      "Failed to execute to_execute.py in Docker.\n",
      "Error parsing: Command 'python /workspace/to_execute.py' in image 'qiskit_runner' returned non-zero exit status 1: b'Traceback (most recent call last):\\n  File \"/workspace/to_execute.py\", line 10, in <module>\\n    qc = qasm2.loads(\\n  File \"/usr/local/lib/python3.10/site-packages/qiskit/qasm2/__init__.py\", line 587, in loads\\n    return _parse.from_bytecode(\\n  File \"/usr/local/lib/python3.10/site-packages/qiskit/qasm2/parse.py\", line 214, in from_bytecode\\n    for op in bc:\\nqiskit.qasm2.exceptions.QASM2ParseError: \"<input>:3,0: cannot use non-builtin custom instruction \\'h\\' before definition\"\\n'\n",
      "Failed to execute to_execute.py in Docker.\n",
      "Output: Saved the PennyLane circuit to /workspace/to_execute_qc_pennylane.qasm\n",
      "Saved the Pytket circuit to /workspace/to_execute_qc_pytket.qasm\n",
      "Exported QASM files: [('/workspace/to_execute_qc_pennylane.qasm', 'export_to_qasm_with_pennylane'), ('/workspace/to_execute_qc_pytket.qasm', 'export_to_qasm_with_pytket')]\n",
      "Log has been saved to /workspace/to_execute_fe4dc4_error.json\n",
      "\n",
      "Program to_execute.py executed successfully.\n",
      "New exception message: The circuits are not equivalent: /workspace/to_execute_qc_pennylane.qasm, /workspace/to_execute_qc_pytket.qasm\n",
      "Error parsing: Command 'python /workspace/to_execute.py' in image 'qiskit_runner' returned non-zero exit status 1: b'  File \"/workspace/to_execute.py\", line 16\\n    , custom_instructions=qasm2.LEGACY_CUSTOM_INSTRUCTIONS)\\n                                                          ^\\nSyntaxError: unmatched \\')\\'\\n'\n",
      "Failed to execute to_execute.py in Docker.\n",
      "Error parsing: Command 'python /workspace/to_execute.py' in image 'qiskit_runner' returned non-zero exit status 1: b'Traceback (most recent call last):\\n  File \"/workspace/to_execute.py\", line 10, in <module>\\n    qc = qasm2.loads(\\n  File \"/usr/local/lib/python3.10/site-packages/qiskit/qasm2/__init__.py\", line 587, in loads\\n    return _parse.from_bytecode(\\n  File \"/usr/local/lib/python3.10/site-packages/qiskit/qasm2/parse.py\", line 214, in from_bytecode\\n    for op in bc:\\nqiskit.qasm2.exceptions.QASM2ParseError: \"<input>:3,8: \\'q\\' is not defined in this scope\"\\n'\n",
      "Failed to execute to_execute.py in Docker.\n",
      "Error parsing: Command 'python /workspace/to_execute.py' in image 'qiskit_runner' returned non-zero exit status 1: b'  File \"/workspace/to_execute.py\", line 10\\n    qc = qasm2.loads(\\n                    ^\\nSyntaxError: \\'(\\' was never closed\\n'\n",
      "Failed to execute to_execute.py in Docker.\n",
      "Error parsing: Command 'python /workspace/to_execute.py' in image 'qiskit_runner' returned non-zero exit status 1: b'  File \"/workspace/to_execute.py\", line 19\\n    , custom_instructions=qasm2.LEGACY_CUSTOM_INSTRUCTIONS)\\nIndentationError: unexpected indent\\n'\n",
      "Failed to execute to_execute.py in Docker.\n",
      "Error parsing: Command 'python /workspace/to_execute.py' in image 'qiskit_runner' returned non-zero exit status 1: b'  File \"/workspace/to_execute.py\", line 12\\n    include \"qelib1.inc\";\\n            ^^^^^^^^^^^^\\nSyntaxError: invalid syntax\\n'\n",
      "Failed to execute to_execute.py in Docker.\n",
      "Error parsing: Command 'python /workspace/to_execute.py' in image 'qiskit_runner' returned non-zero exit status 1: b'Traceback (most recent call last):\\n  File \"/workspace/to_execute.py\", line 10, in <module>\\n    qc = qasm2.loads(\\n  File \"/usr/local/lib/python3.10/site-packages/qiskit/qasm2/__init__.py\", line 587, in loads\\n    return _parse.from_bytecode(\\n  File \"/usr/local/lib/python3.10/site-packages/qiskit/qasm2/parse.py\", line 214, in from_bytecode\\n    for op in bc:\\nqiskit.qasm2.exceptions.QASM2ParseError: \"<input>:4,0: cannot use non-builtin custom instruction \\'cx\\' before definition\"\\n'\n",
      "Failed to execute to_execute.py in Docker.\n",
      "Error parsing: Command 'python /workspace/to_execute.py' in image 'qiskit_runner' returned non-zero exit status 1: b'Traceback (most recent call last):\\n  File \"/workspace/to_execute.py\", line 10, in <module>\\n    qc = qasm2.loads(\\n  File \"/usr/local/lib/python3.10/site-packages/qiskit/qasm2/__init__.py\", line 587, in loads\\n    return _parse.from_bytecode(\\n  File \"/usr/local/lib/python3.10/site-packages/qiskit/qasm2/parse.py\", line 214, in from_bytecode\\n    for op in bc:\\nqiskit.qasm2.exceptions.QASM2ParseError: \"<input>:5,16: \\'c\\' is not defined in this scope\"\\n'\n",
      "Failed to execute to_execute.py in Docker.\n",
      "Output: Saved the PennyLane circuit to /workspace/to_execute_qc_pennylane.qasm\n",
      "Saved the Pytket circuit to /workspace/to_execute_qc_pytket.qasm\n",
      "Exported QASM files: [('/workspace/to_execute_qc_pennylane.qasm', 'export_to_qasm_with_pennylane'), ('/workspace/to_execute_qc_pytket.qasm', 'export_to_qasm_with_pytket')]\n",
      "The circuits are equivalent: /workspace/to_execute_qc_pennylane.qasm, /workspace/to_execute_qc_pytket.qasm\n",
      "\n",
      "Program to_execute.py executed successfully.\n",
      "Error parsing: Command 'python /workspace/to_execute.py' in image 'qiskit_runner' returned non-zero exit status 1: b'  File \"/workspace/to_execute.py\", line 10\\n    qc = qasm2.loads(\\n                    ^\\nSyntaxError: \\'(\\' was never closed\\n'\n",
      "Failed to execute to_execute.py in Docker.\n",
      "Error parsing: Command 'python /workspace/to_execute.py' in image 'qiskit_runner' returned non-zero exit status 1: b'  File \"/workspace/to_execute.py\", line 20\\n    , custom_instructions=qasm2.LEGACY_CUSTOM_INSTRUCTIONS)\\nIndentationError: unexpected indent\\n'\n",
      "Failed to execute to_execute.py in Docker.\n",
      "Output: Saved the PennyLane circuit to /workspace/to_execute_qc_pennylane.qasm\n",
      "Saved the Pytket circuit to /workspace/to_execute_qc_pytket.qasm\n",
      "Exported QASM files: [('/workspace/to_execute_qc_pennylane.qasm', 'export_to_qasm_with_pennylane'), ('/workspace/to_execute_qc_pytket.qasm', 'export_to_qasm_with_pytket')]\n",
      "Log has been saved to /workspace/to_execute_884708_error.json\n",
      "\n",
      "Program to_execute.py executed successfully.\n",
      "New exception message: The circuits are not equivalent: /workspace/to_execute_qc_pennylane.qasm, /workspace/to_execute_qc_pytket.qasm\n",
      "Error parsing: Command 'python /workspace/to_execute.py' in image 'qiskit_runner' returned non-zero exit status 1: b'  File \"/workspace/to_execute.py\", line 19\\n    , custom_instructions=qasm2.LEGACY_CUSTOM_INSTRUCTIONS)\\nIndentationError: unexpected indent\\n'\n",
      "Failed to execute to_execute.py in Docker.\n",
      "Error parsing: Command 'python /workspace/to_execute.py' in image 'qiskit_runner' returned non-zero exit status 1: b'  File \"/workspace/to_execute.py\", line 11\\n    OPENQASM 2.0;\\n    ^^^^^^^^^^^^\\nSyntaxError: invalid syntax. Perhaps you forgot a comma?\\n'\n",
      "Failed to execute to_execute.py in Docker.\n",
      "Output: Saved the PennyLane circuit to /workspace/to_execute_qc_pennylane.qasm\n",
      "Saved the Pytket circuit to /workspace/to_execute_qc_pytket.qasm\n",
      "Exported QASM files: [('/workspace/to_execute_qc_pennylane.qasm', 'export_to_qasm_with_pennylane'), ('/workspace/to_execute_qc_pytket.qasm', 'export_to_qasm_with_pytket')]\n",
      "Log has been saved to /workspace/to_execute_49f679_error.json\n",
      "\n",
      "Program to_execute.py executed successfully.\n",
      "New exception message: The circuits are not equivalent: /workspace/to_execute_qc_pennylane.qasm, /workspace/to_execute_qc_pytket.qasm\n",
      "Error parsing: Command 'python /workspace/to_execute.py' in image 'qiskit_runner' returned non-zero exit status 1: b'  File \"/workspace/to_execute.py\", line 18\\n    , custom_instructions=qasm2.LEGACY_CUSTOM_INSTRUCTIONS)\\nIndentationError: unexpected indent\\n'\n",
      "Failed to execute to_execute.py in Docker.\n",
      "Error parsing: Command 'python /workspace/to_execute.py' in image 'qiskit_runner' returned non-zero exit status 1: b'  File \"/workspace/to_execute.py\", line 11\\n    include \"qelib1.inc\";\\n            ^^^^^^^^^^^^\\nSyntaxError: invalid syntax\\n'\n",
      "Failed to execute to_execute.py in Docker.\n",
      "Error parsing: Command 'python /workspace/to_execute.py' in image 'qiskit_runner' returned non-zero exit status 1: b'Traceback (most recent call last):\\n  File \"/workspace/to_execute.py\", line 10, in <module>\\n    qc = qasm2.loads(\\n  File \"/usr/local/lib/python3.10/site-packages/qiskit/qasm2/__init__.py\", line 587, in loads\\n    return _parse.from_bytecode(\\n  File \"/usr/local/lib/python3.10/site-packages/qiskit/qasm2/parse.py\", line 214, in from_bytecode\\n    for op in bc:\\nqiskit.qasm2.exceptions.QASM2ParseError: \"<input>:4,0: cannot use non-builtin custom instruction \\'cx\\' before definition\"\\n'\n",
      "Failed to execute to_execute.py in Docker.\n",
      "Error parsing: Command 'python /workspace/to_execute.py' in image 'qiskit_runner' returned non-zero exit status 1: b'Traceback (most recent call last):\\n  File \"/workspace/to_execute.py\", line 10, in <module>\\n    qc = qasm2.loads(\\n  File \"/usr/local/lib/python3.10/site-packages/qiskit/qasm2/__init__.py\", line 587, in loads\\n    return _parse.from_bytecode(\\n  File \"/usr/local/lib/python3.10/site-packages/qiskit/qasm2/parse.py\", line 214, in from_bytecode\\n    for op in bc:\\nqiskit.qasm2.exceptions.QASM2ParseError: \"<input>:4,3: \\'q\\' is not defined in this scope\"\\n'\n",
      "Failed to execute to_execute.py in Docker.\n",
      "Error parsing: Command 'python /workspace/to_execute.py' in image 'qiskit_runner' returned non-zero exit status 1: b'Traceback (most recent call last):\\n  File \"/workspace/to_execute.py\", line 10, in <module>\\n    qc = qasm2.loads(\\n  File \"/usr/local/lib/python3.10/site-packages/qiskit/qasm2/__init__.py\", line 587, in loads\\n    return _parse.from_bytecode(\\n  File \"/usr/local/lib/python3.10/site-packages/qiskit/qasm2/parse.py\", line 214, in from_bytecode\\n    for op in bc:\\nqiskit.qasm2.exceptions.QASM2ParseError: \"<input>:5,16: \\'c\\' is not defined in this scope\"\\n'\n",
      "Failed to execute to_execute.py in Docker.\n",
      "Output: Saved the PennyLane circuit to /workspace/to_execute_qc_pennylane.qasm\n",
      "Saved the Pytket circuit to /workspace/to_execute_qc_pytket.qasm\n",
      "Exported QASM files: [('/workspace/to_execute_qc_pennylane.qasm', 'export_to_qasm_with_pennylane'), ('/workspace/to_execute_qc_pytket.qasm', 'export_to_qasm_with_pytket')]\n",
      "The circuits are equivalent: /workspace/to_execute_qc_pennylane.qasm, /workspace/to_execute_qc_pytket.qasm\n",
      "\n",
      "Program to_execute.py executed successfully.\n",
      "Output: Saved the PennyLane circuit to /workspace/to_execute_qc_pennylane.qasm\n",
      "Saved the Pytket circuit to /workspace/to_execute_qc_pytket.qasm\n",
      "Exported QASM files: [('/workspace/to_execute_qc_pennylane.qasm', 'export_to_qasm_with_pennylane'), ('/workspace/to_execute_qc_pytket.qasm', 'export_to_qasm_with_pytket')]\n",
      "The circuits are equivalent: /workspace/to_execute_qc_pennylane.qasm, /workspace/to_execute_qc_pytket.qasm\n",
      "\n",
      "Program to_execute.py executed successfully.\n",
      "Output: Saved the PennyLane circuit to /workspace/to_execute_qc_pennylane.qasm\n",
      "Saved the Pytket circuit to /workspace/to_execute_qc_pytket.qasm\n",
      "Exported QASM files: [('/workspace/to_execute_qc_pennylane.qasm', 'export_to_qasm_with_pennylane'), ('/workspace/to_execute_qc_pytket.qasm', 'export_to_qasm_with_pytket')]\n",
      "Log has been saved to /workspace/to_execute_4f712d_error.json\n",
      "\n",
      "Program to_execute.py executed successfully.\n",
      "New exception message: The circuits are not equivalent: /workspace/to_execute_qc_pennylane.qasm, /workspace/to_execute_qc_pytket.qasm\n",
      "Error parsing: Command 'python /workspace/to_execute.py' in image 'qiskit_runner' returned non-zero exit status 1: b'  File \"/workspace/to_execute.py\", line 17\\n    , custom_instructions=qasm2.LEGACY_CUSTOM_INSTRUCTIONS)\\nIndentationError: unexpected indent\\n'\n",
      "Failed to execute to_execute.py in Docker.\n",
      "Error parsing: Command 'python /workspace/to_execute.py' in image 'qiskit_runner' returned non-zero exit status 1: b'  File \"/workspace/to_execute.py\", line 11\\n    include \"qelib1.inc\";\\n            ^^^^^^^^^^^^\\nSyntaxError: invalid syntax\\n'\n",
      "Failed to execute to_execute.py in Docker.\n",
      "Error parsing: Command 'python /workspace/to_execute.py' in image 'qiskit_runner' returned non-zero exit status 1: b'Traceback (most recent call last):\\n  File \"/workspace/to_execute.py\", line 10, in <module>\\n    qc = qasm2.loads(\\n  File \"/usr/local/lib/python3.10/site-packages/qiskit/qasm2/__init__.py\", line 587, in loads\\n    return _parse.from_bytecode(\\n  File \"/usr/local/lib/python3.10/site-packages/qiskit/qasm2/parse.py\", line 214, in from_bytecode\\n    for op in bc:\\nqiskit.qasm2.exceptions.QASM2ParseError: \"<input>:4,0: cannot use non-builtin custom instruction \\'cx\\' before definition\"\\n'\n",
      "Failed to execute to_execute.py in Docker.\n",
      "Error parsing: Command 'python /workspace/to_execute.py' in image 'qiskit_runner' returned non-zero exit status 1: b'Traceback (most recent call last):\\n  File \"/workspace/to_execute.py\", line 10, in <module>\\n    qc = qasm2.loads(\\n  File \"/usr/local/lib/python3.10/site-packages/qiskit/qasm2/__init__.py\", line 587, in loads\\n    return _parse.from_bytecode(\\n  File \"/usr/local/lib/python3.10/site-packages/qiskit/qasm2/parse.py\", line 214, in from_bytecode\\n    for op in bc:\\nqiskit.qasm2.exceptions.QASM2ParseError: \"<input>:4,3: \\'q\\' is not defined in this scope\"\\n'\n",
      "Failed to execute to_execute.py in Docker.\n",
      "Error parsing: Command 'python /workspace/to_execute.py' in image 'qiskit_runner' returned non-zero exit status 1: b'Traceback (most recent call last):\\n  File \"/workspace/to_execute.py\", line 10, in <module>\\n    qc = qasm2.loads(\\n  File \"/usr/local/lib/python3.10/site-packages/qiskit/qasm2/__init__.py\", line 587, in loads\\n    return _parse.from_bytecode(\\n  File \"/usr/local/lib/python3.10/site-packages/qiskit/qasm2/parse.py\", line 214, in from_bytecode\\n    for op in bc:\\nqiskit.qasm2.exceptions.QASM2ParseError: \"<input>:5,16: \\'c\\' is not defined in this scope\"\\n'\n",
      "Failed to execute to_execute.py in Docker.\n",
      "Output: Saved the PennyLane circuit to /workspace/to_execute_qc_pennylane.qasm\n",
      "Saved the Pytket circuit to /workspace/to_execute_qc_pytket.qasm\n",
      "Exported QASM files: [('/workspace/to_execute_qc_pennylane.qasm', 'export_to_qasm_with_pennylane'), ('/workspace/to_execute_qc_pytket.qasm', 'export_to_qasm_with_pytket')]\n",
      "The circuits are equivalent: /workspace/to_execute_qc_pennylane.qasm, /workspace/to_execute_qc_pytket.qasm\n",
      "\n",
      "Program to_execute.py executed successfully.\n",
      "Output: Saved the PennyLane circuit to /workspace/to_execute_qc_pennylane.qasm\n",
      "Saved the Pytket circuit to /workspace/to_execute_qc_pytket.qasm\n",
      "Exported QASM files: [('/workspace/to_execute_qc_pennylane.qasm', 'export_to_qasm_with_pennylane'), ('/workspace/to_execute_qc_pytket.qasm', 'export_to_qasm_with_pytket')]\n",
      "The circuits are equivalent: /workspace/to_execute_qc_pennylane.qasm, /workspace/to_execute_qc_pytket.qasm\n",
      "\n",
      "Program to_execute.py executed successfully.\n",
      "Error parsing: Command 'python /workspace/to_execute.py' in image 'qiskit_runner' returned non-zero exit status 1: b'  File \"/workspace/to_execute.py\", line 11\\n    include \"qelib1.inc\";\\n            ^^^^^^^^^^^^\\nSyntaxError: invalid syntax\\n'\n",
      "Failed to execute to_execute.py in Docker.\n",
      "Error parsing: Command 'python /workspace/to_execute.py' in image 'qiskit_runner' returned non-zero exit status 1: b'  File \"/workspace/to_execute.py\", line 10\\n    qc = qasm2.loads(\\n                    ^\\nSyntaxError: \\'(\\' was never closed\\n'\n",
      "Failed to execute to_execute.py in Docker.\n"
     ]
    },
    {
     "data": {
      "text/html": [
       "<pre style=\"white-space:pre;overflow-x:auto;line-height:normal;font-family:Menlo,'DejaVu Sans Mono',consolas,'Courier New',monospace\"><span style=\"color: #7fbfbf; text-decoration-color: #7fbfbf\">[15:39:30] </span><span style=\"color: #008000; text-decoration-color: #008000\">Minimized file saved as:</span>                                                        <a href=\"file:///home/paltenmo/projects/crossplatform/analysis_and_reporting/ddmin_target_file.py\" target=\"_blank\"><span style=\"color: #7f7f7f; text-decoration-color: #7f7f7f\">ddmin_target_file.py</span></a><span style=\"color: #7f7f7f; text-decoration-color: #7f7f7f\">:</span><a href=\"file:///home/paltenmo/projects/crossplatform/analysis_and_reporting/ddmin_target_file.py#240\" target=\"_blank\"><span style=\"color: #7f7f7f; text-decoration-color: #7f7f7f\">240</span></a>\n",
       "<span style=\"color: #7fbfbf; text-decoration-color: #7fbfbf\">           </span>..<span style=\"color: #800080; text-decoration-color: #800080\">/program_bank/v007/2024_10_31__17_51__qiskit/</span><span style=\"color: #ff00ff; text-decoration-color: #ff00ff\">qiskit_circuit_5q_10g_30841_b17c</span> <span style=\"color: #7f7f7f; text-decoration-color: #7f7f7f\">                        </span>\n",
       "<span style=\"color: #7fbfbf; text-decoration-color: #7fbfbf\">           </span><span style=\"color: #ff00ff; text-decoration-color: #ff00ff\">de_e35c28_error_min.py</span>                                                          <span style=\"color: #7f7f7f; text-decoration-color: #7f7f7f\">                        </span>\n",
       "</pre>\n"
      ],
      "text/plain": [
       "\u001b[2;36m[15:39:30]\u001b[0m\u001b[2;36m \u001b[0m\u001b[32mMinimized file saved as:\u001b[0m                                                        \u001b]8;id=553464;file:///home/paltenmo/projects/crossplatform/analysis_and_reporting/ddmin_target_file.py\u001b\\\u001b[2mddmin_target_file.py\u001b[0m\u001b]8;;\u001b\\\u001b[2m:\u001b[0m\u001b]8;id=147460;file:///home/paltenmo/projects/crossplatform/analysis_and_reporting/ddmin_target_file.py#240\u001b\\\u001b[2m240\u001b[0m\u001b]8;;\u001b\\\n",
       "\u001b[2;36m           \u001b[0m..\u001b[35m/program_bank/v007/2024_10_31__17_51__qiskit/\u001b[0m\u001b[95mqiskit_circuit_5q_10g_30841_b17c\u001b[0m \u001b[2m                        \u001b[0m\n",
       "\u001b[2;36m           \u001b[0m\u001b[95mde_e35c28_error_min.py\u001b[0m                                                          \u001b[2m                        \u001b[0m\n"
      ]
     },
     "metadata": {},
     "output_type": "display_data"
    },
    {
     "name": "stdout",
     "output_type": "stream",
     "text": [
      "Running minimization for ../program_bank/v007/2024_10_31__17_51__sample_errors/qiskit_circuit_5q_10g_32186_467878_3b2333_error.json\n"
     ]
    },
    {
     "data": {
      "text/html": [
       "<pre style=\"white-space:pre;overflow-x:auto;line-height:normal;font-family:Menlo,'DejaVu Sans Mono',consolas,'Courier New',monospace\"><span style=\"color: #7fbfbf; text-decoration-color: #7fbfbf\">           </span>Involved functions:                                                             <a href=\"file:///home/paltenmo/projects/crossplatform/analysis_and_reporting/ddmin_target_file.py\" target=\"_blank\"><span style=\"color: #7f7f7f; text-decoration-color: #7f7f7f\">ddmin_target_file.py</span></a><span style=\"color: #7f7f7f; text-decoration-color: #7f7f7f\">:</span><a href=\"file:///home/paltenmo/projects/crossplatform/analysis_and_reporting/ddmin_target_file.py#206\" target=\"_blank\"><span style=\"color: #7f7f7f; text-decoration-color: #7f7f7f\">206</span></a>\n",
       "</pre>\n"
      ],
      "text/plain": [
       "\u001b[2;36m          \u001b[0m\u001b[2;36m \u001b[0mInvolved functions:                                                             \u001b]8;id=138098;file:///home/paltenmo/projects/crossplatform/analysis_and_reporting/ddmin_target_file.py\u001b\\\u001b[2mddmin_target_file.py\u001b[0m\u001b]8;;\u001b\\\u001b[2m:\u001b[0m\u001b]8;id=628890;file:///home/paltenmo/projects/crossplatform/analysis_and_reporting/ddmin_target_file.py#206\u001b\\\u001b[2m206\u001b[0m\u001b]8;;\u001b\\\n"
      ]
     },
     "metadata": {},
     "output_type": "display_data"
    },
    {
     "data": {
      "text/html": [
       "<pre style=\"white-space:pre;overflow-x:auto;line-height:normal;font-family:Menlo,'DejaVu Sans Mono',consolas,'Courier New',monospace\"><span style=\"color: #7fbfbf; text-decoration-color: #7fbfbf\">           </span>  - compare_qasm_via_qcec                                                       <a href=\"file:///home/paltenmo/projects/crossplatform/analysis_and_reporting/ddmin_target_file.py\" target=\"_blank\"><span style=\"color: #7f7f7f; text-decoration-color: #7f7f7f\">ddmin_target_file.py</span></a><span style=\"color: #7f7f7f; text-decoration-color: #7f7f7f\">:</span><a href=\"file:///home/paltenmo/projects/crossplatform/analysis_and_reporting/ddmin_target_file.py#208\" target=\"_blank\"><span style=\"color: #7f7f7f; text-decoration-color: #7f7f7f\">208</span></a>\n",
       "</pre>\n"
      ],
      "text/plain": [
       "\u001b[2;36m          \u001b[0m\u001b[2;36m \u001b[0m  - compare_qasm_via_qcec                                                       \u001b]8;id=122624;file:///home/paltenmo/projects/crossplatform/analysis_and_reporting/ddmin_target_file.py\u001b\\\u001b[2mddmin_target_file.py\u001b[0m\u001b]8;;\u001b\\\u001b[2m:\u001b[0m\u001b]8;id=124856;file:///home/paltenmo/projects/crossplatform/analysis_and_reporting/ddmin_target_file.py#208\u001b\\\u001b[2m208\u001b[0m\u001b]8;;\u001b\\\n"
      ]
     },
     "metadata": {},
     "output_type": "display_data"
    },
    {
     "data": {
      "text/html": [
       "<pre style=\"white-space:pre;overflow-x:auto;line-height:normal;font-family:Menlo,'DejaVu Sans Mono',consolas,'Courier New',monospace\"><span style=\"color: #7fbfbf; text-decoration-color: #7fbfbf\">           </span>  - export_to_qasm_with_pennylane                                               <a href=\"file:///home/paltenmo/projects/crossplatform/analysis_and_reporting/ddmin_target_file.py\" target=\"_blank\"><span style=\"color: #7f7f7f; text-decoration-color: #7f7f7f\">ddmin_target_file.py</span></a><span style=\"color: #7f7f7f; text-decoration-color: #7f7f7f\">:</span><a href=\"file:///home/paltenmo/projects/crossplatform/analysis_and_reporting/ddmin_target_file.py#208\" target=\"_blank\"><span style=\"color: #7f7f7f; text-decoration-color: #7f7f7f\">208</span></a>\n",
       "</pre>\n"
      ],
      "text/plain": [
       "\u001b[2;36m          \u001b[0m\u001b[2;36m \u001b[0m  - export_to_qasm_with_pennylane                                               \u001b]8;id=528415;file:///home/paltenmo/projects/crossplatform/analysis_and_reporting/ddmin_target_file.py\u001b\\\u001b[2mddmin_target_file.py\u001b[0m\u001b]8;;\u001b\\\u001b[2m:\u001b[0m\u001b]8;id=141979;file:///home/paltenmo/projects/crossplatform/analysis_and_reporting/ddmin_target_file.py#208\u001b\\\u001b[2m208\u001b[0m\u001b]8;;\u001b\\\n"
      ]
     },
     "metadata": {},
     "output_type": "display_data"
    },
    {
     "data": {
      "text/html": [
       "<pre style=\"white-space:pre;overflow-x:auto;line-height:normal;font-family:Menlo,'DejaVu Sans Mono',consolas,'Courier New',monospace\"><span style=\"color: #7fbfbf; text-decoration-color: #7fbfbf\">           </span>  - export_to_qasm_with_pytket                                                  <a href=\"file:///home/paltenmo/projects/crossplatform/analysis_and_reporting/ddmin_target_file.py\" target=\"_blank\"><span style=\"color: #7f7f7f; text-decoration-color: #7f7f7f\">ddmin_target_file.py</span></a><span style=\"color: #7f7f7f; text-decoration-color: #7f7f7f\">:</span><a href=\"file:///home/paltenmo/projects/crossplatform/analysis_and_reporting/ddmin_target_file.py#208\" target=\"_blank\"><span style=\"color: #7f7f7f; text-decoration-color: #7f7f7f\">208</span></a>\n",
       "</pre>\n"
      ],
      "text/plain": [
       "\u001b[2;36m          \u001b[0m\u001b[2;36m \u001b[0m  - export_to_qasm_with_pytket                                                  \u001b]8;id=864710;file:///home/paltenmo/projects/crossplatform/analysis_and_reporting/ddmin_target_file.py\u001b\\\u001b[2mddmin_target_file.py\u001b[0m\u001b]8;;\u001b\\\u001b[2m:\u001b[0m\u001b]8;id=807630;file:///home/paltenmo/projects/crossplatform/analysis_and_reporting/ddmin_target_file.py#208\u001b\\\u001b[2m208\u001b[0m\u001b]8;;\u001b\\\n"
      ]
     },
     "metadata": {},
     "output_type": "display_data"
    },
    {
     "name": "stdout",
     "output_type": "stream",
     "text": [
      "Error parsing: Command 'python /workspace/to_execute.py' in image 'qiskit_runner' returned non-zero exit status 1: b'Traceback (most recent call last):\\n  File \"/workspace/to_execute.py\", line 123, in <module>\\n    target_qc = qc\\nNameError: name \\'qc\\' is not defined\\n'\n",
      "Failed to execute to_execute.py in Docker.\n",
      "Output: Saved the PennyLane circuit to /workspace/to_execute_qc_pennylane.qasm\n",
      "Saved the Pytket circuit to /workspace/to_execute_qc_pytket.qasm\n",
      "Exported QASM files: [('/workspace/to_execute_qc_pennylane.qasm', 'export_to_qasm_with_pennylane'), ('/workspace/to_execute_qc_pytket.qasm', 'export_to_qasm_with_pytket')]\n",
      "Log has been saved to /workspace/to_execute_8a3b7b_error.json\n",
      "\n",
      "Program to_execute.py executed successfully.\n",
      "New exception message: The circuits are not equivalent: /workspace/to_execute_qc_pennylane.qasm, /workspace/to_execute_qc_pytket.qasm\n",
      "Error parsing: Command 'python /workspace/to_execute.py' in image 'qiskit_runner' returned non-zero exit status 1: b'  File \"/workspace/to_execute.py\", line 19\\n    , custom_instructions=qasm2.LEGACY_CUSTOM_INSTRUCTIONS)\\n                                                          ^\\nSyntaxError: unmatched \\')\\'\\n'\n",
      "Failed to execute to_execute.py in Docker.\n",
      "Error parsing: Command 'python /workspace/to_execute.py' in image 'qiskit_runner' returned non-zero exit status 1: b'  File \"/workspace/to_execute.py\", line 10\\n    qc = qasm2.loads(\\n                    ^\\nSyntaxError: \\'(\\' was never closed\\n'\n",
      "Failed to execute to_execute.py in Docker.\n",
      "Error parsing: Command 'python /workspace/to_execute.py' in image 'qiskit_runner' returned non-zero exit status 1: b'  File \"/workspace/to_execute.py\", line 24\\n    , custom_instructions=qasm2.LEGACY_CUSTOM_INSTRUCTIONS)\\n                                                          ^\\nSyntaxError: unmatched \\')\\'\\n'\n",
      "Failed to execute to_execute.py in Docker.\n",
      "Error parsing: Command 'python /workspace/to_execute.py' in image 'qiskit_runner' returned non-zero exit status 1: b'Traceback (most recent call last):\\n  File \"/workspace/to_execute.py\", line 10, in <module>\\n    qc = qasm2.loads(\\n  File \"/usr/local/lib/python3.10/site-packages/qiskit/qasm2/__init__.py\", line 587, in loads\\n    return _parse.from_bytecode(\\n  File \"/usr/local/lib/python3.10/site-packages/qiskit/qasm2/parse.py\", line 214, in from_bytecode\\n    for op in bc:\\nqiskit.qasm2.exceptions.QASM2ParseError: \"<input>:5,11: \\'b\\' is not defined in this scope\"\\n'\n",
      "Failed to execute to_execute.py in Docker.\n",
      "Output: Saved the PennyLane circuit to /workspace/to_execute_qc_pennylane.qasm\n",
      "Saved the Pytket circuit to /workspace/to_execute_qc_pytket.qasm\n",
      "Exported QASM files: [('/workspace/to_execute_qc_pennylane.qasm', 'export_to_qasm_with_pennylane'), ('/workspace/to_execute_qc_pytket.qasm', 'export_to_qasm_with_pytket')]\n",
      "Log has been saved to /workspace/to_execute_91e891_error.json\n",
      "\n",
      "Program to_execute.py executed successfully.\n",
      "New exception message: The circuits are not equivalent: /workspace/to_execute_qc_pennylane.qasm, /workspace/to_execute_qc_pytket.qasm\n",
      "Error parsing: Command 'python /workspace/to_execute.py' in image 'qiskit_runner' returned non-zero exit status 1: b'  File \"/workspace/to_execute.py\", line 18\\n    , custom_instructions=qasm2.LEGACY_CUSTOM_INSTRUCTIONS)\\n                                                          ^\\nSyntaxError: unmatched \\')\\'\\n'\n",
      "Failed to execute to_execute.py in Docker.\n",
      "Error parsing: Command 'python /workspace/to_execute.py' in image 'qiskit_runner' returned non-zero exit status 1: b'Traceback (most recent call last):\\n  File \"/workspace/to_execute.py\", line 10, in <module>\\n    qc = qasm2.loads(\\n  File \"/usr/local/lib/python3.10/site-packages/qiskit/qasm2/__init__.py\", line 587, in loads\\n    return _parse.from_bytecode(\\n  File \"/usr/local/lib/python3.10/site-packages/qiskit/qasm2/parse.py\", line 214, in from_bytecode\\n    for op in bc:\\nqiskit.qasm2.exceptions.QASM2ParseError: \"<input>:4,3: \\'a\\' is not defined in this scope\"\\n'\n",
      "Failed to execute to_execute.py in Docker.\n",
      "Error parsing: Command 'python /workspace/to_execute.py' in image 'qiskit_runner' returned non-zero exit status 1: b'  File \"/workspace/to_execute.py\", line 10\\n    qc = qasm2.loads(\\n                    ^\\nSyntaxError: \\'(\\' was never closed\\n'\n",
      "Failed to execute to_execute.py in Docker.\n",
      "Error parsing: Command 'python /workspace/to_execute.py' in image 'qiskit_runner' returned non-zero exit status 1: b'  File \"/workspace/to_execute.py\", line 20\\n    , custom_instructions=qasm2.LEGACY_CUSTOM_INSTRUCTIONS)\\n                                                          ^\\nSyntaxError: unmatched \\')\\'\\n'\n",
      "Failed to execute to_execute.py in Docker.\n",
      "Error parsing: Command 'python /workspace/to_execute.py' in image 'qiskit_runner' returned non-zero exit status 1: b'Traceback (most recent call last):\\n  File \"/workspace/to_execute.py\", line 10, in <module>\\n    qc = qasm2.loads(\\n  File \"/usr/local/lib/python3.10/site-packages/qiskit/qasm2/__init__.py\", line 587, in loads\\n    return _parse.from_bytecode(\\n  File \"/usr/local/lib/python3.10/site-packages/qiskit/qasm2/parse.py\", line 214, in from_bytecode\\n    for op in bc:\\nqiskit.qasm2.exceptions.QASM2ParseError: \"<input>:6,0: cannot use non-builtin custom instruction \\'cx\\' before definition\"\\n'\n",
      "Failed to execute to_execute.py in Docker.\n",
      "Error parsing: Command 'python /workspace/to_execute.py' in image 'qiskit_runner' returned non-zero exit status 1: b'Traceback (most recent call last):\\n  File \"/workspace/to_execute.py\", line 10, in <module>\\n    qc = qasm2.loads(\\n  File \"/usr/local/lib/python3.10/site-packages/qiskit/qasm2/__init__.py\", line 587, in loads\\n    return _parse.from_bytecode(\\n  File \"/usr/local/lib/python3.10/site-packages/qiskit/qasm2/parse.py\", line 214, in from_bytecode\\n    for op in bc:\\nqiskit.qasm2.exceptions.QASM2ParseError: \"<input>:5,3: \\'a\\' is not defined in this scope\"\\n'\n",
      "Failed to execute to_execute.py in Docker.\n",
      "Output: Saved the PennyLane circuit to /workspace/to_execute_qc_pennylane.qasm\n",
      "Saved the Pytket circuit to /workspace/to_execute_qc_pytket.qasm\n",
      "Exported QASM files: [('/workspace/to_execute_qc_pennylane.qasm', 'export_to_qasm_with_pennylane'), ('/workspace/to_execute_qc_pytket.qasm', 'export_to_qasm_with_pytket')]\n",
      "Log has been saved to /workspace/to_execute_57c74a_error.json\n",
      "\n",
      "Program to_execute.py executed successfully.\n",
      "New exception message: The circuits are not equivalent: /workspace/to_execute_qc_pennylane.qasm, /workspace/to_execute_qc_pytket.qasm\n",
      "Error parsing: Command 'python /workspace/to_execute.py' in image 'qiskit_runner' returned non-zero exit status 1: b'  File \"/workspace/to_execute.py\", line 18\\n    , custom_instructions=qasm2.LEGACY_CUSTOM_INSTRUCTIONS)\\n                                                          ^\\nSyntaxError: unmatched \\')\\'\\n'\n",
      "Failed to execute to_execute.py in Docker.\n",
      "Error parsing: Command 'python /workspace/to_execute.py' in image 'qiskit_runner' returned non-zero exit status 1: b'Traceback (most recent call last):\\n  File \"/workspace/to_execute.py\", line 10, in <module>\\n    qc = qasm2.loads(\\n  File \"/usr/local/lib/python3.10/site-packages/qiskit/qasm2/__init__.py\", line 587, in loads\\n    return _parse.from_bytecode(\\n  File \"/usr/local/lib/python3.10/site-packages/qiskit/qasm2/parse.py\", line 214, in from_bytecode\\n    for op in bc:\\nqiskit.qasm2.exceptions.QASM2ParseError: \"<input>:4,0: cannot use non-builtin custom instruction \\'cx\\' before definition\"\\n'\n",
      "Failed to execute to_execute.py in Docker.\n",
      "Error parsing: Command 'python /workspace/to_execute.py' in image 'qiskit_runner' returned non-zero exit status 1: b'Traceback (most recent call last):\\n  File \"/workspace/to_execute.py\", line 10, in <module>\\n    qc = qasm2.loads(\\n  File \"/usr/local/lib/python3.10/site-packages/qiskit/qasm2/__init__.py\", line 587, in loads\\n    return _parse.from_bytecode(\\n  File \"/usr/local/lib/python3.10/site-packages/qiskit/qasm2/parse.py\", line 214, in from_bytecode\\n    for op in bc:\\nqiskit.qasm2.exceptions.QASM2ParseError: \"<input>:5,3: \\'a\\' is not defined in this scope\"\\n'\n",
      "Failed to execute to_execute.py in Docker.\n",
      "Output: Saved the PennyLane circuit to /workspace/to_execute_qc_pennylane.qasm\n",
      "Saved the Pytket circuit to /workspace/to_execute_qc_pytket.qasm\n",
      "Exported QASM files: [('/workspace/to_execute_qc_pennylane.qasm', 'export_to_qasm_with_pennylane'), ('/workspace/to_execute_qc_pytket.qasm', 'export_to_qasm_with_pytket')]\n",
      "The circuits are equivalent: /workspace/to_execute_qc_pennylane.qasm, /workspace/to_execute_qc_pytket.qasm\n",
      "\n",
      "Program to_execute.py executed successfully.\n",
      "Error parsing: Command 'python /workspace/to_execute.py' in image 'qiskit_runner' returned non-zero exit status 1: b'  File \"/workspace/to_execute.py\", line 10\\n    qc = qasm2.loads(\\n                    ^\\nSyntaxError: \\'(\\' was never closed\\n'\n",
      "Failed to execute to_execute.py in Docker.\n",
      "Error parsing: Command 'python /workspace/to_execute.py' in image 'qiskit_runner' returned non-zero exit status 1: b'  File \"/workspace/to_execute.py\", line 21\\n    , custom_instructions=qasm2.LEGACY_CUSTOM_INSTRUCTIONS)\\nIndentationError: unexpected indent\\n'\n",
      "Failed to execute to_execute.py in Docker.\n",
      "Output: Saved the PennyLane circuit to /workspace/to_execute_qc_pennylane.qasm\n",
      "Saved the Pytket circuit to /workspace/to_execute_qc_pytket.qasm\n",
      "Exported QASM files: [('/workspace/to_execute_qc_pennylane.qasm', 'export_to_qasm_with_pennylane'), ('/workspace/to_execute_qc_pytket.qasm', 'export_to_qasm_with_pytket')]\n",
      "Log has been saved to /workspace/to_execute_e4c7a9_error.json\n",
      "\n",
      "Program to_execute.py executed successfully.\n",
      "New exception message: The circuits are not equivalent: /workspace/to_execute_qc_pennylane.qasm, /workspace/to_execute_qc_pytket.qasm\n",
      "Error parsing: Command 'python /workspace/to_execute.py' in image 'qiskit_runner' returned non-zero exit status 1: b'  File \"/workspace/to_execute.py\", line 20\\n    , custom_instructions=qasm2.LEGACY_CUSTOM_INSTRUCTIONS)\\nIndentationError: unexpected indent\\n'\n",
      "Failed to execute to_execute.py in Docker.\n",
      "Error parsing: Command 'python /workspace/to_execute.py' in image 'qiskit_runner' returned non-zero exit status 1: b'  File \"/workspace/to_execute.py\", line 11\\n    OPENQASM 2.0;\\n    ^^^^^^^^^^^^\\nSyntaxError: invalid syntax. Perhaps you forgot a comma?\\n'\n",
      "Failed to execute to_execute.py in Docker.\n",
      "Output: Saved the PennyLane circuit to /workspace/to_execute_qc_pennylane.qasm\n",
      "Saved the Pytket circuit to /workspace/to_execute_qc_pytket.qasm\n",
      "Exported QASM files: [('/workspace/to_execute_qc_pennylane.qasm', 'export_to_qasm_with_pennylane'), ('/workspace/to_execute_qc_pytket.qasm', 'export_to_qasm_with_pytket')]\n",
      "Log has been saved to /workspace/to_execute_14c337_error.json\n",
      "\n",
      "Program to_execute.py executed successfully.\n",
      "New exception message: The circuits are not equivalent: /workspace/to_execute_qc_pennylane.qasm, /workspace/to_execute_qc_pytket.qasm\n",
      "Error parsing: Command 'python /workspace/to_execute.py' in image 'qiskit_runner' returned non-zero exit status 1: b'  File \"/workspace/to_execute.py\", line 19\\n    , custom_instructions=qasm2.LEGACY_CUSTOM_INSTRUCTIONS)\\nIndentationError: unexpected indent\\n'\n",
      "Failed to execute to_execute.py in Docker.\n",
      "Error parsing: Command 'python /workspace/to_execute.py' in image 'qiskit_runner' returned non-zero exit status 1: b'  File \"/workspace/to_execute.py\", line 11\\n    include \"qelib1.inc\";\\n            ^^^^^^^^^^^^\\nSyntaxError: invalid syntax\\n'\n",
      "Failed to execute to_execute.py in Docker.\n",
      "Error parsing: Command 'python /workspace/to_execute.py' in image 'qiskit_runner' returned non-zero exit status 1: b'Traceback (most recent call last):\\n  File \"/workspace/to_execute.py\", line 10, in <module>\\n    qc = qasm2.loads(\\n  File \"/usr/local/lib/python3.10/site-packages/qiskit/qasm2/__init__.py\", line 587, in loads\\n    return _parse.from_bytecode(\\n  File \"/usr/local/lib/python3.10/site-packages/qiskit/qasm2/parse.py\", line 214, in from_bytecode\\n    for op in bc:\\nqiskit.qasm2.exceptions.QASM2ParseError: \"<input>:4,0: cannot use non-builtin custom instruction \\'cx\\' before definition\"\\n'\n",
      "Failed to execute to_execute.py in Docker.\n",
      "Error parsing: Command 'python /workspace/to_execute.py' in image 'qiskit_runner' returned non-zero exit status 1: b'Traceback (most recent call last):\\n  File \"/workspace/to_execute.py\", line 10, in <module>\\n    qc = qasm2.loads(\\n  File \"/usr/local/lib/python3.10/site-packages/qiskit/qasm2/__init__.py\", line 587, in loads\\n    return _parse.from_bytecode(\\n  File \"/usr/local/lib/python3.10/site-packages/qiskit/qasm2/parse.py\", line 214, in from_bytecode\\n    for op in bc:\\nqiskit.qasm2.exceptions.QASM2ParseError: \"<input>:5,3: \\'a\\' is not defined in this scope\"\\n'\n",
      "Failed to execute to_execute.py in Docker.\n",
      "Error parsing: Command 'python /workspace/to_execute.py' in image 'qiskit_runner' returned non-zero exit status 1: b'Traceback (most recent call last):\\n  File \"/workspace/to_execute.py\", line 10, in <module>\\n    qc = qasm2.loads(\\n  File \"/usr/local/lib/python3.10/site-packages/qiskit/qasm2/__init__.py\", line 587, in loads\\n    return _parse.from_bytecode(\\n  File \"/usr/local/lib/python3.10/site-packages/qiskit/qasm2/parse.py\", line 214, in from_bytecode\\n    for op in bc:\\nqiskit.qasm2.exceptions.QASM2ParseError: \"<input>:5,8: \\'b\\' is not defined in this scope\"\\n'\n",
      "Failed to execute to_execute.py in Docker.\n",
      "Output: Saved the PennyLane circuit to /workspace/to_execute_qc_pennylane.qasm\n",
      "Saved the Pytket circuit to /workspace/to_execute_qc_pytket.qasm\n",
      "Exported QASM files: [('/workspace/to_execute_qc_pennylane.qasm', 'export_to_qasm_with_pennylane'), ('/workspace/to_execute_qc_pytket.qasm', 'export_to_qasm_with_pytket')]\n",
      "Log has been saved to /workspace/to_execute_206b6e_error.json\n",
      "\n",
      "Program to_execute.py executed successfully.\n",
      "New exception message: The circuits are not equivalent: /workspace/to_execute_qc_pennylane.qasm, /workspace/to_execute_qc_pytket.qasm\n",
      "Error parsing: Command 'python /workspace/to_execute.py' in image 'qiskit_runner' returned non-zero exit status 1: b'  File \"/workspace/to_execute.py\", line 18\\n    , custom_instructions=qasm2.LEGACY_CUSTOM_INSTRUCTIONS)\\nIndentationError: unexpected indent\\n'\n",
      "Failed to execute to_execute.py in Docker.\n",
      "Error parsing: Command 'python /workspace/to_execute.py' in image 'qiskit_runner' returned non-zero exit status 1: b'  File \"/workspace/to_execute.py\", line 11\\n    qreg cin[1];\\n    ^^^^^^^^^^^\\nSyntaxError: invalid syntax. Perhaps you forgot a comma?\\n'\n",
      "Failed to execute to_execute.py in Docker.\n",
      "Error parsing: Command 'python /workspace/to_execute.py' in image 'qiskit_runner' returned non-zero exit status 1: b'Traceback (most recent call last):\\n  File \"/workspace/to_execute.py\", line 10, in <module>\\n    qc = qasm2.loads(\\n  File \"/usr/local/lib/python3.10/site-packages/qiskit/qasm2/__init__.py\", line 587, in loads\\n    return _parse.from_bytecode(\\n  File \"/usr/local/lib/python3.10/site-packages/qiskit/qasm2/parse.py\", line 214, in from_bytecode\\n    for op in bc:\\nqiskit.qasm2.exceptions.QASM2ParseError: \"<input>:5,8: \\'cin\\' is not defined in this scope\"\\n'\n",
      "Failed to execute to_execute.py in Docker.\n",
      "Error parsing: Command 'python /workspace/to_execute.py' in image 'qiskit_runner' returned non-zero exit status 1: b'Traceback (most recent call last):\\n  File \"/workspace/to_execute.py\", line 10, in <module>\\n    qc = qasm2.loads(\\n  File \"/usr/local/lib/python3.10/site-packages/qiskit/qasm2/__init__.py\", line 587, in loads\\n    return _parse.from_bytecode(\\n  File \"/usr/local/lib/python3.10/site-packages/qiskit/qasm2/parse.py\", line 214, in from_bytecode\\n    for op in bc:\\nqiskit.qasm2.exceptions.QASM2ParseError: \"<input>:4,3: \\'a\\' is not defined in this scope\"\\n'\n",
      "Failed to execute to_execute.py in Docker.\n",
      "Output: Saved the PennyLane circuit to /workspace/to_execute_qc_pennylane.qasm\n",
      "Saved the Pytket circuit to /workspace/to_execute_qc_pytket.qasm\n",
      "Exported QASM files: [('/workspace/to_execute_qc_pennylane.qasm', 'export_to_qasm_with_pennylane'), ('/workspace/to_execute_qc_pytket.qasm', 'export_to_qasm_with_pytket')]\n",
      "The circuits are equivalent: /workspace/to_execute_qc_pennylane.qasm, /workspace/to_execute_qc_pytket.qasm\n",
      "\n",
      "Program to_execute.py executed successfully.\n",
      "Error parsing: Command 'python /workspace/to_execute.py' in image 'qiskit_runner' returned non-zero exit status 1: b'  File \"/workspace/to_execute.py\", line 11\\n    include \"qelib1.inc\";\\n            ^^^^^^^^^^^^\\nSyntaxError: invalid syntax\\n'\n",
      "Failed to execute to_execute.py in Docker.\n",
      "Error parsing: Command 'python /workspace/to_execute.py' in image 'qiskit_runner' returned non-zero exit status 1: b'  File \"/workspace/to_execute.py\", line 10\\n    qc = qasm2.loads(\\n                    ^\\nSyntaxError: \\'(\\' was never closed\\n'\n",
      "Failed to execute to_execute.py in Docker.\n",
      "Error parsing: Command 'python /workspace/to_execute.py' in image 'qiskit_runner' returned non-zero exit status 1: b'  File \"/workspace/to_execute.py\", line 18\\n    , custom_instructions=qasm2.LEGACY_CUSTOM_INSTRUCTIONS)\\nIndentationError: unexpected indent\\n'\n",
      "Failed to execute to_execute.py in Docker.\n",
      "Error parsing: Command 'python /workspace/to_execute.py' in image 'qiskit_runner' returned non-zero exit status 1: b'  File \"/workspace/to_execute.py\", line 11\\n    include \"qelib1.inc\";\\n            ^^^^^^^^^^^^\\nSyntaxError: invalid syntax\\n'\n",
      "Failed to execute to_execute.py in Docker.\n",
      "Error parsing: Command 'python /workspace/to_execute.py' in image 'qiskit_runner' returned non-zero exit status 1: b'Traceback (most recent call last):\\n  File \"/workspace/to_execute.py\", line 10, in <module>\\n    qc = qasm2.loads(\\n  File \"/usr/local/lib/python3.10/site-packages/qiskit/qasm2/__init__.py\", line 587, in loads\\n    return _parse.from_bytecode(\\n  File \"/usr/local/lib/python3.10/site-packages/qiskit/qasm2/parse.py\", line 214, in from_bytecode\\n    for op in bc:\\nqiskit.qasm2.exceptions.QASM2ParseError: \"<input>:5,0: cannot use non-builtin custom instruction \\'cx\\' before definition\"\\n'\n",
      "Failed to execute to_execute.py in Docker.\n",
      "Error parsing: Command 'python /workspace/to_execute.py' in image 'qiskit_runner' returned non-zero exit status 1: b'Traceback (most recent call last):\\n  File \"/workspace/to_execute.py\", line 10, in <module>\\n    qc = qasm2.loads(\\n  File \"/usr/local/lib/python3.10/site-packages/qiskit/qasm2/__init__.py\", line 587, in loads\\n    return _parse.from_bytecode(\\n  File \"/usr/local/lib/python3.10/site-packages/qiskit/qasm2/parse.py\", line 214, in from_bytecode\\n    for op in bc:\\nqiskit.qasm2.exceptions.QASM2ParseError: \"<input>:5,8: \\'cin\\' is not defined in this scope\"\\n'\n",
      "Failed to execute to_execute.py in Docker.\n",
      "Error parsing: Command 'python /workspace/to_execute.py' in image 'qiskit_runner' returned non-zero exit status 1: b'Traceback (most recent call last):\\n  File \"/workspace/to_execute.py\", line 10, in <module>\\n    qc = qasm2.loads(\\n  File \"/usr/local/lib/python3.10/site-packages/qiskit/qasm2/__init__.py\", line 587, in loads\\n    return _parse.from_bytecode(\\n  File \"/usr/local/lib/python3.10/site-packages/qiskit/qasm2/parse.py\", line 214, in from_bytecode\\n    for op in bc:\\nqiskit.qasm2.exceptions.QASM2ParseError: \"<input>:5,3: \\'a\\' is not defined in this scope\"\\n'\n",
      "Failed to execute to_execute.py in Docker.\n",
      "Output: Saved the PennyLane circuit to /workspace/to_execute_qc_pennylane.qasm\n",
      "Saved the Pytket circuit to /workspace/to_execute_qc_pytket.qasm\n",
      "Exported QASM files: [('/workspace/to_execute_qc_pennylane.qasm', 'export_to_qasm_with_pennylane'), ('/workspace/to_execute_qc_pytket.qasm', 'export_to_qasm_with_pytket')]\n",
      "Log has been saved to /workspace/to_execute_71c4c7_error.json\n",
      "\n",
      "Program to_execute.py executed successfully.\n",
      "New exception message: The circuits are not equivalent: /workspace/to_execute_qc_pennylane.qasm, /workspace/to_execute_qc_pytket.qasm\n",
      "Error parsing: Command 'python /workspace/to_execute.py' in image 'qiskit_runner' returned non-zero exit status 1: b'  File \"/workspace/to_execute.py\", line 17\\n    , custom_instructions=qasm2.LEGACY_CUSTOM_INSTRUCTIONS)\\nIndentationError: unexpected indent\\n'\n",
      "Failed to execute to_execute.py in Docker.\n",
      "Error parsing: Command 'python /workspace/to_execute.py' in image 'qiskit_runner' returned non-zero exit status 1: b'  File \"/workspace/to_execute.py\", line 11\\n    include \"qelib1.inc\";\\n            ^^^^^^^^^^^^\\nSyntaxError: invalid syntax\\n'\n",
      "Failed to execute to_execute.py in Docker.\n",
      "Error parsing: Command 'python /workspace/to_execute.py' in image 'qiskit_runner' returned non-zero exit status 1: b'Traceback (most recent call last):\\n  File \"/workspace/to_execute.py\", line 10, in <module>\\n    qc = qasm2.loads(\\n  File \"/usr/local/lib/python3.10/site-packages/qiskit/qasm2/__init__.py\", line 587, in loads\\n    return _parse.from_bytecode(\\n  File \"/usr/local/lib/python3.10/site-packages/qiskit/qasm2/parse.py\", line 214, in from_bytecode\\n    for op in bc:\\nqiskit.qasm2.exceptions.QASM2ParseError: \"<input>:4,0: cannot use non-builtin custom instruction \\'cx\\' before definition\"\\n'\n",
      "Failed to execute to_execute.py in Docker.\n",
      "Error parsing: Command 'python /workspace/to_execute.py' in image 'qiskit_runner' returned non-zero exit status 1: b'Traceback (most recent call last):\\n  File \"/workspace/to_execute.py\", line 10, in <module>\\n    qc = qasm2.loads(\\n  File \"/usr/local/lib/python3.10/site-packages/qiskit/qasm2/__init__.py\", line 587, in loads\\n    return _parse.from_bytecode(\\n  File \"/usr/local/lib/python3.10/site-packages/qiskit/qasm2/parse.py\", line 214, in from_bytecode\\n    for op in bc:\\nqiskit.qasm2.exceptions.QASM2ParseError: \"<input>:4,8: \\'cin\\' is not defined in this scope\"\\n'\n",
      "Failed to execute to_execute.py in Docker.\n",
      "Error parsing: Command 'python /workspace/to_execute.py' in image 'qiskit_runner' returned non-zero exit status 1: b'Traceback (most recent call last):\\n  File \"/workspace/to_execute.py\", line 10, in <module>\\n    qc = qasm2.loads(\\n  File \"/usr/local/lib/python3.10/site-packages/qiskit/qasm2/__init__.py\", line 587, in loads\\n    return _parse.from_bytecode(\\n  File \"/usr/local/lib/python3.10/site-packages/qiskit/qasm2/parse.py\", line 214, in from_bytecode\\n    for op in bc:\\nqiskit.qasm2.exceptions.QASM2ParseError: \"<input>:4,3: \\'a\\' is not defined in this scope\"\\n'\n",
      "Failed to execute to_execute.py in Docker.\n",
      "Output: Saved the PennyLane circuit to /workspace/to_execute_qc_pennylane.qasm\n",
      "Saved the Pytket circuit to /workspace/to_execute_qc_pytket.qasm\n",
      "Exported QASM files: [('/workspace/to_execute_qc_pennylane.qasm', 'export_to_qasm_with_pennylane'), ('/workspace/to_execute_qc_pytket.qasm', 'export_to_qasm_with_pytket')]\n",
      "The circuits are equivalent: /workspace/to_execute_qc_pennylane.qasm, /workspace/to_execute_qc_pytket.qasm\n",
      "\n",
      "Program to_execute.py executed successfully.\n",
      "Output: Saved the PennyLane circuit to /workspace/to_execute_qc_pennylane.qasm\n",
      "Saved the Pytket circuit to /workspace/to_execute_qc_pytket.qasm\n",
      "Exported QASM files: [('/workspace/to_execute_qc_pennylane.qasm', 'export_to_qasm_with_pennylane'), ('/workspace/to_execute_qc_pytket.qasm', 'export_to_qasm_with_pytket')]\n",
      "Log has been saved to /workspace/to_execute_b46c5e_error.json\n",
      "\n",
      "Program to_execute.py executed successfully.\n",
      "New exception message: The circuits are not equivalent: /workspace/to_execute_qc_pennylane.qasm, /workspace/to_execute_qc_pytket.qasm\n",
      "Error parsing: Command 'python /workspace/to_execute.py' in image 'qiskit_runner' returned non-zero exit status 1: b'  File \"/workspace/to_execute.py\", line 16\\n    , custom_instructions=qasm2.LEGACY_CUSTOM_INSTRUCTIONS)\\nIndentationError: unexpected indent\\n'\n",
      "Failed to execute to_execute.py in Docker.\n",
      "Error parsing: Command 'python /workspace/to_execute.py' in image 'qiskit_runner' returned non-zero exit status 1: b'  File \"/workspace/to_execute.py\", line 11\\n    include \"qelib1.inc\";\\n            ^^^^^^^^^^^^\\nSyntaxError: invalid syntax\\n'\n",
      "Failed to execute to_execute.py in Docker.\n",
      "Error parsing: Command 'python /workspace/to_execute.py' in image 'qiskit_runner' returned non-zero exit status 1: b'Traceback (most recent call last):\\n  File \"/workspace/to_execute.py\", line 10, in <module>\\n    qc = qasm2.loads(\\n  File \"/usr/local/lib/python3.10/site-packages/qiskit/qasm2/__init__.py\", line 587, in loads\\n    return _parse.from_bytecode(\\n  File \"/usr/local/lib/python3.10/site-packages/qiskit/qasm2/parse.py\", line 214, in from_bytecode\\n    for op in bc:\\nqiskit.qasm2.exceptions.QASM2ParseError: \"<input>:4,0: cannot use non-builtin custom instruction \\'cx\\' before definition\"\\n'\n",
      "Failed to execute to_execute.py in Docker.\n",
      "Error parsing: Command 'python /workspace/to_execute.py' in image 'qiskit_runner' returned non-zero exit status 1: b'Traceback (most recent call last):\\n  File \"/workspace/to_execute.py\", line 10, in <module>\\n    qc = qasm2.loads(\\n  File \"/usr/local/lib/python3.10/site-packages/qiskit/qasm2/__init__.py\", line 587, in loads\\n    return _parse.from_bytecode(\\n  File \"/usr/local/lib/python3.10/site-packages/qiskit/qasm2/parse.py\", line 214, in from_bytecode\\n    for op in bc:\\nqiskit.qasm2.exceptions.QASM2ParseError: \"<input>:4,8: \\'cin\\' is not defined in this scope\"\\n'\n",
      "Failed to execute to_execute.py in Docker.\n",
      "Error parsing: Command 'python /workspace/to_execute.py' in image 'qiskit_runner' returned non-zero exit status 1: b'Traceback (most recent call last):\\n  File \"/workspace/to_execute.py\", line 10, in <module>\\n    qc = qasm2.loads(\\n  File \"/usr/local/lib/python3.10/site-packages/qiskit/qasm2/__init__.py\", line 587, in loads\\n    return _parse.from_bytecode(\\n  File \"/usr/local/lib/python3.10/site-packages/qiskit/qasm2/parse.py\", line 214, in from_bytecode\\n    for op in bc:\\nqiskit.qasm2.exceptions.QASM2ParseError: \"<input>:4,3: \\'a\\' is not defined in this scope\"\\n'\n",
      "Failed to execute to_execute.py in Docker.\n",
      "Output: Saved the PennyLane circuit to /workspace/to_execute_qc_pennylane.qasm\n",
      "Saved the Pytket circuit to /workspace/to_execute_qc_pytket.qasm\n",
      "Exported QASM files: [('/workspace/to_execute_qc_pennylane.qasm', 'export_to_qasm_with_pennylane'), ('/workspace/to_execute_qc_pytket.qasm', 'export_to_qasm_with_pytket')]\n",
      "The circuits are equivalent: /workspace/to_execute_qc_pennylane.qasm, /workspace/to_execute_qc_pytket.qasm\n",
      "\n",
      "Program to_execute.py executed successfully.\n",
      "Error parsing: Command 'python /workspace/to_execute.py' in image 'qiskit_runner' returned non-zero exit status 1: b'  File \"/workspace/to_execute.py\", line 11\\n    include \"qelib1.inc\";\\n            ^^^^^^^^^^^^\\nSyntaxError: invalid syntax\\n'\n",
      "Failed to execute to_execute.py in Docker.\n",
      "Error parsing: Command 'python /workspace/to_execute.py' in image 'qiskit_runner' returned non-zero exit status 1: b'  File \"/workspace/to_execute.py\", line 10\\n    qc = qasm2.loads(\\n                    ^\\nSyntaxError: \\'(\\' was never closed\\n'\n",
      "Failed to execute to_execute.py in Docker.\n"
     ]
    },
    {
     "data": {
      "text/html": [
       "<pre style=\"white-space:pre;overflow-x:auto;line-height:normal;font-family:Menlo,'DejaVu Sans Mono',consolas,'Courier New',monospace\"><span style=\"color: #7fbfbf; text-decoration-color: #7fbfbf\">[15:41:16] </span><span style=\"color: #008000; text-decoration-color: #008000\">Minimized file saved as:</span>                                                        <a href=\"file:///home/paltenmo/projects/crossplatform/analysis_and_reporting/ddmin_target_file.py\" target=\"_blank\"><span style=\"color: #7f7f7f; text-decoration-color: #7f7f7f\">ddmin_target_file.py</span></a><span style=\"color: #7f7f7f; text-decoration-color: #7f7f7f\">:</span><a href=\"file:///home/paltenmo/projects/crossplatform/analysis_and_reporting/ddmin_target_file.py#240\" target=\"_blank\"><span style=\"color: #7f7f7f; text-decoration-color: #7f7f7f\">240</span></a>\n",
       "<span style=\"color: #7fbfbf; text-decoration-color: #7fbfbf\">           </span>..<span style=\"color: #800080; text-decoration-color: #800080\">/program_bank/v007/2024_10_31__17_51__qiskit/</span><span style=\"color: #ff00ff; text-decoration-color: #ff00ff\">qiskit_circuit_5q_10g_32186_4678</span> <span style=\"color: #7f7f7f; text-decoration-color: #7f7f7f\">                        </span>\n",
       "<span style=\"color: #7fbfbf; text-decoration-color: #7fbfbf\">           </span><span style=\"color: #ff00ff; text-decoration-color: #ff00ff\">78_3b2333_error_min.py</span>                                                          <span style=\"color: #7f7f7f; text-decoration-color: #7f7f7f\">                        </span>\n",
       "</pre>\n"
      ],
      "text/plain": [
       "\u001b[2;36m[15:41:16]\u001b[0m\u001b[2;36m \u001b[0m\u001b[32mMinimized file saved as:\u001b[0m                                                        \u001b]8;id=865393;file:///home/paltenmo/projects/crossplatform/analysis_and_reporting/ddmin_target_file.py\u001b\\\u001b[2mddmin_target_file.py\u001b[0m\u001b]8;;\u001b\\\u001b[2m:\u001b[0m\u001b]8;id=850336;file:///home/paltenmo/projects/crossplatform/analysis_and_reporting/ddmin_target_file.py#240\u001b\\\u001b[2m240\u001b[0m\u001b]8;;\u001b\\\n",
       "\u001b[2;36m           \u001b[0m..\u001b[35m/program_bank/v007/2024_10_31__17_51__qiskit/\u001b[0m\u001b[95mqiskit_circuit_5q_10g_32186_4678\u001b[0m \u001b[2m                        \u001b[0m\n",
       "\u001b[2;36m           \u001b[0m\u001b[95m78_3b2333_error_min.py\u001b[0m                                                          \u001b[2m                        \u001b[0m\n"
      ]
     },
     "metadata": {},
     "output_type": "display_data"
    }
   ],
   "source": [
    "from analysis_and_reporting.ddmin_target_file import minimize_instructions\n",
    "from pathlib import Path\n",
    "\n",
    "error_paths_in_sample_folder = [\n",
    "    os.path.join(DIR_SAMPLE_ERRORS, f)\n",
    "    for f in os.listdir(DIR_SAMPLE_ERRORS)\n",
    "    if re.match(r'.*_error\\.json$', f)\n",
    "]\n",
    "\n",
    "# run minimization command:\n",
    "# python -m analysis_and_reporting.ddmin_target_file --input_folder {folder_with_files} --path_to_error {path_to_json_file} --clue_message 'The circuits are not equivalent'\n",
    "\n",
    "n_error_files = len(error_paths_in_sample_folder)\n",
    "print(f\"Error paths in sample folder ({n_error_files}):\")\n",
    "for error_path in error_paths_in_sample_folder:\n",
    "    print(error_path)\n",
    "\n",
    "# add the parent folder to the path\n",
    "sys.path.append(\"..\")\n",
    "\n",
    "for error_path in error_paths_in_sample_folder:\n",
    "    path_minimized_file = error_path.replace(\"_error.json\", \"_error_min.py\")\n",
    "    # check if the same file exists in the sample folder with extension _min.py\n",
    "    # if yes then skip\n",
    "    if os.path.exists(path_minimized_file):\n",
    "        print(f\"Skipping minimization for {error_path}\")\n",
    "        continue\n",
    "\n",
    "    print(f\"Running minimization for {error_path}\")\n",
    "    minimize_instructions(\n",
    "        input_folder=Path(DIR_PROGRAM_BANK),\n",
    "        path_to_error=Path(error_path),\n",
    "        clue_message='The circuits are not equivalent'\n",
    "    )\n",
    "\n",
    "    # copy the minimized file from DIR_PROGRAM_BANK to the sample folder\n",
    "    name_minimized_file = os.path.basename(path_minimized_file)\n",
    "    shutil.copy(\n",
    "        os.path.join(DIR_PROGRAM_BANK, name_minimized_file),\n",
    "        path_minimized_file\n",
    "    )"
   ]
  },
  {
   "cell_type": "code",
   "execution_count": null,
   "metadata": {},
   "outputs": [],
   "source": []
  }
 ],
 "metadata": {
  "kernelspec": {
   "display_name": "crosspl",
   "language": "python",
   "name": "python3"
  },
  "language_info": {
   "codemirror_mode": {
    "name": "ipython",
    "version": 3
   },
   "file_extension": ".py",
   "mimetype": "text/x-python",
   "name": "python",
   "nbconvert_exporter": "python",
   "pygments_lexer": "ipython3",
   "version": "3.10.14"
  }
 },
 "nbformat": 4,
 "nbformat_minor": 2
}
