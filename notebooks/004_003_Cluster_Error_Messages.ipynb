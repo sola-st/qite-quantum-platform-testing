{
 "cells": [
  {
   "cell_type": "code",
   "execution_count": 15,
   "metadata": {},
   "outputs": [],
   "source": [
    "import os\n",
    "import sys\n",
    "import json\n",
    "from pathlib import Path\n",
    "import shutil\n",
    "\n",
    "import pandas as pd\n",
    "import numpy as np\n",
    "import matplotlib.pyplot as plt\n",
    "import seaborn as sns\n",
    "\n",
    "from typing import List, Tuple, Dict, Any, Optional\n",
    "\n",
    "import sys\n",
    "sys.path.append(\"..\")"
   ]
  },
  {
   "cell_type": "code",
   "execution_count": 5,
   "metadata": {
    "tags": [
     "parameters"
    ]
   },
   "outputs": [],
   "source": [
    "PATH_ROOT_DIR: str = \"..\"\n",
    "\n",
    "INFO_TO_USE_FOR_CLUSTERING: List[str] = [\n",
    "    'exception_message', 'essential_file_content']\n",
    "\n",
    "PCA_COMPONENTS: int = 3\n",
    "\n",
    "AI_MODEL: str = \"llama-3.1-70b-versatile\"  # or \"gpt-4o-mini\"\n",
    "\n",
    "N_POSITIVE_EXAMPLES_TO_SHOW_LLM: int = 5\n",
    "\n",
    "# Test run\n",
    "# DIR_PROGRAM_BANK = os.path.join(\"..\", \"program_bank\", \"v001\", \"2024_10_04__14_48__qiskit\")\n",
    "# Run with 10k programs: v001.yaml\n",
    "# program_bank/v001/2024_10_04__15_10__qiskit\n",
    "# DIR_PROGRAM_BANK = os.path.join(\"..\", \"program_bank\", \"v001\", \"2024_10_04__15_10__qiskit\")\n",
    "# program_bank/v002/2024_10_07__17_03__qiskit\n",
    "# DIR_PROGRAM_BANK: str = os.path.join(\n",
    "#     \"..\", \"program_bank\", \"v004\", \"2024_10_18__16_09__qiskit\")\n",
    "\n",
    "# DIR_SAMPLE_ERRORS: str = os.path.join(\n",
    "#     \"..\", \"program_bank\", \"v004\", \"2024_10_18__16_09__sample_errors\")\n",
    "\n",
    "\n",
    "# DIR_PROGRAM_BANK: str = os.path.join(\n",
    "#     \"..\", \"program_bank\", \"v005\", \"2024_10_22__14_17__qiskit\")\n",
    "# DIR_SAMPLE_ERRORS: str = os.path.join(\n",
    "#     \"..\", \"program_bank\", \"v005\", \"2024_10_22__14_17__sample_errors\")\n",
    "\n",
    "# inspected folders\n",
    "# program_bank/v005/2024_10_22__22_32__qiskit\n",
    "# program_bank/v007/2024_10_31__17_51__qiskit\n",
    "# program_bank/v008/2024_11_07__15_05__qiskit\n",
    "# program_bank/v009/2024_11_20__13_42__qiskit\n",
    "# program_bank/v012/2024_12_16__23_03__qiskit\n",
    "DIR_PROGRAM_BANK: str = os.path.join(\n",
    "    \"..\", \"program_bank\", \"v012\", \"2024_12_16__23_03__qiskit\")\n",
    "DIR_SAMPLE_ERRORS: str = os.path.join(\n",
    "    \"..\", \"program_bank\", \"v012\", \"2024_12_16__23_03__sample_errors\")\n",
    "# \"2024_11_20__13_42__sample_errors_no_pennylane\")\n",
    "\n",
    "\n",
    "PROMPT_CONTENT: str = \"BOTH_ERROR_AND_PROGRAM\""
   ]
  },
  {
   "cell_type": "code",
   "execution_count": 6,
   "metadata": {},
   "outputs": [
    {
     "name": "stdout",
     "output_type": "stream",
     "text": [
      "Current folder: /home/paltenmo/projects/crossplatform/notebooks\n",
      "PATH_ROOT_DIR: ..\n",
      "INFO_TO_USE_FOR_CLUSTERING: ['exception_message', 'essential_file_content']\n",
      "PCA_COMPONENTS: 3\n",
      "AI_MODEL: llama-3.1-70b-versatile\n",
      "N_POSITIVE_EXAMPLES_TO_SHOW_LLM: 5\n",
      "DIR_PROGRAM_BANK: ../program_bank/v012/2024_12_16__23_03__qiskit\n",
      "DIR_SAMPLE_ERRORS: ../program_bank/v012/2024_12_16__23_03__sample_errors\n",
      "PROMPT_CONTENT: BOTH_ERROR_AND_PROGRAM\n"
     ]
    }
   ],
   "source": [
    "# print the current folder\n",
    "print(f\"Current folder: {os.getcwd()}\")\n",
    "\n",
    "all_global_vars = dict(globals().copy())\n",
    "# print all global variables\n",
    "for k, v in all_global_vars.items():\n",
    "    if k.isupper():\n",
    "        print(f\"{k}: {v}\")"
   ]
  },
  {
   "cell_type": "code",
   "execution_count": 7,
   "metadata": {},
   "outputs": [],
   "source": [
    "import openai\n",
    "import groq\n",
    "PATH_GROQ_TOKEN = os.path.join(PATH_ROOT_DIR, \"groq_token.txt\")\n",
    "GROQ_TOKEN = Path(PATH_GROQ_TOKEN).read_text().strip()\n",
    "\n",
    "# Export the GROQ_TOKEN as GROQ_API_KEY\n",
    "os.environ['GROQ_API_KEY'] = GROQ_TOKEN\n",
    "\n",
    "PATH_OPENAI_API_KEY = os.path.join(PATH_ROOT_DIR, \"openai_token.txt\")\n",
    "OPENAI_API_KEY = Path(PATH_OPENAI_API_KEY).read_text().strip()\n",
    "\n",
    "os.environ['OPENAI_API_KEY'] = OPENAI_API_KEY"
   ]
  },
  {
   "cell_type": "code",
   "execution_count": 8,
   "metadata": {},
   "outputs": [
    {
     "name": "stdout",
     "output_type": "stream",
     "text": [
      "Number of generated programs: 10000\n",
      "Number of errors: 12359\n"
     ]
    }
   ],
   "source": [
    "# count generated programs in the program bank\n",
    "count_generated_programs = len(list(Path(DIR_PROGRAM_BANK).rglob(\"*.py\")))\n",
    "print(f\"Number of generated programs: {count_generated_programs}\")\n",
    "\n",
    "# count the number of errors\n",
    "count_errors = len(list(Path(DIR_PROGRAM_BANK).rglob(\"*_error.json\")))\n",
    "print(f\"Number of errors: {count_errors}\")"
   ]
  },
  {
   "cell_type": "markdown",
   "metadata": {},
   "source": [
    "## Read Files"
   ]
  },
  {
   "cell_type": "code",
   "execution_count": null,
   "metadata": {},
   "outputs": [
    {
     "name": "stdout",
     "output_type": "stream",
     "text": [
      "Number of errors: 12359\n"
     ]
    }
   ],
   "source": [
    "from multiprocessing import Pool\n",
    "import re\n",
    "\n",
    "\n",
    "def read_json_file(file_path: str) -> Dict[str, Any]:\n",
    "    with open(file_path, 'r') as file:\n",
    "        data = json.load(file)\n",
    "        data[\"error_file\"] = os.path.basename(file_path)\n",
    "        return data\n",
    "\n",
    "\n",
    "def read_all_programs(dir_path: str) -> pd.DataFrame:\n",
    "    json_files = [os.path.join(dir_path, f) for f in os.listdir(\n",
    "        dir_path) if re.match(r'.*_error\\.json$', f)]\n",
    "    records = []\n",
    "\n",
    "    with Pool() as pool:\n",
    "        results = pool.map(read_json_file, json_files)\n",
    "        records.extend(results)\n",
    "\n",
    "    return pd.DataFrame(records)\n",
    "\n",
    "\n",
    "# Use the function to read all programs\n",
    "df_errors = read_all_programs(DIR_PROGRAM_BANK)\n",
    "\n",
    "# augment the dataframe with the proram content\n",
    "\n",
    "\n",
    "def read_file_content(file_name: str) -> str:\n",
    "    file_path = os.path.join(DIR_PROGRAM_BANK, file_name)\n",
    "    with open(file_path, 'r') as file:\n",
    "        return file.read()\n",
    "\n",
    "\n",
    "# Use parallel apply to read the file content\n",
    "with Pool() as pool:\n",
    "    df_errors['file_content'] = pool.map(\n",
    "        read_file_content, df_errors['current_file'])\n",
    "\n",
    "# Alternatively, you can use apply without parallel processing\n",
    "# df_errors['file_content'] = df_errors['current_file'].apply(read_file_content)\n",
    "\n",
    "df_errors.head()\n",
    "n_errors = len(df_errors)\n",
    "print(f\"Number of errors: {n_errors}\")\n",
    "\n",
    "\n",
    "# HELPER FUNCTIONS\n",
    "\n",
    "\n",
    "def get_corresponding_program_file(path_error_file: str) -> str:\n",
    "    # remove the fixed length prefix \"_ba6b02_error.json\"\n",
    "    return path_error_file[:-18] + \".py\"\n",
    "\n",
    "\n",
    "def copy_errors_to_sample_folder(\n",
    "        sample_errors_paths: List[str],\n",
    "        dir_sample_errors: str):\n",
    "    os.makedirs(dir_sample_errors, exist_ok=True)\n",
    "    for file_path in sample_errors_paths:\n",
    "        shutil.copy(file_path, dir_sample_errors)\n",
    "        print(f\"Copying {file_path} to {dir_sample_errors}\")\n",
    "        corresponding_program_file = get_corresponding_program_file(file_path)\n",
    "        shutil.copy(corresponding_program_file, dir_sample_errors)\n",
    "        print(f\"Copying {corresponding_program_file} to {dir_sample_errors}\")"
   ]
  },
  {
   "cell_type": "markdown",
   "metadata": {},
   "source": [
    "# Exclude Pennylane (errors)"
   ]
  },
  {
   "cell_type": "code",
   "execution_count": 10,
   "metadata": {},
   "outputs": [
    {
     "name": "stdout",
     "output_type": "stream",
     "text": [
      "Number of errors without PennyLane: 8220\n"
     ]
    }
   ],
   "source": [
    "df_errors['involved_functions'] = df_errors['involved_functions'].astype(\n",
    "    str)\n",
    "df_errors = df_errors[\n",
    "    ~df_errors['involved_functions'].str.contains('pennylane')]\n",
    "n_errors = len(df_errors)\n",
    "print(f\"Number of errors without PennyLane: {n_errors}\")"
   ]
  },
  {
   "cell_type": "markdown",
   "metadata": {},
   "source": [
    "# Minimize Sample"
   ]
  },
  {
   "cell_type": "code",
   "execution_count": null,
   "metadata": {},
   "outputs": [
    {
     "name": "stdout",
     "output_type": "stream",
     "text": [
      "Copying ../program_bank/v009/2024_11_20__13_42__qiskit/qiskit_circuit_5q_10g_1511_600fe6_0353c4_error.json to ../program_bank/v009/2024_11_20__13_42__sample_errors_no_pennylane\n",
      "Copying ../program_bank/v009/2024_11_20__13_42__qiskit/qiskit_circuit_5q_10g_1511_600fe6.py to ../program_bank/v009/2024_11_20__13_42__sample_errors_no_pennylane\n",
      "Copying ../program_bank/v009/2024_11_20__13_42__qiskit/qiskit_circuit_5q_10g_5923_1fb05d_394db9_error.json to ../program_bank/v009/2024_11_20__13_42__sample_errors_no_pennylane\n",
      "Copying ../program_bank/v009/2024_11_20__13_42__qiskit/qiskit_circuit_5q_10g_5923_1fb05d.py to ../program_bank/v009/2024_11_20__13_42__sample_errors_no_pennylane\n",
      "Copying ../program_bank/v009/2024_11_20__13_42__qiskit/qiskit_circuit_5q_10g_5585_30abba_76b749_error.json to ../program_bank/v009/2024_11_20__13_42__sample_errors_no_pennylane\n",
      "Copying ../program_bank/v009/2024_11_20__13_42__qiskit/qiskit_circuit_5q_10g_5585_30abba.py to ../program_bank/v009/2024_11_20__13_42__sample_errors_no_pennylane\n",
      "Copying ../program_bank/v009/2024_11_20__13_42__qiskit/qiskit_circuit_5q_10g_5722_074956_37938c_error.json to ../program_bank/v009/2024_11_20__13_42__sample_errors_no_pennylane\n",
      "Copying ../program_bank/v009/2024_11_20__13_42__qiskit/qiskit_circuit_5q_10g_5722_074956.py to ../program_bank/v009/2024_11_20__13_42__sample_errors_no_pennylane\n",
      "Copying ../program_bank/v009/2024_11_20__13_42__qiskit/qiskit_circuit_5q_10g_2151_e092a7_ad5f21_error.json to ../program_bank/v009/2024_11_20__13_42__sample_errors_no_pennylane\n",
      "Copying ../program_bank/v009/2024_11_20__13_42__qiskit/qiskit_circuit_5q_10g_2151_e092a7.py to ../program_bank/v009/2024_11_20__13_42__sample_errors_no_pennylane\n",
      "Copying ../program_bank/v009/2024_11_20__13_42__qiskit/qiskit_circuit_5q_10g_5608_214aee_3d00e0_error.json to ../program_bank/v009/2024_11_20__13_42__sample_errors_no_pennylane\n",
      "Copying ../program_bank/v009/2024_11_20__13_42__qiskit/qiskit_circuit_5q_10g_5608_214aee.py to ../program_bank/v009/2024_11_20__13_42__sample_errors_no_pennylane\n",
      "Copying ../program_bank/v009/2024_11_20__13_42__qiskit/qiskit_circuit_5q_10g_976_54c509_045d23_error.json to ../program_bank/v009/2024_11_20__13_42__sample_errors_no_pennylane\n",
      "Copying ../program_bank/v009/2024_11_20__13_42__qiskit/qiskit_circuit_5q_10g_976_54c509.py to ../program_bank/v009/2024_11_20__13_42__sample_errors_no_pennylane\n",
      "Copying ../program_bank/v009/2024_11_20__13_42__qiskit/qiskit_circuit_5q_10g_5745_884e27_157b8a_error.json to ../program_bank/v009/2024_11_20__13_42__sample_errors_no_pennylane\n",
      "Copying ../program_bank/v009/2024_11_20__13_42__qiskit/qiskit_circuit_5q_10g_5745_884e27.py to ../program_bank/v009/2024_11_20__13_42__sample_errors_no_pennylane\n",
      "Copying ../program_bank/v009/2024_11_20__13_42__qiskit/qiskit_circuit_5q_10g_1009_f72144_e4d6f6_error.json to ../program_bank/v009/2024_11_20__13_42__sample_errors_no_pennylane\n",
      "Copying ../program_bank/v009/2024_11_20__13_42__qiskit/qiskit_circuit_5q_10g_1009_f72144.py to ../program_bank/v009/2024_11_20__13_42__sample_errors_no_pennylane\n",
      "Copying ../program_bank/v009/2024_11_20__13_42__qiskit/qiskit_circuit_5q_10g_5266_525689_f43fd2_error.json to ../program_bank/v009/2024_11_20__13_42__sample_errors_no_pennylane\n",
      "Copying ../program_bank/v009/2024_11_20__13_42__qiskit/qiskit_circuit_5q_10g_5266_525689.py to ../program_bank/v009/2024_11_20__13_42__sample_errors_no_pennylane\n"
     ]
    }
   ],
   "source": [
    "\n",
    "# keep only errors with `The circuits are not equivalent` in the exception message\n",
    "df_errors = df_errors[df_errors['exception_message'].str.contains(\n",
    "    'The circuits are not equivalent')]\n",
    "\n",
    "\n",
    "SAMPLE_SIZE = 10\n",
    "actual_sample_size = min(SAMPLE_SIZE, len(df_errors))\n",
    "\n",
    "\n",
    "# pick a sample of error files\n",
    "sample_errors = df_errors.sample(actual_sample_size, random_state=42)\n",
    "\n",
    "# get the paths of the error files\n",
    "sample_errors_paths = [os.path.join(\n",
    "    DIR_PROGRAM_BANK, f) for f in sample_errors['error_file']]\n",
    "\n",
    "\n",
    "copy_errors_to_sample_folder(sample_errors_paths, DIR_SAMPLE_ERRORS)"
   ]
  },
  {
   "cell_type": "code",
   "execution_count": 11,
   "metadata": {},
   "outputs": [
    {
     "data": {
      "text/plain": [
       "12723    The circuits are not equivalent: /workspace/qi...\n",
       "693      The circuits are not equivalent: /workspace/qi...\n",
       "10624    The circuits are not equivalent: /workspace/qi...\n",
       "3913     The circuits are not equivalent: /workspace/qi...\n",
       "5149     The circuits are not equivalent: /workspace/qi...\n",
       "11150    The circuits are not equivalent: /workspace/qi...\n",
       "842      The circuits are not equivalent: /workspace/qi...\n",
       "10721    The circuits are not equivalent: /workspace/qi...\n",
       "11223    The circuits are not equivalent: /workspace/qi...\n",
       "11601    The circuits are not equivalent: /workspace/qi...\n",
       "Name: exception_message, dtype: object"
      ]
     },
     "execution_count": 11,
     "metadata": {},
     "output_type": "execute_result"
    }
   ],
   "source": [
    "# get the content of their error messages\n",
    "sample_errors['exception_message']"
   ]
  },
  {
   "cell_type": "code",
   "execution_count": 30,
   "metadata": {},
   "outputs": [],
   "source": [
    "import sys\n",
    "sys.path.append(\"..\")"
   ]
  },
  {
   "cell_type": "markdown",
   "metadata": {},
   "source": [
    "## Triage All Files \n",
    "Including:\n",
    "1. minimization\n",
    "2. rerunning the code\n",
    "3. running the analysis notebook"
   ]
  },
  {
   "cell_type": "code",
   "execution_count": 13,
   "metadata": {},
   "outputs": [],
   "source": [
    "%load_ext autoreload\n",
    "%autoreload 2"
   ]
  },
  {
   "cell_type": "code",
   "execution_count": 15,
   "metadata": {},
   "outputs": [
    {
     "name": "stdout",
     "output_type": "stream",
     "text": [
      "Error paths in sample folder (10):\n",
      "../program_bank/v009/2024_11_20__13_42__sample_errors_no_pennylane/qiskit_circuit_5q_10g_4342_faa083_a812bf_error.json\n",
      "../program_bank/v009/2024_11_20__13_42__sample_errors_no_pennylane/qiskit_circuit_5q_10g_6316_146402_6a36f0_error.json\n",
      "../program_bank/v009/2024_11_20__13_42__sample_errors_no_pennylane/qiskit_circuit_5q_10g_6533_f0b204_dbc69c_error.json\n",
      "../program_bank/v009/2024_11_20__13_42__sample_errors_no_pennylane/qiskit_circuit_5q_10g_4756_28bbeb_444f6d_error.json\n",
      "../program_bank/v009/2024_11_20__13_42__sample_errors_no_pennylane/qiskit_circuit_5q_10g_144_2ca34b_7b044a_error.json\n",
      "../program_bank/v009/2024_11_20__13_42__sample_errors_no_pennylane/qiskit_circuit_5q_10g_680_6d896d_1fd766_error.json\n",
      "../program_bank/v009/2024_11_20__13_42__sample_errors_no_pennylane/qiskit_circuit_5q_10g_5399_c4b732_f59bef_error.json\n",
      "../program_bank/v009/2024_11_20__13_42__sample_errors_no_pennylane/qiskit_circuit_5q_10g_609_0c26d1_ee02f4_error.json\n",
      "../program_bank/v009/2024_11_20__13_42__sample_errors_no_pennylane/qiskit_circuit_5q_10g_650_4493c8_a271e3_error.json\n",
      "../program_bank/v009/2024_11_20__13_42__sample_errors_no_pennylane/qiskit_circuit_5q_10g_2997_458c2e_f885b3_error.json\n"
     ]
    },
    {
     "data": {
      "text/html": [
       "<pre style=\"white-space:pre;overflow-x:auto;line-height:normal;font-family:Menlo,'DejaVu Sans Mono',consolas,'Courier New',monospace\"><span style=\"color: #7fbfbf; text-decoration-color: #7fbfbf\">[14:49:51] </span>Created report folder: ..<span style=\"color: #800080; text-decoration-color: #800080\">/reports/v009/</span><span style=\"color: #ff00ff; text-decoration-color: #ff00ff\">2024_11_21__14_49</span>                                   <a href=\"file:///home/paltenmo/projects/crossplatform/analysis_and_reporting/triage.py\" target=\"_blank\"><span style=\"color: #7f7f7f; text-decoration-color: #7f7f7f\">triage.py</span></a><span style=\"color: #7f7f7f; text-decoration-color: #7f7f7f\">:</span><a href=\"file:///home/paltenmo/projects/crossplatform/analysis_and_reporting/triage.py#131\" target=\"_blank\"><span style=\"color: #7f7f7f; text-decoration-color: #7f7f7f\">131</span></a>\n",
       "</pre>\n"
      ],
      "text/plain": [
       "\u001b[2;36m[14:49:51]\u001b[0m\u001b[2;36m \u001b[0mCreated report folder: ..\u001b[35m/reports/v009/\u001b[0m\u001b[95m2024_11_21__14_49\u001b[0m                                   \u001b]8;id=600267;file:///home/paltenmo/projects/crossplatform/analysis_and_reporting/triage.py\u001b\\\u001b[2mtriage.py\u001b[0m\u001b]8;;\u001b\\\u001b[2m:\u001b[0m\u001b]8;id=821025;file:///home/paltenmo/projects/crossplatform/analysis_and_reporting/triage.py#131\u001b\\\u001b[2m131\u001b[0m\u001b]8;;\u001b\\\n"
      ]
     },
     "metadata": {},
     "output_type": "display_data"
    },
    {
     "data": {
      "text/html": [
       "<pre style=\"white-space:pre;overflow-x:auto;line-height:normal;font-family:Menlo,'DejaVu Sans Mono',consolas,'Courier New',monospace\"><span style=\"color: #7fbfbf; text-decoration-color: #7fbfbf\">           </span>Copied files to: ..<span style=\"color: #800080; text-decoration-color: #800080\">/reports/v009/</span><span style=\"color: #ff00ff; text-decoration-color: #ff00ff\">2024_11_21__14_49</span>                                         <a href=\"file:///home/paltenmo/projects/crossplatform/analysis_and_reporting/triage.py\" target=\"_blank\"><span style=\"color: #7f7f7f; text-decoration-color: #7f7f7f\">triage.py</span></a><span style=\"color: #7f7f7f; text-decoration-color: #7f7f7f\">:</span><a href=\"file:///home/paltenmo/projects/crossplatform/analysis_and_reporting/triage.py#140\" target=\"_blank\"><span style=\"color: #7f7f7f; text-decoration-color: #7f7f7f\">140</span></a>\n",
       "</pre>\n"
      ],
      "text/plain": [
       "\u001b[2;36m          \u001b[0m\u001b[2;36m \u001b[0mCopied files to: ..\u001b[35m/reports/v009/\u001b[0m\u001b[95m2024_11_21__14_49\u001b[0m                                         \u001b]8;id=566959;file:///home/paltenmo/projects/crossplatform/analysis_and_reporting/triage.py\u001b\\\u001b[2mtriage.py\u001b[0m\u001b]8;;\u001b\\\u001b[2m:\u001b[0m\u001b]8;id=440829;file:///home/paltenmo/projects/crossplatform/analysis_and_reporting/triage.py#140\u001b\\\u001b[2m140\u001b[0m\u001b]8;;\u001b\\\n"
      ]
     },
     "metadata": {},
     "output_type": "display_data"
    },
    {
     "data": {
      "text/html": [
       "<pre style=\"white-space:pre;overflow-x:auto;line-height:normal;font-family:Menlo,'DejaVu Sans Mono',consolas,'Courier New',monospace\"><span style=\"color: #7fbfbf; text-decoration-color: #7fbfbf\">[14:49:51] </span>Involved functions:                                                             <a href=\"file:///home/paltenmo/projects/crossplatform/analysis_and_reporting/ddmin_target_file.py\" target=\"_blank\"><span style=\"color: #7f7f7f; text-decoration-color: #7f7f7f\">ddmin_target_file.py</span></a><span style=\"color: #7f7f7f; text-decoration-color: #7f7f7f\">:</span><a href=\"file:///home/paltenmo/projects/crossplatform/analysis_and_reporting/ddmin_target_file.py#206\" target=\"_blank\"><span style=\"color: #7f7f7f; text-decoration-color: #7f7f7f\">206</span></a>\n",
       "</pre>\n"
      ],
      "text/plain": [
       "\u001b[2;36m[14:49:51]\u001b[0m\u001b[2;36m \u001b[0mInvolved functions:                                                             \u001b]8;id=234626;file:///home/paltenmo/projects/crossplatform/analysis_and_reporting/ddmin_target_file.py\u001b\\\u001b[2mddmin_target_file.py\u001b[0m\u001b]8;;\u001b\\\u001b[2m:\u001b[0m\u001b]8;id=101226;file:///home/paltenmo/projects/crossplatform/analysis_and_reporting/ddmin_target_file.py#206\u001b\\\u001b[2m206\u001b[0m\u001b]8;;\u001b\\\n"
      ]
     },
     "metadata": {},
     "output_type": "display_data"
    },
    {
     "data": {
      "text/html": [
       "<pre style=\"white-space:pre;overflow-x:auto;line-height:normal;font-family:Menlo,'DejaVu Sans Mono',consolas,'Courier New',monospace\"><span style=\"color: #7fbfbf; text-decoration-color: #7fbfbf\">           </span>  - compare_qasm_via_qcec                                                       <a href=\"file:///home/paltenmo/projects/crossplatform/analysis_and_reporting/ddmin_target_file.py\" target=\"_blank\"><span style=\"color: #7f7f7f; text-decoration-color: #7f7f7f\">ddmin_target_file.py</span></a><span style=\"color: #7f7f7f; text-decoration-color: #7f7f7f\">:</span><a href=\"file:///home/paltenmo/projects/crossplatform/analysis_and_reporting/ddmin_target_file.py#208\" target=\"_blank\"><span style=\"color: #7f7f7f; text-decoration-color: #7f7f7f\">208</span></a>\n",
       "</pre>\n"
      ],
      "text/plain": [
       "\u001b[2;36m          \u001b[0m\u001b[2;36m \u001b[0m  - compare_qasm_via_qcec                                                       \u001b]8;id=317805;file:///home/paltenmo/projects/crossplatform/analysis_and_reporting/ddmin_target_file.py\u001b\\\u001b[2mddmin_target_file.py\u001b[0m\u001b]8;;\u001b\\\u001b[2m:\u001b[0m\u001b]8;id=556817;file:///home/paltenmo/projects/crossplatform/analysis_and_reporting/ddmin_target_file.py#208\u001b\\\u001b[2m208\u001b[0m\u001b]8;;\u001b\\\n"
      ]
     },
     "metadata": {},
     "output_type": "display_data"
    },
    {
     "data": {
      "text/html": [
       "<pre style=\"white-space:pre;overflow-x:auto;line-height:normal;font-family:Menlo,'DejaVu Sans Mono',consolas,'Courier New',monospace\"><span style=\"color: #7fbfbf; text-decoration-color: #7fbfbf\">           </span>  - export_to_qasm_with_pytket                                                  <a href=\"file:///home/paltenmo/projects/crossplatform/analysis_and_reporting/ddmin_target_file.py\" target=\"_blank\"><span style=\"color: #7f7f7f; text-decoration-color: #7f7f7f\">ddmin_target_file.py</span></a><span style=\"color: #7f7f7f; text-decoration-color: #7f7f7f\">:</span><a href=\"file:///home/paltenmo/projects/crossplatform/analysis_and_reporting/ddmin_target_file.py#208\" target=\"_blank\"><span style=\"color: #7f7f7f; text-decoration-color: #7f7f7f\">208</span></a>\n",
       "</pre>\n"
      ],
      "text/plain": [
       "\u001b[2;36m          \u001b[0m\u001b[2;36m \u001b[0m  - export_to_qasm_with_pytket                                                  \u001b]8;id=139734;file:///home/paltenmo/projects/crossplatform/analysis_and_reporting/ddmin_target_file.py\u001b\\\u001b[2mddmin_target_file.py\u001b[0m\u001b]8;;\u001b\\\u001b[2m:\u001b[0m\u001b]8;id=129989;file:///home/paltenmo/projects/crossplatform/analysis_and_reporting/ddmin_target_file.py#208\u001b\\\u001b[2m208\u001b[0m\u001b]8;;\u001b\\\n"
      ]
     },
     "metadata": {},
     "output_type": "display_data"
    },
    {
     "data": {
      "text/html": [
       "<pre style=\"white-space:pre;overflow-x:auto;line-height:normal;font-family:Menlo,'DejaVu Sans Mono',consolas,'Courier New',monospace\"><span style=\"color: #7fbfbf; text-decoration-color: #7fbfbf\">           </span>  - export_to_qasm_with_qiskit                                                  <a href=\"file:///home/paltenmo/projects/crossplatform/analysis_and_reporting/ddmin_target_file.py\" target=\"_blank\"><span style=\"color: #7f7f7f; text-decoration-color: #7f7f7f\">ddmin_target_file.py</span></a><span style=\"color: #7f7f7f; text-decoration-color: #7f7f7f\">:</span><a href=\"file:///home/paltenmo/projects/crossplatform/analysis_and_reporting/ddmin_target_file.py#208\" target=\"_blank\"><span style=\"color: #7f7f7f; text-decoration-color: #7f7f7f\">208</span></a>\n",
       "</pre>\n"
      ],
      "text/plain": [
       "\u001b[2;36m          \u001b[0m\u001b[2;36m \u001b[0m  - export_to_qasm_with_qiskit                                                  \u001b]8;id=515191;file:///home/paltenmo/projects/crossplatform/analysis_and_reporting/ddmin_target_file.py\u001b\\\u001b[2mddmin_target_file.py\u001b[0m\u001b]8;;\u001b\\\u001b[2m:\u001b[0m\u001b]8;id=857541;file:///home/paltenmo/projects/crossplatform/analysis_and_reporting/ddmin_target_file.py#208\u001b\\\u001b[2m208\u001b[0m\u001b]8;;\u001b\\\n"
      ]
     },
     "metadata": {},
     "output_type": "display_data"
    },
    {
     "name": "stdout",
     "output_type": "stream",
     "text": [
      "Error parsing: Command 'python /workspace/to_execute.py' in image 'qiskit_runner' returned non-zero exit status 1: b'Traceback (most recent call last):\\n  File \"/workspace/to_execute.py\", line 105, in <module>\\n    target_qc = qc\\nNameError: name \\'qc\\' is not defined\\n'\n",
      "Failed to execute to_execute.py in Docker.\n",
      "Output: Saved the Pytket circuit to /workspace/to_execute_qc_pytket.qasm\n",
      "Saved the Qiskit circuit to /workspace/to_execute_qc_qiskit.qasm\n",
      "Exported QASM files: [('/workspace/to_execute_qc_pytket.qasm', 'export_to_qasm_with_pytket'), ('/workspace/to_execute_qc_qiskit.qasm', 'export_to_qasm_with_qiskit')]\n",
      "Log has been saved to /workspace/to_execute_cb5d12_error.json\n",
      "\n",
      "Program to_execute.py executed successfully.\n",
      "New exception message: The circuits are not equivalent: /workspace/to_execute_qc_pytket.qasm, /workspace/to_execute_qc_qiskit.qasm\n",
      "Error parsing: Command 'python /workspace/to_execute.py' in image 'qiskit_runner' returned non-zero exit status 1: b'  File \"/workspace/to_execute.py\", line 18\\n    , custom_instructions=qasm2.LEGACY_CUSTOM_INSTRUCTIONS)\\n                                                          ^\\nSyntaxError: unmatched \\')\\'\\n'\n",
      "Failed to execute to_execute.py in Docker.\n",
      "Error parsing: Command 'python /workspace/to_execute.py' in image 'qiskit_runner' returned non-zero exit status 1: b'  File \"/workspace/to_execute.py\", line 10\\n    qc = qasm2.loads(\\n                    ^\\nSyntaxError: \\'(\\' was never closed\\n'\n",
      "Failed to execute to_execute.py in Docker.\n",
      "Error parsing: Command 'python /workspace/to_execute.py' in image 'qiskit_runner' returned non-zero exit status 1: b'  File \"/workspace/to_execute.py\", line 24\\n    , custom_instructions=qasm2.LEGACY_CUSTOM_INSTRUCTIONS)\\n                                                          ^\\nSyntaxError: unmatched \\')\\'\\n'\n",
      "Failed to execute to_execute.py in Docker.\n",
      "Error parsing: Command 'python /workspace/to_execute.py' in image 'qiskit_runner' returned non-zero exit status 1: b'Traceback (most recent call last):\\n  File \"/workspace/to_execute.py\", line 10, in <module>\\n    qc = qasm2.loads(\\n  File \"/usr/local/lib/python3.10/site-packages/qiskit/qasm2/__init__.py\", line 587, in loads\\n    return _parse.from_bytecode(\\n  File \"/usr/local/lib/python3.10/site-packages/qiskit/qasm2/parse.py\", line 214, in from_bytecode\\n    for op in bc:\\nqiskit.qasm2.exceptions.QASM2ParseError: \"<input>:4,2: \\'reg_2_q\\' is not defined in this scope\"\\n'\n",
      "Failed to execute to_execute.py in Docker.\n",
      "Output: Saved the Pytket circuit to /workspace/to_execute_qc_pytket.qasm\n",
      "Saved the Qiskit circuit to /workspace/to_execute_qc_qiskit.qasm\n",
      "Exported QASM files: [('/workspace/to_execute_qc_pytket.qasm', 'export_to_qasm_with_pytket'), ('/workspace/to_execute_qc_qiskit.qasm', 'export_to_qasm_with_qiskit')]\n",
      "Log has been saved to /workspace/to_execute_f78446_error.json\n",
      "\n",
      "Program to_execute.py executed successfully.\n",
      "New exception message: The circuits are not equivalent: /workspace/to_execute_qc_pytket.qasm, /workspace/to_execute_qc_qiskit.qasm\n",
      "Error parsing: Command 'python /workspace/to_execute.py' in image 'qiskit_runner' returned non-zero exit status 1: b'  File \"/workspace/to_execute.py\", line 18\\n    , custom_instructions=qasm2.LEGACY_CUSTOM_INSTRUCTIONS)\\n                                                          ^\\nSyntaxError: unmatched \\')\\'\\n'\n",
      "Failed to execute to_execute.py in Docker.\n",
      "Error parsing: Command 'python /workspace/to_execute.py' in image 'qiskit_runner' returned non-zero exit status 1: b'Traceback (most recent call last):\\n  File \"/workspace/to_execute.py\", line 10, in <module>\\n    qc = qasm2.loads(\\n  File \"/usr/local/lib/python3.10/site-packages/qiskit/qasm2/__init__.py\", line 587, in loads\\n    return _parse.from_bytecode(\\n  File \"/usr/local/lib/python3.10/site-packages/qiskit/qasm2/parse.py\", line 214, in from_bytecode\\n    for op in bc:\\nqiskit.qasm2.exceptions.QASM2ParseError: \"<input>:4,2: \\'reg_2_q\\' is not defined in this scope\"\\n'\n",
      "Failed to execute to_execute.py in Docker.\n",
      "Error parsing: Command 'python /workspace/to_execute.py' in image 'qiskit_runner' returned non-zero exit status 1: b'  File \"/workspace/to_execute.py\", line 10\\n    qc = qasm2.loads(\\n                    ^\\nSyntaxError: \\'(\\' was never closed\\n'\n",
      "Failed to execute to_execute.py in Docker.\n",
      "Error parsing: Command 'python /workspace/to_execute.py' in image 'qiskit_runner' returned non-zero exit status 1: b'  File \"/workspace/to_execute.py\", line 20\\n    , custom_instructions=qasm2.LEGACY_CUSTOM_INSTRUCTIONS)\\n                                                          ^\\nSyntaxError: unmatched \\')\\'\\n'\n",
      "Failed to execute to_execute.py in Docker.\n",
      "Error parsing: Command 'python /workspace/to_execute.py' in image 'qiskit_runner' returned non-zero exit status 1: b'Traceback (most recent call last):\\n  File \"/workspace/to_execute.py\", line 10, in <module>\\n    qc = qasm2.loads(\\n  File \"/usr/local/lib/python3.10/site-packages/qiskit/qasm2/__init__.py\", line 587, in loads\\n    return _parse.from_bytecode(\\n  File \"/usr/local/lib/python3.10/site-packages/qiskit/qasm2/parse.py\", line 214, in from_bytecode\\n    for op in bc:\\nqiskit.qasm2.exceptions.QASM2ParseError: \"<input>:7,0: cannot use non-builtin custom instruction \\'h\\' before definition\"\\n'\n",
      "Failed to execute to_execute.py in Docker.\n",
      "Error parsing: Command 'python /workspace/to_execute.py' in image 'qiskit_runner' returned non-zero exit status 1: b'Traceback (most recent call last):\\n  File \"/workspace/to_execute.py\", line 10, in <module>\\n    qc = qasm2.loads(\\n  File \"/usr/local/lib/python3.10/site-packages/qiskit/qasm2/__init__.py\", line 587, in loads\\n    return _parse.from_bytecode(\\n  File \"/usr/local/lib/python3.10/site-packages/qiskit/qasm2/parse.py\", line 214, in from_bytecode\\n    for op in bc:\\nqiskit.qasm2.exceptions.QASM2ParseError: \"<input>:6,2: \\'reg_2_q\\' is not defined in this scope\"\\n'\n",
      "Failed to execute to_execute.py in Docker.\n",
      "Error parsing: Command 'python /workspace/to_execute.py' in image 'qiskit_runner' returned non-zero exit status 1: b'Traceback (most recent call last):\\n  File \"/workspace/to_execute.py\", line 10, in <module>\\n    qc = qasm2.loads(\\n  File \"/usr/local/lib/python3.10/site-packages/qiskit/qasm2/__init__.py\", line 587, in loads\\n    return _parse.from_bytecode(\\n  File \"/usr/local/lib/python3.10/site-packages/qiskit/qasm2/parse.py\", line 214, in from_bytecode\\n    for op in bc:\\nqiskit.qasm2.exceptions.QASM2ParseError: \"<input>:8,2: \\'reg_1_b\\' is not defined in this scope\"\\n'\n",
      "Failed to execute to_execute.py in Docker.\n",
      "Output: Saved the Pytket circuit to /workspace/to_execute_qc_pytket.qasm\n",
      "Saved the Qiskit circuit to /workspace/to_execute_qc_qiskit.qasm\n",
      "Exported QASM files: [('/workspace/to_execute_qc_pytket.qasm', 'export_to_qasm_with_pytket'), ('/workspace/to_execute_qc_qiskit.qasm', 'export_to_qasm_with_qiskit')]\n",
      "The circuits are equivalent: /workspace/to_execute_qc_pytket.qasm, /workspace/to_execute_qc_qiskit.qasm\n",
      "\n",
      "Program to_execute.py executed successfully.\n",
      "Error parsing: Command 'python /workspace/to_execute.py' in image 'qiskit_runner' returned non-zero exit status 1: b'  File \"/workspace/to_execute.py\", line 10\\n    qc = qasm2.loads(\\n                    ^\\nSyntaxError: \\'(\\' was never closed\\n'\n",
      "Failed to execute to_execute.py in Docker.\n",
      "Error parsing: Command 'python /workspace/to_execute.py' in image 'qiskit_runner' returned non-zero exit status 1: b'  File \"/workspace/to_execute.py\", line 23\\n    , custom_instructions=qasm2.LEGACY_CUSTOM_INSTRUCTIONS)\\nIndentationError: unexpected indent\\n'\n",
      "Failed to execute to_execute.py in Docker.\n",
      "Output: Saved the Pytket circuit to /workspace/to_execute_qc_pytket.qasm\n",
      "Saved the Qiskit circuit to /workspace/to_execute_qc_qiskit.qasm\n",
      "Exported QASM files: [('/workspace/to_execute_qc_pytket.qasm', 'export_to_qasm_with_pytket'), ('/workspace/to_execute_qc_qiskit.qasm', 'export_to_qasm_with_qiskit')]\n",
      "Log has been saved to /workspace/to_execute_3e34d2_error.json\n",
      "\n",
      "Program to_execute.py executed successfully.\n",
      "New exception message: The circuits are not equivalent: /workspace/to_execute_qc_pytket.qasm, /workspace/to_execute_qc_qiskit.qasm\n",
      "Error parsing: Command 'python /workspace/to_execute.py' in image 'qiskit_runner' returned non-zero exit status 1: b'  File \"/workspace/to_execute.py\", line 22\\n    , custom_instructions=qasm2.LEGACY_CUSTOM_INSTRUCTIONS)\\nIndentationError: unexpected indent\\n'\n",
      "Failed to execute to_execute.py in Docker.\n",
      "Error parsing: Command 'python /workspace/to_execute.py' in image 'qiskit_runner' returned non-zero exit status 1: b'  File \"/workspace/to_execute.py\", line 11\\n    OPENQASM 2.0;\\n    ^^^^^^^^^^^^\\nSyntaxError: invalid syntax. Perhaps you forgot a comma?\\n'\n",
      "Failed to execute to_execute.py in Docker.\n",
      "Output: Saved the Pytket circuit to /workspace/to_execute_qc_pytket.qasm\n",
      "Saved the Qiskit circuit to /workspace/to_execute_qc_qiskit.qasm\n",
      "Exported QASM files: [('/workspace/to_execute_qc_pytket.qasm', 'export_to_qasm_with_pytket'), ('/workspace/to_execute_qc_qiskit.qasm', 'export_to_qasm_with_qiskit')]\n",
      "Log has been saved to /workspace/to_execute_5f337c_error.json\n",
      "\n",
      "Program to_execute.py executed successfully.\n",
      "New exception message: The circuits are not equivalent: /workspace/to_execute_qc_pytket.qasm, /workspace/to_execute_qc_qiskit.qasm\n",
      "Error parsing: Command 'python /workspace/to_execute.py' in image 'qiskit_runner' returned non-zero exit status 1: b'  File \"/workspace/to_execute.py\", line 21\\n    , custom_instructions=qasm2.LEGACY_CUSTOM_INSTRUCTIONS)\\nIndentationError: unexpected indent\\n'\n",
      "Failed to execute to_execute.py in Docker.\n",
      "Error parsing: Command 'python /workspace/to_execute.py' in image 'qiskit_runner' returned non-zero exit status 1: b'  File \"/workspace/to_execute.py\", line 11\\n    include \"qelib1.inc\";\\n            ^^^^^^^^^^^^\\nSyntaxError: invalid syntax\\n'\n",
      "Failed to execute to_execute.py in Docker.\n",
      "Error parsing: Command 'python /workspace/to_execute.py' in image 'qiskit_runner' returned non-zero exit status 1: b'Traceback (most recent call last):\\n  File \"/workspace/to_execute.py\", line 10, in <module>\\n    qc = qasm2.loads(\\n  File \"/usr/local/lib/python3.10/site-packages/qiskit/qasm2/__init__.py\", line 587, in loads\\n    return _parse.from_bytecode(\\n  File \"/usr/local/lib/python3.10/site-packages/qiskit/qasm2/parse.py\", line 214, in from_bytecode\\n    for op in bc:\\nqiskit.qasm2.exceptions.QASM2ParseError: \"<input>:7,0: cannot use non-builtin custom instruction \\'h\\' before definition\"\\n'\n",
      "Failed to execute to_execute.py in Docker.\n",
      "Error parsing: Command 'python /workspace/to_execute.py' in image 'qiskit_runner' returned non-zero exit status 1: b'Traceback (most recent call last):\\n  File \"/workspace/to_execute.py\", line 10, in <module>\\n    qc = qasm2.loads(\\n  File \"/usr/local/lib/python3.10/site-packages/qiskit/qasm2/__init__.py\", line 587, in loads\\n    return _parse.from_bytecode(\\n  File \"/usr/local/lib/python3.10/site-packages/qiskit/qasm2/parse.py\", line 214, in from_bytecode\\n    for op in bc:\\nqiskit.qasm2.exceptions.QASM2ParseError: \"<input>:7,2: \\'reg_2_q\\' is not defined in this scope\"\\n'\n",
      "Failed to execute to_execute.py in Docker.\n",
      "Output: Saved the Pytket circuit to /workspace/to_execute_qc_pytket.qasm\n",
      "Saved the Qiskit circuit to /workspace/to_execute_qc_qiskit.qasm\n",
      "Exported QASM files: [('/workspace/to_execute_qc_pytket.qasm', 'export_to_qasm_with_pytket'), ('/workspace/to_execute_qc_qiskit.qasm', 'export_to_qasm_with_qiskit')]\n",
      "Log has been saved to /workspace/to_execute_9cb40a_error.json\n",
      "\n",
      "Program to_execute.py executed successfully.\n",
      "New exception message: The circuits are not equivalent: /workspace/to_execute_qc_pytket.qasm, /workspace/to_execute_qc_qiskit.qasm\n",
      "Error parsing: Command 'python /workspace/to_execute.py' in image 'qiskit_runner' returned non-zero exit status 1: b'  File \"/workspace/to_execute.py\", line 19\\n    , custom_instructions=qasm2.LEGACY_CUSTOM_INSTRUCTIONS)\\nIndentationError: unexpected indent\\n'\n",
      "Failed to execute to_execute.py in Docker.\n",
      "Error parsing: Command 'python /workspace/to_execute.py' in image 'qiskit_runner' returned non-zero exit status 1: b'  File \"/workspace/to_execute.py\", line 11\\n    include \"qelib1.inc\";\\n            ^^^^^^^^^^^^\\nSyntaxError: invalid syntax\\n'\n",
      "Failed to execute to_execute.py in Docker.\n",
      "Error parsing: Command 'python /workspace/to_execute.py' in image 'qiskit_runner' returned non-zero exit status 1: b'Traceback (most recent call last):\\n  File \"/workspace/to_execute.py\", line 10, in <module>\\n    qc = qasm2.loads(\\n  File \"/usr/local/lib/python3.10/site-packages/qiskit/qasm2/__init__.py\", line 587, in loads\\n    return _parse.from_bytecode(\\n  File \"/usr/local/lib/python3.10/site-packages/qiskit/qasm2/parse.py\", line 214, in from_bytecode\\n    for op in bc:\\nqiskit.qasm2.exceptions.QASM2ParseError: \"<input>:5,0: cannot use non-builtin custom instruction \\'h\\' before definition\"\\n'\n",
      "Failed to execute to_execute.py in Docker.\n",
      "Error parsing: Command 'python /workspace/to_execute.py' in image 'qiskit_runner' returned non-zero exit status 1: b'Traceback (most recent call last):\\n  File \"/workspace/to_execute.py\", line 10, in <module>\\n    qc = qasm2.loads(\\n  File \"/usr/local/lib/python3.10/site-packages/qiskit/qasm2/__init__.py\", line 587, in loads\\n    return _parse.from_bytecode(\\n  File \"/usr/local/lib/python3.10/site-packages/qiskit/qasm2/parse.py\", line 214, in from_bytecode\\n    for op in bc:\\nqiskit.qasm2.exceptions.QASM2ParseError: \"<input>:5,2: \\'reg_2_q\\' is not defined in this scope\"\\n'\n",
      "Failed to execute to_execute.py in Docker.\n",
      "Error parsing: Command 'python /workspace/to_execute.py' in image 'qiskit_runner' returned non-zero exit status 1: b'Traceback (most recent call last):\\n  File \"/workspace/to_execute.py\", line 10, in <module>\\n    qc = qasm2.loads(\\n  File \"/usr/local/lib/python3.10/site-packages/qiskit/qasm2/__init__.py\", line 587, in loads\\n    return _parse.from_bytecode(\\n  File \"/usr/local/lib/python3.10/site-packages/qiskit/qasm2/parse.py\", line 214, in from_bytecode\\n    for op in bc:\\nqiskit.qasm2.exceptions.QASM2ParseError: \"<input>:6,2: \\'reg_1_b\\' is not defined in this scope\"\\n'\n",
      "Failed to execute to_execute.py in Docker.\n",
      "Output: Saved the Pytket circuit to /workspace/to_execute_qc_pytket.qasm\n",
      "Saved the Qiskit circuit to /workspace/to_execute_qc_qiskit.qasm\n",
      "Exported QASM files: [('/workspace/to_execute_qc_pytket.qasm', 'export_to_qasm_with_pytket'), ('/workspace/to_execute_qc_qiskit.qasm', 'export_to_qasm_with_qiskit')]\n",
      "Log has been saved to /workspace/to_execute_a6c3c5_error.json\n",
      "\n",
      "Program to_execute.py executed successfully.\n",
      "New exception message: The circuits are not equivalent: /workspace/to_execute_qc_pytket.qasm, /workspace/to_execute_qc_qiskit.qasm\n",
      "Error parsing: Command 'python /workspace/to_execute.py' in image 'qiskit_runner' returned non-zero exit status 1: b'  File \"/workspace/to_execute.py\", line 17\\n    , custom_instructions=qasm2.LEGACY_CUSTOM_INSTRUCTIONS)\\nIndentationError: unexpected indent\\n'\n",
      "Failed to execute to_execute.py in Docker.\n",
      "Error parsing: Command 'python /workspace/to_execute.py' in image 'qiskit_runner' returned non-zero exit status 1: b'  File \"/workspace/to_execute.py\", line 11\\n    include \"qelib1.inc\";\\n            ^^^^^^^^^^^^\\nSyntaxError: invalid syntax\\n'\n",
      "Failed to execute to_execute.py in Docker.\n",
      "Error parsing: Command 'python /workspace/to_execute.py' in image 'qiskit_runner' returned non-zero exit status 1: b'Traceback (most recent call last):\\n  File \"/workspace/to_execute.py\", line 10, in <module>\\n    qc = qasm2.loads(\\n  File \"/usr/local/lib/python3.10/site-packages/qiskit/qasm2/__init__.py\", line 587, in loads\\n    return _parse.from_bytecode(\\n  File \"/usr/local/lib/python3.10/site-packages/qiskit/qasm2/parse.py\", line 214, in from_bytecode\\n    for op in bc:\\nqiskit.qasm2.exceptions.QASM2ParseError: \"<input>:4,0: cannot use non-builtin custom instruction \\'x\\' before definition\"\\n'\n",
      "Failed to execute to_execute.py in Docker.\n",
      "Output: Saved the Pytket circuit to /workspace/to_execute_qc_pytket.qasm\n",
      "Saved the Qiskit circuit to /workspace/to_execute_qc_qiskit.qasm\n",
      "Exported QASM files: [('/workspace/to_execute_qc_pytket.qasm', 'export_to_qasm_with_pytket'), ('/workspace/to_execute_qc_qiskit.qasm', 'export_to_qasm_with_qiskit')]\n",
      "The circuits are equivalent: /workspace/to_execute_qc_pytket.qasm, /workspace/to_execute_qc_qiskit.qasm\n",
      "\n",
      "Program to_execute.py executed successfully.\n",
      "Error parsing: Command 'python /workspace/to_execute.py' in image 'qiskit_runner' returned non-zero exit status 1: b'Traceback (most recent call last):\\n  File \"/workspace/to_execute.py\", line 10, in <module>\\n    qc = qasm2.loads(\\n  File \"/usr/local/lib/python3.10/site-packages/qiskit/qasm2/__init__.py\", line 587, in loads\\n    return _parse.from_bytecode(\\n  File \"/usr/local/lib/python3.10/site-packages/qiskit/qasm2/parse.py\", line 214, in from_bytecode\\n    for op in bc:\\nqiskit.qasm2.exceptions.QASM2ParseError: \"<input>:4,2: \\'reg_1_b\\' is not defined in this scope\"\\n'\n",
      "Failed to execute to_execute.py in Docker.\n",
      "Output: Saved the Pytket circuit to /workspace/to_execute_qc_pytket.qasm\n",
      "Saved the Qiskit circuit to /workspace/to_execute_qc_qiskit.qasm\n",
      "Exported QASM files: [('/workspace/to_execute_qc_pytket.qasm', 'export_to_qasm_with_pytket'), ('/workspace/to_execute_qc_qiskit.qasm', 'export_to_qasm_with_qiskit')]\n",
      "Log has been saved to /workspace/to_execute_44883a_error.json\n",
      "\n",
      "Program to_execute.py executed successfully.\n",
      "New exception message: The circuits are not equivalent: /workspace/to_execute_qc_pytket.qasm, /workspace/to_execute_qc_qiskit.qasm\n",
      "Error parsing: Command 'python /workspace/to_execute.py' in image 'qiskit_runner' returned non-zero exit status 1: b'  File \"/workspace/to_execute.py\", line 16\\n    , custom_instructions=qasm2.LEGACY_CUSTOM_INSTRUCTIONS)\\nIndentationError: unexpected indent\\n'\n",
      "Failed to execute to_execute.py in Docker.\n",
      "Error parsing: Command 'python /workspace/to_execute.py' in image 'qiskit_runner' returned non-zero exit status 1: b'  File \"/workspace/to_execute.py\", line 11\\n    include \"qelib1.inc\";\\n            ^^^^^^^^^^^^\\nSyntaxError: invalid syntax\\n'\n",
      "Failed to execute to_execute.py in Docker.\n",
      "Error parsing: Command 'python /workspace/to_execute.py' in image 'qiskit_runner' returned non-zero exit status 1: b'Traceback (most recent call last):\\n  File \"/workspace/to_execute.py\", line 10, in <module>\\n    qc = qasm2.loads(\\n  File \"/usr/local/lib/python3.10/site-packages/qiskit/qasm2/__init__.py\", line 587, in loads\\n    return _parse.from_bytecode(\\n  File \"/usr/local/lib/python3.10/site-packages/qiskit/qasm2/parse.py\", line 214, in from_bytecode\\n    for op in bc:\\nqiskit.qasm2.exceptions.QASM2ParseError: \"<input>:4,0: cannot use non-builtin custom instruction \\'x\\' before definition\"\\n'\n",
      "Failed to execute to_execute.py in Docker.\n",
      "Output: Saved the Pytket circuit to /workspace/to_execute_qc_pytket.qasm\n",
      "Saved the Qiskit circuit to /workspace/to_execute_qc_qiskit.qasm\n",
      "Exported QASM files: [('/workspace/to_execute_qc_pytket.qasm', 'export_to_qasm_with_pytket'), ('/workspace/to_execute_qc_qiskit.qasm', 'export_to_qasm_with_qiskit')]\n",
      "The circuits are equivalent: /workspace/to_execute_qc_pytket.qasm, /workspace/to_execute_qc_qiskit.qasm\n",
      "\n",
      "Program to_execute.py executed successfully.\n",
      "Error parsing: Command 'python /workspace/to_execute.py' in image 'qiskit_runner' returned non-zero exit status 1: b'Traceback (most recent call last):\\n  File \"/workspace/to_execute.py\", line 10, in <module>\\n    qc = qasm2.loads(\\n  File \"/usr/local/lib/python3.10/site-packages/qiskit/qasm2/__init__.py\", line 587, in loads\\n    return _parse.from_bytecode(\\n  File \"/usr/local/lib/python3.10/site-packages/qiskit/qasm2/parse.py\", line 214, in from_bytecode\\n    for op in bc:\\nqiskit.qasm2.exceptions.QASM2ParseError: \"<input>:4,2: \\'reg_1_b\\' is not defined in this scope\"\\n'\n",
      "Failed to execute to_execute.py in Docker.\n",
      "Error parsing: Command 'python /workspace/to_execute.py' in image 'qiskit_runner' returned non-zero exit status 1: b'  File \"/workspace/to_execute.py\", line 11\\n    include \"qelib1.inc\";\\n            ^^^^^^^^^^^^\\nSyntaxError: invalid syntax\\n'\n",
      "Failed to execute to_execute.py in Docker.\n",
      "Error parsing: Command 'python /workspace/to_execute.py' in image 'qiskit_runner' returned non-zero exit status 1: b'  File \"/workspace/to_execute.py\", line 10\\n    qc = qasm2.loads(\\n                    ^\\nSyntaxError: \\'(\\' was never closed\\n'\n",
      "Failed to execute to_execute.py in Docker.\n",
      "Error parsing: Command 'python /workspace/to_execute.py' in image 'qiskit_runner' returned non-zero exit status 1: b'  File \"/workspace/to_execute.py\", line 16\\n    , custom_instructions=qasm2.LEGACY_CUSTOM_INSTRUCTIONS)\\nIndentationError: unexpected indent\\n'\n",
      "Failed to execute to_execute.py in Docker.\n",
      "Error parsing: Command 'python /workspace/to_execute.py' in image 'qiskit_runner' returned non-zero exit status 1: b'  File \"/workspace/to_execute.py\", line 11\\n    include \"qelib1.inc\";\\n            ^^^^^^^^^^^^\\nSyntaxError: invalid syntax\\n'\n",
      "Failed to execute to_execute.py in Docker.\n",
      "Error parsing: Command 'python /workspace/to_execute.py' in image 'qiskit_runner' returned non-zero exit status 1: b'Traceback (most recent call last):\\n  File \"/workspace/to_execute.py\", line 10, in <module>\\n    qc = qasm2.loads(\\n  File \"/usr/local/lib/python3.10/site-packages/qiskit/qasm2/__init__.py\", line 587, in loads\\n    return _parse.from_bytecode(\\n  File \"/usr/local/lib/python3.10/site-packages/qiskit/qasm2/parse.py\", line 214, in from_bytecode\\n    for op in bc:\\nqiskit.qasm2.exceptions.QASM2ParseError: \"<input>:4,0: cannot use non-builtin custom instruction \\'x\\' before definition\"\\n'\n",
      "Failed to execute to_execute.py in Docker.\n",
      "Output: Saved the Pytket circuit to /workspace/to_execute_qc_pytket.qasm\n",
      "Saved the Qiskit circuit to /workspace/to_execute_qc_qiskit.qasm\n",
      "Exported QASM files: [('/workspace/to_execute_qc_pytket.qasm', 'export_to_qasm_with_pytket'), ('/workspace/to_execute_qc_qiskit.qasm', 'export_to_qasm_with_qiskit')]\n",
      "The circuits are equivalent: /workspace/to_execute_qc_pytket.qasm, /workspace/to_execute_qc_qiskit.qasm\n",
      "\n",
      "Program to_execute.py executed successfully.\n",
      "Error parsing: Command 'python /workspace/to_execute.py' in image 'qiskit_runner' returned non-zero exit status 1: b'Traceback (most recent call last):\\n  File \"/workspace/to_execute.py\", line 10, in <module>\\n    qc = qasm2.loads(\\n  File \"/usr/local/lib/python3.10/site-packages/qiskit/qasm2/__init__.py\", line 587, in loads\\n    return _parse.from_bytecode(\\n  File \"/usr/local/lib/python3.10/site-packages/qiskit/qasm2/parse.py\", line 214, in from_bytecode\\n    for op in bc:\\nqiskit.qasm2.exceptions.QASM2ParseError: \"<input>:4,2: \\'reg_1_b\\' is not defined in this scope\"\\n'\n",
      "Failed to execute to_execute.py in Docker.\n",
      "Output: Saved the Pytket circuit to /workspace/to_execute_qc_pytket.qasm\n",
      "Saved the Qiskit circuit to /workspace/to_execute_qc_qiskit.qasm\n",
      "Exported QASM files: [('/workspace/to_execute_qc_pytket.qasm', 'export_to_qasm_with_pytket'), ('/workspace/to_execute_qc_qiskit.qasm', 'export_to_qasm_with_qiskit')]\n",
      "The circuits are equivalent: /workspace/to_execute_qc_pytket.qasm, /workspace/to_execute_qc_qiskit.qasm\n",
      "\n",
      "Program to_execute.py executed successfully.\n",
      "Error parsing: Command 'python /workspace/to_execute.py' in image 'qiskit_runner' returned non-zero exit status 1: b'  File \"/workspace/to_execute.py\", line 11\\n    include \"qelib1.inc\";\\n            ^^^^^^^^^^^^\\nSyntaxError: invalid syntax\\n'\n",
      "Failed to execute to_execute.py in Docker.\n",
      "Error parsing: Command 'python /workspace/to_execute.py' in image 'qiskit_runner' returned non-zero exit status 1: b'  File \"/workspace/to_execute.py\", line 10\\n    qc = qasm2.loads(\\n                    ^\\nSyntaxError: \\'(\\' was never closed\\n'\n",
      "Failed to execute to_execute.py in Docker.\n"
     ]
    },
    {
     "data": {
      "text/html": [
       "<pre style=\"white-space:pre;overflow-x:auto;line-height:normal;font-family:Menlo,'DejaVu Sans Mono',consolas,'Courier New',monospace\"><span style=\"color: #7fbfbf; text-decoration-color: #7fbfbf\">[14:53:11] </span><span style=\"color: #008000; text-decoration-color: #008000\">Minimized file saved as:</span>                                                        <a href=\"file:///home/paltenmo/projects/crossplatform/analysis_and_reporting/ddmin_target_file.py\" target=\"_blank\"><span style=\"color: #7f7f7f; text-decoration-color: #7f7f7f\">ddmin_target_file.py</span></a><span style=\"color: #7f7f7f; text-decoration-color: #7f7f7f\">:</span><a href=\"file:///home/paltenmo/projects/crossplatform/analysis_and_reporting/ddmin_target_file.py#240\" target=\"_blank\"><span style=\"color: #7f7f7f; text-decoration-color: #7f7f7f\">240</span></a>\n",
       "<span style=\"color: #7fbfbf; text-decoration-color: #7fbfbf\">           </span>..<span style=\"color: #800080; text-decoration-color: #800080\">/reports/v009/2024_11_21__14_49/</span><span style=\"color: #ff00ff; text-decoration-color: #ff00ff\">qiskit_circuit_5q_10g_4342_faa083_a812bf_erro</span> <span style=\"color: #7f7f7f; text-decoration-color: #7f7f7f\">                        </span>\n",
       "<span style=\"color: #7fbfbf; text-decoration-color: #7fbfbf\">           </span><span style=\"color: #ff00ff; text-decoration-color: #ff00ff\">r_min.py</span>                                                                        <span style=\"color: #7f7f7f; text-decoration-color: #7f7f7f\">                        </span>\n",
       "</pre>\n"
      ],
      "text/plain": [
       "\u001b[2;36m[14:53:11]\u001b[0m\u001b[2;36m \u001b[0m\u001b[32mMinimized file saved as:\u001b[0m                                                        \u001b]8;id=70170;file:///home/paltenmo/projects/crossplatform/analysis_and_reporting/ddmin_target_file.py\u001b\\\u001b[2mddmin_target_file.py\u001b[0m\u001b]8;;\u001b\\\u001b[2m:\u001b[0m\u001b]8;id=745287;file:///home/paltenmo/projects/crossplatform/analysis_and_reporting/ddmin_target_file.py#240\u001b\\\u001b[2m240\u001b[0m\u001b]8;;\u001b\\\n",
       "\u001b[2;36m           \u001b[0m..\u001b[35m/reports/v009/2024_11_21__14_49/\u001b[0m\u001b[95mqiskit_circuit_5q_10g_4342_faa083_a812bf_erro\u001b[0m \u001b[2m                        \u001b[0m\n",
       "\u001b[2;36m           \u001b[0m\u001b[95mr_min.py\u001b[0m                                                                        \u001b[2m                        \u001b[0m\n"
      ]
     },
     "metadata": {},
     "output_type": "display_data"
    },
    {
     "name": "stdout",
     "output_type": "stream",
     "text": [
      "Output: Saved the Pytket circuit to /workspace/qiskit_circuit_5q_10g_4342_faa083_a812bf_error_min_qc_pytket.qasm\n",
      "Saved the Qiskit circuit to /workspace/qiskit_circuit_5q_10g_4342_faa083_a812bf_error_min_qc_qiskit.qasm\n",
      "Exported QASM files: [('/workspace/qiskit_circuit_5q_10g_4342_faa083_a812bf_error_min_qc_pytket.qasm', 'export_to_qasm_with_pytket'), ('/workspace/qiskit_circuit_5q_10g_4342_faa083_a812bf_error_min_qc_qiskit.qasm', 'export_to_qasm_with_qiskit')]\n",
      "Log has been saved to /workspace/qiskit_circuit_5q_10g_4342_faa083_a812bf_error_min_577bf2_error.json\n",
      "\n"
     ]
    },
    {
     "data": {
      "text/html": [
       "<pre style=\"white-space:pre;overflow-x:auto;line-height:normal;font-family:Menlo,'DejaVu Sans Mono',consolas,'Courier New',monospace\"><span style=\"color: #7fbfbf; text-decoration-color: #7fbfbf\">[14:53:18] </span>Program qiskit_circuit_5q_10g_4342_faa083_a812bf_error_min.py executed              <a href=\"file:///home/paltenmo/projects/crossplatform/generators/docker_tooling.py\" target=\"_blank\"><span style=\"color: #7f7f7f; text-decoration-color: #7f7f7f\">docker_tooling.py</span></a><span style=\"color: #7f7f7f; text-decoration-color: #7f7f7f\">:</span><a href=\"file:///home/paltenmo/projects/crossplatform/generators/docker_tooling.py#46\" target=\"_blank\"><span style=\"color: #7f7f7f; text-decoration-color: #7f7f7f\">46</span></a>\n",
       "<span style=\"color: #7fbfbf; text-decoration-color: #7fbfbf\">           </span>successfully.                                                                       <span style=\"color: #7f7f7f; text-decoration-color: #7f7f7f\">                    </span>\n",
       "</pre>\n"
      ],
      "text/plain": [
       "\u001b[2;36m[14:53:18]\u001b[0m\u001b[2;36m \u001b[0mProgram qiskit_circuit_5q_10g_4342_faa083_a812bf_error_min.py executed              \u001b]8;id=28932;file:///home/paltenmo/projects/crossplatform/generators/docker_tooling.py\u001b\\\u001b[2mdocker_tooling.py\u001b[0m\u001b]8;;\u001b\\\u001b[2m:\u001b[0m\u001b]8;id=575837;file:///home/paltenmo/projects/crossplatform/generators/docker_tooling.py#46\u001b\\\u001b[2m46\u001b[0m\u001b]8;;\u001b\\\n",
       "\u001b[2;36m           \u001b[0msuccessfully.                                                                       \u001b[2m                    \u001b[0m\n"
      ]
     },
     "metadata": {},
     "output_type": "display_data"
    },
    {
     "data": {
      "application/vnd.jupyter.widget-view+json": {
       "model_id": "6f23833a81b9485fa467b20c8d42d243",
       "version_major": 2,
       "version_minor": 0
      },
      "text/plain": [
       "Executing:   0%|          | 0/13 [00:00<?, ?cell/s]"
      ]
     },
     "metadata": {},
     "output_type": "display_data"
    },
    {
     "data": {
      "text/html": [
       "<pre style=\"white-space:pre;overflow-x:auto;line-height:normal;font-family:Menlo,'DejaVu Sans Mono',consolas,'Courier New',monospace\"><span style=\"color: #7fbfbf; text-decoration-color: #7fbfbf\">[14:53:21] </span>Analysis notebook executed: ..<span style=\"color: #800080; text-decoration-color: #800080\">/reports/v009/2024_11_21__14_49/</span><span style=\"color: #ff00ff; text-decoration-color: #ff00ff\">analysis_output.ipynb</span>        <a href=\"file:///home/paltenmo/projects/crossplatform/analysis_and_reporting/triage.py\" target=\"_blank\"><span style=\"color: #7f7f7f; text-decoration-color: #7f7f7f\">triage.py</span></a><span style=\"color: #7f7f7f; text-decoration-color: #7f7f7f\">:</span><a href=\"file:///home/paltenmo/projects/crossplatform/analysis_and_reporting/triage.py#163\" target=\"_blank\"><span style=\"color: #7f7f7f; text-decoration-color: #7f7f7f\">163</span></a>\n",
       "</pre>\n"
      ],
      "text/plain": [
       "\u001b[2;36m[14:53:21]\u001b[0m\u001b[2;36m \u001b[0mAnalysis notebook executed: ..\u001b[35m/reports/v009/2024_11_21__14_49/\u001b[0m\u001b[95manalysis_output.ipynb\u001b[0m        \u001b]8;id=599315;file:///home/paltenmo/projects/crossplatform/analysis_and_reporting/triage.py\u001b\\\u001b[2mtriage.py\u001b[0m\u001b]8;;\u001b\\\u001b[2m:\u001b[0m\u001b]8;id=886792;file:///home/paltenmo/projects/crossplatform/analysis_and_reporting/triage.py#163\u001b\\\u001b[2m163\u001b[0m\u001b]8;;\u001b\\\n"
      ]
     },
     "metadata": {},
     "output_type": "display_data"
    },
    {
     "data": {
      "text/html": [
       "<pre style=\"white-space:pre;overflow-x:auto;line-height:normal;font-family:Menlo,'DejaVu Sans Mono',consolas,'Courier New',monospace\"><span style=\"color: #7fbfbf; text-decoration-color: #7fbfbf\">           </span>Created report folder: ..<span style=\"color: #800080; text-decoration-color: #800080\">/reports/v009/</span><span style=\"color: #ff00ff; text-decoration-color: #ff00ff\">2024_11_21__14_53</span>                                   <a href=\"file:///home/paltenmo/projects/crossplatform/analysis_and_reporting/triage.py\" target=\"_blank\"><span style=\"color: #7f7f7f; text-decoration-color: #7f7f7f\">triage.py</span></a><span style=\"color: #7f7f7f; text-decoration-color: #7f7f7f\">:</span><a href=\"file:///home/paltenmo/projects/crossplatform/analysis_and_reporting/triage.py#131\" target=\"_blank\"><span style=\"color: #7f7f7f; text-decoration-color: #7f7f7f\">131</span></a>\n",
       "</pre>\n"
      ],
      "text/plain": [
       "\u001b[2;36m          \u001b[0m\u001b[2;36m \u001b[0mCreated report folder: ..\u001b[35m/reports/v009/\u001b[0m\u001b[95m2024_11_21__14_53\u001b[0m                                   \u001b]8;id=219138;file:///home/paltenmo/projects/crossplatform/analysis_and_reporting/triage.py\u001b\\\u001b[2mtriage.py\u001b[0m\u001b]8;;\u001b\\\u001b[2m:\u001b[0m\u001b]8;id=604296;file:///home/paltenmo/projects/crossplatform/analysis_and_reporting/triage.py#131\u001b\\\u001b[2m131\u001b[0m\u001b]8;;\u001b\\\n"
      ]
     },
     "metadata": {},
     "output_type": "display_data"
    },
    {
     "data": {
      "text/html": [
       "<pre style=\"white-space:pre;overflow-x:auto;line-height:normal;font-family:Menlo,'DejaVu Sans Mono',consolas,'Courier New',monospace\"><span style=\"color: #7fbfbf; text-decoration-color: #7fbfbf\">           </span>Copied files to: ..<span style=\"color: #800080; text-decoration-color: #800080\">/reports/v009/</span><span style=\"color: #ff00ff; text-decoration-color: #ff00ff\">2024_11_21__14_53</span>                                         <a href=\"file:///home/paltenmo/projects/crossplatform/analysis_and_reporting/triage.py\" target=\"_blank\"><span style=\"color: #7f7f7f; text-decoration-color: #7f7f7f\">triage.py</span></a><span style=\"color: #7f7f7f; text-decoration-color: #7f7f7f\">:</span><a href=\"file:///home/paltenmo/projects/crossplatform/analysis_and_reporting/triage.py#140\" target=\"_blank\"><span style=\"color: #7f7f7f; text-decoration-color: #7f7f7f\">140</span></a>\n",
       "</pre>\n"
      ],
      "text/plain": [
       "\u001b[2;36m          \u001b[0m\u001b[2;36m \u001b[0mCopied files to: ..\u001b[35m/reports/v009/\u001b[0m\u001b[95m2024_11_21__14_53\u001b[0m                                         \u001b]8;id=694511;file:///home/paltenmo/projects/crossplatform/analysis_and_reporting/triage.py\u001b\\\u001b[2mtriage.py\u001b[0m\u001b]8;;\u001b\\\u001b[2m:\u001b[0m\u001b]8;id=600508;file:///home/paltenmo/projects/crossplatform/analysis_and_reporting/triage.py#140\u001b\\\u001b[2m140\u001b[0m\u001b]8;;\u001b\\\n"
      ]
     },
     "metadata": {},
     "output_type": "display_data"
    },
    {
     "data": {
      "text/html": [
       "<pre style=\"white-space:pre;overflow-x:auto;line-height:normal;font-family:Menlo,'DejaVu Sans Mono',consolas,'Courier New',monospace\"><span style=\"color: #7fbfbf; text-decoration-color: #7fbfbf\">[14:53:21] </span>Involved functions:                                                             <a href=\"file:///home/paltenmo/projects/crossplatform/analysis_and_reporting/ddmin_target_file.py\" target=\"_blank\"><span style=\"color: #7f7f7f; text-decoration-color: #7f7f7f\">ddmin_target_file.py</span></a><span style=\"color: #7f7f7f; text-decoration-color: #7f7f7f\">:</span><a href=\"file:///home/paltenmo/projects/crossplatform/analysis_and_reporting/ddmin_target_file.py#206\" target=\"_blank\"><span style=\"color: #7f7f7f; text-decoration-color: #7f7f7f\">206</span></a>\n",
       "</pre>\n"
      ],
      "text/plain": [
       "\u001b[2;36m[14:53:21]\u001b[0m\u001b[2;36m \u001b[0mInvolved functions:                                                             \u001b]8;id=827893;file:///home/paltenmo/projects/crossplatform/analysis_and_reporting/ddmin_target_file.py\u001b\\\u001b[2mddmin_target_file.py\u001b[0m\u001b]8;;\u001b\\\u001b[2m:\u001b[0m\u001b]8;id=760556;file:///home/paltenmo/projects/crossplatform/analysis_and_reporting/ddmin_target_file.py#206\u001b\\\u001b[2m206\u001b[0m\u001b]8;;\u001b\\\n"
      ]
     },
     "metadata": {},
     "output_type": "display_data"
    },
    {
     "data": {
      "text/html": [
       "<pre style=\"white-space:pre;overflow-x:auto;line-height:normal;font-family:Menlo,'DejaVu Sans Mono',consolas,'Courier New',monospace\"><span style=\"color: #7fbfbf; text-decoration-color: #7fbfbf\">           </span>  - compare_qasm_via_qcec                                                       <a href=\"file:///home/paltenmo/projects/crossplatform/analysis_and_reporting/ddmin_target_file.py\" target=\"_blank\"><span style=\"color: #7f7f7f; text-decoration-color: #7f7f7f\">ddmin_target_file.py</span></a><span style=\"color: #7f7f7f; text-decoration-color: #7f7f7f\">:</span><a href=\"file:///home/paltenmo/projects/crossplatform/analysis_and_reporting/ddmin_target_file.py#208\" target=\"_blank\"><span style=\"color: #7f7f7f; text-decoration-color: #7f7f7f\">208</span></a>\n",
       "</pre>\n"
      ],
      "text/plain": [
       "\u001b[2;36m          \u001b[0m\u001b[2;36m \u001b[0m  - compare_qasm_via_qcec                                                       \u001b]8;id=664975;file:///home/paltenmo/projects/crossplatform/analysis_and_reporting/ddmin_target_file.py\u001b\\\u001b[2mddmin_target_file.py\u001b[0m\u001b]8;;\u001b\\\u001b[2m:\u001b[0m\u001b]8;id=821106;file:///home/paltenmo/projects/crossplatform/analysis_and_reporting/ddmin_target_file.py#208\u001b\\\u001b[2m208\u001b[0m\u001b]8;;\u001b\\\n"
      ]
     },
     "metadata": {},
     "output_type": "display_data"
    },
    {
     "data": {
      "text/html": [
       "<pre style=\"white-space:pre;overflow-x:auto;line-height:normal;font-family:Menlo,'DejaVu Sans Mono',consolas,'Courier New',monospace\"><span style=\"color: #7fbfbf; text-decoration-color: #7fbfbf\">           </span>  - export_to_qasm_with_pytket                                                  <a href=\"file:///home/paltenmo/projects/crossplatform/analysis_and_reporting/ddmin_target_file.py\" target=\"_blank\"><span style=\"color: #7f7f7f; text-decoration-color: #7f7f7f\">ddmin_target_file.py</span></a><span style=\"color: #7f7f7f; text-decoration-color: #7f7f7f\">:</span><a href=\"file:///home/paltenmo/projects/crossplatform/analysis_and_reporting/ddmin_target_file.py#208\" target=\"_blank\"><span style=\"color: #7f7f7f; text-decoration-color: #7f7f7f\">208</span></a>\n",
       "</pre>\n"
      ],
      "text/plain": [
       "\u001b[2;36m          \u001b[0m\u001b[2;36m \u001b[0m  - export_to_qasm_with_pytket                                                  \u001b]8;id=469393;file:///home/paltenmo/projects/crossplatform/analysis_and_reporting/ddmin_target_file.py\u001b\\\u001b[2mddmin_target_file.py\u001b[0m\u001b]8;;\u001b\\\u001b[2m:\u001b[0m\u001b]8;id=635034;file:///home/paltenmo/projects/crossplatform/analysis_and_reporting/ddmin_target_file.py#208\u001b\\\u001b[2m208\u001b[0m\u001b]8;;\u001b\\\n"
      ]
     },
     "metadata": {},
     "output_type": "display_data"
    },
    {
     "data": {
      "text/html": [
       "<pre style=\"white-space:pre;overflow-x:auto;line-height:normal;font-family:Menlo,'DejaVu Sans Mono',consolas,'Courier New',monospace\"><span style=\"color: #7fbfbf; text-decoration-color: #7fbfbf\">           </span>  - export_to_qasm_with_qiskit                                                  <a href=\"file:///home/paltenmo/projects/crossplatform/analysis_and_reporting/ddmin_target_file.py\" target=\"_blank\"><span style=\"color: #7f7f7f; text-decoration-color: #7f7f7f\">ddmin_target_file.py</span></a><span style=\"color: #7f7f7f; text-decoration-color: #7f7f7f\">:</span><a href=\"file:///home/paltenmo/projects/crossplatform/analysis_and_reporting/ddmin_target_file.py#208\" target=\"_blank\"><span style=\"color: #7f7f7f; text-decoration-color: #7f7f7f\">208</span></a>\n",
       "</pre>\n"
      ],
      "text/plain": [
       "\u001b[2;36m          \u001b[0m\u001b[2;36m \u001b[0m  - export_to_qasm_with_qiskit                                                  \u001b]8;id=738724;file:///home/paltenmo/projects/crossplatform/analysis_and_reporting/ddmin_target_file.py\u001b\\\u001b[2mddmin_target_file.py\u001b[0m\u001b]8;;\u001b\\\u001b[2m:\u001b[0m\u001b]8;id=822888;file:///home/paltenmo/projects/crossplatform/analysis_and_reporting/ddmin_target_file.py#208\u001b\\\u001b[2m208\u001b[0m\u001b]8;;\u001b\\\n"
      ]
     },
     "metadata": {},
     "output_type": "display_data"
    },
    {
     "name": "stdout",
     "output_type": "stream",
     "text": [
      "Error parsing: Command 'python /workspace/to_execute.py' in image 'qiskit_runner' returned non-zero exit status 1: b'Traceback (most recent call last):\\n  File \"/workspace/to_execute.py\", line 105, in <module>\\n    target_qc = qc\\nNameError: name \\'qc\\' is not defined\\n'\n",
      "Failed to execute to_execute.py in Docker.\n",
      "Output: Saved the Pytket circuit to /workspace/to_execute_qc_pytket.qasm\n",
      "Saved the Qiskit circuit to /workspace/to_execute_qc_qiskit.qasm\n",
      "Exported QASM files: [('/workspace/to_execute_qc_pytket.qasm', 'export_to_qasm_with_pytket'), ('/workspace/to_execute_qc_qiskit.qasm', 'export_to_qasm_with_qiskit')]\n",
      "Log has been saved to /workspace/to_execute_c30ec3_error.json\n",
      "\n",
      "Program to_execute.py executed successfully.\n",
      "New exception message: The circuits are not equivalent: /workspace/to_execute_qc_pytket.qasm, /workspace/to_execute_qc_qiskit.qasm\n",
      "Error parsing: Command 'python /workspace/to_execute.py' in image 'qiskit_runner' returned non-zero exit status 1: b'  File \"/workspace/to_execute.py\", line 25\\n    , custom_instructions=qasm2.LEGACY_CUSTOM_INSTRUCTIONS)\\n                                                          ^\\nSyntaxError: unmatched \\')\\'\\n'\n",
      "Failed to execute to_execute.py in Docker.\n",
      "Error parsing: Command 'python /workspace/to_execute.py' in image 'qiskit_runner' returned non-zero exit status 1: b'  File \"/workspace/to_execute.py\", line 10\\n    qc = qasm2.loads(\\n                    ^\\nSyntaxError: \\'(\\' was never closed\\n'\n",
      "Failed to execute to_execute.py in Docker.\n",
      "Error parsing: Command 'python /workspace/to_execute.py' in image 'qiskit_runner' returned non-zero exit status 1: b'  File \"/workspace/to_execute.py\", line 40\\n    , custom_instructions=qasm2.LEGACY_CUSTOM_INSTRUCTIONS)\\n                                                          ^\\nSyntaxError: unmatched \\')\\'\\n'\n",
      "Failed to execute to_execute.py in Docker.\n",
      "Output: Saved the Pytket circuit to /workspace/to_execute_qc_pytket.qasm\n",
      "Saved the Qiskit circuit to /workspace/to_execute_qc_qiskit.qasm\n",
      "Exported QASM files: [('/workspace/to_execute_qc_pytket.qasm', 'export_to_qasm_with_pytket'), ('/workspace/to_execute_qc_qiskit.qasm', 'export_to_qasm_with_qiskit')]\n",
      "Log has been saved to /workspace/to_execute_6f8501_error.json\n",
      "\n",
      "Program to_execute.py executed successfully.\n",
      "New exception message: The circuits are not equivalent: /workspace/to_execute_qc_pytket.qasm, /workspace/to_execute_qc_qiskit.qasm\n",
      "Error parsing: Command 'python /workspace/to_execute.py' in image 'qiskit_runner' returned non-zero exit status 1: b'  File \"/workspace/to_execute.py\", line 27\\n    , custom_instructions=qasm2.LEGACY_CUSTOM_INSTRUCTIONS)\\n                                                          ^\\nSyntaxError: unmatched \\')\\'\\n'\n",
      "Failed to execute to_execute.py in Docker.\n",
      "Error parsing: Command 'python /workspace/to_execute.py' in image 'qiskit_runner' returned non-zero exit status 1: b'Traceback (most recent call last):\\n  File \"/workspace/to_execute.py\", line 10, in <module>\\n    qc = qasm2.loads(\\n  File \"/usr/local/lib/python3.10/site-packages/qiskit/qasm2/__init__.py\", line 587, in loads\\n    return _parse.from_bytecode(\\n  File \"/usr/local/lib/python3.10/site-packages/qiskit/qasm2/parse.py\", line 214, in from_bytecode\\n    for op in bc:\\nqiskit.qasm2.exceptions.QASM2ParseError: \"<input>:11,22: \\'reg_2_c\\' is not defined in this scope\"\\n'\n",
      "Failed to execute to_execute.py in Docker.\n",
      "Error parsing: Command 'python /workspace/to_execute.py' in image 'qiskit_runner' returned non-zero exit status 1: b'  File \"/workspace/to_execute.py\", line 10\\n    qc = qasm2.loads(\\n                    ^\\nSyntaxError: \\'(\\' was never closed\\n'\n",
      "Failed to execute to_execute.py in Docker.\n",
      "Error parsing: Command 'python /workspace/to_execute.py' in image 'qiskit_runner' returned non-zero exit status 1: b'  File \"/workspace/to_execute.py\", line 31\\n    , custom_instructions=qasm2.LEGACY_CUSTOM_INSTRUCTIONS)\\n                                                          ^\\nSyntaxError: unmatched \\')\\'\\n'\n",
      "Failed to execute to_execute.py in Docker.\n",
      "Error parsing: Command 'python /workspace/to_execute.py' in image 'qiskit_runner' returned non-zero exit status 1: b'Traceback (most recent call last):\\n  File \"/workspace/to_execute.py\", line 10, in <module>\\n    qc = qasm2.loads(\\n  File \"/usr/local/lib/python3.10/site-packages/qiskit/qasm2/__init__.py\", line 587, in loads\\n    return _parse.from_bytecode(\\n  File \"/usr/local/lib/python3.10/site-packages/qiskit/qasm2/parse.py\", line 214, in from_bytecode\\n    for op in bc:\\nqiskit.qasm2.exceptions.QASM2ParseError: \"<input>:4,2: \\'reg_2_q\\' is not defined in this scope\"\\n'\n",
      "Failed to execute to_execute.py in Docker.\n",
      "Output: Saved the Pytket circuit to /workspace/to_execute_qc_pytket.qasm\n",
      "Saved the Qiskit circuit to /workspace/to_execute_qc_qiskit.qasm\n",
      "Exported QASM files: [('/workspace/to_execute_qc_pytket.qasm', 'export_to_qasm_with_pytket'), ('/workspace/to_execute_qc_qiskit.qasm', 'export_to_qasm_with_qiskit')]\n",
      "Log has been saved to /workspace/to_execute_742b9d_error.json\n",
      "\n",
      "Program to_execute.py executed successfully.\n",
      "New exception message: The circuits are not equivalent: /workspace/to_execute_qc_pytket.qasm, /workspace/to_execute_qc_qiskit.qasm\n",
      "Error parsing: Command 'python /workspace/to_execute.py' in image 'qiskit_runner' returned non-zero exit status 1: b'  File \"/workspace/to_execute.py\", line 24\\n    , custom_instructions=qasm2.LEGACY_CUSTOM_INSTRUCTIONS)\\n                                                          ^\\nSyntaxError: unmatched \\')\\'\\n'\n",
      "Failed to execute to_execute.py in Docker.\n",
      "Error parsing: Command 'python /workspace/to_execute.py' in image 'qiskit_runner' returned non-zero exit status 1: b'Traceback (most recent call last):\\n  File \"/workspace/to_execute.py\", line 10, in <module>\\n    qc = qasm2.loads(\\n  File \"/usr/local/lib/python3.10/site-packages/qiskit/qasm2/__init__.py\", line 587, in loads\\n    return _parse.from_bytecode(\\n  File \"/usr/local/lib/python3.10/site-packages/qiskit/qasm2/parse.py\", line 214, in from_bytecode\\n    for op in bc:\\nqiskit.qasm2.exceptions.QASM2ParseError: \"<input>:5,9: \\'reg_2_q\\' is not defined in this scope\"\\n'\n",
      "Failed to execute to_execute.py in Docker.\n",
      "Error parsing: Command 'python /workspace/to_execute.py' in image 'qiskit_runner' returned non-zero exit status 1: b'Traceback (most recent call last):\\n  File \"/workspace/to_execute.py\", line 10, in <module>\\n    qc = qasm2.loads(\\n  File \"/usr/local/lib/python3.10/site-packages/qiskit/qasm2/__init__.py\", line 587, in loads\\n    return _parse.from_bytecode(\\n  File \"/usr/local/lib/python3.10/site-packages/qiskit/qasm2/parse.py\", line 214, in from_bytecode\\n    for op in bc:\\nqiskit.qasm2.exceptions.QASM2ParseError: \"<input>:7,3: \\'reg_1_b\\' is not defined in this scope\"\\n'\n",
      "Failed to execute to_execute.py in Docker.\n",
      "Output: Saved the Pytket circuit to /workspace/to_execute_qc_pytket.qasm\n",
      "Saved the Qiskit circuit to /workspace/to_execute_qc_qiskit.qasm\n",
      "Exported QASM files: [('/workspace/to_execute_qc_pytket.qasm', 'export_to_qasm_with_pytket'), ('/workspace/to_execute_qc_qiskit.qasm', 'export_to_qasm_with_qiskit')]\n",
      "Log has been saved to /workspace/to_execute_d86d60_error.json\n",
      "\n",
      "Program to_execute.py executed successfully.\n",
      "New exception message: The circuits are not equivalent: /workspace/to_execute_qc_pytket.qasm, /workspace/to_execute_qc_qiskit.qasm\n",
      "Error parsing: Command 'python /workspace/to_execute.py' in image 'qiskit_runner' returned non-zero exit status 1: b'  File \"/workspace/to_execute.py\", line 20\\n    , custom_instructions=qasm2.LEGACY_CUSTOM_INSTRUCTIONS)\\n                                                          ^\\nSyntaxError: unmatched \\')\\'\\n'\n",
      "Failed to execute to_execute.py in Docker.\n",
      "Error parsing: Command 'python /workspace/to_execute.py' in image 'qiskit_runner' returned non-zero exit status 1: b'Traceback (most recent call last):\\n  File \"/workspace/to_execute.py\", line 10, in <module>\\n    qc = qasm2.loads(\\n  File \"/usr/local/lib/python3.10/site-packages/qiskit/qasm2/__init__.py\", line 587, in loads\\n    return _parse.from_bytecode(\\n  File \"/usr/local/lib/python3.10/site-packages/qiskit/qasm2/parse.py\", line 214, in from_bytecode\\n    for op in bc:\\nqiskit.qasm2.exceptions.QASM2ParseError: \"<input>:5,9: \\'reg_2_q\\' is not defined in this scope\"\\n'\n",
      "Failed to execute to_execute.py in Docker.\n",
      "Error parsing: Command 'python /workspace/to_execute.py' in image 'qiskit_runner' returned non-zero exit status 1: b'Traceback (most recent call last):\\n  File \"/workspace/to_execute.py\", line 10, in <module>\\n    qc = qasm2.loads(\\n  File \"/usr/local/lib/python3.10/site-packages/qiskit/qasm2/__init__.py\", line 587, in loads\\n    return _parse.from_bytecode(\\n  File \"/usr/local/lib/python3.10/site-packages/qiskit/qasm2/parse.py\", line 214, in from_bytecode\\n    for op in bc:\\nqiskit.qasm2.exceptions.QASM2ParseError: \"<input>:7,8: \\'reg_1_b\\' is not defined in this scope\"\\n'\n",
      "Failed to execute to_execute.py in Docker.\n",
      "Error parsing: Command 'python /workspace/to_execute.py' in image 'qiskit_runner' returned non-zero exit status 1: b'  File \"/workspace/to_execute.py\", line 10\\n    qc = qasm2.loads(\\n                    ^\\nSyntaxError: \\'(\\' was never closed\\n'\n",
      "Failed to execute to_execute.py in Docker.\n",
      "Error parsing: Command 'python /workspace/to_execute.py' in image 'qiskit_runner' returned non-zero exit status 1: b'  File \"/workspace/to_execute.py\", line 23\\n    , custom_instructions=qasm2.LEGACY_CUSTOM_INSTRUCTIONS)\\nIndentationError: unexpected indent\\n'\n",
      "Failed to execute to_execute.py in Docker.\n",
      "Error parsing: Command 'python /workspace/to_execute.py' in image 'qiskit_runner' returned non-zero exit status 1: b'  File \"/workspace/to_execute.py\", line 12\\n    include \"qelib1.inc\";\\n            ^^^^^^^^^^^^\\nSyntaxError: invalid syntax\\n'\n",
      "Failed to execute to_execute.py in Docker.\n",
      "Error parsing: Command 'python /workspace/to_execute.py' in image 'qiskit_runner' returned non-zero exit status 1: b'Traceback (most recent call last):\\n  File \"/workspace/to_execute.py\", line 10, in <module>\\n    qc = qasm2.loads(\\n  File \"/usr/local/lib/python3.10/site-packages/qiskit/qasm2/__init__.py\", line 587, in loads\\n    return _parse.from_bytecode(\\n  File \"/usr/local/lib/python3.10/site-packages/qiskit/qasm2/parse.py\", line 214, in from_bytecode\\n    for op in bc:\\nqiskit.qasm2.exceptions.QASM2ParseError: \"<input>:7,9: \\'reg_2_q\\' is not defined in this scope\"\\n'\n",
      "Failed to execute to_execute.py in Docker.\n",
      "Output: Saved the Pytket circuit to /workspace/to_execute_qc_pytket.qasm\n",
      "Saved the Qiskit circuit to /workspace/to_execute_qc_qiskit.qasm\n",
      "Exported QASM files: [('/workspace/to_execute_qc_pytket.qasm', 'export_to_qasm_with_pytket'), ('/workspace/to_execute_qc_qiskit.qasm', 'export_to_qasm_with_qiskit')]\n",
      "Log has been saved to /workspace/to_execute_28a6cf_error.json\n",
      "\n",
      "Program to_execute.py executed successfully.\n",
      "New exception message: The circuits are not equivalent: /workspace/to_execute_qc_pytket.qasm, /workspace/to_execute_qc_qiskit.qasm\n",
      "Error parsing: Command 'python /workspace/to_execute.py' in image 'qiskit_runner' returned non-zero exit status 1: b'  File \"/workspace/to_execute.py\", line 21\\n    , custom_instructions=qasm2.LEGACY_CUSTOM_INSTRUCTIONS)\\nIndentationError: unexpected indent\\n'\n",
      "Failed to execute to_execute.py in Docker.\n",
      "Error parsing: Command 'python /workspace/to_execute.py' in image 'qiskit_runner' returned non-zero exit status 1: b'  File \"/workspace/to_execute.py\", line 12\\n    include \"qelib1.inc\";\\n            ^^^^^^^^^^^^\\nSyntaxError: invalid syntax\\n'\n",
      "Failed to execute to_execute.py in Docker.\n",
      "Error parsing: Command 'python /workspace/to_execute.py' in image 'qiskit_runner' returned non-zero exit status 1: b'Traceback (most recent call last):\\n  File \"/workspace/to_execute.py\", line 10, in <module>\\n    qc = qasm2.loads(\\n  File \"/usr/local/lib/python3.10/site-packages/qiskit/qasm2/__init__.py\", line 587, in loads\\n    return _parse.from_bytecode(\\n  File \"/usr/local/lib/python3.10/site-packages/qiskit/qasm2/parse.py\", line 214, in from_bytecode\\n    for op in bc:\\nqiskit.qasm2.exceptions.QASM2ParseError: \"<input>:5,9: \\'reg_2_q\\' is not defined in this scope\"\\n'\n",
      "Failed to execute to_execute.py in Docker.\n",
      "Error parsing: Command 'python /workspace/to_execute.py' in image 'qiskit_runner' returned non-zero exit status 1: b'Traceback (most recent call last):\\n  File \"/workspace/to_execute.py\", line 10, in <module>\\n    qc = qasm2.loads(\\n  File \"/usr/local/lib/python3.10/site-packages/qiskit/qasm2/__init__.py\", line 587, in loads\\n    return _parse.from_bytecode(\\n  File \"/usr/local/lib/python3.10/site-packages/qiskit/qasm2/parse.py\", line 214, in from_bytecode\\n    for op in bc:\\nqiskit.qasm2.exceptions.QASM2ParseError: \"<input>:7,8: \\'reg_1_b\\' is not defined in this scope\"\\n'\n",
      "Failed to execute to_execute.py in Docker.\n",
      "Output: Saved the Pytket circuit to /workspace/to_execute_qc_pytket.qasm\n",
      "Saved the Qiskit circuit to /workspace/to_execute_qc_qiskit.qasm\n",
      "Exported QASM files: [('/workspace/to_execute_qc_pytket.qasm', 'export_to_qasm_with_pytket'), ('/workspace/to_execute_qc_qiskit.qasm', 'export_to_qasm_with_qiskit')]\n",
      "The circuits are equivalent: /workspace/to_execute_qc_pytket.qasm, /workspace/to_execute_qc_qiskit.qasm\n",
      "\n",
      "Program to_execute.py executed successfully.\n",
      "Output: Saved the Pytket circuit to /workspace/to_execute_qc_pytket.qasm\n",
      "Saved the Qiskit circuit to /workspace/to_execute_qc_qiskit.qasm\n",
      "Exported QASM files: [('/workspace/to_execute_qc_pytket.qasm', 'export_to_qasm_with_pytket'), ('/workspace/to_execute_qc_qiskit.qasm', 'export_to_qasm_with_qiskit')]\n",
      "Log has been saved to /workspace/to_execute_741113_error.json\n",
      "\n",
      "Program to_execute.py executed successfully.\n",
      "New exception message: The circuits are not equivalent: /workspace/to_execute_qc_pytket.qasm, /workspace/to_execute_qc_qiskit.qasm\n",
      "Error parsing: Command 'python /workspace/to_execute.py' in image 'qiskit_runner' returned non-zero exit status 1: b'  File \"/workspace/to_execute.py\", line 19\\n    , custom_instructions=qasm2.LEGACY_CUSTOM_INSTRUCTIONS)\\nIndentationError: unexpected indent\\n'\n",
      "Failed to execute to_execute.py in Docker.\n",
      "Error parsing: Command 'python /workspace/to_execute.py' in image 'qiskit_runner' returned non-zero exit status 1: b'  File \"/workspace/to_execute.py\", line 12\\n    include \"qelib1.inc\";\\n            ^^^^^^^^^^^^\\nSyntaxError: invalid syntax\\n'\n",
      "Failed to execute to_execute.py in Docker.\n",
      "Error parsing: Command 'python /workspace/to_execute.py' in image 'qiskit_runner' returned non-zero exit status 1: b'Traceback (most recent call last):\\n  File \"/workspace/to_execute.py\", line 10, in <module>\\n    qc = qasm2.loads(\\n  File \"/usr/local/lib/python3.10/site-packages/qiskit/qasm2/__init__.py\", line 587, in loads\\n    return _parse.from_bytecode(\\n  File \"/usr/local/lib/python3.10/site-packages/qiskit/qasm2/parse.py\", line 214, in from_bytecode\\n    for op in bc:\\nqiskit.qasm2.exceptions.QASM2ParseError: \"<input>:5,9: \\'reg_2_q\\' is not defined in this scope\"\\n'\n",
      "Failed to execute to_execute.py in Docker.\n",
      "Output: Saved the Pytket circuit to /workspace/to_execute_qc_pytket.qasm\n",
      "Saved the Qiskit circuit to /workspace/to_execute_qc_qiskit.qasm\n",
      "Exported QASM files: [('/workspace/to_execute_qc_pytket.qasm', 'export_to_qasm_with_pytket'), ('/workspace/to_execute_qc_qiskit.qasm', 'export_to_qasm_with_qiskit')]\n",
      "The circuits are equivalent: /workspace/to_execute_qc_pytket.qasm, /workspace/to_execute_qc_qiskit.qasm\n",
      "\n",
      "Program to_execute.py executed successfully.\n",
      "Output: Saved the Pytket circuit to /workspace/to_execute_qc_pytket.qasm\n",
      "Saved the Qiskit circuit to /workspace/to_execute_qc_qiskit.qasm\n",
      "Exported QASM files: [('/workspace/to_execute_qc_pytket.qasm', 'export_to_qasm_with_pytket'), ('/workspace/to_execute_qc_qiskit.qasm', 'export_to_qasm_with_qiskit')]\n",
      "The circuits are equivalent: /workspace/to_execute_qc_pytket.qasm, /workspace/to_execute_qc_qiskit.qasm\n",
      "\n",
      "Program to_execute.py executed successfully.\n",
      "Error parsing: Command 'python /workspace/to_execute.py' in image 'qiskit_runner' returned non-zero exit status 1: b'  File \"/workspace/to_execute.py\", line 10\\n    qc = qasm2.loads(\\n                    ^\\nSyntaxError: \\'(\\' was never closed\\n'\n",
      "Failed to execute to_execute.py in Docker.\n",
      "Error parsing: Command 'python /workspace/to_execute.py' in image 'qiskit_runner' returned non-zero exit status 1: b'  File \"/workspace/to_execute.py\", line 20\\n    , custom_instructions=qasm2.LEGACY_CUSTOM_INSTRUCTIONS)\\nIndentationError: unexpected indent\\n'\n",
      "Failed to execute to_execute.py in Docker.\n",
      "Output: Saved the Pytket circuit to /workspace/to_execute_qc_pytket.qasm\n",
      "Saved the Qiskit circuit to /workspace/to_execute_qc_qiskit.qasm\n",
      "Exported QASM files: [('/workspace/to_execute_qc_pytket.qasm', 'export_to_qasm_with_pytket'), ('/workspace/to_execute_qc_qiskit.qasm', 'export_to_qasm_with_qiskit')]\n",
      "Log has been saved to /workspace/to_execute_414065_error.json\n",
      "\n",
      "Program to_execute.py executed successfully.\n",
      "New exception message: The circuits are not equivalent: /workspace/to_execute_qc_pytket.qasm, /workspace/to_execute_qc_qiskit.qasm\n",
      "Error parsing: Command 'python /workspace/to_execute.py' in image 'qiskit_runner' returned non-zero exit status 1: b'  File \"/workspace/to_execute.py\", line 19\\n    , custom_instructions=qasm2.LEGACY_CUSTOM_INSTRUCTIONS)\\nIndentationError: unexpected indent\\n'\n",
      "Failed to execute to_execute.py in Docker.\n",
      "Error parsing: Command 'python /workspace/to_execute.py' in image 'qiskit_runner' returned non-zero exit status 1: b'  File \"/workspace/to_execute.py\", line 11\\n    OPENQASM 2.0;\\n    ^^^^^^^^^^^^\\nSyntaxError: invalid syntax. Perhaps you forgot a comma?\\n'\n",
      "Failed to execute to_execute.py in Docker.\n",
      "Output: Saved the Pytket circuit to /workspace/to_execute_qc_pytket.qasm\n",
      "Saved the Qiskit circuit to /workspace/to_execute_qc_qiskit.qasm\n",
      "Exported QASM files: [('/workspace/to_execute_qc_pytket.qasm', 'export_to_qasm_with_pytket'), ('/workspace/to_execute_qc_qiskit.qasm', 'export_to_qasm_with_qiskit')]\n",
      "Log has been saved to /workspace/to_execute_4fec38_error.json\n",
      "\n",
      "Program to_execute.py executed successfully.\n",
      "New exception message: The circuits are not equivalent: /workspace/to_execute_qc_pytket.qasm, /workspace/to_execute_qc_qiskit.qasm\n",
      "Error parsing: Command 'python /workspace/to_execute.py' in image 'qiskit_runner' returned non-zero exit status 1: b'  File \"/workspace/to_execute.py\", line 18\\n    , custom_instructions=qasm2.LEGACY_CUSTOM_INSTRUCTIONS)\\nIndentationError: unexpected indent\\n'\n",
      "Failed to execute to_execute.py in Docker.\n",
      "Error parsing: Command 'python /workspace/to_execute.py' in image 'qiskit_runner' returned non-zero exit status 1: b'  File \"/workspace/to_execute.py\", line 11\\n    include \"qelib1.inc\";\\n            ^^^^^^^^^^^^\\nSyntaxError: invalid syntax\\n'\n",
      "Failed to execute to_execute.py in Docker.\n",
      "Output: Saved the Pytket circuit to /workspace/to_execute_qc_pytket.qasm\n",
      "Saved the Qiskit circuit to /workspace/to_execute_qc_qiskit.qasm\n",
      "Exported QASM files: [('/workspace/to_execute_qc_pytket.qasm', 'export_to_qasm_with_pytket'), ('/workspace/to_execute_qc_qiskit.qasm', 'export_to_qasm_with_qiskit')]\n",
      "Log has been saved to /workspace/to_execute_4b3e3e_error.json\n",
      "\n",
      "Program to_execute.py executed successfully.\n",
      "New exception message: The circuits are not equivalent: /workspace/to_execute_qc_pytket.qasm, /workspace/to_execute_qc_qiskit.qasm\n",
      "Error parsing: Command 'python /workspace/to_execute.py' in image 'qiskit_runner' returned non-zero exit status 1: b'  File \"/workspace/to_execute.py\", line 17\\n    , custom_instructions=qasm2.LEGACY_CUSTOM_INSTRUCTIONS)\\nIndentationError: unexpected indent\\n'\n",
      "Failed to execute to_execute.py in Docker.\n",
      "Error parsing: Command 'python /workspace/to_execute.py' in image 'qiskit_runner' returned non-zero exit status 1: b'  File \"/workspace/to_execute.py\", line 11\\n    qreg reg_2_q[5];\\n    ^^^^^^^^^^^^^^^\\nSyntaxError: invalid syntax. Perhaps you forgot a comma?\\n'\n",
      "Failed to execute to_execute.py in Docker.\n",
      "Error parsing: Command 'python /workspace/to_execute.py' in image 'qiskit_runner' returned non-zero exit status 1: b'Traceback (most recent call last):\\n  File \"/workspace/to_execute.py\", line 10, in <module>\\n    qc = qasm2.loads(\\n  File \"/usr/local/lib/python3.10/site-packages/qiskit/qasm2/__init__.py\", line 587, in loads\\n    return _parse.from_bytecode(\\n  File \"/usr/local/lib/python3.10/site-packages/qiskit/qasm2/parse.py\", line 214, in from_bytecode\\n    for op in bc:\\nqiskit.qasm2.exceptions.QASM2ParseError: \"<input>:4,9: \\'reg_2_q\\' is not defined in this scope\"\\n'\n",
      "Failed to execute to_execute.py in Docker.\n",
      "Output: Saved the Pytket circuit to /workspace/to_execute_qc_pytket.qasm\n",
      "Saved the Qiskit circuit to /workspace/to_execute_qc_qiskit.qasm\n",
      "Exported QASM files: [('/workspace/to_execute_qc_pytket.qasm', 'export_to_qasm_with_pytket'), ('/workspace/to_execute_qc_qiskit.qasm', 'export_to_qasm_with_qiskit')]\n",
      "The circuits are equivalent: /workspace/to_execute_qc_pytket.qasm, /workspace/to_execute_qc_qiskit.qasm\n",
      "\n",
      "Program to_execute.py executed successfully.\n",
      "Output: Saved the Pytket circuit to /workspace/to_execute_qc_pytket.qasm\n",
      "Saved the Qiskit circuit to /workspace/to_execute_qc_qiskit.qasm\n",
      "Exported QASM files: [('/workspace/to_execute_qc_pytket.qasm', 'export_to_qasm_with_pytket'), ('/workspace/to_execute_qc_qiskit.qasm', 'export_to_qasm_with_qiskit')]\n",
      "Log has been saved to /workspace/to_execute_29930b_error.json\n",
      "\n",
      "Program to_execute.py executed successfully.\n",
      "New exception message: The circuits are not equivalent: /workspace/to_execute_qc_pytket.qasm, /workspace/to_execute_qc_qiskit.qasm\n",
      "Error parsing: Command 'python /workspace/to_execute.py' in image 'qiskit_runner' returned non-zero exit status 1: b'  File \"/workspace/to_execute.py\", line 16\\n    , custom_instructions=qasm2.LEGACY_CUSTOM_INSTRUCTIONS)\\nIndentationError: unexpected indent\\n'\n",
      "Failed to execute to_execute.py in Docker.\n",
      "Error parsing: Command 'python /workspace/to_execute.py' in image 'qiskit_runner' returned non-zero exit status 1: b'  File \"/workspace/to_execute.py\", line 11\\n    qreg reg_2_q[5];\\n    ^^^^^^^^^^^^^^^\\nSyntaxError: invalid syntax. Perhaps you forgot a comma?\\n'\n",
      "Failed to execute to_execute.py in Docker.\n",
      "Error parsing: Command 'python /workspace/to_execute.py' in image 'qiskit_runner' returned non-zero exit status 1: b'Traceback (most recent call last):\\n  File \"/workspace/to_execute.py\", line 10, in <module>\\n    qc = qasm2.loads(\\n  File \"/usr/local/lib/python3.10/site-packages/qiskit/qasm2/__init__.py\", line 587, in loads\\n    return _parse.from_bytecode(\\n  File \"/usr/local/lib/python3.10/site-packages/qiskit/qasm2/parse.py\", line 214, in from_bytecode\\n    for op in bc:\\nqiskit.qasm2.exceptions.QASM2ParseError: \"<input>:3,9: \\'reg_2_q\\' is not defined in this scope\"\\n'\n",
      "Failed to execute to_execute.py in Docker.\n",
      "Output: Saved the Pytket circuit to /workspace/to_execute_qc_pytket.qasm\n",
      "Saved the Qiskit circuit to /workspace/to_execute_qc_qiskit.qasm\n",
      "Exported QASM files: [('/workspace/to_execute_qc_pytket.qasm', 'export_to_qasm_with_pytket'), ('/workspace/to_execute_qc_qiskit.qasm', 'export_to_qasm_with_qiskit')]\n",
      "The circuits are equivalent: /workspace/to_execute_qc_pytket.qasm, /workspace/to_execute_qc_qiskit.qasm\n",
      "\n",
      "Program to_execute.py executed successfully.\n",
      "Output: Saved the Pytket circuit to /workspace/to_execute_qc_pytket.qasm\n",
      "Saved the Qiskit circuit to /workspace/to_execute_qc_qiskit.qasm\n",
      "Exported QASM files: [('/workspace/to_execute_qc_pytket.qasm', 'export_to_qasm_with_pytket'), ('/workspace/to_execute_qc_qiskit.qasm', 'export_to_qasm_with_qiskit')]\n",
      "Log has been saved to /workspace/to_execute_0cfdf1_error.json\n",
      "\n",
      "Program to_execute.py executed successfully.\n",
      "New exception message: The circuits are not equivalent: /workspace/to_execute_qc_pytket.qasm, /workspace/to_execute_qc_qiskit.qasm\n",
      "Error parsing: Command 'python /workspace/to_execute.py' in image 'qiskit_runner' returned non-zero exit status 1: b'  File \"/workspace/to_execute.py\", line 15\\n    , custom_instructions=qasm2.LEGACY_CUSTOM_INSTRUCTIONS)\\nIndentationError: unexpected indent\\n'\n",
      "Failed to execute to_execute.py in Docker.\n",
      "Error parsing: Command 'python /workspace/to_execute.py' in image 'qiskit_runner' returned non-zero exit status 1: b'  File \"/workspace/to_execute.py\", line 11\\n    qreg reg_2_q[5];\\n    ^^^^^^^^^^^^^^^\\nSyntaxError: invalid syntax. Perhaps you forgot a comma?\\n'\n",
      "Failed to execute to_execute.py in Docker.\n",
      "Error parsing: Command 'python /workspace/to_execute.py' in image 'qiskit_runner' returned non-zero exit status 1: b'Traceback (most recent call last):\\n  File \"/workspace/to_execute.py\", line 10, in <module>\\n    qc = qasm2.loads(\\n  File \"/usr/local/lib/python3.10/site-packages/qiskit/qasm2/__init__.py\", line 587, in loads\\n    return _parse.from_bytecode(\\n  File \"/usr/local/lib/python3.10/site-packages/qiskit/qasm2/parse.py\", line 214, in from_bytecode\\n    for op in bc:\\nqiskit.qasm2.exceptions.QASM2ParseError: \"<input>:3,9: \\'reg_2_q\\' is not defined in this scope\"\\n'\n",
      "Failed to execute to_execute.py in Docker.\n",
      "Output: Saved the Pytket circuit to /workspace/to_execute_qc_pytket.qasm\n",
      "Saved the Qiskit circuit to /workspace/to_execute_qc_qiskit.qasm\n",
      "Exported QASM files: [('/workspace/to_execute_qc_pytket.qasm', 'export_to_qasm_with_pytket'), ('/workspace/to_execute_qc_qiskit.qasm', 'export_to_qasm_with_qiskit')]\n",
      "The circuits are equivalent: /workspace/to_execute_qc_pytket.qasm, /workspace/to_execute_qc_qiskit.qasm\n",
      "\n",
      "Program to_execute.py executed successfully.\n",
      "Output: Saved the Pytket circuit to /workspace/to_execute_qc_pytket.qasm\n",
      "Saved the Qiskit circuit to /workspace/to_execute_qc_qiskit.qasm\n",
      "Exported QASM files: [('/workspace/to_execute_qc_pytket.qasm', 'export_to_qasm_with_pytket'), ('/workspace/to_execute_qc_qiskit.qasm', 'export_to_qasm_with_qiskit')]\n",
      "The circuits are equivalent: /workspace/to_execute_qc_pytket.qasm, /workspace/to_execute_qc_qiskit.qasm\n",
      "\n",
      "Program to_execute.py executed successfully.\n",
      "Error parsing: Command 'python /workspace/to_execute.py' in image 'qiskit_runner' returned non-zero exit status 1: b'  File \"/workspace/to_execute.py\", line 11\\n    qreg reg_2_q[5];\\n    ^^^^^^^^^^^^^^^\\nSyntaxError: invalid syntax. Perhaps you forgot a comma?\\n'\n",
      "Failed to execute to_execute.py in Docker.\n",
      "Error parsing: Command 'python /workspace/to_execute.py' in image 'qiskit_runner' returned non-zero exit status 1: b'  File \"/workspace/to_execute.py\", line 10\\n    qc = qasm2.loads(\\n                    ^\\nSyntaxError: \\'(\\' was never closed\\n'\n",
      "Failed to execute to_execute.py in Docker.\n"
     ]
    },
    {
     "data": {
      "text/html": [
       "<pre style=\"white-space:pre;overflow-x:auto;line-height:normal;font-family:Menlo,'DejaVu Sans Mono',consolas,'Courier New',monospace\"><span style=\"color: #7fbfbf; text-decoration-color: #7fbfbf\">[14:57:17] </span><span style=\"color: #008000; text-decoration-color: #008000\">Minimized file saved as:</span>                                                        <a href=\"file:///home/paltenmo/projects/crossplatform/analysis_and_reporting/ddmin_target_file.py\" target=\"_blank\"><span style=\"color: #7f7f7f; text-decoration-color: #7f7f7f\">ddmin_target_file.py</span></a><span style=\"color: #7f7f7f; text-decoration-color: #7f7f7f\">:</span><a href=\"file:///home/paltenmo/projects/crossplatform/analysis_and_reporting/ddmin_target_file.py#240\" target=\"_blank\"><span style=\"color: #7f7f7f; text-decoration-color: #7f7f7f\">240</span></a>\n",
       "<span style=\"color: #7fbfbf; text-decoration-color: #7fbfbf\">           </span>..<span style=\"color: #800080; text-decoration-color: #800080\">/reports/v009/2024_11_21__14_53/</span><span style=\"color: #ff00ff; text-decoration-color: #ff00ff\">qiskit_circuit_5q_10g_6316_146402_6a36f0_erro</span> <span style=\"color: #7f7f7f; text-decoration-color: #7f7f7f\">                        </span>\n",
       "<span style=\"color: #7fbfbf; text-decoration-color: #7fbfbf\">           </span><span style=\"color: #ff00ff; text-decoration-color: #ff00ff\">r_min.py</span>                                                                        <span style=\"color: #7f7f7f; text-decoration-color: #7f7f7f\">                        </span>\n",
       "</pre>\n"
      ],
      "text/plain": [
       "\u001b[2;36m[14:57:17]\u001b[0m\u001b[2;36m \u001b[0m\u001b[32mMinimized file saved as:\u001b[0m                                                        \u001b]8;id=692249;file:///home/paltenmo/projects/crossplatform/analysis_and_reporting/ddmin_target_file.py\u001b\\\u001b[2mddmin_target_file.py\u001b[0m\u001b]8;;\u001b\\\u001b[2m:\u001b[0m\u001b]8;id=195353;file:///home/paltenmo/projects/crossplatform/analysis_and_reporting/ddmin_target_file.py#240\u001b\\\u001b[2m240\u001b[0m\u001b]8;;\u001b\\\n",
       "\u001b[2;36m           \u001b[0m..\u001b[35m/reports/v009/2024_11_21__14_53/\u001b[0m\u001b[95mqiskit_circuit_5q_10g_6316_146402_6a36f0_erro\u001b[0m \u001b[2m                        \u001b[0m\n",
       "\u001b[2;36m           \u001b[0m\u001b[95mr_min.py\u001b[0m                                                                        \u001b[2m                        \u001b[0m\n"
      ]
     },
     "metadata": {},
     "output_type": "display_data"
    },
    {
     "name": "stdout",
     "output_type": "stream",
     "text": [
      "Output: Saved the Pytket circuit to /workspace/qiskit_circuit_5q_10g_6316_146402_6a36f0_error_min_qc_pytket.qasm\n",
      "Saved the Qiskit circuit to /workspace/qiskit_circuit_5q_10g_6316_146402_6a36f0_error_min_qc_qiskit.qasm\n",
      "Exported QASM files: [('/workspace/qiskit_circuit_5q_10g_6316_146402_6a36f0_error_min_qc_pytket.qasm', 'export_to_qasm_with_pytket'), ('/workspace/qiskit_circuit_5q_10g_6316_146402_6a36f0_error_min_qc_qiskit.qasm', 'export_to_qasm_with_qiskit')]\n",
      "Log has been saved to /workspace/qiskit_circuit_5q_10g_6316_146402_6a36f0_error_min_c55469_error.json\n",
      "\n"
     ]
    },
    {
     "data": {
      "text/html": [
       "<pre style=\"white-space:pre;overflow-x:auto;line-height:normal;font-family:Menlo,'DejaVu Sans Mono',consolas,'Courier New',monospace\"><span style=\"color: #7fbfbf; text-decoration-color: #7fbfbf\">[14:57:24] </span>Program qiskit_circuit_5q_10g_6316_146402_6a36f0_error_min.py executed              <a href=\"file:///home/paltenmo/projects/crossplatform/generators/docker_tooling.py\" target=\"_blank\"><span style=\"color: #7f7f7f; text-decoration-color: #7f7f7f\">docker_tooling.py</span></a><span style=\"color: #7f7f7f; text-decoration-color: #7f7f7f\">:</span><a href=\"file:///home/paltenmo/projects/crossplatform/generators/docker_tooling.py#46\" target=\"_blank\"><span style=\"color: #7f7f7f; text-decoration-color: #7f7f7f\">46</span></a>\n",
       "<span style=\"color: #7fbfbf; text-decoration-color: #7fbfbf\">           </span>successfully.                                                                       <span style=\"color: #7f7f7f; text-decoration-color: #7f7f7f\">                    </span>\n",
       "</pre>\n"
      ],
      "text/plain": [
       "\u001b[2;36m[14:57:24]\u001b[0m\u001b[2;36m \u001b[0mProgram qiskit_circuit_5q_10g_6316_146402_6a36f0_error_min.py executed              \u001b]8;id=784739;file:///home/paltenmo/projects/crossplatform/generators/docker_tooling.py\u001b\\\u001b[2mdocker_tooling.py\u001b[0m\u001b]8;;\u001b\\\u001b[2m:\u001b[0m\u001b]8;id=128634;file:///home/paltenmo/projects/crossplatform/generators/docker_tooling.py#46\u001b\\\u001b[2m46\u001b[0m\u001b]8;;\u001b\\\n",
       "\u001b[2;36m           \u001b[0msuccessfully.                                                                       \u001b[2m                    \u001b[0m\n"
      ]
     },
     "metadata": {},
     "output_type": "display_data"
    },
    {
     "data": {
      "application/vnd.jupyter.widget-view+json": {
       "model_id": "51eebf741baf454fa9504f1ccf6713b5",
       "version_major": 2,
       "version_minor": 0
      },
      "text/plain": [
       "Executing:   0%|          | 0/13 [00:00<?, ?cell/s]"
      ]
     },
     "metadata": {},
     "output_type": "display_data"
    },
    {
     "data": {
      "text/html": [
       "<pre style=\"white-space:pre;overflow-x:auto;line-height:normal;font-family:Menlo,'DejaVu Sans Mono',consolas,'Courier New',monospace\"><span style=\"color: #7fbfbf; text-decoration-color: #7fbfbf\">[14:57:26] </span>Analysis notebook executed: ..<span style=\"color: #800080; text-decoration-color: #800080\">/reports/v009/2024_11_21__14_53/</span><span style=\"color: #ff00ff; text-decoration-color: #ff00ff\">analysis_output.ipynb</span>        <a href=\"file:///home/paltenmo/projects/crossplatform/analysis_and_reporting/triage.py\" target=\"_blank\"><span style=\"color: #7f7f7f; text-decoration-color: #7f7f7f\">triage.py</span></a><span style=\"color: #7f7f7f; text-decoration-color: #7f7f7f\">:</span><a href=\"file:///home/paltenmo/projects/crossplatform/analysis_and_reporting/triage.py#163\" target=\"_blank\"><span style=\"color: #7f7f7f; text-decoration-color: #7f7f7f\">163</span></a>\n",
       "</pre>\n"
      ],
      "text/plain": [
       "\u001b[2;36m[14:57:26]\u001b[0m\u001b[2;36m \u001b[0mAnalysis notebook executed: ..\u001b[35m/reports/v009/2024_11_21__14_53/\u001b[0m\u001b[95manalysis_output.ipynb\u001b[0m        \u001b]8;id=472223;file:///home/paltenmo/projects/crossplatform/analysis_and_reporting/triage.py\u001b\\\u001b[2mtriage.py\u001b[0m\u001b]8;;\u001b\\\u001b[2m:\u001b[0m\u001b]8;id=260868;file:///home/paltenmo/projects/crossplatform/analysis_and_reporting/triage.py#163\u001b\\\u001b[2m163\u001b[0m\u001b]8;;\u001b\\\n"
      ]
     },
     "metadata": {},
     "output_type": "display_data"
    },
    {
     "data": {
      "text/html": [
       "<pre style=\"white-space:pre;overflow-x:auto;line-height:normal;font-family:Menlo,'DejaVu Sans Mono',consolas,'Courier New',monospace\"><span style=\"color: #7fbfbf; text-decoration-color: #7fbfbf\">           </span>Created report folder: ..<span style=\"color: #800080; text-decoration-color: #800080\">/reports/v009/</span><span style=\"color: #ff00ff; text-decoration-color: #ff00ff\">2024_11_21__14_57</span>                                   <a href=\"file:///home/paltenmo/projects/crossplatform/analysis_and_reporting/triage.py\" target=\"_blank\"><span style=\"color: #7f7f7f; text-decoration-color: #7f7f7f\">triage.py</span></a><span style=\"color: #7f7f7f; text-decoration-color: #7f7f7f\">:</span><a href=\"file:///home/paltenmo/projects/crossplatform/analysis_and_reporting/triage.py#131\" target=\"_blank\"><span style=\"color: #7f7f7f; text-decoration-color: #7f7f7f\">131</span></a>\n",
       "</pre>\n"
      ],
      "text/plain": [
       "\u001b[2;36m          \u001b[0m\u001b[2;36m \u001b[0mCreated report folder: ..\u001b[35m/reports/v009/\u001b[0m\u001b[95m2024_11_21__14_57\u001b[0m                                   \u001b]8;id=630748;file:///home/paltenmo/projects/crossplatform/analysis_and_reporting/triage.py\u001b\\\u001b[2mtriage.py\u001b[0m\u001b]8;;\u001b\\\u001b[2m:\u001b[0m\u001b]8;id=541353;file:///home/paltenmo/projects/crossplatform/analysis_and_reporting/triage.py#131\u001b\\\u001b[2m131\u001b[0m\u001b]8;;\u001b\\\n"
      ]
     },
     "metadata": {},
     "output_type": "display_data"
    },
    {
     "data": {
      "text/html": [
       "<pre style=\"white-space:pre;overflow-x:auto;line-height:normal;font-family:Menlo,'DejaVu Sans Mono',consolas,'Courier New',monospace\"><span style=\"color: #7fbfbf; text-decoration-color: #7fbfbf\">           </span>Copied files to: ..<span style=\"color: #800080; text-decoration-color: #800080\">/reports/v009/</span><span style=\"color: #ff00ff; text-decoration-color: #ff00ff\">2024_11_21__14_57</span>                                         <a href=\"file:///home/paltenmo/projects/crossplatform/analysis_and_reporting/triage.py\" target=\"_blank\"><span style=\"color: #7f7f7f; text-decoration-color: #7f7f7f\">triage.py</span></a><span style=\"color: #7f7f7f; text-decoration-color: #7f7f7f\">:</span><a href=\"file:///home/paltenmo/projects/crossplatform/analysis_and_reporting/triage.py#140\" target=\"_blank\"><span style=\"color: #7f7f7f; text-decoration-color: #7f7f7f\">140</span></a>\n",
       "</pre>\n"
      ],
      "text/plain": [
       "\u001b[2;36m          \u001b[0m\u001b[2;36m \u001b[0mCopied files to: ..\u001b[35m/reports/v009/\u001b[0m\u001b[95m2024_11_21__14_57\u001b[0m                                         \u001b]8;id=991224;file:///home/paltenmo/projects/crossplatform/analysis_and_reporting/triage.py\u001b\\\u001b[2mtriage.py\u001b[0m\u001b]8;;\u001b\\\u001b[2m:\u001b[0m\u001b]8;id=138808;file:///home/paltenmo/projects/crossplatform/analysis_and_reporting/triage.py#140\u001b\\\u001b[2m140\u001b[0m\u001b]8;;\u001b\\\n"
      ]
     },
     "metadata": {},
     "output_type": "display_data"
    },
    {
     "data": {
      "text/html": [
       "<pre style=\"white-space:pre;overflow-x:auto;line-height:normal;font-family:Menlo,'DejaVu Sans Mono',consolas,'Courier New',monospace\"><span style=\"color: #7fbfbf; text-decoration-color: #7fbfbf\">[14:57:26] </span>Involved functions:                                                             <a href=\"file:///home/paltenmo/projects/crossplatform/analysis_and_reporting/ddmin_target_file.py\" target=\"_blank\"><span style=\"color: #7f7f7f; text-decoration-color: #7f7f7f\">ddmin_target_file.py</span></a><span style=\"color: #7f7f7f; text-decoration-color: #7f7f7f\">:</span><a href=\"file:///home/paltenmo/projects/crossplatform/analysis_and_reporting/ddmin_target_file.py#206\" target=\"_blank\"><span style=\"color: #7f7f7f; text-decoration-color: #7f7f7f\">206</span></a>\n",
       "</pre>\n"
      ],
      "text/plain": [
       "\u001b[2;36m[14:57:26]\u001b[0m\u001b[2;36m \u001b[0mInvolved functions:                                                             \u001b]8;id=833856;file:///home/paltenmo/projects/crossplatform/analysis_and_reporting/ddmin_target_file.py\u001b\\\u001b[2mddmin_target_file.py\u001b[0m\u001b]8;;\u001b\\\u001b[2m:\u001b[0m\u001b]8;id=305986;file:///home/paltenmo/projects/crossplatform/analysis_and_reporting/ddmin_target_file.py#206\u001b\\\u001b[2m206\u001b[0m\u001b]8;;\u001b\\\n"
      ]
     },
     "metadata": {},
     "output_type": "display_data"
    },
    {
     "data": {
      "text/html": [
       "<pre style=\"white-space:pre;overflow-x:auto;line-height:normal;font-family:Menlo,'DejaVu Sans Mono',consolas,'Courier New',monospace\"><span style=\"color: #7fbfbf; text-decoration-color: #7fbfbf\">           </span>  - compare_qasm_via_qcec                                                       <a href=\"file:///home/paltenmo/projects/crossplatform/analysis_and_reporting/ddmin_target_file.py\" target=\"_blank\"><span style=\"color: #7f7f7f; text-decoration-color: #7f7f7f\">ddmin_target_file.py</span></a><span style=\"color: #7f7f7f; text-decoration-color: #7f7f7f\">:</span><a href=\"file:///home/paltenmo/projects/crossplatform/analysis_and_reporting/ddmin_target_file.py#208\" target=\"_blank\"><span style=\"color: #7f7f7f; text-decoration-color: #7f7f7f\">208</span></a>\n",
       "</pre>\n"
      ],
      "text/plain": [
       "\u001b[2;36m          \u001b[0m\u001b[2;36m \u001b[0m  - compare_qasm_via_qcec                                                       \u001b]8;id=409146;file:///home/paltenmo/projects/crossplatform/analysis_and_reporting/ddmin_target_file.py\u001b\\\u001b[2mddmin_target_file.py\u001b[0m\u001b]8;;\u001b\\\u001b[2m:\u001b[0m\u001b]8;id=978736;file:///home/paltenmo/projects/crossplatform/analysis_and_reporting/ddmin_target_file.py#208\u001b\\\u001b[2m208\u001b[0m\u001b]8;;\u001b\\\n"
      ]
     },
     "metadata": {},
     "output_type": "display_data"
    },
    {
     "data": {
      "text/html": [
       "<pre style=\"white-space:pre;overflow-x:auto;line-height:normal;font-family:Menlo,'DejaVu Sans Mono',consolas,'Courier New',monospace\"><span style=\"color: #7fbfbf; text-decoration-color: #7fbfbf\">           </span>  - export_to_qasm_with_pytket                                                  <a href=\"file:///home/paltenmo/projects/crossplatform/analysis_and_reporting/ddmin_target_file.py\" target=\"_blank\"><span style=\"color: #7f7f7f; text-decoration-color: #7f7f7f\">ddmin_target_file.py</span></a><span style=\"color: #7f7f7f; text-decoration-color: #7f7f7f\">:</span><a href=\"file:///home/paltenmo/projects/crossplatform/analysis_and_reporting/ddmin_target_file.py#208\" target=\"_blank\"><span style=\"color: #7f7f7f; text-decoration-color: #7f7f7f\">208</span></a>\n",
       "</pre>\n"
      ],
      "text/plain": [
       "\u001b[2;36m          \u001b[0m\u001b[2;36m \u001b[0m  - export_to_qasm_with_pytket                                                  \u001b]8;id=669945;file:///home/paltenmo/projects/crossplatform/analysis_and_reporting/ddmin_target_file.py\u001b\\\u001b[2mddmin_target_file.py\u001b[0m\u001b]8;;\u001b\\\u001b[2m:\u001b[0m\u001b]8;id=378051;file:///home/paltenmo/projects/crossplatform/analysis_and_reporting/ddmin_target_file.py#208\u001b\\\u001b[2m208\u001b[0m\u001b]8;;\u001b\\\n"
      ]
     },
     "metadata": {},
     "output_type": "display_data"
    },
    {
     "data": {
      "text/html": [
       "<pre style=\"white-space:pre;overflow-x:auto;line-height:normal;font-family:Menlo,'DejaVu Sans Mono',consolas,'Courier New',monospace\"><span style=\"color: #7fbfbf; text-decoration-color: #7fbfbf\">           </span>  - export_to_qasm_with_qiskit                                                  <a href=\"file:///home/paltenmo/projects/crossplatform/analysis_and_reporting/ddmin_target_file.py\" target=\"_blank\"><span style=\"color: #7f7f7f; text-decoration-color: #7f7f7f\">ddmin_target_file.py</span></a><span style=\"color: #7f7f7f; text-decoration-color: #7f7f7f\">:</span><a href=\"file:///home/paltenmo/projects/crossplatform/analysis_and_reporting/ddmin_target_file.py#208\" target=\"_blank\"><span style=\"color: #7f7f7f; text-decoration-color: #7f7f7f\">208</span></a>\n",
       "</pre>\n"
      ],
      "text/plain": [
       "\u001b[2;36m          \u001b[0m\u001b[2;36m \u001b[0m  - export_to_qasm_with_qiskit                                                  \u001b]8;id=829317;file:///home/paltenmo/projects/crossplatform/analysis_and_reporting/ddmin_target_file.py\u001b\\\u001b[2mddmin_target_file.py\u001b[0m\u001b]8;;\u001b\\\u001b[2m:\u001b[0m\u001b]8;id=334716;file:///home/paltenmo/projects/crossplatform/analysis_and_reporting/ddmin_target_file.py#208\u001b\\\u001b[2m208\u001b[0m\u001b]8;;\u001b\\\n"
      ]
     },
     "metadata": {},
     "output_type": "display_data"
    },
    {
     "name": "stdout",
     "output_type": "stream",
     "text": [
      "Error parsing: Command 'python /workspace/to_execute.py' in image 'qiskit_runner' returned non-zero exit status 1: b'Traceback (most recent call last):\\n  File \"/workspace/to_execute.py\", line 105, in <module>\\n    target_qc = qc\\nNameError: name \\'qc\\' is not defined\\n'\n",
      "Failed to execute to_execute.py in Docker.\n",
      "Output: Saved the Pytket circuit to /workspace/to_execute_qc_pytket.qasm\n",
      "Saved the Qiskit circuit to /workspace/to_execute_qc_qiskit.qasm\n",
      "Exported QASM files: [('/workspace/to_execute_qc_pytket.qasm', 'export_to_qasm_with_pytket'), ('/workspace/to_execute_qc_qiskit.qasm', 'export_to_qasm_with_qiskit')]\n",
      "Log has been saved to /workspace/to_execute_880d95_error.json\n",
      "\n",
      "Program to_execute.py executed successfully.\n",
      "New exception message: The circuits are not equivalent: /workspace/to_execute_qc_pytket.qasm, /workspace/to_execute_qc_qiskit.qasm\n",
      "Error parsing: Command 'python /workspace/to_execute.py' in image 'qiskit_runner' returned non-zero exit status 1: b'  File \"/workspace/to_execute.py\", line 16\\n    , custom_instructions=qasm2.LEGACY_CUSTOM_INSTRUCTIONS)\\n                                                          ^\\nSyntaxError: unmatched \\')\\'\\n'\n",
      "Failed to execute to_execute.py in Docker.\n",
      "Error parsing: Command 'python /workspace/to_execute.py' in image 'qiskit_runner' returned non-zero exit status 1: b'  File \"/workspace/to_execute.py\", line 10\\n    qc = qasm2.loads(\\n                    ^\\nSyntaxError: \\'(\\' was never closed\\n'\n",
      "Failed to execute to_execute.py in Docker.\n",
      "Error parsing: Command 'python /workspace/to_execute.py' in image 'qiskit_runner' returned non-zero exit status 1: b'  File \"/workspace/to_execute.py\", line 21\\n    , custom_instructions=qasm2.LEGACY_CUSTOM_INSTRUCTIONS)\\n                                                          ^\\nSyntaxError: unmatched \\')\\'\\n'\n",
      "Failed to execute to_execute.py in Docker.\n",
      "Error parsing: Command 'python /workspace/to_execute.py' in image 'qiskit_runner' returned non-zero exit status 1: b'Traceback (most recent call last):\\n  File \"/workspace/to_execute.py\", line 10, in <module>\\n    qc = qasm2.loads(\\n  File \"/usr/local/lib/python3.10/site-packages/qiskit/qasm2/__init__.py\", line 587, in loads\\n    return _parse.from_bytecode(\\n  File \"/usr/local/lib/python3.10/site-packages/qiskit/qasm2/parse.py\", line 214, in from_bytecode\\n    for op in bc:\\nqiskit.qasm2.exceptions.QASM2ParseError: \"<input>:5,0: cannot use non-builtin custom instruction \\'cx\\' before definition\"\\n'\n",
      "Failed to execute to_execute.py in Docker.\n",
      "Error parsing: Command 'python /workspace/to_execute.py' in image 'qiskit_runner' returned non-zero exit status 1: b'Traceback (most recent call last):\\n  File \"/workspace/to_execute.py\", line 10, in <module>\\n    qc = qasm2.loads(\\n  File \"/usr/local/lib/python3.10/site-packages/qiskit/qasm2/__init__.py\", line 587, in loads\\n    return _parse.from_bytecode(\\n  File \"/usr/local/lib/python3.10/site-packages/qiskit/qasm2/parse.py\", line 214, in from_bytecode\\n    for op in bc:\\nqiskit.qasm2.exceptions.QASM2ParseError: \"<input>:7,3: \\'reg_1_a\\' is not defined in this scope\"\\n'\n",
      "Failed to execute to_execute.py in Docker.\n",
      "Error parsing: Command 'python /workspace/to_execute.py' in image 'qiskit_runner' returned non-zero exit status 1: b'  File \"/workspace/to_execute.py\", line 10\\n    qc = qasm2.loads(\\n                    ^\\nSyntaxError: \\'(\\' was never closed\\n'\n",
      "Failed to execute to_execute.py in Docker.\n",
      "Error parsing: Command 'python /workspace/to_execute.py' in image 'qiskit_runner' returned non-zero exit status 1: b'  File \"/workspace/to_execute.py\", line 24\\n    , custom_instructions=qasm2.LEGACY_CUSTOM_INSTRUCTIONS)\\nIndentationError: unexpected indent\\n'\n",
      "Failed to execute to_execute.py in Docker.\n",
      "Error parsing: Command 'python /workspace/to_execute.py' in image 'qiskit_runner' returned non-zero exit status 1: b'  File \"/workspace/to_execute.py\", line 12\\n    include \"qelib1.inc\";\\n            ^^^^^^^^^^^^\\nSyntaxError: invalid syntax\\n'\n",
      "Failed to execute to_execute.py in Docker.\n",
      "Error parsing: Command 'python /workspace/to_execute.py' in image 'qiskit_runner' returned non-zero exit status 1: b'Traceback (most recent call last):\\n  File \"/workspace/to_execute.py\", line 10, in <module>\\n    qc = qasm2.loads(\\n  File \"/usr/local/lib/python3.10/site-packages/qiskit/qasm2/__init__.py\", line 587, in loads\\n    return _parse.from_bytecode(\\n  File \"/usr/local/lib/python3.10/site-packages/qiskit/qasm2/parse.py\", line 214, in from_bytecode\\n    for op in bc:\\nqiskit.qasm2.exceptions.QASM2ParseError: \"<input>:7,0: cannot use non-builtin custom instruction \\'cx\\' before definition\"\\n'\n",
      "Failed to execute to_execute.py in Docker.\n",
      "Error parsing: Command 'python /workspace/to_execute.py' in image 'qiskit_runner' returned non-zero exit status 1: b'Traceback (most recent call last):\\n  File \"/workspace/to_execute.py\", line 10, in <module>\\n    qc = qasm2.loads(\\n  File \"/usr/local/lib/python3.10/site-packages/qiskit/qasm2/__init__.py\", line 587, in loads\\n    return _parse.from_bytecode(\\n  File \"/usr/local/lib/python3.10/site-packages/qiskit/qasm2/parse.py\", line 214, in from_bytecode\\n    for op in bc:\\nqiskit.qasm2.exceptions.QASM2ParseError: \"<input>:7,14: \\'reg_1_b\\' is not defined in this scope\"\\n'\n",
      "Failed to execute to_execute.py in Docker.\n",
      "Error parsing: Command 'python /workspace/to_execute.py' in image 'qiskit_runner' returned non-zero exit status 1: b'Traceback (most recent call last):\\n  File \"/workspace/to_execute.py\", line 10, in <module>\\n    qc = qasm2.loads(\\n  File \"/usr/local/lib/python3.10/site-packages/qiskit/qasm2/__init__.py\", line 587, in loads\\n    return _parse.from_bytecode(\\n  File \"/usr/local/lib/python3.10/site-packages/qiskit/qasm2/parse.py\", line 214, in from_bytecode\\n    for op in bc:\\nqiskit.qasm2.exceptions.QASM2ParseError: \"<input>:7,3: \\'reg_1_a\\' is not defined in this scope\"\\n'\n",
      "Failed to execute to_execute.py in Docker.\n",
      "Output: Saved the Pytket circuit to /workspace/to_execute_qc_pytket.qasm\n",
      "Saved the Qiskit circuit to /workspace/to_execute_qc_qiskit.qasm\n",
      "Exported QASM files: [('/workspace/to_execute_qc_pytket.qasm', 'export_to_qasm_with_pytket'), ('/workspace/to_execute_qc_qiskit.qasm', 'export_to_qasm_with_qiskit')]\n",
      "Log has been saved to /workspace/to_execute_f75f1e_error.json\n",
      "\n",
      "Program to_execute.py executed successfully.\n",
      "New exception message: The circuits are not equivalent: /workspace/to_execute_qc_pytket.qasm, /workspace/to_execute_qc_qiskit.qasm\n",
      "Error parsing: Command 'python /workspace/to_execute.py' in image 'qiskit_runner' returned non-zero exit status 1: b'  File \"/workspace/to_execute.py\", line 22\\n    , custom_instructions=qasm2.LEGACY_CUSTOM_INSTRUCTIONS)\\nIndentationError: unexpected indent\\n'\n",
      "Failed to execute to_execute.py in Docker.\n",
      "Error parsing: Command 'python /workspace/to_execute.py' in image 'qiskit_runner' returned non-zero exit status 1: b'  File \"/workspace/to_execute.py\", line 12\\n    include \"qelib1.inc\";\\n            ^^^^^^^^^^^^\\nSyntaxError: invalid syntax\\n'\n",
      "Failed to execute to_execute.py in Docker.\n",
      "Error parsing: Command 'python /workspace/to_execute.py' in image 'qiskit_runner' returned non-zero exit status 1: b'Traceback (most recent call last):\\n  File \"/workspace/to_execute.py\", line 10, in <module>\\n    qc = qasm2.loads(\\n  File \"/usr/local/lib/python3.10/site-packages/qiskit/qasm2/__init__.py\", line 587, in loads\\n    return _parse.from_bytecode(\\n  File \"/usr/local/lib/python3.10/site-packages/qiskit/qasm2/parse.py\", line 214, in from_bytecode\\n    for op in bc:\\nqiskit.qasm2.exceptions.QASM2ParseError: \"<input>:7,0: cannot use non-builtin custom instruction \\'cx\\' before definition\"\\n'\n",
      "Failed to execute to_execute.py in Docker.\n",
      "Error parsing: Command 'python /workspace/to_execute.py' in image 'qiskit_runner' returned non-zero exit status 1: b'Traceback (most recent call last):\\n  File \"/workspace/to_execute.py\", line 10, in <module>\\n    qc = qasm2.loads(\\n  File \"/usr/local/lib/python3.10/site-packages/qiskit/qasm2/__init__.py\", line 587, in loads\\n    return _parse.from_bytecode(\\n  File \"/usr/local/lib/python3.10/site-packages/qiskit/qasm2/parse.py\", line 214, in from_bytecode\\n    for op in bc:\\nqiskit.qasm2.exceptions.QASM2ParseError: \"<input>:7,3: \\'reg_1_b\\' is not defined in this scope\"\\n'\n",
      "Failed to execute to_execute.py in Docker.\n",
      "Error parsing: Command 'python /workspace/to_execute.py' in image 'qiskit_runner' returned non-zero exit status 1: b'Traceback (most recent call last):\\n  File \"/workspace/to_execute.py\", line 10, in <module>\\n    qc = qasm2.loads(\\n  File \"/usr/local/lib/python3.10/site-packages/qiskit/qasm2/__init__.py\", line 587, in loads\\n    return _parse.from_bytecode(\\n  File \"/usr/local/lib/python3.10/site-packages/qiskit/qasm2/parse.py\", line 214, in from_bytecode\\n    for op in bc:\\nqiskit.qasm2.exceptions.QASM2ParseError: \"<input>:8,3: \\'reg_1_a\\' is not defined in this scope\"\\n'\n",
      "Failed to execute to_execute.py in Docker.\n",
      "Output: Saved the Pytket circuit to /workspace/to_execute_qc_pytket.qasm\n",
      "Saved the Qiskit circuit to /workspace/to_execute_qc_qiskit.qasm\n",
      "Exported QASM files: [('/workspace/to_execute_qc_pytket.qasm', 'export_to_qasm_with_pytket'), ('/workspace/to_execute_qc_qiskit.qasm', 'export_to_qasm_with_qiskit')]\n",
      "The circuits are equivalent: /workspace/to_execute_qc_pytket.qasm, /workspace/to_execute_qc_qiskit.qasm\n",
      "\n",
      "Program to_execute.py executed successfully.\n",
      "Error parsing: Command 'python /workspace/to_execute.py' in image 'qiskit_runner' returned non-zero exit status 1: b'  File \"/workspace/to_execute.py\", line 10\\n    qc = qasm2.loads(\\n                    ^\\nSyntaxError: \\'(\\' was never closed\\n'\n",
      "Failed to execute to_execute.py in Docker.\n",
      "Error parsing: Command 'python /workspace/to_execute.py' in image 'qiskit_runner' returned non-zero exit status 1: b'  File \"/workspace/to_execute.py\", line 23\\n    , custom_instructions=qasm2.LEGACY_CUSTOM_INSTRUCTIONS)\\nIndentationError: unexpected indent\\n'\n",
      "Failed to execute to_execute.py in Docker.\n",
      "Output: Saved the Pytket circuit to /workspace/to_execute_qc_pytket.qasm\n",
      "Saved the Qiskit circuit to /workspace/to_execute_qc_qiskit.qasm\n",
      "Exported QASM files: [('/workspace/to_execute_qc_pytket.qasm', 'export_to_qasm_with_pytket'), ('/workspace/to_execute_qc_qiskit.qasm', 'export_to_qasm_with_qiskit')]\n",
      "Log has been saved to /workspace/to_execute_03d771_error.json\n",
      "\n",
      "Program to_execute.py executed successfully.\n",
      "New exception message: The circuits are not equivalent: /workspace/to_execute_qc_pytket.qasm, /workspace/to_execute_qc_qiskit.qasm\n",
      "Error parsing: Command 'python /workspace/to_execute.py' in image 'qiskit_runner' returned non-zero exit status 1: b'  File \"/workspace/to_execute.py\", line 22\\n    , custom_instructions=qasm2.LEGACY_CUSTOM_INSTRUCTIONS)\\nIndentationError: unexpected indent\\n'\n",
      "Failed to execute to_execute.py in Docker.\n",
      "Error parsing: Command 'python /workspace/to_execute.py' in image 'qiskit_runner' returned non-zero exit status 1: b'  File \"/workspace/to_execute.py\", line 11\\n    OPENQASM 2.0;\\n    ^^^^^^^^^^^^\\nSyntaxError: invalid syntax. Perhaps you forgot a comma?\\n'\n",
      "Failed to execute to_execute.py in Docker.\n",
      "Output: Saved the Pytket circuit to /workspace/to_execute_qc_pytket.qasm\n",
      "Saved the Qiskit circuit to /workspace/to_execute_qc_qiskit.qasm\n",
      "Exported QASM files: [('/workspace/to_execute_qc_pytket.qasm', 'export_to_qasm_with_pytket'), ('/workspace/to_execute_qc_qiskit.qasm', 'export_to_qasm_with_qiskit')]\n",
      "Log has been saved to /workspace/to_execute_eef7d2_error.json\n",
      "\n",
      "Program to_execute.py executed successfully.\n",
      "New exception message: The circuits are not equivalent: /workspace/to_execute_qc_pytket.qasm, /workspace/to_execute_qc_qiskit.qasm\n",
      "Error parsing: Command 'python /workspace/to_execute.py' in image 'qiskit_runner' returned non-zero exit status 1: b'  File \"/workspace/to_execute.py\", line 21\\n    , custom_instructions=qasm2.LEGACY_CUSTOM_INSTRUCTIONS)\\nIndentationError: unexpected indent\\n'\n",
      "Failed to execute to_execute.py in Docker.\n",
      "Error parsing: Command 'python /workspace/to_execute.py' in image 'qiskit_runner' returned non-zero exit status 1: b'  File \"/workspace/to_execute.py\", line 11\\n    include \"qelib1.inc\";\\n            ^^^^^^^^^^^^\\nSyntaxError: invalid syntax\\n'\n",
      "Failed to execute to_execute.py in Docker.\n",
      "Error parsing: Command 'python /workspace/to_execute.py' in image 'qiskit_runner' returned non-zero exit status 1: b'Traceback (most recent call last):\\n  File \"/workspace/to_execute.py\", line 10, in <module>\\n    qc = qasm2.loads(\\n  File \"/usr/local/lib/python3.10/site-packages/qiskit/qasm2/__init__.py\", line 587, in loads\\n    return _parse.from_bytecode(\\n  File \"/usr/local/lib/python3.10/site-packages/qiskit/qasm2/parse.py\", line 214, in from_bytecode\\n    for op in bc:\\nqiskit.qasm2.exceptions.QASM2ParseError: \"<input>:7,0: cannot use non-builtin custom instruction \\'cx\\' before definition\"\\n'\n",
      "Failed to execute to_execute.py in Docker.\n",
      "Output: Saved the Pytket circuit to /workspace/to_execute_qc_pytket.qasm\n",
      "Saved the Qiskit circuit to /workspace/to_execute_qc_qiskit.qasm\n",
      "Exported QASM files: [('/workspace/to_execute_qc_pytket.qasm', 'export_to_qasm_with_pytket'), ('/workspace/to_execute_qc_qiskit.qasm', 'export_to_qasm_with_qiskit')]\n",
      "Log has been saved to /workspace/to_execute_194002_error.json\n",
      "\n",
      "Program to_execute.py executed successfully.\n",
      "New exception message: The circuits are not equivalent: /workspace/to_execute_qc_pytket.qasm, /workspace/to_execute_qc_qiskit.qasm\n",
      "Error parsing: Command 'python /workspace/to_execute.py' in image 'qiskit_runner' returned non-zero exit status 1: b'  File \"/workspace/to_execute.py\", line 20\\n    , custom_instructions=qasm2.LEGACY_CUSTOM_INSTRUCTIONS)\\nIndentationError: unexpected indent\\n'\n",
      "Failed to execute to_execute.py in Docker.\n",
      "Error parsing: Command 'python /workspace/to_execute.py' in image 'qiskit_runner' returned non-zero exit status 1: b'  File \"/workspace/to_execute.py\", line 11\\n    include \"qelib1.inc\";\\n            ^^^^^^^^^^^^\\nSyntaxError: invalid syntax\\n'\n",
      "Failed to execute to_execute.py in Docker.\n",
      "Error parsing: Command 'python /workspace/to_execute.py' in image 'qiskit_runner' returned non-zero exit status 1: b'Traceback (most recent call last):\\n  File \"/workspace/to_execute.py\", line 10, in <module>\\n    qc = qasm2.loads(\\n  File \"/usr/local/lib/python3.10/site-packages/qiskit/qasm2/__init__.py\", line 587, in loads\\n    return _parse.from_bytecode(\\n  File \"/usr/local/lib/python3.10/site-packages/qiskit/qasm2/parse.py\", line 214, in from_bytecode\\n    for op in bc:\\nqiskit.qasm2.exceptions.QASM2ParseError: \"<input>:6,0: cannot use non-builtin custom instruction \\'cx\\' before definition\"\\n'\n",
      "Failed to execute to_execute.py in Docker.\n",
      "Error parsing: Command 'python /workspace/to_execute.py' in image 'qiskit_runner' returned non-zero exit status 1: b'Traceback (most recent call last):\\n  File \"/workspace/to_execute.py\", line 10, in <module>\\n    qc = qasm2.loads(\\n  File \"/usr/local/lib/python3.10/site-packages/qiskit/qasm2/__init__.py\", line 587, in loads\\n    return _parse.from_bytecode(\\n  File \"/usr/local/lib/python3.10/site-packages/qiskit/qasm2/parse.py\", line 214, in from_bytecode\\n    for op in bc:\\nqiskit.qasm2.exceptions.QASM2ParseError: \"<input>:7,14: \\'reg_1_cin\\' is not defined in this scope\"\\n'\n",
      "Failed to execute to_execute.py in Docker.\n",
      "Error parsing: Command 'python /workspace/to_execute.py' in image 'qiskit_runner' returned non-zero exit status 1: b'Traceback (most recent call last):\\n  File \"/workspace/to_execute.py\", line 10, in <module>\\n    qc = qasm2.loads(\\n  File \"/usr/local/lib/python3.10/site-packages/qiskit/qasm2/__init__.py\", line 587, in loads\\n    return _parse.from_bytecode(\\n  File \"/usr/local/lib/python3.10/site-packages/qiskit/qasm2/parse.py\", line 214, in from_bytecode\\n    for op in bc:\\nqiskit.qasm2.exceptions.QASM2ParseError: \"<input>:6,3: \\'reg_1_b\\' is not defined in this scope\"\\n'\n",
      "Failed to execute to_execute.py in Docker.\n",
      "Error parsing: Command 'python /workspace/to_execute.py' in image 'qiskit_runner' returned non-zero exit status 1: b'Traceback (most recent call last):\\n  File \"/workspace/to_execute.py\", line 10, in <module>\\n    qc = qasm2.loads(\\n  File \"/usr/local/lib/python3.10/site-packages/qiskit/qasm2/__init__.py\", line 587, in loads\\n    return _parse.from_bytecode(\\n  File \"/usr/local/lib/python3.10/site-packages/qiskit/qasm2/parse.py\", line 214, in from_bytecode\\n    for op in bc:\\nqiskit.qasm2.exceptions.QASM2ParseError: \"<input>:7,3: \\'reg_1_a\\' is not defined in this scope\"\\n'\n",
      "Failed to execute to_execute.py in Docker.\n",
      "Output: Saved the Pytket circuit to /workspace/to_execute_qc_pytket.qasm\n",
      "Saved the Qiskit circuit to /workspace/to_execute_qc_qiskit.qasm\n",
      "Exported QASM files: [('/workspace/to_execute_qc_pytket.qasm', 'export_to_qasm_with_pytket'), ('/workspace/to_execute_qc_qiskit.qasm', 'export_to_qasm_with_qiskit')]\n",
      "Log has been saved to /workspace/to_execute_8babc9_error.json\n",
      "\n",
      "Program to_execute.py executed successfully.\n",
      "New exception message: The circuits are not equivalent: /workspace/to_execute_qc_pytket.qasm, /workspace/to_execute_qc_qiskit.qasm\n",
      "Error parsing: Command 'python /workspace/to_execute.py' in image 'qiskit_runner' returned non-zero exit status 1: b'  File \"/workspace/to_execute.py\", line 19\\n    , custom_instructions=qasm2.LEGACY_CUSTOM_INSTRUCTIONS)\\nIndentationError: unexpected indent\\n'\n",
      "Failed to execute to_execute.py in Docker.\n",
      "Error parsing: Command 'python /workspace/to_execute.py' in image 'qiskit_runner' returned non-zero exit status 1: b'  File \"/workspace/to_execute.py\", line 11\\n    include \"qelib1.inc\";\\n            ^^^^^^^^^^^^\\nSyntaxError: invalid syntax\\n'\n",
      "Failed to execute to_execute.py in Docker.\n",
      "Error parsing: Command 'python /workspace/to_execute.py' in image 'qiskit_runner' returned non-zero exit status 1: b'Traceback (most recent call last):\\n  File \"/workspace/to_execute.py\", line 10, in <module>\\n    qc = qasm2.loads(\\n  File \"/usr/local/lib/python3.10/site-packages/qiskit/qasm2/__init__.py\", line 587, in loads\\n    return _parse.from_bytecode(\\n  File \"/usr/local/lib/python3.10/site-packages/qiskit/qasm2/parse.py\", line 214, in from_bytecode\\n    for op in bc:\\nqiskit.qasm2.exceptions.QASM2ParseError: \"<input>:5,0: cannot use non-builtin custom instruction \\'cx\\' before definition\"\\n'\n",
      "Failed to execute to_execute.py in Docker.\n",
      "Error parsing: Command 'python /workspace/to_execute.py' in image 'qiskit_runner' returned non-zero exit status 1: b'Traceback (most recent call last):\\n  File \"/workspace/to_execute.py\", line 10, in <module>\\n    qc = qasm2.loads(\\n  File \"/usr/local/lib/python3.10/site-packages/qiskit/qasm2/__init__.py\", line 587, in loads\\n    return _parse.from_bytecode(\\n  File \"/usr/local/lib/python3.10/site-packages/qiskit/qasm2/parse.py\", line 214, in from_bytecode\\n    for op in bc:\\nqiskit.qasm2.exceptions.QASM2ParseError: \"<input>:6,14: \\'reg_1_cin\\' is not defined in this scope\"\\n'\n",
      "Failed to execute to_execute.py in Docker.\n",
      "Error parsing: Command 'python /workspace/to_execute.py' in image 'qiskit_runner' returned non-zero exit status 1: b'Traceback (most recent call last):\\n  File \"/workspace/to_execute.py\", line 10, in <module>\\n    qc = qasm2.loads(\\n  File \"/usr/local/lib/python3.10/site-packages/qiskit/qasm2/__init__.py\", line 587, in loads\\n    return _parse.from_bytecode(\\n  File \"/usr/local/lib/python3.10/site-packages/qiskit/qasm2/parse.py\", line 214, in from_bytecode\\n    for op in bc:\\nqiskit.qasm2.exceptions.QASM2ParseError: \"<input>:5,3: \\'reg_1_b\\' is not defined in this scope\"\\n'\n",
      "Failed to execute to_execute.py in Docker.\n",
      "Error parsing: Command 'python /workspace/to_execute.py' in image 'qiskit_runner' returned non-zero exit status 1: b'Traceback (most recent call last):\\n  File \"/workspace/to_execute.py\", line 10, in <module>\\n    qc = qasm2.loads(\\n  File \"/usr/local/lib/python3.10/site-packages/qiskit/qasm2/__init__.py\", line 587, in loads\\n    return _parse.from_bytecode(\\n  File \"/usr/local/lib/python3.10/site-packages/qiskit/qasm2/parse.py\", line 214, in from_bytecode\\n    for op in bc:\\nqiskit.qasm2.exceptions.QASM2ParseError: \"<input>:6,3: \\'reg_1_a\\' is not defined in this scope\"\\n'\n",
      "Failed to execute to_execute.py in Docker.\n",
      "Output: Saved the Pytket circuit to /workspace/to_execute_qc_pytket.qasm\n",
      "Saved the Qiskit circuit to /workspace/to_execute_qc_qiskit.qasm\n",
      "Exported QASM files: [('/workspace/to_execute_qc_pytket.qasm', 'export_to_qasm_with_pytket'), ('/workspace/to_execute_qc_qiskit.qasm', 'export_to_qasm_with_qiskit')]\n",
      "Log has been saved to /workspace/to_execute_a984c7_error.json\n",
      "\n",
      "Program to_execute.py executed successfully.\n",
      "New exception message: The circuits are not equivalent: /workspace/to_execute_qc_pytket.qasm, /workspace/to_execute_qc_qiskit.qasm\n",
      "Error parsing: Command 'python /workspace/to_execute.py' in image 'qiskit_runner' returned non-zero exit status 1: b'  File \"/workspace/to_execute.py\", line 18\\n    , custom_instructions=qasm2.LEGACY_CUSTOM_INSTRUCTIONS)\\nIndentationError: unexpected indent\\n'\n",
      "Failed to execute to_execute.py in Docker.\n",
      "Error parsing: Command 'python /workspace/to_execute.py' in image 'qiskit_runner' returned non-zero exit status 1: b'  File \"/workspace/to_execute.py\", line 11\\n    include \"qelib1.inc\";\\n            ^^^^^^^^^^^^\\nSyntaxError: invalid syntax\\n'\n",
      "Failed to execute to_execute.py in Docker.\n",
      "Error parsing: Command 'python /workspace/to_execute.py' in image 'qiskit_runner' returned non-zero exit status 1: b'Traceback (most recent call last):\\n  File \"/workspace/to_execute.py\", line 10, in <module>\\n    qc = qasm2.loads(\\n  File \"/usr/local/lib/python3.10/site-packages/qiskit/qasm2/__init__.py\", line 587, in loads\\n    return _parse.from_bytecode(\\n  File \"/usr/local/lib/python3.10/site-packages/qiskit/qasm2/parse.py\", line 214, in from_bytecode\\n    for op in bc:\\nqiskit.qasm2.exceptions.QASM2ParseError: \"<input>:5,0: cannot use non-builtin custom instruction \\'cx\\' before definition\"\\n'\n",
      "Failed to execute to_execute.py in Docker.\n",
      "Error parsing: Command 'python /workspace/to_execute.py' in image 'qiskit_runner' returned non-zero exit status 1: b'Traceback (most recent call last):\\n  File \"/workspace/to_execute.py\", line 10, in <module>\\n    qc = qasm2.loads(\\n  File \"/usr/local/lib/python3.10/site-packages/qiskit/qasm2/__init__.py\", line 587, in loads\\n    return _parse.from_bytecode(\\n  File \"/usr/local/lib/python3.10/site-packages/qiskit/qasm2/parse.py\", line 214, in from_bytecode\\n    for op in bc:\\nqiskit.qasm2.exceptions.QASM2ParseError: \"<input>:5,14: \\'reg_1_cin\\' is not defined in this scope\"\\n'\n",
      "Failed to execute to_execute.py in Docker.\n",
      "Error parsing: Command 'python /workspace/to_execute.py' in image 'qiskit_runner' returned non-zero exit status 1: b'Traceback (most recent call last):\\n  File \"/workspace/to_execute.py\", line 10, in <module>\\n    qc = qasm2.loads(\\n  File \"/usr/local/lib/python3.10/site-packages/qiskit/qasm2/__init__.py\", line 587, in loads\\n    return _parse.from_bytecode(\\n  File \"/usr/local/lib/python3.10/site-packages/qiskit/qasm2/parse.py\", line 214, in from_bytecode\\n    for op in bc:\\nqiskit.qasm2.exceptions.QASM2ParseError: \"<input>:6,17: \\'reg_1_b\\' is not defined in this scope\"\\n'\n",
      "Failed to execute to_execute.py in Docker.\n",
      "Error parsing: Command 'python /workspace/to_execute.py' in image 'qiskit_runner' returned non-zero exit status 1: b'Traceback (most recent call last):\\n  File \"/workspace/to_execute.py\", line 10, in <module>\\n    qc = qasm2.loads(\\n  File \"/usr/local/lib/python3.10/site-packages/qiskit/qasm2/__init__.py\", line 587, in loads\\n    return _parse.from_bytecode(\\n  File \"/usr/local/lib/python3.10/site-packages/qiskit/qasm2/parse.py\", line 214, in from_bytecode\\n    for op in bc:\\nqiskit.qasm2.exceptions.QASM2ParseError: \"<input>:5,3: \\'reg_1_a\\' is not defined in this scope\"\\n'\n",
      "Failed to execute to_execute.py in Docker.\n",
      "Output: Saved the Pytket circuit to /workspace/to_execute_qc_pytket.qasm\n",
      "Saved the Qiskit circuit to /workspace/to_execute_qc_qiskit.qasm\n",
      "Exported QASM files: [('/workspace/to_execute_qc_pytket.qasm', 'export_to_qasm_with_pytket'), ('/workspace/to_execute_qc_qiskit.qasm', 'export_to_qasm_with_qiskit')]\n",
      "Log has been saved to /workspace/to_execute_5a6bd9_error.json\n",
      "\n",
      "Program to_execute.py executed successfully.\n",
      "New exception message: The circuits are not equivalent: /workspace/to_execute_qc_pytket.qasm, /workspace/to_execute_qc_qiskit.qasm\n",
      "Error parsing: Command 'python /workspace/to_execute.py' in image 'qiskit_runner' returned non-zero exit status 1: b'  File \"/workspace/to_execute.py\", line 17\\n    , custom_instructions=qasm2.LEGACY_CUSTOM_INSTRUCTIONS)\\nIndentationError: unexpected indent\\n'\n",
      "Failed to execute to_execute.py in Docker.\n",
      "Error parsing: Command 'python /workspace/to_execute.py' in image 'qiskit_runner' returned non-zero exit status 1: b'  File \"/workspace/to_execute.py\", line 11\\n    include \"qelib1.inc\";\\n            ^^^^^^^^^^^^\\nSyntaxError: invalid syntax\\n'\n",
      "Failed to execute to_execute.py in Docker.\n",
      "Error parsing: Command 'python /workspace/to_execute.py' in image 'qiskit_runner' returned non-zero exit status 1: b'Traceback (most recent call last):\\n  File \"/workspace/to_execute.py\", line 10, in <module>\\n    qc = qasm2.loads(\\n  File \"/usr/local/lib/python3.10/site-packages/qiskit/qasm2/__init__.py\", line 587, in loads\\n    return _parse.from_bytecode(\\n  File \"/usr/local/lib/python3.10/site-packages/qiskit/qasm2/parse.py\", line 214, in from_bytecode\\n    for op in bc:\\nqiskit.qasm2.exceptions.QASM2ParseError: \"<input>:5,0: cannot use non-builtin custom instruction \\'ccx\\' before definition\"\\n'\n",
      "Failed to execute to_execute.py in Docker.\n",
      "Error parsing: Command 'python /workspace/to_execute.py' in image 'qiskit_runner' returned non-zero exit status 1: b'Traceback (most recent call last):\\n  File \"/workspace/to_execute.py\", line 10, in <module>\\n    qc = qasm2.loads(\\n  File \"/usr/local/lib/python3.10/site-packages/qiskit/qasm2/__init__.py\", line 587, in loads\\n    return _parse.from_bytecode(\\n  File \"/usr/local/lib/python3.10/site-packages/qiskit/qasm2/parse.py\", line 214, in from_bytecode\\n    for op in bc:\\nqiskit.qasm2.exceptions.QASM2ParseError: \"<input>:5,4: \\'reg_1_cin\\' is not defined in this scope\"\\n'\n",
      "Failed to execute to_execute.py in Docker.\n",
      "Error parsing: Command 'python /workspace/to_execute.py' in image 'qiskit_runner' returned non-zero exit status 1: b'Traceback (most recent call last):\\n  File \"/workspace/to_execute.py\", line 10, in <module>\\n    qc = qasm2.loads(\\n  File \"/usr/local/lib/python3.10/site-packages/qiskit/qasm2/__init__.py\", line 587, in loads\\n    return _parse.from_bytecode(\\n  File \"/usr/local/lib/python3.10/site-packages/qiskit/qasm2/parse.py\", line 214, in from_bytecode\\n    for op in bc:\\nqiskit.qasm2.exceptions.QASM2ParseError: \"<input>:5,17: \\'reg_1_b\\' is not defined in this scope\"\\n'\n",
      "Failed to execute to_execute.py in Docker.\n",
      "Error parsing: Command 'python /workspace/to_execute.py' in image 'qiskit_runner' returned non-zero exit status 1: b'Traceback (most recent call last):\\n  File \"/workspace/to_execute.py\", line 10, in <module>\\n    qc = qasm2.loads(\\n  File \"/usr/local/lib/python3.10/site-packages/qiskit/qasm2/__init__.py\", line 587, in loads\\n    return _parse.from_bytecode(\\n  File \"/usr/local/lib/python3.10/site-packages/qiskit/qasm2/parse.py\", line 214, in from_bytecode\\n    for op in bc:\\nqiskit.qasm2.exceptions.QASM2ParseError: \"<input>:5,28: \\'reg_1_a\\' is not defined in this scope\"\\n'\n",
      "Failed to execute to_execute.py in Docker.\n",
      "Error parsing: Command 'python /workspace/to_execute.py' in image 'qiskit_runner' returned non-zero exit status 1: b'  File \"/workspace/to_execute.py\", line 11\\n    include \"qelib1.inc\";\\n            ^^^^^^^^^^^^\\nSyntaxError: invalid syntax\\n'\n",
      "Failed to execute to_execute.py in Docker.\n",
      "Error parsing: Command 'python /workspace/to_execute.py' in image 'qiskit_runner' returned non-zero exit status 1: b'  File \"/workspace/to_execute.py\", line 10\\n    qc = qasm2.loads(\\n                    ^\\nSyntaxError: \\'(\\' was never closed\\n'\n",
      "Failed to execute to_execute.py in Docker.\n",
      "Error parsing: Command 'python /workspace/to_execute.py' in image 'qiskit_runner' returned non-zero exit status 1: b'  File \"/workspace/to_execute.py\", line 17\\n    , custom_instructions=qasm2.LEGACY_CUSTOM_INSTRUCTIONS)\\nIndentationError: unexpected indent\\n'\n",
      "Failed to execute to_execute.py in Docker.\n",
      "Error parsing: Command 'python /workspace/to_execute.py' in image 'qiskit_runner' returned non-zero exit status 1: b'  File \"/workspace/to_execute.py\", line 11\\n    include \"qelib1.inc\";\\n            ^^^^^^^^^^^^\\nSyntaxError: invalid syntax\\n'\n",
      "Failed to execute to_execute.py in Docker.\n",
      "Error parsing: Command 'python /workspace/to_execute.py' in image 'qiskit_runner' returned non-zero exit status 1: b'Traceback (most recent call last):\\n  File \"/workspace/to_execute.py\", line 10, in <module>\\n    qc = qasm2.loads(\\n  File \"/usr/local/lib/python3.10/site-packages/qiskit/qasm2/__init__.py\", line 587, in loads\\n    return _parse.from_bytecode(\\n  File \"/usr/local/lib/python3.10/site-packages/qiskit/qasm2/parse.py\", line 214, in from_bytecode\\n    for op in bc:\\nqiskit.qasm2.exceptions.QASM2ParseError: \"<input>:5,0: cannot use non-builtin custom instruction \\'ccx\\' before definition\"\\n'\n",
      "Failed to execute to_execute.py in Docker.\n",
      "Error parsing: Command 'python /workspace/to_execute.py' in image 'qiskit_runner' returned non-zero exit status 1: b'Traceback (most recent call last):\\n  File \"/workspace/to_execute.py\", line 10, in <module>\\n    qc = qasm2.loads(\\n  File \"/usr/local/lib/python3.10/site-packages/qiskit/qasm2/__init__.py\", line 587, in loads\\n    return _parse.from_bytecode(\\n  File \"/usr/local/lib/python3.10/site-packages/qiskit/qasm2/parse.py\", line 214, in from_bytecode\\n    for op in bc:\\nqiskit.qasm2.exceptions.QASM2ParseError: \"<input>:5,4: \\'reg_1_cin\\' is not defined in this scope\"\\n'\n",
      "Failed to execute to_execute.py in Docker.\n",
      "Error parsing: Command 'python /workspace/to_execute.py' in image 'qiskit_runner' returned non-zero exit status 1: b'Traceback (most recent call last):\\n  File \"/workspace/to_execute.py\", line 10, in <module>\\n    qc = qasm2.loads(\\n  File \"/usr/local/lib/python3.10/site-packages/qiskit/qasm2/__init__.py\", line 587, in loads\\n    return _parse.from_bytecode(\\n  File \"/usr/local/lib/python3.10/site-packages/qiskit/qasm2/parse.py\", line 214, in from_bytecode\\n    for op in bc:\\nqiskit.qasm2.exceptions.QASM2ParseError: \"<input>:5,17: \\'reg_1_b\\' is not defined in this scope\"\\n'\n",
      "Failed to execute to_execute.py in Docker.\n",
      "Error parsing: Command 'python /workspace/to_execute.py' in image 'qiskit_runner' returned non-zero exit status 1: b'Traceback (most recent call last):\\n  File \"/workspace/to_execute.py\", line 10, in <module>\\n    qc = qasm2.loads(\\n  File \"/usr/local/lib/python3.10/site-packages/qiskit/qasm2/__init__.py\", line 587, in loads\\n    return _parse.from_bytecode(\\n  File \"/usr/local/lib/python3.10/site-packages/qiskit/qasm2/parse.py\", line 214, in from_bytecode\\n    for op in bc:\\nqiskit.qasm2.exceptions.QASM2ParseError: \"<input>:5,28: \\'reg_1_a\\' is not defined in this scope\"\\n'\n",
      "Failed to execute to_execute.py in Docker.\n",
      "Output: Saved the Pytket circuit to /workspace/to_execute_qc_pytket.qasm\n",
      "Saved the Qiskit circuit to /workspace/to_execute_qc_qiskit.qasm\n",
      "Exported QASM files: [('/workspace/to_execute_qc_pytket.qasm', 'export_to_qasm_with_pytket'), ('/workspace/to_execute_qc_qiskit.qasm', 'export_to_qasm_with_qiskit')]\n",
      "The circuits are equivalent: /workspace/to_execute_qc_pytket.qasm, /workspace/to_execute_qc_qiskit.qasm\n",
      "\n",
      "Program to_execute.py executed successfully.\n",
      "Error parsing: Command 'python /workspace/to_execute.py' in image 'qiskit_runner' returned non-zero exit status 1: b'  File \"/workspace/to_execute.py\", line 11\\n    include \"qelib1.inc\";\\n            ^^^^^^^^^^^^\\nSyntaxError: invalid syntax\\n'\n",
      "Failed to execute to_execute.py in Docker.\n",
      "Error parsing: Command 'python /workspace/to_execute.py' in image 'qiskit_runner' returned non-zero exit status 1: b'  File \"/workspace/to_execute.py\", line 10\\n    qc = qasm2.loads(\\n                    ^\\nSyntaxError: \\'(\\' was never closed\\n'\n",
      "Failed to execute to_execute.py in Docker.\n"
     ]
    },
    {
     "data": {
      "text/html": [
       "<pre style=\"white-space:pre;overflow-x:auto;line-height:normal;font-family:Menlo,'DejaVu Sans Mono',consolas,'Courier New',monospace\"><span style=\"color: #7fbfbf; text-decoration-color: #7fbfbf\">[15:01:35] </span><span style=\"color: #008000; text-decoration-color: #008000\">Minimized file saved as:</span>                                                        <a href=\"file:///home/paltenmo/projects/crossplatform/analysis_and_reporting/ddmin_target_file.py\" target=\"_blank\"><span style=\"color: #7f7f7f; text-decoration-color: #7f7f7f\">ddmin_target_file.py</span></a><span style=\"color: #7f7f7f; text-decoration-color: #7f7f7f\">:</span><a href=\"file:///home/paltenmo/projects/crossplatform/analysis_and_reporting/ddmin_target_file.py#240\" target=\"_blank\"><span style=\"color: #7f7f7f; text-decoration-color: #7f7f7f\">240</span></a>\n",
       "<span style=\"color: #7fbfbf; text-decoration-color: #7fbfbf\">           </span>..<span style=\"color: #800080; text-decoration-color: #800080\">/reports/v009/2024_11_21__14_57/</span><span style=\"color: #ff00ff; text-decoration-color: #ff00ff\">qiskit_circuit_5q_10g_6533_f0b204_dbc69c_erro</span> <span style=\"color: #7f7f7f; text-decoration-color: #7f7f7f\">                        </span>\n",
       "<span style=\"color: #7fbfbf; text-decoration-color: #7fbfbf\">           </span><span style=\"color: #ff00ff; text-decoration-color: #ff00ff\">r_min.py</span>                                                                        <span style=\"color: #7f7f7f; text-decoration-color: #7f7f7f\">                        </span>\n",
       "</pre>\n"
      ],
      "text/plain": [
       "\u001b[2;36m[15:01:35]\u001b[0m\u001b[2;36m \u001b[0m\u001b[32mMinimized file saved as:\u001b[0m                                                        \u001b]8;id=330228;file:///home/paltenmo/projects/crossplatform/analysis_and_reporting/ddmin_target_file.py\u001b\\\u001b[2mddmin_target_file.py\u001b[0m\u001b]8;;\u001b\\\u001b[2m:\u001b[0m\u001b]8;id=890946;file:///home/paltenmo/projects/crossplatform/analysis_and_reporting/ddmin_target_file.py#240\u001b\\\u001b[2m240\u001b[0m\u001b]8;;\u001b\\\n",
       "\u001b[2;36m           \u001b[0m..\u001b[35m/reports/v009/2024_11_21__14_57/\u001b[0m\u001b[95mqiskit_circuit_5q_10g_6533_f0b204_dbc69c_erro\u001b[0m \u001b[2m                        \u001b[0m\n",
       "\u001b[2;36m           \u001b[0m\u001b[95mr_min.py\u001b[0m                                                                        \u001b[2m                        \u001b[0m\n"
      ]
     },
     "metadata": {},
     "output_type": "display_data"
    },
    {
     "name": "stdout",
     "output_type": "stream",
     "text": [
      "Output: Saved the Pytket circuit to /workspace/qiskit_circuit_5q_10g_6533_f0b204_dbc69c_error_min_qc_pytket.qasm\n",
      "Saved the Qiskit circuit to /workspace/qiskit_circuit_5q_10g_6533_f0b204_dbc69c_error_min_qc_qiskit.qasm\n",
      "Exported QASM files: [('/workspace/qiskit_circuit_5q_10g_6533_f0b204_dbc69c_error_min_qc_pytket.qasm', 'export_to_qasm_with_pytket'), ('/workspace/qiskit_circuit_5q_10g_6533_f0b204_dbc69c_error_min_qc_qiskit.qasm', 'export_to_qasm_with_qiskit')]\n",
      "Log has been saved to /workspace/qiskit_circuit_5q_10g_6533_f0b204_dbc69c_error_min_dc03a6_error.json\n",
      "\n"
     ]
    },
    {
     "data": {
      "text/html": [
       "<pre style=\"white-space:pre;overflow-x:auto;line-height:normal;font-family:Menlo,'DejaVu Sans Mono',consolas,'Courier New',monospace\"><span style=\"color: #7fbfbf; text-decoration-color: #7fbfbf\">[15:01:42] </span>Program qiskit_circuit_5q_10g_6533_f0b204_dbc69c_error_min.py executed              <a href=\"file:///home/paltenmo/projects/crossplatform/generators/docker_tooling.py\" target=\"_blank\"><span style=\"color: #7f7f7f; text-decoration-color: #7f7f7f\">docker_tooling.py</span></a><span style=\"color: #7f7f7f; text-decoration-color: #7f7f7f\">:</span><a href=\"file:///home/paltenmo/projects/crossplatform/generators/docker_tooling.py#46\" target=\"_blank\"><span style=\"color: #7f7f7f; text-decoration-color: #7f7f7f\">46</span></a>\n",
       "<span style=\"color: #7fbfbf; text-decoration-color: #7fbfbf\">           </span>successfully.                                                                       <span style=\"color: #7f7f7f; text-decoration-color: #7f7f7f\">                    </span>\n",
       "</pre>\n"
      ],
      "text/plain": [
       "\u001b[2;36m[15:01:42]\u001b[0m\u001b[2;36m \u001b[0mProgram qiskit_circuit_5q_10g_6533_f0b204_dbc69c_error_min.py executed              \u001b]8;id=496062;file:///home/paltenmo/projects/crossplatform/generators/docker_tooling.py\u001b\\\u001b[2mdocker_tooling.py\u001b[0m\u001b]8;;\u001b\\\u001b[2m:\u001b[0m\u001b]8;id=906562;file:///home/paltenmo/projects/crossplatform/generators/docker_tooling.py#46\u001b\\\u001b[2m46\u001b[0m\u001b]8;;\u001b\\\n",
       "\u001b[2;36m           \u001b[0msuccessfully.                                                                       \u001b[2m                    \u001b[0m\n"
      ]
     },
     "metadata": {},
     "output_type": "display_data"
    },
    {
     "data": {
      "application/vnd.jupyter.widget-view+json": {
       "model_id": "a804d8582c0742d78efd599218a98342",
       "version_major": 2,
       "version_minor": 0
      },
      "text/plain": [
       "Executing:   0%|          | 0/13 [00:00<?, ?cell/s]"
      ]
     },
     "metadata": {},
     "output_type": "display_data"
    },
    {
     "data": {
      "text/html": [
       "<pre style=\"white-space:pre;overflow-x:auto;line-height:normal;font-family:Menlo,'DejaVu Sans Mono',consolas,'Courier New',monospace\"><span style=\"color: #7fbfbf; text-decoration-color: #7fbfbf\">[15:01:45] </span>Analysis notebook executed: ..<span style=\"color: #800080; text-decoration-color: #800080\">/reports/v009/2024_11_21__14_57/</span><span style=\"color: #ff00ff; text-decoration-color: #ff00ff\">analysis_output.ipynb</span>        <a href=\"file:///home/paltenmo/projects/crossplatform/analysis_and_reporting/triage.py\" target=\"_blank\"><span style=\"color: #7f7f7f; text-decoration-color: #7f7f7f\">triage.py</span></a><span style=\"color: #7f7f7f; text-decoration-color: #7f7f7f\">:</span><a href=\"file:///home/paltenmo/projects/crossplatform/analysis_and_reporting/triage.py#163\" target=\"_blank\"><span style=\"color: #7f7f7f; text-decoration-color: #7f7f7f\">163</span></a>\n",
       "</pre>\n"
      ],
      "text/plain": [
       "\u001b[2;36m[15:01:45]\u001b[0m\u001b[2;36m \u001b[0mAnalysis notebook executed: ..\u001b[35m/reports/v009/2024_11_21__14_57/\u001b[0m\u001b[95manalysis_output.ipynb\u001b[0m        \u001b]8;id=838500;file:///home/paltenmo/projects/crossplatform/analysis_and_reporting/triage.py\u001b\\\u001b[2mtriage.py\u001b[0m\u001b]8;;\u001b\\\u001b[2m:\u001b[0m\u001b]8;id=187327;file:///home/paltenmo/projects/crossplatform/analysis_and_reporting/triage.py#163\u001b\\\u001b[2m163\u001b[0m\u001b]8;;\u001b\\\n"
      ]
     },
     "metadata": {},
     "output_type": "display_data"
    },
    {
     "data": {
      "text/html": [
       "<pre style=\"white-space:pre;overflow-x:auto;line-height:normal;font-family:Menlo,'DejaVu Sans Mono',consolas,'Courier New',monospace\"><span style=\"color: #7fbfbf; text-decoration-color: #7fbfbf\">           </span>Created report folder: ..<span style=\"color: #800080; text-decoration-color: #800080\">/reports/v009/</span><span style=\"color: #ff00ff; text-decoration-color: #ff00ff\">2024_11_21__15_01</span>                                   <a href=\"file:///home/paltenmo/projects/crossplatform/analysis_and_reporting/triage.py\" target=\"_blank\"><span style=\"color: #7f7f7f; text-decoration-color: #7f7f7f\">triage.py</span></a><span style=\"color: #7f7f7f; text-decoration-color: #7f7f7f\">:</span><a href=\"file:///home/paltenmo/projects/crossplatform/analysis_and_reporting/triage.py#131\" target=\"_blank\"><span style=\"color: #7f7f7f; text-decoration-color: #7f7f7f\">131</span></a>\n",
       "</pre>\n"
      ],
      "text/plain": [
       "\u001b[2;36m          \u001b[0m\u001b[2;36m \u001b[0mCreated report folder: ..\u001b[35m/reports/v009/\u001b[0m\u001b[95m2024_11_21__15_01\u001b[0m                                   \u001b]8;id=983100;file:///home/paltenmo/projects/crossplatform/analysis_and_reporting/triage.py\u001b\\\u001b[2mtriage.py\u001b[0m\u001b]8;;\u001b\\\u001b[2m:\u001b[0m\u001b]8;id=686809;file:///home/paltenmo/projects/crossplatform/analysis_and_reporting/triage.py#131\u001b\\\u001b[2m131\u001b[0m\u001b]8;;\u001b\\\n"
      ]
     },
     "metadata": {},
     "output_type": "display_data"
    },
    {
     "data": {
      "text/html": [
       "<pre style=\"white-space:pre;overflow-x:auto;line-height:normal;font-family:Menlo,'DejaVu Sans Mono',consolas,'Courier New',monospace\"><span style=\"color: #7fbfbf; text-decoration-color: #7fbfbf\">           </span>Copied files to: ..<span style=\"color: #800080; text-decoration-color: #800080\">/reports/v009/</span><span style=\"color: #ff00ff; text-decoration-color: #ff00ff\">2024_11_21__15_01</span>                                         <a href=\"file:///home/paltenmo/projects/crossplatform/analysis_and_reporting/triage.py\" target=\"_blank\"><span style=\"color: #7f7f7f; text-decoration-color: #7f7f7f\">triage.py</span></a><span style=\"color: #7f7f7f; text-decoration-color: #7f7f7f\">:</span><a href=\"file:///home/paltenmo/projects/crossplatform/analysis_and_reporting/triage.py#140\" target=\"_blank\"><span style=\"color: #7f7f7f; text-decoration-color: #7f7f7f\">140</span></a>\n",
       "</pre>\n"
      ],
      "text/plain": [
       "\u001b[2;36m          \u001b[0m\u001b[2;36m \u001b[0mCopied files to: ..\u001b[35m/reports/v009/\u001b[0m\u001b[95m2024_11_21__15_01\u001b[0m                                         \u001b]8;id=61401;file:///home/paltenmo/projects/crossplatform/analysis_and_reporting/triage.py\u001b\\\u001b[2mtriage.py\u001b[0m\u001b]8;;\u001b\\\u001b[2m:\u001b[0m\u001b]8;id=451277;file:///home/paltenmo/projects/crossplatform/analysis_and_reporting/triage.py#140\u001b\\\u001b[2m140\u001b[0m\u001b]8;;\u001b\\\n"
      ]
     },
     "metadata": {},
     "output_type": "display_data"
    },
    {
     "data": {
      "text/html": [
       "<pre style=\"white-space:pre;overflow-x:auto;line-height:normal;font-family:Menlo,'DejaVu Sans Mono',consolas,'Courier New',monospace\"><span style=\"color: #7fbfbf; text-decoration-color: #7fbfbf\">[15:01:45] </span>Involved functions:                                                             <a href=\"file:///home/paltenmo/projects/crossplatform/analysis_and_reporting/ddmin_target_file.py\" target=\"_blank\"><span style=\"color: #7f7f7f; text-decoration-color: #7f7f7f\">ddmin_target_file.py</span></a><span style=\"color: #7f7f7f; text-decoration-color: #7f7f7f\">:</span><a href=\"file:///home/paltenmo/projects/crossplatform/analysis_and_reporting/ddmin_target_file.py#206\" target=\"_blank\"><span style=\"color: #7f7f7f; text-decoration-color: #7f7f7f\">206</span></a>\n",
       "</pre>\n"
      ],
      "text/plain": [
       "\u001b[2;36m[15:01:45]\u001b[0m\u001b[2;36m \u001b[0mInvolved functions:                                                             \u001b]8;id=393739;file:///home/paltenmo/projects/crossplatform/analysis_and_reporting/ddmin_target_file.py\u001b\\\u001b[2mddmin_target_file.py\u001b[0m\u001b]8;;\u001b\\\u001b[2m:\u001b[0m\u001b]8;id=121612;file:///home/paltenmo/projects/crossplatform/analysis_and_reporting/ddmin_target_file.py#206\u001b\\\u001b[2m206\u001b[0m\u001b]8;;\u001b\\\n"
      ]
     },
     "metadata": {},
     "output_type": "display_data"
    },
    {
     "data": {
      "text/html": [
       "<pre style=\"white-space:pre;overflow-x:auto;line-height:normal;font-family:Menlo,'DejaVu Sans Mono',consolas,'Courier New',monospace\"><span style=\"color: #7fbfbf; text-decoration-color: #7fbfbf\">           </span>  - compare_qasm_via_qcec                                                       <a href=\"file:///home/paltenmo/projects/crossplatform/analysis_and_reporting/ddmin_target_file.py\" target=\"_blank\"><span style=\"color: #7f7f7f; text-decoration-color: #7f7f7f\">ddmin_target_file.py</span></a><span style=\"color: #7f7f7f; text-decoration-color: #7f7f7f\">:</span><a href=\"file:///home/paltenmo/projects/crossplatform/analysis_and_reporting/ddmin_target_file.py#208\" target=\"_blank\"><span style=\"color: #7f7f7f; text-decoration-color: #7f7f7f\">208</span></a>\n",
       "</pre>\n"
      ],
      "text/plain": [
       "\u001b[2;36m          \u001b[0m\u001b[2;36m \u001b[0m  - compare_qasm_via_qcec                                                       \u001b]8;id=893171;file:///home/paltenmo/projects/crossplatform/analysis_and_reporting/ddmin_target_file.py\u001b\\\u001b[2mddmin_target_file.py\u001b[0m\u001b]8;;\u001b\\\u001b[2m:\u001b[0m\u001b]8;id=900657;file:///home/paltenmo/projects/crossplatform/analysis_and_reporting/ddmin_target_file.py#208\u001b\\\u001b[2m208\u001b[0m\u001b]8;;\u001b\\\n"
      ]
     },
     "metadata": {},
     "output_type": "display_data"
    },
    {
     "data": {
      "text/html": [
       "<pre style=\"white-space:pre;overflow-x:auto;line-height:normal;font-family:Menlo,'DejaVu Sans Mono',consolas,'Courier New',monospace\"><span style=\"color: #7fbfbf; text-decoration-color: #7fbfbf\">           </span>  - export_to_qasm_with_pytket                                                  <a href=\"file:///home/paltenmo/projects/crossplatform/analysis_and_reporting/ddmin_target_file.py\" target=\"_blank\"><span style=\"color: #7f7f7f; text-decoration-color: #7f7f7f\">ddmin_target_file.py</span></a><span style=\"color: #7f7f7f; text-decoration-color: #7f7f7f\">:</span><a href=\"file:///home/paltenmo/projects/crossplatform/analysis_and_reporting/ddmin_target_file.py#208\" target=\"_blank\"><span style=\"color: #7f7f7f; text-decoration-color: #7f7f7f\">208</span></a>\n",
       "</pre>\n"
      ],
      "text/plain": [
       "\u001b[2;36m          \u001b[0m\u001b[2;36m \u001b[0m  - export_to_qasm_with_pytket                                                  \u001b]8;id=482258;file:///home/paltenmo/projects/crossplatform/analysis_and_reporting/ddmin_target_file.py\u001b\\\u001b[2mddmin_target_file.py\u001b[0m\u001b]8;;\u001b\\\u001b[2m:\u001b[0m\u001b]8;id=444501;file:///home/paltenmo/projects/crossplatform/analysis_and_reporting/ddmin_target_file.py#208\u001b\\\u001b[2m208\u001b[0m\u001b]8;;\u001b\\\n"
      ]
     },
     "metadata": {},
     "output_type": "display_data"
    },
    {
     "data": {
      "text/html": [
       "<pre style=\"white-space:pre;overflow-x:auto;line-height:normal;font-family:Menlo,'DejaVu Sans Mono',consolas,'Courier New',monospace\"><span style=\"color: #7fbfbf; text-decoration-color: #7fbfbf\">           </span>  - export_to_qasm_with_qiskit                                                  <a href=\"file:///home/paltenmo/projects/crossplatform/analysis_and_reporting/ddmin_target_file.py\" target=\"_blank\"><span style=\"color: #7f7f7f; text-decoration-color: #7f7f7f\">ddmin_target_file.py</span></a><span style=\"color: #7f7f7f; text-decoration-color: #7f7f7f\">:</span><a href=\"file:///home/paltenmo/projects/crossplatform/analysis_and_reporting/ddmin_target_file.py#208\" target=\"_blank\"><span style=\"color: #7f7f7f; text-decoration-color: #7f7f7f\">208</span></a>\n",
       "</pre>\n"
      ],
      "text/plain": [
       "\u001b[2;36m          \u001b[0m\u001b[2;36m \u001b[0m  - export_to_qasm_with_qiskit                                                  \u001b]8;id=403788;file:///home/paltenmo/projects/crossplatform/analysis_and_reporting/ddmin_target_file.py\u001b\\\u001b[2mddmin_target_file.py\u001b[0m\u001b]8;;\u001b\\\u001b[2m:\u001b[0m\u001b]8;id=219130;file:///home/paltenmo/projects/crossplatform/analysis_and_reporting/ddmin_target_file.py#208\u001b\\\u001b[2m208\u001b[0m\u001b]8;;\u001b\\\n"
      ]
     },
     "metadata": {},
     "output_type": "display_data"
    },
    {
     "name": "stdout",
     "output_type": "stream",
     "text": [
      "Error parsing: Command 'python /workspace/to_execute.py' in image 'qiskit_runner' returned non-zero exit status 1: b'Traceback (most recent call last):\\n  File \"/workspace/to_execute.py\", line 105, in <module>\\n    target_qc = qc\\nNameError: name \\'qc\\' is not defined\\n'\n",
      "Failed to execute to_execute.py in Docker.\n",
      "Output: Saved the Pytket circuit to /workspace/to_execute_qc_pytket.qasm\n",
      "Saved the Qiskit circuit to /workspace/to_execute_qc_qiskit.qasm\n",
      "Exported QASM files: [('/workspace/to_execute_qc_pytket.qasm', 'export_to_qasm_with_pytket'), ('/workspace/to_execute_qc_qiskit.qasm', 'export_to_qasm_with_qiskit')]\n",
      "Log has been saved to /workspace/to_execute_81243d_error.json\n",
      "\n",
      "Program to_execute.py executed successfully.\n",
      "New exception message: The circuits are not equivalent: /workspace/to_execute_qc_pytket.qasm, /workspace/to_execute_qc_qiskit.qasm\n",
      "Error parsing: Command 'python /workspace/to_execute.py' in image 'qiskit_runner' returned non-zero exit status 1: b'  File \"/workspace/to_execute.py\", line 22\\n    , custom_instructions=qasm2.LEGACY_CUSTOM_INSTRUCTIONS)\\n                                                          ^\\nSyntaxError: unmatched \\')\\'\\n'\n",
      "Failed to execute to_execute.py in Docker.\n",
      "Error parsing: Command 'python /workspace/to_execute.py' in image 'qiskit_runner' returned non-zero exit status 1: b'  File \"/workspace/to_execute.py\", line 10\\n    qc = qasm2.loads(\\n                    ^\\nSyntaxError: \\'(\\' was never closed\\n'\n",
      "Failed to execute to_execute.py in Docker.\n",
      "Error parsing: Command 'python /workspace/to_execute.py' in image 'qiskit_runner' returned non-zero exit status 1: b'  File \"/workspace/to_execute.py\", line 29\\n    , custom_instructions=qasm2.LEGACY_CUSTOM_INSTRUCTIONS)\\n                                                          ^\\nSyntaxError: unmatched \\')\\'\\n'\n",
      "Failed to execute to_execute.py in Docker.\n",
      "Error parsing: Command 'python /workspace/to_execute.py' in image 'qiskit_runner' returned non-zero exit status 1: b'Traceback (most recent call last):\\n  File \"/workspace/to_execute.py\", line 10, in <module>\\n    qc = qasm2.loads(\\n  File \"/usr/local/lib/python3.10/site-packages/qiskit/qasm2/__init__.py\", line 587, in loads\\n    return _parse.from_bytecode(\\n  File \"/usr/local/lib/python3.10/site-packages/qiskit/qasm2/parse.py\", line 214, in from_bytecode\\n    for op in bc:\\nqiskit.qasm2.exceptions.QASM2ParseError: \"<input>:9,22: \\'reg_1_c\\' is not defined in this scope\"\\n'\n",
      "Failed to execute to_execute.py in Docker.\n",
      "Output: Saved the Pytket circuit to /workspace/to_execute_qc_pytket.qasm\n",
      "Saved the Qiskit circuit to /workspace/to_execute_qc_qiskit.qasm\n",
      "Exported QASM files: [('/workspace/to_execute_qc_pytket.qasm', 'export_to_qasm_with_pytket'), ('/workspace/to_execute_qc_qiskit.qasm', 'export_to_qasm_with_qiskit')]\n",
      "Log has been saved to /workspace/to_execute_be7e3f_error.json\n",
      "\n",
      "Program to_execute.py executed successfully.\n",
      "New exception message: The circuits are not equivalent: /workspace/to_execute_qc_pytket.qasm, /workspace/to_execute_qc_qiskit.qasm\n",
      "Error parsing: Command 'python /workspace/to_execute.py' in image 'qiskit_runner' returned non-zero exit status 1: b'  File \"/workspace/to_execute.py\", line 22\\n    , custom_instructions=qasm2.LEGACY_CUSTOM_INSTRUCTIONS)\\n                                                          ^\\nSyntaxError: unmatched \\')\\'\\n'\n",
      "Failed to execute to_execute.py in Docker.\n",
      "Error parsing: Command 'python /workspace/to_execute.py' in image 'qiskit_runner' returned non-zero exit status 1: b'Traceback (most recent call last):\\n  File \"/workspace/to_execute.py\", line 10, in <module>\\n    qc = qasm2.loads(\\n  File \"/usr/local/lib/python3.10/site-packages/qiskit/qasm2/__init__.py\", line 587, in loads\\n    return _parse.from_bytecode(\\n  File \"/usr/local/lib/python3.10/site-packages/qiskit/qasm2/parse.py\", line 214, in from_bytecode\\n    for op in bc:\\nqiskit.qasm2.exceptions.QASM2ParseError: \"<input>:6,3: \\'reg_2_a\\' is not defined in this scope\"\\n'\n",
      "Failed to execute to_execute.py in Docker.\n",
      "Error parsing: Command 'python /workspace/to_execute.py' in image 'qiskit_runner' returned non-zero exit status 1: b'  File \"/workspace/to_execute.py\", line 10\\n    qc = qasm2.loads(\\n                    ^\\nSyntaxError: \\'(\\' was never closed\\n'\n",
      "Failed to execute to_execute.py in Docker.\n",
      "Error parsing: Command 'python /workspace/to_execute.py' in image 'qiskit_runner' returned non-zero exit status 1: b'  File \"/workspace/to_execute.py\", line 25\\n    , custom_instructions=qasm2.LEGACY_CUSTOM_INSTRUCTIONS)\\n                                                          ^\\nSyntaxError: unmatched \\')\\'\\n'\n",
      "Failed to execute to_execute.py in Docker.\n",
      "Error parsing: Command 'python /workspace/to_execute.py' in image 'qiskit_runner' returned non-zero exit status 1: b'Traceback (most recent call last):\\n  File \"/workspace/to_execute.py\", line 10, in <module>\\n    qc = qasm2.loads(\\n  File \"/usr/local/lib/python3.10/site-packages/qiskit/qasm2/__init__.py\", line 587, in loads\\n    return _parse.from_bytecode(\\n  File \"/usr/local/lib/python3.10/site-packages/qiskit/qasm2/parse.py\", line 214, in from_bytecode\\n    for op in bc:\\nqiskit.qasm2.exceptions.QASM2ParseError: \"<input>:7,0: cannot use non-builtin custom instruction \\'cx\\' before definition\"\\n'\n",
      "Failed to execute to_execute.py in Docker.\n",
      "Error parsing: Command 'python /workspace/to_execute.py' in image 'qiskit_runner' returned non-zero exit status 1: b'Traceback (most recent call last):\\n  File \"/workspace/to_execute.py\", line 10, in <module>\\n    qc = qasm2.loads(\\n  File \"/usr/local/lib/python3.10/site-packages/qiskit/qasm2/__init__.py\", line 587, in loads\\n    return _parse.from_bytecode(\\n  File \"/usr/local/lib/python3.10/site-packages/qiskit/qasm2/parse.py\", line 214, in from_bytecode\\n    for op in bc:\\nqiskit.qasm2.exceptions.QASM2ParseError: \"<input>:9,3: \\'reg_2_a\\' is not defined in this scope\"\\n'\n",
      "Failed to execute to_execute.py in Docker.\n",
      "Output: Saved the Pytket circuit to /workspace/to_execute_qc_pytket.qasm\n",
      "Saved the Qiskit circuit to /workspace/to_execute_qc_qiskit.qasm\n",
      "Exported QASM files: [('/workspace/to_execute_qc_pytket.qasm', 'export_to_qasm_with_pytket'), ('/workspace/to_execute_qc_qiskit.qasm', 'export_to_qasm_with_qiskit')]\n",
      "Log has been saved to /workspace/to_execute_7f7502_error.json\n",
      "\n",
      "Program to_execute.py executed successfully.\n",
      "New exception message: The circuits are not equivalent: /workspace/to_execute_qc_pytket.qasm, /workspace/to_execute_qc_qiskit.qasm\n",
      "Error parsing: Command 'python /workspace/to_execute.py' in image 'qiskit_runner' returned non-zero exit status 1: b'  File \"/workspace/to_execute.py\", line 22\\n    , custom_instructions=qasm2.LEGACY_CUSTOM_INSTRUCTIONS)\\n                                                          ^\\nSyntaxError: unmatched \\')\\'\\n'\n",
      "Failed to execute to_execute.py in Docker.\n",
      "Error parsing: Command 'python /workspace/to_execute.py' in image 'qiskit_runner' returned non-zero exit status 1: b'Traceback (most recent call last):\\n  File \"/workspace/to_execute.py\", line 10, in <module>\\n    qc = qasm2.loads(\\n  File \"/usr/local/lib/python3.10/site-packages/qiskit/qasm2/__init__.py\", line 587, in loads\\n    return _parse.from_bytecode(\\n  File \"/usr/local/lib/python3.10/site-packages/qiskit/qasm2/parse.py\", line 214, in from_bytecode\\n    for op in bc:\\nqiskit.qasm2.exceptions.QASM2ParseError: \"<input>:6,0: cannot use non-builtin custom instruction \\'cx\\' before definition\"\\n'\n",
      "Failed to execute to_execute.py in Docker.\n",
      "Error parsing: Command 'python /workspace/to_execute.py' in image 'qiskit_runner' returned non-zero exit status 1: b'Traceback (most recent call last):\\n  File \"/workspace/to_execute.py\", line 10, in <module>\\n    qc = qasm2.loads(\\n  File \"/usr/local/lib/python3.10/site-packages/qiskit/qasm2/__init__.py\", line 587, in loads\\n    return _parse.from_bytecode(\\n  File \"/usr/local/lib/python3.10/site-packages/qiskit/qasm2/parse.py\", line 214, in from_bytecode\\n    for op in bc:\\nqiskit.qasm2.exceptions.QASM2ParseError: \"<input>:8,17: \\'reg_2_b\\' is not defined in this scope\"\\n'\n",
      "Failed to execute to_execute.py in Docker.\n",
      "Output: Saved the Pytket circuit to /workspace/to_execute_qc_pytket.qasm\n",
      "Saved the Qiskit circuit to /workspace/to_execute_qc_qiskit.qasm\n",
      "Exported QASM files: [('/workspace/to_execute_qc_pytket.qasm', 'export_to_qasm_with_pytket'), ('/workspace/to_execute_qc_qiskit.qasm', 'export_to_qasm_with_qiskit')]\n",
      "Log has been saved to /workspace/to_execute_2c5abe_error.json\n",
      "\n",
      "Program to_execute.py executed successfully.\n",
      "New exception message: The circuits are not equivalent: /workspace/to_execute_qc_pytket.qasm, /workspace/to_execute_qc_qiskit.qasm\n",
      "Error parsing: Command 'python /workspace/to_execute.py' in image 'qiskit_runner' returned non-zero exit status 1: b'  File \"/workspace/to_execute.py\", line 18\\n    , custom_instructions=qasm2.LEGACY_CUSTOM_INSTRUCTIONS)\\n                                                          ^\\nSyntaxError: unmatched \\')\\'\\n'\n",
      "Failed to execute to_execute.py in Docker.\n",
      "Error parsing: Command 'python /workspace/to_execute.py' in image 'qiskit_runner' returned non-zero exit status 1: b'Traceback (most recent call last):\\n  File \"/workspace/to_execute.py\", line 10, in <module>\\n    qc = qasm2.loads(\\n  File \"/usr/local/lib/python3.10/site-packages/qiskit/qasm2/__init__.py\", line 587, in loads\\n    return _parse.from_bytecode(\\n  File \"/usr/local/lib/python3.10/site-packages/qiskit/qasm2/parse.py\", line 214, in from_bytecode\\n    for op in bc:\\nqiskit.qasm2.exceptions.QASM2ParseError: \"<input>:7,0: cannot use non-builtin custom instruction \\'ccx\\' before definition\"\\n'\n",
      "Failed to execute to_execute.py in Docker.\n",
      "Error parsing: Command 'python /workspace/to_execute.py' in image 'qiskit_runner' returned non-zero exit status 1: b'Traceback (most recent call last):\\n  File \"/workspace/to_execute.py\", line 10, in <module>\\n    qc = qasm2.loads(\\n  File \"/usr/local/lib/python3.10/site-packages/qiskit/qasm2/__init__.py\", line 587, in loads\\n    return _parse.from_bytecode(\\n  File \"/usr/local/lib/python3.10/site-packages/qiskit/qasm2/parse.py\", line 214, in from_bytecode\\n    for op in bc:\\nqiskit.qasm2.exceptions.QASM2ParseError: \"<input>:6,4: \\'reg_2_a\\' is not defined in this scope\"\\n'\n",
      "Failed to execute to_execute.py in Docker.\n",
      "Error parsing: Command 'python /workspace/to_execute.py' in image 'qiskit_runner' returned non-zero exit status 1: b'  File \"/workspace/to_execute.py\", line 10\\n    qc = qasm2.loads(\\n                    ^\\nSyntaxError: \\'(\\' was never closed\\n'\n",
      "Failed to execute to_execute.py in Docker.\n",
      "Error parsing: Command 'python /workspace/to_execute.py' in image 'qiskit_runner' returned non-zero exit status 1: b'  File \"/workspace/to_execute.py\", line 21\\n    , custom_instructions=qasm2.LEGACY_CUSTOM_INSTRUCTIONS)\\nIndentationError: unexpected indent\\n'\n",
      "Failed to execute to_execute.py in Docker.\n",
      "Error parsing: Command 'python /workspace/to_execute.py' in image 'qiskit_runner' returned non-zero exit status 1: b'  File \"/workspace/to_execute.py\", line 12\\n    include \"qelib1.inc\";\\n            ^^^^^^^^^^^^\\nSyntaxError: invalid syntax\\n'\n",
      "Failed to execute to_execute.py in Docker.\n",
      "Error parsing: Command 'python /workspace/to_execute.py' in image 'qiskit_runner' returned non-zero exit status 1: b'Traceback (most recent call last):\\n  File \"/workspace/to_execute.py\", line 10, in <module>\\n    qc = qasm2.loads(\\n  File \"/usr/local/lib/python3.10/site-packages/qiskit/qasm2/__init__.py\", line 587, in loads\\n    return _parse.from_bytecode(\\n  File \"/usr/local/lib/python3.10/site-packages/qiskit/qasm2/parse.py\", line 214, in from_bytecode\\n    for op in bc:\\nqiskit.qasm2.exceptions.QASM2ParseError: \"<input>:8,0: cannot use non-builtin custom instruction \\'ccx\\' before definition\"\\n'\n",
      "Failed to execute to_execute.py in Docker.\n",
      "Error parsing: Command 'python /workspace/to_execute.py' in image 'qiskit_runner' returned non-zero exit status 1: b'Traceback (most recent call last):\\n  File \"/workspace/to_execute.py\", line 10, in <module>\\n    qc = qasm2.loads(\\n  File \"/usr/local/lib/python3.10/site-packages/qiskit/qasm2/__init__.py\", line 587, in loads\\n    return _parse.from_bytecode(\\n  File \"/usr/local/lib/python3.10/site-packages/qiskit/qasm2/parse.py\", line 214, in from_bytecode\\n    for op in bc:\\nqiskit.qasm2.exceptions.QASM2ParseError: \"<input>:8,4: \\'reg_2_a\\' is not defined in this scope\"\\n'\n",
      "Failed to execute to_execute.py in Docker.\n",
      "Error parsing: Command 'python /workspace/to_execute.py' in image 'qiskit_runner' returned non-zero exit status 1: b'Traceback (most recent call last):\\n  File \"/workspace/to_execute.py\", line 10, in <module>\\n    qc = qasm2.loads(\\n  File \"/usr/local/lib/python3.10/site-packages/qiskit/qasm2/__init__.py\", line 587, in loads\\n    return _parse.from_bytecode(\\n  File \"/usr/local/lib/python3.10/site-packages/qiskit/qasm2/parse.py\", line 214, in from_bytecode\\n    for op in bc:\\nqiskit.qasm2.exceptions.QASM2ParseError: \"<input>:8,15: \\'reg_2_b\\' is not defined in this scope\"\\n'\n",
      "Failed to execute to_execute.py in Docker.\n",
      "Output: Saved the Pytket circuit to /workspace/to_execute_qc_pytket.qasm\n",
      "Saved the Qiskit circuit to /workspace/to_execute_qc_qiskit.qasm\n",
      "Exported QASM files: [('/workspace/to_execute_qc_pytket.qasm', 'export_to_qasm_with_pytket'), ('/workspace/to_execute_qc_qiskit.qasm', 'export_to_qasm_with_qiskit')]\n",
      "Log has been saved to /workspace/to_execute_71ef2f_error.json\n",
      "\n",
      "Program to_execute.py executed successfully.\n",
      "New exception message: The circuits are not equivalent: /workspace/to_execute_qc_pytket.qasm, /workspace/to_execute_qc_qiskit.qasm\n",
      "Error parsing: Command 'python /workspace/to_execute.py' in image 'qiskit_runner' returned non-zero exit status 1: b'  File \"/workspace/to_execute.py\", line 20\\n    , custom_instructions=qasm2.LEGACY_CUSTOM_INSTRUCTIONS)\\nIndentationError: unexpected indent\\n'\n",
      "Failed to execute to_execute.py in Docker.\n",
      "Error parsing: Command 'python /workspace/to_execute.py' in image 'qiskit_runner' returned non-zero exit status 1: b'  File \"/workspace/to_execute.py\", line 12\\n    include \"qelib1.inc\";\\n            ^^^^^^^^^^^^\\nSyntaxError: invalid syntax\\n'\n",
      "Failed to execute to_execute.py in Docker.\n",
      "Error parsing: Command 'python /workspace/to_execute.py' in image 'qiskit_runner' returned non-zero exit status 1: b'Traceback (most recent call last):\\n  File \"/workspace/to_execute.py\", line 10, in <module>\\n    qc = qasm2.loads(\\n  File \"/usr/local/lib/python3.10/site-packages/qiskit/qasm2/__init__.py\", line 587, in loads\\n    return _parse.from_bytecode(\\n  File \"/usr/local/lib/python3.10/site-packages/qiskit/qasm2/parse.py\", line 214, in from_bytecode\\n    for op in bc:\\nqiskit.qasm2.exceptions.QASM2ParseError: \"<input>:7,0: cannot use non-builtin custom instruction \\'ccx\\' before definition\"\\n'\n",
      "Failed to execute to_execute.py in Docker.\n",
      "Error parsing: Command 'python /workspace/to_execute.py' in image 'qiskit_runner' returned non-zero exit status 1: b'Traceback (most recent call last):\\n  File \"/workspace/to_execute.py\", line 10, in <module>\\n    qc = qasm2.loads(\\n  File \"/usr/local/lib/python3.10/site-packages/qiskit/qasm2/__init__.py\", line 587, in loads\\n    return _parse.from_bytecode(\\n  File \"/usr/local/lib/python3.10/site-packages/qiskit/qasm2/parse.py\", line 214, in from_bytecode\\n    for op in bc:\\nqiskit.qasm2.exceptions.QASM2ParseError: \"<input>:7,4: \\'reg_2_a\\' is not defined in this scope\"\\n'\n",
      "Failed to execute to_execute.py in Docker.\n",
      "Error parsing: Command 'python /workspace/to_execute.py' in image 'qiskit_runner' returned non-zero exit status 1: b'Traceback (most recent call last):\\n  File \"/workspace/to_execute.py\", line 10, in <module>\\n    qc = qasm2.loads(\\n  File \"/usr/local/lib/python3.10/site-packages/qiskit/qasm2/__init__.py\", line 587, in loads\\n    return _parse.from_bytecode(\\n  File \"/usr/local/lib/python3.10/site-packages/qiskit/qasm2/parse.py\", line 214, in from_bytecode\\n    for op in bc:\\nqiskit.qasm2.exceptions.QASM2ParseError: \"<input>:7,15: \\'reg_2_b\\' is not defined in this scope\"\\n'\n",
      "Failed to execute to_execute.py in Docker.\n",
      "Error parsing: Command 'python /workspace/to_execute.py' in image 'qiskit_runner' returned non-zero exit status 1: b'  File \"/workspace/to_execute.py\", line 12\\n    OPENQASM 2.0;\\n    ^^^^^^^^^^^^\\nSyntaxError: invalid syntax. Perhaps you forgot a comma?\\n'\n",
      "Failed to execute to_execute.py in Docker.\n",
      "Error parsing: Command 'python /workspace/to_execute.py' in image 'qiskit_runner' returned non-zero exit status 1: b'  File \"/workspace/to_execute.py\", line 10\\n    qc = qasm2.loads(\\n                    ^\\nSyntaxError: \\'(\\' was never closed\\n'\n",
      "Failed to execute to_execute.py in Docker.\n",
      "Error parsing: Command 'python /workspace/to_execute.py' in image 'qiskit_runner' returned non-zero exit status 1: b'  File \"/workspace/to_execute.py\", line 21\\n    , custom_instructions=qasm2.LEGACY_CUSTOM_INSTRUCTIONS)\\nIndentationError: unexpected indent\\n'\n",
      "Failed to execute to_execute.py in Docker.\n",
      "Output: Saved the Pytket circuit to /workspace/to_execute_qc_pytket.qasm\n",
      "Saved the Qiskit circuit to /workspace/to_execute_qc_qiskit.qasm\n",
      "Exported QASM files: [('/workspace/to_execute_qc_pytket.qasm', 'export_to_qasm_with_pytket'), ('/workspace/to_execute_qc_qiskit.qasm', 'export_to_qasm_with_qiskit')]\n",
      "Log has been saved to /workspace/to_execute_07037d_error.json\n",
      "\n",
      "Program to_execute.py executed successfully.\n",
      "New exception message: The circuits are not equivalent: /workspace/to_execute_qc_pytket.qasm, /workspace/to_execute_qc_qiskit.qasm\n",
      "Error parsing: Command 'python /workspace/to_execute.py' in image 'qiskit_runner' returned non-zero exit status 1: b'  File \"/workspace/to_execute.py\", line 20\\n    , custom_instructions=qasm2.LEGACY_CUSTOM_INSTRUCTIONS)\\nIndentationError: unexpected indent\\n'\n",
      "Failed to execute to_execute.py in Docker.\n",
      "Error parsing: Command 'python /workspace/to_execute.py' in image 'qiskit_runner' returned non-zero exit status 1: b'  File \"/workspace/to_execute.py\", line 11\\n    OPENQASM 2.0;\\n    ^^^^^^^^^^^^\\nSyntaxError: invalid syntax. Perhaps you forgot a comma?\\n'\n",
      "Failed to execute to_execute.py in Docker.\n",
      "Output: Saved the Pytket circuit to /workspace/to_execute_qc_pytket.qasm\n",
      "Saved the Qiskit circuit to /workspace/to_execute_qc_qiskit.qasm\n",
      "Exported QASM files: [('/workspace/to_execute_qc_pytket.qasm', 'export_to_qasm_with_pytket'), ('/workspace/to_execute_qc_qiskit.qasm', 'export_to_qasm_with_qiskit')]\n",
      "Log has been saved to /workspace/to_execute_42f483_error.json\n",
      "\n",
      "Program to_execute.py executed successfully.\n",
      "New exception message: The circuits are not equivalent: /workspace/to_execute_qc_pytket.qasm, /workspace/to_execute_qc_qiskit.qasm\n",
      "Error parsing: Command 'python /workspace/to_execute.py' in image 'qiskit_runner' returned non-zero exit status 1: b'  File \"/workspace/to_execute.py\", line 19\\n    , custom_instructions=qasm2.LEGACY_CUSTOM_INSTRUCTIONS)\\nIndentationError: unexpected indent\\n'\n",
      "Failed to execute to_execute.py in Docker.\n",
      "Error parsing: Command 'python /workspace/to_execute.py' in image 'qiskit_runner' returned non-zero exit status 1: b'  File \"/workspace/to_execute.py\", line 11\\n    include \"qelib1.inc\";\\n            ^^^^^^^^^^^^\\nSyntaxError: invalid syntax\\n'\n",
      "Failed to execute to_execute.py in Docker.\n",
      "Error parsing: Command 'python /workspace/to_execute.py' in image 'qiskit_runner' returned non-zero exit status 1: b'Traceback (most recent call last):\\n  File \"/workspace/to_execute.py\", line 10, in <module>\\n    qc = qasm2.loads(\\n  File \"/usr/local/lib/python3.10/site-packages/qiskit/qasm2/__init__.py\", line 587, in loads\\n    return _parse.from_bytecode(\\n  File \"/usr/local/lib/python3.10/site-packages/qiskit/qasm2/parse.py\", line 214, in from_bytecode\\n    for op in bc:\\nqiskit.qasm2.exceptions.QASM2ParseError: \"<input>:7,0: cannot use non-builtin custom instruction \\'ccx\\' before definition\"\\n'\n",
      "Failed to execute to_execute.py in Docker.\n",
      "Output: Saved the Pytket circuit to /workspace/to_execute_qc_pytket.qasm\n",
      "Saved the Qiskit circuit to /workspace/to_execute_qc_qiskit.qasm\n",
      "Exported QASM files: [('/workspace/to_execute_qc_pytket.qasm', 'export_to_qasm_with_pytket'), ('/workspace/to_execute_qc_qiskit.qasm', 'export_to_qasm_with_qiskit')]\n",
      "Log has been saved to /workspace/to_execute_630c08_error.json\n",
      "\n",
      "Program to_execute.py executed successfully.\n",
      "New exception message: The circuits are not equivalent: /workspace/to_execute_qc_pytket.qasm, /workspace/to_execute_qc_qiskit.qasm\n",
      "Error parsing: Command 'python /workspace/to_execute.py' in image 'qiskit_runner' returned non-zero exit status 1: b'  File \"/workspace/to_execute.py\", line 18\\n    , custom_instructions=qasm2.LEGACY_CUSTOM_INSTRUCTIONS)\\nIndentationError: unexpected indent\\n'\n",
      "Failed to execute to_execute.py in Docker.\n",
      "Error parsing: Command 'python /workspace/to_execute.py' in image 'qiskit_runner' returned non-zero exit status 1: b'  File \"/workspace/to_execute.py\", line 11\\n    include \"qelib1.inc\";\\n            ^^^^^^^^^^^^\\nSyntaxError: invalid syntax\\n'\n",
      "Failed to execute to_execute.py in Docker.\n",
      "Error parsing: Command 'python /workspace/to_execute.py' in image 'qiskit_runner' returned non-zero exit status 1: b'Traceback (most recent call last):\\n  File \"/workspace/to_execute.py\", line 10, in <module>\\n    qc = qasm2.loads(\\n  File \"/usr/local/lib/python3.10/site-packages/qiskit/qasm2/__init__.py\", line 587, in loads\\n    return _parse.from_bytecode(\\n  File \"/usr/local/lib/python3.10/site-packages/qiskit/qasm2/parse.py\", line 214, in from_bytecode\\n    for op in bc:\\nqiskit.qasm2.exceptions.QASM2ParseError: \"<input>:6,0: cannot use non-builtin custom instruction \\'ccx\\' before definition\"\\n'\n",
      "Failed to execute to_execute.py in Docker.\n",
      "Output: Saved the Pytket circuit to /workspace/to_execute_qc_pytket.qasm\n",
      "Saved the Qiskit circuit to /workspace/to_execute_qc_qiskit.qasm\n",
      "Exported QASM files: [('/workspace/to_execute_qc_pytket.qasm', 'export_to_qasm_with_pytket'), ('/workspace/to_execute_qc_qiskit.qasm', 'export_to_qasm_with_qiskit')]\n",
      "The circuits are equivalent: /workspace/to_execute_qc_pytket.qasm, /workspace/to_execute_qc_qiskit.qasm\n",
      "\n",
      "Program to_execute.py executed successfully.\n",
      "Error parsing: Command 'python /workspace/to_execute.py' in image 'qiskit_runner' returned non-zero exit status 1: b'Traceback (most recent call last):\\n  File \"/workspace/to_execute.py\", line 10, in <module>\\n    qc = qasm2.loads(\\n  File \"/usr/local/lib/python3.10/site-packages/qiskit/qasm2/__init__.py\", line 587, in loads\\n    return _parse.from_bytecode(\\n  File \"/usr/local/lib/python3.10/site-packages/qiskit/qasm2/parse.py\", line 214, in from_bytecode\\n    for op in bc:\\nqiskit.qasm2.exceptions.QASM2ParseError: \"<input>:6,4: \\'reg_2_a\\' is not defined in this scope\"\\n'\n",
      "Failed to execute to_execute.py in Docker.\n",
      "Error parsing: Command 'python /workspace/to_execute.py' in image 'qiskit_runner' returned non-zero exit status 1: b'Traceback (most recent call last):\\n  File \"/workspace/to_execute.py\", line 10, in <module>\\n    qc = qasm2.loads(\\n  File \"/usr/local/lib/python3.10/site-packages/qiskit/qasm2/__init__.py\", line 587, in loads\\n    return _parse.from_bytecode(\\n  File \"/usr/local/lib/python3.10/site-packages/qiskit/qasm2/parse.py\", line 214, in from_bytecode\\n    for op in bc:\\nqiskit.qasm2.exceptions.QASM2ParseError: \"<input>:6,15: \\'reg_2_b\\' is not defined in this scope\"\\n'\n",
      "Failed to execute to_execute.py in Docker.\n",
      "Output: Saved the Pytket circuit to /workspace/to_execute_qc_pytket.qasm\n",
      "Saved the Qiskit circuit to /workspace/to_execute_qc_qiskit.qasm\n",
      "Exported QASM files: [('/workspace/to_execute_qc_pytket.qasm', 'export_to_qasm_with_pytket'), ('/workspace/to_execute_qc_qiskit.qasm', 'export_to_qasm_with_qiskit')]\n",
      "Log has been saved to /workspace/to_execute_102dab_error.json\n",
      "\n",
      "Program to_execute.py executed successfully.\n",
      "New exception message: The circuits are not equivalent: /workspace/to_execute_qc_pytket.qasm, /workspace/to_execute_qc_qiskit.qasm\n",
      "Error parsing: Command 'python /workspace/to_execute.py' in image 'qiskit_runner' returned non-zero exit status 1: b'  File \"/workspace/to_execute.py\", line 17\\n    , custom_instructions=qasm2.LEGACY_CUSTOM_INSTRUCTIONS)\\nIndentationError: unexpected indent\\n'\n",
      "Failed to execute to_execute.py in Docker.\n",
      "Error parsing: Command 'python /workspace/to_execute.py' in image 'qiskit_runner' returned non-zero exit status 1: b'  File \"/workspace/to_execute.py\", line 11\\n    include \"qelib1.inc\";\\n            ^^^^^^^^^^^^\\nSyntaxError: invalid syntax\\n'\n",
      "Failed to execute to_execute.py in Docker.\n",
      "Error parsing: Command 'python /workspace/to_execute.py' in image 'qiskit_runner' returned non-zero exit status 1: b'Traceback (most recent call last):\\n  File \"/workspace/to_execute.py\", line 10, in <module>\\n    qc = qasm2.loads(\\n  File \"/usr/local/lib/python3.10/site-packages/qiskit/qasm2/__init__.py\", line 587, in loads\\n    return _parse.from_bytecode(\\n  File \"/usr/local/lib/python3.10/site-packages/qiskit/qasm2/parse.py\", line 214, in from_bytecode\\n    for op in bc:\\nqiskit.qasm2.exceptions.QASM2ParseError: \"<input>:5,0: cannot use non-builtin custom instruction \\'ccx\\' before definition\"\\n'\n",
      "Failed to execute to_execute.py in Docker.\n",
      "Output: Saved the Pytket circuit to /workspace/to_execute_qc_pytket.qasm\n",
      "Saved the Qiskit circuit to /workspace/to_execute_qc_qiskit.qasm\n",
      "Exported QASM files: [('/workspace/to_execute_qc_pytket.qasm', 'export_to_qasm_with_pytket'), ('/workspace/to_execute_qc_qiskit.qasm', 'export_to_qasm_with_qiskit')]\n",
      "The circuits are equivalent: /workspace/to_execute_qc_pytket.qasm, /workspace/to_execute_qc_qiskit.qasm\n",
      "\n",
      "Program to_execute.py executed successfully.\n",
      "Error parsing: Command 'python /workspace/to_execute.py' in image 'qiskit_runner' returned non-zero exit status 1: b'Traceback (most recent call last):\\n  File \"/workspace/to_execute.py\", line 10, in <module>\\n    qc = qasm2.loads(\\n  File \"/usr/local/lib/python3.10/site-packages/qiskit/qasm2/__init__.py\", line 587, in loads\\n    return _parse.from_bytecode(\\n  File \"/usr/local/lib/python3.10/site-packages/qiskit/qasm2/parse.py\", line 214, in from_bytecode\\n    for op in bc:\\nqiskit.qasm2.exceptions.QASM2ParseError: \"<input>:5,4: \\'reg_2_a\\' is not defined in this scope\"\\n'\n",
      "Failed to execute to_execute.py in Docker.\n",
      "Error parsing: Command 'python /workspace/to_execute.py' in image 'qiskit_runner' returned non-zero exit status 1: b'Traceback (most recent call last):\\n  File \"/workspace/to_execute.py\", line 10, in <module>\\n    qc = qasm2.loads(\\n  File \"/usr/local/lib/python3.10/site-packages/qiskit/qasm2/__init__.py\", line 587, in loads\\n    return _parse.from_bytecode(\\n  File \"/usr/local/lib/python3.10/site-packages/qiskit/qasm2/parse.py\", line 214, in from_bytecode\\n    for op in bc:\\nqiskit.qasm2.exceptions.QASM2ParseError: \"<input>:5,15: \\'reg_2_b\\' is not defined in this scope\"\\n'\n",
      "Failed to execute to_execute.py in Docker.\n",
      "Output: Saved the Pytket circuit to /workspace/to_execute_qc_pytket.qasm\n",
      "Saved the Qiskit circuit to /workspace/to_execute_qc_qiskit.qasm\n",
      "Exported QASM files: [('/workspace/to_execute_qc_pytket.qasm', 'export_to_qasm_with_pytket'), ('/workspace/to_execute_qc_qiskit.qasm', 'export_to_qasm_with_qiskit')]\n",
      "The circuits are equivalent: /workspace/to_execute_qc_pytket.qasm, /workspace/to_execute_qc_qiskit.qasm\n",
      "\n",
      "Program to_execute.py executed successfully.\n",
      "Error parsing: Command 'python /workspace/to_execute.py' in image 'qiskit_runner' returned non-zero exit status 1: b'  File \"/workspace/to_execute.py\", line 11\\n    include \"qelib1.inc\";\\n            ^^^^^^^^^^^^\\nSyntaxError: invalid syntax\\n'\n",
      "Failed to execute to_execute.py in Docker.\n",
      "Error parsing: Command 'python /workspace/to_execute.py' in image 'qiskit_runner' returned non-zero exit status 1: b'  File \"/workspace/to_execute.py\", line 10\\n    qc = qasm2.loads(\\n                    ^\\nSyntaxError: \\'(\\' was never closed\\n'\n",
      "Failed to execute to_execute.py in Docker.\n"
     ]
    },
    {
     "data": {
      "text/html": [
       "<pre style=\"white-space:pre;overflow-x:auto;line-height:normal;font-family:Menlo,'DejaVu Sans Mono',consolas,'Courier New',monospace\"><span style=\"color: #7fbfbf; text-decoration-color: #7fbfbf\">[15:05:37] </span><span style=\"color: #008000; text-decoration-color: #008000\">Minimized file saved as:</span>                                                        <a href=\"file:///home/paltenmo/projects/crossplatform/analysis_and_reporting/ddmin_target_file.py\" target=\"_blank\"><span style=\"color: #7f7f7f; text-decoration-color: #7f7f7f\">ddmin_target_file.py</span></a><span style=\"color: #7f7f7f; text-decoration-color: #7f7f7f\">:</span><a href=\"file:///home/paltenmo/projects/crossplatform/analysis_and_reporting/ddmin_target_file.py#240\" target=\"_blank\"><span style=\"color: #7f7f7f; text-decoration-color: #7f7f7f\">240</span></a>\n",
       "<span style=\"color: #7fbfbf; text-decoration-color: #7fbfbf\">           </span>..<span style=\"color: #800080; text-decoration-color: #800080\">/reports/v009/2024_11_21__15_01/</span><span style=\"color: #ff00ff; text-decoration-color: #ff00ff\">qiskit_circuit_5q_10g_4756_28bbeb_444f6d_erro</span> <span style=\"color: #7f7f7f; text-decoration-color: #7f7f7f\">                        </span>\n",
       "<span style=\"color: #7fbfbf; text-decoration-color: #7fbfbf\">           </span><span style=\"color: #ff00ff; text-decoration-color: #ff00ff\">r_min.py</span>                                                                        <span style=\"color: #7f7f7f; text-decoration-color: #7f7f7f\">                        </span>\n",
       "</pre>\n"
      ],
      "text/plain": [
       "\u001b[2;36m[15:05:37]\u001b[0m\u001b[2;36m \u001b[0m\u001b[32mMinimized file saved as:\u001b[0m                                                        \u001b]8;id=374591;file:///home/paltenmo/projects/crossplatform/analysis_and_reporting/ddmin_target_file.py\u001b\\\u001b[2mddmin_target_file.py\u001b[0m\u001b]8;;\u001b\\\u001b[2m:\u001b[0m\u001b]8;id=992044;file:///home/paltenmo/projects/crossplatform/analysis_and_reporting/ddmin_target_file.py#240\u001b\\\u001b[2m240\u001b[0m\u001b]8;;\u001b\\\n",
       "\u001b[2;36m           \u001b[0m..\u001b[35m/reports/v009/2024_11_21__15_01/\u001b[0m\u001b[95mqiskit_circuit_5q_10g_4756_28bbeb_444f6d_erro\u001b[0m \u001b[2m                        \u001b[0m\n",
       "\u001b[2;36m           \u001b[0m\u001b[95mr_min.py\u001b[0m                                                                        \u001b[2m                        \u001b[0m\n"
      ]
     },
     "metadata": {},
     "output_type": "display_data"
    },
    {
     "name": "stdout",
     "output_type": "stream",
     "text": [
      "Output: Saved the Pytket circuit to /workspace/qiskit_circuit_5q_10g_4756_28bbeb_444f6d_error_min_qc_pytket.qasm\n",
      "Saved the Qiskit circuit to /workspace/qiskit_circuit_5q_10g_4756_28bbeb_444f6d_error_min_qc_qiskit.qasm\n",
      "Exported QASM files: [('/workspace/qiskit_circuit_5q_10g_4756_28bbeb_444f6d_error_min_qc_pytket.qasm', 'export_to_qasm_with_pytket'), ('/workspace/qiskit_circuit_5q_10g_4756_28bbeb_444f6d_error_min_qc_qiskit.qasm', 'export_to_qasm_with_qiskit')]\n",
      "Log has been saved to /workspace/qiskit_circuit_5q_10g_4756_28bbeb_444f6d_error_min_f825ac_error.json\n",
      "\n"
     ]
    },
    {
     "data": {
      "text/html": [
       "<pre style=\"white-space:pre;overflow-x:auto;line-height:normal;font-family:Menlo,'DejaVu Sans Mono',consolas,'Courier New',monospace\"><span style=\"color: #7fbfbf; text-decoration-color: #7fbfbf\">[15:05:44] </span>Program qiskit_circuit_5q_10g_4756_28bbeb_444f6d_error_min.py executed              <a href=\"file:///home/paltenmo/projects/crossplatform/generators/docker_tooling.py\" target=\"_blank\"><span style=\"color: #7f7f7f; text-decoration-color: #7f7f7f\">docker_tooling.py</span></a><span style=\"color: #7f7f7f; text-decoration-color: #7f7f7f\">:</span><a href=\"file:///home/paltenmo/projects/crossplatform/generators/docker_tooling.py#46\" target=\"_blank\"><span style=\"color: #7f7f7f; text-decoration-color: #7f7f7f\">46</span></a>\n",
       "<span style=\"color: #7fbfbf; text-decoration-color: #7fbfbf\">           </span>successfully.                                                                       <span style=\"color: #7f7f7f; text-decoration-color: #7f7f7f\">                    </span>\n",
       "</pre>\n"
      ],
      "text/plain": [
       "\u001b[2;36m[15:05:44]\u001b[0m\u001b[2;36m \u001b[0mProgram qiskit_circuit_5q_10g_4756_28bbeb_444f6d_error_min.py executed              \u001b]8;id=433034;file:///home/paltenmo/projects/crossplatform/generators/docker_tooling.py\u001b\\\u001b[2mdocker_tooling.py\u001b[0m\u001b]8;;\u001b\\\u001b[2m:\u001b[0m\u001b]8;id=249443;file:///home/paltenmo/projects/crossplatform/generators/docker_tooling.py#46\u001b\\\u001b[2m46\u001b[0m\u001b]8;;\u001b\\\n",
       "\u001b[2;36m           \u001b[0msuccessfully.                                                                       \u001b[2m                    \u001b[0m\n"
      ]
     },
     "metadata": {},
     "output_type": "display_data"
    },
    {
     "data": {
      "application/vnd.jupyter.widget-view+json": {
       "model_id": "592ddfe806364549ab47ffe951384b2c",
       "version_major": 2,
       "version_minor": 0
      },
      "text/plain": [
       "Executing:   0%|          | 0/13 [00:00<?, ?cell/s]"
      ]
     },
     "metadata": {},
     "output_type": "display_data"
    },
    {
     "data": {
      "text/html": [
       "<pre style=\"white-space:pre;overflow-x:auto;line-height:normal;font-family:Menlo,'DejaVu Sans Mono',consolas,'Courier New',monospace\"><span style=\"color: #7fbfbf; text-decoration-color: #7fbfbf\">[15:05:47] </span>Analysis notebook executed: ..<span style=\"color: #800080; text-decoration-color: #800080\">/reports/v009/2024_11_21__15_01/</span><span style=\"color: #ff00ff; text-decoration-color: #ff00ff\">analysis_output.ipynb</span>        <a href=\"file:///home/paltenmo/projects/crossplatform/analysis_and_reporting/triage.py\" target=\"_blank\"><span style=\"color: #7f7f7f; text-decoration-color: #7f7f7f\">triage.py</span></a><span style=\"color: #7f7f7f; text-decoration-color: #7f7f7f\">:</span><a href=\"file:///home/paltenmo/projects/crossplatform/analysis_and_reporting/triage.py#163\" target=\"_blank\"><span style=\"color: #7f7f7f; text-decoration-color: #7f7f7f\">163</span></a>\n",
       "</pre>\n"
      ],
      "text/plain": [
       "\u001b[2;36m[15:05:47]\u001b[0m\u001b[2;36m \u001b[0mAnalysis notebook executed: ..\u001b[35m/reports/v009/2024_11_21__15_01/\u001b[0m\u001b[95manalysis_output.ipynb\u001b[0m        \u001b]8;id=422346;file:///home/paltenmo/projects/crossplatform/analysis_and_reporting/triage.py\u001b\\\u001b[2mtriage.py\u001b[0m\u001b]8;;\u001b\\\u001b[2m:\u001b[0m\u001b]8;id=756250;file:///home/paltenmo/projects/crossplatform/analysis_and_reporting/triage.py#163\u001b\\\u001b[2m163\u001b[0m\u001b]8;;\u001b\\\n"
      ]
     },
     "metadata": {},
     "output_type": "display_data"
    },
    {
     "data": {
      "text/html": [
       "<pre style=\"white-space:pre;overflow-x:auto;line-height:normal;font-family:Menlo,'DejaVu Sans Mono',consolas,'Courier New',monospace\"><span style=\"color: #7fbfbf; text-decoration-color: #7fbfbf\">           </span>Created report folder: ..<span style=\"color: #800080; text-decoration-color: #800080\">/reports/v009/</span><span style=\"color: #ff00ff; text-decoration-color: #ff00ff\">2024_11_21__15_05</span>                                   <a href=\"file:///home/paltenmo/projects/crossplatform/analysis_and_reporting/triage.py\" target=\"_blank\"><span style=\"color: #7f7f7f; text-decoration-color: #7f7f7f\">triage.py</span></a><span style=\"color: #7f7f7f; text-decoration-color: #7f7f7f\">:</span><a href=\"file:///home/paltenmo/projects/crossplatform/analysis_and_reporting/triage.py#131\" target=\"_blank\"><span style=\"color: #7f7f7f; text-decoration-color: #7f7f7f\">131</span></a>\n",
       "</pre>\n"
      ],
      "text/plain": [
       "\u001b[2;36m          \u001b[0m\u001b[2;36m \u001b[0mCreated report folder: ..\u001b[35m/reports/v009/\u001b[0m\u001b[95m2024_11_21__15_05\u001b[0m                                   \u001b]8;id=665387;file:///home/paltenmo/projects/crossplatform/analysis_and_reporting/triage.py\u001b\\\u001b[2mtriage.py\u001b[0m\u001b]8;;\u001b\\\u001b[2m:\u001b[0m\u001b]8;id=876487;file:///home/paltenmo/projects/crossplatform/analysis_and_reporting/triage.py#131\u001b\\\u001b[2m131\u001b[0m\u001b]8;;\u001b\\\n"
      ]
     },
     "metadata": {},
     "output_type": "display_data"
    },
    {
     "data": {
      "text/html": [
       "<pre style=\"white-space:pre;overflow-x:auto;line-height:normal;font-family:Menlo,'DejaVu Sans Mono',consolas,'Courier New',monospace\"><span style=\"color: #7fbfbf; text-decoration-color: #7fbfbf\">           </span>Copied files to: ..<span style=\"color: #800080; text-decoration-color: #800080\">/reports/v009/</span><span style=\"color: #ff00ff; text-decoration-color: #ff00ff\">2024_11_21__15_05</span>                                         <a href=\"file:///home/paltenmo/projects/crossplatform/analysis_and_reporting/triage.py\" target=\"_blank\"><span style=\"color: #7f7f7f; text-decoration-color: #7f7f7f\">triage.py</span></a><span style=\"color: #7f7f7f; text-decoration-color: #7f7f7f\">:</span><a href=\"file:///home/paltenmo/projects/crossplatform/analysis_and_reporting/triage.py#140\" target=\"_blank\"><span style=\"color: #7f7f7f; text-decoration-color: #7f7f7f\">140</span></a>\n",
       "</pre>\n"
      ],
      "text/plain": [
       "\u001b[2;36m          \u001b[0m\u001b[2;36m \u001b[0mCopied files to: ..\u001b[35m/reports/v009/\u001b[0m\u001b[95m2024_11_21__15_05\u001b[0m                                         \u001b]8;id=646824;file:///home/paltenmo/projects/crossplatform/analysis_and_reporting/triage.py\u001b\\\u001b[2mtriage.py\u001b[0m\u001b]8;;\u001b\\\u001b[2m:\u001b[0m\u001b]8;id=991856;file:///home/paltenmo/projects/crossplatform/analysis_and_reporting/triage.py#140\u001b\\\u001b[2m140\u001b[0m\u001b]8;;\u001b\\\n"
      ]
     },
     "metadata": {},
     "output_type": "display_data"
    },
    {
     "data": {
      "text/html": [
       "<pre style=\"white-space:pre;overflow-x:auto;line-height:normal;font-family:Menlo,'DejaVu Sans Mono',consolas,'Courier New',monospace\"><span style=\"color: #7fbfbf; text-decoration-color: #7fbfbf\">[15:05:47] </span>Involved functions:                                                             <a href=\"file:///home/paltenmo/projects/crossplatform/analysis_and_reporting/ddmin_target_file.py\" target=\"_blank\"><span style=\"color: #7f7f7f; text-decoration-color: #7f7f7f\">ddmin_target_file.py</span></a><span style=\"color: #7f7f7f; text-decoration-color: #7f7f7f\">:</span><a href=\"file:///home/paltenmo/projects/crossplatform/analysis_and_reporting/ddmin_target_file.py#206\" target=\"_blank\"><span style=\"color: #7f7f7f; text-decoration-color: #7f7f7f\">206</span></a>\n",
       "</pre>\n"
      ],
      "text/plain": [
       "\u001b[2;36m[15:05:47]\u001b[0m\u001b[2;36m \u001b[0mInvolved functions:                                                             \u001b]8;id=436472;file:///home/paltenmo/projects/crossplatform/analysis_and_reporting/ddmin_target_file.py\u001b\\\u001b[2mddmin_target_file.py\u001b[0m\u001b]8;;\u001b\\\u001b[2m:\u001b[0m\u001b]8;id=693447;file:///home/paltenmo/projects/crossplatform/analysis_and_reporting/ddmin_target_file.py#206\u001b\\\u001b[2m206\u001b[0m\u001b]8;;\u001b\\\n"
      ]
     },
     "metadata": {},
     "output_type": "display_data"
    },
    {
     "data": {
      "text/html": [
       "<pre style=\"white-space:pre;overflow-x:auto;line-height:normal;font-family:Menlo,'DejaVu Sans Mono',consolas,'Courier New',monospace\"><span style=\"color: #7fbfbf; text-decoration-color: #7fbfbf\">           </span>  - compare_qasm_via_qcec                                                       <a href=\"file:///home/paltenmo/projects/crossplatform/analysis_and_reporting/ddmin_target_file.py\" target=\"_blank\"><span style=\"color: #7f7f7f; text-decoration-color: #7f7f7f\">ddmin_target_file.py</span></a><span style=\"color: #7f7f7f; text-decoration-color: #7f7f7f\">:</span><a href=\"file:///home/paltenmo/projects/crossplatform/analysis_and_reporting/ddmin_target_file.py#208\" target=\"_blank\"><span style=\"color: #7f7f7f; text-decoration-color: #7f7f7f\">208</span></a>\n",
       "</pre>\n"
      ],
      "text/plain": [
       "\u001b[2;36m          \u001b[0m\u001b[2;36m \u001b[0m  - compare_qasm_via_qcec                                                       \u001b]8;id=2387;file:///home/paltenmo/projects/crossplatform/analysis_and_reporting/ddmin_target_file.py\u001b\\\u001b[2mddmin_target_file.py\u001b[0m\u001b]8;;\u001b\\\u001b[2m:\u001b[0m\u001b]8;id=272413;file:///home/paltenmo/projects/crossplatform/analysis_and_reporting/ddmin_target_file.py#208\u001b\\\u001b[2m208\u001b[0m\u001b]8;;\u001b\\\n"
      ]
     },
     "metadata": {},
     "output_type": "display_data"
    },
    {
     "data": {
      "text/html": [
       "<pre style=\"white-space:pre;overflow-x:auto;line-height:normal;font-family:Menlo,'DejaVu Sans Mono',consolas,'Courier New',monospace\"><span style=\"color: #7fbfbf; text-decoration-color: #7fbfbf\">           </span>  - export_to_qasm_with_pytket                                                  <a href=\"file:///home/paltenmo/projects/crossplatform/analysis_and_reporting/ddmin_target_file.py\" target=\"_blank\"><span style=\"color: #7f7f7f; text-decoration-color: #7f7f7f\">ddmin_target_file.py</span></a><span style=\"color: #7f7f7f; text-decoration-color: #7f7f7f\">:</span><a href=\"file:///home/paltenmo/projects/crossplatform/analysis_and_reporting/ddmin_target_file.py#208\" target=\"_blank\"><span style=\"color: #7f7f7f; text-decoration-color: #7f7f7f\">208</span></a>\n",
       "</pre>\n"
      ],
      "text/plain": [
       "\u001b[2;36m          \u001b[0m\u001b[2;36m \u001b[0m  - export_to_qasm_with_pytket                                                  \u001b]8;id=543962;file:///home/paltenmo/projects/crossplatform/analysis_and_reporting/ddmin_target_file.py\u001b\\\u001b[2mddmin_target_file.py\u001b[0m\u001b]8;;\u001b\\\u001b[2m:\u001b[0m\u001b]8;id=975384;file:///home/paltenmo/projects/crossplatform/analysis_and_reporting/ddmin_target_file.py#208\u001b\\\u001b[2m208\u001b[0m\u001b]8;;\u001b\\\n"
      ]
     },
     "metadata": {},
     "output_type": "display_data"
    },
    {
     "data": {
      "text/html": [
       "<pre style=\"white-space:pre;overflow-x:auto;line-height:normal;font-family:Menlo,'DejaVu Sans Mono',consolas,'Courier New',monospace\"><span style=\"color: #7fbfbf; text-decoration-color: #7fbfbf\">           </span>  - export_to_qasm_with_qiskit                                                  <a href=\"file:///home/paltenmo/projects/crossplatform/analysis_and_reporting/ddmin_target_file.py\" target=\"_blank\"><span style=\"color: #7f7f7f; text-decoration-color: #7f7f7f\">ddmin_target_file.py</span></a><span style=\"color: #7f7f7f; text-decoration-color: #7f7f7f\">:</span><a href=\"file:///home/paltenmo/projects/crossplatform/analysis_and_reporting/ddmin_target_file.py#208\" target=\"_blank\"><span style=\"color: #7f7f7f; text-decoration-color: #7f7f7f\">208</span></a>\n",
       "</pre>\n"
      ],
      "text/plain": [
       "\u001b[2;36m          \u001b[0m\u001b[2;36m \u001b[0m  - export_to_qasm_with_qiskit                                                  \u001b]8;id=819219;file:///home/paltenmo/projects/crossplatform/analysis_and_reporting/ddmin_target_file.py\u001b\\\u001b[2mddmin_target_file.py\u001b[0m\u001b]8;;\u001b\\\u001b[2m:\u001b[0m\u001b]8;id=873876;file:///home/paltenmo/projects/crossplatform/analysis_and_reporting/ddmin_target_file.py#208\u001b\\\u001b[2m208\u001b[0m\u001b]8;;\u001b\\\n"
      ]
     },
     "metadata": {},
     "output_type": "display_data"
    },
    {
     "name": "stdout",
     "output_type": "stream",
     "text": [
      "Error parsing: Command 'python /workspace/to_execute.py' in image 'qiskit_runner' returned non-zero exit status 1: b'Traceback (most recent call last):\\n  File \"/workspace/to_execute.py\", line 105, in <module>\\n    target_qc = qc\\nNameError: name \\'qc\\' is not defined\\n'\n",
      "Failed to execute to_execute.py in Docker.\n",
      "Output: Saved the Pytket circuit to /workspace/to_execute_qc_pytket.qasm\n",
      "Saved the Qiskit circuit to /workspace/to_execute_qc_qiskit.qasm\n",
      "Exported QASM files: [('/workspace/to_execute_qc_pytket.qasm', 'export_to_qasm_with_pytket'), ('/workspace/to_execute_qc_qiskit.qasm', 'export_to_qasm_with_qiskit')]\n",
      "Log has been saved to /workspace/to_execute_e6b864_error.json\n",
      "\n",
      "Program to_execute.py executed successfully.\n",
      "New exception message: The circuits are not equivalent: /workspace/to_execute_qc_pytket.qasm, /workspace/to_execute_qc_qiskit.qasm\n",
      "Error parsing: Command 'python /workspace/to_execute.py' in image 'qiskit_runner' returned non-zero exit status 1: b'  File \"/workspace/to_execute.py\", line 18\\n    , custom_instructions=qasm2.LEGACY_CUSTOM_INSTRUCTIONS)\\n                                                          ^\\nSyntaxError: unmatched \\')\\'\\n'\n",
      "Failed to execute to_execute.py in Docker.\n",
      "Error parsing: Command 'python /workspace/to_execute.py' in image 'qiskit_runner' returned non-zero exit status 1: b'  File \"/workspace/to_execute.py\", line 10\\n    qc = qasm2.loads(\\n                    ^\\nSyntaxError: \\'(\\' was never closed\\n'\n",
      "Failed to execute to_execute.py in Docker.\n",
      "Error parsing: Command 'python /workspace/to_execute.py' in image 'qiskit_runner' returned non-zero exit status 1: b'  File \"/workspace/to_execute.py\", line 25\\n    , custom_instructions=qasm2.LEGACY_CUSTOM_INSTRUCTIONS)\\n                                                          ^\\nSyntaxError: unmatched \\')\\'\\n'\n",
      "Failed to execute to_execute.py in Docker.\n",
      "Error parsing: Command 'python /workspace/to_execute.py' in image 'qiskit_runner' returned non-zero exit status 1: b'Traceback (most recent call last):\\n  File \"/workspace/to_execute.py\", line 10, in <module>\\n    qc = qasm2.loads(\\n  File \"/usr/local/lib/python3.10/site-packages/qiskit/qasm2/__init__.py\", line 587, in loads\\n    return _parse.from_bytecode(\\n  File \"/usr/local/lib/python3.10/site-packages/qiskit/qasm2/parse.py\", line 214, in from_bytecode\\n    for op in bc:\\nqiskit.qasm2.exceptions.QASM2ParseError: \"<input>:10,3: \\'reg_2_a\\' is not defined in this scope\"\\n'\n",
      "Failed to execute to_execute.py in Docker.\n",
      "Output: Saved the Pytket circuit to /workspace/to_execute_qc_pytket.qasm\n",
      "Saved the Qiskit circuit to /workspace/to_execute_qc_qiskit.qasm\n",
      "Exported QASM files: [('/workspace/to_execute_qc_pytket.qasm', 'export_to_qasm_with_pytket'), ('/workspace/to_execute_qc_qiskit.qasm', 'export_to_qasm_with_qiskit')]\n",
      "Log has been saved to /workspace/to_execute_e04e92_error.json\n",
      "\n",
      "Program to_execute.py executed successfully.\n",
      "New exception message: The circuits are not equivalent: /workspace/to_execute_qc_pytket.qasm, /workspace/to_execute_qc_qiskit.qasm\n",
      "Error parsing: Command 'python /workspace/to_execute.py' in image 'qiskit_runner' returned non-zero exit status 1: b'  File \"/workspace/to_execute.py\", line 19\\n    , custom_instructions=qasm2.LEGACY_CUSTOM_INSTRUCTIONS)\\n                                                          ^\\nSyntaxError: unmatched \\')\\'\\n'\n",
      "Failed to execute to_execute.py in Docker.\n",
      "Error parsing: Command 'python /workspace/to_execute.py' in image 'qiskit_runner' returned non-zero exit status 1: b'Traceback (most recent call last):\\n  File \"/workspace/to_execute.py\", line 10, in <module>\\n    qc = qasm2.loads(\\n  File \"/usr/local/lib/python3.10/site-packages/qiskit/qasm2/__init__.py\", line 587, in loads\\n    return _parse.from_bytecode(\\n  File \"/usr/local/lib/python3.10/site-packages/qiskit/qasm2/parse.py\", line 214, in from_bytecode\\n    for op in bc:\\nqiskit.qasm2.exceptions.QASM2ParseError: \"<input>:4,3: \\'reg_2_a\\' is not defined in this scope\"\\n'\n",
      "Failed to execute to_execute.py in Docker.\n",
      "Error parsing: Command 'python /workspace/to_execute.py' in image 'qiskit_runner' returned non-zero exit status 1: b'  File \"/workspace/to_execute.py\", line 10\\n    qc = qasm2.loads(\\n                    ^\\nSyntaxError: \\'(\\' was never closed\\n'\n",
      "Failed to execute to_execute.py in Docker.\n",
      "Error parsing: Command 'python /workspace/to_execute.py' in image 'qiskit_runner' returned non-zero exit status 1: b'  File \"/workspace/to_execute.py\", line 21\\n    , custom_instructions=qasm2.LEGACY_CUSTOM_INSTRUCTIONS)\\n                                                          ^\\nSyntaxError: unmatched \\')\\'\\n'\n",
      "Failed to execute to_execute.py in Docker.\n",
      "Error parsing: Command 'python /workspace/to_execute.py' in image 'qiskit_runner' returned non-zero exit status 1: b'Traceback (most recent call last):\\n  File \"/workspace/to_execute.py\", line 10, in <module>\\n    qc = qasm2.loads(\\n  File \"/usr/local/lib/python3.10/site-packages/qiskit/qasm2/__init__.py\", line 587, in loads\\n    return _parse.from_bytecode(\\n  File \"/usr/local/lib/python3.10/site-packages/qiskit/qasm2/parse.py\", line 214, in from_bytecode\\n    for op in bc:\\nqiskit.qasm2.exceptions.QASM2ParseError: \"<input>:6,0: cannot use non-builtin custom instruction \\'z\\' before definition\"\\n'\n",
      "Failed to execute to_execute.py in Docker.\n",
      "Error parsing: Command 'python /workspace/to_execute.py' in image 'qiskit_runner' returned non-zero exit status 1: b'Traceback (most recent call last):\\n  File \"/workspace/to_execute.py\", line 10, in <module>\\n    qc = qasm2.loads(\\n  File \"/usr/local/lib/python3.10/site-packages/qiskit/qasm2/__init__.py\", line 587, in loads\\n    return _parse.from_bytecode(\\n  File \"/usr/local/lib/python3.10/site-packages/qiskit/qasm2/parse.py\", line 214, in from_bytecode\\n    for op in bc:\\nqiskit.qasm2.exceptions.QASM2ParseError: \"<input>:7,3: \\'reg_2_a\\' is not defined in this scope\"\\n'\n",
      "Failed to execute to_execute.py in Docker.\n",
      "Output: Saved the Pytket circuit to /workspace/to_execute_qc_pytket.qasm\n",
      "Saved the Qiskit circuit to /workspace/to_execute_qc_qiskit.qasm\n",
      "Exported QASM files: [('/workspace/to_execute_qc_pytket.qasm', 'export_to_qasm_with_pytket'), ('/workspace/to_execute_qc_qiskit.qasm', 'export_to_qasm_with_qiskit')]\n",
      "Log has been saved to /workspace/to_execute_8acb11_error.json\n",
      "\n",
      "Program to_execute.py executed successfully.\n",
      "New exception message: The circuits are not equivalent: /workspace/to_execute_qc_pytket.qasm, /workspace/to_execute_qc_qiskit.qasm\n",
      "Error parsing: Command 'python /workspace/to_execute.py' in image 'qiskit_runner' returned non-zero exit status 1: b'  File \"/workspace/to_execute.py\", line 19\\n    , custom_instructions=qasm2.LEGACY_CUSTOM_INSTRUCTIONS)\\n                                                          ^\\nSyntaxError: unmatched \\')\\'\\n'\n",
      "Failed to execute to_execute.py in Docker.\n",
      "Error parsing: Command 'python /workspace/to_execute.py' in image 'qiskit_runner' returned non-zero exit status 1: b'Traceback (most recent call last):\\n  File \"/workspace/to_execute.py\", line 10, in <module>\\n    qc = qasm2.loads(\\n  File \"/usr/local/lib/python3.10/site-packages/qiskit/qasm2/__init__.py\", line 587, in loads\\n    return _parse.from_bytecode(\\n  File \"/usr/local/lib/python3.10/site-packages/qiskit/qasm2/parse.py\", line 214, in from_bytecode\\n    for op in bc:\\nqiskit.qasm2.exceptions.QASM2ParseError: \"<input>:5,0: cannot use non-builtin custom instruction \\'cx\\' before definition\"\\n'\n",
      "Failed to execute to_execute.py in Docker.\n",
      "Error parsing: Command 'python /workspace/to_execute.py' in image 'qiskit_runner' returned non-zero exit status 1: b'Traceback (most recent call last):\\n  File \"/workspace/to_execute.py\", line 10, in <module>\\n    qc = qasm2.loads(\\n  File \"/usr/local/lib/python3.10/site-packages/qiskit/qasm2/__init__.py\", line 587, in loads\\n    return _parse.from_bytecode(\\n  File \"/usr/local/lib/python3.10/site-packages/qiskit/qasm2/parse.py\", line 214, in from_bytecode\\n    for op in bc:\\nqiskit.qasm2.exceptions.QASM2ParseError: \"<input>:5,3: \\'reg_2_a\\' is not defined in this scope\"\\n'\n",
      "Failed to execute to_execute.py in Docker.\n",
      "Output: Saved the Pytket circuit to /workspace/to_execute_qc_pytket.qasm\n",
      "Saved the Qiskit circuit to /workspace/to_execute_qc_qiskit.qasm\n",
      "Exported QASM files: [('/workspace/to_execute_qc_pytket.qasm', 'export_to_qasm_with_pytket'), ('/workspace/to_execute_qc_qiskit.qasm', 'export_to_qasm_with_qiskit')]\n",
      "The circuits are equivalent: /workspace/to_execute_qc_pytket.qasm, /workspace/to_execute_qc_qiskit.qasm\n",
      "\n",
      "Program to_execute.py executed successfully.\n",
      "Error parsing: Command 'python /workspace/to_execute.py' in image 'qiskit_runner' returned non-zero exit status 1: b'  File \"/workspace/to_execute.py\", line 10\\n    qc = qasm2.loads(\\n                    ^\\nSyntaxError: \\'(\\' was never closed\\n'\n",
      "Failed to execute to_execute.py in Docker.\n",
      "Error parsing: Command 'python /workspace/to_execute.py' in image 'qiskit_runner' returned non-zero exit status 1: b'  File \"/workspace/to_execute.py\", line 22\\n    , custom_instructions=qasm2.LEGACY_CUSTOM_INSTRUCTIONS)\\nIndentationError: unexpected indent\\n'\n",
      "Failed to execute to_execute.py in Docker.\n",
      "Output: Saved the Pytket circuit to /workspace/to_execute_qc_pytket.qasm\n",
      "Saved the Qiskit circuit to /workspace/to_execute_qc_qiskit.qasm\n",
      "Exported QASM files: [('/workspace/to_execute_qc_pytket.qasm', 'export_to_qasm_with_pytket'), ('/workspace/to_execute_qc_qiskit.qasm', 'export_to_qasm_with_qiskit')]\n",
      "Log has been saved to /workspace/to_execute_34d7f2_error.json\n",
      "\n",
      "Program to_execute.py executed successfully.\n",
      "New exception message: The circuits are not equivalent: /workspace/to_execute_qc_pytket.qasm, /workspace/to_execute_qc_qiskit.qasm\n",
      "Error parsing: Command 'python /workspace/to_execute.py' in image 'qiskit_runner' returned non-zero exit status 1: b'  File \"/workspace/to_execute.py\", line 21\\n    , custom_instructions=qasm2.LEGACY_CUSTOM_INSTRUCTIONS)\\nIndentationError: unexpected indent\\n'\n",
      "Failed to execute to_execute.py in Docker.\n",
      "Error parsing: Command 'python /workspace/to_execute.py' in image 'qiskit_runner' returned non-zero exit status 1: b'  File \"/workspace/to_execute.py\", line 11\\n    include \"qelib1.inc\";\\n            ^^^^^^^^^^^^\\nSyntaxError: invalid syntax\\n'\n",
      "Failed to execute to_execute.py in Docker.\n",
      "Error parsing: Command 'python /workspace/to_execute.py' in image 'qiskit_runner' returned non-zero exit status 1: b'Traceback (most recent call last):\\n  File \"/workspace/to_execute.py\", line 10, in <module>\\n    qc = qasm2.loads(\\n  File \"/usr/local/lib/python3.10/site-packages/qiskit/qasm2/__init__.py\", line 587, in loads\\n    return _parse.from_bytecode(\\n  File \"/usr/local/lib/python3.10/site-packages/qiskit/qasm2/parse.py\", line 214, in from_bytecode\\n    for op in bc:\\nqiskit.qasm2.exceptions.QASM2ParseError: \"<input>:7,0: cannot use non-builtin custom instruction \\'cx\\' before definition\"\\n'\n",
      "Failed to execute to_execute.py in Docker.\n",
      "Error parsing: Command 'python /workspace/to_execute.py' in image 'qiskit_runner' returned non-zero exit status 1: b'Traceback (most recent call last):\\n  File \"/workspace/to_execute.py\", line 10, in <module>\\n    qc = qasm2.loads(\\n  File \"/usr/local/lib/python3.10/site-packages/qiskit/qasm2/__init__.py\", line 587, in loads\\n    return _parse.from_bytecode(\\n  File \"/usr/local/lib/python3.10/site-packages/qiskit/qasm2/parse.py\", line 214, in from_bytecode\\n    for op in bc:\\nqiskit.qasm2.exceptions.QASM2ParseError: \"<input>:7,14: \\'reg_2_cin\\' is not defined in this scope\"\\n'\n",
      "Failed to execute to_execute.py in Docker.\n",
      "Error parsing: Command 'python /workspace/to_execute.py' in image 'qiskit_runner' returned non-zero exit status 1: b'Traceback (most recent call last):\\n  File \"/workspace/to_execute.py\", line 10, in <module>\\n    qc = qasm2.loads(\\n  File \"/usr/local/lib/python3.10/site-packages/qiskit/qasm2/__init__.py\", line 587, in loads\\n    return _parse.from_bytecode(\\n  File \"/usr/local/lib/python3.10/site-packages/qiskit/qasm2/parse.py\", line 214, in from_bytecode\\n    for op in bc:\\nqiskit.qasm2.exceptions.QASM2ParseError: \"<input>:7,3: \\'reg_2_a\\' is not defined in this scope\"\\n'\n",
      "Failed to execute to_execute.py in Docker.\n",
      "Error parsing: Command 'python /workspace/to_execute.py' in image 'qiskit_runner' returned non-zero exit status 1: b'Traceback (most recent call last):\\n  File \"/workspace/to_execute.py\", line 10, in <module>\\n    qc = qasm2.loads(\\n  File \"/usr/local/lib/python3.10/site-packages/qiskit/qasm2/__init__.py\", line 587, in loads\\n    return _parse.from_bytecode(\\n  File \"/usr/local/lib/python3.10/site-packages/qiskit/qasm2/parse.py\", line 214, in from_bytecode\\n    for op in bc:\\nqiskit.qasm2.exceptions.QASM2ParseError: \"<input>:8,17: \\'reg_2_b\\' is not defined in this scope\"\\n'\n",
      "Failed to execute to_execute.py in Docker.\n",
      "Output: Saved the Pytket circuit to /workspace/to_execute_qc_pytket.qasm\n",
      "Saved the Qiskit circuit to /workspace/to_execute_qc_qiskit.qasm\n",
      "Exported QASM files: [('/workspace/to_execute_qc_pytket.qasm', 'export_to_qasm_with_pytket'), ('/workspace/to_execute_qc_qiskit.qasm', 'export_to_qasm_with_qiskit')]\n",
      "Log has been saved to /workspace/to_execute_d74b7b_error.json\n",
      "\n",
      "Program to_execute.py executed successfully.\n",
      "New exception message: The circuits are not equivalent: /workspace/to_execute_qc_pytket.qasm, /workspace/to_execute_qc_qiskit.qasm\n",
      "Error parsing: Command 'python /workspace/to_execute.py' in image 'qiskit_runner' returned non-zero exit status 1: b'  File \"/workspace/to_execute.py\", line 18\\n    , custom_instructions=qasm2.LEGACY_CUSTOM_INSTRUCTIONS)\\n                                                          ^\\nSyntaxError: unmatched \\')\\'\\n'\n",
      "Failed to execute to_execute.py in Docker.\n",
      "Output: Saved the Pytket circuit to /workspace/to_execute_qc_pytket.qasm\n",
      "Saved the Qiskit circuit to /workspace/to_execute_qc_qiskit.qasm\n",
      "Exported QASM files: [('/workspace/to_execute_qc_pytket.qasm', 'export_to_qasm_with_pytket'), ('/workspace/to_execute_qc_qiskit.qasm', 'export_to_qasm_with_qiskit')]\n",
      "Log has been saved to /workspace/to_execute_e07288_error.json\n",
      "\n",
      "Program to_execute.py executed successfully.\n",
      "New exception message: The circuits are not equivalent: /workspace/to_execute_qc_pytket.qasm, /workspace/to_execute_qc_qiskit.qasm\n",
      "Error parsing: Command 'python /workspace/to_execute.py' in image 'qiskit_runner' returned non-zero exit status 1: b'  File \"/workspace/to_execute.py\", line 17\\n    , custom_instructions=qasm2.LEGACY_CUSTOM_INSTRUCTIONS)\\n                                                          ^\\nSyntaxError: unmatched \\')\\'\\n'\n",
      "Failed to execute to_execute.py in Docker.\n",
      "Error parsing: Command 'python /workspace/to_execute.py' in image 'qiskit_runner' returned non-zero exit status 1: b'Traceback (most recent call last):\\n  File \"/workspace/to_execute.py\", line 10, in <module>\\n    qc = qasm2.loads(\\n  File \"/usr/local/lib/python3.10/site-packages/qiskit/qasm2/__init__.py\", line 587, in loads\\n    return _parse.from_bytecode(\\n  File \"/usr/local/lib/python3.10/site-packages/qiskit/qasm2/parse.py\", line 214, in from_bytecode\\n    for op in bc:\\nqiskit.qasm2.exceptions.QASM2ParseError: \"<input>:5,0: cannot use non-builtin custom instruction \\'cx\\' before definition\"\\n'\n",
      "Failed to execute to_execute.py in Docker.\n",
      "Error parsing: Command 'python /workspace/to_execute.py' in image 'qiskit_runner' returned non-zero exit status 1: b'Traceback (most recent call last):\\n  File \"/workspace/to_execute.py\", line 10, in <module>\\n    qc = qasm2.loads(\\n  File \"/usr/local/lib/python3.10/site-packages/qiskit/qasm2/__init__.py\", line 587, in loads\\n    return _parse.from_bytecode(\\n  File \"/usr/local/lib/python3.10/site-packages/qiskit/qasm2/parse.py\", line 214, in from_bytecode\\n    for op in bc:\\nqiskit.qasm2.exceptions.QASM2ParseError: \"<input>:7,4: \\'reg_2_cin\\' is not defined in this scope\"\\n'\n",
      "Failed to execute to_execute.py in Docker.\n",
      "Error parsing: Command 'python /workspace/to_execute.py' in image 'qiskit_runner' returned non-zero exit status 1: b'Traceback (most recent call last):\\n  File \"/workspace/to_execute.py\", line 10, in <module>\\n    qc = qasm2.loads(\\n  File \"/usr/local/lib/python3.10/site-packages/qiskit/qasm2/__init__.py\", line 587, in loads\\n    return _parse.from_bytecode(\\n  File \"/usr/local/lib/python3.10/site-packages/qiskit/qasm2/parse.py\", line 214, in from_bytecode\\n    for op in bc:\\nqiskit.qasm2.exceptions.QASM2ParseError: \"<input>:5,3: \\'reg_2_a\\' is not defined in this scope\"\\n'\n",
      "Failed to execute to_execute.py in Docker.\n",
      "Output: Saved the Pytket circuit to /workspace/to_execute_qc_pytket.qasm\n",
      "Saved the Qiskit circuit to /workspace/to_execute_qc_qiskit.qasm\n",
      "Exported QASM files: [('/workspace/to_execute_qc_pytket.qasm', 'export_to_qasm_with_pytket'), ('/workspace/to_execute_qc_qiskit.qasm', 'export_to_qasm_with_qiskit')]\n",
      "Log has been saved to /workspace/to_execute_9535a6_error.json\n",
      "\n",
      "Program to_execute.py executed successfully.\n",
      "New exception message: The circuits are not equivalent: /workspace/to_execute_qc_pytket.qasm, /workspace/to_execute_qc_qiskit.qasm\n",
      "Error parsing: Command 'python /workspace/to_execute.py' in image 'qiskit_runner' returned non-zero exit status 1: b'  File \"/workspace/to_execute.py\", line 16\\n    , custom_instructions=qasm2.LEGACY_CUSTOM_INSTRUCTIONS)\\n                                                          ^\\nSyntaxError: unmatched \\')\\'\\n'\n",
      "Failed to execute to_execute.py in Docker.\n",
      "Error parsing: Command 'python /workspace/to_execute.py' in image 'qiskit_runner' returned non-zero exit status 1: b'Traceback (most recent call last):\\n  File \"/workspace/to_execute.py\", line 10, in <module>\\n    qc = qasm2.loads(\\n  File \"/usr/local/lib/python3.10/site-packages/qiskit/qasm2/__init__.py\", line 587, in loads\\n    return _parse.from_bytecode(\\n  File \"/usr/local/lib/python3.10/site-packages/qiskit/qasm2/parse.py\", line 214, in from_bytecode\\n    for op in bc:\\nqiskit.qasm2.exceptions.QASM2ParseError: \"<input>:5,0: cannot use non-builtin custom instruction \\'ccx\\' before definition\"\\n'\n",
      "Failed to execute to_execute.py in Docker.\n",
      "Error parsing: Command 'python /workspace/to_execute.py' in image 'qiskit_runner' returned non-zero exit status 1: b'Traceback (most recent call last):\\n  File \"/workspace/to_execute.py\", line 10, in <module>\\n    qc = qasm2.loads(\\n  File \"/usr/local/lib/python3.10/site-packages/qiskit/qasm2/__init__.py\", line 587, in loads\\n    return _parse.from_bytecode(\\n  File \"/usr/local/lib/python3.10/site-packages/qiskit/qasm2/parse.py\", line 214, in from_bytecode\\n    for op in bc:\\nqiskit.qasm2.exceptions.QASM2ParseError: \"<input>:5,4: \\'reg_2_cin\\' is not defined in this scope\"\\n'\n",
      "Failed to execute to_execute.py in Docker.\n",
      "Error parsing: Command 'python /workspace/to_execute.py' in image 'qiskit_runner' returned non-zero exit status 1: b'Traceback (most recent call last):\\n  File \"/workspace/to_execute.py\", line 10, in <module>\\n    qc = qasm2.loads(\\n  File \"/usr/local/lib/python3.10/site-packages/qiskit/qasm2/__init__.py\", line 587, in loads\\n    return _parse.from_bytecode(\\n  File \"/usr/local/lib/python3.10/site-packages/qiskit/qasm2/parse.py\", line 214, in from_bytecode\\n    for op in bc:\\nqiskit.qasm2.exceptions.QASM2ParseError: \"<input>:6,17: \\'reg_2_b\\' is not defined in this scope\"\\n'\n",
      "Failed to execute to_execute.py in Docker.\n",
      "Error parsing: Command 'python /workspace/to_execute.py' in image 'qiskit_runner' returned non-zero exit status 1: b'  File \"/workspace/to_execute.py\", line 11\\n    include \"qelib1.inc\";\\n            ^^^^^^^^^^^^\\nSyntaxError: invalid syntax\\n'\n",
      "Failed to execute to_execute.py in Docker.\n",
      "Error parsing: Command 'python /workspace/to_execute.py' in image 'qiskit_runner' returned non-zero exit status 1: b'  File \"/workspace/to_execute.py\", line 10\\n    qc = qasm2.loads(\\n                    ^\\nSyntaxError: \\'(\\' was never closed\\n'\n",
      "Failed to execute to_execute.py in Docker.\n",
      "Error parsing: Command 'python /workspace/to_execute.py' in image 'qiskit_runner' returned non-zero exit status 1: b'  File \"/workspace/to_execute.py\", line 18\\n    , custom_instructions=qasm2.LEGACY_CUSTOM_INSTRUCTIONS)\\nIndentationError: unexpected indent\\n'\n",
      "Failed to execute to_execute.py in Docker.\n",
      "Error parsing: Command 'python /workspace/to_execute.py' in image 'qiskit_runner' returned non-zero exit status 1: b'  File \"/workspace/to_execute.py\", line 11\\n    include \"qelib1.inc\";\\n            ^^^^^^^^^^^^\\nSyntaxError: invalid syntax\\n'\n",
      "Failed to execute to_execute.py in Docker.\n",
      "Error parsing: Command 'python /workspace/to_execute.py' in image 'qiskit_runner' returned non-zero exit status 1: b'Traceback (most recent call last):\\n  File \"/workspace/to_execute.py\", line 10, in <module>\\n    qc = qasm2.loads(\\n  File \"/usr/local/lib/python3.10/site-packages/qiskit/qasm2/__init__.py\", line 587, in loads\\n    return _parse.from_bytecode(\\n  File \"/usr/local/lib/python3.10/site-packages/qiskit/qasm2/parse.py\", line 214, in from_bytecode\\n    for op in bc:\\nqiskit.qasm2.exceptions.QASM2ParseError: \"<input>:6,0: cannot use non-builtin custom instruction \\'ccx\\' before definition\"\\n'\n",
      "Failed to execute to_execute.py in Docker.\n",
      "Output: Saved the Pytket circuit to /workspace/to_execute_qc_pytket.qasm\n",
      "Saved the Qiskit circuit to /workspace/to_execute_qc_qiskit.qasm\n",
      "Exported QASM files: [('/workspace/to_execute_qc_pytket.qasm', 'export_to_qasm_with_pytket'), ('/workspace/to_execute_qc_qiskit.qasm', 'export_to_qasm_with_qiskit')]\n",
      "Log has been saved to /workspace/to_execute_fc94bc_error.json\n",
      "\n",
      "Program to_execute.py executed successfully.\n",
      "New exception message: The circuits are not equivalent: /workspace/to_execute_qc_pytket.qasm, /workspace/to_execute_qc_qiskit.qasm\n",
      "Error parsing: Command 'python /workspace/to_execute.py' in image 'qiskit_runner' returned non-zero exit status 1: b'  File \"/workspace/to_execute.py\", line 17\\n    , custom_instructions=qasm2.LEGACY_CUSTOM_INSTRUCTIONS)\\nIndentationError: unexpected indent\\n'\n",
      "Failed to execute to_execute.py in Docker.\n",
      "Error parsing: Command 'python /workspace/to_execute.py' in image 'qiskit_runner' returned non-zero exit status 1: b'  File \"/workspace/to_execute.py\", line 11\\n    include \"qelib1.inc\";\\n            ^^^^^^^^^^^^\\nSyntaxError: invalid syntax\\n'\n",
      "Failed to execute to_execute.py in Docker.\n",
      "Error parsing: Command 'python /workspace/to_execute.py' in image 'qiskit_runner' returned non-zero exit status 1: b'Traceback (most recent call last):\\n  File \"/workspace/to_execute.py\", line 10, in <module>\\n    qc = qasm2.loads(\\n  File \"/usr/local/lib/python3.10/site-packages/qiskit/qasm2/__init__.py\", line 587, in loads\\n    return _parse.from_bytecode(\\n  File \"/usr/local/lib/python3.10/site-packages/qiskit/qasm2/parse.py\", line 214, in from_bytecode\\n    for op in bc:\\nqiskit.qasm2.exceptions.QASM2ParseError: \"<input>:5,0: cannot use non-builtin custom instruction \\'ccx\\' before definition\"\\n'\n",
      "Failed to execute to_execute.py in Docker.\n",
      "Error parsing: Command 'python /workspace/to_execute.py' in image 'qiskit_runner' returned non-zero exit status 1: b'Traceback (most recent call last):\\n  File \"/workspace/to_execute.py\", line 10, in <module>\\n    qc = qasm2.loads(\\n  File \"/usr/local/lib/python3.10/site-packages/qiskit/qasm2/__init__.py\", line 587, in loads\\n    return _parse.from_bytecode(\\n  File \"/usr/local/lib/python3.10/site-packages/qiskit/qasm2/parse.py\", line 214, in from_bytecode\\n    for op in bc:\\nqiskit.qasm2.exceptions.QASM2ParseError: \"<input>:5,4: \\'reg_2_cin\\' is not defined in this scope\"\\n'\n",
      "Failed to execute to_execute.py in Docker.\n",
      "Error parsing: Command 'python /workspace/to_execute.py' in image 'qiskit_runner' returned non-zero exit status 1: b'Traceback (most recent call last):\\n  File \"/workspace/to_execute.py\", line 10, in <module>\\n    qc = qasm2.loads(\\n  File \"/usr/local/lib/python3.10/site-packages/qiskit/qasm2/__init__.py\", line 587, in loads\\n    return _parse.from_bytecode(\\n  File \"/usr/local/lib/python3.10/site-packages/qiskit/qasm2/parse.py\", line 214, in from_bytecode\\n    for op in bc:\\nqiskit.qasm2.exceptions.QASM2ParseError: \"<input>:5,28: \\'reg_2_a\\' is not defined in this scope\"\\n'\n",
      "Failed to execute to_execute.py in Docker.\n",
      "Error parsing: Command 'python /workspace/to_execute.py' in image 'qiskit_runner' returned non-zero exit status 1: b'Traceback (most recent call last):\\n  File \"/workspace/to_execute.py\", line 10, in <module>\\n    qc = qasm2.loads(\\n  File \"/usr/local/lib/python3.10/site-packages/qiskit/qasm2/__init__.py\", line 587, in loads\\n    return _parse.from_bytecode(\\n  File \"/usr/local/lib/python3.10/site-packages/qiskit/qasm2/parse.py\", line 214, in from_bytecode\\n    for op in bc:\\nqiskit.qasm2.exceptions.QASM2ParseError: \"<input>:5,17: \\'reg_2_b\\' is not defined in this scope\"\\n'\n",
      "Failed to execute to_execute.py in Docker.\n",
      "Output: Saved the Pytket circuit to /workspace/to_execute_qc_pytket.qasm\n",
      "Saved the Qiskit circuit to /workspace/to_execute_qc_qiskit.qasm\n",
      "Exported QASM files: [('/workspace/to_execute_qc_pytket.qasm', 'export_to_qasm_with_pytket'), ('/workspace/to_execute_qc_qiskit.qasm', 'export_to_qasm_with_qiskit')]\n",
      "The circuits are equivalent: /workspace/to_execute_qc_pytket.qasm, /workspace/to_execute_qc_qiskit.qasm\n",
      "\n",
      "Program to_execute.py executed successfully.\n",
      "Error parsing: Command 'python /workspace/to_execute.py' in image 'qiskit_runner' returned non-zero exit status 1: b'  File \"/workspace/to_execute.py\", line 11\\n    include \"qelib1.inc\";\\n            ^^^^^^^^^^^^\\nSyntaxError: invalid syntax\\n'\n",
      "Failed to execute to_execute.py in Docker.\n",
      "Error parsing: Command 'python /workspace/to_execute.py' in image 'qiskit_runner' returned non-zero exit status 1: b'  File \"/workspace/to_execute.py\", line 10\\n    qc = qasm2.loads(\\n                    ^\\nSyntaxError: \\'(\\' was never closed\\n'\n",
      "Failed to execute to_execute.py in Docker.\n"
     ]
    },
    {
     "data": {
      "text/html": [
       "<pre style=\"white-space:pre;overflow-x:auto;line-height:normal;font-family:Menlo,'DejaVu Sans Mono',consolas,'Courier New',monospace\"><span style=\"color: #7fbfbf; text-decoration-color: #7fbfbf\">[15:09:16] </span><span style=\"color: #008000; text-decoration-color: #008000\">Minimized file saved as:</span>                                                        <a href=\"file:///home/paltenmo/projects/crossplatform/analysis_and_reporting/ddmin_target_file.py\" target=\"_blank\"><span style=\"color: #7f7f7f; text-decoration-color: #7f7f7f\">ddmin_target_file.py</span></a><span style=\"color: #7f7f7f; text-decoration-color: #7f7f7f\">:</span><a href=\"file:///home/paltenmo/projects/crossplatform/analysis_and_reporting/ddmin_target_file.py#240\" target=\"_blank\"><span style=\"color: #7f7f7f; text-decoration-color: #7f7f7f\">240</span></a>\n",
       "<span style=\"color: #7fbfbf; text-decoration-color: #7fbfbf\">           </span>..<span style=\"color: #800080; text-decoration-color: #800080\">/reports/v009/2024_11_21__15_05/</span><span style=\"color: #ff00ff; text-decoration-color: #ff00ff\">qiskit_circuit_5q_10g_144_2ca34b_7b044a_error</span> <span style=\"color: #7f7f7f; text-decoration-color: #7f7f7f\">                        </span>\n",
       "<span style=\"color: #7fbfbf; text-decoration-color: #7fbfbf\">           </span><span style=\"color: #ff00ff; text-decoration-color: #ff00ff\">_min.py</span>                                                                         <span style=\"color: #7f7f7f; text-decoration-color: #7f7f7f\">                        </span>\n",
       "</pre>\n"
      ],
      "text/plain": [
       "\u001b[2;36m[15:09:16]\u001b[0m\u001b[2;36m \u001b[0m\u001b[32mMinimized file saved as:\u001b[0m                                                        \u001b]8;id=39106;file:///home/paltenmo/projects/crossplatform/analysis_and_reporting/ddmin_target_file.py\u001b\\\u001b[2mddmin_target_file.py\u001b[0m\u001b]8;;\u001b\\\u001b[2m:\u001b[0m\u001b]8;id=760733;file:///home/paltenmo/projects/crossplatform/analysis_and_reporting/ddmin_target_file.py#240\u001b\\\u001b[2m240\u001b[0m\u001b]8;;\u001b\\\n",
       "\u001b[2;36m           \u001b[0m..\u001b[35m/reports/v009/2024_11_21__15_05/\u001b[0m\u001b[95mqiskit_circuit_5q_10g_144_2ca34b_7b044a_error\u001b[0m \u001b[2m                        \u001b[0m\n",
       "\u001b[2;36m           \u001b[0m\u001b[95m_min.py\u001b[0m                                                                         \u001b[2m                        \u001b[0m\n"
      ]
     },
     "metadata": {},
     "output_type": "display_data"
    },
    {
     "name": "stdout",
     "output_type": "stream",
     "text": [
      "Output: Saved the Pytket circuit to /workspace/qiskit_circuit_5q_10g_144_2ca34b_7b044a_error_min_qc_pytket.qasm\n",
      "Saved the Qiskit circuit to /workspace/qiskit_circuit_5q_10g_144_2ca34b_7b044a_error_min_qc_qiskit.qasm\n",
      "Exported QASM files: [('/workspace/qiskit_circuit_5q_10g_144_2ca34b_7b044a_error_min_qc_pytket.qasm', 'export_to_qasm_with_pytket'), ('/workspace/qiskit_circuit_5q_10g_144_2ca34b_7b044a_error_min_qc_qiskit.qasm', 'export_to_qasm_with_qiskit')]\n",
      "Log has been saved to /workspace/qiskit_circuit_5q_10g_144_2ca34b_7b044a_error_min_c118ed_error.json\n",
      "\n"
     ]
    },
    {
     "data": {
      "text/html": [
       "<pre style=\"white-space:pre;overflow-x:auto;line-height:normal;font-family:Menlo,'DejaVu Sans Mono',consolas,'Courier New',monospace\"><span style=\"color: #7fbfbf; text-decoration-color: #7fbfbf\">[15:09:23] </span>Program qiskit_circuit_5q_10g_144_2ca34b_7b044a_error_min.py executed successfully. <a href=\"file:///home/paltenmo/projects/crossplatform/generators/docker_tooling.py\" target=\"_blank\"><span style=\"color: #7f7f7f; text-decoration-color: #7f7f7f\">docker_tooling.py</span></a><span style=\"color: #7f7f7f; text-decoration-color: #7f7f7f\">:</span><a href=\"file:///home/paltenmo/projects/crossplatform/generators/docker_tooling.py#46\" target=\"_blank\"><span style=\"color: #7f7f7f; text-decoration-color: #7f7f7f\">46</span></a>\n",
       "</pre>\n"
      ],
      "text/plain": [
       "\u001b[2;36m[15:09:23]\u001b[0m\u001b[2;36m \u001b[0mProgram qiskit_circuit_5q_10g_144_2ca34b_7b044a_error_min.py executed successfully. \u001b]8;id=30161;file:///home/paltenmo/projects/crossplatform/generators/docker_tooling.py\u001b\\\u001b[2mdocker_tooling.py\u001b[0m\u001b]8;;\u001b\\\u001b[2m:\u001b[0m\u001b]8;id=40729;file:///home/paltenmo/projects/crossplatform/generators/docker_tooling.py#46\u001b\\\u001b[2m46\u001b[0m\u001b]8;;\u001b\\\n"
      ]
     },
     "metadata": {},
     "output_type": "display_data"
    },
    {
     "data": {
      "application/vnd.jupyter.widget-view+json": {
       "model_id": "ffe85ce658f34e7d890ef4e79b26fe81",
       "version_major": 2,
       "version_minor": 0
      },
      "text/plain": [
       "Executing:   0%|          | 0/13 [00:00<?, ?cell/s]"
      ]
     },
     "metadata": {},
     "output_type": "display_data"
    },
    {
     "data": {
      "text/html": [
       "<pre style=\"white-space:pre;overflow-x:auto;line-height:normal;font-family:Menlo,'DejaVu Sans Mono',consolas,'Courier New',monospace\"><span style=\"color: #7fbfbf; text-decoration-color: #7fbfbf\">[15:09:27] </span>Analysis notebook executed: ..<span style=\"color: #800080; text-decoration-color: #800080\">/reports/v009/2024_11_21__15_05/</span><span style=\"color: #ff00ff; text-decoration-color: #ff00ff\">analysis_output.ipynb</span>        <a href=\"file:///home/paltenmo/projects/crossplatform/analysis_and_reporting/triage.py\" target=\"_blank\"><span style=\"color: #7f7f7f; text-decoration-color: #7f7f7f\">triage.py</span></a><span style=\"color: #7f7f7f; text-decoration-color: #7f7f7f\">:</span><a href=\"file:///home/paltenmo/projects/crossplatform/analysis_and_reporting/triage.py#163\" target=\"_blank\"><span style=\"color: #7f7f7f; text-decoration-color: #7f7f7f\">163</span></a>\n",
       "</pre>\n"
      ],
      "text/plain": [
       "\u001b[2;36m[15:09:27]\u001b[0m\u001b[2;36m \u001b[0mAnalysis notebook executed: ..\u001b[35m/reports/v009/2024_11_21__15_05/\u001b[0m\u001b[95manalysis_output.ipynb\u001b[0m        \u001b]8;id=753026;file:///home/paltenmo/projects/crossplatform/analysis_and_reporting/triage.py\u001b\\\u001b[2mtriage.py\u001b[0m\u001b]8;;\u001b\\\u001b[2m:\u001b[0m\u001b]8;id=206102;file:///home/paltenmo/projects/crossplatform/analysis_and_reporting/triage.py#163\u001b\\\u001b[2m163\u001b[0m\u001b]8;;\u001b\\\n"
      ]
     },
     "metadata": {},
     "output_type": "display_data"
    },
    {
     "data": {
      "text/html": [
       "<pre style=\"white-space:pre;overflow-x:auto;line-height:normal;font-family:Menlo,'DejaVu Sans Mono',consolas,'Courier New',monospace\"><span style=\"color: #7fbfbf; text-decoration-color: #7fbfbf\">           </span>Created report folder: ..<span style=\"color: #800080; text-decoration-color: #800080\">/reports/v009/</span><span style=\"color: #ff00ff; text-decoration-color: #ff00ff\">2024_11_21__15_09</span>                                   <a href=\"file:///home/paltenmo/projects/crossplatform/analysis_and_reporting/triage.py\" target=\"_blank\"><span style=\"color: #7f7f7f; text-decoration-color: #7f7f7f\">triage.py</span></a><span style=\"color: #7f7f7f; text-decoration-color: #7f7f7f\">:</span><a href=\"file:///home/paltenmo/projects/crossplatform/analysis_and_reporting/triage.py#131\" target=\"_blank\"><span style=\"color: #7f7f7f; text-decoration-color: #7f7f7f\">131</span></a>\n",
       "</pre>\n"
      ],
      "text/plain": [
       "\u001b[2;36m          \u001b[0m\u001b[2;36m \u001b[0mCreated report folder: ..\u001b[35m/reports/v009/\u001b[0m\u001b[95m2024_11_21__15_09\u001b[0m                                   \u001b]8;id=293035;file:///home/paltenmo/projects/crossplatform/analysis_and_reporting/triage.py\u001b\\\u001b[2mtriage.py\u001b[0m\u001b]8;;\u001b\\\u001b[2m:\u001b[0m\u001b]8;id=946181;file:///home/paltenmo/projects/crossplatform/analysis_and_reporting/triage.py#131\u001b\\\u001b[2m131\u001b[0m\u001b]8;;\u001b\\\n"
      ]
     },
     "metadata": {},
     "output_type": "display_data"
    },
    {
     "data": {
      "text/html": [
       "<pre style=\"white-space:pre;overflow-x:auto;line-height:normal;font-family:Menlo,'DejaVu Sans Mono',consolas,'Courier New',monospace\"><span style=\"color: #7fbfbf; text-decoration-color: #7fbfbf\">           </span>Copied files to: ..<span style=\"color: #800080; text-decoration-color: #800080\">/reports/v009/</span><span style=\"color: #ff00ff; text-decoration-color: #ff00ff\">2024_11_21__15_09</span>                                         <a href=\"file:///home/paltenmo/projects/crossplatform/analysis_and_reporting/triage.py\" target=\"_blank\"><span style=\"color: #7f7f7f; text-decoration-color: #7f7f7f\">triage.py</span></a><span style=\"color: #7f7f7f; text-decoration-color: #7f7f7f\">:</span><a href=\"file:///home/paltenmo/projects/crossplatform/analysis_and_reporting/triage.py#140\" target=\"_blank\"><span style=\"color: #7f7f7f; text-decoration-color: #7f7f7f\">140</span></a>\n",
       "</pre>\n"
      ],
      "text/plain": [
       "\u001b[2;36m          \u001b[0m\u001b[2;36m \u001b[0mCopied files to: ..\u001b[35m/reports/v009/\u001b[0m\u001b[95m2024_11_21__15_09\u001b[0m                                         \u001b]8;id=868518;file:///home/paltenmo/projects/crossplatform/analysis_and_reporting/triage.py\u001b\\\u001b[2mtriage.py\u001b[0m\u001b]8;;\u001b\\\u001b[2m:\u001b[0m\u001b]8;id=330998;file:///home/paltenmo/projects/crossplatform/analysis_and_reporting/triage.py#140\u001b\\\u001b[2m140\u001b[0m\u001b]8;;\u001b\\\n"
      ]
     },
     "metadata": {},
     "output_type": "display_data"
    },
    {
     "data": {
      "text/html": [
       "<pre style=\"white-space:pre;overflow-x:auto;line-height:normal;font-family:Menlo,'DejaVu Sans Mono',consolas,'Courier New',monospace\"><span style=\"color: #7fbfbf; text-decoration-color: #7fbfbf\">[15:09:27] </span>Involved functions:                                                             <a href=\"file:///home/paltenmo/projects/crossplatform/analysis_and_reporting/ddmin_target_file.py\" target=\"_blank\"><span style=\"color: #7f7f7f; text-decoration-color: #7f7f7f\">ddmin_target_file.py</span></a><span style=\"color: #7f7f7f; text-decoration-color: #7f7f7f\">:</span><a href=\"file:///home/paltenmo/projects/crossplatform/analysis_and_reporting/ddmin_target_file.py#206\" target=\"_blank\"><span style=\"color: #7f7f7f; text-decoration-color: #7f7f7f\">206</span></a>\n",
       "</pre>\n"
      ],
      "text/plain": [
       "\u001b[2;36m[15:09:27]\u001b[0m\u001b[2;36m \u001b[0mInvolved functions:                                                             \u001b]8;id=923228;file:///home/paltenmo/projects/crossplatform/analysis_and_reporting/ddmin_target_file.py\u001b\\\u001b[2mddmin_target_file.py\u001b[0m\u001b]8;;\u001b\\\u001b[2m:\u001b[0m\u001b]8;id=342367;file:///home/paltenmo/projects/crossplatform/analysis_and_reporting/ddmin_target_file.py#206\u001b\\\u001b[2m206\u001b[0m\u001b]8;;\u001b\\\n"
      ]
     },
     "metadata": {},
     "output_type": "display_data"
    },
    {
     "data": {
      "text/html": [
       "<pre style=\"white-space:pre;overflow-x:auto;line-height:normal;font-family:Menlo,'DejaVu Sans Mono',consolas,'Courier New',monospace\"><span style=\"color: #7fbfbf; text-decoration-color: #7fbfbf\">           </span>  - compare_qasm_via_qcec                                                       <a href=\"file:///home/paltenmo/projects/crossplatform/analysis_and_reporting/ddmin_target_file.py\" target=\"_blank\"><span style=\"color: #7f7f7f; text-decoration-color: #7f7f7f\">ddmin_target_file.py</span></a><span style=\"color: #7f7f7f; text-decoration-color: #7f7f7f\">:</span><a href=\"file:///home/paltenmo/projects/crossplatform/analysis_and_reporting/ddmin_target_file.py#208\" target=\"_blank\"><span style=\"color: #7f7f7f; text-decoration-color: #7f7f7f\">208</span></a>\n",
       "</pre>\n"
      ],
      "text/plain": [
       "\u001b[2;36m          \u001b[0m\u001b[2;36m \u001b[0m  - compare_qasm_via_qcec                                                       \u001b]8;id=345369;file:///home/paltenmo/projects/crossplatform/analysis_and_reporting/ddmin_target_file.py\u001b\\\u001b[2mddmin_target_file.py\u001b[0m\u001b]8;;\u001b\\\u001b[2m:\u001b[0m\u001b]8;id=639561;file:///home/paltenmo/projects/crossplatform/analysis_and_reporting/ddmin_target_file.py#208\u001b\\\u001b[2m208\u001b[0m\u001b]8;;\u001b\\\n"
      ]
     },
     "metadata": {},
     "output_type": "display_data"
    },
    {
     "data": {
      "text/html": [
       "<pre style=\"white-space:pre;overflow-x:auto;line-height:normal;font-family:Menlo,'DejaVu Sans Mono',consolas,'Courier New',monospace\"><span style=\"color: #7fbfbf; text-decoration-color: #7fbfbf\">           </span>  - export_to_qasm_with_pytket                                                  <a href=\"file:///home/paltenmo/projects/crossplatform/analysis_and_reporting/ddmin_target_file.py\" target=\"_blank\"><span style=\"color: #7f7f7f; text-decoration-color: #7f7f7f\">ddmin_target_file.py</span></a><span style=\"color: #7f7f7f; text-decoration-color: #7f7f7f\">:</span><a href=\"file:///home/paltenmo/projects/crossplatform/analysis_and_reporting/ddmin_target_file.py#208\" target=\"_blank\"><span style=\"color: #7f7f7f; text-decoration-color: #7f7f7f\">208</span></a>\n",
       "</pre>\n"
      ],
      "text/plain": [
       "\u001b[2;36m          \u001b[0m\u001b[2;36m \u001b[0m  - export_to_qasm_with_pytket                                                  \u001b]8;id=697834;file:///home/paltenmo/projects/crossplatform/analysis_and_reporting/ddmin_target_file.py\u001b\\\u001b[2mddmin_target_file.py\u001b[0m\u001b]8;;\u001b\\\u001b[2m:\u001b[0m\u001b]8;id=911757;file:///home/paltenmo/projects/crossplatform/analysis_and_reporting/ddmin_target_file.py#208\u001b\\\u001b[2m208\u001b[0m\u001b]8;;\u001b\\\n"
      ]
     },
     "metadata": {},
     "output_type": "display_data"
    },
    {
     "data": {
      "text/html": [
       "<pre style=\"white-space:pre;overflow-x:auto;line-height:normal;font-family:Menlo,'DejaVu Sans Mono',consolas,'Courier New',monospace\"><span style=\"color: #7fbfbf; text-decoration-color: #7fbfbf\">           </span>  - export_to_qasm_with_qiskit                                                  <a href=\"file:///home/paltenmo/projects/crossplatform/analysis_and_reporting/ddmin_target_file.py\" target=\"_blank\"><span style=\"color: #7f7f7f; text-decoration-color: #7f7f7f\">ddmin_target_file.py</span></a><span style=\"color: #7f7f7f; text-decoration-color: #7f7f7f\">:</span><a href=\"file:///home/paltenmo/projects/crossplatform/analysis_and_reporting/ddmin_target_file.py#208\" target=\"_blank\"><span style=\"color: #7f7f7f; text-decoration-color: #7f7f7f\">208</span></a>\n",
       "</pre>\n"
      ],
      "text/plain": [
       "\u001b[2;36m          \u001b[0m\u001b[2;36m \u001b[0m  - export_to_qasm_with_qiskit                                                  \u001b]8;id=560456;file:///home/paltenmo/projects/crossplatform/analysis_and_reporting/ddmin_target_file.py\u001b\\\u001b[2mddmin_target_file.py\u001b[0m\u001b]8;;\u001b\\\u001b[2m:\u001b[0m\u001b]8;id=365804;file:///home/paltenmo/projects/crossplatform/analysis_and_reporting/ddmin_target_file.py#208\u001b\\\u001b[2m208\u001b[0m\u001b]8;;\u001b\\\n"
      ]
     },
     "metadata": {},
     "output_type": "display_data"
    },
    {
     "name": "stdout",
     "output_type": "stream",
     "text": [
      "Error parsing: Command 'python /workspace/to_execute.py' in image 'qiskit_runner' returned non-zero exit status 1: b'Traceback (most recent call last):\\n  File \"/workspace/to_execute.py\", line 105, in <module>\\n    target_qc = qc\\nNameError: name \\'qc\\' is not defined\\n'\n",
      "Failed to execute to_execute.py in Docker.\n",
      "Output: Saved the Pytket circuit to /workspace/to_execute_qc_pytket.qasm\n",
      "Saved the Qiskit circuit to /workspace/to_execute_qc_qiskit.qasm\n",
      "Exported QASM files: [('/workspace/to_execute_qc_pytket.qasm', 'export_to_qasm_with_pytket'), ('/workspace/to_execute_qc_qiskit.qasm', 'export_to_qasm_with_qiskit')]\n",
      "Log has been saved to /workspace/to_execute_8f8f09_error.json\n",
      "\n",
      "Program to_execute.py executed successfully.\n",
      "New exception message: The circuits are not equivalent: /workspace/to_execute_qc_pytket.qasm, /workspace/to_execute_qc_qiskit.qasm\n",
      "Error parsing: Command 'python /workspace/to_execute.py' in image 'qiskit_runner' returned non-zero exit status 1: b'  File \"/workspace/to_execute.py\", line 19\\n    , custom_instructions=qasm2.LEGACY_CUSTOM_INSTRUCTIONS)\\n                                                          ^\\nSyntaxError: unmatched \\')\\'\\n'\n",
      "Failed to execute to_execute.py in Docker.\n",
      "Error parsing: Command 'python /workspace/to_execute.py' in image 'qiskit_runner' returned non-zero exit status 1: b'  File \"/workspace/to_execute.py\", line 10\\n    qc = qasm2.loads(\\n                    ^\\nSyntaxError: \\'(\\' was never closed\\n'\n",
      "Failed to execute to_execute.py in Docker.\n",
      "Error parsing: Command 'python /workspace/to_execute.py' in image 'qiskit_runner' returned non-zero exit status 1: b'  File \"/workspace/to_execute.py\", line 25\\n    , custom_instructions=qasm2.LEGACY_CUSTOM_INSTRUCTIONS)\\n                                                          ^\\nSyntaxError: unmatched \\')\\'\\n'\n",
      "Failed to execute to_execute.py in Docker.\n",
      "Error parsing: Command 'python /workspace/to_execute.py' in image 'qiskit_runner' returned non-zero exit status 1: b'Traceback (most recent call last):\\n  File \"/workspace/to_execute.py\", line 10, in <module>\\n    qc = qasm2.loads(\\n  File \"/usr/local/lib/python3.10/site-packages/qiskit/qasm2/__init__.py\", line 587, in loads\\n    return _parse.from_bytecode(\\n  File \"/usr/local/lib/python3.10/site-packages/qiskit/qasm2/parse.py\", line 214, in from_bytecode\\n    for op in bc:\\nqiskit.qasm2.exceptions.QASM2ParseError: \"<input>:5,3: \\'reg_1_a\\' is not defined in this scope\"\\n'\n",
      "Failed to execute to_execute.py in Docker.\n",
      "Output: Saved the Pytket circuit to /workspace/to_execute_qc_pytket.qasm\n",
      "Saved the Qiskit circuit to /workspace/to_execute_qc_qiskit.qasm\n",
      "Exported QASM files: [('/workspace/to_execute_qc_pytket.qasm', 'export_to_qasm_with_pytket'), ('/workspace/to_execute_qc_qiskit.qasm', 'export_to_qasm_with_qiskit')]\n",
      "Log has been saved to /workspace/to_execute_466409_error.json\n",
      "\n",
      "Program to_execute.py executed successfully.\n",
      "New exception message: The circuits are not equivalent: /workspace/to_execute_qc_pytket.qasm, /workspace/to_execute_qc_qiskit.qasm\n",
      "Error parsing: Command 'python /workspace/to_execute.py' in image 'qiskit_runner' returned non-zero exit status 1: b'  File \"/workspace/to_execute.py\", line 18\\n    , custom_instructions=qasm2.LEGACY_CUSTOM_INSTRUCTIONS)\\n                                                          ^\\nSyntaxError: unmatched \\')\\'\\n'\n",
      "Failed to execute to_execute.py in Docker.\n",
      "Error parsing: Command 'python /workspace/to_execute.py' in image 'qiskit_runner' returned non-zero exit status 1: b'Traceback (most recent call last):\\n  File \"/workspace/to_execute.py\", line 10, in <module>\\n    qc = qasm2.loads(\\n  File \"/usr/local/lib/python3.10/site-packages/qiskit/qasm2/__init__.py\", line 587, in loads\\n    return _parse.from_bytecode(\\n  File \"/usr/local/lib/python3.10/site-packages/qiskit/qasm2/parse.py\", line 214, in from_bytecode\\n    for op in bc:\\nqiskit.qasm2.exceptions.QASM2ParseError: \"<input>:5,3: \\'reg_1_a\\' is not defined in this scope\"\\n'\n",
      "Failed to execute to_execute.py in Docker.\n",
      "Error parsing: Command 'python /workspace/to_execute.py' in image 'qiskit_runner' returned non-zero exit status 1: b'  File \"/workspace/to_execute.py\", line 10\\n    qc = qasm2.loads(\\n                    ^\\nSyntaxError: \\'(\\' was never closed\\n'\n",
      "Failed to execute to_execute.py in Docker.\n",
      "Error parsing: Command 'python /workspace/to_execute.py' in image 'qiskit_runner' returned non-zero exit status 1: b'  File \"/workspace/to_execute.py\", line 20\\n    , custom_instructions=qasm2.LEGACY_CUSTOM_INSTRUCTIONS)\\n                                                          ^\\nSyntaxError: unmatched \\')\\'\\n'\n",
      "Failed to execute to_execute.py in Docker.\n",
      "Error parsing: Command 'python /workspace/to_execute.py' in image 'qiskit_runner' returned non-zero exit status 1: b'Traceback (most recent call last):\\n  File \"/workspace/to_execute.py\", line 10, in <module>\\n    qc = qasm2.loads(\\n  File \"/usr/local/lib/python3.10/site-packages/qiskit/qasm2/__init__.py\", line 587, in loads\\n    return _parse.from_bytecode(\\n  File \"/usr/local/lib/python3.10/site-packages/qiskit/qasm2/parse.py\", line 214, in from_bytecode\\n    for op in bc:\\nqiskit.qasm2.exceptions.QASM2ParseError: \"<input>:8,0: cannot use non-builtin custom instruction \\'cx\\' before definition\"\\n'\n",
      "Failed to execute to_execute.py in Docker.\n",
      "Output: Saved the Pytket circuit to /workspace/to_execute_qc_pytket.qasm\n",
      "Saved the Qiskit circuit to /workspace/to_execute_qc_qiskit.qasm\n",
      "Exported QASM files: [('/workspace/to_execute_qc_pytket.qasm', 'export_to_qasm_with_pytket'), ('/workspace/to_execute_qc_qiskit.qasm', 'export_to_qasm_with_qiskit')]\n",
      "Log has been saved to /workspace/to_execute_ffbac9_error.json\n",
      "\n",
      "Program to_execute.py executed successfully.\n",
      "New exception message: The circuits are not equivalent: /workspace/to_execute_qc_pytket.qasm, /workspace/to_execute_qc_qiskit.qasm\n",
      "Error parsing: Command 'python /workspace/to_execute.py' in image 'qiskit_runner' returned non-zero exit status 1: b'  File \"/workspace/to_execute.py\", line 19\\n    , custom_instructions=qasm2.LEGACY_CUSTOM_INSTRUCTIONS)\\nIndentationError: unexpected indent\\n'\n",
      "Failed to execute to_execute.py in Docker.\n",
      "Error parsing: Command 'python /workspace/to_execute.py' in image 'qiskit_runner' returned non-zero exit status 1: b'  File \"/workspace/to_execute.py\", line 12\\n    qreg reg_1_b[2];\\n    ^^^^^^^^^^^^^^^\\nSyntaxError: invalid syntax. Perhaps you forgot a comma?\\n'\n",
      "Failed to execute to_execute.py in Docker.\n",
      "Error parsing: Command 'python /workspace/to_execute.py' in image 'qiskit_runner' returned non-zero exit status 1: b'Traceback (most recent call last):\\n  File \"/workspace/to_execute.py\", line 10, in <module>\\n    qc = qasm2.loads(\\n  File \"/usr/local/lib/python3.10/site-packages/qiskit/qasm2/__init__.py\", line 587, in loads\\n    return _parse.from_bytecode(\\n  File \"/usr/local/lib/python3.10/site-packages/qiskit/qasm2/parse.py\", line 214, in from_bytecode\\n    for op in bc:\\nqiskit.qasm2.exceptions.QASM2ParseError: \"<input>:5,3: \\'reg_1_a\\' is not defined in this scope\"\\n'\n",
      "Failed to execute to_execute.py in Docker.\n",
      "Output: Saved the Pytket circuit to /workspace/to_execute_qc_pytket.qasm\n",
      "Saved the Qiskit circuit to /workspace/to_execute_qc_qiskit.qasm\n",
      "Exported QASM files: [('/workspace/to_execute_qc_pytket.qasm', 'export_to_qasm_with_pytket'), ('/workspace/to_execute_qc_qiskit.qasm', 'export_to_qasm_with_qiskit')]\n",
      "The circuits are equivalent: /workspace/to_execute_qc_pytket.qasm, /workspace/to_execute_qc_qiskit.qasm\n",
      "\n",
      "Program to_execute.py executed successfully.\n",
      "Error parsing: Command 'python /workspace/to_execute.py' in image 'qiskit_runner' returned non-zero exit status 1: b'  File \"/workspace/to_execute.py\", line 10\\n    qc = qasm2.loads(\\n                    ^\\nSyntaxError: \\'(\\' was never closed\\n'\n",
      "Failed to execute to_execute.py in Docker.\n",
      "Error parsing: Command 'python /workspace/to_execute.py' in image 'qiskit_runner' returned non-zero exit status 1: b'  File \"/workspace/to_execute.py\", line 20\\n    , custom_instructions=qasm2.LEGACY_CUSTOM_INSTRUCTIONS)\\nIndentationError: unexpected indent\\n'\n",
      "Failed to execute to_execute.py in Docker.\n",
      "Output: Saved the Pytket circuit to /workspace/to_execute_qc_pytket.qasm\n",
      "Saved the Qiskit circuit to /workspace/to_execute_qc_qiskit.qasm\n",
      "Exported QASM files: [('/workspace/to_execute_qc_pytket.qasm', 'export_to_qasm_with_pytket'), ('/workspace/to_execute_qc_qiskit.qasm', 'export_to_qasm_with_qiskit')]\n",
      "Log has been saved to /workspace/to_execute_f55e1e_error.json\n",
      "\n",
      "Program to_execute.py executed successfully.\n",
      "New exception message: The circuits are not equivalent: /workspace/to_execute_qc_pytket.qasm, /workspace/to_execute_qc_qiskit.qasm\n",
      "Error parsing: Command 'python /workspace/to_execute.py' in image 'qiskit_runner' returned non-zero exit status 1: b'  File \"/workspace/to_execute.py\", line 19\\n    , custom_instructions=qasm2.LEGACY_CUSTOM_INSTRUCTIONS)\\nIndentationError: unexpected indent\\n'\n",
      "Failed to execute to_execute.py in Docker.\n",
      "Error parsing: Command 'python /workspace/to_execute.py' in image 'qiskit_runner' returned non-zero exit status 1: b'  File \"/workspace/to_execute.py\", line 11\\n    OPENQASM 2.0;\\n    ^^^^^^^^^^^^\\nSyntaxError: invalid syntax. Perhaps you forgot a comma?\\n'\n",
      "Failed to execute to_execute.py in Docker.\n",
      "Output: Saved the Pytket circuit to /workspace/to_execute_qc_pytket.qasm\n",
      "Saved the Qiskit circuit to /workspace/to_execute_qc_qiskit.qasm\n",
      "Exported QASM files: [('/workspace/to_execute_qc_pytket.qasm', 'export_to_qasm_with_pytket'), ('/workspace/to_execute_qc_qiskit.qasm', 'export_to_qasm_with_qiskit')]\n",
      "Log has been saved to /workspace/to_execute_9c3eb0_error.json\n",
      "\n",
      "Program to_execute.py executed successfully.\n",
      "New exception message: The circuits are not equivalent: /workspace/to_execute_qc_pytket.qasm, /workspace/to_execute_qc_qiskit.qasm\n",
      "Error parsing: Command 'python /workspace/to_execute.py' in image 'qiskit_runner' returned non-zero exit status 1: b'  File \"/workspace/to_execute.py\", line 18\\n    , custom_instructions=qasm2.LEGACY_CUSTOM_INSTRUCTIONS)\\nIndentationError: unexpected indent\\n'\n",
      "Failed to execute to_execute.py in Docker.\n",
      "Error parsing: Command 'python /workspace/to_execute.py' in image 'qiskit_runner' returned non-zero exit status 1: b'  File \"/workspace/to_execute.py\", line 11\\n    include \"qelib1.inc\";\\n            ^^^^^^^^^^^^\\nSyntaxError: invalid syntax\\n'\n",
      "Failed to execute to_execute.py in Docker.\n",
      "Error parsing: Command 'python /workspace/to_execute.py' in image 'qiskit_runner' returned non-zero exit status 1: b'Traceback (most recent call last):\\n  File \"/workspace/to_execute.py\", line 10, in <module>\\n    qc = qasm2.loads(\\n  File \"/usr/local/lib/python3.10/site-packages/qiskit/qasm2/__init__.py\", line 587, in loads\\n    return _parse.from_bytecode(\\n  File \"/usr/local/lib/python3.10/site-packages/qiskit/qasm2/parse.py\", line 214, in from_bytecode\\n    for op in bc:\\nqiskit.qasm2.exceptions.QASM2ParseError: \"<input>:5,0: cannot use non-builtin custom instruction \\'cx\\' before definition\"\\n'\n",
      "Failed to execute to_execute.py in Docker.\n",
      "Error parsing: Command 'python /workspace/to_execute.py' in image 'qiskit_runner' returned non-zero exit status 1: b'Traceback (most recent call last):\\n  File \"/workspace/to_execute.py\", line 10, in <module>\\n    qc = qasm2.loads(\\n  File \"/usr/local/lib/python3.10/site-packages/qiskit/qasm2/__init__.py\", line 587, in loads\\n    return _parse.from_bytecode(\\n  File \"/usr/local/lib/python3.10/site-packages/qiskit/qasm2/parse.py\", line 214, in from_bytecode\\n    for op in bc:\\nqiskit.qasm2.exceptions.QASM2ParseError: \"<input>:5,14: \\'reg_1_b\\' is not defined in this scope\"\\n'\n",
      "Failed to execute to_execute.py in Docker.\n",
      "Error parsing: Command 'python /workspace/to_execute.py' in image 'qiskit_runner' returned non-zero exit status 1: b'Traceback (most recent call last):\\n  File \"/workspace/to_execute.py\", line 10, in <module>\\n    qc = qasm2.loads(\\n  File \"/usr/local/lib/python3.10/site-packages/qiskit/qasm2/__init__.py\", line 587, in loads\\n    return _parse.from_bytecode(\\n  File \"/usr/local/lib/python3.10/site-packages/qiskit/qasm2/parse.py\", line 214, in from_bytecode\\n    for op in bc:\\nqiskit.qasm2.exceptions.QASM2ParseError: \"<input>:4,3: \\'reg_1_a\\' is not defined in this scope\"\\n'\n",
      "Failed to execute to_execute.py in Docker.\n",
      "Output: Saved the Pytket circuit to /workspace/to_execute_qc_pytket.qasm\n",
      "Saved the Qiskit circuit to /workspace/to_execute_qc_qiskit.qasm\n",
      "Exported QASM files: [('/workspace/to_execute_qc_pytket.qasm', 'export_to_qasm_with_pytket'), ('/workspace/to_execute_qc_qiskit.qasm', 'export_to_qasm_with_qiskit')]\n",
      "Log has been saved to /workspace/to_execute_e07780_error.json\n",
      "\n",
      "Program to_execute.py executed successfully.\n",
      "New exception message: The circuits are not equivalent: /workspace/to_execute_qc_pytket.qasm, /workspace/to_execute_qc_qiskit.qasm\n",
      "Error parsing: Command 'python /workspace/to_execute.py' in image 'qiskit_runner' returned non-zero exit status 1: b'  File \"/workspace/to_execute.py\", line 17\\n    , custom_instructions=qasm2.LEGACY_CUSTOM_INSTRUCTIONS)\\nIndentationError: unexpected indent\\n'\n",
      "Failed to execute to_execute.py in Docker.\n",
      "Error parsing: Command 'python /workspace/to_execute.py' in image 'qiskit_runner' returned non-zero exit status 1: b'  File \"/workspace/to_execute.py\", line 11\\n    include \"qelib1.inc\";\\n            ^^^^^^^^^^^^\\nSyntaxError: invalid syntax\\n'\n",
      "Failed to execute to_execute.py in Docker.\n",
      "Error parsing: Command 'python /workspace/to_execute.py' in image 'qiskit_runner' returned non-zero exit status 1: b'Traceback (most recent call last):\\n  File \"/workspace/to_execute.py\", line 10, in <module>\\n    qc = qasm2.loads(\\n  File \"/usr/local/lib/python3.10/site-packages/qiskit/qasm2/__init__.py\", line 587, in loads\\n    return _parse.from_bytecode(\\n  File \"/usr/local/lib/python3.10/site-packages/qiskit/qasm2/parse.py\", line 214, in from_bytecode\\n    for op in bc:\\nqiskit.qasm2.exceptions.QASM2ParseError: \"<input>:5,0: cannot use non-builtin custom instruction \\'cx\\' before definition\"\\n'\n",
      "Failed to execute to_execute.py in Docker.\n",
      "Error parsing: Command 'python /workspace/to_execute.py' in image 'qiskit_runner' returned non-zero exit status 1: b'Traceback (most recent call last):\\n  File \"/workspace/to_execute.py\", line 10, in <module>\\n    qc = qasm2.loads(\\n  File \"/usr/local/lib/python3.10/site-packages/qiskit/qasm2/__init__.py\", line 587, in loads\\n    return _parse.from_bytecode(\\n  File \"/usr/local/lib/python3.10/site-packages/qiskit/qasm2/parse.py\", line 214, in from_bytecode\\n    for op in bc:\\nqiskit.qasm2.exceptions.QASM2ParseError: \"<input>:4,3: \\'reg_1_a\\' is not defined in this scope\"\\n'\n",
      "Failed to execute to_execute.py in Docker.\n",
      "Output: Saved the Pytket circuit to /workspace/to_execute_qc_pytket.qasm\n",
      "Saved the Qiskit circuit to /workspace/to_execute_qc_qiskit.qasm\n",
      "Exported QASM files: [('/workspace/to_execute_qc_pytket.qasm', 'export_to_qasm_with_pytket'), ('/workspace/to_execute_qc_qiskit.qasm', 'export_to_qasm_with_qiskit')]\n",
      "Log has been saved to /workspace/to_execute_ca7324_error.json\n",
      "\n",
      "Program to_execute.py executed successfully.\n",
      "New exception message: The circuits are not equivalent: /workspace/to_execute_qc_pytket.qasm, /workspace/to_execute_qc_qiskit.qasm\n",
      "Error parsing: Command 'python /workspace/to_execute.py' in image 'qiskit_runner' returned non-zero exit status 1: b'  File \"/workspace/to_execute.py\", line 16\\n    , custom_instructions=qasm2.LEGACY_CUSTOM_INSTRUCTIONS)\\nIndentationError: unexpected indent\\n'\n",
      "Failed to execute to_execute.py in Docker.\n",
      "Error parsing: Command 'python /workspace/to_execute.py' in image 'qiskit_runner' returned non-zero exit status 1: b'  File \"/workspace/to_execute.py\", line 11\\n    include \"qelib1.inc\";\\n            ^^^^^^^^^^^^\\nSyntaxError: invalid syntax\\n'\n",
      "Failed to execute to_execute.py in Docker.\n",
      "Error parsing: Command 'python /workspace/to_execute.py' in image 'qiskit_runner' returned non-zero exit status 1: b'Traceback (most recent call last):\\n  File \"/workspace/to_execute.py\", line 10, in <module>\\n    qc = qasm2.loads(\\n  File \"/usr/local/lib/python3.10/site-packages/qiskit/qasm2/__init__.py\", line 587, in loads\\n    return _parse.from_bytecode(\\n  File \"/usr/local/lib/python3.10/site-packages/qiskit/qasm2/parse.py\", line 214, in from_bytecode\\n    for op in bc:\\nqiskit.qasm2.exceptions.QASM2ParseError: \"<input>:3,0: cannot use non-builtin custom instruction \\'cx\\' before definition\"\\n'\n",
      "Failed to execute to_execute.py in Docker.\n",
      "Error parsing: Command 'python /workspace/to_execute.py' in image 'qiskit_runner' returned non-zero exit status 1: b'Traceback (most recent call last):\\n  File \"/workspace/to_execute.py\", line 10, in <module>\\n    qc = qasm2.loads(\\n  File \"/usr/local/lib/python3.10/site-packages/qiskit/qasm2/__init__.py\", line 587, in loads\\n    return _parse.from_bytecode(\\n  File \"/usr/local/lib/python3.10/site-packages/qiskit/qasm2/parse.py\", line 214, in from_bytecode\\n    for op in bc:\\nqiskit.qasm2.exceptions.QASM2ParseError: \"<input>:4,3: \\'reg_1_a\\' is not defined in this scope\"\\n'\n",
      "Failed to execute to_execute.py in Docker.\n",
      "Error parsing: Command 'python /workspace/to_execute.py' in image 'qiskit_runner' returned non-zero exit status 1: b'  File \"/workspace/to_execute.py\", line 11\\n    include \"qelib1.inc\";\\n            ^^^^^^^^^^^^\\nSyntaxError: invalid syntax\\n'\n",
      "Failed to execute to_execute.py in Docker.\n",
      "Error parsing: Command 'python /workspace/to_execute.py' in image 'qiskit_runner' returned non-zero exit status 1: b'  File \"/workspace/to_execute.py\", line 10\\n    qc = qasm2.loads(\\n                    ^\\nSyntaxError: \\'(\\' was never closed\\n'\n",
      "Failed to execute to_execute.py in Docker.\n",
      "Error parsing: Command 'python /workspace/to_execute.py' in image 'qiskit_runner' returned non-zero exit status 1: b'  File \"/workspace/to_execute.py\", line 16\\n    , custom_instructions=qasm2.LEGACY_CUSTOM_INSTRUCTIONS)\\nIndentationError: unexpected indent\\n'\n",
      "Failed to execute to_execute.py in Docker.\n",
      "Error parsing: Command 'python /workspace/to_execute.py' in image 'qiskit_runner' returned non-zero exit status 1: b'  File \"/workspace/to_execute.py\", line 11\\n    include \"qelib1.inc\";\\n            ^^^^^^^^^^^^\\nSyntaxError: invalid syntax\\n'\n",
      "Failed to execute to_execute.py in Docker.\n",
      "Error parsing: Command 'python /workspace/to_execute.py' in image 'qiskit_runner' returned non-zero exit status 1: b'Traceback (most recent call last):\\n  File \"/workspace/to_execute.py\", line 10, in <module>\\n    qc = qasm2.loads(\\n  File \"/usr/local/lib/python3.10/site-packages/qiskit/qasm2/__init__.py\", line 587, in loads\\n    return _parse.from_bytecode(\\n  File \"/usr/local/lib/python3.10/site-packages/qiskit/qasm2/parse.py\", line 214, in from_bytecode\\n    for op in bc:\\nqiskit.qasm2.exceptions.QASM2ParseError: \"<input>:4,0: cannot use non-builtin custom instruction \\'cx\\' before definition\"\\n'\n",
      "Failed to execute to_execute.py in Docker.\n",
      "Error parsing: Command 'python /workspace/to_execute.py' in image 'qiskit_runner' returned non-zero exit status 1: b'Traceback (most recent call last):\\n  File \"/workspace/to_execute.py\", line 10, in <module>\\n    qc = qasm2.loads(\\n  File \"/usr/local/lib/python3.10/site-packages/qiskit/qasm2/__init__.py\", line 587, in loads\\n    return _parse.from_bytecode(\\n  File \"/usr/local/lib/python3.10/site-packages/qiskit/qasm2/parse.py\", line 214, in from_bytecode\\n    for op in bc:\\nqiskit.qasm2.exceptions.QASM2ParseError: \"<input>:4,14: \\'reg_1_b\\' is not defined in this scope\"\\n'\n",
      "Failed to execute to_execute.py in Docker.\n",
      "Error parsing: Command 'python /workspace/to_execute.py' in image 'qiskit_runner' returned non-zero exit status 1: b'Traceback (most recent call last):\\n  File \"/workspace/to_execute.py\", line 10, in <module>\\n    qc = qasm2.loads(\\n  File \"/usr/local/lib/python3.10/site-packages/qiskit/qasm2/__init__.py\", line 587, in loads\\n    return _parse.from_bytecode(\\n  File \"/usr/local/lib/python3.10/site-packages/qiskit/qasm2/parse.py\", line 214, in from_bytecode\\n    for op in bc:\\nqiskit.qasm2.exceptions.QASM2ParseError: \"<input>:4,3: \\'reg_1_a\\' is not defined in this scope\"\\n'\n",
      "Failed to execute to_execute.py in Docker.\n",
      "Output: Saved the Pytket circuit to /workspace/to_execute_qc_pytket.qasm\n",
      "Saved the Qiskit circuit to /workspace/to_execute_qc_qiskit.qasm\n",
      "Exported QASM files: [('/workspace/to_execute_qc_pytket.qasm', 'export_to_qasm_with_pytket'), ('/workspace/to_execute_qc_qiskit.qasm', 'export_to_qasm_with_qiskit')]\n",
      "The circuits are equivalent: /workspace/to_execute_qc_pytket.qasm, /workspace/to_execute_qc_qiskit.qasm\n",
      "\n",
      "Program to_execute.py executed successfully.\n",
      "Error parsing: Command 'python /workspace/to_execute.py' in image 'qiskit_runner' returned non-zero exit status 1: b'  File \"/workspace/to_execute.py\", line 11\\n    include \"qelib1.inc\";\\n            ^^^^^^^^^^^^\\nSyntaxError: invalid syntax\\n'\n",
      "Failed to execute to_execute.py in Docker.\n",
      "Error parsing: Command 'python /workspace/to_execute.py' in image 'qiskit_runner' returned non-zero exit status 1: b'  File \"/workspace/to_execute.py\", line 10\\n    qc = qasm2.loads(\\n                    ^\\nSyntaxError: \\'(\\' was never closed\\n'\n",
      "Failed to execute to_execute.py in Docker.\n"
     ]
    },
    {
     "data": {
      "text/html": [
       "<pre style=\"white-space:pre;overflow-x:auto;line-height:normal;font-family:Menlo,'DejaVu Sans Mono',consolas,'Courier New',monospace\"><span style=\"color: #7fbfbf; text-decoration-color: #7fbfbf\">[15:12:24] </span><span style=\"color: #008000; text-decoration-color: #008000\">Minimized file saved as:</span>                                                        <a href=\"file:///home/paltenmo/projects/crossplatform/analysis_and_reporting/ddmin_target_file.py\" target=\"_blank\"><span style=\"color: #7f7f7f; text-decoration-color: #7f7f7f\">ddmin_target_file.py</span></a><span style=\"color: #7f7f7f; text-decoration-color: #7f7f7f\">:</span><a href=\"file:///home/paltenmo/projects/crossplatform/analysis_and_reporting/ddmin_target_file.py#240\" target=\"_blank\"><span style=\"color: #7f7f7f; text-decoration-color: #7f7f7f\">240</span></a>\n",
       "<span style=\"color: #7fbfbf; text-decoration-color: #7fbfbf\">           </span>..<span style=\"color: #800080; text-decoration-color: #800080\">/reports/v009/2024_11_21__15_09/</span><span style=\"color: #ff00ff; text-decoration-color: #ff00ff\">qiskit_circuit_5q_10g_680_6d896d_1fd766_error</span> <span style=\"color: #7f7f7f; text-decoration-color: #7f7f7f\">                        </span>\n",
       "<span style=\"color: #7fbfbf; text-decoration-color: #7fbfbf\">           </span><span style=\"color: #ff00ff; text-decoration-color: #ff00ff\">_min.py</span>                                                                         <span style=\"color: #7f7f7f; text-decoration-color: #7f7f7f\">                        </span>\n",
       "</pre>\n"
      ],
      "text/plain": [
       "\u001b[2;36m[15:12:24]\u001b[0m\u001b[2;36m \u001b[0m\u001b[32mMinimized file saved as:\u001b[0m                                                        \u001b]8;id=925058;file:///home/paltenmo/projects/crossplatform/analysis_and_reporting/ddmin_target_file.py\u001b\\\u001b[2mddmin_target_file.py\u001b[0m\u001b]8;;\u001b\\\u001b[2m:\u001b[0m\u001b]8;id=911043;file:///home/paltenmo/projects/crossplatform/analysis_and_reporting/ddmin_target_file.py#240\u001b\\\u001b[2m240\u001b[0m\u001b]8;;\u001b\\\n",
       "\u001b[2;36m           \u001b[0m..\u001b[35m/reports/v009/2024_11_21__15_09/\u001b[0m\u001b[95mqiskit_circuit_5q_10g_680_6d896d_1fd766_error\u001b[0m \u001b[2m                        \u001b[0m\n",
       "\u001b[2;36m           \u001b[0m\u001b[95m_min.py\u001b[0m                                                                         \u001b[2m                        \u001b[0m\n"
      ]
     },
     "metadata": {},
     "output_type": "display_data"
    },
    {
     "name": "stdout",
     "output_type": "stream",
     "text": [
      "Output: Saved the Pytket circuit to /workspace/qiskit_circuit_5q_10g_680_6d896d_1fd766_error_min_qc_pytket.qasm\n",
      "Saved the Qiskit circuit to /workspace/qiskit_circuit_5q_10g_680_6d896d_1fd766_error_min_qc_qiskit.qasm\n",
      "Exported QASM files: [('/workspace/qiskit_circuit_5q_10g_680_6d896d_1fd766_error_min_qc_pytket.qasm', 'export_to_qasm_with_pytket'), ('/workspace/qiskit_circuit_5q_10g_680_6d896d_1fd766_error_min_qc_qiskit.qasm', 'export_to_qasm_with_qiskit')]\n",
      "Log has been saved to /workspace/qiskit_circuit_5q_10g_680_6d896d_1fd766_error_min_c3fa11_error.json\n",
      "\n"
     ]
    },
    {
     "data": {
      "text/html": [
       "<pre style=\"white-space:pre;overflow-x:auto;line-height:normal;font-family:Menlo,'DejaVu Sans Mono',consolas,'Courier New',monospace\"><span style=\"color: #7fbfbf; text-decoration-color: #7fbfbf\">[15:12:31] </span>Program qiskit_circuit_5q_10g_680_6d896d_1fd766_error_min.py executed successfully. <a href=\"file:///home/paltenmo/projects/crossplatform/generators/docker_tooling.py\" target=\"_blank\"><span style=\"color: #7f7f7f; text-decoration-color: #7f7f7f\">docker_tooling.py</span></a><span style=\"color: #7f7f7f; text-decoration-color: #7f7f7f\">:</span><a href=\"file:///home/paltenmo/projects/crossplatform/generators/docker_tooling.py#46\" target=\"_blank\"><span style=\"color: #7f7f7f; text-decoration-color: #7f7f7f\">46</span></a>\n",
       "</pre>\n"
      ],
      "text/plain": [
       "\u001b[2;36m[15:12:31]\u001b[0m\u001b[2;36m \u001b[0mProgram qiskit_circuit_5q_10g_680_6d896d_1fd766_error_min.py executed successfully. \u001b]8;id=477414;file:///home/paltenmo/projects/crossplatform/generators/docker_tooling.py\u001b\\\u001b[2mdocker_tooling.py\u001b[0m\u001b]8;;\u001b\\\u001b[2m:\u001b[0m\u001b]8;id=213744;file:///home/paltenmo/projects/crossplatform/generators/docker_tooling.py#46\u001b\\\u001b[2m46\u001b[0m\u001b]8;;\u001b\\\n"
      ]
     },
     "metadata": {},
     "output_type": "display_data"
    },
    {
     "data": {
      "application/vnd.jupyter.widget-view+json": {
       "model_id": "fd41c37524fc49898f76e352c9932878",
       "version_major": 2,
       "version_minor": 0
      },
      "text/plain": [
       "Executing:   0%|          | 0/13 [00:00<?, ?cell/s]"
      ]
     },
     "metadata": {},
     "output_type": "display_data"
    },
    {
     "data": {
      "text/html": [
       "<pre style=\"white-space:pre;overflow-x:auto;line-height:normal;font-family:Menlo,'DejaVu Sans Mono',consolas,'Courier New',monospace\"><span style=\"color: #7fbfbf; text-decoration-color: #7fbfbf\">[15:12:34] </span>Analysis notebook executed: ..<span style=\"color: #800080; text-decoration-color: #800080\">/reports/v009/2024_11_21__15_09/</span><span style=\"color: #ff00ff; text-decoration-color: #ff00ff\">analysis_output.ipynb</span>        <a href=\"file:///home/paltenmo/projects/crossplatform/analysis_and_reporting/triage.py\" target=\"_blank\"><span style=\"color: #7f7f7f; text-decoration-color: #7f7f7f\">triage.py</span></a><span style=\"color: #7f7f7f; text-decoration-color: #7f7f7f\">:</span><a href=\"file:///home/paltenmo/projects/crossplatform/analysis_and_reporting/triage.py#163\" target=\"_blank\"><span style=\"color: #7f7f7f; text-decoration-color: #7f7f7f\">163</span></a>\n",
       "</pre>\n"
      ],
      "text/plain": [
       "\u001b[2;36m[15:12:34]\u001b[0m\u001b[2;36m \u001b[0mAnalysis notebook executed: ..\u001b[35m/reports/v009/2024_11_21__15_09/\u001b[0m\u001b[95manalysis_output.ipynb\u001b[0m        \u001b]8;id=672233;file:///home/paltenmo/projects/crossplatform/analysis_and_reporting/triage.py\u001b\\\u001b[2mtriage.py\u001b[0m\u001b]8;;\u001b\\\u001b[2m:\u001b[0m\u001b]8;id=4561;file:///home/paltenmo/projects/crossplatform/analysis_and_reporting/triage.py#163\u001b\\\u001b[2m163\u001b[0m\u001b]8;;\u001b\\\n"
      ]
     },
     "metadata": {},
     "output_type": "display_data"
    },
    {
     "data": {
      "text/html": [
       "<pre style=\"white-space:pre;overflow-x:auto;line-height:normal;font-family:Menlo,'DejaVu Sans Mono',consolas,'Courier New',monospace\"><span style=\"color: #7fbfbf; text-decoration-color: #7fbfbf\">           </span>Created report folder: ..<span style=\"color: #800080; text-decoration-color: #800080\">/reports/v009/</span><span style=\"color: #ff00ff; text-decoration-color: #ff00ff\">2024_11_21__15_12</span>                                   <a href=\"file:///home/paltenmo/projects/crossplatform/analysis_and_reporting/triage.py\" target=\"_blank\"><span style=\"color: #7f7f7f; text-decoration-color: #7f7f7f\">triage.py</span></a><span style=\"color: #7f7f7f; text-decoration-color: #7f7f7f\">:</span><a href=\"file:///home/paltenmo/projects/crossplatform/analysis_and_reporting/triage.py#131\" target=\"_blank\"><span style=\"color: #7f7f7f; text-decoration-color: #7f7f7f\">131</span></a>\n",
       "</pre>\n"
      ],
      "text/plain": [
       "\u001b[2;36m          \u001b[0m\u001b[2;36m \u001b[0mCreated report folder: ..\u001b[35m/reports/v009/\u001b[0m\u001b[95m2024_11_21__15_12\u001b[0m                                   \u001b]8;id=539788;file:///home/paltenmo/projects/crossplatform/analysis_and_reporting/triage.py\u001b\\\u001b[2mtriage.py\u001b[0m\u001b]8;;\u001b\\\u001b[2m:\u001b[0m\u001b]8;id=237902;file:///home/paltenmo/projects/crossplatform/analysis_and_reporting/triage.py#131\u001b\\\u001b[2m131\u001b[0m\u001b]8;;\u001b\\\n"
      ]
     },
     "metadata": {},
     "output_type": "display_data"
    },
    {
     "data": {
      "text/html": [
       "<pre style=\"white-space:pre;overflow-x:auto;line-height:normal;font-family:Menlo,'DejaVu Sans Mono',consolas,'Courier New',monospace\"><span style=\"color: #7fbfbf; text-decoration-color: #7fbfbf\">           </span>Copied files to: ..<span style=\"color: #800080; text-decoration-color: #800080\">/reports/v009/</span><span style=\"color: #ff00ff; text-decoration-color: #ff00ff\">2024_11_21__15_12</span>                                         <a href=\"file:///home/paltenmo/projects/crossplatform/analysis_and_reporting/triage.py\" target=\"_blank\"><span style=\"color: #7f7f7f; text-decoration-color: #7f7f7f\">triage.py</span></a><span style=\"color: #7f7f7f; text-decoration-color: #7f7f7f\">:</span><a href=\"file:///home/paltenmo/projects/crossplatform/analysis_and_reporting/triage.py#140\" target=\"_blank\"><span style=\"color: #7f7f7f; text-decoration-color: #7f7f7f\">140</span></a>\n",
       "</pre>\n"
      ],
      "text/plain": [
       "\u001b[2;36m          \u001b[0m\u001b[2;36m \u001b[0mCopied files to: ..\u001b[35m/reports/v009/\u001b[0m\u001b[95m2024_11_21__15_12\u001b[0m                                         \u001b]8;id=440474;file:///home/paltenmo/projects/crossplatform/analysis_and_reporting/triage.py\u001b\\\u001b[2mtriage.py\u001b[0m\u001b]8;;\u001b\\\u001b[2m:\u001b[0m\u001b]8;id=45501;file:///home/paltenmo/projects/crossplatform/analysis_and_reporting/triage.py#140\u001b\\\u001b[2m140\u001b[0m\u001b]8;;\u001b\\\n"
      ]
     },
     "metadata": {},
     "output_type": "display_data"
    },
    {
     "data": {
      "text/html": [
       "<pre style=\"white-space:pre;overflow-x:auto;line-height:normal;font-family:Menlo,'DejaVu Sans Mono',consolas,'Courier New',monospace\"><span style=\"color: #7fbfbf; text-decoration-color: #7fbfbf\">[15:12:34] </span>Involved functions:                                                             <a href=\"file:///home/paltenmo/projects/crossplatform/analysis_and_reporting/ddmin_target_file.py\" target=\"_blank\"><span style=\"color: #7f7f7f; text-decoration-color: #7f7f7f\">ddmin_target_file.py</span></a><span style=\"color: #7f7f7f; text-decoration-color: #7f7f7f\">:</span><a href=\"file:///home/paltenmo/projects/crossplatform/analysis_and_reporting/ddmin_target_file.py#206\" target=\"_blank\"><span style=\"color: #7f7f7f; text-decoration-color: #7f7f7f\">206</span></a>\n",
       "</pre>\n"
      ],
      "text/plain": [
       "\u001b[2;36m[15:12:34]\u001b[0m\u001b[2;36m \u001b[0mInvolved functions:                                                             \u001b]8;id=551201;file:///home/paltenmo/projects/crossplatform/analysis_and_reporting/ddmin_target_file.py\u001b\\\u001b[2mddmin_target_file.py\u001b[0m\u001b]8;;\u001b\\\u001b[2m:\u001b[0m\u001b]8;id=250080;file:///home/paltenmo/projects/crossplatform/analysis_and_reporting/ddmin_target_file.py#206\u001b\\\u001b[2m206\u001b[0m\u001b]8;;\u001b\\\n"
      ]
     },
     "metadata": {},
     "output_type": "display_data"
    },
    {
     "data": {
      "text/html": [
       "<pre style=\"white-space:pre;overflow-x:auto;line-height:normal;font-family:Menlo,'DejaVu Sans Mono',consolas,'Courier New',monospace\"><span style=\"color: #7fbfbf; text-decoration-color: #7fbfbf\">           </span>  - compare_qasm_via_qcec                                                       <a href=\"file:///home/paltenmo/projects/crossplatform/analysis_and_reporting/ddmin_target_file.py\" target=\"_blank\"><span style=\"color: #7f7f7f; text-decoration-color: #7f7f7f\">ddmin_target_file.py</span></a><span style=\"color: #7f7f7f; text-decoration-color: #7f7f7f\">:</span><a href=\"file:///home/paltenmo/projects/crossplatform/analysis_and_reporting/ddmin_target_file.py#208\" target=\"_blank\"><span style=\"color: #7f7f7f; text-decoration-color: #7f7f7f\">208</span></a>\n",
       "</pre>\n"
      ],
      "text/plain": [
       "\u001b[2;36m          \u001b[0m\u001b[2;36m \u001b[0m  - compare_qasm_via_qcec                                                       \u001b]8;id=263622;file:///home/paltenmo/projects/crossplatform/analysis_and_reporting/ddmin_target_file.py\u001b\\\u001b[2mddmin_target_file.py\u001b[0m\u001b]8;;\u001b\\\u001b[2m:\u001b[0m\u001b]8;id=456243;file:///home/paltenmo/projects/crossplatform/analysis_and_reporting/ddmin_target_file.py#208\u001b\\\u001b[2m208\u001b[0m\u001b]8;;\u001b\\\n"
      ]
     },
     "metadata": {},
     "output_type": "display_data"
    },
    {
     "data": {
      "text/html": [
       "<pre style=\"white-space:pre;overflow-x:auto;line-height:normal;font-family:Menlo,'DejaVu Sans Mono',consolas,'Courier New',monospace\"><span style=\"color: #7fbfbf; text-decoration-color: #7fbfbf\">           </span>  - export_to_qasm_with_pytket                                                  <a href=\"file:///home/paltenmo/projects/crossplatform/analysis_and_reporting/ddmin_target_file.py\" target=\"_blank\"><span style=\"color: #7f7f7f; text-decoration-color: #7f7f7f\">ddmin_target_file.py</span></a><span style=\"color: #7f7f7f; text-decoration-color: #7f7f7f\">:</span><a href=\"file:///home/paltenmo/projects/crossplatform/analysis_and_reporting/ddmin_target_file.py#208\" target=\"_blank\"><span style=\"color: #7f7f7f; text-decoration-color: #7f7f7f\">208</span></a>\n",
       "</pre>\n"
      ],
      "text/plain": [
       "\u001b[2;36m          \u001b[0m\u001b[2;36m \u001b[0m  - export_to_qasm_with_pytket                                                  \u001b]8;id=634482;file:///home/paltenmo/projects/crossplatform/analysis_and_reporting/ddmin_target_file.py\u001b\\\u001b[2mddmin_target_file.py\u001b[0m\u001b]8;;\u001b\\\u001b[2m:\u001b[0m\u001b]8;id=715175;file:///home/paltenmo/projects/crossplatform/analysis_and_reporting/ddmin_target_file.py#208\u001b\\\u001b[2m208\u001b[0m\u001b]8;;\u001b\\\n"
      ]
     },
     "metadata": {},
     "output_type": "display_data"
    },
    {
     "data": {
      "text/html": [
       "<pre style=\"white-space:pre;overflow-x:auto;line-height:normal;font-family:Menlo,'DejaVu Sans Mono',consolas,'Courier New',monospace\"><span style=\"color: #7fbfbf; text-decoration-color: #7fbfbf\">           </span>  - export_to_qasm_with_qiskit                                                  <a href=\"file:///home/paltenmo/projects/crossplatform/analysis_and_reporting/ddmin_target_file.py\" target=\"_blank\"><span style=\"color: #7f7f7f; text-decoration-color: #7f7f7f\">ddmin_target_file.py</span></a><span style=\"color: #7f7f7f; text-decoration-color: #7f7f7f\">:</span><a href=\"file:///home/paltenmo/projects/crossplatform/analysis_and_reporting/ddmin_target_file.py#208\" target=\"_blank\"><span style=\"color: #7f7f7f; text-decoration-color: #7f7f7f\">208</span></a>\n",
       "</pre>\n"
      ],
      "text/plain": [
       "\u001b[2;36m          \u001b[0m\u001b[2;36m \u001b[0m  - export_to_qasm_with_qiskit                                                  \u001b]8;id=208365;file:///home/paltenmo/projects/crossplatform/analysis_and_reporting/ddmin_target_file.py\u001b\\\u001b[2mddmin_target_file.py\u001b[0m\u001b]8;;\u001b\\\u001b[2m:\u001b[0m\u001b]8;id=926996;file:///home/paltenmo/projects/crossplatform/analysis_and_reporting/ddmin_target_file.py#208\u001b\\\u001b[2m208\u001b[0m\u001b]8;;\u001b\\\n"
      ]
     },
     "metadata": {},
     "output_type": "display_data"
    },
    {
     "name": "stdout",
     "output_type": "stream",
     "text": [
      "Error parsing: Command 'python /workspace/to_execute.py' in image 'qiskit_runner' returned non-zero exit status 1: b'Traceback (most recent call last):\\n  File \"/workspace/to_execute.py\", line 105, in <module>\\n    target_qc = qc\\nNameError: name \\'qc\\' is not defined\\n'\n",
      "Failed to execute to_execute.py in Docker.\n",
      "Output: Saved the Pytket circuit to /workspace/to_execute_qc_pytket.qasm\n",
      "Saved the Qiskit circuit to /workspace/to_execute_qc_qiskit.qasm\n",
      "Exported QASM files: [('/workspace/to_execute_qc_pytket.qasm', 'export_to_qasm_with_pytket'), ('/workspace/to_execute_qc_qiskit.qasm', 'export_to_qasm_with_qiskit')]\n",
      "Log has been saved to /workspace/to_execute_d9884e_error.json\n",
      "\n",
      "Program to_execute.py executed successfully.\n",
      "New exception message: The circuits are not equivalent: /workspace/to_execute_qc_pytket.qasm, /workspace/to_execute_qc_qiskit.qasm\n",
      "Error parsing: Command 'python /workspace/to_execute.py' in image 'qiskit_runner' returned non-zero exit status 1: b'  File \"/workspace/to_execute.py\", line 18\\n    , custom_instructions=qasm2.LEGACY_CUSTOM_INSTRUCTIONS)\\n                                                          ^\\nSyntaxError: unmatched \\')\\'\\n'\n",
      "Failed to execute to_execute.py in Docker.\n",
      "Error parsing: Command 'python /workspace/to_execute.py' in image 'qiskit_runner' returned non-zero exit status 1: b'  File \"/workspace/to_execute.py\", line 10\\n    qc = qasm2.loads(\\n                    ^\\nSyntaxError: \\'(\\' was never closed\\n'\n",
      "Failed to execute to_execute.py in Docker.\n",
      "Error parsing: Command 'python /workspace/to_execute.py' in image 'qiskit_runner' returned non-zero exit status 1: b'  File \"/workspace/to_execute.py\", line 23\\n    , custom_instructions=qasm2.LEGACY_CUSTOM_INSTRUCTIONS)\\n                                                          ^\\nSyntaxError: unmatched \\')\\'\\n'\n",
      "Failed to execute to_execute.py in Docker.\n",
      "Error parsing: Command 'python /workspace/to_execute.py' in image 'qiskit_runner' returned non-zero exit status 1: b'Traceback (most recent call last):\\n  File \"/workspace/to_execute.py\", line 10, in <module>\\n    qc = qasm2.loads(\\n  File \"/usr/local/lib/python3.10/site-packages/qiskit/qasm2/__init__.py\", line 587, in loads\\n    return _parse.from_bytecode(\\n  File \"/usr/local/lib/python3.10/site-packages/qiskit/qasm2/parse.py\", line 214, in from_bytecode\\n    for op in bc:\\nqiskit.qasm2.exceptions.QASM2ParseError: \"<input>:5,2: \\'reg_1_q\\' is not defined in this scope\"\\n'\n",
      "Failed to execute to_execute.py in Docker.\n",
      "Output: Saved the Pytket circuit to /workspace/to_execute_qc_pytket.qasm\n",
      "Saved the Qiskit circuit to /workspace/to_execute_qc_qiskit.qasm\n",
      "Exported QASM files: [('/workspace/to_execute_qc_pytket.qasm', 'export_to_qasm_with_pytket'), ('/workspace/to_execute_qc_qiskit.qasm', 'export_to_qasm_with_qiskit')]\n",
      "Log has been saved to /workspace/to_execute_608f83_error.json\n",
      "\n",
      "Program to_execute.py executed successfully.\n",
      "New exception message: The circuits are not equivalent: /workspace/to_execute_qc_pytket.qasm, /workspace/to_execute_qc_qiskit.qasm\n",
      "Error parsing: Command 'python /workspace/to_execute.py' in image 'qiskit_runner' returned non-zero exit status 1: b'  File \"/workspace/to_execute.py\", line 18\\n    , custom_instructions=qasm2.LEGACY_CUSTOM_INSTRUCTIONS)\\n                                                          ^\\nSyntaxError: unmatched \\')\\'\\n'\n",
      "Failed to execute to_execute.py in Docker.\n",
      "Error parsing: Command 'python /workspace/to_execute.py' in image 'qiskit_runner' returned non-zero exit status 1: b'Traceback (most recent call last):\\n  File \"/workspace/to_execute.py\", line 10, in <module>\\n    qc = qasm2.loads(\\n  File \"/usr/local/lib/python3.10/site-packages/qiskit/qasm2/__init__.py\", line 587, in loads\\n    return _parse.from_bytecode(\\n  File \"/usr/local/lib/python3.10/site-packages/qiskit/qasm2/parse.py\", line 214, in from_bytecode\\n    for op in bc:\\nqiskit.qasm2.exceptions.QASM2ParseError: \"<input>:4,3: \\'reg_2_a\\' is not defined in this scope\"\\n'\n",
      "Failed to execute to_execute.py in Docker.\n",
      "Error parsing: Command 'python /workspace/to_execute.py' in image 'qiskit_runner' returned non-zero exit status 1: b'  File \"/workspace/to_execute.py\", line 10\\n    qc = qasm2.loads(\\n                    ^\\nSyntaxError: \\'(\\' was never closed\\n'\n",
      "Failed to execute to_execute.py in Docker.\n",
      "Error parsing: Command 'python /workspace/to_execute.py' in image 'qiskit_runner' returned non-zero exit status 1: b'  File \"/workspace/to_execute.py\", line 20\\n    , custom_instructions=qasm2.LEGACY_CUSTOM_INSTRUCTIONS)\\n                                                          ^\\nSyntaxError: unmatched \\')\\'\\n'\n",
      "Failed to execute to_execute.py in Docker.\n",
      "Error parsing: Command 'python /workspace/to_execute.py' in image 'qiskit_runner' returned non-zero exit status 1: b'Traceback (most recent call last):\\n  File \"/workspace/to_execute.py\", line 10, in <module>\\n    qc = qasm2.loads(\\n  File \"/usr/local/lib/python3.10/site-packages/qiskit/qasm2/__init__.py\", line 587, in loads\\n    return _parse.from_bytecode(\\n  File \"/usr/local/lib/python3.10/site-packages/qiskit/qasm2/parse.py\", line 214, in from_bytecode\\n    for op in bc:\\nqiskit.qasm2.exceptions.QASM2ParseError: \"<input>:7,0: cannot use non-builtin custom instruction \\'cx\\' before definition\"\\n'\n",
      "Failed to execute to_execute.py in Docker.\n",
      "Error parsing: Command 'python /workspace/to_execute.py' in image 'qiskit_runner' returned non-zero exit status 1: b'Traceback (most recent call last):\\n  File \"/workspace/to_execute.py\", line 10, in <module>\\n    qc = qasm2.loads(\\n  File \"/usr/local/lib/python3.10/site-packages/qiskit/qasm2/__init__.py\", line 587, in loads\\n    return _parse.from_bytecode(\\n  File \"/usr/local/lib/python3.10/site-packages/qiskit/qasm2/parse.py\", line 214, in from_bytecode\\n    for op in bc:\\nqiskit.qasm2.exceptions.QASM2ParseError: \"<input>:6,3: \\'reg_2_a\\' is not defined in this scope\"\\n'\n",
      "Failed to execute to_execute.py in Docker.\n",
      "Error parsing: Command 'python /workspace/to_execute.py' in image 'qiskit_runner' returned non-zero exit status 1: b'Traceback (most recent call last):\\n  File \"/workspace/to_execute.py\", line 10, in <module>\\n    qc = qasm2.loads(\\n  File \"/usr/local/lib/python3.10/site-packages/qiskit/qasm2/__init__.py\", line 587, in loads\\n    return _parse.from_bytecode(\\n  File \"/usr/local/lib/python3.10/site-packages/qiskit/qasm2/parse.py\", line 214, in from_bytecode\\n    for op in bc:\\nqiskit.qasm2.exceptions.QASM2ParseError: \"<input>:7,14: \\'reg_2_b\\' is not defined in this scope\"\\n'\n",
      "Failed to execute to_execute.py in Docker.\n",
      "Output: Saved the Pytket circuit to /workspace/to_execute_qc_pytket.qasm\n",
      "Saved the Qiskit circuit to /workspace/to_execute_qc_qiskit.qasm\n",
      "Exported QASM files: [('/workspace/to_execute_qc_pytket.qasm', 'export_to_qasm_with_pytket'), ('/workspace/to_execute_qc_qiskit.qasm', 'export_to_qasm_with_qiskit')]\n",
      "The circuits are equivalent: /workspace/to_execute_qc_pytket.qasm, /workspace/to_execute_qc_qiskit.qasm\n",
      "\n",
      "Program to_execute.py executed successfully.\n",
      "Error parsing: Command 'python /workspace/to_execute.py' in image 'qiskit_runner' returned non-zero exit status 1: b'  File \"/workspace/to_execute.py\", line 10\\n    qc = qasm2.loads(\\n                    ^\\nSyntaxError: \\'(\\' was never closed\\n'\n",
      "Failed to execute to_execute.py in Docker.\n",
      "Error parsing: Command 'python /workspace/to_execute.py' in image 'qiskit_runner' returned non-zero exit status 1: b'  File \"/workspace/to_execute.py\", line 23\\n    , custom_instructions=qasm2.LEGACY_CUSTOM_INSTRUCTIONS)\\nIndentationError: unexpected indent\\n'\n",
      "Failed to execute to_execute.py in Docker.\n",
      "Output: Saved the Pytket circuit to /workspace/to_execute_qc_pytket.qasm\n",
      "Saved the Qiskit circuit to /workspace/to_execute_qc_qiskit.qasm\n",
      "Exported QASM files: [('/workspace/to_execute_qc_pytket.qasm', 'export_to_qasm_with_pytket'), ('/workspace/to_execute_qc_qiskit.qasm', 'export_to_qasm_with_qiskit')]\n",
      "Log has been saved to /workspace/to_execute_887cae_error.json\n",
      "\n",
      "Program to_execute.py executed successfully.\n",
      "New exception message: The circuits are not equivalent: /workspace/to_execute_qc_pytket.qasm, /workspace/to_execute_qc_qiskit.qasm\n",
      "Error parsing: Command 'python /workspace/to_execute.py' in image 'qiskit_runner' returned non-zero exit status 1: b'  File \"/workspace/to_execute.py\", line 22\\n    , custom_instructions=qasm2.LEGACY_CUSTOM_INSTRUCTIONS)\\nIndentationError: unexpected indent\\n'\n",
      "Failed to execute to_execute.py in Docker.\n",
      "Error parsing: Command 'python /workspace/to_execute.py' in image 'qiskit_runner' returned non-zero exit status 1: b'  File \"/workspace/to_execute.py\", line 11\\n    OPENQASM 2.0;\\n    ^^^^^^^^^^^^\\nSyntaxError: invalid syntax. Perhaps you forgot a comma?\\n'\n",
      "Failed to execute to_execute.py in Docker.\n",
      "Output: Saved the Pytket circuit to /workspace/to_execute_qc_pytket.qasm\n",
      "Saved the Qiskit circuit to /workspace/to_execute_qc_qiskit.qasm\n",
      "Exported QASM files: [('/workspace/to_execute_qc_pytket.qasm', 'export_to_qasm_with_pytket'), ('/workspace/to_execute_qc_qiskit.qasm', 'export_to_qasm_with_qiskit')]\n",
      "Log has been saved to /workspace/to_execute_2caee7_error.json\n",
      "\n",
      "Program to_execute.py executed successfully.\n",
      "New exception message: The circuits are not equivalent: /workspace/to_execute_qc_pytket.qasm, /workspace/to_execute_qc_qiskit.qasm\n",
      "Error parsing: Command 'python /workspace/to_execute.py' in image 'qiskit_runner' returned non-zero exit status 1: b'  File \"/workspace/to_execute.py\", line 21\\n    , custom_instructions=qasm2.LEGACY_CUSTOM_INSTRUCTIONS)\\nIndentationError: unexpected indent\\n'\n",
      "Failed to execute to_execute.py in Docker.\n",
      "Error parsing: Command 'python /workspace/to_execute.py' in image 'qiskit_runner' returned non-zero exit status 1: b'  File \"/workspace/to_execute.py\", line 11\\n    include \"qelib1.inc\";\\n            ^^^^^^^^^^^^\\nSyntaxError: invalid syntax\\n'\n",
      "Failed to execute to_execute.py in Docker.\n",
      "Error parsing: Command 'python /workspace/to_execute.py' in image 'qiskit_runner' returned non-zero exit status 1: b'Traceback (most recent call last):\\n  File \"/workspace/to_execute.py\", line 10, in <module>\\n    qc = qasm2.loads(\\n  File \"/usr/local/lib/python3.10/site-packages/qiskit/qasm2/__init__.py\", line 587, in loads\\n    return _parse.from_bytecode(\\n  File \"/usr/local/lib/python3.10/site-packages/qiskit/qasm2/parse.py\", line 214, in from_bytecode\\n    for op in bc:\\nqiskit.qasm2.exceptions.QASM2ParseError: \"<input>:7,0: cannot use non-builtin custom instruction \\'cx\\' before definition\"\\n'\n",
      "Failed to execute to_execute.py in Docker.\n",
      "Output: Saved the Pytket circuit to /workspace/to_execute_qc_pytket.qasm\n",
      "Saved the Qiskit circuit to /workspace/to_execute_qc_qiskit.qasm\n",
      "Exported QASM files: [('/workspace/to_execute_qc_pytket.qasm', 'export_to_qasm_with_pytket'), ('/workspace/to_execute_qc_qiskit.qasm', 'export_to_qasm_with_qiskit')]\n",
      "Log has been saved to /workspace/to_execute_2f0673_error.json\n",
      "\n",
      "Program to_execute.py executed successfully.\n",
      "New exception message: The circuits are not equivalent: /workspace/to_execute_qc_pytket.qasm, /workspace/to_execute_qc_qiskit.qasm\n",
      "Error parsing: Command 'python /workspace/to_execute.py' in image 'qiskit_runner' returned non-zero exit status 1: b'  File \"/workspace/to_execute.py\", line 20\\n    , custom_instructions=qasm2.LEGACY_CUSTOM_INSTRUCTIONS)\\nIndentationError: unexpected indent\\n'\n",
      "Failed to execute to_execute.py in Docker.\n",
      "Error parsing: Command 'python /workspace/to_execute.py' in image 'qiskit_runner' returned non-zero exit status 1: b'  File \"/workspace/to_execute.py\", line 11\\n    include \"qelib1.inc\";\\n            ^^^^^^^^^^^^\\nSyntaxError: invalid syntax\\n'\n",
      "Failed to execute to_execute.py in Docker.\n",
      "Error parsing: Command 'python /workspace/to_execute.py' in image 'qiskit_runner' returned non-zero exit status 1: b'Traceback (most recent call last):\\n  File \"/workspace/to_execute.py\", line 10, in <module>\\n    qc = qasm2.loads(\\n  File \"/usr/local/lib/python3.10/site-packages/qiskit/qasm2/__init__.py\", line 587, in loads\\n    return _parse.from_bytecode(\\n  File \"/usr/local/lib/python3.10/site-packages/qiskit/qasm2/parse.py\", line 214, in from_bytecode\\n    for op in bc:\\nqiskit.qasm2.exceptions.QASM2ParseError: \"<input>:6,0: cannot use non-builtin custom instruction \\'cx\\' before definition\"\\n'\n",
      "Failed to execute to_execute.py in Docker.\n",
      "Error parsing: Command 'python /workspace/to_execute.py' in image 'qiskit_runner' returned non-zero exit status 1: b'Traceback (most recent call last):\\n  File \"/workspace/to_execute.py\", line 10, in <module>\\n    qc = qasm2.loads(\\n  File \"/usr/local/lib/python3.10/site-packages/qiskit/qasm2/__init__.py\", line 587, in loads\\n    return _parse.from_bytecode(\\n  File \"/usr/local/lib/python3.10/site-packages/qiskit/qasm2/parse.py\", line 214, in from_bytecode\\n    for op in bc:\\nqiskit.qasm2.exceptions.QASM2ParseError: \"<input>:5,3: \\'reg_2_a\\' is not defined in this scope\"\\n'\n",
      "Failed to execute to_execute.py in Docker.\n",
      "Error parsing: Command 'python /workspace/to_execute.py' in image 'qiskit_runner' returned non-zero exit status 1: b'Traceback (most recent call last):\\n  File \"/workspace/to_execute.py\", line 10, in <module>\\n    qc = qasm2.loads(\\n  File \"/usr/local/lib/python3.10/site-packages/qiskit/qasm2/__init__.py\", line 587, in loads\\n    return _parse.from_bytecode(\\n  File \"/usr/local/lib/python3.10/site-packages/qiskit/qasm2/parse.py\", line 214, in from_bytecode\\n    for op in bc:\\nqiskit.qasm2.exceptions.QASM2ParseError: \"<input>:6,14: \\'reg_2_b\\' is not defined in this scope\"\\n'\n",
      "Failed to execute to_execute.py in Docker.\n",
      "Output: Saved the Pytket circuit to /workspace/to_execute_qc_pytket.qasm\n",
      "Saved the Qiskit circuit to /workspace/to_execute_qc_qiskit.qasm\n",
      "Exported QASM files: [('/workspace/to_execute_qc_pytket.qasm', 'export_to_qasm_with_pytket'), ('/workspace/to_execute_qc_qiskit.qasm', 'export_to_qasm_with_qiskit')]\n",
      "Log has been saved to /workspace/to_execute_48e16c_error.json\n",
      "\n",
      "Program to_execute.py executed successfully.\n",
      "New exception message: The circuits are not equivalent: /workspace/to_execute_qc_pytket.qasm, /workspace/to_execute_qc_qiskit.qasm\n",
      "Error parsing: Command 'python /workspace/to_execute.py' in image 'qiskit_runner' returned non-zero exit status 1: b'  File \"/workspace/to_execute.py\", line 18\\n    , custom_instructions=qasm2.LEGACY_CUSTOM_INSTRUCTIONS)\\nIndentationError: unexpected indent\\n'\n",
      "Failed to execute to_execute.py in Docker.\n",
      "Error parsing: Command 'python /workspace/to_execute.py' in image 'qiskit_runner' returned non-zero exit status 1: b'  File \"/workspace/to_execute.py\", line 11\\n    include \"qelib1.inc\";\\n            ^^^^^^^^^^^^\\nSyntaxError: invalid syntax\\n'\n",
      "Failed to execute to_execute.py in Docker.\n",
      "Error parsing: Command 'python /workspace/to_execute.py' in image 'qiskit_runner' returned non-zero exit status 1: b'Traceback (most recent call last):\\n  File \"/workspace/to_execute.py\", line 10, in <module>\\n    qc = qasm2.loads(\\n  File \"/usr/local/lib/python3.10/site-packages/qiskit/qasm2/__init__.py\", line 587, in loads\\n    return _parse.from_bytecode(\\n  File \"/usr/local/lib/python3.10/site-packages/qiskit/qasm2/parse.py\", line 214, in from_bytecode\\n    for op in bc:\\nqiskit.qasm2.exceptions.QASM2ParseError: \"<input>:5,0: cannot use non-builtin custom instruction \\'cx\\' before definition\"\\n'\n",
      "Failed to execute to_execute.py in Docker.\n",
      "Error parsing: Command 'python /workspace/to_execute.py' in image 'qiskit_runner' returned non-zero exit status 1: b'Traceback (most recent call last):\\n  File \"/workspace/to_execute.py\", line 10, in <module>\\n    qc = qasm2.loads(\\n  File \"/usr/local/lib/python3.10/site-packages/qiskit/qasm2/__init__.py\", line 587, in loads\\n    return _parse.from_bytecode(\\n  File \"/usr/local/lib/python3.10/site-packages/qiskit/qasm2/parse.py\", line 214, in from_bytecode\\n    for op in bc:\\nqiskit.qasm2.exceptions.QASM2ParseError: \"<input>:5,14: \\'reg_2_cin\\' is not defined in this scope\"\\n'\n",
      "Failed to execute to_execute.py in Docker.\n",
      "Error parsing: Command 'python /workspace/to_execute.py' in image 'qiskit_runner' returned non-zero exit status 1: b'Traceback (most recent call last):\\n  File \"/workspace/to_execute.py\", line 10, in <module>\\n    qc = qasm2.loads(\\n  File \"/usr/local/lib/python3.10/site-packages/qiskit/qasm2/__init__.py\", line 587, in loads\\n    return _parse.from_bytecode(\\n  File \"/usr/local/lib/python3.10/site-packages/qiskit/qasm2/parse.py\", line 214, in from_bytecode\\n    for op in bc:\\nqiskit.qasm2.exceptions.QASM2ParseError: \"<input>:4,3: \\'reg_2_a\\' is not defined in this scope\"\\n'\n",
      "Failed to execute to_execute.py in Docker.\n",
      "Output: Saved the Pytket circuit to /workspace/to_execute_qc_pytket.qasm\n",
      "Saved the Qiskit circuit to /workspace/to_execute_qc_qiskit.qasm\n",
      "Exported QASM files: [('/workspace/to_execute_qc_pytket.qasm', 'export_to_qasm_with_pytket'), ('/workspace/to_execute_qc_qiskit.qasm', 'export_to_qasm_with_qiskit')]\n",
      "Log has been saved to /workspace/to_execute_8b1205_error.json\n",
      "\n",
      "Program to_execute.py executed successfully.\n",
      "New exception message: The circuits are not equivalent: /workspace/to_execute_qc_pytket.qasm, /workspace/to_execute_qc_qiskit.qasm\n",
      "Error parsing: Command 'python /workspace/to_execute.py' in image 'qiskit_runner' returned non-zero exit status 1: b'  File \"/workspace/to_execute.py\", line 17\\n    , custom_instructions=qasm2.LEGACY_CUSTOM_INSTRUCTIONS)\\nIndentationError: unexpected indent\\n'\n",
      "Failed to execute to_execute.py in Docker.\n",
      "Error parsing: Command 'python /workspace/to_execute.py' in image 'qiskit_runner' returned non-zero exit status 1: b'  File \"/workspace/to_execute.py\", line 11\\n    include \"qelib1.inc\";\\n            ^^^^^^^^^^^^\\nSyntaxError: invalid syntax\\n'\n",
      "Failed to execute to_execute.py in Docker.\n",
      "Error parsing: Command 'python /workspace/to_execute.py' in image 'qiskit_runner' returned non-zero exit status 1: b'Traceback (most recent call last):\\n  File \"/workspace/to_execute.py\", line 10, in <module>\\n    qc = qasm2.loads(\\n  File \"/usr/local/lib/python3.10/site-packages/qiskit/qasm2/__init__.py\", line 587, in loads\\n    return _parse.from_bytecode(\\n  File \"/usr/local/lib/python3.10/site-packages/qiskit/qasm2/parse.py\", line 214, in from_bytecode\\n    for op in bc:\\nqiskit.qasm2.exceptions.QASM2ParseError: \"<input>:5,0: cannot use non-builtin custom instruction \\'ccx\\' before definition\"\\n'\n",
      "Failed to execute to_execute.py in Docker.\n",
      "Error parsing: Command 'python /workspace/to_execute.py' in image 'qiskit_runner' returned non-zero exit status 1: b'Traceback (most recent call last):\\n  File \"/workspace/to_execute.py\", line 10, in <module>\\n    qc = qasm2.loads(\\n  File \"/usr/local/lib/python3.10/site-packages/qiskit/qasm2/__init__.py\", line 587, in loads\\n    return _parse.from_bytecode(\\n  File \"/usr/local/lib/python3.10/site-packages/qiskit/qasm2/parse.py\", line 214, in from_bytecode\\n    for op in bc:\\nqiskit.qasm2.exceptions.QASM2ParseError: \"<input>:4,4: \\'reg_2_cin\\' is not defined in this scope\"\\n'\n",
      "Failed to execute to_execute.py in Docker.\n",
      "Error parsing: Command 'python /workspace/to_execute.py' in image 'qiskit_runner' returned non-zero exit status 1: b'Traceback (most recent call last):\\n  File \"/workspace/to_execute.py\", line 10, in <module>\\n    qc = qasm2.loads(\\n  File \"/usr/local/lib/python3.10/site-packages/qiskit/qasm2/__init__.py\", line 587, in loads\\n    return _parse.from_bytecode(\\n  File \"/usr/local/lib/python3.10/site-packages/qiskit/qasm2/parse.py\", line 214, in from_bytecode\\n    for op in bc:\\nqiskit.qasm2.exceptions.QASM2ParseError: \"<input>:5,17: \\'reg_2_b\\' is not defined in this scope\"\\n'\n",
      "Failed to execute to_execute.py in Docker.\n",
      "Error parsing: Command 'python /workspace/to_execute.py' in image 'qiskit_runner' returned non-zero exit status 1: b'  File \"/workspace/to_execute.py\", line 11\\n    include \"qelib1.inc\";\\n            ^^^^^^^^^^^^\\nSyntaxError: invalid syntax\\n'\n",
      "Failed to execute to_execute.py in Docker.\n",
      "Error parsing: Command 'python /workspace/to_execute.py' in image 'qiskit_runner' returned non-zero exit status 1: b'  File \"/workspace/to_execute.py\", line 10\\n    qc = qasm2.loads(\\n                    ^\\nSyntaxError: \\'(\\' was never closed\\n'\n",
      "Failed to execute to_execute.py in Docker.\n",
      "Error parsing: Command 'python /workspace/to_execute.py' in image 'qiskit_runner' returned non-zero exit status 1: b'  File \"/workspace/to_execute.py\", line 17\\n    , custom_instructions=qasm2.LEGACY_CUSTOM_INSTRUCTIONS)\\nIndentationError: unexpected indent\\n'\n",
      "Failed to execute to_execute.py in Docker.\n",
      "Error parsing: Command 'python /workspace/to_execute.py' in image 'qiskit_runner' returned non-zero exit status 1: b'  File \"/workspace/to_execute.py\", line 11\\n    include \"qelib1.inc\";\\n            ^^^^^^^^^^^^\\nSyntaxError: invalid syntax\\n'\n",
      "Failed to execute to_execute.py in Docker.\n",
      "Error parsing: Command 'python /workspace/to_execute.py' in image 'qiskit_runner' returned non-zero exit status 1: b'Traceback (most recent call last):\\n  File \"/workspace/to_execute.py\", line 10, in <module>\\n    qc = qasm2.loads(\\n  File \"/usr/local/lib/python3.10/site-packages/qiskit/qasm2/__init__.py\", line 587, in loads\\n    return _parse.from_bytecode(\\n  File \"/usr/local/lib/python3.10/site-packages/qiskit/qasm2/parse.py\", line 214, in from_bytecode\\n    for op in bc:\\nqiskit.qasm2.exceptions.QASM2ParseError: \"<input>:5,0: cannot use non-builtin custom instruction \\'ccx\\' before definition\"\\n'\n",
      "Failed to execute to_execute.py in Docker.\n",
      "Error parsing: Command 'python /workspace/to_execute.py' in image 'qiskit_runner' returned non-zero exit status 1: b'Traceback (most recent call last):\\n  File \"/workspace/to_execute.py\", line 10, in <module>\\n    qc = qasm2.loads(\\n  File \"/usr/local/lib/python3.10/site-packages/qiskit/qasm2/__init__.py\", line 587, in loads\\n    return _parse.from_bytecode(\\n  File \"/usr/local/lib/python3.10/site-packages/qiskit/qasm2/parse.py\", line 214, in from_bytecode\\n    for op in bc:\\nqiskit.qasm2.exceptions.QASM2ParseError: \"<input>:5,4: \\'reg_2_cin\\' is not defined in this scope\"\\n'\n",
      "Failed to execute to_execute.py in Docker.\n",
      "Error parsing: Command 'python /workspace/to_execute.py' in image 'qiskit_runner' returned non-zero exit status 1: b'Traceback (most recent call last):\\n  File \"/workspace/to_execute.py\", line 10, in <module>\\n    qc = qasm2.loads(\\n  File \"/usr/local/lib/python3.10/site-packages/qiskit/qasm2/__init__.py\", line 587, in loads\\n    return _parse.from_bytecode(\\n  File \"/usr/local/lib/python3.10/site-packages/qiskit/qasm2/parse.py\", line 214, in from_bytecode\\n    for op in bc:\\nqiskit.qasm2.exceptions.QASM2ParseError: \"<input>:5,28: \\'reg_2_a\\' is not defined in this scope\"\\n'\n",
      "Failed to execute to_execute.py in Docker.\n",
      "Error parsing: Command 'python /workspace/to_execute.py' in image 'qiskit_runner' returned non-zero exit status 1: b'Traceback (most recent call last):\\n  File \"/workspace/to_execute.py\", line 10, in <module>\\n    qc = qasm2.loads(\\n  File \"/usr/local/lib/python3.10/site-packages/qiskit/qasm2/__init__.py\", line 587, in loads\\n    return _parse.from_bytecode(\\n  File \"/usr/local/lib/python3.10/site-packages/qiskit/qasm2/parse.py\", line 214, in from_bytecode\\n    for op in bc:\\nqiskit.qasm2.exceptions.QASM2ParseError: \"<input>:5,17: \\'reg_2_b\\' is not defined in this scope\"\\n'\n",
      "Failed to execute to_execute.py in Docker.\n",
      "Output: Saved the Pytket circuit to /workspace/to_execute_qc_pytket.qasm\n",
      "Saved the Qiskit circuit to /workspace/to_execute_qc_qiskit.qasm\n",
      "Exported QASM files: [('/workspace/to_execute_qc_pytket.qasm', 'export_to_qasm_with_pytket'), ('/workspace/to_execute_qc_qiskit.qasm', 'export_to_qasm_with_qiskit')]\n",
      "The circuits are equivalent: /workspace/to_execute_qc_pytket.qasm, /workspace/to_execute_qc_qiskit.qasm\n",
      "\n",
      "Program to_execute.py executed successfully.\n",
      "Error parsing: Command 'python /workspace/to_execute.py' in image 'qiskit_runner' returned non-zero exit status 1: b'  File \"/workspace/to_execute.py\", line 11\\n    include \"qelib1.inc\";\\n            ^^^^^^^^^^^^\\nSyntaxError: invalid syntax\\n'\n",
      "Failed to execute to_execute.py in Docker.\n",
      "Error parsing: Command 'python /workspace/to_execute.py' in image 'qiskit_runner' returned non-zero exit status 1: b'  File \"/workspace/to_execute.py\", line 10\\n    qc = qasm2.loads(\\n                    ^\\nSyntaxError: \\'(\\' was never closed\\n'\n",
      "Failed to execute to_execute.py in Docker.\n"
     ]
    },
    {
     "data": {
      "text/html": [
       "<pre style=\"white-space:pre;overflow-x:auto;line-height:normal;font-family:Menlo,'DejaVu Sans Mono',consolas,'Courier New',monospace\"><span style=\"color: #7fbfbf; text-decoration-color: #7fbfbf\">[15:15:46] </span><span style=\"color: #008000; text-decoration-color: #008000\">Minimized file saved as:</span>                                                        <a href=\"file:///home/paltenmo/projects/crossplatform/analysis_and_reporting/ddmin_target_file.py\" target=\"_blank\"><span style=\"color: #7f7f7f; text-decoration-color: #7f7f7f\">ddmin_target_file.py</span></a><span style=\"color: #7f7f7f; text-decoration-color: #7f7f7f\">:</span><a href=\"file:///home/paltenmo/projects/crossplatform/analysis_and_reporting/ddmin_target_file.py#240\" target=\"_blank\"><span style=\"color: #7f7f7f; text-decoration-color: #7f7f7f\">240</span></a>\n",
       "<span style=\"color: #7fbfbf; text-decoration-color: #7fbfbf\">           </span>..<span style=\"color: #800080; text-decoration-color: #800080\">/reports/v009/2024_11_21__15_12/</span><span style=\"color: #ff00ff; text-decoration-color: #ff00ff\">qiskit_circuit_5q_10g_5399_c4b732_f59bef_erro</span> <span style=\"color: #7f7f7f; text-decoration-color: #7f7f7f\">                        </span>\n",
       "<span style=\"color: #7fbfbf; text-decoration-color: #7fbfbf\">           </span><span style=\"color: #ff00ff; text-decoration-color: #ff00ff\">r_min.py</span>                                                                        <span style=\"color: #7f7f7f; text-decoration-color: #7f7f7f\">                        </span>\n",
       "</pre>\n"
      ],
      "text/plain": [
       "\u001b[2;36m[15:15:46]\u001b[0m\u001b[2;36m \u001b[0m\u001b[32mMinimized file saved as:\u001b[0m                                                        \u001b]8;id=979709;file:///home/paltenmo/projects/crossplatform/analysis_and_reporting/ddmin_target_file.py\u001b\\\u001b[2mddmin_target_file.py\u001b[0m\u001b]8;;\u001b\\\u001b[2m:\u001b[0m\u001b]8;id=722071;file:///home/paltenmo/projects/crossplatform/analysis_and_reporting/ddmin_target_file.py#240\u001b\\\u001b[2m240\u001b[0m\u001b]8;;\u001b\\\n",
       "\u001b[2;36m           \u001b[0m..\u001b[35m/reports/v009/2024_11_21__15_12/\u001b[0m\u001b[95mqiskit_circuit_5q_10g_5399_c4b732_f59bef_erro\u001b[0m \u001b[2m                        \u001b[0m\n",
       "\u001b[2;36m           \u001b[0m\u001b[95mr_min.py\u001b[0m                                                                        \u001b[2m                        \u001b[0m\n"
      ]
     },
     "metadata": {},
     "output_type": "display_data"
    },
    {
     "name": "stdout",
     "output_type": "stream",
     "text": [
      "Output: Saved the Pytket circuit to /workspace/qiskit_circuit_5q_10g_5399_c4b732_f59bef_error_min_qc_pytket.qasm\n",
      "Saved the Qiskit circuit to /workspace/qiskit_circuit_5q_10g_5399_c4b732_f59bef_error_min_qc_qiskit.qasm\n",
      "Exported QASM files: [('/workspace/qiskit_circuit_5q_10g_5399_c4b732_f59bef_error_min_qc_pytket.qasm', 'export_to_qasm_with_pytket'), ('/workspace/qiskit_circuit_5q_10g_5399_c4b732_f59bef_error_min_qc_qiskit.qasm', 'export_to_qasm_with_qiskit')]\n",
      "Log has been saved to /workspace/qiskit_circuit_5q_10g_5399_c4b732_f59bef_error_min_ecf2b2_error.json\n",
      "\n"
     ]
    },
    {
     "data": {
      "text/html": [
       "<pre style=\"white-space:pre;overflow-x:auto;line-height:normal;font-family:Menlo,'DejaVu Sans Mono',consolas,'Courier New',monospace\"><span style=\"color: #7fbfbf; text-decoration-color: #7fbfbf\">[15:15:53] </span>Program qiskit_circuit_5q_10g_5399_c4b732_f59bef_error_min.py executed              <a href=\"file:///home/paltenmo/projects/crossplatform/generators/docker_tooling.py\" target=\"_blank\"><span style=\"color: #7f7f7f; text-decoration-color: #7f7f7f\">docker_tooling.py</span></a><span style=\"color: #7f7f7f; text-decoration-color: #7f7f7f\">:</span><a href=\"file:///home/paltenmo/projects/crossplatform/generators/docker_tooling.py#46\" target=\"_blank\"><span style=\"color: #7f7f7f; text-decoration-color: #7f7f7f\">46</span></a>\n",
       "<span style=\"color: #7fbfbf; text-decoration-color: #7fbfbf\">           </span>successfully.                                                                       <span style=\"color: #7f7f7f; text-decoration-color: #7f7f7f\">                    </span>\n",
       "</pre>\n"
      ],
      "text/plain": [
       "\u001b[2;36m[15:15:53]\u001b[0m\u001b[2;36m \u001b[0mProgram qiskit_circuit_5q_10g_5399_c4b732_f59bef_error_min.py executed              \u001b]8;id=874944;file:///home/paltenmo/projects/crossplatform/generators/docker_tooling.py\u001b\\\u001b[2mdocker_tooling.py\u001b[0m\u001b]8;;\u001b\\\u001b[2m:\u001b[0m\u001b]8;id=661643;file:///home/paltenmo/projects/crossplatform/generators/docker_tooling.py#46\u001b\\\u001b[2m46\u001b[0m\u001b]8;;\u001b\\\n",
       "\u001b[2;36m           \u001b[0msuccessfully.                                                                       \u001b[2m                    \u001b[0m\n"
      ]
     },
     "metadata": {},
     "output_type": "display_data"
    },
    {
     "data": {
      "application/vnd.jupyter.widget-view+json": {
       "model_id": "7b1763ff191e45be89c6aa8bddf138a2",
       "version_major": 2,
       "version_minor": 0
      },
      "text/plain": [
       "Executing:   0%|          | 0/13 [00:00<?, ?cell/s]"
      ]
     },
     "metadata": {},
     "output_type": "display_data"
    },
    {
     "data": {
      "text/html": [
       "<pre style=\"white-space:pre;overflow-x:auto;line-height:normal;font-family:Menlo,'DejaVu Sans Mono',consolas,'Courier New',monospace\"><span style=\"color: #7fbfbf; text-decoration-color: #7fbfbf\">[15:15:56] </span>Analysis notebook executed: ..<span style=\"color: #800080; text-decoration-color: #800080\">/reports/v009/2024_11_21__15_12/</span><span style=\"color: #ff00ff; text-decoration-color: #ff00ff\">analysis_output.ipynb</span>        <a href=\"file:///home/paltenmo/projects/crossplatform/analysis_and_reporting/triage.py\" target=\"_blank\"><span style=\"color: #7f7f7f; text-decoration-color: #7f7f7f\">triage.py</span></a><span style=\"color: #7f7f7f; text-decoration-color: #7f7f7f\">:</span><a href=\"file:///home/paltenmo/projects/crossplatform/analysis_and_reporting/triage.py#163\" target=\"_blank\"><span style=\"color: #7f7f7f; text-decoration-color: #7f7f7f\">163</span></a>\n",
       "</pre>\n"
      ],
      "text/plain": [
       "\u001b[2;36m[15:15:56]\u001b[0m\u001b[2;36m \u001b[0mAnalysis notebook executed: ..\u001b[35m/reports/v009/2024_11_21__15_12/\u001b[0m\u001b[95manalysis_output.ipynb\u001b[0m        \u001b]8;id=117710;file:///home/paltenmo/projects/crossplatform/analysis_and_reporting/triage.py\u001b\\\u001b[2mtriage.py\u001b[0m\u001b]8;;\u001b\\\u001b[2m:\u001b[0m\u001b]8;id=465129;file:///home/paltenmo/projects/crossplatform/analysis_and_reporting/triage.py#163\u001b\\\u001b[2m163\u001b[0m\u001b]8;;\u001b\\\n"
      ]
     },
     "metadata": {},
     "output_type": "display_data"
    },
    {
     "data": {
      "text/html": [
       "<pre style=\"white-space:pre;overflow-x:auto;line-height:normal;font-family:Menlo,'DejaVu Sans Mono',consolas,'Courier New',monospace\"><span style=\"color: #7fbfbf; text-decoration-color: #7fbfbf\">           </span>Created report folder: ..<span style=\"color: #800080; text-decoration-color: #800080\">/reports/v009/</span><span style=\"color: #ff00ff; text-decoration-color: #ff00ff\">2024_11_21__15_15</span>                                   <a href=\"file:///home/paltenmo/projects/crossplatform/analysis_and_reporting/triage.py\" target=\"_blank\"><span style=\"color: #7f7f7f; text-decoration-color: #7f7f7f\">triage.py</span></a><span style=\"color: #7f7f7f; text-decoration-color: #7f7f7f\">:</span><a href=\"file:///home/paltenmo/projects/crossplatform/analysis_and_reporting/triage.py#131\" target=\"_blank\"><span style=\"color: #7f7f7f; text-decoration-color: #7f7f7f\">131</span></a>\n",
       "</pre>\n"
      ],
      "text/plain": [
       "\u001b[2;36m          \u001b[0m\u001b[2;36m \u001b[0mCreated report folder: ..\u001b[35m/reports/v009/\u001b[0m\u001b[95m2024_11_21__15_15\u001b[0m                                   \u001b]8;id=102550;file:///home/paltenmo/projects/crossplatform/analysis_and_reporting/triage.py\u001b\\\u001b[2mtriage.py\u001b[0m\u001b]8;;\u001b\\\u001b[2m:\u001b[0m\u001b]8;id=719536;file:///home/paltenmo/projects/crossplatform/analysis_and_reporting/triage.py#131\u001b\\\u001b[2m131\u001b[0m\u001b]8;;\u001b\\\n"
      ]
     },
     "metadata": {},
     "output_type": "display_data"
    },
    {
     "data": {
      "text/html": [
       "<pre style=\"white-space:pre;overflow-x:auto;line-height:normal;font-family:Menlo,'DejaVu Sans Mono',consolas,'Courier New',monospace\"><span style=\"color: #7fbfbf; text-decoration-color: #7fbfbf\">           </span>Copied files to: ..<span style=\"color: #800080; text-decoration-color: #800080\">/reports/v009/</span><span style=\"color: #ff00ff; text-decoration-color: #ff00ff\">2024_11_21__15_15</span>                                         <a href=\"file:///home/paltenmo/projects/crossplatform/analysis_and_reporting/triage.py\" target=\"_blank\"><span style=\"color: #7f7f7f; text-decoration-color: #7f7f7f\">triage.py</span></a><span style=\"color: #7f7f7f; text-decoration-color: #7f7f7f\">:</span><a href=\"file:///home/paltenmo/projects/crossplatform/analysis_and_reporting/triage.py#140\" target=\"_blank\"><span style=\"color: #7f7f7f; text-decoration-color: #7f7f7f\">140</span></a>\n",
       "</pre>\n"
      ],
      "text/plain": [
       "\u001b[2;36m          \u001b[0m\u001b[2;36m \u001b[0mCopied files to: ..\u001b[35m/reports/v009/\u001b[0m\u001b[95m2024_11_21__15_15\u001b[0m                                         \u001b]8;id=254451;file:///home/paltenmo/projects/crossplatform/analysis_and_reporting/triage.py\u001b\\\u001b[2mtriage.py\u001b[0m\u001b]8;;\u001b\\\u001b[2m:\u001b[0m\u001b]8;id=924520;file:///home/paltenmo/projects/crossplatform/analysis_and_reporting/triage.py#140\u001b\\\u001b[2m140\u001b[0m\u001b]8;;\u001b\\\n"
      ]
     },
     "metadata": {},
     "output_type": "display_data"
    },
    {
     "data": {
      "text/html": [
       "<pre style=\"white-space:pre;overflow-x:auto;line-height:normal;font-family:Menlo,'DejaVu Sans Mono',consolas,'Courier New',monospace\"><span style=\"color: #7fbfbf; text-decoration-color: #7fbfbf\">[15:15:56] </span>Involved functions:                                                             <a href=\"file:///home/paltenmo/projects/crossplatform/analysis_and_reporting/ddmin_target_file.py\" target=\"_blank\"><span style=\"color: #7f7f7f; text-decoration-color: #7f7f7f\">ddmin_target_file.py</span></a><span style=\"color: #7f7f7f; text-decoration-color: #7f7f7f\">:</span><a href=\"file:///home/paltenmo/projects/crossplatform/analysis_and_reporting/ddmin_target_file.py#206\" target=\"_blank\"><span style=\"color: #7f7f7f; text-decoration-color: #7f7f7f\">206</span></a>\n",
       "</pre>\n"
      ],
      "text/plain": [
       "\u001b[2;36m[15:15:56]\u001b[0m\u001b[2;36m \u001b[0mInvolved functions:                                                             \u001b]8;id=157722;file:///home/paltenmo/projects/crossplatform/analysis_and_reporting/ddmin_target_file.py\u001b\\\u001b[2mddmin_target_file.py\u001b[0m\u001b]8;;\u001b\\\u001b[2m:\u001b[0m\u001b]8;id=705551;file:///home/paltenmo/projects/crossplatform/analysis_and_reporting/ddmin_target_file.py#206\u001b\\\u001b[2m206\u001b[0m\u001b]8;;\u001b\\\n"
      ]
     },
     "metadata": {},
     "output_type": "display_data"
    },
    {
     "data": {
      "text/html": [
       "<pre style=\"white-space:pre;overflow-x:auto;line-height:normal;font-family:Menlo,'DejaVu Sans Mono',consolas,'Courier New',monospace\"><span style=\"color: #7fbfbf; text-decoration-color: #7fbfbf\">           </span>  - compare_qasm_via_qcec                                                       <a href=\"file:///home/paltenmo/projects/crossplatform/analysis_and_reporting/ddmin_target_file.py\" target=\"_blank\"><span style=\"color: #7f7f7f; text-decoration-color: #7f7f7f\">ddmin_target_file.py</span></a><span style=\"color: #7f7f7f; text-decoration-color: #7f7f7f\">:</span><a href=\"file:///home/paltenmo/projects/crossplatform/analysis_and_reporting/ddmin_target_file.py#208\" target=\"_blank\"><span style=\"color: #7f7f7f; text-decoration-color: #7f7f7f\">208</span></a>\n",
       "</pre>\n"
      ],
      "text/plain": [
       "\u001b[2;36m          \u001b[0m\u001b[2;36m \u001b[0m  - compare_qasm_via_qcec                                                       \u001b]8;id=791955;file:///home/paltenmo/projects/crossplatform/analysis_and_reporting/ddmin_target_file.py\u001b\\\u001b[2mddmin_target_file.py\u001b[0m\u001b]8;;\u001b\\\u001b[2m:\u001b[0m\u001b]8;id=608482;file:///home/paltenmo/projects/crossplatform/analysis_and_reporting/ddmin_target_file.py#208\u001b\\\u001b[2m208\u001b[0m\u001b]8;;\u001b\\\n"
      ]
     },
     "metadata": {},
     "output_type": "display_data"
    },
    {
     "data": {
      "text/html": [
       "<pre style=\"white-space:pre;overflow-x:auto;line-height:normal;font-family:Menlo,'DejaVu Sans Mono',consolas,'Courier New',monospace\"><span style=\"color: #7fbfbf; text-decoration-color: #7fbfbf\">           </span>  - export_to_qasm_with_bqskit                                                  <a href=\"file:///home/paltenmo/projects/crossplatform/analysis_and_reporting/ddmin_target_file.py\" target=\"_blank\"><span style=\"color: #7f7f7f; text-decoration-color: #7f7f7f\">ddmin_target_file.py</span></a><span style=\"color: #7f7f7f; text-decoration-color: #7f7f7f\">:</span><a href=\"file:///home/paltenmo/projects/crossplatform/analysis_and_reporting/ddmin_target_file.py#208\" target=\"_blank\"><span style=\"color: #7f7f7f; text-decoration-color: #7f7f7f\">208</span></a>\n",
       "</pre>\n"
      ],
      "text/plain": [
       "\u001b[2;36m          \u001b[0m\u001b[2;36m \u001b[0m  - export_to_qasm_with_bqskit                                                  \u001b]8;id=10425;file:///home/paltenmo/projects/crossplatform/analysis_and_reporting/ddmin_target_file.py\u001b\\\u001b[2mddmin_target_file.py\u001b[0m\u001b]8;;\u001b\\\u001b[2m:\u001b[0m\u001b]8;id=282882;file:///home/paltenmo/projects/crossplatform/analysis_and_reporting/ddmin_target_file.py#208\u001b\\\u001b[2m208\u001b[0m\u001b]8;;\u001b\\\n"
      ]
     },
     "metadata": {},
     "output_type": "display_data"
    },
    {
     "data": {
      "text/html": [
       "<pre style=\"white-space:pre;overflow-x:auto;line-height:normal;font-family:Menlo,'DejaVu Sans Mono',consolas,'Courier New',monospace\"><span style=\"color: #7fbfbf; text-decoration-color: #7fbfbf\">[15:15:57] </span>  - export_to_qasm_with_pytket                                                  <a href=\"file:///home/paltenmo/projects/crossplatform/analysis_and_reporting/ddmin_target_file.py\" target=\"_blank\"><span style=\"color: #7f7f7f; text-decoration-color: #7f7f7f\">ddmin_target_file.py</span></a><span style=\"color: #7f7f7f; text-decoration-color: #7f7f7f\">:</span><a href=\"file:///home/paltenmo/projects/crossplatform/analysis_and_reporting/ddmin_target_file.py#208\" target=\"_blank\"><span style=\"color: #7f7f7f; text-decoration-color: #7f7f7f\">208</span></a>\n",
       "</pre>\n"
      ],
      "text/plain": [
       "\u001b[2;36m[15:15:57]\u001b[0m\u001b[2;36m \u001b[0m  - export_to_qasm_with_pytket                                                  \u001b]8;id=550352;file:///home/paltenmo/projects/crossplatform/analysis_and_reporting/ddmin_target_file.py\u001b\\\u001b[2mddmin_target_file.py\u001b[0m\u001b]8;;\u001b\\\u001b[2m:\u001b[0m\u001b]8;id=158406;file:///home/paltenmo/projects/crossplatform/analysis_and_reporting/ddmin_target_file.py#208\u001b\\\u001b[2m208\u001b[0m\u001b]8;;\u001b\\\n"
      ]
     },
     "metadata": {},
     "output_type": "display_data"
    },
    {
     "name": "stdout",
     "output_type": "stream",
     "text": [
      "Error parsing: Command 'python /workspace/to_execute.py' in image 'qiskit_runner' returned non-zero exit status 1: b'Traceback (most recent call last):\\n  File \"/workspace/to_execute.py\", line 106, in <module>\\n    target_qc = qc\\nNameError: name \\'qc\\' is not defined\\n'\n",
      "Failed to execute to_execute.py in Docker.\n",
      "Output: Saved the BQSKit circuit to /workspace/to_execute_qc_bqskit.qasm\n",
      "Saved the Pytket circuit to /workspace/to_execute_qc_pytket.qasm\n",
      "Exported QASM files: [('/workspace/to_execute_qc_bqskit.qasm', 'export_to_qasm_with_bqskit'), ('/workspace/to_execute_qc_pytket.qasm', 'export_to_qasm_with_pytket')]\n",
      "Log has been saved to /workspace/to_execute_1be6f2_error.json\n",
      "\n",
      "Program to_execute.py executed successfully.\n",
      "New exception message: The circuits are not equivalent: /workspace/to_execute_qc_bqskit.qasm, /workspace/to_execute_qc_pytket.qasm\n",
      "Error parsing: Command 'python /workspace/to_execute.py' in image 'qiskit_runner' returned non-zero exit status 1: b'  File \"/workspace/to_execute.py\", line 20\\n    , custom_instructions=qasm2.LEGACY_CUSTOM_INSTRUCTIONS)\\n                                                          ^\\nSyntaxError: unmatched \\')\\'\\n'\n",
      "Failed to execute to_execute.py in Docker.\n",
      "Error parsing: Command 'python /workspace/to_execute.py' in image 'qiskit_runner' returned non-zero exit status 1: b'  File \"/workspace/to_execute.py\", line 10\\n    qc = qasm2.loads(\\n                    ^\\nSyntaxError: \\'(\\' was never closed\\n'\n",
      "Failed to execute to_execute.py in Docker.\n",
      "Error parsing: Command 'python /workspace/to_execute.py' in image 'qiskit_runner' returned non-zero exit status 1: b'  File \"/workspace/to_execute.py\", line 27\\n    , custom_instructions=qasm2.LEGACY_CUSTOM_INSTRUCTIONS)\\n                                                          ^\\nSyntaxError: unmatched \\')\\'\\n'\n",
      "Failed to execute to_execute.py in Docker.\n",
      "Error parsing: Command 'python /workspace/to_execute.py' in image 'qiskit_runner' returned non-zero exit status 1: b'Traceback (most recent call last):\\n  File \"/workspace/to_execute.py\", line 10, in <module>\\n    qc = qasm2.loads(\\n  File \"/usr/local/lib/python3.10/site-packages/qiskit/qasm2/__init__.py\", line 587, in loads\\n    return _parse.from_bytecode(\\n  File \"/usr/local/lib/python3.10/site-packages/qiskit/qasm2/parse.py\", line 214, in from_bytecode\\n    for op in bc:\\nqiskit.qasm2.exceptions.QASM2ParseError: \"<input>:6,3: \\'reg_2_a\\' is not defined in this scope\"\\n'\n",
      "Failed to execute to_execute.py in Docker.\n",
      "Output: Saved the BQSKit circuit to /workspace/to_execute_qc_bqskit.qasm\n",
      "Saved the Pytket circuit to /workspace/to_execute_qc_pytket.qasm\n",
      "Exported QASM files: [('/workspace/to_execute_qc_bqskit.qasm', 'export_to_qasm_with_bqskit'), ('/workspace/to_execute_qc_pytket.qasm', 'export_to_qasm_with_pytket')]\n",
      "Log has been saved to /workspace/to_execute_1b63f2_error.json\n",
      "\n",
      "Program to_execute.py executed successfully.\n",
      "New exception message: The circuits are not equivalent: /workspace/to_execute_qc_bqskit.qasm, /workspace/to_execute_qc_pytket.qasm\n",
      "Error parsing: Command 'python /workspace/to_execute.py' in image 'qiskit_runner' returned non-zero exit status 1: b'  File \"/workspace/to_execute.py\", line 19\\n    , custom_instructions=qasm2.LEGACY_CUSTOM_INSTRUCTIONS)\\n                                                          ^\\nSyntaxError: unmatched \\')\\'\\n'\n",
      "Failed to execute to_execute.py in Docker.\n",
      "Error parsing: Command 'python /workspace/to_execute.py' in image 'qiskit_runner' returned non-zero exit status 1: b'Traceback (most recent call last):\\n  File \"/workspace/to_execute.py\", line 10, in <module>\\n    qc = qasm2.loads(\\n  File \"/usr/local/lib/python3.10/site-packages/qiskit/qasm2/__init__.py\", line 587, in loads\\n    return _parse.from_bytecode(\\n  File \"/usr/local/lib/python3.10/site-packages/qiskit/qasm2/parse.py\", line 214, in from_bytecode\\n    for op in bc:\\nqiskit.qasm2.exceptions.QASM2ParseError: \"<input>:4,2: \\'reg_1_q\\' is not defined in this scope\"\\n'\n",
      "Failed to execute to_execute.py in Docker.\n",
      "Error parsing: Command 'python /workspace/to_execute.py' in image 'qiskit_runner' returned non-zero exit status 1: b'  File \"/workspace/to_execute.py\", line 10\\n    qc = qasm2.loads(\\n                    ^\\nSyntaxError: \\'(\\' was never closed\\n'\n",
      "Failed to execute to_execute.py in Docker.\n",
      "Error parsing: Command 'python /workspace/to_execute.py' in image 'qiskit_runner' returned non-zero exit status 1: b'  File \"/workspace/to_execute.py\", line 21\\n    , custom_instructions=qasm2.LEGACY_CUSTOM_INSTRUCTIONS)\\n                                                          ^\\nSyntaxError: unmatched \\')\\'\\n'\n",
      "Failed to execute to_execute.py in Docker.\n",
      "Error parsing: Command 'python /workspace/to_execute.py' in image 'qiskit_runner' returned non-zero exit status 1: b'Traceback (most recent call last):\\n  File \"/workspace/to_execute.py\", line 10, in <module>\\n    qc = qasm2.loads(\\n  File \"/usr/local/lib/python3.10/site-packages/qiskit/qasm2/__init__.py\", line 587, in loads\\n    return _parse.from_bytecode(\\n  File \"/usr/local/lib/python3.10/site-packages/qiskit/qasm2/parse.py\", line 214, in from_bytecode\\n    for op in bc:\\nqiskit.qasm2.exceptions.QASM2ParseError: \"<input>:6,0: cannot use non-builtin custom instruction \\'h\\' before definition\"\\n'\n",
      "Failed to execute to_execute.py in Docker.\n",
      "Error parsing: Command 'python /workspace/to_execute.py' in image 'qiskit_runner' returned non-zero exit status 1: b'Traceback (most recent call last):\\n  File \"/workspace/to_execute.py\", line 10, in <module>\\n    qc = qasm2.loads(\\n  File \"/usr/local/lib/python3.10/site-packages/qiskit/qasm2/__init__.py\", line 587, in loads\\n    return _parse.from_bytecode(\\n  File \"/usr/local/lib/python3.10/site-packages/qiskit/qasm2/parse.py\", line 214, in from_bytecode\\n    for op in bc:\\nqiskit.qasm2.exceptions.QASM2ParseError: \"<input>:8,3: \\'reg_2_a\\' is not defined in this scope\"\\n'\n",
      "Failed to execute to_execute.py in Docker.\n",
      "Error parsing: Command 'python /workspace/to_execute.py' in image 'qiskit_runner' returned non-zero exit status 1: b'Traceback (most recent call last):\\n  File \"/workspace/to_execute.py\", line 10, in <module>\\n    qc = qasm2.loads(\\n  File \"/usr/local/lib/python3.10/site-packages/qiskit/qasm2/__init__.py\", line 587, in loads\\n    return _parse.from_bytecode(\\n  File \"/usr/local/lib/python3.10/site-packages/qiskit/qasm2/parse.py\", line 214, in from_bytecode\\n    for op in bc:\\nqiskit.qasm2.exceptions.QASM2ParseError: \"<input>:9,14: \\'reg_2_cout\\' is not defined in this scope\"\\n'\n",
      "Failed to execute to_execute.py in Docker.\n",
      "Output: Saved the BQSKit circuit to /workspace/to_execute_qc_bqskit.qasm\n",
      "Saved the Pytket circuit to /workspace/to_execute_qc_pytket.qasm\n",
      "Exported QASM files: [('/workspace/to_execute_qc_bqskit.qasm', 'export_to_qasm_with_bqskit'), ('/workspace/to_execute_qc_pytket.qasm', 'export_to_qasm_with_pytket')]\n",
      "The circuits are equivalent: /workspace/to_execute_qc_bqskit.qasm, /workspace/to_execute_qc_pytket.qasm\n",
      "\n",
      "Program to_execute.py executed successfully.\n",
      "Error parsing: Command 'python /workspace/to_execute.py' in image 'qiskit_runner' returned non-zero exit status 1: b'  File \"/workspace/to_execute.py\", line 10\\n    qc = qasm2.loads(\\n                    ^\\nSyntaxError: \\'(\\' was never closed\\n'\n",
      "Failed to execute to_execute.py in Docker.\n",
      "Error parsing: Command 'python /workspace/to_execute.py' in image 'qiskit_runner' returned non-zero exit status 1: b'  File \"/workspace/to_execute.py\", line 24\\n    , custom_instructions=qasm2.LEGACY_CUSTOM_INSTRUCTIONS)\\nIndentationError: unexpected indent\\n'\n",
      "Failed to execute to_execute.py in Docker.\n",
      "Output: Saved the BQSKit circuit to /workspace/to_execute_qc_bqskit.qasm\n",
      "Saved the Pytket circuit to /workspace/to_execute_qc_pytket.qasm\n",
      "Exported QASM files: [('/workspace/to_execute_qc_bqskit.qasm', 'export_to_qasm_with_bqskit'), ('/workspace/to_execute_qc_pytket.qasm', 'export_to_qasm_with_pytket')]\n",
      "Log has been saved to /workspace/to_execute_0482e1_error.json\n",
      "\n",
      "Program to_execute.py executed successfully.\n",
      "New exception message: The circuits are not equivalent: /workspace/to_execute_qc_bqskit.qasm, /workspace/to_execute_qc_pytket.qasm\n",
      "Error parsing: Command 'python /workspace/to_execute.py' in image 'qiskit_runner' returned non-zero exit status 1: b'  File \"/workspace/to_execute.py\", line 23\\n    , custom_instructions=qasm2.LEGACY_CUSTOM_INSTRUCTIONS)\\nIndentationError: unexpected indent\\n'\n",
      "Failed to execute to_execute.py in Docker.\n",
      "Error parsing: Command 'python /workspace/to_execute.py' in image 'qiskit_runner' returned non-zero exit status 1: b'  File \"/workspace/to_execute.py\", line 11\\n    OPENQASM 2.0;\\n    ^^^^^^^^^^^^\\nSyntaxError: invalid syntax. Perhaps you forgot a comma?\\n'\n",
      "Failed to execute to_execute.py in Docker.\n",
      "Output: Saved the BQSKit circuit to /workspace/to_execute_qc_bqskit.qasm\n",
      "Saved the Pytket circuit to /workspace/to_execute_qc_pytket.qasm\n",
      "Exported QASM files: [('/workspace/to_execute_qc_bqskit.qasm', 'export_to_qasm_with_bqskit'), ('/workspace/to_execute_qc_pytket.qasm', 'export_to_qasm_with_pytket')]\n",
      "Log has been saved to /workspace/to_execute_616c19_error.json\n",
      "\n",
      "Program to_execute.py executed successfully.\n",
      "New exception message: The circuits are not equivalent: /workspace/to_execute_qc_bqskit.qasm, /workspace/to_execute_qc_pytket.qasm\n",
      "Error parsing: Command 'python /workspace/to_execute.py' in image 'qiskit_runner' returned non-zero exit status 1: b'  File \"/workspace/to_execute.py\", line 22\\n    , custom_instructions=qasm2.LEGACY_CUSTOM_INSTRUCTIONS)\\nIndentationError: unexpected indent\\n'\n",
      "Failed to execute to_execute.py in Docker.\n",
      "Error parsing: Command 'python /workspace/to_execute.py' in image 'qiskit_runner' returned non-zero exit status 1: b'  File \"/workspace/to_execute.py\", line 11\\n    include \"qelib1.inc\";\\n            ^^^^^^^^^^^^\\nSyntaxError: invalid syntax\\n'\n",
      "Failed to execute to_execute.py in Docker.\n",
      "Error parsing: Command 'python /workspace/to_execute.py' in image 'qiskit_runner' returned non-zero exit status 1: b'Traceback (most recent call last):\\n  File \"/workspace/to_execute.py\", line 10, in <module>\\n    qc = qasm2.loads(\\n  File \"/usr/local/lib/python3.10/site-packages/qiskit/qasm2/__init__.py\", line 587, in loads\\n    return _parse.from_bytecode(\\n  File \"/usr/local/lib/python3.10/site-packages/qiskit/qasm2/parse.py\", line 214, in from_bytecode\\n    for op in bc:\\nqiskit.qasm2.exceptions.QASM2ParseError: \"<input>:6,0: cannot use non-builtin custom instruction \\'h\\' before definition\"\\n'\n",
      "Failed to execute to_execute.py in Docker.\n",
      "Output: Saved the BQSKit circuit to /workspace/to_execute_qc_bqskit.qasm\n",
      "Saved the Pytket circuit to /workspace/to_execute_qc_pytket.qasm\n",
      "Exported QASM files: [('/workspace/to_execute_qc_bqskit.qasm', 'export_to_qasm_with_bqskit'), ('/workspace/to_execute_qc_pytket.qasm', 'export_to_qasm_with_pytket')]\n",
      "The circuits are equivalent: /workspace/to_execute_qc_bqskit.qasm, /workspace/to_execute_qc_pytket.qasm\n",
      "\n",
      "Program to_execute.py executed successfully.\n",
      "Error parsing: Command 'python /workspace/to_execute.py' in image 'qiskit_runner' returned non-zero exit status 1: b'Traceback (most recent call last):\\n  File \"/workspace/to_execute.py\", line 10, in <module>\\n    qc = qasm2.loads(\\n  File \"/usr/local/lib/python3.10/site-packages/qiskit/qasm2/__init__.py\", line 587, in loads\\n    return _parse.from_bytecode(\\n  File \"/usr/local/lib/python3.10/site-packages/qiskit/qasm2/parse.py\", line 214, in from_bytecode\\n    for op in bc:\\nqiskit.qasm2.exceptions.QASM2ParseError: \"<input>:8,3: \\'reg_2_a\\' is not defined in this scope\"\\n'\n",
      "Failed to execute to_execute.py in Docker.\n",
      "Error parsing: Command 'python /workspace/to_execute.py' in image 'qiskit_runner' returned non-zero exit status 1: b'Traceback (most recent call last):\\n  File \"/workspace/to_execute.py\", line 10, in <module>\\n    qc = qasm2.loads(\\n  File \"/usr/local/lib/python3.10/site-packages/qiskit/qasm2/__init__.py\", line 587, in loads\\n    return _parse.from_bytecode(\\n  File \"/usr/local/lib/python3.10/site-packages/qiskit/qasm2/parse.py\", line 214, in from_bytecode\\n    for op in bc:\\nqiskit.qasm2.exceptions.QASM2ParseError: \"<input>:9,14: \\'reg_2_cout\\' is not defined in this scope\"\\n'\n",
      "Failed to execute to_execute.py in Docker.\n",
      "Output: Saved the BQSKit circuit to /workspace/to_execute_qc_bqskit.qasm\n",
      "Saved the Pytket circuit to /workspace/to_execute_qc_pytket.qasm\n",
      "Exported QASM files: [('/workspace/to_execute_qc_bqskit.qasm', 'export_to_qasm_with_bqskit'), ('/workspace/to_execute_qc_pytket.qasm', 'export_to_qasm_with_pytket')]\n",
      "Log has been saved to /workspace/to_execute_cdd1ce_error.json\n",
      "\n",
      "Program to_execute.py executed successfully.\n",
      "New exception message: The circuits are not equivalent: /workspace/to_execute_qc_bqskit.qasm, /workspace/to_execute_qc_pytket.qasm\n",
      "Error parsing: Command 'python /workspace/to_execute.py' in image 'qiskit_runner' returned non-zero exit status 1: b'  File \"/workspace/to_execute.py\", line 20\\n    , custom_instructions=qasm2.LEGACY_CUSTOM_INSTRUCTIONS)\\nIndentationError: unexpected indent\\n'\n",
      "Failed to execute to_execute.py in Docker.\n",
      "Error parsing: Command 'python /workspace/to_execute.py' in image 'qiskit_runner' returned non-zero exit status 1: b'  File \"/workspace/to_execute.py\", line 11\\n    include \"qelib1.inc\";\\n            ^^^^^^^^^^^^\\nSyntaxError: invalid syntax\\n'\n",
      "Failed to execute to_execute.py in Docker.\n",
      "Error parsing: Command 'python /workspace/to_execute.py' in image 'qiskit_runner' returned non-zero exit status 1: b'Traceback (most recent call last):\\n  File \"/workspace/to_execute.py\", line 10, in <module>\\n    qc = qasm2.loads(\\n  File \"/usr/local/lib/python3.10/site-packages/qiskit/qasm2/__init__.py\", line 587, in loads\\n    return _parse.from_bytecode(\\n  File \"/usr/local/lib/python3.10/site-packages/qiskit/qasm2/parse.py\", line 214, in from_bytecode\\n    for op in bc:\\nqiskit.qasm2.exceptions.QASM2ParseError: \"<input>:7,0: cannot use non-builtin custom instruction \\'cx\\' before definition\"\\n'\n",
      "Failed to execute to_execute.py in Docker.\n",
      "Output: Saved the BQSKit circuit to /workspace/to_execute_qc_bqskit.qasm\n",
      "Saved the Pytket circuit to /workspace/to_execute_qc_pytket.qasm\n",
      "Exported QASM files: [('/workspace/to_execute_qc_bqskit.qasm', 'export_to_qasm_with_bqskit'), ('/workspace/to_execute_qc_pytket.qasm', 'export_to_qasm_with_pytket')]\n",
      "The circuits are equivalent: /workspace/to_execute_qc_bqskit.qasm, /workspace/to_execute_qc_pytket.qasm\n",
      "\n",
      "Program to_execute.py executed successfully.\n",
      "Error parsing: Command 'python /workspace/to_execute.py' in image 'qiskit_runner' returned non-zero exit status 1: b'Traceback (most recent call last):\\n  File \"/workspace/to_execute.py\", line 10, in <module>\\n    qc = qasm2.loads(\\n  File \"/usr/local/lib/python3.10/site-packages/qiskit/qasm2/__init__.py\", line 587, in loads\\n    return _parse.from_bytecode(\\n  File \"/usr/local/lib/python3.10/site-packages/qiskit/qasm2/parse.py\", line 214, in from_bytecode\\n    for op in bc:\\nqiskit.qasm2.exceptions.QASM2ParseError: \"<input>:7,3: \\'reg_2_a\\' is not defined in this scope\"\\n'\n",
      "Failed to execute to_execute.py in Docker.\n",
      "Error parsing: Command 'python /workspace/to_execute.py' in image 'qiskit_runner' returned non-zero exit status 1: b'Traceback (most recent call last):\\n  File \"/workspace/to_execute.py\", line 10, in <module>\\n    qc = qasm2.loads(\\n  File \"/usr/local/lib/python3.10/site-packages/qiskit/qasm2/__init__.py\", line 587, in loads\\n    return _parse.from_bytecode(\\n  File \"/usr/local/lib/python3.10/site-packages/qiskit/qasm2/parse.py\", line 214, in from_bytecode\\n    for op in bc:\\nqiskit.qasm2.exceptions.QASM2ParseError: \"<input>:6,14: \\'reg_2_cout\\' is not defined in this scope\"\\n'\n",
      "Failed to execute to_execute.py in Docker.\n",
      "Output: Saved the BQSKit circuit to /workspace/to_execute_qc_bqskit.qasm\n",
      "Saved the Pytket circuit to /workspace/to_execute_qc_pytket.qasm\n",
      "Exported QASM files: [('/workspace/to_execute_qc_bqskit.qasm', 'export_to_qasm_with_bqskit'), ('/workspace/to_execute_qc_pytket.qasm', 'export_to_qasm_with_pytket')]\n",
      "Log has been saved to /workspace/to_execute_601ffa_error.json\n",
      "\n",
      "Program to_execute.py executed successfully.\n",
      "New exception message: The circuits are not equivalent: /workspace/to_execute_qc_bqskit.qasm, /workspace/to_execute_qc_pytket.qasm\n",
      "Error parsing: Command 'python /workspace/to_execute.py' in image 'qiskit_runner' returned non-zero exit status 1: b'  File \"/workspace/to_execute.py\", line 19\\n    , custom_instructions=qasm2.LEGACY_CUSTOM_INSTRUCTIONS)\\nIndentationError: unexpected indent\\n'\n",
      "Failed to execute to_execute.py in Docker.\n",
      "Error parsing: Command 'python /workspace/to_execute.py' in image 'qiskit_runner' returned non-zero exit status 1: b'  File \"/workspace/to_execute.py\", line 11\\n    include \"qelib1.inc\";\\n            ^^^^^^^^^^^^\\nSyntaxError: invalid syntax\\n'\n",
      "Failed to execute to_execute.py in Docker.\n",
      "Error parsing: Command 'python /workspace/to_execute.py' in image 'qiskit_runner' returned non-zero exit status 1: b'Traceback (most recent call last):\\n  File \"/workspace/to_execute.py\", line 10, in <module>\\n    qc = qasm2.loads(\\n  File \"/usr/local/lib/python3.10/site-packages/qiskit/qasm2/__init__.py\", line 587, in loads\\n    return _parse.from_bytecode(\\n  File \"/usr/local/lib/python3.10/site-packages/qiskit/qasm2/parse.py\", line 214, in from_bytecode\\n    for op in bc:\\nqiskit.qasm2.exceptions.QASM2ParseError: \"<input>:6,0: cannot use non-builtin custom instruction \\'cx\\' before definition\"\\n'\n",
      "Failed to execute to_execute.py in Docker.\n",
      "Output: Saved the BQSKit circuit to /workspace/to_execute_qc_bqskit.qasm\n",
      "Saved the Pytket circuit to /workspace/to_execute_qc_pytket.qasm\n",
      "Exported QASM files: [('/workspace/to_execute_qc_bqskit.qasm', 'export_to_qasm_with_bqskit'), ('/workspace/to_execute_qc_pytket.qasm', 'export_to_qasm_with_pytket')]\n",
      "The circuits are equivalent: /workspace/to_execute_qc_bqskit.qasm, /workspace/to_execute_qc_pytket.qasm\n",
      "\n",
      "Program to_execute.py executed successfully.\n",
      "Error parsing: Command 'python /workspace/to_execute.py' in image 'qiskit_runner' returned non-zero exit status 1: b'Traceback (most recent call last):\\n  File \"/workspace/to_execute.py\", line 10, in <module>\\n    qc = qasm2.loads(\\n  File \"/usr/local/lib/python3.10/site-packages/qiskit/qasm2/__init__.py\", line 587, in loads\\n    return _parse.from_bytecode(\\n  File \"/usr/local/lib/python3.10/site-packages/qiskit/qasm2/parse.py\", line 214, in from_bytecode\\n    for op in bc:\\nqiskit.qasm2.exceptions.QASM2ParseError: \"<input>:6,3: \\'reg_2_a\\' is not defined in this scope\"\\n'\n",
      "Failed to execute to_execute.py in Docker.\n",
      "Output: Saved the BQSKit circuit to /workspace/to_execute_qc_bqskit.qasm\n",
      "Saved the Pytket circuit to /workspace/to_execute_qc_pytket.qasm\n",
      "Exported QASM files: [('/workspace/to_execute_qc_bqskit.qasm', 'export_to_qasm_with_bqskit'), ('/workspace/to_execute_qc_pytket.qasm', 'export_to_qasm_with_pytket')]\n",
      "Log has been saved to /workspace/to_execute_fab08b_error.json\n",
      "\n",
      "Program to_execute.py executed successfully.\n",
      "New exception message: The circuits are not equivalent: /workspace/to_execute_qc_bqskit.qasm, /workspace/to_execute_qc_pytket.qasm\n",
      "Error parsing: Command 'python /workspace/to_execute.py' in image 'qiskit_runner' returned non-zero exit status 1: b'  File \"/workspace/to_execute.py\", line 18\\n    , custom_instructions=qasm2.LEGACY_CUSTOM_INSTRUCTIONS)\\nIndentationError: unexpected indent\\n'\n",
      "Failed to execute to_execute.py in Docker.\n",
      "Error parsing: Command 'python /workspace/to_execute.py' in image 'qiskit_runner' returned non-zero exit status 1: b'  File \"/workspace/to_execute.py\", line 11\\n    qreg reg_1_q[2];\\n    ^^^^^^^^^^^^^^^\\nSyntaxError: invalid syntax. Perhaps you forgot a comma?\\n'\n",
      "Failed to execute to_execute.py in Docker.\n",
      "Output: Saved the BQSKit circuit to /workspace/to_execute_qc_bqskit.qasm\n",
      "Saved the Pytket circuit to /workspace/to_execute_qc_pytket.qasm\n",
      "Exported QASM files: [('/workspace/to_execute_qc_bqskit.qasm', 'export_to_qasm_with_bqskit'), ('/workspace/to_execute_qc_pytket.qasm', 'export_to_qasm_with_pytket')]\n",
      "Log has been saved to /workspace/to_execute_df617c_error.json\n",
      "\n",
      "Program to_execute.py executed successfully.\n",
      "New exception message: The circuits are not equivalent: /workspace/to_execute_qc_bqskit.qasm, /workspace/to_execute_qc_pytket.qasm\n",
      "Error parsing: Command 'python /workspace/to_execute.py' in image 'qiskit_runner' returned non-zero exit status 1: b'  File \"/workspace/to_execute.py\", line 15\\n    , custom_instructions=qasm2.LEGACY_CUSTOM_INSTRUCTIONS)\\n                                                          ^\\nSyntaxError: unmatched \\')\\'\\n'\n",
      "Failed to execute to_execute.py in Docker.\n",
      "Error parsing: Command 'python /workspace/to_execute.py' in image 'qiskit_runner' returned non-zero exit status 1: b'Traceback (most recent call last):\\n  File \"/workspace/to_execute.py\", line 10, in <module>\\n    qc = qasm2.loads(\\n  File \"/usr/local/lib/python3.10/site-packages/qiskit/qasm2/__init__.py\", line 587, in loads\\n    return _parse.from_bytecode(\\n  File \"/usr/local/lib/python3.10/site-packages/qiskit/qasm2/parse.py\", line 214, in from_bytecode\\n    for op in bc:\\nqiskit.qasm2.exceptions.QASM2ParseError: \"<input>:5,0: cannot use non-builtin custom instruction \\'cx\\' before definition\"\\n'\n",
      "Failed to execute to_execute.py in Docker.\n",
      "Error parsing: Command 'python /workspace/to_execute.py' in image 'qiskit_runner' returned non-zero exit status 1: b'Traceback (most recent call last):\\n  File \"/workspace/to_execute.py\", line 10, in <module>\\n    qc = qasm2.loads(\\n  File \"/usr/local/lib/python3.10/site-packages/qiskit/qasm2/__init__.py\", line 587, in loads\\n    return _parse.from_bytecode(\\n  File \"/usr/local/lib/python3.10/site-packages/qiskit/qasm2/parse.py\", line 214, in from_bytecode\\n    for op in bc:\\nqiskit.qasm2.exceptions.QASM2ParseError: \"<input>:4,3: \\'reg_2_a\\' is not defined in this scope\"\\n'\n",
      "Failed to execute to_execute.py in Docker.\n",
      "Error parsing: Command 'python /workspace/to_execute.py' in image 'qiskit_runner' returned non-zero exit status 1: b'Traceback (most recent call last):\\n  File \"/workspace/to_execute.py\", line 10, in <module>\\n    qc = qasm2.loads(\\n  File \"/usr/local/lib/python3.10/site-packages/qiskit/qasm2/__init__.py\", line 587, in loads\\n    return _parse.from_bytecode(\\n  File \"/usr/local/lib/python3.10/site-packages/qiskit/qasm2/parse.py\", line 214, in from_bytecode\\n    for op in bc:\\nqiskit.qasm2.exceptions.QASM2ParseError: \"<input>:5,14: \\'reg_2_b\\' is not defined in this scope\"\\n'\n",
      "Failed to execute to_execute.py in Docker.\n",
      "Error parsing: Command 'python /workspace/to_execute.py' in image 'qiskit_runner' returned non-zero exit status 1: b'  File \"/workspace/to_execute.py\", line 11\\n    include \"qelib1.inc\";\\n            ^^^^^^^^^^^^\\nSyntaxError: invalid syntax\\n'\n",
      "Failed to execute to_execute.py in Docker.\n",
      "Error parsing: Command 'python /workspace/to_execute.py' in image 'qiskit_runner' returned non-zero exit status 1: b'  File \"/workspace/to_execute.py\", line 10\\n    qc = qasm2.loads(\\n                    ^\\nSyntaxError: \\'(\\' was never closed\\n'\n",
      "Failed to execute to_execute.py in Docker.\n",
      "Error parsing: Command 'python /workspace/to_execute.py' in image 'qiskit_runner' returned non-zero exit status 1: b'  File \"/workspace/to_execute.py\", line 17\\n    , custom_instructions=qasm2.LEGACY_CUSTOM_INSTRUCTIONS)\\nIndentationError: unexpected indent\\n'\n",
      "Failed to execute to_execute.py in Docker.\n",
      "Error parsing: Command 'python /workspace/to_execute.py' in image 'qiskit_runner' returned non-zero exit status 1: b'  File \"/workspace/to_execute.py\", line 11\\n    include \"qelib1.inc\";\\n            ^^^^^^^^^^^^\\nSyntaxError: invalid syntax\\n'\n",
      "Failed to execute to_execute.py in Docker.\n",
      "Error parsing: Command 'python /workspace/to_execute.py' in image 'qiskit_runner' returned non-zero exit status 1: b'Traceback (most recent call last):\\n  File \"/workspace/to_execute.py\", line 10, in <module>\\n    qc = qasm2.loads(\\n  File \"/usr/local/lib/python3.10/site-packages/qiskit/qasm2/__init__.py\", line 587, in loads\\n    return _parse.from_bytecode(\\n  File \"/usr/local/lib/python3.10/site-packages/qiskit/qasm2/parse.py\", line 214, in from_bytecode\\n    for op in bc:\\nqiskit.qasm2.exceptions.QASM2ParseError: \"<input>:5,0: cannot use non-builtin custom instruction \\'cx\\' before definition\"\\n'\n",
      "Failed to execute to_execute.py in Docker.\n",
      "Output: Saved the BQSKit circuit to /workspace/to_execute_qc_bqskit.qasm\n",
      "Saved the Pytket circuit to /workspace/to_execute_qc_pytket.qasm\n",
      "Exported QASM files: [('/workspace/to_execute_qc_bqskit.qasm', 'export_to_qasm_with_bqskit'), ('/workspace/to_execute_qc_pytket.qasm', 'export_to_qasm_with_pytket')]\n",
      "The circuits are equivalent: /workspace/to_execute_qc_bqskit.qasm, /workspace/to_execute_qc_pytket.qasm\n",
      "\n",
      "Program to_execute.py executed successfully.\n",
      "Error parsing: Command 'python /workspace/to_execute.py' in image 'qiskit_runner' returned non-zero exit status 1: b'Traceback (most recent call last):\\n  File \"/workspace/to_execute.py\", line 10, in <module>\\n    qc = qasm2.loads(\\n  File \"/usr/local/lib/python3.10/site-packages/qiskit/qasm2/__init__.py\", line 587, in loads\\n    return _parse.from_bytecode(\\n  File \"/usr/local/lib/python3.10/site-packages/qiskit/qasm2/parse.py\", line 214, in from_bytecode\\n    for op in bc:\\nqiskit.qasm2.exceptions.QASM2ParseError: \"<input>:5,3: \\'reg_2_a\\' is not defined in this scope\"\\n'\n",
      "Failed to execute to_execute.py in Docker.\n",
      "Error parsing: Command 'python /workspace/to_execute.py' in image 'qiskit_runner' returned non-zero exit status 1: b'Traceback (most recent call last):\\n  File \"/workspace/to_execute.py\", line 10, in <module>\\n    qc = qasm2.loads(\\n  File \"/usr/local/lib/python3.10/site-packages/qiskit/qasm2/__init__.py\", line 587, in loads\\n    return _parse.from_bytecode(\\n  File \"/usr/local/lib/python3.10/site-packages/qiskit/qasm2/parse.py\", line 214, in from_bytecode\\n    for op in bc:\\nqiskit.qasm2.exceptions.QASM2ParseError: \"<input>:5,14: \\'reg_2_b\\' is not defined in this scope\"\\n'\n",
      "Failed to execute to_execute.py in Docker.\n",
      "Output: Saved the BQSKit circuit to /workspace/to_execute_qc_bqskit.qasm\n",
      "Saved the Pytket circuit to /workspace/to_execute_qc_pytket.qasm\n",
      "Exported QASM files: [('/workspace/to_execute_qc_bqskit.qasm', 'export_to_qasm_with_bqskit'), ('/workspace/to_execute_qc_pytket.qasm', 'export_to_qasm_with_pytket')]\n",
      "The circuits are equivalent: /workspace/to_execute_qc_bqskit.qasm, /workspace/to_execute_qc_pytket.qasm\n",
      "\n",
      "Program to_execute.py executed successfully.\n",
      "Error parsing: Command 'python /workspace/to_execute.py' in image 'qiskit_runner' returned non-zero exit status 1: b'  File \"/workspace/to_execute.py\", line 11\\n    include \"qelib1.inc\";\\n            ^^^^^^^^^^^^\\nSyntaxError: invalid syntax\\n'\n",
      "Failed to execute to_execute.py in Docker.\n",
      "Error parsing: Command 'python /workspace/to_execute.py' in image 'qiskit_runner' returned non-zero exit status 1: b'  File \"/workspace/to_execute.py\", line 10\\n    qc = qasm2.loads(\\n                    ^\\nSyntaxError: \\'(\\' was never closed\\n'\n",
      "Failed to execute to_execute.py in Docker.\n"
     ]
    },
    {
     "data": {
      "text/html": [
       "<pre style=\"white-space:pre;overflow-x:auto;line-height:normal;font-family:Menlo,'DejaVu Sans Mono',consolas,'Courier New',monospace\"><span style=\"color: #7fbfbf; text-decoration-color: #7fbfbf\">[15:19:58] </span><span style=\"color: #008000; text-decoration-color: #008000\">Minimized file saved as:</span>                                                        <a href=\"file:///home/paltenmo/projects/crossplatform/analysis_and_reporting/ddmin_target_file.py\" target=\"_blank\"><span style=\"color: #7f7f7f; text-decoration-color: #7f7f7f\">ddmin_target_file.py</span></a><span style=\"color: #7f7f7f; text-decoration-color: #7f7f7f\">:</span><a href=\"file:///home/paltenmo/projects/crossplatform/analysis_and_reporting/ddmin_target_file.py#240\" target=\"_blank\"><span style=\"color: #7f7f7f; text-decoration-color: #7f7f7f\">240</span></a>\n",
       "<span style=\"color: #7fbfbf; text-decoration-color: #7fbfbf\">           </span>..<span style=\"color: #800080; text-decoration-color: #800080\">/reports/v009/2024_11_21__15_15/</span><span style=\"color: #ff00ff; text-decoration-color: #ff00ff\">qiskit_circuit_5q_10g_609_0c26d1_ee02f4_error</span> <span style=\"color: #7f7f7f; text-decoration-color: #7f7f7f\">                        </span>\n",
       "<span style=\"color: #7fbfbf; text-decoration-color: #7fbfbf\">           </span><span style=\"color: #ff00ff; text-decoration-color: #ff00ff\">_min.py</span>                                                                         <span style=\"color: #7f7f7f; text-decoration-color: #7f7f7f\">                        </span>\n",
       "</pre>\n"
      ],
      "text/plain": [
       "\u001b[2;36m[15:19:58]\u001b[0m\u001b[2;36m \u001b[0m\u001b[32mMinimized file saved as:\u001b[0m                                                        \u001b]8;id=705857;file:///home/paltenmo/projects/crossplatform/analysis_and_reporting/ddmin_target_file.py\u001b\\\u001b[2mddmin_target_file.py\u001b[0m\u001b]8;;\u001b\\\u001b[2m:\u001b[0m\u001b]8;id=577998;file:///home/paltenmo/projects/crossplatform/analysis_and_reporting/ddmin_target_file.py#240\u001b\\\u001b[2m240\u001b[0m\u001b]8;;\u001b\\\n",
       "\u001b[2;36m           \u001b[0m..\u001b[35m/reports/v009/2024_11_21__15_15/\u001b[0m\u001b[95mqiskit_circuit_5q_10g_609_0c26d1_ee02f4_error\u001b[0m \u001b[2m                        \u001b[0m\n",
       "\u001b[2;36m           \u001b[0m\u001b[95m_min.py\u001b[0m                                                                         \u001b[2m                        \u001b[0m\n"
      ]
     },
     "metadata": {},
     "output_type": "display_data"
    },
    {
     "name": "stdout",
     "output_type": "stream",
     "text": [
      "Output: Saved the BQSKit circuit to /workspace/qiskit_circuit_5q_10g_609_0c26d1_ee02f4_error_min_qc_bqskit.qasm\n",
      "Saved the Pytket circuit to /workspace/qiskit_circuit_5q_10g_609_0c26d1_ee02f4_error_min_qc_pytket.qasm\n",
      "Exported QASM files: [('/workspace/qiskit_circuit_5q_10g_609_0c26d1_ee02f4_error_min_qc_bqskit.qasm', 'export_to_qasm_with_bqskit'), ('/workspace/qiskit_circuit_5q_10g_609_0c26d1_ee02f4_error_min_qc_pytket.qasm', 'export_to_qasm_with_pytket')]\n",
      "Log has been saved to /workspace/qiskit_circuit_5q_10g_609_0c26d1_ee02f4_error_min_fefa9c_error.json\n",
      "\n"
     ]
    },
    {
     "data": {
      "text/html": [
       "<pre style=\"white-space:pre;overflow-x:auto;line-height:normal;font-family:Menlo,'DejaVu Sans Mono',consolas,'Courier New',monospace\"><span style=\"color: #7fbfbf; text-decoration-color: #7fbfbf\">[15:20:05] </span>Program qiskit_circuit_5q_10g_609_0c26d1_ee02f4_error_min.py executed successfully. <a href=\"file:///home/paltenmo/projects/crossplatform/generators/docker_tooling.py\" target=\"_blank\"><span style=\"color: #7f7f7f; text-decoration-color: #7f7f7f\">docker_tooling.py</span></a><span style=\"color: #7f7f7f; text-decoration-color: #7f7f7f\">:</span><a href=\"file:///home/paltenmo/projects/crossplatform/generators/docker_tooling.py#46\" target=\"_blank\"><span style=\"color: #7f7f7f; text-decoration-color: #7f7f7f\">46</span></a>\n",
       "</pre>\n"
      ],
      "text/plain": [
       "\u001b[2;36m[15:20:05]\u001b[0m\u001b[2;36m \u001b[0mProgram qiskit_circuit_5q_10g_609_0c26d1_ee02f4_error_min.py executed successfully. \u001b]8;id=278372;file:///home/paltenmo/projects/crossplatform/generators/docker_tooling.py\u001b\\\u001b[2mdocker_tooling.py\u001b[0m\u001b]8;;\u001b\\\u001b[2m:\u001b[0m\u001b]8;id=644727;file:///home/paltenmo/projects/crossplatform/generators/docker_tooling.py#46\u001b\\\u001b[2m46\u001b[0m\u001b]8;;\u001b\\\n"
      ]
     },
     "metadata": {},
     "output_type": "display_data"
    },
    {
     "data": {
      "application/vnd.jupyter.widget-view+json": {
       "model_id": "3e7839f705014edcabd91dd3c8525fe4",
       "version_major": 2,
       "version_minor": 0
      },
      "text/plain": [
       "Executing:   0%|          | 0/13 [00:00<?, ?cell/s]"
      ]
     },
     "metadata": {},
     "output_type": "display_data"
    },
    {
     "data": {
      "text/html": [
       "<pre style=\"white-space:pre;overflow-x:auto;line-height:normal;font-family:Menlo,'DejaVu Sans Mono',consolas,'Courier New',monospace\"><span style=\"color: #7fbfbf; text-decoration-color: #7fbfbf\">[15:20:08] </span>Analysis notebook executed: ..<span style=\"color: #800080; text-decoration-color: #800080\">/reports/v009/2024_11_21__15_15/</span><span style=\"color: #ff00ff; text-decoration-color: #ff00ff\">analysis_output.ipynb</span>        <a href=\"file:///home/paltenmo/projects/crossplatform/analysis_and_reporting/triage.py\" target=\"_blank\"><span style=\"color: #7f7f7f; text-decoration-color: #7f7f7f\">triage.py</span></a><span style=\"color: #7f7f7f; text-decoration-color: #7f7f7f\">:</span><a href=\"file:///home/paltenmo/projects/crossplatform/analysis_and_reporting/triage.py#163\" target=\"_blank\"><span style=\"color: #7f7f7f; text-decoration-color: #7f7f7f\">163</span></a>\n",
       "</pre>\n"
      ],
      "text/plain": [
       "\u001b[2;36m[15:20:08]\u001b[0m\u001b[2;36m \u001b[0mAnalysis notebook executed: ..\u001b[35m/reports/v009/2024_11_21__15_15/\u001b[0m\u001b[95manalysis_output.ipynb\u001b[0m        \u001b]8;id=329862;file:///home/paltenmo/projects/crossplatform/analysis_and_reporting/triage.py\u001b\\\u001b[2mtriage.py\u001b[0m\u001b]8;;\u001b\\\u001b[2m:\u001b[0m\u001b]8;id=553211;file:///home/paltenmo/projects/crossplatform/analysis_and_reporting/triage.py#163\u001b\\\u001b[2m163\u001b[0m\u001b]8;;\u001b\\\n"
      ]
     },
     "metadata": {},
     "output_type": "display_data"
    },
    {
     "data": {
      "text/html": [
       "<pre style=\"white-space:pre;overflow-x:auto;line-height:normal;font-family:Menlo,'DejaVu Sans Mono',consolas,'Courier New',monospace\"><span style=\"color: #7fbfbf; text-decoration-color: #7fbfbf\">           </span>Created report folder: ..<span style=\"color: #800080; text-decoration-color: #800080\">/reports/v009/</span><span style=\"color: #ff00ff; text-decoration-color: #ff00ff\">2024_11_21__15_20</span>                                   <a href=\"file:///home/paltenmo/projects/crossplatform/analysis_and_reporting/triage.py\" target=\"_blank\"><span style=\"color: #7f7f7f; text-decoration-color: #7f7f7f\">triage.py</span></a><span style=\"color: #7f7f7f; text-decoration-color: #7f7f7f\">:</span><a href=\"file:///home/paltenmo/projects/crossplatform/analysis_and_reporting/triage.py#131\" target=\"_blank\"><span style=\"color: #7f7f7f; text-decoration-color: #7f7f7f\">131</span></a>\n",
       "</pre>\n"
      ],
      "text/plain": [
       "\u001b[2;36m          \u001b[0m\u001b[2;36m \u001b[0mCreated report folder: ..\u001b[35m/reports/v009/\u001b[0m\u001b[95m2024_11_21__15_20\u001b[0m                                   \u001b]8;id=15674;file:///home/paltenmo/projects/crossplatform/analysis_and_reporting/triage.py\u001b\\\u001b[2mtriage.py\u001b[0m\u001b]8;;\u001b\\\u001b[2m:\u001b[0m\u001b]8;id=699119;file:///home/paltenmo/projects/crossplatform/analysis_and_reporting/triage.py#131\u001b\\\u001b[2m131\u001b[0m\u001b]8;;\u001b\\\n"
      ]
     },
     "metadata": {},
     "output_type": "display_data"
    },
    {
     "data": {
      "text/html": [
       "<pre style=\"white-space:pre;overflow-x:auto;line-height:normal;font-family:Menlo,'DejaVu Sans Mono',consolas,'Courier New',monospace\"><span style=\"color: #7fbfbf; text-decoration-color: #7fbfbf\">           </span>Copied files to: ..<span style=\"color: #800080; text-decoration-color: #800080\">/reports/v009/</span><span style=\"color: #ff00ff; text-decoration-color: #ff00ff\">2024_11_21__15_20</span>                                         <a href=\"file:///home/paltenmo/projects/crossplatform/analysis_and_reporting/triage.py\" target=\"_blank\"><span style=\"color: #7f7f7f; text-decoration-color: #7f7f7f\">triage.py</span></a><span style=\"color: #7f7f7f; text-decoration-color: #7f7f7f\">:</span><a href=\"file:///home/paltenmo/projects/crossplatform/analysis_and_reporting/triage.py#140\" target=\"_blank\"><span style=\"color: #7f7f7f; text-decoration-color: #7f7f7f\">140</span></a>\n",
       "</pre>\n"
      ],
      "text/plain": [
       "\u001b[2;36m          \u001b[0m\u001b[2;36m \u001b[0mCopied files to: ..\u001b[35m/reports/v009/\u001b[0m\u001b[95m2024_11_21__15_20\u001b[0m                                         \u001b]8;id=965951;file:///home/paltenmo/projects/crossplatform/analysis_and_reporting/triage.py\u001b\\\u001b[2mtriage.py\u001b[0m\u001b]8;;\u001b\\\u001b[2m:\u001b[0m\u001b]8;id=640382;file:///home/paltenmo/projects/crossplatform/analysis_and_reporting/triage.py#140\u001b\\\u001b[2m140\u001b[0m\u001b]8;;\u001b\\\n"
      ]
     },
     "metadata": {},
     "output_type": "display_data"
    },
    {
     "data": {
      "text/html": [
       "<pre style=\"white-space:pre;overflow-x:auto;line-height:normal;font-family:Menlo,'DejaVu Sans Mono',consolas,'Courier New',monospace\"><span style=\"color: #7fbfbf; text-decoration-color: #7fbfbf\">[15:20:08] </span>Involved functions:                                                             <a href=\"file:///home/paltenmo/projects/crossplatform/analysis_and_reporting/ddmin_target_file.py\" target=\"_blank\"><span style=\"color: #7f7f7f; text-decoration-color: #7f7f7f\">ddmin_target_file.py</span></a><span style=\"color: #7f7f7f; text-decoration-color: #7f7f7f\">:</span><a href=\"file:///home/paltenmo/projects/crossplatform/analysis_and_reporting/ddmin_target_file.py#206\" target=\"_blank\"><span style=\"color: #7f7f7f; text-decoration-color: #7f7f7f\">206</span></a>\n",
       "</pre>\n"
      ],
      "text/plain": [
       "\u001b[2;36m[15:20:08]\u001b[0m\u001b[2;36m \u001b[0mInvolved functions:                                                             \u001b]8;id=308250;file:///home/paltenmo/projects/crossplatform/analysis_and_reporting/ddmin_target_file.py\u001b\\\u001b[2mddmin_target_file.py\u001b[0m\u001b]8;;\u001b\\\u001b[2m:\u001b[0m\u001b]8;id=994586;file:///home/paltenmo/projects/crossplatform/analysis_and_reporting/ddmin_target_file.py#206\u001b\\\u001b[2m206\u001b[0m\u001b]8;;\u001b\\\n"
      ]
     },
     "metadata": {},
     "output_type": "display_data"
    },
    {
     "data": {
      "text/html": [
       "<pre style=\"white-space:pre;overflow-x:auto;line-height:normal;font-family:Menlo,'DejaVu Sans Mono',consolas,'Courier New',monospace\"><span style=\"color: #7fbfbf; text-decoration-color: #7fbfbf\">           </span>  - compare_qasm_via_qcec                                                       <a href=\"file:///home/paltenmo/projects/crossplatform/analysis_and_reporting/ddmin_target_file.py\" target=\"_blank\"><span style=\"color: #7f7f7f; text-decoration-color: #7f7f7f\">ddmin_target_file.py</span></a><span style=\"color: #7f7f7f; text-decoration-color: #7f7f7f\">:</span><a href=\"file:///home/paltenmo/projects/crossplatform/analysis_and_reporting/ddmin_target_file.py#208\" target=\"_blank\"><span style=\"color: #7f7f7f; text-decoration-color: #7f7f7f\">208</span></a>\n",
       "</pre>\n"
      ],
      "text/plain": [
       "\u001b[2;36m          \u001b[0m\u001b[2;36m \u001b[0m  - compare_qasm_via_qcec                                                       \u001b]8;id=221735;file:///home/paltenmo/projects/crossplatform/analysis_and_reporting/ddmin_target_file.py\u001b\\\u001b[2mddmin_target_file.py\u001b[0m\u001b]8;;\u001b\\\u001b[2m:\u001b[0m\u001b]8;id=671155;file:///home/paltenmo/projects/crossplatform/analysis_and_reporting/ddmin_target_file.py#208\u001b\\\u001b[2m208\u001b[0m\u001b]8;;\u001b\\\n"
      ]
     },
     "metadata": {},
     "output_type": "display_data"
    },
    {
     "data": {
      "text/html": [
       "<pre style=\"white-space:pre;overflow-x:auto;line-height:normal;font-family:Menlo,'DejaVu Sans Mono',consolas,'Courier New',monospace\"><span style=\"color: #7fbfbf; text-decoration-color: #7fbfbf\">           </span>  - export_to_qasm_with_bqskit                                                  <a href=\"file:///home/paltenmo/projects/crossplatform/analysis_and_reporting/ddmin_target_file.py\" target=\"_blank\"><span style=\"color: #7f7f7f; text-decoration-color: #7f7f7f\">ddmin_target_file.py</span></a><span style=\"color: #7f7f7f; text-decoration-color: #7f7f7f\">:</span><a href=\"file:///home/paltenmo/projects/crossplatform/analysis_and_reporting/ddmin_target_file.py#208\" target=\"_blank\"><span style=\"color: #7f7f7f; text-decoration-color: #7f7f7f\">208</span></a>\n",
       "</pre>\n"
      ],
      "text/plain": [
       "\u001b[2;36m          \u001b[0m\u001b[2;36m \u001b[0m  - export_to_qasm_with_bqskit                                                  \u001b]8;id=698568;file:///home/paltenmo/projects/crossplatform/analysis_and_reporting/ddmin_target_file.py\u001b\\\u001b[2mddmin_target_file.py\u001b[0m\u001b]8;;\u001b\\\u001b[2m:\u001b[0m\u001b]8;id=544819;file:///home/paltenmo/projects/crossplatform/analysis_and_reporting/ddmin_target_file.py#208\u001b\\\u001b[2m208\u001b[0m\u001b]8;;\u001b\\\n"
      ]
     },
     "metadata": {},
     "output_type": "display_data"
    },
    {
     "data": {
      "text/html": [
       "<pre style=\"white-space:pre;overflow-x:auto;line-height:normal;font-family:Menlo,'DejaVu Sans Mono',consolas,'Courier New',monospace\"><span style=\"color: #7fbfbf; text-decoration-color: #7fbfbf\">           </span>  - export_to_qasm_with_pytket                                                  <a href=\"file:///home/paltenmo/projects/crossplatform/analysis_and_reporting/ddmin_target_file.py\" target=\"_blank\"><span style=\"color: #7f7f7f; text-decoration-color: #7f7f7f\">ddmin_target_file.py</span></a><span style=\"color: #7f7f7f; text-decoration-color: #7f7f7f\">:</span><a href=\"file:///home/paltenmo/projects/crossplatform/analysis_and_reporting/ddmin_target_file.py#208\" target=\"_blank\"><span style=\"color: #7f7f7f; text-decoration-color: #7f7f7f\">208</span></a>\n",
       "</pre>\n"
      ],
      "text/plain": [
       "\u001b[2;36m          \u001b[0m\u001b[2;36m \u001b[0m  - export_to_qasm_with_pytket                                                  \u001b]8;id=663922;file:///home/paltenmo/projects/crossplatform/analysis_and_reporting/ddmin_target_file.py\u001b\\\u001b[2mddmin_target_file.py\u001b[0m\u001b]8;;\u001b\\\u001b[2m:\u001b[0m\u001b]8;id=494599;file:///home/paltenmo/projects/crossplatform/analysis_and_reporting/ddmin_target_file.py#208\u001b\\\u001b[2m208\u001b[0m\u001b]8;;\u001b\\\n"
      ]
     },
     "metadata": {},
     "output_type": "display_data"
    },
    {
     "name": "stdout",
     "output_type": "stream",
     "text": [
      "Error parsing: Command 'python /workspace/to_execute.py' in image 'qiskit_runner' returned non-zero exit status 1: b'Traceback (most recent call last):\\n  File \"/workspace/to_execute.py\", line 106, in <module>\\n    target_qc = qc\\nNameError: name \\'qc\\' is not defined\\n'\n",
      "Failed to execute to_execute.py in Docker.\n",
      "Output: Saved the BQSKit circuit to /workspace/to_execute_qc_bqskit.qasm\n",
      "Saved the Pytket circuit to /workspace/to_execute_qc_pytket.qasm\n",
      "Exported QASM files: [('/workspace/to_execute_qc_bqskit.qasm', 'export_to_qasm_with_bqskit'), ('/workspace/to_execute_qc_pytket.qasm', 'export_to_qasm_with_pytket')]\n",
      "Log has been saved to /workspace/to_execute_17ef87_error.json\n",
      "\n",
      "Program to_execute.py executed successfully.\n",
      "New exception message: The circuits are not equivalent: /workspace/to_execute_qc_bqskit.qasm, /workspace/to_execute_qc_pytket.qasm\n",
      "Error parsing: Command 'python /workspace/to_execute.py' in image 'qiskit_runner' returned non-zero exit status 1: b'  File \"/workspace/to_execute.py\", line 20\\n    , custom_instructions=qasm2.LEGACY_CUSTOM_INSTRUCTIONS)\\n                                                          ^\\nSyntaxError: unmatched \\')\\'\\n'\n",
      "Failed to execute to_execute.py in Docker.\n",
      "Error parsing: Command 'python /workspace/to_execute.py' in image 'qiskit_runner' returned non-zero exit status 1: b'  File \"/workspace/to_execute.py\", line 10\\n    qc = qasm2.loads(\\n                    ^\\nSyntaxError: \\'(\\' was never closed\\n'\n",
      "Failed to execute to_execute.py in Docker.\n",
      "Error parsing: Command 'python /workspace/to_execute.py' in image 'qiskit_runner' returned non-zero exit status 1: b'  File \"/workspace/to_execute.py\", line 31\\n    , custom_instructions=qasm2.LEGACY_CUSTOM_INSTRUCTIONS)\\n                                                          ^\\nSyntaxError: unmatched \\')\\'\\n'\n",
      "Failed to execute to_execute.py in Docker.\n",
      "Error parsing: Command 'python /workspace/to_execute.py' in image 'qiskit_runner' returned non-zero exit status 1: b'Traceback (most recent call last):\\n  File \"/workspace/to_execute.py\", line 10, in <module>\\n    qc = qasm2.loads(\\n  File \"/usr/local/lib/python3.10/site-packages/qiskit/qasm2/__init__.py\", line 587, in loads\\n    return _parse.from_bytecode(\\n  File \"/usr/local/lib/python3.10/site-packages/qiskit/qasm2/parse.py\", line 214, in from_bytecode\\n    for op in bc:\\nqiskit.qasm2.exceptions.QASM2ParseError: \"<input>:12,14: \\'reg_2_cout\\' is not defined in this scope\"\\n'\n",
      "Failed to execute to_execute.py in Docker.\n",
      "Output: Saved the BQSKit circuit to /workspace/to_execute_qc_bqskit.qasm\n",
      "Saved the Pytket circuit to /workspace/to_execute_qc_pytket.qasm\n",
      "Exported QASM files: [('/workspace/to_execute_qc_bqskit.qasm', 'export_to_qasm_with_bqskit'), ('/workspace/to_execute_qc_pytket.qasm', 'export_to_qasm_with_pytket')]\n",
      "Log has been saved to /workspace/to_execute_59f673_error.json\n",
      "\n",
      "Program to_execute.py executed successfully.\n",
      "New exception message: The circuits are not equivalent: /workspace/to_execute_qc_bqskit.qasm, /workspace/to_execute_qc_pytket.qasm\n",
      "Error parsing: Command 'python /workspace/to_execute.py' in image 'qiskit_runner' returned non-zero exit status 1: b'  File \"/workspace/to_execute.py\", line 22\\n    , custom_instructions=qasm2.LEGACY_CUSTOM_INSTRUCTIONS)\\n                                                          ^\\nSyntaxError: unmatched \\')\\'\\n'\n",
      "Failed to execute to_execute.py in Docker.\n",
      "Error parsing: Command 'python /workspace/to_execute.py' in image 'qiskit_runner' returned non-zero exit status 1: b'Traceback (most recent call last):\\n  File \"/workspace/to_execute.py\", line 10, in <module>\\n    qc = qasm2.loads(\\n  File \"/usr/local/lib/python3.10/site-packages/qiskit/qasm2/__init__.py\", line 587, in loads\\n    return _parse.from_bytecode(\\n  File \"/usr/local/lib/python3.10/site-packages/qiskit/qasm2/parse.py\", line 214, in from_bytecode\\n    for op in bc:\\nqiskit.qasm2.exceptions.QASM2ParseError: \"<input>:6,2: \\'reg_1_q\\' is not defined in this scope\"\\n'\n",
      "Failed to execute to_execute.py in Docker.\n",
      "Error parsing: Command 'python /workspace/to_execute.py' in image 'qiskit_runner' returned non-zero exit status 1: b'  File \"/workspace/to_execute.py\", line 10\\n    qc = qasm2.loads(\\n                    ^\\nSyntaxError: \\'(\\' was never closed\\n'\n",
      "Failed to execute to_execute.py in Docker.\n",
      "Error parsing: Command 'python /workspace/to_execute.py' in image 'qiskit_runner' returned non-zero exit status 1: b'  File \"/workspace/to_execute.py\", line 25\\n    , custom_instructions=qasm2.LEGACY_CUSTOM_INSTRUCTIONS)\\n                                                          ^\\nSyntaxError: unmatched \\')\\'\\n'\n",
      "Failed to execute to_execute.py in Docker.\n",
      "Error parsing: Command 'python /workspace/to_execute.py' in image 'qiskit_runner' returned non-zero exit status 1: b'Traceback (most recent call last):\\n  File \"/workspace/to_execute.py\", line 10, in <module>\\n    qc = qasm2.loads(\\n  File \"/usr/local/lib/python3.10/site-packages/qiskit/qasm2/__init__.py\", line 587, in loads\\n    return _parse.from_bytecode(\\n  File \"/usr/local/lib/python3.10/site-packages/qiskit/qasm2/parse.py\", line 214, in from_bytecode\\n    for op in bc:\\nqiskit.qasm2.exceptions.QASM2ParseError: \"<input>:5,0: cannot use non-builtin custom instruction \\'cx\\' before definition\"\\n'\n",
      "Failed to execute to_execute.py in Docker.\n",
      "Error parsing: Command 'python /workspace/to_execute.py' in image 'qiskit_runner' returned non-zero exit status 1: b'Traceback (most recent call last):\\n  File \"/workspace/to_execute.py\", line 10, in <module>\\n    qc = qasm2.loads(\\n  File \"/usr/local/lib/python3.10/site-packages/qiskit/qasm2/__init__.py\", line 587, in loads\\n    return _parse.from_bytecode(\\n  File \"/usr/local/lib/python3.10/site-packages/qiskit/qasm2/parse.py\", line 214, in from_bytecode\\n    for op in bc:\\nqiskit.qasm2.exceptions.QASM2ParseError: \"<input>:6,2: \\'reg_1_q\\' is not defined in this scope\"\\n'\n",
      "Failed to execute to_execute.py in Docker.\n",
      "Output: Saved the BQSKit circuit to /workspace/to_execute_qc_bqskit.qasm\n",
      "Saved the Pytket circuit to /workspace/to_execute_qc_pytket.qasm\n",
      "Exported QASM files: [('/workspace/to_execute_qc_bqskit.qasm', 'export_to_qasm_with_bqskit'), ('/workspace/to_execute_qc_pytket.qasm', 'export_to_qasm_with_pytket')]\n",
      "Log has been saved to /workspace/to_execute_11fdea_error.json\n",
      "\n",
      "Program to_execute.py executed successfully.\n",
      "New exception message: The circuits are not equivalent: /workspace/to_execute_qc_bqskit.qasm, /workspace/to_execute_qc_pytket.qasm\n",
      "Error parsing: Command 'python /workspace/to_execute.py' in image 'qiskit_runner' returned non-zero exit status 1: b'  File \"/workspace/to_execute.py\", line 22\\n    , custom_instructions=qasm2.LEGACY_CUSTOM_INSTRUCTIONS)\\n                                                          ^\\nSyntaxError: unmatched \\')\\'\\n'\n",
      "Failed to execute to_execute.py in Docker.\n",
      "Error parsing: Command 'python /workspace/to_execute.py' in image 'qiskit_runner' returned non-zero exit status 1: b'Traceback (most recent call last):\\n  File \"/workspace/to_execute.py\", line 10, in <module>\\n    qc = qasm2.loads(\\n  File \"/usr/local/lib/python3.10/site-packages/qiskit/qasm2/__init__.py\", line 587, in loads\\n    return _parse.from_bytecode(\\n  File \"/usr/local/lib/python3.10/site-packages/qiskit/qasm2/parse.py\", line 214, in from_bytecode\\n    for op in bc:\\nqiskit.qasm2.exceptions.QASM2ParseError: \"<input>:4,0: cannot use non-builtin custom instruction \\'cx\\' before definition\"\\n'\n",
      "Failed to execute to_execute.py in Docker.\n",
      "Error parsing: Command 'python /workspace/to_execute.py' in image 'qiskit_runner' returned non-zero exit status 1: b'Traceback (most recent call last):\\n  File \"/workspace/to_execute.py\", line 10, in <module>\\n    qc = qasm2.loads(\\n  File \"/usr/local/lib/python3.10/site-packages/qiskit/qasm2/__init__.py\", line 587, in loads\\n    return _parse.from_bytecode(\\n  File \"/usr/local/lib/python3.10/site-packages/qiskit/qasm2/parse.py\", line 214, in from_bytecode\\n    for op in bc:\\nqiskit.qasm2.exceptions.QASM2ParseError: \"<input>:6,3: \\'reg_1_q\\' is not defined in this scope\"\\n'\n",
      "Failed to execute to_execute.py in Docker.\n",
      "Output: Saved the BQSKit circuit to /workspace/to_execute_qc_bqskit.qasm\n",
      "Saved the Pytket circuit to /workspace/to_execute_qc_pytket.qasm\n",
      "Exported QASM files: [('/workspace/to_execute_qc_bqskit.qasm', 'export_to_qasm_with_bqskit'), ('/workspace/to_execute_qc_pytket.qasm', 'export_to_qasm_with_pytket')]\n",
      "Log has been saved to /workspace/to_execute_b014a3_error.json\n",
      "\n",
      "Program to_execute.py executed successfully.\n",
      "New exception message: The circuits are not equivalent: /workspace/to_execute_qc_bqskit.qasm, /workspace/to_execute_qc_pytket.qasm\n",
      "Error parsing: Command 'python /workspace/to_execute.py' in image 'qiskit_runner' returned non-zero exit status 1: b'  File \"/workspace/to_execute.py\", line 18\\n    , custom_instructions=qasm2.LEGACY_CUSTOM_INSTRUCTIONS)\\n                                                          ^\\nSyntaxError: unmatched \\')\\'\\n'\n",
      "Failed to execute to_execute.py in Docker.\n",
      "Error parsing: Command 'python /workspace/to_execute.py' in image 'qiskit_runner' returned non-zero exit status 1: b'Traceback (most recent call last):\\n  File \"/workspace/to_execute.py\", line 10, in <module>\\n    qc = qasm2.loads(\\n  File \"/usr/local/lib/python3.10/site-packages/qiskit/qasm2/__init__.py\", line 587, in loads\\n    return _parse.from_bytecode(\\n  File \"/usr/local/lib/python3.10/site-packages/qiskit/qasm2/parse.py\", line 214, in from_bytecode\\n    for op in bc:\\nqiskit.qasm2.exceptions.QASM2ParseError: \"<input>:5,0: cannot use non-builtin custom instruction \\'cx\\' before definition\"\\n'\n",
      "Failed to execute to_execute.py in Docker.\n",
      "Error parsing: Command 'python /workspace/to_execute.py' in image 'qiskit_runner' returned non-zero exit status 1: b'Traceback (most recent call last):\\n  File \"/workspace/to_execute.py\", line 10, in <module>\\n    qc = qasm2.loads(\\n  File \"/usr/local/lib/python3.10/site-packages/qiskit/qasm2/__init__.py\", line 587, in loads\\n    return _parse.from_bytecode(\\n  File \"/usr/local/lib/python3.10/site-packages/qiskit/qasm2/parse.py\", line 214, in from_bytecode\\n    for op in bc:\\nqiskit.qasm2.exceptions.QASM2ParseError: \"<input>:5,16: \\'reg_2_b\\' is not defined in this scope\"\\n'\n",
      "Failed to execute to_execute.py in Docker.\n",
      "Error parsing: Command 'python /workspace/to_execute.py' in image 'qiskit_runner' returned non-zero exit status 1: b'  File \"/workspace/to_execute.py\", line 10\\n    qc = qasm2.loads(\\n                    ^\\nSyntaxError: \\'(\\' was never closed\\n'\n",
      "Failed to execute to_execute.py in Docker.\n",
      "Error parsing: Command 'python /workspace/to_execute.py' in image 'qiskit_runner' returned non-zero exit status 1: b'  File \"/workspace/to_execute.py\", line 20\\n    , custom_instructions=qasm2.LEGACY_CUSTOM_INSTRUCTIONS)\\nIndentationError: unexpected indent\\n'\n",
      "Failed to execute to_execute.py in Docker.\n",
      "Error parsing: Command 'python /workspace/to_execute.py' in image 'qiskit_runner' returned non-zero exit status 1: b'  File \"/workspace/to_execute.py\", line 12\\n    include \"qelib1.inc\";\\n            ^^^^^^^^^^^^\\nSyntaxError: invalid syntax\\n'\n",
      "Failed to execute to_execute.py in Docker.\n",
      "Error parsing: Command 'python /workspace/to_execute.py' in image 'qiskit_runner' returned non-zero exit status 1: b'Traceback (most recent call last):\\n  File \"/workspace/to_execute.py\", line 10, in <module>\\n    qc = qasm2.loads(\\n  File \"/usr/local/lib/python3.10/site-packages/qiskit/qasm2/__init__.py\", line 587, in loads\\n    return _parse.from_bytecode(\\n  File \"/usr/local/lib/python3.10/site-packages/qiskit/qasm2/parse.py\", line 214, in from_bytecode\\n    for op in bc:\\nqiskit.qasm2.exceptions.QASM2ParseError: \"<input>:6,0: cannot use non-builtin custom instruction \\'cx\\' before definition\"\\n'\n",
      "Failed to execute to_execute.py in Docker.\n",
      "Error parsing: Command 'python /workspace/to_execute.py' in image 'qiskit_runner' returned non-zero exit status 1: b'Traceback (most recent call last):\\n  File \"/workspace/to_execute.py\", line 10, in <module>\\n    qc = qasm2.loads(\\n  File \"/usr/local/lib/python3.10/site-packages/qiskit/qasm2/__init__.py\", line 587, in loads\\n    return _parse.from_bytecode(\\n  File \"/usr/local/lib/python3.10/site-packages/qiskit/qasm2/parse.py\", line 214, in from_bytecode\\n    for op in bc:\\nqiskit.qasm2.exceptions.QASM2ParseError: \"<input>:7,14: \\'reg_2_b\\' is not defined in this scope\"\\n'\n",
      "Failed to execute to_execute.py in Docker.\n",
      "Error parsing: Command 'python /workspace/to_execute.py' in image 'qiskit_runner' returned non-zero exit status 1: b'Traceback (most recent call last):\\n  File \"/workspace/to_execute.py\", line 10, in <module>\\n    qc = qasm2.loads(\\n  File \"/usr/local/lib/python3.10/site-packages/qiskit/qasm2/__init__.py\", line 587, in loads\\n    return _parse.from_bytecode(\\n  File \"/usr/local/lib/python3.10/site-packages/qiskit/qasm2/parse.py\", line 214, in from_bytecode\\n    for op in bc:\\nqiskit.qasm2.exceptions.QASM2ParseError: \"<input>:6,3: \\'reg_1_q\\' is not defined in this scope\"\\n'\n",
      "Failed to execute to_execute.py in Docker.\n",
      "Output: Saved the BQSKit circuit to /workspace/to_execute_qc_bqskit.qasm\n",
      "Saved the Pytket circuit to /workspace/to_execute_qc_pytket.qasm\n",
      "Exported QASM files: [('/workspace/to_execute_qc_bqskit.qasm', 'export_to_qasm_with_bqskit'), ('/workspace/to_execute_qc_pytket.qasm', 'export_to_qasm_with_pytket')]\n",
      "Log has been saved to /workspace/to_execute_151dbc_error.json\n",
      "\n",
      "Program to_execute.py executed successfully.\n",
      "New exception message: The circuits are not equivalent: /workspace/to_execute_qc_bqskit.qasm, /workspace/to_execute_qc_pytket.qasm\n",
      "Error parsing: Command 'python /workspace/to_execute.py' in image 'qiskit_runner' returned non-zero exit status 1: b'  File \"/workspace/to_execute.py\", line 19\\n    , custom_instructions=qasm2.LEGACY_CUSTOM_INSTRUCTIONS)\\nIndentationError: unexpected indent\\n'\n",
      "Failed to execute to_execute.py in Docker.\n",
      "Error parsing: Command 'python /workspace/to_execute.py' in image 'qiskit_runner' returned non-zero exit status 1: b'  File \"/workspace/to_execute.py\", line 12\\n    include \"qelib1.inc\";\\n            ^^^^^^^^^^^^\\nSyntaxError: invalid syntax\\n'\n",
      "Failed to execute to_execute.py in Docker.\n",
      "Error parsing: Command 'python /workspace/to_execute.py' in image 'qiskit_runner' returned non-zero exit status 1: b'Traceback (most recent call last):\\n  File \"/workspace/to_execute.py\", line 10, in <module>\\n    qc = qasm2.loads(\\n  File \"/usr/local/lib/python3.10/site-packages/qiskit/qasm2/__init__.py\", line 587, in loads\\n    return _parse.from_bytecode(\\n  File \"/usr/local/lib/python3.10/site-packages/qiskit/qasm2/parse.py\", line 214, in from_bytecode\\n    for op in bc:\\nqiskit.qasm2.exceptions.QASM2ParseError: \"<input>:6,0: cannot use non-builtin custom instruction \\'cx\\' before definition\"\\n'\n",
      "Failed to execute to_execute.py in Docker.\n",
      "Error parsing: Command 'python /workspace/to_execute.py' in image 'qiskit_runner' returned non-zero exit status 1: b'Traceback (most recent call last):\\n  File \"/workspace/to_execute.py\", line 10, in <module>\\n    qc = qasm2.loads(\\n  File \"/usr/local/lib/python3.10/site-packages/qiskit/qasm2/__init__.py\", line 587, in loads\\n    return _parse.from_bytecode(\\n  File \"/usr/local/lib/python3.10/site-packages/qiskit/qasm2/parse.py\", line 214, in from_bytecode\\n    for op in bc:\\nqiskit.qasm2.exceptions.QASM2ParseError: \"<input>:6,16: \\'reg_2_b\\' is not defined in this scope\"\\n'\n",
      "Failed to execute to_execute.py in Docker.\n",
      "Output: Saved the BQSKit circuit to /workspace/to_execute_qc_bqskit.qasm\n",
      "Saved the Pytket circuit to /workspace/to_execute_qc_pytket.qasm\n",
      "Exported QASM files: [('/workspace/to_execute_qc_bqskit.qasm', 'export_to_qasm_with_bqskit'), ('/workspace/to_execute_qc_pytket.qasm', 'export_to_qasm_with_pytket')]\n",
      "Log has been saved to /workspace/to_execute_4f628b_error.json\n",
      "\n",
      "Program to_execute.py executed successfully.\n",
      "New exception message: The circuits are not equivalent: /workspace/to_execute_qc_bqskit.qasm, /workspace/to_execute_qc_pytket.qasm\n",
      "Error parsing: Command 'python /workspace/to_execute.py' in image 'qiskit_runner' returned non-zero exit status 1: b'  File \"/workspace/to_execute.py\", line 18\\n    , custom_instructions=qasm2.LEGACY_CUSTOM_INSTRUCTIONS)\\nIndentationError: unexpected indent\\n'\n",
      "Failed to execute to_execute.py in Docker.\n",
      "Error parsing: Command 'python /workspace/to_execute.py' in image 'qiskit_runner' returned non-zero exit status 1: b'  File \"/workspace/to_execute.py\", line 12\\n    include \"qelib1.inc\";\\n            ^^^^^^^^^^^^\\nSyntaxError: invalid syntax\\n'\n",
      "Failed to execute to_execute.py in Docker.\n",
      "Error parsing: Command 'python /workspace/to_execute.py' in image 'qiskit_runner' returned non-zero exit status 1: b'Traceback (most recent call last):\\n  File \"/workspace/to_execute.py\", line 10, in <module>\\n    qc = qasm2.loads(\\n  File \"/usr/local/lib/python3.10/site-packages/qiskit/qasm2/__init__.py\", line 587, in loads\\n    return _parse.from_bytecode(\\n  File \"/usr/local/lib/python3.10/site-packages/qiskit/qasm2/parse.py\", line 214, in from_bytecode\\n    for op in bc:\\nqiskit.qasm2.exceptions.QASM2ParseError: \"<input>:5,0: cannot use non-builtin custom instruction \\'cx\\' before definition\"\\n'\n",
      "Failed to execute to_execute.py in Docker.\n",
      "Error parsing: Command 'python /workspace/to_execute.py' in image 'qiskit_runner' returned non-zero exit status 1: b'Traceback (most recent call last):\\n  File \"/workspace/to_execute.py\", line 10, in <module>\\n    qc = qasm2.loads(\\n  File \"/usr/local/lib/python3.10/site-packages/qiskit/qasm2/__init__.py\", line 587, in loads\\n    return _parse.from_bytecode(\\n  File \"/usr/local/lib/python3.10/site-packages/qiskit/qasm2/parse.py\", line 214, in from_bytecode\\n    for op in bc:\\nqiskit.qasm2.exceptions.QASM2ParseError: \"<input>:5,16: \\'reg_2_b\\' is not defined in this scope\"\\n'\n",
      "Failed to execute to_execute.py in Docker.\n",
      "Error parsing: Command 'python /workspace/to_execute.py' in image 'qiskit_runner' returned non-zero exit status 1: b'  File \"/workspace/to_execute.py\", line 12\\n    OPENQASM 2.0;\\n    ^^^^^^^^^^^^\\nSyntaxError: invalid syntax. Perhaps you forgot a comma?\\n'\n",
      "Failed to execute to_execute.py in Docker.\n",
      "Error parsing: Command 'python /workspace/to_execute.py' in image 'qiskit_runner' returned non-zero exit status 1: b'  File \"/workspace/to_execute.py\", line 10\\n    qc = qasm2.loads(\\n                    ^\\nSyntaxError: \\'(\\' was never closed\\n'\n",
      "Failed to execute to_execute.py in Docker.\n",
      "Error parsing: Command 'python /workspace/to_execute.py' in image 'qiskit_runner' returned non-zero exit status 1: b'  File \"/workspace/to_execute.py\", line 19\\n    , custom_instructions=qasm2.LEGACY_CUSTOM_INSTRUCTIONS)\\nIndentationError: unexpected indent\\n'\n",
      "Failed to execute to_execute.py in Docker.\n",
      "Output: Saved the BQSKit circuit to /workspace/to_execute_qc_bqskit.qasm\n",
      "Saved the Pytket circuit to /workspace/to_execute_qc_pytket.qasm\n",
      "Exported QASM files: [('/workspace/to_execute_qc_bqskit.qasm', 'export_to_qasm_with_bqskit'), ('/workspace/to_execute_qc_pytket.qasm', 'export_to_qasm_with_pytket')]\n",
      "Log has been saved to /workspace/to_execute_03a1c0_error.json\n",
      "\n",
      "Program to_execute.py executed successfully.\n",
      "New exception message: The circuits are not equivalent: /workspace/to_execute_qc_bqskit.qasm, /workspace/to_execute_qc_pytket.qasm\n",
      "Error parsing: Command 'python /workspace/to_execute.py' in image 'qiskit_runner' returned non-zero exit status 1: b'  File \"/workspace/to_execute.py\", line 18\\n    , custom_instructions=qasm2.LEGACY_CUSTOM_INSTRUCTIONS)\\nIndentationError: unexpected indent\\n'\n",
      "Failed to execute to_execute.py in Docker.\n",
      "Error parsing: Command 'python /workspace/to_execute.py' in image 'qiskit_runner' returned non-zero exit status 1: b'  File \"/workspace/to_execute.py\", line 11\\n    OPENQASM 2.0;\\n    ^^^^^^^^^^^^\\nSyntaxError: invalid syntax. Perhaps you forgot a comma?\\n'\n",
      "Failed to execute to_execute.py in Docker.\n",
      "Output: Saved the BQSKit circuit to /workspace/to_execute_qc_bqskit.qasm\n",
      "Saved the Pytket circuit to /workspace/to_execute_qc_pytket.qasm\n",
      "Exported QASM files: [('/workspace/to_execute_qc_bqskit.qasm', 'export_to_qasm_with_bqskit'), ('/workspace/to_execute_qc_pytket.qasm', 'export_to_qasm_with_pytket')]\n",
      "Log has been saved to /workspace/to_execute_91a812_error.json\n",
      "\n",
      "Program to_execute.py executed successfully.\n",
      "New exception message: The circuits are not equivalent: /workspace/to_execute_qc_bqskit.qasm, /workspace/to_execute_qc_pytket.qasm\n",
      "Error parsing: Command 'python /workspace/to_execute.py' in image 'qiskit_runner' returned non-zero exit status 1: b'  File \"/workspace/to_execute.py\", line 17\\n    , custom_instructions=qasm2.LEGACY_CUSTOM_INSTRUCTIONS)\\nIndentationError: unexpected indent\\n'\n",
      "Failed to execute to_execute.py in Docker.\n",
      "Error parsing: Command 'python /workspace/to_execute.py' in image 'qiskit_runner' returned non-zero exit status 1: b'  File \"/workspace/to_execute.py\", line 11\\n    include \"qelib1.inc\";\\n            ^^^^^^^^^^^^\\nSyntaxError: invalid syntax\\n'\n",
      "Failed to execute to_execute.py in Docker.\n",
      "Error parsing: Command 'python /workspace/to_execute.py' in image 'qiskit_runner' returned non-zero exit status 1: b'Traceback (most recent call last):\\n  File \"/workspace/to_execute.py\", line 10, in <module>\\n    qc = qasm2.loads(\\n  File \"/usr/local/lib/python3.10/site-packages/qiskit/qasm2/__init__.py\", line 587, in loads\\n    return _parse.from_bytecode(\\n  File \"/usr/local/lib/python3.10/site-packages/qiskit/qasm2/parse.py\", line 214, in from_bytecode\\n    for op in bc:\\nqiskit.qasm2.exceptions.QASM2ParseError: \"<input>:5,0: cannot use non-builtin custom instruction \\'cx\\' before definition\"\\n'\n",
      "Failed to execute to_execute.py in Docker.\n",
      "Error parsing: Command 'python /workspace/to_execute.py' in image 'qiskit_runner' returned non-zero exit status 1: b'Traceback (most recent call last):\\n  File \"/workspace/to_execute.py\", line 10, in <module>\\n    qc = qasm2.loads(\\n  File \"/usr/local/lib/python3.10/site-packages/qiskit/qasm2/__init__.py\", line 587, in loads\\n    return _parse.from_bytecode(\\n  File \"/usr/local/lib/python3.10/site-packages/qiskit/qasm2/parse.py\", line 214, in from_bytecode\\n    for op in bc:\\nqiskit.qasm2.exceptions.QASM2ParseError: \"<input>:5,3: \\'reg_2_cin\\' is not defined in this scope\"\\n'\n",
      "Failed to execute to_execute.py in Docker.\n",
      "Error parsing: Command 'python /workspace/to_execute.py' in image 'qiskit_runner' returned non-zero exit status 1: b'Traceback (most recent call last):\\n  File \"/workspace/to_execute.py\", line 10, in <module>\\n    qc = qasm2.loads(\\n  File \"/usr/local/lib/python3.10/site-packages/qiskit/qasm2/__init__.py\", line 587, in loads\\n    return _parse.from_bytecode(\\n  File \"/usr/local/lib/python3.10/site-packages/qiskit/qasm2/parse.py\", line 214, in from_bytecode\\n    for op in bc:\\nqiskit.qasm2.exceptions.QASM2ParseError: \"<input>:5,16: \\'reg_2_b\\' is not defined in this scope\"\\n'\n",
      "Failed to execute to_execute.py in Docker.\n",
      "Output: Saved the BQSKit circuit to /workspace/to_execute_qc_bqskit.qasm\n",
      "Saved the Pytket circuit to /workspace/to_execute_qc_pytket.qasm\n",
      "Exported QASM files: [('/workspace/to_execute_qc_bqskit.qasm', 'export_to_qasm_with_bqskit'), ('/workspace/to_execute_qc_pytket.qasm', 'export_to_qasm_with_pytket')]\n",
      "Log has been saved to /workspace/to_execute_9b5d7e_error.json\n",
      "\n",
      "Program to_execute.py executed successfully.\n",
      "New exception message: The circuits are not equivalent: /workspace/to_execute_qc_bqskit.qasm, /workspace/to_execute_qc_pytket.qasm\n",
      "Error parsing: Command 'python /workspace/to_execute.py' in image 'qiskit_runner' returned non-zero exit status 1: b'  File \"/workspace/to_execute.py\", line 16\\n    , custom_instructions=qasm2.LEGACY_CUSTOM_INSTRUCTIONS)\\nIndentationError: unexpected indent\\n'\n",
      "Failed to execute to_execute.py in Docker.\n",
      "Error parsing: Command 'python /workspace/to_execute.py' in image 'qiskit_runner' returned non-zero exit status 1: b'  File \"/workspace/to_execute.py\", line 11\\n    include \"qelib1.inc\";\\n            ^^^^^^^^^^^^\\nSyntaxError: invalid syntax\\n'\n",
      "Failed to execute to_execute.py in Docker.\n",
      "Error parsing: Command 'python /workspace/to_execute.py' in image 'qiskit_runner' returned non-zero exit status 1: b'Traceback (most recent call last):\\n  File \"/workspace/to_execute.py\", line 10, in <module>\\n    qc = qasm2.loads(\\n  File \"/usr/local/lib/python3.10/site-packages/qiskit/qasm2/__init__.py\", line 587, in loads\\n    return _parse.from_bytecode(\\n  File \"/usr/local/lib/python3.10/site-packages/qiskit/qasm2/parse.py\", line 214, in from_bytecode\\n    for op in bc:\\nqiskit.qasm2.exceptions.QASM2ParseError: \"<input>:4,0: cannot use non-builtin custom instruction \\'cx\\' before definition\"\\n'\n",
      "Failed to execute to_execute.py in Docker.\n",
      "Error parsing: Command 'python /workspace/to_execute.py' in image 'qiskit_runner' returned non-zero exit status 1: b'Traceback (most recent call last):\\n  File \"/workspace/to_execute.py\", line 10, in <module>\\n    qc = qasm2.loads(\\n  File \"/usr/local/lib/python3.10/site-packages/qiskit/qasm2/__init__.py\", line 587, in loads\\n    return _parse.from_bytecode(\\n  File \"/usr/local/lib/python3.10/site-packages/qiskit/qasm2/parse.py\", line 214, in from_bytecode\\n    for op in bc:\\nqiskit.qasm2.exceptions.QASM2ParseError: \"<input>:4,3: \\'reg_2_cin\\' is not defined in this scope\"\\n'\n",
      "Failed to execute to_execute.py in Docker.\n",
      "Error parsing: Command 'python /workspace/to_execute.py' in image 'qiskit_runner' returned non-zero exit status 1: b'Traceback (most recent call last):\\n  File \"/workspace/to_execute.py\", line 10, in <module>\\n    qc = qasm2.loads(\\n  File \"/usr/local/lib/python3.10/site-packages/qiskit/qasm2/__init__.py\", line 587, in loads\\n    return _parse.from_bytecode(\\n  File \"/usr/local/lib/python3.10/site-packages/qiskit/qasm2/parse.py\", line 214, in from_bytecode\\n    for op in bc:\\nqiskit.qasm2.exceptions.QASM2ParseError: \"<input>:4,16: \\'reg_2_b\\' is not defined in this scope\"\\n'\n",
      "Failed to execute to_execute.py in Docker.\n",
      "Output: Saved the BQSKit circuit to /workspace/to_execute_qc_bqskit.qasm\n",
      "Saved the Pytket circuit to /workspace/to_execute_qc_pytket.qasm\n",
      "Exported QASM files: [('/workspace/to_execute_qc_bqskit.qasm', 'export_to_qasm_with_bqskit'), ('/workspace/to_execute_qc_pytket.qasm', 'export_to_qasm_with_pytket')]\n",
      "The circuits are equivalent: /workspace/to_execute_qc_bqskit.qasm, /workspace/to_execute_qc_pytket.qasm\n",
      "\n",
      "Program to_execute.py executed successfully.\n",
      "Error parsing: Command 'python /workspace/to_execute.py' in image 'qiskit_runner' returned non-zero exit status 1: b'  File \"/workspace/to_execute.py\", line 11\\n    include \"qelib1.inc\";\\n            ^^^^^^^^^^^^\\nSyntaxError: invalid syntax\\n'\n",
      "Failed to execute to_execute.py in Docker.\n",
      "Error parsing: Command 'python /workspace/to_execute.py' in image 'qiskit_runner' returned non-zero exit status 1: b'  File \"/workspace/to_execute.py\", line 10\\n    qc = qasm2.loads(\\n                    ^\\nSyntaxError: \\'(\\' was never closed\\n'\n",
      "Failed to execute to_execute.py in Docker.\n"
     ]
    },
    {
     "data": {
      "text/html": [
       "<pre style=\"white-space:pre;overflow-x:auto;line-height:normal;font-family:Menlo,'DejaVu Sans Mono',consolas,'Courier New',monospace\"><span style=\"color: #7fbfbf; text-decoration-color: #7fbfbf\">[15:23:48] </span><span style=\"color: #008000; text-decoration-color: #008000\">Minimized file saved as:</span>                                                        <a href=\"file:///home/paltenmo/projects/crossplatform/analysis_and_reporting/ddmin_target_file.py\" target=\"_blank\"><span style=\"color: #7f7f7f; text-decoration-color: #7f7f7f\">ddmin_target_file.py</span></a><span style=\"color: #7f7f7f; text-decoration-color: #7f7f7f\">:</span><a href=\"file:///home/paltenmo/projects/crossplatform/analysis_and_reporting/ddmin_target_file.py#240\" target=\"_blank\"><span style=\"color: #7f7f7f; text-decoration-color: #7f7f7f\">240</span></a>\n",
       "<span style=\"color: #7fbfbf; text-decoration-color: #7fbfbf\">           </span>..<span style=\"color: #800080; text-decoration-color: #800080\">/reports/v009/2024_11_21__15_20/</span><span style=\"color: #ff00ff; text-decoration-color: #ff00ff\">qiskit_circuit_5q_10g_650_4493c8_a271e3_error</span> <span style=\"color: #7f7f7f; text-decoration-color: #7f7f7f\">                        </span>\n",
       "<span style=\"color: #7fbfbf; text-decoration-color: #7fbfbf\">           </span><span style=\"color: #ff00ff; text-decoration-color: #ff00ff\">_min.py</span>                                                                         <span style=\"color: #7f7f7f; text-decoration-color: #7f7f7f\">                        </span>\n",
       "</pre>\n"
      ],
      "text/plain": [
       "\u001b[2;36m[15:23:48]\u001b[0m\u001b[2;36m \u001b[0m\u001b[32mMinimized file saved as:\u001b[0m                                                        \u001b]8;id=23267;file:///home/paltenmo/projects/crossplatform/analysis_and_reporting/ddmin_target_file.py\u001b\\\u001b[2mddmin_target_file.py\u001b[0m\u001b]8;;\u001b\\\u001b[2m:\u001b[0m\u001b]8;id=35295;file:///home/paltenmo/projects/crossplatform/analysis_and_reporting/ddmin_target_file.py#240\u001b\\\u001b[2m240\u001b[0m\u001b]8;;\u001b\\\n",
       "\u001b[2;36m           \u001b[0m..\u001b[35m/reports/v009/2024_11_21__15_20/\u001b[0m\u001b[95mqiskit_circuit_5q_10g_650_4493c8_a271e3_error\u001b[0m \u001b[2m                        \u001b[0m\n",
       "\u001b[2;36m           \u001b[0m\u001b[95m_min.py\u001b[0m                                                                         \u001b[2m                        \u001b[0m\n"
      ]
     },
     "metadata": {},
     "output_type": "display_data"
    },
    {
     "name": "stdout",
     "output_type": "stream",
     "text": [
      "Output: Saved the BQSKit circuit to /workspace/qiskit_circuit_5q_10g_650_4493c8_a271e3_error_min_qc_bqskit.qasm\n",
      "Saved the Pytket circuit to /workspace/qiskit_circuit_5q_10g_650_4493c8_a271e3_error_min_qc_pytket.qasm\n",
      "Exported QASM files: [('/workspace/qiskit_circuit_5q_10g_650_4493c8_a271e3_error_min_qc_bqskit.qasm', 'export_to_qasm_with_bqskit'), ('/workspace/qiskit_circuit_5q_10g_650_4493c8_a271e3_error_min_qc_pytket.qasm', 'export_to_qasm_with_pytket')]\n",
      "Log has been saved to /workspace/qiskit_circuit_5q_10g_650_4493c8_a271e3_error_min_47549b_error.json\n",
      "\n"
     ]
    },
    {
     "data": {
      "text/html": [
       "<pre style=\"white-space:pre;overflow-x:auto;line-height:normal;font-family:Menlo,'DejaVu Sans Mono',consolas,'Courier New',monospace\"><span style=\"color: #7fbfbf; text-decoration-color: #7fbfbf\">[15:23:55] </span>Program qiskit_circuit_5q_10g_650_4493c8_a271e3_error_min.py executed successfully. <a href=\"file:///home/paltenmo/projects/crossplatform/generators/docker_tooling.py\" target=\"_blank\"><span style=\"color: #7f7f7f; text-decoration-color: #7f7f7f\">docker_tooling.py</span></a><span style=\"color: #7f7f7f; text-decoration-color: #7f7f7f\">:</span><a href=\"file:///home/paltenmo/projects/crossplatform/generators/docker_tooling.py#46\" target=\"_blank\"><span style=\"color: #7f7f7f; text-decoration-color: #7f7f7f\">46</span></a>\n",
       "</pre>\n"
      ],
      "text/plain": [
       "\u001b[2;36m[15:23:55]\u001b[0m\u001b[2;36m \u001b[0mProgram qiskit_circuit_5q_10g_650_4493c8_a271e3_error_min.py executed successfully. \u001b]8;id=382553;file:///home/paltenmo/projects/crossplatform/generators/docker_tooling.py\u001b\\\u001b[2mdocker_tooling.py\u001b[0m\u001b]8;;\u001b\\\u001b[2m:\u001b[0m\u001b]8;id=189236;file:///home/paltenmo/projects/crossplatform/generators/docker_tooling.py#46\u001b\\\u001b[2m46\u001b[0m\u001b]8;;\u001b\\\n"
      ]
     },
     "metadata": {},
     "output_type": "display_data"
    },
    {
     "data": {
      "application/vnd.jupyter.widget-view+json": {
       "model_id": "aadc11eac00b4aa3943bb704a9837f38",
       "version_major": 2,
       "version_minor": 0
      },
      "text/plain": [
       "Executing:   0%|          | 0/13 [00:00<?, ?cell/s]"
      ]
     },
     "metadata": {},
     "output_type": "display_data"
    },
    {
     "data": {
      "text/html": [
       "<pre style=\"white-space:pre;overflow-x:auto;line-height:normal;font-family:Menlo,'DejaVu Sans Mono',consolas,'Courier New',monospace\"><span style=\"color: #7fbfbf; text-decoration-color: #7fbfbf\">[15:23:58] </span>Analysis notebook executed: ..<span style=\"color: #800080; text-decoration-color: #800080\">/reports/v009/2024_11_21__15_20/</span><span style=\"color: #ff00ff; text-decoration-color: #ff00ff\">analysis_output.ipynb</span>        <a href=\"file:///home/paltenmo/projects/crossplatform/analysis_and_reporting/triage.py\" target=\"_blank\"><span style=\"color: #7f7f7f; text-decoration-color: #7f7f7f\">triage.py</span></a><span style=\"color: #7f7f7f; text-decoration-color: #7f7f7f\">:</span><a href=\"file:///home/paltenmo/projects/crossplatform/analysis_and_reporting/triage.py#163\" target=\"_blank\"><span style=\"color: #7f7f7f; text-decoration-color: #7f7f7f\">163</span></a>\n",
       "</pre>\n"
      ],
      "text/plain": [
       "\u001b[2;36m[15:23:58]\u001b[0m\u001b[2;36m \u001b[0mAnalysis notebook executed: ..\u001b[35m/reports/v009/2024_11_21__15_20/\u001b[0m\u001b[95manalysis_output.ipynb\u001b[0m        \u001b]8;id=657687;file:///home/paltenmo/projects/crossplatform/analysis_and_reporting/triage.py\u001b\\\u001b[2mtriage.py\u001b[0m\u001b]8;;\u001b\\\u001b[2m:\u001b[0m\u001b]8;id=90175;file:///home/paltenmo/projects/crossplatform/analysis_and_reporting/triage.py#163\u001b\\\u001b[2m163\u001b[0m\u001b]8;;\u001b\\\n"
      ]
     },
     "metadata": {},
     "output_type": "display_data"
    },
    {
     "data": {
      "text/html": [
       "<pre style=\"white-space:pre;overflow-x:auto;line-height:normal;font-family:Menlo,'DejaVu Sans Mono',consolas,'Courier New',monospace\"><span style=\"color: #7fbfbf; text-decoration-color: #7fbfbf\">           </span>Created report folder: ..<span style=\"color: #800080; text-decoration-color: #800080\">/reports/v009/</span><span style=\"color: #ff00ff; text-decoration-color: #ff00ff\">2024_11_21__15_23</span>                                   <a href=\"file:///home/paltenmo/projects/crossplatform/analysis_and_reporting/triage.py\" target=\"_blank\"><span style=\"color: #7f7f7f; text-decoration-color: #7f7f7f\">triage.py</span></a><span style=\"color: #7f7f7f; text-decoration-color: #7f7f7f\">:</span><a href=\"file:///home/paltenmo/projects/crossplatform/analysis_and_reporting/triage.py#131\" target=\"_blank\"><span style=\"color: #7f7f7f; text-decoration-color: #7f7f7f\">131</span></a>\n",
       "</pre>\n"
      ],
      "text/plain": [
       "\u001b[2;36m          \u001b[0m\u001b[2;36m \u001b[0mCreated report folder: ..\u001b[35m/reports/v009/\u001b[0m\u001b[95m2024_11_21__15_23\u001b[0m                                   \u001b]8;id=436416;file:///home/paltenmo/projects/crossplatform/analysis_and_reporting/triage.py\u001b\\\u001b[2mtriage.py\u001b[0m\u001b]8;;\u001b\\\u001b[2m:\u001b[0m\u001b]8;id=622083;file:///home/paltenmo/projects/crossplatform/analysis_and_reporting/triage.py#131\u001b\\\u001b[2m131\u001b[0m\u001b]8;;\u001b\\\n"
      ]
     },
     "metadata": {},
     "output_type": "display_data"
    },
    {
     "data": {
      "text/html": [
       "<pre style=\"white-space:pre;overflow-x:auto;line-height:normal;font-family:Menlo,'DejaVu Sans Mono',consolas,'Courier New',monospace\"><span style=\"color: #7fbfbf; text-decoration-color: #7fbfbf\">           </span>Copied files to: ..<span style=\"color: #800080; text-decoration-color: #800080\">/reports/v009/</span><span style=\"color: #ff00ff; text-decoration-color: #ff00ff\">2024_11_21__15_23</span>                                         <a href=\"file:///home/paltenmo/projects/crossplatform/analysis_and_reporting/triage.py\" target=\"_blank\"><span style=\"color: #7f7f7f; text-decoration-color: #7f7f7f\">triage.py</span></a><span style=\"color: #7f7f7f; text-decoration-color: #7f7f7f\">:</span><a href=\"file:///home/paltenmo/projects/crossplatform/analysis_and_reporting/triage.py#140\" target=\"_blank\"><span style=\"color: #7f7f7f; text-decoration-color: #7f7f7f\">140</span></a>\n",
       "</pre>\n"
      ],
      "text/plain": [
       "\u001b[2;36m          \u001b[0m\u001b[2;36m \u001b[0mCopied files to: ..\u001b[35m/reports/v009/\u001b[0m\u001b[95m2024_11_21__15_23\u001b[0m                                         \u001b]8;id=507940;file:///home/paltenmo/projects/crossplatform/analysis_and_reporting/triage.py\u001b\\\u001b[2mtriage.py\u001b[0m\u001b]8;;\u001b\\\u001b[2m:\u001b[0m\u001b]8;id=690126;file:///home/paltenmo/projects/crossplatform/analysis_and_reporting/triage.py#140\u001b\\\u001b[2m140\u001b[0m\u001b]8;;\u001b\\\n"
      ]
     },
     "metadata": {},
     "output_type": "display_data"
    },
    {
     "data": {
      "text/html": [
       "<pre style=\"white-space:pre;overflow-x:auto;line-height:normal;font-family:Menlo,'DejaVu Sans Mono',consolas,'Courier New',monospace\"><span style=\"color: #7fbfbf; text-decoration-color: #7fbfbf\">[15:23:58] </span>Involved functions:                                                             <a href=\"file:///home/paltenmo/projects/crossplatform/analysis_and_reporting/ddmin_target_file.py\" target=\"_blank\"><span style=\"color: #7f7f7f; text-decoration-color: #7f7f7f\">ddmin_target_file.py</span></a><span style=\"color: #7f7f7f; text-decoration-color: #7f7f7f\">:</span><a href=\"file:///home/paltenmo/projects/crossplatform/analysis_and_reporting/ddmin_target_file.py#206\" target=\"_blank\"><span style=\"color: #7f7f7f; text-decoration-color: #7f7f7f\">206</span></a>\n",
       "</pre>\n"
      ],
      "text/plain": [
       "\u001b[2;36m[15:23:58]\u001b[0m\u001b[2;36m \u001b[0mInvolved functions:                                                             \u001b]8;id=648791;file:///home/paltenmo/projects/crossplatform/analysis_and_reporting/ddmin_target_file.py\u001b\\\u001b[2mddmin_target_file.py\u001b[0m\u001b]8;;\u001b\\\u001b[2m:\u001b[0m\u001b]8;id=867010;file:///home/paltenmo/projects/crossplatform/analysis_and_reporting/ddmin_target_file.py#206\u001b\\\u001b[2m206\u001b[0m\u001b]8;;\u001b\\\n"
      ]
     },
     "metadata": {},
     "output_type": "display_data"
    },
    {
     "data": {
      "text/html": [
       "<pre style=\"white-space:pre;overflow-x:auto;line-height:normal;font-family:Menlo,'DejaVu Sans Mono',consolas,'Courier New',monospace\"><span style=\"color: #7fbfbf; text-decoration-color: #7fbfbf\">           </span>  - compare_qasm_via_qcec                                                       <a href=\"file:///home/paltenmo/projects/crossplatform/analysis_and_reporting/ddmin_target_file.py\" target=\"_blank\"><span style=\"color: #7f7f7f; text-decoration-color: #7f7f7f\">ddmin_target_file.py</span></a><span style=\"color: #7f7f7f; text-decoration-color: #7f7f7f\">:</span><a href=\"file:///home/paltenmo/projects/crossplatform/analysis_and_reporting/ddmin_target_file.py#208\" target=\"_blank\"><span style=\"color: #7f7f7f; text-decoration-color: #7f7f7f\">208</span></a>\n",
       "</pre>\n"
      ],
      "text/plain": [
       "\u001b[2;36m          \u001b[0m\u001b[2;36m \u001b[0m  - compare_qasm_via_qcec                                                       \u001b]8;id=128903;file:///home/paltenmo/projects/crossplatform/analysis_and_reporting/ddmin_target_file.py\u001b\\\u001b[2mddmin_target_file.py\u001b[0m\u001b]8;;\u001b\\\u001b[2m:\u001b[0m\u001b]8;id=262494;file:///home/paltenmo/projects/crossplatform/analysis_and_reporting/ddmin_target_file.py#208\u001b\\\u001b[2m208\u001b[0m\u001b]8;;\u001b\\\n"
      ]
     },
     "metadata": {},
     "output_type": "display_data"
    },
    {
     "data": {
      "text/html": [
       "<pre style=\"white-space:pre;overflow-x:auto;line-height:normal;font-family:Menlo,'DejaVu Sans Mono',consolas,'Courier New',monospace\"><span style=\"color: #7fbfbf; text-decoration-color: #7fbfbf\">           </span>  - export_to_qasm_with_pytket                                                  <a href=\"file:///home/paltenmo/projects/crossplatform/analysis_and_reporting/ddmin_target_file.py\" target=\"_blank\"><span style=\"color: #7f7f7f; text-decoration-color: #7f7f7f\">ddmin_target_file.py</span></a><span style=\"color: #7f7f7f; text-decoration-color: #7f7f7f\">:</span><a href=\"file:///home/paltenmo/projects/crossplatform/analysis_and_reporting/ddmin_target_file.py#208\" target=\"_blank\"><span style=\"color: #7f7f7f; text-decoration-color: #7f7f7f\">208</span></a>\n",
       "</pre>\n"
      ],
      "text/plain": [
       "\u001b[2;36m          \u001b[0m\u001b[2;36m \u001b[0m  - export_to_qasm_with_pytket                                                  \u001b]8;id=130607;file:///home/paltenmo/projects/crossplatform/analysis_and_reporting/ddmin_target_file.py\u001b\\\u001b[2mddmin_target_file.py\u001b[0m\u001b]8;;\u001b\\\u001b[2m:\u001b[0m\u001b]8;id=854269;file:///home/paltenmo/projects/crossplatform/analysis_and_reporting/ddmin_target_file.py#208\u001b\\\u001b[2m208\u001b[0m\u001b]8;;\u001b\\\n"
      ]
     },
     "metadata": {},
     "output_type": "display_data"
    },
    {
     "data": {
      "text/html": [
       "<pre style=\"white-space:pre;overflow-x:auto;line-height:normal;font-family:Menlo,'DejaVu Sans Mono',consolas,'Courier New',monospace\"><span style=\"color: #7fbfbf; text-decoration-color: #7fbfbf\">           </span>  - export_to_qasm_with_qiskit                                                  <a href=\"file:///home/paltenmo/projects/crossplatform/analysis_and_reporting/ddmin_target_file.py\" target=\"_blank\"><span style=\"color: #7f7f7f; text-decoration-color: #7f7f7f\">ddmin_target_file.py</span></a><span style=\"color: #7f7f7f; text-decoration-color: #7f7f7f\">:</span><a href=\"file:///home/paltenmo/projects/crossplatform/analysis_and_reporting/ddmin_target_file.py#208\" target=\"_blank\"><span style=\"color: #7f7f7f; text-decoration-color: #7f7f7f\">208</span></a>\n",
       "</pre>\n"
      ],
      "text/plain": [
       "\u001b[2;36m          \u001b[0m\u001b[2;36m \u001b[0m  - export_to_qasm_with_qiskit                                                  \u001b]8;id=710345;file:///home/paltenmo/projects/crossplatform/analysis_and_reporting/ddmin_target_file.py\u001b\\\u001b[2mddmin_target_file.py\u001b[0m\u001b]8;;\u001b\\\u001b[2m:\u001b[0m\u001b]8;id=164765;file:///home/paltenmo/projects/crossplatform/analysis_and_reporting/ddmin_target_file.py#208\u001b\\\u001b[2m208\u001b[0m\u001b]8;;\u001b\\\n"
      ]
     },
     "metadata": {},
     "output_type": "display_data"
    },
    {
     "name": "stdout",
     "output_type": "stream",
     "text": [
      "Error parsing: Command 'python /workspace/to_execute.py' in image 'qiskit_runner' returned non-zero exit status 1: b'Traceback (most recent call last):\\n  File \"/workspace/to_execute.py\", line 105, in <module>\\n    target_qc = qc\\nNameError: name \\'qc\\' is not defined\\n'\n",
      "Failed to execute to_execute.py in Docker.\n",
      "Output: Saved the Pytket circuit to /workspace/to_execute_qc_pytket.qasm\n",
      "Saved the Qiskit circuit to /workspace/to_execute_qc_qiskit.qasm\n",
      "Exported QASM files: [('/workspace/to_execute_qc_pytket.qasm', 'export_to_qasm_with_pytket'), ('/workspace/to_execute_qc_qiskit.qasm', 'export_to_qasm_with_qiskit')]\n",
      "Log has been saved to /workspace/to_execute_20d2d1_error.json\n",
      "\n",
      "Program to_execute.py executed successfully.\n",
      "New exception message: The circuits are not equivalent: /workspace/to_execute_qc_pytket.qasm, /workspace/to_execute_qc_qiskit.qasm\n",
      "Error parsing: Command 'python /workspace/to_execute.py' in image 'qiskit_runner' returned non-zero exit status 1: b'  File \"/workspace/to_execute.py\", line 20\\n    , custom_instructions=qasm2.LEGACY_CUSTOM_INSTRUCTIONS)\\n                                                          ^\\nSyntaxError: unmatched \\')\\'\\n'\n",
      "Failed to execute to_execute.py in Docker.\n",
      "Error parsing: Command 'python /workspace/to_execute.py' in image 'qiskit_runner' returned non-zero exit status 1: b'  File \"/workspace/to_execute.py\", line 10\\n    qc = qasm2.loads(\\n                    ^\\nSyntaxError: \\'(\\' was never closed\\n'\n",
      "Failed to execute to_execute.py in Docker.\n",
      "Error parsing: Command 'python /workspace/to_execute.py' in image 'qiskit_runner' returned non-zero exit status 1: b'  File \"/workspace/to_execute.py\", line 29\\n    , custom_instructions=qasm2.LEGACY_CUSTOM_INSTRUCTIONS)\\n                                                          ^\\nSyntaxError: unmatched \\')\\'\\n'\n",
      "Failed to execute to_execute.py in Docker.\n",
      "Error parsing: Command 'python /workspace/to_execute.py' in image 'qiskit_runner' returned non-zero exit status 1: b'Traceback (most recent call last):\\n  File \"/workspace/to_execute.py\", line 10, in <module>\\n    qc = qasm2.loads(\\n  File \"/usr/local/lib/python3.10/site-packages/qiskit/qasm2/__init__.py\", line 587, in loads\\n    return _parse.from_bytecode(\\n  File \"/usr/local/lib/python3.10/site-packages/qiskit/qasm2/parse.py\", line 214, in from_bytecode\\n    for op in bc:\\nqiskit.qasm2.exceptions.QASM2ParseError: \"<input>:6,28: \\'reg_1_q\\' is not defined in this scope\"\\n'\n",
      "Failed to execute to_execute.py in Docker.\n",
      "Output: Saved the Pytket circuit to /workspace/to_execute_qc_pytket.qasm\n",
      "Saved the Qiskit circuit to /workspace/to_execute_qc_qiskit.qasm\n",
      "Exported QASM files: [('/workspace/to_execute_qc_pytket.qasm', 'export_to_qasm_with_pytket'), ('/workspace/to_execute_qc_qiskit.qasm', 'export_to_qasm_with_qiskit')]\n",
      "Log has been saved to /workspace/to_execute_c65993_error.json\n",
      "\n",
      "Program to_execute.py executed successfully.\n",
      "New exception message: The circuits are not equivalent: /workspace/to_execute_qc_pytket.qasm, /workspace/to_execute_qc_qiskit.qasm\n",
      "Error parsing: Command 'python /workspace/to_execute.py' in image 'qiskit_runner' returned non-zero exit status 1: b'  File \"/workspace/to_execute.py\", line 20\\n    , custom_instructions=qasm2.LEGACY_CUSTOM_INSTRUCTIONS)\\n                                                          ^\\nSyntaxError: unmatched \\')\\'\\n'\n",
      "Failed to execute to_execute.py in Docker.\n",
      "Error parsing: Command 'python /workspace/to_execute.py' in image 'qiskit_runner' returned non-zero exit status 1: b'Traceback (most recent call last):\\n  File \"/workspace/to_execute.py\", line 10, in <module>\\n    qc = qasm2.loads(\\n  File \"/usr/local/lib/python3.10/site-packages/qiskit/qasm2/__init__.py\", line 587, in loads\\n    return _parse.from_bytecode(\\n  File \"/usr/local/lib/python3.10/site-packages/qiskit/qasm2/parse.py\", line 214, in from_bytecode\\n    for op in bc:\\nqiskit.qasm2.exceptions.QASM2ParseError: \"<input>:5,24: \\'reg_1_q\\' is not defined in this scope\"\\n'\n",
      "Failed to execute to_execute.py in Docker.\n",
      "Error parsing: Command 'python /workspace/to_execute.py' in image 'qiskit_runner' returned non-zero exit status 1: b'  File \"/workspace/to_execute.py\", line 10\\n    qc = qasm2.loads(\\n                    ^\\nSyntaxError: \\'(\\' was never closed\\n'\n",
      "Failed to execute to_execute.py in Docker.\n",
      "Error parsing: Command 'python /workspace/to_execute.py' in image 'qiskit_runner' returned non-zero exit status 1: b'  File \"/workspace/to_execute.py\", line 23\\n    , custom_instructions=qasm2.LEGACY_CUSTOM_INSTRUCTIONS)\\n                                                          ^\\nSyntaxError: unmatched \\')\\'\\n'\n",
      "Failed to execute to_execute.py in Docker.\n",
      "Error parsing: Command 'python /workspace/to_execute.py' in image 'qiskit_runner' returned non-zero exit status 1: b'Traceback (most recent call last):\\n  File \"/workspace/to_execute.py\", line 10, in <module>\\n    qc = qasm2.loads(\\n  File \"/usr/local/lib/python3.10/site-packages/qiskit/qasm2/__init__.py\", line 587, in loads\\n    return _parse.from_bytecode(\\n  File \"/usr/local/lib/python3.10/site-packages/qiskit/qasm2/parse.py\", line 214, in from_bytecode\\n    for op in bc:\\nqiskit.qasm2.exceptions.QASM2ParseError: \"<input>:5,0: cannot use non-builtin custom instruction \\'cx\\' before definition\"\\n'\n",
      "Failed to execute to_execute.py in Docker.\n",
      "Error parsing: Command 'python /workspace/to_execute.py' in image 'qiskit_runner' returned non-zero exit status 1: b'Traceback (most recent call last):\\n  File \"/workspace/to_execute.py\", line 10, in <module>\\n    qc = qasm2.loads(\\n  File \"/usr/local/lib/python3.10/site-packages/qiskit/qasm2/__init__.py\", line 587, in loads\\n    return _parse.from_bytecode(\\n  File \"/usr/local/lib/python3.10/site-packages/qiskit/qasm2/parse.py\", line 214, in from_bytecode\\n    for op in bc:\\nqiskit.qasm2.exceptions.QASM2ParseError: \"<input>:5,3: \\'reg_1_q\\' is not defined in this scope\"\\n'\n",
      "Failed to execute to_execute.py in Docker.\n",
      "Output: Saved the Pytket circuit to /workspace/to_execute_qc_pytket.qasm\n",
      "Saved the Qiskit circuit to /workspace/to_execute_qc_qiskit.qasm\n",
      "Exported QASM files: [('/workspace/to_execute_qc_pytket.qasm', 'export_to_qasm_with_pytket'), ('/workspace/to_execute_qc_qiskit.qasm', 'export_to_qasm_with_qiskit')]\n",
      "Log has been saved to /workspace/to_execute_ce52a4_error.json\n",
      "\n",
      "Program to_execute.py executed successfully.\n",
      "New exception message: The circuits are not equivalent: /workspace/to_execute_qc_pytket.qasm, /workspace/to_execute_qc_qiskit.qasm\n",
      "Error parsing: Command 'python /workspace/to_execute.py' in image 'qiskit_runner' returned non-zero exit status 1: b'  File \"/workspace/to_execute.py\", line 19\\n    , custom_instructions=qasm2.LEGACY_CUSTOM_INSTRUCTIONS)\\n                                                          ^\\nSyntaxError: unmatched \\')\\'\\n'\n",
      "Failed to execute to_execute.py in Docker.\n",
      "Error parsing: Command 'python /workspace/to_execute.py' in image 'qiskit_runner' returned non-zero exit status 1: b'Traceback (most recent call last):\\n  File \"/workspace/to_execute.py\", line 10, in <module>\\n    qc = qasm2.loads(\\n  File \"/usr/local/lib/python3.10/site-packages/qiskit/qasm2/__init__.py\", line 587, in loads\\n    return _parse.from_bytecode(\\n  File \"/usr/local/lib/python3.10/site-packages/qiskit/qasm2/parse.py\", line 214, in from_bytecode\\n    for op in bc:\\nqiskit.qasm2.exceptions.QASM2ParseError: \"<input>:6,0: cannot use non-builtin custom instruction \\'cx\\' before definition\"\\n'\n",
      "Failed to execute to_execute.py in Docker.\n",
      "Error parsing: Command 'python /workspace/to_execute.py' in image 'qiskit_runner' returned non-zero exit status 1: b'Traceback (most recent call last):\\n  File \"/workspace/to_execute.py\", line 10, in <module>\\n    qc = qasm2.loads(\\n  File \"/usr/local/lib/python3.10/site-packages/qiskit/qasm2/__init__.py\", line 587, in loads\\n    return _parse.from_bytecode(\\n  File \"/usr/local/lib/python3.10/site-packages/qiskit/qasm2/parse.py\", line 214, in from_bytecode\\n    for op in bc:\\nqiskit.qasm2.exceptions.QASM2ParseError: \"<input>:5,24: \\'reg_1_q\\' is not defined in this scope\"\\n'\n",
      "Failed to execute to_execute.py in Docker.\n",
      "Output: Saved the Pytket circuit to /workspace/to_execute_qc_pytket.qasm\n",
      "Saved the Qiskit circuit to /workspace/to_execute_qc_qiskit.qasm\n",
      "Exported QASM files: [('/workspace/to_execute_qc_pytket.qasm', 'export_to_qasm_with_pytket'), ('/workspace/to_execute_qc_qiskit.qasm', 'export_to_qasm_with_qiskit')]\n",
      "The circuits are equivalent: /workspace/to_execute_qc_pytket.qasm, /workspace/to_execute_qc_qiskit.qasm\n",
      "\n",
      "Program to_execute.py executed successfully.\n",
      "Error parsing: Command 'python /workspace/to_execute.py' in image 'qiskit_runner' returned non-zero exit status 1: b'  File \"/workspace/to_execute.py\", line 10\\n    qc = qasm2.loads(\\n                    ^\\nSyntaxError: \\'(\\' was never closed\\n'\n",
      "Failed to execute to_execute.py in Docker.\n",
      "Error parsing: Command 'python /workspace/to_execute.py' in image 'qiskit_runner' returned non-zero exit status 1: b'  File \"/workspace/to_execute.py\", line 22\\n    , custom_instructions=qasm2.LEGACY_CUSTOM_INSTRUCTIONS)\\nIndentationError: unexpected indent\\n'\n",
      "Failed to execute to_execute.py in Docker.\n",
      "Output: Saved the Pytket circuit to /workspace/to_execute_qc_pytket.qasm\n",
      "Saved the Qiskit circuit to /workspace/to_execute_qc_qiskit.qasm\n",
      "Exported QASM files: [('/workspace/to_execute_qc_pytket.qasm', 'export_to_qasm_with_pytket'), ('/workspace/to_execute_qc_qiskit.qasm', 'export_to_qasm_with_qiskit')]\n",
      "Log has been saved to /workspace/to_execute_f821ab_error.json\n",
      "\n",
      "Program to_execute.py executed successfully.\n",
      "New exception message: The circuits are not equivalent: /workspace/to_execute_qc_pytket.qasm, /workspace/to_execute_qc_qiskit.qasm\n",
      "Error parsing: Command 'python /workspace/to_execute.py' in image 'qiskit_runner' returned non-zero exit status 1: b'  File \"/workspace/to_execute.py\", line 21\\n    , custom_instructions=qasm2.LEGACY_CUSTOM_INSTRUCTIONS)\\nIndentationError: unexpected indent\\n'\n",
      "Failed to execute to_execute.py in Docker.\n",
      "Error parsing: Command 'python /workspace/to_execute.py' in image 'qiskit_runner' returned non-zero exit status 1: b'  File \"/workspace/to_execute.py\", line 11\\n    include \"qelib1.inc\";\\n            ^^^^^^^^^^^^\\nSyntaxError: invalid syntax\\n'\n",
      "Failed to execute to_execute.py in Docker.\n",
      "Error parsing: Command 'python /workspace/to_execute.py' in image 'qiskit_runner' returned non-zero exit status 1: b'Traceback (most recent call last):\\n  File \"/workspace/to_execute.py\", line 10, in <module>\\n    qc = qasm2.loads(\\n  File \"/usr/local/lib/python3.10/site-packages/qiskit/qasm2/__init__.py\", line 587, in loads\\n    return _parse.from_bytecode(\\n  File \"/usr/local/lib/python3.10/site-packages/qiskit/qasm2/parse.py\", line 214, in from_bytecode\\n    for op in bc:\\nqiskit.qasm2.exceptions.QASM2ParseError: \"<input>:8,0: cannot use non-builtin custom instruction \\'cx\\' before definition\"\\n'\n",
      "Failed to execute to_execute.py in Docker.\n",
      "Error parsing: Command 'python /workspace/to_execute.py' in image 'qiskit_runner' returned non-zero exit status 1: b'Traceback (most recent call last):\\n  File \"/workspace/to_execute.py\", line 10, in <module>\\n    qc = qasm2.loads(\\n  File \"/usr/local/lib/python3.10/site-packages/qiskit/qasm2/__init__.py\", line 587, in loads\\n    return _parse.from_bytecode(\\n  File \"/usr/local/lib/python3.10/site-packages/qiskit/qasm2/parse.py\", line 214, in from_bytecode\\n    for op in bc:\\nqiskit.qasm2.exceptions.QASM2ParseError: \"<input>:7,14: \\'reg_2_b\\' is not defined in this scope\"\\n'\n",
      "Failed to execute to_execute.py in Docker.\n",
      "Error parsing: Command 'python /workspace/to_execute.py' in image 'qiskit_runner' returned non-zero exit status 1: b'Traceback (most recent call last):\\n  File \"/workspace/to_execute.py\", line 10, in <module>\\n    qc = qasm2.loads(\\n  File \"/usr/local/lib/python3.10/site-packages/qiskit/qasm2/__init__.py\", line 587, in loads\\n    return _parse.from_bytecode(\\n  File \"/usr/local/lib/python3.10/site-packages/qiskit/qasm2/parse.py\", line 214, in from_bytecode\\n    for op in bc:\\nqiskit.qasm2.exceptions.QASM2ParseError: \"<input>:7,24: \\'reg_1_q\\' is not defined in this scope\"\\n'\n",
      "Failed to execute to_execute.py in Docker.\n",
      "Output: Saved the Pytket circuit to /workspace/to_execute_qc_pytket.qasm\n",
      "Saved the Qiskit circuit to /workspace/to_execute_qc_qiskit.qasm\n",
      "Exported QASM files: [('/workspace/to_execute_qc_pytket.qasm', 'export_to_qasm_with_pytket'), ('/workspace/to_execute_qc_qiskit.qasm', 'export_to_qasm_with_qiskit')]\n",
      "Log has been saved to /workspace/to_execute_82fdfc_error.json\n",
      "\n",
      "Program to_execute.py executed successfully.\n",
      "New exception message: The circuits are not equivalent: /workspace/to_execute_qc_pytket.qasm, /workspace/to_execute_qc_qiskit.qasm\n",
      "Error parsing: Command 'python /workspace/to_execute.py' in image 'qiskit_runner' returned non-zero exit status 1: b'  File \"/workspace/to_execute.py\", line 19\\n    , custom_instructions=qasm2.LEGACY_CUSTOM_INSTRUCTIONS)\\nIndentationError: unexpected indent\\n'\n",
      "Failed to execute to_execute.py in Docker.\n",
      "Error parsing: Command 'python /workspace/to_execute.py' in image 'qiskit_runner' returned non-zero exit status 1: b'  File \"/workspace/to_execute.py\", line 11\\n    OPENQASM 2.0;\\n    ^^^^^^^^^^^^\\nSyntaxError: invalid syntax. Perhaps you forgot a comma?\\n'\n",
      "Failed to execute to_execute.py in Docker.\n",
      "Error parsing: Command 'python /workspace/to_execute.py' in image 'qiskit_runner' returned non-zero exit status 1: b'Traceback (most recent call last):\\n  File \"/workspace/to_execute.py\", line 10, in <module>\\n    qc = qasm2.loads(\\n  File \"/usr/local/lib/python3.10/site-packages/qiskit/qasm2/__init__.py\", line 587, in loads\\n    return _parse.from_bytecode(\\n  File \"/usr/local/lib/python3.10/site-packages/qiskit/qasm2/parse.py\", line 214, in from_bytecode\\n    for op in bc:\\nqiskit.qasm2.exceptions.QASM2ParseError: \"<input>:5,0: cannot use non-builtin custom instruction \\'cx\\' before definition\"\\n'\n",
      "Failed to execute to_execute.py in Docker.\n",
      "Error parsing: Command 'python /workspace/to_execute.py' in image 'qiskit_runner' returned non-zero exit status 1: b'Traceback (most recent call last):\\n  File \"/workspace/to_execute.py\", line 10, in <module>\\n    qc = qasm2.loads(\\n  File \"/usr/local/lib/python3.10/site-packages/qiskit/qasm2/__init__.py\", line 587, in loads\\n    return _parse.from_bytecode(\\n  File \"/usr/local/lib/python3.10/site-packages/qiskit/qasm2/parse.py\", line 214, in from_bytecode\\n    for op in bc:\\nqiskit.qasm2.exceptions.QASM2ParseError: \"<input>:7,3: \\'reg_2_cin\\' is not defined in this scope\"\\n'\n",
      "Failed to execute to_execute.py in Docker.\n",
      "Error parsing: Command 'python /workspace/to_execute.py' in image 'qiskit_runner' returned non-zero exit status 1: b'Traceback (most recent call last):\\n  File \"/workspace/to_execute.py\", line 10, in <module>\\n    qc = qasm2.loads(\\n  File \"/usr/local/lib/python3.10/site-packages/qiskit/qasm2/__init__.py\", line 587, in loads\\n    return _parse.from_bytecode(\\n  File \"/usr/local/lib/python3.10/site-packages/qiskit/qasm2/parse.py\", line 214, in from_bytecode\\n    for op in bc:\\nqiskit.qasm2.exceptions.QASM2ParseError: \"<input>:5,3: \\'reg_1_q\\' is not defined in this scope\"\\n'\n",
      "Failed to execute to_execute.py in Docker.\n",
      "Output: Saved the Pytket circuit to /workspace/to_execute_qc_pytket.qasm\n",
      "Saved the Qiskit circuit to /workspace/to_execute_qc_qiskit.qasm\n",
      "Exported QASM files: [('/workspace/to_execute_qc_pytket.qasm', 'export_to_qasm_with_pytket'), ('/workspace/to_execute_qc_qiskit.qasm', 'export_to_qasm_with_qiskit')]\n",
      "Log has been saved to /workspace/to_execute_b0e1af_error.json\n",
      "\n",
      "Program to_execute.py executed successfully.\n",
      "New exception message: The circuits are not equivalent: /workspace/to_execute_qc_pytket.qasm, /workspace/to_execute_qc_qiskit.qasm\n",
      "Error parsing: Command 'python /workspace/to_execute.py' in image 'qiskit_runner' returned non-zero exit status 1: b'  File \"/workspace/to_execute.py\", line 18\\n    , custom_instructions=qasm2.LEGACY_CUSTOM_INSTRUCTIONS)\\nIndentationError: unexpected indent\\n'\n",
      "Failed to execute to_execute.py in Docker.\n",
      "Error parsing: Command 'python /workspace/to_execute.py' in image 'qiskit_runner' returned non-zero exit status 1: b'  File \"/workspace/to_execute.py\", line 11\\n    include \"qelib1.inc\";\\n            ^^^^^^^^^^^^\\nSyntaxError: invalid syntax\\n'\n",
      "Failed to execute to_execute.py in Docker.\n",
      "Error parsing: Command 'python /workspace/to_execute.py' in image 'qiskit_runner' returned non-zero exit status 1: b'Traceback (most recent call last):\\n  File \"/workspace/to_execute.py\", line 10, in <module>\\n    qc = qasm2.loads(\\n  File \"/usr/local/lib/python3.10/site-packages/qiskit/qasm2/__init__.py\", line 587, in loads\\n    return _parse.from_bytecode(\\n  File \"/usr/local/lib/python3.10/site-packages/qiskit/qasm2/parse.py\", line 214, in from_bytecode\\n    for op in bc:\\nqiskit.qasm2.exceptions.QASM2ParseError: \"<input>:6,0: cannot use non-builtin custom instruction \\'cx\\' before definition\"\\n'\n",
      "Failed to execute to_execute.py in Docker.\n",
      "Error parsing: Command 'python /workspace/to_execute.py' in image 'qiskit_runner' returned non-zero exit status 1: b'Traceback (most recent call last):\\n  File \"/workspace/to_execute.py\", line 10, in <module>\\n    qc = qasm2.loads(\\n  File \"/usr/local/lib/python3.10/site-packages/qiskit/qasm2/__init__.py\", line 587, in loads\\n    return _parse.from_bytecode(\\n  File \"/usr/local/lib/python3.10/site-packages/qiskit/qasm2/parse.py\", line 214, in from_bytecode\\n    for op in bc:\\nqiskit.qasm2.exceptions.QASM2ParseError: \"<input>:5,3: \\'reg_2_cin\\' is not defined in this scope\"\\n'\n",
      "Failed to execute to_execute.py in Docker.\n",
      "Output: Saved the Pytket circuit to /workspace/to_execute_qc_pytket.qasm\n",
      "Saved the Qiskit circuit to /workspace/to_execute_qc_qiskit.qasm\n",
      "Exported QASM files: [('/workspace/to_execute_qc_pytket.qasm', 'export_to_qasm_with_pytket'), ('/workspace/to_execute_qc_qiskit.qasm', 'export_to_qasm_with_qiskit')]\n",
      "Log has been saved to /workspace/to_execute_d72eb2_error.json\n",
      "\n",
      "Program to_execute.py executed successfully.\n",
      "New exception message: The circuits are not equivalent: /workspace/to_execute_qc_pytket.qasm, /workspace/to_execute_qc_qiskit.qasm\n",
      "Error parsing: Command 'python /workspace/to_execute.py' in image 'qiskit_runner' returned non-zero exit status 1: b'  File \"/workspace/to_execute.py\", line 15\\n    , custom_instructions=qasm2.LEGACY_CUSTOM_INSTRUCTIONS)\\n                                                          ^\\nSyntaxError: unmatched \\')\\'\\n'\n",
      "Failed to execute to_execute.py in Docker.\n",
      "Output: Saved the Pytket circuit to /workspace/to_execute_qc_pytket.qasm\n",
      "Saved the Qiskit circuit to /workspace/to_execute_qc_qiskit.qasm\n",
      "Exported QASM files: [('/workspace/to_execute_qc_pytket.qasm', 'export_to_qasm_with_pytket'), ('/workspace/to_execute_qc_qiskit.qasm', 'export_to_qasm_with_qiskit')]\n",
      "Log has been saved to /workspace/to_execute_572ebb_error.json\n",
      "\n",
      "Program to_execute.py executed successfully.\n",
      "New exception message: The circuits are not equivalent: /workspace/to_execute_qc_pytket.qasm, /workspace/to_execute_qc_qiskit.qasm\n",
      "Error parsing: Command 'python /workspace/to_execute.py' in image 'qiskit_runner' returned non-zero exit status 1: b'  File \"/workspace/to_execute.py\", line 14\\n    , custom_instructions=qasm2.LEGACY_CUSTOM_INSTRUCTIONS)\\n                                                          ^\\nSyntaxError: unmatched \\')\\'\\n'\n",
      "Failed to execute to_execute.py in Docker.\n",
      "Error parsing: Command 'python /workspace/to_execute.py' in image 'qiskit_runner' returned non-zero exit status 1: b'Traceback (most recent call last):\\n  File \"/workspace/to_execute.py\", line 10, in <module>\\n    qc = qasm2.loads(\\n  File \"/usr/local/lib/python3.10/site-packages/qiskit/qasm2/__init__.py\", line 587, in loads\\n    return _parse.from_bytecode(\\n  File \"/usr/local/lib/python3.10/site-packages/qiskit/qasm2/parse.py\", line 214, in from_bytecode\\n    for op in bc:\\nqiskit.qasm2.exceptions.QASM2ParseError: \"<input>:3,0: cannot use non-builtin custom instruction \\'cx\\' before definition\"\\n'\n",
      "Failed to execute to_execute.py in Docker.\n",
      "Error parsing: Command 'python /workspace/to_execute.py' in image 'qiskit_runner' returned non-zero exit status 1: b'Traceback (most recent call last):\\n  File \"/workspace/to_execute.py\", line 10, in <module>\\n    qc = qasm2.loads(\\n  File \"/usr/local/lib/python3.10/site-packages/qiskit/qasm2/__init__.py\", line 587, in loads\\n    return _parse.from_bytecode(\\n  File \"/usr/local/lib/python3.10/site-packages/qiskit/qasm2/parse.py\", line 214, in from_bytecode\\n    for op in bc:\\nqiskit.qasm2.exceptions.QASM2ParseError: \"<input>:4,16: \\'reg_2_b\\' is not defined in this scope\"\\n'\n",
      "Failed to execute to_execute.py in Docker.\n",
      "Error parsing: Command 'python /workspace/to_execute.py' in image 'qiskit_runner' returned non-zero exit status 1: b'  File \"/workspace/to_execute.py\", line 11\\n    include \"qelib1.inc\";\\n            ^^^^^^^^^^^^\\nSyntaxError: invalid syntax\\n'\n",
      "Failed to execute to_execute.py in Docker.\n",
      "Error parsing: Command 'python /workspace/to_execute.py' in image 'qiskit_runner' returned non-zero exit status 1: b'  File \"/workspace/to_execute.py\", line 10\\n    qc = qasm2.loads(\\n                    ^\\nSyntaxError: \\'(\\' was never closed\\n'\n",
      "Failed to execute to_execute.py in Docker.\n",
      "Error parsing: Command 'python /workspace/to_execute.py' in image 'qiskit_runner' returned non-zero exit status 1: b'  File \"/workspace/to_execute.py\", line 16\\n    , custom_instructions=qasm2.LEGACY_CUSTOM_INSTRUCTIONS)\\nIndentationError: unexpected indent\\n'\n",
      "Failed to execute to_execute.py in Docker.\n",
      "Error parsing: Command 'python /workspace/to_execute.py' in image 'qiskit_runner' returned non-zero exit status 1: b'  File \"/workspace/to_execute.py\", line 11\\n    include \"qelib1.inc\";\\n            ^^^^^^^^^^^^\\nSyntaxError: invalid syntax\\n'\n",
      "Failed to execute to_execute.py in Docker.\n",
      "Error parsing: Command 'python /workspace/to_execute.py' in image 'qiskit_runner' returned non-zero exit status 1: b'Traceback (most recent call last):\\n  File \"/workspace/to_execute.py\", line 10, in <module>\\n    qc = qasm2.loads(\\n  File \"/usr/local/lib/python3.10/site-packages/qiskit/qasm2/__init__.py\", line 587, in loads\\n    return _parse.from_bytecode(\\n  File \"/usr/local/lib/python3.10/site-packages/qiskit/qasm2/parse.py\", line 214, in from_bytecode\\n    for op in bc:\\nqiskit.qasm2.exceptions.QASM2ParseError: \"<input>:4,0: cannot use non-builtin custom instruction \\'cx\\' before definition\"\\n'\n",
      "Failed to execute to_execute.py in Docker.\n",
      "Error parsing: Command 'python /workspace/to_execute.py' in image 'qiskit_runner' returned non-zero exit status 1: b'Traceback (most recent call last):\\n  File \"/workspace/to_execute.py\", line 10, in <module>\\n    qc = qasm2.loads(\\n  File \"/usr/local/lib/python3.10/site-packages/qiskit/qasm2/__init__.py\", line 587, in loads\\n    return _parse.from_bytecode(\\n  File \"/usr/local/lib/python3.10/site-packages/qiskit/qasm2/parse.py\", line 214, in from_bytecode\\n    for op in bc:\\nqiskit.qasm2.exceptions.QASM2ParseError: \"<input>:4,3: \\'reg_2_cin\\' is not defined in this scope\"\\n'\n",
      "Failed to execute to_execute.py in Docker.\n",
      "Error parsing: Command 'python /workspace/to_execute.py' in image 'qiskit_runner' returned non-zero exit status 1: b'Traceback (most recent call last):\\n  File \"/workspace/to_execute.py\", line 10, in <module>\\n    qc = qasm2.loads(\\n  File \"/usr/local/lib/python3.10/site-packages/qiskit/qasm2/__init__.py\", line 587, in loads\\n    return _parse.from_bytecode(\\n  File \"/usr/local/lib/python3.10/site-packages/qiskit/qasm2/parse.py\", line 214, in from_bytecode\\n    for op in bc:\\nqiskit.qasm2.exceptions.QASM2ParseError: \"<input>:4,16: \\'reg_2_b\\' is not defined in this scope\"\\n'\n",
      "Failed to execute to_execute.py in Docker.\n",
      "Output: Saved the Pytket circuit to /workspace/to_execute_qc_pytket.qasm\n",
      "Saved the Qiskit circuit to /workspace/to_execute_qc_qiskit.qasm\n",
      "Exported QASM files: [('/workspace/to_execute_qc_pytket.qasm', 'export_to_qasm_with_pytket'), ('/workspace/to_execute_qc_qiskit.qasm', 'export_to_qasm_with_qiskit')]\n",
      "The circuits are equivalent: /workspace/to_execute_qc_pytket.qasm, /workspace/to_execute_qc_qiskit.qasm\n",
      "\n",
      "Program to_execute.py executed successfully.\n",
      "Error parsing: Command 'python /workspace/to_execute.py' in image 'qiskit_runner' returned non-zero exit status 1: b'  File \"/workspace/to_execute.py\", line 11\\n    include \"qelib1.inc\";\\n            ^^^^^^^^^^^^\\nSyntaxError: invalid syntax\\n'\n",
      "Failed to execute to_execute.py in Docker.\n",
      "Error parsing: Command 'python /workspace/to_execute.py' in image 'qiskit_runner' returned non-zero exit status 1: b'  File \"/workspace/to_execute.py\", line 10\\n    qc = qasm2.loads(\\n                    ^\\nSyntaxError: \\'(\\' was never closed\\n'\n",
      "Failed to execute to_execute.py in Docker.\n"
     ]
    },
    {
     "data": {
      "text/html": [
       "<pre style=\"white-space:pre;overflow-x:auto;line-height:normal;font-family:Menlo,'DejaVu Sans Mono',consolas,'Courier New',monospace\"><span style=\"color: #7fbfbf; text-decoration-color: #7fbfbf\">[15:27:12] </span><span style=\"color: #008000; text-decoration-color: #008000\">Minimized file saved as:</span>                                                        <a href=\"file:///home/paltenmo/projects/crossplatform/analysis_and_reporting/ddmin_target_file.py\" target=\"_blank\"><span style=\"color: #7f7f7f; text-decoration-color: #7f7f7f\">ddmin_target_file.py</span></a><span style=\"color: #7f7f7f; text-decoration-color: #7f7f7f\">:</span><a href=\"file:///home/paltenmo/projects/crossplatform/analysis_and_reporting/ddmin_target_file.py#240\" target=\"_blank\"><span style=\"color: #7f7f7f; text-decoration-color: #7f7f7f\">240</span></a>\n",
       "<span style=\"color: #7fbfbf; text-decoration-color: #7fbfbf\">           </span>..<span style=\"color: #800080; text-decoration-color: #800080\">/reports/v009/2024_11_21__15_23/</span><span style=\"color: #ff00ff; text-decoration-color: #ff00ff\">qiskit_circuit_5q_10g_2997_458c2e_f885b3_erro</span> <span style=\"color: #7f7f7f; text-decoration-color: #7f7f7f\">                        </span>\n",
       "<span style=\"color: #7fbfbf; text-decoration-color: #7fbfbf\">           </span><span style=\"color: #ff00ff; text-decoration-color: #ff00ff\">r_min.py</span>                                                                        <span style=\"color: #7f7f7f; text-decoration-color: #7f7f7f\">                        </span>\n",
       "</pre>\n"
      ],
      "text/plain": [
       "\u001b[2;36m[15:27:12]\u001b[0m\u001b[2;36m \u001b[0m\u001b[32mMinimized file saved as:\u001b[0m                                                        \u001b]8;id=250509;file:///home/paltenmo/projects/crossplatform/analysis_and_reporting/ddmin_target_file.py\u001b\\\u001b[2mddmin_target_file.py\u001b[0m\u001b]8;;\u001b\\\u001b[2m:\u001b[0m\u001b]8;id=510256;file:///home/paltenmo/projects/crossplatform/analysis_and_reporting/ddmin_target_file.py#240\u001b\\\u001b[2m240\u001b[0m\u001b]8;;\u001b\\\n",
       "\u001b[2;36m           \u001b[0m..\u001b[35m/reports/v009/2024_11_21__15_23/\u001b[0m\u001b[95mqiskit_circuit_5q_10g_2997_458c2e_f885b3_erro\u001b[0m \u001b[2m                        \u001b[0m\n",
       "\u001b[2;36m           \u001b[0m\u001b[95mr_min.py\u001b[0m                                                                        \u001b[2m                        \u001b[0m\n"
      ]
     },
     "metadata": {},
     "output_type": "display_data"
    },
    {
     "name": "stdout",
     "output_type": "stream",
     "text": [
      "Output: Saved the Pytket circuit to /workspace/qiskit_circuit_5q_10g_2997_458c2e_f885b3_error_min_qc_pytket.qasm\n",
      "Saved the Qiskit circuit to /workspace/qiskit_circuit_5q_10g_2997_458c2e_f885b3_error_min_qc_qiskit.qasm\n",
      "Exported QASM files: [('/workspace/qiskit_circuit_5q_10g_2997_458c2e_f885b3_error_min_qc_pytket.qasm', 'export_to_qasm_with_pytket'), ('/workspace/qiskit_circuit_5q_10g_2997_458c2e_f885b3_error_min_qc_qiskit.qasm', 'export_to_qasm_with_qiskit')]\n",
      "Log has been saved to /workspace/qiskit_circuit_5q_10g_2997_458c2e_f885b3_error_min_da3a45_error.json\n",
      "\n"
     ]
    },
    {
     "data": {
      "text/html": [
       "<pre style=\"white-space:pre;overflow-x:auto;line-height:normal;font-family:Menlo,'DejaVu Sans Mono',consolas,'Courier New',monospace\"><span style=\"color: #7fbfbf; text-decoration-color: #7fbfbf\">[15:27:18] </span>Program qiskit_circuit_5q_10g_2997_458c2e_f885b3_error_min.py executed              <a href=\"file:///home/paltenmo/projects/crossplatform/generators/docker_tooling.py\" target=\"_blank\"><span style=\"color: #7f7f7f; text-decoration-color: #7f7f7f\">docker_tooling.py</span></a><span style=\"color: #7f7f7f; text-decoration-color: #7f7f7f\">:</span><a href=\"file:///home/paltenmo/projects/crossplatform/generators/docker_tooling.py#46\" target=\"_blank\"><span style=\"color: #7f7f7f; text-decoration-color: #7f7f7f\">46</span></a>\n",
       "<span style=\"color: #7fbfbf; text-decoration-color: #7fbfbf\">           </span>successfully.                                                                       <span style=\"color: #7f7f7f; text-decoration-color: #7f7f7f\">                    </span>\n",
       "</pre>\n"
      ],
      "text/plain": [
       "\u001b[2;36m[15:27:18]\u001b[0m\u001b[2;36m \u001b[0mProgram qiskit_circuit_5q_10g_2997_458c2e_f885b3_error_min.py executed              \u001b]8;id=134878;file:///home/paltenmo/projects/crossplatform/generators/docker_tooling.py\u001b\\\u001b[2mdocker_tooling.py\u001b[0m\u001b]8;;\u001b\\\u001b[2m:\u001b[0m\u001b]8;id=151265;file:///home/paltenmo/projects/crossplatform/generators/docker_tooling.py#46\u001b\\\u001b[2m46\u001b[0m\u001b]8;;\u001b\\\n",
       "\u001b[2;36m           \u001b[0msuccessfully.                                                                       \u001b[2m                    \u001b[0m\n"
      ]
     },
     "metadata": {},
     "output_type": "display_data"
    },
    {
     "data": {
      "application/vnd.jupyter.widget-view+json": {
       "model_id": "2bf5a3fb04c2458a98a458e4c1d428d3",
       "version_major": 2,
       "version_minor": 0
      },
      "text/plain": [
       "Executing:   0%|          | 0/13 [00:00<?, ?cell/s]"
      ]
     },
     "metadata": {},
     "output_type": "display_data"
    },
    {
     "data": {
      "text/html": [
       "<pre style=\"white-space:pre;overflow-x:auto;line-height:normal;font-family:Menlo,'DejaVu Sans Mono',consolas,'Courier New',monospace\"><span style=\"color: #7fbfbf; text-decoration-color: #7fbfbf\">[15:27:21] </span>Analysis notebook executed: ..<span style=\"color: #800080; text-decoration-color: #800080\">/reports/v009/2024_11_21__15_23/</span><span style=\"color: #ff00ff; text-decoration-color: #ff00ff\">analysis_output.ipynb</span>        <a href=\"file:///home/paltenmo/projects/crossplatform/analysis_and_reporting/triage.py\" target=\"_blank\"><span style=\"color: #7f7f7f; text-decoration-color: #7f7f7f\">triage.py</span></a><span style=\"color: #7f7f7f; text-decoration-color: #7f7f7f\">:</span><a href=\"file:///home/paltenmo/projects/crossplatform/analysis_and_reporting/triage.py#163\" target=\"_blank\"><span style=\"color: #7f7f7f; text-decoration-color: #7f7f7f\">163</span></a>\n",
       "</pre>\n"
      ],
      "text/plain": [
       "\u001b[2;36m[15:27:21]\u001b[0m\u001b[2;36m \u001b[0mAnalysis notebook executed: ..\u001b[35m/reports/v009/2024_11_21__15_23/\u001b[0m\u001b[95manalysis_output.ipynb\u001b[0m        \u001b]8;id=463065;file:///home/paltenmo/projects/crossplatform/analysis_and_reporting/triage.py\u001b\\\u001b[2mtriage.py\u001b[0m\u001b]8;;\u001b\\\u001b[2m:\u001b[0m\u001b]8;id=328971;file:///home/paltenmo/projects/crossplatform/analysis_and_reporting/triage.py#163\u001b\\\u001b[2m163\u001b[0m\u001b]8;;\u001b\\\n"
      ]
     },
     "metadata": {},
     "output_type": "display_data"
    }
   ],
   "source": [
    "from analysis_and_reporting.triage import analyze_and_report\n",
    "\n",
    "error_paths_in_sample_folder = [\n",
    "    os.path.join(DIR_SAMPLE_ERRORS, f)\n",
    "    for f in os.listdir(DIR_SAMPLE_ERRORS)\n",
    "    if re.match(r'.*_error\\.json$', f)\n",
    "]\n",
    "\n",
    "n_error_files = len(error_paths_in_sample_folder)\n",
    "print(f\"Error paths in sample folder ({n_error_files}):\")\n",
    "for error_path in error_paths_in_sample_folder:\n",
    "    print(error_path)\n",
    "\n",
    "# python -m analysis_and_reporting.triage --path_error_json program_bank/v007/2024_10_31__17_51__qiskit/qiskit_circuit_5q_10g_9_160f04_cfe9f1_error.json --parent_report_folder reports/v008 --clue_message 'not equivalent'\n",
    "\n",
    "\n",
    "# def analyze_and_report(\n",
    "#         path_error_json: str, path_program: str, parent_report_folder: str,\n",
    "#         clue_message: str, analysis_notebook: str)\n",
    "\n",
    "for error_path in error_paths_in_sample_folder:\n",
    "    try:\n",
    "        analyze_and_report(\n",
    "            path_error_json=error_path,\n",
    "            path_program=get_corresponding_program_file(error_path),\n",
    "            parent_report_folder=os.path.join(\"..\", \"reports\", \"v009\"),\n",
    "            clue_message='not equivalent',\n",
    "            analysis_notebook='010_Triage_Not_Equivalence.ipynb'\n",
    "        )\n",
    "    except Exception as e:\n",
    "        print(f\"Error: {e}\")\n",
    "        print(\"Skipping to the next error file\")"
   ]
  },
  {
   "cell_type": "markdown",
   "metadata": {},
   "source": [
    "# Inspect Crash Errors"
   ]
  },
  {
   "cell_type": "code",
   "execution_count": 7,
   "metadata": {},
   "outputs": [],
   "source": [
    "# ! pip install datasets"
   ]
  },
  {
   "cell_type": "code",
   "execution_count": 8,
   "metadata": {},
   "outputs": [
    {
     "data": {
      "text/html": [
       "<div>\n",
       "<style scoped>\n",
       "    .dataframe tbody tr th:only-of-type {\n",
       "        vertical-align: middle;\n",
       "    }\n",
       "\n",
       "    .dataframe tbody tr th {\n",
       "        vertical-align: top;\n",
       "    }\n",
       "\n",
       "    .dataframe thead th {\n",
       "        text-align: right;\n",
       "    }\n",
       "</style>\n",
       "<table border=\"1\" class=\"dataframe\">\n",
       "  <thead>\n",
       "    <tr style=\"text-align: right;\">\n",
       "      <th></th>\n",
       "      <th>exception_message</th>\n",
       "      <th>stack_trace</th>\n",
       "      <th>current_file</th>\n",
       "      <th>involved_functions</th>\n",
       "      <th>timestamp</th>\n",
       "      <th>error_file</th>\n",
       "      <th>file_content</th>\n",
       "    </tr>\n",
       "  </thead>\n",
       "  <tbody>\n",
       "    <tr>\n",
       "      <th>1</th>\n",
       "      <td>Classical register redeclared: c0.</td>\n",
       "      <td>Traceback (most recent call last):\\n  File \"/w...</td>\n",
       "      <td>qiskit_circuit_5q_10g_6675_23a210.py</td>\n",
       "      <td>['import_from_qasm_with_bqskit', 'export_to_qa...</td>\n",
       "      <td>1.734412e+09</td>\n",
       "      <td>qiskit_circuit_5q_10g_6675_23a210_a51774_error...</td>\n",
       "      <td># Section: Prologue\\nfrom qiskit import Quantu...</td>\n",
       "    </tr>\n",
       "    <tr>\n",
       "      <th>2</th>\n",
       "      <td>Could not import first circuit: &lt;input&gt;:5:1:\\n...</td>\n",
       "      <td>Traceback (most recent call last):\\n  File \"/w...</td>\n",
       "      <td>qiskit_circuit_5q_10g_8763_6dde4d.py</td>\n",
       "      <td>['compare_qasm_via_qcec', 'export_to_qasm_with...</td>\n",
       "      <td>1.734418e+09</td>\n",
       "      <td>qiskit_circuit_5q_10g_8763_6dde4d_851975_error...</td>\n",
       "      <td># Section: Prologue\\nfrom qiskit import Quantu...</td>\n",
       "    </tr>\n",
       "    <tr>\n",
       "      <th>6</th>\n",
       "      <td>Could not import first circuit: &lt;input&gt;:5:1:\\n...</td>\n",
       "      <td>Traceback (most recent call last):\\n  File \"/w...</td>\n",
       "      <td>qiskit_circuit_5q_10g_6299_50f01b.py</td>\n",
       "      <td>['compare_qasm_via_qcec', 'export_to_qasm_with...</td>\n",
       "      <td>1.734411e+09</td>\n",
       "      <td>qiskit_circuit_5q_10g_6299_50f01b_5a967e_error...</td>\n",
       "      <td># Section: Prologue\\nfrom qiskit import Quantu...</td>\n",
       "    </tr>\n",
       "    <tr>\n",
       "      <th>7</th>\n",
       "      <td>Classical register redeclared: c0.</td>\n",
       "      <td>Traceback (most recent call last):\\n  File \"/w...</td>\n",
       "      <td>qiskit_circuit_5q_10g_645_fcd95b.py</td>\n",
       "      <td>['import_from_qasm_with_bqskit', 'export_to_qa...</td>\n",
       "      <td>1.734392e+09</td>\n",
       "      <td>qiskit_circuit_5q_10g_645_fcd95b_ec84be_error....</td>\n",
       "      <td># Section: Prologue\\nfrom qiskit import Quantu...</td>\n",
       "    </tr>\n",
       "    <tr>\n",
       "      <th>8</th>\n",
       "      <td>Classical register redeclared: meas.</td>\n",
       "      <td>Traceback (most recent call last):\\n  File \"/w...</td>\n",
       "      <td>qiskit_circuit_5q_10g_8458_b361ad.py</td>\n",
       "      <td>['import_from_qasm_with_bqskit', 'export_to_qa...</td>\n",
       "      <td>1.734417e+09</td>\n",
       "      <td>qiskit_circuit_5q_10g_8458_b361ad_20dadb_error...</td>\n",
       "      <td># Section: Prologue\\nfrom qiskit import Quantu...</td>\n",
       "    </tr>\n",
       "  </tbody>\n",
       "</table>\n",
       "</div>"
      ],
      "text/plain": [
       "                                   exception_message  \\\n",
       "1                 Classical register redeclared: c0.   \n",
       "2  Could not import first circuit: <input>:5:1:\\n...   \n",
       "6  Could not import first circuit: <input>:5:1:\\n...   \n",
       "7                 Classical register redeclared: c0.   \n",
       "8               Classical register redeclared: meas.   \n",
       "\n",
       "                                         stack_trace  \\\n",
       "1  Traceback (most recent call last):\\n  File \"/w...   \n",
       "2  Traceback (most recent call last):\\n  File \"/w...   \n",
       "6  Traceback (most recent call last):\\n  File \"/w...   \n",
       "7  Traceback (most recent call last):\\n  File \"/w...   \n",
       "8  Traceback (most recent call last):\\n  File \"/w...   \n",
       "\n",
       "                           current_file  \\\n",
       "1  qiskit_circuit_5q_10g_6675_23a210.py   \n",
       "2  qiskit_circuit_5q_10g_8763_6dde4d.py   \n",
       "6  qiskit_circuit_5q_10g_6299_50f01b.py   \n",
       "7   qiskit_circuit_5q_10g_645_fcd95b.py   \n",
       "8  qiskit_circuit_5q_10g_8458_b361ad.py   \n",
       "\n",
       "                                  involved_functions     timestamp  \\\n",
       "1  ['import_from_qasm_with_bqskit', 'export_to_qa...  1.734412e+09   \n",
       "2  ['compare_qasm_via_qcec', 'export_to_qasm_with...  1.734418e+09   \n",
       "6  ['compare_qasm_via_qcec', 'export_to_qasm_with...  1.734411e+09   \n",
       "7  ['import_from_qasm_with_bqskit', 'export_to_qa...  1.734392e+09   \n",
       "8  ['import_from_qasm_with_bqskit', 'export_to_qa...  1.734417e+09   \n",
       "\n",
       "                                          error_file  \\\n",
       "1  qiskit_circuit_5q_10g_6675_23a210_a51774_error...   \n",
       "2  qiskit_circuit_5q_10g_8763_6dde4d_851975_error...   \n",
       "6  qiskit_circuit_5q_10g_6299_50f01b_5a967e_error...   \n",
       "7  qiskit_circuit_5q_10g_645_fcd95b_ec84be_error....   \n",
       "8  qiskit_circuit_5q_10g_8458_b361ad_20dadb_error...   \n",
       "\n",
       "                                        file_content  \n",
       "1  # Section: Prologue\\nfrom qiskit import Quantu...  \n",
       "2  # Section: Prologue\\nfrom qiskit import Quantu...  \n",
       "6  # Section: Prologue\\nfrom qiskit import Quantu...  \n",
       "7  # Section: Prologue\\nfrom qiskit import Quantu...  \n",
       "8  # Section: Prologue\\nfrom qiskit import Quantu...  "
      ]
     },
     "execution_count": 8,
     "metadata": {},
     "output_type": "execute_result"
    }
   ],
   "source": [
    "df_errors.head()"
   ]
  },
  {
   "cell_type": "code",
   "execution_count": 9,
   "metadata": {},
   "outputs": [
    {
     "name": "stderr",
     "output_type": "stream",
     "text": [
      "/home/paltenmo/.conda/envs/crosspl/lib/python3.10/site-packages/transformers/tokenization_utils_base.py:1601: FutureWarning: `clean_up_tokenization_spaces` was not set. It will be set to `True` by default. This behavior will be depracted in transformers v4.45, and will be then set to `False` by default. For more details check this issue: https://github.com/huggingface/transformers/issues/31884\n",
      "  warnings.warn(\n"
     ]
    },
    {
     "data": {
      "application/vnd.jupyter.widget-view+json": {
       "model_id": "a6811e798e554ede9af1599859fc94f2",
       "version_major": 2,
       "version_minor": 0
      },
      "text/plain": [
       "Batches:   0%|          | 0/257 [00:00<?, ?it/s]"
      ]
     },
     "metadata": {},
     "output_type": "display_data"
    },
    {
     "data": {
      "text/plain": [
       "1    [-0.006454635, -0.0041311453, 0.006910024, 0.0...\n",
       "2    [-0.013339732, -0.006517542, -0.01316927, -0.0...\n",
       "6    [-0.022068165, -0.008443073, -0.0042516254, -0...\n",
       "7    [-0.006454635, -0.0041311453, 0.006910024, 0.0...\n",
       "8    [-0.061342996, -0.00280843, -0.014300223, -0.0...\n",
       "Name: exception_message_embeddings, dtype: object"
      ]
     },
     "execution_count": 9,
     "metadata": {},
     "output_type": "execute_result"
    }
   ],
   "source": [
    "from datasets import Dataset, DatasetDict\n",
    "from transformers import AutoTokenizer, AutoModel\n",
    "import torch\n",
    "from sentence_transformers import SentenceTransformer\n",
    "\n",
    "# create a dataset from the error dataframe\n",
    "dataset = Dataset.from_pandas(df_errors)\n",
    "\n",
    "# inspect the dataset\n",
    "dataset\n",
    "\n",
    "# use deepseek-ai/DeepSeek-Coder-V2-Lite-Base\n",
    "# from datasets import Dataset\n",
    "# dataset = Dataset.from_dict({\"a\": [0, 1, 2]})\n",
    "# dataset.map(lambda batch: {\"b\": batch[\"a\"] * 2}, batched=True)  # new column with 6 elements: [0, 1, 2, 0, 1, 2]\n",
    "# Load the tokenizer and model\n",
    "# EMBEDDING_MODEL = \"TinyLlama/TinyLlama_v1.1_math_code\"\n",
    "# EMBEDDING_MODEL = \"all-MiniLM-L6-v2\"\n",
    "EMBEDDING_MODEL = \"multi-qa-mpnet-base-cos-v1\"\n",
    "# EMBEDDING_MODEL = \"deepseek-ai/DeepSeek-Coder-V2-Lite-Base\"\n",
    "# Load a pretrained Sentence Transformer model\n",
    "model = SentenceTransformer(EMBEDDING_MODEL)\n",
    "\n",
    "# Calculate embeddings for the exception_message column\n",
    "df_errors['exception_message_embeddings'] = list(\n",
    "    model.encode(\n",
    "        df_errors['exception_message'].tolist(),\n",
    "        batch_size=32, show_progress_bar=True))\n",
    "\n",
    "# Inspect the embeddings\n",
    "df_errors['exception_message_embeddings'].head()"
   ]
  },
  {
   "cell_type": "code",
   "execution_count": 10,
   "metadata": {},
   "outputs": [],
   "source": [
    "# ! pip install fpsample"
   ]
  },
  {
   "cell_type": "code",
   "execution_count": 10,
   "metadata": {},
   "outputs": [
    {
     "data": {
      "text/html": [
       "<div>\n",
       "<style scoped>\n",
       "    .dataframe tbody tr th:only-of-type {\n",
       "        vertical-align: middle;\n",
       "    }\n",
       "\n",
       "    .dataframe tbody tr th {\n",
       "        vertical-align: top;\n",
       "    }\n",
       "\n",
       "    .dataframe thead th {\n",
       "        text-align: right;\n",
       "    }\n",
       "</style>\n",
       "<table border=\"1\" class=\"dataframe\">\n",
       "  <thead>\n",
       "    <tr style=\"text-align: right;\">\n",
       "      <th></th>\n",
       "      <th>exception_message</th>\n",
       "      <th>stack_trace</th>\n",
       "      <th>current_file</th>\n",
       "      <th>involved_functions</th>\n",
       "      <th>timestamp</th>\n",
       "      <th>error_file</th>\n",
       "      <th>file_content</th>\n",
       "      <th>exception_message_embeddings</th>\n",
       "    </tr>\n",
       "  </thead>\n",
       "  <tbody>\n",
       "    <tr>\n",
       "      <th>8096</th>\n",
       "      <td>Classical register redeclared: c0.</td>\n",
       "      <td>Traceback (most recent call last):\\n  File \"/w...</td>\n",
       "      <td>qiskit_circuit_5q_10g_9650_c15ea1.py</td>\n",
       "      <td>['import_from_qasm_with_bqskit', 'export_to_qa...</td>\n",
       "      <td>1.734421e+09</td>\n",
       "      <td>qiskit_circuit_5q_10g_9650_c15ea1_d8c207_error...</td>\n",
       "      <td># Section: Prologue\\nfrom qiskit import Quantu...</td>\n",
       "      <td>[-0.006454635, -0.0041311453, 0.006910024, 0.0...</td>\n",
       "    </tr>\n",
       "    <tr>\n",
       "      <th>5445</th>\n",
       "      <td>Unexpected token Token('BARRIER', 'barrier') a...</td>\n",
       "      <td>Traceback (most recent call last):\\n  File \"/u...</td>\n",
       "      <td>qiskit_circuit_5q_10g_452_29dfd5.py</td>\n",
       "      <td>['import_from_qasm_with_bqskit', 'export_to_qa...</td>\n",
       "      <td>1.734391e+09</td>\n",
       "      <td>qiskit_circuit_5q_10g_452_29dfd5_175e79_error....</td>\n",
       "      <td># Section: Prologue\\nfrom qiskit import Quantu...</td>\n",
       "      <td>[0.05752691, -0.011145178, -0.008105683, -0.02...</td>\n",
       "    </tr>\n",
       "    <tr>\n",
       "      <th>11725</th>\n",
       "      <td>map::at</td>\n",
       "      <td>Traceback (most recent call last):\\n  File \"/w...</td>\n",
       "      <td>qiskit_circuit_5q_10g_8892_a54478.py</td>\n",
       "      <td>['compare_qasm_via_qcec', 'export_to_qasm_with...</td>\n",
       "      <td>1.734419e+09</td>\n",
       "      <td>qiskit_circuit_5q_10g_8892_a54478_0488ad_error...</td>\n",
       "      <td># Section: Prologue\\nfrom qiskit import Quantu...</td>\n",
       "      <td>[-0.008285877, -0.10523057, -0.018257696, 0.02...</td>\n",
       "    </tr>\n",
       "    <tr>\n",
       "      <th>1760</th>\n",
       "      <td>Cannot print command of type: PhasedX(0.678805...</td>\n",
       "      <td>Traceback (most recent call last):\\n  File \"/w...</td>\n",
       "      <td>qiskit_circuit_5q_10g_8011_990629.py</td>\n",
       "      <td>['export_to_qasm_with_pytket']</td>\n",
       "      <td>1.734416e+09</td>\n",
       "      <td>qiskit_circuit_5q_10g_8011_990629_91e984_error...</td>\n",
       "      <td># Section: Prologue\\nfrom qiskit import Quantu...</td>\n",
       "      <td>[0.029152589, -0.041312426, 0.0075832563, -0.0...</td>\n",
       "    </tr>\n",
       "    <tr>\n",
       "      <th>11787</th>\n",
       "      <td>'DaggerGate' object has no attribute '_qasm_name'</td>\n",
       "      <td>Traceback (most recent call last):\\n  File \"/w...</td>\n",
       "      <td>qiskit_circuit_5q_10g_7614_d1058d.py</td>\n",
       "      <td>['export_to_qasm_with_bqskit']</td>\n",
       "      <td>1.734415e+09</td>\n",
       "      <td>qiskit_circuit_5q_10g_7614_d1058d_a43f03_error...</td>\n",
       "      <td># Section: Prologue\\nfrom qiskit import Quantu...</td>\n",
       "      <td>[0.033318244, 0.0065051834, 0.012843919, 0.013...</td>\n",
       "    </tr>\n",
       "  </tbody>\n",
       "</table>\n",
       "</div>"
      ],
      "text/plain": [
       "                                       exception_message  \\\n",
       "8096                  Classical register redeclared: c0.   \n",
       "5445   Unexpected token Token('BARRIER', 'barrier') a...   \n",
       "11725                                            map::at   \n",
       "1760   Cannot print command of type: PhasedX(0.678805...   \n",
       "11787  'DaggerGate' object has no attribute '_qasm_name'   \n",
       "\n",
       "                                             stack_trace  \\\n",
       "8096   Traceback (most recent call last):\\n  File \"/w...   \n",
       "5445   Traceback (most recent call last):\\n  File \"/u...   \n",
       "11725  Traceback (most recent call last):\\n  File \"/w...   \n",
       "1760   Traceback (most recent call last):\\n  File \"/w...   \n",
       "11787  Traceback (most recent call last):\\n  File \"/w...   \n",
       "\n",
       "                               current_file  \\\n",
       "8096   qiskit_circuit_5q_10g_9650_c15ea1.py   \n",
       "5445    qiskit_circuit_5q_10g_452_29dfd5.py   \n",
       "11725  qiskit_circuit_5q_10g_8892_a54478.py   \n",
       "1760   qiskit_circuit_5q_10g_8011_990629.py   \n",
       "11787  qiskit_circuit_5q_10g_7614_d1058d.py   \n",
       "\n",
       "                                      involved_functions     timestamp  \\\n",
       "8096   ['import_from_qasm_with_bqskit', 'export_to_qa...  1.734421e+09   \n",
       "5445   ['import_from_qasm_with_bqskit', 'export_to_qa...  1.734391e+09   \n",
       "11725  ['compare_qasm_via_qcec', 'export_to_qasm_with...  1.734419e+09   \n",
       "1760                      ['export_to_qasm_with_pytket']  1.734416e+09   \n",
       "11787                     ['export_to_qasm_with_bqskit']  1.734415e+09   \n",
       "\n",
       "                                              error_file  \\\n",
       "8096   qiskit_circuit_5q_10g_9650_c15ea1_d8c207_error...   \n",
       "5445   qiskit_circuit_5q_10g_452_29dfd5_175e79_error....   \n",
       "11725  qiskit_circuit_5q_10g_8892_a54478_0488ad_error...   \n",
       "1760   qiskit_circuit_5q_10g_8011_990629_91e984_error...   \n",
       "11787  qiskit_circuit_5q_10g_7614_d1058d_a43f03_error...   \n",
       "\n",
       "                                            file_content  \\\n",
       "8096   # Section: Prologue\\nfrom qiskit import Quantu...   \n",
       "5445   # Section: Prologue\\nfrom qiskit import Quantu...   \n",
       "11725  # Section: Prologue\\nfrom qiskit import Quantu...   \n",
       "1760   # Section: Prologue\\nfrom qiskit import Quantu...   \n",
       "11787  # Section: Prologue\\nfrom qiskit import Quantu...   \n",
       "\n",
       "                            exception_message_embeddings  \n",
       "8096   [-0.006454635, -0.0041311453, 0.006910024, 0.0...  \n",
       "5445   [0.05752691, -0.011145178, -0.008105683, -0.02...  \n",
       "11725  [-0.008285877, -0.10523057, -0.018257696, 0.02...  \n",
       "1760   [0.029152589, -0.041312426, 0.0075832563, -0.0...  \n",
       "11787  [0.033318244, 0.0065051834, 0.012843919, 0.013...  "
      ]
     },
     "execution_count": 10,
     "metadata": {},
     "output_type": "execute_result"
    }
   ],
   "source": [
    "import fpsample\n",
    "import numpy as np\n",
    "\n",
    "# Extract the embeddings from the dataframe\n",
    "embeddings = np.array(df_errors['exception_message_embeddings'].tolist())\n",
    "\n",
    "# Sample 1024 points using various FPS methods\n",
    "\n",
    "# # Vanilla FPS\n",
    "fps_samples_idx = fpsample.fps_sampling(embeddings, 1024)\n",
    "\n",
    "# Get the sampled data\n",
    "sampled_data = df_errors.iloc[fps_samples_idx]\n",
    "sampled_data.head()"
   ]
  },
  {
   "cell_type": "code",
   "execution_count": 11,
   "metadata": {},
   "outputs": [
    {
     "data": {
      "text/html": [
       "<div>\n",
       "<style scoped>\n",
       "    .dataframe tbody tr th:only-of-type {\n",
       "        vertical-align: middle;\n",
       "    }\n",
       "\n",
       "    .dataframe tbody tr th {\n",
       "        vertical-align: top;\n",
       "    }\n",
       "\n",
       "    .dataframe thead th {\n",
       "        text-align: right;\n",
       "    }\n",
       "</style>\n",
       "<table border=\"1\" class=\"dataframe\">\n",
       "  <thead>\n",
       "    <tr style=\"text-align: right;\">\n",
       "      <th></th>\n",
       "      <th>exception_message</th>\n",
       "      <th>error_file</th>\n",
       "      <th>current_file</th>\n",
       "    </tr>\n",
       "  </thead>\n",
       "  <tbody>\n",
       "    <tr>\n",
       "      <th>8096</th>\n",
       "      <td>Classical register redeclared: c0.</td>\n",
       "      <td>qiskit_circuit_5q_10g_9650_c15ea1_d8c207_error.json</td>\n",
       "      <td>qiskit_circuit_5q_10g_9650_c15ea1.py</td>\n",
       "    </tr>\n",
       "    <tr>\n",
       "      <th>5445</th>\n",
       "      <td>Unexpected token Token('BARRIER', 'barrier') at line 9, column 17.\\nExpected one of: \\n\\t* LSQB\\n\\t* SEMICOLON\\n\\t* COMMA\\nPrevious tokens: [Token('ID', 'barrier')]\\n</td>\n",
       "      <td>qiskit_circuit_5q_10g_452_29dfd5_175e79_error.json</td>\n",
       "      <td>qiskit_circuit_5q_10g_452_29dfd5.py</td>\n",
       "    </tr>\n",
       "    <tr>\n",
       "      <th>11725</th>\n",
       "      <td>map::at</td>\n",
       "      <td>qiskit_circuit_5q_10g_8892_a54478_0488ad_error.json</td>\n",
       "      <td>qiskit_circuit_5q_10g_8892_a54478.py</td>\n",
       "    </tr>\n",
       "    <tr>\n",
       "      <th>1760</th>\n",
       "      <td>Cannot print command of type: PhasedX(0.678805, 0.5)</td>\n",
       "      <td>qiskit_circuit_5q_10g_8011_990629_91e984_error.json</td>\n",
       "      <td>qiskit_circuit_5q_10g_8011_990629.py</td>\n",
       "    </tr>\n",
       "    <tr>\n",
       "      <th>11787</th>\n",
       "      <td>'DaggerGate' object has no attribute '_qasm_name'</td>\n",
       "      <td>qiskit_circuit_5q_10g_7614_d1058d_a43f03_error.json</td>\n",
       "      <td>qiskit_circuit_5q_10g_7614_d1058d.py</td>\n",
       "    </tr>\n",
       "    <tr>\n",
       "      <th>10896</th>\n",
       "      <td>\"&lt;input&gt;:9,5: 'meas' is already defined\"</td>\n",
       "      <td>qiskit_circuit_5q_10g_9908_398301_5f6d34_error.json</td>\n",
       "      <td>qiskit_circuit_5q_10g_9908_398301.py</td>\n",
       "    </tr>\n",
       "    <tr>\n",
       "      <th>7601</th>\n",
       "      <td>DD for non-unitary operation not available!</td>\n",
       "      <td>qiskit_circuit_5q_10g_7354_bcf6e4_5cd229_error.json</td>\n",
       "      <td>qiskit_circuit_5q_10g_7354_bcf6e4.py</td>\n",
       "    </tr>\n",
       "    <tr>\n",
       "      <th>1804</th>\n",
       "      <td>The circuits are not equivalent: /workspace/qiskit_circuit_5q_10g_7553_24d42f_random_qc_pytket.qasm, /workspace/qiskit_circuit_5q_10g_7553_24d42f_random_qc_qiskit.qasm</td>\n",
       "      <td>qiskit_circuit_5q_10g_7553_24d42f_76b26a_error.json</td>\n",
       "      <td>qiskit_circuit_5q_10g_7553_24d42f.py</td>\n",
       "    </tr>\n",
       "    <tr>\n",
       "      <th>5295</th>\n",
       "      <td>Gate has an invalid number of parameters</td>\n",
       "      <td>qiskit_circuit_5q_10g_7553_24d42f_ff64d8_error.json</td>\n",
       "      <td>qiskit_circuit_5q_10g_7553_24d42f.py</td>\n",
       "    </tr>\n",
       "    <tr>\n",
       "      <th>11187</th>\n",
       "      <td>Could not import first circuit: &lt;input&gt;:6:1:\\nIdentifier 'c' already declared.</td>\n",
       "      <td>qiskit_circuit_5q_10g_9125_c8eb6a_0bf5bb_error.json</td>\n",
       "      <td>qiskit_circuit_5q_10g_9125_c8eb6a.py</td>\n",
       "    </tr>\n",
       "    <tr>\n",
       "      <th>11223</th>\n",
       "      <td>\"&lt;input&gt;:12,0: 'cs' is not defined in this scope\"</td>\n",
       "      <td>qiskit_circuit_5q_10g_3811_4fe1d7_ac90d3_error.json</td>\n",
       "      <td>qiskit_circuit_5q_10g_3811_4fe1d7.py</td>\n",
       "    </tr>\n",
       "    <tr>\n",
       "      <th>11454</th>\n",
       "      <td>'&lt;input&gt;:5,5: needed a valid identifier, but instead saw measure'</td>\n",
       "      <td>qiskit_circuit_5q_10g_1945_05976a_148083_error.json</td>\n",
       "      <td>qiskit_circuit_5q_10g_1945_05976a.py</td>\n",
       "    </tr>\n",
       "    <tr>\n",
       "      <th>11286</th>\n",
       "      <td>Controlled gate sx with 3 controls is not a standard OpenQASM 2.0 identifier. To encode this gate, try decomposing it into gates withstandard identifiers.</td>\n",
       "      <td>qiskit_circuit_5q_10g_1957_04ce50_ff1b4d_error.json</td>\n",
       "      <td>qiskit_circuit_5q_10g_1957_04ce50.py</td>\n",
       "    </tr>\n",
       "    <tr>\n",
       "      <th>12189</th>\n",
       "      <td>Classical register redeclared: reg_measure.</td>\n",
       "      <td>qiskit_circuit_5q_10g_7882_3aaf3f_3e3d93_error.json</td>\n",
       "      <td>qiskit_circuit_5q_10g_7882_3aaf3f.py</td>\n",
       "    </tr>\n",
       "    <tr>\n",
       "      <th>11013</th>\n",
       "      <td>Classical register redeclared: meas.</td>\n",
       "      <td>qiskit_circuit_5q_10g_4641_b3d738_daa595_error.json</td>\n",
       "      <td>qiskit_circuit_5q_10g_4641_b3d738.py</td>\n",
       "    </tr>\n",
       "    <tr>\n",
       "      <th>11359</th>\n",
       "      <td>\"&lt;input&gt;:6,5: 'c' is already defined\"</td>\n",
       "      <td>qiskit_circuit_5q_10g_565_2c6331_4f5578_error.json</td>\n",
       "      <td>qiskit_circuit_5q_10g_565_2c6331.py</td>\n",
       "    </tr>\n",
       "    <tr>\n",
       "      <th>10971</th>\n",
       "      <td>\"&lt;input&gt;:5,5: 'reg_measure' is already defined\"</td>\n",
       "      <td>qiskit_circuit_5q_10g_3981_8becfb_34da11_error.json</td>\n",
       "      <td>qiskit_circuit_5q_10g_3981_8becfb.py</td>\n",
       "    </tr>\n",
       "    <tr>\n",
       "      <th>11877</th>\n",
       "      <td>Could not import first circuit: &lt;input&gt;:5:1:\\nIdentifier 'reg_measure' already declared.</td>\n",
       "      <td>qiskit_circuit_5q_10g_1285_c036b9_8e9a96_error.json</td>\n",
       "      <td>qiskit_circuit_5q_10g_1285_c036b9.py</td>\n",
       "    </tr>\n",
       "    <tr>\n",
       "      <th>9354</th>\n",
       "      <td>Could not import first circuit: &lt;input&gt;:9:1:\\nIdentifier 'meas' already declared.</td>\n",
       "      <td>qiskit_circuit_5q_10g_1242_722034_508509_error.json</td>\n",
       "      <td>qiskit_circuit_5q_10g_1242_722034.py</td>\n",
       "    </tr>\n",
       "    <tr>\n",
       "      <th>12350</th>\n",
       "      <td>Classical register redeclared: c.</td>\n",
       "      <td>qiskit_circuit_5q_10g_5726_a35921_43edce_error.json</td>\n",
       "      <td>qiskit_circuit_5q_10g_5726_a35921.py</td>\n",
       "    </tr>\n",
       "    <tr>\n",
       "      <th>12207</th>\n",
       "      <td>Could not import first circuit: &lt;input&gt;:5:6:\\nExpected 'Identifier', got 'measure'.</td>\n",
       "      <td>qiskit_circuit_5q_10g_1945_05976a_6167db_error.json</td>\n",
       "      <td>qiskit_circuit_5q_10g_1945_05976a.py</td>\n",
       "    </tr>\n",
       "    <tr>\n",
       "      <th>12354</th>\n",
       "      <td>Could not import first circuit: &lt;input&gt;:5:1:\\nIdentifier 'c0' already declared.</td>\n",
       "      <td>qiskit_circuit_5q_10g_2822_892573_63be52_error.json</td>\n",
       "      <td>qiskit_circuit_5q_10g_2822_892573.py</td>\n",
       "    </tr>\n",
       "    <tr>\n",
       "      <th>12344</th>\n",
       "      <td>\"&lt;input&gt;:5,5: 'c0' is already defined\"</td>\n",
       "      <td>qiskit_circuit_5q_10g_246_b1f266_d7e912_error.json</td>\n",
       "      <td>qiskit_circuit_5q_10g_246_b1f266.py</td>\n",
       "    </tr>\n",
       "    <tr>\n",
       "      <th>12333</th>\n",
       "      <td>Could not import first circuit: &lt;input&gt;:5:1:\\nIdentifier 'meas' already declared.</td>\n",
       "      <td>qiskit_circuit_5q_10g_8586_13a53a_748024_error.json</td>\n",
       "      <td>qiskit_circuit_5q_10g_8586_13a53a.py</td>\n",
       "    </tr>\n",
       "    <tr>\n",
       "      <th>3170</th>\n",
       "      <td>The circuits are not equivalent: /workspace/qiskit_circuit_5q_10g_7526_d3cd63_qc_pytket.qasm, /workspace/qiskit_circuit_5q_10g_7526_d3cd63_qc_qiskit.qasm</td>\n",
       "      <td>qiskit_circuit_5q_10g_7526_d3cd63_4685ad_error.json</td>\n",
       "      <td>qiskit_circuit_5q_10g_7526_d3cd63.py</td>\n",
       "    </tr>\n",
       "    <tr>\n",
       "      <th>12351</th>\n",
       "      <td>Could not import first circuit: &lt;input&gt;:5:1:\\nIdentifier 'c' already declared.</td>\n",
       "      <td>qiskit_circuit_5q_10g_1856_092496_21df2b_error.json</td>\n",
       "      <td>qiskit_circuit_5q_10g_1856_092496.py</td>\n",
       "    </tr>\n",
       "    <tr>\n",
       "      <th>12265</th>\n",
       "      <td>\"&lt;input&gt;:5,5: 'meas' is already defined\"</td>\n",
       "      <td>qiskit_circuit_5q_10g_9832_6d32f8_a8238c_error.json</td>\n",
       "      <td>qiskit_circuit_5q_10g_9832_6d32f8.py</td>\n",
       "    </tr>\n",
       "    <tr>\n",
       "      <th>1182</th>\n",
       "      <td>Cannot print command of type: PhasedX(3.23902, 0.5)</td>\n",
       "      <td>qiskit_circuit_5q_10g_7712_bbca2e_acd62b_error.json</td>\n",
       "      <td>qiskit_circuit_5q_10g_7712_bbca2e.py</td>\n",
       "    </tr>\n",
       "    <tr>\n",
       "      <th>11786</th>\n",
       "      <td>Cannot print command of type: PhasedX(0.5, 0)</td>\n",
       "      <td>qiskit_circuit_5q_10g_5795_99bc2d_33ad90_error.json</td>\n",
       "      <td>qiskit_circuit_5q_10g_5795_99bc2d.py</td>\n",
       "    </tr>\n",
       "    <tr>\n",
       "      <th>8742</th>\n",
       "      <td>\"&lt;input&gt;:5,5: 'c' is already defined\"</td>\n",
       "      <td>qiskit_circuit_5q_10g_8652_79e82d_ab62c7_error.json</td>\n",
       "      <td>qiskit_circuit_5q_10g_8652_79e82d.py</td>\n",
       "    </tr>\n",
       "  </tbody>\n",
       "</table>\n",
       "</div>"
      ],
      "text/plain": [
       "                                                                                                                                                             exception_message  \\\n",
       "8096                                                                                                                                        Classical register redeclared: c0.   \n",
       "5445    Unexpected token Token('BARRIER', 'barrier') at line 9, column 17.\\nExpected one of: \\n\\t* LSQB\\n\\t* SEMICOLON\\n\\t* COMMA\\nPrevious tokens: [Token('ID', 'barrier')]\\n   \n",
       "11725                                                                                                                                                                  map::at   \n",
       "1760                                                                                                                      Cannot print command of type: PhasedX(0.678805, 0.5)   \n",
       "11787                                                                                                                        'DaggerGate' object has no attribute '_qasm_name'   \n",
       "10896                                                                                                                                 \"<input>:9,5: 'meas' is already defined\"   \n",
       "7601                                                                                                                               DD for non-unitary operation not available!   \n",
       "1804   The circuits are not equivalent: /workspace/qiskit_circuit_5q_10g_7553_24d42f_random_qc_pytket.qasm, /workspace/qiskit_circuit_5q_10g_7553_24d42f_random_qc_qiskit.qasm   \n",
       "5295                                                                                                                                  Gate has an invalid number of parameters   \n",
       "11187                                                                                           Could not import first circuit: <input>:6:1:\\nIdentifier 'c' already declared.   \n",
       "11223                                                                                                                        \"<input>:12,0: 'cs' is not defined in this scope\"   \n",
       "11454                                                                                                        '<input>:5,5: needed a valid identifier, but instead saw measure'   \n",
       "11286               Controlled gate sx with 3 controls is not a standard OpenQASM 2.0 identifier. To encode this gate, try decomposing it into gates withstandard identifiers.   \n",
       "12189                                                                                                                              Classical register redeclared: reg_measure.   \n",
       "11013                                                                                                                                     Classical register redeclared: meas.   \n",
       "11359                                                                                                                                    \"<input>:6,5: 'c' is already defined\"   \n",
       "10971                                                                                                                          \"<input>:5,5: 'reg_measure' is already defined\"   \n",
       "11877                                                                                 Could not import first circuit: <input>:5:1:\\nIdentifier 'reg_measure' already declared.   \n",
       "9354                                                                                         Could not import first circuit: <input>:9:1:\\nIdentifier 'meas' already declared.   \n",
       "12350                                                                                                                                        Classical register redeclared: c.   \n",
       "12207                                                                                      Could not import first circuit: <input>:5:6:\\nExpected 'Identifier', got 'measure'.   \n",
       "12354                                                                                          Could not import first circuit: <input>:5:1:\\nIdentifier 'c0' already declared.   \n",
       "12344                                                                                                                                   \"<input>:5,5: 'c0' is already defined\"   \n",
       "12333                                                                                        Could not import first circuit: <input>:5:1:\\nIdentifier 'meas' already declared.   \n",
       "3170                 The circuits are not equivalent: /workspace/qiskit_circuit_5q_10g_7526_d3cd63_qc_pytket.qasm, /workspace/qiskit_circuit_5q_10g_7526_d3cd63_qc_qiskit.qasm   \n",
       "12351                                                                                           Could not import first circuit: <input>:5:1:\\nIdentifier 'c' already declared.   \n",
       "12265                                                                                                                                 \"<input>:5,5: 'meas' is already defined\"   \n",
       "1182                                                                                                                       Cannot print command of type: PhasedX(3.23902, 0.5)   \n",
       "11786                                                                                                                            Cannot print command of type: PhasedX(0.5, 0)   \n",
       "8742                                                                                                                                     \"<input>:5,5: 'c' is already defined\"   \n",
       "\n",
       "                                                error_file  \\\n",
       "8096   qiskit_circuit_5q_10g_9650_c15ea1_d8c207_error.json   \n",
       "5445    qiskit_circuit_5q_10g_452_29dfd5_175e79_error.json   \n",
       "11725  qiskit_circuit_5q_10g_8892_a54478_0488ad_error.json   \n",
       "1760   qiskit_circuit_5q_10g_8011_990629_91e984_error.json   \n",
       "11787  qiskit_circuit_5q_10g_7614_d1058d_a43f03_error.json   \n",
       "10896  qiskit_circuit_5q_10g_9908_398301_5f6d34_error.json   \n",
       "7601   qiskit_circuit_5q_10g_7354_bcf6e4_5cd229_error.json   \n",
       "1804   qiskit_circuit_5q_10g_7553_24d42f_76b26a_error.json   \n",
       "5295   qiskit_circuit_5q_10g_7553_24d42f_ff64d8_error.json   \n",
       "11187  qiskit_circuit_5q_10g_9125_c8eb6a_0bf5bb_error.json   \n",
       "11223  qiskit_circuit_5q_10g_3811_4fe1d7_ac90d3_error.json   \n",
       "11454  qiskit_circuit_5q_10g_1945_05976a_148083_error.json   \n",
       "11286  qiskit_circuit_5q_10g_1957_04ce50_ff1b4d_error.json   \n",
       "12189  qiskit_circuit_5q_10g_7882_3aaf3f_3e3d93_error.json   \n",
       "11013  qiskit_circuit_5q_10g_4641_b3d738_daa595_error.json   \n",
       "11359   qiskit_circuit_5q_10g_565_2c6331_4f5578_error.json   \n",
       "10971  qiskit_circuit_5q_10g_3981_8becfb_34da11_error.json   \n",
       "11877  qiskit_circuit_5q_10g_1285_c036b9_8e9a96_error.json   \n",
       "9354   qiskit_circuit_5q_10g_1242_722034_508509_error.json   \n",
       "12350  qiskit_circuit_5q_10g_5726_a35921_43edce_error.json   \n",
       "12207  qiskit_circuit_5q_10g_1945_05976a_6167db_error.json   \n",
       "12354  qiskit_circuit_5q_10g_2822_892573_63be52_error.json   \n",
       "12344   qiskit_circuit_5q_10g_246_b1f266_d7e912_error.json   \n",
       "12333  qiskit_circuit_5q_10g_8586_13a53a_748024_error.json   \n",
       "3170   qiskit_circuit_5q_10g_7526_d3cd63_4685ad_error.json   \n",
       "12351  qiskit_circuit_5q_10g_1856_092496_21df2b_error.json   \n",
       "12265  qiskit_circuit_5q_10g_9832_6d32f8_a8238c_error.json   \n",
       "1182   qiskit_circuit_5q_10g_7712_bbca2e_acd62b_error.json   \n",
       "11786  qiskit_circuit_5q_10g_5795_99bc2d_33ad90_error.json   \n",
       "8742   qiskit_circuit_5q_10g_8652_79e82d_ab62c7_error.json   \n",
       "\n",
       "                               current_file  \n",
       "8096   qiskit_circuit_5q_10g_9650_c15ea1.py  \n",
       "5445    qiskit_circuit_5q_10g_452_29dfd5.py  \n",
       "11725  qiskit_circuit_5q_10g_8892_a54478.py  \n",
       "1760   qiskit_circuit_5q_10g_8011_990629.py  \n",
       "11787  qiskit_circuit_5q_10g_7614_d1058d.py  \n",
       "10896  qiskit_circuit_5q_10g_9908_398301.py  \n",
       "7601   qiskit_circuit_5q_10g_7354_bcf6e4.py  \n",
       "1804   qiskit_circuit_5q_10g_7553_24d42f.py  \n",
       "5295   qiskit_circuit_5q_10g_7553_24d42f.py  \n",
       "11187  qiskit_circuit_5q_10g_9125_c8eb6a.py  \n",
       "11223  qiskit_circuit_5q_10g_3811_4fe1d7.py  \n",
       "11454  qiskit_circuit_5q_10g_1945_05976a.py  \n",
       "11286  qiskit_circuit_5q_10g_1957_04ce50.py  \n",
       "12189  qiskit_circuit_5q_10g_7882_3aaf3f.py  \n",
       "11013  qiskit_circuit_5q_10g_4641_b3d738.py  \n",
       "11359   qiskit_circuit_5q_10g_565_2c6331.py  \n",
       "10971  qiskit_circuit_5q_10g_3981_8becfb.py  \n",
       "11877  qiskit_circuit_5q_10g_1285_c036b9.py  \n",
       "9354   qiskit_circuit_5q_10g_1242_722034.py  \n",
       "12350  qiskit_circuit_5q_10g_5726_a35921.py  \n",
       "12207  qiskit_circuit_5q_10g_1945_05976a.py  \n",
       "12354  qiskit_circuit_5q_10g_2822_892573.py  \n",
       "12344   qiskit_circuit_5q_10g_246_b1f266.py  \n",
       "12333  qiskit_circuit_5q_10g_8586_13a53a.py  \n",
       "3170   qiskit_circuit_5q_10g_7526_d3cd63.py  \n",
       "12351  qiskit_circuit_5q_10g_1856_092496.py  \n",
       "12265  qiskit_circuit_5q_10g_9832_6d32f8.py  \n",
       "1182   qiskit_circuit_5q_10g_7712_bbca2e.py  \n",
       "11786  qiskit_circuit_5q_10g_5795_99bc2d.py  \n",
       "8742   qiskit_circuit_5q_10g_8652_79e82d.py  "
      ]
     },
     "execution_count": 11,
     "metadata": {},
     "output_type": "execute_result"
    }
   ],
   "source": [
    "pd.set_option('display.max_colwidth', None)\n",
    "i = 0\n",
    "size_chunk = 30\n",
    "sampled_data[[\"exception_message\", \"error_file\", \"current_file\"]\n",
    "             ].iloc[i*size_chunk:(i+1)*size_chunk]"
   ]
  },
  {
   "cell_type": "code",
   "execution_count": 11,
   "metadata": {},
   "outputs": [],
   "source": [
    "# relevant errors\n",
    "relevant_error_files_with_message = [\n",
    "    # # probably QCEC error\n",
    "    # (\"qiskit_circuit_5q_10g_2382_eaac27_73fae5_error.json\",\n",
    "    #  \"classic-controlled operation is not a StandardOperation\"),\n",
    "    # # interesting pair of divergent platforms\n",
    "    # (\"qiskit_circuit_5q_10g_5557_dc52a0_027c07_error.json\",\n",
    "    #  \"The circuits are not equivalent\")\n",
    "    # cs gate not defined\n",
    "    (\"qiskit_circuit_5q_10g_3811_4fe1d7_ac90d3_error.json\",\n",
    "     \"cs' is not defined\")\n",
    "]"
   ]
  },
  {
   "cell_type": "code",
   "execution_count": 16,
   "metadata": {},
   "outputs": [
    {
     "name": "stdout",
     "output_type": "stream",
     "text": [
      "Copying ../program_bank/v012/2024_12_16__23_03__qiskit/qiskit_circuit_5q_10g_3811_4fe1d7_ac90d3_error.json to ../program_bank/v012/2024_12_16__23_03__sample_errors\n",
      "Copying ../program_bank/v012/2024_12_16__23_03__qiskit/qiskit_circuit_5q_10g_3811_4fe1d7.py to ../program_bank/v012/2024_12_16__23_03__sample_errors\n"
     ]
    }
   ],
   "source": [
    "error_paths = [os.path.join(DIR_PROGRAM_BANK, f)\n",
    "               for f, _ in relevant_error_files_with_message]\n",
    "\n",
    "# copy the relevant errors to the sample folder\n",
    "copy_errors_to_sample_folder(error_paths, DIR_SAMPLE_ERRORS)"
   ]
  },
  {
   "cell_type": "code",
   "execution_count": 20,
   "metadata": {},
   "outputs": [
    {
     "name": "stdout",
     "output_type": "stream",
     "text": [
      "Error paths in sample folder (1):\n",
      "../program_bank/v012/2024_12_16__23_03__sample_errors/qiskit_circuit_5q_10g_3811_4fe1d7_ac90d3_error.json\n"
     ]
    },
    {
     "data": {
      "text/html": [
       "<pre style=\"white-space:pre;overflow-x:auto;line-height:normal;font-family:Menlo,'DejaVu Sans Mono',consolas,'Courier New',monospace\"><span style=\"color: #7fbfbf; text-decoration-color: #7fbfbf\">[15:00:58] </span>Created report folder: ..<span style=\"color: #800080; text-decoration-color: #800080\">/reports/v012/</span><span style=\"color: #ff00ff; text-decoration-color: #ff00ff\">2024_12_18__15_00</span>                                   <a href=\"file:///home/paltenmo/projects/crossplatform/analysis_and_reporting/triage.py\" target=\"_blank\"><span style=\"color: #7f7f7f; text-decoration-color: #7f7f7f\">triage.py</span></a><span style=\"color: #7f7f7f; text-decoration-color: #7f7f7f\">:</span><a href=\"file:///home/paltenmo/projects/crossplatform/analysis_and_reporting/triage.py#132\" target=\"_blank\"><span style=\"color: #7f7f7f; text-decoration-color: #7f7f7f\">132</span></a>\n",
       "</pre>\n"
      ],
      "text/plain": [
       "\u001b[2;36m[15:00:58]\u001b[0m\u001b[2;36m \u001b[0mCreated report folder: ..\u001b[35m/reports/v012/\u001b[0m\u001b[95m2024_12_18__15_00\u001b[0m                                   \u001b]8;id=93555;file:///home/paltenmo/projects/crossplatform/analysis_and_reporting/triage.py\u001b\\\u001b[2mtriage.py\u001b[0m\u001b]8;;\u001b\\\u001b[2m:\u001b[0m\u001b]8;id=988906;file:///home/paltenmo/projects/crossplatform/analysis_and_reporting/triage.py#132\u001b\\\u001b[2m132\u001b[0m\u001b]8;;\u001b\\\n"
      ]
     },
     "metadata": {},
     "output_type": "display_data"
    },
    {
     "data": {
      "text/html": [
       "<pre style=\"white-space:pre;overflow-x:auto;line-height:normal;font-family:Menlo,'DejaVu Sans Mono',consolas,'Courier New',monospace\"><span style=\"color: #7fbfbf; text-decoration-color: #7fbfbf\">           </span>Copied files to: ..<span style=\"color: #800080; text-decoration-color: #800080\">/reports/v012/</span><span style=\"color: #ff00ff; text-decoration-color: #ff00ff\">2024_12_18__15_00</span>                                         <a href=\"file:///home/paltenmo/projects/crossplatform/analysis_and_reporting/triage.py\" target=\"_blank\"><span style=\"color: #7f7f7f; text-decoration-color: #7f7f7f\">triage.py</span></a><span style=\"color: #7f7f7f; text-decoration-color: #7f7f7f\">:</span><a href=\"file:///home/paltenmo/projects/crossplatform/analysis_and_reporting/triage.py#141\" target=\"_blank\"><span style=\"color: #7f7f7f; text-decoration-color: #7f7f7f\">141</span></a>\n",
       "</pre>\n"
      ],
      "text/plain": [
       "\u001b[2;36m          \u001b[0m\u001b[2;36m \u001b[0mCopied files to: ..\u001b[35m/reports/v012/\u001b[0m\u001b[95m2024_12_18__15_00\u001b[0m                                         \u001b]8;id=763561;file:///home/paltenmo/projects/crossplatform/analysis_and_reporting/triage.py\u001b\\\u001b[2mtriage.py\u001b[0m\u001b]8;;\u001b\\\u001b[2m:\u001b[0m\u001b]8;id=641047;file:///home/paltenmo/projects/crossplatform/analysis_and_reporting/triage.py#141\u001b\\\u001b[2m141\u001b[0m\u001b]8;;\u001b\\\n"
      ]
     },
     "metadata": {},
     "output_type": "display_data"
    },
    {
     "data": {
      "text/html": [
       "<pre style=\"white-space:pre;overflow-x:auto;line-height:normal;font-family:Menlo,'DejaVu Sans Mono',consolas,'Courier New',monospace\"><span style=\"color: #7fbfbf; text-decoration-color: #7fbfbf\">[15:00:58] </span>Involved functions:                                                             <a href=\"file:///home/paltenmo/projects/crossplatform/analysis_and_reporting/ddmin_target_file.py\" target=\"_blank\"><span style=\"color: #7f7f7f; text-decoration-color: #7f7f7f\">ddmin_target_file.py</span></a><span style=\"color: #7f7f7f; text-decoration-color: #7f7f7f\">:</span><a href=\"file:///home/paltenmo/projects/crossplatform/analysis_and_reporting/ddmin_target_file.py#206\" target=\"_blank\"><span style=\"color: #7f7f7f; text-decoration-color: #7f7f7f\">206</span></a>\n",
       "</pre>\n"
      ],
      "text/plain": [
       "\u001b[2;36m[15:00:58]\u001b[0m\u001b[2;36m \u001b[0mInvolved functions:                                                             \u001b]8;id=261660;file:///home/paltenmo/projects/crossplatform/analysis_and_reporting/ddmin_target_file.py\u001b\\\u001b[2mddmin_target_file.py\u001b[0m\u001b]8;;\u001b\\\u001b[2m:\u001b[0m\u001b]8;id=835769;file:///home/paltenmo/projects/crossplatform/analysis_and_reporting/ddmin_target_file.py#206\u001b\\\u001b[2m206\u001b[0m\u001b]8;;\u001b\\\n"
      ]
     },
     "metadata": {},
     "output_type": "display_data"
    },
    {
     "data": {
      "text/html": [
       "<pre style=\"white-space:pre;overflow-x:auto;line-height:normal;font-family:Menlo,'DejaVu Sans Mono',consolas,'Courier New',monospace\"><span style=\"color: #7fbfbf; text-decoration-color: #7fbfbf\">           </span>  - import_from_qasm_with_qiskit                                                <a href=\"file:///home/paltenmo/projects/crossplatform/analysis_and_reporting/ddmin_target_file.py\" target=\"_blank\"><span style=\"color: #7f7f7f; text-decoration-color: #7f7f7f\">ddmin_target_file.py</span></a><span style=\"color: #7f7f7f; text-decoration-color: #7f7f7f\">:</span><a href=\"file:///home/paltenmo/projects/crossplatform/analysis_and_reporting/ddmin_target_file.py#208\" target=\"_blank\"><span style=\"color: #7f7f7f; text-decoration-color: #7f7f7f\">208</span></a>\n",
       "</pre>\n"
      ],
      "text/plain": [
       "\u001b[2;36m          \u001b[0m\u001b[2;36m \u001b[0m  - import_from_qasm_with_qiskit                                                \u001b]8;id=854312;file:///home/paltenmo/projects/crossplatform/analysis_and_reporting/ddmin_target_file.py\u001b\\\u001b[2mddmin_target_file.py\u001b[0m\u001b]8;;\u001b\\\u001b[2m:\u001b[0m\u001b]8;id=586897;file:///home/paltenmo/projects/crossplatform/analysis_and_reporting/ddmin_target_file.py#208\u001b\\\u001b[2m208\u001b[0m\u001b]8;;\u001b\\\n"
      ]
     },
     "metadata": {},
     "output_type": "display_data"
    },
    {
     "data": {
      "text/html": [
       "<pre style=\"white-space:pre;overflow-x:auto;line-height:normal;font-family:Menlo,'DejaVu Sans Mono',consolas,'Courier New',monospace\"><span style=\"color: #7fbfbf; text-decoration-color: #7fbfbf\">           </span>  - export_to_qasm_with_bqskit                                                  <a href=\"file:///home/paltenmo/projects/crossplatform/analysis_and_reporting/ddmin_target_file.py\" target=\"_blank\"><span style=\"color: #7f7f7f; text-decoration-color: #7f7f7f\">ddmin_target_file.py</span></a><span style=\"color: #7f7f7f; text-decoration-color: #7f7f7f\">:</span><a href=\"file:///home/paltenmo/projects/crossplatform/analysis_and_reporting/ddmin_target_file.py#208\" target=\"_blank\"><span style=\"color: #7f7f7f; text-decoration-color: #7f7f7f\">208</span></a>\n",
       "</pre>\n"
      ],
      "text/plain": [
       "\u001b[2;36m          \u001b[0m\u001b[2;36m \u001b[0m  - export_to_qasm_with_bqskit                                                  \u001b]8;id=371820;file:///home/paltenmo/projects/crossplatform/analysis_and_reporting/ddmin_target_file.py\u001b\\\u001b[2mddmin_target_file.py\u001b[0m\u001b]8;;\u001b\\\u001b[2m:\u001b[0m\u001b]8;id=62059;file:///home/paltenmo/projects/crossplatform/analysis_and_reporting/ddmin_target_file.py#208\u001b\\\u001b[2m208\u001b[0m\u001b]8;;\u001b\\\n"
      ]
     },
     "metadata": {},
     "output_type": "display_data"
    },
    {
     "name": "stdout",
     "output_type": "stream",
     "text": [
      "Error parsing: Command 'python /workspace/to_execute.py' in image 'qiskit_runner' returned non-zero exit status 1: b'Traceback (most recent call last):\\n  File \"/workspace/to_execute.py\", line 36, in <module>\\n    print(qc.draw())\\nNameError: name \\'qc\\' is not defined\\n'\n",
      "Failed to execute to_execute.py in Docker.\n",
      "Output:      ┌───────┐                                                         »\n",
      "q_0: ┤1      ├─────────────────────────────────────────────────────────»\n",
      "     │       │┌──────┐                     ┌──────┐                    »\n",
      "q_1: ┤0 Rccx ├┤1     ├─────────────────────┤1     ├────────────────■───»\n",
      "     │       ││      │              ┌─────┐│      │┌────────────┐  │   »\n",
      "q_2: ┤2      ├┤      ├──────────────┤ Sdg ├┤  Ecr ├┤ Rx(4.0514) ├──■───»\n",
      "     └───────┘│  Dcx │┌────────────┐└──┬──┘│      │└─────┬──────┘┌─┴──┐»\n",
      "q_3: ────■────┤      ├┤ Rz(2.9305) ├───┼───┤0     ├──────┼───────┤ Sx ├»\n",
      "       ┌─┴─┐  │      │└────────────┘   │   └──────┘      │       └─┬──┘»\n",
      "q_4: ──┤ Y ├──┤0     ├─────────────────■─────────────────■─────────■───»\n",
      "       └───┘  └──────┘                                                 »\n",
      "«     ┌────────┐      ┌────────┐                         ┌────────┐\n",
      "«q_0: ┤2       ├──■───┤0       ├─■───────────────────────┤2       ├\n",
      "«     │        │  │   │        │ │P(4.5008)              │        │\n",
      "«q_1: ┤0       ├──■───┤2       ├─■───────────────────────┤3       ├\n",
      "«     │  Rcccx │  │   │        │                         │  Rcccx │\n",
      "«q_2: ┤1       ├──■───┤  Rcccx ├─────────────■───────────┤1       ├\n",
      "«     │        │  │   │        │   ┌───┐     │           │        │\n",
      "«q_3: ┤3       ├──┼───┤3       ├───┤ S ├─────┼───────────┤0       ├\n",
      "«     └────────┘┌─┴──┐│        │   └───┘     │ZZ(5.2256) └────────┘\n",
      "«q_4: ──────────┤ Sx ├┤1       ├─────────────■─────────────────────\n",
      "«               └────┘└────────┘                                   \n",
      "Log has been saved to /workspace/to_execute_7590b4_error.json\n",
      "No QASM files exported.\n",
      "\n",
      "Program to_execute.py executed successfully.\n",
      "New exception message: Controlled gate sx with 3 controls is not a standard OpenQASM 2.0 identifier. To encode this gate, try decomposing it into gates withstandard identifiers.\n",
      "Output:      ┌────────┐     ┌────────────┐        ┌──────┐                   »\n",
      "q_0: ┤1       ├─────┤ Rx(5.8457) ├────────┤1     ├───────────────────»\n",
      "     │        │┌───┐└─────┬──────┘┌───┐   │      │   ┌──────────────┐»\n",
      "q_1: ┤        ├┤ S ├──────┼───────┤ X ├───┤  Ecr ├───┤0             ├»\n",
      "     │        │└───┘      │       └─┬─┘   │      │   │              │»\n",
      "q_2: ┤2 Rcccx ├───────────■─────────┼─────┤0     ├───┤              ├»\n",
      "     │        │                     │  ┌──┴──────┴──┐│  Ryy(4.1775) │»\n",
      "q_3: ┤3       ├─────────────────────■──┤ Ry(1.0314) ├┤              ├»\n",
      "     │        │                     │  └────────────┘│              │»\n",
      "q_4: ┤0       ├─────────────────────■────────────────┤1             ├»\n",
      "     └────────┘                                      └──────────────┘»\n",
      "«          ┌───┐                            ┌─────────────────────────┐┌──────┐»\n",
      "«q_0: ─────┤ S ├──────────────────────────■─┤1                        ├┤ √Xdg ├»\n",
      "«          └─┬─┘          ┌────┐          │ │                         │└──────┘»\n",
      "«q_1: ───────■────────────┤ √X ├──────────┼─┤                         ├────────»\n",
      "«     ┌──────────────┐    └────┘          │ │                         │        »\n",
      "«q_2: ┤1             ├────────────────────X─┤  (XX+YY)(4.2773,4.0933) ├───■────»\n",
      "«     │              │┌────────────┐┌───┐ │ │                         │ ┌─┴─┐  »\n",
      "«q_3: ┤  Ryy(3.5442) ├┤ Rz(5.3424) ├┤ T ├─┼─┤                         ├─┤ S ├──»\n",
      "«     │              │└────────────┘└───┘ │ │                         │ └───┘  »\n",
      "«q_4: ┤0             ├────────────────────X─┤0                        ├────────»\n",
      "«     └──────────────┘                      └─────────────────────────┘        »\n",
      "«                                                       \n",
      "«q_0: ──────────■───────────X──────────■────────────────\n",
      "«               │           │        ┌─┴─┐              \n",
      "«q_1: ──■───────■───────────X────────┤ X ├──────────────\n",
      "«       │   ┌───────┐┌──────────────┐└─┬─┘              \n",
      "«q_2: ──■───┤1      ├┤0             ├──■────────────────\n",
      "«     ┌─┴──┐│       ││              │┌───┐┌────────────┐\n",
      "«q_3: ┤ Sx ├┤2 Rccx ├┤  Rzx(3.9561) ├┤ H ├┤ P(0.38375) ├\n",
      "«     └─┬──┘│       ││              │└───┘└────────────┘\n",
      "«q_4: ──■───┤0      ├┤1             ├───────────────────\n",
      "«           └───────┘└──────────────┘                   \n",
      "Log has been saved to /workspace/to_execute_6ddf2e_error.json\n",
      "No QASM files exported.\n",
      "\n",
      "Program to_execute.py executed successfully.\n",
      "New exception message: 'DaggerGate' object has no attribute '_qasm_name'\n",
      "Error: We expected the exact buggy program to return False (namely the same error): True\n",
      "Skipping to the next error file\n"
     ]
    }
   ],
   "source": [
    "from analysis_and_reporting.triage import analyze_and_report\n",
    "\n",
    "# Extract the error paths from the relevant list\n",
    "error_paths_in_sample_folder = [\n",
    "    os.path.join(DIR_SAMPLE_ERRORS, error_file)\n",
    "    for error_file, clue in relevant_error_files_with_message\n",
    "]\n",
    "\n",
    "n_error_files = len(error_paths_in_sample_folder)\n",
    "print(f\"Error paths in sample folder ({n_error_files}):\")\n",
    "for error_path in error_paths_in_sample_folder:\n",
    "    print(error_path)\n",
    "\n",
    "# Analyze and report for each relevant error file\n",
    "for error_path, clue_message in relevant_error_files_with_message:\n",
    "    try:\n",
    "        analyze_and_report(\n",
    "            path_error_json=os.path.join(DIR_SAMPLE_ERRORS, error_path),\n",
    "            path_program=get_corresponding_program_file(\n",
    "                os.path.join(DIR_SAMPLE_ERRORS, error_path)),\n",
    "            parent_report_folder=os.path.join(\"..\", \"reports\", \"v012\"),\n",
    "            clue_message=clue_message,\n",
    "            analysis_notebook='010_Triage_Not_Equivalence.ipynb')\n",
    "    except Exception as e:\n",
    "        print(f\"Error: {e}\")\n",
    "        print(\"Skipping to the next error file\")"
   ]
  },
  {
   "cell_type": "code",
   "execution_count": 21,
   "metadata": {},
   "outputs": [
    {
     "name": "stdout",
     "output_type": "stream",
     "text": [
      "../program_bank/v009/2024_11_20__13_42__qiskit/qiskit_circuit_5q_10g_2382_eaac27_73fae5_error.json\n",
      "{\n",
      "    \"exception_message\": \"Underlying operation of classic-controlled operation is not a StandardOperation.\\n   |\\u001b[0m   |\\u001b[0m   |\\u001b[0m   |\\u001b[0m   |\\u001b[0m   |\\u001b[0m  c[0] == 1\",\n",
      "    \"stack_trace\": \"Traceback (most recent call last):\\n  File \\\"/workspace/qiskit_circuit_5q_10g_2382_eaac27.py\\\", line 566, in <module>\\n    compare_call(a_file, b_file)\\n  File \\\"/workspace/qiskit_circuit_5q_10g_2382_eaac27.py\\\", line 503, in compare_qasm_via_qcec\\n    result = qcec.verify(\\n  File \\\"/usr/local/lib/python3.10/site-packages/mqt/qcec/verify.py\\\", line 56, in verify\\n    ecm = EquivalenceCheckingManager(circ1, circ2, configuration)\\nValueError: Underlying operation of classic-controlled operation is not a StandardOperation.\\n   |\\u001b[0m   |\\u001b[0m   |\\u001b[0m   |\\u001b[0m   |\\u001b[0m   |\\u001b[0m  c[0] == 1\\n\",\n",
      "    \"current_file\": \"qiskit_circuit_5q_10g_2382_eaac27.py\",\n",
      "    \"involved_functions\": [\n",
      "        \"compare_qasm_via_qcec\",\n",
      "        \"export_to_qasm_with_pytket\",\n",
      "        \"export_to_qasm_with_qiskit\"\n",
      "    ]\n",
      "}\n"
     ]
    }
   ],
   "source": [
    "file_name = \"qiskit_circuit_5q_10g_2382_eaac27_73fae5_error.json\"\n",
    "# file_name = \"qiskit_circuit_5q_10g_2382_eaac27.py\"\n",
    "file_path = os.path.join(DIR_PROGRAM_BANK, file_name)\n",
    "print(file_path)\n",
    "\n",
    "with open(file_path, 'r') as file:\n",
    "    file_content = file.read()\n",
    "\n",
    "print(file_content)"
   ]
  },
  {
   "cell_type": "markdown",
   "metadata": {},
   "source": [
    "# Manual Analyze and Report"
   ]
  },
  {
   "cell_type": "code",
   "execution_count": 2,
   "metadata": {},
   "outputs": [],
   "source": [
    "%load_ext autoreload\n",
    "%autoreload 2"
   ]
  },
  {
   "cell_type": "code",
   "execution_count": 3,
   "metadata": {},
   "outputs": [
    {
     "data": {
      "text/html": [
       "<pre style=\"white-space:pre;overflow-x:auto;line-height:normal;font-family:Menlo,'DejaVu Sans Mono',consolas,'Courier New',monospace\"><span style=\"color: #7fbfbf; text-decoration-color: #7fbfbf\">[14:48:00] </span>Created report folder: ..<span style=\"color: #800080; text-decoration-color: #800080\">/reports/v012/</span><span style=\"color: #ff00ff; text-decoration-color: #ff00ff\">2024_12_18__14_48</span>                                   <a href=\"file:///home/paltenmo/projects/crossplatform/analysis_and_reporting/triage.py\" target=\"_blank\"><span style=\"color: #7f7f7f; text-decoration-color: #7f7f7f\">triage.py</span></a><span style=\"color: #7f7f7f; text-decoration-color: #7f7f7f\">:</span><a href=\"file:///home/paltenmo/projects/crossplatform/analysis_and_reporting/triage.py#132\" target=\"_blank\"><span style=\"color: #7f7f7f; text-decoration-color: #7f7f7f\">132</span></a>\n",
       "</pre>\n"
      ],
      "text/plain": [
       "\u001b[2;36m[14:48:00]\u001b[0m\u001b[2;36m \u001b[0mCreated report folder: ..\u001b[35m/reports/v012/\u001b[0m\u001b[95m2024_12_18__14_48\u001b[0m                                   \u001b]8;id=733887;file:///home/paltenmo/projects/crossplatform/analysis_and_reporting/triage.py\u001b\\\u001b[2mtriage.py\u001b[0m\u001b]8;;\u001b\\\u001b[2m:\u001b[0m\u001b]8;id=154665;file:///home/paltenmo/projects/crossplatform/analysis_and_reporting/triage.py#132\u001b\\\u001b[2m132\u001b[0m\u001b]8;;\u001b\\\n"
      ]
     },
     "metadata": {},
     "output_type": "display_data"
    },
    {
     "data": {
      "text/html": [
       "<pre style=\"white-space:pre;overflow-x:auto;line-height:normal;font-family:Menlo,'DejaVu Sans Mono',consolas,'Courier New',monospace\"><span style=\"color: #7fbfbf; text-decoration-color: #7fbfbf\">           </span>Copied files to: ..<span style=\"color: #800080; text-decoration-color: #800080\">/reports/v012/</span><span style=\"color: #ff00ff; text-decoration-color: #ff00ff\">2024_12_18__14_48</span>                                         <a href=\"file:///home/paltenmo/projects/crossplatform/analysis_and_reporting/triage.py\" target=\"_blank\"><span style=\"color: #7f7f7f; text-decoration-color: #7f7f7f\">triage.py</span></a><span style=\"color: #7f7f7f; text-decoration-color: #7f7f7f\">:</span><a href=\"file:///home/paltenmo/projects/crossplatform/analysis_and_reporting/triage.py#141\" target=\"_blank\"><span style=\"color: #7f7f7f; text-decoration-color: #7f7f7f\">141</span></a>\n",
       "</pre>\n"
      ],
      "text/plain": [
       "\u001b[2;36m          \u001b[0m\u001b[2;36m \u001b[0mCopied files to: ..\u001b[35m/reports/v012/\u001b[0m\u001b[95m2024_12_18__14_48\u001b[0m                                         \u001b]8;id=451624;file:///home/paltenmo/projects/crossplatform/analysis_and_reporting/triage.py\u001b\\\u001b[2mtriage.py\u001b[0m\u001b]8;;\u001b\\\u001b[2m:\u001b[0m\u001b]8;id=273129;file:///home/paltenmo/projects/crossplatform/analysis_and_reporting/triage.py#141\u001b\\\u001b[2m141\u001b[0m\u001b]8;;\u001b\\\n"
      ]
     },
     "metadata": {},
     "output_type": "display_data"
    },
    {
     "data": {
      "text/html": [
       "<pre style=\"white-space:pre;overflow-x:auto;line-height:normal;font-family:Menlo,'DejaVu Sans Mono',consolas,'Courier New',monospace\"><span style=\"color: #7fbfbf; text-decoration-color: #7fbfbf\">[14:48:00] </span>Involved functions:                                                             <a href=\"file:///home/paltenmo/projects/crossplatform/analysis_and_reporting/ddmin_target_file.py\" target=\"_blank\"><span style=\"color: #7f7f7f; text-decoration-color: #7f7f7f\">ddmin_target_file.py</span></a><span style=\"color: #7f7f7f; text-decoration-color: #7f7f7f\">:</span><a href=\"file:///home/paltenmo/projects/crossplatform/analysis_and_reporting/ddmin_target_file.py#206\" target=\"_blank\"><span style=\"color: #7f7f7f; text-decoration-color: #7f7f7f\">206</span></a>\n",
       "</pre>\n"
      ],
      "text/plain": [
       "\u001b[2;36m[14:48:00]\u001b[0m\u001b[2;36m \u001b[0mInvolved functions:                                                             \u001b]8;id=615598;file:///home/paltenmo/projects/crossplatform/analysis_and_reporting/ddmin_target_file.py\u001b\\\u001b[2mddmin_target_file.py\u001b[0m\u001b]8;;\u001b\\\u001b[2m:\u001b[0m\u001b]8;id=66817;file:///home/paltenmo/projects/crossplatform/analysis_and_reporting/ddmin_target_file.py#206\u001b\\\u001b[2m206\u001b[0m\u001b]8;;\u001b\\\n"
      ]
     },
     "metadata": {},
     "output_type": "display_data"
    },
    {
     "data": {
      "text/html": [
       "<pre style=\"white-space:pre;overflow-x:auto;line-height:normal;font-family:Menlo,'DejaVu Sans Mono',consolas,'Courier New',monospace\"><span style=\"color: #7fbfbf; text-decoration-color: #7fbfbf\">           </span>  - compare_qasm_via_qcec                                                       <a href=\"file:///home/paltenmo/projects/crossplatform/analysis_and_reporting/ddmin_target_file.py\" target=\"_blank\"><span style=\"color: #7f7f7f; text-decoration-color: #7f7f7f\">ddmin_target_file.py</span></a><span style=\"color: #7f7f7f; text-decoration-color: #7f7f7f\">:</span><a href=\"file:///home/paltenmo/projects/crossplatform/analysis_and_reporting/ddmin_target_file.py#208\" target=\"_blank\"><span style=\"color: #7f7f7f; text-decoration-color: #7f7f7f\">208</span></a>\n",
       "</pre>\n"
      ],
      "text/plain": [
       "\u001b[2;36m          \u001b[0m\u001b[2;36m \u001b[0m  - compare_qasm_via_qcec                                                       \u001b]8;id=543724;file:///home/paltenmo/projects/crossplatform/analysis_and_reporting/ddmin_target_file.py\u001b\\\u001b[2mddmin_target_file.py\u001b[0m\u001b]8;;\u001b\\\u001b[2m:\u001b[0m\u001b]8;id=825193;file:///home/paltenmo/projects/crossplatform/analysis_and_reporting/ddmin_target_file.py#208\u001b\\\u001b[2m208\u001b[0m\u001b]8;;\u001b\\\n"
      ]
     },
     "metadata": {},
     "output_type": "display_data"
    },
    {
     "data": {
      "text/html": [
       "<pre style=\"white-space:pre;overflow-x:auto;line-height:normal;font-family:Menlo,'DejaVu Sans Mono',consolas,'Courier New',monospace\"><span style=\"color: #7fbfbf; text-decoration-color: #7fbfbf\">           </span>  - export_to_qasm_with_pytket                                                  <a href=\"file:///home/paltenmo/projects/crossplatform/analysis_and_reporting/ddmin_target_file.py\" target=\"_blank\"><span style=\"color: #7f7f7f; text-decoration-color: #7f7f7f\">ddmin_target_file.py</span></a><span style=\"color: #7f7f7f; text-decoration-color: #7f7f7f\">:</span><a href=\"file:///home/paltenmo/projects/crossplatform/analysis_and_reporting/ddmin_target_file.py#208\" target=\"_blank\"><span style=\"color: #7f7f7f; text-decoration-color: #7f7f7f\">208</span></a>\n",
       "</pre>\n"
      ],
      "text/plain": [
       "\u001b[2;36m          \u001b[0m\u001b[2;36m \u001b[0m  - export_to_qasm_with_pytket                                                  \u001b]8;id=543021;file:///home/paltenmo/projects/crossplatform/analysis_and_reporting/ddmin_target_file.py\u001b\\\u001b[2mddmin_target_file.py\u001b[0m\u001b]8;;\u001b\\\u001b[2m:\u001b[0m\u001b]8;id=863224;file:///home/paltenmo/projects/crossplatform/analysis_and_reporting/ddmin_target_file.py#208\u001b\\\u001b[2m208\u001b[0m\u001b]8;;\u001b\\\n"
      ]
     },
     "metadata": {},
     "output_type": "display_data"
    },
    {
     "data": {
      "text/html": [
       "<pre style=\"white-space:pre;overflow-x:auto;line-height:normal;font-family:Menlo,'DejaVu Sans Mono',consolas,'Courier New',monospace\"><span style=\"color: #7fbfbf; text-decoration-color: #7fbfbf\">           </span>  - export_to_qasm_with_qiskit                                                  <a href=\"file:///home/paltenmo/projects/crossplatform/analysis_and_reporting/ddmin_target_file.py\" target=\"_blank\"><span style=\"color: #7f7f7f; text-decoration-color: #7f7f7f\">ddmin_target_file.py</span></a><span style=\"color: #7f7f7f; text-decoration-color: #7f7f7f\">:</span><a href=\"file:///home/paltenmo/projects/crossplatform/analysis_and_reporting/ddmin_target_file.py#208\" target=\"_blank\"><span style=\"color: #7f7f7f; text-decoration-color: #7f7f7f\">208</span></a>\n",
       "</pre>\n"
      ],
      "text/plain": [
       "\u001b[2;36m          \u001b[0m\u001b[2;36m \u001b[0m  - export_to_qasm_with_qiskit                                                  \u001b]8;id=840010;file:///home/paltenmo/projects/crossplatform/analysis_and_reporting/ddmin_target_file.py\u001b\\\u001b[2mddmin_target_file.py\u001b[0m\u001b]8;;\u001b\\\u001b[2m:\u001b[0m\u001b]8;id=232867;file:///home/paltenmo/projects/crossplatform/analysis_and_reporting/ddmin_target_file.py#208\u001b\\\u001b[2m208\u001b[0m\u001b]8;;\u001b\\\n"
      ]
     },
     "metadata": {},
     "output_type": "display_data"
    },
    {
     "name": "stdout",
     "output_type": "stream",
     "text": [
      "Error parsing: Command 'python /workspace/to_execute.py' in image 'qiskit_runner' returned non-zero exit status 1: b'Traceback (most recent call last):\\n  File \"/workspace/to_execute.py\", line 37, in <module>\\n    print(qc.draw())\\nNameError: name \\'qc\\' is not defined\\n'\n",
      "Failed to execute to_execute.py in Docker.\n",
      "Output: cannot import name 'execution' from 'qiskit' (/usr/local/lib/python3.10/site-packages/qiskit/__init__.py)\n",
      "            ┌───┐                                                         »\n",
      "q_0: ───────┤ S ├───────────────────────■──────────────────■──────────────»\n",
      "            ├───┤                       │   ┌────────────┐ │ ┌───────────┐»\n",
      "q_1: ───────┤ Z ├───────────────────────■───┤ U1(6.2384) ├─┼─┤ P(4.1109) ├»\n",
      "          ┌─┴───┴──┐     ┌───────────┐  │   └────────────┘ │ └───────────┘»\n",
      "q_2: ─────┤1       ├─────┤ P(5.6485) ├──┼──────────────────┼──────────────»\n",
      "          │  Iswap │     └───────────┘┌─┴──┐               │              »\n",
      "q_3: ─────┤0       ├──────────────────┤ Sx ├───────────────X──────────────»\n",
      "     ┌────┴────────┴────┐             └─┬──┘               │              »\n",
      "q_4: ┤ R(5.3963,6.0934) ├───────────────■──────────────────X──────────────»\n",
      "     └──────────────────┘                                                 »\n",
      "«           ┌────┐\n",
      "«q_0: ──■───┤ Sx ├\n",
      "«       │   └─┬──┘\n",
      "«q_1: ──┼─────■───\n",
      "«       │     │   \n",
      "«q_2: ──■─────■───\n",
      "«       │     │   \n",
      "«q_3: ──■─────■───\n",
      "«     ┌─┴──┐┌───┐ \n",
      "«q_4: ┤ Sx ├┤ T ├─\n",
      "«     └────┘└───┘ \n",
      "Saved the Pytket circuit to /workspace/to_execute_qc_pytket.qasm\n",
      "Saved the Qiskit circuit to /workspace/to_execute_qc_qiskit.qasm\n",
      "Exported QASM files: [('/workspace/to_execute_qc_pytket.qasm', 'export_to_qasm_with_pytket'), ('/workspace/to_execute_qc_qiskit.qasm', 'export_to_qasm_with_qiskit')]\n",
      "Log has been saved to /workspace/to_execute_c1d5c8_error.json\n",
      "Saved the Pytket circuit to /workspace/to_execute_random_qc_pytket.qasm\n",
      "Saved the Qiskit circuit to /workspace/to_execute_random_qc_qiskit.qasm\n",
      "Exported QASM files: [('/workspace/to_execute_random_qc_pytket.qasm', 'export_to_qasm_with_pytket'), ('/workspace/to_execute_random_qc_qiskit.qasm', 'export_to_qasm_with_qiskit')]\n",
      "Log has been saved to /workspace/to_execute_0d6cf4_error.json\n",
      "\n",
      "Program to_execute.py executed successfully.\n",
      "New exception message: The circuits are not equivalent: /workspace/to_execute_qc_pytket.qasm, /workspace/to_execute_qc_qiskit.qasm\n",
      "Error parsing: Command 'python /workspace/to_execute.py' in image 'qiskit_runner' returned non-zero exit status 1: b'Traceback (most recent call last):\\n  File \"/workspace/to_execute.py\", line 37, in <module>\\n    qc = qc.compose(random_qc)\\nNameError: name \\'qc\\' is not defined\\n'\n",
      "Failed to execute to_execute.py in Docker.\n",
      "Output: cannot import name 'execution' from 'qiskit' (/usr/local/lib/python3.10/site-packages/qiskit/__init__.py)\n",
      "     \n",
      "q_0: \n",
      "     \n",
      "q_1: \n",
      "     \n",
      "q_2: \n",
      "     \n",
      "q_3: \n",
      "     \n",
      "q_4: \n",
      "     \n",
      "Saved the Pytket circuit to /workspace/to_execute_qc_pytket.qasm\n",
      "Saved the Qiskit circuit to /workspace/to_execute_qc_qiskit.qasm\n",
      "Exported QASM files: [('/workspace/to_execute_qc_pytket.qasm', 'export_to_qasm_with_pytket'), ('/workspace/to_execute_qc_qiskit.qasm', 'export_to_qasm_with_qiskit')]\n",
      "The circuits are equivalent: /workspace/to_execute_qc_pytket.qasm, /workspace/to_execute_qc_qiskit.qasm\n",
      "Saved the Pytket circuit to /workspace/to_execute_random_qc_pytket.qasm\n",
      "Saved the Qiskit circuit to /workspace/to_execute_random_qc_qiskit.qasm\n",
      "Exported QASM files: [('/workspace/to_execute_random_qc_pytket.qasm', 'export_to_qasm_with_pytket'), ('/workspace/to_execute_random_qc_qiskit.qasm', 'export_to_qasm_with_qiskit')]\n",
      "Log has been saved to /workspace/to_execute_2758da_error.json\n",
      "\n",
      "Program to_execute.py executed successfully.\n",
      "New exception message: The circuits are not equivalent: /workspace/to_execute_random_qc_pytket.qasm, /workspace/to_execute_random_qc_qiskit.qasm\n",
      "Error parsing: Command 'python /workspace/to_execute.py' in image 'qiskit_runner' returned non-zero exit status 1: b'Traceback (most recent call last):\\n  File \"/workspace/to_execute.py\", line 38, in <module>\\n    print(qc.draw())\\nNameError: name \\'qc\\' is not defined\\n'\n",
      "Failed to execute to_execute.py in Docker.\n",
      "Output: cannot import name 'execution' from 'qiskit' (/usr/local/lib/python3.10/site-packages/qiskit/__init__.py)\n",
      "     \n",
      "q_0: \n",
      "     \n",
      "q_1: \n",
      "     \n",
      "q_2: \n",
      "     \n",
      "q_3: \n",
      "     \n",
      "q_4: \n",
      "     \n",
      "Saved the Pytket circuit to /workspace/to_execute_qc_pytket.qasm\n",
      "Saved the Qiskit circuit to /workspace/to_execute_qc_qiskit.qasm\n",
      "Exported QASM files: [('/workspace/to_execute_qc_pytket.qasm', 'export_to_qasm_with_pytket'), ('/workspace/to_execute_qc_qiskit.qasm', 'export_to_qasm_with_qiskit')]\n",
      "The circuits are equivalent: /workspace/to_execute_qc_pytket.qasm, /workspace/to_execute_qc_qiskit.qasm\n",
      "\n",
      "Program to_execute.py executed successfully.\n"
     ]
    },
    {
     "data": {
      "text/html": [
       "<pre style=\"white-space:pre;overflow-x:auto;line-height:normal;font-family:Menlo,'DejaVu Sans Mono',consolas,'Courier New',monospace\"><span style=\"color: #7fbfbf; text-decoration-color: #7fbfbf\">[14:48:16] </span><span style=\"color: #008000; text-decoration-color: #008000\">Minimized file saved as:</span>                                                        <a href=\"file:///home/paltenmo/projects/crossplatform/analysis_and_reporting/ddmin_target_file.py\" target=\"_blank\"><span style=\"color: #7f7f7f; text-decoration-color: #7f7f7f\">ddmin_target_file.py</span></a><span style=\"color: #7f7f7f; text-decoration-color: #7f7f7f\">:</span><a href=\"file:///home/paltenmo/projects/crossplatform/analysis_and_reporting/ddmin_target_file.py#240\" target=\"_blank\"><span style=\"color: #7f7f7f; text-decoration-color: #7f7f7f\">240</span></a>\n",
       "<span style=\"color: #7fbfbf; text-decoration-color: #7fbfbf\">           </span>..<span style=\"color: #800080; text-decoration-color: #800080\">/reports/v012/2024_12_18__14_48/</span><span style=\"color: #ff00ff; text-decoration-color: #ff00ff\">qiskit_circuit_5q_10g_7553_24d42f_76b26a_erro</span> <span style=\"color: #7f7f7f; text-decoration-color: #7f7f7f\">                        </span>\n",
       "<span style=\"color: #7fbfbf; text-decoration-color: #7fbfbf\">           </span><span style=\"color: #ff00ff; text-decoration-color: #ff00ff\">r_min.py</span>                                                                        <span style=\"color: #7f7f7f; text-decoration-color: #7f7f7f\">                        </span>\n",
       "</pre>\n"
      ],
      "text/plain": [
       "\u001b[2;36m[14:48:16]\u001b[0m\u001b[2;36m \u001b[0m\u001b[32mMinimized file saved as:\u001b[0m                                                        \u001b]8;id=652390;file:///home/paltenmo/projects/crossplatform/analysis_and_reporting/ddmin_target_file.py\u001b\\\u001b[2mddmin_target_file.py\u001b[0m\u001b]8;;\u001b\\\u001b[2m:\u001b[0m\u001b]8;id=187383;file:///home/paltenmo/projects/crossplatform/analysis_and_reporting/ddmin_target_file.py#240\u001b\\\u001b[2m240\u001b[0m\u001b]8;;\u001b\\\n",
       "\u001b[2;36m           \u001b[0m..\u001b[35m/reports/v012/2024_12_18__14_48/\u001b[0m\u001b[95mqiskit_circuit_5q_10g_7553_24d42f_76b26a_erro\u001b[0m \u001b[2m                        \u001b[0m\n",
       "\u001b[2;36m           \u001b[0m\u001b[95mr_min.py\u001b[0m                                                                        \u001b[2m                        \u001b[0m\n"
      ]
     },
     "metadata": {},
     "output_type": "display_data"
    },
    {
     "name": "stdout",
     "output_type": "stream",
     "text": [
      "Output: cannot import name 'execution' from 'qiskit' (/usr/local/lib/python3.10/site-packages/qiskit/__init__.py)\n",
      "     \n",
      "q_0: \n",
      "     \n",
      "q_1: \n",
      "     \n",
      "q_2: \n",
      "     \n",
      "q_3: \n",
      "     \n",
      "q_4: \n",
      "     \n",
      "Saved the Pytket circuit to /workspace/qiskit_circuit_5q_10g_7553_24d42f_76b26a_error_min_qc_pytket.qasm\n",
      "Saved the Qiskit circuit to /workspace/qiskit_circuit_5q_10g_7553_24d42f_76b26a_error_min_qc_qiskit.qasm\n",
      "Exported QASM files: [('/workspace/qiskit_circuit_5q_10g_7553_24d42f_76b26a_error_min_qc_pytket.qasm', 'export_to_qasm_with_pytket'), ('/workspace/qiskit_circuit_5q_10g_7553_24d42f_76b26a_error_min_qc_qiskit.qasm', 'export_to_qasm_with_qiskit')]\n",
      "The circuits are equivalent: /workspace/qiskit_circuit_5q_10g_7553_24d42f_76b26a_error_min_qc_pytket.qasm, /workspace/qiskit_circuit_5q_10g_7553_24d42f_76b26a_error_min_qc_qiskit.qasm\n",
      "Saved the Pytket circuit to /workspace/qiskit_circuit_5q_10g_7553_24d42f_76b26a_error_min_random_qc_pytket.qasm\n",
      "Saved the Qiskit circuit to /workspace/qiskit_circuit_5q_10g_7553_24d42f_76b26a_error_min_random_qc_qiskit.qasm\n",
      "Exported QASM files: [('/workspace/qiskit_circuit_5q_10g_7553_24d42f_76b26a_error_min_random_qc_pytket.qasm', 'export_to_qasm_with_pytket'), ('/workspace/qiskit_circuit_5q_10g_7553_24d42f_76b26a_error_min_random_qc_qiskit.qasm', 'export_to_qasm_with_qiskit')]\n",
      "Log has been saved to /workspace/qiskit_circuit_5q_10g_7553_24d42f_76b26a_error_min_c7c48a_error.json\n",
      "\n"
     ]
    },
    {
     "data": {
      "text/html": [
       "<pre style=\"white-space:pre;overflow-x:auto;line-height:normal;font-family:Menlo,'DejaVu Sans Mono',consolas,'Courier New',monospace\"><span style=\"color: #7fbfbf; text-decoration-color: #7fbfbf\">[14:48:19] </span>Program qiskit_circuit_5q_10g_7553_24d42f_76b26a_error_min.py executed              <a href=\"file:///home/paltenmo/projects/crossplatform/generators/docker_tooling.py\" target=\"_blank\"><span style=\"color: #7f7f7f; text-decoration-color: #7f7f7f\">docker_tooling.py</span></a><span style=\"color: #7f7f7f; text-decoration-color: #7f7f7f\">:</span><a href=\"file:///home/paltenmo/projects/crossplatform/generators/docker_tooling.py#47\" target=\"_blank\"><span style=\"color: #7f7f7f; text-decoration-color: #7f7f7f\">47</span></a>\n",
       "<span style=\"color: #7fbfbf; text-decoration-color: #7fbfbf\">           </span>successfully.                                                                       <span style=\"color: #7f7f7f; text-decoration-color: #7f7f7f\">                    </span>\n",
       "</pre>\n"
      ],
      "text/plain": [
       "\u001b[2;36m[14:48:19]\u001b[0m\u001b[2;36m \u001b[0mProgram qiskit_circuit_5q_10g_7553_24d42f_76b26a_error_min.py executed              \u001b]8;id=786228;file:///home/paltenmo/projects/crossplatform/generators/docker_tooling.py\u001b\\\u001b[2mdocker_tooling.py\u001b[0m\u001b]8;;\u001b\\\u001b[2m:\u001b[0m\u001b]8;id=522904;file:///home/paltenmo/projects/crossplatform/generators/docker_tooling.py#47\u001b\\\u001b[2m47\u001b[0m\u001b]8;;\u001b\\\n",
       "\u001b[2;36m           \u001b[0msuccessfully.                                                                       \u001b[2m                    \u001b[0m\n"
      ]
     },
     "metadata": {},
     "output_type": "display_data"
    },
    {
     "data": {
      "text/html": [
       "<pre style=\"white-space:pre;overflow-x:auto;line-height:normal;font-family:Menlo,'DejaVu Sans Mono',consolas,'Courier New',monospace\"><span style=\"color: #7fbfbf; text-decoration-color: #7fbfbf\">           </span>QASM pair:                                                                                 <a href=\"file:///home/paltenmo/projects/crossplatform/analysis_and_reporting/triage.py\" target=\"_blank\"><span style=\"color: #7f7f7f; text-decoration-color: #7f7f7f\">triage.py</span></a><span style=\"color: #7f7f7f; text-decoration-color: #7f7f7f\">:</span><a href=\"file:///home/paltenmo/projects/crossplatform/analysis_and_reporting/triage.py#199\" target=\"_blank\"><span style=\"color: #7f7f7f; text-decoration-color: #7f7f7f\">199</span></a>\n",
       "<span style=\"color: #7fbfbf; text-decoration-color: #7fbfbf\">           </span><span style=\"font-weight: bold\">(</span><span style=\"color: #008000; text-decoration-color: #008000\">'../reports/v012/2024_12_18__14_48/qiskit_circuit_5q_10g_7553_24d42f_76b26a_error_min_ran</span> <span style=\"color: #7f7f7f; text-decoration-color: #7f7f7f\">             </span>\n",
       "<span style=\"color: #7fbfbf; text-decoration-color: #7fbfbf\">           </span><span style=\"color: #008000; text-decoration-color: #008000\">dom_qc_pytket.qasm'</span>,                                                                       <span style=\"color: #7f7f7f; text-decoration-color: #7f7f7f\">             </span>\n",
       "<span style=\"color: #7fbfbf; text-decoration-color: #7fbfbf\">           </span><span style=\"color: #008000; text-decoration-color: #008000\">'../reports/v012/2024_12_18__14_48/qiskit_circuit_5q_10g_7553_24d42f_76b26a_error_min_rand</span> <span style=\"color: #7f7f7f; text-decoration-color: #7f7f7f\">             </span>\n",
       "<span style=\"color: #7fbfbf; text-decoration-color: #7fbfbf\">           </span><span style=\"color: #008000; text-decoration-color: #008000\">om_qc_qiskit.qasm'</span><span style=\"font-weight: bold\">)</span>                                                                        <span style=\"color: #7f7f7f; text-decoration-color: #7f7f7f\">             </span>\n",
       "</pre>\n"
      ],
      "text/plain": [
       "\u001b[2;36m          \u001b[0m\u001b[2;36m \u001b[0mQASM pair:                                                                                 \u001b]8;id=470441;file:///home/paltenmo/projects/crossplatform/analysis_and_reporting/triage.py\u001b\\\u001b[2mtriage.py\u001b[0m\u001b]8;;\u001b\\\u001b[2m:\u001b[0m\u001b]8;id=15460;file:///home/paltenmo/projects/crossplatform/analysis_and_reporting/triage.py#199\u001b\\\u001b[2m199\u001b[0m\u001b]8;;\u001b\\\n",
       "\u001b[2;36m           \u001b[0m\u001b[1m(\u001b[0m\u001b[32m'../reports/v012/2024_12_18__14_48/qiskit_circuit_5q_10g_7553_24d42f_76b26a_error_min_ran\u001b[0m \u001b[2m             \u001b[0m\n",
       "\u001b[2;36m           \u001b[0m\u001b[32mdom_qc_pytket.qasm'\u001b[0m,                                                                       \u001b[2m             \u001b[0m\n",
       "\u001b[2;36m           \u001b[0m\u001b[32m'../reports/v012/2024_12_18__14_48/qiskit_circuit_5q_10g_7553_24d42f_76b26a_error_min_rand\u001b[0m \u001b[2m             \u001b[0m\n",
       "\u001b[2;36m           \u001b[0m\u001b[32mom_qc_qiskit.qasm'\u001b[0m\u001b[1m)\u001b[0m                                                                        \u001b[2m             \u001b[0m\n"
      ]
     },
     "metadata": {},
     "output_type": "display_data"
    },
    {
     "data": {
      "application/vnd.jupyter.widget-view+json": {
       "model_id": "c482b59a7dda43918648674ae2accd27",
       "version_major": 2,
       "version_minor": 0
      },
      "text/plain": [
       "Executing:   0%|          | 0/13 [00:00<?, ?cell/s]"
      ]
     },
     "metadata": {},
     "output_type": "display_data"
    },
    {
     "data": {
      "text/html": [
       "<pre style=\"white-space:pre;overflow-x:auto;line-height:normal;font-family:Menlo,'DejaVu Sans Mono',consolas,'Courier New',monospace\"><span style=\"color: #7fbfbf; text-decoration-color: #7fbfbf\">[14:48:21] </span>Analysis notebook executed:                                                                <a href=\"file:///home/paltenmo/projects/crossplatform/analysis_and_reporting/triage.py\" target=\"_blank\"><span style=\"color: #7f7f7f; text-decoration-color: #7f7f7f\">triage.py</span></a><span style=\"color: #7f7f7f; text-decoration-color: #7f7f7f\">:</span><a href=\"file:///home/paltenmo/projects/crossplatform/analysis_and_reporting/triage.py#216\" target=\"_blank\"><span style=\"color: #7f7f7f; text-decoration-color: #7f7f7f\">216</span></a>\n",
       "<span style=\"color: #7fbfbf; text-decoration-color: #7fbfbf\">           </span>..<span style=\"color: #800080; text-decoration-color: #800080\">/reports/v012/2024_12_18__14_48/</span><span style=\"color: #ff00ff; text-decoration-color: #ff00ff\">analysis_output_random_qc.ipynb</span>                          <span style=\"color: #7f7f7f; text-decoration-color: #7f7f7f\">             </span>\n",
       "</pre>\n"
      ],
      "text/plain": [
       "\u001b[2;36m[14:48:21]\u001b[0m\u001b[2;36m \u001b[0mAnalysis notebook executed:                                                                \u001b]8;id=163938;file:///home/paltenmo/projects/crossplatform/analysis_and_reporting/triage.py\u001b\\\u001b[2mtriage.py\u001b[0m\u001b]8;;\u001b\\\u001b[2m:\u001b[0m\u001b]8;id=937492;file:///home/paltenmo/projects/crossplatform/analysis_and_reporting/triage.py#216\u001b\\\u001b[2m216\u001b[0m\u001b]8;;\u001b\\\n",
       "\u001b[2;36m           \u001b[0m..\u001b[35m/reports/v012/2024_12_18__14_48/\u001b[0m\u001b[95manalysis_output_random_qc.ipynb\u001b[0m                          \u001b[2m             \u001b[0m\n"
      ]
     },
     "metadata": {},
     "output_type": "display_data"
    },
    {
     "data": {
      "text/html": [
       "<pre style=\"white-space:pre;overflow-x:auto;line-height:normal;font-family:Menlo,'DejaVu Sans Mono',consolas,'Courier New',monospace\"><span style=\"color: #7fbfbf; text-decoration-color: #7fbfbf\">           </span>QASM pair:                                                                                 <a href=\"file:///home/paltenmo/projects/crossplatform/analysis_and_reporting/triage.py\" target=\"_blank\"><span style=\"color: #7f7f7f; text-decoration-color: #7f7f7f\">triage.py</span></a><span style=\"color: #7f7f7f; text-decoration-color: #7f7f7f\">:</span><a href=\"file:///home/paltenmo/projects/crossplatform/analysis_and_reporting/triage.py#199\" target=\"_blank\"><span style=\"color: #7f7f7f; text-decoration-color: #7f7f7f\">199</span></a>\n",
       "<span style=\"color: #7fbfbf; text-decoration-color: #7fbfbf\">           </span><span style=\"font-weight: bold\">(</span><span style=\"color: #008000; text-decoration-color: #008000\">'../reports/v012/2024_12_18__14_48/qiskit_circuit_5q_10g_7553_24d42f_76b26a_error_min_qc_</span> <span style=\"color: #7f7f7f; text-decoration-color: #7f7f7f\">             </span>\n",
       "<span style=\"color: #7fbfbf; text-decoration-color: #7fbfbf\">           </span><span style=\"color: #008000; text-decoration-color: #008000\">qiskit.qasm'</span>,                                                                              <span style=\"color: #7f7f7f; text-decoration-color: #7f7f7f\">             </span>\n",
       "<span style=\"color: #7fbfbf; text-decoration-color: #7fbfbf\">           </span><span style=\"color: #008000; text-decoration-color: #008000\">'../reports/v012/2024_12_18__14_48/qiskit_circuit_5q_10g_7553_24d42f_76b26a_error_min_qc_p</span> <span style=\"color: #7f7f7f; text-decoration-color: #7f7f7f\">             </span>\n",
       "<span style=\"color: #7fbfbf; text-decoration-color: #7fbfbf\">           </span><span style=\"color: #008000; text-decoration-color: #008000\">ytket.qasm'</span><span style=\"font-weight: bold\">)</span>                                                                               <span style=\"color: #7f7f7f; text-decoration-color: #7f7f7f\">             </span>\n",
       "</pre>\n"
      ],
      "text/plain": [
       "\u001b[2;36m          \u001b[0m\u001b[2;36m \u001b[0mQASM pair:                                                                                 \u001b]8;id=268127;file:///home/paltenmo/projects/crossplatform/analysis_and_reporting/triage.py\u001b\\\u001b[2mtriage.py\u001b[0m\u001b]8;;\u001b\\\u001b[2m:\u001b[0m\u001b]8;id=977910;file:///home/paltenmo/projects/crossplatform/analysis_and_reporting/triage.py#199\u001b\\\u001b[2m199\u001b[0m\u001b]8;;\u001b\\\n",
       "\u001b[2;36m           \u001b[0m\u001b[1m(\u001b[0m\u001b[32m'../reports/v012/2024_12_18__14_48/qiskit_circuit_5q_10g_7553_24d42f_76b26a_error_min_qc_\u001b[0m \u001b[2m             \u001b[0m\n",
       "\u001b[2;36m           \u001b[0m\u001b[32mqiskit.qasm'\u001b[0m,                                                                              \u001b[2m             \u001b[0m\n",
       "\u001b[2;36m           \u001b[0m\u001b[32m'../reports/v012/2024_12_18__14_48/qiskit_circuit_5q_10g_7553_24d42f_76b26a_error_min_qc_p\u001b[0m \u001b[2m             \u001b[0m\n",
       "\u001b[2;36m           \u001b[0m\u001b[32mytket.qasm'\u001b[0m\u001b[1m)\u001b[0m                                                                               \u001b[2m             \u001b[0m\n"
      ]
     },
     "metadata": {},
     "output_type": "display_data"
    },
    {
     "data": {
      "application/vnd.jupyter.widget-view+json": {
       "model_id": "2e71e0ee1f1d4b28b1d0da1ddbea34c0",
       "version_major": 2,
       "version_minor": 0
      },
      "text/plain": [
       "Executing:   0%|          | 0/13 [00:00<?, ?cell/s]"
      ]
     },
     "metadata": {},
     "output_type": "display_data"
    },
    {
     "data": {
      "text/html": [
       "<pre style=\"white-space:pre;overflow-x:auto;line-height:normal;font-family:Menlo,'DejaVu Sans Mono',consolas,'Courier New',monospace\"><span style=\"color: #7fbfbf; text-decoration-color: #7fbfbf\">[14:48:23] </span>Analysis notebook executed: ..<span style=\"color: #800080; text-decoration-color: #800080\">/reports/v012/2024_12_18__14_48/</span><span style=\"color: #ff00ff; text-decoration-color: #ff00ff\">analysis_output_qc.ipynb</span>     <a href=\"file:///home/paltenmo/projects/crossplatform/analysis_and_reporting/triage.py\" target=\"_blank\"><span style=\"color: #7f7f7f; text-decoration-color: #7f7f7f\">triage.py</span></a><span style=\"color: #7f7f7f; text-decoration-color: #7f7f7f\">:</span><a href=\"file:///home/paltenmo/projects/crossplatform/analysis_and_reporting/triage.py#216\" target=\"_blank\"><span style=\"color: #7f7f7f; text-decoration-color: #7f7f7f\">216</span></a>\n",
       "</pre>\n"
      ],
      "text/plain": [
       "\u001b[2;36m[14:48:23]\u001b[0m\u001b[2;36m \u001b[0mAnalysis notebook executed: ..\u001b[35m/reports/v012/2024_12_18__14_48/\u001b[0m\u001b[95manalysis_output_qc.ipynb\u001b[0m     \u001b]8;id=256588;file:///home/paltenmo/projects/crossplatform/analysis_and_reporting/triage.py\u001b\\\u001b[2mtriage.py\u001b[0m\u001b]8;;\u001b\\\u001b[2m:\u001b[0m\u001b]8;id=887587;file:///home/paltenmo/projects/crossplatform/analysis_and_reporting/triage.py#216\u001b\\\u001b[2m216\u001b[0m\u001b]8;;\u001b\\\n"
      ]
     },
     "metadata": {},
     "output_type": "display_data"
    }
   ],
   "source": [
    "from analysis_and_reporting.triage import analyze_and_report\n",
    "\n",
    "error_path = os.path.join(\n",
    "    \"..\", \"reports\", \"v012\", \"01\",\n",
    "    \"qiskit_circuit_5q_10g_7553_24d42f_76b26a_error.json\")\n",
    "program_path = os.path.join(\n",
    "    \"..\", \"reports\", \"v012\", \"01\", \"qiskit_circuit_5q_10g_7553_24d42f.py\")\n",
    "\n",
    "analyze_and_report(\n",
    "    path_error_json=error_path,\n",
    "    path_program=program_path,\n",
    "    parent_report_folder=os.path.join(\"..\", \"reports\", \"v012\"),\n",
    "    clue_message=\"not equivalent\",\n",
    "    analysis_notebook='010_Triage_Not_Equivalence.ipynb')"
   ]
  },
  {
   "cell_type": "code",
   "execution_count": null,
   "metadata": {},
   "outputs": [],
   "source": []
  }
 ],
 "metadata": {
  "kernelspec": {
   "display_name": "crosspl",
   "language": "python",
   "name": "python3"
  },
  "language_info": {
   "codemirror_mode": {
    "name": "ipython",
    "version": 3
   },
   "file_extension": ".py",
   "mimetype": "text/x-python",
   "name": "python",
   "nbconvert_exporter": "python",
   "pygments_lexer": "ipython3",
   "version": "3.10.14"
  }
 },
 "nbformat": 4,
 "nbformat_minor": 2
}
