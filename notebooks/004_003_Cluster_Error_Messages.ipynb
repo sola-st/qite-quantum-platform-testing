{
 "cells": [
  {
   "cell_type": "code",
   "execution_count": 1,
   "metadata": {},
   "outputs": [],
   "source": [
    "import os\n",
    "import sys\n",
    "import json\n",
    "from pathlib import Path\n",
    "\n",
    "import pandas as pd\n",
    "import numpy as np\n",
    "import matplotlib.pyplot as plt\n",
    "import seaborn as sns\n",
    "\n",
    "from typing import List, Tuple, Dict, Any, Optional"
   ]
  },
  {
   "cell_type": "code",
   "execution_count": 2,
   "metadata": {
    "tags": [
     "parameters"
    ]
   },
   "outputs": [],
   "source": [
    "PATH_ROOT_DIR: str = \"..\"\n",
    "\n",
    "INFO_TO_USE_FOR_CLUSTERING: List[str] = [\n",
    "    'exception_message', 'essential_file_content']\n",
    "\n",
    "PCA_COMPONENTS: int = 3\n",
    "\n",
    "AI_MODEL: str = \"llama-3.1-70b-versatile\"  # or \"gpt-4o-mini\"\n",
    "\n",
    "N_POSITIVE_EXAMPLES_TO_SHOW_LLM: int = 5\n",
    "\n",
    "# Test run\n",
    "# DIR_PROGRAM_BANK = os.path.join(\"..\", \"program_bank\", \"v001\", \"2024_10_04__14_48__qiskit\")\n",
    "# Run with 10k programs: v001.yaml\n",
    "# program_bank/v001/2024_10_04__15_10__qiskit\n",
    "# DIR_PROGRAM_BANK = os.path.join(\"..\", \"program_bank\", \"v001\", \"2024_10_04__15_10__qiskit\")\n",
    "# program_bank/v002/2024_10_07__17_03__qiskit\n",
    "# DIR_PROGRAM_BANK: str = os.path.join(\n",
    "#     \"..\", \"program_bank\", \"v004\", \"2024_10_18__16_09__qiskit\")\n",
    "\n",
    "# DIR_SAMPLE_ERRORS: str = os.path.join(\n",
    "#     \"..\", \"program_bank\", \"v004\", \"2024_10_18__16_09__sample_errors\")\n",
    "\n",
    "\n",
    "# DIR_PROGRAM_BANK: str = os.path.join(\n",
    "#     \"..\", \"program_bank\", \"v005\", \"2024_10_22__14_17__qiskit\")\n",
    "# DIR_SAMPLE_ERRORS: str = os.path.join(\n",
    "#     \"..\", \"program_bank\", \"v005\", \"2024_10_22__14_17__sample_errors\")\n",
    "\n",
    "# inspected folders\n",
    "# program_bank/v005/2024_10_22__22_32__qiskit\n",
    "# program_bank/v007/2024_10_31__17_51__qiskit\n",
    "# program_bank/v008/2024_11_07__15_05__qiskit\n",
    "# program_bank/v009/2024_11_20__13_42__qiskit\n",
    "DIR_PROGRAM_BANK: str = os.path.join(\n",
    "    \"..\", \"program_bank\", \"v009\", \"2024_11_20__13_42__qiskit\")\n",
    "DIR_SAMPLE_ERRORS: str = os.path.join(\n",
    "    \"..\", \"program_bank\", \"v009\",\n",
    "    \"2024_11_20__13_42__sample_errors_no_pennylane\")\n",
    "\n",
    "\n",
    "PROMPT_CONTENT: str = \"BOTH_ERROR_AND_PROGRAM\""
   ]
  },
  {
   "cell_type": "code",
   "execution_count": 3,
   "metadata": {},
   "outputs": [
    {
     "name": "stdout",
     "output_type": "stream",
     "text": [
      "Current folder: /home/paltenmo/projects/crossplatform/notebooks\n",
      "PATH_ROOT_DIR: ..\n",
      "INFO_TO_USE_FOR_CLUSTERING: ['exception_message', 'essential_file_content']\n",
      "PCA_COMPONENTS: 3\n",
      "AI_MODEL: llama-3.1-70b-versatile\n",
      "N_POSITIVE_EXAMPLES_TO_SHOW_LLM: 5\n",
      "DIR_PROGRAM_BANK: ../program_bank/v009/2024_11_20__13_42__qiskit\n",
      "DIR_SAMPLE_ERRORS: ../program_bank/v009/2024_11_20__13_42__sample_errors_no_pennylane\n",
      "PROMPT_CONTENT: BOTH_ERROR_AND_PROGRAM\n"
     ]
    }
   ],
   "source": [
    "# print the current folder\n",
    "print(f\"Current folder: {os.getcwd()}\")\n",
    "\n",
    "all_global_vars = dict(globals().copy())\n",
    "# print all global variables\n",
    "for k, v in all_global_vars.items():\n",
    "    if k.isupper():\n",
    "        print(f\"{k}: {v}\")"
   ]
  },
  {
   "cell_type": "code",
   "execution_count": 4,
   "metadata": {},
   "outputs": [],
   "source": [
    "import openai\n",
    "import groq\n",
    "PATH_GROQ_TOKEN = os.path.join(PATH_ROOT_DIR, \"groq_token.txt\")\n",
    "GROQ_TOKEN = Path(PATH_GROQ_TOKEN).read_text().strip()\n",
    "\n",
    "# Export the GROQ_TOKEN as GROQ_API_KEY\n",
    "os.environ['GROQ_API_KEY'] = GROQ_TOKEN\n",
    "\n",
    "PATH_OPENAI_API_KEY = os.path.join(PATH_ROOT_DIR, \"openai_token.txt\")\n",
    "OPENAI_API_KEY = Path(PATH_OPENAI_API_KEY).read_text().strip()\n",
    "\n",
    "os.environ['OPENAI_API_KEY'] = OPENAI_API_KEY"
   ]
  },
  {
   "cell_type": "code",
   "execution_count": 5,
   "metadata": {},
   "outputs": [
    {
     "name": "stdout",
     "output_type": "stream",
     "text": [
      "Number of generated programs: 7168\n",
      "Number of errors: 14818\n"
     ]
    }
   ],
   "source": [
    "# count generated programs in the program bank\n",
    "count_generated_programs = len(list(Path(DIR_PROGRAM_BANK).rglob(\"*.py\")))\n",
    "print(f\"Number of generated programs: {count_generated_programs}\")\n",
    "\n",
    "# count the number of errors\n",
    "count_errors = len(list(Path(DIR_PROGRAM_BANK).rglob(\"*_error.json\")))\n",
    "print(f\"Number of errors: {count_errors}\")"
   ]
  },
  {
   "cell_type": "markdown",
   "metadata": {},
   "source": [
    "## Read Files"
   ]
  },
  {
   "cell_type": "code",
   "execution_count": 25,
   "metadata": {},
   "outputs": [
    {
     "name": "stderr",
     "output_type": "stream",
     "text": [
      "huggingface/tokenizers: The current process just got forked, after parallelism has already been used. Disabling parallelism to avoid deadlocks...\n",
      "To disable this warning, you can either:\n",
      "\t- Avoid using `tokenizers` before the fork if possible\n",
      "\t- Explicitly set the environment variable TOKENIZERS_PARALLELISM=(true | false)\n",
      "huggingface/tokenizers: The current process just got forked, after parallelism has already been used. Disabling parallelism to avoid deadlocks...\n",
      "To disable this warning, you can either:\n",
      "\t- Avoid using `tokenizers` before the fork if possible\n",
      "\t- Explicitly set the environment variable TOKENIZERS_PARALLELISM=(true | false)\n",
      "huggingface/tokenizers: The current process just got forked, after parallelism has already been used. Disabling parallelism to avoid deadlocks...\n",
      "To disable this warning, you can either:\n",
      "\t- Avoid using `tokenizers` before the fork if possible\n",
      "\t- Explicitly set the environment variable TOKENIZERS_PARALLELISM=(true | false)\n",
      "huggingface/tokenizers: The current process just got forked, after parallelism has already been used. Disabling parallelism to avoid deadlocks...\n",
      "To disable this warning, you can either:\n",
      "\t- Avoid using `tokenizers` before the fork if possible\n",
      "\t- Explicitly set the environment variable TOKENIZERS_PARALLELISM=(true | false)\n",
      "huggingface/tokenizers: The current process just got forked, after parallelism has already been used. Disabling parallelism to avoid deadlocks...\n",
      "To disable this warning, you can either:\n",
      "\t- Avoid using `tokenizers` before the fork if possible\n",
      "\t- Explicitly set the environment variable TOKENIZERS_PARALLELISM=(true | false)\n",
      "huggingface/tokenizers: The current process just got forked, after parallelism has already been used. Disabling parallelism to avoid deadlocks...\n",
      "To disable this warning, you can either:\n",
      "\t- Avoid using `tokenizers` before the fork if possible\n",
      "\t- Explicitly set the environment variable TOKENIZERS_PARALLELISM=(true | false)\n",
      "huggingface/tokenizers: The current process just got forked, after parallelism has already been used. Disabling parallelism to avoid deadlocks...\n",
      "To disable this warning, you can either:\n",
      "\t- Avoid using `tokenizers` before the fork if possible\n",
      "\t- Explicitly set the environment variable TOKENIZERS_PARALLELISM=(true | false)\n",
      "huggingface/tokenizers: The current process just got forked, after parallelism has already been used. Disabling parallelism to avoid deadlocks...\n",
      "To disable this warning, you can either:\n",
      "\t- Avoid using `tokenizers` before the fork if possible\n",
      "\t- Explicitly set the environment variable TOKENIZERS_PARALLELISM=(true | false)\n",
      "huggingface/tokenizers: The current process just got forked, after parallelism has already been used. Disabling parallelism to avoid deadlocks...\n",
      "To disable this warning, you can either:\n",
      "\t- Avoid using `tokenizers` before the fork if possible\n",
      "\t- Explicitly set the environment variable TOKENIZERS_PARALLELISM=(true | false)\n",
      "huggingface/tokenizers: The current process just got forked, after parallelism has already been used. Disabling parallelism to avoid deadlocks...\n",
      "To disable this warning, you can either:\n",
      "\t- Avoid using `tokenizers` before the fork if possible\n",
      "\t- Explicitly set the environment variable TOKENIZERS_PARALLELISM=(true | false)\n",
      "huggingface/tokenizers: The current process just got forked, after parallelism has already been used. Disabling parallelism to avoid deadlocks...\n",
      "To disable this warning, you can either:\n",
      "\t- Avoid using `tokenizers` before the fork if possible\n",
      "\t- Explicitly set the environment variable TOKENIZERS_PARALLELISM=(true | false)\n",
      "huggingface/tokenizers: The current process just got forked, after parallelism has already been used. Disabling parallelism to avoid deadlocks...\n",
      "To disable this warning, you can either:\n",
      "\t- Avoid using `tokenizers` before the fork if possible\n",
      "\t- Explicitly set the environment variable TOKENIZERS_PARALLELISM=(true | false)\n",
      "huggingface/tokenizers: The current process just got forked, after parallelism has already been used. Disabling parallelism to avoid deadlocks...\n",
      "To disable this warning, you can either:\n",
      "\t- Avoid using `tokenizers` before the fork if possible\n",
      "\t- Explicitly set the environment variable TOKENIZERS_PARALLELISM=(true | false)\n",
      "huggingface/tokenizers: The current process just got forked, after parallelism has already been used. Disabling parallelism to avoid deadlocks...\n",
      "To disable this warning, you can either:\n",
      "\t- Avoid using `tokenizers` before the fork if possible\n",
      "\t- Explicitly set the environment variable TOKENIZERS_PARALLELISM=(true | false)\n",
      "huggingface/tokenizers: The current process just got forked, after parallelism has already been used. Disabling parallelism to avoid deadlocks...\n",
      "To disable this warning, you can either:\n",
      "\t- Avoid using `tokenizers` before the fork if possible\n",
      "\t- Explicitly set the environment variable TOKENIZERS_PARALLELISM=(true | false)\n",
      "huggingface/tokenizers: The current process just got forked, after parallelism has already been used. Disabling parallelism to avoid deadlocks...\n",
      "To disable this warning, you can either:\n",
      "\t- Avoid using `tokenizers` before the fork if possible\n",
      "\t- Explicitly set the environment variable TOKENIZERS_PARALLELISM=(true | false)\n",
      "huggingface/tokenizers: The current process just got forked, after parallelism has already been used. Disabling parallelism to avoid deadlocks...\n",
      "To disable this warning, you can either:\n",
      "\t- Avoid using `tokenizers` before the fork if possible\n",
      "\t- Explicitly set the environment variable TOKENIZERS_PARALLELISM=(true | false)\n",
      "huggingface/tokenizers: The current process just got forked, after parallelism has already been used. Disabling parallelism to avoid deadlocks...\n",
      "To disable this warning, you can either:\n",
      "\t- Avoid using `tokenizers` before the fork if possible\n",
      "\t- Explicitly set the environment variable TOKENIZERS_PARALLELISM=(true | false)\n",
      "huggingface/tokenizers: The current process just got forked, after parallelism has already been used. Disabling parallelism to avoid deadlocks...\n",
      "To disable this warning, you can either:\n",
      "\t- Avoid using `tokenizers` before the fork if possible\n",
      "\t- Explicitly set the environment variable TOKENIZERS_PARALLELISM=(true | false)\n",
      "huggingface/tokenizers: The current process just got forked, after parallelism has already been used. Disabling parallelism to avoid deadlocks...\n",
      "To disable this warning, you can either:\n",
      "\t- Avoid using `tokenizers` before the fork if possible\n",
      "\t- Explicitly set the environment variable TOKENIZERS_PARALLELISM=(true | false)\n",
      "huggingface/tokenizers: The current process just got forked, after parallelism has already been used. Disabling parallelism to avoid deadlocks...\n",
      "To disable this warning, you can either:\n",
      "\t- Avoid using `tokenizers` before the fork if possible\n",
      "\t- Explicitly set the environment variable TOKENIZERS_PARALLELISM=(true | false)\n",
      "huggingface/tokenizers: The current process just got forked, after parallelism has already been used. Disabling parallelism to avoid deadlocks...\n",
      "To disable this warning, you can either:\n",
      "\t- Avoid using `tokenizers` before the fork if possible\n",
      "\t- Explicitly set the environment variable TOKENIZERS_PARALLELISM=(true | false)\n",
      "huggingface/tokenizers: The current process just got forked, after parallelism has already been used. Disabling parallelism to avoid deadlocks...\n",
      "To disable this warning, you can either:\n",
      "\t- Avoid using `tokenizers` before the fork if possible\n",
      "\t- Explicitly set the environment variable TOKENIZERS_PARALLELISM=(true | false)\n",
      "huggingface/tokenizers: The current process just got forked, after parallelism has already been used. Disabling parallelism to avoid deadlocks...\n",
      "To disable this warning, you can either:\n",
      "\t- Avoid using `tokenizers` before the fork if possible\n",
      "\t- Explicitly set the environment variable TOKENIZERS_PARALLELISM=(true | false)\n",
      "huggingface/tokenizers: The current process just got forked, after parallelism has already been used. Disabling parallelism to avoid deadlocks...\n",
      "To disable this warning, you can either:\n",
      "\t- Avoid using `tokenizers` before the fork if possible\n",
      "\t- Explicitly set the environment variable TOKENIZERS_PARALLELISM=(true | false)\n",
      "huggingface/tokenizers: The current process just got forked, after parallelism has already been used. Disabling parallelism to avoid deadlocks...\n",
      "To disable this warning, you can either:\n",
      "\t- Avoid using `tokenizers` before the fork if possible\n",
      "\t- Explicitly set the environment variable TOKENIZERS_PARALLELISM=(true | false)\n",
      "huggingface/tokenizers: The current process just got forked, after parallelism has already been used. Disabling parallelism to avoid deadlocks...\n",
      "To disable this warning, you can either:\n",
      "\t- Avoid using `tokenizers` before the fork if possible\n",
      "\t- Explicitly set the environment variable TOKENIZERS_PARALLELISM=(true | false)\n",
      "huggingface/tokenizers: The current process just got forked, after parallelism has already been used. Disabling parallelism to avoid deadlocks...\n",
      "To disable this warning, you can either:\n",
      "\t- Avoid using `tokenizers` before the fork if possible\n",
      "\t- Explicitly set the environment variable TOKENIZERS_PARALLELISM=(true | false)\n",
      "huggingface/tokenizers: The current process just got forked, after parallelism has already been used. Disabling parallelism to avoid deadlocks...\n",
      "To disable this warning, you can either:\n",
      "\t- Avoid using `tokenizers` before the fork if possible\n",
      "\t- Explicitly set the environment variable TOKENIZERS_PARALLELISM=(true | false)\n",
      "huggingface/tokenizers: The current process just got forked, after parallelism has already been used. Disabling parallelism to avoid deadlocks...\n",
      "To disable this warning, you can either:\n",
      "\t- Avoid using `tokenizers` before the fork if possible\n",
      "\t- Explicitly set the environment variable TOKENIZERS_PARALLELISM=(true | false)\n",
      "huggingface/tokenizers: The current process just got forked, after parallelism has already been used. Disabling parallelism to avoid deadlocks...\n",
      "To disable this warning, you can either:\n",
      "\t- Avoid using `tokenizers` before the fork if possible\n",
      "\t- Explicitly set the environment variable TOKENIZERS_PARALLELISM=(true | false)\n",
      "huggingface/tokenizers: The current process just got forked, after parallelism has already been used. Disabling parallelism to avoid deadlocks...\n",
      "To disable this warning, you can either:\n",
      "\t- Avoid using `tokenizers` before the fork if possible\n",
      "\t- Explicitly set the environment variable TOKENIZERS_PARALLELISM=(true | false)\n",
      "huggingface/tokenizers: The current process just got forked, after parallelism has already been used. Disabling parallelism to avoid deadlocks...\n",
      "To disable this warning, you can either:\n",
      "\t- Avoid using `tokenizers` before the fork if possible\n",
      "\t- Explicitly set the environment variable TOKENIZERS_PARALLELISM=(true | false)\n",
      "huggingface/tokenizers: The current process just got forked, after parallelism has already been used. Disabling parallelism to avoid deadlocks...\n",
      "To disable this warning, you can either:\n",
      "\t- Avoid using `tokenizers` before the fork if possible\n",
      "\t- Explicitly set the environment variable TOKENIZERS_PARALLELISM=(true | false)\n",
      "huggingface/tokenizers: The current process just got forked, after parallelism has already been used. Disabling parallelism to avoid deadlocks...\n",
      "To disable this warning, you can either:\n",
      "\t- Avoid using `tokenizers` before the fork if possible\n",
      "\t- Explicitly set the environment variable TOKENIZERS_PARALLELISM=(true | false)\n",
      "huggingface/tokenizers: The current process just got forked, after parallelism has already been used. Disabling parallelism to avoid deadlocks...\n",
      "To disable this warning, you can either:\n",
      "\t- Avoid using `tokenizers` before the fork if possible\n",
      "\t- Explicitly set the environment variable TOKENIZERS_PARALLELISM=(true | false)\n",
      "huggingface/tokenizers: The current process just got forked, after parallelism has already been used. Disabling parallelism to avoid deadlocks...\n",
      "To disable this warning, you can either:\n",
      "\t- Avoid using `tokenizers` before the fork if possible\n",
      "\t- Explicitly set the environment variable TOKENIZERS_PARALLELISM=(true | false)\n",
      "huggingface/tokenizers: The current process just got forked, after parallelism has already been used. Disabling parallelism to avoid deadlocks...\n",
      "To disable this warning, you can either:\n",
      "\t- Avoid using `tokenizers` before the fork if possible\n",
      "\t- Explicitly set the environment variable TOKENIZERS_PARALLELISM=(true | false)\n",
      "huggingface/tokenizers: The current process just got forked, after parallelism has already been used. Disabling parallelism to avoid deadlocks...\n",
      "To disable this warning, you can either:\n",
      "\t- Avoid using `tokenizers` before the fork if possible\n",
      "\t- Explicitly set the environment variable TOKENIZERS_PARALLELISM=(true | false)\n",
      "huggingface/tokenizers: The current process just got forked, after parallelism has already been used. Disabling parallelism to avoid deadlocks...\n",
      "To disable this warning, you can either:\n",
      "\t- Avoid using `tokenizers` before the fork if possible\n",
      "\t- Explicitly set the environment variable TOKENIZERS_PARALLELISM=(true | false)\n",
      "huggingface/tokenizers: The current process just got forked, after parallelism has already been used. Disabling parallelism to avoid deadlocks...\n",
      "To disable this warning, you can either:\n",
      "\t- Avoid using `tokenizers` before the fork if possible\n",
      "\t- Explicitly set the environment variable TOKENIZERS_PARALLELISM=(true | false)\n",
      "huggingface/tokenizers: The current process just got forked, after parallelism has already been used. Disabling parallelism to avoid deadlocks...\n",
      "To disable this warning, you can either:\n",
      "\t- Avoid using `tokenizers` before the fork if possible\n",
      "\t- Explicitly set the environment variable TOKENIZERS_PARALLELISM=(true | false)\n",
      "huggingface/tokenizers: The current process just got forked, after parallelism has already been used. Disabling parallelism to avoid deadlocks...\n",
      "To disable this warning, you can either:\n",
      "\t- Avoid using `tokenizers` before the fork if possible\n",
      "\t- Explicitly set the environment variable TOKENIZERS_PARALLELISM=(true | false)\n",
      "huggingface/tokenizers: The current process just got forked, after parallelism has already been used. Disabling parallelism to avoid deadlocks...\n",
      "To disable this warning, you can either:\n",
      "\t- Avoid using `tokenizers` before the fork if possible\n",
      "\t- Explicitly set the environment variable TOKENIZERS_PARALLELISM=(true | false)\n",
      "huggingface/tokenizers: The current process just got forked, after parallelism has already been used. Disabling parallelism to avoid deadlocks...\n",
      "To disable this warning, you can either:\n",
      "\t- Avoid using `tokenizers` before the fork if possible\n",
      "\t- Explicitly set the environment variable TOKENIZERS_PARALLELISM=(true | false)\n",
      "huggingface/tokenizers: The current process just got forked, after parallelism has already been used. Disabling parallelism to avoid deadlocks...\n",
      "To disable this warning, you can either:\n",
      "\t- Avoid using `tokenizers` before the fork if possible\n",
      "\t- Explicitly set the environment variable TOKENIZERS_PARALLELISM=(true | false)\n",
      "huggingface/tokenizers: The current process just got forked, after parallelism has already been used. Disabling parallelism to avoid deadlocks...\n",
      "To disable this warning, you can either:\n",
      "\t- Avoid using `tokenizers` before the fork if possible\n",
      "\t- Explicitly set the environment variable TOKENIZERS_PARALLELISM=(true | false)\n",
      "huggingface/tokenizers: The current process just got forked, after parallelism has already been used. Disabling parallelism to avoid deadlocks...\n",
      "To disable this warning, you can either:\n",
      "\t- Avoid using `tokenizers` before the fork if possible\n",
      "\t- Explicitly set the environment variable TOKENIZERS_PARALLELISM=(true | false)\n",
      "huggingface/tokenizers: The current process just got forked, after parallelism has already been used. Disabling parallelism to avoid deadlocks...\n",
      "To disable this warning, you can either:\n",
      "\t- Avoid using `tokenizers` before the fork if possible\n",
      "\t- Explicitly set the environment variable TOKENIZERS_PARALLELISM=(true | false)\n",
      "huggingface/tokenizers: The current process just got forked, after parallelism has already been used. Disabling parallelism to avoid deadlocks...\n",
      "To disable this warning, you can either:\n",
      "\t- Avoid using `tokenizers` before the fork if possible\n",
      "\t- Explicitly set the environment variable TOKENIZERS_PARALLELISM=(true | false)\n",
      "huggingface/tokenizers: The current process just got forked, after parallelism has already been used. Disabling parallelism to avoid deadlocks...\n",
      "To disable this warning, you can either:\n",
      "\t- Avoid using `tokenizers` before the fork if possible\n",
      "\t- Explicitly set the environment variable TOKENIZERS_PARALLELISM=(true | false)\n",
      "huggingface/tokenizers: The current process just got forked, after parallelism has already been used. Disabling parallelism to avoid deadlocks...\n",
      "To disable this warning, you can either:\n",
      "\t- Avoid using `tokenizers` before the fork if possible\n",
      "\t- Explicitly set the environment variable TOKENIZERS_PARALLELISM=(true | false)\n",
      "huggingface/tokenizers: The current process just got forked, after parallelism has already been used. Disabling parallelism to avoid deadlocks...\n",
      "To disable this warning, you can either:\n",
      "\t- Avoid using `tokenizers` before the fork if possible\n",
      "\t- Explicitly set the environment variable TOKENIZERS_PARALLELISM=(true | false)\n",
      "huggingface/tokenizers: The current process just got forked, after parallelism has already been used. Disabling parallelism to avoid deadlocks...\n",
      "To disable this warning, you can either:\n",
      "\t- Avoid using `tokenizers` before the fork if possible\n",
      "\t- Explicitly set the environment variable TOKENIZERS_PARALLELISM=(true | false)\n",
      "huggingface/tokenizers: The current process just got forked, after parallelism has already been used. Disabling parallelism to avoid deadlocks...\n",
      "To disable this warning, you can either:\n",
      "\t- Avoid using `tokenizers` before the fork if possible\n",
      "\t- Explicitly set the environment variable TOKENIZERS_PARALLELISM=(true | false)\n",
      "huggingface/tokenizers: The current process just got forked, after parallelism has already been used. Disabling parallelism to avoid deadlocks...\n",
      "To disable this warning, you can either:\n",
      "\t- Avoid using `tokenizers` before the fork if possible\n",
      "\t- Explicitly set the environment variable TOKENIZERS_PARALLELISM=(true | false)\n",
      "huggingface/tokenizers: The current process just got forked, after parallelism has already been used. Disabling parallelism to avoid deadlocks...\n",
      "To disable this warning, you can either:\n",
      "\t- Avoid using `tokenizers` before the fork if possible\n",
      "\t- Explicitly set the environment variable TOKENIZERS_PARALLELISM=(true | false)\n",
      "huggingface/tokenizers: The current process just got forked, after parallelism has already been used. Disabling parallelism to avoid deadlocks...\n",
      "To disable this warning, you can either:\n",
      "\t- Avoid using `tokenizers` before the fork if possible\n",
      "\t- Explicitly set the environment variable TOKENIZERS_PARALLELISM=(true | false)\n",
      "huggingface/tokenizers: The current process just got forked, after parallelism has already been used. Disabling parallelism to avoid deadlocks...\n",
      "To disable this warning, you can either:\n",
      "\t- Avoid using `tokenizers` before the fork if possible\n",
      "\t- Explicitly set the environment variable TOKENIZERS_PARALLELISM=(true | false)\n",
      "huggingface/tokenizers: The current process just got forked, after parallelism has already been used. Disabling parallelism to avoid deadlocks...\n",
      "To disable this warning, you can either:\n",
      "\t- Avoid using `tokenizers` before the fork if possible\n",
      "\t- Explicitly set the environment variable TOKENIZERS_PARALLELISM=(true | false)\n",
      "huggingface/tokenizers: The current process just got forked, after parallelism has already been used. Disabling parallelism to avoid deadlocks...\n",
      "To disable this warning, you can either:\n",
      "\t- Avoid using `tokenizers` before the fork if possible\n",
      "\t- Explicitly set the environment variable TOKENIZERS_PARALLELISM=(true | false)\n",
      "huggingface/tokenizers: The current process just got forked, after parallelism has already been used. Disabling parallelism to avoid deadlocks...\n",
      "To disable this warning, you can either:\n",
      "\t- Avoid using `tokenizers` before the fork if possible\n",
      "\t- Explicitly set the environment variable TOKENIZERS_PARALLELISM=(true | false)\n",
      "huggingface/tokenizers: The current process just got forked, after parallelism has already been used. Disabling parallelism to avoid deadlocks...\n",
      "To disable this warning, you can either:\n",
      "\t- Avoid using `tokenizers` before the fork if possible\n",
      "\t- Explicitly set the environment variable TOKENIZERS_PARALLELISM=(true | false)\n",
      "huggingface/tokenizers: The current process just got forked, after parallelism has already been used. Disabling parallelism to avoid deadlocks...\n",
      "To disable this warning, you can either:\n",
      "\t- Avoid using `tokenizers` before the fork if possible\n",
      "\t- Explicitly set the environment variable TOKENIZERS_PARALLELISM=(true | false)\n",
      "huggingface/tokenizers: The current process just got forked, after parallelism has already been used. Disabling parallelism to avoid deadlocks...\n",
      "To disable this warning, you can either:\n",
      "\t- Avoid using `tokenizers` before the fork if possible\n",
      "\t- Explicitly set the environment variable TOKENIZERS_PARALLELISM=(true | false)\n",
      "huggingface/tokenizers: The current process just got forked, after parallelism has already been used. Disabling parallelism to avoid deadlocks...\n",
      "To disable this warning, you can either:\n",
      "\t- Avoid using `tokenizers` before the fork if possible\n",
      "\t- Explicitly set the environment variable TOKENIZERS_PARALLELISM=(true | false)\n",
      "huggingface/tokenizers: The current process just got forked, after parallelism has already been used. Disabling parallelism to avoid deadlocks...\n",
      "To disable this warning, you can either:\n",
      "\t- Avoid using `tokenizers` before the fork if possible\n",
      "\t- Explicitly set the environment variable TOKENIZERS_PARALLELISM=(true | false)\n",
      "huggingface/tokenizers: The current process just got forked, after parallelism has already been used. Disabling parallelism to avoid deadlocks...\n",
      "To disable this warning, you can either:\n",
      "\t- Avoid using `tokenizers` before the fork if possible\n",
      "\t- Explicitly set the environment variable TOKENIZERS_PARALLELISM=(true | false)\n",
      "huggingface/tokenizers: The current process just got forked, after parallelism has already been used. Disabling parallelism to avoid deadlocks...\n",
      "To disable this warning, you can either:\n",
      "\t- Avoid using `tokenizers` before the fork if possible\n",
      "\t- Explicitly set the environment variable TOKENIZERS_PARALLELISM=(true | false)\n",
      "huggingface/tokenizers: The current process just got forked, after parallelism has already been used. Disabling parallelism to avoid deadlocks...\n",
      "To disable this warning, you can either:\n",
      "\t- Avoid using `tokenizers` before the fork if possible\n",
      "\t- Explicitly set the environment variable TOKENIZERS_PARALLELISM=(true | false)\n",
      "huggingface/tokenizers: The current process just got forked, after parallelism has already been used. Disabling parallelism to avoid deadlocks...\n",
      "To disable this warning, you can either:\n",
      "\t- Avoid using `tokenizers` before the fork if possible\n",
      "\t- Explicitly set the environment variable TOKENIZERS_PARALLELISM=(true | false)\n",
      "huggingface/tokenizers: The current process just got forked, after parallelism has already been used. Disabling parallelism to avoid deadlocks...\n",
      "To disable this warning, you can either:\n",
      "\t- Avoid using `tokenizers` before the fork if possible\n",
      "\t- Explicitly set the environment variable TOKENIZERS_PARALLELISM=(true | false)\n",
      "huggingface/tokenizers: The current process just got forked, after parallelism has already been used. Disabling parallelism to avoid deadlocks...\n",
      "To disable this warning, you can either:\n",
      "\t- Avoid using `tokenizers` before the fork if possible\n",
      "\t- Explicitly set the environment variable TOKENIZERS_PARALLELISM=(true | false)\n",
      "huggingface/tokenizers: The current process just got forked, after parallelism has already been used. Disabling parallelism to avoid deadlocks...\n",
      "To disable this warning, you can either:\n",
      "\t- Avoid using `tokenizers` before the fork if possible\n",
      "\t- Explicitly set the environment variable TOKENIZERS_PARALLELISM=(true | false)\n",
      "huggingface/tokenizers: The current process just got forked, after parallelism has already been used. Disabling parallelism to avoid deadlocks...\n",
      "To disable this warning, you can either:\n",
      "\t- Avoid using `tokenizers` before the fork if possible\n",
      "\t- Explicitly set the environment variable TOKENIZERS_PARALLELISM=(true | false)\n",
      "huggingface/tokenizers: The current process just got forked, after parallelism has already been used. Disabling parallelism to avoid deadlocks...\n",
      "To disable this warning, you can either:\n",
      "\t- Avoid using `tokenizers` before the fork if possible\n",
      "\t- Explicitly set the environment variable TOKENIZERS_PARALLELISM=(true | false)\n",
      "huggingface/tokenizers: The current process just got forked, after parallelism has already been used. Disabling parallelism to avoid deadlocks...\n",
      "To disable this warning, you can either:\n",
      "\t- Avoid using `tokenizers` before the fork if possible\n",
      "\t- Explicitly set the environment variable TOKENIZERS_PARALLELISM=(true | false)\n",
      "huggingface/tokenizers: The current process just got forked, after parallelism has already been used. Disabling parallelism to avoid deadlocks...\n",
      "To disable this warning, you can either:\n",
      "\t- Avoid using `tokenizers` before the fork if possible\n",
      "\t- Explicitly set the environment variable TOKENIZERS_PARALLELISM=(true | false)\n",
      "huggingface/tokenizers: The current process just got forked, after parallelism has already been used. Disabling parallelism to avoid deadlocks...\n",
      "To disable this warning, you can either:\n",
      "\t- Avoid using `tokenizers` before the fork if possible\n",
      "\t- Explicitly set the environment variable TOKENIZERS_PARALLELISM=(true | false)\n",
      "huggingface/tokenizers: The current process just got forked, after parallelism has already been used. Disabling parallelism to avoid deadlocks...\n",
      "To disable this warning, you can either:\n",
      "\t- Avoid using `tokenizers` before the fork if possible\n",
      "\t- Explicitly set the environment variable TOKENIZERS_PARALLELISM=(true | false)\n",
      "huggingface/tokenizers: The current process just got forked, after parallelism has already been used. Disabling parallelism to avoid deadlocks...\n",
      "To disable this warning, you can either:\n",
      "\t- Avoid using `tokenizers` before the fork if possible\n",
      "\t- Explicitly set the environment variable TOKENIZERS_PARALLELISM=(true | false)\n",
      "huggingface/tokenizers: The current process just got forked, after parallelism has already been used. Disabling parallelism to avoid deadlocks...\n",
      "To disable this warning, you can either:\n",
      "\t- Avoid using `tokenizers` before the fork if possible\n",
      "\t- Explicitly set the environment variable TOKENIZERS_PARALLELISM=(true | false)\n",
      "huggingface/tokenizers: The current process just got forked, after parallelism has already been used. Disabling parallelism to avoid deadlocks...\n",
      "To disable this warning, you can either:\n",
      "\t- Avoid using `tokenizers` before the fork if possible\n",
      "\t- Explicitly set the environment variable TOKENIZERS_PARALLELISM=(true | false)\n",
      "huggingface/tokenizers: The current process just got forked, after parallelism has already been used. Disabling parallelism to avoid deadlocks...\n",
      "To disable this warning, you can either:\n",
      "\t- Avoid using `tokenizers` before the fork if possible\n",
      "\t- Explicitly set the environment variable TOKENIZERS_PARALLELISM=(true | false)\n",
      "huggingface/tokenizers: The current process just got forked, after parallelism has already been used. Disabling parallelism to avoid deadlocks...\n",
      "To disable this warning, you can either:\n",
      "\t- Avoid using `tokenizers` before the fork if possible\n",
      "\t- Explicitly set the environment variable TOKENIZERS_PARALLELISM=(true | false)\n",
      "huggingface/tokenizers: The current process just got forked, after parallelism has already been used. Disabling parallelism to avoid deadlocks...\n",
      "To disable this warning, you can either:\n",
      "\t- Avoid using `tokenizers` before the fork if possible\n",
      "\t- Explicitly set the environment variable TOKENIZERS_PARALLELISM=(true | false)\n",
      "huggingface/tokenizers: The current process just got forked, after parallelism has already been used. Disabling parallelism to avoid deadlocks...\n",
      "To disable this warning, you can either:\n",
      "\t- Avoid using `tokenizers` before the fork if possible\n",
      "\t- Explicitly set the environment variable TOKENIZERS_PARALLELISM=(true | false)\n",
      "huggingface/tokenizers: The current process just got forked, after parallelism has already been used. Disabling parallelism to avoid deadlocks...\n",
      "To disable this warning, you can either:\n",
      "\t- Avoid using `tokenizers` before the fork if possible\n",
      "\t- Explicitly set the environment variable TOKENIZERS_PARALLELISM=(true | false)\n",
      "huggingface/tokenizers: The current process just got forked, after parallelism has already been used. Disabling parallelism to avoid deadlocks...\n",
      "To disable this warning, you can either:\n",
      "\t- Avoid using `tokenizers` before the fork if possible\n",
      "\t- Explicitly set the environment variable TOKENIZERS_PARALLELISM=(true | false)\n",
      "huggingface/tokenizers: The current process just got forked, after parallelism has already been used. Disabling parallelism to avoid deadlocks...\n",
      "To disable this warning, you can either:\n",
      "\t- Avoid using `tokenizers` before the fork if possible\n",
      "\t- Explicitly set the environment variable TOKENIZERS_PARALLELISM=(true | false)\n",
      "huggingface/tokenizers: The current process just got forked, after parallelism has already been used. Disabling parallelism to avoid deadlocks...\n",
      "To disable this warning, you can either:\n",
      "\t- Avoid using `tokenizers` before the fork if possible\n",
      "\t- Explicitly set the environment variable TOKENIZERS_PARALLELISM=(true | false)\n",
      "huggingface/tokenizers: The current process just got forked, after parallelism has already been used. Disabling parallelism to avoid deadlocks...\n",
      "To disable this warning, you can either:\n",
      "\t- Avoid using `tokenizers` before the fork if possible\n",
      "\t- Explicitly set the environment variable TOKENIZERS_PARALLELISM=(true | false)\n",
      "huggingface/tokenizers: The current process just got forked, after parallelism has already been used. Disabling parallelism to avoid deadlocks...\n",
      "To disable this warning, you can either:\n",
      "\t- Avoid using `tokenizers` before the fork if possible\n",
      "\t- Explicitly set the environment variable TOKENIZERS_PARALLELISM=(true | false)\n",
      "huggingface/tokenizers: The current process just got forked, after parallelism has already been used. Disabling parallelism to avoid deadlocks...\n",
      "To disable this warning, you can either:\n",
      "\t- Avoid using `tokenizers` before the fork if possible\n",
      "\t- Explicitly set the environment variable TOKENIZERS_PARALLELISM=(true | false)\n",
      "huggingface/tokenizers: The current process just got forked, after parallelism has already been used. Disabling parallelism to avoid deadlocks...\n",
      "To disable this warning, you can either:\n",
      "\t- Avoid using `tokenizers` before the fork if possible\n",
      "\t- Explicitly set the environment variable TOKENIZERS_PARALLELISM=(true | false)\n",
      "huggingface/tokenizers: The current process just got forked, after parallelism has already been used. Disabling parallelism to avoid deadlocks...\n",
      "To disable this warning, you can either:\n",
      "\t- Avoid using `tokenizers` before the fork if possible\n",
      "\t- Explicitly set the environment variable TOKENIZERS_PARALLELISM=(true | false)\n"
     ]
    },
    {
     "name": "stdout",
     "output_type": "stream",
     "text": [
      "Number of errors: 14818\n"
     ]
    }
   ],
   "source": [
    "from multiprocessing import Pool\n",
    "import re\n",
    "\n",
    "\n",
    "def read_json_file(file_path: str) -> Dict[str, Any]:\n",
    "    with open(file_path, 'r') as file:\n",
    "        data = json.load(file)\n",
    "        data[\"error_file\"] = os.path.basename(file_path)\n",
    "        return data\n",
    "\n",
    "\n",
    "def read_all_programs(dir_path: str) -> pd.DataFrame:\n",
    "    json_files = [os.path.join(dir_path, f) for f in os.listdir(\n",
    "        dir_path) if re.match(r'.*_error\\.json$', f)]\n",
    "    records = []\n",
    "\n",
    "    with Pool() as pool:\n",
    "        results = pool.map(read_json_file, json_files)\n",
    "        records.extend(results)\n",
    "\n",
    "    return pd.DataFrame(records)\n",
    "\n",
    "\n",
    "# Use the function to read all programs\n",
    "df_errors = read_all_programs(DIR_PROGRAM_BANK)\n",
    "\n",
    "# augment the dataframe with the proram content\n",
    "\n",
    "\n",
    "def read_file_content(file_name: str) -> str:\n",
    "    file_path = os.path.join(DIR_PROGRAM_BANK, file_name)\n",
    "    with open(file_path, 'r') as file:\n",
    "        return file.read()\n",
    "\n",
    "\n",
    "# Use parallel apply to read the file content\n",
    "with Pool() as pool:\n",
    "    df_errors['file_content'] = pool.map(\n",
    "        read_file_content, df_errors['current_file'])\n",
    "\n",
    "# Alternatively, you can use apply without parallel processing\n",
    "# df_errors['file_content'] = df_errors['current_file'].apply(read_file_content)\n",
    "\n",
    "df_errors.head()\n",
    "n_errors = len(df_errors)\n",
    "print(f\"Number of errors: {n_errors}\")"
   ]
  },
  {
   "cell_type": "markdown",
   "metadata": {},
   "source": [
    "# Exclude Pennylane (errors)"
   ]
  },
  {
   "cell_type": "code",
   "execution_count": 9,
   "metadata": {},
   "outputs": [
    {
     "name": "stdout",
     "output_type": "stream",
     "text": [
      "Number of errors without PennyLane: 8719\n"
     ]
    }
   ],
   "source": [
    "df_errors['involved_functions'] = df_errors['involved_functions'].astype(\n",
    "    str)\n",
    "df_errors = df_errors[\n",
    "    ~df_errors['involved_functions'].str.contains('pennylane')]\n",
    "n_errors = len(df_errors)\n",
    "print(f\"Number of errors without PennyLane: {n_errors}\")"
   ]
  },
  {
   "cell_type": "markdown",
   "metadata": {},
   "source": [
    "# Minimize Sample"
   ]
  },
  {
   "cell_type": "code",
   "execution_count": null,
   "metadata": {},
   "outputs": [
    {
     "name": "stdout",
     "output_type": "stream",
     "text": [
      "Copying ../program_bank/v009/2024_11_20__13_42__qiskit/qiskit_circuit_5q_10g_1511_600fe6_0353c4_error.json to ../program_bank/v009/2024_11_20__13_42__sample_errors_no_pennylane\n",
      "Copying ../program_bank/v009/2024_11_20__13_42__qiskit/qiskit_circuit_5q_10g_1511_600fe6.py to ../program_bank/v009/2024_11_20__13_42__sample_errors_no_pennylane\n",
      "Copying ../program_bank/v009/2024_11_20__13_42__qiskit/qiskit_circuit_5q_10g_5923_1fb05d_394db9_error.json to ../program_bank/v009/2024_11_20__13_42__sample_errors_no_pennylane\n",
      "Copying ../program_bank/v009/2024_11_20__13_42__qiskit/qiskit_circuit_5q_10g_5923_1fb05d.py to ../program_bank/v009/2024_11_20__13_42__sample_errors_no_pennylane\n",
      "Copying ../program_bank/v009/2024_11_20__13_42__qiskit/qiskit_circuit_5q_10g_5585_30abba_76b749_error.json to ../program_bank/v009/2024_11_20__13_42__sample_errors_no_pennylane\n",
      "Copying ../program_bank/v009/2024_11_20__13_42__qiskit/qiskit_circuit_5q_10g_5585_30abba.py to ../program_bank/v009/2024_11_20__13_42__sample_errors_no_pennylane\n",
      "Copying ../program_bank/v009/2024_11_20__13_42__qiskit/qiskit_circuit_5q_10g_5722_074956_37938c_error.json to ../program_bank/v009/2024_11_20__13_42__sample_errors_no_pennylane\n",
      "Copying ../program_bank/v009/2024_11_20__13_42__qiskit/qiskit_circuit_5q_10g_5722_074956.py to ../program_bank/v009/2024_11_20__13_42__sample_errors_no_pennylane\n",
      "Copying ../program_bank/v009/2024_11_20__13_42__qiskit/qiskit_circuit_5q_10g_2151_e092a7_ad5f21_error.json to ../program_bank/v009/2024_11_20__13_42__sample_errors_no_pennylane\n",
      "Copying ../program_bank/v009/2024_11_20__13_42__qiskit/qiskit_circuit_5q_10g_2151_e092a7.py to ../program_bank/v009/2024_11_20__13_42__sample_errors_no_pennylane\n",
      "Copying ../program_bank/v009/2024_11_20__13_42__qiskit/qiskit_circuit_5q_10g_5608_214aee_3d00e0_error.json to ../program_bank/v009/2024_11_20__13_42__sample_errors_no_pennylane\n",
      "Copying ../program_bank/v009/2024_11_20__13_42__qiskit/qiskit_circuit_5q_10g_5608_214aee.py to ../program_bank/v009/2024_11_20__13_42__sample_errors_no_pennylane\n",
      "Copying ../program_bank/v009/2024_11_20__13_42__qiskit/qiskit_circuit_5q_10g_976_54c509_045d23_error.json to ../program_bank/v009/2024_11_20__13_42__sample_errors_no_pennylane\n",
      "Copying ../program_bank/v009/2024_11_20__13_42__qiskit/qiskit_circuit_5q_10g_976_54c509.py to ../program_bank/v009/2024_11_20__13_42__sample_errors_no_pennylane\n",
      "Copying ../program_bank/v009/2024_11_20__13_42__qiskit/qiskit_circuit_5q_10g_5745_884e27_157b8a_error.json to ../program_bank/v009/2024_11_20__13_42__sample_errors_no_pennylane\n",
      "Copying ../program_bank/v009/2024_11_20__13_42__qiskit/qiskit_circuit_5q_10g_5745_884e27.py to ../program_bank/v009/2024_11_20__13_42__sample_errors_no_pennylane\n",
      "Copying ../program_bank/v009/2024_11_20__13_42__qiskit/qiskit_circuit_5q_10g_1009_f72144_e4d6f6_error.json to ../program_bank/v009/2024_11_20__13_42__sample_errors_no_pennylane\n",
      "Copying ../program_bank/v009/2024_11_20__13_42__qiskit/qiskit_circuit_5q_10g_1009_f72144.py to ../program_bank/v009/2024_11_20__13_42__sample_errors_no_pennylane\n",
      "Copying ../program_bank/v009/2024_11_20__13_42__qiskit/qiskit_circuit_5q_10g_5266_525689_f43fd2_error.json to ../program_bank/v009/2024_11_20__13_42__sample_errors_no_pennylane\n",
      "Copying ../program_bank/v009/2024_11_20__13_42__qiskit/qiskit_circuit_5q_10g_5266_525689.py to ../program_bank/v009/2024_11_20__13_42__sample_errors_no_pennylane\n"
     ]
    }
   ],
   "source": [
    "import shutil\n",
    "\n",
    "# keep only errors with `The circuits are not equivalent` in the exception message\n",
    "df_errors = df_errors[df_errors['exception_message'].str.contains(\n",
    "    'The circuits are not equivalent')]\n",
    "\n",
    "\n",
    "SAMPLE_SIZE = 10\n",
    "actual_sample_size = min(SAMPLE_SIZE, len(df_errors))\n",
    "\n",
    "\n",
    "# pick a sample of error files\n",
    "sample_errors = df_errors.sample(actual_sample_size, random_state=42)\n",
    "\n",
    "# get the paths of the error files\n",
    "sample_errors_paths = [os.path.join(\n",
    "    DIR_PROGRAM_BANK, f) for f in sample_errors['error_file']]\n",
    "\n",
    "\n",
    "def get_corresponding_program_file(path_error_file: str) -> str:\n",
    "    # remove the fixed length prefix \"_ba6b02_error.json\"\n",
    "    return path_error_file[:-18] + \".py\"\n",
    "\n",
    "\n",
    "def copy_errors_to_sample_folder(\n",
    "        sample_errors_paths: List[str],\n",
    "        dir_sample_errors: str):\n",
    "    os.makedirs(dir_sample_errors, exist_ok=True)\n",
    "    for file_path in sample_errors_paths:\n",
    "        shutil.copy(file_path, dir_sample_errors)\n",
    "        print(f\"Copying {file_path} to {dir_sample_errors}\")\n",
    "        corresponding_program_file = get_corresponding_program_file(file_path)\n",
    "        shutil.copy(corresponding_program_file, dir_sample_errors)\n",
    "        print(f\"Copying {corresponding_program_file} to {dir_sample_errors}\")\n",
    "\n",
    "\n",
    "copy_errors_to_sample_folder(sample_errors_paths, DIR_SAMPLE_ERRORS)"
   ]
  },
  {
   "cell_type": "code",
   "execution_count": 11,
   "metadata": {},
   "outputs": [
    {
     "data": {
      "text/plain": [
       "12723    The circuits are not equivalent: /workspace/qi...\n",
       "693      The circuits are not equivalent: /workspace/qi...\n",
       "10624    The circuits are not equivalent: /workspace/qi...\n",
       "3913     The circuits are not equivalent: /workspace/qi...\n",
       "5149     The circuits are not equivalent: /workspace/qi...\n",
       "11150    The circuits are not equivalent: /workspace/qi...\n",
       "842      The circuits are not equivalent: /workspace/qi...\n",
       "10721    The circuits are not equivalent: /workspace/qi...\n",
       "11223    The circuits are not equivalent: /workspace/qi...\n",
       "11601    The circuits are not equivalent: /workspace/qi...\n",
       "Name: exception_message, dtype: object"
      ]
     },
     "execution_count": 11,
     "metadata": {},
     "output_type": "execute_result"
    }
   ],
   "source": [
    "# get the content of their error messages\n",
    "sample_errors['exception_message']"
   ]
  },
  {
   "cell_type": "code",
   "execution_count": 30,
   "metadata": {},
   "outputs": [],
   "source": [
    "import sys\n",
    "sys.path.append(\"..\")"
   ]
  },
  {
   "cell_type": "markdown",
   "metadata": {},
   "source": [
    "## Triage All Files \n",
    "Including:\n",
    "1. minimization\n",
    "2. rerunning the code\n",
    "3. running the analysis notebook"
   ]
  },
  {
   "cell_type": "code",
   "execution_count": 13,
   "metadata": {},
   "outputs": [],
   "source": [
    "%load_ext autoreload\n",
    "%autoreload 2"
   ]
  },
  {
   "cell_type": "code",
   "execution_count": 15,
   "metadata": {},
   "outputs": [
    {
     "name": "stdout",
     "output_type": "stream",
     "text": [
      "Error paths in sample folder (10):\n",
      "../program_bank/v009/2024_11_20__13_42__sample_errors_no_pennylane/qiskit_circuit_5q_10g_4342_faa083_a812bf_error.json\n",
      "../program_bank/v009/2024_11_20__13_42__sample_errors_no_pennylane/qiskit_circuit_5q_10g_6316_146402_6a36f0_error.json\n",
      "../program_bank/v009/2024_11_20__13_42__sample_errors_no_pennylane/qiskit_circuit_5q_10g_6533_f0b204_dbc69c_error.json\n",
      "../program_bank/v009/2024_11_20__13_42__sample_errors_no_pennylane/qiskit_circuit_5q_10g_4756_28bbeb_444f6d_error.json\n",
      "../program_bank/v009/2024_11_20__13_42__sample_errors_no_pennylane/qiskit_circuit_5q_10g_144_2ca34b_7b044a_error.json\n",
      "../program_bank/v009/2024_11_20__13_42__sample_errors_no_pennylane/qiskit_circuit_5q_10g_680_6d896d_1fd766_error.json\n",
      "../program_bank/v009/2024_11_20__13_42__sample_errors_no_pennylane/qiskit_circuit_5q_10g_5399_c4b732_f59bef_error.json\n",
      "../program_bank/v009/2024_11_20__13_42__sample_errors_no_pennylane/qiskit_circuit_5q_10g_609_0c26d1_ee02f4_error.json\n",
      "../program_bank/v009/2024_11_20__13_42__sample_errors_no_pennylane/qiskit_circuit_5q_10g_650_4493c8_a271e3_error.json\n",
      "../program_bank/v009/2024_11_20__13_42__sample_errors_no_pennylane/qiskit_circuit_5q_10g_2997_458c2e_f885b3_error.json\n"
     ]
    },
    {
     "data": {
      "text/html": [
       "<pre style=\"white-space:pre;overflow-x:auto;line-height:normal;font-family:Menlo,'DejaVu Sans Mono',consolas,'Courier New',monospace\"><span style=\"color: #7fbfbf; text-decoration-color: #7fbfbf\">[14:49:51] </span>Created report folder: ..<span style=\"color: #800080; text-decoration-color: #800080\">/reports/v009/</span><span style=\"color: #ff00ff; text-decoration-color: #ff00ff\">2024_11_21__14_49</span>                                   <a href=\"file:///home/paltenmo/projects/crossplatform/analysis_and_reporting/triage.py\" target=\"_blank\"><span style=\"color: #7f7f7f; text-decoration-color: #7f7f7f\">triage.py</span></a><span style=\"color: #7f7f7f; text-decoration-color: #7f7f7f\">:</span><a href=\"file:///home/paltenmo/projects/crossplatform/analysis_and_reporting/triage.py#131\" target=\"_blank\"><span style=\"color: #7f7f7f; text-decoration-color: #7f7f7f\">131</span></a>\n",
       "</pre>\n"
      ],
      "text/plain": [
       "\u001b[2;36m[14:49:51]\u001b[0m\u001b[2;36m \u001b[0mCreated report folder: ..\u001b[35m/reports/v009/\u001b[0m\u001b[95m2024_11_21__14_49\u001b[0m                                   \u001b]8;id=600267;file:///home/paltenmo/projects/crossplatform/analysis_and_reporting/triage.py\u001b\\\u001b[2mtriage.py\u001b[0m\u001b]8;;\u001b\\\u001b[2m:\u001b[0m\u001b]8;id=821025;file:///home/paltenmo/projects/crossplatform/analysis_and_reporting/triage.py#131\u001b\\\u001b[2m131\u001b[0m\u001b]8;;\u001b\\\n"
      ]
     },
     "metadata": {},
     "output_type": "display_data"
    },
    {
     "data": {
      "text/html": [
       "<pre style=\"white-space:pre;overflow-x:auto;line-height:normal;font-family:Menlo,'DejaVu Sans Mono',consolas,'Courier New',monospace\"><span style=\"color: #7fbfbf; text-decoration-color: #7fbfbf\">           </span>Copied files to: ..<span style=\"color: #800080; text-decoration-color: #800080\">/reports/v009/</span><span style=\"color: #ff00ff; text-decoration-color: #ff00ff\">2024_11_21__14_49</span>                                         <a href=\"file:///home/paltenmo/projects/crossplatform/analysis_and_reporting/triage.py\" target=\"_blank\"><span style=\"color: #7f7f7f; text-decoration-color: #7f7f7f\">triage.py</span></a><span style=\"color: #7f7f7f; text-decoration-color: #7f7f7f\">:</span><a href=\"file:///home/paltenmo/projects/crossplatform/analysis_and_reporting/triage.py#140\" target=\"_blank\"><span style=\"color: #7f7f7f; text-decoration-color: #7f7f7f\">140</span></a>\n",
       "</pre>\n"
      ],
      "text/plain": [
       "\u001b[2;36m          \u001b[0m\u001b[2;36m \u001b[0mCopied files to: ..\u001b[35m/reports/v009/\u001b[0m\u001b[95m2024_11_21__14_49\u001b[0m                                         \u001b]8;id=566959;file:///home/paltenmo/projects/crossplatform/analysis_and_reporting/triage.py\u001b\\\u001b[2mtriage.py\u001b[0m\u001b]8;;\u001b\\\u001b[2m:\u001b[0m\u001b]8;id=440829;file:///home/paltenmo/projects/crossplatform/analysis_and_reporting/triage.py#140\u001b\\\u001b[2m140\u001b[0m\u001b]8;;\u001b\\\n"
      ]
     },
     "metadata": {},
     "output_type": "display_data"
    },
    {
     "data": {
      "text/html": [
       "<pre style=\"white-space:pre;overflow-x:auto;line-height:normal;font-family:Menlo,'DejaVu Sans Mono',consolas,'Courier New',monospace\"><span style=\"color: #7fbfbf; text-decoration-color: #7fbfbf\">[14:49:51] </span>Involved functions:                                                             <a href=\"file:///home/paltenmo/projects/crossplatform/analysis_and_reporting/ddmin_target_file.py\" target=\"_blank\"><span style=\"color: #7f7f7f; text-decoration-color: #7f7f7f\">ddmin_target_file.py</span></a><span style=\"color: #7f7f7f; text-decoration-color: #7f7f7f\">:</span><a href=\"file:///home/paltenmo/projects/crossplatform/analysis_and_reporting/ddmin_target_file.py#206\" target=\"_blank\"><span style=\"color: #7f7f7f; text-decoration-color: #7f7f7f\">206</span></a>\n",
       "</pre>\n"
      ],
      "text/plain": [
       "\u001b[2;36m[14:49:51]\u001b[0m\u001b[2;36m \u001b[0mInvolved functions:                                                             \u001b]8;id=234626;file:///home/paltenmo/projects/crossplatform/analysis_and_reporting/ddmin_target_file.py\u001b\\\u001b[2mddmin_target_file.py\u001b[0m\u001b]8;;\u001b\\\u001b[2m:\u001b[0m\u001b]8;id=101226;file:///home/paltenmo/projects/crossplatform/analysis_and_reporting/ddmin_target_file.py#206\u001b\\\u001b[2m206\u001b[0m\u001b]8;;\u001b\\\n"
      ]
     },
     "metadata": {},
     "output_type": "display_data"
    },
    {
     "data": {
      "text/html": [
       "<pre style=\"white-space:pre;overflow-x:auto;line-height:normal;font-family:Menlo,'DejaVu Sans Mono',consolas,'Courier New',monospace\"><span style=\"color: #7fbfbf; text-decoration-color: #7fbfbf\">           </span>  - compare_qasm_via_qcec                                                       <a href=\"file:///home/paltenmo/projects/crossplatform/analysis_and_reporting/ddmin_target_file.py\" target=\"_blank\"><span style=\"color: #7f7f7f; text-decoration-color: #7f7f7f\">ddmin_target_file.py</span></a><span style=\"color: #7f7f7f; text-decoration-color: #7f7f7f\">:</span><a href=\"file:///home/paltenmo/projects/crossplatform/analysis_and_reporting/ddmin_target_file.py#208\" target=\"_blank\"><span style=\"color: #7f7f7f; text-decoration-color: #7f7f7f\">208</span></a>\n",
       "</pre>\n"
      ],
      "text/plain": [
       "\u001b[2;36m          \u001b[0m\u001b[2;36m \u001b[0m  - compare_qasm_via_qcec                                                       \u001b]8;id=317805;file:///home/paltenmo/projects/crossplatform/analysis_and_reporting/ddmin_target_file.py\u001b\\\u001b[2mddmin_target_file.py\u001b[0m\u001b]8;;\u001b\\\u001b[2m:\u001b[0m\u001b]8;id=556817;file:///home/paltenmo/projects/crossplatform/analysis_and_reporting/ddmin_target_file.py#208\u001b\\\u001b[2m208\u001b[0m\u001b]8;;\u001b\\\n"
      ]
     },
     "metadata": {},
     "output_type": "display_data"
    },
    {
     "data": {
      "text/html": [
       "<pre style=\"white-space:pre;overflow-x:auto;line-height:normal;font-family:Menlo,'DejaVu Sans Mono',consolas,'Courier New',monospace\"><span style=\"color: #7fbfbf; text-decoration-color: #7fbfbf\">           </span>  - export_to_qasm_with_pytket                                                  <a href=\"file:///home/paltenmo/projects/crossplatform/analysis_and_reporting/ddmin_target_file.py\" target=\"_blank\"><span style=\"color: #7f7f7f; text-decoration-color: #7f7f7f\">ddmin_target_file.py</span></a><span style=\"color: #7f7f7f; text-decoration-color: #7f7f7f\">:</span><a href=\"file:///home/paltenmo/projects/crossplatform/analysis_and_reporting/ddmin_target_file.py#208\" target=\"_blank\"><span style=\"color: #7f7f7f; text-decoration-color: #7f7f7f\">208</span></a>\n",
       "</pre>\n"
      ],
      "text/plain": [
       "\u001b[2;36m          \u001b[0m\u001b[2;36m \u001b[0m  - export_to_qasm_with_pytket                                                  \u001b]8;id=139734;file:///home/paltenmo/projects/crossplatform/analysis_and_reporting/ddmin_target_file.py\u001b\\\u001b[2mddmin_target_file.py\u001b[0m\u001b]8;;\u001b\\\u001b[2m:\u001b[0m\u001b]8;id=129989;file:///home/paltenmo/projects/crossplatform/analysis_and_reporting/ddmin_target_file.py#208\u001b\\\u001b[2m208\u001b[0m\u001b]8;;\u001b\\\n"
      ]
     },
     "metadata": {},
     "output_type": "display_data"
    },
    {
     "data": {
      "text/html": [
       "<pre style=\"white-space:pre;overflow-x:auto;line-height:normal;font-family:Menlo,'DejaVu Sans Mono',consolas,'Courier New',monospace\"><span style=\"color: #7fbfbf; text-decoration-color: #7fbfbf\">           </span>  - export_to_qasm_with_qiskit                                                  <a href=\"file:///home/paltenmo/projects/crossplatform/analysis_and_reporting/ddmin_target_file.py\" target=\"_blank\"><span style=\"color: #7f7f7f; text-decoration-color: #7f7f7f\">ddmin_target_file.py</span></a><span style=\"color: #7f7f7f; text-decoration-color: #7f7f7f\">:</span><a href=\"file:///home/paltenmo/projects/crossplatform/analysis_and_reporting/ddmin_target_file.py#208\" target=\"_blank\"><span style=\"color: #7f7f7f; text-decoration-color: #7f7f7f\">208</span></a>\n",
       "</pre>\n"
      ],
      "text/plain": [
       "\u001b[2;36m          \u001b[0m\u001b[2;36m \u001b[0m  - export_to_qasm_with_qiskit                                                  \u001b]8;id=515191;file:///home/paltenmo/projects/crossplatform/analysis_and_reporting/ddmin_target_file.py\u001b\\\u001b[2mddmin_target_file.py\u001b[0m\u001b]8;;\u001b\\\u001b[2m:\u001b[0m\u001b]8;id=857541;file:///home/paltenmo/projects/crossplatform/analysis_and_reporting/ddmin_target_file.py#208\u001b\\\u001b[2m208\u001b[0m\u001b]8;;\u001b\\\n"
      ]
     },
     "metadata": {},
     "output_type": "display_data"
    },
    {
     "name": "stdout",
     "output_type": "stream",
     "text": [
      "Error parsing: Command 'python /workspace/to_execute.py' in image 'qiskit_runner' returned non-zero exit status 1: b'Traceback (most recent call last):\\n  File \"/workspace/to_execute.py\", line 105, in <module>\\n    target_qc = qc\\nNameError: name \\'qc\\' is not defined\\n'\n",
      "Failed to execute to_execute.py in Docker.\n",
      "Output: Saved the Pytket circuit to /workspace/to_execute_qc_pytket.qasm\n",
      "Saved the Qiskit circuit to /workspace/to_execute_qc_qiskit.qasm\n",
      "Exported QASM files: [('/workspace/to_execute_qc_pytket.qasm', 'export_to_qasm_with_pytket'), ('/workspace/to_execute_qc_qiskit.qasm', 'export_to_qasm_with_qiskit')]\n",
      "Log has been saved to /workspace/to_execute_cb5d12_error.json\n",
      "\n",
      "Program to_execute.py executed successfully.\n",
      "New exception message: The circuits are not equivalent: /workspace/to_execute_qc_pytket.qasm, /workspace/to_execute_qc_qiskit.qasm\n",
      "Error parsing: Command 'python /workspace/to_execute.py' in image 'qiskit_runner' returned non-zero exit status 1: b'  File \"/workspace/to_execute.py\", line 18\\n    , custom_instructions=qasm2.LEGACY_CUSTOM_INSTRUCTIONS)\\n                                                          ^\\nSyntaxError: unmatched \\')\\'\\n'\n",
      "Failed to execute to_execute.py in Docker.\n",
      "Error parsing: Command 'python /workspace/to_execute.py' in image 'qiskit_runner' returned non-zero exit status 1: b'  File \"/workspace/to_execute.py\", line 10\\n    qc = qasm2.loads(\\n                    ^\\nSyntaxError: \\'(\\' was never closed\\n'\n",
      "Failed to execute to_execute.py in Docker.\n",
      "Error parsing: Command 'python /workspace/to_execute.py' in image 'qiskit_runner' returned non-zero exit status 1: b'  File \"/workspace/to_execute.py\", line 24\\n    , custom_instructions=qasm2.LEGACY_CUSTOM_INSTRUCTIONS)\\n                                                          ^\\nSyntaxError: unmatched \\')\\'\\n'\n",
      "Failed to execute to_execute.py in Docker.\n",
      "Error parsing: Command 'python /workspace/to_execute.py' in image 'qiskit_runner' returned non-zero exit status 1: b'Traceback (most recent call last):\\n  File \"/workspace/to_execute.py\", line 10, in <module>\\n    qc = qasm2.loads(\\n  File \"/usr/local/lib/python3.10/site-packages/qiskit/qasm2/__init__.py\", line 587, in loads\\n    return _parse.from_bytecode(\\n  File \"/usr/local/lib/python3.10/site-packages/qiskit/qasm2/parse.py\", line 214, in from_bytecode\\n    for op in bc:\\nqiskit.qasm2.exceptions.QASM2ParseError: \"<input>:4,2: \\'reg_2_q\\' is not defined in this scope\"\\n'\n",
      "Failed to execute to_execute.py in Docker.\n",
      "Output: Saved the Pytket circuit to /workspace/to_execute_qc_pytket.qasm\n",
      "Saved the Qiskit circuit to /workspace/to_execute_qc_qiskit.qasm\n",
      "Exported QASM files: [('/workspace/to_execute_qc_pytket.qasm', 'export_to_qasm_with_pytket'), ('/workspace/to_execute_qc_qiskit.qasm', 'export_to_qasm_with_qiskit')]\n",
      "Log has been saved to /workspace/to_execute_f78446_error.json\n",
      "\n",
      "Program to_execute.py executed successfully.\n",
      "New exception message: The circuits are not equivalent: /workspace/to_execute_qc_pytket.qasm, /workspace/to_execute_qc_qiskit.qasm\n",
      "Error parsing: Command 'python /workspace/to_execute.py' in image 'qiskit_runner' returned non-zero exit status 1: b'  File \"/workspace/to_execute.py\", line 18\\n    , custom_instructions=qasm2.LEGACY_CUSTOM_INSTRUCTIONS)\\n                                                          ^\\nSyntaxError: unmatched \\')\\'\\n'\n",
      "Failed to execute to_execute.py in Docker.\n",
      "Error parsing: Command 'python /workspace/to_execute.py' in image 'qiskit_runner' returned non-zero exit status 1: b'Traceback (most recent call last):\\n  File \"/workspace/to_execute.py\", line 10, in <module>\\n    qc = qasm2.loads(\\n  File \"/usr/local/lib/python3.10/site-packages/qiskit/qasm2/__init__.py\", line 587, in loads\\n    return _parse.from_bytecode(\\n  File \"/usr/local/lib/python3.10/site-packages/qiskit/qasm2/parse.py\", line 214, in from_bytecode\\n    for op in bc:\\nqiskit.qasm2.exceptions.QASM2ParseError: \"<input>:4,2: \\'reg_2_q\\' is not defined in this scope\"\\n'\n",
      "Failed to execute to_execute.py in Docker.\n",
      "Error parsing: Command 'python /workspace/to_execute.py' in image 'qiskit_runner' returned non-zero exit status 1: b'  File \"/workspace/to_execute.py\", line 10\\n    qc = qasm2.loads(\\n                    ^\\nSyntaxError: \\'(\\' was never closed\\n'\n",
      "Failed to execute to_execute.py in Docker.\n",
      "Error parsing: Command 'python /workspace/to_execute.py' in image 'qiskit_runner' returned non-zero exit status 1: b'  File \"/workspace/to_execute.py\", line 20\\n    , custom_instructions=qasm2.LEGACY_CUSTOM_INSTRUCTIONS)\\n                                                          ^\\nSyntaxError: unmatched \\')\\'\\n'\n",
      "Failed to execute to_execute.py in Docker.\n",
      "Error parsing: Command 'python /workspace/to_execute.py' in image 'qiskit_runner' returned non-zero exit status 1: b'Traceback (most recent call last):\\n  File \"/workspace/to_execute.py\", line 10, in <module>\\n    qc = qasm2.loads(\\n  File \"/usr/local/lib/python3.10/site-packages/qiskit/qasm2/__init__.py\", line 587, in loads\\n    return _parse.from_bytecode(\\n  File \"/usr/local/lib/python3.10/site-packages/qiskit/qasm2/parse.py\", line 214, in from_bytecode\\n    for op in bc:\\nqiskit.qasm2.exceptions.QASM2ParseError: \"<input>:7,0: cannot use non-builtin custom instruction \\'h\\' before definition\"\\n'\n",
      "Failed to execute to_execute.py in Docker.\n",
      "Error parsing: Command 'python /workspace/to_execute.py' in image 'qiskit_runner' returned non-zero exit status 1: b'Traceback (most recent call last):\\n  File \"/workspace/to_execute.py\", line 10, in <module>\\n    qc = qasm2.loads(\\n  File \"/usr/local/lib/python3.10/site-packages/qiskit/qasm2/__init__.py\", line 587, in loads\\n    return _parse.from_bytecode(\\n  File \"/usr/local/lib/python3.10/site-packages/qiskit/qasm2/parse.py\", line 214, in from_bytecode\\n    for op in bc:\\nqiskit.qasm2.exceptions.QASM2ParseError: \"<input>:6,2: \\'reg_2_q\\' is not defined in this scope\"\\n'\n",
      "Failed to execute to_execute.py in Docker.\n",
      "Error parsing: Command 'python /workspace/to_execute.py' in image 'qiskit_runner' returned non-zero exit status 1: b'Traceback (most recent call last):\\n  File \"/workspace/to_execute.py\", line 10, in <module>\\n    qc = qasm2.loads(\\n  File \"/usr/local/lib/python3.10/site-packages/qiskit/qasm2/__init__.py\", line 587, in loads\\n    return _parse.from_bytecode(\\n  File \"/usr/local/lib/python3.10/site-packages/qiskit/qasm2/parse.py\", line 214, in from_bytecode\\n    for op in bc:\\nqiskit.qasm2.exceptions.QASM2ParseError: \"<input>:8,2: \\'reg_1_b\\' is not defined in this scope\"\\n'\n",
      "Failed to execute to_execute.py in Docker.\n",
      "Output: Saved the Pytket circuit to /workspace/to_execute_qc_pytket.qasm\n",
      "Saved the Qiskit circuit to /workspace/to_execute_qc_qiskit.qasm\n",
      "Exported QASM files: [('/workspace/to_execute_qc_pytket.qasm', 'export_to_qasm_with_pytket'), ('/workspace/to_execute_qc_qiskit.qasm', 'export_to_qasm_with_qiskit')]\n",
      "The circuits are equivalent: /workspace/to_execute_qc_pytket.qasm, /workspace/to_execute_qc_qiskit.qasm\n",
      "\n",
      "Program to_execute.py executed successfully.\n",
      "Error parsing: Command 'python /workspace/to_execute.py' in image 'qiskit_runner' returned non-zero exit status 1: b'  File \"/workspace/to_execute.py\", line 10\\n    qc = qasm2.loads(\\n                    ^\\nSyntaxError: \\'(\\' was never closed\\n'\n",
      "Failed to execute to_execute.py in Docker.\n",
      "Error parsing: Command 'python /workspace/to_execute.py' in image 'qiskit_runner' returned non-zero exit status 1: b'  File \"/workspace/to_execute.py\", line 23\\n    , custom_instructions=qasm2.LEGACY_CUSTOM_INSTRUCTIONS)\\nIndentationError: unexpected indent\\n'\n",
      "Failed to execute to_execute.py in Docker.\n",
      "Output: Saved the Pytket circuit to /workspace/to_execute_qc_pytket.qasm\n",
      "Saved the Qiskit circuit to /workspace/to_execute_qc_qiskit.qasm\n",
      "Exported QASM files: [('/workspace/to_execute_qc_pytket.qasm', 'export_to_qasm_with_pytket'), ('/workspace/to_execute_qc_qiskit.qasm', 'export_to_qasm_with_qiskit')]\n",
      "Log has been saved to /workspace/to_execute_3e34d2_error.json\n",
      "\n",
      "Program to_execute.py executed successfully.\n",
      "New exception message: The circuits are not equivalent: /workspace/to_execute_qc_pytket.qasm, /workspace/to_execute_qc_qiskit.qasm\n",
      "Error parsing: Command 'python /workspace/to_execute.py' in image 'qiskit_runner' returned non-zero exit status 1: b'  File \"/workspace/to_execute.py\", line 22\\n    , custom_instructions=qasm2.LEGACY_CUSTOM_INSTRUCTIONS)\\nIndentationError: unexpected indent\\n'\n",
      "Failed to execute to_execute.py in Docker.\n",
      "Error parsing: Command 'python /workspace/to_execute.py' in image 'qiskit_runner' returned non-zero exit status 1: b'  File \"/workspace/to_execute.py\", line 11\\n    OPENQASM 2.0;\\n    ^^^^^^^^^^^^\\nSyntaxError: invalid syntax. Perhaps you forgot a comma?\\n'\n",
      "Failed to execute to_execute.py in Docker.\n",
      "Output: Saved the Pytket circuit to /workspace/to_execute_qc_pytket.qasm\n",
      "Saved the Qiskit circuit to /workspace/to_execute_qc_qiskit.qasm\n",
      "Exported QASM files: [('/workspace/to_execute_qc_pytket.qasm', 'export_to_qasm_with_pytket'), ('/workspace/to_execute_qc_qiskit.qasm', 'export_to_qasm_with_qiskit')]\n",
      "Log has been saved to /workspace/to_execute_5f337c_error.json\n",
      "\n",
      "Program to_execute.py executed successfully.\n",
      "New exception message: The circuits are not equivalent: /workspace/to_execute_qc_pytket.qasm, /workspace/to_execute_qc_qiskit.qasm\n",
      "Error parsing: Command 'python /workspace/to_execute.py' in image 'qiskit_runner' returned non-zero exit status 1: b'  File \"/workspace/to_execute.py\", line 21\\n    , custom_instructions=qasm2.LEGACY_CUSTOM_INSTRUCTIONS)\\nIndentationError: unexpected indent\\n'\n",
      "Failed to execute to_execute.py in Docker.\n",
      "Error parsing: Command 'python /workspace/to_execute.py' in image 'qiskit_runner' returned non-zero exit status 1: b'  File \"/workspace/to_execute.py\", line 11\\n    include \"qelib1.inc\";\\n            ^^^^^^^^^^^^\\nSyntaxError: invalid syntax\\n'\n",
      "Failed to execute to_execute.py in Docker.\n",
      "Error parsing: Command 'python /workspace/to_execute.py' in image 'qiskit_runner' returned non-zero exit status 1: b'Traceback (most recent call last):\\n  File \"/workspace/to_execute.py\", line 10, in <module>\\n    qc = qasm2.loads(\\n  File \"/usr/local/lib/python3.10/site-packages/qiskit/qasm2/__init__.py\", line 587, in loads\\n    return _parse.from_bytecode(\\n  File \"/usr/local/lib/python3.10/site-packages/qiskit/qasm2/parse.py\", line 214, in from_bytecode\\n    for op in bc:\\nqiskit.qasm2.exceptions.QASM2ParseError: \"<input>:7,0: cannot use non-builtin custom instruction \\'h\\' before definition\"\\n'\n",
      "Failed to execute to_execute.py in Docker.\n",
      "Error parsing: Command 'python /workspace/to_execute.py' in image 'qiskit_runner' returned non-zero exit status 1: b'Traceback (most recent call last):\\n  File \"/workspace/to_execute.py\", line 10, in <module>\\n    qc = qasm2.loads(\\n  File \"/usr/local/lib/python3.10/site-packages/qiskit/qasm2/__init__.py\", line 587, in loads\\n    return _parse.from_bytecode(\\n  File \"/usr/local/lib/python3.10/site-packages/qiskit/qasm2/parse.py\", line 214, in from_bytecode\\n    for op in bc:\\nqiskit.qasm2.exceptions.QASM2ParseError: \"<input>:7,2: \\'reg_2_q\\' is not defined in this scope\"\\n'\n",
      "Failed to execute to_execute.py in Docker.\n",
      "Output: Saved the Pytket circuit to /workspace/to_execute_qc_pytket.qasm\n",
      "Saved the Qiskit circuit to /workspace/to_execute_qc_qiskit.qasm\n",
      "Exported QASM files: [('/workspace/to_execute_qc_pytket.qasm', 'export_to_qasm_with_pytket'), ('/workspace/to_execute_qc_qiskit.qasm', 'export_to_qasm_with_qiskit')]\n",
      "Log has been saved to /workspace/to_execute_9cb40a_error.json\n",
      "\n",
      "Program to_execute.py executed successfully.\n",
      "New exception message: The circuits are not equivalent: /workspace/to_execute_qc_pytket.qasm, /workspace/to_execute_qc_qiskit.qasm\n",
      "Error parsing: Command 'python /workspace/to_execute.py' in image 'qiskit_runner' returned non-zero exit status 1: b'  File \"/workspace/to_execute.py\", line 19\\n    , custom_instructions=qasm2.LEGACY_CUSTOM_INSTRUCTIONS)\\nIndentationError: unexpected indent\\n'\n",
      "Failed to execute to_execute.py in Docker.\n",
      "Error parsing: Command 'python /workspace/to_execute.py' in image 'qiskit_runner' returned non-zero exit status 1: b'  File \"/workspace/to_execute.py\", line 11\\n    include \"qelib1.inc\";\\n            ^^^^^^^^^^^^\\nSyntaxError: invalid syntax\\n'\n",
      "Failed to execute to_execute.py in Docker.\n",
      "Error parsing: Command 'python /workspace/to_execute.py' in image 'qiskit_runner' returned non-zero exit status 1: b'Traceback (most recent call last):\\n  File \"/workspace/to_execute.py\", line 10, in <module>\\n    qc = qasm2.loads(\\n  File \"/usr/local/lib/python3.10/site-packages/qiskit/qasm2/__init__.py\", line 587, in loads\\n    return _parse.from_bytecode(\\n  File \"/usr/local/lib/python3.10/site-packages/qiskit/qasm2/parse.py\", line 214, in from_bytecode\\n    for op in bc:\\nqiskit.qasm2.exceptions.QASM2ParseError: \"<input>:5,0: cannot use non-builtin custom instruction \\'h\\' before definition\"\\n'\n",
      "Failed to execute to_execute.py in Docker.\n",
      "Error parsing: Command 'python /workspace/to_execute.py' in image 'qiskit_runner' returned non-zero exit status 1: b'Traceback (most recent call last):\\n  File \"/workspace/to_execute.py\", line 10, in <module>\\n    qc = qasm2.loads(\\n  File \"/usr/local/lib/python3.10/site-packages/qiskit/qasm2/__init__.py\", line 587, in loads\\n    return _parse.from_bytecode(\\n  File \"/usr/local/lib/python3.10/site-packages/qiskit/qasm2/parse.py\", line 214, in from_bytecode\\n    for op in bc:\\nqiskit.qasm2.exceptions.QASM2ParseError: \"<input>:5,2: \\'reg_2_q\\' is not defined in this scope\"\\n'\n",
      "Failed to execute to_execute.py in Docker.\n",
      "Error parsing: Command 'python /workspace/to_execute.py' in image 'qiskit_runner' returned non-zero exit status 1: b'Traceback (most recent call last):\\n  File \"/workspace/to_execute.py\", line 10, in <module>\\n    qc = qasm2.loads(\\n  File \"/usr/local/lib/python3.10/site-packages/qiskit/qasm2/__init__.py\", line 587, in loads\\n    return _parse.from_bytecode(\\n  File \"/usr/local/lib/python3.10/site-packages/qiskit/qasm2/parse.py\", line 214, in from_bytecode\\n    for op in bc:\\nqiskit.qasm2.exceptions.QASM2ParseError: \"<input>:6,2: \\'reg_1_b\\' is not defined in this scope\"\\n'\n",
      "Failed to execute to_execute.py in Docker.\n",
      "Output: Saved the Pytket circuit to /workspace/to_execute_qc_pytket.qasm\n",
      "Saved the Qiskit circuit to /workspace/to_execute_qc_qiskit.qasm\n",
      "Exported QASM files: [('/workspace/to_execute_qc_pytket.qasm', 'export_to_qasm_with_pytket'), ('/workspace/to_execute_qc_qiskit.qasm', 'export_to_qasm_with_qiskit')]\n",
      "Log has been saved to /workspace/to_execute_a6c3c5_error.json\n",
      "\n",
      "Program to_execute.py executed successfully.\n",
      "New exception message: The circuits are not equivalent: /workspace/to_execute_qc_pytket.qasm, /workspace/to_execute_qc_qiskit.qasm\n",
      "Error parsing: Command 'python /workspace/to_execute.py' in image 'qiskit_runner' returned non-zero exit status 1: b'  File \"/workspace/to_execute.py\", line 17\\n    , custom_instructions=qasm2.LEGACY_CUSTOM_INSTRUCTIONS)\\nIndentationError: unexpected indent\\n'\n",
      "Failed to execute to_execute.py in Docker.\n",
      "Error parsing: Command 'python /workspace/to_execute.py' in image 'qiskit_runner' returned non-zero exit status 1: b'  File \"/workspace/to_execute.py\", line 11\\n    include \"qelib1.inc\";\\n            ^^^^^^^^^^^^\\nSyntaxError: invalid syntax\\n'\n",
      "Failed to execute to_execute.py in Docker.\n",
      "Error parsing: Command 'python /workspace/to_execute.py' in image 'qiskit_runner' returned non-zero exit status 1: b'Traceback (most recent call last):\\n  File \"/workspace/to_execute.py\", line 10, in <module>\\n    qc = qasm2.loads(\\n  File \"/usr/local/lib/python3.10/site-packages/qiskit/qasm2/__init__.py\", line 587, in loads\\n    return _parse.from_bytecode(\\n  File \"/usr/local/lib/python3.10/site-packages/qiskit/qasm2/parse.py\", line 214, in from_bytecode\\n    for op in bc:\\nqiskit.qasm2.exceptions.QASM2ParseError: \"<input>:4,0: cannot use non-builtin custom instruction \\'x\\' before definition\"\\n'\n",
      "Failed to execute to_execute.py in Docker.\n",
      "Output: Saved the Pytket circuit to /workspace/to_execute_qc_pytket.qasm\n",
      "Saved the Qiskit circuit to /workspace/to_execute_qc_qiskit.qasm\n",
      "Exported QASM files: [('/workspace/to_execute_qc_pytket.qasm', 'export_to_qasm_with_pytket'), ('/workspace/to_execute_qc_qiskit.qasm', 'export_to_qasm_with_qiskit')]\n",
      "The circuits are equivalent: /workspace/to_execute_qc_pytket.qasm, /workspace/to_execute_qc_qiskit.qasm\n",
      "\n",
      "Program to_execute.py executed successfully.\n",
      "Error parsing: Command 'python /workspace/to_execute.py' in image 'qiskit_runner' returned non-zero exit status 1: b'Traceback (most recent call last):\\n  File \"/workspace/to_execute.py\", line 10, in <module>\\n    qc = qasm2.loads(\\n  File \"/usr/local/lib/python3.10/site-packages/qiskit/qasm2/__init__.py\", line 587, in loads\\n    return _parse.from_bytecode(\\n  File \"/usr/local/lib/python3.10/site-packages/qiskit/qasm2/parse.py\", line 214, in from_bytecode\\n    for op in bc:\\nqiskit.qasm2.exceptions.QASM2ParseError: \"<input>:4,2: \\'reg_1_b\\' is not defined in this scope\"\\n'\n",
      "Failed to execute to_execute.py in Docker.\n",
      "Output: Saved the Pytket circuit to /workspace/to_execute_qc_pytket.qasm\n",
      "Saved the Qiskit circuit to /workspace/to_execute_qc_qiskit.qasm\n",
      "Exported QASM files: [('/workspace/to_execute_qc_pytket.qasm', 'export_to_qasm_with_pytket'), ('/workspace/to_execute_qc_qiskit.qasm', 'export_to_qasm_with_qiskit')]\n",
      "Log has been saved to /workspace/to_execute_44883a_error.json\n",
      "\n",
      "Program to_execute.py executed successfully.\n",
      "New exception message: The circuits are not equivalent: /workspace/to_execute_qc_pytket.qasm, /workspace/to_execute_qc_qiskit.qasm\n",
      "Error parsing: Command 'python /workspace/to_execute.py' in image 'qiskit_runner' returned non-zero exit status 1: b'  File \"/workspace/to_execute.py\", line 16\\n    , custom_instructions=qasm2.LEGACY_CUSTOM_INSTRUCTIONS)\\nIndentationError: unexpected indent\\n'\n",
      "Failed to execute to_execute.py in Docker.\n",
      "Error parsing: Command 'python /workspace/to_execute.py' in image 'qiskit_runner' returned non-zero exit status 1: b'  File \"/workspace/to_execute.py\", line 11\\n    include \"qelib1.inc\";\\n            ^^^^^^^^^^^^\\nSyntaxError: invalid syntax\\n'\n",
      "Failed to execute to_execute.py in Docker.\n",
      "Error parsing: Command 'python /workspace/to_execute.py' in image 'qiskit_runner' returned non-zero exit status 1: b'Traceback (most recent call last):\\n  File \"/workspace/to_execute.py\", line 10, in <module>\\n    qc = qasm2.loads(\\n  File \"/usr/local/lib/python3.10/site-packages/qiskit/qasm2/__init__.py\", line 587, in loads\\n    return _parse.from_bytecode(\\n  File \"/usr/local/lib/python3.10/site-packages/qiskit/qasm2/parse.py\", line 214, in from_bytecode\\n    for op in bc:\\nqiskit.qasm2.exceptions.QASM2ParseError: \"<input>:4,0: cannot use non-builtin custom instruction \\'x\\' before definition\"\\n'\n",
      "Failed to execute to_execute.py in Docker.\n",
      "Output: Saved the Pytket circuit to /workspace/to_execute_qc_pytket.qasm\n",
      "Saved the Qiskit circuit to /workspace/to_execute_qc_qiskit.qasm\n",
      "Exported QASM files: [('/workspace/to_execute_qc_pytket.qasm', 'export_to_qasm_with_pytket'), ('/workspace/to_execute_qc_qiskit.qasm', 'export_to_qasm_with_qiskit')]\n",
      "The circuits are equivalent: /workspace/to_execute_qc_pytket.qasm, /workspace/to_execute_qc_qiskit.qasm\n",
      "\n",
      "Program to_execute.py executed successfully.\n",
      "Error parsing: Command 'python /workspace/to_execute.py' in image 'qiskit_runner' returned non-zero exit status 1: b'Traceback (most recent call last):\\n  File \"/workspace/to_execute.py\", line 10, in <module>\\n    qc = qasm2.loads(\\n  File \"/usr/local/lib/python3.10/site-packages/qiskit/qasm2/__init__.py\", line 587, in loads\\n    return _parse.from_bytecode(\\n  File \"/usr/local/lib/python3.10/site-packages/qiskit/qasm2/parse.py\", line 214, in from_bytecode\\n    for op in bc:\\nqiskit.qasm2.exceptions.QASM2ParseError: \"<input>:4,2: \\'reg_1_b\\' is not defined in this scope\"\\n'\n",
      "Failed to execute to_execute.py in Docker.\n",
      "Error parsing: Command 'python /workspace/to_execute.py' in image 'qiskit_runner' returned non-zero exit status 1: b'  File \"/workspace/to_execute.py\", line 11\\n    include \"qelib1.inc\";\\n            ^^^^^^^^^^^^\\nSyntaxError: invalid syntax\\n'\n",
      "Failed to execute to_execute.py in Docker.\n",
      "Error parsing: Command 'python /workspace/to_execute.py' in image 'qiskit_runner' returned non-zero exit status 1: b'  File \"/workspace/to_execute.py\", line 10\\n    qc = qasm2.loads(\\n                    ^\\nSyntaxError: \\'(\\' was never closed\\n'\n",
      "Failed to execute to_execute.py in Docker.\n",
      "Error parsing: Command 'python /workspace/to_execute.py' in image 'qiskit_runner' returned non-zero exit status 1: b'  File \"/workspace/to_execute.py\", line 16\\n    , custom_instructions=qasm2.LEGACY_CUSTOM_INSTRUCTIONS)\\nIndentationError: unexpected indent\\n'\n",
      "Failed to execute to_execute.py in Docker.\n",
      "Error parsing: Command 'python /workspace/to_execute.py' in image 'qiskit_runner' returned non-zero exit status 1: b'  File \"/workspace/to_execute.py\", line 11\\n    include \"qelib1.inc\";\\n            ^^^^^^^^^^^^\\nSyntaxError: invalid syntax\\n'\n",
      "Failed to execute to_execute.py in Docker.\n",
      "Error parsing: Command 'python /workspace/to_execute.py' in image 'qiskit_runner' returned non-zero exit status 1: b'Traceback (most recent call last):\\n  File \"/workspace/to_execute.py\", line 10, in <module>\\n    qc = qasm2.loads(\\n  File \"/usr/local/lib/python3.10/site-packages/qiskit/qasm2/__init__.py\", line 587, in loads\\n    return _parse.from_bytecode(\\n  File \"/usr/local/lib/python3.10/site-packages/qiskit/qasm2/parse.py\", line 214, in from_bytecode\\n    for op in bc:\\nqiskit.qasm2.exceptions.QASM2ParseError: \"<input>:4,0: cannot use non-builtin custom instruction \\'x\\' before definition\"\\n'\n",
      "Failed to execute to_execute.py in Docker.\n",
      "Output: Saved the Pytket circuit to /workspace/to_execute_qc_pytket.qasm\n",
      "Saved the Qiskit circuit to /workspace/to_execute_qc_qiskit.qasm\n",
      "Exported QASM files: [('/workspace/to_execute_qc_pytket.qasm', 'export_to_qasm_with_pytket'), ('/workspace/to_execute_qc_qiskit.qasm', 'export_to_qasm_with_qiskit')]\n",
      "The circuits are equivalent: /workspace/to_execute_qc_pytket.qasm, /workspace/to_execute_qc_qiskit.qasm\n",
      "\n",
      "Program to_execute.py executed successfully.\n",
      "Error parsing: Command 'python /workspace/to_execute.py' in image 'qiskit_runner' returned non-zero exit status 1: b'Traceback (most recent call last):\\n  File \"/workspace/to_execute.py\", line 10, in <module>\\n    qc = qasm2.loads(\\n  File \"/usr/local/lib/python3.10/site-packages/qiskit/qasm2/__init__.py\", line 587, in loads\\n    return _parse.from_bytecode(\\n  File \"/usr/local/lib/python3.10/site-packages/qiskit/qasm2/parse.py\", line 214, in from_bytecode\\n    for op in bc:\\nqiskit.qasm2.exceptions.QASM2ParseError: \"<input>:4,2: \\'reg_1_b\\' is not defined in this scope\"\\n'\n",
      "Failed to execute to_execute.py in Docker.\n",
      "Output: Saved the Pytket circuit to /workspace/to_execute_qc_pytket.qasm\n",
      "Saved the Qiskit circuit to /workspace/to_execute_qc_qiskit.qasm\n",
      "Exported QASM files: [('/workspace/to_execute_qc_pytket.qasm', 'export_to_qasm_with_pytket'), ('/workspace/to_execute_qc_qiskit.qasm', 'export_to_qasm_with_qiskit')]\n",
      "The circuits are equivalent: /workspace/to_execute_qc_pytket.qasm, /workspace/to_execute_qc_qiskit.qasm\n",
      "\n",
      "Program to_execute.py executed successfully.\n",
      "Error parsing: Command 'python /workspace/to_execute.py' in image 'qiskit_runner' returned non-zero exit status 1: b'  File \"/workspace/to_execute.py\", line 11\\n    include \"qelib1.inc\";\\n            ^^^^^^^^^^^^\\nSyntaxError: invalid syntax\\n'\n",
      "Failed to execute to_execute.py in Docker.\n",
      "Error parsing: Command 'python /workspace/to_execute.py' in image 'qiskit_runner' returned non-zero exit status 1: b'  File \"/workspace/to_execute.py\", line 10\\n    qc = qasm2.loads(\\n                    ^\\nSyntaxError: \\'(\\' was never closed\\n'\n",
      "Failed to execute to_execute.py in Docker.\n"
     ]
    },
    {
     "data": {
      "text/html": [
       "<pre style=\"white-space:pre;overflow-x:auto;line-height:normal;font-family:Menlo,'DejaVu Sans Mono',consolas,'Courier New',monospace\"><span style=\"color: #7fbfbf; text-decoration-color: #7fbfbf\">[14:53:11] </span><span style=\"color: #008000; text-decoration-color: #008000\">Minimized file saved as:</span>                                                        <a href=\"file:///home/paltenmo/projects/crossplatform/analysis_and_reporting/ddmin_target_file.py\" target=\"_blank\"><span style=\"color: #7f7f7f; text-decoration-color: #7f7f7f\">ddmin_target_file.py</span></a><span style=\"color: #7f7f7f; text-decoration-color: #7f7f7f\">:</span><a href=\"file:///home/paltenmo/projects/crossplatform/analysis_and_reporting/ddmin_target_file.py#240\" target=\"_blank\"><span style=\"color: #7f7f7f; text-decoration-color: #7f7f7f\">240</span></a>\n",
       "<span style=\"color: #7fbfbf; text-decoration-color: #7fbfbf\">           </span>..<span style=\"color: #800080; text-decoration-color: #800080\">/reports/v009/2024_11_21__14_49/</span><span style=\"color: #ff00ff; text-decoration-color: #ff00ff\">qiskit_circuit_5q_10g_4342_faa083_a812bf_erro</span> <span style=\"color: #7f7f7f; text-decoration-color: #7f7f7f\">                        </span>\n",
       "<span style=\"color: #7fbfbf; text-decoration-color: #7fbfbf\">           </span><span style=\"color: #ff00ff; text-decoration-color: #ff00ff\">r_min.py</span>                                                                        <span style=\"color: #7f7f7f; text-decoration-color: #7f7f7f\">                        </span>\n",
       "</pre>\n"
      ],
      "text/plain": [
       "\u001b[2;36m[14:53:11]\u001b[0m\u001b[2;36m \u001b[0m\u001b[32mMinimized file saved as:\u001b[0m                                                        \u001b]8;id=70170;file:///home/paltenmo/projects/crossplatform/analysis_and_reporting/ddmin_target_file.py\u001b\\\u001b[2mddmin_target_file.py\u001b[0m\u001b]8;;\u001b\\\u001b[2m:\u001b[0m\u001b]8;id=745287;file:///home/paltenmo/projects/crossplatform/analysis_and_reporting/ddmin_target_file.py#240\u001b\\\u001b[2m240\u001b[0m\u001b]8;;\u001b\\\n",
       "\u001b[2;36m           \u001b[0m..\u001b[35m/reports/v009/2024_11_21__14_49/\u001b[0m\u001b[95mqiskit_circuit_5q_10g_4342_faa083_a812bf_erro\u001b[0m \u001b[2m                        \u001b[0m\n",
       "\u001b[2;36m           \u001b[0m\u001b[95mr_min.py\u001b[0m                                                                        \u001b[2m                        \u001b[0m\n"
      ]
     },
     "metadata": {},
     "output_type": "display_data"
    },
    {
     "name": "stdout",
     "output_type": "stream",
     "text": [
      "Output: Saved the Pytket circuit to /workspace/qiskit_circuit_5q_10g_4342_faa083_a812bf_error_min_qc_pytket.qasm\n",
      "Saved the Qiskit circuit to /workspace/qiskit_circuit_5q_10g_4342_faa083_a812bf_error_min_qc_qiskit.qasm\n",
      "Exported QASM files: [('/workspace/qiskit_circuit_5q_10g_4342_faa083_a812bf_error_min_qc_pytket.qasm', 'export_to_qasm_with_pytket'), ('/workspace/qiskit_circuit_5q_10g_4342_faa083_a812bf_error_min_qc_qiskit.qasm', 'export_to_qasm_with_qiskit')]\n",
      "Log has been saved to /workspace/qiskit_circuit_5q_10g_4342_faa083_a812bf_error_min_577bf2_error.json\n",
      "\n"
     ]
    },
    {
     "data": {
      "text/html": [
       "<pre style=\"white-space:pre;overflow-x:auto;line-height:normal;font-family:Menlo,'DejaVu Sans Mono',consolas,'Courier New',monospace\"><span style=\"color: #7fbfbf; text-decoration-color: #7fbfbf\">[14:53:18] </span>Program qiskit_circuit_5q_10g_4342_faa083_a812bf_error_min.py executed              <a href=\"file:///home/paltenmo/projects/crossplatform/generators/docker_tooling.py\" target=\"_blank\"><span style=\"color: #7f7f7f; text-decoration-color: #7f7f7f\">docker_tooling.py</span></a><span style=\"color: #7f7f7f; text-decoration-color: #7f7f7f\">:</span><a href=\"file:///home/paltenmo/projects/crossplatform/generators/docker_tooling.py#46\" target=\"_blank\"><span style=\"color: #7f7f7f; text-decoration-color: #7f7f7f\">46</span></a>\n",
       "<span style=\"color: #7fbfbf; text-decoration-color: #7fbfbf\">           </span>successfully.                                                                       <span style=\"color: #7f7f7f; text-decoration-color: #7f7f7f\">                    </span>\n",
       "</pre>\n"
      ],
      "text/plain": [
       "\u001b[2;36m[14:53:18]\u001b[0m\u001b[2;36m \u001b[0mProgram qiskit_circuit_5q_10g_4342_faa083_a812bf_error_min.py executed              \u001b]8;id=28932;file:///home/paltenmo/projects/crossplatform/generators/docker_tooling.py\u001b\\\u001b[2mdocker_tooling.py\u001b[0m\u001b]8;;\u001b\\\u001b[2m:\u001b[0m\u001b]8;id=575837;file:///home/paltenmo/projects/crossplatform/generators/docker_tooling.py#46\u001b\\\u001b[2m46\u001b[0m\u001b]8;;\u001b\\\n",
       "\u001b[2;36m           \u001b[0msuccessfully.                                                                       \u001b[2m                    \u001b[0m\n"
      ]
     },
     "metadata": {},
     "output_type": "display_data"
    },
    {
     "data": {
      "application/vnd.jupyter.widget-view+json": {
       "model_id": "6f23833a81b9485fa467b20c8d42d243",
       "version_major": 2,
       "version_minor": 0
      },
      "text/plain": [
       "Executing:   0%|          | 0/13 [00:00<?, ?cell/s]"
      ]
     },
     "metadata": {},
     "output_type": "display_data"
    },
    {
     "data": {
      "text/html": [
       "<pre style=\"white-space:pre;overflow-x:auto;line-height:normal;font-family:Menlo,'DejaVu Sans Mono',consolas,'Courier New',monospace\"><span style=\"color: #7fbfbf; text-decoration-color: #7fbfbf\">[14:53:21] </span>Analysis notebook executed: ..<span style=\"color: #800080; text-decoration-color: #800080\">/reports/v009/2024_11_21__14_49/</span><span style=\"color: #ff00ff; text-decoration-color: #ff00ff\">analysis_output.ipynb</span>        <a href=\"file:///home/paltenmo/projects/crossplatform/analysis_and_reporting/triage.py\" target=\"_blank\"><span style=\"color: #7f7f7f; text-decoration-color: #7f7f7f\">triage.py</span></a><span style=\"color: #7f7f7f; text-decoration-color: #7f7f7f\">:</span><a href=\"file:///home/paltenmo/projects/crossplatform/analysis_and_reporting/triage.py#163\" target=\"_blank\"><span style=\"color: #7f7f7f; text-decoration-color: #7f7f7f\">163</span></a>\n",
       "</pre>\n"
      ],
      "text/plain": [
       "\u001b[2;36m[14:53:21]\u001b[0m\u001b[2;36m \u001b[0mAnalysis notebook executed: ..\u001b[35m/reports/v009/2024_11_21__14_49/\u001b[0m\u001b[95manalysis_output.ipynb\u001b[0m        \u001b]8;id=599315;file:///home/paltenmo/projects/crossplatform/analysis_and_reporting/triage.py\u001b\\\u001b[2mtriage.py\u001b[0m\u001b]8;;\u001b\\\u001b[2m:\u001b[0m\u001b]8;id=886792;file:///home/paltenmo/projects/crossplatform/analysis_and_reporting/triage.py#163\u001b\\\u001b[2m163\u001b[0m\u001b]8;;\u001b\\\n"
      ]
     },
     "metadata": {},
     "output_type": "display_data"
    },
    {
     "data": {
      "text/html": [
       "<pre style=\"white-space:pre;overflow-x:auto;line-height:normal;font-family:Menlo,'DejaVu Sans Mono',consolas,'Courier New',monospace\"><span style=\"color: #7fbfbf; text-decoration-color: #7fbfbf\">           </span>Created report folder: ..<span style=\"color: #800080; text-decoration-color: #800080\">/reports/v009/</span><span style=\"color: #ff00ff; text-decoration-color: #ff00ff\">2024_11_21__14_53</span>                                   <a href=\"file:///home/paltenmo/projects/crossplatform/analysis_and_reporting/triage.py\" target=\"_blank\"><span style=\"color: #7f7f7f; text-decoration-color: #7f7f7f\">triage.py</span></a><span style=\"color: #7f7f7f; text-decoration-color: #7f7f7f\">:</span><a href=\"file:///home/paltenmo/projects/crossplatform/analysis_and_reporting/triage.py#131\" target=\"_blank\"><span style=\"color: #7f7f7f; text-decoration-color: #7f7f7f\">131</span></a>\n",
       "</pre>\n"
      ],
      "text/plain": [
       "\u001b[2;36m          \u001b[0m\u001b[2;36m \u001b[0mCreated report folder: ..\u001b[35m/reports/v009/\u001b[0m\u001b[95m2024_11_21__14_53\u001b[0m                                   \u001b]8;id=219138;file:///home/paltenmo/projects/crossplatform/analysis_and_reporting/triage.py\u001b\\\u001b[2mtriage.py\u001b[0m\u001b]8;;\u001b\\\u001b[2m:\u001b[0m\u001b]8;id=604296;file:///home/paltenmo/projects/crossplatform/analysis_and_reporting/triage.py#131\u001b\\\u001b[2m131\u001b[0m\u001b]8;;\u001b\\\n"
      ]
     },
     "metadata": {},
     "output_type": "display_data"
    },
    {
     "data": {
      "text/html": [
       "<pre style=\"white-space:pre;overflow-x:auto;line-height:normal;font-family:Menlo,'DejaVu Sans Mono',consolas,'Courier New',monospace\"><span style=\"color: #7fbfbf; text-decoration-color: #7fbfbf\">           </span>Copied files to: ..<span style=\"color: #800080; text-decoration-color: #800080\">/reports/v009/</span><span style=\"color: #ff00ff; text-decoration-color: #ff00ff\">2024_11_21__14_53</span>                                         <a href=\"file:///home/paltenmo/projects/crossplatform/analysis_and_reporting/triage.py\" target=\"_blank\"><span style=\"color: #7f7f7f; text-decoration-color: #7f7f7f\">triage.py</span></a><span style=\"color: #7f7f7f; text-decoration-color: #7f7f7f\">:</span><a href=\"file:///home/paltenmo/projects/crossplatform/analysis_and_reporting/triage.py#140\" target=\"_blank\"><span style=\"color: #7f7f7f; text-decoration-color: #7f7f7f\">140</span></a>\n",
       "</pre>\n"
      ],
      "text/plain": [
       "\u001b[2;36m          \u001b[0m\u001b[2;36m \u001b[0mCopied files to: ..\u001b[35m/reports/v009/\u001b[0m\u001b[95m2024_11_21__14_53\u001b[0m                                         \u001b]8;id=694511;file:///home/paltenmo/projects/crossplatform/analysis_and_reporting/triage.py\u001b\\\u001b[2mtriage.py\u001b[0m\u001b]8;;\u001b\\\u001b[2m:\u001b[0m\u001b]8;id=600508;file:///home/paltenmo/projects/crossplatform/analysis_and_reporting/triage.py#140\u001b\\\u001b[2m140\u001b[0m\u001b]8;;\u001b\\\n"
      ]
     },
     "metadata": {},
     "output_type": "display_data"
    },
    {
     "data": {
      "text/html": [
       "<pre style=\"white-space:pre;overflow-x:auto;line-height:normal;font-family:Menlo,'DejaVu Sans Mono',consolas,'Courier New',monospace\"><span style=\"color: #7fbfbf; text-decoration-color: #7fbfbf\">[14:53:21] </span>Involved functions:                                                             <a href=\"file:///home/paltenmo/projects/crossplatform/analysis_and_reporting/ddmin_target_file.py\" target=\"_blank\"><span style=\"color: #7f7f7f; text-decoration-color: #7f7f7f\">ddmin_target_file.py</span></a><span style=\"color: #7f7f7f; text-decoration-color: #7f7f7f\">:</span><a href=\"file:///home/paltenmo/projects/crossplatform/analysis_and_reporting/ddmin_target_file.py#206\" target=\"_blank\"><span style=\"color: #7f7f7f; text-decoration-color: #7f7f7f\">206</span></a>\n",
       "</pre>\n"
      ],
      "text/plain": [
       "\u001b[2;36m[14:53:21]\u001b[0m\u001b[2;36m \u001b[0mInvolved functions:                                                             \u001b]8;id=827893;file:///home/paltenmo/projects/crossplatform/analysis_and_reporting/ddmin_target_file.py\u001b\\\u001b[2mddmin_target_file.py\u001b[0m\u001b]8;;\u001b\\\u001b[2m:\u001b[0m\u001b]8;id=760556;file:///home/paltenmo/projects/crossplatform/analysis_and_reporting/ddmin_target_file.py#206\u001b\\\u001b[2m206\u001b[0m\u001b]8;;\u001b\\\n"
      ]
     },
     "metadata": {},
     "output_type": "display_data"
    },
    {
     "data": {
      "text/html": [
       "<pre style=\"white-space:pre;overflow-x:auto;line-height:normal;font-family:Menlo,'DejaVu Sans Mono',consolas,'Courier New',monospace\"><span style=\"color: #7fbfbf; text-decoration-color: #7fbfbf\">           </span>  - compare_qasm_via_qcec                                                       <a href=\"file:///home/paltenmo/projects/crossplatform/analysis_and_reporting/ddmin_target_file.py\" target=\"_blank\"><span style=\"color: #7f7f7f; text-decoration-color: #7f7f7f\">ddmin_target_file.py</span></a><span style=\"color: #7f7f7f; text-decoration-color: #7f7f7f\">:</span><a href=\"file:///home/paltenmo/projects/crossplatform/analysis_and_reporting/ddmin_target_file.py#208\" target=\"_blank\"><span style=\"color: #7f7f7f; text-decoration-color: #7f7f7f\">208</span></a>\n",
       "</pre>\n"
      ],
      "text/plain": [
       "\u001b[2;36m          \u001b[0m\u001b[2;36m \u001b[0m  - compare_qasm_via_qcec                                                       \u001b]8;id=664975;file:///home/paltenmo/projects/crossplatform/analysis_and_reporting/ddmin_target_file.py\u001b\\\u001b[2mddmin_target_file.py\u001b[0m\u001b]8;;\u001b\\\u001b[2m:\u001b[0m\u001b]8;id=821106;file:///home/paltenmo/projects/crossplatform/analysis_and_reporting/ddmin_target_file.py#208\u001b\\\u001b[2m208\u001b[0m\u001b]8;;\u001b\\\n"
      ]
     },
     "metadata": {},
     "output_type": "display_data"
    },
    {
     "data": {
      "text/html": [
       "<pre style=\"white-space:pre;overflow-x:auto;line-height:normal;font-family:Menlo,'DejaVu Sans Mono',consolas,'Courier New',monospace\"><span style=\"color: #7fbfbf; text-decoration-color: #7fbfbf\">           </span>  - export_to_qasm_with_pytket                                                  <a href=\"file:///home/paltenmo/projects/crossplatform/analysis_and_reporting/ddmin_target_file.py\" target=\"_blank\"><span style=\"color: #7f7f7f; text-decoration-color: #7f7f7f\">ddmin_target_file.py</span></a><span style=\"color: #7f7f7f; text-decoration-color: #7f7f7f\">:</span><a href=\"file:///home/paltenmo/projects/crossplatform/analysis_and_reporting/ddmin_target_file.py#208\" target=\"_blank\"><span style=\"color: #7f7f7f; text-decoration-color: #7f7f7f\">208</span></a>\n",
       "</pre>\n"
      ],
      "text/plain": [
       "\u001b[2;36m          \u001b[0m\u001b[2;36m \u001b[0m  - export_to_qasm_with_pytket                                                  \u001b]8;id=469393;file:///home/paltenmo/projects/crossplatform/analysis_and_reporting/ddmin_target_file.py\u001b\\\u001b[2mddmin_target_file.py\u001b[0m\u001b]8;;\u001b\\\u001b[2m:\u001b[0m\u001b]8;id=635034;file:///home/paltenmo/projects/crossplatform/analysis_and_reporting/ddmin_target_file.py#208\u001b\\\u001b[2m208\u001b[0m\u001b]8;;\u001b\\\n"
      ]
     },
     "metadata": {},
     "output_type": "display_data"
    },
    {
     "data": {
      "text/html": [
       "<pre style=\"white-space:pre;overflow-x:auto;line-height:normal;font-family:Menlo,'DejaVu Sans Mono',consolas,'Courier New',monospace\"><span style=\"color: #7fbfbf; text-decoration-color: #7fbfbf\">           </span>  - export_to_qasm_with_qiskit                                                  <a href=\"file:///home/paltenmo/projects/crossplatform/analysis_and_reporting/ddmin_target_file.py\" target=\"_blank\"><span style=\"color: #7f7f7f; text-decoration-color: #7f7f7f\">ddmin_target_file.py</span></a><span style=\"color: #7f7f7f; text-decoration-color: #7f7f7f\">:</span><a href=\"file:///home/paltenmo/projects/crossplatform/analysis_and_reporting/ddmin_target_file.py#208\" target=\"_blank\"><span style=\"color: #7f7f7f; text-decoration-color: #7f7f7f\">208</span></a>\n",
       "</pre>\n"
      ],
      "text/plain": [
       "\u001b[2;36m          \u001b[0m\u001b[2;36m \u001b[0m  - export_to_qasm_with_qiskit                                                  \u001b]8;id=738724;file:///home/paltenmo/projects/crossplatform/analysis_and_reporting/ddmin_target_file.py\u001b\\\u001b[2mddmin_target_file.py\u001b[0m\u001b]8;;\u001b\\\u001b[2m:\u001b[0m\u001b]8;id=822888;file:///home/paltenmo/projects/crossplatform/analysis_and_reporting/ddmin_target_file.py#208\u001b\\\u001b[2m208\u001b[0m\u001b]8;;\u001b\\\n"
      ]
     },
     "metadata": {},
     "output_type": "display_data"
    },
    {
     "name": "stdout",
     "output_type": "stream",
     "text": [
      "Error parsing: Command 'python /workspace/to_execute.py' in image 'qiskit_runner' returned non-zero exit status 1: b'Traceback (most recent call last):\\n  File \"/workspace/to_execute.py\", line 105, in <module>\\n    target_qc = qc\\nNameError: name \\'qc\\' is not defined\\n'\n",
      "Failed to execute to_execute.py in Docker.\n",
      "Output: Saved the Pytket circuit to /workspace/to_execute_qc_pytket.qasm\n",
      "Saved the Qiskit circuit to /workspace/to_execute_qc_qiskit.qasm\n",
      "Exported QASM files: [('/workspace/to_execute_qc_pytket.qasm', 'export_to_qasm_with_pytket'), ('/workspace/to_execute_qc_qiskit.qasm', 'export_to_qasm_with_qiskit')]\n",
      "Log has been saved to /workspace/to_execute_c30ec3_error.json\n",
      "\n",
      "Program to_execute.py executed successfully.\n",
      "New exception message: The circuits are not equivalent: /workspace/to_execute_qc_pytket.qasm, /workspace/to_execute_qc_qiskit.qasm\n",
      "Error parsing: Command 'python /workspace/to_execute.py' in image 'qiskit_runner' returned non-zero exit status 1: b'  File \"/workspace/to_execute.py\", line 25\\n    , custom_instructions=qasm2.LEGACY_CUSTOM_INSTRUCTIONS)\\n                                                          ^\\nSyntaxError: unmatched \\')\\'\\n'\n",
      "Failed to execute to_execute.py in Docker.\n",
      "Error parsing: Command 'python /workspace/to_execute.py' in image 'qiskit_runner' returned non-zero exit status 1: b'  File \"/workspace/to_execute.py\", line 10\\n    qc = qasm2.loads(\\n                    ^\\nSyntaxError: \\'(\\' was never closed\\n'\n",
      "Failed to execute to_execute.py in Docker.\n",
      "Error parsing: Command 'python /workspace/to_execute.py' in image 'qiskit_runner' returned non-zero exit status 1: b'  File \"/workspace/to_execute.py\", line 40\\n    , custom_instructions=qasm2.LEGACY_CUSTOM_INSTRUCTIONS)\\n                                                          ^\\nSyntaxError: unmatched \\')\\'\\n'\n",
      "Failed to execute to_execute.py in Docker.\n",
      "Output: Saved the Pytket circuit to /workspace/to_execute_qc_pytket.qasm\n",
      "Saved the Qiskit circuit to /workspace/to_execute_qc_qiskit.qasm\n",
      "Exported QASM files: [('/workspace/to_execute_qc_pytket.qasm', 'export_to_qasm_with_pytket'), ('/workspace/to_execute_qc_qiskit.qasm', 'export_to_qasm_with_qiskit')]\n",
      "Log has been saved to /workspace/to_execute_6f8501_error.json\n",
      "\n",
      "Program to_execute.py executed successfully.\n",
      "New exception message: The circuits are not equivalent: /workspace/to_execute_qc_pytket.qasm, /workspace/to_execute_qc_qiskit.qasm\n",
      "Error parsing: Command 'python /workspace/to_execute.py' in image 'qiskit_runner' returned non-zero exit status 1: b'  File \"/workspace/to_execute.py\", line 27\\n    , custom_instructions=qasm2.LEGACY_CUSTOM_INSTRUCTIONS)\\n                                                          ^\\nSyntaxError: unmatched \\')\\'\\n'\n",
      "Failed to execute to_execute.py in Docker.\n",
      "Error parsing: Command 'python /workspace/to_execute.py' in image 'qiskit_runner' returned non-zero exit status 1: b'Traceback (most recent call last):\\n  File \"/workspace/to_execute.py\", line 10, in <module>\\n    qc = qasm2.loads(\\n  File \"/usr/local/lib/python3.10/site-packages/qiskit/qasm2/__init__.py\", line 587, in loads\\n    return _parse.from_bytecode(\\n  File \"/usr/local/lib/python3.10/site-packages/qiskit/qasm2/parse.py\", line 214, in from_bytecode\\n    for op in bc:\\nqiskit.qasm2.exceptions.QASM2ParseError: \"<input>:11,22: \\'reg_2_c\\' is not defined in this scope\"\\n'\n",
      "Failed to execute to_execute.py in Docker.\n",
      "Error parsing: Command 'python /workspace/to_execute.py' in image 'qiskit_runner' returned non-zero exit status 1: b'  File \"/workspace/to_execute.py\", line 10\\n    qc = qasm2.loads(\\n                    ^\\nSyntaxError: \\'(\\' was never closed\\n'\n",
      "Failed to execute to_execute.py in Docker.\n",
      "Error parsing: Command 'python /workspace/to_execute.py' in image 'qiskit_runner' returned non-zero exit status 1: b'  File \"/workspace/to_execute.py\", line 31\\n    , custom_instructions=qasm2.LEGACY_CUSTOM_INSTRUCTIONS)\\n                                                          ^\\nSyntaxError: unmatched \\')\\'\\n'\n",
      "Failed to execute to_execute.py in Docker.\n",
      "Error parsing: Command 'python /workspace/to_execute.py' in image 'qiskit_runner' returned non-zero exit status 1: b'Traceback (most recent call last):\\n  File \"/workspace/to_execute.py\", line 10, in <module>\\n    qc = qasm2.loads(\\n  File \"/usr/local/lib/python3.10/site-packages/qiskit/qasm2/__init__.py\", line 587, in loads\\n    return _parse.from_bytecode(\\n  File \"/usr/local/lib/python3.10/site-packages/qiskit/qasm2/parse.py\", line 214, in from_bytecode\\n    for op in bc:\\nqiskit.qasm2.exceptions.QASM2ParseError: \"<input>:4,2: \\'reg_2_q\\' is not defined in this scope\"\\n'\n",
      "Failed to execute to_execute.py in Docker.\n",
      "Output: Saved the Pytket circuit to /workspace/to_execute_qc_pytket.qasm\n",
      "Saved the Qiskit circuit to /workspace/to_execute_qc_qiskit.qasm\n",
      "Exported QASM files: [('/workspace/to_execute_qc_pytket.qasm', 'export_to_qasm_with_pytket'), ('/workspace/to_execute_qc_qiskit.qasm', 'export_to_qasm_with_qiskit')]\n",
      "Log has been saved to /workspace/to_execute_742b9d_error.json\n",
      "\n",
      "Program to_execute.py executed successfully.\n",
      "New exception message: The circuits are not equivalent: /workspace/to_execute_qc_pytket.qasm, /workspace/to_execute_qc_qiskit.qasm\n",
      "Error parsing: Command 'python /workspace/to_execute.py' in image 'qiskit_runner' returned non-zero exit status 1: b'  File \"/workspace/to_execute.py\", line 24\\n    , custom_instructions=qasm2.LEGACY_CUSTOM_INSTRUCTIONS)\\n                                                          ^\\nSyntaxError: unmatched \\')\\'\\n'\n",
      "Failed to execute to_execute.py in Docker.\n",
      "Error parsing: Command 'python /workspace/to_execute.py' in image 'qiskit_runner' returned non-zero exit status 1: b'Traceback (most recent call last):\\n  File \"/workspace/to_execute.py\", line 10, in <module>\\n    qc = qasm2.loads(\\n  File \"/usr/local/lib/python3.10/site-packages/qiskit/qasm2/__init__.py\", line 587, in loads\\n    return _parse.from_bytecode(\\n  File \"/usr/local/lib/python3.10/site-packages/qiskit/qasm2/parse.py\", line 214, in from_bytecode\\n    for op in bc:\\nqiskit.qasm2.exceptions.QASM2ParseError: \"<input>:5,9: \\'reg_2_q\\' is not defined in this scope\"\\n'\n",
      "Failed to execute to_execute.py in Docker.\n",
      "Error parsing: Command 'python /workspace/to_execute.py' in image 'qiskit_runner' returned non-zero exit status 1: b'Traceback (most recent call last):\\n  File \"/workspace/to_execute.py\", line 10, in <module>\\n    qc = qasm2.loads(\\n  File \"/usr/local/lib/python3.10/site-packages/qiskit/qasm2/__init__.py\", line 587, in loads\\n    return _parse.from_bytecode(\\n  File \"/usr/local/lib/python3.10/site-packages/qiskit/qasm2/parse.py\", line 214, in from_bytecode\\n    for op in bc:\\nqiskit.qasm2.exceptions.QASM2ParseError: \"<input>:7,3: \\'reg_1_b\\' is not defined in this scope\"\\n'\n",
      "Failed to execute to_execute.py in Docker.\n",
      "Output: Saved the Pytket circuit to /workspace/to_execute_qc_pytket.qasm\n",
      "Saved the Qiskit circuit to /workspace/to_execute_qc_qiskit.qasm\n",
      "Exported QASM files: [('/workspace/to_execute_qc_pytket.qasm', 'export_to_qasm_with_pytket'), ('/workspace/to_execute_qc_qiskit.qasm', 'export_to_qasm_with_qiskit')]\n",
      "Log has been saved to /workspace/to_execute_d86d60_error.json\n",
      "\n",
      "Program to_execute.py executed successfully.\n",
      "New exception message: The circuits are not equivalent: /workspace/to_execute_qc_pytket.qasm, /workspace/to_execute_qc_qiskit.qasm\n",
      "Error parsing: Command 'python /workspace/to_execute.py' in image 'qiskit_runner' returned non-zero exit status 1: b'  File \"/workspace/to_execute.py\", line 20\\n    , custom_instructions=qasm2.LEGACY_CUSTOM_INSTRUCTIONS)\\n                                                          ^\\nSyntaxError: unmatched \\')\\'\\n'\n",
      "Failed to execute to_execute.py in Docker.\n",
      "Error parsing: Command 'python /workspace/to_execute.py' in image 'qiskit_runner' returned non-zero exit status 1: b'Traceback (most recent call last):\\n  File \"/workspace/to_execute.py\", line 10, in <module>\\n    qc = qasm2.loads(\\n  File \"/usr/local/lib/python3.10/site-packages/qiskit/qasm2/__init__.py\", line 587, in loads\\n    return _parse.from_bytecode(\\n  File \"/usr/local/lib/python3.10/site-packages/qiskit/qasm2/parse.py\", line 214, in from_bytecode\\n    for op in bc:\\nqiskit.qasm2.exceptions.QASM2ParseError: \"<input>:5,9: \\'reg_2_q\\' is not defined in this scope\"\\n'\n",
      "Failed to execute to_execute.py in Docker.\n",
      "Error parsing: Command 'python /workspace/to_execute.py' in image 'qiskit_runner' returned non-zero exit status 1: b'Traceback (most recent call last):\\n  File \"/workspace/to_execute.py\", line 10, in <module>\\n    qc = qasm2.loads(\\n  File \"/usr/local/lib/python3.10/site-packages/qiskit/qasm2/__init__.py\", line 587, in loads\\n    return _parse.from_bytecode(\\n  File \"/usr/local/lib/python3.10/site-packages/qiskit/qasm2/parse.py\", line 214, in from_bytecode\\n    for op in bc:\\nqiskit.qasm2.exceptions.QASM2ParseError: \"<input>:7,8: \\'reg_1_b\\' is not defined in this scope\"\\n'\n",
      "Failed to execute to_execute.py in Docker.\n",
      "Error parsing: Command 'python /workspace/to_execute.py' in image 'qiskit_runner' returned non-zero exit status 1: b'  File \"/workspace/to_execute.py\", line 10\\n    qc = qasm2.loads(\\n                    ^\\nSyntaxError: \\'(\\' was never closed\\n'\n",
      "Failed to execute to_execute.py in Docker.\n",
      "Error parsing: Command 'python /workspace/to_execute.py' in image 'qiskit_runner' returned non-zero exit status 1: b'  File \"/workspace/to_execute.py\", line 23\\n    , custom_instructions=qasm2.LEGACY_CUSTOM_INSTRUCTIONS)\\nIndentationError: unexpected indent\\n'\n",
      "Failed to execute to_execute.py in Docker.\n",
      "Error parsing: Command 'python /workspace/to_execute.py' in image 'qiskit_runner' returned non-zero exit status 1: b'  File \"/workspace/to_execute.py\", line 12\\n    include \"qelib1.inc\";\\n            ^^^^^^^^^^^^\\nSyntaxError: invalid syntax\\n'\n",
      "Failed to execute to_execute.py in Docker.\n",
      "Error parsing: Command 'python /workspace/to_execute.py' in image 'qiskit_runner' returned non-zero exit status 1: b'Traceback (most recent call last):\\n  File \"/workspace/to_execute.py\", line 10, in <module>\\n    qc = qasm2.loads(\\n  File \"/usr/local/lib/python3.10/site-packages/qiskit/qasm2/__init__.py\", line 587, in loads\\n    return _parse.from_bytecode(\\n  File \"/usr/local/lib/python3.10/site-packages/qiskit/qasm2/parse.py\", line 214, in from_bytecode\\n    for op in bc:\\nqiskit.qasm2.exceptions.QASM2ParseError: \"<input>:7,9: \\'reg_2_q\\' is not defined in this scope\"\\n'\n",
      "Failed to execute to_execute.py in Docker.\n",
      "Output: Saved the Pytket circuit to /workspace/to_execute_qc_pytket.qasm\n",
      "Saved the Qiskit circuit to /workspace/to_execute_qc_qiskit.qasm\n",
      "Exported QASM files: [('/workspace/to_execute_qc_pytket.qasm', 'export_to_qasm_with_pytket'), ('/workspace/to_execute_qc_qiskit.qasm', 'export_to_qasm_with_qiskit')]\n",
      "Log has been saved to /workspace/to_execute_28a6cf_error.json\n",
      "\n",
      "Program to_execute.py executed successfully.\n",
      "New exception message: The circuits are not equivalent: /workspace/to_execute_qc_pytket.qasm, /workspace/to_execute_qc_qiskit.qasm\n",
      "Error parsing: Command 'python /workspace/to_execute.py' in image 'qiskit_runner' returned non-zero exit status 1: b'  File \"/workspace/to_execute.py\", line 21\\n    , custom_instructions=qasm2.LEGACY_CUSTOM_INSTRUCTIONS)\\nIndentationError: unexpected indent\\n'\n",
      "Failed to execute to_execute.py in Docker.\n",
      "Error parsing: Command 'python /workspace/to_execute.py' in image 'qiskit_runner' returned non-zero exit status 1: b'  File \"/workspace/to_execute.py\", line 12\\n    include \"qelib1.inc\";\\n            ^^^^^^^^^^^^\\nSyntaxError: invalid syntax\\n'\n",
      "Failed to execute to_execute.py in Docker.\n",
      "Error parsing: Command 'python /workspace/to_execute.py' in image 'qiskit_runner' returned non-zero exit status 1: b'Traceback (most recent call last):\\n  File \"/workspace/to_execute.py\", line 10, in <module>\\n    qc = qasm2.loads(\\n  File \"/usr/local/lib/python3.10/site-packages/qiskit/qasm2/__init__.py\", line 587, in loads\\n    return _parse.from_bytecode(\\n  File \"/usr/local/lib/python3.10/site-packages/qiskit/qasm2/parse.py\", line 214, in from_bytecode\\n    for op in bc:\\nqiskit.qasm2.exceptions.QASM2ParseError: \"<input>:5,9: \\'reg_2_q\\' is not defined in this scope\"\\n'\n",
      "Failed to execute to_execute.py in Docker.\n",
      "Error parsing: Command 'python /workspace/to_execute.py' in image 'qiskit_runner' returned non-zero exit status 1: b'Traceback (most recent call last):\\n  File \"/workspace/to_execute.py\", line 10, in <module>\\n    qc = qasm2.loads(\\n  File \"/usr/local/lib/python3.10/site-packages/qiskit/qasm2/__init__.py\", line 587, in loads\\n    return _parse.from_bytecode(\\n  File \"/usr/local/lib/python3.10/site-packages/qiskit/qasm2/parse.py\", line 214, in from_bytecode\\n    for op in bc:\\nqiskit.qasm2.exceptions.QASM2ParseError: \"<input>:7,8: \\'reg_1_b\\' is not defined in this scope\"\\n'\n",
      "Failed to execute to_execute.py in Docker.\n",
      "Output: Saved the Pytket circuit to /workspace/to_execute_qc_pytket.qasm\n",
      "Saved the Qiskit circuit to /workspace/to_execute_qc_qiskit.qasm\n",
      "Exported QASM files: [('/workspace/to_execute_qc_pytket.qasm', 'export_to_qasm_with_pytket'), ('/workspace/to_execute_qc_qiskit.qasm', 'export_to_qasm_with_qiskit')]\n",
      "The circuits are equivalent: /workspace/to_execute_qc_pytket.qasm, /workspace/to_execute_qc_qiskit.qasm\n",
      "\n",
      "Program to_execute.py executed successfully.\n",
      "Output: Saved the Pytket circuit to /workspace/to_execute_qc_pytket.qasm\n",
      "Saved the Qiskit circuit to /workspace/to_execute_qc_qiskit.qasm\n",
      "Exported QASM files: [('/workspace/to_execute_qc_pytket.qasm', 'export_to_qasm_with_pytket'), ('/workspace/to_execute_qc_qiskit.qasm', 'export_to_qasm_with_qiskit')]\n",
      "Log has been saved to /workspace/to_execute_741113_error.json\n",
      "\n",
      "Program to_execute.py executed successfully.\n",
      "New exception message: The circuits are not equivalent: /workspace/to_execute_qc_pytket.qasm, /workspace/to_execute_qc_qiskit.qasm\n",
      "Error parsing: Command 'python /workspace/to_execute.py' in image 'qiskit_runner' returned non-zero exit status 1: b'  File \"/workspace/to_execute.py\", line 19\\n    , custom_instructions=qasm2.LEGACY_CUSTOM_INSTRUCTIONS)\\nIndentationError: unexpected indent\\n'\n",
      "Failed to execute to_execute.py in Docker.\n",
      "Error parsing: Command 'python /workspace/to_execute.py' in image 'qiskit_runner' returned non-zero exit status 1: b'  File \"/workspace/to_execute.py\", line 12\\n    include \"qelib1.inc\";\\n            ^^^^^^^^^^^^\\nSyntaxError: invalid syntax\\n'\n",
      "Failed to execute to_execute.py in Docker.\n",
      "Error parsing: Command 'python /workspace/to_execute.py' in image 'qiskit_runner' returned non-zero exit status 1: b'Traceback (most recent call last):\\n  File \"/workspace/to_execute.py\", line 10, in <module>\\n    qc = qasm2.loads(\\n  File \"/usr/local/lib/python3.10/site-packages/qiskit/qasm2/__init__.py\", line 587, in loads\\n    return _parse.from_bytecode(\\n  File \"/usr/local/lib/python3.10/site-packages/qiskit/qasm2/parse.py\", line 214, in from_bytecode\\n    for op in bc:\\nqiskit.qasm2.exceptions.QASM2ParseError: \"<input>:5,9: \\'reg_2_q\\' is not defined in this scope\"\\n'\n",
      "Failed to execute to_execute.py in Docker.\n",
      "Output: Saved the Pytket circuit to /workspace/to_execute_qc_pytket.qasm\n",
      "Saved the Qiskit circuit to /workspace/to_execute_qc_qiskit.qasm\n",
      "Exported QASM files: [('/workspace/to_execute_qc_pytket.qasm', 'export_to_qasm_with_pytket'), ('/workspace/to_execute_qc_qiskit.qasm', 'export_to_qasm_with_qiskit')]\n",
      "The circuits are equivalent: /workspace/to_execute_qc_pytket.qasm, /workspace/to_execute_qc_qiskit.qasm\n",
      "\n",
      "Program to_execute.py executed successfully.\n",
      "Output: Saved the Pytket circuit to /workspace/to_execute_qc_pytket.qasm\n",
      "Saved the Qiskit circuit to /workspace/to_execute_qc_qiskit.qasm\n",
      "Exported QASM files: [('/workspace/to_execute_qc_pytket.qasm', 'export_to_qasm_with_pytket'), ('/workspace/to_execute_qc_qiskit.qasm', 'export_to_qasm_with_qiskit')]\n",
      "The circuits are equivalent: /workspace/to_execute_qc_pytket.qasm, /workspace/to_execute_qc_qiskit.qasm\n",
      "\n",
      "Program to_execute.py executed successfully.\n",
      "Error parsing: Command 'python /workspace/to_execute.py' in image 'qiskit_runner' returned non-zero exit status 1: b'  File \"/workspace/to_execute.py\", line 10\\n    qc = qasm2.loads(\\n                    ^\\nSyntaxError: \\'(\\' was never closed\\n'\n",
      "Failed to execute to_execute.py in Docker.\n",
      "Error parsing: Command 'python /workspace/to_execute.py' in image 'qiskit_runner' returned non-zero exit status 1: b'  File \"/workspace/to_execute.py\", line 20\\n    , custom_instructions=qasm2.LEGACY_CUSTOM_INSTRUCTIONS)\\nIndentationError: unexpected indent\\n'\n",
      "Failed to execute to_execute.py in Docker.\n",
      "Output: Saved the Pytket circuit to /workspace/to_execute_qc_pytket.qasm\n",
      "Saved the Qiskit circuit to /workspace/to_execute_qc_qiskit.qasm\n",
      "Exported QASM files: [('/workspace/to_execute_qc_pytket.qasm', 'export_to_qasm_with_pytket'), ('/workspace/to_execute_qc_qiskit.qasm', 'export_to_qasm_with_qiskit')]\n",
      "Log has been saved to /workspace/to_execute_414065_error.json\n",
      "\n",
      "Program to_execute.py executed successfully.\n",
      "New exception message: The circuits are not equivalent: /workspace/to_execute_qc_pytket.qasm, /workspace/to_execute_qc_qiskit.qasm\n",
      "Error parsing: Command 'python /workspace/to_execute.py' in image 'qiskit_runner' returned non-zero exit status 1: b'  File \"/workspace/to_execute.py\", line 19\\n    , custom_instructions=qasm2.LEGACY_CUSTOM_INSTRUCTIONS)\\nIndentationError: unexpected indent\\n'\n",
      "Failed to execute to_execute.py in Docker.\n",
      "Error parsing: Command 'python /workspace/to_execute.py' in image 'qiskit_runner' returned non-zero exit status 1: b'  File \"/workspace/to_execute.py\", line 11\\n    OPENQASM 2.0;\\n    ^^^^^^^^^^^^\\nSyntaxError: invalid syntax. Perhaps you forgot a comma?\\n'\n",
      "Failed to execute to_execute.py in Docker.\n",
      "Output: Saved the Pytket circuit to /workspace/to_execute_qc_pytket.qasm\n",
      "Saved the Qiskit circuit to /workspace/to_execute_qc_qiskit.qasm\n",
      "Exported QASM files: [('/workspace/to_execute_qc_pytket.qasm', 'export_to_qasm_with_pytket'), ('/workspace/to_execute_qc_qiskit.qasm', 'export_to_qasm_with_qiskit')]\n",
      "Log has been saved to /workspace/to_execute_4fec38_error.json\n",
      "\n",
      "Program to_execute.py executed successfully.\n",
      "New exception message: The circuits are not equivalent: /workspace/to_execute_qc_pytket.qasm, /workspace/to_execute_qc_qiskit.qasm\n",
      "Error parsing: Command 'python /workspace/to_execute.py' in image 'qiskit_runner' returned non-zero exit status 1: b'  File \"/workspace/to_execute.py\", line 18\\n    , custom_instructions=qasm2.LEGACY_CUSTOM_INSTRUCTIONS)\\nIndentationError: unexpected indent\\n'\n",
      "Failed to execute to_execute.py in Docker.\n",
      "Error parsing: Command 'python /workspace/to_execute.py' in image 'qiskit_runner' returned non-zero exit status 1: b'  File \"/workspace/to_execute.py\", line 11\\n    include \"qelib1.inc\";\\n            ^^^^^^^^^^^^\\nSyntaxError: invalid syntax\\n'\n",
      "Failed to execute to_execute.py in Docker.\n",
      "Output: Saved the Pytket circuit to /workspace/to_execute_qc_pytket.qasm\n",
      "Saved the Qiskit circuit to /workspace/to_execute_qc_qiskit.qasm\n",
      "Exported QASM files: [('/workspace/to_execute_qc_pytket.qasm', 'export_to_qasm_with_pytket'), ('/workspace/to_execute_qc_qiskit.qasm', 'export_to_qasm_with_qiskit')]\n",
      "Log has been saved to /workspace/to_execute_4b3e3e_error.json\n",
      "\n",
      "Program to_execute.py executed successfully.\n",
      "New exception message: The circuits are not equivalent: /workspace/to_execute_qc_pytket.qasm, /workspace/to_execute_qc_qiskit.qasm\n",
      "Error parsing: Command 'python /workspace/to_execute.py' in image 'qiskit_runner' returned non-zero exit status 1: b'  File \"/workspace/to_execute.py\", line 17\\n    , custom_instructions=qasm2.LEGACY_CUSTOM_INSTRUCTIONS)\\nIndentationError: unexpected indent\\n'\n",
      "Failed to execute to_execute.py in Docker.\n",
      "Error parsing: Command 'python /workspace/to_execute.py' in image 'qiskit_runner' returned non-zero exit status 1: b'  File \"/workspace/to_execute.py\", line 11\\n    qreg reg_2_q[5];\\n    ^^^^^^^^^^^^^^^\\nSyntaxError: invalid syntax. Perhaps you forgot a comma?\\n'\n",
      "Failed to execute to_execute.py in Docker.\n",
      "Error parsing: Command 'python /workspace/to_execute.py' in image 'qiskit_runner' returned non-zero exit status 1: b'Traceback (most recent call last):\\n  File \"/workspace/to_execute.py\", line 10, in <module>\\n    qc = qasm2.loads(\\n  File \"/usr/local/lib/python3.10/site-packages/qiskit/qasm2/__init__.py\", line 587, in loads\\n    return _parse.from_bytecode(\\n  File \"/usr/local/lib/python3.10/site-packages/qiskit/qasm2/parse.py\", line 214, in from_bytecode\\n    for op in bc:\\nqiskit.qasm2.exceptions.QASM2ParseError: \"<input>:4,9: \\'reg_2_q\\' is not defined in this scope\"\\n'\n",
      "Failed to execute to_execute.py in Docker.\n",
      "Output: Saved the Pytket circuit to /workspace/to_execute_qc_pytket.qasm\n",
      "Saved the Qiskit circuit to /workspace/to_execute_qc_qiskit.qasm\n",
      "Exported QASM files: [('/workspace/to_execute_qc_pytket.qasm', 'export_to_qasm_with_pytket'), ('/workspace/to_execute_qc_qiskit.qasm', 'export_to_qasm_with_qiskit')]\n",
      "The circuits are equivalent: /workspace/to_execute_qc_pytket.qasm, /workspace/to_execute_qc_qiskit.qasm\n",
      "\n",
      "Program to_execute.py executed successfully.\n",
      "Output: Saved the Pytket circuit to /workspace/to_execute_qc_pytket.qasm\n",
      "Saved the Qiskit circuit to /workspace/to_execute_qc_qiskit.qasm\n",
      "Exported QASM files: [('/workspace/to_execute_qc_pytket.qasm', 'export_to_qasm_with_pytket'), ('/workspace/to_execute_qc_qiskit.qasm', 'export_to_qasm_with_qiskit')]\n",
      "Log has been saved to /workspace/to_execute_29930b_error.json\n",
      "\n",
      "Program to_execute.py executed successfully.\n",
      "New exception message: The circuits are not equivalent: /workspace/to_execute_qc_pytket.qasm, /workspace/to_execute_qc_qiskit.qasm\n",
      "Error parsing: Command 'python /workspace/to_execute.py' in image 'qiskit_runner' returned non-zero exit status 1: b'  File \"/workspace/to_execute.py\", line 16\\n    , custom_instructions=qasm2.LEGACY_CUSTOM_INSTRUCTIONS)\\nIndentationError: unexpected indent\\n'\n",
      "Failed to execute to_execute.py in Docker.\n",
      "Error parsing: Command 'python /workspace/to_execute.py' in image 'qiskit_runner' returned non-zero exit status 1: b'  File \"/workspace/to_execute.py\", line 11\\n    qreg reg_2_q[5];\\n    ^^^^^^^^^^^^^^^\\nSyntaxError: invalid syntax. Perhaps you forgot a comma?\\n'\n",
      "Failed to execute to_execute.py in Docker.\n",
      "Error parsing: Command 'python /workspace/to_execute.py' in image 'qiskit_runner' returned non-zero exit status 1: b'Traceback (most recent call last):\\n  File \"/workspace/to_execute.py\", line 10, in <module>\\n    qc = qasm2.loads(\\n  File \"/usr/local/lib/python3.10/site-packages/qiskit/qasm2/__init__.py\", line 587, in loads\\n    return _parse.from_bytecode(\\n  File \"/usr/local/lib/python3.10/site-packages/qiskit/qasm2/parse.py\", line 214, in from_bytecode\\n    for op in bc:\\nqiskit.qasm2.exceptions.QASM2ParseError: \"<input>:3,9: \\'reg_2_q\\' is not defined in this scope\"\\n'\n",
      "Failed to execute to_execute.py in Docker.\n",
      "Output: Saved the Pytket circuit to /workspace/to_execute_qc_pytket.qasm\n",
      "Saved the Qiskit circuit to /workspace/to_execute_qc_qiskit.qasm\n",
      "Exported QASM files: [('/workspace/to_execute_qc_pytket.qasm', 'export_to_qasm_with_pytket'), ('/workspace/to_execute_qc_qiskit.qasm', 'export_to_qasm_with_qiskit')]\n",
      "The circuits are equivalent: /workspace/to_execute_qc_pytket.qasm, /workspace/to_execute_qc_qiskit.qasm\n",
      "\n",
      "Program to_execute.py executed successfully.\n",
      "Output: Saved the Pytket circuit to /workspace/to_execute_qc_pytket.qasm\n",
      "Saved the Qiskit circuit to /workspace/to_execute_qc_qiskit.qasm\n",
      "Exported QASM files: [('/workspace/to_execute_qc_pytket.qasm', 'export_to_qasm_with_pytket'), ('/workspace/to_execute_qc_qiskit.qasm', 'export_to_qasm_with_qiskit')]\n",
      "Log has been saved to /workspace/to_execute_0cfdf1_error.json\n",
      "\n",
      "Program to_execute.py executed successfully.\n",
      "New exception message: The circuits are not equivalent: /workspace/to_execute_qc_pytket.qasm, /workspace/to_execute_qc_qiskit.qasm\n",
      "Error parsing: Command 'python /workspace/to_execute.py' in image 'qiskit_runner' returned non-zero exit status 1: b'  File \"/workspace/to_execute.py\", line 15\\n    , custom_instructions=qasm2.LEGACY_CUSTOM_INSTRUCTIONS)\\nIndentationError: unexpected indent\\n'\n",
      "Failed to execute to_execute.py in Docker.\n",
      "Error parsing: Command 'python /workspace/to_execute.py' in image 'qiskit_runner' returned non-zero exit status 1: b'  File \"/workspace/to_execute.py\", line 11\\n    qreg reg_2_q[5];\\n    ^^^^^^^^^^^^^^^\\nSyntaxError: invalid syntax. Perhaps you forgot a comma?\\n'\n",
      "Failed to execute to_execute.py in Docker.\n",
      "Error parsing: Command 'python /workspace/to_execute.py' in image 'qiskit_runner' returned non-zero exit status 1: b'Traceback (most recent call last):\\n  File \"/workspace/to_execute.py\", line 10, in <module>\\n    qc = qasm2.loads(\\n  File \"/usr/local/lib/python3.10/site-packages/qiskit/qasm2/__init__.py\", line 587, in loads\\n    return _parse.from_bytecode(\\n  File \"/usr/local/lib/python3.10/site-packages/qiskit/qasm2/parse.py\", line 214, in from_bytecode\\n    for op in bc:\\nqiskit.qasm2.exceptions.QASM2ParseError: \"<input>:3,9: \\'reg_2_q\\' is not defined in this scope\"\\n'\n",
      "Failed to execute to_execute.py in Docker.\n",
      "Output: Saved the Pytket circuit to /workspace/to_execute_qc_pytket.qasm\n",
      "Saved the Qiskit circuit to /workspace/to_execute_qc_qiskit.qasm\n",
      "Exported QASM files: [('/workspace/to_execute_qc_pytket.qasm', 'export_to_qasm_with_pytket'), ('/workspace/to_execute_qc_qiskit.qasm', 'export_to_qasm_with_qiskit')]\n",
      "The circuits are equivalent: /workspace/to_execute_qc_pytket.qasm, /workspace/to_execute_qc_qiskit.qasm\n",
      "\n",
      "Program to_execute.py executed successfully.\n",
      "Output: Saved the Pytket circuit to /workspace/to_execute_qc_pytket.qasm\n",
      "Saved the Qiskit circuit to /workspace/to_execute_qc_qiskit.qasm\n",
      "Exported QASM files: [('/workspace/to_execute_qc_pytket.qasm', 'export_to_qasm_with_pytket'), ('/workspace/to_execute_qc_qiskit.qasm', 'export_to_qasm_with_qiskit')]\n",
      "The circuits are equivalent: /workspace/to_execute_qc_pytket.qasm, /workspace/to_execute_qc_qiskit.qasm\n",
      "\n",
      "Program to_execute.py executed successfully.\n",
      "Error parsing: Command 'python /workspace/to_execute.py' in image 'qiskit_runner' returned non-zero exit status 1: b'  File \"/workspace/to_execute.py\", line 11\\n    qreg reg_2_q[5];\\n    ^^^^^^^^^^^^^^^\\nSyntaxError: invalid syntax. Perhaps you forgot a comma?\\n'\n",
      "Failed to execute to_execute.py in Docker.\n",
      "Error parsing: Command 'python /workspace/to_execute.py' in image 'qiskit_runner' returned non-zero exit status 1: b'  File \"/workspace/to_execute.py\", line 10\\n    qc = qasm2.loads(\\n                    ^\\nSyntaxError: \\'(\\' was never closed\\n'\n",
      "Failed to execute to_execute.py in Docker.\n"
     ]
    },
    {
     "data": {
      "text/html": [
       "<pre style=\"white-space:pre;overflow-x:auto;line-height:normal;font-family:Menlo,'DejaVu Sans Mono',consolas,'Courier New',monospace\"><span style=\"color: #7fbfbf; text-decoration-color: #7fbfbf\">[14:57:17] </span><span style=\"color: #008000; text-decoration-color: #008000\">Minimized file saved as:</span>                                                        <a href=\"file:///home/paltenmo/projects/crossplatform/analysis_and_reporting/ddmin_target_file.py\" target=\"_blank\"><span style=\"color: #7f7f7f; text-decoration-color: #7f7f7f\">ddmin_target_file.py</span></a><span style=\"color: #7f7f7f; text-decoration-color: #7f7f7f\">:</span><a href=\"file:///home/paltenmo/projects/crossplatform/analysis_and_reporting/ddmin_target_file.py#240\" target=\"_blank\"><span style=\"color: #7f7f7f; text-decoration-color: #7f7f7f\">240</span></a>\n",
       "<span style=\"color: #7fbfbf; text-decoration-color: #7fbfbf\">           </span>..<span style=\"color: #800080; text-decoration-color: #800080\">/reports/v009/2024_11_21__14_53/</span><span style=\"color: #ff00ff; text-decoration-color: #ff00ff\">qiskit_circuit_5q_10g_6316_146402_6a36f0_erro</span> <span style=\"color: #7f7f7f; text-decoration-color: #7f7f7f\">                        </span>\n",
       "<span style=\"color: #7fbfbf; text-decoration-color: #7fbfbf\">           </span><span style=\"color: #ff00ff; text-decoration-color: #ff00ff\">r_min.py</span>                                                                        <span style=\"color: #7f7f7f; text-decoration-color: #7f7f7f\">                        </span>\n",
       "</pre>\n"
      ],
      "text/plain": [
       "\u001b[2;36m[14:57:17]\u001b[0m\u001b[2;36m \u001b[0m\u001b[32mMinimized file saved as:\u001b[0m                                                        \u001b]8;id=692249;file:///home/paltenmo/projects/crossplatform/analysis_and_reporting/ddmin_target_file.py\u001b\\\u001b[2mddmin_target_file.py\u001b[0m\u001b]8;;\u001b\\\u001b[2m:\u001b[0m\u001b]8;id=195353;file:///home/paltenmo/projects/crossplatform/analysis_and_reporting/ddmin_target_file.py#240\u001b\\\u001b[2m240\u001b[0m\u001b]8;;\u001b\\\n",
       "\u001b[2;36m           \u001b[0m..\u001b[35m/reports/v009/2024_11_21__14_53/\u001b[0m\u001b[95mqiskit_circuit_5q_10g_6316_146402_6a36f0_erro\u001b[0m \u001b[2m                        \u001b[0m\n",
       "\u001b[2;36m           \u001b[0m\u001b[95mr_min.py\u001b[0m                                                                        \u001b[2m                        \u001b[0m\n"
      ]
     },
     "metadata": {},
     "output_type": "display_data"
    },
    {
     "name": "stdout",
     "output_type": "stream",
     "text": [
      "Output: Saved the Pytket circuit to /workspace/qiskit_circuit_5q_10g_6316_146402_6a36f0_error_min_qc_pytket.qasm\n",
      "Saved the Qiskit circuit to /workspace/qiskit_circuit_5q_10g_6316_146402_6a36f0_error_min_qc_qiskit.qasm\n",
      "Exported QASM files: [('/workspace/qiskit_circuit_5q_10g_6316_146402_6a36f0_error_min_qc_pytket.qasm', 'export_to_qasm_with_pytket'), ('/workspace/qiskit_circuit_5q_10g_6316_146402_6a36f0_error_min_qc_qiskit.qasm', 'export_to_qasm_with_qiskit')]\n",
      "Log has been saved to /workspace/qiskit_circuit_5q_10g_6316_146402_6a36f0_error_min_c55469_error.json\n",
      "\n"
     ]
    },
    {
     "data": {
      "text/html": [
       "<pre style=\"white-space:pre;overflow-x:auto;line-height:normal;font-family:Menlo,'DejaVu Sans Mono',consolas,'Courier New',monospace\"><span style=\"color: #7fbfbf; text-decoration-color: #7fbfbf\">[14:57:24] </span>Program qiskit_circuit_5q_10g_6316_146402_6a36f0_error_min.py executed              <a href=\"file:///home/paltenmo/projects/crossplatform/generators/docker_tooling.py\" target=\"_blank\"><span style=\"color: #7f7f7f; text-decoration-color: #7f7f7f\">docker_tooling.py</span></a><span style=\"color: #7f7f7f; text-decoration-color: #7f7f7f\">:</span><a href=\"file:///home/paltenmo/projects/crossplatform/generators/docker_tooling.py#46\" target=\"_blank\"><span style=\"color: #7f7f7f; text-decoration-color: #7f7f7f\">46</span></a>\n",
       "<span style=\"color: #7fbfbf; text-decoration-color: #7fbfbf\">           </span>successfully.                                                                       <span style=\"color: #7f7f7f; text-decoration-color: #7f7f7f\">                    </span>\n",
       "</pre>\n"
      ],
      "text/plain": [
       "\u001b[2;36m[14:57:24]\u001b[0m\u001b[2;36m \u001b[0mProgram qiskit_circuit_5q_10g_6316_146402_6a36f0_error_min.py executed              \u001b]8;id=784739;file:///home/paltenmo/projects/crossplatform/generators/docker_tooling.py\u001b\\\u001b[2mdocker_tooling.py\u001b[0m\u001b]8;;\u001b\\\u001b[2m:\u001b[0m\u001b]8;id=128634;file:///home/paltenmo/projects/crossplatform/generators/docker_tooling.py#46\u001b\\\u001b[2m46\u001b[0m\u001b]8;;\u001b\\\n",
       "\u001b[2;36m           \u001b[0msuccessfully.                                                                       \u001b[2m                    \u001b[0m\n"
      ]
     },
     "metadata": {},
     "output_type": "display_data"
    },
    {
     "data": {
      "application/vnd.jupyter.widget-view+json": {
       "model_id": "51eebf741baf454fa9504f1ccf6713b5",
       "version_major": 2,
       "version_minor": 0
      },
      "text/plain": [
       "Executing:   0%|          | 0/13 [00:00<?, ?cell/s]"
      ]
     },
     "metadata": {},
     "output_type": "display_data"
    },
    {
     "data": {
      "text/html": [
       "<pre style=\"white-space:pre;overflow-x:auto;line-height:normal;font-family:Menlo,'DejaVu Sans Mono',consolas,'Courier New',monospace\"><span style=\"color: #7fbfbf; text-decoration-color: #7fbfbf\">[14:57:26] </span>Analysis notebook executed: ..<span style=\"color: #800080; text-decoration-color: #800080\">/reports/v009/2024_11_21__14_53/</span><span style=\"color: #ff00ff; text-decoration-color: #ff00ff\">analysis_output.ipynb</span>        <a href=\"file:///home/paltenmo/projects/crossplatform/analysis_and_reporting/triage.py\" target=\"_blank\"><span style=\"color: #7f7f7f; text-decoration-color: #7f7f7f\">triage.py</span></a><span style=\"color: #7f7f7f; text-decoration-color: #7f7f7f\">:</span><a href=\"file:///home/paltenmo/projects/crossplatform/analysis_and_reporting/triage.py#163\" target=\"_blank\"><span style=\"color: #7f7f7f; text-decoration-color: #7f7f7f\">163</span></a>\n",
       "</pre>\n"
      ],
      "text/plain": [
       "\u001b[2;36m[14:57:26]\u001b[0m\u001b[2;36m \u001b[0mAnalysis notebook executed: ..\u001b[35m/reports/v009/2024_11_21__14_53/\u001b[0m\u001b[95manalysis_output.ipynb\u001b[0m        \u001b]8;id=472223;file:///home/paltenmo/projects/crossplatform/analysis_and_reporting/triage.py\u001b\\\u001b[2mtriage.py\u001b[0m\u001b]8;;\u001b\\\u001b[2m:\u001b[0m\u001b]8;id=260868;file:///home/paltenmo/projects/crossplatform/analysis_and_reporting/triage.py#163\u001b\\\u001b[2m163\u001b[0m\u001b]8;;\u001b\\\n"
      ]
     },
     "metadata": {},
     "output_type": "display_data"
    },
    {
     "data": {
      "text/html": [
       "<pre style=\"white-space:pre;overflow-x:auto;line-height:normal;font-family:Menlo,'DejaVu Sans Mono',consolas,'Courier New',monospace\"><span style=\"color: #7fbfbf; text-decoration-color: #7fbfbf\">           </span>Created report folder: ..<span style=\"color: #800080; text-decoration-color: #800080\">/reports/v009/</span><span style=\"color: #ff00ff; text-decoration-color: #ff00ff\">2024_11_21__14_57</span>                                   <a href=\"file:///home/paltenmo/projects/crossplatform/analysis_and_reporting/triage.py\" target=\"_blank\"><span style=\"color: #7f7f7f; text-decoration-color: #7f7f7f\">triage.py</span></a><span style=\"color: #7f7f7f; text-decoration-color: #7f7f7f\">:</span><a href=\"file:///home/paltenmo/projects/crossplatform/analysis_and_reporting/triage.py#131\" target=\"_blank\"><span style=\"color: #7f7f7f; text-decoration-color: #7f7f7f\">131</span></a>\n",
       "</pre>\n"
      ],
      "text/plain": [
       "\u001b[2;36m          \u001b[0m\u001b[2;36m \u001b[0mCreated report folder: ..\u001b[35m/reports/v009/\u001b[0m\u001b[95m2024_11_21__14_57\u001b[0m                                   \u001b]8;id=630748;file:///home/paltenmo/projects/crossplatform/analysis_and_reporting/triage.py\u001b\\\u001b[2mtriage.py\u001b[0m\u001b]8;;\u001b\\\u001b[2m:\u001b[0m\u001b]8;id=541353;file:///home/paltenmo/projects/crossplatform/analysis_and_reporting/triage.py#131\u001b\\\u001b[2m131\u001b[0m\u001b]8;;\u001b\\\n"
      ]
     },
     "metadata": {},
     "output_type": "display_data"
    },
    {
     "data": {
      "text/html": [
       "<pre style=\"white-space:pre;overflow-x:auto;line-height:normal;font-family:Menlo,'DejaVu Sans Mono',consolas,'Courier New',monospace\"><span style=\"color: #7fbfbf; text-decoration-color: #7fbfbf\">           </span>Copied files to: ..<span style=\"color: #800080; text-decoration-color: #800080\">/reports/v009/</span><span style=\"color: #ff00ff; text-decoration-color: #ff00ff\">2024_11_21__14_57</span>                                         <a href=\"file:///home/paltenmo/projects/crossplatform/analysis_and_reporting/triage.py\" target=\"_blank\"><span style=\"color: #7f7f7f; text-decoration-color: #7f7f7f\">triage.py</span></a><span style=\"color: #7f7f7f; text-decoration-color: #7f7f7f\">:</span><a href=\"file:///home/paltenmo/projects/crossplatform/analysis_and_reporting/triage.py#140\" target=\"_blank\"><span style=\"color: #7f7f7f; text-decoration-color: #7f7f7f\">140</span></a>\n",
       "</pre>\n"
      ],
      "text/plain": [
       "\u001b[2;36m          \u001b[0m\u001b[2;36m \u001b[0mCopied files to: ..\u001b[35m/reports/v009/\u001b[0m\u001b[95m2024_11_21__14_57\u001b[0m                                         \u001b]8;id=991224;file:///home/paltenmo/projects/crossplatform/analysis_and_reporting/triage.py\u001b\\\u001b[2mtriage.py\u001b[0m\u001b]8;;\u001b\\\u001b[2m:\u001b[0m\u001b]8;id=138808;file:///home/paltenmo/projects/crossplatform/analysis_and_reporting/triage.py#140\u001b\\\u001b[2m140\u001b[0m\u001b]8;;\u001b\\\n"
      ]
     },
     "metadata": {},
     "output_type": "display_data"
    },
    {
     "data": {
      "text/html": [
       "<pre style=\"white-space:pre;overflow-x:auto;line-height:normal;font-family:Menlo,'DejaVu Sans Mono',consolas,'Courier New',monospace\"><span style=\"color: #7fbfbf; text-decoration-color: #7fbfbf\">[14:57:26] </span>Involved functions:                                                             <a href=\"file:///home/paltenmo/projects/crossplatform/analysis_and_reporting/ddmin_target_file.py\" target=\"_blank\"><span style=\"color: #7f7f7f; text-decoration-color: #7f7f7f\">ddmin_target_file.py</span></a><span style=\"color: #7f7f7f; text-decoration-color: #7f7f7f\">:</span><a href=\"file:///home/paltenmo/projects/crossplatform/analysis_and_reporting/ddmin_target_file.py#206\" target=\"_blank\"><span style=\"color: #7f7f7f; text-decoration-color: #7f7f7f\">206</span></a>\n",
       "</pre>\n"
      ],
      "text/plain": [
       "\u001b[2;36m[14:57:26]\u001b[0m\u001b[2;36m \u001b[0mInvolved functions:                                                             \u001b]8;id=833856;file:///home/paltenmo/projects/crossplatform/analysis_and_reporting/ddmin_target_file.py\u001b\\\u001b[2mddmin_target_file.py\u001b[0m\u001b]8;;\u001b\\\u001b[2m:\u001b[0m\u001b]8;id=305986;file:///home/paltenmo/projects/crossplatform/analysis_and_reporting/ddmin_target_file.py#206\u001b\\\u001b[2m206\u001b[0m\u001b]8;;\u001b\\\n"
      ]
     },
     "metadata": {},
     "output_type": "display_data"
    },
    {
     "data": {
      "text/html": [
       "<pre style=\"white-space:pre;overflow-x:auto;line-height:normal;font-family:Menlo,'DejaVu Sans Mono',consolas,'Courier New',monospace\"><span style=\"color: #7fbfbf; text-decoration-color: #7fbfbf\">           </span>  - compare_qasm_via_qcec                                                       <a href=\"file:///home/paltenmo/projects/crossplatform/analysis_and_reporting/ddmin_target_file.py\" target=\"_blank\"><span style=\"color: #7f7f7f; text-decoration-color: #7f7f7f\">ddmin_target_file.py</span></a><span style=\"color: #7f7f7f; text-decoration-color: #7f7f7f\">:</span><a href=\"file:///home/paltenmo/projects/crossplatform/analysis_and_reporting/ddmin_target_file.py#208\" target=\"_blank\"><span style=\"color: #7f7f7f; text-decoration-color: #7f7f7f\">208</span></a>\n",
       "</pre>\n"
      ],
      "text/plain": [
       "\u001b[2;36m          \u001b[0m\u001b[2;36m \u001b[0m  - compare_qasm_via_qcec                                                       \u001b]8;id=409146;file:///home/paltenmo/projects/crossplatform/analysis_and_reporting/ddmin_target_file.py\u001b\\\u001b[2mddmin_target_file.py\u001b[0m\u001b]8;;\u001b\\\u001b[2m:\u001b[0m\u001b]8;id=978736;file:///home/paltenmo/projects/crossplatform/analysis_and_reporting/ddmin_target_file.py#208\u001b\\\u001b[2m208\u001b[0m\u001b]8;;\u001b\\\n"
      ]
     },
     "metadata": {},
     "output_type": "display_data"
    },
    {
     "data": {
      "text/html": [
       "<pre style=\"white-space:pre;overflow-x:auto;line-height:normal;font-family:Menlo,'DejaVu Sans Mono',consolas,'Courier New',monospace\"><span style=\"color: #7fbfbf; text-decoration-color: #7fbfbf\">           </span>  - export_to_qasm_with_pytket                                                  <a href=\"file:///home/paltenmo/projects/crossplatform/analysis_and_reporting/ddmin_target_file.py\" target=\"_blank\"><span style=\"color: #7f7f7f; text-decoration-color: #7f7f7f\">ddmin_target_file.py</span></a><span style=\"color: #7f7f7f; text-decoration-color: #7f7f7f\">:</span><a href=\"file:///home/paltenmo/projects/crossplatform/analysis_and_reporting/ddmin_target_file.py#208\" target=\"_blank\"><span style=\"color: #7f7f7f; text-decoration-color: #7f7f7f\">208</span></a>\n",
       "</pre>\n"
      ],
      "text/plain": [
       "\u001b[2;36m          \u001b[0m\u001b[2;36m \u001b[0m  - export_to_qasm_with_pytket                                                  \u001b]8;id=669945;file:///home/paltenmo/projects/crossplatform/analysis_and_reporting/ddmin_target_file.py\u001b\\\u001b[2mddmin_target_file.py\u001b[0m\u001b]8;;\u001b\\\u001b[2m:\u001b[0m\u001b]8;id=378051;file:///home/paltenmo/projects/crossplatform/analysis_and_reporting/ddmin_target_file.py#208\u001b\\\u001b[2m208\u001b[0m\u001b]8;;\u001b\\\n"
      ]
     },
     "metadata": {},
     "output_type": "display_data"
    },
    {
     "data": {
      "text/html": [
       "<pre style=\"white-space:pre;overflow-x:auto;line-height:normal;font-family:Menlo,'DejaVu Sans Mono',consolas,'Courier New',monospace\"><span style=\"color: #7fbfbf; text-decoration-color: #7fbfbf\">           </span>  - export_to_qasm_with_qiskit                                                  <a href=\"file:///home/paltenmo/projects/crossplatform/analysis_and_reporting/ddmin_target_file.py\" target=\"_blank\"><span style=\"color: #7f7f7f; text-decoration-color: #7f7f7f\">ddmin_target_file.py</span></a><span style=\"color: #7f7f7f; text-decoration-color: #7f7f7f\">:</span><a href=\"file:///home/paltenmo/projects/crossplatform/analysis_and_reporting/ddmin_target_file.py#208\" target=\"_blank\"><span style=\"color: #7f7f7f; text-decoration-color: #7f7f7f\">208</span></a>\n",
       "</pre>\n"
      ],
      "text/plain": [
       "\u001b[2;36m          \u001b[0m\u001b[2;36m \u001b[0m  - export_to_qasm_with_qiskit                                                  \u001b]8;id=829317;file:///home/paltenmo/projects/crossplatform/analysis_and_reporting/ddmin_target_file.py\u001b\\\u001b[2mddmin_target_file.py\u001b[0m\u001b]8;;\u001b\\\u001b[2m:\u001b[0m\u001b]8;id=334716;file:///home/paltenmo/projects/crossplatform/analysis_and_reporting/ddmin_target_file.py#208\u001b\\\u001b[2m208\u001b[0m\u001b]8;;\u001b\\\n"
      ]
     },
     "metadata": {},
     "output_type": "display_data"
    },
    {
     "name": "stdout",
     "output_type": "stream",
     "text": [
      "Error parsing: Command 'python /workspace/to_execute.py' in image 'qiskit_runner' returned non-zero exit status 1: b'Traceback (most recent call last):\\n  File \"/workspace/to_execute.py\", line 105, in <module>\\n    target_qc = qc\\nNameError: name \\'qc\\' is not defined\\n'\n",
      "Failed to execute to_execute.py in Docker.\n",
      "Output: Saved the Pytket circuit to /workspace/to_execute_qc_pytket.qasm\n",
      "Saved the Qiskit circuit to /workspace/to_execute_qc_qiskit.qasm\n",
      "Exported QASM files: [('/workspace/to_execute_qc_pytket.qasm', 'export_to_qasm_with_pytket'), ('/workspace/to_execute_qc_qiskit.qasm', 'export_to_qasm_with_qiskit')]\n",
      "Log has been saved to /workspace/to_execute_880d95_error.json\n",
      "\n",
      "Program to_execute.py executed successfully.\n",
      "New exception message: The circuits are not equivalent: /workspace/to_execute_qc_pytket.qasm, /workspace/to_execute_qc_qiskit.qasm\n",
      "Error parsing: Command 'python /workspace/to_execute.py' in image 'qiskit_runner' returned non-zero exit status 1: b'  File \"/workspace/to_execute.py\", line 16\\n    , custom_instructions=qasm2.LEGACY_CUSTOM_INSTRUCTIONS)\\n                                                          ^\\nSyntaxError: unmatched \\')\\'\\n'\n",
      "Failed to execute to_execute.py in Docker.\n",
      "Error parsing: Command 'python /workspace/to_execute.py' in image 'qiskit_runner' returned non-zero exit status 1: b'  File \"/workspace/to_execute.py\", line 10\\n    qc = qasm2.loads(\\n                    ^\\nSyntaxError: \\'(\\' was never closed\\n'\n",
      "Failed to execute to_execute.py in Docker.\n",
      "Error parsing: Command 'python /workspace/to_execute.py' in image 'qiskit_runner' returned non-zero exit status 1: b'  File \"/workspace/to_execute.py\", line 21\\n    , custom_instructions=qasm2.LEGACY_CUSTOM_INSTRUCTIONS)\\n                                                          ^\\nSyntaxError: unmatched \\')\\'\\n'\n",
      "Failed to execute to_execute.py in Docker.\n",
      "Error parsing: Command 'python /workspace/to_execute.py' in image 'qiskit_runner' returned non-zero exit status 1: b'Traceback (most recent call last):\\n  File \"/workspace/to_execute.py\", line 10, in <module>\\n    qc = qasm2.loads(\\n  File \"/usr/local/lib/python3.10/site-packages/qiskit/qasm2/__init__.py\", line 587, in loads\\n    return _parse.from_bytecode(\\n  File \"/usr/local/lib/python3.10/site-packages/qiskit/qasm2/parse.py\", line 214, in from_bytecode\\n    for op in bc:\\nqiskit.qasm2.exceptions.QASM2ParseError: \"<input>:5,0: cannot use non-builtin custom instruction \\'cx\\' before definition\"\\n'\n",
      "Failed to execute to_execute.py in Docker.\n",
      "Error parsing: Command 'python /workspace/to_execute.py' in image 'qiskit_runner' returned non-zero exit status 1: b'Traceback (most recent call last):\\n  File \"/workspace/to_execute.py\", line 10, in <module>\\n    qc = qasm2.loads(\\n  File \"/usr/local/lib/python3.10/site-packages/qiskit/qasm2/__init__.py\", line 587, in loads\\n    return _parse.from_bytecode(\\n  File \"/usr/local/lib/python3.10/site-packages/qiskit/qasm2/parse.py\", line 214, in from_bytecode\\n    for op in bc:\\nqiskit.qasm2.exceptions.QASM2ParseError: \"<input>:7,3: \\'reg_1_a\\' is not defined in this scope\"\\n'\n",
      "Failed to execute to_execute.py in Docker.\n",
      "Error parsing: Command 'python /workspace/to_execute.py' in image 'qiskit_runner' returned non-zero exit status 1: b'  File \"/workspace/to_execute.py\", line 10\\n    qc = qasm2.loads(\\n                    ^\\nSyntaxError: \\'(\\' was never closed\\n'\n",
      "Failed to execute to_execute.py in Docker.\n",
      "Error parsing: Command 'python /workspace/to_execute.py' in image 'qiskit_runner' returned non-zero exit status 1: b'  File \"/workspace/to_execute.py\", line 24\\n    , custom_instructions=qasm2.LEGACY_CUSTOM_INSTRUCTIONS)\\nIndentationError: unexpected indent\\n'\n",
      "Failed to execute to_execute.py in Docker.\n",
      "Error parsing: Command 'python /workspace/to_execute.py' in image 'qiskit_runner' returned non-zero exit status 1: b'  File \"/workspace/to_execute.py\", line 12\\n    include \"qelib1.inc\";\\n            ^^^^^^^^^^^^\\nSyntaxError: invalid syntax\\n'\n",
      "Failed to execute to_execute.py in Docker.\n",
      "Error parsing: Command 'python /workspace/to_execute.py' in image 'qiskit_runner' returned non-zero exit status 1: b'Traceback (most recent call last):\\n  File \"/workspace/to_execute.py\", line 10, in <module>\\n    qc = qasm2.loads(\\n  File \"/usr/local/lib/python3.10/site-packages/qiskit/qasm2/__init__.py\", line 587, in loads\\n    return _parse.from_bytecode(\\n  File \"/usr/local/lib/python3.10/site-packages/qiskit/qasm2/parse.py\", line 214, in from_bytecode\\n    for op in bc:\\nqiskit.qasm2.exceptions.QASM2ParseError: \"<input>:7,0: cannot use non-builtin custom instruction \\'cx\\' before definition\"\\n'\n",
      "Failed to execute to_execute.py in Docker.\n",
      "Error parsing: Command 'python /workspace/to_execute.py' in image 'qiskit_runner' returned non-zero exit status 1: b'Traceback (most recent call last):\\n  File \"/workspace/to_execute.py\", line 10, in <module>\\n    qc = qasm2.loads(\\n  File \"/usr/local/lib/python3.10/site-packages/qiskit/qasm2/__init__.py\", line 587, in loads\\n    return _parse.from_bytecode(\\n  File \"/usr/local/lib/python3.10/site-packages/qiskit/qasm2/parse.py\", line 214, in from_bytecode\\n    for op in bc:\\nqiskit.qasm2.exceptions.QASM2ParseError: \"<input>:7,14: \\'reg_1_b\\' is not defined in this scope\"\\n'\n",
      "Failed to execute to_execute.py in Docker.\n",
      "Error parsing: Command 'python /workspace/to_execute.py' in image 'qiskit_runner' returned non-zero exit status 1: b'Traceback (most recent call last):\\n  File \"/workspace/to_execute.py\", line 10, in <module>\\n    qc = qasm2.loads(\\n  File \"/usr/local/lib/python3.10/site-packages/qiskit/qasm2/__init__.py\", line 587, in loads\\n    return _parse.from_bytecode(\\n  File \"/usr/local/lib/python3.10/site-packages/qiskit/qasm2/parse.py\", line 214, in from_bytecode\\n    for op in bc:\\nqiskit.qasm2.exceptions.QASM2ParseError: \"<input>:7,3: \\'reg_1_a\\' is not defined in this scope\"\\n'\n",
      "Failed to execute to_execute.py in Docker.\n",
      "Output: Saved the Pytket circuit to /workspace/to_execute_qc_pytket.qasm\n",
      "Saved the Qiskit circuit to /workspace/to_execute_qc_qiskit.qasm\n",
      "Exported QASM files: [('/workspace/to_execute_qc_pytket.qasm', 'export_to_qasm_with_pytket'), ('/workspace/to_execute_qc_qiskit.qasm', 'export_to_qasm_with_qiskit')]\n",
      "Log has been saved to /workspace/to_execute_f75f1e_error.json\n",
      "\n",
      "Program to_execute.py executed successfully.\n",
      "New exception message: The circuits are not equivalent: /workspace/to_execute_qc_pytket.qasm, /workspace/to_execute_qc_qiskit.qasm\n",
      "Error parsing: Command 'python /workspace/to_execute.py' in image 'qiskit_runner' returned non-zero exit status 1: b'  File \"/workspace/to_execute.py\", line 22\\n    , custom_instructions=qasm2.LEGACY_CUSTOM_INSTRUCTIONS)\\nIndentationError: unexpected indent\\n'\n",
      "Failed to execute to_execute.py in Docker.\n",
      "Error parsing: Command 'python /workspace/to_execute.py' in image 'qiskit_runner' returned non-zero exit status 1: b'  File \"/workspace/to_execute.py\", line 12\\n    include \"qelib1.inc\";\\n            ^^^^^^^^^^^^\\nSyntaxError: invalid syntax\\n'\n",
      "Failed to execute to_execute.py in Docker.\n",
      "Error parsing: Command 'python /workspace/to_execute.py' in image 'qiskit_runner' returned non-zero exit status 1: b'Traceback (most recent call last):\\n  File \"/workspace/to_execute.py\", line 10, in <module>\\n    qc = qasm2.loads(\\n  File \"/usr/local/lib/python3.10/site-packages/qiskit/qasm2/__init__.py\", line 587, in loads\\n    return _parse.from_bytecode(\\n  File \"/usr/local/lib/python3.10/site-packages/qiskit/qasm2/parse.py\", line 214, in from_bytecode\\n    for op in bc:\\nqiskit.qasm2.exceptions.QASM2ParseError: \"<input>:7,0: cannot use non-builtin custom instruction \\'cx\\' before definition\"\\n'\n",
      "Failed to execute to_execute.py in Docker.\n",
      "Error parsing: Command 'python /workspace/to_execute.py' in image 'qiskit_runner' returned non-zero exit status 1: b'Traceback (most recent call last):\\n  File \"/workspace/to_execute.py\", line 10, in <module>\\n    qc = qasm2.loads(\\n  File \"/usr/local/lib/python3.10/site-packages/qiskit/qasm2/__init__.py\", line 587, in loads\\n    return _parse.from_bytecode(\\n  File \"/usr/local/lib/python3.10/site-packages/qiskit/qasm2/parse.py\", line 214, in from_bytecode\\n    for op in bc:\\nqiskit.qasm2.exceptions.QASM2ParseError: \"<input>:7,3: \\'reg_1_b\\' is not defined in this scope\"\\n'\n",
      "Failed to execute to_execute.py in Docker.\n",
      "Error parsing: Command 'python /workspace/to_execute.py' in image 'qiskit_runner' returned non-zero exit status 1: b'Traceback (most recent call last):\\n  File \"/workspace/to_execute.py\", line 10, in <module>\\n    qc = qasm2.loads(\\n  File \"/usr/local/lib/python3.10/site-packages/qiskit/qasm2/__init__.py\", line 587, in loads\\n    return _parse.from_bytecode(\\n  File \"/usr/local/lib/python3.10/site-packages/qiskit/qasm2/parse.py\", line 214, in from_bytecode\\n    for op in bc:\\nqiskit.qasm2.exceptions.QASM2ParseError: \"<input>:8,3: \\'reg_1_a\\' is not defined in this scope\"\\n'\n",
      "Failed to execute to_execute.py in Docker.\n",
      "Output: Saved the Pytket circuit to /workspace/to_execute_qc_pytket.qasm\n",
      "Saved the Qiskit circuit to /workspace/to_execute_qc_qiskit.qasm\n",
      "Exported QASM files: [('/workspace/to_execute_qc_pytket.qasm', 'export_to_qasm_with_pytket'), ('/workspace/to_execute_qc_qiskit.qasm', 'export_to_qasm_with_qiskit')]\n",
      "The circuits are equivalent: /workspace/to_execute_qc_pytket.qasm, /workspace/to_execute_qc_qiskit.qasm\n",
      "\n",
      "Program to_execute.py executed successfully.\n",
      "Error parsing: Command 'python /workspace/to_execute.py' in image 'qiskit_runner' returned non-zero exit status 1: b'  File \"/workspace/to_execute.py\", line 10\\n    qc = qasm2.loads(\\n                    ^\\nSyntaxError: \\'(\\' was never closed\\n'\n",
      "Failed to execute to_execute.py in Docker.\n",
      "Error parsing: Command 'python /workspace/to_execute.py' in image 'qiskit_runner' returned non-zero exit status 1: b'  File \"/workspace/to_execute.py\", line 23\\n    , custom_instructions=qasm2.LEGACY_CUSTOM_INSTRUCTIONS)\\nIndentationError: unexpected indent\\n'\n",
      "Failed to execute to_execute.py in Docker.\n",
      "Output: Saved the Pytket circuit to /workspace/to_execute_qc_pytket.qasm\n",
      "Saved the Qiskit circuit to /workspace/to_execute_qc_qiskit.qasm\n",
      "Exported QASM files: [('/workspace/to_execute_qc_pytket.qasm', 'export_to_qasm_with_pytket'), ('/workspace/to_execute_qc_qiskit.qasm', 'export_to_qasm_with_qiskit')]\n",
      "Log has been saved to /workspace/to_execute_03d771_error.json\n",
      "\n",
      "Program to_execute.py executed successfully.\n",
      "New exception message: The circuits are not equivalent: /workspace/to_execute_qc_pytket.qasm, /workspace/to_execute_qc_qiskit.qasm\n",
      "Error parsing: Command 'python /workspace/to_execute.py' in image 'qiskit_runner' returned non-zero exit status 1: b'  File \"/workspace/to_execute.py\", line 22\\n    , custom_instructions=qasm2.LEGACY_CUSTOM_INSTRUCTIONS)\\nIndentationError: unexpected indent\\n'\n",
      "Failed to execute to_execute.py in Docker.\n",
      "Error parsing: Command 'python /workspace/to_execute.py' in image 'qiskit_runner' returned non-zero exit status 1: b'  File \"/workspace/to_execute.py\", line 11\\n    OPENQASM 2.0;\\n    ^^^^^^^^^^^^\\nSyntaxError: invalid syntax. Perhaps you forgot a comma?\\n'\n",
      "Failed to execute to_execute.py in Docker.\n",
      "Output: Saved the Pytket circuit to /workspace/to_execute_qc_pytket.qasm\n",
      "Saved the Qiskit circuit to /workspace/to_execute_qc_qiskit.qasm\n",
      "Exported QASM files: [('/workspace/to_execute_qc_pytket.qasm', 'export_to_qasm_with_pytket'), ('/workspace/to_execute_qc_qiskit.qasm', 'export_to_qasm_with_qiskit')]\n",
      "Log has been saved to /workspace/to_execute_eef7d2_error.json\n",
      "\n",
      "Program to_execute.py executed successfully.\n",
      "New exception message: The circuits are not equivalent: /workspace/to_execute_qc_pytket.qasm, /workspace/to_execute_qc_qiskit.qasm\n",
      "Error parsing: Command 'python /workspace/to_execute.py' in image 'qiskit_runner' returned non-zero exit status 1: b'  File \"/workspace/to_execute.py\", line 21\\n    , custom_instructions=qasm2.LEGACY_CUSTOM_INSTRUCTIONS)\\nIndentationError: unexpected indent\\n'\n",
      "Failed to execute to_execute.py in Docker.\n",
      "Error parsing: Command 'python /workspace/to_execute.py' in image 'qiskit_runner' returned non-zero exit status 1: b'  File \"/workspace/to_execute.py\", line 11\\n    include \"qelib1.inc\";\\n            ^^^^^^^^^^^^\\nSyntaxError: invalid syntax\\n'\n",
      "Failed to execute to_execute.py in Docker.\n",
      "Error parsing: Command 'python /workspace/to_execute.py' in image 'qiskit_runner' returned non-zero exit status 1: b'Traceback (most recent call last):\\n  File \"/workspace/to_execute.py\", line 10, in <module>\\n    qc = qasm2.loads(\\n  File \"/usr/local/lib/python3.10/site-packages/qiskit/qasm2/__init__.py\", line 587, in loads\\n    return _parse.from_bytecode(\\n  File \"/usr/local/lib/python3.10/site-packages/qiskit/qasm2/parse.py\", line 214, in from_bytecode\\n    for op in bc:\\nqiskit.qasm2.exceptions.QASM2ParseError: \"<input>:7,0: cannot use non-builtin custom instruction \\'cx\\' before definition\"\\n'\n",
      "Failed to execute to_execute.py in Docker.\n",
      "Output: Saved the Pytket circuit to /workspace/to_execute_qc_pytket.qasm\n",
      "Saved the Qiskit circuit to /workspace/to_execute_qc_qiskit.qasm\n",
      "Exported QASM files: [('/workspace/to_execute_qc_pytket.qasm', 'export_to_qasm_with_pytket'), ('/workspace/to_execute_qc_qiskit.qasm', 'export_to_qasm_with_qiskit')]\n",
      "Log has been saved to /workspace/to_execute_194002_error.json\n",
      "\n",
      "Program to_execute.py executed successfully.\n",
      "New exception message: The circuits are not equivalent: /workspace/to_execute_qc_pytket.qasm, /workspace/to_execute_qc_qiskit.qasm\n",
      "Error parsing: Command 'python /workspace/to_execute.py' in image 'qiskit_runner' returned non-zero exit status 1: b'  File \"/workspace/to_execute.py\", line 20\\n    , custom_instructions=qasm2.LEGACY_CUSTOM_INSTRUCTIONS)\\nIndentationError: unexpected indent\\n'\n",
      "Failed to execute to_execute.py in Docker.\n",
      "Error parsing: Command 'python /workspace/to_execute.py' in image 'qiskit_runner' returned non-zero exit status 1: b'  File \"/workspace/to_execute.py\", line 11\\n    include \"qelib1.inc\";\\n            ^^^^^^^^^^^^\\nSyntaxError: invalid syntax\\n'\n",
      "Failed to execute to_execute.py in Docker.\n",
      "Error parsing: Command 'python /workspace/to_execute.py' in image 'qiskit_runner' returned non-zero exit status 1: b'Traceback (most recent call last):\\n  File \"/workspace/to_execute.py\", line 10, in <module>\\n    qc = qasm2.loads(\\n  File \"/usr/local/lib/python3.10/site-packages/qiskit/qasm2/__init__.py\", line 587, in loads\\n    return _parse.from_bytecode(\\n  File \"/usr/local/lib/python3.10/site-packages/qiskit/qasm2/parse.py\", line 214, in from_bytecode\\n    for op in bc:\\nqiskit.qasm2.exceptions.QASM2ParseError: \"<input>:6,0: cannot use non-builtin custom instruction \\'cx\\' before definition\"\\n'\n",
      "Failed to execute to_execute.py in Docker.\n",
      "Error parsing: Command 'python /workspace/to_execute.py' in image 'qiskit_runner' returned non-zero exit status 1: b'Traceback (most recent call last):\\n  File \"/workspace/to_execute.py\", line 10, in <module>\\n    qc = qasm2.loads(\\n  File \"/usr/local/lib/python3.10/site-packages/qiskit/qasm2/__init__.py\", line 587, in loads\\n    return _parse.from_bytecode(\\n  File \"/usr/local/lib/python3.10/site-packages/qiskit/qasm2/parse.py\", line 214, in from_bytecode\\n    for op in bc:\\nqiskit.qasm2.exceptions.QASM2ParseError: \"<input>:7,14: \\'reg_1_cin\\' is not defined in this scope\"\\n'\n",
      "Failed to execute to_execute.py in Docker.\n",
      "Error parsing: Command 'python /workspace/to_execute.py' in image 'qiskit_runner' returned non-zero exit status 1: b'Traceback (most recent call last):\\n  File \"/workspace/to_execute.py\", line 10, in <module>\\n    qc = qasm2.loads(\\n  File \"/usr/local/lib/python3.10/site-packages/qiskit/qasm2/__init__.py\", line 587, in loads\\n    return _parse.from_bytecode(\\n  File \"/usr/local/lib/python3.10/site-packages/qiskit/qasm2/parse.py\", line 214, in from_bytecode\\n    for op in bc:\\nqiskit.qasm2.exceptions.QASM2ParseError: \"<input>:6,3: \\'reg_1_b\\' is not defined in this scope\"\\n'\n",
      "Failed to execute to_execute.py in Docker.\n",
      "Error parsing: Command 'python /workspace/to_execute.py' in image 'qiskit_runner' returned non-zero exit status 1: b'Traceback (most recent call last):\\n  File \"/workspace/to_execute.py\", line 10, in <module>\\n    qc = qasm2.loads(\\n  File \"/usr/local/lib/python3.10/site-packages/qiskit/qasm2/__init__.py\", line 587, in loads\\n    return _parse.from_bytecode(\\n  File \"/usr/local/lib/python3.10/site-packages/qiskit/qasm2/parse.py\", line 214, in from_bytecode\\n    for op in bc:\\nqiskit.qasm2.exceptions.QASM2ParseError: \"<input>:7,3: \\'reg_1_a\\' is not defined in this scope\"\\n'\n",
      "Failed to execute to_execute.py in Docker.\n",
      "Output: Saved the Pytket circuit to /workspace/to_execute_qc_pytket.qasm\n",
      "Saved the Qiskit circuit to /workspace/to_execute_qc_qiskit.qasm\n",
      "Exported QASM files: [('/workspace/to_execute_qc_pytket.qasm', 'export_to_qasm_with_pytket'), ('/workspace/to_execute_qc_qiskit.qasm', 'export_to_qasm_with_qiskit')]\n",
      "Log has been saved to /workspace/to_execute_8babc9_error.json\n",
      "\n",
      "Program to_execute.py executed successfully.\n",
      "New exception message: The circuits are not equivalent: /workspace/to_execute_qc_pytket.qasm, /workspace/to_execute_qc_qiskit.qasm\n",
      "Error parsing: Command 'python /workspace/to_execute.py' in image 'qiskit_runner' returned non-zero exit status 1: b'  File \"/workspace/to_execute.py\", line 19\\n    , custom_instructions=qasm2.LEGACY_CUSTOM_INSTRUCTIONS)\\nIndentationError: unexpected indent\\n'\n",
      "Failed to execute to_execute.py in Docker.\n",
      "Error parsing: Command 'python /workspace/to_execute.py' in image 'qiskit_runner' returned non-zero exit status 1: b'  File \"/workspace/to_execute.py\", line 11\\n    include \"qelib1.inc\";\\n            ^^^^^^^^^^^^\\nSyntaxError: invalid syntax\\n'\n",
      "Failed to execute to_execute.py in Docker.\n",
      "Error parsing: Command 'python /workspace/to_execute.py' in image 'qiskit_runner' returned non-zero exit status 1: b'Traceback (most recent call last):\\n  File \"/workspace/to_execute.py\", line 10, in <module>\\n    qc = qasm2.loads(\\n  File \"/usr/local/lib/python3.10/site-packages/qiskit/qasm2/__init__.py\", line 587, in loads\\n    return _parse.from_bytecode(\\n  File \"/usr/local/lib/python3.10/site-packages/qiskit/qasm2/parse.py\", line 214, in from_bytecode\\n    for op in bc:\\nqiskit.qasm2.exceptions.QASM2ParseError: \"<input>:5,0: cannot use non-builtin custom instruction \\'cx\\' before definition\"\\n'\n",
      "Failed to execute to_execute.py in Docker.\n",
      "Error parsing: Command 'python /workspace/to_execute.py' in image 'qiskit_runner' returned non-zero exit status 1: b'Traceback (most recent call last):\\n  File \"/workspace/to_execute.py\", line 10, in <module>\\n    qc = qasm2.loads(\\n  File \"/usr/local/lib/python3.10/site-packages/qiskit/qasm2/__init__.py\", line 587, in loads\\n    return _parse.from_bytecode(\\n  File \"/usr/local/lib/python3.10/site-packages/qiskit/qasm2/parse.py\", line 214, in from_bytecode\\n    for op in bc:\\nqiskit.qasm2.exceptions.QASM2ParseError: \"<input>:6,14: \\'reg_1_cin\\' is not defined in this scope\"\\n'\n",
      "Failed to execute to_execute.py in Docker.\n",
      "Error parsing: Command 'python /workspace/to_execute.py' in image 'qiskit_runner' returned non-zero exit status 1: b'Traceback (most recent call last):\\n  File \"/workspace/to_execute.py\", line 10, in <module>\\n    qc = qasm2.loads(\\n  File \"/usr/local/lib/python3.10/site-packages/qiskit/qasm2/__init__.py\", line 587, in loads\\n    return _parse.from_bytecode(\\n  File \"/usr/local/lib/python3.10/site-packages/qiskit/qasm2/parse.py\", line 214, in from_bytecode\\n    for op in bc:\\nqiskit.qasm2.exceptions.QASM2ParseError: \"<input>:5,3: \\'reg_1_b\\' is not defined in this scope\"\\n'\n",
      "Failed to execute to_execute.py in Docker.\n",
      "Error parsing: Command 'python /workspace/to_execute.py' in image 'qiskit_runner' returned non-zero exit status 1: b'Traceback (most recent call last):\\n  File \"/workspace/to_execute.py\", line 10, in <module>\\n    qc = qasm2.loads(\\n  File \"/usr/local/lib/python3.10/site-packages/qiskit/qasm2/__init__.py\", line 587, in loads\\n    return _parse.from_bytecode(\\n  File \"/usr/local/lib/python3.10/site-packages/qiskit/qasm2/parse.py\", line 214, in from_bytecode\\n    for op in bc:\\nqiskit.qasm2.exceptions.QASM2ParseError: \"<input>:6,3: \\'reg_1_a\\' is not defined in this scope\"\\n'\n",
      "Failed to execute to_execute.py in Docker.\n",
      "Output: Saved the Pytket circuit to /workspace/to_execute_qc_pytket.qasm\n",
      "Saved the Qiskit circuit to /workspace/to_execute_qc_qiskit.qasm\n",
      "Exported QASM files: [('/workspace/to_execute_qc_pytket.qasm', 'export_to_qasm_with_pytket'), ('/workspace/to_execute_qc_qiskit.qasm', 'export_to_qasm_with_qiskit')]\n",
      "Log has been saved to /workspace/to_execute_a984c7_error.json\n",
      "\n",
      "Program to_execute.py executed successfully.\n",
      "New exception message: The circuits are not equivalent: /workspace/to_execute_qc_pytket.qasm, /workspace/to_execute_qc_qiskit.qasm\n",
      "Error parsing: Command 'python /workspace/to_execute.py' in image 'qiskit_runner' returned non-zero exit status 1: b'  File \"/workspace/to_execute.py\", line 18\\n    , custom_instructions=qasm2.LEGACY_CUSTOM_INSTRUCTIONS)\\nIndentationError: unexpected indent\\n'\n",
      "Failed to execute to_execute.py in Docker.\n",
      "Error parsing: Command 'python /workspace/to_execute.py' in image 'qiskit_runner' returned non-zero exit status 1: b'  File \"/workspace/to_execute.py\", line 11\\n    include \"qelib1.inc\";\\n            ^^^^^^^^^^^^\\nSyntaxError: invalid syntax\\n'\n",
      "Failed to execute to_execute.py in Docker.\n",
      "Error parsing: Command 'python /workspace/to_execute.py' in image 'qiskit_runner' returned non-zero exit status 1: b'Traceback (most recent call last):\\n  File \"/workspace/to_execute.py\", line 10, in <module>\\n    qc = qasm2.loads(\\n  File \"/usr/local/lib/python3.10/site-packages/qiskit/qasm2/__init__.py\", line 587, in loads\\n    return _parse.from_bytecode(\\n  File \"/usr/local/lib/python3.10/site-packages/qiskit/qasm2/parse.py\", line 214, in from_bytecode\\n    for op in bc:\\nqiskit.qasm2.exceptions.QASM2ParseError: \"<input>:5,0: cannot use non-builtin custom instruction \\'cx\\' before definition\"\\n'\n",
      "Failed to execute to_execute.py in Docker.\n",
      "Error parsing: Command 'python /workspace/to_execute.py' in image 'qiskit_runner' returned non-zero exit status 1: b'Traceback (most recent call last):\\n  File \"/workspace/to_execute.py\", line 10, in <module>\\n    qc = qasm2.loads(\\n  File \"/usr/local/lib/python3.10/site-packages/qiskit/qasm2/__init__.py\", line 587, in loads\\n    return _parse.from_bytecode(\\n  File \"/usr/local/lib/python3.10/site-packages/qiskit/qasm2/parse.py\", line 214, in from_bytecode\\n    for op in bc:\\nqiskit.qasm2.exceptions.QASM2ParseError: \"<input>:5,14: \\'reg_1_cin\\' is not defined in this scope\"\\n'\n",
      "Failed to execute to_execute.py in Docker.\n",
      "Error parsing: Command 'python /workspace/to_execute.py' in image 'qiskit_runner' returned non-zero exit status 1: b'Traceback (most recent call last):\\n  File \"/workspace/to_execute.py\", line 10, in <module>\\n    qc = qasm2.loads(\\n  File \"/usr/local/lib/python3.10/site-packages/qiskit/qasm2/__init__.py\", line 587, in loads\\n    return _parse.from_bytecode(\\n  File \"/usr/local/lib/python3.10/site-packages/qiskit/qasm2/parse.py\", line 214, in from_bytecode\\n    for op in bc:\\nqiskit.qasm2.exceptions.QASM2ParseError: \"<input>:6,17: \\'reg_1_b\\' is not defined in this scope\"\\n'\n",
      "Failed to execute to_execute.py in Docker.\n",
      "Error parsing: Command 'python /workspace/to_execute.py' in image 'qiskit_runner' returned non-zero exit status 1: b'Traceback (most recent call last):\\n  File \"/workspace/to_execute.py\", line 10, in <module>\\n    qc = qasm2.loads(\\n  File \"/usr/local/lib/python3.10/site-packages/qiskit/qasm2/__init__.py\", line 587, in loads\\n    return _parse.from_bytecode(\\n  File \"/usr/local/lib/python3.10/site-packages/qiskit/qasm2/parse.py\", line 214, in from_bytecode\\n    for op in bc:\\nqiskit.qasm2.exceptions.QASM2ParseError: \"<input>:5,3: \\'reg_1_a\\' is not defined in this scope\"\\n'\n",
      "Failed to execute to_execute.py in Docker.\n",
      "Output: Saved the Pytket circuit to /workspace/to_execute_qc_pytket.qasm\n",
      "Saved the Qiskit circuit to /workspace/to_execute_qc_qiskit.qasm\n",
      "Exported QASM files: [('/workspace/to_execute_qc_pytket.qasm', 'export_to_qasm_with_pytket'), ('/workspace/to_execute_qc_qiskit.qasm', 'export_to_qasm_with_qiskit')]\n",
      "Log has been saved to /workspace/to_execute_5a6bd9_error.json\n",
      "\n",
      "Program to_execute.py executed successfully.\n",
      "New exception message: The circuits are not equivalent: /workspace/to_execute_qc_pytket.qasm, /workspace/to_execute_qc_qiskit.qasm\n",
      "Error parsing: Command 'python /workspace/to_execute.py' in image 'qiskit_runner' returned non-zero exit status 1: b'  File \"/workspace/to_execute.py\", line 17\\n    , custom_instructions=qasm2.LEGACY_CUSTOM_INSTRUCTIONS)\\nIndentationError: unexpected indent\\n'\n",
      "Failed to execute to_execute.py in Docker.\n",
      "Error parsing: Command 'python /workspace/to_execute.py' in image 'qiskit_runner' returned non-zero exit status 1: b'  File \"/workspace/to_execute.py\", line 11\\n    include \"qelib1.inc\";\\n            ^^^^^^^^^^^^\\nSyntaxError: invalid syntax\\n'\n",
      "Failed to execute to_execute.py in Docker.\n",
      "Error parsing: Command 'python /workspace/to_execute.py' in image 'qiskit_runner' returned non-zero exit status 1: b'Traceback (most recent call last):\\n  File \"/workspace/to_execute.py\", line 10, in <module>\\n    qc = qasm2.loads(\\n  File \"/usr/local/lib/python3.10/site-packages/qiskit/qasm2/__init__.py\", line 587, in loads\\n    return _parse.from_bytecode(\\n  File \"/usr/local/lib/python3.10/site-packages/qiskit/qasm2/parse.py\", line 214, in from_bytecode\\n    for op in bc:\\nqiskit.qasm2.exceptions.QASM2ParseError: \"<input>:5,0: cannot use non-builtin custom instruction \\'ccx\\' before definition\"\\n'\n",
      "Failed to execute to_execute.py in Docker.\n",
      "Error parsing: Command 'python /workspace/to_execute.py' in image 'qiskit_runner' returned non-zero exit status 1: b'Traceback (most recent call last):\\n  File \"/workspace/to_execute.py\", line 10, in <module>\\n    qc = qasm2.loads(\\n  File \"/usr/local/lib/python3.10/site-packages/qiskit/qasm2/__init__.py\", line 587, in loads\\n    return _parse.from_bytecode(\\n  File \"/usr/local/lib/python3.10/site-packages/qiskit/qasm2/parse.py\", line 214, in from_bytecode\\n    for op in bc:\\nqiskit.qasm2.exceptions.QASM2ParseError: \"<input>:5,4: \\'reg_1_cin\\' is not defined in this scope\"\\n'\n",
      "Failed to execute to_execute.py in Docker.\n",
      "Error parsing: Command 'python /workspace/to_execute.py' in image 'qiskit_runner' returned non-zero exit status 1: b'Traceback (most recent call last):\\n  File \"/workspace/to_execute.py\", line 10, in <module>\\n    qc = qasm2.loads(\\n  File \"/usr/local/lib/python3.10/site-packages/qiskit/qasm2/__init__.py\", line 587, in loads\\n    return _parse.from_bytecode(\\n  File \"/usr/local/lib/python3.10/site-packages/qiskit/qasm2/parse.py\", line 214, in from_bytecode\\n    for op in bc:\\nqiskit.qasm2.exceptions.QASM2ParseError: \"<input>:5,17: \\'reg_1_b\\' is not defined in this scope\"\\n'\n",
      "Failed to execute to_execute.py in Docker.\n",
      "Error parsing: Command 'python /workspace/to_execute.py' in image 'qiskit_runner' returned non-zero exit status 1: b'Traceback (most recent call last):\\n  File \"/workspace/to_execute.py\", line 10, in <module>\\n    qc = qasm2.loads(\\n  File \"/usr/local/lib/python3.10/site-packages/qiskit/qasm2/__init__.py\", line 587, in loads\\n    return _parse.from_bytecode(\\n  File \"/usr/local/lib/python3.10/site-packages/qiskit/qasm2/parse.py\", line 214, in from_bytecode\\n    for op in bc:\\nqiskit.qasm2.exceptions.QASM2ParseError: \"<input>:5,28: \\'reg_1_a\\' is not defined in this scope\"\\n'\n",
      "Failed to execute to_execute.py in Docker.\n",
      "Error parsing: Command 'python /workspace/to_execute.py' in image 'qiskit_runner' returned non-zero exit status 1: b'  File \"/workspace/to_execute.py\", line 11\\n    include \"qelib1.inc\";\\n            ^^^^^^^^^^^^\\nSyntaxError: invalid syntax\\n'\n",
      "Failed to execute to_execute.py in Docker.\n",
      "Error parsing: Command 'python /workspace/to_execute.py' in image 'qiskit_runner' returned non-zero exit status 1: b'  File \"/workspace/to_execute.py\", line 10\\n    qc = qasm2.loads(\\n                    ^\\nSyntaxError: \\'(\\' was never closed\\n'\n",
      "Failed to execute to_execute.py in Docker.\n",
      "Error parsing: Command 'python /workspace/to_execute.py' in image 'qiskit_runner' returned non-zero exit status 1: b'  File \"/workspace/to_execute.py\", line 17\\n    , custom_instructions=qasm2.LEGACY_CUSTOM_INSTRUCTIONS)\\nIndentationError: unexpected indent\\n'\n",
      "Failed to execute to_execute.py in Docker.\n",
      "Error parsing: Command 'python /workspace/to_execute.py' in image 'qiskit_runner' returned non-zero exit status 1: b'  File \"/workspace/to_execute.py\", line 11\\n    include \"qelib1.inc\";\\n            ^^^^^^^^^^^^\\nSyntaxError: invalid syntax\\n'\n",
      "Failed to execute to_execute.py in Docker.\n",
      "Error parsing: Command 'python /workspace/to_execute.py' in image 'qiskit_runner' returned non-zero exit status 1: b'Traceback (most recent call last):\\n  File \"/workspace/to_execute.py\", line 10, in <module>\\n    qc = qasm2.loads(\\n  File \"/usr/local/lib/python3.10/site-packages/qiskit/qasm2/__init__.py\", line 587, in loads\\n    return _parse.from_bytecode(\\n  File \"/usr/local/lib/python3.10/site-packages/qiskit/qasm2/parse.py\", line 214, in from_bytecode\\n    for op in bc:\\nqiskit.qasm2.exceptions.QASM2ParseError: \"<input>:5,0: cannot use non-builtin custom instruction \\'ccx\\' before definition\"\\n'\n",
      "Failed to execute to_execute.py in Docker.\n",
      "Error parsing: Command 'python /workspace/to_execute.py' in image 'qiskit_runner' returned non-zero exit status 1: b'Traceback (most recent call last):\\n  File \"/workspace/to_execute.py\", line 10, in <module>\\n    qc = qasm2.loads(\\n  File \"/usr/local/lib/python3.10/site-packages/qiskit/qasm2/__init__.py\", line 587, in loads\\n    return _parse.from_bytecode(\\n  File \"/usr/local/lib/python3.10/site-packages/qiskit/qasm2/parse.py\", line 214, in from_bytecode\\n    for op in bc:\\nqiskit.qasm2.exceptions.QASM2ParseError: \"<input>:5,4: \\'reg_1_cin\\' is not defined in this scope\"\\n'\n",
      "Failed to execute to_execute.py in Docker.\n",
      "Error parsing: Command 'python /workspace/to_execute.py' in image 'qiskit_runner' returned non-zero exit status 1: b'Traceback (most recent call last):\\n  File \"/workspace/to_execute.py\", line 10, in <module>\\n    qc = qasm2.loads(\\n  File \"/usr/local/lib/python3.10/site-packages/qiskit/qasm2/__init__.py\", line 587, in loads\\n    return _parse.from_bytecode(\\n  File \"/usr/local/lib/python3.10/site-packages/qiskit/qasm2/parse.py\", line 214, in from_bytecode\\n    for op in bc:\\nqiskit.qasm2.exceptions.QASM2ParseError: \"<input>:5,17: \\'reg_1_b\\' is not defined in this scope\"\\n'\n",
      "Failed to execute to_execute.py in Docker.\n",
      "Error parsing: Command 'python /workspace/to_execute.py' in image 'qiskit_runner' returned non-zero exit status 1: b'Traceback (most recent call last):\\n  File \"/workspace/to_execute.py\", line 10, in <module>\\n    qc = qasm2.loads(\\n  File \"/usr/local/lib/python3.10/site-packages/qiskit/qasm2/__init__.py\", line 587, in loads\\n    return _parse.from_bytecode(\\n  File \"/usr/local/lib/python3.10/site-packages/qiskit/qasm2/parse.py\", line 214, in from_bytecode\\n    for op in bc:\\nqiskit.qasm2.exceptions.QASM2ParseError: \"<input>:5,28: \\'reg_1_a\\' is not defined in this scope\"\\n'\n",
      "Failed to execute to_execute.py in Docker.\n",
      "Output: Saved the Pytket circuit to /workspace/to_execute_qc_pytket.qasm\n",
      "Saved the Qiskit circuit to /workspace/to_execute_qc_qiskit.qasm\n",
      "Exported QASM files: [('/workspace/to_execute_qc_pytket.qasm', 'export_to_qasm_with_pytket'), ('/workspace/to_execute_qc_qiskit.qasm', 'export_to_qasm_with_qiskit')]\n",
      "The circuits are equivalent: /workspace/to_execute_qc_pytket.qasm, /workspace/to_execute_qc_qiskit.qasm\n",
      "\n",
      "Program to_execute.py executed successfully.\n",
      "Error parsing: Command 'python /workspace/to_execute.py' in image 'qiskit_runner' returned non-zero exit status 1: b'  File \"/workspace/to_execute.py\", line 11\\n    include \"qelib1.inc\";\\n            ^^^^^^^^^^^^\\nSyntaxError: invalid syntax\\n'\n",
      "Failed to execute to_execute.py in Docker.\n",
      "Error parsing: Command 'python /workspace/to_execute.py' in image 'qiskit_runner' returned non-zero exit status 1: b'  File \"/workspace/to_execute.py\", line 10\\n    qc = qasm2.loads(\\n                    ^\\nSyntaxError: \\'(\\' was never closed\\n'\n",
      "Failed to execute to_execute.py in Docker.\n"
     ]
    },
    {
     "data": {
      "text/html": [
       "<pre style=\"white-space:pre;overflow-x:auto;line-height:normal;font-family:Menlo,'DejaVu Sans Mono',consolas,'Courier New',monospace\"><span style=\"color: #7fbfbf; text-decoration-color: #7fbfbf\">[15:01:35] </span><span style=\"color: #008000; text-decoration-color: #008000\">Minimized file saved as:</span>                                                        <a href=\"file:///home/paltenmo/projects/crossplatform/analysis_and_reporting/ddmin_target_file.py\" target=\"_blank\"><span style=\"color: #7f7f7f; text-decoration-color: #7f7f7f\">ddmin_target_file.py</span></a><span style=\"color: #7f7f7f; text-decoration-color: #7f7f7f\">:</span><a href=\"file:///home/paltenmo/projects/crossplatform/analysis_and_reporting/ddmin_target_file.py#240\" target=\"_blank\"><span style=\"color: #7f7f7f; text-decoration-color: #7f7f7f\">240</span></a>\n",
       "<span style=\"color: #7fbfbf; text-decoration-color: #7fbfbf\">           </span>..<span style=\"color: #800080; text-decoration-color: #800080\">/reports/v009/2024_11_21__14_57/</span><span style=\"color: #ff00ff; text-decoration-color: #ff00ff\">qiskit_circuit_5q_10g_6533_f0b204_dbc69c_erro</span> <span style=\"color: #7f7f7f; text-decoration-color: #7f7f7f\">                        </span>\n",
       "<span style=\"color: #7fbfbf; text-decoration-color: #7fbfbf\">           </span><span style=\"color: #ff00ff; text-decoration-color: #ff00ff\">r_min.py</span>                                                                        <span style=\"color: #7f7f7f; text-decoration-color: #7f7f7f\">                        </span>\n",
       "</pre>\n"
      ],
      "text/plain": [
       "\u001b[2;36m[15:01:35]\u001b[0m\u001b[2;36m \u001b[0m\u001b[32mMinimized file saved as:\u001b[0m                                                        \u001b]8;id=330228;file:///home/paltenmo/projects/crossplatform/analysis_and_reporting/ddmin_target_file.py\u001b\\\u001b[2mddmin_target_file.py\u001b[0m\u001b]8;;\u001b\\\u001b[2m:\u001b[0m\u001b]8;id=890946;file:///home/paltenmo/projects/crossplatform/analysis_and_reporting/ddmin_target_file.py#240\u001b\\\u001b[2m240\u001b[0m\u001b]8;;\u001b\\\n",
       "\u001b[2;36m           \u001b[0m..\u001b[35m/reports/v009/2024_11_21__14_57/\u001b[0m\u001b[95mqiskit_circuit_5q_10g_6533_f0b204_dbc69c_erro\u001b[0m \u001b[2m                        \u001b[0m\n",
       "\u001b[2;36m           \u001b[0m\u001b[95mr_min.py\u001b[0m                                                                        \u001b[2m                        \u001b[0m\n"
      ]
     },
     "metadata": {},
     "output_type": "display_data"
    },
    {
     "name": "stdout",
     "output_type": "stream",
     "text": [
      "Output: Saved the Pytket circuit to /workspace/qiskit_circuit_5q_10g_6533_f0b204_dbc69c_error_min_qc_pytket.qasm\n",
      "Saved the Qiskit circuit to /workspace/qiskit_circuit_5q_10g_6533_f0b204_dbc69c_error_min_qc_qiskit.qasm\n",
      "Exported QASM files: [('/workspace/qiskit_circuit_5q_10g_6533_f0b204_dbc69c_error_min_qc_pytket.qasm', 'export_to_qasm_with_pytket'), ('/workspace/qiskit_circuit_5q_10g_6533_f0b204_dbc69c_error_min_qc_qiskit.qasm', 'export_to_qasm_with_qiskit')]\n",
      "Log has been saved to /workspace/qiskit_circuit_5q_10g_6533_f0b204_dbc69c_error_min_dc03a6_error.json\n",
      "\n"
     ]
    },
    {
     "data": {
      "text/html": [
       "<pre style=\"white-space:pre;overflow-x:auto;line-height:normal;font-family:Menlo,'DejaVu Sans Mono',consolas,'Courier New',monospace\"><span style=\"color: #7fbfbf; text-decoration-color: #7fbfbf\">[15:01:42] </span>Program qiskit_circuit_5q_10g_6533_f0b204_dbc69c_error_min.py executed              <a href=\"file:///home/paltenmo/projects/crossplatform/generators/docker_tooling.py\" target=\"_blank\"><span style=\"color: #7f7f7f; text-decoration-color: #7f7f7f\">docker_tooling.py</span></a><span style=\"color: #7f7f7f; text-decoration-color: #7f7f7f\">:</span><a href=\"file:///home/paltenmo/projects/crossplatform/generators/docker_tooling.py#46\" target=\"_blank\"><span style=\"color: #7f7f7f; text-decoration-color: #7f7f7f\">46</span></a>\n",
       "<span style=\"color: #7fbfbf; text-decoration-color: #7fbfbf\">           </span>successfully.                                                                       <span style=\"color: #7f7f7f; text-decoration-color: #7f7f7f\">                    </span>\n",
       "</pre>\n"
      ],
      "text/plain": [
       "\u001b[2;36m[15:01:42]\u001b[0m\u001b[2;36m \u001b[0mProgram qiskit_circuit_5q_10g_6533_f0b204_dbc69c_error_min.py executed              \u001b]8;id=496062;file:///home/paltenmo/projects/crossplatform/generators/docker_tooling.py\u001b\\\u001b[2mdocker_tooling.py\u001b[0m\u001b]8;;\u001b\\\u001b[2m:\u001b[0m\u001b]8;id=906562;file:///home/paltenmo/projects/crossplatform/generators/docker_tooling.py#46\u001b\\\u001b[2m46\u001b[0m\u001b]8;;\u001b\\\n",
       "\u001b[2;36m           \u001b[0msuccessfully.                                                                       \u001b[2m                    \u001b[0m\n"
      ]
     },
     "metadata": {},
     "output_type": "display_data"
    },
    {
     "data": {
      "application/vnd.jupyter.widget-view+json": {
       "model_id": "a804d8582c0742d78efd599218a98342",
       "version_major": 2,
       "version_minor": 0
      },
      "text/plain": [
       "Executing:   0%|          | 0/13 [00:00<?, ?cell/s]"
      ]
     },
     "metadata": {},
     "output_type": "display_data"
    },
    {
     "data": {
      "text/html": [
       "<pre style=\"white-space:pre;overflow-x:auto;line-height:normal;font-family:Menlo,'DejaVu Sans Mono',consolas,'Courier New',monospace\"><span style=\"color: #7fbfbf; text-decoration-color: #7fbfbf\">[15:01:45] </span>Analysis notebook executed: ..<span style=\"color: #800080; text-decoration-color: #800080\">/reports/v009/2024_11_21__14_57/</span><span style=\"color: #ff00ff; text-decoration-color: #ff00ff\">analysis_output.ipynb</span>        <a href=\"file:///home/paltenmo/projects/crossplatform/analysis_and_reporting/triage.py\" target=\"_blank\"><span style=\"color: #7f7f7f; text-decoration-color: #7f7f7f\">triage.py</span></a><span style=\"color: #7f7f7f; text-decoration-color: #7f7f7f\">:</span><a href=\"file:///home/paltenmo/projects/crossplatform/analysis_and_reporting/triage.py#163\" target=\"_blank\"><span style=\"color: #7f7f7f; text-decoration-color: #7f7f7f\">163</span></a>\n",
       "</pre>\n"
      ],
      "text/plain": [
       "\u001b[2;36m[15:01:45]\u001b[0m\u001b[2;36m \u001b[0mAnalysis notebook executed: ..\u001b[35m/reports/v009/2024_11_21__14_57/\u001b[0m\u001b[95manalysis_output.ipynb\u001b[0m        \u001b]8;id=838500;file:///home/paltenmo/projects/crossplatform/analysis_and_reporting/triage.py\u001b\\\u001b[2mtriage.py\u001b[0m\u001b]8;;\u001b\\\u001b[2m:\u001b[0m\u001b]8;id=187327;file:///home/paltenmo/projects/crossplatform/analysis_and_reporting/triage.py#163\u001b\\\u001b[2m163\u001b[0m\u001b]8;;\u001b\\\n"
      ]
     },
     "metadata": {},
     "output_type": "display_data"
    },
    {
     "data": {
      "text/html": [
       "<pre style=\"white-space:pre;overflow-x:auto;line-height:normal;font-family:Menlo,'DejaVu Sans Mono',consolas,'Courier New',monospace\"><span style=\"color: #7fbfbf; text-decoration-color: #7fbfbf\">           </span>Created report folder: ..<span style=\"color: #800080; text-decoration-color: #800080\">/reports/v009/</span><span style=\"color: #ff00ff; text-decoration-color: #ff00ff\">2024_11_21__15_01</span>                                   <a href=\"file:///home/paltenmo/projects/crossplatform/analysis_and_reporting/triage.py\" target=\"_blank\"><span style=\"color: #7f7f7f; text-decoration-color: #7f7f7f\">triage.py</span></a><span style=\"color: #7f7f7f; text-decoration-color: #7f7f7f\">:</span><a href=\"file:///home/paltenmo/projects/crossplatform/analysis_and_reporting/triage.py#131\" target=\"_blank\"><span style=\"color: #7f7f7f; text-decoration-color: #7f7f7f\">131</span></a>\n",
       "</pre>\n"
      ],
      "text/plain": [
       "\u001b[2;36m          \u001b[0m\u001b[2;36m \u001b[0mCreated report folder: ..\u001b[35m/reports/v009/\u001b[0m\u001b[95m2024_11_21__15_01\u001b[0m                                   \u001b]8;id=983100;file:///home/paltenmo/projects/crossplatform/analysis_and_reporting/triage.py\u001b\\\u001b[2mtriage.py\u001b[0m\u001b]8;;\u001b\\\u001b[2m:\u001b[0m\u001b]8;id=686809;file:///home/paltenmo/projects/crossplatform/analysis_and_reporting/triage.py#131\u001b\\\u001b[2m131\u001b[0m\u001b]8;;\u001b\\\n"
      ]
     },
     "metadata": {},
     "output_type": "display_data"
    },
    {
     "data": {
      "text/html": [
       "<pre style=\"white-space:pre;overflow-x:auto;line-height:normal;font-family:Menlo,'DejaVu Sans Mono',consolas,'Courier New',monospace\"><span style=\"color: #7fbfbf; text-decoration-color: #7fbfbf\">           </span>Copied files to: ..<span style=\"color: #800080; text-decoration-color: #800080\">/reports/v009/</span><span style=\"color: #ff00ff; text-decoration-color: #ff00ff\">2024_11_21__15_01</span>                                         <a href=\"file:///home/paltenmo/projects/crossplatform/analysis_and_reporting/triage.py\" target=\"_blank\"><span style=\"color: #7f7f7f; text-decoration-color: #7f7f7f\">triage.py</span></a><span style=\"color: #7f7f7f; text-decoration-color: #7f7f7f\">:</span><a href=\"file:///home/paltenmo/projects/crossplatform/analysis_and_reporting/triage.py#140\" target=\"_blank\"><span style=\"color: #7f7f7f; text-decoration-color: #7f7f7f\">140</span></a>\n",
       "</pre>\n"
      ],
      "text/plain": [
       "\u001b[2;36m          \u001b[0m\u001b[2;36m \u001b[0mCopied files to: ..\u001b[35m/reports/v009/\u001b[0m\u001b[95m2024_11_21__15_01\u001b[0m                                         \u001b]8;id=61401;file:///home/paltenmo/projects/crossplatform/analysis_and_reporting/triage.py\u001b\\\u001b[2mtriage.py\u001b[0m\u001b]8;;\u001b\\\u001b[2m:\u001b[0m\u001b]8;id=451277;file:///home/paltenmo/projects/crossplatform/analysis_and_reporting/triage.py#140\u001b\\\u001b[2m140\u001b[0m\u001b]8;;\u001b\\\n"
      ]
     },
     "metadata": {},
     "output_type": "display_data"
    },
    {
     "data": {
      "text/html": [
       "<pre style=\"white-space:pre;overflow-x:auto;line-height:normal;font-family:Menlo,'DejaVu Sans Mono',consolas,'Courier New',monospace\"><span style=\"color: #7fbfbf; text-decoration-color: #7fbfbf\">[15:01:45] </span>Involved functions:                                                             <a href=\"file:///home/paltenmo/projects/crossplatform/analysis_and_reporting/ddmin_target_file.py\" target=\"_blank\"><span style=\"color: #7f7f7f; text-decoration-color: #7f7f7f\">ddmin_target_file.py</span></a><span style=\"color: #7f7f7f; text-decoration-color: #7f7f7f\">:</span><a href=\"file:///home/paltenmo/projects/crossplatform/analysis_and_reporting/ddmin_target_file.py#206\" target=\"_blank\"><span style=\"color: #7f7f7f; text-decoration-color: #7f7f7f\">206</span></a>\n",
       "</pre>\n"
      ],
      "text/plain": [
       "\u001b[2;36m[15:01:45]\u001b[0m\u001b[2;36m \u001b[0mInvolved functions:                                                             \u001b]8;id=393739;file:///home/paltenmo/projects/crossplatform/analysis_and_reporting/ddmin_target_file.py\u001b\\\u001b[2mddmin_target_file.py\u001b[0m\u001b]8;;\u001b\\\u001b[2m:\u001b[0m\u001b]8;id=121612;file:///home/paltenmo/projects/crossplatform/analysis_and_reporting/ddmin_target_file.py#206\u001b\\\u001b[2m206\u001b[0m\u001b]8;;\u001b\\\n"
      ]
     },
     "metadata": {},
     "output_type": "display_data"
    },
    {
     "data": {
      "text/html": [
       "<pre style=\"white-space:pre;overflow-x:auto;line-height:normal;font-family:Menlo,'DejaVu Sans Mono',consolas,'Courier New',monospace\"><span style=\"color: #7fbfbf; text-decoration-color: #7fbfbf\">           </span>  - compare_qasm_via_qcec                                                       <a href=\"file:///home/paltenmo/projects/crossplatform/analysis_and_reporting/ddmin_target_file.py\" target=\"_blank\"><span style=\"color: #7f7f7f; text-decoration-color: #7f7f7f\">ddmin_target_file.py</span></a><span style=\"color: #7f7f7f; text-decoration-color: #7f7f7f\">:</span><a href=\"file:///home/paltenmo/projects/crossplatform/analysis_and_reporting/ddmin_target_file.py#208\" target=\"_blank\"><span style=\"color: #7f7f7f; text-decoration-color: #7f7f7f\">208</span></a>\n",
       "</pre>\n"
      ],
      "text/plain": [
       "\u001b[2;36m          \u001b[0m\u001b[2;36m \u001b[0m  - compare_qasm_via_qcec                                                       \u001b]8;id=893171;file:///home/paltenmo/projects/crossplatform/analysis_and_reporting/ddmin_target_file.py\u001b\\\u001b[2mddmin_target_file.py\u001b[0m\u001b]8;;\u001b\\\u001b[2m:\u001b[0m\u001b]8;id=900657;file:///home/paltenmo/projects/crossplatform/analysis_and_reporting/ddmin_target_file.py#208\u001b\\\u001b[2m208\u001b[0m\u001b]8;;\u001b\\\n"
      ]
     },
     "metadata": {},
     "output_type": "display_data"
    },
    {
     "data": {
      "text/html": [
       "<pre style=\"white-space:pre;overflow-x:auto;line-height:normal;font-family:Menlo,'DejaVu Sans Mono',consolas,'Courier New',monospace\"><span style=\"color: #7fbfbf; text-decoration-color: #7fbfbf\">           </span>  - export_to_qasm_with_pytket                                                  <a href=\"file:///home/paltenmo/projects/crossplatform/analysis_and_reporting/ddmin_target_file.py\" target=\"_blank\"><span style=\"color: #7f7f7f; text-decoration-color: #7f7f7f\">ddmin_target_file.py</span></a><span style=\"color: #7f7f7f; text-decoration-color: #7f7f7f\">:</span><a href=\"file:///home/paltenmo/projects/crossplatform/analysis_and_reporting/ddmin_target_file.py#208\" target=\"_blank\"><span style=\"color: #7f7f7f; text-decoration-color: #7f7f7f\">208</span></a>\n",
       "</pre>\n"
      ],
      "text/plain": [
       "\u001b[2;36m          \u001b[0m\u001b[2;36m \u001b[0m  - export_to_qasm_with_pytket                                                  \u001b]8;id=482258;file:///home/paltenmo/projects/crossplatform/analysis_and_reporting/ddmin_target_file.py\u001b\\\u001b[2mddmin_target_file.py\u001b[0m\u001b]8;;\u001b\\\u001b[2m:\u001b[0m\u001b]8;id=444501;file:///home/paltenmo/projects/crossplatform/analysis_and_reporting/ddmin_target_file.py#208\u001b\\\u001b[2m208\u001b[0m\u001b]8;;\u001b\\\n"
      ]
     },
     "metadata": {},
     "output_type": "display_data"
    },
    {
     "data": {
      "text/html": [
       "<pre style=\"white-space:pre;overflow-x:auto;line-height:normal;font-family:Menlo,'DejaVu Sans Mono',consolas,'Courier New',monospace\"><span style=\"color: #7fbfbf; text-decoration-color: #7fbfbf\">           </span>  - export_to_qasm_with_qiskit                                                  <a href=\"file:///home/paltenmo/projects/crossplatform/analysis_and_reporting/ddmin_target_file.py\" target=\"_blank\"><span style=\"color: #7f7f7f; text-decoration-color: #7f7f7f\">ddmin_target_file.py</span></a><span style=\"color: #7f7f7f; text-decoration-color: #7f7f7f\">:</span><a href=\"file:///home/paltenmo/projects/crossplatform/analysis_and_reporting/ddmin_target_file.py#208\" target=\"_blank\"><span style=\"color: #7f7f7f; text-decoration-color: #7f7f7f\">208</span></a>\n",
       "</pre>\n"
      ],
      "text/plain": [
       "\u001b[2;36m          \u001b[0m\u001b[2;36m \u001b[0m  - export_to_qasm_with_qiskit                                                  \u001b]8;id=403788;file:///home/paltenmo/projects/crossplatform/analysis_and_reporting/ddmin_target_file.py\u001b\\\u001b[2mddmin_target_file.py\u001b[0m\u001b]8;;\u001b\\\u001b[2m:\u001b[0m\u001b]8;id=219130;file:///home/paltenmo/projects/crossplatform/analysis_and_reporting/ddmin_target_file.py#208\u001b\\\u001b[2m208\u001b[0m\u001b]8;;\u001b\\\n"
      ]
     },
     "metadata": {},
     "output_type": "display_data"
    },
    {
     "name": "stdout",
     "output_type": "stream",
     "text": [
      "Error parsing: Command 'python /workspace/to_execute.py' in image 'qiskit_runner' returned non-zero exit status 1: b'Traceback (most recent call last):\\n  File \"/workspace/to_execute.py\", line 105, in <module>\\n    target_qc = qc\\nNameError: name \\'qc\\' is not defined\\n'\n",
      "Failed to execute to_execute.py in Docker.\n",
      "Output: Saved the Pytket circuit to /workspace/to_execute_qc_pytket.qasm\n",
      "Saved the Qiskit circuit to /workspace/to_execute_qc_qiskit.qasm\n",
      "Exported QASM files: [('/workspace/to_execute_qc_pytket.qasm', 'export_to_qasm_with_pytket'), ('/workspace/to_execute_qc_qiskit.qasm', 'export_to_qasm_with_qiskit')]\n",
      "Log has been saved to /workspace/to_execute_81243d_error.json\n",
      "\n",
      "Program to_execute.py executed successfully.\n",
      "New exception message: The circuits are not equivalent: /workspace/to_execute_qc_pytket.qasm, /workspace/to_execute_qc_qiskit.qasm\n",
      "Error parsing: Command 'python /workspace/to_execute.py' in image 'qiskit_runner' returned non-zero exit status 1: b'  File \"/workspace/to_execute.py\", line 22\\n    , custom_instructions=qasm2.LEGACY_CUSTOM_INSTRUCTIONS)\\n                                                          ^\\nSyntaxError: unmatched \\')\\'\\n'\n",
      "Failed to execute to_execute.py in Docker.\n",
      "Error parsing: Command 'python /workspace/to_execute.py' in image 'qiskit_runner' returned non-zero exit status 1: b'  File \"/workspace/to_execute.py\", line 10\\n    qc = qasm2.loads(\\n                    ^\\nSyntaxError: \\'(\\' was never closed\\n'\n",
      "Failed to execute to_execute.py in Docker.\n",
      "Error parsing: Command 'python /workspace/to_execute.py' in image 'qiskit_runner' returned non-zero exit status 1: b'  File \"/workspace/to_execute.py\", line 29\\n    , custom_instructions=qasm2.LEGACY_CUSTOM_INSTRUCTIONS)\\n                                                          ^\\nSyntaxError: unmatched \\')\\'\\n'\n",
      "Failed to execute to_execute.py in Docker.\n",
      "Error parsing: Command 'python /workspace/to_execute.py' in image 'qiskit_runner' returned non-zero exit status 1: b'Traceback (most recent call last):\\n  File \"/workspace/to_execute.py\", line 10, in <module>\\n    qc = qasm2.loads(\\n  File \"/usr/local/lib/python3.10/site-packages/qiskit/qasm2/__init__.py\", line 587, in loads\\n    return _parse.from_bytecode(\\n  File \"/usr/local/lib/python3.10/site-packages/qiskit/qasm2/parse.py\", line 214, in from_bytecode\\n    for op in bc:\\nqiskit.qasm2.exceptions.QASM2ParseError: \"<input>:9,22: \\'reg_1_c\\' is not defined in this scope\"\\n'\n",
      "Failed to execute to_execute.py in Docker.\n",
      "Output: Saved the Pytket circuit to /workspace/to_execute_qc_pytket.qasm\n",
      "Saved the Qiskit circuit to /workspace/to_execute_qc_qiskit.qasm\n",
      "Exported QASM files: [('/workspace/to_execute_qc_pytket.qasm', 'export_to_qasm_with_pytket'), ('/workspace/to_execute_qc_qiskit.qasm', 'export_to_qasm_with_qiskit')]\n",
      "Log has been saved to /workspace/to_execute_be7e3f_error.json\n",
      "\n",
      "Program to_execute.py executed successfully.\n",
      "New exception message: The circuits are not equivalent: /workspace/to_execute_qc_pytket.qasm, /workspace/to_execute_qc_qiskit.qasm\n",
      "Error parsing: Command 'python /workspace/to_execute.py' in image 'qiskit_runner' returned non-zero exit status 1: b'  File \"/workspace/to_execute.py\", line 22\\n    , custom_instructions=qasm2.LEGACY_CUSTOM_INSTRUCTIONS)\\n                                                          ^\\nSyntaxError: unmatched \\')\\'\\n'\n",
      "Failed to execute to_execute.py in Docker.\n",
      "Error parsing: Command 'python /workspace/to_execute.py' in image 'qiskit_runner' returned non-zero exit status 1: b'Traceback (most recent call last):\\n  File \"/workspace/to_execute.py\", line 10, in <module>\\n    qc = qasm2.loads(\\n  File \"/usr/local/lib/python3.10/site-packages/qiskit/qasm2/__init__.py\", line 587, in loads\\n    return _parse.from_bytecode(\\n  File \"/usr/local/lib/python3.10/site-packages/qiskit/qasm2/parse.py\", line 214, in from_bytecode\\n    for op in bc:\\nqiskit.qasm2.exceptions.QASM2ParseError: \"<input>:6,3: \\'reg_2_a\\' is not defined in this scope\"\\n'\n",
      "Failed to execute to_execute.py in Docker.\n",
      "Error parsing: Command 'python /workspace/to_execute.py' in image 'qiskit_runner' returned non-zero exit status 1: b'  File \"/workspace/to_execute.py\", line 10\\n    qc = qasm2.loads(\\n                    ^\\nSyntaxError: \\'(\\' was never closed\\n'\n",
      "Failed to execute to_execute.py in Docker.\n",
      "Error parsing: Command 'python /workspace/to_execute.py' in image 'qiskit_runner' returned non-zero exit status 1: b'  File \"/workspace/to_execute.py\", line 25\\n    , custom_instructions=qasm2.LEGACY_CUSTOM_INSTRUCTIONS)\\n                                                          ^\\nSyntaxError: unmatched \\')\\'\\n'\n",
      "Failed to execute to_execute.py in Docker.\n",
      "Error parsing: Command 'python /workspace/to_execute.py' in image 'qiskit_runner' returned non-zero exit status 1: b'Traceback (most recent call last):\\n  File \"/workspace/to_execute.py\", line 10, in <module>\\n    qc = qasm2.loads(\\n  File \"/usr/local/lib/python3.10/site-packages/qiskit/qasm2/__init__.py\", line 587, in loads\\n    return _parse.from_bytecode(\\n  File \"/usr/local/lib/python3.10/site-packages/qiskit/qasm2/parse.py\", line 214, in from_bytecode\\n    for op in bc:\\nqiskit.qasm2.exceptions.QASM2ParseError: \"<input>:7,0: cannot use non-builtin custom instruction \\'cx\\' before definition\"\\n'\n",
      "Failed to execute to_execute.py in Docker.\n",
      "Error parsing: Command 'python /workspace/to_execute.py' in image 'qiskit_runner' returned non-zero exit status 1: b'Traceback (most recent call last):\\n  File \"/workspace/to_execute.py\", line 10, in <module>\\n    qc = qasm2.loads(\\n  File \"/usr/local/lib/python3.10/site-packages/qiskit/qasm2/__init__.py\", line 587, in loads\\n    return _parse.from_bytecode(\\n  File \"/usr/local/lib/python3.10/site-packages/qiskit/qasm2/parse.py\", line 214, in from_bytecode\\n    for op in bc:\\nqiskit.qasm2.exceptions.QASM2ParseError: \"<input>:9,3: \\'reg_2_a\\' is not defined in this scope\"\\n'\n",
      "Failed to execute to_execute.py in Docker.\n",
      "Output: Saved the Pytket circuit to /workspace/to_execute_qc_pytket.qasm\n",
      "Saved the Qiskit circuit to /workspace/to_execute_qc_qiskit.qasm\n",
      "Exported QASM files: [('/workspace/to_execute_qc_pytket.qasm', 'export_to_qasm_with_pytket'), ('/workspace/to_execute_qc_qiskit.qasm', 'export_to_qasm_with_qiskit')]\n",
      "Log has been saved to /workspace/to_execute_7f7502_error.json\n",
      "\n",
      "Program to_execute.py executed successfully.\n",
      "New exception message: The circuits are not equivalent: /workspace/to_execute_qc_pytket.qasm, /workspace/to_execute_qc_qiskit.qasm\n",
      "Error parsing: Command 'python /workspace/to_execute.py' in image 'qiskit_runner' returned non-zero exit status 1: b'  File \"/workspace/to_execute.py\", line 22\\n    , custom_instructions=qasm2.LEGACY_CUSTOM_INSTRUCTIONS)\\n                                                          ^\\nSyntaxError: unmatched \\')\\'\\n'\n",
      "Failed to execute to_execute.py in Docker.\n",
      "Error parsing: Command 'python /workspace/to_execute.py' in image 'qiskit_runner' returned non-zero exit status 1: b'Traceback (most recent call last):\\n  File \"/workspace/to_execute.py\", line 10, in <module>\\n    qc = qasm2.loads(\\n  File \"/usr/local/lib/python3.10/site-packages/qiskit/qasm2/__init__.py\", line 587, in loads\\n    return _parse.from_bytecode(\\n  File \"/usr/local/lib/python3.10/site-packages/qiskit/qasm2/parse.py\", line 214, in from_bytecode\\n    for op in bc:\\nqiskit.qasm2.exceptions.QASM2ParseError: \"<input>:6,0: cannot use non-builtin custom instruction \\'cx\\' before definition\"\\n'\n",
      "Failed to execute to_execute.py in Docker.\n",
      "Error parsing: Command 'python /workspace/to_execute.py' in image 'qiskit_runner' returned non-zero exit status 1: b'Traceback (most recent call last):\\n  File \"/workspace/to_execute.py\", line 10, in <module>\\n    qc = qasm2.loads(\\n  File \"/usr/local/lib/python3.10/site-packages/qiskit/qasm2/__init__.py\", line 587, in loads\\n    return _parse.from_bytecode(\\n  File \"/usr/local/lib/python3.10/site-packages/qiskit/qasm2/parse.py\", line 214, in from_bytecode\\n    for op in bc:\\nqiskit.qasm2.exceptions.QASM2ParseError: \"<input>:8,17: \\'reg_2_b\\' is not defined in this scope\"\\n'\n",
      "Failed to execute to_execute.py in Docker.\n",
      "Output: Saved the Pytket circuit to /workspace/to_execute_qc_pytket.qasm\n",
      "Saved the Qiskit circuit to /workspace/to_execute_qc_qiskit.qasm\n",
      "Exported QASM files: [('/workspace/to_execute_qc_pytket.qasm', 'export_to_qasm_with_pytket'), ('/workspace/to_execute_qc_qiskit.qasm', 'export_to_qasm_with_qiskit')]\n",
      "Log has been saved to /workspace/to_execute_2c5abe_error.json\n",
      "\n",
      "Program to_execute.py executed successfully.\n",
      "New exception message: The circuits are not equivalent: /workspace/to_execute_qc_pytket.qasm, /workspace/to_execute_qc_qiskit.qasm\n",
      "Error parsing: Command 'python /workspace/to_execute.py' in image 'qiskit_runner' returned non-zero exit status 1: b'  File \"/workspace/to_execute.py\", line 18\\n    , custom_instructions=qasm2.LEGACY_CUSTOM_INSTRUCTIONS)\\n                                                          ^\\nSyntaxError: unmatched \\')\\'\\n'\n",
      "Failed to execute to_execute.py in Docker.\n",
      "Error parsing: Command 'python /workspace/to_execute.py' in image 'qiskit_runner' returned non-zero exit status 1: b'Traceback (most recent call last):\\n  File \"/workspace/to_execute.py\", line 10, in <module>\\n    qc = qasm2.loads(\\n  File \"/usr/local/lib/python3.10/site-packages/qiskit/qasm2/__init__.py\", line 587, in loads\\n    return _parse.from_bytecode(\\n  File \"/usr/local/lib/python3.10/site-packages/qiskit/qasm2/parse.py\", line 214, in from_bytecode\\n    for op in bc:\\nqiskit.qasm2.exceptions.QASM2ParseError: \"<input>:7,0: cannot use non-builtin custom instruction \\'ccx\\' before definition\"\\n'\n",
      "Failed to execute to_execute.py in Docker.\n",
      "Error parsing: Command 'python /workspace/to_execute.py' in image 'qiskit_runner' returned non-zero exit status 1: b'Traceback (most recent call last):\\n  File \"/workspace/to_execute.py\", line 10, in <module>\\n    qc = qasm2.loads(\\n  File \"/usr/local/lib/python3.10/site-packages/qiskit/qasm2/__init__.py\", line 587, in loads\\n    return _parse.from_bytecode(\\n  File \"/usr/local/lib/python3.10/site-packages/qiskit/qasm2/parse.py\", line 214, in from_bytecode\\n    for op in bc:\\nqiskit.qasm2.exceptions.QASM2ParseError: \"<input>:6,4: \\'reg_2_a\\' is not defined in this scope\"\\n'\n",
      "Failed to execute to_execute.py in Docker.\n",
      "Error parsing: Command 'python /workspace/to_execute.py' in image 'qiskit_runner' returned non-zero exit status 1: b'  File \"/workspace/to_execute.py\", line 10\\n    qc = qasm2.loads(\\n                    ^\\nSyntaxError: \\'(\\' was never closed\\n'\n",
      "Failed to execute to_execute.py in Docker.\n",
      "Error parsing: Command 'python /workspace/to_execute.py' in image 'qiskit_runner' returned non-zero exit status 1: b'  File \"/workspace/to_execute.py\", line 21\\n    , custom_instructions=qasm2.LEGACY_CUSTOM_INSTRUCTIONS)\\nIndentationError: unexpected indent\\n'\n",
      "Failed to execute to_execute.py in Docker.\n",
      "Error parsing: Command 'python /workspace/to_execute.py' in image 'qiskit_runner' returned non-zero exit status 1: b'  File \"/workspace/to_execute.py\", line 12\\n    include \"qelib1.inc\";\\n            ^^^^^^^^^^^^\\nSyntaxError: invalid syntax\\n'\n",
      "Failed to execute to_execute.py in Docker.\n",
      "Error parsing: Command 'python /workspace/to_execute.py' in image 'qiskit_runner' returned non-zero exit status 1: b'Traceback (most recent call last):\\n  File \"/workspace/to_execute.py\", line 10, in <module>\\n    qc = qasm2.loads(\\n  File \"/usr/local/lib/python3.10/site-packages/qiskit/qasm2/__init__.py\", line 587, in loads\\n    return _parse.from_bytecode(\\n  File \"/usr/local/lib/python3.10/site-packages/qiskit/qasm2/parse.py\", line 214, in from_bytecode\\n    for op in bc:\\nqiskit.qasm2.exceptions.QASM2ParseError: \"<input>:8,0: cannot use non-builtin custom instruction \\'ccx\\' before definition\"\\n'\n",
      "Failed to execute to_execute.py in Docker.\n",
      "Error parsing: Command 'python /workspace/to_execute.py' in image 'qiskit_runner' returned non-zero exit status 1: b'Traceback (most recent call last):\\n  File \"/workspace/to_execute.py\", line 10, in <module>\\n    qc = qasm2.loads(\\n  File \"/usr/local/lib/python3.10/site-packages/qiskit/qasm2/__init__.py\", line 587, in loads\\n    return _parse.from_bytecode(\\n  File \"/usr/local/lib/python3.10/site-packages/qiskit/qasm2/parse.py\", line 214, in from_bytecode\\n    for op in bc:\\nqiskit.qasm2.exceptions.QASM2ParseError: \"<input>:8,4: \\'reg_2_a\\' is not defined in this scope\"\\n'\n",
      "Failed to execute to_execute.py in Docker.\n",
      "Error parsing: Command 'python /workspace/to_execute.py' in image 'qiskit_runner' returned non-zero exit status 1: b'Traceback (most recent call last):\\n  File \"/workspace/to_execute.py\", line 10, in <module>\\n    qc = qasm2.loads(\\n  File \"/usr/local/lib/python3.10/site-packages/qiskit/qasm2/__init__.py\", line 587, in loads\\n    return _parse.from_bytecode(\\n  File \"/usr/local/lib/python3.10/site-packages/qiskit/qasm2/parse.py\", line 214, in from_bytecode\\n    for op in bc:\\nqiskit.qasm2.exceptions.QASM2ParseError: \"<input>:8,15: \\'reg_2_b\\' is not defined in this scope\"\\n'\n",
      "Failed to execute to_execute.py in Docker.\n",
      "Output: Saved the Pytket circuit to /workspace/to_execute_qc_pytket.qasm\n",
      "Saved the Qiskit circuit to /workspace/to_execute_qc_qiskit.qasm\n",
      "Exported QASM files: [('/workspace/to_execute_qc_pytket.qasm', 'export_to_qasm_with_pytket'), ('/workspace/to_execute_qc_qiskit.qasm', 'export_to_qasm_with_qiskit')]\n",
      "Log has been saved to /workspace/to_execute_71ef2f_error.json\n",
      "\n",
      "Program to_execute.py executed successfully.\n",
      "New exception message: The circuits are not equivalent: /workspace/to_execute_qc_pytket.qasm, /workspace/to_execute_qc_qiskit.qasm\n",
      "Error parsing: Command 'python /workspace/to_execute.py' in image 'qiskit_runner' returned non-zero exit status 1: b'  File \"/workspace/to_execute.py\", line 20\\n    , custom_instructions=qasm2.LEGACY_CUSTOM_INSTRUCTIONS)\\nIndentationError: unexpected indent\\n'\n",
      "Failed to execute to_execute.py in Docker.\n",
      "Error parsing: Command 'python /workspace/to_execute.py' in image 'qiskit_runner' returned non-zero exit status 1: b'  File \"/workspace/to_execute.py\", line 12\\n    include \"qelib1.inc\";\\n            ^^^^^^^^^^^^\\nSyntaxError: invalid syntax\\n'\n",
      "Failed to execute to_execute.py in Docker.\n",
      "Error parsing: Command 'python /workspace/to_execute.py' in image 'qiskit_runner' returned non-zero exit status 1: b'Traceback (most recent call last):\\n  File \"/workspace/to_execute.py\", line 10, in <module>\\n    qc = qasm2.loads(\\n  File \"/usr/local/lib/python3.10/site-packages/qiskit/qasm2/__init__.py\", line 587, in loads\\n    return _parse.from_bytecode(\\n  File \"/usr/local/lib/python3.10/site-packages/qiskit/qasm2/parse.py\", line 214, in from_bytecode\\n    for op in bc:\\nqiskit.qasm2.exceptions.QASM2ParseError: \"<input>:7,0: cannot use non-builtin custom instruction \\'ccx\\' before definition\"\\n'\n",
      "Failed to execute to_execute.py in Docker.\n",
      "Error parsing: Command 'python /workspace/to_execute.py' in image 'qiskit_runner' returned non-zero exit status 1: b'Traceback (most recent call last):\\n  File \"/workspace/to_execute.py\", line 10, in <module>\\n    qc = qasm2.loads(\\n  File \"/usr/local/lib/python3.10/site-packages/qiskit/qasm2/__init__.py\", line 587, in loads\\n    return _parse.from_bytecode(\\n  File \"/usr/local/lib/python3.10/site-packages/qiskit/qasm2/parse.py\", line 214, in from_bytecode\\n    for op in bc:\\nqiskit.qasm2.exceptions.QASM2ParseError: \"<input>:7,4: \\'reg_2_a\\' is not defined in this scope\"\\n'\n",
      "Failed to execute to_execute.py in Docker.\n",
      "Error parsing: Command 'python /workspace/to_execute.py' in image 'qiskit_runner' returned non-zero exit status 1: b'Traceback (most recent call last):\\n  File \"/workspace/to_execute.py\", line 10, in <module>\\n    qc = qasm2.loads(\\n  File \"/usr/local/lib/python3.10/site-packages/qiskit/qasm2/__init__.py\", line 587, in loads\\n    return _parse.from_bytecode(\\n  File \"/usr/local/lib/python3.10/site-packages/qiskit/qasm2/parse.py\", line 214, in from_bytecode\\n    for op in bc:\\nqiskit.qasm2.exceptions.QASM2ParseError: \"<input>:7,15: \\'reg_2_b\\' is not defined in this scope\"\\n'\n",
      "Failed to execute to_execute.py in Docker.\n",
      "Error parsing: Command 'python /workspace/to_execute.py' in image 'qiskit_runner' returned non-zero exit status 1: b'  File \"/workspace/to_execute.py\", line 12\\n    OPENQASM 2.0;\\n    ^^^^^^^^^^^^\\nSyntaxError: invalid syntax. Perhaps you forgot a comma?\\n'\n",
      "Failed to execute to_execute.py in Docker.\n",
      "Error parsing: Command 'python /workspace/to_execute.py' in image 'qiskit_runner' returned non-zero exit status 1: b'  File \"/workspace/to_execute.py\", line 10\\n    qc = qasm2.loads(\\n                    ^\\nSyntaxError: \\'(\\' was never closed\\n'\n",
      "Failed to execute to_execute.py in Docker.\n",
      "Error parsing: Command 'python /workspace/to_execute.py' in image 'qiskit_runner' returned non-zero exit status 1: b'  File \"/workspace/to_execute.py\", line 21\\n    , custom_instructions=qasm2.LEGACY_CUSTOM_INSTRUCTIONS)\\nIndentationError: unexpected indent\\n'\n",
      "Failed to execute to_execute.py in Docker.\n",
      "Output: Saved the Pytket circuit to /workspace/to_execute_qc_pytket.qasm\n",
      "Saved the Qiskit circuit to /workspace/to_execute_qc_qiskit.qasm\n",
      "Exported QASM files: [('/workspace/to_execute_qc_pytket.qasm', 'export_to_qasm_with_pytket'), ('/workspace/to_execute_qc_qiskit.qasm', 'export_to_qasm_with_qiskit')]\n",
      "Log has been saved to /workspace/to_execute_07037d_error.json\n",
      "\n",
      "Program to_execute.py executed successfully.\n",
      "New exception message: The circuits are not equivalent: /workspace/to_execute_qc_pytket.qasm, /workspace/to_execute_qc_qiskit.qasm\n",
      "Error parsing: Command 'python /workspace/to_execute.py' in image 'qiskit_runner' returned non-zero exit status 1: b'  File \"/workspace/to_execute.py\", line 20\\n    , custom_instructions=qasm2.LEGACY_CUSTOM_INSTRUCTIONS)\\nIndentationError: unexpected indent\\n'\n",
      "Failed to execute to_execute.py in Docker.\n",
      "Error parsing: Command 'python /workspace/to_execute.py' in image 'qiskit_runner' returned non-zero exit status 1: b'  File \"/workspace/to_execute.py\", line 11\\n    OPENQASM 2.0;\\n    ^^^^^^^^^^^^\\nSyntaxError: invalid syntax. Perhaps you forgot a comma?\\n'\n",
      "Failed to execute to_execute.py in Docker.\n",
      "Output: Saved the Pytket circuit to /workspace/to_execute_qc_pytket.qasm\n",
      "Saved the Qiskit circuit to /workspace/to_execute_qc_qiskit.qasm\n",
      "Exported QASM files: [('/workspace/to_execute_qc_pytket.qasm', 'export_to_qasm_with_pytket'), ('/workspace/to_execute_qc_qiskit.qasm', 'export_to_qasm_with_qiskit')]\n",
      "Log has been saved to /workspace/to_execute_42f483_error.json\n",
      "\n",
      "Program to_execute.py executed successfully.\n",
      "New exception message: The circuits are not equivalent: /workspace/to_execute_qc_pytket.qasm, /workspace/to_execute_qc_qiskit.qasm\n",
      "Error parsing: Command 'python /workspace/to_execute.py' in image 'qiskit_runner' returned non-zero exit status 1: b'  File \"/workspace/to_execute.py\", line 19\\n    , custom_instructions=qasm2.LEGACY_CUSTOM_INSTRUCTIONS)\\nIndentationError: unexpected indent\\n'\n",
      "Failed to execute to_execute.py in Docker.\n",
      "Error parsing: Command 'python /workspace/to_execute.py' in image 'qiskit_runner' returned non-zero exit status 1: b'  File \"/workspace/to_execute.py\", line 11\\n    include \"qelib1.inc\";\\n            ^^^^^^^^^^^^\\nSyntaxError: invalid syntax\\n'\n",
      "Failed to execute to_execute.py in Docker.\n",
      "Error parsing: Command 'python /workspace/to_execute.py' in image 'qiskit_runner' returned non-zero exit status 1: b'Traceback (most recent call last):\\n  File \"/workspace/to_execute.py\", line 10, in <module>\\n    qc = qasm2.loads(\\n  File \"/usr/local/lib/python3.10/site-packages/qiskit/qasm2/__init__.py\", line 587, in loads\\n    return _parse.from_bytecode(\\n  File \"/usr/local/lib/python3.10/site-packages/qiskit/qasm2/parse.py\", line 214, in from_bytecode\\n    for op in bc:\\nqiskit.qasm2.exceptions.QASM2ParseError: \"<input>:7,0: cannot use non-builtin custom instruction \\'ccx\\' before definition\"\\n'\n",
      "Failed to execute to_execute.py in Docker.\n",
      "Output: Saved the Pytket circuit to /workspace/to_execute_qc_pytket.qasm\n",
      "Saved the Qiskit circuit to /workspace/to_execute_qc_qiskit.qasm\n",
      "Exported QASM files: [('/workspace/to_execute_qc_pytket.qasm', 'export_to_qasm_with_pytket'), ('/workspace/to_execute_qc_qiskit.qasm', 'export_to_qasm_with_qiskit')]\n",
      "Log has been saved to /workspace/to_execute_630c08_error.json\n",
      "\n",
      "Program to_execute.py executed successfully.\n",
      "New exception message: The circuits are not equivalent: /workspace/to_execute_qc_pytket.qasm, /workspace/to_execute_qc_qiskit.qasm\n",
      "Error parsing: Command 'python /workspace/to_execute.py' in image 'qiskit_runner' returned non-zero exit status 1: b'  File \"/workspace/to_execute.py\", line 18\\n    , custom_instructions=qasm2.LEGACY_CUSTOM_INSTRUCTIONS)\\nIndentationError: unexpected indent\\n'\n",
      "Failed to execute to_execute.py in Docker.\n",
      "Error parsing: Command 'python /workspace/to_execute.py' in image 'qiskit_runner' returned non-zero exit status 1: b'  File \"/workspace/to_execute.py\", line 11\\n    include \"qelib1.inc\";\\n            ^^^^^^^^^^^^\\nSyntaxError: invalid syntax\\n'\n",
      "Failed to execute to_execute.py in Docker.\n",
      "Error parsing: Command 'python /workspace/to_execute.py' in image 'qiskit_runner' returned non-zero exit status 1: b'Traceback (most recent call last):\\n  File \"/workspace/to_execute.py\", line 10, in <module>\\n    qc = qasm2.loads(\\n  File \"/usr/local/lib/python3.10/site-packages/qiskit/qasm2/__init__.py\", line 587, in loads\\n    return _parse.from_bytecode(\\n  File \"/usr/local/lib/python3.10/site-packages/qiskit/qasm2/parse.py\", line 214, in from_bytecode\\n    for op in bc:\\nqiskit.qasm2.exceptions.QASM2ParseError: \"<input>:6,0: cannot use non-builtin custom instruction \\'ccx\\' before definition\"\\n'\n",
      "Failed to execute to_execute.py in Docker.\n",
      "Output: Saved the Pytket circuit to /workspace/to_execute_qc_pytket.qasm\n",
      "Saved the Qiskit circuit to /workspace/to_execute_qc_qiskit.qasm\n",
      "Exported QASM files: [('/workspace/to_execute_qc_pytket.qasm', 'export_to_qasm_with_pytket'), ('/workspace/to_execute_qc_qiskit.qasm', 'export_to_qasm_with_qiskit')]\n",
      "The circuits are equivalent: /workspace/to_execute_qc_pytket.qasm, /workspace/to_execute_qc_qiskit.qasm\n",
      "\n",
      "Program to_execute.py executed successfully.\n",
      "Error parsing: Command 'python /workspace/to_execute.py' in image 'qiskit_runner' returned non-zero exit status 1: b'Traceback (most recent call last):\\n  File \"/workspace/to_execute.py\", line 10, in <module>\\n    qc = qasm2.loads(\\n  File \"/usr/local/lib/python3.10/site-packages/qiskit/qasm2/__init__.py\", line 587, in loads\\n    return _parse.from_bytecode(\\n  File \"/usr/local/lib/python3.10/site-packages/qiskit/qasm2/parse.py\", line 214, in from_bytecode\\n    for op in bc:\\nqiskit.qasm2.exceptions.QASM2ParseError: \"<input>:6,4: \\'reg_2_a\\' is not defined in this scope\"\\n'\n",
      "Failed to execute to_execute.py in Docker.\n",
      "Error parsing: Command 'python /workspace/to_execute.py' in image 'qiskit_runner' returned non-zero exit status 1: b'Traceback (most recent call last):\\n  File \"/workspace/to_execute.py\", line 10, in <module>\\n    qc = qasm2.loads(\\n  File \"/usr/local/lib/python3.10/site-packages/qiskit/qasm2/__init__.py\", line 587, in loads\\n    return _parse.from_bytecode(\\n  File \"/usr/local/lib/python3.10/site-packages/qiskit/qasm2/parse.py\", line 214, in from_bytecode\\n    for op in bc:\\nqiskit.qasm2.exceptions.QASM2ParseError: \"<input>:6,15: \\'reg_2_b\\' is not defined in this scope\"\\n'\n",
      "Failed to execute to_execute.py in Docker.\n",
      "Output: Saved the Pytket circuit to /workspace/to_execute_qc_pytket.qasm\n",
      "Saved the Qiskit circuit to /workspace/to_execute_qc_qiskit.qasm\n",
      "Exported QASM files: [('/workspace/to_execute_qc_pytket.qasm', 'export_to_qasm_with_pytket'), ('/workspace/to_execute_qc_qiskit.qasm', 'export_to_qasm_with_qiskit')]\n",
      "Log has been saved to /workspace/to_execute_102dab_error.json\n",
      "\n",
      "Program to_execute.py executed successfully.\n",
      "New exception message: The circuits are not equivalent: /workspace/to_execute_qc_pytket.qasm, /workspace/to_execute_qc_qiskit.qasm\n",
      "Error parsing: Command 'python /workspace/to_execute.py' in image 'qiskit_runner' returned non-zero exit status 1: b'  File \"/workspace/to_execute.py\", line 17\\n    , custom_instructions=qasm2.LEGACY_CUSTOM_INSTRUCTIONS)\\nIndentationError: unexpected indent\\n'\n",
      "Failed to execute to_execute.py in Docker.\n",
      "Error parsing: Command 'python /workspace/to_execute.py' in image 'qiskit_runner' returned non-zero exit status 1: b'  File \"/workspace/to_execute.py\", line 11\\n    include \"qelib1.inc\";\\n            ^^^^^^^^^^^^\\nSyntaxError: invalid syntax\\n'\n",
      "Failed to execute to_execute.py in Docker.\n",
      "Error parsing: Command 'python /workspace/to_execute.py' in image 'qiskit_runner' returned non-zero exit status 1: b'Traceback (most recent call last):\\n  File \"/workspace/to_execute.py\", line 10, in <module>\\n    qc = qasm2.loads(\\n  File \"/usr/local/lib/python3.10/site-packages/qiskit/qasm2/__init__.py\", line 587, in loads\\n    return _parse.from_bytecode(\\n  File \"/usr/local/lib/python3.10/site-packages/qiskit/qasm2/parse.py\", line 214, in from_bytecode\\n    for op in bc:\\nqiskit.qasm2.exceptions.QASM2ParseError: \"<input>:5,0: cannot use non-builtin custom instruction \\'ccx\\' before definition\"\\n'\n",
      "Failed to execute to_execute.py in Docker.\n",
      "Output: Saved the Pytket circuit to /workspace/to_execute_qc_pytket.qasm\n",
      "Saved the Qiskit circuit to /workspace/to_execute_qc_qiskit.qasm\n",
      "Exported QASM files: [('/workspace/to_execute_qc_pytket.qasm', 'export_to_qasm_with_pytket'), ('/workspace/to_execute_qc_qiskit.qasm', 'export_to_qasm_with_qiskit')]\n",
      "The circuits are equivalent: /workspace/to_execute_qc_pytket.qasm, /workspace/to_execute_qc_qiskit.qasm\n",
      "\n",
      "Program to_execute.py executed successfully.\n",
      "Error parsing: Command 'python /workspace/to_execute.py' in image 'qiskit_runner' returned non-zero exit status 1: b'Traceback (most recent call last):\\n  File \"/workspace/to_execute.py\", line 10, in <module>\\n    qc = qasm2.loads(\\n  File \"/usr/local/lib/python3.10/site-packages/qiskit/qasm2/__init__.py\", line 587, in loads\\n    return _parse.from_bytecode(\\n  File \"/usr/local/lib/python3.10/site-packages/qiskit/qasm2/parse.py\", line 214, in from_bytecode\\n    for op in bc:\\nqiskit.qasm2.exceptions.QASM2ParseError: \"<input>:5,4: \\'reg_2_a\\' is not defined in this scope\"\\n'\n",
      "Failed to execute to_execute.py in Docker.\n",
      "Error parsing: Command 'python /workspace/to_execute.py' in image 'qiskit_runner' returned non-zero exit status 1: b'Traceback (most recent call last):\\n  File \"/workspace/to_execute.py\", line 10, in <module>\\n    qc = qasm2.loads(\\n  File \"/usr/local/lib/python3.10/site-packages/qiskit/qasm2/__init__.py\", line 587, in loads\\n    return _parse.from_bytecode(\\n  File \"/usr/local/lib/python3.10/site-packages/qiskit/qasm2/parse.py\", line 214, in from_bytecode\\n    for op in bc:\\nqiskit.qasm2.exceptions.QASM2ParseError: \"<input>:5,15: \\'reg_2_b\\' is not defined in this scope\"\\n'\n",
      "Failed to execute to_execute.py in Docker.\n",
      "Output: Saved the Pytket circuit to /workspace/to_execute_qc_pytket.qasm\n",
      "Saved the Qiskit circuit to /workspace/to_execute_qc_qiskit.qasm\n",
      "Exported QASM files: [('/workspace/to_execute_qc_pytket.qasm', 'export_to_qasm_with_pytket'), ('/workspace/to_execute_qc_qiskit.qasm', 'export_to_qasm_with_qiskit')]\n",
      "The circuits are equivalent: /workspace/to_execute_qc_pytket.qasm, /workspace/to_execute_qc_qiskit.qasm\n",
      "\n",
      "Program to_execute.py executed successfully.\n",
      "Error parsing: Command 'python /workspace/to_execute.py' in image 'qiskit_runner' returned non-zero exit status 1: b'  File \"/workspace/to_execute.py\", line 11\\n    include \"qelib1.inc\";\\n            ^^^^^^^^^^^^\\nSyntaxError: invalid syntax\\n'\n",
      "Failed to execute to_execute.py in Docker.\n",
      "Error parsing: Command 'python /workspace/to_execute.py' in image 'qiskit_runner' returned non-zero exit status 1: b'  File \"/workspace/to_execute.py\", line 10\\n    qc = qasm2.loads(\\n                    ^\\nSyntaxError: \\'(\\' was never closed\\n'\n",
      "Failed to execute to_execute.py in Docker.\n"
     ]
    },
    {
     "data": {
      "text/html": [
       "<pre style=\"white-space:pre;overflow-x:auto;line-height:normal;font-family:Menlo,'DejaVu Sans Mono',consolas,'Courier New',monospace\"><span style=\"color: #7fbfbf; text-decoration-color: #7fbfbf\">[15:05:37] </span><span style=\"color: #008000; text-decoration-color: #008000\">Minimized file saved as:</span>                                                        <a href=\"file:///home/paltenmo/projects/crossplatform/analysis_and_reporting/ddmin_target_file.py\" target=\"_blank\"><span style=\"color: #7f7f7f; text-decoration-color: #7f7f7f\">ddmin_target_file.py</span></a><span style=\"color: #7f7f7f; text-decoration-color: #7f7f7f\">:</span><a href=\"file:///home/paltenmo/projects/crossplatform/analysis_and_reporting/ddmin_target_file.py#240\" target=\"_blank\"><span style=\"color: #7f7f7f; text-decoration-color: #7f7f7f\">240</span></a>\n",
       "<span style=\"color: #7fbfbf; text-decoration-color: #7fbfbf\">           </span>..<span style=\"color: #800080; text-decoration-color: #800080\">/reports/v009/2024_11_21__15_01/</span><span style=\"color: #ff00ff; text-decoration-color: #ff00ff\">qiskit_circuit_5q_10g_4756_28bbeb_444f6d_erro</span> <span style=\"color: #7f7f7f; text-decoration-color: #7f7f7f\">                        </span>\n",
       "<span style=\"color: #7fbfbf; text-decoration-color: #7fbfbf\">           </span><span style=\"color: #ff00ff; text-decoration-color: #ff00ff\">r_min.py</span>                                                                        <span style=\"color: #7f7f7f; text-decoration-color: #7f7f7f\">                        </span>\n",
       "</pre>\n"
      ],
      "text/plain": [
       "\u001b[2;36m[15:05:37]\u001b[0m\u001b[2;36m \u001b[0m\u001b[32mMinimized file saved as:\u001b[0m                                                        \u001b]8;id=374591;file:///home/paltenmo/projects/crossplatform/analysis_and_reporting/ddmin_target_file.py\u001b\\\u001b[2mddmin_target_file.py\u001b[0m\u001b]8;;\u001b\\\u001b[2m:\u001b[0m\u001b]8;id=992044;file:///home/paltenmo/projects/crossplatform/analysis_and_reporting/ddmin_target_file.py#240\u001b\\\u001b[2m240\u001b[0m\u001b]8;;\u001b\\\n",
       "\u001b[2;36m           \u001b[0m..\u001b[35m/reports/v009/2024_11_21__15_01/\u001b[0m\u001b[95mqiskit_circuit_5q_10g_4756_28bbeb_444f6d_erro\u001b[0m \u001b[2m                        \u001b[0m\n",
       "\u001b[2;36m           \u001b[0m\u001b[95mr_min.py\u001b[0m                                                                        \u001b[2m                        \u001b[0m\n"
      ]
     },
     "metadata": {},
     "output_type": "display_data"
    },
    {
     "name": "stdout",
     "output_type": "stream",
     "text": [
      "Output: Saved the Pytket circuit to /workspace/qiskit_circuit_5q_10g_4756_28bbeb_444f6d_error_min_qc_pytket.qasm\n",
      "Saved the Qiskit circuit to /workspace/qiskit_circuit_5q_10g_4756_28bbeb_444f6d_error_min_qc_qiskit.qasm\n",
      "Exported QASM files: [('/workspace/qiskit_circuit_5q_10g_4756_28bbeb_444f6d_error_min_qc_pytket.qasm', 'export_to_qasm_with_pytket'), ('/workspace/qiskit_circuit_5q_10g_4756_28bbeb_444f6d_error_min_qc_qiskit.qasm', 'export_to_qasm_with_qiskit')]\n",
      "Log has been saved to /workspace/qiskit_circuit_5q_10g_4756_28bbeb_444f6d_error_min_f825ac_error.json\n",
      "\n"
     ]
    },
    {
     "data": {
      "text/html": [
       "<pre style=\"white-space:pre;overflow-x:auto;line-height:normal;font-family:Menlo,'DejaVu Sans Mono',consolas,'Courier New',monospace\"><span style=\"color: #7fbfbf; text-decoration-color: #7fbfbf\">[15:05:44] </span>Program qiskit_circuit_5q_10g_4756_28bbeb_444f6d_error_min.py executed              <a href=\"file:///home/paltenmo/projects/crossplatform/generators/docker_tooling.py\" target=\"_blank\"><span style=\"color: #7f7f7f; text-decoration-color: #7f7f7f\">docker_tooling.py</span></a><span style=\"color: #7f7f7f; text-decoration-color: #7f7f7f\">:</span><a href=\"file:///home/paltenmo/projects/crossplatform/generators/docker_tooling.py#46\" target=\"_blank\"><span style=\"color: #7f7f7f; text-decoration-color: #7f7f7f\">46</span></a>\n",
       "<span style=\"color: #7fbfbf; text-decoration-color: #7fbfbf\">           </span>successfully.                                                                       <span style=\"color: #7f7f7f; text-decoration-color: #7f7f7f\">                    </span>\n",
       "</pre>\n"
      ],
      "text/plain": [
       "\u001b[2;36m[15:05:44]\u001b[0m\u001b[2;36m \u001b[0mProgram qiskit_circuit_5q_10g_4756_28bbeb_444f6d_error_min.py executed              \u001b]8;id=433034;file:///home/paltenmo/projects/crossplatform/generators/docker_tooling.py\u001b\\\u001b[2mdocker_tooling.py\u001b[0m\u001b]8;;\u001b\\\u001b[2m:\u001b[0m\u001b]8;id=249443;file:///home/paltenmo/projects/crossplatform/generators/docker_tooling.py#46\u001b\\\u001b[2m46\u001b[0m\u001b]8;;\u001b\\\n",
       "\u001b[2;36m           \u001b[0msuccessfully.                                                                       \u001b[2m                    \u001b[0m\n"
      ]
     },
     "metadata": {},
     "output_type": "display_data"
    },
    {
     "data": {
      "application/vnd.jupyter.widget-view+json": {
       "model_id": "592ddfe806364549ab47ffe951384b2c",
       "version_major": 2,
       "version_minor": 0
      },
      "text/plain": [
       "Executing:   0%|          | 0/13 [00:00<?, ?cell/s]"
      ]
     },
     "metadata": {},
     "output_type": "display_data"
    },
    {
     "data": {
      "text/html": [
       "<pre style=\"white-space:pre;overflow-x:auto;line-height:normal;font-family:Menlo,'DejaVu Sans Mono',consolas,'Courier New',monospace\"><span style=\"color: #7fbfbf; text-decoration-color: #7fbfbf\">[15:05:47] </span>Analysis notebook executed: ..<span style=\"color: #800080; text-decoration-color: #800080\">/reports/v009/2024_11_21__15_01/</span><span style=\"color: #ff00ff; text-decoration-color: #ff00ff\">analysis_output.ipynb</span>        <a href=\"file:///home/paltenmo/projects/crossplatform/analysis_and_reporting/triage.py\" target=\"_blank\"><span style=\"color: #7f7f7f; text-decoration-color: #7f7f7f\">triage.py</span></a><span style=\"color: #7f7f7f; text-decoration-color: #7f7f7f\">:</span><a href=\"file:///home/paltenmo/projects/crossplatform/analysis_and_reporting/triage.py#163\" target=\"_blank\"><span style=\"color: #7f7f7f; text-decoration-color: #7f7f7f\">163</span></a>\n",
       "</pre>\n"
      ],
      "text/plain": [
       "\u001b[2;36m[15:05:47]\u001b[0m\u001b[2;36m \u001b[0mAnalysis notebook executed: ..\u001b[35m/reports/v009/2024_11_21__15_01/\u001b[0m\u001b[95manalysis_output.ipynb\u001b[0m        \u001b]8;id=422346;file:///home/paltenmo/projects/crossplatform/analysis_and_reporting/triage.py\u001b\\\u001b[2mtriage.py\u001b[0m\u001b]8;;\u001b\\\u001b[2m:\u001b[0m\u001b]8;id=756250;file:///home/paltenmo/projects/crossplatform/analysis_and_reporting/triage.py#163\u001b\\\u001b[2m163\u001b[0m\u001b]8;;\u001b\\\n"
      ]
     },
     "metadata": {},
     "output_type": "display_data"
    },
    {
     "data": {
      "text/html": [
       "<pre style=\"white-space:pre;overflow-x:auto;line-height:normal;font-family:Menlo,'DejaVu Sans Mono',consolas,'Courier New',monospace\"><span style=\"color: #7fbfbf; text-decoration-color: #7fbfbf\">           </span>Created report folder: ..<span style=\"color: #800080; text-decoration-color: #800080\">/reports/v009/</span><span style=\"color: #ff00ff; text-decoration-color: #ff00ff\">2024_11_21__15_05</span>                                   <a href=\"file:///home/paltenmo/projects/crossplatform/analysis_and_reporting/triage.py\" target=\"_blank\"><span style=\"color: #7f7f7f; text-decoration-color: #7f7f7f\">triage.py</span></a><span style=\"color: #7f7f7f; text-decoration-color: #7f7f7f\">:</span><a href=\"file:///home/paltenmo/projects/crossplatform/analysis_and_reporting/triage.py#131\" target=\"_blank\"><span style=\"color: #7f7f7f; text-decoration-color: #7f7f7f\">131</span></a>\n",
       "</pre>\n"
      ],
      "text/plain": [
       "\u001b[2;36m          \u001b[0m\u001b[2;36m \u001b[0mCreated report folder: ..\u001b[35m/reports/v009/\u001b[0m\u001b[95m2024_11_21__15_05\u001b[0m                                   \u001b]8;id=665387;file:///home/paltenmo/projects/crossplatform/analysis_and_reporting/triage.py\u001b\\\u001b[2mtriage.py\u001b[0m\u001b]8;;\u001b\\\u001b[2m:\u001b[0m\u001b]8;id=876487;file:///home/paltenmo/projects/crossplatform/analysis_and_reporting/triage.py#131\u001b\\\u001b[2m131\u001b[0m\u001b]8;;\u001b\\\n"
      ]
     },
     "metadata": {},
     "output_type": "display_data"
    },
    {
     "data": {
      "text/html": [
       "<pre style=\"white-space:pre;overflow-x:auto;line-height:normal;font-family:Menlo,'DejaVu Sans Mono',consolas,'Courier New',monospace\"><span style=\"color: #7fbfbf; text-decoration-color: #7fbfbf\">           </span>Copied files to: ..<span style=\"color: #800080; text-decoration-color: #800080\">/reports/v009/</span><span style=\"color: #ff00ff; text-decoration-color: #ff00ff\">2024_11_21__15_05</span>                                         <a href=\"file:///home/paltenmo/projects/crossplatform/analysis_and_reporting/triage.py\" target=\"_blank\"><span style=\"color: #7f7f7f; text-decoration-color: #7f7f7f\">triage.py</span></a><span style=\"color: #7f7f7f; text-decoration-color: #7f7f7f\">:</span><a href=\"file:///home/paltenmo/projects/crossplatform/analysis_and_reporting/triage.py#140\" target=\"_blank\"><span style=\"color: #7f7f7f; text-decoration-color: #7f7f7f\">140</span></a>\n",
       "</pre>\n"
      ],
      "text/plain": [
       "\u001b[2;36m          \u001b[0m\u001b[2;36m \u001b[0mCopied files to: ..\u001b[35m/reports/v009/\u001b[0m\u001b[95m2024_11_21__15_05\u001b[0m                                         \u001b]8;id=646824;file:///home/paltenmo/projects/crossplatform/analysis_and_reporting/triage.py\u001b\\\u001b[2mtriage.py\u001b[0m\u001b]8;;\u001b\\\u001b[2m:\u001b[0m\u001b]8;id=991856;file:///home/paltenmo/projects/crossplatform/analysis_and_reporting/triage.py#140\u001b\\\u001b[2m140\u001b[0m\u001b]8;;\u001b\\\n"
      ]
     },
     "metadata": {},
     "output_type": "display_data"
    },
    {
     "data": {
      "text/html": [
       "<pre style=\"white-space:pre;overflow-x:auto;line-height:normal;font-family:Menlo,'DejaVu Sans Mono',consolas,'Courier New',monospace\"><span style=\"color: #7fbfbf; text-decoration-color: #7fbfbf\">[15:05:47] </span>Involved functions:                                                             <a href=\"file:///home/paltenmo/projects/crossplatform/analysis_and_reporting/ddmin_target_file.py\" target=\"_blank\"><span style=\"color: #7f7f7f; text-decoration-color: #7f7f7f\">ddmin_target_file.py</span></a><span style=\"color: #7f7f7f; text-decoration-color: #7f7f7f\">:</span><a href=\"file:///home/paltenmo/projects/crossplatform/analysis_and_reporting/ddmin_target_file.py#206\" target=\"_blank\"><span style=\"color: #7f7f7f; text-decoration-color: #7f7f7f\">206</span></a>\n",
       "</pre>\n"
      ],
      "text/plain": [
       "\u001b[2;36m[15:05:47]\u001b[0m\u001b[2;36m \u001b[0mInvolved functions:                                                             \u001b]8;id=436472;file:///home/paltenmo/projects/crossplatform/analysis_and_reporting/ddmin_target_file.py\u001b\\\u001b[2mddmin_target_file.py\u001b[0m\u001b]8;;\u001b\\\u001b[2m:\u001b[0m\u001b]8;id=693447;file:///home/paltenmo/projects/crossplatform/analysis_and_reporting/ddmin_target_file.py#206\u001b\\\u001b[2m206\u001b[0m\u001b]8;;\u001b\\\n"
      ]
     },
     "metadata": {},
     "output_type": "display_data"
    },
    {
     "data": {
      "text/html": [
       "<pre style=\"white-space:pre;overflow-x:auto;line-height:normal;font-family:Menlo,'DejaVu Sans Mono',consolas,'Courier New',monospace\"><span style=\"color: #7fbfbf; text-decoration-color: #7fbfbf\">           </span>  - compare_qasm_via_qcec                                                       <a href=\"file:///home/paltenmo/projects/crossplatform/analysis_and_reporting/ddmin_target_file.py\" target=\"_blank\"><span style=\"color: #7f7f7f; text-decoration-color: #7f7f7f\">ddmin_target_file.py</span></a><span style=\"color: #7f7f7f; text-decoration-color: #7f7f7f\">:</span><a href=\"file:///home/paltenmo/projects/crossplatform/analysis_and_reporting/ddmin_target_file.py#208\" target=\"_blank\"><span style=\"color: #7f7f7f; text-decoration-color: #7f7f7f\">208</span></a>\n",
       "</pre>\n"
      ],
      "text/plain": [
       "\u001b[2;36m          \u001b[0m\u001b[2;36m \u001b[0m  - compare_qasm_via_qcec                                                       \u001b]8;id=2387;file:///home/paltenmo/projects/crossplatform/analysis_and_reporting/ddmin_target_file.py\u001b\\\u001b[2mddmin_target_file.py\u001b[0m\u001b]8;;\u001b\\\u001b[2m:\u001b[0m\u001b]8;id=272413;file:///home/paltenmo/projects/crossplatform/analysis_and_reporting/ddmin_target_file.py#208\u001b\\\u001b[2m208\u001b[0m\u001b]8;;\u001b\\\n"
      ]
     },
     "metadata": {},
     "output_type": "display_data"
    },
    {
     "data": {
      "text/html": [
       "<pre style=\"white-space:pre;overflow-x:auto;line-height:normal;font-family:Menlo,'DejaVu Sans Mono',consolas,'Courier New',monospace\"><span style=\"color: #7fbfbf; text-decoration-color: #7fbfbf\">           </span>  - export_to_qasm_with_pytket                                                  <a href=\"file:///home/paltenmo/projects/crossplatform/analysis_and_reporting/ddmin_target_file.py\" target=\"_blank\"><span style=\"color: #7f7f7f; text-decoration-color: #7f7f7f\">ddmin_target_file.py</span></a><span style=\"color: #7f7f7f; text-decoration-color: #7f7f7f\">:</span><a href=\"file:///home/paltenmo/projects/crossplatform/analysis_and_reporting/ddmin_target_file.py#208\" target=\"_blank\"><span style=\"color: #7f7f7f; text-decoration-color: #7f7f7f\">208</span></a>\n",
       "</pre>\n"
      ],
      "text/plain": [
       "\u001b[2;36m          \u001b[0m\u001b[2;36m \u001b[0m  - export_to_qasm_with_pytket                                                  \u001b]8;id=543962;file:///home/paltenmo/projects/crossplatform/analysis_and_reporting/ddmin_target_file.py\u001b\\\u001b[2mddmin_target_file.py\u001b[0m\u001b]8;;\u001b\\\u001b[2m:\u001b[0m\u001b]8;id=975384;file:///home/paltenmo/projects/crossplatform/analysis_and_reporting/ddmin_target_file.py#208\u001b\\\u001b[2m208\u001b[0m\u001b]8;;\u001b\\\n"
      ]
     },
     "metadata": {},
     "output_type": "display_data"
    },
    {
     "data": {
      "text/html": [
       "<pre style=\"white-space:pre;overflow-x:auto;line-height:normal;font-family:Menlo,'DejaVu Sans Mono',consolas,'Courier New',monospace\"><span style=\"color: #7fbfbf; text-decoration-color: #7fbfbf\">           </span>  - export_to_qasm_with_qiskit                                                  <a href=\"file:///home/paltenmo/projects/crossplatform/analysis_and_reporting/ddmin_target_file.py\" target=\"_blank\"><span style=\"color: #7f7f7f; text-decoration-color: #7f7f7f\">ddmin_target_file.py</span></a><span style=\"color: #7f7f7f; text-decoration-color: #7f7f7f\">:</span><a href=\"file:///home/paltenmo/projects/crossplatform/analysis_and_reporting/ddmin_target_file.py#208\" target=\"_blank\"><span style=\"color: #7f7f7f; text-decoration-color: #7f7f7f\">208</span></a>\n",
       "</pre>\n"
      ],
      "text/plain": [
       "\u001b[2;36m          \u001b[0m\u001b[2;36m \u001b[0m  - export_to_qasm_with_qiskit                                                  \u001b]8;id=819219;file:///home/paltenmo/projects/crossplatform/analysis_and_reporting/ddmin_target_file.py\u001b\\\u001b[2mddmin_target_file.py\u001b[0m\u001b]8;;\u001b\\\u001b[2m:\u001b[0m\u001b]8;id=873876;file:///home/paltenmo/projects/crossplatform/analysis_and_reporting/ddmin_target_file.py#208\u001b\\\u001b[2m208\u001b[0m\u001b]8;;\u001b\\\n"
      ]
     },
     "metadata": {},
     "output_type": "display_data"
    },
    {
     "name": "stdout",
     "output_type": "stream",
     "text": [
      "Error parsing: Command 'python /workspace/to_execute.py' in image 'qiskit_runner' returned non-zero exit status 1: b'Traceback (most recent call last):\\n  File \"/workspace/to_execute.py\", line 105, in <module>\\n    target_qc = qc\\nNameError: name \\'qc\\' is not defined\\n'\n",
      "Failed to execute to_execute.py in Docker.\n",
      "Output: Saved the Pytket circuit to /workspace/to_execute_qc_pytket.qasm\n",
      "Saved the Qiskit circuit to /workspace/to_execute_qc_qiskit.qasm\n",
      "Exported QASM files: [('/workspace/to_execute_qc_pytket.qasm', 'export_to_qasm_with_pytket'), ('/workspace/to_execute_qc_qiskit.qasm', 'export_to_qasm_with_qiskit')]\n",
      "Log has been saved to /workspace/to_execute_e6b864_error.json\n",
      "\n",
      "Program to_execute.py executed successfully.\n",
      "New exception message: The circuits are not equivalent: /workspace/to_execute_qc_pytket.qasm, /workspace/to_execute_qc_qiskit.qasm\n",
      "Error parsing: Command 'python /workspace/to_execute.py' in image 'qiskit_runner' returned non-zero exit status 1: b'  File \"/workspace/to_execute.py\", line 18\\n    , custom_instructions=qasm2.LEGACY_CUSTOM_INSTRUCTIONS)\\n                                                          ^\\nSyntaxError: unmatched \\')\\'\\n'\n",
      "Failed to execute to_execute.py in Docker.\n",
      "Error parsing: Command 'python /workspace/to_execute.py' in image 'qiskit_runner' returned non-zero exit status 1: b'  File \"/workspace/to_execute.py\", line 10\\n    qc = qasm2.loads(\\n                    ^\\nSyntaxError: \\'(\\' was never closed\\n'\n",
      "Failed to execute to_execute.py in Docker.\n",
      "Error parsing: Command 'python /workspace/to_execute.py' in image 'qiskit_runner' returned non-zero exit status 1: b'  File \"/workspace/to_execute.py\", line 25\\n    , custom_instructions=qasm2.LEGACY_CUSTOM_INSTRUCTIONS)\\n                                                          ^\\nSyntaxError: unmatched \\')\\'\\n'\n",
      "Failed to execute to_execute.py in Docker.\n",
      "Error parsing: Command 'python /workspace/to_execute.py' in image 'qiskit_runner' returned non-zero exit status 1: b'Traceback (most recent call last):\\n  File \"/workspace/to_execute.py\", line 10, in <module>\\n    qc = qasm2.loads(\\n  File \"/usr/local/lib/python3.10/site-packages/qiskit/qasm2/__init__.py\", line 587, in loads\\n    return _parse.from_bytecode(\\n  File \"/usr/local/lib/python3.10/site-packages/qiskit/qasm2/parse.py\", line 214, in from_bytecode\\n    for op in bc:\\nqiskit.qasm2.exceptions.QASM2ParseError: \"<input>:10,3: \\'reg_2_a\\' is not defined in this scope\"\\n'\n",
      "Failed to execute to_execute.py in Docker.\n",
      "Output: Saved the Pytket circuit to /workspace/to_execute_qc_pytket.qasm\n",
      "Saved the Qiskit circuit to /workspace/to_execute_qc_qiskit.qasm\n",
      "Exported QASM files: [('/workspace/to_execute_qc_pytket.qasm', 'export_to_qasm_with_pytket'), ('/workspace/to_execute_qc_qiskit.qasm', 'export_to_qasm_with_qiskit')]\n",
      "Log has been saved to /workspace/to_execute_e04e92_error.json\n",
      "\n",
      "Program to_execute.py executed successfully.\n",
      "New exception message: The circuits are not equivalent: /workspace/to_execute_qc_pytket.qasm, /workspace/to_execute_qc_qiskit.qasm\n",
      "Error parsing: Command 'python /workspace/to_execute.py' in image 'qiskit_runner' returned non-zero exit status 1: b'  File \"/workspace/to_execute.py\", line 19\\n    , custom_instructions=qasm2.LEGACY_CUSTOM_INSTRUCTIONS)\\n                                                          ^\\nSyntaxError: unmatched \\')\\'\\n'\n",
      "Failed to execute to_execute.py in Docker.\n",
      "Error parsing: Command 'python /workspace/to_execute.py' in image 'qiskit_runner' returned non-zero exit status 1: b'Traceback (most recent call last):\\n  File \"/workspace/to_execute.py\", line 10, in <module>\\n    qc = qasm2.loads(\\n  File \"/usr/local/lib/python3.10/site-packages/qiskit/qasm2/__init__.py\", line 587, in loads\\n    return _parse.from_bytecode(\\n  File \"/usr/local/lib/python3.10/site-packages/qiskit/qasm2/parse.py\", line 214, in from_bytecode\\n    for op in bc:\\nqiskit.qasm2.exceptions.QASM2ParseError: \"<input>:4,3: \\'reg_2_a\\' is not defined in this scope\"\\n'\n",
      "Failed to execute to_execute.py in Docker.\n",
      "Error parsing: Command 'python /workspace/to_execute.py' in image 'qiskit_runner' returned non-zero exit status 1: b'  File \"/workspace/to_execute.py\", line 10\\n    qc = qasm2.loads(\\n                    ^\\nSyntaxError: \\'(\\' was never closed\\n'\n",
      "Failed to execute to_execute.py in Docker.\n",
      "Error parsing: Command 'python /workspace/to_execute.py' in image 'qiskit_runner' returned non-zero exit status 1: b'  File \"/workspace/to_execute.py\", line 21\\n    , custom_instructions=qasm2.LEGACY_CUSTOM_INSTRUCTIONS)\\n                                                          ^\\nSyntaxError: unmatched \\')\\'\\n'\n",
      "Failed to execute to_execute.py in Docker.\n",
      "Error parsing: Command 'python /workspace/to_execute.py' in image 'qiskit_runner' returned non-zero exit status 1: b'Traceback (most recent call last):\\n  File \"/workspace/to_execute.py\", line 10, in <module>\\n    qc = qasm2.loads(\\n  File \"/usr/local/lib/python3.10/site-packages/qiskit/qasm2/__init__.py\", line 587, in loads\\n    return _parse.from_bytecode(\\n  File \"/usr/local/lib/python3.10/site-packages/qiskit/qasm2/parse.py\", line 214, in from_bytecode\\n    for op in bc:\\nqiskit.qasm2.exceptions.QASM2ParseError: \"<input>:6,0: cannot use non-builtin custom instruction \\'z\\' before definition\"\\n'\n",
      "Failed to execute to_execute.py in Docker.\n",
      "Error parsing: Command 'python /workspace/to_execute.py' in image 'qiskit_runner' returned non-zero exit status 1: b'Traceback (most recent call last):\\n  File \"/workspace/to_execute.py\", line 10, in <module>\\n    qc = qasm2.loads(\\n  File \"/usr/local/lib/python3.10/site-packages/qiskit/qasm2/__init__.py\", line 587, in loads\\n    return _parse.from_bytecode(\\n  File \"/usr/local/lib/python3.10/site-packages/qiskit/qasm2/parse.py\", line 214, in from_bytecode\\n    for op in bc:\\nqiskit.qasm2.exceptions.QASM2ParseError: \"<input>:7,3: \\'reg_2_a\\' is not defined in this scope\"\\n'\n",
      "Failed to execute to_execute.py in Docker.\n",
      "Output: Saved the Pytket circuit to /workspace/to_execute_qc_pytket.qasm\n",
      "Saved the Qiskit circuit to /workspace/to_execute_qc_qiskit.qasm\n",
      "Exported QASM files: [('/workspace/to_execute_qc_pytket.qasm', 'export_to_qasm_with_pytket'), ('/workspace/to_execute_qc_qiskit.qasm', 'export_to_qasm_with_qiskit')]\n",
      "Log has been saved to /workspace/to_execute_8acb11_error.json\n",
      "\n",
      "Program to_execute.py executed successfully.\n",
      "New exception message: The circuits are not equivalent: /workspace/to_execute_qc_pytket.qasm, /workspace/to_execute_qc_qiskit.qasm\n",
      "Error parsing: Command 'python /workspace/to_execute.py' in image 'qiskit_runner' returned non-zero exit status 1: b'  File \"/workspace/to_execute.py\", line 19\\n    , custom_instructions=qasm2.LEGACY_CUSTOM_INSTRUCTIONS)\\n                                                          ^\\nSyntaxError: unmatched \\')\\'\\n'\n",
      "Failed to execute to_execute.py in Docker.\n",
      "Error parsing: Command 'python /workspace/to_execute.py' in image 'qiskit_runner' returned non-zero exit status 1: b'Traceback (most recent call last):\\n  File \"/workspace/to_execute.py\", line 10, in <module>\\n    qc = qasm2.loads(\\n  File \"/usr/local/lib/python3.10/site-packages/qiskit/qasm2/__init__.py\", line 587, in loads\\n    return _parse.from_bytecode(\\n  File \"/usr/local/lib/python3.10/site-packages/qiskit/qasm2/parse.py\", line 214, in from_bytecode\\n    for op in bc:\\nqiskit.qasm2.exceptions.QASM2ParseError: \"<input>:5,0: cannot use non-builtin custom instruction \\'cx\\' before definition\"\\n'\n",
      "Failed to execute to_execute.py in Docker.\n",
      "Error parsing: Command 'python /workspace/to_execute.py' in image 'qiskit_runner' returned non-zero exit status 1: b'Traceback (most recent call last):\\n  File \"/workspace/to_execute.py\", line 10, in <module>\\n    qc = qasm2.loads(\\n  File \"/usr/local/lib/python3.10/site-packages/qiskit/qasm2/__init__.py\", line 587, in loads\\n    return _parse.from_bytecode(\\n  File \"/usr/local/lib/python3.10/site-packages/qiskit/qasm2/parse.py\", line 214, in from_bytecode\\n    for op in bc:\\nqiskit.qasm2.exceptions.QASM2ParseError: \"<input>:5,3: \\'reg_2_a\\' is not defined in this scope\"\\n'\n",
      "Failed to execute to_execute.py in Docker.\n",
      "Output: Saved the Pytket circuit to /workspace/to_execute_qc_pytket.qasm\n",
      "Saved the Qiskit circuit to /workspace/to_execute_qc_qiskit.qasm\n",
      "Exported QASM files: [('/workspace/to_execute_qc_pytket.qasm', 'export_to_qasm_with_pytket'), ('/workspace/to_execute_qc_qiskit.qasm', 'export_to_qasm_with_qiskit')]\n",
      "The circuits are equivalent: /workspace/to_execute_qc_pytket.qasm, /workspace/to_execute_qc_qiskit.qasm\n",
      "\n",
      "Program to_execute.py executed successfully.\n",
      "Error parsing: Command 'python /workspace/to_execute.py' in image 'qiskit_runner' returned non-zero exit status 1: b'  File \"/workspace/to_execute.py\", line 10\\n    qc = qasm2.loads(\\n                    ^\\nSyntaxError: \\'(\\' was never closed\\n'\n",
      "Failed to execute to_execute.py in Docker.\n",
      "Error parsing: Command 'python /workspace/to_execute.py' in image 'qiskit_runner' returned non-zero exit status 1: b'  File \"/workspace/to_execute.py\", line 22\\n    , custom_instructions=qasm2.LEGACY_CUSTOM_INSTRUCTIONS)\\nIndentationError: unexpected indent\\n'\n",
      "Failed to execute to_execute.py in Docker.\n",
      "Output: Saved the Pytket circuit to /workspace/to_execute_qc_pytket.qasm\n",
      "Saved the Qiskit circuit to /workspace/to_execute_qc_qiskit.qasm\n",
      "Exported QASM files: [('/workspace/to_execute_qc_pytket.qasm', 'export_to_qasm_with_pytket'), ('/workspace/to_execute_qc_qiskit.qasm', 'export_to_qasm_with_qiskit')]\n",
      "Log has been saved to /workspace/to_execute_34d7f2_error.json\n",
      "\n",
      "Program to_execute.py executed successfully.\n",
      "New exception message: The circuits are not equivalent: /workspace/to_execute_qc_pytket.qasm, /workspace/to_execute_qc_qiskit.qasm\n",
      "Error parsing: Command 'python /workspace/to_execute.py' in image 'qiskit_runner' returned non-zero exit status 1: b'  File \"/workspace/to_execute.py\", line 21\\n    , custom_instructions=qasm2.LEGACY_CUSTOM_INSTRUCTIONS)\\nIndentationError: unexpected indent\\n'\n",
      "Failed to execute to_execute.py in Docker.\n",
      "Error parsing: Command 'python /workspace/to_execute.py' in image 'qiskit_runner' returned non-zero exit status 1: b'  File \"/workspace/to_execute.py\", line 11\\n    include \"qelib1.inc\";\\n            ^^^^^^^^^^^^\\nSyntaxError: invalid syntax\\n'\n",
      "Failed to execute to_execute.py in Docker.\n",
      "Error parsing: Command 'python /workspace/to_execute.py' in image 'qiskit_runner' returned non-zero exit status 1: b'Traceback (most recent call last):\\n  File \"/workspace/to_execute.py\", line 10, in <module>\\n    qc = qasm2.loads(\\n  File \"/usr/local/lib/python3.10/site-packages/qiskit/qasm2/__init__.py\", line 587, in loads\\n    return _parse.from_bytecode(\\n  File \"/usr/local/lib/python3.10/site-packages/qiskit/qasm2/parse.py\", line 214, in from_bytecode\\n    for op in bc:\\nqiskit.qasm2.exceptions.QASM2ParseError: \"<input>:7,0: cannot use non-builtin custom instruction \\'cx\\' before definition\"\\n'\n",
      "Failed to execute to_execute.py in Docker.\n",
      "Error parsing: Command 'python /workspace/to_execute.py' in image 'qiskit_runner' returned non-zero exit status 1: b'Traceback (most recent call last):\\n  File \"/workspace/to_execute.py\", line 10, in <module>\\n    qc = qasm2.loads(\\n  File \"/usr/local/lib/python3.10/site-packages/qiskit/qasm2/__init__.py\", line 587, in loads\\n    return _parse.from_bytecode(\\n  File \"/usr/local/lib/python3.10/site-packages/qiskit/qasm2/parse.py\", line 214, in from_bytecode\\n    for op in bc:\\nqiskit.qasm2.exceptions.QASM2ParseError: \"<input>:7,14: \\'reg_2_cin\\' is not defined in this scope\"\\n'\n",
      "Failed to execute to_execute.py in Docker.\n",
      "Error parsing: Command 'python /workspace/to_execute.py' in image 'qiskit_runner' returned non-zero exit status 1: b'Traceback (most recent call last):\\n  File \"/workspace/to_execute.py\", line 10, in <module>\\n    qc = qasm2.loads(\\n  File \"/usr/local/lib/python3.10/site-packages/qiskit/qasm2/__init__.py\", line 587, in loads\\n    return _parse.from_bytecode(\\n  File \"/usr/local/lib/python3.10/site-packages/qiskit/qasm2/parse.py\", line 214, in from_bytecode\\n    for op in bc:\\nqiskit.qasm2.exceptions.QASM2ParseError: \"<input>:7,3: \\'reg_2_a\\' is not defined in this scope\"\\n'\n",
      "Failed to execute to_execute.py in Docker.\n",
      "Error parsing: Command 'python /workspace/to_execute.py' in image 'qiskit_runner' returned non-zero exit status 1: b'Traceback (most recent call last):\\n  File \"/workspace/to_execute.py\", line 10, in <module>\\n    qc = qasm2.loads(\\n  File \"/usr/local/lib/python3.10/site-packages/qiskit/qasm2/__init__.py\", line 587, in loads\\n    return _parse.from_bytecode(\\n  File \"/usr/local/lib/python3.10/site-packages/qiskit/qasm2/parse.py\", line 214, in from_bytecode\\n    for op in bc:\\nqiskit.qasm2.exceptions.QASM2ParseError: \"<input>:8,17: \\'reg_2_b\\' is not defined in this scope\"\\n'\n",
      "Failed to execute to_execute.py in Docker.\n",
      "Output: Saved the Pytket circuit to /workspace/to_execute_qc_pytket.qasm\n",
      "Saved the Qiskit circuit to /workspace/to_execute_qc_qiskit.qasm\n",
      "Exported QASM files: [('/workspace/to_execute_qc_pytket.qasm', 'export_to_qasm_with_pytket'), ('/workspace/to_execute_qc_qiskit.qasm', 'export_to_qasm_with_qiskit')]\n",
      "Log has been saved to /workspace/to_execute_d74b7b_error.json\n",
      "\n",
      "Program to_execute.py executed successfully.\n",
      "New exception message: The circuits are not equivalent: /workspace/to_execute_qc_pytket.qasm, /workspace/to_execute_qc_qiskit.qasm\n",
      "Error parsing: Command 'python /workspace/to_execute.py' in image 'qiskit_runner' returned non-zero exit status 1: b'  File \"/workspace/to_execute.py\", line 18\\n    , custom_instructions=qasm2.LEGACY_CUSTOM_INSTRUCTIONS)\\n                                                          ^\\nSyntaxError: unmatched \\')\\'\\n'\n",
      "Failed to execute to_execute.py in Docker.\n",
      "Output: Saved the Pytket circuit to /workspace/to_execute_qc_pytket.qasm\n",
      "Saved the Qiskit circuit to /workspace/to_execute_qc_qiskit.qasm\n",
      "Exported QASM files: [('/workspace/to_execute_qc_pytket.qasm', 'export_to_qasm_with_pytket'), ('/workspace/to_execute_qc_qiskit.qasm', 'export_to_qasm_with_qiskit')]\n",
      "Log has been saved to /workspace/to_execute_e07288_error.json\n",
      "\n",
      "Program to_execute.py executed successfully.\n",
      "New exception message: The circuits are not equivalent: /workspace/to_execute_qc_pytket.qasm, /workspace/to_execute_qc_qiskit.qasm\n",
      "Error parsing: Command 'python /workspace/to_execute.py' in image 'qiskit_runner' returned non-zero exit status 1: b'  File \"/workspace/to_execute.py\", line 17\\n    , custom_instructions=qasm2.LEGACY_CUSTOM_INSTRUCTIONS)\\n                                                          ^\\nSyntaxError: unmatched \\')\\'\\n'\n",
      "Failed to execute to_execute.py in Docker.\n",
      "Error parsing: Command 'python /workspace/to_execute.py' in image 'qiskit_runner' returned non-zero exit status 1: b'Traceback (most recent call last):\\n  File \"/workspace/to_execute.py\", line 10, in <module>\\n    qc = qasm2.loads(\\n  File \"/usr/local/lib/python3.10/site-packages/qiskit/qasm2/__init__.py\", line 587, in loads\\n    return _parse.from_bytecode(\\n  File \"/usr/local/lib/python3.10/site-packages/qiskit/qasm2/parse.py\", line 214, in from_bytecode\\n    for op in bc:\\nqiskit.qasm2.exceptions.QASM2ParseError: \"<input>:5,0: cannot use non-builtin custom instruction \\'cx\\' before definition\"\\n'\n",
      "Failed to execute to_execute.py in Docker.\n",
      "Error parsing: Command 'python /workspace/to_execute.py' in image 'qiskit_runner' returned non-zero exit status 1: b'Traceback (most recent call last):\\n  File \"/workspace/to_execute.py\", line 10, in <module>\\n    qc = qasm2.loads(\\n  File \"/usr/local/lib/python3.10/site-packages/qiskit/qasm2/__init__.py\", line 587, in loads\\n    return _parse.from_bytecode(\\n  File \"/usr/local/lib/python3.10/site-packages/qiskit/qasm2/parse.py\", line 214, in from_bytecode\\n    for op in bc:\\nqiskit.qasm2.exceptions.QASM2ParseError: \"<input>:7,4: \\'reg_2_cin\\' is not defined in this scope\"\\n'\n",
      "Failed to execute to_execute.py in Docker.\n",
      "Error parsing: Command 'python /workspace/to_execute.py' in image 'qiskit_runner' returned non-zero exit status 1: b'Traceback (most recent call last):\\n  File \"/workspace/to_execute.py\", line 10, in <module>\\n    qc = qasm2.loads(\\n  File \"/usr/local/lib/python3.10/site-packages/qiskit/qasm2/__init__.py\", line 587, in loads\\n    return _parse.from_bytecode(\\n  File \"/usr/local/lib/python3.10/site-packages/qiskit/qasm2/parse.py\", line 214, in from_bytecode\\n    for op in bc:\\nqiskit.qasm2.exceptions.QASM2ParseError: \"<input>:5,3: \\'reg_2_a\\' is not defined in this scope\"\\n'\n",
      "Failed to execute to_execute.py in Docker.\n",
      "Output: Saved the Pytket circuit to /workspace/to_execute_qc_pytket.qasm\n",
      "Saved the Qiskit circuit to /workspace/to_execute_qc_qiskit.qasm\n",
      "Exported QASM files: [('/workspace/to_execute_qc_pytket.qasm', 'export_to_qasm_with_pytket'), ('/workspace/to_execute_qc_qiskit.qasm', 'export_to_qasm_with_qiskit')]\n",
      "Log has been saved to /workspace/to_execute_9535a6_error.json\n",
      "\n",
      "Program to_execute.py executed successfully.\n",
      "New exception message: The circuits are not equivalent: /workspace/to_execute_qc_pytket.qasm, /workspace/to_execute_qc_qiskit.qasm\n",
      "Error parsing: Command 'python /workspace/to_execute.py' in image 'qiskit_runner' returned non-zero exit status 1: b'  File \"/workspace/to_execute.py\", line 16\\n    , custom_instructions=qasm2.LEGACY_CUSTOM_INSTRUCTIONS)\\n                                                          ^\\nSyntaxError: unmatched \\')\\'\\n'\n",
      "Failed to execute to_execute.py in Docker.\n",
      "Error parsing: Command 'python /workspace/to_execute.py' in image 'qiskit_runner' returned non-zero exit status 1: b'Traceback (most recent call last):\\n  File \"/workspace/to_execute.py\", line 10, in <module>\\n    qc = qasm2.loads(\\n  File \"/usr/local/lib/python3.10/site-packages/qiskit/qasm2/__init__.py\", line 587, in loads\\n    return _parse.from_bytecode(\\n  File \"/usr/local/lib/python3.10/site-packages/qiskit/qasm2/parse.py\", line 214, in from_bytecode\\n    for op in bc:\\nqiskit.qasm2.exceptions.QASM2ParseError: \"<input>:5,0: cannot use non-builtin custom instruction \\'ccx\\' before definition\"\\n'\n",
      "Failed to execute to_execute.py in Docker.\n",
      "Error parsing: Command 'python /workspace/to_execute.py' in image 'qiskit_runner' returned non-zero exit status 1: b'Traceback (most recent call last):\\n  File \"/workspace/to_execute.py\", line 10, in <module>\\n    qc = qasm2.loads(\\n  File \"/usr/local/lib/python3.10/site-packages/qiskit/qasm2/__init__.py\", line 587, in loads\\n    return _parse.from_bytecode(\\n  File \"/usr/local/lib/python3.10/site-packages/qiskit/qasm2/parse.py\", line 214, in from_bytecode\\n    for op in bc:\\nqiskit.qasm2.exceptions.QASM2ParseError: \"<input>:5,4: \\'reg_2_cin\\' is not defined in this scope\"\\n'\n",
      "Failed to execute to_execute.py in Docker.\n",
      "Error parsing: Command 'python /workspace/to_execute.py' in image 'qiskit_runner' returned non-zero exit status 1: b'Traceback (most recent call last):\\n  File \"/workspace/to_execute.py\", line 10, in <module>\\n    qc = qasm2.loads(\\n  File \"/usr/local/lib/python3.10/site-packages/qiskit/qasm2/__init__.py\", line 587, in loads\\n    return _parse.from_bytecode(\\n  File \"/usr/local/lib/python3.10/site-packages/qiskit/qasm2/parse.py\", line 214, in from_bytecode\\n    for op in bc:\\nqiskit.qasm2.exceptions.QASM2ParseError: \"<input>:6,17: \\'reg_2_b\\' is not defined in this scope\"\\n'\n",
      "Failed to execute to_execute.py in Docker.\n",
      "Error parsing: Command 'python /workspace/to_execute.py' in image 'qiskit_runner' returned non-zero exit status 1: b'  File \"/workspace/to_execute.py\", line 11\\n    include \"qelib1.inc\";\\n            ^^^^^^^^^^^^\\nSyntaxError: invalid syntax\\n'\n",
      "Failed to execute to_execute.py in Docker.\n",
      "Error parsing: Command 'python /workspace/to_execute.py' in image 'qiskit_runner' returned non-zero exit status 1: b'  File \"/workspace/to_execute.py\", line 10\\n    qc = qasm2.loads(\\n                    ^\\nSyntaxError: \\'(\\' was never closed\\n'\n",
      "Failed to execute to_execute.py in Docker.\n",
      "Error parsing: Command 'python /workspace/to_execute.py' in image 'qiskit_runner' returned non-zero exit status 1: b'  File \"/workspace/to_execute.py\", line 18\\n    , custom_instructions=qasm2.LEGACY_CUSTOM_INSTRUCTIONS)\\nIndentationError: unexpected indent\\n'\n",
      "Failed to execute to_execute.py in Docker.\n",
      "Error parsing: Command 'python /workspace/to_execute.py' in image 'qiskit_runner' returned non-zero exit status 1: b'  File \"/workspace/to_execute.py\", line 11\\n    include \"qelib1.inc\";\\n            ^^^^^^^^^^^^\\nSyntaxError: invalid syntax\\n'\n",
      "Failed to execute to_execute.py in Docker.\n",
      "Error parsing: Command 'python /workspace/to_execute.py' in image 'qiskit_runner' returned non-zero exit status 1: b'Traceback (most recent call last):\\n  File \"/workspace/to_execute.py\", line 10, in <module>\\n    qc = qasm2.loads(\\n  File \"/usr/local/lib/python3.10/site-packages/qiskit/qasm2/__init__.py\", line 587, in loads\\n    return _parse.from_bytecode(\\n  File \"/usr/local/lib/python3.10/site-packages/qiskit/qasm2/parse.py\", line 214, in from_bytecode\\n    for op in bc:\\nqiskit.qasm2.exceptions.QASM2ParseError: \"<input>:6,0: cannot use non-builtin custom instruction \\'ccx\\' before definition\"\\n'\n",
      "Failed to execute to_execute.py in Docker.\n",
      "Output: Saved the Pytket circuit to /workspace/to_execute_qc_pytket.qasm\n",
      "Saved the Qiskit circuit to /workspace/to_execute_qc_qiskit.qasm\n",
      "Exported QASM files: [('/workspace/to_execute_qc_pytket.qasm', 'export_to_qasm_with_pytket'), ('/workspace/to_execute_qc_qiskit.qasm', 'export_to_qasm_with_qiskit')]\n",
      "Log has been saved to /workspace/to_execute_fc94bc_error.json\n",
      "\n",
      "Program to_execute.py executed successfully.\n",
      "New exception message: The circuits are not equivalent: /workspace/to_execute_qc_pytket.qasm, /workspace/to_execute_qc_qiskit.qasm\n",
      "Error parsing: Command 'python /workspace/to_execute.py' in image 'qiskit_runner' returned non-zero exit status 1: b'  File \"/workspace/to_execute.py\", line 17\\n    , custom_instructions=qasm2.LEGACY_CUSTOM_INSTRUCTIONS)\\nIndentationError: unexpected indent\\n'\n",
      "Failed to execute to_execute.py in Docker.\n",
      "Error parsing: Command 'python /workspace/to_execute.py' in image 'qiskit_runner' returned non-zero exit status 1: b'  File \"/workspace/to_execute.py\", line 11\\n    include \"qelib1.inc\";\\n            ^^^^^^^^^^^^\\nSyntaxError: invalid syntax\\n'\n",
      "Failed to execute to_execute.py in Docker.\n",
      "Error parsing: Command 'python /workspace/to_execute.py' in image 'qiskit_runner' returned non-zero exit status 1: b'Traceback (most recent call last):\\n  File \"/workspace/to_execute.py\", line 10, in <module>\\n    qc = qasm2.loads(\\n  File \"/usr/local/lib/python3.10/site-packages/qiskit/qasm2/__init__.py\", line 587, in loads\\n    return _parse.from_bytecode(\\n  File \"/usr/local/lib/python3.10/site-packages/qiskit/qasm2/parse.py\", line 214, in from_bytecode\\n    for op in bc:\\nqiskit.qasm2.exceptions.QASM2ParseError: \"<input>:5,0: cannot use non-builtin custom instruction \\'ccx\\' before definition\"\\n'\n",
      "Failed to execute to_execute.py in Docker.\n",
      "Error parsing: Command 'python /workspace/to_execute.py' in image 'qiskit_runner' returned non-zero exit status 1: b'Traceback (most recent call last):\\n  File \"/workspace/to_execute.py\", line 10, in <module>\\n    qc = qasm2.loads(\\n  File \"/usr/local/lib/python3.10/site-packages/qiskit/qasm2/__init__.py\", line 587, in loads\\n    return _parse.from_bytecode(\\n  File \"/usr/local/lib/python3.10/site-packages/qiskit/qasm2/parse.py\", line 214, in from_bytecode\\n    for op in bc:\\nqiskit.qasm2.exceptions.QASM2ParseError: \"<input>:5,4: \\'reg_2_cin\\' is not defined in this scope\"\\n'\n",
      "Failed to execute to_execute.py in Docker.\n",
      "Error parsing: Command 'python /workspace/to_execute.py' in image 'qiskit_runner' returned non-zero exit status 1: b'Traceback (most recent call last):\\n  File \"/workspace/to_execute.py\", line 10, in <module>\\n    qc = qasm2.loads(\\n  File \"/usr/local/lib/python3.10/site-packages/qiskit/qasm2/__init__.py\", line 587, in loads\\n    return _parse.from_bytecode(\\n  File \"/usr/local/lib/python3.10/site-packages/qiskit/qasm2/parse.py\", line 214, in from_bytecode\\n    for op in bc:\\nqiskit.qasm2.exceptions.QASM2ParseError: \"<input>:5,28: \\'reg_2_a\\' is not defined in this scope\"\\n'\n",
      "Failed to execute to_execute.py in Docker.\n",
      "Error parsing: Command 'python /workspace/to_execute.py' in image 'qiskit_runner' returned non-zero exit status 1: b'Traceback (most recent call last):\\n  File \"/workspace/to_execute.py\", line 10, in <module>\\n    qc = qasm2.loads(\\n  File \"/usr/local/lib/python3.10/site-packages/qiskit/qasm2/__init__.py\", line 587, in loads\\n    return _parse.from_bytecode(\\n  File \"/usr/local/lib/python3.10/site-packages/qiskit/qasm2/parse.py\", line 214, in from_bytecode\\n    for op in bc:\\nqiskit.qasm2.exceptions.QASM2ParseError: \"<input>:5,17: \\'reg_2_b\\' is not defined in this scope\"\\n'\n",
      "Failed to execute to_execute.py in Docker.\n",
      "Output: Saved the Pytket circuit to /workspace/to_execute_qc_pytket.qasm\n",
      "Saved the Qiskit circuit to /workspace/to_execute_qc_qiskit.qasm\n",
      "Exported QASM files: [('/workspace/to_execute_qc_pytket.qasm', 'export_to_qasm_with_pytket'), ('/workspace/to_execute_qc_qiskit.qasm', 'export_to_qasm_with_qiskit')]\n",
      "The circuits are equivalent: /workspace/to_execute_qc_pytket.qasm, /workspace/to_execute_qc_qiskit.qasm\n",
      "\n",
      "Program to_execute.py executed successfully.\n",
      "Error parsing: Command 'python /workspace/to_execute.py' in image 'qiskit_runner' returned non-zero exit status 1: b'  File \"/workspace/to_execute.py\", line 11\\n    include \"qelib1.inc\";\\n            ^^^^^^^^^^^^\\nSyntaxError: invalid syntax\\n'\n",
      "Failed to execute to_execute.py in Docker.\n",
      "Error parsing: Command 'python /workspace/to_execute.py' in image 'qiskit_runner' returned non-zero exit status 1: b'  File \"/workspace/to_execute.py\", line 10\\n    qc = qasm2.loads(\\n                    ^\\nSyntaxError: \\'(\\' was never closed\\n'\n",
      "Failed to execute to_execute.py in Docker.\n"
     ]
    },
    {
     "data": {
      "text/html": [
       "<pre style=\"white-space:pre;overflow-x:auto;line-height:normal;font-family:Menlo,'DejaVu Sans Mono',consolas,'Courier New',monospace\"><span style=\"color: #7fbfbf; text-decoration-color: #7fbfbf\">[15:09:16] </span><span style=\"color: #008000; text-decoration-color: #008000\">Minimized file saved as:</span>                                                        <a href=\"file:///home/paltenmo/projects/crossplatform/analysis_and_reporting/ddmin_target_file.py\" target=\"_blank\"><span style=\"color: #7f7f7f; text-decoration-color: #7f7f7f\">ddmin_target_file.py</span></a><span style=\"color: #7f7f7f; text-decoration-color: #7f7f7f\">:</span><a href=\"file:///home/paltenmo/projects/crossplatform/analysis_and_reporting/ddmin_target_file.py#240\" target=\"_blank\"><span style=\"color: #7f7f7f; text-decoration-color: #7f7f7f\">240</span></a>\n",
       "<span style=\"color: #7fbfbf; text-decoration-color: #7fbfbf\">           </span>..<span style=\"color: #800080; text-decoration-color: #800080\">/reports/v009/2024_11_21__15_05/</span><span style=\"color: #ff00ff; text-decoration-color: #ff00ff\">qiskit_circuit_5q_10g_144_2ca34b_7b044a_error</span> <span style=\"color: #7f7f7f; text-decoration-color: #7f7f7f\">                        </span>\n",
       "<span style=\"color: #7fbfbf; text-decoration-color: #7fbfbf\">           </span><span style=\"color: #ff00ff; text-decoration-color: #ff00ff\">_min.py</span>                                                                         <span style=\"color: #7f7f7f; text-decoration-color: #7f7f7f\">                        </span>\n",
       "</pre>\n"
      ],
      "text/plain": [
       "\u001b[2;36m[15:09:16]\u001b[0m\u001b[2;36m \u001b[0m\u001b[32mMinimized file saved as:\u001b[0m                                                        \u001b]8;id=39106;file:///home/paltenmo/projects/crossplatform/analysis_and_reporting/ddmin_target_file.py\u001b\\\u001b[2mddmin_target_file.py\u001b[0m\u001b]8;;\u001b\\\u001b[2m:\u001b[0m\u001b]8;id=760733;file:///home/paltenmo/projects/crossplatform/analysis_and_reporting/ddmin_target_file.py#240\u001b\\\u001b[2m240\u001b[0m\u001b]8;;\u001b\\\n",
       "\u001b[2;36m           \u001b[0m..\u001b[35m/reports/v009/2024_11_21__15_05/\u001b[0m\u001b[95mqiskit_circuit_5q_10g_144_2ca34b_7b044a_error\u001b[0m \u001b[2m                        \u001b[0m\n",
       "\u001b[2;36m           \u001b[0m\u001b[95m_min.py\u001b[0m                                                                         \u001b[2m                        \u001b[0m\n"
      ]
     },
     "metadata": {},
     "output_type": "display_data"
    },
    {
     "name": "stdout",
     "output_type": "stream",
     "text": [
      "Output: Saved the Pytket circuit to /workspace/qiskit_circuit_5q_10g_144_2ca34b_7b044a_error_min_qc_pytket.qasm\n",
      "Saved the Qiskit circuit to /workspace/qiskit_circuit_5q_10g_144_2ca34b_7b044a_error_min_qc_qiskit.qasm\n",
      "Exported QASM files: [('/workspace/qiskit_circuit_5q_10g_144_2ca34b_7b044a_error_min_qc_pytket.qasm', 'export_to_qasm_with_pytket'), ('/workspace/qiskit_circuit_5q_10g_144_2ca34b_7b044a_error_min_qc_qiskit.qasm', 'export_to_qasm_with_qiskit')]\n",
      "Log has been saved to /workspace/qiskit_circuit_5q_10g_144_2ca34b_7b044a_error_min_c118ed_error.json\n",
      "\n"
     ]
    },
    {
     "data": {
      "text/html": [
       "<pre style=\"white-space:pre;overflow-x:auto;line-height:normal;font-family:Menlo,'DejaVu Sans Mono',consolas,'Courier New',monospace\"><span style=\"color: #7fbfbf; text-decoration-color: #7fbfbf\">[15:09:23] </span>Program qiskit_circuit_5q_10g_144_2ca34b_7b044a_error_min.py executed successfully. <a href=\"file:///home/paltenmo/projects/crossplatform/generators/docker_tooling.py\" target=\"_blank\"><span style=\"color: #7f7f7f; text-decoration-color: #7f7f7f\">docker_tooling.py</span></a><span style=\"color: #7f7f7f; text-decoration-color: #7f7f7f\">:</span><a href=\"file:///home/paltenmo/projects/crossplatform/generators/docker_tooling.py#46\" target=\"_blank\"><span style=\"color: #7f7f7f; text-decoration-color: #7f7f7f\">46</span></a>\n",
       "</pre>\n"
      ],
      "text/plain": [
       "\u001b[2;36m[15:09:23]\u001b[0m\u001b[2;36m \u001b[0mProgram qiskit_circuit_5q_10g_144_2ca34b_7b044a_error_min.py executed successfully. \u001b]8;id=30161;file:///home/paltenmo/projects/crossplatform/generators/docker_tooling.py\u001b\\\u001b[2mdocker_tooling.py\u001b[0m\u001b]8;;\u001b\\\u001b[2m:\u001b[0m\u001b]8;id=40729;file:///home/paltenmo/projects/crossplatform/generators/docker_tooling.py#46\u001b\\\u001b[2m46\u001b[0m\u001b]8;;\u001b\\\n"
      ]
     },
     "metadata": {},
     "output_type": "display_data"
    },
    {
     "data": {
      "application/vnd.jupyter.widget-view+json": {
       "model_id": "ffe85ce658f34e7d890ef4e79b26fe81",
       "version_major": 2,
       "version_minor": 0
      },
      "text/plain": [
       "Executing:   0%|          | 0/13 [00:00<?, ?cell/s]"
      ]
     },
     "metadata": {},
     "output_type": "display_data"
    },
    {
     "data": {
      "text/html": [
       "<pre style=\"white-space:pre;overflow-x:auto;line-height:normal;font-family:Menlo,'DejaVu Sans Mono',consolas,'Courier New',monospace\"><span style=\"color: #7fbfbf; text-decoration-color: #7fbfbf\">[15:09:27] </span>Analysis notebook executed: ..<span style=\"color: #800080; text-decoration-color: #800080\">/reports/v009/2024_11_21__15_05/</span><span style=\"color: #ff00ff; text-decoration-color: #ff00ff\">analysis_output.ipynb</span>        <a href=\"file:///home/paltenmo/projects/crossplatform/analysis_and_reporting/triage.py\" target=\"_blank\"><span style=\"color: #7f7f7f; text-decoration-color: #7f7f7f\">triage.py</span></a><span style=\"color: #7f7f7f; text-decoration-color: #7f7f7f\">:</span><a href=\"file:///home/paltenmo/projects/crossplatform/analysis_and_reporting/triage.py#163\" target=\"_blank\"><span style=\"color: #7f7f7f; text-decoration-color: #7f7f7f\">163</span></a>\n",
       "</pre>\n"
      ],
      "text/plain": [
       "\u001b[2;36m[15:09:27]\u001b[0m\u001b[2;36m \u001b[0mAnalysis notebook executed: ..\u001b[35m/reports/v009/2024_11_21__15_05/\u001b[0m\u001b[95manalysis_output.ipynb\u001b[0m        \u001b]8;id=753026;file:///home/paltenmo/projects/crossplatform/analysis_and_reporting/triage.py\u001b\\\u001b[2mtriage.py\u001b[0m\u001b]8;;\u001b\\\u001b[2m:\u001b[0m\u001b]8;id=206102;file:///home/paltenmo/projects/crossplatform/analysis_and_reporting/triage.py#163\u001b\\\u001b[2m163\u001b[0m\u001b]8;;\u001b\\\n"
      ]
     },
     "metadata": {},
     "output_type": "display_data"
    },
    {
     "data": {
      "text/html": [
       "<pre style=\"white-space:pre;overflow-x:auto;line-height:normal;font-family:Menlo,'DejaVu Sans Mono',consolas,'Courier New',monospace\"><span style=\"color: #7fbfbf; text-decoration-color: #7fbfbf\">           </span>Created report folder: ..<span style=\"color: #800080; text-decoration-color: #800080\">/reports/v009/</span><span style=\"color: #ff00ff; text-decoration-color: #ff00ff\">2024_11_21__15_09</span>                                   <a href=\"file:///home/paltenmo/projects/crossplatform/analysis_and_reporting/triage.py\" target=\"_blank\"><span style=\"color: #7f7f7f; text-decoration-color: #7f7f7f\">triage.py</span></a><span style=\"color: #7f7f7f; text-decoration-color: #7f7f7f\">:</span><a href=\"file:///home/paltenmo/projects/crossplatform/analysis_and_reporting/triage.py#131\" target=\"_blank\"><span style=\"color: #7f7f7f; text-decoration-color: #7f7f7f\">131</span></a>\n",
       "</pre>\n"
      ],
      "text/plain": [
       "\u001b[2;36m          \u001b[0m\u001b[2;36m \u001b[0mCreated report folder: ..\u001b[35m/reports/v009/\u001b[0m\u001b[95m2024_11_21__15_09\u001b[0m                                   \u001b]8;id=293035;file:///home/paltenmo/projects/crossplatform/analysis_and_reporting/triage.py\u001b\\\u001b[2mtriage.py\u001b[0m\u001b]8;;\u001b\\\u001b[2m:\u001b[0m\u001b]8;id=946181;file:///home/paltenmo/projects/crossplatform/analysis_and_reporting/triage.py#131\u001b\\\u001b[2m131\u001b[0m\u001b]8;;\u001b\\\n"
      ]
     },
     "metadata": {},
     "output_type": "display_data"
    },
    {
     "data": {
      "text/html": [
       "<pre style=\"white-space:pre;overflow-x:auto;line-height:normal;font-family:Menlo,'DejaVu Sans Mono',consolas,'Courier New',monospace\"><span style=\"color: #7fbfbf; text-decoration-color: #7fbfbf\">           </span>Copied files to: ..<span style=\"color: #800080; text-decoration-color: #800080\">/reports/v009/</span><span style=\"color: #ff00ff; text-decoration-color: #ff00ff\">2024_11_21__15_09</span>                                         <a href=\"file:///home/paltenmo/projects/crossplatform/analysis_and_reporting/triage.py\" target=\"_blank\"><span style=\"color: #7f7f7f; text-decoration-color: #7f7f7f\">triage.py</span></a><span style=\"color: #7f7f7f; text-decoration-color: #7f7f7f\">:</span><a href=\"file:///home/paltenmo/projects/crossplatform/analysis_and_reporting/triage.py#140\" target=\"_blank\"><span style=\"color: #7f7f7f; text-decoration-color: #7f7f7f\">140</span></a>\n",
       "</pre>\n"
      ],
      "text/plain": [
       "\u001b[2;36m          \u001b[0m\u001b[2;36m \u001b[0mCopied files to: ..\u001b[35m/reports/v009/\u001b[0m\u001b[95m2024_11_21__15_09\u001b[0m                                         \u001b]8;id=868518;file:///home/paltenmo/projects/crossplatform/analysis_and_reporting/triage.py\u001b\\\u001b[2mtriage.py\u001b[0m\u001b]8;;\u001b\\\u001b[2m:\u001b[0m\u001b]8;id=330998;file:///home/paltenmo/projects/crossplatform/analysis_and_reporting/triage.py#140\u001b\\\u001b[2m140\u001b[0m\u001b]8;;\u001b\\\n"
      ]
     },
     "metadata": {},
     "output_type": "display_data"
    },
    {
     "data": {
      "text/html": [
       "<pre style=\"white-space:pre;overflow-x:auto;line-height:normal;font-family:Menlo,'DejaVu Sans Mono',consolas,'Courier New',monospace\"><span style=\"color: #7fbfbf; text-decoration-color: #7fbfbf\">[15:09:27] </span>Involved functions:                                                             <a href=\"file:///home/paltenmo/projects/crossplatform/analysis_and_reporting/ddmin_target_file.py\" target=\"_blank\"><span style=\"color: #7f7f7f; text-decoration-color: #7f7f7f\">ddmin_target_file.py</span></a><span style=\"color: #7f7f7f; text-decoration-color: #7f7f7f\">:</span><a href=\"file:///home/paltenmo/projects/crossplatform/analysis_and_reporting/ddmin_target_file.py#206\" target=\"_blank\"><span style=\"color: #7f7f7f; text-decoration-color: #7f7f7f\">206</span></a>\n",
       "</pre>\n"
      ],
      "text/plain": [
       "\u001b[2;36m[15:09:27]\u001b[0m\u001b[2;36m \u001b[0mInvolved functions:                                                             \u001b]8;id=923228;file:///home/paltenmo/projects/crossplatform/analysis_and_reporting/ddmin_target_file.py\u001b\\\u001b[2mddmin_target_file.py\u001b[0m\u001b]8;;\u001b\\\u001b[2m:\u001b[0m\u001b]8;id=342367;file:///home/paltenmo/projects/crossplatform/analysis_and_reporting/ddmin_target_file.py#206\u001b\\\u001b[2m206\u001b[0m\u001b]8;;\u001b\\\n"
      ]
     },
     "metadata": {},
     "output_type": "display_data"
    },
    {
     "data": {
      "text/html": [
       "<pre style=\"white-space:pre;overflow-x:auto;line-height:normal;font-family:Menlo,'DejaVu Sans Mono',consolas,'Courier New',monospace\"><span style=\"color: #7fbfbf; text-decoration-color: #7fbfbf\">           </span>  - compare_qasm_via_qcec                                                       <a href=\"file:///home/paltenmo/projects/crossplatform/analysis_and_reporting/ddmin_target_file.py\" target=\"_blank\"><span style=\"color: #7f7f7f; text-decoration-color: #7f7f7f\">ddmin_target_file.py</span></a><span style=\"color: #7f7f7f; text-decoration-color: #7f7f7f\">:</span><a href=\"file:///home/paltenmo/projects/crossplatform/analysis_and_reporting/ddmin_target_file.py#208\" target=\"_blank\"><span style=\"color: #7f7f7f; text-decoration-color: #7f7f7f\">208</span></a>\n",
       "</pre>\n"
      ],
      "text/plain": [
       "\u001b[2;36m          \u001b[0m\u001b[2;36m \u001b[0m  - compare_qasm_via_qcec                                                       \u001b]8;id=345369;file:///home/paltenmo/projects/crossplatform/analysis_and_reporting/ddmin_target_file.py\u001b\\\u001b[2mddmin_target_file.py\u001b[0m\u001b]8;;\u001b\\\u001b[2m:\u001b[0m\u001b]8;id=639561;file:///home/paltenmo/projects/crossplatform/analysis_and_reporting/ddmin_target_file.py#208\u001b\\\u001b[2m208\u001b[0m\u001b]8;;\u001b\\\n"
      ]
     },
     "metadata": {},
     "output_type": "display_data"
    },
    {
     "data": {
      "text/html": [
       "<pre style=\"white-space:pre;overflow-x:auto;line-height:normal;font-family:Menlo,'DejaVu Sans Mono',consolas,'Courier New',monospace\"><span style=\"color: #7fbfbf; text-decoration-color: #7fbfbf\">           </span>  - export_to_qasm_with_pytket                                                  <a href=\"file:///home/paltenmo/projects/crossplatform/analysis_and_reporting/ddmin_target_file.py\" target=\"_blank\"><span style=\"color: #7f7f7f; text-decoration-color: #7f7f7f\">ddmin_target_file.py</span></a><span style=\"color: #7f7f7f; text-decoration-color: #7f7f7f\">:</span><a href=\"file:///home/paltenmo/projects/crossplatform/analysis_and_reporting/ddmin_target_file.py#208\" target=\"_blank\"><span style=\"color: #7f7f7f; text-decoration-color: #7f7f7f\">208</span></a>\n",
       "</pre>\n"
      ],
      "text/plain": [
       "\u001b[2;36m          \u001b[0m\u001b[2;36m \u001b[0m  - export_to_qasm_with_pytket                                                  \u001b]8;id=697834;file:///home/paltenmo/projects/crossplatform/analysis_and_reporting/ddmin_target_file.py\u001b\\\u001b[2mddmin_target_file.py\u001b[0m\u001b]8;;\u001b\\\u001b[2m:\u001b[0m\u001b]8;id=911757;file:///home/paltenmo/projects/crossplatform/analysis_and_reporting/ddmin_target_file.py#208\u001b\\\u001b[2m208\u001b[0m\u001b]8;;\u001b\\\n"
      ]
     },
     "metadata": {},
     "output_type": "display_data"
    },
    {
     "data": {
      "text/html": [
       "<pre style=\"white-space:pre;overflow-x:auto;line-height:normal;font-family:Menlo,'DejaVu Sans Mono',consolas,'Courier New',monospace\"><span style=\"color: #7fbfbf; text-decoration-color: #7fbfbf\">           </span>  - export_to_qasm_with_qiskit                                                  <a href=\"file:///home/paltenmo/projects/crossplatform/analysis_and_reporting/ddmin_target_file.py\" target=\"_blank\"><span style=\"color: #7f7f7f; text-decoration-color: #7f7f7f\">ddmin_target_file.py</span></a><span style=\"color: #7f7f7f; text-decoration-color: #7f7f7f\">:</span><a href=\"file:///home/paltenmo/projects/crossplatform/analysis_and_reporting/ddmin_target_file.py#208\" target=\"_blank\"><span style=\"color: #7f7f7f; text-decoration-color: #7f7f7f\">208</span></a>\n",
       "</pre>\n"
      ],
      "text/plain": [
       "\u001b[2;36m          \u001b[0m\u001b[2;36m \u001b[0m  - export_to_qasm_with_qiskit                                                  \u001b]8;id=560456;file:///home/paltenmo/projects/crossplatform/analysis_and_reporting/ddmin_target_file.py\u001b\\\u001b[2mddmin_target_file.py\u001b[0m\u001b]8;;\u001b\\\u001b[2m:\u001b[0m\u001b]8;id=365804;file:///home/paltenmo/projects/crossplatform/analysis_and_reporting/ddmin_target_file.py#208\u001b\\\u001b[2m208\u001b[0m\u001b]8;;\u001b\\\n"
      ]
     },
     "metadata": {},
     "output_type": "display_data"
    },
    {
     "name": "stdout",
     "output_type": "stream",
     "text": [
      "Error parsing: Command 'python /workspace/to_execute.py' in image 'qiskit_runner' returned non-zero exit status 1: b'Traceback (most recent call last):\\n  File \"/workspace/to_execute.py\", line 105, in <module>\\n    target_qc = qc\\nNameError: name \\'qc\\' is not defined\\n'\n",
      "Failed to execute to_execute.py in Docker.\n",
      "Output: Saved the Pytket circuit to /workspace/to_execute_qc_pytket.qasm\n",
      "Saved the Qiskit circuit to /workspace/to_execute_qc_qiskit.qasm\n",
      "Exported QASM files: [('/workspace/to_execute_qc_pytket.qasm', 'export_to_qasm_with_pytket'), ('/workspace/to_execute_qc_qiskit.qasm', 'export_to_qasm_with_qiskit')]\n",
      "Log has been saved to /workspace/to_execute_8f8f09_error.json\n",
      "\n",
      "Program to_execute.py executed successfully.\n",
      "New exception message: The circuits are not equivalent: /workspace/to_execute_qc_pytket.qasm, /workspace/to_execute_qc_qiskit.qasm\n",
      "Error parsing: Command 'python /workspace/to_execute.py' in image 'qiskit_runner' returned non-zero exit status 1: b'  File \"/workspace/to_execute.py\", line 19\\n    , custom_instructions=qasm2.LEGACY_CUSTOM_INSTRUCTIONS)\\n                                                          ^\\nSyntaxError: unmatched \\')\\'\\n'\n",
      "Failed to execute to_execute.py in Docker.\n",
      "Error parsing: Command 'python /workspace/to_execute.py' in image 'qiskit_runner' returned non-zero exit status 1: b'  File \"/workspace/to_execute.py\", line 10\\n    qc = qasm2.loads(\\n                    ^\\nSyntaxError: \\'(\\' was never closed\\n'\n",
      "Failed to execute to_execute.py in Docker.\n",
      "Error parsing: Command 'python /workspace/to_execute.py' in image 'qiskit_runner' returned non-zero exit status 1: b'  File \"/workspace/to_execute.py\", line 25\\n    , custom_instructions=qasm2.LEGACY_CUSTOM_INSTRUCTIONS)\\n                                                          ^\\nSyntaxError: unmatched \\')\\'\\n'\n",
      "Failed to execute to_execute.py in Docker.\n",
      "Error parsing: Command 'python /workspace/to_execute.py' in image 'qiskit_runner' returned non-zero exit status 1: b'Traceback (most recent call last):\\n  File \"/workspace/to_execute.py\", line 10, in <module>\\n    qc = qasm2.loads(\\n  File \"/usr/local/lib/python3.10/site-packages/qiskit/qasm2/__init__.py\", line 587, in loads\\n    return _parse.from_bytecode(\\n  File \"/usr/local/lib/python3.10/site-packages/qiskit/qasm2/parse.py\", line 214, in from_bytecode\\n    for op in bc:\\nqiskit.qasm2.exceptions.QASM2ParseError: \"<input>:5,3: \\'reg_1_a\\' is not defined in this scope\"\\n'\n",
      "Failed to execute to_execute.py in Docker.\n",
      "Output: Saved the Pytket circuit to /workspace/to_execute_qc_pytket.qasm\n",
      "Saved the Qiskit circuit to /workspace/to_execute_qc_qiskit.qasm\n",
      "Exported QASM files: [('/workspace/to_execute_qc_pytket.qasm', 'export_to_qasm_with_pytket'), ('/workspace/to_execute_qc_qiskit.qasm', 'export_to_qasm_with_qiskit')]\n",
      "Log has been saved to /workspace/to_execute_466409_error.json\n",
      "\n",
      "Program to_execute.py executed successfully.\n",
      "New exception message: The circuits are not equivalent: /workspace/to_execute_qc_pytket.qasm, /workspace/to_execute_qc_qiskit.qasm\n",
      "Error parsing: Command 'python /workspace/to_execute.py' in image 'qiskit_runner' returned non-zero exit status 1: b'  File \"/workspace/to_execute.py\", line 18\\n    , custom_instructions=qasm2.LEGACY_CUSTOM_INSTRUCTIONS)\\n                                                          ^\\nSyntaxError: unmatched \\')\\'\\n'\n",
      "Failed to execute to_execute.py in Docker.\n",
      "Error parsing: Command 'python /workspace/to_execute.py' in image 'qiskit_runner' returned non-zero exit status 1: b'Traceback (most recent call last):\\n  File \"/workspace/to_execute.py\", line 10, in <module>\\n    qc = qasm2.loads(\\n  File \"/usr/local/lib/python3.10/site-packages/qiskit/qasm2/__init__.py\", line 587, in loads\\n    return _parse.from_bytecode(\\n  File \"/usr/local/lib/python3.10/site-packages/qiskit/qasm2/parse.py\", line 214, in from_bytecode\\n    for op in bc:\\nqiskit.qasm2.exceptions.QASM2ParseError: \"<input>:5,3: \\'reg_1_a\\' is not defined in this scope\"\\n'\n",
      "Failed to execute to_execute.py in Docker.\n",
      "Error parsing: Command 'python /workspace/to_execute.py' in image 'qiskit_runner' returned non-zero exit status 1: b'  File \"/workspace/to_execute.py\", line 10\\n    qc = qasm2.loads(\\n                    ^\\nSyntaxError: \\'(\\' was never closed\\n'\n",
      "Failed to execute to_execute.py in Docker.\n",
      "Error parsing: Command 'python /workspace/to_execute.py' in image 'qiskit_runner' returned non-zero exit status 1: b'  File \"/workspace/to_execute.py\", line 20\\n    , custom_instructions=qasm2.LEGACY_CUSTOM_INSTRUCTIONS)\\n                                                          ^\\nSyntaxError: unmatched \\')\\'\\n'\n",
      "Failed to execute to_execute.py in Docker.\n",
      "Error parsing: Command 'python /workspace/to_execute.py' in image 'qiskit_runner' returned non-zero exit status 1: b'Traceback (most recent call last):\\n  File \"/workspace/to_execute.py\", line 10, in <module>\\n    qc = qasm2.loads(\\n  File \"/usr/local/lib/python3.10/site-packages/qiskit/qasm2/__init__.py\", line 587, in loads\\n    return _parse.from_bytecode(\\n  File \"/usr/local/lib/python3.10/site-packages/qiskit/qasm2/parse.py\", line 214, in from_bytecode\\n    for op in bc:\\nqiskit.qasm2.exceptions.QASM2ParseError: \"<input>:8,0: cannot use non-builtin custom instruction \\'cx\\' before definition\"\\n'\n",
      "Failed to execute to_execute.py in Docker.\n",
      "Output: Saved the Pytket circuit to /workspace/to_execute_qc_pytket.qasm\n",
      "Saved the Qiskit circuit to /workspace/to_execute_qc_qiskit.qasm\n",
      "Exported QASM files: [('/workspace/to_execute_qc_pytket.qasm', 'export_to_qasm_with_pytket'), ('/workspace/to_execute_qc_qiskit.qasm', 'export_to_qasm_with_qiskit')]\n",
      "Log has been saved to /workspace/to_execute_ffbac9_error.json\n",
      "\n",
      "Program to_execute.py executed successfully.\n",
      "New exception message: The circuits are not equivalent: /workspace/to_execute_qc_pytket.qasm, /workspace/to_execute_qc_qiskit.qasm\n",
      "Error parsing: Command 'python /workspace/to_execute.py' in image 'qiskit_runner' returned non-zero exit status 1: b'  File \"/workspace/to_execute.py\", line 19\\n    , custom_instructions=qasm2.LEGACY_CUSTOM_INSTRUCTIONS)\\nIndentationError: unexpected indent\\n'\n",
      "Failed to execute to_execute.py in Docker.\n",
      "Error parsing: Command 'python /workspace/to_execute.py' in image 'qiskit_runner' returned non-zero exit status 1: b'  File \"/workspace/to_execute.py\", line 12\\n    qreg reg_1_b[2];\\n    ^^^^^^^^^^^^^^^\\nSyntaxError: invalid syntax. Perhaps you forgot a comma?\\n'\n",
      "Failed to execute to_execute.py in Docker.\n",
      "Error parsing: Command 'python /workspace/to_execute.py' in image 'qiskit_runner' returned non-zero exit status 1: b'Traceback (most recent call last):\\n  File \"/workspace/to_execute.py\", line 10, in <module>\\n    qc = qasm2.loads(\\n  File \"/usr/local/lib/python3.10/site-packages/qiskit/qasm2/__init__.py\", line 587, in loads\\n    return _parse.from_bytecode(\\n  File \"/usr/local/lib/python3.10/site-packages/qiskit/qasm2/parse.py\", line 214, in from_bytecode\\n    for op in bc:\\nqiskit.qasm2.exceptions.QASM2ParseError: \"<input>:5,3: \\'reg_1_a\\' is not defined in this scope\"\\n'\n",
      "Failed to execute to_execute.py in Docker.\n",
      "Output: Saved the Pytket circuit to /workspace/to_execute_qc_pytket.qasm\n",
      "Saved the Qiskit circuit to /workspace/to_execute_qc_qiskit.qasm\n",
      "Exported QASM files: [('/workspace/to_execute_qc_pytket.qasm', 'export_to_qasm_with_pytket'), ('/workspace/to_execute_qc_qiskit.qasm', 'export_to_qasm_with_qiskit')]\n",
      "The circuits are equivalent: /workspace/to_execute_qc_pytket.qasm, /workspace/to_execute_qc_qiskit.qasm\n",
      "\n",
      "Program to_execute.py executed successfully.\n",
      "Error parsing: Command 'python /workspace/to_execute.py' in image 'qiskit_runner' returned non-zero exit status 1: b'  File \"/workspace/to_execute.py\", line 10\\n    qc = qasm2.loads(\\n                    ^\\nSyntaxError: \\'(\\' was never closed\\n'\n",
      "Failed to execute to_execute.py in Docker.\n",
      "Error parsing: Command 'python /workspace/to_execute.py' in image 'qiskit_runner' returned non-zero exit status 1: b'  File \"/workspace/to_execute.py\", line 20\\n    , custom_instructions=qasm2.LEGACY_CUSTOM_INSTRUCTIONS)\\nIndentationError: unexpected indent\\n'\n",
      "Failed to execute to_execute.py in Docker.\n",
      "Output: Saved the Pytket circuit to /workspace/to_execute_qc_pytket.qasm\n",
      "Saved the Qiskit circuit to /workspace/to_execute_qc_qiskit.qasm\n",
      "Exported QASM files: [('/workspace/to_execute_qc_pytket.qasm', 'export_to_qasm_with_pytket'), ('/workspace/to_execute_qc_qiskit.qasm', 'export_to_qasm_with_qiskit')]\n",
      "Log has been saved to /workspace/to_execute_f55e1e_error.json\n",
      "\n",
      "Program to_execute.py executed successfully.\n",
      "New exception message: The circuits are not equivalent: /workspace/to_execute_qc_pytket.qasm, /workspace/to_execute_qc_qiskit.qasm\n",
      "Error parsing: Command 'python /workspace/to_execute.py' in image 'qiskit_runner' returned non-zero exit status 1: b'  File \"/workspace/to_execute.py\", line 19\\n    , custom_instructions=qasm2.LEGACY_CUSTOM_INSTRUCTIONS)\\nIndentationError: unexpected indent\\n'\n",
      "Failed to execute to_execute.py in Docker.\n",
      "Error parsing: Command 'python /workspace/to_execute.py' in image 'qiskit_runner' returned non-zero exit status 1: b'  File \"/workspace/to_execute.py\", line 11\\n    OPENQASM 2.0;\\n    ^^^^^^^^^^^^\\nSyntaxError: invalid syntax. Perhaps you forgot a comma?\\n'\n",
      "Failed to execute to_execute.py in Docker.\n",
      "Output: Saved the Pytket circuit to /workspace/to_execute_qc_pytket.qasm\n",
      "Saved the Qiskit circuit to /workspace/to_execute_qc_qiskit.qasm\n",
      "Exported QASM files: [('/workspace/to_execute_qc_pytket.qasm', 'export_to_qasm_with_pytket'), ('/workspace/to_execute_qc_qiskit.qasm', 'export_to_qasm_with_qiskit')]\n",
      "Log has been saved to /workspace/to_execute_9c3eb0_error.json\n",
      "\n",
      "Program to_execute.py executed successfully.\n",
      "New exception message: The circuits are not equivalent: /workspace/to_execute_qc_pytket.qasm, /workspace/to_execute_qc_qiskit.qasm\n",
      "Error parsing: Command 'python /workspace/to_execute.py' in image 'qiskit_runner' returned non-zero exit status 1: b'  File \"/workspace/to_execute.py\", line 18\\n    , custom_instructions=qasm2.LEGACY_CUSTOM_INSTRUCTIONS)\\nIndentationError: unexpected indent\\n'\n",
      "Failed to execute to_execute.py in Docker.\n",
      "Error parsing: Command 'python /workspace/to_execute.py' in image 'qiskit_runner' returned non-zero exit status 1: b'  File \"/workspace/to_execute.py\", line 11\\n    include \"qelib1.inc\";\\n            ^^^^^^^^^^^^\\nSyntaxError: invalid syntax\\n'\n",
      "Failed to execute to_execute.py in Docker.\n",
      "Error parsing: Command 'python /workspace/to_execute.py' in image 'qiskit_runner' returned non-zero exit status 1: b'Traceback (most recent call last):\\n  File \"/workspace/to_execute.py\", line 10, in <module>\\n    qc = qasm2.loads(\\n  File \"/usr/local/lib/python3.10/site-packages/qiskit/qasm2/__init__.py\", line 587, in loads\\n    return _parse.from_bytecode(\\n  File \"/usr/local/lib/python3.10/site-packages/qiskit/qasm2/parse.py\", line 214, in from_bytecode\\n    for op in bc:\\nqiskit.qasm2.exceptions.QASM2ParseError: \"<input>:5,0: cannot use non-builtin custom instruction \\'cx\\' before definition\"\\n'\n",
      "Failed to execute to_execute.py in Docker.\n",
      "Error parsing: Command 'python /workspace/to_execute.py' in image 'qiskit_runner' returned non-zero exit status 1: b'Traceback (most recent call last):\\n  File \"/workspace/to_execute.py\", line 10, in <module>\\n    qc = qasm2.loads(\\n  File \"/usr/local/lib/python3.10/site-packages/qiskit/qasm2/__init__.py\", line 587, in loads\\n    return _parse.from_bytecode(\\n  File \"/usr/local/lib/python3.10/site-packages/qiskit/qasm2/parse.py\", line 214, in from_bytecode\\n    for op in bc:\\nqiskit.qasm2.exceptions.QASM2ParseError: \"<input>:5,14: \\'reg_1_b\\' is not defined in this scope\"\\n'\n",
      "Failed to execute to_execute.py in Docker.\n",
      "Error parsing: Command 'python /workspace/to_execute.py' in image 'qiskit_runner' returned non-zero exit status 1: b'Traceback (most recent call last):\\n  File \"/workspace/to_execute.py\", line 10, in <module>\\n    qc = qasm2.loads(\\n  File \"/usr/local/lib/python3.10/site-packages/qiskit/qasm2/__init__.py\", line 587, in loads\\n    return _parse.from_bytecode(\\n  File \"/usr/local/lib/python3.10/site-packages/qiskit/qasm2/parse.py\", line 214, in from_bytecode\\n    for op in bc:\\nqiskit.qasm2.exceptions.QASM2ParseError: \"<input>:4,3: \\'reg_1_a\\' is not defined in this scope\"\\n'\n",
      "Failed to execute to_execute.py in Docker.\n",
      "Output: Saved the Pytket circuit to /workspace/to_execute_qc_pytket.qasm\n",
      "Saved the Qiskit circuit to /workspace/to_execute_qc_qiskit.qasm\n",
      "Exported QASM files: [('/workspace/to_execute_qc_pytket.qasm', 'export_to_qasm_with_pytket'), ('/workspace/to_execute_qc_qiskit.qasm', 'export_to_qasm_with_qiskit')]\n",
      "Log has been saved to /workspace/to_execute_e07780_error.json\n",
      "\n",
      "Program to_execute.py executed successfully.\n",
      "New exception message: The circuits are not equivalent: /workspace/to_execute_qc_pytket.qasm, /workspace/to_execute_qc_qiskit.qasm\n",
      "Error parsing: Command 'python /workspace/to_execute.py' in image 'qiskit_runner' returned non-zero exit status 1: b'  File \"/workspace/to_execute.py\", line 17\\n    , custom_instructions=qasm2.LEGACY_CUSTOM_INSTRUCTIONS)\\nIndentationError: unexpected indent\\n'\n",
      "Failed to execute to_execute.py in Docker.\n",
      "Error parsing: Command 'python /workspace/to_execute.py' in image 'qiskit_runner' returned non-zero exit status 1: b'  File \"/workspace/to_execute.py\", line 11\\n    include \"qelib1.inc\";\\n            ^^^^^^^^^^^^\\nSyntaxError: invalid syntax\\n'\n",
      "Failed to execute to_execute.py in Docker.\n",
      "Error parsing: Command 'python /workspace/to_execute.py' in image 'qiskit_runner' returned non-zero exit status 1: b'Traceback (most recent call last):\\n  File \"/workspace/to_execute.py\", line 10, in <module>\\n    qc = qasm2.loads(\\n  File \"/usr/local/lib/python3.10/site-packages/qiskit/qasm2/__init__.py\", line 587, in loads\\n    return _parse.from_bytecode(\\n  File \"/usr/local/lib/python3.10/site-packages/qiskit/qasm2/parse.py\", line 214, in from_bytecode\\n    for op in bc:\\nqiskit.qasm2.exceptions.QASM2ParseError: \"<input>:5,0: cannot use non-builtin custom instruction \\'cx\\' before definition\"\\n'\n",
      "Failed to execute to_execute.py in Docker.\n",
      "Error parsing: Command 'python /workspace/to_execute.py' in image 'qiskit_runner' returned non-zero exit status 1: b'Traceback (most recent call last):\\n  File \"/workspace/to_execute.py\", line 10, in <module>\\n    qc = qasm2.loads(\\n  File \"/usr/local/lib/python3.10/site-packages/qiskit/qasm2/__init__.py\", line 587, in loads\\n    return _parse.from_bytecode(\\n  File \"/usr/local/lib/python3.10/site-packages/qiskit/qasm2/parse.py\", line 214, in from_bytecode\\n    for op in bc:\\nqiskit.qasm2.exceptions.QASM2ParseError: \"<input>:4,3: \\'reg_1_a\\' is not defined in this scope\"\\n'\n",
      "Failed to execute to_execute.py in Docker.\n",
      "Output: Saved the Pytket circuit to /workspace/to_execute_qc_pytket.qasm\n",
      "Saved the Qiskit circuit to /workspace/to_execute_qc_qiskit.qasm\n",
      "Exported QASM files: [('/workspace/to_execute_qc_pytket.qasm', 'export_to_qasm_with_pytket'), ('/workspace/to_execute_qc_qiskit.qasm', 'export_to_qasm_with_qiskit')]\n",
      "Log has been saved to /workspace/to_execute_ca7324_error.json\n",
      "\n",
      "Program to_execute.py executed successfully.\n",
      "New exception message: The circuits are not equivalent: /workspace/to_execute_qc_pytket.qasm, /workspace/to_execute_qc_qiskit.qasm\n",
      "Error parsing: Command 'python /workspace/to_execute.py' in image 'qiskit_runner' returned non-zero exit status 1: b'  File \"/workspace/to_execute.py\", line 16\\n    , custom_instructions=qasm2.LEGACY_CUSTOM_INSTRUCTIONS)\\nIndentationError: unexpected indent\\n'\n",
      "Failed to execute to_execute.py in Docker.\n",
      "Error parsing: Command 'python /workspace/to_execute.py' in image 'qiskit_runner' returned non-zero exit status 1: b'  File \"/workspace/to_execute.py\", line 11\\n    include \"qelib1.inc\";\\n            ^^^^^^^^^^^^\\nSyntaxError: invalid syntax\\n'\n",
      "Failed to execute to_execute.py in Docker.\n",
      "Error parsing: Command 'python /workspace/to_execute.py' in image 'qiskit_runner' returned non-zero exit status 1: b'Traceback (most recent call last):\\n  File \"/workspace/to_execute.py\", line 10, in <module>\\n    qc = qasm2.loads(\\n  File \"/usr/local/lib/python3.10/site-packages/qiskit/qasm2/__init__.py\", line 587, in loads\\n    return _parse.from_bytecode(\\n  File \"/usr/local/lib/python3.10/site-packages/qiskit/qasm2/parse.py\", line 214, in from_bytecode\\n    for op in bc:\\nqiskit.qasm2.exceptions.QASM2ParseError: \"<input>:3,0: cannot use non-builtin custom instruction \\'cx\\' before definition\"\\n'\n",
      "Failed to execute to_execute.py in Docker.\n",
      "Error parsing: Command 'python /workspace/to_execute.py' in image 'qiskit_runner' returned non-zero exit status 1: b'Traceback (most recent call last):\\n  File \"/workspace/to_execute.py\", line 10, in <module>\\n    qc = qasm2.loads(\\n  File \"/usr/local/lib/python3.10/site-packages/qiskit/qasm2/__init__.py\", line 587, in loads\\n    return _parse.from_bytecode(\\n  File \"/usr/local/lib/python3.10/site-packages/qiskit/qasm2/parse.py\", line 214, in from_bytecode\\n    for op in bc:\\nqiskit.qasm2.exceptions.QASM2ParseError: \"<input>:4,3: \\'reg_1_a\\' is not defined in this scope\"\\n'\n",
      "Failed to execute to_execute.py in Docker.\n",
      "Error parsing: Command 'python /workspace/to_execute.py' in image 'qiskit_runner' returned non-zero exit status 1: b'  File \"/workspace/to_execute.py\", line 11\\n    include \"qelib1.inc\";\\n            ^^^^^^^^^^^^\\nSyntaxError: invalid syntax\\n'\n",
      "Failed to execute to_execute.py in Docker.\n",
      "Error parsing: Command 'python /workspace/to_execute.py' in image 'qiskit_runner' returned non-zero exit status 1: b'  File \"/workspace/to_execute.py\", line 10\\n    qc = qasm2.loads(\\n                    ^\\nSyntaxError: \\'(\\' was never closed\\n'\n",
      "Failed to execute to_execute.py in Docker.\n",
      "Error parsing: Command 'python /workspace/to_execute.py' in image 'qiskit_runner' returned non-zero exit status 1: b'  File \"/workspace/to_execute.py\", line 16\\n    , custom_instructions=qasm2.LEGACY_CUSTOM_INSTRUCTIONS)\\nIndentationError: unexpected indent\\n'\n",
      "Failed to execute to_execute.py in Docker.\n",
      "Error parsing: Command 'python /workspace/to_execute.py' in image 'qiskit_runner' returned non-zero exit status 1: b'  File \"/workspace/to_execute.py\", line 11\\n    include \"qelib1.inc\";\\n            ^^^^^^^^^^^^\\nSyntaxError: invalid syntax\\n'\n",
      "Failed to execute to_execute.py in Docker.\n",
      "Error parsing: Command 'python /workspace/to_execute.py' in image 'qiskit_runner' returned non-zero exit status 1: b'Traceback (most recent call last):\\n  File \"/workspace/to_execute.py\", line 10, in <module>\\n    qc = qasm2.loads(\\n  File \"/usr/local/lib/python3.10/site-packages/qiskit/qasm2/__init__.py\", line 587, in loads\\n    return _parse.from_bytecode(\\n  File \"/usr/local/lib/python3.10/site-packages/qiskit/qasm2/parse.py\", line 214, in from_bytecode\\n    for op in bc:\\nqiskit.qasm2.exceptions.QASM2ParseError: \"<input>:4,0: cannot use non-builtin custom instruction \\'cx\\' before definition\"\\n'\n",
      "Failed to execute to_execute.py in Docker.\n",
      "Error parsing: Command 'python /workspace/to_execute.py' in image 'qiskit_runner' returned non-zero exit status 1: b'Traceback (most recent call last):\\n  File \"/workspace/to_execute.py\", line 10, in <module>\\n    qc = qasm2.loads(\\n  File \"/usr/local/lib/python3.10/site-packages/qiskit/qasm2/__init__.py\", line 587, in loads\\n    return _parse.from_bytecode(\\n  File \"/usr/local/lib/python3.10/site-packages/qiskit/qasm2/parse.py\", line 214, in from_bytecode\\n    for op in bc:\\nqiskit.qasm2.exceptions.QASM2ParseError: \"<input>:4,14: \\'reg_1_b\\' is not defined in this scope\"\\n'\n",
      "Failed to execute to_execute.py in Docker.\n",
      "Error parsing: Command 'python /workspace/to_execute.py' in image 'qiskit_runner' returned non-zero exit status 1: b'Traceback (most recent call last):\\n  File \"/workspace/to_execute.py\", line 10, in <module>\\n    qc = qasm2.loads(\\n  File \"/usr/local/lib/python3.10/site-packages/qiskit/qasm2/__init__.py\", line 587, in loads\\n    return _parse.from_bytecode(\\n  File \"/usr/local/lib/python3.10/site-packages/qiskit/qasm2/parse.py\", line 214, in from_bytecode\\n    for op in bc:\\nqiskit.qasm2.exceptions.QASM2ParseError: \"<input>:4,3: \\'reg_1_a\\' is not defined in this scope\"\\n'\n",
      "Failed to execute to_execute.py in Docker.\n",
      "Output: Saved the Pytket circuit to /workspace/to_execute_qc_pytket.qasm\n",
      "Saved the Qiskit circuit to /workspace/to_execute_qc_qiskit.qasm\n",
      "Exported QASM files: [('/workspace/to_execute_qc_pytket.qasm', 'export_to_qasm_with_pytket'), ('/workspace/to_execute_qc_qiskit.qasm', 'export_to_qasm_with_qiskit')]\n",
      "The circuits are equivalent: /workspace/to_execute_qc_pytket.qasm, /workspace/to_execute_qc_qiskit.qasm\n",
      "\n",
      "Program to_execute.py executed successfully.\n",
      "Error parsing: Command 'python /workspace/to_execute.py' in image 'qiskit_runner' returned non-zero exit status 1: b'  File \"/workspace/to_execute.py\", line 11\\n    include \"qelib1.inc\";\\n            ^^^^^^^^^^^^\\nSyntaxError: invalid syntax\\n'\n",
      "Failed to execute to_execute.py in Docker.\n",
      "Error parsing: Command 'python /workspace/to_execute.py' in image 'qiskit_runner' returned non-zero exit status 1: b'  File \"/workspace/to_execute.py\", line 10\\n    qc = qasm2.loads(\\n                    ^\\nSyntaxError: \\'(\\' was never closed\\n'\n",
      "Failed to execute to_execute.py in Docker.\n"
     ]
    },
    {
     "data": {
      "text/html": [
       "<pre style=\"white-space:pre;overflow-x:auto;line-height:normal;font-family:Menlo,'DejaVu Sans Mono',consolas,'Courier New',monospace\"><span style=\"color: #7fbfbf; text-decoration-color: #7fbfbf\">[15:12:24] </span><span style=\"color: #008000; text-decoration-color: #008000\">Minimized file saved as:</span>                                                        <a href=\"file:///home/paltenmo/projects/crossplatform/analysis_and_reporting/ddmin_target_file.py\" target=\"_blank\"><span style=\"color: #7f7f7f; text-decoration-color: #7f7f7f\">ddmin_target_file.py</span></a><span style=\"color: #7f7f7f; text-decoration-color: #7f7f7f\">:</span><a href=\"file:///home/paltenmo/projects/crossplatform/analysis_and_reporting/ddmin_target_file.py#240\" target=\"_blank\"><span style=\"color: #7f7f7f; text-decoration-color: #7f7f7f\">240</span></a>\n",
       "<span style=\"color: #7fbfbf; text-decoration-color: #7fbfbf\">           </span>..<span style=\"color: #800080; text-decoration-color: #800080\">/reports/v009/2024_11_21__15_09/</span><span style=\"color: #ff00ff; text-decoration-color: #ff00ff\">qiskit_circuit_5q_10g_680_6d896d_1fd766_error</span> <span style=\"color: #7f7f7f; text-decoration-color: #7f7f7f\">                        </span>\n",
       "<span style=\"color: #7fbfbf; text-decoration-color: #7fbfbf\">           </span><span style=\"color: #ff00ff; text-decoration-color: #ff00ff\">_min.py</span>                                                                         <span style=\"color: #7f7f7f; text-decoration-color: #7f7f7f\">                        </span>\n",
       "</pre>\n"
      ],
      "text/plain": [
       "\u001b[2;36m[15:12:24]\u001b[0m\u001b[2;36m \u001b[0m\u001b[32mMinimized file saved as:\u001b[0m                                                        \u001b]8;id=925058;file:///home/paltenmo/projects/crossplatform/analysis_and_reporting/ddmin_target_file.py\u001b\\\u001b[2mddmin_target_file.py\u001b[0m\u001b]8;;\u001b\\\u001b[2m:\u001b[0m\u001b]8;id=911043;file:///home/paltenmo/projects/crossplatform/analysis_and_reporting/ddmin_target_file.py#240\u001b\\\u001b[2m240\u001b[0m\u001b]8;;\u001b\\\n",
       "\u001b[2;36m           \u001b[0m..\u001b[35m/reports/v009/2024_11_21__15_09/\u001b[0m\u001b[95mqiskit_circuit_5q_10g_680_6d896d_1fd766_error\u001b[0m \u001b[2m                        \u001b[0m\n",
       "\u001b[2;36m           \u001b[0m\u001b[95m_min.py\u001b[0m                                                                         \u001b[2m                        \u001b[0m\n"
      ]
     },
     "metadata": {},
     "output_type": "display_data"
    },
    {
     "name": "stdout",
     "output_type": "stream",
     "text": [
      "Output: Saved the Pytket circuit to /workspace/qiskit_circuit_5q_10g_680_6d896d_1fd766_error_min_qc_pytket.qasm\n",
      "Saved the Qiskit circuit to /workspace/qiskit_circuit_5q_10g_680_6d896d_1fd766_error_min_qc_qiskit.qasm\n",
      "Exported QASM files: [('/workspace/qiskit_circuit_5q_10g_680_6d896d_1fd766_error_min_qc_pytket.qasm', 'export_to_qasm_with_pytket'), ('/workspace/qiskit_circuit_5q_10g_680_6d896d_1fd766_error_min_qc_qiskit.qasm', 'export_to_qasm_with_qiskit')]\n",
      "Log has been saved to /workspace/qiskit_circuit_5q_10g_680_6d896d_1fd766_error_min_c3fa11_error.json\n",
      "\n"
     ]
    },
    {
     "data": {
      "text/html": [
       "<pre style=\"white-space:pre;overflow-x:auto;line-height:normal;font-family:Menlo,'DejaVu Sans Mono',consolas,'Courier New',monospace\"><span style=\"color: #7fbfbf; text-decoration-color: #7fbfbf\">[15:12:31] </span>Program qiskit_circuit_5q_10g_680_6d896d_1fd766_error_min.py executed successfully. <a href=\"file:///home/paltenmo/projects/crossplatform/generators/docker_tooling.py\" target=\"_blank\"><span style=\"color: #7f7f7f; text-decoration-color: #7f7f7f\">docker_tooling.py</span></a><span style=\"color: #7f7f7f; text-decoration-color: #7f7f7f\">:</span><a href=\"file:///home/paltenmo/projects/crossplatform/generators/docker_tooling.py#46\" target=\"_blank\"><span style=\"color: #7f7f7f; text-decoration-color: #7f7f7f\">46</span></a>\n",
       "</pre>\n"
      ],
      "text/plain": [
       "\u001b[2;36m[15:12:31]\u001b[0m\u001b[2;36m \u001b[0mProgram qiskit_circuit_5q_10g_680_6d896d_1fd766_error_min.py executed successfully. \u001b]8;id=477414;file:///home/paltenmo/projects/crossplatform/generators/docker_tooling.py\u001b\\\u001b[2mdocker_tooling.py\u001b[0m\u001b]8;;\u001b\\\u001b[2m:\u001b[0m\u001b]8;id=213744;file:///home/paltenmo/projects/crossplatform/generators/docker_tooling.py#46\u001b\\\u001b[2m46\u001b[0m\u001b]8;;\u001b\\\n"
      ]
     },
     "metadata": {},
     "output_type": "display_data"
    },
    {
     "data": {
      "application/vnd.jupyter.widget-view+json": {
       "model_id": "fd41c37524fc49898f76e352c9932878",
       "version_major": 2,
       "version_minor": 0
      },
      "text/plain": [
       "Executing:   0%|          | 0/13 [00:00<?, ?cell/s]"
      ]
     },
     "metadata": {},
     "output_type": "display_data"
    },
    {
     "data": {
      "text/html": [
       "<pre style=\"white-space:pre;overflow-x:auto;line-height:normal;font-family:Menlo,'DejaVu Sans Mono',consolas,'Courier New',monospace\"><span style=\"color: #7fbfbf; text-decoration-color: #7fbfbf\">[15:12:34] </span>Analysis notebook executed: ..<span style=\"color: #800080; text-decoration-color: #800080\">/reports/v009/2024_11_21__15_09/</span><span style=\"color: #ff00ff; text-decoration-color: #ff00ff\">analysis_output.ipynb</span>        <a href=\"file:///home/paltenmo/projects/crossplatform/analysis_and_reporting/triage.py\" target=\"_blank\"><span style=\"color: #7f7f7f; text-decoration-color: #7f7f7f\">triage.py</span></a><span style=\"color: #7f7f7f; text-decoration-color: #7f7f7f\">:</span><a href=\"file:///home/paltenmo/projects/crossplatform/analysis_and_reporting/triage.py#163\" target=\"_blank\"><span style=\"color: #7f7f7f; text-decoration-color: #7f7f7f\">163</span></a>\n",
       "</pre>\n"
      ],
      "text/plain": [
       "\u001b[2;36m[15:12:34]\u001b[0m\u001b[2;36m \u001b[0mAnalysis notebook executed: ..\u001b[35m/reports/v009/2024_11_21__15_09/\u001b[0m\u001b[95manalysis_output.ipynb\u001b[0m        \u001b]8;id=672233;file:///home/paltenmo/projects/crossplatform/analysis_and_reporting/triage.py\u001b\\\u001b[2mtriage.py\u001b[0m\u001b]8;;\u001b\\\u001b[2m:\u001b[0m\u001b]8;id=4561;file:///home/paltenmo/projects/crossplatform/analysis_and_reporting/triage.py#163\u001b\\\u001b[2m163\u001b[0m\u001b]8;;\u001b\\\n"
      ]
     },
     "metadata": {},
     "output_type": "display_data"
    },
    {
     "data": {
      "text/html": [
       "<pre style=\"white-space:pre;overflow-x:auto;line-height:normal;font-family:Menlo,'DejaVu Sans Mono',consolas,'Courier New',monospace\"><span style=\"color: #7fbfbf; text-decoration-color: #7fbfbf\">           </span>Created report folder: ..<span style=\"color: #800080; text-decoration-color: #800080\">/reports/v009/</span><span style=\"color: #ff00ff; text-decoration-color: #ff00ff\">2024_11_21__15_12</span>                                   <a href=\"file:///home/paltenmo/projects/crossplatform/analysis_and_reporting/triage.py\" target=\"_blank\"><span style=\"color: #7f7f7f; text-decoration-color: #7f7f7f\">triage.py</span></a><span style=\"color: #7f7f7f; text-decoration-color: #7f7f7f\">:</span><a href=\"file:///home/paltenmo/projects/crossplatform/analysis_and_reporting/triage.py#131\" target=\"_blank\"><span style=\"color: #7f7f7f; text-decoration-color: #7f7f7f\">131</span></a>\n",
       "</pre>\n"
      ],
      "text/plain": [
       "\u001b[2;36m          \u001b[0m\u001b[2;36m \u001b[0mCreated report folder: ..\u001b[35m/reports/v009/\u001b[0m\u001b[95m2024_11_21__15_12\u001b[0m                                   \u001b]8;id=539788;file:///home/paltenmo/projects/crossplatform/analysis_and_reporting/triage.py\u001b\\\u001b[2mtriage.py\u001b[0m\u001b]8;;\u001b\\\u001b[2m:\u001b[0m\u001b]8;id=237902;file:///home/paltenmo/projects/crossplatform/analysis_and_reporting/triage.py#131\u001b\\\u001b[2m131\u001b[0m\u001b]8;;\u001b\\\n"
      ]
     },
     "metadata": {},
     "output_type": "display_data"
    },
    {
     "data": {
      "text/html": [
       "<pre style=\"white-space:pre;overflow-x:auto;line-height:normal;font-family:Menlo,'DejaVu Sans Mono',consolas,'Courier New',monospace\"><span style=\"color: #7fbfbf; text-decoration-color: #7fbfbf\">           </span>Copied files to: ..<span style=\"color: #800080; text-decoration-color: #800080\">/reports/v009/</span><span style=\"color: #ff00ff; text-decoration-color: #ff00ff\">2024_11_21__15_12</span>                                         <a href=\"file:///home/paltenmo/projects/crossplatform/analysis_and_reporting/triage.py\" target=\"_blank\"><span style=\"color: #7f7f7f; text-decoration-color: #7f7f7f\">triage.py</span></a><span style=\"color: #7f7f7f; text-decoration-color: #7f7f7f\">:</span><a href=\"file:///home/paltenmo/projects/crossplatform/analysis_and_reporting/triage.py#140\" target=\"_blank\"><span style=\"color: #7f7f7f; text-decoration-color: #7f7f7f\">140</span></a>\n",
       "</pre>\n"
      ],
      "text/plain": [
       "\u001b[2;36m          \u001b[0m\u001b[2;36m \u001b[0mCopied files to: ..\u001b[35m/reports/v009/\u001b[0m\u001b[95m2024_11_21__15_12\u001b[0m                                         \u001b]8;id=440474;file:///home/paltenmo/projects/crossplatform/analysis_and_reporting/triage.py\u001b\\\u001b[2mtriage.py\u001b[0m\u001b]8;;\u001b\\\u001b[2m:\u001b[0m\u001b]8;id=45501;file:///home/paltenmo/projects/crossplatform/analysis_and_reporting/triage.py#140\u001b\\\u001b[2m140\u001b[0m\u001b]8;;\u001b\\\n"
      ]
     },
     "metadata": {},
     "output_type": "display_data"
    },
    {
     "data": {
      "text/html": [
       "<pre style=\"white-space:pre;overflow-x:auto;line-height:normal;font-family:Menlo,'DejaVu Sans Mono',consolas,'Courier New',monospace\"><span style=\"color: #7fbfbf; text-decoration-color: #7fbfbf\">[15:12:34] </span>Involved functions:                                                             <a href=\"file:///home/paltenmo/projects/crossplatform/analysis_and_reporting/ddmin_target_file.py\" target=\"_blank\"><span style=\"color: #7f7f7f; text-decoration-color: #7f7f7f\">ddmin_target_file.py</span></a><span style=\"color: #7f7f7f; text-decoration-color: #7f7f7f\">:</span><a href=\"file:///home/paltenmo/projects/crossplatform/analysis_and_reporting/ddmin_target_file.py#206\" target=\"_blank\"><span style=\"color: #7f7f7f; text-decoration-color: #7f7f7f\">206</span></a>\n",
       "</pre>\n"
      ],
      "text/plain": [
       "\u001b[2;36m[15:12:34]\u001b[0m\u001b[2;36m \u001b[0mInvolved functions:                                                             \u001b]8;id=551201;file:///home/paltenmo/projects/crossplatform/analysis_and_reporting/ddmin_target_file.py\u001b\\\u001b[2mddmin_target_file.py\u001b[0m\u001b]8;;\u001b\\\u001b[2m:\u001b[0m\u001b]8;id=250080;file:///home/paltenmo/projects/crossplatform/analysis_and_reporting/ddmin_target_file.py#206\u001b\\\u001b[2m206\u001b[0m\u001b]8;;\u001b\\\n"
      ]
     },
     "metadata": {},
     "output_type": "display_data"
    },
    {
     "data": {
      "text/html": [
       "<pre style=\"white-space:pre;overflow-x:auto;line-height:normal;font-family:Menlo,'DejaVu Sans Mono',consolas,'Courier New',monospace\"><span style=\"color: #7fbfbf; text-decoration-color: #7fbfbf\">           </span>  - compare_qasm_via_qcec                                                       <a href=\"file:///home/paltenmo/projects/crossplatform/analysis_and_reporting/ddmin_target_file.py\" target=\"_blank\"><span style=\"color: #7f7f7f; text-decoration-color: #7f7f7f\">ddmin_target_file.py</span></a><span style=\"color: #7f7f7f; text-decoration-color: #7f7f7f\">:</span><a href=\"file:///home/paltenmo/projects/crossplatform/analysis_and_reporting/ddmin_target_file.py#208\" target=\"_blank\"><span style=\"color: #7f7f7f; text-decoration-color: #7f7f7f\">208</span></a>\n",
       "</pre>\n"
      ],
      "text/plain": [
       "\u001b[2;36m          \u001b[0m\u001b[2;36m \u001b[0m  - compare_qasm_via_qcec                                                       \u001b]8;id=263622;file:///home/paltenmo/projects/crossplatform/analysis_and_reporting/ddmin_target_file.py\u001b\\\u001b[2mddmin_target_file.py\u001b[0m\u001b]8;;\u001b\\\u001b[2m:\u001b[0m\u001b]8;id=456243;file:///home/paltenmo/projects/crossplatform/analysis_and_reporting/ddmin_target_file.py#208\u001b\\\u001b[2m208\u001b[0m\u001b]8;;\u001b\\\n"
      ]
     },
     "metadata": {},
     "output_type": "display_data"
    },
    {
     "data": {
      "text/html": [
       "<pre style=\"white-space:pre;overflow-x:auto;line-height:normal;font-family:Menlo,'DejaVu Sans Mono',consolas,'Courier New',monospace\"><span style=\"color: #7fbfbf; text-decoration-color: #7fbfbf\">           </span>  - export_to_qasm_with_pytket                                                  <a href=\"file:///home/paltenmo/projects/crossplatform/analysis_and_reporting/ddmin_target_file.py\" target=\"_blank\"><span style=\"color: #7f7f7f; text-decoration-color: #7f7f7f\">ddmin_target_file.py</span></a><span style=\"color: #7f7f7f; text-decoration-color: #7f7f7f\">:</span><a href=\"file:///home/paltenmo/projects/crossplatform/analysis_and_reporting/ddmin_target_file.py#208\" target=\"_blank\"><span style=\"color: #7f7f7f; text-decoration-color: #7f7f7f\">208</span></a>\n",
       "</pre>\n"
      ],
      "text/plain": [
       "\u001b[2;36m          \u001b[0m\u001b[2;36m \u001b[0m  - export_to_qasm_with_pytket                                                  \u001b]8;id=634482;file:///home/paltenmo/projects/crossplatform/analysis_and_reporting/ddmin_target_file.py\u001b\\\u001b[2mddmin_target_file.py\u001b[0m\u001b]8;;\u001b\\\u001b[2m:\u001b[0m\u001b]8;id=715175;file:///home/paltenmo/projects/crossplatform/analysis_and_reporting/ddmin_target_file.py#208\u001b\\\u001b[2m208\u001b[0m\u001b]8;;\u001b\\\n"
      ]
     },
     "metadata": {},
     "output_type": "display_data"
    },
    {
     "data": {
      "text/html": [
       "<pre style=\"white-space:pre;overflow-x:auto;line-height:normal;font-family:Menlo,'DejaVu Sans Mono',consolas,'Courier New',monospace\"><span style=\"color: #7fbfbf; text-decoration-color: #7fbfbf\">           </span>  - export_to_qasm_with_qiskit                                                  <a href=\"file:///home/paltenmo/projects/crossplatform/analysis_and_reporting/ddmin_target_file.py\" target=\"_blank\"><span style=\"color: #7f7f7f; text-decoration-color: #7f7f7f\">ddmin_target_file.py</span></a><span style=\"color: #7f7f7f; text-decoration-color: #7f7f7f\">:</span><a href=\"file:///home/paltenmo/projects/crossplatform/analysis_and_reporting/ddmin_target_file.py#208\" target=\"_blank\"><span style=\"color: #7f7f7f; text-decoration-color: #7f7f7f\">208</span></a>\n",
       "</pre>\n"
      ],
      "text/plain": [
       "\u001b[2;36m          \u001b[0m\u001b[2;36m \u001b[0m  - export_to_qasm_with_qiskit                                                  \u001b]8;id=208365;file:///home/paltenmo/projects/crossplatform/analysis_and_reporting/ddmin_target_file.py\u001b\\\u001b[2mddmin_target_file.py\u001b[0m\u001b]8;;\u001b\\\u001b[2m:\u001b[0m\u001b]8;id=926996;file:///home/paltenmo/projects/crossplatform/analysis_and_reporting/ddmin_target_file.py#208\u001b\\\u001b[2m208\u001b[0m\u001b]8;;\u001b\\\n"
      ]
     },
     "metadata": {},
     "output_type": "display_data"
    },
    {
     "name": "stdout",
     "output_type": "stream",
     "text": [
      "Error parsing: Command 'python /workspace/to_execute.py' in image 'qiskit_runner' returned non-zero exit status 1: b'Traceback (most recent call last):\\n  File \"/workspace/to_execute.py\", line 105, in <module>\\n    target_qc = qc\\nNameError: name \\'qc\\' is not defined\\n'\n",
      "Failed to execute to_execute.py in Docker.\n",
      "Output: Saved the Pytket circuit to /workspace/to_execute_qc_pytket.qasm\n",
      "Saved the Qiskit circuit to /workspace/to_execute_qc_qiskit.qasm\n",
      "Exported QASM files: [('/workspace/to_execute_qc_pytket.qasm', 'export_to_qasm_with_pytket'), ('/workspace/to_execute_qc_qiskit.qasm', 'export_to_qasm_with_qiskit')]\n",
      "Log has been saved to /workspace/to_execute_d9884e_error.json\n",
      "\n",
      "Program to_execute.py executed successfully.\n",
      "New exception message: The circuits are not equivalent: /workspace/to_execute_qc_pytket.qasm, /workspace/to_execute_qc_qiskit.qasm\n",
      "Error parsing: Command 'python /workspace/to_execute.py' in image 'qiskit_runner' returned non-zero exit status 1: b'  File \"/workspace/to_execute.py\", line 18\\n    , custom_instructions=qasm2.LEGACY_CUSTOM_INSTRUCTIONS)\\n                                                          ^\\nSyntaxError: unmatched \\')\\'\\n'\n",
      "Failed to execute to_execute.py in Docker.\n",
      "Error parsing: Command 'python /workspace/to_execute.py' in image 'qiskit_runner' returned non-zero exit status 1: b'  File \"/workspace/to_execute.py\", line 10\\n    qc = qasm2.loads(\\n                    ^\\nSyntaxError: \\'(\\' was never closed\\n'\n",
      "Failed to execute to_execute.py in Docker.\n",
      "Error parsing: Command 'python /workspace/to_execute.py' in image 'qiskit_runner' returned non-zero exit status 1: b'  File \"/workspace/to_execute.py\", line 23\\n    , custom_instructions=qasm2.LEGACY_CUSTOM_INSTRUCTIONS)\\n                                                          ^\\nSyntaxError: unmatched \\')\\'\\n'\n",
      "Failed to execute to_execute.py in Docker.\n",
      "Error parsing: Command 'python /workspace/to_execute.py' in image 'qiskit_runner' returned non-zero exit status 1: b'Traceback (most recent call last):\\n  File \"/workspace/to_execute.py\", line 10, in <module>\\n    qc = qasm2.loads(\\n  File \"/usr/local/lib/python3.10/site-packages/qiskit/qasm2/__init__.py\", line 587, in loads\\n    return _parse.from_bytecode(\\n  File \"/usr/local/lib/python3.10/site-packages/qiskit/qasm2/parse.py\", line 214, in from_bytecode\\n    for op in bc:\\nqiskit.qasm2.exceptions.QASM2ParseError: \"<input>:5,2: \\'reg_1_q\\' is not defined in this scope\"\\n'\n",
      "Failed to execute to_execute.py in Docker.\n",
      "Output: Saved the Pytket circuit to /workspace/to_execute_qc_pytket.qasm\n",
      "Saved the Qiskit circuit to /workspace/to_execute_qc_qiskit.qasm\n",
      "Exported QASM files: [('/workspace/to_execute_qc_pytket.qasm', 'export_to_qasm_with_pytket'), ('/workspace/to_execute_qc_qiskit.qasm', 'export_to_qasm_with_qiskit')]\n",
      "Log has been saved to /workspace/to_execute_608f83_error.json\n",
      "\n",
      "Program to_execute.py executed successfully.\n",
      "New exception message: The circuits are not equivalent: /workspace/to_execute_qc_pytket.qasm, /workspace/to_execute_qc_qiskit.qasm\n",
      "Error parsing: Command 'python /workspace/to_execute.py' in image 'qiskit_runner' returned non-zero exit status 1: b'  File \"/workspace/to_execute.py\", line 18\\n    , custom_instructions=qasm2.LEGACY_CUSTOM_INSTRUCTIONS)\\n                                                          ^\\nSyntaxError: unmatched \\')\\'\\n'\n",
      "Failed to execute to_execute.py in Docker.\n",
      "Error parsing: Command 'python /workspace/to_execute.py' in image 'qiskit_runner' returned non-zero exit status 1: b'Traceback (most recent call last):\\n  File \"/workspace/to_execute.py\", line 10, in <module>\\n    qc = qasm2.loads(\\n  File \"/usr/local/lib/python3.10/site-packages/qiskit/qasm2/__init__.py\", line 587, in loads\\n    return _parse.from_bytecode(\\n  File \"/usr/local/lib/python3.10/site-packages/qiskit/qasm2/parse.py\", line 214, in from_bytecode\\n    for op in bc:\\nqiskit.qasm2.exceptions.QASM2ParseError: \"<input>:4,3: \\'reg_2_a\\' is not defined in this scope\"\\n'\n",
      "Failed to execute to_execute.py in Docker.\n",
      "Error parsing: Command 'python /workspace/to_execute.py' in image 'qiskit_runner' returned non-zero exit status 1: b'  File \"/workspace/to_execute.py\", line 10\\n    qc = qasm2.loads(\\n                    ^\\nSyntaxError: \\'(\\' was never closed\\n'\n",
      "Failed to execute to_execute.py in Docker.\n",
      "Error parsing: Command 'python /workspace/to_execute.py' in image 'qiskit_runner' returned non-zero exit status 1: b'  File \"/workspace/to_execute.py\", line 20\\n    , custom_instructions=qasm2.LEGACY_CUSTOM_INSTRUCTIONS)\\n                                                          ^\\nSyntaxError: unmatched \\')\\'\\n'\n",
      "Failed to execute to_execute.py in Docker.\n",
      "Error parsing: Command 'python /workspace/to_execute.py' in image 'qiskit_runner' returned non-zero exit status 1: b'Traceback (most recent call last):\\n  File \"/workspace/to_execute.py\", line 10, in <module>\\n    qc = qasm2.loads(\\n  File \"/usr/local/lib/python3.10/site-packages/qiskit/qasm2/__init__.py\", line 587, in loads\\n    return _parse.from_bytecode(\\n  File \"/usr/local/lib/python3.10/site-packages/qiskit/qasm2/parse.py\", line 214, in from_bytecode\\n    for op in bc:\\nqiskit.qasm2.exceptions.QASM2ParseError: \"<input>:7,0: cannot use non-builtin custom instruction \\'cx\\' before definition\"\\n'\n",
      "Failed to execute to_execute.py in Docker.\n",
      "Error parsing: Command 'python /workspace/to_execute.py' in image 'qiskit_runner' returned non-zero exit status 1: b'Traceback (most recent call last):\\n  File \"/workspace/to_execute.py\", line 10, in <module>\\n    qc = qasm2.loads(\\n  File \"/usr/local/lib/python3.10/site-packages/qiskit/qasm2/__init__.py\", line 587, in loads\\n    return _parse.from_bytecode(\\n  File \"/usr/local/lib/python3.10/site-packages/qiskit/qasm2/parse.py\", line 214, in from_bytecode\\n    for op in bc:\\nqiskit.qasm2.exceptions.QASM2ParseError: \"<input>:6,3: \\'reg_2_a\\' is not defined in this scope\"\\n'\n",
      "Failed to execute to_execute.py in Docker.\n",
      "Error parsing: Command 'python /workspace/to_execute.py' in image 'qiskit_runner' returned non-zero exit status 1: b'Traceback (most recent call last):\\n  File \"/workspace/to_execute.py\", line 10, in <module>\\n    qc = qasm2.loads(\\n  File \"/usr/local/lib/python3.10/site-packages/qiskit/qasm2/__init__.py\", line 587, in loads\\n    return _parse.from_bytecode(\\n  File \"/usr/local/lib/python3.10/site-packages/qiskit/qasm2/parse.py\", line 214, in from_bytecode\\n    for op in bc:\\nqiskit.qasm2.exceptions.QASM2ParseError: \"<input>:7,14: \\'reg_2_b\\' is not defined in this scope\"\\n'\n",
      "Failed to execute to_execute.py in Docker.\n",
      "Output: Saved the Pytket circuit to /workspace/to_execute_qc_pytket.qasm\n",
      "Saved the Qiskit circuit to /workspace/to_execute_qc_qiskit.qasm\n",
      "Exported QASM files: [('/workspace/to_execute_qc_pytket.qasm', 'export_to_qasm_with_pytket'), ('/workspace/to_execute_qc_qiskit.qasm', 'export_to_qasm_with_qiskit')]\n",
      "The circuits are equivalent: /workspace/to_execute_qc_pytket.qasm, /workspace/to_execute_qc_qiskit.qasm\n",
      "\n",
      "Program to_execute.py executed successfully.\n",
      "Error parsing: Command 'python /workspace/to_execute.py' in image 'qiskit_runner' returned non-zero exit status 1: b'  File \"/workspace/to_execute.py\", line 10\\n    qc = qasm2.loads(\\n                    ^\\nSyntaxError: \\'(\\' was never closed\\n'\n",
      "Failed to execute to_execute.py in Docker.\n",
      "Error parsing: Command 'python /workspace/to_execute.py' in image 'qiskit_runner' returned non-zero exit status 1: b'  File \"/workspace/to_execute.py\", line 23\\n    , custom_instructions=qasm2.LEGACY_CUSTOM_INSTRUCTIONS)\\nIndentationError: unexpected indent\\n'\n",
      "Failed to execute to_execute.py in Docker.\n",
      "Output: Saved the Pytket circuit to /workspace/to_execute_qc_pytket.qasm\n",
      "Saved the Qiskit circuit to /workspace/to_execute_qc_qiskit.qasm\n",
      "Exported QASM files: [('/workspace/to_execute_qc_pytket.qasm', 'export_to_qasm_with_pytket'), ('/workspace/to_execute_qc_qiskit.qasm', 'export_to_qasm_with_qiskit')]\n",
      "Log has been saved to /workspace/to_execute_887cae_error.json\n",
      "\n",
      "Program to_execute.py executed successfully.\n",
      "New exception message: The circuits are not equivalent: /workspace/to_execute_qc_pytket.qasm, /workspace/to_execute_qc_qiskit.qasm\n",
      "Error parsing: Command 'python /workspace/to_execute.py' in image 'qiskit_runner' returned non-zero exit status 1: b'  File \"/workspace/to_execute.py\", line 22\\n    , custom_instructions=qasm2.LEGACY_CUSTOM_INSTRUCTIONS)\\nIndentationError: unexpected indent\\n'\n",
      "Failed to execute to_execute.py in Docker.\n",
      "Error parsing: Command 'python /workspace/to_execute.py' in image 'qiskit_runner' returned non-zero exit status 1: b'  File \"/workspace/to_execute.py\", line 11\\n    OPENQASM 2.0;\\n    ^^^^^^^^^^^^\\nSyntaxError: invalid syntax. Perhaps you forgot a comma?\\n'\n",
      "Failed to execute to_execute.py in Docker.\n",
      "Output: Saved the Pytket circuit to /workspace/to_execute_qc_pytket.qasm\n",
      "Saved the Qiskit circuit to /workspace/to_execute_qc_qiskit.qasm\n",
      "Exported QASM files: [('/workspace/to_execute_qc_pytket.qasm', 'export_to_qasm_with_pytket'), ('/workspace/to_execute_qc_qiskit.qasm', 'export_to_qasm_with_qiskit')]\n",
      "Log has been saved to /workspace/to_execute_2caee7_error.json\n",
      "\n",
      "Program to_execute.py executed successfully.\n",
      "New exception message: The circuits are not equivalent: /workspace/to_execute_qc_pytket.qasm, /workspace/to_execute_qc_qiskit.qasm\n",
      "Error parsing: Command 'python /workspace/to_execute.py' in image 'qiskit_runner' returned non-zero exit status 1: b'  File \"/workspace/to_execute.py\", line 21\\n    , custom_instructions=qasm2.LEGACY_CUSTOM_INSTRUCTIONS)\\nIndentationError: unexpected indent\\n'\n",
      "Failed to execute to_execute.py in Docker.\n",
      "Error parsing: Command 'python /workspace/to_execute.py' in image 'qiskit_runner' returned non-zero exit status 1: b'  File \"/workspace/to_execute.py\", line 11\\n    include \"qelib1.inc\";\\n            ^^^^^^^^^^^^\\nSyntaxError: invalid syntax\\n'\n",
      "Failed to execute to_execute.py in Docker.\n",
      "Error parsing: Command 'python /workspace/to_execute.py' in image 'qiskit_runner' returned non-zero exit status 1: b'Traceback (most recent call last):\\n  File \"/workspace/to_execute.py\", line 10, in <module>\\n    qc = qasm2.loads(\\n  File \"/usr/local/lib/python3.10/site-packages/qiskit/qasm2/__init__.py\", line 587, in loads\\n    return _parse.from_bytecode(\\n  File \"/usr/local/lib/python3.10/site-packages/qiskit/qasm2/parse.py\", line 214, in from_bytecode\\n    for op in bc:\\nqiskit.qasm2.exceptions.QASM2ParseError: \"<input>:7,0: cannot use non-builtin custom instruction \\'cx\\' before definition\"\\n'\n",
      "Failed to execute to_execute.py in Docker.\n",
      "Output: Saved the Pytket circuit to /workspace/to_execute_qc_pytket.qasm\n",
      "Saved the Qiskit circuit to /workspace/to_execute_qc_qiskit.qasm\n",
      "Exported QASM files: [('/workspace/to_execute_qc_pytket.qasm', 'export_to_qasm_with_pytket'), ('/workspace/to_execute_qc_qiskit.qasm', 'export_to_qasm_with_qiskit')]\n",
      "Log has been saved to /workspace/to_execute_2f0673_error.json\n",
      "\n",
      "Program to_execute.py executed successfully.\n",
      "New exception message: The circuits are not equivalent: /workspace/to_execute_qc_pytket.qasm, /workspace/to_execute_qc_qiskit.qasm\n",
      "Error parsing: Command 'python /workspace/to_execute.py' in image 'qiskit_runner' returned non-zero exit status 1: b'  File \"/workspace/to_execute.py\", line 20\\n    , custom_instructions=qasm2.LEGACY_CUSTOM_INSTRUCTIONS)\\nIndentationError: unexpected indent\\n'\n",
      "Failed to execute to_execute.py in Docker.\n",
      "Error parsing: Command 'python /workspace/to_execute.py' in image 'qiskit_runner' returned non-zero exit status 1: b'  File \"/workspace/to_execute.py\", line 11\\n    include \"qelib1.inc\";\\n            ^^^^^^^^^^^^\\nSyntaxError: invalid syntax\\n'\n",
      "Failed to execute to_execute.py in Docker.\n",
      "Error parsing: Command 'python /workspace/to_execute.py' in image 'qiskit_runner' returned non-zero exit status 1: b'Traceback (most recent call last):\\n  File \"/workspace/to_execute.py\", line 10, in <module>\\n    qc = qasm2.loads(\\n  File \"/usr/local/lib/python3.10/site-packages/qiskit/qasm2/__init__.py\", line 587, in loads\\n    return _parse.from_bytecode(\\n  File \"/usr/local/lib/python3.10/site-packages/qiskit/qasm2/parse.py\", line 214, in from_bytecode\\n    for op in bc:\\nqiskit.qasm2.exceptions.QASM2ParseError: \"<input>:6,0: cannot use non-builtin custom instruction \\'cx\\' before definition\"\\n'\n",
      "Failed to execute to_execute.py in Docker.\n",
      "Error parsing: Command 'python /workspace/to_execute.py' in image 'qiskit_runner' returned non-zero exit status 1: b'Traceback (most recent call last):\\n  File \"/workspace/to_execute.py\", line 10, in <module>\\n    qc = qasm2.loads(\\n  File \"/usr/local/lib/python3.10/site-packages/qiskit/qasm2/__init__.py\", line 587, in loads\\n    return _parse.from_bytecode(\\n  File \"/usr/local/lib/python3.10/site-packages/qiskit/qasm2/parse.py\", line 214, in from_bytecode\\n    for op in bc:\\nqiskit.qasm2.exceptions.QASM2ParseError: \"<input>:5,3: \\'reg_2_a\\' is not defined in this scope\"\\n'\n",
      "Failed to execute to_execute.py in Docker.\n",
      "Error parsing: Command 'python /workspace/to_execute.py' in image 'qiskit_runner' returned non-zero exit status 1: b'Traceback (most recent call last):\\n  File \"/workspace/to_execute.py\", line 10, in <module>\\n    qc = qasm2.loads(\\n  File \"/usr/local/lib/python3.10/site-packages/qiskit/qasm2/__init__.py\", line 587, in loads\\n    return _parse.from_bytecode(\\n  File \"/usr/local/lib/python3.10/site-packages/qiskit/qasm2/parse.py\", line 214, in from_bytecode\\n    for op in bc:\\nqiskit.qasm2.exceptions.QASM2ParseError: \"<input>:6,14: \\'reg_2_b\\' is not defined in this scope\"\\n'\n",
      "Failed to execute to_execute.py in Docker.\n",
      "Output: Saved the Pytket circuit to /workspace/to_execute_qc_pytket.qasm\n",
      "Saved the Qiskit circuit to /workspace/to_execute_qc_qiskit.qasm\n",
      "Exported QASM files: [('/workspace/to_execute_qc_pytket.qasm', 'export_to_qasm_with_pytket'), ('/workspace/to_execute_qc_qiskit.qasm', 'export_to_qasm_with_qiskit')]\n",
      "Log has been saved to /workspace/to_execute_48e16c_error.json\n",
      "\n",
      "Program to_execute.py executed successfully.\n",
      "New exception message: The circuits are not equivalent: /workspace/to_execute_qc_pytket.qasm, /workspace/to_execute_qc_qiskit.qasm\n",
      "Error parsing: Command 'python /workspace/to_execute.py' in image 'qiskit_runner' returned non-zero exit status 1: b'  File \"/workspace/to_execute.py\", line 18\\n    , custom_instructions=qasm2.LEGACY_CUSTOM_INSTRUCTIONS)\\nIndentationError: unexpected indent\\n'\n",
      "Failed to execute to_execute.py in Docker.\n",
      "Error parsing: Command 'python /workspace/to_execute.py' in image 'qiskit_runner' returned non-zero exit status 1: b'  File \"/workspace/to_execute.py\", line 11\\n    include \"qelib1.inc\";\\n            ^^^^^^^^^^^^\\nSyntaxError: invalid syntax\\n'\n",
      "Failed to execute to_execute.py in Docker.\n",
      "Error parsing: Command 'python /workspace/to_execute.py' in image 'qiskit_runner' returned non-zero exit status 1: b'Traceback (most recent call last):\\n  File \"/workspace/to_execute.py\", line 10, in <module>\\n    qc = qasm2.loads(\\n  File \"/usr/local/lib/python3.10/site-packages/qiskit/qasm2/__init__.py\", line 587, in loads\\n    return _parse.from_bytecode(\\n  File \"/usr/local/lib/python3.10/site-packages/qiskit/qasm2/parse.py\", line 214, in from_bytecode\\n    for op in bc:\\nqiskit.qasm2.exceptions.QASM2ParseError: \"<input>:5,0: cannot use non-builtin custom instruction \\'cx\\' before definition\"\\n'\n",
      "Failed to execute to_execute.py in Docker.\n",
      "Error parsing: Command 'python /workspace/to_execute.py' in image 'qiskit_runner' returned non-zero exit status 1: b'Traceback (most recent call last):\\n  File \"/workspace/to_execute.py\", line 10, in <module>\\n    qc = qasm2.loads(\\n  File \"/usr/local/lib/python3.10/site-packages/qiskit/qasm2/__init__.py\", line 587, in loads\\n    return _parse.from_bytecode(\\n  File \"/usr/local/lib/python3.10/site-packages/qiskit/qasm2/parse.py\", line 214, in from_bytecode\\n    for op in bc:\\nqiskit.qasm2.exceptions.QASM2ParseError: \"<input>:5,14: \\'reg_2_cin\\' is not defined in this scope\"\\n'\n",
      "Failed to execute to_execute.py in Docker.\n",
      "Error parsing: Command 'python /workspace/to_execute.py' in image 'qiskit_runner' returned non-zero exit status 1: b'Traceback (most recent call last):\\n  File \"/workspace/to_execute.py\", line 10, in <module>\\n    qc = qasm2.loads(\\n  File \"/usr/local/lib/python3.10/site-packages/qiskit/qasm2/__init__.py\", line 587, in loads\\n    return _parse.from_bytecode(\\n  File \"/usr/local/lib/python3.10/site-packages/qiskit/qasm2/parse.py\", line 214, in from_bytecode\\n    for op in bc:\\nqiskit.qasm2.exceptions.QASM2ParseError: \"<input>:4,3: \\'reg_2_a\\' is not defined in this scope\"\\n'\n",
      "Failed to execute to_execute.py in Docker.\n",
      "Output: Saved the Pytket circuit to /workspace/to_execute_qc_pytket.qasm\n",
      "Saved the Qiskit circuit to /workspace/to_execute_qc_qiskit.qasm\n",
      "Exported QASM files: [('/workspace/to_execute_qc_pytket.qasm', 'export_to_qasm_with_pytket'), ('/workspace/to_execute_qc_qiskit.qasm', 'export_to_qasm_with_qiskit')]\n",
      "Log has been saved to /workspace/to_execute_8b1205_error.json\n",
      "\n",
      "Program to_execute.py executed successfully.\n",
      "New exception message: The circuits are not equivalent: /workspace/to_execute_qc_pytket.qasm, /workspace/to_execute_qc_qiskit.qasm\n",
      "Error parsing: Command 'python /workspace/to_execute.py' in image 'qiskit_runner' returned non-zero exit status 1: b'  File \"/workspace/to_execute.py\", line 17\\n    , custom_instructions=qasm2.LEGACY_CUSTOM_INSTRUCTIONS)\\nIndentationError: unexpected indent\\n'\n",
      "Failed to execute to_execute.py in Docker.\n",
      "Error parsing: Command 'python /workspace/to_execute.py' in image 'qiskit_runner' returned non-zero exit status 1: b'  File \"/workspace/to_execute.py\", line 11\\n    include \"qelib1.inc\";\\n            ^^^^^^^^^^^^\\nSyntaxError: invalid syntax\\n'\n",
      "Failed to execute to_execute.py in Docker.\n",
      "Error parsing: Command 'python /workspace/to_execute.py' in image 'qiskit_runner' returned non-zero exit status 1: b'Traceback (most recent call last):\\n  File \"/workspace/to_execute.py\", line 10, in <module>\\n    qc = qasm2.loads(\\n  File \"/usr/local/lib/python3.10/site-packages/qiskit/qasm2/__init__.py\", line 587, in loads\\n    return _parse.from_bytecode(\\n  File \"/usr/local/lib/python3.10/site-packages/qiskit/qasm2/parse.py\", line 214, in from_bytecode\\n    for op in bc:\\nqiskit.qasm2.exceptions.QASM2ParseError: \"<input>:5,0: cannot use non-builtin custom instruction \\'ccx\\' before definition\"\\n'\n",
      "Failed to execute to_execute.py in Docker.\n",
      "Error parsing: Command 'python /workspace/to_execute.py' in image 'qiskit_runner' returned non-zero exit status 1: b'Traceback (most recent call last):\\n  File \"/workspace/to_execute.py\", line 10, in <module>\\n    qc = qasm2.loads(\\n  File \"/usr/local/lib/python3.10/site-packages/qiskit/qasm2/__init__.py\", line 587, in loads\\n    return _parse.from_bytecode(\\n  File \"/usr/local/lib/python3.10/site-packages/qiskit/qasm2/parse.py\", line 214, in from_bytecode\\n    for op in bc:\\nqiskit.qasm2.exceptions.QASM2ParseError: \"<input>:4,4: \\'reg_2_cin\\' is not defined in this scope\"\\n'\n",
      "Failed to execute to_execute.py in Docker.\n",
      "Error parsing: Command 'python /workspace/to_execute.py' in image 'qiskit_runner' returned non-zero exit status 1: b'Traceback (most recent call last):\\n  File \"/workspace/to_execute.py\", line 10, in <module>\\n    qc = qasm2.loads(\\n  File \"/usr/local/lib/python3.10/site-packages/qiskit/qasm2/__init__.py\", line 587, in loads\\n    return _parse.from_bytecode(\\n  File \"/usr/local/lib/python3.10/site-packages/qiskit/qasm2/parse.py\", line 214, in from_bytecode\\n    for op in bc:\\nqiskit.qasm2.exceptions.QASM2ParseError: \"<input>:5,17: \\'reg_2_b\\' is not defined in this scope\"\\n'\n",
      "Failed to execute to_execute.py in Docker.\n",
      "Error parsing: Command 'python /workspace/to_execute.py' in image 'qiskit_runner' returned non-zero exit status 1: b'  File \"/workspace/to_execute.py\", line 11\\n    include \"qelib1.inc\";\\n            ^^^^^^^^^^^^\\nSyntaxError: invalid syntax\\n'\n",
      "Failed to execute to_execute.py in Docker.\n",
      "Error parsing: Command 'python /workspace/to_execute.py' in image 'qiskit_runner' returned non-zero exit status 1: b'  File \"/workspace/to_execute.py\", line 10\\n    qc = qasm2.loads(\\n                    ^\\nSyntaxError: \\'(\\' was never closed\\n'\n",
      "Failed to execute to_execute.py in Docker.\n",
      "Error parsing: Command 'python /workspace/to_execute.py' in image 'qiskit_runner' returned non-zero exit status 1: b'  File \"/workspace/to_execute.py\", line 17\\n    , custom_instructions=qasm2.LEGACY_CUSTOM_INSTRUCTIONS)\\nIndentationError: unexpected indent\\n'\n",
      "Failed to execute to_execute.py in Docker.\n",
      "Error parsing: Command 'python /workspace/to_execute.py' in image 'qiskit_runner' returned non-zero exit status 1: b'  File \"/workspace/to_execute.py\", line 11\\n    include \"qelib1.inc\";\\n            ^^^^^^^^^^^^\\nSyntaxError: invalid syntax\\n'\n",
      "Failed to execute to_execute.py in Docker.\n",
      "Error parsing: Command 'python /workspace/to_execute.py' in image 'qiskit_runner' returned non-zero exit status 1: b'Traceback (most recent call last):\\n  File \"/workspace/to_execute.py\", line 10, in <module>\\n    qc = qasm2.loads(\\n  File \"/usr/local/lib/python3.10/site-packages/qiskit/qasm2/__init__.py\", line 587, in loads\\n    return _parse.from_bytecode(\\n  File \"/usr/local/lib/python3.10/site-packages/qiskit/qasm2/parse.py\", line 214, in from_bytecode\\n    for op in bc:\\nqiskit.qasm2.exceptions.QASM2ParseError: \"<input>:5,0: cannot use non-builtin custom instruction \\'ccx\\' before definition\"\\n'\n",
      "Failed to execute to_execute.py in Docker.\n",
      "Error parsing: Command 'python /workspace/to_execute.py' in image 'qiskit_runner' returned non-zero exit status 1: b'Traceback (most recent call last):\\n  File \"/workspace/to_execute.py\", line 10, in <module>\\n    qc = qasm2.loads(\\n  File \"/usr/local/lib/python3.10/site-packages/qiskit/qasm2/__init__.py\", line 587, in loads\\n    return _parse.from_bytecode(\\n  File \"/usr/local/lib/python3.10/site-packages/qiskit/qasm2/parse.py\", line 214, in from_bytecode\\n    for op in bc:\\nqiskit.qasm2.exceptions.QASM2ParseError: \"<input>:5,4: \\'reg_2_cin\\' is not defined in this scope\"\\n'\n",
      "Failed to execute to_execute.py in Docker.\n",
      "Error parsing: Command 'python /workspace/to_execute.py' in image 'qiskit_runner' returned non-zero exit status 1: b'Traceback (most recent call last):\\n  File \"/workspace/to_execute.py\", line 10, in <module>\\n    qc = qasm2.loads(\\n  File \"/usr/local/lib/python3.10/site-packages/qiskit/qasm2/__init__.py\", line 587, in loads\\n    return _parse.from_bytecode(\\n  File \"/usr/local/lib/python3.10/site-packages/qiskit/qasm2/parse.py\", line 214, in from_bytecode\\n    for op in bc:\\nqiskit.qasm2.exceptions.QASM2ParseError: \"<input>:5,28: \\'reg_2_a\\' is not defined in this scope\"\\n'\n",
      "Failed to execute to_execute.py in Docker.\n",
      "Error parsing: Command 'python /workspace/to_execute.py' in image 'qiskit_runner' returned non-zero exit status 1: b'Traceback (most recent call last):\\n  File \"/workspace/to_execute.py\", line 10, in <module>\\n    qc = qasm2.loads(\\n  File \"/usr/local/lib/python3.10/site-packages/qiskit/qasm2/__init__.py\", line 587, in loads\\n    return _parse.from_bytecode(\\n  File \"/usr/local/lib/python3.10/site-packages/qiskit/qasm2/parse.py\", line 214, in from_bytecode\\n    for op in bc:\\nqiskit.qasm2.exceptions.QASM2ParseError: \"<input>:5,17: \\'reg_2_b\\' is not defined in this scope\"\\n'\n",
      "Failed to execute to_execute.py in Docker.\n",
      "Output: Saved the Pytket circuit to /workspace/to_execute_qc_pytket.qasm\n",
      "Saved the Qiskit circuit to /workspace/to_execute_qc_qiskit.qasm\n",
      "Exported QASM files: [('/workspace/to_execute_qc_pytket.qasm', 'export_to_qasm_with_pytket'), ('/workspace/to_execute_qc_qiskit.qasm', 'export_to_qasm_with_qiskit')]\n",
      "The circuits are equivalent: /workspace/to_execute_qc_pytket.qasm, /workspace/to_execute_qc_qiskit.qasm\n",
      "\n",
      "Program to_execute.py executed successfully.\n",
      "Error parsing: Command 'python /workspace/to_execute.py' in image 'qiskit_runner' returned non-zero exit status 1: b'  File \"/workspace/to_execute.py\", line 11\\n    include \"qelib1.inc\";\\n            ^^^^^^^^^^^^\\nSyntaxError: invalid syntax\\n'\n",
      "Failed to execute to_execute.py in Docker.\n",
      "Error parsing: Command 'python /workspace/to_execute.py' in image 'qiskit_runner' returned non-zero exit status 1: b'  File \"/workspace/to_execute.py\", line 10\\n    qc = qasm2.loads(\\n                    ^\\nSyntaxError: \\'(\\' was never closed\\n'\n",
      "Failed to execute to_execute.py in Docker.\n"
     ]
    },
    {
     "data": {
      "text/html": [
       "<pre style=\"white-space:pre;overflow-x:auto;line-height:normal;font-family:Menlo,'DejaVu Sans Mono',consolas,'Courier New',monospace\"><span style=\"color: #7fbfbf; text-decoration-color: #7fbfbf\">[15:15:46] </span><span style=\"color: #008000; text-decoration-color: #008000\">Minimized file saved as:</span>                                                        <a href=\"file:///home/paltenmo/projects/crossplatform/analysis_and_reporting/ddmin_target_file.py\" target=\"_blank\"><span style=\"color: #7f7f7f; text-decoration-color: #7f7f7f\">ddmin_target_file.py</span></a><span style=\"color: #7f7f7f; text-decoration-color: #7f7f7f\">:</span><a href=\"file:///home/paltenmo/projects/crossplatform/analysis_and_reporting/ddmin_target_file.py#240\" target=\"_blank\"><span style=\"color: #7f7f7f; text-decoration-color: #7f7f7f\">240</span></a>\n",
       "<span style=\"color: #7fbfbf; text-decoration-color: #7fbfbf\">           </span>..<span style=\"color: #800080; text-decoration-color: #800080\">/reports/v009/2024_11_21__15_12/</span><span style=\"color: #ff00ff; text-decoration-color: #ff00ff\">qiskit_circuit_5q_10g_5399_c4b732_f59bef_erro</span> <span style=\"color: #7f7f7f; text-decoration-color: #7f7f7f\">                        </span>\n",
       "<span style=\"color: #7fbfbf; text-decoration-color: #7fbfbf\">           </span><span style=\"color: #ff00ff; text-decoration-color: #ff00ff\">r_min.py</span>                                                                        <span style=\"color: #7f7f7f; text-decoration-color: #7f7f7f\">                        </span>\n",
       "</pre>\n"
      ],
      "text/plain": [
       "\u001b[2;36m[15:15:46]\u001b[0m\u001b[2;36m \u001b[0m\u001b[32mMinimized file saved as:\u001b[0m                                                        \u001b]8;id=979709;file:///home/paltenmo/projects/crossplatform/analysis_and_reporting/ddmin_target_file.py\u001b\\\u001b[2mddmin_target_file.py\u001b[0m\u001b]8;;\u001b\\\u001b[2m:\u001b[0m\u001b]8;id=722071;file:///home/paltenmo/projects/crossplatform/analysis_and_reporting/ddmin_target_file.py#240\u001b\\\u001b[2m240\u001b[0m\u001b]8;;\u001b\\\n",
       "\u001b[2;36m           \u001b[0m..\u001b[35m/reports/v009/2024_11_21__15_12/\u001b[0m\u001b[95mqiskit_circuit_5q_10g_5399_c4b732_f59bef_erro\u001b[0m \u001b[2m                        \u001b[0m\n",
       "\u001b[2;36m           \u001b[0m\u001b[95mr_min.py\u001b[0m                                                                        \u001b[2m                        \u001b[0m\n"
      ]
     },
     "metadata": {},
     "output_type": "display_data"
    },
    {
     "name": "stdout",
     "output_type": "stream",
     "text": [
      "Output: Saved the Pytket circuit to /workspace/qiskit_circuit_5q_10g_5399_c4b732_f59bef_error_min_qc_pytket.qasm\n",
      "Saved the Qiskit circuit to /workspace/qiskit_circuit_5q_10g_5399_c4b732_f59bef_error_min_qc_qiskit.qasm\n",
      "Exported QASM files: [('/workspace/qiskit_circuit_5q_10g_5399_c4b732_f59bef_error_min_qc_pytket.qasm', 'export_to_qasm_with_pytket'), ('/workspace/qiskit_circuit_5q_10g_5399_c4b732_f59bef_error_min_qc_qiskit.qasm', 'export_to_qasm_with_qiskit')]\n",
      "Log has been saved to /workspace/qiskit_circuit_5q_10g_5399_c4b732_f59bef_error_min_ecf2b2_error.json\n",
      "\n"
     ]
    },
    {
     "data": {
      "text/html": [
       "<pre style=\"white-space:pre;overflow-x:auto;line-height:normal;font-family:Menlo,'DejaVu Sans Mono',consolas,'Courier New',monospace\"><span style=\"color: #7fbfbf; text-decoration-color: #7fbfbf\">[15:15:53] </span>Program qiskit_circuit_5q_10g_5399_c4b732_f59bef_error_min.py executed              <a href=\"file:///home/paltenmo/projects/crossplatform/generators/docker_tooling.py\" target=\"_blank\"><span style=\"color: #7f7f7f; text-decoration-color: #7f7f7f\">docker_tooling.py</span></a><span style=\"color: #7f7f7f; text-decoration-color: #7f7f7f\">:</span><a href=\"file:///home/paltenmo/projects/crossplatform/generators/docker_tooling.py#46\" target=\"_blank\"><span style=\"color: #7f7f7f; text-decoration-color: #7f7f7f\">46</span></a>\n",
       "<span style=\"color: #7fbfbf; text-decoration-color: #7fbfbf\">           </span>successfully.                                                                       <span style=\"color: #7f7f7f; text-decoration-color: #7f7f7f\">                    </span>\n",
       "</pre>\n"
      ],
      "text/plain": [
       "\u001b[2;36m[15:15:53]\u001b[0m\u001b[2;36m \u001b[0mProgram qiskit_circuit_5q_10g_5399_c4b732_f59bef_error_min.py executed              \u001b]8;id=874944;file:///home/paltenmo/projects/crossplatform/generators/docker_tooling.py\u001b\\\u001b[2mdocker_tooling.py\u001b[0m\u001b]8;;\u001b\\\u001b[2m:\u001b[0m\u001b]8;id=661643;file:///home/paltenmo/projects/crossplatform/generators/docker_tooling.py#46\u001b\\\u001b[2m46\u001b[0m\u001b]8;;\u001b\\\n",
       "\u001b[2;36m           \u001b[0msuccessfully.                                                                       \u001b[2m                    \u001b[0m\n"
      ]
     },
     "metadata": {},
     "output_type": "display_data"
    },
    {
     "data": {
      "application/vnd.jupyter.widget-view+json": {
       "model_id": "7b1763ff191e45be89c6aa8bddf138a2",
       "version_major": 2,
       "version_minor": 0
      },
      "text/plain": [
       "Executing:   0%|          | 0/13 [00:00<?, ?cell/s]"
      ]
     },
     "metadata": {},
     "output_type": "display_data"
    },
    {
     "data": {
      "text/html": [
       "<pre style=\"white-space:pre;overflow-x:auto;line-height:normal;font-family:Menlo,'DejaVu Sans Mono',consolas,'Courier New',monospace\"><span style=\"color: #7fbfbf; text-decoration-color: #7fbfbf\">[15:15:56] </span>Analysis notebook executed: ..<span style=\"color: #800080; text-decoration-color: #800080\">/reports/v009/2024_11_21__15_12/</span><span style=\"color: #ff00ff; text-decoration-color: #ff00ff\">analysis_output.ipynb</span>        <a href=\"file:///home/paltenmo/projects/crossplatform/analysis_and_reporting/triage.py\" target=\"_blank\"><span style=\"color: #7f7f7f; text-decoration-color: #7f7f7f\">triage.py</span></a><span style=\"color: #7f7f7f; text-decoration-color: #7f7f7f\">:</span><a href=\"file:///home/paltenmo/projects/crossplatform/analysis_and_reporting/triage.py#163\" target=\"_blank\"><span style=\"color: #7f7f7f; text-decoration-color: #7f7f7f\">163</span></a>\n",
       "</pre>\n"
      ],
      "text/plain": [
       "\u001b[2;36m[15:15:56]\u001b[0m\u001b[2;36m \u001b[0mAnalysis notebook executed: ..\u001b[35m/reports/v009/2024_11_21__15_12/\u001b[0m\u001b[95manalysis_output.ipynb\u001b[0m        \u001b]8;id=117710;file:///home/paltenmo/projects/crossplatform/analysis_and_reporting/triage.py\u001b\\\u001b[2mtriage.py\u001b[0m\u001b]8;;\u001b\\\u001b[2m:\u001b[0m\u001b]8;id=465129;file:///home/paltenmo/projects/crossplatform/analysis_and_reporting/triage.py#163\u001b\\\u001b[2m163\u001b[0m\u001b]8;;\u001b\\\n"
      ]
     },
     "metadata": {},
     "output_type": "display_data"
    },
    {
     "data": {
      "text/html": [
       "<pre style=\"white-space:pre;overflow-x:auto;line-height:normal;font-family:Menlo,'DejaVu Sans Mono',consolas,'Courier New',monospace\"><span style=\"color: #7fbfbf; text-decoration-color: #7fbfbf\">           </span>Created report folder: ..<span style=\"color: #800080; text-decoration-color: #800080\">/reports/v009/</span><span style=\"color: #ff00ff; text-decoration-color: #ff00ff\">2024_11_21__15_15</span>                                   <a href=\"file:///home/paltenmo/projects/crossplatform/analysis_and_reporting/triage.py\" target=\"_blank\"><span style=\"color: #7f7f7f; text-decoration-color: #7f7f7f\">triage.py</span></a><span style=\"color: #7f7f7f; text-decoration-color: #7f7f7f\">:</span><a href=\"file:///home/paltenmo/projects/crossplatform/analysis_and_reporting/triage.py#131\" target=\"_blank\"><span style=\"color: #7f7f7f; text-decoration-color: #7f7f7f\">131</span></a>\n",
       "</pre>\n"
      ],
      "text/plain": [
       "\u001b[2;36m          \u001b[0m\u001b[2;36m \u001b[0mCreated report folder: ..\u001b[35m/reports/v009/\u001b[0m\u001b[95m2024_11_21__15_15\u001b[0m                                   \u001b]8;id=102550;file:///home/paltenmo/projects/crossplatform/analysis_and_reporting/triage.py\u001b\\\u001b[2mtriage.py\u001b[0m\u001b]8;;\u001b\\\u001b[2m:\u001b[0m\u001b]8;id=719536;file:///home/paltenmo/projects/crossplatform/analysis_and_reporting/triage.py#131\u001b\\\u001b[2m131\u001b[0m\u001b]8;;\u001b\\\n"
      ]
     },
     "metadata": {},
     "output_type": "display_data"
    },
    {
     "data": {
      "text/html": [
       "<pre style=\"white-space:pre;overflow-x:auto;line-height:normal;font-family:Menlo,'DejaVu Sans Mono',consolas,'Courier New',monospace\"><span style=\"color: #7fbfbf; text-decoration-color: #7fbfbf\">           </span>Copied files to: ..<span style=\"color: #800080; text-decoration-color: #800080\">/reports/v009/</span><span style=\"color: #ff00ff; text-decoration-color: #ff00ff\">2024_11_21__15_15</span>                                         <a href=\"file:///home/paltenmo/projects/crossplatform/analysis_and_reporting/triage.py\" target=\"_blank\"><span style=\"color: #7f7f7f; text-decoration-color: #7f7f7f\">triage.py</span></a><span style=\"color: #7f7f7f; text-decoration-color: #7f7f7f\">:</span><a href=\"file:///home/paltenmo/projects/crossplatform/analysis_and_reporting/triage.py#140\" target=\"_blank\"><span style=\"color: #7f7f7f; text-decoration-color: #7f7f7f\">140</span></a>\n",
       "</pre>\n"
      ],
      "text/plain": [
       "\u001b[2;36m          \u001b[0m\u001b[2;36m \u001b[0mCopied files to: ..\u001b[35m/reports/v009/\u001b[0m\u001b[95m2024_11_21__15_15\u001b[0m                                         \u001b]8;id=254451;file:///home/paltenmo/projects/crossplatform/analysis_and_reporting/triage.py\u001b\\\u001b[2mtriage.py\u001b[0m\u001b]8;;\u001b\\\u001b[2m:\u001b[0m\u001b]8;id=924520;file:///home/paltenmo/projects/crossplatform/analysis_and_reporting/triage.py#140\u001b\\\u001b[2m140\u001b[0m\u001b]8;;\u001b\\\n"
      ]
     },
     "metadata": {},
     "output_type": "display_data"
    },
    {
     "data": {
      "text/html": [
       "<pre style=\"white-space:pre;overflow-x:auto;line-height:normal;font-family:Menlo,'DejaVu Sans Mono',consolas,'Courier New',monospace\"><span style=\"color: #7fbfbf; text-decoration-color: #7fbfbf\">[15:15:56] </span>Involved functions:                                                             <a href=\"file:///home/paltenmo/projects/crossplatform/analysis_and_reporting/ddmin_target_file.py\" target=\"_blank\"><span style=\"color: #7f7f7f; text-decoration-color: #7f7f7f\">ddmin_target_file.py</span></a><span style=\"color: #7f7f7f; text-decoration-color: #7f7f7f\">:</span><a href=\"file:///home/paltenmo/projects/crossplatform/analysis_and_reporting/ddmin_target_file.py#206\" target=\"_blank\"><span style=\"color: #7f7f7f; text-decoration-color: #7f7f7f\">206</span></a>\n",
       "</pre>\n"
      ],
      "text/plain": [
       "\u001b[2;36m[15:15:56]\u001b[0m\u001b[2;36m \u001b[0mInvolved functions:                                                             \u001b]8;id=157722;file:///home/paltenmo/projects/crossplatform/analysis_and_reporting/ddmin_target_file.py\u001b\\\u001b[2mddmin_target_file.py\u001b[0m\u001b]8;;\u001b\\\u001b[2m:\u001b[0m\u001b]8;id=705551;file:///home/paltenmo/projects/crossplatform/analysis_and_reporting/ddmin_target_file.py#206\u001b\\\u001b[2m206\u001b[0m\u001b]8;;\u001b\\\n"
      ]
     },
     "metadata": {},
     "output_type": "display_data"
    },
    {
     "data": {
      "text/html": [
       "<pre style=\"white-space:pre;overflow-x:auto;line-height:normal;font-family:Menlo,'DejaVu Sans Mono',consolas,'Courier New',monospace\"><span style=\"color: #7fbfbf; text-decoration-color: #7fbfbf\">           </span>  - compare_qasm_via_qcec                                                       <a href=\"file:///home/paltenmo/projects/crossplatform/analysis_and_reporting/ddmin_target_file.py\" target=\"_blank\"><span style=\"color: #7f7f7f; text-decoration-color: #7f7f7f\">ddmin_target_file.py</span></a><span style=\"color: #7f7f7f; text-decoration-color: #7f7f7f\">:</span><a href=\"file:///home/paltenmo/projects/crossplatform/analysis_and_reporting/ddmin_target_file.py#208\" target=\"_blank\"><span style=\"color: #7f7f7f; text-decoration-color: #7f7f7f\">208</span></a>\n",
       "</pre>\n"
      ],
      "text/plain": [
       "\u001b[2;36m          \u001b[0m\u001b[2;36m \u001b[0m  - compare_qasm_via_qcec                                                       \u001b]8;id=791955;file:///home/paltenmo/projects/crossplatform/analysis_and_reporting/ddmin_target_file.py\u001b\\\u001b[2mddmin_target_file.py\u001b[0m\u001b]8;;\u001b\\\u001b[2m:\u001b[0m\u001b]8;id=608482;file:///home/paltenmo/projects/crossplatform/analysis_and_reporting/ddmin_target_file.py#208\u001b\\\u001b[2m208\u001b[0m\u001b]8;;\u001b\\\n"
      ]
     },
     "metadata": {},
     "output_type": "display_data"
    },
    {
     "data": {
      "text/html": [
       "<pre style=\"white-space:pre;overflow-x:auto;line-height:normal;font-family:Menlo,'DejaVu Sans Mono',consolas,'Courier New',monospace\"><span style=\"color: #7fbfbf; text-decoration-color: #7fbfbf\">           </span>  - export_to_qasm_with_bqskit                                                  <a href=\"file:///home/paltenmo/projects/crossplatform/analysis_and_reporting/ddmin_target_file.py\" target=\"_blank\"><span style=\"color: #7f7f7f; text-decoration-color: #7f7f7f\">ddmin_target_file.py</span></a><span style=\"color: #7f7f7f; text-decoration-color: #7f7f7f\">:</span><a href=\"file:///home/paltenmo/projects/crossplatform/analysis_and_reporting/ddmin_target_file.py#208\" target=\"_blank\"><span style=\"color: #7f7f7f; text-decoration-color: #7f7f7f\">208</span></a>\n",
       "</pre>\n"
      ],
      "text/plain": [
       "\u001b[2;36m          \u001b[0m\u001b[2;36m \u001b[0m  - export_to_qasm_with_bqskit                                                  \u001b]8;id=10425;file:///home/paltenmo/projects/crossplatform/analysis_and_reporting/ddmin_target_file.py\u001b\\\u001b[2mddmin_target_file.py\u001b[0m\u001b]8;;\u001b\\\u001b[2m:\u001b[0m\u001b]8;id=282882;file:///home/paltenmo/projects/crossplatform/analysis_and_reporting/ddmin_target_file.py#208\u001b\\\u001b[2m208\u001b[0m\u001b]8;;\u001b\\\n"
      ]
     },
     "metadata": {},
     "output_type": "display_data"
    },
    {
     "data": {
      "text/html": [
       "<pre style=\"white-space:pre;overflow-x:auto;line-height:normal;font-family:Menlo,'DejaVu Sans Mono',consolas,'Courier New',monospace\"><span style=\"color: #7fbfbf; text-decoration-color: #7fbfbf\">[15:15:57] </span>  - export_to_qasm_with_pytket                                                  <a href=\"file:///home/paltenmo/projects/crossplatform/analysis_and_reporting/ddmin_target_file.py\" target=\"_blank\"><span style=\"color: #7f7f7f; text-decoration-color: #7f7f7f\">ddmin_target_file.py</span></a><span style=\"color: #7f7f7f; text-decoration-color: #7f7f7f\">:</span><a href=\"file:///home/paltenmo/projects/crossplatform/analysis_and_reporting/ddmin_target_file.py#208\" target=\"_blank\"><span style=\"color: #7f7f7f; text-decoration-color: #7f7f7f\">208</span></a>\n",
       "</pre>\n"
      ],
      "text/plain": [
       "\u001b[2;36m[15:15:57]\u001b[0m\u001b[2;36m \u001b[0m  - export_to_qasm_with_pytket                                                  \u001b]8;id=550352;file:///home/paltenmo/projects/crossplatform/analysis_and_reporting/ddmin_target_file.py\u001b\\\u001b[2mddmin_target_file.py\u001b[0m\u001b]8;;\u001b\\\u001b[2m:\u001b[0m\u001b]8;id=158406;file:///home/paltenmo/projects/crossplatform/analysis_and_reporting/ddmin_target_file.py#208\u001b\\\u001b[2m208\u001b[0m\u001b]8;;\u001b\\\n"
      ]
     },
     "metadata": {},
     "output_type": "display_data"
    },
    {
     "name": "stdout",
     "output_type": "stream",
     "text": [
      "Error parsing: Command 'python /workspace/to_execute.py' in image 'qiskit_runner' returned non-zero exit status 1: b'Traceback (most recent call last):\\n  File \"/workspace/to_execute.py\", line 106, in <module>\\n    target_qc = qc\\nNameError: name \\'qc\\' is not defined\\n'\n",
      "Failed to execute to_execute.py in Docker.\n",
      "Output: Saved the BQSKit circuit to /workspace/to_execute_qc_bqskit.qasm\n",
      "Saved the Pytket circuit to /workspace/to_execute_qc_pytket.qasm\n",
      "Exported QASM files: [('/workspace/to_execute_qc_bqskit.qasm', 'export_to_qasm_with_bqskit'), ('/workspace/to_execute_qc_pytket.qasm', 'export_to_qasm_with_pytket')]\n",
      "Log has been saved to /workspace/to_execute_1be6f2_error.json\n",
      "\n",
      "Program to_execute.py executed successfully.\n",
      "New exception message: The circuits are not equivalent: /workspace/to_execute_qc_bqskit.qasm, /workspace/to_execute_qc_pytket.qasm\n",
      "Error parsing: Command 'python /workspace/to_execute.py' in image 'qiskit_runner' returned non-zero exit status 1: b'  File \"/workspace/to_execute.py\", line 20\\n    , custom_instructions=qasm2.LEGACY_CUSTOM_INSTRUCTIONS)\\n                                                          ^\\nSyntaxError: unmatched \\')\\'\\n'\n",
      "Failed to execute to_execute.py in Docker.\n",
      "Error parsing: Command 'python /workspace/to_execute.py' in image 'qiskit_runner' returned non-zero exit status 1: b'  File \"/workspace/to_execute.py\", line 10\\n    qc = qasm2.loads(\\n                    ^\\nSyntaxError: \\'(\\' was never closed\\n'\n",
      "Failed to execute to_execute.py in Docker.\n",
      "Error parsing: Command 'python /workspace/to_execute.py' in image 'qiskit_runner' returned non-zero exit status 1: b'  File \"/workspace/to_execute.py\", line 27\\n    , custom_instructions=qasm2.LEGACY_CUSTOM_INSTRUCTIONS)\\n                                                          ^\\nSyntaxError: unmatched \\')\\'\\n'\n",
      "Failed to execute to_execute.py in Docker.\n",
      "Error parsing: Command 'python /workspace/to_execute.py' in image 'qiskit_runner' returned non-zero exit status 1: b'Traceback (most recent call last):\\n  File \"/workspace/to_execute.py\", line 10, in <module>\\n    qc = qasm2.loads(\\n  File \"/usr/local/lib/python3.10/site-packages/qiskit/qasm2/__init__.py\", line 587, in loads\\n    return _parse.from_bytecode(\\n  File \"/usr/local/lib/python3.10/site-packages/qiskit/qasm2/parse.py\", line 214, in from_bytecode\\n    for op in bc:\\nqiskit.qasm2.exceptions.QASM2ParseError: \"<input>:6,3: \\'reg_2_a\\' is not defined in this scope\"\\n'\n",
      "Failed to execute to_execute.py in Docker.\n",
      "Output: Saved the BQSKit circuit to /workspace/to_execute_qc_bqskit.qasm\n",
      "Saved the Pytket circuit to /workspace/to_execute_qc_pytket.qasm\n",
      "Exported QASM files: [('/workspace/to_execute_qc_bqskit.qasm', 'export_to_qasm_with_bqskit'), ('/workspace/to_execute_qc_pytket.qasm', 'export_to_qasm_with_pytket')]\n",
      "Log has been saved to /workspace/to_execute_1b63f2_error.json\n",
      "\n",
      "Program to_execute.py executed successfully.\n",
      "New exception message: The circuits are not equivalent: /workspace/to_execute_qc_bqskit.qasm, /workspace/to_execute_qc_pytket.qasm\n",
      "Error parsing: Command 'python /workspace/to_execute.py' in image 'qiskit_runner' returned non-zero exit status 1: b'  File \"/workspace/to_execute.py\", line 19\\n    , custom_instructions=qasm2.LEGACY_CUSTOM_INSTRUCTIONS)\\n                                                          ^\\nSyntaxError: unmatched \\')\\'\\n'\n",
      "Failed to execute to_execute.py in Docker.\n",
      "Error parsing: Command 'python /workspace/to_execute.py' in image 'qiskit_runner' returned non-zero exit status 1: b'Traceback (most recent call last):\\n  File \"/workspace/to_execute.py\", line 10, in <module>\\n    qc = qasm2.loads(\\n  File \"/usr/local/lib/python3.10/site-packages/qiskit/qasm2/__init__.py\", line 587, in loads\\n    return _parse.from_bytecode(\\n  File \"/usr/local/lib/python3.10/site-packages/qiskit/qasm2/parse.py\", line 214, in from_bytecode\\n    for op in bc:\\nqiskit.qasm2.exceptions.QASM2ParseError: \"<input>:4,2: \\'reg_1_q\\' is not defined in this scope\"\\n'\n",
      "Failed to execute to_execute.py in Docker.\n",
      "Error parsing: Command 'python /workspace/to_execute.py' in image 'qiskit_runner' returned non-zero exit status 1: b'  File \"/workspace/to_execute.py\", line 10\\n    qc = qasm2.loads(\\n                    ^\\nSyntaxError: \\'(\\' was never closed\\n'\n",
      "Failed to execute to_execute.py in Docker.\n",
      "Error parsing: Command 'python /workspace/to_execute.py' in image 'qiskit_runner' returned non-zero exit status 1: b'  File \"/workspace/to_execute.py\", line 21\\n    , custom_instructions=qasm2.LEGACY_CUSTOM_INSTRUCTIONS)\\n                                                          ^\\nSyntaxError: unmatched \\')\\'\\n'\n",
      "Failed to execute to_execute.py in Docker.\n",
      "Error parsing: Command 'python /workspace/to_execute.py' in image 'qiskit_runner' returned non-zero exit status 1: b'Traceback (most recent call last):\\n  File \"/workspace/to_execute.py\", line 10, in <module>\\n    qc = qasm2.loads(\\n  File \"/usr/local/lib/python3.10/site-packages/qiskit/qasm2/__init__.py\", line 587, in loads\\n    return _parse.from_bytecode(\\n  File \"/usr/local/lib/python3.10/site-packages/qiskit/qasm2/parse.py\", line 214, in from_bytecode\\n    for op in bc:\\nqiskit.qasm2.exceptions.QASM2ParseError: \"<input>:6,0: cannot use non-builtin custom instruction \\'h\\' before definition\"\\n'\n",
      "Failed to execute to_execute.py in Docker.\n",
      "Error parsing: Command 'python /workspace/to_execute.py' in image 'qiskit_runner' returned non-zero exit status 1: b'Traceback (most recent call last):\\n  File \"/workspace/to_execute.py\", line 10, in <module>\\n    qc = qasm2.loads(\\n  File \"/usr/local/lib/python3.10/site-packages/qiskit/qasm2/__init__.py\", line 587, in loads\\n    return _parse.from_bytecode(\\n  File \"/usr/local/lib/python3.10/site-packages/qiskit/qasm2/parse.py\", line 214, in from_bytecode\\n    for op in bc:\\nqiskit.qasm2.exceptions.QASM2ParseError: \"<input>:8,3: \\'reg_2_a\\' is not defined in this scope\"\\n'\n",
      "Failed to execute to_execute.py in Docker.\n",
      "Error parsing: Command 'python /workspace/to_execute.py' in image 'qiskit_runner' returned non-zero exit status 1: b'Traceback (most recent call last):\\n  File \"/workspace/to_execute.py\", line 10, in <module>\\n    qc = qasm2.loads(\\n  File \"/usr/local/lib/python3.10/site-packages/qiskit/qasm2/__init__.py\", line 587, in loads\\n    return _parse.from_bytecode(\\n  File \"/usr/local/lib/python3.10/site-packages/qiskit/qasm2/parse.py\", line 214, in from_bytecode\\n    for op in bc:\\nqiskit.qasm2.exceptions.QASM2ParseError: \"<input>:9,14: \\'reg_2_cout\\' is not defined in this scope\"\\n'\n",
      "Failed to execute to_execute.py in Docker.\n",
      "Output: Saved the BQSKit circuit to /workspace/to_execute_qc_bqskit.qasm\n",
      "Saved the Pytket circuit to /workspace/to_execute_qc_pytket.qasm\n",
      "Exported QASM files: [('/workspace/to_execute_qc_bqskit.qasm', 'export_to_qasm_with_bqskit'), ('/workspace/to_execute_qc_pytket.qasm', 'export_to_qasm_with_pytket')]\n",
      "The circuits are equivalent: /workspace/to_execute_qc_bqskit.qasm, /workspace/to_execute_qc_pytket.qasm\n",
      "\n",
      "Program to_execute.py executed successfully.\n",
      "Error parsing: Command 'python /workspace/to_execute.py' in image 'qiskit_runner' returned non-zero exit status 1: b'  File \"/workspace/to_execute.py\", line 10\\n    qc = qasm2.loads(\\n                    ^\\nSyntaxError: \\'(\\' was never closed\\n'\n",
      "Failed to execute to_execute.py in Docker.\n",
      "Error parsing: Command 'python /workspace/to_execute.py' in image 'qiskit_runner' returned non-zero exit status 1: b'  File \"/workspace/to_execute.py\", line 24\\n    , custom_instructions=qasm2.LEGACY_CUSTOM_INSTRUCTIONS)\\nIndentationError: unexpected indent\\n'\n",
      "Failed to execute to_execute.py in Docker.\n",
      "Output: Saved the BQSKit circuit to /workspace/to_execute_qc_bqskit.qasm\n",
      "Saved the Pytket circuit to /workspace/to_execute_qc_pytket.qasm\n",
      "Exported QASM files: [('/workspace/to_execute_qc_bqskit.qasm', 'export_to_qasm_with_bqskit'), ('/workspace/to_execute_qc_pytket.qasm', 'export_to_qasm_with_pytket')]\n",
      "Log has been saved to /workspace/to_execute_0482e1_error.json\n",
      "\n",
      "Program to_execute.py executed successfully.\n",
      "New exception message: The circuits are not equivalent: /workspace/to_execute_qc_bqskit.qasm, /workspace/to_execute_qc_pytket.qasm\n",
      "Error parsing: Command 'python /workspace/to_execute.py' in image 'qiskit_runner' returned non-zero exit status 1: b'  File \"/workspace/to_execute.py\", line 23\\n    , custom_instructions=qasm2.LEGACY_CUSTOM_INSTRUCTIONS)\\nIndentationError: unexpected indent\\n'\n",
      "Failed to execute to_execute.py in Docker.\n",
      "Error parsing: Command 'python /workspace/to_execute.py' in image 'qiskit_runner' returned non-zero exit status 1: b'  File \"/workspace/to_execute.py\", line 11\\n    OPENQASM 2.0;\\n    ^^^^^^^^^^^^\\nSyntaxError: invalid syntax. Perhaps you forgot a comma?\\n'\n",
      "Failed to execute to_execute.py in Docker.\n",
      "Output: Saved the BQSKit circuit to /workspace/to_execute_qc_bqskit.qasm\n",
      "Saved the Pytket circuit to /workspace/to_execute_qc_pytket.qasm\n",
      "Exported QASM files: [('/workspace/to_execute_qc_bqskit.qasm', 'export_to_qasm_with_bqskit'), ('/workspace/to_execute_qc_pytket.qasm', 'export_to_qasm_with_pytket')]\n",
      "Log has been saved to /workspace/to_execute_616c19_error.json\n",
      "\n",
      "Program to_execute.py executed successfully.\n",
      "New exception message: The circuits are not equivalent: /workspace/to_execute_qc_bqskit.qasm, /workspace/to_execute_qc_pytket.qasm\n",
      "Error parsing: Command 'python /workspace/to_execute.py' in image 'qiskit_runner' returned non-zero exit status 1: b'  File \"/workspace/to_execute.py\", line 22\\n    , custom_instructions=qasm2.LEGACY_CUSTOM_INSTRUCTIONS)\\nIndentationError: unexpected indent\\n'\n",
      "Failed to execute to_execute.py in Docker.\n",
      "Error parsing: Command 'python /workspace/to_execute.py' in image 'qiskit_runner' returned non-zero exit status 1: b'  File \"/workspace/to_execute.py\", line 11\\n    include \"qelib1.inc\";\\n            ^^^^^^^^^^^^\\nSyntaxError: invalid syntax\\n'\n",
      "Failed to execute to_execute.py in Docker.\n",
      "Error parsing: Command 'python /workspace/to_execute.py' in image 'qiskit_runner' returned non-zero exit status 1: b'Traceback (most recent call last):\\n  File \"/workspace/to_execute.py\", line 10, in <module>\\n    qc = qasm2.loads(\\n  File \"/usr/local/lib/python3.10/site-packages/qiskit/qasm2/__init__.py\", line 587, in loads\\n    return _parse.from_bytecode(\\n  File \"/usr/local/lib/python3.10/site-packages/qiskit/qasm2/parse.py\", line 214, in from_bytecode\\n    for op in bc:\\nqiskit.qasm2.exceptions.QASM2ParseError: \"<input>:6,0: cannot use non-builtin custom instruction \\'h\\' before definition\"\\n'\n",
      "Failed to execute to_execute.py in Docker.\n",
      "Output: Saved the BQSKit circuit to /workspace/to_execute_qc_bqskit.qasm\n",
      "Saved the Pytket circuit to /workspace/to_execute_qc_pytket.qasm\n",
      "Exported QASM files: [('/workspace/to_execute_qc_bqskit.qasm', 'export_to_qasm_with_bqskit'), ('/workspace/to_execute_qc_pytket.qasm', 'export_to_qasm_with_pytket')]\n",
      "The circuits are equivalent: /workspace/to_execute_qc_bqskit.qasm, /workspace/to_execute_qc_pytket.qasm\n",
      "\n",
      "Program to_execute.py executed successfully.\n",
      "Error parsing: Command 'python /workspace/to_execute.py' in image 'qiskit_runner' returned non-zero exit status 1: b'Traceback (most recent call last):\\n  File \"/workspace/to_execute.py\", line 10, in <module>\\n    qc = qasm2.loads(\\n  File \"/usr/local/lib/python3.10/site-packages/qiskit/qasm2/__init__.py\", line 587, in loads\\n    return _parse.from_bytecode(\\n  File \"/usr/local/lib/python3.10/site-packages/qiskit/qasm2/parse.py\", line 214, in from_bytecode\\n    for op in bc:\\nqiskit.qasm2.exceptions.QASM2ParseError: \"<input>:8,3: \\'reg_2_a\\' is not defined in this scope\"\\n'\n",
      "Failed to execute to_execute.py in Docker.\n",
      "Error parsing: Command 'python /workspace/to_execute.py' in image 'qiskit_runner' returned non-zero exit status 1: b'Traceback (most recent call last):\\n  File \"/workspace/to_execute.py\", line 10, in <module>\\n    qc = qasm2.loads(\\n  File \"/usr/local/lib/python3.10/site-packages/qiskit/qasm2/__init__.py\", line 587, in loads\\n    return _parse.from_bytecode(\\n  File \"/usr/local/lib/python3.10/site-packages/qiskit/qasm2/parse.py\", line 214, in from_bytecode\\n    for op in bc:\\nqiskit.qasm2.exceptions.QASM2ParseError: \"<input>:9,14: \\'reg_2_cout\\' is not defined in this scope\"\\n'\n",
      "Failed to execute to_execute.py in Docker.\n",
      "Output: Saved the BQSKit circuit to /workspace/to_execute_qc_bqskit.qasm\n",
      "Saved the Pytket circuit to /workspace/to_execute_qc_pytket.qasm\n",
      "Exported QASM files: [('/workspace/to_execute_qc_bqskit.qasm', 'export_to_qasm_with_bqskit'), ('/workspace/to_execute_qc_pytket.qasm', 'export_to_qasm_with_pytket')]\n",
      "Log has been saved to /workspace/to_execute_cdd1ce_error.json\n",
      "\n",
      "Program to_execute.py executed successfully.\n",
      "New exception message: The circuits are not equivalent: /workspace/to_execute_qc_bqskit.qasm, /workspace/to_execute_qc_pytket.qasm\n",
      "Error parsing: Command 'python /workspace/to_execute.py' in image 'qiskit_runner' returned non-zero exit status 1: b'  File \"/workspace/to_execute.py\", line 20\\n    , custom_instructions=qasm2.LEGACY_CUSTOM_INSTRUCTIONS)\\nIndentationError: unexpected indent\\n'\n",
      "Failed to execute to_execute.py in Docker.\n",
      "Error parsing: Command 'python /workspace/to_execute.py' in image 'qiskit_runner' returned non-zero exit status 1: b'  File \"/workspace/to_execute.py\", line 11\\n    include \"qelib1.inc\";\\n            ^^^^^^^^^^^^\\nSyntaxError: invalid syntax\\n'\n",
      "Failed to execute to_execute.py in Docker.\n",
      "Error parsing: Command 'python /workspace/to_execute.py' in image 'qiskit_runner' returned non-zero exit status 1: b'Traceback (most recent call last):\\n  File \"/workspace/to_execute.py\", line 10, in <module>\\n    qc = qasm2.loads(\\n  File \"/usr/local/lib/python3.10/site-packages/qiskit/qasm2/__init__.py\", line 587, in loads\\n    return _parse.from_bytecode(\\n  File \"/usr/local/lib/python3.10/site-packages/qiskit/qasm2/parse.py\", line 214, in from_bytecode\\n    for op in bc:\\nqiskit.qasm2.exceptions.QASM2ParseError: \"<input>:7,0: cannot use non-builtin custom instruction \\'cx\\' before definition\"\\n'\n",
      "Failed to execute to_execute.py in Docker.\n",
      "Output: Saved the BQSKit circuit to /workspace/to_execute_qc_bqskit.qasm\n",
      "Saved the Pytket circuit to /workspace/to_execute_qc_pytket.qasm\n",
      "Exported QASM files: [('/workspace/to_execute_qc_bqskit.qasm', 'export_to_qasm_with_bqskit'), ('/workspace/to_execute_qc_pytket.qasm', 'export_to_qasm_with_pytket')]\n",
      "The circuits are equivalent: /workspace/to_execute_qc_bqskit.qasm, /workspace/to_execute_qc_pytket.qasm\n",
      "\n",
      "Program to_execute.py executed successfully.\n",
      "Error parsing: Command 'python /workspace/to_execute.py' in image 'qiskit_runner' returned non-zero exit status 1: b'Traceback (most recent call last):\\n  File \"/workspace/to_execute.py\", line 10, in <module>\\n    qc = qasm2.loads(\\n  File \"/usr/local/lib/python3.10/site-packages/qiskit/qasm2/__init__.py\", line 587, in loads\\n    return _parse.from_bytecode(\\n  File \"/usr/local/lib/python3.10/site-packages/qiskit/qasm2/parse.py\", line 214, in from_bytecode\\n    for op in bc:\\nqiskit.qasm2.exceptions.QASM2ParseError: \"<input>:7,3: \\'reg_2_a\\' is not defined in this scope\"\\n'\n",
      "Failed to execute to_execute.py in Docker.\n",
      "Error parsing: Command 'python /workspace/to_execute.py' in image 'qiskit_runner' returned non-zero exit status 1: b'Traceback (most recent call last):\\n  File \"/workspace/to_execute.py\", line 10, in <module>\\n    qc = qasm2.loads(\\n  File \"/usr/local/lib/python3.10/site-packages/qiskit/qasm2/__init__.py\", line 587, in loads\\n    return _parse.from_bytecode(\\n  File \"/usr/local/lib/python3.10/site-packages/qiskit/qasm2/parse.py\", line 214, in from_bytecode\\n    for op in bc:\\nqiskit.qasm2.exceptions.QASM2ParseError: \"<input>:6,14: \\'reg_2_cout\\' is not defined in this scope\"\\n'\n",
      "Failed to execute to_execute.py in Docker.\n",
      "Output: Saved the BQSKit circuit to /workspace/to_execute_qc_bqskit.qasm\n",
      "Saved the Pytket circuit to /workspace/to_execute_qc_pytket.qasm\n",
      "Exported QASM files: [('/workspace/to_execute_qc_bqskit.qasm', 'export_to_qasm_with_bqskit'), ('/workspace/to_execute_qc_pytket.qasm', 'export_to_qasm_with_pytket')]\n",
      "Log has been saved to /workspace/to_execute_601ffa_error.json\n",
      "\n",
      "Program to_execute.py executed successfully.\n",
      "New exception message: The circuits are not equivalent: /workspace/to_execute_qc_bqskit.qasm, /workspace/to_execute_qc_pytket.qasm\n",
      "Error parsing: Command 'python /workspace/to_execute.py' in image 'qiskit_runner' returned non-zero exit status 1: b'  File \"/workspace/to_execute.py\", line 19\\n    , custom_instructions=qasm2.LEGACY_CUSTOM_INSTRUCTIONS)\\nIndentationError: unexpected indent\\n'\n",
      "Failed to execute to_execute.py in Docker.\n",
      "Error parsing: Command 'python /workspace/to_execute.py' in image 'qiskit_runner' returned non-zero exit status 1: b'  File \"/workspace/to_execute.py\", line 11\\n    include \"qelib1.inc\";\\n            ^^^^^^^^^^^^\\nSyntaxError: invalid syntax\\n'\n",
      "Failed to execute to_execute.py in Docker.\n",
      "Error parsing: Command 'python /workspace/to_execute.py' in image 'qiskit_runner' returned non-zero exit status 1: b'Traceback (most recent call last):\\n  File \"/workspace/to_execute.py\", line 10, in <module>\\n    qc = qasm2.loads(\\n  File \"/usr/local/lib/python3.10/site-packages/qiskit/qasm2/__init__.py\", line 587, in loads\\n    return _parse.from_bytecode(\\n  File \"/usr/local/lib/python3.10/site-packages/qiskit/qasm2/parse.py\", line 214, in from_bytecode\\n    for op in bc:\\nqiskit.qasm2.exceptions.QASM2ParseError: \"<input>:6,0: cannot use non-builtin custom instruction \\'cx\\' before definition\"\\n'\n",
      "Failed to execute to_execute.py in Docker.\n",
      "Output: Saved the BQSKit circuit to /workspace/to_execute_qc_bqskit.qasm\n",
      "Saved the Pytket circuit to /workspace/to_execute_qc_pytket.qasm\n",
      "Exported QASM files: [('/workspace/to_execute_qc_bqskit.qasm', 'export_to_qasm_with_bqskit'), ('/workspace/to_execute_qc_pytket.qasm', 'export_to_qasm_with_pytket')]\n",
      "The circuits are equivalent: /workspace/to_execute_qc_bqskit.qasm, /workspace/to_execute_qc_pytket.qasm\n",
      "\n",
      "Program to_execute.py executed successfully.\n",
      "Error parsing: Command 'python /workspace/to_execute.py' in image 'qiskit_runner' returned non-zero exit status 1: b'Traceback (most recent call last):\\n  File \"/workspace/to_execute.py\", line 10, in <module>\\n    qc = qasm2.loads(\\n  File \"/usr/local/lib/python3.10/site-packages/qiskit/qasm2/__init__.py\", line 587, in loads\\n    return _parse.from_bytecode(\\n  File \"/usr/local/lib/python3.10/site-packages/qiskit/qasm2/parse.py\", line 214, in from_bytecode\\n    for op in bc:\\nqiskit.qasm2.exceptions.QASM2ParseError: \"<input>:6,3: \\'reg_2_a\\' is not defined in this scope\"\\n'\n",
      "Failed to execute to_execute.py in Docker.\n",
      "Output: Saved the BQSKit circuit to /workspace/to_execute_qc_bqskit.qasm\n",
      "Saved the Pytket circuit to /workspace/to_execute_qc_pytket.qasm\n",
      "Exported QASM files: [('/workspace/to_execute_qc_bqskit.qasm', 'export_to_qasm_with_bqskit'), ('/workspace/to_execute_qc_pytket.qasm', 'export_to_qasm_with_pytket')]\n",
      "Log has been saved to /workspace/to_execute_fab08b_error.json\n",
      "\n",
      "Program to_execute.py executed successfully.\n",
      "New exception message: The circuits are not equivalent: /workspace/to_execute_qc_bqskit.qasm, /workspace/to_execute_qc_pytket.qasm\n",
      "Error parsing: Command 'python /workspace/to_execute.py' in image 'qiskit_runner' returned non-zero exit status 1: b'  File \"/workspace/to_execute.py\", line 18\\n    , custom_instructions=qasm2.LEGACY_CUSTOM_INSTRUCTIONS)\\nIndentationError: unexpected indent\\n'\n",
      "Failed to execute to_execute.py in Docker.\n",
      "Error parsing: Command 'python /workspace/to_execute.py' in image 'qiskit_runner' returned non-zero exit status 1: b'  File \"/workspace/to_execute.py\", line 11\\n    qreg reg_1_q[2];\\n    ^^^^^^^^^^^^^^^\\nSyntaxError: invalid syntax. Perhaps you forgot a comma?\\n'\n",
      "Failed to execute to_execute.py in Docker.\n",
      "Output: Saved the BQSKit circuit to /workspace/to_execute_qc_bqskit.qasm\n",
      "Saved the Pytket circuit to /workspace/to_execute_qc_pytket.qasm\n",
      "Exported QASM files: [('/workspace/to_execute_qc_bqskit.qasm', 'export_to_qasm_with_bqskit'), ('/workspace/to_execute_qc_pytket.qasm', 'export_to_qasm_with_pytket')]\n",
      "Log has been saved to /workspace/to_execute_df617c_error.json\n",
      "\n",
      "Program to_execute.py executed successfully.\n",
      "New exception message: The circuits are not equivalent: /workspace/to_execute_qc_bqskit.qasm, /workspace/to_execute_qc_pytket.qasm\n",
      "Error parsing: Command 'python /workspace/to_execute.py' in image 'qiskit_runner' returned non-zero exit status 1: b'  File \"/workspace/to_execute.py\", line 15\\n    , custom_instructions=qasm2.LEGACY_CUSTOM_INSTRUCTIONS)\\n                                                          ^\\nSyntaxError: unmatched \\')\\'\\n'\n",
      "Failed to execute to_execute.py in Docker.\n",
      "Error parsing: Command 'python /workspace/to_execute.py' in image 'qiskit_runner' returned non-zero exit status 1: b'Traceback (most recent call last):\\n  File \"/workspace/to_execute.py\", line 10, in <module>\\n    qc = qasm2.loads(\\n  File \"/usr/local/lib/python3.10/site-packages/qiskit/qasm2/__init__.py\", line 587, in loads\\n    return _parse.from_bytecode(\\n  File \"/usr/local/lib/python3.10/site-packages/qiskit/qasm2/parse.py\", line 214, in from_bytecode\\n    for op in bc:\\nqiskit.qasm2.exceptions.QASM2ParseError: \"<input>:5,0: cannot use non-builtin custom instruction \\'cx\\' before definition\"\\n'\n",
      "Failed to execute to_execute.py in Docker.\n",
      "Error parsing: Command 'python /workspace/to_execute.py' in image 'qiskit_runner' returned non-zero exit status 1: b'Traceback (most recent call last):\\n  File \"/workspace/to_execute.py\", line 10, in <module>\\n    qc = qasm2.loads(\\n  File \"/usr/local/lib/python3.10/site-packages/qiskit/qasm2/__init__.py\", line 587, in loads\\n    return _parse.from_bytecode(\\n  File \"/usr/local/lib/python3.10/site-packages/qiskit/qasm2/parse.py\", line 214, in from_bytecode\\n    for op in bc:\\nqiskit.qasm2.exceptions.QASM2ParseError: \"<input>:4,3: \\'reg_2_a\\' is not defined in this scope\"\\n'\n",
      "Failed to execute to_execute.py in Docker.\n",
      "Error parsing: Command 'python /workspace/to_execute.py' in image 'qiskit_runner' returned non-zero exit status 1: b'Traceback (most recent call last):\\n  File \"/workspace/to_execute.py\", line 10, in <module>\\n    qc = qasm2.loads(\\n  File \"/usr/local/lib/python3.10/site-packages/qiskit/qasm2/__init__.py\", line 587, in loads\\n    return _parse.from_bytecode(\\n  File \"/usr/local/lib/python3.10/site-packages/qiskit/qasm2/parse.py\", line 214, in from_bytecode\\n    for op in bc:\\nqiskit.qasm2.exceptions.QASM2ParseError: \"<input>:5,14: \\'reg_2_b\\' is not defined in this scope\"\\n'\n",
      "Failed to execute to_execute.py in Docker.\n",
      "Error parsing: Command 'python /workspace/to_execute.py' in image 'qiskit_runner' returned non-zero exit status 1: b'  File \"/workspace/to_execute.py\", line 11\\n    include \"qelib1.inc\";\\n            ^^^^^^^^^^^^\\nSyntaxError: invalid syntax\\n'\n",
      "Failed to execute to_execute.py in Docker.\n",
      "Error parsing: Command 'python /workspace/to_execute.py' in image 'qiskit_runner' returned non-zero exit status 1: b'  File \"/workspace/to_execute.py\", line 10\\n    qc = qasm2.loads(\\n                    ^\\nSyntaxError: \\'(\\' was never closed\\n'\n",
      "Failed to execute to_execute.py in Docker.\n",
      "Error parsing: Command 'python /workspace/to_execute.py' in image 'qiskit_runner' returned non-zero exit status 1: b'  File \"/workspace/to_execute.py\", line 17\\n    , custom_instructions=qasm2.LEGACY_CUSTOM_INSTRUCTIONS)\\nIndentationError: unexpected indent\\n'\n",
      "Failed to execute to_execute.py in Docker.\n",
      "Error parsing: Command 'python /workspace/to_execute.py' in image 'qiskit_runner' returned non-zero exit status 1: b'  File \"/workspace/to_execute.py\", line 11\\n    include \"qelib1.inc\";\\n            ^^^^^^^^^^^^\\nSyntaxError: invalid syntax\\n'\n",
      "Failed to execute to_execute.py in Docker.\n",
      "Error parsing: Command 'python /workspace/to_execute.py' in image 'qiskit_runner' returned non-zero exit status 1: b'Traceback (most recent call last):\\n  File \"/workspace/to_execute.py\", line 10, in <module>\\n    qc = qasm2.loads(\\n  File \"/usr/local/lib/python3.10/site-packages/qiskit/qasm2/__init__.py\", line 587, in loads\\n    return _parse.from_bytecode(\\n  File \"/usr/local/lib/python3.10/site-packages/qiskit/qasm2/parse.py\", line 214, in from_bytecode\\n    for op in bc:\\nqiskit.qasm2.exceptions.QASM2ParseError: \"<input>:5,0: cannot use non-builtin custom instruction \\'cx\\' before definition\"\\n'\n",
      "Failed to execute to_execute.py in Docker.\n",
      "Output: Saved the BQSKit circuit to /workspace/to_execute_qc_bqskit.qasm\n",
      "Saved the Pytket circuit to /workspace/to_execute_qc_pytket.qasm\n",
      "Exported QASM files: [('/workspace/to_execute_qc_bqskit.qasm', 'export_to_qasm_with_bqskit'), ('/workspace/to_execute_qc_pytket.qasm', 'export_to_qasm_with_pytket')]\n",
      "The circuits are equivalent: /workspace/to_execute_qc_bqskit.qasm, /workspace/to_execute_qc_pytket.qasm\n",
      "\n",
      "Program to_execute.py executed successfully.\n",
      "Error parsing: Command 'python /workspace/to_execute.py' in image 'qiskit_runner' returned non-zero exit status 1: b'Traceback (most recent call last):\\n  File \"/workspace/to_execute.py\", line 10, in <module>\\n    qc = qasm2.loads(\\n  File \"/usr/local/lib/python3.10/site-packages/qiskit/qasm2/__init__.py\", line 587, in loads\\n    return _parse.from_bytecode(\\n  File \"/usr/local/lib/python3.10/site-packages/qiskit/qasm2/parse.py\", line 214, in from_bytecode\\n    for op in bc:\\nqiskit.qasm2.exceptions.QASM2ParseError: \"<input>:5,3: \\'reg_2_a\\' is not defined in this scope\"\\n'\n",
      "Failed to execute to_execute.py in Docker.\n",
      "Error parsing: Command 'python /workspace/to_execute.py' in image 'qiskit_runner' returned non-zero exit status 1: b'Traceback (most recent call last):\\n  File \"/workspace/to_execute.py\", line 10, in <module>\\n    qc = qasm2.loads(\\n  File \"/usr/local/lib/python3.10/site-packages/qiskit/qasm2/__init__.py\", line 587, in loads\\n    return _parse.from_bytecode(\\n  File \"/usr/local/lib/python3.10/site-packages/qiskit/qasm2/parse.py\", line 214, in from_bytecode\\n    for op in bc:\\nqiskit.qasm2.exceptions.QASM2ParseError: \"<input>:5,14: \\'reg_2_b\\' is not defined in this scope\"\\n'\n",
      "Failed to execute to_execute.py in Docker.\n",
      "Output: Saved the BQSKit circuit to /workspace/to_execute_qc_bqskit.qasm\n",
      "Saved the Pytket circuit to /workspace/to_execute_qc_pytket.qasm\n",
      "Exported QASM files: [('/workspace/to_execute_qc_bqskit.qasm', 'export_to_qasm_with_bqskit'), ('/workspace/to_execute_qc_pytket.qasm', 'export_to_qasm_with_pytket')]\n",
      "The circuits are equivalent: /workspace/to_execute_qc_bqskit.qasm, /workspace/to_execute_qc_pytket.qasm\n",
      "\n",
      "Program to_execute.py executed successfully.\n",
      "Error parsing: Command 'python /workspace/to_execute.py' in image 'qiskit_runner' returned non-zero exit status 1: b'  File \"/workspace/to_execute.py\", line 11\\n    include \"qelib1.inc\";\\n            ^^^^^^^^^^^^\\nSyntaxError: invalid syntax\\n'\n",
      "Failed to execute to_execute.py in Docker.\n",
      "Error parsing: Command 'python /workspace/to_execute.py' in image 'qiskit_runner' returned non-zero exit status 1: b'  File \"/workspace/to_execute.py\", line 10\\n    qc = qasm2.loads(\\n                    ^\\nSyntaxError: \\'(\\' was never closed\\n'\n",
      "Failed to execute to_execute.py in Docker.\n"
     ]
    },
    {
     "data": {
      "text/html": [
       "<pre style=\"white-space:pre;overflow-x:auto;line-height:normal;font-family:Menlo,'DejaVu Sans Mono',consolas,'Courier New',monospace\"><span style=\"color: #7fbfbf; text-decoration-color: #7fbfbf\">[15:19:58] </span><span style=\"color: #008000; text-decoration-color: #008000\">Minimized file saved as:</span>                                                        <a href=\"file:///home/paltenmo/projects/crossplatform/analysis_and_reporting/ddmin_target_file.py\" target=\"_blank\"><span style=\"color: #7f7f7f; text-decoration-color: #7f7f7f\">ddmin_target_file.py</span></a><span style=\"color: #7f7f7f; text-decoration-color: #7f7f7f\">:</span><a href=\"file:///home/paltenmo/projects/crossplatform/analysis_and_reporting/ddmin_target_file.py#240\" target=\"_blank\"><span style=\"color: #7f7f7f; text-decoration-color: #7f7f7f\">240</span></a>\n",
       "<span style=\"color: #7fbfbf; text-decoration-color: #7fbfbf\">           </span>..<span style=\"color: #800080; text-decoration-color: #800080\">/reports/v009/2024_11_21__15_15/</span><span style=\"color: #ff00ff; text-decoration-color: #ff00ff\">qiskit_circuit_5q_10g_609_0c26d1_ee02f4_error</span> <span style=\"color: #7f7f7f; text-decoration-color: #7f7f7f\">                        </span>\n",
       "<span style=\"color: #7fbfbf; text-decoration-color: #7fbfbf\">           </span><span style=\"color: #ff00ff; text-decoration-color: #ff00ff\">_min.py</span>                                                                         <span style=\"color: #7f7f7f; text-decoration-color: #7f7f7f\">                        </span>\n",
       "</pre>\n"
      ],
      "text/plain": [
       "\u001b[2;36m[15:19:58]\u001b[0m\u001b[2;36m \u001b[0m\u001b[32mMinimized file saved as:\u001b[0m                                                        \u001b]8;id=705857;file:///home/paltenmo/projects/crossplatform/analysis_and_reporting/ddmin_target_file.py\u001b\\\u001b[2mddmin_target_file.py\u001b[0m\u001b]8;;\u001b\\\u001b[2m:\u001b[0m\u001b]8;id=577998;file:///home/paltenmo/projects/crossplatform/analysis_and_reporting/ddmin_target_file.py#240\u001b\\\u001b[2m240\u001b[0m\u001b]8;;\u001b\\\n",
       "\u001b[2;36m           \u001b[0m..\u001b[35m/reports/v009/2024_11_21__15_15/\u001b[0m\u001b[95mqiskit_circuit_5q_10g_609_0c26d1_ee02f4_error\u001b[0m \u001b[2m                        \u001b[0m\n",
       "\u001b[2;36m           \u001b[0m\u001b[95m_min.py\u001b[0m                                                                         \u001b[2m                        \u001b[0m\n"
      ]
     },
     "metadata": {},
     "output_type": "display_data"
    },
    {
     "name": "stdout",
     "output_type": "stream",
     "text": [
      "Output: Saved the BQSKit circuit to /workspace/qiskit_circuit_5q_10g_609_0c26d1_ee02f4_error_min_qc_bqskit.qasm\n",
      "Saved the Pytket circuit to /workspace/qiskit_circuit_5q_10g_609_0c26d1_ee02f4_error_min_qc_pytket.qasm\n",
      "Exported QASM files: [('/workspace/qiskit_circuit_5q_10g_609_0c26d1_ee02f4_error_min_qc_bqskit.qasm', 'export_to_qasm_with_bqskit'), ('/workspace/qiskit_circuit_5q_10g_609_0c26d1_ee02f4_error_min_qc_pytket.qasm', 'export_to_qasm_with_pytket')]\n",
      "Log has been saved to /workspace/qiskit_circuit_5q_10g_609_0c26d1_ee02f4_error_min_fefa9c_error.json\n",
      "\n"
     ]
    },
    {
     "data": {
      "text/html": [
       "<pre style=\"white-space:pre;overflow-x:auto;line-height:normal;font-family:Menlo,'DejaVu Sans Mono',consolas,'Courier New',monospace\"><span style=\"color: #7fbfbf; text-decoration-color: #7fbfbf\">[15:20:05] </span>Program qiskit_circuit_5q_10g_609_0c26d1_ee02f4_error_min.py executed successfully. <a href=\"file:///home/paltenmo/projects/crossplatform/generators/docker_tooling.py\" target=\"_blank\"><span style=\"color: #7f7f7f; text-decoration-color: #7f7f7f\">docker_tooling.py</span></a><span style=\"color: #7f7f7f; text-decoration-color: #7f7f7f\">:</span><a href=\"file:///home/paltenmo/projects/crossplatform/generators/docker_tooling.py#46\" target=\"_blank\"><span style=\"color: #7f7f7f; text-decoration-color: #7f7f7f\">46</span></a>\n",
       "</pre>\n"
      ],
      "text/plain": [
       "\u001b[2;36m[15:20:05]\u001b[0m\u001b[2;36m \u001b[0mProgram qiskit_circuit_5q_10g_609_0c26d1_ee02f4_error_min.py executed successfully. \u001b]8;id=278372;file:///home/paltenmo/projects/crossplatform/generators/docker_tooling.py\u001b\\\u001b[2mdocker_tooling.py\u001b[0m\u001b]8;;\u001b\\\u001b[2m:\u001b[0m\u001b]8;id=644727;file:///home/paltenmo/projects/crossplatform/generators/docker_tooling.py#46\u001b\\\u001b[2m46\u001b[0m\u001b]8;;\u001b\\\n"
      ]
     },
     "metadata": {},
     "output_type": "display_data"
    },
    {
     "data": {
      "application/vnd.jupyter.widget-view+json": {
       "model_id": "3e7839f705014edcabd91dd3c8525fe4",
       "version_major": 2,
       "version_minor": 0
      },
      "text/plain": [
       "Executing:   0%|          | 0/13 [00:00<?, ?cell/s]"
      ]
     },
     "metadata": {},
     "output_type": "display_data"
    },
    {
     "data": {
      "text/html": [
       "<pre style=\"white-space:pre;overflow-x:auto;line-height:normal;font-family:Menlo,'DejaVu Sans Mono',consolas,'Courier New',monospace\"><span style=\"color: #7fbfbf; text-decoration-color: #7fbfbf\">[15:20:08] </span>Analysis notebook executed: ..<span style=\"color: #800080; text-decoration-color: #800080\">/reports/v009/2024_11_21__15_15/</span><span style=\"color: #ff00ff; text-decoration-color: #ff00ff\">analysis_output.ipynb</span>        <a href=\"file:///home/paltenmo/projects/crossplatform/analysis_and_reporting/triage.py\" target=\"_blank\"><span style=\"color: #7f7f7f; text-decoration-color: #7f7f7f\">triage.py</span></a><span style=\"color: #7f7f7f; text-decoration-color: #7f7f7f\">:</span><a href=\"file:///home/paltenmo/projects/crossplatform/analysis_and_reporting/triage.py#163\" target=\"_blank\"><span style=\"color: #7f7f7f; text-decoration-color: #7f7f7f\">163</span></a>\n",
       "</pre>\n"
      ],
      "text/plain": [
       "\u001b[2;36m[15:20:08]\u001b[0m\u001b[2;36m \u001b[0mAnalysis notebook executed: ..\u001b[35m/reports/v009/2024_11_21__15_15/\u001b[0m\u001b[95manalysis_output.ipynb\u001b[0m        \u001b]8;id=329862;file:///home/paltenmo/projects/crossplatform/analysis_and_reporting/triage.py\u001b\\\u001b[2mtriage.py\u001b[0m\u001b]8;;\u001b\\\u001b[2m:\u001b[0m\u001b]8;id=553211;file:///home/paltenmo/projects/crossplatform/analysis_and_reporting/triage.py#163\u001b\\\u001b[2m163\u001b[0m\u001b]8;;\u001b\\\n"
      ]
     },
     "metadata": {},
     "output_type": "display_data"
    },
    {
     "data": {
      "text/html": [
       "<pre style=\"white-space:pre;overflow-x:auto;line-height:normal;font-family:Menlo,'DejaVu Sans Mono',consolas,'Courier New',monospace\"><span style=\"color: #7fbfbf; text-decoration-color: #7fbfbf\">           </span>Created report folder: ..<span style=\"color: #800080; text-decoration-color: #800080\">/reports/v009/</span><span style=\"color: #ff00ff; text-decoration-color: #ff00ff\">2024_11_21__15_20</span>                                   <a href=\"file:///home/paltenmo/projects/crossplatform/analysis_and_reporting/triage.py\" target=\"_blank\"><span style=\"color: #7f7f7f; text-decoration-color: #7f7f7f\">triage.py</span></a><span style=\"color: #7f7f7f; text-decoration-color: #7f7f7f\">:</span><a href=\"file:///home/paltenmo/projects/crossplatform/analysis_and_reporting/triage.py#131\" target=\"_blank\"><span style=\"color: #7f7f7f; text-decoration-color: #7f7f7f\">131</span></a>\n",
       "</pre>\n"
      ],
      "text/plain": [
       "\u001b[2;36m          \u001b[0m\u001b[2;36m \u001b[0mCreated report folder: ..\u001b[35m/reports/v009/\u001b[0m\u001b[95m2024_11_21__15_20\u001b[0m                                   \u001b]8;id=15674;file:///home/paltenmo/projects/crossplatform/analysis_and_reporting/triage.py\u001b\\\u001b[2mtriage.py\u001b[0m\u001b]8;;\u001b\\\u001b[2m:\u001b[0m\u001b]8;id=699119;file:///home/paltenmo/projects/crossplatform/analysis_and_reporting/triage.py#131\u001b\\\u001b[2m131\u001b[0m\u001b]8;;\u001b\\\n"
      ]
     },
     "metadata": {},
     "output_type": "display_data"
    },
    {
     "data": {
      "text/html": [
       "<pre style=\"white-space:pre;overflow-x:auto;line-height:normal;font-family:Menlo,'DejaVu Sans Mono',consolas,'Courier New',monospace\"><span style=\"color: #7fbfbf; text-decoration-color: #7fbfbf\">           </span>Copied files to: ..<span style=\"color: #800080; text-decoration-color: #800080\">/reports/v009/</span><span style=\"color: #ff00ff; text-decoration-color: #ff00ff\">2024_11_21__15_20</span>                                         <a href=\"file:///home/paltenmo/projects/crossplatform/analysis_and_reporting/triage.py\" target=\"_blank\"><span style=\"color: #7f7f7f; text-decoration-color: #7f7f7f\">triage.py</span></a><span style=\"color: #7f7f7f; text-decoration-color: #7f7f7f\">:</span><a href=\"file:///home/paltenmo/projects/crossplatform/analysis_and_reporting/triage.py#140\" target=\"_blank\"><span style=\"color: #7f7f7f; text-decoration-color: #7f7f7f\">140</span></a>\n",
       "</pre>\n"
      ],
      "text/plain": [
       "\u001b[2;36m          \u001b[0m\u001b[2;36m \u001b[0mCopied files to: ..\u001b[35m/reports/v009/\u001b[0m\u001b[95m2024_11_21__15_20\u001b[0m                                         \u001b]8;id=965951;file:///home/paltenmo/projects/crossplatform/analysis_and_reporting/triage.py\u001b\\\u001b[2mtriage.py\u001b[0m\u001b]8;;\u001b\\\u001b[2m:\u001b[0m\u001b]8;id=640382;file:///home/paltenmo/projects/crossplatform/analysis_and_reporting/triage.py#140\u001b\\\u001b[2m140\u001b[0m\u001b]8;;\u001b\\\n"
      ]
     },
     "metadata": {},
     "output_type": "display_data"
    },
    {
     "data": {
      "text/html": [
       "<pre style=\"white-space:pre;overflow-x:auto;line-height:normal;font-family:Menlo,'DejaVu Sans Mono',consolas,'Courier New',monospace\"><span style=\"color: #7fbfbf; text-decoration-color: #7fbfbf\">[15:20:08] </span>Involved functions:                                                             <a href=\"file:///home/paltenmo/projects/crossplatform/analysis_and_reporting/ddmin_target_file.py\" target=\"_blank\"><span style=\"color: #7f7f7f; text-decoration-color: #7f7f7f\">ddmin_target_file.py</span></a><span style=\"color: #7f7f7f; text-decoration-color: #7f7f7f\">:</span><a href=\"file:///home/paltenmo/projects/crossplatform/analysis_and_reporting/ddmin_target_file.py#206\" target=\"_blank\"><span style=\"color: #7f7f7f; text-decoration-color: #7f7f7f\">206</span></a>\n",
       "</pre>\n"
      ],
      "text/plain": [
       "\u001b[2;36m[15:20:08]\u001b[0m\u001b[2;36m \u001b[0mInvolved functions:                                                             \u001b]8;id=308250;file:///home/paltenmo/projects/crossplatform/analysis_and_reporting/ddmin_target_file.py\u001b\\\u001b[2mddmin_target_file.py\u001b[0m\u001b]8;;\u001b\\\u001b[2m:\u001b[0m\u001b]8;id=994586;file:///home/paltenmo/projects/crossplatform/analysis_and_reporting/ddmin_target_file.py#206\u001b\\\u001b[2m206\u001b[0m\u001b]8;;\u001b\\\n"
      ]
     },
     "metadata": {},
     "output_type": "display_data"
    },
    {
     "data": {
      "text/html": [
       "<pre style=\"white-space:pre;overflow-x:auto;line-height:normal;font-family:Menlo,'DejaVu Sans Mono',consolas,'Courier New',monospace\"><span style=\"color: #7fbfbf; text-decoration-color: #7fbfbf\">           </span>  - compare_qasm_via_qcec                                                       <a href=\"file:///home/paltenmo/projects/crossplatform/analysis_and_reporting/ddmin_target_file.py\" target=\"_blank\"><span style=\"color: #7f7f7f; text-decoration-color: #7f7f7f\">ddmin_target_file.py</span></a><span style=\"color: #7f7f7f; text-decoration-color: #7f7f7f\">:</span><a href=\"file:///home/paltenmo/projects/crossplatform/analysis_and_reporting/ddmin_target_file.py#208\" target=\"_blank\"><span style=\"color: #7f7f7f; text-decoration-color: #7f7f7f\">208</span></a>\n",
       "</pre>\n"
      ],
      "text/plain": [
       "\u001b[2;36m          \u001b[0m\u001b[2;36m \u001b[0m  - compare_qasm_via_qcec                                                       \u001b]8;id=221735;file:///home/paltenmo/projects/crossplatform/analysis_and_reporting/ddmin_target_file.py\u001b\\\u001b[2mddmin_target_file.py\u001b[0m\u001b]8;;\u001b\\\u001b[2m:\u001b[0m\u001b]8;id=671155;file:///home/paltenmo/projects/crossplatform/analysis_and_reporting/ddmin_target_file.py#208\u001b\\\u001b[2m208\u001b[0m\u001b]8;;\u001b\\\n"
      ]
     },
     "metadata": {},
     "output_type": "display_data"
    },
    {
     "data": {
      "text/html": [
       "<pre style=\"white-space:pre;overflow-x:auto;line-height:normal;font-family:Menlo,'DejaVu Sans Mono',consolas,'Courier New',monospace\"><span style=\"color: #7fbfbf; text-decoration-color: #7fbfbf\">           </span>  - export_to_qasm_with_bqskit                                                  <a href=\"file:///home/paltenmo/projects/crossplatform/analysis_and_reporting/ddmin_target_file.py\" target=\"_blank\"><span style=\"color: #7f7f7f; text-decoration-color: #7f7f7f\">ddmin_target_file.py</span></a><span style=\"color: #7f7f7f; text-decoration-color: #7f7f7f\">:</span><a href=\"file:///home/paltenmo/projects/crossplatform/analysis_and_reporting/ddmin_target_file.py#208\" target=\"_blank\"><span style=\"color: #7f7f7f; text-decoration-color: #7f7f7f\">208</span></a>\n",
       "</pre>\n"
      ],
      "text/plain": [
       "\u001b[2;36m          \u001b[0m\u001b[2;36m \u001b[0m  - export_to_qasm_with_bqskit                                                  \u001b]8;id=698568;file:///home/paltenmo/projects/crossplatform/analysis_and_reporting/ddmin_target_file.py\u001b\\\u001b[2mddmin_target_file.py\u001b[0m\u001b]8;;\u001b\\\u001b[2m:\u001b[0m\u001b]8;id=544819;file:///home/paltenmo/projects/crossplatform/analysis_and_reporting/ddmin_target_file.py#208\u001b\\\u001b[2m208\u001b[0m\u001b]8;;\u001b\\\n"
      ]
     },
     "metadata": {},
     "output_type": "display_data"
    },
    {
     "data": {
      "text/html": [
       "<pre style=\"white-space:pre;overflow-x:auto;line-height:normal;font-family:Menlo,'DejaVu Sans Mono',consolas,'Courier New',monospace\"><span style=\"color: #7fbfbf; text-decoration-color: #7fbfbf\">           </span>  - export_to_qasm_with_pytket                                                  <a href=\"file:///home/paltenmo/projects/crossplatform/analysis_and_reporting/ddmin_target_file.py\" target=\"_blank\"><span style=\"color: #7f7f7f; text-decoration-color: #7f7f7f\">ddmin_target_file.py</span></a><span style=\"color: #7f7f7f; text-decoration-color: #7f7f7f\">:</span><a href=\"file:///home/paltenmo/projects/crossplatform/analysis_and_reporting/ddmin_target_file.py#208\" target=\"_blank\"><span style=\"color: #7f7f7f; text-decoration-color: #7f7f7f\">208</span></a>\n",
       "</pre>\n"
      ],
      "text/plain": [
       "\u001b[2;36m          \u001b[0m\u001b[2;36m \u001b[0m  - export_to_qasm_with_pytket                                                  \u001b]8;id=663922;file:///home/paltenmo/projects/crossplatform/analysis_and_reporting/ddmin_target_file.py\u001b\\\u001b[2mddmin_target_file.py\u001b[0m\u001b]8;;\u001b\\\u001b[2m:\u001b[0m\u001b]8;id=494599;file:///home/paltenmo/projects/crossplatform/analysis_and_reporting/ddmin_target_file.py#208\u001b\\\u001b[2m208\u001b[0m\u001b]8;;\u001b\\\n"
      ]
     },
     "metadata": {},
     "output_type": "display_data"
    },
    {
     "name": "stdout",
     "output_type": "stream",
     "text": [
      "Error parsing: Command 'python /workspace/to_execute.py' in image 'qiskit_runner' returned non-zero exit status 1: b'Traceback (most recent call last):\\n  File \"/workspace/to_execute.py\", line 106, in <module>\\n    target_qc = qc\\nNameError: name \\'qc\\' is not defined\\n'\n",
      "Failed to execute to_execute.py in Docker.\n",
      "Output: Saved the BQSKit circuit to /workspace/to_execute_qc_bqskit.qasm\n",
      "Saved the Pytket circuit to /workspace/to_execute_qc_pytket.qasm\n",
      "Exported QASM files: [('/workspace/to_execute_qc_bqskit.qasm', 'export_to_qasm_with_bqskit'), ('/workspace/to_execute_qc_pytket.qasm', 'export_to_qasm_with_pytket')]\n",
      "Log has been saved to /workspace/to_execute_17ef87_error.json\n",
      "\n",
      "Program to_execute.py executed successfully.\n",
      "New exception message: The circuits are not equivalent: /workspace/to_execute_qc_bqskit.qasm, /workspace/to_execute_qc_pytket.qasm\n",
      "Error parsing: Command 'python /workspace/to_execute.py' in image 'qiskit_runner' returned non-zero exit status 1: b'  File \"/workspace/to_execute.py\", line 20\\n    , custom_instructions=qasm2.LEGACY_CUSTOM_INSTRUCTIONS)\\n                                                          ^\\nSyntaxError: unmatched \\')\\'\\n'\n",
      "Failed to execute to_execute.py in Docker.\n",
      "Error parsing: Command 'python /workspace/to_execute.py' in image 'qiskit_runner' returned non-zero exit status 1: b'  File \"/workspace/to_execute.py\", line 10\\n    qc = qasm2.loads(\\n                    ^\\nSyntaxError: \\'(\\' was never closed\\n'\n",
      "Failed to execute to_execute.py in Docker.\n",
      "Error parsing: Command 'python /workspace/to_execute.py' in image 'qiskit_runner' returned non-zero exit status 1: b'  File \"/workspace/to_execute.py\", line 31\\n    , custom_instructions=qasm2.LEGACY_CUSTOM_INSTRUCTIONS)\\n                                                          ^\\nSyntaxError: unmatched \\')\\'\\n'\n",
      "Failed to execute to_execute.py in Docker.\n",
      "Error parsing: Command 'python /workspace/to_execute.py' in image 'qiskit_runner' returned non-zero exit status 1: b'Traceback (most recent call last):\\n  File \"/workspace/to_execute.py\", line 10, in <module>\\n    qc = qasm2.loads(\\n  File \"/usr/local/lib/python3.10/site-packages/qiskit/qasm2/__init__.py\", line 587, in loads\\n    return _parse.from_bytecode(\\n  File \"/usr/local/lib/python3.10/site-packages/qiskit/qasm2/parse.py\", line 214, in from_bytecode\\n    for op in bc:\\nqiskit.qasm2.exceptions.QASM2ParseError: \"<input>:12,14: \\'reg_2_cout\\' is not defined in this scope\"\\n'\n",
      "Failed to execute to_execute.py in Docker.\n",
      "Output: Saved the BQSKit circuit to /workspace/to_execute_qc_bqskit.qasm\n",
      "Saved the Pytket circuit to /workspace/to_execute_qc_pytket.qasm\n",
      "Exported QASM files: [('/workspace/to_execute_qc_bqskit.qasm', 'export_to_qasm_with_bqskit'), ('/workspace/to_execute_qc_pytket.qasm', 'export_to_qasm_with_pytket')]\n",
      "Log has been saved to /workspace/to_execute_59f673_error.json\n",
      "\n",
      "Program to_execute.py executed successfully.\n",
      "New exception message: The circuits are not equivalent: /workspace/to_execute_qc_bqskit.qasm, /workspace/to_execute_qc_pytket.qasm\n",
      "Error parsing: Command 'python /workspace/to_execute.py' in image 'qiskit_runner' returned non-zero exit status 1: b'  File \"/workspace/to_execute.py\", line 22\\n    , custom_instructions=qasm2.LEGACY_CUSTOM_INSTRUCTIONS)\\n                                                          ^\\nSyntaxError: unmatched \\')\\'\\n'\n",
      "Failed to execute to_execute.py in Docker.\n",
      "Error parsing: Command 'python /workspace/to_execute.py' in image 'qiskit_runner' returned non-zero exit status 1: b'Traceback (most recent call last):\\n  File \"/workspace/to_execute.py\", line 10, in <module>\\n    qc = qasm2.loads(\\n  File \"/usr/local/lib/python3.10/site-packages/qiskit/qasm2/__init__.py\", line 587, in loads\\n    return _parse.from_bytecode(\\n  File \"/usr/local/lib/python3.10/site-packages/qiskit/qasm2/parse.py\", line 214, in from_bytecode\\n    for op in bc:\\nqiskit.qasm2.exceptions.QASM2ParseError: \"<input>:6,2: \\'reg_1_q\\' is not defined in this scope\"\\n'\n",
      "Failed to execute to_execute.py in Docker.\n",
      "Error parsing: Command 'python /workspace/to_execute.py' in image 'qiskit_runner' returned non-zero exit status 1: b'  File \"/workspace/to_execute.py\", line 10\\n    qc = qasm2.loads(\\n                    ^\\nSyntaxError: \\'(\\' was never closed\\n'\n",
      "Failed to execute to_execute.py in Docker.\n",
      "Error parsing: Command 'python /workspace/to_execute.py' in image 'qiskit_runner' returned non-zero exit status 1: b'  File \"/workspace/to_execute.py\", line 25\\n    , custom_instructions=qasm2.LEGACY_CUSTOM_INSTRUCTIONS)\\n                                                          ^\\nSyntaxError: unmatched \\')\\'\\n'\n",
      "Failed to execute to_execute.py in Docker.\n",
      "Error parsing: Command 'python /workspace/to_execute.py' in image 'qiskit_runner' returned non-zero exit status 1: b'Traceback (most recent call last):\\n  File \"/workspace/to_execute.py\", line 10, in <module>\\n    qc = qasm2.loads(\\n  File \"/usr/local/lib/python3.10/site-packages/qiskit/qasm2/__init__.py\", line 587, in loads\\n    return _parse.from_bytecode(\\n  File \"/usr/local/lib/python3.10/site-packages/qiskit/qasm2/parse.py\", line 214, in from_bytecode\\n    for op in bc:\\nqiskit.qasm2.exceptions.QASM2ParseError: \"<input>:5,0: cannot use non-builtin custom instruction \\'cx\\' before definition\"\\n'\n",
      "Failed to execute to_execute.py in Docker.\n",
      "Error parsing: Command 'python /workspace/to_execute.py' in image 'qiskit_runner' returned non-zero exit status 1: b'Traceback (most recent call last):\\n  File \"/workspace/to_execute.py\", line 10, in <module>\\n    qc = qasm2.loads(\\n  File \"/usr/local/lib/python3.10/site-packages/qiskit/qasm2/__init__.py\", line 587, in loads\\n    return _parse.from_bytecode(\\n  File \"/usr/local/lib/python3.10/site-packages/qiskit/qasm2/parse.py\", line 214, in from_bytecode\\n    for op in bc:\\nqiskit.qasm2.exceptions.QASM2ParseError: \"<input>:6,2: \\'reg_1_q\\' is not defined in this scope\"\\n'\n",
      "Failed to execute to_execute.py in Docker.\n",
      "Output: Saved the BQSKit circuit to /workspace/to_execute_qc_bqskit.qasm\n",
      "Saved the Pytket circuit to /workspace/to_execute_qc_pytket.qasm\n",
      "Exported QASM files: [('/workspace/to_execute_qc_bqskit.qasm', 'export_to_qasm_with_bqskit'), ('/workspace/to_execute_qc_pytket.qasm', 'export_to_qasm_with_pytket')]\n",
      "Log has been saved to /workspace/to_execute_11fdea_error.json\n",
      "\n",
      "Program to_execute.py executed successfully.\n",
      "New exception message: The circuits are not equivalent: /workspace/to_execute_qc_bqskit.qasm, /workspace/to_execute_qc_pytket.qasm\n",
      "Error parsing: Command 'python /workspace/to_execute.py' in image 'qiskit_runner' returned non-zero exit status 1: b'  File \"/workspace/to_execute.py\", line 22\\n    , custom_instructions=qasm2.LEGACY_CUSTOM_INSTRUCTIONS)\\n                                                          ^\\nSyntaxError: unmatched \\')\\'\\n'\n",
      "Failed to execute to_execute.py in Docker.\n",
      "Error parsing: Command 'python /workspace/to_execute.py' in image 'qiskit_runner' returned non-zero exit status 1: b'Traceback (most recent call last):\\n  File \"/workspace/to_execute.py\", line 10, in <module>\\n    qc = qasm2.loads(\\n  File \"/usr/local/lib/python3.10/site-packages/qiskit/qasm2/__init__.py\", line 587, in loads\\n    return _parse.from_bytecode(\\n  File \"/usr/local/lib/python3.10/site-packages/qiskit/qasm2/parse.py\", line 214, in from_bytecode\\n    for op in bc:\\nqiskit.qasm2.exceptions.QASM2ParseError: \"<input>:4,0: cannot use non-builtin custom instruction \\'cx\\' before definition\"\\n'\n",
      "Failed to execute to_execute.py in Docker.\n",
      "Error parsing: Command 'python /workspace/to_execute.py' in image 'qiskit_runner' returned non-zero exit status 1: b'Traceback (most recent call last):\\n  File \"/workspace/to_execute.py\", line 10, in <module>\\n    qc = qasm2.loads(\\n  File \"/usr/local/lib/python3.10/site-packages/qiskit/qasm2/__init__.py\", line 587, in loads\\n    return _parse.from_bytecode(\\n  File \"/usr/local/lib/python3.10/site-packages/qiskit/qasm2/parse.py\", line 214, in from_bytecode\\n    for op in bc:\\nqiskit.qasm2.exceptions.QASM2ParseError: \"<input>:6,3: \\'reg_1_q\\' is not defined in this scope\"\\n'\n",
      "Failed to execute to_execute.py in Docker.\n",
      "Output: Saved the BQSKit circuit to /workspace/to_execute_qc_bqskit.qasm\n",
      "Saved the Pytket circuit to /workspace/to_execute_qc_pytket.qasm\n",
      "Exported QASM files: [('/workspace/to_execute_qc_bqskit.qasm', 'export_to_qasm_with_bqskit'), ('/workspace/to_execute_qc_pytket.qasm', 'export_to_qasm_with_pytket')]\n",
      "Log has been saved to /workspace/to_execute_b014a3_error.json\n",
      "\n",
      "Program to_execute.py executed successfully.\n",
      "New exception message: The circuits are not equivalent: /workspace/to_execute_qc_bqskit.qasm, /workspace/to_execute_qc_pytket.qasm\n",
      "Error parsing: Command 'python /workspace/to_execute.py' in image 'qiskit_runner' returned non-zero exit status 1: b'  File \"/workspace/to_execute.py\", line 18\\n    , custom_instructions=qasm2.LEGACY_CUSTOM_INSTRUCTIONS)\\n                                                          ^\\nSyntaxError: unmatched \\')\\'\\n'\n",
      "Failed to execute to_execute.py in Docker.\n",
      "Error parsing: Command 'python /workspace/to_execute.py' in image 'qiskit_runner' returned non-zero exit status 1: b'Traceback (most recent call last):\\n  File \"/workspace/to_execute.py\", line 10, in <module>\\n    qc = qasm2.loads(\\n  File \"/usr/local/lib/python3.10/site-packages/qiskit/qasm2/__init__.py\", line 587, in loads\\n    return _parse.from_bytecode(\\n  File \"/usr/local/lib/python3.10/site-packages/qiskit/qasm2/parse.py\", line 214, in from_bytecode\\n    for op in bc:\\nqiskit.qasm2.exceptions.QASM2ParseError: \"<input>:5,0: cannot use non-builtin custom instruction \\'cx\\' before definition\"\\n'\n",
      "Failed to execute to_execute.py in Docker.\n",
      "Error parsing: Command 'python /workspace/to_execute.py' in image 'qiskit_runner' returned non-zero exit status 1: b'Traceback (most recent call last):\\n  File \"/workspace/to_execute.py\", line 10, in <module>\\n    qc = qasm2.loads(\\n  File \"/usr/local/lib/python3.10/site-packages/qiskit/qasm2/__init__.py\", line 587, in loads\\n    return _parse.from_bytecode(\\n  File \"/usr/local/lib/python3.10/site-packages/qiskit/qasm2/parse.py\", line 214, in from_bytecode\\n    for op in bc:\\nqiskit.qasm2.exceptions.QASM2ParseError: \"<input>:5,16: \\'reg_2_b\\' is not defined in this scope\"\\n'\n",
      "Failed to execute to_execute.py in Docker.\n",
      "Error parsing: Command 'python /workspace/to_execute.py' in image 'qiskit_runner' returned non-zero exit status 1: b'  File \"/workspace/to_execute.py\", line 10\\n    qc = qasm2.loads(\\n                    ^\\nSyntaxError: \\'(\\' was never closed\\n'\n",
      "Failed to execute to_execute.py in Docker.\n",
      "Error parsing: Command 'python /workspace/to_execute.py' in image 'qiskit_runner' returned non-zero exit status 1: b'  File \"/workspace/to_execute.py\", line 20\\n    , custom_instructions=qasm2.LEGACY_CUSTOM_INSTRUCTIONS)\\nIndentationError: unexpected indent\\n'\n",
      "Failed to execute to_execute.py in Docker.\n",
      "Error parsing: Command 'python /workspace/to_execute.py' in image 'qiskit_runner' returned non-zero exit status 1: b'  File \"/workspace/to_execute.py\", line 12\\n    include \"qelib1.inc\";\\n            ^^^^^^^^^^^^\\nSyntaxError: invalid syntax\\n'\n",
      "Failed to execute to_execute.py in Docker.\n",
      "Error parsing: Command 'python /workspace/to_execute.py' in image 'qiskit_runner' returned non-zero exit status 1: b'Traceback (most recent call last):\\n  File \"/workspace/to_execute.py\", line 10, in <module>\\n    qc = qasm2.loads(\\n  File \"/usr/local/lib/python3.10/site-packages/qiskit/qasm2/__init__.py\", line 587, in loads\\n    return _parse.from_bytecode(\\n  File \"/usr/local/lib/python3.10/site-packages/qiskit/qasm2/parse.py\", line 214, in from_bytecode\\n    for op in bc:\\nqiskit.qasm2.exceptions.QASM2ParseError: \"<input>:6,0: cannot use non-builtin custom instruction \\'cx\\' before definition\"\\n'\n",
      "Failed to execute to_execute.py in Docker.\n",
      "Error parsing: Command 'python /workspace/to_execute.py' in image 'qiskit_runner' returned non-zero exit status 1: b'Traceback (most recent call last):\\n  File \"/workspace/to_execute.py\", line 10, in <module>\\n    qc = qasm2.loads(\\n  File \"/usr/local/lib/python3.10/site-packages/qiskit/qasm2/__init__.py\", line 587, in loads\\n    return _parse.from_bytecode(\\n  File \"/usr/local/lib/python3.10/site-packages/qiskit/qasm2/parse.py\", line 214, in from_bytecode\\n    for op in bc:\\nqiskit.qasm2.exceptions.QASM2ParseError: \"<input>:7,14: \\'reg_2_b\\' is not defined in this scope\"\\n'\n",
      "Failed to execute to_execute.py in Docker.\n",
      "Error parsing: Command 'python /workspace/to_execute.py' in image 'qiskit_runner' returned non-zero exit status 1: b'Traceback (most recent call last):\\n  File \"/workspace/to_execute.py\", line 10, in <module>\\n    qc = qasm2.loads(\\n  File \"/usr/local/lib/python3.10/site-packages/qiskit/qasm2/__init__.py\", line 587, in loads\\n    return _parse.from_bytecode(\\n  File \"/usr/local/lib/python3.10/site-packages/qiskit/qasm2/parse.py\", line 214, in from_bytecode\\n    for op in bc:\\nqiskit.qasm2.exceptions.QASM2ParseError: \"<input>:6,3: \\'reg_1_q\\' is not defined in this scope\"\\n'\n",
      "Failed to execute to_execute.py in Docker.\n",
      "Output: Saved the BQSKit circuit to /workspace/to_execute_qc_bqskit.qasm\n",
      "Saved the Pytket circuit to /workspace/to_execute_qc_pytket.qasm\n",
      "Exported QASM files: [('/workspace/to_execute_qc_bqskit.qasm', 'export_to_qasm_with_bqskit'), ('/workspace/to_execute_qc_pytket.qasm', 'export_to_qasm_with_pytket')]\n",
      "Log has been saved to /workspace/to_execute_151dbc_error.json\n",
      "\n",
      "Program to_execute.py executed successfully.\n",
      "New exception message: The circuits are not equivalent: /workspace/to_execute_qc_bqskit.qasm, /workspace/to_execute_qc_pytket.qasm\n",
      "Error parsing: Command 'python /workspace/to_execute.py' in image 'qiskit_runner' returned non-zero exit status 1: b'  File \"/workspace/to_execute.py\", line 19\\n    , custom_instructions=qasm2.LEGACY_CUSTOM_INSTRUCTIONS)\\nIndentationError: unexpected indent\\n'\n",
      "Failed to execute to_execute.py in Docker.\n",
      "Error parsing: Command 'python /workspace/to_execute.py' in image 'qiskit_runner' returned non-zero exit status 1: b'  File \"/workspace/to_execute.py\", line 12\\n    include \"qelib1.inc\";\\n            ^^^^^^^^^^^^\\nSyntaxError: invalid syntax\\n'\n",
      "Failed to execute to_execute.py in Docker.\n",
      "Error parsing: Command 'python /workspace/to_execute.py' in image 'qiskit_runner' returned non-zero exit status 1: b'Traceback (most recent call last):\\n  File \"/workspace/to_execute.py\", line 10, in <module>\\n    qc = qasm2.loads(\\n  File \"/usr/local/lib/python3.10/site-packages/qiskit/qasm2/__init__.py\", line 587, in loads\\n    return _parse.from_bytecode(\\n  File \"/usr/local/lib/python3.10/site-packages/qiskit/qasm2/parse.py\", line 214, in from_bytecode\\n    for op in bc:\\nqiskit.qasm2.exceptions.QASM2ParseError: \"<input>:6,0: cannot use non-builtin custom instruction \\'cx\\' before definition\"\\n'\n",
      "Failed to execute to_execute.py in Docker.\n",
      "Error parsing: Command 'python /workspace/to_execute.py' in image 'qiskit_runner' returned non-zero exit status 1: b'Traceback (most recent call last):\\n  File \"/workspace/to_execute.py\", line 10, in <module>\\n    qc = qasm2.loads(\\n  File \"/usr/local/lib/python3.10/site-packages/qiskit/qasm2/__init__.py\", line 587, in loads\\n    return _parse.from_bytecode(\\n  File \"/usr/local/lib/python3.10/site-packages/qiskit/qasm2/parse.py\", line 214, in from_bytecode\\n    for op in bc:\\nqiskit.qasm2.exceptions.QASM2ParseError: \"<input>:6,16: \\'reg_2_b\\' is not defined in this scope\"\\n'\n",
      "Failed to execute to_execute.py in Docker.\n",
      "Output: Saved the BQSKit circuit to /workspace/to_execute_qc_bqskit.qasm\n",
      "Saved the Pytket circuit to /workspace/to_execute_qc_pytket.qasm\n",
      "Exported QASM files: [('/workspace/to_execute_qc_bqskit.qasm', 'export_to_qasm_with_bqskit'), ('/workspace/to_execute_qc_pytket.qasm', 'export_to_qasm_with_pytket')]\n",
      "Log has been saved to /workspace/to_execute_4f628b_error.json\n",
      "\n",
      "Program to_execute.py executed successfully.\n",
      "New exception message: The circuits are not equivalent: /workspace/to_execute_qc_bqskit.qasm, /workspace/to_execute_qc_pytket.qasm\n",
      "Error parsing: Command 'python /workspace/to_execute.py' in image 'qiskit_runner' returned non-zero exit status 1: b'  File \"/workspace/to_execute.py\", line 18\\n    , custom_instructions=qasm2.LEGACY_CUSTOM_INSTRUCTIONS)\\nIndentationError: unexpected indent\\n'\n",
      "Failed to execute to_execute.py in Docker.\n",
      "Error parsing: Command 'python /workspace/to_execute.py' in image 'qiskit_runner' returned non-zero exit status 1: b'  File \"/workspace/to_execute.py\", line 12\\n    include \"qelib1.inc\";\\n            ^^^^^^^^^^^^\\nSyntaxError: invalid syntax\\n'\n",
      "Failed to execute to_execute.py in Docker.\n",
      "Error parsing: Command 'python /workspace/to_execute.py' in image 'qiskit_runner' returned non-zero exit status 1: b'Traceback (most recent call last):\\n  File \"/workspace/to_execute.py\", line 10, in <module>\\n    qc = qasm2.loads(\\n  File \"/usr/local/lib/python3.10/site-packages/qiskit/qasm2/__init__.py\", line 587, in loads\\n    return _parse.from_bytecode(\\n  File \"/usr/local/lib/python3.10/site-packages/qiskit/qasm2/parse.py\", line 214, in from_bytecode\\n    for op in bc:\\nqiskit.qasm2.exceptions.QASM2ParseError: \"<input>:5,0: cannot use non-builtin custom instruction \\'cx\\' before definition\"\\n'\n",
      "Failed to execute to_execute.py in Docker.\n",
      "Error parsing: Command 'python /workspace/to_execute.py' in image 'qiskit_runner' returned non-zero exit status 1: b'Traceback (most recent call last):\\n  File \"/workspace/to_execute.py\", line 10, in <module>\\n    qc = qasm2.loads(\\n  File \"/usr/local/lib/python3.10/site-packages/qiskit/qasm2/__init__.py\", line 587, in loads\\n    return _parse.from_bytecode(\\n  File \"/usr/local/lib/python3.10/site-packages/qiskit/qasm2/parse.py\", line 214, in from_bytecode\\n    for op in bc:\\nqiskit.qasm2.exceptions.QASM2ParseError: \"<input>:5,16: \\'reg_2_b\\' is not defined in this scope\"\\n'\n",
      "Failed to execute to_execute.py in Docker.\n",
      "Error parsing: Command 'python /workspace/to_execute.py' in image 'qiskit_runner' returned non-zero exit status 1: b'  File \"/workspace/to_execute.py\", line 12\\n    OPENQASM 2.0;\\n    ^^^^^^^^^^^^\\nSyntaxError: invalid syntax. Perhaps you forgot a comma?\\n'\n",
      "Failed to execute to_execute.py in Docker.\n",
      "Error parsing: Command 'python /workspace/to_execute.py' in image 'qiskit_runner' returned non-zero exit status 1: b'  File \"/workspace/to_execute.py\", line 10\\n    qc = qasm2.loads(\\n                    ^\\nSyntaxError: \\'(\\' was never closed\\n'\n",
      "Failed to execute to_execute.py in Docker.\n",
      "Error parsing: Command 'python /workspace/to_execute.py' in image 'qiskit_runner' returned non-zero exit status 1: b'  File \"/workspace/to_execute.py\", line 19\\n    , custom_instructions=qasm2.LEGACY_CUSTOM_INSTRUCTIONS)\\nIndentationError: unexpected indent\\n'\n",
      "Failed to execute to_execute.py in Docker.\n",
      "Output: Saved the BQSKit circuit to /workspace/to_execute_qc_bqskit.qasm\n",
      "Saved the Pytket circuit to /workspace/to_execute_qc_pytket.qasm\n",
      "Exported QASM files: [('/workspace/to_execute_qc_bqskit.qasm', 'export_to_qasm_with_bqskit'), ('/workspace/to_execute_qc_pytket.qasm', 'export_to_qasm_with_pytket')]\n",
      "Log has been saved to /workspace/to_execute_03a1c0_error.json\n",
      "\n",
      "Program to_execute.py executed successfully.\n",
      "New exception message: The circuits are not equivalent: /workspace/to_execute_qc_bqskit.qasm, /workspace/to_execute_qc_pytket.qasm\n",
      "Error parsing: Command 'python /workspace/to_execute.py' in image 'qiskit_runner' returned non-zero exit status 1: b'  File \"/workspace/to_execute.py\", line 18\\n    , custom_instructions=qasm2.LEGACY_CUSTOM_INSTRUCTIONS)\\nIndentationError: unexpected indent\\n'\n",
      "Failed to execute to_execute.py in Docker.\n",
      "Error parsing: Command 'python /workspace/to_execute.py' in image 'qiskit_runner' returned non-zero exit status 1: b'  File \"/workspace/to_execute.py\", line 11\\n    OPENQASM 2.0;\\n    ^^^^^^^^^^^^\\nSyntaxError: invalid syntax. Perhaps you forgot a comma?\\n'\n",
      "Failed to execute to_execute.py in Docker.\n",
      "Output: Saved the BQSKit circuit to /workspace/to_execute_qc_bqskit.qasm\n",
      "Saved the Pytket circuit to /workspace/to_execute_qc_pytket.qasm\n",
      "Exported QASM files: [('/workspace/to_execute_qc_bqskit.qasm', 'export_to_qasm_with_bqskit'), ('/workspace/to_execute_qc_pytket.qasm', 'export_to_qasm_with_pytket')]\n",
      "Log has been saved to /workspace/to_execute_91a812_error.json\n",
      "\n",
      "Program to_execute.py executed successfully.\n",
      "New exception message: The circuits are not equivalent: /workspace/to_execute_qc_bqskit.qasm, /workspace/to_execute_qc_pytket.qasm\n",
      "Error parsing: Command 'python /workspace/to_execute.py' in image 'qiskit_runner' returned non-zero exit status 1: b'  File \"/workspace/to_execute.py\", line 17\\n    , custom_instructions=qasm2.LEGACY_CUSTOM_INSTRUCTIONS)\\nIndentationError: unexpected indent\\n'\n",
      "Failed to execute to_execute.py in Docker.\n",
      "Error parsing: Command 'python /workspace/to_execute.py' in image 'qiskit_runner' returned non-zero exit status 1: b'  File \"/workspace/to_execute.py\", line 11\\n    include \"qelib1.inc\";\\n            ^^^^^^^^^^^^\\nSyntaxError: invalid syntax\\n'\n",
      "Failed to execute to_execute.py in Docker.\n",
      "Error parsing: Command 'python /workspace/to_execute.py' in image 'qiskit_runner' returned non-zero exit status 1: b'Traceback (most recent call last):\\n  File \"/workspace/to_execute.py\", line 10, in <module>\\n    qc = qasm2.loads(\\n  File \"/usr/local/lib/python3.10/site-packages/qiskit/qasm2/__init__.py\", line 587, in loads\\n    return _parse.from_bytecode(\\n  File \"/usr/local/lib/python3.10/site-packages/qiskit/qasm2/parse.py\", line 214, in from_bytecode\\n    for op in bc:\\nqiskit.qasm2.exceptions.QASM2ParseError: \"<input>:5,0: cannot use non-builtin custom instruction \\'cx\\' before definition\"\\n'\n",
      "Failed to execute to_execute.py in Docker.\n",
      "Error parsing: Command 'python /workspace/to_execute.py' in image 'qiskit_runner' returned non-zero exit status 1: b'Traceback (most recent call last):\\n  File \"/workspace/to_execute.py\", line 10, in <module>\\n    qc = qasm2.loads(\\n  File \"/usr/local/lib/python3.10/site-packages/qiskit/qasm2/__init__.py\", line 587, in loads\\n    return _parse.from_bytecode(\\n  File \"/usr/local/lib/python3.10/site-packages/qiskit/qasm2/parse.py\", line 214, in from_bytecode\\n    for op in bc:\\nqiskit.qasm2.exceptions.QASM2ParseError: \"<input>:5,3: \\'reg_2_cin\\' is not defined in this scope\"\\n'\n",
      "Failed to execute to_execute.py in Docker.\n",
      "Error parsing: Command 'python /workspace/to_execute.py' in image 'qiskit_runner' returned non-zero exit status 1: b'Traceback (most recent call last):\\n  File \"/workspace/to_execute.py\", line 10, in <module>\\n    qc = qasm2.loads(\\n  File \"/usr/local/lib/python3.10/site-packages/qiskit/qasm2/__init__.py\", line 587, in loads\\n    return _parse.from_bytecode(\\n  File \"/usr/local/lib/python3.10/site-packages/qiskit/qasm2/parse.py\", line 214, in from_bytecode\\n    for op in bc:\\nqiskit.qasm2.exceptions.QASM2ParseError: \"<input>:5,16: \\'reg_2_b\\' is not defined in this scope\"\\n'\n",
      "Failed to execute to_execute.py in Docker.\n",
      "Output: Saved the BQSKit circuit to /workspace/to_execute_qc_bqskit.qasm\n",
      "Saved the Pytket circuit to /workspace/to_execute_qc_pytket.qasm\n",
      "Exported QASM files: [('/workspace/to_execute_qc_bqskit.qasm', 'export_to_qasm_with_bqskit'), ('/workspace/to_execute_qc_pytket.qasm', 'export_to_qasm_with_pytket')]\n",
      "Log has been saved to /workspace/to_execute_9b5d7e_error.json\n",
      "\n",
      "Program to_execute.py executed successfully.\n",
      "New exception message: The circuits are not equivalent: /workspace/to_execute_qc_bqskit.qasm, /workspace/to_execute_qc_pytket.qasm\n",
      "Error parsing: Command 'python /workspace/to_execute.py' in image 'qiskit_runner' returned non-zero exit status 1: b'  File \"/workspace/to_execute.py\", line 16\\n    , custom_instructions=qasm2.LEGACY_CUSTOM_INSTRUCTIONS)\\nIndentationError: unexpected indent\\n'\n",
      "Failed to execute to_execute.py in Docker.\n",
      "Error parsing: Command 'python /workspace/to_execute.py' in image 'qiskit_runner' returned non-zero exit status 1: b'  File \"/workspace/to_execute.py\", line 11\\n    include \"qelib1.inc\";\\n            ^^^^^^^^^^^^\\nSyntaxError: invalid syntax\\n'\n",
      "Failed to execute to_execute.py in Docker.\n",
      "Error parsing: Command 'python /workspace/to_execute.py' in image 'qiskit_runner' returned non-zero exit status 1: b'Traceback (most recent call last):\\n  File \"/workspace/to_execute.py\", line 10, in <module>\\n    qc = qasm2.loads(\\n  File \"/usr/local/lib/python3.10/site-packages/qiskit/qasm2/__init__.py\", line 587, in loads\\n    return _parse.from_bytecode(\\n  File \"/usr/local/lib/python3.10/site-packages/qiskit/qasm2/parse.py\", line 214, in from_bytecode\\n    for op in bc:\\nqiskit.qasm2.exceptions.QASM2ParseError: \"<input>:4,0: cannot use non-builtin custom instruction \\'cx\\' before definition\"\\n'\n",
      "Failed to execute to_execute.py in Docker.\n",
      "Error parsing: Command 'python /workspace/to_execute.py' in image 'qiskit_runner' returned non-zero exit status 1: b'Traceback (most recent call last):\\n  File \"/workspace/to_execute.py\", line 10, in <module>\\n    qc = qasm2.loads(\\n  File \"/usr/local/lib/python3.10/site-packages/qiskit/qasm2/__init__.py\", line 587, in loads\\n    return _parse.from_bytecode(\\n  File \"/usr/local/lib/python3.10/site-packages/qiskit/qasm2/parse.py\", line 214, in from_bytecode\\n    for op in bc:\\nqiskit.qasm2.exceptions.QASM2ParseError: \"<input>:4,3: \\'reg_2_cin\\' is not defined in this scope\"\\n'\n",
      "Failed to execute to_execute.py in Docker.\n",
      "Error parsing: Command 'python /workspace/to_execute.py' in image 'qiskit_runner' returned non-zero exit status 1: b'Traceback (most recent call last):\\n  File \"/workspace/to_execute.py\", line 10, in <module>\\n    qc = qasm2.loads(\\n  File \"/usr/local/lib/python3.10/site-packages/qiskit/qasm2/__init__.py\", line 587, in loads\\n    return _parse.from_bytecode(\\n  File \"/usr/local/lib/python3.10/site-packages/qiskit/qasm2/parse.py\", line 214, in from_bytecode\\n    for op in bc:\\nqiskit.qasm2.exceptions.QASM2ParseError: \"<input>:4,16: \\'reg_2_b\\' is not defined in this scope\"\\n'\n",
      "Failed to execute to_execute.py in Docker.\n",
      "Output: Saved the BQSKit circuit to /workspace/to_execute_qc_bqskit.qasm\n",
      "Saved the Pytket circuit to /workspace/to_execute_qc_pytket.qasm\n",
      "Exported QASM files: [('/workspace/to_execute_qc_bqskit.qasm', 'export_to_qasm_with_bqskit'), ('/workspace/to_execute_qc_pytket.qasm', 'export_to_qasm_with_pytket')]\n",
      "The circuits are equivalent: /workspace/to_execute_qc_bqskit.qasm, /workspace/to_execute_qc_pytket.qasm\n",
      "\n",
      "Program to_execute.py executed successfully.\n",
      "Error parsing: Command 'python /workspace/to_execute.py' in image 'qiskit_runner' returned non-zero exit status 1: b'  File \"/workspace/to_execute.py\", line 11\\n    include \"qelib1.inc\";\\n            ^^^^^^^^^^^^\\nSyntaxError: invalid syntax\\n'\n",
      "Failed to execute to_execute.py in Docker.\n",
      "Error parsing: Command 'python /workspace/to_execute.py' in image 'qiskit_runner' returned non-zero exit status 1: b'  File \"/workspace/to_execute.py\", line 10\\n    qc = qasm2.loads(\\n                    ^\\nSyntaxError: \\'(\\' was never closed\\n'\n",
      "Failed to execute to_execute.py in Docker.\n"
     ]
    },
    {
     "data": {
      "text/html": [
       "<pre style=\"white-space:pre;overflow-x:auto;line-height:normal;font-family:Menlo,'DejaVu Sans Mono',consolas,'Courier New',monospace\"><span style=\"color: #7fbfbf; text-decoration-color: #7fbfbf\">[15:23:48] </span><span style=\"color: #008000; text-decoration-color: #008000\">Minimized file saved as:</span>                                                        <a href=\"file:///home/paltenmo/projects/crossplatform/analysis_and_reporting/ddmin_target_file.py\" target=\"_blank\"><span style=\"color: #7f7f7f; text-decoration-color: #7f7f7f\">ddmin_target_file.py</span></a><span style=\"color: #7f7f7f; text-decoration-color: #7f7f7f\">:</span><a href=\"file:///home/paltenmo/projects/crossplatform/analysis_and_reporting/ddmin_target_file.py#240\" target=\"_blank\"><span style=\"color: #7f7f7f; text-decoration-color: #7f7f7f\">240</span></a>\n",
       "<span style=\"color: #7fbfbf; text-decoration-color: #7fbfbf\">           </span>..<span style=\"color: #800080; text-decoration-color: #800080\">/reports/v009/2024_11_21__15_20/</span><span style=\"color: #ff00ff; text-decoration-color: #ff00ff\">qiskit_circuit_5q_10g_650_4493c8_a271e3_error</span> <span style=\"color: #7f7f7f; text-decoration-color: #7f7f7f\">                        </span>\n",
       "<span style=\"color: #7fbfbf; text-decoration-color: #7fbfbf\">           </span><span style=\"color: #ff00ff; text-decoration-color: #ff00ff\">_min.py</span>                                                                         <span style=\"color: #7f7f7f; text-decoration-color: #7f7f7f\">                        </span>\n",
       "</pre>\n"
      ],
      "text/plain": [
       "\u001b[2;36m[15:23:48]\u001b[0m\u001b[2;36m \u001b[0m\u001b[32mMinimized file saved as:\u001b[0m                                                        \u001b]8;id=23267;file:///home/paltenmo/projects/crossplatform/analysis_and_reporting/ddmin_target_file.py\u001b\\\u001b[2mddmin_target_file.py\u001b[0m\u001b]8;;\u001b\\\u001b[2m:\u001b[0m\u001b]8;id=35295;file:///home/paltenmo/projects/crossplatform/analysis_and_reporting/ddmin_target_file.py#240\u001b\\\u001b[2m240\u001b[0m\u001b]8;;\u001b\\\n",
       "\u001b[2;36m           \u001b[0m..\u001b[35m/reports/v009/2024_11_21__15_20/\u001b[0m\u001b[95mqiskit_circuit_5q_10g_650_4493c8_a271e3_error\u001b[0m \u001b[2m                        \u001b[0m\n",
       "\u001b[2;36m           \u001b[0m\u001b[95m_min.py\u001b[0m                                                                         \u001b[2m                        \u001b[0m\n"
      ]
     },
     "metadata": {},
     "output_type": "display_data"
    },
    {
     "name": "stdout",
     "output_type": "stream",
     "text": [
      "Output: Saved the BQSKit circuit to /workspace/qiskit_circuit_5q_10g_650_4493c8_a271e3_error_min_qc_bqskit.qasm\n",
      "Saved the Pytket circuit to /workspace/qiskit_circuit_5q_10g_650_4493c8_a271e3_error_min_qc_pytket.qasm\n",
      "Exported QASM files: [('/workspace/qiskit_circuit_5q_10g_650_4493c8_a271e3_error_min_qc_bqskit.qasm', 'export_to_qasm_with_bqskit'), ('/workspace/qiskit_circuit_5q_10g_650_4493c8_a271e3_error_min_qc_pytket.qasm', 'export_to_qasm_with_pytket')]\n",
      "Log has been saved to /workspace/qiskit_circuit_5q_10g_650_4493c8_a271e3_error_min_47549b_error.json\n",
      "\n"
     ]
    },
    {
     "data": {
      "text/html": [
       "<pre style=\"white-space:pre;overflow-x:auto;line-height:normal;font-family:Menlo,'DejaVu Sans Mono',consolas,'Courier New',monospace\"><span style=\"color: #7fbfbf; text-decoration-color: #7fbfbf\">[15:23:55] </span>Program qiskit_circuit_5q_10g_650_4493c8_a271e3_error_min.py executed successfully. <a href=\"file:///home/paltenmo/projects/crossplatform/generators/docker_tooling.py\" target=\"_blank\"><span style=\"color: #7f7f7f; text-decoration-color: #7f7f7f\">docker_tooling.py</span></a><span style=\"color: #7f7f7f; text-decoration-color: #7f7f7f\">:</span><a href=\"file:///home/paltenmo/projects/crossplatform/generators/docker_tooling.py#46\" target=\"_blank\"><span style=\"color: #7f7f7f; text-decoration-color: #7f7f7f\">46</span></a>\n",
       "</pre>\n"
      ],
      "text/plain": [
       "\u001b[2;36m[15:23:55]\u001b[0m\u001b[2;36m \u001b[0mProgram qiskit_circuit_5q_10g_650_4493c8_a271e3_error_min.py executed successfully. \u001b]8;id=382553;file:///home/paltenmo/projects/crossplatform/generators/docker_tooling.py\u001b\\\u001b[2mdocker_tooling.py\u001b[0m\u001b]8;;\u001b\\\u001b[2m:\u001b[0m\u001b]8;id=189236;file:///home/paltenmo/projects/crossplatform/generators/docker_tooling.py#46\u001b\\\u001b[2m46\u001b[0m\u001b]8;;\u001b\\\n"
      ]
     },
     "metadata": {},
     "output_type": "display_data"
    },
    {
     "data": {
      "application/vnd.jupyter.widget-view+json": {
       "model_id": "aadc11eac00b4aa3943bb704a9837f38",
       "version_major": 2,
       "version_minor": 0
      },
      "text/plain": [
       "Executing:   0%|          | 0/13 [00:00<?, ?cell/s]"
      ]
     },
     "metadata": {},
     "output_type": "display_data"
    },
    {
     "data": {
      "text/html": [
       "<pre style=\"white-space:pre;overflow-x:auto;line-height:normal;font-family:Menlo,'DejaVu Sans Mono',consolas,'Courier New',monospace\"><span style=\"color: #7fbfbf; text-decoration-color: #7fbfbf\">[15:23:58] </span>Analysis notebook executed: ..<span style=\"color: #800080; text-decoration-color: #800080\">/reports/v009/2024_11_21__15_20/</span><span style=\"color: #ff00ff; text-decoration-color: #ff00ff\">analysis_output.ipynb</span>        <a href=\"file:///home/paltenmo/projects/crossplatform/analysis_and_reporting/triage.py\" target=\"_blank\"><span style=\"color: #7f7f7f; text-decoration-color: #7f7f7f\">triage.py</span></a><span style=\"color: #7f7f7f; text-decoration-color: #7f7f7f\">:</span><a href=\"file:///home/paltenmo/projects/crossplatform/analysis_and_reporting/triage.py#163\" target=\"_blank\"><span style=\"color: #7f7f7f; text-decoration-color: #7f7f7f\">163</span></a>\n",
       "</pre>\n"
      ],
      "text/plain": [
       "\u001b[2;36m[15:23:58]\u001b[0m\u001b[2;36m \u001b[0mAnalysis notebook executed: ..\u001b[35m/reports/v009/2024_11_21__15_20/\u001b[0m\u001b[95manalysis_output.ipynb\u001b[0m        \u001b]8;id=657687;file:///home/paltenmo/projects/crossplatform/analysis_and_reporting/triage.py\u001b\\\u001b[2mtriage.py\u001b[0m\u001b]8;;\u001b\\\u001b[2m:\u001b[0m\u001b]8;id=90175;file:///home/paltenmo/projects/crossplatform/analysis_and_reporting/triage.py#163\u001b\\\u001b[2m163\u001b[0m\u001b]8;;\u001b\\\n"
      ]
     },
     "metadata": {},
     "output_type": "display_data"
    },
    {
     "data": {
      "text/html": [
       "<pre style=\"white-space:pre;overflow-x:auto;line-height:normal;font-family:Menlo,'DejaVu Sans Mono',consolas,'Courier New',monospace\"><span style=\"color: #7fbfbf; text-decoration-color: #7fbfbf\">           </span>Created report folder: ..<span style=\"color: #800080; text-decoration-color: #800080\">/reports/v009/</span><span style=\"color: #ff00ff; text-decoration-color: #ff00ff\">2024_11_21__15_23</span>                                   <a href=\"file:///home/paltenmo/projects/crossplatform/analysis_and_reporting/triage.py\" target=\"_blank\"><span style=\"color: #7f7f7f; text-decoration-color: #7f7f7f\">triage.py</span></a><span style=\"color: #7f7f7f; text-decoration-color: #7f7f7f\">:</span><a href=\"file:///home/paltenmo/projects/crossplatform/analysis_and_reporting/triage.py#131\" target=\"_blank\"><span style=\"color: #7f7f7f; text-decoration-color: #7f7f7f\">131</span></a>\n",
       "</pre>\n"
      ],
      "text/plain": [
       "\u001b[2;36m          \u001b[0m\u001b[2;36m \u001b[0mCreated report folder: ..\u001b[35m/reports/v009/\u001b[0m\u001b[95m2024_11_21__15_23\u001b[0m                                   \u001b]8;id=436416;file:///home/paltenmo/projects/crossplatform/analysis_and_reporting/triage.py\u001b\\\u001b[2mtriage.py\u001b[0m\u001b]8;;\u001b\\\u001b[2m:\u001b[0m\u001b]8;id=622083;file:///home/paltenmo/projects/crossplatform/analysis_and_reporting/triage.py#131\u001b\\\u001b[2m131\u001b[0m\u001b]8;;\u001b\\\n"
      ]
     },
     "metadata": {},
     "output_type": "display_data"
    },
    {
     "data": {
      "text/html": [
       "<pre style=\"white-space:pre;overflow-x:auto;line-height:normal;font-family:Menlo,'DejaVu Sans Mono',consolas,'Courier New',monospace\"><span style=\"color: #7fbfbf; text-decoration-color: #7fbfbf\">           </span>Copied files to: ..<span style=\"color: #800080; text-decoration-color: #800080\">/reports/v009/</span><span style=\"color: #ff00ff; text-decoration-color: #ff00ff\">2024_11_21__15_23</span>                                         <a href=\"file:///home/paltenmo/projects/crossplatform/analysis_and_reporting/triage.py\" target=\"_blank\"><span style=\"color: #7f7f7f; text-decoration-color: #7f7f7f\">triage.py</span></a><span style=\"color: #7f7f7f; text-decoration-color: #7f7f7f\">:</span><a href=\"file:///home/paltenmo/projects/crossplatform/analysis_and_reporting/triage.py#140\" target=\"_blank\"><span style=\"color: #7f7f7f; text-decoration-color: #7f7f7f\">140</span></a>\n",
       "</pre>\n"
      ],
      "text/plain": [
       "\u001b[2;36m          \u001b[0m\u001b[2;36m \u001b[0mCopied files to: ..\u001b[35m/reports/v009/\u001b[0m\u001b[95m2024_11_21__15_23\u001b[0m                                         \u001b]8;id=507940;file:///home/paltenmo/projects/crossplatform/analysis_and_reporting/triage.py\u001b\\\u001b[2mtriage.py\u001b[0m\u001b]8;;\u001b\\\u001b[2m:\u001b[0m\u001b]8;id=690126;file:///home/paltenmo/projects/crossplatform/analysis_and_reporting/triage.py#140\u001b\\\u001b[2m140\u001b[0m\u001b]8;;\u001b\\\n"
      ]
     },
     "metadata": {},
     "output_type": "display_data"
    },
    {
     "data": {
      "text/html": [
       "<pre style=\"white-space:pre;overflow-x:auto;line-height:normal;font-family:Menlo,'DejaVu Sans Mono',consolas,'Courier New',monospace\"><span style=\"color: #7fbfbf; text-decoration-color: #7fbfbf\">[15:23:58] </span>Involved functions:                                                             <a href=\"file:///home/paltenmo/projects/crossplatform/analysis_and_reporting/ddmin_target_file.py\" target=\"_blank\"><span style=\"color: #7f7f7f; text-decoration-color: #7f7f7f\">ddmin_target_file.py</span></a><span style=\"color: #7f7f7f; text-decoration-color: #7f7f7f\">:</span><a href=\"file:///home/paltenmo/projects/crossplatform/analysis_and_reporting/ddmin_target_file.py#206\" target=\"_blank\"><span style=\"color: #7f7f7f; text-decoration-color: #7f7f7f\">206</span></a>\n",
       "</pre>\n"
      ],
      "text/plain": [
       "\u001b[2;36m[15:23:58]\u001b[0m\u001b[2;36m \u001b[0mInvolved functions:                                                             \u001b]8;id=648791;file:///home/paltenmo/projects/crossplatform/analysis_and_reporting/ddmin_target_file.py\u001b\\\u001b[2mddmin_target_file.py\u001b[0m\u001b]8;;\u001b\\\u001b[2m:\u001b[0m\u001b]8;id=867010;file:///home/paltenmo/projects/crossplatform/analysis_and_reporting/ddmin_target_file.py#206\u001b\\\u001b[2m206\u001b[0m\u001b]8;;\u001b\\\n"
      ]
     },
     "metadata": {},
     "output_type": "display_data"
    },
    {
     "data": {
      "text/html": [
       "<pre style=\"white-space:pre;overflow-x:auto;line-height:normal;font-family:Menlo,'DejaVu Sans Mono',consolas,'Courier New',monospace\"><span style=\"color: #7fbfbf; text-decoration-color: #7fbfbf\">           </span>  - compare_qasm_via_qcec                                                       <a href=\"file:///home/paltenmo/projects/crossplatform/analysis_and_reporting/ddmin_target_file.py\" target=\"_blank\"><span style=\"color: #7f7f7f; text-decoration-color: #7f7f7f\">ddmin_target_file.py</span></a><span style=\"color: #7f7f7f; text-decoration-color: #7f7f7f\">:</span><a href=\"file:///home/paltenmo/projects/crossplatform/analysis_and_reporting/ddmin_target_file.py#208\" target=\"_blank\"><span style=\"color: #7f7f7f; text-decoration-color: #7f7f7f\">208</span></a>\n",
       "</pre>\n"
      ],
      "text/plain": [
       "\u001b[2;36m          \u001b[0m\u001b[2;36m \u001b[0m  - compare_qasm_via_qcec                                                       \u001b]8;id=128903;file:///home/paltenmo/projects/crossplatform/analysis_and_reporting/ddmin_target_file.py\u001b\\\u001b[2mddmin_target_file.py\u001b[0m\u001b]8;;\u001b\\\u001b[2m:\u001b[0m\u001b]8;id=262494;file:///home/paltenmo/projects/crossplatform/analysis_and_reporting/ddmin_target_file.py#208\u001b\\\u001b[2m208\u001b[0m\u001b]8;;\u001b\\\n"
      ]
     },
     "metadata": {},
     "output_type": "display_data"
    },
    {
     "data": {
      "text/html": [
       "<pre style=\"white-space:pre;overflow-x:auto;line-height:normal;font-family:Menlo,'DejaVu Sans Mono',consolas,'Courier New',monospace\"><span style=\"color: #7fbfbf; text-decoration-color: #7fbfbf\">           </span>  - export_to_qasm_with_pytket                                                  <a href=\"file:///home/paltenmo/projects/crossplatform/analysis_and_reporting/ddmin_target_file.py\" target=\"_blank\"><span style=\"color: #7f7f7f; text-decoration-color: #7f7f7f\">ddmin_target_file.py</span></a><span style=\"color: #7f7f7f; text-decoration-color: #7f7f7f\">:</span><a href=\"file:///home/paltenmo/projects/crossplatform/analysis_and_reporting/ddmin_target_file.py#208\" target=\"_blank\"><span style=\"color: #7f7f7f; text-decoration-color: #7f7f7f\">208</span></a>\n",
       "</pre>\n"
      ],
      "text/plain": [
       "\u001b[2;36m          \u001b[0m\u001b[2;36m \u001b[0m  - export_to_qasm_with_pytket                                                  \u001b]8;id=130607;file:///home/paltenmo/projects/crossplatform/analysis_and_reporting/ddmin_target_file.py\u001b\\\u001b[2mddmin_target_file.py\u001b[0m\u001b]8;;\u001b\\\u001b[2m:\u001b[0m\u001b]8;id=854269;file:///home/paltenmo/projects/crossplatform/analysis_and_reporting/ddmin_target_file.py#208\u001b\\\u001b[2m208\u001b[0m\u001b]8;;\u001b\\\n"
      ]
     },
     "metadata": {},
     "output_type": "display_data"
    },
    {
     "data": {
      "text/html": [
       "<pre style=\"white-space:pre;overflow-x:auto;line-height:normal;font-family:Menlo,'DejaVu Sans Mono',consolas,'Courier New',monospace\"><span style=\"color: #7fbfbf; text-decoration-color: #7fbfbf\">           </span>  - export_to_qasm_with_qiskit                                                  <a href=\"file:///home/paltenmo/projects/crossplatform/analysis_and_reporting/ddmin_target_file.py\" target=\"_blank\"><span style=\"color: #7f7f7f; text-decoration-color: #7f7f7f\">ddmin_target_file.py</span></a><span style=\"color: #7f7f7f; text-decoration-color: #7f7f7f\">:</span><a href=\"file:///home/paltenmo/projects/crossplatform/analysis_and_reporting/ddmin_target_file.py#208\" target=\"_blank\"><span style=\"color: #7f7f7f; text-decoration-color: #7f7f7f\">208</span></a>\n",
       "</pre>\n"
      ],
      "text/plain": [
       "\u001b[2;36m          \u001b[0m\u001b[2;36m \u001b[0m  - export_to_qasm_with_qiskit                                                  \u001b]8;id=710345;file:///home/paltenmo/projects/crossplatform/analysis_and_reporting/ddmin_target_file.py\u001b\\\u001b[2mddmin_target_file.py\u001b[0m\u001b]8;;\u001b\\\u001b[2m:\u001b[0m\u001b]8;id=164765;file:///home/paltenmo/projects/crossplatform/analysis_and_reporting/ddmin_target_file.py#208\u001b\\\u001b[2m208\u001b[0m\u001b]8;;\u001b\\\n"
      ]
     },
     "metadata": {},
     "output_type": "display_data"
    },
    {
     "name": "stdout",
     "output_type": "stream",
     "text": [
      "Error parsing: Command 'python /workspace/to_execute.py' in image 'qiskit_runner' returned non-zero exit status 1: b'Traceback (most recent call last):\\n  File \"/workspace/to_execute.py\", line 105, in <module>\\n    target_qc = qc\\nNameError: name \\'qc\\' is not defined\\n'\n",
      "Failed to execute to_execute.py in Docker.\n",
      "Output: Saved the Pytket circuit to /workspace/to_execute_qc_pytket.qasm\n",
      "Saved the Qiskit circuit to /workspace/to_execute_qc_qiskit.qasm\n",
      "Exported QASM files: [('/workspace/to_execute_qc_pytket.qasm', 'export_to_qasm_with_pytket'), ('/workspace/to_execute_qc_qiskit.qasm', 'export_to_qasm_with_qiskit')]\n",
      "Log has been saved to /workspace/to_execute_20d2d1_error.json\n",
      "\n",
      "Program to_execute.py executed successfully.\n",
      "New exception message: The circuits are not equivalent: /workspace/to_execute_qc_pytket.qasm, /workspace/to_execute_qc_qiskit.qasm\n",
      "Error parsing: Command 'python /workspace/to_execute.py' in image 'qiskit_runner' returned non-zero exit status 1: b'  File \"/workspace/to_execute.py\", line 20\\n    , custom_instructions=qasm2.LEGACY_CUSTOM_INSTRUCTIONS)\\n                                                          ^\\nSyntaxError: unmatched \\')\\'\\n'\n",
      "Failed to execute to_execute.py in Docker.\n",
      "Error parsing: Command 'python /workspace/to_execute.py' in image 'qiskit_runner' returned non-zero exit status 1: b'  File \"/workspace/to_execute.py\", line 10\\n    qc = qasm2.loads(\\n                    ^\\nSyntaxError: \\'(\\' was never closed\\n'\n",
      "Failed to execute to_execute.py in Docker.\n",
      "Error parsing: Command 'python /workspace/to_execute.py' in image 'qiskit_runner' returned non-zero exit status 1: b'  File \"/workspace/to_execute.py\", line 29\\n    , custom_instructions=qasm2.LEGACY_CUSTOM_INSTRUCTIONS)\\n                                                          ^\\nSyntaxError: unmatched \\')\\'\\n'\n",
      "Failed to execute to_execute.py in Docker.\n",
      "Error parsing: Command 'python /workspace/to_execute.py' in image 'qiskit_runner' returned non-zero exit status 1: b'Traceback (most recent call last):\\n  File \"/workspace/to_execute.py\", line 10, in <module>\\n    qc = qasm2.loads(\\n  File \"/usr/local/lib/python3.10/site-packages/qiskit/qasm2/__init__.py\", line 587, in loads\\n    return _parse.from_bytecode(\\n  File \"/usr/local/lib/python3.10/site-packages/qiskit/qasm2/parse.py\", line 214, in from_bytecode\\n    for op in bc:\\nqiskit.qasm2.exceptions.QASM2ParseError: \"<input>:6,28: \\'reg_1_q\\' is not defined in this scope\"\\n'\n",
      "Failed to execute to_execute.py in Docker.\n",
      "Output: Saved the Pytket circuit to /workspace/to_execute_qc_pytket.qasm\n",
      "Saved the Qiskit circuit to /workspace/to_execute_qc_qiskit.qasm\n",
      "Exported QASM files: [('/workspace/to_execute_qc_pytket.qasm', 'export_to_qasm_with_pytket'), ('/workspace/to_execute_qc_qiskit.qasm', 'export_to_qasm_with_qiskit')]\n",
      "Log has been saved to /workspace/to_execute_c65993_error.json\n",
      "\n",
      "Program to_execute.py executed successfully.\n",
      "New exception message: The circuits are not equivalent: /workspace/to_execute_qc_pytket.qasm, /workspace/to_execute_qc_qiskit.qasm\n",
      "Error parsing: Command 'python /workspace/to_execute.py' in image 'qiskit_runner' returned non-zero exit status 1: b'  File \"/workspace/to_execute.py\", line 20\\n    , custom_instructions=qasm2.LEGACY_CUSTOM_INSTRUCTIONS)\\n                                                          ^\\nSyntaxError: unmatched \\')\\'\\n'\n",
      "Failed to execute to_execute.py in Docker.\n",
      "Error parsing: Command 'python /workspace/to_execute.py' in image 'qiskit_runner' returned non-zero exit status 1: b'Traceback (most recent call last):\\n  File \"/workspace/to_execute.py\", line 10, in <module>\\n    qc = qasm2.loads(\\n  File \"/usr/local/lib/python3.10/site-packages/qiskit/qasm2/__init__.py\", line 587, in loads\\n    return _parse.from_bytecode(\\n  File \"/usr/local/lib/python3.10/site-packages/qiskit/qasm2/parse.py\", line 214, in from_bytecode\\n    for op in bc:\\nqiskit.qasm2.exceptions.QASM2ParseError: \"<input>:5,24: \\'reg_1_q\\' is not defined in this scope\"\\n'\n",
      "Failed to execute to_execute.py in Docker.\n",
      "Error parsing: Command 'python /workspace/to_execute.py' in image 'qiskit_runner' returned non-zero exit status 1: b'  File \"/workspace/to_execute.py\", line 10\\n    qc = qasm2.loads(\\n                    ^\\nSyntaxError: \\'(\\' was never closed\\n'\n",
      "Failed to execute to_execute.py in Docker.\n",
      "Error parsing: Command 'python /workspace/to_execute.py' in image 'qiskit_runner' returned non-zero exit status 1: b'  File \"/workspace/to_execute.py\", line 23\\n    , custom_instructions=qasm2.LEGACY_CUSTOM_INSTRUCTIONS)\\n                                                          ^\\nSyntaxError: unmatched \\')\\'\\n'\n",
      "Failed to execute to_execute.py in Docker.\n",
      "Error parsing: Command 'python /workspace/to_execute.py' in image 'qiskit_runner' returned non-zero exit status 1: b'Traceback (most recent call last):\\n  File \"/workspace/to_execute.py\", line 10, in <module>\\n    qc = qasm2.loads(\\n  File \"/usr/local/lib/python3.10/site-packages/qiskit/qasm2/__init__.py\", line 587, in loads\\n    return _parse.from_bytecode(\\n  File \"/usr/local/lib/python3.10/site-packages/qiskit/qasm2/parse.py\", line 214, in from_bytecode\\n    for op in bc:\\nqiskit.qasm2.exceptions.QASM2ParseError: \"<input>:5,0: cannot use non-builtin custom instruction \\'cx\\' before definition\"\\n'\n",
      "Failed to execute to_execute.py in Docker.\n",
      "Error parsing: Command 'python /workspace/to_execute.py' in image 'qiskit_runner' returned non-zero exit status 1: b'Traceback (most recent call last):\\n  File \"/workspace/to_execute.py\", line 10, in <module>\\n    qc = qasm2.loads(\\n  File \"/usr/local/lib/python3.10/site-packages/qiskit/qasm2/__init__.py\", line 587, in loads\\n    return _parse.from_bytecode(\\n  File \"/usr/local/lib/python3.10/site-packages/qiskit/qasm2/parse.py\", line 214, in from_bytecode\\n    for op in bc:\\nqiskit.qasm2.exceptions.QASM2ParseError: \"<input>:5,3: \\'reg_1_q\\' is not defined in this scope\"\\n'\n",
      "Failed to execute to_execute.py in Docker.\n",
      "Output: Saved the Pytket circuit to /workspace/to_execute_qc_pytket.qasm\n",
      "Saved the Qiskit circuit to /workspace/to_execute_qc_qiskit.qasm\n",
      "Exported QASM files: [('/workspace/to_execute_qc_pytket.qasm', 'export_to_qasm_with_pytket'), ('/workspace/to_execute_qc_qiskit.qasm', 'export_to_qasm_with_qiskit')]\n",
      "Log has been saved to /workspace/to_execute_ce52a4_error.json\n",
      "\n",
      "Program to_execute.py executed successfully.\n",
      "New exception message: The circuits are not equivalent: /workspace/to_execute_qc_pytket.qasm, /workspace/to_execute_qc_qiskit.qasm\n",
      "Error parsing: Command 'python /workspace/to_execute.py' in image 'qiskit_runner' returned non-zero exit status 1: b'  File \"/workspace/to_execute.py\", line 19\\n    , custom_instructions=qasm2.LEGACY_CUSTOM_INSTRUCTIONS)\\n                                                          ^\\nSyntaxError: unmatched \\')\\'\\n'\n",
      "Failed to execute to_execute.py in Docker.\n",
      "Error parsing: Command 'python /workspace/to_execute.py' in image 'qiskit_runner' returned non-zero exit status 1: b'Traceback (most recent call last):\\n  File \"/workspace/to_execute.py\", line 10, in <module>\\n    qc = qasm2.loads(\\n  File \"/usr/local/lib/python3.10/site-packages/qiskit/qasm2/__init__.py\", line 587, in loads\\n    return _parse.from_bytecode(\\n  File \"/usr/local/lib/python3.10/site-packages/qiskit/qasm2/parse.py\", line 214, in from_bytecode\\n    for op in bc:\\nqiskit.qasm2.exceptions.QASM2ParseError: \"<input>:6,0: cannot use non-builtin custom instruction \\'cx\\' before definition\"\\n'\n",
      "Failed to execute to_execute.py in Docker.\n",
      "Error parsing: Command 'python /workspace/to_execute.py' in image 'qiskit_runner' returned non-zero exit status 1: b'Traceback (most recent call last):\\n  File \"/workspace/to_execute.py\", line 10, in <module>\\n    qc = qasm2.loads(\\n  File \"/usr/local/lib/python3.10/site-packages/qiskit/qasm2/__init__.py\", line 587, in loads\\n    return _parse.from_bytecode(\\n  File \"/usr/local/lib/python3.10/site-packages/qiskit/qasm2/parse.py\", line 214, in from_bytecode\\n    for op in bc:\\nqiskit.qasm2.exceptions.QASM2ParseError: \"<input>:5,24: \\'reg_1_q\\' is not defined in this scope\"\\n'\n",
      "Failed to execute to_execute.py in Docker.\n",
      "Output: Saved the Pytket circuit to /workspace/to_execute_qc_pytket.qasm\n",
      "Saved the Qiskit circuit to /workspace/to_execute_qc_qiskit.qasm\n",
      "Exported QASM files: [('/workspace/to_execute_qc_pytket.qasm', 'export_to_qasm_with_pytket'), ('/workspace/to_execute_qc_qiskit.qasm', 'export_to_qasm_with_qiskit')]\n",
      "The circuits are equivalent: /workspace/to_execute_qc_pytket.qasm, /workspace/to_execute_qc_qiskit.qasm\n",
      "\n",
      "Program to_execute.py executed successfully.\n",
      "Error parsing: Command 'python /workspace/to_execute.py' in image 'qiskit_runner' returned non-zero exit status 1: b'  File \"/workspace/to_execute.py\", line 10\\n    qc = qasm2.loads(\\n                    ^\\nSyntaxError: \\'(\\' was never closed\\n'\n",
      "Failed to execute to_execute.py in Docker.\n",
      "Error parsing: Command 'python /workspace/to_execute.py' in image 'qiskit_runner' returned non-zero exit status 1: b'  File \"/workspace/to_execute.py\", line 22\\n    , custom_instructions=qasm2.LEGACY_CUSTOM_INSTRUCTIONS)\\nIndentationError: unexpected indent\\n'\n",
      "Failed to execute to_execute.py in Docker.\n",
      "Output: Saved the Pytket circuit to /workspace/to_execute_qc_pytket.qasm\n",
      "Saved the Qiskit circuit to /workspace/to_execute_qc_qiskit.qasm\n",
      "Exported QASM files: [('/workspace/to_execute_qc_pytket.qasm', 'export_to_qasm_with_pytket'), ('/workspace/to_execute_qc_qiskit.qasm', 'export_to_qasm_with_qiskit')]\n",
      "Log has been saved to /workspace/to_execute_f821ab_error.json\n",
      "\n",
      "Program to_execute.py executed successfully.\n",
      "New exception message: The circuits are not equivalent: /workspace/to_execute_qc_pytket.qasm, /workspace/to_execute_qc_qiskit.qasm\n",
      "Error parsing: Command 'python /workspace/to_execute.py' in image 'qiskit_runner' returned non-zero exit status 1: b'  File \"/workspace/to_execute.py\", line 21\\n    , custom_instructions=qasm2.LEGACY_CUSTOM_INSTRUCTIONS)\\nIndentationError: unexpected indent\\n'\n",
      "Failed to execute to_execute.py in Docker.\n",
      "Error parsing: Command 'python /workspace/to_execute.py' in image 'qiskit_runner' returned non-zero exit status 1: b'  File \"/workspace/to_execute.py\", line 11\\n    include \"qelib1.inc\";\\n            ^^^^^^^^^^^^\\nSyntaxError: invalid syntax\\n'\n",
      "Failed to execute to_execute.py in Docker.\n",
      "Error parsing: Command 'python /workspace/to_execute.py' in image 'qiskit_runner' returned non-zero exit status 1: b'Traceback (most recent call last):\\n  File \"/workspace/to_execute.py\", line 10, in <module>\\n    qc = qasm2.loads(\\n  File \"/usr/local/lib/python3.10/site-packages/qiskit/qasm2/__init__.py\", line 587, in loads\\n    return _parse.from_bytecode(\\n  File \"/usr/local/lib/python3.10/site-packages/qiskit/qasm2/parse.py\", line 214, in from_bytecode\\n    for op in bc:\\nqiskit.qasm2.exceptions.QASM2ParseError: \"<input>:8,0: cannot use non-builtin custom instruction \\'cx\\' before definition\"\\n'\n",
      "Failed to execute to_execute.py in Docker.\n",
      "Error parsing: Command 'python /workspace/to_execute.py' in image 'qiskit_runner' returned non-zero exit status 1: b'Traceback (most recent call last):\\n  File \"/workspace/to_execute.py\", line 10, in <module>\\n    qc = qasm2.loads(\\n  File \"/usr/local/lib/python3.10/site-packages/qiskit/qasm2/__init__.py\", line 587, in loads\\n    return _parse.from_bytecode(\\n  File \"/usr/local/lib/python3.10/site-packages/qiskit/qasm2/parse.py\", line 214, in from_bytecode\\n    for op in bc:\\nqiskit.qasm2.exceptions.QASM2ParseError: \"<input>:7,14: \\'reg_2_b\\' is not defined in this scope\"\\n'\n",
      "Failed to execute to_execute.py in Docker.\n",
      "Error parsing: Command 'python /workspace/to_execute.py' in image 'qiskit_runner' returned non-zero exit status 1: b'Traceback (most recent call last):\\n  File \"/workspace/to_execute.py\", line 10, in <module>\\n    qc = qasm2.loads(\\n  File \"/usr/local/lib/python3.10/site-packages/qiskit/qasm2/__init__.py\", line 587, in loads\\n    return _parse.from_bytecode(\\n  File \"/usr/local/lib/python3.10/site-packages/qiskit/qasm2/parse.py\", line 214, in from_bytecode\\n    for op in bc:\\nqiskit.qasm2.exceptions.QASM2ParseError: \"<input>:7,24: \\'reg_1_q\\' is not defined in this scope\"\\n'\n",
      "Failed to execute to_execute.py in Docker.\n",
      "Output: Saved the Pytket circuit to /workspace/to_execute_qc_pytket.qasm\n",
      "Saved the Qiskit circuit to /workspace/to_execute_qc_qiskit.qasm\n",
      "Exported QASM files: [('/workspace/to_execute_qc_pytket.qasm', 'export_to_qasm_with_pytket'), ('/workspace/to_execute_qc_qiskit.qasm', 'export_to_qasm_with_qiskit')]\n",
      "Log has been saved to /workspace/to_execute_82fdfc_error.json\n",
      "\n",
      "Program to_execute.py executed successfully.\n",
      "New exception message: The circuits are not equivalent: /workspace/to_execute_qc_pytket.qasm, /workspace/to_execute_qc_qiskit.qasm\n",
      "Error parsing: Command 'python /workspace/to_execute.py' in image 'qiskit_runner' returned non-zero exit status 1: b'  File \"/workspace/to_execute.py\", line 19\\n    , custom_instructions=qasm2.LEGACY_CUSTOM_INSTRUCTIONS)\\nIndentationError: unexpected indent\\n'\n",
      "Failed to execute to_execute.py in Docker.\n",
      "Error parsing: Command 'python /workspace/to_execute.py' in image 'qiskit_runner' returned non-zero exit status 1: b'  File \"/workspace/to_execute.py\", line 11\\n    OPENQASM 2.0;\\n    ^^^^^^^^^^^^\\nSyntaxError: invalid syntax. Perhaps you forgot a comma?\\n'\n",
      "Failed to execute to_execute.py in Docker.\n",
      "Error parsing: Command 'python /workspace/to_execute.py' in image 'qiskit_runner' returned non-zero exit status 1: b'Traceback (most recent call last):\\n  File \"/workspace/to_execute.py\", line 10, in <module>\\n    qc = qasm2.loads(\\n  File \"/usr/local/lib/python3.10/site-packages/qiskit/qasm2/__init__.py\", line 587, in loads\\n    return _parse.from_bytecode(\\n  File \"/usr/local/lib/python3.10/site-packages/qiskit/qasm2/parse.py\", line 214, in from_bytecode\\n    for op in bc:\\nqiskit.qasm2.exceptions.QASM2ParseError: \"<input>:5,0: cannot use non-builtin custom instruction \\'cx\\' before definition\"\\n'\n",
      "Failed to execute to_execute.py in Docker.\n",
      "Error parsing: Command 'python /workspace/to_execute.py' in image 'qiskit_runner' returned non-zero exit status 1: b'Traceback (most recent call last):\\n  File \"/workspace/to_execute.py\", line 10, in <module>\\n    qc = qasm2.loads(\\n  File \"/usr/local/lib/python3.10/site-packages/qiskit/qasm2/__init__.py\", line 587, in loads\\n    return _parse.from_bytecode(\\n  File \"/usr/local/lib/python3.10/site-packages/qiskit/qasm2/parse.py\", line 214, in from_bytecode\\n    for op in bc:\\nqiskit.qasm2.exceptions.QASM2ParseError: \"<input>:7,3: \\'reg_2_cin\\' is not defined in this scope\"\\n'\n",
      "Failed to execute to_execute.py in Docker.\n",
      "Error parsing: Command 'python /workspace/to_execute.py' in image 'qiskit_runner' returned non-zero exit status 1: b'Traceback (most recent call last):\\n  File \"/workspace/to_execute.py\", line 10, in <module>\\n    qc = qasm2.loads(\\n  File \"/usr/local/lib/python3.10/site-packages/qiskit/qasm2/__init__.py\", line 587, in loads\\n    return _parse.from_bytecode(\\n  File \"/usr/local/lib/python3.10/site-packages/qiskit/qasm2/parse.py\", line 214, in from_bytecode\\n    for op in bc:\\nqiskit.qasm2.exceptions.QASM2ParseError: \"<input>:5,3: \\'reg_1_q\\' is not defined in this scope\"\\n'\n",
      "Failed to execute to_execute.py in Docker.\n",
      "Output: Saved the Pytket circuit to /workspace/to_execute_qc_pytket.qasm\n",
      "Saved the Qiskit circuit to /workspace/to_execute_qc_qiskit.qasm\n",
      "Exported QASM files: [('/workspace/to_execute_qc_pytket.qasm', 'export_to_qasm_with_pytket'), ('/workspace/to_execute_qc_qiskit.qasm', 'export_to_qasm_with_qiskit')]\n",
      "Log has been saved to /workspace/to_execute_b0e1af_error.json\n",
      "\n",
      "Program to_execute.py executed successfully.\n",
      "New exception message: The circuits are not equivalent: /workspace/to_execute_qc_pytket.qasm, /workspace/to_execute_qc_qiskit.qasm\n",
      "Error parsing: Command 'python /workspace/to_execute.py' in image 'qiskit_runner' returned non-zero exit status 1: b'  File \"/workspace/to_execute.py\", line 18\\n    , custom_instructions=qasm2.LEGACY_CUSTOM_INSTRUCTIONS)\\nIndentationError: unexpected indent\\n'\n",
      "Failed to execute to_execute.py in Docker.\n",
      "Error parsing: Command 'python /workspace/to_execute.py' in image 'qiskit_runner' returned non-zero exit status 1: b'  File \"/workspace/to_execute.py\", line 11\\n    include \"qelib1.inc\";\\n            ^^^^^^^^^^^^\\nSyntaxError: invalid syntax\\n'\n",
      "Failed to execute to_execute.py in Docker.\n",
      "Error parsing: Command 'python /workspace/to_execute.py' in image 'qiskit_runner' returned non-zero exit status 1: b'Traceback (most recent call last):\\n  File \"/workspace/to_execute.py\", line 10, in <module>\\n    qc = qasm2.loads(\\n  File \"/usr/local/lib/python3.10/site-packages/qiskit/qasm2/__init__.py\", line 587, in loads\\n    return _parse.from_bytecode(\\n  File \"/usr/local/lib/python3.10/site-packages/qiskit/qasm2/parse.py\", line 214, in from_bytecode\\n    for op in bc:\\nqiskit.qasm2.exceptions.QASM2ParseError: \"<input>:6,0: cannot use non-builtin custom instruction \\'cx\\' before definition\"\\n'\n",
      "Failed to execute to_execute.py in Docker.\n",
      "Error parsing: Command 'python /workspace/to_execute.py' in image 'qiskit_runner' returned non-zero exit status 1: b'Traceback (most recent call last):\\n  File \"/workspace/to_execute.py\", line 10, in <module>\\n    qc = qasm2.loads(\\n  File \"/usr/local/lib/python3.10/site-packages/qiskit/qasm2/__init__.py\", line 587, in loads\\n    return _parse.from_bytecode(\\n  File \"/usr/local/lib/python3.10/site-packages/qiskit/qasm2/parse.py\", line 214, in from_bytecode\\n    for op in bc:\\nqiskit.qasm2.exceptions.QASM2ParseError: \"<input>:5,3: \\'reg_2_cin\\' is not defined in this scope\"\\n'\n",
      "Failed to execute to_execute.py in Docker.\n",
      "Output: Saved the Pytket circuit to /workspace/to_execute_qc_pytket.qasm\n",
      "Saved the Qiskit circuit to /workspace/to_execute_qc_qiskit.qasm\n",
      "Exported QASM files: [('/workspace/to_execute_qc_pytket.qasm', 'export_to_qasm_with_pytket'), ('/workspace/to_execute_qc_qiskit.qasm', 'export_to_qasm_with_qiskit')]\n",
      "Log has been saved to /workspace/to_execute_d72eb2_error.json\n",
      "\n",
      "Program to_execute.py executed successfully.\n",
      "New exception message: The circuits are not equivalent: /workspace/to_execute_qc_pytket.qasm, /workspace/to_execute_qc_qiskit.qasm\n",
      "Error parsing: Command 'python /workspace/to_execute.py' in image 'qiskit_runner' returned non-zero exit status 1: b'  File \"/workspace/to_execute.py\", line 15\\n    , custom_instructions=qasm2.LEGACY_CUSTOM_INSTRUCTIONS)\\n                                                          ^\\nSyntaxError: unmatched \\')\\'\\n'\n",
      "Failed to execute to_execute.py in Docker.\n",
      "Output: Saved the Pytket circuit to /workspace/to_execute_qc_pytket.qasm\n",
      "Saved the Qiskit circuit to /workspace/to_execute_qc_qiskit.qasm\n",
      "Exported QASM files: [('/workspace/to_execute_qc_pytket.qasm', 'export_to_qasm_with_pytket'), ('/workspace/to_execute_qc_qiskit.qasm', 'export_to_qasm_with_qiskit')]\n",
      "Log has been saved to /workspace/to_execute_572ebb_error.json\n",
      "\n",
      "Program to_execute.py executed successfully.\n",
      "New exception message: The circuits are not equivalent: /workspace/to_execute_qc_pytket.qasm, /workspace/to_execute_qc_qiskit.qasm\n",
      "Error parsing: Command 'python /workspace/to_execute.py' in image 'qiskit_runner' returned non-zero exit status 1: b'  File \"/workspace/to_execute.py\", line 14\\n    , custom_instructions=qasm2.LEGACY_CUSTOM_INSTRUCTIONS)\\n                                                          ^\\nSyntaxError: unmatched \\')\\'\\n'\n",
      "Failed to execute to_execute.py in Docker.\n",
      "Error parsing: Command 'python /workspace/to_execute.py' in image 'qiskit_runner' returned non-zero exit status 1: b'Traceback (most recent call last):\\n  File \"/workspace/to_execute.py\", line 10, in <module>\\n    qc = qasm2.loads(\\n  File \"/usr/local/lib/python3.10/site-packages/qiskit/qasm2/__init__.py\", line 587, in loads\\n    return _parse.from_bytecode(\\n  File \"/usr/local/lib/python3.10/site-packages/qiskit/qasm2/parse.py\", line 214, in from_bytecode\\n    for op in bc:\\nqiskit.qasm2.exceptions.QASM2ParseError: \"<input>:3,0: cannot use non-builtin custom instruction \\'cx\\' before definition\"\\n'\n",
      "Failed to execute to_execute.py in Docker.\n",
      "Error parsing: Command 'python /workspace/to_execute.py' in image 'qiskit_runner' returned non-zero exit status 1: b'Traceback (most recent call last):\\n  File \"/workspace/to_execute.py\", line 10, in <module>\\n    qc = qasm2.loads(\\n  File \"/usr/local/lib/python3.10/site-packages/qiskit/qasm2/__init__.py\", line 587, in loads\\n    return _parse.from_bytecode(\\n  File \"/usr/local/lib/python3.10/site-packages/qiskit/qasm2/parse.py\", line 214, in from_bytecode\\n    for op in bc:\\nqiskit.qasm2.exceptions.QASM2ParseError: \"<input>:4,16: \\'reg_2_b\\' is not defined in this scope\"\\n'\n",
      "Failed to execute to_execute.py in Docker.\n",
      "Error parsing: Command 'python /workspace/to_execute.py' in image 'qiskit_runner' returned non-zero exit status 1: b'  File \"/workspace/to_execute.py\", line 11\\n    include \"qelib1.inc\";\\n            ^^^^^^^^^^^^\\nSyntaxError: invalid syntax\\n'\n",
      "Failed to execute to_execute.py in Docker.\n",
      "Error parsing: Command 'python /workspace/to_execute.py' in image 'qiskit_runner' returned non-zero exit status 1: b'  File \"/workspace/to_execute.py\", line 10\\n    qc = qasm2.loads(\\n                    ^\\nSyntaxError: \\'(\\' was never closed\\n'\n",
      "Failed to execute to_execute.py in Docker.\n",
      "Error parsing: Command 'python /workspace/to_execute.py' in image 'qiskit_runner' returned non-zero exit status 1: b'  File \"/workspace/to_execute.py\", line 16\\n    , custom_instructions=qasm2.LEGACY_CUSTOM_INSTRUCTIONS)\\nIndentationError: unexpected indent\\n'\n",
      "Failed to execute to_execute.py in Docker.\n",
      "Error parsing: Command 'python /workspace/to_execute.py' in image 'qiskit_runner' returned non-zero exit status 1: b'  File \"/workspace/to_execute.py\", line 11\\n    include \"qelib1.inc\";\\n            ^^^^^^^^^^^^\\nSyntaxError: invalid syntax\\n'\n",
      "Failed to execute to_execute.py in Docker.\n",
      "Error parsing: Command 'python /workspace/to_execute.py' in image 'qiskit_runner' returned non-zero exit status 1: b'Traceback (most recent call last):\\n  File \"/workspace/to_execute.py\", line 10, in <module>\\n    qc = qasm2.loads(\\n  File \"/usr/local/lib/python3.10/site-packages/qiskit/qasm2/__init__.py\", line 587, in loads\\n    return _parse.from_bytecode(\\n  File \"/usr/local/lib/python3.10/site-packages/qiskit/qasm2/parse.py\", line 214, in from_bytecode\\n    for op in bc:\\nqiskit.qasm2.exceptions.QASM2ParseError: \"<input>:4,0: cannot use non-builtin custom instruction \\'cx\\' before definition\"\\n'\n",
      "Failed to execute to_execute.py in Docker.\n",
      "Error parsing: Command 'python /workspace/to_execute.py' in image 'qiskit_runner' returned non-zero exit status 1: b'Traceback (most recent call last):\\n  File \"/workspace/to_execute.py\", line 10, in <module>\\n    qc = qasm2.loads(\\n  File \"/usr/local/lib/python3.10/site-packages/qiskit/qasm2/__init__.py\", line 587, in loads\\n    return _parse.from_bytecode(\\n  File \"/usr/local/lib/python3.10/site-packages/qiskit/qasm2/parse.py\", line 214, in from_bytecode\\n    for op in bc:\\nqiskit.qasm2.exceptions.QASM2ParseError: \"<input>:4,3: \\'reg_2_cin\\' is not defined in this scope\"\\n'\n",
      "Failed to execute to_execute.py in Docker.\n",
      "Error parsing: Command 'python /workspace/to_execute.py' in image 'qiskit_runner' returned non-zero exit status 1: b'Traceback (most recent call last):\\n  File \"/workspace/to_execute.py\", line 10, in <module>\\n    qc = qasm2.loads(\\n  File \"/usr/local/lib/python3.10/site-packages/qiskit/qasm2/__init__.py\", line 587, in loads\\n    return _parse.from_bytecode(\\n  File \"/usr/local/lib/python3.10/site-packages/qiskit/qasm2/parse.py\", line 214, in from_bytecode\\n    for op in bc:\\nqiskit.qasm2.exceptions.QASM2ParseError: \"<input>:4,16: \\'reg_2_b\\' is not defined in this scope\"\\n'\n",
      "Failed to execute to_execute.py in Docker.\n",
      "Output: Saved the Pytket circuit to /workspace/to_execute_qc_pytket.qasm\n",
      "Saved the Qiskit circuit to /workspace/to_execute_qc_qiskit.qasm\n",
      "Exported QASM files: [('/workspace/to_execute_qc_pytket.qasm', 'export_to_qasm_with_pytket'), ('/workspace/to_execute_qc_qiskit.qasm', 'export_to_qasm_with_qiskit')]\n",
      "The circuits are equivalent: /workspace/to_execute_qc_pytket.qasm, /workspace/to_execute_qc_qiskit.qasm\n",
      "\n",
      "Program to_execute.py executed successfully.\n",
      "Error parsing: Command 'python /workspace/to_execute.py' in image 'qiskit_runner' returned non-zero exit status 1: b'  File \"/workspace/to_execute.py\", line 11\\n    include \"qelib1.inc\";\\n            ^^^^^^^^^^^^\\nSyntaxError: invalid syntax\\n'\n",
      "Failed to execute to_execute.py in Docker.\n",
      "Error parsing: Command 'python /workspace/to_execute.py' in image 'qiskit_runner' returned non-zero exit status 1: b'  File \"/workspace/to_execute.py\", line 10\\n    qc = qasm2.loads(\\n                    ^\\nSyntaxError: \\'(\\' was never closed\\n'\n",
      "Failed to execute to_execute.py in Docker.\n"
     ]
    },
    {
     "data": {
      "text/html": [
       "<pre style=\"white-space:pre;overflow-x:auto;line-height:normal;font-family:Menlo,'DejaVu Sans Mono',consolas,'Courier New',monospace\"><span style=\"color: #7fbfbf; text-decoration-color: #7fbfbf\">[15:27:12] </span><span style=\"color: #008000; text-decoration-color: #008000\">Minimized file saved as:</span>                                                        <a href=\"file:///home/paltenmo/projects/crossplatform/analysis_and_reporting/ddmin_target_file.py\" target=\"_blank\"><span style=\"color: #7f7f7f; text-decoration-color: #7f7f7f\">ddmin_target_file.py</span></a><span style=\"color: #7f7f7f; text-decoration-color: #7f7f7f\">:</span><a href=\"file:///home/paltenmo/projects/crossplatform/analysis_and_reporting/ddmin_target_file.py#240\" target=\"_blank\"><span style=\"color: #7f7f7f; text-decoration-color: #7f7f7f\">240</span></a>\n",
       "<span style=\"color: #7fbfbf; text-decoration-color: #7fbfbf\">           </span>..<span style=\"color: #800080; text-decoration-color: #800080\">/reports/v009/2024_11_21__15_23/</span><span style=\"color: #ff00ff; text-decoration-color: #ff00ff\">qiskit_circuit_5q_10g_2997_458c2e_f885b3_erro</span> <span style=\"color: #7f7f7f; text-decoration-color: #7f7f7f\">                        </span>\n",
       "<span style=\"color: #7fbfbf; text-decoration-color: #7fbfbf\">           </span><span style=\"color: #ff00ff; text-decoration-color: #ff00ff\">r_min.py</span>                                                                        <span style=\"color: #7f7f7f; text-decoration-color: #7f7f7f\">                        </span>\n",
       "</pre>\n"
      ],
      "text/plain": [
       "\u001b[2;36m[15:27:12]\u001b[0m\u001b[2;36m \u001b[0m\u001b[32mMinimized file saved as:\u001b[0m                                                        \u001b]8;id=250509;file:///home/paltenmo/projects/crossplatform/analysis_and_reporting/ddmin_target_file.py\u001b\\\u001b[2mddmin_target_file.py\u001b[0m\u001b]8;;\u001b\\\u001b[2m:\u001b[0m\u001b]8;id=510256;file:///home/paltenmo/projects/crossplatform/analysis_and_reporting/ddmin_target_file.py#240\u001b\\\u001b[2m240\u001b[0m\u001b]8;;\u001b\\\n",
       "\u001b[2;36m           \u001b[0m..\u001b[35m/reports/v009/2024_11_21__15_23/\u001b[0m\u001b[95mqiskit_circuit_5q_10g_2997_458c2e_f885b3_erro\u001b[0m \u001b[2m                        \u001b[0m\n",
       "\u001b[2;36m           \u001b[0m\u001b[95mr_min.py\u001b[0m                                                                        \u001b[2m                        \u001b[0m\n"
      ]
     },
     "metadata": {},
     "output_type": "display_data"
    },
    {
     "name": "stdout",
     "output_type": "stream",
     "text": [
      "Output: Saved the Pytket circuit to /workspace/qiskit_circuit_5q_10g_2997_458c2e_f885b3_error_min_qc_pytket.qasm\n",
      "Saved the Qiskit circuit to /workspace/qiskit_circuit_5q_10g_2997_458c2e_f885b3_error_min_qc_qiskit.qasm\n",
      "Exported QASM files: [('/workspace/qiskit_circuit_5q_10g_2997_458c2e_f885b3_error_min_qc_pytket.qasm', 'export_to_qasm_with_pytket'), ('/workspace/qiskit_circuit_5q_10g_2997_458c2e_f885b3_error_min_qc_qiskit.qasm', 'export_to_qasm_with_qiskit')]\n",
      "Log has been saved to /workspace/qiskit_circuit_5q_10g_2997_458c2e_f885b3_error_min_da3a45_error.json\n",
      "\n"
     ]
    },
    {
     "data": {
      "text/html": [
       "<pre style=\"white-space:pre;overflow-x:auto;line-height:normal;font-family:Menlo,'DejaVu Sans Mono',consolas,'Courier New',monospace\"><span style=\"color: #7fbfbf; text-decoration-color: #7fbfbf\">[15:27:18] </span>Program qiskit_circuit_5q_10g_2997_458c2e_f885b3_error_min.py executed              <a href=\"file:///home/paltenmo/projects/crossplatform/generators/docker_tooling.py\" target=\"_blank\"><span style=\"color: #7f7f7f; text-decoration-color: #7f7f7f\">docker_tooling.py</span></a><span style=\"color: #7f7f7f; text-decoration-color: #7f7f7f\">:</span><a href=\"file:///home/paltenmo/projects/crossplatform/generators/docker_tooling.py#46\" target=\"_blank\"><span style=\"color: #7f7f7f; text-decoration-color: #7f7f7f\">46</span></a>\n",
       "<span style=\"color: #7fbfbf; text-decoration-color: #7fbfbf\">           </span>successfully.                                                                       <span style=\"color: #7f7f7f; text-decoration-color: #7f7f7f\">                    </span>\n",
       "</pre>\n"
      ],
      "text/plain": [
       "\u001b[2;36m[15:27:18]\u001b[0m\u001b[2;36m \u001b[0mProgram qiskit_circuit_5q_10g_2997_458c2e_f885b3_error_min.py executed              \u001b]8;id=134878;file:///home/paltenmo/projects/crossplatform/generators/docker_tooling.py\u001b\\\u001b[2mdocker_tooling.py\u001b[0m\u001b]8;;\u001b\\\u001b[2m:\u001b[0m\u001b]8;id=151265;file:///home/paltenmo/projects/crossplatform/generators/docker_tooling.py#46\u001b\\\u001b[2m46\u001b[0m\u001b]8;;\u001b\\\n",
       "\u001b[2;36m           \u001b[0msuccessfully.                                                                       \u001b[2m                    \u001b[0m\n"
      ]
     },
     "metadata": {},
     "output_type": "display_data"
    },
    {
     "data": {
      "application/vnd.jupyter.widget-view+json": {
       "model_id": "2bf5a3fb04c2458a98a458e4c1d428d3",
       "version_major": 2,
       "version_minor": 0
      },
      "text/plain": [
       "Executing:   0%|          | 0/13 [00:00<?, ?cell/s]"
      ]
     },
     "metadata": {},
     "output_type": "display_data"
    },
    {
     "data": {
      "text/html": [
       "<pre style=\"white-space:pre;overflow-x:auto;line-height:normal;font-family:Menlo,'DejaVu Sans Mono',consolas,'Courier New',monospace\"><span style=\"color: #7fbfbf; text-decoration-color: #7fbfbf\">[15:27:21] </span>Analysis notebook executed: ..<span style=\"color: #800080; text-decoration-color: #800080\">/reports/v009/2024_11_21__15_23/</span><span style=\"color: #ff00ff; text-decoration-color: #ff00ff\">analysis_output.ipynb</span>        <a href=\"file:///home/paltenmo/projects/crossplatform/analysis_and_reporting/triage.py\" target=\"_blank\"><span style=\"color: #7f7f7f; text-decoration-color: #7f7f7f\">triage.py</span></a><span style=\"color: #7f7f7f; text-decoration-color: #7f7f7f\">:</span><a href=\"file:///home/paltenmo/projects/crossplatform/analysis_and_reporting/triage.py#163\" target=\"_blank\"><span style=\"color: #7f7f7f; text-decoration-color: #7f7f7f\">163</span></a>\n",
       "</pre>\n"
      ],
      "text/plain": [
       "\u001b[2;36m[15:27:21]\u001b[0m\u001b[2;36m \u001b[0mAnalysis notebook executed: ..\u001b[35m/reports/v009/2024_11_21__15_23/\u001b[0m\u001b[95manalysis_output.ipynb\u001b[0m        \u001b]8;id=463065;file:///home/paltenmo/projects/crossplatform/analysis_and_reporting/triage.py\u001b\\\u001b[2mtriage.py\u001b[0m\u001b]8;;\u001b\\\u001b[2m:\u001b[0m\u001b]8;id=328971;file:///home/paltenmo/projects/crossplatform/analysis_and_reporting/triage.py#163\u001b\\\u001b[2m163\u001b[0m\u001b]8;;\u001b\\\n"
      ]
     },
     "metadata": {},
     "output_type": "display_data"
    }
   ],
   "source": [
    "from analysis_and_reporting.triage import analyze_and_report\n",
    "\n",
    "error_paths_in_sample_folder = [\n",
    "    os.path.join(DIR_SAMPLE_ERRORS, f)\n",
    "    for f in os.listdir(DIR_SAMPLE_ERRORS)\n",
    "    if re.match(r'.*_error\\.json$', f)\n",
    "]\n",
    "\n",
    "n_error_files = len(error_paths_in_sample_folder)\n",
    "print(f\"Error paths in sample folder ({n_error_files}):\")\n",
    "for error_path in error_paths_in_sample_folder:\n",
    "    print(error_path)\n",
    "\n",
    "# python -m analysis_and_reporting.triage --path_error_json program_bank/v007/2024_10_31__17_51__qiskit/qiskit_circuit_5q_10g_9_160f04_cfe9f1_error.json --parent_report_folder reports/v008 --clue_message 'not equivalent'\n",
    "\n",
    "\n",
    "# def analyze_and_report(\n",
    "#         path_error_json: str, path_program: str, parent_report_folder: str,\n",
    "#         clue_message: str, analysis_notebook: str)\n",
    "\n",
    "for error_path in error_paths_in_sample_folder:\n",
    "    try:\n",
    "        analyze_and_report(\n",
    "            path_error_json=error_path,\n",
    "            path_program=get_corresponding_program_file(error_path),\n",
    "            parent_report_folder=os.path.join(\"..\", \"reports\", \"v009\"),\n",
    "            clue_message='not equivalent',\n",
    "            analysis_notebook='010_Triage_Not_Equivalence.ipynb'\n",
    "        )\n",
    "    except Exception as e:\n",
    "        print(f\"Error: {e}\")\n",
    "        print(\"Skipping to the next error file\")"
   ]
  },
  {
   "cell_type": "markdown",
   "metadata": {},
   "source": [
    "# Inspect Crash Errors"
   ]
  },
  {
   "cell_type": "code",
   "execution_count": 7,
   "metadata": {},
   "outputs": [],
   "source": [
    "# ! pip install datasets"
   ]
  },
  {
   "cell_type": "code",
   "execution_count": 8,
   "metadata": {},
   "outputs": [
    {
     "data": {
      "text/html": [
       "<div>\n",
       "<style scoped>\n",
       "    .dataframe tbody tr th:only-of-type {\n",
       "        vertical-align: middle;\n",
       "    }\n",
       "\n",
       "    .dataframe tbody tr th {\n",
       "        vertical-align: top;\n",
       "    }\n",
       "\n",
       "    .dataframe thead th {\n",
       "        text-align: right;\n",
       "    }\n",
       "</style>\n",
       "<table border=\"1\" class=\"dataframe\">\n",
       "  <thead>\n",
       "    <tr style=\"text-align: right;\">\n",
       "      <th></th>\n",
       "      <th>exception_message</th>\n",
       "      <th>stack_trace</th>\n",
       "      <th>current_file</th>\n",
       "      <th>involved_functions</th>\n",
       "      <th>error_file</th>\n",
       "      <th>file_content</th>\n",
       "    </tr>\n",
       "  </thead>\n",
       "  <tbody>\n",
       "    <tr>\n",
       "      <th>0</th>\n",
       "      <td>The circuits are not equivalent: /workspace/qi...</td>\n",
       "      <td>Traceback (most recent call last):\\n  File \"/w...</td>\n",
       "      <td>qiskit_circuit_5q_10g_2296_757d63.py</td>\n",
       "      <td>[compare_qasm_via_qcec, export_to_qasm_with_pe...</td>\n",
       "      <td>qiskit_circuit_5q_10g_2296_757d63_aadf90_error...</td>\n",
       "      <td># Section: Prologue\\nfrom qiskit import Quantu...</td>\n",
       "    </tr>\n",
       "    <tr>\n",
       "      <th>1</th>\n",
       "      <td>The circuits are not equivalent: /workspace/qi...</td>\n",
       "      <td>Traceback (most recent call last):\\n  File \"/w...</td>\n",
       "      <td>qiskit_circuit_5q_10g_6206_4d872f.py</td>\n",
       "      <td>[compare_qasm_via_qcec, export_to_qasm_with_pe...</td>\n",
       "      <td>qiskit_circuit_5q_10g_6206_4d872f_bb556c_error...</td>\n",
       "      <td># Section: Prologue\\nfrom qiskit import Quantu...</td>\n",
       "    </tr>\n",
       "    <tr>\n",
       "      <th>2</th>\n",
       "      <td>DD for gatemeasure not available!</td>\n",
       "      <td>Traceback (most recent call last):\\n  File \"/w...</td>\n",
       "      <td>qiskit_circuit_5q_10g_7114_290fb8.py</td>\n",
       "      <td>[compare_qasm_via_qcec, export_to_qasm_with_py...</td>\n",
       "      <td>qiskit_circuit_5q_10g_7114_290fb8_ac0452_error...</td>\n",
       "      <td># Section: Prologue\\nfrom qiskit import Quantu...</td>\n",
       "    </tr>\n",
       "    <tr>\n",
       "      <th>3</th>\n",
       "      <td>The circuits are not equivalent: /workspace/qi...</td>\n",
       "      <td>Traceback (most recent call last):\\n  File \"/w...</td>\n",
       "      <td>qiskit_circuit_5q_10g_224_e4cbeb.py</td>\n",
       "      <td>[compare_qasm_via_qcec, export_to_qasm_with_bq...</td>\n",
       "      <td>qiskit_circuit_5q_10g_224_e4cbeb_7b2138_error....</td>\n",
       "      <td># Section: Prologue\\nfrom qiskit import Quantu...</td>\n",
       "    </tr>\n",
       "    <tr>\n",
       "      <th>4</th>\n",
       "      <td>Could not import second circuit: [addClassical...</td>\n",
       "      <td>Traceback (most recent call last):\\n  File \"/w...</td>\n",
       "      <td>qiskit_circuit_5q_10g_2276_57cb36.py</td>\n",
       "      <td>[compare_qasm_via_qcec, export_to_qasm_with_pe...</td>\n",
       "      <td>qiskit_circuit_5q_10g_2276_57cb36_598cfe_error...</td>\n",
       "      <td># Section: Prologue\\nfrom qiskit import Quantu...</td>\n",
       "    </tr>\n",
       "  </tbody>\n",
       "</table>\n",
       "</div>"
      ],
      "text/plain": [
       "                                   exception_message  \\\n",
       "0  The circuits are not equivalent: /workspace/qi...   \n",
       "1  The circuits are not equivalent: /workspace/qi...   \n",
       "2                  DD for gatemeasure not available!   \n",
       "3  The circuits are not equivalent: /workspace/qi...   \n",
       "4  Could not import second circuit: [addClassical...   \n",
       "\n",
       "                                         stack_trace  \\\n",
       "0  Traceback (most recent call last):\\n  File \"/w...   \n",
       "1  Traceback (most recent call last):\\n  File \"/w...   \n",
       "2  Traceback (most recent call last):\\n  File \"/w...   \n",
       "3  Traceback (most recent call last):\\n  File \"/w...   \n",
       "4  Traceback (most recent call last):\\n  File \"/w...   \n",
       "\n",
       "                           current_file  \\\n",
       "0  qiskit_circuit_5q_10g_2296_757d63.py   \n",
       "1  qiskit_circuit_5q_10g_6206_4d872f.py   \n",
       "2  qiskit_circuit_5q_10g_7114_290fb8.py   \n",
       "3   qiskit_circuit_5q_10g_224_e4cbeb.py   \n",
       "4  qiskit_circuit_5q_10g_2276_57cb36.py   \n",
       "\n",
       "                                  involved_functions  \\\n",
       "0  [compare_qasm_via_qcec, export_to_qasm_with_pe...   \n",
       "1  [compare_qasm_via_qcec, export_to_qasm_with_pe...   \n",
       "2  [compare_qasm_via_qcec, export_to_qasm_with_py...   \n",
       "3  [compare_qasm_via_qcec, export_to_qasm_with_bq...   \n",
       "4  [compare_qasm_via_qcec, export_to_qasm_with_pe...   \n",
       "\n",
       "                                          error_file  \\\n",
       "0  qiskit_circuit_5q_10g_2296_757d63_aadf90_error...   \n",
       "1  qiskit_circuit_5q_10g_6206_4d872f_bb556c_error...   \n",
       "2  qiskit_circuit_5q_10g_7114_290fb8_ac0452_error...   \n",
       "3  qiskit_circuit_5q_10g_224_e4cbeb_7b2138_error....   \n",
       "4  qiskit_circuit_5q_10g_2276_57cb36_598cfe_error...   \n",
       "\n",
       "                                        file_content  \n",
       "0  # Section: Prologue\\nfrom qiskit import Quantu...  \n",
       "1  # Section: Prologue\\nfrom qiskit import Quantu...  \n",
       "2  # Section: Prologue\\nfrom qiskit import Quantu...  \n",
       "3  # Section: Prologue\\nfrom qiskit import Quantu...  \n",
       "4  # Section: Prologue\\nfrom qiskit import Quantu...  "
      ]
     },
     "execution_count": 8,
     "metadata": {},
     "output_type": "execute_result"
    }
   ],
   "source": [
    "df_errors.head()"
   ]
  },
  {
   "cell_type": "code",
   "execution_count": null,
   "metadata": {},
   "outputs": [
    {
     "name": "stderr",
     "output_type": "stream",
     "text": [
      "/home/paltenmo/.conda/envs/crosspl/lib/python3.10/site-packages/transformers/tokenization_utils_base.py:1601: FutureWarning: `clean_up_tokenization_spaces` was not set. It will be set to `True` by default. This behavior will be depracted in transformers v4.45, and will be then set to `False` by default. For more details check this issue: https://github.com/huggingface/transformers/issues/31884\n",
      "  warnings.warn(\n"
     ]
    },
    {
     "data": {
      "application/vnd.jupyter.widget-view+json": {
       "model_id": "adfbdafda01b4336bf4625b219792097",
       "version_major": 2,
       "version_minor": 0
      },
      "text/plain": [
       "Batches:   0%|          | 0/464 [00:00<?, ?it/s]"
      ]
     },
     "metadata": {},
     "output_type": "display_data"
    },
    {
     "data": {
      "text/plain": [
       "0    [-0.014987822, -0.058666665, 0.0065132664, 0.0...\n",
       "1    [-0.013780621, -0.057648543, 0.0038838007, 0.0...\n",
       "2    [-0.038875815, 0.023484863, -0.01293374, -0.04...\n",
       "3    [-0.012693973, -0.064225405, -0.0025399348, 0....\n",
       "4    [-0.042616934, 0.035096787, 0.025242256, -0.00...\n",
       "Name: exception_message_embeddings, dtype: object"
      ]
     },
     "execution_count": 9,
     "metadata": {},
     "output_type": "execute_result"
    }
   ],
   "source": [
    "from datasets import Dataset, DatasetDict\n",
    "from transformers import AutoTokenizer, AutoModel\n",
    "import torch\n",
    "from sentence_transformers import SentenceTransformer\n",
    "\n",
    "# create a dataset from the error dataframe\n",
    "dataset = Dataset.from_pandas(df_errors)\n",
    "\n",
    "# inspect the dataset\n",
    "dataset\n",
    "\n",
    "# use deepseek-ai/DeepSeek-Coder-V2-Lite-Base\n",
    "# from datasets import Dataset\n",
    "# dataset = Dataset.from_dict({\"a\": [0, 1, 2]})\n",
    "# dataset.map(lambda batch: {\"b\": batch[\"a\"] * 2}, batched=True)  # new column with 6 elements: [0, 1, 2, 0, 1, 2]\n",
    "# Load the tokenizer and model\n",
    "# EMBEDDING_MODEL = \"TinyLlama/TinyLlama_v1.1_math_code\"\n",
    "# EMBEDDING_MODEL = \"all-MiniLM-L6-v2\"\n",
    "EMBEDDING_MODEL = \"multi-qa-mpnet-base-cos-v1\"\n",
    "# EMBEDDING_MODEL = \"deepseek-ai/DeepSeek-Coder-V2-Lite-Base\"\n",
    "# Load a pretrained Sentence Transformer model\n",
    "model = SentenceTransformer(EMBEDDING_MODEL)\n",
    "\n",
    "# Calculate embeddings for the exception_message column\n",
    "df_errors['exception_message_embeddings'] = list(\n",
    "    model.encode(\n",
    "        df_errors['exception_message'].tolist(),\n",
    "        batch_size=32, show_progress_bar=True))\n",
    "\n",
    "# Inspect the embeddings\n",
    "df_errors['exception_message_embeddings'].head()"
   ]
  },
  {
   "cell_type": "code",
   "execution_count": 10,
   "metadata": {},
   "outputs": [],
   "source": [
    "# ! pip install fpsample"
   ]
  },
  {
   "cell_type": "code",
   "execution_count": 11,
   "metadata": {},
   "outputs": [
    {
     "data": {
      "text/html": [
       "<div>\n",
       "<style scoped>\n",
       "    .dataframe tbody tr th:only-of-type {\n",
       "        vertical-align: middle;\n",
       "    }\n",
       "\n",
       "    .dataframe tbody tr th {\n",
       "        vertical-align: top;\n",
       "    }\n",
       "\n",
       "    .dataframe thead th {\n",
       "        text-align: right;\n",
       "    }\n",
       "</style>\n",
       "<table border=\"1\" class=\"dataframe\">\n",
       "  <thead>\n",
       "    <tr style=\"text-align: right;\">\n",
       "      <th></th>\n",
       "      <th>exception_message</th>\n",
       "      <th>stack_trace</th>\n",
       "      <th>current_file</th>\n",
       "      <th>involved_functions</th>\n",
       "      <th>error_file</th>\n",
       "      <th>file_content</th>\n",
       "      <th>exception_message_embeddings</th>\n",
       "    </tr>\n",
       "  </thead>\n",
       "  <tbody>\n",
       "    <tr>\n",
       "      <th>2702</th>\n",
       "      <td>Cannot parse gate of type: ryy\\nLine:12.</td>\n",
       "      <td>Traceback (most recent call last):\\n  File \"/u...</td>\n",
       "      <td>qiskit_circuit_5q_10g_902_d9442f.py</td>\n",
       "      <td>[import_from_qasm_with_pytket, export_to_qasm_...</td>\n",
       "      <td>qiskit_circuit_5q_10g_902_d9442f_6cc811_error....</td>\n",
       "      <td># Section: Prologue\\nfrom qiskit import Quantu...</td>\n",
       "      <td>[0.008345557, 0.009281964, 0.013390886, 0.0286...</td>\n",
       "    </tr>\n",
       "    <tr>\n",
       "      <th>14319</th>\n",
       "      <td>map::at</td>\n",
       "      <td>Traceback (most recent call last):\\n  File \"/w...</td>\n",
       "      <td>qiskit_circuit_5q_10g_1066_e89a16.py</td>\n",
       "      <td>[compare_qasm_via_qcec, export_to_qasm_with_py...</td>\n",
       "      <td>qiskit_circuit_5q_10g_1066_e89a16_e7d7b8_error...</td>\n",
       "      <td># Section: Prologue\\nfrom qiskit import Quantu...</td>\n",
       "      <td>[-0.008285877, -0.10523057, -0.018257696, 0.02...</td>\n",
       "    </tr>\n",
       "    <tr>\n",
       "      <th>14479</th>\n",
       "      <td>DD for non-unitary operation not available!</td>\n",
       "      <td>Traceback (most recent call last):\\n  File \"/w...</td>\n",
       "      <td>qiskit_circuit_5q_10g_5928_6929be.py</td>\n",
       "      <td>[compare_qasm_via_qcec, export_to_qasm_with_py...</td>\n",
       "      <td>qiskit_circuit_5q_10g_5928_6929be_617385_error...</td>\n",
       "      <td># Section: Prologue\\nfrom qiskit import Quantu...</td>\n",
       "      <td>[-0.019316358, 0.01631485, 0.010183435, -0.083...</td>\n",
       "    </tr>\n",
       "    <tr>\n",
       "      <th>14351</th>\n",
       "      <td>Operation MidMeasureMP not supported by the QA...</td>\n",
       "      <td>Traceback (most recent call last):\\n  File \"/u...</td>\n",
       "      <td>qiskit_circuit_5q_10g_6431_6ccf80.py</td>\n",
       "      <td>[export_to_qasm_with_pennylane]</td>\n",
       "      <td>qiskit_circuit_5q_10g_6431_6ccf80_cd55cd_error...</td>\n",
       "      <td># Section: Prologue\\nfrom qiskit import Quantu...</td>\n",
       "      <td>[-0.012096606, -0.031633537, 0.000603492, -0.0...</td>\n",
       "    </tr>\n",
       "    <tr>\n",
       "      <th>14785</th>\n",
       "      <td>Classical register redeclared: reg_1_c.</td>\n",
       "      <td>Traceback (most recent call last):\\n  File \"/w...</td>\n",
       "      <td>qiskit_circuit_5q_10g_1606_ad0979.py</td>\n",
       "      <td>[import_from_qasm_with_bqskit, export_to_qasm_...</td>\n",
       "      <td>qiskit_circuit_5q_10g_1606_ad0979_f464cf_error...</td>\n",
       "      <td># Section: Prologue\\nfrom qiskit import Quantu...</td>\n",
       "      <td>[0.03173648, 0.070124455, -0.01046665, 0.00547...</td>\n",
       "    </tr>\n",
       "  </tbody>\n",
       "</table>\n",
       "</div>"
      ],
      "text/plain": [
       "                                       exception_message  \\\n",
       "2702           Cannot parse gate of type: ryy\\nLine:12.    \n",
       "14319                                            map::at   \n",
       "14479        DD for non-unitary operation not available!   \n",
       "14351  Operation MidMeasureMP not supported by the QA...   \n",
       "14785            Classical register redeclared: reg_1_c.   \n",
       "\n",
       "                                             stack_trace  \\\n",
       "2702   Traceback (most recent call last):\\n  File \"/u...   \n",
       "14319  Traceback (most recent call last):\\n  File \"/w...   \n",
       "14479  Traceback (most recent call last):\\n  File \"/w...   \n",
       "14351  Traceback (most recent call last):\\n  File \"/u...   \n",
       "14785  Traceback (most recent call last):\\n  File \"/w...   \n",
       "\n",
       "                               current_file  \\\n",
       "2702    qiskit_circuit_5q_10g_902_d9442f.py   \n",
       "14319  qiskit_circuit_5q_10g_1066_e89a16.py   \n",
       "14479  qiskit_circuit_5q_10g_5928_6929be.py   \n",
       "14351  qiskit_circuit_5q_10g_6431_6ccf80.py   \n",
       "14785  qiskit_circuit_5q_10g_1606_ad0979.py   \n",
       "\n",
       "                                      involved_functions  \\\n",
       "2702   [import_from_qasm_with_pytket, export_to_qasm_...   \n",
       "14319  [compare_qasm_via_qcec, export_to_qasm_with_py...   \n",
       "14479  [compare_qasm_via_qcec, export_to_qasm_with_py...   \n",
       "14351                    [export_to_qasm_with_pennylane]   \n",
       "14785  [import_from_qasm_with_bqskit, export_to_qasm_...   \n",
       "\n",
       "                                              error_file  \\\n",
       "2702   qiskit_circuit_5q_10g_902_d9442f_6cc811_error....   \n",
       "14319  qiskit_circuit_5q_10g_1066_e89a16_e7d7b8_error...   \n",
       "14479  qiskit_circuit_5q_10g_5928_6929be_617385_error...   \n",
       "14351  qiskit_circuit_5q_10g_6431_6ccf80_cd55cd_error...   \n",
       "14785  qiskit_circuit_5q_10g_1606_ad0979_f464cf_error...   \n",
       "\n",
       "                                            file_content  \\\n",
       "2702   # Section: Prologue\\nfrom qiskit import Quantu...   \n",
       "14319  # Section: Prologue\\nfrom qiskit import Quantu...   \n",
       "14479  # Section: Prologue\\nfrom qiskit import Quantu...   \n",
       "14351  # Section: Prologue\\nfrom qiskit import Quantu...   \n",
       "14785  # Section: Prologue\\nfrom qiskit import Quantu...   \n",
       "\n",
       "                            exception_message_embeddings  \n",
       "2702   [0.008345557, 0.009281964, 0.013390886, 0.0286...  \n",
       "14319  [-0.008285877, -0.10523057, -0.018257696, 0.02...  \n",
       "14479  [-0.019316358, 0.01631485, 0.010183435, -0.083...  \n",
       "14351  [-0.012096606, -0.031633537, 0.000603492, -0.0...  \n",
       "14785  [0.03173648, 0.070124455, -0.01046665, 0.00547...  "
      ]
     },
     "execution_count": 11,
     "metadata": {},
     "output_type": "execute_result"
    }
   ],
   "source": [
    "import fpsample\n",
    "import numpy as np\n",
    "\n",
    "# Extract the embeddings from the dataframe\n",
    "embeddings = np.array(df_errors['exception_message_embeddings'].tolist())\n",
    "\n",
    "# Sample 1024 points using various FPS methods\n",
    "\n",
    "# # Vanilla FPS\n",
    "fps_samples_idx = fpsample.fps_sampling(embeddings, 1024)\n",
    "\n",
    "# Get the sampled data\n",
    "sampled_data = df_errors.iloc[fps_samples_idx]\n",
    "sampled_data.head()"
   ]
  },
  {
   "cell_type": "code",
   "execution_count": null,
   "metadata": {},
   "outputs": [
    {
     "data": {
      "text/html": [
       "<div>\n",
       "<style scoped>\n",
       "    .dataframe tbody tr th:only-of-type {\n",
       "        vertical-align: middle;\n",
       "    }\n",
       "\n",
       "    .dataframe tbody tr th {\n",
       "        vertical-align: top;\n",
       "    }\n",
       "\n",
       "    .dataframe thead th {\n",
       "        text-align: right;\n",
       "    }\n",
       "</style>\n",
       "<table border=\"1\" class=\"dataframe\">\n",
       "  <thead>\n",
       "    <tr style=\"text-align: right;\">\n",
       "      <th></th>\n",
       "      <th>exception_message</th>\n",
       "      <th>error_file</th>\n",
       "      <th>current_file</th>\n",
       "    </tr>\n",
       "  </thead>\n",
       "  <tbody>\n",
       "    <tr>\n",
       "      <th>13394</th>\n",
       "      <td>Could not import first circuit: &lt;input&gt;:7:1:\\nIdentifier 'reg_1_c' already declared.</td>\n",
       "      <td>qiskit_circuit_5q_10g_3316_ba1a73_a932bf_error.json</td>\n",
       "      <td>qiskit_circuit_5q_10g_3316_ba1a73.py</td>\n",
       "    </tr>\n",
       "    <tr>\n",
       "      <th>2704</th>\n",
       "      <td>\"&lt;input&gt;:873,5: 'reg_creg' is already defined\"</td>\n",
       "      <td>qiskit_circuit_5q_10g_6836_ec095d_26cfcb_error.json</td>\n",
       "      <td>qiskit_circuit_5q_10g_6836_ec095d.py</td>\n",
       "    </tr>\n",
       "    <tr>\n",
       "      <th>6563</th>\n",
       "      <td>\"&lt;input&gt;:12,5: 'reg_1_c' is already defined\"</td>\n",
       "      <td>qiskit_circuit_5q_10g_537_b1825c_e88272_error.json</td>\n",
       "      <td>qiskit_circuit_5q_10g_537_b1825c.py</td>\n",
       "    </tr>\n",
       "    <tr>\n",
       "      <th>1016</th>\n",
       "      <td>The circuits are not equivalent: /workspace/qiskit_circuit_5q_10g_4426_998773_qc_bqskit.qasm, /workspace/qiskit_circuit_5q_10g_4426_998773_qc_pennylane.qasm</td>\n",
       "      <td>qiskit_circuit_5q_10g_4426_998773_d98e50_error.json</td>\n",
       "      <td>qiskit_circuit_5q_10g_4426_998773.py</td>\n",
       "    </tr>\n",
       "    <tr>\n",
       "      <th>8261</th>\n",
       "      <td>Could not import first circuit: &lt;input&gt;:14:1:\\nIdentifier 'reg_2_c0' already declared.</td>\n",
       "      <td>qiskit_circuit_5q_10g_4368_43ca5b_3bf985_error.json</td>\n",
       "      <td>qiskit_circuit_5q_10g_4368_43ca5b.py</td>\n",
       "    </tr>\n",
       "    <tr>\n",
       "      <th>3261</th>\n",
       "      <td>The circuits are not equivalent: /workspace/qiskit_circuit_5q_10g_5089_adc03e_qc_pytket.qasm, /workspace/qiskit_circuit_5q_10g_5089_adc03e_qc_qiskit.qasm</td>\n",
       "      <td>qiskit_circuit_5q_10g_5089_adc03e_5ab79a_error.json</td>\n",
       "      <td>qiskit_circuit_5q_10g_5089_adc03e.py</td>\n",
       "    </tr>\n",
       "    <tr>\n",
       "      <th>14707</th>\n",
       "      <td>Could not import first circuit: &lt;input&gt;:8:1:\\nIdentifier 'reg_1_c0' already declared.</td>\n",
       "      <td>qiskit_circuit_5q_10g_6592_46e100_4421c3_error.json</td>\n",
       "      <td>qiskit_circuit_5q_10g_6592_46e100.py</td>\n",
       "    </tr>\n",
       "    <tr>\n",
       "      <th>13360</th>\n",
       "      <td>The circuits are not equivalent: /workspace/qiskit_circuit_5q_10g_233_8c1b4d_qc_bqskit.qasm, /workspace/qiskit_circuit_5q_10g_233_8c1b4d_qc_qiskit.qasm</td>\n",
       "      <td>qiskit_circuit_5q_10g_233_8c1b4d_c4f252_error.json</td>\n",
       "      <td>qiskit_circuit_5q_10g_233_8c1b4d.py</td>\n",
       "    </tr>\n",
       "    <tr>\n",
       "      <th>14534</th>\n",
       "      <td>\"&lt;input&gt;:9,0: 'ryy' is not defined in this scope\"</td>\n",
       "      <td>qiskit_circuit_5q_10g_5600_cd4a39_fddc8b_error.json</td>\n",
       "      <td>qiskit_circuit_5q_10g_5600_cd4a39.py</td>\n",
       "    </tr>\n",
       "    <tr>\n",
       "      <th>10794</th>\n",
       "      <td>The circuits are not equivalent: /workspace/qiskit_circuit_5q_10g_2441_dbdbec_qc_pennylane.qasm, /workspace/qiskit_circuit_5q_10g_2441_dbdbec_qc_pytket.qasm</td>\n",
       "      <td>qiskit_circuit_5q_10g_2441_dbdbec_ba2dd7_error.json</td>\n",
       "      <td>qiskit_circuit_5q_10g_2441_dbdbec.py</td>\n",
       "    </tr>\n",
       "    <tr>\n",
       "      <th>7207</th>\n",
       "      <td>Cannot parse gate of type: ryy\\nLine:209.</td>\n",
       "      <td>qiskit_circuit_5q_10g_3278_f454bf_a28c16_error.json</td>\n",
       "      <td>qiskit_circuit_5q_10g_3278_f454bf.py</td>\n",
       "    </tr>\n",
       "    <tr>\n",
       "      <th>14497</th>\n",
       "      <td>Could not import first circuit: &lt;input&gt;:6:1:\\nIdentifier 'reg_creg' already declared.</td>\n",
       "      <td>qiskit_circuit_5q_10g_6775_6585b3_5708cd_error.json</td>\n",
       "      <td>qiskit_circuit_5q_10g_6775_6585b3.py</td>\n",
       "    </tr>\n",
       "    <tr>\n",
       "      <th>14477</th>\n",
       "      <td>Classical register redeclared: reg_1_c1.</td>\n",
       "      <td>qiskit_circuit_5q_10g_5352_96def1_d15901_error.json</td>\n",
       "      <td>qiskit_circuit_5q_10g_5352_96def1.py</td>\n",
       "    </tr>\n",
       "    <tr>\n",
       "      <th>11254</th>\n",
       "      <td>Cannot parse gate of type: ryy\\nLine:32.</td>\n",
       "      <td>qiskit_circuit_5q_10g_2686_0164f3_7fdeed_error.json</td>\n",
       "      <td>qiskit_circuit_5q_10g_2686_0164f3.py</td>\n",
       "    </tr>\n",
       "    <tr>\n",
       "      <th>14258</th>\n",
       "      <td>The circuits are not equivalent: /workspace/qiskit_circuit_5q_10g_2690_aed112_qc_pennylane.qasm, /workspace/qiskit_circuit_5q_10g_2690_aed112_qc_pytket.qasm</td>\n",
       "      <td>qiskit_circuit_5q_10g_2690_aed112_da0761_error.json</td>\n",
       "      <td>qiskit_circuit_5q_10g_2690_aed112.py</td>\n",
       "    </tr>\n",
       "    <tr>\n",
       "      <th>13762</th>\n",
       "      <td>Cannot parse gate of type: ryy\\nLine:9.</td>\n",
       "      <td>qiskit_circuit_5q_10g_3769_9dd23b_d4622f_error.json</td>\n",
       "      <td>qiskit_circuit_5q_10g_3769_9dd23b.py</td>\n",
       "    </tr>\n",
       "    <tr>\n",
       "      <th>14361</th>\n",
       "      <td>\"&lt;input&gt;:7,5: 'reg_1_c1' is already defined\"</td>\n",
       "      <td>qiskit_circuit_5q_10g_2438_6ff4ff_c4e386_error.json</td>\n",
       "      <td>qiskit_circuit_5q_10g_2438_6ff4ff.py</td>\n",
       "    </tr>\n",
       "    <tr>\n",
       "      <th>14768</th>\n",
       "      <td>Could not import first circuit: &lt;input&gt;:5:1:\\nIdentifier 'reg_2_c' already declared.</td>\n",
       "      <td>qiskit_circuit_5q_10g_4059_14bdf5_f5e285_error.json</td>\n",
       "      <td>qiskit_circuit_5q_10g_4059_14bdf5.py</td>\n",
       "    </tr>\n",
       "    <tr>\n",
       "      <th>7834</th>\n",
       "      <td>\"&lt;input&gt;:3825,0: 'ryy' is not defined in this scope\"</td>\n",
       "      <td>qiskit_circuit_5q_10g_401_4162f2_ed4367_error.json</td>\n",
       "      <td>qiskit_circuit_5q_10g_401_4162f2.py</td>\n",
       "    </tr>\n",
       "    <tr>\n",
       "      <th>14289</th>\n",
       "      <td>\"&lt;input&gt;:192,5: 'reg_creg' is already defined\"</td>\n",
       "      <td>qiskit_circuit_5q_10g_804_16decb_b4e042_error.json</td>\n",
       "      <td>qiskit_circuit_5q_10g_804_16decb.py</td>\n",
       "    </tr>\n",
       "    <tr>\n",
       "      <th>14773</th>\n",
       "      <td>Cannot print command of type: PhasedX(0.5, 0)</td>\n",
       "      <td>qiskit_circuit_5q_10g_4339_7787c5_a54abd_error.json</td>\n",
       "      <td>qiskit_circuit_5q_10g_4339_7787c5.py</td>\n",
       "    </tr>\n",
       "    <tr>\n",
       "      <th>14664</th>\n",
       "      <td>Cannot parse gate of type: ryy\\nLine:6.</td>\n",
       "      <td>qiskit_circuit_5q_10g_5413_cb8f6f_bc251c_error.json</td>\n",
       "      <td>qiskit_circuit_5q_10g_5413_cb8f6f.py</td>\n",
       "    </tr>\n",
       "    <tr>\n",
       "      <th>13890</th>\n",
       "      <td>The circuits are not equivalent: /workspace/qiskit_circuit_5q_10g_4142_ee3d1c_qc_pennylane.qasm, /workspace/qiskit_circuit_5q_10g_4142_ee3d1c_qc_qiskit.qasm</td>\n",
       "      <td>qiskit_circuit_5q_10g_4142_ee3d1c_15344e_error.json</td>\n",
       "      <td>qiskit_circuit_5q_10g_4142_ee3d1c.py</td>\n",
       "    </tr>\n",
       "    <tr>\n",
       "      <th>1453</th>\n",
       "      <td>\"&lt;input&gt;:11,0: 'ryy' is not defined in this scope\"</td>\n",
       "      <td>qiskit_circuit_5q_10g_6881_af3e6f_aea7c9_error.json</td>\n",
       "      <td>qiskit_circuit_5q_10g_6881_af3e6f.py</td>\n",
       "    </tr>\n",
       "    <tr>\n",
       "      <th>13421</th>\n",
       "      <td>Cannot parse gate of type: ryy\\nLine:17.</td>\n",
       "      <td>qiskit_circuit_5q_10g_4047_60c155_1594ef_error.json</td>\n",
       "      <td>qiskit_circuit_5q_10g_4047_60c155.py</td>\n",
       "    </tr>\n",
       "    <tr>\n",
       "      <th>14363</th>\n",
       "      <td>\"&lt;input&gt;:6,0: 'ryy' is not defined in this scope\"</td>\n",
       "      <td>qiskit_circuit_5q_10g_5845_819a52_f14e8f_error.json</td>\n",
       "      <td>qiskit_circuit_5q_10g_5845_819a52.py</td>\n",
       "    </tr>\n",
       "    <tr>\n",
       "      <th>12568</th>\n",
       "      <td>Could not import first circuit: &lt;input&gt;:9:1:\\nIdentifier 'reg_creg' already declared.</td>\n",
       "      <td>qiskit_circuit_5q_10g_4908_05ba32_5944cc_error.json</td>\n",
       "      <td>qiskit_circuit_5q_10g_4908_05ba32.py</td>\n",
       "    </tr>\n",
       "    <tr>\n",
       "      <th>5061</th>\n",
       "      <td>The circuits are not equivalent: /workspace/qiskit_circuit_5q_10g_6020_fc43bb_qc_pennylane.qasm, /workspace/qiskit_circuit_5q_10g_6020_fc43bb_qc_qiskit.qasm</td>\n",
       "      <td>qiskit_circuit_5q_10g_6020_fc43bb_77ab47_error.json</td>\n",
       "      <td>qiskit_circuit_5q_10g_6020_fc43bb.py</td>\n",
       "    </tr>\n",
       "    <tr>\n",
       "      <th>14705</th>\n",
       "      <td>Could not import first circuit: &lt;input&gt;:10:1:\\nIdentifier 'reg_1_c0' already declared.</td>\n",
       "      <td>qiskit_circuit_5q_10g_6888_74a515_39d4f0_error.json</td>\n",
       "      <td>qiskit_circuit_5q_10g_6888_74a515.py</td>\n",
       "    </tr>\n",
       "    <tr>\n",
       "      <th>5032</th>\n",
       "      <td>The circuits are not equivalent: /workspace/qiskit_circuit_5q_10g_1559_fceaf2_qc_pytket.qasm, /workspace/qiskit_circuit_5q_10g_1559_fceaf2_qc_qiskit.qasm</td>\n",
       "      <td>qiskit_circuit_5q_10g_1559_fceaf2_51539e_error.json</td>\n",
       "      <td>qiskit_circuit_5q_10g_1559_fceaf2.py</td>\n",
       "    </tr>\n",
       "  </tbody>\n",
       "</table>\n",
       "</div>"
      ],
      "text/plain": [
       "                                                                                                                                                  exception_message  \\\n",
       "13394                                                                          Could not import first circuit: <input>:7:1:\\nIdentifier 'reg_1_c' already declared.   \n",
       "2704                                                                                                                 \"<input>:873,5: 'reg_creg' is already defined\"   \n",
       "6563                                                                                                                   \"<input>:12,5: 'reg_1_c' is already defined\"   \n",
       "1016   The circuits are not equivalent: /workspace/qiskit_circuit_5q_10g_4426_998773_qc_bqskit.qasm, /workspace/qiskit_circuit_5q_10g_4426_998773_qc_pennylane.qasm   \n",
       "8261                                                                         Could not import first circuit: <input>:14:1:\\nIdentifier 'reg_2_c0' already declared.   \n",
       "3261      The circuits are not equivalent: /workspace/qiskit_circuit_5q_10g_5089_adc03e_qc_pytket.qasm, /workspace/qiskit_circuit_5q_10g_5089_adc03e_qc_qiskit.qasm   \n",
       "14707                                                                         Could not import first circuit: <input>:8:1:\\nIdentifier 'reg_1_c0' already declared.   \n",
       "13360       The circuits are not equivalent: /workspace/qiskit_circuit_5q_10g_233_8c1b4d_qc_bqskit.qasm, /workspace/qiskit_circuit_5q_10g_233_8c1b4d_qc_qiskit.qasm   \n",
       "14534                                                                                                             \"<input>:9,0: 'ryy' is not defined in this scope\"   \n",
       "10794  The circuits are not equivalent: /workspace/qiskit_circuit_5q_10g_2441_dbdbec_qc_pennylane.qasm, /workspace/qiskit_circuit_5q_10g_2441_dbdbec_qc_pytket.qasm   \n",
       "7207                                                                                                                     Cannot parse gate of type: ryy\\nLine:209.    \n",
       "14497                                                                         Could not import first circuit: <input>:6:1:\\nIdentifier 'reg_creg' already declared.   \n",
       "14477                                                                                                                      Classical register redeclared: reg_1_c1.   \n",
       "11254                                                                                                                     Cannot parse gate of type: ryy\\nLine:32.    \n",
       "14258  The circuits are not equivalent: /workspace/qiskit_circuit_5q_10g_2690_aed112_qc_pennylane.qasm, /workspace/qiskit_circuit_5q_10g_2690_aed112_qc_pytket.qasm   \n",
       "13762                                                                                                                      Cannot parse gate of type: ryy\\nLine:9.    \n",
       "14361                                                                                                                  \"<input>:7,5: 'reg_1_c1' is already defined\"   \n",
       "14768                                                                          Could not import first circuit: <input>:5:1:\\nIdentifier 'reg_2_c' already declared.   \n",
       "7834                                                                                                           \"<input>:3825,0: 'ryy' is not defined in this scope\"   \n",
       "14289                                                                                                                \"<input>:192,5: 'reg_creg' is already defined\"   \n",
       "14773                                                                                                                 Cannot print command of type: PhasedX(0.5, 0)   \n",
       "14664                                                                                                                      Cannot parse gate of type: ryy\\nLine:6.    \n",
       "13890  The circuits are not equivalent: /workspace/qiskit_circuit_5q_10g_4142_ee3d1c_qc_pennylane.qasm, /workspace/qiskit_circuit_5q_10g_4142_ee3d1c_qc_qiskit.qasm   \n",
       "1453                                                                                                             \"<input>:11,0: 'ryy' is not defined in this scope\"   \n",
       "13421                                                                                                                     Cannot parse gate of type: ryy\\nLine:17.    \n",
       "14363                                                                                                             \"<input>:6,0: 'ryy' is not defined in this scope\"   \n",
       "12568                                                                         Could not import first circuit: <input>:9:1:\\nIdentifier 'reg_creg' already declared.   \n",
       "5061   The circuits are not equivalent: /workspace/qiskit_circuit_5q_10g_6020_fc43bb_qc_pennylane.qasm, /workspace/qiskit_circuit_5q_10g_6020_fc43bb_qc_qiskit.qasm   \n",
       "14705                                                                        Could not import first circuit: <input>:10:1:\\nIdentifier 'reg_1_c0' already declared.   \n",
       "5032      The circuits are not equivalent: /workspace/qiskit_circuit_5q_10g_1559_fceaf2_qc_pytket.qasm, /workspace/qiskit_circuit_5q_10g_1559_fceaf2_qc_qiskit.qasm   \n",
       "\n",
       "                                                error_file  \\\n",
       "13394  qiskit_circuit_5q_10g_3316_ba1a73_a932bf_error.json   \n",
       "2704   qiskit_circuit_5q_10g_6836_ec095d_26cfcb_error.json   \n",
       "6563    qiskit_circuit_5q_10g_537_b1825c_e88272_error.json   \n",
       "1016   qiskit_circuit_5q_10g_4426_998773_d98e50_error.json   \n",
       "8261   qiskit_circuit_5q_10g_4368_43ca5b_3bf985_error.json   \n",
       "3261   qiskit_circuit_5q_10g_5089_adc03e_5ab79a_error.json   \n",
       "14707  qiskit_circuit_5q_10g_6592_46e100_4421c3_error.json   \n",
       "13360   qiskit_circuit_5q_10g_233_8c1b4d_c4f252_error.json   \n",
       "14534  qiskit_circuit_5q_10g_5600_cd4a39_fddc8b_error.json   \n",
       "10794  qiskit_circuit_5q_10g_2441_dbdbec_ba2dd7_error.json   \n",
       "7207   qiskit_circuit_5q_10g_3278_f454bf_a28c16_error.json   \n",
       "14497  qiskit_circuit_5q_10g_6775_6585b3_5708cd_error.json   \n",
       "14477  qiskit_circuit_5q_10g_5352_96def1_d15901_error.json   \n",
       "11254  qiskit_circuit_5q_10g_2686_0164f3_7fdeed_error.json   \n",
       "14258  qiskit_circuit_5q_10g_2690_aed112_da0761_error.json   \n",
       "13762  qiskit_circuit_5q_10g_3769_9dd23b_d4622f_error.json   \n",
       "14361  qiskit_circuit_5q_10g_2438_6ff4ff_c4e386_error.json   \n",
       "14768  qiskit_circuit_5q_10g_4059_14bdf5_f5e285_error.json   \n",
       "7834    qiskit_circuit_5q_10g_401_4162f2_ed4367_error.json   \n",
       "14289   qiskit_circuit_5q_10g_804_16decb_b4e042_error.json   \n",
       "14773  qiskit_circuit_5q_10g_4339_7787c5_a54abd_error.json   \n",
       "14664  qiskit_circuit_5q_10g_5413_cb8f6f_bc251c_error.json   \n",
       "13890  qiskit_circuit_5q_10g_4142_ee3d1c_15344e_error.json   \n",
       "1453   qiskit_circuit_5q_10g_6881_af3e6f_aea7c9_error.json   \n",
       "13421  qiskit_circuit_5q_10g_4047_60c155_1594ef_error.json   \n",
       "14363  qiskit_circuit_5q_10g_5845_819a52_f14e8f_error.json   \n",
       "12568  qiskit_circuit_5q_10g_4908_05ba32_5944cc_error.json   \n",
       "5061   qiskit_circuit_5q_10g_6020_fc43bb_77ab47_error.json   \n",
       "14705  qiskit_circuit_5q_10g_6888_74a515_39d4f0_error.json   \n",
       "5032   qiskit_circuit_5q_10g_1559_fceaf2_51539e_error.json   \n",
       "\n",
       "                               current_file  \n",
       "13394  qiskit_circuit_5q_10g_3316_ba1a73.py  \n",
       "2704   qiskit_circuit_5q_10g_6836_ec095d.py  \n",
       "6563    qiskit_circuit_5q_10g_537_b1825c.py  \n",
       "1016   qiskit_circuit_5q_10g_4426_998773.py  \n",
       "8261   qiskit_circuit_5q_10g_4368_43ca5b.py  \n",
       "3261   qiskit_circuit_5q_10g_5089_adc03e.py  \n",
       "14707  qiskit_circuit_5q_10g_6592_46e100.py  \n",
       "13360   qiskit_circuit_5q_10g_233_8c1b4d.py  \n",
       "14534  qiskit_circuit_5q_10g_5600_cd4a39.py  \n",
       "10794  qiskit_circuit_5q_10g_2441_dbdbec.py  \n",
       "7207   qiskit_circuit_5q_10g_3278_f454bf.py  \n",
       "14497  qiskit_circuit_5q_10g_6775_6585b3.py  \n",
       "14477  qiskit_circuit_5q_10g_5352_96def1.py  \n",
       "11254  qiskit_circuit_5q_10g_2686_0164f3.py  \n",
       "14258  qiskit_circuit_5q_10g_2690_aed112.py  \n",
       "13762  qiskit_circuit_5q_10g_3769_9dd23b.py  \n",
       "14361  qiskit_circuit_5q_10g_2438_6ff4ff.py  \n",
       "14768  qiskit_circuit_5q_10g_4059_14bdf5.py  \n",
       "7834    qiskit_circuit_5q_10g_401_4162f2.py  \n",
       "14289   qiskit_circuit_5q_10g_804_16decb.py  \n",
       "14773  qiskit_circuit_5q_10g_4339_7787c5.py  \n",
       "14664  qiskit_circuit_5q_10g_5413_cb8f6f.py  \n",
       "13890  qiskit_circuit_5q_10g_4142_ee3d1c.py  \n",
       "1453   qiskit_circuit_5q_10g_6881_af3e6f.py  \n",
       "13421  qiskit_circuit_5q_10g_4047_60c155.py  \n",
       "14363  qiskit_circuit_5q_10g_5845_819a52.py  \n",
       "12568  qiskit_circuit_5q_10g_4908_05ba32.py  \n",
       "5061   qiskit_circuit_5q_10g_6020_fc43bb.py  \n",
       "14705  qiskit_circuit_5q_10g_6888_74a515.py  \n",
       "5032   qiskit_circuit_5q_10g_1559_fceaf2.py  "
      ]
     },
     "execution_count": 23,
     "metadata": {},
     "output_type": "execute_result"
    }
   ],
   "source": [
    "pd.set_option('display.max_colwidth', None)\n",
    "i = 2\n",
    "size_chunk = 30\n",
    "sampled_data[[\"exception_message\", \"error_file\", \"current_file\"]\n",
    "             ].iloc[i*size_chunk:(i+1)*size_chunk]"
   ]
  },
  {
   "cell_type": "code",
   "execution_count": null,
   "metadata": {},
   "outputs": [],
   "source": [
    "# relevant errors\n",
    "relevant_error_files_with_message = [\n",
    "    # probably QCEC error\n",
    "    (\"qiskit_circuit_5q_10g_2382_eaac27_73fae5_error.json\",\n",
    "     \"classic-controlled operation is not a StandardOperation\"),\n",
    "    # interesting pair of divergent platforms\n",
    "    (\"qiskit_circuit_5q_10g_5557_dc52a0_027c07_error.json\",\n",
    "     \"The circuits are not equivalent\")\n",
    "]"
   ]
  },
  {
   "cell_type": "code",
   "execution_count": null,
   "metadata": {},
   "outputs": [
    {
     "name": "stdout",
     "output_type": "stream",
     "text": [
      "Copying ../program_bank/v009/2024_11_20__13_42__qiskit/qiskit_circuit_5q_10g_2382_eaac27_73fae5_error.json to ../program_bank/v009/2024_11_20__13_42__sample_errors_no_pennylane\n",
      "Copying ../program_bank/v009/2024_11_20__13_42__qiskit/qiskit_circuit_5q_10g_2382_eaac27.py to ../program_bank/v009/2024_11_20__13_42__sample_errors_no_pennylane\n",
      "Copying ../program_bank/v009/2024_11_20__13_42__qiskit/qiskit_circuit_5q_10g_5557_dc52a0_027c07_error.json to ../program_bank/v009/2024_11_20__13_42__sample_errors_no_pennylane\n",
      "Copying ../program_bank/v009/2024_11_20__13_42__qiskit/qiskit_circuit_5q_10g_5557_dc52a0.py to ../program_bank/v009/2024_11_20__13_42__sample_errors_no_pennylane\n"
     ]
    }
   ],
   "source": [
    "error_paths = [os.path.join(DIR_PROGRAM_BANK, f)\n",
    "               for f, _ in relevant_error_files_with_message]\n",
    "\n",
    "# copy the relevant errors to the sample folder\n",
    "copy_errors_to_sample_folder(error_paths, DIR_SAMPLE_ERRORS)"
   ]
  },
  {
   "cell_type": "code",
   "execution_count": null,
   "metadata": {},
   "outputs": [],
   "source": [
    "from analysis_and_reporting.triage import analyze_and_report\n",
    "\n",
    "# Extract the error paths from the relevant list\n",
    "error_paths_in_sample_folder = [\n",
    "    os.path.join(DIR_SAMPLE_ERRORS, error_file)\n",
    "    for error_file, clue in relevant_error_files_with_message\n",
    "]\n",
    "\n",
    "n_error_files = len(error_paths_in_sample_folder)\n",
    "print(f\"Error paths in sample folder ({n_error_files}):\")\n",
    "for error_path in error_paths_in_sample_folder:\n",
    "    print(error_path)\n",
    "\n",
    "# Analyze and report for each relevant error file\n",
    "for error_path, clue_message in relevant_error_files_with_message:\n",
    "    try:\n",
    "        analyze_and_report(\n",
    "            path_error_json=os.path.join(DIR_SAMPLE_ERRORS, error_path),\n",
    "            path_program=get_corresponding_program_file(\n",
    "                os.path.join(DIR_SAMPLE_ERRORS, error_path)),\n",
    "            parent_report_folder=os.path.join(\"..\", \"reports\", \"v009\"),\n",
    "            clue_message=clue_message,\n",
    "            analysis_notebook='010_Triage_Not_Equivalence.ipynb')\n",
    "    except Exception as e:\n",
    "        print(f\"Error: {e}\")\n",
    "        print(\"Skipping to the next error file\")"
   ]
  },
  {
   "cell_type": "code",
   "execution_count": 21,
   "metadata": {},
   "outputs": [
    {
     "name": "stdout",
     "output_type": "stream",
     "text": [
      "../program_bank/v009/2024_11_20__13_42__qiskit/qiskit_circuit_5q_10g_2382_eaac27_73fae5_error.json\n",
      "{\n",
      "    \"exception_message\": \"Underlying operation of classic-controlled operation is not a StandardOperation.\\n   |\\u001b[0m   |\\u001b[0m   |\\u001b[0m   |\\u001b[0m   |\\u001b[0m   |\\u001b[0m  c[0] == 1\",\n",
      "    \"stack_trace\": \"Traceback (most recent call last):\\n  File \\\"/workspace/qiskit_circuit_5q_10g_2382_eaac27.py\\\", line 566, in <module>\\n    compare_call(a_file, b_file)\\n  File \\\"/workspace/qiskit_circuit_5q_10g_2382_eaac27.py\\\", line 503, in compare_qasm_via_qcec\\n    result = qcec.verify(\\n  File \\\"/usr/local/lib/python3.10/site-packages/mqt/qcec/verify.py\\\", line 56, in verify\\n    ecm = EquivalenceCheckingManager(circ1, circ2, configuration)\\nValueError: Underlying operation of classic-controlled operation is not a StandardOperation.\\n   |\\u001b[0m   |\\u001b[0m   |\\u001b[0m   |\\u001b[0m   |\\u001b[0m   |\\u001b[0m  c[0] == 1\\n\",\n",
      "    \"current_file\": \"qiskit_circuit_5q_10g_2382_eaac27.py\",\n",
      "    \"involved_functions\": [\n",
      "        \"compare_qasm_via_qcec\",\n",
      "        \"export_to_qasm_with_pytket\",\n",
      "        \"export_to_qasm_with_qiskit\"\n",
      "    ]\n",
      "}\n"
     ]
    }
   ],
   "source": [
    "file_name = \"qiskit_circuit_5q_10g_2382_eaac27_73fae5_error.json\"\n",
    "# file_name = \"qiskit_circuit_5q_10g_2382_eaac27.py\"\n",
    "file_path = os.path.join(DIR_PROGRAM_BANK, file_name)\n",
    "print(file_path)\n",
    "\n",
    "with open(file_path, 'r') as file:\n",
    "    file_content = file.read()\n",
    "\n",
    "print(file_content)"
   ]
  },
  {
   "cell_type": "code",
   "execution_count": null,
   "metadata": {},
   "outputs": [],
   "source": []
  }
 ],
 "metadata": {
  "kernelspec": {
   "display_name": "crosspl",
   "language": "python",
   "name": "python3"
  },
  "language_info": {
   "codemirror_mode": {
    "name": "ipython",
    "version": 3
   },
   "file_extension": ".py",
   "mimetype": "text/x-python",
   "name": "python",
   "nbconvert_exporter": "python",
   "pygments_lexer": "ipython3",
   "version": "3.10.14"
  }
 },
 "nbformat": 4,
 "nbformat_minor": 2
}
