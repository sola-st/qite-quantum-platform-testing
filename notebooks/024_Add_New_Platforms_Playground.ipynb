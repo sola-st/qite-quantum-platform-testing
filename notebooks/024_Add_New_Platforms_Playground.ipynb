{
 "cells": [
  {
   "cell_type": "code",
   "execution_count": 36,
   "metadata": {},
   "outputs": [
    {
     "name": "stdout",
     "output_type": "stream",
     "text": [
      "INFO: Pandarallel will run on 24 workers.\n",
      "INFO: Pandarallel will use Memory file system to transfer data between the main process and workers.\n"
     ]
    }
   ],
   "source": [
    "from typing import List, Tuple, Dict, Any, Optional\n",
    "from multiprocessing import Pool\n",
    "from pandarallel import pandarallel\n",
    "import os\n",
    "import re\n",
    "import sys\n",
    "import json\n",
    "from pathlib import Path\n",
    "\n",
    "import numpy as np\n",
    "import matplotlib.pyplot as plt\n",
    "import seaborn as sns\n",
    "\n",
    "import pandas as pd\n",
    "from tqdm.auto import tqdm\n",
    "tqdm.pandas()\n",
    "pandarallel.initialize(progress_bar=True)"
   ]
  },
  {
   "cell_type": "code",
   "execution_count": 37,
   "metadata": {},
   "outputs": [
    {
     "data": {
      "text/html": [
       "<pre style=\"word-wrap: normal;white-space: pre;background: #fff0;line-height: 1.1;font-family: &quot;Courier New&quot;,Courier,monospace\">                 ┌───┐                 ┌───┐                »\n",
       " q_0: ───────────┤ H ├─────────────────┤ H ├──────────■─────»\n",
       "                 ├───┤                 └───┘        ┌─┴─┐   »\n",
       " q_1: ───────────┤ H ├──────────────────────────────┤ X ├───»\n",
       "             ┌───┴───┴────┐                         └───┘   »\n",
       " q_2: ───────┤ Ry(4.2377) ├─────────────────────────────────»\n",
       "             └────────────┘       ┌─────────────┐   ┌───┐   »\n",
       " q_3: ────────────────────────────┤ Rx(0.33702) ├───┤ X ├───»\n",
       "                 ┌───┐            └──────┬──────┘   └───┘   »\n",
       " q_4: ───────────┤ H ├───────────────────┼──────────────────»\n",
       "                 └───┘                   │                  »\n",
       " q_5: ───────────────────────────────────■──────────────────»\n",
       "                                                            »\n",
       " q_6: ───────────────────────────────────X────────■─────────»\n",
       "                                         │        │         »\n",
       " q_7: ───────────────────────────────────┼────────┼─────────»\n",
       "                                         │        │         »\n",
       " q_8: ───────────────────────────────────X────────┼─────────»\n",
       "      ┌──────────────────────────┐       │        │P(3.856) »\n",
       " q_9: ┤ U3(3.7447,4.8418,2.9688) ├───────┼────────■─────────»\n",
       "      └────────────┬─────────────┘       │          ┌───┐   »\n",
       "q_10: ─────────────■─────────────────────■──────────┤ X ├───»\n",
       "                                                    └───┘   »\n",
       "«      ┌────────────────────┐                         \n",
       "« q_0: ┤ U2(4.0311,0.50233) ├─────────────────────────\n",
       "«      └────────────────────┘      ┌───┐┌────────────┐\n",
       "« q_1: ────────────────────────■───┤ T ├┤ Rz(4.7008) ├\n",
       "«                              │   └───┘└────────────┘\n",
       "« q_2: ────────────────────────┼──────────────────────\n",
       "«          ┌───────────┐       │                      \n",
       "« q_3: ────┤ Rx(4.595) ├───────┼─────X────────────────\n",
       "«          └─────┬─────┘       │     │  ┌────────────┐\n",
       "« q_4: ──────────┼─────────────■─────┼──┤ Ry(5.6694) ├\n",
       "«                │             │     │  └────────────┘\n",
       "« q_5: ──────────┼─────────────■─────┼────────────────\n",
       "«                │             │     │                \n",
       "« q_6: ──────────┼─────────────┼─────┼────────────────\n",
       "«                │           ┌─┴──┐  │                \n",
       "« q_7: ──────────■───────────┤ Sx ├──┼────────────────\n",
       "«                            └────┘  │                \n",
       "« q_8: ──────────────────────────────┼────────────────\n",
       "«                                    │                \n",
       "« q_9: ──────────────────────────────X────────────────\n",
       "«                                                     \n",
       "«q_10: ───────────────────────────────────────────────\n",
       "«                                                     </pre>"
      ],
      "text/plain": [
       "                 ┌───┐                 ┌───┐                »\n",
       " q_0: ───────────┤ H ├─────────────────┤ H ├──────────■─────»\n",
       "                 ├───┤                 └───┘        ┌─┴─┐   »\n",
       " q_1: ───────────┤ H ├──────────────────────────────┤ X ├───»\n",
       "             ┌───┴───┴────┐                         └───┘   »\n",
       " q_2: ───────┤ Ry(4.2377) ├─────────────────────────────────»\n",
       "             └────────────┘       ┌─────────────┐   ┌───┐   »\n",
       " q_3: ────────────────────────────┤ Rx(0.33702) ├───┤ X ├───»\n",
       "                 ┌───┐            └──────┬──────┘   └───┘   »\n",
       " q_4: ───────────┤ H ├───────────────────┼──────────────────»\n",
       "                 └───┘                   │                  »\n",
       " q_5: ───────────────────────────────────■──────────────────»\n",
       "                                                            »\n",
       " q_6: ───────────────────────────────────X────────■─────────»\n",
       "                                         │        │         »\n",
       " q_7: ───────────────────────────────────┼────────┼─────────»\n",
       "                                         │        │         »\n",
       " q_8: ───────────────────────────────────X────────┼─────────»\n",
       "      ┌──────────────────────────┐       │        │P(3.856) »\n",
       " q_9: ┤ U3(3.7447,4.8418,2.9688) ├───────┼────────■─────────»\n",
       "      └────────────┬─────────────┘       │          ┌───┐   »\n",
       "q_10: ─────────────■─────────────────────■──────────┤ X ├───»\n",
       "                                                    └───┘   »\n",
       "«      ┌────────────────────┐                         \n",
       "« q_0: ┤ U2(4.0311,0.50233) ├─────────────────────────\n",
       "«      └────────────────────┘      ┌───┐┌────────────┐\n",
       "« q_1: ────────────────────────■───┤ T ├┤ Rz(4.7008) ├\n",
       "«                              │   └───┘└────────────┘\n",
       "« q_2: ────────────────────────┼──────────────────────\n",
       "«          ┌───────────┐       │                      \n",
       "« q_3: ────┤ Rx(4.595) ├───────┼─────X────────────────\n",
       "«          └─────┬─────┘       │     │  ┌────────────┐\n",
       "« q_4: ──────────┼─────────────■─────┼──┤ Ry(5.6694) ├\n",
       "«                │             │     │  └────────────┘\n",
       "« q_5: ──────────┼─────────────■─────┼────────────────\n",
       "«                │             │     │                \n",
       "« q_6: ──────────┼─────────────┼─────┼────────────────\n",
       "«                │           ┌─┴──┐  │                \n",
       "« q_7: ──────────■───────────┤ Sx ├──┼────────────────\n",
       "«                            └────┘  │                \n",
       "« q_8: ──────────────────────────────┼────────────────\n",
       "«                                    │                \n",
       "« q_9: ──────────────────────────────X────────────────\n",
       "«                                                     \n",
       "«q_10: ───────────────────────────────────────────────\n",
       "«                                                     "
      ]
     },
     "execution_count": 37,
     "metadata": {},
     "output_type": "execute_result"
    }
   ],
   "source": [
    "from qiskit import QuantumCircuit\n",
    "from qiskit.circuit.library.standard_gates import C3SXGate, U2Gate, CU3Gate\n",
    "\n",
    "qc = QuantumCircuit(11)\n",
    "qc.h(0)\n",
    "qc.h(0)\n",
    "qc.h(1)\n",
    "qc.cx(0, 1)\n",
    "qc.ry(4.237744763533372, 2)\n",
    "qc.h(4)\n",
    "# qc.cu3(3.744741759224157, 4.84182524491286, 2.9687539868895922, 10, 9)\n",
    "qc.append(CU3Gate(3.744741759224157, 4.84182524491286,\n",
    "          2.9687539868895922), [10, 9])\n",
    "qc.cswap(10, 6, 8)\n",
    "qc.x(10)\n",
    "qc.crx(0.33702429296044073, 5, 3)\n",
    "qc.x(3)\n",
    "qc.crx(4.595031139687376, 7, 3)\n",
    "qc.append(C3SXGate(), [5, 4, 1, 7])\n",
    "qc.ry(5.669376893308966, 4)\n",
    "qc.cp(3.8559792421298966, 6, 9)\n",
    "qc.swap(3, 9)\n",
    "qc.t(1)\n",
    "qc.append(U2Gate(4.031122877773966, 0.5023290879741836), [0])\n",
    "qc.rz(4.700807149748632, 1)\n",
    "\n",
    "qc.draw()"
   ]
  },
  {
   "cell_type": "code",
   "execution_count": 38,
   "metadata": {},
   "outputs": [
    {
     "name": "stdout",
     "output_type": "stream",
     "text": [
      "OPENQASM 2.0;\n",
      "include \"qelib1.inc\";\n",
      "qreg q[11];\n",
      "ry(4.237744763533372) q[2];\n",
      "h q[4];\n",
      "cu3(3.744741759224157,4.84182524491286,2.9687539868895922) q[10],q[9];\n",
      "cswap q[10],q[6],q[8];\n",
      "x q[10];\n",
      "crx(0.33702429296044073) q[5],q[3];\n",
      "x q[3];\n",
      "crx(4.595031139687376) q[7],q[3];\n",
      "c3sqrtx q[5],q[4],q[1],q[7];\n",
      "ry(5.669376893308966) q[4];\n",
      "cp(3.8559792421298966) q[6],q[9];\n",
      "swap q[3],q[9];\n",
      "t q[1];\n",
      "u2(4.031122877773966,0.5023290879741836) q[9];\n",
      "rz(4.700807149748632) q[1];\n"
     ]
    }
   ],
   "source": [
    "TEST_PROGRAM = \"../program_bank/v037/2025_02_20__17_45/0000006_de436c.qasm\"\n",
    "\n",
    "# content of file\n",
    "print(Path(TEST_PROGRAM).read_text())"
   ]
  },
  {
   "cell_type": "code",
   "execution_count": 39,
   "metadata": {},
   "outputs": [
    {
     "data": {
      "text/plain": [
       "Circuit(11)\n",
       "\t[None, None, RYGate([4.237744763533372])@(2,), CRXGate([0.33702429296044073])@(5, 3), HGate@(4,), CRXGate([0.33702429296044073])@(5, 3), None, None, None, Controlled(U3Gate)([3.744741759224157, 4.84182524491286, 2.9687539868895922])@(10, 9), Controlled(U3Gate)([3.744741759224157, 4.84182524491286, 2.9687539868895922])@(10, 9)]\n",
       "\t[None, None, None, XGate@(3,), None, None, Controlled(SwapGate)@(10, 6, 8), None, Controlled(SwapGate)@(10, 6, 8), None, Controlled(SwapGate)@(10, 6, 8)]\n",
       "\t[None, None, None, CRXGate([4.595031139687376])@(7, 3), None, None, CPGate([3.8559792421298966])@(6, 9), CRXGate([4.595031139687376])@(7, 3), None, CPGate([3.8559792421298966])@(6, 9), XGate@(10,)]\n",
       "\t[None, Controlled(SqrtXGate)@(5, 4, 1, 7), None, SwapGate@(3, 9), Controlled(SqrtXGate)@(5, 4, 1, 7), Controlled(SqrtXGate)@(5, 4, 1, 7), None, Controlled(SqrtXGate)@(5, 4, 1, 7), None, SwapGate@(3, 9), None]\n",
       "\t[None, TGate@(1,), None, None, RYGate([5.669376893308966])@(4,), None, None, None, None, U2Gate([4.031122877773966, 0.5023290879741836])@(9,), None]\n",
       "\t[None, RZGate([4.700807149748632])@(1,), None, None, None, None, None, None, None, None, None]"
      ]
     },
     "execution_count": 39,
     "metadata": {},
     "output_type": "execute_result"
    }
   ],
   "source": [
    "from bqskit import Circuit\n",
    "\n",
    "qc_bqskit_qasm = Circuit.from_file(TEST_PROGRAM)\n",
    "qc_bqskit_qasm"
   ]
  },
  {
   "cell_type": "code",
   "execution_count": 40,
   "metadata": {},
   "outputs": [
    {
     "data": {
      "text/plain": [
       "Circuit(11)\n",
       "\t[None, None, RYGate([4.237744763533372])@(2,), CRXGate([0.33702429296044073])@(5, 3), HGate@(4,), CRXGate([0.33702429296044073])@(5, 3), None, None, None, Controlled(U3Gate)([3.744741759224157, 4.84182524491286, 2.9687539868895922])@(10, 9), Controlled(U3Gate)([3.744741759224157, 4.84182524491286, 2.9687539868895922])@(10, 9)]\n",
       "\t[None, None, None, XGate@(3,), None, None, Controlled(SwapGate)@(10, 6, 8), None, Controlled(SwapGate)@(10, 6, 8), None, Controlled(SwapGate)@(10, 6, 8)]\n",
       "\t[None, None, None, CRXGate([4.595031139687376])@(7, 3), None, None, CPGate([3.8559792421298966])@(6, 9), CRXGate([4.595031139687376])@(7, 3), None, CPGate([3.8559792421298966])@(6, 9), XGate@(10,)]\n",
       "\t[None, Controlled(SqrtXGate)@(5, 4, 1, 7), None, SwapGate@(3, 9), Controlled(SqrtXGate)@(5, 4, 1, 7), Controlled(SqrtXGate)@(5, 4, 1, 7), None, Controlled(SqrtXGate)@(5, 4, 1, 7), None, SwapGate@(3, 9), None]\n",
       "\t[None, TGate@(1,), None, None, RYGate([5.669376893308966])@(4,), None, None, None, None, U2Gate([4.031122877773966, 0.5023290879741836])@(9,), None]\n",
       "\t[None, RZGate([4.700807149748632])@(1,), None, None, None, None, None, None, None, None, None]"
      ]
     },
     "execution_count": 40,
     "metadata": {},
     "output_type": "execute_result"
    }
   ],
   "source": [
    "from qiskit.qasm2 import load, LEGACY_CUSTOM_INSTRUCTIONS\n",
    "from bqskit.ext import qiskit_to_bqskit\n",
    "qc_via_qiskit = load(\n",
    "    TEST_PROGRAM, custom_instructions=LEGACY_CUSTOM_INSTRUCTIONS)\n",
    "qc_bqskit_via_qiskit = qiskit_to_bqskit(qc_via_qiskit)\n",
    "qc_bqskit_via_qiskit"
   ]
  },
  {
   "cell_type": "code",
   "execution_count": 41,
   "metadata": {},
   "outputs": [
    {
     "data": {
      "text/plain": [
       "True"
      ]
     },
     "execution_count": 41,
     "metadata": {},
     "output_type": "execute_result"
    }
   ],
   "source": [
    "qc_bqskit_qasm == qc_bqskit_via_qiskit"
   ]
  },
  {
   "cell_type": "code",
   "execution_count": 50,
   "metadata": {},
   "outputs": [
    {
     "name": "stdout",
     "output_type": "stream",
     "text": [
      "     ┌───┐           ┌───┐                                         »\n",
      "q_0: ┤ H ├───────────┤ H ├───────────────────■─────────────────────»\n",
      "     ├───┤           └───┘                 ┌─┴─┐         ┌───┐     »\n",
      "q_1: ┤ H ├─────────────────────────────────┤ X ├─────────┤ T ├─────»\n",
      "     └───┘                                 └───┘         └───┘     »\n",
      "q_2: ──────────────────────────────────────────────────────────────»\n",
      "                                      ┌─────────────┐    ┌───┐     »\n",
      "q_3: ──────────────────■──────────────┤ Rx(0.33702) ├────┤ X ├─────»\n",
      "     ┌───┐             │              └──────┬──────┘┌───┴───┴────┐»\n",
      "q_4: ┤ H ├─────────────┼─────────────────────┼───────┤ Ry(5.6694) ├»\n",
      "     └───┘             │                     │       └────────────┘»\n",
      "q_5: ──────────────────┼─────────────────────■─────────────────────»\n",
      "                       │                                           »\n",
      "q_6: ──────────────────┼─────────────────────X─────────────────────»\n",
      "                       │                     │                     »\n",
      "q_7: ──────────────────┼─────────────────────┼─────────────────────»\n",
      "                       │                     │                     »\n",
      "q_8: ──────────────────┼─────────────────────X─────────────────────»\n",
      "          ┌────────────┴─────────────┐       │           ┌───┐     »\n",
      "q_9: ─────┤ U3(3.7447,4.8418,2.9688) ├───────■───────────┤ X ├─────»\n",
      "          └──────────────────────────┘                   └───┘     »\n",
      "«                      \n",
      "«q_0: ─────────────────\n",
      "«     ┌────────────┐   \n",
      "«q_1: ┤ Rz(4.7008) ├───\n",
      "«     └────────────┘   \n",
      "«q_2: ─────────────────\n",
      "«     ┌───────────┐    \n",
      "«q_3: ┤ Rx(4.595) ├──X─\n",
      "«     └─────┬─────┘  │ \n",
      "«q_4: ──────┼────────┼─\n",
      "«           │        │ \n",
      "«q_5: ──────┼────────┼─\n",
      "«           │        │ \n",
      "«q_6: ──────┼────────┼─\n",
      "«           │        │ \n",
      "«q_7: ──────■────────┼─\n",
      "«                    │ \n",
      "«q_8: ───────────────┼─\n",
      "«                    │ \n",
      "«q_9: ───────────────X─\n",
      "«                      \n"
     ]
    },
    {
     "data": {
      "text/plain": [
       "Circuit(10)\n",
       "\t[U3Gate([2.4233767764017036e-16, 0.0, -1.2246467991473532e-16])@(0,), U3Gate([1.5707963267948966, 0.0, 3.141592653589793])@(1,), None, U3Gate([1.5707963268098035, 4.140765103411197, -0.05978914865507701])@(3,), U3Gate([0.9569879129242762, 0.0, -3.141592653589793])@(4,), U3Gate([1.0235549993480946, 1.5707963288293079, 0.3531517454650558])@(5,), U3Gate([2.082697361439754, -2.5688443637276372, 3.4541331349953697])@(6,), U3Gate([4.7123889802481935, 3.141592652759739, 1.8445831942908695])@(7,), U3Gate([2.393056761213169, 0.8034369711929426, -0.608633790498627])@(8,), U3Gate([2.0661407400638314, 1.3294084945394518, 2.0885650787783963])@(9,)]\n",
       "\t[CNOTGate@(0, 1), CNOTGate@(0, 1), None, CNOTGate@(3, 9), None, None, CNOTGate@(6, 8), None, CNOTGate@(6, 8), CNOTGate@(3, 9)]\n",
       "\t[U3Gate([0.0, 0.0, 0.0])@(0,), U3Gate([0.0, 2.7431026565730403, 2.7431026565730403])@(1,), None, U3Gate([1.354579813324752, 3.6100260581121706, 0.5716238769825637])@(3,), None, None, U3Gate([0.7853981633974348, 1.570796326792901, 0.0])@(6,), None, U3Gate([2.3561944896998757, -2.3368464058013457e-11, -3.3047998818945964e-11])@(8,), U3Gate([3.1415926535877334, -2.8946318569053444, 0.24696079668445026])@(9,)]\n",
       "\t[None, None, None, CNOTGate@(3, 9), None, None, None, None, None, CNOTGate@(3, 9)]\n",
       "\t[None, None, None, U3Gate([2.318106539968996, 0.22193813705044851, -3.6100260525028065])@(3,), None, None, None, None, None, U3Gate([1.2123506652317255, 3.130151000343175, -0.8956589341415542])@(9,)]\n",
       "\t[None, None, None, CNOTGate@(3, 5), None, CNOTGate@(3, 5), None, None, None, U3Gate([0.0, 0.0, 0.0])@(9,)]\n",
       "\t[None, None, None, U3Gate([3.1415926535897287, 2.9309814378312016, -3.0354199875866357])@(3,), None, U3Gate([2.1180376542283392, 4.543876833949467, -1.570796326748729])@(5,), CNOTGate@(6, 9), None, None, CNOTGate@(6, 9)]\n",
       "\t[None, None, None, CNOTGate@(3, 5), None, CNOTGate@(3, 5), U3Gate([1.570796326794564, 5.497787143782162, 0.0])@(6,), None, None, U3Gate([2.677819362759854, -1.5707963267948908, 1.5707963267949019])@(9,)]\n",
       "\t[None, None, None, U3Gate([1.5707963293050453, 3.8161358493236124, -0.8635621680039769])@(3,), None, U3Gate([1.7221799770847422e-09, -1.9161075158511434, -3.14943321104076])@(5,), CNOTGate@(6, 8), None, CNOTGate@(6, 8), None]\n",
       "\t[None, None, None, CNOTGate@(3, 7), None, None, U3Gate([1.5707963267940608, 1.570796326795366, -1.1102230246251565e-16])@(6,), CNOTGate@(3, 7), U3Gate([0.7853981633970883, -2.0823601569040866e-11, 2.944867337395816e-11])@(8,), None]\n",
       "\t[None, None, None, U3Gate([0.8440770837460494, 9.256376348646326, -2.2453395194343293])@(3,), None, None, None, U3Gate([2.737359201073583, 4.712388971904938, 1.5707963183151443])@(7,), CNOTGate@(8, 9), CNOTGate@(8, 9)]\n",
       "\t[None, None, None, CNOTGate@(3, 7), None, None, None, CNOTGate@(3, 7), U3Gate([2.3561944901923657, 1.5707963268099372, 3.141592653589793])@(8,), U3Gate([0.6163186611329149, -1.5707963267948963, -1.5707963267948968])@(9,)]\n",
       "\t[None, None, None, U3Gate([5.018897951870221, 1.027140022221692, 9.897299177160304])@(3,), None, None, CNOTGate@(6, 8), U3Gate([4.712388980248165, 1.7012429116909278, 6.283185306349559])@(7,), CNOTGate@(6, 8), None]\n",
       "\t[None, None, None, None, None, None, U3Gate([0.7853981633973455, -3.058118374266706, 3.141592653589793])@(6,), None, U3Gate([1.5707963267960083, -1.199040866595169e-14, 6.272788815397391])@(8,), None]\n",
       "\t[None, None, None, None, None, None, CNOTGate@(6, 9), None, None, CNOTGate@(6, 9)]\n",
       "\t[None, None, None, None, None, None, U3Gate([3.1415926530973564, -3.861555345453617, 0.0])@(6,), None, None, U3Gate([0.9732857809478691, 3.668062237449725, -0.19036567744888933])@(9,)]\n",
       "\t[None, None, None, CNOTGate@(3, 9), None, None, CNOTGate@(6, 8), None, CNOTGate@(6, 8), CNOTGate@(3, 9)]\n",
       "\t[None, None, None, U3Gate([4.712388980384712, 4.664817256298117, 0.35466271868567734])@(3,), None, None, U3Gate([2.3930567612167932, -2.5329588630841906, 0.0])@(6,), None, U3Gate([2.385809290119746, -2.522048673496792, -2.366266423851266])@(8,), U3Gate([3.521970064162027, 4.855976747822112, 0.1334507662200491])@(9,)]\n",
       "\t[None, None, None, CNOTGate@(3, 9), None, None, None, None, None, CNOTGate@(3, 9)]\n",
       "\t[None, None, None, U3Gate([1.570796326794806, 2.921087054811273, 1.6183680506275386])@(3,), None, None, None, None, None, U3Gate([1.2823504591500243, 1.1768593316536673, 3.2592872436796223])@(9,)]\n",
       "\t[None, None, None, CNOTGate@(3, 9), None, None, None, None, None, CNOTGate@(3, 9)]\n",
       "\t[None, None, None, U3Gate([4.783146868466457, 4.250275926027919, 4.3213495666490225])@(3,), None, None, None, None, None, U3Gate([5.523817822555118, 1.208322460840956, 2.0190913304980955])@(9,)]"
      ]
     },
     "execution_count": 50,
     "metadata": {},
     "output_type": "execute_result"
    }
   ],
   "source": [
    "from bqskit import compile\n",
    "from bqskit.compiler import Compiler, Workflow\n",
    "from bqskit.passes import (\n",
    "    AutoRebase2QuditGatePass,\n",
    "    QuickPartitioner,\n",
    "    ScanningGateRemovalPass,\n",
    "    UnfoldPass,\n",
    "    ExhaustiveGateRemovalPass\n",
    ")\n",
    "\n",
    "from qiskit import QuantumCircuit\n",
    "from qiskit.circuit.library.standard_gates import C3SXGate, U2Gate, CU3Gate\n",
    "\n",
    "qc = QuantumCircuit(10)\n",
    "qc.h(0)\n",
    "qc.h(0)\n",
    "qc.h(1)\n",
    "qc.cx(0, 1)\n",
    "# qc.ry(4.237744763533372, 2)\n",
    "qc.h(4)\n",
    "# qc.cu3(3.744741759224157, 4.84182524491286, 2.9687539868895922, 3, 9)\n",
    "qc.append(CU3Gate(3.744741759224157, 4.84182524491286,\n",
    "                  2.9687539868895922), [3, 9])\n",
    "qc.cswap(9, 6, 8)\n",
    "qc.x(9)\n",
    "qc.crx(0.33702429296044073, 5, 3)\n",
    "qc.x(3)\n",
    "qc.crx(4.595031139687376, 7, 3)\n",
    "# qc.append(C3SXGate(), [5, 4, 1, 7])\n",
    "qc.ry(5.669376893308966, 4)\n",
    "# qc.cp(3.8559792421298966, 6, 9)\n",
    "qc.swap(3, 9)\n",
    "qc.t(1)\n",
    "# qc.append(U2Gate(4.031122877773966, 0.5023290879741836), [0])\n",
    "qc.rz(4.700807149748632, 1)\n",
    "print(qc.draw())\n",
    "\n",
    "qc_bqskit = qiskit_to_bqskit(qc)\n",
    "\n",
    "workflow = Workflow(\n",
    "    passes=[\n",
    "        QuickPartitioner(),\n",
    "        ScanningGateRemovalPass(),\n",
    "        # UnfoldPass(),\n",
    "        # ExhaustiveGateRemovalPass(),\n",
    "        # AutoRebase2QuditGatePass()\n",
    "    ]\n",
    ")\n",
    "\n",
    "# with Compiler() as compiler:\n",
    "# compiled_circuit = compiler.compile(qc_bqskit, workflow)\n",
    "compiled_circuit = compile(qc_bqskit, optimization_level=1)\n",
    "\n",
    "\n",
    "compiled_circuit"
   ]
  },
  {
   "cell_type": "code",
   "execution_count": null,
   "metadata": {},
   "outputs": [],
   "source": []
  }
 ],
 "metadata": {
  "kernelspec": {
   "display_name": "Python 3",
   "language": "python",
   "name": "python3"
  },
  "language_info": {
   "codemirror_mode": {
    "name": "ipython",
    "version": 3
   },
   "file_extension": ".py",
   "mimetype": "text/x-python",
   "name": "python",
   "nbconvert_exporter": "python",
   "pygments_lexer": "ipython3",
   "version": "3.10.14"
  }
 },
 "nbformat": 4,
 "nbformat_minor": 2
}
