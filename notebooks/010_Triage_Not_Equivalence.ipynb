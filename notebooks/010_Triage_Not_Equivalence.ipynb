{
 "cells": [
  {
   "cell_type": "code",
   "execution_count": null,
   "metadata": {
    "tags": [
     "parameters"
    ]
   },
   "outputs": [],
   "source": [
    "PATH_QASM_A = \"artifacts/test_a.qasm\"\n",
    "PATH_QASM_B = None  # \"artifacts/test_b.qasm\"\n",
    "\n",
    "PATH_PYTHON_FILE = \"artifacts/file.py\""
   ]
  },
  {
   "cell_type": "code",
   "execution_count": null,
   "metadata": {},
   "outputs": [],
   "source": [
    "# UNCOMMENT TO RUN WITH FILE IN THE CURRENT FOLDER\n",
    "# consider all the imports relative to the current folder\n",
    "\n",
    "# from pathlib import Path\n",
    "# PATH_QASM_A = str(Path(PATH_QASM_A).name)\n",
    "# PATH_QASM_B = str(Path(PATH_QASM_B).name)\n",
    "# PATH_PYTHON_FILE = str(Path(PATH_PYTHON_FILE).name)"
   ]
  },
  {
   "cell_type": "markdown",
   "metadata": {},
   "source": [
    "## File Content"
   ]
  },
  {
   "cell_type": "code",
   "execution_count": 25,
   "metadata": {},
   "outputs": [
    {
     "name": "stdout",
     "output_type": "stream",
     "text": [
      "\u001b[32mFilename: \u001b[0m artifacts/test_a.qasm\n",
      "\u001b[32mOPENQASM 2.0;\n",
      "include \"qelib1.inc\";\n",
      "\n",
      "qreg a[2];\n",
      "qreg b[2];\n",
      "qreg cin[1];\n",
      "cx a[0],b[0];\n",
      "\u001b[0m\n",
      "\n",
      "\n",
      "\u001b[35mFilename: \u001b[0m artifacts/file.py\n",
      "\u001b[35m\n",
      "\n",
      "qc = qasm2.loads(\n",
      "\"\"\"\n",
      "include \"qelib1.inc\";\n",
      "qreg cin[1];\n",
      "qreg a[2];\n",
      "qreg b[2];\n",
      "cx a[0],b[0];\n",
      "\"\"\"\n",
      "    , custom_instructions=qasm2.LEGACY_CUSTOM_INSTRUCTIONS)\n",
      "\n",
      "\u001b[0m\n",
      "\n",
      "\n"
     ]
    }
   ],
   "source": [
    "from termcolor import colored\n",
    "\n",
    "\n",
    "def extract_between_tags(content: str, start_tag: str, end_tag: str) -> str:\n",
    "    start_index = content.find(start_tag) + len(start_tag)\n",
    "    end_index = content.find(end_tag)\n",
    "    return content[start_index:end_index]\n",
    "\n",
    "\n",
    "def print_and_return_content(\n",
    "        file_name, color: str, start_tag: str = None, end_tag: str = None) -> str:\n",
    "    print(colored(\"Filename: \", color), file_name)\n",
    "    with open(file_name, \"r\") as f:\n",
    "        content = f.read()\n",
    "        if start_tag and end_tag:\n",
    "            content = extract_between_tags(content, start_tag, end_tag)\n",
    "        print(colored(content, color))\n",
    "    print(\"\\n\")\n",
    "    return content\n",
    "\n",
    "\n",
    "qasm_a_str = print_and_return_content(PATH_QASM_A, color=\"green\")\n",
    "if PATH_QASM_B:\n",
    "    qasm_b_str = print_and_return_content(PATH_QASM_B, color=\"blue\")\n",
    "\n",
    "py_file_str = print_and_return_content(\n",
    "    PATH_PYTHON_FILE, color=\"magenta\", start_tag=\"# <START_GATES>\",\n",
    "    end_tag=\"import os\")"
   ]
  },
  {
   "cell_type": "markdown",
   "metadata": {},
   "source": [
    "## Circuit Diagram"
   ]
  },
  {
   "cell_type": "code",
   "execution_count": 26,
   "metadata": {},
   "outputs": [
    {
     "name": "stdout",
     "output_type": "stream",
     "text": [
      "          \n",
      "a_0: ──■──\n",
      "       │  \n",
      "a_1: ──┼──\n",
      "     ┌─┴─┐\n",
      "b_0: ┤ X ├\n",
      "     └───┘\n",
      "b_1: ─────\n",
      "          \n",
      "cin: ─────\n",
      "          \n"
     ]
    }
   ],
   "source": [
    "from qiskit.qasm2 import load\n",
    "from qiskit import qasm2\n",
    "\n",
    "circuit_a = load(\n",
    "    PATH_QASM_A, custom_instructions=qasm2.LEGACY_CUSTOM_INSTRUCTIONS)\n",
    "print(circuit_a)\n",
    "if PATH_QASM_B:\n",
    "    circuit_b = load(\n",
    "        PATH_QASM_B, custom_instructions=qasm2.LEGACY_CUSTOM_INSTRUCTIONS)\n",
    "    print(circuit_b)"
   ]
  },
  {
   "cell_type": "markdown",
   "metadata": {},
   "source": [
    "## Compare Semantics"
   ]
  },
  {
   "cell_type": "markdown",
   "metadata": {},
   "source": [
    "### QCEC Oracle"
   ]
  },
  {
   "cell_type": "code",
   "execution_count": 27,
   "metadata": {},
   "outputs": [],
   "source": [
    "from mqt import qcec\n",
    "if PATH_QASM_B:\n",
    "    res = qcec.verify(\n",
    "        PATH_QASM_A, PATH_QASM_B,\n",
    "        transform_dynamic_circuit=True)\n",
    "    print(colored(f\"QCEC result: {res.equivalence}\", \"magenta\"))\n",
    "    print(res)"
   ]
  },
  {
   "cell_type": "markdown",
   "metadata": {},
   "source": [
    "### Simulation (Qiskit)"
   ]
  },
  {
   "cell_type": "code",
   "execution_count": null,
   "metadata": {},
   "outputs": [
    {
     "name": "stdout",
     "output_type": "stream",
     "text": [
      "\u001b[32martifacts/test_a.qasm\u001b[0m\n",
      "\u001b[32mStatevector A: \u001b[0m Statevector([1.+0.j, 0.+0.j, 0.+0.j, 0.+0.j, 0.+0.j, 0.+0.j, 0.+0.j,\n",
      "             0.+0.j, 0.+0.j, 0.+0.j, 0.+0.j, 0.+0.j, 0.+0.j, 0.+0.j,\n",
      "             0.+0.j, 0.+0.j, 0.+0.j, 0.+0.j, 0.+0.j, 0.+0.j, 0.+0.j,\n",
      "             0.+0.j, 0.+0.j, 0.+0.j, 0.+0.j, 0.+0.j, 0.+0.j, 0.+0.j,\n",
      "             0.+0.j, 0.+0.j, 0.+0.j, 0.+0.j],\n",
      "            dims=(2, 2, 2, 2, 2))\n",
      "\u001b[34martifacts/test_b.qasm\u001b[0m\n",
      "\u001b[34mStatevector B: \u001b[0m Statevector([1.+0.j, 0.+0.j, 0.+0.j, 0.+0.j, 0.+0.j, 0.+0.j, 0.+0.j,\n",
      "             0.+0.j, 0.+0.j, 0.+0.j, 0.+0.j, 0.+0.j, 0.+0.j, 0.+0.j,\n",
      "             0.+0.j, 0.+0.j, 0.+0.j, 0.+0.j, 0.+0.j, 0.+0.j, 0.+0.j,\n",
      "             0.+0.j, 0.+0.j, 0.+0.j, 0.+0.j, 0.+0.j, 0.+0.j, 0.+0.j,\n",
      "             0.+0.j, 0.+0.j, 0.+0.j, 0.+0.j],\n",
      "            dims=(2, 2, 2, 2, 2))\n",
      "\u001b[32martifacts/test_a.qasm\u001b[0m\n",
      "\u001b[32mProbabilities A: \u001b[0m {'00000': 1.0}\n",
      "\u001b[34martifacts/test_b.qasm\u001b[0m\n",
      "\u001b[34mProbabilities B: \u001b[0m {'00000': 1.0}\n"
     ]
    }
   ],
   "source": [
    "from qiskit.quantum_info import Statevector\n",
    "\n",
    "sv_a = Statevector.from_instruction(circuit_a)\n",
    "print(colored(PATH_QASM_A, \"green\"))\n",
    "print(colored(\"Statevector A: \", \"green\"), sv_a)\n",
    "\n",
    "if PATH_QASM_B:\n",
    "    sv_b = Statevector.from_instruction(circuit_b)\n",
    "    print(colored(PATH_QASM_B, \"blue\"))\n",
    "    print(colored(\"Statevector B: \", \"blue\"), sv_b)\n",
    "\n",
    "# compare the statevectors\n",
    "probabilities_a = sv_a.probabilities_dict()\n",
    "print(colored(PATH_QASM_A, \"green\"))\n",
    "print(colored(\"Probabilities A: \", \"green\"), probabilities_a)\n",
    "if PATH_QASM_B:\n",
    "    probabilities_b = sv_b.probabilities_dict()\n",
    "    print(colored(PATH_QASM_B, \"blue\"))\n",
    "    print(colored(\"Probabilities B: \", \"blue\"), probabilities_b)"
   ]
  },
  {
   "cell_type": "code",
   "execution_count": null,
   "metadata": {},
   "outputs": [],
   "source": []
  }
 ],
 "metadata": {
  "kernelspec": {
   "display_name": "crosspl",
   "language": "python",
   "name": "python3"
  },
  "language_info": {
   "codemirror_mode": {
    "name": "ipython",
    "version": 3
   },
   "file_extension": ".py",
   "mimetype": "text/x-python",
   "name": "python",
   "nbconvert_exporter": "python",
   "pygments_lexer": "ipython3",
   "version": "3.10.14"
  }
 },
 "nbformat": 4,
 "nbformat_minor": 2
}
